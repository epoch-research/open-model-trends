{
  "cells": [
    {
      "cell_type": "code",
      "execution_count": 1,
      "metadata": {
        "id": "z2fPIb6IKqjE"
      },
      "outputs": [],
      "source": [
        "from collections import defaultdict\n",
        "import numpy as np\n",
        "import os\n",
        "import pandas as pd\n",
        "import plotly.graph_objects as go\n",
        "from plotly.subplots import make_subplots\n",
        "import random\n",
        "from scipy import stats\n",
        "import statsmodels.api as sm\n",
        "from tqdm import tqdm\n",
        "\n",
        "from plotting import *"
      ]
    },
    {
      "cell_type": "code",
      "execution_count": 2,
      "metadata": {},
      "outputs": [],
      "source": [
        "results_dir = 'results/org_analysis/Sep18/'\n",
        "os.makedirs(results_dir, exist_ok=True)\n",
        "\n",
        "filepath = \"data/ML Systems-Org view.csv\"\n",
        "\n",
        "cutoff_date = '2018-01-01'"
      ]
    },
    {
      "cell_type": "code",
      "execution_count": 3,
      "metadata": {},
      "outputs": [],
      "source": [
        "# Set random seed for reproducibility\n",
        "np.random.seed(42)\n",
        "random.seed(42)"
      ]
    },
    {
      "cell_type": "markdown",
      "metadata": {},
      "source": [
        "# Functions"
      ]
    },
    {
      "cell_type": "code",
      "execution_count": 4,
      "metadata": {},
      "outputs": [],
      "source": [
        "def is_open(accessibility):\n",
        "    return accessibility.startswith('Open') if isinstance(accessibility, str) else False\n",
        "\n",
        "\n",
        "def compare_org_openness_with_compute(df, grouping_column):\n",
        "    df = df[pd.to_datetime(df['Publication date']) >= pd.to_datetime(cutoff_date)].copy()\n",
        "    df.loc[:, 'is_open_model'] = df['Model accessibility'].apply(is_open)\n",
        "    df.loc[:, 'is_open_code'] = df['Code accessibility'].apply(is_open)\n",
        "    df.loc[:, 'log_compute'] = np.log10(df['Training compute (FLOP)'])\n",
        "\n",
        "    # Group by organization and get the stats\n",
        "    org_stats = df.groupby(grouping_column).agg({\n",
        "        'log_compute': ['max', 'mean'],\n",
        "        'is_open_model': ['mean'],\n",
        "        'is_open_code': ['mean', 'count'],\n",
        "    }).reset_index()\n",
        "\n",
        "    # Flatten the multi-level column index and rename columns\n",
        "    org_stats.columns = [grouping_column, 'Max Training Compute (FLOP)', 'Average Training Compute (FLOP)', 'open_model_percentage', 'open_code_percentage', 'model_count']\n",
        "    org_stats['open_model_percentage'] = org_stats['open_model_percentage'] * 100\n",
        "    org_stats['open_code_percentage'] = org_stats['open_code_percentage'] * 100\n",
        "\n",
        "    # Sort by the most compute-intensive model (descending) and reset index\n",
        "    result = org_stats.sort_values('Max Training Compute (FLOP)', ascending=False).reset_index(drop=True)\n",
        "    return result"
      ]
    },
    {
      "cell_type": "code",
      "execution_count": 5,
      "metadata": {},
      "outputs": [],
      "source": [
        "def bootstrap_openness(df, grouping_column, n_iterations=10000):\n",
        "    results = defaultdict(list)\n",
        "    \n",
        "    for _ in tqdm(range(n_iterations)):\n",
        "        # Resample with replacement\n",
        "        bootstrap_sample = df.sample(n=len(df), replace=True)\n",
        "        \n",
        "        # Calculate openness for this sample\n",
        "        sample_results = compare_org_openness_with_compute(bootstrap_sample, grouping_column)\n",
        "        \n",
        "        for _, row in sample_results.iterrows():\n",
        "            results[row[grouping_column]].append({\n",
        "                'open_model_percentage': row['open_model_percentage'],\n",
        "                'open_code_percentage': row['open_code_percentage']\n",
        "            })\n",
        "    \n",
        "    return results\n",
        "\n",
        "\n",
        "def compare_entities_on_openness(results, entity1, entity2, metric='open_model'):\n",
        "    values1 = [v[f'{metric}_percentage'] for v in results[entity1]]\n",
        "    values2 = [v[f'{metric}_percentage'] for v in results[entity2]]\n",
        "    values1_ci = np.percentile(values1, [5, 95])\n",
        "    values2_ci = np.percentile(values2, [5, 95])\n",
        "    _, p_value = stats.ttest_ind(values1, values2)\n",
        "\n",
        "    print(f\"{metric} percentage\")\n",
        "    print(f\"{entity1}: {np.mean(values1):.2f}% (90% CI: {values1_ci[0]:.2f} to {values1_ci[1]:.2f})\")\n",
        "    print(f\"{entity2}: {np.mean(values2):.2f}% (90% CI: {values2_ci[0]:.2f} to {values2_ci[1]:.2f})\")\n",
        "    print(f\"p-value for difference between {entity1} and {entity2}: {p_value}\")"
      ]
    },
    {
      "cell_type": "markdown",
      "metadata": {},
      "source": [
        "# Openness by affiliation"
      ]
    },
    {
      "cell_type": "code",
      "execution_count": 6,
      "metadata": {},
      "outputs": [],
      "source": [
        "df = pd.read_csv(filepath)"
      ]
    },
    {
      "cell_type": "code",
      "execution_count": 7,
      "metadata": {
        "colab": {
          "base_uri": "https://localhost:8080/",
          "height": 481
        },
        "id": "TyF8JrAigrLI",
        "outputId": "15c8ffb3-2b58-4cdb-a400-01fdb8c67c11"
      },
      "outputs": [
        {
          "data": {
            "text/html": [
              "<div>\n",
              "<style scoped>\n",
              "    .dataframe tbody tr th:only-of-type {\n",
              "        vertical-align: middle;\n",
              "    }\n",
              "\n",
              "    .dataframe tbody tr th {\n",
              "        vertical-align: top;\n",
              "    }\n",
              "\n",
              "    .dataframe thead th {\n",
              "        text-align: right;\n",
              "    }\n",
              "</style>\n",
              "<table border=\"1\" class=\"dataframe\">\n",
              "  <thead>\n",
              "    <tr style=\"text-align: right;\">\n",
              "      <th></th>\n",
              "      <th>System</th>\n",
              "      <th>Publication date</th>\n",
              "      <th>Notability criteria</th>\n",
              "      <th>Link</th>\n",
              "      <th>Model accessibility</th>\n",
              "      <th>Code accessibility</th>\n",
              "      <th>Training dataset</th>\n",
              "      <th>Dataset accessibility</th>\n",
              "      <th>Accessibility notes</th>\n",
              "      <th>Organization</th>\n",
              "      <th>Training compute (FLOP)</th>\n",
              "      <th>Country (from Organization)</th>\n",
              "      <th>Organization categorization</th>\n",
              "    </tr>\n",
              "  </thead>\n",
              "  <tbody>\n",
              "    <tr>\n",
              "      <th>0</th>\n",
              "      <td>Grok-2</td>\n",
              "      <td>2024-08-13</td>\n",
              "      <td>NaN</td>\n",
              "      <td>https://x.ai/blog/grok-2</td>\n",
              "      <td>Hosted access (no API)</td>\n",
              "      <td>Unreleased</td>\n",
              "      <td>NaN</td>\n",
              "      <td>NaN</td>\n",
              "      <td>NaN</td>\n",
              "      <td>xAI</td>\n",
              "      <td>NaN</td>\n",
              "      <td>United States of America</td>\n",
              "      <td>Industry</td>\n",
              "    </tr>\n",
              "    <tr>\n",
              "      <th>1</th>\n",
              "      <td>Grok-2 mini</td>\n",
              "      <td>2024-08-13</td>\n",
              "      <td>NaN</td>\n",
              "      <td>https://x.ai/blog/grok-2</td>\n",
              "      <td>Hosted access (no API)</td>\n",
              "      <td>Unreleased</td>\n",
              "      <td>NaN</td>\n",
              "      <td>NaN</td>\n",
              "      <td>NaN</td>\n",
              "      <td>xAI</td>\n",
              "      <td>NaN</td>\n",
              "      <td>United States of America</td>\n",
              "      <td>Industry</td>\n",
              "    </tr>\n",
              "    <tr>\n",
              "      <th>2</th>\n",
              "      <td>Cosine Genie</td>\n",
              "      <td>2024-08-12</td>\n",
              "      <td>NaN</td>\n",
              "      <td>https://cosine.sh/blog/genie-technical-report</td>\n",
              "      <td>Unreleased</td>\n",
              "      <td>NaN</td>\n",
              "      <td>Unspecified unreleased</td>\n",
              "      <td>NaN</td>\n",
              "      <td>https://github.com/CosineAI/experiments/tree/c...</td>\n",
              "      <td>Cosine</td>\n",
              "      <td>NaN</td>\n",
              "      <td>United Kingdom of Great Britain and Northern I...</td>\n",
              "      <td>Industry</td>\n",
              "    </tr>\n",
              "    <tr>\n",
              "      <th>3</th>\n",
              "      <td>EXAONE 3.0</td>\n",
              "      <td>2024-08-07</td>\n",
              "      <td>NaN</td>\n",
              "      <td>https://arxiv.org/abs/2408.03541</td>\n",
              "      <td>Open access (non-commercial)</td>\n",
              "      <td>NaN</td>\n",
              "      <td>Unspecified unreleased</td>\n",
              "      <td>NaN</td>\n",
              "      <td>NaN</td>\n",
              "      <td>LG</td>\n",
              "      <td>4.000000e+23</td>\n",
              "      <td>Korea (Republic of)</td>\n",
              "      <td>Industry</td>\n",
              "    </tr>\n",
              "    <tr>\n",
              "      <th>4</th>\n",
              "      <td>Flux.1 [pro]</td>\n",
              "      <td>2024-08-01</td>\n",
              "      <td>NaN</td>\n",
              "      <td>https://blackforestlabs.ai/announcing-black-fo...</td>\n",
              "      <td>API access</td>\n",
              "      <td>Unreleased</td>\n",
              "      <td>NaN</td>\n",
              "      <td>Unreleased</td>\n",
              "      <td>NaN</td>\n",
              "      <td>Black Forest Labs</td>\n",
              "      <td>NaN</td>\n",
              "      <td>NaN</td>\n",
              "      <td>NaN</td>\n",
              "    </tr>\n",
              "  </tbody>\n",
              "</table>\n",
              "</div>"
            ],
            "text/plain": [
              "         System Publication date Notability criteria  \\\n",
              "0        Grok-2       2024-08-13                 NaN   \n",
              "1   Grok-2 mini       2024-08-13                 NaN   \n",
              "2  Cosine Genie       2024-08-12                 NaN   \n",
              "3    EXAONE 3.0       2024-08-07                 NaN   \n",
              "4  Flux.1 [pro]       2024-08-01                 NaN   \n",
              "\n",
              "                                                Link  \\\n",
              "0                           https://x.ai/blog/grok-2   \n",
              "1                           https://x.ai/blog/grok-2   \n",
              "2      https://cosine.sh/blog/genie-technical-report   \n",
              "3                   https://arxiv.org/abs/2408.03541   \n",
              "4  https://blackforestlabs.ai/announcing-black-fo...   \n",
              "\n",
              "            Model accessibility Code accessibility        Training dataset  \\\n",
              "0        Hosted access (no API)         Unreleased                     NaN   \n",
              "1        Hosted access (no API)         Unreleased                     NaN   \n",
              "2                    Unreleased                NaN  Unspecified unreleased   \n",
              "3  Open access (non-commercial)                NaN  Unspecified unreleased   \n",
              "4                    API access         Unreleased                     NaN   \n",
              "\n",
              "  Dataset accessibility                                Accessibility notes  \\\n",
              "0                   NaN                                                NaN   \n",
              "1                   NaN                                                NaN   \n",
              "2                   NaN  https://github.com/CosineAI/experiments/tree/c...   \n",
              "3                   NaN                                                NaN   \n",
              "4            Unreleased                                                NaN   \n",
              "\n",
              "        Organization  Training compute (FLOP)  \\\n",
              "0                xAI                      NaN   \n",
              "1                xAI                      NaN   \n",
              "2             Cosine                      NaN   \n",
              "3                 LG             4.000000e+23   \n",
              "4  Black Forest Labs                      NaN   \n",
              "\n",
              "                         Country (from Organization)  \\\n",
              "0                           United States of America   \n",
              "1                           United States of America   \n",
              "2  United Kingdom of Great Britain and Northern I...   \n",
              "3                                Korea (Republic of)   \n",
              "4                                                NaN   \n",
              "\n",
              "  Organization categorization  \n",
              "0                    Industry  \n",
              "1                    Industry  \n",
              "2                    Industry  \n",
              "3                    Industry  \n",
              "4                         NaN  "
            ]
          },
          "execution_count": 7,
          "metadata": {},
          "output_type": "execute_result"
        }
      ],
      "source": [
        "df.head()"
      ]
    },
    {
      "cell_type": "code",
      "execution_count": 8,
      "metadata": {
        "colab": {
          "base_uri": "https://localhost:8080/"
        },
        "id": "B6h2w0Eac3_2",
        "outputId": "7eb9db7f-f46e-4b14-ff8c-3ded11a52f47"
      },
      "outputs": [
        {
          "data": {
            "text/plain": [
              "array(['xAI', 'Cosine', 'LG', 'Black Forest Labs', 'Apple',\n",
              "       'Google DeepMind', 'Mistral AI', 'Meta AI', 'OpenAI', 'Alibaba',\n",
              "       'EvolutionaryScale,UC Berkeley', 'Anthropic', 'Zhipu AI',\n",
              "       'Zhipu AI,Tsinghua University', 'DeepSeek', 'Runway', 'NVIDIA',\n",
              "       'Stanford University,UC Berkeley,Toyota Research Institute,Google DeepMind,Massachusetts Institute of Technology (MIT),Physical Intelligence',\n",
              "       'Microsoft,University of Illinois Urbana-Champaign (UIUC)',\n",
              "       'Facebook AI Research', 'Columbia University,Rutgers University',\n",
              "       '01.AI',\n",
              "       'Tohoku University,CyberAgent,Tokyo Institute of Technology,Fujitsu,RIKEN,Nagoya University,Kotoba Technologies',\n",
              "       'Technology Innovation Institute', 'Tokyo Institute of Technology',\n",
              "       'Microsoft', 'SenseTime', 'Sber', 'Reka AI',\n",
              "       'NTT Communication Science Laboratories', 'Stability AI', 'Yandex',\n",
              "       'Cohere,Cohere for AI', 'Silo AI,University of Turku',\n",
              "       'Google DeepMind,McGill University,Mila - Quebec AI (originally Montreal Institute for Learning Algorithms)',\n",
              "       'Georgia Institute of Technology', 'AI21 Labs', 'Databricks',\n",
              "       'University of Maryland,Microsoft', 'Inflection AI',\n",
              "       'ByteDance,Fudan University',\n",
              "       'Hugging Face,ServiceNow,NVIDIA,BigCode', 'UC Berkeley',\n",
              "       'Stanford University,UC Berkeley,Together', 'Google',\n",
              "       'ByteDance,Peking University',\n",
              "       'Cohere for AI,Brown University,Cohere,Carnegie Mellon University (CMU),Massachusetts Institute of Technology (MIT)',\n",
              "       'DeepMind', 'Allen Institute for AI,University of Washington',\n",
              "       'University of Wisconsin Madison,ByteDance,Nanyang Technological University,UC Berkeley',\n",
              "       'Beijing Academy of Artificial Intelligence / BAAI',\n",
              "       'KARAKURI Inc.', 'Adept',\n",
              "       'Google Research,Weizmann Institute of Science,Tel Aviv University,Technion - Israel Institute of Technology',\n",
              "       'Google DeepMind,New York University (NYU)', 'Deci AI',\n",
              "       'Shanghai AI Lab,SenseTime,Chinese University of Hong Kong (CUHK),Fudan University',\n",
              "       'Meta AI,Hebrew University of Jerusalem,Kyutai', 'Lightblue',\n",
              "       'Tsinghua University', 'Elyza', 'Upstage',\n",
              "       'Google Research,Carnegie Mellon University (CMU),Google DeepMind',\n",
              "       'LightOn', 'Konan Technology',\n",
              "       'High-Performance Language Technologies (HPLT),University of Turku',\n",
              "       'Tsinghua University,Zhipu AI',\n",
              "       'XVERSE Technology,Shenzhen Yuanxiang Technology',\n",
              "       'Facebook,INRIA,UC Berkeley',\n",
              "       'Chinese University of Hong Kong (CUHK),Shanghai AI Lab',\n",
              "       'Carnegie Mellon University (CMU),Princeton University',\n",
              "       'NASA,IBM', 'IBM', 'Cohere', 'Perplexity', 'Inspur',\n",
              "       'Together,Nous Research', 'Microsoft Research',\n",
              "       'Chinese University of Hong Kong (CUHK)', 'KT',\n",
              "       'Shanghai AI Lab,Chinese University of Hong Kong (CUHK),ShanghaiTech University',\n",
              "       'Korea University,Korea Advanced Institute of Science and Technology (KAIST),LG',\n",
              "       'Fudan University,University of Maryland',\n",
              "       'Meta AI,Hebrew University of Jerusalem,LORIA', 'Samsung',\n",
              "       'IBM,NASA', 'TensorTour', 'Nanyang Technological University',\n",
              "       'Tsinghua University,Zhipu AI,Beihang University',\n",
              "       'University of Wisconsin Madison,Microsoft Research',\n",
              "       'University of Turku,Hugging Face',\n",
              "       'Google DeepMind,UC San Diego,Stanford University',\n",
              "       'ShanghaiTech University', 'vivo AI lab', 'Nanbeige LLM Lab',\n",
              "       'DeepLang AI', 'CyberAgent',\n",
              "       'University of Science and Technology of China,Alibaba',\n",
              "       'Kunlun Inc.', 'Microsoft,Microsoft Research', 'ETH Zurich',\n",
              "       'Institute of Science and Technology Austria (ISTA),Neural Magic',\n",
              "       'Dahua Technology', 'iFlytek', 'Stockmark', 'Kuaishou Technology',\n",
              "       'Baidu', 'China Mobile', 'Columbia University,Apple', 'Ant Group',\n",
              "       'University of Washington,Seoul National University,University of Sheffield',\n",
              "       'University of California Los Angeles (UCLA),Columbia University,New York University (NYU)',\n",
              "       'Zhejiang University',\n",
              "       'King Abdullah University of Science and Technology / KAUST',\n",
              "       'Stanford University,Sony',\n",
              "       'Singapore University of Technology & Design',\n",
              "       \"Huawei Noah's Ark Lab,The University of Hong Kong,Hong Kong University of Science and Technology\",\n",
              "       'Amazon', 'Preferred Networks Inc',\n",
              "       'National University of Singapore', 'Shanghai AI Lab',\n",
              "       'Cerebras Systems',\n",
              "       'Xi’an Jiaotong University,Megvii Inc,Tsinghua University,Huazhong University of Science and Technology',\n",
              "       'Beijing Academy of Artificial Intelligence / BAAI,Hugging Face',\n",
              "       'Shanghai Qi Zhi institute,Stanford University,Carnegie Mellon University (CMU),Tsinghua University',\n",
              "       'Google DeepMind,Google Research',\n",
              "       'Chinese Academy of Sciences,Harbin Institute of Technology,Nanyang Technological University,Beijing Academy of Artificial Intelligence / BAAI',\n",
              "       'Salesforce', 'Baichuan', 'Tigerobo', '360 Security Technology',\n",
              "       'Intel Labs', 'MiniMax',\n",
              "       'Cerebras Systems,Mohamed bin Zayed University of Artificial Intelligence,Inception',\n",
              "       'Refact AI', 'Carnegie Mellon University (CMU)',\n",
              "       'TAL Education Group (Xueersi)', 'NAVER',\n",
              "       'Hungarian Research Centre for Linguistics', 'Hugging Face',\n",
              "       'ByteDance', 'NCSOFT', 'SK Telecom', 'Boston University',\n",
              "       'LINE Corporation',\n",
              "       'NVIDIA,Technion - Israel Institute of Technology',\n",
              "       'Westlake University,Tsinghua University,Toyota Technological Institute at Chicago',\n",
              "       'Matsuo Lab', 'Renmin University of China',\n",
              "       'University of Washington,Stanford University,Allen Institute for AI,Hebrew University of Jerusalem,Columbia University,Google DeepMind,University of California Santa Barbara (UCSB),Research Center Juelich',\n",
              "       'K.D. Feddersen (KDF)', 'rinna', 'NetEase',\n",
              "       'Microsoft Research,Tsinghua University', 'JD.com',\n",
              "       'Beijing Academy of Artificial Intelligence / BAAI,Tsinghua University,Peking University',\n",
              "       'China Telecom', 'Huawei', 'Shanghai AI Lab,SenseTime',\n",
              "       'Tsinghua University,BioMap Research', 'NEC Laboratories',\n",
              "       'Microsoft,Xi’an Jiaotong University', 'China Unicom',\n",
              "       'Stanford University,Harvard University,Mila - Quebec AI (originally Montreal Institute for Learning Algorithms),University of Montreal / Université de Montréal',\n",
              "       'RWKV Foundation', 'FlagAlpha', 'MosaicML',\n",
              "       'Google DeepMind,Google', 'AI inside', 'Together', 'Magic',\n",
              "       'UC Berkeley,Toyota Technological Institute at Chicago',\n",
              "       'Technical University of Denmark,University of Copenhagen',\n",
              "       'EleutherAI', 'Google Research', 'Caldera AI',\n",
              "       'Shenzhen Research Institue of Big Data,Chinese University of Hong Kong (CUHK)',\n",
              "       'University of Washington', 'Du Xiaoman',\n",
              "       'Alibaba,Huazhong University of Science and Technology',\n",
              "       'University of Minnesota,Grammarly', 'WeChat AI',\n",
              "       'NAVER,Naver AI Lab',\n",
              "       'Salesforce Research,Hong Kong University of Science and Technology,Nanyang Technological University',\n",
              "       'Hugging Face,ServiceNow,Northeastern University,Mila - Quebec AI (originally Montreal Institute for Learning Algorithms),Carnegie Mellon University (CMU),Johns Hopkins University,Leipzig University,ScaDS.AI,Queen Mary University of London,Roblox,Sea AI Lab,Technion - Israel Institute of Technology,Monash University,CSIRO,Data61,McGill University,Saama,University of British Columbia (UBC),Massachusetts Institute of Technology (MIT),Technical University of Munich,IBM,University of Vermont,UnfoldML,SAP,University of Notre Dame,Columbia University,New York University (NYU),University of Allahabad,Discover Dollar,Toloka,Telefonica,Stanford University,Weizmann Institute of Science,Alan Turing Institute,Wellesley College,EleutherAI,Forschungszentrum Julich',\n",
              "       'NVIDIA,Tel Aviv University,Bar-Ilan University',\n",
              "       'OpenLM Research', 'Microsoft,Peking University',\n",
              "       'Fudan University',\n",
              "       'University of Wisconsin Madison,Microsoft Research,Columbia University',\n",
              "       'Facebook AI Research,INRIA',\n",
              "       'Facebook AI Research,University of Washington,UC Berkeley,Carnegie Mellon University (CMU),Toyota Technological Institute at Chicago',\n",
              "       'Harvard University',\n",
              "       'EleutherAI,\"Booz Allen Hamilton, McLean\",University of Cambridge,\"Indraprastha Institute of Information Technology\\nDelhi\",Stability AI,datasaur.ai,University of Amsterdam',\n",
              "       'Large Model Systems Organization,UC Berkeley',\n",
              "       'Bloomberg,Johns Hopkins University',\n",
              "       'Nanjing University,Shenzhen Institute of Advanced Technology,Shanghai AI Lab',\n",
              "       'Adobe', \"Huawei Noah's Ark Lab\",\n",
              "       'King Abdullah University of Science and Technology / KAUST,Karolinska Institute',\n",
              "       'Google,TU Berlin', 'Meta AI,Hebrew University of Jerusalem',\n",
              "       'Google Brain', 'New York University (NYU),UC Berkeley', 'Writer',\n",
              "       'AI Sweden',\n",
              "       'Stanford University,University of Montreal / Université de Montréal,Mila - Quebec AI (originally Montreal Institute for Learning Algorithms)',\n",
              "       'University of Oxford,DeepMind',\n",
              "       'Google,University of California Los Angeles (UCLA)',\n",
              "       'UC Berkeley,California Institute of Technology,University of Toronto,University of Wisconsin Madison,Texas A&M,NVIDIA,Mila - Quebec AI (originally Montreal Institute for Learning Algorithms)',\n",
              "       'Cornell University',\n",
              "       'Google DeepMind,Massachusetts Institute of Technology (MIT),UC Berkeley,Georgia Institute of Technology,University of Alberta',\n",
              "       'Salesforce Research', 'Utrecht University',\n",
              "       'University of Montreal / Université de Montréal', 'HEC Montreal',\n",
              "       'Technical University of Munich,Columbia University',\n",
              "       'NVIDIA,Technical University of Munich',\n",
              "       \"Hugging Face,ServiceNow,Massachusetts Institute of Technology (MIT),Wellesley College,Saama,EleutherAI,Huawei Noah's Ark Lab,Carnegie Mellon University (CMU)\",\n",
              "       'Institute of Science and Technology Austria (ISTA)',\n",
              "       'Tongji University', 'Stanford University,University at Buffalo',\n",
              "       'University of Oxford', 'University of Oxford,Harvard University',\n",
              "       'Nanjing University',\n",
              "       'Basecamp Research,Friedrich-Alexander-Universität,University of Girona',\n",
              "       'Korea Advanced Institute of Science and Technology (KAIST),NAVER',\n",
              "       'Naver Clova,Naver AI Lab',\n",
              "       'Alibaba,University of Waterloo,Vector Institute',\n",
              "       'Aleph Alpha,Graphcore',\n",
              "       'Beijing Academy of Artificial Intelligence / BAAI,Huazhong University of Science and Technology,Zhejiang University,Beijing Institute of Technology',\n",
              "       'Shanghai AI Lab,Tsinghua University,Nanjing University,SenseTime,Chinese University of Hong Kong (CUHK)',\n",
              "       'Hugging Face,BigScience', 'IDEA CCNL',\n",
              "       'University of Massachusetts Amherst',\n",
              "       'Tsinghua University,Chinese University of Hong Kong (CUHK),Nara Institute of Science and Technology',\n",
              "       'Johns Hopkins University,New York University (NYU)',\n",
              "       'University of Washington,Arizona State University,Allen Institute for AI',\n",
              "       'Google,University of Illinois Urbana-Champaign (UIUC)',\n",
              "       \"Huawei,Huawei Noah's Ark Lab\",\n",
              "       'University of Chicago,NVIDIA,Harvard University,Cerebras Systems,Technical University of Munich,California Institute of Technology',\n",
              "       'Google,Dartmouth College',\n",
              "       'Meta AI,Massachusetts Institute of Technology (MIT)',\n",
              "       'University of California Los Angeles (UCLA)', 'Jenni',\n",
              "       'University College London (UCL),University of Michigan,Google Brain',\n",
              "       'University of Notre Dame',\n",
              "       'Massachusetts Institute of Technology (MIT)',\n",
              "       'New York University (NYU)', 'Bar-Ilan University', 'LAION',\n",
              "       'Aleph Alpha',\n",
              "       'McGill University,Meta AI,Mila - Quebec AI (originally Montreal Institute for Learning Algorithms)',\n",
              "       'University of Bayreuth', 'Abeja',\n",
              "       'Massachusetts Institute of Technology (MIT),Westlake University',\n",
              "       'Meta AI,New York University (NYU),Stanford University,Massachusetts Institute of Technology (MIT)',\n",
              "       'Hong Kong Baptist University,NetEase',\n",
              "       'Moscow Institute of Physics and Technology,AIRI Artificial Intelligence Research Institute',\n",
              "       'LightOn,Harvard University,University of Oxford', 'Craiyon',\n",
              "       'Salesforce Research,Columbia University,Johns Hopkins University',\n",
              "       'AI Sweden,RISE',\n",
              "       'Ruhr University Bochum,Technische Universität Dresden,University of London',\n",
              "       'Tsinghua University,Apple,Westlake University,Chinese University of Hong Kong (CUHK)',\n",
              "       'UT Austin,Microsoft', 'LINE Corporation,Tohoku University',\n",
              "       'Tsinghua University,Beijing Academy of Artificial Intelligence / BAAI',\n",
              "       'University of Oxford,Harvard Medical School,Cohere',\n",
              "       'Princeton University', 'Princeton University,Tsinghua University',\n",
              "       'Google Research,Google Brain', 'NVIDIA,UC Berkeley',\n",
              "       'Tsinghua University,NetEase,Oppo Mobile Telecommunications',\n",
              "       'Runway,Ludwig Maximilian University', 'Waseda University',\n",
              "       'Stanford University,University at Buffalo,University of Michigan',\n",
              "       'Tel Aviv University,University of Washington,Intel Labs,Meta AI',\n",
              "       'Tsinghua University,Zhejiang Lab,Beijing Academy of Artificial Intelligence / BAAI,Alibaba',\n",
              "       'Meta AI,Chinese University of Hong Kong (CUHK)',\n",
              "       'Microsoft Research,University of Waterloo',\n",
              "       'University of Waterloo,Microsoft Research',\n",
              "       'University of Washington,Columbia University,Google,Meta AI,Tel Aviv University',\n",
              "       'Microsoft,OpenAI', 'Collaborations Pharmaceuticals',\n",
              "       'Kakao,POSTECH', 'Google,Google Brain,Google Research',\n",
              "       'Midjourney',\n",
              "       'Hebrew University of Jerusalem,Ben-Gurion University of the Negev,Deep Trading',\n",
              "       'University College London (UCL)', 'DeepMind,University of Oxford',\n",
              "       'Meta AI,University of Texas at Austin',\n",
              "       'Technical University of Munich', 'Baidu,Peng Cheng Laboratory',\n",
              "       'Heidelberg University,Runway', 'Meta AI,Facebook AI Research',\n",
              "       'Toyota Technological Institute at Chicago',\n",
              "       'Meta AI,University College London (UCL),PSL University,Université Grenoble Alpes',\n",
              "       'Stanford University,\"SambaNova Systems, Inc\",Peking University,Adobe,University at Buffalo',\n",
              "       'Chinese University of Hong Kong (CUHK),Microsoft',\n",
              "       'Microsoft Research,Peking University',\n",
              "       'ETH Zurich,Kuaishou Technology', 'Microsoft Research Asia',\n",
              "       'Facebook AI Research,New York University (NYU),UC Berkeley',\n",
              "       'Massachusetts Institute of Technology (MIT),ETH Zurich,Tencent',\n",
              "       'Kakao', 'Aristotle University of Thessaloniki',\n",
              "       'Salesforce,Nanyang Technological University',\n",
              "       'Heidelberg University', 'Stanford University',\n",
              "       'Tsinghua University,UC Berkeley,Shanghai Qi Zhi institute',\n",
              "       'Stanford University,Adobe,University at Buffalo',\n",
              "       'Harvard Medical School,University of Oxford',\n",
              "       'Johannes Kepler University,HERE Technologies,Institute of Advanced Research in Artificial Intelligence',\n",
              "       'University of Cambridge,Alan Turing Institute',\n",
              "       'Shannon.AI,Nanjing University,Nanyang Technological University,Zhejiang University',\n",
              "       \"LightOn,Laboratoire de Physique de l'Ecole Normale (LPENS),INRIA\",\n",
              "       'UC San Diego',\n",
              "       'FPT Software AI Center,University of California Los Angeles (UCLA),VinUniversity,Deezer Research,Rice University,University of Texas at Austin',\n",
              "       'Hugging Face,Brown University',\n",
              "       \"Huawei Noah's Ark Lab,McGill University\",\n",
              "       'University of Southern California,Google', 'Microsoft,NVIDIA',\n",
              "       'Google DeepMind,DeepMind',\n",
              "       'Beihang University,Microsoft Research Asia', 'Facebook',\n",
              "       'NAVER,Search Solutions',\n",
              "       'Carnegie Mellon University (CMU),UC San Diego',\n",
              "       'Peking University', 'Universidade de Lisboa (ULisboa),DeepMind',\n",
              "       'University of Washington,Facebook AI Research,Allen Institute for AI',\n",
              "       'Tsinghua University,Beijing Academy of Artificial Intelligence / BAAI,Tencent',\n",
              "       'Northeastern University', 'Chinese Academy of Sciences',\n",
              "       'Google Brain,Massachusetts Institute of Technology (MIT)',\n",
              "       'Megvii Inc',\n",
              "       'University of California Los Angeles (UCLA),University of Utah',\n",
              "       'Facebook AI Research,Georgia Institute of Technology',\n",
              "       'X-Mechanics', 'Carnegie Mellon University (CMU),Intel Labs',\n",
              "       'Microsoft Research Asia,Soochow University', 'IBM,Texas A&M',\n",
              "       'Google,Google Brain',\n",
              "       'IDSIA,SUPSI,King Abdullah University of Science and Technology / KAUST',\n",
              "       'Google,Google Research,Google Brain',\n",
              "       'Mila - Quebec AI (originally Montreal Institute for Learning Algorithms),McGill University,DeepMind',\n",
              "       'Google Brain,Google Research', 'University of Sheffield',\n",
              "       'The University of Hong Kong,Sun Yat-sen University,Shanghai AI Lab',\n",
              "       'Google,Google Research', 'Google Cloud,Google Research',\n",
              "       'Tsinghua University,Alibaba DAMO Academy',\n",
              "       'Meituan University,Beijing University of Posts and Telecommunications',\n",
              "       'Peng Cheng Laboratory,University of Texas at Houston',\n",
              "       'Google AI,ETH Zurich,University of Cambridge',\n",
              "       'Technical University of Munich,Med AI Technology,NVIDIA,Oak Ridge National Laboratory,Google,Seoul National University',\n",
              "       'Technical University of Munich,NVIDIA,Seoul National University,Google,Oak Ridge National Laboratory,Med AI Technology',\n",
              "       'INRIA', 'EleutherAI,LAION', 'INRIA,Facebook AI Research',\n",
              "       'Meta AI,Carnegie Mellon University (CMU)',\n",
              "       'Microsoft Research,NVIDIA,Stanford University', 'Lenovo Research',\n",
              "       'University of Washington,Microsoft,DeepMind,Allen Institute for AI',\n",
              "       'University of Washington,Microsoft,DeepMind',\n",
              "       'Allen Institute for AI',\n",
              "       'Tsinghua University,Beijing Academy of Artificial Intelligence / BAAI,Massachusetts Institute of Technology (MIT),Shanghai Qi Zhi institute',\n",
              "       'Tsinghua University,Beijing Academy of Artificial Intelligence / BAAI,Massachusetts Institute of Technology (MIT)',\n",
              "       'Google Brain,UC Berkeley',\n",
              "       'Vilnius University,Chalmers University of Technology',\n",
              "       'University of Washington,DeepMind,Allen Institute for AI,Hebrew University of Jerusalem,The University of Hong Kong',\n",
              "       'Google Brain,Google AI', 'Tsinghua University,Alibaba', 'ASAPP',\n",
              "       'IDSIA', 'IDSIA,SUPSI', 'TU Darmstadt',\n",
              "       'Facebook AI Research,UC Berkeley,New York University (NYU)',\n",
              "       'University of Edinburgh,Toshiba Cambridge Research Laboratory',\n",
              "       'Eindhoven University of Technology,University of Twente',\n",
              "       'Eindhoven University of Technology',\n",
              "       'Meta AI,Sorbonne University', 'Google,Apple',\n",
              "       'Google Brain,Carnegie Mellon University (CMU)',\n",
              "       'National Institute of Advanced Industrial Science and Technology (AIST),The University of Tokyo',\n",
              "       'The University of Tokyo,National Institute of Advanced Industrial Science and Technology (AIST)',\n",
              "       'American University of Beirut',\n",
              "       'Google,National Tsing Hua University',\n",
              "       'National Tsing Hua University,Google',\n",
              "       'Korea University,Princeton University',\n",
              "       'Facebook AI Research,New York University (NYU)',\n",
              "       'Tsinghua University,Mila - Quebec AI (originally Montreal Institute for Learning Algorithms),HEC,CIFAR AI Research,Princeton University,University of Montreal / Université de Montréal',\n",
              "       'IDSIA,Microsoft Research', 'Indiana University Bloomington',\n",
              "       'deepset,Bayerische Staatsbibliothek Muenchen',\n",
              "       'UC Davis,Westlake University,Facebook AI',\n",
              "       'University of Washington,National Institute of Informatics',\n",
              "       'Johns Hopkins University,Xiaomi Corp',\n",
              "       'Northeastern University (China),NiuTrans Research,Chinese Academy of Sciences',\n",
              "       'University of Illinois Urbana-Champaign (UIUC),Reed College',\n",
              "       'Toyota Technological Institute at Chicago,University of Chicago',\n",
              "       'University of Washington,Allen Institute for AI,Facebook AI Research',\n",
              "       'Facebook AI',\n",
              "       'University of Chicago,Toyota Technological Institute at Chicago',\n",
              "       'University of Liverpool,University of Southern California',\n",
              "       'Johannes Kepler University Linz,Institute of Advanced Research in Artificial Intelligence,University of Oslo',\n",
              "       'Carnegie Mellon University (CMU),Facebook AI Research',\n",
              "       'Naver AI Lab,Naver Clova',\n",
              "       '\"NERSC, Lawrence Berkeley National Laboratory\",UC Berkeley',\n",
              "       'UC Berkeley,\"NERSC, Lawrence Berkeley National Laboratory\"',\n",
              "       'Facebook,New York University (NYU),University College London (UCL)',\n",
              "       'Indian Institute of Technology Delhi',\n",
              "       'Westlake University,Institute for Advanced Study,McGill University,Mila - Quebec AI (originally Montreal Institute for Learning Algorithms),CIFAR AI Research,University of Montreal / Université de Montréal',\n",
              "       'Northeastern University (China),Chinese Academy of Sciences,NiuTrans Research,Kingsoft',\n",
              "       'Northeastern University (China),NiuTrans Research,Kingsoft',\n",
              "       'University of Waterloo,Peking University,RSVP.ai',\n",
              "       'University of Waterloo,RSVP.ai,Peking University',\n",
              "       'MIT-IBM Watson AI Lab,Massachusetts Institute of Technology (MIT),IBM',\n",
              "       'Uber AI,OpenAI', 'MIT-IBM Watson AI Lab',\n",
              "       'Carnegie Mellon University (CMU),Google Brain',\n",
              "       'The Pennsylvania State University,Rochester Institute of Technology',\n",
              "       'Stanford University,Google,Google Brain',\n",
              "       'Salesforce Research,Stanford University',\n",
              "       'University of California Los Angeles (UCLA),JD.com',\n",
              "       'University of Oxford,University of Bristol,University of Cambridge',\n",
              "       'Nanjing University,Ant Group',\n",
              "       'LORIA,University of Lorraine,Facebook AI Research',\n",
              "       'Toyota Technological Institute at Chicago,Google',\n",
              "       'Carleton University', 'UC San Diego,Beihang University,Microsoft',\n",
              "       'Massachusetts Institute of Technology (MIT),Harvard University',\n",
              "       'Georgia Institute of Technology,Facebook AI Research,Oregon State University,Simon Fraser University',\n",
              "       'Beijing University of Posts and Telecommunications,University of West London',\n",
              "       'NAVER,Yonsei University,Swiss Federal Institute of Technology',\n",
              "       'Numenta,Incubator 491',\n",
              "       'University of Washington,Allen Institute for AI',\n",
              "       'Carnegie Mellon University (CMU),Google',\n",
              "       'Allen Institute for AI,Facebook AI Research',\n",
              "       'Facebook,INRIA,Sorbonne University',\n",
              "       'Ecole Polytechnique F´ed´erale de Lausanne (EPFL)',\n",
              "       'Stanford University,Facebook AI Research',\n",
              "       'Tsinghua University,Huawei,Tongji University',\n",
              "       \"Tsinghua University,Beijing University of Posts and Telecommunications,Huawei Noah's Ark Lab\",\n",
              "       'Shandong University,University of Wollongong',\n",
              "       'Facebook AI Research,Brown University',\n",
              "       'Toyota Technological Institute at Chicago,Google Research',\n",
              "       'Facebook AI Research,LORIA',\n",
              "       'Technion - Israel Institute of Technology',\n",
              "       'Ecole Polytechnique F´ed´erale de Lausanne (EPFL),Swisscom,University of Freiburg',\n",
              "       'Fraunhofer Heinrich Hertz Institute',\n",
              "       'University of Southern California', 'University of Michigan',\n",
              "       'New York University (NYU),Facebook AI Research,CIFAR AI Research',\n",
              "       'Beijing Institute of Technology,University of Technology Sydney,Monash University',\n",
              "       'University of Toronto',\n",
              "       'NTT Communication Science Laboratories,Tohoku University',\n",
              "       'Massachusetts Institute of Technology (MIT),Rey Juan Carlos University',\n",
              "       'Michigan State University,TAL Education Group (Xueersi)',\n",
              "       'Facebook,University of Washington',\n",
              "       'Tianjin University,Microsoft Research Asia,Beijing Institute of Technology',\n",
              "       'UC Berkeley,Google Brain',\n",
              "       'UC Berkeley,Covariant,Google,Chan Zuckerberg Initiative',\n",
              "       'University of Electronic Science and Technology of China,Chinese University of Hong Kong (CUHK),Peng Cheng Laboratory',\n",
              "       'Brown University,Facebook', 'Capital One',\n",
              "       'University of Texas at Austin',\n",
              "       'Massachusetts Institute of Technology (MIT),University of Illinois Urbana-Champaign (UIUC)',\n",
              "       'Cerenaut', 'DeepMind,UC Berkeley', 'IDIAP',\n",
              "       'Massachusetts Institute of Technology (MIT),Tsinghua University,MIT-IBM Watson AI Lab,DeepMind',\n",
              "       'Murdoch University', 'University of Edinburgh',\n",
              "       'Mobvoi,Williams College',\n",
              "       'Tel Aviv University,Massachusetts Institute of Technology (MIT)',\n",
              "       'Facebook AI Research,Google Brain', 'Google,Bar-Ilan University',\n",
              "       'Jane Street',\n",
              "       'Samsung R&D Institute Russia,National Research University Higher School of Economics',\n",
              "       'DeepMind,University of Oxford,Carnegie Mellon University (CMU),Google Brain',\n",
              "       'Tianjin University,Beijing Institute of Technology',\n",
              "       'Princeton University,Alibaba',\n",
              "       'University of California Los Angeles (UCLA),Megvii Inc',\n",
              "       'University of Freiburg',\n",
              "       'University of Electronic Science and Technology of China',\n",
              "       'University of Hyderabad', 'Samsung R&D Institute Russia',\n",
              "       'Samsung,Korea University',\n",
              "       'Carnegie Mellon University (CMU),Bosch Center for Artificial Intelligence,Intel Labs',\n",
              "       'Carnegie Mellon University (CMU),Intel Labs,Bosch Center for Artificial Intelligence',\n",
              "       'Heriot-Watt University,DeepMind',\n",
              "       'Nara Institute of Science and Technology,Chinese University of Hong Kong (CUHK),Tsinghua University',\n",
              "       'KU Leuven,ESAT - PSI,Apple',\n",
              "       'Peking University,Microsoft Research Asia',\n",
              "       'ASAPP,Cornell University,Google,Princeton University',\n",
              "       'Chinese University of Hong Kong (CUHK),Chinese Academy of Sciences,Nanyang Technological University',\n",
              "       'Tsinghua University,University of California Los Angeles (UCLA)',\n",
              "       'Tsinghua University,Megvii Inc',\n",
              "       'National Research University Higher School of Economics,Samsung R&D Institute Russia',\n",
              "       'DeepMind,Carnegie Mellon University (CMU)',\n",
              "       'Carnegie Mellon University (CMU),DeepMind',\n",
              "       'DeepMind,University College London (UCL)',\n",
              "       'Ben-Gurion University',\n",
              "       'University of Manchester,Alan Turing Institute',\n",
              "       'University of Manchester',\n",
              "       'Columbia University,New York University (NYU),Princeton University',\n",
              "       'ESAT - PSI', 'University of Missouri', 'Google AI',\n",
              "       'École des Ponts ParisTech',\n",
              "       'Intel Labs,Carnegie Mellon University (CMU)',\n",
              "       'Northeastern University,University of Rochester',\n",
              "       'Preferred Networks Inc,Ritsumeikan University,National Institute of Informatics',\n",
              "       'Google Brain,Carnegie Mellon University (CMU),Stanford University',\n",
              "       'University of San Francisco,Insight Centre NUI Galway,Fast.ai',\n",
              "       'Tsinghua University,University of Technology Sydney,University of Texas at San Antonio',\n",
              "       'Northwestern University', 'Google,UC Berkeley',\n",
              "       'Tsinghua University,Stanford University,NVIDIA',\n",
              "       'Johns Hopkins University,Google AI,Stanford University',\n",
              "       'Visual Computing Institute,RWTH Aachen University',\n",
              "       'Jagiellonian University,Mila - Quebec AI (originally Montreal Institute for Learning Algorithms),University of Montreal / Université de Montréal',\n",
              "       'University of Montreal / Université de Montréal,Mila - Quebec AI (originally Montreal Institute for Learning Algorithms)',\n",
              "       'Carnegie Mellon University (CMU),University of Pittsburgh',\n",
              "       'University of Technology Sydney', 'Duke University,Microsoft',\n",
              "       'Korea Advanced Institute of Science and Technology (KAIST)',\n",
              "       'Chinese Academy of Sciences,University of Oxford',\n",
              "       'Ben-Gurion University of the Negev', 'Saarland University',\n",
              "       'Beihang University,University of Montreal / Université de Montréal,Chongqing University',\n",
              "       'Tsinghua University,UC Berkeley',\n",
              "       'Shandong University,Texas A&M,National University of Singapore,Columbia University',\n",
              "       'University of Guelph,Vector Institute,CIFAR AI Research',\n",
              "       'Peking University,Microsoft Research', 'Ghent University',\n",
              "       'Google Research,Carnegie Mellon University (CMU)',\n",
              "       'Maluuba,Microsoft', 'Seoul National University', 'Twitter',\n",
              "       'National University of Singapore,University of Technology Sydney,Qihoo 360 AI Institute',\n",
              "       'Fudan University,Microsoft Research',\n",
              "       'Johns Hopkins University,Google,University College London (UCL)',\n",
              "       'Courant Institute of Mathematical Sciences,Mila - Quebec AI (originally Montreal Institute for Learning Algorithms)',\n",
              "       'University of Pittsburgh,Duke University',\n",
              "       'University of Toronto,Twitter',\n",
              "       'Harbin Institute of Technology,Hong Kong Polytechnic University,ULSee Inc.,Xi’an Jiaotong University',\n",
              "       'Facebook AI Research,University of Le Mans',\n",
              "       'Jagiellonian University,Google Brain',\n",
              "       'Duke University,University of Chinese Academy of Sciences',\n",
              "       'University of Alberta,Charles University,Czech Technical University',\n",
              "       'UT Austin,UC Berkeley,Google',\n",
              "       'University of Adelaide,Australian Centre for Robotic Vision',\n",
              "       'UC San Diego,Facebook', 'Stanford University,Salesforce Research',\n",
              "       'Griffith University,University of Iowa,Dezhou University',\n",
              "       'MetaMind Inc,Salesforce',\n",
              "       'University of Edinburgh,Toyota Technological Institute at Chicago',\n",
              "       'MetaMind Inc', 'Université Paris-Est', 'IBM,UC San Diego',\n",
              "       'ETH Zurich,Shenzhen Institute of Advanced Technology,Chinese University of Hong Kong (CUHK)',\n",
              "       'Chinese Academy of Sciences,Chinese University of Hong Kong (CUHK)',\n",
              "       'Tsinghua University,Facebook AI Research,Cornell University',\n",
              "       'Sensifai,Islamic Azad University,Technicolor R&I,Institute for Research in Fundamental Sciences (IPM)',\n",
              "       'ETH Zurich,IDSIA', 'Tsinghua University,Microsoft Research',\n",
              "       'Graz University of Technology,University of Oxford',\n",
              "       'York University', 'Nanjing University,University of Adelaide',\n",
              "       'Technion - Israel Institute of Technology,Columbia University,University of Montreal / Université de Montréal',\n",
              "       'DeepScale,UC Berkeley,Stanford University',\n",
              "       'Google,University of Montreal / Université de Montréal',\n",
              "       'University of Cambridge',\n",
              "       'University of Toronto,New York University (NYU),Massachusetts Institute of Technology (MIT)',\n",
              "       'Baidu Research - Silicon Valley AI Lab', nan,\n",
              "       'Google,University College London (UCL)', 'Netflix',\n",
              "       'Princeton University,Intel Labs',\n",
              "       'Harvard University,New York University (NYU)',\n",
              "       'Google,Carnegie Mellon University (CMU)',\n",
              "       'Google,New York University (NYU),Facebook',\n",
              "       'University of Toronto,Massachusetts Institute of Technology (MIT),CIFAR AI Research',\n",
              "       'Google,University of Michigan,University of North Carolina',\n",
              "       'Chinese University of Hong Kong (CUHK),Chinese Academy of Sciences',\n",
              "       'University of Science and Technology of China,York University',\n",
              "       'University of Texas at Austin,Google',\n",
              "       \"Chinese Academy of Sciences,Huawei Noah's Ark Lab,Dublin City University\",\n",
              "       'MetaMind Inc,Stanford University',\n",
              "       'University of Oxford,Stanford University,Baidu',\n",
              "       'University of Amsterdam,OpenAI,University of Toronto',\n",
              "       'University of Warwick',\n",
              "       'UT Austin,University of Massachusetts Lowell,UC Berkeley',\n",
              "       'New York University (NYU),Google Brain',\n",
              "       'Jacobs University Bremen,University of Montreal / Université de Montréal',\n",
              "       'Google,Stanford University', 'Tel Aviv University,Facebook',\n",
              "       'DeepMind,University of Toronto',\n",
              "       'Microsoft,Xi’an Jiaotong University,University of Science and Technology of China',\n",
              "       'University of Montreal / Université de Montréal,Jacobs University,University of Maine',\n",
              "       'Beihang University', 'Microsoft,University of Toronto',\n",
              "       'Singapore University of Technology & Design,DSO National Laboratories',\n",
              "       'University of Amsterdam',\n",
              "       'Aalto University,University of Montreal / Université de Montréal',\n",
              "       'Universite de Technologie de Compiègne – CNRS,Google',\n",
              "       'Universidad Nacional de Cordoba,Inteligent Systems Lab Amsterdam,University of Amsterdam,LEAR Team,INRIA,Xerox Research Centre Europe (XRCE)',\n",
              "       'Google,University of Toronto,New York University (NYU)',\n",
              "       'University of Trento,University of Amsterdam',\n",
              "       'University of Toronto,University of Sherbrooke,Harvard University',\n",
              "       'Microsoft,Brno University of Technology',\n",
              "       'RWTH Aachen University',\n",
              "       'Microsoft Research,Brno University of Technology',\n",
              "       'University of Wisconsin Madison',\n",
              "       'NEC Laboratories,Princeton University', 'University of Maryland',\n",
              "       'Technion - Israel Institute of Technology,Google,UC Berkeley',\n",
              "       'Collège de France',\n",
              "       'Carnegie Mellon University (CMU),Google Research',\n",
              "       'Brno University of Technology,Johns Hopkins University',\n",
              "       'University of Michigan,Stanford University',\n",
              "       'Xerox Research Centre Europe (XRCE)',\n",
              "       'INRIA,Ecole Normale Supèrieure,New York University (NYU)',\n",
              "       'University of Montreal / Université de Montréal,University of Illinois Urbana-Champaign (UIUC)',\n",
              "       'IDSIA,University of Lugano,SUPSI',\n",
              "       'University of Montreal / Université de Montréal,University of Toronto',\n",
              "       'University of Illinois Urbana-Champaign (UIUC),NEC Laboratories,Rutgers University',\n",
              "       'Johns Hopkins University',\n",
              "       'University of Montreal / Université de Montréal,Microsoft Research',\n",
              "       'University of Washington,Microsoft Research,Cornell University',\n",
              "       'Courant Institute of Mathematical Sciences', 'AT&T',\n",
              "       'University of Edinburgh,University of Pittsburgh',\n",
              "       'Yahoo Research,AT&T', 'Pragmatic Theory Inc.',\n",
              "       'University of Lubeck', 'New York University (NYU),Microsoft',\n",
              "       'Google,NUANCE Communications,IDIAP,University of Illinois Urbana-Champaign (UIUC)',\n",
              "       'UC Irvine,University of Chicago,Toyota Technological Institute at Chicago',\n",
              "       'University of Bern,IDSIA,Technical University of Munich',\n",
              "       'Warsaw University', 'Xerox', 'UT Austin',\n",
              "       'University of Oulu,IEEE',\n",
              "       'University of Toronto,National University of Singapore',\n",
              "       'IDSIA,Technical University of Munich',\n",
              "       'INRIA,University of Illinois Urbana-Champaign (UIUC),Ecole Normale Supèrieure',\n",
              "       'UC Berkeley,Stanford University',\n",
              "       'Centre de Recherche en Automatique de Nancy (CRAN),CENPARMI',\n",
              "       'Microsoft Research,Microsoft',\n",
              "       'Massachusetts Institute of Technology (MIT),Stanford University',\n",
              "       'NEC Laboratories,Courant Institute of Mathematical Sciences',\n",
              "       'Instituto de Ciencias Aplicadas y Technologia',\n",
              "       'University of Sussex', 'Soongsil University',\n",
              "       'California Institute of Technology,University of Oxford',\n",
              "       'California Institute of Technology',\n",
              "       'University of Southern California,RWTH Aachen University',\n",
              "       'Cornell University,IBM',\n",
              "       'Mitsubishi Electric Research Labs,Compaq CRL', 'Brown University',\n",
              "       'University of Rochester', 'University of Minnesota',\n",
              "       'UC San Diego,Shannon Laboratory,AT&T',\n",
              "       'University of Southern California,IBM,University of Pennsylvania',\n",
              "       'University College London (UCL),University of Toronto',\n",
              "       'AT&T,Bell Laboratories,Rutgers University',\n",
              "       'National Chiao Tung University', 'UC Davis,Cornell University',\n",
              "       'Advanced Telecommunications Research Institute',\n",
              "       'University of Cambridge,Carnegie Mellon University (CMU)',\n",
              "       'University of Erlangen - Nuremburg', 'AT&T,Bell Laboratories',\n",
              "       'University of Pennsylvania', 'EURECOM',\n",
              "       'Sapienza Università di Roma', 'Bell Laboratories',\n",
              "       'National Cancer Institute', 'Alan Turing Institute',\n",
              "       'Indian Statistical Institute',\n",
              "       'Aalborg University,University of London',\n",
              "       'Air Force Institute of Technology',\n",
              "       'Complutense University of Madrid',\n",
              "       'UC San Diego,Technische Universität Wien',\n",
              "       'Advanced Telecommunications Research Institute,Carnegie Mellon University (CMU)',\n",
              "       'Stanford University,California Institute of Technology',\n",
              "       'University of London',\n",
              "       'Science Applications International Corporation / SAIC',\n",
              "       'McGill University', 'Roke Manor Research',\n",
              "       'UC San Diego,Carnegie Mellon University (CMU)',\n",
              "       'NHK Broadcasting Science Research Laboratories',\n",
              "       'Helsinki University of Technology', 'University of Essex',\n",
              "       'Biological Cybernetics', 'Stanford Research Institute',\n",
              "       'University of Kansas', 'IEEE',\n",
              "       'Tokyo Medical and Dental University', 'University of Geneva',\n",
              "       'Purdue University', 'University of Canterbury',\n",
              "       'University of Genoa', 'Cornell Aeronautical Laboratory',\n",
              "       'Sandia Corporation',\n",
              "       'Cornell Aeronautical Laboratory,Cornell University',\n",
              "       'Institute for Advanced Study'], dtype=object)"
            ]
          },
          "execution_count": 8,
          "metadata": {},
          "output_type": "execute_result"
        }
      ],
      "source": [
        "df['Organization'].unique()"
      ]
    },
    {
      "cell_type": "code",
      "execution_count": 9,
      "metadata": {
        "colab": {
          "base_uri": "https://localhost:8080/"
        },
        "id": "2wtQ0kBrf3sA",
        "outputId": "5348c8e7-4bee-436c-ebab-64668e2ed96b"
      },
      "outputs": [
        {
          "data": {
            "text/plain": [
              "{'System': 'Grok-2 mini',\n",
              " 'Publication date': '2024-08-13',\n",
              " 'Notability criteria': nan,\n",
              " 'Link': 'https://x.ai/blog/grok-2',\n",
              " 'Model accessibility': 'Hosted access (no API)',\n",
              " 'Code accessibility': 'Unreleased',\n",
              " 'Training dataset': nan,\n",
              " 'Dataset accessibility': nan,\n",
              " 'Accessibility notes': nan,\n",
              " 'Organization': 'xAI',\n",
              " 'Training compute (FLOP)': nan,\n",
              " 'Country (from Organization)': 'United States of America',\n",
              " 'Organization categorization': 'Industry'}"
            ]
          },
          "execution_count": 9,
          "metadata": {},
          "output_type": "execute_result"
        }
      ],
      "source": [
        "{**df.iloc[1]}"
      ]
    },
    {
      "cell_type": "code",
      "execution_count": 10,
      "metadata": {
        "id": "fOOr9BeQbrRS"
      },
      "outputs": [],
      "source": [
        "aliases = {\n",
        "  'Beijing Academy of Artificial Intelligence / BAAI': 'BAAI',\n",
        "  'Google': 'Google/DeepMind',\n",
        "  'Google Research': 'Google/DeepMind',\n",
        "  'DeepMind': 'Google/DeepMind',\n",
        "  'Google Brain': 'Google/DeepMind',\n",
        "  'Google DeepMind': 'Google/DeepMind',\n",
        "  'Facebook AI Research': 'Meta/Facebook',\n",
        "  'Facebook AI Research': 'Meta/Facebook',\n",
        "  'Facebook': 'Meta/Facebook',\n",
        "  'Facebook AI': 'Meta/Facebook',\n",
        "  'Meta AI': 'Meta/Facebook',\n",
        "  'Meta AI Research': 'Meta/Facebook',\n",
        "  'Massachusetts Institute of Technology (MIT)': 'MIT',\n",
        "  'Stanford University': 'Stanford',\n",
        "  'New York University (NYU)': 'NYU',\n",
        "  'Carnegie Mellon University (CMU)': 'CMU',\n",
        "  'University of Washington': 'UoW',\n",
        "  'UC Berkeley': 'UCB',\n",
        "  'Tsinghua University': 'Tsinghua',\n",
        "}\n",
        "\n",
        "new_rows = []\n",
        "for i, row in df.dropna(subset=['Organization']).iterrows():\n",
        "  orgs = row['Organization']\n",
        "  orgs = orgs.split(',')\n",
        "  for org in orgs:\n",
        "    if org in aliases:\n",
        "      org = aliases[org]\n",
        "    new_row = {**row}\n",
        "    new_row['Organization'] = org\n",
        "    new_rows.append(new_row)\n",
        "\n",
        "df = pd.DataFrame(new_rows)"
      ]
    },
    {
      "cell_type": "code",
      "execution_count": 11,
      "metadata": {
        "colab": {
          "base_uri": "https://localhost:8080/",
          "height": 481
        },
        "id": "X5ilOFyvgEzV",
        "outputId": "164a67f6-f9c7-4619-9a92-8705ff061b75"
      },
      "outputs": [
        {
          "data": {
            "text/html": [
              "<div>\n",
              "<style scoped>\n",
              "    .dataframe tbody tr th:only-of-type {\n",
              "        vertical-align: middle;\n",
              "    }\n",
              "\n",
              "    .dataframe tbody tr th {\n",
              "        vertical-align: top;\n",
              "    }\n",
              "\n",
              "    .dataframe thead th {\n",
              "        text-align: right;\n",
              "    }\n",
              "</style>\n",
              "<table border=\"1\" class=\"dataframe\">\n",
              "  <thead>\n",
              "    <tr style=\"text-align: right;\">\n",
              "      <th></th>\n",
              "      <th>System</th>\n",
              "      <th>Publication date</th>\n",
              "      <th>Notability criteria</th>\n",
              "      <th>Link</th>\n",
              "      <th>Model accessibility</th>\n",
              "      <th>Code accessibility</th>\n",
              "      <th>Training dataset</th>\n",
              "      <th>Dataset accessibility</th>\n",
              "      <th>Accessibility notes</th>\n",
              "      <th>Organization</th>\n",
              "      <th>Training compute (FLOP)</th>\n",
              "      <th>Country (from Organization)</th>\n",
              "      <th>Organization categorization</th>\n",
              "    </tr>\n",
              "  </thead>\n",
              "  <tbody>\n",
              "    <tr>\n",
              "      <th>0</th>\n",
              "      <td>Grok-2</td>\n",
              "      <td>2024-08-13</td>\n",
              "      <td>NaN</td>\n",
              "      <td>https://x.ai/blog/grok-2</td>\n",
              "      <td>Hosted access (no API)</td>\n",
              "      <td>Unreleased</td>\n",
              "      <td>NaN</td>\n",
              "      <td>NaN</td>\n",
              "      <td>NaN</td>\n",
              "      <td>xAI</td>\n",
              "      <td>NaN</td>\n",
              "      <td>United States of America</td>\n",
              "      <td>Industry</td>\n",
              "    </tr>\n",
              "    <tr>\n",
              "      <th>1</th>\n",
              "      <td>Grok-2 mini</td>\n",
              "      <td>2024-08-13</td>\n",
              "      <td>NaN</td>\n",
              "      <td>https://x.ai/blog/grok-2</td>\n",
              "      <td>Hosted access (no API)</td>\n",
              "      <td>Unreleased</td>\n",
              "      <td>NaN</td>\n",
              "      <td>NaN</td>\n",
              "      <td>NaN</td>\n",
              "      <td>xAI</td>\n",
              "      <td>NaN</td>\n",
              "      <td>United States of America</td>\n",
              "      <td>Industry</td>\n",
              "    </tr>\n",
              "    <tr>\n",
              "      <th>2</th>\n",
              "      <td>Cosine Genie</td>\n",
              "      <td>2024-08-12</td>\n",
              "      <td>NaN</td>\n",
              "      <td>https://cosine.sh/blog/genie-technical-report</td>\n",
              "      <td>Unreleased</td>\n",
              "      <td>NaN</td>\n",
              "      <td>Unspecified unreleased</td>\n",
              "      <td>NaN</td>\n",
              "      <td>https://github.com/CosineAI/experiments/tree/c...</td>\n",
              "      <td>Cosine</td>\n",
              "      <td>NaN</td>\n",
              "      <td>United Kingdom of Great Britain and Northern I...</td>\n",
              "      <td>Industry</td>\n",
              "    </tr>\n",
              "    <tr>\n",
              "      <th>3</th>\n",
              "      <td>EXAONE 3.0</td>\n",
              "      <td>2024-08-07</td>\n",
              "      <td>NaN</td>\n",
              "      <td>https://arxiv.org/abs/2408.03541</td>\n",
              "      <td>Open access (non-commercial)</td>\n",
              "      <td>NaN</td>\n",
              "      <td>Unspecified unreleased</td>\n",
              "      <td>NaN</td>\n",
              "      <td>NaN</td>\n",
              "      <td>LG</td>\n",
              "      <td>4.000000e+23</td>\n",
              "      <td>Korea (Republic of)</td>\n",
              "      <td>Industry</td>\n",
              "    </tr>\n",
              "    <tr>\n",
              "      <th>4</th>\n",
              "      <td>Flux.1 [pro]</td>\n",
              "      <td>2024-08-01</td>\n",
              "      <td>NaN</td>\n",
              "      <td>https://blackforestlabs.ai/announcing-black-fo...</td>\n",
              "      <td>API access</td>\n",
              "      <td>Unreleased</td>\n",
              "      <td>NaN</td>\n",
              "      <td>Unreleased</td>\n",
              "      <td>NaN</td>\n",
              "      <td>Black Forest Labs</td>\n",
              "      <td>NaN</td>\n",
              "      <td>NaN</td>\n",
              "      <td>NaN</td>\n",
              "    </tr>\n",
              "  </tbody>\n",
              "</table>\n",
              "</div>"
            ],
            "text/plain": [
              "         System Publication date Notability criteria  \\\n",
              "0        Grok-2       2024-08-13                 NaN   \n",
              "1   Grok-2 mini       2024-08-13                 NaN   \n",
              "2  Cosine Genie       2024-08-12                 NaN   \n",
              "3    EXAONE 3.0       2024-08-07                 NaN   \n",
              "4  Flux.1 [pro]       2024-08-01                 NaN   \n",
              "\n",
              "                                                Link  \\\n",
              "0                           https://x.ai/blog/grok-2   \n",
              "1                           https://x.ai/blog/grok-2   \n",
              "2      https://cosine.sh/blog/genie-technical-report   \n",
              "3                   https://arxiv.org/abs/2408.03541   \n",
              "4  https://blackforestlabs.ai/announcing-black-fo...   \n",
              "\n",
              "            Model accessibility Code accessibility        Training dataset  \\\n",
              "0        Hosted access (no API)         Unreleased                     NaN   \n",
              "1        Hosted access (no API)         Unreleased                     NaN   \n",
              "2                    Unreleased                NaN  Unspecified unreleased   \n",
              "3  Open access (non-commercial)                NaN  Unspecified unreleased   \n",
              "4                    API access         Unreleased                     NaN   \n",
              "\n",
              "  Dataset accessibility                                Accessibility notes  \\\n",
              "0                   NaN                                                NaN   \n",
              "1                   NaN                                                NaN   \n",
              "2                   NaN  https://github.com/CosineAI/experiments/tree/c...   \n",
              "3                   NaN                                                NaN   \n",
              "4            Unreleased                                                NaN   \n",
              "\n",
              "        Organization  Training compute (FLOP)  \\\n",
              "0                xAI                      NaN   \n",
              "1                xAI                      NaN   \n",
              "2             Cosine                      NaN   \n",
              "3                 LG             4.000000e+23   \n",
              "4  Black Forest Labs                      NaN   \n",
              "\n",
              "                         Country (from Organization)  \\\n",
              "0                           United States of America   \n",
              "1                           United States of America   \n",
              "2  United Kingdom of Great Britain and Northern I...   \n",
              "3                                Korea (Republic of)   \n",
              "4                                                NaN   \n",
              "\n",
              "  Organization categorization  \n",
              "0                    Industry  \n",
              "1                    Industry  \n",
              "2                    Industry  \n",
              "3                    Industry  \n",
              "4                         NaN  "
            ]
          },
          "execution_count": 11,
          "metadata": {},
          "output_type": "execute_result"
        }
      ],
      "source": [
        "df.head()"
      ]
    },
    {
      "cell_type": "code",
      "execution_count": 12,
      "metadata": {},
      "outputs": [
        {
          "data": {
            "text/plain": [
              "2601"
            ]
          },
          "execution_count": 12,
          "metadata": {},
          "output_type": "execute_result"
        }
      ],
      "source": [
        "len(df)"
      ]
    },
    {
      "cell_type": "code",
      "execution_count": 13,
      "metadata": {},
      "outputs": [
        {
          "data": {
            "text/plain": [
              "1407"
            ]
          },
          "execution_count": 13,
          "metadata": {},
          "output_type": "execute_result"
        }
      ],
      "source": [
        "df.dropna(subset=['Notability criteria'], inplace=True)\n",
        "len(df)"
      ]
    },
    {
      "cell_type": "code",
      "execution_count": 14,
      "metadata": {
        "id": "O27WiHVGOUun"
      },
      "outputs": [],
      "source": [
        "all_models = compare_org_openness_with_compute(df, 'Organization')"
      ]
    },
    {
      "cell_type": "code",
      "execution_count": 15,
      "metadata": {},
      "outputs": [
        {
          "data": {
            "text/plain": [
              "225"
            ]
          },
          "execution_count": 15,
          "metadata": {},
          "output_type": "execute_result"
        }
      ],
      "source": [
        "len(all_models)"
      ]
    },
    {
      "cell_type": "code",
      "execution_count": 16,
      "metadata": {
        "colab": {
          "base_uri": "https://localhost:8080/",
          "height": 1000
        },
        "id": "nSPk2Dk9Oh2N",
        "outputId": "6aabc2f1-505c-42f7-b5ce-8b900bc1575e"
      },
      "outputs": [
        {
          "data": {
            "text/html": [
              "<div>\n",
              "<style scoped>\n",
              "    .dataframe tbody tr th:only-of-type {\n",
              "        vertical-align: middle;\n",
              "    }\n",
              "\n",
              "    .dataframe tbody tr th {\n",
              "        vertical-align: top;\n",
              "    }\n",
              "\n",
              "    .dataframe thead th {\n",
              "        text-align: right;\n",
              "    }\n",
              "</style>\n",
              "<table border=\"1\" class=\"dataframe\">\n",
              "  <thead>\n",
              "    <tr style=\"text-align: right;\">\n",
              "      <th></th>\n",
              "      <th>Organization</th>\n",
              "      <th>Max Training Compute (FLOP)</th>\n",
              "      <th>Average Training Compute (FLOP)</th>\n",
              "      <th>open_model_percentage</th>\n",
              "      <th>open_code_percentage</th>\n",
              "      <th>model_count</th>\n",
              "    </tr>\n",
              "  </thead>\n",
              "  <tbody>\n",
              "    <tr>\n",
              "      <th>0</th>\n",
              "      <td>Google/DeepMind</td>\n",
              "      <td>25.698970</td>\n",
              "      <td>21.747013</td>\n",
              "      <td>30.405405</td>\n",
              "      <td>35.135135</td>\n",
              "      <td>148</td>\n",
              "    </tr>\n",
              "    <tr>\n",
              "      <th>1</th>\n",
              "      <td>Meta/Facebook</td>\n",
              "      <td>25.579784</td>\n",
              "      <td>21.322178</td>\n",
              "      <td>78.823529</td>\n",
              "      <td>63.529412</td>\n",
              "      <td>85</td>\n",
              "    </tr>\n",
              "    <tr>\n",
              "      <th>2</th>\n",
              "      <td>OpenAI</td>\n",
              "      <td>25.322219</td>\n",
              "      <td>22.424921</td>\n",
              "      <td>34.482759</td>\n",
              "      <td>20.689655</td>\n",
              "      <td>29</td>\n",
              "    </tr>\n",
              "    <tr>\n",
              "      <th>3</th>\n",
              "      <td>NVIDIA</td>\n",
              "      <td>25.255273</td>\n",
              "      <td>22.366720</td>\n",
              "      <td>46.153846</td>\n",
              "      <td>23.076923</td>\n",
              "      <td>13</td>\n",
              "    </tr>\n",
              "    <tr>\n",
              "      <th>4</th>\n",
              "      <td>Peking University</td>\n",
              "      <td>25.079181</td>\n",
              "      <td>22.523616</td>\n",
              "      <td>0.000000</td>\n",
              "      <td>66.666667</td>\n",
              "      <td>6</td>\n",
              "    </tr>\n",
              "    <tr>\n",
              "      <th>5</th>\n",
              "      <td>ByteDance</td>\n",
              "      <td>25.079181</td>\n",
              "      <td>24.147339</td>\n",
              "      <td>0.000000</td>\n",
              "      <td>66.666667</td>\n",
              "      <td>3</td>\n",
              "    </tr>\n",
              "    <tr>\n",
              "      <th>6</th>\n",
              "      <td>Mistral AI</td>\n",
              "      <td>25.049218</td>\n",
              "      <td>25.049218</td>\n",
              "      <td>50.000000</td>\n",
              "      <td>0.000000</td>\n",
              "      <td>2</td>\n",
              "    </tr>\n",
              "    <tr>\n",
              "      <th>7</th>\n",
              "      <td>Inflection AI</td>\n",
              "      <td>25.000434</td>\n",
              "      <td>25.000239</td>\n",
              "      <td>0.000000</td>\n",
              "      <td>0.000000</td>\n",
              "      <td>2</td>\n",
              "    </tr>\n",
              "    <tr>\n",
              "      <th>8</th>\n",
              "      <td>Anthropic</td>\n",
              "      <td>24.587262</td>\n",
              "      <td>24.587262</td>\n",
              "      <td>0.000000</td>\n",
              "      <td>0.000000</td>\n",
              "      <td>5</td>\n",
              "    </tr>\n",
              "    <tr>\n",
              "      <th>9</th>\n",
              "      <td>Technology Innovation Institute</td>\n",
              "      <td>24.575188</td>\n",
              "      <td>23.977700</td>\n",
              "      <td>100.000000</td>\n",
              "      <td>0.000000</td>\n",
              "      <td>2</td>\n",
              "    </tr>\n",
              "    <tr>\n",
              "      <th>10</th>\n",
              "      <td>xAI</td>\n",
              "      <td>24.462398</td>\n",
              "      <td>24.462398</td>\n",
              "      <td>100.000000</td>\n",
              "      <td>0.000000</td>\n",
              "      <td>1</td>\n",
              "    </tr>\n",
              "    <tr>\n",
              "      <th>11</th>\n",
              "      <td>Alibaba</td>\n",
              "      <td>24.113943</td>\n",
              "      <td>22.247894</td>\n",
              "      <td>60.000000</td>\n",
              "      <td>20.000000</td>\n",
              "      <td>10</td>\n",
              "    </tr>\n",
              "    <tr>\n",
              "      <th>12</th>\n",
              "      <td>DeepSeek</td>\n",
              "      <td>24.108971</td>\n",
              "      <td>24.108971</td>\n",
              "      <td>100.000000</td>\n",
              "      <td>0.000000</td>\n",
              "      <td>1</td>\n",
              "    </tr>\n",
              "    <tr>\n",
              "      <th>13</th>\n",
              "      <td>Microsoft</td>\n",
              "      <td>24.068186</td>\n",
              "      <td>21.418858</td>\n",
              "      <td>28.571429</td>\n",
              "      <td>21.428571</td>\n",
              "      <td>14</td>\n",
              "    </tr>\n",
              "    <tr>\n",
              "      <th>14</th>\n",
              "      <td>UCB</td>\n",
              "      <td>24.029384</td>\n",
              "      <td>21.173322</td>\n",
              "      <td>50.000000</td>\n",
              "      <td>50.000000</td>\n",
              "      <td>14</td>\n",
              "    </tr>\n",
              "    <tr>\n",
              "      <th>15</th>\n",
              "      <td>EvolutionaryScale</td>\n",
              "      <td>24.029384</td>\n",
              "      <td>24.029384</td>\n",
              "      <td>0.000000</td>\n",
              "      <td>0.000000</td>\n",
              "      <td>1</td>\n",
              "    </tr>\n",
              "    <tr>\n",
              "      <th>16</th>\n",
              "      <td>Peng Cheng Laboratory</td>\n",
              "      <td>24.017909</td>\n",
              "      <td>21.497130</td>\n",
              "      <td>0.000000</td>\n",
              "      <td>50.000000</td>\n",
              "      <td>2</td>\n",
              "    </tr>\n",
              "    <tr>\n",
              "      <th>17</th>\n",
              "      <td>Baidu</td>\n",
              "      <td>24.017909</td>\n",
              "      <td>21.626130</td>\n",
              "      <td>50.000000</td>\n",
              "      <td>25.000000</td>\n",
              "      <td>8</td>\n",
              "    </tr>\n",
              "    <tr>\n",
              "      <th>18</th>\n",
              "      <td>Tsinghua</td>\n",
              "      <td>23.792392</td>\n",
              "      <td>21.655713</td>\n",
              "      <td>38.888889</td>\n",
              "      <td>38.888889</td>\n",
              "      <td>18</td>\n",
              "    </tr>\n",
              "    <tr>\n",
              "      <th>19</th>\n",
              "      <td>BioMap Research</td>\n",
              "      <td>23.792392</td>\n",
              "      <td>23.792392</td>\n",
              "      <td>0.000000</td>\n",
              "      <td>0.000000</td>\n",
              "      <td>1</td>\n",
              "    </tr>\n",
              "    <tr>\n",
              "      <th>20</th>\n",
              "      <td>01.AI</td>\n",
              "      <td>23.785330</td>\n",
              "      <td>23.785330</td>\n",
              "      <td>100.000000</td>\n",
              "      <td>0.000000</td>\n",
              "      <td>1</td>\n",
              "    </tr>\n",
              "    <tr>\n",
              "      <th>21</th>\n",
              "      <td>Hugging Face</td>\n",
              "      <td>23.761176</td>\n",
              "      <td>21.686589</td>\n",
              "      <td>100.000000</td>\n",
              "      <td>42.857143</td>\n",
              "      <td>7</td>\n",
              "    </tr>\n",
              "    <tr>\n",
              "      <th>22</th>\n",
              "      <td>BigScience</td>\n",
              "      <td>23.761176</td>\n",
              "      <td>23.761176</td>\n",
              "      <td>100.000000</td>\n",
              "      <td>0.000000</td>\n",
              "      <td>2</td>\n",
              "    </tr>\n",
              "    <tr>\n",
              "      <th>23</th>\n",
              "      <td>Apple</td>\n",
              "      <td>23.686636</td>\n",
              "      <td>20.347764</td>\n",
              "      <td>12.500000</td>\n",
              "      <td>25.000000</td>\n",
              "      <td>8</td>\n",
              "    </tr>\n",
              "    <tr>\n",
              "      <th>24</th>\n",
              "      <td>Huawei Noah's Ark Lab</td>\n",
              "      <td>23.669317</td>\n",
              "      <td>23.669317</td>\n",
              "      <td>0.000000</td>\n",
              "      <td>0.000000</td>\n",
              "      <td>1</td>\n",
              "    </tr>\n",
              "    <tr>\n",
              "      <th>25</th>\n",
              "      <td>Mila - Quebec AI (originally Montreal Institut...</td>\n",
              "      <td>23.633468</td>\n",
              "      <td>21.264708</td>\n",
              "      <td>50.000000</td>\n",
              "      <td>50.000000</td>\n",
              "      <td>6</td>\n",
              "    </tr>\n",
              "    <tr>\n",
              "      <th>26</th>\n",
              "      <td>McGill University</td>\n",
              "      <td>23.633468</td>\n",
              "      <td>22.525957</td>\n",
              "      <td>100.000000</td>\n",
              "      <td>66.666667</td>\n",
              "      <td>3</td>\n",
              "    </tr>\n",
              "    <tr>\n",
              "      <th>27</th>\n",
              "      <td>Inspur</td>\n",
              "      <td>23.548758</td>\n",
              "      <td>23.548758</td>\n",
              "      <td>0.000000</td>\n",
              "      <td>0.000000</td>\n",
              "      <td>1</td>\n",
              "    </tr>\n",
              "    <tr>\n",
              "      <th>28</th>\n",
              "      <td>Kunlun Inc.</td>\n",
              "      <td>23.397940</td>\n",
              "      <td>23.397940</td>\n",
              "      <td>100.000000</td>\n",
              "      <td>100.000000</td>\n",
              "      <td>1</td>\n",
              "    </tr>\n",
              "    <tr>\n",
              "      <th>29</th>\n",
              "      <td>Bloomberg</td>\n",
              "      <td>23.372912</td>\n",
              "      <td>23.372912</td>\n",
              "      <td>0.000000</td>\n",
              "      <td>0.000000</td>\n",
              "      <td>1</td>\n",
              "    </tr>\n",
              "    <tr>\n",
              "      <th>30</th>\n",
              "      <td>Johns Hopkins University</td>\n",
              "      <td>23.372912</td>\n",
              "      <td>22.810205</td>\n",
              "      <td>66.666667</td>\n",
              "      <td>33.333333</td>\n",
              "      <td>3</td>\n",
              "    </tr>\n",
              "    <tr>\n",
              "      <th>31</th>\n",
              "      <td>Amazon</td>\n",
              "      <td>23.310426</td>\n",
              "      <td>22.013632</td>\n",
              "      <td>0.000000</td>\n",
              "      <td>33.333333</td>\n",
              "      <td>3</td>\n",
              "    </tr>\n",
              "    <tr>\n",
              "      <th>32</th>\n",
              "      <td>Columbia University</td>\n",
              "      <td>23.204120</td>\n",
              "      <td>21.226899</td>\n",
              "      <td>88.888889</td>\n",
              "      <td>55.555556</td>\n",
              "      <td>9</td>\n",
              "    </tr>\n",
              "    <tr>\n",
              "      <th>33</th>\n",
              "      <td>University of California Los Angeles (UCLA)</td>\n",
              "      <td>23.204120</td>\n",
              "      <td>20.433439</td>\n",
              "      <td>25.000000</td>\n",
              "      <td>25.000000</td>\n",
              "      <td>4</td>\n",
              "    </tr>\n",
              "    <tr>\n",
              "      <th>34</th>\n",
              "      <td>NYU</td>\n",
              "      <td>23.204120</td>\n",
              "      <td>20.902866</td>\n",
              "      <td>89.473684</td>\n",
              "      <td>73.684211</td>\n",
              "      <td>19</td>\n",
              "    </tr>\n",
              "    <tr>\n",
              "      <th>35</th>\n",
              "      <td>Search Solutions</td>\n",
              "      <td>23.169086</td>\n",
              "      <td>23.169086</td>\n",
              "      <td>0.000000</td>\n",
              "      <td>0.000000</td>\n",
              "      <td>1</td>\n",
              "    </tr>\n",
              "    <tr>\n",
              "      <th>36</th>\n",
              "      <td>NAVER</td>\n",
              "      <td>23.169086</td>\n",
              "      <td>21.751468</td>\n",
              "      <td>20.000000</td>\n",
              "      <td>20.000000</td>\n",
              "      <td>5</td>\n",
              "    </tr>\n",
              "    <tr>\n",
              "      <th>37</th>\n",
              "      <td>MIT</td>\n",
              "      <td>23.041393</td>\n",
              "      <td>20.907508</td>\n",
              "      <td>73.684211</td>\n",
              "      <td>68.421053</td>\n",
              "      <td>19</td>\n",
              "    </tr>\n",
              "    <tr>\n",
              "      <th>38</th>\n",
              "      <td>Toyota Research Institute</td>\n",
              "      <td>23.041393</td>\n",
              "      <td>23.041393</td>\n",
              "      <td>100.000000</td>\n",
              "      <td>100.000000</td>\n",
              "      <td>1</td>\n",
              "    </tr>\n",
              "    <tr>\n",
              "      <th>39</th>\n",
              "      <td>Stanford</td>\n",
              "      <td>23.041393</td>\n",
              "      <td>20.803767</td>\n",
              "      <td>64.705882</td>\n",
              "      <td>70.588235</td>\n",
              "      <td>17</td>\n",
              "    </tr>\n",
              "  </tbody>\n",
              "</table>\n",
              "</div>"
            ],
            "text/plain": [
              "                                         Organization  \\\n",
              "0                                     Google/DeepMind   \n",
              "1                                       Meta/Facebook   \n",
              "2                                              OpenAI   \n",
              "3                                              NVIDIA   \n",
              "4                                   Peking University   \n",
              "5                                           ByteDance   \n",
              "6                                          Mistral AI   \n",
              "7                                       Inflection AI   \n",
              "8                                           Anthropic   \n",
              "9                     Technology Innovation Institute   \n",
              "10                                                xAI   \n",
              "11                                            Alibaba   \n",
              "12                                           DeepSeek   \n",
              "13                                          Microsoft   \n",
              "14                                                UCB   \n",
              "15                                  EvolutionaryScale   \n",
              "16                              Peng Cheng Laboratory   \n",
              "17                                              Baidu   \n",
              "18                                           Tsinghua   \n",
              "19                                    BioMap Research   \n",
              "20                                              01.AI   \n",
              "21                                       Hugging Face   \n",
              "22                                         BigScience   \n",
              "23                                              Apple   \n",
              "24                              Huawei Noah's Ark Lab   \n",
              "25  Mila - Quebec AI (originally Montreal Institut...   \n",
              "26                                  McGill University   \n",
              "27                                             Inspur   \n",
              "28                                        Kunlun Inc.   \n",
              "29                                          Bloomberg   \n",
              "30                           Johns Hopkins University   \n",
              "31                                             Amazon   \n",
              "32                                Columbia University   \n",
              "33        University of California Los Angeles (UCLA)   \n",
              "34                                                NYU   \n",
              "35                                   Search Solutions   \n",
              "36                                              NAVER   \n",
              "37                                                MIT   \n",
              "38                          Toyota Research Institute   \n",
              "39                                           Stanford   \n",
              "\n",
              "    Max Training Compute (FLOP)  Average Training Compute (FLOP)  \\\n",
              "0                     25.698970                        21.747013   \n",
              "1                     25.579784                        21.322178   \n",
              "2                     25.322219                        22.424921   \n",
              "3                     25.255273                        22.366720   \n",
              "4                     25.079181                        22.523616   \n",
              "5                     25.079181                        24.147339   \n",
              "6                     25.049218                        25.049218   \n",
              "7                     25.000434                        25.000239   \n",
              "8                     24.587262                        24.587262   \n",
              "9                     24.575188                        23.977700   \n",
              "10                    24.462398                        24.462398   \n",
              "11                    24.113943                        22.247894   \n",
              "12                    24.108971                        24.108971   \n",
              "13                    24.068186                        21.418858   \n",
              "14                    24.029384                        21.173322   \n",
              "15                    24.029384                        24.029384   \n",
              "16                    24.017909                        21.497130   \n",
              "17                    24.017909                        21.626130   \n",
              "18                    23.792392                        21.655713   \n",
              "19                    23.792392                        23.792392   \n",
              "20                    23.785330                        23.785330   \n",
              "21                    23.761176                        21.686589   \n",
              "22                    23.761176                        23.761176   \n",
              "23                    23.686636                        20.347764   \n",
              "24                    23.669317                        23.669317   \n",
              "25                    23.633468                        21.264708   \n",
              "26                    23.633468                        22.525957   \n",
              "27                    23.548758                        23.548758   \n",
              "28                    23.397940                        23.397940   \n",
              "29                    23.372912                        23.372912   \n",
              "30                    23.372912                        22.810205   \n",
              "31                    23.310426                        22.013632   \n",
              "32                    23.204120                        21.226899   \n",
              "33                    23.204120                        20.433439   \n",
              "34                    23.204120                        20.902866   \n",
              "35                    23.169086                        23.169086   \n",
              "36                    23.169086                        21.751468   \n",
              "37                    23.041393                        20.907508   \n",
              "38                    23.041393                        23.041393   \n",
              "39                    23.041393                        20.803767   \n",
              "\n",
              "    open_model_percentage  open_code_percentage  model_count  \n",
              "0               30.405405             35.135135          148  \n",
              "1               78.823529             63.529412           85  \n",
              "2               34.482759             20.689655           29  \n",
              "3               46.153846             23.076923           13  \n",
              "4                0.000000             66.666667            6  \n",
              "5                0.000000             66.666667            3  \n",
              "6               50.000000              0.000000            2  \n",
              "7                0.000000              0.000000            2  \n",
              "8                0.000000              0.000000            5  \n",
              "9              100.000000              0.000000            2  \n",
              "10             100.000000              0.000000            1  \n",
              "11              60.000000             20.000000           10  \n",
              "12             100.000000              0.000000            1  \n",
              "13              28.571429             21.428571           14  \n",
              "14              50.000000             50.000000           14  \n",
              "15               0.000000              0.000000            1  \n",
              "16               0.000000             50.000000            2  \n",
              "17              50.000000             25.000000            8  \n",
              "18              38.888889             38.888889           18  \n",
              "19               0.000000              0.000000            1  \n",
              "20             100.000000              0.000000            1  \n",
              "21             100.000000             42.857143            7  \n",
              "22             100.000000              0.000000            2  \n",
              "23              12.500000             25.000000            8  \n",
              "24               0.000000              0.000000            1  \n",
              "25              50.000000             50.000000            6  \n",
              "26             100.000000             66.666667            3  \n",
              "27               0.000000              0.000000            1  \n",
              "28             100.000000            100.000000            1  \n",
              "29               0.000000              0.000000            1  \n",
              "30              66.666667             33.333333            3  \n",
              "31               0.000000             33.333333            3  \n",
              "32              88.888889             55.555556            9  \n",
              "33              25.000000             25.000000            4  \n",
              "34              89.473684             73.684211           19  \n",
              "35               0.000000              0.000000            1  \n",
              "36              20.000000             20.000000            5  \n",
              "37              73.684211             68.421053           19  \n",
              "38             100.000000            100.000000            1  \n",
              "39              64.705882             70.588235           17  "
            ]
          },
          "execution_count": 16,
          "metadata": {},
          "output_type": "execute_result"
        }
      ],
      "source": [
        "all_models.head(40)"
      ]
    },
    {
      "cell_type": "code",
      "execution_count": 17,
      "metadata": {},
      "outputs": [
        {
          "data": {
            "text/plain": [
              "82"
            ]
          },
          "execution_count": 17,
          "metadata": {},
          "output_type": "execute_result"
        }
      ],
      "source": [
        "len(all_models[all_models['open_model_percentage'] > 99]['Organization'])"
      ]
    },
    {
      "cell_type": "code",
      "execution_count": 18,
      "metadata": {},
      "outputs": [
        {
          "data": {
            "text/plain": [
              "83"
            ]
          },
          "execution_count": 18,
          "metadata": {},
          "output_type": "execute_result"
        }
      ],
      "source": [
        "len(all_models[all_models['open_model_percentage'] < 1]['Organization'])"
      ]
    },
    {
      "cell_type": "code",
      "execution_count": 19,
      "metadata": {},
      "outputs": [
        {
          "data": {
            "text/plain": [
              "179"
            ]
          },
          "execution_count": 19,
          "metadata": {},
          "output_type": "execute_result"
        }
      ],
      "source": [
        "all_models.dropna(subset=['Max Training Compute (FLOP)'], inplace=True)\n",
        "len(all_models)"
      ]
    },
    {
      "cell_type": "code",
      "execution_count": 20,
      "metadata": {},
      "outputs": [
        {
          "data": {
            "application/vnd.plotly.v1+json": {
              "config": {
                "plotlyServerURL": "https://plot.ly"
              },
              "data": [
                {
                  "alignmentgroup": "True",
                  "bingroup": "x",
                  "hovertemplate": "Max Training Compute (FLOP)=%{x}<br>count=%{y}<extra></extra>",
                  "legendgroup": "",
                  "marker": {
                    "color": "#636efa",
                    "pattern": {
                      "shape": ""
                    }
                  },
                  "name": "",
                  "nbinsx": 50,
                  "offsetgroup": "",
                  "orientation": "v",
                  "showlegend": false,
                  "type": "histogram",
                  "x": [
                    25.698970004344705,
                    25.57978359661681,
                    25.32221929473392,
                    25.255272505103306,
                    25.079181246047625,
                    25.079181246047625,
                    25.049218022670182,
                    25.00043407747932,
                    24.587261849692535,
                    24.57518784492766,
                    24.462397997900453,
                    24.113943352306837,
                    24.10897071687948,
                    24.068185861746162,
                    24.029383777685208,
                    24.029383777685208,
                    24.017909395896687,
                    24.017909395896687,
                    23.792391689498253,
                    23.792391689498253,
                    23.785329835010767,
                    23.761175813155738,
                    23.761175813155738,
                    23.686636269262294,
                    23.66931688056611,
                    23.633468455579585,
                    23.633468455579585,
                    23.548757828573716,
                    23.397940008672037,
                    23.372912002970107,
                    23.372912002970107,
                    23.310425679010848,
                    23.204119982655925,
                    23.204119982655925,
                    23.204119982655925,
                    23.16908635748702,
                    23.16908635748702,
                    23.041392685158225,
                    23.041392685158225,
                    23.041392685158225,
                    23.041392685158225,
                    22.96924207030419,
                    22.927370363039024,
                    22.927370363039024,
                    22.927370363039024,
                    22.927370363039024,
                    22.927370363039024,
                    22.927370363039024,
                    22.927370363039024,
                    22.927370363039024,
                    22.927370363039024,
                    22.927370363039024,
                    22.927370363039024,
                    22.927370363039024,
                    22.927370363039024,
                    22.927370363039024,
                    22.927370363039024,
                    22.927370363039024,
                    22.927370363039024,
                    22.927370363039024,
                    22.927370363039024,
                    22.927370363039024,
                    22.927370363039024,
                    22.927370363039024,
                    22.927370363039024,
                    22.927370363039024,
                    22.927370363039024,
                    22.927370363039024,
                    22.927370363039024,
                    22.927370363039024,
                    22.867467487859052,
                    22.867467487859052,
                    22.867467487859052,
                    22.702430536445526,
                    22.69897000433602,
                    22.69897000433602,
                    22.680335513414562,
                    22.658964842664435,
                    22.658964842664435,
                    22.658964842664435,
                    22.658011396657113,
                    22.658011396657113,
                    22.599883072073688,
                    22.488550716500445,
                    22.488550716500445,
                    22.488550716500445,
                    22.482873583608754,
                    22.482873583608754,
                    22.482873583608754,
                    22.42813479402879,
                    22.36379994547911,
                    22.139938297473165,
                    22.130333768495007,
                    21.986771734266245,
                    21.986771734266245,
                    21.977723605288848,
                    21.87031676606081,
                    21.859738566197148,
                    21.859738566197148,
                    21.859738566197148,
                    21.618449295720836,
                    21.574140503302075,
                    21.574140503302075,
                    21.574140503302075,
                    21.574140503302075,
                    21.531478917042254,
                    21.477122702365524,
                    21.434568904034197,
                    21.351112760040234,
                    21.351112760040234,
                    21.255272505103306,
                    21.251463241166956,
                    21.193124598354462,
                    21.152288344383056,
                    21.152288344383056,
                    21.152288344383056,
                    21.041392685158225,
                    20.962932558558006,
                    20.928907690243953,
                    20.919078092376076,
                    20.89209460269048,
                    20.89209460269048,
                    20.89209460269048,
                    20.707570176097935,
                    20.707570176097935,
                    20.544068044350276,
                    20.287801729930226,
                    20.2450183964227,
                    20.198657086954423,
                    20.195899652409235,
                    20.195899652409235,
                    20.195899652409235,
                    20.146128035678238,
                    20.113943352306837,
                    20.093421685162234,
                    20.093421685162234,
                    20.093421685162234,
                    20.093421685162234,
                    19.919991968885864,
                    19.913813852383715,
                    19.812913356642856,
                    19.812913356642856,
                    19.64443858946784,
                    19.64443858946784,
                    19.444044795918078,
                    19.3812522996977,
                    19.369957133031,
                    19.3654879848909,
                    19.041392685158225,
                    19.041392685158225,
                    19.02118929906994,
                    18.987666264926276,
                    18.987666264926276,
                    18.976349979003274,
                    18.863322860120455,
                    18.67760695272049,
                    18.460897842756548,
                    18.460897842756548,
                    18.460897842756548,
                    18.460897842756548,
                    18.444044795918078,
                    18.444044795918078,
                    18.392696953259666,
                    18.3654879848909,
                    18.3654879848909,
                    17.840733234611807,
                    17.840733234611807,
                    17.80413943233535,
                    17.749736315569063,
                    17.662757831681574,
                    17.627365856592732,
                    17.435427064556656,
                    17.435427064556656,
                    17.435427064556656,
                    16.88024177589548,
                    15.30319605742049,
                    15.28330122870355,
                    15.008600171761918,
                    15.008600171761918
                  ],
                  "xaxis": "x",
                  "yaxis": "y"
                }
              ],
              "layout": {
                "barmode": "relative",
                "legend": {
                  "tracegroupgap": 0
                },
                "template": {
                  "data": {
                    "bar": [
                      {
                        "error_x": {
                          "color": "#2a3f5f"
                        },
                        "error_y": {
                          "color": "#2a3f5f"
                        },
                        "marker": {
                          "line": {
                            "color": "#E5ECF6",
                            "width": 0.5
                          },
                          "pattern": {
                            "fillmode": "overlay",
                            "size": 10,
                            "solidity": 0.2
                          }
                        },
                        "type": "bar"
                      }
                    ],
                    "barpolar": [
                      {
                        "marker": {
                          "line": {
                            "color": "#E5ECF6",
                            "width": 0.5
                          },
                          "pattern": {
                            "fillmode": "overlay",
                            "size": 10,
                            "solidity": 0.2
                          }
                        },
                        "type": "barpolar"
                      }
                    ],
                    "carpet": [
                      {
                        "aaxis": {
                          "endlinecolor": "#2a3f5f",
                          "gridcolor": "white",
                          "linecolor": "white",
                          "minorgridcolor": "white",
                          "startlinecolor": "#2a3f5f"
                        },
                        "baxis": {
                          "endlinecolor": "#2a3f5f",
                          "gridcolor": "white",
                          "linecolor": "white",
                          "minorgridcolor": "white",
                          "startlinecolor": "#2a3f5f"
                        },
                        "type": "carpet"
                      }
                    ],
                    "choropleth": [
                      {
                        "colorbar": {
                          "outlinewidth": 0,
                          "ticks": ""
                        },
                        "type": "choropleth"
                      }
                    ],
                    "contour": [
                      {
                        "colorbar": {
                          "outlinewidth": 0,
                          "ticks": ""
                        },
                        "colorscale": [
                          [
                            0,
                            "#0d0887"
                          ],
                          [
                            0.1111111111111111,
                            "#46039f"
                          ],
                          [
                            0.2222222222222222,
                            "#7201a8"
                          ],
                          [
                            0.3333333333333333,
                            "#9c179e"
                          ],
                          [
                            0.4444444444444444,
                            "#bd3786"
                          ],
                          [
                            0.5555555555555556,
                            "#d8576b"
                          ],
                          [
                            0.6666666666666666,
                            "#ed7953"
                          ],
                          [
                            0.7777777777777778,
                            "#fb9f3a"
                          ],
                          [
                            0.8888888888888888,
                            "#fdca26"
                          ],
                          [
                            1,
                            "#f0f921"
                          ]
                        ],
                        "type": "contour"
                      }
                    ],
                    "contourcarpet": [
                      {
                        "colorbar": {
                          "outlinewidth": 0,
                          "ticks": ""
                        },
                        "type": "contourcarpet"
                      }
                    ],
                    "heatmap": [
                      {
                        "colorbar": {
                          "outlinewidth": 0,
                          "ticks": ""
                        },
                        "colorscale": [
                          [
                            0,
                            "#0d0887"
                          ],
                          [
                            0.1111111111111111,
                            "#46039f"
                          ],
                          [
                            0.2222222222222222,
                            "#7201a8"
                          ],
                          [
                            0.3333333333333333,
                            "#9c179e"
                          ],
                          [
                            0.4444444444444444,
                            "#bd3786"
                          ],
                          [
                            0.5555555555555556,
                            "#d8576b"
                          ],
                          [
                            0.6666666666666666,
                            "#ed7953"
                          ],
                          [
                            0.7777777777777778,
                            "#fb9f3a"
                          ],
                          [
                            0.8888888888888888,
                            "#fdca26"
                          ],
                          [
                            1,
                            "#f0f921"
                          ]
                        ],
                        "type": "heatmap"
                      }
                    ],
                    "heatmapgl": [
                      {
                        "colorbar": {
                          "outlinewidth": 0,
                          "ticks": ""
                        },
                        "colorscale": [
                          [
                            0,
                            "#0d0887"
                          ],
                          [
                            0.1111111111111111,
                            "#46039f"
                          ],
                          [
                            0.2222222222222222,
                            "#7201a8"
                          ],
                          [
                            0.3333333333333333,
                            "#9c179e"
                          ],
                          [
                            0.4444444444444444,
                            "#bd3786"
                          ],
                          [
                            0.5555555555555556,
                            "#d8576b"
                          ],
                          [
                            0.6666666666666666,
                            "#ed7953"
                          ],
                          [
                            0.7777777777777778,
                            "#fb9f3a"
                          ],
                          [
                            0.8888888888888888,
                            "#fdca26"
                          ],
                          [
                            1,
                            "#f0f921"
                          ]
                        ],
                        "type": "heatmapgl"
                      }
                    ],
                    "histogram": [
                      {
                        "marker": {
                          "pattern": {
                            "fillmode": "overlay",
                            "size": 10,
                            "solidity": 0.2
                          }
                        },
                        "type": "histogram"
                      }
                    ],
                    "histogram2d": [
                      {
                        "colorbar": {
                          "outlinewidth": 0,
                          "ticks": ""
                        },
                        "colorscale": [
                          [
                            0,
                            "#0d0887"
                          ],
                          [
                            0.1111111111111111,
                            "#46039f"
                          ],
                          [
                            0.2222222222222222,
                            "#7201a8"
                          ],
                          [
                            0.3333333333333333,
                            "#9c179e"
                          ],
                          [
                            0.4444444444444444,
                            "#bd3786"
                          ],
                          [
                            0.5555555555555556,
                            "#d8576b"
                          ],
                          [
                            0.6666666666666666,
                            "#ed7953"
                          ],
                          [
                            0.7777777777777778,
                            "#fb9f3a"
                          ],
                          [
                            0.8888888888888888,
                            "#fdca26"
                          ],
                          [
                            1,
                            "#f0f921"
                          ]
                        ],
                        "type": "histogram2d"
                      }
                    ],
                    "histogram2dcontour": [
                      {
                        "colorbar": {
                          "outlinewidth": 0,
                          "ticks": ""
                        },
                        "colorscale": [
                          [
                            0,
                            "#0d0887"
                          ],
                          [
                            0.1111111111111111,
                            "#46039f"
                          ],
                          [
                            0.2222222222222222,
                            "#7201a8"
                          ],
                          [
                            0.3333333333333333,
                            "#9c179e"
                          ],
                          [
                            0.4444444444444444,
                            "#bd3786"
                          ],
                          [
                            0.5555555555555556,
                            "#d8576b"
                          ],
                          [
                            0.6666666666666666,
                            "#ed7953"
                          ],
                          [
                            0.7777777777777778,
                            "#fb9f3a"
                          ],
                          [
                            0.8888888888888888,
                            "#fdca26"
                          ],
                          [
                            1,
                            "#f0f921"
                          ]
                        ],
                        "type": "histogram2dcontour"
                      }
                    ],
                    "mesh3d": [
                      {
                        "colorbar": {
                          "outlinewidth": 0,
                          "ticks": ""
                        },
                        "type": "mesh3d"
                      }
                    ],
                    "parcoords": [
                      {
                        "line": {
                          "colorbar": {
                            "outlinewidth": 0,
                            "ticks": ""
                          }
                        },
                        "type": "parcoords"
                      }
                    ],
                    "pie": [
                      {
                        "automargin": true,
                        "type": "pie"
                      }
                    ],
                    "scatter": [
                      {
                        "fillpattern": {
                          "fillmode": "overlay",
                          "size": 10,
                          "solidity": 0.2
                        },
                        "type": "scatter"
                      }
                    ],
                    "scatter3d": [
                      {
                        "line": {
                          "colorbar": {
                            "outlinewidth": 0,
                            "ticks": ""
                          }
                        },
                        "marker": {
                          "colorbar": {
                            "outlinewidth": 0,
                            "ticks": ""
                          }
                        },
                        "type": "scatter3d"
                      }
                    ],
                    "scattercarpet": [
                      {
                        "marker": {
                          "colorbar": {
                            "outlinewidth": 0,
                            "ticks": ""
                          }
                        },
                        "type": "scattercarpet"
                      }
                    ],
                    "scattergeo": [
                      {
                        "marker": {
                          "colorbar": {
                            "outlinewidth": 0,
                            "ticks": ""
                          }
                        },
                        "type": "scattergeo"
                      }
                    ],
                    "scattergl": [
                      {
                        "marker": {
                          "colorbar": {
                            "outlinewidth": 0,
                            "ticks": ""
                          }
                        },
                        "type": "scattergl"
                      }
                    ],
                    "scattermapbox": [
                      {
                        "marker": {
                          "colorbar": {
                            "outlinewidth": 0,
                            "ticks": ""
                          }
                        },
                        "type": "scattermapbox"
                      }
                    ],
                    "scatterpolar": [
                      {
                        "marker": {
                          "colorbar": {
                            "outlinewidth": 0,
                            "ticks": ""
                          }
                        },
                        "type": "scatterpolar"
                      }
                    ],
                    "scatterpolargl": [
                      {
                        "marker": {
                          "colorbar": {
                            "outlinewidth": 0,
                            "ticks": ""
                          }
                        },
                        "type": "scatterpolargl"
                      }
                    ],
                    "scatterternary": [
                      {
                        "marker": {
                          "colorbar": {
                            "outlinewidth": 0,
                            "ticks": ""
                          }
                        },
                        "type": "scatterternary"
                      }
                    ],
                    "surface": [
                      {
                        "colorbar": {
                          "outlinewidth": 0,
                          "ticks": ""
                        },
                        "colorscale": [
                          [
                            0,
                            "#0d0887"
                          ],
                          [
                            0.1111111111111111,
                            "#46039f"
                          ],
                          [
                            0.2222222222222222,
                            "#7201a8"
                          ],
                          [
                            0.3333333333333333,
                            "#9c179e"
                          ],
                          [
                            0.4444444444444444,
                            "#bd3786"
                          ],
                          [
                            0.5555555555555556,
                            "#d8576b"
                          ],
                          [
                            0.6666666666666666,
                            "#ed7953"
                          ],
                          [
                            0.7777777777777778,
                            "#fb9f3a"
                          ],
                          [
                            0.8888888888888888,
                            "#fdca26"
                          ],
                          [
                            1,
                            "#f0f921"
                          ]
                        ],
                        "type": "surface"
                      }
                    ],
                    "table": [
                      {
                        "cells": {
                          "fill": {
                            "color": "#EBF0F8"
                          },
                          "line": {
                            "color": "white"
                          }
                        },
                        "header": {
                          "fill": {
                            "color": "#C8D4E3"
                          },
                          "line": {
                            "color": "white"
                          }
                        },
                        "type": "table"
                      }
                    ]
                  },
                  "layout": {
                    "annotationdefaults": {
                      "arrowcolor": "#2a3f5f",
                      "arrowhead": 0,
                      "arrowwidth": 1
                    },
                    "autotypenumbers": "strict",
                    "coloraxis": {
                      "colorbar": {
                        "outlinewidth": 0,
                        "ticks": ""
                      }
                    },
                    "colorscale": {
                      "diverging": [
                        [
                          0,
                          "#8e0152"
                        ],
                        [
                          0.1,
                          "#c51b7d"
                        ],
                        [
                          0.2,
                          "#de77ae"
                        ],
                        [
                          0.3,
                          "#f1b6da"
                        ],
                        [
                          0.4,
                          "#fde0ef"
                        ],
                        [
                          0.5,
                          "#f7f7f7"
                        ],
                        [
                          0.6,
                          "#e6f5d0"
                        ],
                        [
                          0.7,
                          "#b8e186"
                        ],
                        [
                          0.8,
                          "#7fbc41"
                        ],
                        [
                          0.9,
                          "#4d9221"
                        ],
                        [
                          1,
                          "#276419"
                        ]
                      ],
                      "sequential": [
                        [
                          0,
                          "#0d0887"
                        ],
                        [
                          0.1111111111111111,
                          "#46039f"
                        ],
                        [
                          0.2222222222222222,
                          "#7201a8"
                        ],
                        [
                          0.3333333333333333,
                          "#9c179e"
                        ],
                        [
                          0.4444444444444444,
                          "#bd3786"
                        ],
                        [
                          0.5555555555555556,
                          "#d8576b"
                        ],
                        [
                          0.6666666666666666,
                          "#ed7953"
                        ],
                        [
                          0.7777777777777778,
                          "#fb9f3a"
                        ],
                        [
                          0.8888888888888888,
                          "#fdca26"
                        ],
                        [
                          1,
                          "#f0f921"
                        ]
                      ],
                      "sequentialminus": [
                        [
                          0,
                          "#0d0887"
                        ],
                        [
                          0.1111111111111111,
                          "#46039f"
                        ],
                        [
                          0.2222222222222222,
                          "#7201a8"
                        ],
                        [
                          0.3333333333333333,
                          "#9c179e"
                        ],
                        [
                          0.4444444444444444,
                          "#bd3786"
                        ],
                        [
                          0.5555555555555556,
                          "#d8576b"
                        ],
                        [
                          0.6666666666666666,
                          "#ed7953"
                        ],
                        [
                          0.7777777777777778,
                          "#fb9f3a"
                        ],
                        [
                          0.8888888888888888,
                          "#fdca26"
                        ],
                        [
                          1,
                          "#f0f921"
                        ]
                      ]
                    },
                    "colorway": [
                      "#636efa",
                      "#EF553B",
                      "#00cc96",
                      "#ab63fa",
                      "#FFA15A",
                      "#19d3f3",
                      "#FF6692",
                      "#B6E880",
                      "#FF97FF",
                      "#FECB52"
                    ],
                    "font": {
                      "color": "#2a3f5f"
                    },
                    "geo": {
                      "bgcolor": "white",
                      "lakecolor": "white",
                      "landcolor": "#E5ECF6",
                      "showlakes": true,
                      "showland": true,
                      "subunitcolor": "white"
                    },
                    "hoverlabel": {
                      "align": "left"
                    },
                    "hovermode": "closest",
                    "mapbox": {
                      "style": "light"
                    },
                    "paper_bgcolor": "white",
                    "plot_bgcolor": "#E5ECF6",
                    "polar": {
                      "angularaxis": {
                        "gridcolor": "white",
                        "linecolor": "white",
                        "ticks": ""
                      },
                      "bgcolor": "#E5ECF6",
                      "radialaxis": {
                        "gridcolor": "white",
                        "linecolor": "white",
                        "ticks": ""
                      }
                    },
                    "scene": {
                      "xaxis": {
                        "backgroundcolor": "#E5ECF6",
                        "gridcolor": "white",
                        "gridwidth": 2,
                        "linecolor": "white",
                        "showbackground": true,
                        "ticks": "",
                        "zerolinecolor": "white"
                      },
                      "yaxis": {
                        "backgroundcolor": "#E5ECF6",
                        "gridcolor": "white",
                        "gridwidth": 2,
                        "linecolor": "white",
                        "showbackground": true,
                        "ticks": "",
                        "zerolinecolor": "white"
                      },
                      "zaxis": {
                        "backgroundcolor": "#E5ECF6",
                        "gridcolor": "white",
                        "gridwidth": 2,
                        "linecolor": "white",
                        "showbackground": true,
                        "ticks": "",
                        "zerolinecolor": "white"
                      }
                    },
                    "shapedefaults": {
                      "line": {
                        "color": "#2a3f5f"
                      }
                    },
                    "ternary": {
                      "aaxis": {
                        "gridcolor": "white",
                        "linecolor": "white",
                        "ticks": ""
                      },
                      "baxis": {
                        "gridcolor": "white",
                        "linecolor": "white",
                        "ticks": ""
                      },
                      "bgcolor": "#E5ECF6",
                      "caxis": {
                        "gridcolor": "white",
                        "linecolor": "white",
                        "ticks": ""
                      }
                    },
                    "title": {
                      "x": 0.05
                    },
                    "xaxis": {
                      "automargin": true,
                      "gridcolor": "white",
                      "linecolor": "white",
                      "ticks": "",
                      "title": {
                        "standoff": 15
                      },
                      "zerolinecolor": "white",
                      "zerolinewidth": 2
                    },
                    "yaxis": {
                      "automargin": true,
                      "gridcolor": "white",
                      "linecolor": "white",
                      "ticks": "",
                      "title": {
                        "standoff": 15
                      },
                      "zerolinecolor": "white",
                      "zerolinewidth": 2
                    }
                  }
                },
                "title": {
                  "text": "Distribution of log-FLOP"
                },
                "xaxis": {
                  "anchor": "y",
                  "domain": [
                    0,
                    1
                  ],
                  "title": {
                    "text": "Max Training Compute (FLOP)"
                  }
                },
                "yaxis": {
                  "anchor": "x",
                  "domain": [
                    0,
                    1
                  ],
                  "title": {
                    "text": "count"
                  }
                }
              }
            }
          },
          "metadata": {},
          "output_type": "display_data"
        },
        {
          "data": {
            "application/vnd.plotly.v1+json": {
              "config": {
                "plotlyServerURL": "https://plot.ly"
              },
              "data": [
                {
                  "alignmentgroup": "True",
                  "bingroup": "x",
                  "hovertemplate": "open_model_percentage=%{x}<br>count=%{y}<extra></extra>",
                  "legendgroup": "",
                  "marker": {
                    "color": "#636efa",
                    "pattern": {
                      "shape": ""
                    }
                  },
                  "name": "",
                  "nbinsx": 50,
                  "offsetgroup": "",
                  "orientation": "v",
                  "showlegend": false,
                  "type": "histogram",
                  "x": [
                    30.405405405405407,
                    78.82352941176471,
                    34.48275862068966,
                    46.15384615384615,
                    0,
                    0,
                    50,
                    0,
                    0,
                    100,
                    100,
                    60,
                    100,
                    28.57142857142857,
                    50,
                    0,
                    0,
                    50,
                    38.88888888888889,
                    0,
                    100,
                    100,
                    100,
                    12.5,
                    0,
                    50,
                    100,
                    0,
                    100,
                    0,
                    66.66666666666666,
                    0,
                    88.88888888888889,
                    25,
                    89.47368421052632,
                    0,
                    20,
                    73.68421052631578,
                    100,
                    64.70588235294117,
                    100,
                    100,
                    100,
                    100,
                    100,
                    100,
                    100,
                    100,
                    50,
                    100,
                    100,
                    100,
                    100,
                    100,
                    100,
                    50,
                    75,
                    100,
                    100,
                    50,
                    100,
                    100,
                    100,
                    100,
                    100,
                    100,
                    100,
                    100,
                    66.66666666666666,
                    47.05882352941176,
                    100,
                    100,
                    100,
                    100,
                    100,
                    50,
                    0,
                    100,
                    66.66666666666666,
                    33.33333333333333,
                    37.5,
                    66.66666666666666,
                    100,
                    50,
                    100,
                    100,
                    50,
                    0,
                    25,
                    100,
                    100,
                    0,
                    60,
                    100,
                    75,
                    66.66666666666666,
                    100,
                    25,
                    66.66666666666666,
                    50,
                    45.45454545454545,
                    100,
                    66.66666666666666,
                    80,
                    33.33333333333333,
                    100,
                    75,
                    100,
                    100,
                    100,
                    100,
                    50,
                    75,
                    0,
                    0,
                    0,
                    40,
                    75,
                    100,
                    100,
                    0,
                    0,
                    0,
                    0,
                    0,
                    0,
                    100,
                    50,
                    25,
                    100,
                    100,
                    40,
                    100,
                    0,
                    0,
                    0,
                    16.666666666666664,
                    0,
                    50,
                    0,
                    0,
                    0,
                    0,
                    66.66666666666666,
                    0,
                    100,
                    100,
                    100,
                    50,
                    0,
                    33.33333333333333,
                    0,
                    0,
                    0,
                    100,
                    0,
                    25,
                    0,
                    0,
                    0,
                    25,
                    0,
                    100,
                    0,
                    0,
                    100,
                    100,
                    100,
                    0,
                    0,
                    100,
                    100,
                    100,
                    100,
                    0,
                    0,
                    0,
                    0,
                    0
                  ],
                  "xaxis": "x",
                  "yaxis": "y"
                }
              ],
              "layout": {
                "barmode": "relative",
                "legend": {
                  "tracegroupgap": 0
                },
                "template": {
                  "data": {
                    "bar": [
                      {
                        "error_x": {
                          "color": "#2a3f5f"
                        },
                        "error_y": {
                          "color": "#2a3f5f"
                        },
                        "marker": {
                          "line": {
                            "color": "#E5ECF6",
                            "width": 0.5
                          },
                          "pattern": {
                            "fillmode": "overlay",
                            "size": 10,
                            "solidity": 0.2
                          }
                        },
                        "type": "bar"
                      }
                    ],
                    "barpolar": [
                      {
                        "marker": {
                          "line": {
                            "color": "#E5ECF6",
                            "width": 0.5
                          },
                          "pattern": {
                            "fillmode": "overlay",
                            "size": 10,
                            "solidity": 0.2
                          }
                        },
                        "type": "barpolar"
                      }
                    ],
                    "carpet": [
                      {
                        "aaxis": {
                          "endlinecolor": "#2a3f5f",
                          "gridcolor": "white",
                          "linecolor": "white",
                          "minorgridcolor": "white",
                          "startlinecolor": "#2a3f5f"
                        },
                        "baxis": {
                          "endlinecolor": "#2a3f5f",
                          "gridcolor": "white",
                          "linecolor": "white",
                          "minorgridcolor": "white",
                          "startlinecolor": "#2a3f5f"
                        },
                        "type": "carpet"
                      }
                    ],
                    "choropleth": [
                      {
                        "colorbar": {
                          "outlinewidth": 0,
                          "ticks": ""
                        },
                        "type": "choropleth"
                      }
                    ],
                    "contour": [
                      {
                        "colorbar": {
                          "outlinewidth": 0,
                          "ticks": ""
                        },
                        "colorscale": [
                          [
                            0,
                            "#0d0887"
                          ],
                          [
                            0.1111111111111111,
                            "#46039f"
                          ],
                          [
                            0.2222222222222222,
                            "#7201a8"
                          ],
                          [
                            0.3333333333333333,
                            "#9c179e"
                          ],
                          [
                            0.4444444444444444,
                            "#bd3786"
                          ],
                          [
                            0.5555555555555556,
                            "#d8576b"
                          ],
                          [
                            0.6666666666666666,
                            "#ed7953"
                          ],
                          [
                            0.7777777777777778,
                            "#fb9f3a"
                          ],
                          [
                            0.8888888888888888,
                            "#fdca26"
                          ],
                          [
                            1,
                            "#f0f921"
                          ]
                        ],
                        "type": "contour"
                      }
                    ],
                    "contourcarpet": [
                      {
                        "colorbar": {
                          "outlinewidth": 0,
                          "ticks": ""
                        },
                        "type": "contourcarpet"
                      }
                    ],
                    "heatmap": [
                      {
                        "colorbar": {
                          "outlinewidth": 0,
                          "ticks": ""
                        },
                        "colorscale": [
                          [
                            0,
                            "#0d0887"
                          ],
                          [
                            0.1111111111111111,
                            "#46039f"
                          ],
                          [
                            0.2222222222222222,
                            "#7201a8"
                          ],
                          [
                            0.3333333333333333,
                            "#9c179e"
                          ],
                          [
                            0.4444444444444444,
                            "#bd3786"
                          ],
                          [
                            0.5555555555555556,
                            "#d8576b"
                          ],
                          [
                            0.6666666666666666,
                            "#ed7953"
                          ],
                          [
                            0.7777777777777778,
                            "#fb9f3a"
                          ],
                          [
                            0.8888888888888888,
                            "#fdca26"
                          ],
                          [
                            1,
                            "#f0f921"
                          ]
                        ],
                        "type": "heatmap"
                      }
                    ],
                    "heatmapgl": [
                      {
                        "colorbar": {
                          "outlinewidth": 0,
                          "ticks": ""
                        },
                        "colorscale": [
                          [
                            0,
                            "#0d0887"
                          ],
                          [
                            0.1111111111111111,
                            "#46039f"
                          ],
                          [
                            0.2222222222222222,
                            "#7201a8"
                          ],
                          [
                            0.3333333333333333,
                            "#9c179e"
                          ],
                          [
                            0.4444444444444444,
                            "#bd3786"
                          ],
                          [
                            0.5555555555555556,
                            "#d8576b"
                          ],
                          [
                            0.6666666666666666,
                            "#ed7953"
                          ],
                          [
                            0.7777777777777778,
                            "#fb9f3a"
                          ],
                          [
                            0.8888888888888888,
                            "#fdca26"
                          ],
                          [
                            1,
                            "#f0f921"
                          ]
                        ],
                        "type": "heatmapgl"
                      }
                    ],
                    "histogram": [
                      {
                        "marker": {
                          "pattern": {
                            "fillmode": "overlay",
                            "size": 10,
                            "solidity": 0.2
                          }
                        },
                        "type": "histogram"
                      }
                    ],
                    "histogram2d": [
                      {
                        "colorbar": {
                          "outlinewidth": 0,
                          "ticks": ""
                        },
                        "colorscale": [
                          [
                            0,
                            "#0d0887"
                          ],
                          [
                            0.1111111111111111,
                            "#46039f"
                          ],
                          [
                            0.2222222222222222,
                            "#7201a8"
                          ],
                          [
                            0.3333333333333333,
                            "#9c179e"
                          ],
                          [
                            0.4444444444444444,
                            "#bd3786"
                          ],
                          [
                            0.5555555555555556,
                            "#d8576b"
                          ],
                          [
                            0.6666666666666666,
                            "#ed7953"
                          ],
                          [
                            0.7777777777777778,
                            "#fb9f3a"
                          ],
                          [
                            0.8888888888888888,
                            "#fdca26"
                          ],
                          [
                            1,
                            "#f0f921"
                          ]
                        ],
                        "type": "histogram2d"
                      }
                    ],
                    "histogram2dcontour": [
                      {
                        "colorbar": {
                          "outlinewidth": 0,
                          "ticks": ""
                        },
                        "colorscale": [
                          [
                            0,
                            "#0d0887"
                          ],
                          [
                            0.1111111111111111,
                            "#46039f"
                          ],
                          [
                            0.2222222222222222,
                            "#7201a8"
                          ],
                          [
                            0.3333333333333333,
                            "#9c179e"
                          ],
                          [
                            0.4444444444444444,
                            "#bd3786"
                          ],
                          [
                            0.5555555555555556,
                            "#d8576b"
                          ],
                          [
                            0.6666666666666666,
                            "#ed7953"
                          ],
                          [
                            0.7777777777777778,
                            "#fb9f3a"
                          ],
                          [
                            0.8888888888888888,
                            "#fdca26"
                          ],
                          [
                            1,
                            "#f0f921"
                          ]
                        ],
                        "type": "histogram2dcontour"
                      }
                    ],
                    "mesh3d": [
                      {
                        "colorbar": {
                          "outlinewidth": 0,
                          "ticks": ""
                        },
                        "type": "mesh3d"
                      }
                    ],
                    "parcoords": [
                      {
                        "line": {
                          "colorbar": {
                            "outlinewidth": 0,
                            "ticks": ""
                          }
                        },
                        "type": "parcoords"
                      }
                    ],
                    "pie": [
                      {
                        "automargin": true,
                        "type": "pie"
                      }
                    ],
                    "scatter": [
                      {
                        "fillpattern": {
                          "fillmode": "overlay",
                          "size": 10,
                          "solidity": 0.2
                        },
                        "type": "scatter"
                      }
                    ],
                    "scatter3d": [
                      {
                        "line": {
                          "colorbar": {
                            "outlinewidth": 0,
                            "ticks": ""
                          }
                        },
                        "marker": {
                          "colorbar": {
                            "outlinewidth": 0,
                            "ticks": ""
                          }
                        },
                        "type": "scatter3d"
                      }
                    ],
                    "scattercarpet": [
                      {
                        "marker": {
                          "colorbar": {
                            "outlinewidth": 0,
                            "ticks": ""
                          }
                        },
                        "type": "scattercarpet"
                      }
                    ],
                    "scattergeo": [
                      {
                        "marker": {
                          "colorbar": {
                            "outlinewidth": 0,
                            "ticks": ""
                          }
                        },
                        "type": "scattergeo"
                      }
                    ],
                    "scattergl": [
                      {
                        "marker": {
                          "colorbar": {
                            "outlinewidth": 0,
                            "ticks": ""
                          }
                        },
                        "type": "scattergl"
                      }
                    ],
                    "scattermapbox": [
                      {
                        "marker": {
                          "colorbar": {
                            "outlinewidth": 0,
                            "ticks": ""
                          }
                        },
                        "type": "scattermapbox"
                      }
                    ],
                    "scatterpolar": [
                      {
                        "marker": {
                          "colorbar": {
                            "outlinewidth": 0,
                            "ticks": ""
                          }
                        },
                        "type": "scatterpolar"
                      }
                    ],
                    "scatterpolargl": [
                      {
                        "marker": {
                          "colorbar": {
                            "outlinewidth": 0,
                            "ticks": ""
                          }
                        },
                        "type": "scatterpolargl"
                      }
                    ],
                    "scatterternary": [
                      {
                        "marker": {
                          "colorbar": {
                            "outlinewidth": 0,
                            "ticks": ""
                          }
                        },
                        "type": "scatterternary"
                      }
                    ],
                    "surface": [
                      {
                        "colorbar": {
                          "outlinewidth": 0,
                          "ticks": ""
                        },
                        "colorscale": [
                          [
                            0,
                            "#0d0887"
                          ],
                          [
                            0.1111111111111111,
                            "#46039f"
                          ],
                          [
                            0.2222222222222222,
                            "#7201a8"
                          ],
                          [
                            0.3333333333333333,
                            "#9c179e"
                          ],
                          [
                            0.4444444444444444,
                            "#bd3786"
                          ],
                          [
                            0.5555555555555556,
                            "#d8576b"
                          ],
                          [
                            0.6666666666666666,
                            "#ed7953"
                          ],
                          [
                            0.7777777777777778,
                            "#fb9f3a"
                          ],
                          [
                            0.8888888888888888,
                            "#fdca26"
                          ],
                          [
                            1,
                            "#f0f921"
                          ]
                        ],
                        "type": "surface"
                      }
                    ],
                    "table": [
                      {
                        "cells": {
                          "fill": {
                            "color": "#EBF0F8"
                          },
                          "line": {
                            "color": "white"
                          }
                        },
                        "header": {
                          "fill": {
                            "color": "#C8D4E3"
                          },
                          "line": {
                            "color": "white"
                          }
                        },
                        "type": "table"
                      }
                    ]
                  },
                  "layout": {
                    "annotationdefaults": {
                      "arrowcolor": "#2a3f5f",
                      "arrowhead": 0,
                      "arrowwidth": 1
                    },
                    "autotypenumbers": "strict",
                    "coloraxis": {
                      "colorbar": {
                        "outlinewidth": 0,
                        "ticks": ""
                      }
                    },
                    "colorscale": {
                      "diverging": [
                        [
                          0,
                          "#8e0152"
                        ],
                        [
                          0.1,
                          "#c51b7d"
                        ],
                        [
                          0.2,
                          "#de77ae"
                        ],
                        [
                          0.3,
                          "#f1b6da"
                        ],
                        [
                          0.4,
                          "#fde0ef"
                        ],
                        [
                          0.5,
                          "#f7f7f7"
                        ],
                        [
                          0.6,
                          "#e6f5d0"
                        ],
                        [
                          0.7,
                          "#b8e186"
                        ],
                        [
                          0.8,
                          "#7fbc41"
                        ],
                        [
                          0.9,
                          "#4d9221"
                        ],
                        [
                          1,
                          "#276419"
                        ]
                      ],
                      "sequential": [
                        [
                          0,
                          "#0d0887"
                        ],
                        [
                          0.1111111111111111,
                          "#46039f"
                        ],
                        [
                          0.2222222222222222,
                          "#7201a8"
                        ],
                        [
                          0.3333333333333333,
                          "#9c179e"
                        ],
                        [
                          0.4444444444444444,
                          "#bd3786"
                        ],
                        [
                          0.5555555555555556,
                          "#d8576b"
                        ],
                        [
                          0.6666666666666666,
                          "#ed7953"
                        ],
                        [
                          0.7777777777777778,
                          "#fb9f3a"
                        ],
                        [
                          0.8888888888888888,
                          "#fdca26"
                        ],
                        [
                          1,
                          "#f0f921"
                        ]
                      ],
                      "sequentialminus": [
                        [
                          0,
                          "#0d0887"
                        ],
                        [
                          0.1111111111111111,
                          "#46039f"
                        ],
                        [
                          0.2222222222222222,
                          "#7201a8"
                        ],
                        [
                          0.3333333333333333,
                          "#9c179e"
                        ],
                        [
                          0.4444444444444444,
                          "#bd3786"
                        ],
                        [
                          0.5555555555555556,
                          "#d8576b"
                        ],
                        [
                          0.6666666666666666,
                          "#ed7953"
                        ],
                        [
                          0.7777777777777778,
                          "#fb9f3a"
                        ],
                        [
                          0.8888888888888888,
                          "#fdca26"
                        ],
                        [
                          1,
                          "#f0f921"
                        ]
                      ]
                    },
                    "colorway": [
                      "#636efa",
                      "#EF553B",
                      "#00cc96",
                      "#ab63fa",
                      "#FFA15A",
                      "#19d3f3",
                      "#FF6692",
                      "#B6E880",
                      "#FF97FF",
                      "#FECB52"
                    ],
                    "font": {
                      "color": "#2a3f5f"
                    },
                    "geo": {
                      "bgcolor": "white",
                      "lakecolor": "white",
                      "landcolor": "#E5ECF6",
                      "showlakes": true,
                      "showland": true,
                      "subunitcolor": "white"
                    },
                    "hoverlabel": {
                      "align": "left"
                    },
                    "hovermode": "closest",
                    "mapbox": {
                      "style": "light"
                    },
                    "paper_bgcolor": "white",
                    "plot_bgcolor": "#E5ECF6",
                    "polar": {
                      "angularaxis": {
                        "gridcolor": "white",
                        "linecolor": "white",
                        "ticks": ""
                      },
                      "bgcolor": "#E5ECF6",
                      "radialaxis": {
                        "gridcolor": "white",
                        "linecolor": "white",
                        "ticks": ""
                      }
                    },
                    "scene": {
                      "xaxis": {
                        "backgroundcolor": "#E5ECF6",
                        "gridcolor": "white",
                        "gridwidth": 2,
                        "linecolor": "white",
                        "showbackground": true,
                        "ticks": "",
                        "zerolinecolor": "white"
                      },
                      "yaxis": {
                        "backgroundcolor": "#E5ECF6",
                        "gridcolor": "white",
                        "gridwidth": 2,
                        "linecolor": "white",
                        "showbackground": true,
                        "ticks": "",
                        "zerolinecolor": "white"
                      },
                      "zaxis": {
                        "backgroundcolor": "#E5ECF6",
                        "gridcolor": "white",
                        "gridwidth": 2,
                        "linecolor": "white",
                        "showbackground": true,
                        "ticks": "",
                        "zerolinecolor": "white"
                      }
                    },
                    "shapedefaults": {
                      "line": {
                        "color": "#2a3f5f"
                      }
                    },
                    "ternary": {
                      "aaxis": {
                        "gridcolor": "white",
                        "linecolor": "white",
                        "ticks": ""
                      },
                      "baxis": {
                        "gridcolor": "white",
                        "linecolor": "white",
                        "ticks": ""
                      },
                      "bgcolor": "#E5ECF6",
                      "caxis": {
                        "gridcolor": "white",
                        "linecolor": "white",
                        "ticks": ""
                      }
                    },
                    "title": {
                      "x": 0.05
                    },
                    "xaxis": {
                      "automargin": true,
                      "gridcolor": "white",
                      "linecolor": "white",
                      "ticks": "",
                      "title": {
                        "standoff": 15
                      },
                      "zerolinecolor": "white",
                      "zerolinewidth": 2
                    },
                    "yaxis": {
                      "automargin": true,
                      "gridcolor": "white",
                      "linecolor": "white",
                      "ticks": "",
                      "title": {
                        "standoff": 15
                      },
                      "zerolinecolor": "white",
                      "zerolinewidth": 2
                    }
                  }
                },
                "title": {
                  "text": "Distribution of open model percentage"
                },
                "xaxis": {
                  "anchor": "y",
                  "domain": [
                    0,
                    1
                  ],
                  "title": {
                    "text": "open_model_percentage"
                  }
                },
                "yaxis": {
                  "anchor": "x",
                  "domain": [
                    0,
                    1
                  ],
                  "title": {
                    "text": "count"
                  }
                }
              }
            }
          },
          "metadata": {},
          "output_type": "display_data"
        },
        {
          "data": {
            "application/vnd.plotly.v1+json": {
              "config": {
                "plotlyServerURL": "https://plot.ly"
              },
              "data": [
                {
                  "alignmentgroup": "True",
                  "bingroup": "x",
                  "hovertemplate": "open_code_percentage=%{x}<br>count=%{y}<extra></extra>",
                  "legendgroup": "",
                  "marker": {
                    "color": "#636efa",
                    "pattern": {
                      "shape": ""
                    }
                  },
                  "name": "",
                  "nbinsx": 50,
                  "offsetgroup": "",
                  "orientation": "v",
                  "showlegend": false,
                  "type": "histogram",
                  "x": [
                    35.13513513513514,
                    63.52941176470588,
                    20.689655172413794,
                    23.076923076923077,
                    66.66666666666666,
                    66.66666666666666,
                    0,
                    0,
                    0,
                    0,
                    0,
                    20,
                    0,
                    21.428571428571427,
                    50,
                    0,
                    50,
                    25,
                    38.88888888888889,
                    0,
                    0,
                    42.857142857142854,
                    0,
                    25,
                    0,
                    50,
                    66.66666666666666,
                    0,
                    100,
                    0,
                    33.33333333333333,
                    33.33333333333333,
                    55.55555555555556,
                    25,
                    73.68421052631578,
                    0,
                    20,
                    68.42105263157895,
                    100,
                    70.58823529411765,
                    100,
                    50,
                    0,
                    0,
                    0,
                    0,
                    0,
                    0,
                    50,
                    0,
                    0,
                    0,
                    0,
                    0,
                    0,
                    25,
                    0,
                    0,
                    0,
                    0,
                    0,
                    0,
                    0,
                    0,
                    0,
                    0,
                    0,
                    0,
                    50,
                    58.82352941176471,
                    0,
                    0,
                    0,
                    66.66666666666666,
                    0,
                    25,
                    100,
                    0,
                    33.33333333333333,
                    0,
                    37.5,
                    33.33333333333333,
                    100,
                    0,
                    0,
                    0,
                    50,
                    100,
                    50,
                    100,
                    100,
                    33.33333333333333,
                    60,
                    100,
                    75,
                    66.66666666666666,
                    80,
                    25,
                    0,
                    50,
                    54.54545454545454,
                    100,
                    66.66666666666666,
                    60,
                    66.66666666666666,
                    100,
                    75,
                    50,
                    0,
                    0,
                    0,
                    100,
                    50,
                    0,
                    0,
                    0,
                    100,
                    75,
                    100,
                    50,
                    0,
                    0,
                    0,
                    100,
                    100,
                    0,
                    0,
                    50,
                    50,
                    100,
                    100,
                    20,
                    100,
                    0,
                    100,
                    50,
                    33.33333333333333,
                    100,
                    0,
                    100,
                    0,
                    0,
                    0,
                    66.66666666666666,
                    100,
                    100,
                    100,
                    100,
                    50,
                    0,
                    33.33333333333333,
                    0,
                    33.33333333333333,
                    100,
                    100,
                    100,
                    25,
                    0,
                    0,
                    0,
                    50,
                    100,
                    100,
                    0,
                    0,
                    100,
                    100,
                    100,
                    0,
                    0,
                    100,
                    100,
                    100,
                    100,
                    100,
                    0,
                    0,
                    0,
                    0
                  ],
                  "xaxis": "x",
                  "yaxis": "y"
                }
              ],
              "layout": {
                "barmode": "relative",
                "legend": {
                  "tracegroupgap": 0
                },
                "template": {
                  "data": {
                    "bar": [
                      {
                        "error_x": {
                          "color": "#2a3f5f"
                        },
                        "error_y": {
                          "color": "#2a3f5f"
                        },
                        "marker": {
                          "line": {
                            "color": "#E5ECF6",
                            "width": 0.5
                          },
                          "pattern": {
                            "fillmode": "overlay",
                            "size": 10,
                            "solidity": 0.2
                          }
                        },
                        "type": "bar"
                      }
                    ],
                    "barpolar": [
                      {
                        "marker": {
                          "line": {
                            "color": "#E5ECF6",
                            "width": 0.5
                          },
                          "pattern": {
                            "fillmode": "overlay",
                            "size": 10,
                            "solidity": 0.2
                          }
                        },
                        "type": "barpolar"
                      }
                    ],
                    "carpet": [
                      {
                        "aaxis": {
                          "endlinecolor": "#2a3f5f",
                          "gridcolor": "white",
                          "linecolor": "white",
                          "minorgridcolor": "white",
                          "startlinecolor": "#2a3f5f"
                        },
                        "baxis": {
                          "endlinecolor": "#2a3f5f",
                          "gridcolor": "white",
                          "linecolor": "white",
                          "minorgridcolor": "white",
                          "startlinecolor": "#2a3f5f"
                        },
                        "type": "carpet"
                      }
                    ],
                    "choropleth": [
                      {
                        "colorbar": {
                          "outlinewidth": 0,
                          "ticks": ""
                        },
                        "type": "choropleth"
                      }
                    ],
                    "contour": [
                      {
                        "colorbar": {
                          "outlinewidth": 0,
                          "ticks": ""
                        },
                        "colorscale": [
                          [
                            0,
                            "#0d0887"
                          ],
                          [
                            0.1111111111111111,
                            "#46039f"
                          ],
                          [
                            0.2222222222222222,
                            "#7201a8"
                          ],
                          [
                            0.3333333333333333,
                            "#9c179e"
                          ],
                          [
                            0.4444444444444444,
                            "#bd3786"
                          ],
                          [
                            0.5555555555555556,
                            "#d8576b"
                          ],
                          [
                            0.6666666666666666,
                            "#ed7953"
                          ],
                          [
                            0.7777777777777778,
                            "#fb9f3a"
                          ],
                          [
                            0.8888888888888888,
                            "#fdca26"
                          ],
                          [
                            1,
                            "#f0f921"
                          ]
                        ],
                        "type": "contour"
                      }
                    ],
                    "contourcarpet": [
                      {
                        "colorbar": {
                          "outlinewidth": 0,
                          "ticks": ""
                        },
                        "type": "contourcarpet"
                      }
                    ],
                    "heatmap": [
                      {
                        "colorbar": {
                          "outlinewidth": 0,
                          "ticks": ""
                        },
                        "colorscale": [
                          [
                            0,
                            "#0d0887"
                          ],
                          [
                            0.1111111111111111,
                            "#46039f"
                          ],
                          [
                            0.2222222222222222,
                            "#7201a8"
                          ],
                          [
                            0.3333333333333333,
                            "#9c179e"
                          ],
                          [
                            0.4444444444444444,
                            "#bd3786"
                          ],
                          [
                            0.5555555555555556,
                            "#d8576b"
                          ],
                          [
                            0.6666666666666666,
                            "#ed7953"
                          ],
                          [
                            0.7777777777777778,
                            "#fb9f3a"
                          ],
                          [
                            0.8888888888888888,
                            "#fdca26"
                          ],
                          [
                            1,
                            "#f0f921"
                          ]
                        ],
                        "type": "heatmap"
                      }
                    ],
                    "heatmapgl": [
                      {
                        "colorbar": {
                          "outlinewidth": 0,
                          "ticks": ""
                        },
                        "colorscale": [
                          [
                            0,
                            "#0d0887"
                          ],
                          [
                            0.1111111111111111,
                            "#46039f"
                          ],
                          [
                            0.2222222222222222,
                            "#7201a8"
                          ],
                          [
                            0.3333333333333333,
                            "#9c179e"
                          ],
                          [
                            0.4444444444444444,
                            "#bd3786"
                          ],
                          [
                            0.5555555555555556,
                            "#d8576b"
                          ],
                          [
                            0.6666666666666666,
                            "#ed7953"
                          ],
                          [
                            0.7777777777777778,
                            "#fb9f3a"
                          ],
                          [
                            0.8888888888888888,
                            "#fdca26"
                          ],
                          [
                            1,
                            "#f0f921"
                          ]
                        ],
                        "type": "heatmapgl"
                      }
                    ],
                    "histogram": [
                      {
                        "marker": {
                          "pattern": {
                            "fillmode": "overlay",
                            "size": 10,
                            "solidity": 0.2
                          }
                        },
                        "type": "histogram"
                      }
                    ],
                    "histogram2d": [
                      {
                        "colorbar": {
                          "outlinewidth": 0,
                          "ticks": ""
                        },
                        "colorscale": [
                          [
                            0,
                            "#0d0887"
                          ],
                          [
                            0.1111111111111111,
                            "#46039f"
                          ],
                          [
                            0.2222222222222222,
                            "#7201a8"
                          ],
                          [
                            0.3333333333333333,
                            "#9c179e"
                          ],
                          [
                            0.4444444444444444,
                            "#bd3786"
                          ],
                          [
                            0.5555555555555556,
                            "#d8576b"
                          ],
                          [
                            0.6666666666666666,
                            "#ed7953"
                          ],
                          [
                            0.7777777777777778,
                            "#fb9f3a"
                          ],
                          [
                            0.8888888888888888,
                            "#fdca26"
                          ],
                          [
                            1,
                            "#f0f921"
                          ]
                        ],
                        "type": "histogram2d"
                      }
                    ],
                    "histogram2dcontour": [
                      {
                        "colorbar": {
                          "outlinewidth": 0,
                          "ticks": ""
                        },
                        "colorscale": [
                          [
                            0,
                            "#0d0887"
                          ],
                          [
                            0.1111111111111111,
                            "#46039f"
                          ],
                          [
                            0.2222222222222222,
                            "#7201a8"
                          ],
                          [
                            0.3333333333333333,
                            "#9c179e"
                          ],
                          [
                            0.4444444444444444,
                            "#bd3786"
                          ],
                          [
                            0.5555555555555556,
                            "#d8576b"
                          ],
                          [
                            0.6666666666666666,
                            "#ed7953"
                          ],
                          [
                            0.7777777777777778,
                            "#fb9f3a"
                          ],
                          [
                            0.8888888888888888,
                            "#fdca26"
                          ],
                          [
                            1,
                            "#f0f921"
                          ]
                        ],
                        "type": "histogram2dcontour"
                      }
                    ],
                    "mesh3d": [
                      {
                        "colorbar": {
                          "outlinewidth": 0,
                          "ticks": ""
                        },
                        "type": "mesh3d"
                      }
                    ],
                    "parcoords": [
                      {
                        "line": {
                          "colorbar": {
                            "outlinewidth": 0,
                            "ticks": ""
                          }
                        },
                        "type": "parcoords"
                      }
                    ],
                    "pie": [
                      {
                        "automargin": true,
                        "type": "pie"
                      }
                    ],
                    "scatter": [
                      {
                        "fillpattern": {
                          "fillmode": "overlay",
                          "size": 10,
                          "solidity": 0.2
                        },
                        "type": "scatter"
                      }
                    ],
                    "scatter3d": [
                      {
                        "line": {
                          "colorbar": {
                            "outlinewidth": 0,
                            "ticks": ""
                          }
                        },
                        "marker": {
                          "colorbar": {
                            "outlinewidth": 0,
                            "ticks": ""
                          }
                        },
                        "type": "scatter3d"
                      }
                    ],
                    "scattercarpet": [
                      {
                        "marker": {
                          "colorbar": {
                            "outlinewidth": 0,
                            "ticks": ""
                          }
                        },
                        "type": "scattercarpet"
                      }
                    ],
                    "scattergeo": [
                      {
                        "marker": {
                          "colorbar": {
                            "outlinewidth": 0,
                            "ticks": ""
                          }
                        },
                        "type": "scattergeo"
                      }
                    ],
                    "scattergl": [
                      {
                        "marker": {
                          "colorbar": {
                            "outlinewidth": 0,
                            "ticks": ""
                          }
                        },
                        "type": "scattergl"
                      }
                    ],
                    "scattermapbox": [
                      {
                        "marker": {
                          "colorbar": {
                            "outlinewidth": 0,
                            "ticks": ""
                          }
                        },
                        "type": "scattermapbox"
                      }
                    ],
                    "scatterpolar": [
                      {
                        "marker": {
                          "colorbar": {
                            "outlinewidth": 0,
                            "ticks": ""
                          }
                        },
                        "type": "scatterpolar"
                      }
                    ],
                    "scatterpolargl": [
                      {
                        "marker": {
                          "colorbar": {
                            "outlinewidth": 0,
                            "ticks": ""
                          }
                        },
                        "type": "scatterpolargl"
                      }
                    ],
                    "scatterternary": [
                      {
                        "marker": {
                          "colorbar": {
                            "outlinewidth": 0,
                            "ticks": ""
                          }
                        },
                        "type": "scatterternary"
                      }
                    ],
                    "surface": [
                      {
                        "colorbar": {
                          "outlinewidth": 0,
                          "ticks": ""
                        },
                        "colorscale": [
                          [
                            0,
                            "#0d0887"
                          ],
                          [
                            0.1111111111111111,
                            "#46039f"
                          ],
                          [
                            0.2222222222222222,
                            "#7201a8"
                          ],
                          [
                            0.3333333333333333,
                            "#9c179e"
                          ],
                          [
                            0.4444444444444444,
                            "#bd3786"
                          ],
                          [
                            0.5555555555555556,
                            "#d8576b"
                          ],
                          [
                            0.6666666666666666,
                            "#ed7953"
                          ],
                          [
                            0.7777777777777778,
                            "#fb9f3a"
                          ],
                          [
                            0.8888888888888888,
                            "#fdca26"
                          ],
                          [
                            1,
                            "#f0f921"
                          ]
                        ],
                        "type": "surface"
                      }
                    ],
                    "table": [
                      {
                        "cells": {
                          "fill": {
                            "color": "#EBF0F8"
                          },
                          "line": {
                            "color": "white"
                          }
                        },
                        "header": {
                          "fill": {
                            "color": "#C8D4E3"
                          },
                          "line": {
                            "color": "white"
                          }
                        },
                        "type": "table"
                      }
                    ]
                  },
                  "layout": {
                    "annotationdefaults": {
                      "arrowcolor": "#2a3f5f",
                      "arrowhead": 0,
                      "arrowwidth": 1
                    },
                    "autotypenumbers": "strict",
                    "coloraxis": {
                      "colorbar": {
                        "outlinewidth": 0,
                        "ticks": ""
                      }
                    },
                    "colorscale": {
                      "diverging": [
                        [
                          0,
                          "#8e0152"
                        ],
                        [
                          0.1,
                          "#c51b7d"
                        ],
                        [
                          0.2,
                          "#de77ae"
                        ],
                        [
                          0.3,
                          "#f1b6da"
                        ],
                        [
                          0.4,
                          "#fde0ef"
                        ],
                        [
                          0.5,
                          "#f7f7f7"
                        ],
                        [
                          0.6,
                          "#e6f5d0"
                        ],
                        [
                          0.7,
                          "#b8e186"
                        ],
                        [
                          0.8,
                          "#7fbc41"
                        ],
                        [
                          0.9,
                          "#4d9221"
                        ],
                        [
                          1,
                          "#276419"
                        ]
                      ],
                      "sequential": [
                        [
                          0,
                          "#0d0887"
                        ],
                        [
                          0.1111111111111111,
                          "#46039f"
                        ],
                        [
                          0.2222222222222222,
                          "#7201a8"
                        ],
                        [
                          0.3333333333333333,
                          "#9c179e"
                        ],
                        [
                          0.4444444444444444,
                          "#bd3786"
                        ],
                        [
                          0.5555555555555556,
                          "#d8576b"
                        ],
                        [
                          0.6666666666666666,
                          "#ed7953"
                        ],
                        [
                          0.7777777777777778,
                          "#fb9f3a"
                        ],
                        [
                          0.8888888888888888,
                          "#fdca26"
                        ],
                        [
                          1,
                          "#f0f921"
                        ]
                      ],
                      "sequentialminus": [
                        [
                          0,
                          "#0d0887"
                        ],
                        [
                          0.1111111111111111,
                          "#46039f"
                        ],
                        [
                          0.2222222222222222,
                          "#7201a8"
                        ],
                        [
                          0.3333333333333333,
                          "#9c179e"
                        ],
                        [
                          0.4444444444444444,
                          "#bd3786"
                        ],
                        [
                          0.5555555555555556,
                          "#d8576b"
                        ],
                        [
                          0.6666666666666666,
                          "#ed7953"
                        ],
                        [
                          0.7777777777777778,
                          "#fb9f3a"
                        ],
                        [
                          0.8888888888888888,
                          "#fdca26"
                        ],
                        [
                          1,
                          "#f0f921"
                        ]
                      ]
                    },
                    "colorway": [
                      "#636efa",
                      "#EF553B",
                      "#00cc96",
                      "#ab63fa",
                      "#FFA15A",
                      "#19d3f3",
                      "#FF6692",
                      "#B6E880",
                      "#FF97FF",
                      "#FECB52"
                    ],
                    "font": {
                      "color": "#2a3f5f"
                    },
                    "geo": {
                      "bgcolor": "white",
                      "lakecolor": "white",
                      "landcolor": "#E5ECF6",
                      "showlakes": true,
                      "showland": true,
                      "subunitcolor": "white"
                    },
                    "hoverlabel": {
                      "align": "left"
                    },
                    "hovermode": "closest",
                    "mapbox": {
                      "style": "light"
                    },
                    "paper_bgcolor": "white",
                    "plot_bgcolor": "#E5ECF6",
                    "polar": {
                      "angularaxis": {
                        "gridcolor": "white",
                        "linecolor": "white",
                        "ticks": ""
                      },
                      "bgcolor": "#E5ECF6",
                      "radialaxis": {
                        "gridcolor": "white",
                        "linecolor": "white",
                        "ticks": ""
                      }
                    },
                    "scene": {
                      "xaxis": {
                        "backgroundcolor": "#E5ECF6",
                        "gridcolor": "white",
                        "gridwidth": 2,
                        "linecolor": "white",
                        "showbackground": true,
                        "ticks": "",
                        "zerolinecolor": "white"
                      },
                      "yaxis": {
                        "backgroundcolor": "#E5ECF6",
                        "gridcolor": "white",
                        "gridwidth": 2,
                        "linecolor": "white",
                        "showbackground": true,
                        "ticks": "",
                        "zerolinecolor": "white"
                      },
                      "zaxis": {
                        "backgroundcolor": "#E5ECF6",
                        "gridcolor": "white",
                        "gridwidth": 2,
                        "linecolor": "white",
                        "showbackground": true,
                        "ticks": "",
                        "zerolinecolor": "white"
                      }
                    },
                    "shapedefaults": {
                      "line": {
                        "color": "#2a3f5f"
                      }
                    },
                    "ternary": {
                      "aaxis": {
                        "gridcolor": "white",
                        "linecolor": "white",
                        "ticks": ""
                      },
                      "baxis": {
                        "gridcolor": "white",
                        "linecolor": "white",
                        "ticks": ""
                      },
                      "bgcolor": "#E5ECF6",
                      "caxis": {
                        "gridcolor": "white",
                        "linecolor": "white",
                        "ticks": ""
                      }
                    },
                    "title": {
                      "x": 0.05
                    },
                    "xaxis": {
                      "automargin": true,
                      "gridcolor": "white",
                      "linecolor": "white",
                      "ticks": "",
                      "title": {
                        "standoff": 15
                      },
                      "zerolinecolor": "white",
                      "zerolinewidth": 2
                    },
                    "yaxis": {
                      "automargin": true,
                      "gridcolor": "white",
                      "linecolor": "white",
                      "ticks": "",
                      "title": {
                        "standoff": 15
                      },
                      "zerolinecolor": "white",
                      "zerolinewidth": 2
                    }
                  }
                },
                "title": {
                  "text": "Distribution of open code percentage"
                },
                "xaxis": {
                  "anchor": "y",
                  "domain": [
                    0,
                    1
                  ],
                  "title": {
                    "text": "open_code_percentage"
                  }
                },
                "yaxis": {
                  "anchor": "x",
                  "domain": [
                    0,
                    1
                  ],
                  "title": {
                    "text": "count"
                  }
                }
              }
            }
          },
          "metadata": {},
          "output_type": "display_data"
        },
        {
          "data": {
            "application/vnd.plotly.v1+json": {
              "config": {
                "plotlyServerURL": "https://plot.ly"
              },
              "data": [
                {
                  "alignmentgroup": "True",
                  "bingroup": "x",
                  "hovertemplate": "model_count=%{x}<br>count=%{y}<extra></extra>",
                  "legendgroup": "",
                  "marker": {
                    "color": "#636efa",
                    "pattern": {
                      "shape": ""
                    }
                  },
                  "name": "",
                  "nbinsx": 50,
                  "offsetgroup": "",
                  "orientation": "v",
                  "showlegend": false,
                  "type": "histogram",
                  "x": [
                    148,
                    85,
                    29,
                    13,
                    6,
                    3,
                    2,
                    2,
                    5,
                    2,
                    1,
                    10,
                    1,
                    14,
                    14,
                    1,
                    2,
                    8,
                    18,
                    1,
                    1,
                    7,
                    2,
                    8,
                    1,
                    6,
                    3,
                    1,
                    1,
                    1,
                    3,
                    3,
                    9,
                    4,
                    19,
                    1,
                    5,
                    19,
                    1,
                    17,
                    1,
                    2,
                    1,
                    1,
                    1,
                    1,
                    1,
                    1,
                    2,
                    1,
                    1,
                    1,
                    1,
                    1,
                    1,
                    4,
                    8,
                    1,
                    1,
                    2,
                    1,
                    1,
                    1,
                    1,
                    1,
                    1,
                    1,
                    1,
                    6,
                    17,
                    3,
                    3,
                    3,
                    3,
                    1,
                    4,
                    1,
                    1,
                    3,
                    3,
                    8,
                    3,
                    1,
                    2,
                    1,
                    1,
                    4,
                    1,
                    4,
                    1,
                    3,
                    3,
                    5,
                    1,
                    4,
                    3,
                    5,
                    8,
                    3,
                    2,
                    11,
                    2,
                    3,
                    5,
                    3,
                    2,
                    4,
                    4,
                    2,
                    2,
                    1,
                    2,
                    4,
                    3,
                    1,
                    2,
                    5,
                    4,
                    1,
                    2,
                    1,
                    1,
                    2,
                    2,
                    1,
                    1,
                    1,
                    2,
                    8,
                    1,
                    1,
                    5,
                    1,
                    2,
                    1,
                    2,
                    6,
                    1,
                    2,
                    1,
                    1,
                    1,
                    1,
                    3,
                    1,
                    1,
                    2,
                    1,
                    2,
                    1,
                    3,
                    1,
                    3,
                    1,
                    1,
                    1,
                    4,
                    1,
                    1,
                    1,
                    4,
                    1,
                    1,
                    1,
                    1,
                    1,
                    1,
                    1,
                    1,
                    1,
                    1,
                    1,
                    1,
                    1,
                    1,
                    1,
                    1,
                    1,
                    1
                  ],
                  "xaxis": "x",
                  "yaxis": "y"
                }
              ],
              "layout": {
                "barmode": "relative",
                "legend": {
                  "tracegroupgap": 0
                },
                "template": {
                  "data": {
                    "bar": [
                      {
                        "error_x": {
                          "color": "#2a3f5f"
                        },
                        "error_y": {
                          "color": "#2a3f5f"
                        },
                        "marker": {
                          "line": {
                            "color": "#E5ECF6",
                            "width": 0.5
                          },
                          "pattern": {
                            "fillmode": "overlay",
                            "size": 10,
                            "solidity": 0.2
                          }
                        },
                        "type": "bar"
                      }
                    ],
                    "barpolar": [
                      {
                        "marker": {
                          "line": {
                            "color": "#E5ECF6",
                            "width": 0.5
                          },
                          "pattern": {
                            "fillmode": "overlay",
                            "size": 10,
                            "solidity": 0.2
                          }
                        },
                        "type": "barpolar"
                      }
                    ],
                    "carpet": [
                      {
                        "aaxis": {
                          "endlinecolor": "#2a3f5f",
                          "gridcolor": "white",
                          "linecolor": "white",
                          "minorgridcolor": "white",
                          "startlinecolor": "#2a3f5f"
                        },
                        "baxis": {
                          "endlinecolor": "#2a3f5f",
                          "gridcolor": "white",
                          "linecolor": "white",
                          "minorgridcolor": "white",
                          "startlinecolor": "#2a3f5f"
                        },
                        "type": "carpet"
                      }
                    ],
                    "choropleth": [
                      {
                        "colorbar": {
                          "outlinewidth": 0,
                          "ticks": ""
                        },
                        "type": "choropleth"
                      }
                    ],
                    "contour": [
                      {
                        "colorbar": {
                          "outlinewidth": 0,
                          "ticks": ""
                        },
                        "colorscale": [
                          [
                            0,
                            "#0d0887"
                          ],
                          [
                            0.1111111111111111,
                            "#46039f"
                          ],
                          [
                            0.2222222222222222,
                            "#7201a8"
                          ],
                          [
                            0.3333333333333333,
                            "#9c179e"
                          ],
                          [
                            0.4444444444444444,
                            "#bd3786"
                          ],
                          [
                            0.5555555555555556,
                            "#d8576b"
                          ],
                          [
                            0.6666666666666666,
                            "#ed7953"
                          ],
                          [
                            0.7777777777777778,
                            "#fb9f3a"
                          ],
                          [
                            0.8888888888888888,
                            "#fdca26"
                          ],
                          [
                            1,
                            "#f0f921"
                          ]
                        ],
                        "type": "contour"
                      }
                    ],
                    "contourcarpet": [
                      {
                        "colorbar": {
                          "outlinewidth": 0,
                          "ticks": ""
                        },
                        "type": "contourcarpet"
                      }
                    ],
                    "heatmap": [
                      {
                        "colorbar": {
                          "outlinewidth": 0,
                          "ticks": ""
                        },
                        "colorscale": [
                          [
                            0,
                            "#0d0887"
                          ],
                          [
                            0.1111111111111111,
                            "#46039f"
                          ],
                          [
                            0.2222222222222222,
                            "#7201a8"
                          ],
                          [
                            0.3333333333333333,
                            "#9c179e"
                          ],
                          [
                            0.4444444444444444,
                            "#bd3786"
                          ],
                          [
                            0.5555555555555556,
                            "#d8576b"
                          ],
                          [
                            0.6666666666666666,
                            "#ed7953"
                          ],
                          [
                            0.7777777777777778,
                            "#fb9f3a"
                          ],
                          [
                            0.8888888888888888,
                            "#fdca26"
                          ],
                          [
                            1,
                            "#f0f921"
                          ]
                        ],
                        "type": "heatmap"
                      }
                    ],
                    "heatmapgl": [
                      {
                        "colorbar": {
                          "outlinewidth": 0,
                          "ticks": ""
                        },
                        "colorscale": [
                          [
                            0,
                            "#0d0887"
                          ],
                          [
                            0.1111111111111111,
                            "#46039f"
                          ],
                          [
                            0.2222222222222222,
                            "#7201a8"
                          ],
                          [
                            0.3333333333333333,
                            "#9c179e"
                          ],
                          [
                            0.4444444444444444,
                            "#bd3786"
                          ],
                          [
                            0.5555555555555556,
                            "#d8576b"
                          ],
                          [
                            0.6666666666666666,
                            "#ed7953"
                          ],
                          [
                            0.7777777777777778,
                            "#fb9f3a"
                          ],
                          [
                            0.8888888888888888,
                            "#fdca26"
                          ],
                          [
                            1,
                            "#f0f921"
                          ]
                        ],
                        "type": "heatmapgl"
                      }
                    ],
                    "histogram": [
                      {
                        "marker": {
                          "pattern": {
                            "fillmode": "overlay",
                            "size": 10,
                            "solidity": 0.2
                          }
                        },
                        "type": "histogram"
                      }
                    ],
                    "histogram2d": [
                      {
                        "colorbar": {
                          "outlinewidth": 0,
                          "ticks": ""
                        },
                        "colorscale": [
                          [
                            0,
                            "#0d0887"
                          ],
                          [
                            0.1111111111111111,
                            "#46039f"
                          ],
                          [
                            0.2222222222222222,
                            "#7201a8"
                          ],
                          [
                            0.3333333333333333,
                            "#9c179e"
                          ],
                          [
                            0.4444444444444444,
                            "#bd3786"
                          ],
                          [
                            0.5555555555555556,
                            "#d8576b"
                          ],
                          [
                            0.6666666666666666,
                            "#ed7953"
                          ],
                          [
                            0.7777777777777778,
                            "#fb9f3a"
                          ],
                          [
                            0.8888888888888888,
                            "#fdca26"
                          ],
                          [
                            1,
                            "#f0f921"
                          ]
                        ],
                        "type": "histogram2d"
                      }
                    ],
                    "histogram2dcontour": [
                      {
                        "colorbar": {
                          "outlinewidth": 0,
                          "ticks": ""
                        },
                        "colorscale": [
                          [
                            0,
                            "#0d0887"
                          ],
                          [
                            0.1111111111111111,
                            "#46039f"
                          ],
                          [
                            0.2222222222222222,
                            "#7201a8"
                          ],
                          [
                            0.3333333333333333,
                            "#9c179e"
                          ],
                          [
                            0.4444444444444444,
                            "#bd3786"
                          ],
                          [
                            0.5555555555555556,
                            "#d8576b"
                          ],
                          [
                            0.6666666666666666,
                            "#ed7953"
                          ],
                          [
                            0.7777777777777778,
                            "#fb9f3a"
                          ],
                          [
                            0.8888888888888888,
                            "#fdca26"
                          ],
                          [
                            1,
                            "#f0f921"
                          ]
                        ],
                        "type": "histogram2dcontour"
                      }
                    ],
                    "mesh3d": [
                      {
                        "colorbar": {
                          "outlinewidth": 0,
                          "ticks": ""
                        },
                        "type": "mesh3d"
                      }
                    ],
                    "parcoords": [
                      {
                        "line": {
                          "colorbar": {
                            "outlinewidth": 0,
                            "ticks": ""
                          }
                        },
                        "type": "parcoords"
                      }
                    ],
                    "pie": [
                      {
                        "automargin": true,
                        "type": "pie"
                      }
                    ],
                    "scatter": [
                      {
                        "fillpattern": {
                          "fillmode": "overlay",
                          "size": 10,
                          "solidity": 0.2
                        },
                        "type": "scatter"
                      }
                    ],
                    "scatter3d": [
                      {
                        "line": {
                          "colorbar": {
                            "outlinewidth": 0,
                            "ticks": ""
                          }
                        },
                        "marker": {
                          "colorbar": {
                            "outlinewidth": 0,
                            "ticks": ""
                          }
                        },
                        "type": "scatter3d"
                      }
                    ],
                    "scattercarpet": [
                      {
                        "marker": {
                          "colorbar": {
                            "outlinewidth": 0,
                            "ticks": ""
                          }
                        },
                        "type": "scattercarpet"
                      }
                    ],
                    "scattergeo": [
                      {
                        "marker": {
                          "colorbar": {
                            "outlinewidth": 0,
                            "ticks": ""
                          }
                        },
                        "type": "scattergeo"
                      }
                    ],
                    "scattergl": [
                      {
                        "marker": {
                          "colorbar": {
                            "outlinewidth": 0,
                            "ticks": ""
                          }
                        },
                        "type": "scattergl"
                      }
                    ],
                    "scattermapbox": [
                      {
                        "marker": {
                          "colorbar": {
                            "outlinewidth": 0,
                            "ticks": ""
                          }
                        },
                        "type": "scattermapbox"
                      }
                    ],
                    "scatterpolar": [
                      {
                        "marker": {
                          "colorbar": {
                            "outlinewidth": 0,
                            "ticks": ""
                          }
                        },
                        "type": "scatterpolar"
                      }
                    ],
                    "scatterpolargl": [
                      {
                        "marker": {
                          "colorbar": {
                            "outlinewidth": 0,
                            "ticks": ""
                          }
                        },
                        "type": "scatterpolargl"
                      }
                    ],
                    "scatterternary": [
                      {
                        "marker": {
                          "colorbar": {
                            "outlinewidth": 0,
                            "ticks": ""
                          }
                        },
                        "type": "scatterternary"
                      }
                    ],
                    "surface": [
                      {
                        "colorbar": {
                          "outlinewidth": 0,
                          "ticks": ""
                        },
                        "colorscale": [
                          [
                            0,
                            "#0d0887"
                          ],
                          [
                            0.1111111111111111,
                            "#46039f"
                          ],
                          [
                            0.2222222222222222,
                            "#7201a8"
                          ],
                          [
                            0.3333333333333333,
                            "#9c179e"
                          ],
                          [
                            0.4444444444444444,
                            "#bd3786"
                          ],
                          [
                            0.5555555555555556,
                            "#d8576b"
                          ],
                          [
                            0.6666666666666666,
                            "#ed7953"
                          ],
                          [
                            0.7777777777777778,
                            "#fb9f3a"
                          ],
                          [
                            0.8888888888888888,
                            "#fdca26"
                          ],
                          [
                            1,
                            "#f0f921"
                          ]
                        ],
                        "type": "surface"
                      }
                    ],
                    "table": [
                      {
                        "cells": {
                          "fill": {
                            "color": "#EBF0F8"
                          },
                          "line": {
                            "color": "white"
                          }
                        },
                        "header": {
                          "fill": {
                            "color": "#C8D4E3"
                          },
                          "line": {
                            "color": "white"
                          }
                        },
                        "type": "table"
                      }
                    ]
                  },
                  "layout": {
                    "annotationdefaults": {
                      "arrowcolor": "#2a3f5f",
                      "arrowhead": 0,
                      "arrowwidth": 1
                    },
                    "autotypenumbers": "strict",
                    "coloraxis": {
                      "colorbar": {
                        "outlinewidth": 0,
                        "ticks": ""
                      }
                    },
                    "colorscale": {
                      "diverging": [
                        [
                          0,
                          "#8e0152"
                        ],
                        [
                          0.1,
                          "#c51b7d"
                        ],
                        [
                          0.2,
                          "#de77ae"
                        ],
                        [
                          0.3,
                          "#f1b6da"
                        ],
                        [
                          0.4,
                          "#fde0ef"
                        ],
                        [
                          0.5,
                          "#f7f7f7"
                        ],
                        [
                          0.6,
                          "#e6f5d0"
                        ],
                        [
                          0.7,
                          "#b8e186"
                        ],
                        [
                          0.8,
                          "#7fbc41"
                        ],
                        [
                          0.9,
                          "#4d9221"
                        ],
                        [
                          1,
                          "#276419"
                        ]
                      ],
                      "sequential": [
                        [
                          0,
                          "#0d0887"
                        ],
                        [
                          0.1111111111111111,
                          "#46039f"
                        ],
                        [
                          0.2222222222222222,
                          "#7201a8"
                        ],
                        [
                          0.3333333333333333,
                          "#9c179e"
                        ],
                        [
                          0.4444444444444444,
                          "#bd3786"
                        ],
                        [
                          0.5555555555555556,
                          "#d8576b"
                        ],
                        [
                          0.6666666666666666,
                          "#ed7953"
                        ],
                        [
                          0.7777777777777778,
                          "#fb9f3a"
                        ],
                        [
                          0.8888888888888888,
                          "#fdca26"
                        ],
                        [
                          1,
                          "#f0f921"
                        ]
                      ],
                      "sequentialminus": [
                        [
                          0,
                          "#0d0887"
                        ],
                        [
                          0.1111111111111111,
                          "#46039f"
                        ],
                        [
                          0.2222222222222222,
                          "#7201a8"
                        ],
                        [
                          0.3333333333333333,
                          "#9c179e"
                        ],
                        [
                          0.4444444444444444,
                          "#bd3786"
                        ],
                        [
                          0.5555555555555556,
                          "#d8576b"
                        ],
                        [
                          0.6666666666666666,
                          "#ed7953"
                        ],
                        [
                          0.7777777777777778,
                          "#fb9f3a"
                        ],
                        [
                          0.8888888888888888,
                          "#fdca26"
                        ],
                        [
                          1,
                          "#f0f921"
                        ]
                      ]
                    },
                    "colorway": [
                      "#636efa",
                      "#EF553B",
                      "#00cc96",
                      "#ab63fa",
                      "#FFA15A",
                      "#19d3f3",
                      "#FF6692",
                      "#B6E880",
                      "#FF97FF",
                      "#FECB52"
                    ],
                    "font": {
                      "color": "#2a3f5f"
                    },
                    "geo": {
                      "bgcolor": "white",
                      "lakecolor": "white",
                      "landcolor": "#E5ECF6",
                      "showlakes": true,
                      "showland": true,
                      "subunitcolor": "white"
                    },
                    "hoverlabel": {
                      "align": "left"
                    },
                    "hovermode": "closest",
                    "mapbox": {
                      "style": "light"
                    },
                    "paper_bgcolor": "white",
                    "plot_bgcolor": "#E5ECF6",
                    "polar": {
                      "angularaxis": {
                        "gridcolor": "white",
                        "linecolor": "white",
                        "ticks": ""
                      },
                      "bgcolor": "#E5ECF6",
                      "radialaxis": {
                        "gridcolor": "white",
                        "linecolor": "white",
                        "ticks": ""
                      }
                    },
                    "scene": {
                      "xaxis": {
                        "backgroundcolor": "#E5ECF6",
                        "gridcolor": "white",
                        "gridwidth": 2,
                        "linecolor": "white",
                        "showbackground": true,
                        "ticks": "",
                        "zerolinecolor": "white"
                      },
                      "yaxis": {
                        "backgroundcolor": "#E5ECF6",
                        "gridcolor": "white",
                        "gridwidth": 2,
                        "linecolor": "white",
                        "showbackground": true,
                        "ticks": "",
                        "zerolinecolor": "white"
                      },
                      "zaxis": {
                        "backgroundcolor": "#E5ECF6",
                        "gridcolor": "white",
                        "gridwidth": 2,
                        "linecolor": "white",
                        "showbackground": true,
                        "ticks": "",
                        "zerolinecolor": "white"
                      }
                    },
                    "shapedefaults": {
                      "line": {
                        "color": "#2a3f5f"
                      }
                    },
                    "ternary": {
                      "aaxis": {
                        "gridcolor": "white",
                        "linecolor": "white",
                        "ticks": ""
                      },
                      "baxis": {
                        "gridcolor": "white",
                        "linecolor": "white",
                        "ticks": ""
                      },
                      "bgcolor": "#E5ECF6",
                      "caxis": {
                        "gridcolor": "white",
                        "linecolor": "white",
                        "ticks": ""
                      }
                    },
                    "title": {
                      "x": 0.05
                    },
                    "xaxis": {
                      "automargin": true,
                      "gridcolor": "white",
                      "linecolor": "white",
                      "ticks": "",
                      "title": {
                        "standoff": 15
                      },
                      "zerolinecolor": "white",
                      "zerolinewidth": 2
                    },
                    "yaxis": {
                      "automargin": true,
                      "gridcolor": "white",
                      "linecolor": "white",
                      "ticks": "",
                      "title": {
                        "standoff": 15
                      },
                      "zerolinecolor": "white",
                      "zerolinewidth": 2
                    }
                  }
                },
                "title": {
                  "text": "Distribution of model count"
                },
                "xaxis": {
                  "anchor": "y",
                  "domain": [
                    0,
                    1
                  ],
                  "title": {
                    "text": "model_count"
                  }
                },
                "yaxis": {
                  "anchor": "x",
                  "domain": [
                    0,
                    1
                  ],
                  "title": {
                    "text": "count"
                  }
                }
              }
            }
          },
          "metadata": {},
          "output_type": "display_data"
        }
      ],
      "source": [
        "# Plot distributions\n",
        "fig = px.histogram(all_models, x='Max Training Compute (FLOP)', nbins=50, title='Distribution of log-FLOP')\n",
        "fig.show()\n",
        "fig = px.histogram(all_models, x='open_model_percentage', nbins=50, title='Distribution of open model percentage')\n",
        "fig.show()\n",
        "fig = px.histogram(all_models, x='open_code_percentage', nbins=50, title='Distribution of open code percentage')\n",
        "fig.show()\n",
        "fig = px.histogram(all_models, x='model_count', nbins=50, title='Distribution of model count')\n",
        "fig.show()"
      ]
    },
    {
      "cell_type": "code",
      "execution_count": 21,
      "metadata": {
        "colab": {
          "base_uri": "https://localhost:8080/"
        },
        "id": "3u8sxbW8kM_I",
        "outputId": "f0e54c8d-bc8d-43a5-8fb7-bb6691e035a8"
      },
      "outputs": [],
      "source": [
        "# for accessibility_type in ['model', 'code']:\n",
        "#     for exclude_meta_facebook in [False, True]:\n",
        "#         print(f\"\\n# {accessibility_type} accessibility {'without Meta/Facebook' if exclude_meta_facebook else ''}\\n\")\n",
        "#         for model_count_threshold in [1, 3, *range(5, 55, 5)]:\n",
        "#             big_org_models = all_models[all_models['model_count'] >= model_count_threshold]\n",
        "\n",
        "#             if exclude_meta_facebook:\n",
        "#                 big_org_models = big_org_models[big_org_models['Organization'] != 'Meta/Facebook']\n",
        "\n",
        "#             if len(big_org_models) < 3:\n",
        "#                 continue\n",
        "\n",
        "#             # Perform a permutation test to see if there is significant correlation\n",
        "#             x = big_org_models['Max Training Compute (FLOP)']\n",
        "#             y = big_org_models[f'open_{accessibility_type}_percentage']\n",
        "#             corr = stats.spearmanr(x, y).statistic\n",
        "#             dof = len(y) - 2\n",
        "#             def statistic(x):  # explore all possible pairings by permuting `x`\n",
        "#                 rs = stats.spearmanr(x, y).statistic  # ignore pvalue\n",
        "#                 transformed = rs * np.sqrt(dof / ((rs+1.0)*(1.0-rs)))\n",
        "#                 return transformed\n",
        "#             ref = stats.permutation_test((x,), statistic, alternative='greater', permutation_type='pairings')\n",
        "\n",
        "#             print(f\"threshold={model_count_threshold} n={len(big_org_models)} corr={corr:.3f} statistic={ref.statistic:.3f} p={ref.pvalue:.3f}\")"
      ]
    },
    {
      "cell_type": "code",
      "execution_count": 28,
      "metadata": {
        "colab": {
          "base_uri": "https://localhost:8080/",
          "height": 617
        },
        "id": "4jL39-gfb-kh",
        "outputId": "1e26a28d-1e55-4710-aefd-c74f18d5701e"
      },
      "outputs": [
        {
          "data": {
            "application/vnd.plotly.v1+json": {
              "config": {
                "plotlyServerURL": "https://plot.ly"
              },
              "data": [
                {
                  "marker": {
                    "color": "#daf0f0",
                    "size": 10
                  },
                  "mode": "markers",
                  "showlegend": false,
                  "text": [
                    "NVIDIA",
                    "Peking University",
                    "ByteDance",
                    "Mistral AI",
                    "Inflection AI",
                    "Anthropic",
                    "Technology Innovation Institute",
                    "xAI",
                    "Alibaba",
                    "DeepSeek",
                    "Microsoft",
                    "UCB",
                    "EvolutionaryScale",
                    "Peng Cheng Laboratory",
                    "Baidu",
                    "BioMap Research",
                    "01.AI",
                    "Hugging Face",
                    "BigScience",
                    "Apple",
                    "Huawei Noah's Ark Lab",
                    "Mila - Quebec AI (originally Montreal Institute for Learning Algorithms)",
                    "McGill University",
                    "Inspur",
                    "Kunlun Inc.",
                    "Bloomberg",
                    "Johns Hopkins University",
                    "Amazon",
                    "Columbia University",
                    "University of California Los Angeles (UCLA)",
                    "Search Solutions",
                    "NAVER",
                    "Toyota Research Institute",
                    "Physical Intelligence",
                    "EleutherAI",
                    "ScaDS.AI",
                    "Saama",
                    "UnfoldML",
                    "SAP",
                    "Roblox",
                    "Sea AI Lab",
                    "Alan Turing Institute",
                    "Queen Mary University of London",
                    "Toloka",
                    "University of British Columbia (UBC)",
                    "Telefonica",
                    "ServiceNow",
                    "Leipzig University",
                    "Northeastern University",
                    "Technical University of Munich",
                    "Technion - Israel Institute of Technology",
                    "University of Allahabad",
                    "Monash University",
                    "Data61",
                    "University of Notre Dame",
                    "Wellesley College",
                    "Forschungszentrum Julich",
                    "University of Vermont",
                    "Discover Dollar",
                    "Weizmann Institute of Science",
                    "CSIRO",
                    "IBM",
                    "Oak Ridge National Laboratory",
                    "Med AI Technology",
                    "Seoul National University",
                    "Zhipu AI",
                    "Ludwig Maximilian University",
                    "Runway",
                    "Google AI",
                    "LG",
                    "Korea University",
                    "Korea Advanced Institute of Science and Technology (KAIST)",
                    "Microsoft Research",
                    "University of Wisconsin Madison",
                    "Huawei",
                    "Cerebras Systems",
                    "Inception",
                    "Mohamed bin Zayed University of Artificial Intelligence",
                    "Shanghai AI Lab",
                    "ShanghaiTech University",
                    "Chinese University of Hong Kong (CUHK)",
                    "Alibaba DAMO Academy",
                    "Beihang University",
                    "Westlake University",
                    "Salesforce Research",
                    "Shenzhen Institute of Advanced Technology",
                    "Nanjing University",
                    "Hebrew University of Jerusalem",
                    "INRIA",
                    "University of Oxford",
                    "Cohere",
                    "Harvard Medical School",
                    "UoW",
                    "Huazhong University of Science and Technology",
                    "Zhejiang University",
                    "BAAI",
                    "Beijing Institute of Technology",
                    "Tel Aviv University",
                    "Toyota Technological Institute at Chicago",
                    "Salesforce",
                    "deepset",
                    "Bayerische Staatsbibliothek Muenchen",
                    "Heriot-Watt University",
                    "MIT-IBM Watson AI Lab",
                    "Nanyang Technological University",
                    "Harvard University",
                    "University of Chicago",
                    "California Institute of Technology",
                    "Microsoft Research Asia",
                    "Brown University",
                    "University at Buffalo",
                    "Sorbonne University",
                    "Simon Fraser University",
                    "Oregon State University",
                    "Georgia Institute of Technology",
                    "University of Waterloo",
                    "Vector Institute",
                    "Utrecht University",
                    "Hong Kong University of Science and Technology",
                    "National Institute of Informatics",
                    "Allen Institute for AI",
                    "Université Grenoble Alpes",
                    "PSL University",
                    "University College London (UCL)",
                    "Waseda University",
                    "Samsung",
                    "CIFAR AI Research",
                    "University of Montreal / Université de Montréal",
                    "Princeton University",
                    "HEC",
                    "SenseTime",
                    "Soochow University",
                    "Ben-Gurion University of the Negev",
                    "Deep Trading",
                    "University of Lorraine",
                    "LORIA",
                    "Carleton University",
                    "Google Cloud",
                    "University of Texas at Austin",
                    "Jane Street",
                    "ASAPP",
                    "Cornell University",
                    "Heidelberg University",
                    "Reed College",
                    "University of Illinois Urbana-Champaign (UIUC)",
                    "University of Texas at Houston",
                    "Shannon.AI",
                    "Tianjin University",
                    "Chinese Academy of Sciences",
                    "Northeastern University (China)",
                    "NiuTrans Research",
                    "Kingsoft",
                    "Intel Labs",
                    "Bosch Center for Artificial Intelligence",
                    "University of Freiburg",
                    "Beijing University of Posts and Telecommunications",
                    "University of West London",
                    "Tohoku University",
                    "NTT Communication Science Laboratories",
                    "Fraunhofer Heinrich Hertz Institute",
                    "National Tsing Hua University",
                    "JD.com",
                    "IDIAP",
                    "Fast.ai",
                    "University of San Francisco",
                    "Insight Centre NUI Galway",
                    "University of Manchester",
                    "University of Hyderabad",
                    "Samsung R&D Institute Russia",
                    "ESAT - PSI",
                    "KU Leuven"
                  ],
                  "type": "scatter",
                  "x": [
                    25.255272505103306,
                    25.079181246047625,
                    25.079181246047625,
                    25.049218022670182,
                    25.00043407747932,
                    24.587261849692535,
                    24.57518784492766,
                    24.462397997900453,
                    24.113943352306837,
                    24.10897071687948,
                    24.068185861746162,
                    24.029383777685208,
                    24.029383777685208,
                    24.017909395896687,
                    24.017909395896687,
                    23.792391689498253,
                    23.785329835010767,
                    23.761175813155738,
                    23.761175813155738,
                    23.686636269262294,
                    23.66931688056611,
                    23.633468455579585,
                    23.633468455579585,
                    23.548757828573716,
                    23.397940008672037,
                    23.372912002970107,
                    23.372912002970107,
                    23.310425679010848,
                    23.204119982655925,
                    23.204119982655925,
                    23.16908635748702,
                    23.16908635748702,
                    23.041392685158225,
                    23.041392685158225,
                    22.96924207030419,
                    22.927370363039024,
                    22.927370363039024,
                    22.927370363039024,
                    22.927370363039024,
                    22.927370363039024,
                    22.927370363039024,
                    22.927370363039024,
                    22.927370363039024,
                    22.927370363039024,
                    22.927370363039024,
                    22.927370363039024,
                    22.927370363039024,
                    22.927370363039024,
                    22.927370363039024,
                    22.927370363039024,
                    22.927370363039024,
                    22.927370363039024,
                    22.927370363039024,
                    22.927370363039024,
                    22.927370363039024,
                    22.927370363039024,
                    22.927370363039024,
                    22.927370363039024,
                    22.927370363039024,
                    22.927370363039024,
                    22.927370363039024,
                    22.927370363039024,
                    22.867467487859052,
                    22.867467487859052,
                    22.867467487859052,
                    22.702430536445526,
                    22.69897000433602,
                    22.69897000433602,
                    22.680335513414562,
                    22.658964842664435,
                    22.658964842664435,
                    22.658964842664435,
                    22.658011396657113,
                    22.658011396657113,
                    22.599883072073688,
                    22.488550716500445,
                    22.488550716500445,
                    22.488550716500445,
                    22.482873583608754,
                    22.482873583608754,
                    22.482873583608754,
                    22.42813479402879,
                    22.36379994547911,
                    22.139938297473165,
                    22.130333768495007,
                    21.986771734266245,
                    21.986771734266245,
                    21.977723605288848,
                    21.87031676606081,
                    21.859738566197148,
                    21.859738566197148,
                    21.859738566197148,
                    21.618449295720836,
                    21.574140503302075,
                    21.574140503302075,
                    21.574140503302075,
                    21.574140503302075,
                    21.531478917042254,
                    21.477122702365524,
                    21.434568904034197,
                    21.351112760040234,
                    21.351112760040234,
                    21.255272505103306,
                    21.251463241166956,
                    21.193124598354462,
                    21.152288344383056,
                    21.152288344383056,
                    21.152288344383056,
                    21.041392685158225,
                    20.962932558558006,
                    20.928907690243953,
                    20.919078092376076,
                    20.89209460269048,
                    20.89209460269048,
                    20.89209460269048,
                    20.707570176097935,
                    20.707570176097935,
                    20.544068044350276,
                    20.287801729930226,
                    20.2450183964227,
                    20.198657086954423,
                    20.195899652409235,
                    20.195899652409235,
                    20.195899652409235,
                    20.146128035678238,
                    20.113943352306837,
                    20.093421685162234,
                    20.093421685162234,
                    20.093421685162234,
                    20.093421685162234,
                    19.919991968885864,
                    19.913813852383715,
                    19.812913356642856,
                    19.812913356642856,
                    19.64443858946784,
                    19.64443858946784,
                    19.444044795918078,
                    19.3812522996977,
                    19.369957133031,
                    19.3654879848909,
                    19.041392685158225,
                    19.041392685158225,
                    19.02118929906994,
                    18.987666264926276,
                    18.987666264926276,
                    18.976349979003274,
                    18.863322860120455,
                    18.67760695272049,
                    18.460897842756548,
                    18.460897842756548,
                    18.460897842756548,
                    18.460897842756548,
                    18.444044795918078,
                    18.444044795918078,
                    18.392696953259666,
                    18.3654879848909,
                    18.3654879848909,
                    17.840733234611807,
                    17.840733234611807,
                    17.80413943233535,
                    17.749736315569063,
                    17.662757831681574,
                    17.627365856592732,
                    17.435427064556656,
                    17.435427064556656,
                    17.435427064556656,
                    16.88024177589548,
                    15.30319605742049,
                    15.28330122870355,
                    15.008600171761918,
                    15.008600171761918
                  ],
                  "xaxis": "x",
                  "y": [
                    46.15384615384615,
                    0,
                    0,
                    50,
                    0,
                    0,
                    100,
                    100,
                    60,
                    100,
                    28.57142857142857,
                    50,
                    0,
                    0,
                    50,
                    0,
                    100,
                    100,
                    100,
                    12.5,
                    0,
                    50,
                    100,
                    0,
                    100,
                    0,
                    66.66666666666666,
                    0,
                    88.88888888888889,
                    25,
                    0,
                    20,
                    100,
                    100,
                    100,
                    100,
                    100,
                    100,
                    100,
                    100,
                    100,
                    50,
                    100,
                    100,
                    100,
                    100,
                    100,
                    100,
                    50,
                    75,
                    100,
                    100,
                    50,
                    100,
                    100,
                    100,
                    100,
                    100,
                    100,
                    100,
                    100,
                    66.66666666666666,
                    100,
                    100,
                    100,
                    100,
                    100,
                    50,
                    0,
                    100,
                    66.66666666666666,
                    33.33333333333333,
                    37.5,
                    66.66666666666666,
                    100,
                    50,
                    100,
                    100,
                    50,
                    0,
                    25,
                    100,
                    100,
                    0,
                    60,
                    100,
                    75,
                    66.66666666666666,
                    100,
                    25,
                    66.66666666666666,
                    50,
                    45.45454545454545,
                    100,
                    66.66666666666666,
                    80,
                    33.33333333333333,
                    100,
                    75,
                    100,
                    100,
                    100,
                    100,
                    50,
                    75,
                    0,
                    0,
                    0,
                    40,
                    75,
                    100,
                    100,
                    0,
                    0,
                    0,
                    0,
                    0,
                    0,
                    100,
                    50,
                    25,
                    100,
                    100,
                    40,
                    100,
                    0,
                    0,
                    0,
                    16.666666666666664,
                    0,
                    50,
                    0,
                    0,
                    0,
                    0,
                    66.66666666666666,
                    0,
                    100,
                    100,
                    100,
                    50,
                    0,
                    33.33333333333333,
                    0,
                    0,
                    0,
                    100,
                    0,
                    25,
                    0,
                    0,
                    0,
                    25,
                    0,
                    100,
                    0,
                    0,
                    100,
                    100,
                    100,
                    0,
                    0,
                    100,
                    100,
                    100,
                    100,
                    0,
                    0,
                    0,
                    0,
                    0
                  ],
                  "yaxis": "y"
                },
                {
                  "marker": {
                    "color": "#00a5a6",
                    "opacity": 1,
                    "size": 10
                  },
                  "mode": "markers+text",
                  "showlegend": false,
                  "text": [
                    "Google/DeepMind",
                    "Meta/Facebook",
                    "OpenAI",
                    "Tsinghua",
                    "NYU",
                    "MIT",
                    "Stanford",
                    "CMU"
                  ],
                  "textposition": "top center",
                  "type": "scatter",
                  "x": [
                    25.698970004344705,
                    25.57978359661681,
                    25.32221929473392,
                    23.792391689498253,
                    23.204119982655925,
                    23.041392685158225,
                    23.041392685158225,
                    22.927370363039024
                  ],
                  "xaxis": "x",
                  "y": [
                    30.405405405405407,
                    78.82352941176471,
                    34.48275862068966,
                    38.88888888888889,
                    89.47368421052632,
                    73.68421052631578,
                    64.70588235294117,
                    47.05882352941176
                  ],
                  "yaxis": "y"
                },
                {
                  "marker": {
                    "color": "#daf0f0",
                    "size": 10
                  },
                  "mode": "markers",
                  "showlegend": false,
                  "text": [
                    "NVIDIA",
                    "Peking University",
                    "ByteDance",
                    "Mistral AI",
                    "Inflection AI",
                    "Anthropic",
                    "Technology Innovation Institute",
                    "xAI",
                    "Alibaba",
                    "DeepSeek",
                    "Microsoft",
                    "UCB",
                    "EvolutionaryScale",
                    "Peng Cheng Laboratory",
                    "Baidu",
                    "BioMap Research",
                    "01.AI",
                    "Hugging Face",
                    "BigScience",
                    "Apple",
                    "Huawei Noah's Ark Lab",
                    "Mila - Quebec AI (originally Montreal Institute for Learning Algorithms)",
                    "McGill University",
                    "Inspur",
                    "Kunlun Inc.",
                    "Bloomberg",
                    "Johns Hopkins University",
                    "Amazon",
                    "Columbia University",
                    "University of California Los Angeles (UCLA)",
                    "Search Solutions",
                    "NAVER",
                    "Toyota Research Institute",
                    "Physical Intelligence",
                    "EleutherAI",
                    "ScaDS.AI",
                    "Saama",
                    "UnfoldML",
                    "SAP",
                    "Roblox",
                    "Sea AI Lab",
                    "Alan Turing Institute",
                    "Queen Mary University of London",
                    "Toloka",
                    "University of British Columbia (UBC)",
                    "Telefonica",
                    "ServiceNow",
                    "Leipzig University",
                    "Northeastern University",
                    "Technical University of Munich",
                    "Technion - Israel Institute of Technology",
                    "University of Allahabad",
                    "Monash University",
                    "Data61",
                    "University of Notre Dame",
                    "Wellesley College",
                    "Forschungszentrum Julich",
                    "University of Vermont",
                    "Discover Dollar",
                    "Weizmann Institute of Science",
                    "CSIRO",
                    "IBM",
                    "Oak Ridge National Laboratory",
                    "Med AI Technology",
                    "Seoul National University",
                    "Zhipu AI",
                    "Ludwig Maximilian University",
                    "Runway",
                    "Google AI",
                    "LG",
                    "Korea University",
                    "Korea Advanced Institute of Science and Technology (KAIST)",
                    "Microsoft Research",
                    "University of Wisconsin Madison",
                    "Huawei",
                    "Cerebras Systems",
                    "Inception",
                    "Mohamed bin Zayed University of Artificial Intelligence",
                    "Shanghai AI Lab",
                    "ShanghaiTech University",
                    "Chinese University of Hong Kong (CUHK)",
                    "Alibaba DAMO Academy",
                    "Beihang University",
                    "Westlake University",
                    "Salesforce Research",
                    "Shenzhen Institute of Advanced Technology",
                    "Nanjing University",
                    "Hebrew University of Jerusalem",
                    "INRIA",
                    "University of Oxford",
                    "Cohere",
                    "Harvard Medical School",
                    "UoW",
                    "Huazhong University of Science and Technology",
                    "Zhejiang University",
                    "BAAI",
                    "Beijing Institute of Technology",
                    "Tel Aviv University",
                    "Toyota Technological Institute at Chicago",
                    "Salesforce",
                    "deepset",
                    "Bayerische Staatsbibliothek Muenchen",
                    "Heriot-Watt University",
                    "MIT-IBM Watson AI Lab",
                    "Nanyang Technological University",
                    "Harvard University",
                    "University of Chicago",
                    "California Institute of Technology",
                    "Microsoft Research Asia",
                    "Brown University",
                    "University at Buffalo",
                    "Sorbonne University",
                    "Simon Fraser University",
                    "Oregon State University",
                    "Georgia Institute of Technology",
                    "University of Waterloo",
                    "Vector Institute",
                    "Utrecht University",
                    "Hong Kong University of Science and Technology",
                    "National Institute of Informatics",
                    "Allen Institute for AI",
                    "Université Grenoble Alpes",
                    "PSL University",
                    "University College London (UCL)",
                    "Waseda University",
                    "Samsung",
                    "CIFAR AI Research",
                    "University of Montreal / Université de Montréal",
                    "Princeton University",
                    "HEC",
                    "SenseTime",
                    "Soochow University",
                    "Ben-Gurion University of the Negev",
                    "Deep Trading",
                    "University of Lorraine",
                    "LORIA",
                    "Carleton University",
                    "Google Cloud",
                    "University of Texas at Austin",
                    "Jane Street",
                    "ASAPP",
                    "Cornell University",
                    "Heidelberg University",
                    "Reed College",
                    "University of Illinois Urbana-Champaign (UIUC)",
                    "University of Texas at Houston",
                    "Shannon.AI",
                    "Tianjin University",
                    "Chinese Academy of Sciences",
                    "Northeastern University (China)",
                    "NiuTrans Research",
                    "Kingsoft",
                    "Intel Labs",
                    "Bosch Center for Artificial Intelligence",
                    "University of Freiburg",
                    "Beijing University of Posts and Telecommunications",
                    "University of West London",
                    "Tohoku University",
                    "NTT Communication Science Laboratories",
                    "Fraunhofer Heinrich Hertz Institute",
                    "National Tsing Hua University",
                    "JD.com",
                    "IDIAP",
                    "Fast.ai",
                    "University of San Francisco",
                    "Insight Centre NUI Galway",
                    "University of Manchester",
                    "University of Hyderabad",
                    "Samsung R&D Institute Russia",
                    "ESAT - PSI",
                    "KU Leuven"
                  ],
                  "type": "scatter",
                  "x": [
                    1.1139433523068367,
                    0.7781512503836436,
                    0.47712125471966244,
                    0.3010299956639812,
                    0.3010299956639812,
                    0.6989700043360189,
                    0.3010299956639812,
                    0,
                    1,
                    0,
                    1.146128035678238,
                    1.146128035678238,
                    0,
                    0.3010299956639812,
                    0.9030899869919435,
                    0,
                    0,
                    0.8450980400142568,
                    0.3010299956639812,
                    0.9030899869919435,
                    0,
                    0.7781512503836436,
                    0.47712125471966244,
                    0,
                    0,
                    0,
                    0.47712125471966244,
                    0.47712125471966244,
                    0.9542425094393249,
                    0.6020599913279624,
                    0,
                    0.6989700043360189,
                    0,
                    0,
                    0.3010299956639812,
                    0,
                    0,
                    0,
                    0,
                    0,
                    0,
                    0.3010299956639812,
                    0,
                    0,
                    0,
                    0,
                    0,
                    0,
                    0.6020599913279624,
                    0.9030899869919435,
                    0,
                    0,
                    0.3010299956639812,
                    0,
                    0,
                    0,
                    0,
                    0,
                    0,
                    0,
                    0,
                    0.7781512503836436,
                    0.47712125471966244,
                    0.47712125471966244,
                    0.47712125471966244,
                    0.47712125471966244,
                    0,
                    0.6020599913279624,
                    0,
                    0,
                    0.47712125471966244,
                    0.47712125471966244,
                    0.9030899869919435,
                    0.47712125471966244,
                    0,
                    0.3010299956639812,
                    0,
                    0,
                    0.6020599913279624,
                    0,
                    0.6020599913279624,
                    0,
                    0.47712125471966244,
                    0.47712125471966244,
                    0.6989700043360189,
                    0,
                    0.6020599913279624,
                    0.47712125471966244,
                    0.6989700043360189,
                    0.9030899869919435,
                    0.47712125471966244,
                    0.3010299956639812,
                    1.0413926851582251,
                    0.3010299956639812,
                    0.47712125471966244,
                    0.6989700043360189,
                    0.47712125471966244,
                    0.3010299956639812,
                    0.6020599913279624,
                    0.6020599913279624,
                    0.3010299956639812,
                    0.3010299956639812,
                    0,
                    0.3010299956639812,
                    0.6020599913279624,
                    0.47712125471966244,
                    0,
                    0.3010299956639812,
                    0.6989700043360189,
                    0.6020599913279624,
                    0,
                    0.3010299956639812,
                    0,
                    0,
                    0.3010299956639812,
                    0.3010299956639812,
                    0,
                    0,
                    0,
                    0.3010299956639812,
                    0.9030899869919435,
                    0,
                    0,
                    0.6989700043360189,
                    0,
                    0.3010299956639812,
                    0,
                    0.3010299956639812,
                    0.7781512503836436,
                    0,
                    0.3010299956639812,
                    0,
                    0,
                    0,
                    0,
                    0.47712125471966244,
                    0,
                    0,
                    0.3010299956639812,
                    0,
                    0.3010299956639812,
                    0,
                    0.47712125471966244,
                    0,
                    0.47712125471966244,
                    0,
                    0,
                    0,
                    0.6020599913279624,
                    0,
                    0,
                    0,
                    0.6020599913279624,
                    0,
                    0,
                    0,
                    0,
                    0,
                    0,
                    0,
                    0,
                    0,
                    0,
                    0,
                    0,
                    0,
                    0,
                    0,
                    0,
                    0,
                    0
                  ],
                  "xaxis": "x2",
                  "y": [
                    46.15384615384615,
                    0,
                    0,
                    50,
                    0,
                    0,
                    100,
                    100,
                    60,
                    100,
                    28.57142857142857,
                    50,
                    0,
                    0,
                    50,
                    0,
                    100,
                    100,
                    100,
                    12.5,
                    0,
                    50,
                    100,
                    0,
                    100,
                    0,
                    66.66666666666666,
                    0,
                    88.88888888888889,
                    25,
                    0,
                    20,
                    100,
                    100,
                    100,
                    100,
                    100,
                    100,
                    100,
                    100,
                    100,
                    50,
                    100,
                    100,
                    100,
                    100,
                    100,
                    100,
                    50,
                    75,
                    100,
                    100,
                    50,
                    100,
                    100,
                    100,
                    100,
                    100,
                    100,
                    100,
                    100,
                    66.66666666666666,
                    100,
                    100,
                    100,
                    100,
                    100,
                    50,
                    0,
                    100,
                    66.66666666666666,
                    33.33333333333333,
                    37.5,
                    66.66666666666666,
                    100,
                    50,
                    100,
                    100,
                    50,
                    0,
                    25,
                    100,
                    100,
                    0,
                    60,
                    100,
                    75,
                    66.66666666666666,
                    100,
                    25,
                    66.66666666666666,
                    50,
                    45.45454545454545,
                    100,
                    66.66666666666666,
                    80,
                    33.33333333333333,
                    100,
                    75,
                    100,
                    100,
                    100,
                    100,
                    50,
                    75,
                    0,
                    0,
                    0,
                    40,
                    75,
                    100,
                    100,
                    0,
                    0,
                    0,
                    0,
                    0,
                    0,
                    100,
                    50,
                    25,
                    100,
                    100,
                    40,
                    100,
                    0,
                    0,
                    0,
                    16.666666666666664,
                    0,
                    50,
                    0,
                    0,
                    0,
                    0,
                    66.66666666666666,
                    0,
                    100,
                    100,
                    100,
                    50,
                    0,
                    33.33333333333333,
                    0,
                    0,
                    0,
                    100,
                    0,
                    25,
                    0,
                    0,
                    0,
                    25,
                    0,
                    100,
                    0,
                    0,
                    100,
                    100,
                    100,
                    0,
                    0,
                    100,
                    100,
                    100,
                    100,
                    0,
                    0,
                    0,
                    0,
                    0
                  ],
                  "yaxis": "y2"
                },
                {
                  "marker": {
                    "color": "#00a5a6",
                    "size": 10
                  },
                  "mode": "markers+text",
                  "showlegend": false,
                  "text": [
                    "Google/DeepMind",
                    "Meta/Facebook",
                    "OpenAI",
                    "Tsinghua",
                    "NYU",
                    "MIT",
                    "Stanford",
                    "CMU"
                  ],
                  "textposition": "top center",
                  "type": "scatter",
                  "x": [
                    2.1702617153949575,
                    1.9294189257142926,
                    1.462397997898956,
                    1.255272505103306,
                    1.2787536009528289,
                    1.2787536009528289,
                    1.2304489213782739,
                    1.2304489213782739
                  ],
                  "xaxis": "x2",
                  "y": [
                    30.405405405405407,
                    78.82352941176471,
                    34.48275862068966,
                    38.88888888888889,
                    89.47368421052632,
                    73.68421052631578,
                    64.70588235294117,
                    47.05882352941176
                  ],
                  "yaxis": "y2"
                }
              ],
              "layout": {
                "coloraxis": {
                  "showscale": false
                },
                "height": 500,
                "template": {
                  "data": {
                    "bar": [
                      {
                        "error_x": {
                          "color": "#2a3f5f"
                        },
                        "error_y": {
                          "color": "#2a3f5f"
                        },
                        "marker": {
                          "line": {
                            "color": "white",
                            "width": 0.5
                          },
                          "pattern": {
                            "fillmode": "overlay",
                            "size": 10,
                            "solidity": 0.2
                          }
                        },
                        "type": "bar"
                      }
                    ],
                    "barpolar": [
                      {
                        "marker": {
                          "line": {
                            "color": "white",
                            "width": 0.5
                          },
                          "pattern": {
                            "fillmode": "overlay",
                            "size": 10,
                            "solidity": 0.2
                          }
                        },
                        "type": "barpolar"
                      }
                    ],
                    "carpet": [
                      {
                        "aaxis": {
                          "endlinecolor": "#2a3f5f",
                          "gridcolor": "#C8D4E3",
                          "linecolor": "#C8D4E3",
                          "minorgridcolor": "#C8D4E3",
                          "startlinecolor": "#2a3f5f"
                        },
                        "baxis": {
                          "endlinecolor": "#2a3f5f",
                          "gridcolor": "#C8D4E3",
                          "linecolor": "#C8D4E3",
                          "minorgridcolor": "#C8D4E3",
                          "startlinecolor": "#2a3f5f"
                        },
                        "type": "carpet"
                      }
                    ],
                    "choropleth": [
                      {
                        "colorbar": {
                          "outlinewidth": 0,
                          "ticks": ""
                        },
                        "type": "choropleth"
                      }
                    ],
                    "contour": [
                      {
                        "colorbar": {
                          "outlinewidth": 0,
                          "ticks": ""
                        },
                        "colorscale": [
                          [
                            0,
                            "#0d0887"
                          ],
                          [
                            0.1111111111111111,
                            "#46039f"
                          ],
                          [
                            0.2222222222222222,
                            "#7201a8"
                          ],
                          [
                            0.3333333333333333,
                            "#9c179e"
                          ],
                          [
                            0.4444444444444444,
                            "#bd3786"
                          ],
                          [
                            0.5555555555555556,
                            "#d8576b"
                          ],
                          [
                            0.6666666666666666,
                            "#ed7953"
                          ],
                          [
                            0.7777777777777778,
                            "#fb9f3a"
                          ],
                          [
                            0.8888888888888888,
                            "#fdca26"
                          ],
                          [
                            1,
                            "#f0f921"
                          ]
                        ],
                        "type": "contour"
                      }
                    ],
                    "contourcarpet": [
                      {
                        "colorbar": {
                          "outlinewidth": 0,
                          "ticks": ""
                        },
                        "type": "contourcarpet"
                      }
                    ],
                    "heatmap": [
                      {
                        "colorbar": {
                          "outlinewidth": 0,
                          "ticks": ""
                        },
                        "colorscale": [
                          [
                            0,
                            "#0d0887"
                          ],
                          [
                            0.1111111111111111,
                            "#46039f"
                          ],
                          [
                            0.2222222222222222,
                            "#7201a8"
                          ],
                          [
                            0.3333333333333333,
                            "#9c179e"
                          ],
                          [
                            0.4444444444444444,
                            "#bd3786"
                          ],
                          [
                            0.5555555555555556,
                            "#d8576b"
                          ],
                          [
                            0.6666666666666666,
                            "#ed7953"
                          ],
                          [
                            0.7777777777777778,
                            "#fb9f3a"
                          ],
                          [
                            0.8888888888888888,
                            "#fdca26"
                          ],
                          [
                            1,
                            "#f0f921"
                          ]
                        ],
                        "type": "heatmap"
                      }
                    ],
                    "heatmapgl": [
                      {
                        "colorbar": {
                          "outlinewidth": 0,
                          "ticks": ""
                        },
                        "colorscale": [
                          [
                            0,
                            "#0d0887"
                          ],
                          [
                            0.1111111111111111,
                            "#46039f"
                          ],
                          [
                            0.2222222222222222,
                            "#7201a8"
                          ],
                          [
                            0.3333333333333333,
                            "#9c179e"
                          ],
                          [
                            0.4444444444444444,
                            "#bd3786"
                          ],
                          [
                            0.5555555555555556,
                            "#d8576b"
                          ],
                          [
                            0.6666666666666666,
                            "#ed7953"
                          ],
                          [
                            0.7777777777777778,
                            "#fb9f3a"
                          ],
                          [
                            0.8888888888888888,
                            "#fdca26"
                          ],
                          [
                            1,
                            "#f0f921"
                          ]
                        ],
                        "type": "heatmapgl"
                      }
                    ],
                    "histogram": [
                      {
                        "marker": {
                          "pattern": {
                            "fillmode": "overlay",
                            "size": 10,
                            "solidity": 0.2
                          }
                        },
                        "type": "histogram"
                      }
                    ],
                    "histogram2d": [
                      {
                        "colorbar": {
                          "outlinewidth": 0,
                          "ticks": ""
                        },
                        "colorscale": [
                          [
                            0,
                            "#0d0887"
                          ],
                          [
                            0.1111111111111111,
                            "#46039f"
                          ],
                          [
                            0.2222222222222222,
                            "#7201a8"
                          ],
                          [
                            0.3333333333333333,
                            "#9c179e"
                          ],
                          [
                            0.4444444444444444,
                            "#bd3786"
                          ],
                          [
                            0.5555555555555556,
                            "#d8576b"
                          ],
                          [
                            0.6666666666666666,
                            "#ed7953"
                          ],
                          [
                            0.7777777777777778,
                            "#fb9f3a"
                          ],
                          [
                            0.8888888888888888,
                            "#fdca26"
                          ],
                          [
                            1,
                            "#f0f921"
                          ]
                        ],
                        "type": "histogram2d"
                      }
                    ],
                    "histogram2dcontour": [
                      {
                        "colorbar": {
                          "outlinewidth": 0,
                          "ticks": ""
                        },
                        "colorscale": [
                          [
                            0,
                            "#0d0887"
                          ],
                          [
                            0.1111111111111111,
                            "#46039f"
                          ],
                          [
                            0.2222222222222222,
                            "#7201a8"
                          ],
                          [
                            0.3333333333333333,
                            "#9c179e"
                          ],
                          [
                            0.4444444444444444,
                            "#bd3786"
                          ],
                          [
                            0.5555555555555556,
                            "#d8576b"
                          ],
                          [
                            0.6666666666666666,
                            "#ed7953"
                          ],
                          [
                            0.7777777777777778,
                            "#fb9f3a"
                          ],
                          [
                            0.8888888888888888,
                            "#fdca26"
                          ],
                          [
                            1,
                            "#f0f921"
                          ]
                        ],
                        "type": "histogram2dcontour"
                      }
                    ],
                    "mesh3d": [
                      {
                        "colorbar": {
                          "outlinewidth": 0,
                          "ticks": ""
                        },
                        "type": "mesh3d"
                      }
                    ],
                    "parcoords": [
                      {
                        "line": {
                          "colorbar": {
                            "outlinewidth": 0,
                            "ticks": ""
                          }
                        },
                        "type": "parcoords"
                      }
                    ],
                    "pie": [
                      {
                        "automargin": true,
                        "type": "pie"
                      }
                    ],
                    "scatter": [
                      {
                        "fillpattern": {
                          "fillmode": "overlay",
                          "size": 10,
                          "solidity": 0.2
                        },
                        "type": "scatter"
                      }
                    ],
                    "scatter3d": [
                      {
                        "line": {
                          "colorbar": {
                            "outlinewidth": 0,
                            "ticks": ""
                          }
                        },
                        "marker": {
                          "colorbar": {
                            "outlinewidth": 0,
                            "ticks": ""
                          }
                        },
                        "type": "scatter3d"
                      }
                    ],
                    "scattercarpet": [
                      {
                        "marker": {
                          "colorbar": {
                            "outlinewidth": 0,
                            "ticks": ""
                          }
                        },
                        "type": "scattercarpet"
                      }
                    ],
                    "scattergeo": [
                      {
                        "marker": {
                          "colorbar": {
                            "outlinewidth": 0,
                            "ticks": ""
                          }
                        },
                        "type": "scattergeo"
                      }
                    ],
                    "scattergl": [
                      {
                        "marker": {
                          "colorbar": {
                            "outlinewidth": 0,
                            "ticks": ""
                          }
                        },
                        "type": "scattergl"
                      }
                    ],
                    "scattermapbox": [
                      {
                        "marker": {
                          "colorbar": {
                            "outlinewidth": 0,
                            "ticks": ""
                          }
                        },
                        "type": "scattermapbox"
                      }
                    ],
                    "scatterpolar": [
                      {
                        "marker": {
                          "colorbar": {
                            "outlinewidth": 0,
                            "ticks": ""
                          }
                        },
                        "type": "scatterpolar"
                      }
                    ],
                    "scatterpolargl": [
                      {
                        "marker": {
                          "colorbar": {
                            "outlinewidth": 0,
                            "ticks": ""
                          }
                        },
                        "type": "scatterpolargl"
                      }
                    ],
                    "scatterternary": [
                      {
                        "marker": {
                          "colorbar": {
                            "outlinewidth": 0,
                            "ticks": ""
                          }
                        },
                        "type": "scatterternary"
                      }
                    ],
                    "surface": [
                      {
                        "colorbar": {
                          "outlinewidth": 0,
                          "ticks": ""
                        },
                        "colorscale": [
                          [
                            0,
                            "#0d0887"
                          ],
                          [
                            0.1111111111111111,
                            "#46039f"
                          ],
                          [
                            0.2222222222222222,
                            "#7201a8"
                          ],
                          [
                            0.3333333333333333,
                            "#9c179e"
                          ],
                          [
                            0.4444444444444444,
                            "#bd3786"
                          ],
                          [
                            0.5555555555555556,
                            "#d8576b"
                          ],
                          [
                            0.6666666666666666,
                            "#ed7953"
                          ],
                          [
                            0.7777777777777778,
                            "#fb9f3a"
                          ],
                          [
                            0.8888888888888888,
                            "#fdca26"
                          ],
                          [
                            1,
                            "#f0f921"
                          ]
                        ],
                        "type": "surface"
                      }
                    ],
                    "table": [
                      {
                        "cells": {
                          "fill": {
                            "color": "#EBF0F8"
                          },
                          "line": {
                            "color": "white"
                          }
                        },
                        "header": {
                          "fill": {
                            "color": "#C8D4E3"
                          },
                          "line": {
                            "color": "white"
                          }
                        },
                        "type": "table"
                      }
                    ]
                  },
                  "layout": {
                    "annotationdefaults": {
                      "arrowcolor": "#2a3f5f",
                      "arrowhead": 0,
                      "arrowwidth": 1
                    },
                    "autotypenumbers": "strict",
                    "coloraxis": {
                      "colorbar": {
                        "outlinewidth": 0,
                        "ticks": ""
                      }
                    },
                    "colorscale": {
                      "diverging": [
                        [
                          0,
                          "#8e0152"
                        ],
                        [
                          0.1,
                          "#c51b7d"
                        ],
                        [
                          0.2,
                          "#de77ae"
                        ],
                        [
                          0.3,
                          "#f1b6da"
                        ],
                        [
                          0.4,
                          "#fde0ef"
                        ],
                        [
                          0.5,
                          "#f7f7f7"
                        ],
                        [
                          0.6,
                          "#e6f5d0"
                        ],
                        [
                          0.7,
                          "#b8e186"
                        ],
                        [
                          0.8,
                          "#7fbc41"
                        ],
                        [
                          0.9,
                          "#4d9221"
                        ],
                        [
                          1,
                          "#276419"
                        ]
                      ],
                      "sequential": [
                        [
                          0,
                          "#0d0887"
                        ],
                        [
                          0.1111111111111111,
                          "#46039f"
                        ],
                        [
                          0.2222222222222222,
                          "#7201a8"
                        ],
                        [
                          0.3333333333333333,
                          "#9c179e"
                        ],
                        [
                          0.4444444444444444,
                          "#bd3786"
                        ],
                        [
                          0.5555555555555556,
                          "#d8576b"
                        ],
                        [
                          0.6666666666666666,
                          "#ed7953"
                        ],
                        [
                          0.7777777777777778,
                          "#fb9f3a"
                        ],
                        [
                          0.8888888888888888,
                          "#fdca26"
                        ],
                        [
                          1,
                          "#f0f921"
                        ]
                      ],
                      "sequentialminus": [
                        [
                          0,
                          "#0d0887"
                        ],
                        [
                          0.1111111111111111,
                          "#46039f"
                        ],
                        [
                          0.2222222222222222,
                          "#7201a8"
                        ],
                        [
                          0.3333333333333333,
                          "#9c179e"
                        ],
                        [
                          0.4444444444444444,
                          "#bd3786"
                        ],
                        [
                          0.5555555555555556,
                          "#d8576b"
                        ],
                        [
                          0.6666666666666666,
                          "#ed7953"
                        ],
                        [
                          0.7777777777777778,
                          "#fb9f3a"
                        ],
                        [
                          0.8888888888888888,
                          "#fdca26"
                        ],
                        [
                          1,
                          "#f0f921"
                        ]
                      ]
                    },
                    "colorway": [
                      "#636efa",
                      "#EF553B",
                      "#00cc96",
                      "#ab63fa",
                      "#FFA15A",
                      "#19d3f3",
                      "#FF6692",
                      "#B6E880",
                      "#FF97FF",
                      "#FECB52"
                    ],
                    "font": {
                      "color": "#2a3f5f"
                    },
                    "geo": {
                      "bgcolor": "white",
                      "lakecolor": "white",
                      "landcolor": "white",
                      "showlakes": true,
                      "showland": true,
                      "subunitcolor": "#C8D4E3"
                    },
                    "hoverlabel": {
                      "align": "left"
                    },
                    "hovermode": "closest",
                    "mapbox": {
                      "style": "light"
                    },
                    "paper_bgcolor": "white",
                    "plot_bgcolor": "white",
                    "polar": {
                      "angularaxis": {
                        "gridcolor": "#EBF0F8",
                        "linecolor": "#EBF0F8",
                        "ticks": ""
                      },
                      "bgcolor": "white",
                      "radialaxis": {
                        "gridcolor": "#EBF0F8",
                        "linecolor": "#EBF0F8",
                        "ticks": ""
                      }
                    },
                    "scene": {
                      "xaxis": {
                        "backgroundcolor": "white",
                        "gridcolor": "#DFE8F3",
                        "gridwidth": 2,
                        "linecolor": "#EBF0F8",
                        "showbackground": true,
                        "ticks": "",
                        "zerolinecolor": "#EBF0F8"
                      },
                      "yaxis": {
                        "backgroundcolor": "white",
                        "gridcolor": "#DFE8F3",
                        "gridwidth": 2,
                        "linecolor": "#EBF0F8",
                        "showbackground": true,
                        "ticks": "",
                        "zerolinecolor": "#EBF0F8"
                      },
                      "zaxis": {
                        "backgroundcolor": "white",
                        "gridcolor": "#DFE8F3",
                        "gridwidth": 2,
                        "linecolor": "#EBF0F8",
                        "showbackground": true,
                        "ticks": "",
                        "zerolinecolor": "#EBF0F8"
                      }
                    },
                    "shapedefaults": {
                      "line": {
                        "color": "#2a3f5f"
                      }
                    },
                    "ternary": {
                      "aaxis": {
                        "gridcolor": "#DFE8F3",
                        "linecolor": "#A2B1C6",
                        "ticks": ""
                      },
                      "baxis": {
                        "gridcolor": "#DFE8F3",
                        "linecolor": "#A2B1C6",
                        "ticks": ""
                      },
                      "bgcolor": "white",
                      "caxis": {
                        "gridcolor": "#DFE8F3",
                        "linecolor": "#A2B1C6",
                        "ticks": ""
                      }
                    },
                    "title": {
                      "x": 0.05
                    },
                    "xaxis": {
                      "automargin": true,
                      "gridcolor": "#EBF0F8",
                      "linecolor": "#EBF0F8",
                      "ticks": "",
                      "title": {
                        "standoff": 15
                      },
                      "zerolinecolor": "#EBF0F8",
                      "zerolinewidth": 2
                    },
                    "yaxis": {
                      "automargin": true,
                      "gridcolor": "#EBF0F8",
                      "linecolor": "#EBF0F8",
                      "ticks": "",
                      "title": {
                        "standoff": 15
                      },
                      "zerolinecolor": "#EBF0F8",
                      "zerolinewidth": 2
                    }
                  }
                },
                "title": {
                  "text": "Percentage of notable models that are open, by organization"
                },
                "width": 1000,
                "xaxis": {
                  "anchor": "y",
                  "domain": [
                    0,
                    0.45
                  ],
                  "range": [
                    14,
                    28
                  ],
                  "title": {
                    "text": "Largest training run (FLOP, log-scale)"
                  }
                },
                "xaxis2": {
                  "anchor": "y2",
                  "domain": [
                    0.55,
                    1
                  ],
                  "range": [
                    -0.5,
                    3
                  ],
                  "tickmode": "array",
                  "ticktext": [
                    "1",
                    "3",
                    "10",
                    "30",
                    "100",
                    "300"
                  ],
                  "tickvals": [
                    0,
                    0.47712125471966244,
                    1,
                    1.4771212547196624,
                    2,
                    2.4771212547196626
                  ],
                  "title": {
                    "text": "Number of notable models (log-scale)"
                  }
                },
                "yaxis": {
                  "anchor": "x",
                  "domain": [
                    0,
                    1
                  ],
                  "range": [
                    -10,
                    110
                  ],
                  "tickmode": "array",
                  "ticktext": [
                    "",
                    "0",
                    "25",
                    "50",
                    "75",
                    "100",
                    ""
                  ],
                  "tickvals": [
                    -10,
                    0,
                    25,
                    50,
                    75,
                    100,
                    110
                  ],
                  "title": {
                    "text": "Percentage of open models"
                  }
                },
                "yaxis2": {
                  "anchor": "x2",
                  "domain": [
                    0,
                    1
                  ],
                  "range": [
                    -10,
                    110
                  ],
                  "tickmode": "array",
                  "ticktext": [
                    "",
                    "0",
                    "25",
                    "50",
                    "75",
                    "100",
                    ""
                  ],
                  "tickvals": [
                    -10,
                    0,
                    25,
                    50,
                    75,
                    100,
                    110
                  ]
                }
              }
            }
          },
          "metadata": {},
          "output_type": "display_data"
        }
      ],
      "source": [
        "accessibility_type = 'model'\n",
        "model_count_threshold = 15\n",
        "\n",
        "fig = make_subplots(rows=1, cols=2)\n",
        "big_org_models = all_models[all_models['model_count'] >= model_count_threshold]\n",
        "other_org_models = all_models[all_models['model_count'] < model_count_threshold]\n",
        "\n",
        "fig.add_trace(\n",
        "    go.Scatter(\n",
        "        x=other_org_models['Max Training Compute (FLOP)'],\n",
        "        y=other_org_models[f'open_{accessibility_type}_percentage'],\n",
        "        mode='markers',\n",
        "        text=other_org_models['Organization'],\n",
        "        marker=dict(size=10, color='#daf0f0'),\n",
        "        showlegend=False,\n",
        "    ),\n",
        "    row=1,\n",
        "    col=1,\n",
        ")\n",
        "\n",
        "# Add trendline to first subplot using statsmodels\n",
        "# if len(all_models) >= 2:\n",
        "#     X1 = sm.add_constant(all_models['Max Training Compute (FLOP)'])\n",
        "#     model1 = sm.OLS(all_models[f'open_{accessibility_type}_percentage'], X1).fit()\n",
        "#     x_range1 = np.linspace(all_models['Max Training Compute (FLOP)'].min(), all_models['Max Training Compute (FLOP)'].max(), 100)\n",
        "#     X_pred1 = sm.add_constant(x_range1)\n",
        "#     y_fit1 = model1.predict(X_pred1)\n",
        "#     fig.add_trace(\n",
        "#         go.Scatter(\n",
        "#             x=x_range1,\n",
        "#             y=y_fit1,\n",
        "#             mode='lines',\n",
        "#             name='Trendline',\n",
        "#             line=dict(color='rgb(150, 150, 150)'),\n",
        "#             showlegend=False,\n",
        "#         ),\n",
        "#         row=1,\n",
        "#         col=1,\n",
        "#     )\n",
        "\n",
        "fig.add_trace(\n",
        "    go.Scatter(\n",
        "        x=big_org_models['Max Training Compute (FLOP)'],\n",
        "        y=big_org_models[f'open_{accessibility_type}_percentage'],\n",
        "        mode='markers+text',\n",
        "        marker=dict(\n",
        "            size=10, #2*big_org_models['model_count']**0.5,\n",
        "            color='#00a5a6',\n",
        "            opacity=1,\n",
        "        ),\n",
        "        text=big_org_models['Organization'],\n",
        "        textposition='top center',\n",
        "        showlegend=False,\n",
        "    ),\n",
        "    row=1,\n",
        "    col=1,\n",
        ")\n",
        "\n",
        "# x limits\n",
        "fig.update_xaxes({'range': [14, 28]}, row=1, col=1)\n",
        "# xaxis title\n",
        "accessibility_obj = 'models' if accessibility_type == 'model' else 'code'\n",
        "fig.update_xaxes(title='Largest training run (FLOP, log-scale)', row=1, col=1)\n",
        "fig.update_yaxes(title=f'Percentage of open {accessibility_obj}', row=1, col=1)\n",
        "fig.update_yaxes(\n",
        "    range=[-10, 110],\n",
        "    tickmode='array',\n",
        "    tickvals=[-10, 0, 25, 50, 75, 100, 110],\n",
        "    ticktext=['', '0', '25', '50', '75', '100', ''],\n",
        "    row=1,\n",
        "    col=1,\n",
        ")\n",
        "# fig.update_yaxes(range=[0, 100], row=1, col=1)\n",
        "\n",
        "fig.add_trace(\n",
        "    go.Scatter(\n",
        "        x=np.log10(other_org_models['model_count']),\n",
        "        y=other_org_models[f'open_{accessibility_type}_percentage'],\n",
        "        mode='markers',\n",
        "        text=other_org_models['Organization'],\n",
        "        marker=dict(size=10, color='#daf0f0'),\n",
        "        showlegend=False,\n",
        "    ),\n",
        "    row=1,\n",
        "    col=2,\n",
        ")\n",
        "\n",
        "# Add trendline to second subplot using statsmodels\n",
        "# if len(all_models) >= 2:\n",
        "#     X2 = sm.add_constant(np.log10(all_models['model_count']))\n",
        "#     model2 = sm.OLS(all_models[f'open_{accessibility_type}_percentage'], X2).fit()\n",
        "#     x_range2 = np.linspace(np.log10(all_models['model_count']).min(), np.log10(all_models['model_count']).max(), 100)\n",
        "#     X_pred2 = sm.add_constant(x_range2)\n",
        "#     y_fit2 = model2.predict(X_pred2)\n",
        "#     fig.add_trace(\n",
        "#         go.Scatter(\n",
        "#             x=x_range2,\n",
        "#             y=y_fit2,\n",
        "#             mode='lines',\n",
        "#             name='Trendline',\n",
        "#             line=dict(color='rgb(150, 150, 150)'),\n",
        "#             showlegend=False,\n",
        "#         ),\n",
        "#         row=1,\n",
        "#         col=2,\n",
        "#     )\n",
        "\n",
        "fig.add_trace(\n",
        "    go.Scatter(\n",
        "        x=np.log10(big_org_models['model_count']),\n",
        "        y=big_org_models[f'open_{accessibility_type}_percentage'],\n",
        "        mode='markers+text',\n",
        "        marker=dict(size=10, color='#00a5a6'),\n",
        "        text=big_org_models['Organization'],\n",
        "        textposition='top center',\n",
        "        showlegend=False,\n",
        "    ),\n",
        "    row=1,\n",
        "    col=2,\n",
        ")\n",
        "\n",
        "fig.update_xaxes(title='Number of notable models (log-scale)', range=[-0.5, 3], row=1, col=2)\n",
        "# Edit tick labels\n",
        "fig.update_xaxes(\n",
        "    tickmode='array',\n",
        "    tickvals=np.log10([1, 3, 10, 30, 100, 300]),\n",
        "    ticktext=['1', '3', '10', '30', '100', '300'],\n",
        "    row=1,\n",
        "    col=2,\n",
        ")\n",
        "fig.update_yaxes(\n",
        "    range=[-10, 110],\n",
        "    tickmode='array',\n",
        "    tickvals=[-10, 0, 25, 50, 75, 100, 110],\n",
        "    ticktext=['', '0', '25', '50', '75', '100', ''],\n",
        "    row=1,\n",
        "    col=2,\n",
        ")\n",
        "# fig.update_yaxes(range=[0, 100], row=1, col=2)\n",
        "\n",
        "# Update layout for better readability\n",
        "fig.update_layout(\n",
        "  width=1000,\n",
        "  height=500,\n",
        "  template='plotly_white',\n",
        "  coloraxis_showscale=False,\n",
        "  title=f\"Percentage of notable models that are open, by organization\",\n",
        ")\n",
        "\n",
        "# Save plot\n",
        "save_plot(fig, results_dir, f'percent_open_{accessibility_type}_by_org')\n",
        "\n",
        "# Show the plot\n",
        "fig.show()"
      ]
    },
    {
      "cell_type": "code",
      "execution_count": null,
      "metadata": {},
      "outputs": [
        {
          "data": {
            "text/html": [
              "<table class=\"simpletable\">\n",
              "<caption>OLS Regression Results</caption>\n",
              "<tr>\n",
              "  <th>Dep. Variable:</th>    <td>open_model_percentage</td> <th>  R-squared:         </th> <td>   0.060</td>\n",
              "</tr>\n",
              "<tr>\n",
              "  <th>Model:</th>                     <td>OLS</td>          <th>  Adj. R-squared:    </th> <td>   0.055</td>\n",
              "</tr>\n",
              "<tr>\n",
              "  <th>Method:</th>               <td>Least Squares</td>     <th>  F-statistic:       </th> <td>   11.26</td>\n",
              "</tr>\n",
              "<tr>\n",
              "  <th>Date:</th>               <td>Wed, 18 Sep 2024</td>    <th>  Prob (F-statistic):</th> <td>0.000969</td>\n",
              "</tr>\n",
              "<tr>\n",
              "  <th>Time:</th>                   <td>16:58:25</td>        <th>  Log-Likelihood:    </th> <td> -918.07</td>\n",
              "</tr>\n",
              "<tr>\n",
              "  <th>No. Observations:</th>        <td>   179</td>         <th>  AIC:               </th> <td>   1840.</td>\n",
              "</tr>\n",
              "<tr>\n",
              "  <th>Df Residuals:</th>            <td>   177</td>         <th>  BIC:               </th> <td>   1847.</td>\n",
              "</tr>\n",
              "<tr>\n",
              "  <th>Df Model:</th>                <td>     1</td>         <th>                     </th>     <td> </td>   \n",
              "</tr>\n",
              "<tr>\n",
              "  <th>Covariance Type:</th>        <td>nonrobust</td>       <th>                     </th>     <td> </td>   \n",
              "</tr>\n",
              "</table>\n",
              "<table class=\"simpletable\">\n",
              "<tr>\n",
              "               <td></td>                  <th>coef</th>     <th>std err</th>      <th>t</th>      <th>P>|t|</th>  <th>[0.025</th>    <th>0.975]</th>  \n",
              "</tr>\n",
              "<tr>\n",
              "  <th>const</th>                       <td>  -45.0012</td> <td>   30.119</td> <td>   -1.494</td> <td> 0.137</td> <td> -104.439</td> <td>   14.437</td>\n",
              "</tr>\n",
              "<tr>\n",
              "  <th>Max Training Compute (FLOP)</th> <td>    4.6587</td> <td>    1.388</td> <td>    3.356</td> <td> 0.001</td> <td>    1.919</td> <td>    7.399</td>\n",
              "</tr>\n",
              "</table>\n",
              "<table class=\"simpletable\">\n",
              "<tr>\n",
              "  <th>Omnibus:</th>       <td>432.697</td> <th>  Durbin-Watson:     </th> <td>   1.312</td>\n",
              "</tr>\n",
              "<tr>\n",
              "  <th>Prob(Omnibus):</th> <td> 0.000</td>  <th>  Jarque-Bera (JB):  </th> <td>  15.640</td>\n",
              "</tr>\n",
              "<tr>\n",
              "  <th>Skew:</th>          <td>-0.144</td>  <th>  Prob(JB):          </th> <td>0.000402</td>\n",
              "</tr>\n",
              "<tr>\n",
              "  <th>Kurtosis:</th>      <td> 1.581</td>  <th>  Cond. No.          </th> <td>    213.</td>\n",
              "</tr>\n",
              "</table><br/><br/>Notes:<br/>[1] Standard Errors assume that the covariance matrix of the errors is correctly specified."
            ],
            "text/latex": [
              "\\begin{center}\n",
              "\\begin{tabular}{lclc}\n",
              "\\toprule\n",
              "\\textbf{Dep. Variable:}              & open\\_model\\_percentage & \\textbf{  R-squared:         } &     0.060   \\\\\n",
              "\\textbf{Model:}                      &           OLS           & \\textbf{  Adj. R-squared:    } &     0.055   \\\\\n",
              "\\textbf{Method:}                     &      Least Squares      & \\textbf{  F-statistic:       } &     11.26   \\\\\n",
              "\\textbf{Date:}                       &     Wed, 18 Sep 2024    & \\textbf{  Prob (F-statistic):} &  0.000969   \\\\\n",
              "\\textbf{Time:}                       &         16:58:25        & \\textbf{  Log-Likelihood:    } &   -918.07   \\\\\n",
              "\\textbf{No. Observations:}           &             179         & \\textbf{  AIC:               } &     1840.   \\\\\n",
              "\\textbf{Df Residuals:}               &             177         & \\textbf{  BIC:               } &     1847.   \\\\\n",
              "\\textbf{Df Model:}                   &               1         & \\textbf{                     } &             \\\\\n",
              "\\textbf{Covariance Type:}            &        nonrobust        & \\textbf{                     } &             \\\\\n",
              "\\bottomrule\n",
              "\\end{tabular}\n",
              "\\begin{tabular}{lcccccc}\n",
              "                                     & \\textbf{coef} & \\textbf{std err} & \\textbf{t} & \\textbf{P$> |$t$|$} & \\textbf{[0.025} & \\textbf{0.975]}  \\\\\n",
              "\\midrule\n",
              "\\textbf{const}                       &     -45.0012  &       30.119     &    -1.494  &         0.137        &     -104.439    &       14.437     \\\\\n",
              "\\textbf{Max Training Compute (FLOP)} &       4.6587  &        1.388     &     3.356  &         0.001        &        1.919    &        7.399     \\\\\n",
              "\\bottomrule\n",
              "\\end{tabular}\n",
              "\\begin{tabular}{lclc}\n",
              "\\textbf{Omnibus:}       & 432.697 & \\textbf{  Durbin-Watson:     } &    1.312  \\\\\n",
              "\\textbf{Prob(Omnibus):} &   0.000 & \\textbf{  Jarque-Bera (JB):  } &   15.640  \\\\\n",
              "\\textbf{Skew:}          &  -0.144 & \\textbf{  Prob(JB):          } & 0.000402  \\\\\n",
              "\\textbf{Kurtosis:}      &   1.581 & \\textbf{  Cond. No.          } &     213.  \\\\\n",
              "\\bottomrule\n",
              "\\end{tabular}\n",
              "%\\caption{OLS Regression Results}\n",
              "\\end{center}\n",
              "\n",
              "Notes: \\newline\n",
              " [1] Standard Errors assume that the covariance matrix of the errors is correctly specified."
            ],
            "text/plain": [
              "<class 'statsmodels.iolib.summary.Summary'>\n",
              "\"\"\"\n",
              "                              OLS Regression Results                             \n",
              "=================================================================================\n",
              "Dep. Variable:     open_model_percentage   R-squared:                       0.060\n",
              "Model:                               OLS   Adj. R-squared:                  0.055\n",
              "Method:                    Least Squares   F-statistic:                     11.26\n",
              "Date:                   Wed, 18 Sep 2024   Prob (F-statistic):           0.000969\n",
              "Time:                           16:58:25   Log-Likelihood:                -918.07\n",
              "No. Observations:                    179   AIC:                             1840.\n",
              "Df Residuals:                        177   BIC:                             1847.\n",
              "Df Model:                              1                                         \n",
              "Covariance Type:               nonrobust                                         \n",
              "===============================================================================================\n",
              "                                  coef    std err          t      P>|t|      [0.025      0.975]\n",
              "-----------------------------------------------------------------------------------------------\n",
              "const                         -45.0012     30.119     -1.494      0.137    -104.439      14.437\n",
              "Max Training Compute (FLOP)     4.6587      1.388      3.356      0.001       1.919       7.399\n",
              "==============================================================================\n",
              "Omnibus:                      432.697   Durbin-Watson:                   1.312\n",
              "Prob(Omnibus):                  0.000   Jarque-Bera (JB):               15.640\n",
              "Skew:                          -0.144   Prob(JB):                     0.000402\n",
              "Kurtosis:                       1.581   Cond. No.                         213.\n",
              "==============================================================================\n",
              "\n",
              "Notes:\n",
              "[1] Standard Errors assume that the covariance matrix of the errors is correctly specified.\n",
              "\"\"\""
            ]
          },
          "execution_count": 108,
          "metadata": {},
          "output_type": "execute_result"
        }
      ],
      "source": [
        "model1.summary()"
      ]
    },
    {
      "cell_type": "code",
      "execution_count": null,
      "metadata": {},
      "outputs": [
        {
          "data": {
            "text/html": [
              "<table class=\"simpletable\">\n",
              "<caption>OLS Regression Results</caption>\n",
              "<tr>\n",
              "  <th>Dep. Variable:</th>    <td>open_model_percentage</td> <th>  R-squared:         </th> <td>   0.004</td>\n",
              "</tr>\n",
              "<tr>\n",
              "  <th>Model:</th>                     <td>OLS</td>          <th>  Adj. R-squared:    </th> <td>  -0.001</td>\n",
              "</tr>\n",
              "<tr>\n",
              "  <th>Method:</th>               <td>Least Squares</td>     <th>  F-statistic:       </th> <td>  0.7543</td>\n",
              "</tr>\n",
              "<tr>\n",
              "  <th>Date:</th>               <td>Wed, 18 Sep 2024</td>    <th>  Prob (F-statistic):</th>  <td> 0.386</td> \n",
              "</tr>\n",
              "<tr>\n",
              "  <th>Time:</th>                   <td>16:58:27</td>        <th>  Log-Likelihood:    </th> <td> -923.21</td>\n",
              "</tr>\n",
              "<tr>\n",
              "  <th>No. Observations:</th>        <td>   179</td>         <th>  AIC:               </th> <td>   1850.</td>\n",
              "</tr>\n",
              "<tr>\n",
              "  <th>Df Residuals:</th>            <td>   177</td>         <th>  BIC:               </th> <td>   1857.</td>\n",
              "</tr>\n",
              "<tr>\n",
              "  <th>Df Model:</th>                <td>     1</td>         <th>                     </th>     <td> </td>   \n",
              "</tr>\n",
              "<tr>\n",
              "  <th>Covariance Type:</th>        <td>nonrobust</td>       <th>                     </th>     <td> </td>   \n",
              "</tr>\n",
              "</table>\n",
              "<table class=\"simpletable\">\n",
              "<tr>\n",
              "       <td></td>          <th>coef</th>     <th>std err</th>      <th>t</th>      <th>P>|t|</th>  <th>[0.025</th>    <th>0.975]</th>  \n",
              "</tr>\n",
              "<tr>\n",
              "  <th>const</th>       <td>   57.6911</td> <td>    4.015</td> <td>   14.368</td> <td> 0.000</td> <td>   49.767</td> <td>   65.615</td>\n",
              "</tr>\n",
              "<tr>\n",
              "  <th>model_count</th> <td>   -6.7237</td> <td>    7.742</td> <td>   -0.869</td> <td> 0.386</td> <td>  -22.001</td> <td>    8.554</td>\n",
              "</tr>\n",
              "</table>\n",
              "<table class=\"simpletable\">\n",
              "<tr>\n",
              "  <th>Omnibus:</th>       <td>2354.789</td> <th>  Durbin-Watson:     </th> <td>   1.235</td>\n",
              "</tr>\n",
              "<tr>\n",
              "  <th>Prob(Omnibus):</th>  <td> 0.000</td>  <th>  Jarque-Bera (JB):  </th> <td>  21.039</td>\n",
              "</tr>\n",
              "<tr>\n",
              "  <th>Skew:</th>           <td>-0.291</td>  <th>  Prob(JB):          </th> <td>2.70e-05</td>\n",
              "</tr>\n",
              "<tr>\n",
              "  <th>Kurtosis:</th>       <td> 1.425</td>  <th>  Cond. No.          </th> <td>    2.74</td>\n",
              "</tr>\n",
              "</table><br/><br/>Notes:<br/>[1] Standard Errors assume that the covariance matrix of the errors is correctly specified."
            ],
            "text/latex": [
              "\\begin{center}\n",
              "\\begin{tabular}{lclc}\n",
              "\\toprule\n",
              "\\textbf{Dep. Variable:}    & open\\_model\\_percentage & \\textbf{  R-squared:         } &     0.004   \\\\\n",
              "\\textbf{Model:}            &           OLS           & \\textbf{  Adj. R-squared:    } &    -0.001   \\\\\n",
              "\\textbf{Method:}           &      Least Squares      & \\textbf{  F-statistic:       } &    0.7543   \\\\\n",
              "\\textbf{Date:}             &     Wed, 18 Sep 2024    & \\textbf{  Prob (F-statistic):} &    0.386    \\\\\n",
              "\\textbf{Time:}             &         16:58:27        & \\textbf{  Log-Likelihood:    } &   -923.21   \\\\\n",
              "\\textbf{No. Observations:} &             179         & \\textbf{  AIC:               } &     1850.   \\\\\n",
              "\\textbf{Df Residuals:}     &             177         & \\textbf{  BIC:               } &     1857.   \\\\\n",
              "\\textbf{Df Model:}         &               1         & \\textbf{                     } &             \\\\\n",
              "\\textbf{Covariance Type:}  &        nonrobust        & \\textbf{                     } &             \\\\\n",
              "\\bottomrule\n",
              "\\end{tabular}\n",
              "\\begin{tabular}{lcccccc}\n",
              "                      & \\textbf{coef} & \\textbf{std err} & \\textbf{t} & \\textbf{P$> |$t$|$} & \\textbf{[0.025} & \\textbf{0.975]}  \\\\\n",
              "\\midrule\n",
              "\\textbf{const}        &      57.6911  &        4.015     &    14.368  &         0.000        &       49.767    &       65.615     \\\\\n",
              "\\textbf{model\\_count} &      -6.7237  &        7.742     &    -0.869  &         0.386        &      -22.001    &        8.554     \\\\\n",
              "\\bottomrule\n",
              "\\end{tabular}\n",
              "\\begin{tabular}{lclc}\n",
              "\\textbf{Omnibus:}       & 2354.789 & \\textbf{  Durbin-Watson:     } &    1.235  \\\\\n",
              "\\textbf{Prob(Omnibus):} &   0.000  & \\textbf{  Jarque-Bera (JB):  } &   21.039  \\\\\n",
              "\\textbf{Skew:}          &  -0.291  & \\textbf{  Prob(JB):          } & 2.70e-05  \\\\\n",
              "\\textbf{Kurtosis:}      &   1.425  & \\textbf{  Cond. No.          } &     2.74  \\\\\n",
              "\\bottomrule\n",
              "\\end{tabular}\n",
              "%\\caption{OLS Regression Results}\n",
              "\\end{center}\n",
              "\n",
              "Notes: \\newline\n",
              " [1] Standard Errors assume that the covariance matrix of the errors is correctly specified."
            ],
            "text/plain": [
              "<class 'statsmodels.iolib.summary.Summary'>\n",
              "\"\"\"\n",
              "                              OLS Regression Results                             \n",
              "=================================================================================\n",
              "Dep. Variable:     open_model_percentage   R-squared:                       0.004\n",
              "Model:                               OLS   Adj. R-squared:                 -0.001\n",
              "Method:                    Least Squares   F-statistic:                    0.7543\n",
              "Date:                   Wed, 18 Sep 2024   Prob (F-statistic):              0.386\n",
              "Time:                           16:58:27   Log-Likelihood:                -923.21\n",
              "No. Observations:                    179   AIC:                             1850.\n",
              "Df Residuals:                        177   BIC:                             1857.\n",
              "Df Model:                              1                                         \n",
              "Covariance Type:               nonrobust                                         \n",
              "===============================================================================\n",
              "                  coef    std err          t      P>|t|      [0.025      0.975]\n",
              "-------------------------------------------------------------------------------\n",
              "const          57.6911      4.015     14.368      0.000      49.767      65.615\n",
              "model_count    -6.7237      7.742     -0.869      0.386     -22.001       8.554\n",
              "==============================================================================\n",
              "Omnibus:                     2354.789   Durbin-Watson:                   1.235\n",
              "Prob(Omnibus):                  0.000   Jarque-Bera (JB):               21.039\n",
              "Skew:                          -0.291   Prob(JB):                     2.70e-05\n",
              "Kurtosis:                       1.425   Cond. No.                         2.74\n",
              "==============================================================================\n",
              "\n",
              "Notes:\n",
              "[1] Standard Errors assume that the covariance matrix of the errors is correctly specified.\n",
              "\"\"\""
            ]
          },
          "execution_count": 109,
          "metadata": {},
          "output_type": "execute_result"
        }
      ],
      "source": [
        "model2.summary()"
      ]
    },
    {
      "cell_type": "markdown",
      "metadata": {},
      "source": [
        "# Openness by Organization categorization"
      ]
    },
    {
      "cell_type": "code",
      "execution_count": null,
      "metadata": {},
      "outputs": [],
      "source": [
        "df = pd.read_csv(filepath)"
      ]
    },
    {
      "cell_type": "code",
      "execution_count": null,
      "metadata": {},
      "outputs": [
        {
          "data": {
            "text/html": [
              "<div>\n",
              "<style scoped>\n",
              "    .dataframe tbody tr th:only-of-type {\n",
              "        vertical-align: middle;\n",
              "    }\n",
              "\n",
              "    .dataframe tbody tr th {\n",
              "        vertical-align: top;\n",
              "    }\n",
              "\n",
              "    .dataframe thead th {\n",
              "        text-align: right;\n",
              "    }\n",
              "</style>\n",
              "<table border=\"1\" class=\"dataframe\">\n",
              "  <thead>\n",
              "    <tr style=\"text-align: right;\">\n",
              "      <th></th>\n",
              "      <th>System</th>\n",
              "      <th>Publication date</th>\n",
              "      <th>Notability criteria</th>\n",
              "      <th>Link</th>\n",
              "      <th>Model accessibility</th>\n",
              "      <th>Code accessibility</th>\n",
              "      <th>Training dataset</th>\n",
              "      <th>Dataset accessibility</th>\n",
              "      <th>Accessibility notes</th>\n",
              "      <th>Organization</th>\n",
              "      <th>Training compute (FLOP)</th>\n",
              "      <th>Country (from Organization)</th>\n",
              "      <th>Organization categorization</th>\n",
              "    </tr>\n",
              "  </thead>\n",
              "  <tbody>\n",
              "    <tr>\n",
              "      <th>0</th>\n",
              "      <td>Grok-2</td>\n",
              "      <td>2024-08-13</td>\n",
              "      <td>NaN</td>\n",
              "      <td>https://x.ai/blog/grok-2</td>\n",
              "      <td>Hosted access (no API)</td>\n",
              "      <td>Unreleased</td>\n",
              "      <td>NaN</td>\n",
              "      <td>NaN</td>\n",
              "      <td>NaN</td>\n",
              "      <td>xAI</td>\n",
              "      <td>NaN</td>\n",
              "      <td>United States of America</td>\n",
              "      <td>Industry</td>\n",
              "    </tr>\n",
              "    <tr>\n",
              "      <th>1</th>\n",
              "      <td>Grok-2 mini</td>\n",
              "      <td>2024-08-13</td>\n",
              "      <td>NaN</td>\n",
              "      <td>https://x.ai/blog/grok-2</td>\n",
              "      <td>Hosted access (no API)</td>\n",
              "      <td>Unreleased</td>\n",
              "      <td>NaN</td>\n",
              "      <td>NaN</td>\n",
              "      <td>NaN</td>\n",
              "      <td>xAI</td>\n",
              "      <td>NaN</td>\n",
              "      <td>United States of America</td>\n",
              "      <td>Industry</td>\n",
              "    </tr>\n",
              "    <tr>\n",
              "      <th>2</th>\n",
              "      <td>Cosine Genie</td>\n",
              "      <td>2024-08-12</td>\n",
              "      <td>NaN</td>\n",
              "      <td>https://cosine.sh/blog/genie-technical-report</td>\n",
              "      <td>Unreleased</td>\n",
              "      <td>NaN</td>\n",
              "      <td>Unspecified unreleased</td>\n",
              "      <td>NaN</td>\n",
              "      <td>https://github.com/CosineAI/experiments/tree/c...</td>\n",
              "      <td>Cosine</td>\n",
              "      <td>NaN</td>\n",
              "      <td>United Kingdom of Great Britain and Northern I...</td>\n",
              "      <td>Industry</td>\n",
              "    </tr>\n",
              "    <tr>\n",
              "      <th>3</th>\n",
              "      <td>EXAONE 3.0</td>\n",
              "      <td>2024-08-07</td>\n",
              "      <td>NaN</td>\n",
              "      <td>https://arxiv.org/abs/2408.03541</td>\n",
              "      <td>Open access (non-commercial)</td>\n",
              "      <td>NaN</td>\n",
              "      <td>Unspecified unreleased</td>\n",
              "      <td>NaN</td>\n",
              "      <td>NaN</td>\n",
              "      <td>LG</td>\n",
              "      <td>4.000000e+23</td>\n",
              "      <td>Korea (Republic of)</td>\n",
              "      <td>Industry</td>\n",
              "    </tr>\n",
              "    <tr>\n",
              "      <th>4</th>\n",
              "      <td>Flux.1 [pro]</td>\n",
              "      <td>2024-08-01</td>\n",
              "      <td>NaN</td>\n",
              "      <td>https://blackforestlabs.ai/announcing-black-fo...</td>\n",
              "      <td>API access</td>\n",
              "      <td>Unreleased</td>\n",
              "      <td>NaN</td>\n",
              "      <td>Unreleased</td>\n",
              "      <td>NaN</td>\n",
              "      <td>Black Forest Labs</td>\n",
              "      <td>NaN</td>\n",
              "      <td>NaN</td>\n",
              "      <td>NaN</td>\n",
              "    </tr>\n",
              "  </tbody>\n",
              "</table>\n",
              "</div>"
            ],
            "text/plain": [
              "         System Publication date Notability criteria  \\\n",
              "0        Grok-2       2024-08-13                 NaN   \n",
              "1   Grok-2 mini       2024-08-13                 NaN   \n",
              "2  Cosine Genie       2024-08-12                 NaN   \n",
              "3    EXAONE 3.0       2024-08-07                 NaN   \n",
              "4  Flux.1 [pro]       2024-08-01                 NaN   \n",
              "\n",
              "                                                Link  \\\n",
              "0                           https://x.ai/blog/grok-2   \n",
              "1                           https://x.ai/blog/grok-2   \n",
              "2      https://cosine.sh/blog/genie-technical-report   \n",
              "3                   https://arxiv.org/abs/2408.03541   \n",
              "4  https://blackforestlabs.ai/announcing-black-fo...   \n",
              "\n",
              "            Model accessibility Code accessibility        Training dataset  \\\n",
              "0        Hosted access (no API)         Unreleased                     NaN   \n",
              "1        Hosted access (no API)         Unreleased                     NaN   \n",
              "2                    Unreleased                NaN  Unspecified unreleased   \n",
              "3  Open access (non-commercial)                NaN  Unspecified unreleased   \n",
              "4                    API access         Unreleased                     NaN   \n",
              "\n",
              "  Dataset accessibility                                Accessibility notes  \\\n",
              "0                   NaN                                                NaN   \n",
              "1                   NaN                                                NaN   \n",
              "2                   NaN  https://github.com/CosineAI/experiments/tree/c...   \n",
              "3                   NaN                                                NaN   \n",
              "4            Unreleased                                                NaN   \n",
              "\n",
              "        Organization  Training compute (FLOP)  \\\n",
              "0                xAI                      NaN   \n",
              "1                xAI                      NaN   \n",
              "2             Cosine                      NaN   \n",
              "3                 LG             4.000000e+23   \n",
              "4  Black Forest Labs                      NaN   \n",
              "\n",
              "                         Country (from Organization)  \\\n",
              "0                           United States of America   \n",
              "1                           United States of America   \n",
              "2  United Kingdom of Great Britain and Northern I...   \n",
              "3                                Korea (Republic of)   \n",
              "4                                                NaN   \n",
              "\n",
              "  Organization categorization  \n",
              "0                    Industry  \n",
              "1                    Industry  \n",
              "2                    Industry  \n",
              "3                    Industry  \n",
              "4                         NaN  "
            ]
          },
          "execution_count": 24,
          "metadata": {},
          "output_type": "execute_result"
        }
      ],
      "source": [
        "df.head()"
      ]
    },
    {
      "cell_type": "code",
      "execution_count": null,
      "metadata": {},
      "outputs": [
        {
          "data": {
            "text/plain": [
              "array(['Industry', nan, 'Industry,Academia',\n",
              "       'Academia,Academia,Industry,Industry,Academia,Industry',\n",
              "       'Academia,Academia',\n",
              "       'Academia,Industry,Academia,Industry,Academia,Industry',\n",
              "       'Government', 'Academia', 'Industry,Industry',\n",
              "       'Industry,Academia,Academia', 'Academia,Industry',\n",
              "       'Industry,Industry,Industry', 'Academia,Academia,Industry',\n",
              "       'Industry,Academia,Industry,Academia,Academia',\n",
              "       'Research collective,Academia',\n",
              "       'Academia,Industry,Academia,Academia',\n",
              "       'Industry,Academia,Academia,Academia',\n",
              "       'Industry,Academia,Industry', 'Government,Industry',\n",
              "       'Academia,Academia,Academia', 'Industry,Government',\n",
              "       'Academia,Industry,Academia',\n",
              "       'Academia,Academia,Academia,Academia',\n",
              "       'Academia,Academia,Research collective,Academia,Academia,Industry,Academia',\n",
              "       'Research collective',\n",
              "       'Industry,Industry,Academia,Academia,Academia,Academia,Academia,Academia,Industry,Academia,Academia,Government,Government,Academia,Academia,Academia,Academia,Industry,Academia,Industry,Academia,Academia,Academia,Academia,Industry,Industry,Industry,Academia,Academia,Government,Academia,Research collective,Government',\n",
              "       'Industry,Academia,Academia,Academia,Academia',\n",
              "       'Research collective,Industry,Academia,Academia,Industry,Industry,Academia',\n",
              "       'Academia,Academia,Academia,Academia,Academia,Industry,Academia',\n",
              "       'Industry,Industry,Academia,Academia,Research collective,Industry,Academia',\n",
              "       'Academia,Academia,Academia,Industry,Academia',\n",
              "       'Industry,Research collective',\n",
              "       'Academia,Academia,Research collective',\n",
              "       'Academia,Industry,Academia,Industry,Academia,Academia',\n",
              "       'Academia,Research collective', 'Academia,Industry,Industry',\n",
              "       'Academia,Academia,Industry,Industry',\n",
              "       'Academia,Academia,Industry,Industry,Academia',\n",
              "       'Academia,Industry,Academia,Industry,Academia',\n",
              "       'Academia,Government', 'Academia,Industry,Research collective',\n",
              "       'Academia,Industry,Government,Industry,Academia',\n",
              "       'Academia,Industry,Academia,Industry,Government',\n",
              "       'Research collective,Research collective',\n",
              "       'Industry,Industry,Academia',\n",
              "       'Academia,Industry,Industry,Research collective',\n",
              "       'Academia,Industry,Research collective,Academia,Academia',\n",
              "       'Academia,Academia,Academia,Research collective,Academia,Academia',\n",
              "       'Academia,Research collective,Industry', 'Government,Academia',\n",
              "       'Academia,Academia,Academia,Academia,Research collective,Academia',\n",
              "       'Research collective,Industry',\n",
              "       'Academia,Academia,Academia,Industry',\n",
              "       'Industry,Academia,Academia,Industry',\n",
              "       'Industry,Academia,Industry,Academia',\n",
              "       'Academia,Academia,Industry,Academia',\n",
              "       'Academia,Academia,Academia,Academia,Industry',\n",
              "       'Industry,Industry,Academia,Academia'], dtype=object)"
            ]
          },
          "execution_count": 25,
          "metadata": {},
          "output_type": "execute_result"
        }
      ],
      "source": [
        "df['Organization categorization'].unique()"
      ]
    },
    {
      "cell_type": "code",
      "execution_count": null,
      "metadata": {},
      "outputs": [
        {
          "name": "stdout",
          "output_type": "stream",
          "text": [
            "Industry\n",
            "Industry\n",
            "Industry\n",
            "Industry\n",
            "Industry\n",
            "Industry\n",
            "Industry\n",
            "Industry\n",
            "Industry\n",
            "Industry\n",
            "Industry\n",
            "Industry\n",
            "Industry\n",
            "Industry\n",
            "Industry\n",
            "Industry\n",
            "Academia\n",
            "Industry\n",
            "Academia\n",
            "Industry\n",
            "Industry\n",
            "Industry\n",
            "Industry\n",
            "Industry\n",
            "Industry\n",
            "Academia\n",
            "Industry\n",
            "Industry\n",
            "Industry\n",
            "Academia\n",
            "Academia\n",
            "Industry\n",
            "Industry\n",
            "Academia\n",
            "Industry\n",
            "Industry\n",
            "Industry\n",
            "Academia\n",
            "Industry\n",
            "Industry\n",
            "Industry\n",
            "Academia\n",
            "Academia\n",
            "Industry\n",
            "Industry\n",
            "Industry\n",
            "Industry\n",
            "Academia\n",
            "Industry\n",
            "Academia\n",
            "Industry\n",
            "Academia\n",
            "Industry\n",
            "Industry\n",
            "Government\n",
            "Industry\n",
            "Industry\n",
            "Industry\n",
            "Academia\n",
            "Industry\n",
            "Industry\n",
            "Industry\n",
            "Industry\n",
            "Industry\n",
            "Industry\n",
            "Industry\n",
            "Industry\n",
            "Industry\n",
            "Industry\n",
            "Industry\n",
            "Industry\n",
            "Industry\n",
            "Industry\n",
            "Industry\n",
            "Industry\n",
            "Industry\n",
            "Industry\n",
            "Academia\n",
            "Industry\n",
            "Academia\n",
            "Academia\n",
            "Academia\n",
            "Industry\n",
            "Industry\n",
            "Industry\n",
            "Industry\n",
            "Industry\n",
            "Industry\n",
            "Industry\n",
            "Academia\n",
            "Industry\n",
            "Industry\n",
            "Industry\n",
            "Industry\n",
            "Industry\n",
            "Industry\n",
            "Academia\n",
            "Industry\n",
            "Industry\n",
            "Industry\n",
            "Industry\n",
            "Industry\n",
            "Industry\n",
            "Industry\n",
            "Industry\n",
            "Industry\n",
            "Industry\n",
            "Industry\n",
            "Industry\n",
            "Industry\n",
            "Industry\n",
            "Academia\n",
            "Academia\n",
            "Academia\n",
            "Industry\n",
            "Industry\n",
            "Industry\n",
            "Industry\n",
            "Academia\n",
            "Industry\n",
            "Academia\n",
            "Industry\n",
            "Academia\n",
            "Industry\n",
            "Industry\n",
            "Industry\n",
            "Industry\n",
            "Industry\n",
            "Industry\n",
            "Academia\n",
            "Industry\n",
            "Academia\n",
            "Academia\n",
            "Industry\n",
            "Industry\n",
            "Research collective\n",
            "Academia\n",
            "Academia\n",
            "Industry\n",
            "Academia\n",
            "Academia\n",
            "Academia\n",
            "Industry\n",
            "Industry\n",
            "Industry\n",
            "Industry\n",
            "Industry\n",
            "Industry\n",
            "Industry\n",
            "Academia\n",
            "Academia\n",
            "Academia\n",
            "Industry\n",
            "Industry\n",
            "Academia\n",
            "Industry\n",
            "Industry\n",
            "Industry\n",
            "Academia\n",
            "Industry\n",
            "Academia\n",
            "Academia\n",
            "Industry\n",
            "Industry\n",
            "Academia\n",
            "Industry\n",
            "Industry\n",
            "Industry\n",
            "Industry\n",
            "Industry\n",
            "Academia\n",
            "Industry\n",
            "Industry\n",
            "Industry\n",
            "Academia\n",
            "Industry\n",
            "Industry\n",
            "Industry\n",
            "Industry\n",
            "Industry\n",
            "Research collective\n",
            "Academia\n",
            "Academia\n",
            "Industry\n",
            "Industry\n",
            "Industry\n",
            "Industry\n",
            "Industry\n",
            "Industry\n",
            "Industry\n",
            "Industry\n",
            "Industry\n",
            "Industry\n",
            "Industry\n",
            "Academia\n",
            "Academia\n",
            "Industry\n",
            "Industry\n",
            "Industry\n",
            "Academia\n",
            "Academia\n",
            "Industry\n",
            "Academia\n",
            "Academia\n",
            "Academia\n",
            "Academia\n",
            "Industry\n",
            "Government\n",
            "Industry\n",
            "Industry\n",
            "Industry\n",
            "Industry\n",
            "Industry\n",
            "Industry\n",
            "Industry\n",
            "Industry\n",
            "Academia\n",
            "Industry\n",
            "Industry\n",
            "Industry\n",
            "Industry\n",
            "Academia\n",
            "Industry\n",
            "Industry\n",
            "Industry\n",
            "Industry\n",
            "Academia\n",
            "Academia\n",
            "Academia\n",
            "Academia\n",
            "Academia\n",
            "Industry\n",
            "Academia\n",
            "Academia\n",
            "Industry\n",
            "Academia\n",
            "Academia\n",
            "Industry\n",
            "Industry\n",
            "Industry\n",
            "Industry\n",
            "Government\n",
            "Industry\n",
            "Industry\n",
            "Academia\n",
            "Industry\n",
            "Industry\n",
            "Industry\n",
            "Industry\n",
            "Industry\n",
            "Academia\n",
            "Industry\n",
            "Academia\n",
            "Academia\n",
            "Industry\n",
            "Industry\n",
            "Industry\n",
            "Academia\n",
            "Industry\n",
            "Industry\n",
            "Academia\n",
            "Academia\n",
            "Industry\n",
            "Industry\n",
            "Industry\n",
            "Academia\n",
            "Industry\n",
            "Industry\n",
            "Industry\n",
            "Industry\n",
            "Industry\n",
            "Industry\n",
            "Academia\n",
            "Academia\n",
            "Industry\n",
            "Industry\n",
            "Industry\n",
            "Industry\n",
            "Industry\n",
            "Industry\n",
            "Industry\n",
            "Industry\n",
            "Academia\n",
            "Academia\n",
            "Industry\n",
            "Industry\n",
            "Industry\n",
            "Industry\n",
            "Industry\n",
            "Industry\n",
            "Industry\n",
            "Industry\n",
            "Academia\n",
            "Industry\n",
            "Industry\n",
            "Industry\n",
            "Academia\n",
            "Industry\n",
            "Industry\n",
            "Industry\n",
            "Academia\n",
            "Academia\n",
            "Academia\n",
            "Academia\n",
            "Academia\n",
            "Academia\n",
            "Academia\n",
            "Academia\n",
            "Academia\n",
            "Industry\n",
            "Academia\n",
            "Academia\n",
            "Industry\n",
            "Industry\n",
            "Academia\n",
            "Academia\n",
            "Industry\n",
            "Industry\n",
            "Industry\n",
            "Industry\n",
            "Industry\n",
            "Academia\n",
            "Industry\n",
            "Academia\n",
            "Industry\n",
            "Industry\n",
            "Industry\n",
            "Academia\n",
            "Industry\n",
            "Academia\n",
            "Academia\n",
            "Academia\n",
            "Industry\n",
            "Industry\n",
            "Academia\n",
            "Academia\n",
            "Academia\n",
            "Industry\n",
            "Industry\n",
            "Industry\n",
            "Industry\n",
            "Industry\n",
            "Academia\n",
            "Academia\n",
            "Academia\n",
            "Academia\n",
            "Industry\n",
            "Government\n",
            "Industry\n",
            "Industry\n",
            "Industry\n",
            "Industry\n",
            "Industry\n",
            "Industry\n",
            "Academia\n",
            "Industry\n",
            "Academia\n",
            "Industry\n",
            "Industry\n",
            "Industry\n",
            "Academia\n",
            "Industry\n",
            "Industry\n",
            "Industry\n",
            "Industry\n",
            "Industry\n",
            "Industry\n",
            "Industry\n",
            "Industry\n",
            "Industry\n",
            "Academia\n",
            "Industry\n",
            "Industry\n",
            "Industry\n",
            "Industry\n",
            "Industry\n",
            "Industry\n",
            "Industry\n",
            "Academia\n",
            "Industry\n",
            "Academia\n",
            "Academia\n",
            "Academia\n",
            "Academia\n",
            "Academia\n",
            "Academia\n",
            "Research collective\n",
            "Academia\n",
            "Academia\n",
            "Industry\n",
            "Academia\n",
            "Industry\n",
            "Industry\n",
            "Industry\n",
            "Industry\n",
            "Industry\n",
            "Industry\n",
            "Industry\n",
            "Industry\n",
            "Industry\n",
            "Industry\n",
            "Industry\n",
            "Industry\n",
            "Industry\n",
            "Industry\n",
            "Academia\n",
            "Industry\n",
            "Industry\n",
            "Academia\n",
            "Academia\n",
            "Academia\n",
            "Industry\n",
            "Industry\n",
            "Academia\n",
            "Industry\n",
            "Industry\n",
            "Academia\n",
            "Industry\n",
            "Industry\n",
            "Industry\n",
            "Industry\n",
            "Academia\n",
            "Industry\n",
            "Industry\n",
            "Industry\n",
            "Industry\n",
            "Academia\n",
            "Academia\n",
            "Academia\n",
            "Academia\n",
            "Research collective\n",
            "Industry\n",
            "Research collective\n",
            "Industry\n",
            "Industry\n",
            "Industry\n",
            "Industry\n",
            "Industry\n",
            "Academia\n",
            "Academia\n",
            "Industry\n",
            "Industry\n",
            "Industry\n",
            "Industry\n",
            "Academia\n",
            "Academia\n",
            "Academia\n",
            "Academia\n",
            "Research collective\n",
            "Industry\n",
            "Research collective\n",
            "Academia\n",
            "Academia\n",
            "Industry\n",
            "Industry\n",
            "Industry\n",
            "Industry\n",
            "Academia\n",
            "Academia\n",
            "Research collective\n",
            "Industry\n",
            "Industry\n",
            "Industry\n",
            "Industry\n",
            "Academia\n",
            "Industry\n",
            "Academia\n",
            "Industry\n",
            "Industry\n",
            "Industry\n",
            "Industry\n",
            "Industry\n",
            "Industry\n",
            "Industry\n",
            "Academia\n",
            "Academia\n",
            "Industry\n",
            "Industry\n",
            "Industry\n",
            "Academia\n",
            "Academia\n",
            "Academia\n",
            "Academia\n",
            "Academia\n",
            "Academia\n",
            "Industry\n",
            "Academia\n",
            "Academia\n",
            "Government\n",
            "Government\n",
            "Academia\n",
            "Academia\n",
            "Academia\n",
            "Academia\n",
            "Industry\n",
            "Academia\n",
            "Industry\n",
            "Academia\n",
            "Academia\n",
            "Academia\n",
            "Academia\n",
            "Industry\n",
            "Industry\n",
            "Industry\n",
            "Academia\n",
            "Academia\n",
            "Government\n",
            "Academia\n",
            "Research collective\n",
            "Government\n",
            "Industry\n",
            "Industry\n",
            "Academia\n",
            "Industry\n",
            "Industry\n",
            "Academia\n",
            "Academia\n",
            "Research collective\n",
            "Industry\n",
            "Industry\n",
            "Industry\n",
            "Academia\n",
            "Government\n",
            "Industry\n",
            "Academia\n",
            "Industry\n",
            "Academia\n",
            "Industry\n",
            "Academia\n",
            "Industry\n",
            "Academia\n",
            "Industry\n",
            "Academia\n",
            "Industry\n",
            "Industry\n",
            "Industry\n",
            "Industry\n",
            "Academia\n",
            "Academia\n",
            "Academia\n",
            "Academia\n",
            "Academia\n",
            "Industry\n",
            "Industry\n",
            "Research collective\n",
            "Industry\n",
            "Academia\n",
            "Academia\n",
            "Industry\n",
            "Industry\n",
            "Academia\n",
            "Research collective\n",
            "Industry\n",
            "Academia\n",
            "Academia\n",
            "Industry\n",
            "Industry\n",
            "Academia\n",
            "Research collective\n",
            "Industry\n",
            "Academia\n",
            "Academia\n",
            "Industry\n",
            "Industry\n",
            "Academia\n",
            "Research collective\n",
            "Industry\n",
            "Academia\n",
            "Academia\n",
            "Industry\n",
            "Industry\n",
            "Academia\n",
            "Research collective\n",
            "Industry\n",
            "Academia\n",
            "Academia\n",
            "Industry\n",
            "Industry\n",
            "Academia\n",
            "Research collective\n",
            "Industry\n",
            "Academia\n",
            "Academia\n",
            "Industry\n",
            "Industry\n",
            "Academia\n",
            "Research collective\n",
            "Industry\n",
            "Academia\n",
            "Academia\n",
            "Industry\n",
            "Industry\n",
            "Academia\n",
            "Research collective\n",
            "Industry\n",
            "Academia\n",
            "Academia\n",
            "Industry\n",
            "Industry\n",
            "Academia\n",
            "Academia\n",
            "Academia\n",
            "Industry\n",
            "Academia\n",
            "Academia\n",
            "Academia\n",
            "Academia\n",
            "Academia\n",
            "Industry\n",
            "Industry\n",
            "Industry\n",
            "Industry\n",
            "Industry\n",
            "Industry\n",
            "Government\n",
            "Academia\n",
            "Academia\n",
            "Industry\n",
            "Industry\n",
            "Industry\n",
            "Academia\n",
            "Industry\n",
            "Academia\n",
            "Industry\n",
            "Academia\n",
            "Academia\n",
            "Industry\n",
            "Industry\n",
            "Industry\n",
            "Industry\n",
            "Industry\n",
            "Industry\n",
            "Industry\n",
            "Industry\n",
            "Academia\n",
            "Academia\n",
            "Academia\n",
            "Academia\n",
            "Industry\n",
            "Industry\n",
            "Industry\n",
            "Academia\n",
            "Industry\n",
            "Academia\n",
            "Academia\n",
            "Academia\n",
            "Academia\n",
            "Academia\n",
            "Industry\n",
            "Academia\n",
            "Industry\n",
            "Academia\n",
            "Academia\n",
            "Industry\n",
            "Academia\n",
            "Academia\n",
            "Academia\n",
            "Academia\n",
            "Industry\n",
            "Industry\n",
            "Academia\n",
            "Industry\n",
            "Academia\n",
            "Academia\n",
            "Industry\n",
            "Academia\n",
            "Academia\n",
            "Academia\n",
            "Academia\n",
            "Industry\n",
            "Academia\n",
            "Industry\n",
            "Industry\n",
            "Academia\n",
            "Academia\n",
            "Research collective\n",
            "Industry\n",
            "Academia\n",
            "Industry\n",
            "Academia\n",
            "Industry\n",
            "Academia\n",
            "Academia\n",
            "Academia\n",
            "Academia\n",
            "Academia\n",
            "Academia\n",
            "Academia\n",
            "Academia\n",
            "Academia\n",
            "Academia\n",
            "Academia\n",
            "Academia\n",
            "Industry\n",
            "Academia\n",
            "Industry\n",
            "Industry\n",
            "Academia\n",
            "Academia\n",
            "Industry\n",
            "Industry\n",
            "Academia\n",
            "Academia\n",
            "Academia\n",
            "Industry\n",
            "Industry\n",
            "Academia\n",
            "Industry\n",
            "Academia\n",
            "Industry\n",
            "Academia\n",
            "Industry\n",
            "Industry\n",
            "Industry\n",
            "Industry\n",
            "Industry\n",
            "Academia\n",
            "Academia\n",
            "Industry\n",
            "Industry\n",
            "Industry\n",
            "Industry\n",
            "Academia\n",
            "Academia\n",
            "Academia\n",
            "Academia\n",
            "Academia\n",
            "Academia\n",
            "Academia\n",
            "Academia\n",
            "Industry\n",
            "Academia\n",
            "Industry\n",
            "Research collective\n",
            "Industry\n",
            "Industry\n",
            "Industry\n",
            "Industry\n",
            "Research collective\n",
            "Industry\n",
            "Academia\n",
            "Academia\n",
            "Industry\n",
            "Academia\n",
            "Academia\n",
            "Academia\n",
            "Academia\n",
            "Academia\n",
            "Academia\n",
            "Academia\n",
            "Academia\n",
            "Academia\n",
            "Academia\n",
            "Industry\n",
            "Academia\n",
            "Academia\n",
            "Research collective\n",
            "Industry\n",
            "Industry\n",
            "Academia\n",
            "Industry\n",
            "Industry\n",
            "Industry\n",
            "Industry\n",
            "Academia\n",
            "Industry\n",
            "Academia\n",
            "Industry\n",
            "Academia\n",
            "Academia\n",
            "Industry\n",
            "Academia\n",
            "Industry\n",
            "Academia\n",
            "Academia\n",
            "Industry\n",
            "Academia\n",
            "Academia\n",
            "Industry\n",
            "Industry\n",
            "Academia\n",
            "Academia\n",
            "Academia\n",
            "Industry\n",
            "Industry\n",
            "Industry\n",
            "Academia\n",
            "Research collective\n",
            "Industry\n",
            "Industry\n",
            "Industry\n",
            "Industry\n",
            "Industry\n",
            "Academia\n",
            "Industry\n",
            "Academia\n",
            "Academia\n",
            "Industry\n",
            "Academia\n",
            "Industry\n",
            "Academia\n",
            "Academia\n",
            "Industry\n",
            "Academia\n",
            "Academia\n",
            "Academia\n",
            "Industry\n",
            "Academia\n",
            "Academia\n",
            "Academia\n",
            "Industry\n",
            "Academia\n",
            "Academia\n",
            "Academia\n",
            "Industry\n",
            "Academia\n",
            "Academia\n",
            "Academia\n",
            "Industry\n",
            "Academia\n",
            "Academia\n",
            "Academia\n",
            "Industry\n",
            "Academia\n",
            "Academia\n",
            "Academia\n",
            "Academia\n",
            "Industry\n",
            "Academia\n",
            "Research collective\n",
            "Industry\n",
            "Academia\n",
            "Academia\n",
            "Research collective\n",
            "Academia\n",
            "Industry\n",
            "Industry\n",
            "Research collective\n",
            "Industry\n",
            "Industry\n",
            "Research collective\n",
            "Industry\n",
            "Research collective\n",
            "Industry\n",
            "Research collective\n",
            "Industry\n",
            "Research collective\n",
            "Industry\n",
            "Industry\n",
            "Academia\n",
            "Academia\n",
            "Academia\n",
            "Industry\n",
            "Industry\n",
            "Industry\n",
            "Industry\n",
            "Academia\n",
            "Industry\n",
            "Industry\n",
            "Industry\n",
            "Industry\n",
            "Industry\n",
            "Industry\n",
            "Industry\n",
            "Industry\n",
            "Industry\n",
            "Industry\n",
            "Industry\n",
            "Industry\n",
            "Industry\n",
            "Research collective\n",
            "Academia\n",
            "Industry\n",
            "Industry\n",
            "Academia\n",
            "Academia\n",
            "Academia\n",
            "Academia\n",
            "Academia\n",
            "Academia\n",
            "Industry\n",
            "Industry\n",
            "Academia\n",
            "Industry\n",
            "Academia\n",
            "Academia\n",
            "Academia\n",
            "Industry\n",
            "Industry\n",
            "Academia\n",
            "Academia\n",
            "Academia\n",
            "Academia\n",
            "Academia\n",
            "Industry\n",
            "Academia\n",
            "Academia\n",
            "Academia\n",
            "Industry\n",
            "Academia\n",
            "Academia\n",
            "Academia\n",
            "Industry\n",
            "Industry\n",
            "Industry\n",
            "Industry\n",
            "Academia\n",
            "Industry\n",
            "Industry\n",
            "Industry\n",
            "Academia\n",
            "Academia\n",
            "Academia\n",
            "Industry\n",
            "Industry\n",
            "Industry\n",
            "Industry\n",
            "Academia\n",
            "Industry\n",
            "Industry\n",
            "Academia\n",
            "Industry\n",
            "Industry\n",
            "Academia\n",
            "Academia\n",
            "Academia\n",
            "Academia\n",
            "Academia\n",
            "Academia\n",
            "Academia\n",
            "Academia\n",
            "Industry\n",
            "Industry\n",
            "Industry\n",
            "Academia\n",
            "Academia\n",
            "Industry\n",
            "Industry\n",
            "Academia\n",
            "Industry\n",
            "Academia\n",
            "Academia\n",
            "Industry\n",
            "Industry\n",
            "Academia\n",
            "Academia\n",
            "Academia\n",
            "Industry\n",
            "Industry\n",
            "Academia\n",
            "Industry\n",
            "Industry\n",
            "Industry\n",
            "Industry\n",
            "Academia\n",
            "Industry\n",
            "Academia\n",
            "Industry\n",
            "Academia\n",
            "Industry\n",
            "Industry\n",
            "Academia\n",
            "Industry\n",
            "Industry\n",
            "Industry\n",
            "Industry\n",
            "Industry\n",
            "Industry\n",
            "Academia\n",
            "Academia\n",
            "Industry\n",
            "Research collective\n",
            "Industry\n",
            "Industry\n",
            "Academia\n",
            "Industry\n",
            "Industry\n",
            "Industry\n",
            "Academia\n",
            "Industry\n",
            "Academia\n",
            "Academia\n",
            "Academia\n",
            "Industry\n",
            "Industry\n",
            "Industry\n",
            "Industry\n",
            "Industry\n",
            "Academia\n",
            "Industry\n",
            "Academia\n",
            "Industry\n",
            "Academia\n",
            "Industry\n",
            "Industry\n",
            "Industry\n",
            "Academia\n",
            "Industry\n",
            "Industry\n",
            "Industry\n",
            "Academia\n",
            "Industry\n",
            "Academia\n",
            "Academia\n",
            "Academia\n",
            "Industry\n",
            "Industry\n",
            "Industry\n",
            "Academia\n",
            "Academia\n",
            "Academia\n",
            "Industry\n",
            "Industry\n",
            "Industry\n",
            "Industry\n",
            "Industry\n",
            "Academia\n",
            "Industry\n",
            "Academia\n",
            "Industry\n",
            "Academia\n",
            "Academia\n",
            "Industry\n",
            "Academia\n",
            "Industry\n",
            "Academia\n",
            "Academia\n",
            "Industry\n",
            "Academia\n",
            "Industry\n",
            "Academia\n",
            "Academia\n",
            "Industry\n",
            "Industry\n",
            "Industry\n",
            "Industry\n",
            "Industry\n",
            "Academia\n",
            "Academia\n",
            "Industry\n",
            "Academia\n",
            "Academia\n",
            "Industry\n",
            "Industry\n",
            "Industry\n",
            "Industry\n",
            "Industry\n",
            "Academia\n",
            "Academia\n",
            "Industry\n",
            "Academia\n",
            "Academia\n",
            "Academia\n",
            "Academia\n",
            "Academia\n",
            "Academia\n",
            "Industry\n",
            "Academia\n",
            "Academia\n",
            "Academia\n",
            "Academia\n",
            "Academia\n",
            "Academia\n",
            "Government\n",
            "Industry\n",
            "Academia\n",
            "Academia\n",
            "Academia\n",
            "Industry\n",
            "Academia\n",
            "Academia\n",
            "Academia\n",
            "Industry\n",
            "Academia\n",
            "Academia\n",
            "Academia\n",
            "Industry\n",
            "Academia\n",
            "Academia\n",
            "Academia\n",
            "Academia\n",
            "Industry\n",
            "Academia\n",
            "Academia\n",
            "Academia\n",
            "Academia\n",
            "Industry\n",
            "Academia\n",
            "Industry\n",
            "Academia\n",
            "Industry\n",
            "Academia\n",
            "Industry\n",
            "Industry\n",
            "Industry\n",
            "Industry\n",
            "Industry\n",
            "Industry\n",
            "Academia\n",
            "Industry\n",
            "Industry\n",
            "Industry\n",
            "Industry\n",
            "Industry\n",
            "Industry\n",
            "Industry\n",
            "Academia\n",
            "Academia\n",
            "Academia\n",
            "Academia\n",
            "Industry\n",
            "Industry\n",
            "Academia\n",
            "Industry\n",
            "Academia\n",
            "Industry\n",
            "Research collective\n",
            "Industry\n",
            "Academia\n",
            "Academia\n",
            "Industry\n",
            "Academia\n",
            "Industry\n",
            "Industry\n",
            "Industry\n",
            "Academia\n",
            "Industry\n",
            "Academia\n",
            "Industry\n",
            "Academia\n",
            "Academia\n",
            "Industry\n",
            "Academia\n",
            "Industry\n",
            "Academia\n",
            "Industry\n",
            "Industry\n",
            "Research collective\n",
            "Industry\n",
            "Industry\n",
            "Academia\n",
            "Industry\n",
            "Industry\n",
            "Academia\n",
            "Academia\n",
            "Academia\n",
            "Industry\n",
            "Academia\n",
            "Industry\n",
            "Industry\n",
            "Industry\n",
            "Academia\n",
            "Academia\n",
            "Academia\n",
            "Academia\n",
            "Industry\n",
            "Industry\n",
            "Industry\n",
            "Industry\n",
            "Academia\n",
            "Academia\n",
            "Industry\n",
            "Industry\n",
            "Industry\n",
            "Academia\n",
            "Academia\n",
            "Industry\n",
            "Academia\n",
            "Academia\n",
            "Academia\n",
            "Academia\n",
            "Industry\n",
            "Industry\n",
            "Industry\n",
            "Industry\n",
            "Academia\n",
            "Industry\n",
            "Academia\n",
            "Academia\n",
            "Academia\n",
            "Academia\n",
            "Industry\n",
            "Industry\n",
            "Academia\n",
            "Academia\n",
            "Industry\n",
            "Academia\n",
            "Industry\n",
            "Government\n",
            "Industry\n",
            "Academia\n",
            "Academia\n",
            "Industry\n",
            "Government\n",
            "Industry\n",
            "Academia\n",
            "Academia\n",
            "Industry\n",
            "Academia\n",
            "Industry\n",
            "Government\n",
            "Academia\n",
            "Research collective\n",
            "Research collective\n",
            "Academia\n",
            "Industry\n",
            "Industry\n",
            "Industry\n",
            "Industry\n",
            "Industry\n",
            "Industry\n",
            "Academia\n",
            "Industry\n",
            "Industry\n",
            "Academia\n",
            "Academia\n",
            "Industry\n",
            "Industry\n",
            "Academia\n",
            "Industry\n",
            "Industry\n",
            "Research collective\n",
            "Academia\n",
            "Industry\n",
            "Industry\n",
            "Academia\n",
            "Industry\n",
            "Industry\n",
            "Research collective\n",
            "Research collective\n",
            "Research collective\n",
            "Research collective\n",
            "Research collective\n",
            "Research collective\n",
            "Research collective\n",
            "Research collective\n",
            "Academia\n",
            "Academia\n",
            "Academia\n",
            "Academia\n",
            "Academia\n",
            "Academia\n",
            "Academia\n",
            "Academia\n",
            "Academia\n",
            "Academia\n",
            "Academia\n",
            "Academia\n",
            "Industry\n",
            "Academia\n",
            "Industry\n",
            "Industry\n",
            "Academia\n",
            "Academia\n",
            "Academia\n",
            "Industry\n",
            "Research collective\n",
            "Academia\n",
            "Academia\n",
            "Academia\n",
            "Academia\n",
            "Academia\n",
            "Industry\n",
            "Industry\n",
            "Academia\n",
            "Industry\n",
            "Academia\n",
            "Industry\n",
            "Industry\n",
            "Industry\n",
            "Industry\n",
            "Academia\n",
            "Academia\n",
            "Academia\n",
            "Academia\n",
            "Industry\n",
            "Academia\n",
            "Academia\n",
            "Academia\n",
            "Industry\n",
            "Academia\n",
            "Academia\n",
            "Academia\n",
            "Academia\n",
            "Academia\n",
            "Industry\n",
            "Academia\n",
            "Industry\n",
            "Academia\n",
            "Industry\n",
            "Industry\n",
            "Industry\n",
            "Industry\n",
            "Industry\n",
            "Industry\n",
            "Academia\n",
            "Industry\n",
            "Academia\n",
            "Academia\n",
            "Academia\n",
            "Academia\n",
            "Academia\n",
            "Academia\n",
            "Academia\n",
            "Academia\n",
            "Industry\n",
            "Research collective\n",
            "Industry\n",
            "Industry\n",
            "Industry\n",
            "Academia\n",
            "Academia\n",
            "Industry\n",
            "Academia\n",
            "Industry\n",
            "Academia\n",
            "Industry\n",
            "Academia\n",
            "Academia\n",
            "Academia\n",
            "Academia\n",
            "Academia\n",
            "Industry\n",
            "Academia\n",
            "Academia\n",
            "Academia\n",
            "Industry\n",
            "Academia\n",
            "Academia\n",
            "Academia\n",
            "Research collective\n",
            "Academia\n",
            "Academia\n",
            "Academia\n",
            "Industry\n",
            "Academia\n",
            "Industry\n",
            "Industry\n",
            "Industry\n",
            "Industry\n",
            "Industry\n",
            "Industry\n",
            "Academia\n",
            "Industry\n",
            "Government\n",
            "Industry\n",
            "Government\n",
            "Industry\n",
            "Industry\n",
            "Industry\n",
            "Industry\n",
            "Industry\n",
            "Academia\n",
            "Academia\n",
            "Industry\n",
            "Academia\n",
            "Academia\n",
            "Industry\n",
            "Academia\n",
            "Industry\n",
            "Academia\n",
            "Industry\n",
            "Academia\n",
            "Industry\n",
            "Academia\n",
            "Academia\n",
            "Industry\n",
            "Academia\n",
            "Academia\n",
            "Industry\n",
            "Academia\n",
            "Industry\n",
            "Academia\n",
            "Industry\n",
            "Academia\n",
            "Industry\n",
            "Academia\n",
            "Industry\n",
            "Academia\n",
            "Academia\n",
            "Academia\n",
            "Industry\n",
            "Academia\n",
            "Research collective\n",
            "Industry\n",
            "Industry\n",
            "Academia\n",
            "Academia\n",
            "Academia\n",
            "Academia\n",
            "Academia\n",
            "Academia\n",
            "Industry\n",
            "Academia\n",
            "Academia\n",
            "Academia\n",
            "Academia\n",
            "Academia\n",
            "Industry\n",
            "Industry\n",
            "Industry\n",
            "Industry\n",
            "Industry\n",
            "Industry\n",
            "Industry\n",
            "Industry\n",
            "Industry\n",
            "Industry\n",
            "Academia\n",
            "Government\n",
            "Academia\n",
            "Academia\n",
            "Government\n",
            "Industry\n",
            "Industry\n",
            "Industry\n",
            "Industry\n",
            "Industry\n",
            "Academia\n",
            "Academia\n",
            "Academia\n",
            "Academia\n",
            "Industry\n",
            "Academia\n",
            "Academia\n",
            "Academia\n",
            "Academia\n",
            "Research collective\n",
            "Academia\n",
            "Industry\n",
            "Academia\n",
            "Academia\n",
            "Industry\n",
            "Academia\n",
            "Industry\n",
            "Research collective\n",
            "Academia\n",
            "Research collective\n",
            "Academia\n",
            "Academia\n",
            "Academia\n",
            "Industry\n",
            "Academia\n",
            "Industry\n",
            "Academia\n",
            "Academia\n",
            "Academia\n",
            "Industry\n",
            "Industry\n",
            "Industry\n",
            "Academia\n",
            "Academia\n",
            "Academia\n",
            "Industry\n",
            "Academia\n",
            "Academia\n",
            "Industry\n",
            "Industry\n",
            "Academia\n",
            "Industry\n",
            "Industry\n",
            "Academia\n",
            "Academia\n",
            "Industry\n",
            "Academia\n",
            "Industry\n",
            "Industry\n",
            "Academia\n",
            "Industry\n",
            "Academia\n",
            "Academia\n",
            "Academia\n",
            "Academia\n",
            "Industry\n",
            "Industry\n",
            "Academia\n",
            "Academia\n",
            "Industry\n",
            "Industry\n",
            "Industry\n",
            "Academia\n",
            "Industry\n",
            "Industry\n",
            "Academia\n",
            "Academia\n",
            "Academia\n",
            "Industry\n",
            "Industry\n",
            "Industry\n",
            "Industry\n",
            "Academia\n",
            "Academia\n",
            "Industry\n",
            "Academia\n",
            "Industry\n",
            "Academia\n",
            "Academia\n",
            "Academia\n",
            "Industry\n",
            "Industry\n",
            "Academia\n",
            "Academia\n",
            "Industry\n",
            "Academia\n",
            "Academia\n",
            "Industry\n",
            "Academia\n",
            "Research collective\n",
            "Academia\n",
            "Academia\n",
            "Academia\n",
            "Academia\n",
            "Industry\n",
            "Industry\n",
            "Industry\n",
            "Industry\n",
            "Academia\n",
            "Industry\n",
            "Research collective\n",
            "Industry\n",
            "Industry\n",
            "Academia\n",
            "Academia\n",
            "Academia\n",
            "Industry\n",
            "Academia\n",
            "Industry\n",
            "Industry\n",
            "Industry\n",
            "Academia\n",
            "Industry\n",
            "Academia\n",
            "Industry\n",
            "Industry\n",
            "Academia\n",
            "Academia\n",
            "Industry\n",
            "Academia\n",
            "Academia\n",
            "Industry\n",
            "Industry\n",
            "Academia\n",
            "Academia\n",
            "Industry\n",
            "Industry\n",
            "Academia\n",
            "Industry\n",
            "Academia\n",
            "Industry\n",
            "Industry\n",
            "Academia\n",
            "Academia\n",
            "Academia\n",
            "Industry\n",
            "Academia\n",
            "Academia\n",
            "Industry\n",
            "Academia\n",
            "Academia\n",
            "Industry\n",
            "Academia\n",
            "Industry\n",
            "Industry\n",
            "Industry\n",
            "Industry\n",
            "Industry\n",
            "Industry\n",
            "Academia\n",
            "Industry\n",
            "Academia\n",
            "Industry\n",
            "Research collective\n",
            "Academia\n",
            "Academia\n",
            "Industry\n",
            "Academia\n",
            "Academia\n",
            "Academia\n",
            "Academia\n",
            "Academia\n",
            "Industry\n",
            "Research collective\n",
            "Academia\n",
            "Academia\n",
            "Academia\n",
            "Academia\n",
            "Industry\n",
            "Academia\n",
            "Academia\n",
            "Academia\n",
            "Academia\n",
            "Academia\n",
            "Academia\n",
            "Academia\n",
            "Academia\n",
            "Industry\n",
            "Industry\n",
            "Industry\n",
            "Industry\n",
            "Industry\n",
            "Academia\n",
            "Academia\n",
            "Industry\n",
            "Academia\n",
            "Academia\n",
            "Industry\n",
            "Academia\n",
            "Academia\n",
            "Industry\n",
            "Academia\n",
            "Academia\n",
            "Industry\n",
            "Academia\n",
            "Academia\n",
            "Industry\n",
            "Academia\n",
            "Academia\n",
            "Industry\n",
            "Academia\n",
            "Industry\n",
            "Research collective\n",
            "Academia\n",
            "Academia\n",
            "Academia\n",
            "Academia\n",
            "Industry\n",
            "Academia\n",
            "Industry\n",
            "Industry\n",
            "Academia\n",
            "Academia\n",
            "Academia\n",
            "Academia\n",
            "Academia\n",
            "Academia\n",
            "Academia\n",
            "Academia\n",
            "Industry\n",
            "Academia\n",
            "Industry\n",
            "Industry\n",
            "Industry\n",
            "Academia\n",
            "Industry\n",
            "Industry\n",
            "Industry\n",
            "Industry\n",
            "Academia\n",
            "Academia\n",
            "Academia\n",
            "Industry\n",
            "Industry\n",
            "Academia\n",
            "Academia\n",
            "Academia\n",
            "Academia\n",
            "Industry\n",
            "Academia\n",
            "Industry\n",
            "Industry\n",
            "Industry\n",
            "Industry\n",
            "Academia\n",
            "Academia\n",
            "Industry\n",
            "Academia\n",
            "Industry\n",
            "Academia\n",
            "Industry\n",
            "Industry\n",
            "Industry\n",
            "Academia\n",
            "Academia\n",
            "Industry\n",
            "Industry\n",
            "Academia\n",
            "Research collective\n",
            "Academia\n",
            "Academia\n",
            "Industry\n",
            "Academia\n",
            "Industry\n",
            "Academia\n",
            "Industry\n",
            "Industry\n",
            "Industry\n",
            "Industry\n",
            "Industry\n",
            "Academia\n",
            "Industry\n",
            "Academia\n",
            "Industry\n",
            "Academia\n",
            "Academia\n",
            "Industry\n",
            "Industry\n",
            "Academia\n",
            "Academia\n",
            "Academia\n",
            "Academia\n",
            "Academia\n",
            "Industry\n",
            "Academia\n",
            "Industry\n",
            "Academia\n",
            "Industry\n",
            "Academia\n",
            "Industry\n",
            "Academia\n",
            "Research collective\n",
            "Academia\n",
            "Academia\n",
            "Academia\n",
            "Industry\n",
            "Industry\n",
            "Academia\n",
            "Industry\n",
            "Industry\n",
            "Industry\n",
            "Industry\n",
            "Academia\n",
            "Academia\n",
            "Industry\n",
            "Industry\n",
            "Academia\n",
            "Industry\n",
            "Industry\n",
            "Industry\n",
            "Industry\n",
            "Academia\n",
            "Academia\n",
            "Industry\n",
            "Industry\n",
            "Academia\n",
            "Academia\n",
            "Academia\n",
            "Academia\n",
            "Academia\n",
            "Industry\n",
            "Academia\n",
            "Industry\n",
            "Academia\n",
            "Industry\n",
            "Industry\n",
            "Academia\n",
            "Industry\n",
            "Academia\n",
            "Academia\n",
            "Academia\n",
            "Academia\n",
            "Industry\n",
            "Academia\n",
            "Industry\n",
            "Academia\n",
            "Industry\n",
            "Academia\n",
            "Industry\n",
            "Academia\n",
            "Industry\n",
            "Industry\n",
            "Industry\n",
            "Industry\n",
            "Academia\n",
            "Academia\n",
            "Academia\n",
            "Academia\n",
            "Industry\n",
            "Industry\n",
            "Industry\n",
            "Academia\n",
            "Industry\n",
            "Industry\n",
            "Academia\n",
            "Industry\n",
            "Industry\n",
            "Academia\n",
            "Academia\n",
            "Industry\n",
            "Industry\n",
            "Academia\n",
            "Academia\n",
            "Industry\n",
            "Industry\n",
            "Industry\n",
            "Academia\n",
            "Industry\n",
            "Industry\n",
            "Academia\n",
            "Academia\n",
            "Industry\n",
            "Academia\n",
            "Government\n",
            "Academia\n",
            "Academia\n",
            "Academia\n",
            "Academia\n",
            "Academia\n",
            "Academia\n",
            "Academia\n",
            "Academia\n",
            "Academia\n",
            "Academia\n",
            "Academia\n",
            "Academia\n",
            "Academia\n",
            "Academia\n",
            "Academia\n",
            "Academia\n",
            "Industry\n",
            "Academia\n",
            "Academia\n",
            "Academia\n",
            "Industry\n",
            "Academia\n",
            "Academia\n",
            "Industry\n",
            "Academia\n",
            "Industry\n",
            "Academia\n",
            "Industry\n",
            "Academia\n",
            "Industry\n",
            "Academia\n",
            "Academia\n",
            "Industry\n",
            "Academia\n",
            "Industry\n",
            "Academia\n",
            "Academia\n",
            "Industry\n",
            "Academia\n",
            "Industry\n",
            "Industry\n",
            "Academia\n",
            "Academia\n",
            "Industry\n",
            "Industry\n",
            "Academia\n",
            "Academia\n",
            "Industry\n",
            "Industry\n",
            "Industry\n",
            "Industry\n",
            "Academia\n",
            "Research collective\n",
            "Industry\n",
            "Academia\n",
            "Academia\n",
            "Academia\n",
            "Academia\n",
            "Academia\n",
            "Academia\n",
            "Academia\n",
            "Industry\n",
            "Academia\n",
            "Industry\n",
            "Academia\n",
            "Academia\n",
            "Industry\n",
            "Academia\n",
            "Industry\n",
            "Academia\n",
            "Academia\n",
            "Industry\n",
            "Academia\n",
            "Academia\n",
            "Academia\n",
            "Academia\n",
            "Academia\n",
            "Academia\n",
            "Academia\n",
            "Academia\n",
            "Academia\n",
            "Industry\n",
            "Academia\n",
            "Research collective\n",
            "Academia\n",
            "Academia\n",
            "Industry\n",
            "Industry\n",
            "Industry\n",
            "Academia\n",
            "Industry\n",
            "Industry\n",
            "Industry\n",
            "Academia\n",
            "Academia\n",
            "Academia\n",
            "Academia\n",
            "Industry\n",
            "Academia\n",
            "Academia\n",
            "Academia\n",
            "Academia\n",
            "Academia\n",
            "Academia\n",
            "Academia\n",
            "Academia\n",
            "Academia\n",
            "Academia\n",
            "Academia\n",
            "Academia\n",
            "Academia\n",
            "Academia\n",
            "Academia\n",
            "Academia\n",
            "Academia\n",
            "Academia\n",
            "Academia\n",
            "Academia\n",
            "Academia\n",
            "Academia\n",
            "Academia\n",
            "Academia\n",
            "Academia\n",
            "Research collective\n",
            "Academia\n",
            "Academia\n",
            "Industry\n",
            "Industry\n",
            "Industry\n",
            "Industry\n",
            "Industry\n",
            "Academia\n",
            "Industry\n",
            "Industry\n",
            "Industry\n",
            "Academia\n",
            "Academia\n",
            "Academia\n",
            "Industry\n",
            "Academia\n",
            "Industry\n",
            "Academia\n",
            "Industry\n",
            "Industry\n",
            "Industry\n",
            "Industry\n",
            "Industry\n",
            "Industry\n",
            "Industry\n",
            "Academia\n",
            "Industry\n",
            "Academia\n",
            "Industry\n",
            "Academia\n",
            "Industry\n",
            "Academia\n",
            "Academia\n",
            "Industry\n",
            "Academia\n",
            "Industry\n",
            "Academia\n",
            "Industry\n",
            "Academia\n",
            "Industry\n",
            "Academia\n",
            "Academia\n",
            "Industry\n",
            "Academia\n",
            "Academia\n",
            "Academia\n",
            "Academia\n",
            "Industry\n",
            "Academia\n",
            "Academia\n",
            "Academia\n",
            "Industry\n",
            "Academia\n",
            "Industry\n",
            "Academia\n",
            "Academia\n",
            "Industry\n",
            "Academia\n",
            "Academia\n",
            "Academia\n",
            "Academia\n",
            "Academia\n",
            "Academia\n",
            "Industry\n",
            "Academia\n",
            "Research collective\n",
            "Industry\n",
            "Academia\n",
            "Academia\n",
            "Academia\n",
            "Industry\n",
            "Industry\n",
            "Industry\n",
            "Industry\n",
            "Industry\n",
            "Industry\n",
            "Industry\n",
            "Industry\n",
            "Academia\n",
            "Academia\n",
            "Academia\n",
            "Academia\n",
            "Academia\n",
            "Industry\n",
            "Academia\n",
            "Industry\n",
            "Industry\n",
            "Academia\n",
            "Research collective\n",
            "Industry\n",
            "Academia\n",
            "Academia\n",
            "Industry\n",
            "Academia\n",
            "Industry\n",
            "Academia\n",
            "Academia\n",
            "Academia\n",
            "Industry\n",
            "Industry\n",
            "Industry\n",
            "Industry\n",
            "Industry\n",
            "Industry\n",
            "Industry\n",
            "Academia\n",
            "Academia\n",
            "Industry\n",
            "Industry\n",
            "Academia\n",
            "Academia\n",
            "Industry\n",
            "Academia\n",
            "Academia\n",
            "Academia\n",
            "Academia\n",
            "Industry\n",
            "Industry\n",
            "Industry\n",
            "Industry\n",
            "Academia\n",
            "Academia\n",
            "Academia\n",
            "Industry\n",
            "Academia\n",
            "Industry\n",
            "Academia\n",
            "Industry\n",
            "Academia\n",
            "Academia\n",
            "Academia\n",
            "Academia\n",
            "Academia\n",
            "Industry\n",
            "Academia\n",
            "Academia\n",
            "Academia\n",
            "Academia\n",
            "Industry\n",
            "Academia\n",
            "Industry\n",
            "Academia\n",
            "Industry\n",
            "Industry\n",
            "Academia\n",
            "Academia\n",
            "Academia\n",
            "Academia\n",
            "Academia\n",
            "Academia\n",
            "Academia\n",
            "Academia\n",
            "Academia\n",
            "Academia\n",
            "Academia\n",
            "Academia\n",
            "Academia\n",
            "Industry\n",
            "Industry\n",
            "Industry\n",
            "Academia\n",
            "Academia\n",
            "Industry\n",
            "Academia\n",
            "Industry\n",
            "Academia\n",
            "Academia\n",
            "Academia\n",
            "Industry\n",
            "Industry\n",
            "Industry\n",
            "Industry\n",
            "Academia\n",
            "Industry\n",
            "Academia\n",
            "Industry\n",
            "Academia\n",
            "Academia\n",
            "Industry\n",
            "Industry\n",
            "Industry\n",
            "Academia\n",
            "Academia\n",
            "Academia\n",
            "Industry\n",
            "Academia\n",
            "Industry\n",
            "Academia\n",
            "Industry\n",
            "Academia\n",
            "Academia\n",
            "Research collective\n",
            "Industry\n",
            "Academia\n",
            "Research collective\n",
            "Industry\n",
            "Industry\n",
            "Academia\n",
            "Academia\n",
            "Industry\n",
            "Industry\n",
            "Academia\n",
            "Academia\n",
            "Academia\n",
            "Academia\n",
            "Academia\n",
            "Industry\n",
            "Industry\n",
            "Academia\n",
            "Industry\n",
            "Academia\n",
            "Industry\n",
            "Industry\n",
            "Academia\n",
            "Industry\n",
            "Academia\n",
            "Academia\n",
            "Academia\n",
            "Industry\n",
            "Industry\n",
            "Industry\n",
            "Industry\n",
            "Industry\n",
            "Academia\n",
            "Industry\n",
            "Academia\n",
            "Industry\n",
            "Academia\n",
            "Industry\n",
            "Academia\n",
            "Industry\n",
            "Industry\n",
            "Academia\n",
            "Academia\n",
            "Academia\n",
            "Academia\n",
            "Academia\n",
            "Academia\n",
            "Academia\n",
            "Industry\n",
            "Industry\n",
            "Academia\n",
            "Industry\n",
            "Academia\n",
            "Academia\n",
            "Academia\n",
            "Academia\n",
            "Industry\n",
            "Academia\n",
            "Industry\n",
            "Academia\n",
            "Academia\n",
            "Industry\n",
            "Industry\n",
            "Academia\n",
            "Academia\n",
            "Industry\n",
            "Academia\n",
            "Academia\n",
            "Academia\n",
            "Academia\n",
            "Academia\n",
            "Academia\n",
            "Academia\n",
            "Academia\n",
            "Academia\n",
            "Industry\n",
            "Academia\n",
            "Industry\n",
            "Academia\n",
            "Academia\n",
            "Academia\n",
            "Academia\n",
            "Government\n",
            "Academia\n",
            "Government\n",
            "Academia\n",
            "Academia\n",
            "Academia\n",
            "Academia\n",
            "Industry\n",
            "Academia\n",
            "Industry\n",
            "Industry\n",
            "Academia\n",
            "Academia\n",
            "Industry\n",
            "Industry\n",
            "Academia\n",
            "Academia\n",
            "Academia\n",
            "Industry\n",
            "Industry\n",
            "Academia\n",
            "Academia\n",
            "Academia\n",
            "Academia\n",
            "Academia\n",
            "Academia\n",
            "Academia\n",
            "Academia\n",
            "Industry\n",
            "Industry\n",
            "Industry\n",
            "Industry\n",
            "Academia\n",
            "Academia\n",
            "Academia\n",
            "Academia\n",
            "Academia\n",
            "Academia\n",
            "Academia\n",
            "Industry\n",
            "Academia\n",
            "Academia\n",
            "Industry\n",
            "Industry\n",
            "Academia\n",
            "Academia\n",
            "Academia\n",
            "Industry\n",
            "Academia\n",
            "Industry\n",
            "Industry\n",
            "Industry\n",
            "Academia\n",
            "Academia\n",
            "Industry\n",
            "Academia\n",
            "Academia\n",
            "Industry\n",
            "Industry\n",
            "Academia\n",
            "Academia\n",
            "Academia\n",
            "Academia\n",
            "Academia\n",
            "Academia\n",
            "Academia\n",
            "Academia\n",
            "Industry\n",
            "Academia\n",
            "Academia\n",
            "Academia\n",
            "Industry\n",
            "Academia\n",
            "Academia\n",
            "Academia\n",
            "Academia\n",
            "Academia\n",
            "Industry\n",
            "Academia\n",
            "Academia\n",
            "Academia\n",
            "Academia\n",
            "Academia\n",
            "Academia\n",
            "Industry\n",
            "Academia\n",
            "Academia\n",
            "Academia\n",
            "Academia\n",
            "Industry\n",
            "Academia\n",
            "Academia\n",
            "Academia\n",
            "Academia\n",
            "Academia\n",
            "Academia\n",
            "Academia\n",
            "Academia\n",
            "Academia\n",
            "Academia\n",
            "Academia\n",
            "Academia\n",
            "Academia\n",
            "Academia\n",
            "Academia\n",
            "Academia\n",
            "Industry\n",
            "Academia\n",
            "Academia\n",
            "Academia\n",
            "Industry\n",
            "Academia\n",
            "Industry\n",
            "Academia\n",
            "Academia\n",
            "Industry\n",
            "Academia\n",
            "Academia\n",
            "Academia\n",
            "Industry\n",
            "Industry\n",
            "Academia\n",
            "Industry\n",
            "Academia\n",
            "Industry\n",
            "Industry\n",
            "Industry\n",
            "Academia\n",
            "Academia\n",
            "Academia\n",
            "Academia\n",
            "Academia\n",
            "Academia\n",
            "Academia\n",
            "Academia\n",
            "Industry\n",
            "Academia\n",
            "Academia\n",
            "Academia\n",
            "Industry\n",
            "Academia\n",
            "Industry\n",
            "Industry\n",
            "Academia\n",
            "Academia\n",
            "Industry\n",
            "Academia\n",
            "Academia\n",
            "Academia\n",
            "Academia\n",
            "Academia\n",
            "Academia\n",
            "Industry\n",
            "Academia\n",
            "Academia\n",
            "Academia\n",
            "Academia\n",
            "Industry\n",
            "Industry\n",
            "Industry\n",
            "Academia\n",
            "Academia\n",
            "Academia\n",
            "Academia\n",
            "Academia\n",
            "Academia\n",
            "Industry\n",
            "Academia\n",
            "Academia\n",
            "Academia\n",
            "Academia\n",
            "Academia\n",
            "Academia\n",
            "Academia\n",
            "Academia\n",
            "Academia\n",
            "Academia\n",
            "Academia\n",
            "Academia\n",
            "Academia\n",
            "Academia\n",
            "Academia\n",
            "Academia\n",
            "Academia\n",
            "Academia\n",
            "Academia\n",
            "Academia\n",
            "Industry\n",
            "Industry\n",
            "Academia\n",
            "Academia\n",
            "Academia\n",
            "Academia\n",
            "Academia\n",
            "Academia\n",
            "Academia\n",
            "Industry\n",
            "Academia\n",
            "Academia\n",
            "Academia\n",
            "Academia\n",
            "Academia\n",
            "Academia\n",
            "Academia\n",
            "Academia\n",
            "Academia\n",
            "Industry\n",
            "Academia\n",
            "Academia\n",
            "Academia\n",
            "Academia\n",
            "Academia\n",
            "Academia\n",
            "Academia\n",
            "Academia\n",
            "Industry\n",
            "Academia\n",
            "Academia\n",
            "Academia\n",
            "Industry\n",
            "Industry\n",
            "Industry\n",
            "Academia\n",
            "Academia\n",
            "Academia\n",
            "Academia\n",
            "Academia\n",
            "Academia\n",
            "Academia\n",
            "Academia\n",
            "Industry\n",
            "Academia\n",
            "Industry\n",
            "Academia\n",
            "Academia\n",
            "Academia\n",
            "Academia\n",
            "Industry\n",
            "Industry\n",
            "Industry\n",
            "Academia\n",
            "Academia\n",
            "Academia\n",
            "Academia\n",
            "Academia\n",
            "Academia\n",
            "Industry\n",
            "Academia\n",
            "Academia\n",
            "Academia\n",
            "Industry\n",
            "Academia\n",
            "Industry\n",
            "Academia\n",
            "Academia\n",
            "Industry\n",
            "Industry\n",
            "Industry\n",
            "Industry\n",
            "Academia\n",
            "Industry\n",
            "Academia\n",
            "Academia\n",
            "Academia\n",
            "Academia\n",
            "Industry\n",
            "Industry\n",
            "Industry\n",
            "Government\n",
            "Government\n",
            "Academia\n",
            "Academia\n",
            "Industry\n",
            "Academia\n",
            "Academia\n",
            "Academia\n",
            "Academia\n",
            "Academia\n",
            "Academia\n",
            "Industry\n",
            "Industry\n",
            "Academia\n",
            "Academia\n",
            "Academia\n",
            "Academia\n",
            "Academia\n",
            "Industry\n",
            "Academia\n",
            "Academia\n",
            "Academia\n",
            "Academia\n",
            "Academia\n",
            "Industry\n",
            "Industry\n",
            "Academia\n",
            "Academia\n",
            "Academia\n",
            "Industry\n",
            "Academia\n",
            "Academia\n",
            "Academia\n",
            "Academia\n",
            "Academia\n",
            "Academia\n",
            "Academia\n",
            "Academia\n",
            "Academia\n",
            "Academia\n",
            "Academia\n",
            "Industry\n",
            "Academia\n",
            "Academia\n",
            "Academia\n",
            "Industry\n",
            "Academia\n",
            "Academia\n",
            "Academia\n",
            "Industry\n",
            "Industry\n",
            "Academia\n",
            "Industry\n",
            "Academia\n",
            "Academia\n",
            "Academia\n",
            "Academia\n",
            "Academia\n",
            "Industry\n",
            "Academia\n",
            "Academia\n",
            "Academia\n",
            "Industry\n",
            "Academia\n",
            "Industry\n",
            "Academia\n",
            "Academia\n",
            "Academia\n",
            "Academia\n",
            "Academia\n",
            "Industry\n",
            "Industry\n",
            "Academia\n",
            "Academia\n",
            "Academia\n",
            "Academia\n",
            "Academia\n",
            "Academia\n",
            "Academia\n",
            "Academia\n",
            "Industry\n",
            "Industry\n",
            "Industry\n",
            "Industry\n"
          ]
        }
      ],
      "source": [
        "new_rows = []\n",
        "for i, row in df.dropna(subset=['Organization categorization']).iterrows():\n",
        "  org_types = row['Organization categorization']\n",
        "  org_types = org_types.split(',')\n",
        "  for org_type in org_types:\n",
        "    print(org_type)\n",
        "    new_row = {**row}\n",
        "    new_row['Organization categorization'] = org_type\n",
        "    new_rows.append(new_row)\n",
        "\n",
        "df = pd.DataFrame(new_rows)"
      ]
    },
    {
      "cell_type": "code",
      "execution_count": null,
      "metadata": {},
      "outputs": [
        {
          "data": {
            "text/plain": [
              "array(['Industry', 'Academia', 'Government', 'Research collective'],\n",
              "      dtype=object)"
            ]
          },
          "execution_count": 27,
          "metadata": {},
          "output_type": "execute_result"
        }
      ],
      "source": [
        "df['Organization categorization'].unique()"
      ]
    },
    {
      "cell_type": "code",
      "execution_count": null,
      "metadata": {},
      "outputs": [
        {
          "data": {
            "text/plain": [
              "2541"
            ]
          },
          "execution_count": 28,
          "metadata": {},
          "output_type": "execute_result"
        }
      ],
      "source": [
        "len(df)"
      ]
    },
    {
      "cell_type": "code",
      "execution_count": null,
      "metadata": {},
      "outputs": [
        {
          "data": {
            "text/plain": [
              "1384"
            ]
          },
          "execution_count": 29,
          "metadata": {},
          "output_type": "execute_result"
        }
      ],
      "source": [
        "df.dropna(subset=['Notability criteria'], inplace=True)\n",
        "len(df)"
      ]
    },
    {
      "cell_type": "code",
      "execution_count": null,
      "metadata": {},
      "outputs": [],
      "source": [
        "all_models = compare_org_openness_with_compute(df, 'Organization categorization')"
      ]
    },
    {
      "cell_type": "code",
      "execution_count": null,
      "metadata": {},
      "outputs": [
        {
          "data": {
            "text/html": [
              "<div>\n",
              "<style scoped>\n",
              "    .dataframe tbody tr th:only-of-type {\n",
              "        vertical-align: middle;\n",
              "    }\n",
              "\n",
              "    .dataframe tbody tr th {\n",
              "        vertical-align: top;\n",
              "    }\n",
              "\n",
              "    .dataframe thead th {\n",
              "        text-align: right;\n",
              "    }\n",
              "</style>\n",
              "<table border=\"1\" class=\"dataframe\">\n",
              "  <thead>\n",
              "    <tr style=\"text-align: right;\">\n",
              "      <th></th>\n",
              "      <th>Organization categorization</th>\n",
              "      <th>Max Training Compute (FLOP)</th>\n",
              "      <th>Average Training Compute (FLOP)</th>\n",
              "      <th>open_model_percentage</th>\n",
              "      <th>open_code_percentage</th>\n",
              "      <th>model_count</th>\n",
              "    </tr>\n",
              "  </thead>\n",
              "  <tbody>\n",
              "    <tr>\n",
              "      <th>0</th>\n",
              "      <td>Industry</td>\n",
              "      <td>25.698970</td>\n",
              "      <td>21.615142</td>\n",
              "      <td>45.945946</td>\n",
              "      <td>38.063063</td>\n",
              "      <td>444</td>\n",
              "    </tr>\n",
              "    <tr>\n",
              "      <th>1</th>\n",
              "      <td>Academia</td>\n",
              "      <td>25.079181</td>\n",
              "      <td>20.686575</td>\n",
              "      <td>52.528090</td>\n",
              "      <td>49.157303</td>\n",
              "      <td>356</td>\n",
              "    </tr>\n",
              "    <tr>\n",
              "      <th>2</th>\n",
              "      <td>Government</td>\n",
              "      <td>24.575188</td>\n",
              "      <td>22.256482</td>\n",
              "      <td>91.666667</td>\n",
              "      <td>8.333333</td>\n",
              "      <td>12</td>\n",
              "    </tr>\n",
              "    <tr>\n",
              "      <th>3</th>\n",
              "      <td>Research collective</td>\n",
              "      <td>23.761176</td>\n",
              "      <td>20.454918</td>\n",
              "      <td>50.000000</td>\n",
              "      <td>50.000000</td>\n",
              "      <td>14</td>\n",
              "    </tr>\n",
              "  </tbody>\n",
              "</table>\n",
              "</div>"
            ],
            "text/plain": [
              "  Organization categorization  Max Training Compute (FLOP)  \\\n",
              "0                    Industry                    25.698970   \n",
              "1                    Academia                    25.079181   \n",
              "2                  Government                    24.575188   \n",
              "3         Research collective                    23.761176   \n",
              "\n",
              "   Average Training Compute (FLOP)  open_model_percentage  \\\n",
              "0                        21.615142              45.945946   \n",
              "1                        20.686575              52.528090   \n",
              "2                        22.256482              91.666667   \n",
              "3                        20.454918              50.000000   \n",
              "\n",
              "   open_code_percentage  model_count  \n",
              "0             38.063063          444  \n",
              "1             49.157303          356  \n",
              "2              8.333333           12  \n",
              "3             50.000000           14  "
            ]
          },
          "execution_count": 31,
          "metadata": {},
          "output_type": "execute_result"
        }
      ],
      "source": [
        "all_models.head(40)"
      ]
    },
    {
      "cell_type": "code",
      "execution_count": null,
      "metadata": {},
      "outputs": [
        {
          "name": "stderr",
          "output_type": "stream",
          "text": [
            "100%|██████████| 10000/10000 [00:24<00:00, 405.45it/s]\n"
          ]
        }
      ],
      "source": [
        "categorization_bootstrap = bootstrap_openness(df, 'Organization categorization')"
      ]
    },
    {
      "cell_type": "code",
      "execution_count": null,
      "metadata": {},
      "outputs": [
        {
          "name": "stdout",
          "output_type": "stream",
          "text": [
            "open_model percentage\n",
            "Industry: 45.92% (90% CI: 42.02 to 49.78)\n",
            "Academia: 52.50% (90% CI: 48.19 to 56.81)\n",
            "p-value for difference between Industry and Academia: 0.0\n",
            "open_code percentage\n",
            "Industry: 38.04% (90% CI: 34.27 to 41.91)\n",
            "Academia: 49.16% (90% CI: 44.80 to 53.46)\n",
            "p-value for difference between Industry and Academia: 0.0\n"
          ]
        }
      ],
      "source": [
        "category1 = 'Industry'\n",
        "category2 = 'Academia'\n",
        "compare_entities_on_openness(categorization_bootstrap, category1, category2, 'open_model')\n",
        "compare_entities_on_openness(categorization_bootstrap, category1, category2, 'open_code')"
      ]
    },
    {
      "cell_type": "markdown",
      "metadata": {},
      "source": [
        "# Openness by Country"
      ]
    },
    {
      "cell_type": "code",
      "execution_count": null,
      "metadata": {},
      "outputs": [],
      "source": [
        "df = pd.read_csv(filepath)"
      ]
    },
    {
      "cell_type": "code",
      "execution_count": null,
      "metadata": {},
      "outputs": [
        {
          "data": {
            "text/html": [
              "<div>\n",
              "<style scoped>\n",
              "    .dataframe tbody tr th:only-of-type {\n",
              "        vertical-align: middle;\n",
              "    }\n",
              "\n",
              "    .dataframe tbody tr th {\n",
              "        vertical-align: top;\n",
              "    }\n",
              "\n",
              "    .dataframe thead th {\n",
              "        text-align: right;\n",
              "    }\n",
              "</style>\n",
              "<table border=\"1\" class=\"dataframe\">\n",
              "  <thead>\n",
              "    <tr style=\"text-align: right;\">\n",
              "      <th></th>\n",
              "      <th>System</th>\n",
              "      <th>Publication date</th>\n",
              "      <th>Notability criteria</th>\n",
              "      <th>Link</th>\n",
              "      <th>Model accessibility</th>\n",
              "      <th>Code accessibility</th>\n",
              "      <th>Training dataset</th>\n",
              "      <th>Dataset accessibility</th>\n",
              "      <th>Accessibility notes</th>\n",
              "      <th>Organization</th>\n",
              "      <th>Training compute (FLOP)</th>\n",
              "      <th>Country (from Organization)</th>\n",
              "      <th>Organization categorization</th>\n",
              "    </tr>\n",
              "  </thead>\n",
              "  <tbody>\n",
              "    <tr>\n",
              "      <th>0</th>\n",
              "      <td>Grok-2</td>\n",
              "      <td>2024-08-13</td>\n",
              "      <td>NaN</td>\n",
              "      <td>https://x.ai/blog/grok-2</td>\n",
              "      <td>Hosted access (no API)</td>\n",
              "      <td>Unreleased</td>\n",
              "      <td>NaN</td>\n",
              "      <td>NaN</td>\n",
              "      <td>NaN</td>\n",
              "      <td>xAI</td>\n",
              "      <td>NaN</td>\n",
              "      <td>United States of America</td>\n",
              "      <td>Industry</td>\n",
              "    </tr>\n",
              "    <tr>\n",
              "      <th>1</th>\n",
              "      <td>Grok-2 mini</td>\n",
              "      <td>2024-08-13</td>\n",
              "      <td>NaN</td>\n",
              "      <td>https://x.ai/blog/grok-2</td>\n",
              "      <td>Hosted access (no API)</td>\n",
              "      <td>Unreleased</td>\n",
              "      <td>NaN</td>\n",
              "      <td>NaN</td>\n",
              "      <td>NaN</td>\n",
              "      <td>xAI</td>\n",
              "      <td>NaN</td>\n",
              "      <td>United States of America</td>\n",
              "      <td>Industry</td>\n",
              "    </tr>\n",
              "    <tr>\n",
              "      <th>2</th>\n",
              "      <td>Cosine Genie</td>\n",
              "      <td>2024-08-12</td>\n",
              "      <td>NaN</td>\n",
              "      <td>https://cosine.sh/blog/genie-technical-report</td>\n",
              "      <td>Unreleased</td>\n",
              "      <td>NaN</td>\n",
              "      <td>Unspecified unreleased</td>\n",
              "      <td>NaN</td>\n",
              "      <td>https://github.com/CosineAI/experiments/tree/c...</td>\n",
              "      <td>Cosine</td>\n",
              "      <td>NaN</td>\n",
              "      <td>United Kingdom of Great Britain and Northern I...</td>\n",
              "      <td>Industry</td>\n",
              "    </tr>\n",
              "    <tr>\n",
              "      <th>3</th>\n",
              "      <td>EXAONE 3.0</td>\n",
              "      <td>2024-08-07</td>\n",
              "      <td>NaN</td>\n",
              "      <td>https://arxiv.org/abs/2408.03541</td>\n",
              "      <td>Open access (non-commercial)</td>\n",
              "      <td>NaN</td>\n",
              "      <td>Unspecified unreleased</td>\n",
              "      <td>NaN</td>\n",
              "      <td>NaN</td>\n",
              "      <td>LG</td>\n",
              "      <td>4.000000e+23</td>\n",
              "      <td>Korea (Republic of)</td>\n",
              "      <td>Industry</td>\n",
              "    </tr>\n",
              "    <tr>\n",
              "      <th>4</th>\n",
              "      <td>Flux.1 [pro]</td>\n",
              "      <td>2024-08-01</td>\n",
              "      <td>NaN</td>\n",
              "      <td>https://blackforestlabs.ai/announcing-black-fo...</td>\n",
              "      <td>API access</td>\n",
              "      <td>Unreleased</td>\n",
              "      <td>NaN</td>\n",
              "      <td>Unreleased</td>\n",
              "      <td>NaN</td>\n",
              "      <td>Black Forest Labs</td>\n",
              "      <td>NaN</td>\n",
              "      <td>NaN</td>\n",
              "      <td>NaN</td>\n",
              "    </tr>\n",
              "  </tbody>\n",
              "</table>\n",
              "</div>"
            ],
            "text/plain": [
              "         System Publication date Notability criteria  \\\n",
              "0        Grok-2       2024-08-13                 NaN   \n",
              "1   Grok-2 mini       2024-08-13                 NaN   \n",
              "2  Cosine Genie       2024-08-12                 NaN   \n",
              "3    EXAONE 3.0       2024-08-07                 NaN   \n",
              "4  Flux.1 [pro]       2024-08-01                 NaN   \n",
              "\n",
              "                                                Link  \\\n",
              "0                           https://x.ai/blog/grok-2   \n",
              "1                           https://x.ai/blog/grok-2   \n",
              "2      https://cosine.sh/blog/genie-technical-report   \n",
              "3                   https://arxiv.org/abs/2408.03541   \n",
              "4  https://blackforestlabs.ai/announcing-black-fo...   \n",
              "\n",
              "            Model accessibility Code accessibility        Training dataset  \\\n",
              "0        Hosted access (no API)         Unreleased                     NaN   \n",
              "1        Hosted access (no API)         Unreleased                     NaN   \n",
              "2                    Unreleased                NaN  Unspecified unreleased   \n",
              "3  Open access (non-commercial)                NaN  Unspecified unreleased   \n",
              "4                    API access         Unreleased                     NaN   \n",
              "\n",
              "  Dataset accessibility                                Accessibility notes  \\\n",
              "0                   NaN                                                NaN   \n",
              "1                   NaN                                                NaN   \n",
              "2                   NaN  https://github.com/CosineAI/experiments/tree/c...   \n",
              "3                   NaN                                                NaN   \n",
              "4            Unreleased                                                NaN   \n",
              "\n",
              "        Organization  Training compute (FLOP)  \\\n",
              "0                xAI                      NaN   \n",
              "1                xAI                      NaN   \n",
              "2             Cosine                      NaN   \n",
              "3                 LG             4.000000e+23   \n",
              "4  Black Forest Labs                      NaN   \n",
              "\n",
              "                         Country (from Organization)  \\\n",
              "0                           United States of America   \n",
              "1                           United States of America   \n",
              "2  United Kingdom of Great Britain and Northern I...   \n",
              "3                                Korea (Republic of)   \n",
              "4                                                NaN   \n",
              "\n",
              "  Organization categorization  \n",
              "0                    Industry  \n",
              "1                    Industry  \n",
              "2                    Industry  \n",
              "3                    Industry  \n",
              "4                         NaN  "
            ]
          },
          "execution_count": 35,
          "metadata": {},
          "output_type": "execute_result"
        }
      ],
      "source": [
        "df.head()"
      ]
    },
    {
      "cell_type": "code",
      "execution_count": null,
      "metadata": {},
      "outputs": [
        {
          "data": {
            "text/plain": [
              "array(['United States of America',\n",
              "       'United Kingdom of Great Britain and Northern Ireland',\n",
              "       'Korea (Republic of)', nan, 'Multinational', 'France', 'China',\n",
              "       'United States of America,United States of America', 'China,China',\n",
              "       'United States of America,United States of America,United States of America,Multinational,United States of America,United States of America',\n",
              "       'Japan,Japan,Japan,Japan,Japan,Japan', 'United Arab Emirates',\n",
              "       'Japan', 'Hong Kong', 'Russia', 'Canada,Multinational',\n",
              "       'Finland,Finland', 'Multinational,Canada,Canada', 'Israel',\n",
              "       'Multinational,United States of America,United States of America',\n",
              "       'United States of America,United States of America,United States of America',\n",
              "       'Multinational,United States of America,Canada,United States of America,United States of America',\n",
              "       'United States of America,China,Singapore,United States of America',\n",
              "       'Multinational,Israel,Israel,Israel',\n",
              "       'Multinational,United States of America',\n",
              "       'China,Hong Kong,Hong Kong,China',\n",
              "       'United States of America,Israel,France',\n",
              "       'Multinational,United States of America,Multinational',\n",
              "       'Multinational,Finland',\n",
              "       'United States of America,France,United States of America',\n",
              "       'Hong Kong,China', 'Canada', 'China,Hong Kong,China',\n",
              "       'Korea (Republic of),Korea (Republic of),Korea (Republic of)',\n",
              "       'China,United States of America', 'Singapore', 'China,China,China',\n",
              "       'Finland,Multinational', 'Switzerland',\n",
              "       'Austria,United States of America',\n",
              "       'United States of America,Korea (Republic of),United Kingdom of Great Britain and Northern Ireland',\n",
              "       'Saudi Arabia', 'United States of America,Japan',\n",
              "       'China,Hong Kong,Hong Kong', 'China,China,China,China',\n",
              "       'China,Multinational',\n",
              "       'China,United States of America,United States of America,China',\n",
              "       'Multinational,Multinational', 'China,China,Singapore,China',\n",
              "       'Multinational,United Arab Emirates,United States of America',\n",
              "       'Hungary', 'United States of America,Israel',\n",
              "       'China,China,United States of America',\n",
              "       'United States of America,United States of America,United States of America,Israel,United States of America,Multinational,United States of America',\n",
              "       'United States of America,China', 'China,Hong Kong',\n",
              "       'United States of America,United States of America,Canada,Canada',\n",
              "       'Denmark,Denmark', 'Korea (Republic of),Korea (Republic of)',\n",
              "       'United States of America,Hong Kong,Singapore',\n",
              "       'Multinational,United States of America,United States of America,Canada,United States of America,United States of America,Germany,Germany,United Kingdom of Great Britain and Northern Ireland,United States of America,Singapore,Israel,Australia,Australia,Australia,Canada,United States of America,Canada,United States of America,Germany,United States of America,United States of America,Sweden,Multinational,United States of America,United States of America,United States of America,India,India,Multinational,Spain,United States of America,Israel,United Kingdom of Great Britain and Northern Ireland,United States of America,Multinational,Germany',\n",
              "       'United States of America,Israel,Israel',\n",
              "       'United States of America,France',\n",
              "       'United States of America,United States of America,United States of America,United States of America,United States of America',\n",
              "       'Multinational,United States of America,United Kingdom of Great Britain and Northern Ireland,India,Multinational,United States of America,Netherlands',\n",
              "       'Saudi Arabia,Sweden', 'United States of America,Germany',\n",
              "       'Sweden', 'United States of America,Canada,Canada',\n",
              "       'United Kingdom of Great Britain and Northern Ireland,United Kingdom of Great Britain and Northern Ireland',\n",
              "       'United States of America,United States of America,Canada,United States of America,United States of America,United States of America,Canada',\n",
              "       'Multinational,United States of America,United States of America,United States of America,Canada',\n",
              "       'Netherlands', 'Germany,United States of America',\n",
              "       'Multinational,United States of America,United States of America,United States of America,United States of America,Multinational,China,United States of America',\n",
              "       'Austria',\n",
              "       'United Kingdom of Great Britain and Northern Ireland,United States of America',\n",
              "       'United Kingdom of Great Britain and Northern Ireland,Germany,Spain',\n",
              "       'China,Canada,Canada',\n",
              "       'Germany,United Kingdom of Great Britain and Northern Ireland',\n",
              "       'China,China,China,Hong Kong,Hong Kong', 'China,Hong Kong,Japan',\n",
              "       'United States of America,United States of America,United States of America,Multinational,Germany,United States of America',\n",
              "       'United Kingdom of Great Britain and Northern Ireland,United States of America,United States of America',\n",
              "       'Germany', 'Canada,United States of America,Canada',\n",
              "       'United States of America,United States of America,United States of America,United States of America',\n",
              "       'Russia,Russia',\n",
              "       'France,United States of America,United Kingdom of Great Britain and Northern Ireland',\n",
              "       'Sweden,Sweden',\n",
              "       'Germany,Germany,United Kingdom of Great Britain and Northern Ireland',\n",
              "       'China,United States of America,China,Hong Kong', 'Japan,Japan',\n",
              "       'United Kingdom of Great Britain and Northern Ireland,United States of America,Canada',\n",
              "       'Israel,United States of America,Multinational,United States of America',\n",
              "       'United States of America,Hong Kong',\n",
              "       'United States of America,Canada',\n",
              "       'Canada,United States of America',\n",
              "       'United States of America,United States of America,United States of America,United States of America,Israel',\n",
              "       'United States of America,United States of America,Multinational',\n",
              "       'Israel,United States of America,United States of America',\n",
              "       'United States of America,United Kingdom of Great Britain and Northern Ireland,France,France',\n",
              "       'United States of America,United States of America,China,United States of America,United States of America',\n",
              "       'Hong Kong,United States of America', 'Switzerland,China',\n",
              "       'United States of America,Switzerland,Multinational', 'Greece',\n",
              "       'United States of America,Singapore',\n",
              "       'China,United States of America,China',\n",
              "       'United States of America,United Kingdom of Great Britain and Northern Ireland',\n",
              "       'Austria,Switzerland,Austria', 'France,France,France',\n",
              "       'Viet Nam,United States of America,Viet Nam,France,United States of America,United States of America',\n",
              "       'China,Canada',\n",
              "       'Multinational,United Kingdom of Great Britain and Northern Ireland',\n",
              "       'Portugal,United Kingdom of Great Britain and Northern Ireland',\n",
              "       'China,China,Multinational',\n",
              "       'United States of America,Multinational', 'China,Taiwan',\n",
              "       'Switzerland,Switzerland,Saudi Arabia',\n",
              "       'United States of America,Multinational,United States of America',\n",
              "       'Canada,Canada,United Kingdom of Great Britain and Northern Ireland',\n",
              "       'Hong Kong,China,China',\n",
              "       'Multinational,Switzerland,United Kingdom of Great Britain and Northern Ireland',\n",
              "       'Germany,China,United States of America,United States of America,United States of America,Korea (Republic of)',\n",
              "       'Germany,United States of America,Korea (Republic of),United States of America,United States of America,China',\n",
              "       'France,United States of America',\n",
              "       'United States of America,United States of America,United Kingdom of Great Britain and Northern Ireland,United States of America',\n",
              "       'United States of America,United States of America,United Kingdom of Great Britain and Northern Ireland',\n",
              "       'China,China,United States of America,China', 'Lithuania,Sweden',\n",
              "       'United States of America,United Kingdom of Great Britain and Northern Ireland,United States of America,Israel,Hong Kong',\n",
              "       'Switzerland,Switzerland', 'Netherlands,Netherlands', 'Lebanon',\n",
              "       'United States of America,Taiwan',\n",
              "       'Taiwan,United States of America',\n",
              "       'Korea (Republic of),United States of America',\n",
              "       'China,Canada,France,Canada,United States of America,Canada',\n",
              "       'Switzerland,United States of America', 'Germany,Germany',\n",
              "       'United States of America,China,United States of America',\n",
              "       'Austria,Austria,Norway', 'India',\n",
              "       'China,United States of America,Canada,Canada,Canada,Canada',\n",
              "       'Canada,China,China',\n",
              "       'United Kingdom of Great Britain and Northern Ireland,United Kingdom of Great Britain and Northern Ireland,United Kingdom of Great Britain and Northern Ireland',\n",
              "       'France,France,United States of America',\n",
              "       'United States of America,United States of America,United States of America,Canada',\n",
              "       'China,United Kingdom of Great Britain and Northern Ireland',\n",
              "       'Korea (Republic of),Korea (Republic of),Switzerland',\n",
              "       'United States of America,France,France', 'China,Australia',\n",
              "       'Switzerland,Switzerland,Germany',\n",
              "       'United States of America,United States of America,Canada',\n",
              "       'China,Australia,Australia', 'United States of America,Spain',\n",
              "       'United States of America,Multinational,United States of America,United States of America',\n",
              "       'Australia',\n",
              "       'United States of America,China,United States of America,United Kingdom of Great Britain and Northern Ireland',\n",
              "       'Israel,United States of America',\n",
              "       'United Kingdom of Great Britain and Northern Ireland,United Kingdom of Great Britain and Northern Ireland,United States of America,United States of America',\n",
              "       'United States of America,Germany,Multinational',\n",
              "       'United States of America,Multinational,Germany',\n",
              "       'Japan,Hong Kong,China',\n",
              "       'Belgium,Belgium,United States of America',\n",
              "       'Hong Kong,China,Singapore', 'Belgium', 'Japan,Japan,Japan',\n",
              "       'United States of America,Ireland',\n",
              "       'China,Australia,United States of America',\n",
              "       'China,United States of America,United States of America',\n",
              "       'Poland,Canada,Canada', 'Canada,Canada', 'China,Canada,China',\n",
              "       'China,United States of America,Singapore,United States of America',\n",
              "       'Canada,Canada,Canada', 'Singapore,Australia,China',\n",
              "       'China,Hong Kong,China,China', 'Poland,United States of America',\n",
              "       'Canada,Czechia,Czechia', 'Australia,Australia',\n",
              "       'Australia,United States of America,China',\n",
              "       'Switzerland,China,Hong Kong',\n",
              "       'Belgium,Iran (Islamic Republic of),France,Iran (Islamic Republic of)',\n",
              "       'Austria,United Kingdom of Great Britain and Northern Ireland',\n",
              "       'Israel,United States of America,Canada',\n",
              "       'Canada,United States of America,United States of America',\n",
              "       'China,China,Ireland',\n",
              "       'United Kingdom of Great Britain and Northern Ireland,United States of America,China',\n",
              "       'Netherlands,United States of America,Canada', 'Germany,Canada',\n",
              "       'United Kingdom of Great Britain and Northern Ireland,Canada',\n",
              "       'United States of America,China,China',\n",
              "       'Canada,Germany,United States of America', 'Singapore,Singapore',\n",
              "       'Finland,Canada',\n",
              "       'Argentina,Netherlands,Netherlands,France,France,France',\n",
              "       'United States of America,Canada,United States of America',\n",
              "       'Italy,Netherlands', 'Canada,Canada,United States of America',\n",
              "       'United States of America,Czechia',\n",
              "       'Czechia,United States of America',\n",
              "       'Switzerland,Switzerland,Switzerland',\n",
              "       'United States of America,United States of America,Switzerland,United States of America',\n",
              "       'Poland', 'Canada,Singapore', 'Switzerland,Germany',\n",
              "       'France,United States of America,France', 'France,Canada',\n",
              "       'Mexico', 'Taiwan', 'Italy',\n",
              "       'Denmark,United Kingdom of Great Britain and Northern Ireland',\n",
              "       'Spain', 'United States of America,Austria',\n",
              "       'Japan,United States of America', 'Finland', 'New Zealand'],\n",
              "      dtype=object)"
            ]
          },
          "execution_count": 36,
          "metadata": {},
          "output_type": "execute_result"
        }
      ],
      "source": [
        "df['Country (from Organization)'].unique()"
      ]
    },
    {
      "cell_type": "code",
      "execution_count": null,
      "metadata": {},
      "outputs": [
        {
          "name": "stdout",
          "output_type": "stream",
          "text": [
            "United States of America\n",
            "United States of America\n",
            "United Kingdom of Great Britain and Northern Ireland\n",
            "Korea (Republic of)\n",
            "United States of America\n",
            "United States of America\n",
            "Multinational\n",
            "Multinational\n",
            "France\n",
            "United States of America\n",
            "United States of America\n",
            "United States of America\n",
            "France\n",
            "United States of America\n",
            "China\n",
            "United States of America\n",
            "United States of America\n",
            "United States of America\n",
            "United States of America\n",
            "Multinational\n",
            "Multinational\n",
            "Multinational\n",
            "United States of America\n",
            "China\n",
            "China\n",
            "China\n",
            "China\n",
            "United States of America\n",
            "United States of America\n",
            "United States of America\n",
            "United States of America\n",
            "United States of America\n",
            "Multinational\n",
            "United States of America\n",
            "United States of America\n",
            "United States of America\n",
            "United States of America\n",
            "United States of America\n",
            "China\n",
            "United States of America\n",
            "France\n",
            "United States of America\n",
            "United States of America\n",
            "United States of America\n",
            "United States of America\n",
            "China\n",
            "United States of America\n",
            "Japan\n",
            "Japan\n",
            "Japan\n",
            "Japan\n",
            "Japan\n",
            "Japan\n",
            "Multinational\n",
            "United Arab Emirates\n",
            "China\n",
            "United States of America\n",
            "United States of America\n",
            "Japan\n",
            "China\n",
            "United States of America\n",
            "United States of America\n",
            "Hong Kong\n",
            "United States of America\n",
            "United States of America\n",
            "United States of America\n",
            "Russia\n",
            "France\n",
            "Multinational\n",
            "United States of America\n",
            "United States of America\n",
            "Japan\n",
            "Multinational\n",
            "Russia\n",
            "Canada\n",
            "Multinational\n",
            "Finland\n",
            "Finland\n",
            "Multinational\n",
            "Canada\n",
            "Canada\n",
            "United States of America\n",
            "United States of America\n",
            "United States of America\n",
            "United States of America\n",
            "United States of America\n",
            "Russia\n",
            "Israel\n",
            "United States of America\n",
            "United States of America\n",
            "United States of America\n",
            "United States of America\n",
            "Canada\n",
            "Multinational\n",
            "United States of America\n",
            "China\n",
            "China\n",
            "United States of America\n",
            "United States of America\n",
            "United States of America\n",
            "Multinational\n",
            "United States of America\n",
            "United States of America\n",
            "Multinational\n",
            "United States of America\n",
            "United States of America\n",
            "Multinational\n",
            "United States of America\n",
            "United States of America\n",
            "Multinational\n",
            "Multinational\n",
            "United States of America\n",
            "United States of America\n",
            "United States of America\n",
            "United States of America\n",
            "France\n",
            "United States of America\n",
            "China\n",
            "China\n",
            "China\n",
            "China\n",
            "China\n",
            "China\n",
            "Multinational\n",
            "Multinational\n",
            "Multinational\n",
            "United States of America\n",
            "Multinational\n",
            "Multinational\n",
            "United States of America\n",
            "Canada\n",
            "United States of America\n",
            "United States of America\n",
            "United Kingdom of Great Britain and Northern Ireland\n",
            "China\n",
            "United States of America\n",
            "United States of America\n",
            "United States of America\n",
            "China\n",
            "Singapore\n",
            "United States of America\n",
            "China\n",
            "United States of America\n",
            "Japan\n",
            "China\n",
            "United States of America\n",
            "United States of America\n",
            "United States of America\n",
            "Multinational\n",
            "Israel\n",
            "Israel\n",
            "Israel\n",
            "Multinational\n",
            "Multinational\n",
            "United States of America\n",
            "China\n",
            "China\n",
            "Israel\n",
            "China\n",
            "Hong Kong\n",
            "Hong Kong\n",
            "China\n",
            "China\n",
            "United States of America\n",
            "Israel\n",
            "France\n",
            "Multinational\n",
            "China\n",
            "Multinational\n",
            "Japan\n",
            "China\n",
            "Japan\n",
            "Korea (Republic of)\n",
            "Multinational\n",
            "United States of America\n",
            "Multinational\n",
            "Multinational\n",
            "Multinational\n",
            "France\n",
            "Korea (Republic of)\n",
            "Multinational\n",
            "Finland\n",
            "China\n",
            "China\n",
            "Multinational\n",
            "Multinational\n",
            "United States of America\n",
            "France\n",
            "France\n",
            "Russia\n",
            "Russia\n",
            "China\n",
            "China\n",
            "United States of America\n",
            "France\n",
            "United States of America\n",
            "United States of America\n",
            "Multinational\n",
            "Multinational\n",
            "Hong Kong\n",
            "China\n",
            "Multinational\n",
            "United States of America\n",
            "United States of America\n",
            "United States of America\n",
            "United States of America\n",
            "Japan\n",
            "United States of America\n",
            "United States of America\n",
            "China\n",
            "United States of America\n",
            "Canada\n",
            "Multinational\n",
            "United States of America\n",
            "China\n",
            "United States of America\n",
            "United States of America\n",
            "United States of America\n",
            "United States of America\n",
            "United States of America\n",
            "Multinational\n",
            "Hong Kong\n",
            "United States of America\n",
            "Korea (Republic of)\n",
            "Multinational\n",
            "China\n",
            "China\n",
            "Hong Kong\n",
            "China\n",
            "Korea (Republic of)\n",
            "Korea (Republic of)\n",
            "Korea (Republic of)\n",
            "China\n",
            "United States of America\n",
            "United States of America\n",
            "Israel\n",
            "France\n",
            "Korea (Republic of)\n",
            "Korea (Republic of)\n",
            "Korea (Republic of)\n",
            "United States of America\n",
            "United States of America\n",
            "United States of America\n",
            "China\n",
            "Singapore\n",
            "China\n",
            "China\n",
            "United States of America\n",
            "United States of America\n",
            "United States of America\n",
            "China\n",
            "China\n",
            "China\n",
            "United States of America\n",
            "United States of America\n",
            "United States of America\n",
            "United States of America\n",
            "Finland\n",
            "Multinational\n",
            "Multinational\n",
            "United States of America\n",
            "United States of America\n",
            "China\n",
            "China\n",
            "Canada\n",
            "China\n",
            "China\n",
            "China\n",
            "China\n",
            "China\n",
            "China\n",
            "Japan\n",
            "China\n",
            "China\n",
            "China\n",
            "China\n",
            "China\n",
            "Korea (Republic of)\n",
            "China\n",
            "China\n",
            "United States of America\n",
            "United States of America\n",
            "Switzerland\n",
            "Austria\n",
            "United States of America\n",
            "China\n",
            "China\n",
            "Japan\n",
            "United States of America\n",
            "China\n",
            "China\n",
            "United States of America\n",
            "China\n",
            "United States of America\n",
            "Multinational\n",
            "China\n",
            "United States of America\n",
            "United States of America\n",
            "France\n",
            "China\n",
            "United States of America\n",
            "Korea (Republic of)\n",
            "United Kingdom of Great Britain and Northern Ireland\n",
            "United States of America\n",
            "United States of America\n",
            "United States of America\n",
            "China\n",
            "Saudi Arabia\n",
            "United States of America\n",
            "Japan\n",
            "Singapore\n",
            "Singapore\n",
            "Korea (Republic of)\n",
            "China\n",
            "Hong Kong\n",
            "Hong Kong\n",
            "Multinational\n",
            "China\n",
            "United States of America\n",
            "China\n",
            "Japan\n",
            "Singapore\n",
            "United States of America\n",
            "China\n",
            "United States of America\n",
            "Multinational\n",
            "Multinational\n",
            "China\n",
            "China\n",
            "China\n",
            "China\n",
            "China\n",
            "Multinational\n",
            "Israel\n",
            "China\n",
            "United States of America\n",
            "United States of America\n",
            "China\n",
            "United States of America\n",
            "Multinational\n",
            "Multinational\n",
            "United States of America\n",
            "United States of America\n",
            "China\n",
            "China\n",
            "Singapore\n",
            "China\n",
            "United States of America\n",
            "United Arab Emirates\n",
            "China\n",
            "China\n",
            "China\n",
            "Multinational\n",
            "China\n",
            "Multinational\n",
            "United Arab Emirates\n",
            "United States of America\n",
            "United Kingdom of Great Britain and Northern Ireland\n",
            "United States of America\n",
            "China\n",
            "Korea (Republic of)\n",
            "China\n",
            "Hungary\n",
            "Multinational\n",
            "China\n",
            "China\n",
            "Korea (Republic of)\n",
            "Korea (Republic of)\n",
            "Korea (Republic of)\n",
            "Israel\n",
            "Korea (Republic of)\n",
            "Korea (Republic of)\n",
            "United States of America\n",
            "United States of America\n",
            "Japan\n",
            "United States of America\n",
            "Multinational\n",
            "China\n",
            "United States of America\n",
            "United States of America\n",
            "Israel\n",
            "Multinational\n",
            "China\n",
            "China\n",
            "United States of America\n",
            "Japan\n",
            "China\n",
            "United States of America\n",
            "United States of America\n",
            "United States of America\n",
            "Israel\n",
            "United States of America\n",
            "Multinational\n",
            "United States of America\n",
            "China\n",
            "Japan\n",
            "Multinational\n",
            "China\n",
            "China\n",
            "United States of America\n",
            "Multinational\n",
            "Multinational\n",
            "Korea (Republic of)\n",
            "United States of America\n",
            "United States of America\n",
            "United States of America\n",
            "United States of America\n",
            "United States of America\n",
            "China\n",
            "China\n",
            "United States of America\n",
            "China\n",
            "China\n",
            "China\n",
            "China\n",
            "China\n",
            "China\n",
            "Hong Kong\n",
            "United States of America\n",
            "China\n",
            "China\n",
            "United States of America\n",
            "China\n",
            "United States of America\n",
            "China\n",
            "Multinational\n",
            "United States of America\n",
            "China\n",
            "China\n",
            "United States of America\n",
            "United States of America\n",
            "Canada\n",
            "Canada\n",
            "Multinational\n",
            "United States of America\n",
            "China\n",
            "United States of America\n",
            "United States of America\n",
            "Multinational\n",
            "United States of America\n",
            "United States of America\n",
            "China\n",
            "China\n",
            "United States of America\n",
            "Japan\n",
            "United States of America\n",
            "United States of America\n",
            "United States of America\n",
            "United States of America\n",
            "Denmark\n",
            "Denmark\n",
            "Multinational\n",
            "Multinational\n",
            "China\n",
            "Hong Kong\n",
            "Korea (Republic of)\n",
            "Korea (Republic of)\n",
            "Korea (Republic of)\n",
            "Korea (Republic of)\n",
            "Singapore\n",
            "United States of America\n",
            "Multinational\n",
            "United States of America\n",
            "United States of America\n",
            "China\n",
            "China\n",
            "China\n",
            "United States of America\n",
            "United States of America\n",
            "United States of America\n",
            "China\n",
            "Japan\n",
            "Korea (Republic of)\n",
            "Korea (Republic of)\n",
            "Korea (Republic of)\n",
            "United States of America\n",
            "Hong Kong\n",
            "Singapore\n",
            "United States of America\n",
            "Multinational\n",
            "United States of America\n",
            "United States of America\n",
            "Canada\n",
            "United States of America\n",
            "United States of America\n",
            "Germany\n",
            "Germany\n",
            "United Kingdom of Great Britain and Northern Ireland\n",
            "United States of America\n",
            "Singapore\n",
            "Israel\n",
            "Australia\n",
            "Australia\n",
            "Australia\n",
            "Canada\n",
            "United States of America\n",
            "Canada\n",
            "United States of America\n",
            "Germany\n",
            "United States of America\n",
            "United States of America\n",
            "Sweden\n",
            "Multinational\n",
            "United States of America\n",
            "United States of America\n",
            "United States of America\n",
            "India\n",
            "India\n",
            "Multinational\n",
            "Spain\n",
            "United States of America\n",
            "Israel\n",
            "United Kingdom of Great Britain and Northern Ireland\n",
            "United States of America\n",
            "Multinational\n",
            "Germany\n",
            "United States of America\n",
            "United States of America\n",
            "Singapore\n",
            "United States of America\n",
            "United States of America\n",
            "Israel\n",
            "Israel\n",
            "United States of America\n",
            "United States of America\n",
            "Multinational\n",
            "United States of America\n",
            "China\n",
            "United Arab Emirates\n",
            "United States of America\n",
            "China\n",
            "Russia\n",
            "China\n",
            "United States of America\n",
            "United States of America\n",
            "United States of America\n",
            "United States of America\n",
            "United States of America\n",
            "France\n",
            "United States of America\n",
            "United States of America\n",
            "Hong Kong\n",
            "United States of America\n",
            "United States of America\n",
            "United States of America\n",
            "United States of America\n",
            "United States of America\n",
            "United States of America\n",
            "Multinational\n",
            "United States of America\n",
            "Multinational\n",
            "United States of America\n",
            "United Kingdom of Great Britain and Northern Ireland\n",
            "India\n",
            "Multinational\n",
            "United States of America\n",
            "Netherlands\n",
            "Multinational\n",
            "United States of America\n",
            "United Kingdom of Great Britain and Northern Ireland\n",
            "India\n",
            "Multinational\n",
            "United States of America\n",
            "Netherlands\n",
            "Multinational\n",
            "United States of America\n",
            "United Kingdom of Great Britain and Northern Ireland\n",
            "India\n",
            "Multinational\n",
            "United States of America\n",
            "Netherlands\n",
            "Multinational\n",
            "United States of America\n",
            "United Kingdom of Great Britain and Northern Ireland\n",
            "India\n",
            "Multinational\n",
            "United States of America\n",
            "Netherlands\n",
            "Multinational\n",
            "United States of America\n",
            "United Kingdom of Great Britain and Northern Ireland\n",
            "India\n",
            "Multinational\n",
            "United States of America\n",
            "Netherlands\n",
            "Multinational\n",
            "United States of America\n",
            "United Kingdom of Great Britain and Northern Ireland\n",
            "India\n",
            "Multinational\n",
            "United States of America\n",
            "Netherlands\n",
            "Multinational\n",
            "United States of America\n",
            "United Kingdom of Great Britain and Northern Ireland\n",
            "India\n",
            "Multinational\n",
            "United States of America\n",
            "Netherlands\n",
            "Multinational\n",
            "United States of America\n",
            "United Kingdom of Great Britain and Northern Ireland\n",
            "India\n",
            "Multinational\n",
            "United States of America\n",
            "Netherlands\n",
            "United States of America\n",
            "United States of America\n",
            "United States of America\n",
            "United States of America\n",
            "United States of America\n",
            "United States of America\n",
            "China\n",
            "China\n",
            "China\n",
            "Multinational\n",
            "France\n",
            "United States of America\n",
            "United States of America\n",
            "China\n",
            "United States of America\n",
            "United Arab Emirates\n",
            "Saudi Arabia\n",
            "Sweden\n",
            "United States of America\n",
            "United States of America\n",
            "United States of America\n",
            "Germany\n",
            "United States of America\n",
            "Israel\n",
            "United States of America\n",
            "United States of America\n",
            "United States of America\n",
            "Canada\n",
            "United States of America\n",
            "Israel\n",
            "Sweden\n",
            "United States of America\n",
            "United States of America\n",
            "United States of America\n",
            "United States of America\n",
            "United States of America\n",
            "United States of America\n",
            "Canada\n",
            "Canada\n",
            "United Kingdom of Great Britain and Northern Ireland\n",
            "United Kingdom of Great Britain and Northern Ireland\n",
            "United States of America\n",
            "United States of America\n",
            "United States of America\n",
            "United States of America\n",
            "United States of America\n",
            "United States of America\n",
            "Canada\n",
            "United States of America\n",
            "United States of America\n",
            "United States of America\n",
            "Canada\n",
            "United States of America\n",
            "United States of America\n",
            "United States of America\n",
            "Multinational\n",
            "United States of America\n",
            "United States of America\n",
            "United States of America\n",
            "Canada\n",
            "United States of America\n",
            "United States of America\n",
            "Netherlands\n",
            "United States of America\n",
            "Canada\n",
            "Canada\n",
            "United Kingdom of Great Britain and Northern Ireland\n",
            "Germany\n",
            "United States of America\n",
            "Germany\n",
            "United States of America\n",
            "United States of America\n",
            "Germany\n",
            "Multinational\n",
            "United States of America\n",
            "United States of America\n",
            "United States of America\n",
            "United States of America\n",
            "Multinational\n",
            "China\n",
            "United States of America\n",
            "United States of America\n",
            "Austria\n",
            "United States of America\n",
            "Austria\n",
            "Austria\n",
            "Austria\n",
            "China\n",
            "United States of America\n",
            "United States of America\n",
            "United States of America\n",
            "United States of America\n",
            "United States of America\n",
            "United States of America\n",
            "United States of America\n",
            "United States of America\n",
            "United States of America\n",
            "United Kingdom of Great Britain and Northern Ireland\n",
            "United States of America\n",
            "United States of America\n",
            "United Kingdom of Great Britain and Northern Ireland\n",
            "United States of America\n",
            "Multinational\n",
            "United States of America\n",
            "China\n",
            "United Kingdom of Great Britain and Northern Ireland\n",
            "Germany\n",
            "Spain\n",
            "United Kingdom of Great Britain and Northern Ireland\n",
            "United States of America\n",
            "China\n",
            "United States of America\n",
            "Korea (Republic of)\n",
            "Korea (Republic of)\n",
            "Korea (Republic of)\n",
            "Korea (Republic of)\n",
            "United States of America\n",
            "Korea (Republic of)\n",
            "Korea (Republic of)\n",
            "China\n",
            "Canada\n",
            "Canada\n",
            "Korea (Republic of)\n",
            "United States of America\n",
            "Germany\n",
            "United Kingdom of Great Britain and Northern Ireland\n",
            "China\n",
            "China\n",
            "China\n",
            "China\n",
            "China\n",
            "China\n",
            "China\n",
            "China\n",
            "Hong Kong\n",
            "Hong Kong\n",
            "Multinational\n",
            "Multinational\n",
            "United Kingdom of Great Britain and Northern Ireland\n",
            "United Kingdom of Great Britain and Northern Ireland\n",
            "Multinational\n",
            "Multinational\n",
            "Multinational\n",
            "United States of America\n",
            "China\n",
            "Austria\n",
            "United States of America\n",
            "United States of America\n",
            "China\n",
            "Hong Kong\n",
            "Japan\n",
            "United States of America\n",
            "United States of America\n",
            "United States of America\n",
            "United States of America\n",
            "United States of America\n",
            "United States of America\n",
            "United States of America\n",
            "United States of America\n",
            "United States of America\n",
            "United States of America\n",
            "United States of America\n",
            "United States of America\n",
            "United States of America\n",
            "United States of America\n",
            "United States of America\n",
            "China\n",
            "China\n",
            "United States of America\n",
            "United States of America\n",
            "United States of America\n",
            "Multinational\n",
            "Germany\n",
            "United States of America\n",
            "United States of America\n",
            "United States of America\n",
            "United States of America\n",
            "United States of America\n",
            "United States of America\n",
            "Singapore\n",
            "United Kingdom of Great Britain and Northern Ireland\n",
            "United States of America\n",
            "United States of America\n",
            "United States of America\n",
            "United States of America\n",
            "United States of America\n",
            "United States of America\n",
            "United States of America\n",
            "United Kingdom of Great Britain and Northern Ireland\n",
            "United States of America\n",
            "Israel\n",
            "Multinational\n",
            "United States of America\n",
            "United States of America\n",
            "United States of America\n",
            "United States of America\n",
            "Germany\n",
            "Canada\n",
            "United States of America\n",
            "Canada\n",
            "China\n",
            "United States of America\n",
            "Germany\n",
            "Japan\n",
            "United States of America\n",
            "China\n",
            "United States of America\n",
            "United States of America\n",
            "United States of America\n",
            "United States of America\n",
            "United States of America\n",
            "United States of America\n",
            "United States of America\n",
            "United States of America\n",
            "United States of America\n",
            "United States of America\n",
            "United States of America\n",
            "United States of America\n",
            "United States of America\n",
            "United States of America\n",
            "United States of America\n",
            "United States of America\n",
            "United States of America\n",
            "United States of America\n",
            "United States of America\n",
            "United States of America\n",
            "United States of America\n",
            "United States of America\n",
            "United States of America\n",
            "United States of America\n",
            "Hong Kong\n",
            "China\n",
            "Russia\n",
            "Russia\n",
            "France\n",
            "United States of America\n",
            "United Kingdom of Great Britain and Northern Ireland\n",
            "United States of America\n",
            "United States of America\n",
            "United States of America\n",
            "Multinational\n",
            "Multinational\n",
            "United States of America\n",
            "Multinational\n",
            "Multinational\n",
            "Multinational\n",
            "Multinational\n",
            "Multinational\n",
            "Multinational\n",
            "Multinational\n",
            "Multinational\n",
            "United States of America\n",
            "United States of America\n",
            "United States of America\n",
            "United States of America\n",
            "Sweden\n",
            "Sweden\n",
            "United States of America\n",
            "Russia\n",
            "Multinational\n",
            "China\n",
            "China\n",
            "United States of America\n",
            "United States of America\n",
            "United States of America\n",
            "United States of America\n",
            "United States of America\n",
            "United States of America\n",
            "United States of America\n",
            "United States of America\n",
            "United States of America\n",
            "United States of America\n",
            "United States of America\n",
            "United States of America\n",
            "United States of America\n",
            "United States of America\n",
            "United States of America\n",
            "Multinational\n",
            "United States of America\n",
            "Germany\n",
            "Germany\n",
            "United Kingdom of Great Britain and Northern Ireland\n",
            "Germany\n",
            "Germany\n",
            "United Kingdom of Great Britain and Northern Ireland\n",
            "United States of America\n",
            "United States of America\n",
            "China\n",
            "United States of America\n",
            "China\n",
            "Hong Kong\n",
            "United States of America\n",
            "United States of America\n",
            "Japan\n",
            "Japan\n",
            "China\n",
            "China\n",
            "United Kingdom of Great Britain and Northern Ireland\n",
            "United States of America\n",
            "Canada\n",
            "United States of America\n",
            "United States of America\n",
            "United States of America\n",
            "United States of America\n",
            "United States of America\n",
            "United States of America\n",
            "China\n",
            "United Kingdom of Great Britain and Northern Ireland\n",
            "Multinational\n",
            "United States of America\n",
            "United States of America\n",
            "United States of America\n",
            "Israel\n",
            "United States of America\n",
            "United Kingdom of Great Britain and Northern Ireland\n",
            "China\n",
            "China\n",
            "China\n",
            "China\n",
            "China\n",
            "United States of America\n",
            "United States of America\n",
            "Germany\n",
            "United States of America\n",
            "France\n",
            "Japan\n",
            "United States of America\n",
            "Multinational\n",
            "United States of America\n",
            "United States of America\n",
            "United States of America\n",
            "United States of America\n",
            "United States of America\n",
            "United States of America\n",
            "Israel\n",
            "United States of America\n",
            "Multinational\n",
            "United States of America\n",
            "United Kingdom of Great Britain and Northern Ireland\n",
            "China\n",
            "China\n",
            "China\n",
            "China\n",
            "United States of America\n",
            "Hong Kong\n",
            "United States of America\n",
            "Canada\n",
            "Canada\n",
            "United States of America\n",
            "United States of America\n",
            "Canada\n",
            "United States of America\n",
            "United States of America\n",
            "United States of America\n",
            "United States of America\n",
            "Israel\n",
            "United States of America\n",
            "United States of America\n",
            "United States of America\n",
            "Korea (Republic of)\n",
            "Korea (Republic of)\n",
            "Korea (Republic of)\n",
            "Korea (Republic of)\n",
            "Korea (Republic of)\n",
            "Korea (Republic of)\n",
            "United States of America\n",
            "United States of America\n",
            "United States of America\n",
            "United States of America\n",
            "United States of America\n",
            "Multinational\n",
            "United States of America\n",
            "United Kingdom of Great Britain and Northern Ireland\n",
            "United States of America\n",
            "Israel\n",
            "United States of America\n",
            "United States of America\n",
            "Multinational\n",
            "United Kingdom of Great Britain and Northern Ireland\n",
            "United Kingdom of Great Britain and Northern Ireland\n",
            "United Kingdom of Great Britain and Northern Ireland\n",
            "United States of America\n",
            "United States of America\n",
            "United Kingdom of Great Britain and Northern Ireland\n",
            "United Kingdom of Great Britain and Northern Ireland\n",
            "United Kingdom of Great Britain and Northern Ireland\n",
            "United Kingdom of Great Britain and Northern Ireland\n",
            "China\n",
            "United Kingdom of Great Britain and Northern Ireland\n",
            "United States of America\n",
            "United States of America\n",
            "United States of America\n",
            "Japan\n",
            "United States of America\n",
            "United States of America\n",
            "China\n",
            "Germany\n",
            "China\n",
            "China\n",
            "United States of America\n",
            "United States of America\n",
            "United States of America\n",
            "Germany\n",
            "United States of America\n",
            "United States of America\n",
            "United States of America\n",
            "United States of America\n",
            "United States of America\n",
            "United Kingdom of Great Britain and Northern Ireland\n",
            "France\n",
            "France\n",
            "Multinational\n",
            "Korea (Republic of)\n",
            "United States of America\n",
            "United States of America\n",
            "United States of America\n",
            "United States of America\n",
            "United Kingdom of Great Britain and Northern Ireland\n",
            "United Kingdom of Great Britain and Northern Ireland\n",
            "United Kingdom of Great Britain and Northern Ireland\n",
            "United States of America\n",
            "United States of America\n",
            "United States of America\n",
            "United States of America\n",
            "China\n",
            "United States of America\n",
            "United States of America\n",
            "United States of America\n",
            "United States of America\n",
            "China\n",
            "United States of America\n",
            "United States of America\n",
            "Hong Kong\n",
            "United States of America\n",
            "Hong Kong\n",
            "United States of America\n",
            "China\n",
            "Switzerland\n",
            "China\n",
            "United States of America\n",
            "United States of America\n",
            "China\n",
            "United States of America\n",
            "United States of America\n",
            "United States of America\n",
            "United States of America\n",
            "United States of America\n",
            "Switzerland\n",
            "Multinational\n",
            "Korea (Republic of)\n",
            "Korea (Republic of)\n",
            "United States of America\n",
            "Japan\n",
            "United States of America\n",
            "Greece\n",
            "United States of America\n",
            "Singapore\n",
            "Germany\n",
            "United States of America\n",
            "China\n",
            "United States of America\n",
            "China\n",
            "United States of America\n",
            "United States of America\n",
            "United States of America\n",
            "United States of America\n",
            "United Kingdom of Great Britain and Northern Ireland\n",
            "Austria\n",
            "Switzerland\n",
            "Austria\n",
            "United Kingdom of Great Britain and Northern Ireland\n",
            "United Kingdom of Great Britain and Northern Ireland\n",
            "China\n",
            "China\n",
            "Singapore\n",
            "China\n",
            "China\n",
            "China\n",
            "Singapore\n",
            "China\n",
            "France\n",
            "France\n",
            "France\n",
            "United States of America\n",
            "Viet Nam\n",
            "United States of America\n",
            "Viet Nam\n",
            "France\n",
            "United States of America\n",
            "United States of America\n",
            "Viet Nam\n",
            "United States of America\n",
            "Viet Nam\n",
            "France\n",
            "United States of America\n",
            "United States of America\n",
            "Multinational\n",
            "United States of America\n",
            "China\n",
            "Canada\n",
            "China\n",
            "United States of America\n",
            "United States of America\n",
            "United States of America\n",
            "United States of America\n",
            "China\n",
            "Multinational\n",
            "United Kingdom of Great Britain and Northern Ireland\n",
            "China\n",
            "China\n",
            "China\n",
            "United States of America\n",
            "United States of America\n",
            "Korea (Republic of)\n",
            "Korea (Republic of)\n",
            "Korea (Republic of)\n",
            "United States of America\n",
            "United States of America\n",
            "China\n",
            "United States of America\n",
            "United States of America\n",
            "Multinational\n",
            "Portugal\n",
            "United Kingdom of Great Britain and Northern Ireland\n",
            "United States of America\n",
            "United States of America\n",
            "United States of America\n",
            "United States of America\n",
            "China\n",
            "China\n",
            "Multinational\n",
            "United States of America\n",
            "United States of America\n",
            "United States of America\n",
            "Israel\n",
            "China\n",
            "United States of America\n",
            "United States of America\n",
            "China\n",
            "United States of America\n",
            "United States of America\n",
            "United States of America\n",
            "United States of America\n",
            "United States of America\n",
            "France\n",
            "United Kingdom of Great Britain and Northern Ireland\n",
            "United States of America\n",
            "United States of America\n",
            "United States of America\n",
            "China\n",
            "United States of America\n",
            "Multinational\n",
            "China\n",
            "Taiwan\n",
            "China\n",
            "China\n",
            "United States of America\n",
            "United States of America\n",
            "United States of America\n",
            "United States of America\n",
            "Multinational\n",
            "United States of America\n",
            "Switzerland\n",
            "Switzerland\n",
            "Saudi Arabia\n",
            "United States of America\n",
            "United States of America\n",
            "Multinational\n",
            "United States of America\n",
            "Canada\n",
            "Canada\n",
            "United Kingdom of Great Britain and Northern Ireland\n",
            "United States of America\n",
            "Multinational\n",
            "United Kingdom of Great Britain and Northern Ireland\n",
            "United Kingdom of Great Britain and Northern Ireland\n",
            "United States of America\n",
            "China\n",
            "Hong Kong\n",
            "China\n",
            "China\n",
            "United States of America\n",
            "Multinational\n",
            "Multinational\n",
            "Multinational\n",
            "China\n",
            "China\n",
            "China\n",
            "China\n",
            "China\n",
            "United States of America\n",
            "United States of America\n",
            "Multinational\n",
            "Switzerland\n",
            "United Kingdom of Great Britain and Northern Ireland\n",
            "United States of America\n",
            "Germany\n",
            "China\n",
            "United States of America\n",
            "United States of America\n",
            "United States of America\n",
            "Korea (Republic of)\n",
            "Germany\n",
            "China\n",
            "United States of America\n",
            "United States of America\n",
            "United States of America\n",
            "Korea (Republic of)\n",
            "Germany\n",
            "United States of America\n",
            "Korea (Republic of)\n",
            "United States of America\n",
            "United States of America\n",
            "China\n",
            "France\n",
            "Multinational\n",
            "Multinational\n",
            "France\n",
            "United States of America\n",
            "United Kingdom of Great Britain and Northern Ireland\n",
            "China\n",
            "United States of America\n",
            "China\n",
            "United States of America\n",
            "United States of America\n",
            "United States of America\n",
            "United States of America\n",
            "United States of America\n",
            "United States of America\n",
            "China\n",
            "China\n",
            "United States of America\n",
            "United States of America\n",
            "United Kingdom of Great Britain and Northern Ireland\n",
            "United States of America\n",
            "United States of America\n",
            "United States of America\n",
            "United Kingdom of Great Britain and Northern Ireland\n",
            "United States of America\n",
            "United States of America\n",
            "United Kingdom of Great Britain and Northern Ireland\n",
            "United States of America\n",
            "Multinational\n",
            "Multinational\n",
            "Multinational\n",
            "Multinational\n",
            "Multinational\n",
            "Multinational\n",
            "Multinational\n",
            "China\n",
            "China\n",
            "United States of America\n",
            "China\n",
            "China\n",
            "China\n",
            "United States of America\n",
            "China\n",
            "China\n",
            "United States of America\n",
            "China\n",
            "China\n",
            "United States of America\n",
            "United States of America\n",
            "United States of America\n",
            "China\n",
            "United States of America\n",
            "Lithuania\n",
            "Sweden\n",
            "United States of America\n",
            "United Kingdom of Great Britain and Northern Ireland\n",
            "United States of America\n",
            "Israel\n",
            "Hong Kong\n",
            "China\n",
            "China\n",
            "China\n",
            "United States of America\n",
            "Multinational\n",
            "China\n",
            "China\n",
            "China\n",
            "China\n",
            "United States of America\n",
            "United States of America\n",
            "United States of America\n",
            "Switzerland\n",
            "Switzerland\n",
            "Switzerland\n",
            "Germany\n",
            "United States of America\n",
            "United States of America\n",
            "United States of America\n",
            "United Kingdom of Great Britain and Northern Ireland\n",
            "United Kingdom of Great Britain and Northern Ireland\n",
            "Netherlands\n",
            "Netherlands\n",
            "Netherlands\n",
            "Netherlands\n",
            "Netherlands\n",
            "United States of America\n",
            "France\n",
            "United States of America\n",
            "China\n",
            "United States of America\n",
            "United States of America\n",
            "United States of America\n",
            "United States of America\n",
            "United States of America\n",
            "United States of America\n",
            "United States of America\n",
            "Multinational\n",
            "Japan\n",
            "Japan\n",
            "Japan\n",
            "Japan\n",
            "Japan\n",
            "Japan\n",
            "Lebanon\n",
            "United States of America\n",
            "United States of America\n",
            "United States of America\n",
            "China\n",
            "China\n",
            "United States of America\n",
            "Taiwan\n",
            "Taiwan\n",
            "United States of America\n",
            "Taiwan\n",
            "United States of America\n",
            "Taiwan\n",
            "United States of America\n",
            "Korea (Republic of)\n",
            "United States of America\n",
            "Korea (Republic of)\n",
            "United States of America\n",
            "Germany\n",
            "United States of America\n",
            "United States of America\n",
            "China\n",
            "China\n",
            "United Kingdom of Great Britain and Northern Ireland\n",
            "China\n",
            "Canada\n",
            "France\n",
            "Canada\n",
            "United States of America\n",
            "Canada\n",
            "Switzerland\n",
            "United States of America\n",
            "Switzerland\n",
            "United States of America\n",
            "United States of America\n",
            "United States of America\n",
            "Multinational\n",
            "United States of America\n",
            "United States of America\n",
            "United States of America\n",
            "Germany\n",
            "Germany\n",
            "Germany\n",
            "Germany\n",
            "United States of America\n",
            "Multinational\n",
            "United States of America\n",
            "United States of America\n",
            "Multinational\n",
            "United States of America\n",
            "China\n",
            "United States of America\n",
            "United States of America\n",
            "Japan\n",
            "United States of America\n",
            "China\n",
            "United States of America\n",
            "China\n",
            "United States of America\n",
            "China\n",
            "United States of America\n",
            "China\n",
            "China\n",
            "China\n",
            "China\n",
            "United States of America\n",
            "United States of America\n",
            "United States of America\n",
            "United States of America\n",
            "United States of America\n",
            "United States of America\n",
            "United States of America\n",
            "United States of America\n",
            "United States of America\n",
            "United States of America\n",
            "United States of America\n",
            "United States of America\n",
            "United States of America\n",
            "United States of America\n",
            "United States of America\n",
            "China\n",
            "United States of America\n",
            "United States of America\n",
            "United States of America\n",
            "United States of America\n",
            "United States of America\n",
            "United States of America\n",
            "United Kingdom of Great Britain and Northern Ireland\n",
            "United States of America\n",
            "United Kingdom of Great Britain and Northern Ireland\n",
            "United States of America\n",
            "United States of America\n",
            "Austria\n",
            "Austria\n",
            "Norway\n",
            "United States of America\n",
            "United States of America\n",
            "United States of America\n",
            "United States of America\n",
            "United States of America\n",
            "United States of America\n",
            "United States of America\n",
            "United States of America\n",
            "Korea (Republic of)\n",
            "Korea (Republic of)\n",
            "Korea (Republic of)\n",
            "Korea (Republic of)\n",
            "United States of America\n",
            "United States of America\n",
            "United States of America\n",
            "United States of America\n",
            "United States of America\n",
            "United States of America\n",
            "United States of America\n",
            "United States of America\n",
            "United States of America\n",
            "United States of America\n",
            "United States of America\n",
            "United Kingdom of Great Britain and Northern Ireland\n",
            "United States of America\n",
            "India\n",
            "United States of America\n",
            "China\n",
            "United States of America\n",
            "Canada\n",
            "Canada\n",
            "Canada\n",
            "Canada\n",
            "United States of America\n",
            "China\n",
            "China\n",
            "China\n",
            "China\n",
            "China\n",
            "China\n",
            "China\n",
            "United States of America\n",
            "United States of America\n",
            "United States of America\n",
            "United States of America\n",
            "Canada\n",
            "China\n",
            "China\n",
            "Canada\n",
            "China\n",
            "China\n",
            "United States of America\n",
            "United States of America\n",
            "United States of America\n",
            "United States of America\n",
            "United States of America\n",
            "United States of America\n",
            "United States of America\n",
            "United States of America\n",
            "United States of America\n",
            "United States of America\n",
            "United States of America\n",
            "United Kingdom of Great Britain and Northern Ireland\n",
            "United States of America\n",
            "United States of America\n",
            "United States of America\n",
            "United States of America\n",
            "United States of America\n",
            "United States of America\n",
            "United States of America\n",
            "United States of America\n",
            "Multinational\n",
            "Multinational\n",
            "United States of America\n",
            "China\n",
            "United Kingdom of Great Britain and Northern Ireland\n",
            "United Kingdom of Great Britain and Northern Ireland\n",
            "United Kingdom of Great Britain and Northern Ireland\n",
            "China\n",
            "China\n",
            "China\n",
            "France\n",
            "France\n",
            "United States of America\n",
            "United States of America\n",
            "United States of America\n",
            "United States of America\n",
            "United States of America\n",
            "United Kingdom of Great Britain and Northern Ireland\n",
            "Canada\n",
            "United States of America\n",
            "China\n",
            "United States of America\n",
            "United States of America\n",
            "United States of America\n",
            "United Kingdom of Great Britain and Northern Ireland\n",
            "United States of America\n",
            "United States of America\n",
            "United States of America\n",
            "United States of America\n",
            "United States of America\n",
            "United States of America\n",
            "Canada\n",
            "Germany\n",
            "United States of America\n",
            "United States of America\n",
            "China\n",
            "United Kingdom of Great Britain and Northern Ireland\n",
            "Korea (Republic of)\n",
            "Korea (Republic of)\n",
            "Switzerland\n",
            "United States of America\n",
            "United States of America\n",
            "United States of America\n",
            "United States of America\n",
            "United States of America\n",
            "United States of America\n",
            "United Kingdom of Great Britain and Northern Ireland\n",
            "United Kingdom of Great Britain and Northern Ireland\n",
            "United States of America\n",
            "United States of America\n",
            "United Kingdom of Great Britain and Northern Ireland\n",
            "United States of America\n",
            "United States of America\n",
            "United States of America\n",
            "United States of America\n",
            "United States of America\n",
            "France\n",
            "France\n",
            "Switzerland\n",
            "United States of America\n",
            "United States of America\n",
            "United States of America\n",
            "United Kingdom of Great Britain and Northern Ireland\n",
            "United States of America\n",
            "China\n",
            "China\n",
            "China\n",
            "United States of America\n",
            "United States of America\n",
            "China\n",
            "China\n",
            "China\n",
            "China\n",
            "China\n",
            "China\n",
            "United States of America\n",
            "China\n",
            "Australia\n",
            "United States of America\n",
            "United States of America\n",
            "United States of America\n",
            "Multinational\n",
            "United States of America\n",
            "Multinational\n",
            "United States of America\n",
            "France\n",
            "Israel\n",
            "Switzerland\n",
            "Switzerland\n",
            "Germany\n",
            "Switzerland\n",
            "Switzerland\n",
            "Germany\n",
            "Switzerland\n",
            "Switzerland\n",
            "Germany\n",
            "United States of America\n",
            "United States of America\n",
            "United States of America\n",
            "United States of America\n",
            "United States of America\n",
            "China\n",
            "United States of America\n",
            "United Kingdom of Great Britain and Northern Ireland\n",
            "United Kingdom of Great Britain and Northern Ireland\n",
            "United Kingdom of Great Britain and Northern Ireland\n",
            "Germany\n",
            "United States of America\n",
            "United States of America\n",
            "Multinational\n",
            "United States of America\n",
            "United States of America\n",
            "United States of America\n",
            "United States of America\n",
            "United States of America\n",
            "United States of America\n",
            "Canada\n",
            "China\n",
            "Australia\n",
            "Australia\n",
            "Canada\n",
            "Japan\n",
            "Japan\n",
            "United States of America\n",
            "Spain\n",
            "United States of America\n",
            "Spain\n",
            "United States of America\n",
            "Spain\n",
            "United States of America\n",
            "China\n",
            "United States of America\n",
            "United States of America\n",
            "United States of America\n",
            "United States of America\n",
            "United States of America\n",
            "China\n",
            "China\n",
            "China\n",
            "China\n",
            "China\n",
            "China\n",
            "China\n",
            "China\n",
            "China\n",
            "China\n",
            "China\n",
            "China\n",
            "China\n",
            "China\n",
            "China\n",
            "United States of America\n",
            "United States of America\n",
            "United States of America\n",
            "Multinational\n",
            "United States of America\n",
            "United States of America\n",
            "China\n",
            "Hong Kong\n",
            "China\n",
            "United States of America\n",
            "United States of America\n",
            "Switzerland\n",
            "United States of America\n",
            "United States of America\n",
            "United States of America\n",
            "United States of America\n",
            "United States of America\n",
            "United States of America\n",
            "United States of America\n",
            "United States of America\n",
            "United States of America\n",
            "United States of America\n",
            "United States of America\n",
            "United States of America\n",
            "United States of America\n",
            "United States of America\n",
            "United States of America\n",
            "United States of America\n",
            "United States of America\n",
            "United States of America\n",
            "United States of America\n",
            "Australia\n",
            "United Kingdom of Great Britain and Northern Ireland\n",
            "United States of America\n",
            "Switzerland\n",
            "Switzerland\n",
            "United States of America\n",
            "United States of America\n",
            "United States of America\n",
            "United States of America\n",
            "China\n",
            "United States of America\n",
            "United Kingdom of Great Britain and Northern Ireland\n",
            "China\n",
            "United States of America\n",
            "United States of America\n",
            "United States of America\n",
            "United States of America\n",
            "Australia\n",
            "United Kingdom of Great Britain and Northern Ireland\n",
            "China\n",
            "United States of America\n",
            "China\n",
            "United States of America\n",
            "United States of America\n",
            "United States of America\n",
            "United States of America\n",
            "Israel\n",
            "United States of America\n",
            "United States of America\n",
            "United States of America\n",
            "United States of America\n",
            "United States of America\n",
            "United States of America\n",
            "United States of America\n",
            "United States of America\n",
            "Israel\n",
            "Multinational\n",
            "United States of America\n",
            "United States of America\n",
            "United States of America\n",
            "United States of America\n",
            "United States of America\n",
            "Russia\n",
            "Russia\n",
            "Russia\n",
            "Russia\n",
            "United Kingdom of Great Britain and Northern Ireland\n",
            "United Kingdom of Great Britain and Northern Ireland\n",
            "United States of America\n",
            "United States of America\n",
            "United States of America\n",
            "China\n",
            "China\n",
            "China\n",
            "China\n",
            "United States of America\n",
            "China\n",
            "United States of America\n",
            "China\n",
            "United States of America\n",
            "United States of America\n",
            "United States of America\n",
            "United States of America\n",
            "Germany\n",
            "United States of America\n",
            "United States of America\n",
            "China\n",
            "United Kingdom of Great Britain and Northern Ireland\n",
            "United States of America\n",
            "United States of America\n",
            "India\n",
            "Russia\n",
            "United States of America\n",
            "United States of America\n",
            "Korea (Republic of)\n",
            "Korea (Republic of)\n",
            "United States of America\n",
            "Germany\n",
            "Multinational\n",
            "United States of America\n",
            "Multinational\n",
            "Germany\n",
            "United States of America\n",
            "United States of America\n",
            "China\n",
            "United Kingdom of Great Britain and Northern Ireland\n",
            "United Kingdom of Great Britain and Northern Ireland\n",
            "United States of America\n",
            "Japan\n",
            "Hong Kong\n",
            "China\n",
            "Belgium\n",
            "Belgium\n",
            "United States of America\n",
            "China\n",
            "China\n",
            "China\n",
            "China\n",
            "United States of America\n",
            "United States of America\n",
            "United States of America\n",
            "United States of America\n",
            "Hong Kong\n",
            "China\n",
            "Singapore\n",
            "Japan\n",
            "Japan\n",
            "Japan\n",
            "Japan\n",
            "Japan\n",
            "Japan\n",
            "Japan\n",
            "Japan\n",
            "United States of America\n",
            "United States of America\n",
            "United States of America\n",
            "United States of America\n",
            "China\n",
            "United States of America\n",
            "China\n",
            "United States of America\n",
            "United States of America\n",
            "United States of America\n",
            "United States of America\n",
            "United States of America\n",
            "United Kingdom of Great Britain and Northern Ireland\n",
            "United Kingdom of Great Britain and Northern Ireland\n",
            "China\n",
            "China\n",
            "United States of America\n",
            "United States of America\n",
            "Russia\n",
            "Russia\n",
            "United Kingdom of Great Britain and Northern Ireland\n",
            "United States of America\n",
            "United States of America\n",
            "United Kingdom of Great Britain and Northern Ireland\n",
            "United States of America\n",
            "United Kingdom of Great Britain and Northern Ireland\n",
            "United Kingdom of Great Britain and Northern Ireland\n",
            "United States of America\n",
            "United Kingdom of Great Britain and Northern Ireland\n",
            "Israel\n",
            "Israel\n",
            "United Kingdom of Great Britain and Northern Ireland\n",
            "United Kingdom of Great Britain and Northern Ireland\n",
            "United Kingdom of Great Britain and Northern Ireland\n",
            "United Kingdom of Great Britain and Northern Ireland\n",
            "United States of America\n",
            "United States of America\n",
            "United States of America\n",
            "United States of America\n",
            "United States of America\n",
            "United States of America\n",
            "United States of America\n",
            "United States of America\n",
            "United States of America\n",
            "United States of America\n",
            "United States of America\n",
            "United States of America\n",
            "United States of America\n",
            "United States of America\n",
            "United States of America\n",
            "United States of America\n",
            "Belgium\n",
            "Belgium\n",
            "United States of America\n",
            "Multinational\n",
            "United States of America\n",
            "United States of America\n",
            "United Kingdom of Great Britain and Northern Ireland\n",
            "United Kingdom of Great Britain and Northern Ireland\n",
            "United States of America\n",
            "France\n",
            "Multinational\n",
            "United States of America\n",
            "United States of America\n",
            "United States of America\n",
            "United States of America\n",
            "Japan\n",
            "Japan\n",
            "Japan\n",
            "United Kingdom of Great Britain and Northern Ireland\n",
            "United Kingdom of Great Britain and Northern Ireland\n",
            "United States of America\n",
            "Multinational\n",
            "United States of America\n",
            "Multinational\n",
            "United Kingdom of Great Britain and Northern Ireland\n",
            "United Kingdom of Great Britain and Northern Ireland\n",
            "United States of America\n",
            "Multinational\n",
            "United States of America\n",
            "United States of America\n",
            "United States of America\n",
            "United States of America\n",
            "United States of America\n",
            "United States of America\n",
            "United Kingdom of Great Britain and Northern Ireland\n",
            "United States of America\n",
            "United States of America\n",
            "United States of America\n",
            "United States of America\n",
            "Ireland\n",
            "China\n",
            "Australia\n",
            "United States of America\n",
            "United States of America\n",
            "United States of America\n",
            "United States of America\n",
            "United States of America\n",
            "United Kingdom of Great Britain and Northern Ireland\n",
            "China\n",
            "United States of America\n",
            "United States of America\n",
            "United States of America\n",
            "Multinational\n",
            "United States of America\n",
            "United States of America\n",
            "Multinational\n",
            "United States of America\n",
            "Germany\n",
            "Germany\n",
            "United States of America\n",
            "United States of America\n",
            "Poland\n",
            "Canada\n",
            "Canada\n",
            "Canada\n",
            "Canada\n",
            "United States of America\n",
            "United States of America\n",
            "United States of America\n",
            "United States of America\n",
            "United States of America\n",
            "United States of America\n",
            "United States of America\n",
            "United States of America\n",
            "Australia\n",
            "United Kingdom of Great Britain and Northern Ireland\n",
            "Japan\n",
            "Japan\n",
            "United Kingdom of Great Britain and Northern Ireland\n",
            "United Kingdom of Great Britain and Northern Ireland\n",
            "United Kingdom of Great Britain and Northern Ireland\n",
            "United States of America\n",
            "United States of America\n",
            "Korea (Republic of)\n",
            "China\n",
            "United Kingdom of Great Britain and Northern Ireland\n",
            "United States of America\n",
            "Israel\n",
            "Germany\n",
            "Germany\n",
            "Germany\n",
            "China\n",
            "Canada\n",
            "China\n",
            "China\n",
            "Canada\n",
            "China\n",
            "China\n",
            "Canada\n",
            "China\n",
            "China\n",
            "United States of America\n",
            "China\n",
            "United States of America\n",
            "Singapore\n",
            "United States of America\n",
            "Canada\n",
            "Canada\n",
            "Canada\n",
            "Korea (Republic of)\n",
            "Korea (Republic of)\n",
            "United States of America\n",
            "United States of America\n",
            "United States of America\n",
            "United States of America\n",
            "United States of America\n",
            "China\n",
            "United States of America\n",
            "United States of America\n",
            "United States of America\n",
            "Hong Kong\n",
            "Belgium\n",
            "Belgium\n",
            "United Kingdom of Great Britain and Northern Ireland\n",
            "United Kingdom of Great Britain and Northern Ireland\n",
            "Multinational\n",
            "United States of America\n",
            "China\n",
            "United Kingdom of Great Britain and Northern Ireland\n",
            "United States of America\n",
            "Canada\n",
            "United States of America\n",
            "Multinational\n",
            "United States of America\n",
            "Korea (Republic of)\n",
            "United Kingdom of Great Britain and Northern Ireland\n",
            "United States of America\n",
            "United Kingdom of Great Britain and Northern Ireland\n",
            "United Kingdom of Great Britain and Northern Ireland\n",
            "United States of America\n",
            "Singapore\n",
            "Australia\n",
            "China\n",
            "China\n",
            "United States of America\n",
            "United States of America\n",
            "United States of America\n",
            "United Kingdom of Great Britain and Northern Ireland\n",
            "United States of America\n",
            "United States of America\n",
            "Canada\n",
            "United States of America\n",
            "United States of America\n",
            "United States of America\n",
            "Germany\n",
            "Canada\n",
            "United States of America\n",
            "United States of America\n",
            "China\n",
            "Hong Kong\n",
            "China\n",
            "China\n",
            "United States of America\n",
            "France\n",
            "Poland\n",
            "United States of America\n",
            "United States of America\n",
            "China\n",
            "Canada\n",
            "Czechia\n",
            "Czechia\n",
            "United States of America\n",
            "United Kingdom of Great Britain and Northern Ireland\n",
            "United States of America\n",
            "United States of America\n",
            "United States of America\n",
            "Switzerland\n",
            "United States of America\n",
            "United States of America\n",
            "United States of America\n",
            "United States of America\n",
            "United States of America\n",
            "United States of America\n",
            "United States of America\n",
            "United States of America\n",
            "United States of America\n",
            "United Kingdom of Great Britain and Northern Ireland\n",
            "United States of America\n",
            "United States of America\n",
            "Australia\n",
            "Australia\n",
            "Hong Kong\n",
            "United States of America\n",
            "United States of America\n",
            "Korea (Republic of)\n",
            "United States of America\n",
            "United States of America\n",
            "United States of America\n",
            "United States of America\n",
            "United States of America\n",
            "United States of America\n",
            "United States of America\n",
            "United States of America\n",
            "United States of America\n",
            "United States of America\n",
            "Australia\n",
            "United States of America\n",
            "China\n",
            "Multinational\n",
            "United States of America\n",
            "United States of America\n",
            "United States of America\n",
            "United States of America\n",
            "United States of America\n",
            "United States of America\n",
            "United Kingdom of Great Britain and Northern Ireland\n",
            "United States of America\n",
            "United States of America\n",
            "United States of America\n",
            "United States of America\n",
            "France\n",
            "United States of America\n",
            "United States of America\n",
            "United States of America\n",
            "Switzerland\n",
            "China\n",
            "Hong Kong\n",
            "United States of America\n",
            "China\n",
            "United States of America\n",
            "Multinational\n",
            "China\n",
            "Hong Kong\n",
            "China\n",
            "United States of America\n",
            "United States of America\n",
            "Belgium\n",
            "Iran (Islamic Republic of)\n",
            "France\n",
            "Iran (Islamic Republic of)\n",
            "Multinational\n",
            "Canada\n",
            "Canada\n",
            "Canada\n",
            "Canada\n",
            "Canada\n",
            "United States of America\n",
            "Switzerland\n",
            "Switzerland\n",
            "Switzerland\n",
            "Switzerland\n",
            "United States of America\n",
            "United States of America\n",
            "United States of America\n",
            "China\n",
            "United States of America\n",
            "United States of America\n",
            "Austria\n",
            "United Kingdom of Great Britain and Northern Ireland\n",
            "United States of America\n",
            "United States of America\n",
            "Canada\n",
            "China\n",
            "Australia\n",
            "Israel\n",
            "United States of America\n",
            "Canada\n",
            "Canada\n",
            "United States of America\n",
            "United States of America\n",
            "United States of America\n",
            "United States of America\n",
            "United States of America\n",
            "United States of America\n",
            "Canada\n",
            "United States of America\n",
            "United Kingdom of Great Britain and Northern Ireland\n",
            "United Kingdom of Great Britain and Northern Ireland\n",
            "Multinational\n",
            "Canada\n",
            "United States of America\n",
            "United States of America\n",
            "United States of America\n",
            "United States of America\n",
            "United States of America\n",
            "United States of America\n",
            "United Kingdom of Great Britain and Northern Ireland\n",
            "United States of America\n",
            "United States of America\n",
            "Multinational\n",
            "Switzerland\n",
            "Switzerland\n",
            "Multinational\n",
            "United Kingdom of Great Britain and Northern Ireland\n",
            "Multinational\n",
            "United Kingdom of Great Britain and Northern Ireland\n",
            "United States of America\n",
            "United States of America\n",
            "United States of America\n",
            "United States of America\n",
            "United States of America\n",
            "United States of America\n",
            "United States of America\n",
            "Canada\n",
            "United States of America\n",
            "Canada\n",
            "United States of America\n",
            "United States of America\n",
            "United States of America\n",
            "United States of America\n",
            "United States of America\n",
            "United States of America\n",
            "United States of America\n",
            "United States of America\n",
            "Multinational\n",
            "Hong Kong\n",
            "China\n",
            "China\n",
            "Canada\n",
            "United States of America\n",
            "United States of America\n",
            "United States of America\n",
            "China\n",
            "China\n",
            "Ireland\n",
            "United States of America\n",
            "United States of America\n",
            "United States of America\n",
            "United States of America\n",
            "United States of America\n",
            "United Kingdom of Great Britain and Northern Ireland\n",
            "United States of America\n",
            "China\n",
            "United States of America\n",
            "United States of America\n",
            "United States of America\n",
            "United States of America\n",
            "Netherlands\n",
            "United States of America\n",
            "Canada\n",
            "United States of America\n",
            "United States of America\n",
            "United States of America\n",
            "United Kingdom of Great Britain and Northern Ireland\n",
            "Multinational\n",
            "United States of America\n",
            "Hong Kong\n",
            "United States of America\n",
            "Canada\n",
            "United States of America\n",
            "United States of America\n",
            "United States of America\n",
            "United Kingdom of Great Britain and Northern Ireland\n",
            "United States of America\n",
            "United States of America\n",
            "United States of America\n",
            "United States of America\n",
            "United Kingdom of Great Britain and Northern Ireland\n",
            "United Kingdom of Great Britain and Northern Ireland\n",
            "Germany\n",
            "Canada\n",
            "United States of America\n",
            "United Kingdom of Great Britain and Northern Ireland\n",
            "United States of America\n",
            "United States of America\n",
            "Israel\n",
            "United States of America\n",
            "United Kingdom of Great Britain and Northern Ireland\n",
            "Canada\n",
            "United States of America\n",
            "United States of America\n",
            "China\n",
            "China\n",
            "Canada\n",
            "United Kingdom of Great Britain and Northern Ireland\n",
            "Canada\n",
            "Germany\n",
            "United States of America\n",
            "Canada\n",
            "China\n",
            "United States of America\n",
            "United States of America\n",
            "United States of America\n",
            "Canada\n",
            "United States of America\n",
            "United States of America\n",
            "Singapore\n",
            "Singapore\n",
            "Singapore\n",
            "Singapore\n",
            "United States of America\n",
            "Netherlands\n",
            "Finland\n",
            "Canada\n",
            "United Kingdom of Great Britain and Northern Ireland\n",
            "Singapore\n",
            "United States of America\n",
            "United States of America\n",
            "Canada\n",
            "France\n",
            "United States of America\n",
            "United States of America\n",
            "United States of America\n",
            "United States of America\n",
            "United States of America\n",
            "United States of America\n",
            "United States of America\n",
            "United States of America\n",
            "United Kingdom of Great Britain and Northern Ireland\n",
            "Switzerland\n",
            "Canada\n",
            "Argentina\n",
            "Netherlands\n",
            "Netherlands\n",
            "France\n",
            "France\n",
            "France\n",
            "United States of America\n",
            "United States of America\n",
            "United States of America\n",
            "Canada\n",
            "United States of America\n",
            "Italy\n",
            "Netherlands\n",
            "Canada\n",
            "Canada\n",
            "United States of America\n",
            "United States of America\n",
            "Canada\n",
            "Canada\n",
            "United States of America\n",
            "United States of America\n",
            "Canada\n",
            "Canada\n",
            "United States of America\n",
            "United States of America\n",
            "Czechia\n",
            "United States of America\n",
            "United States of America\n",
            "United States of America\n",
            "Canada\n",
            "Germany\n",
            "United States of America\n",
            "Czechia\n",
            "United States of America\n",
            "United States of America\n",
            "United States of America\n",
            "United Kingdom of Great Britain and Northern Ireland\n",
            "Canada\n",
            "Canada\n",
            "Canada\n",
            "Canada\n",
            "Switzerland\n",
            "Germany\n",
            "United States of America\n",
            "United States of America\n",
            "United States of America\n",
            "United States of America\n",
            "Israel\n",
            "United States of America\n",
            "United States of America\n",
            "France\n",
            "United States of America\n",
            "United States of America\n",
            "United States of America\n",
            "Multinational\n",
            "United States of America\n",
            "Czechia\n",
            "United States of America\n",
            "Canada\n",
            "United States of America\n",
            "United States of America\n",
            "United States of America\n",
            "Czechia\n",
            "United States of America\n",
            "Czechia\n",
            "United States of America\n",
            "France\n",
            "Canada\n",
            "Canada\n",
            "Canada\n",
            "France\n",
            "France\n",
            "United States of America\n",
            "United States of America\n",
            "Canada\n",
            "United States of America\n",
            "Canada\n",
            "Switzerland\n",
            "Switzerland\n",
            "Switzerland\n",
            "Canada\n",
            "Canada\n",
            "United States of America\n",
            "United States of America\n",
            "United States of America\n",
            "United States of America\n",
            "Canada\n",
            "United States of America\n",
            "United States of America\n",
            "United States of America\n",
            "United States of America\n",
            "United States of America\n",
            "United States of America\n",
            "United Kingdom of Great Britain and Northern Ireland\n",
            "United States of America\n",
            "United States of America\n",
            "United States of America\n",
            "United States of America\n",
            "United States of America\n",
            "United States of America\n",
            "United States of America\n",
            "United States of America\n",
            "Canada\n",
            "United States of America\n",
            "United States of America\n",
            "United States of America\n",
            "Canada\n",
            "Canada\n",
            "United States of America\n",
            "Canada\n",
            "Canada\n",
            "Canada\n",
            "United States of America\n",
            "Germany\n",
            "United States of America\n",
            "United States of America\n",
            "United States of America\n",
            "Canada\n",
            "United States of America\n",
            "United States of America\n",
            "Switzerland\n",
            "United States of America\n",
            "United States of America\n",
            "United States of America\n",
            "United States of America\n",
            "United States of America\n",
            "Switzerland\n",
            "Switzerland\n",
            "Germany\n",
            "United States of America\n",
            "Switzerland\n",
            "Switzerland\n",
            "Germany\n",
            "Poland\n",
            "United States of America\n",
            "United States of America\n",
            "United States of America\n",
            "Canada\n",
            "United States of America\n",
            "Canada\n",
            "Canada\n",
            "United States of America\n",
            "Finland\n",
            "Multinational\n",
            "United States of America\n",
            "Canada\n",
            "Singapore\n",
            "Canada\n",
            "United States of America\n",
            "Switzerland\n",
            "Germany\n",
            "United States of America\n",
            "France\n",
            "United States of America\n",
            "France\n",
            "United States of America\n",
            "United Kingdom of Great Britain and Northern Ireland\n",
            "United States of America\n",
            "United States of America\n",
            "France\n",
            "Canada\n",
            "United States of America\n",
            "United States of America\n",
            "United States of America\n",
            "United States of America\n",
            "United States of America\n",
            "Switzerland\n",
            "Germany\n",
            "France\n",
            "United States of America\n",
            "United States of America\n",
            "United States of America\n",
            "United States of America\n",
            "United States of America\n",
            "United States of America\n",
            "Mexico\n",
            "United Kingdom of Great Britain and Northern Ireland\n",
            "United States of America\n",
            "United States of America\n",
            "Korea (Republic of)\n",
            "United States of America\n",
            "United States of America\n",
            "United Kingdom of Great Britain and Northern Ireland\n",
            "United States of America\n",
            "United Kingdom of Great Britain and Northern Ireland\n",
            "United States of America\n",
            "Canada\n",
            "United States of America\n",
            "United States of America\n",
            "Korea (Republic of)\n",
            "United States of America\n",
            "Germany\n",
            "United States of America\n",
            "Switzerland\n",
            "United States of America\n",
            "United States of America\n",
            "United States of America\n",
            "United States of America\n",
            "United States of America\n",
            "United States of America\n",
            "United States of America\n",
            "United States of America\n",
            "Switzerland\n",
            "United States of America\n",
            "United Kingdom of Great Britain and Northern Ireland\n",
            "Canada\n",
            "United States of America\n",
            "United States of America\n",
            "United States of America\n",
            "United States of America\n",
            "United States of America\n",
            "United States of America\n",
            "United Kingdom of Great Britain and Northern Ireland\n",
            "Canada\n",
            "Switzerland\n",
            "United States of America\n",
            "United States of America\n",
            "United States of America\n",
            "United States of America\n",
            "United States of America\n",
            "Taiwan\n",
            "United States of America\n",
            "United States of America\n",
            "Germany\n",
            "Japan\n",
            "United Kingdom of Great Britain and Northern Ireland\n",
            "United States of America\n",
            "United States of America\n",
            "United States of America\n",
            "Germany\n",
            "United States of America\n",
            "United States of America\n",
            "United States of America\n",
            "United States of America\n",
            "United States of America\n",
            "United States of America\n",
            "United States of America\n",
            "United States of America\n",
            "United States of America\n",
            "United States of America\n",
            "France\n",
            "Italy\n",
            "Germany\n",
            "United States of America\n",
            "United States of America\n",
            "United States of America\n",
            "United States of America\n",
            "United Kingdom of Great Britain and Northern Ireland\n",
            "India\n",
            "United States of America\n",
            "United States of America\n",
            "United States of America\n",
            "Denmark\n",
            "United Kingdom of Great Britain and Northern Ireland\n",
            "United States of America\n",
            "United States of America\n",
            "United States of America\n",
            "United States of America\n",
            "United States of America\n",
            "United States of America\n",
            "Spain\n",
            "United States of America\n",
            "United States of America\n",
            "Austria\n",
            "Japan\n",
            "United States of America\n",
            "United States of America\n",
            "United States of America\n",
            "United Kingdom of Great Britain and Northern Ireland\n",
            "United States of America\n",
            "United States of America\n",
            "United States of America\n",
            "Canada\n",
            "United States of America\n",
            "United States of America\n",
            "United Kingdom of Great Britain and Northern Ireland\n",
            "United States of America\n",
            "United States of America\n",
            "United States of America\n",
            "United States of America\n",
            "United States of America\n",
            "United States of America\n",
            "United States of America\n",
            "United States of America\n",
            "United States of America\n",
            "United States of America\n",
            "United States of America\n",
            "Japan\n",
            "United States of America\n",
            "United States of America\n",
            "Finland\n",
            "Japan\n",
            "Netherlands\n",
            "United Kingdom of Great Britain and Northern Ireland\n",
            "United States of America\n",
            "Japan\n",
            "United States of America\n",
            "United States of America\n",
            "Multinational\n",
            "United States of America\n",
            "Japan\n",
            "United Kingdom of Great Britain and Northern Ireland\n",
            "United Kingdom of Great Britain and Northern Ireland\n",
            "Switzerland\n",
            "United States of America\n",
            "United States of America\n",
            "United Kingdom of Great Britain and Northern Ireland\n",
            "New Zealand\n",
            "United States of America\n",
            "United States of America\n",
            "United States of America\n",
            "Italy\n",
            "United States of America\n",
            "United States of America\n",
            "United States of America\n",
            "United States of America\n",
            "United States of America\n",
            "United States of America\n",
            "United States of America\n",
            "United States of America\n",
            "United States of America\n",
            "United States of America\n",
            "United States of America\n",
            "United States of America\n",
            "United States of America\n",
            "United States of America\n",
            "United States of America\n",
            "United States of America\n",
            "United States of America\n",
            "United States of America\n"
          ]
        }
      ],
      "source": [
        "new_rows = []\n",
        "for i, row in df.dropna(subset=['Country (from Organization)']).iterrows():\n",
        "  countries = row['Country (from Organization)']\n",
        "  countries = countries.split(',')\n",
        "  for country in countries:\n",
        "    print(country)\n",
        "    new_row = {**row}\n",
        "    new_row['Country (from Organization)'] = country\n",
        "    new_rows.append(new_row)\n",
        "\n",
        "df = pd.DataFrame(new_rows)"
      ]
    },
    {
      "cell_type": "code",
      "execution_count": null,
      "metadata": {},
      "outputs": [
        {
          "data": {
            "text/plain": [
              "array(['United States of America',\n",
              "       'United Kingdom of Great Britain and Northern Ireland',\n",
              "       'Korea (Republic of)', 'Multinational', 'France', 'China', 'Japan',\n",
              "       'United Arab Emirates', 'Hong Kong', 'Russia', 'Canada', 'Finland',\n",
              "       'Israel', 'Singapore', 'Switzerland', 'Austria', 'Saudi Arabia',\n",
              "       'Hungary', 'Denmark', 'Germany', 'Australia', 'Sweden', 'India',\n",
              "       'Spain', 'Netherlands', 'Greece', 'Viet Nam', 'Portugal', 'Taiwan',\n",
              "       'Lithuania', 'Lebanon', 'Norway', 'Belgium', 'Ireland', 'Poland',\n",
              "       'Czechia', 'Iran (Islamic Republic of)', 'Argentina', 'Italy',\n",
              "       'Mexico', 'New Zealand'], dtype=object)"
            ]
          },
          "execution_count": 38,
          "metadata": {},
          "output_type": "execute_result"
        }
      ],
      "source": [
        "df['Country (from Organization)'].unique()"
      ]
    },
    {
      "cell_type": "code",
      "execution_count": null,
      "metadata": {},
      "outputs": [
        {
          "data": {
            "text/plain": [
              "41"
            ]
          },
          "execution_count": 39,
          "metadata": {},
          "output_type": "execute_result"
        }
      ],
      "source": [
        "len(df['Country (from Organization)'].unique())"
      ]
    },
    {
      "cell_type": "code",
      "execution_count": null,
      "metadata": {},
      "outputs": [
        {
          "data": {
            "text/plain": [
              "2576"
            ]
          },
          "execution_count": 40,
          "metadata": {},
          "output_type": "execute_result"
        }
      ],
      "source": [
        "len(df)"
      ]
    },
    {
      "cell_type": "code",
      "execution_count": null,
      "metadata": {},
      "outputs": [
        {
          "data": {
            "text/plain": [
              "1406"
            ]
          },
          "execution_count": 41,
          "metadata": {},
          "output_type": "execute_result"
        }
      ],
      "source": [
        "df.dropna(subset=['Notability criteria'], inplace=True)\n",
        "len(df)"
      ]
    },
    {
      "cell_type": "code",
      "execution_count": null,
      "metadata": {},
      "outputs": [],
      "source": [
        "all_models = compare_org_openness_with_compute(df, 'Country (from Organization)')"
      ]
    },
    {
      "cell_type": "code",
      "execution_count": null,
      "metadata": {},
      "outputs": [
        {
          "data": {
            "text/html": [
              "<div>\n",
              "<style scoped>\n",
              "    .dataframe tbody tr th:only-of-type {\n",
              "        vertical-align: middle;\n",
              "    }\n",
              "\n",
              "    .dataframe tbody tr th {\n",
              "        vertical-align: top;\n",
              "    }\n",
              "\n",
              "    .dataframe thead th {\n",
              "        text-align: right;\n",
              "    }\n",
              "</style>\n",
              "<table border=\"1\" class=\"dataframe\">\n",
              "  <thead>\n",
              "    <tr style=\"text-align: right;\">\n",
              "      <th></th>\n",
              "      <th>Country (from Organization)</th>\n",
              "      <th>Max Training Compute (FLOP)</th>\n",
              "      <th>Average Training Compute (FLOP)</th>\n",
              "      <th>open_model_percentage</th>\n",
              "      <th>open_code_percentage</th>\n",
              "      <th>model_count</th>\n",
              "    </tr>\n",
              "  </thead>\n",
              "  <tbody>\n",
              "    <tr>\n",
              "      <th>0</th>\n",
              "      <td>Multinational</td>\n",
              "      <td>25.698970</td>\n",
              "      <td>22.119227</td>\n",
              "      <td>53.448276</td>\n",
              "      <td>37.931034</td>\n",
              "      <td>58</td>\n",
              "    </tr>\n",
              "    <tr>\n",
              "      <th>1</th>\n",
              "      <td>United States of America</td>\n",
              "      <td>25.579784</td>\n",
              "      <td>21.203979</td>\n",
              "      <td>50.947368</td>\n",
              "      <td>44.842105</td>\n",
              "      <td>475</td>\n",
              "    </tr>\n",
              "    <tr>\n",
              "      <th>2</th>\n",
              "      <td>China</td>\n",
              "      <td>25.079181</td>\n",
              "      <td>21.526964</td>\n",
              "      <td>45.535714</td>\n",
              "      <td>47.321429</td>\n",
              "      <td>112</td>\n",
              "    </tr>\n",
              "    <tr>\n",
              "      <th>3</th>\n",
              "      <td>France</td>\n",
              "      <td>25.049218</td>\n",
              "      <td>20.754704</td>\n",
              "      <td>70.588235</td>\n",
              "      <td>58.823529</td>\n",
              "      <td>17</td>\n",
              "    </tr>\n",
              "    <tr>\n",
              "      <th>4</th>\n",
              "      <td>United Arab Emirates</td>\n",
              "      <td>24.575188</td>\n",
              "      <td>23.481317</td>\n",
              "      <td>100.000000</td>\n",
              "      <td>0.000000</td>\n",
              "      <td>3</td>\n",
              "    </tr>\n",
              "    <tr>\n",
              "      <th>5</th>\n",
              "      <td>United Kingdom of Great Britain and Northern I...</td>\n",
              "      <td>23.800029</td>\n",
              "      <td>20.691535</td>\n",
              "      <td>21.568627</td>\n",
              "      <td>25.490196</td>\n",
              "      <td>51</td>\n",
              "    </tr>\n",
              "    <tr>\n",
              "      <th>6</th>\n",
              "      <td>Canada</td>\n",
              "      <td>23.633468</td>\n",
              "      <td>21.039008</td>\n",
              "      <td>40.909091</td>\n",
              "      <td>50.000000</td>\n",
              "      <td>22</td>\n",
              "    </tr>\n",
              "    <tr>\n",
              "      <th>7</th>\n",
              "      <td>Korea (Republic of)</td>\n",
              "      <td>23.169086</td>\n",
              "      <td>21.787130</td>\n",
              "      <td>47.368421</td>\n",
              "      <td>15.789474</td>\n",
              "      <td>19</td>\n",
              "    </tr>\n",
              "    <tr>\n",
              "      <th>8</th>\n",
              "      <td>Israel</td>\n",
              "      <td>22.927370</td>\n",
              "      <td>21.000010</td>\n",
              "      <td>75.000000</td>\n",
              "      <td>50.000000</td>\n",
              "      <td>8</td>\n",
              "    </tr>\n",
              "    <tr>\n",
              "      <th>9</th>\n",
              "      <td>India</td>\n",
              "      <td>22.927370</td>\n",
              "      <td>20.385979</td>\n",
              "      <td>66.666667</td>\n",
              "      <td>0.000000</td>\n",
              "      <td>3</td>\n",
              "    </tr>\n",
              "    <tr>\n",
              "      <th>10</th>\n",
              "      <td>Singapore</td>\n",
              "      <td>22.927370</td>\n",
              "      <td>20.817905</td>\n",
              "      <td>85.714286</td>\n",
              "      <td>57.142857</td>\n",
              "      <td>7</td>\n",
              "    </tr>\n",
              "    <tr>\n",
              "      <th>11</th>\n",
              "      <td>Spain</td>\n",
              "      <td>22.927370</td>\n",
              "      <td>22.927370</td>\n",
              "      <td>100.000000</td>\n",
              "      <td>0.000000</td>\n",
              "      <td>1</td>\n",
              "    </tr>\n",
              "    <tr>\n",
              "      <th>12</th>\n",
              "      <td>Sweden</td>\n",
              "      <td>22.927370</td>\n",
              "      <td>22.927370</td>\n",
              "      <td>50.000000</td>\n",
              "      <td>50.000000</td>\n",
              "      <td>2</td>\n",
              "    </tr>\n",
              "    <tr>\n",
              "      <th>13</th>\n",
              "      <td>Germany</td>\n",
              "      <td>22.927370</td>\n",
              "      <td>21.378424</td>\n",
              "      <td>70.833333</td>\n",
              "      <td>16.666667</td>\n",
              "      <td>24</td>\n",
              "    </tr>\n",
              "    <tr>\n",
              "      <th>14</th>\n",
              "      <td>Australia</td>\n",
              "      <td>22.927370</td>\n",
              "      <td>22.927370</td>\n",
              "      <td>50.000000</td>\n",
              "      <td>0.000000</td>\n",
              "      <td>6</td>\n",
              "    </tr>\n",
              "    <tr>\n",
              "      <th>15</th>\n",
              "      <td>Hong Kong</td>\n",
              "      <td>22.482874</td>\n",
              "      <td>20.330410</td>\n",
              "      <td>42.857143</td>\n",
              "      <td>28.571429</td>\n",
              "      <td>7</td>\n",
              "    </tr>\n",
              "    <tr>\n",
              "      <th>16</th>\n",
              "      <td>Netherlands</td>\n",
              "      <td>20.544068</td>\n",
              "      <td>20.544068</td>\n",
              "      <td>0.000000</td>\n",
              "      <td>0.000000</td>\n",
              "      <td>1</td>\n",
              "    </tr>\n",
              "    <tr>\n",
              "      <th>17</th>\n",
              "      <td>Japan</td>\n",
              "      <td>20.245018</td>\n",
              "      <td>19.018153</td>\n",
              "      <td>50.000000</td>\n",
              "      <td>50.000000</td>\n",
              "      <td>8</td>\n",
              "    </tr>\n",
              "    <tr>\n",
              "      <th>18</th>\n",
              "      <td>Taiwan</td>\n",
              "      <td>19.913814</td>\n",
              "      <td>18.831775</td>\n",
              "      <td>0.000000</td>\n",
              "      <td>50.000000</td>\n",
              "      <td>2</td>\n",
              "    </tr>\n",
              "    <tr>\n",
              "      <th>19</th>\n",
              "      <td>Switzerland</td>\n",
              "      <td>17.627366</td>\n",
              "      <td>17.627366</td>\n",
              "      <td>50.000000</td>\n",
              "      <td>75.000000</td>\n",
              "      <td>4</td>\n",
              "    </tr>\n",
              "    <tr>\n",
              "      <th>20</th>\n",
              "      <td>Ireland</td>\n",
              "      <td>17.435427</td>\n",
              "      <td>17.435427</td>\n",
              "      <td>100.000000</td>\n",
              "      <td>100.000000</td>\n",
              "      <td>1</td>\n",
              "    </tr>\n",
              "    <tr>\n",
              "      <th>21</th>\n",
              "      <td>Russia</td>\n",
              "      <td>15.283301</td>\n",
              "      <td>15.283301</td>\n",
              "      <td>0.000000</td>\n",
              "      <td>0.000000</td>\n",
              "      <td>1</td>\n",
              "    </tr>\n",
              "    <tr>\n",
              "      <th>22</th>\n",
              "      <td>Belgium</td>\n",
              "      <td>15.008600</td>\n",
              "      <td>15.008600</td>\n",
              "      <td>0.000000</td>\n",
              "      <td>0.000000</td>\n",
              "      <td>2</td>\n",
              "    </tr>\n",
              "    <tr>\n",
              "      <th>23</th>\n",
              "      <td>Austria</td>\n",
              "      <td>NaN</td>\n",
              "      <td>NaN</td>\n",
              "      <td>100.000000</td>\n",
              "      <td>100.000000</td>\n",
              "      <td>3</td>\n",
              "    </tr>\n",
              "    <tr>\n",
              "      <th>24</th>\n",
              "      <td>Finland</td>\n",
              "      <td>NaN</td>\n",
              "      <td>NaN</td>\n",
              "      <td>100.000000</td>\n",
              "      <td>0.000000</td>\n",
              "      <td>1</td>\n",
              "    </tr>\n",
              "    <tr>\n",
              "      <th>25</th>\n",
              "      <td>Norway</td>\n",
              "      <td>NaN</td>\n",
              "      <td>NaN</td>\n",
              "      <td>100.000000</td>\n",
              "      <td>100.000000</td>\n",
              "      <td>1</td>\n",
              "    </tr>\n",
              "    <tr>\n",
              "      <th>26</th>\n",
              "      <td>Saudi Arabia</td>\n",
              "      <td>NaN</td>\n",
              "      <td>NaN</td>\n",
              "      <td>0.000000</td>\n",
              "      <td>100.000000</td>\n",
              "      <td>1</td>\n",
              "    </tr>\n",
              "  </tbody>\n",
              "</table>\n",
              "</div>"
            ],
            "text/plain": [
              "                          Country (from Organization)  \\\n",
              "0                                       Multinational   \n",
              "1                            United States of America   \n",
              "2                                               China   \n",
              "3                                              France   \n",
              "4                                United Arab Emirates   \n",
              "5   United Kingdom of Great Britain and Northern I...   \n",
              "6                                              Canada   \n",
              "7                                 Korea (Republic of)   \n",
              "8                                              Israel   \n",
              "9                                               India   \n",
              "10                                          Singapore   \n",
              "11                                              Spain   \n",
              "12                                             Sweden   \n",
              "13                                            Germany   \n",
              "14                                          Australia   \n",
              "15                                          Hong Kong   \n",
              "16                                        Netherlands   \n",
              "17                                              Japan   \n",
              "18                                             Taiwan   \n",
              "19                                        Switzerland   \n",
              "20                                            Ireland   \n",
              "21                                             Russia   \n",
              "22                                            Belgium   \n",
              "23                                            Austria   \n",
              "24                                            Finland   \n",
              "25                                             Norway   \n",
              "26                                       Saudi Arabia   \n",
              "\n",
              "    Max Training Compute (FLOP)  Average Training Compute (FLOP)  \\\n",
              "0                     25.698970                        22.119227   \n",
              "1                     25.579784                        21.203979   \n",
              "2                     25.079181                        21.526964   \n",
              "3                     25.049218                        20.754704   \n",
              "4                     24.575188                        23.481317   \n",
              "5                     23.800029                        20.691535   \n",
              "6                     23.633468                        21.039008   \n",
              "7                     23.169086                        21.787130   \n",
              "8                     22.927370                        21.000010   \n",
              "9                     22.927370                        20.385979   \n",
              "10                    22.927370                        20.817905   \n",
              "11                    22.927370                        22.927370   \n",
              "12                    22.927370                        22.927370   \n",
              "13                    22.927370                        21.378424   \n",
              "14                    22.927370                        22.927370   \n",
              "15                    22.482874                        20.330410   \n",
              "16                    20.544068                        20.544068   \n",
              "17                    20.245018                        19.018153   \n",
              "18                    19.913814                        18.831775   \n",
              "19                    17.627366                        17.627366   \n",
              "20                    17.435427                        17.435427   \n",
              "21                    15.283301                        15.283301   \n",
              "22                    15.008600                        15.008600   \n",
              "23                          NaN                              NaN   \n",
              "24                          NaN                              NaN   \n",
              "25                          NaN                              NaN   \n",
              "26                          NaN                              NaN   \n",
              "\n",
              "    open_model_percentage  open_code_percentage  model_count  \n",
              "0               53.448276             37.931034           58  \n",
              "1               50.947368             44.842105          475  \n",
              "2               45.535714             47.321429          112  \n",
              "3               70.588235             58.823529           17  \n",
              "4              100.000000              0.000000            3  \n",
              "5               21.568627             25.490196           51  \n",
              "6               40.909091             50.000000           22  \n",
              "7               47.368421             15.789474           19  \n",
              "8               75.000000             50.000000            8  \n",
              "9               66.666667              0.000000            3  \n",
              "10              85.714286             57.142857            7  \n",
              "11             100.000000              0.000000            1  \n",
              "12              50.000000             50.000000            2  \n",
              "13              70.833333             16.666667           24  \n",
              "14              50.000000              0.000000            6  \n",
              "15              42.857143             28.571429            7  \n",
              "16               0.000000              0.000000            1  \n",
              "17              50.000000             50.000000            8  \n",
              "18               0.000000             50.000000            2  \n",
              "19              50.000000             75.000000            4  \n",
              "20             100.000000            100.000000            1  \n",
              "21               0.000000              0.000000            1  \n",
              "22               0.000000              0.000000            2  \n",
              "23             100.000000            100.000000            3  \n",
              "24             100.000000              0.000000            1  \n",
              "25             100.000000            100.000000            1  \n",
              "26               0.000000            100.000000            1  "
            ]
          },
          "execution_count": 43,
          "metadata": {},
          "output_type": "execute_result"
        }
      ],
      "source": [
        "all_models.head(40)"
      ]
    },
    {
      "cell_type": "code",
      "execution_count": null,
      "metadata": {},
      "outputs": [
        {
          "name": "stderr",
          "output_type": "stream",
          "text": [
            "100%|██████████| 10000/10000 [00:27<00:00, 364.84it/s]\n"
          ]
        }
      ],
      "source": [
        "country_bootstrap = bootstrap_openness(df, 'Country (from Organization)')"
      ]
    },
    {
      "cell_type": "code",
      "execution_count": null,
      "metadata": {},
      "outputs": [
        {
          "name": "stdout",
          "output_type": "stream",
          "text": [
            "open_model percentage\n",
            "United States of America: 50.99% (90% CI: 47.13 to 54.85)\n",
            "China: 45.43% (90% CI: 37.61 to 53.27)\n",
            "p-value for difference between United States of America and China: 0.0\n",
            "open_code percentage\n",
            "United States of America: 44.90% (90% CI: 41.12 to 48.66)\n",
            "China: 47.26% (90% CI: 39.37 to 54.95)\n",
            "p-value for difference between United States of America and China: 0.0\n"
          ]
        }
      ],
      "source": [
        "country1 = 'United States of America'\n",
        "country2 = 'China'\n",
        "compare_entities_on_openness(country_bootstrap, country1, country2, 'open_model')\n",
        "compare_entities_on_openness(country_bootstrap, country1, country2, 'open_code')"
      ]
    },
    {
      "cell_type": "code",
      "execution_count": null,
      "metadata": {},
      "outputs": [
        {
          "data": {
            "application/vnd.plotly.v1+json": {
              "config": {
                "plotlyServerURL": "https://plot.ly"
              },
              "data": [
                {
                  "name": "% Open Weights",
                  "type": "bar",
                  "x": [
                    "Academia (globally)",
                    "Industry (globally)",
                    "United States",
                    "China"
                  ],
                  "xaxis": "x",
                  "y": [
                    53,
                    46,
                    51,
                    46
                  ],
                  "yaxis": "y"
                },
                {
                  "name": "% Open Training Code",
                  "type": "bar",
                  "x": [
                    "Academia (globally)",
                    "Industry (globally)",
                    "United States",
                    "China"
                  ],
                  "xaxis": "x2",
                  "y": [
                    49,
                    38,
                    45,
                    47
                  ],
                  "yaxis": "y2"
                }
              ],
              "layout": {
                "annotations": [
                  {
                    "font": {
                      "size": 16
                    },
                    "showarrow": false,
                    "text": "% Open Weights by Model Affiliation",
                    "x": 0.225,
                    "xanchor": "center",
                    "xref": "paper",
                    "y": 1,
                    "yanchor": "bottom",
                    "yref": "paper"
                  },
                  {
                    "font": {
                      "size": 16
                    },
                    "showarrow": false,
                    "text": "% Open Training Code by Model Affiliation",
                    "x": 0.775,
                    "xanchor": "center",
                    "xref": "paper",
                    "y": 1,
                    "yanchor": "bottom",
                    "yref": "paper"
                  }
                ],
                "height": 500,
                "showlegend": false,
                "template": {
                  "data": {
                    "bar": [
                      {
                        "error_x": {
                          "color": "#2a3f5f"
                        },
                        "error_y": {
                          "color": "#2a3f5f"
                        },
                        "marker": {
                          "line": {
                            "color": "white",
                            "width": 0.5
                          },
                          "pattern": {
                            "fillmode": "overlay",
                            "size": 10,
                            "solidity": 0.2
                          }
                        },
                        "type": "bar"
                      }
                    ],
                    "barpolar": [
                      {
                        "marker": {
                          "line": {
                            "color": "white",
                            "width": 0.5
                          },
                          "pattern": {
                            "fillmode": "overlay",
                            "size": 10,
                            "solidity": 0.2
                          }
                        },
                        "type": "barpolar"
                      }
                    ],
                    "carpet": [
                      {
                        "aaxis": {
                          "endlinecolor": "#2a3f5f",
                          "gridcolor": "#C8D4E3",
                          "linecolor": "#C8D4E3",
                          "minorgridcolor": "#C8D4E3",
                          "startlinecolor": "#2a3f5f"
                        },
                        "baxis": {
                          "endlinecolor": "#2a3f5f",
                          "gridcolor": "#C8D4E3",
                          "linecolor": "#C8D4E3",
                          "minorgridcolor": "#C8D4E3",
                          "startlinecolor": "#2a3f5f"
                        },
                        "type": "carpet"
                      }
                    ],
                    "choropleth": [
                      {
                        "colorbar": {
                          "outlinewidth": 0,
                          "ticks": ""
                        },
                        "type": "choropleth"
                      }
                    ],
                    "contour": [
                      {
                        "colorbar": {
                          "outlinewidth": 0,
                          "ticks": ""
                        },
                        "colorscale": [
                          [
                            0,
                            "#0d0887"
                          ],
                          [
                            0.1111111111111111,
                            "#46039f"
                          ],
                          [
                            0.2222222222222222,
                            "#7201a8"
                          ],
                          [
                            0.3333333333333333,
                            "#9c179e"
                          ],
                          [
                            0.4444444444444444,
                            "#bd3786"
                          ],
                          [
                            0.5555555555555556,
                            "#d8576b"
                          ],
                          [
                            0.6666666666666666,
                            "#ed7953"
                          ],
                          [
                            0.7777777777777778,
                            "#fb9f3a"
                          ],
                          [
                            0.8888888888888888,
                            "#fdca26"
                          ],
                          [
                            1,
                            "#f0f921"
                          ]
                        ],
                        "type": "contour"
                      }
                    ],
                    "contourcarpet": [
                      {
                        "colorbar": {
                          "outlinewidth": 0,
                          "ticks": ""
                        },
                        "type": "contourcarpet"
                      }
                    ],
                    "heatmap": [
                      {
                        "colorbar": {
                          "outlinewidth": 0,
                          "ticks": ""
                        },
                        "colorscale": [
                          [
                            0,
                            "#0d0887"
                          ],
                          [
                            0.1111111111111111,
                            "#46039f"
                          ],
                          [
                            0.2222222222222222,
                            "#7201a8"
                          ],
                          [
                            0.3333333333333333,
                            "#9c179e"
                          ],
                          [
                            0.4444444444444444,
                            "#bd3786"
                          ],
                          [
                            0.5555555555555556,
                            "#d8576b"
                          ],
                          [
                            0.6666666666666666,
                            "#ed7953"
                          ],
                          [
                            0.7777777777777778,
                            "#fb9f3a"
                          ],
                          [
                            0.8888888888888888,
                            "#fdca26"
                          ],
                          [
                            1,
                            "#f0f921"
                          ]
                        ],
                        "type": "heatmap"
                      }
                    ],
                    "heatmapgl": [
                      {
                        "colorbar": {
                          "outlinewidth": 0,
                          "ticks": ""
                        },
                        "colorscale": [
                          [
                            0,
                            "#0d0887"
                          ],
                          [
                            0.1111111111111111,
                            "#46039f"
                          ],
                          [
                            0.2222222222222222,
                            "#7201a8"
                          ],
                          [
                            0.3333333333333333,
                            "#9c179e"
                          ],
                          [
                            0.4444444444444444,
                            "#bd3786"
                          ],
                          [
                            0.5555555555555556,
                            "#d8576b"
                          ],
                          [
                            0.6666666666666666,
                            "#ed7953"
                          ],
                          [
                            0.7777777777777778,
                            "#fb9f3a"
                          ],
                          [
                            0.8888888888888888,
                            "#fdca26"
                          ],
                          [
                            1,
                            "#f0f921"
                          ]
                        ],
                        "type": "heatmapgl"
                      }
                    ],
                    "histogram": [
                      {
                        "marker": {
                          "pattern": {
                            "fillmode": "overlay",
                            "size": 10,
                            "solidity": 0.2
                          }
                        },
                        "type": "histogram"
                      }
                    ],
                    "histogram2d": [
                      {
                        "colorbar": {
                          "outlinewidth": 0,
                          "ticks": ""
                        },
                        "colorscale": [
                          [
                            0,
                            "#0d0887"
                          ],
                          [
                            0.1111111111111111,
                            "#46039f"
                          ],
                          [
                            0.2222222222222222,
                            "#7201a8"
                          ],
                          [
                            0.3333333333333333,
                            "#9c179e"
                          ],
                          [
                            0.4444444444444444,
                            "#bd3786"
                          ],
                          [
                            0.5555555555555556,
                            "#d8576b"
                          ],
                          [
                            0.6666666666666666,
                            "#ed7953"
                          ],
                          [
                            0.7777777777777778,
                            "#fb9f3a"
                          ],
                          [
                            0.8888888888888888,
                            "#fdca26"
                          ],
                          [
                            1,
                            "#f0f921"
                          ]
                        ],
                        "type": "histogram2d"
                      }
                    ],
                    "histogram2dcontour": [
                      {
                        "colorbar": {
                          "outlinewidth": 0,
                          "ticks": ""
                        },
                        "colorscale": [
                          [
                            0,
                            "#0d0887"
                          ],
                          [
                            0.1111111111111111,
                            "#46039f"
                          ],
                          [
                            0.2222222222222222,
                            "#7201a8"
                          ],
                          [
                            0.3333333333333333,
                            "#9c179e"
                          ],
                          [
                            0.4444444444444444,
                            "#bd3786"
                          ],
                          [
                            0.5555555555555556,
                            "#d8576b"
                          ],
                          [
                            0.6666666666666666,
                            "#ed7953"
                          ],
                          [
                            0.7777777777777778,
                            "#fb9f3a"
                          ],
                          [
                            0.8888888888888888,
                            "#fdca26"
                          ],
                          [
                            1,
                            "#f0f921"
                          ]
                        ],
                        "type": "histogram2dcontour"
                      }
                    ],
                    "mesh3d": [
                      {
                        "colorbar": {
                          "outlinewidth": 0,
                          "ticks": ""
                        },
                        "type": "mesh3d"
                      }
                    ],
                    "parcoords": [
                      {
                        "line": {
                          "colorbar": {
                            "outlinewidth": 0,
                            "ticks": ""
                          }
                        },
                        "type": "parcoords"
                      }
                    ],
                    "pie": [
                      {
                        "automargin": true,
                        "type": "pie"
                      }
                    ],
                    "scatter": [
                      {
                        "fillpattern": {
                          "fillmode": "overlay",
                          "size": 10,
                          "solidity": 0.2
                        },
                        "type": "scatter"
                      }
                    ],
                    "scatter3d": [
                      {
                        "line": {
                          "colorbar": {
                            "outlinewidth": 0,
                            "ticks": ""
                          }
                        },
                        "marker": {
                          "colorbar": {
                            "outlinewidth": 0,
                            "ticks": ""
                          }
                        },
                        "type": "scatter3d"
                      }
                    ],
                    "scattercarpet": [
                      {
                        "marker": {
                          "colorbar": {
                            "outlinewidth": 0,
                            "ticks": ""
                          }
                        },
                        "type": "scattercarpet"
                      }
                    ],
                    "scattergeo": [
                      {
                        "marker": {
                          "colorbar": {
                            "outlinewidth": 0,
                            "ticks": ""
                          }
                        },
                        "type": "scattergeo"
                      }
                    ],
                    "scattergl": [
                      {
                        "marker": {
                          "colorbar": {
                            "outlinewidth": 0,
                            "ticks": ""
                          }
                        },
                        "type": "scattergl"
                      }
                    ],
                    "scattermapbox": [
                      {
                        "marker": {
                          "colorbar": {
                            "outlinewidth": 0,
                            "ticks": ""
                          }
                        },
                        "type": "scattermapbox"
                      }
                    ],
                    "scatterpolar": [
                      {
                        "marker": {
                          "colorbar": {
                            "outlinewidth": 0,
                            "ticks": ""
                          }
                        },
                        "type": "scatterpolar"
                      }
                    ],
                    "scatterpolargl": [
                      {
                        "marker": {
                          "colorbar": {
                            "outlinewidth": 0,
                            "ticks": ""
                          }
                        },
                        "type": "scatterpolargl"
                      }
                    ],
                    "scatterternary": [
                      {
                        "marker": {
                          "colorbar": {
                            "outlinewidth": 0,
                            "ticks": ""
                          }
                        },
                        "type": "scatterternary"
                      }
                    ],
                    "surface": [
                      {
                        "colorbar": {
                          "outlinewidth": 0,
                          "ticks": ""
                        },
                        "colorscale": [
                          [
                            0,
                            "#0d0887"
                          ],
                          [
                            0.1111111111111111,
                            "#46039f"
                          ],
                          [
                            0.2222222222222222,
                            "#7201a8"
                          ],
                          [
                            0.3333333333333333,
                            "#9c179e"
                          ],
                          [
                            0.4444444444444444,
                            "#bd3786"
                          ],
                          [
                            0.5555555555555556,
                            "#d8576b"
                          ],
                          [
                            0.6666666666666666,
                            "#ed7953"
                          ],
                          [
                            0.7777777777777778,
                            "#fb9f3a"
                          ],
                          [
                            0.8888888888888888,
                            "#fdca26"
                          ],
                          [
                            1,
                            "#f0f921"
                          ]
                        ],
                        "type": "surface"
                      }
                    ],
                    "table": [
                      {
                        "cells": {
                          "fill": {
                            "color": "#EBF0F8"
                          },
                          "line": {
                            "color": "white"
                          }
                        },
                        "header": {
                          "fill": {
                            "color": "#C8D4E3"
                          },
                          "line": {
                            "color": "white"
                          }
                        },
                        "type": "table"
                      }
                    ]
                  },
                  "layout": {
                    "annotationdefaults": {
                      "arrowcolor": "#2a3f5f",
                      "arrowhead": 0,
                      "arrowwidth": 1
                    },
                    "autotypenumbers": "strict",
                    "coloraxis": {
                      "colorbar": {
                        "outlinewidth": 0,
                        "ticks": ""
                      }
                    },
                    "colorscale": {
                      "diverging": [
                        [
                          0,
                          "#8e0152"
                        ],
                        [
                          0.1,
                          "#c51b7d"
                        ],
                        [
                          0.2,
                          "#de77ae"
                        ],
                        [
                          0.3,
                          "#f1b6da"
                        ],
                        [
                          0.4,
                          "#fde0ef"
                        ],
                        [
                          0.5,
                          "#f7f7f7"
                        ],
                        [
                          0.6,
                          "#e6f5d0"
                        ],
                        [
                          0.7,
                          "#b8e186"
                        ],
                        [
                          0.8,
                          "#7fbc41"
                        ],
                        [
                          0.9,
                          "#4d9221"
                        ],
                        [
                          1,
                          "#276419"
                        ]
                      ],
                      "sequential": [
                        [
                          0,
                          "#0d0887"
                        ],
                        [
                          0.1111111111111111,
                          "#46039f"
                        ],
                        [
                          0.2222222222222222,
                          "#7201a8"
                        ],
                        [
                          0.3333333333333333,
                          "#9c179e"
                        ],
                        [
                          0.4444444444444444,
                          "#bd3786"
                        ],
                        [
                          0.5555555555555556,
                          "#d8576b"
                        ],
                        [
                          0.6666666666666666,
                          "#ed7953"
                        ],
                        [
                          0.7777777777777778,
                          "#fb9f3a"
                        ],
                        [
                          0.8888888888888888,
                          "#fdca26"
                        ],
                        [
                          1,
                          "#f0f921"
                        ]
                      ],
                      "sequentialminus": [
                        [
                          0,
                          "#0d0887"
                        ],
                        [
                          0.1111111111111111,
                          "#46039f"
                        ],
                        [
                          0.2222222222222222,
                          "#7201a8"
                        ],
                        [
                          0.3333333333333333,
                          "#9c179e"
                        ],
                        [
                          0.4444444444444444,
                          "#bd3786"
                        ],
                        [
                          0.5555555555555556,
                          "#d8576b"
                        ],
                        [
                          0.6666666666666666,
                          "#ed7953"
                        ],
                        [
                          0.7777777777777778,
                          "#fb9f3a"
                        ],
                        [
                          0.8888888888888888,
                          "#fdca26"
                        ],
                        [
                          1,
                          "#f0f921"
                        ]
                      ]
                    },
                    "colorway": [
                      "#636efa",
                      "#EF553B",
                      "#00cc96",
                      "#ab63fa",
                      "#FFA15A",
                      "#19d3f3",
                      "#FF6692",
                      "#B6E880",
                      "#FF97FF",
                      "#FECB52"
                    ],
                    "font": {
                      "color": "#2a3f5f"
                    },
                    "geo": {
                      "bgcolor": "white",
                      "lakecolor": "white",
                      "landcolor": "white",
                      "showlakes": true,
                      "showland": true,
                      "subunitcolor": "#C8D4E3"
                    },
                    "hoverlabel": {
                      "align": "left"
                    },
                    "hovermode": "closest",
                    "mapbox": {
                      "style": "light"
                    },
                    "paper_bgcolor": "white",
                    "plot_bgcolor": "white",
                    "polar": {
                      "angularaxis": {
                        "gridcolor": "#EBF0F8",
                        "linecolor": "#EBF0F8",
                        "ticks": ""
                      },
                      "bgcolor": "white",
                      "radialaxis": {
                        "gridcolor": "#EBF0F8",
                        "linecolor": "#EBF0F8",
                        "ticks": ""
                      }
                    },
                    "scene": {
                      "xaxis": {
                        "backgroundcolor": "white",
                        "gridcolor": "#DFE8F3",
                        "gridwidth": 2,
                        "linecolor": "#EBF0F8",
                        "showbackground": true,
                        "ticks": "",
                        "zerolinecolor": "#EBF0F8"
                      },
                      "yaxis": {
                        "backgroundcolor": "white",
                        "gridcolor": "#DFE8F3",
                        "gridwidth": 2,
                        "linecolor": "#EBF0F8",
                        "showbackground": true,
                        "ticks": "",
                        "zerolinecolor": "#EBF0F8"
                      },
                      "zaxis": {
                        "backgroundcolor": "white",
                        "gridcolor": "#DFE8F3",
                        "gridwidth": 2,
                        "linecolor": "#EBF0F8",
                        "showbackground": true,
                        "ticks": "",
                        "zerolinecolor": "#EBF0F8"
                      }
                    },
                    "shapedefaults": {
                      "line": {
                        "color": "#2a3f5f"
                      }
                    },
                    "ternary": {
                      "aaxis": {
                        "gridcolor": "#DFE8F3",
                        "linecolor": "#A2B1C6",
                        "ticks": ""
                      },
                      "baxis": {
                        "gridcolor": "#DFE8F3",
                        "linecolor": "#A2B1C6",
                        "ticks": ""
                      },
                      "bgcolor": "white",
                      "caxis": {
                        "gridcolor": "#DFE8F3",
                        "linecolor": "#A2B1C6",
                        "ticks": ""
                      }
                    },
                    "title": {
                      "x": 0.05
                    },
                    "xaxis": {
                      "automargin": true,
                      "gridcolor": "#EBF0F8",
                      "linecolor": "#EBF0F8",
                      "ticks": "",
                      "title": {
                        "standoff": 15
                      },
                      "zerolinecolor": "#EBF0F8",
                      "zerolinewidth": 2
                    },
                    "yaxis": {
                      "automargin": true,
                      "gridcolor": "#EBF0F8",
                      "linecolor": "#EBF0F8",
                      "ticks": "",
                      "title": {
                        "standoff": 15
                      },
                      "zerolinecolor": "#EBF0F8",
                      "zerolinewidth": 2
                    }
                  }
                },
                "width": 1000,
                "xaxis": {
                  "anchor": "y",
                  "domain": [
                    0,
                    0.45
                  ],
                  "tickangle": 45
                },
                "xaxis2": {
                  "anchor": "y2",
                  "domain": [
                    0.55,
                    1
                  ],
                  "tickangle": 45
                },
                "yaxis": {
                  "anchor": "x",
                  "domain": [
                    0,
                    1
                  ]
                },
                "yaxis2": {
                  "anchor": "x2",
                  "domain": [
                    0,
                    1
                  ]
                }
              }
            }
          },
          "metadata": {},
          "output_type": "display_data"
        }
      ],
      "source": [
        "import plotly.subplots as sp\n",
        "import plotly.graph_objects as go\n",
        "\n",
        "# Create a 1x2 subplot for the '% open weights' and '% open training code'\n",
        "fig = sp.make_subplots(rows=1, cols=2, subplot_titles=('% Open Weights by Model Affiliation', '% Open Training Code by Model Affiliation'))\n",
        "\n",
        "# '% open weights' bar chart\n",
        "fig.add_trace(go.Bar(x=df[\"Model affiliation\"], y=df[\"% open weights\"], name='% Open Weights'), row=1, col=1)\n",
        "\n",
        "# '% open training code' bar chart\n",
        "fig.add_trace(go.Bar(x=df[\"Model affiliation\"], y=df[\"% open training code\"], name='% Open Training Code'), row=1, col=2)\n",
        "\n",
        "# Update layout for better visibility\n",
        "fig.update_layout(height=500, width=1000, showlegend=False, template='plotly_white')\n",
        "fig.update_xaxes(tickangle=45)\n",
        "\n",
        "save_plot(fig, results_dir, 'percent_open_weights_and_code_by_affiliation')\n",
        "\n",
        "# Display the plot\n",
        "fig.show()"
      ]
    }
  ],
  "metadata": {
    "colab": {
      "provenance": []
    },
    "kernelspec": {
      "display_name": "Python 3",
      "name": "python3"
    },
    "language_info": {
      "codemirror_mode": {
        "name": "ipython",
        "version": 3
      },
      "file_extension": ".py",
      "mimetype": "text/x-python",
      "name": "python",
      "nbconvert_exporter": "python",
      "pygments_lexer": "ipython3",
      "version": "3.12.3"
    }
  },
  "nbformat": 4,
  "nbformat_minor": 0
}
