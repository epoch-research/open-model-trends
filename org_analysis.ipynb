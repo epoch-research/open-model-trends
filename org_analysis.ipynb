{
  "cells": [
    {
      "cell_type": "code",
      "execution_count": 1,
      "metadata": {
        "id": "z2fPIb6IKqjE"
      },
      "outputs": [],
      "source": [
        "from collections import defaultdict\n",
        "import numpy as np\n",
        "import os\n",
        "import pandas as pd\n",
        "import plotly.graph_objects as go\n",
        "\n",
        "from plotting import *"
      ]
    },
    {
      "cell_type": "code",
      "execution_count": 2,
      "metadata": {},
      "outputs": [],
      "source": [
        "results_dir = 'results/org_analysis/'\n",
        "os.makedirs(results_dir, exist_ok=True)\n",
        "\n",
        "url = \"data/ML Systems-Org view.csv\"\n",
        "\n",
        "df = pd.read_csv(url)\n",
        "\n",
        "cutoff_date = '2018-01-01'"
      ]
    },
    {
      "cell_type": "code",
      "execution_count": 3,
      "metadata": {
        "colab": {
          "base_uri": "https://localhost:8080/",
          "height": 481
        },
        "id": "TyF8JrAigrLI",
        "outputId": "15c8ffb3-2b58-4cdb-a400-01fdb8c67c11"
      },
      "outputs": [
        {
          "data": {
            "text/html": [
              "<div>\n",
              "<style scoped>\n",
              "    .dataframe tbody tr th:only-of-type {\n",
              "        vertical-align: middle;\n",
              "    }\n",
              "\n",
              "    .dataframe tbody tr th {\n",
              "        vertical-align: top;\n",
              "    }\n",
              "\n",
              "    .dataframe thead th {\n",
              "        text-align: right;\n",
              "    }\n",
              "</style>\n",
              "<table border=\"1\" class=\"dataframe\">\n",
              "  <thead>\n",
              "    <tr style=\"text-align: right;\">\n",
              "      <th></th>\n",
              "      <th>System</th>\n",
              "      <th>Publication date</th>\n",
              "      <th>Notability criteria</th>\n",
              "      <th>Link</th>\n",
              "      <th>Model accessibility</th>\n",
              "      <th>Code accessibility</th>\n",
              "      <th>Training dataset</th>\n",
              "      <th>Dataset accessibility</th>\n",
              "      <th>Accessibility notes</th>\n",
              "      <th>Organization</th>\n",
              "      <th>Training compute (FLOP)</th>\n",
              "      <th>Country (from Organization)</th>\n",
              "      <th>Organization categorization</th>\n",
              "    </tr>\n",
              "  </thead>\n",
              "  <tbody>\n",
              "    <tr>\n",
              "      <th>0</th>\n",
              "      <td>Grok-2</td>\n",
              "      <td>2024-08-13</td>\n",
              "      <td>NaN</td>\n",
              "      <td>https://x.ai/blog/grok-2</td>\n",
              "      <td>Hosted access (no API)</td>\n",
              "      <td>Unreleased</td>\n",
              "      <td>NaN</td>\n",
              "      <td>NaN</td>\n",
              "      <td>NaN</td>\n",
              "      <td>xAI</td>\n",
              "      <td>NaN</td>\n",
              "      <td>United States of America</td>\n",
              "      <td>Industry</td>\n",
              "    </tr>\n",
              "    <tr>\n",
              "      <th>1</th>\n",
              "      <td>Grok-2 mini</td>\n",
              "      <td>2024-08-13</td>\n",
              "      <td>NaN</td>\n",
              "      <td>https://x.ai/blog/grok-2</td>\n",
              "      <td>Hosted access (no API)</td>\n",
              "      <td>Unreleased</td>\n",
              "      <td>NaN</td>\n",
              "      <td>NaN</td>\n",
              "      <td>NaN</td>\n",
              "      <td>xAI</td>\n",
              "      <td>NaN</td>\n",
              "      <td>United States of America</td>\n",
              "      <td>Industry</td>\n",
              "    </tr>\n",
              "    <tr>\n",
              "      <th>2</th>\n",
              "      <td>Cosine Genie</td>\n",
              "      <td>2024-08-12</td>\n",
              "      <td>NaN</td>\n",
              "      <td>https://cosine.sh/blog/genie-technical-report</td>\n",
              "      <td>Unreleased</td>\n",
              "      <td>NaN</td>\n",
              "      <td>Unspecified unreleased</td>\n",
              "      <td>NaN</td>\n",
              "      <td>https://github.com/CosineAI/experiments/tree/c...</td>\n",
              "      <td>Cosine</td>\n",
              "      <td>NaN</td>\n",
              "      <td>United Kingdom of Great Britain and Northern I...</td>\n",
              "      <td>Industry</td>\n",
              "    </tr>\n",
              "    <tr>\n",
              "      <th>3</th>\n",
              "      <td>EXAONE 3.0</td>\n",
              "      <td>2024-08-07</td>\n",
              "      <td>NaN</td>\n",
              "      <td>https://arxiv.org/abs/2408.03541</td>\n",
              "      <td>Open access (non-commercial)</td>\n",
              "      <td>NaN</td>\n",
              "      <td>Unspecified unreleased</td>\n",
              "      <td>NaN</td>\n",
              "      <td>NaN</td>\n",
              "      <td>LG</td>\n",
              "      <td>4.000000e+23</td>\n",
              "      <td>Korea (Republic of)</td>\n",
              "      <td>Industry</td>\n",
              "    </tr>\n",
              "    <tr>\n",
              "      <th>4</th>\n",
              "      <td>Flux.1 [pro]</td>\n",
              "      <td>2024-08-01</td>\n",
              "      <td>NaN</td>\n",
              "      <td>https://blackforestlabs.ai/announcing-black-fo...</td>\n",
              "      <td>API access</td>\n",
              "      <td>Unreleased</td>\n",
              "      <td>NaN</td>\n",
              "      <td>Unreleased</td>\n",
              "      <td>NaN</td>\n",
              "      <td>Black Forest Labs</td>\n",
              "      <td>NaN</td>\n",
              "      <td>NaN</td>\n",
              "      <td>NaN</td>\n",
              "    </tr>\n",
              "  </tbody>\n",
              "</table>\n",
              "</div>"
            ],
            "text/plain": [
              "         System Publication date Notability criteria  \\\n",
              "0        Grok-2       2024-08-13                 NaN   \n",
              "1   Grok-2 mini       2024-08-13                 NaN   \n",
              "2  Cosine Genie       2024-08-12                 NaN   \n",
              "3    EXAONE 3.0       2024-08-07                 NaN   \n",
              "4  Flux.1 [pro]       2024-08-01                 NaN   \n",
              "\n",
              "                                                Link  \\\n",
              "0                           https://x.ai/blog/grok-2   \n",
              "1                           https://x.ai/blog/grok-2   \n",
              "2      https://cosine.sh/blog/genie-technical-report   \n",
              "3                   https://arxiv.org/abs/2408.03541   \n",
              "4  https://blackforestlabs.ai/announcing-black-fo...   \n",
              "\n",
              "            Model accessibility Code accessibility        Training dataset  \\\n",
              "0        Hosted access (no API)         Unreleased                     NaN   \n",
              "1        Hosted access (no API)         Unreleased                     NaN   \n",
              "2                    Unreleased                NaN  Unspecified unreleased   \n",
              "3  Open access (non-commercial)                NaN  Unspecified unreleased   \n",
              "4                    API access         Unreleased                     NaN   \n",
              "\n",
              "  Dataset accessibility                                Accessibility notes  \\\n",
              "0                   NaN                                                NaN   \n",
              "1                   NaN                                                NaN   \n",
              "2                   NaN  https://github.com/CosineAI/experiments/tree/c...   \n",
              "3                   NaN                                                NaN   \n",
              "4            Unreleased                                                NaN   \n",
              "\n",
              "        Organization  Training compute (FLOP)  \\\n",
              "0                xAI                      NaN   \n",
              "1                xAI                      NaN   \n",
              "2             Cosine                      NaN   \n",
              "3                 LG             4.000000e+23   \n",
              "4  Black Forest Labs                      NaN   \n",
              "\n",
              "                         Country (from Organization)  \\\n",
              "0                           United States of America   \n",
              "1                           United States of America   \n",
              "2  United Kingdom of Great Britain and Northern I...   \n",
              "3                                Korea (Republic of)   \n",
              "4                                                NaN   \n",
              "\n",
              "  Organization categorization  \n",
              "0                    Industry  \n",
              "1                    Industry  \n",
              "2                    Industry  \n",
              "3                    Industry  \n",
              "4                         NaN  "
            ]
          },
          "execution_count": 3,
          "metadata": {},
          "output_type": "execute_result"
        }
      ],
      "source": [
        "df.head()"
      ]
    },
    {
      "cell_type": "code",
      "execution_count": 4,
      "metadata": {
        "colab": {
          "base_uri": "https://localhost:8080/"
        },
        "id": "B6h2w0Eac3_2",
        "outputId": "7eb9db7f-f46e-4b14-ff8c-3ded11a52f47"
      },
      "outputs": [
        {
          "data": {
            "text/plain": [
              "array(['xAI', 'Cosine', 'LG', 'Black Forest Labs', 'Apple',\n",
              "       'Google DeepMind', 'Mistral AI', 'Meta AI', 'OpenAI', 'Alibaba',\n",
              "       'EvolutionaryScale,UC Berkeley', 'Anthropic', 'Zhipu AI',\n",
              "       'Zhipu AI,Tsinghua University', 'DeepSeek', 'Runway', 'NVIDIA',\n",
              "       'Stanford University,UC Berkeley,Toyota Research Institute,Google DeepMind,Massachusetts Institute of Technology (MIT),Physical Intelligence',\n",
              "       'Microsoft,University of Illinois Urbana-Champaign (UIUC)',\n",
              "       'Facebook AI Research', 'Columbia University,Rutgers University',\n",
              "       '01.AI',\n",
              "       'Tohoku University,CyberAgent,Tokyo Institute of Technology,Fujitsu,RIKEN,Nagoya University,Kotoba Technologies',\n",
              "       'Technology Innovation Institute', 'Tokyo Institute of Technology',\n",
              "       'Microsoft', 'SenseTime', 'Sber', 'Reka AI',\n",
              "       'NTT Communication Science Laboratories', 'Stability AI', 'Yandex',\n",
              "       'Cohere,Cohere for AI', 'Silo AI,University of Turku',\n",
              "       'Google DeepMind,McGill University,Mila - Quebec AI (originally Montreal Institute for Learning Algorithms)',\n",
              "       'Georgia Institute of Technology', 'AI21 Labs', 'Databricks',\n",
              "       'University of Maryland,Microsoft', 'Inflection AI',\n",
              "       'ByteDance,Fudan University',\n",
              "       'Hugging Face,ServiceNow,NVIDIA,BigCode', 'UC Berkeley',\n",
              "       'Stanford University,UC Berkeley,Together', 'Google',\n",
              "       'ByteDance,Peking University',\n",
              "       'Cohere for AI,Brown University,Cohere,Carnegie Mellon University (CMU),Massachusetts Institute of Technology (MIT)',\n",
              "       'DeepMind', 'Allen Institute for AI,University of Washington',\n",
              "       'University of Wisconsin Madison,ByteDance,Nanyang Technological University,UC Berkeley',\n",
              "       'Beijing Academy of Artificial Intelligence / BAAI',\n",
              "       'KARAKURI Inc.', 'Adept',\n",
              "       'Google Research,Weizmann Institute of Science,Tel Aviv University,Technion - Israel Institute of Technology',\n",
              "       'Google DeepMind,New York University (NYU)', 'Deci AI',\n",
              "       'Shanghai AI Lab,SenseTime,Chinese University of Hong Kong (CUHK),Fudan University',\n",
              "       'Meta AI,Hebrew University of Jerusalem,Kyutai', 'Lightblue',\n",
              "       'Tsinghua University', 'Elyza', 'Upstage',\n",
              "       'Google Research,Carnegie Mellon University (CMU),Google DeepMind',\n",
              "       'LightOn', 'Konan Technology',\n",
              "       'High-Performance Language Technologies (HPLT),University of Turku',\n",
              "       'Tsinghua University,Zhipu AI',\n",
              "       'XVERSE Technology,Shenzhen Yuanxiang Technology',\n",
              "       'Facebook,INRIA,UC Berkeley',\n",
              "       'Chinese University of Hong Kong (CUHK),Shanghai AI Lab',\n",
              "       'Carnegie Mellon University (CMU),Princeton University',\n",
              "       'NASA,IBM', 'IBM', 'Cohere', 'Perplexity', 'Inspur',\n",
              "       'Together,Nous Research', 'Microsoft Research',\n",
              "       'Chinese University of Hong Kong (CUHK)', 'KT',\n",
              "       'Shanghai AI Lab,Chinese University of Hong Kong (CUHK),ShanghaiTech University',\n",
              "       'Korea University,Korea Advanced Institute of Science and Technology (KAIST),LG',\n",
              "       'Fudan University,University of Maryland',\n",
              "       'Meta AI,Hebrew University of Jerusalem,LORIA', 'Samsung',\n",
              "       'IBM,NASA', 'TensorTour', 'Nanyang Technological University',\n",
              "       'Tsinghua University,Zhipu AI,Beihang University',\n",
              "       'University of Wisconsin Madison,Microsoft Research',\n",
              "       'University of Turku,Hugging Face',\n",
              "       'Google DeepMind,UC San Diego,Stanford University',\n",
              "       'ShanghaiTech University', 'vivo AI lab', 'Nanbeige LLM Lab',\n",
              "       'DeepLang AI', 'CyberAgent',\n",
              "       'University of Science and Technology of China,Alibaba',\n",
              "       'Kunlun Inc.', 'Microsoft,Microsoft Research', 'ETH Zurich',\n",
              "       'Institute of Science and Technology Austria (ISTA),Neural Magic',\n",
              "       'Dahua Technology', 'iFlytek', 'Stockmark', 'Kuaishou Technology',\n",
              "       'Baidu', 'China Mobile', 'Columbia University,Apple', 'Ant Group',\n",
              "       'University of Washington,Seoul National University,University of Sheffield',\n",
              "       'University of California Los Angeles (UCLA),Columbia University,New York University (NYU)',\n",
              "       'Zhejiang University',\n",
              "       'King Abdullah University of Science and Technology / KAUST',\n",
              "       'Stanford University,Sony',\n",
              "       'Singapore University of Technology & Design',\n",
              "       \"Huawei Noah's Ark Lab,The University of Hong Kong,Hong Kong University of Science and Technology\",\n",
              "       'Amazon', 'Preferred Networks Inc',\n",
              "       'National University of Singapore', 'Shanghai AI Lab',\n",
              "       'Cerebras Systems',\n",
              "       'Xi’an Jiaotong University,Megvii Inc,Tsinghua University,Huazhong University of Science and Technology',\n",
              "       'Beijing Academy of Artificial Intelligence / BAAI,Hugging Face',\n",
              "       'Shanghai Qi Zhi institute,Stanford University,Carnegie Mellon University (CMU),Tsinghua University',\n",
              "       'Google DeepMind,Google Research',\n",
              "       'Chinese Academy of Sciences,Harbin Institute of Technology,Nanyang Technological University,Beijing Academy of Artificial Intelligence / BAAI',\n",
              "       'Salesforce', 'Baichuan', 'Tigerobo', '360 Security Technology',\n",
              "       'Intel Labs', 'MiniMax',\n",
              "       'Cerebras Systems,Mohamed bin Zayed University of Artificial Intelligence,Inception',\n",
              "       'Refact AI', 'Carnegie Mellon University (CMU)',\n",
              "       'TAL Education Group (Xueersi)', 'NAVER',\n",
              "       'Hungarian Research Centre for Linguistics', 'Hugging Face',\n",
              "       'ByteDance', 'NCSOFT', 'SK Telecom', 'Boston University',\n",
              "       'LINE Corporation',\n",
              "       'NVIDIA,Technion - Israel Institute of Technology',\n",
              "       'Westlake University,Tsinghua University,Toyota Technological Institute at Chicago',\n",
              "       'Matsuo Lab', 'Renmin University of China',\n",
              "       'University of Washington,Stanford University,Allen Institute for AI,Hebrew University of Jerusalem,Columbia University,Google DeepMind,University of California Santa Barbara (UCSB),Research Center Juelich',\n",
              "       'K.D. Feddersen (KDF)', 'rinna', 'NetEase',\n",
              "       'Microsoft Research,Tsinghua University', 'JD.com',\n",
              "       'Beijing Academy of Artificial Intelligence / BAAI,Tsinghua University,Peking University',\n",
              "       'China Telecom', 'Huawei', 'Shanghai AI Lab,SenseTime',\n",
              "       'Tsinghua University,BioMap Research', 'NEC Laboratories',\n",
              "       'Microsoft,Xi’an Jiaotong University', 'China Unicom',\n",
              "       'Stanford University,Harvard University,Mila - Quebec AI (originally Montreal Institute for Learning Algorithms),University of Montreal / Université de Montréal',\n",
              "       'RWKV Foundation', 'FlagAlpha', 'MosaicML',\n",
              "       'Google DeepMind,Google', 'AI inside', 'Together', 'Magic',\n",
              "       'UC Berkeley,Toyota Technological Institute at Chicago',\n",
              "       'Technical University of Denmark,University of Copenhagen',\n",
              "       'EleutherAI', 'Google Research', 'Caldera AI',\n",
              "       'Shenzhen Research Institue of Big Data,Chinese University of Hong Kong (CUHK)',\n",
              "       'University of Washington', 'Du Xiaoman',\n",
              "       'Alibaba,Huazhong University of Science and Technology',\n",
              "       'University of Minnesota,Grammarly', 'WeChat AI',\n",
              "       'NAVER,Naver AI Lab',\n",
              "       'Salesforce Research,Hong Kong University of Science and Technology,Nanyang Technological University',\n",
              "       'Hugging Face,ServiceNow,Northeastern University,Mila - Quebec AI (originally Montreal Institute for Learning Algorithms),Carnegie Mellon University (CMU),Johns Hopkins University,Leipzig University,ScaDS.AI,Queen Mary University of London,Roblox,Sea AI Lab,Technion - Israel Institute of Technology,Monash University,CSIRO,Data61,McGill University,Saama,University of British Columbia (UBC),Massachusetts Institute of Technology (MIT),Technical University of Munich,IBM,University of Vermont,UnfoldML,SAP,University of Notre Dame,Columbia University,New York University (NYU),University of Allahabad,Discover Dollar,Toloka,Telefonica,Stanford University,Weizmann Institute of Science,Alan Turing Institute,Wellesley College,EleutherAI,Forschungszentrum Julich',\n",
              "       'NVIDIA,Tel Aviv University,Bar-Ilan University',\n",
              "       'OpenLM Research', 'Microsoft,Peking University',\n",
              "       'Fudan University',\n",
              "       'University of Wisconsin Madison,Microsoft Research,Columbia University',\n",
              "       'Facebook AI Research,INRIA',\n",
              "       'Facebook AI Research,University of Washington,UC Berkeley,Carnegie Mellon University (CMU),Toyota Technological Institute at Chicago',\n",
              "       'Harvard University',\n",
              "       'EleutherAI,\"Booz Allen Hamilton, McLean\",University of Cambridge,\"Indraprastha Institute of Information Technology\\nDelhi\",Stability AI,datasaur.ai,University of Amsterdam',\n",
              "       'Large Model Systems Organization,UC Berkeley',\n",
              "       'Bloomberg,Johns Hopkins University',\n",
              "       'Nanjing University,Shenzhen Institute of Advanced Technology,Shanghai AI Lab',\n",
              "       'Adobe', \"Huawei Noah's Ark Lab\",\n",
              "       'King Abdullah University of Science and Technology / KAUST,Karolinska Institute',\n",
              "       'Google,TU Berlin', 'Meta AI,Hebrew University of Jerusalem',\n",
              "       'Google Brain', 'New York University (NYU),UC Berkeley', 'Writer',\n",
              "       'AI Sweden',\n",
              "       'Stanford University,University of Montreal / Université de Montréal,Mila - Quebec AI (originally Montreal Institute for Learning Algorithms)',\n",
              "       'University of Oxford,DeepMind',\n",
              "       'Google,University of California Los Angeles (UCLA)',\n",
              "       'UC Berkeley,California Institute of Technology,University of Toronto,University of Wisconsin Madison,Texas A&M,NVIDIA,Mila - Quebec AI (originally Montreal Institute for Learning Algorithms)',\n",
              "       'Cornell University',\n",
              "       'Google DeepMind,Massachusetts Institute of Technology (MIT),UC Berkeley,Georgia Institute of Technology,University of Alberta',\n",
              "       'Salesforce Research', 'Utrecht University',\n",
              "       'University of Montreal / Université de Montréal', 'HEC Montreal',\n",
              "       'Technical University of Munich,Columbia University',\n",
              "       'NVIDIA,Technical University of Munich',\n",
              "       \"Hugging Face,ServiceNow,Massachusetts Institute of Technology (MIT),Wellesley College,Saama,EleutherAI,Huawei Noah's Ark Lab,Carnegie Mellon University (CMU)\",\n",
              "       'Institute of Science and Technology Austria (ISTA)',\n",
              "       'Tongji University', 'Stanford University,University at Buffalo',\n",
              "       'University of Oxford', 'University of Oxford,Harvard University',\n",
              "       'Nanjing University',\n",
              "       'Basecamp Research,Friedrich-Alexander-Universität,University of Girona',\n",
              "       'Korea Advanced Institute of Science and Technology (KAIST),NAVER',\n",
              "       'Naver Clova,Naver AI Lab',\n",
              "       'Alibaba,University of Waterloo,Vector Institute',\n",
              "       'Aleph Alpha,Graphcore',\n",
              "       'Beijing Academy of Artificial Intelligence / BAAI,Huazhong University of Science and Technology,Zhejiang University,Beijing Institute of Technology',\n",
              "       'Shanghai AI Lab,Tsinghua University,Nanjing University,SenseTime,Chinese University of Hong Kong (CUHK)',\n",
              "       'Hugging Face,BigScience', 'IDEA CCNL',\n",
              "       'University of Massachusetts Amherst',\n",
              "       'Tsinghua University,Chinese University of Hong Kong (CUHK),Nara Institute of Science and Technology',\n",
              "       'Johns Hopkins University,New York University (NYU)',\n",
              "       'University of Washington,Arizona State University,Allen Institute for AI',\n",
              "       'Google,University of Illinois Urbana-Champaign (UIUC)',\n",
              "       \"Huawei,Huawei Noah's Ark Lab\",\n",
              "       'University of Chicago,NVIDIA,Harvard University,Cerebras Systems,Technical University of Munich,California Institute of Technology',\n",
              "       'Google,Dartmouth College',\n",
              "       'Meta AI,Massachusetts Institute of Technology (MIT)',\n",
              "       'University of California Los Angeles (UCLA)', 'Jenni',\n",
              "       'University College London (UCL),University of Michigan,Google Brain',\n",
              "       'University of Notre Dame',\n",
              "       'Massachusetts Institute of Technology (MIT)',\n",
              "       'New York University (NYU)', 'Bar-Ilan University', 'LAION',\n",
              "       'Aleph Alpha',\n",
              "       'McGill University,Meta AI,Mila - Quebec AI (originally Montreal Institute for Learning Algorithms)',\n",
              "       'University of Bayreuth', 'Abeja',\n",
              "       'Massachusetts Institute of Technology (MIT),Westlake University',\n",
              "       'Meta AI,New York University (NYU),Stanford University,Massachusetts Institute of Technology (MIT)',\n",
              "       'Hong Kong Baptist University,NetEase',\n",
              "       'Moscow Institute of Physics and Technology,AIRI Artificial Intelligence Research Institute',\n",
              "       'LightOn,Harvard University,University of Oxford', 'Craiyon',\n",
              "       'Salesforce Research,Columbia University,Johns Hopkins University',\n",
              "       'AI Sweden,RISE',\n",
              "       'Ruhr University Bochum,Technische Universität Dresden,University of London',\n",
              "       'Tsinghua University,Apple,Westlake University,Chinese University of Hong Kong (CUHK)',\n",
              "       'UT Austin,Microsoft', 'LINE Corporation,Tohoku University',\n",
              "       'Tsinghua University,Beijing Academy of Artificial Intelligence / BAAI',\n",
              "       'University of Oxford,Harvard Medical School,Cohere',\n",
              "       'Princeton University', 'Princeton University,Tsinghua University',\n",
              "       'Google Research,Google Brain', 'NVIDIA,UC Berkeley',\n",
              "       'Tsinghua University,NetEase,Oppo Mobile Telecommunications',\n",
              "       'Runway,Ludwig Maximilian University', 'Waseda University',\n",
              "       'Stanford University,University at Buffalo,University of Michigan',\n",
              "       'Tel Aviv University,University of Washington,Intel Labs,Meta AI',\n",
              "       'Tsinghua University,Zhejiang Lab,Beijing Academy of Artificial Intelligence / BAAI,Alibaba',\n",
              "       'Meta AI,Chinese University of Hong Kong (CUHK)',\n",
              "       'Microsoft Research,University of Waterloo',\n",
              "       'University of Waterloo,Microsoft Research',\n",
              "       'University of Washington,Columbia University,Google,Meta AI,Tel Aviv University',\n",
              "       'Microsoft,OpenAI', 'Collaborations Pharmaceuticals',\n",
              "       'Kakao,POSTECH', 'Google,Google Brain,Google Research',\n",
              "       'Midjourney',\n",
              "       'Hebrew University of Jerusalem,Ben-Gurion University of the Negev,Deep Trading',\n",
              "       'University College London (UCL)', 'DeepMind,University of Oxford',\n",
              "       'Meta AI,University of Texas at Austin',\n",
              "       'Technical University of Munich', 'Baidu,Peng Cheng Laboratory',\n",
              "       'Heidelberg University,Runway', 'Meta AI,Facebook AI Research',\n",
              "       'Toyota Technological Institute at Chicago',\n",
              "       'Meta AI,University College London (UCL),PSL University,Université Grenoble Alpes',\n",
              "       'Stanford University,\"SambaNova Systems, Inc\",Peking University,Adobe,University at Buffalo',\n",
              "       'Chinese University of Hong Kong (CUHK),Microsoft',\n",
              "       'Microsoft Research,Peking University',\n",
              "       'ETH Zurich,Kuaishou Technology', 'Microsoft Research Asia',\n",
              "       'Facebook AI Research,New York University (NYU),UC Berkeley',\n",
              "       'Massachusetts Institute of Technology (MIT),ETH Zurich,Tencent',\n",
              "       'Kakao', 'Aristotle University of Thessaloniki',\n",
              "       'Salesforce,Nanyang Technological University',\n",
              "       'Heidelberg University', 'Stanford University',\n",
              "       'Tsinghua University,UC Berkeley,Shanghai Qi Zhi institute',\n",
              "       'Stanford University,Adobe,University at Buffalo',\n",
              "       'Harvard Medical School,University of Oxford',\n",
              "       'Johannes Kepler University,HERE Technologies,Institute of Advanced Research in Artificial Intelligence',\n",
              "       'University of Cambridge,Alan Turing Institute',\n",
              "       'Shannon.AI,Nanjing University,Nanyang Technological University,Zhejiang University',\n",
              "       \"LightOn,Laboratoire de Physique de l'Ecole Normale (LPENS),INRIA\",\n",
              "       'UC San Diego',\n",
              "       'FPT Software AI Center,University of California Los Angeles (UCLA),VinUniversity,Deezer Research,Rice University,University of Texas at Austin',\n",
              "       'Hugging Face,Brown University',\n",
              "       \"Huawei Noah's Ark Lab,McGill University\",\n",
              "       'University of Southern California,Google', 'Microsoft,NVIDIA',\n",
              "       'Google DeepMind,DeepMind',\n",
              "       'Beihang University,Microsoft Research Asia', 'Facebook',\n",
              "       'NAVER,Search Solutions',\n",
              "       'Carnegie Mellon University (CMU),UC San Diego',\n",
              "       'Peking University', 'Universidade de Lisboa (ULisboa),DeepMind',\n",
              "       'University of Washington,Facebook AI Research,Allen Institute for AI',\n",
              "       'Tsinghua University,Beijing Academy of Artificial Intelligence / BAAI,Tencent',\n",
              "       'Northeastern University', 'Chinese Academy of Sciences',\n",
              "       'Google Brain,Massachusetts Institute of Technology (MIT)',\n",
              "       'Megvii Inc',\n",
              "       'University of California Los Angeles (UCLA),University of Utah',\n",
              "       'Facebook AI Research,Georgia Institute of Technology',\n",
              "       'X-Mechanics', 'Carnegie Mellon University (CMU),Intel Labs',\n",
              "       'Microsoft Research Asia,Soochow University', 'IBM,Texas A&M',\n",
              "       'Google,Google Brain',\n",
              "       'IDSIA,SUPSI,King Abdullah University of Science and Technology / KAUST',\n",
              "       'Google,Google Research,Google Brain',\n",
              "       'Mila - Quebec AI (originally Montreal Institute for Learning Algorithms),McGill University,DeepMind',\n",
              "       'Google Brain,Google Research', 'University of Sheffield',\n",
              "       'The University of Hong Kong,Sun Yat-sen University,Shanghai AI Lab',\n",
              "       'Google,Google Research', 'Google Cloud,Google Research',\n",
              "       'Tsinghua University,Alibaba DAMO Academy',\n",
              "       'Meituan University,Beijing University of Posts and Telecommunications',\n",
              "       'Peng Cheng Laboratory,University of Texas at Houston',\n",
              "       'Google AI,ETH Zurich,University of Cambridge',\n",
              "       'Technical University of Munich,Med AI Technology,NVIDIA,Oak Ridge National Laboratory,Google,Seoul National University',\n",
              "       'Technical University of Munich,NVIDIA,Seoul National University,Google,Oak Ridge National Laboratory,Med AI Technology',\n",
              "       'INRIA', 'EleutherAI,LAION', 'INRIA,Facebook AI Research',\n",
              "       'Meta AI,Carnegie Mellon University (CMU)',\n",
              "       'Microsoft Research,NVIDIA,Stanford University', 'Lenovo Research',\n",
              "       'University of Washington,Microsoft,DeepMind,Allen Institute for AI',\n",
              "       'University of Washington,Microsoft,DeepMind',\n",
              "       'Allen Institute for AI',\n",
              "       'Tsinghua University,Beijing Academy of Artificial Intelligence / BAAI,Massachusetts Institute of Technology (MIT),Shanghai Qi Zhi institute',\n",
              "       'Tsinghua University,Beijing Academy of Artificial Intelligence / BAAI,Massachusetts Institute of Technology (MIT)',\n",
              "       'Google Brain,UC Berkeley',\n",
              "       'Vilnius University,Chalmers University of Technology',\n",
              "       'University of Washington,DeepMind,Allen Institute for AI,Hebrew University of Jerusalem,The University of Hong Kong',\n",
              "       'Google Brain,Google AI', 'Tsinghua University,Alibaba', 'ASAPP',\n",
              "       'IDSIA', 'IDSIA,SUPSI', 'TU Darmstadt',\n",
              "       'Facebook AI Research,UC Berkeley,New York University (NYU)',\n",
              "       'University of Edinburgh,Toshiba Cambridge Research Laboratory',\n",
              "       'Eindhoven University of Technology,University of Twente',\n",
              "       'Eindhoven University of Technology',\n",
              "       'Meta AI,Sorbonne University', 'Google,Apple',\n",
              "       'Google Brain,Carnegie Mellon University (CMU)',\n",
              "       'National Institute of Advanced Industrial Science and Technology (AIST),The University of Tokyo',\n",
              "       'The University of Tokyo,National Institute of Advanced Industrial Science and Technology (AIST)',\n",
              "       'American University of Beirut',\n",
              "       'Google,National Tsing Hua University',\n",
              "       'National Tsing Hua University,Google',\n",
              "       'Korea University,Princeton University',\n",
              "       'Facebook AI Research,New York University (NYU)',\n",
              "       'Tsinghua University,Mila - Quebec AI (originally Montreal Institute for Learning Algorithms),HEC,CIFAR AI Research,Princeton University,University of Montreal / Université de Montréal',\n",
              "       'IDSIA,Microsoft Research', 'Indiana University Bloomington',\n",
              "       'deepset,Bayerische Staatsbibliothek Muenchen',\n",
              "       'UC Davis,Westlake University,Facebook AI',\n",
              "       'University of Washington,National Institute of Informatics',\n",
              "       'Johns Hopkins University,Xiaomi Corp',\n",
              "       'Northeastern University (China),NiuTrans Research,Chinese Academy of Sciences',\n",
              "       'University of Illinois Urbana-Champaign (UIUC),Reed College',\n",
              "       'Toyota Technological Institute at Chicago,University of Chicago',\n",
              "       'University of Washington,Allen Institute for AI,Facebook AI Research',\n",
              "       'Facebook AI',\n",
              "       'University of Chicago,Toyota Technological Institute at Chicago',\n",
              "       'University of Liverpool,University of Southern California',\n",
              "       'Johannes Kepler University Linz,Institute of Advanced Research in Artificial Intelligence,University of Oslo',\n",
              "       'Carnegie Mellon University (CMU),Facebook AI Research',\n",
              "       'Naver AI Lab,Naver Clova',\n",
              "       '\"NERSC, Lawrence Berkeley National Laboratory\",UC Berkeley',\n",
              "       'UC Berkeley,\"NERSC, Lawrence Berkeley National Laboratory\"',\n",
              "       'Facebook,New York University (NYU),University College London (UCL)',\n",
              "       'Indian Institute of Technology Delhi',\n",
              "       'Westlake University,Institute for Advanced Study,McGill University,Mila - Quebec AI (originally Montreal Institute for Learning Algorithms),CIFAR AI Research,University of Montreal / Université de Montréal',\n",
              "       'Northeastern University (China),Chinese Academy of Sciences,NiuTrans Research,Kingsoft',\n",
              "       'Northeastern University (China),NiuTrans Research,Kingsoft',\n",
              "       'University of Waterloo,Peking University,RSVP.ai',\n",
              "       'University of Waterloo,RSVP.ai,Peking University',\n",
              "       'MIT-IBM Watson AI Lab,Massachusetts Institute of Technology (MIT),IBM',\n",
              "       'Uber AI,OpenAI', 'MIT-IBM Watson AI Lab',\n",
              "       'Carnegie Mellon University (CMU),Google Brain',\n",
              "       'The Pennsylvania State University,Rochester Institute of Technology',\n",
              "       'Stanford University,Google,Google Brain',\n",
              "       'Salesforce Research,Stanford University',\n",
              "       'University of California Los Angeles (UCLA),JD.com',\n",
              "       'University of Oxford,University of Bristol,University of Cambridge',\n",
              "       'Nanjing University,Ant Group',\n",
              "       'LORIA,University of Lorraine,Facebook AI Research',\n",
              "       'Toyota Technological Institute at Chicago,Google',\n",
              "       'Carleton University', 'UC San Diego,Beihang University,Microsoft',\n",
              "       'Massachusetts Institute of Technology (MIT),Harvard University',\n",
              "       'Georgia Institute of Technology,Facebook AI Research,Oregon State University,Simon Fraser University',\n",
              "       'Beijing University of Posts and Telecommunications,University of West London',\n",
              "       'NAVER,Yonsei University,Swiss Federal Institute of Technology',\n",
              "       'Numenta,Incubator 491',\n",
              "       'University of Washington,Allen Institute for AI',\n",
              "       'Carnegie Mellon University (CMU),Google',\n",
              "       'Allen Institute for AI,Facebook AI Research',\n",
              "       'Facebook,INRIA,Sorbonne University',\n",
              "       'Ecole Polytechnique F´ed´erale de Lausanne (EPFL)',\n",
              "       'Stanford University,Facebook AI Research',\n",
              "       'Tsinghua University,Huawei,Tongji University',\n",
              "       \"Tsinghua University,Beijing University of Posts and Telecommunications,Huawei Noah's Ark Lab\",\n",
              "       'Shandong University,University of Wollongong',\n",
              "       'Facebook AI Research,Brown University',\n",
              "       'Toyota Technological Institute at Chicago,Google Research',\n",
              "       'Facebook AI Research,LORIA',\n",
              "       'Technion - Israel Institute of Technology',\n",
              "       'Ecole Polytechnique F´ed´erale de Lausanne (EPFL),Swisscom,University of Freiburg',\n",
              "       'Fraunhofer Heinrich Hertz Institute',\n",
              "       'University of Southern California', 'University of Michigan',\n",
              "       'New York University (NYU),Facebook AI Research,CIFAR AI Research',\n",
              "       'Beijing Institute of Technology,University of Technology Sydney,Monash University',\n",
              "       'University of Toronto',\n",
              "       'NTT Communication Science Laboratories,Tohoku University',\n",
              "       'Massachusetts Institute of Technology (MIT),Rey Juan Carlos University',\n",
              "       'Michigan State University,TAL Education Group (Xueersi)',\n",
              "       'Facebook,University of Washington',\n",
              "       'Tianjin University,Microsoft Research Asia,Beijing Institute of Technology',\n",
              "       'UC Berkeley,Google Brain',\n",
              "       'UC Berkeley,Covariant,Google,Chan Zuckerberg Initiative',\n",
              "       'University of Electronic Science and Technology of China,Chinese University of Hong Kong (CUHK),Peng Cheng Laboratory',\n",
              "       'Brown University,Facebook', 'Capital One',\n",
              "       'University of Texas at Austin',\n",
              "       'Massachusetts Institute of Technology (MIT),University of Illinois Urbana-Champaign (UIUC)',\n",
              "       'Cerenaut', 'DeepMind,UC Berkeley', 'IDIAP',\n",
              "       'Massachusetts Institute of Technology (MIT),Tsinghua University,MIT-IBM Watson AI Lab,DeepMind',\n",
              "       'Murdoch University', 'University of Edinburgh',\n",
              "       'Mobvoi,Williams College',\n",
              "       'Tel Aviv University,Massachusetts Institute of Technology (MIT)',\n",
              "       'Facebook AI Research,Google Brain', 'Google,Bar-Ilan University',\n",
              "       'Jane Street',\n",
              "       'Samsung R&D Institute Russia,National Research University Higher School of Economics',\n",
              "       'DeepMind,University of Oxford,Carnegie Mellon University (CMU),Google Brain',\n",
              "       'Tianjin University,Beijing Institute of Technology',\n",
              "       'Princeton University,Alibaba',\n",
              "       'University of California Los Angeles (UCLA),Megvii Inc',\n",
              "       'University of Freiburg',\n",
              "       'University of Electronic Science and Technology of China',\n",
              "       'University of Hyderabad', 'Samsung R&D Institute Russia',\n",
              "       'Samsung,Korea University',\n",
              "       'Carnegie Mellon University (CMU),Bosch Center for Artificial Intelligence,Intel Labs',\n",
              "       'Carnegie Mellon University (CMU),Intel Labs,Bosch Center for Artificial Intelligence',\n",
              "       'Heriot-Watt University,DeepMind',\n",
              "       'Nara Institute of Science and Technology,Chinese University of Hong Kong (CUHK),Tsinghua University',\n",
              "       'KU Leuven,ESAT - PSI,Apple',\n",
              "       'Peking University,Microsoft Research Asia',\n",
              "       'ASAPP,Cornell University,Google,Princeton University',\n",
              "       'Chinese University of Hong Kong (CUHK),Chinese Academy of Sciences,Nanyang Technological University',\n",
              "       'Tsinghua University,University of California Los Angeles (UCLA)',\n",
              "       'Tsinghua University,Megvii Inc',\n",
              "       'National Research University Higher School of Economics,Samsung R&D Institute Russia',\n",
              "       'DeepMind,Carnegie Mellon University (CMU)',\n",
              "       'Carnegie Mellon University (CMU),DeepMind',\n",
              "       'DeepMind,University College London (UCL)',\n",
              "       'Ben-Gurion University',\n",
              "       'University of Manchester,Alan Turing Institute',\n",
              "       'University of Manchester',\n",
              "       'Columbia University,New York University (NYU),Princeton University',\n",
              "       'ESAT - PSI', 'University of Missouri', 'Google AI',\n",
              "       'École des Ponts ParisTech',\n",
              "       'Intel Labs,Carnegie Mellon University (CMU)',\n",
              "       'Northeastern University,University of Rochester',\n",
              "       'Preferred Networks Inc,Ritsumeikan University,National Institute of Informatics',\n",
              "       'Google Brain,Carnegie Mellon University (CMU),Stanford University',\n",
              "       'University of San Francisco,Insight Centre NUI Galway,Fast.ai',\n",
              "       'Tsinghua University,University of Technology Sydney,University of Texas at San Antonio',\n",
              "       'Northwestern University', 'Google,UC Berkeley',\n",
              "       'Tsinghua University,Stanford University,NVIDIA',\n",
              "       'Johns Hopkins University,Google AI,Stanford University',\n",
              "       'Visual Computing Institute,RWTH Aachen University',\n",
              "       'Jagiellonian University,Mila - Quebec AI (originally Montreal Institute for Learning Algorithms),University of Montreal / Université de Montréal',\n",
              "       'University of Montreal / Université de Montréal,Mila - Quebec AI (originally Montreal Institute for Learning Algorithms)',\n",
              "       'Carnegie Mellon University (CMU),University of Pittsburgh',\n",
              "       'University of Technology Sydney', 'Duke University,Microsoft',\n",
              "       'Korea Advanced Institute of Science and Technology (KAIST)',\n",
              "       'Chinese Academy of Sciences,University of Oxford',\n",
              "       'Ben-Gurion University of the Negev', 'Saarland University',\n",
              "       'Beihang University,University of Montreal / Université de Montréal,Chongqing University',\n",
              "       'Tsinghua University,UC Berkeley',\n",
              "       'Shandong University,Texas A&M,National University of Singapore,Columbia University',\n",
              "       'University of Guelph,Vector Institute,CIFAR AI Research',\n",
              "       'Peking University,Microsoft Research', 'Ghent University',\n",
              "       'Google Research,Carnegie Mellon University (CMU)',\n",
              "       'Maluuba,Microsoft', 'Seoul National University', 'Twitter',\n",
              "       'National University of Singapore,University of Technology Sydney,Qihoo 360 AI Institute',\n",
              "       'Fudan University,Microsoft Research',\n",
              "       'Johns Hopkins University,Google,University College London (UCL)',\n",
              "       'Courant Institute of Mathematical Sciences,Mila - Quebec AI (originally Montreal Institute for Learning Algorithms)',\n",
              "       'University of Pittsburgh,Duke University',\n",
              "       'University of Toronto,Twitter',\n",
              "       'Harbin Institute of Technology,Hong Kong Polytechnic University,ULSee Inc.,Xi’an Jiaotong University',\n",
              "       'Facebook AI Research,University of Le Mans',\n",
              "       'Jagiellonian University,Google Brain',\n",
              "       'Duke University,University of Chinese Academy of Sciences',\n",
              "       'University of Alberta,Charles University,Czech Technical University',\n",
              "       'UT Austin,UC Berkeley,Google',\n",
              "       'University of Adelaide,Australian Centre for Robotic Vision',\n",
              "       'UC San Diego,Facebook', 'Stanford University,Salesforce Research',\n",
              "       'Griffith University,University of Iowa,Dezhou University',\n",
              "       'MetaMind Inc,Salesforce',\n",
              "       'University of Edinburgh,Toyota Technological Institute at Chicago',\n",
              "       'MetaMind Inc', 'Université Paris-Est', 'IBM,UC San Diego',\n",
              "       'ETH Zurich,Shenzhen Institute of Advanced Technology,Chinese University of Hong Kong (CUHK)',\n",
              "       'Chinese Academy of Sciences,Chinese University of Hong Kong (CUHK)',\n",
              "       'Tsinghua University,Facebook AI Research,Cornell University',\n",
              "       'Sensifai,Islamic Azad University,Technicolor R&I,Institute for Research in Fundamental Sciences (IPM)',\n",
              "       'ETH Zurich,IDSIA', 'Tsinghua University,Microsoft Research',\n",
              "       'Graz University of Technology,University of Oxford',\n",
              "       'York University', 'Nanjing University,University of Adelaide',\n",
              "       'Technion - Israel Institute of Technology,Columbia University,University of Montreal / Université de Montréal',\n",
              "       'DeepScale,UC Berkeley,Stanford University',\n",
              "       'Google,University of Montreal / Université de Montréal',\n",
              "       'University of Cambridge',\n",
              "       'University of Toronto,New York University (NYU),Massachusetts Institute of Technology (MIT)',\n",
              "       'Baidu Research - Silicon Valley AI Lab', nan,\n",
              "       'Google,University College London (UCL)', 'Netflix',\n",
              "       'Princeton University,Intel Labs',\n",
              "       'Harvard University,New York University (NYU)',\n",
              "       'Google,Carnegie Mellon University (CMU)',\n",
              "       'Google,New York University (NYU),Facebook',\n",
              "       'University of Toronto,Massachusetts Institute of Technology (MIT),CIFAR AI Research',\n",
              "       'Google,University of Michigan,University of North Carolina',\n",
              "       'Chinese University of Hong Kong (CUHK),Chinese Academy of Sciences',\n",
              "       'University of Science and Technology of China,York University',\n",
              "       'University of Texas at Austin,Google',\n",
              "       \"Chinese Academy of Sciences,Huawei Noah's Ark Lab,Dublin City University\",\n",
              "       'MetaMind Inc,Stanford University',\n",
              "       'University of Oxford,Stanford University,Baidu',\n",
              "       'University of Amsterdam,OpenAI,University of Toronto',\n",
              "       'University of Warwick',\n",
              "       'UT Austin,University of Massachusetts Lowell,UC Berkeley',\n",
              "       'New York University (NYU),Google Brain',\n",
              "       'Jacobs University Bremen,University of Montreal / Université de Montréal',\n",
              "       'Google,Stanford University', 'Tel Aviv University,Facebook',\n",
              "       'DeepMind,University of Toronto',\n",
              "       'Microsoft,Xi’an Jiaotong University,University of Science and Technology of China',\n",
              "       'University of Montreal / Université de Montréal,Jacobs University,University of Maine',\n",
              "       'Beihang University', 'Microsoft,University of Toronto',\n",
              "       'Singapore University of Technology & Design,DSO National Laboratories',\n",
              "       'University of Amsterdam',\n",
              "       'Aalto University,University of Montreal / Université de Montréal',\n",
              "       'Universite de Technologie de Compiègne – CNRS,Google',\n",
              "       'Universidad Nacional de Cordoba,Inteligent Systems Lab Amsterdam,University of Amsterdam,LEAR Team,INRIA,Xerox Research Centre Europe (XRCE)',\n",
              "       'Google,University of Toronto,New York University (NYU)',\n",
              "       'University of Trento,University of Amsterdam',\n",
              "       'University of Toronto,University of Sherbrooke,Harvard University',\n",
              "       'Microsoft,Brno University of Technology',\n",
              "       'RWTH Aachen University',\n",
              "       'Microsoft Research,Brno University of Technology',\n",
              "       'University of Wisconsin Madison',\n",
              "       'NEC Laboratories,Princeton University', 'University of Maryland',\n",
              "       'Technion - Israel Institute of Technology,Google,UC Berkeley',\n",
              "       'Collège de France',\n",
              "       'Carnegie Mellon University (CMU),Google Research',\n",
              "       'Brno University of Technology,Johns Hopkins University',\n",
              "       'University of Michigan,Stanford University',\n",
              "       'Xerox Research Centre Europe (XRCE)',\n",
              "       'INRIA,Ecole Normale Supèrieure,New York University (NYU)',\n",
              "       'University of Montreal / Université de Montréal,University of Illinois Urbana-Champaign (UIUC)',\n",
              "       'IDSIA,University of Lugano,SUPSI',\n",
              "       'University of Montreal / Université de Montréal,University of Toronto',\n",
              "       'University of Illinois Urbana-Champaign (UIUC),NEC Laboratories,Rutgers University',\n",
              "       'Johns Hopkins University',\n",
              "       'University of Montreal / Université de Montréal,Microsoft Research',\n",
              "       'University of Washington,Microsoft Research,Cornell University',\n",
              "       'Courant Institute of Mathematical Sciences', 'AT&T',\n",
              "       'University of Edinburgh,University of Pittsburgh',\n",
              "       'Yahoo Research,AT&T', 'Pragmatic Theory Inc.',\n",
              "       'University of Lubeck', 'New York University (NYU),Microsoft',\n",
              "       'Google,NUANCE Communications,IDIAP,University of Illinois Urbana-Champaign (UIUC)',\n",
              "       'UC Irvine,University of Chicago,Toyota Technological Institute at Chicago',\n",
              "       'University of Bern,IDSIA,Technical University of Munich',\n",
              "       'Warsaw University', 'Xerox', 'UT Austin',\n",
              "       'University of Oulu,IEEE',\n",
              "       'University of Toronto,National University of Singapore',\n",
              "       'IDSIA,Technical University of Munich',\n",
              "       'INRIA,University of Illinois Urbana-Champaign (UIUC),Ecole Normale Supèrieure',\n",
              "       'UC Berkeley,Stanford University',\n",
              "       'Centre de Recherche en Automatique de Nancy (CRAN),CENPARMI',\n",
              "       'Microsoft Research,Microsoft',\n",
              "       'Massachusetts Institute of Technology (MIT),Stanford University',\n",
              "       'NEC Laboratories,Courant Institute of Mathematical Sciences',\n",
              "       'Instituto de Ciencias Aplicadas y Technologia',\n",
              "       'University of Sussex', 'Soongsil University',\n",
              "       'California Institute of Technology,University of Oxford',\n",
              "       'California Institute of Technology',\n",
              "       'University of Southern California,RWTH Aachen University',\n",
              "       'Cornell University,IBM',\n",
              "       'Mitsubishi Electric Research Labs,Compaq CRL', 'Brown University',\n",
              "       'University of Rochester', 'University of Minnesota',\n",
              "       'UC San Diego,Shannon Laboratory,AT&T',\n",
              "       'University of Southern California,IBM,University of Pennsylvania',\n",
              "       'University College London (UCL),University of Toronto',\n",
              "       'AT&T,Bell Laboratories,Rutgers University',\n",
              "       'National Chiao Tung University', 'UC Davis,Cornell University',\n",
              "       'Advanced Telecommunications Research Institute',\n",
              "       'University of Cambridge,Carnegie Mellon University (CMU)',\n",
              "       'University of Erlangen - Nuremburg', 'AT&T,Bell Laboratories',\n",
              "       'University of Pennsylvania', 'EURECOM',\n",
              "       'Sapienza Università di Roma', 'Bell Laboratories',\n",
              "       'National Cancer Institute', 'Alan Turing Institute',\n",
              "       'Indian Statistical Institute',\n",
              "       'Aalborg University,University of London',\n",
              "       'Air Force Institute of Technology',\n",
              "       'Complutense University of Madrid',\n",
              "       'UC San Diego,Technische Universität Wien',\n",
              "       'Advanced Telecommunications Research Institute,Carnegie Mellon University (CMU)',\n",
              "       'Stanford University,California Institute of Technology',\n",
              "       'University of London',\n",
              "       'Science Applications International Corporation / SAIC',\n",
              "       'McGill University', 'Roke Manor Research',\n",
              "       'UC San Diego,Carnegie Mellon University (CMU)',\n",
              "       'NHK Broadcasting Science Research Laboratories',\n",
              "       'Helsinki University of Technology', 'University of Essex',\n",
              "       'Biological Cybernetics', 'Stanford Research Institute',\n",
              "       'University of Kansas', 'IEEE',\n",
              "       'Tokyo Medical and Dental University', 'University of Geneva',\n",
              "       'Purdue University', 'University of Canterbury',\n",
              "       'University of Genoa', 'Cornell Aeronautical Laboratory',\n",
              "       'Sandia Corporation',\n",
              "       'Cornell Aeronautical Laboratory,Cornell University',\n",
              "       'Institute for Advanced Study'], dtype=object)"
            ]
          },
          "execution_count": 4,
          "metadata": {},
          "output_type": "execute_result"
        }
      ],
      "source": [
        "df['Organization'].unique()"
      ]
    },
    {
      "cell_type": "code",
      "execution_count": 5,
      "metadata": {
        "colab": {
          "base_uri": "https://localhost:8080/"
        },
        "id": "2wtQ0kBrf3sA",
        "outputId": "5348c8e7-4bee-436c-ebab-64668e2ed96b"
      },
      "outputs": [
        {
          "data": {
            "text/plain": [
              "{'System': 'Grok-2 mini',\n",
              " 'Publication date': '2024-08-13',\n",
              " 'Notability criteria': nan,\n",
              " 'Link': 'https://x.ai/blog/grok-2',\n",
              " 'Model accessibility': 'Hosted access (no API)',\n",
              " 'Code accessibility': 'Unreleased',\n",
              " 'Training dataset': nan,\n",
              " 'Dataset accessibility': nan,\n",
              " 'Accessibility notes': nan,\n",
              " 'Organization': 'xAI',\n",
              " 'Training compute (FLOP)': nan,\n",
              " 'Country (from Organization)': 'United States of America',\n",
              " 'Organization categorization': 'Industry'}"
            ]
          },
          "execution_count": 5,
          "metadata": {},
          "output_type": "execute_result"
        }
      ],
      "source": [
        "{**df.iloc[1]}"
      ]
    },
    {
      "cell_type": "code",
      "execution_count": 6,
      "metadata": {
        "id": "fOOr9BeQbrRS"
      },
      "outputs": [],
      "source": [
        "aliases = {\n",
        "  'Beijing Academy of Artificial Intelligence / BAAI': 'BAAI',\n",
        "  'Google': 'Google/DeepMind',\n",
        "  'Google Research': 'Google/DeepMind',\n",
        "  'DeepMind': 'Google/DeepMind',\n",
        "  'Google Brain': 'Google/DeepMind',\n",
        "  'Google DeepMind': 'Google/DeepMind',\n",
        "  'Facebook AI Research': 'Meta/Facebook',\n",
        "  'Facebook AI Research': 'Meta/Facebook',\n",
        "  'Facebook': 'Meta/Facebook',\n",
        "  'Facebook AI': 'Meta/Facebook',\n",
        "  'Meta AI': 'Meta/Facebook',\n",
        "  'Meta AI Research': 'Meta/Facebook',\n",
        "  'Massachusetts Institute of Technology (MIT)': 'MIT',\n",
        "  'Stanford University': 'Stanford',\n",
        "  'New York University (NYU)': 'NYU',\n",
        "  'Carnegie Mellon University (CMU)': 'CMU',\n",
        "  'University of Washington': 'UoW',\n",
        "  'UC Berkeley': 'UCB',\n",
        "  'Tsinghua University': 'Tsinghua',\n",
        "}\n",
        "\n",
        "new_rows = []\n",
        "for i, row in df.dropna(subset=['Organization']).iterrows():\n",
        "  orgs = row['Organization']\n",
        "  orgs = orgs.split(',')\n",
        "  for org in orgs:\n",
        "    if org in aliases:\n",
        "      org = aliases[org]\n",
        "    new_row = {**row}\n",
        "    new_row['Organization'] = org\n",
        "    new_rows.append(new_row)\n",
        "\n",
        "df = pd.DataFrame(new_rows)"
      ]
    },
    {
      "cell_type": "code",
      "execution_count": 7,
      "metadata": {
        "colab": {
          "base_uri": "https://localhost:8080/",
          "height": 481
        },
        "id": "X5ilOFyvgEzV",
        "outputId": "164a67f6-f9c7-4619-9a92-8705ff061b75"
      },
      "outputs": [
        {
          "data": {
            "text/html": [
              "<div>\n",
              "<style scoped>\n",
              "    .dataframe tbody tr th:only-of-type {\n",
              "        vertical-align: middle;\n",
              "    }\n",
              "\n",
              "    .dataframe tbody tr th {\n",
              "        vertical-align: top;\n",
              "    }\n",
              "\n",
              "    .dataframe thead th {\n",
              "        text-align: right;\n",
              "    }\n",
              "</style>\n",
              "<table border=\"1\" class=\"dataframe\">\n",
              "  <thead>\n",
              "    <tr style=\"text-align: right;\">\n",
              "      <th></th>\n",
              "      <th>System</th>\n",
              "      <th>Publication date</th>\n",
              "      <th>Notability criteria</th>\n",
              "      <th>Link</th>\n",
              "      <th>Model accessibility</th>\n",
              "      <th>Code accessibility</th>\n",
              "      <th>Training dataset</th>\n",
              "      <th>Dataset accessibility</th>\n",
              "      <th>Accessibility notes</th>\n",
              "      <th>Organization</th>\n",
              "      <th>Training compute (FLOP)</th>\n",
              "      <th>Country (from Organization)</th>\n",
              "      <th>Organization categorization</th>\n",
              "    </tr>\n",
              "  </thead>\n",
              "  <tbody>\n",
              "    <tr>\n",
              "      <th>0</th>\n",
              "      <td>Grok-2</td>\n",
              "      <td>2024-08-13</td>\n",
              "      <td>NaN</td>\n",
              "      <td>https://x.ai/blog/grok-2</td>\n",
              "      <td>Hosted access (no API)</td>\n",
              "      <td>Unreleased</td>\n",
              "      <td>NaN</td>\n",
              "      <td>NaN</td>\n",
              "      <td>NaN</td>\n",
              "      <td>xAI</td>\n",
              "      <td>NaN</td>\n",
              "      <td>United States of America</td>\n",
              "      <td>Industry</td>\n",
              "    </tr>\n",
              "    <tr>\n",
              "      <th>1</th>\n",
              "      <td>Grok-2 mini</td>\n",
              "      <td>2024-08-13</td>\n",
              "      <td>NaN</td>\n",
              "      <td>https://x.ai/blog/grok-2</td>\n",
              "      <td>Hosted access (no API)</td>\n",
              "      <td>Unreleased</td>\n",
              "      <td>NaN</td>\n",
              "      <td>NaN</td>\n",
              "      <td>NaN</td>\n",
              "      <td>xAI</td>\n",
              "      <td>NaN</td>\n",
              "      <td>United States of America</td>\n",
              "      <td>Industry</td>\n",
              "    </tr>\n",
              "    <tr>\n",
              "      <th>2</th>\n",
              "      <td>Cosine Genie</td>\n",
              "      <td>2024-08-12</td>\n",
              "      <td>NaN</td>\n",
              "      <td>https://cosine.sh/blog/genie-technical-report</td>\n",
              "      <td>Unreleased</td>\n",
              "      <td>NaN</td>\n",
              "      <td>Unspecified unreleased</td>\n",
              "      <td>NaN</td>\n",
              "      <td>https://github.com/CosineAI/experiments/tree/c...</td>\n",
              "      <td>Cosine</td>\n",
              "      <td>NaN</td>\n",
              "      <td>United Kingdom of Great Britain and Northern I...</td>\n",
              "      <td>Industry</td>\n",
              "    </tr>\n",
              "    <tr>\n",
              "      <th>3</th>\n",
              "      <td>EXAONE 3.0</td>\n",
              "      <td>2024-08-07</td>\n",
              "      <td>NaN</td>\n",
              "      <td>https://arxiv.org/abs/2408.03541</td>\n",
              "      <td>Open access (non-commercial)</td>\n",
              "      <td>NaN</td>\n",
              "      <td>Unspecified unreleased</td>\n",
              "      <td>NaN</td>\n",
              "      <td>NaN</td>\n",
              "      <td>LG</td>\n",
              "      <td>4.000000e+23</td>\n",
              "      <td>Korea (Republic of)</td>\n",
              "      <td>Industry</td>\n",
              "    </tr>\n",
              "    <tr>\n",
              "      <th>4</th>\n",
              "      <td>Flux.1 [pro]</td>\n",
              "      <td>2024-08-01</td>\n",
              "      <td>NaN</td>\n",
              "      <td>https://blackforestlabs.ai/announcing-black-fo...</td>\n",
              "      <td>API access</td>\n",
              "      <td>Unreleased</td>\n",
              "      <td>NaN</td>\n",
              "      <td>Unreleased</td>\n",
              "      <td>NaN</td>\n",
              "      <td>Black Forest Labs</td>\n",
              "      <td>NaN</td>\n",
              "      <td>NaN</td>\n",
              "      <td>NaN</td>\n",
              "    </tr>\n",
              "  </tbody>\n",
              "</table>\n",
              "</div>"
            ],
            "text/plain": [
              "         System Publication date Notability criteria  \\\n",
              "0        Grok-2       2024-08-13                 NaN   \n",
              "1   Grok-2 mini       2024-08-13                 NaN   \n",
              "2  Cosine Genie       2024-08-12                 NaN   \n",
              "3    EXAONE 3.0       2024-08-07                 NaN   \n",
              "4  Flux.1 [pro]       2024-08-01                 NaN   \n",
              "\n",
              "                                                Link  \\\n",
              "0                           https://x.ai/blog/grok-2   \n",
              "1                           https://x.ai/blog/grok-2   \n",
              "2      https://cosine.sh/blog/genie-technical-report   \n",
              "3                   https://arxiv.org/abs/2408.03541   \n",
              "4  https://blackforestlabs.ai/announcing-black-fo...   \n",
              "\n",
              "            Model accessibility Code accessibility        Training dataset  \\\n",
              "0        Hosted access (no API)         Unreleased                     NaN   \n",
              "1        Hosted access (no API)         Unreleased                     NaN   \n",
              "2                    Unreleased                NaN  Unspecified unreleased   \n",
              "3  Open access (non-commercial)                NaN  Unspecified unreleased   \n",
              "4                    API access         Unreleased                     NaN   \n",
              "\n",
              "  Dataset accessibility                                Accessibility notes  \\\n",
              "0                   NaN                                                NaN   \n",
              "1                   NaN                                                NaN   \n",
              "2                   NaN  https://github.com/CosineAI/experiments/tree/c...   \n",
              "3                   NaN                                                NaN   \n",
              "4            Unreleased                                                NaN   \n",
              "\n",
              "        Organization  Training compute (FLOP)  \\\n",
              "0                xAI                      NaN   \n",
              "1                xAI                      NaN   \n",
              "2             Cosine                      NaN   \n",
              "3                 LG             4.000000e+23   \n",
              "4  Black Forest Labs                      NaN   \n",
              "\n",
              "                         Country (from Organization)  \\\n",
              "0                           United States of America   \n",
              "1                           United States of America   \n",
              "2  United Kingdom of Great Britain and Northern I...   \n",
              "3                                Korea (Republic of)   \n",
              "4                                                NaN   \n",
              "\n",
              "  Organization categorization  \n",
              "0                    Industry  \n",
              "1                    Industry  \n",
              "2                    Industry  \n",
              "3                    Industry  \n",
              "4                         NaN  "
            ]
          },
          "execution_count": 7,
          "metadata": {},
          "output_type": "execute_result"
        }
      ],
      "source": [
        "df.head()"
      ]
    },
    {
      "cell_type": "code",
      "execution_count": 8,
      "metadata": {
        "id": "O27WiHVGOUun"
      },
      "outputs": [],
      "source": [
        "def compare_openness_with_compute(df, col_name = 'model_count'):\n",
        "  def is_open(accessibility):\n",
        "      return accessibility.startswith('Open') if isinstance(accessibility, str) else False\n",
        "\n",
        "  df = df[pd.to_datetime(df['Publication date']) >= pd.to_datetime(cutoff_date)]\n",
        "  df['is_open'] = df['Model accessibility'].apply(is_open)\n",
        "  df['log_compute'] = np.log10(df['Training compute (FLOP)'])\n",
        "\n",
        "  # Group by organization and get the stats\n",
        "  org_stats = df.groupby('Organization').agg({\n",
        "      'log_compute': ['max', 'mean'],\n",
        "      'is_open': ['mean', 'count'],\n",
        "      'Organization categorization': ['first'],\n",
        "      'Country (from Organization)': ['first'],\n",
        "      'Notability criteria': ['first'],\n",
        "  }).reset_index()\n",
        "\n",
        "  # Flatten the multi-level column index and rename columns\n",
        "  org_stats.columns = ['Organization', 'Max Training Compute (FLOP)', 'Average Training Compute (FLOP)', 'open_percentage', 'model_count', 'Organization categorization', 'Country (from Organization)', 'Notability criteria']\n",
        "  org_stats['open_percentage'] = org_stats['open_percentage'] * 100\n",
        "\n",
        "  # Sort by the most compute-intensive model (descending) and reset index\n",
        "  result = org_stats.sort_values('Max Training Compute (FLOP)', ascending=False).reset_index(drop=True)\n",
        "  return result"
      ]
    },
    {
      "cell_type": "code",
      "execution_count": 9,
      "metadata": {},
      "outputs": [
        {
          "data": {
            "text/plain": [
              "2601"
            ]
          },
          "execution_count": 9,
          "metadata": {},
          "output_type": "execute_result"
        }
      ],
      "source": [
        "len(df)"
      ]
    },
    {
      "cell_type": "code",
      "execution_count": 10,
      "metadata": {},
      "outputs": [
        {
          "data": {
            "text/plain": [
              "1407"
            ]
          },
          "execution_count": 10,
          "metadata": {},
          "output_type": "execute_result"
        }
      ],
      "source": [
        "df.dropna(subset=['Notability criteria'], inplace=True)\n",
        "len(df)"
      ]
    },
    {
      "cell_type": "code",
      "execution_count": 11,
      "metadata": {
        "colab": {
          "base_uri": "https://localhost:8080/",
          "height": 1000
        },
        "id": "nSPk2Dk9Oh2N",
        "outputId": "6aabc2f1-505c-42f7-b5ce-8b900bc1575e"
      },
      "outputs": [
        {
          "name": "stderr",
          "output_type": "stream",
          "text": [
            "/var/folders/s2/stl5t_bn7xg9vdfxxr71rzrc0000gn/T/ipykernel_7690/2081794387.py:6: SettingWithCopyWarning: \n",
            "A value is trying to be set on a copy of a slice from a DataFrame.\n",
            "Try using .loc[row_indexer,col_indexer] = value instead\n",
            "\n",
            "See the caveats in the documentation: https://pandas.pydata.org/pandas-docs/stable/user_guide/indexing.html#returning-a-view-versus-a-copy\n",
            "  df['is_open'] = df['Model accessibility'].apply(is_open)\n",
            "/var/folders/s2/stl5t_bn7xg9vdfxxr71rzrc0000gn/T/ipykernel_7690/2081794387.py:7: SettingWithCopyWarning: \n",
            "A value is trying to be set on a copy of a slice from a DataFrame.\n",
            "Try using .loc[row_indexer,col_indexer] = value instead\n",
            "\n",
            "See the caveats in the documentation: https://pandas.pydata.org/pandas-docs/stable/user_guide/indexing.html#returning-a-view-versus-a-copy\n",
            "  df['log_compute'] = np.log10(df['Training compute (FLOP)'])\n"
          ]
        },
        {
          "data": {
            "text/html": [
              "<div>\n",
              "<style scoped>\n",
              "    .dataframe tbody tr th:only-of-type {\n",
              "        vertical-align: middle;\n",
              "    }\n",
              "\n",
              "    .dataframe tbody tr th {\n",
              "        vertical-align: top;\n",
              "    }\n",
              "\n",
              "    .dataframe thead th {\n",
              "        text-align: right;\n",
              "    }\n",
              "</style>\n",
              "<table border=\"1\" class=\"dataframe\">\n",
              "  <thead>\n",
              "    <tr style=\"text-align: right;\">\n",
              "      <th></th>\n",
              "      <th>Organization</th>\n",
              "      <th>Max Training Compute (FLOP)</th>\n",
              "      <th>Average Training Compute (FLOP)</th>\n",
              "      <th>open_percentage</th>\n",
              "      <th>model_count</th>\n",
              "      <th>Organization categorization</th>\n",
              "      <th>Country (from Organization)</th>\n",
              "      <th>Notability criteria</th>\n",
              "    </tr>\n",
              "  </thead>\n",
              "  <tbody>\n",
              "    <tr>\n",
              "      <th>0</th>\n",
              "      <td>Google/DeepMind</td>\n",
              "      <td>25.698970</td>\n",
              "      <td>21.747013</td>\n",
              "      <td>30.405405</td>\n",
              "      <td>148</td>\n",
              "      <td>Academia,Academia,Industry,Industry,Academia,I...</td>\n",
              "      <td>United States of America,United States of Amer...</td>\n",
              "      <td>SOTA improvement</td>\n",
              "    </tr>\n",
              "    <tr>\n",
              "      <th>1</th>\n",
              "      <td>Meta/Facebook</td>\n",
              "      <td>25.579784</td>\n",
              "      <td>21.322178</td>\n",
              "      <td>78.823529</td>\n",
              "      <td>85</td>\n",
              "      <td>Industry</td>\n",
              "      <td>United States of America</td>\n",
              "      <td>SOTA improvement,Training cost</td>\n",
              "    </tr>\n",
              "    <tr>\n",
              "      <th>2</th>\n",
              "      <td>OpenAI</td>\n",
              "      <td>25.322219</td>\n",
              "      <td>22.424921</td>\n",
              "      <td>34.482759</td>\n",
              "      <td>29</td>\n",
              "      <td>Industry</td>\n",
              "      <td>United States of America</td>\n",
              "      <td>SOTA improvement,Significant use</td>\n",
              "    </tr>\n",
              "    <tr>\n",
              "      <th>3</th>\n",
              "      <td>NVIDIA</td>\n",
              "      <td>25.255273</td>\n",
              "      <td>22.366720</td>\n",
              "      <td>46.153846</td>\n",
              "      <td>13</td>\n",
              "      <td>Industry</td>\n",
              "      <td>United States of America</td>\n",
              "      <td>Training cost</td>\n",
              "    </tr>\n",
              "    <tr>\n",
              "      <th>4</th>\n",
              "      <td>Peking University</td>\n",
              "      <td>25.079181</td>\n",
              "      <td>22.523616</td>\n",
              "      <td>0.000000</td>\n",
              "      <td>6</td>\n",
              "      <td>Industry,Academia</td>\n",
              "      <td>China,China</td>\n",
              "      <td>SOTA improvement</td>\n",
              "    </tr>\n",
              "    <tr>\n",
              "      <th>5</th>\n",
              "      <td>ByteDance</td>\n",
              "      <td>25.079181</td>\n",
              "      <td>24.147339</td>\n",
              "      <td>0.000000</td>\n",
              "      <td>3</td>\n",
              "      <td>Industry,Academia</td>\n",
              "      <td>China,China</td>\n",
              "      <td>SOTA improvement</td>\n",
              "    </tr>\n",
              "    <tr>\n",
              "      <th>6</th>\n",
              "      <td>Mistral AI</td>\n",
              "      <td>25.049218</td>\n",
              "      <td>25.049218</td>\n",
              "      <td>50.000000</td>\n",
              "      <td>2</td>\n",
              "      <td>Industry</td>\n",
              "      <td>France</td>\n",
              "      <td>Training cost</td>\n",
              "    </tr>\n",
              "    <tr>\n",
              "      <th>7</th>\n",
              "      <td>Inflection AI</td>\n",
              "      <td>25.000434</td>\n",
              "      <td>25.000239</td>\n",
              "      <td>0.000000</td>\n",
              "      <td>2</td>\n",
              "      <td>Industry</td>\n",
              "      <td>United States of America</td>\n",
              "      <td>Significant use</td>\n",
              "    </tr>\n",
              "    <tr>\n",
              "      <th>8</th>\n",
              "      <td>Anthropic</td>\n",
              "      <td>24.587262</td>\n",
              "      <td>24.587262</td>\n",
              "      <td>0.000000</td>\n",
              "      <td>5</td>\n",
              "      <td>Industry</td>\n",
              "      <td>United States of America</td>\n",
              "      <td>Significant use,SOTA improvement</td>\n",
              "    </tr>\n",
              "    <tr>\n",
              "      <th>9</th>\n",
              "      <td>Technology Innovation Institute</td>\n",
              "      <td>24.575188</td>\n",
              "      <td>23.977700</td>\n",
              "      <td>100.000000</td>\n",
              "      <td>2</td>\n",
              "      <td>Government</td>\n",
              "      <td>United Arab Emirates</td>\n",
              "      <td>Training cost</td>\n",
              "    </tr>\n",
              "    <tr>\n",
              "      <th>10</th>\n",
              "      <td>xAI</td>\n",
              "      <td>24.462398</td>\n",
              "      <td>24.462398</td>\n",
              "      <td>100.000000</td>\n",
              "      <td>1</td>\n",
              "      <td>Industry</td>\n",
              "      <td>United States of America</td>\n",
              "      <td>SOTA improvement</td>\n",
              "    </tr>\n",
              "    <tr>\n",
              "      <th>11</th>\n",
              "      <td>Alibaba</td>\n",
              "      <td>24.113943</td>\n",
              "      <td>22.247894</td>\n",
              "      <td>60.000000</td>\n",
              "      <td>10</td>\n",
              "      <td>Industry</td>\n",
              "      <td>China</td>\n",
              "      <td>SOTA improvement</td>\n",
              "    </tr>\n",
              "    <tr>\n",
              "      <th>12</th>\n",
              "      <td>DeepSeek</td>\n",
              "      <td>24.108971</td>\n",
              "      <td>24.108971</td>\n",
              "      <td>100.000000</td>\n",
              "      <td>1</td>\n",
              "      <td>Industry</td>\n",
              "      <td>China</td>\n",
              "      <td>SOTA improvement</td>\n",
              "    </tr>\n",
              "    <tr>\n",
              "      <th>13</th>\n",
              "      <td>Microsoft</td>\n",
              "      <td>24.068186</td>\n",
              "      <td>21.418858</td>\n",
              "      <td>28.571429</td>\n",
              "      <td>14</td>\n",
              "      <td>Industry</td>\n",
              "      <td>United States of America</td>\n",
              "      <td>Significant use</td>\n",
              "    </tr>\n",
              "    <tr>\n",
              "      <th>14</th>\n",
              "      <td>UCB</td>\n",
              "      <td>24.029384</td>\n",
              "      <td>21.173322</td>\n",
              "      <td>50.000000</td>\n",
              "      <td>14</td>\n",
              "      <td>Industry,Academia</td>\n",
              "      <td>United States of America,United States of America</td>\n",
              "      <td>Historical significance</td>\n",
              "    </tr>\n",
              "    <tr>\n",
              "      <th>15</th>\n",
              "      <td>EvolutionaryScale</td>\n",
              "      <td>24.029384</td>\n",
              "      <td>24.029384</td>\n",
              "      <td>0.000000</td>\n",
              "      <td>1</td>\n",
              "      <td>Industry,Academia</td>\n",
              "      <td>United States of America,United States of America</td>\n",
              "      <td>Historical significance</td>\n",
              "    </tr>\n",
              "    <tr>\n",
              "      <th>16</th>\n",
              "      <td>Peng Cheng Laboratory</td>\n",
              "      <td>24.017909</td>\n",
              "      <td>21.497130</td>\n",
              "      <td>0.000000</td>\n",
              "      <td>2</td>\n",
              "      <td>Industry,Academia</td>\n",
              "      <td>China,China</td>\n",
              "      <td>SOTA improvement</td>\n",
              "    </tr>\n",
              "    <tr>\n",
              "      <th>17</th>\n",
              "      <td>Baidu</td>\n",
              "      <td>24.017909</td>\n",
              "      <td>21.626130</td>\n",
              "      <td>50.000000</td>\n",
              "      <td>8</td>\n",
              "      <td>Industry</td>\n",
              "      <td>China</td>\n",
              "      <td>Significant use</td>\n",
              "    </tr>\n",
              "    <tr>\n",
              "      <th>18</th>\n",
              "      <td>Tsinghua</td>\n",
              "      <td>23.792392</td>\n",
              "      <td>21.655713</td>\n",
              "      <td>38.888889</td>\n",
              "      <td>18</td>\n",
              "      <td>Academia</td>\n",
              "      <td>China</td>\n",
              "      <td>SOTA improvement</td>\n",
              "    </tr>\n",
              "    <tr>\n",
              "      <th>19</th>\n",
              "      <td>BioMap Research</td>\n",
              "      <td>23.792392</td>\n",
              "      <td>23.792392</td>\n",
              "      <td>0.000000</td>\n",
              "      <td>1</td>\n",
              "      <td>Academia,Industry</td>\n",
              "      <td>China,China</td>\n",
              "      <td>SOTA improvement,Training cost</td>\n",
              "    </tr>\n",
              "    <tr>\n",
              "      <th>20</th>\n",
              "      <td>01.AI</td>\n",
              "      <td>23.785330</td>\n",
              "      <td>23.785330</td>\n",
              "      <td>100.000000</td>\n",
              "      <td>1</td>\n",
              "      <td>Industry</td>\n",
              "      <td>China</td>\n",
              "      <td>Significant use</td>\n",
              "    </tr>\n",
              "    <tr>\n",
              "      <th>21</th>\n",
              "      <td>Hugging Face</td>\n",
              "      <td>23.761176</td>\n",
              "      <td>21.686589</td>\n",
              "      <td>100.000000</td>\n",
              "      <td>7</td>\n",
              "      <td>Academia,Industry</td>\n",
              "      <td>Finland,Multinational</td>\n",
              "      <td>SOTA improvement</td>\n",
              "    </tr>\n",
              "    <tr>\n",
              "      <th>22</th>\n",
              "      <td>BigScience</td>\n",
              "      <td>23.761176</td>\n",
              "      <td>23.761176</td>\n",
              "      <td>100.000000</td>\n",
              "      <td>2</td>\n",
              "      <td>Industry,Research collective</td>\n",
              "      <td>Multinational,Multinational</td>\n",
              "      <td>Historical significance,Highly cited</td>\n",
              "    </tr>\n",
              "    <tr>\n",
              "      <th>23</th>\n",
              "      <td>Apple</td>\n",
              "      <td>23.686636</td>\n",
              "      <td>20.347764</td>\n",
              "      <td>12.500000</td>\n",
              "      <td>8</td>\n",
              "      <td>Industry</td>\n",
              "      <td>United States of America</td>\n",
              "      <td>Significant use</td>\n",
              "    </tr>\n",
              "    <tr>\n",
              "      <th>24</th>\n",
              "      <td>Huawei Noah's Ark Lab</td>\n",
              "      <td>23.669317</td>\n",
              "      <td>23.669317</td>\n",
              "      <td>0.000000</td>\n",
              "      <td>1</td>\n",
              "      <td>Industry</td>\n",
              "      <td>China</td>\n",
              "      <td>SOTA improvement</td>\n",
              "    </tr>\n",
              "    <tr>\n",
              "      <th>25</th>\n",
              "      <td>Mila - Quebec AI (originally Montreal Institut...</td>\n",
              "      <td>23.633468</td>\n",
              "      <td>21.264708</td>\n",
              "      <td>50.000000</td>\n",
              "      <td>6</td>\n",
              "      <td>Academia,Academia,Academia,Academia</td>\n",
              "      <td>United States of America,United States of Amer...</td>\n",
              "      <td>SOTA improvement</td>\n",
              "    </tr>\n",
              "    <tr>\n",
              "      <th>26</th>\n",
              "      <td>McGill University</td>\n",
              "      <td>23.633468</td>\n",
              "      <td>22.525957</td>\n",
              "      <td>100.000000</td>\n",
              "      <td>3</td>\n",
              "      <td>Industry,Industry,Academia,Academia,Academia,A...</td>\n",
              "      <td>Multinational,United States of America,United ...</td>\n",
              "      <td>SOTA improvement</td>\n",
              "    </tr>\n",
              "    <tr>\n",
              "      <th>27</th>\n",
              "      <td>Inspur</td>\n",
              "      <td>23.548758</td>\n",
              "      <td>23.548758</td>\n",
              "      <td>0.000000</td>\n",
              "      <td>1</td>\n",
              "      <td>Industry</td>\n",
              "      <td>China</td>\n",
              "      <td>SOTA improvement</td>\n",
              "    </tr>\n",
              "    <tr>\n",
              "      <th>28</th>\n",
              "      <td>Kunlun Inc.</td>\n",
              "      <td>23.397940</td>\n",
              "      <td>23.397940</td>\n",
              "      <td>100.000000</td>\n",
              "      <td>1</td>\n",
              "      <td>Industry</td>\n",
              "      <td>China</td>\n",
              "      <td>SOTA improvement</td>\n",
              "    </tr>\n",
              "    <tr>\n",
              "      <th>29</th>\n",
              "      <td>Bloomberg</td>\n",
              "      <td>23.372912</td>\n",
              "      <td>23.372912</td>\n",
              "      <td>0.000000</td>\n",
              "      <td>1</td>\n",
              "      <td>Industry,Academia</td>\n",
              "      <td>United States of America,United States of America</td>\n",
              "      <td>SOTA improvement</td>\n",
              "    </tr>\n",
              "    <tr>\n",
              "      <th>30</th>\n",
              "      <td>Johns Hopkins University</td>\n",
              "      <td>23.372912</td>\n",
              "      <td>22.810205</td>\n",
              "      <td>66.666667</td>\n",
              "      <td>3</td>\n",
              "      <td>Industry,Industry,Academia,Academia,Academia,A...</td>\n",
              "      <td>Multinational,United States of America,United ...</td>\n",
              "      <td>SOTA improvement</td>\n",
              "    </tr>\n",
              "    <tr>\n",
              "      <th>31</th>\n",
              "      <td>Amazon</td>\n",
              "      <td>23.310426</td>\n",
              "      <td>22.013632</td>\n",
              "      <td>0.000000</td>\n",
              "      <td>3</td>\n",
              "      <td>Industry</td>\n",
              "      <td>United States of America</td>\n",
              "      <td>SOTA improvement</td>\n",
              "    </tr>\n",
              "    <tr>\n",
              "      <th>32</th>\n",
              "      <td>Columbia University</td>\n",
              "      <td>23.204120</td>\n",
              "      <td>21.226899</td>\n",
              "      <td>88.888889</td>\n",
              "      <td>9</td>\n",
              "      <td>Academia,Industry</td>\n",
              "      <td>United States of America,United States of America</td>\n",
              "      <td>SOTA improvement</td>\n",
              "    </tr>\n",
              "    <tr>\n",
              "      <th>33</th>\n",
              "      <td>University of California Los Angeles (UCLA)</td>\n",
              "      <td>23.204120</td>\n",
              "      <td>20.433439</td>\n",
              "      <td>25.000000</td>\n",
              "      <td>4</td>\n",
              "      <td>Academia,Academia,Academia</td>\n",
              "      <td>United States of America,United States of Amer...</td>\n",
              "      <td>SOTA improvement</td>\n",
              "    </tr>\n",
              "    <tr>\n",
              "      <th>34</th>\n",
              "      <td>NYU</td>\n",
              "      <td>23.204120</td>\n",
              "      <td>20.902866</td>\n",
              "      <td>89.473684</td>\n",
              "      <td>19</td>\n",
              "      <td>Industry,Academia</td>\n",
              "      <td>Multinational,United States of America</td>\n",
              "      <td>SOTA improvement</td>\n",
              "    </tr>\n",
              "    <tr>\n",
              "      <th>35</th>\n",
              "      <td>Search Solutions</td>\n",
              "      <td>23.169086</td>\n",
              "      <td>23.169086</td>\n",
              "      <td>0.000000</td>\n",
              "      <td>1</td>\n",
              "      <td>Industry,Industry</td>\n",
              "      <td>Korea (Republic of),Korea (Republic of)</td>\n",
              "      <td>SOTA improvement</td>\n",
              "    </tr>\n",
              "    <tr>\n",
              "      <th>36</th>\n",
              "      <td>NAVER</td>\n",
              "      <td>23.169086</td>\n",
              "      <td>21.751468</td>\n",
              "      <td>20.000000</td>\n",
              "      <td>5</td>\n",
              "      <td>Academia,Industry</td>\n",
              "      <td>Korea (Republic of),Korea (Republic of)</td>\n",
              "      <td>SOTA improvement</td>\n",
              "    </tr>\n",
              "    <tr>\n",
              "      <th>37</th>\n",
              "      <td>MIT</td>\n",
              "      <td>23.041393</td>\n",
              "      <td>20.907508</td>\n",
              "      <td>73.684211</td>\n",
              "      <td>19</td>\n",
              "      <td>Academia,Academia,Industry,Industry,Academia,I...</td>\n",
              "      <td>United States of America,United States of Amer...</td>\n",
              "      <td>SOTA improvement</td>\n",
              "    </tr>\n",
              "    <tr>\n",
              "      <th>38</th>\n",
              "      <td>Toyota Research Institute</td>\n",
              "      <td>23.041393</td>\n",
              "      <td>23.041393</td>\n",
              "      <td>100.000000</td>\n",
              "      <td>1</td>\n",
              "      <td>Academia,Academia,Industry,Industry,Academia,I...</td>\n",
              "      <td>United States of America,United States of Amer...</td>\n",
              "      <td>SOTA improvement</td>\n",
              "    </tr>\n",
              "    <tr>\n",
              "      <th>39</th>\n",
              "      <td>Stanford</td>\n",
              "      <td>23.041393</td>\n",
              "      <td>20.803767</td>\n",
              "      <td>64.705882</td>\n",
              "      <td>17</td>\n",
              "      <td>Academia,Academia,Industry,Industry,Academia,I...</td>\n",
              "      <td>United States of America,United States of Amer...</td>\n",
              "      <td>SOTA improvement</td>\n",
              "    </tr>\n",
              "  </tbody>\n",
              "</table>\n",
              "</div>"
            ],
            "text/plain": [
              "                                         Organization  \\\n",
              "0                                     Google/DeepMind   \n",
              "1                                       Meta/Facebook   \n",
              "2                                              OpenAI   \n",
              "3                                              NVIDIA   \n",
              "4                                   Peking University   \n",
              "5                                           ByteDance   \n",
              "6                                          Mistral AI   \n",
              "7                                       Inflection AI   \n",
              "8                                           Anthropic   \n",
              "9                     Technology Innovation Institute   \n",
              "10                                                xAI   \n",
              "11                                            Alibaba   \n",
              "12                                           DeepSeek   \n",
              "13                                          Microsoft   \n",
              "14                                                UCB   \n",
              "15                                  EvolutionaryScale   \n",
              "16                              Peng Cheng Laboratory   \n",
              "17                                              Baidu   \n",
              "18                                           Tsinghua   \n",
              "19                                    BioMap Research   \n",
              "20                                              01.AI   \n",
              "21                                       Hugging Face   \n",
              "22                                         BigScience   \n",
              "23                                              Apple   \n",
              "24                              Huawei Noah's Ark Lab   \n",
              "25  Mila - Quebec AI (originally Montreal Institut...   \n",
              "26                                  McGill University   \n",
              "27                                             Inspur   \n",
              "28                                        Kunlun Inc.   \n",
              "29                                          Bloomberg   \n",
              "30                           Johns Hopkins University   \n",
              "31                                             Amazon   \n",
              "32                                Columbia University   \n",
              "33        University of California Los Angeles (UCLA)   \n",
              "34                                                NYU   \n",
              "35                                   Search Solutions   \n",
              "36                                              NAVER   \n",
              "37                                                MIT   \n",
              "38                          Toyota Research Institute   \n",
              "39                                           Stanford   \n",
              "\n",
              "    Max Training Compute (FLOP)  Average Training Compute (FLOP)  \\\n",
              "0                     25.698970                        21.747013   \n",
              "1                     25.579784                        21.322178   \n",
              "2                     25.322219                        22.424921   \n",
              "3                     25.255273                        22.366720   \n",
              "4                     25.079181                        22.523616   \n",
              "5                     25.079181                        24.147339   \n",
              "6                     25.049218                        25.049218   \n",
              "7                     25.000434                        25.000239   \n",
              "8                     24.587262                        24.587262   \n",
              "9                     24.575188                        23.977700   \n",
              "10                    24.462398                        24.462398   \n",
              "11                    24.113943                        22.247894   \n",
              "12                    24.108971                        24.108971   \n",
              "13                    24.068186                        21.418858   \n",
              "14                    24.029384                        21.173322   \n",
              "15                    24.029384                        24.029384   \n",
              "16                    24.017909                        21.497130   \n",
              "17                    24.017909                        21.626130   \n",
              "18                    23.792392                        21.655713   \n",
              "19                    23.792392                        23.792392   \n",
              "20                    23.785330                        23.785330   \n",
              "21                    23.761176                        21.686589   \n",
              "22                    23.761176                        23.761176   \n",
              "23                    23.686636                        20.347764   \n",
              "24                    23.669317                        23.669317   \n",
              "25                    23.633468                        21.264708   \n",
              "26                    23.633468                        22.525957   \n",
              "27                    23.548758                        23.548758   \n",
              "28                    23.397940                        23.397940   \n",
              "29                    23.372912                        23.372912   \n",
              "30                    23.372912                        22.810205   \n",
              "31                    23.310426                        22.013632   \n",
              "32                    23.204120                        21.226899   \n",
              "33                    23.204120                        20.433439   \n",
              "34                    23.204120                        20.902866   \n",
              "35                    23.169086                        23.169086   \n",
              "36                    23.169086                        21.751468   \n",
              "37                    23.041393                        20.907508   \n",
              "38                    23.041393                        23.041393   \n",
              "39                    23.041393                        20.803767   \n",
              "\n",
              "    open_percentage  model_count  \\\n",
              "0         30.405405          148   \n",
              "1         78.823529           85   \n",
              "2         34.482759           29   \n",
              "3         46.153846           13   \n",
              "4          0.000000            6   \n",
              "5          0.000000            3   \n",
              "6         50.000000            2   \n",
              "7          0.000000            2   \n",
              "8          0.000000            5   \n",
              "9        100.000000            2   \n",
              "10       100.000000            1   \n",
              "11        60.000000           10   \n",
              "12       100.000000            1   \n",
              "13        28.571429           14   \n",
              "14        50.000000           14   \n",
              "15         0.000000            1   \n",
              "16         0.000000            2   \n",
              "17        50.000000            8   \n",
              "18        38.888889           18   \n",
              "19         0.000000            1   \n",
              "20       100.000000            1   \n",
              "21       100.000000            7   \n",
              "22       100.000000            2   \n",
              "23        12.500000            8   \n",
              "24         0.000000            1   \n",
              "25        50.000000            6   \n",
              "26       100.000000            3   \n",
              "27         0.000000            1   \n",
              "28       100.000000            1   \n",
              "29         0.000000            1   \n",
              "30        66.666667            3   \n",
              "31         0.000000            3   \n",
              "32        88.888889            9   \n",
              "33        25.000000            4   \n",
              "34        89.473684           19   \n",
              "35         0.000000            1   \n",
              "36        20.000000            5   \n",
              "37        73.684211           19   \n",
              "38       100.000000            1   \n",
              "39        64.705882           17   \n",
              "\n",
              "                          Organization categorization  \\\n",
              "0   Academia,Academia,Industry,Industry,Academia,I...   \n",
              "1                                            Industry   \n",
              "2                                            Industry   \n",
              "3                                            Industry   \n",
              "4                                   Industry,Academia   \n",
              "5                                   Industry,Academia   \n",
              "6                                            Industry   \n",
              "7                                            Industry   \n",
              "8                                            Industry   \n",
              "9                                          Government   \n",
              "10                                           Industry   \n",
              "11                                           Industry   \n",
              "12                                           Industry   \n",
              "13                                           Industry   \n",
              "14                                  Industry,Academia   \n",
              "15                                  Industry,Academia   \n",
              "16                                  Industry,Academia   \n",
              "17                                           Industry   \n",
              "18                                           Academia   \n",
              "19                                  Academia,Industry   \n",
              "20                                           Industry   \n",
              "21                                  Academia,Industry   \n",
              "22                       Industry,Research collective   \n",
              "23                                           Industry   \n",
              "24                                           Industry   \n",
              "25                Academia,Academia,Academia,Academia   \n",
              "26  Industry,Industry,Academia,Academia,Academia,A...   \n",
              "27                                           Industry   \n",
              "28                                           Industry   \n",
              "29                                  Industry,Academia   \n",
              "30  Industry,Industry,Academia,Academia,Academia,A...   \n",
              "31                                           Industry   \n",
              "32                                  Academia,Industry   \n",
              "33                         Academia,Academia,Academia   \n",
              "34                                  Industry,Academia   \n",
              "35                                  Industry,Industry   \n",
              "36                                  Academia,Industry   \n",
              "37  Academia,Academia,Industry,Industry,Academia,I...   \n",
              "38  Academia,Academia,Industry,Industry,Academia,I...   \n",
              "39  Academia,Academia,Industry,Industry,Academia,I...   \n",
              "\n",
              "                          Country (from Organization)  \\\n",
              "0   United States of America,United States of Amer...   \n",
              "1                            United States of America   \n",
              "2                            United States of America   \n",
              "3                            United States of America   \n",
              "4                                         China,China   \n",
              "5                                         China,China   \n",
              "6                                              France   \n",
              "7                            United States of America   \n",
              "8                            United States of America   \n",
              "9                                United Arab Emirates   \n",
              "10                           United States of America   \n",
              "11                                              China   \n",
              "12                                              China   \n",
              "13                           United States of America   \n",
              "14  United States of America,United States of America   \n",
              "15  United States of America,United States of America   \n",
              "16                                        China,China   \n",
              "17                                              China   \n",
              "18                                              China   \n",
              "19                                        China,China   \n",
              "20                                              China   \n",
              "21                              Finland,Multinational   \n",
              "22                        Multinational,Multinational   \n",
              "23                           United States of America   \n",
              "24                                              China   \n",
              "25  United States of America,United States of Amer...   \n",
              "26  Multinational,United States of America,United ...   \n",
              "27                                              China   \n",
              "28                                              China   \n",
              "29  United States of America,United States of America   \n",
              "30  Multinational,United States of America,United ...   \n",
              "31                           United States of America   \n",
              "32  United States of America,United States of America   \n",
              "33  United States of America,United States of Amer...   \n",
              "34             Multinational,United States of America   \n",
              "35            Korea (Republic of),Korea (Republic of)   \n",
              "36            Korea (Republic of),Korea (Republic of)   \n",
              "37  United States of America,United States of Amer...   \n",
              "38  United States of America,United States of Amer...   \n",
              "39  United States of America,United States of Amer...   \n",
              "\n",
              "                     Notability criteria  \n",
              "0                       SOTA improvement  \n",
              "1         SOTA improvement,Training cost  \n",
              "2       SOTA improvement,Significant use  \n",
              "3                          Training cost  \n",
              "4                       SOTA improvement  \n",
              "5                       SOTA improvement  \n",
              "6                          Training cost  \n",
              "7                        Significant use  \n",
              "8       Significant use,SOTA improvement  \n",
              "9                          Training cost  \n",
              "10                      SOTA improvement  \n",
              "11                      SOTA improvement  \n",
              "12                      SOTA improvement  \n",
              "13                       Significant use  \n",
              "14               Historical significance  \n",
              "15               Historical significance  \n",
              "16                      SOTA improvement  \n",
              "17                       Significant use  \n",
              "18                      SOTA improvement  \n",
              "19        SOTA improvement,Training cost  \n",
              "20                       Significant use  \n",
              "21                      SOTA improvement  \n",
              "22  Historical significance,Highly cited  \n",
              "23                       Significant use  \n",
              "24                      SOTA improvement  \n",
              "25                      SOTA improvement  \n",
              "26                      SOTA improvement  \n",
              "27                      SOTA improvement  \n",
              "28                      SOTA improvement  \n",
              "29                      SOTA improvement  \n",
              "30                      SOTA improvement  \n",
              "31                      SOTA improvement  \n",
              "32                      SOTA improvement  \n",
              "33                      SOTA improvement  \n",
              "34                      SOTA improvement  \n",
              "35                      SOTA improvement  \n",
              "36                      SOTA improvement  \n",
              "37                      SOTA improvement  \n",
              "38                      SOTA improvement  \n",
              "39                      SOTA improvement  "
            ]
          },
          "execution_count": 11,
          "metadata": {},
          "output_type": "execute_result"
        }
      ],
      "source": [
        "all_models = compare_openness_with_compute(df)\n",
        "all_models.head(40)"
      ]
    },
    {
      "cell_type": "code",
      "execution_count": 12,
      "metadata": {
        "colab": {
          "base_uri": "https://localhost:8080/"
        },
        "id": "3u8sxbW8kM_I",
        "outputId": "f0e54c8d-bc8d-43a5-8fb7-bb6691e035a8"
      },
      "outputs": [
        {
          "name": "stdout",
          "output_type": "stream",
          "text": [
            "Correlation for model_count_threshold 3 (65 data points): -0.003763671563848325\n",
            "Correlation for model_count_threshold 5 (32 data points): -0.07121226295380861\n",
            "Correlation for model_count_threshold 10 (13 data points): -0.2613482527433465\n",
            "Correlation for model_count_threshold 15 (8 data points): -0.34731161595484505\n",
            "Correlation for model_count_threshold 20 (3 data points): -0.5\n",
            "Correlation for model_count_threshold 25 (3 data points): -0.5\n",
            "Correlation for model_count_threshold 30 (2 data points): -0.9999999999999999\n",
            "Correlation for model_count_threshold 35 (2 data points): -0.9999999999999999\n",
            "Correlation for model_count_threshold 40 (2 data points): -0.9999999999999999\n",
            "Correlation for model_count_threshold 45 (2 data points): -0.9999999999999999\n",
            "Correlation for model_count_threshold 50 (2 data points): -0.9999999999999999\n",
            "\n",
            "Without Meta/Facebook\n",
            "Correlation for model_count_threshold 3 (64 data points): -0.03330865737596513\n",
            "Correlation for model_count_threshold 5 (31 data points): -0.13447754276580523\n",
            "Correlation for model_count_threshold 10 (12 data points): -0.4798606308117672\n",
            "Correlation for model_count_threshold 15 (7 data points): -0.6666937223947136\n",
            "Correlation for model_count_threshold 20 (2 data points): -0.9999999999999999\n",
            "Correlation for model_count_threshold 25 (2 data points): -0.9999999999999999\n",
            "Correlation for model_count_threshold 30 (1 data points): nan\n",
            "Correlation for model_count_threshold 35 (1 data points): nan\n",
            "Correlation for model_count_threshold 40 (1 data points): nan\n",
            "Correlation for model_count_threshold 45 (1 data points): nan\n",
            "Correlation for model_count_threshold 50 (1 data points): nan\n"
          ]
        }
      ],
      "source": [
        "for model_count_threshold in [3, *range(5, 55, 5)]:\n",
        "  big_org_models = all_models[all_models['model_count'] >= model_count_threshold]\n",
        "  correlation = big_org_models['Max Training Compute (FLOP)'].corr(big_org_models['open_percentage'], method='spearman')\n",
        "  print(f\"Correlation for model_count_threshold {model_count_threshold} ({len(big_org_models)} data points): {correlation}\")\n",
        "\n",
        "print(\"\\nWithout Meta/Facebook\")\n",
        "for model_count_threshold in [3, *range(5, 55, 5)]:\n",
        "  big_org_models = all_models[all_models['model_count'] >= model_count_threshold]\n",
        "  big_org_models = big_org_models[big_org_models['Organization'] != 'Meta/Facebook']\n",
        "  correlation = big_org_models['Max Training Compute (FLOP)'].corr(big_org_models['open_percentage'], method='spearman')\n",
        "  print(f\"Correlation for model_count_threshold {model_count_threshold} ({len(big_org_models)} data points): {correlation}\")"
      ]
    },
    {
      "cell_type": "code",
      "execution_count": 22,
      "metadata": {
        "colab": {
          "base_uri": "https://localhost:8080/",
          "height": 617
        },
        "id": "4jL39-gfb-kh",
        "outputId": "1e26a28d-1e55-4710-aefd-c74f18d5701e"
      },
      "outputs": [
        {
          "data": {
            "application/vnd.plotly.v1+json": {
              "config": {
                "plotlyServerURL": "https://plot.ly"
              },
              "data": [
                {
                  "marker": {
                    "color": "blue",
                    "opacity": 0.5,
                    "size": [
                      4.898979485566356,
                      3.4641016151377544,
                      2.8284271247461903,
                      2.8284271247461903,
                      4.47213595499958,
                      2.8284271247461903,
                      2,
                      2,
                      2,
                      2.8284271247461903,
                      5.656854249492381,
                      2,
                      2,
                      5.291502622129181,
                      2.8284271247461903,
                      5.656854249492381,
                      2,
                      4.898979485566356,
                      3.4641016151377544,
                      2,
                      2,
                      2,
                      3.4641016151377544,
                      3.4641016151377544,
                      6,
                      4,
                      2,
                      4.47213595499958,
                      2,
                      2,
                      2.8284271247461903,
                      2,
                      2,
                      2,
                      2,
                      2,
                      2,
                      2.8284271247461903,
                      2,
                      2,
                      2,
                      2,
                      2,
                      2,
                      4,
                      5.656854249492381,
                      2,
                      2,
                      2.8284271247461903,
                      2,
                      2,
                      2,
                      2,
                      2,
                      2,
                      2,
                      2,
                      4.898979485566356,
                      3.4641016151377544,
                      3.4641016151377544,
                      3.4641016151377544,
                      3.4641016151377544,
                      2,
                      4,
                      2,
                      2,
                      3.4641016151377544,
                      3.4641016151377544,
                      5.656854249492381,
                      3.4641016151377544,
                      2,
                      2.8284271247461903,
                      2,
                      2,
                      4,
                      2,
                      4,
                      2,
                      3.4641016151377544,
                      3.4641016151377544,
                      4.47213595499958,
                      2,
                      4,
                      3.4641016151377544,
                      4.47213595499958,
                      5.656854249492381,
                      3.4641016151377544,
                      2.8284271247461903,
                      2.8284271247461903,
                      3.4641016151377544,
                      4.47213595499958,
                      3.4641016151377544,
                      2.8284271247461903,
                      4,
                      4,
                      2.8284271247461903,
                      2.8284271247461903,
                      2,
                      2.8284271247461903,
                      4,
                      3.4641016151377544,
                      2,
                      2.8284271247461903,
                      4.47213595499958,
                      4,
                      2,
                      2.8284271247461903,
                      2,
                      2,
                      2.8284271247461903,
                      2.8284271247461903,
                      2,
                      2,
                      2,
                      2.8284271247461903,
                      5.656854249492381,
                      2,
                      2,
                      4.47213595499958,
                      2,
                      2.8284271247461903,
                      2,
                      2.8284271247461903,
                      4.898979485566356,
                      2,
                      2.8284271247461903,
                      2,
                      2,
                      2,
                      2,
                      3.4641016151377544,
                      2,
                      2,
                      2.8284271247461903,
                      2,
                      2.8284271247461903,
                      2,
                      3.4641016151377544,
                      2,
                      3.4641016151377544,
                      2,
                      2,
                      2,
                      4,
                      2,
                      2,
                      2,
                      4,
                      2,
                      2,
                      2,
                      2,
                      2,
                      2,
                      2,
                      2,
                      2,
                      2,
                      2,
                      2,
                      2,
                      2,
                      2,
                      2,
                      2,
                      2,
                      2,
                      2,
                      2,
                      2,
                      2,
                      2,
                      2.8284271247461903,
                      2,
                      2,
                      2,
                      2,
                      2,
                      2,
                      2,
                      2.8284271247461903,
                      2,
                      2,
                      2.8284271247461903,
                      2,
                      2,
                      2,
                      2,
                      2.8284271247461903,
                      2,
                      2,
                      2,
                      2,
                      2,
                      2,
                      2.8284271247461903,
                      2,
                      2.8284271247461903,
                      2,
                      2,
                      2.8284271247461903,
                      2,
                      2,
                      2,
                      2,
                      2.8284271247461903,
                      2,
                      2,
                      2,
                      2,
                      2,
                      2
                    ]
                  },
                  "mode": "markers",
                  "showlegend": false,
                  "type": "scatter",
                  "x": [
                    25.079181246047625,
                    25.079181246047625,
                    25.049218022670182,
                    25.00043407747932,
                    24.587261849692535,
                    24.57518784492766,
                    24.462397997900453,
                    24.10897071687948,
                    24.029383777685208,
                    24.017909395896687,
                    24.017909395896687,
                    23.792391689498253,
                    23.785329835010767,
                    23.761175813155738,
                    23.761175813155738,
                    23.686636269262294,
                    23.66931688056611,
                    23.633468455579585,
                    23.633468455579585,
                    23.548757828573716,
                    23.397940008672037,
                    23.372912002970107,
                    23.372912002970107,
                    23.310425679010848,
                    23.204119982655925,
                    23.204119982655925,
                    23.16908635748702,
                    23.16908635748702,
                    23.041392685158225,
                    23.041392685158225,
                    22.96924207030419,
                    22.927370363039024,
                    22.927370363039024,
                    22.927370363039024,
                    22.927370363039024,
                    22.927370363039024,
                    22.927370363039024,
                    22.927370363039024,
                    22.927370363039024,
                    22.927370363039024,
                    22.927370363039024,
                    22.927370363039024,
                    22.927370363039024,
                    22.927370363039024,
                    22.927370363039024,
                    22.927370363039024,
                    22.927370363039024,
                    22.927370363039024,
                    22.927370363039024,
                    22.927370363039024,
                    22.927370363039024,
                    22.927370363039024,
                    22.927370363039024,
                    22.927370363039024,
                    22.927370363039024,
                    22.927370363039024,
                    22.927370363039024,
                    22.927370363039024,
                    22.867467487859052,
                    22.867467487859052,
                    22.867467487859052,
                    22.702430536445526,
                    22.69897000433602,
                    22.69897000433602,
                    22.680335513414562,
                    22.658964842664435,
                    22.658964842664435,
                    22.658964842664435,
                    22.658011396657113,
                    22.658011396657113,
                    22.599883072073688,
                    22.488550716500445,
                    22.488550716500445,
                    22.488550716500445,
                    22.482873583608754,
                    22.482873583608754,
                    22.482873583608754,
                    22.42813479402879,
                    22.36379994547911,
                    22.139938297473165,
                    22.130333768495007,
                    21.986771734266245,
                    21.986771734266245,
                    21.977723605288848,
                    21.87031676606081,
                    21.859738566197148,
                    21.859738566197148,
                    21.859738566197148,
                    21.574140503302075,
                    21.574140503302075,
                    21.574140503302075,
                    21.574140503302075,
                    21.531478917042254,
                    21.477122702365524,
                    21.434568904034197,
                    21.351112760040234,
                    21.351112760040234,
                    21.255272505103306,
                    21.251463241166956,
                    21.193124598354462,
                    21.152288344383056,
                    21.152288344383056,
                    21.152288344383056,
                    21.041392685158225,
                    20.962932558558006,
                    20.928907690243953,
                    20.919078092376076,
                    20.89209460269048,
                    20.89209460269048,
                    20.89209460269048,
                    20.707570176097935,
                    20.707570176097935,
                    20.544068044350276,
                    20.287801729930226,
                    20.2450183964227,
                    20.198657086954423,
                    20.195899652409235,
                    20.195899652409235,
                    20.195899652409235,
                    20.146128035678238,
                    20.113943352306837,
                    20.093421685162234,
                    20.093421685162234,
                    20.093421685162234,
                    20.093421685162234,
                    19.919991968885864,
                    19.913813852383715,
                    19.812913356642856,
                    19.812913356642856,
                    19.64443858946784,
                    19.64443858946784,
                    19.444044795918078,
                    19.3812522996977,
                    19.369957133031,
                    19.3654879848909,
                    19.041392685158225,
                    19.041392685158225,
                    19.02118929906994,
                    18.987666264926276,
                    18.987666264926276,
                    18.976349979003274,
                    18.863322860120455,
                    18.67760695272049,
                    18.460897842756548,
                    18.460897842756548,
                    18.460897842756548,
                    18.460897842756548,
                    18.444044795918078,
                    18.444044795918078,
                    18.392696953259666,
                    18.3654879848909,
                    18.3654879848909,
                    17.840733234611807,
                    17.840733234611807,
                    17.80413943233535,
                    17.749736315569063,
                    17.662757831681574,
                    17.627365856592732,
                    17.435427064556656,
                    17.435427064556656,
                    17.435427064556656,
                    16.88024177589548,
                    15.30319605742049,
                    15.28330122870355,
                    15.008600171761918,
                    15.008600171761918,
                    null,
                    null,
                    null,
                    null,
                    null,
                    null,
                    null,
                    null,
                    null,
                    null,
                    null,
                    null,
                    null,
                    null,
                    null,
                    null,
                    null,
                    null,
                    null,
                    null,
                    null,
                    null,
                    null,
                    null,
                    null,
                    null,
                    null,
                    null,
                    null,
                    null,
                    null,
                    null,
                    null,
                    null,
                    null,
                    null,
                    null,
                    null,
                    null,
                    null,
                    null,
                    null,
                    null,
                    null,
                    null,
                    null
                  ],
                  "y": [
                    0,
                    0,
                    50,
                    0,
                    0,
                    100,
                    100,
                    100,
                    0,
                    0,
                    50,
                    0,
                    100,
                    100,
                    100,
                    12.5,
                    0,
                    50,
                    100,
                    0,
                    100,
                    0,
                    66.66666666666666,
                    0,
                    88.88888888888889,
                    25,
                    0,
                    20,
                    100,
                    100,
                    100,
                    100,
                    100,
                    100,
                    100,
                    100,
                    100,
                    50,
                    100,
                    100,
                    100,
                    100,
                    100,
                    100,
                    50,
                    75,
                    100,
                    100,
                    50,
                    100,
                    100,
                    100,
                    100,
                    100,
                    100,
                    100,
                    100,
                    66.66666666666666,
                    100,
                    100,
                    100,
                    100,
                    100,
                    50,
                    0,
                    100,
                    66.66666666666666,
                    33.33333333333333,
                    37.5,
                    66.66666666666666,
                    100,
                    50,
                    100,
                    100,
                    50,
                    0,
                    25,
                    100,
                    100,
                    0,
                    60,
                    100,
                    75,
                    66.66666666666666,
                    100,
                    25,
                    66.66666666666666,
                    50,
                    100,
                    66.66666666666666,
                    80,
                    33.33333333333333,
                    100,
                    75,
                    100,
                    100,
                    100,
                    100,
                    50,
                    75,
                    0,
                    0,
                    0,
                    40,
                    75,
                    100,
                    100,
                    0,
                    0,
                    0,
                    0,
                    0,
                    0,
                    100,
                    50,
                    25,
                    100,
                    100,
                    40,
                    100,
                    0,
                    0,
                    0,
                    16.666666666666664,
                    0,
                    50,
                    0,
                    0,
                    0,
                    0,
                    66.66666666666666,
                    0,
                    100,
                    100,
                    100,
                    50,
                    0,
                    33.33333333333333,
                    0,
                    0,
                    0,
                    100,
                    0,
                    25,
                    0,
                    0,
                    0,
                    25,
                    0,
                    100,
                    0,
                    0,
                    100,
                    100,
                    100,
                    0,
                    0,
                    100,
                    100,
                    100,
                    100,
                    0,
                    0,
                    0,
                    0,
                    0,
                    0,
                    0,
                    0,
                    0,
                    100,
                    0,
                    0,
                    100,
                    100,
                    100,
                    100,
                    0,
                    0,
                    0,
                    50,
                    0,
                    0,
                    100,
                    100,
                    0,
                    0,
                    0,
                    0,
                    0,
                    0,
                    100,
                    0,
                    0,
                    0,
                    0,
                    0,
                    50,
                    0,
                    0,
                    0,
                    0,
                    100,
                    100,
                    0,
                    0,
                    0,
                    0,
                    100,
                    0,
                    100,
                    0
                  ]
                },
                {
                  "marker": {
                    "color": "blue",
                    "opacity": 0.8,
                    "size": [
                      24.331050121192877,
                      18.439088914585774,
                      10.770329614269007,
                      7.211102550927978,
                      6.324555320336759,
                      7.483314773547883,
                      7.483314773547883,
                      8.48528137423857,
                      8.717797887081348,
                      8.717797887081348,
                      8.246211251235321,
                      8.246211251235321,
                      6.6332495807108
                    ]
                  },
                  "mode": "markers+text",
                  "showlegend": false,
                  "text": [
                    "Google/DeepMind",
                    "Meta/Facebook",
                    "OpenAI",
                    "NVIDIA",
                    "Alibaba",
                    "Microsoft",
                    "UCB",
                    "Tsinghua",
                    "NYU",
                    "MIT",
                    "Stanford",
                    "CMU",
                    "UoW"
                  ],
                  "textposition": "top center",
                  "type": "scatter",
                  "x": [
                    25.698970004344705,
                    25.57978359661681,
                    25.32221929473392,
                    25.255272505103306,
                    24.113943352306837,
                    24.068185861746162,
                    24.029383777685208,
                    23.792391689498253,
                    23.204119982655925,
                    23.041392685158225,
                    23.041392685158225,
                    22.927370363039024,
                    21.618449295720836
                  ],
                  "y": [
                    30.405405405405407,
                    78.82352941176471,
                    34.48275862068966,
                    46.15384615384615,
                    60,
                    28.57142857142857,
                    50,
                    38.88888888888889,
                    89.47368421052632,
                    73.68421052631578,
                    64.70588235294117,
                    47.05882352941176,
                    45.45454545454545
                  ]
                }
              ],
              "layout": {
                "coloraxis": {
                  "showscale": false
                },
                "height": 600,
                "template": {
                  "data": {
                    "bar": [
                      {
                        "error_x": {
                          "color": "#2a3f5f"
                        },
                        "error_y": {
                          "color": "#2a3f5f"
                        },
                        "marker": {
                          "line": {
                            "color": "white",
                            "width": 0.5
                          },
                          "pattern": {
                            "fillmode": "overlay",
                            "size": 10,
                            "solidity": 0.2
                          }
                        },
                        "type": "bar"
                      }
                    ],
                    "barpolar": [
                      {
                        "marker": {
                          "line": {
                            "color": "white",
                            "width": 0.5
                          },
                          "pattern": {
                            "fillmode": "overlay",
                            "size": 10,
                            "solidity": 0.2
                          }
                        },
                        "type": "barpolar"
                      }
                    ],
                    "carpet": [
                      {
                        "aaxis": {
                          "endlinecolor": "#2a3f5f",
                          "gridcolor": "#C8D4E3",
                          "linecolor": "#C8D4E3",
                          "minorgridcolor": "#C8D4E3",
                          "startlinecolor": "#2a3f5f"
                        },
                        "baxis": {
                          "endlinecolor": "#2a3f5f",
                          "gridcolor": "#C8D4E3",
                          "linecolor": "#C8D4E3",
                          "minorgridcolor": "#C8D4E3",
                          "startlinecolor": "#2a3f5f"
                        },
                        "type": "carpet"
                      }
                    ],
                    "choropleth": [
                      {
                        "colorbar": {
                          "outlinewidth": 0,
                          "ticks": ""
                        },
                        "type": "choropleth"
                      }
                    ],
                    "contour": [
                      {
                        "colorbar": {
                          "outlinewidth": 0,
                          "ticks": ""
                        },
                        "colorscale": [
                          [
                            0,
                            "#0d0887"
                          ],
                          [
                            0.1111111111111111,
                            "#46039f"
                          ],
                          [
                            0.2222222222222222,
                            "#7201a8"
                          ],
                          [
                            0.3333333333333333,
                            "#9c179e"
                          ],
                          [
                            0.4444444444444444,
                            "#bd3786"
                          ],
                          [
                            0.5555555555555556,
                            "#d8576b"
                          ],
                          [
                            0.6666666666666666,
                            "#ed7953"
                          ],
                          [
                            0.7777777777777778,
                            "#fb9f3a"
                          ],
                          [
                            0.8888888888888888,
                            "#fdca26"
                          ],
                          [
                            1,
                            "#f0f921"
                          ]
                        ],
                        "type": "contour"
                      }
                    ],
                    "contourcarpet": [
                      {
                        "colorbar": {
                          "outlinewidth": 0,
                          "ticks": ""
                        },
                        "type": "contourcarpet"
                      }
                    ],
                    "heatmap": [
                      {
                        "colorbar": {
                          "outlinewidth": 0,
                          "ticks": ""
                        },
                        "colorscale": [
                          [
                            0,
                            "#0d0887"
                          ],
                          [
                            0.1111111111111111,
                            "#46039f"
                          ],
                          [
                            0.2222222222222222,
                            "#7201a8"
                          ],
                          [
                            0.3333333333333333,
                            "#9c179e"
                          ],
                          [
                            0.4444444444444444,
                            "#bd3786"
                          ],
                          [
                            0.5555555555555556,
                            "#d8576b"
                          ],
                          [
                            0.6666666666666666,
                            "#ed7953"
                          ],
                          [
                            0.7777777777777778,
                            "#fb9f3a"
                          ],
                          [
                            0.8888888888888888,
                            "#fdca26"
                          ],
                          [
                            1,
                            "#f0f921"
                          ]
                        ],
                        "type": "heatmap"
                      }
                    ],
                    "heatmapgl": [
                      {
                        "colorbar": {
                          "outlinewidth": 0,
                          "ticks": ""
                        },
                        "colorscale": [
                          [
                            0,
                            "#0d0887"
                          ],
                          [
                            0.1111111111111111,
                            "#46039f"
                          ],
                          [
                            0.2222222222222222,
                            "#7201a8"
                          ],
                          [
                            0.3333333333333333,
                            "#9c179e"
                          ],
                          [
                            0.4444444444444444,
                            "#bd3786"
                          ],
                          [
                            0.5555555555555556,
                            "#d8576b"
                          ],
                          [
                            0.6666666666666666,
                            "#ed7953"
                          ],
                          [
                            0.7777777777777778,
                            "#fb9f3a"
                          ],
                          [
                            0.8888888888888888,
                            "#fdca26"
                          ],
                          [
                            1,
                            "#f0f921"
                          ]
                        ],
                        "type": "heatmapgl"
                      }
                    ],
                    "histogram": [
                      {
                        "marker": {
                          "pattern": {
                            "fillmode": "overlay",
                            "size": 10,
                            "solidity": 0.2
                          }
                        },
                        "type": "histogram"
                      }
                    ],
                    "histogram2d": [
                      {
                        "colorbar": {
                          "outlinewidth": 0,
                          "ticks": ""
                        },
                        "colorscale": [
                          [
                            0,
                            "#0d0887"
                          ],
                          [
                            0.1111111111111111,
                            "#46039f"
                          ],
                          [
                            0.2222222222222222,
                            "#7201a8"
                          ],
                          [
                            0.3333333333333333,
                            "#9c179e"
                          ],
                          [
                            0.4444444444444444,
                            "#bd3786"
                          ],
                          [
                            0.5555555555555556,
                            "#d8576b"
                          ],
                          [
                            0.6666666666666666,
                            "#ed7953"
                          ],
                          [
                            0.7777777777777778,
                            "#fb9f3a"
                          ],
                          [
                            0.8888888888888888,
                            "#fdca26"
                          ],
                          [
                            1,
                            "#f0f921"
                          ]
                        ],
                        "type": "histogram2d"
                      }
                    ],
                    "histogram2dcontour": [
                      {
                        "colorbar": {
                          "outlinewidth": 0,
                          "ticks": ""
                        },
                        "colorscale": [
                          [
                            0,
                            "#0d0887"
                          ],
                          [
                            0.1111111111111111,
                            "#46039f"
                          ],
                          [
                            0.2222222222222222,
                            "#7201a8"
                          ],
                          [
                            0.3333333333333333,
                            "#9c179e"
                          ],
                          [
                            0.4444444444444444,
                            "#bd3786"
                          ],
                          [
                            0.5555555555555556,
                            "#d8576b"
                          ],
                          [
                            0.6666666666666666,
                            "#ed7953"
                          ],
                          [
                            0.7777777777777778,
                            "#fb9f3a"
                          ],
                          [
                            0.8888888888888888,
                            "#fdca26"
                          ],
                          [
                            1,
                            "#f0f921"
                          ]
                        ],
                        "type": "histogram2dcontour"
                      }
                    ],
                    "mesh3d": [
                      {
                        "colorbar": {
                          "outlinewidth": 0,
                          "ticks": ""
                        },
                        "type": "mesh3d"
                      }
                    ],
                    "parcoords": [
                      {
                        "line": {
                          "colorbar": {
                            "outlinewidth": 0,
                            "ticks": ""
                          }
                        },
                        "type": "parcoords"
                      }
                    ],
                    "pie": [
                      {
                        "automargin": true,
                        "type": "pie"
                      }
                    ],
                    "scatter": [
                      {
                        "fillpattern": {
                          "fillmode": "overlay",
                          "size": 10,
                          "solidity": 0.2
                        },
                        "type": "scatter"
                      }
                    ],
                    "scatter3d": [
                      {
                        "line": {
                          "colorbar": {
                            "outlinewidth": 0,
                            "ticks": ""
                          }
                        },
                        "marker": {
                          "colorbar": {
                            "outlinewidth": 0,
                            "ticks": ""
                          }
                        },
                        "type": "scatter3d"
                      }
                    ],
                    "scattercarpet": [
                      {
                        "marker": {
                          "colorbar": {
                            "outlinewidth": 0,
                            "ticks": ""
                          }
                        },
                        "type": "scattercarpet"
                      }
                    ],
                    "scattergeo": [
                      {
                        "marker": {
                          "colorbar": {
                            "outlinewidth": 0,
                            "ticks": ""
                          }
                        },
                        "type": "scattergeo"
                      }
                    ],
                    "scattergl": [
                      {
                        "marker": {
                          "colorbar": {
                            "outlinewidth": 0,
                            "ticks": ""
                          }
                        },
                        "type": "scattergl"
                      }
                    ],
                    "scattermapbox": [
                      {
                        "marker": {
                          "colorbar": {
                            "outlinewidth": 0,
                            "ticks": ""
                          }
                        },
                        "type": "scattermapbox"
                      }
                    ],
                    "scatterpolar": [
                      {
                        "marker": {
                          "colorbar": {
                            "outlinewidth": 0,
                            "ticks": ""
                          }
                        },
                        "type": "scatterpolar"
                      }
                    ],
                    "scatterpolargl": [
                      {
                        "marker": {
                          "colorbar": {
                            "outlinewidth": 0,
                            "ticks": ""
                          }
                        },
                        "type": "scatterpolargl"
                      }
                    ],
                    "scatterternary": [
                      {
                        "marker": {
                          "colorbar": {
                            "outlinewidth": 0,
                            "ticks": ""
                          }
                        },
                        "type": "scatterternary"
                      }
                    ],
                    "surface": [
                      {
                        "colorbar": {
                          "outlinewidth": 0,
                          "ticks": ""
                        },
                        "colorscale": [
                          [
                            0,
                            "#0d0887"
                          ],
                          [
                            0.1111111111111111,
                            "#46039f"
                          ],
                          [
                            0.2222222222222222,
                            "#7201a8"
                          ],
                          [
                            0.3333333333333333,
                            "#9c179e"
                          ],
                          [
                            0.4444444444444444,
                            "#bd3786"
                          ],
                          [
                            0.5555555555555556,
                            "#d8576b"
                          ],
                          [
                            0.6666666666666666,
                            "#ed7953"
                          ],
                          [
                            0.7777777777777778,
                            "#fb9f3a"
                          ],
                          [
                            0.8888888888888888,
                            "#fdca26"
                          ],
                          [
                            1,
                            "#f0f921"
                          ]
                        ],
                        "type": "surface"
                      }
                    ],
                    "table": [
                      {
                        "cells": {
                          "fill": {
                            "color": "#EBF0F8"
                          },
                          "line": {
                            "color": "white"
                          }
                        },
                        "header": {
                          "fill": {
                            "color": "#C8D4E3"
                          },
                          "line": {
                            "color": "white"
                          }
                        },
                        "type": "table"
                      }
                    ]
                  },
                  "layout": {
                    "annotationdefaults": {
                      "arrowcolor": "#2a3f5f",
                      "arrowhead": 0,
                      "arrowwidth": 1
                    },
                    "autotypenumbers": "strict",
                    "coloraxis": {
                      "colorbar": {
                        "outlinewidth": 0,
                        "ticks": ""
                      }
                    },
                    "colorscale": {
                      "diverging": [
                        [
                          0,
                          "#8e0152"
                        ],
                        [
                          0.1,
                          "#c51b7d"
                        ],
                        [
                          0.2,
                          "#de77ae"
                        ],
                        [
                          0.3,
                          "#f1b6da"
                        ],
                        [
                          0.4,
                          "#fde0ef"
                        ],
                        [
                          0.5,
                          "#f7f7f7"
                        ],
                        [
                          0.6,
                          "#e6f5d0"
                        ],
                        [
                          0.7,
                          "#b8e186"
                        ],
                        [
                          0.8,
                          "#7fbc41"
                        ],
                        [
                          0.9,
                          "#4d9221"
                        ],
                        [
                          1,
                          "#276419"
                        ]
                      ],
                      "sequential": [
                        [
                          0,
                          "#0d0887"
                        ],
                        [
                          0.1111111111111111,
                          "#46039f"
                        ],
                        [
                          0.2222222222222222,
                          "#7201a8"
                        ],
                        [
                          0.3333333333333333,
                          "#9c179e"
                        ],
                        [
                          0.4444444444444444,
                          "#bd3786"
                        ],
                        [
                          0.5555555555555556,
                          "#d8576b"
                        ],
                        [
                          0.6666666666666666,
                          "#ed7953"
                        ],
                        [
                          0.7777777777777778,
                          "#fb9f3a"
                        ],
                        [
                          0.8888888888888888,
                          "#fdca26"
                        ],
                        [
                          1,
                          "#f0f921"
                        ]
                      ],
                      "sequentialminus": [
                        [
                          0,
                          "#0d0887"
                        ],
                        [
                          0.1111111111111111,
                          "#46039f"
                        ],
                        [
                          0.2222222222222222,
                          "#7201a8"
                        ],
                        [
                          0.3333333333333333,
                          "#9c179e"
                        ],
                        [
                          0.4444444444444444,
                          "#bd3786"
                        ],
                        [
                          0.5555555555555556,
                          "#d8576b"
                        ],
                        [
                          0.6666666666666666,
                          "#ed7953"
                        ],
                        [
                          0.7777777777777778,
                          "#fb9f3a"
                        ],
                        [
                          0.8888888888888888,
                          "#fdca26"
                        ],
                        [
                          1,
                          "#f0f921"
                        ]
                      ]
                    },
                    "colorway": [
                      "#636efa",
                      "#EF553B",
                      "#00cc96",
                      "#ab63fa",
                      "#FFA15A",
                      "#19d3f3",
                      "#FF6692",
                      "#B6E880",
                      "#FF97FF",
                      "#FECB52"
                    ],
                    "font": {
                      "color": "#2a3f5f"
                    },
                    "geo": {
                      "bgcolor": "white",
                      "lakecolor": "white",
                      "landcolor": "white",
                      "showlakes": true,
                      "showland": true,
                      "subunitcolor": "#C8D4E3"
                    },
                    "hoverlabel": {
                      "align": "left"
                    },
                    "hovermode": "closest",
                    "mapbox": {
                      "style": "light"
                    },
                    "paper_bgcolor": "white",
                    "plot_bgcolor": "white",
                    "polar": {
                      "angularaxis": {
                        "gridcolor": "#EBF0F8",
                        "linecolor": "#EBF0F8",
                        "ticks": ""
                      },
                      "bgcolor": "white",
                      "radialaxis": {
                        "gridcolor": "#EBF0F8",
                        "linecolor": "#EBF0F8",
                        "ticks": ""
                      }
                    },
                    "scene": {
                      "xaxis": {
                        "backgroundcolor": "white",
                        "gridcolor": "#DFE8F3",
                        "gridwidth": 2,
                        "linecolor": "#EBF0F8",
                        "showbackground": true,
                        "ticks": "",
                        "zerolinecolor": "#EBF0F8"
                      },
                      "yaxis": {
                        "backgroundcolor": "white",
                        "gridcolor": "#DFE8F3",
                        "gridwidth": 2,
                        "linecolor": "#EBF0F8",
                        "showbackground": true,
                        "ticks": "",
                        "zerolinecolor": "#EBF0F8"
                      },
                      "zaxis": {
                        "backgroundcolor": "white",
                        "gridcolor": "#DFE8F3",
                        "gridwidth": 2,
                        "linecolor": "#EBF0F8",
                        "showbackground": true,
                        "ticks": "",
                        "zerolinecolor": "#EBF0F8"
                      }
                    },
                    "shapedefaults": {
                      "line": {
                        "color": "#2a3f5f"
                      }
                    },
                    "ternary": {
                      "aaxis": {
                        "gridcolor": "#DFE8F3",
                        "linecolor": "#A2B1C6",
                        "ticks": ""
                      },
                      "baxis": {
                        "gridcolor": "#DFE8F3",
                        "linecolor": "#A2B1C6",
                        "ticks": ""
                      },
                      "bgcolor": "white",
                      "caxis": {
                        "gridcolor": "#DFE8F3",
                        "linecolor": "#A2B1C6",
                        "ticks": ""
                      }
                    },
                    "title": {
                      "x": 0.05
                    },
                    "xaxis": {
                      "automargin": true,
                      "gridcolor": "#EBF0F8",
                      "linecolor": "#EBF0F8",
                      "ticks": "",
                      "title": {
                        "standoff": 15
                      },
                      "zerolinecolor": "#EBF0F8",
                      "zerolinewidth": 2
                    },
                    "yaxis": {
                      "automargin": true,
                      "gridcolor": "#EBF0F8",
                      "linecolor": "#EBF0F8",
                      "ticks": "",
                      "title": {
                        "standoff": 15
                      },
                      "zerolinecolor": "#EBF0F8",
                      "zerolinewidth": 2
                    }
                  }
                },
                "title": {
                  "text": "Organization Openness vs Compute Intensity"
                },
                "width": 800,
                "xaxis": {
                  "range": [
                    21,
                    27
                  ],
                  "title": {
                    "text": "Max Training Compute (log-FLOP)"
                  }
                },
                "yaxis": {
                  "title": {
                    "text": "Percentage of Open Models"
                  }
                }
              }
            }
          },
          "metadata": {},
          "output_type": "display_data"
        }
      ],
      "source": [
        "model_count_threshold = 10\n",
        "big_org_models = all_models[all_models['model_count'] >= model_count_threshold]\n",
        "other_org_models = all_models[all_models['model_count'] < model_count_threshold]\n",
        "\n",
        "fig = go.Figure()\n",
        "fig.add_trace(\n",
        "  go.Scatter(\n",
        "    x=other_org_models['Max Training Compute (FLOP)'],\n",
        "    y=other_org_models['open_percentage'],\n",
        "    mode='markers',\n",
        "    marker=dict(\n",
        "      size=2*other_org_models['model_count']**0.5,\n",
        "      color='blue',\n",
        "      opacity=0.5,\n",
        "    ),\n",
        "    showlegend=False,\n",
        "    # hoverinfo='text',\n",
        "    # text=other_org_models['Organization'],\n",
        "  )\n",
        ")\n",
        "fig.add_trace(\n",
        "  go.Scatter(\n",
        "    x=big_org_models['Max Training Compute (FLOP)'],\n",
        "    y=big_org_models['open_percentage'],\n",
        "    mode='markers+text',\n",
        "    marker=dict(\n",
        "      size=2*big_org_models['model_count']**0.5,\n",
        "      color='blue',\n",
        "      opacity=0.8,\n",
        "    ),\n",
        "    text=big_org_models['Organization'],\n",
        "    textposition='top center',\n",
        "    showlegend=False,\n",
        "  )\n",
        ")\n",
        "\n",
        "# x limits\n",
        "fig.update_xaxes({'range': [21, 27]})\n",
        "\n",
        "# Update layout for better readability\n",
        "fig.update_layout(\n",
        "  width=800,\n",
        "  height=600,\n",
        "  xaxis_title='Max Training Compute (log-FLOP)',\n",
        "  yaxis_title='Percentage of Open Models',\n",
        "  template='plotly_white',\n",
        "  coloraxis_showscale=False,\n",
        "  title='Organization Openness vs Compute Intensity',\n",
        ")\n",
        "\n",
        "# Save plot\n",
        "# save_plot(fig, results_dir, 'org_openness_vs_max_compute')\n",
        "\n",
        "# Show the plot\n",
        "fig.show()"
      ]
    },
    {
      "cell_type": "markdown",
      "metadata": {
        "id": "OH5ksmn4seBm"
      },
      "source": [
        "We can also look at average compute. However, this is less informative because some organizations will have a lower average simply by being older."
      ]
    },
    {
      "cell_type": "code",
      "execution_count": 14,
      "metadata": {
        "colab": {
          "base_uri": "https://localhost:8080/",
          "height": 617
        },
        "id": "hQYVbuT7laGS",
        "outputId": "d6f48c22-132d-4c5b-b534-7a4f35cf3e88"
      },
      "outputs": [
        {
          "data": {
            "application/vnd.plotly.v1+json": {
              "config": {
                "plotlyServerURL": "https://plot.ly"
              },
              "data": [
                {
                  "marker": {
                    "color": "blue",
                    "opacity": 0.8,
                    "size": [
                      12.165525060596439,
                      9.219544457292887,
                      5.385164807134504
                    ]
                  },
                  "mode": "markers+text",
                  "showlegend": false,
                  "text": [
                    "Google/DeepMind",
                    "Meta/Facebook",
                    "OpenAI"
                  ],
                  "textposition": "top center",
                  "type": "scatter",
                  "x": [
                    21.74701269567754,
                    21.322178114181018,
                    22.424920867001536
                  ],
                  "y": [
                    30.405405405405407,
                    78.82352941176471,
                    34.48275862068966
                  ]
                },
                {
                  "marker": {
                    "color": "blue",
                    "opacity": 0.5,
                    "size": [
                      3.605551275463989,
                      2.449489742783178,
                      1.7320508075688772,
                      1.4142135623730951,
                      1.4142135623730951,
                      2.23606797749979,
                      1.4142135623730951,
                      1,
                      3.1622776601683795,
                      1,
                      3.7416573867739413,
                      3.7416573867739413,
                      1,
                      1.4142135623730951,
                      2.8284271247461903,
                      4.242640687119285,
                      1,
                      1,
                      2.6457513110645907,
                      1.4142135623730951,
                      2.8284271247461903,
                      1,
                      2.449489742783178,
                      1.7320508075688772,
                      1,
                      1,
                      1,
                      1.7320508075688772,
                      1.7320508075688772,
                      3,
                      2,
                      4.358898943540674,
                      1,
                      2.23606797749979,
                      4.358898943540674,
                      1,
                      4.123105625617661,
                      1,
                      1.4142135623730951,
                      1,
                      1,
                      1,
                      1,
                      1,
                      1,
                      1.4142135623730951,
                      1,
                      1,
                      1,
                      1,
                      1,
                      1,
                      2,
                      2.8284271247461903,
                      1,
                      1,
                      1.4142135623730951,
                      1,
                      1,
                      1,
                      1,
                      1,
                      1,
                      1,
                      1,
                      2.449489742783178,
                      4.123105625617661,
                      1.7320508075688772,
                      1.7320508075688772,
                      1.7320508075688772,
                      1.7320508075688772,
                      1,
                      2,
                      1,
                      1,
                      1.7320508075688772,
                      1.7320508075688772,
                      2.8284271247461903,
                      1.7320508075688772,
                      1,
                      1.4142135623730951,
                      1,
                      1,
                      2,
                      1,
                      2,
                      1,
                      1.7320508075688772,
                      1.7320508075688772,
                      2.23606797749979,
                      1,
                      2,
                      1.7320508075688772,
                      2.23606797749979,
                      2.8284271247461903,
                      1.7320508075688772,
                      1.4142135623730951,
                      3.3166247903554,
                      1.4142135623730951,
                      1.7320508075688772,
                      2.23606797749979,
                      1.7320508075688772,
                      1.4142135623730951,
                      2,
                      2,
                      1.4142135623730951,
                      1.4142135623730951,
                      1,
                      1.4142135623730951,
                      2,
                      1.7320508075688772,
                      1,
                      1.4142135623730951,
                      2.23606797749979,
                      2,
                      1,
                      1.4142135623730951,
                      1,
                      1,
                      1.4142135623730951,
                      1.4142135623730951,
                      1,
                      1,
                      1,
                      1.4142135623730951,
                      2.8284271247461903,
                      1,
                      1,
                      2.23606797749979,
                      1,
                      1.4142135623730951,
                      1,
                      1.4142135623730951,
                      2.449489742783178,
                      1,
                      1.4142135623730951,
                      1,
                      1,
                      1,
                      1,
                      1.7320508075688772,
                      1,
                      1,
                      1.4142135623730951,
                      1,
                      1.4142135623730951,
                      1,
                      1.7320508075688772,
                      1,
                      1.7320508075688772,
                      1,
                      1,
                      1,
                      2,
                      1,
                      1,
                      1,
                      2,
                      1,
                      1,
                      1,
                      1,
                      1,
                      1,
                      1,
                      1,
                      1,
                      1,
                      1,
                      1,
                      1,
                      1,
                      1,
                      1,
                      1,
                      1,
                      1,
                      1,
                      1,
                      1,
                      1,
                      1,
                      1.4142135623730951,
                      1,
                      1,
                      1,
                      1,
                      1,
                      1,
                      1,
                      1.4142135623730951,
                      1,
                      1,
                      1.4142135623730951,
                      1,
                      1,
                      1,
                      1,
                      1.4142135623730951,
                      1,
                      1,
                      1,
                      1,
                      1,
                      1,
                      1.4142135623730951,
                      1,
                      1.4142135623730951,
                      1,
                      1,
                      1.4142135623730951,
                      1,
                      1,
                      1,
                      1,
                      1.4142135623730951,
                      1,
                      1,
                      1,
                      1,
                      1,
                      1
                    ]
                  },
                  "mode": "markers",
                  "showlegend": false,
                  "type": "scatter",
                  "x": [
                    22.36671965035174,
                    22.523616038840128,
                    24.147338910293758,
                    25.049218022670182,
                    25.000238752378092,
                    24.587261849692535,
                    23.977699543319634,
                    24.462397997900453,
                    22.247894463390022,
                    24.10897071687948,
                    21.418858398036377,
                    21.173322207486947,
                    24.029383777685208,
                    21.49712968744998,
                    21.6261300186511,
                    21.65571327854489,
                    23.792391689498253,
                    23.785329835010767,
                    21.68658874233173,
                    23.761175813155738,
                    20.34776399131099,
                    23.66931688056611,
                    21.26470803681659,
                    22.525957385972465,
                    23.548757828573716,
                    23.397940008672037,
                    23.372912002970107,
                    22.810205378168046,
                    22.013631701155184,
                    21.226898692103795,
                    20.43343890716875,
                    20.902866300457227,
                    23.16908635748702,
                    21.75146825130485,
                    20.907507752000868,
                    23.041392685158225,
                    20.803766610565827,
                    23.041392685158225,
                    22.948306216671607,
                    22.927370363039024,
                    22.927370363039024,
                    22.927370363039024,
                    22.927370363039024,
                    22.927370363039024,
                    22.927370363039024,
                    19.90380606946725,
                    22.927370363039024,
                    22.927370363039024,
                    22.927370363039024,
                    22.927370363039024,
                    22.927370363039024,
                    22.927370363039024,
                    21.478377070362114,
                    22.17668255962949,
                    22.927370363039024,
                    22.927370363039024,
                    22.927370363039024,
                    22.927370363039024,
                    22.927370363039024,
                    22.927370363039024,
                    22.927370363039024,
                    22.927370363039024,
                    22.927370363039024,
                    22.927370363039024,
                    22.927370363039024,
                    19.800578898706572,
                    19.87860934306034,
                    22.67557793965085,
                    22.67557793965085,
                    22.67557793965085,
                    22.498660920642347,
                    22.69897000433602,
                    22.69897000433602,
                    22.680335513414562,
                    22.658964842664435,
                    20.49054242937082,
                    21.496407493893557,
                    20.470976060339403,
                    21.174103738342815,
                    22.599883072073688,
                    21.82041953044175,
                    22.488550716500445,
                    22.488550716500445,
                    21.463212428920286,
                    22.482873583608754,
                    20.48141941255095,
                    22.42813479402879,
                    22.36379994547911,
                    20.590665491315697,
                    19.686766097391075,
                    21.986771734266245,
                    20.256695521090855,
                    20.40187010330084,
                    21.189259105629972,
                    19.98520167322523,
                    21.859738566197148,
                    21.859738566197148,
                    20.208723751244715,
                    20.91470650420269,
                    20.218731681711265,
                    21.41470650420269,
                    20.125873728011285,
                    19.96985944117705,
                    21.427760301656832,
                    21.31384675119433,
                    21.252965441338166,
                    21.252965441338166,
                    21.255272505103306,
                    21.251463241166956,
                    20.114749729468382,
                    19.90226734269319,
                    21.152288344383056,
                    21.152288344383056,
                    19.877604496754145,
                    19.9218730754194,
                    20.928907690243953,
                    20.40791235399174,
                    20.89209460269048,
                    20.89209460269048,
                    20.89209460269048,
                    20.06540802501737,
                    20.707570176097935,
                    20.544068044350276,
                    20.287801729930226,
                    20.2450183964227,
                    19.574791259530052,
                    20.195899652409235,
                    20.195899652409235,
                    19.788055447060422,
                    20.146128035678238,
                    20.113943352306837,
                    20.093421685162234,
                    19.37283401308278,
                    18.640184526838404,
                    20.093421685162234,
                    19.919991968885864,
                    19.913813852383715,
                    19.812913356642856,
                    19.812913356642856,
                    19.64443858946784,
                    19.529705968719327,
                    19.444044795918078,
                    19.3812522996977,
                    18.44291548837134,
                    19.3654879848909,
                    19.041392685158225,
                    19.041392685158225,
                    19.02118929906994,
                    18.987666264926276,
                    18.925494562523365,
                    18.976349979003274,
                    18.863322860120455,
                    18.67760695272049,
                    18.460897842756548,
                    18.460897842756548,
                    18.460897842756548,
                    18.460897842756548,
                    17.585670999360833,
                    18.444044795918078,
                    18.392696953259666,
                    18.3654879848909,
                    18.3654879848909,
                    17.840733234611807,
                    17.840733234611807,
                    17.80413943233535,
                    17.749736315569063,
                    17.662757831681574,
                    17.627365856592732,
                    17.435427064556656,
                    17.435427064556656,
                    17.435427064556656,
                    16.88024177589548,
                    15.30319605742049,
                    15.28330122870355,
                    15.008600171761918,
                    15.008600171761918,
                    null,
                    null,
                    null,
                    null,
                    null,
                    null,
                    null,
                    null,
                    null,
                    null,
                    null,
                    null,
                    null,
                    null,
                    null,
                    null,
                    null,
                    null,
                    null,
                    null,
                    null,
                    null,
                    null,
                    null,
                    null,
                    null,
                    null,
                    null,
                    null,
                    null,
                    null,
                    null,
                    null,
                    null,
                    null,
                    null,
                    null,
                    null,
                    null,
                    null,
                    null,
                    null,
                    null,
                    null,
                    null,
                    null
                  ],
                  "y": [
                    46.15384615384615,
                    0,
                    0,
                    50,
                    0,
                    0,
                    100,
                    100,
                    60,
                    100,
                    28.57142857142857,
                    50,
                    0,
                    0,
                    50,
                    38.88888888888889,
                    0,
                    100,
                    100,
                    100,
                    12.5,
                    0,
                    50,
                    100,
                    0,
                    100,
                    0,
                    66.66666666666666,
                    0,
                    88.88888888888889,
                    25,
                    89.47368421052632,
                    0,
                    20,
                    73.68421052631578,
                    100,
                    64.70588235294117,
                    100,
                    100,
                    100,
                    100,
                    100,
                    100,
                    100,
                    100,
                    50,
                    100,
                    100,
                    100,
                    100,
                    100,
                    100,
                    50,
                    75,
                    100,
                    100,
                    50,
                    100,
                    100,
                    100,
                    100,
                    100,
                    100,
                    100,
                    100,
                    66.66666666666666,
                    47.05882352941176,
                    100,
                    100,
                    100,
                    100,
                    100,
                    50,
                    0,
                    100,
                    66.66666666666666,
                    33.33333333333333,
                    37.5,
                    66.66666666666666,
                    100,
                    50,
                    100,
                    100,
                    50,
                    0,
                    25,
                    100,
                    100,
                    0,
                    60,
                    100,
                    75,
                    66.66666666666666,
                    100,
                    25,
                    66.66666666666666,
                    50,
                    45.45454545454545,
                    100,
                    66.66666666666666,
                    80,
                    33.33333333333333,
                    100,
                    75,
                    100,
                    100,
                    100,
                    100,
                    50,
                    75,
                    0,
                    0,
                    0,
                    40,
                    75,
                    100,
                    100,
                    0,
                    0,
                    0,
                    0,
                    0,
                    0,
                    100,
                    50,
                    25,
                    100,
                    100,
                    40,
                    100,
                    0,
                    0,
                    0,
                    16.666666666666664,
                    0,
                    50,
                    0,
                    0,
                    0,
                    0,
                    66.66666666666666,
                    0,
                    100,
                    100,
                    100,
                    50,
                    0,
                    33.33333333333333,
                    0,
                    0,
                    0,
                    100,
                    0,
                    25,
                    0,
                    0,
                    0,
                    25,
                    0,
                    100,
                    0,
                    0,
                    100,
                    100,
                    100,
                    0,
                    0,
                    100,
                    100,
                    100,
                    100,
                    0,
                    0,
                    0,
                    0,
                    0,
                    0,
                    0,
                    0,
                    0,
                    100,
                    0,
                    0,
                    100,
                    100,
                    100,
                    100,
                    0,
                    0,
                    0,
                    50,
                    0,
                    0,
                    100,
                    100,
                    0,
                    0,
                    0,
                    0,
                    0,
                    0,
                    100,
                    0,
                    0,
                    0,
                    0,
                    0,
                    50,
                    0,
                    0,
                    0,
                    0,
                    100,
                    100,
                    0,
                    0,
                    0,
                    0,
                    100,
                    0,
                    100,
                    0
                  ]
                }
              ],
              "layout": {
                "coloraxis": {
                  "showscale": false
                },
                "height": 600,
                "template": {
                  "data": {
                    "bar": [
                      {
                        "error_x": {
                          "color": "#2a3f5f"
                        },
                        "error_y": {
                          "color": "#2a3f5f"
                        },
                        "marker": {
                          "line": {
                            "color": "white",
                            "width": 0.5
                          },
                          "pattern": {
                            "fillmode": "overlay",
                            "size": 10,
                            "solidity": 0.2
                          }
                        },
                        "type": "bar"
                      }
                    ],
                    "barpolar": [
                      {
                        "marker": {
                          "line": {
                            "color": "white",
                            "width": 0.5
                          },
                          "pattern": {
                            "fillmode": "overlay",
                            "size": 10,
                            "solidity": 0.2
                          }
                        },
                        "type": "barpolar"
                      }
                    ],
                    "carpet": [
                      {
                        "aaxis": {
                          "endlinecolor": "#2a3f5f",
                          "gridcolor": "#C8D4E3",
                          "linecolor": "#C8D4E3",
                          "minorgridcolor": "#C8D4E3",
                          "startlinecolor": "#2a3f5f"
                        },
                        "baxis": {
                          "endlinecolor": "#2a3f5f",
                          "gridcolor": "#C8D4E3",
                          "linecolor": "#C8D4E3",
                          "minorgridcolor": "#C8D4E3",
                          "startlinecolor": "#2a3f5f"
                        },
                        "type": "carpet"
                      }
                    ],
                    "choropleth": [
                      {
                        "colorbar": {
                          "outlinewidth": 0,
                          "ticks": ""
                        },
                        "type": "choropleth"
                      }
                    ],
                    "contour": [
                      {
                        "colorbar": {
                          "outlinewidth": 0,
                          "ticks": ""
                        },
                        "colorscale": [
                          [
                            0,
                            "#0d0887"
                          ],
                          [
                            0.1111111111111111,
                            "#46039f"
                          ],
                          [
                            0.2222222222222222,
                            "#7201a8"
                          ],
                          [
                            0.3333333333333333,
                            "#9c179e"
                          ],
                          [
                            0.4444444444444444,
                            "#bd3786"
                          ],
                          [
                            0.5555555555555556,
                            "#d8576b"
                          ],
                          [
                            0.6666666666666666,
                            "#ed7953"
                          ],
                          [
                            0.7777777777777778,
                            "#fb9f3a"
                          ],
                          [
                            0.8888888888888888,
                            "#fdca26"
                          ],
                          [
                            1,
                            "#f0f921"
                          ]
                        ],
                        "type": "contour"
                      }
                    ],
                    "contourcarpet": [
                      {
                        "colorbar": {
                          "outlinewidth": 0,
                          "ticks": ""
                        },
                        "type": "contourcarpet"
                      }
                    ],
                    "heatmap": [
                      {
                        "colorbar": {
                          "outlinewidth": 0,
                          "ticks": ""
                        },
                        "colorscale": [
                          [
                            0,
                            "#0d0887"
                          ],
                          [
                            0.1111111111111111,
                            "#46039f"
                          ],
                          [
                            0.2222222222222222,
                            "#7201a8"
                          ],
                          [
                            0.3333333333333333,
                            "#9c179e"
                          ],
                          [
                            0.4444444444444444,
                            "#bd3786"
                          ],
                          [
                            0.5555555555555556,
                            "#d8576b"
                          ],
                          [
                            0.6666666666666666,
                            "#ed7953"
                          ],
                          [
                            0.7777777777777778,
                            "#fb9f3a"
                          ],
                          [
                            0.8888888888888888,
                            "#fdca26"
                          ],
                          [
                            1,
                            "#f0f921"
                          ]
                        ],
                        "type": "heatmap"
                      }
                    ],
                    "heatmapgl": [
                      {
                        "colorbar": {
                          "outlinewidth": 0,
                          "ticks": ""
                        },
                        "colorscale": [
                          [
                            0,
                            "#0d0887"
                          ],
                          [
                            0.1111111111111111,
                            "#46039f"
                          ],
                          [
                            0.2222222222222222,
                            "#7201a8"
                          ],
                          [
                            0.3333333333333333,
                            "#9c179e"
                          ],
                          [
                            0.4444444444444444,
                            "#bd3786"
                          ],
                          [
                            0.5555555555555556,
                            "#d8576b"
                          ],
                          [
                            0.6666666666666666,
                            "#ed7953"
                          ],
                          [
                            0.7777777777777778,
                            "#fb9f3a"
                          ],
                          [
                            0.8888888888888888,
                            "#fdca26"
                          ],
                          [
                            1,
                            "#f0f921"
                          ]
                        ],
                        "type": "heatmapgl"
                      }
                    ],
                    "histogram": [
                      {
                        "marker": {
                          "pattern": {
                            "fillmode": "overlay",
                            "size": 10,
                            "solidity": 0.2
                          }
                        },
                        "type": "histogram"
                      }
                    ],
                    "histogram2d": [
                      {
                        "colorbar": {
                          "outlinewidth": 0,
                          "ticks": ""
                        },
                        "colorscale": [
                          [
                            0,
                            "#0d0887"
                          ],
                          [
                            0.1111111111111111,
                            "#46039f"
                          ],
                          [
                            0.2222222222222222,
                            "#7201a8"
                          ],
                          [
                            0.3333333333333333,
                            "#9c179e"
                          ],
                          [
                            0.4444444444444444,
                            "#bd3786"
                          ],
                          [
                            0.5555555555555556,
                            "#d8576b"
                          ],
                          [
                            0.6666666666666666,
                            "#ed7953"
                          ],
                          [
                            0.7777777777777778,
                            "#fb9f3a"
                          ],
                          [
                            0.8888888888888888,
                            "#fdca26"
                          ],
                          [
                            1,
                            "#f0f921"
                          ]
                        ],
                        "type": "histogram2d"
                      }
                    ],
                    "histogram2dcontour": [
                      {
                        "colorbar": {
                          "outlinewidth": 0,
                          "ticks": ""
                        },
                        "colorscale": [
                          [
                            0,
                            "#0d0887"
                          ],
                          [
                            0.1111111111111111,
                            "#46039f"
                          ],
                          [
                            0.2222222222222222,
                            "#7201a8"
                          ],
                          [
                            0.3333333333333333,
                            "#9c179e"
                          ],
                          [
                            0.4444444444444444,
                            "#bd3786"
                          ],
                          [
                            0.5555555555555556,
                            "#d8576b"
                          ],
                          [
                            0.6666666666666666,
                            "#ed7953"
                          ],
                          [
                            0.7777777777777778,
                            "#fb9f3a"
                          ],
                          [
                            0.8888888888888888,
                            "#fdca26"
                          ],
                          [
                            1,
                            "#f0f921"
                          ]
                        ],
                        "type": "histogram2dcontour"
                      }
                    ],
                    "mesh3d": [
                      {
                        "colorbar": {
                          "outlinewidth": 0,
                          "ticks": ""
                        },
                        "type": "mesh3d"
                      }
                    ],
                    "parcoords": [
                      {
                        "line": {
                          "colorbar": {
                            "outlinewidth": 0,
                            "ticks": ""
                          }
                        },
                        "type": "parcoords"
                      }
                    ],
                    "pie": [
                      {
                        "automargin": true,
                        "type": "pie"
                      }
                    ],
                    "scatter": [
                      {
                        "fillpattern": {
                          "fillmode": "overlay",
                          "size": 10,
                          "solidity": 0.2
                        },
                        "type": "scatter"
                      }
                    ],
                    "scatter3d": [
                      {
                        "line": {
                          "colorbar": {
                            "outlinewidth": 0,
                            "ticks": ""
                          }
                        },
                        "marker": {
                          "colorbar": {
                            "outlinewidth": 0,
                            "ticks": ""
                          }
                        },
                        "type": "scatter3d"
                      }
                    ],
                    "scattercarpet": [
                      {
                        "marker": {
                          "colorbar": {
                            "outlinewidth": 0,
                            "ticks": ""
                          }
                        },
                        "type": "scattercarpet"
                      }
                    ],
                    "scattergeo": [
                      {
                        "marker": {
                          "colorbar": {
                            "outlinewidth": 0,
                            "ticks": ""
                          }
                        },
                        "type": "scattergeo"
                      }
                    ],
                    "scattergl": [
                      {
                        "marker": {
                          "colorbar": {
                            "outlinewidth": 0,
                            "ticks": ""
                          }
                        },
                        "type": "scattergl"
                      }
                    ],
                    "scattermapbox": [
                      {
                        "marker": {
                          "colorbar": {
                            "outlinewidth": 0,
                            "ticks": ""
                          }
                        },
                        "type": "scattermapbox"
                      }
                    ],
                    "scatterpolar": [
                      {
                        "marker": {
                          "colorbar": {
                            "outlinewidth": 0,
                            "ticks": ""
                          }
                        },
                        "type": "scatterpolar"
                      }
                    ],
                    "scatterpolargl": [
                      {
                        "marker": {
                          "colorbar": {
                            "outlinewidth": 0,
                            "ticks": ""
                          }
                        },
                        "type": "scatterpolargl"
                      }
                    ],
                    "scatterternary": [
                      {
                        "marker": {
                          "colorbar": {
                            "outlinewidth": 0,
                            "ticks": ""
                          }
                        },
                        "type": "scatterternary"
                      }
                    ],
                    "surface": [
                      {
                        "colorbar": {
                          "outlinewidth": 0,
                          "ticks": ""
                        },
                        "colorscale": [
                          [
                            0,
                            "#0d0887"
                          ],
                          [
                            0.1111111111111111,
                            "#46039f"
                          ],
                          [
                            0.2222222222222222,
                            "#7201a8"
                          ],
                          [
                            0.3333333333333333,
                            "#9c179e"
                          ],
                          [
                            0.4444444444444444,
                            "#bd3786"
                          ],
                          [
                            0.5555555555555556,
                            "#d8576b"
                          ],
                          [
                            0.6666666666666666,
                            "#ed7953"
                          ],
                          [
                            0.7777777777777778,
                            "#fb9f3a"
                          ],
                          [
                            0.8888888888888888,
                            "#fdca26"
                          ],
                          [
                            1,
                            "#f0f921"
                          ]
                        ],
                        "type": "surface"
                      }
                    ],
                    "table": [
                      {
                        "cells": {
                          "fill": {
                            "color": "#EBF0F8"
                          },
                          "line": {
                            "color": "white"
                          }
                        },
                        "header": {
                          "fill": {
                            "color": "#C8D4E3"
                          },
                          "line": {
                            "color": "white"
                          }
                        },
                        "type": "table"
                      }
                    ]
                  },
                  "layout": {
                    "annotationdefaults": {
                      "arrowcolor": "#2a3f5f",
                      "arrowhead": 0,
                      "arrowwidth": 1
                    },
                    "autotypenumbers": "strict",
                    "coloraxis": {
                      "colorbar": {
                        "outlinewidth": 0,
                        "ticks": ""
                      }
                    },
                    "colorscale": {
                      "diverging": [
                        [
                          0,
                          "#8e0152"
                        ],
                        [
                          0.1,
                          "#c51b7d"
                        ],
                        [
                          0.2,
                          "#de77ae"
                        ],
                        [
                          0.3,
                          "#f1b6da"
                        ],
                        [
                          0.4,
                          "#fde0ef"
                        ],
                        [
                          0.5,
                          "#f7f7f7"
                        ],
                        [
                          0.6,
                          "#e6f5d0"
                        ],
                        [
                          0.7,
                          "#b8e186"
                        ],
                        [
                          0.8,
                          "#7fbc41"
                        ],
                        [
                          0.9,
                          "#4d9221"
                        ],
                        [
                          1,
                          "#276419"
                        ]
                      ],
                      "sequential": [
                        [
                          0,
                          "#0d0887"
                        ],
                        [
                          0.1111111111111111,
                          "#46039f"
                        ],
                        [
                          0.2222222222222222,
                          "#7201a8"
                        ],
                        [
                          0.3333333333333333,
                          "#9c179e"
                        ],
                        [
                          0.4444444444444444,
                          "#bd3786"
                        ],
                        [
                          0.5555555555555556,
                          "#d8576b"
                        ],
                        [
                          0.6666666666666666,
                          "#ed7953"
                        ],
                        [
                          0.7777777777777778,
                          "#fb9f3a"
                        ],
                        [
                          0.8888888888888888,
                          "#fdca26"
                        ],
                        [
                          1,
                          "#f0f921"
                        ]
                      ],
                      "sequentialminus": [
                        [
                          0,
                          "#0d0887"
                        ],
                        [
                          0.1111111111111111,
                          "#46039f"
                        ],
                        [
                          0.2222222222222222,
                          "#7201a8"
                        ],
                        [
                          0.3333333333333333,
                          "#9c179e"
                        ],
                        [
                          0.4444444444444444,
                          "#bd3786"
                        ],
                        [
                          0.5555555555555556,
                          "#d8576b"
                        ],
                        [
                          0.6666666666666666,
                          "#ed7953"
                        ],
                        [
                          0.7777777777777778,
                          "#fb9f3a"
                        ],
                        [
                          0.8888888888888888,
                          "#fdca26"
                        ],
                        [
                          1,
                          "#f0f921"
                        ]
                      ]
                    },
                    "colorway": [
                      "#636efa",
                      "#EF553B",
                      "#00cc96",
                      "#ab63fa",
                      "#FFA15A",
                      "#19d3f3",
                      "#FF6692",
                      "#B6E880",
                      "#FF97FF",
                      "#FECB52"
                    ],
                    "font": {
                      "color": "#2a3f5f"
                    },
                    "geo": {
                      "bgcolor": "white",
                      "lakecolor": "white",
                      "landcolor": "white",
                      "showlakes": true,
                      "showland": true,
                      "subunitcolor": "#C8D4E3"
                    },
                    "hoverlabel": {
                      "align": "left"
                    },
                    "hovermode": "closest",
                    "mapbox": {
                      "style": "light"
                    },
                    "paper_bgcolor": "white",
                    "plot_bgcolor": "white",
                    "polar": {
                      "angularaxis": {
                        "gridcolor": "#EBF0F8",
                        "linecolor": "#EBF0F8",
                        "ticks": ""
                      },
                      "bgcolor": "white",
                      "radialaxis": {
                        "gridcolor": "#EBF0F8",
                        "linecolor": "#EBF0F8",
                        "ticks": ""
                      }
                    },
                    "scene": {
                      "xaxis": {
                        "backgroundcolor": "white",
                        "gridcolor": "#DFE8F3",
                        "gridwidth": 2,
                        "linecolor": "#EBF0F8",
                        "showbackground": true,
                        "ticks": "",
                        "zerolinecolor": "#EBF0F8"
                      },
                      "yaxis": {
                        "backgroundcolor": "white",
                        "gridcolor": "#DFE8F3",
                        "gridwidth": 2,
                        "linecolor": "#EBF0F8",
                        "showbackground": true,
                        "ticks": "",
                        "zerolinecolor": "#EBF0F8"
                      },
                      "zaxis": {
                        "backgroundcolor": "white",
                        "gridcolor": "#DFE8F3",
                        "gridwidth": 2,
                        "linecolor": "#EBF0F8",
                        "showbackground": true,
                        "ticks": "",
                        "zerolinecolor": "#EBF0F8"
                      }
                    },
                    "shapedefaults": {
                      "line": {
                        "color": "#2a3f5f"
                      }
                    },
                    "ternary": {
                      "aaxis": {
                        "gridcolor": "#DFE8F3",
                        "linecolor": "#A2B1C6",
                        "ticks": ""
                      },
                      "baxis": {
                        "gridcolor": "#DFE8F3",
                        "linecolor": "#A2B1C6",
                        "ticks": ""
                      },
                      "bgcolor": "white",
                      "caxis": {
                        "gridcolor": "#DFE8F3",
                        "linecolor": "#A2B1C6",
                        "ticks": ""
                      }
                    },
                    "title": {
                      "x": 0.05
                    },
                    "xaxis": {
                      "automargin": true,
                      "gridcolor": "#EBF0F8",
                      "linecolor": "#EBF0F8",
                      "ticks": "",
                      "title": {
                        "standoff": 15
                      },
                      "zerolinecolor": "#EBF0F8",
                      "zerolinewidth": 2
                    },
                    "yaxis": {
                      "automargin": true,
                      "gridcolor": "#EBF0F8",
                      "linecolor": "#EBF0F8",
                      "ticks": "",
                      "title": {
                        "standoff": 15
                      },
                      "zerolinecolor": "#EBF0F8",
                      "zerolinewidth": 2
                    }
                  }
                },
                "title": {
                  "text": "Organization Openness vs Compute Intensity"
                },
                "width": 800,
                "xaxis": {
                  "range": [
                    18,
                    24
                  ],
                  "title": {
                    "text": "Average Training Compute (log-FLOP)"
                  }
                },
                "yaxis": {
                  "title": {
                    "text": "Percentage of Open Models"
                  }
                }
              }
            }
          },
          "metadata": {},
          "output_type": "display_data"
        }
      ],
      "source": [
        "fig = go.Figure()\n",
        "fig.add_trace(\n",
        "  go.Scatter(\n",
        "    x=big_org_models['Average Training Compute (FLOP)'],\n",
        "    y=big_org_models['open_percentage'],\n",
        "    mode='markers+text',\n",
        "    marker=dict(\n",
        "      size=big_org_models['model_count']**0.5,\n",
        "      color='blue',\n",
        "      opacity=0.8,\n",
        "    ),\n",
        "    text=big_org_models['Organization'],\n",
        "    textposition='top center',\n",
        "    showlegend=False,\n",
        "  )\n",
        ")\n",
        "fig.add_trace(\n",
        "  go.Scatter(\n",
        "    x=other_org_models['Average Training Compute (FLOP)'],\n",
        "    y=other_org_models['open_percentage'],\n",
        "    mode='markers',\n",
        "    marker=dict(\n",
        "      size=other_org_models['model_count']**0.5,\n",
        "      color='blue',\n",
        "      opacity=0.5,\n",
        "    ),\n",
        "    showlegend=False,\n",
        "    # hoverinfo='text',\n",
        "    # text=other_org_models['Organization'],\n",
        "  )\n",
        ")\n",
        "\n",
        "# x limits\n",
        "fig.update_xaxes({'range': [18, 24]})\n",
        "\n",
        "# Update layout for better readability\n",
        "fig.update_layout(\n",
        "  width=800,\n",
        "  height=600,\n",
        "  xaxis_title='Average Training Compute (log-FLOP)',\n",
        "  yaxis_title='Percentage of Open Models',\n",
        "  template='plotly_white',\n",
        "  coloraxis_showscale=False,\n",
        "  title='Organization Openness vs Compute Intensity',\n",
        ")\n",
        "\n",
        "# Show the plot\n",
        "fig.show()"
      ]
    },
    {
      "cell_type": "code",
      "execution_count": 15,
      "metadata": {},
      "outputs": [
        {
          "name": "stdout",
          "output_type": "stream",
          "text": [
            "United States of America: 52% (43)\n",
            "China: 37% (42)\n"
          ]
        }
      ],
      "source": [
        "country_openness = defaultdict(list)\n",
        "for country in ['United States of America', 'China']:\n",
        "  for i, row in all_models.dropna(subset=['Country (from Organization)', 'Notability criteria']).iterrows():\n",
        "    if country in row['Country (from Organization)']:\n",
        "      country_openness[country].append(row['open_percentage'])\n",
        "  print(f\"{country}: {np.mean(country_openness[country]):.0f}% ({np.std(country_openness[country]):.0f})\")"
      ]
    },
    {
      "cell_type": "code",
      "execution_count": 19,
      "metadata": {},
      "outputs": [
        {
          "data": {
            "text/plain": [
              "MannwhitneyuResult(statistic=4430.5, pvalue=0.04116141548305803)"
            ]
          },
          "execution_count": 19,
          "metadata": {},
          "output_type": "execute_result"
        }
      ],
      "source": [
        "# Mann-Whitney U test on country_openness\n",
        "from scipy.stats import mannwhitneyu\n",
        "\n",
        "mannwhitneyu(country_openness['United States of America'], country_openness['China'])"
      ]
    },
    {
      "cell_type": "code",
      "execution_count": 23,
      "metadata": {},
      "outputs": [
        {
          "data": {
            "text/plain": [
              "(139, 54)"
            ]
          },
          "execution_count": 23,
          "metadata": {},
          "output_type": "execute_result"
        }
      ],
      "source": [
        "len(country_openness['United States of America']), len(country_openness['China'])"
      ]
    },
    {
      "cell_type": "code",
      "execution_count": 16,
      "metadata": {},
      "outputs": [
        {
          "name": "stdout",
          "output_type": "stream",
          "text": [
            "Industry: 53% (44)\n",
            "Academia: 52% (44)\n"
          ]
        }
      ],
      "source": [
        "org_type_openness = defaultdict(list)\n",
        "for org_type in ['Industry', 'Academia']:\n",
        "  for i, row in all_models.dropna(subset=['Organization categorization', 'Notability criteria']).iterrows():\n",
        "    if org_type in row['Organization categorization']:\n",
        "      org_type_openness[org_type].append(row['open_percentage'])\n",
        "  print(f\"{org_type}: {np.mean(org_type_openness[org_type]):.0f}% ({np.std(org_type_openness[org_type]):.0f})\")"
      ]
    },
    {
      "cell_type": "code",
      "execution_count": 20,
      "metadata": {},
      "outputs": [
        {
          "data": {
            "text/plain": [
              "MannwhitneyuResult(statistic=15972.0, pvalue=0.8064253383229103)"
            ]
          },
          "execution_count": 20,
          "metadata": {},
          "output_type": "execute_result"
        }
      ],
      "source": [
        "# U test\n",
        "mannwhitneyu(org_type_openness['Industry'], org_type_openness['Academia'])"
      ]
    },
    {
      "cell_type": "code",
      "execution_count": 24,
      "metadata": {},
      "outputs": [
        {
          "data": {
            "text/plain": [
              "(174, 181)"
            ]
          },
          "execution_count": 24,
          "metadata": {},
          "output_type": "execute_result"
        }
      ],
      "source": [
        "len(org_type_openness['Industry']), len(org_type_openness['Academia'])"
      ]
    },
    {
      "cell_type": "code",
      "execution_count": null,
      "metadata": {},
      "outputs": [],
      "source": []
    }
  ],
  "metadata": {
    "colab": {
      "provenance": []
    },
    "kernelspec": {
      "display_name": "Python 3",
      "name": "python3"
    },
    "language_info": {
      "codemirror_mode": {
        "name": "ipython",
        "version": 3
      },
      "file_extension": ".py",
      "mimetype": "text/x-python",
      "name": "python",
      "nbconvert_exporter": "python",
      "pygments_lexer": "ipython3",
      "version": "3.12.3"
    }
  },
  "nbformat": 4,
  "nbformat_minor": 0
}
