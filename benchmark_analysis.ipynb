{
 "cells": [
  {
   "cell_type": "code",
   "execution_count": 1,
   "metadata": {},
   "outputs": [],
   "source": [
    "%load_ext autoreload\n",
    "%autoreload 2"
   ]
  },
  {
   "cell_type": "code",
   "execution_count": 2,
   "metadata": {},
   "outputs": [],
   "source": [
    "import numpy as np\n",
    "import os\n",
    "import pandas as pd\n",
    "import plotly.express as px\n",
    "\n",
    "from data import *\n",
    "from plotting import *\n",
    "from regression import *\n",
    "from utils import *"
   ]
  },
  {
   "cell_type": "code",
   "execution_count": 3,
   "metadata": {},
   "outputs": [],
   "source": [
    "results_dir = 'results/benchmark/initial/'\n",
    "os.makedirs(results_dir, exist_ok=True)"
   ]
  },
  {
   "cell_type": "markdown",
   "metadata": {},
   "source": [
    "# Data"
   ]
  },
  {
   "cell_type": "code",
   "execution_count": 7,
   "metadata": {},
   "outputs": [],
   "source": [
    "# Load data\n",
    "pcd_df = load_pcd_df()\n",
    "benchmark_df = load_benchmark_df()"
   ]
  },
  {
   "cell_type": "code",
   "execution_count": 8,
   "metadata": {},
   "outputs": [
    {
     "data": {
      "text/html": [
       "<div>\n",
       "<style scoped>\n",
       "    .dataframe tbody tr th:only-of-type {\n",
       "        vertical-align: middle;\n",
       "    }\n",
       "\n",
       "    .dataframe tbody tr th {\n",
       "        vertical-align: top;\n",
       "    }\n",
       "\n",
       "    .dataframe thead th {\n",
       "        text-align: right;\n",
       "    }\n",
       "</style>\n",
       "<table border=\"1\" class=\"dataframe\">\n",
       "  <thead>\n",
       "    <tr style=\"text-align: right;\">\n",
       "      <th></th>\n",
       "      <th>System</th>\n",
       "      <th>Author(s)</th>\n",
       "      <th>Publication date</th>\n",
       "      <th>Reference</th>\n",
       "      <th>Citations</th>\n",
       "      <th>Peer reviewed?</th>\n",
       "      <th>Link</th>\n",
       "      <th>Parameters</th>\n",
       "      <th>Training Compute</th>\n",
       "      <th>Epoch</th>\n",
       "      <th>...</th>\n",
       "      <th>Perplexity (WT2)</th>\n",
       "      <th>Perplexity (PTB)</th>\n",
       "      <th>Zero-shot?</th>\n",
       "      <th>Uses Cache</th>\n",
       "      <th>Architecture</th>\n",
       "      <th>Base Model</th>\n",
       "      <th>GitHub</th>\n",
       "      <th>Complete row</th>\n",
       "      <th>All ML Systems</th>\n",
       "      <th>System (from All ML Systems)</th>\n",
       "    </tr>\n",
       "  </thead>\n",
       "  <tbody>\n",
       "    <tr>\n",
       "      <th>0</th>\n",
       "      <td>(ensemble): AWD-LSTM-DOC (fin) × 5 (PTB)</td>\n",
       "      <td>Sho Takase, Jun Suzuki, Masaaki Nagata</td>\n",
       "      <td>2018-08-30</td>\n",
       "      <td>Direct Output Connection for a High-Rank Langu...</td>\n",
       "      <td>36.0</td>\n",
       "      <td>NaN</td>\n",
       "      <td>https://arxiv.org/abs/1808.10143</td>\n",
       "      <td>114000000.0</td>\n",
       "      <td>NaN</td>\n",
       "      <td>300.0</td>\n",
       "      <td>...</td>\n",
       "      <td>NaN</td>\n",
       "      <td>47.17</td>\n",
       "      <td>0.0</td>\n",
       "      <td>0</td>\n",
       "      <td>Recurrent</td>\n",
       "      <td>LSTM</td>\n",
       "      <td>https://github.com/nttcslab-nlp/doc_lm</td>\n",
       "      <td>1</td>\n",
       "      <td>(ensemble): AWD-LSTM-DOC (fin) × 5 (PTB)</td>\n",
       "      <td>(ensemble): AWD-LSTM-DOC (fin) × 5 (PTB)</td>\n",
       "    </tr>\n",
       "    <tr>\n",
       "      <th>1</th>\n",
       "      <td>(ensemble): AWD-LSTM-DOC (fin) × 5 (WT2)</td>\n",
       "      <td>Sho Takase, Jun Suzuki, Masaaki Nagata</td>\n",
       "      <td>2018-08-30</td>\n",
       "      <td>Direct Output Connection for a High-Rank Langu...</td>\n",
       "      <td>36.0</td>\n",
       "      <td>NaN</td>\n",
       "      <td>https://arxiv.org/abs/1808.10143</td>\n",
       "      <td>185000000.0</td>\n",
       "      <td>NaN</td>\n",
       "      <td>300.0</td>\n",
       "      <td>...</td>\n",
       "      <td>53.09</td>\n",
       "      <td>NaN</td>\n",
       "      <td>0.0</td>\n",
       "      <td>0</td>\n",
       "      <td>Recurrent</td>\n",
       "      <td>LSTM</td>\n",
       "      <td>https://github.com/nttcslab-nlp/doc_lm</td>\n",
       "      <td>1</td>\n",
       "      <td>(ensemble): AWD-LSTM-DOC (fin) × 5 (WT2)</td>\n",
       "      <td>(ensemble): AWD-LSTM-DOC (fin) × 5 (WT2)</td>\n",
       "    </tr>\n",
       "    <tr>\n",
       "      <th>2</th>\n",
       "      <td>$\\infty$-former (SM)</td>\n",
       "      <td>Pedro Henrique Martins, Zita Marinho, André F....</td>\n",
       "      <td>2021-09-01</td>\n",
       "      <td>$\\infty$-former: Infinite Memory Transformer</td>\n",
       "      <td>31.0</td>\n",
       "      <td>NaN</td>\n",
       "      <td>https://arxiv.org/abs/2109.00301</td>\n",
       "      <td>117000000.0</td>\n",
       "      <td>1.200000e+22</td>\n",
       "      <td>1.0</td>\n",
       "      <td>...</td>\n",
       "      <td>NaN</td>\n",
       "      <td>NaN</td>\n",
       "      <td>1.0</td>\n",
       "      <td>0</td>\n",
       "      <td>Transformer</td>\n",
       "      <td>GPT</td>\n",
       "      <td>https://github.com/deep-spin/infinite-former</td>\n",
       "      <td>1</td>\n",
       "      <td>$\\infty$-former (SM)</td>\n",
       "      <td>$\\infty$-former (SM)</td>\n",
       "    </tr>\n",
       "    <tr>\n",
       "      <th>3</th>\n",
       "      <td>1-layer-LSTM</td>\n",
       "      <td>H. T. Kung, Bradley McDanel, Sai Qian Zhang</td>\n",
       "      <td>2020-07-13</td>\n",
       "      <td>Term Revealing: Furthering Quantization at Run...</td>\n",
       "      <td>9.0</td>\n",
       "      <td>NaN</td>\n",
       "      <td>https://arxiv.org/pdf/2007.06389</td>\n",
       "      <td>86500000.0</td>\n",
       "      <td>NaN</td>\n",
       "      <td>NaN</td>\n",
       "      <td>...</td>\n",
       "      <td>86.85</td>\n",
       "      <td>NaN</td>\n",
       "      <td>0.0</td>\n",
       "      <td>0</td>\n",
       "      <td>Recurrent</td>\n",
       "      <td>LSTM</td>\n",
       "      <td>NaN</td>\n",
       "      <td>1</td>\n",
       "      <td>1-layer-LSTM</td>\n",
       "      <td>1-layer-LSTM</td>\n",
       "    </tr>\n",
       "    <tr>\n",
       "      <th>4</th>\n",
       "      <td>2-layer skip-LSTM + dropout tuning (PTB)</td>\n",
       "      <td>Gábor Melis, Charles Blundell, Tomáš Kočiský, ...</td>\n",
       "      <td>2018-05-23</td>\n",
       "      <td>Pushing the bounds of dropout</td>\n",
       "      <td>14.0</td>\n",
       "      <td>NaN</td>\n",
       "      <td>https://arxiv.org/abs/1805.09208</td>\n",
       "      <td>5400000.0</td>\n",
       "      <td>NaN</td>\n",
       "      <td>NaN</td>\n",
       "      <td>...</td>\n",
       "      <td>NaN</td>\n",
       "      <td>55.30</td>\n",
       "      <td>0.0</td>\n",
       "      <td>0</td>\n",
       "      <td>Recurrent</td>\n",
       "      <td>LSTM</td>\n",
       "      <td>NaN</td>\n",
       "      <td>1</td>\n",
       "      <td>2-layer skip-LSTM + dropout tuning (PTB)</td>\n",
       "      <td>2-layer skip-LSTM + dropout tuning (PTB)</td>\n",
       "    </tr>\n",
       "    <tr>\n",
       "      <th>...</th>\n",
       "      <td>...</td>\n",
       "      <td>...</td>\n",
       "      <td>...</td>\n",
       "      <td>...</td>\n",
       "      <td>...</td>\n",
       "      <td>...</td>\n",
       "      <td>...</td>\n",
       "      <td>...</td>\n",
       "      <td>...</td>\n",
       "      <td>...</td>\n",
       "      <td>...</td>\n",
       "      <td>...</td>\n",
       "      <td>...</td>\n",
       "      <td>...</td>\n",
       "      <td>...</td>\n",
       "      <td>...</td>\n",
       "      <td>...</td>\n",
       "      <td>...</td>\n",
       "      <td>...</td>\n",
       "      <td>...</td>\n",
       "      <td>...</td>\n",
       "    </tr>\n",
       "    <tr>\n",
       "      <th>403</th>\n",
       "      <td>WeNet (PTB)</td>\n",
       "      <td>Zhiheng Huang, Bing Xiang</td>\n",
       "      <td>2019-04-08</td>\n",
       "      <td>WeNet: Weighted Networks for Recurrent Network...</td>\n",
       "      <td>5.0</td>\n",
       "      <td>NaN</td>\n",
       "      <td>https://arxiv.org/pdf/1904.03819</td>\n",
       "      <td>23000000.0</td>\n",
       "      <td>NaN</td>\n",
       "      <td>NaN</td>\n",
       "      <td>...</td>\n",
       "      <td>NaN</td>\n",
       "      <td>54.80</td>\n",
       "      <td>0.0</td>\n",
       "      <td>0</td>\n",
       "      <td>NAS</td>\n",
       "      <td>WeNet</td>\n",
       "      <td>NaN</td>\n",
       "      <td>1</td>\n",
       "      <td>WeNet (PTB)</td>\n",
       "      <td>WeNet (PTB)</td>\n",
       "    </tr>\n",
       "    <tr>\n",
       "      <th>404</th>\n",
       "      <td>WeNet (WT2)</td>\n",
       "      <td>Zhiheng Huang, Bing Xiang</td>\n",
       "      <td>2019-04-08</td>\n",
       "      <td>WeNet: Weighted Networks for Recurrent Network...</td>\n",
       "      <td>5.0</td>\n",
       "      <td>NaN</td>\n",
       "      <td>https://arxiv.org/pdf/1904.03819</td>\n",
       "      <td>33000000.0</td>\n",
       "      <td>NaN</td>\n",
       "      <td>NaN</td>\n",
       "      <td>...</td>\n",
       "      <td>66.60</td>\n",
       "      <td>NaN</td>\n",
       "      <td>0.0</td>\n",
       "      <td>0</td>\n",
       "      <td>NAS</td>\n",
       "      <td>WeNet</td>\n",
       "      <td>NaN</td>\n",
       "      <td>1</td>\n",
       "      <td>WeNet (WT2),WeNet (Penn Treebank)</td>\n",
       "      <td>WeNet (WT2), WeNet (Penn Treebank)</td>\n",
       "    </tr>\n",
       "    <tr>\n",
       "      <th>405</th>\n",
       "      <td>Word-Independent-SRNN+KN5</td>\n",
       "      <td>Youssef Oualil, Clayton Greenberg, Mittul Sing...</td>\n",
       "      <td>2017-03-23</td>\n",
       "      <td>Sequential Recurrent Neural Networks for Langu...</td>\n",
       "      <td>7.0</td>\n",
       "      <td>NaN</td>\n",
       "      <td>https://arxiv.org/pdf/1703.08068</td>\n",
       "      <td>5320000.0</td>\n",
       "      <td>NaN</td>\n",
       "      <td>NaN</td>\n",
       "      <td>...</td>\n",
       "      <td>NaN</td>\n",
       "      <td>94.00</td>\n",
       "      <td>0.0</td>\n",
       "      <td>0</td>\n",
       "      <td>Recurrent</td>\n",
       "      <td>RNN</td>\n",
       "      <td>NaN</td>\n",
       "      <td>1</td>\n",
       "      <td>Word-Independent-SRNN+KN5</td>\n",
       "      <td>Word-Independent-SRNN+KN5</td>\n",
       "    </tr>\n",
       "    <tr>\n",
       "      <th>406</th>\n",
       "      <td>Zoneout + Variational LSTM (PTB)</td>\n",
       "      <td>Stephen Merity, Caiming Xiong, James Bradbury,...</td>\n",
       "      <td>2016-09-26</td>\n",
       "      <td>Pointer Sentinel Mixture Models</td>\n",
       "      <td>1558.0</td>\n",
       "      <td>NaN</td>\n",
       "      <td>https://arxiv.org/abs/1609.07843</td>\n",
       "      <td>21000000.0</td>\n",
       "      <td>NaN</td>\n",
       "      <td>64.0</td>\n",
       "      <td>...</td>\n",
       "      <td>NaN</td>\n",
       "      <td>80.60</td>\n",
       "      <td>0.0</td>\n",
       "      <td>0</td>\n",
       "      <td>Recurrent</td>\n",
       "      <td>LSTM</td>\n",
       "      <td>NaN</td>\n",
       "      <td>1</td>\n",
       "      <td>Zoneout + Variational LSTM (PTB)</td>\n",
       "      <td>Zoneout + Variational LSTM (PTB)</td>\n",
       "    </tr>\n",
       "    <tr>\n",
       "      <th>407</th>\n",
       "      <td>Zoneout + Variational LSTM (WT2)</td>\n",
       "      <td>Stephen Merity, Caiming Xiong, James Bradbury,...</td>\n",
       "      <td>2016-09-26</td>\n",
       "      <td>Pointer Sentinel Mixture Models</td>\n",
       "      <td>1558.0</td>\n",
       "      <td>NaN</td>\n",
       "      <td>https://arxiv.org/abs/1609.07843</td>\n",
       "      <td>21000000.0</td>\n",
       "      <td>NaN</td>\n",
       "      <td>64.0</td>\n",
       "      <td>...</td>\n",
       "      <td>100.90</td>\n",
       "      <td>NaN</td>\n",
       "      <td>0.0</td>\n",
       "      <td>0</td>\n",
       "      <td>Recurrent</td>\n",
       "      <td>LSTM</td>\n",
       "      <td>NaN</td>\n",
       "      <td>1</td>\n",
       "      <td>Zoneout + Variational LSTM (WT2)</td>\n",
       "      <td>Zoneout + Variational LSTM (WT2)</td>\n",
       "    </tr>\n",
       "  </tbody>\n",
       "</table>\n",
       "<p>408 rows × 29 columns</p>\n",
       "</div>"
      ],
      "text/plain": [
       "                                       System  \\\n",
       "0    (ensemble): AWD-LSTM-DOC (fin) × 5 (PTB)   \n",
       "1    (ensemble): AWD-LSTM-DOC (fin) × 5 (WT2)   \n",
       "2                        $\\infty$-former (SM)   \n",
       "3                                1-layer-LSTM   \n",
       "4    2-layer skip-LSTM + dropout tuning (PTB)   \n",
       "..                                        ...   \n",
       "403                               WeNet (PTB)   \n",
       "404                               WeNet (WT2)   \n",
       "405                 Word-Independent-SRNN+KN5   \n",
       "406          Zoneout + Variational LSTM (PTB)   \n",
       "407          Zoneout + Variational LSTM (WT2)   \n",
       "\n",
       "                                             Author(s) Publication date  \\\n",
       "0               Sho Takase, Jun Suzuki, Masaaki Nagata       2018-08-30   \n",
       "1               Sho Takase, Jun Suzuki, Masaaki Nagata       2018-08-30   \n",
       "2    Pedro Henrique Martins, Zita Marinho, André F....       2021-09-01   \n",
       "3          H. T. Kung, Bradley McDanel, Sai Qian Zhang       2020-07-13   \n",
       "4    Gábor Melis, Charles Blundell, Tomáš Kočiský, ...       2018-05-23   \n",
       "..                                                 ...              ...   \n",
       "403                          Zhiheng Huang, Bing Xiang       2019-04-08   \n",
       "404                          Zhiheng Huang, Bing Xiang       2019-04-08   \n",
       "405  Youssef Oualil, Clayton Greenberg, Mittul Sing...       2017-03-23   \n",
       "406  Stephen Merity, Caiming Xiong, James Bradbury,...       2016-09-26   \n",
       "407  Stephen Merity, Caiming Xiong, James Bradbury,...       2016-09-26   \n",
       "\n",
       "                                             Reference  Citations  \\\n",
       "0    Direct Output Connection for a High-Rank Langu...       36.0   \n",
       "1    Direct Output Connection for a High-Rank Langu...       36.0   \n",
       "2         $\\infty$-former: Infinite Memory Transformer       31.0   \n",
       "3    Term Revealing: Furthering Quantization at Run...        9.0   \n",
       "4                        Pushing the bounds of dropout       14.0   \n",
       "..                                                 ...        ...   \n",
       "403  WeNet: Weighted Networks for Recurrent Network...        5.0   \n",
       "404  WeNet: Weighted Networks for Recurrent Network...        5.0   \n",
       "405  Sequential Recurrent Neural Networks for Langu...        7.0   \n",
       "406                    Pointer Sentinel Mixture Models     1558.0   \n",
       "407                    Pointer Sentinel Mixture Models     1558.0   \n",
       "\n",
       "     Peer reviewed?                              Link   Parameters  \\\n",
       "0               NaN  https://arxiv.org/abs/1808.10143  114000000.0   \n",
       "1               NaN  https://arxiv.org/abs/1808.10143  185000000.0   \n",
       "2               NaN  https://arxiv.org/abs/2109.00301  117000000.0   \n",
       "3               NaN  https://arxiv.org/pdf/2007.06389   86500000.0   \n",
       "4               NaN  https://arxiv.org/abs/1805.09208    5400000.0   \n",
       "..              ...                               ...          ...   \n",
       "403             NaN  https://arxiv.org/pdf/1904.03819   23000000.0   \n",
       "404             NaN  https://arxiv.org/pdf/1904.03819   33000000.0   \n",
       "405             NaN  https://arxiv.org/pdf/1703.08068    5320000.0   \n",
       "406             NaN  https://arxiv.org/abs/1609.07843   21000000.0   \n",
       "407             NaN  https://arxiv.org/abs/1609.07843   21000000.0   \n",
       "\n",
       "     Training Compute  Epoch  ...  Perplexity (WT2)  Perplexity (PTB)  \\\n",
       "0                 NaN  300.0  ...               NaN             47.17   \n",
       "1                 NaN  300.0  ...             53.09               NaN   \n",
       "2        1.200000e+22    1.0  ...               NaN               NaN   \n",
       "3                 NaN    NaN  ...             86.85               NaN   \n",
       "4                 NaN    NaN  ...               NaN             55.30   \n",
       "..                ...    ...  ...               ...               ...   \n",
       "403               NaN    NaN  ...               NaN             54.80   \n",
       "404               NaN    NaN  ...             66.60               NaN   \n",
       "405               NaN    NaN  ...               NaN             94.00   \n",
       "406               NaN   64.0  ...               NaN             80.60   \n",
       "407               NaN   64.0  ...            100.90               NaN   \n",
       "\n",
       "     Zero-shot?  Uses Cache Architecture  Base Model  \\\n",
       "0           0.0           0    Recurrent        LSTM   \n",
       "1           0.0           0    Recurrent        LSTM   \n",
       "2           1.0           0  Transformer         GPT   \n",
       "3           0.0           0    Recurrent        LSTM   \n",
       "4           0.0           0    Recurrent        LSTM   \n",
       "..          ...         ...          ...         ...   \n",
       "403         0.0           0          NAS       WeNet   \n",
       "404         0.0           0          NAS       WeNet   \n",
       "405         0.0           0    Recurrent         RNN   \n",
       "406         0.0           0    Recurrent        LSTM   \n",
       "407         0.0           0    Recurrent        LSTM   \n",
       "\n",
       "                                           GitHub Complete row  \\\n",
       "0          https://github.com/nttcslab-nlp/doc_lm            1   \n",
       "1          https://github.com/nttcslab-nlp/doc_lm            1   \n",
       "2    https://github.com/deep-spin/infinite-former            1   \n",
       "3                                             NaN            1   \n",
       "4                                             NaN            1   \n",
       "..                                            ...          ...   \n",
       "403                                           NaN            1   \n",
       "404                                           NaN            1   \n",
       "405                                           NaN            1   \n",
       "406                                           NaN            1   \n",
       "407                                           NaN            1   \n",
       "\n",
       "                               All ML Systems  \\\n",
       "0    (ensemble): AWD-LSTM-DOC (fin) × 5 (PTB)   \n",
       "1    (ensemble): AWD-LSTM-DOC (fin) × 5 (WT2)   \n",
       "2                        $\\infty$-former (SM)   \n",
       "3                                1-layer-LSTM   \n",
       "4    2-layer skip-LSTM + dropout tuning (PTB)   \n",
       "..                                        ...   \n",
       "403                               WeNet (PTB)   \n",
       "404         WeNet (WT2),WeNet (Penn Treebank)   \n",
       "405                 Word-Independent-SRNN+KN5   \n",
       "406          Zoneout + Variational LSTM (PTB)   \n",
       "407          Zoneout + Variational LSTM (WT2)   \n",
       "\n",
       "                 System (from All ML Systems)  \n",
       "0    (ensemble): AWD-LSTM-DOC (fin) × 5 (PTB)  \n",
       "1    (ensemble): AWD-LSTM-DOC (fin) × 5 (WT2)  \n",
       "2                        $\\infty$-former (SM)  \n",
       "3                                1-layer-LSTM  \n",
       "4    2-layer skip-LSTM + dropout tuning (PTB)  \n",
       "..                                        ...  \n",
       "403                               WeNet (PTB)  \n",
       "404        WeNet (WT2), WeNet (Penn Treebank)  \n",
       "405                 Word-Independent-SRNN+KN5  \n",
       "406          Zoneout + Variational LSTM (PTB)  \n",
       "407          Zoneout + Variational LSTM (WT2)  \n",
       "\n",
       "[408 rows x 29 columns]"
      ]
     },
     "execution_count": 8,
     "metadata": {},
     "output_type": "execute_result"
    }
   ],
   "source": [
    "benchmark_df"
   ]
  },
  {
   "cell_type": "code",
   "execution_count": 10,
   "metadata": {},
   "outputs": [],
   "source": [
    "# Set System as index\n",
    "benchmark_df.set_index('System', inplace=True)\n",
    "pcd_df.set_index('System', inplace=True)"
   ]
  },
  {
   "cell_type": "code",
   "execution_count": 12,
   "metadata": {},
   "outputs": [
    {
     "data": {
      "text/plain": [
       "{'$\\\\infty$-former (SM)',\n",
       " '(ensemble): AWD-LSTM-DOC (fin) × 5 (PTB)',\n",
       " '(ensemble): AWD-LSTM-DOC (fin) × 5 (WT2)',\n",
       " '1-layer-LSTM',\n",
       " '2-layer skip-LSTM + dropout tuning (PTB)',\n",
       " '2-layer skip-LSTM + dropout tuning (WT2)',\n",
       " '2-layer-LSTM+Deep-Gradient-Compression',\n",
       " '2nd order FOFE-FNNLM',\n",
       " '3-Layer-Tensor-Transformer+AdaHessian',\n",
       " '4 layer Densely Connected LSTM',\n",
       " '4 layer QRNN (h=2500)',\n",
       " '4 layer QRNN + dynamic evaluation',\n",
       " '4-gram + 8 DENN',\n",
       " '6-Layer-Tensor-Transformer+AdaHessian',\n",
       " 'ADP-FAIRSEQ',\n",
       " 'ADP-FAIRSEQ+NGRAMRES',\n",
       " 'AFP+FPI (PTB)',\n",
       " 'AFP+FPI (WT2)',\n",
       " 'ALiBi (L=3072, Lvalid = 3072)',\n",
       " 'AWD-FWM (PTB)',\n",
       " 'AWD-FWM (WT2)',\n",
       " 'AWD-LSTM',\n",
       " 'AWD-LSTM + DeFINE',\n",
       " 'AWD-LSTM + MoS + Partial Shuffled',\n",
       " 'AWD-LSTM + Phrase Induction + finetuning',\n",
       " 'AWD-LSTM + dynamic eval (PTB)',\n",
       " 'AWD-LSTM + dynamic eval (WT2)',\n",
       " 'AWD-LSTM - 3-layer LSTM (tied) + continuous cache pointer (PTB)',\n",
       " 'AWD-LSTM - 3-layer LSTM (tied) + continuous cache pointer (WT2)',\n",
       " 'AWD-LSTM+Behaviorial-Gating',\n",
       " 'AWD-LSTM+WT+Cache+IOG (PTB)',\n",
       " 'AWD-LSTM+WT+Cache+IOG (WT2)',\n",
       " 'AWD-LSTM-DOC (fin) (23M)',\n",
       " 'AWD-LSTM-DOC (fin) (37M)',\n",
       " 'AWD-LSTM-DRILL + dynamic evaluation† (PTB)',\n",
       " 'AWD-LSTM-DRILL + dynamic evaluation† (WT2)',\n",
       " 'AWD-LSTM-MoS + dynamic evaluation (PTB, 2017)',\n",
       " 'AWD-LSTM-MoS + dynamic evaluation (PTB, 2018)',\n",
       " 'AWD-LSTM-MoS + dynamic evaluation (WT2, 2017)',\n",
       " 'AWD-LSTM-MoS + dynamic evaluation (WT2, 2018)',\n",
       " 'AWD-LSTM-MoS+PDR + dynamic evaluation (PTB)',\n",
       " 'AWD-LSTM-MoS+PDR + dynamic evaluation (WT2)',\n",
       " 'Adaptive Input Transformer + RD',\n",
       " 'Adaptive Inputs + LayerDrop',\n",
       " 'Adaptive LSTM + DeFINE',\n",
       " 'AdvSoft + 4 layer QRNN + dynamic evaluation',\n",
       " 'Adversarial + AWD-LSTM-MoS + partial shuffled',\n",
       " 'All-attention network + adaptive span',\n",
       " 'Alleviated TOI 10 (PTB)',\n",
       " 'Alleviated TOI 10 (WT103)',\n",
       " 'Alleviated TOI 10 (WT2)',\n",
       " 'Amended-DARTS',\n",
       " 'B2T connection (16L)',\n",
       " 'BERT-Large-CAS (PTB+WT2+WT103)',\n",
       " 'BERT-Large-CAS (WT103)',\n",
       " 'BERT-Large-CAS (WT2)',\n",
       " 'BLOOM-1.7B',\n",
       " 'BLOOM-1B',\n",
       " 'BLOOM-3B',\n",
       " 'BLOOM-560M',\n",
       " 'BLOOM-7.1B',\n",
       " 'Base LM + kNN LM + Continuous Cache',\n",
       " 'Byte-mLSTM+emb+WN+VD',\n",
       " 'CD-GraB (WT103)',\n",
       " 'CD-GraB (WT2)',\n",
       " 'CODA',\n",
       " 'CT-MoS (PTB)',\n",
       " 'CT-MoS (WT2)',\n",
       " 'CT-MoS + DynamicEval (PTB)',\n",
       " 'CT-MoS + DynamicEval (WT2)',\n",
       " 'Char-CNN-BiLSTM',\n",
       " 'Characterizing Verbatim Short-Term Memory in Neural Language Models (182M)',\n",
       " 'Chinchilla',\n",
       " 'Compress-LSTM (4.6M)',\n",
       " 'Compress-LSTM (66M)',\n",
       " 'Compressive Transformers for Long-Range Sequence Modelling',\n",
       " 'CryptoGRU',\n",
       " 'D-LSRC(100)+KN5',\n",
       " 'D-LSRC(200)+KN5',\n",
       " 'DARTS',\n",
       " 'DARTS (second order)',\n",
       " 'DEQ-Transformer (Medium, Adaptive Embedding)',\n",
       " 'DEQ-Transformer (Post-LN) + Jacobian Regularisation',\n",
       " 'DEQ-TrellisNet',\n",
       " 'DITTO',\n",
       " 'DOC + Finetune∗ + Partial Shuffle (PTB)',\n",
       " 'DOC + Finetune∗ + Partial Shuffle (WT2)',\n",
       " 'DOT(S)-RNN',\n",
       " 'DeLight',\n",
       " 'Decay RNN',\n",
       " 'Decaying Fast Weights Transformer',\n",
       " 'Deep RNN',\n",
       " 'Delta RNN (+ full context)',\n",
       " 'Densely Connected LSTM + Var. Dropout',\n",
       " 'DiffQ Transformer (16L)',\n",
       " 'DiffStk-MRNN',\n",
       " 'Dropout-LSTM+Noise(Bernoulli) (PTB)',\n",
       " 'Dropout-LSTM+Noise(Bernoulli) (WT2)',\n",
       " 'Dropout-LSTM+Noise(Laplace)',\n",
       " 'E-SPA',\n",
       " 'EGRU (PTB)',\n",
       " 'EGRU (WT2)',\n",
       " 'EI-REHN-1000D',\n",
       " 'EI-REHN-1200D',\n",
       " 'ENAS',\n",
       " 'EN^2AS with performance reward',\n",
       " 'ERNIE-Doc (151M)',\n",
       " 'ERNIE-Doc (247M)',\n",
       " 'Engin-Base (NE)',\n",
       " 'Engin-Medium(NE)',\n",
       " 'Engin-XL(NE)',\n",
       " 'FAIRSEQ Adaptive Inputs',\n",
       " 'FMMformer (2-kernel fast weight + Band20)',\n",
       " 'FNetAR Medium',\n",
       " 'Fairseq + UID: variance',\n",
       " 'Feedback Transformer',\n",
       " 'Fine-tuned-AWD-LSTM-DOC(fin)',\n",
       " 'Frage-AWD-LSTM-MemoryAug-NeuralCache (PTB)',\n",
       " 'Frage-AWD-LSTM-MemoryAug-NeuralCache (WT2)',\n",
       " 'Fraternal dropout + AWD-LSTM 3-layer (PTB)',\n",
       " 'Fraternal dropout + AWD-LSTM 3-layer (WT2)',\n",
       " 'GCNN-14',\n",
       " 'GCRN-M1, dropout',\n",
       " 'GL-LWGC-AWD-MoS-LSTM + dynamic evaluation (PTB)',\n",
       " 'GL-LWGC-AWD-MoS-LSTM + dynamic evaluation (WT2)',\n",
       " 'GLM-10B',\n",
       " 'GLM-10B-bidirectional',\n",
       " 'GLM-10B-unidirectional',\n",
       " 'GLM-130B',\n",
       " 'GLM-2B',\n",
       " 'GPT-2 (1.5B, Curriculum Learning 45K)',\n",
       " 'GPT-2 (117M)',\n",
       " 'GPT-2 (117M, SLW 110K)',\n",
       " 'GPT-2 (345M)',\n",
       " 'GPT-2 (762M)',\n",
       " 'GPT-2 (fine-tuned with HYDRA)',\n",
       " 'GPT-2+Active-SGD',\n",
       " 'GPT-2-Medium+Pixelfly',\n",
       " 'GPT-2-Small+Pixelfly',\n",
       " 'GPT-3 175B (davinci)',\n",
       " 'GPT-J-6B',\n",
       " 'GPT-Neo-1.3B',\n",
       " 'GPT-Neo-1.3B (finetuned)',\n",
       " 'GPT-Neo-125M',\n",
       " 'GPT-Neo-125M(finetuned)',\n",
       " 'GPT-Neo-2.7B',\n",
       " 'GPT-Neo-2.7B (finetuned on PTB)',\n",
       " 'GPT-Neo-2.7B (finetuned)',\n",
       " 'GPT-NeoX-20B',\n",
       " 'GPT2+CoreLM+Fine-Tuning',\n",
       " 'GPT2-Large+LHOPT',\n",
       " 'GPT2-LayerFusion-WS',\n",
       " 'GPT3-6.7B (rerun of original)',\n",
       " 'GPT3-6.7B + muP',\n",
       " 'GRU + p-tHSM (pretrain via Brown) (PTB)',\n",
       " 'GRU + p-tHSM (pretrain via Brown) (WT103)',\n",
       " 'GRU + p-tHSM (pretrain via Brown) (WT2)',\n",
       " 'Gated HORNN (3rd order)',\n",
       " 'Gopher (280B)',\n",
       " 'Gopher (7.1B)',\n",
       " 'Grown to Prune Two-layer stacked LSTM',\n",
       " 'H-LSTM+wg+rcp+rcg+wp',\n",
       " 'HSO',\n",
       " 'Hybrid H3-1.3B',\n",
       " 'Hybrid H3-125M',\n",
       " 'Hybrid H3-2.7B',\n",
       " 'Hybrid H3-355M',\n",
       " 'Hyena-3-slim',\n",
       " 'ISS',\n",
       " 'Integer Transformer',\n",
       " 'KnGPT2',\n",
       " 'LBL',\n",
       " 'LLaMA-13B',\n",
       " 'LLaMA-13B (LoRA finetuned)',\n",
       " 'LLaMA-33B',\n",
       " 'LLaMA-33B (LoRA finetuned)',\n",
       " 'LLaMA-65B',\n",
       " 'LLaMA-65B (LoRA finetuned)',\n",
       " 'LLaMA-7B',\n",
       " 'LLaMA-7B (LoRA finetuned)',\n",
       " 'LSTM (2018)',\n",
       " 'LSTM (Hebbian, Cache, MbPA)',\n",
       " 'LSTM (PTB)',\n",
       " 'LSTM (WT103)',\n",
       " 'LSTM (WT2)',\n",
       " 'LSTM + dynamic eval',\n",
       " 'LSTM(large)+Sememe+cell',\n",
       " 'LSTM(medium)+Sememe+cell',\n",
       " 'LSTM+Adam+Lookahead',\n",
       " 'LSTM+GraB',\n",
       " 'LSTM+NeuralCache',\n",
       " 'LSTM+Noise(Beta)',\n",
       " 'LSTM-3-layer+Gadam',\n",
       " 'LSTM-300units',\n",
       " 'LSTM-Char-Large',\n",
       " 'LSTM-Large+Behaviorial-Gating',\n",
       " 'LSTM-Medium+Behaviorial-Gating',\n",
       " 'LSTM-MemoryAug (PTB)',\n",
       " 'LSTM-MemoryAug (WT2)',\n",
       " 'LTM',\n",
       " 'L_UL-seq',\n",
       " 'LaMemo',\n",
       " 'Large regularized LSTM',\n",
       " 'Linear Transformer (large)',\n",
       " 'Linear Transformer (small)',\n",
       " 'Local Transformer',\n",
       " 'MGK 4 heads (medium)',\n",
       " 'MGK 8 heads (small)',\n",
       " 'MMLSTM',\n",
       " 'MPT-7B',\n",
       " 'Megatron-LM (2.5B)',\n",
       " 'Megatron-LM (355M)',\n",
       " 'Megatron-LM (8.3B)',\n",
       " 'MemSizer',\n",
       " 'Memformer (4 encoder + 16 decoder)',\n",
       " 'MicroNet (Adaptive, Cache)',\n",
       " 'Mogrifier (d2, MC) + dynamic eval',\n",
       " 'Mogrifier (d2, MoS2, MC) + dynamic eval',\n",
       " 'Mogrifier RLSTM (PTB)',\n",
       " 'Mogrifier RLSTM (WT2)',\n",
       " 'Monarch-GPT-2-Medium',\n",
       " 'Monarch-GPT-2-Small',\n",
       " 'Multi-cell LSTM',\n",
       " 'Multipop Adaptive Continuous Stack (PTB)',\n",
       " 'Multipop Adaptive Continuous Stack (WT2)',\n",
       " 'N-gram',\n",
       " 'N-gram+Cache',\n",
       " 'NAS+ESS (156M)',\n",
       " 'NAS+ESS (23M)',\n",
       " 'NLM',\n",
       " 'NMM(LSTM+RNN)',\n",
       " 'NMST+GPT-2',\n",
       " 'Neural Architecture Search with base 8 and shared embeddings',\n",
       " 'Neural cache model (size=2000)',\n",
       " 'Neural cache model (size=2000) (300M)',\n",
       " 'NoPos',\n",
       " 'ONLSTM-SYD',\n",
       " 'OPT-1.3B',\n",
       " 'OPT-1.3B (finetuned on PTB)',\n",
       " 'OPT-1.3B (finetuned)',\n",
       " 'OPT-125M (finetuned on PTB)',\n",
       " 'OPT-125M (finetuned)',\n",
       " 'OPT-13B',\n",
       " 'OPT-175B',\n",
       " 'OPT-2.7B',\n",
       " 'OPT-2.7B (finetuned on PTB)',\n",
       " 'OPT-2.7B (finetuned on WT2)',\n",
       " 'OPT-30B',\n",
       " 'OPT-350M',\n",
       " 'OPT-6.7B',\n",
       " 'OPT-66B',\n",
       " 'PAR Transformer Large',\n",
       " 'PermuteFormer',\n",
       " 'Pointer Sentinel-LSTM',\n",
       " 'Pointer Sentinel-LSTM (medium)',\n",
       " 'Progressive LRD',\n",
       " 'Pythia-1.4b',\n",
       " 'Pythia-12b',\n",
       " 'Pythia-160m',\n",
       " 'Pythia-1b',\n",
       " 'Pythia-2.8b',\n",
       " 'Pythia-410m',\n",
       " 'Pythia-6.9b',\n",
       " 'Pythia-70m',\n",
       " 'QRNN',\n",
       " 'Quantized ADMM',\n",
       " 'R-Transformer',\n",
       " 'RETRO-7B',\n",
       " 'RFA-GATE-Gaussian-Stateful Big',\n",
       " 'RGC+ASQ (PTB)',\n",
       " 'RGC+ASQ (WT2)',\n",
       " 'RHN(depth=40)',\n",
       " 'RHN+HSG(depth=40)',\n",
       " 'RNN',\n",
       " 'RNN (SGD+CLR) (PTB)',\n",
       " 'RNN + char2-MS-vec',\n",
       " 'RNN + char3-MS-vec',\n",
       " 'RNN + char4-MS-vec',\n",
       " 'RNN Baseline',\n",
       " 'RNN+LDA',\n",
       " 'RNN+LDA+KN5+cache',\n",
       " 'RNN+LSA+KN5+cache (model combination w/ linear extrapolation)',\n",
       " 'RNN+weight noise+dynamic eval',\n",
       " 'RNNLM + Dynamic KL Regularization',\n",
       " 'RNNLM + Dynamic KL Regularization (WT2)',\n",
       " 'RNS-RNN',\n",
       " 'RSM',\n",
       " 'Relational Memory Core',\n",
       " 'Routing Transformer',\n",
       " 'S + I-Attention (3)',\n",
       " 'S4',\n",
       " 'SCRN(Structurally Constrained Recurrent Network)',\n",
       " 'SPALM + RelationLM',\n",
       " 'SPALM + kNN',\n",
       " 'SPN-4',\n",
       " 'SPN-4+KN5',\n",
       " 'SRU++ Base',\n",
       " 'SRU++ Large',\n",
       " 'SRU++ Large only 2 attention layers (k=5)',\n",
       " 'Sandwich Transformer',\n",
       " 'Scatterbrain',\n",
       " 'Search-Proven Best LSTM',\n",
       " 'Segatron -XL base, M=150 + HCP',\n",
       " 'Segatron XL base, M=384',\n",
       " 'Segatron XL large, M=384',\n",
       " 'Segatron-XL large, M=384 + HCP',\n",
       " 'Selfish-RNN (AWD-LSTM-MoS)',\n",
       " 'Selfish-RNN (ON-LSTM)',\n",
       " 'Selfish-RNN (SNT-ASGD) Stacked LSTMs',\n",
       " 'Selfish-RNN (SNT-ASGD)RHNs',\n",
       " 'Shortformer',\n",
       " 'Sparse Wide GPT-3 Small',\n",
       " 'SparseOPT-13B',\n",
       " 'SparseOPT-175B',\n",
       " 'SparseOPT-30B',\n",
       " 'SparseOPT-66B',\n",
       " 'Stack RNN',\n",
       " 'Stacked-LSTM+Pruning',\n",
       " 'Subformer (122M)',\n",
       " 'Subformer (83M)',\n",
       " 'Subformer (96M)',\n",
       " 'T2R + Pretrain',\n",
       " 'T2R + Random Init',\n",
       " 'T2R 75% + Pretrain',\n",
       " 'TCN (13M)',\n",
       " 'TCN (148M)',\n",
       " 'TF-LM-discourse LSTM (PTB)',\n",
       " 'TF-LM-discourse LSTM (WT2)',\n",
       " 'TPM-LVD',\n",
       " 'TRIMELMext (247M)',\n",
       " 'TRIMELMext (7M)',\n",
       " 'TRIMELMlong (150M)',\n",
       " 'TSLM+MoS (PTB)',\n",
       " 'TSLM+MoS (WT2)',\n",
       " 'TaLK Convolution',\n",
       " 'Temporal Convolutional Attention-based Network(TCAN) (PTB)',\n",
       " 'Temporal Convolutional Attention-based Network(TCAN) (WT2)',\n",
       " 'Tensor-Transformer(1core)+PN (PTB)',\n",
       " 'Tensor-Transformer(1core)+PN (WT103)',\n",
       " 'Tensorized Transformer (151M)',\n",
       " 'Tensorized Transformer (257M)',\n",
       " 'Tensorized Transformer (core-2)',\n",
       " 'Tensorized Transformer (large PTB)',\n",
       " 'Tensorized Transformer (small)',\n",
       " 'TransfoRNN(d=1024)(2-layer) (PTB)',\n",
       " 'TransfoRNN(d=1024)(2-layer) (WT2)',\n",
       " 'Transformer (Adaptive Input Embeddings)',\n",
       " 'Transformer + Average Attention Network',\n",
       " 'Transformer + GFM',\n",
       " 'Transformer LM + MinSen',\n",
       " 'Transformer Large + HCP',\n",
       " 'Transformer+Recurrent Windows of Context',\n",
       " 'Transformer-C',\n",
       " 'Transformer-XL + AutoDropout (PTB)',\n",
       " 'Transformer-XL + AutoDropout (WT2)',\n",
       " 'Transformer-XL + RMS dynamic eval',\n",
       " 'Transformer-XL + RMT',\n",
       " 'Transformer-XL + SIS',\n",
       " 'Transformer-XL DeFINE (107M)',\n",
       " 'Transformer-XL DeFINE (141M)',\n",
       " 'Transformer-XL Large',\n",
       " 'Transformer-XL Large + Phrase Induction',\n",
       " 'Transformer-XL+AdamGapAware(GA)',\n",
       " 'Transformer-XL+AdamP',\n",
       " 'Transformer-XL+WN+AdamP',\n",
       " 'Transformer-XL-ptb',\n",
       " 'TransformerXL + FWL',\n",
       " 'TransformerXL + PowerSGD + L-Greco',\n",
       " 'TransformerXL + spectrum control',\n",
       " 'TransformerXL+RelationLM',\n",
       " 'TransformerXL-LayerFusion-CA',\n",
       " 'TrellisNet',\n",
       " 'TrellisNet-MoS (1.4x larger)',\n",
       " 'True-Regularization+Finetune',\n",
       " 'True-Regularization+Finetune+Dynamic-Eval',\n",
       " 'Turing-NLG',\n",
       " 'VD-LSTM+REAL Large',\n",
       " 'VD-LSTM+REAL Medium',\n",
       " 'VD-LSTM+REAL Small',\n",
       " 'VD-RHN',\n",
       " 'VRNS-RNN-3-3-5',\n",
       " 'Variational (untied weights, MC) LSTM (Large)',\n",
       " 'Variational RHN + WT',\n",
       " 'WD+LR+M',\n",
       " 'WeNet (PTB)',\n",
       " 'WeNet (WT2)',\n",
       " 'Word-Independent-SRNN+KN5',\n",
       " 'Zoneout + Variational LSTM (PTB)',\n",
       " 'Zoneout + Variational LSTM (WT2)',\n",
       " 'aLSTM(depth-2)+RecurrentPolicy (PTB)',\n",
       " 'aLSTM(depth-2)+RecurrentPolicy (WT2)',\n",
       " 'bRSM + cache',\n",
       " 'base LM+GNN',\n",
       " 'base LM+GNN+kNN',\n",
       " 'dense-IndRNN+dynamic eval',\n",
       " 'genCNN + dyn eval',\n",
       " 'mini-GPT-2+Active-AdamW',\n",
       " 'rTop-k(distributed setting)',\n",
       " 'retrieval-quality-kNN-LMs',\n",
       " 'top-down frozen classifier'}"
      ]
     },
     "execution_count": 12,
     "metadata": {},
     "output_type": "execute_result"
    }
   ],
   "source": [
    "# Find overlapping System between the two dataframes\n",
    "systems = set(pcd_df.index) & set(benchmark_df.index)\n",
    "systems"
   ]
  },
  {
   "cell_type": "code",
   "execution_count": 38,
   "metadata": {},
   "outputs": [
    {
     "data": {
      "text/plain": [
       "34"
      ]
     },
     "execution_count": 38,
     "metadata": {},
     "output_type": "execute_result"
    }
   ],
   "source": [
    "# Filter systems that have non-empty value for 'Model accessibility' in pcd_df\n",
    "systems_with_model_accessibility = list(systems & set(pcd_df[pcd_df['Model accessibility'].notnull()].index))\n",
    "len(systems_with_model_accessibility)"
   ]
  },
  {
   "cell_type": "code",
   "execution_count": 39,
   "metadata": {},
   "outputs": [
    {
     "name": "stdout",
     "output_type": "stream",
     "text": [
      "MPT-7B : Open source\n",
      "Sparse Wide GPT-3 Small : Unreleased\n",
      "DITTO : Unreleased\n",
      "OPT-30B : Fully open-source (depr.)\n",
      "OPT-1.3B : Fully open-source (depr.)\n",
      "OPT-6.7B : Fully open-source (depr.)\n",
      "Megatron-LM (8.3B) : Unreleased\n",
      "GPT-NeoX-20B : Open source\n",
      "OPT-1.3B (finetuned on PTB) : Fully open-source (depr.)\n",
      "OPT-13B : Fully open-source (depr.)\n",
      "LLaMA-33B : Open access (non-commercial)\n",
      "Hybrid H3-2.7B : Open source\n",
      "Gopher (280B) : Unreleased\n",
      "Gopher (7.1B) : Unreleased\n",
      "OPT-1.3B (finetuned) : Fully open-source (depr.)\n",
      "GPT-3 175B (davinci) : API access\n",
      "Turing-NLG : Unreleased\n",
      "OPT-66B : Fully open-source (depr.)\n",
      "OPT-2.7B (finetuned on WT2) : Fully open-source (depr.)\n",
      "LLaMA-65B : Open access (non-commercial)\n",
      "OPT-125M (finetuned) : Fully open-source (depr.)\n",
      "GLM-130B : Open access (non-commercial)\n",
      "OPT-2.7B : Fully open-source (depr.)\n",
      "Chinchilla : Unreleased\n",
      "LLaMA-7B : Open access (non-commercial)\n",
      "OPT-175B : Open access (non-commercial)\n",
      "GPT-Neo-2.7B : Open source\n",
      "Segatron-XL large, M=384 + HCP : Unreleased\n",
      "Pythia-12b : Open source\n",
      "OPT-2.7B (finetuned on PTB) : Fully open-source (depr.)\n",
      "Neural Architecture Search with base 8 and shared embeddings : Unreleased\n",
      "OPT-125M (finetuned on PTB) : Fully open-source (depr.)\n",
      "Mogrifier RLSTM (WT2) : Unreleased\n",
      "GPT-J-6B : Open source\n"
     ]
    }
   ],
   "source": [
    "for system in systems_with_model_accessibility:\n",
    "    print(system, ':', pcd_df.loc[system, 'Model accessibility'])"
   ]
  },
  {
   "cell_type": "code",
   "execution_count": 40,
   "metadata": {},
   "outputs": [
    {
     "name": "stdout",
     "output_type": "stream",
     "text": [
      "165\n",
      "10\n",
      "111\n",
      "20\n"
     ]
    }
   ],
   "source": [
    "print(sum(benchmark_df.loc[:, 'Perplexity (WT103)'].notna()))\n",
    "print(sum(benchmark_df.loc[systems_with_model_accessibility, 'Perplexity (WT103)'].notna()))\n",
    "print(sum(benchmark_df.loc[:, 'Perplexity (WT2)'].notna()))\n",
    "print(sum(benchmark_df.loc[systems_with_model_accessibility, 'Perplexity (WT2)'].notna()))"
   ]
  },
  {
   "cell_type": "code",
   "execution_count": 41,
   "metadata": {},
   "outputs": [],
   "source": [
    "# Assign model accessibility values to benchmark_df\n",
    "benchmark_df.loc[systems_with_model_accessibility, 'Model accessibility'] = pcd_df.loc[\n",
    "    systems_with_model_accessibility, 'Model accessibility'\n",
    "]"
   ]
  },
  {
   "cell_type": "code",
   "execution_count": 52,
   "metadata": {},
   "outputs": [],
   "source": [
    "benchmark_df.loc[systems_with_model_accessibility, 'Training compute (FLOP)'] = pcd_df.loc[\n",
    "    systems_with_model_accessibility, 'Training compute (FLOP)'\n",
    "]"
   ]
  },
  {
   "cell_type": "code",
   "execution_count": 53,
   "metadata": {},
   "outputs": [],
   "source": [
    "filtered_benchmark_df = benchmark_df.loc[systems_with_model_accessibility]"
   ]
  },
  {
   "cell_type": "code",
   "execution_count": 72,
   "metadata": {},
   "outputs": [
    {
     "data": {
      "application/vnd.plotly.v1+json": {
       "config": {
        "plotlyServerURL": "https://plot.ly"
       },
       "data": [
        {
         "hovertemplate": "Model accessibility=Open source<br>Publication date=%{x}<br>Perplexity (WT103)=%{y}<br>System=%{text}<extra></extra>",
         "legendgroup": "Open source",
         "marker": {
          "color": "#636efa",
          "symbol": "circle"
         },
         "mode": "markers+text",
         "name": "Open source",
         "orientation": "v",
         "showlegend": true,
         "text": [
          "MPT-7B",
          "GPT-NeoX-20B",
          "Hybrid H3-2.7B",
          "GPT-Neo-2.7B",
          "Pythia-12b",
          "GPT-J-6B"
         ],
         "textposition": "top center",
         "type": "scatter",
         "x": [
          "2023-05-05",
          "2022-04-14",
          "2022-12-28",
          "2021-03-21",
          "2023-04-03",
          "2021-06-09"
         ],
         "xaxis": "x",
         "y": [
          null,
          null,
          10.6,
          null,
          null,
          null
         ],
         "yaxis": "y"
        },
        {
         "hovertemplate": "Model accessibility=Unreleased<br>Publication date=%{x}<br>Perplexity (WT103)=%{y}<br>System=%{text}<extra></extra>",
         "legendgroup": "Unreleased",
         "marker": {
          "color": "#EF553B",
          "symbol": "circle"
         },
         "mode": "markers+text",
         "name": "Unreleased",
         "orientation": "v",
         "showlegend": true,
         "text": [
          "Sparse Wide GPT-3 Small",
          "DITTO",
          "Megatron-LM (8.3B)",
          "Gopher (280B)",
          "Gopher (7.1B)",
          "Turing-NLG",
          "Chinchilla",
          "Segatron-XL large, M=384 + HCP",
          "Neural Architecture Search with base 8 and shared embeddings",
          "Mogrifier RLSTM (WT2)"
         ],
         "textposition": "top center",
         "type": "scatter",
         "x": [
          "2023-03-21",
          "2022-06-06",
          "2019-09-17",
          "2021-12-08",
          "2021-12-08",
          "2020-02-13",
          "2022-03-29",
          "2022-03-21",
          "2016-11-05",
          "2022-11-03"
         ],
         "xaxis": "x",
         "y": [
          20.4,
          24.33,
          10.81,
          10.81,
          8.12,
          10.21,
          7.16,
          17,
          null,
          null
         ],
         "yaxis": "y"
        },
        {
         "hovertemplate": "Model accessibility=Fully open-source (depr.)<br>Publication date=%{x}<br>Perplexity (WT103)=%{y}<br>System=%{text}<extra></extra>",
         "legendgroup": "Fully open-source (depr.)",
         "marker": {
          "color": "#00cc96",
          "symbol": "circle"
         },
         "mode": "markers+text",
         "name": "Fully open-source (depr.)",
         "orientation": "v",
         "showlegend": true,
         "text": [
          "OPT-30B",
          "OPT-1.3B",
          "OPT-6.7B",
          "OPT-1.3B (finetuned on PTB)",
          "OPT-13B",
          "OPT-1.3B (finetuned)",
          "OPT-66B",
          "OPT-2.7B (finetuned on WT2)",
          "OPT-125M (finetuned)",
          "OPT-2.7B",
          "OPT-2.7B (finetuned on PTB)",
          "OPT-125M (finetuned on PTB)"
         ],
         "textposition": "top center",
         "type": "scatter",
         "x": [
          "2022-06-21",
          "2022-06-21",
          "2022-06-21",
          "2022-06-21",
          "2022-06-21",
          "2022-06-21",
          "2022-06-21",
          "2022-06-21",
          "2022-06-21",
          "2022-06-21",
          "2022-06-21",
          "2022-06-21"
         ],
         "xaxis": "x",
         "y": [
          null,
          null,
          null,
          null,
          null,
          null,
          null,
          null,
          null,
          null,
          null,
          null
         ],
         "yaxis": "y"
        },
        {
         "hovertemplate": "Model accessibility=Open access (non-commercial)<br>Publication date=%{x}<br>Perplexity (WT103)=%{y}<br>System=%{text}<extra></extra>",
         "legendgroup": "Open access (non-commercial)",
         "marker": {
          "color": "#ab63fa",
          "symbol": "circle"
         },
         "mode": "markers+text",
         "name": "Open access (non-commercial)",
         "orientation": "v",
         "showlegend": true,
         "text": [
          "LLaMA-33B",
          "LLaMA-65B",
          "GLM-130B",
          "LLaMA-7B",
          "OPT-175B"
         ],
         "textposition": "top center",
         "type": "scatter",
         "x": [
          "2023-02-27",
          "2023-02-27",
          "2022-10-05",
          "2023-02-27",
          "2022-06-21"
         ],
         "xaxis": "x",
         "y": [
          null,
          null,
          10.76,
          null,
          null
         ],
         "yaxis": "y"
        },
        {
         "hovertemplate": "Model accessibility=API access<br>Publication date=%{x}<br>Perplexity (WT103)=%{y}<br>System=%{text}<extra></extra>",
         "legendgroup": "API access",
         "marker": {
          "color": "#FFA15A",
          "symbol": "circle"
         },
         "mode": "markers+text",
         "name": "API access",
         "orientation": "v",
         "showlegend": true,
         "text": [
          "GPT-3 175B (davinci)"
         ],
         "textposition": "top center",
         "type": "scatter",
         "x": [
          "2020-05-28"
         ],
         "xaxis": "x",
         "y": [
          null
         ],
         "yaxis": "y"
        }
       ],
       "layout": {
        "legend": {
         "title": {
          "text": "Model accessibility"
         },
         "tracegroupgap": 0
        },
        "margin": {
         "t": 60
        },
        "template": {
         "data": {
          "bar": [
           {
            "error_x": {
             "color": "#2a3f5f"
            },
            "error_y": {
             "color": "#2a3f5f"
            },
            "marker": {
             "line": {
              "color": "#E5ECF6",
              "width": 0.5
             },
             "pattern": {
              "fillmode": "overlay",
              "size": 10,
              "solidity": 0.2
             }
            },
            "type": "bar"
           }
          ],
          "barpolar": [
           {
            "marker": {
             "line": {
              "color": "#E5ECF6",
              "width": 0.5
             },
             "pattern": {
              "fillmode": "overlay",
              "size": 10,
              "solidity": 0.2
             }
            },
            "type": "barpolar"
           }
          ],
          "carpet": [
           {
            "aaxis": {
             "endlinecolor": "#2a3f5f",
             "gridcolor": "white",
             "linecolor": "white",
             "minorgridcolor": "white",
             "startlinecolor": "#2a3f5f"
            },
            "baxis": {
             "endlinecolor": "#2a3f5f",
             "gridcolor": "white",
             "linecolor": "white",
             "minorgridcolor": "white",
             "startlinecolor": "#2a3f5f"
            },
            "type": "carpet"
           }
          ],
          "choropleth": [
           {
            "colorbar": {
             "outlinewidth": 0,
             "ticks": ""
            },
            "type": "choropleth"
           }
          ],
          "contour": [
           {
            "colorbar": {
             "outlinewidth": 0,
             "ticks": ""
            },
            "colorscale": [
             [
              0,
              "#0d0887"
             ],
             [
              0.1111111111111111,
              "#46039f"
             ],
             [
              0.2222222222222222,
              "#7201a8"
             ],
             [
              0.3333333333333333,
              "#9c179e"
             ],
             [
              0.4444444444444444,
              "#bd3786"
             ],
             [
              0.5555555555555556,
              "#d8576b"
             ],
             [
              0.6666666666666666,
              "#ed7953"
             ],
             [
              0.7777777777777778,
              "#fb9f3a"
             ],
             [
              0.8888888888888888,
              "#fdca26"
             ],
             [
              1,
              "#f0f921"
             ]
            ],
            "type": "contour"
           }
          ],
          "contourcarpet": [
           {
            "colorbar": {
             "outlinewidth": 0,
             "ticks": ""
            },
            "type": "contourcarpet"
           }
          ],
          "heatmap": [
           {
            "colorbar": {
             "outlinewidth": 0,
             "ticks": ""
            },
            "colorscale": [
             [
              0,
              "#0d0887"
             ],
             [
              0.1111111111111111,
              "#46039f"
             ],
             [
              0.2222222222222222,
              "#7201a8"
             ],
             [
              0.3333333333333333,
              "#9c179e"
             ],
             [
              0.4444444444444444,
              "#bd3786"
             ],
             [
              0.5555555555555556,
              "#d8576b"
             ],
             [
              0.6666666666666666,
              "#ed7953"
             ],
             [
              0.7777777777777778,
              "#fb9f3a"
             ],
             [
              0.8888888888888888,
              "#fdca26"
             ],
             [
              1,
              "#f0f921"
             ]
            ],
            "type": "heatmap"
           }
          ],
          "heatmapgl": [
           {
            "colorbar": {
             "outlinewidth": 0,
             "ticks": ""
            },
            "colorscale": [
             [
              0,
              "#0d0887"
             ],
             [
              0.1111111111111111,
              "#46039f"
             ],
             [
              0.2222222222222222,
              "#7201a8"
             ],
             [
              0.3333333333333333,
              "#9c179e"
             ],
             [
              0.4444444444444444,
              "#bd3786"
             ],
             [
              0.5555555555555556,
              "#d8576b"
             ],
             [
              0.6666666666666666,
              "#ed7953"
             ],
             [
              0.7777777777777778,
              "#fb9f3a"
             ],
             [
              0.8888888888888888,
              "#fdca26"
             ],
             [
              1,
              "#f0f921"
             ]
            ],
            "type": "heatmapgl"
           }
          ],
          "histogram": [
           {
            "marker": {
             "pattern": {
              "fillmode": "overlay",
              "size": 10,
              "solidity": 0.2
             }
            },
            "type": "histogram"
           }
          ],
          "histogram2d": [
           {
            "colorbar": {
             "outlinewidth": 0,
             "ticks": ""
            },
            "colorscale": [
             [
              0,
              "#0d0887"
             ],
             [
              0.1111111111111111,
              "#46039f"
             ],
             [
              0.2222222222222222,
              "#7201a8"
             ],
             [
              0.3333333333333333,
              "#9c179e"
             ],
             [
              0.4444444444444444,
              "#bd3786"
             ],
             [
              0.5555555555555556,
              "#d8576b"
             ],
             [
              0.6666666666666666,
              "#ed7953"
             ],
             [
              0.7777777777777778,
              "#fb9f3a"
             ],
             [
              0.8888888888888888,
              "#fdca26"
             ],
             [
              1,
              "#f0f921"
             ]
            ],
            "type": "histogram2d"
           }
          ],
          "histogram2dcontour": [
           {
            "colorbar": {
             "outlinewidth": 0,
             "ticks": ""
            },
            "colorscale": [
             [
              0,
              "#0d0887"
             ],
             [
              0.1111111111111111,
              "#46039f"
             ],
             [
              0.2222222222222222,
              "#7201a8"
             ],
             [
              0.3333333333333333,
              "#9c179e"
             ],
             [
              0.4444444444444444,
              "#bd3786"
             ],
             [
              0.5555555555555556,
              "#d8576b"
             ],
             [
              0.6666666666666666,
              "#ed7953"
             ],
             [
              0.7777777777777778,
              "#fb9f3a"
             ],
             [
              0.8888888888888888,
              "#fdca26"
             ],
             [
              1,
              "#f0f921"
             ]
            ],
            "type": "histogram2dcontour"
           }
          ],
          "mesh3d": [
           {
            "colorbar": {
             "outlinewidth": 0,
             "ticks": ""
            },
            "type": "mesh3d"
           }
          ],
          "parcoords": [
           {
            "line": {
             "colorbar": {
              "outlinewidth": 0,
              "ticks": ""
             }
            },
            "type": "parcoords"
           }
          ],
          "pie": [
           {
            "automargin": true,
            "type": "pie"
           }
          ],
          "scatter": [
           {
            "fillpattern": {
             "fillmode": "overlay",
             "size": 10,
             "solidity": 0.2
            },
            "type": "scatter"
           }
          ],
          "scatter3d": [
           {
            "line": {
             "colorbar": {
              "outlinewidth": 0,
              "ticks": ""
             }
            },
            "marker": {
             "colorbar": {
              "outlinewidth": 0,
              "ticks": ""
             }
            },
            "type": "scatter3d"
           }
          ],
          "scattercarpet": [
           {
            "marker": {
             "colorbar": {
              "outlinewidth": 0,
              "ticks": ""
             }
            },
            "type": "scattercarpet"
           }
          ],
          "scattergeo": [
           {
            "marker": {
             "colorbar": {
              "outlinewidth": 0,
              "ticks": ""
             }
            },
            "type": "scattergeo"
           }
          ],
          "scattergl": [
           {
            "marker": {
             "colorbar": {
              "outlinewidth": 0,
              "ticks": ""
             }
            },
            "type": "scattergl"
           }
          ],
          "scattermapbox": [
           {
            "marker": {
             "colorbar": {
              "outlinewidth": 0,
              "ticks": ""
             }
            },
            "type": "scattermapbox"
           }
          ],
          "scatterpolar": [
           {
            "marker": {
             "colorbar": {
              "outlinewidth": 0,
              "ticks": ""
             }
            },
            "type": "scatterpolar"
           }
          ],
          "scatterpolargl": [
           {
            "marker": {
             "colorbar": {
              "outlinewidth": 0,
              "ticks": ""
             }
            },
            "type": "scatterpolargl"
           }
          ],
          "scatterternary": [
           {
            "marker": {
             "colorbar": {
              "outlinewidth": 0,
              "ticks": ""
             }
            },
            "type": "scatterternary"
           }
          ],
          "surface": [
           {
            "colorbar": {
             "outlinewidth": 0,
             "ticks": ""
            },
            "colorscale": [
             [
              0,
              "#0d0887"
             ],
             [
              0.1111111111111111,
              "#46039f"
             ],
             [
              0.2222222222222222,
              "#7201a8"
             ],
             [
              0.3333333333333333,
              "#9c179e"
             ],
             [
              0.4444444444444444,
              "#bd3786"
             ],
             [
              0.5555555555555556,
              "#d8576b"
             ],
             [
              0.6666666666666666,
              "#ed7953"
             ],
             [
              0.7777777777777778,
              "#fb9f3a"
             ],
             [
              0.8888888888888888,
              "#fdca26"
             ],
             [
              1,
              "#f0f921"
             ]
            ],
            "type": "surface"
           }
          ],
          "table": [
           {
            "cells": {
             "fill": {
              "color": "#EBF0F8"
             },
             "line": {
              "color": "white"
             }
            },
            "header": {
             "fill": {
              "color": "#C8D4E3"
             },
             "line": {
              "color": "white"
             }
            },
            "type": "table"
           }
          ]
         },
         "layout": {
          "annotationdefaults": {
           "arrowcolor": "#2a3f5f",
           "arrowhead": 0,
           "arrowwidth": 1
          },
          "autotypenumbers": "strict",
          "coloraxis": {
           "colorbar": {
            "outlinewidth": 0,
            "ticks": ""
           }
          },
          "colorscale": {
           "diverging": [
            [
             0,
             "#8e0152"
            ],
            [
             0.1,
             "#c51b7d"
            ],
            [
             0.2,
             "#de77ae"
            ],
            [
             0.3,
             "#f1b6da"
            ],
            [
             0.4,
             "#fde0ef"
            ],
            [
             0.5,
             "#f7f7f7"
            ],
            [
             0.6,
             "#e6f5d0"
            ],
            [
             0.7,
             "#b8e186"
            ],
            [
             0.8,
             "#7fbc41"
            ],
            [
             0.9,
             "#4d9221"
            ],
            [
             1,
             "#276419"
            ]
           ],
           "sequential": [
            [
             0,
             "#0d0887"
            ],
            [
             0.1111111111111111,
             "#46039f"
            ],
            [
             0.2222222222222222,
             "#7201a8"
            ],
            [
             0.3333333333333333,
             "#9c179e"
            ],
            [
             0.4444444444444444,
             "#bd3786"
            ],
            [
             0.5555555555555556,
             "#d8576b"
            ],
            [
             0.6666666666666666,
             "#ed7953"
            ],
            [
             0.7777777777777778,
             "#fb9f3a"
            ],
            [
             0.8888888888888888,
             "#fdca26"
            ],
            [
             1,
             "#f0f921"
            ]
           ],
           "sequentialminus": [
            [
             0,
             "#0d0887"
            ],
            [
             0.1111111111111111,
             "#46039f"
            ],
            [
             0.2222222222222222,
             "#7201a8"
            ],
            [
             0.3333333333333333,
             "#9c179e"
            ],
            [
             0.4444444444444444,
             "#bd3786"
            ],
            [
             0.5555555555555556,
             "#d8576b"
            ],
            [
             0.6666666666666666,
             "#ed7953"
            ],
            [
             0.7777777777777778,
             "#fb9f3a"
            ],
            [
             0.8888888888888888,
             "#fdca26"
            ],
            [
             1,
             "#f0f921"
            ]
           ]
          },
          "colorway": [
           "#636efa",
           "#EF553B",
           "#00cc96",
           "#ab63fa",
           "#FFA15A",
           "#19d3f3",
           "#FF6692",
           "#B6E880",
           "#FF97FF",
           "#FECB52"
          ],
          "font": {
           "color": "#2a3f5f"
          },
          "geo": {
           "bgcolor": "white",
           "lakecolor": "white",
           "landcolor": "#E5ECF6",
           "showlakes": true,
           "showland": true,
           "subunitcolor": "white"
          },
          "hoverlabel": {
           "align": "left"
          },
          "hovermode": "closest",
          "mapbox": {
           "style": "light"
          },
          "paper_bgcolor": "white",
          "plot_bgcolor": "#E5ECF6",
          "polar": {
           "angularaxis": {
            "gridcolor": "white",
            "linecolor": "white",
            "ticks": ""
           },
           "bgcolor": "#E5ECF6",
           "radialaxis": {
            "gridcolor": "white",
            "linecolor": "white",
            "ticks": ""
           }
          },
          "scene": {
           "xaxis": {
            "backgroundcolor": "#E5ECF6",
            "gridcolor": "white",
            "gridwidth": 2,
            "linecolor": "white",
            "showbackground": true,
            "ticks": "",
            "zerolinecolor": "white"
           },
           "yaxis": {
            "backgroundcolor": "#E5ECF6",
            "gridcolor": "white",
            "gridwidth": 2,
            "linecolor": "white",
            "showbackground": true,
            "ticks": "",
            "zerolinecolor": "white"
           },
           "zaxis": {
            "backgroundcolor": "#E5ECF6",
            "gridcolor": "white",
            "gridwidth": 2,
            "linecolor": "white",
            "showbackground": true,
            "ticks": "",
            "zerolinecolor": "white"
           }
          },
          "shapedefaults": {
           "line": {
            "color": "#2a3f5f"
           }
          },
          "ternary": {
           "aaxis": {
            "gridcolor": "white",
            "linecolor": "white",
            "ticks": ""
           },
           "baxis": {
            "gridcolor": "white",
            "linecolor": "white",
            "ticks": ""
           },
           "bgcolor": "#E5ECF6",
           "caxis": {
            "gridcolor": "white",
            "linecolor": "white",
            "ticks": ""
           }
          },
          "title": {
           "x": 0.05
          },
          "xaxis": {
           "automargin": true,
           "gridcolor": "white",
           "linecolor": "white",
           "ticks": "",
           "title": {
            "standoff": 15
           },
           "zerolinecolor": "white",
           "zerolinewidth": 2
          },
          "yaxis": {
           "automargin": true,
           "gridcolor": "white",
           "linecolor": "white",
           "ticks": "",
           "title": {
            "standoff": 15
           },
           "zerolinecolor": "white",
           "zerolinewidth": 2
          }
         }
        },
        "xaxis": {
         "anchor": "y",
         "domain": [
          0,
          1
         ],
         "title": {
          "text": "Publication date"
         }
        },
        "yaxis": {
         "anchor": "x",
         "domain": [
          0,
          1
         ],
         "title": {
          "text": "Perplexity (WT103)"
         }
        }
       }
      }
     },
     "metadata": {},
     "output_type": "display_data"
    }
   ],
   "source": [
    "# Plot wikitext perplexity of systems with model accessibility\n",
    "fig = px.scatter(\n",
    "    filtered_benchmark_df,\n",
    "    x='Publication date',\n",
    "    y='Perplexity (WT103)',\n",
    "    color='Model accessibility',\n",
    "    text=filtered_benchmark_df.index\n",
    ")\n",
    "\n",
    "# Move text to top\n",
    "fig.update_traces(textposition='top center')\n",
    "\n",
    "fig.show()"
   ]
  },
  {
   "cell_type": "code",
   "execution_count": 78,
   "metadata": {},
   "outputs": [
    {
     "data": {
      "application/vnd.plotly.v1+json": {
       "config": {
        "plotlyServerURL": "https://plot.ly"
       },
       "data": [
        {
         "hovertemplate": "Model accessibility=Open source<br>Training compute (FLOP)=%{x}<br>Perplexity (WT103)=%{y}<br>System=%{text}<extra></extra>",
         "legendgroup": "Open source",
         "marker": {
          "color": "#636efa",
          "symbol": "circle"
         },
         "mode": "markers+text",
         "name": "Open source",
         "orientation": "v",
         "showlegend": true,
         "text": [
          "MPT-7B",
          "GPT-NeoX-20B",
          "Hybrid H3-2.7B",
          "GPT-Neo-2.7B",
          "Pythia-12b",
          "GPT-J-6B"
         ],
         "textposition": "middle left",
         "type": "scatter",
         "x": [
          4.2e+22,
          9.31627008e+22,
          849000000000000000000,
          7.9e+21,
          2.16e+22,
          1.5e+22
         ],
         "xaxis": "x",
         "y": [
          null,
          null,
          10.6,
          null,
          null,
          null
         ],
         "yaxis": "y"
        },
        {
         "hovertemplate": "Model accessibility=Unreleased<br>Training compute (FLOP)=%{x}<br>Perplexity (WT103)=%{y}<br>System=%{text}<extra></extra>",
         "legendgroup": "Unreleased",
         "marker": {
          "color": "#EF553B",
          "symbol": "circle"
         },
         "mode": "markers+text",
         "name": "Unreleased",
         "orientation": "v",
         "showlegend": true,
         "text": [
          "Sparse Wide GPT-3 Small",
          "DITTO",
          "Megatron-LM (8.3B)",
          "Gopher (280B)",
          "Gopher (7.1B)",
          "Turing-NLG",
          "Chinchilla",
          "Segatron-XL large, M=384 + HCP",
          "Neural Architecture Search with base 8 and shared embeddings",
          "Mogrifier RLSTM (WT2)"
         ],
         "textposition": "middle left",
         "type": "scatter",
         "x": [
          88400000000000000000,
          11000000000000000000,
          9.1e+21,
          6.31e+23,
          null,
          1.57e+22,
          5.76e+23,
          26500000000000000000,
          10500000000000000,
          109000000000000000
         ],
         "xaxis": "x",
         "y": [
          20.4,
          24.33,
          10.81,
          10.81,
          8.12,
          10.21,
          7.16,
          17,
          null,
          null
         ],
         "yaxis": "y"
        },
        {
         "hovertemplate": "Model accessibility=Fully open-source (depr.)<br>Training compute (FLOP)=%{x}<br>Perplexity (WT103)=%{y}<br>System=%{text}<extra></extra>",
         "legendgroup": "Fully open-source (depr.)",
         "marker": {
          "color": "#00cc96",
          "symbol": "circle"
         },
         "mode": "markers+text",
         "name": "Fully open-source (depr.)",
         "orientation": "v",
         "showlegend": true,
         "text": [
          "OPT-30B",
          "OPT-1.3B",
          "OPT-6.7B",
          "OPT-1.3B (finetuned on PTB)",
          "OPT-13B",
          "OPT-1.3B (finetuned)",
          "OPT-66B",
          "OPT-2.7B (finetuned on WT2)",
          "OPT-125M (finetuned)",
          "OPT-2.7B",
          "OPT-2.7B (finetuned on PTB)",
          "OPT-125M (finetuned on PTB)"
         ],
         "textposition": "middle left",
         "type": "scatter",
         "x": [
          null,
          null,
          null,
          null,
          null,
          null,
          1.100000000001e+23,
          null,
          null,
          null,
          null,
          null
         ],
         "xaxis": "x",
         "y": [
          null,
          null,
          null,
          null,
          null,
          null,
          null,
          null,
          null,
          null,
          null,
          null
         ],
         "yaxis": "y"
        },
        {
         "hovertemplate": "Model accessibility=Open access (non-commercial)<br>Training compute (FLOP)=%{x}<br>Perplexity (WT103)=%{y}<br>System=%{text}<extra></extra>",
         "legendgroup": "Open access (non-commercial)",
         "marker": {
          "color": "#ab63fa",
          "symbol": "circle"
         },
         "mode": "markers+text",
         "name": "Open access (non-commercial)",
         "orientation": "v",
         "showlegend": true,
         "text": [
          "LLaMA-33B",
          "LLaMA-65B",
          "GLM-130B",
          "LLaMA-7B",
          "OPT-175B"
         ],
         "textposition": "middle left",
         "type": "scatter",
         "x": [
          2.7300000000000996e+23,
          5.5e+23,
          3.778e+23,
          4.02e+22,
          4.3e+23
         ],
         "xaxis": "x",
         "y": [
          null,
          null,
          10.76,
          null,
          null
         ],
         "yaxis": "y"
        },
        {
         "hovertemplate": "Model accessibility=API access<br>Training compute (FLOP)=%{x}<br>Perplexity (WT103)=%{y}<br>System=%{text}<extra></extra>",
         "legendgroup": "API access",
         "marker": {
          "color": "#FFA15A",
          "symbol": "circle"
         },
         "mode": "markers+text",
         "name": "API access",
         "orientation": "v",
         "showlegend": true,
         "text": [
          "GPT-3 175B (davinci)"
         ],
         "textposition": "middle left",
         "type": "scatter",
         "x": [
          3.14e+23
         ],
         "xaxis": "x",
         "y": [
          null
         ],
         "yaxis": "y"
        }
       ],
       "layout": {
        "legend": {
         "title": {
          "text": "Model accessibility"
         },
         "tracegroupgap": 0
        },
        "margin": {
         "t": 60
        },
        "template": {
         "data": {
          "bar": [
           {
            "error_x": {
             "color": "#2a3f5f"
            },
            "error_y": {
             "color": "#2a3f5f"
            },
            "marker": {
             "line": {
              "color": "#E5ECF6",
              "width": 0.5
             },
             "pattern": {
              "fillmode": "overlay",
              "size": 10,
              "solidity": 0.2
             }
            },
            "type": "bar"
           }
          ],
          "barpolar": [
           {
            "marker": {
             "line": {
              "color": "#E5ECF6",
              "width": 0.5
             },
             "pattern": {
              "fillmode": "overlay",
              "size": 10,
              "solidity": 0.2
             }
            },
            "type": "barpolar"
           }
          ],
          "carpet": [
           {
            "aaxis": {
             "endlinecolor": "#2a3f5f",
             "gridcolor": "white",
             "linecolor": "white",
             "minorgridcolor": "white",
             "startlinecolor": "#2a3f5f"
            },
            "baxis": {
             "endlinecolor": "#2a3f5f",
             "gridcolor": "white",
             "linecolor": "white",
             "minorgridcolor": "white",
             "startlinecolor": "#2a3f5f"
            },
            "type": "carpet"
           }
          ],
          "choropleth": [
           {
            "colorbar": {
             "outlinewidth": 0,
             "ticks": ""
            },
            "type": "choropleth"
           }
          ],
          "contour": [
           {
            "colorbar": {
             "outlinewidth": 0,
             "ticks": ""
            },
            "colorscale": [
             [
              0,
              "#0d0887"
             ],
             [
              0.1111111111111111,
              "#46039f"
             ],
             [
              0.2222222222222222,
              "#7201a8"
             ],
             [
              0.3333333333333333,
              "#9c179e"
             ],
             [
              0.4444444444444444,
              "#bd3786"
             ],
             [
              0.5555555555555556,
              "#d8576b"
             ],
             [
              0.6666666666666666,
              "#ed7953"
             ],
             [
              0.7777777777777778,
              "#fb9f3a"
             ],
             [
              0.8888888888888888,
              "#fdca26"
             ],
             [
              1,
              "#f0f921"
             ]
            ],
            "type": "contour"
           }
          ],
          "contourcarpet": [
           {
            "colorbar": {
             "outlinewidth": 0,
             "ticks": ""
            },
            "type": "contourcarpet"
           }
          ],
          "heatmap": [
           {
            "colorbar": {
             "outlinewidth": 0,
             "ticks": ""
            },
            "colorscale": [
             [
              0,
              "#0d0887"
             ],
             [
              0.1111111111111111,
              "#46039f"
             ],
             [
              0.2222222222222222,
              "#7201a8"
             ],
             [
              0.3333333333333333,
              "#9c179e"
             ],
             [
              0.4444444444444444,
              "#bd3786"
             ],
             [
              0.5555555555555556,
              "#d8576b"
             ],
             [
              0.6666666666666666,
              "#ed7953"
             ],
             [
              0.7777777777777778,
              "#fb9f3a"
             ],
             [
              0.8888888888888888,
              "#fdca26"
             ],
             [
              1,
              "#f0f921"
             ]
            ],
            "type": "heatmap"
           }
          ],
          "heatmapgl": [
           {
            "colorbar": {
             "outlinewidth": 0,
             "ticks": ""
            },
            "colorscale": [
             [
              0,
              "#0d0887"
             ],
             [
              0.1111111111111111,
              "#46039f"
             ],
             [
              0.2222222222222222,
              "#7201a8"
             ],
             [
              0.3333333333333333,
              "#9c179e"
             ],
             [
              0.4444444444444444,
              "#bd3786"
             ],
             [
              0.5555555555555556,
              "#d8576b"
             ],
             [
              0.6666666666666666,
              "#ed7953"
             ],
             [
              0.7777777777777778,
              "#fb9f3a"
             ],
             [
              0.8888888888888888,
              "#fdca26"
             ],
             [
              1,
              "#f0f921"
             ]
            ],
            "type": "heatmapgl"
           }
          ],
          "histogram": [
           {
            "marker": {
             "pattern": {
              "fillmode": "overlay",
              "size": 10,
              "solidity": 0.2
             }
            },
            "type": "histogram"
           }
          ],
          "histogram2d": [
           {
            "colorbar": {
             "outlinewidth": 0,
             "ticks": ""
            },
            "colorscale": [
             [
              0,
              "#0d0887"
             ],
             [
              0.1111111111111111,
              "#46039f"
             ],
             [
              0.2222222222222222,
              "#7201a8"
             ],
             [
              0.3333333333333333,
              "#9c179e"
             ],
             [
              0.4444444444444444,
              "#bd3786"
             ],
             [
              0.5555555555555556,
              "#d8576b"
             ],
             [
              0.6666666666666666,
              "#ed7953"
             ],
             [
              0.7777777777777778,
              "#fb9f3a"
             ],
             [
              0.8888888888888888,
              "#fdca26"
             ],
             [
              1,
              "#f0f921"
             ]
            ],
            "type": "histogram2d"
           }
          ],
          "histogram2dcontour": [
           {
            "colorbar": {
             "outlinewidth": 0,
             "ticks": ""
            },
            "colorscale": [
             [
              0,
              "#0d0887"
             ],
             [
              0.1111111111111111,
              "#46039f"
             ],
             [
              0.2222222222222222,
              "#7201a8"
             ],
             [
              0.3333333333333333,
              "#9c179e"
             ],
             [
              0.4444444444444444,
              "#bd3786"
             ],
             [
              0.5555555555555556,
              "#d8576b"
             ],
             [
              0.6666666666666666,
              "#ed7953"
             ],
             [
              0.7777777777777778,
              "#fb9f3a"
             ],
             [
              0.8888888888888888,
              "#fdca26"
             ],
             [
              1,
              "#f0f921"
             ]
            ],
            "type": "histogram2dcontour"
           }
          ],
          "mesh3d": [
           {
            "colorbar": {
             "outlinewidth": 0,
             "ticks": ""
            },
            "type": "mesh3d"
           }
          ],
          "parcoords": [
           {
            "line": {
             "colorbar": {
              "outlinewidth": 0,
              "ticks": ""
             }
            },
            "type": "parcoords"
           }
          ],
          "pie": [
           {
            "automargin": true,
            "type": "pie"
           }
          ],
          "scatter": [
           {
            "fillpattern": {
             "fillmode": "overlay",
             "size": 10,
             "solidity": 0.2
            },
            "type": "scatter"
           }
          ],
          "scatter3d": [
           {
            "line": {
             "colorbar": {
              "outlinewidth": 0,
              "ticks": ""
             }
            },
            "marker": {
             "colorbar": {
              "outlinewidth": 0,
              "ticks": ""
             }
            },
            "type": "scatter3d"
           }
          ],
          "scattercarpet": [
           {
            "marker": {
             "colorbar": {
              "outlinewidth": 0,
              "ticks": ""
             }
            },
            "type": "scattercarpet"
           }
          ],
          "scattergeo": [
           {
            "marker": {
             "colorbar": {
              "outlinewidth": 0,
              "ticks": ""
             }
            },
            "type": "scattergeo"
           }
          ],
          "scattergl": [
           {
            "marker": {
             "colorbar": {
              "outlinewidth": 0,
              "ticks": ""
             }
            },
            "type": "scattergl"
           }
          ],
          "scattermapbox": [
           {
            "marker": {
             "colorbar": {
              "outlinewidth": 0,
              "ticks": ""
             }
            },
            "type": "scattermapbox"
           }
          ],
          "scatterpolar": [
           {
            "marker": {
             "colorbar": {
              "outlinewidth": 0,
              "ticks": ""
             }
            },
            "type": "scatterpolar"
           }
          ],
          "scatterpolargl": [
           {
            "marker": {
             "colorbar": {
              "outlinewidth": 0,
              "ticks": ""
             }
            },
            "type": "scatterpolargl"
           }
          ],
          "scatterternary": [
           {
            "marker": {
             "colorbar": {
              "outlinewidth": 0,
              "ticks": ""
             }
            },
            "type": "scatterternary"
           }
          ],
          "surface": [
           {
            "colorbar": {
             "outlinewidth": 0,
             "ticks": ""
            },
            "colorscale": [
             [
              0,
              "#0d0887"
             ],
             [
              0.1111111111111111,
              "#46039f"
             ],
             [
              0.2222222222222222,
              "#7201a8"
             ],
             [
              0.3333333333333333,
              "#9c179e"
             ],
             [
              0.4444444444444444,
              "#bd3786"
             ],
             [
              0.5555555555555556,
              "#d8576b"
             ],
             [
              0.6666666666666666,
              "#ed7953"
             ],
             [
              0.7777777777777778,
              "#fb9f3a"
             ],
             [
              0.8888888888888888,
              "#fdca26"
             ],
             [
              1,
              "#f0f921"
             ]
            ],
            "type": "surface"
           }
          ],
          "table": [
           {
            "cells": {
             "fill": {
              "color": "#EBF0F8"
             },
             "line": {
              "color": "white"
             }
            },
            "header": {
             "fill": {
              "color": "#C8D4E3"
             },
             "line": {
              "color": "white"
             }
            },
            "type": "table"
           }
          ]
         },
         "layout": {
          "annotationdefaults": {
           "arrowcolor": "#2a3f5f",
           "arrowhead": 0,
           "arrowwidth": 1
          },
          "autotypenumbers": "strict",
          "coloraxis": {
           "colorbar": {
            "outlinewidth": 0,
            "ticks": ""
           }
          },
          "colorscale": {
           "diverging": [
            [
             0,
             "#8e0152"
            ],
            [
             0.1,
             "#c51b7d"
            ],
            [
             0.2,
             "#de77ae"
            ],
            [
             0.3,
             "#f1b6da"
            ],
            [
             0.4,
             "#fde0ef"
            ],
            [
             0.5,
             "#f7f7f7"
            ],
            [
             0.6,
             "#e6f5d0"
            ],
            [
             0.7,
             "#b8e186"
            ],
            [
             0.8,
             "#7fbc41"
            ],
            [
             0.9,
             "#4d9221"
            ],
            [
             1,
             "#276419"
            ]
           ],
           "sequential": [
            [
             0,
             "#0d0887"
            ],
            [
             0.1111111111111111,
             "#46039f"
            ],
            [
             0.2222222222222222,
             "#7201a8"
            ],
            [
             0.3333333333333333,
             "#9c179e"
            ],
            [
             0.4444444444444444,
             "#bd3786"
            ],
            [
             0.5555555555555556,
             "#d8576b"
            ],
            [
             0.6666666666666666,
             "#ed7953"
            ],
            [
             0.7777777777777778,
             "#fb9f3a"
            ],
            [
             0.8888888888888888,
             "#fdca26"
            ],
            [
             1,
             "#f0f921"
            ]
           ],
           "sequentialminus": [
            [
             0,
             "#0d0887"
            ],
            [
             0.1111111111111111,
             "#46039f"
            ],
            [
             0.2222222222222222,
             "#7201a8"
            ],
            [
             0.3333333333333333,
             "#9c179e"
            ],
            [
             0.4444444444444444,
             "#bd3786"
            ],
            [
             0.5555555555555556,
             "#d8576b"
            ],
            [
             0.6666666666666666,
             "#ed7953"
            ],
            [
             0.7777777777777778,
             "#fb9f3a"
            ],
            [
             0.8888888888888888,
             "#fdca26"
            ],
            [
             1,
             "#f0f921"
            ]
           ]
          },
          "colorway": [
           "#636efa",
           "#EF553B",
           "#00cc96",
           "#ab63fa",
           "#FFA15A",
           "#19d3f3",
           "#FF6692",
           "#B6E880",
           "#FF97FF",
           "#FECB52"
          ],
          "font": {
           "color": "#2a3f5f"
          },
          "geo": {
           "bgcolor": "white",
           "lakecolor": "white",
           "landcolor": "#E5ECF6",
           "showlakes": true,
           "showland": true,
           "subunitcolor": "white"
          },
          "hoverlabel": {
           "align": "left"
          },
          "hovermode": "closest",
          "mapbox": {
           "style": "light"
          },
          "paper_bgcolor": "white",
          "plot_bgcolor": "#E5ECF6",
          "polar": {
           "angularaxis": {
            "gridcolor": "white",
            "linecolor": "white",
            "ticks": ""
           },
           "bgcolor": "#E5ECF6",
           "radialaxis": {
            "gridcolor": "white",
            "linecolor": "white",
            "ticks": ""
           }
          },
          "scene": {
           "xaxis": {
            "backgroundcolor": "#E5ECF6",
            "gridcolor": "white",
            "gridwidth": 2,
            "linecolor": "white",
            "showbackground": true,
            "ticks": "",
            "zerolinecolor": "white"
           },
           "yaxis": {
            "backgroundcolor": "#E5ECF6",
            "gridcolor": "white",
            "gridwidth": 2,
            "linecolor": "white",
            "showbackground": true,
            "ticks": "",
            "zerolinecolor": "white"
           },
           "zaxis": {
            "backgroundcolor": "#E5ECF6",
            "gridcolor": "white",
            "gridwidth": 2,
            "linecolor": "white",
            "showbackground": true,
            "ticks": "",
            "zerolinecolor": "white"
           }
          },
          "shapedefaults": {
           "line": {
            "color": "#2a3f5f"
           }
          },
          "ternary": {
           "aaxis": {
            "gridcolor": "white",
            "linecolor": "white",
            "ticks": ""
           },
           "baxis": {
            "gridcolor": "white",
            "linecolor": "white",
            "ticks": ""
           },
           "bgcolor": "#E5ECF6",
           "caxis": {
            "gridcolor": "white",
            "linecolor": "white",
            "ticks": ""
           }
          },
          "title": {
           "x": 0.05
          },
          "xaxis": {
           "automargin": true,
           "gridcolor": "white",
           "linecolor": "white",
           "ticks": "",
           "title": {
            "standoff": 15
           },
           "zerolinecolor": "white",
           "zerolinewidth": 2
          },
          "yaxis": {
           "automargin": true,
           "gridcolor": "white",
           "linecolor": "white",
           "ticks": "",
           "title": {
            "standoff": 15
           },
           "zerolinecolor": "white",
           "zerolinewidth": 2
          }
         }
        },
        "xaxis": {
         "anchor": "y",
         "domain": [
          0,
          1
         ],
         "range": [
          20,
          24
         ],
         "title": {
          "text": "Training compute (FLOP)"
         },
         "type": "log"
        },
        "yaxis": {
         "anchor": "x",
         "domain": [
          0,
          1
         ],
         "range": [
          10,
          11
         ],
         "title": {
          "text": "Perplexity (WT103)"
         }
        }
       }
      }
     },
     "metadata": {},
     "output_type": "display_data"
    }
   ],
   "source": [
    "fig = px.scatter(\n",
    "    filtered_benchmark_df,\n",
    "    x='Training compute (FLOP)',\n",
    "    y='Perplexity (WT103)',\n",
    "    color='Model accessibility',\n",
    "    text=filtered_benchmark_df.index\n",
    ")\n",
    "\n",
    "# Log x-axis\n",
    "fig.update_xaxes(type='log')\n",
    "\n",
    "# Move text to top\n",
    "fig.update_traces(textposition='middle left')\n",
    "\n",
    "# Zoom in\n",
    "fig.update_layout(xaxis_range=[20, 24], yaxis_range=[10, 11])\n",
    "save_plot(fig, results_dir, 'WT103_vs_compute_interesting')\n",
    "\n",
    "fig.show()"
   ]
  },
  {
   "cell_type": "code",
   "execution_count": 67,
   "metadata": {},
   "outputs": [
    {
     "data": {
      "application/vnd.plotly.v1+json": {
       "config": {
        "plotlyServerURL": "https://plot.ly"
       },
       "data": [
        {
         "hovertemplate": "Model accessibility=Open source<br>Training compute (FLOP)=%{x}<br>Perplexity (WT2)=%{y}<extra></extra>",
         "legendgroup": "Open source",
         "marker": {
          "color": "#636efa",
          "symbol": "circle"
         },
         "mode": "markers",
         "name": "Open source",
         "orientation": "v",
         "showlegend": true,
         "textposition": "middle left",
         "type": "scatter",
         "x": [
          4.2e+22,
          9.31627008e+22,
          849000000000000000000,
          7.9e+21,
          2.16e+22,
          1.5e+22
         ],
         "xaxis": "x",
         "y": [
          9.96,
          9.2,
          null,
          11.39,
          10.54,
          10.88
         ],
         "yaxis": "y"
        },
        {
         "hovertemplate": "Model accessibility=Unreleased<br>Training compute (FLOP)=%{x}<br>Perplexity (WT2)=%{y}<extra></extra>",
         "legendgroup": "Unreleased",
         "marker": {
          "color": "#EF553B",
          "symbol": "circle"
         },
         "mode": "markers",
         "name": "Unreleased",
         "orientation": "v",
         "showlegend": true,
         "textposition": "middle left",
         "type": "scatter",
         "x": [
          88400000000000000000,
          11000000000000000000,
          9.1e+21,
          6.31e+23,
          null,
          1.57e+22,
          5.76e+23,
          26500000000000000000,
          10500000000000000,
          109000000000000000
         ],
         "xaxis": "x",
         "y": [
          null,
          null,
          null,
          null,
          null,
          null,
          null,
          null,
          null,
          38
         ],
         "yaxis": "y"
        },
        {
         "hovertemplate": "Model accessibility=Fully open-source (depr.)<br>Training compute (FLOP)=%{x}<br>Perplexity (WT2)=%{y}<extra></extra>",
         "legendgroup": "Fully open-source (depr.)",
         "marker": {
          "color": "#00cc96",
          "symbol": "circle"
         },
         "mode": "markers",
         "name": "Fully open-source (depr.)",
         "orientation": "v",
         "showlegend": true,
         "textposition": "middle left",
         "type": "scatter",
         "x": [
          null,
          null,
          null,
          null,
          null,
          null,
          1.100000000001e+23,
          null,
          null,
          null,
          null,
          null
         ],
         "xaxis": "x",
         "y": [
          10.67,
          16.41,
          10.86,
          null,
          10.13,
          12.22,
          9.34,
          10.27,
          19.85,
          12.47,
          null,
          null
         ],
         "yaxis": "y"
        },
        {
         "hovertemplate": "Model accessibility=Open access (non-commercial)<br>Training compute (FLOP)=%{x}<br>Perplexity (WT2)=%{y}<extra></extra>",
         "legendgroup": "Open access (non-commercial)",
         "marker": {
          "color": "#ab63fa",
          "symbol": "circle"
         },
         "mode": "markers",
         "name": "Open access (non-commercial)",
         "orientation": "v",
         "showlegend": true,
         "textposition": "middle left",
         "type": "scatter",
         "x": [
          2.7300000000000996e+23,
          5.5e+23,
          3.778e+23,
          4.02e+22,
          4.3e+23
         ],
         "xaxis": "x",
         "y": [
          6.35,
          4.96,
          10.55,
          9.49,
          8.35
         ],
         "yaxis": "y"
        },
        {
         "hovertemplate": "Model accessibility=API access<br>Training compute (FLOP)=%{x}<br>Perplexity (WT2)=%{y}<extra></extra>",
         "legendgroup": "API access",
         "marker": {
          "color": "#FFA15A",
          "symbol": "circle"
         },
         "mode": "markers",
         "name": "API access",
         "orientation": "v",
         "showlegend": true,
         "textposition": "middle left",
         "type": "scatter",
         "x": [
          3.14e+23
         ],
         "xaxis": "x",
         "y": [
          null
         ],
         "yaxis": "y"
        }
       ],
       "layout": {
        "legend": {
         "title": {
          "text": "Model accessibility"
         },
         "tracegroupgap": 0
        },
        "margin": {
         "t": 60
        },
        "template": {
         "data": {
          "bar": [
           {
            "error_x": {
             "color": "#2a3f5f"
            },
            "error_y": {
             "color": "#2a3f5f"
            },
            "marker": {
             "line": {
              "color": "#E5ECF6",
              "width": 0.5
             },
             "pattern": {
              "fillmode": "overlay",
              "size": 10,
              "solidity": 0.2
             }
            },
            "type": "bar"
           }
          ],
          "barpolar": [
           {
            "marker": {
             "line": {
              "color": "#E5ECF6",
              "width": 0.5
             },
             "pattern": {
              "fillmode": "overlay",
              "size": 10,
              "solidity": 0.2
             }
            },
            "type": "barpolar"
           }
          ],
          "carpet": [
           {
            "aaxis": {
             "endlinecolor": "#2a3f5f",
             "gridcolor": "white",
             "linecolor": "white",
             "minorgridcolor": "white",
             "startlinecolor": "#2a3f5f"
            },
            "baxis": {
             "endlinecolor": "#2a3f5f",
             "gridcolor": "white",
             "linecolor": "white",
             "minorgridcolor": "white",
             "startlinecolor": "#2a3f5f"
            },
            "type": "carpet"
           }
          ],
          "choropleth": [
           {
            "colorbar": {
             "outlinewidth": 0,
             "ticks": ""
            },
            "type": "choropleth"
           }
          ],
          "contour": [
           {
            "colorbar": {
             "outlinewidth": 0,
             "ticks": ""
            },
            "colorscale": [
             [
              0,
              "#0d0887"
             ],
             [
              0.1111111111111111,
              "#46039f"
             ],
             [
              0.2222222222222222,
              "#7201a8"
             ],
             [
              0.3333333333333333,
              "#9c179e"
             ],
             [
              0.4444444444444444,
              "#bd3786"
             ],
             [
              0.5555555555555556,
              "#d8576b"
             ],
             [
              0.6666666666666666,
              "#ed7953"
             ],
             [
              0.7777777777777778,
              "#fb9f3a"
             ],
             [
              0.8888888888888888,
              "#fdca26"
             ],
             [
              1,
              "#f0f921"
             ]
            ],
            "type": "contour"
           }
          ],
          "contourcarpet": [
           {
            "colorbar": {
             "outlinewidth": 0,
             "ticks": ""
            },
            "type": "contourcarpet"
           }
          ],
          "heatmap": [
           {
            "colorbar": {
             "outlinewidth": 0,
             "ticks": ""
            },
            "colorscale": [
             [
              0,
              "#0d0887"
             ],
             [
              0.1111111111111111,
              "#46039f"
             ],
             [
              0.2222222222222222,
              "#7201a8"
             ],
             [
              0.3333333333333333,
              "#9c179e"
             ],
             [
              0.4444444444444444,
              "#bd3786"
             ],
             [
              0.5555555555555556,
              "#d8576b"
             ],
             [
              0.6666666666666666,
              "#ed7953"
             ],
             [
              0.7777777777777778,
              "#fb9f3a"
             ],
             [
              0.8888888888888888,
              "#fdca26"
             ],
             [
              1,
              "#f0f921"
             ]
            ],
            "type": "heatmap"
           }
          ],
          "heatmapgl": [
           {
            "colorbar": {
             "outlinewidth": 0,
             "ticks": ""
            },
            "colorscale": [
             [
              0,
              "#0d0887"
             ],
             [
              0.1111111111111111,
              "#46039f"
             ],
             [
              0.2222222222222222,
              "#7201a8"
             ],
             [
              0.3333333333333333,
              "#9c179e"
             ],
             [
              0.4444444444444444,
              "#bd3786"
             ],
             [
              0.5555555555555556,
              "#d8576b"
             ],
             [
              0.6666666666666666,
              "#ed7953"
             ],
             [
              0.7777777777777778,
              "#fb9f3a"
             ],
             [
              0.8888888888888888,
              "#fdca26"
             ],
             [
              1,
              "#f0f921"
             ]
            ],
            "type": "heatmapgl"
           }
          ],
          "histogram": [
           {
            "marker": {
             "pattern": {
              "fillmode": "overlay",
              "size": 10,
              "solidity": 0.2
             }
            },
            "type": "histogram"
           }
          ],
          "histogram2d": [
           {
            "colorbar": {
             "outlinewidth": 0,
             "ticks": ""
            },
            "colorscale": [
             [
              0,
              "#0d0887"
             ],
             [
              0.1111111111111111,
              "#46039f"
             ],
             [
              0.2222222222222222,
              "#7201a8"
             ],
             [
              0.3333333333333333,
              "#9c179e"
             ],
             [
              0.4444444444444444,
              "#bd3786"
             ],
             [
              0.5555555555555556,
              "#d8576b"
             ],
             [
              0.6666666666666666,
              "#ed7953"
             ],
             [
              0.7777777777777778,
              "#fb9f3a"
             ],
             [
              0.8888888888888888,
              "#fdca26"
             ],
             [
              1,
              "#f0f921"
             ]
            ],
            "type": "histogram2d"
           }
          ],
          "histogram2dcontour": [
           {
            "colorbar": {
             "outlinewidth": 0,
             "ticks": ""
            },
            "colorscale": [
             [
              0,
              "#0d0887"
             ],
             [
              0.1111111111111111,
              "#46039f"
             ],
             [
              0.2222222222222222,
              "#7201a8"
             ],
             [
              0.3333333333333333,
              "#9c179e"
             ],
             [
              0.4444444444444444,
              "#bd3786"
             ],
             [
              0.5555555555555556,
              "#d8576b"
             ],
             [
              0.6666666666666666,
              "#ed7953"
             ],
             [
              0.7777777777777778,
              "#fb9f3a"
             ],
             [
              0.8888888888888888,
              "#fdca26"
             ],
             [
              1,
              "#f0f921"
             ]
            ],
            "type": "histogram2dcontour"
           }
          ],
          "mesh3d": [
           {
            "colorbar": {
             "outlinewidth": 0,
             "ticks": ""
            },
            "type": "mesh3d"
           }
          ],
          "parcoords": [
           {
            "line": {
             "colorbar": {
              "outlinewidth": 0,
              "ticks": ""
             }
            },
            "type": "parcoords"
           }
          ],
          "pie": [
           {
            "automargin": true,
            "type": "pie"
           }
          ],
          "scatter": [
           {
            "fillpattern": {
             "fillmode": "overlay",
             "size": 10,
             "solidity": 0.2
            },
            "type": "scatter"
           }
          ],
          "scatter3d": [
           {
            "line": {
             "colorbar": {
              "outlinewidth": 0,
              "ticks": ""
             }
            },
            "marker": {
             "colorbar": {
              "outlinewidth": 0,
              "ticks": ""
             }
            },
            "type": "scatter3d"
           }
          ],
          "scattercarpet": [
           {
            "marker": {
             "colorbar": {
              "outlinewidth": 0,
              "ticks": ""
             }
            },
            "type": "scattercarpet"
           }
          ],
          "scattergeo": [
           {
            "marker": {
             "colorbar": {
              "outlinewidth": 0,
              "ticks": ""
             }
            },
            "type": "scattergeo"
           }
          ],
          "scattergl": [
           {
            "marker": {
             "colorbar": {
              "outlinewidth": 0,
              "ticks": ""
             }
            },
            "type": "scattergl"
           }
          ],
          "scattermapbox": [
           {
            "marker": {
             "colorbar": {
              "outlinewidth": 0,
              "ticks": ""
             }
            },
            "type": "scattermapbox"
           }
          ],
          "scatterpolar": [
           {
            "marker": {
             "colorbar": {
              "outlinewidth": 0,
              "ticks": ""
             }
            },
            "type": "scatterpolar"
           }
          ],
          "scatterpolargl": [
           {
            "marker": {
             "colorbar": {
              "outlinewidth": 0,
              "ticks": ""
             }
            },
            "type": "scatterpolargl"
           }
          ],
          "scatterternary": [
           {
            "marker": {
             "colorbar": {
              "outlinewidth": 0,
              "ticks": ""
             }
            },
            "type": "scatterternary"
           }
          ],
          "surface": [
           {
            "colorbar": {
             "outlinewidth": 0,
             "ticks": ""
            },
            "colorscale": [
             [
              0,
              "#0d0887"
             ],
             [
              0.1111111111111111,
              "#46039f"
             ],
             [
              0.2222222222222222,
              "#7201a8"
             ],
             [
              0.3333333333333333,
              "#9c179e"
             ],
             [
              0.4444444444444444,
              "#bd3786"
             ],
             [
              0.5555555555555556,
              "#d8576b"
             ],
             [
              0.6666666666666666,
              "#ed7953"
             ],
             [
              0.7777777777777778,
              "#fb9f3a"
             ],
             [
              0.8888888888888888,
              "#fdca26"
             ],
             [
              1,
              "#f0f921"
             ]
            ],
            "type": "surface"
           }
          ],
          "table": [
           {
            "cells": {
             "fill": {
              "color": "#EBF0F8"
             },
             "line": {
              "color": "white"
             }
            },
            "header": {
             "fill": {
              "color": "#C8D4E3"
             },
             "line": {
              "color": "white"
             }
            },
            "type": "table"
           }
          ]
         },
         "layout": {
          "annotationdefaults": {
           "arrowcolor": "#2a3f5f",
           "arrowhead": 0,
           "arrowwidth": 1
          },
          "autotypenumbers": "strict",
          "coloraxis": {
           "colorbar": {
            "outlinewidth": 0,
            "ticks": ""
           }
          },
          "colorscale": {
           "diverging": [
            [
             0,
             "#8e0152"
            ],
            [
             0.1,
             "#c51b7d"
            ],
            [
             0.2,
             "#de77ae"
            ],
            [
             0.3,
             "#f1b6da"
            ],
            [
             0.4,
             "#fde0ef"
            ],
            [
             0.5,
             "#f7f7f7"
            ],
            [
             0.6,
             "#e6f5d0"
            ],
            [
             0.7,
             "#b8e186"
            ],
            [
             0.8,
             "#7fbc41"
            ],
            [
             0.9,
             "#4d9221"
            ],
            [
             1,
             "#276419"
            ]
           ],
           "sequential": [
            [
             0,
             "#0d0887"
            ],
            [
             0.1111111111111111,
             "#46039f"
            ],
            [
             0.2222222222222222,
             "#7201a8"
            ],
            [
             0.3333333333333333,
             "#9c179e"
            ],
            [
             0.4444444444444444,
             "#bd3786"
            ],
            [
             0.5555555555555556,
             "#d8576b"
            ],
            [
             0.6666666666666666,
             "#ed7953"
            ],
            [
             0.7777777777777778,
             "#fb9f3a"
            ],
            [
             0.8888888888888888,
             "#fdca26"
            ],
            [
             1,
             "#f0f921"
            ]
           ],
           "sequentialminus": [
            [
             0,
             "#0d0887"
            ],
            [
             0.1111111111111111,
             "#46039f"
            ],
            [
             0.2222222222222222,
             "#7201a8"
            ],
            [
             0.3333333333333333,
             "#9c179e"
            ],
            [
             0.4444444444444444,
             "#bd3786"
            ],
            [
             0.5555555555555556,
             "#d8576b"
            ],
            [
             0.6666666666666666,
             "#ed7953"
            ],
            [
             0.7777777777777778,
             "#fb9f3a"
            ],
            [
             0.8888888888888888,
             "#fdca26"
            ],
            [
             1,
             "#f0f921"
            ]
           ]
          },
          "colorway": [
           "#636efa",
           "#EF553B",
           "#00cc96",
           "#ab63fa",
           "#FFA15A",
           "#19d3f3",
           "#FF6692",
           "#B6E880",
           "#FF97FF",
           "#FECB52"
          ],
          "font": {
           "color": "#2a3f5f"
          },
          "geo": {
           "bgcolor": "white",
           "lakecolor": "white",
           "landcolor": "#E5ECF6",
           "showlakes": true,
           "showland": true,
           "subunitcolor": "white"
          },
          "hoverlabel": {
           "align": "left"
          },
          "hovermode": "closest",
          "mapbox": {
           "style": "light"
          },
          "paper_bgcolor": "white",
          "plot_bgcolor": "#E5ECF6",
          "polar": {
           "angularaxis": {
            "gridcolor": "white",
            "linecolor": "white",
            "ticks": ""
           },
           "bgcolor": "#E5ECF6",
           "radialaxis": {
            "gridcolor": "white",
            "linecolor": "white",
            "ticks": ""
           }
          },
          "scene": {
           "xaxis": {
            "backgroundcolor": "#E5ECF6",
            "gridcolor": "white",
            "gridwidth": 2,
            "linecolor": "white",
            "showbackground": true,
            "ticks": "",
            "zerolinecolor": "white"
           },
           "yaxis": {
            "backgroundcolor": "#E5ECF6",
            "gridcolor": "white",
            "gridwidth": 2,
            "linecolor": "white",
            "showbackground": true,
            "ticks": "",
            "zerolinecolor": "white"
           },
           "zaxis": {
            "backgroundcolor": "#E5ECF6",
            "gridcolor": "white",
            "gridwidth": 2,
            "linecolor": "white",
            "showbackground": true,
            "ticks": "",
            "zerolinecolor": "white"
           }
          },
          "shapedefaults": {
           "line": {
            "color": "#2a3f5f"
           }
          },
          "ternary": {
           "aaxis": {
            "gridcolor": "white",
            "linecolor": "white",
            "ticks": ""
           },
           "baxis": {
            "gridcolor": "white",
            "linecolor": "white",
            "ticks": ""
           },
           "bgcolor": "#E5ECF6",
           "caxis": {
            "gridcolor": "white",
            "linecolor": "white",
            "ticks": ""
           }
          },
          "title": {
           "x": 0.05
          },
          "xaxis": {
           "automargin": true,
           "gridcolor": "white",
           "linecolor": "white",
           "ticks": "",
           "title": {
            "standoff": 15
           },
           "zerolinecolor": "white",
           "zerolinewidth": 2
          },
          "yaxis": {
           "automargin": true,
           "gridcolor": "white",
           "linecolor": "white",
           "ticks": "",
           "title": {
            "standoff": 15
           },
           "zerolinecolor": "white",
           "zerolinewidth": 2
          }
         }
        },
        "xaxis": {
         "anchor": "y",
         "domain": [
          0,
          1
         ],
         "title": {
          "text": "Training compute (FLOP)"
         },
         "type": "log"
        },
        "yaxis": {
         "anchor": "x",
         "domain": [
          0,
          1
         ],
         "title": {
          "text": "Perplexity (WT2)"
         }
        }
       }
      }
     },
     "metadata": {},
     "output_type": "display_data"
    }
   ],
   "source": [
    "fig = px.scatter(\n",
    "    filtered_benchmark_df,\n",
    "    x='Training compute (FLOP)',\n",
    "    y='Perplexity (WT2)',\n",
    "    color='Model accessibility',\n",
    "    # text=filtered_benchmark_df.index\n",
    ")\n",
    "\n",
    "# Log x-axis\n",
    "fig.update_xaxes(type='log')\n",
    "\n",
    "# Move text to top\n",
    "fig.update_traces(textposition='middle left')\n",
    "\n",
    "save_plot(fig, results_dir, 'WT2_vs_compute')\n",
    "\n",
    "fig.show()"
   ]
  },
  {
   "cell_type": "code",
   "execution_count": 68,
   "metadata": {},
   "outputs": [
    {
     "data": {
      "application/vnd.plotly.v1+json": {
       "config": {
        "plotlyServerURL": "https://plot.ly"
       },
       "data": [
        {
         "hovertemplate": "Model accessibility=Open source<br>Training compute (FLOP)=%{x}<br>Perplexity (PTB)=%{y}<extra></extra>",
         "legendgroup": "Open source",
         "marker": {
          "color": "#636efa",
          "symbol": "circle"
         },
         "mode": "markers",
         "name": "Open source",
         "orientation": "v",
         "showlegend": true,
         "textposition": "middle left",
         "type": "scatter",
         "x": [
          4.2e+22,
          9.31627008e+22,
          849000000000000000000,
          7.9e+21,
          2.16e+22,
          1.5e+22
         ],
         "xaxis": "x",
         "y": [
          null,
          null,
          null,
          null,
          null,
          null
         ],
         "yaxis": "y"
        },
        {
         "hovertemplate": "Model accessibility=Unreleased<br>Training compute (FLOP)=%{x}<br>Perplexity (PTB)=%{y}<extra></extra>",
         "legendgroup": "Unreleased",
         "marker": {
          "color": "#EF553B",
          "symbol": "circle"
         },
         "mode": "markers",
         "name": "Unreleased",
         "orientation": "v",
         "showlegend": true,
         "textposition": "middle left",
         "type": "scatter",
         "x": [
          88400000000000000000,
          11000000000000000000,
          9.1e+21,
          6.31e+23,
          null,
          1.57e+22,
          5.76e+23,
          26500000000000000000,
          10500000000000000,
          109000000000000000
         ],
         "xaxis": "x",
         "y": [
          null,
          null,
          null,
          null,
          null,
          null,
          null,
          null,
          62.4,
          null
         ],
         "yaxis": "y"
        },
        {
         "hovertemplate": "Model accessibility=Fully open-source (depr.)<br>Training compute (FLOP)=%{x}<br>Perplexity (PTB)=%{y}<extra></extra>",
         "legendgroup": "Fully open-source (depr.)",
         "marker": {
          "color": "#00cc96",
          "symbol": "circle"
         },
         "mode": "markers",
         "name": "Fully open-source (depr.)",
         "orientation": "v",
         "showlegend": true,
         "textposition": "middle left",
         "type": "scatter",
         "x": [
          null,
          null,
          null,
          null,
          null,
          null,
          1.100000000001e+23,
          null,
          null,
          null,
          null,
          null
         ],
         "xaxis": "x",
         "y": [
          null,
          null,
          null,
          12.02,
          null,
          null,
          null,
          null,
          null,
          null,
          10.8,
          16.5
         ],
         "yaxis": "y"
        },
        {
         "hovertemplate": "Model accessibility=Open access (non-commercial)<br>Training compute (FLOP)=%{x}<br>Perplexity (PTB)=%{y}<extra></extra>",
         "legendgroup": "Open access (non-commercial)",
         "marker": {
          "color": "#ab63fa",
          "symbol": "circle"
         },
         "mode": "markers",
         "name": "Open access (non-commercial)",
         "orientation": "v",
         "showlegend": true,
         "textposition": "middle left",
         "type": "scatter",
         "x": [
          2.7300000000000996e+23,
          5.5e+23,
          3.778e+23,
          4.02e+22,
          4.3e+23
         ],
         "xaxis": "x",
         "y": [
          null,
          null,
          18.9,
          null,
          null
         ],
         "yaxis": "y"
        },
        {
         "hovertemplate": "Model accessibility=API access<br>Training compute (FLOP)=%{x}<br>Perplexity (PTB)=%{y}<extra></extra>",
         "legendgroup": "API access",
         "marker": {
          "color": "#FFA15A",
          "symbol": "circle"
         },
         "mode": "markers",
         "name": "API access",
         "orientation": "v",
         "showlegend": true,
         "textposition": "middle left",
         "type": "scatter",
         "x": [
          3.14e+23
         ],
         "xaxis": "x",
         "y": [
          20.5
         ],
         "yaxis": "y"
        }
       ],
       "layout": {
        "legend": {
         "title": {
          "text": "Model accessibility"
         },
         "tracegroupgap": 0
        },
        "margin": {
         "t": 60
        },
        "template": {
         "data": {
          "bar": [
           {
            "error_x": {
             "color": "#2a3f5f"
            },
            "error_y": {
             "color": "#2a3f5f"
            },
            "marker": {
             "line": {
              "color": "#E5ECF6",
              "width": 0.5
             },
             "pattern": {
              "fillmode": "overlay",
              "size": 10,
              "solidity": 0.2
             }
            },
            "type": "bar"
           }
          ],
          "barpolar": [
           {
            "marker": {
             "line": {
              "color": "#E5ECF6",
              "width": 0.5
             },
             "pattern": {
              "fillmode": "overlay",
              "size": 10,
              "solidity": 0.2
             }
            },
            "type": "barpolar"
           }
          ],
          "carpet": [
           {
            "aaxis": {
             "endlinecolor": "#2a3f5f",
             "gridcolor": "white",
             "linecolor": "white",
             "minorgridcolor": "white",
             "startlinecolor": "#2a3f5f"
            },
            "baxis": {
             "endlinecolor": "#2a3f5f",
             "gridcolor": "white",
             "linecolor": "white",
             "minorgridcolor": "white",
             "startlinecolor": "#2a3f5f"
            },
            "type": "carpet"
           }
          ],
          "choropleth": [
           {
            "colorbar": {
             "outlinewidth": 0,
             "ticks": ""
            },
            "type": "choropleth"
           }
          ],
          "contour": [
           {
            "colorbar": {
             "outlinewidth": 0,
             "ticks": ""
            },
            "colorscale": [
             [
              0,
              "#0d0887"
             ],
             [
              0.1111111111111111,
              "#46039f"
             ],
             [
              0.2222222222222222,
              "#7201a8"
             ],
             [
              0.3333333333333333,
              "#9c179e"
             ],
             [
              0.4444444444444444,
              "#bd3786"
             ],
             [
              0.5555555555555556,
              "#d8576b"
             ],
             [
              0.6666666666666666,
              "#ed7953"
             ],
             [
              0.7777777777777778,
              "#fb9f3a"
             ],
             [
              0.8888888888888888,
              "#fdca26"
             ],
             [
              1,
              "#f0f921"
             ]
            ],
            "type": "contour"
           }
          ],
          "contourcarpet": [
           {
            "colorbar": {
             "outlinewidth": 0,
             "ticks": ""
            },
            "type": "contourcarpet"
           }
          ],
          "heatmap": [
           {
            "colorbar": {
             "outlinewidth": 0,
             "ticks": ""
            },
            "colorscale": [
             [
              0,
              "#0d0887"
             ],
             [
              0.1111111111111111,
              "#46039f"
             ],
             [
              0.2222222222222222,
              "#7201a8"
             ],
             [
              0.3333333333333333,
              "#9c179e"
             ],
             [
              0.4444444444444444,
              "#bd3786"
             ],
             [
              0.5555555555555556,
              "#d8576b"
             ],
             [
              0.6666666666666666,
              "#ed7953"
             ],
             [
              0.7777777777777778,
              "#fb9f3a"
             ],
             [
              0.8888888888888888,
              "#fdca26"
             ],
             [
              1,
              "#f0f921"
             ]
            ],
            "type": "heatmap"
           }
          ],
          "heatmapgl": [
           {
            "colorbar": {
             "outlinewidth": 0,
             "ticks": ""
            },
            "colorscale": [
             [
              0,
              "#0d0887"
             ],
             [
              0.1111111111111111,
              "#46039f"
             ],
             [
              0.2222222222222222,
              "#7201a8"
             ],
             [
              0.3333333333333333,
              "#9c179e"
             ],
             [
              0.4444444444444444,
              "#bd3786"
             ],
             [
              0.5555555555555556,
              "#d8576b"
             ],
             [
              0.6666666666666666,
              "#ed7953"
             ],
             [
              0.7777777777777778,
              "#fb9f3a"
             ],
             [
              0.8888888888888888,
              "#fdca26"
             ],
             [
              1,
              "#f0f921"
             ]
            ],
            "type": "heatmapgl"
           }
          ],
          "histogram": [
           {
            "marker": {
             "pattern": {
              "fillmode": "overlay",
              "size": 10,
              "solidity": 0.2
             }
            },
            "type": "histogram"
           }
          ],
          "histogram2d": [
           {
            "colorbar": {
             "outlinewidth": 0,
             "ticks": ""
            },
            "colorscale": [
             [
              0,
              "#0d0887"
             ],
             [
              0.1111111111111111,
              "#46039f"
             ],
             [
              0.2222222222222222,
              "#7201a8"
             ],
             [
              0.3333333333333333,
              "#9c179e"
             ],
             [
              0.4444444444444444,
              "#bd3786"
             ],
             [
              0.5555555555555556,
              "#d8576b"
             ],
             [
              0.6666666666666666,
              "#ed7953"
             ],
             [
              0.7777777777777778,
              "#fb9f3a"
             ],
             [
              0.8888888888888888,
              "#fdca26"
             ],
             [
              1,
              "#f0f921"
             ]
            ],
            "type": "histogram2d"
           }
          ],
          "histogram2dcontour": [
           {
            "colorbar": {
             "outlinewidth": 0,
             "ticks": ""
            },
            "colorscale": [
             [
              0,
              "#0d0887"
             ],
             [
              0.1111111111111111,
              "#46039f"
             ],
             [
              0.2222222222222222,
              "#7201a8"
             ],
             [
              0.3333333333333333,
              "#9c179e"
             ],
             [
              0.4444444444444444,
              "#bd3786"
             ],
             [
              0.5555555555555556,
              "#d8576b"
             ],
             [
              0.6666666666666666,
              "#ed7953"
             ],
             [
              0.7777777777777778,
              "#fb9f3a"
             ],
             [
              0.8888888888888888,
              "#fdca26"
             ],
             [
              1,
              "#f0f921"
             ]
            ],
            "type": "histogram2dcontour"
           }
          ],
          "mesh3d": [
           {
            "colorbar": {
             "outlinewidth": 0,
             "ticks": ""
            },
            "type": "mesh3d"
           }
          ],
          "parcoords": [
           {
            "line": {
             "colorbar": {
              "outlinewidth": 0,
              "ticks": ""
             }
            },
            "type": "parcoords"
           }
          ],
          "pie": [
           {
            "automargin": true,
            "type": "pie"
           }
          ],
          "scatter": [
           {
            "fillpattern": {
             "fillmode": "overlay",
             "size": 10,
             "solidity": 0.2
            },
            "type": "scatter"
           }
          ],
          "scatter3d": [
           {
            "line": {
             "colorbar": {
              "outlinewidth": 0,
              "ticks": ""
             }
            },
            "marker": {
             "colorbar": {
              "outlinewidth": 0,
              "ticks": ""
             }
            },
            "type": "scatter3d"
           }
          ],
          "scattercarpet": [
           {
            "marker": {
             "colorbar": {
              "outlinewidth": 0,
              "ticks": ""
             }
            },
            "type": "scattercarpet"
           }
          ],
          "scattergeo": [
           {
            "marker": {
             "colorbar": {
              "outlinewidth": 0,
              "ticks": ""
             }
            },
            "type": "scattergeo"
           }
          ],
          "scattergl": [
           {
            "marker": {
             "colorbar": {
              "outlinewidth": 0,
              "ticks": ""
             }
            },
            "type": "scattergl"
           }
          ],
          "scattermapbox": [
           {
            "marker": {
             "colorbar": {
              "outlinewidth": 0,
              "ticks": ""
             }
            },
            "type": "scattermapbox"
           }
          ],
          "scatterpolar": [
           {
            "marker": {
             "colorbar": {
              "outlinewidth": 0,
              "ticks": ""
             }
            },
            "type": "scatterpolar"
           }
          ],
          "scatterpolargl": [
           {
            "marker": {
             "colorbar": {
              "outlinewidth": 0,
              "ticks": ""
             }
            },
            "type": "scatterpolargl"
           }
          ],
          "scatterternary": [
           {
            "marker": {
             "colorbar": {
              "outlinewidth": 0,
              "ticks": ""
             }
            },
            "type": "scatterternary"
           }
          ],
          "surface": [
           {
            "colorbar": {
             "outlinewidth": 0,
             "ticks": ""
            },
            "colorscale": [
             [
              0,
              "#0d0887"
             ],
             [
              0.1111111111111111,
              "#46039f"
             ],
             [
              0.2222222222222222,
              "#7201a8"
             ],
             [
              0.3333333333333333,
              "#9c179e"
             ],
             [
              0.4444444444444444,
              "#bd3786"
             ],
             [
              0.5555555555555556,
              "#d8576b"
             ],
             [
              0.6666666666666666,
              "#ed7953"
             ],
             [
              0.7777777777777778,
              "#fb9f3a"
             ],
             [
              0.8888888888888888,
              "#fdca26"
             ],
             [
              1,
              "#f0f921"
             ]
            ],
            "type": "surface"
           }
          ],
          "table": [
           {
            "cells": {
             "fill": {
              "color": "#EBF0F8"
             },
             "line": {
              "color": "white"
             }
            },
            "header": {
             "fill": {
              "color": "#C8D4E3"
             },
             "line": {
              "color": "white"
             }
            },
            "type": "table"
           }
          ]
         },
         "layout": {
          "annotationdefaults": {
           "arrowcolor": "#2a3f5f",
           "arrowhead": 0,
           "arrowwidth": 1
          },
          "autotypenumbers": "strict",
          "coloraxis": {
           "colorbar": {
            "outlinewidth": 0,
            "ticks": ""
           }
          },
          "colorscale": {
           "diverging": [
            [
             0,
             "#8e0152"
            ],
            [
             0.1,
             "#c51b7d"
            ],
            [
             0.2,
             "#de77ae"
            ],
            [
             0.3,
             "#f1b6da"
            ],
            [
             0.4,
             "#fde0ef"
            ],
            [
             0.5,
             "#f7f7f7"
            ],
            [
             0.6,
             "#e6f5d0"
            ],
            [
             0.7,
             "#b8e186"
            ],
            [
             0.8,
             "#7fbc41"
            ],
            [
             0.9,
             "#4d9221"
            ],
            [
             1,
             "#276419"
            ]
           ],
           "sequential": [
            [
             0,
             "#0d0887"
            ],
            [
             0.1111111111111111,
             "#46039f"
            ],
            [
             0.2222222222222222,
             "#7201a8"
            ],
            [
             0.3333333333333333,
             "#9c179e"
            ],
            [
             0.4444444444444444,
             "#bd3786"
            ],
            [
             0.5555555555555556,
             "#d8576b"
            ],
            [
             0.6666666666666666,
             "#ed7953"
            ],
            [
             0.7777777777777778,
             "#fb9f3a"
            ],
            [
             0.8888888888888888,
             "#fdca26"
            ],
            [
             1,
             "#f0f921"
            ]
           ],
           "sequentialminus": [
            [
             0,
             "#0d0887"
            ],
            [
             0.1111111111111111,
             "#46039f"
            ],
            [
             0.2222222222222222,
             "#7201a8"
            ],
            [
             0.3333333333333333,
             "#9c179e"
            ],
            [
             0.4444444444444444,
             "#bd3786"
            ],
            [
             0.5555555555555556,
             "#d8576b"
            ],
            [
             0.6666666666666666,
             "#ed7953"
            ],
            [
             0.7777777777777778,
             "#fb9f3a"
            ],
            [
             0.8888888888888888,
             "#fdca26"
            ],
            [
             1,
             "#f0f921"
            ]
           ]
          },
          "colorway": [
           "#636efa",
           "#EF553B",
           "#00cc96",
           "#ab63fa",
           "#FFA15A",
           "#19d3f3",
           "#FF6692",
           "#B6E880",
           "#FF97FF",
           "#FECB52"
          ],
          "font": {
           "color": "#2a3f5f"
          },
          "geo": {
           "bgcolor": "white",
           "lakecolor": "white",
           "landcolor": "#E5ECF6",
           "showlakes": true,
           "showland": true,
           "subunitcolor": "white"
          },
          "hoverlabel": {
           "align": "left"
          },
          "hovermode": "closest",
          "mapbox": {
           "style": "light"
          },
          "paper_bgcolor": "white",
          "plot_bgcolor": "#E5ECF6",
          "polar": {
           "angularaxis": {
            "gridcolor": "white",
            "linecolor": "white",
            "ticks": ""
           },
           "bgcolor": "#E5ECF6",
           "radialaxis": {
            "gridcolor": "white",
            "linecolor": "white",
            "ticks": ""
           }
          },
          "scene": {
           "xaxis": {
            "backgroundcolor": "#E5ECF6",
            "gridcolor": "white",
            "gridwidth": 2,
            "linecolor": "white",
            "showbackground": true,
            "ticks": "",
            "zerolinecolor": "white"
           },
           "yaxis": {
            "backgroundcolor": "#E5ECF6",
            "gridcolor": "white",
            "gridwidth": 2,
            "linecolor": "white",
            "showbackground": true,
            "ticks": "",
            "zerolinecolor": "white"
           },
           "zaxis": {
            "backgroundcolor": "#E5ECF6",
            "gridcolor": "white",
            "gridwidth": 2,
            "linecolor": "white",
            "showbackground": true,
            "ticks": "",
            "zerolinecolor": "white"
           }
          },
          "shapedefaults": {
           "line": {
            "color": "#2a3f5f"
           }
          },
          "ternary": {
           "aaxis": {
            "gridcolor": "white",
            "linecolor": "white",
            "ticks": ""
           },
           "baxis": {
            "gridcolor": "white",
            "linecolor": "white",
            "ticks": ""
           },
           "bgcolor": "#E5ECF6",
           "caxis": {
            "gridcolor": "white",
            "linecolor": "white",
            "ticks": ""
           }
          },
          "title": {
           "x": 0.05
          },
          "xaxis": {
           "automargin": true,
           "gridcolor": "white",
           "linecolor": "white",
           "ticks": "",
           "title": {
            "standoff": 15
           },
           "zerolinecolor": "white",
           "zerolinewidth": 2
          },
          "yaxis": {
           "automargin": true,
           "gridcolor": "white",
           "linecolor": "white",
           "ticks": "",
           "title": {
            "standoff": 15
           },
           "zerolinecolor": "white",
           "zerolinewidth": 2
          }
         }
        },
        "xaxis": {
         "anchor": "y",
         "domain": [
          0,
          1
         ],
         "title": {
          "text": "Training compute (FLOP)"
         },
         "type": "log"
        },
        "yaxis": {
         "anchor": "x",
         "domain": [
          0,
          1
         ],
         "title": {
          "text": "Perplexity (PTB)"
         }
        }
       }
      }
     },
     "metadata": {},
     "output_type": "display_data"
    }
   ],
   "source": [
    "fig = px.scatter(\n",
    "    filtered_benchmark_df,\n",
    "    x='Training compute (FLOP)',\n",
    "    y='Perplexity (PTB)',\n",
    "    color='Model accessibility',\n",
    "    # text=filtered_benchmark_df.index\n",
    ")\n",
    "\n",
    "# Log x-axis\n",
    "fig.update_xaxes(type='log')\n",
    "\n",
    "# Move text to top\n",
    "fig.update_traces(textposition='middle left')\n",
    "\n",
    "save_plot(fig, results_dir, 'PTB_vs_compute')\n",
    "\n",
    "fig.show()"
   ]
  },
  {
   "cell_type": "code",
   "execution_count": null,
   "metadata": {},
   "outputs": [],
   "source": []
  }
 ],
 "metadata": {
  "kernelspec": {
   "display_name": "epoch",
   "language": "python",
   "name": "python3"
  },
  "language_info": {
   "codemirror_mode": {
    "name": "ipython",
    "version": 3
   },
   "file_extension": ".py",
   "mimetype": "text/x-python",
   "name": "python",
   "nbconvert_exporter": "python",
   "pygments_lexer": "ipython3",
   "version": "3.11.4"
  }
 },
 "nbformat": 4,
 "nbformat_minor": 2
}
