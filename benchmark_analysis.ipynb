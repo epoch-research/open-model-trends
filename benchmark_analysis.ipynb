{
 "cells": [
  {
   "cell_type": "code",
   "execution_count": 1,
   "metadata": {},
   "outputs": [],
   "source": [
    "%load_ext autoreload\n",
    "%autoreload 2"
   ]
  },
  {
   "cell_type": "code",
   "execution_count": 2,
   "metadata": {},
   "outputs": [],
   "source": [
    "import numpy as np\n",
    "import os\n",
    "import pandas as pd\n",
    "import plotly.express as px\n",
    "\n",
    "from data import *\n",
    "from plotting import *\n",
    "from regression import *\n",
    "from utils import *"
   ]
  },
  {
   "cell_type": "code",
   "execution_count": 3,
   "metadata": {},
   "outputs": [],
   "source": [
    "results_dir = 'results/benchmark/initial/'\n",
    "os.makedirs(results_dir, exist_ok=True)"
   ]
  },
  {
   "cell_type": "markdown",
   "metadata": {},
   "source": [
    "# Data"
   ]
  },
  {
   "cell_type": "code",
   "execution_count": 4,
   "metadata": {},
   "outputs": [],
   "source": [
    "# Load data\n",
    "pcd_df = load_pcd_df()\n",
    "benchmark_df = load_benchmark_df()"
   ]
  },
  {
   "cell_type": "code",
   "execution_count": 5,
   "metadata": {},
   "outputs": [
    {
     "data": {
      "text/html": [
       "<div>\n",
       "<style scoped>\n",
       "    .dataframe tbody tr th:only-of-type {\n",
       "        vertical-align: middle;\n",
       "    }\n",
       "\n",
       "    .dataframe tbody tr th {\n",
       "        vertical-align: top;\n",
       "    }\n",
       "\n",
       "    .dataframe thead th {\n",
       "        text-align: right;\n",
       "    }\n",
       "</style>\n",
       "<table border=\"1\" class=\"dataframe\">\n",
       "  <thead>\n",
       "    <tr style=\"text-align: right;\">\n",
       "      <th></th>\n",
       "      <th>System</th>\n",
       "      <th>Author(s)</th>\n",
       "      <th>Publication date</th>\n",
       "      <th>Reference</th>\n",
       "      <th>Citations</th>\n",
       "      <th>Peer reviewed?</th>\n",
       "      <th>Link</th>\n",
       "      <th>Parameters</th>\n",
       "      <th>Training Compute</th>\n",
       "      <th>Epoch</th>\n",
       "      <th>...</th>\n",
       "      <th>Perplexity (WT2)</th>\n",
       "      <th>Perplexity (PTB)</th>\n",
       "      <th>Zero-shot?</th>\n",
       "      <th>Uses Cache</th>\n",
       "      <th>Architecture</th>\n",
       "      <th>Base Model</th>\n",
       "      <th>GitHub</th>\n",
       "      <th>Complete row</th>\n",
       "      <th>All ML Systems</th>\n",
       "      <th>System (from All ML Systems)</th>\n",
       "    </tr>\n",
       "  </thead>\n",
       "  <tbody>\n",
       "    <tr>\n",
       "      <th>0</th>\n",
       "      <td>(ensemble): AWD-LSTM-DOC (fin) × 5 (PTB)</td>\n",
       "      <td>Sho Takase, Jun Suzuki, Masaaki Nagata</td>\n",
       "      <td>2018-08-30</td>\n",
       "      <td>Direct Output Connection for a High-Rank Langu...</td>\n",
       "      <td>36.0</td>\n",
       "      <td>NaN</td>\n",
       "      <td>https://arxiv.org/abs/1808.10143</td>\n",
       "      <td>114000000.0</td>\n",
       "      <td>NaN</td>\n",
       "      <td>300.0</td>\n",
       "      <td>...</td>\n",
       "      <td>NaN</td>\n",
       "      <td>47.17</td>\n",
       "      <td>0.0</td>\n",
       "      <td>0</td>\n",
       "      <td>Recurrent</td>\n",
       "      <td>LSTM</td>\n",
       "      <td>https://github.com/nttcslab-nlp/doc_lm</td>\n",
       "      <td>1</td>\n",
       "      <td>(ensemble): AWD-LSTM-DOC (fin) × 5 (PTB)</td>\n",
       "      <td>(ensemble): AWD-LSTM-DOC (fin) × 5 (PTB)</td>\n",
       "    </tr>\n",
       "    <tr>\n",
       "      <th>1</th>\n",
       "      <td>(ensemble): AWD-LSTM-DOC (fin) × 5 (WT2)</td>\n",
       "      <td>Sho Takase, Jun Suzuki, Masaaki Nagata</td>\n",
       "      <td>2018-08-30</td>\n",
       "      <td>Direct Output Connection for a High-Rank Langu...</td>\n",
       "      <td>36.0</td>\n",
       "      <td>NaN</td>\n",
       "      <td>https://arxiv.org/abs/1808.10143</td>\n",
       "      <td>185000000.0</td>\n",
       "      <td>NaN</td>\n",
       "      <td>300.0</td>\n",
       "      <td>...</td>\n",
       "      <td>53.09</td>\n",
       "      <td>NaN</td>\n",
       "      <td>0.0</td>\n",
       "      <td>0</td>\n",
       "      <td>Recurrent</td>\n",
       "      <td>LSTM</td>\n",
       "      <td>https://github.com/nttcslab-nlp/doc_lm</td>\n",
       "      <td>1</td>\n",
       "      <td>(ensemble): AWD-LSTM-DOC (fin) × 5 (WT2)</td>\n",
       "      <td>(ensemble): AWD-LSTM-DOC (fin) × 5 (WT2)</td>\n",
       "    </tr>\n",
       "    <tr>\n",
       "      <th>2</th>\n",
       "      <td>$\\infty$-former (SM)</td>\n",
       "      <td>Pedro Henrique Martins, Zita Marinho, André F....</td>\n",
       "      <td>2021-09-01</td>\n",
       "      <td>$\\infty$-former: Infinite Memory Transformer</td>\n",
       "      <td>31.0</td>\n",
       "      <td>NaN</td>\n",
       "      <td>https://arxiv.org/abs/2109.00301</td>\n",
       "      <td>117000000.0</td>\n",
       "      <td>1.200000e+22</td>\n",
       "      <td>1.0</td>\n",
       "      <td>...</td>\n",
       "      <td>NaN</td>\n",
       "      <td>NaN</td>\n",
       "      <td>1.0</td>\n",
       "      <td>0</td>\n",
       "      <td>Transformer</td>\n",
       "      <td>GPT</td>\n",
       "      <td>https://github.com/deep-spin/infinite-former</td>\n",
       "      <td>1</td>\n",
       "      <td>$\\infty$-former (SM)</td>\n",
       "      <td>$\\infty$-former (SM)</td>\n",
       "    </tr>\n",
       "    <tr>\n",
       "      <th>3</th>\n",
       "      <td>1-layer-LSTM</td>\n",
       "      <td>H. T. Kung, Bradley McDanel, Sai Qian Zhang</td>\n",
       "      <td>2020-07-13</td>\n",
       "      <td>Term Revealing: Furthering Quantization at Run...</td>\n",
       "      <td>9.0</td>\n",
       "      <td>NaN</td>\n",
       "      <td>https://arxiv.org/pdf/2007.06389</td>\n",
       "      <td>86500000.0</td>\n",
       "      <td>NaN</td>\n",
       "      <td>NaN</td>\n",
       "      <td>...</td>\n",
       "      <td>86.85</td>\n",
       "      <td>NaN</td>\n",
       "      <td>0.0</td>\n",
       "      <td>0</td>\n",
       "      <td>Recurrent</td>\n",
       "      <td>LSTM</td>\n",
       "      <td>NaN</td>\n",
       "      <td>1</td>\n",
       "      <td>1-layer-LSTM</td>\n",
       "      <td>1-layer-LSTM</td>\n",
       "    </tr>\n",
       "    <tr>\n",
       "      <th>4</th>\n",
       "      <td>2-layer skip-LSTM + dropout tuning (PTB)</td>\n",
       "      <td>Gábor Melis, Charles Blundell, Tomáš Kočiský, ...</td>\n",
       "      <td>2018-05-23</td>\n",
       "      <td>Pushing the bounds of dropout</td>\n",
       "      <td>14.0</td>\n",
       "      <td>NaN</td>\n",
       "      <td>https://arxiv.org/abs/1805.09208</td>\n",
       "      <td>5400000.0</td>\n",
       "      <td>NaN</td>\n",
       "      <td>NaN</td>\n",
       "      <td>...</td>\n",
       "      <td>NaN</td>\n",
       "      <td>55.30</td>\n",
       "      <td>0.0</td>\n",
       "      <td>0</td>\n",
       "      <td>Recurrent</td>\n",
       "      <td>LSTM</td>\n",
       "      <td>NaN</td>\n",
       "      <td>1</td>\n",
       "      <td>2-layer skip-LSTM + dropout tuning (PTB)</td>\n",
       "      <td>2-layer skip-LSTM + dropout tuning (PTB)</td>\n",
       "    </tr>\n",
       "    <tr>\n",
       "      <th>...</th>\n",
       "      <td>...</td>\n",
       "      <td>...</td>\n",
       "      <td>...</td>\n",
       "      <td>...</td>\n",
       "      <td>...</td>\n",
       "      <td>...</td>\n",
       "      <td>...</td>\n",
       "      <td>...</td>\n",
       "      <td>...</td>\n",
       "      <td>...</td>\n",
       "      <td>...</td>\n",
       "      <td>...</td>\n",
       "      <td>...</td>\n",
       "      <td>...</td>\n",
       "      <td>...</td>\n",
       "      <td>...</td>\n",
       "      <td>...</td>\n",
       "      <td>...</td>\n",
       "      <td>...</td>\n",
       "      <td>...</td>\n",
       "      <td>...</td>\n",
       "    </tr>\n",
       "    <tr>\n",
       "      <th>403</th>\n",
       "      <td>WeNet (PTB)</td>\n",
       "      <td>Zhiheng Huang, Bing Xiang</td>\n",
       "      <td>2019-04-08</td>\n",
       "      <td>WeNet: Weighted Networks for Recurrent Network...</td>\n",
       "      <td>5.0</td>\n",
       "      <td>NaN</td>\n",
       "      <td>https://arxiv.org/pdf/1904.03819</td>\n",
       "      <td>23000000.0</td>\n",
       "      <td>NaN</td>\n",
       "      <td>NaN</td>\n",
       "      <td>...</td>\n",
       "      <td>NaN</td>\n",
       "      <td>54.80</td>\n",
       "      <td>0.0</td>\n",
       "      <td>0</td>\n",
       "      <td>NAS</td>\n",
       "      <td>WeNet</td>\n",
       "      <td>NaN</td>\n",
       "      <td>1</td>\n",
       "      <td>WeNet (PTB)</td>\n",
       "      <td>WeNet (PTB)</td>\n",
       "    </tr>\n",
       "    <tr>\n",
       "      <th>404</th>\n",
       "      <td>WeNet (WT2)</td>\n",
       "      <td>Zhiheng Huang, Bing Xiang</td>\n",
       "      <td>2019-04-08</td>\n",
       "      <td>WeNet: Weighted Networks for Recurrent Network...</td>\n",
       "      <td>5.0</td>\n",
       "      <td>NaN</td>\n",
       "      <td>https://arxiv.org/pdf/1904.03819</td>\n",
       "      <td>33000000.0</td>\n",
       "      <td>NaN</td>\n",
       "      <td>NaN</td>\n",
       "      <td>...</td>\n",
       "      <td>66.60</td>\n",
       "      <td>NaN</td>\n",
       "      <td>0.0</td>\n",
       "      <td>0</td>\n",
       "      <td>NAS</td>\n",
       "      <td>WeNet</td>\n",
       "      <td>NaN</td>\n",
       "      <td>1</td>\n",
       "      <td>WeNet (WT2),WeNet (Penn Treebank)</td>\n",
       "      <td>WeNet (WT2), WeNet (Penn Treebank)</td>\n",
       "    </tr>\n",
       "    <tr>\n",
       "      <th>405</th>\n",
       "      <td>Word-Independent-SRNN+KN5</td>\n",
       "      <td>Youssef Oualil, Clayton Greenberg, Mittul Sing...</td>\n",
       "      <td>2017-03-23</td>\n",
       "      <td>Sequential Recurrent Neural Networks for Langu...</td>\n",
       "      <td>7.0</td>\n",
       "      <td>NaN</td>\n",
       "      <td>https://arxiv.org/pdf/1703.08068</td>\n",
       "      <td>5320000.0</td>\n",
       "      <td>NaN</td>\n",
       "      <td>NaN</td>\n",
       "      <td>...</td>\n",
       "      <td>NaN</td>\n",
       "      <td>94.00</td>\n",
       "      <td>0.0</td>\n",
       "      <td>0</td>\n",
       "      <td>Recurrent</td>\n",
       "      <td>RNN</td>\n",
       "      <td>NaN</td>\n",
       "      <td>1</td>\n",
       "      <td>Word-Independent-SRNN+KN5</td>\n",
       "      <td>Word-Independent-SRNN+KN5</td>\n",
       "    </tr>\n",
       "    <tr>\n",
       "      <th>406</th>\n",
       "      <td>Zoneout + Variational LSTM (PTB)</td>\n",
       "      <td>Stephen Merity, Caiming Xiong, James Bradbury,...</td>\n",
       "      <td>2016-09-26</td>\n",
       "      <td>Pointer Sentinel Mixture Models</td>\n",
       "      <td>1558.0</td>\n",
       "      <td>NaN</td>\n",
       "      <td>https://arxiv.org/abs/1609.07843</td>\n",
       "      <td>21000000.0</td>\n",
       "      <td>NaN</td>\n",
       "      <td>64.0</td>\n",
       "      <td>...</td>\n",
       "      <td>NaN</td>\n",
       "      <td>80.60</td>\n",
       "      <td>0.0</td>\n",
       "      <td>0</td>\n",
       "      <td>Recurrent</td>\n",
       "      <td>LSTM</td>\n",
       "      <td>NaN</td>\n",
       "      <td>1</td>\n",
       "      <td>Zoneout + Variational LSTM (PTB)</td>\n",
       "      <td>Zoneout + Variational LSTM (PTB)</td>\n",
       "    </tr>\n",
       "    <tr>\n",
       "      <th>407</th>\n",
       "      <td>Zoneout + Variational LSTM (WT2)</td>\n",
       "      <td>Stephen Merity, Caiming Xiong, James Bradbury,...</td>\n",
       "      <td>2016-09-26</td>\n",
       "      <td>Pointer Sentinel Mixture Models</td>\n",
       "      <td>1558.0</td>\n",
       "      <td>NaN</td>\n",
       "      <td>https://arxiv.org/abs/1609.07843</td>\n",
       "      <td>21000000.0</td>\n",
       "      <td>NaN</td>\n",
       "      <td>64.0</td>\n",
       "      <td>...</td>\n",
       "      <td>100.90</td>\n",
       "      <td>NaN</td>\n",
       "      <td>0.0</td>\n",
       "      <td>0</td>\n",
       "      <td>Recurrent</td>\n",
       "      <td>LSTM</td>\n",
       "      <td>NaN</td>\n",
       "      <td>1</td>\n",
       "      <td>Zoneout + Variational LSTM (WT2)</td>\n",
       "      <td>Zoneout + Variational LSTM (WT2)</td>\n",
       "    </tr>\n",
       "  </tbody>\n",
       "</table>\n",
       "<p>408 rows × 29 columns</p>\n",
       "</div>"
      ],
      "text/plain": [
       "                                       System  \\\n",
       "0    (ensemble): AWD-LSTM-DOC (fin) × 5 (PTB)   \n",
       "1    (ensemble): AWD-LSTM-DOC (fin) × 5 (WT2)   \n",
       "2                        $\\infty$-former (SM)   \n",
       "3                                1-layer-LSTM   \n",
       "4    2-layer skip-LSTM + dropout tuning (PTB)   \n",
       "..                                        ...   \n",
       "403                               WeNet (PTB)   \n",
       "404                               WeNet (WT2)   \n",
       "405                 Word-Independent-SRNN+KN5   \n",
       "406          Zoneout + Variational LSTM (PTB)   \n",
       "407          Zoneout + Variational LSTM (WT2)   \n",
       "\n",
       "                                             Author(s) Publication date  \\\n",
       "0               Sho Takase, Jun Suzuki, Masaaki Nagata       2018-08-30   \n",
       "1               Sho Takase, Jun Suzuki, Masaaki Nagata       2018-08-30   \n",
       "2    Pedro Henrique Martins, Zita Marinho, André F....       2021-09-01   \n",
       "3          H. T. Kung, Bradley McDanel, Sai Qian Zhang       2020-07-13   \n",
       "4    Gábor Melis, Charles Blundell, Tomáš Kočiský, ...       2018-05-23   \n",
       "..                                                 ...              ...   \n",
       "403                          Zhiheng Huang, Bing Xiang       2019-04-08   \n",
       "404                          Zhiheng Huang, Bing Xiang       2019-04-08   \n",
       "405  Youssef Oualil, Clayton Greenberg, Mittul Sing...       2017-03-23   \n",
       "406  Stephen Merity, Caiming Xiong, James Bradbury,...       2016-09-26   \n",
       "407  Stephen Merity, Caiming Xiong, James Bradbury,...       2016-09-26   \n",
       "\n",
       "                                             Reference  Citations  \\\n",
       "0    Direct Output Connection for a High-Rank Langu...       36.0   \n",
       "1    Direct Output Connection for a High-Rank Langu...       36.0   \n",
       "2         $\\infty$-former: Infinite Memory Transformer       31.0   \n",
       "3    Term Revealing: Furthering Quantization at Run...        9.0   \n",
       "4                        Pushing the bounds of dropout       14.0   \n",
       "..                                                 ...        ...   \n",
       "403  WeNet: Weighted Networks for Recurrent Network...        5.0   \n",
       "404  WeNet: Weighted Networks for Recurrent Network...        5.0   \n",
       "405  Sequential Recurrent Neural Networks for Langu...        7.0   \n",
       "406                    Pointer Sentinel Mixture Models     1558.0   \n",
       "407                    Pointer Sentinel Mixture Models     1558.0   \n",
       "\n",
       "     Peer reviewed?                              Link   Parameters  \\\n",
       "0               NaN  https://arxiv.org/abs/1808.10143  114000000.0   \n",
       "1               NaN  https://arxiv.org/abs/1808.10143  185000000.0   \n",
       "2               NaN  https://arxiv.org/abs/2109.00301  117000000.0   \n",
       "3               NaN  https://arxiv.org/pdf/2007.06389   86500000.0   \n",
       "4               NaN  https://arxiv.org/abs/1805.09208    5400000.0   \n",
       "..              ...                               ...          ...   \n",
       "403             NaN  https://arxiv.org/pdf/1904.03819   23000000.0   \n",
       "404             NaN  https://arxiv.org/pdf/1904.03819   33000000.0   \n",
       "405             NaN  https://arxiv.org/pdf/1703.08068    5320000.0   \n",
       "406             NaN  https://arxiv.org/abs/1609.07843   21000000.0   \n",
       "407             NaN  https://arxiv.org/abs/1609.07843   21000000.0   \n",
       "\n",
       "     Training Compute  Epoch  ...  Perplexity (WT2)  Perplexity (PTB)  \\\n",
       "0                 NaN  300.0  ...               NaN             47.17   \n",
       "1                 NaN  300.0  ...             53.09               NaN   \n",
       "2        1.200000e+22    1.0  ...               NaN               NaN   \n",
       "3                 NaN    NaN  ...             86.85               NaN   \n",
       "4                 NaN    NaN  ...               NaN             55.30   \n",
       "..                ...    ...  ...               ...               ...   \n",
       "403               NaN    NaN  ...               NaN             54.80   \n",
       "404               NaN    NaN  ...             66.60               NaN   \n",
       "405               NaN    NaN  ...               NaN             94.00   \n",
       "406               NaN   64.0  ...               NaN             80.60   \n",
       "407               NaN   64.0  ...            100.90               NaN   \n",
       "\n",
       "     Zero-shot?  Uses Cache Architecture  Base Model  \\\n",
       "0           0.0           0    Recurrent        LSTM   \n",
       "1           0.0           0    Recurrent        LSTM   \n",
       "2           1.0           0  Transformer         GPT   \n",
       "3           0.0           0    Recurrent        LSTM   \n",
       "4           0.0           0    Recurrent        LSTM   \n",
       "..          ...         ...          ...         ...   \n",
       "403         0.0           0          NAS       WeNet   \n",
       "404         0.0           0          NAS       WeNet   \n",
       "405         0.0           0    Recurrent         RNN   \n",
       "406         0.0           0    Recurrent        LSTM   \n",
       "407         0.0           0    Recurrent        LSTM   \n",
       "\n",
       "                                           GitHub Complete row  \\\n",
       "0          https://github.com/nttcslab-nlp/doc_lm            1   \n",
       "1          https://github.com/nttcslab-nlp/doc_lm            1   \n",
       "2    https://github.com/deep-spin/infinite-former            1   \n",
       "3                                             NaN            1   \n",
       "4                                             NaN            1   \n",
       "..                                            ...          ...   \n",
       "403                                           NaN            1   \n",
       "404                                           NaN            1   \n",
       "405                                           NaN            1   \n",
       "406                                           NaN            1   \n",
       "407                                           NaN            1   \n",
       "\n",
       "                               All ML Systems  \\\n",
       "0    (ensemble): AWD-LSTM-DOC (fin) × 5 (PTB)   \n",
       "1    (ensemble): AWD-LSTM-DOC (fin) × 5 (WT2)   \n",
       "2                        $\\infty$-former (SM)   \n",
       "3                                1-layer-LSTM   \n",
       "4    2-layer skip-LSTM + dropout tuning (PTB)   \n",
       "..                                        ...   \n",
       "403                               WeNet (PTB)   \n",
       "404         WeNet (WT2),WeNet (Penn Treebank)   \n",
       "405                 Word-Independent-SRNN+KN5   \n",
       "406          Zoneout + Variational LSTM (PTB)   \n",
       "407          Zoneout + Variational LSTM (WT2)   \n",
       "\n",
       "                 System (from All ML Systems)  \n",
       "0    (ensemble): AWD-LSTM-DOC (fin) × 5 (PTB)  \n",
       "1    (ensemble): AWD-LSTM-DOC (fin) × 5 (WT2)  \n",
       "2                        $\\infty$-former (SM)  \n",
       "3                                1-layer-LSTM  \n",
       "4    2-layer skip-LSTM + dropout tuning (PTB)  \n",
       "..                                        ...  \n",
       "403                               WeNet (PTB)  \n",
       "404        WeNet (WT2), WeNet (Penn Treebank)  \n",
       "405                 Word-Independent-SRNN+KN5  \n",
       "406          Zoneout + Variational LSTM (PTB)  \n",
       "407          Zoneout + Variational LSTM (WT2)  \n",
       "\n",
       "[408 rows x 29 columns]"
      ]
     },
     "execution_count": 5,
     "metadata": {},
     "output_type": "execute_result"
    }
   ],
   "source": [
    "benchmark_df"
   ]
  },
  {
   "cell_type": "code",
   "execution_count": 6,
   "metadata": {},
   "outputs": [],
   "source": [
    "# Set System as index\n",
    "benchmark_df.set_index('System', inplace=True)\n",
    "pcd_df.set_index('System', inplace=True)"
   ]
  },
  {
   "cell_type": "code",
   "execution_count": 7,
   "metadata": {},
   "outputs": [
    {
     "data": {
      "text/plain": [
       "{'$\\\\infty$-former (SM)',\n",
       " '(ensemble): AWD-LSTM-DOC (fin) × 5 (PTB)',\n",
       " '(ensemble): AWD-LSTM-DOC (fin) × 5 (WT2)',\n",
       " '1-layer-LSTM',\n",
       " '2-layer skip-LSTM + dropout tuning (PTB)',\n",
       " '2-layer skip-LSTM + dropout tuning (WT2)',\n",
       " '2-layer-LSTM+Deep-Gradient-Compression',\n",
       " '2nd order FOFE-FNNLM',\n",
       " '3-Layer-Tensor-Transformer+AdaHessian',\n",
       " '4 layer Densely Connected LSTM',\n",
       " '4 layer QRNN (h=2500)',\n",
       " '4 layer QRNN + dynamic evaluation',\n",
       " '4-gram + 8 DENN',\n",
       " '6-Layer-Tensor-Transformer+AdaHessian',\n",
       " 'ADP-FAIRSEQ+NGRAMRES',\n",
       " 'AFP+FPI (PTB)',\n",
       " 'AFP+FPI (WT2)',\n",
       " 'ALiBi (L=3072, Lvalid = 3072)',\n",
       " 'AWD-FWM (PTB)',\n",
       " 'AWD-FWM (WT2)',\n",
       " 'AWD-LSTM',\n",
       " 'AWD-LSTM + DeFINE',\n",
       " 'AWD-LSTM + MoS + Partial Shuffled',\n",
       " 'AWD-LSTM + Phrase Induction + finetuning',\n",
       " 'AWD-LSTM + dynamic eval (PTB)',\n",
       " 'AWD-LSTM + dynamic eval (WT2)',\n",
       " 'AWD-LSTM - 3-layer LSTM (tied) + continuous cache pointer (PTB)',\n",
       " 'AWD-LSTM - 3-layer LSTM (tied) + continuous cache pointer (WT2)',\n",
       " 'AWD-LSTM+Behaviorial-Gating',\n",
       " 'AWD-LSTM+WT+Cache+IOG (PTB)',\n",
       " 'AWD-LSTM+WT+Cache+IOG (WT2)',\n",
       " 'AWD-LSTM-DOC (fin) (23M)',\n",
       " 'AWD-LSTM-DOC (fin) (37M)',\n",
       " 'AWD-LSTM-DRILL + dynamic evaluation† (PTB)',\n",
       " 'AWD-LSTM-DRILL + dynamic evaluation† (WT2)',\n",
       " 'AWD-LSTM-MoS + dynamic evaluation (PTB, 2017)',\n",
       " 'AWD-LSTM-MoS + dynamic evaluation (PTB, 2018)',\n",
       " 'AWD-LSTM-MoS + dynamic evaluation (WT2, 2017)',\n",
       " 'AWD-LSTM-MoS + dynamic evaluation (WT2, 2018)',\n",
       " 'AWD-LSTM-MoS+PDR + dynamic evaluation (PTB)',\n",
       " 'AWD-LSTM-MoS+PDR + dynamic evaluation (WT2)',\n",
       " 'Adaptive Input Transformer + RD',\n",
       " 'Adaptive Inputs + LayerDrop',\n",
       " 'Adaptive LSTM + DeFINE',\n",
       " 'AdvSoft + 4 layer QRNN + dynamic evaluation',\n",
       " 'Adversarial + AWD-LSTM-MoS + partial shuffled',\n",
       " 'All-attention network + adaptive span',\n",
       " 'Alleviated TOI 10 (PTB)',\n",
       " 'Alleviated TOI 10 (WT103)',\n",
       " 'Alleviated TOI 10 (WT2)',\n",
       " 'Amended-DARTS',\n",
       " 'B2T connection (16L)',\n",
       " 'BERT-Large-CAS (PTB+WT2+WT103)',\n",
       " 'BERT-Large-CAS (WT103)',\n",
       " 'BERT-Large-CAS (WT2)',\n",
       " 'BLOOM-1.7B',\n",
       " 'BLOOM-1B',\n",
       " 'BLOOM-3B',\n",
       " 'BLOOM-560M',\n",
       " 'BLOOM-7.1B',\n",
       " 'Base LM + kNN LM + Continuous Cache',\n",
       " 'Byte-mLSTM+emb+WN+VD',\n",
       " 'CD-GraB (WT103)',\n",
       " 'CD-GraB (WT2)',\n",
       " 'CODA',\n",
       " 'CT-MoS (PTB)',\n",
       " 'CT-MoS (WT2)',\n",
       " 'CT-MoS + DynamicEval (PTB)',\n",
       " 'CT-MoS + DynamicEval (WT2)',\n",
       " 'Char-CNN-BiLSTM',\n",
       " 'Chinchilla',\n",
       " 'Compress-LSTM (4.6M)',\n",
       " 'Compress-LSTM (66M)',\n",
       " 'Compressive Transformers for Long-Range Sequence Modelling',\n",
       " 'CryptoGRU',\n",
       " 'D-LSRC(100)+KN5',\n",
       " 'D-LSRC(200)+KN5',\n",
       " 'DARTS',\n",
       " 'DARTS (second order)',\n",
       " 'DEQ-Transformer (Medium, Adaptive Embedding)',\n",
       " 'DEQ-Transformer (Post-LN) + Jacobian Regularisation',\n",
       " 'DEQ-TrellisNet',\n",
       " 'DITTO',\n",
       " 'DOC + Finetune∗ + Partial Shuffle (PTB)',\n",
       " 'DOC + Finetune∗ + Partial Shuffle (WT2)',\n",
       " 'DOT(S)-RNN',\n",
       " 'DeLight',\n",
       " 'Decay RNN',\n",
       " 'Deep RNN',\n",
       " 'Delta RNN (+ full context)',\n",
       " 'Densely Connected LSTM + Var. Dropout',\n",
       " 'DiffQ Transformer (16L)',\n",
       " 'DiffStk-MRNN',\n",
       " 'Dropout-LSTM+Noise(Bernoulli) (PTB)',\n",
       " 'Dropout-LSTM+Noise(Bernoulli) (WT2)',\n",
       " 'Dropout-LSTM+Noise(Laplace)',\n",
       " 'E-SPA',\n",
       " 'EGRU (PTB)',\n",
       " 'EGRU (WT2)',\n",
       " 'EI-REHN-1000D',\n",
       " 'EI-REHN-1200D',\n",
       " 'ENAS',\n",
       " 'EN^2AS with performance reward',\n",
       " 'ERNIE-Doc (151M)',\n",
       " 'ERNIE-Doc (247M)',\n",
       " 'Engine-Base (NE)',\n",
       " 'Engine-XL(NE)',\n",
       " 'FAIRSEQ Adaptive Inputs',\n",
       " 'FMMformer (2-kernel fast weight + Band20)',\n",
       " 'FNetAR Medium',\n",
       " 'Fairseq + UID: variance',\n",
       " 'Feedback Transformer',\n",
       " 'Fine-tuned-AWD-LSTM-DOC(fin)',\n",
       " 'Frage-AWD-LSTM-MemoryAug-NeuralCache (PTB)',\n",
       " 'Frage-AWD-LSTM-MemoryAug-NeuralCache (WT2)',\n",
       " 'Fraternal dropout + AWD-LSTM 3-layer (PTB)',\n",
       " 'Fraternal dropout + AWD-LSTM 3-layer (WT2)',\n",
       " 'GCNN-14',\n",
       " 'GCRN-M1, dropout',\n",
       " 'GL-LWGC-AWD-MoS-LSTM + dynamic evaluation (PTB)',\n",
       " 'GL-LWGC-AWD-MoS-LSTM + dynamic evaluation (WT2)',\n",
       " 'GLM-10B',\n",
       " 'GLM-10B-bidirectional',\n",
       " 'GLM-10B-unidirectional',\n",
       " 'GLM-130B',\n",
       " 'GLM-2B',\n",
       " 'GPT-2 (1.5B, Curriculum Learning 45K)',\n",
       " 'GPT-2 (117M)',\n",
       " 'GPT-2 (117M, SLW 110K)',\n",
       " 'GPT-2 (345M)',\n",
       " 'GPT-2 (762M)',\n",
       " 'GPT-2 (fine-tuned with HYDRA)',\n",
       " 'GPT-2-Medium+Pixelfly',\n",
       " 'GPT-2-Small+Pixelfly',\n",
       " 'GPT-3 175B (davinci)',\n",
       " 'GPT-J-6B',\n",
       " 'GPT-Neo-1.3B',\n",
       " 'GPT-Neo-1.3B (finetuned)',\n",
       " 'GPT-Neo-125M',\n",
       " 'GPT-Neo-2.7B',\n",
       " 'GPT-Neo-2.7B (finetuned on PTB)',\n",
       " 'GPT-Neo-2.7B (finetuned)',\n",
       " 'GPT-NeoX-20B',\n",
       " 'GPT2+CoreLM+Fine-Tuning',\n",
       " 'GPT2-Large+LHOPT',\n",
       " 'GPT2-LayerFusion-WS',\n",
       " 'GPT3-6.7B (rerun of original)',\n",
       " 'GPT3-6.7B + muP',\n",
       " 'GRU + p-tHSM (pretrain via Brown) (PTB)',\n",
       " 'GRU + p-tHSM (pretrain via Brown) (WT103)',\n",
       " 'GRU + p-tHSM (pretrain via Brown) (WT2)',\n",
       " 'Gated HORNN (3rd order)',\n",
       " 'Gopher (280B)',\n",
       " 'Gopher (7.1B)',\n",
       " 'Grown to Prune Two-layer stacked LSTM',\n",
       " 'H-LSTM+wg+rcp+rcg+wp',\n",
       " 'HSO',\n",
       " 'Hybrid H3-1.3B',\n",
       " 'Hybrid H3-125M',\n",
       " 'Hybrid H3-2.7B',\n",
       " 'Hybrid H3-355M',\n",
       " 'Hyena-3-slim',\n",
       " 'ISS',\n",
       " 'Integer Transformer',\n",
       " 'KnGPT2',\n",
       " 'LBL',\n",
       " 'LLaMA-13B',\n",
       " 'LLaMA-13B (LoRA finetuned)',\n",
       " 'LLaMA-33B',\n",
       " 'LLaMA-33B (LoRA finetuned)',\n",
       " 'LLaMA-65B',\n",
       " 'LLaMA-65B (LoRA finetuned)',\n",
       " 'LLaMA-7B',\n",
       " 'LLaMA-7B (LoRA finetuned)',\n",
       " 'LSTM (2018)',\n",
       " 'LSTM (Hebbian, Cache, MbPA)',\n",
       " 'LSTM (PTB)',\n",
       " 'LSTM (WT103)',\n",
       " 'LSTM (WT2)',\n",
       " 'LSTM + dynamic eval',\n",
       " 'LSTM(large)+Sememe+cell',\n",
       " 'LSTM(medium)+Sememe+cell',\n",
       " 'LSTM+Adam+Lookahead',\n",
       " 'LSTM+GraB',\n",
       " 'LSTM+NeuralCache',\n",
       " 'LSTM+Noise(Beta)',\n",
       " 'LSTM-3-layer+Gadam',\n",
       " 'LSTM-300units',\n",
       " 'LSTM-Char-Large',\n",
       " 'LSTM-Large+Behaviorial-Gating',\n",
       " 'LSTM-Medium+Behaviorial-Gating',\n",
       " 'LSTM-MemoryAug (PTB)',\n",
       " 'LSTM-MemoryAug (WT2)',\n",
       " 'LTM',\n",
       " 'L_UL-seq',\n",
       " 'LaMemo',\n",
       " 'Large regularized LSTM',\n",
       " 'Linear Transformer (large)',\n",
       " 'Linear Transformer (small)',\n",
       " 'Local Transformer',\n",
       " 'MGK 4 heads (medium)',\n",
       " 'MGK 8 heads (small)',\n",
       " 'MMLSTM',\n",
       " 'Megatron-LM (2.5B)',\n",
       " 'Megatron-LM (355M)',\n",
       " 'Megatron-LM (8.3B)',\n",
       " 'MemSizer',\n",
       " 'Memformer (4 encoder + 16 decoder)',\n",
       " 'MicroNet (Adaptive, Cache)',\n",
       " 'Mogrifier (d2, MC) + dynamic eval',\n",
       " 'Mogrifier (d2, MoS2, MC) + dynamic eval',\n",
       " 'Mogrifier RLSTM (PTB)',\n",
       " 'Mogrifier RLSTM (WT2)',\n",
       " 'Monarch-GPT-2-Medium',\n",
       " 'Monarch-GPT-2-Small',\n",
       " 'Multi-cell LSTM',\n",
       " 'Multipop Adaptive Continuous Stack (PTB)',\n",
       " 'Multipop Adaptive Continuous Stack (WT2)',\n",
       " 'N-gram',\n",
       " 'N-gram+Cache',\n",
       " 'NAS+ESS (156M)',\n",
       " 'NAS+ESS (23M)',\n",
       " 'NLM',\n",
       " 'NMM(LSTM+RNN)',\n",
       " 'NMST+GPT-2',\n",
       " 'Neural Architecture Search with base 8 and shared embeddings',\n",
       " 'Neural cache model (size=2000)',\n",
       " 'Neural cache model (size=2000) (300M)',\n",
       " 'NoPos',\n",
       " 'ONLSTM-SYD',\n",
       " 'OPT-1.3B',\n",
       " 'OPT-1.3B (finetuned on PTB)',\n",
       " 'OPT-1.3B (finetuned)',\n",
       " 'OPT-125M (finetuned on PTB)',\n",
       " 'OPT-125M (finetuned)',\n",
       " 'OPT-13B',\n",
       " 'OPT-175B',\n",
       " 'OPT-2.7B',\n",
       " 'OPT-2.7B (finetuned on PTB)',\n",
       " 'OPT-2.7B (finetuned on WT2)',\n",
       " 'OPT-30B',\n",
       " 'OPT-350M',\n",
       " 'OPT-6.7B',\n",
       " 'OPT-66B',\n",
       " 'PAR Transformer Large',\n",
       " 'PermuteFormer',\n",
       " 'Pointer Sentinel-LSTM',\n",
       " 'Pointer Sentinel-LSTM (medium)',\n",
       " 'Pythia-1.4b',\n",
       " 'Pythia-12b',\n",
       " 'Pythia-160m',\n",
       " 'Pythia-1b',\n",
       " 'Pythia-2.8b',\n",
       " 'Pythia-410m',\n",
       " 'Pythia-6.9b',\n",
       " 'Pythia-70m',\n",
       " 'QRNN',\n",
       " 'Quantized ADMM',\n",
       " 'R-Transformer',\n",
       " 'RETRO-7B',\n",
       " 'RFA-GATE-Gaussian-Stateful Big',\n",
       " 'RGC+ASQ (PTB)',\n",
       " 'RGC+ASQ (WT2)',\n",
       " 'RHN(depth=40)',\n",
       " 'RHN+HSG(depth=40)',\n",
       " 'RNN',\n",
       " 'RNN (SGD+CLR) (PTB)',\n",
       " 'RNN + char2-MS-vec',\n",
       " 'RNN + char3-MS-vec',\n",
       " 'RNN + char4-MS-vec',\n",
       " 'RNN Baseline',\n",
       " 'RNN+LDA',\n",
       " 'RNN+LDA+KN5+cache',\n",
       " 'RNN+LSA+KN5+cache (model combination w/ linear extrapolation)',\n",
       " 'RNN+weight noise+dynamic eval',\n",
       " 'RNNLM + Dynamic KL Regularization',\n",
       " 'RNNLM + Dynamic KL Regularization (WT2)',\n",
       " 'RNS-RNN',\n",
       " 'RSM',\n",
       " 'Relational Memory Core',\n",
       " 'Routing Transformer',\n",
       " 'S + I-Attention (3)',\n",
       " 'S4',\n",
       " 'SCRN(Structurally Constrained Recurrent Network)',\n",
       " 'SPALM + RelationLM',\n",
       " 'SPALM + kNN',\n",
       " 'SPN-4',\n",
       " 'SPN-4+KN5',\n",
       " 'SRU++ Base',\n",
       " 'SRU++ Large',\n",
       " 'SRU++ Large only 2 attention layers (k=5)',\n",
       " 'Sandwich Transformer',\n",
       " 'Scatterbrain',\n",
       " 'Search-Proven Best LSTM',\n",
       " 'Segatron -XL base, M=150 + HCP',\n",
       " 'Segatron XL base, M=384',\n",
       " 'Segatron XL large, M=384',\n",
       " 'Segatron-XL large, M=384 + HCP',\n",
       " 'Selfish-RNN (AWD-LSTM-MoS)',\n",
       " 'Selfish-RNN (ON-LSTM)',\n",
       " 'Selfish-RNN (SNT-ASGD) Stacked LSTMs',\n",
       " 'Selfish-RNN (SNT-ASGD)RHNs',\n",
       " 'Shortformer',\n",
       " 'Sparse Wide GPT-3 Small',\n",
       " 'SparseOPT-13B',\n",
       " 'SparseOPT-175B',\n",
       " 'SparseOPT-30B',\n",
       " 'SparseOPT-66B',\n",
       " 'Stack RNN',\n",
       " 'Subformer (122M)',\n",
       " 'Subformer (83M)',\n",
       " 'Subformer (96M)',\n",
       " 'T2R + Pretrain',\n",
       " 'T2R + Random Init',\n",
       " 'T2R 75% + Pretrain',\n",
       " 'TCN (13M)',\n",
       " 'TCN (148M)',\n",
       " 'TF-LM-discourse LSTM (PTB)',\n",
       " 'TF-LM-discourse LSTM (WT2)',\n",
       " 'TPM-LVD',\n",
       " 'TRIMELMext (247M)',\n",
       " 'TRIMELMext (7M)',\n",
       " 'TRIMELMlong (150M)',\n",
       " 'TSLM+MoS (PTB)',\n",
       " 'TSLM+MoS (WT2)',\n",
       " 'TaLK Convolution',\n",
       " 'Temporal Convolutional Attention-based Network(TCAN) (PTB)',\n",
       " 'Temporal Convolutional Attention-based Network(TCAN) (WT2)',\n",
       " 'Tensor-Transformer(1core)+PN (PTB)',\n",
       " 'Tensor-Transformer(1core)+PN (WT103)',\n",
       " 'Tensorized Transformer (151M)',\n",
       " 'Tensorized Transformer (257M)',\n",
       " 'Tensorized Transformer (core-2)',\n",
       " 'Tensorized Transformer (large PTB)',\n",
       " 'Tensorized Transformer (small)',\n",
       " 'TransfoRNN(d=1024)(2-layer) (PTB)',\n",
       " 'TransfoRNN(d=1024)(2-layer) (WT2)',\n",
       " 'Transformer + Average Attention Network',\n",
       " 'Transformer + GFM',\n",
       " 'Transformer LM + MinSen',\n",
       " 'Transformer Large + HCP',\n",
       " 'Transformer+Recurrent Windows of Context',\n",
       " 'Transformer-C',\n",
       " 'Transformer-XL + AutoDropout (PTB)',\n",
       " 'Transformer-XL + AutoDropout (WT2)',\n",
       " 'Transformer-XL + PowerSGD + L-Greco',\n",
       " 'Transformer-XL + RMS dynamic eval',\n",
       " 'Transformer-XL + RMT',\n",
       " 'Transformer-XL + SIS',\n",
       " 'Transformer-XL DeFINE (107M)',\n",
       " 'Transformer-XL DeFINE (141M)',\n",
       " 'Transformer-XL Large + Phrase Induction',\n",
       " 'Transformer-XL+AdamGapAware(GA)',\n",
       " 'Transformer-XL+AdamP',\n",
       " 'Transformer-XL+WN+AdamP',\n",
       " 'Transformer-XL-ptb',\n",
       " 'TransformerXL + spectrum control',\n",
       " 'TransformerXL+RelationLM',\n",
       " 'TransformerXL-LayerFusion-CA',\n",
       " 'TrellisNet',\n",
       " 'True-Regularization+Finetune',\n",
       " 'True-Regularization+Finetune+Dynamic-Eval',\n",
       " 'Turing-NLG',\n",
       " 'VD-LSTM+REAL Large',\n",
       " 'VD-LSTM+REAL Medium',\n",
       " 'VD-LSTM+REAL Small',\n",
       " 'VD-RHN',\n",
       " 'VRNS-RNN-3-3-5',\n",
       " 'Variational (untied weights, MC) LSTM (Large)',\n",
       " 'Variational RHN + WT',\n",
       " 'WD+LR+M',\n",
       " 'WeNet (PTB)',\n",
       " 'WeNet (WT2)',\n",
       " 'Word-Independent-SRNN+KN5',\n",
       " 'Zoneout + Variational LSTM (PTB)',\n",
       " 'Zoneout + Variational LSTM (WT2)',\n",
       " 'aLSTM(depth-2)+RecurrentPolicy (PTB)',\n",
       " 'aLSTM(depth-2)+RecurrentPolicy (WT2)',\n",
       " 'bRSM + cache',\n",
       " 'base LM+GNN',\n",
       " 'base LM+GNN+kNN',\n",
       " 'dense-IndRNN+dynamic eval',\n",
       " 'genCNN + dyn eval',\n",
       " 'mini-GPT-2+Active-AdamW',\n",
       " 'rTop-k(distributed setting)',\n",
       " 'retrieval-quality-kNN-LMs',\n",
       " 'top-down frozen classifier'}"
      ]
     },
     "execution_count": 7,
     "metadata": {},
     "output_type": "execute_result"
    }
   ],
   "source": [
    "# Find overlapping System between the two dataframes\n",
    "systems = set(pcd_df.index) & set(benchmark_df.index)\n",
    "systems"
   ]
  },
  {
   "cell_type": "code",
   "execution_count": 8,
   "metadata": {},
   "outputs": [
    {
     "data": {
      "text/plain": [
       "387"
      ]
     },
     "execution_count": 8,
     "metadata": {},
     "output_type": "execute_result"
    }
   ],
   "source": [
    "# Filter systems that have non-empty value for 'Model accessibility' in pcd_df\n",
    "systems_with_model_accessibility = list(systems & set(pcd_df[pcd_df['Model accessibility'].notnull()].index))\n",
    "len(systems_with_model_accessibility)"
   ]
  },
  {
   "cell_type": "code",
   "execution_count": 10,
   "metadata": {},
   "outputs": [
    {
     "name": "stdout",
     "output_type": "stream",
     "text": [
      "165\n",
      "153\n",
      "111\n",
      "105\n"
     ]
    }
   ],
   "source": [
    "print(sum(benchmark_df.loc[:, 'Perplexity (WT103)'].notna()))\n",
    "print(sum(benchmark_df.loc[systems_with_model_accessibility, 'Perplexity (WT103)'].notna()))\n",
    "print(sum(benchmark_df.loc[:, 'Perplexity (WT2)'].notna()))\n",
    "print(sum(benchmark_df.loc[systems_with_model_accessibility, 'Perplexity (WT2)'].notna()))"
   ]
  },
  {
   "cell_type": "code",
   "execution_count": 11,
   "metadata": {},
   "outputs": [],
   "source": [
    "# Assign model accessibility values to benchmark_df\n",
    "benchmark_df.loc[systems_with_model_accessibility, 'Model accessibility'] = pcd_df.loc[\n",
    "    systems_with_model_accessibility, 'Model accessibility'\n",
    "]"
   ]
  },
  {
   "cell_type": "code",
   "execution_count": 13,
   "metadata": {},
   "outputs": [],
   "source": [
    "benchmark_df.loc[systems_with_model_accessibility, 'Training compute (FLOP)'] = pcd_df.loc[\n",
    "    systems_with_model_accessibility, 'Training compute (FLOP)'\n",
    "]"
   ]
  },
  {
   "cell_type": "code",
   "execution_count": 16,
   "metadata": {},
   "outputs": [],
   "source": [
    "filtered_benchmark_df = benchmark_df.loc[systems_with_model_accessibility]"
   ]
  },
  {
   "cell_type": "code",
   "execution_count": 17,
   "metadata": {},
   "outputs": [
    {
     "data": {
      "text/html": [
       "<div>\n",
       "<style scoped>\n",
       "    .dataframe tbody tr th:only-of-type {\n",
       "        vertical-align: middle;\n",
       "    }\n",
       "\n",
       "    .dataframe tbody tr th {\n",
       "        vertical-align: top;\n",
       "    }\n",
       "\n",
       "    .dataframe thead th {\n",
       "        text-align: right;\n",
       "    }\n",
       "</style>\n",
       "<table border=\"1\" class=\"dataframe\">\n",
       "  <thead>\n",
       "    <tr style=\"text-align: right;\">\n",
       "      <th></th>\n",
       "      <th>Author(s)</th>\n",
       "      <th>Publication date</th>\n",
       "      <th>Reference</th>\n",
       "      <th>Citations</th>\n",
       "      <th>Peer reviewed?</th>\n",
       "      <th>Link</th>\n",
       "      <th>Parameters</th>\n",
       "      <th>Training Compute</th>\n",
       "      <th>Epoch</th>\n",
       "      <th>Epoch (pretrain)</th>\n",
       "      <th>...</th>\n",
       "      <th>Zero-shot?</th>\n",
       "      <th>Uses Cache</th>\n",
       "      <th>Architecture</th>\n",
       "      <th>Base Model</th>\n",
       "      <th>GitHub</th>\n",
       "      <th>Complete row</th>\n",
       "      <th>All ML Systems</th>\n",
       "      <th>System (from All ML Systems)</th>\n",
       "      <th>Model accessibility</th>\n",
       "      <th>Training compute (FLOP)</th>\n",
       "    </tr>\n",
       "    <tr>\n",
       "      <th>System</th>\n",
       "      <th></th>\n",
       "      <th></th>\n",
       "      <th></th>\n",
       "      <th></th>\n",
       "      <th></th>\n",
       "      <th></th>\n",
       "      <th></th>\n",
       "      <th></th>\n",
       "      <th></th>\n",
       "      <th></th>\n",
       "      <th></th>\n",
       "      <th></th>\n",
       "      <th></th>\n",
       "      <th></th>\n",
       "      <th></th>\n",
       "      <th></th>\n",
       "      <th></th>\n",
       "      <th></th>\n",
       "      <th></th>\n",
       "      <th></th>\n",
       "      <th></th>\n",
       "    </tr>\n",
       "  </thead>\n",
       "  <tbody>\n",
       "    <tr>\n",
       "      <th>Sparse Wide GPT-3 Small</th>\n",
       "      <td>Shreyas Saxena, Vithursan Thangarasa, Abhay Gu...</td>\n",
       "      <td>2023-03-21</td>\n",
       "      <td>Sparse Iso-FLOP Transformations for Maximizing...</td>\n",
       "      <td>0.0</td>\n",
       "      <td>0.0</td>\n",
       "      <td>https://arxiv.org/pdf/2303.11525.pdf</td>\n",
       "      <td>1.300000e+09</td>\n",
       "      <td>NaN</td>\n",
       "      <td>110.00</td>\n",
       "      <td>NaN</td>\n",
       "      <td>...</td>\n",
       "      <td>0.0</td>\n",
       "      <td>0</td>\n",
       "      <td>Transformer</td>\n",
       "      <td>GPT</td>\n",
       "      <td>https://github.com/CerebrasResearch/Sparse-IFT</td>\n",
       "      <td>1</td>\n",
       "      <td>Sparse Wide GPT-3 Small</td>\n",
       "      <td>Sparse Wide GPT-3 Small</td>\n",
       "      <td>Unreleased</td>\n",
       "      <td>8.840000e+19</td>\n",
       "    </tr>\n",
       "    <tr>\n",
       "      <th>PAR Transformer Large</th>\n",
       "      <td>Swetha Mandava, Szymon Migacz, Alex Fit Florea</td>\n",
       "      <td>2020-09-09</td>\n",
       "      <td>Pay Attention when Required</td>\n",
       "      <td>11.0</td>\n",
       "      <td>NaN</td>\n",
       "      <td>https://arxiv.org/abs/2009.04534</td>\n",
       "      <td>NaN</td>\n",
       "      <td>NaN</td>\n",
       "      <td>NaN</td>\n",
       "      <td>NaN</td>\n",
       "      <td>...</td>\n",
       "      <td>0.0</td>\n",
       "      <td>0</td>\n",
       "      <td>Transformer</td>\n",
       "      <td>Transformer-XL</td>\n",
       "      <td>NaN</td>\n",
       "      <td>0</td>\n",
       "      <td>PAR Transformer Large</td>\n",
       "      <td>PAR Transformer Large</td>\n",
       "      <td>Unreleased</td>\n",
       "      <td>NaN</td>\n",
       "    </tr>\n",
       "    <tr>\n",
       "      <th>MemSizer</th>\n",
       "      <td>Yizhe Zhang, Deng Cai</td>\n",
       "      <td>2022-03-23</td>\n",
       "      <td>Linearizing Transformer with Key-Value Memory</td>\n",
       "      <td>0.0</td>\n",
       "      <td>0.0</td>\n",
       "      <td>https://web.archive.org/web/20220327055642/htt...</td>\n",
       "      <td>3.570000e+08</td>\n",
       "      <td>7.300000e+18</td>\n",
       "      <td>NaN</td>\n",
       "      <td>NaN</td>\n",
       "      <td>...</td>\n",
       "      <td>0.0</td>\n",
       "      <td>0</td>\n",
       "      <td>Transformer</td>\n",
       "      <td>Transformer-XL</td>\n",
       "      <td>NaN</td>\n",
       "      <td>1</td>\n",
       "      <td>MemSizer</td>\n",
       "      <td>MemSizer</td>\n",
       "      <td>Unreleased</td>\n",
       "      <td>7.300000e+18</td>\n",
       "    </tr>\n",
       "    <tr>\n",
       "      <th>6-Layer-Tensor-Transformer+AdaHessian</th>\n",
       "      <td>Zhewei Yao, Amir Gholami, Sheng Shen, Mustafa ...</td>\n",
       "      <td>2020-06-01</td>\n",
       "      <td>ADAHESSIAN: An Adaptive Second Order Optimizer...</td>\n",
       "      <td>151.0</td>\n",
       "      <td>NaN</td>\n",
       "      <td>https://arxiv.org/pdf/2006.00719</td>\n",
       "      <td>8.530000e+07</td>\n",
       "      <td>NaN</td>\n",
       "      <td>30.00</td>\n",
       "      <td>NaN</td>\n",
       "      <td>...</td>\n",
       "      <td>0.0</td>\n",
       "      <td>0</td>\n",
       "      <td>Transformer</td>\n",
       "      <td>Tensorized Transformer</td>\n",
       "      <td>https://github.com/amirgholami/ADAHESSIAN.git</td>\n",
       "      <td>1</td>\n",
       "      <td>6-Layer-Tensor-Transformer+AdaHessian</td>\n",
       "      <td>6-Layer-Tensor-Transformer+AdaHessian</td>\n",
       "      <td>Unreleased</td>\n",
       "      <td>1.580000e+18</td>\n",
       "    </tr>\n",
       "    <tr>\n",
       "      <th>Transformer-XL DeFINE (107M)</th>\n",
       "      <td>Sachin Mehta, Rik Koncel-Kedziorski, Mohammad ...</td>\n",
       "      <td>2019-11-27</td>\n",
       "      <td>DeFINE: DEep Factorized INput Token Embeddings...</td>\n",
       "      <td>21.0</td>\n",
       "      <td>NaN</td>\n",
       "      <td>https://arxiv.org/abs/1911.12385</td>\n",
       "      <td>1.070000e+08</td>\n",
       "      <td>5.200000e+18</td>\n",
       "      <td>20.00</td>\n",
       "      <td>NaN</td>\n",
       "      <td>...</td>\n",
       "      <td>0.0</td>\n",
       "      <td>0</td>\n",
       "      <td>Recurrent</td>\n",
       "      <td>LSTM</td>\n",
       "      <td>NaN</td>\n",
       "      <td>1</td>\n",
       "      <td>Transformer-XL DeFINE (107M)</td>\n",
       "      <td>Transformer-XL DeFINE (107M)</td>\n",
       "      <td>Unreleased</td>\n",
       "      <td>NaN</td>\n",
       "    </tr>\n",
       "    <tr>\n",
       "      <th>...</th>\n",
       "      <td>...</td>\n",
       "      <td>...</td>\n",
       "      <td>...</td>\n",
       "      <td>...</td>\n",
       "      <td>...</td>\n",
       "      <td>...</td>\n",
       "      <td>...</td>\n",
       "      <td>...</td>\n",
       "      <td>...</td>\n",
       "      <td>...</td>\n",
       "      <td>...</td>\n",
       "      <td>...</td>\n",
       "      <td>...</td>\n",
       "      <td>...</td>\n",
       "      <td>...</td>\n",
       "      <td>...</td>\n",
       "      <td>...</td>\n",
       "      <td>...</td>\n",
       "      <td>...</td>\n",
       "      <td>...</td>\n",
       "      <td>...</td>\n",
       "    </tr>\n",
       "    <tr>\n",
       "      <th>BLOOM-7.1B</th>\n",
       "      <td>Margaret Mitchell, Giada Pistilli, Yacine Jern...</td>\n",
       "      <td>2022-07-05</td>\n",
       "      <td>BigScience Language Open-science Open-access M...</td>\n",
       "      <td>404.0</td>\n",
       "      <td>NaN</td>\n",
       "      <td>https://huggingface.co/bigscience/bloom-3b#:~:...</td>\n",
       "      <td>7.070000e+09</td>\n",
       "      <td>NaN</td>\n",
       "      <td>1.00</td>\n",
       "      <td>NaN</td>\n",
       "      <td>...</td>\n",
       "      <td>0.5</td>\n",
       "      <td>0</td>\n",
       "      <td>Transformer</td>\n",
       "      <td>Megatron-LM GPT2</td>\n",
       "      <td>NaN</td>\n",
       "      <td>1</td>\n",
       "      <td>BLOOM-7.1B</td>\n",
       "      <td>BLOOM-7.1B</td>\n",
       "      <td>Open access (restricted use)</td>\n",
       "      <td>1.480000e+22</td>\n",
       "    </tr>\n",
       "    <tr>\n",
       "      <th>GRU + p-tHSM (pretrain via Brown) (PTB)</th>\n",
       "      <td>Nan Jiang, Wenge Rong, Min Gao, Yikang Shen, Z...</td>\n",
       "      <td>2017-08-19</td>\n",
       "      <td>Exploration of Tree-based Hierarchical Softmax...</td>\n",
       "      <td>5.0</td>\n",
       "      <td>NaN</td>\n",
       "      <td>https://www.researchgate.net/profile/Yikang-Sh...</td>\n",
       "      <td>5.200000e+06</td>\n",
       "      <td>NaN</td>\n",
       "      <td>NaN</td>\n",
       "      <td>NaN</td>\n",
       "      <td>...</td>\n",
       "      <td>0.0</td>\n",
       "      <td>0</td>\n",
       "      <td>Recurrent</td>\n",
       "      <td>GRU</td>\n",
       "      <td>NaN</td>\n",
       "      <td>1</td>\n",
       "      <td>GRU + p-tHSM (pretrain via Brown) (PTB)</td>\n",
       "      <td>GRU + p-tHSM (pretrain via Brown) (PTB)</td>\n",
       "      <td>Unreleased</td>\n",
       "      <td>NaN</td>\n",
       "    </tr>\n",
       "    <tr>\n",
       "      <th>FAIRSEQ Adaptive Inputs</th>\n",
       "      <td>Myle Ott, Sergey Edunov, Alexei Baevski, Angel...</td>\n",
       "      <td>2019-04-01</td>\n",
       "      <td>fairseq: A Fast, Extensible Toolkit for Sequen...</td>\n",
       "      <td>2428.0</td>\n",
       "      <td>NaN</td>\n",
       "      <td>https://arxiv.org/abs/1904.01038</td>\n",
       "      <td>2.470000e+08</td>\n",
       "      <td>7.300000e+18</td>\n",
       "      <td>NaN</td>\n",
       "      <td>NaN</td>\n",
       "      <td>...</td>\n",
       "      <td>0.0</td>\n",
       "      <td>0</td>\n",
       "      <td>Transformer</td>\n",
       "      <td>Transformer-XL</td>\n",
       "      <td>https://github.com/facebookresearch/fairseq</td>\n",
       "      <td>1</td>\n",
       "      <td>FAIRSEQ Adaptive Inputs</td>\n",
       "      <td>FAIRSEQ Adaptive Inputs</td>\n",
       "      <td>Unreleased</td>\n",
       "      <td>7.300000e+18</td>\n",
       "    </tr>\n",
       "    <tr>\n",
       "      <th>AWD-LSTM + dynamic eval (PTB)</th>\n",
       "      <td>Ben Krause, Emmanuel Kahembwe, Iain Murray, St...</td>\n",
       "      <td>2017-09-21</td>\n",
       "      <td>Dynamic Evaluation of Neural Sequence Models</td>\n",
       "      <td>130.0</td>\n",
       "      <td>NaN</td>\n",
       "      <td>https://arxiv.org/abs/1709.07432</td>\n",
       "      <td>2.400000e+07</td>\n",
       "      <td>NaN</td>\n",
       "      <td>NaN</td>\n",
       "      <td>NaN</td>\n",
       "      <td>...</td>\n",
       "      <td>0.0</td>\n",
       "      <td>0</td>\n",
       "      <td>Recurrent</td>\n",
       "      <td>LSTM</td>\n",
       "      <td>https://github.com/benkrause/dynamic-evaluation</td>\n",
       "      <td>1</td>\n",
       "      <td>AWD-LSTM + dynamic eval (PTB)</td>\n",
       "      <td>AWD-LSTM + dynamic eval (PTB)</td>\n",
       "      <td>Unreleased</td>\n",
       "      <td>NaN</td>\n",
       "    </tr>\n",
       "    <tr>\n",
       "      <th>NMST+GPT-2</th>\n",
       "      <td>Eugene Choi, Cheolhyoung Lee, Kyunghyun Cho</td>\n",
       "      <td>2022-10-03</td>\n",
       "      <td>A Non-monotonic Self-terminating Language Model</td>\n",
       "      <td>0.0</td>\n",
       "      <td>1.0</td>\n",
       "      <td>https://web.archive.org/web/20230220171748/htt...</td>\n",
       "      <td>1.240000e+08</td>\n",
       "      <td>1.200000e+20</td>\n",
       "      <td>2.98</td>\n",
       "      <td>NaN</td>\n",
       "      <td>...</td>\n",
       "      <td>0.0</td>\n",
       "      <td>0</td>\n",
       "      <td>Transformer</td>\n",
       "      <td>GPT</td>\n",
       "      <td>https://github.com/nyu-dl/non-monotonic-self-t...</td>\n",
       "      <td>1</td>\n",
       "      <td>NMST+GPT-2</td>\n",
       "      <td>NMST+GPT-2</td>\n",
       "      <td>Unreleased</td>\n",
       "      <td>1.200000e+20</td>\n",
       "    </tr>\n",
       "  </tbody>\n",
       "</table>\n",
       "<p>389 rows × 30 columns</p>\n",
       "</div>"
      ],
      "text/plain": [
       "                                                                                 Author(s)  \\\n",
       "System                                                                                       \n",
       "Sparse Wide GPT-3 Small                  Shreyas Saxena, Vithursan Thangarasa, Abhay Gu...   \n",
       "PAR Transformer Large                       Swetha Mandava, Szymon Migacz, Alex Fit Florea   \n",
       "MemSizer                                                             Yizhe Zhang, Deng Cai   \n",
       "6-Layer-Tensor-Transformer+AdaHessian    Zhewei Yao, Amir Gholami, Sheng Shen, Mustafa ...   \n",
       "Transformer-XL DeFINE (107M)             Sachin Mehta, Rik Koncel-Kedziorski, Mohammad ...   \n",
       "...                                                                                    ...   \n",
       "BLOOM-7.1B                               Margaret Mitchell, Giada Pistilli, Yacine Jern...   \n",
       "GRU + p-tHSM (pretrain via Brown) (PTB)  Nan Jiang, Wenge Rong, Min Gao, Yikang Shen, Z...   \n",
       "FAIRSEQ Adaptive Inputs                  Myle Ott, Sergey Edunov, Alexei Baevski, Angel...   \n",
       "AWD-LSTM + dynamic eval (PTB)            Ben Krause, Emmanuel Kahembwe, Iain Murray, St...   \n",
       "NMST+GPT-2                                     Eugene Choi, Cheolhyoung Lee, Kyunghyun Cho   \n",
       "\n",
       "                                        Publication date  \\\n",
       "System                                                     \n",
       "Sparse Wide GPT-3 Small                       2023-03-21   \n",
       "PAR Transformer Large                         2020-09-09   \n",
       "MemSizer                                      2022-03-23   \n",
       "6-Layer-Tensor-Transformer+AdaHessian         2020-06-01   \n",
       "Transformer-XL DeFINE (107M)                  2019-11-27   \n",
       "...                                                  ...   \n",
       "BLOOM-7.1B                                    2022-07-05   \n",
       "GRU + p-tHSM (pretrain via Brown) (PTB)       2017-08-19   \n",
       "FAIRSEQ Adaptive Inputs                       2019-04-01   \n",
       "AWD-LSTM + dynamic eval (PTB)                 2017-09-21   \n",
       "NMST+GPT-2                                    2022-10-03   \n",
       "\n",
       "                                                                                 Reference  \\\n",
       "System                                                                                       \n",
       "Sparse Wide GPT-3 Small                  Sparse Iso-FLOP Transformations for Maximizing...   \n",
       "PAR Transformer Large                                          Pay Attention when Required   \n",
       "MemSizer                                     Linearizing Transformer with Key-Value Memory   \n",
       "6-Layer-Tensor-Transformer+AdaHessian    ADAHESSIAN: An Adaptive Second Order Optimizer...   \n",
       "Transformer-XL DeFINE (107M)             DeFINE: DEep Factorized INput Token Embeddings...   \n",
       "...                                                                                    ...   \n",
       "BLOOM-7.1B                               BigScience Language Open-science Open-access M...   \n",
       "GRU + p-tHSM (pretrain via Brown) (PTB)  Exploration of Tree-based Hierarchical Softmax...   \n",
       "FAIRSEQ Adaptive Inputs                  fairseq: A Fast, Extensible Toolkit for Sequen...   \n",
       "AWD-LSTM + dynamic eval (PTB)                 Dynamic Evaluation of Neural Sequence Models   \n",
       "NMST+GPT-2                                 A Non-monotonic Self-terminating Language Model   \n",
       "\n",
       "                                         Citations  Peer reviewed?  \\\n",
       "System                                                               \n",
       "Sparse Wide GPT-3 Small                        0.0             0.0   \n",
       "PAR Transformer Large                         11.0             NaN   \n",
       "MemSizer                                       0.0             0.0   \n",
       "6-Layer-Tensor-Transformer+AdaHessian        151.0             NaN   \n",
       "Transformer-XL DeFINE (107M)                  21.0             NaN   \n",
       "...                                            ...             ...   \n",
       "BLOOM-7.1B                                   404.0             NaN   \n",
       "GRU + p-tHSM (pretrain via Brown) (PTB)        5.0             NaN   \n",
       "FAIRSEQ Adaptive Inputs                     2428.0             NaN   \n",
       "AWD-LSTM + dynamic eval (PTB)                130.0             NaN   \n",
       "NMST+GPT-2                                     0.0             1.0   \n",
       "\n",
       "                                                                                      Link  \\\n",
       "System                                                                                       \n",
       "Sparse Wide GPT-3 Small                               https://arxiv.org/pdf/2303.11525.pdf   \n",
       "PAR Transformer Large                                     https://arxiv.org/abs/2009.04534   \n",
       "MemSizer                                 https://web.archive.org/web/20220327055642/htt...   \n",
       "6-Layer-Tensor-Transformer+AdaHessian                     https://arxiv.org/pdf/2006.00719   \n",
       "Transformer-XL DeFINE (107M)                              https://arxiv.org/abs/1911.12385   \n",
       "...                                                                                    ...   \n",
       "BLOOM-7.1B                               https://huggingface.co/bigscience/bloom-3b#:~:...   \n",
       "GRU + p-tHSM (pretrain via Brown) (PTB)  https://www.researchgate.net/profile/Yikang-Sh...   \n",
       "FAIRSEQ Adaptive Inputs                                   https://arxiv.org/abs/1904.01038   \n",
       "AWD-LSTM + dynamic eval (PTB)                             https://arxiv.org/abs/1709.07432   \n",
       "NMST+GPT-2                               https://web.archive.org/web/20230220171748/htt...   \n",
       "\n",
       "                                           Parameters  Training Compute  \\\n",
       "System                                                                    \n",
       "Sparse Wide GPT-3 Small                  1.300000e+09               NaN   \n",
       "PAR Transformer Large                             NaN               NaN   \n",
       "MemSizer                                 3.570000e+08      7.300000e+18   \n",
       "6-Layer-Tensor-Transformer+AdaHessian    8.530000e+07               NaN   \n",
       "Transformer-XL DeFINE (107M)             1.070000e+08      5.200000e+18   \n",
       "...                                               ...               ...   \n",
       "BLOOM-7.1B                               7.070000e+09               NaN   \n",
       "GRU + p-tHSM (pretrain via Brown) (PTB)  5.200000e+06               NaN   \n",
       "FAIRSEQ Adaptive Inputs                  2.470000e+08      7.300000e+18   \n",
       "AWD-LSTM + dynamic eval (PTB)            2.400000e+07               NaN   \n",
       "NMST+GPT-2                               1.240000e+08      1.200000e+20   \n",
       "\n",
       "                                          Epoch  Epoch (pretrain)  ...  \\\n",
       "System                                                             ...   \n",
       "Sparse Wide GPT-3 Small                  110.00               NaN  ...   \n",
       "PAR Transformer Large                       NaN               NaN  ...   \n",
       "MemSizer                                    NaN               NaN  ...   \n",
       "6-Layer-Tensor-Transformer+AdaHessian     30.00               NaN  ...   \n",
       "Transformer-XL DeFINE (107M)              20.00               NaN  ...   \n",
       "...                                         ...               ...  ...   \n",
       "BLOOM-7.1B                                 1.00               NaN  ...   \n",
       "GRU + p-tHSM (pretrain via Brown) (PTB)     NaN               NaN  ...   \n",
       "FAIRSEQ Adaptive Inputs                     NaN               NaN  ...   \n",
       "AWD-LSTM + dynamic eval (PTB)               NaN               NaN  ...   \n",
       "NMST+GPT-2                                 2.98               NaN  ...   \n",
       "\n",
       "                                         Zero-shot?  Uses Cache  Architecture  \\\n",
       "System                                                                          \n",
       "Sparse Wide GPT-3 Small                         0.0           0   Transformer   \n",
       "PAR Transformer Large                           0.0           0   Transformer   \n",
       "MemSizer                                        0.0           0   Transformer   \n",
       "6-Layer-Tensor-Transformer+AdaHessian           0.0           0   Transformer   \n",
       "Transformer-XL DeFINE (107M)                    0.0           0     Recurrent   \n",
       "...                                             ...         ...           ...   \n",
       "BLOOM-7.1B                                      0.5           0   Transformer   \n",
       "GRU + p-tHSM (pretrain via Brown) (PTB)         0.0           0     Recurrent   \n",
       "FAIRSEQ Adaptive Inputs                         0.0           0   Transformer   \n",
       "AWD-LSTM + dynamic eval (PTB)                   0.0           0     Recurrent   \n",
       "NMST+GPT-2                                      0.0           0   Transformer   \n",
       "\n",
       "                                                     Base Model  \\\n",
       "System                                                            \n",
       "Sparse Wide GPT-3 Small                                     GPT   \n",
       "PAR Transformer Large                            Transformer-XL   \n",
       "MemSizer                                         Transformer-XL   \n",
       "6-Layer-Tensor-Transformer+AdaHessian    Tensorized Transformer   \n",
       "Transformer-XL DeFINE (107M)                               LSTM   \n",
       "...                                                         ...   \n",
       "BLOOM-7.1B                                     Megatron-LM GPT2   \n",
       "GRU + p-tHSM (pretrain via Brown) (PTB)                     GRU   \n",
       "FAIRSEQ Adaptive Inputs                          Transformer-XL   \n",
       "AWD-LSTM + dynamic eval (PTB)                              LSTM   \n",
       "NMST+GPT-2                                                  GPT   \n",
       "\n",
       "                                                                                    GitHub  \\\n",
       "System                                                                                       \n",
       "Sparse Wide GPT-3 Small                     https://github.com/CerebrasResearch/Sparse-IFT   \n",
       "PAR Transformer Large                                                                  NaN   \n",
       "MemSizer                                                                               NaN   \n",
       "6-Layer-Tensor-Transformer+AdaHessian        https://github.com/amirgholami/ADAHESSIAN.git   \n",
       "Transformer-XL DeFINE (107M)                                                           NaN   \n",
       "...                                                                                    ...   \n",
       "BLOOM-7.1B                                                                             NaN   \n",
       "GRU + p-tHSM (pretrain via Brown) (PTB)                                                NaN   \n",
       "FAIRSEQ Adaptive Inputs                        https://github.com/facebookresearch/fairseq   \n",
       "AWD-LSTM + dynamic eval (PTB)              https://github.com/benkrause/dynamic-evaluation   \n",
       "NMST+GPT-2                               https://github.com/nyu-dl/non-monotonic-self-t...   \n",
       "\n",
       "                                         Complete row  \\\n",
       "System                                                  \n",
       "Sparse Wide GPT-3 Small                             1   \n",
       "PAR Transformer Large                               0   \n",
       "MemSizer                                            1   \n",
       "6-Layer-Tensor-Transformer+AdaHessian               1   \n",
       "Transformer-XL DeFINE (107M)                        1   \n",
       "...                                               ...   \n",
       "BLOOM-7.1B                                          1   \n",
       "GRU + p-tHSM (pretrain via Brown) (PTB)             1   \n",
       "FAIRSEQ Adaptive Inputs                             1   \n",
       "AWD-LSTM + dynamic eval (PTB)                       1   \n",
       "NMST+GPT-2                                          1   \n",
       "\n",
       "                                                                  All ML Systems  \\\n",
       "System                                                                             \n",
       "Sparse Wide GPT-3 Small                                  Sparse Wide GPT-3 Small   \n",
       "PAR Transformer Large                                      PAR Transformer Large   \n",
       "MemSizer                                                                MemSizer   \n",
       "6-Layer-Tensor-Transformer+AdaHessian      6-Layer-Tensor-Transformer+AdaHessian   \n",
       "Transformer-XL DeFINE (107M)                        Transformer-XL DeFINE (107M)   \n",
       "...                                                                          ...   \n",
       "BLOOM-7.1B                                                            BLOOM-7.1B   \n",
       "GRU + p-tHSM (pretrain via Brown) (PTB)  GRU + p-tHSM (pretrain via Brown) (PTB)   \n",
       "FAIRSEQ Adaptive Inputs                                  FAIRSEQ Adaptive Inputs   \n",
       "AWD-LSTM + dynamic eval (PTB)                      AWD-LSTM + dynamic eval (PTB)   \n",
       "NMST+GPT-2                                                            NMST+GPT-2   \n",
       "\n",
       "                                                    System (from All ML Systems)  \\\n",
       "System                                                                             \n",
       "Sparse Wide GPT-3 Small                                  Sparse Wide GPT-3 Small   \n",
       "PAR Transformer Large                                      PAR Transformer Large   \n",
       "MemSizer                                                                MemSizer   \n",
       "6-Layer-Tensor-Transformer+AdaHessian      6-Layer-Tensor-Transformer+AdaHessian   \n",
       "Transformer-XL DeFINE (107M)                        Transformer-XL DeFINE (107M)   \n",
       "...                                                                          ...   \n",
       "BLOOM-7.1B                                                            BLOOM-7.1B   \n",
       "GRU + p-tHSM (pretrain via Brown) (PTB)  GRU + p-tHSM (pretrain via Brown) (PTB)   \n",
       "FAIRSEQ Adaptive Inputs                                  FAIRSEQ Adaptive Inputs   \n",
       "AWD-LSTM + dynamic eval (PTB)                      AWD-LSTM + dynamic eval (PTB)   \n",
       "NMST+GPT-2                                                            NMST+GPT-2   \n",
       "\n",
       "                                                  Model accessibility  \\\n",
       "System                                                                  \n",
       "Sparse Wide GPT-3 Small                                    Unreleased   \n",
       "PAR Transformer Large                                      Unreleased   \n",
       "MemSizer                                                   Unreleased   \n",
       "6-Layer-Tensor-Transformer+AdaHessian                      Unreleased   \n",
       "Transformer-XL DeFINE (107M)                               Unreleased   \n",
       "...                                                               ...   \n",
       "BLOOM-7.1B                               Open access (restricted use)   \n",
       "GRU + p-tHSM (pretrain via Brown) (PTB)                    Unreleased   \n",
       "FAIRSEQ Adaptive Inputs                                    Unreleased   \n",
       "AWD-LSTM + dynamic eval (PTB)                              Unreleased   \n",
       "NMST+GPT-2                                                 Unreleased   \n",
       "\n",
       "                                         Training compute (FLOP)  \n",
       "System                                                            \n",
       "Sparse Wide GPT-3 Small                             8.840000e+19  \n",
       "PAR Transformer Large                                        NaN  \n",
       "MemSizer                                            7.300000e+18  \n",
       "6-Layer-Tensor-Transformer+AdaHessian               1.580000e+18  \n",
       "Transformer-XL DeFINE (107M)                                 NaN  \n",
       "...                                                          ...  \n",
       "BLOOM-7.1B                                          1.480000e+22  \n",
       "GRU + p-tHSM (pretrain via Brown) (PTB)                      NaN  \n",
       "FAIRSEQ Adaptive Inputs                             7.300000e+18  \n",
       "AWD-LSTM + dynamic eval (PTB)                                NaN  \n",
       "NMST+GPT-2                                          1.200000e+20  \n",
       "\n",
       "[389 rows x 30 columns]"
      ]
     },
     "execution_count": 17,
     "metadata": {},
     "output_type": "execute_result"
    }
   ],
   "source": [
    "filtered_benchmark_df"
   ]
  },
  {
   "cell_type": "code",
   "execution_count": 20,
   "metadata": {},
   "outputs": [
    {
     "data": {
      "application/vnd.plotly.v1+json": {
       "config": {
        "plotlyServerURL": "https://plot.ly"
       },
       "data": [
        {
         "hovertemplate": "Model accessibility=Unreleased<br>Publication date=%{x}<br>Perplexity (WT103)=%{y}<extra></extra>",
         "legendgroup": "Unreleased",
         "marker": {
          "color": "#636efa",
          "symbol": "circle"
         },
         "mode": "markers",
         "name": "Unreleased",
         "orientation": "v",
         "showlegend": true,
         "textposition": "top center",
         "type": "scatter",
         "x": [
          "2023-03-21",
          "2020-09-09",
          "2022-03-23",
          "2020-06-01",
          "2019-11-27",
          "2021-01-01",
          "2016-12-22",
          "2015-12-16",
          "2018-01-01",
          "2019-12-05",
          "2019-03-11",
          "2018-01-01",
          "2021-02-09",
          "2017-03-23",
          "2022-05-22",
          "2021-04-04",
          "2023-01-02",
          "2021-03-21",
          "2012-12-01",
          "2019-09-24",
          "2021-10-16",
          "2019-01-30",
          "2017-08-23",
          "2022-10-31",
          "2018-03-27",
          "2020-12-25",
          "2015-08-26",
          "2017-12-05",
          "2020-09-17",
          "2020-09-17",
          "2019-06-24",
          "2023-05-23",
          "2021-04-20",
          "2021-01-01",
          "2023-01-24",
          "2016-12-13",
          "2022-07-14",
          "2019-06-04",
          "2016-07-12",
          "2020-02-08",
          "2023-02-21",
          "2021-11-30",
          "2014-12-24",
          "2019-02-06",
          "2020-03-17",
          "2019-07-15",
          "2021-05-15",
          "2019-11-27",
          "2021-09-06",
          "2020-10-14",
          "2019-01-31",
          "2013-08-04",
          "2019-06-24",
          "2018-02-15",
          "2019-09-18",
          "2021-11-04",
          "2018-02-15",
          "2022-11-03",
          "2018-11-12",
          "2016-09-26",
          "2018-05-03",
          "2021-10-17",
          "2019-02-06",
          "2017-08-14",
          "2022-06-06",
          "2019-08-31",
          "2022-03-30",
          "2018-05-22",
          "2019-06-10",
          "2016-09-26",
          "2019-07-22",
          "2022-04-01",
          "2019-04-08",
          "2015-03-03",
          "2020-06-15",
          "2021-10-28",
          "2019-06-10",
          "2021-10-20",
          "2019-11-13",
          "2019-07-14",
          "2019-06-04",
          "2022-10-04",
          "2020-06-15",
          "2015-03-17",
          "2016-12-13",
          "2020-09-29",
          "2016-07-12",
          "2020-07-30",
          "2017-08-22",
          "2020-07-13",
          "2018-08-13",
          "2020-04-04",
          "2021-01-22",
          "2016-11-05",
          "2020-11-16",
          "2017-08-14",
          "2019-04-20",
          "2019-12-02",
          "2013-12-11",
          "2014-01-01",
          "2022-01-24",
          "2019-09-04",
          "2020-05-17",
          "2017-10-31",
          "2023-05-23",
          "2019-07-12",
          "2019-04-17",
          "2017-08-29",
          "2018-05-23",
          "2018-02-09",
          "2021-06-02",
          "2020-02-28",
          "2020-02-21",
          "2019-09-17",
          "2017-09-26",
          "2014-12-22",
          "2020-09-29",
          "2012-12-01",
          "2019-06-10",
          "2013-12-20",
          "2019-01-01",
          "2021-03-24",
          "2021-09-05",
          "2021-03-03",
          "2021-09-01",
          "2023-01-02",
          "2021-05-31",
          "2019-04-08",
          "2014-12-24",
          "2016-12-23",
          "2016-12-23",
          "2018-09-18",
          "2023-01-02",
          "2019-04-18",
          "2016-04-30",
          "2016-11-04",
          "2023-01-02",
          "2019-09-18",
          "2018-06-24",
          "2023-05-23",
          "2017-11-10",
          "2020-03-12",
          "2018-08-13",
          "2020-06-01",
          "2021-11-30",
          "2017-09-21",
          "2021-03-24",
          "2019-04-08",
          "2012-09-01",
          "2021-02-24",
          "2019-10-25",
          "2021-06-28",
          "2019-11-27",
          "2020-12-25",
          "2021-05-03",
          "2021-12-08",
          "2018-05-03",
          "2012-12-04",
          "2018-05-23",
          "2019-10-20",
          "2021-01-05",
          "2021-04-04",
          "2019-07-16",
          "2023-05-23",
          "2019-09-04",
          "2021-01-22",
          "2017-08-07",
          "2019-09-17",
          "2015-05-06",
          "2017-07-19",
          "2019-09-18",
          "2020-05-28",
          "2022-11-03",
          "2021-09-09",
          "2021-11-29",
          "2021-12-08",
          "2017-08-22",
          "2020-12-31",
          "2022-03-21",
          "2020-12-25",
          "2017-08-19",
          "2018-05-03",
          "2019-11-01",
          "2019-04-08",
          "2018-08-14",
          "2017-08-07",
          "2021-04-08",
          "2019-04-20",
          "2019-01-09",
          "2018-08-14",
          "2018-02-15",
          "2020-08-03",
          "2018-09-24",
          "2020-02-28",
          "2020-05-12",
          "2016-11-04",
          "2020-05-21",
          "2021-04-26",
          "2020-03-02",
          "2022-10-28",
          "2019-06-13",
          "2022-10-26",
          "2021-02-24",
          "2021-08-13",
          "2021-06-04",
          "2019-06-24",
          "2019-05-28",
          "2016-11-04",
          "2018-10-15",
          "2021-08-05",
          "2017-08-29",
          "2021-07-22",
          "2018-05-23",
          "2019-06-24",
          "2017-07-19",
          "2014-09-08",
          "2019-10-20",
          "2022-03-07",
          "2020-08-16",
          "2017-09-15",
          "2023-02-20",
          "2021-08-13",
          "2021-01-05",
          "2017-11-10",
          "2016-12-13",
          "2018-06-26",
          "2021-02-22",
          "2022-10-10",
          "2014-01-01",
          "2023-02-02",
          "2022-04-01",
          "2021-06-04",
          "2019-07-02",
          "2012-12-01",
          "2017-09-21",
          "2019-03-11",
          "2016-09-26",
          "2019-07-19",
          "2021-11-29",
          "2022-03-29",
          "2019-07-17",
          "2019-08-31",
          "2020-07-29",
          "2021-01-22",
          "2021-03-21",
          "2021-12-08",
          "2019-11-10",
          "2019-06-24",
          "2018-05-03",
          "2018-05-22",
          "2020-05-06",
          "2020-03-11",
          "2021-03-21",
          "2021-01-01",
          "2018-02-01",
          "2020-11-16",
          "2021-12-16",
          "2016-12-13",
          "2021-10-15",
          "2020-05-06",
          "2019-11-27",
          "2022-03-21",
          "2022-01-24",
          "2017-08-19",
          "2015-07-06",
          "2021-03-24",
          "2017-10-31",
          "2019-10-11",
          "2021-02-22",
          "2021-10-16",
          "2017-07-18",
          "2021-10-16",
          "2018-05-23",
          "2016-12-13",
          "2022-06-13",
          "2022-06-13",
          "2021-06-11",
          "2019-08-31",
          "2012-12-01",
          "2020-12-25",
          "2016-09-26",
          "2014-12-24",
          "2020-10-22",
          "2020-09-29",
          "2018-02-15",
          "2020-02-13",
          "2020-09-29",
          "2020-07-29",
          "2017-09-26",
          "2016-09-26",
          "2019-01-31",
          "2018-11-15",
          "2022-12-01",
          "2019-09-03",
          "2018-03-22",
          "2023-02-02",
          "2019-04-20",
          "2012-06-27",
          "2018-06-05",
          "2022-03-21",
          "2017-08-19",
          "2019-04-01",
          "2017-09-21",
          "2022-10-03"
         ],
         "xaxis": "x",
         "y": [
          20.4,
          18.4,
          20.8,
          19.9,
          25.72,
          20.39,
          null,
          null,
          null,
          44.69,
          null,
          null,
          null,
          null,
          null,
          null,
          9.79,
          null,
          null,
          26.48,
          null,
          null,
          null,
          24.08,
          29.2,
          null,
          null,
          null,
          30.79,
          18.16,
          null,
          null,
          18.1,
          20.88,
          9.5,
          40.8,
          23.99,
          null,
          null,
          23.3,
          18.5,
          22.5,
          null,
          null,
          null,
          31.92,
          29.58,
          24.17,
          32.49,
          22.74,
          null,
          null,
          null,
          null,
          null,
          29.51,
          null,
          null,
          null,
          null,
          null,
          16.8,
          null,
          null,
          24.33,
          null,
          20.97,
          null,
          28,
          null,
          null,
          20.3,
          null,
          null,
          23.26,
          26.72,
          null,
          null,
          17.1,
          32.19,
          17.4,
          null,
          22.77,
          null,
          null,
          null,
          null,
          null,
          null,
          null,
          null,
          null,
          null,
          null,
          null,
          null,
          null,
          null,
          null,
          null,
          18.6,
          null,
          76.67,
          null,
          null,
          null,
          16.4,
          null,
          null,
          null,
          32.5,
          null,
          18.3,
          12.76,
          null,
          null,
          null,
          null,
          31.6,
          null,
          22.13,
          20.8,
          null,
          23.5,
          16.61,
          11.17,
          18.48,
          null,
          null,
          null,
          37.2,
          null,
          9.32,
          null,
          null,
          null,
          8.21,
          null,
          null,
          null,
          null,
          19.8,
          null,
          null,
          21,
          null,
          19.6,
          null,
          null,
          17.3,
          null,
          18.07,
          35.94,
          null,
          21.1,
          8.12,
          null,
          null,
          null,
          null,
          null,
          null,
          31.81,
          null,
          null,
          null,
          null,
          10.81,
          null,
          null,
          32.85,
          9.13,
          null,
          18.66,
          null,
          10.81,
          null,
          18.15,
          25.3,
          null,
          161.55,
          null,
          15.79,
          null,
          null,
          null,
          25.1,
          20.42,
          null,
          null,
          null,
          24.14,
          null,
          null,
          null,
          null,
          null,
          17.66,
          null,
          15.5,
          null,
          18.2,
          18.3,
          26.03,
          null,
          21.2,
          null,
          null,
          29.19,
          34.71,
          null,
          25.81,
          null,
          18.8,
          null,
          null,
          null,
          8.56,
          26.73,
          null,
          19.7,
          13.72,
          null,
          null,
          48.7,
          43.54,
          35.5,
          null,
          null,
          66.11,
          20.7,
          null,
          20.6,
          null,
          null,
          null,
          null,
          null,
          null,
          7.16,
          32.21,
          null,
          null,
          null,
          null,
          21.53,
          17.84,
          18.9,
          null,
          null,
          29.2,
          23.2,
          null,
          19.9,
          33,
          null,
          20.3,
          null,
          20.5,
          null,
          null,
          17,
          18.6,
          null,
          null,
          18.5,
          null,
          null,
          31.5,
          33.93,
          null,
          28.86,
          null,
          null,
          null,
          null,
          32.8,
          null,
          null,
          null,
          null,
          null,
          null,
          null,
          45.19,
          10.21,
          null,
          null,
          null,
          null,
          null,
          null,
          20.05,
          null,
          33,
          null,
          null,
          null,
          31.6,
          22.1,
          null,
          18.7,
          null,
          20.69
         ],
         "yaxis": "y"
        },
        {
         "hovertemplate": "Model accessibility=Open source<br>Publication date=%{x}<br>Perplexity (WT103)=%{y}<extra></extra>",
         "legendgroup": "Open source",
         "marker": {
          "color": "#EF553B",
          "symbol": "circle"
         },
         "mode": "markers",
         "name": "Open source",
         "orientation": "v",
         "showlegend": true,
         "textposition": "top center",
         "type": "scatter",
         "x": [
          "2022-06-21",
          "2021-10-31",
          "2020-03-12",
          "2021-10-17",
          "2020-12-31",
          "2021-03-18",
          "2019-09-25",
          "2018-05-01",
          "2021-06-09",
          "2022-04-15",
          "2021-08-27",
          "2018-05-01",
          "2021-03-18",
          "2019-02-14",
          "2021-03-18",
          "2018-08-30",
          "2021-12-11",
          "2022-06-21",
          "2019-09-03",
          "2018-08-30",
          "2022-12-28",
          "2019-02-14",
          "2022-06-21",
          "2023-04-03",
          "2023-04-03",
          "2019-05-14",
          "2023-04-03",
          "2018-03-04",
          "2022-12-28",
          "2022-06-01",
          "2021-06-28",
          "2019-02-14",
          "2019-09-17",
          "2023-04-03",
          "2021-03-21",
          "2023-04-03",
          "2021-03-18",
          "2021-02-24",
          "2022-06-21",
          "2022-12-28",
          "2018-06-24",
          "2020-03-17",
          "2022-04-14",
          "2020-12-31",
          "2022-06-21",
          "2022-06-21",
          "2021-03-21",
          "2021-12-11",
          "2023-04-03",
          "2023-04-03",
          "2018-08-30",
          "2021-03-21",
          "2020-01-01",
          "2018-08-30",
          "2022-12-28",
          "2019-05-14",
          "2023-04-03"
         ],
         "xaxis": "x",
         "y": [
          null,
          20.95,
          15.8,
          14.8,
          21,
          null,
          17.7,
          null,
          null,
          23.77,
          18.3,
          null,
          11.65,
          26.37,
          12.22,
          null,
          null,
          null,
          23.2,
          null,
          16.9,
          22.05,
          null,
          null,
          null,
          null,
          null,
          null,
          12.5,
          19.2,
          24.9,
          37.5,
          19.31,
          null,
          null,
          null,
          11.33,
          17.1,
          null,
          23.7,
          null,
          17.9,
          null,
          16.8,
          null,
          null,
          null,
          null,
          null,
          null,
          null,
          null,
          35,
          null,
          10.6,
          null,
          null
         ],
         "yaxis": "y"
        },
        {
         "hovertemplate": "Model accessibility=Open access (non-commercial)<br>Publication date=%{x}<br>Perplexity (WT103)=%{y}<extra></extra>",
         "legendgroup": "Open access (non-commercial)",
         "marker": {
          "color": "#00cc96",
          "symbol": "circle"
         },
         "mode": "markers",
         "name": "Open access (non-commercial)",
         "orientation": "v",
         "showlegend": true,
         "textposition": "top center",
         "type": "scatter",
         "x": [
          "2022-05-25",
          "2019-06-10",
          "2023-02-27",
          "2020-04-30",
          "2022-06-21",
          "2023-02-27",
          "2022-06-21",
          "2022-06-21",
          "2022-06-21",
          "2022-10-05",
          "2022-05-25",
          "2022-05-25",
          "2019-08-12",
          "2018-09-18",
          "2022-06-21",
          "2021-01-22",
          "2020-04-30",
          "2022-06-21",
          "2022-06-21",
          "2022-06-21",
          "2023-02-27",
          "2023-02-27"
         ],
         "xaxis": "x",
         "y": [
          42.36,
          null,
          null,
          22.5,
          null,
          null,
          null,
          null,
          null,
          10.76,
          15.37,
          22.66,
          25.42,
          null,
          null,
          null,
          17.1,
          null,
          null,
          null,
          null,
          null
         ],
         "yaxis": "y"
        },
        {
         "hovertemplate": "Model accessibility=Open access (restricted use)<br>Publication date=%{x}<br>Perplexity (WT103)=%{y}<extra></extra>",
         "legendgroup": "Open access (restricted use)",
         "marker": {
          "color": "#ab63fa",
          "symbol": "circle"
         },
         "mode": "markers",
         "name": "Open access (restricted use)",
         "orientation": "v",
         "showlegend": true,
         "textposition": "top center",
         "type": "scatter",
         "x": [
          "2022-07-05",
          "2022-07-05",
          "2022-07-05",
          "2022-07-05",
          "2022-07-05"
         ],
         "xaxis": "x",
         "y": [
          null,
          null,
          null,
          null,
          null
         ],
         "yaxis": "y"
        },
        {
         "hovertemplate": "Model accessibility=API access<br>Publication date=%{x}<br>Perplexity (WT103)=%{y}<extra></extra>",
         "legendgroup": "API access",
         "marker": {
          "color": "#FFA15A",
          "symbol": "circle"
         },
         "mode": "markers",
         "name": "API access",
         "orientation": "v",
         "showlegend": true,
         "textposition": "top center",
         "type": "scatter",
         "x": [
          "2020-05-28"
         ],
         "xaxis": "x",
         "y": [
          null
         ],
         "yaxis": "y"
        }
       ],
       "layout": {
        "legend": {
         "title": {
          "text": "Model accessibility"
         },
         "tracegroupgap": 0
        },
        "margin": {
         "t": 60
        },
        "template": {
         "data": {
          "bar": [
           {
            "error_x": {
             "color": "#2a3f5f"
            },
            "error_y": {
             "color": "#2a3f5f"
            },
            "marker": {
             "line": {
              "color": "#E5ECF6",
              "width": 0.5
             },
             "pattern": {
              "fillmode": "overlay",
              "size": 10,
              "solidity": 0.2
             }
            },
            "type": "bar"
           }
          ],
          "barpolar": [
           {
            "marker": {
             "line": {
              "color": "#E5ECF6",
              "width": 0.5
             },
             "pattern": {
              "fillmode": "overlay",
              "size": 10,
              "solidity": 0.2
             }
            },
            "type": "barpolar"
           }
          ],
          "carpet": [
           {
            "aaxis": {
             "endlinecolor": "#2a3f5f",
             "gridcolor": "white",
             "linecolor": "white",
             "minorgridcolor": "white",
             "startlinecolor": "#2a3f5f"
            },
            "baxis": {
             "endlinecolor": "#2a3f5f",
             "gridcolor": "white",
             "linecolor": "white",
             "minorgridcolor": "white",
             "startlinecolor": "#2a3f5f"
            },
            "type": "carpet"
           }
          ],
          "choropleth": [
           {
            "colorbar": {
             "outlinewidth": 0,
             "ticks": ""
            },
            "type": "choropleth"
           }
          ],
          "contour": [
           {
            "colorbar": {
             "outlinewidth": 0,
             "ticks": ""
            },
            "colorscale": [
             [
              0,
              "#0d0887"
             ],
             [
              0.1111111111111111,
              "#46039f"
             ],
             [
              0.2222222222222222,
              "#7201a8"
             ],
             [
              0.3333333333333333,
              "#9c179e"
             ],
             [
              0.4444444444444444,
              "#bd3786"
             ],
             [
              0.5555555555555556,
              "#d8576b"
             ],
             [
              0.6666666666666666,
              "#ed7953"
             ],
             [
              0.7777777777777778,
              "#fb9f3a"
             ],
             [
              0.8888888888888888,
              "#fdca26"
             ],
             [
              1,
              "#f0f921"
             ]
            ],
            "type": "contour"
           }
          ],
          "contourcarpet": [
           {
            "colorbar": {
             "outlinewidth": 0,
             "ticks": ""
            },
            "type": "contourcarpet"
           }
          ],
          "heatmap": [
           {
            "colorbar": {
             "outlinewidth": 0,
             "ticks": ""
            },
            "colorscale": [
             [
              0,
              "#0d0887"
             ],
             [
              0.1111111111111111,
              "#46039f"
             ],
             [
              0.2222222222222222,
              "#7201a8"
             ],
             [
              0.3333333333333333,
              "#9c179e"
             ],
             [
              0.4444444444444444,
              "#bd3786"
             ],
             [
              0.5555555555555556,
              "#d8576b"
             ],
             [
              0.6666666666666666,
              "#ed7953"
             ],
             [
              0.7777777777777778,
              "#fb9f3a"
             ],
             [
              0.8888888888888888,
              "#fdca26"
             ],
             [
              1,
              "#f0f921"
             ]
            ],
            "type": "heatmap"
           }
          ],
          "heatmapgl": [
           {
            "colorbar": {
             "outlinewidth": 0,
             "ticks": ""
            },
            "colorscale": [
             [
              0,
              "#0d0887"
             ],
             [
              0.1111111111111111,
              "#46039f"
             ],
             [
              0.2222222222222222,
              "#7201a8"
             ],
             [
              0.3333333333333333,
              "#9c179e"
             ],
             [
              0.4444444444444444,
              "#bd3786"
             ],
             [
              0.5555555555555556,
              "#d8576b"
             ],
             [
              0.6666666666666666,
              "#ed7953"
             ],
             [
              0.7777777777777778,
              "#fb9f3a"
             ],
             [
              0.8888888888888888,
              "#fdca26"
             ],
             [
              1,
              "#f0f921"
             ]
            ],
            "type": "heatmapgl"
           }
          ],
          "histogram": [
           {
            "marker": {
             "pattern": {
              "fillmode": "overlay",
              "size": 10,
              "solidity": 0.2
             }
            },
            "type": "histogram"
           }
          ],
          "histogram2d": [
           {
            "colorbar": {
             "outlinewidth": 0,
             "ticks": ""
            },
            "colorscale": [
             [
              0,
              "#0d0887"
             ],
             [
              0.1111111111111111,
              "#46039f"
             ],
             [
              0.2222222222222222,
              "#7201a8"
             ],
             [
              0.3333333333333333,
              "#9c179e"
             ],
             [
              0.4444444444444444,
              "#bd3786"
             ],
             [
              0.5555555555555556,
              "#d8576b"
             ],
             [
              0.6666666666666666,
              "#ed7953"
             ],
             [
              0.7777777777777778,
              "#fb9f3a"
             ],
             [
              0.8888888888888888,
              "#fdca26"
             ],
             [
              1,
              "#f0f921"
             ]
            ],
            "type": "histogram2d"
           }
          ],
          "histogram2dcontour": [
           {
            "colorbar": {
             "outlinewidth": 0,
             "ticks": ""
            },
            "colorscale": [
             [
              0,
              "#0d0887"
             ],
             [
              0.1111111111111111,
              "#46039f"
             ],
             [
              0.2222222222222222,
              "#7201a8"
             ],
             [
              0.3333333333333333,
              "#9c179e"
             ],
             [
              0.4444444444444444,
              "#bd3786"
             ],
             [
              0.5555555555555556,
              "#d8576b"
             ],
             [
              0.6666666666666666,
              "#ed7953"
             ],
             [
              0.7777777777777778,
              "#fb9f3a"
             ],
             [
              0.8888888888888888,
              "#fdca26"
             ],
             [
              1,
              "#f0f921"
             ]
            ],
            "type": "histogram2dcontour"
           }
          ],
          "mesh3d": [
           {
            "colorbar": {
             "outlinewidth": 0,
             "ticks": ""
            },
            "type": "mesh3d"
           }
          ],
          "parcoords": [
           {
            "line": {
             "colorbar": {
              "outlinewidth": 0,
              "ticks": ""
             }
            },
            "type": "parcoords"
           }
          ],
          "pie": [
           {
            "automargin": true,
            "type": "pie"
           }
          ],
          "scatter": [
           {
            "fillpattern": {
             "fillmode": "overlay",
             "size": 10,
             "solidity": 0.2
            },
            "type": "scatter"
           }
          ],
          "scatter3d": [
           {
            "line": {
             "colorbar": {
              "outlinewidth": 0,
              "ticks": ""
             }
            },
            "marker": {
             "colorbar": {
              "outlinewidth": 0,
              "ticks": ""
             }
            },
            "type": "scatter3d"
           }
          ],
          "scattercarpet": [
           {
            "marker": {
             "colorbar": {
              "outlinewidth": 0,
              "ticks": ""
             }
            },
            "type": "scattercarpet"
           }
          ],
          "scattergeo": [
           {
            "marker": {
             "colorbar": {
              "outlinewidth": 0,
              "ticks": ""
             }
            },
            "type": "scattergeo"
           }
          ],
          "scattergl": [
           {
            "marker": {
             "colorbar": {
              "outlinewidth": 0,
              "ticks": ""
             }
            },
            "type": "scattergl"
           }
          ],
          "scattermapbox": [
           {
            "marker": {
             "colorbar": {
              "outlinewidth": 0,
              "ticks": ""
             }
            },
            "type": "scattermapbox"
           }
          ],
          "scatterpolar": [
           {
            "marker": {
             "colorbar": {
              "outlinewidth": 0,
              "ticks": ""
             }
            },
            "type": "scatterpolar"
           }
          ],
          "scatterpolargl": [
           {
            "marker": {
             "colorbar": {
              "outlinewidth": 0,
              "ticks": ""
             }
            },
            "type": "scatterpolargl"
           }
          ],
          "scatterternary": [
           {
            "marker": {
             "colorbar": {
              "outlinewidth": 0,
              "ticks": ""
             }
            },
            "type": "scatterternary"
           }
          ],
          "surface": [
           {
            "colorbar": {
             "outlinewidth": 0,
             "ticks": ""
            },
            "colorscale": [
             [
              0,
              "#0d0887"
             ],
             [
              0.1111111111111111,
              "#46039f"
             ],
             [
              0.2222222222222222,
              "#7201a8"
             ],
             [
              0.3333333333333333,
              "#9c179e"
             ],
             [
              0.4444444444444444,
              "#bd3786"
             ],
             [
              0.5555555555555556,
              "#d8576b"
             ],
             [
              0.6666666666666666,
              "#ed7953"
             ],
             [
              0.7777777777777778,
              "#fb9f3a"
             ],
             [
              0.8888888888888888,
              "#fdca26"
             ],
             [
              1,
              "#f0f921"
             ]
            ],
            "type": "surface"
           }
          ],
          "table": [
           {
            "cells": {
             "fill": {
              "color": "#EBF0F8"
             },
             "line": {
              "color": "white"
             }
            },
            "header": {
             "fill": {
              "color": "#C8D4E3"
             },
             "line": {
              "color": "white"
             }
            },
            "type": "table"
           }
          ]
         },
         "layout": {
          "annotationdefaults": {
           "arrowcolor": "#2a3f5f",
           "arrowhead": 0,
           "arrowwidth": 1
          },
          "autotypenumbers": "strict",
          "coloraxis": {
           "colorbar": {
            "outlinewidth": 0,
            "ticks": ""
           }
          },
          "colorscale": {
           "diverging": [
            [
             0,
             "#8e0152"
            ],
            [
             0.1,
             "#c51b7d"
            ],
            [
             0.2,
             "#de77ae"
            ],
            [
             0.3,
             "#f1b6da"
            ],
            [
             0.4,
             "#fde0ef"
            ],
            [
             0.5,
             "#f7f7f7"
            ],
            [
             0.6,
             "#e6f5d0"
            ],
            [
             0.7,
             "#b8e186"
            ],
            [
             0.8,
             "#7fbc41"
            ],
            [
             0.9,
             "#4d9221"
            ],
            [
             1,
             "#276419"
            ]
           ],
           "sequential": [
            [
             0,
             "#0d0887"
            ],
            [
             0.1111111111111111,
             "#46039f"
            ],
            [
             0.2222222222222222,
             "#7201a8"
            ],
            [
             0.3333333333333333,
             "#9c179e"
            ],
            [
             0.4444444444444444,
             "#bd3786"
            ],
            [
             0.5555555555555556,
             "#d8576b"
            ],
            [
             0.6666666666666666,
             "#ed7953"
            ],
            [
             0.7777777777777778,
             "#fb9f3a"
            ],
            [
             0.8888888888888888,
             "#fdca26"
            ],
            [
             1,
             "#f0f921"
            ]
           ],
           "sequentialminus": [
            [
             0,
             "#0d0887"
            ],
            [
             0.1111111111111111,
             "#46039f"
            ],
            [
             0.2222222222222222,
             "#7201a8"
            ],
            [
             0.3333333333333333,
             "#9c179e"
            ],
            [
             0.4444444444444444,
             "#bd3786"
            ],
            [
             0.5555555555555556,
             "#d8576b"
            ],
            [
             0.6666666666666666,
             "#ed7953"
            ],
            [
             0.7777777777777778,
             "#fb9f3a"
            ],
            [
             0.8888888888888888,
             "#fdca26"
            ],
            [
             1,
             "#f0f921"
            ]
           ]
          },
          "colorway": [
           "#636efa",
           "#EF553B",
           "#00cc96",
           "#ab63fa",
           "#FFA15A",
           "#19d3f3",
           "#FF6692",
           "#B6E880",
           "#FF97FF",
           "#FECB52"
          ],
          "font": {
           "color": "#2a3f5f"
          },
          "geo": {
           "bgcolor": "white",
           "lakecolor": "white",
           "landcolor": "#E5ECF6",
           "showlakes": true,
           "showland": true,
           "subunitcolor": "white"
          },
          "hoverlabel": {
           "align": "left"
          },
          "hovermode": "closest",
          "mapbox": {
           "style": "light"
          },
          "paper_bgcolor": "white",
          "plot_bgcolor": "#E5ECF6",
          "polar": {
           "angularaxis": {
            "gridcolor": "white",
            "linecolor": "white",
            "ticks": ""
           },
           "bgcolor": "#E5ECF6",
           "radialaxis": {
            "gridcolor": "white",
            "linecolor": "white",
            "ticks": ""
           }
          },
          "scene": {
           "xaxis": {
            "backgroundcolor": "#E5ECF6",
            "gridcolor": "white",
            "gridwidth": 2,
            "linecolor": "white",
            "showbackground": true,
            "ticks": "",
            "zerolinecolor": "white"
           },
           "yaxis": {
            "backgroundcolor": "#E5ECF6",
            "gridcolor": "white",
            "gridwidth": 2,
            "linecolor": "white",
            "showbackground": true,
            "ticks": "",
            "zerolinecolor": "white"
           },
           "zaxis": {
            "backgroundcolor": "#E5ECF6",
            "gridcolor": "white",
            "gridwidth": 2,
            "linecolor": "white",
            "showbackground": true,
            "ticks": "",
            "zerolinecolor": "white"
           }
          },
          "shapedefaults": {
           "line": {
            "color": "#2a3f5f"
           }
          },
          "ternary": {
           "aaxis": {
            "gridcolor": "white",
            "linecolor": "white",
            "ticks": ""
           },
           "baxis": {
            "gridcolor": "white",
            "linecolor": "white",
            "ticks": ""
           },
           "bgcolor": "#E5ECF6",
           "caxis": {
            "gridcolor": "white",
            "linecolor": "white",
            "ticks": ""
           }
          },
          "title": {
           "x": 0.05
          },
          "xaxis": {
           "automargin": true,
           "gridcolor": "white",
           "linecolor": "white",
           "ticks": "",
           "title": {
            "standoff": 15
           },
           "zerolinecolor": "white",
           "zerolinewidth": 2
          },
          "yaxis": {
           "automargin": true,
           "gridcolor": "white",
           "linecolor": "white",
           "ticks": "",
           "title": {
            "standoff": 15
           },
           "zerolinecolor": "white",
           "zerolinewidth": 2
          }
         }
        },
        "xaxis": {
         "anchor": "y",
         "domain": [
          0,
          1
         ],
         "title": {
          "text": "Publication date"
         }
        },
        "yaxis": {
         "anchor": "x",
         "domain": [
          0,
          1
         ],
         "title": {
          "text": "Perplexity (WT103)"
         }
        }
       }
      },
      "text/html": [
       "<div>                            <div id=\"4b2207c4-9b3f-4663-9801-31a09b8b01ea\" class=\"plotly-graph-div\" style=\"height:525px; width:100%;\"></div>            <script type=\"text/javascript\">                require([\"plotly\"], function(Plotly) {                    window.PLOTLYENV=window.PLOTLYENV || {};                                    if (document.getElementById(\"4b2207c4-9b3f-4663-9801-31a09b8b01ea\")) {                    Plotly.newPlot(                        \"4b2207c4-9b3f-4663-9801-31a09b8b01ea\",                        [{\"hovertemplate\":\"Model accessibility=Unreleased\\u003cbr\\u003ePublication date=%{x}\\u003cbr\\u003ePerplexity (WT103)=%{y}\\u003cextra\\u003e\\u003c\\u002fextra\\u003e\",\"legendgroup\":\"Unreleased\",\"marker\":{\"color\":\"#636efa\",\"symbol\":\"circle\"},\"mode\":\"markers\",\"name\":\"Unreleased\",\"orientation\":\"v\",\"showlegend\":true,\"x\":[\"2023-03-21\",\"2020-09-09\",\"2022-03-23\",\"2020-06-01\",\"2019-11-27\",\"2021-01-01\",\"2016-12-22\",\"2015-12-16\",\"2018-01-01\",\"2019-12-05\",\"2019-03-11\",\"2018-01-01\",\"2021-02-09\",\"2017-03-23\",\"2022-05-22\",\"2021-04-04\",\"2023-01-02\",\"2021-03-21\",\"2012-12-01\",\"2019-09-24\",\"2021-10-16\",\"2019-01-30\",\"2017-08-23\",\"2022-10-31\",\"2018-03-27\",\"2020-12-25\",\"2015-08-26\",\"2017-12-05\",\"2020-09-17\",\"2020-09-17\",\"2019-06-24\",\"2023-05-23\",\"2021-04-20\",\"2021-01-01\",\"2023-01-24\",\"2016-12-13\",\"2022-07-14\",\"2019-06-04\",\"2016-07-12\",\"2020-02-08\",\"2023-02-21\",\"2021-11-30\",\"2014-12-24\",\"2019-02-06\",\"2020-03-17\",\"2019-07-15\",\"2021-05-15\",\"2019-11-27\",\"2021-09-06\",\"2020-10-14\",\"2019-01-31\",\"2013-08-04\",\"2019-06-24\",\"2018-02-15\",\"2019-09-18\",\"2021-11-04\",\"2018-02-15\",\"2022-11-03\",\"2018-11-12\",\"2016-09-26\",\"2018-05-03\",\"2021-10-17\",\"2019-02-06\",\"2017-08-14\",\"2022-06-06\",\"2019-08-31\",\"2022-03-30\",\"2018-05-22\",\"2019-06-10\",\"2016-09-26\",\"2019-07-22\",\"2022-04-01\",\"2019-04-08\",\"2015-03-03\",\"2020-06-15\",\"2021-10-28\",\"2019-06-10\",\"2021-10-20\",\"2019-11-13\",\"2019-07-14\",\"2019-06-04\",\"2022-10-04\",\"2020-06-15\",\"2015-03-17\",\"2016-12-13\",\"2020-09-29\",\"2016-07-12\",\"2020-07-30\",\"2017-08-22\",\"2020-07-13\",\"2018-08-13\",\"2020-04-04\",\"2021-01-22\",\"2016-11-05\",\"2020-11-16\",\"2017-08-14\",\"2019-04-20\",\"2019-12-02\",\"2013-12-11\",\"2014-01-01\",\"2022-01-24\",\"2019-09-04\",\"2020-05-17\",\"2017-10-31\",\"2023-05-23\",\"2019-07-12\",\"2019-04-17\",\"2017-08-29\",\"2018-05-23\",\"2018-02-09\",\"2021-06-02\",\"2020-02-28\",\"2020-02-21\",\"2019-09-17\",\"2017-09-26\",\"2014-12-22\",\"2020-09-29\",\"2012-12-01\",\"2019-06-10\",\"2013-12-20\",\"2019-01-01\",\"2021-03-24\",\"2021-09-05\",\"2021-03-03\",\"2021-09-01\",\"2023-01-02\",\"2021-05-31\",\"2019-04-08\",\"2014-12-24\",\"2016-12-23\",\"2016-12-23\",\"2018-09-18\",\"2023-01-02\",\"2019-04-18\",\"2016-04-30\",\"2016-11-04\",\"2023-01-02\",\"2019-09-18\",\"2018-06-24\",\"2023-05-23\",\"2017-11-10\",\"2020-03-12\",\"2018-08-13\",\"2020-06-01\",\"2021-11-30\",\"2017-09-21\",\"2021-03-24\",\"2019-04-08\",\"2012-09-01\",\"2021-02-24\",\"2019-10-25\",\"2021-06-28\",\"2019-11-27\",\"2020-12-25\",\"2021-05-03\",\"2021-12-08\",\"2018-05-03\",\"2012-12-04\",\"2018-05-23\",\"2019-10-20\",\"2021-01-05\",\"2021-04-04\",\"2019-07-16\",\"2023-05-23\",\"2019-09-04\",\"2021-01-22\",\"2017-08-07\",\"2019-09-17\",\"2015-05-06\",\"2017-07-19\",\"2019-09-18\",\"2020-05-28\",\"2022-11-03\",\"2021-09-09\",\"2021-11-29\",\"2021-12-08\",\"2017-08-22\",\"2020-12-31\",\"2022-03-21\",\"2020-12-25\",\"2017-08-19\",\"2018-05-03\",\"2019-11-01\",\"2019-04-08\",\"2018-08-14\",\"2017-08-07\",\"2021-04-08\",\"2019-04-20\",\"2019-01-09\",\"2018-08-14\",\"2018-02-15\",\"2020-08-03\",\"2018-09-24\",\"2020-02-28\",\"2020-05-12\",\"2016-11-04\",\"2020-05-21\",\"2021-04-26\",\"2020-03-02\",\"2022-10-28\",\"2019-06-13\",\"2022-10-26\",\"2021-02-24\",\"2021-08-13\",\"2021-06-04\",\"2019-06-24\",\"2019-05-28\",\"2016-11-04\",\"2018-10-15\",\"2021-08-05\",\"2017-08-29\",\"2021-07-22\",\"2018-05-23\",\"2019-06-24\",\"2017-07-19\",\"2014-09-08\",\"2019-10-20\",\"2022-03-07\",\"2020-08-16\",\"2017-09-15\",\"2023-02-20\",\"2021-08-13\",\"2021-01-05\",\"2017-11-10\",\"2016-12-13\",\"2018-06-26\",\"2021-02-22\",\"2022-10-10\",\"2014-01-01\",\"2023-02-02\",\"2022-04-01\",\"2021-06-04\",\"2019-07-02\",\"2012-12-01\",\"2017-09-21\",\"2019-03-11\",\"2016-09-26\",\"2019-07-19\",\"2021-11-29\",\"2022-03-29\",\"2019-07-17\",\"2019-08-31\",\"2020-07-29\",\"2021-01-22\",\"2021-03-21\",\"2021-12-08\",\"2019-11-10\",\"2019-06-24\",\"2018-05-03\",\"2018-05-22\",\"2020-05-06\",\"2020-03-11\",\"2021-03-21\",\"2021-01-01\",\"2018-02-01\",\"2020-11-16\",\"2021-12-16\",\"2016-12-13\",\"2021-10-15\",\"2020-05-06\",\"2019-11-27\",\"2022-03-21\",\"2022-01-24\",\"2017-08-19\",\"2015-07-06\",\"2021-03-24\",\"2017-10-31\",\"2019-10-11\",\"2021-02-22\",\"2021-10-16\",\"2017-07-18\",\"2021-10-16\",\"2018-05-23\",\"2016-12-13\",\"2022-06-13\",\"2022-06-13\",\"2021-06-11\",\"2019-08-31\",\"2012-12-01\",\"2020-12-25\",\"2016-09-26\",\"2014-12-24\",\"2020-10-22\",\"2020-09-29\",\"2018-02-15\",\"2020-02-13\",\"2020-09-29\",\"2020-07-29\",\"2017-09-26\",\"2016-09-26\",\"2019-01-31\",\"2018-11-15\",\"2022-12-01\",\"2019-09-03\",\"2018-03-22\",\"2023-02-02\",\"2019-04-20\",\"2012-06-27\",\"2018-06-05\",\"2022-03-21\",\"2017-08-19\",\"2019-04-01\",\"2017-09-21\",\"2022-10-03\"],\"xaxis\":\"x\",\"y\":[20.4,18.4,20.8,19.9,25.72,20.39,null,null,null,44.69,null,null,null,null,null,null,9.79,null,null,26.48,null,null,null,24.08,29.2,null,null,null,30.79,18.16,null,null,18.1,20.88,9.5,40.8,23.99,null,null,23.3,18.5,22.5,null,null,null,31.92,29.58,24.17,32.49,22.74,null,null,null,null,null,29.51,null,null,null,null,null,16.8,null,null,24.33,null,20.97,null,28.0,null,null,20.3,null,null,23.26,26.72,null,null,17.1,32.19,17.4,null,22.77,null,null,null,null,null,null,null,null,null,null,null,null,null,null,null,null,null,18.6,null,76.67,null,null,null,16.4,null,null,null,32.5,null,18.3,12.76,null,null,null,null,31.6,null,22.13,20.8,null,23.5,16.61,11.17,18.48,null,null,null,37.2,null,9.32,null,null,null,8.21,null,null,null,null,19.8,null,null,21.0,null,19.6,null,null,17.3,null,18.07,35.94,null,21.1,8.12,null,null,null,null,null,null,31.81,null,null,null,null,10.81,null,null,32.85,9.13,null,18.66,null,10.81,null,18.15,25.3,null,161.55,null,15.79,null,null,null,25.1,20.42,null,null,null,24.14,null,null,null,null,null,17.66,null,15.5,null,18.2,18.3,26.03,null,21.2,null,null,29.19,34.71,null,25.81,null,18.8,null,null,null,8.56,26.73,null,19.7,13.72,null,null,48.7,43.54,35.5,null,null,66.11,20.7,null,20.6,null,null,null,null,null,null,7.16,32.21,null,null,null,null,21.53,17.84,18.9,null,null,29.2,23.2,null,19.9,33.0,null,20.3,null,20.5,null,null,17.0,18.6,null,null,18.5,null,null,31.5,33.93,null,28.86,null,null,null,null,32.8,null,null,null,null,null,null,null,45.19,10.21,null,null,null,null,null,null,20.05,null,33.0,null,null,null,31.6,22.1,null,18.7,null,20.69],\"yaxis\":\"y\",\"type\":\"scatter\",\"textposition\":\"top center\"},{\"hovertemplate\":\"Model accessibility=Open source\\u003cbr\\u003ePublication date=%{x}\\u003cbr\\u003ePerplexity (WT103)=%{y}\\u003cextra\\u003e\\u003c\\u002fextra\\u003e\",\"legendgroup\":\"Open source\",\"marker\":{\"color\":\"#EF553B\",\"symbol\":\"circle\"},\"mode\":\"markers\",\"name\":\"Open source\",\"orientation\":\"v\",\"showlegend\":true,\"x\":[\"2022-06-21\",\"2021-10-31\",\"2020-03-12\",\"2021-10-17\",\"2020-12-31\",\"2021-03-18\",\"2019-09-25\",\"2018-05-01\",\"2021-06-09\",\"2022-04-15\",\"2021-08-27\",\"2018-05-01\",\"2021-03-18\",\"2019-02-14\",\"2021-03-18\",\"2018-08-30\",\"2021-12-11\",\"2022-06-21\",\"2019-09-03\",\"2018-08-30\",\"2022-12-28\",\"2019-02-14\",\"2022-06-21\",\"2023-04-03\",\"2023-04-03\",\"2019-05-14\",\"2023-04-03\",\"2018-03-04\",\"2022-12-28\",\"2022-06-01\",\"2021-06-28\",\"2019-02-14\",\"2019-09-17\",\"2023-04-03\",\"2021-03-21\",\"2023-04-03\",\"2021-03-18\",\"2021-02-24\",\"2022-06-21\",\"2022-12-28\",\"2018-06-24\",\"2020-03-17\",\"2022-04-14\",\"2020-12-31\",\"2022-06-21\",\"2022-06-21\",\"2021-03-21\",\"2021-12-11\",\"2023-04-03\",\"2023-04-03\",\"2018-08-30\",\"2021-03-21\",\"2020-01-01\",\"2018-08-30\",\"2022-12-28\",\"2019-05-14\",\"2023-04-03\"],\"xaxis\":\"x\",\"y\":[null,20.95,15.8,14.8,21.0,null,17.7,null,null,23.77,18.3,null,11.65,26.37,12.22,null,null,null,23.2,null,16.9,22.05,null,null,null,null,null,null,12.5,19.2,24.9,37.5,19.31,null,null,null,11.33,17.1,null,23.7,null,17.9,null,16.8,null,null,null,null,null,null,null,null,35.0,null,10.6,null,null],\"yaxis\":\"y\",\"type\":\"scatter\",\"textposition\":\"top center\"},{\"hovertemplate\":\"Model accessibility=Open access (non-commercial)\\u003cbr\\u003ePublication date=%{x}\\u003cbr\\u003ePerplexity (WT103)=%{y}\\u003cextra\\u003e\\u003c\\u002fextra\\u003e\",\"legendgroup\":\"Open access (non-commercial)\",\"marker\":{\"color\":\"#00cc96\",\"symbol\":\"circle\"},\"mode\":\"markers\",\"name\":\"Open access (non-commercial)\",\"orientation\":\"v\",\"showlegend\":true,\"x\":[\"2022-05-25\",\"2019-06-10\",\"2023-02-27\",\"2020-04-30\",\"2022-06-21\",\"2023-02-27\",\"2022-06-21\",\"2022-06-21\",\"2022-06-21\",\"2022-10-05\",\"2022-05-25\",\"2022-05-25\",\"2019-08-12\",\"2018-09-18\",\"2022-06-21\",\"2021-01-22\",\"2020-04-30\",\"2022-06-21\",\"2022-06-21\",\"2022-06-21\",\"2023-02-27\",\"2023-02-27\"],\"xaxis\":\"x\",\"y\":[42.36,null,null,22.5,null,null,null,null,null,10.76,15.37,22.66,25.42,null,null,null,17.1,null,null,null,null,null],\"yaxis\":\"y\",\"type\":\"scatter\",\"textposition\":\"top center\"},{\"hovertemplate\":\"Model accessibility=Open access (restricted use)\\u003cbr\\u003ePublication date=%{x}\\u003cbr\\u003ePerplexity (WT103)=%{y}\\u003cextra\\u003e\\u003c\\u002fextra\\u003e\",\"legendgroup\":\"Open access (restricted use)\",\"marker\":{\"color\":\"#ab63fa\",\"symbol\":\"circle\"},\"mode\":\"markers\",\"name\":\"Open access (restricted use)\",\"orientation\":\"v\",\"showlegend\":true,\"x\":[\"2022-07-05\",\"2022-07-05\",\"2022-07-05\",\"2022-07-05\",\"2022-07-05\"],\"xaxis\":\"x\",\"y\":[null,null,null,null,null],\"yaxis\":\"y\",\"type\":\"scatter\",\"textposition\":\"top center\"},{\"hovertemplate\":\"Model accessibility=API access\\u003cbr\\u003ePublication date=%{x}\\u003cbr\\u003ePerplexity (WT103)=%{y}\\u003cextra\\u003e\\u003c\\u002fextra\\u003e\",\"legendgroup\":\"API access\",\"marker\":{\"color\":\"#FFA15A\",\"symbol\":\"circle\"},\"mode\":\"markers\",\"name\":\"API access\",\"orientation\":\"v\",\"showlegend\":true,\"x\":[\"2020-05-28\"],\"xaxis\":\"x\",\"y\":[null],\"yaxis\":\"y\",\"type\":\"scatter\",\"textposition\":\"top center\"}],                        {\"template\":{\"data\":{\"histogram2dcontour\":[{\"type\":\"histogram2dcontour\",\"colorbar\":{\"outlinewidth\":0,\"ticks\":\"\"},\"colorscale\":[[0.0,\"#0d0887\"],[0.1111111111111111,\"#46039f\"],[0.2222222222222222,\"#7201a8\"],[0.3333333333333333,\"#9c179e\"],[0.4444444444444444,\"#bd3786\"],[0.5555555555555556,\"#d8576b\"],[0.6666666666666666,\"#ed7953\"],[0.7777777777777778,\"#fb9f3a\"],[0.8888888888888888,\"#fdca26\"],[1.0,\"#f0f921\"]]}],\"choropleth\":[{\"type\":\"choropleth\",\"colorbar\":{\"outlinewidth\":0,\"ticks\":\"\"}}],\"histogram2d\":[{\"type\":\"histogram2d\",\"colorbar\":{\"outlinewidth\":0,\"ticks\":\"\"},\"colorscale\":[[0.0,\"#0d0887\"],[0.1111111111111111,\"#46039f\"],[0.2222222222222222,\"#7201a8\"],[0.3333333333333333,\"#9c179e\"],[0.4444444444444444,\"#bd3786\"],[0.5555555555555556,\"#d8576b\"],[0.6666666666666666,\"#ed7953\"],[0.7777777777777778,\"#fb9f3a\"],[0.8888888888888888,\"#fdca26\"],[1.0,\"#f0f921\"]]}],\"heatmap\":[{\"type\":\"heatmap\",\"colorbar\":{\"outlinewidth\":0,\"ticks\":\"\"},\"colorscale\":[[0.0,\"#0d0887\"],[0.1111111111111111,\"#46039f\"],[0.2222222222222222,\"#7201a8\"],[0.3333333333333333,\"#9c179e\"],[0.4444444444444444,\"#bd3786\"],[0.5555555555555556,\"#d8576b\"],[0.6666666666666666,\"#ed7953\"],[0.7777777777777778,\"#fb9f3a\"],[0.8888888888888888,\"#fdca26\"],[1.0,\"#f0f921\"]]}],\"heatmapgl\":[{\"type\":\"heatmapgl\",\"colorbar\":{\"outlinewidth\":0,\"ticks\":\"\"},\"colorscale\":[[0.0,\"#0d0887\"],[0.1111111111111111,\"#46039f\"],[0.2222222222222222,\"#7201a8\"],[0.3333333333333333,\"#9c179e\"],[0.4444444444444444,\"#bd3786\"],[0.5555555555555556,\"#d8576b\"],[0.6666666666666666,\"#ed7953\"],[0.7777777777777778,\"#fb9f3a\"],[0.8888888888888888,\"#fdca26\"],[1.0,\"#f0f921\"]]}],\"contourcarpet\":[{\"type\":\"contourcarpet\",\"colorbar\":{\"outlinewidth\":0,\"ticks\":\"\"}}],\"contour\":[{\"type\":\"contour\",\"colorbar\":{\"outlinewidth\":0,\"ticks\":\"\"},\"colorscale\":[[0.0,\"#0d0887\"],[0.1111111111111111,\"#46039f\"],[0.2222222222222222,\"#7201a8\"],[0.3333333333333333,\"#9c179e\"],[0.4444444444444444,\"#bd3786\"],[0.5555555555555556,\"#d8576b\"],[0.6666666666666666,\"#ed7953\"],[0.7777777777777778,\"#fb9f3a\"],[0.8888888888888888,\"#fdca26\"],[1.0,\"#f0f921\"]]}],\"surface\":[{\"type\":\"surface\",\"colorbar\":{\"outlinewidth\":0,\"ticks\":\"\"},\"colorscale\":[[0.0,\"#0d0887\"],[0.1111111111111111,\"#46039f\"],[0.2222222222222222,\"#7201a8\"],[0.3333333333333333,\"#9c179e\"],[0.4444444444444444,\"#bd3786\"],[0.5555555555555556,\"#d8576b\"],[0.6666666666666666,\"#ed7953\"],[0.7777777777777778,\"#fb9f3a\"],[0.8888888888888888,\"#fdca26\"],[1.0,\"#f0f921\"]]}],\"mesh3d\":[{\"type\":\"mesh3d\",\"colorbar\":{\"outlinewidth\":0,\"ticks\":\"\"}}],\"scatter\":[{\"fillpattern\":{\"fillmode\":\"overlay\",\"size\":10,\"solidity\":0.2},\"type\":\"scatter\"}],\"parcoords\":[{\"type\":\"parcoords\",\"line\":{\"colorbar\":{\"outlinewidth\":0,\"ticks\":\"\"}}}],\"scatterpolargl\":[{\"type\":\"scatterpolargl\",\"marker\":{\"colorbar\":{\"outlinewidth\":0,\"ticks\":\"\"}}}],\"bar\":[{\"error_x\":{\"color\":\"#2a3f5f\"},\"error_y\":{\"color\":\"#2a3f5f\"},\"marker\":{\"line\":{\"color\":\"#E5ECF6\",\"width\":0.5},\"pattern\":{\"fillmode\":\"overlay\",\"size\":10,\"solidity\":0.2}},\"type\":\"bar\"}],\"scattergeo\":[{\"type\":\"scattergeo\",\"marker\":{\"colorbar\":{\"outlinewidth\":0,\"ticks\":\"\"}}}],\"scatterpolar\":[{\"type\":\"scatterpolar\",\"marker\":{\"colorbar\":{\"outlinewidth\":0,\"ticks\":\"\"}}}],\"histogram\":[{\"marker\":{\"pattern\":{\"fillmode\":\"overlay\",\"size\":10,\"solidity\":0.2}},\"type\":\"histogram\"}],\"scattergl\":[{\"type\":\"scattergl\",\"marker\":{\"colorbar\":{\"outlinewidth\":0,\"ticks\":\"\"}}}],\"scatter3d\":[{\"type\":\"scatter3d\",\"line\":{\"colorbar\":{\"outlinewidth\":0,\"ticks\":\"\"}},\"marker\":{\"colorbar\":{\"outlinewidth\":0,\"ticks\":\"\"}}}],\"scattermapbox\":[{\"type\":\"scattermapbox\",\"marker\":{\"colorbar\":{\"outlinewidth\":0,\"ticks\":\"\"}}}],\"scatterternary\":[{\"type\":\"scatterternary\",\"marker\":{\"colorbar\":{\"outlinewidth\":0,\"ticks\":\"\"}}}],\"scattercarpet\":[{\"type\":\"scattercarpet\",\"marker\":{\"colorbar\":{\"outlinewidth\":0,\"ticks\":\"\"}}}],\"carpet\":[{\"aaxis\":{\"endlinecolor\":\"#2a3f5f\",\"gridcolor\":\"white\",\"linecolor\":\"white\",\"minorgridcolor\":\"white\",\"startlinecolor\":\"#2a3f5f\"},\"baxis\":{\"endlinecolor\":\"#2a3f5f\",\"gridcolor\":\"white\",\"linecolor\":\"white\",\"minorgridcolor\":\"white\",\"startlinecolor\":\"#2a3f5f\"},\"type\":\"carpet\"}],\"table\":[{\"cells\":{\"fill\":{\"color\":\"#EBF0F8\"},\"line\":{\"color\":\"white\"}},\"header\":{\"fill\":{\"color\":\"#C8D4E3\"},\"line\":{\"color\":\"white\"}},\"type\":\"table\"}],\"barpolar\":[{\"marker\":{\"line\":{\"color\":\"#E5ECF6\",\"width\":0.5},\"pattern\":{\"fillmode\":\"overlay\",\"size\":10,\"solidity\":0.2}},\"type\":\"barpolar\"}],\"pie\":[{\"automargin\":true,\"type\":\"pie\"}]},\"layout\":{\"autotypenumbers\":\"strict\",\"colorway\":[\"#636efa\",\"#EF553B\",\"#00cc96\",\"#ab63fa\",\"#FFA15A\",\"#19d3f3\",\"#FF6692\",\"#B6E880\",\"#FF97FF\",\"#FECB52\"],\"font\":{\"color\":\"#2a3f5f\"},\"hovermode\":\"closest\",\"hoverlabel\":{\"align\":\"left\"},\"paper_bgcolor\":\"white\",\"plot_bgcolor\":\"#E5ECF6\",\"polar\":{\"bgcolor\":\"#E5ECF6\",\"angularaxis\":{\"gridcolor\":\"white\",\"linecolor\":\"white\",\"ticks\":\"\"},\"radialaxis\":{\"gridcolor\":\"white\",\"linecolor\":\"white\",\"ticks\":\"\"}},\"ternary\":{\"bgcolor\":\"#E5ECF6\",\"aaxis\":{\"gridcolor\":\"white\",\"linecolor\":\"white\",\"ticks\":\"\"},\"baxis\":{\"gridcolor\":\"white\",\"linecolor\":\"white\",\"ticks\":\"\"},\"caxis\":{\"gridcolor\":\"white\",\"linecolor\":\"white\",\"ticks\":\"\"}},\"coloraxis\":{\"colorbar\":{\"outlinewidth\":0,\"ticks\":\"\"}},\"colorscale\":{\"sequential\":[[0.0,\"#0d0887\"],[0.1111111111111111,\"#46039f\"],[0.2222222222222222,\"#7201a8\"],[0.3333333333333333,\"#9c179e\"],[0.4444444444444444,\"#bd3786\"],[0.5555555555555556,\"#d8576b\"],[0.6666666666666666,\"#ed7953\"],[0.7777777777777778,\"#fb9f3a\"],[0.8888888888888888,\"#fdca26\"],[1.0,\"#f0f921\"]],\"sequentialminus\":[[0.0,\"#0d0887\"],[0.1111111111111111,\"#46039f\"],[0.2222222222222222,\"#7201a8\"],[0.3333333333333333,\"#9c179e\"],[0.4444444444444444,\"#bd3786\"],[0.5555555555555556,\"#d8576b\"],[0.6666666666666666,\"#ed7953\"],[0.7777777777777778,\"#fb9f3a\"],[0.8888888888888888,\"#fdca26\"],[1.0,\"#f0f921\"]],\"diverging\":[[0,\"#8e0152\"],[0.1,\"#c51b7d\"],[0.2,\"#de77ae\"],[0.3,\"#f1b6da\"],[0.4,\"#fde0ef\"],[0.5,\"#f7f7f7\"],[0.6,\"#e6f5d0\"],[0.7,\"#b8e186\"],[0.8,\"#7fbc41\"],[0.9,\"#4d9221\"],[1,\"#276419\"]]},\"xaxis\":{\"gridcolor\":\"white\",\"linecolor\":\"white\",\"ticks\":\"\",\"title\":{\"standoff\":15},\"zerolinecolor\":\"white\",\"automargin\":true,\"zerolinewidth\":2},\"yaxis\":{\"gridcolor\":\"white\",\"linecolor\":\"white\",\"ticks\":\"\",\"title\":{\"standoff\":15},\"zerolinecolor\":\"white\",\"automargin\":true,\"zerolinewidth\":2},\"scene\":{\"xaxis\":{\"backgroundcolor\":\"#E5ECF6\",\"gridcolor\":\"white\",\"linecolor\":\"white\",\"showbackground\":true,\"ticks\":\"\",\"zerolinecolor\":\"white\",\"gridwidth\":2},\"yaxis\":{\"backgroundcolor\":\"#E5ECF6\",\"gridcolor\":\"white\",\"linecolor\":\"white\",\"showbackground\":true,\"ticks\":\"\",\"zerolinecolor\":\"white\",\"gridwidth\":2},\"zaxis\":{\"backgroundcolor\":\"#E5ECF6\",\"gridcolor\":\"white\",\"linecolor\":\"white\",\"showbackground\":true,\"ticks\":\"\",\"zerolinecolor\":\"white\",\"gridwidth\":2}},\"shapedefaults\":{\"line\":{\"color\":\"#2a3f5f\"}},\"annotationdefaults\":{\"arrowcolor\":\"#2a3f5f\",\"arrowhead\":0,\"arrowwidth\":1},\"geo\":{\"bgcolor\":\"white\",\"landcolor\":\"#E5ECF6\",\"subunitcolor\":\"white\",\"showland\":true,\"showlakes\":true,\"lakecolor\":\"white\"},\"title\":{\"x\":0.05},\"mapbox\":{\"style\":\"light\"}}},\"xaxis\":{\"anchor\":\"y\",\"domain\":[0.0,1.0],\"title\":{\"text\":\"Publication date\"}},\"yaxis\":{\"anchor\":\"x\",\"domain\":[0.0,1.0],\"title\":{\"text\":\"Perplexity (WT103)\"}},\"legend\":{\"title\":{\"text\":\"Model accessibility\"},\"tracegroupgap\":0},\"margin\":{\"t\":60}},                        {\"responsive\": true}                    ).then(function(){\n",
       "                            \n",
       "var gd = document.getElementById('4b2207c4-9b3f-4663-9801-31a09b8b01ea');\n",
       "var x = new MutationObserver(function (mutations, observer) {{\n",
       "        var display = window.getComputedStyle(gd).display;\n",
       "        if (!display || display === 'none') {{\n",
       "            console.log([gd, 'removed!']);\n",
       "            Plotly.purge(gd);\n",
       "            observer.disconnect();\n",
       "        }}\n",
       "}});\n",
       "\n",
       "// Listen for the removal of the full notebook cells\n",
       "var notebookContainer = gd.closest('#notebook-container');\n",
       "if (notebookContainer) {{\n",
       "    x.observe(notebookContainer, {childList: true});\n",
       "}}\n",
       "\n",
       "// Listen for the clearing of the current output cell\n",
       "var outputEl = gd.closest('.output');\n",
       "if (outputEl) {{\n",
       "    x.observe(outputEl, {childList: true});\n",
       "}}\n",
       "\n",
       "                        })                };                });            </script>        </div>"
      ]
     },
     "metadata": {},
     "output_type": "display_data"
    }
   ],
   "source": [
    "# Plot wikitext perplexity of systems with model accessibility\n",
    "fig = px.scatter(\n",
    "    filtered_benchmark_df,\n",
    "    x='Publication date',\n",
    "    y='Perplexity (WT103)',\n",
    "    color='Model accessibility',\n",
    "    # text=filtered_benchmark_df.index\n",
    ")\n",
    "\n",
    "# Move text to top\n",
    "fig.update_traces(textposition='top center')\n",
    "save_plot(fig, results_dir, 'WT103_vs_model_accessibility')\n",
    "\n",
    "fig.show()"
   ]
  },
  {
   "cell_type": "code",
   "execution_count": 21,
   "metadata": {},
   "outputs": [
    {
     "data": {
      "application/vnd.plotly.v1+json": {
       "config": {
        "plotlyServerURL": "https://plot.ly"
       },
       "data": [
        {
         "hovertemplate": "Model accessibility=Unreleased<br>Training compute (FLOP)=%{x}<br>Perplexity (WT103)=%{y}<extra></extra>",
         "legendgroup": "Unreleased",
         "marker": {
          "color": "#636efa",
          "symbol": "circle"
         },
         "mode": "markers",
         "name": "Unreleased",
         "orientation": "v",
         "showlegend": true,
         "textposition": "middle left",
         "type": "scatter",
         "x": [
          88400000000000000000,
          null,
          7300000000000000000,
          1580000000000000000,
          null,
          null,
          3040000000000000,
          5620000000000000,
          21900000000000000,
          2320000000000000000,
          null,
          null,
          null,
          null,
          null,
          null,
          null,
          null,
          null,
          null,
          19200000000000000,
          null,
          null,
          414000000000000000,
          24000000000000000000,
          null,
          2650000000000000,
          1340000000000000,
          null,
          null,
          null,
          null,
          3360000000000000000,
          null,
          null,
          null,
          null,
          null,
          null,
          27800000000000000000,
          null,
          null,
          null,
          null,
          null,
          null,
          null,
          6200000000000000000,
          3100000000000000000,
          12000000000000000000,
          null,
          4210000000000000,
          null,
          null,
          null,
          31700000000000000,
          null,
          null,
          1920000000000000,
          null,
          null,
          null,
          33100000000000000,
          null,
          11000000000000000000,
          null,
          161000000000000000000,
          null,
          null,
          16800000000000000,
          null,
          435999999999999930000,
          null,
          null,
          null,
          null,
          null,
          null,
          160000000000000000000,
          null,
          7300000000000000000,
          null,
          null,
          73000000000000000,
          null,
          null,
          3570000000000000,
          null,
          null,
          null,
          null,
          282000000000000,
          null,
          10500000000000000,
          null,
          10600000000000000,
          521000000000000000000,
          213000000000000,
          null,
          44000000000000000,
          null,
          null,
          null,
          98500000000000000,
          null,
          8400000000000000,
          null,
          null,
          null,
          20099999999999996,
          1.6e+21,
          null,
          44100000000000000000,
          null,
          null,
          null,
          null,
          null,
          null,
          null,
          null,
          61000000000000000000,
          3150000000000000,
          7140000000000000000,
          1.2e+22,
          null,
          null,
          null,
          null,
          null,
          null,
          null,
          null,
          null,
          null,
          21300000000000000,
          1.58e+23,
          null,
          11000000000000000,
          null,
          437000000000000000,
          null,
          null,
          null,
          834000000000000000000,
          null,
          null,
          null,
          null,
          null,
          null,
          82000000000000000000,
          null,
          562000000000000000,
          10400000000000000000,
          null,
          127000000000000000,
          null,
          null,
          null,
          null,
          null,
          null,
          null,
          null,
          null,
          309000000000000000,
          9.1e+21,
          null,
          12800000000000000,
          null,
          1.2e+22,
          109000000000000000,
          7360000000000000000,
          null,
          6.31e+23,
          null,
          3040000000000000000,
          6060000000000000000,
          562000000000000000,
          null,
          null,
          7300000000000000000,
          null,
          null,
          null,
          21000000000000000,
          null,
          null,
          null,
          null,
          24000000000000000000,
          1020000000000000,
          null,
          138999999999999980,
          null,
          14600000000000000,
          null,
          26800000000000000,
          null,
          null,
          null,
          null,
          null,
          227000000000000,
          4760000000000000000,
          null,
          null,
          2780000000000000000,
          430000000000000000,
          474000000000000000,
          null,
          null,
          null,
          null,
          91000000000000000,
          24000000000000000,
          1.28e+22,
          116999999999999980000,
          3400000000000000,
          null,
          600000000000000000000,
          null,
          null,
          null,
          null,
          null,
          null,
          null,
          null,
          null,
          null,
          46000000000000000000,
          null,
          null,
          null,
          null,
          null,
          null,
          5.76e+23,
          null,
          null,
          null,
          null,
          null,
          1.68e+22,
          158000000000000000000,
          null,
          127000000000000000,
          75900000000000000,
          2890000000000000000,
          459999999999999940,
          null,
          5300000000000000000,
          360000000000000000,
          739000000000000000,
          345000000000000000000,
          null,
          124000000000000000000,
          null,
          null,
          26500000000000000000,
          3.2e+21,
          null,
          3340000000000000,
          null,
          null,
          null,
          3890000000000000000,
          null,
          null,
          6670000000000000000,
          null,
          null,
          null,
          2310000000000000000,
          1100000000000000000,
          null,
          null,
          null,
          null,
          null,
          null,
          null,
          null,
          1.57e+22,
          null,
          null,
          3310000000000000,
          7490000000000000,
          null,
          2009999999999999.5,
          8039999999999998000,
          null,
          240000000000000000,
          null,
          null,
          501999999999999.94,
          null,
          null,
          null,
          7300000000000000000,
          null,
          120000000000000000000
         ],
         "xaxis": "x",
         "y": [
          20.4,
          18.4,
          20.8,
          19.9,
          25.72,
          20.39,
          null,
          null,
          null,
          44.69,
          null,
          null,
          null,
          null,
          null,
          null,
          9.79,
          null,
          null,
          26.48,
          null,
          null,
          null,
          24.08,
          29.2,
          null,
          null,
          null,
          30.79,
          18.16,
          null,
          null,
          18.1,
          20.88,
          9.5,
          40.8,
          23.99,
          null,
          null,
          23.3,
          18.5,
          22.5,
          null,
          null,
          null,
          31.92,
          29.58,
          24.17,
          32.49,
          22.74,
          null,
          null,
          null,
          null,
          null,
          29.51,
          null,
          null,
          null,
          null,
          null,
          16.8,
          null,
          null,
          24.33,
          null,
          20.97,
          null,
          28,
          null,
          null,
          20.3,
          null,
          null,
          23.26,
          26.72,
          null,
          null,
          17.1,
          32.19,
          17.4,
          null,
          22.77,
          null,
          null,
          null,
          null,
          null,
          null,
          null,
          null,
          null,
          null,
          null,
          null,
          null,
          null,
          null,
          null,
          null,
          18.6,
          null,
          76.67,
          null,
          null,
          null,
          16.4,
          null,
          null,
          null,
          32.5,
          null,
          18.3,
          12.76,
          null,
          null,
          null,
          null,
          31.6,
          null,
          22.13,
          20.8,
          null,
          23.5,
          16.61,
          11.17,
          18.48,
          null,
          null,
          null,
          37.2,
          null,
          9.32,
          null,
          null,
          null,
          8.21,
          null,
          null,
          null,
          null,
          19.8,
          null,
          null,
          21,
          null,
          19.6,
          null,
          null,
          17.3,
          null,
          18.07,
          35.94,
          null,
          21.1,
          8.12,
          null,
          null,
          null,
          null,
          null,
          null,
          31.81,
          null,
          null,
          null,
          null,
          10.81,
          null,
          null,
          32.85,
          9.13,
          null,
          18.66,
          null,
          10.81,
          null,
          18.15,
          25.3,
          null,
          161.55,
          null,
          15.79,
          null,
          null,
          null,
          25.1,
          20.42,
          null,
          null,
          null,
          24.14,
          null,
          null,
          null,
          null,
          null,
          17.66,
          null,
          15.5,
          null,
          18.2,
          18.3,
          26.03,
          null,
          21.2,
          null,
          null,
          29.19,
          34.71,
          null,
          25.81,
          null,
          18.8,
          null,
          null,
          null,
          8.56,
          26.73,
          null,
          19.7,
          13.72,
          null,
          null,
          48.7,
          43.54,
          35.5,
          null,
          null,
          66.11,
          20.7,
          null,
          20.6,
          null,
          null,
          null,
          null,
          null,
          null,
          7.16,
          32.21,
          null,
          null,
          null,
          null,
          21.53,
          17.84,
          18.9,
          null,
          null,
          29.2,
          23.2,
          null,
          19.9,
          33,
          null,
          20.3,
          null,
          20.5,
          null,
          null,
          17,
          18.6,
          null,
          null,
          18.5,
          null,
          null,
          31.5,
          33.93,
          null,
          28.86,
          null,
          null,
          null,
          null,
          32.8,
          null,
          null,
          null,
          null,
          null,
          null,
          null,
          45.19,
          10.21,
          null,
          null,
          null,
          null,
          null,
          null,
          20.05,
          null,
          33,
          null,
          null,
          null,
          31.6,
          22.1,
          null,
          18.7,
          null,
          20.69
         ],
         "yaxis": "y"
        },
        {
         "hovertemplate": "Model accessibility=Open source<br>Training compute (FLOP)=%{x}<br>Perplexity (WT103)=%{y}<extra></extra>",
         "legendgroup": "Open source",
         "marker": {
          "color": "#EF553B",
          "symbol": "circle"
         },
         "mode": "markers",
         "name": "Open source",
         "orientation": "v",
         "showlegend": true,
         "textposition": "middle left",
         "type": "scatter",
         "x": [
          null,
          600000000000000000000,
          null,
          7300000000000000000,
          null,
          3.79e+22,
          null,
          null,
          1.5e+22,
          null,
          810000000000000000000,
          null,
          null,
          null,
          null,
          null,
          null,
          null,
          816000000000000000,
          693000000000000000,
          null,
          null,
          null,
          5.038000000001e+21,
          1.2420000000001e+22,
          null,
          1.799000000001e+21,
          null,
          null,
          28000000000000000000,
          29000000000000000000,
          null,
          335000000000000000000,
          287900000001000050000,
          7.9e+21,
          126000000001000000000,
          null,
          11000000000000000000,
          null,
          null,
          null,
          1580000000000000000,
          9.31627008e+22,
          29100000000000000000,
          null,
          null,
          null,
          null,
          737700000001000000000,
          2.1590000000001e+22,
          null,
          null,
          null,
          null,
          849000000000000000000,
          424000000000000000,
          2.5190000000001e+21
         ],
         "xaxis": "x",
         "y": [
          null,
          20.95,
          15.8,
          14.8,
          21,
          null,
          17.7,
          null,
          null,
          23.77,
          18.3,
          null,
          11.65,
          26.37,
          12.22,
          null,
          null,
          null,
          23.2,
          null,
          16.9,
          22.05,
          null,
          null,
          null,
          null,
          null,
          null,
          12.5,
          19.2,
          24.9,
          37.5,
          19.31,
          null,
          null,
          null,
          11.33,
          17.1,
          null,
          23.7,
          null,
          17.9,
          null,
          16.8,
          null,
          null,
          null,
          null,
          null,
          null,
          null,
          null,
          35,
          null,
          10.6,
          null,
          null
         ],
         "yaxis": "y"
        },
        {
         "hovertemplate": "Model accessibility=Open access (non-commercial)<br>Training compute (FLOP)=%{x}<br>Perplexity (WT103)=%{y}<extra></extra>",
         "legendgroup": "Open access (non-commercial)",
         "marker": {
          "color": "#00cc96",
          "symbol": "circle"
         },
         "mode": "markers",
         "name": "Open access (non-commercial)",
         "orientation": "v",
         "showlegend": true,
         "textposition": "middle left",
         "type": "scatter",
         "x": [
          null,
          328000000000000000,
          2.7300000000000996e+23,
          null,
          2.340000000001e+22,
          5.5e+23,
          null,
          1.2060000000001e+22,
          5.4000000000001e+22,
          3.778e+23,
          31200000000000000000,
          null,
          null,
          null,
          null,
          14000000000000000,
          26500000000000000000,
          4.3e+23,
          null,
          1.100000000001e+23,
          4.55e+22,
          4.02e+22
         ],
         "xaxis": "x",
         "y": [
          42.36,
          null,
          null,
          22.5,
          null,
          null,
          null,
          null,
          null,
          10.76,
          15.37,
          22.66,
          25.42,
          null,
          null,
          null,
          17.1,
          null,
          null,
          null,
          null,
          null
         ],
         "yaxis": "y"
        },
        {
         "hovertemplate": "Model accessibility=Open access (restricted use)<br>Training compute (FLOP)=%{x}<br>Perplexity (WT103)=%{y}<extra></extra>",
         "legendgroup": "Open access (restricted use)",
         "marker": {
          "color": "#ab63fa",
          "symbol": "circle"
         },
         "mode": "markers",
         "name": "Open access (restricted use)",
         "orientation": "v",
         "showlegend": true,
         "textposition": "middle left",
         "type": "scatter",
         "x": [
          null,
          null,
          null,
          null,
          1.48e+22
         ],
         "xaxis": "x",
         "y": [
          null,
          null,
          null,
          null,
          null
         ],
         "yaxis": "y"
        },
        {
         "hovertemplate": "Model accessibility=API access<br>Training compute (FLOP)=%{x}<br>Perplexity (WT103)=%{y}<extra></extra>",
         "legendgroup": "API access",
         "marker": {
          "color": "#FFA15A",
          "symbol": "circle"
         },
         "mode": "markers",
         "name": "API access",
         "orientation": "v",
         "showlegend": true,
         "textposition": "middle left",
         "type": "scatter",
         "x": [
          3.14e+23
         ],
         "xaxis": "x",
         "y": [
          null
         ],
         "yaxis": "y"
        }
       ],
       "layout": {
        "legend": {
         "title": {
          "text": "Model accessibility"
         },
         "tracegroupgap": 0
        },
        "margin": {
         "t": 60
        },
        "template": {
         "data": {
          "bar": [
           {
            "error_x": {
             "color": "#2a3f5f"
            },
            "error_y": {
             "color": "#2a3f5f"
            },
            "marker": {
             "line": {
              "color": "#E5ECF6",
              "width": 0.5
             },
             "pattern": {
              "fillmode": "overlay",
              "size": 10,
              "solidity": 0.2
             }
            },
            "type": "bar"
           }
          ],
          "barpolar": [
           {
            "marker": {
             "line": {
              "color": "#E5ECF6",
              "width": 0.5
             },
             "pattern": {
              "fillmode": "overlay",
              "size": 10,
              "solidity": 0.2
             }
            },
            "type": "barpolar"
           }
          ],
          "carpet": [
           {
            "aaxis": {
             "endlinecolor": "#2a3f5f",
             "gridcolor": "white",
             "linecolor": "white",
             "minorgridcolor": "white",
             "startlinecolor": "#2a3f5f"
            },
            "baxis": {
             "endlinecolor": "#2a3f5f",
             "gridcolor": "white",
             "linecolor": "white",
             "minorgridcolor": "white",
             "startlinecolor": "#2a3f5f"
            },
            "type": "carpet"
           }
          ],
          "choropleth": [
           {
            "colorbar": {
             "outlinewidth": 0,
             "ticks": ""
            },
            "type": "choropleth"
           }
          ],
          "contour": [
           {
            "colorbar": {
             "outlinewidth": 0,
             "ticks": ""
            },
            "colorscale": [
             [
              0,
              "#0d0887"
             ],
             [
              0.1111111111111111,
              "#46039f"
             ],
             [
              0.2222222222222222,
              "#7201a8"
             ],
             [
              0.3333333333333333,
              "#9c179e"
             ],
             [
              0.4444444444444444,
              "#bd3786"
             ],
             [
              0.5555555555555556,
              "#d8576b"
             ],
             [
              0.6666666666666666,
              "#ed7953"
             ],
             [
              0.7777777777777778,
              "#fb9f3a"
             ],
             [
              0.8888888888888888,
              "#fdca26"
             ],
             [
              1,
              "#f0f921"
             ]
            ],
            "type": "contour"
           }
          ],
          "contourcarpet": [
           {
            "colorbar": {
             "outlinewidth": 0,
             "ticks": ""
            },
            "type": "contourcarpet"
           }
          ],
          "heatmap": [
           {
            "colorbar": {
             "outlinewidth": 0,
             "ticks": ""
            },
            "colorscale": [
             [
              0,
              "#0d0887"
             ],
             [
              0.1111111111111111,
              "#46039f"
             ],
             [
              0.2222222222222222,
              "#7201a8"
             ],
             [
              0.3333333333333333,
              "#9c179e"
             ],
             [
              0.4444444444444444,
              "#bd3786"
             ],
             [
              0.5555555555555556,
              "#d8576b"
             ],
             [
              0.6666666666666666,
              "#ed7953"
             ],
             [
              0.7777777777777778,
              "#fb9f3a"
             ],
             [
              0.8888888888888888,
              "#fdca26"
             ],
             [
              1,
              "#f0f921"
             ]
            ],
            "type": "heatmap"
           }
          ],
          "heatmapgl": [
           {
            "colorbar": {
             "outlinewidth": 0,
             "ticks": ""
            },
            "colorscale": [
             [
              0,
              "#0d0887"
             ],
             [
              0.1111111111111111,
              "#46039f"
             ],
             [
              0.2222222222222222,
              "#7201a8"
             ],
             [
              0.3333333333333333,
              "#9c179e"
             ],
             [
              0.4444444444444444,
              "#bd3786"
             ],
             [
              0.5555555555555556,
              "#d8576b"
             ],
             [
              0.6666666666666666,
              "#ed7953"
             ],
             [
              0.7777777777777778,
              "#fb9f3a"
             ],
             [
              0.8888888888888888,
              "#fdca26"
             ],
             [
              1,
              "#f0f921"
             ]
            ],
            "type": "heatmapgl"
           }
          ],
          "histogram": [
           {
            "marker": {
             "pattern": {
              "fillmode": "overlay",
              "size": 10,
              "solidity": 0.2
             }
            },
            "type": "histogram"
           }
          ],
          "histogram2d": [
           {
            "colorbar": {
             "outlinewidth": 0,
             "ticks": ""
            },
            "colorscale": [
             [
              0,
              "#0d0887"
             ],
             [
              0.1111111111111111,
              "#46039f"
             ],
             [
              0.2222222222222222,
              "#7201a8"
             ],
             [
              0.3333333333333333,
              "#9c179e"
             ],
             [
              0.4444444444444444,
              "#bd3786"
             ],
             [
              0.5555555555555556,
              "#d8576b"
             ],
             [
              0.6666666666666666,
              "#ed7953"
             ],
             [
              0.7777777777777778,
              "#fb9f3a"
             ],
             [
              0.8888888888888888,
              "#fdca26"
             ],
             [
              1,
              "#f0f921"
             ]
            ],
            "type": "histogram2d"
           }
          ],
          "histogram2dcontour": [
           {
            "colorbar": {
             "outlinewidth": 0,
             "ticks": ""
            },
            "colorscale": [
             [
              0,
              "#0d0887"
             ],
             [
              0.1111111111111111,
              "#46039f"
             ],
             [
              0.2222222222222222,
              "#7201a8"
             ],
             [
              0.3333333333333333,
              "#9c179e"
             ],
             [
              0.4444444444444444,
              "#bd3786"
             ],
             [
              0.5555555555555556,
              "#d8576b"
             ],
             [
              0.6666666666666666,
              "#ed7953"
             ],
             [
              0.7777777777777778,
              "#fb9f3a"
             ],
             [
              0.8888888888888888,
              "#fdca26"
             ],
             [
              1,
              "#f0f921"
             ]
            ],
            "type": "histogram2dcontour"
           }
          ],
          "mesh3d": [
           {
            "colorbar": {
             "outlinewidth": 0,
             "ticks": ""
            },
            "type": "mesh3d"
           }
          ],
          "parcoords": [
           {
            "line": {
             "colorbar": {
              "outlinewidth": 0,
              "ticks": ""
             }
            },
            "type": "parcoords"
           }
          ],
          "pie": [
           {
            "automargin": true,
            "type": "pie"
           }
          ],
          "scatter": [
           {
            "fillpattern": {
             "fillmode": "overlay",
             "size": 10,
             "solidity": 0.2
            },
            "type": "scatter"
           }
          ],
          "scatter3d": [
           {
            "line": {
             "colorbar": {
              "outlinewidth": 0,
              "ticks": ""
             }
            },
            "marker": {
             "colorbar": {
              "outlinewidth": 0,
              "ticks": ""
             }
            },
            "type": "scatter3d"
           }
          ],
          "scattercarpet": [
           {
            "marker": {
             "colorbar": {
              "outlinewidth": 0,
              "ticks": ""
             }
            },
            "type": "scattercarpet"
           }
          ],
          "scattergeo": [
           {
            "marker": {
             "colorbar": {
              "outlinewidth": 0,
              "ticks": ""
             }
            },
            "type": "scattergeo"
           }
          ],
          "scattergl": [
           {
            "marker": {
             "colorbar": {
              "outlinewidth": 0,
              "ticks": ""
             }
            },
            "type": "scattergl"
           }
          ],
          "scattermapbox": [
           {
            "marker": {
             "colorbar": {
              "outlinewidth": 0,
              "ticks": ""
             }
            },
            "type": "scattermapbox"
           }
          ],
          "scatterpolar": [
           {
            "marker": {
             "colorbar": {
              "outlinewidth": 0,
              "ticks": ""
             }
            },
            "type": "scatterpolar"
           }
          ],
          "scatterpolargl": [
           {
            "marker": {
             "colorbar": {
              "outlinewidth": 0,
              "ticks": ""
             }
            },
            "type": "scatterpolargl"
           }
          ],
          "scatterternary": [
           {
            "marker": {
             "colorbar": {
              "outlinewidth": 0,
              "ticks": ""
             }
            },
            "type": "scatterternary"
           }
          ],
          "surface": [
           {
            "colorbar": {
             "outlinewidth": 0,
             "ticks": ""
            },
            "colorscale": [
             [
              0,
              "#0d0887"
             ],
             [
              0.1111111111111111,
              "#46039f"
             ],
             [
              0.2222222222222222,
              "#7201a8"
             ],
             [
              0.3333333333333333,
              "#9c179e"
             ],
             [
              0.4444444444444444,
              "#bd3786"
             ],
             [
              0.5555555555555556,
              "#d8576b"
             ],
             [
              0.6666666666666666,
              "#ed7953"
             ],
             [
              0.7777777777777778,
              "#fb9f3a"
             ],
             [
              0.8888888888888888,
              "#fdca26"
             ],
             [
              1,
              "#f0f921"
             ]
            ],
            "type": "surface"
           }
          ],
          "table": [
           {
            "cells": {
             "fill": {
              "color": "#EBF0F8"
             },
             "line": {
              "color": "white"
             }
            },
            "header": {
             "fill": {
              "color": "#C8D4E3"
             },
             "line": {
              "color": "white"
             }
            },
            "type": "table"
           }
          ]
         },
         "layout": {
          "annotationdefaults": {
           "arrowcolor": "#2a3f5f",
           "arrowhead": 0,
           "arrowwidth": 1
          },
          "autotypenumbers": "strict",
          "coloraxis": {
           "colorbar": {
            "outlinewidth": 0,
            "ticks": ""
           }
          },
          "colorscale": {
           "diverging": [
            [
             0,
             "#8e0152"
            ],
            [
             0.1,
             "#c51b7d"
            ],
            [
             0.2,
             "#de77ae"
            ],
            [
             0.3,
             "#f1b6da"
            ],
            [
             0.4,
             "#fde0ef"
            ],
            [
             0.5,
             "#f7f7f7"
            ],
            [
             0.6,
             "#e6f5d0"
            ],
            [
             0.7,
             "#b8e186"
            ],
            [
             0.8,
             "#7fbc41"
            ],
            [
             0.9,
             "#4d9221"
            ],
            [
             1,
             "#276419"
            ]
           ],
           "sequential": [
            [
             0,
             "#0d0887"
            ],
            [
             0.1111111111111111,
             "#46039f"
            ],
            [
             0.2222222222222222,
             "#7201a8"
            ],
            [
             0.3333333333333333,
             "#9c179e"
            ],
            [
             0.4444444444444444,
             "#bd3786"
            ],
            [
             0.5555555555555556,
             "#d8576b"
            ],
            [
             0.6666666666666666,
             "#ed7953"
            ],
            [
             0.7777777777777778,
             "#fb9f3a"
            ],
            [
             0.8888888888888888,
             "#fdca26"
            ],
            [
             1,
             "#f0f921"
            ]
           ],
           "sequentialminus": [
            [
             0,
             "#0d0887"
            ],
            [
             0.1111111111111111,
             "#46039f"
            ],
            [
             0.2222222222222222,
             "#7201a8"
            ],
            [
             0.3333333333333333,
             "#9c179e"
            ],
            [
             0.4444444444444444,
             "#bd3786"
            ],
            [
             0.5555555555555556,
             "#d8576b"
            ],
            [
             0.6666666666666666,
             "#ed7953"
            ],
            [
             0.7777777777777778,
             "#fb9f3a"
            ],
            [
             0.8888888888888888,
             "#fdca26"
            ],
            [
             1,
             "#f0f921"
            ]
           ]
          },
          "colorway": [
           "#636efa",
           "#EF553B",
           "#00cc96",
           "#ab63fa",
           "#FFA15A",
           "#19d3f3",
           "#FF6692",
           "#B6E880",
           "#FF97FF",
           "#FECB52"
          ],
          "font": {
           "color": "#2a3f5f"
          },
          "geo": {
           "bgcolor": "white",
           "lakecolor": "white",
           "landcolor": "#E5ECF6",
           "showlakes": true,
           "showland": true,
           "subunitcolor": "white"
          },
          "hoverlabel": {
           "align": "left"
          },
          "hovermode": "closest",
          "mapbox": {
           "style": "light"
          },
          "paper_bgcolor": "white",
          "plot_bgcolor": "#E5ECF6",
          "polar": {
           "angularaxis": {
            "gridcolor": "white",
            "linecolor": "white",
            "ticks": ""
           },
           "bgcolor": "#E5ECF6",
           "radialaxis": {
            "gridcolor": "white",
            "linecolor": "white",
            "ticks": ""
           }
          },
          "scene": {
           "xaxis": {
            "backgroundcolor": "#E5ECF6",
            "gridcolor": "white",
            "gridwidth": 2,
            "linecolor": "white",
            "showbackground": true,
            "ticks": "",
            "zerolinecolor": "white"
           },
           "yaxis": {
            "backgroundcolor": "#E5ECF6",
            "gridcolor": "white",
            "gridwidth": 2,
            "linecolor": "white",
            "showbackground": true,
            "ticks": "",
            "zerolinecolor": "white"
           },
           "zaxis": {
            "backgroundcolor": "#E5ECF6",
            "gridcolor": "white",
            "gridwidth": 2,
            "linecolor": "white",
            "showbackground": true,
            "ticks": "",
            "zerolinecolor": "white"
           }
          },
          "shapedefaults": {
           "line": {
            "color": "#2a3f5f"
           }
          },
          "ternary": {
           "aaxis": {
            "gridcolor": "white",
            "linecolor": "white",
            "ticks": ""
           },
           "baxis": {
            "gridcolor": "white",
            "linecolor": "white",
            "ticks": ""
           },
           "bgcolor": "#E5ECF6",
           "caxis": {
            "gridcolor": "white",
            "linecolor": "white",
            "ticks": ""
           }
          },
          "title": {
           "x": 0.05
          },
          "xaxis": {
           "automargin": true,
           "gridcolor": "white",
           "linecolor": "white",
           "ticks": "",
           "title": {
            "standoff": 15
           },
           "zerolinecolor": "white",
           "zerolinewidth": 2
          },
          "yaxis": {
           "automargin": true,
           "gridcolor": "white",
           "linecolor": "white",
           "ticks": "",
           "title": {
            "standoff": 15
           },
           "zerolinecolor": "white",
           "zerolinewidth": 2
          }
         }
        },
        "xaxis": {
         "anchor": "y",
         "domain": [
          0,
          1
         ],
         "range": [
          20,
          24
         ],
         "title": {
          "text": "Training compute (FLOP)"
         },
         "type": "log"
        },
        "yaxis": {
         "anchor": "x",
         "domain": [
          0,
          1
         ],
         "range": [
          10,
          11
         ],
         "title": {
          "text": "Perplexity (WT103)"
         }
        }
       }
      },
      "text/html": [
       "<div>                            <div id=\"3cbe2afe-cee6-4e3d-b0a0-777fb13c6819\" class=\"plotly-graph-div\" style=\"height:525px; width:100%;\"></div>            <script type=\"text/javascript\">                require([\"plotly\"], function(Plotly) {                    window.PLOTLYENV=window.PLOTLYENV || {};                                    if (document.getElementById(\"3cbe2afe-cee6-4e3d-b0a0-777fb13c6819\")) {                    Plotly.newPlot(                        \"3cbe2afe-cee6-4e3d-b0a0-777fb13c6819\",                        [{\"hovertemplate\":\"Model accessibility=Unreleased\\u003cbr\\u003eTraining compute (FLOP)=%{x}\\u003cbr\\u003ePerplexity (WT103)=%{y}\\u003cextra\\u003e\\u003c\\u002fextra\\u003e\",\"legendgroup\":\"Unreleased\",\"marker\":{\"color\":\"#636efa\",\"symbol\":\"circle\"},\"mode\":\"markers\",\"name\":\"Unreleased\",\"orientation\":\"v\",\"showlegend\":true,\"x\":[8.84e+19,null,7.3e+18,1.58e+18,null,null,3040000000000000.0,5620000000000000.0,2.19e+16,2.32e+18,null,null,null,null,null,null,null,null,null,null,1.92e+16,null,null,4.14e+17,2.4e+19,null,2650000000000000.0,1340000000000000.0,null,null,null,null,3.36e+18,null,null,null,null,null,null,2.78e+19,null,null,null,null,null,null,null,6.2e+18,3.1e+18,1.2e+19,null,4210000000000000.0,null,null,null,3.17e+16,null,null,1920000000000000.0,null,null,null,3.31e+16,null,1.1e+19,null,1.61e+20,null,null,1.68e+16,null,4.3599999999999993e+20,null,null,null,null,null,null,1.6e+20,null,7.3e+18,null,null,7.3e+16,null,null,3570000000000000.0,null,null,null,null,282000000000000.0,null,1.05e+16,null,1.06e+16,5.21e+20,213000000000000.0,null,4.4e+16,null,null,null,9.85e+16,null,8400000000000000.0,null,null,null,2.0099999999999996e+16,1.6e+21,null,4.41e+19,null,null,null,null,null,null,null,null,6.1e+19,3150000000000000.0,7.14e+18,1.2e+22,null,null,null,null,null,null,null,null,null,null,2.13e+16,1.58e+23,null,1.1e+16,null,4.37e+17,null,null,null,8.34e+20,null,null,null,null,null,null,8.2e+19,null,5.62e+17,1.04e+19,null,1.27e+17,null,null,null,null,null,null,null,null,null,3.09e+17,9.1e+21,null,1.28e+16,null,1.2e+22,1.09e+17,7.36e+18,null,6.31e+23,null,3.04e+18,6.06e+18,5.62e+17,null,null,7.3e+18,null,null,null,2.1e+16,null,null,null,null,2.4e+19,1020000000000000.0,null,1.3899999999999998e+17,null,1.46e+16,null,2.68e+16,null,null,null,null,null,227000000000000.0,4.76e+18,null,null,2.78e+18,4.3e+17,4.74e+17,null,null,null,null,9.1e+16,2.4e+16,1.28e+22,1.1699999999999998e+20,3400000000000000.0,null,6e+20,null,null,null,null,null,null,null,null,null,null,4.6e+19,null,null,null,null,null,null,5.76e+23,null,null,null,null,null,1.68e+22,1.58e+20,null,1.27e+17,7.59e+16,2.89e+18,4.5999999999999994e+17,null,5.3e+18,3.6e+17,7.39e+17,3.45e+20,null,1.24e+20,null,null,2.65e+19,3.2e+21,null,3340000000000000.0,null,null,null,3.89e+18,null,null,6.67e+18,null,null,null,2.31e+18,1.1e+18,null,null,null,null,null,null,null,null,1.57e+22,null,null,3310000000000000.0,7490000000000000.0,null,2009999999999999.5,8.039999999999998e+18,null,2.4e+17,null,null,501999999999999.94,null,null,null,7.3e+18,null,1.2e+20],\"xaxis\":\"x\",\"y\":[20.4,18.4,20.8,19.9,25.72,20.39,null,null,null,44.69,null,null,null,null,null,null,9.79,null,null,26.48,null,null,null,24.08,29.2,null,null,null,30.79,18.16,null,null,18.1,20.88,9.5,40.8,23.99,null,null,23.3,18.5,22.5,null,null,null,31.92,29.58,24.17,32.49,22.74,null,null,null,null,null,29.51,null,null,null,null,null,16.8,null,null,24.33,null,20.97,null,28.0,null,null,20.3,null,null,23.26,26.72,null,null,17.1,32.19,17.4,null,22.77,null,null,null,null,null,null,null,null,null,null,null,null,null,null,null,null,null,18.6,null,76.67,null,null,null,16.4,null,null,null,32.5,null,18.3,12.76,null,null,null,null,31.6,null,22.13,20.8,null,23.5,16.61,11.17,18.48,null,null,null,37.2,null,9.32,null,null,null,8.21,null,null,null,null,19.8,null,null,21.0,null,19.6,null,null,17.3,null,18.07,35.94,null,21.1,8.12,null,null,null,null,null,null,31.81,null,null,null,null,10.81,null,null,32.85,9.13,null,18.66,null,10.81,null,18.15,25.3,null,161.55,null,15.79,null,null,null,25.1,20.42,null,null,null,24.14,null,null,null,null,null,17.66,null,15.5,null,18.2,18.3,26.03,null,21.2,null,null,29.19,34.71,null,25.81,null,18.8,null,null,null,8.56,26.73,null,19.7,13.72,null,null,48.7,43.54,35.5,null,null,66.11,20.7,null,20.6,null,null,null,null,null,null,7.16,32.21,null,null,null,null,21.53,17.84,18.9,null,null,29.2,23.2,null,19.9,33.0,null,20.3,null,20.5,null,null,17.0,18.6,null,null,18.5,null,null,31.5,33.93,null,28.86,null,null,null,null,32.8,null,null,null,null,null,null,null,45.19,10.21,null,null,null,null,null,null,20.05,null,33.0,null,null,null,31.6,22.1,null,18.7,null,20.69],\"yaxis\":\"y\",\"type\":\"scatter\",\"textposition\":\"middle left\"},{\"hovertemplate\":\"Model accessibility=Open source\\u003cbr\\u003eTraining compute (FLOP)=%{x}\\u003cbr\\u003ePerplexity (WT103)=%{y}\\u003cextra\\u003e\\u003c\\u002fextra\\u003e\",\"legendgroup\":\"Open source\",\"marker\":{\"color\":\"#EF553B\",\"symbol\":\"circle\"},\"mode\":\"markers\",\"name\":\"Open source\",\"orientation\":\"v\",\"showlegend\":true,\"x\":[null,6e+20,null,7.3e+18,null,3.79e+22,null,null,1.5e+22,null,8.1e+20,null,null,null,null,null,null,null,8.16e+17,6.93e+17,null,null,null,5.038000000001e+21,1.2420000000001e+22,null,1.799000000001e+21,null,null,2.8e+19,2.9e+19,null,3.35e+20,2.8790000000100005e+20,7.9e+21,1.26000000001e+20,null,1.1e+19,null,null,null,1.58e+18,9.31627008e+22,2.91e+19,null,null,null,null,7.37700000001e+20,2.1590000000001e+22,null,null,null,null,8.49e+20,4.24e+17,2.5190000000001e+21],\"xaxis\":\"x\",\"y\":[null,20.95,15.8,14.8,21.0,null,17.7,null,null,23.77,18.3,null,11.65,26.37,12.22,null,null,null,23.2,null,16.9,22.05,null,null,null,null,null,null,12.5,19.2,24.9,37.5,19.31,null,null,null,11.33,17.1,null,23.7,null,17.9,null,16.8,null,null,null,null,null,null,null,null,35.0,null,10.6,null,null],\"yaxis\":\"y\",\"type\":\"scatter\",\"textposition\":\"middle left\"},{\"hovertemplate\":\"Model accessibility=Open access (non-commercial)\\u003cbr\\u003eTraining compute (FLOP)=%{x}\\u003cbr\\u003ePerplexity (WT103)=%{y}\\u003cextra\\u003e\\u003c\\u002fextra\\u003e\",\"legendgroup\":\"Open access (non-commercial)\",\"marker\":{\"color\":\"#00cc96\",\"symbol\":\"circle\"},\"mode\":\"markers\",\"name\":\"Open access (non-commercial)\",\"orientation\":\"v\",\"showlegend\":true,\"x\":[null,3.28e+17,2.7300000000000996e+23,null,2.340000000001e+22,5.5e+23,null,1.2060000000001e+22,5.4000000000001e+22,3.778e+23,3.12e+19,null,null,null,null,1.4e+16,2.65e+19,4.3e+23,null,1.100000000001e+23,4.55e+22,4.02e+22],\"xaxis\":\"x\",\"y\":[42.36,null,null,22.5,null,null,null,null,null,10.76,15.37,22.66,25.42,null,null,null,17.1,null,null,null,null,null],\"yaxis\":\"y\",\"type\":\"scatter\",\"textposition\":\"middle left\"},{\"hovertemplate\":\"Model accessibility=Open access (restricted use)\\u003cbr\\u003eTraining compute (FLOP)=%{x}\\u003cbr\\u003ePerplexity (WT103)=%{y}\\u003cextra\\u003e\\u003c\\u002fextra\\u003e\",\"legendgroup\":\"Open access (restricted use)\",\"marker\":{\"color\":\"#ab63fa\",\"symbol\":\"circle\"},\"mode\":\"markers\",\"name\":\"Open access (restricted use)\",\"orientation\":\"v\",\"showlegend\":true,\"x\":[null,null,null,null,1.48e+22],\"xaxis\":\"x\",\"y\":[null,null,null,null,null],\"yaxis\":\"y\",\"type\":\"scatter\",\"textposition\":\"middle left\"},{\"hovertemplate\":\"Model accessibility=API access\\u003cbr\\u003eTraining compute (FLOP)=%{x}\\u003cbr\\u003ePerplexity (WT103)=%{y}\\u003cextra\\u003e\\u003c\\u002fextra\\u003e\",\"legendgroup\":\"API access\",\"marker\":{\"color\":\"#FFA15A\",\"symbol\":\"circle\"},\"mode\":\"markers\",\"name\":\"API access\",\"orientation\":\"v\",\"showlegend\":true,\"x\":[3.14e+23],\"xaxis\":\"x\",\"y\":[null],\"yaxis\":\"y\",\"type\":\"scatter\",\"textposition\":\"middle left\"}],                        {\"template\":{\"data\":{\"histogram2dcontour\":[{\"type\":\"histogram2dcontour\",\"colorbar\":{\"outlinewidth\":0,\"ticks\":\"\"},\"colorscale\":[[0.0,\"#0d0887\"],[0.1111111111111111,\"#46039f\"],[0.2222222222222222,\"#7201a8\"],[0.3333333333333333,\"#9c179e\"],[0.4444444444444444,\"#bd3786\"],[0.5555555555555556,\"#d8576b\"],[0.6666666666666666,\"#ed7953\"],[0.7777777777777778,\"#fb9f3a\"],[0.8888888888888888,\"#fdca26\"],[1.0,\"#f0f921\"]]}],\"choropleth\":[{\"type\":\"choropleth\",\"colorbar\":{\"outlinewidth\":0,\"ticks\":\"\"}}],\"histogram2d\":[{\"type\":\"histogram2d\",\"colorbar\":{\"outlinewidth\":0,\"ticks\":\"\"},\"colorscale\":[[0.0,\"#0d0887\"],[0.1111111111111111,\"#46039f\"],[0.2222222222222222,\"#7201a8\"],[0.3333333333333333,\"#9c179e\"],[0.4444444444444444,\"#bd3786\"],[0.5555555555555556,\"#d8576b\"],[0.6666666666666666,\"#ed7953\"],[0.7777777777777778,\"#fb9f3a\"],[0.8888888888888888,\"#fdca26\"],[1.0,\"#f0f921\"]]}],\"heatmap\":[{\"type\":\"heatmap\",\"colorbar\":{\"outlinewidth\":0,\"ticks\":\"\"},\"colorscale\":[[0.0,\"#0d0887\"],[0.1111111111111111,\"#46039f\"],[0.2222222222222222,\"#7201a8\"],[0.3333333333333333,\"#9c179e\"],[0.4444444444444444,\"#bd3786\"],[0.5555555555555556,\"#d8576b\"],[0.6666666666666666,\"#ed7953\"],[0.7777777777777778,\"#fb9f3a\"],[0.8888888888888888,\"#fdca26\"],[1.0,\"#f0f921\"]]}],\"heatmapgl\":[{\"type\":\"heatmapgl\",\"colorbar\":{\"outlinewidth\":0,\"ticks\":\"\"},\"colorscale\":[[0.0,\"#0d0887\"],[0.1111111111111111,\"#46039f\"],[0.2222222222222222,\"#7201a8\"],[0.3333333333333333,\"#9c179e\"],[0.4444444444444444,\"#bd3786\"],[0.5555555555555556,\"#d8576b\"],[0.6666666666666666,\"#ed7953\"],[0.7777777777777778,\"#fb9f3a\"],[0.8888888888888888,\"#fdca26\"],[1.0,\"#f0f921\"]]}],\"contourcarpet\":[{\"type\":\"contourcarpet\",\"colorbar\":{\"outlinewidth\":0,\"ticks\":\"\"}}],\"contour\":[{\"type\":\"contour\",\"colorbar\":{\"outlinewidth\":0,\"ticks\":\"\"},\"colorscale\":[[0.0,\"#0d0887\"],[0.1111111111111111,\"#46039f\"],[0.2222222222222222,\"#7201a8\"],[0.3333333333333333,\"#9c179e\"],[0.4444444444444444,\"#bd3786\"],[0.5555555555555556,\"#d8576b\"],[0.6666666666666666,\"#ed7953\"],[0.7777777777777778,\"#fb9f3a\"],[0.8888888888888888,\"#fdca26\"],[1.0,\"#f0f921\"]]}],\"surface\":[{\"type\":\"surface\",\"colorbar\":{\"outlinewidth\":0,\"ticks\":\"\"},\"colorscale\":[[0.0,\"#0d0887\"],[0.1111111111111111,\"#46039f\"],[0.2222222222222222,\"#7201a8\"],[0.3333333333333333,\"#9c179e\"],[0.4444444444444444,\"#bd3786\"],[0.5555555555555556,\"#d8576b\"],[0.6666666666666666,\"#ed7953\"],[0.7777777777777778,\"#fb9f3a\"],[0.8888888888888888,\"#fdca26\"],[1.0,\"#f0f921\"]]}],\"mesh3d\":[{\"type\":\"mesh3d\",\"colorbar\":{\"outlinewidth\":0,\"ticks\":\"\"}}],\"scatter\":[{\"fillpattern\":{\"fillmode\":\"overlay\",\"size\":10,\"solidity\":0.2},\"type\":\"scatter\"}],\"parcoords\":[{\"type\":\"parcoords\",\"line\":{\"colorbar\":{\"outlinewidth\":0,\"ticks\":\"\"}}}],\"scatterpolargl\":[{\"type\":\"scatterpolargl\",\"marker\":{\"colorbar\":{\"outlinewidth\":0,\"ticks\":\"\"}}}],\"bar\":[{\"error_x\":{\"color\":\"#2a3f5f\"},\"error_y\":{\"color\":\"#2a3f5f\"},\"marker\":{\"line\":{\"color\":\"#E5ECF6\",\"width\":0.5},\"pattern\":{\"fillmode\":\"overlay\",\"size\":10,\"solidity\":0.2}},\"type\":\"bar\"}],\"scattergeo\":[{\"type\":\"scattergeo\",\"marker\":{\"colorbar\":{\"outlinewidth\":0,\"ticks\":\"\"}}}],\"scatterpolar\":[{\"type\":\"scatterpolar\",\"marker\":{\"colorbar\":{\"outlinewidth\":0,\"ticks\":\"\"}}}],\"histogram\":[{\"marker\":{\"pattern\":{\"fillmode\":\"overlay\",\"size\":10,\"solidity\":0.2}},\"type\":\"histogram\"}],\"scattergl\":[{\"type\":\"scattergl\",\"marker\":{\"colorbar\":{\"outlinewidth\":0,\"ticks\":\"\"}}}],\"scatter3d\":[{\"type\":\"scatter3d\",\"line\":{\"colorbar\":{\"outlinewidth\":0,\"ticks\":\"\"}},\"marker\":{\"colorbar\":{\"outlinewidth\":0,\"ticks\":\"\"}}}],\"scattermapbox\":[{\"type\":\"scattermapbox\",\"marker\":{\"colorbar\":{\"outlinewidth\":0,\"ticks\":\"\"}}}],\"scatterternary\":[{\"type\":\"scatterternary\",\"marker\":{\"colorbar\":{\"outlinewidth\":0,\"ticks\":\"\"}}}],\"scattercarpet\":[{\"type\":\"scattercarpet\",\"marker\":{\"colorbar\":{\"outlinewidth\":0,\"ticks\":\"\"}}}],\"carpet\":[{\"aaxis\":{\"endlinecolor\":\"#2a3f5f\",\"gridcolor\":\"white\",\"linecolor\":\"white\",\"minorgridcolor\":\"white\",\"startlinecolor\":\"#2a3f5f\"},\"baxis\":{\"endlinecolor\":\"#2a3f5f\",\"gridcolor\":\"white\",\"linecolor\":\"white\",\"minorgridcolor\":\"white\",\"startlinecolor\":\"#2a3f5f\"},\"type\":\"carpet\"}],\"table\":[{\"cells\":{\"fill\":{\"color\":\"#EBF0F8\"},\"line\":{\"color\":\"white\"}},\"header\":{\"fill\":{\"color\":\"#C8D4E3\"},\"line\":{\"color\":\"white\"}},\"type\":\"table\"}],\"barpolar\":[{\"marker\":{\"line\":{\"color\":\"#E5ECF6\",\"width\":0.5},\"pattern\":{\"fillmode\":\"overlay\",\"size\":10,\"solidity\":0.2}},\"type\":\"barpolar\"}],\"pie\":[{\"automargin\":true,\"type\":\"pie\"}]},\"layout\":{\"autotypenumbers\":\"strict\",\"colorway\":[\"#636efa\",\"#EF553B\",\"#00cc96\",\"#ab63fa\",\"#FFA15A\",\"#19d3f3\",\"#FF6692\",\"#B6E880\",\"#FF97FF\",\"#FECB52\"],\"font\":{\"color\":\"#2a3f5f\"},\"hovermode\":\"closest\",\"hoverlabel\":{\"align\":\"left\"},\"paper_bgcolor\":\"white\",\"plot_bgcolor\":\"#E5ECF6\",\"polar\":{\"bgcolor\":\"#E5ECF6\",\"angularaxis\":{\"gridcolor\":\"white\",\"linecolor\":\"white\",\"ticks\":\"\"},\"radialaxis\":{\"gridcolor\":\"white\",\"linecolor\":\"white\",\"ticks\":\"\"}},\"ternary\":{\"bgcolor\":\"#E5ECF6\",\"aaxis\":{\"gridcolor\":\"white\",\"linecolor\":\"white\",\"ticks\":\"\"},\"baxis\":{\"gridcolor\":\"white\",\"linecolor\":\"white\",\"ticks\":\"\"},\"caxis\":{\"gridcolor\":\"white\",\"linecolor\":\"white\",\"ticks\":\"\"}},\"coloraxis\":{\"colorbar\":{\"outlinewidth\":0,\"ticks\":\"\"}},\"colorscale\":{\"sequential\":[[0.0,\"#0d0887\"],[0.1111111111111111,\"#46039f\"],[0.2222222222222222,\"#7201a8\"],[0.3333333333333333,\"#9c179e\"],[0.4444444444444444,\"#bd3786\"],[0.5555555555555556,\"#d8576b\"],[0.6666666666666666,\"#ed7953\"],[0.7777777777777778,\"#fb9f3a\"],[0.8888888888888888,\"#fdca26\"],[1.0,\"#f0f921\"]],\"sequentialminus\":[[0.0,\"#0d0887\"],[0.1111111111111111,\"#46039f\"],[0.2222222222222222,\"#7201a8\"],[0.3333333333333333,\"#9c179e\"],[0.4444444444444444,\"#bd3786\"],[0.5555555555555556,\"#d8576b\"],[0.6666666666666666,\"#ed7953\"],[0.7777777777777778,\"#fb9f3a\"],[0.8888888888888888,\"#fdca26\"],[1.0,\"#f0f921\"]],\"diverging\":[[0,\"#8e0152\"],[0.1,\"#c51b7d\"],[0.2,\"#de77ae\"],[0.3,\"#f1b6da\"],[0.4,\"#fde0ef\"],[0.5,\"#f7f7f7\"],[0.6,\"#e6f5d0\"],[0.7,\"#b8e186\"],[0.8,\"#7fbc41\"],[0.9,\"#4d9221\"],[1,\"#276419\"]]},\"xaxis\":{\"gridcolor\":\"white\",\"linecolor\":\"white\",\"ticks\":\"\",\"title\":{\"standoff\":15},\"zerolinecolor\":\"white\",\"automargin\":true,\"zerolinewidth\":2},\"yaxis\":{\"gridcolor\":\"white\",\"linecolor\":\"white\",\"ticks\":\"\",\"title\":{\"standoff\":15},\"zerolinecolor\":\"white\",\"automargin\":true,\"zerolinewidth\":2},\"scene\":{\"xaxis\":{\"backgroundcolor\":\"#E5ECF6\",\"gridcolor\":\"white\",\"linecolor\":\"white\",\"showbackground\":true,\"ticks\":\"\",\"zerolinecolor\":\"white\",\"gridwidth\":2},\"yaxis\":{\"backgroundcolor\":\"#E5ECF6\",\"gridcolor\":\"white\",\"linecolor\":\"white\",\"showbackground\":true,\"ticks\":\"\",\"zerolinecolor\":\"white\",\"gridwidth\":2},\"zaxis\":{\"backgroundcolor\":\"#E5ECF6\",\"gridcolor\":\"white\",\"linecolor\":\"white\",\"showbackground\":true,\"ticks\":\"\",\"zerolinecolor\":\"white\",\"gridwidth\":2}},\"shapedefaults\":{\"line\":{\"color\":\"#2a3f5f\"}},\"annotationdefaults\":{\"arrowcolor\":\"#2a3f5f\",\"arrowhead\":0,\"arrowwidth\":1},\"geo\":{\"bgcolor\":\"white\",\"landcolor\":\"#E5ECF6\",\"subunitcolor\":\"white\",\"showland\":true,\"showlakes\":true,\"lakecolor\":\"white\"},\"title\":{\"x\":0.05},\"mapbox\":{\"style\":\"light\"}}},\"xaxis\":{\"anchor\":\"y\",\"domain\":[0.0,1.0],\"title\":{\"text\":\"Training compute (FLOP)\"},\"type\":\"log\",\"range\":[20,24]},\"yaxis\":{\"anchor\":\"x\",\"domain\":[0.0,1.0],\"title\":{\"text\":\"Perplexity (WT103)\"},\"range\":[10,11]},\"legend\":{\"title\":{\"text\":\"Model accessibility\"},\"tracegroupgap\":0},\"margin\":{\"t\":60}},                        {\"responsive\": true}                    ).then(function(){\n",
       "                            \n",
       "var gd = document.getElementById('3cbe2afe-cee6-4e3d-b0a0-777fb13c6819');\n",
       "var x = new MutationObserver(function (mutations, observer) {{\n",
       "        var display = window.getComputedStyle(gd).display;\n",
       "        if (!display || display === 'none') {{\n",
       "            console.log([gd, 'removed!']);\n",
       "            Plotly.purge(gd);\n",
       "            observer.disconnect();\n",
       "        }}\n",
       "}});\n",
       "\n",
       "// Listen for the removal of the full notebook cells\n",
       "var notebookContainer = gd.closest('#notebook-container');\n",
       "if (notebookContainer) {{\n",
       "    x.observe(notebookContainer, {childList: true});\n",
       "}}\n",
       "\n",
       "// Listen for the clearing of the current output cell\n",
       "var outputEl = gd.closest('.output');\n",
       "if (outputEl) {{\n",
       "    x.observe(outputEl, {childList: true});\n",
       "}}\n",
       "\n",
       "                        })                };                });            </script>        </div>"
      ]
     },
     "metadata": {},
     "output_type": "display_data"
    }
   ],
   "source": [
    "fig = px.scatter(\n",
    "    filtered_benchmark_df,\n",
    "    x='Training compute (FLOP)',\n",
    "    y='Perplexity (WT103)',\n",
    "    color='Model accessibility'\n",
    ")\n",
    "\n",
    "# Log x-axis\n",
    "fig.update_xaxes(type='log')\n",
    "\n",
    "# Move text to top\n",
    "fig.update_traces(textposition='middle left')\n",
    "\n",
    "# Zoom in\n",
    "fig.update_layout(xaxis_range=[20, 24], yaxis_range=[10, 11])\n",
    "save_plot(fig, results_dir, 'WT103_vs_compute_interesting')\n",
    "\n",
    "fig.show()"
   ]
  },
  {
   "cell_type": "code",
   "execution_count": 22,
   "metadata": {},
   "outputs": [
    {
     "data": {
      "application/vnd.plotly.v1+json": {
       "config": {
        "plotlyServerURL": "https://plot.ly"
       },
       "data": [
        {
         "hovertemplate": "Model accessibility=Unreleased<br>Training compute (FLOP)=%{x}<br>Perplexity (WT2)=%{y}<extra></extra>",
         "legendgroup": "Unreleased",
         "marker": {
          "color": "#636efa",
          "symbol": "circle"
         },
         "mode": "markers",
         "name": "Unreleased",
         "orientation": "v",
         "showlegend": true,
         "textposition": "middle left",
         "type": "scatter",
         "x": [
          88400000000000000000,
          null,
          7300000000000000000,
          1580000000000000000,
          null,
          null,
          3040000000000000,
          5620000000000000,
          21900000000000000,
          2320000000000000000,
          null,
          null,
          null,
          null,
          null,
          null,
          null,
          null,
          null,
          null,
          19200000000000000,
          null,
          null,
          414000000000000000,
          24000000000000000000,
          null,
          2650000000000000,
          1340000000000000,
          null,
          null,
          null,
          null,
          3360000000000000000,
          null,
          null,
          null,
          null,
          null,
          null,
          27800000000000000000,
          null,
          null,
          null,
          null,
          null,
          null,
          null,
          6200000000000000000,
          3100000000000000000,
          12000000000000000000,
          null,
          4210000000000000,
          null,
          null,
          null,
          31700000000000000,
          null,
          null,
          1920000000000000,
          null,
          null,
          null,
          33100000000000000,
          null,
          11000000000000000000,
          null,
          161000000000000000000,
          null,
          null,
          16800000000000000,
          null,
          435999999999999930000,
          null,
          null,
          null,
          null,
          null,
          null,
          160000000000000000000,
          null,
          7300000000000000000,
          null,
          null,
          73000000000000000,
          null,
          null,
          3570000000000000,
          null,
          null,
          null,
          null,
          282000000000000,
          null,
          10500000000000000,
          null,
          10600000000000000,
          521000000000000000000,
          213000000000000,
          null,
          44000000000000000,
          null,
          null,
          null,
          98500000000000000,
          null,
          8400000000000000,
          null,
          null,
          null,
          20099999999999996,
          1.6e+21,
          null,
          44100000000000000000,
          null,
          null,
          null,
          null,
          null,
          null,
          null,
          null,
          61000000000000000000,
          3150000000000000,
          7140000000000000000,
          1.2e+22,
          null,
          null,
          null,
          null,
          null,
          null,
          null,
          null,
          null,
          null,
          21300000000000000,
          1.58e+23,
          null,
          11000000000000000,
          null,
          437000000000000000,
          null,
          null,
          null,
          834000000000000000000,
          null,
          null,
          null,
          null,
          null,
          null,
          82000000000000000000,
          null,
          562000000000000000,
          10400000000000000000,
          null,
          127000000000000000,
          null,
          null,
          null,
          null,
          null,
          null,
          null,
          null,
          null,
          309000000000000000,
          9.1e+21,
          null,
          12800000000000000,
          null,
          1.2e+22,
          109000000000000000,
          7360000000000000000,
          null,
          6.31e+23,
          null,
          3040000000000000000,
          6060000000000000000,
          562000000000000000,
          null,
          null,
          7300000000000000000,
          null,
          null,
          null,
          21000000000000000,
          null,
          null,
          null,
          null,
          24000000000000000000,
          1020000000000000,
          null,
          138999999999999980,
          null,
          14600000000000000,
          null,
          26800000000000000,
          null,
          null,
          null,
          null,
          null,
          227000000000000,
          4760000000000000000,
          null,
          null,
          2780000000000000000,
          430000000000000000,
          474000000000000000,
          null,
          null,
          null,
          null,
          91000000000000000,
          24000000000000000,
          1.28e+22,
          116999999999999980000,
          3400000000000000,
          null,
          600000000000000000000,
          null,
          null,
          null,
          null,
          null,
          null,
          null,
          null,
          null,
          null,
          46000000000000000000,
          null,
          null,
          null,
          null,
          null,
          null,
          5.76e+23,
          null,
          null,
          null,
          null,
          null,
          1.68e+22,
          158000000000000000000,
          null,
          127000000000000000,
          75900000000000000,
          2890000000000000000,
          459999999999999940,
          null,
          5300000000000000000,
          360000000000000000,
          739000000000000000,
          345000000000000000000,
          null,
          124000000000000000000,
          null,
          null,
          26500000000000000000,
          3.2e+21,
          null,
          3340000000000000,
          null,
          null,
          null,
          3890000000000000000,
          null,
          null,
          6670000000000000000,
          null,
          null,
          null,
          2310000000000000000,
          1100000000000000000,
          null,
          null,
          null,
          null,
          null,
          null,
          null,
          null,
          1.57e+22,
          null,
          null,
          3310000000000000,
          7490000000000000,
          null,
          2009999999999999.5,
          8039999999999998000,
          null,
          240000000000000000,
          null,
          null,
          501999999999999.94,
          null,
          null,
          null,
          7300000000000000000,
          null,
          120000000000000000000
         ],
         "xaxis": "x",
         "y": [
          null,
          null,
          null,
          null,
          null,
          null,
          null,
          null,
          86.8,
          null,
          57.85,
          null,
          65.2,
          null,
          199.4,
          null,
          null,
          null,
          null,
          null,
          15.17,
          null,
          null,
          null,
          null,
          null,
          null,
          null,
          null,
          null,
          null,
          4.27,
          null,
          null,
          null,
          null,
          null,
          null,
          null,
          null,
          null,
          null,
          null,
          null,
          null,
          null,
          null,
          null,
          null,
          null,
          81,
          null,
          null,
          72.4,
          64.73,
          31.8,
          null,
          null,
          null,
          80.8,
          null,
          null,
          null,
          null,
          null,
          null,
          null,
          null,
          null,
          100.9,
          null,
          null,
          null,
          null,
          null,
          null,
          null,
          null,
          null,
          null,
          null,
          null,
          null,
          null,
          null,
          null,
          null,
          null,
          null,
          86.85,
          null,
          null,
          null,
          null,
          null,
          null,
          null,
          null,
          null,
          null,
          null,
          null,
          null,
          64.1,
          null,
          null,
          null,
          null,
          63.7,
          null,
          null,
          null,
          null,
          null,
          null,
          null,
          74.3,
          null,
          null,
          null,
          null,
          null,
          null,
          null,
          null,
          null,
          null,
          66.6,
          null,
          null,
          null,
          39.14,
          null,
          null,
          null,
          null,
          null,
          null,
          69.6,
          5.54,
          40.68,
          null,
          87.84,
          null,
          null,
          59.8,
          null,
          null,
          null,
          null,
          null,
          null,
          null,
          40.96,
          null,
          null,
          76.8,
          null,
          null,
          89.16,
          59.9,
          94.8,
          null,
          6.19,
          38.6,
          63.05,
          52,
          null,
          null,
          null,
          null,
          null,
          38,
          null,
          null,
          null,
          null,
          null,
          null,
          62.21,
          null,
          82.1,
          null,
          null,
          null,
          null,
          null,
          null,
          null,
          40.3,
          null,
          null,
          66.2,
          6.66,
          null,
          98.9,
          null,
          null,
          null,
          null,
          null,
          null,
          null,
          null,
          null,
          null,
          null,
          87,
          null,
          null,
          40.46,
          null,
          null,
          null,
          null,
          null,
          85.76,
          null,
          null,
          null,
          null,
          null,
          null,
          null,
          null,
          null,
          null,
          197.5,
          null,
          null,
          null,
          149.35,
          null,
          null,
          44.3,
          null,
          null,
          null,
          null,
          null,
          null,
          null,
          13.71,
          null,
          10.78,
          null,
          null,
          null,
          82.9,
          64.5,
          null,
          null,
          12.09,
          null,
          null,
          61.65,
          null,
          68.9,
          null,
          null,
          null,
          null,
          null,
          189.58,
          null,
          null,
          null,
          null,
          null,
          null,
          65.8,
          null,
          null,
          99.3,
          null,
          68.9,
          null,
          null,
          null,
          null,
          88.8,
          null,
          null,
          55.6,
          null,
          null,
          null,
          11.13,
          51.7,
          null,
          null,
          null,
          null,
          null,
          null,
          223.44,
          34.11,
          null,
          null,
          null,
          null,
          null,
          null,
          null
         ],
         "yaxis": "y"
        },
        {
         "hovertemplate": "Model accessibility=Open source<br>Training compute (FLOP)=%{x}<br>Perplexity (WT2)=%{y}<extra></extra>",
         "legendgroup": "Open source",
         "marker": {
          "color": "#EF553B",
          "symbol": "circle"
         },
         "mode": "markers",
         "name": "Open source",
         "orientation": "v",
         "showlegend": true,
         "textposition": "middle left",
         "type": "scatter",
         "x": [
          null,
          600000000000000000000,
          null,
          7300000000000000000,
          null,
          3.79e+22,
          null,
          null,
          1.5e+22,
          null,
          810000000000000000000,
          null,
          null,
          null,
          null,
          null,
          null,
          null,
          816000000000000000,
          693000000000000000,
          null,
          null,
          null,
          5.038000000001e+21,
          1.2420000000001e+22,
          null,
          1.799000000001e+21,
          null,
          null,
          28000000000000000000,
          29000000000000000000,
          null,
          335000000000000000000,
          287900000001000050000,
          7.9e+21,
          126000000001000000000,
          null,
          11000000000000000000,
          null,
          null,
          null,
          1580000000000000000,
          9.31627008e+22,
          29100000000000000000,
          null,
          null,
          null,
          null,
          737700000001000000000,
          2.1590000000001e+22,
          null,
          null,
          null,
          null,
          849000000000000000000,
          424000000000000000,
          2.5190000000001e+21
         ],
         "xaxis": "x",
         "y": [
          19.85,
          null,
          null,
          null,
          null,
          12,
          null,
          98.2,
          10.88,
          null,
          null,
          null,
          14.9,
          null,
          null,
          null,
          16.3,
          null,
          null,
          53.09,
          null,
          null,
          null,
          12.69,
          11.41,
          null,
          16.45,
          null,
          null,
          null,
          null,
          null,
          null,
          33.43,
          11.39,
          57.04,
          null,
          null,
          10.27,
          null,
          null,
          null,
          9.2,
          null,
          null,
          12.22,
          32.29,
          20.7,
          20.11,
          10.54,
          58.03,
          13.1,
          null,
          null,
          null,
          42,
          14.72
         ],
         "yaxis": "y"
        },
        {
         "hovertemplate": "Model accessibility=Open access (non-commercial)<br>Training compute (FLOP)=%{x}<br>Perplexity (WT2)=%{y}<extra></extra>",
         "legendgroup": "Open access (non-commercial)",
         "marker": {
          "color": "#00cc96",
          "symbol": "circle"
         },
         "mode": "markers",
         "name": "Open access (non-commercial)",
         "orientation": "v",
         "showlegend": true,
         "textposition": "middle left",
         "type": "scatter",
         "x": [
          null,
          328000000000000000,
          2.7300000000000996e+23,
          null,
          2.340000000001e+22,
          5.5e+23,
          null,
          1.2060000000001e+22,
          5.4000000000001e+22,
          3.778e+23,
          31200000000000000000,
          null,
          null,
          null,
          null,
          14000000000000000,
          26500000000000000000,
          4.3e+23,
          null,
          1.100000000001e+23,
          4.55e+22,
          4.02e+22
         ],
         "xaxis": "x",
         "y": [
          null,
          38.07,
          6.35,
          null,
          10.13,
          4.96,
          16.41,
          10.86,
          10.67,
          10.55,
          null,
          null,
          null,
          null,
          25.42,
          null,
          null,
          8.35,
          12.47,
          9.34,
          13.99,
          9.49
         ],
         "yaxis": "y"
        },
        {
         "hovertemplate": "Model accessibility=Open access (restricted use)<br>Training compute (FLOP)=%{x}<br>Perplexity (WT2)=%{y}<extra></extra>",
         "legendgroup": "Open access (restricted use)",
         "marker": {
          "color": "#ab63fa",
          "symbol": "circle"
         },
         "mode": "markers",
         "name": "Open access (restricted use)",
         "orientation": "v",
         "showlegend": true,
         "textposition": "middle left",
         "type": "scatter",
         "x": [
          null,
          null,
          null,
          null,
          1.48e+22
         ],
         "xaxis": "x",
         "y": [
          23.7,
          30.05,
          20.17,
          17.57,
          14.72
         ],
         "yaxis": "y"
        },
        {
         "hovertemplate": "Model accessibility=API access<br>Training compute (FLOP)=%{x}<br>Perplexity (WT2)=%{y}<extra></extra>",
         "legendgroup": "API access",
         "marker": {
          "color": "#FFA15A",
          "symbol": "circle"
         },
         "mode": "markers",
         "name": "API access",
         "orientation": "v",
         "showlegend": true,
         "textposition": "middle left",
         "type": "scatter",
         "x": [
          3.14e+23
         ],
         "xaxis": "x",
         "y": [
          null
         ],
         "yaxis": "y"
        }
       ],
       "layout": {
        "legend": {
         "title": {
          "text": "Model accessibility"
         },
         "tracegroupgap": 0
        },
        "margin": {
         "t": 60
        },
        "template": {
         "data": {
          "bar": [
           {
            "error_x": {
             "color": "#2a3f5f"
            },
            "error_y": {
             "color": "#2a3f5f"
            },
            "marker": {
             "line": {
              "color": "#E5ECF6",
              "width": 0.5
             },
             "pattern": {
              "fillmode": "overlay",
              "size": 10,
              "solidity": 0.2
             }
            },
            "type": "bar"
           }
          ],
          "barpolar": [
           {
            "marker": {
             "line": {
              "color": "#E5ECF6",
              "width": 0.5
             },
             "pattern": {
              "fillmode": "overlay",
              "size": 10,
              "solidity": 0.2
             }
            },
            "type": "barpolar"
           }
          ],
          "carpet": [
           {
            "aaxis": {
             "endlinecolor": "#2a3f5f",
             "gridcolor": "white",
             "linecolor": "white",
             "minorgridcolor": "white",
             "startlinecolor": "#2a3f5f"
            },
            "baxis": {
             "endlinecolor": "#2a3f5f",
             "gridcolor": "white",
             "linecolor": "white",
             "minorgridcolor": "white",
             "startlinecolor": "#2a3f5f"
            },
            "type": "carpet"
           }
          ],
          "choropleth": [
           {
            "colorbar": {
             "outlinewidth": 0,
             "ticks": ""
            },
            "type": "choropleth"
           }
          ],
          "contour": [
           {
            "colorbar": {
             "outlinewidth": 0,
             "ticks": ""
            },
            "colorscale": [
             [
              0,
              "#0d0887"
             ],
             [
              0.1111111111111111,
              "#46039f"
             ],
             [
              0.2222222222222222,
              "#7201a8"
             ],
             [
              0.3333333333333333,
              "#9c179e"
             ],
             [
              0.4444444444444444,
              "#bd3786"
             ],
             [
              0.5555555555555556,
              "#d8576b"
             ],
             [
              0.6666666666666666,
              "#ed7953"
             ],
             [
              0.7777777777777778,
              "#fb9f3a"
             ],
             [
              0.8888888888888888,
              "#fdca26"
             ],
             [
              1,
              "#f0f921"
             ]
            ],
            "type": "contour"
           }
          ],
          "contourcarpet": [
           {
            "colorbar": {
             "outlinewidth": 0,
             "ticks": ""
            },
            "type": "contourcarpet"
           }
          ],
          "heatmap": [
           {
            "colorbar": {
             "outlinewidth": 0,
             "ticks": ""
            },
            "colorscale": [
             [
              0,
              "#0d0887"
             ],
             [
              0.1111111111111111,
              "#46039f"
             ],
             [
              0.2222222222222222,
              "#7201a8"
             ],
             [
              0.3333333333333333,
              "#9c179e"
             ],
             [
              0.4444444444444444,
              "#bd3786"
             ],
             [
              0.5555555555555556,
              "#d8576b"
             ],
             [
              0.6666666666666666,
              "#ed7953"
             ],
             [
              0.7777777777777778,
              "#fb9f3a"
             ],
             [
              0.8888888888888888,
              "#fdca26"
             ],
             [
              1,
              "#f0f921"
             ]
            ],
            "type": "heatmap"
           }
          ],
          "heatmapgl": [
           {
            "colorbar": {
             "outlinewidth": 0,
             "ticks": ""
            },
            "colorscale": [
             [
              0,
              "#0d0887"
             ],
             [
              0.1111111111111111,
              "#46039f"
             ],
             [
              0.2222222222222222,
              "#7201a8"
             ],
             [
              0.3333333333333333,
              "#9c179e"
             ],
             [
              0.4444444444444444,
              "#bd3786"
             ],
             [
              0.5555555555555556,
              "#d8576b"
             ],
             [
              0.6666666666666666,
              "#ed7953"
             ],
             [
              0.7777777777777778,
              "#fb9f3a"
             ],
             [
              0.8888888888888888,
              "#fdca26"
             ],
             [
              1,
              "#f0f921"
             ]
            ],
            "type": "heatmapgl"
           }
          ],
          "histogram": [
           {
            "marker": {
             "pattern": {
              "fillmode": "overlay",
              "size": 10,
              "solidity": 0.2
             }
            },
            "type": "histogram"
           }
          ],
          "histogram2d": [
           {
            "colorbar": {
             "outlinewidth": 0,
             "ticks": ""
            },
            "colorscale": [
             [
              0,
              "#0d0887"
             ],
             [
              0.1111111111111111,
              "#46039f"
             ],
             [
              0.2222222222222222,
              "#7201a8"
             ],
             [
              0.3333333333333333,
              "#9c179e"
             ],
             [
              0.4444444444444444,
              "#bd3786"
             ],
             [
              0.5555555555555556,
              "#d8576b"
             ],
             [
              0.6666666666666666,
              "#ed7953"
             ],
             [
              0.7777777777777778,
              "#fb9f3a"
             ],
             [
              0.8888888888888888,
              "#fdca26"
             ],
             [
              1,
              "#f0f921"
             ]
            ],
            "type": "histogram2d"
           }
          ],
          "histogram2dcontour": [
           {
            "colorbar": {
             "outlinewidth": 0,
             "ticks": ""
            },
            "colorscale": [
             [
              0,
              "#0d0887"
             ],
             [
              0.1111111111111111,
              "#46039f"
             ],
             [
              0.2222222222222222,
              "#7201a8"
             ],
             [
              0.3333333333333333,
              "#9c179e"
             ],
             [
              0.4444444444444444,
              "#bd3786"
             ],
             [
              0.5555555555555556,
              "#d8576b"
             ],
             [
              0.6666666666666666,
              "#ed7953"
             ],
             [
              0.7777777777777778,
              "#fb9f3a"
             ],
             [
              0.8888888888888888,
              "#fdca26"
             ],
             [
              1,
              "#f0f921"
             ]
            ],
            "type": "histogram2dcontour"
           }
          ],
          "mesh3d": [
           {
            "colorbar": {
             "outlinewidth": 0,
             "ticks": ""
            },
            "type": "mesh3d"
           }
          ],
          "parcoords": [
           {
            "line": {
             "colorbar": {
              "outlinewidth": 0,
              "ticks": ""
             }
            },
            "type": "parcoords"
           }
          ],
          "pie": [
           {
            "automargin": true,
            "type": "pie"
           }
          ],
          "scatter": [
           {
            "fillpattern": {
             "fillmode": "overlay",
             "size": 10,
             "solidity": 0.2
            },
            "type": "scatter"
           }
          ],
          "scatter3d": [
           {
            "line": {
             "colorbar": {
              "outlinewidth": 0,
              "ticks": ""
             }
            },
            "marker": {
             "colorbar": {
              "outlinewidth": 0,
              "ticks": ""
             }
            },
            "type": "scatter3d"
           }
          ],
          "scattercarpet": [
           {
            "marker": {
             "colorbar": {
              "outlinewidth": 0,
              "ticks": ""
             }
            },
            "type": "scattercarpet"
           }
          ],
          "scattergeo": [
           {
            "marker": {
             "colorbar": {
              "outlinewidth": 0,
              "ticks": ""
             }
            },
            "type": "scattergeo"
           }
          ],
          "scattergl": [
           {
            "marker": {
             "colorbar": {
              "outlinewidth": 0,
              "ticks": ""
             }
            },
            "type": "scattergl"
           }
          ],
          "scattermapbox": [
           {
            "marker": {
             "colorbar": {
              "outlinewidth": 0,
              "ticks": ""
             }
            },
            "type": "scattermapbox"
           }
          ],
          "scatterpolar": [
           {
            "marker": {
             "colorbar": {
              "outlinewidth": 0,
              "ticks": ""
             }
            },
            "type": "scatterpolar"
           }
          ],
          "scatterpolargl": [
           {
            "marker": {
             "colorbar": {
              "outlinewidth": 0,
              "ticks": ""
             }
            },
            "type": "scatterpolargl"
           }
          ],
          "scatterternary": [
           {
            "marker": {
             "colorbar": {
              "outlinewidth": 0,
              "ticks": ""
             }
            },
            "type": "scatterternary"
           }
          ],
          "surface": [
           {
            "colorbar": {
             "outlinewidth": 0,
             "ticks": ""
            },
            "colorscale": [
             [
              0,
              "#0d0887"
             ],
             [
              0.1111111111111111,
              "#46039f"
             ],
             [
              0.2222222222222222,
              "#7201a8"
             ],
             [
              0.3333333333333333,
              "#9c179e"
             ],
             [
              0.4444444444444444,
              "#bd3786"
             ],
             [
              0.5555555555555556,
              "#d8576b"
             ],
             [
              0.6666666666666666,
              "#ed7953"
             ],
             [
              0.7777777777777778,
              "#fb9f3a"
             ],
             [
              0.8888888888888888,
              "#fdca26"
             ],
             [
              1,
              "#f0f921"
             ]
            ],
            "type": "surface"
           }
          ],
          "table": [
           {
            "cells": {
             "fill": {
              "color": "#EBF0F8"
             },
             "line": {
              "color": "white"
             }
            },
            "header": {
             "fill": {
              "color": "#C8D4E3"
             },
             "line": {
              "color": "white"
             }
            },
            "type": "table"
           }
          ]
         },
         "layout": {
          "annotationdefaults": {
           "arrowcolor": "#2a3f5f",
           "arrowhead": 0,
           "arrowwidth": 1
          },
          "autotypenumbers": "strict",
          "coloraxis": {
           "colorbar": {
            "outlinewidth": 0,
            "ticks": ""
           }
          },
          "colorscale": {
           "diverging": [
            [
             0,
             "#8e0152"
            ],
            [
             0.1,
             "#c51b7d"
            ],
            [
             0.2,
             "#de77ae"
            ],
            [
             0.3,
             "#f1b6da"
            ],
            [
             0.4,
             "#fde0ef"
            ],
            [
             0.5,
             "#f7f7f7"
            ],
            [
             0.6,
             "#e6f5d0"
            ],
            [
             0.7,
             "#b8e186"
            ],
            [
             0.8,
             "#7fbc41"
            ],
            [
             0.9,
             "#4d9221"
            ],
            [
             1,
             "#276419"
            ]
           ],
           "sequential": [
            [
             0,
             "#0d0887"
            ],
            [
             0.1111111111111111,
             "#46039f"
            ],
            [
             0.2222222222222222,
             "#7201a8"
            ],
            [
             0.3333333333333333,
             "#9c179e"
            ],
            [
             0.4444444444444444,
             "#bd3786"
            ],
            [
             0.5555555555555556,
             "#d8576b"
            ],
            [
             0.6666666666666666,
             "#ed7953"
            ],
            [
             0.7777777777777778,
             "#fb9f3a"
            ],
            [
             0.8888888888888888,
             "#fdca26"
            ],
            [
             1,
             "#f0f921"
            ]
           ],
           "sequentialminus": [
            [
             0,
             "#0d0887"
            ],
            [
             0.1111111111111111,
             "#46039f"
            ],
            [
             0.2222222222222222,
             "#7201a8"
            ],
            [
             0.3333333333333333,
             "#9c179e"
            ],
            [
             0.4444444444444444,
             "#bd3786"
            ],
            [
             0.5555555555555556,
             "#d8576b"
            ],
            [
             0.6666666666666666,
             "#ed7953"
            ],
            [
             0.7777777777777778,
             "#fb9f3a"
            ],
            [
             0.8888888888888888,
             "#fdca26"
            ],
            [
             1,
             "#f0f921"
            ]
           ]
          },
          "colorway": [
           "#636efa",
           "#EF553B",
           "#00cc96",
           "#ab63fa",
           "#FFA15A",
           "#19d3f3",
           "#FF6692",
           "#B6E880",
           "#FF97FF",
           "#FECB52"
          ],
          "font": {
           "color": "#2a3f5f"
          },
          "geo": {
           "bgcolor": "white",
           "lakecolor": "white",
           "landcolor": "#E5ECF6",
           "showlakes": true,
           "showland": true,
           "subunitcolor": "white"
          },
          "hoverlabel": {
           "align": "left"
          },
          "hovermode": "closest",
          "mapbox": {
           "style": "light"
          },
          "paper_bgcolor": "white",
          "plot_bgcolor": "#E5ECF6",
          "polar": {
           "angularaxis": {
            "gridcolor": "white",
            "linecolor": "white",
            "ticks": ""
           },
           "bgcolor": "#E5ECF6",
           "radialaxis": {
            "gridcolor": "white",
            "linecolor": "white",
            "ticks": ""
           }
          },
          "scene": {
           "xaxis": {
            "backgroundcolor": "#E5ECF6",
            "gridcolor": "white",
            "gridwidth": 2,
            "linecolor": "white",
            "showbackground": true,
            "ticks": "",
            "zerolinecolor": "white"
           },
           "yaxis": {
            "backgroundcolor": "#E5ECF6",
            "gridcolor": "white",
            "gridwidth": 2,
            "linecolor": "white",
            "showbackground": true,
            "ticks": "",
            "zerolinecolor": "white"
           },
           "zaxis": {
            "backgroundcolor": "#E5ECF6",
            "gridcolor": "white",
            "gridwidth": 2,
            "linecolor": "white",
            "showbackground": true,
            "ticks": "",
            "zerolinecolor": "white"
           }
          },
          "shapedefaults": {
           "line": {
            "color": "#2a3f5f"
           }
          },
          "ternary": {
           "aaxis": {
            "gridcolor": "white",
            "linecolor": "white",
            "ticks": ""
           },
           "baxis": {
            "gridcolor": "white",
            "linecolor": "white",
            "ticks": ""
           },
           "bgcolor": "#E5ECF6",
           "caxis": {
            "gridcolor": "white",
            "linecolor": "white",
            "ticks": ""
           }
          },
          "title": {
           "x": 0.05
          },
          "xaxis": {
           "automargin": true,
           "gridcolor": "white",
           "linecolor": "white",
           "ticks": "",
           "title": {
            "standoff": 15
           },
           "zerolinecolor": "white",
           "zerolinewidth": 2
          },
          "yaxis": {
           "automargin": true,
           "gridcolor": "white",
           "linecolor": "white",
           "ticks": "",
           "title": {
            "standoff": 15
           },
           "zerolinecolor": "white",
           "zerolinewidth": 2
          }
         }
        },
        "xaxis": {
         "anchor": "y",
         "domain": [
          0,
          1
         ],
         "title": {
          "text": "Training compute (FLOP)"
         },
         "type": "log"
        },
        "yaxis": {
         "anchor": "x",
         "domain": [
          0,
          1
         ],
         "title": {
          "text": "Perplexity (WT2)"
         }
        }
       }
      },
      "text/html": [
       "<div>                            <div id=\"3fb7bbd5-b7c2-4aae-b1d1-638808669205\" class=\"plotly-graph-div\" style=\"height:525px; width:100%;\"></div>            <script type=\"text/javascript\">                require([\"plotly\"], function(Plotly) {                    window.PLOTLYENV=window.PLOTLYENV || {};                                    if (document.getElementById(\"3fb7bbd5-b7c2-4aae-b1d1-638808669205\")) {                    Plotly.newPlot(                        \"3fb7bbd5-b7c2-4aae-b1d1-638808669205\",                        [{\"hovertemplate\":\"Model accessibility=Unreleased\\u003cbr\\u003eTraining compute (FLOP)=%{x}\\u003cbr\\u003ePerplexity (WT2)=%{y}\\u003cextra\\u003e\\u003c\\u002fextra\\u003e\",\"legendgroup\":\"Unreleased\",\"marker\":{\"color\":\"#636efa\",\"symbol\":\"circle\"},\"mode\":\"markers\",\"name\":\"Unreleased\",\"orientation\":\"v\",\"showlegend\":true,\"x\":[8.84e+19,null,7.3e+18,1.58e+18,null,null,3040000000000000.0,5620000000000000.0,2.19e+16,2.32e+18,null,null,null,null,null,null,null,null,null,null,1.92e+16,null,null,4.14e+17,2.4e+19,null,2650000000000000.0,1340000000000000.0,null,null,null,null,3.36e+18,null,null,null,null,null,null,2.78e+19,null,null,null,null,null,null,null,6.2e+18,3.1e+18,1.2e+19,null,4210000000000000.0,null,null,null,3.17e+16,null,null,1920000000000000.0,null,null,null,3.31e+16,null,1.1e+19,null,1.61e+20,null,null,1.68e+16,null,4.3599999999999993e+20,null,null,null,null,null,null,1.6e+20,null,7.3e+18,null,null,7.3e+16,null,null,3570000000000000.0,null,null,null,null,282000000000000.0,null,1.05e+16,null,1.06e+16,5.21e+20,213000000000000.0,null,4.4e+16,null,null,null,9.85e+16,null,8400000000000000.0,null,null,null,2.0099999999999996e+16,1.6e+21,null,4.41e+19,null,null,null,null,null,null,null,null,6.1e+19,3150000000000000.0,7.14e+18,1.2e+22,null,null,null,null,null,null,null,null,null,null,2.13e+16,1.58e+23,null,1.1e+16,null,4.37e+17,null,null,null,8.34e+20,null,null,null,null,null,null,8.2e+19,null,5.62e+17,1.04e+19,null,1.27e+17,null,null,null,null,null,null,null,null,null,3.09e+17,9.1e+21,null,1.28e+16,null,1.2e+22,1.09e+17,7.36e+18,null,6.31e+23,null,3.04e+18,6.06e+18,5.62e+17,null,null,7.3e+18,null,null,null,2.1e+16,null,null,null,null,2.4e+19,1020000000000000.0,null,1.3899999999999998e+17,null,1.46e+16,null,2.68e+16,null,null,null,null,null,227000000000000.0,4.76e+18,null,null,2.78e+18,4.3e+17,4.74e+17,null,null,null,null,9.1e+16,2.4e+16,1.28e+22,1.1699999999999998e+20,3400000000000000.0,null,6e+20,null,null,null,null,null,null,null,null,null,null,4.6e+19,null,null,null,null,null,null,5.76e+23,null,null,null,null,null,1.68e+22,1.58e+20,null,1.27e+17,7.59e+16,2.89e+18,4.5999999999999994e+17,null,5.3e+18,3.6e+17,7.39e+17,3.45e+20,null,1.24e+20,null,null,2.65e+19,3.2e+21,null,3340000000000000.0,null,null,null,3.89e+18,null,null,6.67e+18,null,null,null,2.31e+18,1.1e+18,null,null,null,null,null,null,null,null,1.57e+22,null,null,3310000000000000.0,7490000000000000.0,null,2009999999999999.5,8.039999999999998e+18,null,2.4e+17,null,null,501999999999999.94,null,null,null,7.3e+18,null,1.2e+20],\"xaxis\":\"x\",\"y\":[null,null,null,null,null,null,null,null,86.8,null,57.85,null,65.2,null,199.4,null,null,null,null,null,15.17,null,null,null,null,null,null,null,null,null,null,4.27,null,null,null,null,null,null,null,null,null,null,null,null,null,null,null,null,null,null,81.0,null,null,72.4,64.73,31.8,null,null,null,80.8,null,null,null,null,null,null,null,null,null,100.9,null,null,null,null,null,null,null,null,null,null,null,null,null,null,null,null,null,null,null,86.85,null,null,null,null,null,null,null,null,null,null,null,null,null,64.1,null,null,null,null,63.7,null,null,null,null,null,null,null,74.3,null,null,null,null,null,null,null,null,null,null,66.6,null,null,null,39.14,null,null,null,null,null,null,69.6,5.54,40.68,null,87.84,null,null,59.8,null,null,null,null,null,null,null,40.96,null,null,76.8,null,null,89.16,59.9,94.8,null,6.19,38.6,63.05,52.0,null,null,null,null,null,38.0,null,null,null,null,null,null,62.21,null,82.1,null,null,null,null,null,null,null,40.3,null,null,66.2,6.66,null,98.9,null,null,null,null,null,null,null,null,null,null,null,87.0,null,null,40.46,null,null,null,null,null,85.76,null,null,null,null,null,null,null,null,null,null,197.5,null,null,null,149.35,null,null,44.3,null,null,null,null,null,null,null,13.71,null,10.78,null,null,null,82.9,64.5,null,null,12.09,null,null,61.65,null,68.9,null,null,null,null,null,189.58,null,null,null,null,null,null,65.8,null,null,99.3,null,68.9,null,null,null,null,88.8,null,null,55.6,null,null,null,11.13,51.7,null,null,null,null,null,null,223.44,34.11,null,null,null,null,null,null,null],\"yaxis\":\"y\",\"type\":\"scatter\",\"textposition\":\"middle left\"},{\"hovertemplate\":\"Model accessibility=Open source\\u003cbr\\u003eTraining compute (FLOP)=%{x}\\u003cbr\\u003ePerplexity (WT2)=%{y}\\u003cextra\\u003e\\u003c\\u002fextra\\u003e\",\"legendgroup\":\"Open source\",\"marker\":{\"color\":\"#EF553B\",\"symbol\":\"circle\"},\"mode\":\"markers\",\"name\":\"Open source\",\"orientation\":\"v\",\"showlegend\":true,\"x\":[null,6e+20,null,7.3e+18,null,3.79e+22,null,null,1.5e+22,null,8.1e+20,null,null,null,null,null,null,null,8.16e+17,6.93e+17,null,null,null,5.038000000001e+21,1.2420000000001e+22,null,1.799000000001e+21,null,null,2.8e+19,2.9e+19,null,3.35e+20,2.8790000000100005e+20,7.9e+21,1.26000000001e+20,null,1.1e+19,null,null,null,1.58e+18,9.31627008e+22,2.91e+19,null,null,null,null,7.37700000001e+20,2.1590000000001e+22,null,null,null,null,8.49e+20,4.24e+17,2.5190000000001e+21],\"xaxis\":\"x\",\"y\":[19.85,null,null,null,null,12.0,null,98.2,10.88,null,null,null,14.9,null,null,null,16.3,null,null,53.09,null,null,null,12.69,11.41,null,16.45,null,null,null,null,null,null,33.43,11.39,57.04,null,null,10.27,null,null,null,9.2,null,null,12.22,32.29,20.7,20.11,10.54,58.03,13.1,null,null,null,42.0,14.72],\"yaxis\":\"y\",\"type\":\"scatter\",\"textposition\":\"middle left\"},{\"hovertemplate\":\"Model accessibility=Open access (non-commercial)\\u003cbr\\u003eTraining compute (FLOP)=%{x}\\u003cbr\\u003ePerplexity (WT2)=%{y}\\u003cextra\\u003e\\u003c\\u002fextra\\u003e\",\"legendgroup\":\"Open access (non-commercial)\",\"marker\":{\"color\":\"#00cc96\",\"symbol\":\"circle\"},\"mode\":\"markers\",\"name\":\"Open access (non-commercial)\",\"orientation\":\"v\",\"showlegend\":true,\"x\":[null,3.28e+17,2.7300000000000996e+23,null,2.340000000001e+22,5.5e+23,null,1.2060000000001e+22,5.4000000000001e+22,3.778e+23,3.12e+19,null,null,null,null,1.4e+16,2.65e+19,4.3e+23,null,1.100000000001e+23,4.55e+22,4.02e+22],\"xaxis\":\"x\",\"y\":[null,38.07,6.35,null,10.13,4.96,16.41,10.86,10.67,10.55,null,null,null,null,25.42,null,null,8.35,12.47,9.34,13.99,9.49],\"yaxis\":\"y\",\"type\":\"scatter\",\"textposition\":\"middle left\"},{\"hovertemplate\":\"Model accessibility=Open access (restricted use)\\u003cbr\\u003eTraining compute (FLOP)=%{x}\\u003cbr\\u003ePerplexity (WT2)=%{y}\\u003cextra\\u003e\\u003c\\u002fextra\\u003e\",\"legendgroup\":\"Open access (restricted use)\",\"marker\":{\"color\":\"#ab63fa\",\"symbol\":\"circle\"},\"mode\":\"markers\",\"name\":\"Open access (restricted use)\",\"orientation\":\"v\",\"showlegend\":true,\"x\":[null,null,null,null,1.48e+22],\"xaxis\":\"x\",\"y\":[23.7,30.05,20.17,17.57,14.72],\"yaxis\":\"y\",\"type\":\"scatter\",\"textposition\":\"middle left\"},{\"hovertemplate\":\"Model accessibility=API access\\u003cbr\\u003eTraining compute (FLOP)=%{x}\\u003cbr\\u003ePerplexity (WT2)=%{y}\\u003cextra\\u003e\\u003c\\u002fextra\\u003e\",\"legendgroup\":\"API access\",\"marker\":{\"color\":\"#FFA15A\",\"symbol\":\"circle\"},\"mode\":\"markers\",\"name\":\"API access\",\"orientation\":\"v\",\"showlegend\":true,\"x\":[3.14e+23],\"xaxis\":\"x\",\"y\":[null],\"yaxis\":\"y\",\"type\":\"scatter\",\"textposition\":\"middle left\"}],                        {\"template\":{\"data\":{\"histogram2dcontour\":[{\"type\":\"histogram2dcontour\",\"colorbar\":{\"outlinewidth\":0,\"ticks\":\"\"},\"colorscale\":[[0.0,\"#0d0887\"],[0.1111111111111111,\"#46039f\"],[0.2222222222222222,\"#7201a8\"],[0.3333333333333333,\"#9c179e\"],[0.4444444444444444,\"#bd3786\"],[0.5555555555555556,\"#d8576b\"],[0.6666666666666666,\"#ed7953\"],[0.7777777777777778,\"#fb9f3a\"],[0.8888888888888888,\"#fdca26\"],[1.0,\"#f0f921\"]]}],\"choropleth\":[{\"type\":\"choropleth\",\"colorbar\":{\"outlinewidth\":0,\"ticks\":\"\"}}],\"histogram2d\":[{\"type\":\"histogram2d\",\"colorbar\":{\"outlinewidth\":0,\"ticks\":\"\"},\"colorscale\":[[0.0,\"#0d0887\"],[0.1111111111111111,\"#46039f\"],[0.2222222222222222,\"#7201a8\"],[0.3333333333333333,\"#9c179e\"],[0.4444444444444444,\"#bd3786\"],[0.5555555555555556,\"#d8576b\"],[0.6666666666666666,\"#ed7953\"],[0.7777777777777778,\"#fb9f3a\"],[0.8888888888888888,\"#fdca26\"],[1.0,\"#f0f921\"]]}],\"heatmap\":[{\"type\":\"heatmap\",\"colorbar\":{\"outlinewidth\":0,\"ticks\":\"\"},\"colorscale\":[[0.0,\"#0d0887\"],[0.1111111111111111,\"#46039f\"],[0.2222222222222222,\"#7201a8\"],[0.3333333333333333,\"#9c179e\"],[0.4444444444444444,\"#bd3786\"],[0.5555555555555556,\"#d8576b\"],[0.6666666666666666,\"#ed7953\"],[0.7777777777777778,\"#fb9f3a\"],[0.8888888888888888,\"#fdca26\"],[1.0,\"#f0f921\"]]}],\"heatmapgl\":[{\"type\":\"heatmapgl\",\"colorbar\":{\"outlinewidth\":0,\"ticks\":\"\"},\"colorscale\":[[0.0,\"#0d0887\"],[0.1111111111111111,\"#46039f\"],[0.2222222222222222,\"#7201a8\"],[0.3333333333333333,\"#9c179e\"],[0.4444444444444444,\"#bd3786\"],[0.5555555555555556,\"#d8576b\"],[0.6666666666666666,\"#ed7953\"],[0.7777777777777778,\"#fb9f3a\"],[0.8888888888888888,\"#fdca26\"],[1.0,\"#f0f921\"]]}],\"contourcarpet\":[{\"type\":\"contourcarpet\",\"colorbar\":{\"outlinewidth\":0,\"ticks\":\"\"}}],\"contour\":[{\"type\":\"contour\",\"colorbar\":{\"outlinewidth\":0,\"ticks\":\"\"},\"colorscale\":[[0.0,\"#0d0887\"],[0.1111111111111111,\"#46039f\"],[0.2222222222222222,\"#7201a8\"],[0.3333333333333333,\"#9c179e\"],[0.4444444444444444,\"#bd3786\"],[0.5555555555555556,\"#d8576b\"],[0.6666666666666666,\"#ed7953\"],[0.7777777777777778,\"#fb9f3a\"],[0.8888888888888888,\"#fdca26\"],[1.0,\"#f0f921\"]]}],\"surface\":[{\"type\":\"surface\",\"colorbar\":{\"outlinewidth\":0,\"ticks\":\"\"},\"colorscale\":[[0.0,\"#0d0887\"],[0.1111111111111111,\"#46039f\"],[0.2222222222222222,\"#7201a8\"],[0.3333333333333333,\"#9c179e\"],[0.4444444444444444,\"#bd3786\"],[0.5555555555555556,\"#d8576b\"],[0.6666666666666666,\"#ed7953\"],[0.7777777777777778,\"#fb9f3a\"],[0.8888888888888888,\"#fdca26\"],[1.0,\"#f0f921\"]]}],\"mesh3d\":[{\"type\":\"mesh3d\",\"colorbar\":{\"outlinewidth\":0,\"ticks\":\"\"}}],\"scatter\":[{\"fillpattern\":{\"fillmode\":\"overlay\",\"size\":10,\"solidity\":0.2},\"type\":\"scatter\"}],\"parcoords\":[{\"type\":\"parcoords\",\"line\":{\"colorbar\":{\"outlinewidth\":0,\"ticks\":\"\"}}}],\"scatterpolargl\":[{\"type\":\"scatterpolargl\",\"marker\":{\"colorbar\":{\"outlinewidth\":0,\"ticks\":\"\"}}}],\"bar\":[{\"error_x\":{\"color\":\"#2a3f5f\"},\"error_y\":{\"color\":\"#2a3f5f\"},\"marker\":{\"line\":{\"color\":\"#E5ECF6\",\"width\":0.5},\"pattern\":{\"fillmode\":\"overlay\",\"size\":10,\"solidity\":0.2}},\"type\":\"bar\"}],\"scattergeo\":[{\"type\":\"scattergeo\",\"marker\":{\"colorbar\":{\"outlinewidth\":0,\"ticks\":\"\"}}}],\"scatterpolar\":[{\"type\":\"scatterpolar\",\"marker\":{\"colorbar\":{\"outlinewidth\":0,\"ticks\":\"\"}}}],\"histogram\":[{\"marker\":{\"pattern\":{\"fillmode\":\"overlay\",\"size\":10,\"solidity\":0.2}},\"type\":\"histogram\"}],\"scattergl\":[{\"type\":\"scattergl\",\"marker\":{\"colorbar\":{\"outlinewidth\":0,\"ticks\":\"\"}}}],\"scatter3d\":[{\"type\":\"scatter3d\",\"line\":{\"colorbar\":{\"outlinewidth\":0,\"ticks\":\"\"}},\"marker\":{\"colorbar\":{\"outlinewidth\":0,\"ticks\":\"\"}}}],\"scattermapbox\":[{\"type\":\"scattermapbox\",\"marker\":{\"colorbar\":{\"outlinewidth\":0,\"ticks\":\"\"}}}],\"scatterternary\":[{\"type\":\"scatterternary\",\"marker\":{\"colorbar\":{\"outlinewidth\":0,\"ticks\":\"\"}}}],\"scattercarpet\":[{\"type\":\"scattercarpet\",\"marker\":{\"colorbar\":{\"outlinewidth\":0,\"ticks\":\"\"}}}],\"carpet\":[{\"aaxis\":{\"endlinecolor\":\"#2a3f5f\",\"gridcolor\":\"white\",\"linecolor\":\"white\",\"minorgridcolor\":\"white\",\"startlinecolor\":\"#2a3f5f\"},\"baxis\":{\"endlinecolor\":\"#2a3f5f\",\"gridcolor\":\"white\",\"linecolor\":\"white\",\"minorgridcolor\":\"white\",\"startlinecolor\":\"#2a3f5f\"},\"type\":\"carpet\"}],\"table\":[{\"cells\":{\"fill\":{\"color\":\"#EBF0F8\"},\"line\":{\"color\":\"white\"}},\"header\":{\"fill\":{\"color\":\"#C8D4E3\"},\"line\":{\"color\":\"white\"}},\"type\":\"table\"}],\"barpolar\":[{\"marker\":{\"line\":{\"color\":\"#E5ECF6\",\"width\":0.5},\"pattern\":{\"fillmode\":\"overlay\",\"size\":10,\"solidity\":0.2}},\"type\":\"barpolar\"}],\"pie\":[{\"automargin\":true,\"type\":\"pie\"}]},\"layout\":{\"autotypenumbers\":\"strict\",\"colorway\":[\"#636efa\",\"#EF553B\",\"#00cc96\",\"#ab63fa\",\"#FFA15A\",\"#19d3f3\",\"#FF6692\",\"#B6E880\",\"#FF97FF\",\"#FECB52\"],\"font\":{\"color\":\"#2a3f5f\"},\"hovermode\":\"closest\",\"hoverlabel\":{\"align\":\"left\"},\"paper_bgcolor\":\"white\",\"plot_bgcolor\":\"#E5ECF6\",\"polar\":{\"bgcolor\":\"#E5ECF6\",\"angularaxis\":{\"gridcolor\":\"white\",\"linecolor\":\"white\",\"ticks\":\"\"},\"radialaxis\":{\"gridcolor\":\"white\",\"linecolor\":\"white\",\"ticks\":\"\"}},\"ternary\":{\"bgcolor\":\"#E5ECF6\",\"aaxis\":{\"gridcolor\":\"white\",\"linecolor\":\"white\",\"ticks\":\"\"},\"baxis\":{\"gridcolor\":\"white\",\"linecolor\":\"white\",\"ticks\":\"\"},\"caxis\":{\"gridcolor\":\"white\",\"linecolor\":\"white\",\"ticks\":\"\"}},\"coloraxis\":{\"colorbar\":{\"outlinewidth\":0,\"ticks\":\"\"}},\"colorscale\":{\"sequential\":[[0.0,\"#0d0887\"],[0.1111111111111111,\"#46039f\"],[0.2222222222222222,\"#7201a8\"],[0.3333333333333333,\"#9c179e\"],[0.4444444444444444,\"#bd3786\"],[0.5555555555555556,\"#d8576b\"],[0.6666666666666666,\"#ed7953\"],[0.7777777777777778,\"#fb9f3a\"],[0.8888888888888888,\"#fdca26\"],[1.0,\"#f0f921\"]],\"sequentialminus\":[[0.0,\"#0d0887\"],[0.1111111111111111,\"#46039f\"],[0.2222222222222222,\"#7201a8\"],[0.3333333333333333,\"#9c179e\"],[0.4444444444444444,\"#bd3786\"],[0.5555555555555556,\"#d8576b\"],[0.6666666666666666,\"#ed7953\"],[0.7777777777777778,\"#fb9f3a\"],[0.8888888888888888,\"#fdca26\"],[1.0,\"#f0f921\"]],\"diverging\":[[0,\"#8e0152\"],[0.1,\"#c51b7d\"],[0.2,\"#de77ae\"],[0.3,\"#f1b6da\"],[0.4,\"#fde0ef\"],[0.5,\"#f7f7f7\"],[0.6,\"#e6f5d0\"],[0.7,\"#b8e186\"],[0.8,\"#7fbc41\"],[0.9,\"#4d9221\"],[1,\"#276419\"]]},\"xaxis\":{\"gridcolor\":\"white\",\"linecolor\":\"white\",\"ticks\":\"\",\"title\":{\"standoff\":15},\"zerolinecolor\":\"white\",\"automargin\":true,\"zerolinewidth\":2},\"yaxis\":{\"gridcolor\":\"white\",\"linecolor\":\"white\",\"ticks\":\"\",\"title\":{\"standoff\":15},\"zerolinecolor\":\"white\",\"automargin\":true,\"zerolinewidth\":2},\"scene\":{\"xaxis\":{\"backgroundcolor\":\"#E5ECF6\",\"gridcolor\":\"white\",\"linecolor\":\"white\",\"showbackground\":true,\"ticks\":\"\",\"zerolinecolor\":\"white\",\"gridwidth\":2},\"yaxis\":{\"backgroundcolor\":\"#E5ECF6\",\"gridcolor\":\"white\",\"linecolor\":\"white\",\"showbackground\":true,\"ticks\":\"\",\"zerolinecolor\":\"white\",\"gridwidth\":2},\"zaxis\":{\"backgroundcolor\":\"#E5ECF6\",\"gridcolor\":\"white\",\"linecolor\":\"white\",\"showbackground\":true,\"ticks\":\"\",\"zerolinecolor\":\"white\",\"gridwidth\":2}},\"shapedefaults\":{\"line\":{\"color\":\"#2a3f5f\"}},\"annotationdefaults\":{\"arrowcolor\":\"#2a3f5f\",\"arrowhead\":0,\"arrowwidth\":1},\"geo\":{\"bgcolor\":\"white\",\"landcolor\":\"#E5ECF6\",\"subunitcolor\":\"white\",\"showland\":true,\"showlakes\":true,\"lakecolor\":\"white\"},\"title\":{\"x\":0.05},\"mapbox\":{\"style\":\"light\"}}},\"xaxis\":{\"anchor\":\"y\",\"domain\":[0.0,1.0],\"title\":{\"text\":\"Training compute (FLOP)\"},\"type\":\"log\"},\"yaxis\":{\"anchor\":\"x\",\"domain\":[0.0,1.0],\"title\":{\"text\":\"Perplexity (WT2)\"}},\"legend\":{\"title\":{\"text\":\"Model accessibility\"},\"tracegroupgap\":0},\"margin\":{\"t\":60}},                        {\"responsive\": true}                    ).then(function(){\n",
       "                            \n",
       "var gd = document.getElementById('3fb7bbd5-b7c2-4aae-b1d1-638808669205');\n",
       "var x = new MutationObserver(function (mutations, observer) {{\n",
       "        var display = window.getComputedStyle(gd).display;\n",
       "        if (!display || display === 'none') {{\n",
       "            console.log([gd, 'removed!']);\n",
       "            Plotly.purge(gd);\n",
       "            observer.disconnect();\n",
       "        }}\n",
       "}});\n",
       "\n",
       "// Listen for the removal of the full notebook cells\n",
       "var notebookContainer = gd.closest('#notebook-container');\n",
       "if (notebookContainer) {{\n",
       "    x.observe(notebookContainer, {childList: true});\n",
       "}}\n",
       "\n",
       "// Listen for the clearing of the current output cell\n",
       "var outputEl = gd.closest('.output');\n",
       "if (outputEl) {{\n",
       "    x.observe(outputEl, {childList: true});\n",
       "}}\n",
       "\n",
       "                        })                };                });            </script>        </div>"
      ]
     },
     "metadata": {},
     "output_type": "display_data"
    }
   ],
   "source": [
    "fig = px.scatter(\n",
    "    filtered_benchmark_df,\n",
    "    x='Training compute (FLOP)',\n",
    "    y='Perplexity (WT2)',\n",
    "    color='Model accessibility',\n",
    "    # text=filtered_benchmark_df.index\n",
    ")\n",
    "\n",
    "# Log x-axis\n",
    "fig.update_xaxes(type='log')\n",
    "\n",
    "# Move text to top\n",
    "fig.update_traces(textposition='middle left')\n",
    "\n",
    "save_plot(fig, results_dir, 'WT2_vs_compute')\n",
    "\n",
    "fig.show()"
   ]
  },
  {
   "cell_type": "code",
   "execution_count": 23,
   "metadata": {},
   "outputs": [
    {
     "data": {
      "application/vnd.plotly.v1+json": {
       "config": {
        "plotlyServerURL": "https://plot.ly"
       },
       "data": [
        {
         "hovertemplate": "Model accessibility=Unreleased<br>Training compute (FLOP)=%{x}<br>Perplexity (PTB)=%{y}<extra></extra>",
         "legendgroup": "Unreleased",
         "marker": {
          "color": "#636efa",
          "symbol": "circle"
         },
         "mode": "markers",
         "name": "Unreleased",
         "orientation": "v",
         "showlegend": true,
         "textposition": "middle left",
         "type": "scatter",
         "x": [
          88400000000000000000,
          null,
          7300000000000000000,
          1580000000000000000,
          null,
          null,
          3040000000000000,
          5620000000000000,
          21900000000000000,
          2320000000000000000,
          null,
          null,
          null,
          null,
          null,
          null,
          null,
          null,
          null,
          null,
          19200000000000000,
          null,
          null,
          414000000000000000,
          24000000000000000000,
          null,
          2650000000000000,
          1340000000000000,
          null,
          null,
          null,
          null,
          3360000000000000000,
          null,
          null,
          null,
          null,
          null,
          null,
          27800000000000000000,
          null,
          null,
          null,
          null,
          null,
          null,
          null,
          6200000000000000000,
          3100000000000000000,
          12000000000000000000,
          null,
          4210000000000000,
          null,
          null,
          null,
          31700000000000000,
          null,
          null,
          1920000000000000,
          null,
          null,
          null,
          33100000000000000,
          null,
          11000000000000000000,
          null,
          161000000000000000000,
          null,
          null,
          16800000000000000,
          null,
          435999999999999930000,
          null,
          null,
          null,
          null,
          null,
          null,
          160000000000000000000,
          null,
          7300000000000000000,
          null,
          null,
          73000000000000000,
          null,
          null,
          3570000000000000,
          null,
          null,
          null,
          null,
          282000000000000,
          null,
          10500000000000000,
          null,
          10600000000000000,
          521000000000000000000,
          213000000000000,
          null,
          44000000000000000,
          null,
          null,
          null,
          98500000000000000,
          null,
          8400000000000000,
          null,
          null,
          null,
          20099999999999996,
          1.6e+21,
          null,
          44100000000000000000,
          null,
          null,
          null,
          null,
          null,
          null,
          null,
          null,
          61000000000000000000,
          3150000000000000,
          7140000000000000000,
          1.2e+22,
          null,
          null,
          null,
          null,
          null,
          null,
          null,
          null,
          null,
          null,
          21300000000000000,
          1.58e+23,
          null,
          11000000000000000,
          null,
          437000000000000000,
          null,
          null,
          null,
          834000000000000000000,
          null,
          null,
          null,
          null,
          null,
          null,
          82000000000000000000,
          null,
          562000000000000000,
          10400000000000000000,
          null,
          127000000000000000,
          null,
          null,
          null,
          null,
          null,
          null,
          null,
          null,
          null,
          309000000000000000,
          9.1e+21,
          null,
          12800000000000000,
          null,
          1.2e+22,
          109000000000000000,
          7360000000000000000,
          null,
          6.31e+23,
          null,
          3040000000000000000,
          6060000000000000000,
          562000000000000000,
          null,
          null,
          7300000000000000000,
          null,
          null,
          null,
          21000000000000000,
          null,
          null,
          null,
          null,
          24000000000000000000,
          1020000000000000,
          null,
          138999999999999980,
          null,
          14600000000000000,
          null,
          26800000000000000,
          null,
          null,
          null,
          null,
          null,
          227000000000000,
          4760000000000000000,
          null,
          null,
          2780000000000000000,
          430000000000000000,
          474000000000000000,
          null,
          null,
          null,
          null,
          91000000000000000,
          24000000000000000,
          1.28e+22,
          116999999999999980000,
          3400000000000000,
          null,
          600000000000000000000,
          null,
          null,
          null,
          null,
          null,
          null,
          null,
          null,
          null,
          null,
          46000000000000000000,
          null,
          null,
          null,
          null,
          null,
          null,
          5.76e+23,
          null,
          null,
          null,
          null,
          null,
          1.68e+22,
          158000000000000000000,
          null,
          127000000000000000,
          75900000000000000,
          2890000000000000000,
          459999999999999940,
          null,
          5300000000000000000,
          360000000000000000,
          739000000000000000,
          345000000000000000000,
          null,
          124000000000000000000,
          null,
          null,
          26500000000000000000,
          3.2e+21,
          null,
          3340000000000000,
          null,
          null,
          null,
          3890000000000000000,
          null,
          null,
          6670000000000000000,
          null,
          null,
          null,
          2310000000000000000,
          1100000000000000000,
          null,
          null,
          null,
          null,
          null,
          null,
          null,
          null,
          1.57e+22,
          null,
          null,
          3310000000000000,
          7490000000000000,
          null,
          2009999999999999.5,
          8039999999999998000,
          null,
          240000000000000000,
          null,
          null,
          501999999999999.94,
          null,
          null,
          null,
          7300000000000000000,
          null,
          120000000000000000000
         ],
         "xaxis": "x",
         "y": [
          null,
          null,
          null,
          null,
          null,
          null,
          98.67,
          73.4,
          null,
          null,
          null,
          77.8,
          null,
          94,
          null,
          82.1,
          null,
          14.7,
          124.7,
          null,
          null,
          72.1,
          102,
          null,
          null,
          47.42,
          78.9,
          72.24,
          null,
          null,
          52.7,
          null,
          null,
          null,
          null,
          null,
          null,
          55.7,
          65.4,
          null,
          null,
          null,
          141.2,
          117.66,
          47.6,
          null,
          null,
          null,
          null,
          null,
          null,
          117,
          57.9,
          null,
          null,
          null,
          63.5,
          42.9,
          52.12,
          null,
          66.1,
          null,
          78.29,
          66.2,
          null,
          56.92,
          null,
          55.3,
          null,
          null,
          57.36,
          null,
          47.6,
          118,
          null,
          null,
          46.01,
          100,
          null,
          null,
          null,
          120.12,
          null,
          106.3,
          82.3,
          52.5,
          68.5,
          78.68,
          92,
          null,
          74.69,
          115,
          64.03,
          62.4,
          54.48,
          68.7,
          31.34,
          103.5,
          107.5,
          80.6,
          null,
          44.8,
          null,
          null,
          7.68,
          84.38,
          null,
          46.34,
          null,
          55.8,
          null,
          26.92,
          null,
          null,
          53,
          109.32,
          null,
          92,
          null,
          107.5,
          null,
          null,
          117.56,
          null,
          null,
          null,
          null,
          null,
          125,
          108.7,
          null,
          null,
          null,
          83,
          100,
          68.5,
          null,
          56.46,
          null,
          8.64,
          null,
          null,
          null,
          51.5,
          null,
          null,
          null,
          54.8,
          114.5,
          null,
          54.8,
          null,
          null,
          null,
          null,
          null,
          null,
          128.35,
          55.3,
          null,
          null,
          null,
          null,
          9.69,
          null,
          null,
          null,
          null,
          108,
          78.3,
          null,
          null,
          null,
          null,
          115.9,
          null,
          93,
          null,
          null,
          null,
          null,
          null,
          null,
          54,
          47.3,
          52.8,
          null,
          null,
          54.52,
          null,
          90.17,
          null,
          null,
          null,
          55.7,
          null,
          82.49,
          null,
          58.77,
          null,
          37.49,
          null,
          null,
          null,
          129.4,
          null,
          166,
          null,
          null,
          null,
          null,
          null,
          61.7,
          null,
          76.8,
          78.4,
          null,
          null,
          null,
          65.4,
          null,
          null,
          54.9,
          47.69,
          null,
          null,
          null,
          null,
          100,
          null,
          null,
          null,
          null,
          113.7,
          null,
          52,
          80.6,
          57.72,
          56.82,
          null,
          null,
          75.8,
          null,
          55.82,
          null,
          null,
          null,
          null,
          null,
          null,
          null,
          null,
          null,
          null,
          null,
          null,
          null,
          null,
          null,
          45.6,
          54.2,
          null,
          null,
          null,
          79.83,
          null,
          56.8,
          49.95,
          null,
          null,
          null,
          null,
          63.6,
          null,
          57,
          null,
          null,
          78.75,
          72.9,
          54.69,
          null,
          115,
          null,
          null,
          null,
          null,
          67.8,
          null,
          null,
          70.9,
          83.6,
          77.12,
          null,
          57.1,
          null,
          null,
          null,
          159.1,
          null,
          null,
          128.78,
          null,
          51.1,
          null
         ],
         "yaxis": "y"
        },
        {
         "hovertemplate": "Model accessibility=Open source<br>Training compute (FLOP)=%{x}<br>Perplexity (PTB)=%{y}<extra></extra>",
         "legendgroup": "Open source",
         "marker": {
          "color": "#EF553B",
          "symbol": "circle"
         },
         "mode": "markers",
         "name": "Open source",
         "orientation": "v",
         "showlegend": true,
         "textposition": "middle left",
         "type": "scatter",
         "x": [
          null,
          600000000000000000000,
          null,
          7300000000000000000,
          null,
          3.79e+22,
          null,
          null,
          1.5e+22,
          null,
          810000000000000000000,
          null,
          null,
          null,
          null,
          null,
          null,
          null,
          816000000000000000,
          693000000000000000,
          null,
          null,
          null,
          5.038000000001e+21,
          1.2420000000001e+22,
          null,
          1.799000000001e+21,
          null,
          null,
          28000000000000000000,
          29000000000000000000,
          null,
          335000000000000000000,
          287900000001000050000,
          7.9e+21,
          126000000001000000000,
          null,
          11000000000000000000,
          null,
          null,
          null,
          1580000000000000000,
          9.31627008e+22,
          29100000000000000000,
          null,
          null,
          null,
          null,
          737700000001000000000,
          2.1590000000001e+22,
          null,
          null,
          null,
          null,
          849000000000000000000,
          424000000000000000,
          2.5190000000001e+21
         ],
         "xaxis": "x",
         "y": [
          null,
          null,
          null,
          null,
          null,
          22.52,
          null,
          null,
          null,
          null,
          null,
          84.1,
          33.31,
          null,
          null,
          52.38,
          null,
          12.02,
          null,
          null,
          null,
          null,
          16.5,
          null,
          null,
          49.4,
          null,
          78.93,
          null,
          null,
          null,
          null,
          null,
          null,
          null,
          null,
          null,
          null,
          null,
          null,
          55.7,
          null,
          null,
          null,
          10.8,
          null,
          null,
          null,
          null,
          null,
          null,
          null,
          null,
          47.17,
          null,
          null,
          null
         ],
         "yaxis": "y"
        },
        {
         "hovertemplate": "Model accessibility=Open access (non-commercial)<br>Training compute (FLOP)=%{x}<br>Perplexity (PTB)=%{y}<extra></extra>",
         "legendgroup": "Open access (non-commercial)",
         "marker": {
          "color": "#00cc96",
          "symbol": "circle"
         },
         "mode": "markers",
         "name": "Open access (non-commercial)",
         "orientation": "v",
         "showlegend": true,
         "textposition": "middle left",
         "type": "scatter",
         "x": [
          null,
          328000000000000000,
          2.7300000000000996e+23,
          null,
          2.340000000001e+22,
          5.5e+23,
          null,
          1.2060000000001e+22,
          5.4000000000001e+22,
          3.778e+23,
          31200000000000000000,
          null,
          null,
          null,
          null,
          14000000000000000,
          26500000000000000000,
          4.3e+23,
          null,
          1.100000000001e+23,
          4.55e+22,
          4.02e+22
         ],
         "xaxis": "x",
         "y": [
          null,
          null,
          null,
          null,
          null,
          null,
          null,
          null,
          null,
          18.9,
          null,
          null,
          null,
          46.54,
          null,
          71.42,
          null,
          null,
          null,
          null,
          null,
          null
         ],
         "yaxis": "y"
        },
        {
         "hovertemplate": "Model accessibility=Open access (restricted use)<br>Training compute (FLOP)=%{x}<br>Perplexity (PTB)=%{y}<extra></extra>",
         "legendgroup": "Open access (restricted use)",
         "marker": {
          "color": "#ab63fa",
          "symbol": "circle"
         },
         "mode": "markers",
         "name": "Open access (restricted use)",
         "orientation": "v",
         "showlegend": true,
         "textposition": "middle left",
         "type": "scatter",
         "x": [
          null,
          null,
          null,
          null,
          1.48e+22
         ],
         "xaxis": "x",
         "y": [
          null,
          null,
          null,
          null,
          null
         ],
         "yaxis": "y"
        },
        {
         "hovertemplate": "Model accessibility=API access<br>Training compute (FLOP)=%{x}<br>Perplexity (PTB)=%{y}<extra></extra>",
         "legendgroup": "API access",
         "marker": {
          "color": "#FFA15A",
          "symbol": "circle"
         },
         "mode": "markers",
         "name": "API access",
         "orientation": "v",
         "showlegend": true,
         "textposition": "middle left",
         "type": "scatter",
         "x": [
          3.14e+23
         ],
         "xaxis": "x",
         "y": [
          20.5
         ],
         "yaxis": "y"
        }
       ],
       "layout": {
        "legend": {
         "title": {
          "text": "Model accessibility"
         },
         "tracegroupgap": 0
        },
        "margin": {
         "t": 60
        },
        "template": {
         "data": {
          "bar": [
           {
            "error_x": {
             "color": "#2a3f5f"
            },
            "error_y": {
             "color": "#2a3f5f"
            },
            "marker": {
             "line": {
              "color": "#E5ECF6",
              "width": 0.5
             },
             "pattern": {
              "fillmode": "overlay",
              "size": 10,
              "solidity": 0.2
             }
            },
            "type": "bar"
           }
          ],
          "barpolar": [
           {
            "marker": {
             "line": {
              "color": "#E5ECF6",
              "width": 0.5
             },
             "pattern": {
              "fillmode": "overlay",
              "size": 10,
              "solidity": 0.2
             }
            },
            "type": "barpolar"
           }
          ],
          "carpet": [
           {
            "aaxis": {
             "endlinecolor": "#2a3f5f",
             "gridcolor": "white",
             "linecolor": "white",
             "minorgridcolor": "white",
             "startlinecolor": "#2a3f5f"
            },
            "baxis": {
             "endlinecolor": "#2a3f5f",
             "gridcolor": "white",
             "linecolor": "white",
             "minorgridcolor": "white",
             "startlinecolor": "#2a3f5f"
            },
            "type": "carpet"
           }
          ],
          "choropleth": [
           {
            "colorbar": {
             "outlinewidth": 0,
             "ticks": ""
            },
            "type": "choropleth"
           }
          ],
          "contour": [
           {
            "colorbar": {
             "outlinewidth": 0,
             "ticks": ""
            },
            "colorscale": [
             [
              0,
              "#0d0887"
             ],
             [
              0.1111111111111111,
              "#46039f"
             ],
             [
              0.2222222222222222,
              "#7201a8"
             ],
             [
              0.3333333333333333,
              "#9c179e"
             ],
             [
              0.4444444444444444,
              "#bd3786"
             ],
             [
              0.5555555555555556,
              "#d8576b"
             ],
             [
              0.6666666666666666,
              "#ed7953"
             ],
             [
              0.7777777777777778,
              "#fb9f3a"
             ],
             [
              0.8888888888888888,
              "#fdca26"
             ],
             [
              1,
              "#f0f921"
             ]
            ],
            "type": "contour"
           }
          ],
          "contourcarpet": [
           {
            "colorbar": {
             "outlinewidth": 0,
             "ticks": ""
            },
            "type": "contourcarpet"
           }
          ],
          "heatmap": [
           {
            "colorbar": {
             "outlinewidth": 0,
             "ticks": ""
            },
            "colorscale": [
             [
              0,
              "#0d0887"
             ],
             [
              0.1111111111111111,
              "#46039f"
             ],
             [
              0.2222222222222222,
              "#7201a8"
             ],
             [
              0.3333333333333333,
              "#9c179e"
             ],
             [
              0.4444444444444444,
              "#bd3786"
             ],
             [
              0.5555555555555556,
              "#d8576b"
             ],
             [
              0.6666666666666666,
              "#ed7953"
             ],
             [
              0.7777777777777778,
              "#fb9f3a"
             ],
             [
              0.8888888888888888,
              "#fdca26"
             ],
             [
              1,
              "#f0f921"
             ]
            ],
            "type": "heatmap"
           }
          ],
          "heatmapgl": [
           {
            "colorbar": {
             "outlinewidth": 0,
             "ticks": ""
            },
            "colorscale": [
             [
              0,
              "#0d0887"
             ],
             [
              0.1111111111111111,
              "#46039f"
             ],
             [
              0.2222222222222222,
              "#7201a8"
             ],
             [
              0.3333333333333333,
              "#9c179e"
             ],
             [
              0.4444444444444444,
              "#bd3786"
             ],
             [
              0.5555555555555556,
              "#d8576b"
             ],
             [
              0.6666666666666666,
              "#ed7953"
             ],
             [
              0.7777777777777778,
              "#fb9f3a"
             ],
             [
              0.8888888888888888,
              "#fdca26"
             ],
             [
              1,
              "#f0f921"
             ]
            ],
            "type": "heatmapgl"
           }
          ],
          "histogram": [
           {
            "marker": {
             "pattern": {
              "fillmode": "overlay",
              "size": 10,
              "solidity": 0.2
             }
            },
            "type": "histogram"
           }
          ],
          "histogram2d": [
           {
            "colorbar": {
             "outlinewidth": 0,
             "ticks": ""
            },
            "colorscale": [
             [
              0,
              "#0d0887"
             ],
             [
              0.1111111111111111,
              "#46039f"
             ],
             [
              0.2222222222222222,
              "#7201a8"
             ],
             [
              0.3333333333333333,
              "#9c179e"
             ],
             [
              0.4444444444444444,
              "#bd3786"
             ],
             [
              0.5555555555555556,
              "#d8576b"
             ],
             [
              0.6666666666666666,
              "#ed7953"
             ],
             [
              0.7777777777777778,
              "#fb9f3a"
             ],
             [
              0.8888888888888888,
              "#fdca26"
             ],
             [
              1,
              "#f0f921"
             ]
            ],
            "type": "histogram2d"
           }
          ],
          "histogram2dcontour": [
           {
            "colorbar": {
             "outlinewidth": 0,
             "ticks": ""
            },
            "colorscale": [
             [
              0,
              "#0d0887"
             ],
             [
              0.1111111111111111,
              "#46039f"
             ],
             [
              0.2222222222222222,
              "#7201a8"
             ],
             [
              0.3333333333333333,
              "#9c179e"
             ],
             [
              0.4444444444444444,
              "#bd3786"
             ],
             [
              0.5555555555555556,
              "#d8576b"
             ],
             [
              0.6666666666666666,
              "#ed7953"
             ],
             [
              0.7777777777777778,
              "#fb9f3a"
             ],
             [
              0.8888888888888888,
              "#fdca26"
             ],
             [
              1,
              "#f0f921"
             ]
            ],
            "type": "histogram2dcontour"
           }
          ],
          "mesh3d": [
           {
            "colorbar": {
             "outlinewidth": 0,
             "ticks": ""
            },
            "type": "mesh3d"
           }
          ],
          "parcoords": [
           {
            "line": {
             "colorbar": {
              "outlinewidth": 0,
              "ticks": ""
             }
            },
            "type": "parcoords"
           }
          ],
          "pie": [
           {
            "automargin": true,
            "type": "pie"
           }
          ],
          "scatter": [
           {
            "fillpattern": {
             "fillmode": "overlay",
             "size": 10,
             "solidity": 0.2
            },
            "type": "scatter"
           }
          ],
          "scatter3d": [
           {
            "line": {
             "colorbar": {
              "outlinewidth": 0,
              "ticks": ""
             }
            },
            "marker": {
             "colorbar": {
              "outlinewidth": 0,
              "ticks": ""
             }
            },
            "type": "scatter3d"
           }
          ],
          "scattercarpet": [
           {
            "marker": {
             "colorbar": {
              "outlinewidth": 0,
              "ticks": ""
             }
            },
            "type": "scattercarpet"
           }
          ],
          "scattergeo": [
           {
            "marker": {
             "colorbar": {
              "outlinewidth": 0,
              "ticks": ""
             }
            },
            "type": "scattergeo"
           }
          ],
          "scattergl": [
           {
            "marker": {
             "colorbar": {
              "outlinewidth": 0,
              "ticks": ""
             }
            },
            "type": "scattergl"
           }
          ],
          "scattermapbox": [
           {
            "marker": {
             "colorbar": {
              "outlinewidth": 0,
              "ticks": ""
             }
            },
            "type": "scattermapbox"
           }
          ],
          "scatterpolar": [
           {
            "marker": {
             "colorbar": {
              "outlinewidth": 0,
              "ticks": ""
             }
            },
            "type": "scatterpolar"
           }
          ],
          "scatterpolargl": [
           {
            "marker": {
             "colorbar": {
              "outlinewidth": 0,
              "ticks": ""
             }
            },
            "type": "scatterpolargl"
           }
          ],
          "scatterternary": [
           {
            "marker": {
             "colorbar": {
              "outlinewidth": 0,
              "ticks": ""
             }
            },
            "type": "scatterternary"
           }
          ],
          "surface": [
           {
            "colorbar": {
             "outlinewidth": 0,
             "ticks": ""
            },
            "colorscale": [
             [
              0,
              "#0d0887"
             ],
             [
              0.1111111111111111,
              "#46039f"
             ],
             [
              0.2222222222222222,
              "#7201a8"
             ],
             [
              0.3333333333333333,
              "#9c179e"
             ],
             [
              0.4444444444444444,
              "#bd3786"
             ],
             [
              0.5555555555555556,
              "#d8576b"
             ],
             [
              0.6666666666666666,
              "#ed7953"
             ],
             [
              0.7777777777777778,
              "#fb9f3a"
             ],
             [
              0.8888888888888888,
              "#fdca26"
             ],
             [
              1,
              "#f0f921"
             ]
            ],
            "type": "surface"
           }
          ],
          "table": [
           {
            "cells": {
             "fill": {
              "color": "#EBF0F8"
             },
             "line": {
              "color": "white"
             }
            },
            "header": {
             "fill": {
              "color": "#C8D4E3"
             },
             "line": {
              "color": "white"
             }
            },
            "type": "table"
           }
          ]
         },
         "layout": {
          "annotationdefaults": {
           "arrowcolor": "#2a3f5f",
           "arrowhead": 0,
           "arrowwidth": 1
          },
          "autotypenumbers": "strict",
          "coloraxis": {
           "colorbar": {
            "outlinewidth": 0,
            "ticks": ""
           }
          },
          "colorscale": {
           "diverging": [
            [
             0,
             "#8e0152"
            ],
            [
             0.1,
             "#c51b7d"
            ],
            [
             0.2,
             "#de77ae"
            ],
            [
             0.3,
             "#f1b6da"
            ],
            [
             0.4,
             "#fde0ef"
            ],
            [
             0.5,
             "#f7f7f7"
            ],
            [
             0.6,
             "#e6f5d0"
            ],
            [
             0.7,
             "#b8e186"
            ],
            [
             0.8,
             "#7fbc41"
            ],
            [
             0.9,
             "#4d9221"
            ],
            [
             1,
             "#276419"
            ]
           ],
           "sequential": [
            [
             0,
             "#0d0887"
            ],
            [
             0.1111111111111111,
             "#46039f"
            ],
            [
             0.2222222222222222,
             "#7201a8"
            ],
            [
             0.3333333333333333,
             "#9c179e"
            ],
            [
             0.4444444444444444,
             "#bd3786"
            ],
            [
             0.5555555555555556,
             "#d8576b"
            ],
            [
             0.6666666666666666,
             "#ed7953"
            ],
            [
             0.7777777777777778,
             "#fb9f3a"
            ],
            [
             0.8888888888888888,
             "#fdca26"
            ],
            [
             1,
             "#f0f921"
            ]
           ],
           "sequentialminus": [
            [
             0,
             "#0d0887"
            ],
            [
             0.1111111111111111,
             "#46039f"
            ],
            [
             0.2222222222222222,
             "#7201a8"
            ],
            [
             0.3333333333333333,
             "#9c179e"
            ],
            [
             0.4444444444444444,
             "#bd3786"
            ],
            [
             0.5555555555555556,
             "#d8576b"
            ],
            [
             0.6666666666666666,
             "#ed7953"
            ],
            [
             0.7777777777777778,
             "#fb9f3a"
            ],
            [
             0.8888888888888888,
             "#fdca26"
            ],
            [
             1,
             "#f0f921"
            ]
           ]
          },
          "colorway": [
           "#636efa",
           "#EF553B",
           "#00cc96",
           "#ab63fa",
           "#FFA15A",
           "#19d3f3",
           "#FF6692",
           "#B6E880",
           "#FF97FF",
           "#FECB52"
          ],
          "font": {
           "color": "#2a3f5f"
          },
          "geo": {
           "bgcolor": "white",
           "lakecolor": "white",
           "landcolor": "#E5ECF6",
           "showlakes": true,
           "showland": true,
           "subunitcolor": "white"
          },
          "hoverlabel": {
           "align": "left"
          },
          "hovermode": "closest",
          "mapbox": {
           "style": "light"
          },
          "paper_bgcolor": "white",
          "plot_bgcolor": "#E5ECF6",
          "polar": {
           "angularaxis": {
            "gridcolor": "white",
            "linecolor": "white",
            "ticks": ""
           },
           "bgcolor": "#E5ECF6",
           "radialaxis": {
            "gridcolor": "white",
            "linecolor": "white",
            "ticks": ""
           }
          },
          "scene": {
           "xaxis": {
            "backgroundcolor": "#E5ECF6",
            "gridcolor": "white",
            "gridwidth": 2,
            "linecolor": "white",
            "showbackground": true,
            "ticks": "",
            "zerolinecolor": "white"
           },
           "yaxis": {
            "backgroundcolor": "#E5ECF6",
            "gridcolor": "white",
            "gridwidth": 2,
            "linecolor": "white",
            "showbackground": true,
            "ticks": "",
            "zerolinecolor": "white"
           },
           "zaxis": {
            "backgroundcolor": "#E5ECF6",
            "gridcolor": "white",
            "gridwidth": 2,
            "linecolor": "white",
            "showbackground": true,
            "ticks": "",
            "zerolinecolor": "white"
           }
          },
          "shapedefaults": {
           "line": {
            "color": "#2a3f5f"
           }
          },
          "ternary": {
           "aaxis": {
            "gridcolor": "white",
            "linecolor": "white",
            "ticks": ""
           },
           "baxis": {
            "gridcolor": "white",
            "linecolor": "white",
            "ticks": ""
           },
           "bgcolor": "#E5ECF6",
           "caxis": {
            "gridcolor": "white",
            "linecolor": "white",
            "ticks": ""
           }
          },
          "title": {
           "x": 0.05
          },
          "xaxis": {
           "automargin": true,
           "gridcolor": "white",
           "linecolor": "white",
           "ticks": "",
           "title": {
            "standoff": 15
           },
           "zerolinecolor": "white",
           "zerolinewidth": 2
          },
          "yaxis": {
           "automargin": true,
           "gridcolor": "white",
           "linecolor": "white",
           "ticks": "",
           "title": {
            "standoff": 15
           },
           "zerolinecolor": "white",
           "zerolinewidth": 2
          }
         }
        },
        "xaxis": {
         "anchor": "y",
         "domain": [
          0,
          1
         ],
         "title": {
          "text": "Training compute (FLOP)"
         },
         "type": "log"
        },
        "yaxis": {
         "anchor": "x",
         "domain": [
          0,
          1
         ],
         "title": {
          "text": "Perplexity (PTB)"
         }
        }
       }
      },
      "text/html": [
       "<div>                            <div id=\"3268a8b9-824f-4807-b175-7856d674b1de\" class=\"plotly-graph-div\" style=\"height:525px; width:100%;\"></div>            <script type=\"text/javascript\">                require([\"plotly\"], function(Plotly) {                    window.PLOTLYENV=window.PLOTLYENV || {};                                    if (document.getElementById(\"3268a8b9-824f-4807-b175-7856d674b1de\")) {                    Plotly.newPlot(                        \"3268a8b9-824f-4807-b175-7856d674b1de\",                        [{\"hovertemplate\":\"Model accessibility=Unreleased\\u003cbr\\u003eTraining compute (FLOP)=%{x}\\u003cbr\\u003ePerplexity (PTB)=%{y}\\u003cextra\\u003e\\u003c\\u002fextra\\u003e\",\"legendgroup\":\"Unreleased\",\"marker\":{\"color\":\"#636efa\",\"symbol\":\"circle\"},\"mode\":\"markers\",\"name\":\"Unreleased\",\"orientation\":\"v\",\"showlegend\":true,\"x\":[8.84e+19,null,7.3e+18,1.58e+18,null,null,3040000000000000.0,5620000000000000.0,2.19e+16,2.32e+18,null,null,null,null,null,null,null,null,null,null,1.92e+16,null,null,4.14e+17,2.4e+19,null,2650000000000000.0,1340000000000000.0,null,null,null,null,3.36e+18,null,null,null,null,null,null,2.78e+19,null,null,null,null,null,null,null,6.2e+18,3.1e+18,1.2e+19,null,4210000000000000.0,null,null,null,3.17e+16,null,null,1920000000000000.0,null,null,null,3.31e+16,null,1.1e+19,null,1.61e+20,null,null,1.68e+16,null,4.3599999999999993e+20,null,null,null,null,null,null,1.6e+20,null,7.3e+18,null,null,7.3e+16,null,null,3570000000000000.0,null,null,null,null,282000000000000.0,null,1.05e+16,null,1.06e+16,5.21e+20,213000000000000.0,null,4.4e+16,null,null,null,9.85e+16,null,8400000000000000.0,null,null,null,2.0099999999999996e+16,1.6e+21,null,4.41e+19,null,null,null,null,null,null,null,null,6.1e+19,3150000000000000.0,7.14e+18,1.2e+22,null,null,null,null,null,null,null,null,null,null,2.13e+16,1.58e+23,null,1.1e+16,null,4.37e+17,null,null,null,8.34e+20,null,null,null,null,null,null,8.2e+19,null,5.62e+17,1.04e+19,null,1.27e+17,null,null,null,null,null,null,null,null,null,3.09e+17,9.1e+21,null,1.28e+16,null,1.2e+22,1.09e+17,7.36e+18,null,6.31e+23,null,3.04e+18,6.06e+18,5.62e+17,null,null,7.3e+18,null,null,null,2.1e+16,null,null,null,null,2.4e+19,1020000000000000.0,null,1.3899999999999998e+17,null,1.46e+16,null,2.68e+16,null,null,null,null,null,227000000000000.0,4.76e+18,null,null,2.78e+18,4.3e+17,4.74e+17,null,null,null,null,9.1e+16,2.4e+16,1.28e+22,1.1699999999999998e+20,3400000000000000.0,null,6e+20,null,null,null,null,null,null,null,null,null,null,4.6e+19,null,null,null,null,null,null,5.76e+23,null,null,null,null,null,1.68e+22,1.58e+20,null,1.27e+17,7.59e+16,2.89e+18,4.5999999999999994e+17,null,5.3e+18,3.6e+17,7.39e+17,3.45e+20,null,1.24e+20,null,null,2.65e+19,3.2e+21,null,3340000000000000.0,null,null,null,3.89e+18,null,null,6.67e+18,null,null,null,2.31e+18,1.1e+18,null,null,null,null,null,null,null,null,1.57e+22,null,null,3310000000000000.0,7490000000000000.0,null,2009999999999999.5,8.039999999999998e+18,null,2.4e+17,null,null,501999999999999.94,null,null,null,7.3e+18,null,1.2e+20],\"xaxis\":\"x\",\"y\":[null,null,null,null,null,null,98.67,73.4,null,null,null,77.8,null,94.0,null,82.1,null,14.7,124.7,null,null,72.1,102.0,null,null,47.42,78.9,72.24,null,null,52.7,null,null,null,null,null,null,55.7,65.4,null,null,null,141.2,117.66,47.6,null,null,null,null,null,null,117.0,57.9,null,null,null,63.5,42.9,52.12,null,66.1,null,78.29,66.2,null,56.92,null,55.3,null,null,57.36,null,47.6,118.0,null,null,46.01,100.0,null,null,null,120.12,null,106.3,82.3,52.5,68.5,78.68,92.0,null,74.69,115.0,64.03,62.4,54.48,68.7,31.34,103.5,107.5,80.6,null,44.8,null,null,7.68,84.38,null,46.34,null,55.8,null,26.92,null,null,53.0,109.32,null,92.0,null,107.5,null,null,117.56,null,null,null,null,null,125.0,108.7,null,null,null,83.0,100.0,68.5,null,56.46,null,8.64,null,null,null,51.5,null,null,null,54.8,114.5,null,54.8,null,null,null,null,null,null,128.35,55.3,null,null,null,null,9.69,null,null,null,null,108.0,78.3,null,null,null,null,115.9,null,93.0,null,null,null,null,null,null,54.0,47.3,52.8,null,null,54.52,null,90.17,null,null,null,55.7,null,82.49,null,58.77,null,37.49,null,null,null,129.4,null,166.0,null,null,null,null,null,61.7,null,76.8,78.4,null,null,null,65.4,null,null,54.9,47.69,null,null,null,null,100.0,null,null,null,null,113.7,null,52.0,80.6,57.72,56.82,null,null,75.8,null,55.82,null,null,null,null,null,null,null,null,null,null,null,null,null,null,null,45.6,54.2,null,null,null,79.83,null,56.8,49.95,null,null,null,null,63.6,null,57.0,null,null,78.75,72.9,54.69,null,115.0,null,null,null,null,67.8,null,null,70.9,83.6,77.12,null,57.1,null,null,null,159.1,null,null,128.78,null,51.1,null],\"yaxis\":\"y\",\"type\":\"scatter\",\"textposition\":\"middle left\"},{\"hovertemplate\":\"Model accessibility=Open source\\u003cbr\\u003eTraining compute (FLOP)=%{x}\\u003cbr\\u003ePerplexity (PTB)=%{y}\\u003cextra\\u003e\\u003c\\u002fextra\\u003e\",\"legendgroup\":\"Open source\",\"marker\":{\"color\":\"#EF553B\",\"symbol\":\"circle\"},\"mode\":\"markers\",\"name\":\"Open source\",\"orientation\":\"v\",\"showlegend\":true,\"x\":[null,6e+20,null,7.3e+18,null,3.79e+22,null,null,1.5e+22,null,8.1e+20,null,null,null,null,null,null,null,8.16e+17,6.93e+17,null,null,null,5.038000000001e+21,1.2420000000001e+22,null,1.799000000001e+21,null,null,2.8e+19,2.9e+19,null,3.35e+20,2.8790000000100005e+20,7.9e+21,1.26000000001e+20,null,1.1e+19,null,null,null,1.58e+18,9.31627008e+22,2.91e+19,null,null,null,null,7.37700000001e+20,2.1590000000001e+22,null,null,null,null,8.49e+20,4.24e+17,2.5190000000001e+21],\"xaxis\":\"x\",\"y\":[null,null,null,null,null,22.52,null,null,null,null,null,84.1,33.31,null,null,52.38,null,12.02,null,null,null,null,16.5,null,null,49.4,null,78.93,null,null,null,null,null,null,null,null,null,null,null,null,55.7,null,null,null,10.8,null,null,null,null,null,null,null,null,47.17,null,null,null],\"yaxis\":\"y\",\"type\":\"scatter\",\"textposition\":\"middle left\"},{\"hovertemplate\":\"Model accessibility=Open access (non-commercial)\\u003cbr\\u003eTraining compute (FLOP)=%{x}\\u003cbr\\u003ePerplexity (PTB)=%{y}\\u003cextra\\u003e\\u003c\\u002fextra\\u003e\",\"legendgroup\":\"Open access (non-commercial)\",\"marker\":{\"color\":\"#00cc96\",\"symbol\":\"circle\"},\"mode\":\"markers\",\"name\":\"Open access (non-commercial)\",\"orientation\":\"v\",\"showlegend\":true,\"x\":[null,3.28e+17,2.7300000000000996e+23,null,2.340000000001e+22,5.5e+23,null,1.2060000000001e+22,5.4000000000001e+22,3.778e+23,3.12e+19,null,null,null,null,1.4e+16,2.65e+19,4.3e+23,null,1.100000000001e+23,4.55e+22,4.02e+22],\"xaxis\":\"x\",\"y\":[null,null,null,null,null,null,null,null,null,18.9,null,null,null,46.54,null,71.42,null,null,null,null,null,null],\"yaxis\":\"y\",\"type\":\"scatter\",\"textposition\":\"middle left\"},{\"hovertemplate\":\"Model accessibility=Open access (restricted use)\\u003cbr\\u003eTraining compute (FLOP)=%{x}\\u003cbr\\u003ePerplexity (PTB)=%{y}\\u003cextra\\u003e\\u003c\\u002fextra\\u003e\",\"legendgroup\":\"Open access (restricted use)\",\"marker\":{\"color\":\"#ab63fa\",\"symbol\":\"circle\"},\"mode\":\"markers\",\"name\":\"Open access (restricted use)\",\"orientation\":\"v\",\"showlegend\":true,\"x\":[null,null,null,null,1.48e+22],\"xaxis\":\"x\",\"y\":[null,null,null,null,null],\"yaxis\":\"y\",\"type\":\"scatter\",\"textposition\":\"middle left\"},{\"hovertemplate\":\"Model accessibility=API access\\u003cbr\\u003eTraining compute (FLOP)=%{x}\\u003cbr\\u003ePerplexity (PTB)=%{y}\\u003cextra\\u003e\\u003c\\u002fextra\\u003e\",\"legendgroup\":\"API access\",\"marker\":{\"color\":\"#FFA15A\",\"symbol\":\"circle\"},\"mode\":\"markers\",\"name\":\"API access\",\"orientation\":\"v\",\"showlegend\":true,\"x\":[3.14e+23],\"xaxis\":\"x\",\"y\":[20.5],\"yaxis\":\"y\",\"type\":\"scatter\",\"textposition\":\"middle left\"}],                        {\"template\":{\"data\":{\"histogram2dcontour\":[{\"type\":\"histogram2dcontour\",\"colorbar\":{\"outlinewidth\":0,\"ticks\":\"\"},\"colorscale\":[[0.0,\"#0d0887\"],[0.1111111111111111,\"#46039f\"],[0.2222222222222222,\"#7201a8\"],[0.3333333333333333,\"#9c179e\"],[0.4444444444444444,\"#bd3786\"],[0.5555555555555556,\"#d8576b\"],[0.6666666666666666,\"#ed7953\"],[0.7777777777777778,\"#fb9f3a\"],[0.8888888888888888,\"#fdca26\"],[1.0,\"#f0f921\"]]}],\"choropleth\":[{\"type\":\"choropleth\",\"colorbar\":{\"outlinewidth\":0,\"ticks\":\"\"}}],\"histogram2d\":[{\"type\":\"histogram2d\",\"colorbar\":{\"outlinewidth\":0,\"ticks\":\"\"},\"colorscale\":[[0.0,\"#0d0887\"],[0.1111111111111111,\"#46039f\"],[0.2222222222222222,\"#7201a8\"],[0.3333333333333333,\"#9c179e\"],[0.4444444444444444,\"#bd3786\"],[0.5555555555555556,\"#d8576b\"],[0.6666666666666666,\"#ed7953\"],[0.7777777777777778,\"#fb9f3a\"],[0.8888888888888888,\"#fdca26\"],[1.0,\"#f0f921\"]]}],\"heatmap\":[{\"type\":\"heatmap\",\"colorbar\":{\"outlinewidth\":0,\"ticks\":\"\"},\"colorscale\":[[0.0,\"#0d0887\"],[0.1111111111111111,\"#46039f\"],[0.2222222222222222,\"#7201a8\"],[0.3333333333333333,\"#9c179e\"],[0.4444444444444444,\"#bd3786\"],[0.5555555555555556,\"#d8576b\"],[0.6666666666666666,\"#ed7953\"],[0.7777777777777778,\"#fb9f3a\"],[0.8888888888888888,\"#fdca26\"],[1.0,\"#f0f921\"]]}],\"heatmapgl\":[{\"type\":\"heatmapgl\",\"colorbar\":{\"outlinewidth\":0,\"ticks\":\"\"},\"colorscale\":[[0.0,\"#0d0887\"],[0.1111111111111111,\"#46039f\"],[0.2222222222222222,\"#7201a8\"],[0.3333333333333333,\"#9c179e\"],[0.4444444444444444,\"#bd3786\"],[0.5555555555555556,\"#d8576b\"],[0.6666666666666666,\"#ed7953\"],[0.7777777777777778,\"#fb9f3a\"],[0.8888888888888888,\"#fdca26\"],[1.0,\"#f0f921\"]]}],\"contourcarpet\":[{\"type\":\"contourcarpet\",\"colorbar\":{\"outlinewidth\":0,\"ticks\":\"\"}}],\"contour\":[{\"type\":\"contour\",\"colorbar\":{\"outlinewidth\":0,\"ticks\":\"\"},\"colorscale\":[[0.0,\"#0d0887\"],[0.1111111111111111,\"#46039f\"],[0.2222222222222222,\"#7201a8\"],[0.3333333333333333,\"#9c179e\"],[0.4444444444444444,\"#bd3786\"],[0.5555555555555556,\"#d8576b\"],[0.6666666666666666,\"#ed7953\"],[0.7777777777777778,\"#fb9f3a\"],[0.8888888888888888,\"#fdca26\"],[1.0,\"#f0f921\"]]}],\"surface\":[{\"type\":\"surface\",\"colorbar\":{\"outlinewidth\":0,\"ticks\":\"\"},\"colorscale\":[[0.0,\"#0d0887\"],[0.1111111111111111,\"#46039f\"],[0.2222222222222222,\"#7201a8\"],[0.3333333333333333,\"#9c179e\"],[0.4444444444444444,\"#bd3786\"],[0.5555555555555556,\"#d8576b\"],[0.6666666666666666,\"#ed7953\"],[0.7777777777777778,\"#fb9f3a\"],[0.8888888888888888,\"#fdca26\"],[1.0,\"#f0f921\"]]}],\"mesh3d\":[{\"type\":\"mesh3d\",\"colorbar\":{\"outlinewidth\":0,\"ticks\":\"\"}}],\"scatter\":[{\"fillpattern\":{\"fillmode\":\"overlay\",\"size\":10,\"solidity\":0.2},\"type\":\"scatter\"}],\"parcoords\":[{\"type\":\"parcoords\",\"line\":{\"colorbar\":{\"outlinewidth\":0,\"ticks\":\"\"}}}],\"scatterpolargl\":[{\"type\":\"scatterpolargl\",\"marker\":{\"colorbar\":{\"outlinewidth\":0,\"ticks\":\"\"}}}],\"bar\":[{\"error_x\":{\"color\":\"#2a3f5f\"},\"error_y\":{\"color\":\"#2a3f5f\"},\"marker\":{\"line\":{\"color\":\"#E5ECF6\",\"width\":0.5},\"pattern\":{\"fillmode\":\"overlay\",\"size\":10,\"solidity\":0.2}},\"type\":\"bar\"}],\"scattergeo\":[{\"type\":\"scattergeo\",\"marker\":{\"colorbar\":{\"outlinewidth\":0,\"ticks\":\"\"}}}],\"scatterpolar\":[{\"type\":\"scatterpolar\",\"marker\":{\"colorbar\":{\"outlinewidth\":0,\"ticks\":\"\"}}}],\"histogram\":[{\"marker\":{\"pattern\":{\"fillmode\":\"overlay\",\"size\":10,\"solidity\":0.2}},\"type\":\"histogram\"}],\"scattergl\":[{\"type\":\"scattergl\",\"marker\":{\"colorbar\":{\"outlinewidth\":0,\"ticks\":\"\"}}}],\"scatter3d\":[{\"type\":\"scatter3d\",\"line\":{\"colorbar\":{\"outlinewidth\":0,\"ticks\":\"\"}},\"marker\":{\"colorbar\":{\"outlinewidth\":0,\"ticks\":\"\"}}}],\"scattermapbox\":[{\"type\":\"scattermapbox\",\"marker\":{\"colorbar\":{\"outlinewidth\":0,\"ticks\":\"\"}}}],\"scatterternary\":[{\"type\":\"scatterternary\",\"marker\":{\"colorbar\":{\"outlinewidth\":0,\"ticks\":\"\"}}}],\"scattercarpet\":[{\"type\":\"scattercarpet\",\"marker\":{\"colorbar\":{\"outlinewidth\":0,\"ticks\":\"\"}}}],\"carpet\":[{\"aaxis\":{\"endlinecolor\":\"#2a3f5f\",\"gridcolor\":\"white\",\"linecolor\":\"white\",\"minorgridcolor\":\"white\",\"startlinecolor\":\"#2a3f5f\"},\"baxis\":{\"endlinecolor\":\"#2a3f5f\",\"gridcolor\":\"white\",\"linecolor\":\"white\",\"minorgridcolor\":\"white\",\"startlinecolor\":\"#2a3f5f\"},\"type\":\"carpet\"}],\"table\":[{\"cells\":{\"fill\":{\"color\":\"#EBF0F8\"},\"line\":{\"color\":\"white\"}},\"header\":{\"fill\":{\"color\":\"#C8D4E3\"},\"line\":{\"color\":\"white\"}},\"type\":\"table\"}],\"barpolar\":[{\"marker\":{\"line\":{\"color\":\"#E5ECF6\",\"width\":0.5},\"pattern\":{\"fillmode\":\"overlay\",\"size\":10,\"solidity\":0.2}},\"type\":\"barpolar\"}],\"pie\":[{\"automargin\":true,\"type\":\"pie\"}]},\"layout\":{\"autotypenumbers\":\"strict\",\"colorway\":[\"#636efa\",\"#EF553B\",\"#00cc96\",\"#ab63fa\",\"#FFA15A\",\"#19d3f3\",\"#FF6692\",\"#B6E880\",\"#FF97FF\",\"#FECB52\"],\"font\":{\"color\":\"#2a3f5f\"},\"hovermode\":\"closest\",\"hoverlabel\":{\"align\":\"left\"},\"paper_bgcolor\":\"white\",\"plot_bgcolor\":\"#E5ECF6\",\"polar\":{\"bgcolor\":\"#E5ECF6\",\"angularaxis\":{\"gridcolor\":\"white\",\"linecolor\":\"white\",\"ticks\":\"\"},\"radialaxis\":{\"gridcolor\":\"white\",\"linecolor\":\"white\",\"ticks\":\"\"}},\"ternary\":{\"bgcolor\":\"#E5ECF6\",\"aaxis\":{\"gridcolor\":\"white\",\"linecolor\":\"white\",\"ticks\":\"\"},\"baxis\":{\"gridcolor\":\"white\",\"linecolor\":\"white\",\"ticks\":\"\"},\"caxis\":{\"gridcolor\":\"white\",\"linecolor\":\"white\",\"ticks\":\"\"}},\"coloraxis\":{\"colorbar\":{\"outlinewidth\":0,\"ticks\":\"\"}},\"colorscale\":{\"sequential\":[[0.0,\"#0d0887\"],[0.1111111111111111,\"#46039f\"],[0.2222222222222222,\"#7201a8\"],[0.3333333333333333,\"#9c179e\"],[0.4444444444444444,\"#bd3786\"],[0.5555555555555556,\"#d8576b\"],[0.6666666666666666,\"#ed7953\"],[0.7777777777777778,\"#fb9f3a\"],[0.8888888888888888,\"#fdca26\"],[1.0,\"#f0f921\"]],\"sequentialminus\":[[0.0,\"#0d0887\"],[0.1111111111111111,\"#46039f\"],[0.2222222222222222,\"#7201a8\"],[0.3333333333333333,\"#9c179e\"],[0.4444444444444444,\"#bd3786\"],[0.5555555555555556,\"#d8576b\"],[0.6666666666666666,\"#ed7953\"],[0.7777777777777778,\"#fb9f3a\"],[0.8888888888888888,\"#fdca26\"],[1.0,\"#f0f921\"]],\"diverging\":[[0,\"#8e0152\"],[0.1,\"#c51b7d\"],[0.2,\"#de77ae\"],[0.3,\"#f1b6da\"],[0.4,\"#fde0ef\"],[0.5,\"#f7f7f7\"],[0.6,\"#e6f5d0\"],[0.7,\"#b8e186\"],[0.8,\"#7fbc41\"],[0.9,\"#4d9221\"],[1,\"#276419\"]]},\"xaxis\":{\"gridcolor\":\"white\",\"linecolor\":\"white\",\"ticks\":\"\",\"title\":{\"standoff\":15},\"zerolinecolor\":\"white\",\"automargin\":true,\"zerolinewidth\":2},\"yaxis\":{\"gridcolor\":\"white\",\"linecolor\":\"white\",\"ticks\":\"\",\"title\":{\"standoff\":15},\"zerolinecolor\":\"white\",\"automargin\":true,\"zerolinewidth\":2},\"scene\":{\"xaxis\":{\"backgroundcolor\":\"#E5ECF6\",\"gridcolor\":\"white\",\"linecolor\":\"white\",\"showbackground\":true,\"ticks\":\"\",\"zerolinecolor\":\"white\",\"gridwidth\":2},\"yaxis\":{\"backgroundcolor\":\"#E5ECF6\",\"gridcolor\":\"white\",\"linecolor\":\"white\",\"showbackground\":true,\"ticks\":\"\",\"zerolinecolor\":\"white\",\"gridwidth\":2},\"zaxis\":{\"backgroundcolor\":\"#E5ECF6\",\"gridcolor\":\"white\",\"linecolor\":\"white\",\"showbackground\":true,\"ticks\":\"\",\"zerolinecolor\":\"white\",\"gridwidth\":2}},\"shapedefaults\":{\"line\":{\"color\":\"#2a3f5f\"}},\"annotationdefaults\":{\"arrowcolor\":\"#2a3f5f\",\"arrowhead\":0,\"arrowwidth\":1},\"geo\":{\"bgcolor\":\"white\",\"landcolor\":\"#E5ECF6\",\"subunitcolor\":\"white\",\"showland\":true,\"showlakes\":true,\"lakecolor\":\"white\"},\"title\":{\"x\":0.05},\"mapbox\":{\"style\":\"light\"}}},\"xaxis\":{\"anchor\":\"y\",\"domain\":[0.0,1.0],\"title\":{\"text\":\"Training compute (FLOP)\"},\"type\":\"log\"},\"yaxis\":{\"anchor\":\"x\",\"domain\":[0.0,1.0],\"title\":{\"text\":\"Perplexity (PTB)\"}},\"legend\":{\"title\":{\"text\":\"Model accessibility\"},\"tracegroupgap\":0},\"margin\":{\"t\":60}},                        {\"responsive\": true}                    ).then(function(){\n",
       "                            \n",
       "var gd = document.getElementById('3268a8b9-824f-4807-b175-7856d674b1de');\n",
       "var x = new MutationObserver(function (mutations, observer) {{\n",
       "        var display = window.getComputedStyle(gd).display;\n",
       "        if (!display || display === 'none') {{\n",
       "            console.log([gd, 'removed!']);\n",
       "            Plotly.purge(gd);\n",
       "            observer.disconnect();\n",
       "        }}\n",
       "}});\n",
       "\n",
       "// Listen for the removal of the full notebook cells\n",
       "var notebookContainer = gd.closest('#notebook-container');\n",
       "if (notebookContainer) {{\n",
       "    x.observe(notebookContainer, {childList: true});\n",
       "}}\n",
       "\n",
       "// Listen for the clearing of the current output cell\n",
       "var outputEl = gd.closest('.output');\n",
       "if (outputEl) {{\n",
       "    x.observe(outputEl, {childList: true});\n",
       "}}\n",
       "\n",
       "                        })                };                });            </script>        </div>"
      ]
     },
     "metadata": {},
     "output_type": "display_data"
    }
   ],
   "source": [
    "fig = px.scatter(\n",
    "    filtered_benchmark_df,\n",
    "    x='Training compute (FLOP)',\n",
    "    y='Perplexity (PTB)',\n",
    "    color='Model accessibility',\n",
    "    # text=filtered_benchmark_df.index\n",
    ")\n",
    "\n",
    "# Log x-axis\n",
    "fig.update_xaxes(type='log')\n",
    "\n",
    "# Move text to top\n",
    "fig.update_traces(textposition='middle left')\n",
    "\n",
    "save_plot(fig, results_dir, 'PTB_vs_compute')\n",
    "\n",
    "fig.show()"
   ]
  },
  {
   "cell_type": "code",
   "execution_count": null,
   "metadata": {},
   "outputs": [],
   "source": []
  }
 ],
 "metadata": {
  "kernelspec": {
   "display_name": "Python 3 (ipykernel)",
   "language": "python",
   "name": "python3"
  },
  "language_info": {
   "codemirror_mode": {
    "name": "ipython",
    "version": 3
   },
   "file_extension": ".py",
   "mimetype": "text/x-python",
   "name": "python",
   "nbconvert_exporter": "python",
   "pygments_lexer": "ipython3",
   "version": "3.11.9"
  }
 },
 "nbformat": 4,
 "nbformat_minor": 4
}
