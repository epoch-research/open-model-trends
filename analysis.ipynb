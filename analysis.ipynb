{
 "cells": [
  {
   "cell_type": "code",
   "execution_count": 118,
   "metadata": {},
   "outputs": [
    {
     "name": "stdout",
     "output_type": "stream",
     "text": [
      "The autoreload extension is already loaded. To reload it, use:\n",
      "  %reload_ext autoreload\n"
     ]
    }
   ],
   "source": [
    "%load_ext autoreload\n",
    "%autoreload 2"
   ]
  },
  {
   "cell_type": "code",
   "execution_count": 119,
   "metadata": {},
   "outputs": [],
   "source": [
    "import numpy as np\n",
    "import os\n",
    "import pandas as pd\n",
    "import plotly.express as px\n",
    "\n",
    "from data import *\n",
    "from plotting import *\n",
    "from regression import *\n",
    "from utils import *"
   ]
  },
  {
   "cell_type": "code",
   "execution_count": 120,
   "metadata": {},
   "outputs": [],
   "source": [
    "results_dir = 'results/updated-schema/'\n",
    "os.makedirs(results_dir, exist_ok=True)"
   ]
  },
  {
   "cell_type": "markdown",
   "metadata": {},
   "source": [
    "# Data"
   ]
  },
  {
   "cell_type": "code",
   "execution_count": 121,
   "metadata": {},
   "outputs": [],
   "source": [
    "# Load data\n",
    "pcd_df = load_pcd_df()"
   ]
  },
  {
   "cell_type": "code",
   "execution_count": 122,
   "metadata": {},
   "outputs": [
    {
     "data": {
      "text/html": [
       "<div>\n",
       "<style scoped>\n",
       "    .dataframe tbody tr th:only-of-type {\n",
       "        vertical-align: middle;\n",
       "    }\n",
       "\n",
       "    .dataframe tbody tr th {\n",
       "        vertical-align: top;\n",
       "    }\n",
       "\n",
       "    .dataframe thead th {\n",
       "        text-align: right;\n",
       "    }\n",
       "</style>\n",
       "<table border=\"1\" class=\"dataframe\">\n",
       "  <thead>\n",
       "    <tr style=\"text-align: right;\">\n",
       "      <th></th>\n",
       "      <th>System</th>\n",
       "      <th>Domain</th>\n",
       "      <th>Task</th>\n",
       "      <th>Authors</th>\n",
       "      <th>Notability criteria</th>\n",
       "      <th>Notability criteria notes</th>\n",
       "      <th>Model accessibility</th>\n",
       "      <th>Link</th>\n",
       "      <th>Citations</th>\n",
       "      <th>Reference</th>\n",
       "      <th>...</th>\n",
       "      <th>Organization categorization</th>\n",
       "      <th>Foundation model</th>\n",
       "      <th>Training compute lower bound</th>\n",
       "      <th>Training compute upper bound</th>\n",
       "      <th>Training chip-hours</th>\n",
       "      <th>Code accessibility</th>\n",
       "      <th>Dataset accessibility</th>\n",
       "      <th>Accessibility notes</th>\n",
       "      <th>Field 57</th>\n",
       "      <th>Organization categorization (from Organization)</th>\n",
       "    </tr>\n",
       "  </thead>\n",
       "  <tbody>\n",
       "    <tr>\n",
       "      <th>0</th>\n",
       "      <td>Llama 3</td>\n",
       "      <td>NaN</td>\n",
       "      <td>NaN</td>\n",
       "      <td>NaN</td>\n",
       "      <td>NaN</td>\n",
       "      <td>NaN</td>\n",
       "      <td>NaN</td>\n",
       "      <td>https://engineering.fb.com/2024/03/12/data-cen...</td>\n",
       "      <td>NaN</td>\n",
       "      <td>NaN</td>\n",
       "      <td>...</td>\n",
       "      <td>NaN</td>\n",
       "      <td>NaN</td>\n",
       "      <td>NaN</td>\n",
       "      <td>NaN</td>\n",
       "      <td>NaN</td>\n",
       "      <td>NaN</td>\n",
       "      <td>NaN</td>\n",
       "      <td>NaN</td>\n",
       "      <td>NaN</td>\n",
       "      <td>NaN</td>\n",
       "    </tr>\n",
       "    <tr>\n",
       "      <th>1</th>\n",
       "      <td>DBRX</td>\n",
       "      <td>Language</td>\n",
       "      <td>Chat,Code generation</td>\n",
       "      <td>Mosaic Research Team</td>\n",
       "      <td>NaN</td>\n",
       "      <td>NaN</td>\n",
       "      <td>Open access (restricted use)</td>\n",
       "      <td>https://www.databricks.com/blog/introducing-db...</td>\n",
       "      <td>NaN</td>\n",
       "      <td>Introducing DBRX: A New State-of-the-Art Open LLM</td>\n",
       "      <td>...</td>\n",
       "      <td>Industry</td>\n",
       "      <td>NaN</td>\n",
       "      <td>NaN</td>\n",
       "      <td>NaN</td>\n",
       "      <td>NaN</td>\n",
       "      <td>Unreleased</td>\n",
       "      <td>Unreleased</td>\n",
       "      <td>license: https://www.databricks.com/legal/open...</td>\n",
       "      <td>NaN</td>\n",
       "      <td>Industry</td>\n",
       "    </tr>\n",
       "    <tr>\n",
       "      <th>2</th>\n",
       "      <td>Claude 3 Haiku</td>\n",
       "      <td>Multimodal,Language,Vision</td>\n",
       "      <td>Chat</td>\n",
       "      <td>NaN</td>\n",
       "      <td>NaN</td>\n",
       "      <td>NaN</td>\n",
       "      <td>API access</td>\n",
       "      <td>https://www-cdn.anthropic.com/de8ba9b01c9ab7cb...</td>\n",
       "      <td>NaN</td>\n",
       "      <td>The Claude 3 Model Family: Opus, Sonnet, Haiku</td>\n",
       "      <td>...</td>\n",
       "      <td>Industry</td>\n",
       "      <td>NaN</td>\n",
       "      <td>NaN</td>\n",
       "      <td>NaN</td>\n",
       "      <td>NaN</td>\n",
       "      <td>NaN</td>\n",
       "      <td>NaN</td>\n",
       "      <td>NaN</td>\n",
       "      <td>NaN</td>\n",
       "      <td>Industry</td>\n",
       "    </tr>\n",
       "    <tr>\n",
       "      <th>3</th>\n",
       "      <td>Claude 3 Sonnet</td>\n",
       "      <td>Multimodal,Language,Vision</td>\n",
       "      <td>Chat</td>\n",
       "      <td>NaN</td>\n",
       "      <td>NaN</td>\n",
       "      <td>NaN</td>\n",
       "      <td>API access</td>\n",
       "      <td>https://www-cdn.anthropic.com/de8ba9b01c9ab7cb...</td>\n",
       "      <td>NaN</td>\n",
       "      <td>The Claude 3 Model Family: Opus, Sonnet, Haiku</td>\n",
       "      <td>...</td>\n",
       "      <td>Industry</td>\n",
       "      <td>NaN</td>\n",
       "      <td>NaN</td>\n",
       "      <td>NaN</td>\n",
       "      <td>NaN</td>\n",
       "      <td>NaN</td>\n",
       "      <td>NaN</td>\n",
       "      <td>NaN</td>\n",
       "      <td>NaN</td>\n",
       "      <td>Industry</td>\n",
       "    </tr>\n",
       "    <tr>\n",
       "      <th>4</th>\n",
       "      <td>Claude 3 Opus</td>\n",
       "      <td>Multimodal,Language,Vision</td>\n",
       "      <td>Chat</td>\n",
       "      <td>NaN</td>\n",
       "      <td>SOTA improvement</td>\n",
       "      <td>NaN</td>\n",
       "      <td>API access</td>\n",
       "      <td>https://www-cdn.anthropic.com/de8ba9b01c9ab7cb...</td>\n",
       "      <td>NaN</td>\n",
       "      <td>The Claude 3 Model Family: Opus, Sonnet, Haiku</td>\n",
       "      <td>...</td>\n",
       "      <td>Industry</td>\n",
       "      <td>NaN</td>\n",
       "      <td>NaN</td>\n",
       "      <td>NaN</td>\n",
       "      <td>NaN</td>\n",
       "      <td>NaN</td>\n",
       "      <td>NaN</td>\n",
       "      <td>NaN</td>\n",
       "      <td>NaN</td>\n",
       "      <td>Industry</td>\n",
       "    </tr>\n",
       "    <tr>\n",
       "      <th>...</th>\n",
       "      <td>...</td>\n",
       "      <td>...</td>\n",
       "      <td>...</td>\n",
       "      <td>...</td>\n",
       "      <td>...</td>\n",
       "      <td>...</td>\n",
       "      <td>...</td>\n",
       "      <td>...</td>\n",
       "      <td>...</td>\n",
       "      <td>...</td>\n",
       "      <td>...</td>\n",
       "      <td>...</td>\n",
       "      <td>...</td>\n",
       "      <td>...</td>\n",
       "      <td>...</td>\n",
       "      <td>...</td>\n",
       "      <td>...</td>\n",
       "      <td>...</td>\n",
       "      <td>...</td>\n",
       "      <td>...</td>\n",
       "      <td>...</td>\n",
       "    </tr>\n",
       "    <tr>\n",
       "      <th>1408</th>\n",
       "      <td>Self Organizing System</td>\n",
       "      <td>Other</td>\n",
       "      <td>Pattern recognition</td>\n",
       "      <td>W. A. Clark and B. G. Farley</td>\n",
       "      <td>Historical significance</td>\n",
       "      <td>NaN</td>\n",
       "      <td>NaN</td>\n",
       "      <td>https://dl.acm.org/doi/10.1145/1455292.1455309</td>\n",
       "      <td>93.0</td>\n",
       "      <td>Generalization of pattern recognition in a sel...</td>\n",
       "      <td>...</td>\n",
       "      <td>Academia</td>\n",
       "      <td>NaN</td>\n",
       "      <td>NaN</td>\n",
       "      <td>NaN</td>\n",
       "      <td>NaN</td>\n",
       "      <td>NaN</td>\n",
       "      <td>NaN</td>\n",
       "      <td>NaN</td>\n",
       "      <td>NaN</td>\n",
       "      <td>Academia</td>\n",
       "    </tr>\n",
       "    <tr>\n",
       "      <th>1409</th>\n",
       "      <td>Genetic algorithm</td>\n",
       "      <td>Other</td>\n",
       "      <td>NaN</td>\n",
       "      <td>NA Barricelli</td>\n",
       "      <td>Historical significance</td>\n",
       "      <td>Possibly first computer simulation of a geneti...</td>\n",
       "      <td>NaN</td>\n",
       "      <td>https://link.springer.com/article/10.1007/BF01...</td>\n",
       "      <td>266.0</td>\n",
       "      <td>Numerical testing of evolution theories</td>\n",
       "      <td>...</td>\n",
       "      <td>Academia</td>\n",
       "      <td>NaN</td>\n",
       "      <td>NaN</td>\n",
       "      <td>NaN</td>\n",
       "      <td>NaN</td>\n",
       "      <td>NaN</td>\n",
       "      <td>NaN</td>\n",
       "      <td>NaN</td>\n",
       "      <td>NaN</td>\n",
       "      <td>Academia</td>\n",
       "    </tr>\n",
       "    <tr>\n",
       "      <th>1410</th>\n",
       "      <td>SNARC</td>\n",
       "      <td>Robotics</td>\n",
       "      <td>Maze solving</td>\n",
       "      <td>Marvin Minsky</td>\n",
       "      <td>Historical significance</td>\n",
       "      <td>NaN</td>\n",
       "      <td>NaN</td>\n",
       "      <td>https://en.wikipedia.org/wiki/Stochastic_neura...</td>\n",
       "      <td>33.0</td>\n",
       "      <td>A Neural-Analogue Calculator Based upon a Prob...</td>\n",
       "      <td>...</td>\n",
       "      <td>Academia</td>\n",
       "      <td>NaN</td>\n",
       "      <td>NaN</td>\n",
       "      <td>NaN</td>\n",
       "      <td>NaN</td>\n",
       "      <td>NaN</td>\n",
       "      <td>NaN</td>\n",
       "      <td>NaN</td>\n",
       "      <td>NaN</td>\n",
       "      <td>Academia</td>\n",
       "    </tr>\n",
       "    <tr>\n",
       "      <th>1411</th>\n",
       "      <td>Theseus</td>\n",
       "      <td>Robotics</td>\n",
       "      <td>Maze solving</td>\n",
       "      <td>Claude Shannon</td>\n",
       "      <td>Historical significance</td>\n",
       "      <td>NaN</td>\n",
       "      <td>NaN</td>\n",
       "      <td>https://www.technologyreview.com/2018/12/19/13...</td>\n",
       "      <td>0.0</td>\n",
       "      <td>Mighty Mouse</td>\n",
       "      <td>...</td>\n",
       "      <td>Industry</td>\n",
       "      <td>NaN</td>\n",
       "      <td>NaN</td>\n",
       "      <td>NaN</td>\n",
       "      <td>NaN</td>\n",
       "      <td>NaN</td>\n",
       "      <td>NaN</td>\n",
       "      <td>NaN</td>\n",
       "      <td>NaN</td>\n",
       "      <td>Industry</td>\n",
       "    </tr>\n",
       "    <tr>\n",
       "      <th>1412</th>\n",
       "      <td>NaN</td>\n",
       "      <td>NaN</td>\n",
       "      <td>NaN</td>\n",
       "      <td>NaN</td>\n",
       "      <td>NaN</td>\n",
       "      <td>NaN</td>\n",
       "      <td>NaN</td>\n",
       "      <td>NaN</td>\n",
       "      <td>NaN</td>\n",
       "      <td>NaN</td>\n",
       "      <td>...</td>\n",
       "      <td>NaN</td>\n",
       "      <td>NaN</td>\n",
       "      <td>NaN</td>\n",
       "      <td>NaN</td>\n",
       "      <td>NaN</td>\n",
       "      <td>NaN</td>\n",
       "      <td>NaN</td>\n",
       "      <td>NaN</td>\n",
       "      <td>NaN</td>\n",
       "      <td>NaN</td>\n",
       "    </tr>\n",
       "  </tbody>\n",
       "</table>\n",
       "<p>1413 rows × 58 columns</p>\n",
       "</div>"
      ],
      "text/plain": [
       "                      System                      Domain  \\\n",
       "0                    Llama 3                         NaN   \n",
       "1                       DBRX                    Language   \n",
       "2             Claude 3 Haiku  Multimodal,Language,Vision   \n",
       "3            Claude 3 Sonnet  Multimodal,Language,Vision   \n",
       "4              Claude 3 Opus  Multimodal,Language,Vision   \n",
       "...                      ...                         ...   \n",
       "1408  Self Organizing System                       Other   \n",
       "1409       Genetic algorithm                       Other   \n",
       "1410                   SNARC                    Robotics   \n",
       "1411                 Theseus                    Robotics   \n",
       "1412                     NaN                         NaN   \n",
       "\n",
       "                      Task                       Authors  \\\n",
       "0                      NaN                           NaN   \n",
       "1     Chat,Code generation          Mosaic Research Team   \n",
       "2                     Chat                           NaN   \n",
       "3                     Chat                           NaN   \n",
       "4                     Chat                           NaN   \n",
       "...                    ...                           ...   \n",
       "1408   Pattern recognition  W. A. Clark and B. G. Farley   \n",
       "1409                   NaN                 NA Barricelli   \n",
       "1410          Maze solving                 Marvin Minsky   \n",
       "1411          Maze solving                Claude Shannon   \n",
       "1412                   NaN                           NaN   \n",
       "\n",
       "          Notability criteria  \\\n",
       "0                         NaN   \n",
       "1                         NaN   \n",
       "2                         NaN   \n",
       "3                         NaN   \n",
       "4            SOTA improvement   \n",
       "...                       ...   \n",
       "1408  Historical significance   \n",
       "1409  Historical significance   \n",
       "1410  Historical significance   \n",
       "1411  Historical significance   \n",
       "1412                      NaN   \n",
       "\n",
       "                              Notability criteria notes  \\\n",
       "0                                                   NaN   \n",
       "1                                                   NaN   \n",
       "2                                                   NaN   \n",
       "3                                                   NaN   \n",
       "4                                                   NaN   \n",
       "...                                                 ...   \n",
       "1408                                                NaN   \n",
       "1409  Possibly first computer simulation of a geneti...   \n",
       "1410                                                NaN   \n",
       "1411                                                NaN   \n",
       "1412                                                NaN   \n",
       "\n",
       "               Model accessibility  \\\n",
       "0                              NaN   \n",
       "1     Open access (restricted use)   \n",
       "2                       API access   \n",
       "3                       API access   \n",
       "4                       API access   \n",
       "...                            ...   \n",
       "1408                           NaN   \n",
       "1409                           NaN   \n",
       "1410                           NaN   \n",
       "1411                           NaN   \n",
       "1412                           NaN   \n",
       "\n",
       "                                                   Link  Citations  \\\n",
       "0     https://engineering.fb.com/2024/03/12/data-cen...        NaN   \n",
       "1     https://www.databricks.com/blog/introducing-db...        NaN   \n",
       "2     https://www-cdn.anthropic.com/de8ba9b01c9ab7cb...        NaN   \n",
       "3     https://www-cdn.anthropic.com/de8ba9b01c9ab7cb...        NaN   \n",
       "4     https://www-cdn.anthropic.com/de8ba9b01c9ab7cb...        NaN   \n",
       "...                                                 ...        ...   \n",
       "1408     https://dl.acm.org/doi/10.1145/1455292.1455309       93.0   \n",
       "1409  https://link.springer.com/article/10.1007/BF01...      266.0   \n",
       "1410  https://en.wikipedia.org/wiki/Stochastic_neura...       33.0   \n",
       "1411  https://www.technologyreview.com/2018/12/19/13...        0.0   \n",
       "1412                                                NaN        NaN   \n",
       "\n",
       "                                              Reference  ...  \\\n",
       "0                                                   NaN  ...   \n",
       "1     Introducing DBRX: A New State-of-the-Art Open LLM  ...   \n",
       "2        The Claude 3 Model Family: Opus, Sonnet, Haiku  ...   \n",
       "3        The Claude 3 Model Family: Opus, Sonnet, Haiku  ...   \n",
       "4        The Claude 3 Model Family: Opus, Sonnet, Haiku  ...   \n",
       "...                                                 ...  ...   \n",
       "1408  Generalization of pattern recognition in a sel...  ...   \n",
       "1409            Numerical testing of evolution theories  ...   \n",
       "1410  A Neural-Analogue Calculator Based upon a Prob...  ...   \n",
       "1411                                       Mighty Mouse  ...   \n",
       "1412                                                NaN  ...   \n",
       "\n",
       "     Organization categorization Foundation model  \\\n",
       "0                            NaN              NaN   \n",
       "1                       Industry              NaN   \n",
       "2                       Industry              NaN   \n",
       "3                       Industry              NaN   \n",
       "4                       Industry              NaN   \n",
       "...                          ...              ...   \n",
       "1408                    Academia              NaN   \n",
       "1409                    Academia              NaN   \n",
       "1410                    Academia              NaN   \n",
       "1411                    Industry              NaN   \n",
       "1412                         NaN              NaN   \n",
       "\n",
       "      Training compute lower bound Training compute upper bound  \\\n",
       "0                              NaN                          NaN   \n",
       "1                              NaN                          NaN   \n",
       "2                              NaN                          NaN   \n",
       "3                              NaN                          NaN   \n",
       "4                              NaN                          NaN   \n",
       "...                            ...                          ...   \n",
       "1408                           NaN                          NaN   \n",
       "1409                           NaN                          NaN   \n",
       "1410                           NaN                          NaN   \n",
       "1411                           NaN                          NaN   \n",
       "1412                           NaN                          NaN   \n",
       "\n",
       "      Training chip-hours Code accessibility Dataset accessibility  \\\n",
       "0                     NaN                NaN                   NaN   \n",
       "1                     NaN         Unreleased            Unreleased   \n",
       "2                     NaN                NaN                   NaN   \n",
       "3                     NaN                NaN                   NaN   \n",
       "4                     NaN                NaN                   NaN   \n",
       "...                   ...                ...                   ...   \n",
       "1408                  NaN                NaN                   NaN   \n",
       "1409                  NaN                NaN                   NaN   \n",
       "1410                  NaN                NaN                   NaN   \n",
       "1411                  NaN                NaN                   NaN   \n",
       "1412                  NaN                NaN                   NaN   \n",
       "\n",
       "                                    Accessibility notes  Field 57  \\\n",
       "0                                                   NaN       NaN   \n",
       "1     license: https://www.databricks.com/legal/open...       NaN   \n",
       "2                                                   NaN       NaN   \n",
       "3                                                   NaN       NaN   \n",
       "4                                                   NaN       NaN   \n",
       "...                                                 ...       ...   \n",
       "1408                                                NaN       NaN   \n",
       "1409                                                NaN       NaN   \n",
       "1410                                                NaN       NaN   \n",
       "1411                                                NaN       NaN   \n",
       "1412                                                NaN       NaN   \n",
       "\n",
       "     Organization categorization (from Organization)  \n",
       "0                                                NaN  \n",
       "1                                           Industry  \n",
       "2                                           Industry  \n",
       "3                                           Industry  \n",
       "4                                           Industry  \n",
       "...                                              ...  \n",
       "1408                                        Academia  \n",
       "1409                                        Academia  \n",
       "1410                                        Academia  \n",
       "1411                                        Industry  \n",
       "1412                                             NaN  \n",
       "\n",
       "[1413 rows x 58 columns]"
      ]
     },
     "execution_count": 122,
     "metadata": {},
     "output_type": "execute_result"
    }
   ],
   "source": [
    "pcd_df"
   ]
  },
  {
   "cell_type": "code",
   "execution_count": 123,
   "metadata": {},
   "outputs": [
    {
     "data": {
      "text/plain": [
       "809    Unreleased\n",
       "Name: Model accessibility, dtype: object"
      ]
     },
     "execution_count": 123,
     "metadata": {},
     "output_type": "execute_result"
    }
   ],
   "source": [
    "pcd_df.loc[pcd_df['System'] == 'Megatron-BERT']['Model accessibility']"
   ]
  },
  {
   "cell_type": "code",
   "execution_count": 124,
   "metadata": {},
   "outputs": [
    {
     "data": {
      "text/plain": [
       "239"
      ]
     },
     "execution_count": 124,
     "metadata": {},
     "output_type": "execute_result"
    }
   ],
   "source": [
    "access_df_with_deprecated = pcd_df.dropna(subset=['Publication date', 'Training compute (FLOP)', 'Model accessibility'])\n",
    "len(access_df_with_deprecated)"
   ]
  },
  {
   "cell_type": "code",
   "execution_count": 125,
   "metadata": {},
   "outputs": [
    {
     "data": {
      "text/plain": [
       "array(['Open access (restricted use)', 'API access', 'Open source',\n",
       "       'Open access (non-commercial)', 'Hosted access (no API)',\n",
       "       'Permissive license (depr.)', 'Fully open-source (depr.)',\n",
       "       'Unreleased', 'Weights available (depr.)'], dtype=object)"
      ]
     },
     "execution_count": 125,
     "metadata": {},
     "output_type": "execute_result"
    }
   ],
   "source": [
    "access_df_with_deprecated['Model accessibility'].unique()"
   ]
  },
  {
   "cell_type": "code",
   "execution_count": 126,
   "metadata": {},
   "outputs": [
    {
     "name": "stdout",
     "output_type": "stream",
     "text": [
      "Open access (restricted use) 17\n",
      "API access 15\n",
      "Open source 55\n",
      "Open access (non-commercial) 13\n",
      "Hosted access (no API) 4\n",
      "Permissive license (depr.) 39\n",
      "Fully open-source (depr.) 52\n",
      "Unreleased 40\n",
      "Weights available (depr.) 4\n"
     ]
    }
   ],
   "source": [
    "for cat in access_df_with_deprecated['Model accessibility'].unique():\n",
    "    print(cat, len(access_df_with_deprecated.loc[access_df_with_deprecated['Model accessibility'] == cat]))"
   ]
  },
  {
   "cell_type": "code",
   "execution_count": 127,
   "metadata": {},
   "outputs": [],
   "source": [
    "open_access_categories = ['Open source', 'Open access (restricted use)', 'Open access (non-commercial)']\n",
    "closed_access_categories = ['API access', 'Hosted access (no API)', 'Unreleased']"
   ]
  },
  {
   "cell_type": "code",
   "execution_count": 128,
   "metadata": {},
   "outputs": [],
   "source": [
    "access_df = access_df_with_deprecated.loc[\n",
    "    access_df_with_deprecated['Model accessibility'].isin(open_access_categories + closed_access_categories)\n",
    "]"
   ]
  },
  {
   "cell_type": "code",
   "execution_count": 129,
   "metadata": {},
   "outputs": [
    {
     "data": {
      "text/plain": [
       "85"
      ]
     },
     "execution_count": 129,
     "metadata": {},
     "output_type": "execute_result"
    }
   ],
   "source": [
    "open_access_df = access_df.loc[access_df['Model accessibility'].isin(open_access_categories)]\n",
    "len(open_access_df)"
   ]
  },
  {
   "cell_type": "code",
   "execution_count": 130,
   "metadata": {},
   "outputs": [
    {
     "data": {
      "text/plain": [
       "59"
      ]
     },
     "execution_count": 130,
     "metadata": {},
     "output_type": "execute_result"
    }
   ],
   "source": [
    "closed_access_df = access_df.loc[access_df['Model accessibility'].isin(closed_access_categories)]\n",
    "len(closed_access_df)"
   ]
  },
  {
   "cell_type": "code",
   "execution_count": 131,
   "metadata": {},
   "outputs": [
    {
     "name": "stderr",
     "output_type": "stream",
     "text": [
      "/var/folders/s2/stl5t_bn7xg9vdfxxr71rzrc0000gn/T/ipykernel_10875/148813227.py:2: SettingWithCopyWarning:\n",
      "\n",
      "\n",
      "A value is trying to be set on a copy of a slice from a DataFrame.\n",
      "Try using .loc[row_indexer,col_indexer] = value instead\n",
      "\n",
      "See the caveats in the documentation: https://pandas.pydata.org/pandas-docs/stable/user_guide/indexing.html#returning-a-view-versus-a-copy\n",
      "\n"
     ]
    }
   ],
   "source": [
    "# Add column with binary access label\n",
    "access_df['Model open/closed'] = access_df['Model accessibility'].apply(\n",
    "    lambda x: 'Open' if x in open_access_categories else 'Closed'\n",
    ")"
   ]
  },
  {
   "cell_type": "markdown",
   "metadata": {},
   "source": [
    "## Compute percentile filtering"
   ]
  },
  {
   "cell_type": "code",
   "execution_count": 132,
   "metadata": {},
   "outputs": [],
   "source": [
    "outlier_window_size = 2  # years\n",
    "start_large_scale_era = '2015-09-01'"
   ]
  },
  {
   "cell_type": "code",
   "execution_count": 133,
   "metadata": {},
   "outputs": [],
   "source": [
    "pcd_df['Publication date'] = pd.to_datetime(pcd_df['Publication date'])\n",
    "pcd_df.sort_values('Publication date', inplace=True)\n",
    "pcd_df.dropna(subset=['Publication date', 'Notability criteria', 'Training compute (FLOP)'], inplace=True)"
   ]
  },
  {
   "cell_type": "code",
   "execution_count": 134,
   "metadata": {},
   "outputs": [
    {
     "name": "stdout",
     "output_type": "stream",
     "text": [
      "95\n",
      "90\n",
      "85\n",
      "80\n",
      "75\n",
      "70\n",
      "65\n",
      "60\n",
      "55\n",
      "50\n",
      "45\n",
      "40\n",
      "35\n",
      "30\n",
      "25\n",
      "20\n",
      "15\n",
      "10\n",
      "5\n",
      "0\n"
     ]
    }
   ],
   "source": [
    "systems_by_percentile = {}\n",
    "percentile_interval = 5\n",
    "for percentile in range(95, -5, -percentile_interval):\n",
    "  print(percentile)\n",
    "  percentile_compute_low = np.zeros(len(pcd_df))\n",
    "  percentile_compute_high = np.zeros(len(pcd_df))\n",
    "  # Iterate through each row and calculate the 2-year moving average for each date\n",
    "  for i, (index, row) in enumerate(pcd_df.iterrows()):\n",
    "    # Define the 2-year window\n",
    "    start_date = row['Publication date'] - pd.DateOffset(years=outlier_window_size/2)\n",
    "    end_date = row['Publication date'] + pd.DateOffset(years=outlier_window_size/2)\n",
    "\n",
    "    # Filter the DataFrame for this window\n",
    "    window_df = pcd_df[(pcd_df['Publication date'] >= start_date) & (pcd_df['Publication date'] <= end_date)]\n",
    "\n",
    "    percentile_compute_low[i] = np.percentile(window_df['Training compute (FLOP)'], percentile)\n",
    "    percentile_compute_high[i] = np.percentile(window_df['Training compute (FLOP)'], percentile + percentile_interval)\n",
    "\n",
    "  systems_flag = pcd_df['Training compute (FLOP)'] > np.array(percentile_compute_low)\n",
    "  extra_systems_flag = pcd_df['Training compute (FLOP)'] <= np.array(percentile_compute_high)\n",
    "\n",
    "  # raise Exception(\"Edit the following line if you want to consider models released after 2023-12-31.\")\n",
    "  extra_systems = pcd_df['System'][systems_flag & extra_systems_flag & (pcd_df['Publication date'] > pd.to_datetime('2015-09-30'))].values\n",
    "\n",
    "  systems_by_percentile[percentile] = list(extra_systems)"
   ]
  },
  {
   "cell_type": "code",
   "execution_count": 135,
   "metadata": {},
   "outputs": [
    {
     "data": {
      "text/plain": [
       "{95: ['GNMT',\n",
       "  'AlphaGo Master',\n",
       "  'AlphaGo Zero',\n",
       "  'AlphaZero',\n",
       "  'ResNeXt-101 32x48d',\n",
       "  'Megatron-BERT',\n",
       "  'OpenAI Five',\n",
       "  'Meena',\n",
       "  'GPT-3 175B (davinci)',\n",
       "  'Megatron-Turing NLG 530B',\n",
       "  'ERNIE 3.0 Titan',\n",
       "  'PaLM (540B)',\n",
       "  'Minerva (540B)',\n",
       "  'GPT-4',\n",
       "  'PaLM 2',\n",
       "  'Inflection-2',\n",
       "  'Gemini Ultra'],\n",
       " 90: ['NASv3 (CIFAR-10)',\n",
       "  'FTW',\n",
       "  'T5-11B',\n",
       "  'AlphaStar',\n",
       "  'mT5-XXL',\n",
       "  'Switch',\n",
       "  'Gopher (280B)',\n",
       "  'Chinchilla',\n",
       "  'U-PaLM (540B)',\n",
       "  'GPT-3.5 (text-davinci-003)',\n",
       "  'Claude 2',\n",
       "  'Falcon 180B'],\n",
       " 85: ['AlphaGo Fan',\n",
       "  'AlphaGo Lee',\n",
       "  'BigGAN-deep 512x512',\n",
       "  'Megatron-LM (8.3B)',\n",
       "  'OpenAI Five Rerun',\n",
       "  'Turing-NLG',\n",
       "  'Yuan 1.0',\n",
       "  'GLaM',\n",
       "  'LaMDA',\n",
       "  'OPT-175B',\n",
       "  'BLOOM-176B',\n",
       "  'Llama 2-70B',\n",
       "  'ChatGLM3',\n",
       "  'Qwen-72B'],\n",
       " 80: ['JFT',\n",
       "  'OpenAI TI7 DOTA 1v1',\n",
       "  'AmoebaNet-A (F=448)',\n",
       "  'GPT-2 (1.5B)',\n",
       "  'iGPT-XL',\n",
       "  'DALL-E',\n",
       "  'Meta Pseudo Labels',\n",
       "  'ProtT5-XXL',\n",
       "  'ByT5-XXL',\n",
       "  'GOAT',\n",
       "  'HyperCLOVA',\n",
       "  'AlphaCode',\n",
       "  'Flamingo',\n",
       "  'Parti',\n",
       "  'BlenderBot 3',\n",
       "  'LLaMA-65B',\n",
       "  'PanGu-Σ',\n",
       "  'xTrimoPGLM -100B',\n",
       "  'Yi-34B'],\n",
       " 75: ['DeepSpeech2 (English)',\n",
       "  'Xception',\n",
       "  'Libratus',\n",
       "  'IMPALA',\n",
       "  'BERT-Large',\n",
       "  'RoBERTa Large',\n",
       "  'ContextNet + Noisy Student',\n",
       "  'GShard (dense)',\n",
       "  'GPT-NeoX-20B',\n",
       "  'UL2',\n",
       "  'GLM-130B',\n",
       "  'Galactica',\n",
       "  'ViT-22B',\n",
       "  'Llama 2-34B'],\n",
       " 70: ['Big Transformer for Back-Translation',\n",
       "  'MnasNet-A1 + SSDLite',\n",
       "  'MnasNet-A3',\n",
       "  'ALBERT-xxlarge',\n",
       "  'ELECTRA',\n",
       "  'iGPT-L',\n",
       "  'PLUG',\n",
       "  'ProtBERT-BFD',\n",
       "  'CoAtNet',\n",
       "  'FLAN 137B',\n",
       "  'AlexaTM 20B',\n",
       "  'Falcon-40B'],\n",
       " 65: ['ResNet-152 (ImageNet)',\n",
       "  'PolyNet',\n",
       "  'MoE',\n",
       "  'YOLOv3',\n",
       "  'Transformer (Adaptive Input Embeddings)',\n",
       "  'Mesh-TensorFlow Transformer 4.9B (language modelling)',\n",
       "  'BERT-Large-CAS (PTB+WT2+WT103)',\n",
       "  'Conformer + Wav2vec 2.0 + Noisy Student',\n",
       "  'ProtT5-XXL-BFD',\n",
       "  'CogView',\n",
       "  'ALIGN',\n",
       "  'Florence',\n",
       "  'Stable Diffusion (LDM-KL-8-G)',\n",
       "  'CoCa',\n",
       "  'BloombergGPT',\n",
       "  'StarCoder',\n",
       "  'Llama 2-13B',\n",
       "  'Skywork-13B'],\n",
       " 60: ['DeepStack',\n",
       "  'PNASNet-5',\n",
       "  'Population-based DRL',\n",
       "  'Mesh-TensorFlow Transformer 2.9B (translation)',\n",
       "  'Megatron-LM (355M)',\n",
       "  'T5-3B',\n",
       "  'CamemBERT',\n",
       "  'Noisy Student (L2)',\n",
       "  'Once for All',\n",
       "  'CLIP (ViT L/14@336px)',\n",
       "  'ERNIE 3.0',\n",
       "  'BASIC-L',\n",
       "  'XGLM-7.5B',\n",
       "  'ESM2-15B',\n",
       "  'PaLI',\n",
       "  'Taiyi-Stable Diffusion',\n",
       "  'Llama 2-7B',\n",
       "  'Nemotron-3-8B'],\n",
       " 55: ['LSTM (Hebbian, Cache, MbPA)',\n",
       "  'SciBERT',\n",
       "  'DD-PPO',\n",
       "  'ViT-Huge/14',\n",
       "  'MSA Transformer',\n",
       "  'M6-T',\n",
       "  'T0-XXL',\n",
       "  'Whisper',\n",
       "  'XGen-7B'],\n",
       " 50: ['BIDAF',\n",
       "  'Transformer',\n",
       "  'GPT',\n",
       "  'GBERT-Large',\n",
       "  'wave2vec 2.0 LARGE',\n",
       "  'AlphaFold 2',\n",
       "  'DeBERTa',\n",
       "  'HuBERT',\n",
       "  'XGLM',\n",
       "  'Imagen',\n",
       "  'NLLB',\n",
       "  'ESM2-3B',\n",
       "  'LLaMA-7B',\n",
       "  'LLaMA-13B',\n",
       "  'WizardLM-7B',\n",
       "  'Pangu-Weather'],\n",
       " 45: ['RetinaNet-R101',\n",
       "  'Transformer + Simple Recurrent Unit',\n",
       "  'ProxylessNAS',\n",
       "  'Sandwich Transformer',\n",
       "  'German ELECTRA Large',\n",
       "  'CPM-Large',\n",
       "  'SEER',\n",
       "  'ProGen2-xlarge',\n",
       "  'OmegaPLM',\n",
       "  'Jais',\n",
       "  'CogVLM'],\n",
       " 40: ['Part-of-sentence tagging model',\n",
       "  'GL-LWGC-AWD-MoS-LSTM + dynamic evaluation (WT2)',\n",
       "  'Transformer-XL Large',\n",
       "  'KataGo',\n",
       "  'MuZero',\n",
       "  'AlphaFold',\n",
       "  'DETR',\n",
       "  'ESM1-670M (UR50/S)',\n",
       "  'ESM1-670M (UR50/D)',\n",
       "  'ViT-G/14',\n",
       "  'AlphaFold-Multimer',\n",
       "  'NÜWA',\n",
       "  'Gato',\n",
       "  'Tranception',\n",
       "  'ESM2-650M',\n",
       "  'Nucleotide Transformer',\n",
       "  'VideoMAE V2',\n",
       "  'Segment Anything Model'],\n",
       " 35: ['Named Entity Recognition model',\n",
       "  'R-FCN',\n",
       "  'ObjectNet',\n",
       "  'Feedback Transformer',\n",
       "  'EMDR',\n",
       "  'ViT-G (model soup)',\n",
       "  'AudioGen',\n",
       "  'DINOv2',\n",
       "  'PeptideBERT'],\n",
       " 30: ['AWD-LSTM - 3-layer LSTM (tied) + continuous cache pointer (WT2)',\n",
       "  'AWD-LSTM-MoS + dynamic evaluation (WT2, 2017)',\n",
       "  'QRNN',\n",
       "  '(ensemble): AWD-LSTM-DOC (fin) × 5 (WT2)',\n",
       "  'TrellisNet',\n",
       "  'FAIRSEQ Adaptive Inputs',\n",
       "  'Transformer-XL Large + Phrase Induction',\n",
       "  'DistilBERT',\n",
       "  'ATLAS',\n",
       "  'ESM1-670M (UR100)',\n",
       "  'LUKE',\n",
       "  'ESM1b',\n",
       "  'ADM',\n",
       "  'CodeT5-base',\n",
       "  'CodeT5-large',\n",
       "  'EVA',\n",
       "  'Ankh_large'],\n",
       " 25: ['Zoneout + Variational LSTM (WT2)',\n",
       "  'VD-LSTM+REAL Large',\n",
       "  '4 layer QRNN (h=2500)',\n",
       "  'Big-Little Net (speech)',\n",
       "  'Hanabi 4 player',\n",
       "  'Tensorized Transformer (257M)',\n",
       "  'AlphaX-1',\n",
       "  'TaLK Convolution',\n",
       "  'ESM1-85M',\n",
       "  'KEPLER',\n",
       "  'ViT + DINO',\n",
       "  'ConSERT',\n",
       "  'Denoising Diffusion Probabilistic Models (LSUN Bedroom)',\n",
       "  'S4',\n",
       "  'Swin Transformer V2',\n",
       "  'PolyCoder',\n",
       "  'GenSLM',\n",
       "  'Ankh_base',\n",
       "  'BLIP-2 (Q-Former)',\n",
       "  'Flan T5-XXL + BLIP-2',\n",
       "  'Incoder-6.7B'],\n",
       " 20: ['Fraternal dropout + AWD-LSTM 3-layer (WT2)',\n",
       "  'Dropout-LSTM+Noise(Bernoulli) (WT2)',\n",
       "  'Decoupled weight decay regularization',\n",
       "  'Cross-lingual alignment',\n",
       "  'DLRM-2020',\n",
       "  'Base LM + kNN LM + Continuous Cache',\n",
       "  'ESM1-43M',\n",
       "  'ESM2-150M',\n",
       "  'AR-LDM',\n",
       "  'Hybrid H3-2.7B',\n",
       "  'DiT-XL/2'],\n",
       " 15: ['Variational (untied weights, MC) LSTM (Large)',\n",
       "  'Pointer Sentinel-LSTM (medium)',\n",
       "  'Neural Architecture Search with base 8 and shared embeddings',\n",
       "  'ENAS',\n",
       "  'aLSTM(depth-2)+RecurrentPolicy (WT2)',\n",
       "  'Transformer-XL DeFINE (141M)',\n",
       "  'DeLight',\n",
       "  'ERNIE-Doc (247M)',\n",
       "  'EfficientNetV2',\n",
       "  'Adaptive Input Transformer + RD',\n",
       "  'DNABERT',\n",
       "  'BERT-RBP',\n",
       "  'ESM2-35M',\n",
       "  'Discriminator Guidance',\n",
       "  'DDPM-IP (CelebA)',\n",
       "  'ONE-PEACE'],\n",
       " 10: ['EI-REHN-1000D',\n",
       "  'DARTS',\n",
       "  'AWD-LSTM-DRILL + dynamic evaluation† (WT2)',\n",
       "  'NAS+ESS (156M)',\n",
       "  'ProBERTa',\n",
       "  'SRU++ Large',\n",
       "  'ProteinBERT',\n",
       "  'DiffDock',\n",
       "  'Fusion in Encoder',\n",
       "  'LLaVA',\n",
       "  'LLaVA 1.5'],\n",
       " 5: ['VD-RHN',\n",
       "  'ISS',\n",
       "  'AWD-LSTM+WT+Cache+IOG (WT2)',\n",
       "  'AWD-LSTM + MoS + Partial Shuffled',\n",
       "  'UDSMProt',\n",
       "  'MMLSTM',\n",
       "  'Tensor-Transformer(1core)+PN (WT103)',\n",
       "  'Transformer local-attention (NesT-B)',\n",
       "  'Detic',\n",
       "  'Segatron-XL large, M=384 + HCP',\n",
       "  'Sparse all-MLP',\n",
       "  'ESM2-8M',\n",
       "  'CaLM',\n",
       "  'MultiBand Diffusion'],\n",
       " 0: ['2-layer-LSTM+Deep-Gradient-Compression',\n",
       "  'Fine-tuned-AWD-LSTM-DOC(fin)',\n",
       "  'Multi-cell LSTM',\n",
       "  'Pluribus',\n",
       "  'TransformerXL + spectrum control',\n",
       "  'DensePhrases',\n",
       "  'CT-MoS (WT2)',\n",
       "  'MedBERT',\n",
       "  'PermuteFormer',\n",
       "  'base LM+GNN+kNN',\n",
       "  'DITTO',\n",
       "  'Mogrifier RLSTM (WT2)',\n",
       "  'VALL-E',\n",
       "  'HyenaDNA',\n",
       "  'CODEFUSION (Python)']}"
      ]
     },
     "execution_count": 135,
     "metadata": {},
     "output_type": "execute_result"
    }
   ],
   "source": [
    "systems_by_percentile"
   ]
  },
  {
   "cell_type": "code",
   "execution_count": 136,
   "metadata": {},
   "outputs": [
    {
     "data": {
      "text/plain": [
       "['BIDAF',\n",
       " 'Transformer',\n",
       " 'GPT',\n",
       " 'GBERT-Large',\n",
       " 'wave2vec 2.0 LARGE',\n",
       " 'AlphaFold 2',\n",
       " 'DeBERTa',\n",
       " 'HuBERT',\n",
       " 'XGLM',\n",
       " 'Imagen',\n",
       " 'NLLB',\n",
       " 'ESM2-3B',\n",
       " 'LLaMA-7B',\n",
       " 'LLaMA-13B',\n",
       " 'WizardLM-7B',\n",
       " 'Pangu-Weather',\n",
       " 'LSTM (Hebbian, Cache, MbPA)',\n",
       " 'SciBERT',\n",
       " 'DD-PPO',\n",
       " 'ViT-Huge/14',\n",
       " 'MSA Transformer',\n",
       " 'M6-T',\n",
       " 'T0-XXL',\n",
       " 'Whisper',\n",
       " 'XGen-7B',\n",
       " 'DeepStack',\n",
       " 'PNASNet-5',\n",
       " 'Population-based DRL',\n",
       " 'Mesh-TensorFlow Transformer 2.9B (translation)',\n",
       " 'Megatron-LM (355M)',\n",
       " 'T5-3B',\n",
       " 'CamemBERT',\n",
       " 'Noisy Student (L2)',\n",
       " 'Once for All',\n",
       " 'CLIP (ViT L/14@336px)',\n",
       " 'ERNIE 3.0',\n",
       " 'BASIC-L',\n",
       " 'XGLM-7.5B',\n",
       " 'ESM2-15B',\n",
       " 'PaLI',\n",
       " 'Taiyi-Stable Diffusion',\n",
       " 'Llama 2-7B',\n",
       " 'Nemotron-3-8B',\n",
       " 'ResNet-152 (ImageNet)',\n",
       " 'PolyNet',\n",
       " 'MoE',\n",
       " 'YOLOv3',\n",
       " 'Transformer (Adaptive Input Embeddings)',\n",
       " 'Mesh-TensorFlow Transformer 4.9B (language modelling)',\n",
       " 'BERT-Large-CAS (PTB+WT2+WT103)',\n",
       " 'Conformer + Wav2vec 2.0 + Noisy Student',\n",
       " 'ProtT5-XXL-BFD',\n",
       " 'CogView',\n",
       " 'ALIGN',\n",
       " 'Florence',\n",
       " 'Stable Diffusion (LDM-KL-8-G)',\n",
       " 'CoCa',\n",
       " 'BloombergGPT',\n",
       " 'StarCoder',\n",
       " 'Llama 2-13B',\n",
       " 'Skywork-13B',\n",
       " 'Big Transformer for Back-Translation',\n",
       " 'MnasNet-A1 + SSDLite',\n",
       " 'MnasNet-A3',\n",
       " 'ALBERT-xxlarge',\n",
       " 'ELECTRA',\n",
       " 'iGPT-L',\n",
       " 'PLUG',\n",
       " 'ProtBERT-BFD',\n",
       " 'CoAtNet',\n",
       " 'FLAN 137B',\n",
       " 'AlexaTM 20B',\n",
       " 'Falcon-40B',\n",
       " 'DeepSpeech2 (English)',\n",
       " 'Xception',\n",
       " 'Libratus',\n",
       " 'IMPALA',\n",
       " 'BERT-Large',\n",
       " 'RoBERTa Large',\n",
       " 'ContextNet + Noisy Student',\n",
       " 'GShard (dense)',\n",
       " 'GPT-NeoX-20B',\n",
       " 'UL2',\n",
       " 'GLM-130B',\n",
       " 'Galactica',\n",
       " 'ViT-22B',\n",
       " 'Llama 2-34B',\n",
       " 'JFT',\n",
       " 'OpenAI TI7 DOTA 1v1',\n",
       " 'AmoebaNet-A (F=448)',\n",
       " 'GPT-2 (1.5B)',\n",
       " 'iGPT-XL',\n",
       " 'DALL-E',\n",
       " 'Meta Pseudo Labels',\n",
       " 'ProtT5-XXL',\n",
       " 'ByT5-XXL',\n",
       " 'GOAT',\n",
       " 'HyperCLOVA',\n",
       " 'AlphaCode',\n",
       " 'Flamingo',\n",
       " 'Parti',\n",
       " 'BlenderBot 3',\n",
       " 'LLaMA-65B',\n",
       " 'PanGu-Σ',\n",
       " 'xTrimoPGLM -100B',\n",
       " 'Yi-34B',\n",
       " 'AlphaGo Fan',\n",
       " 'AlphaGo Lee',\n",
       " 'BigGAN-deep 512x512',\n",
       " 'Megatron-LM (8.3B)',\n",
       " 'OpenAI Five Rerun',\n",
       " 'Turing-NLG',\n",
       " 'Yuan 1.0',\n",
       " 'GLaM',\n",
       " 'LaMDA',\n",
       " 'OPT-175B',\n",
       " 'BLOOM-176B',\n",
       " 'Llama 2-70B',\n",
       " 'ChatGLM3',\n",
       " 'Qwen-72B',\n",
       " 'NASv3 (CIFAR-10)',\n",
       " 'FTW',\n",
       " 'T5-11B',\n",
       " 'AlphaStar',\n",
       " 'mT5-XXL',\n",
       " 'Switch',\n",
       " 'Gopher (280B)',\n",
       " 'Chinchilla',\n",
       " 'U-PaLM (540B)',\n",
       " 'GPT-3.5 (text-davinci-003)',\n",
       " 'Claude 2',\n",
       " 'Falcon 180B',\n",
       " 'GNMT',\n",
       " 'AlphaGo Master',\n",
       " 'AlphaGo Zero',\n",
       " 'AlphaZero',\n",
       " 'ResNeXt-101 32x48d',\n",
       " 'Megatron-BERT',\n",
       " 'OpenAI Five',\n",
       " 'Meena',\n",
       " 'GPT-3 175B (davinci)',\n",
       " 'Megatron-Turing NLG 530B',\n",
       " 'ERNIE 3.0 Titan',\n",
       " 'PaLM (540B)',\n",
       " 'Minerva (540B)',\n",
       " 'GPT-4',\n",
       " 'PaLM 2',\n",
       " 'Inflection-2',\n",
       " 'Gemini Ultra']"
      ]
     },
     "execution_count": 136,
     "metadata": {},
     "output_type": "execute_result"
    }
   ],
   "source": [
    "compute_percentile_threshold = 50\n",
    "selected_systems = []\n",
    "for percentile in range(compute_percentile_threshold, 100, 5):\n",
    "    selected_systems.extend(systems_by_percentile[percentile])\n",
    "selected_systems"
   ]
  },
  {
   "cell_type": "markdown",
   "metadata": {},
   "source": [
    "# Regression"
   ]
  },
  {
   "cell_type": "code",
   "execution_count": 137,
   "metadata": {},
   "outputs": [
    {
     "name": "stderr",
     "output_type": "stream",
     "text": [
      "/var/folders/s2/stl5t_bn7xg9vdfxxr71rzrc0000gn/T/ipykernel_10875/3991044387.py:1: SettingWithCopyWarning:\n",
      "\n",
      "\n",
      "A value is trying to be set on a copy of a slice from a DataFrame.\n",
      "Try using .loc[row_indexer,col_indexer] = value instead\n",
      "\n",
      "See the caveats in the documentation: https://pandas.pydata.org/pandas-docs/stable/user_guide/indexing.html#returning-a-view-versus-a-copy\n",
      "\n"
     ]
    }
   ],
   "source": [
    "access_df['Publication date (float)'] = datetime_to_float_year(\n",
    "    pd.to_datetime(access_df['Publication date'])\n",
    ")"
   ]
  },
  {
   "cell_type": "code",
   "execution_count": 138,
   "metadata": {},
   "outputs": [],
   "source": [
    "filtered_access_df = access_df.loc[access_df['System'].isin(selected_systems)]"
   ]
  },
  {
   "cell_type": "code",
   "execution_count": 139,
   "metadata": {},
   "outputs": [
    {
     "data": {
      "text/html": [
       "<table class=\"simpletable\">\n",
       "<caption>OLS Regression Results</caption>\n",
       "<tr>\n",
       "  <th>Dep. Variable:</th>            <td>y</td>        <th>  R-squared:         </th> <td>   0.576</td>\n",
       "</tr>\n",
       "<tr>\n",
       "  <th>Model:</th>                   <td>OLS</td>       <th>  Adj. R-squared:    </th> <td>   0.569</td>\n",
       "</tr>\n",
       "<tr>\n",
       "  <th>Method:</th>             <td>Least Squares</td>  <th>  F-statistic:       </th> <td>   90.94</td>\n",
       "</tr>\n",
       "<tr>\n",
       "  <th>Date:</th>             <td>Mon, 01 Apr 2024</td> <th>  Prob (F-statistic):</th> <td>4.23e-14</td>\n",
       "</tr>\n",
       "<tr>\n",
       "  <th>Time:</th>                 <td>11:46:24</td>     <th>  Log-Likelihood:    </th> <td> -81.836</td>\n",
       "</tr>\n",
       "<tr>\n",
       "  <th>No. Observations:</th>      <td>    69</td>      <th>  AIC:               </th> <td>   167.7</td>\n",
       "</tr>\n",
       "<tr>\n",
       "  <th>Df Residuals:</th>          <td>    67</td>      <th>  BIC:               </th> <td>   172.1</td>\n",
       "</tr>\n",
       "<tr>\n",
       "  <th>Df Model:</th>              <td>     1</td>      <th>                     </th>     <td> </td>   \n",
       "</tr>\n",
       "<tr>\n",
       "  <th>Covariance Type:</th>      <td>nonrobust</td>    <th>                     </th>     <td> </td>   \n",
       "</tr>\n",
       "</table>\n",
       "<table class=\"simpletable\">\n",
       "<tr>\n",
       "    <td></td>       <th>coef</th>     <th>std err</th>      <th>t</th>      <th>P>|t|</th>  <th>[0.025</th>    <th>0.975]</th>  \n",
       "</tr>\n",
       "<tr>\n",
       "  <th>const</th> <td>-1104.7906</td> <td>  118.274</td> <td>   -9.341</td> <td> 0.000</td> <td>-1340.867</td> <td> -868.715</td>\n",
       "</tr>\n",
       "<tr>\n",
       "  <th>x1</th>    <td>    0.5578</td> <td>    0.058</td> <td>    9.536</td> <td> 0.000</td> <td>    0.441</td> <td>    0.675</td>\n",
       "</tr>\n",
       "</table>\n",
       "<table class=\"simpletable\">\n",
       "<tr>\n",
       "  <th>Omnibus:</th>       <td> 0.956</td> <th>  Durbin-Watson:     </th> <td>   1.673</td>\n",
       "</tr>\n",
       "<tr>\n",
       "  <th>Prob(Omnibus):</th> <td> 0.620</td> <th>  Jarque-Bera (JB):  </th> <td>   0.889</td>\n",
       "</tr>\n",
       "<tr>\n",
       "  <th>Skew:</th>          <td>-0.001</td> <th>  Prob(JB):          </th> <td>   0.641</td>\n",
       "</tr>\n",
       "<tr>\n",
       "  <th>Kurtosis:</th>      <td> 2.444</td> <th>  Cond. No.          </th> <td>2.47e+06</td>\n",
       "</tr>\n",
       "</table><br/><br/>Notes:<br/>[1] Standard Errors assume that the covariance matrix of the errors is correctly specified.<br/>[2] The condition number is large, 2.47e+06. This might indicate that there are<br/>strong multicollinearity or other numerical problems."
      ],
      "text/latex": [
       "\\begin{center}\n",
       "\\begin{tabular}{lclc}\n",
       "\\toprule\n",
       "\\textbf{Dep. Variable:}    &        y         & \\textbf{  R-squared:         } &     0.576   \\\\\n",
       "\\textbf{Model:}            &       OLS        & \\textbf{  Adj. R-squared:    } &     0.569   \\\\\n",
       "\\textbf{Method:}           &  Least Squares   & \\textbf{  F-statistic:       } &     90.94   \\\\\n",
       "\\textbf{Date:}             & Mon, 01 Apr 2024 & \\textbf{  Prob (F-statistic):} &  4.23e-14   \\\\\n",
       "\\textbf{Time:}             &     11:46:24     & \\textbf{  Log-Likelihood:    } &   -81.836   \\\\\n",
       "\\textbf{No. Observations:} &          69      & \\textbf{  AIC:               } &     167.7   \\\\\n",
       "\\textbf{Df Residuals:}     &          67      & \\textbf{  BIC:               } &     172.1   \\\\\n",
       "\\textbf{Df Model:}         &           1      & \\textbf{                     } &             \\\\\n",
       "\\textbf{Covariance Type:}  &    nonrobust     & \\textbf{                     } &             \\\\\n",
       "\\bottomrule\n",
       "\\end{tabular}\n",
       "\\begin{tabular}{lcccccc}\n",
       "               & \\textbf{coef} & \\textbf{std err} & \\textbf{t} & \\textbf{P$> |$t$|$} & \\textbf{[0.025} & \\textbf{0.975]}  \\\\\n",
       "\\midrule\n",
       "\\textbf{const} &   -1104.7906  &      118.274     &    -9.341  &         0.000        &    -1340.867    &     -868.715     \\\\\n",
       "\\textbf{x1}    &       0.5578  &        0.058     &     9.536  &         0.000        &        0.441    &        0.675     \\\\\n",
       "\\bottomrule\n",
       "\\end{tabular}\n",
       "\\begin{tabular}{lclc}\n",
       "\\textbf{Omnibus:}       &  0.956 & \\textbf{  Durbin-Watson:     } &    1.673  \\\\\n",
       "\\textbf{Prob(Omnibus):} &  0.620 & \\textbf{  Jarque-Bera (JB):  } &    0.889  \\\\\n",
       "\\textbf{Skew:}          & -0.001 & \\textbf{  Prob(JB):          } &    0.641  \\\\\n",
       "\\textbf{Kurtosis:}      &  2.444 & \\textbf{  Cond. No.          } & 2.47e+06  \\\\\n",
       "\\bottomrule\n",
       "\\end{tabular}\n",
       "%\\caption{OLS Regression Results}\n",
       "\\end{center}\n",
       "\n",
       "Notes: \\newline\n",
       " [1] Standard Errors assume that the covariance matrix of the errors is correctly specified. \\newline\n",
       " [2] The condition number is large, 2.47e+06. This might indicate that there are \\newline\n",
       " strong multicollinearity or other numerical problems."
      ],
      "text/plain": [
       "<class 'statsmodels.iolib.summary.Summary'>\n",
       "\"\"\"\n",
       "                            OLS Regression Results                            \n",
       "==============================================================================\n",
       "Dep. Variable:                      y   R-squared:                       0.576\n",
       "Model:                            OLS   Adj. R-squared:                  0.569\n",
       "Method:                 Least Squares   F-statistic:                     90.94\n",
       "Date:                Mon, 01 Apr 2024   Prob (F-statistic):           4.23e-14\n",
       "Time:                        11:46:24   Log-Likelihood:                -81.836\n",
       "No. Observations:                  69   AIC:                             167.7\n",
       "Df Residuals:                      67   BIC:                             172.1\n",
       "Df Model:                           1                                         \n",
       "Covariance Type:            nonrobust                                         \n",
       "==============================================================================\n",
       "                 coef    std err          t      P>|t|      [0.025      0.975]\n",
       "------------------------------------------------------------------------------\n",
       "const      -1104.7906    118.274     -9.341      0.000   -1340.867    -868.715\n",
       "x1             0.5578      0.058      9.536      0.000       0.441       0.675\n",
       "==============================================================================\n",
       "Omnibus:                        0.956   Durbin-Watson:                   1.673\n",
       "Prob(Omnibus):                  0.620   Jarque-Bera (JB):                0.889\n",
       "Skew:                          -0.001   Prob(JB):                        0.641\n",
       "Kurtosis:                       2.444   Cond. No.                     2.47e+06\n",
       "==============================================================================\n",
       "\n",
       "Notes:\n",
       "[1] Standard Errors assume that the covariance matrix of the errors is correctly specified.\n",
       "[2] The condition number is large, 2.47e+06. This might indicate that there are\n",
       "strong multicollinearity or other numerical problems.\n",
       "\"\"\""
      ]
     },
     "execution_count": 139,
     "metadata": {},
     "output_type": "execute_result"
    }
   ],
   "source": [
    "reg_results = fit_ols_regression(\n",
    "    filtered_access_df,\n",
    "    ['Publication date (float)'],\n",
    "    'Training compute (FLOP)',\n",
    "    logy=True\n",
    ")\n",
    "reg_results.summary()"
   ]
  },
  {
   "cell_type": "code",
   "execution_count": 140,
   "metadata": {},
   "outputs": [
    {
     "data": {
      "text/html": [
       "<table class=\"simpletable\">\n",
       "<caption>OLS Regression Results</caption>\n",
       "<tr>\n",
       "  <th>Dep. Variable:</th>            <td>y</td>        <th>  R-squared:         </th> <td>   0.696</td>\n",
       "</tr>\n",
       "<tr>\n",
       "  <th>Model:</th>                   <td>OLS</td>       <th>  Adj. R-squared:    </th> <td>   0.686</td>\n",
       "</tr>\n",
       "<tr>\n",
       "  <th>Method:</th>             <td>Least Squares</td>  <th>  F-statistic:       </th> <td>   68.70</td>\n",
       "</tr>\n",
       "<tr>\n",
       "  <th>Date:</th>             <td>Mon, 01 Apr 2024</td> <th>  Prob (F-statistic):</th> <td>2.99e-09</td>\n",
       "</tr>\n",
       "<tr>\n",
       "  <th>Time:</th>                 <td>11:46:25</td>     <th>  Log-Likelihood:    </th> <td> -26.927</td>\n",
       "</tr>\n",
       "<tr>\n",
       "  <th>No. Observations:</th>      <td>    32</td>      <th>  AIC:               </th> <td>   57.85</td>\n",
       "</tr>\n",
       "<tr>\n",
       "  <th>Df Residuals:</th>          <td>    30</td>      <th>  BIC:               </th> <td>   60.79</td>\n",
       "</tr>\n",
       "<tr>\n",
       "  <th>Df Model:</th>              <td>     1</td>      <th>                     </th>     <td> </td>   \n",
       "</tr>\n",
       "<tr>\n",
       "  <th>Covariance Type:</th>      <td>nonrobust</td>    <th>                     </th>     <td> </td>   \n",
       "</tr>\n",
       "</table>\n",
       "<table class=\"simpletable\">\n",
       "<tr>\n",
       "    <td></td>       <th>coef</th>     <th>std err</th>      <th>t</th>      <th>P>|t|</th>  <th>[0.025</th>    <th>0.975]</th>  \n",
       "</tr>\n",
       "<tr>\n",
       "  <th>const</th> <td>-1175.2612</td> <td>  144.549</td> <td>   -8.131</td> <td> 0.000</td> <td>-1470.470</td> <td> -880.052</td>\n",
       "</tr>\n",
       "<tr>\n",
       "  <th>x1</th>    <td>    0.5924</td> <td>    0.071</td> <td>    8.288</td> <td> 0.000</td> <td>    0.446</td> <td>    0.738</td>\n",
       "</tr>\n",
       "</table>\n",
       "<table class=\"simpletable\">\n",
       "<tr>\n",
       "  <th>Omnibus:</th>       <td> 0.248</td> <th>  Durbin-Watson:     </th> <td>   1.572</td>\n",
       "</tr>\n",
       "<tr>\n",
       "  <th>Prob(Omnibus):</th> <td> 0.883</td> <th>  Jarque-Bera (JB):  </th> <td>   0.443</td>\n",
       "</tr>\n",
       "<tr>\n",
       "  <th>Skew:</th>          <td>-0.013</td> <th>  Prob(JB):          </th> <td>   0.801</td>\n",
       "</tr>\n",
       "<tr>\n",
       "  <th>Kurtosis:</th>      <td> 2.424</td> <th>  Cond. No.          </th> <td>2.85e+06</td>\n",
       "</tr>\n",
       "</table><br/><br/>Notes:<br/>[1] Standard Errors assume that the covariance matrix of the errors is correctly specified.<br/>[2] The condition number is large, 2.85e+06. This might indicate that there are<br/>strong multicollinearity or other numerical problems."
      ],
      "text/latex": [
       "\\begin{center}\n",
       "\\begin{tabular}{lclc}\n",
       "\\toprule\n",
       "\\textbf{Dep. Variable:}    &        y         & \\textbf{  R-squared:         } &     0.696   \\\\\n",
       "\\textbf{Model:}            &       OLS        & \\textbf{  Adj. R-squared:    } &     0.686   \\\\\n",
       "\\textbf{Method:}           &  Least Squares   & \\textbf{  F-statistic:       } &     68.70   \\\\\n",
       "\\textbf{Date:}             & Mon, 01 Apr 2024 & \\textbf{  Prob (F-statistic):} &  2.99e-09   \\\\\n",
       "\\textbf{Time:}             &     11:46:25     & \\textbf{  Log-Likelihood:    } &   -26.927   \\\\\n",
       "\\textbf{No. Observations:} &          32      & \\textbf{  AIC:               } &     57.85   \\\\\n",
       "\\textbf{Df Residuals:}     &          30      & \\textbf{  BIC:               } &     60.79   \\\\\n",
       "\\textbf{Df Model:}         &           1      & \\textbf{                     } &             \\\\\n",
       "\\textbf{Covariance Type:}  &    nonrobust     & \\textbf{                     } &             \\\\\n",
       "\\bottomrule\n",
       "\\end{tabular}\n",
       "\\begin{tabular}{lcccccc}\n",
       "               & \\textbf{coef} & \\textbf{std err} & \\textbf{t} & \\textbf{P$> |$t$|$} & \\textbf{[0.025} & \\textbf{0.975]}  \\\\\n",
       "\\midrule\n",
       "\\textbf{const} &   -1175.2612  &      144.549     &    -8.131  &         0.000        &    -1470.470    &     -880.052     \\\\\n",
       "\\textbf{x1}    &       0.5924  &        0.071     &     8.288  &         0.000        &        0.446    &        0.738     \\\\\n",
       "\\bottomrule\n",
       "\\end{tabular}\n",
       "\\begin{tabular}{lclc}\n",
       "\\textbf{Omnibus:}       &  0.248 & \\textbf{  Durbin-Watson:     } &    1.572  \\\\\n",
       "\\textbf{Prob(Omnibus):} &  0.883 & \\textbf{  Jarque-Bera (JB):  } &    0.443  \\\\\n",
       "\\textbf{Skew:}          & -0.013 & \\textbf{  Prob(JB):          } &    0.801  \\\\\n",
       "\\textbf{Kurtosis:}      &  2.424 & \\textbf{  Cond. No.          } & 2.85e+06  \\\\\n",
       "\\bottomrule\n",
       "\\end{tabular}\n",
       "%\\caption{OLS Regression Results}\n",
       "\\end{center}\n",
       "\n",
       "Notes: \\newline\n",
       " [1] Standard Errors assume that the covariance matrix of the errors is correctly specified. \\newline\n",
       " [2] The condition number is large, 2.85e+06. This might indicate that there are \\newline\n",
       " strong multicollinearity or other numerical problems."
      ],
      "text/plain": [
       "<class 'statsmodels.iolib.summary.Summary'>\n",
       "\"\"\"\n",
       "                            OLS Regression Results                            \n",
       "==============================================================================\n",
       "Dep. Variable:                      y   R-squared:                       0.696\n",
       "Model:                            OLS   Adj. R-squared:                  0.686\n",
       "Method:                 Least Squares   F-statistic:                     68.70\n",
       "Date:                Mon, 01 Apr 2024   Prob (F-statistic):           2.99e-09\n",
       "Time:                        11:46:25   Log-Likelihood:                -26.927\n",
       "No. Observations:                  32   AIC:                             57.85\n",
       "Df Residuals:                      30   BIC:                             60.79\n",
       "Df Model:                           1                                         \n",
       "Covariance Type:            nonrobust                                         \n",
       "==============================================================================\n",
       "                 coef    std err          t      P>|t|      [0.025      0.975]\n",
       "------------------------------------------------------------------------------\n",
       "const      -1175.2612    144.549     -8.131      0.000   -1470.470    -880.052\n",
       "x1             0.5924      0.071      8.288      0.000       0.446       0.738\n",
       "==============================================================================\n",
       "Omnibus:                        0.248   Durbin-Watson:                   1.572\n",
       "Prob(Omnibus):                  0.883   Jarque-Bera (JB):                0.443\n",
       "Skew:                          -0.013   Prob(JB):                        0.801\n",
       "Kurtosis:                       2.424   Cond. No.                     2.85e+06\n",
       "==============================================================================\n",
       "\n",
       "Notes:\n",
       "[1] Standard Errors assume that the covariance matrix of the errors is correctly specified.\n",
       "[2] The condition number is large, 2.85e+06. This might indicate that there are\n",
       "strong multicollinearity or other numerical problems.\n",
       "\"\"\""
      ]
     },
     "execution_count": 140,
     "metadata": {},
     "output_type": "execute_result"
    }
   ],
   "source": [
    "open_reg_results = fit_ols_regression(\n",
    "    filtered_access_df[filtered_access_df['Model open/closed'] == 'Open'],\n",
    "    ['Publication date (float)'],\n",
    "    'Training compute (FLOP)',\n",
    "    logy=True\n",
    ")\n",
    "open_reg_results.summary()"
   ]
  },
  {
   "cell_type": "code",
   "execution_count": 141,
   "metadata": {},
   "outputs": [
    {
     "data": {
      "text/html": [
       "<table class=\"simpletable\">\n",
       "<caption>OLS Regression Results</caption>\n",
       "<tr>\n",
       "  <th>Dep. Variable:</th>            <td>y</td>        <th>  R-squared:         </th> <td>   0.676</td>\n",
       "</tr>\n",
       "<tr>\n",
       "  <th>Model:</th>                   <td>OLS</td>       <th>  Adj. R-squared:    </th> <td>   0.667</td>\n",
       "</tr>\n",
       "<tr>\n",
       "  <th>Method:</th>             <td>Least Squares</td>  <th>  F-statistic:       </th> <td>   73.08</td>\n",
       "</tr>\n",
       "<tr>\n",
       "  <th>Date:</th>             <td>Mon, 01 Apr 2024</td> <th>  Prob (F-statistic):</th> <td>4.33e-10</td>\n",
       "</tr>\n",
       "<tr>\n",
       "  <th>Time:</th>                 <td>11:46:25</td>     <th>  Log-Likelihood:    </th> <td> -41.676</td>\n",
       "</tr>\n",
       "<tr>\n",
       "  <th>No. Observations:</th>      <td>    37</td>      <th>  AIC:               </th> <td>   87.35</td>\n",
       "</tr>\n",
       "<tr>\n",
       "  <th>Df Residuals:</th>          <td>    35</td>      <th>  BIC:               </th> <td>   90.57</td>\n",
       "</tr>\n",
       "<tr>\n",
       "  <th>Df Model:</th>              <td>     1</td>      <th>                     </th>     <td> </td>   \n",
       "</tr>\n",
       "<tr>\n",
       "  <th>Covariance Type:</th>      <td>nonrobust</td>    <th>                     </th>     <td> </td>   \n",
       "</tr>\n",
       "</table>\n",
       "<table class=\"simpletable\">\n",
       "<tr>\n",
       "    <td></td>       <th>coef</th>     <th>std err</th>      <th>t</th>      <th>P>|t|</th>  <th>[0.025</th>    <th>0.975]</th>  \n",
       "</tr>\n",
       "<tr>\n",
       "  <th>const</th> <td>-1195.4759</td> <td>  142.575</td> <td>   -8.385</td> <td> 0.000</td> <td>-1484.917</td> <td> -906.034</td>\n",
       "</tr>\n",
       "<tr>\n",
       "  <th>x1</th>    <td>    0.6029</td> <td>    0.071</td> <td>    8.549</td> <td> 0.000</td> <td>    0.460</td> <td>    0.746</td>\n",
       "</tr>\n",
       "</table>\n",
       "<table class=\"simpletable\">\n",
       "<tr>\n",
       "  <th>Omnibus:</th>       <td> 1.533</td> <th>  Durbin-Watson:     </th> <td>   1.710</td>\n",
       "</tr>\n",
       "<tr>\n",
       "  <th>Prob(Omnibus):</th> <td> 0.465</td> <th>  Jarque-Bera (JB):  </th> <td>   1.155</td>\n",
       "</tr>\n",
       "<tr>\n",
       "  <th>Skew:</th>          <td>-0.430</td> <th>  Prob(JB):          </th> <td>   0.561</td>\n",
       "</tr>\n",
       "<tr>\n",
       "  <th>Kurtosis:</th>      <td> 2.907</td> <th>  Cond. No.          </th> <td>2.28e+06</td>\n",
       "</tr>\n",
       "</table><br/><br/>Notes:<br/>[1] Standard Errors assume that the covariance matrix of the errors is correctly specified.<br/>[2] The condition number is large, 2.28e+06. This might indicate that there are<br/>strong multicollinearity or other numerical problems."
      ],
      "text/latex": [
       "\\begin{center}\n",
       "\\begin{tabular}{lclc}\n",
       "\\toprule\n",
       "\\textbf{Dep. Variable:}    &        y         & \\textbf{  R-squared:         } &     0.676   \\\\\n",
       "\\textbf{Model:}            &       OLS        & \\textbf{  Adj. R-squared:    } &     0.667   \\\\\n",
       "\\textbf{Method:}           &  Least Squares   & \\textbf{  F-statistic:       } &     73.08   \\\\\n",
       "\\textbf{Date:}             & Mon, 01 Apr 2024 & \\textbf{  Prob (F-statistic):} &  4.33e-10   \\\\\n",
       "\\textbf{Time:}             &     11:46:25     & \\textbf{  Log-Likelihood:    } &   -41.676   \\\\\n",
       "\\textbf{No. Observations:} &          37      & \\textbf{  AIC:               } &     87.35   \\\\\n",
       "\\textbf{Df Residuals:}     &          35      & \\textbf{  BIC:               } &     90.57   \\\\\n",
       "\\textbf{Df Model:}         &           1      & \\textbf{                     } &             \\\\\n",
       "\\textbf{Covariance Type:}  &    nonrobust     & \\textbf{                     } &             \\\\\n",
       "\\bottomrule\n",
       "\\end{tabular}\n",
       "\\begin{tabular}{lcccccc}\n",
       "               & \\textbf{coef} & \\textbf{std err} & \\textbf{t} & \\textbf{P$> |$t$|$} & \\textbf{[0.025} & \\textbf{0.975]}  \\\\\n",
       "\\midrule\n",
       "\\textbf{const} &   -1195.4759  &      142.575     &    -8.385  &         0.000        &    -1484.917    &     -906.034     \\\\\n",
       "\\textbf{x1}    &       0.6029  &        0.071     &     8.549  &         0.000        &        0.460    &        0.746     \\\\\n",
       "\\bottomrule\n",
       "\\end{tabular}\n",
       "\\begin{tabular}{lclc}\n",
       "\\textbf{Omnibus:}       &  1.533 & \\textbf{  Durbin-Watson:     } &    1.710  \\\\\n",
       "\\textbf{Prob(Omnibus):} &  0.465 & \\textbf{  Jarque-Bera (JB):  } &    1.155  \\\\\n",
       "\\textbf{Skew:}          & -0.430 & \\textbf{  Prob(JB):          } &    0.561  \\\\\n",
       "\\textbf{Kurtosis:}      &  2.907 & \\textbf{  Cond. No.          } & 2.28e+06  \\\\\n",
       "\\bottomrule\n",
       "\\end{tabular}\n",
       "%\\caption{OLS Regression Results}\n",
       "\\end{center}\n",
       "\n",
       "Notes: \\newline\n",
       " [1] Standard Errors assume that the covariance matrix of the errors is correctly specified. \\newline\n",
       " [2] The condition number is large, 2.28e+06. This might indicate that there are \\newline\n",
       " strong multicollinearity or other numerical problems."
      ],
      "text/plain": [
       "<class 'statsmodels.iolib.summary.Summary'>\n",
       "\"\"\"\n",
       "                            OLS Regression Results                            \n",
       "==============================================================================\n",
       "Dep. Variable:                      y   R-squared:                       0.676\n",
       "Model:                            OLS   Adj. R-squared:                  0.667\n",
       "Method:                 Least Squares   F-statistic:                     73.08\n",
       "Date:                Mon, 01 Apr 2024   Prob (F-statistic):           4.33e-10\n",
       "Time:                        11:46:25   Log-Likelihood:                -41.676\n",
       "No. Observations:                  37   AIC:                             87.35\n",
       "Df Residuals:                      35   BIC:                             90.57\n",
       "Df Model:                           1                                         \n",
       "Covariance Type:            nonrobust                                         \n",
       "==============================================================================\n",
       "                 coef    std err          t      P>|t|      [0.025      0.975]\n",
       "------------------------------------------------------------------------------\n",
       "const      -1195.4759    142.575     -8.385      0.000   -1484.917    -906.034\n",
       "x1             0.6029      0.071      8.549      0.000       0.460       0.746\n",
       "==============================================================================\n",
       "Omnibus:                        1.533   Durbin-Watson:                   1.710\n",
       "Prob(Omnibus):                  0.465   Jarque-Bera (JB):                1.155\n",
       "Skew:                          -0.430   Prob(JB):                        0.561\n",
       "Kurtosis:                       2.907   Cond. No.                     2.28e+06\n",
       "==============================================================================\n",
       "\n",
       "Notes:\n",
       "[1] Standard Errors assume that the covariance matrix of the errors is correctly specified.\n",
       "[2] The condition number is large, 2.28e+06. This might indicate that there are\n",
       "strong multicollinearity or other numerical problems.\n",
       "\"\"\""
      ]
     },
     "execution_count": 141,
     "metadata": {},
     "output_type": "execute_result"
    }
   ],
   "source": [
    "closed_reg_results = fit_ols_regression(\n",
    "    filtered_access_df[filtered_access_df['Model open/closed'] == 'Closed'],\n",
    "    ['Publication date (float)'],\n",
    "    'Training compute (FLOP)',\n",
    "    logy=True\n",
    ")\n",
    "closed_reg_results.summary()"
   ]
  },
  {
   "cell_type": "code",
   "execution_count": 142,
   "metadata": {},
   "outputs": [
    {
     "name": "stdout",
     "output_type": "stream",
     "text": [
      "All:\n",
      "Adj. R^2=0.57\n",
      "0.56 OOMs/year (95% CI: 0.44, 0.67)\n",
      "3.6x/year (95% CI: 2.8x, 4.7x)\n",
      "doubling time of 6 months (95% CI: 5, 8)\n",
      "Open:\n",
      "Adj. R^2=0.69\n",
      "0.59 OOMs/year (95% CI: 0.45, 0.74)\n",
      "3.9x/year (95% CI: 2.8x, 5.5x)\n",
      "doubling time of 6 months (95% CI: 5, 8)\n",
      "Closed:\n",
      "Adj. R^2=0.67\n",
      "0.60 OOMs/year (95% CI: 0.46, 0.75)\n",
      "4.0x/year (95% CI: 2.9x, 5.6x)\n",
      "doubling time of 6 months (95% CI: 5, 8)\n"
     ]
    }
   ],
   "source": [
    "print('All:')\n",
    "print_growth_rates(reg_results)\n",
    "print('Open:')\n",
    "print_growth_rates(open_reg_results)\n",
    "print('Closed:')\n",
    "print_growth_rates(closed_reg_results)"
   ]
  },
  {
   "cell_type": "markdown",
   "metadata": {},
   "source": [
    "## Predictions"
   ]
  },
  {
   "cell_type": "code",
   "execution_count": 143,
   "metadata": {},
   "outputs": [
    {
     "data": {
      "text/html": [
       "<div>\n",
       "<style scoped>\n",
       "    .dataframe tbody tr th:only-of-type {\n",
       "        vertical-align: middle;\n",
       "    }\n",
       "\n",
       "    .dataframe tbody tr th {\n",
       "        vertical-align: top;\n",
       "    }\n",
       "\n",
       "    .dataframe thead th {\n",
       "        text-align: right;\n",
       "    }\n",
       "</style>\n",
       "<table border=\"1\" class=\"dataframe\">\n",
       "  <thead>\n",
       "    <tr style=\"text-align: right;\">\n",
       "      <th></th>\n",
       "      <th>Publication date (float)</th>\n",
       "    </tr>\n",
       "  </thead>\n",
       "  <tbody>\n",
       "    <tr>\n",
       "      <th>0</th>\n",
       "      <td>2015.00000</td>\n",
       "    </tr>\n",
       "    <tr>\n",
       "      <th>1</th>\n",
       "      <td>2015.10101</td>\n",
       "    </tr>\n",
       "    <tr>\n",
       "      <th>2</th>\n",
       "      <td>2015.20202</td>\n",
       "    </tr>\n",
       "    <tr>\n",
       "      <th>3</th>\n",
       "      <td>2015.30303</td>\n",
       "    </tr>\n",
       "    <tr>\n",
       "      <th>4</th>\n",
       "      <td>2015.40404</td>\n",
       "    </tr>\n",
       "    <tr>\n",
       "      <th>...</th>\n",
       "      <td>...</td>\n",
       "    </tr>\n",
       "    <tr>\n",
       "      <th>95</th>\n",
       "      <td>2024.59596</td>\n",
       "    </tr>\n",
       "    <tr>\n",
       "      <th>96</th>\n",
       "      <td>2024.69697</td>\n",
       "    </tr>\n",
       "    <tr>\n",
       "      <th>97</th>\n",
       "      <td>2024.79798</td>\n",
       "    </tr>\n",
       "    <tr>\n",
       "      <th>98</th>\n",
       "      <td>2024.89899</td>\n",
       "    </tr>\n",
       "    <tr>\n",
       "      <th>99</th>\n",
       "      <td>2025.00000</td>\n",
       "    </tr>\n",
       "  </tbody>\n",
       "</table>\n",
       "<p>100 rows × 1 columns</p>\n",
       "</div>"
      ],
      "text/plain": [
       "    Publication date (float)\n",
       "0                 2015.00000\n",
       "1                 2015.10101\n",
       "2                 2015.20202\n",
       "3                 2015.30303\n",
       "4                 2015.40404\n",
       "..                       ...\n",
       "95                2024.59596\n",
       "96                2024.69697\n",
       "97                2024.79798\n",
       "98                2024.89899\n",
       "99                2025.00000\n",
       "\n",
       "[100 rows x 1 columns]"
      ]
     },
     "execution_count": 143,
     "metadata": {},
     "output_type": "execute_result"
    }
   ],
   "source": [
    "pred_start_year = 2015\n",
    "pred_end_year = 2025\n",
    "pred_start_date = f'{pred_start_year}-01-01'\n",
    "pred_end_date = f'{pred_end_year}-01-01'\n",
    "\n",
    "pred_years = pd.DataFrame({'Publication date (float)': np.linspace(pred_start_year, pred_end_year, 100)})\n",
    "pred_years"
   ]
  },
  {
   "cell_type": "code",
   "execution_count": 144,
   "metadata": {},
   "outputs": [
    {
     "data": {
      "text/html": [
       "<div>\n",
       "<style scoped>\n",
       "    .dataframe tbody tr th:only-of-type {\n",
       "        vertical-align: middle;\n",
       "    }\n",
       "\n",
       "    .dataframe tbody tr th {\n",
       "        vertical-align: top;\n",
       "    }\n",
       "\n",
       "    .dataframe thead th {\n",
       "        text-align: right;\n",
       "    }\n",
       "</style>\n",
       "<table border=\"1\" class=\"dataframe\">\n",
       "  <thead>\n",
       "    <tr style=\"text-align: right;\">\n",
       "      <th></th>\n",
       "      <th>mean</th>\n",
       "      <th>mean_se</th>\n",
       "      <th>mean_ci_lower</th>\n",
       "      <th>mean_ci_upper</th>\n",
       "      <th>obs_ci_lower</th>\n",
       "      <th>obs_ci_upper</th>\n",
       "      <th>Publication date (float)</th>\n",
       "      <th>Publication date</th>\n",
       "    </tr>\n",
       "  </thead>\n",
       "  <tbody>\n",
       "    <tr>\n",
       "      <th>0</th>\n",
       "      <td>18.490955</td>\n",
       "      <td>0.530568</td>\n",
       "      <td>17.407390</td>\n",
       "      <td>19.574520</td>\n",
       "      <td>16.886008</td>\n",
       "      <td>20.095902</td>\n",
       "      <td>2015.00000</td>\n",
       "      <td>2015-01-01</td>\n",
       "    </tr>\n",
       "    <tr>\n",
       "      <th>1</th>\n",
       "      <td>18.550797</td>\n",
       "      <td>0.523486</td>\n",
       "      <td>17.481695</td>\n",
       "      <td>19.619898</td>\n",
       "      <td>16.955579</td>\n",
       "      <td>20.146015</td>\n",
       "      <td>2015.10101</td>\n",
       "      <td>2015-02-06</td>\n",
       "    </tr>\n",
       "    <tr>\n",
       "      <th>2</th>\n",
       "      <td>18.610638</td>\n",
       "      <td>0.516408</td>\n",
       "      <td>17.555993</td>\n",
       "      <td>19.665284</td>\n",
       "      <td>17.025072</td>\n",
       "      <td>20.196204</td>\n",
       "      <td>2015.20202</td>\n",
       "      <td>2015-03-15</td>\n",
       "    </tr>\n",
       "    <tr>\n",
       "      <th>3</th>\n",
       "      <td>18.670480</td>\n",
       "      <td>0.509333</td>\n",
       "      <td>17.630283</td>\n",
       "      <td>19.710678</td>\n",
       "      <td>17.094487</td>\n",
       "      <td>20.246473</td>\n",
       "      <td>2015.30303</td>\n",
       "      <td>2015-04-21</td>\n",
       "    </tr>\n",
       "    <tr>\n",
       "      <th>4</th>\n",
       "      <td>18.730322</td>\n",
       "      <td>0.502263</td>\n",
       "      <td>17.704564</td>\n",
       "      <td>19.756080</td>\n",
       "      <td>17.163822</td>\n",
       "      <td>20.296822</td>\n",
       "      <td>2015.40404</td>\n",
       "      <td>2015-05-28</td>\n",
       "    </tr>\n",
       "    <tr>\n",
       "      <th>...</th>\n",
       "      <td>...</td>\n",
       "      <td>...</td>\n",
       "      <td>...</td>\n",
       "      <td>...</td>\n",
       "      <td>...</td>\n",
       "      <td>...</td>\n",
       "      <td>...</td>\n",
       "      <td>...</td>\n",
       "    </tr>\n",
       "    <tr>\n",
       "      <th>95</th>\n",
       "      <td>24.175916</td>\n",
       "      <td>0.194512</td>\n",
       "      <td>23.778670</td>\n",
       "      <td>24.573163</td>\n",
       "      <td>22.927098</td>\n",
       "      <td>25.424735</td>\n",
       "      <td>2024.59596</td>\n",
       "      <td>2024-08-06</td>\n",
       "    </tr>\n",
       "    <tr>\n",
       "      <th>96</th>\n",
       "      <td>24.235758</td>\n",
       "      <td>0.200685</td>\n",
       "      <td>23.825905</td>\n",
       "      <td>24.645611</td>\n",
       "      <td>22.982873</td>\n",
       "      <td>25.488644</td>\n",
       "      <td>2024.69697</td>\n",
       "      <td>2024-09-12</td>\n",
       "    </tr>\n",
       "    <tr>\n",
       "      <th>97</th>\n",
       "      <td>24.295600</td>\n",
       "      <td>0.206925</td>\n",
       "      <td>23.873002</td>\n",
       "      <td>24.718198</td>\n",
       "      <td>23.038487</td>\n",
       "      <td>25.552712</td>\n",
       "      <td>2024.79798</td>\n",
       "      <td>2024-10-19</td>\n",
       "    </tr>\n",
       "    <tr>\n",
       "      <th>98</th>\n",
       "      <td>24.355442</td>\n",
       "      <td>0.213228</td>\n",
       "      <td>23.919973</td>\n",
       "      <td>24.790911</td>\n",
       "      <td>23.093944</td>\n",
       "      <td>25.616939</td>\n",
       "      <td>2024.89899</td>\n",
       "      <td>2024-11-25</td>\n",
       "    </tr>\n",
       "    <tr>\n",
       "      <th>99</th>\n",
       "      <td>24.415283</td>\n",
       "      <td>0.219587</td>\n",
       "      <td>23.966828</td>\n",
       "      <td>24.863739</td>\n",
       "      <td>23.149244</td>\n",
       "      <td>25.681322</td>\n",
       "      <td>2025.00000</td>\n",
       "      <td>2025-01-01</td>\n",
       "    </tr>\n",
       "  </tbody>\n",
       "</table>\n",
       "<p>100 rows × 8 columns</p>\n",
       "</div>"
      ],
      "text/plain": [
       "         mean   mean_se  mean_ci_lower  mean_ci_upper  obs_ci_lower  \\\n",
       "0   18.490955  0.530568      17.407390      19.574520     16.886008   \n",
       "1   18.550797  0.523486      17.481695      19.619898     16.955579   \n",
       "2   18.610638  0.516408      17.555993      19.665284     17.025072   \n",
       "3   18.670480  0.509333      17.630283      19.710678     17.094487   \n",
       "4   18.730322  0.502263      17.704564      19.756080     17.163822   \n",
       "..        ...       ...            ...            ...           ...   \n",
       "95  24.175916  0.194512      23.778670      24.573163     22.927098   \n",
       "96  24.235758  0.200685      23.825905      24.645611     22.982873   \n",
       "97  24.295600  0.206925      23.873002      24.718198     23.038487   \n",
       "98  24.355442  0.213228      23.919973      24.790911     23.093944   \n",
       "99  24.415283  0.219587      23.966828      24.863739     23.149244   \n",
       "\n",
       "    obs_ci_upper  Publication date (float) Publication date  \n",
       "0      20.095902                2015.00000       2015-01-01  \n",
       "1      20.146015                2015.10101       2015-02-06  \n",
       "2      20.196204                2015.20202       2015-03-15  \n",
       "3      20.246473                2015.30303       2015-04-21  \n",
       "4      20.296822                2015.40404       2015-05-28  \n",
       "..           ...                       ...              ...  \n",
       "95     25.424735                2024.59596       2024-08-06  \n",
       "96     25.488644                2024.69697       2024-09-12  \n",
       "97     25.552712                2024.79798       2024-10-19  \n",
       "98     25.616939                2024.89899       2024-11-25  \n",
       "99     25.681322                2025.00000       2025-01-01  \n",
       "\n",
       "[100 rows x 8 columns]"
      ]
     },
     "execution_count": 144,
     "metadata": {},
     "output_type": "execute_result"
    }
   ],
   "source": [
    "predicted_open_df = get_predictions(open_reg_results, pred_years, ['Publication date (float)'])\n",
    "predicted_open_df['Publication date'] = predicted_open_df['Publication date (float)'].apply(float_year_to_datetime)\n",
    "predicted_open_df"
   ]
  },
  {
   "cell_type": "code",
   "execution_count": 145,
   "metadata": {},
   "outputs": [
    {
     "data": {
      "text/html": [
       "<div>\n",
       "<style scoped>\n",
       "    .dataframe tbody tr th:only-of-type {\n",
       "        vertical-align: middle;\n",
       "    }\n",
       "\n",
       "    .dataframe tbody tr th {\n",
       "        vertical-align: top;\n",
       "    }\n",
       "\n",
       "    .dataframe thead th {\n",
       "        text-align: right;\n",
       "    }\n",
       "</style>\n",
       "<table border=\"1\" class=\"dataframe\">\n",
       "  <thead>\n",
       "    <tr style=\"text-align: right;\">\n",
       "      <th></th>\n",
       "      <th>mean</th>\n",
       "      <th>mean_se</th>\n",
       "      <th>mean_ci_lower</th>\n",
       "      <th>mean_ci_upper</th>\n",
       "      <th>obs_ci_lower</th>\n",
       "      <th>obs_ci_upper</th>\n",
       "      <th>Publication date (float)</th>\n",
       "      <th>Publication date</th>\n",
       "    </tr>\n",
       "  </thead>\n",
       "  <tbody>\n",
       "    <tr>\n",
       "      <th>0</th>\n",
       "      <td>19.285028</td>\n",
       "      <td>0.493052</td>\n",
       "      <td>18.284080</td>\n",
       "      <td>20.285976</td>\n",
       "      <td>17.433304</td>\n",
       "      <td>21.136753</td>\n",
       "      <td>2015.00000</td>\n",
       "      <td>2015-01-01</td>\n",
       "    </tr>\n",
       "    <tr>\n",
       "      <th>1</th>\n",
       "      <td>19.345923</td>\n",
       "      <td>0.486169</td>\n",
       "      <td>18.358948</td>\n",
       "      <td>20.332899</td>\n",
       "      <td>17.501714</td>\n",
       "      <td>21.190132</td>\n",
       "      <td>2015.10101</td>\n",
       "      <td>2015-02-06</td>\n",
       "    </tr>\n",
       "    <tr>\n",
       "      <th>2</th>\n",
       "      <td>19.406818</td>\n",
       "      <td>0.479293</td>\n",
       "      <td>18.433801</td>\n",
       "      <td>20.379835</td>\n",
       "      <td>17.570042</td>\n",
       "      <td>21.243594</td>\n",
       "      <td>2015.20202</td>\n",
       "      <td>2015-03-15</td>\n",
       "    </tr>\n",
       "    <tr>\n",
       "      <th>3</th>\n",
       "      <td>19.467713</td>\n",
       "      <td>0.472425</td>\n",
       "      <td>18.508639</td>\n",
       "      <td>20.426787</td>\n",
       "      <td>17.638285</td>\n",
       "      <td>21.297141</td>\n",
       "      <td>2015.30303</td>\n",
       "      <td>2015-04-21</td>\n",
       "    </tr>\n",
       "    <tr>\n",
       "      <th>4</th>\n",
       "      <td>19.528608</td>\n",
       "      <td>0.465564</td>\n",
       "      <td>18.583462</td>\n",
       "      <td>20.473753</td>\n",
       "      <td>17.706443</td>\n",
       "      <td>21.350773</td>\n",
       "      <td>2015.40404</td>\n",
       "      <td>2015-05-28</td>\n",
       "    </tr>\n",
       "    <tr>\n",
       "      <th>...</th>\n",
       "      <td>...</td>\n",
       "      <td>...</td>\n",
       "      <td>...</td>\n",
       "      <td>...</td>\n",
       "      <td>...</td>\n",
       "      <td>...</td>\n",
       "      <td>...</td>\n",
       "      <td>...</td>\n",
       "    </tr>\n",
       "    <tr>\n",
       "      <th>95</th>\n",
       "      <td>25.070039</td>\n",
       "      <td>0.236523</td>\n",
       "      <td>24.589871</td>\n",
       "      <td>25.550207</td>\n",
       "      <td>23.439841</td>\n",
       "      <td>26.700237</td>\n",
       "      <td>2024.59596</td>\n",
       "      <td>2024-08-06</td>\n",
       "    </tr>\n",
       "    <tr>\n",
       "      <th>96</th>\n",
       "      <td>25.130934</td>\n",
       "      <td>0.242578</td>\n",
       "      <td>24.638474</td>\n",
       "      <td>25.623394</td>\n",
       "      <td>23.497073</td>\n",
       "      <td>26.764795</td>\n",
       "      <td>2024.69697</td>\n",
       "      <td>2024-09-12</td>\n",
       "    </tr>\n",
       "    <tr>\n",
       "      <th>97</th>\n",
       "      <td>25.191829</td>\n",
       "      <td>0.248690</td>\n",
       "      <td>24.686961</td>\n",
       "      <td>25.696696</td>\n",
       "      <td>23.554185</td>\n",
       "      <td>26.829472</td>\n",
       "      <td>2024.79798</td>\n",
       "      <td>2024-10-19</td>\n",
       "    </tr>\n",
       "    <tr>\n",
       "      <th>98</th>\n",
       "      <td>25.252723</td>\n",
       "      <td>0.254854</td>\n",
       "      <td>24.735342</td>\n",
       "      <td>25.770105</td>\n",
       "      <td>23.611179</td>\n",
       "      <td>26.894268</td>\n",
       "      <td>2024.89899</td>\n",
       "      <td>2024-11-25</td>\n",
       "    </tr>\n",
       "    <tr>\n",
       "      <th>99</th>\n",
       "      <td>25.313618</td>\n",
       "      <td>0.261067</td>\n",
       "      <td>24.783623</td>\n",
       "      <td>25.843613</td>\n",
       "      <td>23.668055</td>\n",
       "      <td>26.959182</td>\n",
       "      <td>2025.00000</td>\n",
       "      <td>2025-01-01</td>\n",
       "    </tr>\n",
       "  </tbody>\n",
       "</table>\n",
       "<p>100 rows × 8 columns</p>\n",
       "</div>"
      ],
      "text/plain": [
       "         mean   mean_se  mean_ci_lower  mean_ci_upper  obs_ci_lower  \\\n",
       "0   19.285028  0.493052      18.284080      20.285976     17.433304   \n",
       "1   19.345923  0.486169      18.358948      20.332899     17.501714   \n",
       "2   19.406818  0.479293      18.433801      20.379835     17.570042   \n",
       "3   19.467713  0.472425      18.508639      20.426787     17.638285   \n",
       "4   19.528608  0.465564      18.583462      20.473753     17.706443   \n",
       "..        ...       ...            ...            ...           ...   \n",
       "95  25.070039  0.236523      24.589871      25.550207     23.439841   \n",
       "96  25.130934  0.242578      24.638474      25.623394     23.497073   \n",
       "97  25.191829  0.248690      24.686961      25.696696     23.554185   \n",
       "98  25.252723  0.254854      24.735342      25.770105     23.611179   \n",
       "99  25.313618  0.261067      24.783623      25.843613     23.668055   \n",
       "\n",
       "    obs_ci_upper  Publication date (float) Publication date  \n",
       "0      21.136753                2015.00000       2015-01-01  \n",
       "1      21.190132                2015.10101       2015-02-06  \n",
       "2      21.243594                2015.20202       2015-03-15  \n",
       "3      21.297141                2015.30303       2015-04-21  \n",
       "4      21.350773                2015.40404       2015-05-28  \n",
       "..           ...                       ...              ...  \n",
       "95     26.700237                2024.59596       2024-08-06  \n",
       "96     26.764795                2024.69697       2024-09-12  \n",
       "97     26.829472                2024.79798       2024-10-19  \n",
       "98     26.894268                2024.89899       2024-11-25  \n",
       "99     26.959182                2025.00000       2025-01-01  \n",
       "\n",
       "[100 rows x 8 columns]"
      ]
     },
     "execution_count": 145,
     "metadata": {},
     "output_type": "execute_result"
    }
   ],
   "source": [
    "predicted_closed_df = get_predictions(closed_reg_results, pred_years, ['Publication date (float)'])\n",
    "predicted_closed_df['Publication date'] = predicted_closed_df['Publication date (float)'].apply(float_year_to_datetime)\n",
    "predicted_closed_df"
   ]
  },
  {
   "cell_type": "markdown",
   "metadata": {},
   "source": [
    "## Differences between trends"
   ]
  },
  {
   "cell_type": "code",
   "execution_count": 146,
   "metadata": {},
   "outputs": [],
   "source": [
    "NUM_SAMPLES = 1000"
   ]
  },
  {
   "cell_type": "code",
   "execution_count": 147,
   "metadata": {},
   "outputs": [
    {
     "data": {
      "text/plain": [
       "array([[-1.47047018e+03, -8.80052215e+02],\n",
       "       [ 4.46454791e-01,  7.38410871e-01]])"
      ]
     },
     "execution_count": 147,
     "metadata": {},
     "output_type": "execute_result"
    }
   ],
   "source": [
    "open_reg_results.conf_int()"
   ]
  },
  {
   "cell_type": "code",
   "execution_count": 154,
   "metadata": {},
   "outputs": [],
   "source": [
    "# Open\n",
    "open_ci = open_reg_results.conf_int()\n",
    "open_slope = lognorm_from_90_ci(\n",
    "    10**open_ci[1][0],\n",
    "    10**open_ci[1][1],\n",
    "    NUM_SAMPLES,\n",
    ")\n",
    "open_intercept = normal_from_90_ci(\n",
    "    open_ci[0][0],\n",
    "    open_ci[0][1],\n",
    "    NUM_SAMPLES,\n",
    ")\n",
    "# Closed\n",
    "closed_ci = closed_reg_results.conf_int()\n",
    "closed_slope = lognorm_from_90_ci(\n",
    "    10**closed_ci[1][0],\n",
    "    10**closed_ci[1][1],\n",
    "    NUM_SAMPLES,\n",
    ")\n",
    "closed_intercept = normal_from_90_ci(\n",
    "    closed_ci[0][0],\n",
    "    closed_ci[0][1],\n",
    "    NUM_SAMPLES,\n",
    ")"
   ]
  },
  {
   "cell_type": "code",
   "execution_count": 157,
   "metadata": {},
   "outputs": [
    {
     "name": "stdout",
     "output_type": "stream",
     "text": [
      "Median: 3.9 [90% CI: 2.8, 5.6]\n",
      "Median: -1.2e+03 [90% CI: -1.5e+03, -8.8e+02]\n",
      "Median: -1.2e+03 [90% CI: -1.5e+03, -9e+02]\n"
     ]
    }
   ],
   "source": [
    "print_median_and_ci(open_slope)\n",
    "print_median_and_ci(open_intercept)\n",
    "print_median_and_ci(closed_intercept)"
   ]
  },
  {
   "cell_type": "code",
   "execution_count": null,
   "metadata": {},
   "outputs": [],
   "source": []
  },
  {
   "cell_type": "code",
   "execution_count": 89,
   "metadata": {},
   "outputs": [
    {
     "data": {
      "text/plain": [
       "23.970958636853084"
      ]
     },
     "execution_count": 89,
     "metadata": {},
     "output_type": "execute_result"
    }
   ],
   "source": [
    "# Calculate when the closed compute trend was equal to the open compute trend today\n",
    "current_date = 2024.25\n",
    "current_open_compute = open_reg_results.params[1] * current_date + open_reg_results.params[0]\n",
    "current_open_compute"
   ]
  },
  {
   "cell_type": "code",
   "execution_count": 92,
   "metadata": {},
   "outputs": [
    {
     "data": {
      "text/plain": [
       "24.861474095069525"
      ]
     },
     "execution_count": 92,
     "metadata": {},
     "output_type": "execute_result"
    }
   ],
   "source": [
    "current_closed_compute = closed_reg_results.params[1] * current_date + closed_reg_results.params[0]\n",
    "current_closed_compute"
   ]
  },
  {
   "cell_type": "code",
   "execution_count": 94,
   "metadata": {},
   "outputs": [
    {
     "name": "stdout",
     "output_type": "stream",
     "text": [
      "Open access models are 0.9 OOMs behind closed access models\n"
     ]
    }
   ],
   "source": [
    "compute_gap = current_closed_compute - current_open_compute\n",
    "print(f'Open access models are {compute_gap:.1f} OOMs behind closed access models')"
   ]
  },
  {
   "cell_type": "code",
   "execution_count": 90,
   "metadata": {},
   "outputs": [
    {
     "data": {
      "text/plain": [
       "2022.772846203448"
      ]
     },
     "execution_count": 90,
     "metadata": {},
     "output_type": "execute_result"
    }
   ],
   "source": [
    "closed_compute_match_date = (current_open_compute - closed_reg_results.params[0]) / closed_reg_results.params[1]\n",
    "closed_compute_match_date"
   ]
  },
  {
   "cell_type": "code",
   "execution_count": 95,
   "metadata": {},
   "outputs": [
    {
     "name": "stdout",
     "output_type": "stream",
     "text": [
      "Open access models are 1.5 years behind closed access models\n"
     ]
    }
   ],
   "source": [
    "open_time_lag = current_date - closed_compute_match_date\n",
    "print(f'Open access models are {open_time_lag:.1f} years behind closed access models')"
   ]
  },
  {
   "cell_type": "markdown",
   "metadata": {},
   "source": [
    "# Plots"
   ]
  },
  {
   "cell_type": "code",
   "execution_count": 50,
   "metadata": {},
   "outputs": [
    {
     "data": {
      "application/vnd.plotly.v1+json": {
       "config": {
        "plotlyServerURL": "https://plot.ly"
       },
       "data": [
        {
         "customdata": [
          [
           "DBRX"
          ],
          [
           "StarCoder 2 15B"
          ],
          [
           "StarCoder 2 7B"
          ],
          [
           "StarCoder 2 3B"
          ],
          [
           "Code Llama-70B"
          ],
          [
           "Qwen-72B"
          ],
          [
           "Nemotron-3-8B"
          ],
          [
           "CogVLM"
          ],
          [
           "Yi-34B"
          ],
          [
           "Falcon 180B"
          ],
          [
           "Llama 2-70B"
          ],
          [
           "Llama 2-7B"
          ],
          [
           "Llama 2-13B"
          ],
          [
           "BLOOM-176B"
          ],
          [
           "Taiyi-Stable Diffusion"
          ],
          [
           "GPT-SW3"
          ],
          [
           "Stable Diffusion (LDM-KL-8-G)"
          ]
         ],
         "hovertemplate": "Model accessibility=Open access (restricted use)<br>Publication date=%{x}<br>Training compute (FLOP)=%{y}<br>System=%{customdata[0]}<extra></extra>",
         "legendgroup": "Open access (restricted use)",
         "marker": {
          "color": "#636efa",
          "symbol": "circle"
         },
         "mode": "markers",
         "name": "Open access (restricted use)",
         "orientation": "v",
         "showlegend": true,
         "type": "scatter",
         "x": [
          "2024-03-27",
          "2024-02-29",
          "2024-02-29",
          "2024-02-29",
          "2024-01-29",
          "2023-11-30",
          "2023-11-15",
          "2023-11-06",
          "2023-11-02",
          "2023-09-06",
          "2023-07-18",
          "2023-07-18",
          "2023-07-18",
          "2022-11-08",
          "2022-10-31",
          "2022-06-25",
          "2022-04-13"
         ],
         "xaxis": "x",
         "y": [
          2.6e+24,
          3.87e+23,
          1.55e+23,
          5.94e+22,
          1.230000000001e+24,
          1.3e+24,
          1.8e+23,
          1.988064e+22,
          6.1e+23,
          3.76e+24,
          8.1e+23,
          8.4e+22,
          1.6e+23,
          5.770000000000099e+23,
          5.1e+22,
          1.3e+21,
          5e+22
         ],
         "yaxis": "y"
        },
        {
         "customdata": [
          [
           "Mistral Large"
          ],
          [
           "Granite 13B"
          ],
          [
           "Cohere Command Light"
          ],
          [
           "Claude 2"
          ],
          [
           "PaLM 2"
          ],
          [
           "GPT-4"
          ],
          [
           "GPT-3.5 (text-davinci-003)"
          ],
          [
           "AlexaTM 20B"
          ],
          [
           "Imagen"
          ],
          [
           "PAGnol-XL"
          ],
          [
           "Yuan 1.0"
          ],
          [
           "HyperCLOVA"
          ],
          [
           "Jurassic-1-Jumbo"
          ],
          [
           "Wu Dao - Wen Yuan"
          ],
          [
           "GPT-3 175B (davinci)"
          ]
         ],
         "hovertemplate": "Model accessibility=API access<br>Publication date=%{x}<br>Training compute (FLOP)=%{y}<br>System=%{customdata[0]}<extra></extra>",
         "legendgroup": "API access",
         "marker": {
          "color": "#EF553B",
          "symbol": "circle"
         },
         "mode": "markers",
         "name": "API access",
         "orientation": "v",
         "showlegend": true,
         "type": "scatter",
         "x": [
          "2024-02-26",
          "2023-11-30",
          "2023-11-30",
          "2023-07-11",
          "2023-05-10",
          "2023-03-15",
          "2022-11-28",
          "2022-08-02",
          "2022-05-23",
          "2021-10-16",
          "2021-10-12",
          "2021-09-10",
          "2021-08-11",
          "2021-01-11",
          "2020-05-28"
         ],
         "xaxis": "x",
         "y": [
          2.0000000001e+25,
          2.44e+23,
          1.001e+22,
          3.866e+24,
          7.34e+24,
          2.1e+25,
          2.578e+24,
          2.04374016e+23,
          1.4600000000000002e+22,
          259200000000000000000,
          3.5380000000001e+23,
          1.476e+23,
          3.7e+23,
          650280960000000000000,
          3.14e+23
         ],
         "yaxis": "y"
        },
        {
         "customdata": [
          [
           "Gemma 7B"
          ],
          [
           "LLaVA-NeXT-34B (LLaVA-1.6)"
          ],
          [
           "DeepSeekMoE-16B"
          ],
          [
           "DeepSeek LLM 67B"
          ],
          [
           "Poro34B (700B token checkpoint)"
          ],
          [
           "Phi-2"
          ],
          [
           "XVERSE-65B-2"
          ],
          [
           "Mamba-2.8B"
          ],
          [
           "MultiBand Diffusion"
          ],
          [
           "Whisper v3"
          ],
          [
           "StableLM-3B-4E1T"
          ],
          [
           "FLM-101B"
          ],
          [
           "Jais"
          ],
          [
           "PeptideBERT"
          ],
          [
           "JIANG"
          ],
          [
           "CodeGen2.5"
          ],
          [
           "MPT-30B"
          ],
          [
           "MPT-7B"
          ],
          [
           "Pythia-12b"
          ],
          [
           "Falcon-40B"
          ],
          [
           "Hybrid H3-2.7B"
          ],
          [
           "DiffDock"
          ],
          [
           "Whisper"
          ],
          [
           "ProtGPT2"
          ],
          [
           "ESM2-15B"
          ],
          [
           "ESM2-3B"
          ],
          [
           "ESM2-650M"
          ],
          [
           "ESM2-150M"
          ],
          [
           "ESM2-35M"
          ],
          [
           "ESM2-8M"
          ],
          [
           "Rita-XLarge"
          ],
          [
           "NLLB"
          ],
          [
           "CodeT5-large"
          ],
          [
           "ProGen2-xlarge"
          ],
          [
           "YaLM"
          ],
          [
           "Tranception"
          ],
          [
           "UL2"
          ],
          [
           "GPT-NeoX-20B"
          ],
          [
           "XGLM"
          ],
          [
           "EquiDock"
          ],
          [
           "ProteinLM"
          ],
          [
           "ERNIE 3.0"
          ],
          [
           "DeBERTa"
          ],
          [
           "ViT-G/14"
          ],
          [
           "ProtT5-XXL-BFD"
          ],
          [
           "ProtBERT-BFD"
          ],
          [
           "GPT-J-6B"
          ],
          [
           "GPT-Neo-2.7B"
          ],
          [
           "AraGPT2-Mega"
          ],
          [
           "CPM-Large"
          ],
          [
           "SeqVec"
          ],
          [
           "T5-11B"
          ],
          [
           "GPT-2 (1.5B)"
          ],
          [
           "BERT-Large"
          ],
          [
           "GPT"
          ]
         ],
         "hovertemplate": "Model accessibility=Open source<br>Publication date=%{x}<br>Training compute (FLOP)=%{y}<br>System=%{customdata[0]}<extra></extra>",
         "legendgroup": "Open source",
         "marker": {
          "color": "#00cc96",
          "symbol": "circle"
         },
         "mode": "markers",
         "name": "Open source",
         "orientation": "v",
         "showlegend": true,
         "type": "scatter",
         "x": [
          "2024-02-21",
          "2024-01-30",
          "2024-01-11",
          "2024-01-05",
          "2023-12-14",
          "2023-12-12",
          "2023-12-08",
          "2023-12-01",
          "2023-11-08",
          "2023-11-06",
          "2023-09-29",
          "2023-09-07",
          "2023-08-29",
          "2023-08-28",
          "2023-08-01",
          "2023-07-06",
          "2023-06-22",
          "2023-05-05",
          "2023-04-03",
          "2023-03-15",
          "2022-12-28",
          "2022-10-04",
          "2022-09-21",
          "2022-07-27",
          "2022-07-21",
          "2022-07-21",
          "2022-07-21",
          "2022-07-21",
          "2022-07-21",
          "2022-07-21",
          "2022-07-14",
          "2022-07-06",
          "2022-07-05",
          "2022-06-27",
          "2022-06-23",
          "2022-05-27",
          "2022-05-10",
          "2022-02-09",
          "2021-12-20",
          "2021-11-15",
          "2021-08-17",
          "2021-07-05",
          "2021-06-10",
          "2021-06-08",
          "2021-05-04",
          "2021-05-04",
          "2021-05-01",
          "2021-03-21",
          "2020-12-31",
          "2020-12-01",
          "2019-12-17",
          "2019-10-23",
          "2019-02-14",
          "2018-10-11",
          "2018-06-01"
         ],
         "xaxis": "x",
         "y": [
          2.52e+23,
          258785280000000000000,
          3.4e+22,
          8.04e+23,
          1.53e+23,
          2.27e+22,
          1.24800000000001e+24,
          5.400000000000001e+21,
          26000000000000000000,
          2.7e+23,
          6.21e+22,
          5.720000000000001e+22,
          3.08e+22,
          7.6e+21,
          4.03e+22,
          5.899999999999999e+22,
          1.8e+23,
          4.2e+22,
          2.16e+22,
          2.4e+23,
          849000000000000000000,
          72000000000000000000,
          4.65e+22,
          4.1e+21,
          7.350000000009999e+22,
          3.0000000009999997e+22,
          7.560000000001e+21,
          1.1e+21,
          209999999999999970000,
          48000000000000000000,
          3.4e+21,
          1.751113728e+22,
          2.72e+21,
          1.35e+22,
          2.2e+23,
          7.240000000000001e+21,
          1.2e+23,
          9.31627008e+22,
          2.25e+22,
          10800000000000000000,
          1.5999999999999998e+22,
          2.25e+22,
          6.00000000001e+21,
          3.4e+21,
          3.7e+22,
          3.9e+22,
          1.5e+22,
          7.9e+21,
          1.9999999999999995e+21,
          1.8e+21,
          41000000000000000000,
          3.3e+22,
          4.3e+21,
          285000000000000000000,
          17578125000000000000
         ],
         "yaxis": "y"
        },
        {
         "customdata": [
          [
           "StableLM-2-1.6B"
          ],
          [
           "Stable Code 3B"
          ],
          [
           "Orca 2-13B"
          ],
          [
           "IDEFICS"
          ],
          [
           "Weblab-10B"
          ],
          [
           "WizardLM-7B"
          ],
          [
           "LLaMA-33B"
          ],
          [
           "LLaMA-65B"
          ],
          [
           "LLaMA-7B"
          ],
          [
           "Galactica"
          ],
          [
           "GLM-130B"
          ],
          [
           "OPT-175B"
          ],
          [
           "ViT-G (model soup)"
          ]
         ],
         "hovertemplate": "Model accessibility=Open access (non-commercial)<br>Publication date=%{x}<br>Training compute (FLOP)=%{y}<br>System=%{customdata[0]}<extra></extra>",
         "legendgroup": "Open access (non-commercial)",
         "marker": {
          "color": "#ab63fa",
          "symbol": "circle"
         },
         "mode": "markers",
         "name": "Open access (non-commercial)",
         "orientation": "v",
         "showlegend": true,
         "type": "scatter",
         "x": [
          "2024-01-18",
          "2024-01-09",
          "2023-11-21",
          "2023-08-22",
          "2023-08-04",
          "2023-04-24",
          "2023-02-27",
          "2023-02-24",
          "2023-02-24",
          "2022-11-16",
          "2022-08-04",
          "2022-05-02",
          "2022-03-10"
         ],
         "xaxis": "x",
         "y": [
          1.92e+22,
          2.106e+22,
          4.6e+22,
          1.1593580544e+23,
          3.6e+22,
          4.02e+22,
          2.7300000000000996e+23,
          5.5e+23,
          4.02e+22,
          3.24e+23,
          3.778e+23,
          4.3e+23,
          3.4e+21
         ],
         "yaxis": "y"
        },
        {
         "customdata": [
          [
           "Gemini Ultra"
          ],
          [
           "Inflection-2"
          ],
          [
           "Inflection-1"
          ],
          [
           "GNMT"
          ]
         ],
         "hovertemplate": "Model accessibility=Hosted access (no API)<br>Publication date=%{x}<br>Training compute (FLOP)=%{y}<br>System=%{customdata[0]}<extra></extra>",
         "legendgroup": "Hosted access (no API)",
         "marker": {
          "color": "#FFA15A",
          "symbol": "circle"
         },
         "mode": "markers",
         "name": "Hosted access (no API)",
         "orientation": "v",
         "showlegend": true,
         "type": "scatter",
         "x": [
          "2023-12-06",
          "2023-11-22",
          "2023-06-23",
          "2016-09-26"
         ],
         "xaxis": "x",
         "y": [
          5.0000000001e+25,
          1.001e+25,
          1.0001e+24,
          6.899999999999999e+21
         ],
         "yaxis": "y"
        },
        {
         "customdata": [
          [
           "LLaVA 1.5"
          ],
          [
           "DeepSeek Coder 33B"
          ],
          [
           "Nanbeige-16B"
          ],
          [
           "Skywork-13B"
          ],
          [
           "CodeFuse-13B"
          ],
          [
           "Qwen-14B"
          ],
          [
           "Qwen-7B"
          ],
          [
           "BTLM-3B"
          ],
          [
           "Phi-1.5"
          ],
          [
           "XGen-7B"
          ],
          [
           "Baichuan2-13B"
          ],
          [
           "TigerBot-70B"
          ],
          [
           "Refact-1.6B"
          ],
          [
           "PULI GPTrio"
          ],
          [
           "DeciCoder"
          ],
          [
           "Code Llama-34B"
          ],
          [
           "Code Llama-7B"
          ],
          [
           "Japanese StableLM Base Alpha 7B"
          ],
          [
           "StableLM-Base-Alpha-7B"
          ],
          [
           "bilingual-gpt-neox-4b"
          ],
          [
           "RedPajama-INCITE-7B-Base"
          ],
          [
           "Polyglot-Ko-12.8B"
          ],
          [
           "ONE-PEACE"
          ],
          [
           "OpenLLaMA-13B"
          ],
          [
           "MOSS-Moon-003"
          ],
          [
           "Incoder-6.7B"
          ],
          [
           "Segment Anything Model"
          ],
          [
           "AudioGen"
          ],
          [
           "Palmyra Large 20B"
          ],
          [
           "gpt-sw3-40b"
          ],
          [
           "SantaCoder"
          ],
          [
           "Whisper v2"
          ],
          [
           "BlenderBot 3"
          ],
          [
           "CodeGeeX"
          ],
          [
           "Fairseq-dense 13B"
          ],
          [
           "MegaMolBART"
          ],
          [
           "ByT5-XXL"
          ],
          [
           "ViT + DINO"
          ],
          [
           "BigGAN-deep 512x512"
          ]
         ],
         "hovertemplate": "Model accessibility=Permissive license (depr.)<br>Publication date=%{x}<br>Training compute (FLOP)=%{y}<br>System=%{customdata[0]}<extra></extra>",
         "legendgroup": "Permissive license (depr.)",
         "marker": {
          "color": "#19d3f3",
          "symbol": "circle"
         },
         "mode": "markers",
         "name": "Permissive license (depr.)",
         "orientation": "v",
         "showlegend": true,
         "type": "scatter",
         "x": [
          "2023-11-05",
          "2023-11-02",
          "2023-11-01",
          "2023-10-30",
          "2023-10-10",
          "2023-09-28",
          "2023-09-28",
          "2023-09-20",
          "2023-09-11",
          "2023-09-07",
          "2023-09-06",
          "2023-09-06",
          "2023-08-29",
          "2023-08-23",
          "2023-08-15",
          "2023-08-14",
          "2023-08-14",
          "2023-08-10",
          "2023-08-05",
          "2023-07-31",
          "2023-06-06",
          "2023-06-04",
          "2023-05-18",
          "2023-05-01",
          "2023-04-19",
          "2023-04-09",
          "2023-04-05",
          "2023-03-05",
          "2023-03-01",
          "2023-03-01",
          "2023-01-09",
          "2022-12-05",
          "2022-08-10",
          "2022-06-22",
          "2021-12-20",
          "2021-09-14",
          "2021-05-28",
          "2021-04-29",
          "2018-09-28"
         ],
         "xaxis": "x",
         "y": [
          65000000000000000000,
          3.96e+23,
          2.4e+23,
          2.5e+23,
          3.3e+23,
          2.5e+23,
          1.0099999999999998e+23,
          9.8e+21,
          1.17e+21,
          8.02e+22,
          2.03e+23,
          1.02e+24,
          1.152e+22,
          5.8e+21,
          2.9e+21,
          5.3e+23,
          1.1e+23,
          3.15e+22,
          4.5e+22,
          1.2e+22,
          4.1e+22,
          1.28e+22,
          180000000000000000000,
          7.8e+22,
          6.669999999999999e+22,
          3.00001e+21,
          7.8e+21,
          7.2e+21,
          9.6e+22,
          7.68e+22,
          2.1e+21,
          1.1e+23,
          4.3e+23,
          6.630000000001e+22,
          3.267e+22,
          720000000000000000000,
          8.1e+22,
          209999999999999970000,
          3.00000000001e+21
         ],
         "yaxis": "y"
        },
        {
         "customdata": [
          [
           "Calm2-7B"
          ],
          [
           "BlueLM 13B"
          ],
          [
           "Stockmark-13B"
          ],
          [
           "LLaMA-7B (protein-oriented instructions finetuned)"
          ],
          [
           "TinyLlama-1.1B (1T token checkpoint)"
          ],
          [
           "TinyLlama-1.1B (3T token checkpoint)"
          ],
          [
           "PLaMo-13B"
          ],
          [
           "InternLM-XComposer"
          ],
          [
           "MADLAD-400 10B"
          ],
          [
           "Kosmos-2"
          ],
          [
           "StarCoder"
          ],
          [
           "Falcon-7B"
          ],
          [
           "LLaVA"
          ],
          [
           "DINOv2"
          ],
          [
           "gLM"
          ],
          [
           "VideoMAE V2"
          ],
          [
           "Flan T5-XXL + BLIP-2"
          ],
          [
           "Ankh_large"
          ],
          [
           "Ankh_base"
          ],
          [
           "DNA Fine-Tuned Language Model (DFLM)"
          ],
          [
           "EVA"
          ],
          [
           "DALL-E mega"
          ],
          [
           "OPT-66B"
          ],
          [
           "Unified-IO"
          ],
          [
           "BERT-RBP"
          ],
          [
           "Detic"
          ],
          [
           "XGLM-7.5B"
          ],
          [
           "ESM1v"
          ],
          [
           "DALL-E mini"
          ],
          [
           "DNABERT"
          ],
          [
           "ResNet-RS"
          ],
          [
           "MSA Transformer"
          ],
          [
           "DensePhrases"
          ],
          [
           "ESM1b"
          ],
          [
           "GBERT-Large"
          ],
          [
           "German ELECTRA Large"
          ],
          [
           "LUKE"
          ],
          [
           "ESM1-670M (UR50/S)"
          ],
          [
           "ESM1-670M (UR50/D)"
          ],
          [
           "ESM1-670M (UR100)"
          ],
          [
           "ESM1-85M"
          ],
          [
           "ESM1-43M"
          ],
          [
           "mBART-50"
          ],
          [
           "CamemBERT"
          ],
          [
           "Self-Attention and Convolutional Layers"
          ],
          [
           "SciBERT"
          ],
          [
           "DMPFold"
          ],
          [
           "Big-Little Net (vision)"
          ],
          [
           "Big-Little Net (speech)"
          ],
          [
           "DNCON2"
          ],
          [
           "AlexNet + coordinating filters"
          ],
          [
           "BIDAF"
          ]
         ],
         "hovertemplate": "Model accessibility=Fully open-source (depr.)<br>Publication date=%{x}<br>Training compute (FLOP)=%{y}<br>System=%{customdata[0]}<extra></extra>",
         "legendgroup": "Fully open-source (depr.)",
         "marker": {
          "color": "#FF6692",
          "symbol": "circle"
         },
         "mode": "markers",
         "name": "Fully open-source (depr.)",
         "orientation": "v",
         "showlegend": true,
         "type": "scatter",
         "x": [
          "2023-11-01",
          "2023-10-31",
          "2023-10-23",
          "2023-10-02",
          "2023-10-01",
          "2023-10-01",
          "2023-09-28",
          "2023-09-26",
          "2023-09-09",
          "2023-06-26",
          "2023-05-09",
          "2023-04-24",
          "2023-04-17",
          "2023-04-14",
          "2023-04-08",
          "2023-03-29",
          "2023-01-30",
          "2023-01-16",
          "2023-01-16",
          "2023-01-02",
          "2022-11-14",
          "2022-06-28",
          "2022-06-21",
          "2022-06-17",
          "2022-04-07",
          "2022-01-07",
          "2021-12-20",
          "2021-11-17",
          "2021-10-26",
          "2021-08-15",
          "2021-03-13",
          "2021-02-13",
          "2020-12-23",
          "2020-12-15",
          "2020-10-21",
          "2020-10-21",
          "2020-10-02",
          "2020-08-31",
          "2020-08-31",
          "2020-08-31",
          "2020-08-31",
          "2020-08-31",
          "2020-08-02",
          "2019-11-10",
          "2019-11-08",
          "2019-03-26",
          "2018-11-29",
          "2018-07-10",
          "2018-07-10",
          "2018-05-01",
          "2017-03-28",
          "2016-11-05"
         ],
         "xaxis": "x",
         "y": [
          5.459999999999999e+22,
          1.0920000000001e+23,
          1.7160000000000002e+22,
          2.78e+22,
          7.24598784e+21,
          2.173796352e+22,
          1.17e+23,
          3.4504704e+21,
          1.605e+22,
          250026393600000000000,
          1.12e+23,
          6.3e+22,
          48522240000000000000,
          7.41851136e+21,
          151000000000000000000,
          9.7e+21,
          1.2e+21,
          6.5e+21,
          2.6e+21,
          3500000000000000000,
          3.7509433344e+21,
          228527308800000000000,
          1.100000000001e+23,
          3.5e+21,
          140000000000000000000,
          23439974400000000000,
          4.347592704e+22,
          135000000000000080000,
          382579200000000000,
          140000000000000000000,
          1.763328e+22,
          5.49e+21,
          2099520000000000000,
          460000000000000070000,
          2.24446464e+21,
          1.42829568e+21,
          175799808000000000000,
          440000000000000000000,
          480000000000000000000,
          140000000000000000000,
          56000000000000000000,
          28000000000000000000,
          3.281596416e+21,
          830000000000000000000,
          675000000000000000,
          89268480000000000000,
          12000000000000,
          3936768000000000000,
          429004800000000000,
          95000000000000000,
          1557140125176000000,
          3468614400000000000
         ],
         "yaxis": "y"
        },
        {
         "customdata": [
          [
           "Swift"
          ],
          [
           "Llama 2-34B"
          ],
          [
           "RetNet"
          ],
          [
           "xTrimoPGLM -100B"
          ],
          [
           "BloombergGPT"
          ],
          [
           "Sparse Wide GPT-3 Small"
          ],
          [
           "PanGu-Σ"
          ],
          [
           "VALL-E"
          ],
          [
           "AR-LDM"
          ],
          [
           "Mogrifier RLSTM (WT2)"
          ],
          [
           "U-PaLM (540B)"
          ],
          [
           "PaLI"
          ],
          [
           "Minerva (540B)"
          ],
          [
           "Parti"
          ],
          [
           "CoCa"
          ],
          [
           "DITTO"
          ],
          [
           "Gato"
          ],
          [
           "Flamingo"
          ],
          [
           "Sparse all-MLP"
          ],
          [
           "PaLM (540B)"
          ],
          [
           "Chinchilla"
          ],
          [
           "Segatron-XL large, M=384 + HCP"
          ],
          [
           "LaMDA"
          ],
          [
           "ERNIE 3.0 Titan"
          ],
          [
           "GLaM"
          ],
          [
           "Gopher (280B)"
          ],
          [
           "Megatron-Turing NLG 530B"
          ],
          [
           "EMDR"
          ],
          [
           "MedBERT"
          ],
          [
           "PanGu-α"
          ],
          [
           "Switch"
          ],
          [
           "GShard (dense)"
          ],
          [
           "GShard (600B)"
          ],
          [
           "Turing-NLG"
          ],
          [
           "Meena"
          ],
          [
           "Megatron-BERT"
          ],
          [
           "Megatron-LM (8.3B)"
          ],
          [
           "Transformer"
          ],
          [
           "MoE"
          ],
          [
           "Neural Architecture Search with base 8 and shared embeddings"
          ]
         ],
         "hovertemplate": "Model accessibility=Unreleased<br>Publication date=%{x}<br>Training compute (FLOP)=%{y}<br>System=%{customdata[0]}<extra></extra>",
         "legendgroup": "Unreleased",
         "marker": {
          "color": "#B6E880",
          "symbol": "circle"
         },
         "mode": "markers",
         "name": "Unreleased",
         "orientation": "v",
         "showlegend": true,
         "type": "scatter",
         "x": [
          "2023-08-30",
          "2023-07-18",
          "2023-07-17",
          "2023-07-06",
          "2023-03-30",
          "2023-03-21",
          "2023-03-20",
          "2023-01-05",
          "2022-11-20",
          "2022-11-03",
          "2022-10-20",
          "2022-09-14",
          "2022-06-29",
          "2022-06-22",
          "2022-06-14",
          "2022-06-06",
          "2022-05-12",
          "2022-04-29",
          "2022-04-14",
          "2022-04-04",
          "2022-03-29",
          "2022-03-21",
          "2022-02-10",
          "2021-12-23",
          "2021-12-13",
          "2021-12-08",
          "2021-10-11",
          "2021-06-09",
          "2021-05-20",
          "2021-04-25",
          "2021-01-11",
          "2020-06-30",
          "2020-06-30",
          "2020-02-13",
          "2020-01-28",
          "2019-09-17",
          "2019-09-17",
          "2017-06-12",
          "2017-01-23",
          "2016-11-05"
         ],
         "xaxis": "x",
         "y": [
          53370000000000000,
          4.08e+23,
          4.02e+21,
          6.0001e+23,
          2.3599999999999997e+23,
          88400000000000000000,
          4.669999999999999e+23,
          10100000000000000000,
          510000000000000000000,
          109000000000000000,
          2.53e+24,
          5.1e+22,
          2.7415e+24,
          3.962895376192635e+23,
          7.3e+22,
          11000000000000000000,
          5.44e+21,
          2.7e+23,
          60770304000000000000,
          2.5272e+24,
          5.76e+23,
          26500000000000000000,
          3.55e+23,
          1.0421e+24,
          3.74e+23,
          6.31e+23,
          1.17e+24,
          1.24e+21,
          8545824000000000000,
          5.83e+22,
          8.22e+22,
          1.28e+22,
          1.33e+22,
          1.57e+22,
          1.12e+23,
          6.027e+22,
          9.1e+21,
          7424524800000000000,
          93939056640000000000,
          10500000000000000
         ],
         "yaxis": "y"
        },
        {
         "customdata": [
          [
           "UDSMProt"
          ],
          [
           "TAPE Transformer"
          ],
          [
           "UniRep"
          ],
          [
           "SPIDER2"
          ]
         ],
         "hovertemplate": "Model accessibility=Weights available (depr.)<br>Publication date=%{x}<br>Training compute (FLOP)=%{y}<br>System=%{customdata[0]}<extra></extra>",
         "legendgroup": "Weights available (depr.)",
         "marker": {
          "color": "#FF97FF",
          "symbol": "circle"
         },
         "mode": "markers",
         "name": "Weights available (depr.)",
         "orientation": "v",
         "showlegend": true,
         "type": "scatter",
         "x": [
          "2019-09-04",
          "2019-06-19",
          "2019-03-26",
          "2016-10-28"
         ],
         "xaxis": "x",
         "y": [
          890000000000000000,
          30000000000000000000,
          22000000000000000000,
          8540000000000
         ],
         "yaxis": "y"
        }
       ],
       "layout": {
        "legend": {
         "title": {
          "text": "Model accessibility"
         },
         "tracegroupgap": 0
        },
        "margin": {
         "t": 60
        },
        "template": {
         "data": {
          "bar": [
           {
            "error_x": {
             "color": "#2a3f5f"
            },
            "error_y": {
             "color": "#2a3f5f"
            },
            "marker": {
             "line": {
              "color": "#E5ECF6",
              "width": 0.5
             },
             "pattern": {
              "fillmode": "overlay",
              "size": 10,
              "solidity": 0.2
             }
            },
            "type": "bar"
           }
          ],
          "barpolar": [
           {
            "marker": {
             "line": {
              "color": "#E5ECF6",
              "width": 0.5
             },
             "pattern": {
              "fillmode": "overlay",
              "size": 10,
              "solidity": 0.2
             }
            },
            "type": "barpolar"
           }
          ],
          "carpet": [
           {
            "aaxis": {
             "endlinecolor": "#2a3f5f",
             "gridcolor": "white",
             "linecolor": "white",
             "minorgridcolor": "white",
             "startlinecolor": "#2a3f5f"
            },
            "baxis": {
             "endlinecolor": "#2a3f5f",
             "gridcolor": "white",
             "linecolor": "white",
             "minorgridcolor": "white",
             "startlinecolor": "#2a3f5f"
            },
            "type": "carpet"
           }
          ],
          "choropleth": [
           {
            "colorbar": {
             "outlinewidth": 0,
             "ticks": ""
            },
            "type": "choropleth"
           }
          ],
          "contour": [
           {
            "colorbar": {
             "outlinewidth": 0,
             "ticks": ""
            },
            "colorscale": [
             [
              0,
              "#0d0887"
             ],
             [
              0.1111111111111111,
              "#46039f"
             ],
             [
              0.2222222222222222,
              "#7201a8"
             ],
             [
              0.3333333333333333,
              "#9c179e"
             ],
             [
              0.4444444444444444,
              "#bd3786"
             ],
             [
              0.5555555555555556,
              "#d8576b"
             ],
             [
              0.6666666666666666,
              "#ed7953"
             ],
             [
              0.7777777777777778,
              "#fb9f3a"
             ],
             [
              0.8888888888888888,
              "#fdca26"
             ],
             [
              1,
              "#f0f921"
             ]
            ],
            "type": "contour"
           }
          ],
          "contourcarpet": [
           {
            "colorbar": {
             "outlinewidth": 0,
             "ticks": ""
            },
            "type": "contourcarpet"
           }
          ],
          "heatmap": [
           {
            "colorbar": {
             "outlinewidth": 0,
             "ticks": ""
            },
            "colorscale": [
             [
              0,
              "#0d0887"
             ],
             [
              0.1111111111111111,
              "#46039f"
             ],
             [
              0.2222222222222222,
              "#7201a8"
             ],
             [
              0.3333333333333333,
              "#9c179e"
             ],
             [
              0.4444444444444444,
              "#bd3786"
             ],
             [
              0.5555555555555556,
              "#d8576b"
             ],
             [
              0.6666666666666666,
              "#ed7953"
             ],
             [
              0.7777777777777778,
              "#fb9f3a"
             ],
             [
              0.8888888888888888,
              "#fdca26"
             ],
             [
              1,
              "#f0f921"
             ]
            ],
            "type": "heatmap"
           }
          ],
          "heatmapgl": [
           {
            "colorbar": {
             "outlinewidth": 0,
             "ticks": ""
            },
            "colorscale": [
             [
              0,
              "#0d0887"
             ],
             [
              0.1111111111111111,
              "#46039f"
             ],
             [
              0.2222222222222222,
              "#7201a8"
             ],
             [
              0.3333333333333333,
              "#9c179e"
             ],
             [
              0.4444444444444444,
              "#bd3786"
             ],
             [
              0.5555555555555556,
              "#d8576b"
             ],
             [
              0.6666666666666666,
              "#ed7953"
             ],
             [
              0.7777777777777778,
              "#fb9f3a"
             ],
             [
              0.8888888888888888,
              "#fdca26"
             ],
             [
              1,
              "#f0f921"
             ]
            ],
            "type": "heatmapgl"
           }
          ],
          "histogram": [
           {
            "marker": {
             "pattern": {
              "fillmode": "overlay",
              "size": 10,
              "solidity": 0.2
             }
            },
            "type": "histogram"
           }
          ],
          "histogram2d": [
           {
            "colorbar": {
             "outlinewidth": 0,
             "ticks": ""
            },
            "colorscale": [
             [
              0,
              "#0d0887"
             ],
             [
              0.1111111111111111,
              "#46039f"
             ],
             [
              0.2222222222222222,
              "#7201a8"
             ],
             [
              0.3333333333333333,
              "#9c179e"
             ],
             [
              0.4444444444444444,
              "#bd3786"
             ],
             [
              0.5555555555555556,
              "#d8576b"
             ],
             [
              0.6666666666666666,
              "#ed7953"
             ],
             [
              0.7777777777777778,
              "#fb9f3a"
             ],
             [
              0.8888888888888888,
              "#fdca26"
             ],
             [
              1,
              "#f0f921"
             ]
            ],
            "type": "histogram2d"
           }
          ],
          "histogram2dcontour": [
           {
            "colorbar": {
             "outlinewidth": 0,
             "ticks": ""
            },
            "colorscale": [
             [
              0,
              "#0d0887"
             ],
             [
              0.1111111111111111,
              "#46039f"
             ],
             [
              0.2222222222222222,
              "#7201a8"
             ],
             [
              0.3333333333333333,
              "#9c179e"
             ],
             [
              0.4444444444444444,
              "#bd3786"
             ],
             [
              0.5555555555555556,
              "#d8576b"
             ],
             [
              0.6666666666666666,
              "#ed7953"
             ],
             [
              0.7777777777777778,
              "#fb9f3a"
             ],
             [
              0.8888888888888888,
              "#fdca26"
             ],
             [
              1,
              "#f0f921"
             ]
            ],
            "type": "histogram2dcontour"
           }
          ],
          "mesh3d": [
           {
            "colorbar": {
             "outlinewidth": 0,
             "ticks": ""
            },
            "type": "mesh3d"
           }
          ],
          "parcoords": [
           {
            "line": {
             "colorbar": {
              "outlinewidth": 0,
              "ticks": ""
             }
            },
            "type": "parcoords"
           }
          ],
          "pie": [
           {
            "automargin": true,
            "type": "pie"
           }
          ],
          "scatter": [
           {
            "fillpattern": {
             "fillmode": "overlay",
             "size": 10,
             "solidity": 0.2
            },
            "type": "scatter"
           }
          ],
          "scatter3d": [
           {
            "line": {
             "colorbar": {
              "outlinewidth": 0,
              "ticks": ""
             }
            },
            "marker": {
             "colorbar": {
              "outlinewidth": 0,
              "ticks": ""
             }
            },
            "type": "scatter3d"
           }
          ],
          "scattercarpet": [
           {
            "marker": {
             "colorbar": {
              "outlinewidth": 0,
              "ticks": ""
             }
            },
            "type": "scattercarpet"
           }
          ],
          "scattergeo": [
           {
            "marker": {
             "colorbar": {
              "outlinewidth": 0,
              "ticks": ""
             }
            },
            "type": "scattergeo"
           }
          ],
          "scattergl": [
           {
            "marker": {
             "colorbar": {
              "outlinewidth": 0,
              "ticks": ""
             }
            },
            "type": "scattergl"
           }
          ],
          "scattermapbox": [
           {
            "marker": {
             "colorbar": {
              "outlinewidth": 0,
              "ticks": ""
             }
            },
            "type": "scattermapbox"
           }
          ],
          "scatterpolar": [
           {
            "marker": {
             "colorbar": {
              "outlinewidth": 0,
              "ticks": ""
             }
            },
            "type": "scatterpolar"
           }
          ],
          "scatterpolargl": [
           {
            "marker": {
             "colorbar": {
              "outlinewidth": 0,
              "ticks": ""
             }
            },
            "type": "scatterpolargl"
           }
          ],
          "scatterternary": [
           {
            "marker": {
             "colorbar": {
              "outlinewidth": 0,
              "ticks": ""
             }
            },
            "type": "scatterternary"
           }
          ],
          "surface": [
           {
            "colorbar": {
             "outlinewidth": 0,
             "ticks": ""
            },
            "colorscale": [
             [
              0,
              "#0d0887"
             ],
             [
              0.1111111111111111,
              "#46039f"
             ],
             [
              0.2222222222222222,
              "#7201a8"
             ],
             [
              0.3333333333333333,
              "#9c179e"
             ],
             [
              0.4444444444444444,
              "#bd3786"
             ],
             [
              0.5555555555555556,
              "#d8576b"
             ],
             [
              0.6666666666666666,
              "#ed7953"
             ],
             [
              0.7777777777777778,
              "#fb9f3a"
             ],
             [
              0.8888888888888888,
              "#fdca26"
             ],
             [
              1,
              "#f0f921"
             ]
            ],
            "type": "surface"
           }
          ],
          "table": [
           {
            "cells": {
             "fill": {
              "color": "#EBF0F8"
             },
             "line": {
              "color": "white"
             }
            },
            "header": {
             "fill": {
              "color": "#C8D4E3"
             },
             "line": {
              "color": "white"
             }
            },
            "type": "table"
           }
          ]
         },
         "layout": {
          "annotationdefaults": {
           "arrowcolor": "#2a3f5f",
           "arrowhead": 0,
           "arrowwidth": 1
          },
          "autotypenumbers": "strict",
          "coloraxis": {
           "colorbar": {
            "outlinewidth": 0,
            "ticks": ""
           }
          },
          "colorscale": {
           "diverging": [
            [
             0,
             "#8e0152"
            ],
            [
             0.1,
             "#c51b7d"
            ],
            [
             0.2,
             "#de77ae"
            ],
            [
             0.3,
             "#f1b6da"
            ],
            [
             0.4,
             "#fde0ef"
            ],
            [
             0.5,
             "#f7f7f7"
            ],
            [
             0.6,
             "#e6f5d0"
            ],
            [
             0.7,
             "#b8e186"
            ],
            [
             0.8,
             "#7fbc41"
            ],
            [
             0.9,
             "#4d9221"
            ],
            [
             1,
             "#276419"
            ]
           ],
           "sequential": [
            [
             0,
             "#0d0887"
            ],
            [
             0.1111111111111111,
             "#46039f"
            ],
            [
             0.2222222222222222,
             "#7201a8"
            ],
            [
             0.3333333333333333,
             "#9c179e"
            ],
            [
             0.4444444444444444,
             "#bd3786"
            ],
            [
             0.5555555555555556,
             "#d8576b"
            ],
            [
             0.6666666666666666,
             "#ed7953"
            ],
            [
             0.7777777777777778,
             "#fb9f3a"
            ],
            [
             0.8888888888888888,
             "#fdca26"
            ],
            [
             1,
             "#f0f921"
            ]
           ],
           "sequentialminus": [
            [
             0,
             "#0d0887"
            ],
            [
             0.1111111111111111,
             "#46039f"
            ],
            [
             0.2222222222222222,
             "#7201a8"
            ],
            [
             0.3333333333333333,
             "#9c179e"
            ],
            [
             0.4444444444444444,
             "#bd3786"
            ],
            [
             0.5555555555555556,
             "#d8576b"
            ],
            [
             0.6666666666666666,
             "#ed7953"
            ],
            [
             0.7777777777777778,
             "#fb9f3a"
            ],
            [
             0.8888888888888888,
             "#fdca26"
            ],
            [
             1,
             "#f0f921"
            ]
           ]
          },
          "colorway": [
           "#636efa",
           "#EF553B",
           "#00cc96",
           "#ab63fa",
           "#FFA15A",
           "#19d3f3",
           "#FF6692",
           "#B6E880",
           "#FF97FF",
           "#FECB52"
          ],
          "font": {
           "color": "#2a3f5f"
          },
          "geo": {
           "bgcolor": "white",
           "lakecolor": "white",
           "landcolor": "#E5ECF6",
           "showlakes": true,
           "showland": true,
           "subunitcolor": "white"
          },
          "hoverlabel": {
           "align": "left"
          },
          "hovermode": "closest",
          "mapbox": {
           "style": "light"
          },
          "paper_bgcolor": "white",
          "plot_bgcolor": "#E5ECF6",
          "polar": {
           "angularaxis": {
            "gridcolor": "white",
            "linecolor": "white",
            "ticks": ""
           },
           "bgcolor": "#E5ECF6",
           "radialaxis": {
            "gridcolor": "white",
            "linecolor": "white",
            "ticks": ""
           }
          },
          "scene": {
           "xaxis": {
            "backgroundcolor": "#E5ECF6",
            "gridcolor": "white",
            "gridwidth": 2,
            "linecolor": "white",
            "showbackground": true,
            "ticks": "",
            "zerolinecolor": "white"
           },
           "yaxis": {
            "backgroundcolor": "#E5ECF6",
            "gridcolor": "white",
            "gridwidth": 2,
            "linecolor": "white",
            "showbackground": true,
            "ticks": "",
            "zerolinecolor": "white"
           },
           "zaxis": {
            "backgroundcolor": "#E5ECF6",
            "gridcolor": "white",
            "gridwidth": 2,
            "linecolor": "white",
            "showbackground": true,
            "ticks": "",
            "zerolinecolor": "white"
           }
          },
          "shapedefaults": {
           "line": {
            "color": "#2a3f5f"
           }
          },
          "ternary": {
           "aaxis": {
            "gridcolor": "white",
            "linecolor": "white",
            "ticks": ""
           },
           "baxis": {
            "gridcolor": "white",
            "linecolor": "white",
            "ticks": ""
           },
           "bgcolor": "#E5ECF6",
           "caxis": {
            "gridcolor": "white",
            "linecolor": "white",
            "ticks": ""
           }
          },
          "title": {
           "x": 0.05
          },
          "xaxis": {
           "automargin": true,
           "gridcolor": "white",
           "linecolor": "white",
           "ticks": "",
           "title": {
            "standoff": 15
           },
           "zerolinecolor": "white",
           "zerolinewidth": 2
          },
          "yaxis": {
           "automargin": true,
           "gridcolor": "white",
           "linecolor": "white",
           "ticks": "",
           "title": {
            "standoff": 15
           },
           "zerolinecolor": "white",
           "zerolinewidth": 2
          }
         }
        },
        "xaxis": {
         "anchor": "y",
         "domain": [
          0,
          1
         ],
         "title": {
          "text": "Publication date"
         }
        },
        "yaxis": {
         "anchor": "x",
         "domain": [
          0,
          1
         ],
         "title": {
          "text": "Training compute (FLOP)"
         },
         "type": "log"
        }
       }
      }
     },
     "metadata": {},
     "output_type": "display_data"
    }
   ],
   "source": [
    "fig = px.scatter(\n",
    "    access_df_with_deprecated,\n",
    "    x='Publication date',\n",
    "    y='Training compute (FLOP)',\n",
    "    color='Model accessibility',\n",
    "    hover_data=['System'],\n",
    "    log_y=True,\n",
    ")\n",
    "\n",
    "save_plot(fig, results_dir, 'training_compute_by_model_accessibility_depr')\n",
    "\n",
    "fig.show()"
   ]
  },
  {
   "cell_type": "code",
   "execution_count": 51,
   "metadata": {},
   "outputs": [
    {
     "data": {
      "application/vnd.plotly.v1+json": {
       "config": {
        "plotlyServerURL": "https://plot.ly"
       },
       "data": [
        {
         "customdata": [
          [
           "DBRX"
          ],
          [
           "StarCoder 2 15B"
          ],
          [
           "StarCoder 2 7B"
          ],
          [
           "StarCoder 2 3B"
          ],
          [
           "Code Llama-70B"
          ],
          [
           "Qwen-72B"
          ],
          [
           "Nemotron-3-8B"
          ],
          [
           "CogVLM"
          ],
          [
           "Yi-34B"
          ],
          [
           "Falcon 180B"
          ],
          [
           "Llama 2-70B"
          ],
          [
           "Llama 2-7B"
          ],
          [
           "Llama 2-13B"
          ],
          [
           "BLOOM-176B"
          ],
          [
           "Taiyi-Stable Diffusion"
          ],
          [
           "GPT-SW3"
          ],
          [
           "Stable Diffusion (LDM-KL-8-G)"
          ]
         ],
         "hovertemplate": "Model accessibility=Open access (restricted use)<br>Publication date=%{x}<br>Training compute (FLOP)=%{y}<br>System=%{customdata[0]}<extra></extra>",
         "legendgroup": "Open access (restricted use)",
         "marker": {
          "color": "#636efa",
          "symbol": "circle"
         },
         "mode": "markers",
         "name": "Open access (restricted use)",
         "orientation": "v",
         "showlegend": true,
         "type": "scatter",
         "x": [
          "2024-03-27",
          "2024-02-29",
          "2024-02-29",
          "2024-02-29",
          "2024-01-29",
          "2023-11-30",
          "2023-11-15",
          "2023-11-06",
          "2023-11-02",
          "2023-09-06",
          "2023-07-18",
          "2023-07-18",
          "2023-07-18",
          "2022-11-08",
          "2022-10-31",
          "2022-06-25",
          "2022-04-13"
         ],
         "xaxis": "x",
         "y": [
          2.6e+24,
          3.87e+23,
          1.55e+23,
          5.94e+22,
          1.230000000001e+24,
          1.3e+24,
          1.8e+23,
          1.988064e+22,
          6.1e+23,
          3.76e+24,
          8.1e+23,
          8.4e+22,
          1.6e+23,
          5.770000000000099e+23,
          5.1e+22,
          1.3e+21,
          5e+22
         ],
         "yaxis": "y"
        },
        {
         "customdata": [
          [
           "Mistral Large"
          ],
          [
           "Granite 13B"
          ],
          [
           "Cohere Command Light"
          ],
          [
           "Claude 2"
          ],
          [
           "PaLM 2"
          ],
          [
           "GPT-4"
          ],
          [
           "GPT-3.5 (text-davinci-003)"
          ],
          [
           "AlexaTM 20B"
          ],
          [
           "Imagen"
          ],
          [
           "PAGnol-XL"
          ],
          [
           "Yuan 1.0"
          ],
          [
           "HyperCLOVA"
          ],
          [
           "Jurassic-1-Jumbo"
          ],
          [
           "Wu Dao - Wen Yuan"
          ],
          [
           "GPT-3 175B (davinci)"
          ]
         ],
         "hovertemplate": "Model accessibility=API access<br>Publication date=%{x}<br>Training compute (FLOP)=%{y}<br>System=%{customdata[0]}<extra></extra>",
         "legendgroup": "API access",
         "marker": {
          "color": "#EF553B",
          "symbol": "circle"
         },
         "mode": "markers",
         "name": "API access",
         "orientation": "v",
         "showlegend": true,
         "type": "scatter",
         "x": [
          "2024-02-26",
          "2023-11-30",
          "2023-11-30",
          "2023-07-11",
          "2023-05-10",
          "2023-03-15",
          "2022-11-28",
          "2022-08-02",
          "2022-05-23",
          "2021-10-16",
          "2021-10-12",
          "2021-09-10",
          "2021-08-11",
          "2021-01-11",
          "2020-05-28"
         ],
         "xaxis": "x",
         "y": [
          2.0000000001e+25,
          2.44e+23,
          1.001e+22,
          3.866e+24,
          7.34e+24,
          2.1e+25,
          2.578e+24,
          2.04374016e+23,
          1.4600000000000002e+22,
          259200000000000000000,
          3.5380000000001e+23,
          1.476e+23,
          3.7e+23,
          650280960000000000000,
          3.14e+23
         ],
         "yaxis": "y"
        },
        {
         "customdata": [
          [
           "Gemma 7B"
          ],
          [
           "LLaVA-NeXT-34B (LLaVA-1.6)"
          ],
          [
           "DeepSeekMoE-16B"
          ],
          [
           "DeepSeek LLM 67B"
          ],
          [
           "Poro34B (700B token checkpoint)"
          ],
          [
           "Phi-2"
          ],
          [
           "XVERSE-65B-2"
          ],
          [
           "Mamba-2.8B"
          ],
          [
           "MultiBand Diffusion"
          ],
          [
           "Whisper v3"
          ],
          [
           "StableLM-3B-4E1T"
          ],
          [
           "FLM-101B"
          ],
          [
           "Jais"
          ],
          [
           "PeptideBERT"
          ],
          [
           "JIANG"
          ],
          [
           "CodeGen2.5"
          ],
          [
           "MPT-30B"
          ],
          [
           "MPT-7B"
          ],
          [
           "Pythia-12b"
          ],
          [
           "Falcon-40B"
          ],
          [
           "Hybrid H3-2.7B"
          ],
          [
           "DiffDock"
          ],
          [
           "Whisper"
          ],
          [
           "ProtGPT2"
          ],
          [
           "ESM2-15B"
          ],
          [
           "ESM2-3B"
          ],
          [
           "ESM2-650M"
          ],
          [
           "ESM2-150M"
          ],
          [
           "ESM2-35M"
          ],
          [
           "ESM2-8M"
          ],
          [
           "Rita-XLarge"
          ],
          [
           "NLLB"
          ],
          [
           "CodeT5-large"
          ],
          [
           "ProGen2-xlarge"
          ],
          [
           "YaLM"
          ],
          [
           "Tranception"
          ],
          [
           "UL2"
          ],
          [
           "GPT-NeoX-20B"
          ],
          [
           "XGLM"
          ],
          [
           "EquiDock"
          ],
          [
           "ProteinLM"
          ],
          [
           "ERNIE 3.0"
          ],
          [
           "DeBERTa"
          ],
          [
           "ViT-G/14"
          ],
          [
           "ProtT5-XXL-BFD"
          ],
          [
           "ProtBERT-BFD"
          ],
          [
           "GPT-J-6B"
          ],
          [
           "GPT-Neo-2.7B"
          ],
          [
           "AraGPT2-Mega"
          ],
          [
           "CPM-Large"
          ],
          [
           "SeqVec"
          ],
          [
           "T5-11B"
          ],
          [
           "GPT-2 (1.5B)"
          ],
          [
           "BERT-Large"
          ],
          [
           "GPT"
          ]
         ],
         "hovertemplate": "Model accessibility=Open source<br>Publication date=%{x}<br>Training compute (FLOP)=%{y}<br>System=%{customdata[0]}<extra></extra>",
         "legendgroup": "Open source",
         "marker": {
          "color": "#00cc96",
          "symbol": "circle"
         },
         "mode": "markers",
         "name": "Open source",
         "orientation": "v",
         "showlegend": true,
         "type": "scatter",
         "x": [
          "2024-02-21",
          "2024-01-30",
          "2024-01-11",
          "2024-01-05",
          "2023-12-14",
          "2023-12-12",
          "2023-12-08",
          "2023-12-01",
          "2023-11-08",
          "2023-11-06",
          "2023-09-29",
          "2023-09-07",
          "2023-08-29",
          "2023-08-28",
          "2023-08-01",
          "2023-07-06",
          "2023-06-22",
          "2023-05-05",
          "2023-04-03",
          "2023-03-15",
          "2022-12-28",
          "2022-10-04",
          "2022-09-21",
          "2022-07-27",
          "2022-07-21",
          "2022-07-21",
          "2022-07-21",
          "2022-07-21",
          "2022-07-21",
          "2022-07-21",
          "2022-07-14",
          "2022-07-06",
          "2022-07-05",
          "2022-06-27",
          "2022-06-23",
          "2022-05-27",
          "2022-05-10",
          "2022-02-09",
          "2021-12-20",
          "2021-11-15",
          "2021-08-17",
          "2021-07-05",
          "2021-06-10",
          "2021-06-08",
          "2021-05-04",
          "2021-05-04",
          "2021-05-01",
          "2021-03-21",
          "2020-12-31",
          "2020-12-01",
          "2019-12-17",
          "2019-10-23",
          "2019-02-14",
          "2018-10-11",
          "2018-06-01"
         ],
         "xaxis": "x",
         "y": [
          2.52e+23,
          258785280000000000000,
          3.4e+22,
          8.04e+23,
          1.53e+23,
          2.27e+22,
          1.24800000000001e+24,
          5.400000000000001e+21,
          26000000000000000000,
          2.7e+23,
          6.21e+22,
          5.720000000000001e+22,
          3.08e+22,
          7.6e+21,
          4.03e+22,
          5.899999999999999e+22,
          1.8e+23,
          4.2e+22,
          2.16e+22,
          2.4e+23,
          849000000000000000000,
          72000000000000000000,
          4.65e+22,
          4.1e+21,
          7.350000000009999e+22,
          3.0000000009999997e+22,
          7.560000000001e+21,
          1.1e+21,
          209999999999999970000,
          48000000000000000000,
          3.4e+21,
          1.751113728e+22,
          2.72e+21,
          1.35e+22,
          2.2e+23,
          7.240000000000001e+21,
          1.2e+23,
          9.31627008e+22,
          2.25e+22,
          10800000000000000000,
          1.5999999999999998e+22,
          2.25e+22,
          6.00000000001e+21,
          3.4e+21,
          3.7e+22,
          3.9e+22,
          1.5e+22,
          7.9e+21,
          1.9999999999999995e+21,
          1.8e+21,
          41000000000000000000,
          3.3e+22,
          4.3e+21,
          285000000000000000000,
          17578125000000000000
         ],
         "yaxis": "y"
        },
        {
         "customdata": [
          [
           "StableLM-2-1.6B"
          ],
          [
           "Stable Code 3B"
          ],
          [
           "Orca 2-13B"
          ],
          [
           "IDEFICS"
          ],
          [
           "Weblab-10B"
          ],
          [
           "WizardLM-7B"
          ],
          [
           "LLaMA-33B"
          ],
          [
           "LLaMA-65B"
          ],
          [
           "LLaMA-7B"
          ],
          [
           "Galactica"
          ],
          [
           "GLM-130B"
          ],
          [
           "OPT-175B"
          ],
          [
           "ViT-G (model soup)"
          ]
         ],
         "hovertemplate": "Model accessibility=Open access (non-commercial)<br>Publication date=%{x}<br>Training compute (FLOP)=%{y}<br>System=%{customdata[0]}<extra></extra>",
         "legendgroup": "Open access (non-commercial)",
         "marker": {
          "color": "#ab63fa",
          "symbol": "circle"
         },
         "mode": "markers",
         "name": "Open access (non-commercial)",
         "orientation": "v",
         "showlegend": true,
         "type": "scatter",
         "x": [
          "2024-01-18",
          "2024-01-09",
          "2023-11-21",
          "2023-08-22",
          "2023-08-04",
          "2023-04-24",
          "2023-02-27",
          "2023-02-24",
          "2023-02-24",
          "2022-11-16",
          "2022-08-04",
          "2022-05-02",
          "2022-03-10"
         ],
         "xaxis": "x",
         "y": [
          1.92e+22,
          2.106e+22,
          4.6e+22,
          1.1593580544e+23,
          3.6e+22,
          4.02e+22,
          2.7300000000000996e+23,
          5.5e+23,
          4.02e+22,
          3.24e+23,
          3.778e+23,
          4.3e+23,
          3.4e+21
         ],
         "yaxis": "y"
        },
        {
         "customdata": [
          [
           "Gemini Ultra"
          ],
          [
           "Inflection-2"
          ],
          [
           "Inflection-1"
          ],
          [
           "GNMT"
          ]
         ],
         "hovertemplate": "Model accessibility=Hosted access (no API)<br>Publication date=%{x}<br>Training compute (FLOP)=%{y}<br>System=%{customdata[0]}<extra></extra>",
         "legendgroup": "Hosted access (no API)",
         "marker": {
          "color": "#FFA15A",
          "symbol": "circle"
         },
         "mode": "markers",
         "name": "Hosted access (no API)",
         "orientation": "v",
         "showlegend": true,
         "type": "scatter",
         "x": [
          "2023-12-06",
          "2023-11-22",
          "2023-06-23",
          "2016-09-26"
         ],
         "xaxis": "x",
         "y": [
          5.0000000001e+25,
          1.001e+25,
          1.0001e+24,
          6.899999999999999e+21
         ],
         "yaxis": "y"
        },
        {
         "customdata": [
          [
           "Swift"
          ],
          [
           "Llama 2-34B"
          ],
          [
           "RetNet"
          ],
          [
           "xTrimoPGLM -100B"
          ],
          [
           "BloombergGPT"
          ],
          [
           "Sparse Wide GPT-3 Small"
          ],
          [
           "PanGu-Σ"
          ],
          [
           "VALL-E"
          ],
          [
           "AR-LDM"
          ],
          [
           "Mogrifier RLSTM (WT2)"
          ],
          [
           "U-PaLM (540B)"
          ],
          [
           "PaLI"
          ],
          [
           "Minerva (540B)"
          ],
          [
           "Parti"
          ],
          [
           "CoCa"
          ],
          [
           "DITTO"
          ],
          [
           "Gato"
          ],
          [
           "Flamingo"
          ],
          [
           "Sparse all-MLP"
          ],
          [
           "PaLM (540B)"
          ],
          [
           "Chinchilla"
          ],
          [
           "Segatron-XL large, M=384 + HCP"
          ],
          [
           "LaMDA"
          ],
          [
           "ERNIE 3.0 Titan"
          ],
          [
           "GLaM"
          ],
          [
           "Gopher (280B)"
          ],
          [
           "Megatron-Turing NLG 530B"
          ],
          [
           "EMDR"
          ],
          [
           "MedBERT"
          ],
          [
           "PanGu-α"
          ],
          [
           "Switch"
          ],
          [
           "GShard (dense)"
          ],
          [
           "GShard (600B)"
          ],
          [
           "Turing-NLG"
          ],
          [
           "Meena"
          ],
          [
           "Megatron-BERT"
          ],
          [
           "Megatron-LM (8.3B)"
          ],
          [
           "Transformer"
          ],
          [
           "MoE"
          ],
          [
           "Neural Architecture Search with base 8 and shared embeddings"
          ]
         ],
         "hovertemplate": "Model accessibility=Unreleased<br>Publication date=%{x}<br>Training compute (FLOP)=%{y}<br>System=%{customdata[0]}<extra></extra>",
         "legendgroup": "Unreleased",
         "marker": {
          "color": "#19d3f3",
          "symbol": "circle"
         },
         "mode": "markers",
         "name": "Unreleased",
         "orientation": "v",
         "showlegend": true,
         "type": "scatter",
         "x": [
          "2023-08-30",
          "2023-07-18",
          "2023-07-17",
          "2023-07-06",
          "2023-03-30",
          "2023-03-21",
          "2023-03-20",
          "2023-01-05",
          "2022-11-20",
          "2022-11-03",
          "2022-10-20",
          "2022-09-14",
          "2022-06-29",
          "2022-06-22",
          "2022-06-14",
          "2022-06-06",
          "2022-05-12",
          "2022-04-29",
          "2022-04-14",
          "2022-04-04",
          "2022-03-29",
          "2022-03-21",
          "2022-02-10",
          "2021-12-23",
          "2021-12-13",
          "2021-12-08",
          "2021-10-11",
          "2021-06-09",
          "2021-05-20",
          "2021-04-25",
          "2021-01-11",
          "2020-06-30",
          "2020-06-30",
          "2020-02-13",
          "2020-01-28",
          "2019-09-17",
          "2019-09-17",
          "2017-06-12",
          "2017-01-23",
          "2016-11-05"
         ],
         "xaxis": "x",
         "y": [
          53370000000000000,
          4.08e+23,
          4.02e+21,
          6.0001e+23,
          2.3599999999999997e+23,
          88400000000000000000,
          4.669999999999999e+23,
          10100000000000000000,
          510000000000000000000,
          109000000000000000,
          2.53e+24,
          5.1e+22,
          2.7415e+24,
          3.962895376192635e+23,
          7.3e+22,
          11000000000000000000,
          5.44e+21,
          2.7e+23,
          60770304000000000000,
          2.5272e+24,
          5.76e+23,
          26500000000000000000,
          3.55e+23,
          1.0421e+24,
          3.74e+23,
          6.31e+23,
          1.17e+24,
          1.24e+21,
          8545824000000000000,
          5.83e+22,
          8.22e+22,
          1.28e+22,
          1.33e+22,
          1.57e+22,
          1.12e+23,
          6.027e+22,
          9.1e+21,
          7424524800000000000,
          93939056640000000000,
          10500000000000000
         ],
         "yaxis": "y"
        }
       ],
       "layout": {
        "legend": {
         "title": {
          "text": "Model accessibility"
         },
         "tracegroupgap": 0
        },
        "margin": {
         "t": 60
        },
        "template": {
         "data": {
          "bar": [
           {
            "error_x": {
             "color": "#2a3f5f"
            },
            "error_y": {
             "color": "#2a3f5f"
            },
            "marker": {
             "line": {
              "color": "#E5ECF6",
              "width": 0.5
             },
             "pattern": {
              "fillmode": "overlay",
              "size": 10,
              "solidity": 0.2
             }
            },
            "type": "bar"
           }
          ],
          "barpolar": [
           {
            "marker": {
             "line": {
              "color": "#E5ECF6",
              "width": 0.5
             },
             "pattern": {
              "fillmode": "overlay",
              "size": 10,
              "solidity": 0.2
             }
            },
            "type": "barpolar"
           }
          ],
          "carpet": [
           {
            "aaxis": {
             "endlinecolor": "#2a3f5f",
             "gridcolor": "white",
             "linecolor": "white",
             "minorgridcolor": "white",
             "startlinecolor": "#2a3f5f"
            },
            "baxis": {
             "endlinecolor": "#2a3f5f",
             "gridcolor": "white",
             "linecolor": "white",
             "minorgridcolor": "white",
             "startlinecolor": "#2a3f5f"
            },
            "type": "carpet"
           }
          ],
          "choropleth": [
           {
            "colorbar": {
             "outlinewidth": 0,
             "ticks": ""
            },
            "type": "choropleth"
           }
          ],
          "contour": [
           {
            "colorbar": {
             "outlinewidth": 0,
             "ticks": ""
            },
            "colorscale": [
             [
              0,
              "#0d0887"
             ],
             [
              0.1111111111111111,
              "#46039f"
             ],
             [
              0.2222222222222222,
              "#7201a8"
             ],
             [
              0.3333333333333333,
              "#9c179e"
             ],
             [
              0.4444444444444444,
              "#bd3786"
             ],
             [
              0.5555555555555556,
              "#d8576b"
             ],
             [
              0.6666666666666666,
              "#ed7953"
             ],
             [
              0.7777777777777778,
              "#fb9f3a"
             ],
             [
              0.8888888888888888,
              "#fdca26"
             ],
             [
              1,
              "#f0f921"
             ]
            ],
            "type": "contour"
           }
          ],
          "contourcarpet": [
           {
            "colorbar": {
             "outlinewidth": 0,
             "ticks": ""
            },
            "type": "contourcarpet"
           }
          ],
          "heatmap": [
           {
            "colorbar": {
             "outlinewidth": 0,
             "ticks": ""
            },
            "colorscale": [
             [
              0,
              "#0d0887"
             ],
             [
              0.1111111111111111,
              "#46039f"
             ],
             [
              0.2222222222222222,
              "#7201a8"
             ],
             [
              0.3333333333333333,
              "#9c179e"
             ],
             [
              0.4444444444444444,
              "#bd3786"
             ],
             [
              0.5555555555555556,
              "#d8576b"
             ],
             [
              0.6666666666666666,
              "#ed7953"
             ],
             [
              0.7777777777777778,
              "#fb9f3a"
             ],
             [
              0.8888888888888888,
              "#fdca26"
             ],
             [
              1,
              "#f0f921"
             ]
            ],
            "type": "heatmap"
           }
          ],
          "heatmapgl": [
           {
            "colorbar": {
             "outlinewidth": 0,
             "ticks": ""
            },
            "colorscale": [
             [
              0,
              "#0d0887"
             ],
             [
              0.1111111111111111,
              "#46039f"
             ],
             [
              0.2222222222222222,
              "#7201a8"
             ],
             [
              0.3333333333333333,
              "#9c179e"
             ],
             [
              0.4444444444444444,
              "#bd3786"
             ],
             [
              0.5555555555555556,
              "#d8576b"
             ],
             [
              0.6666666666666666,
              "#ed7953"
             ],
             [
              0.7777777777777778,
              "#fb9f3a"
             ],
             [
              0.8888888888888888,
              "#fdca26"
             ],
             [
              1,
              "#f0f921"
             ]
            ],
            "type": "heatmapgl"
           }
          ],
          "histogram": [
           {
            "marker": {
             "pattern": {
              "fillmode": "overlay",
              "size": 10,
              "solidity": 0.2
             }
            },
            "type": "histogram"
           }
          ],
          "histogram2d": [
           {
            "colorbar": {
             "outlinewidth": 0,
             "ticks": ""
            },
            "colorscale": [
             [
              0,
              "#0d0887"
             ],
             [
              0.1111111111111111,
              "#46039f"
             ],
             [
              0.2222222222222222,
              "#7201a8"
             ],
             [
              0.3333333333333333,
              "#9c179e"
             ],
             [
              0.4444444444444444,
              "#bd3786"
             ],
             [
              0.5555555555555556,
              "#d8576b"
             ],
             [
              0.6666666666666666,
              "#ed7953"
             ],
             [
              0.7777777777777778,
              "#fb9f3a"
             ],
             [
              0.8888888888888888,
              "#fdca26"
             ],
             [
              1,
              "#f0f921"
             ]
            ],
            "type": "histogram2d"
           }
          ],
          "histogram2dcontour": [
           {
            "colorbar": {
             "outlinewidth": 0,
             "ticks": ""
            },
            "colorscale": [
             [
              0,
              "#0d0887"
             ],
             [
              0.1111111111111111,
              "#46039f"
             ],
             [
              0.2222222222222222,
              "#7201a8"
             ],
             [
              0.3333333333333333,
              "#9c179e"
             ],
             [
              0.4444444444444444,
              "#bd3786"
             ],
             [
              0.5555555555555556,
              "#d8576b"
             ],
             [
              0.6666666666666666,
              "#ed7953"
             ],
             [
              0.7777777777777778,
              "#fb9f3a"
             ],
             [
              0.8888888888888888,
              "#fdca26"
             ],
             [
              1,
              "#f0f921"
             ]
            ],
            "type": "histogram2dcontour"
           }
          ],
          "mesh3d": [
           {
            "colorbar": {
             "outlinewidth": 0,
             "ticks": ""
            },
            "type": "mesh3d"
           }
          ],
          "parcoords": [
           {
            "line": {
             "colorbar": {
              "outlinewidth": 0,
              "ticks": ""
             }
            },
            "type": "parcoords"
           }
          ],
          "pie": [
           {
            "automargin": true,
            "type": "pie"
           }
          ],
          "scatter": [
           {
            "fillpattern": {
             "fillmode": "overlay",
             "size": 10,
             "solidity": 0.2
            },
            "type": "scatter"
           }
          ],
          "scatter3d": [
           {
            "line": {
             "colorbar": {
              "outlinewidth": 0,
              "ticks": ""
             }
            },
            "marker": {
             "colorbar": {
              "outlinewidth": 0,
              "ticks": ""
             }
            },
            "type": "scatter3d"
           }
          ],
          "scattercarpet": [
           {
            "marker": {
             "colorbar": {
              "outlinewidth": 0,
              "ticks": ""
             }
            },
            "type": "scattercarpet"
           }
          ],
          "scattergeo": [
           {
            "marker": {
             "colorbar": {
              "outlinewidth": 0,
              "ticks": ""
             }
            },
            "type": "scattergeo"
           }
          ],
          "scattergl": [
           {
            "marker": {
             "colorbar": {
              "outlinewidth": 0,
              "ticks": ""
             }
            },
            "type": "scattergl"
           }
          ],
          "scattermapbox": [
           {
            "marker": {
             "colorbar": {
              "outlinewidth": 0,
              "ticks": ""
             }
            },
            "type": "scattermapbox"
           }
          ],
          "scatterpolar": [
           {
            "marker": {
             "colorbar": {
              "outlinewidth": 0,
              "ticks": ""
             }
            },
            "type": "scatterpolar"
           }
          ],
          "scatterpolargl": [
           {
            "marker": {
             "colorbar": {
              "outlinewidth": 0,
              "ticks": ""
             }
            },
            "type": "scatterpolargl"
           }
          ],
          "scatterternary": [
           {
            "marker": {
             "colorbar": {
              "outlinewidth": 0,
              "ticks": ""
             }
            },
            "type": "scatterternary"
           }
          ],
          "surface": [
           {
            "colorbar": {
             "outlinewidth": 0,
             "ticks": ""
            },
            "colorscale": [
             [
              0,
              "#0d0887"
             ],
             [
              0.1111111111111111,
              "#46039f"
             ],
             [
              0.2222222222222222,
              "#7201a8"
             ],
             [
              0.3333333333333333,
              "#9c179e"
             ],
             [
              0.4444444444444444,
              "#bd3786"
             ],
             [
              0.5555555555555556,
              "#d8576b"
             ],
             [
              0.6666666666666666,
              "#ed7953"
             ],
             [
              0.7777777777777778,
              "#fb9f3a"
             ],
             [
              0.8888888888888888,
              "#fdca26"
             ],
             [
              1,
              "#f0f921"
             ]
            ],
            "type": "surface"
           }
          ],
          "table": [
           {
            "cells": {
             "fill": {
              "color": "#EBF0F8"
             },
             "line": {
              "color": "white"
             }
            },
            "header": {
             "fill": {
              "color": "#C8D4E3"
             },
             "line": {
              "color": "white"
             }
            },
            "type": "table"
           }
          ]
         },
         "layout": {
          "annotationdefaults": {
           "arrowcolor": "#2a3f5f",
           "arrowhead": 0,
           "arrowwidth": 1
          },
          "autotypenumbers": "strict",
          "coloraxis": {
           "colorbar": {
            "outlinewidth": 0,
            "ticks": ""
           }
          },
          "colorscale": {
           "diverging": [
            [
             0,
             "#8e0152"
            ],
            [
             0.1,
             "#c51b7d"
            ],
            [
             0.2,
             "#de77ae"
            ],
            [
             0.3,
             "#f1b6da"
            ],
            [
             0.4,
             "#fde0ef"
            ],
            [
             0.5,
             "#f7f7f7"
            ],
            [
             0.6,
             "#e6f5d0"
            ],
            [
             0.7,
             "#b8e186"
            ],
            [
             0.8,
             "#7fbc41"
            ],
            [
             0.9,
             "#4d9221"
            ],
            [
             1,
             "#276419"
            ]
           ],
           "sequential": [
            [
             0,
             "#0d0887"
            ],
            [
             0.1111111111111111,
             "#46039f"
            ],
            [
             0.2222222222222222,
             "#7201a8"
            ],
            [
             0.3333333333333333,
             "#9c179e"
            ],
            [
             0.4444444444444444,
             "#bd3786"
            ],
            [
             0.5555555555555556,
             "#d8576b"
            ],
            [
             0.6666666666666666,
             "#ed7953"
            ],
            [
             0.7777777777777778,
             "#fb9f3a"
            ],
            [
             0.8888888888888888,
             "#fdca26"
            ],
            [
             1,
             "#f0f921"
            ]
           ],
           "sequentialminus": [
            [
             0,
             "#0d0887"
            ],
            [
             0.1111111111111111,
             "#46039f"
            ],
            [
             0.2222222222222222,
             "#7201a8"
            ],
            [
             0.3333333333333333,
             "#9c179e"
            ],
            [
             0.4444444444444444,
             "#bd3786"
            ],
            [
             0.5555555555555556,
             "#d8576b"
            ],
            [
             0.6666666666666666,
             "#ed7953"
            ],
            [
             0.7777777777777778,
             "#fb9f3a"
            ],
            [
             0.8888888888888888,
             "#fdca26"
            ],
            [
             1,
             "#f0f921"
            ]
           ]
          },
          "colorway": [
           "#636efa",
           "#EF553B",
           "#00cc96",
           "#ab63fa",
           "#FFA15A",
           "#19d3f3",
           "#FF6692",
           "#B6E880",
           "#FF97FF",
           "#FECB52"
          ],
          "font": {
           "color": "#2a3f5f"
          },
          "geo": {
           "bgcolor": "white",
           "lakecolor": "white",
           "landcolor": "#E5ECF6",
           "showlakes": true,
           "showland": true,
           "subunitcolor": "white"
          },
          "hoverlabel": {
           "align": "left"
          },
          "hovermode": "closest",
          "mapbox": {
           "style": "light"
          },
          "paper_bgcolor": "white",
          "plot_bgcolor": "#E5ECF6",
          "polar": {
           "angularaxis": {
            "gridcolor": "white",
            "linecolor": "white",
            "ticks": ""
           },
           "bgcolor": "#E5ECF6",
           "radialaxis": {
            "gridcolor": "white",
            "linecolor": "white",
            "ticks": ""
           }
          },
          "scene": {
           "xaxis": {
            "backgroundcolor": "#E5ECF6",
            "gridcolor": "white",
            "gridwidth": 2,
            "linecolor": "white",
            "showbackground": true,
            "ticks": "",
            "zerolinecolor": "white"
           },
           "yaxis": {
            "backgroundcolor": "#E5ECF6",
            "gridcolor": "white",
            "gridwidth": 2,
            "linecolor": "white",
            "showbackground": true,
            "ticks": "",
            "zerolinecolor": "white"
           },
           "zaxis": {
            "backgroundcolor": "#E5ECF6",
            "gridcolor": "white",
            "gridwidth": 2,
            "linecolor": "white",
            "showbackground": true,
            "ticks": "",
            "zerolinecolor": "white"
           }
          },
          "shapedefaults": {
           "line": {
            "color": "#2a3f5f"
           }
          },
          "ternary": {
           "aaxis": {
            "gridcolor": "white",
            "linecolor": "white",
            "ticks": ""
           },
           "baxis": {
            "gridcolor": "white",
            "linecolor": "white",
            "ticks": ""
           },
           "bgcolor": "#E5ECF6",
           "caxis": {
            "gridcolor": "white",
            "linecolor": "white",
            "ticks": ""
           }
          },
          "title": {
           "x": 0.05
          },
          "xaxis": {
           "automargin": true,
           "gridcolor": "white",
           "linecolor": "white",
           "ticks": "",
           "title": {
            "standoff": 15
           },
           "zerolinecolor": "white",
           "zerolinewidth": 2
          },
          "yaxis": {
           "automargin": true,
           "gridcolor": "white",
           "linecolor": "white",
           "ticks": "",
           "title": {
            "standoff": 15
           },
           "zerolinecolor": "white",
           "zerolinewidth": 2
          }
         }
        },
        "xaxis": {
         "anchor": "y",
         "domain": [
          0,
          1
         ],
         "title": {
          "text": "Publication date"
         }
        },
        "yaxis": {
         "anchor": "x",
         "domain": [
          0,
          1
         ],
         "title": {
          "text": "Training compute (FLOP)"
         },
         "type": "log"
        }
       }
      }
     },
     "metadata": {},
     "output_type": "display_data"
    }
   ],
   "source": [
    "fig = px.scatter(\n",
    "    access_df,\n",
    "    x='Publication date',\n",
    "    y='Training compute (FLOP)',\n",
    "    color='Model accessibility',\n",
    "    hover_data=['System'],\n",
    "    log_y=True,\n",
    ")\n",
    "\n",
    "save_plot(fig, results_dir, 'training_compute_by_model_accessibility')\n",
    "\n",
    "fig.show()"
   ]
  },
  {
   "cell_type": "code",
   "execution_count": 65,
   "metadata": {},
   "outputs": [
    {
     "data": {
      "application/vnd.plotly.v1+json": {
       "config": {
        "plotlyServerURL": "https://plot.ly"
       },
       "data": [
        {
         "customdata": [
          [
           "Gemini Ultra"
          ],
          [
           "Inflection-2"
          ],
          [
           "Llama 2-34B"
          ],
          [
           "Claude 2"
          ],
          [
           "xTrimoPGLM -100B"
          ],
          [
           "PaLM 2"
          ],
          [
           "BloombergGPT"
          ],
          [
           "PanGu-Σ"
          ],
          [
           "GPT-4"
          ],
          [
           "GPT-3.5 (text-davinci-003)"
          ],
          [
           "U-PaLM (540B)"
          ],
          [
           "PaLI"
          ],
          [
           "AlexaTM 20B"
          ],
          [
           "Minerva (540B)"
          ],
          [
           "Parti"
          ],
          [
           "CoCa"
          ],
          [
           "Imagen"
          ],
          [
           "Flamingo"
          ],
          [
           "PaLM (540B)"
          ],
          [
           "Chinchilla"
          ],
          [
           "LaMDA"
          ],
          [
           "ERNIE 3.0 Titan"
          ],
          [
           "GLaM"
          ],
          [
           "Gopher (280B)"
          ],
          [
           "Yuan 1.0"
          ],
          [
           "Megatron-Turing NLG 530B"
          ],
          [
           "HyperCLOVA"
          ],
          [
           "Switch"
          ],
          [
           "GShard (dense)"
          ],
          [
           "GPT-3 175B (davinci)"
          ],
          [
           "Turing-NLG"
          ],
          [
           "Meena"
          ],
          [
           "Megatron-BERT"
          ],
          [
           "Megatron-LM (8.3B)"
          ],
          [
           "Transformer"
          ],
          [
           "MoE"
          ],
          [
           "GNMT"
          ]
         ],
         "hovertemplate": "Model open/closed=Closed<br>Publication date=%{x}<br>Training compute (FLOP)=%{y}<br>System=%{customdata[0]}<extra></extra>",
         "legendgroup": "Closed",
         "marker": {
          "color": "#636efa",
          "symbol": "circle"
         },
         "mode": "markers",
         "name": "Closed",
         "orientation": "v",
         "showlegend": true,
         "type": "scatter",
         "x": [
          "2023-12-06",
          "2023-11-22",
          "2023-07-18",
          "2023-07-11",
          "2023-07-06",
          "2023-05-10",
          "2023-03-30",
          "2023-03-20",
          "2023-03-15",
          "2022-11-28",
          "2022-10-20",
          "2022-09-14",
          "2022-08-02",
          "2022-06-29",
          "2022-06-22",
          "2022-06-14",
          "2022-05-23",
          "2022-04-29",
          "2022-04-04",
          "2022-03-29",
          "2022-02-10",
          "2021-12-23",
          "2021-12-13",
          "2021-12-08",
          "2021-10-12",
          "2021-10-11",
          "2021-09-10",
          "2021-01-11",
          "2020-06-30",
          "2020-05-28",
          "2020-02-13",
          "2020-01-28",
          "2019-09-17",
          "2019-09-17",
          "2017-06-12",
          "2017-01-23",
          "2016-09-26"
         ],
         "xaxis": "x",
         "y": [
          5.0000000001e+25,
          1.001e+25,
          4.08e+23,
          3.866e+24,
          6.0001e+23,
          7.34e+24,
          2.3599999999999997e+23,
          4.669999999999999e+23,
          2.1e+25,
          2.578e+24,
          2.53e+24,
          5.1e+22,
          2.04374016e+23,
          2.7415e+24,
          3.962895376192635e+23,
          7.3e+22,
          1.4600000000000002e+22,
          2.7e+23,
          2.5272e+24,
          5.76e+23,
          3.55e+23,
          1.0421e+24,
          3.74e+23,
          6.31e+23,
          3.5380000000001e+23,
          1.17e+24,
          1.476e+23,
          8.22e+22,
          1.28e+22,
          3.14e+23,
          1.57e+22,
          1.12e+23,
          6.027e+22,
          9.1e+21,
          7424524800000000000,
          93939056640000000000,
          6.899999999999999e+21
         ],
         "yaxis": "y"
        },
        {
         "customdata": [
          [
           "Qwen-72B"
          ],
          [
           "Nemotron-3-8B"
          ],
          [
           "Yi-34B"
          ],
          [
           "Falcon 180B"
          ],
          [
           "Llama 2-70B"
          ],
          [
           "Llama 2-7B"
          ],
          [
           "Llama 2-13B"
          ],
          [
           "WizardLM-7B"
          ],
          [
           "Falcon-40B"
          ],
          [
           "LLaMA-65B"
          ],
          [
           "LLaMA-7B"
          ],
          [
           "Galactica"
          ],
          [
           "BLOOM-176B"
          ],
          [
           "Taiyi-Stable Diffusion"
          ],
          [
           "Whisper"
          ],
          [
           "GLM-130B"
          ],
          [
           "ESM2-15B"
          ],
          [
           "ESM2-3B"
          ],
          [
           "NLLB"
          ],
          [
           "UL2"
          ],
          [
           "OPT-175B"
          ],
          [
           "Stable Diffusion (LDM-KL-8-G)"
          ],
          [
           "GPT-NeoX-20B"
          ],
          [
           "XGLM"
          ],
          [
           "ERNIE 3.0"
          ],
          [
           "DeBERTa"
          ],
          [
           "ProtT5-XXL-BFD"
          ],
          [
           "ProtBERT-BFD"
          ],
          [
           "T5-11B"
          ],
          [
           "GPT-2 (1.5B)"
          ],
          [
           "BERT-Large"
          ],
          [
           "GPT"
          ]
         ],
         "hovertemplate": "Model open/closed=Open<br>Publication date=%{x}<br>Training compute (FLOP)=%{y}<br>System=%{customdata[0]}<extra></extra>",
         "legendgroup": "Open",
         "marker": {
          "color": "#EF553B",
          "symbol": "circle"
         },
         "mode": "markers",
         "name": "Open",
         "orientation": "v",
         "showlegend": true,
         "type": "scatter",
         "x": [
          "2023-11-30",
          "2023-11-15",
          "2023-11-02",
          "2023-09-06",
          "2023-07-18",
          "2023-07-18",
          "2023-07-18",
          "2023-04-24",
          "2023-03-15",
          "2023-02-24",
          "2023-02-24",
          "2022-11-16",
          "2022-11-08",
          "2022-10-31",
          "2022-09-21",
          "2022-08-04",
          "2022-07-21",
          "2022-07-21",
          "2022-07-06",
          "2022-05-10",
          "2022-05-02",
          "2022-04-13",
          "2022-02-09",
          "2021-12-20",
          "2021-07-05",
          "2021-06-10",
          "2021-05-04",
          "2021-05-04",
          "2019-10-23",
          "2019-02-14",
          "2018-10-11",
          "2018-06-01"
         ],
         "xaxis": "x",
         "y": [
          1.3e+24,
          1.8e+23,
          6.1e+23,
          3.76e+24,
          8.1e+23,
          8.4e+22,
          1.6e+23,
          4.02e+22,
          2.4e+23,
          5.5e+23,
          4.02e+22,
          3.24e+23,
          5.770000000000099e+23,
          5.1e+22,
          4.65e+22,
          3.778e+23,
          7.350000000009999e+22,
          3.0000000009999997e+22,
          1.751113728e+22,
          1.2e+23,
          4.3e+23,
          5e+22,
          9.31627008e+22,
          2.25e+22,
          2.25e+22,
          6.00000000001e+21,
          3.7e+22,
          3.9e+22,
          3.3e+22,
          4.3e+21,
          285000000000000000000,
          17578125000000000000
         ],
         "yaxis": "y"
        }
       ],
       "layout": {
        "legend": {
         "title": {
          "text": "Model open/closed"
         },
         "tracegroupgap": 0
        },
        "margin": {
         "t": 60
        },
        "template": {
         "data": {
          "bar": [
           {
            "error_x": {
             "color": "#2a3f5f"
            },
            "error_y": {
             "color": "#2a3f5f"
            },
            "marker": {
             "line": {
              "color": "#E5ECF6",
              "width": 0.5
             },
             "pattern": {
              "fillmode": "overlay",
              "size": 10,
              "solidity": 0.2
             }
            },
            "type": "bar"
           }
          ],
          "barpolar": [
           {
            "marker": {
             "line": {
              "color": "#E5ECF6",
              "width": 0.5
             },
             "pattern": {
              "fillmode": "overlay",
              "size": 10,
              "solidity": 0.2
             }
            },
            "type": "barpolar"
           }
          ],
          "carpet": [
           {
            "aaxis": {
             "endlinecolor": "#2a3f5f",
             "gridcolor": "white",
             "linecolor": "white",
             "minorgridcolor": "white",
             "startlinecolor": "#2a3f5f"
            },
            "baxis": {
             "endlinecolor": "#2a3f5f",
             "gridcolor": "white",
             "linecolor": "white",
             "minorgridcolor": "white",
             "startlinecolor": "#2a3f5f"
            },
            "type": "carpet"
           }
          ],
          "choropleth": [
           {
            "colorbar": {
             "outlinewidth": 0,
             "ticks": ""
            },
            "type": "choropleth"
           }
          ],
          "contour": [
           {
            "colorbar": {
             "outlinewidth": 0,
             "ticks": ""
            },
            "colorscale": [
             [
              0,
              "#0d0887"
             ],
             [
              0.1111111111111111,
              "#46039f"
             ],
             [
              0.2222222222222222,
              "#7201a8"
             ],
             [
              0.3333333333333333,
              "#9c179e"
             ],
             [
              0.4444444444444444,
              "#bd3786"
             ],
             [
              0.5555555555555556,
              "#d8576b"
             ],
             [
              0.6666666666666666,
              "#ed7953"
             ],
             [
              0.7777777777777778,
              "#fb9f3a"
             ],
             [
              0.8888888888888888,
              "#fdca26"
             ],
             [
              1,
              "#f0f921"
             ]
            ],
            "type": "contour"
           }
          ],
          "contourcarpet": [
           {
            "colorbar": {
             "outlinewidth": 0,
             "ticks": ""
            },
            "type": "contourcarpet"
           }
          ],
          "heatmap": [
           {
            "colorbar": {
             "outlinewidth": 0,
             "ticks": ""
            },
            "colorscale": [
             [
              0,
              "#0d0887"
             ],
             [
              0.1111111111111111,
              "#46039f"
             ],
             [
              0.2222222222222222,
              "#7201a8"
             ],
             [
              0.3333333333333333,
              "#9c179e"
             ],
             [
              0.4444444444444444,
              "#bd3786"
             ],
             [
              0.5555555555555556,
              "#d8576b"
             ],
             [
              0.6666666666666666,
              "#ed7953"
             ],
             [
              0.7777777777777778,
              "#fb9f3a"
             ],
             [
              0.8888888888888888,
              "#fdca26"
             ],
             [
              1,
              "#f0f921"
             ]
            ],
            "type": "heatmap"
           }
          ],
          "heatmapgl": [
           {
            "colorbar": {
             "outlinewidth": 0,
             "ticks": ""
            },
            "colorscale": [
             [
              0,
              "#0d0887"
             ],
             [
              0.1111111111111111,
              "#46039f"
             ],
             [
              0.2222222222222222,
              "#7201a8"
             ],
             [
              0.3333333333333333,
              "#9c179e"
             ],
             [
              0.4444444444444444,
              "#bd3786"
             ],
             [
              0.5555555555555556,
              "#d8576b"
             ],
             [
              0.6666666666666666,
              "#ed7953"
             ],
             [
              0.7777777777777778,
              "#fb9f3a"
             ],
             [
              0.8888888888888888,
              "#fdca26"
             ],
             [
              1,
              "#f0f921"
             ]
            ],
            "type": "heatmapgl"
           }
          ],
          "histogram": [
           {
            "marker": {
             "pattern": {
              "fillmode": "overlay",
              "size": 10,
              "solidity": 0.2
             }
            },
            "type": "histogram"
           }
          ],
          "histogram2d": [
           {
            "colorbar": {
             "outlinewidth": 0,
             "ticks": ""
            },
            "colorscale": [
             [
              0,
              "#0d0887"
             ],
             [
              0.1111111111111111,
              "#46039f"
             ],
             [
              0.2222222222222222,
              "#7201a8"
             ],
             [
              0.3333333333333333,
              "#9c179e"
             ],
             [
              0.4444444444444444,
              "#bd3786"
             ],
             [
              0.5555555555555556,
              "#d8576b"
             ],
             [
              0.6666666666666666,
              "#ed7953"
             ],
             [
              0.7777777777777778,
              "#fb9f3a"
             ],
             [
              0.8888888888888888,
              "#fdca26"
             ],
             [
              1,
              "#f0f921"
             ]
            ],
            "type": "histogram2d"
           }
          ],
          "histogram2dcontour": [
           {
            "colorbar": {
             "outlinewidth": 0,
             "ticks": ""
            },
            "colorscale": [
             [
              0,
              "#0d0887"
             ],
             [
              0.1111111111111111,
              "#46039f"
             ],
             [
              0.2222222222222222,
              "#7201a8"
             ],
             [
              0.3333333333333333,
              "#9c179e"
             ],
             [
              0.4444444444444444,
              "#bd3786"
             ],
             [
              0.5555555555555556,
              "#d8576b"
             ],
             [
              0.6666666666666666,
              "#ed7953"
             ],
             [
              0.7777777777777778,
              "#fb9f3a"
             ],
             [
              0.8888888888888888,
              "#fdca26"
             ],
             [
              1,
              "#f0f921"
             ]
            ],
            "type": "histogram2dcontour"
           }
          ],
          "mesh3d": [
           {
            "colorbar": {
             "outlinewidth": 0,
             "ticks": ""
            },
            "type": "mesh3d"
           }
          ],
          "parcoords": [
           {
            "line": {
             "colorbar": {
              "outlinewidth": 0,
              "ticks": ""
             }
            },
            "type": "parcoords"
           }
          ],
          "pie": [
           {
            "automargin": true,
            "type": "pie"
           }
          ],
          "scatter": [
           {
            "fillpattern": {
             "fillmode": "overlay",
             "size": 10,
             "solidity": 0.2
            },
            "type": "scatter"
           }
          ],
          "scatter3d": [
           {
            "line": {
             "colorbar": {
              "outlinewidth": 0,
              "ticks": ""
             }
            },
            "marker": {
             "colorbar": {
              "outlinewidth": 0,
              "ticks": ""
             }
            },
            "type": "scatter3d"
           }
          ],
          "scattercarpet": [
           {
            "marker": {
             "colorbar": {
              "outlinewidth": 0,
              "ticks": ""
             }
            },
            "type": "scattercarpet"
           }
          ],
          "scattergeo": [
           {
            "marker": {
             "colorbar": {
              "outlinewidth": 0,
              "ticks": ""
             }
            },
            "type": "scattergeo"
           }
          ],
          "scattergl": [
           {
            "marker": {
             "colorbar": {
              "outlinewidth": 0,
              "ticks": ""
             }
            },
            "type": "scattergl"
           }
          ],
          "scattermapbox": [
           {
            "marker": {
             "colorbar": {
              "outlinewidth": 0,
              "ticks": ""
             }
            },
            "type": "scattermapbox"
           }
          ],
          "scatterpolar": [
           {
            "marker": {
             "colorbar": {
              "outlinewidth": 0,
              "ticks": ""
             }
            },
            "type": "scatterpolar"
           }
          ],
          "scatterpolargl": [
           {
            "marker": {
             "colorbar": {
              "outlinewidth": 0,
              "ticks": ""
             }
            },
            "type": "scatterpolargl"
           }
          ],
          "scatterternary": [
           {
            "marker": {
             "colorbar": {
              "outlinewidth": 0,
              "ticks": ""
             }
            },
            "type": "scatterternary"
           }
          ],
          "surface": [
           {
            "colorbar": {
             "outlinewidth": 0,
             "ticks": ""
            },
            "colorscale": [
             [
              0,
              "#0d0887"
             ],
             [
              0.1111111111111111,
              "#46039f"
             ],
             [
              0.2222222222222222,
              "#7201a8"
             ],
             [
              0.3333333333333333,
              "#9c179e"
             ],
             [
              0.4444444444444444,
              "#bd3786"
             ],
             [
              0.5555555555555556,
              "#d8576b"
             ],
             [
              0.6666666666666666,
              "#ed7953"
             ],
             [
              0.7777777777777778,
              "#fb9f3a"
             ],
             [
              0.8888888888888888,
              "#fdca26"
             ],
             [
              1,
              "#f0f921"
             ]
            ],
            "type": "surface"
           }
          ],
          "table": [
           {
            "cells": {
             "fill": {
              "color": "#EBF0F8"
             },
             "line": {
              "color": "white"
             }
            },
            "header": {
             "fill": {
              "color": "#C8D4E3"
             },
             "line": {
              "color": "white"
             }
            },
            "type": "table"
           }
          ]
         },
         "layout": {
          "annotationdefaults": {
           "arrowcolor": "#2a3f5f",
           "arrowhead": 0,
           "arrowwidth": 1
          },
          "autotypenumbers": "strict",
          "coloraxis": {
           "colorbar": {
            "outlinewidth": 0,
            "ticks": ""
           }
          },
          "colorscale": {
           "diverging": [
            [
             0,
             "#8e0152"
            ],
            [
             0.1,
             "#c51b7d"
            ],
            [
             0.2,
             "#de77ae"
            ],
            [
             0.3,
             "#f1b6da"
            ],
            [
             0.4,
             "#fde0ef"
            ],
            [
             0.5,
             "#f7f7f7"
            ],
            [
             0.6,
             "#e6f5d0"
            ],
            [
             0.7,
             "#b8e186"
            ],
            [
             0.8,
             "#7fbc41"
            ],
            [
             0.9,
             "#4d9221"
            ],
            [
             1,
             "#276419"
            ]
           ],
           "sequential": [
            [
             0,
             "#0d0887"
            ],
            [
             0.1111111111111111,
             "#46039f"
            ],
            [
             0.2222222222222222,
             "#7201a8"
            ],
            [
             0.3333333333333333,
             "#9c179e"
            ],
            [
             0.4444444444444444,
             "#bd3786"
            ],
            [
             0.5555555555555556,
             "#d8576b"
            ],
            [
             0.6666666666666666,
             "#ed7953"
            ],
            [
             0.7777777777777778,
             "#fb9f3a"
            ],
            [
             0.8888888888888888,
             "#fdca26"
            ],
            [
             1,
             "#f0f921"
            ]
           ],
           "sequentialminus": [
            [
             0,
             "#0d0887"
            ],
            [
             0.1111111111111111,
             "#46039f"
            ],
            [
             0.2222222222222222,
             "#7201a8"
            ],
            [
             0.3333333333333333,
             "#9c179e"
            ],
            [
             0.4444444444444444,
             "#bd3786"
            ],
            [
             0.5555555555555556,
             "#d8576b"
            ],
            [
             0.6666666666666666,
             "#ed7953"
            ],
            [
             0.7777777777777778,
             "#fb9f3a"
            ],
            [
             0.8888888888888888,
             "#fdca26"
            ],
            [
             1,
             "#f0f921"
            ]
           ]
          },
          "colorway": [
           "#636efa",
           "#EF553B",
           "#00cc96",
           "#ab63fa",
           "#FFA15A",
           "#19d3f3",
           "#FF6692",
           "#B6E880",
           "#FF97FF",
           "#FECB52"
          ],
          "font": {
           "color": "#2a3f5f"
          },
          "geo": {
           "bgcolor": "white",
           "lakecolor": "white",
           "landcolor": "#E5ECF6",
           "showlakes": true,
           "showland": true,
           "subunitcolor": "white"
          },
          "hoverlabel": {
           "align": "left"
          },
          "hovermode": "closest",
          "mapbox": {
           "style": "light"
          },
          "paper_bgcolor": "white",
          "plot_bgcolor": "#E5ECF6",
          "polar": {
           "angularaxis": {
            "gridcolor": "white",
            "linecolor": "white",
            "ticks": ""
           },
           "bgcolor": "#E5ECF6",
           "radialaxis": {
            "gridcolor": "white",
            "linecolor": "white",
            "ticks": ""
           }
          },
          "scene": {
           "xaxis": {
            "backgroundcolor": "#E5ECF6",
            "gridcolor": "white",
            "gridwidth": 2,
            "linecolor": "white",
            "showbackground": true,
            "ticks": "",
            "zerolinecolor": "white"
           },
           "yaxis": {
            "backgroundcolor": "#E5ECF6",
            "gridcolor": "white",
            "gridwidth": 2,
            "linecolor": "white",
            "showbackground": true,
            "ticks": "",
            "zerolinecolor": "white"
           },
           "zaxis": {
            "backgroundcolor": "#E5ECF6",
            "gridcolor": "white",
            "gridwidth": 2,
            "linecolor": "white",
            "showbackground": true,
            "ticks": "",
            "zerolinecolor": "white"
           }
          },
          "shapedefaults": {
           "line": {
            "color": "#2a3f5f"
           }
          },
          "ternary": {
           "aaxis": {
            "gridcolor": "white",
            "linecolor": "white",
            "ticks": ""
           },
           "baxis": {
            "gridcolor": "white",
            "linecolor": "white",
            "ticks": ""
           },
           "bgcolor": "#E5ECF6",
           "caxis": {
            "gridcolor": "white",
            "linecolor": "white",
            "ticks": ""
           }
          },
          "title": {
           "x": 0.05
          },
          "xaxis": {
           "automargin": true,
           "gridcolor": "white",
           "linecolor": "white",
           "ticks": "",
           "title": {
            "standoff": 15
           },
           "zerolinecolor": "white",
           "zerolinewidth": 2
          },
          "yaxis": {
           "automargin": true,
           "gridcolor": "white",
           "linecolor": "white",
           "ticks": "",
           "title": {
            "standoff": 15
           },
           "zerolinecolor": "white",
           "zerolinewidth": 2
          }
         }
        },
        "xaxis": {
         "anchor": "y",
         "domain": [
          0,
          1
         ],
         "title": {
          "text": "Publication date"
         }
        },
        "yaxis": {
         "anchor": "x",
         "domain": [
          0,
          1
         ],
         "title": {
          "text": "Training compute (FLOP)"
         },
         "type": "log"
        }
       }
      }
     },
     "metadata": {},
     "output_type": "display_data"
    }
   ],
   "source": [
    "fig = px.scatter(\n",
    "    # access_df,\n",
    "    access_df.loc[access_df['System'].isin(selected_systems)],\n",
    "    x='Publication date',\n",
    "    y='Training compute (FLOP)',\n",
    "    color='Model open/closed',\n",
    "    hover_data=['System'],\n",
    "    log_y=True,\n",
    ")\n",
    "\n",
    "save_plot(fig, results_dir, 'training_compute_by_open_closed')\n",
    "\n",
    "fig.show()"
   ]
  },
  {
   "cell_type": "code",
   "execution_count": 116,
   "metadata": {},
   "outputs": [
    {
     "data": {
      "application/vnd.plotly.v1+json": {
       "config": {
        "plotlyServerURL": "https://plot.ly"
       },
       "data": [
        {
         "customdata": [
          [
           "Gemini Ultra"
          ],
          [
           "Inflection-2"
          ],
          [
           "Llama 2-34B"
          ],
          [
           "Claude 2"
          ],
          [
           "xTrimoPGLM -100B"
          ],
          [
           "PaLM 2"
          ],
          [
           "BloombergGPT"
          ],
          [
           "PanGu-Σ"
          ],
          [
           "GPT-4"
          ],
          [
           "GPT-3.5 (text-davinci-003)"
          ],
          [
           "U-PaLM (540B)"
          ],
          [
           "PaLI"
          ],
          [
           "AlexaTM 20B"
          ],
          [
           "Minerva (540B)"
          ],
          [
           "Parti"
          ],
          [
           "CoCa"
          ],
          [
           "Imagen"
          ],
          [
           "Flamingo"
          ],
          [
           "PaLM (540B)"
          ],
          [
           "Chinchilla"
          ],
          [
           "LaMDA"
          ],
          [
           "ERNIE 3.0 Titan"
          ],
          [
           "GLaM"
          ],
          [
           "Gopher (280B)"
          ],
          [
           "Yuan 1.0"
          ],
          [
           "Megatron-Turing NLG 530B"
          ],
          [
           "HyperCLOVA"
          ],
          [
           "Switch"
          ],
          [
           "GShard (dense)"
          ],
          [
           "GPT-3 175B (davinci)"
          ],
          [
           "Turing-NLG"
          ],
          [
           "Meena"
          ],
          [
           "Megatron-BERT"
          ],
          [
           "Megatron-LM (8.3B)"
          ],
          [
           "Transformer"
          ],
          [
           "MoE"
          ],
          [
           "GNMT"
          ]
         ],
         "hovertemplate": "Model open/closed=Closed<br>Publication date=%{x}<br>Training compute (FLOP)=%{y}<br>System=%{customdata[0]}<extra></extra>",
         "legendgroup": "Closed",
         "marker": {
          "color": "#636efa",
          "symbol": "circle"
         },
         "mode": "markers",
         "name": "Closed",
         "orientation": "v",
         "showlegend": true,
         "textposition": "top center",
         "type": "scatter",
         "x": [
          "2023-12-06",
          "2023-11-22",
          "2023-07-18",
          "2023-07-11",
          "2023-07-06",
          "2023-05-10",
          "2023-03-30",
          "2023-03-20",
          "2023-03-15",
          "2022-11-28",
          "2022-10-20",
          "2022-09-14",
          "2022-08-02",
          "2022-06-29",
          "2022-06-22",
          "2022-06-14",
          "2022-05-23",
          "2022-04-29",
          "2022-04-04",
          "2022-03-29",
          "2022-02-10",
          "2021-12-23",
          "2021-12-13",
          "2021-12-08",
          "2021-10-12",
          "2021-10-11",
          "2021-09-10",
          "2021-01-11",
          "2020-06-30",
          "2020-05-28",
          "2020-02-13",
          "2020-01-28",
          "2019-09-17",
          "2019-09-17",
          "2017-06-12",
          "2017-01-23",
          "2016-09-26"
         ],
         "xaxis": "x",
         "y": [
          5.0000000001e+25,
          1.001e+25,
          4.08e+23,
          3.866e+24,
          6.0001e+23,
          7.34e+24,
          2.3599999999999997e+23,
          4.669999999999999e+23,
          2.1e+25,
          2.578e+24,
          2.53e+24,
          5.1e+22,
          2.04374016e+23,
          2.7415e+24,
          3.962895376192635e+23,
          7.3e+22,
          1.4600000000000002e+22,
          2.7e+23,
          2.5272e+24,
          5.76e+23,
          3.55e+23,
          1.0421e+24,
          3.74e+23,
          6.31e+23,
          3.5380000000001e+23,
          1.17e+24,
          1.476e+23,
          8.22e+22,
          1.28e+22,
          3.14e+23,
          1.57e+22,
          1.12e+23,
          6.027e+22,
          9.1e+21,
          7424524800000000000,
          93939056640000000000,
          6.899999999999999e+21
         ],
         "yaxis": "y"
        },
        {
         "customdata": [
          [
           "Qwen-72B"
          ],
          [
           "Nemotron-3-8B"
          ],
          [
           "Yi-34B"
          ],
          [
           "Falcon 180B"
          ],
          [
           "Llama 2-70B"
          ],
          [
           "Llama 2-7B"
          ],
          [
           "Llama 2-13B"
          ],
          [
           "WizardLM-7B"
          ],
          [
           "Falcon-40B"
          ],
          [
           "LLaMA-65B"
          ],
          [
           "LLaMA-7B"
          ],
          [
           "Galactica"
          ],
          [
           "BLOOM-176B"
          ],
          [
           "Taiyi-Stable Diffusion"
          ],
          [
           "Whisper"
          ],
          [
           "GLM-130B"
          ],
          [
           "ESM2-15B"
          ],
          [
           "ESM2-3B"
          ],
          [
           "NLLB"
          ],
          [
           "UL2"
          ],
          [
           "OPT-175B"
          ],
          [
           "Stable Diffusion (LDM-KL-8-G)"
          ],
          [
           "GPT-NeoX-20B"
          ],
          [
           "XGLM"
          ],
          [
           "ERNIE 3.0"
          ],
          [
           "DeBERTa"
          ],
          [
           "ProtT5-XXL-BFD"
          ],
          [
           "ProtBERT-BFD"
          ],
          [
           "T5-11B"
          ],
          [
           "GPT-2 (1.5B)"
          ],
          [
           "BERT-Large"
          ],
          [
           "GPT"
          ]
         ],
         "hovertemplate": "Model open/closed=Open<br>Publication date=%{x}<br>Training compute (FLOP)=%{y}<br>System=%{customdata[0]}<extra></extra>",
         "legendgroup": "Open",
         "marker": {
          "color": "#EF553B",
          "symbol": "circle"
         },
         "mode": "markers",
         "name": "Open",
         "orientation": "v",
         "showlegend": true,
         "textposition": "top center",
         "type": "scatter",
         "x": [
          "2023-11-30",
          "2023-11-15",
          "2023-11-02",
          "2023-09-06",
          "2023-07-18",
          "2023-07-18",
          "2023-07-18",
          "2023-04-24",
          "2023-03-15",
          "2023-02-24",
          "2023-02-24",
          "2022-11-16",
          "2022-11-08",
          "2022-10-31",
          "2022-09-21",
          "2022-08-04",
          "2022-07-21",
          "2022-07-21",
          "2022-07-06",
          "2022-05-10",
          "2022-05-02",
          "2022-04-13",
          "2022-02-09",
          "2021-12-20",
          "2021-07-05",
          "2021-06-10",
          "2021-05-04",
          "2021-05-04",
          "2019-10-23",
          "2019-02-14",
          "2018-10-11",
          "2018-06-01"
         ],
         "xaxis": "x",
         "y": [
          1.3e+24,
          1.8e+23,
          6.1e+23,
          3.76e+24,
          8.1e+23,
          8.4e+22,
          1.6e+23,
          4.02e+22,
          2.4e+23,
          5.5e+23,
          4.02e+22,
          3.24e+23,
          5.770000000000099e+23,
          5.1e+22,
          4.65e+22,
          3.778e+23,
          7.350000000009999e+22,
          3.0000000009999997e+22,
          1.751113728e+22,
          1.2e+23,
          4.3e+23,
          5e+22,
          9.31627008e+22,
          2.25e+22,
          2.25e+22,
          6.00000000001e+21,
          3.7e+22,
          3.9e+22,
          3.3e+22,
          4.3e+21,
          285000000000000000000,
          17578125000000000000
         ],
         "yaxis": "y"
        },
        {
         "line": {
          "width": 0
         },
         "mode": "lines",
         "showlegend": false,
         "textposition": "top center",
         "type": "scatter",
         "x": [
          "2015-01-01T00:00:00",
          "2015-02-06T00:00:00",
          "2015-03-15T00:00:00",
          "2015-04-21T00:00:00",
          "2015-05-28T00:00:00",
          "2015-07-04T00:00:00",
          "2015-08-10T00:00:00",
          "2015-09-16T00:00:00",
          "2015-10-22T00:00:00",
          "2015-11-28T00:00:00",
          "2016-01-04T00:00:00",
          "2016-02-10T00:00:00",
          "2016-03-18T00:00:00",
          "2016-04-24T00:00:00",
          "2016-05-31T00:00:00",
          "2016-07-07T00:00:00",
          "2016-08-13T00:00:00",
          "2016-09-19T00:00:00",
          "2016-10-26T00:00:00",
          "2016-12-02T00:00:00",
          "2017-01-08T00:00:00",
          "2017-02-14T00:00:00",
          "2017-03-23T00:00:00",
          "2017-04-28T00:00:00",
          "2017-06-04T00:00:00",
          "2017-07-11T00:00:00",
          "2017-08-17T00:00:00",
          "2017-09-23T00:00:00",
          "2017-10-30T00:00:00",
          "2017-12-06T00:00:00",
          "2018-01-12T00:00:00",
          "2018-02-17T00:00:00",
          "2018-03-26T00:00:00",
          "2018-05-02T00:00:00",
          "2018-06-08T00:00:00",
          "2018-07-15T00:00:00",
          "2018-08-21T00:00:00",
          "2018-09-27T00:00:00",
          "2018-11-03T00:00:00",
          "2018-12-09T00:00:00",
          "2019-01-15T00:00:00",
          "2019-02-21T00:00:00",
          "2019-03-30T00:00:00",
          "2019-05-06T00:00:00",
          "2019-06-12T00:00:00",
          "2019-07-19T00:00:00",
          "2019-08-24T00:00:00",
          "2019-09-30T00:00:00",
          "2019-11-06T00:00:00",
          "2019-12-13T00:00:00",
          "2020-01-19T00:00:00",
          "2020-02-25T00:00:00",
          "2020-04-02T00:00:00",
          "2020-05-09T00:00:00",
          "2020-06-15T00:00:00",
          "2020-07-22T00:00:00",
          "2020-08-28T00:00:00",
          "2020-10-04T00:00:00",
          "2020-11-10T00:00:00",
          "2020-12-17T00:00:00",
          "2021-01-23T00:00:00",
          "2021-02-28T00:00:00",
          "2021-04-06T00:00:00",
          "2021-05-13T00:00:00",
          "2021-06-19T00:00:00",
          "2021-07-26T00:00:00",
          "2021-09-01T00:00:00",
          "2021-10-08T00:00:00",
          "2021-11-14T00:00:00",
          "2021-12-20T00:00:00",
          "2022-01-26T00:00:00",
          "2022-03-04T00:00:00",
          "2022-04-10T00:00:00",
          "2022-05-17T00:00:00",
          "2022-06-23T00:00:00",
          "2022-07-30T00:00:00",
          "2022-09-05T00:00:00",
          "2022-10-11T00:00:00",
          "2022-11-17T00:00:00",
          "2022-12-24T00:00:00",
          "2023-01-30T00:00:00",
          "2023-03-08T00:00:00",
          "2023-04-14T00:00:00",
          "2023-05-21T00:00:00",
          "2023-06-26T00:00:00",
          "2023-08-02T00:00:00",
          "2023-09-08T00:00:00",
          "2023-10-15T00:00:00",
          "2023-11-21T00:00:00",
          "2023-12-28T00:00:00",
          "2024-02-03T00:00:00",
          "2024-03-11T00:00:00",
          "2024-04-17T00:00:00",
          "2024-05-24T00:00:00",
          "2024-06-30T00:00:00",
          "2024-08-06T00:00:00",
          "2024-09-12T00:00:00",
          "2024-10-19T00:00:00",
          "2024-11-25T00:00:00",
          "2025-01-01T00:00:00"
         ],
         "y": [
          255499374602238140,
          303176355367492700,
          359743552152630600,
          426857178040316600,
          506481626928752400,
          600946729543141500,
          713015624853272200,
          845965209463600600,
          1003681488941848400,
          1190772582636648400,
          1412702639295145000,
          1675950518922108400,
          1988197803486866700,
          2358551535000433000,
          2797808067252062000,
          3318765584409889300,
          3936594217727560000,
          4669274318467423000,
          5538115364893435000,
          6568370245700595000,
          7789962332045937000,
          9238345896529826000,
          10955524142662066000,
          12991253469298393000,
          15404467723779750000,
          18264962225314021000,
          21655384418340327000,
          25673586318511268000,
          30435403643627700000,
          36077937908584270000,
          42763431071748970000,
          50683837849318834000,
          60066218903096250000,
          71179099132997640000,
          84339959689711450000,
          99924060522005140000,
          118374822783473780000,
          140216037760993590000,
          166066211683901240000,
          196655404337981750000,
          232844974306075480000,
          275650705229821640000,
          326269855894764800000,
          386112752040093600000,
          456839618966366000000,
          540403439985117900000,
          639099714271994200000,
          755624075185102000000,
          893138811185133900000,
          1.055349398361672e+21,
          1.2465921952646766e+21,
          1.4719344523872444e+21,
          1.7372877304687983e+21,
          2.0495356785165562e+21,
          2.4166768627630206e+21,
          2.8479829250776855e+21,
          3.354171743663612e+21,
          3.947594432339683e+21,
          4.6424339209991834e+21,
          5.454911511057939e+21,
          6.403496251287538e+21,
          7.509110375753272e+21,
          8.795322661427713e+21,
          1.0288520843387143e+22,
          1.2018054798376555e+22,
          1.4016344835565296e+22,
          1.6318954851741536e+22,
          1.8964638711884366e+22,
          2.1995379615920952e+22,
          2.545645479533912e+22,
          2.939656867200276e+22,
          3.3868102776773943e+22,
          3.892752692630371e+22,
          4.463600234154425e+22,
          5.106018610863538e+22,
          5.827322348920116e+22,
          6.635589707669702e+22,
          7.5397894748087905e+22,
          8.549916283470536e+22,
          9.67713239998775e+22,
          1.0933915595740833e+23,
          1.2334214269941753e+23,
          1.389361215016917e+23,
          1.5629505594375024e+23,
          1.756129683276131e+23,
          1.97106065631619e+23,
          2.210150928712911e+23,
          2.4760794747423216e+23,
          2.771825886001919e+23,
          3.100702765213162e+23,
          3.466391792742705e+23,
          3.8729838677478476e+23,
          4.3250237636751116e+23,
          4.827559783184842e+23,
          5.386198949947476e+23,
          6.007168334178596e+23,
          6.697383175335854e+23,
          7.464522539590933e+23,
          8.317113332012093e+23,
          9.264623574745204e+23
         ]
        },
        {
         "fill": "tonexty",
         "fillcolor": "rgba(230,100,0,0.2)",
         "line": {
          "width": 0
         },
         "mode": "lines",
         "name": "95% CI of mean",
         "textposition": "top center",
         "type": "scatter",
         "x": [
          "2015-01-01T00:00:00",
          "2015-02-06T00:00:00",
          "2015-03-15T00:00:00",
          "2015-04-21T00:00:00",
          "2015-05-28T00:00:00",
          "2015-07-04T00:00:00",
          "2015-08-10T00:00:00",
          "2015-09-16T00:00:00",
          "2015-10-22T00:00:00",
          "2015-11-28T00:00:00",
          "2016-01-04T00:00:00",
          "2016-02-10T00:00:00",
          "2016-03-18T00:00:00",
          "2016-04-24T00:00:00",
          "2016-05-31T00:00:00",
          "2016-07-07T00:00:00",
          "2016-08-13T00:00:00",
          "2016-09-19T00:00:00",
          "2016-10-26T00:00:00",
          "2016-12-02T00:00:00",
          "2017-01-08T00:00:00",
          "2017-02-14T00:00:00",
          "2017-03-23T00:00:00",
          "2017-04-28T00:00:00",
          "2017-06-04T00:00:00",
          "2017-07-11T00:00:00",
          "2017-08-17T00:00:00",
          "2017-09-23T00:00:00",
          "2017-10-30T00:00:00",
          "2017-12-06T00:00:00",
          "2018-01-12T00:00:00",
          "2018-02-17T00:00:00",
          "2018-03-26T00:00:00",
          "2018-05-02T00:00:00",
          "2018-06-08T00:00:00",
          "2018-07-15T00:00:00",
          "2018-08-21T00:00:00",
          "2018-09-27T00:00:00",
          "2018-11-03T00:00:00",
          "2018-12-09T00:00:00",
          "2019-01-15T00:00:00",
          "2019-02-21T00:00:00",
          "2019-03-30T00:00:00",
          "2019-05-06T00:00:00",
          "2019-06-12T00:00:00",
          "2019-07-19T00:00:00",
          "2019-08-24T00:00:00",
          "2019-09-30T00:00:00",
          "2019-11-06T00:00:00",
          "2019-12-13T00:00:00",
          "2020-01-19T00:00:00",
          "2020-02-25T00:00:00",
          "2020-04-02T00:00:00",
          "2020-05-09T00:00:00",
          "2020-06-15T00:00:00",
          "2020-07-22T00:00:00",
          "2020-08-28T00:00:00",
          "2020-10-04T00:00:00",
          "2020-11-10T00:00:00",
          "2020-12-17T00:00:00",
          "2021-01-23T00:00:00",
          "2021-02-28T00:00:00",
          "2021-04-06T00:00:00",
          "2021-05-13T00:00:00",
          "2021-06-19T00:00:00",
          "2021-07-26T00:00:00",
          "2021-09-01T00:00:00",
          "2021-10-08T00:00:00",
          "2021-11-14T00:00:00",
          "2021-12-20T00:00:00",
          "2022-01-26T00:00:00",
          "2022-03-04T00:00:00",
          "2022-04-10T00:00:00",
          "2022-05-17T00:00:00",
          "2022-06-23T00:00:00",
          "2022-07-30T00:00:00",
          "2022-09-05T00:00:00",
          "2022-10-11T00:00:00",
          "2022-11-17T00:00:00",
          "2022-12-24T00:00:00",
          "2023-01-30T00:00:00",
          "2023-03-08T00:00:00",
          "2023-04-14T00:00:00",
          "2023-05-21T00:00:00",
          "2023-06-26T00:00:00",
          "2023-08-02T00:00:00",
          "2023-09-08T00:00:00",
          "2023-10-15T00:00:00",
          "2023-11-21T00:00:00",
          "2023-12-28T00:00:00",
          "2024-02-03T00:00:00",
          "2024-03-11T00:00:00",
          "2024-04-17T00:00:00",
          "2024-05-24T00:00:00",
          "2024-06-30T00:00:00",
          "2024-08-06T00:00:00",
          "2024-09-12T00:00:00",
          "2024-10-19T00:00:00",
          "2024-11-25T00:00:00",
          "2025-01-01T00:00:00"
         ],
         "y": [
          37542229451795290000,
          41677146209739325000,
          46268314920036500000,
          51366208796395790000,
          57026905579778560000,
          63312713335016240000,
          70292866720590590000,
          78044301774633700000,
          86652518197275510000,
          96212539161090030000,
          106829979858800360000,
          118622237320254950000,
          131719815514739690000,
          146267801424375430000,
          162427509650118100000,
          180378315226400030000,
          200319696700921380000,
          222473514225004380000,
          247086550433908950000,
          274433345331639550000,
          304819360281734150000,
          338584510618753600000,
          376107111405910160000,
          417808286567366800000,
          464156898130067850000,
          515675059738939360000,
          572944307120071200000,
          636612507929942200000,
          707401604669074000000,
          786116297296709200000,
          873653787186713500000,
          971014721461502200000,
          1.0793154970126879e+21,
          1.1998021071819506e+21,
          1.333865741834111e+21,
          1.4830603842102923e+21,
          1.6491226865536118e+21,
          1.833994452278003e+21,
          2.0398481070193577e+21,
          2.2691156061951348e+21,
          2.524521305210296e+21,
          2.809119413239426e+21,
          3.1263367665373875e+21,
          3.4800217974405296e+21,
          3.87450074685146e+21,
          4.3146423791334373e+21,
          4.805932719023064e+21,
          5.354561653480013e+21,
          5.96752364364128e+21,
          6.652735294255982e+21,
          7.419173156440837e+21,
          8.277035927671384e+21,
          9.237936201825095e+21,
          1.0315128162928587e+22,
          1.1523779170469774e+22,
          1.2881295124473676e+22,
          1.4407711907131412e+22,
          1.6126168163157075e+22,
          1.8063478288746929e+22,
          2.0250828817968566e+22,
          2.272462645313245e+22,
          2.5527531737482007e+22,
          2.8709718656187676e+22,
          3.233040697000657e+22,
          3.645972037071138e+22,
          4.1180929031638176e+22,
          4.6593139306786105e+22,
          5.281449608587798e+22,
          5.998596535629911e+22,
          6.827576785242877e+22,
          7.788454272466824e+22,
          8.905133730228738e+22,
          1.0206054924202976e+23,
          1.1724999245742302e+23,
          1.3502031657084304e+23,
          1.55846076429929e+23,
          1.80288817762311e+23,
          2.0901261372839044e+23,
          2.4280255570439553e+23,
          2.825867751293053e+23,
          3.294626592073959e+23,
          3.8472802933783866e+23,
          4.499181837140346e+23,
          5.268498694736413e+23,
          6.176734492593904e+23,
          7.24934766551459e+23,
          8.516484992581725e+23,
          1.0013851291199346e+24,
          1.1783740547294038e+24,
          1.3876258498582776e+24,
          1.6350772300859086e+24,
          1.9277629559856286e+24,
          2.2740196899100332e+24,
          2.683727759018033e+24,
          3.168597887078853e+24,
          3.742511274502151e+24,
          4.4219229685960457e+24,
          5.226340320305946e+24,
          6.178890523946487e+24,
          7.306993847537448e+24
         ]
        },
        {
         "line": {
          "color": "rgb(230,100,0)"
         },
         "mode": "lines",
         "name": "Regression mean (growth rate: 3.6x per year)",
         "textposition": "top center",
         "type": "scatter",
         "x": [
          "2015-01-01T00:00:00",
          "2015-02-06T00:00:00",
          "2015-03-15T00:00:00",
          "2015-04-21T00:00:00",
          "2015-05-28T00:00:00",
          "2015-07-04T00:00:00",
          "2015-08-10T00:00:00",
          "2015-09-16T00:00:00",
          "2015-10-22T00:00:00",
          "2015-11-28T00:00:00",
          "2016-01-04T00:00:00",
          "2016-02-10T00:00:00",
          "2016-03-18T00:00:00",
          "2016-04-24T00:00:00",
          "2016-05-31T00:00:00",
          "2016-07-07T00:00:00",
          "2016-08-13T00:00:00",
          "2016-09-19T00:00:00",
          "2016-10-26T00:00:00",
          "2016-12-02T00:00:00",
          "2017-01-08T00:00:00",
          "2017-02-14T00:00:00",
          "2017-03-23T00:00:00",
          "2017-04-28T00:00:00",
          "2017-06-04T00:00:00",
          "2017-07-11T00:00:00",
          "2017-08-17T00:00:00",
          "2017-09-23T00:00:00",
          "2017-10-30T00:00:00",
          "2017-12-06T00:00:00",
          "2018-01-12T00:00:00",
          "2018-02-17T00:00:00",
          "2018-03-26T00:00:00",
          "2018-05-02T00:00:00",
          "2018-06-08T00:00:00",
          "2018-07-15T00:00:00",
          "2018-08-21T00:00:00",
          "2018-09-27T00:00:00",
          "2018-11-03T00:00:00",
          "2018-12-09T00:00:00",
          "2019-01-15T00:00:00",
          "2019-02-21T00:00:00",
          "2019-03-30T00:00:00",
          "2019-05-06T00:00:00",
          "2019-06-12T00:00:00",
          "2019-07-19T00:00:00",
          "2019-08-24T00:00:00",
          "2019-09-30T00:00:00",
          "2019-11-06T00:00:00",
          "2019-12-13T00:00:00",
          "2020-01-19T00:00:00",
          "2020-02-25T00:00:00",
          "2020-04-02T00:00:00",
          "2020-05-09T00:00:00",
          "2020-06-15T00:00:00",
          "2020-07-22T00:00:00",
          "2020-08-28T00:00:00",
          "2020-10-04T00:00:00",
          "2020-11-10T00:00:00",
          "2020-12-17T00:00:00",
          "2021-01-23T00:00:00",
          "2021-02-28T00:00:00",
          "2021-04-06T00:00:00",
          "2021-05-13T00:00:00",
          "2021-06-19T00:00:00",
          "2021-07-26T00:00:00",
          "2021-09-01T00:00:00",
          "2021-10-08T00:00:00",
          "2021-11-14T00:00:00",
          "2021-12-20T00:00:00",
          "2022-01-26T00:00:00",
          "2022-03-04T00:00:00",
          "2022-04-10T00:00:00",
          "2022-05-17T00:00:00",
          "2022-06-23T00:00:00",
          "2022-07-30T00:00:00",
          "2022-09-05T00:00:00",
          "2022-10-11T00:00:00",
          "2022-11-17T00:00:00",
          "2022-12-24T00:00:00",
          "2023-01-30T00:00:00",
          "2023-03-08T00:00:00",
          "2023-04-14T00:00:00",
          "2023-05-21T00:00:00",
          "2023-06-26T00:00:00",
          "2023-08-02T00:00:00",
          "2023-09-08T00:00:00",
          "2023-10-15T00:00:00",
          "2023-11-21T00:00:00",
          "2023-12-28T00:00:00",
          "2024-02-03T00:00:00",
          "2024-03-11T00:00:00",
          "2024-04-17T00:00:00",
          "2024-05-24T00:00:00",
          "2024-06-30T00:00:00",
          "2024-08-06T00:00:00",
          "2024-09-12T00:00:00",
          "2024-10-19T00:00:00",
          "2024-11-25T00:00:00",
          "2025-01-01T00:00:00"
         ],
         "y": [
          3097098020100013600,
          3554648405959003000,
          4079795088169317400,
          4682524418885521000,
          5374298085960490000,
          6168271071960153000,
          7079541813388045000,
          8125439317244234000,
          9325852694783576000,
          10703609379031022000,
          12284909218320437000,
          14099822700749920000,
          16182862783886563000,
          18573641203883508000,
          21317621744527757000,
          24466984790676898000,
          28081619606600073000,
          32230263208823005000,
          36991807490531570000,
          42456799454320830000,
          48729163082009200000,
          55928175585328380000,
          64190735618423480000,
          73673966585015100000,
          84558204545829580000,
          97050427545005080000,
          111388191568876750000,
          127844147984111160000,
          146731228360745420000,
          168408595275885020000,
          193288472260845080000,
          221843982771352800000,
          254618147250089460000,
          292234209371667370000,
          335407487837967000000,
          384958979099874300000,
          441830969680702700000,
          507104954988674150000,
          582022205369590600000,
          668007370487728000000,
          766695570905970100000,
          879963492046249900000,
          1.0099650718201389e+21,
          1.1591724605809422e+21,
          1.3304230323008247e+21,
          1.5269733409556576e+21,
          1.7525610481629643e+21,
          2.0114759997157424e+21,
          2.3086418026192267e+21,
          2.6497094539312255e+21,
          3.04116480187055e+21,
          3.49045188272042e+21,
          4.006114478928962e+21,
          4.5979585903303957e+21,
          5.277238908071601e+21,
          6.056872837313614e+21,
          6.951686138610255e+21,
          7.978694859176676e+21,
          9.157428915307561e+21,
          1.051030347932925e+22,
          1.206304523346171e+22,
          1.384518159640014e+22,
          1.589060222584347e+22,
          1.8238203474742285e+22,
          2.0932628056426534e+22,
          2.40251139842537e+22,
          2.757446892957952e+22,
          3.1648188526658314e+22,
          3.6323739890590587e+22,
          4.169003475595122e+22,
          4.784912024994026e+22,
          5.4918119452172e+22,
          6.303145864354132e+22,
          7.234342359797177e+22,
          8.303109352859392e+22,
          9.529770848093032e+22,
          1.0937653420873828e+23,
          1.2553529802774968e+23,
          1.4408128000143783e+23,
          1.6536715627390626e+23,
          1.8979770566900942e+23,
          2.178375070896961e+23,
          2.5001977409459748e+23,
          2.8695649465265687e+23,
          3.293500688956917e+23,
          3.7800666617737616e+23,
          4.338515554394621e+23,
          4.979467004134137e+23,
          5.715109542512727e+23,
          6.559432376156359e+23,
          7.528491409884366e+23,
          8.640714570783045e+23,
          9.917252239368526e+23,
          1.138237945178961e+24,
          1.3063957521436568e+24,
          1.4993963858331692e+24,
          1.7209100061451883e+24,
          1.975148984772962e+24,
          2.2669480089706184e+24,
          2.601856019467903e+24
         ]
        },
        {
         "line": {
          "width": 0
         },
         "mode": "lines",
         "showlegend": false,
         "textposition": "top center",
         "type": "scatter",
         "x": [
          "2015-01-01T00:00:00",
          "2015-02-06T00:00:00",
          "2015-03-15T00:00:00",
          "2015-04-21T00:00:00",
          "2015-05-28T00:00:00",
          "2015-07-04T00:00:00",
          "2015-08-10T00:00:00",
          "2015-09-16T00:00:00",
          "2015-10-22T00:00:00",
          "2015-11-28T00:00:00",
          "2016-01-04T00:00:00",
          "2016-02-10T00:00:00",
          "2016-03-18T00:00:00",
          "2016-04-24T00:00:00",
          "2016-05-31T00:00:00",
          "2016-07-07T00:00:00",
          "2016-08-13T00:00:00",
          "2016-09-19T00:00:00",
          "2016-10-26T00:00:00",
          "2016-12-02T00:00:00",
          "2017-01-08T00:00:00",
          "2017-02-14T00:00:00",
          "2017-03-23T00:00:00",
          "2017-04-28T00:00:00",
          "2017-06-04T00:00:00",
          "2017-07-11T00:00:00",
          "2017-08-17T00:00:00",
          "2017-09-23T00:00:00",
          "2017-10-30T00:00:00",
          "2017-12-06T00:00:00",
          "2018-01-12T00:00:00",
          "2018-02-17T00:00:00",
          "2018-03-26T00:00:00",
          "2018-05-02T00:00:00",
          "2018-06-08T00:00:00",
          "2018-07-15T00:00:00",
          "2018-08-21T00:00:00",
          "2018-09-27T00:00:00",
          "2018-11-03T00:00:00",
          "2018-12-09T00:00:00",
          "2019-01-15T00:00:00",
          "2019-02-21T00:00:00",
          "2019-03-30T00:00:00",
          "2019-05-06T00:00:00",
          "2019-06-12T00:00:00",
          "2019-07-19T00:00:00",
          "2019-08-24T00:00:00",
          "2019-09-30T00:00:00",
          "2019-11-06T00:00:00",
          "2019-12-13T00:00:00",
          "2020-01-19T00:00:00",
          "2020-02-25T00:00:00",
          "2020-04-02T00:00:00",
          "2020-05-09T00:00:00",
          "2020-06-15T00:00:00",
          "2020-07-22T00:00:00",
          "2020-08-28T00:00:00",
          "2020-10-04T00:00:00",
          "2020-11-10T00:00:00",
          "2020-12-17T00:00:00",
          "2021-01-23T00:00:00",
          "2021-02-28T00:00:00",
          "2021-04-06T00:00:00",
          "2021-05-13T00:00:00",
          "2021-06-19T00:00:00",
          "2021-07-26T00:00:00",
          "2021-09-01T00:00:00",
          "2021-10-08T00:00:00",
          "2021-11-14T00:00:00",
          "2021-12-20T00:00:00",
          "2022-01-26T00:00:00",
          "2022-03-04T00:00:00",
          "2022-04-10T00:00:00",
          "2022-05-17T00:00:00",
          "2022-06-23T00:00:00",
          "2022-07-30T00:00:00",
          "2022-09-05T00:00:00",
          "2022-10-11T00:00:00",
          "2022-11-17T00:00:00",
          "2022-12-24T00:00:00",
          "2023-01-30T00:00:00",
          "2023-03-08T00:00:00",
          "2023-04-14T00:00:00",
          "2023-05-21T00:00:00",
          "2023-06-26T00:00:00",
          "2023-08-02T00:00:00",
          "2023-09-08T00:00:00",
          "2023-10-15T00:00:00",
          "2023-11-21T00:00:00",
          "2023-12-28T00:00:00",
          "2024-02-03T00:00:00",
          "2024-03-11T00:00:00",
          "2024-04-17T00:00:00",
          "2024-05-24T00:00:00",
          "2024-06-30T00:00:00",
          "2024-08-06T00:00:00",
          "2024-09-12T00:00:00",
          "2024-10-19T00:00:00",
          "2024-11-25T00:00:00",
          "2025-01-01T00:00:00"
         ],
         "y": [
          1923447613710814200,
          2285324181375745000,
          2715194826358977000,
          3225813735767999500,
          3832322279865283000,
          4552694525188903400,
          5408265566835394000,
          6424357992074016000,
          7631024596486856000,
          9063928792438854000,
          10765388068391492000,
          12785610483141018000,
          15184159635999926000,
          18031689988711313000,
          21412001997701130000,
          25424475446062215000,
          30186949874940980000,
          35839133374731604000,
          42546635520205865000,
          50505737284344310000,
          59949030761301510000,
          71152084953636364000,
          84441321284309990000,
          100203314513093560000,
          118895772089628160000,
          141060488470199440000,
          167338621478304400000,
          198488696409470960000,
          235407811393259830000,
          279156595737834100000,
          330988562905094900000,
          392384602751493400000,
          465093475119089900000,
          551179300110573100000,
          653077190671255900000,
          773658341400283600000,
          916306074410818100000,
          1.0850045484577291e+21,
          1.2844420604676082e+21,
          1.520131106675005e+21,
          1.7985476196777664e+21,
          2.1272920512750955e+21,
          2.5152752192913843e+21,
          2.9729320661713106e+21,
          3.512466669536515e+21,
          4.1481319763590334e+21,
          4.896547772882446e+21,
          5.777060315968337e+21,
          6.812146796759091e+21,
          8.027867340701452e+21,
          9.454366527166192e+21,
          1.112642540630492e+22,
          1.3084063692299604e+22,
          1.5373190254766387e+22,
          1.8046298311491311e+22,
          2.116320003536528e+22,
          2.4791793930307245e+22,
          2.9008857739629456e+22,
          3.390086037701191e+22,
          3.956478903183253e+22,
          4.610899276246956e+22,
          5.365405189500781e+22,
          6.233369328205456e+22,
          7.22957841891642e+22,
          8.370345075562335e+22,
          9.67363784964044e+22,
          1.1159235984126125e+23,
          1.2848915536458314e+23,
          1.4766673043466416e+23,
          1.693899184148938e+23,
          1.9395154778278075e+23,
          2.2167605704068786e+23,
          2.5292361148114487e+23,
          2.8809473211488832e+23,
          3.276354501851036e+23,
          3.720430099392059e+23,
          4.21872155969938e+23,
          4.777420573982415e+23,
          5.4034393769562426e+23,
          6.104494948775718e+23,
          6.889202117103961e+23,
          7.767176695504373e+23,
          8.749149929469823e+23,
          9.847095657748301e+23,
          1.107437174047192e+24,
          1.244587746252258e+24,
          1.3978228795084586e+24,
          1.5689953594577e+24,
          1.7601709039201874e+24,
          1.9736523852642115e+24,
          2.2120068144442755e+24,
          2.478095401106989e+24,
          2.775107039341431e+24,
          3.1065956080030716e+24,
          3.4765215184322856e+24,
          3.8892979913691496e+24,
          4.3498425994333783e+24,
          4.863634672357793e+24,
          5.436779229867753e+24,
          6.076078182523498e+24
         ]
        },
        {
         "fill": "tonexty",
         "fillcolor": "rgba(0,100,200,0.2)",
         "line": {
          "width": 0
         },
         "mode": "lines",
         "name": "95% CI of mean",
         "textposition": "top center",
         "type": "scatter",
         "x": [
          "2015-01-01T00:00:00",
          "2015-02-06T00:00:00",
          "2015-03-15T00:00:00",
          "2015-04-21T00:00:00",
          "2015-05-28T00:00:00",
          "2015-07-04T00:00:00",
          "2015-08-10T00:00:00",
          "2015-09-16T00:00:00",
          "2015-10-22T00:00:00",
          "2015-11-28T00:00:00",
          "2016-01-04T00:00:00",
          "2016-02-10T00:00:00",
          "2016-03-18T00:00:00",
          "2016-04-24T00:00:00",
          "2016-05-31T00:00:00",
          "2016-07-07T00:00:00",
          "2016-08-13T00:00:00",
          "2016-09-19T00:00:00",
          "2016-10-26T00:00:00",
          "2016-12-02T00:00:00",
          "2017-01-08T00:00:00",
          "2017-02-14T00:00:00",
          "2017-03-23T00:00:00",
          "2017-04-28T00:00:00",
          "2017-06-04T00:00:00",
          "2017-07-11T00:00:00",
          "2017-08-17T00:00:00",
          "2017-09-23T00:00:00",
          "2017-10-30T00:00:00",
          "2017-12-06T00:00:00",
          "2018-01-12T00:00:00",
          "2018-02-17T00:00:00",
          "2018-03-26T00:00:00",
          "2018-05-02T00:00:00",
          "2018-06-08T00:00:00",
          "2018-07-15T00:00:00",
          "2018-08-21T00:00:00",
          "2018-09-27T00:00:00",
          "2018-11-03T00:00:00",
          "2018-12-09T00:00:00",
          "2019-01-15T00:00:00",
          "2019-02-21T00:00:00",
          "2019-03-30T00:00:00",
          "2019-05-06T00:00:00",
          "2019-06-12T00:00:00",
          "2019-07-19T00:00:00",
          "2019-08-24T00:00:00",
          "2019-09-30T00:00:00",
          "2019-11-06T00:00:00",
          "2019-12-13T00:00:00",
          "2020-01-19T00:00:00",
          "2020-02-25T00:00:00",
          "2020-04-02T00:00:00",
          "2020-05-09T00:00:00",
          "2020-06-15T00:00:00",
          "2020-07-22T00:00:00",
          "2020-08-28T00:00:00",
          "2020-10-04T00:00:00",
          "2020-11-10T00:00:00",
          "2020-12-17T00:00:00",
          "2021-01-23T00:00:00",
          "2021-02-28T00:00:00",
          "2021-04-06T00:00:00",
          "2021-05-13T00:00:00",
          "2021-06-19T00:00:00",
          "2021-07-26T00:00:00",
          "2021-09-01T00:00:00",
          "2021-10-08T00:00:00",
          "2021-11-14T00:00:00",
          "2021-12-20T00:00:00",
          "2022-01-26T00:00:00",
          "2022-03-04T00:00:00",
          "2022-04-10T00:00:00",
          "2022-05-17T00:00:00",
          "2022-06-23T00:00:00",
          "2022-07-30T00:00:00",
          "2022-09-05T00:00:00",
          "2022-10-11T00:00:00",
          "2022-11-17T00:00:00",
          "2022-12-24T00:00:00",
          "2023-01-30T00:00:00",
          "2023-03-08T00:00:00",
          "2023-04-14T00:00:00",
          "2023-05-21T00:00:00",
          "2023-06-26T00:00:00",
          "2023-08-02T00:00:00",
          "2023-09-08T00:00:00",
          "2023-10-15T00:00:00",
          "2023-11-21T00:00:00",
          "2023-12-28T00:00:00",
          "2024-02-03T00:00:00",
          "2024-03-11T00:00:00",
          "2024-04-17T00:00:00",
          "2024-05-24T00:00:00",
          "2024-06-30T00:00:00",
          "2024-08-06T00:00:00",
          "2024-09-12T00:00:00",
          "2024-10-19T00:00:00",
          "2024-11-25T00:00:00",
          "2025-01-01T00:00:00"
         ],
         "y": [
          193186314754545200000,
          215227916764658630000,
          239792235376494050000,
          267169282117944600000,
          297682622452695560000,
          331693294904877400000,
          369604194538560100000,
          411864977028365750000,
          458977546598849900000,
          511502199083243100000,
          570064500377775050000,
          635362990810180900000,
          708177817562926000000,
          789380410512412500000,
          879944331884510400000,
          980957447277284800000,
          1.0936355851730729e+21,
          1.2193378744526071e+21,
          1.3595839750500754e+21,
          1.5160734463116223e+21,
          1.690707531425183e+21,
          1.8856136752524107e+21,
          2.1031731378504424e+21,
          2.3460521179931185e+21,
          2.61723686134227e+21,
          2.920073298052311e+21,
          3.2583118363527977e+21,
          3.636158034202271e+21,
          4.058329983116336e+21,
          4.530123369902141e+21,
          5.057485337254216e+21,
          5.647098447693123e+21,
          6.306476273105345e+21,
          7.044072391214534e+21,
          7.869404879700289e+21,
          8.793198769086798e+21,
          9.82754936062425e+21,
          1.0986109851579225e+22,
          1.2284307358468152e+22,
          1.3739592214014597e+22,
          1.5371726367774424e+22,
          1.720311788200721e+22,
          1.925920993161483e+22,
          2.1568934448607594e+22,
          2.4165242669256164e+22,
          2.708572743337087e+22,
          3.0373355254503052e+22,
          3.4077330052814656e+22,
          3.825411516452056e+22,
          4.296864598236292e+22,
          4.829577252924641e+22,
          5.432197962866288e+22,
          6.114744232492039e+22,
          6.8888486036683815e+22,
          7.768053479098999e+22,
          8.768164693963039e+22,
          9.907675610873522e+22,
          1.1208275582963782e+23,
          1.2695458936676897e+23,
          1.4399253176661108e+23,
          1.6355087934238576e+23,
          1.8604829330685924e+23,
          2.119800803170261e+23,
          2.4193273541806872e+23,
          2.766011253815714e+23,
          3.1680875676321624e+23,
          3.635316577599445e+23,
          4.179265106880176e+23,
          4.813638065499658e+23,
          5.5546695757949895e+23,
          6.421584998697603e+23,
          7.437147480854548e+23,
          8.628305308025687e+23,
          1.0026959433568828e+24,
          1.1670874133922219e+24,
          1.3604757939253818e+24,
          1.5881546941099893e+24,
          1.8563928460378346e+24,
          2.172615006510924e+24,
          2.5456167280392697e+24,
          2.985819329050664e+24,
          3.505572579191264e+24,
          4.119514026830637e+24,
          4.844995573989955e+24,
          5.70258989851119e+24,
          6.71669169351499e+24,
          7.916231510276705e+24,
          9.335523336612142e+24,
          1.1015271018214638e+25,
          1.3003763353987398e+25,
          1.5358293308996795e+25,
          1.8146843458176475e+25,
          2.145008769925097e+25,
          2.5363768691896247e+25,
          3.0001521672720713e+25,
          3.5498228597717296e+25,
          4.201400237216934e+25,
          4.973891971684417e+25,
          5.889864354888536e+25,
          6.9761102296267996e+25
         ]
        },
        {
         "line": {
          "color": "rgb(0,100,200)"
         },
         "mode": "lines",
         "name": "Regression mean (growth rate: 3.6x per year)",
         "textposition": "top center",
         "type": "scatter",
         "x": [
          "2015-01-01T00:00:00",
          "2015-02-06T00:00:00",
          "2015-03-15T00:00:00",
          "2015-04-21T00:00:00",
          "2015-05-28T00:00:00",
          "2015-07-04T00:00:00",
          "2015-08-10T00:00:00",
          "2015-09-16T00:00:00",
          "2015-10-22T00:00:00",
          "2015-11-28T00:00:00",
          "2016-01-04T00:00:00",
          "2016-02-10T00:00:00",
          "2016-03-18T00:00:00",
          "2016-04-24T00:00:00",
          "2016-05-31T00:00:00",
          "2016-07-07T00:00:00",
          "2016-08-13T00:00:00",
          "2016-09-19T00:00:00",
          "2016-10-26T00:00:00",
          "2016-12-02T00:00:00",
          "2017-01-08T00:00:00",
          "2017-02-14T00:00:00",
          "2017-03-23T00:00:00",
          "2017-04-28T00:00:00",
          "2017-06-04T00:00:00",
          "2017-07-11T00:00:00",
          "2017-08-17T00:00:00",
          "2017-09-23T00:00:00",
          "2017-10-30T00:00:00",
          "2017-12-06T00:00:00",
          "2018-01-12T00:00:00",
          "2018-02-17T00:00:00",
          "2018-03-26T00:00:00",
          "2018-05-02T00:00:00",
          "2018-06-08T00:00:00",
          "2018-07-15T00:00:00",
          "2018-08-21T00:00:00",
          "2018-09-27T00:00:00",
          "2018-11-03T00:00:00",
          "2018-12-09T00:00:00",
          "2019-01-15T00:00:00",
          "2019-02-21T00:00:00",
          "2019-03-30T00:00:00",
          "2019-05-06T00:00:00",
          "2019-06-12T00:00:00",
          "2019-07-19T00:00:00",
          "2019-08-24T00:00:00",
          "2019-09-30T00:00:00",
          "2019-11-06T00:00:00",
          "2019-12-13T00:00:00",
          "2020-01-19T00:00:00",
          "2020-02-25T00:00:00",
          "2020-04-02T00:00:00",
          "2020-05-09T00:00:00",
          "2020-06-15T00:00:00",
          "2020-07-22T00:00:00",
          "2020-08-28T00:00:00",
          "2020-10-04T00:00:00",
          "2020-11-10T00:00:00",
          "2020-12-17T00:00:00",
          "2021-01-23T00:00:00",
          "2021-02-28T00:00:00",
          "2021-04-06T00:00:00",
          "2021-05-13T00:00:00",
          "2021-06-19T00:00:00",
          "2021-07-26T00:00:00",
          "2021-09-01T00:00:00",
          "2021-10-08T00:00:00",
          "2021-11-14T00:00:00",
          "2021-12-20T00:00:00",
          "2022-01-26T00:00:00",
          "2022-03-04T00:00:00",
          "2022-04-10T00:00:00",
          "2022-05-17T00:00:00",
          "2022-06-23T00:00:00",
          "2022-07-30T00:00:00",
          "2022-09-05T00:00:00",
          "2022-10-11T00:00:00",
          "2022-11-17T00:00:00",
          "2022-12-24T00:00:00",
          "2023-01-30T00:00:00",
          "2023-03-08T00:00:00",
          "2023-04-14T00:00:00",
          "2023-05-21T00:00:00",
          "2023-06-26T00:00:00",
          "2023-08-02T00:00:00",
          "2023-09-08T00:00:00",
          "2023-10-15T00:00:00",
          "2023-11-21T00:00:00",
          "2023-12-28T00:00:00",
          "2024-02-03T00:00:00",
          "2024-03-11T00:00:00",
          "2024-04-17T00:00:00",
          "2024-05-24T00:00:00",
          "2024-06-30T00:00:00",
          "2024-08-06T00:00:00",
          "2024-09-12T00:00:00",
          "2024-10-19T00:00:00",
          "2024-11-25T00:00:00",
          "2025-01-01T00:00:00"
         ],
         "y": [
          19276507881777140000,
          22178042354757110000,
          25516320990599540000,
          29357083302524137000,
          33775964032936060000,
          38859982601067950000,
          44709256744893720000,
          51438974103568230000,
          59181660565846030000,
          68089790054503740000,
          78338787140090800000,
          90130481613616600000,
          103697083047448840000,
          119305753614490420000,
          137263869216108450000,
          157925072524704580000,
          181696237140649930000,
          209045480007027950000,
          240511379867082850000,
          276713583300829800000,
          318365007200496840000,
          366285877985076050000,
          421419884022763700000,
          484852759343879300000,
          557833664608657540000,
          641799786375817700000,
          738404639098184300000,
          849550627183355800000,
          977426508356030700000,
          1.1245504960713354e+21,
          1.2938198497825582e+21,
          1.4885679296211649e+21,
          1.7126298390529845e+21,
          1.970417948182019e+21,
          2.2670087849607766e+21,
          2.6082430054147005e+21,
          3.0008404115700905e+21,
          3.4525322820822e+21,
          3.972213621512347e+21,
          4.570118326428025e+21,
          5.258020717827066e+21,
          6.04946740858585e+21,
          6.960044071995615e+21,
          8.007682364792733e+21,
          9.213013048781808e+21,
          1.0599772264973942e+22,
          1.2195268960806247e+22,
          1.4030922675372092e+22,
          1.6142882273028014e+22,
          1.8572737809918437e+22,
          2.1368339551872994e+22,
          2.458474027239525e+22,
          2.8285279386996956e+22,
          3.25428302734221e+22,
          3.7441235340655954e+22,
          4.3076957107178214e+22,
          4.956097780241097e+22,
          5.7020984899662925e+22,
          6.56038856192506e+22,
          7.547869991928459e+22,
          8.68398889445029e+22,
          9.991118447933574e+22,
          1.1494999481681935e+23,
          1.3225247380702887e+23,
          1.521593529078195e+23,
          1.7506265108589498e+23,
          2.0141339470461728e+23,
          2.317304994228658e+23,
          2.6661098901361442e+23,
          3.0674175233665305e+23,
          3.529130699926097e+23,
          4.060341770326632e+23,
          4.671511681958838e+23,
          5.374675982736879e+23,
          6.183681832792894e+23,
          7.114460691587451e+23,
          8.185342050384691e+23,
          9.417414388278197e+23,
          1.0834940459987388e+24,
          1.2465835093500433e+24,
          1.4342214906696162e+24,
          1.6501030768256128e+24,
          1.8984795457759143e+24,
          2.184242085448548e+24,
          2.5130181141323466e+24,
          2.891282099191133e+24,
          3.3264830564051545e+24,
          3.827191240747386e+24,
          4.403266917307728e+24,
          5.066054535929176e+24,
          5.828606133350823e+24,
          6.705938362251444e+24,
          7.71532820874669e+24,
          8.876653221831452e+24,
          1.0212782954754602e+25,
          1.1750029326868286e+25,
          1.3518664774716368e+25,
          1.5553518396184959e+25,
          1.789466182731499e+25,
          2.058819835855347e+25
         ]
        }
       ],
       "layout": {
        "autosize": false,
        "font": {
         "size": 14
        },
        "height": 600,
        "legend": {
         "orientation": "h",
         "title": {
          "text": "Model open/closed"
         },
         "tracegroupgap": 0,
         "x": 0.5,
         "xanchor": "center",
         "y": -0.15,
         "yanchor": "top"
        },
        "margin": {
         "b": 10,
         "l": 10,
         "r": 10,
         "t": 40
        },
        "template": {
         "data": {
          "bar": [
           {
            "error_x": {
             "color": "#2a3f5f"
            },
            "error_y": {
             "color": "#2a3f5f"
            },
            "marker": {
             "line": {
              "color": "#E5ECF6",
              "width": 0.5
             },
             "pattern": {
              "fillmode": "overlay",
              "size": 10,
              "solidity": 0.2
             }
            },
            "type": "bar"
           }
          ],
          "barpolar": [
           {
            "marker": {
             "line": {
              "color": "#E5ECF6",
              "width": 0.5
             },
             "pattern": {
              "fillmode": "overlay",
              "size": 10,
              "solidity": 0.2
             }
            },
            "type": "barpolar"
           }
          ],
          "carpet": [
           {
            "aaxis": {
             "endlinecolor": "#2a3f5f",
             "gridcolor": "white",
             "linecolor": "white",
             "minorgridcolor": "white",
             "startlinecolor": "#2a3f5f"
            },
            "baxis": {
             "endlinecolor": "#2a3f5f",
             "gridcolor": "white",
             "linecolor": "white",
             "minorgridcolor": "white",
             "startlinecolor": "#2a3f5f"
            },
            "type": "carpet"
           }
          ],
          "choropleth": [
           {
            "colorbar": {
             "outlinewidth": 0,
             "ticks": ""
            },
            "type": "choropleth"
           }
          ],
          "contour": [
           {
            "colorbar": {
             "outlinewidth": 0,
             "ticks": ""
            },
            "colorscale": [
             [
              0,
              "#0d0887"
             ],
             [
              0.1111111111111111,
              "#46039f"
             ],
             [
              0.2222222222222222,
              "#7201a8"
             ],
             [
              0.3333333333333333,
              "#9c179e"
             ],
             [
              0.4444444444444444,
              "#bd3786"
             ],
             [
              0.5555555555555556,
              "#d8576b"
             ],
             [
              0.6666666666666666,
              "#ed7953"
             ],
             [
              0.7777777777777778,
              "#fb9f3a"
             ],
             [
              0.8888888888888888,
              "#fdca26"
             ],
             [
              1,
              "#f0f921"
             ]
            ],
            "type": "contour"
           }
          ],
          "contourcarpet": [
           {
            "colorbar": {
             "outlinewidth": 0,
             "ticks": ""
            },
            "type": "contourcarpet"
           }
          ],
          "heatmap": [
           {
            "colorbar": {
             "outlinewidth": 0,
             "ticks": ""
            },
            "colorscale": [
             [
              0,
              "#0d0887"
             ],
             [
              0.1111111111111111,
              "#46039f"
             ],
             [
              0.2222222222222222,
              "#7201a8"
             ],
             [
              0.3333333333333333,
              "#9c179e"
             ],
             [
              0.4444444444444444,
              "#bd3786"
             ],
             [
              0.5555555555555556,
              "#d8576b"
             ],
             [
              0.6666666666666666,
              "#ed7953"
             ],
             [
              0.7777777777777778,
              "#fb9f3a"
             ],
             [
              0.8888888888888888,
              "#fdca26"
             ],
             [
              1,
              "#f0f921"
             ]
            ],
            "type": "heatmap"
           }
          ],
          "heatmapgl": [
           {
            "colorbar": {
             "outlinewidth": 0,
             "ticks": ""
            },
            "colorscale": [
             [
              0,
              "#0d0887"
             ],
             [
              0.1111111111111111,
              "#46039f"
             ],
             [
              0.2222222222222222,
              "#7201a8"
             ],
             [
              0.3333333333333333,
              "#9c179e"
             ],
             [
              0.4444444444444444,
              "#bd3786"
             ],
             [
              0.5555555555555556,
              "#d8576b"
             ],
             [
              0.6666666666666666,
              "#ed7953"
             ],
             [
              0.7777777777777778,
              "#fb9f3a"
             ],
             [
              0.8888888888888888,
              "#fdca26"
             ],
             [
              1,
              "#f0f921"
             ]
            ],
            "type": "heatmapgl"
           }
          ],
          "histogram": [
           {
            "marker": {
             "pattern": {
              "fillmode": "overlay",
              "size": 10,
              "solidity": 0.2
             }
            },
            "type": "histogram"
           }
          ],
          "histogram2d": [
           {
            "colorbar": {
             "outlinewidth": 0,
             "ticks": ""
            },
            "colorscale": [
             [
              0,
              "#0d0887"
             ],
             [
              0.1111111111111111,
              "#46039f"
             ],
             [
              0.2222222222222222,
              "#7201a8"
             ],
             [
              0.3333333333333333,
              "#9c179e"
             ],
             [
              0.4444444444444444,
              "#bd3786"
             ],
             [
              0.5555555555555556,
              "#d8576b"
             ],
             [
              0.6666666666666666,
              "#ed7953"
             ],
             [
              0.7777777777777778,
              "#fb9f3a"
             ],
             [
              0.8888888888888888,
              "#fdca26"
             ],
             [
              1,
              "#f0f921"
             ]
            ],
            "type": "histogram2d"
           }
          ],
          "histogram2dcontour": [
           {
            "colorbar": {
             "outlinewidth": 0,
             "ticks": ""
            },
            "colorscale": [
             [
              0,
              "#0d0887"
             ],
             [
              0.1111111111111111,
              "#46039f"
             ],
             [
              0.2222222222222222,
              "#7201a8"
             ],
             [
              0.3333333333333333,
              "#9c179e"
             ],
             [
              0.4444444444444444,
              "#bd3786"
             ],
             [
              0.5555555555555556,
              "#d8576b"
             ],
             [
              0.6666666666666666,
              "#ed7953"
             ],
             [
              0.7777777777777778,
              "#fb9f3a"
             ],
             [
              0.8888888888888888,
              "#fdca26"
             ],
             [
              1,
              "#f0f921"
             ]
            ],
            "type": "histogram2dcontour"
           }
          ],
          "mesh3d": [
           {
            "colorbar": {
             "outlinewidth": 0,
             "ticks": ""
            },
            "type": "mesh3d"
           }
          ],
          "parcoords": [
           {
            "line": {
             "colorbar": {
              "outlinewidth": 0,
              "ticks": ""
             }
            },
            "type": "parcoords"
           }
          ],
          "pie": [
           {
            "automargin": true,
            "type": "pie"
           }
          ],
          "scatter": [
           {
            "fillpattern": {
             "fillmode": "overlay",
             "size": 10,
             "solidity": 0.2
            },
            "type": "scatter"
           }
          ],
          "scatter3d": [
           {
            "line": {
             "colorbar": {
              "outlinewidth": 0,
              "ticks": ""
             }
            },
            "marker": {
             "colorbar": {
              "outlinewidth": 0,
              "ticks": ""
             }
            },
            "type": "scatter3d"
           }
          ],
          "scattercarpet": [
           {
            "marker": {
             "colorbar": {
              "outlinewidth": 0,
              "ticks": ""
             }
            },
            "type": "scattercarpet"
           }
          ],
          "scattergeo": [
           {
            "marker": {
             "colorbar": {
              "outlinewidth": 0,
              "ticks": ""
             }
            },
            "type": "scattergeo"
           }
          ],
          "scattergl": [
           {
            "marker": {
             "colorbar": {
              "outlinewidth": 0,
              "ticks": ""
             }
            },
            "type": "scattergl"
           }
          ],
          "scattermapbox": [
           {
            "marker": {
             "colorbar": {
              "outlinewidth": 0,
              "ticks": ""
             }
            },
            "type": "scattermapbox"
           }
          ],
          "scatterpolar": [
           {
            "marker": {
             "colorbar": {
              "outlinewidth": 0,
              "ticks": ""
             }
            },
            "type": "scatterpolar"
           }
          ],
          "scatterpolargl": [
           {
            "marker": {
             "colorbar": {
              "outlinewidth": 0,
              "ticks": ""
             }
            },
            "type": "scatterpolargl"
           }
          ],
          "scatterternary": [
           {
            "marker": {
             "colorbar": {
              "outlinewidth": 0,
              "ticks": ""
             }
            },
            "type": "scatterternary"
           }
          ],
          "surface": [
           {
            "colorbar": {
             "outlinewidth": 0,
             "ticks": ""
            },
            "colorscale": [
             [
              0,
              "#0d0887"
             ],
             [
              0.1111111111111111,
              "#46039f"
             ],
             [
              0.2222222222222222,
              "#7201a8"
             ],
             [
              0.3333333333333333,
              "#9c179e"
             ],
             [
              0.4444444444444444,
              "#bd3786"
             ],
             [
              0.5555555555555556,
              "#d8576b"
             ],
             [
              0.6666666666666666,
              "#ed7953"
             ],
             [
              0.7777777777777778,
              "#fb9f3a"
             ],
             [
              0.8888888888888888,
              "#fdca26"
             ],
             [
              1,
              "#f0f921"
             ]
            ],
            "type": "surface"
           }
          ],
          "table": [
           {
            "cells": {
             "fill": {
              "color": "#EBF0F8"
             },
             "line": {
              "color": "white"
             }
            },
            "header": {
             "fill": {
              "color": "#C8D4E3"
             },
             "line": {
              "color": "white"
             }
            },
            "type": "table"
           }
          ]
         },
         "layout": {
          "annotationdefaults": {
           "arrowcolor": "#2a3f5f",
           "arrowhead": 0,
           "arrowwidth": 1
          },
          "autotypenumbers": "strict",
          "coloraxis": {
           "colorbar": {
            "outlinewidth": 0,
            "ticks": ""
           }
          },
          "colorscale": {
           "diverging": [
            [
             0,
             "#8e0152"
            ],
            [
             0.1,
             "#c51b7d"
            ],
            [
             0.2,
             "#de77ae"
            ],
            [
             0.3,
             "#f1b6da"
            ],
            [
             0.4,
             "#fde0ef"
            ],
            [
             0.5,
             "#f7f7f7"
            ],
            [
             0.6,
             "#e6f5d0"
            ],
            [
             0.7,
             "#b8e186"
            ],
            [
             0.8,
             "#7fbc41"
            ],
            [
             0.9,
             "#4d9221"
            ],
            [
             1,
             "#276419"
            ]
           ],
           "sequential": [
            [
             0,
             "#0d0887"
            ],
            [
             0.1111111111111111,
             "#46039f"
            ],
            [
             0.2222222222222222,
             "#7201a8"
            ],
            [
             0.3333333333333333,
             "#9c179e"
            ],
            [
             0.4444444444444444,
             "#bd3786"
            ],
            [
             0.5555555555555556,
             "#d8576b"
            ],
            [
             0.6666666666666666,
             "#ed7953"
            ],
            [
             0.7777777777777778,
             "#fb9f3a"
            ],
            [
             0.8888888888888888,
             "#fdca26"
            ],
            [
             1,
             "#f0f921"
            ]
           ],
           "sequentialminus": [
            [
             0,
             "#0d0887"
            ],
            [
             0.1111111111111111,
             "#46039f"
            ],
            [
             0.2222222222222222,
             "#7201a8"
            ],
            [
             0.3333333333333333,
             "#9c179e"
            ],
            [
             0.4444444444444444,
             "#bd3786"
            ],
            [
             0.5555555555555556,
             "#d8576b"
            ],
            [
             0.6666666666666666,
             "#ed7953"
            ],
            [
             0.7777777777777778,
             "#fb9f3a"
            ],
            [
             0.8888888888888888,
             "#fdca26"
            ],
            [
             1,
             "#f0f921"
            ]
           ]
          },
          "colorway": [
           "#636efa",
           "#EF553B",
           "#00cc96",
           "#ab63fa",
           "#FFA15A",
           "#19d3f3",
           "#FF6692",
           "#B6E880",
           "#FF97FF",
           "#FECB52"
          ],
          "font": {
           "color": "#2a3f5f"
          },
          "geo": {
           "bgcolor": "white",
           "lakecolor": "white",
           "landcolor": "#E5ECF6",
           "showlakes": true,
           "showland": true,
           "subunitcolor": "white"
          },
          "hoverlabel": {
           "align": "left"
          },
          "hovermode": "closest",
          "mapbox": {
           "style": "light"
          },
          "paper_bgcolor": "white",
          "plot_bgcolor": "#E5ECF6",
          "polar": {
           "angularaxis": {
            "gridcolor": "white",
            "linecolor": "white",
            "ticks": ""
           },
           "bgcolor": "#E5ECF6",
           "radialaxis": {
            "gridcolor": "white",
            "linecolor": "white",
            "ticks": ""
           }
          },
          "scene": {
           "xaxis": {
            "backgroundcolor": "#E5ECF6",
            "gridcolor": "white",
            "gridwidth": 2,
            "linecolor": "white",
            "showbackground": true,
            "ticks": "",
            "zerolinecolor": "white"
           },
           "yaxis": {
            "backgroundcolor": "#E5ECF6",
            "gridcolor": "white",
            "gridwidth": 2,
            "linecolor": "white",
            "showbackground": true,
            "ticks": "",
            "zerolinecolor": "white"
           },
           "zaxis": {
            "backgroundcolor": "#E5ECF6",
            "gridcolor": "white",
            "gridwidth": 2,
            "linecolor": "white",
            "showbackground": true,
            "ticks": "",
            "zerolinecolor": "white"
           }
          },
          "shapedefaults": {
           "line": {
            "color": "#2a3f5f"
           }
          },
          "ternary": {
           "aaxis": {
            "gridcolor": "white",
            "linecolor": "white",
            "ticks": ""
           },
           "baxis": {
            "gridcolor": "white",
            "linecolor": "white",
            "ticks": ""
           },
           "bgcolor": "#E5ECF6",
           "caxis": {
            "gridcolor": "white",
            "linecolor": "white",
            "ticks": ""
           }
          },
          "title": {
           "x": 0.05
          },
          "xaxis": {
           "automargin": true,
           "gridcolor": "white",
           "linecolor": "white",
           "ticks": "",
           "title": {
            "standoff": 15
           },
           "zerolinecolor": "white",
           "zerolinewidth": 2
          },
          "yaxis": {
           "automargin": true,
           "gridcolor": "white",
           "linecolor": "white",
           "ticks": "",
           "title": {
            "standoff": 15
           },
           "zerolinecolor": "white",
           "zerolinewidth": 2
          }
         }
        },
        "title": {
         "x": 0.5
        },
        "width": 800,
        "xaxis": {
         "anchor": "y",
         "domain": [
          0,
          1
         ],
         "range": [
          "2015-01-01",
          "2025-01-01"
         ],
         "title": {
          "text": "Publication date"
         }
        },
        "yaxis": {
         "anchor": "x",
         "domain": [
          0,
          1
         ],
         "title": {
          "text": "Training compute (FLOP)"
         },
         "type": "log"
        }
       }
      }
     },
     "metadata": {},
     "output_type": "display_data"
    }
   ],
   "source": [
    "fig = px.scatter(\n",
    "    # access_df,\n",
    "    access_df.loc[access_df['System'].isin(selected_systems)],\n",
    "    x='Publication date',\n",
    "    y='Training compute (FLOP)',\n",
    "    color='Model open/closed',\n",
    "    hover_data=['System'],\n",
    "    log_y=True,\n",
    ")\n",
    "\n",
    "# Marker color\n",
    "# fig.update_traces(\n",
    "#     marker=dict(\n",
    "#         color='rgb(0,100,200)',\n",
    "#     ),\n",
    "#     selector=dict(mode='markers'),\n",
    "# )\n",
    "\n",
    "# Shade in CI\n",
    "fig.add_scatter(\n",
    "    x=predicted_open_df['Publication date'],\n",
    "    y=10**predicted_open_df['mean_ci_lower'],\n",
    "    mode='lines',\n",
    "    line=dict(width=0),\n",
    "    showlegend=False,\n",
    ")\n",
    "fig.add_scatter(\n",
    "    x=predicted_open_df['Publication date'],\n",
    "    y=10**predicted_open_df['mean_ci_upper'],\n",
    "    mode='lines',\n",
    "    fill='tonexty',\n",
    "    fillcolor='rgba(230,100,0,0.2)',\n",
    "    line=dict(width=0),\n",
    "    name='95% CI of mean',\n",
    ")\n",
    "fig.add_scatter(\n",
    "    x=predicted_open_df['Publication date'],\n",
    "    y=10**predicted_open_df['mean'],\n",
    "    mode='lines',\n",
    "    line=dict(color='rgb(230,100,0)'),\n",
    "    name=f'Regression mean (growth rate: {10**reg_results.params[1]:.1f}x per year)',\n",
    ")\n",
    "\n",
    "fig.add_scatter(\n",
    "    x=predicted_closed_df['Publication date'],\n",
    "    y=10**predicted_closed_df['mean_ci_lower'],\n",
    "    mode='lines',\n",
    "    line=dict(width=0),\n",
    "    showlegend=False,\n",
    ")\n",
    "fig.add_scatter(\n",
    "    x=predicted_closed_df['Publication date'],\n",
    "    y=10**predicted_closed_df['mean_ci_upper'],\n",
    "    mode='lines',\n",
    "    fill='tonexty',\n",
    "    fillcolor='rgba(0,100,200,0.2)',\n",
    "    line=dict(width=0),\n",
    "    name='95% CI of mean',\n",
    ")\n",
    "fig.add_scatter(\n",
    "    x=predicted_closed_df['Publication date'],\n",
    "    y=10**predicted_closed_df['mean'],\n",
    "    mode='lines',\n",
    "    line=dict(color='rgb(0,100,200)'),\n",
    "    name=f'Regression mean (growth rate: {10**reg_results.params[1]:.1f}x per year)',\n",
    ")\n",
    "\n",
    "fig.update_traces(textposition='top center')\n",
    "\n",
    "# legend on top\n",
    "fig.update_layout(legend=dict(\n",
    "    orientation='h',\n",
    "    yanchor='top',\n",
    "    y=-0.15,\n",
    "    xanchor='center',\n",
    "    x=0.5,\n",
    "))\n",
    "\n",
    "# axis labels\n",
    "# fig.update_xaxes(title_text='Publication date')\n",
    "# fig.update_yaxes(title_text='Cost (2023 USD)')\n",
    "\n",
    "# title\n",
    "\n",
    "\n",
    "# update size\n",
    "fig.update_layout(\n",
    "    autosize=False,\n",
    "    width=800,\n",
    "    height=600,\n",
    "    title_x=0.5,\n",
    ")\n",
    "\n",
    "# font size\n",
    "fig.update_layout(\n",
    "    font=dict(\n",
    "        size=14,\n",
    "    )\n",
    ")\n",
    "\n",
    "# axis limits\n",
    "fig.update_xaxes(range=[pred_start_date, pred_end_date])\n",
    "\n",
    "# margins\n",
    "fig.update_layout(margin=dict(l=10, r=10, t=40, b=10))\n",
    "\n",
    "save_plot(fig, results_dir, 'open_closed_regression')\n",
    "\n",
    "fig.show()"
   ]
  },
  {
   "cell_type": "code",
   "execution_count": 164,
   "metadata": {},
   "outputs": [
    {
     "data": {
      "text/plain": [
       "Index(['System', 'Domain', 'Task', 'Authors', 'Notability criteria',\n",
       "       'Notability criteria notes', 'Model accessibility', 'Link', 'Citations',\n",
       "       'Reference', 'Publication date', 'Organization', 'Parameters',\n",
       "       'Parameters notes', 'Training compute (FLOP)', 'Training compute notes',\n",
       "       'Training dataset', 'Training dataset notes',\n",
       "       'Training dataset size (datapoints)', 'Dataset size notes', 'Epochs',\n",
       "       'Inference compute (FLOP)', 'Inference compute notes',\n",
       "       'Training time (hours)', 'Training time notes', 'Training hardware',\n",
       "       'Approach', 'Training compute cost (2020 USD)', 'Compute cost notes',\n",
       "       'Compute sponsor categorization', 'Confidence', 'Abstract',\n",
       "       'Last modified', 'Created By', 'Benchmark data', 'Exclude',\n",
       "       'Country (from Organization)', 'Base model', 'Finetune compute (FLOP)',\n",
       "       'Finetune compute notes', 'Hardware quantity', 'Hardware utilization',\n",
       "       'Training cost trends', 'Training cloud compute vendor',\n",
       "       'Training data center', 'Archived links', 'Batch size',\n",
       "       'Batch size notes', 'Organization categorization', 'Foundation model',\n",
       "       'Training compute lower bound', 'Training compute upper bound',\n",
       "       'Training chip-hours', 'Code accessibility', 'Dataset accessibility',\n",
       "       'Accessibility notes', 'Field 57',\n",
       "       'Organization categorization (from Organization)', 'Model open/closed',\n",
       "       'Publication date (float)'],\n",
       "      dtype='object')"
      ]
     },
     "execution_count": 164,
     "metadata": {},
     "output_type": "execute_result"
    }
   ],
   "source": [
    "access_df.columns"
   ]
  },
  {
   "cell_type": "code",
   "execution_count": null,
   "metadata": {},
   "outputs": [],
   "source": []
  }
 ],
 "metadata": {
  "kernelspec": {
   "display_name": "epoch",
   "language": "python",
   "name": "python3"
  },
  "language_info": {
   "codemirror_mode": {
    "name": "ipython",
    "version": 3
   },
   "file_extension": ".py",
   "mimetype": "text/x-python",
   "name": "python",
   "nbconvert_exporter": "python",
   "pygments_lexer": "ipython3",
   "version": "3.11.4"
  }
 },
 "nbformat": 4,
 "nbformat_minor": 2
}
