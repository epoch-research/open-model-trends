{
 "cells": [
  {
   "cell_type": "code",
   "execution_count": 1,
   "metadata": {},
   "outputs": [],
   "source": [
    "%load_ext autoreload\n",
    "%autoreload 2"
   ]
  },
  {
   "cell_type": "code",
   "execution_count": 2,
   "metadata": {},
   "outputs": [],
   "source": [
    "import numpy as np\n",
    "import os\n",
    "import pandas as pd\n",
    "import plotly.express as px\n",
    "\n",
    "from data import *\n",
    "from plotting import *"
   ]
  },
  {
   "cell_type": "code",
   "execution_count": 3,
   "metadata": {},
   "outputs": [],
   "source": [
    "results_dir = 'results/initial/'\n",
    "os.makedirs(results_dir, exist_ok=True)"
   ]
  },
  {
   "cell_type": "code",
   "execution_count": 4,
   "metadata": {},
   "outputs": [],
   "source": [
    "# Load data\n",
    "pcd_df = load_pcd_df()"
   ]
  },
  {
   "cell_type": "code",
   "execution_count": 5,
   "metadata": {},
   "outputs": [
    {
     "data": {
      "text/html": [
       "<div>\n",
       "<style scoped>\n",
       "    .dataframe tbody tr th:only-of-type {\n",
       "        vertical-align: middle;\n",
       "    }\n",
       "\n",
       "    .dataframe tbody tr th {\n",
       "        vertical-align: top;\n",
       "    }\n",
       "\n",
       "    .dataframe thead th {\n",
       "        text-align: right;\n",
       "    }\n",
       "</style>\n",
       "<table border=\"1\" class=\"dataframe\">\n",
       "  <thead>\n",
       "    <tr style=\"text-align: right;\">\n",
       "      <th></th>\n",
       "      <th>System</th>\n",
       "      <th>Domain</th>\n",
       "      <th>Task</th>\n",
       "      <th>Authors</th>\n",
       "      <th>Notability criteria</th>\n",
       "      <th>Notability criteria notes</th>\n",
       "      <th>Open-source</th>\n",
       "      <th>Link</th>\n",
       "      <th>Citations</th>\n",
       "      <th>Reference</th>\n",
       "      <th>...</th>\n",
       "      <th>Training cloud compute vendor</th>\n",
       "      <th>Training data center</th>\n",
       "      <th>Archived links</th>\n",
       "      <th>Batch size</th>\n",
       "      <th>Batch size notes</th>\n",
       "      <th>Organization categorization</th>\n",
       "      <th>Foundation model</th>\n",
       "      <th>Training compute lower bound</th>\n",
       "      <th>Training compute upper bound</th>\n",
       "      <th>Training chip-hours</th>\n",
       "    </tr>\n",
       "  </thead>\n",
       "  <tbody>\n",
       "    <tr>\n",
       "      <th>0</th>\n",
       "      <td>Claude 3 Haiku</td>\n",
       "      <td>Multimodal,Language,Vision</td>\n",
       "      <td>Chat</td>\n",
       "      <td>NaN</td>\n",
       "      <td>NaN</td>\n",
       "      <td>NaN</td>\n",
       "      <td>API accessible</td>\n",
       "      <td>https://www-cdn.anthropic.com/de8ba9b01c9ab7cb...</td>\n",
       "      <td>NaN</td>\n",
       "      <td>The Claude 3 Model Family: Opus, Sonnet, Haiku</td>\n",
       "      <td>...</td>\n",
       "      <td>NaN</td>\n",
       "      <td>NaN</td>\n",
       "      <td>NaN</td>\n",
       "      <td>NaN</td>\n",
       "      <td>NaN</td>\n",
       "      <td>Industry</td>\n",
       "      <td>NaN</td>\n",
       "      <td>NaN</td>\n",
       "      <td>NaN</td>\n",
       "      <td>NaN</td>\n",
       "    </tr>\n",
       "    <tr>\n",
       "      <th>1</th>\n",
       "      <td>Claude 3 Sonnet</td>\n",
       "      <td>Multimodal,Language,Vision</td>\n",
       "      <td>Chat</td>\n",
       "      <td>NaN</td>\n",
       "      <td>NaN</td>\n",
       "      <td>NaN</td>\n",
       "      <td>API accessible</td>\n",
       "      <td>https://www-cdn.anthropic.com/de8ba9b01c9ab7cb...</td>\n",
       "      <td>NaN</td>\n",
       "      <td>The Claude 3 Model Family: Opus, Sonnet, Haiku</td>\n",
       "      <td>...</td>\n",
       "      <td>NaN</td>\n",
       "      <td>NaN</td>\n",
       "      <td>NaN</td>\n",
       "      <td>NaN</td>\n",
       "      <td>NaN</td>\n",
       "      <td>Industry</td>\n",
       "      <td>NaN</td>\n",
       "      <td>NaN</td>\n",
       "      <td>NaN</td>\n",
       "      <td>NaN</td>\n",
       "    </tr>\n",
       "    <tr>\n",
       "      <th>2</th>\n",
       "      <td>Claude 3 Opus</td>\n",
       "      <td>Multimodal,Language,Vision</td>\n",
       "      <td>Chat</td>\n",
       "      <td>NaN</td>\n",
       "      <td>SOTA improvement</td>\n",
       "      <td>NaN</td>\n",
       "      <td>API accessible</td>\n",
       "      <td>https://www-cdn.anthropic.com/de8ba9b01c9ab7cb...</td>\n",
       "      <td>NaN</td>\n",
       "      <td>The Claude 3 Model Family: Opus, Sonnet, Haiku</td>\n",
       "      <td>...</td>\n",
       "      <td>NaN</td>\n",
       "      <td>NaN</td>\n",
       "      <td>NaN</td>\n",
       "      <td>NaN</td>\n",
       "      <td>NaN</td>\n",
       "      <td>Industry</td>\n",
       "      <td>NaN</td>\n",
       "      <td>NaN</td>\n",
       "      <td>NaN</td>\n",
       "      <td>NaN</td>\n",
       "    </tr>\n",
       "    <tr>\n",
       "      <th>3</th>\n",
       "      <td>StarCoder 2 15B</td>\n",
       "      <td>Language</td>\n",
       "      <td>Code generation,Code autocompletion</td>\n",
       "      <td>Anton Lozhkov, Raymond Li, Loubna Ben Allal, F...</td>\n",
       "      <td>NaN</td>\n",
       "      <td>NaN</td>\n",
       "      <td>Permissive license</td>\n",
       "      <td>https://arxiv.org/abs/2402.19173</td>\n",
       "      <td>NaN</td>\n",
       "      <td>StarCoder 2 and The Stack v2: The Next Generation</td>\n",
       "      <td>...</td>\n",
       "      <td>NaN</td>\n",
       "      <td>NaN</td>\n",
       "      <td>NaN</td>\n",
       "      <td>NaN</td>\n",
       "      <td>NaN</td>\n",
       "      <td>Industry,Industry,Industry</td>\n",
       "      <td>NaN</td>\n",
       "      <td>NaN</td>\n",
       "      <td>NaN</td>\n",
       "      <td>NaN</td>\n",
       "    </tr>\n",
       "    <tr>\n",
       "      <th>4</th>\n",
       "      <td>StarCoder 2 7B</td>\n",
       "      <td>Language</td>\n",
       "      <td>Code generation,Code autocompletion</td>\n",
       "      <td>Anton Lozhkov, Raymond Li, Loubna Ben Allal, F...</td>\n",
       "      <td>NaN</td>\n",
       "      <td>NaN</td>\n",
       "      <td>Permissive license</td>\n",
       "      <td>https://arxiv.org/abs/2402.19173</td>\n",
       "      <td>NaN</td>\n",
       "      <td>StarCoder 2 and The Stack v2: The Next Generation</td>\n",
       "      <td>...</td>\n",
       "      <td>NaN</td>\n",
       "      <td>NaN</td>\n",
       "      <td>NaN</td>\n",
       "      <td>NaN</td>\n",
       "      <td>NaN</td>\n",
       "      <td>Industry,Industry,Industry</td>\n",
       "      <td>NaN</td>\n",
       "      <td>NaN</td>\n",
       "      <td>NaN</td>\n",
       "      <td>NaN</td>\n",
       "    </tr>\n",
       "    <tr>\n",
       "      <th>...</th>\n",
       "      <td>...</td>\n",
       "      <td>...</td>\n",
       "      <td>...</td>\n",
       "      <td>...</td>\n",
       "      <td>...</td>\n",
       "      <td>...</td>\n",
       "      <td>...</td>\n",
       "      <td>...</td>\n",
       "      <td>...</td>\n",
       "      <td>...</td>\n",
       "      <td>...</td>\n",
       "      <td>...</td>\n",
       "      <td>...</td>\n",
       "      <td>...</td>\n",
       "      <td>...</td>\n",
       "      <td>...</td>\n",
       "      <td>...</td>\n",
       "      <td>...</td>\n",
       "      <td>...</td>\n",
       "      <td>...</td>\n",
       "      <td>...</td>\n",
       "    </tr>\n",
       "    <tr>\n",
       "      <th>1406</th>\n",
       "      <td>Sequence-based pattern recognition</td>\n",
       "      <td>Vision</td>\n",
       "      <td>Character recognition</td>\n",
       "      <td>O. G. Selfridge</td>\n",
       "      <td>Historical significance</td>\n",
       "      <td>NaN</td>\n",
       "      <td>NaN</td>\n",
       "      <td>https://dl.acm.org/doi/10.1145/1455292.1455310</td>\n",
       "      <td>290.0</td>\n",
       "      <td>Pattern recognition and modern computers</td>\n",
       "      <td>...</td>\n",
       "      <td>NaN</td>\n",
       "      <td>NaN</td>\n",
       "      <td>NaN</td>\n",
       "      <td>NaN</td>\n",
       "      <td>NaN</td>\n",
       "      <td>Academia</td>\n",
       "      <td>NaN</td>\n",
       "      <td>NaN</td>\n",
       "      <td>NaN</td>\n",
       "      <td>NaN</td>\n",
       "    </tr>\n",
       "    <tr>\n",
       "      <th>1407</th>\n",
       "      <td>Self Organizing System</td>\n",
       "      <td>Other</td>\n",
       "      <td>Pattern recognition</td>\n",
       "      <td>W. A. Clark and B. G. Farley</td>\n",
       "      <td>Historical significance</td>\n",
       "      <td>NaN</td>\n",
       "      <td>NaN</td>\n",
       "      <td>https://dl.acm.org/doi/10.1145/1455292.1455309</td>\n",
       "      <td>93.0</td>\n",
       "      <td>Generalization of pattern recognition in a sel...</td>\n",
       "      <td>...</td>\n",
       "      <td>NaN</td>\n",
       "      <td>NaN</td>\n",
       "      <td>NaN</td>\n",
       "      <td>NaN</td>\n",
       "      <td>NaN</td>\n",
       "      <td>Academia</td>\n",
       "      <td>NaN</td>\n",
       "      <td>NaN</td>\n",
       "      <td>NaN</td>\n",
       "      <td>NaN</td>\n",
       "    </tr>\n",
       "    <tr>\n",
       "      <th>1408</th>\n",
       "      <td>Genetic algorithm</td>\n",
       "      <td>Other</td>\n",
       "      <td>NaN</td>\n",
       "      <td>NA Barricelli</td>\n",
       "      <td>Historical significance</td>\n",
       "      <td>Possibly first computer simulation of a geneti...</td>\n",
       "      <td>NaN</td>\n",
       "      <td>https://link.springer.com/article/10.1007/BF01...</td>\n",
       "      <td>266.0</td>\n",
       "      <td>Numerical testing of evolution theories</td>\n",
       "      <td>...</td>\n",
       "      <td>NaN</td>\n",
       "      <td>NaN</td>\n",
       "      <td>NaN</td>\n",
       "      <td>NaN</td>\n",
       "      <td>NaN</td>\n",
       "      <td>Academia</td>\n",
       "      <td>NaN</td>\n",
       "      <td>NaN</td>\n",
       "      <td>NaN</td>\n",
       "      <td>NaN</td>\n",
       "    </tr>\n",
       "    <tr>\n",
       "      <th>1409</th>\n",
       "      <td>SNARC</td>\n",
       "      <td>Robotics</td>\n",
       "      <td>Maze solving</td>\n",
       "      <td>Marvin Minsky</td>\n",
       "      <td>Historical significance</td>\n",
       "      <td>NaN</td>\n",
       "      <td>NaN</td>\n",
       "      <td>https://en.wikipedia.org/wiki/Stochastic_neura...</td>\n",
       "      <td>33.0</td>\n",
       "      <td>A Neural-Analogue Calculator Based upon a Prob...</td>\n",
       "      <td>...</td>\n",
       "      <td>NaN</td>\n",
       "      <td>NaN</td>\n",
       "      <td>NaN</td>\n",
       "      <td>NaN</td>\n",
       "      <td>NaN</td>\n",
       "      <td>Academia</td>\n",
       "      <td>NaN</td>\n",
       "      <td>NaN</td>\n",
       "      <td>NaN</td>\n",
       "      <td>NaN</td>\n",
       "    </tr>\n",
       "    <tr>\n",
       "      <th>1410</th>\n",
       "      <td>Theseus</td>\n",
       "      <td>Robotics</td>\n",
       "      <td>Maze solving</td>\n",
       "      <td>Claude Shannon</td>\n",
       "      <td>Historical significance</td>\n",
       "      <td>NaN</td>\n",
       "      <td>NaN</td>\n",
       "      <td>https://www.technologyreview.com/2018/12/19/13...</td>\n",
       "      <td>0.0</td>\n",
       "      <td>Mighty Mouse</td>\n",
       "      <td>...</td>\n",
       "      <td>NaN</td>\n",
       "      <td>NaN</td>\n",
       "      <td>NaN</td>\n",
       "      <td>NaN</td>\n",
       "      <td>NaN</td>\n",
       "      <td>Industry</td>\n",
       "      <td>NaN</td>\n",
       "      <td>NaN</td>\n",
       "      <td>NaN</td>\n",
       "      <td>NaN</td>\n",
       "    </tr>\n",
       "  </tbody>\n",
       "</table>\n",
       "<p>1411 rows × 53 columns</p>\n",
       "</div>"
      ],
      "text/plain": [
       "                                  System                      Domain  \\\n",
       "0                         Claude 3 Haiku  Multimodal,Language,Vision   \n",
       "1                        Claude 3 Sonnet  Multimodal,Language,Vision   \n",
       "2                          Claude 3 Opus  Multimodal,Language,Vision   \n",
       "3                        StarCoder 2 15B                    Language   \n",
       "4                         StarCoder 2 7B                    Language   \n",
       "...                                  ...                         ...   \n",
       "1406  Sequence-based pattern recognition                      Vision   \n",
       "1407              Self Organizing System                       Other   \n",
       "1408                   Genetic algorithm                       Other   \n",
       "1409                               SNARC                    Robotics   \n",
       "1410                             Theseus                    Robotics   \n",
       "\n",
       "                                     Task  \\\n",
       "0                                    Chat   \n",
       "1                                    Chat   \n",
       "2                                    Chat   \n",
       "3     Code generation,Code autocompletion   \n",
       "4     Code generation,Code autocompletion   \n",
       "...                                   ...   \n",
       "1406                Character recognition   \n",
       "1407                  Pattern recognition   \n",
       "1408                                  NaN   \n",
       "1409                         Maze solving   \n",
       "1410                         Maze solving   \n",
       "\n",
       "                                                Authors  \\\n",
       "0                                                   NaN   \n",
       "1                                                   NaN   \n",
       "2                                                   NaN   \n",
       "3     Anton Lozhkov, Raymond Li, Loubna Ben Allal, F...   \n",
       "4     Anton Lozhkov, Raymond Li, Loubna Ben Allal, F...   \n",
       "...                                                 ...   \n",
       "1406                                    O. G. Selfridge   \n",
       "1407                       W. A. Clark and B. G. Farley   \n",
       "1408                                      NA Barricelli   \n",
       "1409                                      Marvin Minsky   \n",
       "1410                                     Claude Shannon   \n",
       "\n",
       "          Notability criteria  \\\n",
       "0                         NaN   \n",
       "1                         NaN   \n",
       "2            SOTA improvement   \n",
       "3                         NaN   \n",
       "4                         NaN   \n",
       "...                       ...   \n",
       "1406  Historical significance   \n",
       "1407  Historical significance   \n",
       "1408  Historical significance   \n",
       "1409  Historical significance   \n",
       "1410  Historical significance   \n",
       "\n",
       "                              Notability criteria notes         Open-source  \\\n",
       "0                                                   NaN      API accessible   \n",
       "1                                                   NaN      API accessible   \n",
       "2                                                   NaN      API accessible   \n",
       "3                                                   NaN  Permissive license   \n",
       "4                                                   NaN  Permissive license   \n",
       "...                                                 ...                 ...   \n",
       "1406                                                NaN                 NaN   \n",
       "1407                                                NaN                 NaN   \n",
       "1408  Possibly first computer simulation of a geneti...                 NaN   \n",
       "1409                                                NaN                 NaN   \n",
       "1410                                                NaN                 NaN   \n",
       "\n",
       "                                                   Link  Citations  \\\n",
       "0     https://www-cdn.anthropic.com/de8ba9b01c9ab7cb...        NaN   \n",
       "1     https://www-cdn.anthropic.com/de8ba9b01c9ab7cb...        NaN   \n",
       "2     https://www-cdn.anthropic.com/de8ba9b01c9ab7cb...        NaN   \n",
       "3                      https://arxiv.org/abs/2402.19173        NaN   \n",
       "4                      https://arxiv.org/abs/2402.19173        NaN   \n",
       "...                                                 ...        ...   \n",
       "1406     https://dl.acm.org/doi/10.1145/1455292.1455310      290.0   \n",
       "1407     https://dl.acm.org/doi/10.1145/1455292.1455309       93.0   \n",
       "1408  https://link.springer.com/article/10.1007/BF01...      266.0   \n",
       "1409  https://en.wikipedia.org/wiki/Stochastic_neura...       33.0   \n",
       "1410  https://www.technologyreview.com/2018/12/19/13...        0.0   \n",
       "\n",
       "                                              Reference  ...  \\\n",
       "0        The Claude 3 Model Family: Opus, Sonnet, Haiku  ...   \n",
       "1        The Claude 3 Model Family: Opus, Sonnet, Haiku  ...   \n",
       "2        The Claude 3 Model Family: Opus, Sonnet, Haiku  ...   \n",
       "3     StarCoder 2 and The Stack v2: The Next Generation  ...   \n",
       "4     StarCoder 2 and The Stack v2: The Next Generation  ...   \n",
       "...                                                 ...  ...   \n",
       "1406           Pattern recognition and modern computers  ...   \n",
       "1407  Generalization of pattern recognition in a sel...  ...   \n",
       "1408            Numerical testing of evolution theories  ...   \n",
       "1409  A Neural-Analogue Calculator Based upon a Prob...  ...   \n",
       "1410                                       Mighty Mouse  ...   \n",
       "\n",
       "     Training cloud compute vendor Training data center  Archived links  \\\n",
       "0                              NaN                  NaN             NaN   \n",
       "1                              NaN                  NaN             NaN   \n",
       "2                              NaN                  NaN             NaN   \n",
       "3                              NaN                  NaN             NaN   \n",
       "4                              NaN                  NaN             NaN   \n",
       "...                            ...                  ...             ...   \n",
       "1406                           NaN                  NaN             NaN   \n",
       "1407                           NaN                  NaN             NaN   \n",
       "1408                           NaN                  NaN             NaN   \n",
       "1409                           NaN                  NaN             NaN   \n",
       "1410                           NaN                  NaN             NaN   \n",
       "\n",
       "     Batch size  Batch size notes Organization categorization  \\\n",
       "0           NaN               NaN                    Industry   \n",
       "1           NaN               NaN                    Industry   \n",
       "2           NaN               NaN                    Industry   \n",
       "3           NaN               NaN  Industry,Industry,Industry   \n",
       "4           NaN               NaN  Industry,Industry,Industry   \n",
       "...         ...               ...                         ...   \n",
       "1406        NaN               NaN                    Academia   \n",
       "1407        NaN               NaN                    Academia   \n",
       "1408        NaN               NaN                    Academia   \n",
       "1409        NaN               NaN                    Academia   \n",
       "1410        NaN               NaN                    Industry   \n",
       "\n",
       "     Foundation model Training compute lower bound  \\\n",
       "0                 NaN                          NaN   \n",
       "1                 NaN                          NaN   \n",
       "2                 NaN                          NaN   \n",
       "3                 NaN                          NaN   \n",
       "4                 NaN                          NaN   \n",
       "...               ...                          ...   \n",
       "1406              NaN                          NaN   \n",
       "1407              NaN                          NaN   \n",
       "1408              NaN                          NaN   \n",
       "1409              NaN                          NaN   \n",
       "1410              NaN                          NaN   \n",
       "\n",
       "      Training compute upper bound Training chip-hours  \n",
       "0                              NaN                 NaN  \n",
       "1                              NaN                 NaN  \n",
       "2                              NaN                 NaN  \n",
       "3                              NaN                 NaN  \n",
       "4                              NaN                 NaN  \n",
       "...                            ...                 ...  \n",
       "1406                           NaN                 NaN  \n",
       "1407                           NaN                 NaN  \n",
       "1408                           NaN                 NaN  \n",
       "1409                           NaN                 NaN  \n",
       "1410                           NaN                 NaN  \n",
       "\n",
       "[1411 rows x 53 columns]"
      ]
     },
     "execution_count": 5,
     "metadata": {},
     "output_type": "execute_result"
    }
   ],
   "source": [
    "pcd_df"
   ]
  },
  {
   "cell_type": "code",
   "execution_count": 6,
   "metadata": {},
   "outputs": [
    {
     "data": {
      "text/plain": [
       "170"
      ]
     },
     "execution_count": 6,
     "metadata": {},
     "output_type": "execute_result"
    }
   ],
   "source": [
    "access_df = pcd_df.dropna(subset=['Publication date', 'Training compute (FLOP)', 'Open-source'])\n",
    "len(access_df)"
   ]
  },
  {
   "cell_type": "code",
   "execution_count": 7,
   "metadata": {},
   "outputs": [
    {
     "data": {
      "text/plain": [
       "array(['Permissive license', 'API accessible', 'Fully open-source',\n",
       "       'Weights available', 'Unreleased'], dtype=object)"
      ]
     },
     "execution_count": 7,
     "metadata": {},
     "output_type": "execute_result"
    }
   ],
   "source": [
    "access_df['Open-source'].unique()"
   ]
  },
  {
   "cell_type": "code",
   "execution_count": 8,
   "metadata": {},
   "outputs": [],
   "source": [
    "open_access_categories = ['Permissive license', 'Fully open-source', 'Weights available']\n",
    "closed_access_categories = ['API accessible', 'Unreleased']"
   ]
  },
  {
   "cell_type": "code",
   "execution_count": 9,
   "metadata": {},
   "outputs": [
    {
     "data": {
      "text/plain": [
       "152"
      ]
     },
     "execution_count": 9,
     "metadata": {},
     "output_type": "execute_result"
    }
   ],
   "source": [
    "open_access_df = access_df.loc[access_df['Open-source'].isin(open_access_categories)]\n",
    "len(open_access_df)"
   ]
  },
  {
   "cell_type": "code",
   "execution_count": 10,
   "metadata": {},
   "outputs": [
    {
     "data": {
      "text/plain": [
       "18"
      ]
     },
     "execution_count": 10,
     "metadata": {},
     "output_type": "execute_result"
    }
   ],
   "source": [
    "closed_access_df = access_df.loc[access_df['Open-source'].isin(closed_access_categories)]\n",
    "len(closed_access_df)"
   ]
  },
  {
   "cell_type": "code",
   "execution_count": 11,
   "metadata": {},
   "outputs": [
    {
     "data": {
      "text/html": [
       "<div>\n",
       "<style scoped>\n",
       "    .dataframe tbody tr th:only-of-type {\n",
       "        vertical-align: middle;\n",
       "    }\n",
       "\n",
       "    .dataframe tbody tr th {\n",
       "        vertical-align: top;\n",
       "    }\n",
       "\n",
       "    .dataframe thead th {\n",
       "        text-align: right;\n",
       "    }\n",
       "</style>\n",
       "<table border=\"1\" class=\"dataframe\">\n",
       "  <thead>\n",
       "    <tr style=\"text-align: right;\">\n",
       "      <th></th>\n",
       "      <th>System</th>\n",
       "      <th>Domain</th>\n",
       "      <th>Task</th>\n",
       "      <th>Authors</th>\n",
       "      <th>Notability criteria</th>\n",
       "      <th>Notability criteria notes</th>\n",
       "      <th>Open-source</th>\n",
       "      <th>Link</th>\n",
       "      <th>Citations</th>\n",
       "      <th>Reference</th>\n",
       "      <th>...</th>\n",
       "      <th>Training cloud compute vendor</th>\n",
       "      <th>Training data center</th>\n",
       "      <th>Archived links</th>\n",
       "      <th>Batch size</th>\n",
       "      <th>Batch size notes</th>\n",
       "      <th>Organization categorization</th>\n",
       "      <th>Foundation model</th>\n",
       "      <th>Training compute lower bound</th>\n",
       "      <th>Training compute upper bound</th>\n",
       "      <th>Training chip-hours</th>\n",
       "    </tr>\n",
       "  </thead>\n",
       "  <tbody>\n",
       "    <tr>\n",
       "      <th>8</th>\n",
       "      <td>Aya</td>\n",
       "      <td>Language</td>\n",
       "      <td>Language modelling/generation,Chat,Translation</td>\n",
       "      <td>Ahmet Üstün, Viraat Aryabumi, Zheng-Xin Yong, ...</td>\n",
       "      <td>SOTA improvement</td>\n",
       "      <td>from abstract \"We introduce extensive new eval...</td>\n",
       "      <td>Fully open-source</td>\n",
       "      <td>https://arxiv.org/abs/2402.07827</td>\n",
       "      <td>2.0</td>\n",
       "      <td>Aya Model: An Instruction Finetuned Open-Acces...</td>\n",
       "      <td>...</td>\n",
       "      <td>NaN</td>\n",
       "      <td>NaN</td>\n",
       "      <td>NaN</td>\n",
       "      <td>NaN</td>\n",
       "      <td>NaN</td>\n",
       "      <td>Industry,Academia,Industry,Academia,Academia</td>\n",
       "      <td>NaN</td>\n",
       "      <td>NaN</td>\n",
       "      <td>NaN</td>\n",
       "      <td>NaN</td>\n",
       "    </tr>\n",
       "    <tr>\n",
       "      <th>11</th>\n",
       "      <td>LLaVA-NeXT-34B (LLaVA-1.6)</td>\n",
       "      <td>Multimodal,Language,Vision</td>\n",
       "      <td>Visual question answering,Chat,Question answering</td>\n",
       "      <td>Haotian Liu, Chunyuan Li, Yuheng Li, Bo Li, Yu...</td>\n",
       "      <td>NaN</td>\n",
       "      <td>\"SoTA Performance! LLaVA-NeXT achieves the bes...</td>\n",
       "      <td>Fully open-source</td>\n",
       "      <td>https://llava-vl.github.io/blog/2024-01-30-lla...</td>\n",
       "      <td>NaN</td>\n",
       "      <td>LLaVA-NeXT: Improved reasoning, OCR, and world...</td>\n",
       "      <td>...</td>\n",
       "      <td>NaN</td>\n",
       "      <td>NaN</td>\n",
       "      <td>NaN</td>\n",
       "      <td>NaN</td>\n",
       "      <td>NaN</td>\n",
       "      <td>Academia,Industry,Academia,Academia</td>\n",
       "      <td>NaN</td>\n",
       "      <td>NaN</td>\n",
       "      <td>NaN</td>\n",
       "      <td>768.0</td>\n",
       "    </tr>\n",
       "    <tr>\n",
       "      <th>31</th>\n",
       "      <td>Poro34B (700B token checkpoint)</td>\n",
       "      <td>Language</td>\n",
       "      <td>Code generation,Language modelling/generation</td>\n",
       "      <td>NaN</td>\n",
       "      <td>NaN</td>\n",
       "      <td>NaN</td>\n",
       "      <td>Fully open-source</td>\n",
       "      <td>https://huggingface.co/LumiOpen/Poro-34B</td>\n",
       "      <td>NaN</td>\n",
       "      <td>Poro 34B Model Card</td>\n",
       "      <td>...</td>\n",
       "      <td>NaN</td>\n",
       "      <td>NaN</td>\n",
       "      <td>NaN</td>\n",
       "      <td>NaN</td>\n",
       "      <td>NaN</td>\n",
       "      <td>Academia</td>\n",
       "      <td>NaN</td>\n",
       "      <td>NaN</td>\n",
       "      <td>NaN</td>\n",
       "      <td>NaN</td>\n",
       "    </tr>\n",
       "    <tr>\n",
       "      <th>86</th>\n",
       "      <td>Calm2-7B</td>\n",
       "      <td>Language</td>\n",
       "      <td>Language modelling/generation</td>\n",
       "      <td>Ryosuke Ishigami</td>\n",
       "      <td>NaN</td>\n",
       "      <td>NaN</td>\n",
       "      <td>Fully open-source</td>\n",
       "      <td>https://huggingface.co/cyberagent/calm2-7b</td>\n",
       "      <td>NaN</td>\n",
       "      <td>CyberAgentLM2-7B (CALM2-7B)   https://hugging...</td>\n",
       "      <td>...</td>\n",
       "      <td>NaN</td>\n",
       "      <td>NaN</td>\n",
       "      <td>NaN</td>\n",
       "      <td>NaN</td>\n",
       "      <td>NaN</td>\n",
       "      <td>Industry</td>\n",
       "      <td>NaN</td>\n",
       "      <td>NaN</td>\n",
       "      <td>NaN</td>\n",
       "      <td>NaN</td>\n",
       "    </tr>\n",
       "    <tr>\n",
       "      <th>88</th>\n",
       "      <td>BlueLM 13B</td>\n",
       "      <td>Language</td>\n",
       "      <td>Chat</td>\n",
       "      <td>NaN</td>\n",
       "      <td>NaN</td>\n",
       "      <td>NaN</td>\n",
       "      <td>Fully open-source</td>\n",
       "      <td>https://github.com/vivo-ai-lab/BlueLM</td>\n",
       "      <td>NaN</td>\n",
       "      <td>NaN</td>\n",
       "      <td>...</td>\n",
       "      <td>NaN</td>\n",
       "      <td>NaN</td>\n",
       "      <td>NaN</td>\n",
       "      <td>NaN</td>\n",
       "      <td>NaN</td>\n",
       "      <td>Industry</td>\n",
       "      <td>NaN</td>\n",
       "      <td>NaN</td>\n",
       "      <td>NaN</td>\n",
       "      <td>NaN</td>\n",
       "    </tr>\n",
       "    <tr>\n",
       "      <th>...</th>\n",
       "      <td>...</td>\n",
       "      <td>...</td>\n",
       "      <td>...</td>\n",
       "      <td>...</td>\n",
       "      <td>...</td>\n",
       "      <td>...</td>\n",
       "      <td>...</td>\n",
       "      <td>...</td>\n",
       "      <td>...</td>\n",
       "      <td>...</td>\n",
       "      <td>...</td>\n",
       "      <td>...</td>\n",
       "      <td>...</td>\n",
       "      <td>...</td>\n",
       "      <td>...</td>\n",
       "      <td>...</td>\n",
       "      <td>...</td>\n",
       "      <td>...</td>\n",
       "      <td>...</td>\n",
       "      <td>...</td>\n",
       "      <td>...</td>\n",
       "    </tr>\n",
       "    <tr>\n",
       "      <th>937</th>\n",
       "      <td>Big-Little Net (vision)</td>\n",
       "      <td>Vision</td>\n",
       "      <td>Object recognition</td>\n",
       "      <td>Chun-Fu (Richard) Chen, Quanfu Fan, Neil Malli...</td>\n",
       "      <td>NaN</td>\n",
       "      <td>NaN</td>\n",
       "      <td>Fully open-source</td>\n",
       "      <td>https://arxiv.org/abs/1807.03848</td>\n",
       "      <td>97.0</td>\n",
       "      <td>BIG-LITTLE NET: AN EFFICIENT MULTI-SCALE FEATU...</td>\n",
       "      <td>...</td>\n",
       "      <td>NaN</td>\n",
       "      <td>NaN</td>\n",
       "      <td>NaN</td>\n",
       "      <td>NaN</td>\n",
       "      <td>NaN</td>\n",
       "      <td>Industry</td>\n",
       "      <td>NaN</td>\n",
       "      <td>NaN</td>\n",
       "      <td>NaN</td>\n",
       "      <td>NaN</td>\n",
       "    </tr>\n",
       "    <tr>\n",
       "      <th>938</th>\n",
       "      <td>Big-Little Net (speech)</td>\n",
       "      <td>Speech</td>\n",
       "      <td>Speech recognition</td>\n",
       "      <td>Chun-Fu (Richard) Chen, Quanfu Fan, Neil Malli...</td>\n",
       "      <td>SOTA improvement</td>\n",
       "      <td>\"Furthermore, our model surpasses state-of-the...</td>\n",
       "      <td>Fully open-source</td>\n",
       "      <td>https://arxiv.org/abs/1807.03848</td>\n",
       "      <td>80.0</td>\n",
       "      <td>Big-Little Net: An Efficient Multi-Scale Featu...</td>\n",
       "      <td>...</td>\n",
       "      <td>NaN</td>\n",
       "      <td>NaN</td>\n",
       "      <td>NaN</td>\n",
       "      <td>NaN</td>\n",
       "      <td>NaN</td>\n",
       "      <td>Industry</td>\n",
       "      <td>NaN</td>\n",
       "      <td>NaN</td>\n",
       "      <td>NaN</td>\n",
       "      <td>NaN</td>\n",
       "    </tr>\n",
       "    <tr>\n",
       "      <th>963</th>\n",
       "      <td>DNCON2</td>\n",
       "      <td>Biology</td>\n",
       "      <td>Proteins,Protein folding prediction</td>\n",
       "      <td>Badri Adhikari, Jie Hou, Jianlin Cheng</td>\n",
       "      <td>NaN</td>\n",
       "      <td>NaN</td>\n",
       "      <td>Fully open-source</td>\n",
       "      <td>https://academic.oup.com/bioinformatics/articl...</td>\n",
       "      <td>173.0</td>\n",
       "      <td>DNCON2: improved protein contact prediction us...</td>\n",
       "      <td>...</td>\n",
       "      <td>NaN</td>\n",
       "      <td>NaN</td>\n",
       "      <td>NaN</td>\n",
       "      <td>NaN</td>\n",
       "      <td>NaN</td>\n",
       "      <td>NaN</td>\n",
       "      <td>NaN</td>\n",
       "      <td>NaN</td>\n",
       "      <td>NaN</td>\n",
       "      <td>NaN</td>\n",
       "    </tr>\n",
       "    <tr>\n",
       "      <th>1057</th>\n",
       "      <td>AlexNet + coordinating filters</td>\n",
       "      <td>Vision</td>\n",
       "      <td>Image classification</td>\n",
       "      <td>Wei Wen, Cong Xu, Chunpeng Wu, Yandan Wang, Yi...</td>\n",
       "      <td>NaN</td>\n",
       "      <td>NaN</td>\n",
       "      <td>Fully open-source</td>\n",
       "      <td>https://arxiv.org/abs/1703.09746</td>\n",
       "      <td>172.0</td>\n",
       "      <td>Coordinating Filters for Faster Deep Neural Ne...</td>\n",
       "      <td>...</td>\n",
       "      <td>NaN</td>\n",
       "      <td>NaN</td>\n",
       "      <td>NaN</td>\n",
       "      <td>NaN</td>\n",
       "      <td>NaN</td>\n",
       "      <td>Academia,Academia</td>\n",
       "      <td>NaN</td>\n",
       "      <td>NaN</td>\n",
       "      <td>NaN</td>\n",
       "      <td>NaN</td>\n",
       "    </tr>\n",
       "    <tr>\n",
       "      <th>1087</th>\n",
       "      <td>BIDAF</td>\n",
       "      <td>Language</td>\n",
       "      <td>Question answering</td>\n",
       "      <td>Minjoon Seo, Aniruddha Kembhavi, Ali Farhadi, ...</td>\n",
       "      <td>Highly cited,SOTA improvement</td>\n",
       "      <td>\"Our experimental evaluations show that our mo...</td>\n",
       "      <td>Fully open-source</td>\n",
       "      <td>https://arxiv.org/abs/1611.01603v6</td>\n",
       "      <td>2246.0</td>\n",
       "      <td>Bidirectional Attention Flow for Machine Compr...</td>\n",
       "      <td>...</td>\n",
       "      <td>NaN</td>\n",
       "      <td>NaN</td>\n",
       "      <td>NaN</td>\n",
       "      <td>NaN</td>\n",
       "      <td>NaN</td>\n",
       "      <td>Academia,Research collective</td>\n",
       "      <td>NaN</td>\n",
       "      <td>NaN</td>\n",
       "      <td>NaN</td>\n",
       "      <td>480.0</td>\n",
       "    </tr>\n",
       "  </tbody>\n",
       "</table>\n",
       "<p>74 rows × 53 columns</p>\n",
       "</div>"
      ],
      "text/plain": [
       "                               System                      Domain  \\\n",
       "8                                 Aya                    Language   \n",
       "11         LLaVA-NeXT-34B (LLaVA-1.6)  Multimodal,Language,Vision   \n",
       "31    Poro34B (700B token checkpoint)                    Language   \n",
       "86                           Calm2-7B                    Language   \n",
       "88                         BlueLM 13B                    Language   \n",
       "...                               ...                         ...   \n",
       "937           Big-Little Net (vision)                      Vision   \n",
       "938           Big-Little Net (speech)                      Speech   \n",
       "963                            DNCON2                     Biology   \n",
       "1057   AlexNet + coordinating filters                      Vision   \n",
       "1087                            BIDAF                    Language   \n",
       "\n",
       "                                                   Task  \\\n",
       "8        Language modelling/generation,Chat,Translation   \n",
       "11    Visual question answering,Chat,Question answering   \n",
       "31        Code generation,Language modelling/generation   \n",
       "86                        Language modelling/generation   \n",
       "88                                                 Chat   \n",
       "...                                                 ...   \n",
       "937                                  Object recognition   \n",
       "938                                  Speech recognition   \n",
       "963                 Proteins,Protein folding prediction   \n",
       "1057                               Image classification   \n",
       "1087                                 Question answering   \n",
       "\n",
       "                                                Authors  \\\n",
       "8     Ahmet Üstün, Viraat Aryabumi, Zheng-Xin Yong, ...   \n",
       "11    Haotian Liu, Chunyuan Li, Yuheng Li, Bo Li, Yu...   \n",
       "31                                                  NaN   \n",
       "86                                     Ryosuke Ishigami   \n",
       "88                                                  NaN   \n",
       "...                                                 ...   \n",
       "937   Chun-Fu (Richard) Chen, Quanfu Fan, Neil Malli...   \n",
       "938   Chun-Fu (Richard) Chen, Quanfu Fan, Neil Malli...   \n",
       "963              Badri Adhikari, Jie Hou, Jianlin Cheng   \n",
       "1057  Wei Wen, Cong Xu, Chunpeng Wu, Yandan Wang, Yi...   \n",
       "1087  Minjoon Seo, Aniruddha Kembhavi, Ali Farhadi, ...   \n",
       "\n",
       "                Notability criteria  \\\n",
       "8                  SOTA improvement   \n",
       "11                              NaN   \n",
       "31                              NaN   \n",
       "86                              NaN   \n",
       "88                              NaN   \n",
       "...                             ...   \n",
       "937                             NaN   \n",
       "938                SOTA improvement   \n",
       "963                             NaN   \n",
       "1057                            NaN   \n",
       "1087  Highly cited,SOTA improvement   \n",
       "\n",
       "                              Notability criteria notes        Open-source  \\\n",
       "8     from abstract \"We introduce extensive new eval...  Fully open-source   \n",
       "11    \"SoTA Performance! LLaVA-NeXT achieves the bes...  Fully open-source   \n",
       "31                                                  NaN  Fully open-source   \n",
       "86                                                  NaN  Fully open-source   \n",
       "88                                                  NaN  Fully open-source   \n",
       "...                                                 ...                ...   \n",
       "937                                                 NaN  Fully open-source   \n",
       "938   \"Furthermore, our model surpasses state-of-the...  Fully open-source   \n",
       "963                                                 NaN  Fully open-source   \n",
       "1057                                                NaN  Fully open-source   \n",
       "1087  \"Our experimental evaluations show that our mo...  Fully open-source   \n",
       "\n",
       "                                                   Link  Citations  \\\n",
       "8                      https://arxiv.org/abs/2402.07827        2.0   \n",
       "11    https://llava-vl.github.io/blog/2024-01-30-lla...        NaN   \n",
       "31             https://huggingface.co/LumiOpen/Poro-34B        NaN   \n",
       "86           https://huggingface.co/cyberagent/calm2-7b        NaN   \n",
       "88                https://github.com/vivo-ai-lab/BlueLM        NaN   \n",
       "...                                                 ...        ...   \n",
       "937                    https://arxiv.org/abs/1807.03848       97.0   \n",
       "938                    https://arxiv.org/abs/1807.03848       80.0   \n",
       "963   https://academic.oup.com/bioinformatics/articl...      173.0   \n",
       "1057                   https://arxiv.org/abs/1703.09746      172.0   \n",
       "1087                 https://arxiv.org/abs/1611.01603v6     2246.0   \n",
       "\n",
       "                                              Reference  ...  \\\n",
       "8     Aya Model: An Instruction Finetuned Open-Acces...  ...   \n",
       "11    LLaVA-NeXT: Improved reasoning, OCR, and world...  ...   \n",
       "31                                 Poro 34B Model Card   ...   \n",
       "86     CyberAgentLM2-7B (CALM2-7B)   https://hugging...  ...   \n",
       "88                                                  NaN  ...   \n",
       "...                                                 ...  ...   \n",
       "937   BIG-LITTLE NET: AN EFFICIENT MULTI-SCALE FEATU...  ...   \n",
       "938   Big-Little Net: An Efficient Multi-Scale Featu...  ...   \n",
       "963   DNCON2: improved protein contact prediction us...  ...   \n",
       "1057  Coordinating Filters for Faster Deep Neural Ne...  ...   \n",
       "1087  Bidirectional Attention Flow for Machine Compr...  ...   \n",
       "\n",
       "     Training cloud compute vendor Training data center  Archived links  \\\n",
       "8                              NaN                  NaN             NaN   \n",
       "11                             NaN                  NaN             NaN   \n",
       "31                             NaN                  NaN             NaN   \n",
       "86                             NaN                  NaN             NaN   \n",
       "88                             NaN                  NaN             NaN   \n",
       "...                            ...                  ...             ...   \n",
       "937                            NaN                  NaN             NaN   \n",
       "938                            NaN                  NaN             NaN   \n",
       "963                            NaN                  NaN             NaN   \n",
       "1057                           NaN                  NaN             NaN   \n",
       "1087                           NaN                  NaN             NaN   \n",
       "\n",
       "     Batch size  Batch size notes  \\\n",
       "8           NaN               NaN   \n",
       "11          NaN               NaN   \n",
       "31          NaN               NaN   \n",
       "86          NaN               NaN   \n",
       "88          NaN               NaN   \n",
       "...         ...               ...   \n",
       "937         NaN               NaN   \n",
       "938         NaN               NaN   \n",
       "963         NaN               NaN   \n",
       "1057        NaN               NaN   \n",
       "1087        NaN               NaN   \n",
       "\n",
       "                       Organization categorization Foundation model  \\\n",
       "8     Industry,Academia,Industry,Academia,Academia              NaN   \n",
       "11             Academia,Industry,Academia,Academia              NaN   \n",
       "31                                        Academia              NaN   \n",
       "86                                        Industry              NaN   \n",
       "88                                        Industry              NaN   \n",
       "...                                            ...              ...   \n",
       "937                                       Industry              NaN   \n",
       "938                                       Industry              NaN   \n",
       "963                                            NaN              NaN   \n",
       "1057                             Academia,Academia              NaN   \n",
       "1087                  Academia,Research collective              NaN   \n",
       "\n",
       "     Training compute lower bound  Training compute upper bound  \\\n",
       "8                             NaN                           NaN   \n",
       "11                            NaN                           NaN   \n",
       "31                            NaN                           NaN   \n",
       "86                            NaN                           NaN   \n",
       "88                            NaN                           NaN   \n",
       "...                           ...                           ...   \n",
       "937                           NaN                           NaN   \n",
       "938                           NaN                           NaN   \n",
       "963                           NaN                           NaN   \n",
       "1057                          NaN                           NaN   \n",
       "1087                          NaN                           NaN   \n",
       "\n",
       "     Training chip-hours  \n",
       "8                    NaN  \n",
       "11                 768.0  \n",
       "31                   NaN  \n",
       "86                   NaN  \n",
       "88                   NaN  \n",
       "...                  ...  \n",
       "937                  NaN  \n",
       "938                  NaN  \n",
       "963                  NaN  \n",
       "1057                 NaN  \n",
       "1087               480.0  \n",
       "\n",
       "[74 rows x 53 columns]"
      ]
     },
     "execution_count": 11,
     "metadata": {},
     "output_type": "execute_result"
    }
   ],
   "source": [
    "access_df.loc[access_df['Open-source'] == 'Fully open-source']"
   ]
  },
  {
   "cell_type": "code",
   "execution_count": 13,
   "metadata": {},
   "outputs": [
    {
     "data": {
      "application/vnd.plotly.v1+json": {
       "config": {
        "plotlyServerURL": "https://plot.ly"
       },
       "data": [
        {
         "customdata": [
          [
           "StarCoder 2 15B"
          ],
          [
           "StarCoder 2 7B"
          ],
          [
           "StarCoder 2 3B"
          ],
          [
           "Gemma 7B"
          ],
          [
           "Code Llama-70B"
          ],
          [
           "DeepSeekMoE-16B"
          ],
          [
           "DeepSeek LLM 67B"
          ],
          [
           "Mamba-2.8B"
          ],
          [
           "Qwen-72B"
          ],
          [
           "Orca 2-13B"
          ],
          [
           "Nemotron-3-8B"
          ],
          [
           "MultiBand Diffusion"
          ],
          [
           "Whisper v3"
          ],
          [
           "CogVLM"
          ],
          [
           "LLaVA 1.5"
          ],
          [
           "DeepSeek Coder 33B"
          ],
          [
           "Yi-34B"
          ],
          [
           "Nanbeige-16B"
          ],
          [
           "Skywork-13B"
          ],
          [
           "CodeFuse-13B"
          ],
          [
           "Qwen-14B"
          ],
          [
           "Qwen-7B"
          ],
          [
           "BTLM-3B"
          ],
          [
           "Phi-1.5"
          ],
          [
           "XGen-7B"
          ],
          [
           "Falcon 180B"
          ],
          [
           "Baichuan2-13B"
          ],
          [
           "TigerBot-70B"
          ],
          [
           "Refact-1.6B"
          ],
          [
           "PULI GPTrio"
          ],
          [
           "DeciCoder"
          ],
          [
           "Code Llama-34B"
          ],
          [
           "Code Llama-7B"
          ],
          [
           "Japanese StableLM Base Alpha 7B"
          ],
          [
           "StableLM-Base-Alpha-7B"
          ],
          [
           "JIANG"
          ],
          [
           "bilingual-gpt-neox-4b"
          ],
          [
           "CodeGen2.5"
          ],
          [
           "MPT-30B"
          ],
          [
           "RedPajama-INCITE-7B-Base"
          ],
          [
           "Polyglot-Ko-12.8B"
          ],
          [
           "ONE-PEACE"
          ],
          [
           "OpenLLaMA-13B"
          ],
          [
           "MOSS-Moon-003"
          ],
          [
           "Incoder-6.7B"
          ],
          [
           "Segment Anything Model"
          ],
          [
           "AudioGen"
          ],
          [
           "Palmyra Large 20B"
          ],
          [
           "gpt-sw3-40b"
          ],
          [
           "SantaCoder"
          ],
          [
           "Whisper v2"
          ],
          [
           "BLOOM-176B"
          ],
          [
           "BlenderBot 3"
          ],
          [
           "CodeGeeX"
          ],
          [
           "Fairseq-dense 13B"
          ],
          [
           "MegaMolBART"
          ],
          [
           "ByT5-XXL"
          ],
          [
           "ViT + DINO"
          ],
          [
           "BigGAN-deep 512x512"
          ]
         ],
         "hovertemplate": "Open-source=Permissive license<br>Publication date=%{x}<br>Training compute (FLOP)=%{y}<br>System=%{customdata[0]}<extra></extra>",
         "legendgroup": "Permissive license",
         "marker": {
          "color": "#636efa",
          "symbol": "circle"
         },
         "mode": "markers",
         "name": "Permissive license",
         "orientation": "v",
         "showlegend": true,
         "type": "scatter",
         "x": [
          "2024-02-29",
          "2024-02-29",
          "2024-02-29",
          "2024-02-21",
          "2024-01-29",
          "2024-01-11",
          "2024-01-05",
          "2023-12-01",
          "2023-11-30",
          "2023-11-21",
          "2023-11-15",
          "2023-11-08",
          "2023-11-06",
          "2023-11-06",
          "2023-11-05",
          "2023-11-02",
          "2023-11-02",
          "2023-11-01",
          "2023-10-30",
          "2023-10-10",
          "2023-09-28",
          "2023-09-28",
          "2023-09-20",
          "2023-09-11",
          "2023-09-07",
          "2023-09-06",
          "2023-09-06",
          "2023-09-06",
          "2023-08-29",
          "2023-08-23",
          "2023-08-15",
          "2023-08-14",
          "2023-08-14",
          "2023-08-10",
          "2023-08-05",
          "2023-08-01",
          "2023-07-31",
          "2023-07-06",
          "2023-06-22",
          "2023-06-06",
          "2023-06-04",
          "2023-05-18",
          "2023-05-01",
          "2023-04-19",
          "2023-04-09",
          "2023-04-05",
          "2023-03-05",
          "2023-03-01",
          "2023-03-01",
          "2023-01-09",
          "2022-12-05",
          "2022-11-08",
          "2022-08-10",
          "2022-06-22",
          "2021-12-20",
          "2021-09-14",
          "2021-05-28",
          "2021-04-29",
          "2018-09-28"
         ],
         "xaxis": "x",
         "y": [
          3.87e+23,
          1.55e+23,
          5.94e+22,
          2.52e+23,
          1.230000000001e+24,
          3.4e+22,
          8.04e+23,
          5.400000000000001e+21,
          1.3e+24,
          4.6e+22,
          1.8e+23,
          26000000000000000000,
          2.7e+23,
          1.988064e+22,
          65000000000000000000,
          3.96e+23,
          6.1e+23,
          2.4e+23,
          2.5e+23,
          3.3e+23,
          2.5e+23,
          1.0099999999999998e+23,
          9.8e+21,
          1.17e+21,
          8.02e+22,
          3.76e+24,
          2.03e+23,
          1.02e+24,
          1.152e+22,
          5.8e+21,
          2.9e+21,
          5.3e+23,
          1.1e+23,
          3.15e+22,
          4.5e+22,
          4.03e+22,
          1.2e+22,
          5.899999999999999e+22,
          1.8e+23,
          4.1e+22,
          1.28e+22,
          180000000000000000000,
          7.8e+22,
          6.669999999999999e+22,
          3.00001e+21,
          7.8e+21,
          7.2e+21,
          9.6e+22,
          7.68e+22,
          2.1e+21,
          1.1e+23,
          3.6e+23,
          4.3e+23,
          6.630000000001e+22,
          3.267e+22,
          720000000000000000000,
          8.1e+22,
          209999999999999970000,
          3.00000000001e+21
         ],
         "yaxis": "y"
        },
        {
         "customdata": [
          [
           "Mistral Large"
          ],
          [
           "Phi-2"
          ],
          [
           "Granite 13B"
          ],
          [
           "Cohere Command Light"
          ],
          [
           "Inflection-2"
          ],
          [
           "Claude 2"
          ],
          [
           "Inflection-1"
          ],
          [
           "PaLM 2"
          ],
          [
           "GPT-4"
          ],
          [
           "GPT-3.5 (text-davinci-003)"
          ],
          [
           "DiffDock"
          ],
          [
           "EquiDock"
          ],
          [
           "GPT-3 175B (davinci)"
          ]
         ],
         "hovertemplate": "Open-source=API accessible<br>Publication date=%{x}<br>Training compute (FLOP)=%{y}<br>System=%{customdata[0]}<extra></extra>",
         "legendgroup": "API accessible",
         "marker": {
          "color": "#EF553B",
          "symbol": "circle"
         },
         "mode": "markers",
         "name": "API accessible",
         "orientation": "v",
         "showlegend": true,
         "type": "scatter",
         "x": [
          "2024-02-26",
          "2023-12-12",
          "2023-11-30",
          "2023-11-30",
          "2023-11-22",
          "2023-07-11",
          "2023-06-23",
          "2023-05-10",
          "2023-03-15",
          "2022-11-28",
          "2022-10-04",
          "2021-11-15",
          "2020-05-28"
         ],
         "xaxis": "x",
         "y": [
          2.0000000001e+25,
          2.27e+22,
          2.44e+23,
          1.001e+22,
          1.001e+25,
          3.866e+24,
          1.0001e+24,
          7.34e+24,
          2.1e+25,
          2.578e+24,
          72000000000000000000,
          10800000000000000000,
          3.14e+23
         ],
         "yaxis": "y"
        },
        {
         "customdata": [
          [
           "Aya"
          ],
          [
           "LLaVA-NeXT-34B (LLaVA-1.6)"
          ],
          [
           "Poro34B (700B token checkpoint)"
          ],
          [
           "Calm2-7B"
          ],
          [
           "BlueLM 13B"
          ],
          [
           "Stockmark-13B"
          ],
          [
           "LLaMA-7B (protein-oriented instructions finetuned)"
          ],
          [
           "TinyLlama-1.1B (1T token checkpoint)"
          ],
          [
           "TinyLlama-1.1B (3T token checkpoint)"
          ],
          [
           "PLaMo-13B"
          ],
          [
           "InternLM-XComposer"
          ],
          [
           "MADLAD-400 10B"
          ],
          [
           "Llama 2-70B"
          ],
          [
           "Llama 2-7B"
          ],
          [
           "Llama 2-13B"
          ],
          [
           "Kosmos-2"
          ],
          [
           "StarCoder"
          ],
          [
           "MPT-7B"
          ],
          [
           "WizardLM-7B"
          ],
          [
           "Falcon-7B"
          ],
          [
           "LLaVA"
          ],
          [
           "DINOv2"
          ],
          [
           "gLM"
          ],
          [
           "VideoMAE V2"
          ],
          [
           "Falcon-40B"
          ],
          [
           "LLaMA-33B"
          ],
          [
           "LLaMA-65B"
          ],
          [
           "LLaMA-7B"
          ],
          [
           "Flan T5-XXL + BLIP-2"
          ],
          [
           "Ankh_large"
          ],
          [
           "Ankh_base"
          ],
          [
           "DNA Fine-Tuned Language Model (DFLM)"
          ],
          [
           "EVA"
          ],
          [
           "ESM2-15B"
          ],
          [
           "ESM2-3B"
          ],
          [
           "ESM2-650M"
          ],
          [
           "ESM2-150M"
          ],
          [
           "ESM2-35M"
          ],
          [
           "ESM2-8M"
          ],
          [
           "DALL-E mega"
          ],
          [
           "OPT-66B"
          ],
          [
           "Unified-IO"
          ],
          [
           "OPT-175B"
          ],
          [
           "BERT-RBP"
          ],
          [
           "GPT-NeoX-20B"
          ],
          [
           "Detic"
          ],
          [
           "XGLM-7.5B"
          ],
          [
           "ESM1v"
          ],
          [
           "DALL-E mini"
          ],
          [
           "DNABERT"
          ],
          [
           "GPT-J-6B"
          ],
          [
           "ResNet-RS"
          ],
          [
           "MSA Transformer"
          ],
          [
           "DensePhrases"
          ],
          [
           "ESM1b"
          ],
          [
           "GBERT-Large"
          ],
          [
           "German ELECTRA Large"
          ],
          [
           "LUKE"
          ],
          [
           "ESM1-670M (UR50/S)"
          ],
          [
           "ESM1-670M (UR50/D)"
          ],
          [
           "ESM1-670M (UR100)"
          ],
          [
           "ESM1-85M"
          ],
          [
           "ESM1-43M"
          ],
          [
           "mBART-50"
          ],
          [
           "CamemBERT"
          ],
          [
           "Self-Attention and Convolutional Layers"
          ],
          [
           "SciBERT"
          ],
          [
           "DMPFold"
          ],
          [
           "BERT-Large"
          ],
          [
           "Big-Little Net (vision)"
          ],
          [
           "Big-Little Net (speech)"
          ],
          [
           "DNCON2"
          ],
          [
           "AlexNet + coordinating filters"
          ],
          [
           "BIDAF"
          ]
         ],
         "hovertemplate": "Open-source=Fully open-source<br>Publication date=%{x}<br>Training compute (FLOP)=%{y}<br>System=%{customdata[0]}<extra></extra>",
         "legendgroup": "Fully open-source",
         "marker": {
          "color": "#00cc96",
          "symbol": "circle"
         },
         "mode": "markers",
         "name": "Fully open-source",
         "orientation": "v",
         "showlegend": true,
         "type": "scatter",
         "x": [
          "2024-02-12",
          "2024-01-30",
          "2023-12-14",
          "2023-11-01",
          "2023-10-31",
          "2023-10-23",
          "2023-10-02",
          "2023-10-01",
          "2023-10-01",
          "2023-09-28",
          "2023-09-26",
          "2023-09-09",
          "2023-07-18",
          "2023-07-18",
          "2023-07-18",
          "2023-06-26",
          "2023-05-09",
          "2023-05-05",
          "2023-04-24",
          "2023-04-24",
          "2023-04-17",
          "2023-04-14",
          "2023-04-08",
          "2023-03-29",
          "2023-03-15",
          "2023-02-27",
          "2023-02-24",
          "2023-02-24",
          "2023-01-30",
          "2023-01-16",
          "2023-01-16",
          "2023-01-02",
          "2022-11-14",
          "2022-07-21",
          "2022-07-21",
          "2022-07-21",
          "2022-07-21",
          "2022-07-21",
          "2022-07-21",
          "2022-06-28",
          "2022-06-21",
          "2022-06-17",
          "2022-05-02",
          "2022-04-07",
          "2022-02-09",
          "2022-01-07",
          "2021-12-20",
          "2021-11-17",
          "2021-10-26",
          "2021-08-15",
          "2021-05-01",
          "2021-03-13",
          "2021-02-13",
          "2020-12-23",
          "2020-12-15",
          "2020-10-21",
          "2020-10-21",
          "2020-10-02",
          "2020-08-31",
          "2020-08-31",
          "2020-08-31",
          "2020-08-31",
          "2020-08-31",
          "2020-08-02",
          "2019-11-10",
          "2019-11-08",
          "2019-03-26",
          "2018-11-29",
          "2018-10-11",
          "2018-07-10",
          "2018-07-10",
          "2018-05-01",
          "2017-03-28",
          "2016-11-05"
         ],
         "xaxis": "x",
         "y": [
          1.22683392e+21,
          258785280000000000000,
          1.53e+23,
          5.459999999999999e+22,
          1.0920000000001e+23,
          1.7160000000000002e+22,
          2.78e+22,
          7.24598784e+21,
          2.173796352e+22,
          1.17e+23,
          3.4504704e+21,
          1.605e+22,
          8.1e+23,
          8.4e+22,
          1.6e+23,
          250026393600000000000,
          1.12e+23,
          4.2e+22,
          4.02e+22,
          6.3e+22,
          48522240000000000000,
          7.41851136e+21,
          151000000000000000000,
          9.7e+21,
          2.4e+23,
          2.7300000000000996e+23,
          5.5e+23,
          2.78e+22,
          1.2e+21,
          6.5e+21,
          2.6e+21,
          3500000000000000000,
          3.7509433344e+21,
          7.350000000009999e+22,
          3.0000000009999997e+22,
          7.560000000001e+21,
          1.1e+21,
          209999999999999970000,
          48000000000000000000,
          228527308800000000000,
          1.100000000001e+23,
          3.5e+21,
          4.3e+23,
          140000000000000000000,
          9.31627008e+22,
          23439974400000000000,
          4.347592704e+22,
          135000000000000080000,
          382579200000000000,
          140000000000000000000,
          1.5e+22,
          1.763328e+22,
          5.49e+21,
          2099520000000000000,
          460000000000000070000,
          2.24446464e+21,
          1.42829568e+21,
          175799808000000000000,
          440000000000000000000,
          480000000000000000000,
          140000000000000000000,
          56000000000000000000,
          28000000000000000000,
          3.281596416e+21,
          830000000000000000000,
          675000000000000000,
          89268480000000000000,
          12000000000000,
          285000000000000000000,
          3936768000000000000,
          429004800000000000,
          95000000000000000,
          1557140125176000000,
          3468614400000000000
         ],
         "yaxis": "y"
        },
        {
         "customdata": [
          [
           "StableLM-2-1.6B"
          ],
          [
           "Stable Code 3B"
          ],
          [
           "XVERSE-65B-2"
          ],
          [
           "PeptideBERT"
          ],
          [
           "IDEFICS"
          ],
          [
           "Weblab-10B"
          ],
          [
           "xTrimoPGLM -100B"
          ],
          [
           "ProtGPT2"
          ],
          [
           "Rita-XLarge"
          ],
          [
           "ProGen2-xlarge"
          ],
          [
           "Tranception"
          ],
          [
           "ProteinLM"
          ],
          [
           "ProtT5-XXL-BFD"
          ],
          [
           "ProtBERT-BFD"
          ],
          [
           "SeqVec"
          ],
          [
           "UDSMProt"
          ],
          [
           "TAPE Transformer"
          ],
          [
           "UniRep"
          ],
          [
           "SPIDER2"
          ]
         ],
         "hovertemplate": "Open-source=Weights available<br>Publication date=%{x}<br>Training compute (FLOP)=%{y}<br>System=%{customdata[0]}<extra></extra>",
         "legendgroup": "Weights available",
         "marker": {
          "color": "#ab63fa",
          "symbol": "circle"
         },
         "mode": "markers",
         "name": "Weights available",
         "orientation": "v",
         "showlegend": true,
         "type": "scatter",
         "x": [
          "2024-01-18",
          "2024-01-09",
          "2023-12-08",
          "2023-08-28",
          "2023-08-22",
          "2023-08-04",
          "2023-07-06",
          "2022-07-27",
          "2022-07-14",
          "2022-06-27",
          "2022-05-27",
          "2021-08-17",
          "2021-05-04",
          "2021-05-04",
          "2019-12-17",
          "2019-09-04",
          "2019-06-19",
          "2019-03-26",
          "2016-10-28"
         ],
         "xaxis": "x",
         "y": [
          1.92e+22,
          2.106e+22,
          1.24800000000001e+24,
          7.6e+21,
          1.1593580544e+23,
          3.6e+22,
          6.0001e+23,
          4.1e+21,
          3.4e+21,
          1.35e+22,
          7.240000000000001e+21,
          1.5999999999999998e+22,
          3.7e+22,
          3.9e+22,
          41000000000000000000,
          890000000000000000,
          30000000000000000000,
          22000000000000000000,
          8540000000000
         ],
         "yaxis": "y"
        },
        {
         "customdata": [
          [
           "Llama 2-34B"
          ],
          [
           "VALL-E"
          ],
          [
           "U-PaLM (540B)"
          ],
          [
           "EMDR"
          ],
          [
           "MedBERT"
          ]
         ],
         "hovertemplate": "Open-source=Unreleased<br>Publication date=%{x}<br>Training compute (FLOP)=%{y}<br>System=%{customdata[0]}<extra></extra>",
         "legendgroup": "Unreleased",
         "marker": {
          "color": "#FFA15A",
          "symbol": "circle"
         },
         "mode": "markers",
         "name": "Unreleased",
         "orientation": "v",
         "showlegend": true,
         "type": "scatter",
         "x": [
          "2023-07-18",
          "2023-01-05",
          "2022-10-20",
          "2021-06-09",
          "2021-05-20"
         ],
         "xaxis": "x",
         "y": [
          4.08e+23,
          10100000000000000000,
          2.53e+24,
          1.24e+21,
          8545824000000000000
         ],
         "yaxis": "y"
        }
       ],
       "layout": {
        "legend": {
         "title": {
          "text": "Open-source"
         },
         "tracegroupgap": 0
        },
        "margin": {
         "t": 60
        },
        "template": {
         "data": {
          "bar": [
           {
            "error_x": {
             "color": "#2a3f5f"
            },
            "error_y": {
             "color": "#2a3f5f"
            },
            "marker": {
             "line": {
              "color": "#E5ECF6",
              "width": 0.5
             },
             "pattern": {
              "fillmode": "overlay",
              "size": 10,
              "solidity": 0.2
             }
            },
            "type": "bar"
           }
          ],
          "barpolar": [
           {
            "marker": {
             "line": {
              "color": "#E5ECF6",
              "width": 0.5
             },
             "pattern": {
              "fillmode": "overlay",
              "size": 10,
              "solidity": 0.2
             }
            },
            "type": "barpolar"
           }
          ],
          "carpet": [
           {
            "aaxis": {
             "endlinecolor": "#2a3f5f",
             "gridcolor": "white",
             "linecolor": "white",
             "minorgridcolor": "white",
             "startlinecolor": "#2a3f5f"
            },
            "baxis": {
             "endlinecolor": "#2a3f5f",
             "gridcolor": "white",
             "linecolor": "white",
             "minorgridcolor": "white",
             "startlinecolor": "#2a3f5f"
            },
            "type": "carpet"
           }
          ],
          "choropleth": [
           {
            "colorbar": {
             "outlinewidth": 0,
             "ticks": ""
            },
            "type": "choropleth"
           }
          ],
          "contour": [
           {
            "colorbar": {
             "outlinewidth": 0,
             "ticks": ""
            },
            "colorscale": [
             [
              0,
              "#0d0887"
             ],
             [
              0.1111111111111111,
              "#46039f"
             ],
             [
              0.2222222222222222,
              "#7201a8"
             ],
             [
              0.3333333333333333,
              "#9c179e"
             ],
             [
              0.4444444444444444,
              "#bd3786"
             ],
             [
              0.5555555555555556,
              "#d8576b"
             ],
             [
              0.6666666666666666,
              "#ed7953"
             ],
             [
              0.7777777777777778,
              "#fb9f3a"
             ],
             [
              0.8888888888888888,
              "#fdca26"
             ],
             [
              1,
              "#f0f921"
             ]
            ],
            "type": "contour"
           }
          ],
          "contourcarpet": [
           {
            "colorbar": {
             "outlinewidth": 0,
             "ticks": ""
            },
            "type": "contourcarpet"
           }
          ],
          "heatmap": [
           {
            "colorbar": {
             "outlinewidth": 0,
             "ticks": ""
            },
            "colorscale": [
             [
              0,
              "#0d0887"
             ],
             [
              0.1111111111111111,
              "#46039f"
             ],
             [
              0.2222222222222222,
              "#7201a8"
             ],
             [
              0.3333333333333333,
              "#9c179e"
             ],
             [
              0.4444444444444444,
              "#bd3786"
             ],
             [
              0.5555555555555556,
              "#d8576b"
             ],
             [
              0.6666666666666666,
              "#ed7953"
             ],
             [
              0.7777777777777778,
              "#fb9f3a"
             ],
             [
              0.8888888888888888,
              "#fdca26"
             ],
             [
              1,
              "#f0f921"
             ]
            ],
            "type": "heatmap"
           }
          ],
          "heatmapgl": [
           {
            "colorbar": {
             "outlinewidth": 0,
             "ticks": ""
            },
            "colorscale": [
             [
              0,
              "#0d0887"
             ],
             [
              0.1111111111111111,
              "#46039f"
             ],
             [
              0.2222222222222222,
              "#7201a8"
             ],
             [
              0.3333333333333333,
              "#9c179e"
             ],
             [
              0.4444444444444444,
              "#bd3786"
             ],
             [
              0.5555555555555556,
              "#d8576b"
             ],
             [
              0.6666666666666666,
              "#ed7953"
             ],
             [
              0.7777777777777778,
              "#fb9f3a"
             ],
             [
              0.8888888888888888,
              "#fdca26"
             ],
             [
              1,
              "#f0f921"
             ]
            ],
            "type": "heatmapgl"
           }
          ],
          "histogram": [
           {
            "marker": {
             "pattern": {
              "fillmode": "overlay",
              "size": 10,
              "solidity": 0.2
             }
            },
            "type": "histogram"
           }
          ],
          "histogram2d": [
           {
            "colorbar": {
             "outlinewidth": 0,
             "ticks": ""
            },
            "colorscale": [
             [
              0,
              "#0d0887"
             ],
             [
              0.1111111111111111,
              "#46039f"
             ],
             [
              0.2222222222222222,
              "#7201a8"
             ],
             [
              0.3333333333333333,
              "#9c179e"
             ],
             [
              0.4444444444444444,
              "#bd3786"
             ],
             [
              0.5555555555555556,
              "#d8576b"
             ],
             [
              0.6666666666666666,
              "#ed7953"
             ],
             [
              0.7777777777777778,
              "#fb9f3a"
             ],
             [
              0.8888888888888888,
              "#fdca26"
             ],
             [
              1,
              "#f0f921"
             ]
            ],
            "type": "histogram2d"
           }
          ],
          "histogram2dcontour": [
           {
            "colorbar": {
             "outlinewidth": 0,
             "ticks": ""
            },
            "colorscale": [
             [
              0,
              "#0d0887"
             ],
             [
              0.1111111111111111,
              "#46039f"
             ],
             [
              0.2222222222222222,
              "#7201a8"
             ],
             [
              0.3333333333333333,
              "#9c179e"
             ],
             [
              0.4444444444444444,
              "#bd3786"
             ],
             [
              0.5555555555555556,
              "#d8576b"
             ],
             [
              0.6666666666666666,
              "#ed7953"
             ],
             [
              0.7777777777777778,
              "#fb9f3a"
             ],
             [
              0.8888888888888888,
              "#fdca26"
             ],
             [
              1,
              "#f0f921"
             ]
            ],
            "type": "histogram2dcontour"
           }
          ],
          "mesh3d": [
           {
            "colorbar": {
             "outlinewidth": 0,
             "ticks": ""
            },
            "type": "mesh3d"
           }
          ],
          "parcoords": [
           {
            "line": {
             "colorbar": {
              "outlinewidth": 0,
              "ticks": ""
             }
            },
            "type": "parcoords"
           }
          ],
          "pie": [
           {
            "automargin": true,
            "type": "pie"
           }
          ],
          "scatter": [
           {
            "fillpattern": {
             "fillmode": "overlay",
             "size": 10,
             "solidity": 0.2
            },
            "type": "scatter"
           }
          ],
          "scatter3d": [
           {
            "line": {
             "colorbar": {
              "outlinewidth": 0,
              "ticks": ""
             }
            },
            "marker": {
             "colorbar": {
              "outlinewidth": 0,
              "ticks": ""
             }
            },
            "type": "scatter3d"
           }
          ],
          "scattercarpet": [
           {
            "marker": {
             "colorbar": {
              "outlinewidth": 0,
              "ticks": ""
             }
            },
            "type": "scattercarpet"
           }
          ],
          "scattergeo": [
           {
            "marker": {
             "colorbar": {
              "outlinewidth": 0,
              "ticks": ""
             }
            },
            "type": "scattergeo"
           }
          ],
          "scattergl": [
           {
            "marker": {
             "colorbar": {
              "outlinewidth": 0,
              "ticks": ""
             }
            },
            "type": "scattergl"
           }
          ],
          "scattermapbox": [
           {
            "marker": {
             "colorbar": {
              "outlinewidth": 0,
              "ticks": ""
             }
            },
            "type": "scattermapbox"
           }
          ],
          "scatterpolar": [
           {
            "marker": {
             "colorbar": {
              "outlinewidth": 0,
              "ticks": ""
             }
            },
            "type": "scatterpolar"
           }
          ],
          "scatterpolargl": [
           {
            "marker": {
             "colorbar": {
              "outlinewidth": 0,
              "ticks": ""
             }
            },
            "type": "scatterpolargl"
           }
          ],
          "scatterternary": [
           {
            "marker": {
             "colorbar": {
              "outlinewidth": 0,
              "ticks": ""
             }
            },
            "type": "scatterternary"
           }
          ],
          "surface": [
           {
            "colorbar": {
             "outlinewidth": 0,
             "ticks": ""
            },
            "colorscale": [
             [
              0,
              "#0d0887"
             ],
             [
              0.1111111111111111,
              "#46039f"
             ],
             [
              0.2222222222222222,
              "#7201a8"
             ],
             [
              0.3333333333333333,
              "#9c179e"
             ],
             [
              0.4444444444444444,
              "#bd3786"
             ],
             [
              0.5555555555555556,
              "#d8576b"
             ],
             [
              0.6666666666666666,
              "#ed7953"
             ],
             [
              0.7777777777777778,
              "#fb9f3a"
             ],
             [
              0.8888888888888888,
              "#fdca26"
             ],
             [
              1,
              "#f0f921"
             ]
            ],
            "type": "surface"
           }
          ],
          "table": [
           {
            "cells": {
             "fill": {
              "color": "#EBF0F8"
             },
             "line": {
              "color": "white"
             }
            },
            "header": {
             "fill": {
              "color": "#C8D4E3"
             },
             "line": {
              "color": "white"
             }
            },
            "type": "table"
           }
          ]
         },
         "layout": {
          "annotationdefaults": {
           "arrowcolor": "#2a3f5f",
           "arrowhead": 0,
           "arrowwidth": 1
          },
          "autotypenumbers": "strict",
          "coloraxis": {
           "colorbar": {
            "outlinewidth": 0,
            "ticks": ""
           }
          },
          "colorscale": {
           "diverging": [
            [
             0,
             "#8e0152"
            ],
            [
             0.1,
             "#c51b7d"
            ],
            [
             0.2,
             "#de77ae"
            ],
            [
             0.3,
             "#f1b6da"
            ],
            [
             0.4,
             "#fde0ef"
            ],
            [
             0.5,
             "#f7f7f7"
            ],
            [
             0.6,
             "#e6f5d0"
            ],
            [
             0.7,
             "#b8e186"
            ],
            [
             0.8,
             "#7fbc41"
            ],
            [
             0.9,
             "#4d9221"
            ],
            [
             1,
             "#276419"
            ]
           ],
           "sequential": [
            [
             0,
             "#0d0887"
            ],
            [
             0.1111111111111111,
             "#46039f"
            ],
            [
             0.2222222222222222,
             "#7201a8"
            ],
            [
             0.3333333333333333,
             "#9c179e"
            ],
            [
             0.4444444444444444,
             "#bd3786"
            ],
            [
             0.5555555555555556,
             "#d8576b"
            ],
            [
             0.6666666666666666,
             "#ed7953"
            ],
            [
             0.7777777777777778,
             "#fb9f3a"
            ],
            [
             0.8888888888888888,
             "#fdca26"
            ],
            [
             1,
             "#f0f921"
            ]
           ],
           "sequentialminus": [
            [
             0,
             "#0d0887"
            ],
            [
             0.1111111111111111,
             "#46039f"
            ],
            [
             0.2222222222222222,
             "#7201a8"
            ],
            [
             0.3333333333333333,
             "#9c179e"
            ],
            [
             0.4444444444444444,
             "#bd3786"
            ],
            [
             0.5555555555555556,
             "#d8576b"
            ],
            [
             0.6666666666666666,
             "#ed7953"
            ],
            [
             0.7777777777777778,
             "#fb9f3a"
            ],
            [
             0.8888888888888888,
             "#fdca26"
            ],
            [
             1,
             "#f0f921"
            ]
           ]
          },
          "colorway": [
           "#636efa",
           "#EF553B",
           "#00cc96",
           "#ab63fa",
           "#FFA15A",
           "#19d3f3",
           "#FF6692",
           "#B6E880",
           "#FF97FF",
           "#FECB52"
          ],
          "font": {
           "color": "#2a3f5f"
          },
          "geo": {
           "bgcolor": "white",
           "lakecolor": "white",
           "landcolor": "#E5ECF6",
           "showlakes": true,
           "showland": true,
           "subunitcolor": "white"
          },
          "hoverlabel": {
           "align": "left"
          },
          "hovermode": "closest",
          "mapbox": {
           "style": "light"
          },
          "paper_bgcolor": "white",
          "plot_bgcolor": "#E5ECF6",
          "polar": {
           "angularaxis": {
            "gridcolor": "white",
            "linecolor": "white",
            "ticks": ""
           },
           "bgcolor": "#E5ECF6",
           "radialaxis": {
            "gridcolor": "white",
            "linecolor": "white",
            "ticks": ""
           }
          },
          "scene": {
           "xaxis": {
            "backgroundcolor": "#E5ECF6",
            "gridcolor": "white",
            "gridwidth": 2,
            "linecolor": "white",
            "showbackground": true,
            "ticks": "",
            "zerolinecolor": "white"
           },
           "yaxis": {
            "backgroundcolor": "#E5ECF6",
            "gridcolor": "white",
            "gridwidth": 2,
            "linecolor": "white",
            "showbackground": true,
            "ticks": "",
            "zerolinecolor": "white"
           },
           "zaxis": {
            "backgroundcolor": "#E5ECF6",
            "gridcolor": "white",
            "gridwidth": 2,
            "linecolor": "white",
            "showbackground": true,
            "ticks": "",
            "zerolinecolor": "white"
           }
          },
          "shapedefaults": {
           "line": {
            "color": "#2a3f5f"
           }
          },
          "ternary": {
           "aaxis": {
            "gridcolor": "white",
            "linecolor": "white",
            "ticks": ""
           },
           "baxis": {
            "gridcolor": "white",
            "linecolor": "white",
            "ticks": ""
           },
           "bgcolor": "#E5ECF6",
           "caxis": {
            "gridcolor": "white",
            "linecolor": "white",
            "ticks": ""
           }
          },
          "title": {
           "x": 0.05
          },
          "xaxis": {
           "automargin": true,
           "gridcolor": "white",
           "linecolor": "white",
           "ticks": "",
           "title": {
            "standoff": 15
           },
           "zerolinecolor": "white",
           "zerolinewidth": 2
          },
          "yaxis": {
           "automargin": true,
           "gridcolor": "white",
           "linecolor": "white",
           "ticks": "",
           "title": {
            "standoff": 15
           },
           "zerolinecolor": "white",
           "zerolinewidth": 2
          }
         }
        },
        "xaxis": {
         "anchor": "y",
         "domain": [
          0,
          1
         ],
         "title": {
          "text": "Publication date"
         }
        },
        "yaxis": {
         "anchor": "x",
         "domain": [
          0,
          1
         ],
         "title": {
          "text": "Training compute (FLOP)"
         },
         "type": "log"
        }
       }
      }
     },
     "metadata": {},
     "output_type": "display_data"
    }
   ],
   "source": [
    "fig = px.scatter(\n",
    "    access_df,\n",
    "    x='Publication date',\n",
    "    y='Training compute (FLOP)',\n",
    "    color='Open-source',\n",
    "    hover_data=['System'],\n",
    "    log_y=True,\n",
    ")\n",
    "\n",
    "save_plot(fig, results_dir, 'training_compute_by_open-source')\n",
    "\n",
    "fig.show()"
   ]
  },
  {
   "cell_type": "code",
   "execution_count": null,
   "metadata": {},
   "outputs": [
    {
     "data": {
      "text/plain": [
       "808    NaN\n",
       "Name: Open-source, dtype: object"
      ]
     },
     "execution_count": 15,
     "metadata": {},
     "output_type": "execute_result"
    }
   ],
   "source": [
    "pcd_df.loc[pcd_df['System'] == 'Megatron-BERT']['Open-source']"
   ]
  },
  {
   "cell_type": "code",
   "execution_count": 14,
   "metadata": {},
   "outputs": [
    {
     "name": "stdout",
     "output_type": "stream",
     "text": [
      "Permissive license 59\n",
      "API accessible 13\n",
      "Fully open-source 74\n",
      "Weights available 19\n",
      "Unreleased 5\n"
     ]
    }
   ],
   "source": [
    "for cat in access_df['Open-source'].unique():\n",
    "    print(cat, len(access_df.loc[access_df['Open-source'] == cat]))"
   ]
  },
  {
   "cell_type": "code",
   "execution_count": null,
   "metadata": {},
   "outputs": [],
   "source": []
  }
 ],
 "metadata": {
  "kernelspec": {
   "display_name": "epoch",
   "language": "python",
   "name": "python3"
  },
  "language_info": {
   "codemirror_mode": {
    "name": "ipython",
    "version": 3
   },
   "file_extension": ".py",
   "mimetype": "text/x-python",
   "name": "python",
   "nbconvert_exporter": "python",
   "pygments_lexer": "ipython3",
   "version": "3.11.4"
  }
 },
 "nbformat": 4,
 "nbformat_minor": 2
}
