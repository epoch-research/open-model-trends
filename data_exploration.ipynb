{
 "cells": [
  {
   "cell_type": "code",
   "execution_count": 1,
   "metadata": {},
   "outputs": [],
   "source": [
    "%load_ext autoreload\n",
    "%autoreload 2"
   ]
  },
  {
   "cell_type": "code",
   "execution_count": 2,
   "metadata": {},
   "outputs": [],
   "source": [
    "import numpy as np\n",
    "import os\n",
    "import pandas as pd\n",
    "import plotly.express as px\n",
    "import plotly.graph_objects as go\n",
    "from plotly.subplots import make_subplots\n",
    "import matplotlib.pyplot as plt\n",
    "\n",
    "from data import *\n",
    "from plotting import *\n",
    "from regression import *\n",
    "from utils import *"
   ]
  },
  {
   "cell_type": "code",
   "execution_count": 3,
   "metadata": {},
   "outputs": [],
   "source": [
    "results_dir = 'results/accessibility/11Oct/'\n",
    "os.makedirs(results_dir, exist_ok=True)"
   ]
  },
  {
   "cell_type": "code",
   "execution_count": 4,
   "metadata": {},
   "outputs": [
    {
     "data": {
      "text/plain": [
       "1088"
      ]
     },
     "execution_count": 4,
     "metadata": {},
     "output_type": "execute_result"
    }
   ],
   "source": [
    "# Load data\n",
    "pcd_df = load_pcd_df()\n",
    "\n",
    "access_df = pcd_df.dropna(subset=['Model accessibility'])\n",
    "len(access_df)"
   ]
  },
  {
   "cell_type": "code",
   "execution_count": 5,
   "metadata": {},
   "outputs": [
    {
     "data": {
      "text/plain": [
       "Index(['System', 'Domain', 'Task', 'Authors', 'Notability criteria',\n",
       "       'Notability criteria notes', 'Model accessibility', 'Link', 'Citations',\n",
       "       'Reference', 'Publication date', 'Organization', 'Parameters',\n",
       "       'Parameters notes', 'Training compute (FLOP)', 'Training compute notes',\n",
       "       'Training dataset', 'Training dataset notes',\n",
       "       'Training dataset size (datapoints)', 'Dataset size notes', 'Epochs',\n",
       "       'Inference compute (FLOP)', 'Inference compute notes',\n",
       "       'Training time (hours)', 'Training time notes', 'Training hardware',\n",
       "       'Approach', 'Compute cost notes', 'Compute sponsor categorization',\n",
       "       'Confidence', 'Abstract', 'Last modified', 'Created By',\n",
       "       'Benchmark data', 'Exclude', 'Country (from Organization)',\n",
       "       'Base model', 'Finetune compute (FLOP)', 'Finetune compute notes',\n",
       "       'Hardware quantity', 'Hardware utilization', 'Training cost trends',\n",
       "       'Training cloud compute vendor', 'Training data center',\n",
       "       'Archived links', 'Batch size', 'Batch size notes',\n",
       "       'Organization categorization', 'Foundation model',\n",
       "       'Training compute lower bound', 'Training compute upper bound',\n",
       "       'Training chip-hours', 'Training code accessibility',\n",
       "       'Dataset accessibility', 'Accessibility notes',\n",
       "       'Organization categorization (from Organization)',\n",
       "       'Possibly over 1e23 FLOP', 'Training compute cost (2023 USD)',\n",
       "       'Training dataset size', 'Sparsity', 'Utilization notes',\n",
       "       'Estimated over 1e25 FLOP', 'Power per GPU', 'Cluster total TDP',\n",
       "       'Base model compute', 'Difference', 'Difference (share)', 'API prices',\n",
       "       'Created', 'Inference code accessibility', 'Arithmetic format',\n",
       "       'Model versions', 'Frontier model', 'Training power draw (W)',\n",
       "       'Benchmark evals', 'FLOP/$', 'Hardware release date', 'Hardware age',\n",
       "       'Hardware FP32', 'Hardware TF32', 'Hardware count', 'Hardware TF16',\n",
       "       'Hardware FP16', 'Assumed precision', 'Assumed hardware FLOP/s', 'TEMP',\n",
       "       'Hardware type', 'Compute estimate method',\n",
       "       'Training compute estimation method'],\n",
       "      dtype='object')"
      ]
     },
     "execution_count": 5,
     "metadata": {},
     "output_type": "execute_result"
    }
   ],
   "source": [
    "access_df.columns"
   ]
  },
  {
   "cell_type": "code",
   "execution_count": 6,
   "metadata": {
    "tags": []
   },
   "outputs": [
    {
     "name": "stderr",
     "output_type": "stream",
     "text": [
      "/var/folders/s2/stl5t_bn7xg9vdfxxr71rzrc0000gn/T/ipykernel_53858/2896245806.py:6: SettingWithCopyWarning: \n",
      "A value is trying to be set on a copy of a slice from a DataFrame.\n",
      "Try using .loc[row_indexer,col_indexer] = value instead\n",
      "\n",
      "See the caveats in the documentation: https://pandas.pydata.org/pandas-docs/stable/user_guide/indexing.html#returning-a-view-versus-a-copy\n",
      "  access_df['Model open/closed'] = access_df['Model accessibility'].apply(\n",
      "/var/folders/s2/stl5t_bn7xg9vdfxxr71rzrc0000gn/T/ipykernel_53858/2896245806.py:10: SettingWithCopyWarning: \n",
      "A value is trying to be set on a copy of a slice from a DataFrame.\n",
      "Try using .loc[row_indexer,col_indexer] = value instead\n",
      "\n",
      "See the caveats in the documentation: https://pandas.pydata.org/pandas-docs/stable/user_guide/indexing.html#returning-a-view-versus-a-copy\n",
      "  access_df['Code open/closed'] = access_df['Training code accessibility'].apply(\n"
     ]
    }
   ],
   "source": [
    "model_open_categories = ['Open access (unrestricted)', 'Open access (restricted use)', 'Open access (non-commercial)']\n",
    "code_open_categories = ['Open source', 'Open access (non-commercial)', 'Open access (restricted use)']\n",
    "\n",
    "\n",
    "# Add open/closed binary columns\n",
    "access_df['Model open/closed'] = access_df['Model accessibility'].apply(\n",
    "    lambda x: 'Open' if x in model_open_categories else 'Closed'\n",
    ")\n",
    "\n",
    "access_df['Code open/closed'] = access_df['Training code accessibility'].apply(\n",
    "    lambda x: 'Open' if x in code_open_categories else 'Closed'\n",
    ")"
   ]
  },
  {
   "cell_type": "code",
   "execution_count": 7,
   "metadata": {
    "tags": []
   },
   "outputs": [],
   "source": [
    "open_df = access_df.loc[access_df['Model open/closed'] == 'Open']"
   ]
  },
  {
   "cell_type": "code",
   "execution_count": 8,
   "metadata": {
    "tags": []
   },
   "outputs": [
    {
     "name": "stdout",
     "output_type": "stream",
     "text": [
      "228\n"
     ]
    },
    {
     "data": {
      "text/html": [
       "<div>\n",
       "<style scoped>\n",
       "    .dataframe tbody tr th:only-of-type {\n",
       "        vertical-align: middle;\n",
       "    }\n",
       "\n",
       "    .dataframe tbody tr th {\n",
       "        vertical-align: top;\n",
       "    }\n",
       "\n",
       "    .dataframe thead th {\n",
       "        text-align: right;\n",
       "    }\n",
       "</style>\n",
       "<table border=\"1\" class=\"dataframe\">\n",
       "  <thead>\n",
       "    <tr style=\"text-align: right;\">\n",
       "      <th></th>\n",
       "      <th>System</th>\n",
       "      <th>Domain</th>\n",
       "      <th>Task</th>\n",
       "      <th>Authors</th>\n",
       "      <th>Notability criteria</th>\n",
       "      <th>Notability criteria notes</th>\n",
       "      <th>Model accessibility</th>\n",
       "      <th>Link</th>\n",
       "      <th>Citations</th>\n",
       "      <th>Reference</th>\n",
       "      <th>...</th>\n",
       "      <th>Hardware TF16</th>\n",
       "      <th>Hardware FP16</th>\n",
       "      <th>Assumed precision</th>\n",
       "      <th>Assumed hardware FLOP/s</th>\n",
       "      <th>TEMP</th>\n",
       "      <th>Hardware type</th>\n",
       "      <th>Compute estimate method</th>\n",
       "      <th>Training compute estimation method</th>\n",
       "      <th>Model open/closed</th>\n",
       "      <th>Code open/closed</th>\n",
       "    </tr>\n",
       "  </thead>\n",
       "  <tbody>\n",
       "    <tr>\n",
       "      <th>344</th>\n",
       "      <td>Faster R-CNN</td>\n",
       "      <td>Vision</td>\n",
       "      <td>Object detection</td>\n",
       "      <td>S Ren, K He, R Girshick, J Sun</td>\n",
       "      <td>Highly cited</td>\n",
       "      <td>NaN</td>\n",
       "      <td>Open access (unrestricted)</td>\n",
       "      <td>https://arxiv.org/abs/1506.01497</td>\n",
       "      <td>55711.0</td>\n",
       "      <td>Faster R-CNN: Towards Real-Time Object Detecti...</td>\n",
       "      <td>...</td>\n",
       "      <td>NaN</td>\n",
       "      <td>NaN</td>\n",
       "      <td>FP32</td>\n",
       "      <td>NaN</td>\n",
       "      <td>0</td>\n",
       "      <td>NaN</td>\n",
       "      <td>NaN</td>\n",
       "      <td>NaN</td>\n",
       "      <td>Open</td>\n",
       "      <td>Open</td>\n",
       "    </tr>\n",
       "    <tr>\n",
       "      <th>360</th>\n",
       "      <td>SSD</td>\n",
       "      <td>Vision</td>\n",
       "      <td>Object detection</td>\n",
       "      <td>Wei Liu, Dragomir Anguelov, Dumitru Erhan, Chr...</td>\n",
       "      <td>Highly cited</td>\n",
       "      <td>Also listed in Denis Panjuta's List of 100+ AI...</td>\n",
       "      <td>Open access (unrestricted)</td>\n",
       "      <td>https://arxiv.org/pdf/1512.02325</td>\n",
       "      <td>39468.0</td>\n",
       "      <td>SSD: Single Shot MultiBox Detector</td>\n",
       "      <td>...</td>\n",
       "      <td>NaN</td>\n",
       "      <td>NaN</td>\n",
       "      <td>FP32</td>\n",
       "      <td>6691000000000</td>\n",
       "      <td>0</td>\n",
       "      <td>GPU</td>\n",
       "      <td>NaN</td>\n",
       "      <td>NaN</td>\n",
       "      <td>Open</td>\n",
       "      <td>Closed</td>\n",
       "    </tr>\n",
       "    <tr>\n",
       "      <th>413</th>\n",
       "      <td>SPIDER2</td>\n",
       "      <td>Biology</td>\n",
       "      <td>Protein folding prediction,Proteins</td>\n",
       "      <td>Yuedong Yang, Rhys Heffernan, Kuldip Paliwal, ...</td>\n",
       "      <td>SOTA improvement</td>\n",
       "      <td>The method provides state-of-the-art, all-in-o...</td>\n",
       "      <td>Open access (non-commercial)</td>\n",
       "      <td>https://link.springer.com/protocol/10.1007/978...</td>\n",
       "      <td>NaN</td>\n",
       "      <td>SPIDER2: A Package to Predict Secondary Struct...</td>\n",
       "      <td>...</td>\n",
       "      <td>NaN</td>\n",
       "      <td>NaN</td>\n",
       "      <td>FP32</td>\n",
       "      <td>NaN</td>\n",
       "      <td>0</td>\n",
       "      <td>NaN</td>\n",
       "      <td>NaN</td>\n",
       "      <td>NaN</td>\n",
       "      <td>Open</td>\n",
       "      <td>Closed</td>\n",
       "    </tr>\n",
       "    <tr>\n",
       "      <th>419</th>\n",
       "      <td>BIDAF</td>\n",
       "      <td>Language</td>\n",
       "      <td>Question answering</td>\n",
       "      <td>Minjoon Seo, Aniruddha Kembhavi, Ali Farhadi, ...</td>\n",
       "      <td>Highly cited,SOTA improvement</td>\n",
       "      <td>\"Our experimental evaluations show that our mo...</td>\n",
       "      <td>Open access (unrestricted)</td>\n",
       "      <td>https://arxiv.org/abs/1611.01603v6</td>\n",
       "      <td>2246.0</td>\n",
       "      <td>Bidirectional Attention Flow for Machine Compr...</td>\n",
       "      <td>...</td>\n",
       "      <td>NaN</td>\n",
       "      <td>NaN</td>\n",
       "      <td>FP32</td>\n",
       "      <td>6691000000000</td>\n",
       "      <td>0</td>\n",
       "      <td>GPU</td>\n",
       "      <td>NaN</td>\n",
       "      <td>NaN</td>\n",
       "      <td>Open</td>\n",
       "      <td>Open</td>\n",
       "    </tr>\n",
       "    <tr>\n",
       "      <th>436</th>\n",
       "      <td>YOLOv2</td>\n",
       "      <td>Vision</td>\n",
       "      <td>Object detection</td>\n",
       "      <td>Joseph Redmon, Ali Farhadi</td>\n",
       "      <td>Highly cited</td>\n",
       "      <td>NaN</td>\n",
       "      <td>Open access (non-commercial)</td>\n",
       "      <td>https://arxiv.org/abs/1612.08242</td>\n",
       "      <td>14209.0</td>\n",
       "      <td>YOLO9000: Better, Faster, Stronger</td>\n",
       "      <td>...</td>\n",
       "      <td>NaN</td>\n",
       "      <td>NaN</td>\n",
       "      <td>FP32</td>\n",
       "      <td>NaN</td>\n",
       "      <td>0</td>\n",
       "      <td>NaN</td>\n",
       "      <td>NaN</td>\n",
       "      <td>NaN</td>\n",
       "      <td>Open</td>\n",
       "      <td>Closed</td>\n",
       "    </tr>\n",
       "    <tr>\n",
       "      <th>491</th>\n",
       "      <td>PyramidNet</td>\n",
       "      <td>Vision</td>\n",
       "      <td>Image classification</td>\n",
       "      <td>Dongyoon Han, Jiwhan Kim, Junmo Kim</td>\n",
       "      <td>SOTA improvement</td>\n",
       "      <td>\"In tests using CIFAR-10, CIFAR-100, and Image...</td>\n",
       "      <td>Open access (unrestricted)</td>\n",
       "      <td>https://arxiv.org/abs/1610.02915v4</td>\n",
       "      <td>718.0</td>\n",
       "      <td>Deep Pyramidal Residual Networks</td>\n",
       "      <td>...</td>\n",
       "      <td>NaN</td>\n",
       "      <td>NaN</td>\n",
       "      <td>FP32</td>\n",
       "      <td>NaN</td>\n",
       "      <td>1</td>\n",
       "      <td>NaN</td>\n",
       "      <td>NaN</td>\n",
       "      <td>NaN</td>\n",
       "      <td>Open</td>\n",
       "      <td>Open</td>\n",
       "    </tr>\n",
       "    <tr>\n",
       "      <th>519</th>\n",
       "      <td>ULM-FiT</td>\n",
       "      <td>Language</td>\n",
       "      <td>Text classification</td>\n",
       "      <td>Jeremy Howard, Sebastian Ruder</td>\n",
       "      <td>Highly cited</td>\n",
       "      <td>NaN</td>\n",
       "      <td>Open access (unrestricted)</td>\n",
       "      <td>https://arxiv.org/abs/1801.06146</td>\n",
       "      <td>1940.0</td>\n",
       "      <td>Universal Language Model Fine-tuning for Text ...</td>\n",
       "      <td>...</td>\n",
       "      <td>NaN</td>\n",
       "      <td>NaN</td>\n",
       "      <td>FP32</td>\n",
       "      <td>NaN</td>\n",
       "      <td>1</td>\n",
       "      <td>NaN</td>\n",
       "      <td>NaN</td>\n",
       "      <td>NaN</td>\n",
       "      <td>Open</td>\n",
       "      <td>Closed</td>\n",
       "    </tr>\n",
       "    <tr>\n",
       "      <th>535</th>\n",
       "      <td>LSTM (2018)</td>\n",
       "      <td>Language</td>\n",
       "      <td>Language modelling</td>\n",
       "      <td>Shaojie Bai, J. Zico Kolter, Vladlen Koltun</td>\n",
       "      <td>Highly cited</td>\n",
       "      <td>NaN</td>\n",
       "      <td>Open access (unrestricted)</td>\n",
       "      <td>https://arxiv.org/abs/1803.01271</td>\n",
       "      <td>4024.0</td>\n",
       "      <td>An Empirical Evaluation of Generic Convolution...</td>\n",
       "      <td>...</td>\n",
       "      <td>NaN</td>\n",
       "      <td>NaN</td>\n",
       "      <td>FP32</td>\n",
       "      <td>NaN</td>\n",
       "      <td>1</td>\n",
       "      <td>NaN</td>\n",
       "      <td>NaN</td>\n",
       "      <td>NaN</td>\n",
       "      <td>Open</td>\n",
       "      <td>Open</td>\n",
       "    </tr>\n",
       "    <tr>\n",
       "      <th>545</th>\n",
       "      <td>ResNeXt-101 32x48d</td>\n",
       "      <td>Vision</td>\n",
       "      <td>Image classification</td>\n",
       "      <td>Dhruv Mahajan, Ross Girshick, Vignesh Ramanath...</td>\n",
       "      <td>Highly cited,SOTA improvement</td>\n",
       "      <td>\"We show improvements on several image classif...</td>\n",
       "      <td>Open access (non-commercial)</td>\n",
       "      <td>https://arxiv.org/abs/1805.00932</td>\n",
       "      <td>1287.0</td>\n",
       "      <td>Exploring the Limits of Weakly Supervised Pret...</td>\n",
       "      <td>...</td>\n",
       "      <td>NaN</td>\n",
       "      <td>NaN</td>\n",
       "      <td>FP32</td>\n",
       "      <td>NaN</td>\n",
       "      <td>1</td>\n",
       "      <td>NaN</td>\n",
       "      <td>NaN</td>\n",
       "      <td>NaN</td>\n",
       "      <td>Open</td>\n",
       "      <td>Closed</td>\n",
       "    </tr>\n",
       "    <tr>\n",
       "      <th>557</th>\n",
       "      <td>GPT-1</td>\n",
       "      <td>Language</td>\n",
       "      <td>Question answering,Text classification,Languag...</td>\n",
       "      <td>A Radford, K Narasimhan, T Salimans, I Sutskever</td>\n",
       "      <td>Highly cited</td>\n",
       "      <td>NaN</td>\n",
       "      <td>Open access (unrestricted)</td>\n",
       "      <td>https://openai.com/blog/language-unsupervised/</td>\n",
       "      <td>9710.0</td>\n",
       "      <td>Improving Language Understanding by Generative...</td>\n",
       "      <td>...</td>\n",
       "      <td>NaN</td>\n",
       "      <td>18680000000.0000</td>\n",
       "      <td>FP32</td>\n",
       "      <td>1196000000000</td>\n",
       "      <td>1</td>\n",
       "      <td>GPU</td>\n",
       "      <td>NaN</td>\n",
       "      <td>NaN</td>\n",
       "      <td>Open</td>\n",
       "      <td>Open</td>\n",
       "    </tr>\n",
       "  </tbody>\n",
       "</table>\n",
       "<p>10 rows × 91 columns</p>\n",
       "</div>"
      ],
      "text/plain": [
       "                 System    Domain  \\\n",
       "344        Faster R-CNN    Vision   \n",
       "360                 SSD    Vision   \n",
       "413             SPIDER2   Biology   \n",
       "419               BIDAF  Language   \n",
       "436              YOLOv2    Vision   \n",
       "491          PyramidNet    Vision   \n",
       "519             ULM-FiT  Language   \n",
       "535         LSTM (2018)  Language   \n",
       "545  ResNeXt-101 32x48d    Vision   \n",
       "557               GPT-1  Language   \n",
       "\n",
       "                                                  Task  \\\n",
       "344                                   Object detection   \n",
       "360                                   Object detection   \n",
       "413                Protein folding prediction,Proteins   \n",
       "419                                 Question answering   \n",
       "436                                   Object detection   \n",
       "491                               Image classification   \n",
       "519                                Text classification   \n",
       "535                                 Language modelling   \n",
       "545                               Image classification   \n",
       "557  Question answering,Text classification,Languag...   \n",
       "\n",
       "                                               Authors  \\\n",
       "344                     S Ren, K He, R Girshick, J Sun   \n",
       "360  Wei Liu, Dragomir Anguelov, Dumitru Erhan, Chr...   \n",
       "413  Yuedong Yang, Rhys Heffernan, Kuldip Paliwal, ...   \n",
       "419  Minjoon Seo, Aniruddha Kembhavi, Ali Farhadi, ...   \n",
       "436                         Joseph Redmon, Ali Farhadi   \n",
       "491                Dongyoon Han, Jiwhan Kim, Junmo Kim   \n",
       "519                     Jeremy Howard, Sebastian Ruder   \n",
       "535        Shaojie Bai, J. Zico Kolter, Vladlen Koltun   \n",
       "545  Dhruv Mahajan, Ross Girshick, Vignesh Ramanath...   \n",
       "557   A Radford, K Narasimhan, T Salimans, I Sutskever   \n",
       "\n",
       "               Notability criteria  \\\n",
       "344                   Highly cited   \n",
       "360                   Highly cited   \n",
       "413               SOTA improvement   \n",
       "419  Highly cited,SOTA improvement   \n",
       "436                   Highly cited   \n",
       "491               SOTA improvement   \n",
       "519                   Highly cited   \n",
       "535                   Highly cited   \n",
       "545  Highly cited,SOTA improvement   \n",
       "557                   Highly cited   \n",
       "\n",
       "                             Notability criteria notes  \\\n",
       "344                                                NaN   \n",
       "360  Also listed in Denis Panjuta's List of 100+ AI...   \n",
       "413  The method provides state-of-the-art, all-in-o...   \n",
       "419  \"Our experimental evaluations show that our mo...   \n",
       "436                                                NaN   \n",
       "491  \"In tests using CIFAR-10, CIFAR-100, and Image...   \n",
       "519                                                NaN   \n",
       "535                                                NaN   \n",
       "545  \"We show improvements on several image classif...   \n",
       "557                                                NaN   \n",
       "\n",
       "              Model accessibility  \\\n",
       "344    Open access (unrestricted)   \n",
       "360    Open access (unrestricted)   \n",
       "413  Open access (non-commercial)   \n",
       "419    Open access (unrestricted)   \n",
       "436  Open access (non-commercial)   \n",
       "491    Open access (unrestricted)   \n",
       "519    Open access (unrestricted)   \n",
       "535    Open access (unrestricted)   \n",
       "545  Open access (non-commercial)   \n",
       "557    Open access (unrestricted)   \n",
       "\n",
       "                                                  Link  Citations  \\\n",
       "344                   https://arxiv.org/abs/1506.01497    55711.0   \n",
       "360                   https://arxiv.org/pdf/1512.02325    39468.0   \n",
       "413  https://link.springer.com/protocol/10.1007/978...        NaN   \n",
       "419                 https://arxiv.org/abs/1611.01603v6     2246.0   \n",
       "436                   https://arxiv.org/abs/1612.08242    14209.0   \n",
       "491                 https://arxiv.org/abs/1610.02915v4      718.0   \n",
       "519                   https://arxiv.org/abs/1801.06146     1940.0   \n",
       "535                   https://arxiv.org/abs/1803.01271     4024.0   \n",
       "545                   https://arxiv.org/abs/1805.00932     1287.0   \n",
       "557     https://openai.com/blog/language-unsupervised/     9710.0   \n",
       "\n",
       "                                             Reference  ... Hardware TF16  \\\n",
       "344  Faster R-CNN: Towards Real-Time Object Detecti...  ...           NaN   \n",
       "360                 SSD: Single Shot MultiBox Detector  ...           NaN   \n",
       "413  SPIDER2: A Package to Predict Secondary Struct...  ...           NaN   \n",
       "419  Bidirectional Attention Flow for Machine Compr...  ...           NaN   \n",
       "436                 YOLO9000: Better, Faster, Stronger  ...           NaN   \n",
       "491                   Deep Pyramidal Residual Networks  ...           NaN   \n",
       "519  Universal Language Model Fine-tuning for Text ...  ...           NaN   \n",
       "535  An Empirical Evaluation of Generic Convolution...  ...           NaN   \n",
       "545  Exploring the Limits of Weakly Supervised Pret...  ...           NaN   \n",
       "557  Improving Language Understanding by Generative...  ...           NaN   \n",
       "\n",
       "        Hardware FP16  Assumed precision Assumed hardware FLOP/s  TEMP  \\\n",
       "344               NaN               FP32                     NaN     0   \n",
       "360               NaN               FP32           6691000000000     0   \n",
       "413               NaN               FP32                     NaN     0   \n",
       "419               NaN               FP32           6691000000000     0   \n",
       "436               NaN               FP32                     NaN     0   \n",
       "491               NaN               FP32                     NaN     1   \n",
       "519               NaN               FP32                     NaN     1   \n",
       "535               NaN               FP32                     NaN     1   \n",
       "545               NaN               FP32                     NaN     1   \n",
       "557  18680000000.0000               FP32           1196000000000     1   \n",
       "\n",
       "    Hardware type Compute estimate method Training compute estimation method  \\\n",
       "344           NaN                     NaN                                NaN   \n",
       "360           GPU                     NaN                                NaN   \n",
       "413           NaN                     NaN                                NaN   \n",
       "419           GPU                     NaN                                NaN   \n",
       "436           NaN                     NaN                                NaN   \n",
       "491           NaN                     NaN                                NaN   \n",
       "519           NaN                     NaN                                NaN   \n",
       "535           NaN                     NaN                                NaN   \n",
       "545           NaN                     NaN                                NaN   \n",
       "557           GPU                     NaN                                NaN   \n",
       "\n",
       "     Model open/closed Code open/closed  \n",
       "344               Open             Open  \n",
       "360               Open           Closed  \n",
       "413               Open           Closed  \n",
       "419               Open             Open  \n",
       "436               Open           Closed  \n",
       "491               Open             Open  \n",
       "519               Open           Closed  \n",
       "535               Open             Open  \n",
       "545               Open           Closed  \n",
       "557               Open             Open  \n",
       "\n",
       "[10 rows x 91 columns]"
      ]
     },
     "execution_count": 8,
     "metadata": {},
     "output_type": "execute_result"
    }
   ],
   "source": [
    "notable = open_df.loc[(open_df['Notability criteria'].notna())]\n",
    "print(len(notable))\n",
    "notable.head(10)"
   ]
  },
  {
   "cell_type": "code",
   "execution_count": 9,
   "metadata": {
    "tags": []
   },
   "outputs": [
    {
     "name": "stdout",
     "output_type": "stream",
     "text": [
      "278\n"
     ]
    },
    {
     "data": {
      "text/html": [
       "<div>\n",
       "<style scoped>\n",
       "    .dataframe tbody tr th:only-of-type {\n",
       "        vertical-align: middle;\n",
       "    }\n",
       "\n",
       "    .dataframe tbody tr th {\n",
       "        vertical-align: top;\n",
       "    }\n",
       "\n",
       "    .dataframe thead th {\n",
       "        text-align: right;\n",
       "    }\n",
       "</style>\n",
       "<table border=\"1\" class=\"dataframe\">\n",
       "  <thead>\n",
       "    <tr style=\"text-align: right;\">\n",
       "      <th></th>\n",
       "      <th>System</th>\n",
       "      <th>Domain</th>\n",
       "      <th>Task</th>\n",
       "      <th>Authors</th>\n",
       "      <th>Notability criteria</th>\n",
       "      <th>Notability criteria notes</th>\n",
       "      <th>Model accessibility</th>\n",
       "      <th>Link</th>\n",
       "      <th>Citations</th>\n",
       "      <th>Reference</th>\n",
       "      <th>...</th>\n",
       "      <th>Hardware TF16</th>\n",
       "      <th>Hardware FP16</th>\n",
       "      <th>Assumed precision</th>\n",
       "      <th>Assumed hardware FLOP/s</th>\n",
       "      <th>TEMP</th>\n",
       "      <th>Hardware type</th>\n",
       "      <th>Compute estimate method</th>\n",
       "      <th>Training compute estimation method</th>\n",
       "      <th>Model open/closed</th>\n",
       "      <th>Code open/closed</th>\n",
       "    </tr>\n",
       "  </thead>\n",
       "  <tbody>\n",
       "    <tr>\n",
       "      <th>347</th>\n",
       "      <td>Skip-Thoughts</td>\n",
       "      <td>Language</td>\n",
       "      <td>Language modelling</td>\n",
       "      <td>Ryan Kiros, Yukun Zhu, Ruslan Salakhutdinov, R...</td>\n",
       "      <td>NaN</td>\n",
       "      <td>NaN</td>\n",
       "      <td>Open access (unrestricted)</td>\n",
       "      <td>https://arxiv.org/abs/1506.06726</td>\n",
       "      <td>NaN</td>\n",
       "      <td>Skip-Thought Vectors</td>\n",
       "      <td>...</td>\n",
       "      <td>NaN</td>\n",
       "      <td>NaN</td>\n",
       "      <td>FP32</td>\n",
       "      <td>NaN</td>\n",
       "      <td>0</td>\n",
       "      <td>NaN</td>\n",
       "      <td>NaN</td>\n",
       "      <td>NaN</td>\n",
       "      <td>Open</td>\n",
       "      <td>Open</td>\n",
       "    </tr>\n",
       "    <tr>\n",
       "      <th>354</th>\n",
       "      <td>The Attentive Reader</td>\n",
       "      <td>Language</td>\n",
       "      <td>Question answering</td>\n",
       "      <td>Karl Moritz Hermann, Tomáš Kočiský, Edward Gre...</td>\n",
       "      <td>NaN</td>\n",
       "      <td>NaN</td>\n",
       "      <td>Open access (unrestricted)</td>\n",
       "      <td>https://arxiv.org/abs/1506.03340</td>\n",
       "      <td>NaN</td>\n",
       "      <td>Teaching Machines to Read and Comprehend</td>\n",
       "      <td>...</td>\n",
       "      <td>NaN</td>\n",
       "      <td>NaN</td>\n",
       "      <td>FP32</td>\n",
       "      <td>NaN</td>\n",
       "      <td>0</td>\n",
       "      <td>NaN</td>\n",
       "      <td>NaN</td>\n",
       "      <td>NaN</td>\n",
       "      <td>Open</td>\n",
       "      <td>Open</td>\n",
       "    </tr>\n",
       "    <tr>\n",
       "      <th>372</th>\n",
       "      <td>Order-Embeddings of Images and Language</td>\n",
       "      <td>Vision</td>\n",
       "      <td>Image captioning</td>\n",
       "      <td>Ivan Vendrov, Ryan Kiros, Sanja Fidler, Raquel...</td>\n",
       "      <td>NaN</td>\n",
       "      <td>NaN</td>\n",
       "      <td>Open access (unrestricted)</td>\n",
       "      <td>https://arxiv.org/abs/1511.06361</td>\n",
       "      <td>NaN</td>\n",
       "      <td>Order-Embeddings of Images and Language</td>\n",
       "      <td>...</td>\n",
       "      <td>NaN</td>\n",
       "      <td>NaN</td>\n",
       "      <td>FP32</td>\n",
       "      <td>NaN</td>\n",
       "      <td>0</td>\n",
       "      <td>NaN</td>\n",
       "      <td>NaN</td>\n",
       "      <td>NaN</td>\n",
       "      <td>Open</td>\n",
       "      <td>Open</td>\n",
       "    </tr>\n",
       "    <tr>\n",
       "      <th>447</th>\n",
       "      <td>AlexNet + coordinating filters</td>\n",
       "      <td>Vision</td>\n",
       "      <td>Image classification</td>\n",
       "      <td>Wei Wen, Cong Xu, Chunpeng Wu, Yandan Wang, Yi...</td>\n",
       "      <td>NaN</td>\n",
       "      <td>NaN</td>\n",
       "      <td>Open access (unrestricted)</td>\n",
       "      <td>https://arxiv.org/abs/1703.09746</td>\n",
       "      <td>172.0</td>\n",
       "      <td>Coordinating Filters for Faster Deep Neural Ne...</td>\n",
       "      <td>...</td>\n",
       "      <td>NaN</td>\n",
       "      <td>NaN</td>\n",
       "      <td>FP32</td>\n",
       "      <td>NaN</td>\n",
       "      <td>0</td>\n",
       "      <td>NaN</td>\n",
       "      <td>NaN</td>\n",
       "      <td>NaN</td>\n",
       "      <td>Open</td>\n",
       "      <td>Open</td>\n",
       "    </tr>\n",
       "    <tr>\n",
       "      <th>542</th>\n",
       "      <td>TF-LM-discourse LSTM (WT2)</td>\n",
       "      <td>Language</td>\n",
       "      <td>Language modelling</td>\n",
       "      <td>Lyan Verwimp, Hugo Van hamme, Patrick Wambacq</td>\n",
       "      <td>NaN</td>\n",
       "      <td>NaN</td>\n",
       "      <td>Open access (unrestricted)</td>\n",
       "      <td>https://aclanthology.org/L18-1470.pdf</td>\n",
       "      <td>12.0</td>\n",
       "      <td>TF-LM: TensorFlow-based Language Modeling Toolkit</td>\n",
       "      <td>...</td>\n",
       "      <td>NaN</td>\n",
       "      <td>NaN</td>\n",
       "      <td>FP32</td>\n",
       "      <td>NaN</td>\n",
       "      <td>1</td>\n",
       "      <td>NaN</td>\n",
       "      <td>NaN</td>\n",
       "      <td>NaN</td>\n",
       "      <td>Open</td>\n",
       "      <td>Open</td>\n",
       "    </tr>\n",
       "    <tr>\n",
       "      <th>543</th>\n",
       "      <td>TF-LM-discourse LSTM (PTB)</td>\n",
       "      <td>Language</td>\n",
       "      <td>Language modelling</td>\n",
       "      <td>Lyan Verwimp, Hugo Van hamme, Patrick Wambacq</td>\n",
       "      <td>NaN</td>\n",
       "      <td>NaN</td>\n",
       "      <td>Open access (unrestricted)</td>\n",
       "      <td>https://aclanthology.org/L18-1470.pdf</td>\n",
       "      <td>12.0</td>\n",
       "      <td>TF-LM: TensorFlow-based Language Modeling Toolkit</td>\n",
       "      <td>...</td>\n",
       "      <td>NaN</td>\n",
       "      <td>NaN</td>\n",
       "      <td>FP32</td>\n",
       "      <td>NaN</td>\n",
       "      <td>1</td>\n",
       "      <td>NaN</td>\n",
       "      <td>NaN</td>\n",
       "      <td>NaN</td>\n",
       "      <td>Open</td>\n",
       "      <td>Open</td>\n",
       "    </tr>\n",
       "    <tr>\n",
       "      <th>544</th>\n",
       "      <td>DNCON2</td>\n",
       "      <td>Biology</td>\n",
       "      <td>Proteins,Protein folding prediction</td>\n",
       "      <td>Badri Adhikari, Jie Hou, Jianlin Cheng</td>\n",
       "      <td>NaN</td>\n",
       "      <td>NaN</td>\n",
       "      <td>Open access (unrestricted)</td>\n",
       "      <td>https://academic.oup.com/bioinformatics/articl...</td>\n",
       "      <td>173.0</td>\n",
       "      <td>DNCON2: improved protein contact prediction us...</td>\n",
       "      <td>...</td>\n",
       "      <td>NaN</td>\n",
       "      <td>NaN</td>\n",
       "      <td>FP32</td>\n",
       "      <td>NaN</td>\n",
       "      <td>1</td>\n",
       "      <td>NaN</td>\n",
       "      <td>NaN</td>\n",
       "      <td>NaN</td>\n",
       "      <td>Open</td>\n",
       "      <td>Open</td>\n",
       "    </tr>\n",
       "    <tr>\n",
       "      <th>561</th>\n",
       "      <td>DARTS (second order)</td>\n",
       "      <td>Language</td>\n",
       "      <td>Language modelling,Architecture search</td>\n",
       "      <td>Hanxiao Liu, Karen Simonyan, Yiming Yang</td>\n",
       "      <td>NaN</td>\n",
       "      <td>NaN</td>\n",
       "      <td>Open access (unrestricted)</td>\n",
       "      <td>https://arxiv.org/abs/1806.09055</td>\n",
       "      <td>3991.0</td>\n",
       "      <td>DARTS: Differentiable Architecture Search</td>\n",
       "      <td>...</td>\n",
       "      <td>NaN</td>\n",
       "      <td>NaN</td>\n",
       "      <td>FP32</td>\n",
       "      <td>NaN</td>\n",
       "      <td>1</td>\n",
       "      <td>NaN</td>\n",
       "      <td>NaN</td>\n",
       "      <td>NaN</td>\n",
       "      <td>Open</td>\n",
       "      <td>Open</td>\n",
       "    </tr>\n",
       "    <tr>\n",
       "      <th>569</th>\n",
       "      <td>Big-Little Net (vision)</td>\n",
       "      <td>Vision</td>\n",
       "      <td>Object recognition</td>\n",
       "      <td>Chun-Fu (Richard) Chen, Quanfu Fan, Neil Malli...</td>\n",
       "      <td>NaN</td>\n",
       "      <td>NaN</td>\n",
       "      <td>Open access (unrestricted)</td>\n",
       "      <td>https://arxiv.org/abs/1807.03848</td>\n",
       "      <td>97.0</td>\n",
       "      <td>BIG-LITTLE NET: AN EFFICIENT MULTI-SCALE FEATU...</td>\n",
       "      <td>...</td>\n",
       "      <td>NaN</td>\n",
       "      <td>NaN</td>\n",
       "      <td>FP32</td>\n",
       "      <td>NaN</td>\n",
       "      <td>1</td>\n",
       "      <td>NaN</td>\n",
       "      <td>NaN</td>\n",
       "      <td>NaN</td>\n",
       "      <td>Open</td>\n",
       "      <td>Open</td>\n",
       "    </tr>\n",
       "    <tr>\n",
       "      <th>577</th>\n",
       "      <td>(ensemble): AWD-LSTM-DOC (fin) × 5 (PTB)</td>\n",
       "      <td>Language</td>\n",
       "      <td>Language modelling</td>\n",
       "      <td>Sho Takase, Jun Suzuki, Masaaki Nagata</td>\n",
       "      <td>NaN</td>\n",
       "      <td>NaN</td>\n",
       "      <td>Open access (unrestricted)</td>\n",
       "      <td>https://arxiv.org/abs/1808.10143</td>\n",
       "      <td>NaN</td>\n",
       "      <td>Direct Output Connection for a High-Rank Langu...</td>\n",
       "      <td>...</td>\n",
       "      <td>NaN</td>\n",
       "      <td>NaN</td>\n",
       "      <td>FP32</td>\n",
       "      <td>NaN</td>\n",
       "      <td>1</td>\n",
       "      <td>NaN</td>\n",
       "      <td>NaN</td>\n",
       "      <td>NaN</td>\n",
       "      <td>Open</td>\n",
       "      <td>Open</td>\n",
       "    </tr>\n",
       "  </tbody>\n",
       "</table>\n",
       "<p>10 rows × 91 columns</p>\n",
       "</div>"
      ],
      "text/plain": [
       "                                       System    Domain  \\\n",
       "347                             Skip-Thoughts  Language   \n",
       "354                      The Attentive Reader  Language   \n",
       "372   Order-Embeddings of Images and Language    Vision   \n",
       "447            AlexNet + coordinating filters    Vision   \n",
       "542                TF-LM-discourse LSTM (WT2)  Language   \n",
       "543                TF-LM-discourse LSTM (PTB)  Language   \n",
       "544                                    DNCON2   Biology   \n",
       "561                      DARTS (second order)  Language   \n",
       "569                   Big-Little Net (vision)    Vision   \n",
       "577  (ensemble): AWD-LSTM-DOC (fin) × 5 (PTB)  Language   \n",
       "\n",
       "                                       Task  \\\n",
       "347                      Language modelling   \n",
       "354                      Question answering   \n",
       "372                        Image captioning   \n",
       "447                    Image classification   \n",
       "542                      Language modelling   \n",
       "543                      Language modelling   \n",
       "544     Proteins,Protein folding prediction   \n",
       "561  Language modelling,Architecture search   \n",
       "569                      Object recognition   \n",
       "577                      Language modelling   \n",
       "\n",
       "                                               Authors Notability criteria  \\\n",
       "347  Ryan Kiros, Yukun Zhu, Ruslan Salakhutdinov, R...                 NaN   \n",
       "354  Karl Moritz Hermann, Tomáš Kočiský, Edward Gre...                 NaN   \n",
       "372  Ivan Vendrov, Ryan Kiros, Sanja Fidler, Raquel...                 NaN   \n",
       "447  Wei Wen, Cong Xu, Chunpeng Wu, Yandan Wang, Yi...                 NaN   \n",
       "542      Lyan Verwimp, Hugo Van hamme, Patrick Wambacq                 NaN   \n",
       "543      Lyan Verwimp, Hugo Van hamme, Patrick Wambacq                 NaN   \n",
       "544             Badri Adhikari, Jie Hou, Jianlin Cheng                 NaN   \n",
       "561           Hanxiao Liu, Karen Simonyan, Yiming Yang                 NaN   \n",
       "569  Chun-Fu (Richard) Chen, Quanfu Fan, Neil Malli...                 NaN   \n",
       "577             Sho Takase, Jun Suzuki, Masaaki Nagata                 NaN   \n",
       "\n",
       "    Notability criteria notes         Model accessibility  \\\n",
       "347                       NaN  Open access (unrestricted)   \n",
       "354                       NaN  Open access (unrestricted)   \n",
       "372                       NaN  Open access (unrestricted)   \n",
       "447                       NaN  Open access (unrestricted)   \n",
       "542                       NaN  Open access (unrestricted)   \n",
       "543                       NaN  Open access (unrestricted)   \n",
       "544                       NaN  Open access (unrestricted)   \n",
       "561                       NaN  Open access (unrestricted)   \n",
       "569                       NaN  Open access (unrestricted)   \n",
       "577                       NaN  Open access (unrestricted)   \n",
       "\n",
       "                                                  Link  Citations  \\\n",
       "347                   https://arxiv.org/abs/1506.06726        NaN   \n",
       "354                   https://arxiv.org/abs/1506.03340        NaN   \n",
       "372                   https://arxiv.org/abs/1511.06361        NaN   \n",
       "447                   https://arxiv.org/abs/1703.09746      172.0   \n",
       "542              https://aclanthology.org/L18-1470.pdf       12.0   \n",
       "543              https://aclanthology.org/L18-1470.pdf       12.0   \n",
       "544  https://academic.oup.com/bioinformatics/articl...      173.0   \n",
       "561                   https://arxiv.org/abs/1806.09055     3991.0   \n",
       "569                   https://arxiv.org/abs/1807.03848       97.0   \n",
       "577                   https://arxiv.org/abs/1808.10143        NaN   \n",
       "\n",
       "                                             Reference  ... Hardware TF16  \\\n",
       "347                               Skip-Thought Vectors  ...           NaN   \n",
       "354           Teaching Machines to Read and Comprehend  ...           NaN   \n",
       "372            Order-Embeddings of Images and Language  ...           NaN   \n",
       "447  Coordinating Filters for Faster Deep Neural Ne...  ...           NaN   \n",
       "542  TF-LM: TensorFlow-based Language Modeling Toolkit  ...           NaN   \n",
       "543  TF-LM: TensorFlow-based Language Modeling Toolkit  ...           NaN   \n",
       "544  DNCON2: improved protein contact prediction us...  ...           NaN   \n",
       "561          DARTS: Differentiable Architecture Search  ...           NaN   \n",
       "569  BIG-LITTLE NET: AN EFFICIENT MULTI-SCALE FEATU...  ...           NaN   \n",
       "577  Direct Output Connection for a High-Rank Langu...  ...           NaN   \n",
       "\n",
       "    Hardware FP16  Assumed precision Assumed hardware FLOP/s  TEMP  \\\n",
       "347           NaN               FP32                     NaN     0   \n",
       "354           NaN               FP32                     NaN     0   \n",
       "372           NaN               FP32                     NaN     0   \n",
       "447           NaN               FP32                     NaN     0   \n",
       "542           NaN               FP32                     NaN     1   \n",
       "543           NaN               FP32                     NaN     1   \n",
       "544           NaN               FP32                     NaN     1   \n",
       "561           NaN               FP32                     NaN     1   \n",
       "569           NaN               FP32                     NaN     1   \n",
       "577           NaN               FP32                     NaN     1   \n",
       "\n",
       "    Hardware type Compute estimate method Training compute estimation method  \\\n",
       "347           NaN                     NaN                                NaN   \n",
       "354           NaN                     NaN                                NaN   \n",
       "372           NaN                     NaN                                NaN   \n",
       "447           NaN                     NaN                                NaN   \n",
       "542           NaN                     NaN                                NaN   \n",
       "543           NaN                     NaN                                NaN   \n",
       "544           NaN                     NaN                                NaN   \n",
       "561           NaN                     NaN                                NaN   \n",
       "569           NaN                     NaN                                NaN   \n",
       "577           NaN                     NaN                                NaN   \n",
       "\n",
       "     Model open/closed Code open/closed  \n",
       "347               Open             Open  \n",
       "354               Open             Open  \n",
       "372               Open             Open  \n",
       "447               Open             Open  \n",
       "542               Open             Open  \n",
       "543               Open             Open  \n",
       "544               Open             Open  \n",
       "561               Open             Open  \n",
       "569               Open             Open  \n",
       "577               Open             Open  \n",
       "\n",
       "[10 rows x 91 columns]"
      ]
     },
     "execution_count": 9,
     "metadata": {},
     "output_type": "execute_result"
    }
   ],
   "source": [
    "non_notable = open_df.loc[(open_df['Notability criteria'].isna())]\n",
    "print(len(non_notable))\n",
    "non_notable.head(10)\n",
    "# 251 open but not \"notable\"\n",
    "# some of these are clearly lower-n notable, like Qwen2, DBRX, Gemma 2, DeepSeek coder\n",
    "# possible other criteria - within 1 (or 1.5 or 2) OOM training compute of frontier (1.5 OOM is ~1e24 right now)\n",
    "# greater than 1000 (or 1100) on chatbot arena?"
   ]
  },
  {
   "cell_type": "code",
   "execution_count": 10,
   "metadata": {
    "tags": []
   },
   "outputs": [
    {
     "name": "stdout",
     "output_type": "stream",
     "text": [
      "Models that are not fine-tunes:  420\n",
      "Models that are fine-tunes:  86\n"
     ]
    },
    {
     "data": {
      "text/html": [
       "<div>\n",
       "<style scoped>\n",
       "    .dataframe tbody tr th:only-of-type {\n",
       "        vertical-align: middle;\n",
       "    }\n",
       "\n",
       "    .dataframe tbody tr th {\n",
       "        vertical-align: top;\n",
       "    }\n",
       "\n",
       "    .dataframe thead th {\n",
       "        text-align: right;\n",
       "    }\n",
       "</style>\n",
       "<table border=\"1\" class=\"dataframe\">\n",
       "  <thead>\n",
       "    <tr style=\"text-align: right;\">\n",
       "      <th></th>\n",
       "      <th>System</th>\n",
       "      <th>Domain</th>\n",
       "      <th>Task</th>\n",
       "      <th>Authors</th>\n",
       "      <th>Notability criteria</th>\n",
       "      <th>Notability criteria notes</th>\n",
       "      <th>Model accessibility</th>\n",
       "      <th>Link</th>\n",
       "      <th>Citations</th>\n",
       "      <th>Reference</th>\n",
       "      <th>...</th>\n",
       "      <th>Hardware TF16</th>\n",
       "      <th>Hardware FP16</th>\n",
       "      <th>Assumed precision</th>\n",
       "      <th>Assumed hardware FLOP/s</th>\n",
       "      <th>TEMP</th>\n",
       "      <th>Hardware type</th>\n",
       "      <th>Compute estimate method</th>\n",
       "      <th>Training compute estimation method</th>\n",
       "      <th>Model open/closed</th>\n",
       "      <th>Code open/closed</th>\n",
       "    </tr>\n",
       "  </thead>\n",
       "  <tbody>\n",
       "    <tr>\n",
       "      <th>360</th>\n",
       "      <td>SSD</td>\n",
       "      <td>Vision</td>\n",
       "      <td>Object detection</td>\n",
       "      <td>Wei Liu, Dragomir Anguelov, Dumitru Erhan, Chr...</td>\n",
       "      <td>Highly cited</td>\n",
       "      <td>Also listed in Denis Panjuta's List of 100+ AI...</td>\n",
       "      <td>Open access (unrestricted)</td>\n",
       "      <td>https://arxiv.org/pdf/1512.02325</td>\n",
       "      <td>39468.0</td>\n",
       "      <td>SSD: Single Shot MultiBox Detector</td>\n",
       "      <td>...</td>\n",
       "      <td>NaN</td>\n",
       "      <td>NaN</td>\n",
       "      <td>FP32</td>\n",
       "      <td>6691000000000</td>\n",
       "      <td>0</td>\n",
       "      <td>GPU</td>\n",
       "      <td>NaN</td>\n",
       "      <td>NaN</td>\n",
       "      <td>Open</td>\n",
       "      <td>Closed</td>\n",
       "    </tr>\n",
       "    <tr>\n",
       "      <th>519</th>\n",
       "      <td>ULM-FiT</td>\n",
       "      <td>Language</td>\n",
       "      <td>Text classification</td>\n",
       "      <td>Jeremy Howard, Sebastian Ruder</td>\n",
       "      <td>Highly cited</td>\n",
       "      <td>NaN</td>\n",
       "      <td>Open access (unrestricted)</td>\n",
       "      <td>https://arxiv.org/abs/1801.06146</td>\n",
       "      <td>1940.0</td>\n",
       "      <td>Universal Language Model Fine-tuning for Text ...</td>\n",
       "      <td>...</td>\n",
       "      <td>NaN</td>\n",
       "      <td>NaN</td>\n",
       "      <td>FP32</td>\n",
       "      <td>NaN</td>\n",
       "      <td>1</td>\n",
       "      <td>NaN</td>\n",
       "      <td>NaN</td>\n",
       "      <td>NaN</td>\n",
       "      <td>Open</td>\n",
       "      <td>Closed</td>\n",
       "    </tr>\n",
       "    <tr>\n",
       "      <th>628</th>\n",
       "      <td>Cross-lingual alignment</td>\n",
       "      <td>Language</td>\n",
       "      <td>Translation</td>\n",
       "      <td>Tal Schuster, Ori Ram, Regina Barzilay, and Am...</td>\n",
       "      <td>SOTA improvement</td>\n",
       "      <td>\"our method consistently outperforms the previ...</td>\n",
       "      <td>Open access (unrestricted)</td>\n",
       "      <td>https://arxiv.org/abs/1902.09492</td>\n",
       "      <td>196.0</td>\n",
       "      <td>Cross-lingual alignment of contextual word emb...</td>\n",
       "      <td>...</td>\n",
       "      <td>NaN</td>\n",
       "      <td>177200000000.0000</td>\n",
       "      <td>FP32</td>\n",
       "      <td>11340000000000</td>\n",
       "      <td>1</td>\n",
       "      <td>GPU</td>\n",
       "      <td>NaN</td>\n",
       "      <td>NaN</td>\n",
       "      <td>Open</td>\n",
       "      <td>Open</td>\n",
       "    </tr>\n",
       "    <tr>\n",
       "      <th>748</th>\n",
       "      <td>Theseus 6/768</td>\n",
       "      <td>Language</td>\n",
       "      <td>Text autocompletion</td>\n",
       "      <td>Canwen Xu, Wangchunshu Zhou, Tao Ge, Furu Wei,...</td>\n",
       "      <td>SOTA improvement</td>\n",
       "      <td>\"Our approach outperforms existing knowledge d...</td>\n",
       "      <td>Open access (unrestricted)</td>\n",
       "      <td>https://arxiv.org/abs/2002.02925</td>\n",
       "      <td>184.0</td>\n",
       "      <td>BERT-of-Theseus: Compressing BERT by Progressi...</td>\n",
       "      <td>...</td>\n",
       "      <td>125000000000000</td>\n",
       "      <td>31330000000000.0000</td>\n",
       "      <td>TF16</td>\n",
       "      <td>125000000000000</td>\n",
       "      <td>1</td>\n",
       "      <td>GPU</td>\n",
       "      <td>NaN</td>\n",
       "      <td>NaN</td>\n",
       "      <td>Open</td>\n",
       "      <td>Open</td>\n",
       "    </tr>\n",
       "    <tr>\n",
       "      <th>901</th>\n",
       "      <td>Unicorn</td>\n",
       "      <td>Language</td>\n",
       "      <td>Question answering</td>\n",
       "      <td>Nicholas Lourie, Ronan Le Bras, Chandra Bhagav...</td>\n",
       "      <td>NaN</td>\n",
       "      <td>NaN</td>\n",
       "      <td>Open access (unrestricted)</td>\n",
       "      <td>https://arxiv.org/abs/2103.13009</td>\n",
       "      <td>NaN</td>\n",
       "      <td>UNICORN on RAINBOW: A Universal Commonsense Re...</td>\n",
       "      <td>...</td>\n",
       "      <td>NaN</td>\n",
       "      <td>NaN</td>\n",
       "      <td>FP32</td>\n",
       "      <td>NaN</td>\n",
       "      <td>1</td>\n",
       "      <td>NaN</td>\n",
       "      <td>NaN</td>\n",
       "      <td>NaN</td>\n",
       "      <td>Open</td>\n",
       "      <td>Open</td>\n",
       "    </tr>\n",
       "    <tr>\n",
       "      <th>978</th>\n",
       "      <td>AlphaFold-Multimer</td>\n",
       "      <td>Biology</td>\n",
       "      <td>Protein folding prediction,Proteins</td>\n",
       "      <td>Richard Evans, Michael O’Neill, Alexander Prit...</td>\n",
       "      <td>Highly cited,SOTA improvement</td>\n",
       "      <td>\"On a benchmark dataset of 17 heterodimer prot...</td>\n",
       "      <td>Open access (unrestricted)</td>\n",
       "      <td>https://www.biorxiv.org/content/10.1101/2021.1...</td>\n",
       "      <td>1687.0</td>\n",
       "      <td>Protein complex prediction with AlphaFold-Mult...</td>\n",
       "      <td>...</td>\n",
       "      <td>123000000000000</td>\n",
       "      <td>NaN</td>\n",
       "      <td>TF16</td>\n",
       "      <td>123000000000000</td>\n",
       "      <td>1</td>\n",
       "      <td>TPU</td>\n",
       "      <td>NaN</td>\n",
       "      <td>NaN</td>\n",
       "      <td>Open</td>\n",
       "      <td>Closed</td>\n",
       "    </tr>\n",
       "    <tr>\n",
       "      <th>983</th>\n",
       "      <td>T0-XXL</td>\n",
       "      <td>Language</td>\n",
       "      <td>Language modelling</td>\n",
       "      <td>Victor Sanh, Albert Webson, Colin Raffel, Step...</td>\n",
       "      <td>Highly cited</td>\n",
       "      <td>\"we compare T0 to the zero-shot performance of...</td>\n",
       "      <td>Open access (unrestricted)</td>\n",
       "      <td>https://arxiv.org/abs/2110.08207</td>\n",
       "      <td>1475.0</td>\n",
       "      <td>Multitask Prompted Training Enables Zero-Shot ...</td>\n",
       "      <td>...</td>\n",
       "      <td>123000000000000</td>\n",
       "      <td>NaN</td>\n",
       "      <td>TF16</td>\n",
       "      <td>123000000000000</td>\n",
       "      <td>1</td>\n",
       "      <td>TPU</td>\n",
       "      <td>NaN</td>\n",
       "      <td>NaN</td>\n",
       "      <td>Open</td>\n",
       "      <td>Open</td>\n",
       "    </tr>\n",
       "    <tr>\n",
       "      <th>1004</th>\n",
       "      <td>Masked Autoencoders ViT-H</td>\n",
       "      <td>Vision</td>\n",
       "      <td>Semantic segmentation,Image classification,Ima...</td>\n",
       "      <td>Kaiming He, Xinlei Chen, Saining Xie, Yanghao ...</td>\n",
       "      <td>Highly cited,SOTA improvement</td>\n",
       "      <td>\"By fine-tuning with a 448 size, we achieve 87...</td>\n",
       "      <td>Open access (non-commercial)</td>\n",
       "      <td>https://arxiv.org/abs/2111.06377</td>\n",
       "      <td>5598.0</td>\n",
       "      <td>Masked Autoencoders Are Scalable Vision Learners</td>\n",
       "      <td>...</td>\n",
       "      <td>NaN</td>\n",
       "      <td>NaN</td>\n",
       "      <td>FP32</td>\n",
       "      <td>NaN</td>\n",
       "      <td>1</td>\n",
       "      <td>NaN</td>\n",
       "      <td>NaN</td>\n",
       "      <td>NaN</td>\n",
       "      <td>Open</td>\n",
       "      <td>Open</td>\n",
       "    </tr>\n",
       "    <tr>\n",
       "      <th>1024</th>\n",
       "      <td>Engine-XL(NE)</td>\n",
       "      <td>Language,Vision,Multimodal</td>\n",
       "      <td>Named entity recognition</td>\n",
       "      <td>Zhongping Zhang, Yiwen Gu, Bryan A. Plummer</td>\n",
       "      <td>NaN</td>\n",
       "      <td>NaN</td>\n",
       "      <td>Open access (unrestricted)</td>\n",
       "      <td>https://arxiv.org/abs/2112.05917</td>\n",
       "      <td>2.0</td>\n",
       "      <td>Show and Write: Entity-aware Article Generatio...</td>\n",
       "      <td>...</td>\n",
       "      <td>NaN</td>\n",
       "      <td>NaN</td>\n",
       "      <td>FP32</td>\n",
       "      <td>NaN</td>\n",
       "      <td>1</td>\n",
       "      <td>NaN</td>\n",
       "      <td>NaN</td>\n",
       "      <td>NaN</td>\n",
       "      <td>Open</td>\n",
       "      <td>Open</td>\n",
       "    </tr>\n",
       "    <tr>\n",
       "      <th>1031</th>\n",
       "      <td>Contriever</td>\n",
       "      <td>Language</td>\n",
       "      <td>Language modelling</td>\n",
       "      <td>Gautier Izacard, Mathilde Caron, Lucas Hossein...</td>\n",
       "      <td>SOTA improvement</td>\n",
       "      <td>\"We observe that when\\nused as pre-training, c...</td>\n",
       "      <td>Open access (non-commercial)</td>\n",
       "      <td>https://arxiv.org/abs/2112.09118</td>\n",
       "      <td>532.0</td>\n",
       "      <td>Unsupervised Dense Information Retrieval with ...</td>\n",
       "      <td>...</td>\n",
       "      <td>NaN</td>\n",
       "      <td>NaN</td>\n",
       "      <td>FP32</td>\n",
       "      <td>NaN</td>\n",
       "      <td>1</td>\n",
       "      <td>NaN</td>\n",
       "      <td>NaN</td>\n",
       "      <td>NaN</td>\n",
       "      <td>Open</td>\n",
       "      <td>Open</td>\n",
       "    </tr>\n",
       "  </tbody>\n",
       "</table>\n",
       "<p>10 rows × 91 columns</p>\n",
       "</div>"
      ],
      "text/plain": [
       "                         System                      Domain  \\\n",
       "360                         SSD                      Vision   \n",
       "519                     ULM-FiT                    Language   \n",
       "628     Cross-lingual alignment                    Language   \n",
       "748               Theseus 6/768                    Language   \n",
       "901                     Unicorn                    Language   \n",
       "978          AlphaFold-Multimer                     Biology   \n",
       "983                      T0-XXL                    Language   \n",
       "1004  Masked Autoencoders ViT-H                      Vision   \n",
       "1024              Engine-XL(NE)  Language,Vision,Multimodal   \n",
       "1031                 Contriever                    Language   \n",
       "\n",
       "                                                   Task  \\\n",
       "360                                    Object detection   \n",
       "519                                 Text classification   \n",
       "628                                         Translation   \n",
       "748                                 Text autocompletion   \n",
       "901                                  Question answering   \n",
       "978                 Protein folding prediction,Proteins   \n",
       "983                                  Language modelling   \n",
       "1004  Semantic segmentation,Image classification,Ima...   \n",
       "1024                           Named entity recognition   \n",
       "1031                                 Language modelling   \n",
       "\n",
       "                                                Authors  \\\n",
       "360   Wei Liu, Dragomir Anguelov, Dumitru Erhan, Chr...   \n",
       "519                      Jeremy Howard, Sebastian Ruder   \n",
       "628   Tal Schuster, Ori Ram, Regina Barzilay, and Am...   \n",
       "748   Canwen Xu, Wangchunshu Zhou, Tao Ge, Furu Wei,...   \n",
       "901   Nicholas Lourie, Ronan Le Bras, Chandra Bhagav...   \n",
       "978   Richard Evans, Michael O’Neill, Alexander Prit...   \n",
       "983   Victor Sanh, Albert Webson, Colin Raffel, Step...   \n",
       "1004  Kaiming He, Xinlei Chen, Saining Xie, Yanghao ...   \n",
       "1024        Zhongping Zhang, Yiwen Gu, Bryan A. Plummer   \n",
       "1031  Gautier Izacard, Mathilde Caron, Lucas Hossein...   \n",
       "\n",
       "                Notability criteria  \\\n",
       "360                    Highly cited   \n",
       "519                    Highly cited   \n",
       "628                SOTA improvement   \n",
       "748                SOTA improvement   \n",
       "901                             NaN   \n",
       "978   Highly cited,SOTA improvement   \n",
       "983                    Highly cited   \n",
       "1004  Highly cited,SOTA improvement   \n",
       "1024                            NaN   \n",
       "1031               SOTA improvement   \n",
       "\n",
       "                              Notability criteria notes  \\\n",
       "360   Also listed in Denis Panjuta's List of 100+ AI...   \n",
       "519                                                 NaN   \n",
       "628   \"our method consistently outperforms the previ...   \n",
       "748   \"Our approach outperforms existing knowledge d...   \n",
       "901                                                 NaN   \n",
       "978   \"On a benchmark dataset of 17 heterodimer prot...   \n",
       "983   \"we compare T0 to the zero-shot performance of...   \n",
       "1004  \"By fine-tuning with a 448 size, we achieve 87...   \n",
       "1024                                                NaN   \n",
       "1031  \"We observe that when\\nused as pre-training, c...   \n",
       "\n",
       "               Model accessibility  \\\n",
       "360     Open access (unrestricted)   \n",
       "519     Open access (unrestricted)   \n",
       "628     Open access (unrestricted)   \n",
       "748     Open access (unrestricted)   \n",
       "901     Open access (unrestricted)   \n",
       "978     Open access (unrestricted)   \n",
       "983     Open access (unrestricted)   \n",
       "1004  Open access (non-commercial)   \n",
       "1024    Open access (unrestricted)   \n",
       "1031  Open access (non-commercial)   \n",
       "\n",
       "                                                   Link  Citations  \\\n",
       "360                    https://arxiv.org/pdf/1512.02325    39468.0   \n",
       "519                    https://arxiv.org/abs/1801.06146     1940.0   \n",
       "628                    https://arxiv.org/abs/1902.09492      196.0   \n",
       "748                    https://arxiv.org/abs/2002.02925      184.0   \n",
       "901                    https://arxiv.org/abs/2103.13009        NaN   \n",
       "978   https://www.biorxiv.org/content/10.1101/2021.1...     1687.0   \n",
       "983                    https://arxiv.org/abs/2110.08207     1475.0   \n",
       "1004                   https://arxiv.org/abs/2111.06377     5598.0   \n",
       "1024                   https://arxiv.org/abs/2112.05917        2.0   \n",
       "1031                   https://arxiv.org/abs/2112.09118      532.0   \n",
       "\n",
       "                                              Reference  ...    Hardware TF16  \\\n",
       "360                  SSD: Single Shot MultiBox Detector  ...              NaN   \n",
       "519   Universal Language Model Fine-tuning for Text ...  ...              NaN   \n",
       "628   Cross-lingual alignment of contextual word emb...  ...              NaN   \n",
       "748   BERT-of-Theseus: Compressing BERT by Progressi...  ...  125000000000000   \n",
       "901   UNICORN on RAINBOW: A Universal Commonsense Re...  ...              NaN   \n",
       "978   Protein complex prediction with AlphaFold-Mult...  ...  123000000000000   \n",
       "983   Multitask Prompted Training Enables Zero-Shot ...  ...  123000000000000   \n",
       "1004   Masked Autoencoders Are Scalable Vision Learners  ...              NaN   \n",
       "1024  Show and Write: Entity-aware Article Generatio...  ...              NaN   \n",
       "1031  Unsupervised Dense Information Retrieval with ...  ...              NaN   \n",
       "\n",
       "            Hardware FP16  Assumed precision Assumed hardware FLOP/s  TEMP  \\\n",
       "360                   NaN               FP32           6691000000000     0   \n",
       "519                   NaN               FP32                     NaN     1   \n",
       "628     177200000000.0000               FP32          11340000000000     1   \n",
       "748   31330000000000.0000               TF16         125000000000000     1   \n",
       "901                   NaN               FP32                     NaN     1   \n",
       "978                   NaN               TF16         123000000000000     1   \n",
       "983                   NaN               TF16         123000000000000     1   \n",
       "1004                  NaN               FP32                     NaN     1   \n",
       "1024                  NaN               FP32                     NaN     1   \n",
       "1031                  NaN               FP32                     NaN     1   \n",
       "\n",
       "     Hardware type Compute estimate method Training compute estimation method  \\\n",
       "360            GPU                     NaN                                NaN   \n",
       "519            NaN                     NaN                                NaN   \n",
       "628            GPU                     NaN                                NaN   \n",
       "748            GPU                     NaN                                NaN   \n",
       "901            NaN                     NaN                                NaN   \n",
       "978            TPU                     NaN                                NaN   \n",
       "983            TPU                     NaN                                NaN   \n",
       "1004           NaN                     NaN                                NaN   \n",
       "1024           NaN                     NaN                                NaN   \n",
       "1031           NaN                     NaN                                NaN   \n",
       "\n",
       "      Model open/closed Code open/closed  \n",
       "360                Open           Closed  \n",
       "519                Open           Closed  \n",
       "628                Open             Open  \n",
       "748                Open             Open  \n",
       "901                Open             Open  \n",
       "978                Open           Closed  \n",
       "983                Open             Open  \n",
       "1004               Open             Open  \n",
       "1024               Open             Open  \n",
       "1031               Open             Open  \n",
       "\n",
       "[10 rows x 91 columns]"
      ]
     },
     "execution_count": 10,
     "metadata": {},
     "output_type": "execute_result"
    }
   ],
   "source": [
    "print(f\"Models that are not fine-tunes:  {len(open_df.loc[open_df['Base model'].isna()])}\")\n",
    "print(f\"Models that are fine-tunes:  {len(open_df.loc[open_df['Base model'].notna()])}\")\n",
    "open_df.loc[open_df['Base model'].notna()].head(10)"
   ]
  },
  {
   "cell_type": "code",
   "execution_count": 11,
   "metadata": {
    "tags": []
   },
   "outputs": [
    {
     "name": "stdout",
     "output_type": "stream",
     "text": [
      "39\n"
     ]
    },
    {
     "data": {
      "text/html": [
       "<div>\n",
       "<style scoped>\n",
       "    .dataframe tbody tr th:only-of-type {\n",
       "        vertical-align: middle;\n",
       "    }\n",
       "\n",
       "    .dataframe tbody tr th {\n",
       "        vertical-align: top;\n",
       "    }\n",
       "\n",
       "    .dataframe thead th {\n",
       "        text-align: right;\n",
       "    }\n",
       "</style>\n",
       "<table border=\"1\" class=\"dataframe\">\n",
       "  <thead>\n",
       "    <tr style=\"text-align: right;\">\n",
       "      <th></th>\n",
       "      <th>System</th>\n",
       "      <th>Notability criteria</th>\n",
       "    </tr>\n",
       "  </thead>\n",
       "  <tbody>\n",
       "    <tr>\n",
       "      <th>360</th>\n",
       "      <td>SSD</td>\n",
       "      <td>Highly cited</td>\n",
       "    </tr>\n",
       "    <tr>\n",
       "      <th>519</th>\n",
       "      <td>ULM-FiT</td>\n",
       "      <td>Highly cited</td>\n",
       "    </tr>\n",
       "    <tr>\n",
       "      <th>628</th>\n",
       "      <td>Cross-lingual alignment</td>\n",
       "      <td>SOTA improvement</td>\n",
       "    </tr>\n",
       "    <tr>\n",
       "      <th>748</th>\n",
       "      <td>Theseus 6/768</td>\n",
       "      <td>SOTA improvement</td>\n",
       "    </tr>\n",
       "    <tr>\n",
       "      <th>978</th>\n",
       "      <td>AlphaFold-Multimer</td>\n",
       "      <td>Highly cited,SOTA improvement</td>\n",
       "    </tr>\n",
       "    <tr>\n",
       "      <th>983</th>\n",
       "      <td>T0-XXL</td>\n",
       "      <td>Highly cited</td>\n",
       "    </tr>\n",
       "    <tr>\n",
       "      <th>1004</th>\n",
       "      <td>Masked Autoencoders ViT-H</td>\n",
       "      <td>Highly cited,SOTA improvement</td>\n",
       "    </tr>\n",
       "    <tr>\n",
       "      <th>1031</th>\n",
       "      <td>Contriever</td>\n",
       "      <td>SOTA improvement</td>\n",
       "    </tr>\n",
       "    <tr>\n",
       "      <th>1081</th>\n",
       "      <td>BERT-RBP</td>\n",
       "      <td>SOTA improvement</td>\n",
       "    </tr>\n",
       "    <tr>\n",
       "      <th>1101</th>\n",
       "      <td>CogVideo</td>\n",
       "      <td>Historical significance</td>\n",
       "    </tr>\n",
       "    <tr>\n",
       "      <th>1155</th>\n",
       "      <td>BlenderBot 3</td>\n",
       "      <td>SOTA improvement</td>\n",
       "    </tr>\n",
       "    <tr>\n",
       "      <th>1183</th>\n",
       "      <td>Flan-T5 11B</td>\n",
       "      <td>Highly cited</td>\n",
       "    </tr>\n",
       "    <tr>\n",
       "      <th>1199</th>\n",
       "      <td>BLOOMZ-176B</td>\n",
       "      <td>SOTA improvement</td>\n",
       "    </tr>\n",
       "    <tr>\n",
       "      <th>1200</th>\n",
       "      <td>mT0-13B</td>\n",
       "      <td>SOTA improvement</td>\n",
       "    </tr>\n",
       "    <tr>\n",
       "      <th>1203</th>\n",
       "      <td>AltCLIP_M9</td>\n",
       "      <td>SOTA improvement</td>\n",
       "    </tr>\n",
       "    <tr>\n",
       "      <th>1248</th>\n",
       "      <td>Flan T5-XXL + BLIP-2</td>\n",
       "      <td>Highly cited</td>\n",
       "    </tr>\n",
       "    <tr>\n",
       "      <th>1284</th>\n",
       "      <td>VideoMAE V2</td>\n",
       "      <td>SOTA improvement</td>\n",
       "    </tr>\n",
       "    <tr>\n",
       "      <th>1297</th>\n",
       "      <td>Segment Anything Model</td>\n",
       "      <td>Highly cited</td>\n",
       "    </tr>\n",
       "    <tr>\n",
       "      <th>1305</th>\n",
       "      <td>LLaVA</td>\n",
       "      <td>SOTA improvement</td>\n",
       "    </tr>\n",
       "    <tr>\n",
       "      <th>1322</th>\n",
       "      <td>InstructBLIP</td>\n",
       "      <td>SOTA improvement</td>\n",
       "    </tr>\n",
       "    <tr>\n",
       "      <th>1328</th>\n",
       "      <td>CoEdiT-xxl</td>\n",
       "      <td>SOTA improvement</td>\n",
       "    </tr>\n",
       "    <tr>\n",
       "      <th>1339</th>\n",
       "      <td>Goat-7B</td>\n",
       "      <td>SOTA improvement</td>\n",
       "    </tr>\n",
       "    <tr>\n",
       "      <th>1419</th>\n",
       "      <td>Qwen-VL</td>\n",
       "      <td>SOTA improvement</td>\n",
       "    </tr>\n",
       "    <tr>\n",
       "      <th>1420</th>\n",
       "      <td>PeptideBERT</td>\n",
       "      <td>SOTA improvement</td>\n",
       "    </tr>\n",
       "    <tr>\n",
       "      <th>1457</th>\n",
       "      <td>FinGPT-13B</td>\n",
       "      <td>SOTA improvement</td>\n",
       "    </tr>\n",
       "    <tr>\n",
       "      <th>1462</th>\n",
       "      <td>Ferret (13B)</td>\n",
       "      <td>SOTA improvement</td>\n",
       "    </tr>\n",
       "    <tr>\n",
       "      <th>1473</th>\n",
       "      <td>QMoE: compressed 1T model</td>\n",
       "      <td>SOTA improvement</td>\n",
       "    </tr>\n",
       "    <tr>\n",
       "      <th>1494</th>\n",
       "      <td>BLUUMI</td>\n",
       "      <td>SOTA improvement</td>\n",
       "    </tr>\n",
       "    <tr>\n",
       "      <th>1498</th>\n",
       "      <td>LLaVA 1.5</td>\n",
       "      <td>SOTA improvement</td>\n",
       "    </tr>\n",
       "    <tr>\n",
       "      <th>1503</th>\n",
       "      <td>CogVLM-17B</td>\n",
       "      <td>SOTA improvement</td>\n",
       "    </tr>\n",
       "    <tr>\n",
       "      <th>1505</th>\n",
       "      <td>mPLUG-Owl2</td>\n",
       "      <td>SOTA improvement</td>\n",
       "    </tr>\n",
       "    <tr>\n",
       "      <th>1512</th>\n",
       "      <td>SPHINX (Llama 2 13B)</td>\n",
       "      <td>SOTA improvement</td>\n",
       "    </tr>\n",
       "    <tr>\n",
       "      <th>1513</th>\n",
       "      <td>Volcano 13B</td>\n",
       "      <td>SOTA improvement</td>\n",
       "    </tr>\n",
       "    <tr>\n",
       "      <th>1540</th>\n",
       "      <td>Llama Guard</td>\n",
       "      <td>SOTA improvement</td>\n",
       "    </tr>\n",
       "    <tr>\n",
       "      <th>1542</th>\n",
       "      <td>SeamlessM4T</td>\n",
       "      <td>SOTA improvement</td>\n",
       "    </tr>\n",
       "    <tr>\n",
       "      <th>1550</th>\n",
       "      <td>CogAgent</td>\n",
       "      <td>SOTA improvement</td>\n",
       "    </tr>\n",
       "    <tr>\n",
       "      <th>1551</th>\n",
       "      <td>FunSearch</td>\n",
       "      <td>SOTA improvement,Historical significance</td>\n",
       "    </tr>\n",
       "    <tr>\n",
       "      <th>1589</th>\n",
       "      <td>Aya</td>\n",
       "      <td>SOTA improvement</td>\n",
       "    </tr>\n",
       "    <tr>\n",
       "      <th>1673</th>\n",
       "      <td>OpenVLA</td>\n",
       "      <td>SOTA improvement</td>\n",
       "    </tr>\n",
       "  </tbody>\n",
       "</table>\n",
       "</div>"
      ],
      "text/plain": [
       "                         System                       Notability criteria\n",
       "360                         SSD                              Highly cited\n",
       "519                     ULM-FiT                              Highly cited\n",
       "628     Cross-lingual alignment                          SOTA improvement\n",
       "748               Theseus 6/768                          SOTA improvement\n",
       "978          AlphaFold-Multimer             Highly cited,SOTA improvement\n",
       "983                      T0-XXL                              Highly cited\n",
       "1004  Masked Autoencoders ViT-H             Highly cited,SOTA improvement\n",
       "1031                 Contriever                          SOTA improvement\n",
       "1081                   BERT-RBP                          SOTA improvement\n",
       "1101                   CogVideo                   Historical significance\n",
       "1155               BlenderBot 3                          SOTA improvement\n",
       "1183                Flan-T5 11B                              Highly cited\n",
       "1199                BLOOMZ-176B                          SOTA improvement\n",
       "1200                    mT0-13B                          SOTA improvement\n",
       "1203                 AltCLIP_M9                          SOTA improvement\n",
       "1248       Flan T5-XXL + BLIP-2                              Highly cited\n",
       "1284                VideoMAE V2                          SOTA improvement\n",
       "1297     Segment Anything Model                              Highly cited\n",
       "1305                      LLaVA                          SOTA improvement\n",
       "1322               InstructBLIP                          SOTA improvement\n",
       "1328                 CoEdiT-xxl                          SOTA improvement\n",
       "1339                    Goat-7B                          SOTA improvement\n",
       "1419                    Qwen-VL                          SOTA improvement\n",
       "1420                PeptideBERT                          SOTA improvement\n",
       "1457                 FinGPT-13B                          SOTA improvement\n",
       "1462               Ferret (13B)                          SOTA improvement\n",
       "1473  QMoE: compressed 1T model                          SOTA improvement\n",
       "1494                     BLUUMI                          SOTA improvement\n",
       "1498                  LLaVA 1.5                          SOTA improvement\n",
       "1503                 CogVLM-17B                          SOTA improvement\n",
       "1505                 mPLUG-Owl2                          SOTA improvement\n",
       "1512       SPHINX (Llama 2 13B)                          SOTA improvement\n",
       "1513                Volcano 13B                          SOTA improvement\n",
       "1540                Llama Guard                          SOTA improvement\n",
       "1542                SeamlessM4T                          SOTA improvement\n",
       "1550                   CogAgent                          SOTA improvement\n",
       "1551                  FunSearch  SOTA improvement,Historical significance\n",
       "1589                        Aya                          SOTA improvement\n",
       "1673                    OpenVLA                          SOTA improvement"
      ]
     },
     "execution_count": 11,
     "metadata": {},
     "output_type": "execute_result"
    }
   ],
   "source": [
    "notable_finetunes = open_df.loc[(open_df['Base model'].notna()) & (open_df['Notability criteria'].notna())]\n",
    "print(len(notable_finetunes))\n",
    "notable_finetunes[['System', 'Notability criteria']]\n",
    "# 33 notable, fine-tuned open models"
   ]
  },
  {
   "cell_type": "code",
   "execution_count": 12,
   "metadata": {
    "tags": []
   },
   "outputs": [
    {
     "data": {
      "text/plain": [
       "Domain\n",
       "Language                                                    317\n",
       "Biology                                                      47\n",
       "Vision                                                       45\n",
       "Multimodal,Language,Vision                                   14\n",
       "Image generation                                             14\n",
       "Speech                                                        9\n",
       "Language,Vision,Multimodal                                    8\n",
       "Games                                                         5\n",
       "Vision,Image generation                                       5\n",
       "Multimodal,Vision,Language                                    3\n",
       "Audio                                                         3\n",
       "Earth science                                                 3\n",
       "Robotics                                                      2\n",
       "Language,Multimodal,Vision                                    2\n",
       "Video                                                         2\n",
       "Language,Biology                                              2\n",
       "Vision,Language                                               2\n",
       "Vision,Language,Multimodal                                    2\n",
       "Speech,Language                                               1\n",
       "Multimodal,Vision,Audio,Language,Image generation,Speech      1\n",
       "Robotics,Vision,Language                                      1\n",
       "Multimodal,Vision,Speech,Language                             1\n",
       "Multimodal,Vision,Language,Video                              1\n",
       "3D modeling,Vision                                            1\n",
       "Multimodal,Image generation,Vision,Language                   1\n",
       "Multimodal,Video,Robotics,Vision                              1\n",
       "Multimodal,Video                                              1\n",
       "Multimodal,Language,Video,Vision,Speech                       1\n",
       "Multimodal,Language,Audio                                     1\n",
       "Multimodal,Image generation,Language,Vision                   1\n",
       "Mathematics                                                   1\n",
       "Language,Vision                                               1\n",
       "Language,Speech,Audio                                         1\n",
       "Language,Search                                               1\n",
       "Language,Mathematics                                          1\n",
       "Image generation,Vision                                       1\n",
       "Biology,Vision,Language,Medicine                              1\n",
       "Audio,Speech                                                  1\n",
       "Vision,Video                                                  1\n",
       "dtype: int64"
      ]
     },
     "execution_count": 12,
     "metadata": {},
     "output_type": "execute_result"
    }
   ],
   "source": [
    "open_df.groupby('Domain').size().sort_values(ascending=False)"
   ]
  },
  {
   "cell_type": "markdown",
   "metadata": {},
   "source": [
    "# Model Accessibility Charts"
   ]
  },
  {
   "cell_type": "code",
   "execution_count": 13,
   "metadata": {},
   "outputs": [
    {
     "name": "stderr",
     "output_type": "stream",
     "text": [
      "/var/folders/s2/stl5t_bn7xg9vdfxxr71rzrc0000gn/T/ipykernel_53858/3747043736.py:2: SettingWithCopyWarning: \n",
      "A value is trying to be set on a copy of a slice from a DataFrame.\n",
      "Try using .loc[row_indexer,col_indexer] = value instead\n",
      "\n",
      "See the caveats in the documentation: https://pandas.pydata.org/pandas-docs/stable/user_guide/indexing.html#returning-a-view-versus-a-copy\n",
      "  access_df['Year'] = pd.to_datetime(access_df['Publication date']).dt.year\n"
     ]
    }
   ],
   "source": [
    "# Add year column\n",
    "access_df['Year'] = pd.to_datetime(access_df['Publication date']).dt.year\n"
   ]
  },
  {
   "cell_type": "code",
   "execution_count": 14,
   "metadata": {
    "tags": []
   },
   "outputs": [],
   "source": [
    "# Input -  model counts, grouped by accessibility and by year\n",
    "# Output - same dataframe with cumulative counts for status\n",
    "\n",
    "def get_cumulative_counts(counts):\n",
    "    \n",
    "    counts['Cumulative for status'] = counts.groupby('Model accessibility')['Count'].cumsum()\n",
    "    \n",
    "    # Pivot the access counts table to get counts for every status and every year\n",
    "    # This will have many NaN values because not every year has a model of every status\n",
    "    counts_wide = counts.pivot(index='Year', columns='Model accessibility', values='Cumulative for status')\n",
    "    all_years = pd.Series(range(int(counts_wide.index.min()), int(counts_wide.index.max()) + 1))\n",
    "    \n",
    "\n",
    "    # Fill NaN values with 0. This ensures that the cumulative count does not get dropped in individual years \n",
    "    # where there are no models with a given status\n",
    "    counts_wide_filled = counts_wide.reindex(all_years).ffill().fillna(0)\n",
    "    counts_wide_filled = counts_wide_filled.reset_index(names=[\"Year\"])\n",
    "    \n",
    "\n",
    "    # Unpivot to get cumulative totals\n",
    "    counts_filled = (counts_wide_filled.melt(id_vars='Year', \n",
    "                                         var_name='Model accessibility', \n",
    "                                         value_name='Cumulative for status')\n",
    "                                   .reset_index(drop=True))\n",
    "\n",
    "    # sort from closed to open\n",
    "    sort_order = ['Unreleased', 'Hosted access (no API)', 'API access', 'Open access (non-commercial)', 'Open access (restricted use)', 'Open access (unrestricted)']\n",
    "    counts_filled['Category_sorted'] = pd.Categorical(counts_filled['Model accessibility'], categories=sort_order, ordered=True)\n",
    "    counts_filled = counts_filled.sort_values(['Category_sorted', 'Year'])\n",
    "\n",
    "    return counts_filled"
   ]
  },
  {
   "cell_type": "code",
   "execution_count": 15,
   "metadata": {},
   "outputs": [
    {
     "data": {
      "application/vnd.plotly.v1+json": {
       "config": {
        "plotlyServerURL": "https://plot.ly"
       },
       "data": [
        {
         "fillpattern": {
          "shape": ""
         },
         "hovertemplate": "Model accessibility=Unreleased<br>Year=%{x}<br>Cumulative Count=%{y}<extra></extra>",
         "legendgroup": "Unreleased",
         "line": {
          "color": "#636efa"
         },
         "marker": {
          "symbol": "circle"
         },
         "mode": "lines",
         "name": "Unreleased",
         "orientation": "v",
         "showlegend": true,
         "stackgroup": "1",
         "type": "scatter",
         "x": [
          2015,
          2016,
          2017,
          2018,
          2019,
          2020,
          2021,
          2022,
          2023,
          2024
         ],
         "xaxis": "x",
         "y": [
          9,
          31,
          67,
          112,
          205,
          260,
          336,
          386,
          433,
          451
         ],
         "yaxis": "y"
        },
        {
         "fillpattern": {
          "shape": ""
         },
         "hovertemplate": "Model accessibility=Hosted access (no API)<br>Year=%{x}<br>Cumulative Count=%{y}<extra></extra>",
         "legendgroup": "Hosted access (no API)",
         "line": {
          "color": "#EF553B"
         },
         "marker": {
          "symbol": "circle"
         },
         "mode": "lines",
         "name": "Hosted access (no API)",
         "orientation": "v",
         "showlegend": true,
         "stackgroup": "1",
         "type": "scatter",
         "x": [
          2015,
          2016,
          2017,
          2018,
          2019,
          2020,
          2021,
          2022,
          2023,
          2024
         ],
         "xaxis": "x",
         "y": [
          0,
          1,
          1,
          1,
          2,
          2,
          4,
          7,
          16,
          28
         ],
         "yaxis": "y"
        },
        {
         "fillpattern": {
          "shape": ""
         },
         "hovertemplate": "Model accessibility=API access<br>Year=%{x}<br>Cumulative Count=%{y}<extra></extra>",
         "legendgroup": "API access",
         "line": {
          "color": "#00cc96"
         },
         "marker": {
          "symbol": "circle"
         },
         "mode": "lines",
         "name": "API access",
         "orientation": "v",
         "showlegend": true,
         "stackgroup": "1",
         "type": "scatter",
         "x": [
          2015,
          2016,
          2017,
          2018,
          2019,
          2020,
          2021,
          2022,
          2023,
          2024
         ],
         "xaxis": "x",
         "y": [
          0,
          0,
          0,
          0,
          0,
          1,
          9,
          16,
          42,
          66
         ],
         "yaxis": "y"
        },
        {
         "fillpattern": {
          "shape": ""
         },
         "hovertemplate": "Model accessibility=Open access (non-commercial)<br>Year=%{x}<br>Cumulative Count=%{y}<extra></extra>",
         "legendgroup": "Open access (non-commercial)",
         "line": {
          "color": "#ab63fa"
         },
         "marker": {
          "symbol": "circle"
         },
         "mode": "lines",
         "name": "Open access (non-commercial)",
         "orientation": "v",
         "showlegend": true,
         "stackgroup": "1",
         "type": "scatter",
         "x": [
          2015,
          2016,
          2017,
          2018,
          2019,
          2020,
          2021,
          2022,
          2023,
          2024
         ],
         "xaxis": "x",
         "y": [
          0,
          2,
          2,
          4,
          15,
          18,
          26,
          46,
          79,
          95
         ],
         "yaxis": "y"
        },
        {
         "fillpattern": {
          "shape": ""
         },
         "hovertemplate": "Model accessibility=Open access (restricted use)<br>Year=%{x}<br>Cumulative Count=%{y}<extra></extra>",
         "legendgroup": "Open access (restricted use)",
         "line": {
          "color": "#FFA15A"
         },
         "marker": {
          "symbol": "circle"
         },
         "mode": "lines",
         "name": "Open access (restricted use)",
         "orientation": "v",
         "showlegend": true,
         "stackgroup": "1",
         "type": "scatter",
         "x": [
          2015,
          2016,
          2017,
          2018,
          2019,
          2020,
          2021,
          2022,
          2023,
          2024
         ],
         "xaxis": "x",
         "y": [
          0,
          0,
          0,
          0,
          0,
          0,
          0,
          10,
          50,
          78
         ],
         "yaxis": "y"
        },
        {
         "fillpattern": {
          "shape": ""
         },
         "hovertemplate": "Model accessibility=Open access (unrestricted)<br>Year=%{x}<br>Cumulative Count=%{y}<extra></extra>",
         "legendgroup": "Open access (unrestricted)",
         "line": {
          "color": "#19d3f3"
         },
         "marker": {
          "symbol": "circle"
         },
         "mode": "lines",
         "name": "Open access (unrestricted)",
         "orientation": "v",
         "showlegend": true,
         "stackgroup": "1",
         "type": "scatter",
         "x": [
          2015,
          2016,
          2017,
          2018,
          2019,
          2020,
          2021,
          2022,
          2023,
          2024
         ],
         "xaxis": "x",
         "y": [
          4,
          6,
          8,
          28,
          64,
          100,
          153,
          201,
          298,
          333
         ],
         "yaxis": "y"
        }
       ],
       "layout": {
        "autosize": false,
        "height": 600,
        "legend": {
         "title": {
          "text": "Model accessibility"
         },
         "tracegroupgap": 0
        },
        "template": {
         "data": {
          "bar": [
           {
            "error_x": {
             "color": "#2a3f5f"
            },
            "error_y": {
             "color": "#2a3f5f"
            },
            "marker": {
             "line": {
              "color": "#E5ECF6",
              "width": 0.5
             },
             "pattern": {
              "fillmode": "overlay",
              "size": 10,
              "solidity": 0.2
             }
            },
            "type": "bar"
           }
          ],
          "barpolar": [
           {
            "marker": {
             "line": {
              "color": "#E5ECF6",
              "width": 0.5
             },
             "pattern": {
              "fillmode": "overlay",
              "size": 10,
              "solidity": 0.2
             }
            },
            "type": "barpolar"
           }
          ],
          "carpet": [
           {
            "aaxis": {
             "endlinecolor": "#2a3f5f",
             "gridcolor": "white",
             "linecolor": "white",
             "minorgridcolor": "white",
             "startlinecolor": "#2a3f5f"
            },
            "baxis": {
             "endlinecolor": "#2a3f5f",
             "gridcolor": "white",
             "linecolor": "white",
             "minorgridcolor": "white",
             "startlinecolor": "#2a3f5f"
            },
            "type": "carpet"
           }
          ],
          "choropleth": [
           {
            "colorbar": {
             "outlinewidth": 0,
             "ticks": ""
            },
            "type": "choropleth"
           }
          ],
          "contour": [
           {
            "colorbar": {
             "outlinewidth": 0,
             "ticks": ""
            },
            "colorscale": [
             [
              0,
              "#0d0887"
             ],
             [
              0.1111111111111111,
              "#46039f"
             ],
             [
              0.2222222222222222,
              "#7201a8"
             ],
             [
              0.3333333333333333,
              "#9c179e"
             ],
             [
              0.4444444444444444,
              "#bd3786"
             ],
             [
              0.5555555555555556,
              "#d8576b"
             ],
             [
              0.6666666666666666,
              "#ed7953"
             ],
             [
              0.7777777777777778,
              "#fb9f3a"
             ],
             [
              0.8888888888888888,
              "#fdca26"
             ],
             [
              1,
              "#f0f921"
             ]
            ],
            "type": "contour"
           }
          ],
          "contourcarpet": [
           {
            "colorbar": {
             "outlinewidth": 0,
             "ticks": ""
            },
            "type": "contourcarpet"
           }
          ],
          "heatmap": [
           {
            "colorbar": {
             "outlinewidth": 0,
             "ticks": ""
            },
            "colorscale": [
             [
              0,
              "#0d0887"
             ],
             [
              0.1111111111111111,
              "#46039f"
             ],
             [
              0.2222222222222222,
              "#7201a8"
             ],
             [
              0.3333333333333333,
              "#9c179e"
             ],
             [
              0.4444444444444444,
              "#bd3786"
             ],
             [
              0.5555555555555556,
              "#d8576b"
             ],
             [
              0.6666666666666666,
              "#ed7953"
             ],
             [
              0.7777777777777778,
              "#fb9f3a"
             ],
             [
              0.8888888888888888,
              "#fdca26"
             ],
             [
              1,
              "#f0f921"
             ]
            ],
            "type": "heatmap"
           }
          ],
          "heatmapgl": [
           {
            "colorbar": {
             "outlinewidth": 0,
             "ticks": ""
            },
            "colorscale": [
             [
              0,
              "#0d0887"
             ],
             [
              0.1111111111111111,
              "#46039f"
             ],
             [
              0.2222222222222222,
              "#7201a8"
             ],
             [
              0.3333333333333333,
              "#9c179e"
             ],
             [
              0.4444444444444444,
              "#bd3786"
             ],
             [
              0.5555555555555556,
              "#d8576b"
             ],
             [
              0.6666666666666666,
              "#ed7953"
             ],
             [
              0.7777777777777778,
              "#fb9f3a"
             ],
             [
              0.8888888888888888,
              "#fdca26"
             ],
             [
              1,
              "#f0f921"
             ]
            ],
            "type": "heatmapgl"
           }
          ],
          "histogram": [
           {
            "marker": {
             "pattern": {
              "fillmode": "overlay",
              "size": 10,
              "solidity": 0.2
             }
            },
            "type": "histogram"
           }
          ],
          "histogram2d": [
           {
            "colorbar": {
             "outlinewidth": 0,
             "ticks": ""
            },
            "colorscale": [
             [
              0,
              "#0d0887"
             ],
             [
              0.1111111111111111,
              "#46039f"
             ],
             [
              0.2222222222222222,
              "#7201a8"
             ],
             [
              0.3333333333333333,
              "#9c179e"
             ],
             [
              0.4444444444444444,
              "#bd3786"
             ],
             [
              0.5555555555555556,
              "#d8576b"
             ],
             [
              0.6666666666666666,
              "#ed7953"
             ],
             [
              0.7777777777777778,
              "#fb9f3a"
             ],
             [
              0.8888888888888888,
              "#fdca26"
             ],
             [
              1,
              "#f0f921"
             ]
            ],
            "type": "histogram2d"
           }
          ],
          "histogram2dcontour": [
           {
            "colorbar": {
             "outlinewidth": 0,
             "ticks": ""
            },
            "colorscale": [
             [
              0,
              "#0d0887"
             ],
             [
              0.1111111111111111,
              "#46039f"
             ],
             [
              0.2222222222222222,
              "#7201a8"
             ],
             [
              0.3333333333333333,
              "#9c179e"
             ],
             [
              0.4444444444444444,
              "#bd3786"
             ],
             [
              0.5555555555555556,
              "#d8576b"
             ],
             [
              0.6666666666666666,
              "#ed7953"
             ],
             [
              0.7777777777777778,
              "#fb9f3a"
             ],
             [
              0.8888888888888888,
              "#fdca26"
             ],
             [
              1,
              "#f0f921"
             ]
            ],
            "type": "histogram2dcontour"
           }
          ],
          "mesh3d": [
           {
            "colorbar": {
             "outlinewidth": 0,
             "ticks": ""
            },
            "type": "mesh3d"
           }
          ],
          "parcoords": [
           {
            "line": {
             "colorbar": {
              "outlinewidth": 0,
              "ticks": ""
             }
            },
            "type": "parcoords"
           }
          ],
          "pie": [
           {
            "automargin": true,
            "type": "pie"
           }
          ],
          "scatter": [
           {
            "fillpattern": {
             "fillmode": "overlay",
             "size": 10,
             "solidity": 0.2
            },
            "type": "scatter"
           }
          ],
          "scatter3d": [
           {
            "line": {
             "colorbar": {
              "outlinewidth": 0,
              "ticks": ""
             }
            },
            "marker": {
             "colorbar": {
              "outlinewidth": 0,
              "ticks": ""
             }
            },
            "type": "scatter3d"
           }
          ],
          "scattercarpet": [
           {
            "marker": {
             "colorbar": {
              "outlinewidth": 0,
              "ticks": ""
             }
            },
            "type": "scattercarpet"
           }
          ],
          "scattergeo": [
           {
            "marker": {
             "colorbar": {
              "outlinewidth": 0,
              "ticks": ""
             }
            },
            "type": "scattergeo"
           }
          ],
          "scattergl": [
           {
            "marker": {
             "colorbar": {
              "outlinewidth": 0,
              "ticks": ""
             }
            },
            "type": "scattergl"
           }
          ],
          "scattermapbox": [
           {
            "marker": {
             "colorbar": {
              "outlinewidth": 0,
              "ticks": ""
             }
            },
            "type": "scattermapbox"
           }
          ],
          "scatterpolar": [
           {
            "marker": {
             "colorbar": {
              "outlinewidth": 0,
              "ticks": ""
             }
            },
            "type": "scatterpolar"
           }
          ],
          "scatterpolargl": [
           {
            "marker": {
             "colorbar": {
              "outlinewidth": 0,
              "ticks": ""
             }
            },
            "type": "scatterpolargl"
           }
          ],
          "scatterternary": [
           {
            "marker": {
             "colorbar": {
              "outlinewidth": 0,
              "ticks": ""
             }
            },
            "type": "scatterternary"
           }
          ],
          "surface": [
           {
            "colorbar": {
             "outlinewidth": 0,
             "ticks": ""
            },
            "colorscale": [
             [
              0,
              "#0d0887"
             ],
             [
              0.1111111111111111,
              "#46039f"
             ],
             [
              0.2222222222222222,
              "#7201a8"
             ],
             [
              0.3333333333333333,
              "#9c179e"
             ],
             [
              0.4444444444444444,
              "#bd3786"
             ],
             [
              0.5555555555555556,
              "#d8576b"
             ],
             [
              0.6666666666666666,
              "#ed7953"
             ],
             [
              0.7777777777777778,
              "#fb9f3a"
             ],
             [
              0.8888888888888888,
              "#fdca26"
             ],
             [
              1,
              "#f0f921"
             ]
            ],
            "type": "surface"
           }
          ],
          "table": [
           {
            "cells": {
             "fill": {
              "color": "#EBF0F8"
             },
             "line": {
              "color": "white"
             }
            },
            "header": {
             "fill": {
              "color": "#C8D4E3"
             },
             "line": {
              "color": "white"
             }
            },
            "type": "table"
           }
          ]
         },
         "layout": {
          "annotationdefaults": {
           "arrowcolor": "#2a3f5f",
           "arrowhead": 0,
           "arrowwidth": 1
          },
          "autotypenumbers": "strict",
          "coloraxis": {
           "colorbar": {
            "outlinewidth": 0,
            "ticks": ""
           }
          },
          "colorscale": {
           "diverging": [
            [
             0,
             "#8e0152"
            ],
            [
             0.1,
             "#c51b7d"
            ],
            [
             0.2,
             "#de77ae"
            ],
            [
             0.3,
             "#f1b6da"
            ],
            [
             0.4,
             "#fde0ef"
            ],
            [
             0.5,
             "#f7f7f7"
            ],
            [
             0.6,
             "#e6f5d0"
            ],
            [
             0.7,
             "#b8e186"
            ],
            [
             0.8,
             "#7fbc41"
            ],
            [
             0.9,
             "#4d9221"
            ],
            [
             1,
             "#276419"
            ]
           ],
           "sequential": [
            [
             0,
             "#0d0887"
            ],
            [
             0.1111111111111111,
             "#46039f"
            ],
            [
             0.2222222222222222,
             "#7201a8"
            ],
            [
             0.3333333333333333,
             "#9c179e"
            ],
            [
             0.4444444444444444,
             "#bd3786"
            ],
            [
             0.5555555555555556,
             "#d8576b"
            ],
            [
             0.6666666666666666,
             "#ed7953"
            ],
            [
             0.7777777777777778,
             "#fb9f3a"
            ],
            [
             0.8888888888888888,
             "#fdca26"
            ],
            [
             1,
             "#f0f921"
            ]
           ],
           "sequentialminus": [
            [
             0,
             "#0d0887"
            ],
            [
             0.1111111111111111,
             "#46039f"
            ],
            [
             0.2222222222222222,
             "#7201a8"
            ],
            [
             0.3333333333333333,
             "#9c179e"
            ],
            [
             0.4444444444444444,
             "#bd3786"
            ],
            [
             0.5555555555555556,
             "#d8576b"
            ],
            [
             0.6666666666666666,
             "#ed7953"
            ],
            [
             0.7777777777777778,
             "#fb9f3a"
            ],
            [
             0.8888888888888888,
             "#fdca26"
            ],
            [
             1,
             "#f0f921"
            ]
           ]
          },
          "colorway": [
           "#636efa",
           "#EF553B",
           "#00cc96",
           "#ab63fa",
           "#FFA15A",
           "#19d3f3",
           "#FF6692",
           "#B6E880",
           "#FF97FF",
           "#FECB52"
          ],
          "font": {
           "color": "#2a3f5f"
          },
          "geo": {
           "bgcolor": "white",
           "lakecolor": "white",
           "landcolor": "#E5ECF6",
           "showlakes": true,
           "showland": true,
           "subunitcolor": "white"
          },
          "hoverlabel": {
           "align": "left"
          },
          "hovermode": "closest",
          "mapbox": {
           "style": "light"
          },
          "paper_bgcolor": "white",
          "plot_bgcolor": "#E5ECF6",
          "polar": {
           "angularaxis": {
            "gridcolor": "white",
            "linecolor": "white",
            "ticks": ""
           },
           "bgcolor": "#E5ECF6",
           "radialaxis": {
            "gridcolor": "white",
            "linecolor": "white",
            "ticks": ""
           }
          },
          "scene": {
           "xaxis": {
            "backgroundcolor": "#E5ECF6",
            "gridcolor": "white",
            "gridwidth": 2,
            "linecolor": "white",
            "showbackground": true,
            "ticks": "",
            "zerolinecolor": "white"
           },
           "yaxis": {
            "backgroundcolor": "#E5ECF6",
            "gridcolor": "white",
            "gridwidth": 2,
            "linecolor": "white",
            "showbackground": true,
            "ticks": "",
            "zerolinecolor": "white"
           },
           "zaxis": {
            "backgroundcolor": "#E5ECF6",
            "gridcolor": "white",
            "gridwidth": 2,
            "linecolor": "white",
            "showbackground": true,
            "ticks": "",
            "zerolinecolor": "white"
           }
          },
          "shapedefaults": {
           "line": {
            "color": "#2a3f5f"
           }
          },
          "ternary": {
           "aaxis": {
            "gridcolor": "white",
            "linecolor": "white",
            "ticks": ""
           },
           "baxis": {
            "gridcolor": "white",
            "linecolor": "white",
            "ticks": ""
           },
           "bgcolor": "#E5ECF6",
           "caxis": {
            "gridcolor": "white",
            "linecolor": "white",
            "ticks": ""
           }
          },
          "title": {
           "x": 0.05
          },
          "xaxis": {
           "automargin": true,
           "gridcolor": "white",
           "linecolor": "white",
           "ticks": "",
           "title": {
            "standoff": 15
           },
           "zerolinecolor": "white",
           "zerolinewidth": 2
          },
          "yaxis": {
           "automargin": true,
           "gridcolor": "white",
           "linecolor": "white",
           "ticks": "",
           "title": {
            "standoff": 15
           },
           "zerolinecolor": "white",
           "zerolinewidth": 2
          }
         }
        },
        "title": {
         "text": "Model count by accessibility over time",
         "x": 0.2
        },
        "width": 800,
        "xaxis": {
         "anchor": "y",
         "domain": [
          0,
          1
         ],
         "title": {
          "text": "Year"
         }
        },
        "yaxis": {
         "anchor": "x",
         "domain": [
          0,
          1
         ],
         "title": {
          "text": "Cumulative Count"
         }
        }
       }
      }
     },
     "metadata": {},
     "output_type": "display_data"
    }
   ],
   "source": [
    "# Get counts of all models by year and model accessibility\n",
    "# Only include 2015 and later because older models are rare\n",
    "access_counts = access_df.loc[access_df['Year'] >= 2015].groupby(['Year', 'Model accessibility']).size().reset_index(name='Count')\n",
    "\n",
    "cumulative_access_counts = get_cumulative_counts(access_counts)\n",
    "\n",
    "# Cumulative area chart\n",
    "fig = px.area(cumulative_access_counts, x='Year', y='Cumulative for status', color='Model accessibility', line_group='Model accessibility',\n",
    "              labels={'Cumulative for status': 'Cumulative Count', 'Year': 'Year'},\n",
    "              title='Model count by accessibility over time')\n",
    "\n",
    "fig.update_layout(\n",
    "    autosize=False,\n",
    "    width=800,\n",
    "    height=600,\n",
    "    title_x=0.2,\n",
    ")\n",
    "\n",
    "# save_plot(fig, results_dir, f'cumulative_model_count_by_accessibility')\n",
    "\n",
    "fig.show()"
   ]
  },
  {
   "cell_type": "markdown",
   "metadata": {},
   "source": [
    "Commentary: around half of models are unreleased as of 2024, but the proportion has been shrinking over time. Before 2018 or so, releasing model weights was rare (academic projects often shared training code, but not weights)"
   ]
  },
  {
   "cell_type": "code",
   "execution_count": 16,
   "metadata": {},
   "outputs": [],
   "source": [
    "notable_df = access_df.loc[(access_df['Notability criteria'].notna())]\n",
    "\n",
    "# Get counts of notable models by year and model accessibility\n",
    "# Only include 2015 and later because older models are rare\n",
    "notable_counts = notable_df.loc[access_df['Year'] >= 2015].groupby(['Year', 'Model accessibility']).size().reset_index(name='Count')\n",
    "\n",
    "cumulative_notable_counts = get_cumulative_counts(notable_counts)"
   ]
  },
  {
   "cell_type": "code",
   "execution_count": 17,
   "metadata": {},
   "outputs": [],
   "source": [
    "# Input -  model counts, grouped by accessibility and by year\n",
    "# Output - same dataframe with cumulative counts for status, cumulative total across all statuses, and proportion\n",
    "def normalize_counts(access_counts):\n",
    "    \n",
    "    # Get df with total models per year, and cumulative totals\n",
    "    total_counts = access_counts.groupby('Year')['Count'].sum().reset_index(name='Yearly Total')\n",
    "    total_counts['Cumulative Total'] = total_counts['Yearly Total'].cumsum()\n",
    "    \n",
    "    # Pivot the access counts table to get counts for every status and every year\n",
    "    # This will have many NaN values because not every year has a model of every status\n",
    "    access_counts_wide = access_counts.pivot(index='Year', columns='Model accessibility', values='Cumulative for status')\n",
    "    all_years = pd.Series(range(int(access_counts_wide.index.min()), int(access_counts_wide.index.max()) + 1))\n",
    "\n",
    "    # Fill in the NaN values\n",
    "    access_counts_wide_filled = access_counts_wide.reindex(all_years).ffill().fillna(0)\n",
    "    access_counts_wide_filled = access_counts_wide_filled.reset_index(names=[\"Year\"])\n",
    "    \n",
    "    # Unpivot\n",
    "    access_counts_filled = (access_counts_wide_filled.melt(id_vars='Year', \n",
    "                                     var_name='Model accessibility', \n",
    "                                     value_name='Cumulative for status')\n",
    "                               .reset_index(drop=True))\n",
    "    \n",
    "    # Join with total counts df to get the cumulative totals\n",
    "    normalized_counts = pd.merge(access_counts_filled, total_counts, on='Year')\n",
    "    \n",
    "    # Divide annual counts by cumulative counts to find cumulative proportions by year\n",
    "    normalized_counts['proportion'] = normalized_counts['Cumulative for status'] / normalized_counts['Cumulative Total']\n",
    "    \n",
    "    # Sort using custom order\n",
    "    sort_order = ['Unreleased', 'Hosted access (no API)', 'API access', 'Open access (non-commercial)', 'Open access (restricted use)', 'Open access (unrestricted)']\n",
    "    normalized_counts['Category_sorted'] = pd.Categorical(normalized_counts['Model accessibility'], categories=sort_order, ordered=True)\n",
    "    normalized_counts = normalized_counts.sort_values(['Category_sorted', 'Year'])\n",
    "    \n",
    "    return normalized_counts"
   ]
  },
  {
   "cell_type": "code",
   "execution_count": 18,
   "metadata": {},
   "outputs": [],
   "source": [
    "normalized_counts_total = normalize_counts(access_counts)\n",
    "normalized_counts_notable = normalize_counts(notable_counts)"
   ]
  },
  {
   "cell_type": "code",
   "execution_count": 19,
   "metadata": {},
   "outputs": [
    {
     "data": {
      "application/vnd.plotly.v1+json": {
       "config": {
        "plotlyServerURL": "https://plot.ly"
       },
       "data": [
        {
         "hoverinfo": "x+y",
         "line": {
          "color": "#d62728"
         },
         "mode": "lines",
         "name": "Unreleased",
         "stackgroup": "one",
         "type": "scatter",
         "x": [
          2015,
          2016,
          2017,
          2018,
          2019,
          2020,
          2021,
          2022,
          2023,
          2024
         ],
         "xaxis": "x",
         "y": [
          7,
          17,
          36,
          60,
          96,
          117,
          137,
          159,
          173,
          181
         ],
         "yaxis": "y"
        },
        {
         "hoverinfo": "x+y",
         "line": {
          "color": "#ff7f0e"
         },
         "mode": "lines",
         "name": "Hosted access (no API)",
         "stackgroup": "one",
         "type": "scatter",
         "x": [
          2015,
          2016,
          2017,
          2018,
          2019,
          2020,
          2021,
          2022,
          2023,
          2024
         ],
         "xaxis": "x",
         "y": [
          0,
          1,
          1,
          1,
          1,
          1,
          3,
          3,
          4,
          7
         ],
         "yaxis": "y"
        },
        {
         "hoverinfo": "x+y",
         "line": {
          "color": "#8c564b"
         },
         "mode": "lines",
         "name": "API access",
         "stackgroup": "one",
         "type": "scatter",
         "x": [
          2015,
          2016,
          2017,
          2018,
          2019,
          2020,
          2021,
          2022,
          2023,
          2024
         ],
         "xaxis": "x",
         "y": [
          0,
          0,
          0,
          0,
          0,
          1,
          6,
          11,
          23,
          33
         ],
         "yaxis": "y"
        },
        {
         "hoverinfo": "x+y",
         "line": {
          "color": "#9467bd"
         },
         "mode": "lines",
         "name": "Open access (non-commercial)",
         "stackgroup": "one",
         "type": "scatter",
         "x": [
          2015,
          2016,
          2017,
          2018,
          2019,
          2020,
          2021,
          2022,
          2023,
          2024
         ],
         "xaxis": "x",
         "y": [
          0,
          2,
          2,
          3,
          12,
          13,
          18,
          28,
          43,
          44
         ],
         "yaxis": "y"
        },
        {
         "hoverinfo": "x+y",
         "line": {
          "color": "#1f77b4"
         },
         "mode": "lines",
         "name": "Open access (restricted use)",
         "stackgroup": "one",
         "type": "scatter",
         "x": [
          2015,
          2016,
          2017,
          2018,
          2019,
          2020,
          2021,
          2022,
          2023,
          2024
         ],
         "xaxis": "x",
         "y": [
          0,
          0,
          0,
          0,
          0,
          0,
          0,
          2,
          19,
          24
         ],
         "yaxis": "y"
        },
        {
         "hoverinfo": "x+y",
         "line": {
          "color": "#2ca02c"
         },
         "mode": "lines",
         "name": "Open access (unrestricted)",
         "stackgroup": "one",
         "type": "scatter",
         "x": [
          2015,
          2016,
          2017,
          2018,
          2019,
          2020,
          2021,
          2022,
          2023,
          2024
         ],
         "xaxis": "x",
         "y": [
          2,
          3,
          4,
          14,
          45,
          77,
          108,
          133,
          153,
          160
         ],
         "yaxis": "y"
        },
        {
         "hoverinfo": "x+y",
         "line": {
          "color": "#d62728"
         },
         "mode": "lines",
         "name": "Unreleased",
         "showlegend": false,
         "stackgroup": "one",
         "type": "scatter",
         "x": [
          2015,
          2016,
          2017,
          2018,
          2019,
          2020,
          2021,
          2022,
          2023,
          2024
         ],
         "xaxis": "x2",
         "y": [
          0.7777777777777778,
          0.7391304347826086,
          0.8372093023255814,
          0.7692307692307693,
          0.6233766233766234,
          0.5598086124401914,
          0.5036764705882353,
          0.4732142857142857,
          0.41686746987951806,
          0.40311804008908686
         ],
         "yaxis": "y2"
        },
        {
         "hoverinfo": "x+y",
         "line": {
          "color": "#ff7f0e"
         },
         "mode": "lines",
         "name": "Hosted access (no API)",
         "showlegend": false,
         "stackgroup": "one",
         "type": "scatter",
         "x": [
          2015,
          2016,
          2017,
          2018,
          2019,
          2020,
          2021,
          2022,
          2023,
          2024
         ],
         "xaxis": "x2",
         "y": [
          0,
          0.043478260869565216,
          0.023255813953488372,
          0.01282051282051282,
          0.006493506493506494,
          0.004784688995215311,
          0.011029411764705883,
          0.008928571428571428,
          0.00963855421686747,
          0.015590200445434299
         ],
         "yaxis": "y2"
        },
        {
         "hoverinfo": "x+y",
         "line": {
          "color": "#8c564b"
         },
         "mode": "lines",
         "name": "API access",
         "showlegend": false,
         "stackgroup": "one",
         "type": "scatter",
         "x": [
          2015,
          2016,
          2017,
          2018,
          2019,
          2020,
          2021,
          2022,
          2023,
          2024
         ],
         "xaxis": "x2",
         "y": [
          0,
          0,
          0,
          0,
          0,
          0.004784688995215311,
          0.022058823529411766,
          0.03273809523809524,
          0.05542168674698795,
          0.07349665924276169
         ],
         "yaxis": "y2"
        },
        {
         "hoverinfo": "x+y",
         "line": {
          "color": "#9467bd"
         },
         "mode": "lines",
         "name": "Open access (non-commercial)",
         "showlegend": false,
         "stackgroup": "one",
         "type": "scatter",
         "x": [
          2015,
          2016,
          2017,
          2018,
          2019,
          2020,
          2021,
          2022,
          2023,
          2024
         ],
         "xaxis": "x2",
         "y": [
          0,
          0.08695652173913043,
          0.046511627906976744,
          0.038461538461538464,
          0.07792207792207792,
          0.06220095693779904,
          0.0661764705882353,
          0.08333333333333333,
          0.10361445783132531,
          0.09799554565701558
         ],
         "yaxis": "y2"
        },
        {
         "hoverinfo": "x+y",
         "line": {
          "color": "#1f77b4"
         },
         "mode": "lines",
         "name": "Open access (restricted use)",
         "showlegend": false,
         "stackgroup": "one",
         "type": "scatter",
         "x": [
          2015,
          2016,
          2017,
          2018,
          2019,
          2020,
          2021,
          2022,
          2023,
          2024
         ],
         "xaxis": "x2",
         "y": [
          0,
          0,
          0,
          0,
          0,
          0,
          0,
          0.005952380952380952,
          0.04578313253012048,
          0.053452115812917596
         ],
         "yaxis": "y2"
        },
        {
         "hoverinfo": "x+y",
         "line": {
          "color": "#2ca02c"
         },
         "mode": "lines",
         "name": "Open access (unrestricted)",
         "showlegend": false,
         "stackgroup": "one",
         "type": "scatter",
         "x": [
          2015,
          2016,
          2017,
          2018,
          2019,
          2020,
          2021,
          2022,
          2023,
          2024
         ],
         "xaxis": "x2",
         "y": [
          0.2222222222222222,
          0.13043478260869565,
          0.09302325581395349,
          0.1794871794871795,
          0.2922077922077922,
          0.3684210526315789,
          0.39705882352941174,
          0.3958333333333333,
          0.3686746987951807,
          0.35634743875278396
         ],
         "yaxis": "y2"
        }
       ],
       "layout": {
        "annotations": [
         {
          "font": {
           "size": 16
          },
          "showarrow": false,
          "text": "Cumulative count",
          "x": 0.225,
          "xanchor": "center",
          "xref": "paper",
          "y": 1,
          "yanchor": "bottom",
          "yref": "paper"
         },
         {
          "font": {
           "size": 16
          },
          "showarrow": false,
          "text": "Cumulative proportion",
          "x": 0.775,
          "xanchor": "center",
          "xref": "paper",
          "y": 1,
          "yanchor": "bottom",
          "yref": "paper"
         }
        ],
        "autosize": false,
        "height": 600,
        "showlegend": true,
        "template": {
         "data": {
          "bar": [
           {
            "error_x": {
             "color": "#2a3f5f"
            },
            "error_y": {
             "color": "#2a3f5f"
            },
            "marker": {
             "line": {
              "color": "#E5ECF6",
              "width": 0.5
             },
             "pattern": {
              "fillmode": "overlay",
              "size": 10,
              "solidity": 0.2
             }
            },
            "type": "bar"
           }
          ],
          "barpolar": [
           {
            "marker": {
             "line": {
              "color": "#E5ECF6",
              "width": 0.5
             },
             "pattern": {
              "fillmode": "overlay",
              "size": 10,
              "solidity": 0.2
             }
            },
            "type": "barpolar"
           }
          ],
          "carpet": [
           {
            "aaxis": {
             "endlinecolor": "#2a3f5f",
             "gridcolor": "white",
             "linecolor": "white",
             "minorgridcolor": "white",
             "startlinecolor": "#2a3f5f"
            },
            "baxis": {
             "endlinecolor": "#2a3f5f",
             "gridcolor": "white",
             "linecolor": "white",
             "minorgridcolor": "white",
             "startlinecolor": "#2a3f5f"
            },
            "type": "carpet"
           }
          ],
          "choropleth": [
           {
            "colorbar": {
             "outlinewidth": 0,
             "ticks": ""
            },
            "type": "choropleth"
           }
          ],
          "contour": [
           {
            "colorbar": {
             "outlinewidth": 0,
             "ticks": ""
            },
            "colorscale": [
             [
              0,
              "#0d0887"
             ],
             [
              0.1111111111111111,
              "#46039f"
             ],
             [
              0.2222222222222222,
              "#7201a8"
             ],
             [
              0.3333333333333333,
              "#9c179e"
             ],
             [
              0.4444444444444444,
              "#bd3786"
             ],
             [
              0.5555555555555556,
              "#d8576b"
             ],
             [
              0.6666666666666666,
              "#ed7953"
             ],
             [
              0.7777777777777778,
              "#fb9f3a"
             ],
             [
              0.8888888888888888,
              "#fdca26"
             ],
             [
              1,
              "#f0f921"
             ]
            ],
            "type": "contour"
           }
          ],
          "contourcarpet": [
           {
            "colorbar": {
             "outlinewidth": 0,
             "ticks": ""
            },
            "type": "contourcarpet"
           }
          ],
          "heatmap": [
           {
            "colorbar": {
             "outlinewidth": 0,
             "ticks": ""
            },
            "colorscale": [
             [
              0,
              "#0d0887"
             ],
             [
              0.1111111111111111,
              "#46039f"
             ],
             [
              0.2222222222222222,
              "#7201a8"
             ],
             [
              0.3333333333333333,
              "#9c179e"
             ],
             [
              0.4444444444444444,
              "#bd3786"
             ],
             [
              0.5555555555555556,
              "#d8576b"
             ],
             [
              0.6666666666666666,
              "#ed7953"
             ],
             [
              0.7777777777777778,
              "#fb9f3a"
             ],
             [
              0.8888888888888888,
              "#fdca26"
             ],
             [
              1,
              "#f0f921"
             ]
            ],
            "type": "heatmap"
           }
          ],
          "heatmapgl": [
           {
            "colorbar": {
             "outlinewidth": 0,
             "ticks": ""
            },
            "colorscale": [
             [
              0,
              "#0d0887"
             ],
             [
              0.1111111111111111,
              "#46039f"
             ],
             [
              0.2222222222222222,
              "#7201a8"
             ],
             [
              0.3333333333333333,
              "#9c179e"
             ],
             [
              0.4444444444444444,
              "#bd3786"
             ],
             [
              0.5555555555555556,
              "#d8576b"
             ],
             [
              0.6666666666666666,
              "#ed7953"
             ],
             [
              0.7777777777777778,
              "#fb9f3a"
             ],
             [
              0.8888888888888888,
              "#fdca26"
             ],
             [
              1,
              "#f0f921"
             ]
            ],
            "type": "heatmapgl"
           }
          ],
          "histogram": [
           {
            "marker": {
             "pattern": {
              "fillmode": "overlay",
              "size": 10,
              "solidity": 0.2
             }
            },
            "type": "histogram"
           }
          ],
          "histogram2d": [
           {
            "colorbar": {
             "outlinewidth": 0,
             "ticks": ""
            },
            "colorscale": [
             [
              0,
              "#0d0887"
             ],
             [
              0.1111111111111111,
              "#46039f"
             ],
             [
              0.2222222222222222,
              "#7201a8"
             ],
             [
              0.3333333333333333,
              "#9c179e"
             ],
             [
              0.4444444444444444,
              "#bd3786"
             ],
             [
              0.5555555555555556,
              "#d8576b"
             ],
             [
              0.6666666666666666,
              "#ed7953"
             ],
             [
              0.7777777777777778,
              "#fb9f3a"
             ],
             [
              0.8888888888888888,
              "#fdca26"
             ],
             [
              1,
              "#f0f921"
             ]
            ],
            "type": "histogram2d"
           }
          ],
          "histogram2dcontour": [
           {
            "colorbar": {
             "outlinewidth": 0,
             "ticks": ""
            },
            "colorscale": [
             [
              0,
              "#0d0887"
             ],
             [
              0.1111111111111111,
              "#46039f"
             ],
             [
              0.2222222222222222,
              "#7201a8"
             ],
             [
              0.3333333333333333,
              "#9c179e"
             ],
             [
              0.4444444444444444,
              "#bd3786"
             ],
             [
              0.5555555555555556,
              "#d8576b"
             ],
             [
              0.6666666666666666,
              "#ed7953"
             ],
             [
              0.7777777777777778,
              "#fb9f3a"
             ],
             [
              0.8888888888888888,
              "#fdca26"
             ],
             [
              1,
              "#f0f921"
             ]
            ],
            "type": "histogram2dcontour"
           }
          ],
          "mesh3d": [
           {
            "colorbar": {
             "outlinewidth": 0,
             "ticks": ""
            },
            "type": "mesh3d"
           }
          ],
          "parcoords": [
           {
            "line": {
             "colorbar": {
              "outlinewidth": 0,
              "ticks": ""
             }
            },
            "type": "parcoords"
           }
          ],
          "pie": [
           {
            "automargin": true,
            "type": "pie"
           }
          ],
          "scatter": [
           {
            "fillpattern": {
             "fillmode": "overlay",
             "size": 10,
             "solidity": 0.2
            },
            "type": "scatter"
           }
          ],
          "scatter3d": [
           {
            "line": {
             "colorbar": {
              "outlinewidth": 0,
              "ticks": ""
             }
            },
            "marker": {
             "colorbar": {
              "outlinewidth": 0,
              "ticks": ""
             }
            },
            "type": "scatter3d"
           }
          ],
          "scattercarpet": [
           {
            "marker": {
             "colorbar": {
              "outlinewidth": 0,
              "ticks": ""
             }
            },
            "type": "scattercarpet"
           }
          ],
          "scattergeo": [
           {
            "marker": {
             "colorbar": {
              "outlinewidth": 0,
              "ticks": ""
             }
            },
            "type": "scattergeo"
           }
          ],
          "scattergl": [
           {
            "marker": {
             "colorbar": {
              "outlinewidth": 0,
              "ticks": ""
             }
            },
            "type": "scattergl"
           }
          ],
          "scattermapbox": [
           {
            "marker": {
             "colorbar": {
              "outlinewidth": 0,
              "ticks": ""
             }
            },
            "type": "scattermapbox"
           }
          ],
          "scatterpolar": [
           {
            "marker": {
             "colorbar": {
              "outlinewidth": 0,
              "ticks": ""
             }
            },
            "type": "scatterpolar"
           }
          ],
          "scatterpolargl": [
           {
            "marker": {
             "colorbar": {
              "outlinewidth": 0,
              "ticks": ""
             }
            },
            "type": "scatterpolargl"
           }
          ],
          "scatterternary": [
           {
            "marker": {
             "colorbar": {
              "outlinewidth": 0,
              "ticks": ""
             }
            },
            "type": "scatterternary"
           }
          ],
          "surface": [
           {
            "colorbar": {
             "outlinewidth": 0,
             "ticks": ""
            },
            "colorscale": [
             [
              0,
              "#0d0887"
             ],
             [
              0.1111111111111111,
              "#46039f"
             ],
             [
              0.2222222222222222,
              "#7201a8"
             ],
             [
              0.3333333333333333,
              "#9c179e"
             ],
             [
              0.4444444444444444,
              "#bd3786"
             ],
             [
              0.5555555555555556,
              "#d8576b"
             ],
             [
              0.6666666666666666,
              "#ed7953"
             ],
             [
              0.7777777777777778,
              "#fb9f3a"
             ],
             [
              0.8888888888888888,
              "#fdca26"
             ],
             [
              1,
              "#f0f921"
             ]
            ],
            "type": "surface"
           }
          ],
          "table": [
           {
            "cells": {
             "fill": {
              "color": "#EBF0F8"
             },
             "line": {
              "color": "white"
             }
            },
            "header": {
             "fill": {
              "color": "#C8D4E3"
             },
             "line": {
              "color": "white"
             }
            },
            "type": "table"
           }
          ]
         },
         "layout": {
          "annotationdefaults": {
           "arrowcolor": "#2a3f5f",
           "arrowhead": 0,
           "arrowwidth": 1
          },
          "autotypenumbers": "strict",
          "coloraxis": {
           "colorbar": {
            "outlinewidth": 0,
            "ticks": ""
           }
          },
          "colorscale": {
           "diverging": [
            [
             0,
             "#8e0152"
            ],
            [
             0.1,
             "#c51b7d"
            ],
            [
             0.2,
             "#de77ae"
            ],
            [
             0.3,
             "#f1b6da"
            ],
            [
             0.4,
             "#fde0ef"
            ],
            [
             0.5,
             "#f7f7f7"
            ],
            [
             0.6,
             "#e6f5d0"
            ],
            [
             0.7,
             "#b8e186"
            ],
            [
             0.8,
             "#7fbc41"
            ],
            [
             0.9,
             "#4d9221"
            ],
            [
             1,
             "#276419"
            ]
           ],
           "sequential": [
            [
             0,
             "#0d0887"
            ],
            [
             0.1111111111111111,
             "#46039f"
            ],
            [
             0.2222222222222222,
             "#7201a8"
            ],
            [
             0.3333333333333333,
             "#9c179e"
            ],
            [
             0.4444444444444444,
             "#bd3786"
            ],
            [
             0.5555555555555556,
             "#d8576b"
            ],
            [
             0.6666666666666666,
             "#ed7953"
            ],
            [
             0.7777777777777778,
             "#fb9f3a"
            ],
            [
             0.8888888888888888,
             "#fdca26"
            ],
            [
             1,
             "#f0f921"
            ]
           ],
           "sequentialminus": [
            [
             0,
             "#0d0887"
            ],
            [
             0.1111111111111111,
             "#46039f"
            ],
            [
             0.2222222222222222,
             "#7201a8"
            ],
            [
             0.3333333333333333,
             "#9c179e"
            ],
            [
             0.4444444444444444,
             "#bd3786"
            ],
            [
             0.5555555555555556,
             "#d8576b"
            ],
            [
             0.6666666666666666,
             "#ed7953"
            ],
            [
             0.7777777777777778,
             "#fb9f3a"
            ],
            [
             0.8888888888888888,
             "#fdca26"
            ],
            [
             1,
             "#f0f921"
            ]
           ]
          },
          "colorway": [
           "#636efa",
           "#EF553B",
           "#00cc96",
           "#ab63fa",
           "#FFA15A",
           "#19d3f3",
           "#FF6692",
           "#B6E880",
           "#FF97FF",
           "#FECB52"
          ],
          "font": {
           "color": "#2a3f5f"
          },
          "geo": {
           "bgcolor": "white",
           "lakecolor": "white",
           "landcolor": "#E5ECF6",
           "showlakes": true,
           "showland": true,
           "subunitcolor": "white"
          },
          "hoverlabel": {
           "align": "left"
          },
          "hovermode": "closest",
          "mapbox": {
           "style": "light"
          },
          "paper_bgcolor": "white",
          "plot_bgcolor": "#E5ECF6",
          "polar": {
           "angularaxis": {
            "gridcolor": "white",
            "linecolor": "white",
            "ticks": ""
           },
           "bgcolor": "#E5ECF6",
           "radialaxis": {
            "gridcolor": "white",
            "linecolor": "white",
            "ticks": ""
           }
          },
          "scene": {
           "xaxis": {
            "backgroundcolor": "#E5ECF6",
            "gridcolor": "white",
            "gridwidth": 2,
            "linecolor": "white",
            "showbackground": true,
            "ticks": "",
            "zerolinecolor": "white"
           },
           "yaxis": {
            "backgroundcolor": "#E5ECF6",
            "gridcolor": "white",
            "gridwidth": 2,
            "linecolor": "white",
            "showbackground": true,
            "ticks": "",
            "zerolinecolor": "white"
           },
           "zaxis": {
            "backgroundcolor": "#E5ECF6",
            "gridcolor": "white",
            "gridwidth": 2,
            "linecolor": "white",
            "showbackground": true,
            "ticks": "",
            "zerolinecolor": "white"
           }
          },
          "shapedefaults": {
           "line": {
            "color": "#2a3f5f"
           }
          },
          "ternary": {
           "aaxis": {
            "gridcolor": "white",
            "linecolor": "white",
            "ticks": ""
           },
           "baxis": {
            "gridcolor": "white",
            "linecolor": "white",
            "ticks": ""
           },
           "bgcolor": "#E5ECF6",
           "caxis": {
            "gridcolor": "white",
            "linecolor": "white",
            "ticks": ""
           }
          },
          "title": {
           "x": 0.05
          },
          "xaxis": {
           "automargin": true,
           "gridcolor": "white",
           "linecolor": "white",
           "ticks": "",
           "title": {
            "standoff": 15
           },
           "zerolinecolor": "white",
           "zerolinewidth": 2
          },
          "yaxis": {
           "automargin": true,
           "gridcolor": "white",
           "linecolor": "white",
           "ticks": "",
           "title": {
            "standoff": 15
           },
           "zerolinecolor": "white",
           "zerolinewidth": 2
          }
         }
        },
        "title": {
         "text": "Notable models accessibility over time"
        },
        "width": 1200,
        "xaxis": {
         "anchor": "y",
         "domain": [
          0,
          0.45
         ],
         "range": [
          2018,
          2024
         ],
         "title": {
          "text": "Year"
         }
        },
        "xaxis2": {
         "anchor": "y2",
         "domain": [
          0.55,
          1
         ],
         "range": [
          2018,
          2024
         ],
         "title": {
          "text": "Year"
         }
        },
        "yaxis": {
         "anchor": "x",
         "domain": [
          0,
          1
         ],
         "title": {
          "text": "Cumulative count"
         }
        },
        "yaxis2": {
         "anchor": "x2",
         "domain": [
          0,
          1
         ],
         "range": [
          0,
          1
         ],
         "title": {
          "text": "Cumulative proportion"
         }
        }
       }
      }
     },
     "metadata": {},
     "output_type": "display_data"
    }
   ],
   "source": [
    "# Create a 1x2 subplot\n",
    "fig = make_subplots(rows=1, cols=2, subplot_titles=('Cumulative count',\n",
    "                                                    'Cumulative proportion'))\n",
    "\n",
    "# Define a consistent color palette\n",
    "color_palette = {\n",
    "    'Unreleased': '#d62728',\n",
    "    'Hosted access (no API)': '#ff7f0e',\n",
    "    'API access': '#8c564b',\n",
    "    'Open access (non-commercial)': '#9467bd',\n",
    "    'Open access (restricted use)': '#1f77b4',\n",
    "    'Open access (unrestricted)': '#2ca02c'\n",
    "}\n",
    "\n",
    "# Cumulative area chart\n",
    "for accessibility in cumulative_notable_counts['Model accessibility'].unique():\n",
    "    fig.add_trace(\n",
    "        go.Scatter(x=cumulative_notable_counts[cumulative_notable_counts['Model accessibility'] == accessibility]['Year'], \n",
    "                y=cumulative_notable_counts[cumulative_notable_counts['Model accessibility'] == accessibility]['Cumulative for status'], \n",
    "                hoverinfo='x+y',\n",
    "                stackgroup='one',\n",
    "                mode='lines',\n",
    "                name=accessibility,\n",
    "                line=dict(color=color_palette[accessibility])),\n",
    "        row=1, col=1\n",
    "    )\n",
    "\n",
    "# Normalized area chart\n",
    "for accessibility in normalized_counts_notable['Model accessibility'].unique():\n",
    "    fig.add_trace(\n",
    "        go.Scatter(x=normalized_counts_notable[normalized_counts_notable['Model accessibility'] == accessibility]['Year'], \n",
    "                y=normalized_counts_notable[normalized_counts_notable['Model accessibility'] == accessibility]['proportion'], \n",
    "                hoverinfo='x+y',\n",
    "                stackgroup='one',\n",
    "                mode='lines',\n",
    "                name=accessibility,\n",
    "                line=dict(color=color_palette[accessibility]),\n",
    "                showlegend=False),\n",
    "        row=1, col=2\n",
    "    )\n",
    "\n",
    "# Update layout\n",
    "fig.update_layout(\n",
    "    autosize=False,\n",
    "    width=1200,\n",
    "    height=600,\n",
    "    title_text='Notable models accessibility over time',\n",
    "    showlegend=True\n",
    ")\n",
    "\n",
    "# Update x and y axes\n",
    "fig.update_xaxes(title_text='Year', range=[2018, 2024], row=1, col=1)\n",
    "fig.update_xaxes(title_text='Year', range=[2018, 2024], row=1, col=2)\n",
    "fig.update_yaxes(title_text='Cumulative count', row=1, col=1)\n",
    "fig.update_yaxes(title_text='Cumulative proportion', range=[0, 1], row=1, col=2)\n",
    "\n",
    "save_plot(fig, results_dir, f'cumulative_model_count_by_accessibility')\n",
    "\n",
    "fig.show()"
   ]
  },
  {
   "cell_type": "markdown",
   "metadata": {},
   "source": [
    "This chart shows the proportions over time more clearly - open weights have never been very rare (at least 10%). But open models have become much more common over time, making up around half of models today. The large majority of those are permissively licensed (\"Open access (unrestricted)\") even today but open with restrictions has become more common over time."
   ]
  },
  {
   "cell_type": "code",
   "execution_count": 20,
   "metadata": {
    "tags": []
   },
   "outputs": [
    {
     "data": {
      "application/vnd.plotly.v1+json": {
       "config": {
        "plotlyServerURL": "https://plot.ly"
       },
       "data": [
        {
         "fillpattern": {
          "shape": ""
         },
         "hovertemplate": "Model accessibility=Unreleased<br>Year=%{x}<br>Proportion=%{y}<extra></extra>",
         "legendgroup": "Unreleased",
         "line": {
          "color": "#636efa"
         },
         "marker": {
          "symbol": "circle"
         },
         "mode": "lines",
         "name": "Unreleased",
         "orientation": "v",
         "showlegend": true,
         "stackgroup": "1",
         "type": "scatter",
         "x": [
          2015,
          2016,
          2017,
          2018,
          2019,
          2020,
          2021,
          2022,
          2023,
          2024
         ],
         "xaxis": "x",
         "y": [
          0.7777777777777778,
          0.7391304347826086,
          0.8372093023255814,
          0.7692307692307693,
          0.6233766233766234,
          0.5598086124401914,
          0.5036764705882353,
          0.4732142857142857,
          0.41686746987951806,
          0.40311804008908686
         ],
         "yaxis": "y"
        },
        {
         "fillpattern": {
          "shape": ""
         },
         "hovertemplate": "Model accessibility=Hosted access (no API)<br>Year=%{x}<br>Proportion=%{y}<extra></extra>",
         "legendgroup": "Hosted access (no API)",
         "line": {
          "color": "#EF553B"
         },
         "marker": {
          "symbol": "circle"
         },
         "mode": "lines",
         "name": "Hosted access (no API)",
         "orientation": "v",
         "showlegend": true,
         "stackgroup": "1",
         "type": "scatter",
         "x": [
          2015,
          2016,
          2017,
          2018,
          2019,
          2020,
          2021,
          2022,
          2023,
          2024
         ],
         "xaxis": "x",
         "y": [
          0,
          0.043478260869565216,
          0.023255813953488372,
          0.01282051282051282,
          0.006493506493506494,
          0.004784688995215311,
          0.011029411764705883,
          0.008928571428571428,
          0.00963855421686747,
          0.015590200445434299
         ],
         "yaxis": "y"
        },
        {
         "fillpattern": {
          "shape": ""
         },
         "hovertemplate": "Model accessibility=API access<br>Year=%{x}<br>Proportion=%{y}<extra></extra>",
         "legendgroup": "API access",
         "line": {
          "color": "#00cc96"
         },
         "marker": {
          "symbol": "circle"
         },
         "mode": "lines",
         "name": "API access",
         "orientation": "v",
         "showlegend": true,
         "stackgroup": "1",
         "type": "scatter",
         "x": [
          2015,
          2016,
          2017,
          2018,
          2019,
          2020,
          2021,
          2022,
          2023,
          2024
         ],
         "xaxis": "x",
         "y": [
          0,
          0,
          0,
          0,
          0,
          0.004784688995215311,
          0.022058823529411766,
          0.03273809523809524,
          0.05542168674698795,
          0.07349665924276169
         ],
         "yaxis": "y"
        },
        {
         "fillpattern": {
          "shape": ""
         },
         "hovertemplate": "Model accessibility=Open access (non-commercial)<br>Year=%{x}<br>Proportion=%{y}<extra></extra>",
         "legendgroup": "Open access (non-commercial)",
         "line": {
          "color": "#ab63fa"
         },
         "marker": {
          "symbol": "circle"
         },
         "mode": "lines",
         "name": "Open access (non-commercial)",
         "orientation": "v",
         "showlegend": true,
         "stackgroup": "1",
         "type": "scatter",
         "x": [
          2015,
          2016,
          2017,
          2018,
          2019,
          2020,
          2021,
          2022,
          2023,
          2024
         ],
         "xaxis": "x",
         "y": [
          0,
          0.08695652173913043,
          0.046511627906976744,
          0.038461538461538464,
          0.07792207792207792,
          0.06220095693779904,
          0.0661764705882353,
          0.08333333333333333,
          0.10361445783132531,
          0.09799554565701558
         ],
         "yaxis": "y"
        },
        {
         "fillpattern": {
          "shape": ""
         },
         "hovertemplate": "Model accessibility=Open access (restricted use)<br>Year=%{x}<br>Proportion=%{y}<extra></extra>",
         "legendgroup": "Open access (restricted use)",
         "line": {
          "color": "#FFA15A"
         },
         "marker": {
          "symbol": "circle"
         },
         "mode": "lines",
         "name": "Open access (restricted use)",
         "orientation": "v",
         "showlegend": true,
         "stackgroup": "1",
         "type": "scatter",
         "x": [
          2015,
          2016,
          2017,
          2018,
          2019,
          2020,
          2021,
          2022,
          2023,
          2024
         ],
         "xaxis": "x",
         "y": [
          0,
          0,
          0,
          0,
          0,
          0,
          0,
          0.005952380952380952,
          0.04578313253012048,
          0.053452115812917596
         ],
         "yaxis": "y"
        },
        {
         "fillpattern": {
          "shape": ""
         },
         "hovertemplate": "Model accessibility=Open access (unrestricted)<br>Year=%{x}<br>Proportion=%{y}<extra></extra>",
         "legendgroup": "Open access (unrestricted)",
         "line": {
          "color": "#19d3f3"
         },
         "marker": {
          "symbol": "circle"
         },
         "mode": "lines",
         "name": "Open access (unrestricted)",
         "orientation": "v",
         "showlegend": true,
         "stackgroup": "1",
         "type": "scatter",
         "x": [
          2015,
          2016,
          2017,
          2018,
          2019,
          2020,
          2021,
          2022,
          2023,
          2024
         ],
         "xaxis": "x",
         "y": [
          0.2222222222222222,
          0.13043478260869565,
          0.09302325581395349,
          0.1794871794871795,
          0.2922077922077922,
          0.3684210526315789,
          0.39705882352941174,
          0.3958333333333333,
          0.3686746987951807,
          0.35634743875278396
         ],
         "yaxis": "y"
        }
       ],
       "layout": {
        "autosize": false,
        "height": 600,
        "legend": {
         "title": {
          "text": "Model accessibility"
         },
         "tracegroupgap": 0
        },
        "template": {
         "data": {
          "bar": [
           {
            "error_x": {
             "color": "#2a3f5f"
            },
            "error_y": {
             "color": "#2a3f5f"
            },
            "marker": {
             "line": {
              "color": "#E5ECF6",
              "width": 0.5
             },
             "pattern": {
              "fillmode": "overlay",
              "size": 10,
              "solidity": 0.2
             }
            },
            "type": "bar"
           }
          ],
          "barpolar": [
           {
            "marker": {
             "line": {
              "color": "#E5ECF6",
              "width": 0.5
             },
             "pattern": {
              "fillmode": "overlay",
              "size": 10,
              "solidity": 0.2
             }
            },
            "type": "barpolar"
           }
          ],
          "carpet": [
           {
            "aaxis": {
             "endlinecolor": "#2a3f5f",
             "gridcolor": "white",
             "linecolor": "white",
             "minorgridcolor": "white",
             "startlinecolor": "#2a3f5f"
            },
            "baxis": {
             "endlinecolor": "#2a3f5f",
             "gridcolor": "white",
             "linecolor": "white",
             "minorgridcolor": "white",
             "startlinecolor": "#2a3f5f"
            },
            "type": "carpet"
           }
          ],
          "choropleth": [
           {
            "colorbar": {
             "outlinewidth": 0,
             "ticks": ""
            },
            "type": "choropleth"
           }
          ],
          "contour": [
           {
            "colorbar": {
             "outlinewidth": 0,
             "ticks": ""
            },
            "colorscale": [
             [
              0,
              "#0d0887"
             ],
             [
              0.1111111111111111,
              "#46039f"
             ],
             [
              0.2222222222222222,
              "#7201a8"
             ],
             [
              0.3333333333333333,
              "#9c179e"
             ],
             [
              0.4444444444444444,
              "#bd3786"
             ],
             [
              0.5555555555555556,
              "#d8576b"
             ],
             [
              0.6666666666666666,
              "#ed7953"
             ],
             [
              0.7777777777777778,
              "#fb9f3a"
             ],
             [
              0.8888888888888888,
              "#fdca26"
             ],
             [
              1,
              "#f0f921"
             ]
            ],
            "type": "contour"
           }
          ],
          "contourcarpet": [
           {
            "colorbar": {
             "outlinewidth": 0,
             "ticks": ""
            },
            "type": "contourcarpet"
           }
          ],
          "heatmap": [
           {
            "colorbar": {
             "outlinewidth": 0,
             "ticks": ""
            },
            "colorscale": [
             [
              0,
              "#0d0887"
             ],
             [
              0.1111111111111111,
              "#46039f"
             ],
             [
              0.2222222222222222,
              "#7201a8"
             ],
             [
              0.3333333333333333,
              "#9c179e"
             ],
             [
              0.4444444444444444,
              "#bd3786"
             ],
             [
              0.5555555555555556,
              "#d8576b"
             ],
             [
              0.6666666666666666,
              "#ed7953"
             ],
             [
              0.7777777777777778,
              "#fb9f3a"
             ],
             [
              0.8888888888888888,
              "#fdca26"
             ],
             [
              1,
              "#f0f921"
             ]
            ],
            "type": "heatmap"
           }
          ],
          "heatmapgl": [
           {
            "colorbar": {
             "outlinewidth": 0,
             "ticks": ""
            },
            "colorscale": [
             [
              0,
              "#0d0887"
             ],
             [
              0.1111111111111111,
              "#46039f"
             ],
             [
              0.2222222222222222,
              "#7201a8"
             ],
             [
              0.3333333333333333,
              "#9c179e"
             ],
             [
              0.4444444444444444,
              "#bd3786"
             ],
             [
              0.5555555555555556,
              "#d8576b"
             ],
             [
              0.6666666666666666,
              "#ed7953"
             ],
             [
              0.7777777777777778,
              "#fb9f3a"
             ],
             [
              0.8888888888888888,
              "#fdca26"
             ],
             [
              1,
              "#f0f921"
             ]
            ],
            "type": "heatmapgl"
           }
          ],
          "histogram": [
           {
            "marker": {
             "pattern": {
              "fillmode": "overlay",
              "size": 10,
              "solidity": 0.2
             }
            },
            "type": "histogram"
           }
          ],
          "histogram2d": [
           {
            "colorbar": {
             "outlinewidth": 0,
             "ticks": ""
            },
            "colorscale": [
             [
              0,
              "#0d0887"
             ],
             [
              0.1111111111111111,
              "#46039f"
             ],
             [
              0.2222222222222222,
              "#7201a8"
             ],
             [
              0.3333333333333333,
              "#9c179e"
             ],
             [
              0.4444444444444444,
              "#bd3786"
             ],
             [
              0.5555555555555556,
              "#d8576b"
             ],
             [
              0.6666666666666666,
              "#ed7953"
             ],
             [
              0.7777777777777778,
              "#fb9f3a"
             ],
             [
              0.8888888888888888,
              "#fdca26"
             ],
             [
              1,
              "#f0f921"
             ]
            ],
            "type": "histogram2d"
           }
          ],
          "histogram2dcontour": [
           {
            "colorbar": {
             "outlinewidth": 0,
             "ticks": ""
            },
            "colorscale": [
             [
              0,
              "#0d0887"
             ],
             [
              0.1111111111111111,
              "#46039f"
             ],
             [
              0.2222222222222222,
              "#7201a8"
             ],
             [
              0.3333333333333333,
              "#9c179e"
             ],
             [
              0.4444444444444444,
              "#bd3786"
             ],
             [
              0.5555555555555556,
              "#d8576b"
             ],
             [
              0.6666666666666666,
              "#ed7953"
             ],
             [
              0.7777777777777778,
              "#fb9f3a"
             ],
             [
              0.8888888888888888,
              "#fdca26"
             ],
             [
              1,
              "#f0f921"
             ]
            ],
            "type": "histogram2dcontour"
           }
          ],
          "mesh3d": [
           {
            "colorbar": {
             "outlinewidth": 0,
             "ticks": ""
            },
            "type": "mesh3d"
           }
          ],
          "parcoords": [
           {
            "line": {
             "colorbar": {
              "outlinewidth": 0,
              "ticks": ""
             }
            },
            "type": "parcoords"
           }
          ],
          "pie": [
           {
            "automargin": true,
            "type": "pie"
           }
          ],
          "scatter": [
           {
            "fillpattern": {
             "fillmode": "overlay",
             "size": 10,
             "solidity": 0.2
            },
            "type": "scatter"
           }
          ],
          "scatter3d": [
           {
            "line": {
             "colorbar": {
              "outlinewidth": 0,
              "ticks": ""
             }
            },
            "marker": {
             "colorbar": {
              "outlinewidth": 0,
              "ticks": ""
             }
            },
            "type": "scatter3d"
           }
          ],
          "scattercarpet": [
           {
            "marker": {
             "colorbar": {
              "outlinewidth": 0,
              "ticks": ""
             }
            },
            "type": "scattercarpet"
           }
          ],
          "scattergeo": [
           {
            "marker": {
             "colorbar": {
              "outlinewidth": 0,
              "ticks": ""
             }
            },
            "type": "scattergeo"
           }
          ],
          "scattergl": [
           {
            "marker": {
             "colorbar": {
              "outlinewidth": 0,
              "ticks": ""
             }
            },
            "type": "scattergl"
           }
          ],
          "scattermapbox": [
           {
            "marker": {
             "colorbar": {
              "outlinewidth": 0,
              "ticks": ""
             }
            },
            "type": "scattermapbox"
           }
          ],
          "scatterpolar": [
           {
            "marker": {
             "colorbar": {
              "outlinewidth": 0,
              "ticks": ""
             }
            },
            "type": "scatterpolar"
           }
          ],
          "scatterpolargl": [
           {
            "marker": {
             "colorbar": {
              "outlinewidth": 0,
              "ticks": ""
             }
            },
            "type": "scatterpolargl"
           }
          ],
          "scatterternary": [
           {
            "marker": {
             "colorbar": {
              "outlinewidth": 0,
              "ticks": ""
             }
            },
            "type": "scatterternary"
           }
          ],
          "surface": [
           {
            "colorbar": {
             "outlinewidth": 0,
             "ticks": ""
            },
            "colorscale": [
             [
              0,
              "#0d0887"
             ],
             [
              0.1111111111111111,
              "#46039f"
             ],
             [
              0.2222222222222222,
              "#7201a8"
             ],
             [
              0.3333333333333333,
              "#9c179e"
             ],
             [
              0.4444444444444444,
              "#bd3786"
             ],
             [
              0.5555555555555556,
              "#d8576b"
             ],
             [
              0.6666666666666666,
              "#ed7953"
             ],
             [
              0.7777777777777778,
              "#fb9f3a"
             ],
             [
              0.8888888888888888,
              "#fdca26"
             ],
             [
              1,
              "#f0f921"
             ]
            ],
            "type": "surface"
           }
          ],
          "table": [
           {
            "cells": {
             "fill": {
              "color": "#EBF0F8"
             },
             "line": {
              "color": "white"
             }
            },
            "header": {
             "fill": {
              "color": "#C8D4E3"
             },
             "line": {
              "color": "white"
             }
            },
            "type": "table"
           }
          ]
         },
         "layout": {
          "annotationdefaults": {
           "arrowcolor": "#2a3f5f",
           "arrowhead": 0,
           "arrowwidth": 1
          },
          "autotypenumbers": "strict",
          "coloraxis": {
           "colorbar": {
            "outlinewidth": 0,
            "ticks": ""
           }
          },
          "colorscale": {
           "diverging": [
            [
             0,
             "#8e0152"
            ],
            [
             0.1,
             "#c51b7d"
            ],
            [
             0.2,
             "#de77ae"
            ],
            [
             0.3,
             "#f1b6da"
            ],
            [
             0.4,
             "#fde0ef"
            ],
            [
             0.5,
             "#f7f7f7"
            ],
            [
             0.6,
             "#e6f5d0"
            ],
            [
             0.7,
             "#b8e186"
            ],
            [
             0.8,
             "#7fbc41"
            ],
            [
             0.9,
             "#4d9221"
            ],
            [
             1,
             "#276419"
            ]
           ],
           "sequential": [
            [
             0,
             "#0d0887"
            ],
            [
             0.1111111111111111,
             "#46039f"
            ],
            [
             0.2222222222222222,
             "#7201a8"
            ],
            [
             0.3333333333333333,
             "#9c179e"
            ],
            [
             0.4444444444444444,
             "#bd3786"
            ],
            [
             0.5555555555555556,
             "#d8576b"
            ],
            [
             0.6666666666666666,
             "#ed7953"
            ],
            [
             0.7777777777777778,
             "#fb9f3a"
            ],
            [
             0.8888888888888888,
             "#fdca26"
            ],
            [
             1,
             "#f0f921"
            ]
           ],
           "sequentialminus": [
            [
             0,
             "#0d0887"
            ],
            [
             0.1111111111111111,
             "#46039f"
            ],
            [
             0.2222222222222222,
             "#7201a8"
            ],
            [
             0.3333333333333333,
             "#9c179e"
            ],
            [
             0.4444444444444444,
             "#bd3786"
            ],
            [
             0.5555555555555556,
             "#d8576b"
            ],
            [
             0.6666666666666666,
             "#ed7953"
            ],
            [
             0.7777777777777778,
             "#fb9f3a"
            ],
            [
             0.8888888888888888,
             "#fdca26"
            ],
            [
             1,
             "#f0f921"
            ]
           ]
          },
          "colorway": [
           "#636efa",
           "#EF553B",
           "#00cc96",
           "#ab63fa",
           "#FFA15A",
           "#19d3f3",
           "#FF6692",
           "#B6E880",
           "#FF97FF",
           "#FECB52"
          ],
          "font": {
           "color": "#2a3f5f"
          },
          "geo": {
           "bgcolor": "white",
           "lakecolor": "white",
           "landcolor": "#E5ECF6",
           "showlakes": true,
           "showland": true,
           "subunitcolor": "white"
          },
          "hoverlabel": {
           "align": "left"
          },
          "hovermode": "closest",
          "mapbox": {
           "style": "light"
          },
          "paper_bgcolor": "white",
          "plot_bgcolor": "#E5ECF6",
          "polar": {
           "angularaxis": {
            "gridcolor": "white",
            "linecolor": "white",
            "ticks": ""
           },
           "bgcolor": "#E5ECF6",
           "radialaxis": {
            "gridcolor": "white",
            "linecolor": "white",
            "ticks": ""
           }
          },
          "scene": {
           "xaxis": {
            "backgroundcolor": "#E5ECF6",
            "gridcolor": "white",
            "gridwidth": 2,
            "linecolor": "white",
            "showbackground": true,
            "ticks": "",
            "zerolinecolor": "white"
           },
           "yaxis": {
            "backgroundcolor": "#E5ECF6",
            "gridcolor": "white",
            "gridwidth": 2,
            "linecolor": "white",
            "showbackground": true,
            "ticks": "",
            "zerolinecolor": "white"
           },
           "zaxis": {
            "backgroundcolor": "#E5ECF6",
            "gridcolor": "white",
            "gridwidth": 2,
            "linecolor": "white",
            "showbackground": true,
            "ticks": "",
            "zerolinecolor": "white"
           }
          },
          "shapedefaults": {
           "line": {
            "color": "#2a3f5f"
           }
          },
          "ternary": {
           "aaxis": {
            "gridcolor": "white",
            "linecolor": "white",
            "ticks": ""
           },
           "baxis": {
            "gridcolor": "white",
            "linecolor": "white",
            "ticks": ""
           },
           "bgcolor": "#E5ECF6",
           "caxis": {
            "gridcolor": "white",
            "linecolor": "white",
            "ticks": ""
           }
          },
          "title": {
           "x": 0.05
          },
          "xaxis": {
           "automargin": true,
           "gridcolor": "white",
           "linecolor": "white",
           "ticks": "",
           "title": {
            "standoff": 15
           },
           "zerolinecolor": "white",
           "zerolinewidth": 2
          },
          "yaxis": {
           "automargin": true,
           "gridcolor": "white",
           "linecolor": "white",
           "ticks": "",
           "title": {
            "standoff": 15
           },
           "zerolinecolor": "white",
           "zerolinewidth": 2
          }
         }
        },
        "title": {
         "text": "Cumulative proportion of notable models by accessibility over time",
         "x": 0.2
        },
        "width": 800,
        "xaxis": {
         "anchor": "y",
         "domain": [
          0,
          1
         ],
         "range": [
          2018,
          2024
         ],
         "title": {
          "text": "Year"
         }
        },
        "yaxis": {
         "anchor": "x",
         "domain": [
          0,
          1
         ],
         "range": [
          0,
          1
         ],
         "title": {
          "text": "Proportion"
         }
        }
       }
      }
     },
     "metadata": {},
     "output_type": "display_data"
    }
   ],
   "source": [
    "fig = px.area(normalized_counts_notable, x='Year', y='proportion', color='Model accessibility', line_group='Model accessibility',\n",
    "              labels={'proportion': 'Proportion', 'Year': 'Year'},\n",
    "              title='Cumulative proportion of notable models by accessibility over time')\n",
    "\n",
    "fig.update_yaxes(range=[0, 1])\n",
    "fig.update_xaxes(range=[2018, 2024])\n",
    "fig.update_layout(\n",
    "    autosize=False,\n",
    "    width=800,\n",
    "    height=600,\n",
    "    title_x=0.2,\n",
    ")\n",
    "\n",
    "save_plot(fig, results_dir, f'notable_model_proportion_by_accessibility')\n",
    "\n",
    "fig.show()"
   ]
  },
  {
   "cell_type": "code",
   "execution_count": 21,
   "metadata": {},
   "outputs": [],
   "source": [
    "normalized_counts_notable.to_csv(results_dir + 'notable_model_proportion_by_accessibility.csv', index=False)"
   ]
  },
  {
   "cell_type": "code",
   "execution_count": 22,
   "metadata": {},
   "outputs": [
    {
     "data": {
      "application/vnd.plotly.v1+json": {
       "config": {
        "plotlyServerURL": "https://plot.ly"
       },
       "data": [
        {
         "fillpattern": {
          "shape": ""
         },
         "hovertemplate": "Model accessibility=Unreleased<br>Year=%{x}<br>Proportion=%{y}<extra></extra>",
         "legendgroup": "Unreleased",
         "line": {
          "color": "#636efa"
         },
         "marker": {
          "symbol": "circle"
         },
         "mode": "lines",
         "name": "Unreleased",
         "orientation": "v",
         "showlegend": true,
         "stackgroup": "1",
         "type": "scatter",
         "x": [
          2015,
          2016,
          2017,
          2018,
          2019,
          2020,
          2021,
          2022,
          2023,
          2024
         ],
         "xaxis": "x",
         "y": [
          0.6923076923076923,
          0.775,
          0.8589743589743589,
          0.7724137931034483,
          0.7167832167832168,
          0.6824146981627297,
          0.6363636363636364,
          0.5795795795795796,
          0.47167755991285404,
          0.4291151284490961
         ],
         "yaxis": "y"
        },
        {
         "fillpattern": {
          "shape": ""
         },
         "hovertemplate": "Model accessibility=Hosted access (no API)<br>Year=%{x}<br>Proportion=%{y}<extra></extra>",
         "legendgroup": "Hosted access (no API)",
         "line": {
          "color": "#EF553B"
         },
         "marker": {
          "symbol": "circle"
         },
         "mode": "lines",
         "name": "Hosted access (no API)",
         "orientation": "v",
         "showlegend": true,
         "stackgroup": "1",
         "type": "scatter",
         "x": [
          2015,
          2016,
          2017,
          2018,
          2019,
          2020,
          2021,
          2022,
          2023,
          2024
         ],
         "xaxis": "x",
         "y": [
          0,
          0.025,
          0.01282051282051282,
          0.006896551724137931,
          0.006993006993006993,
          0.005249343832020997,
          0.007575757575757576,
          0.010510510510510511,
          0.017429193899782137,
          0.02664129400570885
         ],
         "yaxis": "y"
        },
        {
         "fillpattern": {
          "shape": ""
         },
         "hovertemplate": "Model accessibility=API access<br>Year=%{x}<br>Proportion=%{y}<extra></extra>",
         "legendgroup": "API access",
         "line": {
          "color": "#00cc96"
         },
         "marker": {
          "symbol": "circle"
         },
         "mode": "lines",
         "name": "API access",
         "orientation": "v",
         "showlegend": true,
         "stackgroup": "1",
         "type": "scatter",
         "x": [
          2015,
          2016,
          2017,
          2018,
          2019,
          2020,
          2021,
          2022,
          2023,
          2024
         ],
         "xaxis": "x",
         "y": [
          0,
          0,
          0,
          0,
          0,
          0.0026246719160104987,
          0.017045454545454544,
          0.024024024024024024,
          0.0457516339869281,
          0.06279733587059944
         ],
         "yaxis": "y"
        },
        {
         "fillpattern": {
          "shape": ""
         },
         "hovertemplate": "Model accessibility=Open access (non-commercial)<br>Year=%{x}<br>Proportion=%{y}<extra></extra>",
         "legendgroup": "Open access (non-commercial)",
         "line": {
          "color": "#ab63fa"
         },
         "marker": {
          "symbol": "circle"
         },
         "mode": "lines",
         "name": "Open access (non-commercial)",
         "orientation": "v",
         "showlegend": true,
         "stackgroup": "1",
         "type": "scatter",
         "x": [
          2015,
          2016,
          2017,
          2018,
          2019,
          2020,
          2021,
          2022,
          2023,
          2024
         ],
         "xaxis": "x",
         "y": [
          0,
          0.05,
          0.02564102564102564,
          0.027586206896551724,
          0.05244755244755245,
          0.047244094488188976,
          0.04924242424242424,
          0.06906906906906907,
          0.0860566448801743,
          0.09039010466222645
         ],
         "yaxis": "y"
        },
        {
         "fillpattern": {
          "shape": ""
         },
         "hovertemplate": "Model accessibility=Open access (restricted use)<br>Year=%{x}<br>Proportion=%{y}<extra></extra>",
         "legendgroup": "Open access (restricted use)",
         "line": {
          "color": "#FFA15A"
         },
         "marker": {
          "symbol": "circle"
         },
         "mode": "lines",
         "name": "Open access (restricted use)",
         "orientation": "v",
         "showlegend": true,
         "stackgroup": "1",
         "type": "scatter",
         "x": [
          2015,
          2016,
          2017,
          2018,
          2019,
          2020,
          2021,
          2022,
          2023,
          2024
         ],
         "xaxis": "x",
         "y": [
          0,
          0,
          0,
          0,
          0,
          0,
          0,
          0.015015015015015015,
          0.054466230936819175,
          0.07421503330161751
         ],
         "yaxis": "y"
        },
        {
         "fillpattern": {
          "shape": ""
         },
         "hovertemplate": "Model accessibility=Open access (unrestricted)<br>Year=%{x}<br>Proportion=%{y}<extra></extra>",
         "legendgroup": "Open access (unrestricted)",
         "line": {
          "color": "#19d3f3"
         },
         "marker": {
          "symbol": "circle"
         },
         "mode": "lines",
         "name": "Open access (unrestricted)",
         "orientation": "v",
         "showlegend": true,
         "stackgroup": "1",
         "type": "scatter",
         "x": [
          2015,
          2016,
          2017,
          2018,
          2019,
          2020,
          2021,
          2022,
          2023,
          2024
         ],
         "xaxis": "x",
         "y": [
          0.3076923076923077,
          0.15,
          0.10256410256410256,
          0.19310344827586207,
          0.22377622377622378,
          0.26246719160104987,
          0.2897727272727273,
          0.30180180180180183,
          0.32461873638344224,
          0.3168411037107517
         ],
         "yaxis": "y"
        }
       ],
       "layout": {
        "autosize": false,
        "height": 600,
        "legend": {
         "title": {
          "text": "Model accessibility"
         },
         "tracegroupgap": 0
        },
        "template": {
         "data": {
          "bar": [
           {
            "error_x": {
             "color": "#2a3f5f"
            },
            "error_y": {
             "color": "#2a3f5f"
            },
            "marker": {
             "line": {
              "color": "#E5ECF6",
              "width": 0.5
             },
             "pattern": {
              "fillmode": "overlay",
              "size": 10,
              "solidity": 0.2
             }
            },
            "type": "bar"
           }
          ],
          "barpolar": [
           {
            "marker": {
             "line": {
              "color": "#E5ECF6",
              "width": 0.5
             },
             "pattern": {
              "fillmode": "overlay",
              "size": 10,
              "solidity": 0.2
             }
            },
            "type": "barpolar"
           }
          ],
          "carpet": [
           {
            "aaxis": {
             "endlinecolor": "#2a3f5f",
             "gridcolor": "white",
             "linecolor": "white",
             "minorgridcolor": "white",
             "startlinecolor": "#2a3f5f"
            },
            "baxis": {
             "endlinecolor": "#2a3f5f",
             "gridcolor": "white",
             "linecolor": "white",
             "minorgridcolor": "white",
             "startlinecolor": "#2a3f5f"
            },
            "type": "carpet"
           }
          ],
          "choropleth": [
           {
            "colorbar": {
             "outlinewidth": 0,
             "ticks": ""
            },
            "type": "choropleth"
           }
          ],
          "contour": [
           {
            "colorbar": {
             "outlinewidth": 0,
             "ticks": ""
            },
            "colorscale": [
             [
              0,
              "#0d0887"
             ],
             [
              0.1111111111111111,
              "#46039f"
             ],
             [
              0.2222222222222222,
              "#7201a8"
             ],
             [
              0.3333333333333333,
              "#9c179e"
             ],
             [
              0.4444444444444444,
              "#bd3786"
             ],
             [
              0.5555555555555556,
              "#d8576b"
             ],
             [
              0.6666666666666666,
              "#ed7953"
             ],
             [
              0.7777777777777778,
              "#fb9f3a"
             ],
             [
              0.8888888888888888,
              "#fdca26"
             ],
             [
              1,
              "#f0f921"
             ]
            ],
            "type": "contour"
           }
          ],
          "contourcarpet": [
           {
            "colorbar": {
             "outlinewidth": 0,
             "ticks": ""
            },
            "type": "contourcarpet"
           }
          ],
          "heatmap": [
           {
            "colorbar": {
             "outlinewidth": 0,
             "ticks": ""
            },
            "colorscale": [
             [
              0,
              "#0d0887"
             ],
             [
              0.1111111111111111,
              "#46039f"
             ],
             [
              0.2222222222222222,
              "#7201a8"
             ],
             [
              0.3333333333333333,
              "#9c179e"
             ],
             [
              0.4444444444444444,
              "#bd3786"
             ],
             [
              0.5555555555555556,
              "#d8576b"
             ],
             [
              0.6666666666666666,
              "#ed7953"
             ],
             [
              0.7777777777777778,
              "#fb9f3a"
             ],
             [
              0.8888888888888888,
              "#fdca26"
             ],
             [
              1,
              "#f0f921"
             ]
            ],
            "type": "heatmap"
           }
          ],
          "heatmapgl": [
           {
            "colorbar": {
             "outlinewidth": 0,
             "ticks": ""
            },
            "colorscale": [
             [
              0,
              "#0d0887"
             ],
             [
              0.1111111111111111,
              "#46039f"
             ],
             [
              0.2222222222222222,
              "#7201a8"
             ],
             [
              0.3333333333333333,
              "#9c179e"
             ],
             [
              0.4444444444444444,
              "#bd3786"
             ],
             [
              0.5555555555555556,
              "#d8576b"
             ],
             [
              0.6666666666666666,
              "#ed7953"
             ],
             [
              0.7777777777777778,
              "#fb9f3a"
             ],
             [
              0.8888888888888888,
              "#fdca26"
             ],
             [
              1,
              "#f0f921"
             ]
            ],
            "type": "heatmapgl"
           }
          ],
          "histogram": [
           {
            "marker": {
             "pattern": {
              "fillmode": "overlay",
              "size": 10,
              "solidity": 0.2
             }
            },
            "type": "histogram"
           }
          ],
          "histogram2d": [
           {
            "colorbar": {
             "outlinewidth": 0,
             "ticks": ""
            },
            "colorscale": [
             [
              0,
              "#0d0887"
             ],
             [
              0.1111111111111111,
              "#46039f"
             ],
             [
              0.2222222222222222,
              "#7201a8"
             ],
             [
              0.3333333333333333,
              "#9c179e"
             ],
             [
              0.4444444444444444,
              "#bd3786"
             ],
             [
              0.5555555555555556,
              "#d8576b"
             ],
             [
              0.6666666666666666,
              "#ed7953"
             ],
             [
              0.7777777777777778,
              "#fb9f3a"
             ],
             [
              0.8888888888888888,
              "#fdca26"
             ],
             [
              1,
              "#f0f921"
             ]
            ],
            "type": "histogram2d"
           }
          ],
          "histogram2dcontour": [
           {
            "colorbar": {
             "outlinewidth": 0,
             "ticks": ""
            },
            "colorscale": [
             [
              0,
              "#0d0887"
             ],
             [
              0.1111111111111111,
              "#46039f"
             ],
             [
              0.2222222222222222,
              "#7201a8"
             ],
             [
              0.3333333333333333,
              "#9c179e"
             ],
             [
              0.4444444444444444,
              "#bd3786"
             ],
             [
              0.5555555555555556,
              "#d8576b"
             ],
             [
              0.6666666666666666,
              "#ed7953"
             ],
             [
              0.7777777777777778,
              "#fb9f3a"
             ],
             [
              0.8888888888888888,
              "#fdca26"
             ],
             [
              1,
              "#f0f921"
             ]
            ],
            "type": "histogram2dcontour"
           }
          ],
          "mesh3d": [
           {
            "colorbar": {
             "outlinewidth": 0,
             "ticks": ""
            },
            "type": "mesh3d"
           }
          ],
          "parcoords": [
           {
            "line": {
             "colorbar": {
              "outlinewidth": 0,
              "ticks": ""
             }
            },
            "type": "parcoords"
           }
          ],
          "pie": [
           {
            "automargin": true,
            "type": "pie"
           }
          ],
          "scatter": [
           {
            "fillpattern": {
             "fillmode": "overlay",
             "size": 10,
             "solidity": 0.2
            },
            "type": "scatter"
           }
          ],
          "scatter3d": [
           {
            "line": {
             "colorbar": {
              "outlinewidth": 0,
              "ticks": ""
             }
            },
            "marker": {
             "colorbar": {
              "outlinewidth": 0,
              "ticks": ""
             }
            },
            "type": "scatter3d"
           }
          ],
          "scattercarpet": [
           {
            "marker": {
             "colorbar": {
              "outlinewidth": 0,
              "ticks": ""
             }
            },
            "type": "scattercarpet"
           }
          ],
          "scattergeo": [
           {
            "marker": {
             "colorbar": {
              "outlinewidth": 0,
              "ticks": ""
             }
            },
            "type": "scattergeo"
           }
          ],
          "scattergl": [
           {
            "marker": {
             "colorbar": {
              "outlinewidth": 0,
              "ticks": ""
             }
            },
            "type": "scattergl"
           }
          ],
          "scattermapbox": [
           {
            "marker": {
             "colorbar": {
              "outlinewidth": 0,
              "ticks": ""
             }
            },
            "type": "scattermapbox"
           }
          ],
          "scatterpolar": [
           {
            "marker": {
             "colorbar": {
              "outlinewidth": 0,
              "ticks": ""
             }
            },
            "type": "scatterpolar"
           }
          ],
          "scatterpolargl": [
           {
            "marker": {
             "colorbar": {
              "outlinewidth": 0,
              "ticks": ""
             }
            },
            "type": "scatterpolargl"
           }
          ],
          "scatterternary": [
           {
            "marker": {
             "colorbar": {
              "outlinewidth": 0,
              "ticks": ""
             }
            },
            "type": "scatterternary"
           }
          ],
          "surface": [
           {
            "colorbar": {
             "outlinewidth": 0,
             "ticks": ""
            },
            "colorscale": [
             [
              0,
              "#0d0887"
             ],
             [
              0.1111111111111111,
              "#46039f"
             ],
             [
              0.2222222222222222,
              "#7201a8"
             ],
             [
              0.3333333333333333,
              "#9c179e"
             ],
             [
              0.4444444444444444,
              "#bd3786"
             ],
             [
              0.5555555555555556,
              "#d8576b"
             ],
             [
              0.6666666666666666,
              "#ed7953"
             ],
             [
              0.7777777777777778,
              "#fb9f3a"
             ],
             [
              0.8888888888888888,
              "#fdca26"
             ],
             [
              1,
              "#f0f921"
             ]
            ],
            "type": "surface"
           }
          ],
          "table": [
           {
            "cells": {
             "fill": {
              "color": "#EBF0F8"
             },
             "line": {
              "color": "white"
             }
            },
            "header": {
             "fill": {
              "color": "#C8D4E3"
             },
             "line": {
              "color": "white"
             }
            },
            "type": "table"
           }
          ]
         },
         "layout": {
          "annotationdefaults": {
           "arrowcolor": "#2a3f5f",
           "arrowhead": 0,
           "arrowwidth": 1
          },
          "autotypenumbers": "strict",
          "coloraxis": {
           "colorbar": {
            "outlinewidth": 0,
            "ticks": ""
           }
          },
          "colorscale": {
           "diverging": [
            [
             0,
             "#8e0152"
            ],
            [
             0.1,
             "#c51b7d"
            ],
            [
             0.2,
             "#de77ae"
            ],
            [
             0.3,
             "#f1b6da"
            ],
            [
             0.4,
             "#fde0ef"
            ],
            [
             0.5,
             "#f7f7f7"
            ],
            [
             0.6,
             "#e6f5d0"
            ],
            [
             0.7,
             "#b8e186"
            ],
            [
             0.8,
             "#7fbc41"
            ],
            [
             0.9,
             "#4d9221"
            ],
            [
             1,
             "#276419"
            ]
           ],
           "sequential": [
            [
             0,
             "#0d0887"
            ],
            [
             0.1111111111111111,
             "#46039f"
            ],
            [
             0.2222222222222222,
             "#7201a8"
            ],
            [
             0.3333333333333333,
             "#9c179e"
            ],
            [
             0.4444444444444444,
             "#bd3786"
            ],
            [
             0.5555555555555556,
             "#d8576b"
            ],
            [
             0.6666666666666666,
             "#ed7953"
            ],
            [
             0.7777777777777778,
             "#fb9f3a"
            ],
            [
             0.8888888888888888,
             "#fdca26"
            ],
            [
             1,
             "#f0f921"
            ]
           ],
           "sequentialminus": [
            [
             0,
             "#0d0887"
            ],
            [
             0.1111111111111111,
             "#46039f"
            ],
            [
             0.2222222222222222,
             "#7201a8"
            ],
            [
             0.3333333333333333,
             "#9c179e"
            ],
            [
             0.4444444444444444,
             "#bd3786"
            ],
            [
             0.5555555555555556,
             "#d8576b"
            ],
            [
             0.6666666666666666,
             "#ed7953"
            ],
            [
             0.7777777777777778,
             "#fb9f3a"
            ],
            [
             0.8888888888888888,
             "#fdca26"
            ],
            [
             1,
             "#f0f921"
            ]
           ]
          },
          "colorway": [
           "#636efa",
           "#EF553B",
           "#00cc96",
           "#ab63fa",
           "#FFA15A",
           "#19d3f3",
           "#FF6692",
           "#B6E880",
           "#FF97FF",
           "#FECB52"
          ],
          "font": {
           "color": "#2a3f5f"
          },
          "geo": {
           "bgcolor": "white",
           "lakecolor": "white",
           "landcolor": "#E5ECF6",
           "showlakes": true,
           "showland": true,
           "subunitcolor": "white"
          },
          "hoverlabel": {
           "align": "left"
          },
          "hovermode": "closest",
          "mapbox": {
           "style": "light"
          },
          "paper_bgcolor": "white",
          "plot_bgcolor": "#E5ECF6",
          "polar": {
           "angularaxis": {
            "gridcolor": "white",
            "linecolor": "white",
            "ticks": ""
           },
           "bgcolor": "#E5ECF6",
           "radialaxis": {
            "gridcolor": "white",
            "linecolor": "white",
            "ticks": ""
           }
          },
          "scene": {
           "xaxis": {
            "backgroundcolor": "#E5ECF6",
            "gridcolor": "white",
            "gridwidth": 2,
            "linecolor": "white",
            "showbackground": true,
            "ticks": "",
            "zerolinecolor": "white"
           },
           "yaxis": {
            "backgroundcolor": "#E5ECF6",
            "gridcolor": "white",
            "gridwidth": 2,
            "linecolor": "white",
            "showbackground": true,
            "ticks": "",
            "zerolinecolor": "white"
           },
           "zaxis": {
            "backgroundcolor": "#E5ECF6",
            "gridcolor": "white",
            "gridwidth": 2,
            "linecolor": "white",
            "showbackground": true,
            "ticks": "",
            "zerolinecolor": "white"
           }
          },
          "shapedefaults": {
           "line": {
            "color": "#2a3f5f"
           }
          },
          "ternary": {
           "aaxis": {
            "gridcolor": "white",
            "linecolor": "white",
            "ticks": ""
           },
           "baxis": {
            "gridcolor": "white",
            "linecolor": "white",
            "ticks": ""
           },
           "bgcolor": "#E5ECF6",
           "caxis": {
            "gridcolor": "white",
            "linecolor": "white",
            "ticks": ""
           }
          },
          "title": {
           "x": 0.05
          },
          "xaxis": {
           "automargin": true,
           "gridcolor": "white",
           "linecolor": "white",
           "ticks": "",
           "title": {
            "standoff": 15
           },
           "zerolinecolor": "white",
           "zerolinewidth": 2
          },
          "yaxis": {
           "automargin": true,
           "gridcolor": "white",
           "linecolor": "white",
           "ticks": "",
           "title": {
            "standoff": 15
           },
           "zerolinecolor": "white",
           "zerolinewidth": 2
          }
         }
        },
        "title": {
         "text": "Cumulative proportion of all models by accessibility over time",
         "x": 0.2
        },
        "width": 800,
        "xaxis": {
         "anchor": "y",
         "domain": [
          0,
          1
         ],
         "range": [
          2018,
          2024
         ],
         "title": {
          "text": "Year"
         }
        },
        "yaxis": {
         "anchor": "x",
         "domain": [
          0,
          1
         ],
         "range": [
          0,
          1
         ],
         "title": {
          "text": "Proportion"
         }
        }
       }
      }
     },
     "metadata": {},
     "output_type": "display_data"
    }
   ],
   "source": [
    "fig = px.area(normalized_counts_total, x='Year', y='proportion', color='Model accessibility', line_group='Model accessibility',\n",
    "              labels={'proportion': 'Proportion', 'Year': 'Year'},\n",
    "              title='Cumulative proportion of all models by accessibility over time')\n",
    "\n",
    "fig.update_yaxes(range=[0, 1])\n",
    "fig.update_xaxes(range=[2018, 2024])\n",
    "fig.update_layout(\n",
    "    autosize=False,\n",
    "    width=800,\n",
    "    height=600,\n",
    "    title_x=0.2,\n",
    ")\n",
    "# save_plot(fig, results_dir, f'proportion_by_accessibility')\n",
    "fig.show()"
   ]
  },
  {
   "cell_type": "markdown",
   "metadata": {},
   "source": [
    "# Code vs Model Accessibility"
   ]
  },
  {
   "cell_type": "code",
   "execution_count": 23,
   "metadata": {},
   "outputs": [
    {
     "name": "stdout",
     "output_type": "stream",
     "text": [
      "There are 146 models with marked code access and unmarked code access\n"
     ]
    }
   ],
   "source": [
    "print(f\"There are {len(access_df[access_df['Training code accessibility'].isna()])} models with marked code access and unmarked code access\")"
   ]
  },
  {
   "cell_type": "code",
   "execution_count": 24,
   "metadata": {},
   "outputs": [],
   "source": [
    "# filter for code accessibility\n",
    "code_df = access_df.dropna(subset=['Training code accessibility'])"
   ]
  },
  {
   "cell_type": "code",
   "execution_count": 25,
   "metadata": {},
   "outputs": [
    {
     "data": {
      "text/html": [
       "<div>\n",
       "<style scoped>\n",
       "    .dataframe tbody tr th:only-of-type {\n",
       "        vertical-align: middle;\n",
       "    }\n",
       "\n",
       "    .dataframe tbody tr th {\n",
       "        vertical-align: top;\n",
       "    }\n",
       "\n",
       "    .dataframe thead th {\n",
       "        text-align: right;\n",
       "    }\n",
       "</style>\n",
       "<table border=\"1\" class=\"dataframe\">\n",
       "  <thead>\n",
       "    <tr style=\"text-align: right;\">\n",
       "      <th></th>\n",
       "      <th>System</th>\n",
       "      <th>Domain</th>\n",
       "      <th>Task</th>\n",
       "      <th>Authors</th>\n",
       "      <th>Notability criteria</th>\n",
       "      <th>Notability criteria notes</th>\n",
       "      <th>Model accessibility</th>\n",
       "      <th>Link</th>\n",
       "      <th>Citations</th>\n",
       "      <th>Reference</th>\n",
       "      <th>...</th>\n",
       "      <th>Hardware FP16</th>\n",
       "      <th>Assumed precision</th>\n",
       "      <th>Assumed hardware FLOP/s</th>\n",
       "      <th>TEMP</th>\n",
       "      <th>Hardware type</th>\n",
       "      <th>Compute estimate method</th>\n",
       "      <th>Training compute estimation method</th>\n",
       "      <th>Model open/closed</th>\n",
       "      <th>Code open/closed</th>\n",
       "      <th>Year</th>\n",
       "    </tr>\n",
       "  </thead>\n",
       "  <tbody>\n",
       "    <tr>\n",
       "      <th>3</th>\n",
       "      <td>Suno Music Generation</td>\n",
       "      <td>Audio</td>\n",
       "      <td>Audio generation</td>\n",
       "      <td>NaN</td>\n",
       "      <td>NaN</td>\n",
       "      <td>NaN</td>\n",
       "      <td>Hosted access (no API)</td>\n",
       "      <td>https://suno.com/about</td>\n",
       "      <td>NaN</td>\n",
       "      <td>NaN</td>\n",
       "      <td>...</td>\n",
       "      <td>NaN</td>\n",
       "      <td>FP32</td>\n",
       "      <td>NaN</td>\n",
       "      <td>0</td>\n",
       "      <td>NaN</td>\n",
       "      <td>NaN</td>\n",
       "      <td>NaN</td>\n",
       "      <td>Closed</td>\n",
       "      <td>Closed</td>\n",
       "      <td>NaN</td>\n",
       "    </tr>\n",
       "    <tr>\n",
       "      <th>103</th>\n",
       "      <td>Deep Blue</td>\n",
       "      <td>Games</td>\n",
       "      <td>Chess</td>\n",
       "      <td>Murray Campbell, A. Joseph Hoane Jr., Feng-hsi...</td>\n",
       "      <td>Historical significance,Highly cited</td>\n",
       "      <td>Defeated Kasparov in 1997, which was a famous ...</td>\n",
       "      <td>Unreleased</td>\n",
       "      <td>https://www.sciencedirect.com/science/article/...</td>\n",
       "      <td>1992.0</td>\n",
       "      <td>Deep Blue</td>\n",
       "      <td>...</td>\n",
       "      <td>NaN</td>\n",
       "      <td>FP32</td>\n",
       "      <td>NaN</td>\n",
       "      <td>0</td>\n",
       "      <td>NaN</td>\n",
       "      <td>NaN</td>\n",
       "      <td>NaN</td>\n",
       "      <td>Closed</td>\n",
       "      <td>Closed</td>\n",
       "      <td>1997.0</td>\n",
       "    </tr>\n",
       "    <tr>\n",
       "      <th>116</th>\n",
       "      <td>Credibilty Network</td>\n",
       "      <td>Vision</td>\n",
       "      <td>Character recognition,Image classification</td>\n",
       "      <td>Geoffrey E. Hinton, Zoubin Ghahramani, Vee Why...</td>\n",
       "      <td>NaN</td>\n",
       "      <td>NaN</td>\n",
       "      <td>Unreleased</td>\n",
       "      <td>https://proceedings.neurips.cc/paper_files/pap...</td>\n",
       "      <td>NaN</td>\n",
       "      <td>Learning to Parse Images</td>\n",
       "      <td>...</td>\n",
       "      <td>NaN</td>\n",
       "      <td>FP32</td>\n",
       "      <td>NaN</td>\n",
       "      <td>0</td>\n",
       "      <td>NaN</td>\n",
       "      <td>NaN</td>\n",
       "      <td>NaN</td>\n",
       "      <td>Closed</td>\n",
       "      <td>Closed</td>\n",
       "      <td>1999.0</td>\n",
       "    </tr>\n",
       "    <tr>\n",
       "      <th>244</th>\n",
       "      <td>Dropout (ImageNet)</td>\n",
       "      <td>Vision</td>\n",
       "      <td>Image classification</td>\n",
       "      <td>GE Hinton, N Srivastava, A Krizhevsky</td>\n",
       "      <td>Highly cited</td>\n",
       "      <td>NaN</td>\n",
       "      <td>Unreleased</td>\n",
       "      <td>https://arxiv.org/abs/1207.0580</td>\n",
       "      <td>7411.0</td>\n",
       "      <td>Improving neural networks by preventing co-ada...</td>\n",
       "      <td>...</td>\n",
       "      <td>NaN</td>\n",
       "      <td>FP32</td>\n",
       "      <td>1581000000000</td>\n",
       "      <td>0</td>\n",
       "      <td>GPU</td>\n",
       "      <td>NaN</td>\n",
       "      <td>NaN</td>\n",
       "      <td>Closed</td>\n",
       "      <td>Closed</td>\n",
       "      <td>2012.0</td>\n",
       "    </tr>\n",
       "    <tr>\n",
       "      <th>245</th>\n",
       "      <td>Dropout (CIFAR)</td>\n",
       "      <td>Vision</td>\n",
       "      <td>Character recognition</td>\n",
       "      <td>GE Hinton, N Srivastava, A Krizhevsky</td>\n",
       "      <td>Highly cited</td>\n",
       "      <td>NaN</td>\n",
       "      <td>Unreleased</td>\n",
       "      <td>https://arxiv.org/abs/1207.0580</td>\n",
       "      <td>7411.0</td>\n",
       "      <td>Improving neural networks by preventing co-ada...</td>\n",
       "      <td>...</td>\n",
       "      <td>NaN</td>\n",
       "      <td>FP32</td>\n",
       "      <td>1581000000000</td>\n",
       "      <td>0</td>\n",
       "      <td>GPU</td>\n",
       "      <td>NaN</td>\n",
       "      <td>NaN</td>\n",
       "      <td>Closed</td>\n",
       "      <td>Open</td>\n",
       "      <td>2012.0</td>\n",
       "    </tr>\n",
       "    <tr>\n",
       "      <th>246</th>\n",
       "      <td>Dropout (MNIST)</td>\n",
       "      <td>Vision</td>\n",
       "      <td>Character recognition</td>\n",
       "      <td>GE Hinton, N Srivastava, A Krizhevsky</td>\n",
       "      <td>Highly cited</td>\n",
       "      <td>NaN</td>\n",
       "      <td>Unreleased</td>\n",
       "      <td>https://arxiv.org/abs/1207.0580</td>\n",
       "      <td>7411.0</td>\n",
       "      <td>Improving neural networks by preventing co-ada...</td>\n",
       "      <td>...</td>\n",
       "      <td>NaN</td>\n",
       "      <td>FP32</td>\n",
       "      <td>1581000000000</td>\n",
       "      <td>0</td>\n",
       "      <td>GPU</td>\n",
       "      <td>NaN</td>\n",
       "      <td>NaN</td>\n",
       "      <td>Closed</td>\n",
       "      <td>Open</td>\n",
       "      <td>2012.0</td>\n",
       "    </tr>\n",
       "    <tr>\n",
       "      <th>247</th>\n",
       "      <td>Dropout (TIMIT)</td>\n",
       "      <td>Speech</td>\n",
       "      <td>Speech recognition</td>\n",
       "      <td>GE Hinton, N Srivastava, A Krizhevsky</td>\n",
       "      <td>Highly cited</td>\n",
       "      <td>NaN</td>\n",
       "      <td>Unreleased</td>\n",
       "      <td>https://arxiv.org/abs/1207.0580</td>\n",
       "      <td>7411.0</td>\n",
       "      <td>Improving neural networks by preventing co-ada...</td>\n",
       "      <td>...</td>\n",
       "      <td>NaN</td>\n",
       "      <td>FP32</td>\n",
       "      <td>1581000000000</td>\n",
       "      <td>0</td>\n",
       "      <td>GPU</td>\n",
       "      <td>NaN</td>\n",
       "      <td>NaN</td>\n",
       "      <td>Closed</td>\n",
       "      <td>Open</td>\n",
       "      <td>2012.0</td>\n",
       "    </tr>\n",
       "    <tr>\n",
       "      <th>248</th>\n",
       "      <td>LBL</td>\n",
       "      <td>Language</td>\n",
       "      <td>Language modelling</td>\n",
       "      <td>Andriy Mnih, Yee Whye Teh</td>\n",
       "      <td>NaN</td>\n",
       "      <td>NaN</td>\n",
       "      <td>Unreleased</td>\n",
       "      <td>https://arxiv.org/abs/1206.6426</td>\n",
       "      <td>835.0</td>\n",
       "      <td>A Fast and Simple Algorithm for Training Neura...</td>\n",
       "      <td>...</td>\n",
       "      <td>NaN</td>\n",
       "      <td>FP32</td>\n",
       "      <td>NaN</td>\n",
       "      <td>0</td>\n",
       "      <td>NaN</td>\n",
       "      <td>NaN</td>\n",
       "      <td>NaN</td>\n",
       "      <td>Closed</td>\n",
       "      <td>Closed</td>\n",
       "      <td>2012.0</td>\n",
       "    </tr>\n",
       "  </tbody>\n",
       "</table>\n",
       "<p>8 rows × 92 columns</p>\n",
       "</div>"
      ],
      "text/plain": [
       "                    System    Domain  \\\n",
       "3    Suno Music Generation     Audio   \n",
       "103              Deep Blue     Games   \n",
       "116     Credibilty Network    Vision   \n",
       "244     Dropout (ImageNet)    Vision   \n",
       "245        Dropout (CIFAR)    Vision   \n",
       "246        Dropout (MNIST)    Vision   \n",
       "247        Dropout (TIMIT)    Speech   \n",
       "248                    LBL  Language   \n",
       "\n",
       "                                           Task  \\\n",
       "3                              Audio generation   \n",
       "103                                       Chess   \n",
       "116  Character recognition,Image classification   \n",
       "244                        Image classification   \n",
       "245                       Character recognition   \n",
       "246                       Character recognition   \n",
       "247                          Speech recognition   \n",
       "248                          Language modelling   \n",
       "\n",
       "                                               Authors  \\\n",
       "3                                                  NaN   \n",
       "103  Murray Campbell, A. Joseph Hoane Jr., Feng-hsi...   \n",
       "116  Geoffrey E. Hinton, Zoubin Ghahramani, Vee Why...   \n",
       "244              GE Hinton, N Srivastava, A Krizhevsky   \n",
       "245              GE Hinton, N Srivastava, A Krizhevsky   \n",
       "246              GE Hinton, N Srivastava, A Krizhevsky   \n",
       "247              GE Hinton, N Srivastava, A Krizhevsky   \n",
       "248                          Andriy Mnih, Yee Whye Teh   \n",
       "\n",
       "                      Notability criteria  \\\n",
       "3                                     NaN   \n",
       "103  Historical significance,Highly cited   \n",
       "116                                   NaN   \n",
       "244                          Highly cited   \n",
       "245                          Highly cited   \n",
       "246                          Highly cited   \n",
       "247                          Highly cited   \n",
       "248                                   NaN   \n",
       "\n",
       "                             Notability criteria notes  \\\n",
       "3                                                  NaN   \n",
       "103  Defeated Kasparov in 1997, which was a famous ...   \n",
       "116                                                NaN   \n",
       "244                                                NaN   \n",
       "245                                                NaN   \n",
       "246                                                NaN   \n",
       "247                                                NaN   \n",
       "248                                                NaN   \n",
       "\n",
       "        Model accessibility  \\\n",
       "3    Hosted access (no API)   \n",
       "103              Unreleased   \n",
       "116              Unreleased   \n",
       "244              Unreleased   \n",
       "245              Unreleased   \n",
       "246              Unreleased   \n",
       "247              Unreleased   \n",
       "248              Unreleased   \n",
       "\n",
       "                                                  Link  Citations  \\\n",
       "3                               https://suno.com/about        NaN   \n",
       "103  https://www.sciencedirect.com/science/article/...     1992.0   \n",
       "116  https://proceedings.neurips.cc/paper_files/pap...        NaN   \n",
       "244                    https://arxiv.org/abs/1207.0580     7411.0   \n",
       "245                    https://arxiv.org/abs/1207.0580     7411.0   \n",
       "246                    https://arxiv.org/abs/1207.0580     7411.0   \n",
       "247                    https://arxiv.org/abs/1207.0580     7411.0   \n",
       "248                    https://arxiv.org/abs/1206.6426      835.0   \n",
       "\n",
       "                                             Reference  ... Hardware FP16  \\\n",
       "3                                                  NaN  ...           NaN   \n",
       "103                                          Deep Blue  ...           NaN   \n",
       "116                           Learning to Parse Images  ...           NaN   \n",
       "244  Improving neural networks by preventing co-ada...  ...           NaN   \n",
       "245  Improving neural networks by preventing co-ada...  ...           NaN   \n",
       "246  Improving neural networks by preventing co-ada...  ...           NaN   \n",
       "247  Improving neural networks by preventing co-ada...  ...           NaN   \n",
       "248  A Fast and Simple Algorithm for Training Neura...  ...           NaN   \n",
       "\n",
       "    Assumed precision  Assumed hardware FLOP/s TEMP  Hardware type  \\\n",
       "3                FP32                      NaN    0            NaN   \n",
       "103              FP32                      NaN    0            NaN   \n",
       "116              FP32                      NaN    0            NaN   \n",
       "244              FP32            1581000000000    0            GPU   \n",
       "245              FP32            1581000000000    0            GPU   \n",
       "246              FP32            1581000000000    0            GPU   \n",
       "247              FP32            1581000000000    0            GPU   \n",
       "248              FP32                      NaN    0            NaN   \n",
       "\n",
       "    Compute estimate method Training compute estimation method  \\\n",
       "3                       NaN                                NaN   \n",
       "103                     NaN                                NaN   \n",
       "116                     NaN                                NaN   \n",
       "244                     NaN                                NaN   \n",
       "245                     NaN                                NaN   \n",
       "246                     NaN                                NaN   \n",
       "247                     NaN                                NaN   \n",
       "248                     NaN                                NaN   \n",
       "\n",
       "    Model open/closed  Code open/closed    Year  \n",
       "3              Closed            Closed     NaN  \n",
       "103            Closed            Closed  1997.0  \n",
       "116            Closed            Closed  1999.0  \n",
       "244            Closed            Closed  2012.0  \n",
       "245            Closed              Open  2012.0  \n",
       "246            Closed              Open  2012.0  \n",
       "247            Closed              Open  2012.0  \n",
       "248            Closed            Closed  2012.0  \n",
       "\n",
       "[8 rows x 92 columns]"
      ]
     },
     "execution_count": 25,
     "metadata": {},
     "output_type": "execute_result"
    }
   ],
   "source": [
    "code_df.head(8)"
   ]
  },
  {
   "cell_type": "code",
   "execution_count": 26,
   "metadata": {},
   "outputs": [
    {
     "data": {
      "text/html": [
       "<div>\n",
       "<style scoped>\n",
       "    .dataframe tbody tr th:only-of-type {\n",
       "        vertical-align: middle;\n",
       "    }\n",
       "\n",
       "    .dataframe tbody tr th {\n",
       "        vertical-align: top;\n",
       "    }\n",
       "\n",
       "    .dataframe thead th {\n",
       "        text-align: right;\n",
       "    }\n",
       "</style>\n",
       "<table border=\"1\" class=\"dataframe\">\n",
       "  <thead>\n",
       "    <tr style=\"text-align: right;\">\n",
       "      <th></th>\n",
       "      <th>Model accessibility</th>\n",
       "      <th>Counts</th>\n",
       "    </tr>\n",
       "  </thead>\n",
       "  <tbody>\n",
       "    <tr>\n",
       "      <th>0</th>\n",
       "      <td>API access</td>\n",
       "      <td>46</td>\n",
       "    </tr>\n",
       "    <tr>\n",
       "      <th>1</th>\n",
       "      <td>Hosted access (no API)</td>\n",
       "      <td>27</td>\n",
       "    </tr>\n",
       "    <tr>\n",
       "      <th>2</th>\n",
       "      <td>Open access (non-commercial)</td>\n",
       "      <td>80</td>\n",
       "    </tr>\n",
       "    <tr>\n",
       "      <th>3</th>\n",
       "      <td>Open access (restricted use)</td>\n",
       "      <td>63</td>\n",
       "    </tr>\n",
       "    <tr>\n",
       "      <th>4</th>\n",
       "      <td>Open access (unrestricted)</td>\n",
       "      <td>281</td>\n",
       "    </tr>\n",
       "    <tr>\n",
       "      <th>5</th>\n",
       "      <td>Unreleased</td>\n",
       "      <td>445</td>\n",
       "    </tr>\n",
       "  </tbody>\n",
       "</table>\n",
       "</div>"
      ],
      "text/plain": [
       "            Model accessibility  Counts\n",
       "0                    API access      46\n",
       "1        Hosted access (no API)      27\n",
       "2  Open access (non-commercial)      80\n",
       "3  Open access (restricted use)      63\n",
       "4    Open access (unrestricted)     281\n",
       "5                    Unreleased     445"
      ]
     },
     "execution_count": 26,
     "metadata": {},
     "output_type": "execute_result"
    }
   ],
   "source": [
    "model_counts = code_df.groupby('Model accessibility').size().reset_index(name='Counts')\n",
    "model_counts"
   ]
  },
  {
   "cell_type": "code",
   "execution_count": 27,
   "metadata": {},
   "outputs": [
    {
     "data": {
      "text/html": [
       "<div>\n",
       "<style scoped>\n",
       "    .dataframe tbody tr th:only-of-type {\n",
       "        vertical-align: middle;\n",
       "    }\n",
       "\n",
       "    .dataframe tbody tr th {\n",
       "        vertical-align: top;\n",
       "    }\n",
       "\n",
       "    .dataframe thead th {\n",
       "        text-align: right;\n",
       "    }\n",
       "</style>\n",
       "<table border=\"1\" class=\"dataframe\">\n",
       "  <thead>\n",
       "    <tr style=\"text-align: right;\">\n",
       "      <th></th>\n",
       "      <th>Training code accessibility</th>\n",
       "      <th>Counts</th>\n",
       "    </tr>\n",
       "  </thead>\n",
       "  <tbody>\n",
       "    <tr>\n",
       "      <th>0</th>\n",
       "      <td>Open access (non-commercial)</td>\n",
       "      <td>77</td>\n",
       "    </tr>\n",
       "    <tr>\n",
       "      <th>1</th>\n",
       "      <td>Open access (restricted use)</td>\n",
       "      <td>10</td>\n",
       "    </tr>\n",
       "    <tr>\n",
       "      <th>2</th>\n",
       "      <td>Open source</td>\n",
       "      <td>317</td>\n",
       "    </tr>\n",
       "    <tr>\n",
       "      <th>3</th>\n",
       "      <td>Unreleased</td>\n",
       "      <td>538</td>\n",
       "    </tr>\n",
       "  </tbody>\n",
       "</table>\n",
       "</div>"
      ],
      "text/plain": [
       "    Training code accessibility  Counts\n",
       "0  Open access (non-commercial)      77\n",
       "1  Open access (restricted use)      10\n",
       "2                   Open source     317\n",
       "3                    Unreleased     538"
      ]
     },
     "execution_count": 27,
     "metadata": {},
     "output_type": "execute_result"
    }
   ],
   "source": [
    "code_counts = code_df.groupby('Training code accessibility').size().reset_index(name='Counts')\n",
    "code_counts"
   ]
  },
  {
   "cell_type": "code",
   "execution_count": 28,
   "metadata": {},
   "outputs": [
    {
     "data": {
      "text/html": [
       "<div>\n",
       "<style scoped>\n",
       "    .dataframe tbody tr th:only-of-type {\n",
       "        vertical-align: middle;\n",
       "    }\n",
       "\n",
       "    .dataframe tbody tr th {\n",
       "        vertical-align: top;\n",
       "    }\n",
       "\n",
       "    .dataframe thead th {\n",
       "        text-align: right;\n",
       "    }\n",
       "</style>\n",
       "<table border=\"1\" class=\"dataframe\">\n",
       "  <thead>\n",
       "    <tr style=\"text-align: right;\">\n",
       "      <th>Training code accessibility</th>\n",
       "      <th>Open access (non-commercial)</th>\n",
       "      <th>Open access (restricted use)</th>\n",
       "      <th>Open source</th>\n",
       "      <th>Unreleased</th>\n",
       "    </tr>\n",
       "    <tr>\n",
       "      <th>Model accessibility</th>\n",
       "      <th></th>\n",
       "      <th></th>\n",
       "      <th></th>\n",
       "      <th></th>\n",
       "    </tr>\n",
       "  </thead>\n",
       "  <tbody>\n",
       "    <tr>\n",
       "      <th>API access</th>\n",
       "      <td>0.0</td>\n",
       "      <td>0.0</td>\n",
       "      <td>0.0</td>\n",
       "      <td>46.0</td>\n",
       "    </tr>\n",
       "    <tr>\n",
       "      <th>Hosted access (no API)</th>\n",
       "      <td>1.0</td>\n",
       "      <td>0.0</td>\n",
       "      <td>1.0</td>\n",
       "      <td>25.0</td>\n",
       "    </tr>\n",
       "    <tr>\n",
       "      <th>Open access (non-commercial)</th>\n",
       "      <td>32.0</td>\n",
       "      <td>1.0</td>\n",
       "      <td>16.0</td>\n",
       "      <td>31.0</td>\n",
       "    </tr>\n",
       "    <tr>\n",
       "      <th>Open access (restricted use)</th>\n",
       "      <td>0.0</td>\n",
       "      <td>7.0</td>\n",
       "      <td>12.0</td>\n",
       "      <td>44.0</td>\n",
       "    </tr>\n",
       "    <tr>\n",
       "      <th>Open access (unrestricted)</th>\n",
       "      <td>1.0</td>\n",
       "      <td>1.0</td>\n",
       "      <td>182.0</td>\n",
       "      <td>97.0</td>\n",
       "    </tr>\n",
       "    <tr>\n",
       "      <th>Unreleased</th>\n",
       "      <td>43.0</td>\n",
       "      <td>1.0</td>\n",
       "      <td>106.0</td>\n",
       "      <td>295.0</td>\n",
       "    </tr>\n",
       "  </tbody>\n",
       "</table>\n",
       "</div>"
      ],
      "text/plain": [
       "Training code accessibility   Open access (non-commercial)  \\\n",
       "Model accessibility                                          \n",
       "API access                                             0.0   \n",
       "Hosted access (no API)                                 1.0   \n",
       "Open access (non-commercial)                          32.0   \n",
       "Open access (restricted use)                           0.0   \n",
       "Open access (unrestricted)                             1.0   \n",
       "Unreleased                                            43.0   \n",
       "\n",
       "Training code accessibility   Open access (restricted use)  Open source  \\\n",
       "Model accessibility                                                       \n",
       "API access                                             0.0          0.0   \n",
       "Hosted access (no API)                                 0.0          1.0   \n",
       "Open access (non-commercial)                           1.0         16.0   \n",
       "Open access (restricted use)                           7.0         12.0   \n",
       "Open access (unrestricted)                             1.0        182.0   \n",
       "Unreleased                                             1.0        106.0   \n",
       "\n",
       "Training code accessibility   Unreleased  \n",
       "Model accessibility                       \n",
       "API access                          46.0  \n",
       "Hosted access (no API)              25.0  \n",
       "Open access (non-commercial)        31.0  \n",
       "Open access (restricted use)        44.0  \n",
       "Open access (unrestricted)          97.0  \n",
       "Unreleased                         295.0  "
      ]
     },
     "execution_count": 28,
     "metadata": {},
     "output_type": "execute_result"
    }
   ],
   "source": [
    "grouped_counts = code_df.groupby(['Model accessibility', 'Training code accessibility']).size().reset_index(name='Counts')\n",
    "pivoted = grouped_counts.pivot(index='Model accessibility', columns='Training code accessibility', values='Counts').fillna(0)\n",
    "\n",
    "# code access against model access\n",
    "pivoted"
   ]
  },
  {
   "cell_type": "code",
   "execution_count": 29,
   "metadata": {},
   "outputs": [
    {
     "data": {
      "text/html": [
       "<div>\n",
       "<style scoped>\n",
       "    .dataframe tbody tr th:only-of-type {\n",
       "        vertical-align: middle;\n",
       "    }\n",
       "\n",
       "    .dataframe tbody tr th {\n",
       "        vertical-align: top;\n",
       "    }\n",
       "\n",
       "    .dataframe thead th {\n",
       "        text-align: right;\n",
       "    }\n",
       "</style>\n",
       "<table border=\"1\" class=\"dataframe\">\n",
       "  <thead>\n",
       "    <tr style=\"text-align: right;\">\n",
       "      <th>Code open/closed</th>\n",
       "      <th>Closed</th>\n",
       "      <th>Open</th>\n",
       "    </tr>\n",
       "    <tr>\n",
       "      <th>Model open/closed</th>\n",
       "      <th></th>\n",
       "      <th></th>\n",
       "    </tr>\n",
       "  </thead>\n",
       "  <tbody>\n",
       "    <tr>\n",
       "      <th>Closed</th>\n",
       "      <td>366</td>\n",
       "      <td>152</td>\n",
       "    </tr>\n",
       "    <tr>\n",
       "      <th>Open</th>\n",
       "      <td>172</td>\n",
       "      <td>252</td>\n",
       "    </tr>\n",
       "  </tbody>\n",
       "</table>\n",
       "</div>"
      ],
      "text/plain": [
       "Code open/closed   Closed  Open\n",
       "Model open/closed              \n",
       "Closed                366   152\n",
       "Open                  172   252"
      ]
     },
     "execution_count": 29,
     "metadata": {},
     "output_type": "execute_result"
    }
   ],
   "source": [
    "model_code_counts = code_df.groupby(['Model open/closed', 'Code open/closed']).size().reset_index(name='Counts')\n",
    "model_code_counts = model_code_counts.pivot(index='Model open/closed', columns='Code open/closed', values='Counts')\n",
    "\n",
    "# code open vs model open\n",
    "model_code_counts"
   ]
  },
  {
   "cell_type": "code",
   "execution_count": 30,
   "metadata": {},
   "outputs": [
    {
     "data": {
      "image/png": "[encoded data removed]",
      "text/plain": [
       "<Figure size 1000x600 with 1 Axes>"
      ]
     },
     "metadata": {},
     "output_type": "display_data"
    }
   ],
   "source": [
    "ax = model_code_counts.plot(kind='bar', figsize=(10, 6), width=0.8)\n",
    "\n",
    "# Customize the chart\n",
    "plt.title('Model open/closed vs Code open/closed for all systems')\n",
    "plt.ylabel('Count')\n",
    "\n",
    "\n",
    "# Add value labels on the bars\n",
    "for container in ax.containers:\n",
    "    ax.bar_label(container, label_type='center')\n",
    "\n",
    "# Adjust layout and display the chart\n",
    "plt.tight_layout()\n",
    "plt.show()"
   ]
  },
  {
   "cell_type": "code",
   "execution_count": 31,
   "metadata": {},
   "outputs": [
    {
     "data": {
      "application/vnd.plotly.v1+json": {
       "config": {
        "plotlyServerURL": "https://plot.ly"
       },
       "data": [
        {
         "colorscale": [
          [
           0,
           "rgb(247,251,255)"
          ],
          [
           0.125,
           "rgb(222,235,247)"
          ],
          [
           0.25,
           "rgb(198,219,239)"
          ],
          [
           0.375,
           "rgb(158,202,225)"
          ],
          [
           0.5,
           "rgb(107,174,214)"
          ],
          [
           0.625,
           "rgb(66,146,198)"
          ],
          [
           0.75,
           "rgb(33,113,181)"
          ],
          [
           0.875,
           "rgb(8,81,156)"
          ],
          [
           1,
           "rgb(8,48,107)"
          ]
         ],
         "hoverongaps": false,
         "text": [
          [
           329,
           148
          ],
          [
           124,
           275
          ]
         ],
         "textfont": {
          "size": 20
         },
         "texttemplate": "%{text}",
         "type": "heatmap",
         "x": [
          "Closed",
          "Open"
         ],
         "y": [
          "Closed",
          "Open"
         ],
         "z": [
          [
           366,
           152
          ],
          [
           172,
           252
          ]
         ]
        }
       ],
       "layout": {
        "autosize": false,
        "height": 300,
        "template": {
         "data": {
          "bar": [
           {
            "error_x": {
             "color": "#2a3f5f"
            },
            "error_y": {
             "color": "#2a3f5f"
            },
            "marker": {
             "line": {
              "color": "#E5ECF6",
              "width": 0.5
             },
             "pattern": {
              "fillmode": "overlay",
              "size": 10,
              "solidity": 0.2
             }
            },
            "type": "bar"
           }
          ],
          "barpolar": [
           {
            "marker": {
             "line": {
              "color": "#E5ECF6",
              "width": 0.5
             },
             "pattern": {
              "fillmode": "overlay",
              "size": 10,
              "solidity": 0.2
             }
            },
            "type": "barpolar"
           }
          ],
          "carpet": [
           {
            "aaxis": {
             "endlinecolor": "#2a3f5f",
             "gridcolor": "white",
             "linecolor": "white",
             "minorgridcolor": "white",
             "startlinecolor": "#2a3f5f"
            },
            "baxis": {
             "endlinecolor": "#2a3f5f",
             "gridcolor": "white",
             "linecolor": "white",
             "minorgridcolor": "white",
             "startlinecolor": "#2a3f5f"
            },
            "type": "carpet"
           }
          ],
          "choropleth": [
           {
            "colorbar": {
             "outlinewidth": 0,
             "ticks": ""
            },
            "type": "choropleth"
           }
          ],
          "contour": [
           {
            "colorbar": {
             "outlinewidth": 0,
             "ticks": ""
            },
            "colorscale": [
             [
              0,
              "#0d0887"
             ],
             [
              0.1111111111111111,
              "#46039f"
             ],
             [
              0.2222222222222222,
              "#7201a8"
             ],
             [
              0.3333333333333333,
              "#9c179e"
             ],
             [
              0.4444444444444444,
              "#bd3786"
             ],
             [
              0.5555555555555556,
              "#d8576b"
             ],
             [
              0.6666666666666666,
              "#ed7953"
             ],
             [
              0.7777777777777778,
              "#fb9f3a"
             ],
             [
              0.8888888888888888,
              "#fdca26"
             ],
             [
              1,
              "#f0f921"
             ]
            ],
            "type": "contour"
           }
          ],
          "contourcarpet": [
           {
            "colorbar": {
             "outlinewidth": 0,
             "ticks": ""
            },
            "type": "contourcarpet"
           }
          ],
          "heatmap": [
           {
            "colorbar": {
             "outlinewidth": 0,
             "ticks": ""
            },
            "colorscale": [
             [
              0,
              "#0d0887"
             ],
             [
              0.1111111111111111,
              "#46039f"
             ],
             [
              0.2222222222222222,
              "#7201a8"
             ],
             [
              0.3333333333333333,
              "#9c179e"
             ],
             [
              0.4444444444444444,
              "#bd3786"
             ],
             [
              0.5555555555555556,
              "#d8576b"
             ],
             [
              0.6666666666666666,
              "#ed7953"
             ],
             [
              0.7777777777777778,
              "#fb9f3a"
             ],
             [
              0.8888888888888888,
              "#fdca26"
             ],
             [
              1,
              "#f0f921"
             ]
            ],
            "type": "heatmap"
           }
          ],
          "heatmapgl": [
           {
            "colorbar": {
             "outlinewidth": 0,
             "ticks": ""
            },
            "colorscale": [
             [
              0,
              "#0d0887"
             ],
             [
              0.1111111111111111,
              "#46039f"
             ],
             [
              0.2222222222222222,
              "#7201a8"
             ],
             [
              0.3333333333333333,
              "#9c179e"
             ],
             [
              0.4444444444444444,
              "#bd3786"
             ],
             [
              0.5555555555555556,
              "#d8576b"
             ],
             [
              0.6666666666666666,
              "#ed7953"
             ],
             [
              0.7777777777777778,
              "#fb9f3a"
             ],
             [
              0.8888888888888888,
              "#fdca26"
             ],
             [
              1,
              "#f0f921"
             ]
            ],
            "type": "heatmapgl"
           }
          ],
          "histogram": [
           {
            "marker": {
             "pattern": {
              "fillmode": "overlay",
              "size": 10,
              "solidity": 0.2
             }
            },
            "type": "histogram"
           }
          ],
          "histogram2d": [
           {
            "colorbar": {
             "outlinewidth": 0,
             "ticks": ""
            },
            "colorscale": [
             [
              0,
              "#0d0887"
             ],
             [
              0.1111111111111111,
              "#46039f"
             ],
             [
              0.2222222222222222,
              "#7201a8"
             ],
             [
              0.3333333333333333,
              "#9c179e"
             ],
             [
              0.4444444444444444,
              "#bd3786"
             ],
             [
              0.5555555555555556,
              "#d8576b"
             ],
             [
              0.6666666666666666,
              "#ed7953"
             ],
             [
              0.7777777777777778,
              "#fb9f3a"
             ],
             [
              0.8888888888888888,
              "#fdca26"
             ],
             [
              1,
              "#f0f921"
             ]
            ],
            "type": "histogram2d"
           }
          ],
          "histogram2dcontour": [
           {
            "colorbar": {
             "outlinewidth": 0,
             "ticks": ""
            },
            "colorscale": [
             [
              0,
              "#0d0887"
             ],
             [
              0.1111111111111111,
              "#46039f"
             ],
             [
              0.2222222222222222,
              "#7201a8"
             ],
             [
              0.3333333333333333,
              "#9c179e"
             ],
             [
              0.4444444444444444,
              "#bd3786"
             ],
             [
              0.5555555555555556,
              "#d8576b"
             ],
             [
              0.6666666666666666,
              "#ed7953"
             ],
             [
              0.7777777777777778,
              "#fb9f3a"
             ],
             [
              0.8888888888888888,
              "#fdca26"
             ],
             [
              1,
              "#f0f921"
             ]
            ],
            "type": "histogram2dcontour"
           }
          ],
          "mesh3d": [
           {
            "colorbar": {
             "outlinewidth": 0,
             "ticks": ""
            },
            "type": "mesh3d"
           }
          ],
          "parcoords": [
           {
            "line": {
             "colorbar": {
              "outlinewidth": 0,
              "ticks": ""
             }
            },
            "type": "parcoords"
           }
          ],
          "pie": [
           {
            "automargin": true,
            "type": "pie"
           }
          ],
          "scatter": [
           {
            "fillpattern": {
             "fillmode": "overlay",
             "size": 10,
             "solidity": 0.2
            },
            "type": "scatter"
           }
          ],
          "scatter3d": [
           {
            "line": {
             "colorbar": {
              "outlinewidth": 0,
              "ticks": ""
             }
            },
            "marker": {
             "colorbar": {
              "outlinewidth": 0,
              "ticks": ""
             }
            },
            "type": "scatter3d"
           }
          ],
          "scattercarpet": [
           {
            "marker": {
             "colorbar": {
              "outlinewidth": 0,
              "ticks": ""
             }
            },
            "type": "scattercarpet"
           }
          ],
          "scattergeo": [
           {
            "marker": {
             "colorbar": {
              "outlinewidth": 0,
              "ticks": ""
             }
            },
            "type": "scattergeo"
           }
          ],
          "scattergl": [
           {
            "marker": {
             "colorbar": {
              "outlinewidth": 0,
              "ticks": ""
             }
            },
            "type": "scattergl"
           }
          ],
          "scattermapbox": [
           {
            "marker": {
             "colorbar": {
              "outlinewidth": 0,
              "ticks": ""
             }
            },
            "type": "scattermapbox"
           }
          ],
          "scatterpolar": [
           {
            "marker": {
             "colorbar": {
              "outlinewidth": 0,
              "ticks": ""
             }
            },
            "type": "scatterpolar"
           }
          ],
          "scatterpolargl": [
           {
            "marker": {
             "colorbar": {
              "outlinewidth": 0,
              "ticks": ""
             }
            },
            "type": "scatterpolargl"
           }
          ],
          "scatterternary": [
           {
            "marker": {
             "colorbar": {
              "outlinewidth": 0,
              "ticks": ""
             }
            },
            "type": "scatterternary"
           }
          ],
          "surface": [
           {
            "colorbar": {
             "outlinewidth": 0,
             "ticks": ""
            },
            "colorscale": [
             [
              0,
              "#0d0887"
             ],
             [
              0.1111111111111111,
              "#46039f"
             ],
             [
              0.2222222222222222,
              "#7201a8"
             ],
             [
              0.3333333333333333,
              "#9c179e"
             ],
             [
              0.4444444444444444,
              "#bd3786"
             ],
             [
              0.5555555555555556,
              "#d8576b"
             ],
             [
              0.6666666666666666,
              "#ed7953"
             ],
             [
              0.7777777777777778,
              "#fb9f3a"
             ],
             [
              0.8888888888888888,
              "#fdca26"
             ],
             [
              1,
              "#f0f921"
             ]
            ],
            "type": "surface"
           }
          ],
          "table": [
           {
            "cells": {
             "fill": {
              "color": "#EBF0F8"
             },
             "line": {
              "color": "white"
             }
            },
            "header": {
             "fill": {
              "color": "#C8D4E3"
             },
             "line": {
              "color": "white"
             }
            },
            "type": "table"
           }
          ]
         },
         "layout": {
          "annotationdefaults": {
           "arrowcolor": "#2a3f5f",
           "arrowhead": 0,
           "arrowwidth": 1
          },
          "autotypenumbers": "strict",
          "coloraxis": {
           "colorbar": {
            "outlinewidth": 0,
            "ticks": ""
           }
          },
          "colorscale": {
           "diverging": [
            [
             0,
             "#8e0152"
            ],
            [
             0.1,
             "#c51b7d"
            ],
            [
             0.2,
             "#de77ae"
            ],
            [
             0.3,
             "#f1b6da"
            ],
            [
             0.4,
             "#fde0ef"
            ],
            [
             0.5,
             "#f7f7f7"
            ],
            [
             0.6,
             "#e6f5d0"
            ],
            [
             0.7,
             "#b8e186"
            ],
            [
             0.8,
             "#7fbc41"
            ],
            [
             0.9,
             "#4d9221"
            ],
            [
             1,
             "#276419"
            ]
           ],
           "sequential": [
            [
             0,
             "#0d0887"
            ],
            [
             0.1111111111111111,
             "#46039f"
            ],
            [
             0.2222222222222222,
             "#7201a8"
            ],
            [
             0.3333333333333333,
             "#9c179e"
            ],
            [
             0.4444444444444444,
             "#bd3786"
            ],
            [
             0.5555555555555556,
             "#d8576b"
            ],
            [
             0.6666666666666666,
             "#ed7953"
            ],
            [
             0.7777777777777778,
             "#fb9f3a"
            ],
            [
             0.8888888888888888,
             "#fdca26"
            ],
            [
             1,
             "#f0f921"
            ]
           ],
           "sequentialminus": [
            [
             0,
             "#0d0887"
            ],
            [
             0.1111111111111111,
             "#46039f"
            ],
            [
             0.2222222222222222,
             "#7201a8"
            ],
            [
             0.3333333333333333,
             "#9c179e"
            ],
            [
             0.4444444444444444,
             "#bd3786"
            ],
            [
             0.5555555555555556,
             "#d8576b"
            ],
            [
             0.6666666666666666,
             "#ed7953"
            ],
            [
             0.7777777777777778,
             "#fb9f3a"
            ],
            [
             0.8888888888888888,
             "#fdca26"
            ],
            [
             1,
             "#f0f921"
            ]
           ]
          },
          "colorway": [
           "#636efa",
           "#EF553B",
           "#00cc96",
           "#ab63fa",
           "#FFA15A",
           "#19d3f3",
           "#FF6692",
           "#B6E880",
           "#FF97FF",
           "#FECB52"
          ],
          "font": {
           "color": "#2a3f5f"
          },
          "geo": {
           "bgcolor": "white",
           "lakecolor": "white",
           "landcolor": "#E5ECF6",
           "showlakes": true,
           "showland": true,
           "subunitcolor": "white"
          },
          "hoverlabel": {
           "align": "left"
          },
          "hovermode": "closest",
          "mapbox": {
           "style": "light"
          },
          "paper_bgcolor": "white",
          "plot_bgcolor": "#E5ECF6",
          "polar": {
           "angularaxis": {
            "gridcolor": "white",
            "linecolor": "white",
            "ticks": ""
           },
           "bgcolor": "#E5ECF6",
           "radialaxis": {
            "gridcolor": "white",
            "linecolor": "white",
            "ticks": ""
           }
          },
          "scene": {
           "xaxis": {
            "backgroundcolor": "#E5ECF6",
            "gridcolor": "white",
            "gridwidth": 2,
            "linecolor": "white",
            "showbackground": true,
            "ticks": "",
            "zerolinecolor": "white"
           },
           "yaxis": {
            "backgroundcolor": "#E5ECF6",
            "gridcolor": "white",
            "gridwidth": 2,
            "linecolor": "white",
            "showbackground": true,
            "ticks": "",
            "zerolinecolor": "white"
           },
           "zaxis": {
            "backgroundcolor": "#E5ECF6",
            "gridcolor": "white",
            "gridwidth": 2,
            "linecolor": "white",
            "showbackground": true,
            "ticks": "",
            "zerolinecolor": "white"
           }
          },
          "shapedefaults": {
           "line": {
            "color": "#2a3f5f"
           }
          },
          "ternary": {
           "aaxis": {
            "gridcolor": "white",
            "linecolor": "white",
            "ticks": ""
           },
           "baxis": {
            "gridcolor": "white",
            "linecolor": "white",
            "ticks": ""
           },
           "bgcolor": "#E5ECF6",
           "caxis": {
            "gridcolor": "white",
            "linecolor": "white",
            "ticks": ""
           }
          },
          "title": {
           "x": 0.05
          },
          "xaxis": {
           "automargin": true,
           "gridcolor": "white",
           "linecolor": "white",
           "ticks": "",
           "title": {
            "standoff": 15
           },
           "zerolinecolor": "white",
           "zerolinewidth": 2
          },
          "yaxis": {
           "automargin": true,
           "gridcolor": "white",
           "linecolor": "white",
           "ticks": "",
           "title": {
            "standoff": 15
           },
           "zerolinecolor": "white",
           "zerolinewidth": 2
          }
         }
        },
        "title": {
         "text": "Model and training code accessibility"
        },
        "width": 400,
        "xaxis": {
         "title": {
          "text": "Code open/closed"
         }
        },
        "yaxis": {
         "title": {
          "text": "Model open/closed"
         }
        }
       }
      }
     },
     "metadata": {},
     "output_type": "display_data"
    }
   ],
   "source": [
    "import plotly.graph_objects as go\n",
    "\n",
    "# Data\n",
    "z = [[329, 148],\n",
    "     [124, 275]]\n",
    "\n",
    "fig = go.Figure(data=go.Heatmap(\n",
    "    z=model_code_counts.values,\n",
    "    x=model_code_counts.columns,\n",
    "    y=model_code_counts.index,\n",
    "    hoverongaps = False,\n",
    "    text=z,\n",
    "    texttemplate=\"%{text}\",\n",
    "    textfont={\"size\":20},\n",
    "    colorscale='Blues'\n",
    "))\n",
    "\n",
    "fig.update_layout(\n",
    "    autosize=False,\n",
    "    width=400,\n",
    "    height=300,\n",
    "    title='Model and training code accessibility',\n",
    "    xaxis_title='Code open/closed',\n",
    "    yaxis_title='Model open/closed'\n",
    ")\n",
    "\n",
    "save_plot(fig, results_dir, f'model_code_accessibility_heatmap')\n",
    "\n",
    "fig.show()"
   ]
  },
  {
   "cell_type": "markdown",
   "metadata": {},
   "source": [
    "Model openness and code openness are reasonably correlated - most closed-weight models have closed code, while somewhat more open models have open code than closed code. This also applies across the other direction - most closed code models have closed weights, most open code models have open weights."
   ]
  },
  {
   "cell_type": "code",
   "execution_count": 32,
   "metadata": {
    "tags": []
   },
   "outputs": [
    {
     "data": {
      "image/png": "[encoded data removed]",
      "text/plain": [
       "<Figure size 1000x600 with 1 Axes>"
      ]
     },
     "metadata": {},
     "output_type": "display_data"
    }
   ],
   "source": [
    "notable_code_df = code_df.loc[(code_df['Notability criteria'].notna())]\n",
    "\n",
    "notable_open_counts = notable_code_df.groupby(['Model open/closed', 'Code open/closed']).size().reset_index(name='Counts')\n",
    "notable_open_counts = notable_open_counts.pivot(index='Model open/closed', columns='Code open/closed', values='Counts')\n",
    "\n",
    "ax = notable_open_counts.plot(kind='bar', figsize=(10, 6), width=0.8)\n",
    "\n",
    "plt.title('Model open/closed vs Code open/closed for notable systems')\n",
    "plt.ylabel('Count')\n",
    "\n",
    "for container in ax.containers:\n",
    "    ax.bar_label(container, label_type='center')\n",
    "\n",
    "plt.tight_layout()\n",
    "plt.show()"
   ]
  },
  {
   "cell_type": "code",
   "execution_count": 33,
   "metadata": {},
   "outputs": [
    {
     "data": {
      "text/html": [
       "<div>\n",
       "<style scoped>\n",
       "    .dataframe tbody tr th:only-of-type {\n",
       "        vertical-align: middle;\n",
       "    }\n",
       "\n",
       "    .dataframe tbody tr th {\n",
       "        vertical-align: top;\n",
       "    }\n",
       "\n",
       "    .dataframe thead th {\n",
       "        text-align: right;\n",
       "    }\n",
       "</style>\n",
       "<table border=\"1\" class=\"dataframe\">\n",
       "  <thead>\n",
       "    <tr style=\"text-align: right;\">\n",
       "      <th></th>\n",
       "      <th>Year</th>\n",
       "      <th>Model open/closed</th>\n",
       "      <th>Code open/closed</th>\n",
       "      <th>Count</th>\n",
       "      <th>Cumulative</th>\n",
       "    </tr>\n",
       "  </thead>\n",
       "  <tbody>\n",
       "    <tr>\n",
       "      <th>0</th>\n",
       "      <td>2015.0</td>\n",
       "      <td>Closed</td>\n",
       "      <td>Closed</td>\n",
       "      <td>7</td>\n",
       "      <td>7</td>\n",
       "    </tr>\n",
       "    <tr>\n",
       "      <th>1</th>\n",
       "      <td>2015.0</td>\n",
       "      <td>Closed</td>\n",
       "      <td>Open</td>\n",
       "      <td>1</td>\n",
       "      <td>1</td>\n",
       "    </tr>\n",
       "    <tr>\n",
       "      <th>2</th>\n",
       "      <td>2015.0</td>\n",
       "      <td>Open</td>\n",
       "      <td>Open</td>\n",
       "      <td>3</td>\n",
       "      <td>3</td>\n",
       "    </tr>\n",
       "    <tr>\n",
       "      <th>3</th>\n",
       "      <td>2016.0</td>\n",
       "      <td>Closed</td>\n",
       "      <td>Closed</td>\n",
       "      <td>19</td>\n",
       "      <td>26</td>\n",
       "    </tr>\n",
       "    <tr>\n",
       "      <th>4</th>\n",
       "      <td>2016.0</td>\n",
       "      <td>Closed</td>\n",
       "      <td>Open</td>\n",
       "      <td>4</td>\n",
       "      <td>5</td>\n",
       "    </tr>\n",
       "    <tr>\n",
       "      <th>5</th>\n",
       "      <td>2016.0</td>\n",
       "      <td>Open</td>\n",
       "      <td>Closed</td>\n",
       "      <td>1</td>\n",
       "      <td>1</td>\n",
       "    </tr>\n",
       "    <tr>\n",
       "      <th>6</th>\n",
       "      <td>2016.0</td>\n",
       "      <td>Open</td>\n",
       "      <td>Open</td>\n",
       "      <td>2</td>\n",
       "      <td>5</td>\n",
       "    </tr>\n",
       "    <tr>\n",
       "      <th>7</th>\n",
       "      <td>2017.0</td>\n",
       "      <td>Closed</td>\n",
       "      <td>Closed</td>\n",
       "      <td>21</td>\n",
       "      <td>47</td>\n",
       "    </tr>\n",
       "    <tr>\n",
       "      <th>8</th>\n",
       "      <td>2017.0</td>\n",
       "      <td>Closed</td>\n",
       "      <td>Open</td>\n",
       "      <td>13</td>\n",
       "      <td>18</td>\n",
       "    </tr>\n",
       "    <tr>\n",
       "      <th>9</th>\n",
       "      <td>2017.0</td>\n",
       "      <td>Open</td>\n",
       "      <td>Open</td>\n",
       "      <td>2</td>\n",
       "      <td>7</td>\n",
       "    </tr>\n",
       "  </tbody>\n",
       "</table>\n",
       "</div>"
      ],
      "text/plain": [
       "     Year Model open/closed Code open/closed  Count  Cumulative\n",
       "0  2015.0            Closed           Closed      7           7\n",
       "1  2015.0            Closed             Open      1           1\n",
       "2  2015.0              Open             Open      3           3\n",
       "3  2016.0            Closed           Closed     19          26\n",
       "4  2016.0            Closed             Open      4           5\n",
       "5  2016.0              Open           Closed      1           1\n",
       "6  2016.0              Open             Open      2           5\n",
       "7  2017.0            Closed           Closed     21          47\n",
       "8  2017.0            Closed             Open     13          18\n",
       "9  2017.0              Open             Open      2           7"
      ]
     },
     "execution_count": 33,
     "metadata": {},
     "output_type": "execute_result"
    }
   ],
   "source": [
    "open_counts = code_df.loc[code_df['Year'] >= 2015].groupby(['Year', 'Model open/closed', 'Code open/closed']).size().reset_index(name='Count')\n",
    "\n",
    "open_counts['Cumulative'] = open_counts.groupby(['Model open/closed', 'Code open/closed'])['Count'].cumsum()\n",
    "\n",
    "open_counts.head(10)"
   ]
  },
  {
   "cell_type": "code",
   "execution_count": 34,
   "metadata": {},
   "outputs": [
    {
     "data": {
      "text/html": [
       "<div>\n",
       "<style scoped>\n",
       "    .dataframe tbody tr th:only-of-type {\n",
       "        vertical-align: middle;\n",
       "    }\n",
       "\n",
       "    .dataframe tbody tr th {\n",
       "        vertical-align: top;\n",
       "    }\n",
       "\n",
       "    .dataframe thead th {\n",
       "        text-align: right;\n",
       "    }\n",
       "</style>\n",
       "<table border=\"1\" class=\"dataframe\">\n",
       "  <thead>\n",
       "    <tr style=\"text-align: right;\">\n",
       "      <th></th>\n",
       "      <th>Year</th>\n",
       "      <th>Yearly Total</th>\n",
       "      <th>Cumulative Total</th>\n",
       "    </tr>\n",
       "  </thead>\n",
       "  <tbody>\n",
       "    <tr>\n",
       "      <th>0</th>\n",
       "      <td>2015.0</td>\n",
       "      <td>11</td>\n",
       "      <td>11</td>\n",
       "    </tr>\n",
       "    <tr>\n",
       "      <th>1</th>\n",
       "      <td>2016.0</td>\n",
       "      <td>26</td>\n",
       "      <td>37</td>\n",
       "    </tr>\n",
       "    <tr>\n",
       "      <th>2</th>\n",
       "      <td>2017.0</td>\n",
       "      <td>36</td>\n",
       "      <td>73</td>\n",
       "    </tr>\n",
       "    <tr>\n",
       "      <th>3</th>\n",
       "      <td>2018.0</td>\n",
       "      <td>65</td>\n",
       "      <td>138</td>\n",
       "    </tr>\n",
       "    <tr>\n",
       "      <th>4</th>\n",
       "      <td>2019.0</td>\n",
       "      <td>138</td>\n",
       "      <td>276</td>\n",
       "    </tr>\n",
       "    <tr>\n",
       "      <th>5</th>\n",
       "      <td>2020.0</td>\n",
       "      <td>91</td>\n",
       "      <td>367</td>\n",
       "    </tr>\n",
       "    <tr>\n",
       "      <th>6</th>\n",
       "      <td>2021.0</td>\n",
       "      <td>140</td>\n",
       "      <td>507</td>\n",
       "    </tr>\n",
       "    <tr>\n",
       "      <th>7</th>\n",
       "      <td>2022.0</td>\n",
       "      <td>121</td>\n",
       "      <td>628</td>\n",
       "    </tr>\n",
       "    <tr>\n",
       "      <th>8</th>\n",
       "      <td>2023.0</td>\n",
       "      <td>195</td>\n",
       "      <td>823</td>\n",
       "    </tr>\n",
       "    <tr>\n",
       "      <th>9</th>\n",
       "      <td>2024.0</td>\n",
       "      <td>93</td>\n",
       "      <td>916</td>\n",
       "    </tr>\n",
       "  </tbody>\n",
       "</table>\n",
       "</div>"
      ],
      "text/plain": [
       "     Year  Yearly Total  Cumulative Total\n",
       "0  2015.0            11                11\n",
       "1  2016.0            26                37\n",
       "2  2017.0            36                73\n",
       "3  2018.0            65               138\n",
       "4  2019.0           138               276\n",
       "5  2020.0            91               367\n",
       "6  2021.0           140               507\n",
       "7  2022.0           121               628\n",
       "8  2023.0           195               823\n",
       "9  2024.0            93               916"
      ]
     },
     "execution_count": 34,
     "metadata": {},
     "output_type": "execute_result"
    }
   ],
   "source": [
    "total_counts = open_counts.groupby('Year')['Count'].sum().reset_index(name='Yearly Total')\n",
    "total_counts['Cumulative Total'] = total_counts['Yearly Total'].cumsum()\n",
    "total_counts"
   ]
  },
  {
   "cell_type": "code",
   "execution_count": 35,
   "metadata": {},
   "outputs": [
    {
     "data": {
      "text/html": [
       "<div>\n",
       "<style scoped>\n",
       "    .dataframe tbody tr th:only-of-type {\n",
       "        vertical-align: middle;\n",
       "    }\n",
       "\n",
       "    .dataframe tbody tr th {\n",
       "        vertical-align: top;\n",
       "    }\n",
       "\n",
       "    .dataframe thead tr th {\n",
       "        text-align: left;\n",
       "    }\n",
       "</style>\n",
       "<table border=\"1\" class=\"dataframe\">\n",
       "  <thead>\n",
       "    <tr>\n",
       "      <th>Model open/closed</th>\n",
       "      <th>Year</th>\n",
       "      <th colspan=\"2\" halign=\"left\">Closed</th>\n",
       "      <th colspan=\"2\" halign=\"left\">Open</th>\n",
       "    </tr>\n",
       "    <tr>\n",
       "      <th>Code open/closed</th>\n",
       "      <th></th>\n",
       "      <th>Closed</th>\n",
       "      <th>Open</th>\n",
       "      <th>Open</th>\n",
       "      <th>Closed</th>\n",
       "    </tr>\n",
       "  </thead>\n",
       "  <tbody>\n",
       "    <tr>\n",
       "      <th>0</th>\n",
       "      <td>2015.0</td>\n",
       "      <td>7.0</td>\n",
       "      <td>1.0</td>\n",
       "      <td>3.0</td>\n",
       "      <td>0.0</td>\n",
       "    </tr>\n",
       "    <tr>\n",
       "      <th>1</th>\n",
       "      <td>2016.0</td>\n",
       "      <td>19.0</td>\n",
       "      <td>4.0</td>\n",
       "      <td>2.0</td>\n",
       "      <td>1.0</td>\n",
       "    </tr>\n",
       "    <tr>\n",
       "      <th>2</th>\n",
       "      <td>2017.0</td>\n",
       "      <td>21.0</td>\n",
       "      <td>13.0</td>\n",
       "      <td>2.0</td>\n",
       "      <td>0.0</td>\n",
       "    </tr>\n",
       "    <tr>\n",
       "      <th>3</th>\n",
       "      <td>2018.0</td>\n",
       "      <td>32.0</td>\n",
       "      <td>11.0</td>\n",
       "      <td>19.0</td>\n",
       "      <td>3.0</td>\n",
       "    </tr>\n",
       "    <tr>\n",
       "      <th>4</th>\n",
       "      <td>2019.0</td>\n",
       "      <td>57.0</td>\n",
       "      <td>35.0</td>\n",
       "      <td>37.0</td>\n",
       "      <td>9.0</td>\n",
       "    </tr>\n",
       "    <tr>\n",
       "      <th>5</th>\n",
       "      <td>2020.0</td>\n",
       "      <td>41.0</td>\n",
       "      <td>14.0</td>\n",
       "      <td>22.0</td>\n",
       "      <td>14.0</td>\n",
       "    </tr>\n",
       "    <tr>\n",
       "      <th>6</th>\n",
       "      <td>2021.0</td>\n",
       "      <td>50.0</td>\n",
       "      <td>31.0</td>\n",
       "      <td>46.0</td>\n",
       "      <td>13.0</td>\n",
       "    </tr>\n",
       "    <tr>\n",
       "      <th>7</th>\n",
       "      <td>2022.0</td>\n",
       "      <td>32.0</td>\n",
       "      <td>22.0</td>\n",
       "      <td>39.0</td>\n",
       "      <td>28.0</td>\n",
       "    </tr>\n",
       "    <tr>\n",
       "      <th>8</th>\n",
       "      <td>2023.0</td>\n",
       "      <td>51.0</td>\n",
       "      <td>11.0</td>\n",
       "      <td>65.0</td>\n",
       "      <td>68.0</td>\n",
       "    </tr>\n",
       "    <tr>\n",
       "      <th>9</th>\n",
       "      <td>2024.0</td>\n",
       "      <td>38.0</td>\n",
       "      <td>2.0</td>\n",
       "      <td>17.0</td>\n",
       "      <td>36.0</td>\n",
       "    </tr>\n",
       "  </tbody>\n",
       "</table>\n",
       "</div>"
      ],
      "text/plain": [
       "Model open/closed    Year Closed        Open       \n",
       "Code open/closed          Closed  Open  Open Closed\n",
       "0                  2015.0    7.0   1.0   3.0    0.0\n",
       "1                  2016.0   19.0   4.0   2.0    1.0\n",
       "2                  2017.0   21.0  13.0   2.0    0.0\n",
       "3                  2018.0   32.0  11.0  19.0    3.0\n",
       "4                  2019.0   57.0  35.0  37.0    9.0\n",
       "5                  2020.0   41.0  14.0  22.0   14.0\n",
       "6                  2021.0   50.0  31.0  46.0   13.0\n",
       "7                  2022.0   32.0  22.0  39.0   28.0\n",
       "8                  2023.0   51.0  11.0  65.0   68.0\n",
       "9                  2024.0   38.0   2.0  17.0   36.0"
      ]
     },
     "execution_count": 35,
     "metadata": {},
     "output_type": "execute_result"
    }
   ],
   "source": [
    "open_counts_wide = open_counts.pivot(index='Year', columns=['Model open/closed', 'Code open/closed'], values='Count')\n",
    "open_counts_wide = open_counts_wide.fillna(0).reset_index()\n",
    "open_counts_wide"
   ]
  },
  {
   "cell_type": "code",
   "execution_count": 36,
   "metadata": {},
   "outputs": [
    {
     "name": "stdout",
     "output_type": "stream",
     "text": [
      "[('Year', ''), ('Closed', 'Closed'), ('Closed', 'Open'), ('Open', 'Open'), ('Open', 'Closed')]\n",
      "[None]\n"
     ]
    }
   ],
   "source": [
    "print(open_counts_wide.columns.to_list())\n",
    "print(open_counts_wide.index.names)"
   ]
  },
  {
   "cell_type": "code",
   "execution_count": 37,
   "metadata": {},
   "outputs": [
    {
     "data": {
      "text/html": [
       "<div>\n",
       "<style scoped>\n",
       "    .dataframe tbody tr th:only-of-type {\n",
       "        vertical-align: middle;\n",
       "    }\n",
       "\n",
       "    .dataframe tbody tr th {\n",
       "        vertical-align: top;\n",
       "    }\n",
       "\n",
       "    .dataframe thead th {\n",
       "        text-align: right;\n",
       "    }\n",
       "</style>\n",
       "<table border=\"1\" class=\"dataframe\">\n",
       "  <thead>\n",
       "    <tr style=\"text-align: right;\">\n",
       "      <th></th>\n",
       "      <th>Year</th>\n",
       "      <th>Model Closed Code Closed</th>\n",
       "      <th>Model Closed Code Open</th>\n",
       "      <th>Model Open Code Open</th>\n",
       "      <th>Model Open Code Closed</th>\n",
       "    </tr>\n",
       "  </thead>\n",
       "  <tbody>\n",
       "    <tr>\n",
       "      <th>0</th>\n",
       "      <td>2015.0</td>\n",
       "      <td>7.0</td>\n",
       "      <td>1.0</td>\n",
       "      <td>3.0</td>\n",
       "      <td>0.0</td>\n",
       "    </tr>\n",
       "    <tr>\n",
       "      <th>1</th>\n",
       "      <td>2016.0</td>\n",
       "      <td>19.0</td>\n",
       "      <td>4.0</td>\n",
       "      <td>2.0</td>\n",
       "      <td>1.0</td>\n",
       "    </tr>\n",
       "    <tr>\n",
       "      <th>2</th>\n",
       "      <td>2017.0</td>\n",
       "      <td>21.0</td>\n",
       "      <td>13.0</td>\n",
       "      <td>2.0</td>\n",
       "      <td>0.0</td>\n",
       "    </tr>\n",
       "    <tr>\n",
       "      <th>3</th>\n",
       "      <td>2018.0</td>\n",
       "      <td>32.0</td>\n",
       "      <td>11.0</td>\n",
       "      <td>19.0</td>\n",
       "      <td>3.0</td>\n",
       "    </tr>\n",
       "    <tr>\n",
       "      <th>4</th>\n",
       "      <td>2019.0</td>\n",
       "      <td>57.0</td>\n",
       "      <td>35.0</td>\n",
       "      <td>37.0</td>\n",
       "      <td>9.0</td>\n",
       "    </tr>\n",
       "    <tr>\n",
       "      <th>5</th>\n",
       "      <td>2020.0</td>\n",
       "      <td>41.0</td>\n",
       "      <td>14.0</td>\n",
       "      <td>22.0</td>\n",
       "      <td>14.0</td>\n",
       "    </tr>\n",
       "    <tr>\n",
       "      <th>6</th>\n",
       "      <td>2021.0</td>\n",
       "      <td>50.0</td>\n",
       "      <td>31.0</td>\n",
       "      <td>46.0</td>\n",
       "      <td>13.0</td>\n",
       "    </tr>\n",
       "    <tr>\n",
       "      <th>7</th>\n",
       "      <td>2022.0</td>\n",
       "      <td>32.0</td>\n",
       "      <td>22.0</td>\n",
       "      <td>39.0</td>\n",
       "      <td>28.0</td>\n",
       "    </tr>\n",
       "    <tr>\n",
       "      <th>8</th>\n",
       "      <td>2023.0</td>\n",
       "      <td>51.0</td>\n",
       "      <td>11.0</td>\n",
       "      <td>65.0</td>\n",
       "      <td>68.0</td>\n",
       "    </tr>\n",
       "    <tr>\n",
       "      <th>9</th>\n",
       "      <td>2024.0</td>\n",
       "      <td>38.0</td>\n",
       "      <td>2.0</td>\n",
       "      <td>17.0</td>\n",
       "      <td>36.0</td>\n",
       "    </tr>\n",
       "  </tbody>\n",
       "</table>\n",
       "</div>"
      ],
      "text/plain": [
       "     Year  Model Closed Code Closed  Model Closed Code Open  \\\n",
       "0  2015.0                       7.0                     1.0   \n",
       "1  2016.0                      19.0                     4.0   \n",
       "2  2017.0                      21.0                    13.0   \n",
       "3  2018.0                      32.0                    11.0   \n",
       "4  2019.0                      57.0                    35.0   \n",
       "5  2020.0                      41.0                    14.0   \n",
       "6  2021.0                      50.0                    31.0   \n",
       "7  2022.0                      32.0                    22.0   \n",
       "8  2023.0                      51.0                    11.0   \n",
       "9  2024.0                      38.0                     2.0   \n",
       "\n",
       "   Model Open Code Open  Model Open Code Closed  \n",
       "0                   3.0                     0.0  \n",
       "1                   2.0                     1.0  \n",
       "2                   2.0                     0.0  \n",
       "3                  19.0                     3.0  \n",
       "4                  37.0                     9.0  \n",
       "5                  22.0                    14.0  \n",
       "6                  46.0                    13.0  \n",
       "7                  39.0                    28.0  \n",
       "8                  65.0                    68.0  \n",
       "9                  17.0                    36.0  "
      ]
     },
     "execution_count": 37,
     "metadata": {},
     "output_type": "execute_result"
    }
   ],
   "source": [
    "# Convert pivoted multi-columns to single columns with clear names\n",
    "new_columns = ['Year'] + [f'Model {outer} Code {inner}' for outer, inner in open_counts_wide.columns[1:]]\n",
    "open_counts_wide.columns = new_columns\n",
    "\n",
    "open_counts_wide"
   ]
  },
  {
   "cell_type": "code",
   "execution_count": 38,
   "metadata": {},
   "outputs": [
    {
     "data": {
      "text/html": [
       "<div>\n",
       "<style scoped>\n",
       "    .dataframe tbody tr th:only-of-type {\n",
       "        vertical-align: middle;\n",
       "    }\n",
       "\n",
       "    .dataframe tbody tr th {\n",
       "        vertical-align: top;\n",
       "    }\n",
       "\n",
       "    .dataframe thead th {\n",
       "        text-align: right;\n",
       "    }\n",
       "</style>\n",
       "<table border=\"1\" class=\"dataframe\">\n",
       "  <thead>\n",
       "    <tr style=\"text-align: right;\">\n",
       "      <th></th>\n",
       "      <th>Year</th>\n",
       "      <th>Category</th>\n",
       "      <th>Count</th>\n",
       "    </tr>\n",
       "  </thead>\n",
       "  <tbody>\n",
       "    <tr>\n",
       "      <th>0</th>\n",
       "      <td>2015.0</td>\n",
       "      <td>Model Closed Code Closed</td>\n",
       "      <td>7.0</td>\n",
       "    </tr>\n",
       "    <tr>\n",
       "      <th>1</th>\n",
       "      <td>2016.0</td>\n",
       "      <td>Model Closed Code Closed</td>\n",
       "      <td>19.0</td>\n",
       "    </tr>\n",
       "    <tr>\n",
       "      <th>2</th>\n",
       "      <td>2017.0</td>\n",
       "      <td>Model Closed Code Closed</td>\n",
       "      <td>21.0</td>\n",
       "    </tr>\n",
       "    <tr>\n",
       "      <th>3</th>\n",
       "      <td>2018.0</td>\n",
       "      <td>Model Closed Code Closed</td>\n",
       "      <td>32.0</td>\n",
       "    </tr>\n",
       "    <tr>\n",
       "      <th>4</th>\n",
       "      <td>2019.0</td>\n",
       "      <td>Model Closed Code Closed</td>\n",
       "      <td>57.0</td>\n",
       "    </tr>\n",
       "    <tr>\n",
       "      <th>5</th>\n",
       "      <td>2020.0</td>\n",
       "      <td>Model Closed Code Closed</td>\n",
       "      <td>41.0</td>\n",
       "    </tr>\n",
       "    <tr>\n",
       "      <th>6</th>\n",
       "      <td>2021.0</td>\n",
       "      <td>Model Closed Code Closed</td>\n",
       "      <td>50.0</td>\n",
       "    </tr>\n",
       "    <tr>\n",
       "      <th>7</th>\n",
       "      <td>2022.0</td>\n",
       "      <td>Model Closed Code Closed</td>\n",
       "      <td>32.0</td>\n",
       "    </tr>\n",
       "    <tr>\n",
       "      <th>8</th>\n",
       "      <td>2023.0</td>\n",
       "      <td>Model Closed Code Closed</td>\n",
       "      <td>51.0</td>\n",
       "    </tr>\n",
       "    <tr>\n",
       "      <th>9</th>\n",
       "      <td>2024.0</td>\n",
       "      <td>Model Closed Code Closed</td>\n",
       "      <td>38.0</td>\n",
       "    </tr>\n",
       "    <tr>\n",
       "      <th>10</th>\n",
       "      <td>2015.0</td>\n",
       "      <td>Model Closed Code Open</td>\n",
       "      <td>1.0</td>\n",
       "    </tr>\n",
       "    <tr>\n",
       "      <th>11</th>\n",
       "      <td>2016.0</td>\n",
       "      <td>Model Closed Code Open</td>\n",
       "      <td>4.0</td>\n",
       "    </tr>\n",
       "    <tr>\n",
       "      <th>12</th>\n",
       "      <td>2017.0</td>\n",
       "      <td>Model Closed Code Open</td>\n",
       "      <td>13.0</td>\n",
       "    </tr>\n",
       "    <tr>\n",
       "      <th>13</th>\n",
       "      <td>2018.0</td>\n",
       "      <td>Model Closed Code Open</td>\n",
       "      <td>11.0</td>\n",
       "    </tr>\n",
       "    <tr>\n",
       "      <th>14</th>\n",
       "      <td>2019.0</td>\n",
       "      <td>Model Closed Code Open</td>\n",
       "      <td>35.0</td>\n",
       "    </tr>\n",
       "    <tr>\n",
       "      <th>15</th>\n",
       "      <td>2020.0</td>\n",
       "      <td>Model Closed Code Open</td>\n",
       "      <td>14.0</td>\n",
       "    </tr>\n",
       "    <tr>\n",
       "      <th>16</th>\n",
       "      <td>2021.0</td>\n",
       "      <td>Model Closed Code Open</td>\n",
       "      <td>31.0</td>\n",
       "    </tr>\n",
       "    <tr>\n",
       "      <th>17</th>\n",
       "      <td>2022.0</td>\n",
       "      <td>Model Closed Code Open</td>\n",
       "      <td>22.0</td>\n",
       "    </tr>\n",
       "    <tr>\n",
       "      <th>18</th>\n",
       "      <td>2023.0</td>\n",
       "      <td>Model Closed Code Open</td>\n",
       "      <td>11.0</td>\n",
       "    </tr>\n",
       "    <tr>\n",
       "      <th>19</th>\n",
       "      <td>2024.0</td>\n",
       "      <td>Model Closed Code Open</td>\n",
       "      <td>2.0</td>\n",
       "    </tr>\n",
       "  </tbody>\n",
       "</table>\n",
       "</div>"
      ],
      "text/plain": [
       "      Year                  Category  Count\n",
       "0   2015.0  Model Closed Code Closed    7.0\n",
       "1   2016.0  Model Closed Code Closed   19.0\n",
       "2   2017.0  Model Closed Code Closed   21.0\n",
       "3   2018.0  Model Closed Code Closed   32.0\n",
       "4   2019.0  Model Closed Code Closed   57.0\n",
       "5   2020.0  Model Closed Code Closed   41.0\n",
       "6   2021.0  Model Closed Code Closed   50.0\n",
       "7   2022.0  Model Closed Code Closed   32.0\n",
       "8   2023.0  Model Closed Code Closed   51.0\n",
       "9   2024.0  Model Closed Code Closed   38.0\n",
       "10  2015.0    Model Closed Code Open    1.0\n",
       "11  2016.0    Model Closed Code Open    4.0\n",
       "12  2017.0    Model Closed Code Open   13.0\n",
       "13  2018.0    Model Closed Code Open   11.0\n",
       "14  2019.0    Model Closed Code Open   35.0\n",
       "15  2020.0    Model Closed Code Open   14.0\n",
       "16  2021.0    Model Closed Code Open   31.0\n",
       "17  2022.0    Model Closed Code Open   22.0\n",
       "18  2023.0    Model Closed Code Open   11.0\n",
       "19  2024.0    Model Closed Code Open    2.0"
      ]
     },
     "execution_count": 38,
     "metadata": {},
     "output_type": "execute_result"
    }
   ],
   "source": [
    "# unpivot table to get the count of each 2x2 value for each year\n",
    "open_counts_filled = (open_counts_wide.melt(id_vars=['Year'], \n",
    "                                            var_name='Category',\n",
    "                                            value_name='Count')\n",
    "                                      .reset_index(drop=True))\n",
    "\n",
    "open_counts_filled.head(20)"
   ]
  },
  {
   "cell_type": "code",
   "execution_count": 39,
   "metadata": {},
   "outputs": [
    {
     "data": {
      "text/html": [
       "<div>\n",
       "<style scoped>\n",
       "    .dataframe tbody tr th:only-of-type {\n",
       "        vertical-align: middle;\n",
       "    }\n",
       "\n",
       "    .dataframe tbody tr th {\n",
       "        vertical-align: top;\n",
       "    }\n",
       "\n",
       "    .dataframe thead th {\n",
       "        text-align: right;\n",
       "    }\n",
       "</style>\n",
       "<table border=\"1\" class=\"dataframe\">\n",
       "  <thead>\n",
       "    <tr style=\"text-align: right;\">\n",
       "      <th></th>\n",
       "      <th>Year</th>\n",
       "      <th>Category</th>\n",
       "      <th>Count</th>\n",
       "      <th>Cumulative for Category</th>\n",
       "      <th>Yearly Total</th>\n",
       "      <th>Cumulative Total</th>\n",
       "      <th>proportion</th>\n",
       "    </tr>\n",
       "  </thead>\n",
       "  <tbody>\n",
       "    <tr>\n",
       "      <th>0</th>\n",
       "      <td>2015.0</td>\n",
       "      <td>Model Closed Code Closed</td>\n",
       "      <td>7.0</td>\n",
       "      <td>7.0</td>\n",
       "      <td>11</td>\n",
       "      <td>11</td>\n",
       "      <td>0.636364</td>\n",
       "    </tr>\n",
       "    <tr>\n",
       "      <th>1</th>\n",
       "      <td>2016.0</td>\n",
       "      <td>Model Closed Code Closed</td>\n",
       "      <td>19.0</td>\n",
       "      <td>26.0</td>\n",
       "      <td>26</td>\n",
       "      <td>37</td>\n",
       "      <td>0.702703</td>\n",
       "    </tr>\n",
       "    <tr>\n",
       "      <th>2</th>\n",
       "      <td>2017.0</td>\n",
       "      <td>Model Closed Code Closed</td>\n",
       "      <td>21.0</td>\n",
       "      <td>47.0</td>\n",
       "      <td>36</td>\n",
       "      <td>73</td>\n",
       "      <td>0.643836</td>\n",
       "    </tr>\n",
       "    <tr>\n",
       "      <th>3</th>\n",
       "      <td>2018.0</td>\n",
       "      <td>Model Closed Code Closed</td>\n",
       "      <td>32.0</td>\n",
       "      <td>79.0</td>\n",
       "      <td>65</td>\n",
       "      <td>138</td>\n",
       "      <td>0.572464</td>\n",
       "    </tr>\n",
       "    <tr>\n",
       "      <th>4</th>\n",
       "      <td>2019.0</td>\n",
       "      <td>Model Closed Code Closed</td>\n",
       "      <td>57.0</td>\n",
       "      <td>136.0</td>\n",
       "      <td>138</td>\n",
       "      <td>276</td>\n",
       "      <td>0.492754</td>\n",
       "    </tr>\n",
       "    <tr>\n",
       "      <th>5</th>\n",
       "      <td>2020.0</td>\n",
       "      <td>Model Closed Code Closed</td>\n",
       "      <td>41.0</td>\n",
       "      <td>177.0</td>\n",
       "      <td>91</td>\n",
       "      <td>367</td>\n",
       "      <td>0.482289</td>\n",
       "    </tr>\n",
       "    <tr>\n",
       "      <th>6</th>\n",
       "      <td>2021.0</td>\n",
       "      <td>Model Closed Code Closed</td>\n",
       "      <td>50.0</td>\n",
       "      <td>227.0</td>\n",
       "      <td>140</td>\n",
       "      <td>507</td>\n",
       "      <td>0.447732</td>\n",
       "    </tr>\n",
       "    <tr>\n",
       "      <th>7</th>\n",
       "      <td>2022.0</td>\n",
       "      <td>Model Closed Code Closed</td>\n",
       "      <td>32.0</td>\n",
       "      <td>259.0</td>\n",
       "      <td>121</td>\n",
       "      <td>628</td>\n",
       "      <td>0.412420</td>\n",
       "    </tr>\n",
       "    <tr>\n",
       "      <th>8</th>\n",
       "      <td>2023.0</td>\n",
       "      <td>Model Closed Code Closed</td>\n",
       "      <td>51.0</td>\n",
       "      <td>310.0</td>\n",
       "      <td>195</td>\n",
       "      <td>823</td>\n",
       "      <td>0.376671</td>\n",
       "    </tr>\n",
       "    <tr>\n",
       "      <th>9</th>\n",
       "      <td>2024.0</td>\n",
       "      <td>Model Closed Code Closed</td>\n",
       "      <td>38.0</td>\n",
       "      <td>348.0</td>\n",
       "      <td>93</td>\n",
       "      <td>916</td>\n",
       "      <td>0.379913</td>\n",
       "    </tr>\n",
       "    <tr>\n",
       "      <th>10</th>\n",
       "      <td>2015.0</td>\n",
       "      <td>Model Closed Code Open</td>\n",
       "      <td>1.0</td>\n",
       "      <td>1.0</td>\n",
       "      <td>11</td>\n",
       "      <td>11</td>\n",
       "      <td>0.090909</td>\n",
       "    </tr>\n",
       "    <tr>\n",
       "      <th>11</th>\n",
       "      <td>2016.0</td>\n",
       "      <td>Model Closed Code Open</td>\n",
       "      <td>4.0</td>\n",
       "      <td>5.0</td>\n",
       "      <td>26</td>\n",
       "      <td>37</td>\n",
       "      <td>0.135135</td>\n",
       "    </tr>\n",
       "    <tr>\n",
       "      <th>12</th>\n",
       "      <td>2017.0</td>\n",
       "      <td>Model Closed Code Open</td>\n",
       "      <td>13.0</td>\n",
       "      <td>18.0</td>\n",
       "      <td>36</td>\n",
       "      <td>73</td>\n",
       "      <td>0.246575</td>\n",
       "    </tr>\n",
       "    <tr>\n",
       "      <th>13</th>\n",
       "      <td>2018.0</td>\n",
       "      <td>Model Closed Code Open</td>\n",
       "      <td>11.0</td>\n",
       "      <td>29.0</td>\n",
       "      <td>65</td>\n",
       "      <td>138</td>\n",
       "      <td>0.210145</td>\n",
       "    </tr>\n",
       "    <tr>\n",
       "      <th>14</th>\n",
       "      <td>2019.0</td>\n",
       "      <td>Model Closed Code Open</td>\n",
       "      <td>35.0</td>\n",
       "      <td>64.0</td>\n",
       "      <td>138</td>\n",
       "      <td>276</td>\n",
       "      <td>0.231884</td>\n",
       "    </tr>\n",
       "    <tr>\n",
       "      <th>15</th>\n",
       "      <td>2020.0</td>\n",
       "      <td>Model Closed Code Open</td>\n",
       "      <td>14.0</td>\n",
       "      <td>78.0</td>\n",
       "      <td>91</td>\n",
       "      <td>367</td>\n",
       "      <td>0.212534</td>\n",
       "    </tr>\n",
       "    <tr>\n",
       "      <th>16</th>\n",
       "      <td>2021.0</td>\n",
       "      <td>Model Closed Code Open</td>\n",
       "      <td>31.0</td>\n",
       "      <td>109.0</td>\n",
       "      <td>140</td>\n",
       "      <td>507</td>\n",
       "      <td>0.214990</td>\n",
       "    </tr>\n",
       "    <tr>\n",
       "      <th>17</th>\n",
       "      <td>2022.0</td>\n",
       "      <td>Model Closed Code Open</td>\n",
       "      <td>22.0</td>\n",
       "      <td>131.0</td>\n",
       "      <td>121</td>\n",
       "      <td>628</td>\n",
       "      <td>0.208599</td>\n",
       "    </tr>\n",
       "    <tr>\n",
       "      <th>18</th>\n",
       "      <td>2023.0</td>\n",
       "      <td>Model Closed Code Open</td>\n",
       "      <td>11.0</td>\n",
       "      <td>142.0</td>\n",
       "      <td>195</td>\n",
       "      <td>823</td>\n",
       "      <td>0.172539</td>\n",
       "    </tr>\n",
       "    <tr>\n",
       "      <th>19</th>\n",
       "      <td>2024.0</td>\n",
       "      <td>Model Closed Code Open</td>\n",
       "      <td>2.0</td>\n",
       "      <td>144.0</td>\n",
       "      <td>93</td>\n",
       "      <td>916</td>\n",
       "      <td>0.157205</td>\n",
       "    </tr>\n",
       "  </tbody>\n",
       "</table>\n",
       "</div>"
      ],
      "text/plain": [
       "      Year                  Category  Count  Cumulative for Category  \\\n",
       "0   2015.0  Model Closed Code Closed    7.0                      7.0   \n",
       "1   2016.0  Model Closed Code Closed   19.0                     26.0   \n",
       "2   2017.0  Model Closed Code Closed   21.0                     47.0   \n",
       "3   2018.0  Model Closed Code Closed   32.0                     79.0   \n",
       "4   2019.0  Model Closed Code Closed   57.0                    136.0   \n",
       "5   2020.0  Model Closed Code Closed   41.0                    177.0   \n",
       "6   2021.0  Model Closed Code Closed   50.0                    227.0   \n",
       "7   2022.0  Model Closed Code Closed   32.0                    259.0   \n",
       "8   2023.0  Model Closed Code Closed   51.0                    310.0   \n",
       "9   2024.0  Model Closed Code Closed   38.0                    348.0   \n",
       "10  2015.0    Model Closed Code Open    1.0                      1.0   \n",
       "11  2016.0    Model Closed Code Open    4.0                      5.0   \n",
       "12  2017.0    Model Closed Code Open   13.0                     18.0   \n",
       "13  2018.0    Model Closed Code Open   11.0                     29.0   \n",
       "14  2019.0    Model Closed Code Open   35.0                     64.0   \n",
       "15  2020.0    Model Closed Code Open   14.0                     78.0   \n",
       "16  2021.0    Model Closed Code Open   31.0                    109.0   \n",
       "17  2022.0    Model Closed Code Open   22.0                    131.0   \n",
       "18  2023.0    Model Closed Code Open   11.0                    142.0   \n",
       "19  2024.0    Model Closed Code Open    2.0                    144.0   \n",
       "\n",
       "    Yearly Total  Cumulative Total  proportion  \n",
       "0             11                11    0.636364  \n",
       "1             26                37    0.702703  \n",
       "2             36                73    0.643836  \n",
       "3             65               138    0.572464  \n",
       "4            138               276    0.492754  \n",
       "5             91               367    0.482289  \n",
       "6            140               507    0.447732  \n",
       "7            121               628    0.412420  \n",
       "8            195               823    0.376671  \n",
       "9             93               916    0.379913  \n",
       "10            11                11    0.090909  \n",
       "11            26                37    0.135135  \n",
       "12            36                73    0.246575  \n",
       "13            65               138    0.210145  \n",
       "14           138               276    0.231884  \n",
       "15            91               367    0.212534  \n",
       "16           140               507    0.214990  \n",
       "17           121               628    0.208599  \n",
       "18           195               823    0.172539  \n",
       "19            93               916    0.157205  "
      ]
     },
     "execution_count": 39,
     "metadata": {},
     "output_type": "execute_result"
    }
   ],
   "source": [
    "open_counts_filled['Cumulative for Category'] = open_counts_filled.groupby('Category')['Count'].cumsum()\n",
    "\n",
    "with_totals = pd.merge(open_counts_filled, total_counts, on=\"Year\")\n",
    "with_totals['proportion'] = with_totals['Cumulative for Category'] / with_totals['Cumulative Total']\n",
    "with_totals.head(20)"
   ]
  },
  {
   "cell_type": "code",
   "execution_count": 40,
   "metadata": {},
   "outputs": [
    {
     "data": {
      "application/vnd.plotly.v1+json": {
       "config": {
        "plotlyServerURL": "https://plot.ly"
       },
       "data": [
        {
         "fillpattern": {
          "shape": ""
         },
         "hovertemplate": "Accessibility=Model Closed Code Closed<br>Year=%{x}<br>Proportion=%{y}<extra></extra>",
         "legendgroup": "Model Closed Code Closed",
         "line": {
          "color": "crimson"
         },
         "marker": {
          "symbol": "circle"
         },
         "mode": "lines",
         "name": "Model Closed Code Closed",
         "orientation": "v",
         "showlegend": true,
         "stackgroup": "1",
         "type": "scatter",
         "x": [
          2015,
          2016,
          2017,
          2018,
          2019,
          2020,
          2021,
          2022,
          2023,
          2024
         ],
         "xaxis": "x",
         "y": [
          0.6363636363636364,
          0.7027027027027027,
          0.6438356164383562,
          0.572463768115942,
          0.4927536231884058,
          0.4822888283378747,
          0.4477317554240631,
          0.4124203821656051,
          0.37667071688942894,
          0.3799126637554585
         ],
         "yaxis": "y"
        },
        {
         "fillpattern": {
          "shape": ""
         },
         "hovertemplate": "Accessibility=Model Closed Code Open<br>Year=%{x}<br>Proportion=%{y}<extra></extra>",
         "legendgroup": "Model Closed Code Open",
         "line": {
          "color": "tomato"
         },
         "marker": {
          "symbol": "circle"
         },
         "mode": "lines",
         "name": "Model Closed Code Open",
         "orientation": "v",
         "showlegend": true,
         "stackgroup": "1",
         "type": "scatter",
         "x": [
          2023,
          2022,
          2021,
          2020,
          2024,
          2018,
          2017,
          2016,
          2015,
          2019
         ],
         "xaxis": "x",
         "y": [
          0.17253948967193194,
          0.2085987261146497,
          0.21499013806706113,
          0.2125340599455041,
          0.1572052401746725,
          0.21014492753623187,
          0.2465753424657534,
          0.13513513513513514,
          0.09090909090909091,
          0.2318840579710145
         ],
         "yaxis": "y"
        },
        {
         "fillpattern": {
          "shape": ""
         },
         "hovertemplate": "Accessibility=Model Open Code Closed<br>Year=%{x}<br>Proportion=%{y}<extra></extra>",
         "legendgroup": "Model Open Code Closed",
         "line": {
          "color": "blue"
         },
         "marker": {
          "symbol": "circle"
         },
         "mode": "lines",
         "name": "Model Open Code Closed",
         "orientation": "v",
         "showlegend": true,
         "stackgroup": "1",
         "type": "scatter",
         "x": [
          2022,
          2021,
          2020,
          2019,
          2018,
          2017,
          2016,
          2015,
          2024,
          2023
         ],
         "xaxis": "x",
         "y": [
          0.10828025477707007,
          0.07889546351084813,
          0.07356948228882834,
          0.04710144927536232,
          0.028985507246376812,
          0.0136986301369863,
          0.02702702702702703,
          0,
          0.18777292576419213,
          0.1652490886998785
         ],
         "yaxis": "y"
        },
        {
         "fillpattern": {
          "shape": ""
         },
         "hovertemplate": "Accessibility=Model Open Code Open<br>Year=%{x}<br>Proportion=%{y}<extra></extra>",
         "legendgroup": "Model Open Code Open",
         "line": {
          "color": "dodgerblue"
         },
         "marker": {
          "symbol": "circle"
         },
         "mode": "lines",
         "name": "Model Open Code Open",
         "orientation": "v",
         "showlegend": true,
         "stackgroup": "1",
         "type": "scatter",
         "x": [
          2024,
          2021,
          2020,
          2019,
          2018,
          2017,
          2016,
          2015,
          2023,
          2022
         ],
         "xaxis": "x",
         "y": [
          0.27510917030567683,
          0.2583826429980276,
          0.23160762942779292,
          0.22826086956521738,
          0.18840579710144928,
          0.0958904109589041,
          0.13513513513513514,
          0.2727272727272727,
          0.28554070473876064,
          0.27070063694267515
         ],
         "yaxis": "y"
        }
       ],
       "layout": {
        "autosize": false,
        "height": 600,
        "legend": {
         "title": {
          "text": "Accessibility"
         },
         "tracegroupgap": 0
        },
        "template": {
         "data": {
          "bar": [
           {
            "error_x": {
             "color": "#2a3f5f"
            },
            "error_y": {
             "color": "#2a3f5f"
            },
            "marker": {
             "line": {
              "color": "#E5ECF6",
              "width": 0.5
             },
             "pattern": {
              "fillmode": "overlay",
              "size": 10,
              "solidity": 0.2
             }
            },
            "type": "bar"
           }
          ],
          "barpolar": [
           {
            "marker": {
             "line": {
              "color": "#E5ECF6",
              "width": 0.5
             },
             "pattern": {
              "fillmode": "overlay",
              "size": 10,
              "solidity": 0.2
             }
            },
            "type": "barpolar"
           }
          ],
          "carpet": [
           {
            "aaxis": {
             "endlinecolor": "#2a3f5f",
             "gridcolor": "white",
             "linecolor": "white",
             "minorgridcolor": "white",
             "startlinecolor": "#2a3f5f"
            },
            "baxis": {
             "endlinecolor": "#2a3f5f",
             "gridcolor": "white",
             "linecolor": "white",
             "minorgridcolor": "white",
             "startlinecolor": "#2a3f5f"
            },
            "type": "carpet"
           }
          ],
          "choropleth": [
           {
            "colorbar": {
             "outlinewidth": 0,
             "ticks": ""
            },
            "type": "choropleth"
           }
          ],
          "contour": [
           {
            "colorbar": {
             "outlinewidth": 0,
             "ticks": ""
            },
            "colorscale": [
             [
              0,
              "#0d0887"
             ],
             [
              0.1111111111111111,
              "#46039f"
             ],
             [
              0.2222222222222222,
              "#7201a8"
             ],
             [
              0.3333333333333333,
              "#9c179e"
             ],
             [
              0.4444444444444444,
              "#bd3786"
             ],
             [
              0.5555555555555556,
              "#d8576b"
             ],
             [
              0.6666666666666666,
              "#ed7953"
             ],
             [
              0.7777777777777778,
              "#fb9f3a"
             ],
             [
              0.8888888888888888,
              "#fdca26"
             ],
             [
              1,
              "#f0f921"
             ]
            ],
            "type": "contour"
           }
          ],
          "contourcarpet": [
           {
            "colorbar": {
             "outlinewidth": 0,
             "ticks": ""
            },
            "type": "contourcarpet"
           }
          ],
          "heatmap": [
           {
            "colorbar": {
             "outlinewidth": 0,
             "ticks": ""
            },
            "colorscale": [
             [
              0,
              "#0d0887"
             ],
             [
              0.1111111111111111,
              "#46039f"
             ],
             [
              0.2222222222222222,
              "#7201a8"
             ],
             [
              0.3333333333333333,
              "#9c179e"
             ],
             [
              0.4444444444444444,
              "#bd3786"
             ],
             [
              0.5555555555555556,
              "#d8576b"
             ],
             [
              0.6666666666666666,
              "#ed7953"
             ],
             [
              0.7777777777777778,
              "#fb9f3a"
             ],
             [
              0.8888888888888888,
              "#fdca26"
             ],
             [
              1,
              "#f0f921"
             ]
            ],
            "type": "heatmap"
           }
          ],
          "heatmapgl": [
           {
            "colorbar": {
             "outlinewidth": 0,
             "ticks": ""
            },
            "colorscale": [
             [
              0,
              "#0d0887"
             ],
             [
              0.1111111111111111,
              "#46039f"
             ],
             [
              0.2222222222222222,
              "#7201a8"
             ],
             [
              0.3333333333333333,
              "#9c179e"
             ],
             [
              0.4444444444444444,
              "#bd3786"
             ],
             [
              0.5555555555555556,
              "#d8576b"
             ],
             [
              0.6666666666666666,
              "#ed7953"
             ],
             [
              0.7777777777777778,
              "#fb9f3a"
             ],
             [
              0.8888888888888888,
              "#fdca26"
             ],
             [
              1,
              "#f0f921"
             ]
            ],
            "type": "heatmapgl"
           }
          ],
          "histogram": [
           {
            "marker": {
             "pattern": {
              "fillmode": "overlay",
              "size": 10,
              "solidity": 0.2
             }
            },
            "type": "histogram"
           }
          ],
          "histogram2d": [
           {
            "colorbar": {
             "outlinewidth": 0,
             "ticks": ""
            },
            "colorscale": [
             [
              0,
              "#0d0887"
             ],
             [
              0.1111111111111111,
              "#46039f"
             ],
             [
              0.2222222222222222,
              "#7201a8"
             ],
             [
              0.3333333333333333,
              "#9c179e"
             ],
             [
              0.4444444444444444,
              "#bd3786"
             ],
             [
              0.5555555555555556,
              "#d8576b"
             ],
             [
              0.6666666666666666,
              "#ed7953"
             ],
             [
              0.7777777777777778,
              "#fb9f3a"
             ],
             [
              0.8888888888888888,
              "#fdca26"
             ],
             [
              1,
              "#f0f921"
             ]
            ],
            "type": "histogram2d"
           }
          ],
          "histogram2dcontour": [
           {
            "colorbar": {
             "outlinewidth": 0,
             "ticks": ""
            },
            "colorscale": [
             [
              0,
              "#0d0887"
             ],
             [
              0.1111111111111111,
              "#46039f"
             ],
             [
              0.2222222222222222,
              "#7201a8"
             ],
             [
              0.3333333333333333,
              "#9c179e"
             ],
             [
              0.4444444444444444,
              "#bd3786"
             ],
             [
              0.5555555555555556,
              "#d8576b"
             ],
             [
              0.6666666666666666,
              "#ed7953"
             ],
             [
              0.7777777777777778,
              "#fb9f3a"
             ],
             [
              0.8888888888888888,
              "#fdca26"
             ],
             [
              1,
              "#f0f921"
             ]
            ],
            "type": "histogram2dcontour"
           }
          ],
          "mesh3d": [
           {
            "colorbar": {
             "outlinewidth": 0,
             "ticks": ""
            },
            "type": "mesh3d"
           }
          ],
          "parcoords": [
           {
            "line": {
             "colorbar": {
              "outlinewidth": 0,
              "ticks": ""
             }
            },
            "type": "parcoords"
           }
          ],
          "pie": [
           {
            "automargin": true,
            "type": "pie"
           }
          ],
          "scatter": [
           {
            "fillpattern": {
             "fillmode": "overlay",
             "size": 10,
             "solidity": 0.2
            },
            "type": "scatter"
           }
          ],
          "scatter3d": [
           {
            "line": {
             "colorbar": {
              "outlinewidth": 0,
              "ticks": ""
             }
            },
            "marker": {
             "colorbar": {
              "outlinewidth": 0,
              "ticks": ""
             }
            },
            "type": "scatter3d"
           }
          ],
          "scattercarpet": [
           {
            "marker": {
             "colorbar": {
              "outlinewidth": 0,
              "ticks": ""
             }
            },
            "type": "scattercarpet"
           }
          ],
          "scattergeo": [
           {
            "marker": {
             "colorbar": {
              "outlinewidth": 0,
              "ticks": ""
             }
            },
            "type": "scattergeo"
           }
          ],
          "scattergl": [
           {
            "marker": {
             "colorbar": {
              "outlinewidth": 0,
              "ticks": ""
             }
            },
            "type": "scattergl"
           }
          ],
          "scattermapbox": [
           {
            "marker": {
             "colorbar": {
              "outlinewidth": 0,
              "ticks": ""
             }
            },
            "type": "scattermapbox"
           }
          ],
          "scatterpolar": [
           {
            "marker": {
             "colorbar": {
              "outlinewidth": 0,
              "ticks": ""
             }
            },
            "type": "scatterpolar"
           }
          ],
          "scatterpolargl": [
           {
            "marker": {
             "colorbar": {
              "outlinewidth": 0,
              "ticks": ""
             }
            },
            "type": "scatterpolargl"
           }
          ],
          "scatterternary": [
           {
            "marker": {
             "colorbar": {
              "outlinewidth": 0,
              "ticks": ""
             }
            },
            "type": "scatterternary"
           }
          ],
          "surface": [
           {
            "colorbar": {
             "outlinewidth": 0,
             "ticks": ""
            },
            "colorscale": [
             [
              0,
              "#0d0887"
             ],
             [
              0.1111111111111111,
              "#46039f"
             ],
             [
              0.2222222222222222,
              "#7201a8"
             ],
             [
              0.3333333333333333,
              "#9c179e"
             ],
             [
              0.4444444444444444,
              "#bd3786"
             ],
             [
              0.5555555555555556,
              "#d8576b"
             ],
             [
              0.6666666666666666,
              "#ed7953"
             ],
             [
              0.7777777777777778,
              "#fb9f3a"
             ],
             [
              0.8888888888888888,
              "#fdca26"
             ],
             [
              1,
              "#f0f921"
             ]
            ],
            "type": "surface"
           }
          ],
          "table": [
           {
            "cells": {
             "fill": {
              "color": "#EBF0F8"
             },
             "line": {
              "color": "white"
             }
            },
            "header": {
             "fill": {
              "color": "#C8D4E3"
             },
             "line": {
              "color": "white"
             }
            },
            "type": "table"
           }
          ]
         },
         "layout": {
          "annotationdefaults": {
           "arrowcolor": "#2a3f5f",
           "arrowhead": 0,
           "arrowwidth": 1
          },
          "autotypenumbers": "strict",
          "coloraxis": {
           "colorbar": {
            "outlinewidth": 0,
            "ticks": ""
           }
          },
          "colorscale": {
           "diverging": [
            [
             0,
             "#8e0152"
            ],
            [
             0.1,
             "#c51b7d"
            ],
            [
             0.2,
             "#de77ae"
            ],
            [
             0.3,
             "#f1b6da"
            ],
            [
             0.4,
             "#fde0ef"
            ],
            [
             0.5,
             "#f7f7f7"
            ],
            [
             0.6,
             "#e6f5d0"
            ],
            [
             0.7,
             "#b8e186"
            ],
            [
             0.8,
             "#7fbc41"
            ],
            [
             0.9,
             "#4d9221"
            ],
            [
             1,
             "#276419"
            ]
           ],
           "sequential": [
            [
             0,
             "#0d0887"
            ],
            [
             0.1111111111111111,
             "#46039f"
            ],
            [
             0.2222222222222222,
             "#7201a8"
            ],
            [
             0.3333333333333333,
             "#9c179e"
            ],
            [
             0.4444444444444444,
             "#bd3786"
            ],
            [
             0.5555555555555556,
             "#d8576b"
            ],
            [
             0.6666666666666666,
             "#ed7953"
            ],
            [
             0.7777777777777778,
             "#fb9f3a"
            ],
            [
             0.8888888888888888,
             "#fdca26"
            ],
            [
             1,
             "#f0f921"
            ]
           ],
           "sequentialminus": [
            [
             0,
             "#0d0887"
            ],
            [
             0.1111111111111111,
             "#46039f"
            ],
            [
             0.2222222222222222,
             "#7201a8"
            ],
            [
             0.3333333333333333,
             "#9c179e"
            ],
            [
             0.4444444444444444,
             "#bd3786"
            ],
            [
             0.5555555555555556,
             "#d8576b"
            ],
            [
             0.6666666666666666,
             "#ed7953"
            ],
            [
             0.7777777777777778,
             "#fb9f3a"
            ],
            [
             0.8888888888888888,
             "#fdca26"
            ],
            [
             1,
             "#f0f921"
            ]
           ]
          },
          "colorway": [
           "#636efa",
           "#EF553B",
           "#00cc96",
           "#ab63fa",
           "#FFA15A",
           "#19d3f3",
           "#FF6692",
           "#B6E880",
           "#FF97FF",
           "#FECB52"
          ],
          "font": {
           "color": "#2a3f5f"
          },
          "geo": {
           "bgcolor": "white",
           "lakecolor": "white",
           "landcolor": "#E5ECF6",
           "showlakes": true,
           "showland": true,
           "subunitcolor": "white"
          },
          "hoverlabel": {
           "align": "left"
          },
          "hovermode": "closest",
          "mapbox": {
           "style": "light"
          },
          "paper_bgcolor": "white",
          "plot_bgcolor": "#E5ECF6",
          "polar": {
           "angularaxis": {
            "gridcolor": "white",
            "linecolor": "white",
            "ticks": ""
           },
           "bgcolor": "#E5ECF6",
           "radialaxis": {
            "gridcolor": "white",
            "linecolor": "white",
            "ticks": ""
           }
          },
          "scene": {
           "xaxis": {
            "backgroundcolor": "#E5ECF6",
            "gridcolor": "white",
            "gridwidth": 2,
            "linecolor": "white",
            "showbackground": true,
            "ticks": "",
            "zerolinecolor": "white"
           },
           "yaxis": {
            "backgroundcolor": "#E5ECF6",
            "gridcolor": "white",
            "gridwidth": 2,
            "linecolor": "white",
            "showbackground": true,
            "ticks": "",
            "zerolinecolor": "white"
           },
           "zaxis": {
            "backgroundcolor": "#E5ECF6",
            "gridcolor": "white",
            "gridwidth": 2,
            "linecolor": "white",
            "showbackground": true,
            "ticks": "",
            "zerolinecolor": "white"
           }
          },
          "shapedefaults": {
           "line": {
            "color": "#2a3f5f"
           }
          },
          "ternary": {
           "aaxis": {
            "gridcolor": "white",
            "linecolor": "white",
            "ticks": ""
           },
           "baxis": {
            "gridcolor": "white",
            "linecolor": "white",
            "ticks": ""
           },
           "bgcolor": "#E5ECF6",
           "caxis": {
            "gridcolor": "white",
            "linecolor": "white",
            "ticks": ""
           }
          },
          "title": {
           "x": 0.05
          },
          "xaxis": {
           "automargin": true,
           "gridcolor": "white",
           "linecolor": "white",
           "ticks": "",
           "title": {
            "standoff": 15
           },
           "zerolinecolor": "white",
           "zerolinewidth": 2
          },
          "yaxis": {
           "automargin": true,
           "gridcolor": "white",
           "linecolor": "white",
           "ticks": "",
           "title": {
            "standoff": 15
           },
           "zerolinecolor": "white",
           "zerolinewidth": 2
          }
         }
        },
        "title": {
         "text": "Model and training code accessibility over time",
         "x": 0.2
        },
        "width": 800,
        "xaxis": {
         "anchor": "y",
         "domain": [
          0,
          1
         ],
         "range": [
          2018,
          2024
         ],
         "title": {
          "text": "Year"
         }
        },
        "yaxis": {
         "anchor": "x",
         "domain": [
          0,
          1
         ],
         "range": [
          0,
          1
         ],
         "title": {
          "text": "Proportion"
         }
        }
       }
      }
     },
     "metadata": {},
     "output_type": "display_data"
    }
   ],
   "source": [
    "# sort using custom order\n",
    "sort_order = ['Model Closed Code Closed', 'Model Closed Code Open', 'Model Open Code Closed', 'Model Open Code Open']\n",
    "\n",
    "with_totals['Category_sorted'] = pd.Categorical(with_totals['Category'], categories=sort_order, ordered=True)\n",
    "with_totals = with_totals.sort_values('Category_sorted')\n",
    "\n",
    "\n",
    "colors = ['crimson', 'tomato', 'blue', 'dodgerblue']\n",
    "fig = px.area(with_totals, x='Year', y='proportion', color='Category', line_group='Category',\n",
    "              labels={'proportion': 'Proportion', 'Year': 'Year', 'Category': 'Accessibility'},\n",
    "              title='Model and training code accessibility over time', color_discrete_sequence=colors)\n",
    "\n",
    "fig.update_yaxes(range=[0, 1])\n",
    "fig.update_xaxes(range=[2018, 2024])\n",
    "fig.update_layout(\n",
    "    autosize=False,\n",
    "    width=800,\n",
    "    height=600,\n",
    "    title_x=0.2,\n",
    ")\n",
    "\n",
    "save_plot(fig, results_dir, f'model_code_accessibility_over_time')\n",
    "\n",
    "fig.show()"
   ]
  },
  {
   "cell_type": "code",
   "execution_count": 41,
   "metadata": {},
   "outputs": [],
   "source": [
    "with_totals.to_csv(results_dir + 'model_code_accessibility_over_time.csv', index=False)"
   ]
  },
  {
   "cell_type": "markdown",
   "metadata": {},
   "source": [
    "This chart shows the proportions across the four categories of model open/closed and code open/closed. The blue areas are open-weight models and the red areas are closed-weight, while the lighter colors are code open and the darker colors are code closed. Among open-weight models, code closed has become more common. Intuitively, this is consistent with the rise of the commercial open-source industry, which releases model weights but does not wish to give competitors the ability to recreate their base models."
   ]
  },
  {
   "cell_type": "code",
   "execution_count": 42,
   "metadata": {
    "tags": []
   },
   "outputs": [
    {
     "data": {
      "application/vnd.plotly.v1+json": {
       "config": {
        "plotlyServerURL": "https://plot.ly"
       },
       "data": [
        {
         "fillpattern": {
          "shape": ""
         },
         "hovertemplate": "Category=Model Closed Code Closed<br>Year=%{x}<br>Proportion=%{y}<extra></extra>",
         "legendgroup": "Model Closed Code Closed",
         "line": {
          "color": "crimson"
         },
         "marker": {
          "symbol": "circle"
         },
         "mode": "lines",
         "name": "Model Closed Code Closed",
         "orientation": "v",
         "showlegend": true,
         "stackgroup": "1",
         "type": "scatter",
         "x": [
          2015,
          2016,
          2017,
          2018,
          2019,
          2020,
          2021,
          2022,
          2023,
          2024
         ],
         "xaxis": "x",
         "y": [
          0.7142857142857143,
          0.65,
          0.631578947368421,
          0.5211267605633803,
          0.3972602739726027,
          0.37185929648241206,
          0.36153846153846153,
          0.3557692307692308,
          0.3467741935483871,
          0.36159600997506236
         ],
         "yaxis": "y"
        },
        {
         "fillpattern": {
          "shape": ""
         },
         "hovertemplate": "Category=Model Closed Code Open<br>Year=%{x}<br>Proportion=%{y}<extra></extra>",
         "legendgroup": "Model Closed Code Open",
         "line": {
          "color": "tomato"
         },
         "marker": {
          "symbol": "circle"
         },
         "mode": "lines",
         "name": "Model Closed Code Open",
         "orientation": "v",
         "showlegend": true,
         "stackgroup": "1",
         "type": "scatter",
         "x": [
          2023,
          2022,
          2021,
          2020,
          2024,
          2018,
          2017,
          2016,
          2015,
          2019
         ],
         "xaxis": "x",
         "y": [
          0.13709677419354838,
          0.15705128205128205,
          0.17307692307692307,
          0.19597989949748743,
          0.12718204488778054,
          0.2676056338028169,
          0.2631578947368421,
          0.2,
          0.14285714285714285,
          0.2328767123287671
         ],
         "yaxis": "y"
        },
        {
         "fillpattern": {
          "shape": ""
         },
         "hovertemplate": "Category=Model Open Code Closed<br>Year=%{x}<br>Proportion=%{y}<extra></extra>",
         "legendgroup": "Model Open Code Closed",
         "line": {
          "color": "blue"
         },
         "marker": {
          "symbol": "circle"
         },
         "mode": "lines",
         "name": "Model Open Code Closed",
         "orientation": "v",
         "showlegend": true,
         "stackgroup": "1",
         "type": "scatter",
         "x": [
          2022,
          2021,
          2020,
          2019,
          2018,
          2017,
          2016,
          2015,
          2024,
          2023
         ],
         "xaxis": "x",
         "y": [
          0.15705128205128205,
          0.13076923076923078,
          0.12562814070351758,
          0.0821917808219178,
          0.056338028169014086,
          0.02631578947368421,
          0.05,
          0,
          0.19950124688279303,
          0.1881720430107527
         ],
         "yaxis": "y"
        },
        {
         "fillpattern": {
          "shape": ""
         },
         "hovertemplate": "Category=Model Open Code Open<br>Year=%{x}<br>Proportion=%{y}<extra></extra>",
         "legendgroup": "Model Open Code Open",
         "line": {
          "color": "dodgerblue"
         },
         "marker": {
          "symbol": "circle"
         },
         "mode": "lines",
         "name": "Model Open Code Open",
         "orientation": "v",
         "showlegend": true,
         "stackgroup": "1",
         "type": "scatter",
         "x": [
          2024,
          2021,
          2020,
          2019,
          2018,
          2017,
          2016,
          2015,
          2023,
          2022
         ],
         "xaxis": "x",
         "y": [
          0.3117206982543641,
          0.3346153846153846,
          0.3065326633165829,
          0.2876712328767123,
          0.15492957746478872,
          0.07894736842105263,
          0.1,
          0.14285714285714285,
          0.3279569892473118,
          0.3301282051282051
         ],
         "yaxis": "y"
        }
       ],
       "layout": {
        "autosize": false,
        "height": 600,
        "legend": {
         "title": {
          "text": "Category"
         },
         "tracegroupgap": 0
        },
        "template": {
         "data": {
          "bar": [
           {
            "error_x": {
             "color": "#2a3f5f"
            },
            "error_y": {
             "color": "#2a3f5f"
            },
            "marker": {
             "line": {
              "color": "#E5ECF6",
              "width": 0.5
             },
             "pattern": {
              "fillmode": "overlay",
              "size": 10,
              "solidity": 0.2
             }
            },
            "type": "bar"
           }
          ],
          "barpolar": [
           {
            "marker": {
             "line": {
              "color": "#E5ECF6",
              "width": 0.5
             },
             "pattern": {
              "fillmode": "overlay",
              "size": 10,
              "solidity": 0.2
             }
            },
            "type": "barpolar"
           }
          ],
          "carpet": [
           {
            "aaxis": {
             "endlinecolor": "#2a3f5f",
             "gridcolor": "white",
             "linecolor": "white",
             "minorgridcolor": "white",
             "startlinecolor": "#2a3f5f"
            },
            "baxis": {
             "endlinecolor": "#2a3f5f",
             "gridcolor": "white",
             "linecolor": "white",
             "minorgridcolor": "white",
             "startlinecolor": "#2a3f5f"
            },
            "type": "carpet"
           }
          ],
          "choropleth": [
           {
            "colorbar": {
             "outlinewidth": 0,
             "ticks": ""
            },
            "type": "choropleth"
           }
          ],
          "contour": [
           {
            "colorbar": {
             "outlinewidth": 0,
             "ticks": ""
            },
            "colorscale": [
             [
              0,
              "#0d0887"
             ],
             [
              0.1111111111111111,
              "#46039f"
             ],
             [
              0.2222222222222222,
              "#7201a8"
             ],
             [
              0.3333333333333333,
              "#9c179e"
             ],
             [
              0.4444444444444444,
              "#bd3786"
             ],
             [
              0.5555555555555556,
              "#d8576b"
             ],
             [
              0.6666666666666666,
              "#ed7953"
             ],
             [
              0.7777777777777778,
              "#fb9f3a"
             ],
             [
              0.8888888888888888,
              "#fdca26"
             ],
             [
              1,
              "#f0f921"
             ]
            ],
            "type": "contour"
           }
          ],
          "contourcarpet": [
           {
            "colorbar": {
             "outlinewidth": 0,
             "ticks": ""
            },
            "type": "contourcarpet"
           }
          ],
          "heatmap": [
           {
            "colorbar": {
             "outlinewidth": 0,
             "ticks": ""
            },
            "colorscale": [
             [
              0,
              "#0d0887"
             ],
             [
              0.1111111111111111,
              "#46039f"
             ],
             [
              0.2222222222222222,
              "#7201a8"
             ],
             [
              0.3333333333333333,
              "#9c179e"
             ],
             [
              0.4444444444444444,
              "#bd3786"
             ],
             [
              0.5555555555555556,
              "#d8576b"
             ],
             [
              0.6666666666666666,
              "#ed7953"
             ],
             [
              0.7777777777777778,
              "#fb9f3a"
             ],
             [
              0.8888888888888888,
              "#fdca26"
             ],
             [
              1,
              "#f0f921"
             ]
            ],
            "type": "heatmap"
           }
          ],
          "heatmapgl": [
           {
            "colorbar": {
             "outlinewidth": 0,
             "ticks": ""
            },
            "colorscale": [
             [
              0,
              "#0d0887"
             ],
             [
              0.1111111111111111,
              "#46039f"
             ],
             [
              0.2222222222222222,
              "#7201a8"
             ],
             [
              0.3333333333333333,
              "#9c179e"
             ],
             [
              0.4444444444444444,
              "#bd3786"
             ],
             [
              0.5555555555555556,
              "#d8576b"
             ],
             [
              0.6666666666666666,
              "#ed7953"
             ],
             [
              0.7777777777777778,
              "#fb9f3a"
             ],
             [
              0.8888888888888888,
              "#fdca26"
             ],
             [
              1,
              "#f0f921"
             ]
            ],
            "type": "heatmapgl"
           }
          ],
          "histogram": [
           {
            "marker": {
             "pattern": {
              "fillmode": "overlay",
              "size": 10,
              "solidity": 0.2
             }
            },
            "type": "histogram"
           }
          ],
          "histogram2d": [
           {
            "colorbar": {
             "outlinewidth": 0,
             "ticks": ""
            },
            "colorscale": [
             [
              0,
              "#0d0887"
             ],
             [
              0.1111111111111111,
              "#46039f"
             ],
             [
              0.2222222222222222,
              "#7201a8"
             ],
             [
              0.3333333333333333,
              "#9c179e"
             ],
             [
              0.4444444444444444,
              "#bd3786"
             ],
             [
              0.5555555555555556,
              "#d8576b"
             ],
             [
              0.6666666666666666,
              "#ed7953"
             ],
             [
              0.7777777777777778,
              "#fb9f3a"
             ],
             [
              0.8888888888888888,
              "#fdca26"
             ],
             [
              1,
              "#f0f921"
             ]
            ],
            "type": "histogram2d"
           }
          ],
          "histogram2dcontour": [
           {
            "colorbar": {
             "outlinewidth": 0,
             "ticks": ""
            },
            "colorscale": [
             [
              0,
              "#0d0887"
             ],
             [
              0.1111111111111111,
              "#46039f"
             ],
             [
              0.2222222222222222,
              "#7201a8"
             ],
             [
              0.3333333333333333,
              "#9c179e"
             ],
             [
              0.4444444444444444,
              "#bd3786"
             ],
             [
              0.5555555555555556,
              "#d8576b"
             ],
             [
              0.6666666666666666,
              "#ed7953"
             ],
             [
              0.7777777777777778,
              "#fb9f3a"
             ],
             [
              0.8888888888888888,
              "#fdca26"
             ],
             [
              1,
              "#f0f921"
             ]
            ],
            "type": "histogram2dcontour"
           }
          ],
          "mesh3d": [
           {
            "colorbar": {
             "outlinewidth": 0,
             "ticks": ""
            },
            "type": "mesh3d"
           }
          ],
          "parcoords": [
           {
            "line": {
             "colorbar": {
              "outlinewidth": 0,
              "ticks": ""
             }
            },
            "type": "parcoords"
           }
          ],
          "pie": [
           {
            "automargin": true,
            "type": "pie"
           }
          ],
          "scatter": [
           {
            "fillpattern": {
             "fillmode": "overlay",
             "size": 10,
             "solidity": 0.2
            },
            "type": "scatter"
           }
          ],
          "scatter3d": [
           {
            "line": {
             "colorbar": {
              "outlinewidth": 0,
              "ticks": ""
             }
            },
            "marker": {
             "colorbar": {
              "outlinewidth": 0,
              "ticks": ""
             }
            },
            "type": "scatter3d"
           }
          ],
          "scattercarpet": [
           {
            "marker": {
             "colorbar": {
              "outlinewidth": 0,
              "ticks": ""
             }
            },
            "type": "scattercarpet"
           }
          ],
          "scattergeo": [
           {
            "marker": {
             "colorbar": {
              "outlinewidth": 0,
              "ticks": ""
             }
            },
            "type": "scattergeo"
           }
          ],
          "scattergl": [
           {
            "marker": {
             "colorbar": {
              "outlinewidth": 0,
              "ticks": ""
             }
            },
            "type": "scattergl"
           }
          ],
          "scattermapbox": [
           {
            "marker": {
             "colorbar": {
              "outlinewidth": 0,
              "ticks": ""
             }
            },
            "type": "scattermapbox"
           }
          ],
          "scatterpolar": [
           {
            "marker": {
             "colorbar": {
              "outlinewidth": 0,
              "ticks": ""
             }
            },
            "type": "scatterpolar"
           }
          ],
          "scatterpolargl": [
           {
            "marker": {
             "colorbar": {
              "outlinewidth": 0,
              "ticks": ""
             }
            },
            "type": "scatterpolargl"
           }
          ],
          "scatterternary": [
           {
            "marker": {
             "colorbar": {
              "outlinewidth": 0,
              "ticks": ""
             }
            },
            "type": "scatterternary"
           }
          ],
          "surface": [
           {
            "colorbar": {
             "outlinewidth": 0,
             "ticks": ""
            },
            "colorscale": [
             [
              0,
              "#0d0887"
             ],
             [
              0.1111111111111111,
              "#46039f"
             ],
             [
              0.2222222222222222,
              "#7201a8"
             ],
             [
              0.3333333333333333,
              "#9c179e"
             ],
             [
              0.4444444444444444,
              "#bd3786"
             ],
             [
              0.5555555555555556,
              "#d8576b"
             ],
             [
              0.6666666666666666,
              "#ed7953"
             ],
             [
              0.7777777777777778,
              "#fb9f3a"
             ],
             [
              0.8888888888888888,
              "#fdca26"
             ],
             [
              1,
              "#f0f921"
             ]
            ],
            "type": "surface"
           }
          ],
          "table": [
           {
            "cells": {
             "fill": {
              "color": "#EBF0F8"
             },
             "line": {
              "color": "white"
             }
            },
            "header": {
             "fill": {
              "color": "#C8D4E3"
             },
             "line": {
              "color": "white"
             }
            },
            "type": "table"
           }
          ]
         },
         "layout": {
          "annotationdefaults": {
           "arrowcolor": "#2a3f5f",
           "arrowhead": 0,
           "arrowwidth": 1
          },
          "autotypenumbers": "strict",
          "coloraxis": {
           "colorbar": {
            "outlinewidth": 0,
            "ticks": ""
           }
          },
          "colorscale": {
           "diverging": [
            [
             0,
             "#8e0152"
            ],
            [
             0.1,
             "#c51b7d"
            ],
            [
             0.2,
             "#de77ae"
            ],
            [
             0.3,
             "#f1b6da"
            ],
            [
             0.4,
             "#fde0ef"
            ],
            [
             0.5,
             "#f7f7f7"
            ],
            [
             0.6,
             "#e6f5d0"
            ],
            [
             0.7,
             "#b8e186"
            ],
            [
             0.8,
             "#7fbc41"
            ],
            [
             0.9,
             "#4d9221"
            ],
            [
             1,
             "#276419"
            ]
           ],
           "sequential": [
            [
             0,
             "#0d0887"
            ],
            [
             0.1111111111111111,
             "#46039f"
            ],
            [
             0.2222222222222222,
             "#7201a8"
            ],
            [
             0.3333333333333333,
             "#9c179e"
            ],
            [
             0.4444444444444444,
             "#bd3786"
            ],
            [
             0.5555555555555556,
             "#d8576b"
            ],
            [
             0.6666666666666666,
             "#ed7953"
            ],
            [
             0.7777777777777778,
             "#fb9f3a"
            ],
            [
             0.8888888888888888,
             "#fdca26"
            ],
            [
             1,
             "#f0f921"
            ]
           ],
           "sequentialminus": [
            [
             0,
             "#0d0887"
            ],
            [
             0.1111111111111111,
             "#46039f"
            ],
            [
             0.2222222222222222,
             "#7201a8"
            ],
            [
             0.3333333333333333,
             "#9c179e"
            ],
            [
             0.4444444444444444,
             "#bd3786"
            ],
            [
             0.5555555555555556,
             "#d8576b"
            ],
            [
             0.6666666666666666,
             "#ed7953"
            ],
            [
             0.7777777777777778,
             "#fb9f3a"
            ],
            [
             0.8888888888888888,
             "#fdca26"
            ],
            [
             1,
             "#f0f921"
            ]
           ]
          },
          "colorway": [
           "#636efa",
           "#EF553B",
           "#00cc96",
           "#ab63fa",
           "#FFA15A",
           "#19d3f3",
           "#FF6692",
           "#B6E880",
           "#FF97FF",
           "#FECB52"
          ],
          "font": {
           "color": "#2a3f5f"
          },
          "geo": {
           "bgcolor": "white",
           "lakecolor": "white",
           "landcolor": "#E5ECF6",
           "showlakes": true,
           "showland": true,
           "subunitcolor": "white"
          },
          "hoverlabel": {
           "align": "left"
          },
          "hovermode": "closest",
          "mapbox": {
           "style": "light"
          },
          "paper_bgcolor": "white",
          "plot_bgcolor": "#E5ECF6",
          "polar": {
           "angularaxis": {
            "gridcolor": "white",
            "linecolor": "white",
            "ticks": ""
           },
           "bgcolor": "#E5ECF6",
           "radialaxis": {
            "gridcolor": "white",
            "linecolor": "white",
            "ticks": ""
           }
          },
          "scene": {
           "xaxis": {
            "backgroundcolor": "#E5ECF6",
            "gridcolor": "white",
            "gridwidth": 2,
            "linecolor": "white",
            "showbackground": true,
            "ticks": "",
            "zerolinecolor": "white"
           },
           "yaxis": {
            "backgroundcolor": "#E5ECF6",
            "gridcolor": "white",
            "gridwidth": 2,
            "linecolor": "white",
            "showbackground": true,
            "ticks": "",
            "zerolinecolor": "white"
           },
           "zaxis": {
            "backgroundcolor": "#E5ECF6",
            "gridcolor": "white",
            "gridwidth": 2,
            "linecolor": "white",
            "showbackground": true,
            "ticks": "",
            "zerolinecolor": "white"
           }
          },
          "shapedefaults": {
           "line": {
            "color": "#2a3f5f"
           }
          },
          "ternary": {
           "aaxis": {
            "gridcolor": "white",
            "linecolor": "white",
            "ticks": ""
           },
           "baxis": {
            "gridcolor": "white",
            "linecolor": "white",
            "ticks": ""
           },
           "bgcolor": "#E5ECF6",
           "caxis": {
            "gridcolor": "white",
            "linecolor": "white",
            "ticks": ""
           }
          },
          "title": {
           "x": 0.05
          },
          "xaxis": {
           "automargin": true,
           "gridcolor": "white",
           "linecolor": "white",
           "ticks": "",
           "title": {
            "standoff": 15
           },
           "zerolinecolor": "white",
           "zerolinewidth": 2
          },
          "yaxis": {
           "automargin": true,
           "gridcolor": "white",
           "linecolor": "white",
           "ticks": "",
           "title": {
            "standoff": 15
           },
           "zerolinecolor": "white",
           "zerolinewidth": 2
          }
         }
        },
        "title": {
         "text": "Cumulative Proportion of Notable Models by Open Closed Status",
         "x": 0.2
        },
        "width": 800,
        "xaxis": {
         "anchor": "y",
         "domain": [
          0,
          1
         ],
         "range": [
          2018,
          2024
         ],
         "title": {
          "text": "Year"
         }
        },
        "yaxis": {
         "anchor": "x",
         "domain": [
          0,
          1
         ],
         "range": [
          0,
          1
         ],
         "title": {
          "text": "Proportion"
         }
        }
       }
      }
     },
     "metadata": {},
     "output_type": "display_data"
    }
   ],
   "source": [
    "# repeat the above code but with notable models only\n",
    "open_counts = notable_code_df.loc[code_df['Year'] >= 2015].groupby(['Year', 'Model open/closed', 'Code open/closed']).size().reset_index(name='Count')\n",
    "\n",
    "open_counts['Cumulative'] = open_counts.groupby(['Model open/closed', 'Code open/closed'])['Count'].cumsum()\n",
    "\n",
    "total_counts = open_counts.groupby('Year')['Count'].sum().reset_index(name='Yearly Total')\n",
    "total_counts['Cumulative Total'] = total_counts['Yearly Total'].cumsum()\n",
    "\n",
    "open_counts_wide = open_counts.pivot(index='Year', columns=['Model open/closed', 'Code open/closed'], values='Count')\n",
    "open_counts_wide = open_counts_wide.fillna(0).reset_index()\n",
    "\n",
    "# Convert pivoted multi-columns to single columns with clear names\n",
    "new_columns = ['Year'] + [f'Model {outer} Code {inner}' for outer, inner in open_counts_wide.columns[1:]]\n",
    "open_counts_wide.columns = new_columns\n",
    "\n",
    "# unpivot table to get the count of each 2x2 value for each year\n",
    "open_counts_filled = (open_counts_wide.melt(id_vars=['Year'], \n",
    "                                            var_name='Category',\n",
    "                                            value_name='Count')\n",
    "                                      .reset_index(drop=True))\n",
    "\n",
    "open_counts_filled['Cumulative for Category'] = open_counts_filled.groupby('Category')['Count'].cumsum()\n",
    "\n",
    "with_totals = pd.merge(open_counts_filled, total_counts, on=\"Year\")\n",
    "with_totals['proportion'] = with_totals['Cumulative for Category'] / with_totals['Cumulative Total']\n",
    "\n",
    "# sort using custom order\n",
    "sort_order = ['Model Closed Code Closed', 'Model Closed Code Open', 'Model Open Code Closed', 'Model Open Code Open']\n",
    "\n",
    "with_totals['Category_sorted'] = pd.Categorical(with_totals['Category'], categories=sort_order, ordered=True)\n",
    "with_totals = with_totals.sort_values('Category_sorted')\n",
    "\n",
    "\n",
    "colors = ['crimson', 'tomato', 'blue', 'dodgerblue']\n",
    "fig = px.area(with_totals, x='Year', y='proportion', color='Category', line_group='Category',\n",
    "              labels={'proportion': 'Proportion', 'Year': 'Year'},\n",
    "              title='Cumulative Proportion of Notable Models by Open Closed Status', color_discrete_sequence=colors)\n",
    "\n",
    "fig.update_yaxes(range=[0, 1])\n",
    "fig.update_xaxes(range=[2018, 2024])\n",
    "fig.update_layout(\n",
    "    autosize=False,\n",
    "    width=800,\n",
    "    height=600,\n",
    "    title_x=0.2,\n",
    ")\n",
    "fig"
   ]
  },
  {
   "cell_type": "code",
   "execution_count": null,
   "metadata": {},
   "outputs": [],
   "source": []
  }
 ],
 "metadata": {
  "kernelspec": {
   "display_name": "Python 3 (ipykernel)",
   "language": "python",
   "name": "python3"
  },
  "language_info": {
   "codemirror_mode": {
    "name": "ipython",
    "version": 3
   },
   "file_extension": ".py",
   "mimetype": "text/x-python",
   "name": "python",
   "nbconvert_exporter": "python",
   "pygments_lexer": "ipython3",
   "version": "3.12.7"
  }
 },
 "nbformat": 4,
 "nbformat_minor": 4
}
