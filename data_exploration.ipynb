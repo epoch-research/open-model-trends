{
 "cells": [
  {
   "cell_type": "code",
   "execution_count": 1,
   "metadata": {},
   "outputs": [],
   "source": [
    "%load_ext autoreload\n",
    "%autoreload 2"
   ]
  },
  {
   "cell_type": "code",
   "execution_count": 2,
   "metadata": {},
   "outputs": [],
   "source": [
    "import numpy as np\n",
    "import os\n",
    "import pandas as pd\n",
    "import plotly.express as px\n",
    "import plotly.graph_objects as go\n",
    "from plotly.subplots import make_subplots\n",
    "import matplotlib.pyplot as plt\n",
    "\n",
    "from data import *\n",
    "from plotting import *\n",
    "from regression import *\n",
    "from utils import *"
   ]
  },
  {
   "cell_type": "code",
   "execution_count": 3,
   "metadata": {},
   "outputs": [],
   "source": [
    "results_dir = 'results/accessibility/22Oct/'\n",
    "os.makedirs(results_dir, exist_ok=True)\n",
    "os.makedirs(results_dir + 'plot_data/', exist_ok=True)"
   ]
  },
  {
   "cell_type": "code",
   "execution_count": 4,
   "metadata": {},
   "outputs": [
    {
     "data": {
      "text/plain": [
       "1093"
      ]
     },
     "execution_count": 4,
     "metadata": {},
     "output_type": "execute_result"
    }
   ],
   "source": [
    "# Load data\n",
    "pcd_df = load_pcd_df()\n",
    "\n",
    "access_df = pcd_df.dropna(subset=['Model accessibility'])\n",
    "# September cut-off date\n",
    "access_df = access_df[access_df['Publication date'] <= '2024-09-30']\n",
    "len(access_df)"
   ]
  },
  {
   "cell_type": "code",
   "execution_count": 5,
   "metadata": {},
   "outputs": [
    {
     "data": {
      "text/plain": [
       "Index(['System', 'Domain', 'Task', 'Authors', 'Notability criteria',\n",
       "       'Notability criteria notes', 'Model accessibility', 'Link', 'Citations',\n",
       "       'Reference', 'Publication date', 'Organization', 'Parameters',\n",
       "       'Parameters notes', 'Training compute (FLOP)', 'Training compute notes',\n",
       "       'Training dataset', 'Training dataset notes',\n",
       "       'Training dataset size (datapoints)', 'Dataset size notes', 'Epochs',\n",
       "       'Inference compute (FLOP)', 'Inference compute notes',\n",
       "       'Training time (hours)', 'Training time notes', 'Training hardware',\n",
       "       'Approach', 'Compute cost notes', 'Compute sponsor categorization',\n",
       "       'Confidence', 'Abstract', 'Last modified', 'Created By',\n",
       "       'Benchmark data', 'Exclude', 'Country (from Organization)',\n",
       "       'Base model', 'Finetune compute (FLOP)', 'Finetune compute notes',\n",
       "       'Hardware quantity', 'Hardware utilization', 'Training cost trends',\n",
       "       'Training cloud compute vendor', 'Training data center',\n",
       "       'Archived links', 'Batch size', 'Batch size notes',\n",
       "       'Organization categorization', 'Foundation model',\n",
       "       'Training compute lower bound', 'Training compute upper bound',\n",
       "       'Training chip-hours', 'Training code accessibility',\n",
       "       'Dataset accessibility', 'Accessibility notes',\n",
       "       'Organization categorization (from Organization)',\n",
       "       'Possibly over 1e23 FLOP', 'Training compute cost (2023 USD)',\n",
       "       'Training dataset size', 'Sparsity', 'Utilization notes',\n",
       "       'Estimated over 1e25 FLOP', 'Power per GPU', 'Cluster total TDP',\n",
       "       'Base model compute', 'Difference', 'Difference (share)', 'API prices',\n",
       "       'Created', 'Inference code accessibility', 'Arithmetic format',\n",
       "       'Model versions', 'Frontier model', 'Training power draw (W)',\n",
       "       'Benchmark evals', 'FLOP/$', 'Hardware release date', 'Hardware age',\n",
       "       'Hardware FP32', 'Hardware TF32', 'Hardware count', 'Hardware TF16',\n",
       "       'Hardware FP16', 'Assumed precision', 'Assumed hardware FLOP/s',\n",
       "       'Hardware type', 'Compute estimate method',\n",
       "       'Training compute estimation method'],\n",
       "      dtype='object')"
      ]
     },
     "execution_count": 5,
     "metadata": {},
     "output_type": "execute_result"
    }
   ],
   "source": [
    "access_df.columns"
   ]
  },
  {
   "cell_type": "code",
   "execution_count": 6,
   "metadata": {
    "tags": []
   },
   "outputs": [],
   "source": [
    "model_open_categories = ['Open weights (unrestricted)', 'Open weights (restricted use)', 'Open weights (non-commercial)']\n",
    "code_open_categories = ['Open source', 'Open (non-commercial)', 'Open (restricted use)']\n",
    "\n",
    "\n",
    "# Add open/closed binary columns\n",
    "access_df['Model open/closed'] = access_df['Model accessibility'].apply(\n",
    "    lambda x: 'Open' if x in model_open_categories else 'Closed'\n",
    ")\n",
    "\n",
    "access_df['Code open/closed'] = access_df['Training code accessibility'].apply(\n",
    "    lambda x: 'Open' if x in code_open_categories else 'Closed'\n",
    ")"
   ]
  },
  {
   "cell_type": "code",
   "execution_count": 7,
   "metadata": {
    "tags": []
   },
   "outputs": [],
   "source": [
    "open_df = access_df.loc[access_df['Model open/closed'] == 'Open']"
   ]
  },
  {
   "cell_type": "code",
   "execution_count": 8,
   "metadata": {
    "tags": []
   },
   "outputs": [
    {
     "name": "stdout",
     "output_type": "stream",
     "text": [
      "228\n"
     ]
    },
    {
     "data": {
      "text/html": [
       "<div>\n",
       "<style scoped>\n",
       "    .dataframe tbody tr th:only-of-type {\n",
       "        vertical-align: middle;\n",
       "    }\n",
       "\n",
       "    .dataframe tbody tr th {\n",
       "        vertical-align: top;\n",
       "    }\n",
       "\n",
       "    .dataframe thead th {\n",
       "        text-align: right;\n",
       "    }\n",
       "</style>\n",
       "<table border=\"1\" class=\"dataframe\">\n",
       "  <thead>\n",
       "    <tr style=\"text-align: right;\">\n",
       "      <th></th>\n",
       "      <th>System</th>\n",
       "      <th>Domain</th>\n",
       "      <th>Task</th>\n",
       "      <th>Authors</th>\n",
       "      <th>Notability criteria</th>\n",
       "      <th>Notability criteria notes</th>\n",
       "      <th>Model accessibility</th>\n",
       "      <th>Link</th>\n",
       "      <th>Citations</th>\n",
       "      <th>Reference</th>\n",
       "      <th>...</th>\n",
       "      <th>Hardware count</th>\n",
       "      <th>Hardware TF16</th>\n",
       "      <th>Hardware FP16</th>\n",
       "      <th>Assumed precision</th>\n",
       "      <th>Assumed hardware FLOP/s</th>\n",
       "      <th>Hardware type</th>\n",
       "      <th>Compute estimate method</th>\n",
       "      <th>Training compute estimation method</th>\n",
       "      <th>Model open/closed</th>\n",
       "      <th>Code open/closed</th>\n",
       "    </tr>\n",
       "  </thead>\n",
       "  <tbody>\n",
       "    <tr>\n",
       "      <th>1</th>\n",
       "      <td>Llama 3.1-405B</td>\n",
       "      <td>Language</td>\n",
       "      <td>Language modelling/generation</td>\n",
       "      <td>Abhimanyu Dubey, Abhinav Jauhri, Abhinav Pande...</td>\n",
       "      <td>SOTA improvement,Training cost</td>\n",
       "      <td>High training compute, exceeds 4o and Claude 3...</td>\n",
       "      <td>Open weights (restricted use)</td>\n",
       "      <td>https://ai.meta.com/research/publications/the-...</td>\n",
       "      <td>NaN</td>\n",
       "      <td>The Llama 3 Herd of Models</td>\n",
       "      <td>...</td>\n",
       "      <td>1</td>\n",
       "      <td>989500000000000</td>\n",
       "      <td>133800000000000.0000</td>\n",
       "      <td>TF16</td>\n",
       "      <td>989500000000000</td>\n",
       "      <td>GPU</td>\n",
       "      <td>NaN</td>\n",
       "      <td>Reported,Operation counting</td>\n",
       "      <td>Open</td>\n",
       "      <td>Open</td>\n",
       "    </tr>\n",
       "    <tr>\n",
       "      <th>2</th>\n",
       "      <td>Mistral Large 2</td>\n",
       "      <td>Language</td>\n",
       "      <td>Language modelling/generation,Translation,Code...</td>\n",
       "      <td>Albert Jiang, Alexandre Sablayrolles, Alexis T...</td>\n",
       "      <td>Training cost</td>\n",
       "      <td>likely high training cost since previous Mistr...</td>\n",
       "      <td>Open weights (non-commercial)</td>\n",
       "      <td>https://mistral.ai/news/mistral-large-2407/</td>\n",
       "      <td>NaN</td>\n",
       "      <td>Top-tier reasoning for high-complexity tasks, ...</td>\n",
       "      <td>...</td>\n",
       "      <td>0</td>\n",
       "      <td>NaN</td>\n",
       "      <td>NaN</td>\n",
       "      <td>FP32</td>\n",
       "      <td>NaN</td>\n",
       "      <td>NaN</td>\n",
       "      <td>NaN</td>\n",
       "      <td>Hardware,Cost,Benchmarks</td>\n",
       "      <td>Open</td>\n",
       "      <td>Closed</td>\n",
       "    </tr>\n",
       "    <tr>\n",
       "      <th>4</th>\n",
       "      <td>Nemotron-4 340B</td>\n",
       "      <td>Language</td>\n",
       "      <td>Language modelling/generation,Chat</td>\n",
       "      <td>Bo Adler, Niket Agarwal, Ashwath Aithal, Dong ...</td>\n",
       "      <td>Training cost</td>\n",
       "      <td>~2e25 FLOP, so high training cost, likely &gt;5M</td>\n",
       "      <td>Open weights (unrestricted)</td>\n",
       "      <td>https://blogs.nvidia.com/blog/nemotron-4-synth...</td>\n",
       "      <td>NaN</td>\n",
       "      <td>NVIDIA Releases Open Synthetic Data Generation...</td>\n",
       "      <td>...</td>\n",
       "      <td>1</td>\n",
       "      <td>989500000000000</td>\n",
       "      <td>133800000000000.0000</td>\n",
       "      <td>TF16</td>\n",
       "      <td>989500000000000</td>\n",
       "      <td>GPU</td>\n",
       "      <td>NaN</td>\n",
       "      <td>NaN</td>\n",
       "      <td>Open</td>\n",
       "      <td>Closed</td>\n",
       "    </tr>\n",
       "    <tr>\n",
       "      <th>12</th>\n",
       "      <td>Qwen2.5-72B</td>\n",
       "      <td>Language</td>\n",
       "      <td>Language modelling/generation</td>\n",
       "      <td>NaN</td>\n",
       "      <td>Training cost</td>\n",
       "      <td>High compute, near 1e25</td>\n",
       "      <td>Open weights (unrestricted)</td>\n",
       "      <td>https://qwenlm.github.io/blog/qwen2.5/</td>\n",
       "      <td>NaN</td>\n",
       "      <td>Qwen2.5: A Party of Foundation Models!</td>\n",
       "      <td>...</td>\n",
       "      <td>0</td>\n",
       "      <td>NaN</td>\n",
       "      <td>NaN</td>\n",
       "      <td>FP32</td>\n",
       "      <td>NaN</td>\n",
       "      <td>NaN</td>\n",
       "      <td>NaN</td>\n",
       "      <td>Operation counting</td>\n",
       "      <td>Open</td>\n",
       "      <td>Closed</td>\n",
       "    </tr>\n",
       "    <tr>\n",
       "      <th>14</th>\n",
       "      <td>Llama 3-70B</td>\n",
       "      <td>Language</td>\n",
       "      <td>Chat,Language modelling/generation,Code genera...</td>\n",
       "      <td>Aaditya Singh; Aaron Grattafiori; Abhimanyu Du...</td>\n",
       "      <td>Significant use</td>\n",
       "      <td>Will almost certainly be very influential and ...</td>\n",
       "      <td>Open weights (restricted use)</td>\n",
       "      <td>https://ai.meta.com/blog/meta-llama-3/</td>\n",
       "      <td>NaN</td>\n",
       "      <td>Introducing Meta Llama 3: The most capable ope...</td>\n",
       "      <td>...</td>\n",
       "      <td>1</td>\n",
       "      <td>989500000000000</td>\n",
       "      <td>133800000000000.0000</td>\n",
       "      <td>TF16</td>\n",
       "      <td>989500000000000</td>\n",
       "      <td>GPU</td>\n",
       "      <td>NaN</td>\n",
       "      <td>NaN</td>\n",
       "      <td>Open</td>\n",
       "      <td>Closed</td>\n",
       "    </tr>\n",
       "    <tr>\n",
       "      <th>17</th>\n",
       "      <td>Falcon-180B</td>\n",
       "      <td>Language</td>\n",
       "      <td>Language modelling</td>\n",
       "      <td>Ebtesam Almazrouei, Hamza Alobeidli, Abdulaziz...</td>\n",
       "      <td>Training cost</td>\n",
       "      <td>\"It's currently at the top of the Hugging Face...</td>\n",
       "      <td>Open weights (restricted use)</td>\n",
       "      <td>https://falconllm.tii.ae/falcon-180b.html; htt...</td>\n",
       "      <td>222.0</td>\n",
       "      <td>The Falcon Series of Open Language Models</td>\n",
       "      <td>...</td>\n",
       "      <td>1</td>\n",
       "      <td>311840000000000</td>\n",
       "      <td>77970000000000.0000</td>\n",
       "      <td>TF16</td>\n",
       "      <td>311840000000000</td>\n",
       "      <td>GPU</td>\n",
       "      <td>NaN</td>\n",
       "      <td>NaN</td>\n",
       "      <td>Open</td>\n",
       "      <td>Closed</td>\n",
       "    </tr>\n",
       "    <tr>\n",
       "      <th>18</th>\n",
       "      <td>Qwen2-72B</td>\n",
       "      <td>Language</td>\n",
       "      <td>Chat,Language modelling/generation</td>\n",
       "      <td>Qwen Team</td>\n",
       "      <td>Training cost</td>\n",
       "      <td>SOTA claims are against open source models wit...</td>\n",
       "      <td>Open weights (unrestricted)</td>\n",
       "      <td>https://qwenlm.github.io/blog/qwen2/ \\nhttps:/...</td>\n",
       "      <td>NaN</td>\n",
       "      <td>Hello Qwen2</td>\n",
       "      <td>...</td>\n",
       "      <td>0</td>\n",
       "      <td>NaN</td>\n",
       "      <td>NaN</td>\n",
       "      <td>FP32</td>\n",
       "      <td>NaN</td>\n",
       "      <td>NaN</td>\n",
       "      <td>NaN</td>\n",
       "      <td>NaN</td>\n",
       "      <td>Open</td>\n",
       "      <td>Closed</td>\n",
       "    </tr>\n",
       "    <tr>\n",
       "      <th>32</th>\n",
       "      <td>Qwen-72B</td>\n",
       "      <td>Language</td>\n",
       "      <td>Chat,Code generation</td>\n",
       "      <td>Jinze Bai, Shuai Bai, Yunfei Chu, Zeyu Cui, Ka...</td>\n",
       "      <td>SOTA improvement</td>\n",
       "      <td>SOTA on several Chinese benchmarks, with highe...</td>\n",
       "      <td>Open weights (restricted use)</td>\n",
       "      <td>https://huggingface.co/Qwen/Qwen-72B</td>\n",
       "      <td>NaN</td>\n",
       "      <td>NaN</td>\n",
       "      <td>...</td>\n",
       "      <td>0</td>\n",
       "      <td>NaN</td>\n",
       "      <td>NaN</td>\n",
       "      <td>FP32</td>\n",
       "      <td>NaN</td>\n",
       "      <td>NaN</td>\n",
       "      <td>NaN</td>\n",
       "      <td>NaN</td>\n",
       "      <td>Open</td>\n",
       "      <td>Closed</td>\n",
       "    </tr>\n",
       "    <tr>\n",
       "      <th>33</th>\n",
       "      <td>Qwen1.5 72B</td>\n",
       "      <td>Language</td>\n",
       "      <td>Chat,Language modelling/generation</td>\n",
       "      <td>NaN</td>\n",
       "      <td>SOTA improvement</td>\n",
       "      <td>#1 in C-Eval (84.1, better than Qwen-72B. http...</td>\n",
       "      <td>Open weights (restricted use)</td>\n",
       "      <td>https://qwenlm.github.io/blog/qwen1.5/</td>\n",
       "      <td>NaN</td>\n",
       "      <td>Introducing Qwen1.5</td>\n",
       "      <td>...</td>\n",
       "      <td>0</td>\n",
       "      <td>NaN</td>\n",
       "      <td>NaN</td>\n",
       "      <td>FP32</td>\n",
       "      <td>NaN</td>\n",
       "      <td>NaN</td>\n",
       "      <td>NaN</td>\n",
       "      <td>NaN</td>\n",
       "      <td>Open</td>\n",
       "      <td>Closed</td>\n",
       "    </tr>\n",
       "    <tr>\n",
       "      <th>34</th>\n",
       "      <td>DeepSeek-Coder-V2 236B</td>\n",
       "      <td>Language</td>\n",
       "      <td>Code generation,Code autocompletion</td>\n",
       "      <td>Qihao Zhu, Daya Guo, Zhihong Shao, Dejian Yang...</td>\n",
       "      <td>SOTA improvement</td>\n",
       "      <td>New SOTA on Aider, AIME 2024, and Math Odyssey...</td>\n",
       "      <td>Open weights (restricted use)</td>\n",
       "      <td>https://github.com/deepseek-ai/DeepSeek-Coder-V2</td>\n",
       "      <td>NaN</td>\n",
       "      <td>DeepSeek-Coder-V2: Breaking the Barrier of Clo...</td>\n",
       "      <td>...</td>\n",
       "      <td>0</td>\n",
       "      <td>NaN</td>\n",
       "      <td>NaN</td>\n",
       "      <td>FP32</td>\n",
       "      <td>NaN</td>\n",
       "      <td>NaN</td>\n",
       "      <td>NaN</td>\n",
       "      <td>Operation counting</td>\n",
       "      <td>Open</td>\n",
       "      <td>Closed</td>\n",
       "    </tr>\n",
       "  </tbody>\n",
       "</table>\n",
       "<p>10 rows × 90 columns</p>\n",
       "</div>"
      ],
      "text/plain": [
       "                    System    Domain  \\\n",
       "1           Llama 3.1-405B  Language   \n",
       "2          Mistral Large 2  Language   \n",
       "4          Nemotron-4 340B  Language   \n",
       "12             Qwen2.5-72B  Language   \n",
       "14             Llama 3-70B  Language   \n",
       "17             Falcon-180B  Language   \n",
       "18               Qwen2-72B  Language   \n",
       "32                Qwen-72B  Language   \n",
       "33             Qwen1.5 72B  Language   \n",
       "34  DeepSeek-Coder-V2 236B  Language   \n",
       "\n",
       "                                                 Task  \\\n",
       "1                       Language modelling/generation   \n",
       "2   Language modelling/generation,Translation,Code...   \n",
       "4                  Language modelling/generation,Chat   \n",
       "12                      Language modelling/generation   \n",
       "14  Chat,Language modelling/generation,Code genera...   \n",
       "17                                 Language modelling   \n",
       "18                 Chat,Language modelling/generation   \n",
       "32                               Chat,Code generation   \n",
       "33                 Chat,Language modelling/generation   \n",
       "34                Code generation,Code autocompletion   \n",
       "\n",
       "                                              Authors  \\\n",
       "1   Abhimanyu Dubey, Abhinav Jauhri, Abhinav Pande...   \n",
       "2   Albert Jiang, Alexandre Sablayrolles, Alexis T...   \n",
       "4   Bo Adler, Niket Agarwal, Ashwath Aithal, Dong ...   \n",
       "12                                                NaN   \n",
       "14  Aaditya Singh; Aaron Grattafiori; Abhimanyu Du...   \n",
       "17  Ebtesam Almazrouei, Hamza Alobeidli, Abdulaziz...   \n",
       "18                                          Qwen Team   \n",
       "32  Jinze Bai, Shuai Bai, Yunfei Chu, Zeyu Cui, Ka...   \n",
       "33                                                NaN   \n",
       "34  Qihao Zhu, Daya Guo, Zhihong Shao, Dejian Yang...   \n",
       "\n",
       "               Notability criteria  \\\n",
       "1   SOTA improvement,Training cost   \n",
       "2                    Training cost   \n",
       "4                    Training cost   \n",
       "12                   Training cost   \n",
       "14                 Significant use   \n",
       "17                   Training cost   \n",
       "18                   Training cost   \n",
       "32                SOTA improvement   \n",
       "33                SOTA improvement   \n",
       "34                SOTA improvement   \n",
       "\n",
       "                            Notability criteria notes  \\\n",
       "1   High training compute, exceeds 4o and Claude 3...   \n",
       "2   likely high training cost since previous Mistr...   \n",
       "4       ~2e25 FLOP, so high training cost, likely >5M   \n",
       "12                            High compute, near 1e25   \n",
       "14  Will almost certainly be very influential and ...   \n",
       "17  \"It's currently at the top of the Hugging Face...   \n",
       "18  SOTA claims are against open source models wit...   \n",
       "32  SOTA on several Chinese benchmarks, with highe...   \n",
       "33  #1 in C-Eval (84.1, better than Qwen-72B. http...   \n",
       "34  New SOTA on Aider, AIME 2024, and Math Odyssey...   \n",
       "\n",
       "              Model accessibility  \\\n",
       "1   Open weights (restricted use)   \n",
       "2   Open weights (non-commercial)   \n",
       "4     Open weights (unrestricted)   \n",
       "12    Open weights (unrestricted)   \n",
       "14  Open weights (restricted use)   \n",
       "17  Open weights (restricted use)   \n",
       "18    Open weights (unrestricted)   \n",
       "32  Open weights (restricted use)   \n",
       "33  Open weights (restricted use)   \n",
       "34  Open weights (restricted use)   \n",
       "\n",
       "                                                 Link  Citations  \\\n",
       "1   https://ai.meta.com/research/publications/the-...        NaN   \n",
       "2         https://mistral.ai/news/mistral-large-2407/        NaN   \n",
       "4   https://blogs.nvidia.com/blog/nemotron-4-synth...        NaN   \n",
       "12             https://qwenlm.github.io/blog/qwen2.5/        NaN   \n",
       "14             https://ai.meta.com/blog/meta-llama-3/        NaN   \n",
       "17  https://falconllm.tii.ae/falcon-180b.html; htt...      222.0   \n",
       "18  https://qwenlm.github.io/blog/qwen2/ \\nhttps:/...        NaN   \n",
       "32               https://huggingface.co/Qwen/Qwen-72B        NaN   \n",
       "33             https://qwenlm.github.io/blog/qwen1.5/        NaN   \n",
       "34   https://github.com/deepseek-ai/DeepSeek-Coder-V2        NaN   \n",
       "\n",
       "                                            Reference  ... Hardware count  \\\n",
       "1                          The Llama 3 Herd of Models  ...              1   \n",
       "2   Top-tier reasoning for high-complexity tasks, ...  ...              0   \n",
       "4   NVIDIA Releases Open Synthetic Data Generation...  ...              1   \n",
       "12             Qwen2.5: A Party of Foundation Models!  ...              0   \n",
       "14  Introducing Meta Llama 3: The most capable ope...  ...              1   \n",
       "17          The Falcon Series of Open Language Models  ...              1   \n",
       "18                                        Hello Qwen2  ...              0   \n",
       "32                                                NaN  ...              0   \n",
       "33                                Introducing Qwen1.5  ...              0   \n",
       "34  DeepSeek-Coder-V2: Breaking the Barrier of Clo...  ...              0   \n",
       "\n",
       "      Hardware TF16         Hardware FP16 Assumed precision  \\\n",
       "1   989500000000000  133800000000000.0000              TF16   \n",
       "2               NaN                   NaN              FP32   \n",
       "4   989500000000000  133800000000000.0000              TF16   \n",
       "12              NaN                   NaN              FP32   \n",
       "14  989500000000000  133800000000000.0000              TF16   \n",
       "17  311840000000000   77970000000000.0000              TF16   \n",
       "18              NaN                   NaN              FP32   \n",
       "32              NaN                   NaN              FP32   \n",
       "33              NaN                   NaN              FP32   \n",
       "34              NaN                   NaN              FP32   \n",
       "\n",
       "    Assumed hardware FLOP/s Hardware type Compute estimate method  \\\n",
       "1           989500000000000           GPU                     NaN   \n",
       "2                       NaN           NaN                     NaN   \n",
       "4           989500000000000           GPU                     NaN   \n",
       "12                      NaN           NaN                     NaN   \n",
       "14          989500000000000           GPU                     NaN   \n",
       "17          311840000000000           GPU                     NaN   \n",
       "18                      NaN           NaN                     NaN   \n",
       "32                      NaN           NaN                     NaN   \n",
       "33                      NaN           NaN                     NaN   \n",
       "34                      NaN           NaN                     NaN   \n",
       "\n",
       "   Training compute estimation method  Model open/closed Code open/closed  \n",
       "1         Reported,Operation counting               Open             Open  \n",
       "2            Hardware,Cost,Benchmarks               Open           Closed  \n",
       "4                                 NaN               Open           Closed  \n",
       "12                 Operation counting               Open           Closed  \n",
       "14                                NaN               Open           Closed  \n",
       "17                                NaN               Open           Closed  \n",
       "18                                NaN               Open           Closed  \n",
       "32                                NaN               Open           Closed  \n",
       "33                                NaN               Open           Closed  \n",
       "34                 Operation counting               Open           Closed  \n",
       "\n",
       "[10 rows x 90 columns]"
      ]
     },
     "execution_count": 8,
     "metadata": {},
     "output_type": "execute_result"
    }
   ],
   "source": [
    "notable_open_df = open_df.loc[(open_df['Notability criteria'].notna())]\n",
    "print(len(notable_open_df))\n",
    "notable_open_df.head(10)"
   ]
  },
  {
   "cell_type": "code",
   "execution_count": 9,
   "metadata": {
    "tags": []
   },
   "outputs": [
    {
     "name": "stdout",
     "output_type": "stream",
     "text": [
      "282\n"
     ]
    },
    {
     "data": {
      "text/html": [
       "<div>\n",
       "<style scoped>\n",
       "    .dataframe tbody tr th:only-of-type {\n",
       "        vertical-align: middle;\n",
       "    }\n",
       "\n",
       "    .dataframe tbody tr th {\n",
       "        vertical-align: top;\n",
       "    }\n",
       "\n",
       "    .dataframe thead th {\n",
       "        text-align: right;\n",
       "    }\n",
       "</style>\n",
       "<table border=\"1\" class=\"dataframe\">\n",
       "  <thead>\n",
       "    <tr style=\"text-align: right;\">\n",
       "      <th></th>\n",
       "      <th>System</th>\n",
       "      <th>Domain</th>\n",
       "      <th>Task</th>\n",
       "      <th>Authors</th>\n",
       "      <th>Notability criteria</th>\n",
       "      <th>Notability criteria notes</th>\n",
       "      <th>Model accessibility</th>\n",
       "      <th>Link</th>\n",
       "      <th>Citations</th>\n",
       "      <th>Reference</th>\n",
       "      <th>...</th>\n",
       "      <th>Hardware count</th>\n",
       "      <th>Hardware TF16</th>\n",
       "      <th>Hardware FP16</th>\n",
       "      <th>Assumed precision</th>\n",
       "      <th>Assumed hardware FLOP/s</th>\n",
       "      <th>Hardware type</th>\n",
       "      <th>Compute estimate method</th>\n",
       "      <th>Training compute estimation method</th>\n",
       "      <th>Model open/closed</th>\n",
       "      <th>Code open/closed</th>\n",
       "    </tr>\n",
       "  </thead>\n",
       "  <tbody>\n",
       "    <tr>\n",
       "      <th>19</th>\n",
       "      <td>Grok-1</td>\n",
       "      <td>Language</td>\n",
       "      <td>Language modelling,Chat</td>\n",
       "      <td>NaN</td>\n",
       "      <td>NaN</td>\n",
       "      <td>\"On these benchmarks, Grok-1 displayed strong ...</td>\n",
       "      <td>Open weights (unrestricted)</td>\n",
       "      <td>https://x.ai/model-card/, https://x.ai/blog/gr...</td>\n",
       "      <td>NaN</td>\n",
       "      <td>Announcing Grok</td>\n",
       "      <td>...</td>\n",
       "      <td>0</td>\n",
       "      <td>NaN</td>\n",
       "      <td>NaN</td>\n",
       "      <td>FP32</td>\n",
       "      <td>NaN</td>\n",
       "      <td>NaN</td>\n",
       "      <td>NaN</td>\n",
       "      <td>NaN</td>\n",
       "      <td>Open</td>\n",
       "      <td>Closed</td>\n",
       "    </tr>\n",
       "    <tr>\n",
       "      <th>21</th>\n",
       "      <td>DBRX</td>\n",
       "      <td>Language</td>\n",
       "      <td>Chat,Code generation</td>\n",
       "      <td>Mosaic Research Team</td>\n",
       "      <td>NaN</td>\n",
       "      <td>NaN</td>\n",
       "      <td>Open weights (restricted use)</td>\n",
       "      <td>https://www.databricks.com/blog/introducing-db...</td>\n",
       "      <td>NaN</td>\n",
       "      <td>Introducing DBRX: A New State-of-the-Art Open LLM</td>\n",
       "      <td>...</td>\n",
       "      <td>1</td>\n",
       "      <td>989500000000000</td>\n",
       "      <td>133800000000000.0000</td>\n",
       "      <td>TF16</td>\n",
       "      <td>989500000000000</td>\n",
       "      <td>NaN</td>\n",
       "      <td>NaN</td>\n",
       "      <td>NaN</td>\n",
       "      <td>Open</td>\n",
       "      <td>Closed</td>\n",
       "    </tr>\n",
       "    <tr>\n",
       "      <th>27</th>\n",
       "      <td>Gemma 2 27B</td>\n",
       "      <td>Language</td>\n",
       "      <td>Language modelling/generation,Chat</td>\n",
       "      <td>Gemma Team, Google DeepMind</td>\n",
       "      <td>NaN</td>\n",
       "      <td>NaN</td>\n",
       "      <td>Open weights (restricted use)</td>\n",
       "      <td>https://storage.googleapis.com/deepmind-media/...</td>\n",
       "      <td>NaN</td>\n",
       "      <td>Gemma 2 offers best-in-class performance, runs...</td>\n",
       "      <td>...</td>\n",
       "      <td>1</td>\n",
       "      <td>459000000000000</td>\n",
       "      <td>NaN</td>\n",
       "      <td>TF16</td>\n",
       "      <td>459000000000000</td>\n",
       "      <td>NaN</td>\n",
       "      <td>NaN</td>\n",
       "      <td>NaN</td>\n",
       "      <td>Open</td>\n",
       "      <td>Closed</td>\n",
       "    </tr>\n",
       "    <tr>\n",
       "      <th>30</th>\n",
       "      <td>DeepSeek-V2.5</td>\n",
       "      <td>Language</td>\n",
       "      <td>Language modelling/generation,Chat,Code genera...</td>\n",
       "      <td>DeepSeek-AI, Aixin Liu, Bei Feng, Bin Wang, Bi...</td>\n",
       "      <td>NaN</td>\n",
       "      <td>NaN</td>\n",
       "      <td>Open weights (restricted use)</td>\n",
       "      <td>https://huggingface.co/deepseek-ai/DeepSeek-V2.5</td>\n",
       "      <td>NaN</td>\n",
       "      <td>DeepSeek-V2.5</td>\n",
       "      <td>...</td>\n",
       "      <td>0</td>\n",
       "      <td>NaN</td>\n",
       "      <td>NaN</td>\n",
       "      <td>FP32</td>\n",
       "      <td>NaN</td>\n",
       "      <td>NaN</td>\n",
       "      <td>NaN</td>\n",
       "      <td>NaN</td>\n",
       "      <td>Open</td>\n",
       "      <td>Closed</td>\n",
       "    </tr>\n",
       "    <tr>\n",
       "      <th>31</th>\n",
       "      <td>Chameleon-34B</td>\n",
       "      <td>Multimodal,Image generation,Language,Vision</td>\n",
       "      <td>Language modelling/generation,Vision-language ...</td>\n",
       "      <td>Srinivasan Iyer, Bernie Huang, Lili Yu, Arun B...</td>\n",
       "      <td>NaN</td>\n",
       "      <td>NaN</td>\n",
       "      <td>Open weights (non-commercial)</td>\n",
       "      <td>https://arxiv.org/abs/2405.09818v1</td>\n",
       "      <td>NaN</td>\n",
       "      <td>Chameleon: Mixed-Modal Early-Fusion Foundation...</td>\n",
       "      <td>...</td>\n",
       "      <td>1</td>\n",
       "      <td>312000000000000</td>\n",
       "      <td>77970000000000.0000</td>\n",
       "      <td>TF16</td>\n",
       "      <td>312000000000000</td>\n",
       "      <td>NaN</td>\n",
       "      <td>NaN</td>\n",
       "      <td>NaN</td>\n",
       "      <td>Open</td>\n",
       "      <td>Closed</td>\n",
       "    </tr>\n",
       "    <tr>\n",
       "      <th>35</th>\n",
       "      <td>Code Llama-70B</td>\n",
       "      <td>Language</td>\n",
       "      <td>Code generation</td>\n",
       "      <td>Baptiste Rozière, Jonas Gehring, Fabian Gloeck...</td>\n",
       "      <td>NaN</td>\n",
       "      <td>\"In our own benchmark testing, Code Llama outp...</td>\n",
       "      <td>Open weights (restricted use)</td>\n",
       "      <td>https://ai.meta.com/research/publications/code...</td>\n",
       "      <td>1137.0</td>\n",
       "      <td>Code Llama: Open Foundation Models for Code</td>\n",
       "      <td>...</td>\n",
       "      <td>1</td>\n",
       "      <td>312000000000000</td>\n",
       "      <td>77970000000000.0000</td>\n",
       "      <td>TF16</td>\n",
       "      <td>312000000000000</td>\n",
       "      <td>NaN</td>\n",
       "      <td>NaN</td>\n",
       "      <td>NaN</td>\n",
       "      <td>Open</td>\n",
       "      <td>Closed</td>\n",
       "    </tr>\n",
       "    <tr>\n",
       "      <th>36</th>\n",
       "      <td>XVERSE-65B-2</td>\n",
       "      <td>Language</td>\n",
       "      <td>Chat,Language modelling/generation</td>\n",
       "      <td>NaN</td>\n",
       "      <td>NaN</td>\n",
       "      <td>NaN</td>\n",
       "      <td>Open weights (restricted use)</td>\n",
       "      <td>https://github.com/xverse-ai/XVERSE-65B/blob/m...</td>\n",
       "      <td>NaN</td>\n",
       "      <td>NaN</td>\n",
       "      <td>...</td>\n",
       "      <td>0</td>\n",
       "      <td>NaN</td>\n",
       "      <td>NaN</td>\n",
       "      <td>FP32</td>\n",
       "      <td>NaN</td>\n",
       "      <td>NaN</td>\n",
       "      <td>NaN</td>\n",
       "      <td>NaN</td>\n",
       "      <td>Open</td>\n",
       "      <td>Open</td>\n",
       "    </tr>\n",
       "    <tr>\n",
       "      <th>43</th>\n",
       "      <td>TigerBot-70B</td>\n",
       "      <td>Language</td>\n",
       "      <td>Chat,Language generation,Language modelling/ge...</td>\n",
       "      <td>Ye Chen, Wei Cai, Liangmin Wu, Xiaowei Li, Zha...</td>\n",
       "      <td>NaN</td>\n",
       "      <td>Outperforms Llama 2:\\n\\n\"We use 10 mainstream ...</td>\n",
       "      <td>Open weights (restricted use)</td>\n",
       "      <td>https://github.com/TigerResearch/TigerBot/blob...</td>\n",
       "      <td>NaN</td>\n",
       "      <td>TigerBot: An Open Multilingual Multitask LLM</td>\n",
       "      <td>...</td>\n",
       "      <td>0</td>\n",
       "      <td>NaN</td>\n",
       "      <td>NaN</td>\n",
       "      <td>FP32</td>\n",
       "      <td>NaN</td>\n",
       "      <td>NaN</td>\n",
       "      <td>NaN</td>\n",
       "      <td>NaN</td>\n",
       "      <td>Open</td>\n",
       "      <td>Open</td>\n",
       "    </tr>\n",
       "    <tr>\n",
       "      <th>44</th>\n",
       "      <td>DeepSeek-V2</td>\n",
       "      <td>Language</td>\n",
       "      <td>Language modelling/generation,Chat,Code genera...</td>\n",
       "      <td>DeepSeek-AI, Aixin Liu, Bei Feng, Bin Wang, Bi...</td>\n",
       "      <td>NaN</td>\n",
       "      <td>as of July 2024 the strongest open model in lm...</td>\n",
       "      <td>Open weights (restricted use)</td>\n",
       "      <td>https://arxiv.org/abs/2405.04434 \\nhttps://git...</td>\n",
       "      <td>NaN</td>\n",
       "      <td>DeepSeek-V2: A Strong, Economical, and Efficie...</td>\n",
       "      <td>...</td>\n",
       "      <td>1</td>\n",
       "      <td>NaN</td>\n",
       "      <td>NaN</td>\n",
       "      <td>FP32</td>\n",
       "      <td>NaN</td>\n",
       "      <td>NaN</td>\n",
       "      <td>NaN</td>\n",
       "      <td>NaN</td>\n",
       "      <td>Open</td>\n",
       "      <td>Closed</td>\n",
       "    </tr>\n",
       "    <tr>\n",
       "      <th>48</th>\n",
       "      <td>DeepSeek LLM 67B</td>\n",
       "      <td>Language</td>\n",
       "      <td>Chat</td>\n",
       "      <td>Xiao Bi, Deli Chen, Guanting Chen, Shanhuang C...</td>\n",
       "      <td>NaN</td>\n",
       "      <td>One of the best open/Chinese models: \"Our eval...</td>\n",
       "      <td>Open weights (restricted use)</td>\n",
       "      <td>https://arxiv.org/abs/2401.02954, https://gith...</td>\n",
       "      <td>NaN</td>\n",
       "      <td>DeepSeek LLM: Scaling Open-Source Language Mod...</td>\n",
       "      <td>...</td>\n",
       "      <td>0</td>\n",
       "      <td>NaN</td>\n",
       "      <td>NaN</td>\n",
       "      <td>FP32</td>\n",
       "      <td>NaN</td>\n",
       "      <td>NaN</td>\n",
       "      <td>NaN</td>\n",
       "      <td>NaN</td>\n",
       "      <td>Open</td>\n",
       "      <td>Closed</td>\n",
       "    </tr>\n",
       "  </tbody>\n",
       "</table>\n",
       "<p>10 rows × 90 columns</p>\n",
       "</div>"
      ],
      "text/plain": [
       "              System                                       Domain  \\\n",
       "19            Grok-1                                     Language   \n",
       "21              DBRX                                     Language   \n",
       "27       Gemma 2 27B                                     Language   \n",
       "30     DeepSeek-V2.5                                     Language   \n",
       "31     Chameleon-34B  Multimodal,Image generation,Language,Vision   \n",
       "35    Code Llama-70B                                     Language   \n",
       "36      XVERSE-65B-2                                     Language   \n",
       "43      TigerBot-70B                                     Language   \n",
       "44       DeepSeek-V2                                     Language   \n",
       "48  DeepSeek LLM 67B                                     Language   \n",
       "\n",
       "                                                 Task  \\\n",
       "19                            Language modelling,Chat   \n",
       "21                               Chat,Code generation   \n",
       "27                 Language modelling/generation,Chat   \n",
       "30  Language modelling/generation,Chat,Code genera...   \n",
       "31  Language modelling/generation,Vision-language ...   \n",
       "35                                    Code generation   \n",
       "36                 Chat,Language modelling/generation   \n",
       "43  Chat,Language generation,Language modelling/ge...   \n",
       "44  Language modelling/generation,Chat,Code genera...   \n",
       "48                                               Chat   \n",
       "\n",
       "                                              Authors Notability criteria  \\\n",
       "19                                                NaN                 NaN   \n",
       "21                               Mosaic Research Team                 NaN   \n",
       "27                        Gemma Team, Google DeepMind                 NaN   \n",
       "30  DeepSeek-AI, Aixin Liu, Bei Feng, Bin Wang, Bi...                 NaN   \n",
       "31  Srinivasan Iyer, Bernie Huang, Lili Yu, Arun B...                 NaN   \n",
       "35  Baptiste Rozière, Jonas Gehring, Fabian Gloeck...                 NaN   \n",
       "36                                                NaN                 NaN   \n",
       "43  Ye Chen, Wei Cai, Liangmin Wu, Xiaowei Li, Zha...                 NaN   \n",
       "44  DeepSeek-AI, Aixin Liu, Bei Feng, Bin Wang, Bi...                 NaN   \n",
       "48  Xiao Bi, Deli Chen, Guanting Chen, Shanhuang C...                 NaN   \n",
       "\n",
       "                            Notability criteria notes  \\\n",
       "19  \"On these benchmarks, Grok-1 displayed strong ...   \n",
       "21                                                NaN   \n",
       "27                                                NaN   \n",
       "30                                                NaN   \n",
       "31                                                NaN   \n",
       "35  \"In our own benchmark testing, Code Llama outp...   \n",
       "36                                                NaN   \n",
       "43  Outperforms Llama 2:\\n\\n\"We use 10 mainstream ...   \n",
       "44  as of July 2024 the strongest open model in lm...   \n",
       "48  One of the best open/Chinese models: \"Our eval...   \n",
       "\n",
       "              Model accessibility  \\\n",
       "19    Open weights (unrestricted)   \n",
       "21  Open weights (restricted use)   \n",
       "27  Open weights (restricted use)   \n",
       "30  Open weights (restricted use)   \n",
       "31  Open weights (non-commercial)   \n",
       "35  Open weights (restricted use)   \n",
       "36  Open weights (restricted use)   \n",
       "43  Open weights (restricted use)   \n",
       "44  Open weights (restricted use)   \n",
       "48  Open weights (restricted use)   \n",
       "\n",
       "                                                 Link  Citations  \\\n",
       "19  https://x.ai/model-card/, https://x.ai/blog/gr...        NaN   \n",
       "21  https://www.databricks.com/blog/introducing-db...        NaN   \n",
       "27  https://storage.googleapis.com/deepmind-media/...        NaN   \n",
       "30   https://huggingface.co/deepseek-ai/DeepSeek-V2.5        NaN   \n",
       "31                 https://arxiv.org/abs/2405.09818v1        NaN   \n",
       "35  https://ai.meta.com/research/publications/code...     1137.0   \n",
       "36  https://github.com/xverse-ai/XVERSE-65B/blob/m...        NaN   \n",
       "43  https://github.com/TigerResearch/TigerBot/blob...        NaN   \n",
       "44  https://arxiv.org/abs/2405.04434 \\nhttps://git...        NaN   \n",
       "48  https://arxiv.org/abs/2401.02954, https://gith...        NaN   \n",
       "\n",
       "                                            Reference  ... Hardware count  \\\n",
       "19                                    Announcing Grok  ...              0   \n",
       "21  Introducing DBRX: A New State-of-the-Art Open LLM  ...              1   \n",
       "27  Gemma 2 offers best-in-class performance, runs...  ...              1   \n",
       "30                                      DeepSeek-V2.5  ...              0   \n",
       "31  Chameleon: Mixed-Modal Early-Fusion Foundation...  ...              1   \n",
       "35        Code Llama: Open Foundation Models for Code  ...              1   \n",
       "36                                                NaN  ...              0   \n",
       "43       TigerBot: An Open Multilingual Multitask LLM  ...              0   \n",
       "44  DeepSeek-V2: A Strong, Economical, and Efficie...  ...              1   \n",
       "48  DeepSeek LLM: Scaling Open-Source Language Mod...  ...              0   \n",
       "\n",
       "      Hardware TF16         Hardware FP16 Assumed precision  \\\n",
       "19              NaN                   NaN              FP32   \n",
       "21  989500000000000  133800000000000.0000              TF16   \n",
       "27  459000000000000                   NaN              TF16   \n",
       "30              NaN                   NaN              FP32   \n",
       "31  312000000000000   77970000000000.0000              TF16   \n",
       "35  312000000000000   77970000000000.0000              TF16   \n",
       "36              NaN                   NaN              FP32   \n",
       "43              NaN                   NaN              FP32   \n",
       "44              NaN                   NaN              FP32   \n",
       "48              NaN                   NaN              FP32   \n",
       "\n",
       "    Assumed hardware FLOP/s Hardware type Compute estimate method  \\\n",
       "19                      NaN           NaN                     NaN   \n",
       "21          989500000000000           NaN                     NaN   \n",
       "27          459000000000000           NaN                     NaN   \n",
       "30                      NaN           NaN                     NaN   \n",
       "31          312000000000000           NaN                     NaN   \n",
       "35          312000000000000           NaN                     NaN   \n",
       "36                      NaN           NaN                     NaN   \n",
       "43                      NaN           NaN                     NaN   \n",
       "44                      NaN           NaN                     NaN   \n",
       "48                      NaN           NaN                     NaN   \n",
       "\n",
       "   Training compute estimation method  Model open/closed Code open/closed  \n",
       "19                                NaN               Open           Closed  \n",
       "21                                NaN               Open           Closed  \n",
       "27                                NaN               Open           Closed  \n",
       "30                                NaN               Open           Closed  \n",
       "31                                NaN               Open           Closed  \n",
       "35                                NaN               Open           Closed  \n",
       "36                                NaN               Open             Open  \n",
       "43                                NaN               Open             Open  \n",
       "44                                NaN               Open           Closed  \n",
       "48                                NaN               Open           Closed  \n",
       "\n",
       "[10 rows x 90 columns]"
      ]
     },
     "execution_count": 9,
     "metadata": {},
     "output_type": "execute_result"
    }
   ],
   "source": [
    "non_notable = open_df.loc[(open_df['Notability criteria'].isna())]\n",
    "print(len(non_notable))\n",
    "non_notable.head(10)\n",
    "# 251 open but not \"notable\""
   ]
  },
  {
   "cell_type": "code",
   "execution_count": 10,
   "metadata": {
    "tags": []
   },
   "outputs": [
    {
     "name": "stdout",
     "output_type": "stream",
     "text": [
      "Models that are not fine-tunes:  422\n",
      "Models that are fine-tunes:  88\n"
     ]
    },
    {
     "data": {
      "text/html": [
       "<div>\n",
       "<style scoped>\n",
       "    .dataframe tbody tr th:only-of-type {\n",
       "        vertical-align: middle;\n",
       "    }\n",
       "\n",
       "    .dataframe tbody tr th {\n",
       "        vertical-align: top;\n",
       "    }\n",
       "\n",
       "    .dataframe thead th {\n",
       "        text-align: right;\n",
       "    }\n",
       "</style>\n",
       "<table border=\"1\" class=\"dataframe\">\n",
       "  <thead>\n",
       "    <tr style=\"text-align: right;\">\n",
       "      <th></th>\n",
       "      <th>System</th>\n",
       "      <th>Domain</th>\n",
       "      <th>Task</th>\n",
       "      <th>Authors</th>\n",
       "      <th>Notability criteria</th>\n",
       "      <th>Notability criteria notes</th>\n",
       "      <th>Model accessibility</th>\n",
       "      <th>Link</th>\n",
       "      <th>Citations</th>\n",
       "      <th>Reference</th>\n",
       "      <th>...</th>\n",
       "      <th>Hardware count</th>\n",
       "      <th>Hardware TF16</th>\n",
       "      <th>Hardware FP16</th>\n",
       "      <th>Assumed precision</th>\n",
       "      <th>Assumed hardware FLOP/s</th>\n",
       "      <th>Hardware type</th>\n",
       "      <th>Compute estimate method</th>\n",
       "      <th>Training compute estimation method</th>\n",
       "      <th>Model open/closed</th>\n",
       "      <th>Code open/closed</th>\n",
       "    </tr>\n",
       "  </thead>\n",
       "  <tbody>\n",
       "    <tr>\n",
       "      <th>35</th>\n",
       "      <td>Code Llama-70B</td>\n",
       "      <td>Language</td>\n",
       "      <td>Code generation</td>\n",
       "      <td>Baptiste Rozière, Jonas Gehring, Fabian Gloeck...</td>\n",
       "      <td>NaN</td>\n",
       "      <td>\"In our own benchmark testing, Code Llama outp...</td>\n",
       "      <td>Open weights (restricted use)</td>\n",
       "      <td>https://ai.meta.com/research/publications/code...</td>\n",
       "      <td>1137.0</td>\n",
       "      <td>Code Llama: Open Foundation Models for Code</td>\n",
       "      <td>...</td>\n",
       "      <td>1</td>\n",
       "      <td>312000000000000</td>\n",
       "      <td>77970000000000.0000</td>\n",
       "      <td>TF16</td>\n",
       "      <td>312000000000000</td>\n",
       "      <td>NaN</td>\n",
       "      <td>NaN</td>\n",
       "      <td>NaN</td>\n",
       "      <td>Open</td>\n",
       "      <td>Closed</td>\n",
       "    </tr>\n",
       "    <tr>\n",
       "      <th>43</th>\n",
       "      <td>TigerBot-70B</td>\n",
       "      <td>Language</td>\n",
       "      <td>Chat,Language generation,Language modelling/ge...</td>\n",
       "      <td>Ye Chen, Wei Cai, Liangmin Wu, Xiaowei Li, Zha...</td>\n",
       "      <td>NaN</td>\n",
       "      <td>Outperforms Llama 2:\\n\\n\"We use 10 mainstream ...</td>\n",
       "      <td>Open weights (restricted use)</td>\n",
       "      <td>https://github.com/TigerResearch/TigerBot/blob...</td>\n",
       "      <td>NaN</td>\n",
       "      <td>TigerBot: An Open Multilingual Multitask LLM</td>\n",
       "      <td>...</td>\n",
       "      <td>0</td>\n",
       "      <td>NaN</td>\n",
       "      <td>NaN</td>\n",
       "      <td>FP32</td>\n",
       "      <td>NaN</td>\n",
       "      <td>NaN</td>\n",
       "      <td>NaN</td>\n",
       "      <td>NaN</td>\n",
       "      <td>Open</td>\n",
       "      <td>Open</td>\n",
       "    </tr>\n",
       "    <tr>\n",
       "      <th>59</th>\n",
       "      <td>Guanaco-65B</td>\n",
       "      <td>Language</td>\n",
       "      <td>Chat</td>\n",
       "      <td>Tim Dettmers, Artidoro Pagnoni, Ari Holtzman, ...</td>\n",
       "      <td>NaN</td>\n",
       "      <td>\"Our best model family, which we name Guanaco,...</td>\n",
       "      <td>Open weights (non-commercial)</td>\n",
       "      <td>https://arxiv.org/abs/2305.14314; https://gith...</td>\n",
       "      <td>1381.0</td>\n",
       "      <td>QLoRA: Efficient Finetuning of Quantized LLMs</td>\n",
       "      <td>...</td>\n",
       "      <td>0</td>\n",
       "      <td>NaN</td>\n",
       "      <td>NaN</td>\n",
       "      <td>FP32</td>\n",
       "      <td>NaN</td>\n",
       "      <td>NaN</td>\n",
       "      <td>NaN</td>\n",
       "      <td>NaN</td>\n",
       "      <td>Open</td>\n",
       "      <td>Open</td>\n",
       "    </tr>\n",
       "    <tr>\n",
       "      <th>61</th>\n",
       "      <td>Code Llama-34B</td>\n",
       "      <td>Language</td>\n",
       "      <td>Code generation</td>\n",
       "      <td>Baptiste Rozière, Jonas Gehring, Fabian Gloeck...</td>\n",
       "      <td>NaN</td>\n",
       "      <td>SOTA for open models: \"Moreover, our largest m...</td>\n",
       "      <td>Open weights (restricted use)</td>\n",
       "      <td>https://ai.meta.com/research/publications/code...</td>\n",
       "      <td>1137.0</td>\n",
       "      <td>Code Llama: Open Foundation Models for Code</td>\n",
       "      <td>...</td>\n",
       "      <td>1</td>\n",
       "      <td>312000000000000</td>\n",
       "      <td>77970000000000.0000</td>\n",
       "      <td>TF16</td>\n",
       "      <td>312000000000000</td>\n",
       "      <td>NaN</td>\n",
       "      <td>NaN</td>\n",
       "      <td>NaN</td>\n",
       "      <td>Open</td>\n",
       "      <td>Closed</td>\n",
       "    </tr>\n",
       "    <tr>\n",
       "      <th>68</th>\n",
       "      <td>BlenderBot 3</td>\n",
       "      <td>Language</td>\n",
       "      <td>Chat</td>\n",
       "      <td>Kurt Shuster, Jing Xu, Mojtaba Komeili, Da Ju,...</td>\n",
       "      <td>SOTA improvement</td>\n",
       "      <td>\"Human evaluations show its superiority to exi...</td>\n",
       "      <td>Open weights (non-commercial)</td>\n",
       "      <td>https://arxiv.org/abs/2208.03188, https://gith...</td>\n",
       "      <td>206.0</td>\n",
       "      <td>BlenderBot 3: a deployed conversational agent ...</td>\n",
       "      <td>...</td>\n",
       "      <td>1</td>\n",
       "      <td>311840000000000</td>\n",
       "      <td>77970000000000.0000</td>\n",
       "      <td>TF16</td>\n",
       "      <td>311840000000000</td>\n",
       "      <td>GPU</td>\n",
       "      <td>NaN</td>\n",
       "      <td>NaN</td>\n",
       "      <td>Open</td>\n",
       "      <td>Open</td>\n",
       "    </tr>\n",
       "    <tr>\n",
       "      <th>69</th>\n",
       "      <td>OPT-IML (175B)</td>\n",
       "      <td>Language</td>\n",
       "      <td>Language modelling</td>\n",
       "      <td>Srinivasan Iyer, Xi Victoria Lin, Ramakanth Pa...</td>\n",
       "      <td>NaN</td>\n",
       "      <td>NaN</td>\n",
       "      <td>Open weights (non-commercial)</td>\n",
       "      <td>https://arxiv.org/abs/2212.12017</td>\n",
       "      <td>220.0</td>\n",
       "      <td>OPT-IML: Scaling Language Model Instruction Me...</td>\n",
       "      <td>...</td>\n",
       "      <td>1</td>\n",
       "      <td>312000000000000</td>\n",
       "      <td>77970000000000.0000</td>\n",
       "      <td>TF16</td>\n",
       "      <td>312000000000000</td>\n",
       "      <td>NaN</td>\n",
       "      <td>NaN</td>\n",
       "      <td>NaN</td>\n",
       "      <td>Open</td>\n",
       "      <td>Closed</td>\n",
       "    </tr>\n",
       "    <tr>\n",
       "      <th>77</th>\n",
       "      <td>FunSearch</td>\n",
       "      <td>Language,Search</td>\n",
       "      <td>Code generation</td>\n",
       "      <td>Bernardino Romera-Paredes, Mohammadamin Bareka...</td>\n",
       "      <td>SOTA improvement,Historical significance</td>\n",
       "      <td>Improved SOTA for the cap set problem. Can pla...</td>\n",
       "      <td>Open weights (unrestricted)</td>\n",
       "      <td>https://www.nature.com/articles/s41586-023-069...</td>\n",
       "      <td>149.0</td>\n",
       "      <td>Mathematical discoveries from program search w...</td>\n",
       "      <td>...</td>\n",
       "      <td>0</td>\n",
       "      <td>NaN</td>\n",
       "      <td>NaN</td>\n",
       "      <td>FP32</td>\n",
       "      <td>NaN</td>\n",
       "      <td>NaN</td>\n",
       "      <td>NaN</td>\n",
       "      <td>NaN</td>\n",
       "      <td>Open</td>\n",
       "      <td>Closed</td>\n",
       "    </tr>\n",
       "    <tr>\n",
       "      <th>102</th>\n",
       "      <td>Llama 3.2 90B</td>\n",
       "      <td>Multimodal,Vision,Language</td>\n",
       "      <td>Visual question answering,Image captioning,Obj...</td>\n",
       "      <td>NaN</td>\n",
       "      <td>NaN</td>\n",
       "      <td>NaN</td>\n",
       "      <td>Open weights (restricted use)</td>\n",
       "      <td>https://ai.meta.com/blog/llama-3-2-connect-202...</td>\n",
       "      <td>NaN</td>\n",
       "      <td>Llama 3.2: Revolutionizing edge AI and vision ...</td>\n",
       "      <td>...</td>\n",
       "      <td>1</td>\n",
       "      <td>989500000000000</td>\n",
       "      <td>133800000000000.0000</td>\n",
       "      <td>TF16</td>\n",
       "      <td>989500000000000</td>\n",
       "      <td>NaN</td>\n",
       "      <td>NaN</td>\n",
       "      <td>Hardware</td>\n",
       "      <td>Open</td>\n",
       "      <td>Closed</td>\n",
       "    </tr>\n",
       "    <tr>\n",
       "      <th>126</th>\n",
       "      <td>FinGPT-13B</td>\n",
       "      <td>Language</td>\n",
       "      <td>Named entity recognition,Sentiment classificat...</td>\n",
       "      <td>Neng Wang, Hongyang Yang, Christina Dan Wang</td>\n",
       "      <td>SOTA improvement</td>\n",
       "      <td>SOTA for financial sentiment analysis</td>\n",
       "      <td>Open weights (unrestricted)</td>\n",
       "      <td>https://arxiv.org/abs/2310.04793; https://gith...</td>\n",
       "      <td>26.0</td>\n",
       "      <td>FinGPT: Instruction Tuning Benchmark for Open-...</td>\n",
       "      <td>...</td>\n",
       "      <td>1</td>\n",
       "      <td>NaN</td>\n",
       "      <td>35580000000000.0000</td>\n",
       "      <td>FP16</td>\n",
       "      <td>35580000000000</td>\n",
       "      <td>GPU</td>\n",
       "      <td>NaN</td>\n",
       "      <td>NaN</td>\n",
       "      <td>Open</td>\n",
       "      <td>Open</td>\n",
       "    </tr>\n",
       "    <tr>\n",
       "      <th>127</th>\n",
       "      <td>Llama Guard</td>\n",
       "      <td>Language</td>\n",
       "      <td>Chat</td>\n",
       "      <td>Hakan Inan, Kartikeya Upasani, Jianfeng Chi, R...</td>\n",
       "      <td>SOTA improvement</td>\n",
       "      <td>\"Llama Guard, a Llama2-7b model that is instru...</td>\n",
       "      <td>Open weights (restricted use)</td>\n",
       "      <td>https://arxiv.org/abs/2312.06674</td>\n",
       "      <td>157.0</td>\n",
       "      <td>Llama Guard: LLM-based Input-Output Safeguard ...</td>\n",
       "      <td>...</td>\n",
       "      <td>1</td>\n",
       "      <td>312000000000000</td>\n",
       "      <td>77970000000000.0000</td>\n",
       "      <td>TF16</td>\n",
       "      <td>312000000000000</td>\n",
       "      <td>GPU</td>\n",
       "      <td>NaN</td>\n",
       "      <td>NaN</td>\n",
       "      <td>Open</td>\n",
       "      <td>Closed</td>\n",
       "    </tr>\n",
       "  </tbody>\n",
       "</table>\n",
       "<p>10 rows × 90 columns</p>\n",
       "</div>"
      ],
      "text/plain": [
       "             System                      Domain  \\\n",
       "35   Code Llama-70B                    Language   \n",
       "43     TigerBot-70B                    Language   \n",
       "59      Guanaco-65B                    Language   \n",
       "61   Code Llama-34B                    Language   \n",
       "68     BlenderBot 3                    Language   \n",
       "69   OPT-IML (175B)                    Language   \n",
       "77        FunSearch             Language,Search   \n",
       "102   Llama 3.2 90B  Multimodal,Vision,Language   \n",
       "126      FinGPT-13B                    Language   \n",
       "127     Llama Guard                    Language   \n",
       "\n",
       "                                                  Task  \\\n",
       "35                                     Code generation   \n",
       "43   Chat,Language generation,Language modelling/ge...   \n",
       "59                                                Chat   \n",
       "61                                     Code generation   \n",
       "68                                                Chat   \n",
       "69                                  Language modelling   \n",
       "77                                     Code generation   \n",
       "102  Visual question answering,Image captioning,Obj...   \n",
       "126  Named entity recognition,Sentiment classificat...   \n",
       "127                                               Chat   \n",
       "\n",
       "                                               Authors  \\\n",
       "35   Baptiste Rozière, Jonas Gehring, Fabian Gloeck...   \n",
       "43   Ye Chen, Wei Cai, Liangmin Wu, Xiaowei Li, Zha...   \n",
       "59   Tim Dettmers, Artidoro Pagnoni, Ari Holtzman, ...   \n",
       "61   Baptiste Rozière, Jonas Gehring, Fabian Gloeck...   \n",
       "68   Kurt Shuster, Jing Xu, Mojtaba Komeili, Da Ju,...   \n",
       "69   Srinivasan Iyer, Xi Victoria Lin, Ramakanth Pa...   \n",
       "77   Bernardino Romera-Paredes, Mohammadamin Bareka...   \n",
       "102                                                NaN   \n",
       "126       Neng Wang, Hongyang Yang, Christina Dan Wang   \n",
       "127  Hakan Inan, Kartikeya Upasani, Jianfeng Chi, R...   \n",
       "\n",
       "                          Notability criteria  \\\n",
       "35                                        NaN   \n",
       "43                                        NaN   \n",
       "59                                        NaN   \n",
       "61                                        NaN   \n",
       "68                           SOTA improvement   \n",
       "69                                        NaN   \n",
       "77   SOTA improvement,Historical significance   \n",
       "102                                       NaN   \n",
       "126                          SOTA improvement   \n",
       "127                          SOTA improvement   \n",
       "\n",
       "                             Notability criteria notes  \\\n",
       "35   \"In our own benchmark testing, Code Llama outp...   \n",
       "43   Outperforms Llama 2:\\n\\n\"We use 10 mainstream ...   \n",
       "59   \"Our best model family, which we name Guanaco,...   \n",
       "61   SOTA for open models: \"Moreover, our largest m...   \n",
       "68   \"Human evaluations show its superiority to exi...   \n",
       "69                                                 NaN   \n",
       "77   Improved SOTA for the cap set problem. Can pla...   \n",
       "102                                                NaN   \n",
       "126              SOTA for financial sentiment analysis   \n",
       "127  \"Llama Guard, a Llama2-7b model that is instru...   \n",
       "\n",
       "               Model accessibility  \\\n",
       "35   Open weights (restricted use)   \n",
       "43   Open weights (restricted use)   \n",
       "59   Open weights (non-commercial)   \n",
       "61   Open weights (restricted use)   \n",
       "68   Open weights (non-commercial)   \n",
       "69   Open weights (non-commercial)   \n",
       "77     Open weights (unrestricted)   \n",
       "102  Open weights (restricted use)   \n",
       "126    Open weights (unrestricted)   \n",
       "127  Open weights (restricted use)   \n",
       "\n",
       "                                                  Link  Citations  \\\n",
       "35   https://ai.meta.com/research/publications/code...     1137.0   \n",
       "43   https://github.com/TigerResearch/TigerBot/blob...        NaN   \n",
       "59   https://arxiv.org/abs/2305.14314; https://gith...     1381.0   \n",
       "61   https://ai.meta.com/research/publications/code...     1137.0   \n",
       "68   https://arxiv.org/abs/2208.03188, https://gith...      206.0   \n",
       "69                    https://arxiv.org/abs/2212.12017      220.0   \n",
       "77   https://www.nature.com/articles/s41586-023-069...      149.0   \n",
       "102  https://ai.meta.com/blog/llama-3-2-connect-202...        NaN   \n",
       "126  https://arxiv.org/abs/2310.04793; https://gith...       26.0   \n",
       "127                   https://arxiv.org/abs/2312.06674      157.0   \n",
       "\n",
       "                                             Reference  ... Hardware count  \\\n",
       "35         Code Llama: Open Foundation Models for Code  ...              1   \n",
       "43        TigerBot: An Open Multilingual Multitask LLM  ...              0   \n",
       "59       QLoRA: Efficient Finetuning of Quantized LLMs  ...              0   \n",
       "61         Code Llama: Open Foundation Models for Code  ...              1   \n",
       "68   BlenderBot 3: a deployed conversational agent ...  ...              1   \n",
       "69   OPT-IML: Scaling Language Model Instruction Me...  ...              1   \n",
       "77   Mathematical discoveries from program search w...  ...              0   \n",
       "102  Llama 3.2: Revolutionizing edge AI and vision ...  ...              1   \n",
       "126  FinGPT: Instruction Tuning Benchmark for Open-...  ...              1   \n",
       "127  Llama Guard: LLM-based Input-Output Safeguard ...  ...              1   \n",
       "\n",
       "       Hardware TF16         Hardware FP16 Assumed precision  \\\n",
       "35   312000000000000   77970000000000.0000              TF16   \n",
       "43               NaN                   NaN              FP32   \n",
       "59               NaN                   NaN              FP32   \n",
       "61   312000000000000   77970000000000.0000              TF16   \n",
       "68   311840000000000   77970000000000.0000              TF16   \n",
       "69   312000000000000   77970000000000.0000              TF16   \n",
       "77               NaN                   NaN              FP32   \n",
       "102  989500000000000  133800000000000.0000              TF16   \n",
       "126              NaN   35580000000000.0000              FP16   \n",
       "127  312000000000000   77970000000000.0000              TF16   \n",
       "\n",
       "     Assumed hardware FLOP/s Hardware type Compute estimate method  \\\n",
       "35           312000000000000           NaN                     NaN   \n",
       "43                       NaN           NaN                     NaN   \n",
       "59                       NaN           NaN                     NaN   \n",
       "61           312000000000000           NaN                     NaN   \n",
       "68           311840000000000           GPU                     NaN   \n",
       "69           312000000000000           NaN                     NaN   \n",
       "77                       NaN           NaN                     NaN   \n",
       "102          989500000000000           NaN                     NaN   \n",
       "126           35580000000000           GPU                     NaN   \n",
       "127          312000000000000           GPU                     NaN   \n",
       "\n",
       "    Training compute estimation method  Model open/closed Code open/closed  \n",
       "35                                 NaN               Open           Closed  \n",
       "43                                 NaN               Open             Open  \n",
       "59                                 NaN               Open             Open  \n",
       "61                                 NaN               Open           Closed  \n",
       "68                                 NaN               Open             Open  \n",
       "69                                 NaN               Open           Closed  \n",
       "77                                 NaN               Open           Closed  \n",
       "102                           Hardware               Open           Closed  \n",
       "126                                NaN               Open             Open  \n",
       "127                                NaN               Open           Closed  \n",
       "\n",
       "[10 rows x 90 columns]"
      ]
     },
     "execution_count": 10,
     "metadata": {},
     "output_type": "execute_result"
    }
   ],
   "source": [
    "print(f\"Models that are not fine-tunes:  {len(open_df.loc[open_df['Base model'].isna()])}\")\n",
    "print(f\"Models that are fine-tunes:  {len(open_df.loc[open_df['Base model'].notna()])}\")\n",
    "open_df.loc[open_df['Base model'].notna()].head(10)"
   ]
  },
  {
   "cell_type": "code",
   "execution_count": 11,
   "metadata": {
    "tags": []
   },
   "outputs": [
    {
     "name": "stdout",
     "output_type": "stream",
     "text": [
      "39\n"
     ]
    },
    {
     "data": {
      "text/html": [
       "<div>\n",
       "<style scoped>\n",
       "    .dataframe tbody tr th:only-of-type {\n",
       "        vertical-align: middle;\n",
       "    }\n",
       "\n",
       "    .dataframe tbody tr th {\n",
       "        vertical-align: top;\n",
       "    }\n",
       "\n",
       "    .dataframe thead th {\n",
       "        text-align: right;\n",
       "    }\n",
       "</style>\n",
       "<table border=\"1\" class=\"dataframe\">\n",
       "  <thead>\n",
       "    <tr style=\"text-align: right;\">\n",
       "      <th></th>\n",
       "      <th>System</th>\n",
       "      <th>Notability criteria</th>\n",
       "    </tr>\n",
       "  </thead>\n",
       "  <tbody>\n",
       "    <tr>\n",
       "      <th>68</th>\n",
       "      <td>BlenderBot 3</td>\n",
       "      <td>SOTA improvement</td>\n",
       "    </tr>\n",
       "    <tr>\n",
       "      <th>77</th>\n",
       "      <td>FunSearch</td>\n",
       "      <td>SOTA improvement,Historical significance</td>\n",
       "    </tr>\n",
       "    <tr>\n",
       "      <th>126</th>\n",
       "      <td>FinGPT-13B</td>\n",
       "      <td>SOTA improvement</td>\n",
       "    </tr>\n",
       "    <tr>\n",
       "      <th>127</th>\n",
       "      <td>Llama Guard</td>\n",
       "      <td>SOTA improvement</td>\n",
       "    </tr>\n",
       "    <tr>\n",
       "      <th>143</th>\n",
       "      <td>OpenVLA</td>\n",
       "      <td>SOTA improvement</td>\n",
       "    </tr>\n",
       "    <tr>\n",
       "      <th>169</th>\n",
       "      <td>CogAgent</td>\n",
       "      <td>SOTA improvement</td>\n",
       "    </tr>\n",
       "    <tr>\n",
       "      <th>175</th>\n",
       "      <td>CogVLM-17B</td>\n",
       "      <td>SOTA improvement</td>\n",
       "    </tr>\n",
       "    <tr>\n",
       "      <th>199</th>\n",
       "      <td>Volcano 13B</td>\n",
       "      <td>SOTA improvement</td>\n",
       "    </tr>\n",
       "    <tr>\n",
       "      <th>200</th>\n",
       "      <td>LLaVA 1.5</td>\n",
       "      <td>SOTA improvement</td>\n",
       "    </tr>\n",
       "    <tr>\n",
       "      <th>229</th>\n",
       "      <td>Flan-T5 11B</td>\n",
       "      <td>Highly cited</td>\n",
       "    </tr>\n",
       "    <tr>\n",
       "      <th>234</th>\n",
       "      <td>SPHINX (Llama 2 13B)</td>\n",
       "      <td>SOTA improvement</td>\n",
       "    </tr>\n",
       "    <tr>\n",
       "      <th>297</th>\n",
       "      <td>VideoMAE V2</td>\n",
       "      <td>SOTA improvement</td>\n",
       "    </tr>\n",
       "    <tr>\n",
       "      <th>305</th>\n",
       "      <td>Segment Anything Model</td>\n",
       "      <td>Highly cited</td>\n",
       "    </tr>\n",
       "    <tr>\n",
       "      <th>332</th>\n",
       "      <td>AlphaFold-Multimer</td>\n",
       "      <td>Highly cited,SOTA improvement</td>\n",
       "    </tr>\n",
       "    <tr>\n",
       "      <th>387</th>\n",
       "      <td>T0-XXL</td>\n",
       "      <td>Highly cited</td>\n",
       "    </tr>\n",
       "    <tr>\n",
       "      <th>412</th>\n",
       "      <td>Masked Autoencoders ViT-H</td>\n",
       "      <td>Highly cited,SOTA improvement</td>\n",
       "    </tr>\n",
       "    <tr>\n",
       "      <th>441</th>\n",
       "      <td>InstructBLIP</td>\n",
       "      <td>SOTA improvement</td>\n",
       "    </tr>\n",
       "    <tr>\n",
       "      <th>449</th>\n",
       "      <td>Contriever</td>\n",
       "      <td>SOTA improvement</td>\n",
       "    </tr>\n",
       "    <tr>\n",
       "      <th>451</th>\n",
       "      <td>BERT-RBP</td>\n",
       "      <td>SOTA improvement</td>\n",
       "    </tr>\n",
       "    <tr>\n",
       "      <th>490</th>\n",
       "      <td>LLaVA</td>\n",
       "      <td>SOTA improvement</td>\n",
       "    </tr>\n",
       "    <tr>\n",
       "      <th>579</th>\n",
       "      <td>Cross-lingual alignment</td>\n",
       "      <td>SOTA improvement</td>\n",
       "    </tr>\n",
       "    <tr>\n",
       "      <th>624</th>\n",
       "      <td>ULM-FiT</td>\n",
       "      <td>Highly cited</td>\n",
       "    </tr>\n",
       "    <tr>\n",
       "      <th>657</th>\n",
       "      <td>PeptideBERT</td>\n",
       "      <td>SOTA improvement</td>\n",
       "    </tr>\n",
       "    <tr>\n",
       "      <th>1016</th>\n",
       "      <td>SSD</td>\n",
       "      <td>Highly cited</td>\n",
       "    </tr>\n",
       "    <tr>\n",
       "      <th>1263</th>\n",
       "      <td>Theseus 6/768</td>\n",
       "      <td>SOTA improvement</td>\n",
       "    </tr>\n",
       "    <tr>\n",
       "      <th>1417</th>\n",
       "      <td>CogVideo</td>\n",
       "      <td>Historical significance</td>\n",
       "    </tr>\n",
       "    <tr>\n",
       "      <th>1464</th>\n",
       "      <td>BLOOMZ-176B</td>\n",
       "      <td>SOTA improvement</td>\n",
       "    </tr>\n",
       "    <tr>\n",
       "      <th>1465</th>\n",
       "      <td>mT0-13B</td>\n",
       "      <td>SOTA improvement</td>\n",
       "    </tr>\n",
       "    <tr>\n",
       "      <th>1466</th>\n",
       "      <td>AltCLIP_M9</td>\n",
       "      <td>SOTA improvement</td>\n",
       "    </tr>\n",
       "    <tr>\n",
       "      <th>1488</th>\n",
       "      <td>Flan T5-XXL + BLIP-2</td>\n",
       "      <td>Highly cited</td>\n",
       "    </tr>\n",
       "    <tr>\n",
       "      <th>1522</th>\n",
       "      <td>CoEdiT-xxl</td>\n",
       "      <td>SOTA improvement</td>\n",
       "    </tr>\n",
       "    <tr>\n",
       "      <th>1531</th>\n",
       "      <td>Goat-7B</td>\n",
       "      <td>SOTA improvement</td>\n",
       "    </tr>\n",
       "    <tr>\n",
       "      <th>1572</th>\n",
       "      <td>Qwen-VL</td>\n",
       "      <td>SOTA improvement</td>\n",
       "    </tr>\n",
       "    <tr>\n",
       "      <th>1586</th>\n",
       "      <td>Ferret (13B)</td>\n",
       "      <td>SOTA improvement</td>\n",
       "    </tr>\n",
       "    <tr>\n",
       "      <th>1596</th>\n",
       "      <td>QMoE: compressed 1T model</td>\n",
       "      <td>SOTA improvement</td>\n",
       "    </tr>\n",
       "    <tr>\n",
       "      <th>1605</th>\n",
       "      <td>BLUUMI</td>\n",
       "      <td>SOTA improvement</td>\n",
       "    </tr>\n",
       "    <tr>\n",
       "      <th>1612</th>\n",
       "      <td>mPLUG-Owl2</td>\n",
       "      <td>SOTA improvement</td>\n",
       "    </tr>\n",
       "    <tr>\n",
       "      <th>1632</th>\n",
       "      <td>SeamlessM4T</td>\n",
       "      <td>SOTA improvement</td>\n",
       "    </tr>\n",
       "    <tr>\n",
       "      <th>1661</th>\n",
       "      <td>Aya</td>\n",
       "      <td>SOTA improvement</td>\n",
       "    </tr>\n",
       "  </tbody>\n",
       "</table>\n",
       "</div>"
      ],
      "text/plain": [
       "                         System                       Notability criteria\n",
       "68                 BlenderBot 3                          SOTA improvement\n",
       "77                    FunSearch  SOTA improvement,Historical significance\n",
       "126                  FinGPT-13B                          SOTA improvement\n",
       "127                 Llama Guard                          SOTA improvement\n",
       "143                     OpenVLA                          SOTA improvement\n",
       "169                    CogAgent                          SOTA improvement\n",
       "175                  CogVLM-17B                          SOTA improvement\n",
       "199                 Volcano 13B                          SOTA improvement\n",
       "200                   LLaVA 1.5                          SOTA improvement\n",
       "229                 Flan-T5 11B                              Highly cited\n",
       "234        SPHINX (Llama 2 13B)                          SOTA improvement\n",
       "297                 VideoMAE V2                          SOTA improvement\n",
       "305      Segment Anything Model                              Highly cited\n",
       "332          AlphaFold-Multimer             Highly cited,SOTA improvement\n",
       "387                      T0-XXL                              Highly cited\n",
       "412   Masked Autoencoders ViT-H             Highly cited,SOTA improvement\n",
       "441                InstructBLIP                          SOTA improvement\n",
       "449                  Contriever                          SOTA improvement\n",
       "451                    BERT-RBP                          SOTA improvement\n",
       "490                       LLaVA                          SOTA improvement\n",
       "579     Cross-lingual alignment                          SOTA improvement\n",
       "624                     ULM-FiT                              Highly cited\n",
       "657                 PeptideBERT                          SOTA improvement\n",
       "1016                        SSD                              Highly cited\n",
       "1263              Theseus 6/768                          SOTA improvement\n",
       "1417                   CogVideo                   Historical significance\n",
       "1464                BLOOMZ-176B                          SOTA improvement\n",
       "1465                    mT0-13B                          SOTA improvement\n",
       "1466                 AltCLIP_M9                          SOTA improvement\n",
       "1488       Flan T5-XXL + BLIP-2                              Highly cited\n",
       "1522                 CoEdiT-xxl                          SOTA improvement\n",
       "1531                    Goat-7B                          SOTA improvement\n",
       "1572                    Qwen-VL                          SOTA improvement\n",
       "1586               Ferret (13B)                          SOTA improvement\n",
       "1596  QMoE: compressed 1T model                          SOTA improvement\n",
       "1605                     BLUUMI                          SOTA improvement\n",
       "1612                 mPLUG-Owl2                          SOTA improvement\n",
       "1632                SeamlessM4T                          SOTA improvement\n",
       "1661                        Aya                          SOTA improvement"
      ]
     },
     "execution_count": 11,
     "metadata": {},
     "output_type": "execute_result"
    }
   ],
   "source": [
    "notable_finetunes = open_df.loc[(open_df['Base model'].notna()) & (open_df['Notability criteria'].notna())]\n",
    "print(len(notable_finetunes))\n",
    "notable_finetunes[['System', 'Notability criteria']]\n",
    "# 33 notable, fine-tuned open models"
   ]
  },
  {
   "cell_type": "markdown",
   "metadata": {},
   "source": [
    "# Open models by domain"
   ]
  },
  {
   "cell_type": "code",
   "execution_count": 12,
   "metadata": {
    "tags": []
   },
   "outputs": [
    {
     "data": {
      "text/plain": [
       "Domain\n",
       "Language                                                    319\n",
       "Biology                                                      47\n",
       "Vision                                                       45\n",
       "Multimodal,Language,Vision                                   14\n",
       "Image generation                                             14\n",
       "Speech                                                        9\n",
       "Language,Vision,Multimodal                                    8\n",
       "Multimodal,Vision,Language                                    5\n",
       "Games                                                         5\n",
       "Vision,Image generation                                       5\n",
       "Audio                                                         3\n",
       "Earth science                                                 3\n",
       "Robotics                                                      2\n",
       "Language,Multimodal,Vision                                    2\n",
       "Video                                                         2\n",
       "Language,Biology                                              2\n",
       "Vision,Language                                               2\n",
       "Vision,Language,Multimodal                                    2\n",
       "Speech,Language                                               1\n",
       "Multimodal,Vision,Audio,Language,Image generation,Speech      1\n",
       "Robotics,Vision,Language                                      1\n",
       "Multimodal,Vision,Speech,Language                             1\n",
       "Multimodal,Vision,Language,Video                              1\n",
       "3D modeling,Vision                                            1\n",
       "Multimodal,Image generation,Vision,Language                   1\n",
       "Multimodal,Video,Robotics,Vision                              1\n",
       "Multimodal,Video                                              1\n",
       "Multimodal,Language,Video,Vision,Speech                       1\n",
       "Multimodal,Language,Audio                                     1\n",
       "Multimodal,Image generation,Language,Vision                   1\n",
       "Mathematics                                                   1\n",
       "Language,Vision                                               1\n",
       "Language,Speech,Audio                                         1\n",
       "Language,Search                                               1\n",
       "Language,Mathematics                                          1\n",
       "Image generation,Vision                                       1\n",
       "Biology,Vision,Language,Medicine                              1\n",
       "Audio,Speech                                                  1\n",
       "Vision,Video                                                  1\n",
       "dtype: int64"
      ]
     },
     "execution_count": 12,
     "metadata": {},
     "output_type": "execute_result"
    }
   ],
   "source": [
    "# all open models by domain\n",
    "open_df.groupby('Domain').size().sort_values(ascending=False)"
   ]
  },
  {
   "cell_type": "code",
   "execution_count": 13,
   "metadata": {},
   "outputs": [
    {
     "data": {
      "text/plain": [
       "Domain\n",
       "Language                                                    107\n",
       "Vision                                                       36\n",
       "Biology                                                      28\n",
       "Multimodal,Language,Vision                                    7\n",
       "Image generation                                              6\n",
       "Vision,Image generation                                       5\n",
       "Speech                                                        5\n",
       "Games                                                         4\n",
       "Vision,Language                                               2\n",
       "Earth science                                                 2\n",
       "Vision,Language,Multimodal                                    2\n",
       "Video                                                         2\n",
       "Audio                                                         2\n",
       "Robotics                                                      2\n",
       "Multimodal,Vision,Language                                    2\n",
       "Multimodal,Vision,Language,Video                              1\n",
       "Speech,Language                                               1\n",
       "Robotics,Vision,Language                                      1\n",
       "Multimodal,Vision,Speech,Language                             1\n",
       "3D modeling,Vision                                            1\n",
       "Multimodal,Vision,Audio,Language,Image generation,Speech      1\n",
       "Multimodal,Video                                              1\n",
       "Mathematics                                                   1\n",
       "Language,Speech,Audio                                         1\n",
       "Language,Search                                               1\n",
       "Language,Multimodal,Vision                                    1\n",
       "Language,Biology                                              1\n",
       "Image generation,Vision                                       1\n",
       "Biology,Vision,Language,Medicine                              1\n",
       "Audio,Speech                                                  1\n",
       "Vision,Video                                                  1\n",
       "dtype: int64"
      ]
     },
     "execution_count": 13,
     "metadata": {},
     "output_type": "execute_result"
    }
   ],
   "source": [
    "# notable open models\n",
    "notable_open_df.groupby('Domain').size().sort_values(ascending=False)"
   ]
  },
  {
   "cell_type": "code",
   "execution_count": 14,
   "metadata": {},
   "outputs": [
    {
     "name": "stdout",
     "output_type": "stream",
     "text": [
      "130/228, or 57.01754385964912% of notable open models are language models\n",
      "129/222, or 58.108108108108105% of notable open models since 2018 are language models\n"
     ]
    }
   ],
   "source": [
    "# Counting language models\n",
    "notable_open_models = len(notable_open_df)\n",
    "\n",
    "# Check if domain field contains \"Language\" since models can have multiple domains\n",
    "notable_LMs = len(notable_open_df[notable_open_df['Domain'].str.contains('Language')])\n",
    "\n",
    "notable_since_2018 = len(notable_open_df[notable_open_df['Publication date'] >= '2018-01-01'])\n",
    "\n",
    "notable_LMs_since_2018 = len(notable_open_df[(notable_open_df['Publication date'] >= '2018-01-01') & (notable_open_df['Domain'].str.contains('Language'))])\n",
    "\n",
    "print(f'{notable_LMs}/{notable_open_models}, or {100*notable_LMs/notable_open_models}% of notable open models are language models')\n",
    "\n",
    "print(f'{notable_LMs_since_2018}/{notable_since_2018}, or {100*notable_LMs_since_2018/notable_since_2018}% of notable open models since 2018 are language models')"
   ]
  },
  {
   "cell_type": "markdown",
   "metadata": {},
   "source": [
    "# Model Accessibility Charts"
   ]
  },
  {
   "cell_type": "code",
   "execution_count": 15,
   "metadata": {},
   "outputs": [],
   "source": [
    "# Add year column\n",
    "access_df['Year'] = pd.to_datetime(access_df['Publication date']).dt.year\n"
   ]
  },
  {
   "cell_type": "code",
   "execution_count": 16,
   "metadata": {
    "tags": []
   },
   "outputs": [],
   "source": [
    "# Input -  model counts, grouped by accessibility and by year\n",
    "# Output - same dataframe with cumulative counts for status\n",
    "\n",
    "def get_cumulative_counts(counts):\n",
    "    \n",
    "    counts['Cumulative for status'] = counts.groupby('Model accessibility')['Count'].cumsum()\n",
    "    \n",
    "    # Pivot the access counts table to get counts for every status and every year\n",
    "    # This will have many NaN values because not every year has a model of every status\n",
    "    counts_wide = counts.pivot(index='Year', columns='Model accessibility', values='Cumulative for status')\n",
    "    all_years = pd.Series(range(int(counts_wide.index.min()), int(counts_wide.index.max()) + 1))\n",
    "    \n",
    "\n",
    "    # Fill NaN values with 0. This ensures that the cumulative count does not get dropped in individual years \n",
    "    # where there are no models with a given status\n",
    "    counts_wide_filled = counts_wide.reindex(all_years).ffill().fillna(0)\n",
    "    counts_wide_filled = counts_wide_filled.reset_index(names=[\"Year\"])\n",
    "    \n",
    "\n",
    "    # Unpivot to get cumulative totals\n",
    "    counts_filled = (counts_wide_filled.melt(id_vars='Year', \n",
    "                                         var_name='Model accessibility', \n",
    "                                         value_name='Cumulative for status')\n",
    "                                   .reset_index(drop=True))\n",
    "\n",
    "    # sort from closed to open\n",
    "    sort_order = ['Unreleased', 'Hosted access (no API)', 'API access', 'Open weights (non-commercial)', 'Open weights (restricted use)', 'Open weights (unrestricted)']\n",
    "    counts_filled['Category_sorted'] = pd.Categorical(counts_filled['Model accessibility'], categories=sort_order, ordered=True)\n",
    "    counts_filled = counts_filled.sort_values(['Category_sorted', 'Year'])\n",
    "\n",
    "    return counts_filled"
   ]
  },
  {
   "cell_type": "code",
   "execution_count": 17,
   "metadata": {},
   "outputs": [
    {
     "data": {
      "application/vnd.plotly.v1+json": {
       "config": {
        "plotlyServerURL": "https://plot.ly"
       },
       "data": [
        {
         "fillpattern": {
          "shape": ""
         },
         "hovertemplate": "Model accessibility=Unreleased<br>Year=%{x}<br>Cumulative Count=%{y}<extra></extra>",
         "legendgroup": "Unreleased",
         "line": {
          "color": "#636efa"
         },
         "marker": {
          "symbol": "circle"
         },
         "mode": "lines",
         "name": "Unreleased",
         "orientation": "v",
         "showlegend": true,
         "stackgroup": "1",
         "type": "scatter",
         "x": [
          2015,
          2016,
          2017,
          2018,
          2019,
          2020,
          2021,
          2022,
          2023,
          2024
         ],
         "xaxis": "x",
         "y": [
          9,
          31,
          67,
          112,
          206,
          261,
          337,
          387,
          434,
          453
         ],
         "yaxis": "y"
        },
        {
         "fillpattern": {
          "shape": ""
         },
         "hovertemplate": "Model accessibility=Hosted access (no API)<br>Year=%{x}<br>Cumulative Count=%{y}<extra></extra>",
         "legendgroup": "Hosted access (no API)",
         "line": {
          "color": "#EF553B"
         },
         "marker": {
          "symbol": "circle"
         },
         "mode": "lines",
         "name": "Hosted access (no API)",
         "orientation": "v",
         "showlegend": true,
         "stackgroup": "1",
         "type": "scatter",
         "x": [
          2015,
          2016,
          2017,
          2018,
          2019,
          2020,
          2021,
          2022,
          2023,
          2024
         ],
         "xaxis": "x",
         "y": [
          0,
          1,
          1,
          1,
          2,
          2,
          4,
          7,
          16,
          28
         ],
         "yaxis": "y"
        },
        {
         "fillpattern": {
          "shape": ""
         },
         "hovertemplate": "Model accessibility=API access<br>Year=%{x}<br>Cumulative Count=%{y}<extra></extra>",
         "legendgroup": "API access",
         "line": {
          "color": "#00cc96"
         },
         "marker": {
          "symbol": "circle"
         },
         "mode": "lines",
         "name": "API access",
         "orientation": "v",
         "showlegend": true,
         "stackgroup": "1",
         "type": "scatter",
         "x": [
          2015,
          2016,
          2017,
          2018,
          2019,
          2020,
          2021,
          2022,
          2023,
          2024
         ],
         "xaxis": "x",
         "y": [
          0,
          0,
          0,
          0,
          0,
          1,
          9,
          16,
          42,
          66
         ],
         "yaxis": "y"
        },
        {
         "fillpattern": {
          "shape": ""
         },
         "hovertemplate": "Model accessibility=Open weights (non-commercial)<br>Year=%{x}<br>Cumulative Count=%{y}<extra></extra>",
         "legendgroup": "Open weights (non-commercial)",
         "line": {
          "color": "#ab63fa"
         },
         "marker": {
          "symbol": "circle"
         },
         "mode": "lines",
         "name": "Open weights (non-commercial)",
         "orientation": "v",
         "showlegend": true,
         "stackgroup": "1",
         "type": "scatter",
         "x": [
          2015,
          2016,
          2017,
          2018,
          2019,
          2020,
          2021,
          2022,
          2023,
          2024
         ],
         "xaxis": "x",
         "y": [
          0,
          2,
          2,
          4,
          15,
          18,
          26,
          46,
          79,
          95
         ],
         "yaxis": "y"
        },
        {
         "fillpattern": {
          "shape": ""
         },
         "hovertemplate": "Model accessibility=Open weights (restricted use)<br>Year=%{x}<br>Cumulative Count=%{y}<extra></extra>",
         "legendgroup": "Open weights (restricted use)",
         "line": {
          "color": "#FFA15A"
         },
         "marker": {
          "symbol": "circle"
         },
         "mode": "lines",
         "name": "Open weights (restricted use)",
         "orientation": "v",
         "showlegend": true,
         "stackgroup": "1",
         "type": "scatter",
         "x": [
          2015,
          2016,
          2017,
          2018,
          2019,
          2020,
          2021,
          2022,
          2023,
          2024
         ],
         "xaxis": "x",
         "y": [
          0,
          0,
          0,
          0,
          0,
          0,
          0,
          10,
          50,
          82
         ],
         "yaxis": "y"
        },
        {
         "fillpattern": {
          "shape": ""
         },
         "hovertemplate": "Model accessibility=Open weights (unrestricted)<br>Year=%{x}<br>Cumulative Count=%{y}<extra></extra>",
         "legendgroup": "Open weights (unrestricted)",
         "line": {
          "color": "#19d3f3"
         },
         "marker": {
          "symbol": "circle"
         },
         "mode": "lines",
         "name": "Open weights (unrestricted)",
         "orientation": "v",
         "showlegend": true,
         "stackgroup": "1",
         "type": "scatter",
         "x": [
          2015,
          2016,
          2017,
          2018,
          2019,
          2020,
          2021,
          2022,
          2023,
          2024
         ],
         "xaxis": "x",
         "y": [
          4,
          6,
          8,
          28,
          64,
          100,
          153,
          201,
          298,
          333
         ],
         "yaxis": "y"
        }
       ],
       "layout": {
        "autosize": false,
        "height": 600,
        "legend": {
         "title": {
          "text": "Model accessibility"
         },
         "tracegroupgap": 0
        },
        "template": {
         "data": {
          "bar": [
           {
            "error_x": {
             "color": "#2a3f5f"
            },
            "error_y": {
             "color": "#2a3f5f"
            },
            "marker": {
             "line": {
              "color": "#E5ECF6",
              "width": 0.5
             },
             "pattern": {
              "fillmode": "overlay",
              "size": 10,
              "solidity": 0.2
             }
            },
            "type": "bar"
           }
          ],
          "barpolar": [
           {
            "marker": {
             "line": {
              "color": "#E5ECF6",
              "width": 0.5
             },
             "pattern": {
              "fillmode": "overlay",
              "size": 10,
              "solidity": 0.2
             }
            },
            "type": "barpolar"
           }
          ],
          "carpet": [
           {
            "aaxis": {
             "endlinecolor": "#2a3f5f",
             "gridcolor": "white",
             "linecolor": "white",
             "minorgridcolor": "white",
             "startlinecolor": "#2a3f5f"
            },
            "baxis": {
             "endlinecolor": "#2a3f5f",
             "gridcolor": "white",
             "linecolor": "white",
             "minorgridcolor": "white",
             "startlinecolor": "#2a3f5f"
            },
            "type": "carpet"
           }
          ],
          "choropleth": [
           {
            "colorbar": {
             "outlinewidth": 0,
             "ticks": ""
            },
            "type": "choropleth"
           }
          ],
          "contour": [
           {
            "colorbar": {
             "outlinewidth": 0,
             "ticks": ""
            },
            "colorscale": [
             [
              0,
              "#0d0887"
             ],
             [
              0.1111111111111111,
              "#46039f"
             ],
             [
              0.2222222222222222,
              "#7201a8"
             ],
             [
              0.3333333333333333,
              "#9c179e"
             ],
             [
              0.4444444444444444,
              "#bd3786"
             ],
             [
              0.5555555555555556,
              "#d8576b"
             ],
             [
              0.6666666666666666,
              "#ed7953"
             ],
             [
              0.7777777777777778,
              "#fb9f3a"
             ],
             [
              0.8888888888888888,
              "#fdca26"
             ],
             [
              1,
              "#f0f921"
             ]
            ],
            "type": "contour"
           }
          ],
          "contourcarpet": [
           {
            "colorbar": {
             "outlinewidth": 0,
             "ticks": ""
            },
            "type": "contourcarpet"
           }
          ],
          "heatmap": [
           {
            "colorbar": {
             "outlinewidth": 0,
             "ticks": ""
            },
            "colorscale": [
             [
              0,
              "#0d0887"
             ],
             [
              0.1111111111111111,
              "#46039f"
             ],
             [
              0.2222222222222222,
              "#7201a8"
             ],
             [
              0.3333333333333333,
              "#9c179e"
             ],
             [
              0.4444444444444444,
              "#bd3786"
             ],
             [
              0.5555555555555556,
              "#d8576b"
             ],
             [
              0.6666666666666666,
              "#ed7953"
             ],
             [
              0.7777777777777778,
              "#fb9f3a"
             ],
             [
              0.8888888888888888,
              "#fdca26"
             ],
             [
              1,
              "#f0f921"
             ]
            ],
            "type": "heatmap"
           }
          ],
          "heatmapgl": [
           {
            "colorbar": {
             "outlinewidth": 0,
             "ticks": ""
            },
            "colorscale": [
             [
              0,
              "#0d0887"
             ],
             [
              0.1111111111111111,
              "#46039f"
             ],
             [
              0.2222222222222222,
              "#7201a8"
             ],
             [
              0.3333333333333333,
              "#9c179e"
             ],
             [
              0.4444444444444444,
              "#bd3786"
             ],
             [
              0.5555555555555556,
              "#d8576b"
             ],
             [
              0.6666666666666666,
              "#ed7953"
             ],
             [
              0.7777777777777778,
              "#fb9f3a"
             ],
             [
              0.8888888888888888,
              "#fdca26"
             ],
             [
              1,
              "#f0f921"
             ]
            ],
            "type": "heatmapgl"
           }
          ],
          "histogram": [
           {
            "marker": {
             "pattern": {
              "fillmode": "overlay",
              "size": 10,
              "solidity": 0.2
             }
            },
            "type": "histogram"
           }
          ],
          "histogram2d": [
           {
            "colorbar": {
             "outlinewidth": 0,
             "ticks": ""
            },
            "colorscale": [
             [
              0,
              "#0d0887"
             ],
             [
              0.1111111111111111,
              "#46039f"
             ],
             [
              0.2222222222222222,
              "#7201a8"
             ],
             [
              0.3333333333333333,
              "#9c179e"
             ],
             [
              0.4444444444444444,
              "#bd3786"
             ],
             [
              0.5555555555555556,
              "#d8576b"
             ],
             [
              0.6666666666666666,
              "#ed7953"
             ],
             [
              0.7777777777777778,
              "#fb9f3a"
             ],
             [
              0.8888888888888888,
              "#fdca26"
             ],
             [
              1,
              "#f0f921"
             ]
            ],
            "type": "histogram2d"
           }
          ],
          "histogram2dcontour": [
           {
            "colorbar": {
             "outlinewidth": 0,
             "ticks": ""
            },
            "colorscale": [
             [
              0,
              "#0d0887"
             ],
             [
              0.1111111111111111,
              "#46039f"
             ],
             [
              0.2222222222222222,
              "#7201a8"
             ],
             [
              0.3333333333333333,
              "#9c179e"
             ],
             [
              0.4444444444444444,
              "#bd3786"
             ],
             [
              0.5555555555555556,
              "#d8576b"
             ],
             [
              0.6666666666666666,
              "#ed7953"
             ],
             [
              0.7777777777777778,
              "#fb9f3a"
             ],
             [
              0.8888888888888888,
              "#fdca26"
             ],
             [
              1,
              "#f0f921"
             ]
            ],
            "type": "histogram2dcontour"
           }
          ],
          "mesh3d": [
           {
            "colorbar": {
             "outlinewidth": 0,
             "ticks": ""
            },
            "type": "mesh3d"
           }
          ],
          "parcoords": [
           {
            "line": {
             "colorbar": {
              "outlinewidth": 0,
              "ticks": ""
             }
            },
            "type": "parcoords"
           }
          ],
          "pie": [
           {
            "automargin": true,
            "type": "pie"
           }
          ],
          "scatter": [
           {
            "fillpattern": {
             "fillmode": "overlay",
             "size": 10,
             "solidity": 0.2
            },
            "type": "scatter"
           }
          ],
          "scatter3d": [
           {
            "line": {
             "colorbar": {
              "outlinewidth": 0,
              "ticks": ""
             }
            },
            "marker": {
             "colorbar": {
              "outlinewidth": 0,
              "ticks": ""
             }
            },
            "type": "scatter3d"
           }
          ],
          "scattercarpet": [
           {
            "marker": {
             "colorbar": {
              "outlinewidth": 0,
              "ticks": ""
             }
            },
            "type": "scattercarpet"
           }
          ],
          "scattergeo": [
           {
            "marker": {
             "colorbar": {
              "outlinewidth": 0,
              "ticks": ""
             }
            },
            "type": "scattergeo"
           }
          ],
          "scattergl": [
           {
            "marker": {
             "colorbar": {
              "outlinewidth": 0,
              "ticks": ""
             }
            },
            "type": "scattergl"
           }
          ],
          "scattermapbox": [
           {
            "marker": {
             "colorbar": {
              "outlinewidth": 0,
              "ticks": ""
             }
            },
            "type": "scattermapbox"
           }
          ],
          "scatterpolar": [
           {
            "marker": {
             "colorbar": {
              "outlinewidth": 0,
              "ticks": ""
             }
            },
            "type": "scatterpolar"
           }
          ],
          "scatterpolargl": [
           {
            "marker": {
             "colorbar": {
              "outlinewidth": 0,
              "ticks": ""
             }
            },
            "type": "scatterpolargl"
           }
          ],
          "scatterternary": [
           {
            "marker": {
             "colorbar": {
              "outlinewidth": 0,
              "ticks": ""
             }
            },
            "type": "scatterternary"
           }
          ],
          "surface": [
           {
            "colorbar": {
             "outlinewidth": 0,
             "ticks": ""
            },
            "colorscale": [
             [
              0,
              "#0d0887"
             ],
             [
              0.1111111111111111,
              "#46039f"
             ],
             [
              0.2222222222222222,
              "#7201a8"
             ],
             [
              0.3333333333333333,
              "#9c179e"
             ],
             [
              0.4444444444444444,
              "#bd3786"
             ],
             [
              0.5555555555555556,
              "#d8576b"
             ],
             [
              0.6666666666666666,
              "#ed7953"
             ],
             [
              0.7777777777777778,
              "#fb9f3a"
             ],
             [
              0.8888888888888888,
              "#fdca26"
             ],
             [
              1,
              "#f0f921"
             ]
            ],
            "type": "surface"
           }
          ],
          "table": [
           {
            "cells": {
             "fill": {
              "color": "#EBF0F8"
             },
             "line": {
              "color": "white"
             }
            },
            "header": {
             "fill": {
              "color": "#C8D4E3"
             },
             "line": {
              "color": "white"
             }
            },
            "type": "table"
           }
          ]
         },
         "layout": {
          "annotationdefaults": {
           "arrowcolor": "#2a3f5f",
           "arrowhead": 0,
           "arrowwidth": 1
          },
          "autotypenumbers": "strict",
          "coloraxis": {
           "colorbar": {
            "outlinewidth": 0,
            "ticks": ""
           }
          },
          "colorscale": {
           "diverging": [
            [
             0,
             "#8e0152"
            ],
            [
             0.1,
             "#c51b7d"
            ],
            [
             0.2,
             "#de77ae"
            ],
            [
             0.3,
             "#f1b6da"
            ],
            [
             0.4,
             "#fde0ef"
            ],
            [
             0.5,
             "#f7f7f7"
            ],
            [
             0.6,
             "#e6f5d0"
            ],
            [
             0.7,
             "#b8e186"
            ],
            [
             0.8,
             "#7fbc41"
            ],
            [
             0.9,
             "#4d9221"
            ],
            [
             1,
             "#276419"
            ]
           ],
           "sequential": [
            [
             0,
             "#0d0887"
            ],
            [
             0.1111111111111111,
             "#46039f"
            ],
            [
             0.2222222222222222,
             "#7201a8"
            ],
            [
             0.3333333333333333,
             "#9c179e"
            ],
            [
             0.4444444444444444,
             "#bd3786"
            ],
            [
             0.5555555555555556,
             "#d8576b"
            ],
            [
             0.6666666666666666,
             "#ed7953"
            ],
            [
             0.7777777777777778,
             "#fb9f3a"
            ],
            [
             0.8888888888888888,
             "#fdca26"
            ],
            [
             1,
             "#f0f921"
            ]
           ],
           "sequentialminus": [
            [
             0,
             "#0d0887"
            ],
            [
             0.1111111111111111,
             "#46039f"
            ],
            [
             0.2222222222222222,
             "#7201a8"
            ],
            [
             0.3333333333333333,
             "#9c179e"
            ],
            [
             0.4444444444444444,
             "#bd3786"
            ],
            [
             0.5555555555555556,
             "#d8576b"
            ],
            [
             0.6666666666666666,
             "#ed7953"
            ],
            [
             0.7777777777777778,
             "#fb9f3a"
            ],
            [
             0.8888888888888888,
             "#fdca26"
            ],
            [
             1,
             "#f0f921"
            ]
           ]
          },
          "colorway": [
           "#636efa",
           "#EF553B",
           "#00cc96",
           "#ab63fa",
           "#FFA15A",
           "#19d3f3",
           "#FF6692",
           "#B6E880",
           "#FF97FF",
           "#FECB52"
          ],
          "font": {
           "color": "#2a3f5f"
          },
          "geo": {
           "bgcolor": "white",
           "lakecolor": "white",
           "landcolor": "#E5ECF6",
           "showlakes": true,
           "showland": true,
           "subunitcolor": "white"
          },
          "hoverlabel": {
           "align": "left"
          },
          "hovermode": "closest",
          "mapbox": {
           "style": "light"
          },
          "paper_bgcolor": "white",
          "plot_bgcolor": "#E5ECF6",
          "polar": {
           "angularaxis": {
            "gridcolor": "white",
            "linecolor": "white",
            "ticks": ""
           },
           "bgcolor": "#E5ECF6",
           "radialaxis": {
            "gridcolor": "white",
            "linecolor": "white",
            "ticks": ""
           }
          },
          "scene": {
           "xaxis": {
            "backgroundcolor": "#E5ECF6",
            "gridcolor": "white",
            "gridwidth": 2,
            "linecolor": "white",
            "showbackground": true,
            "ticks": "",
            "zerolinecolor": "white"
           },
           "yaxis": {
            "backgroundcolor": "#E5ECF6",
            "gridcolor": "white",
            "gridwidth": 2,
            "linecolor": "white",
            "showbackground": true,
            "ticks": "",
            "zerolinecolor": "white"
           },
           "zaxis": {
            "backgroundcolor": "#E5ECF6",
            "gridcolor": "white",
            "gridwidth": 2,
            "linecolor": "white",
            "showbackground": true,
            "ticks": "",
            "zerolinecolor": "white"
           }
          },
          "shapedefaults": {
           "line": {
            "color": "#2a3f5f"
           }
          },
          "ternary": {
           "aaxis": {
            "gridcolor": "white",
            "linecolor": "white",
            "ticks": ""
           },
           "baxis": {
            "gridcolor": "white",
            "linecolor": "white",
            "ticks": ""
           },
           "bgcolor": "#E5ECF6",
           "caxis": {
            "gridcolor": "white",
            "linecolor": "white",
            "ticks": ""
           }
          },
          "title": {
           "x": 0.05
          },
          "xaxis": {
           "automargin": true,
           "gridcolor": "white",
           "linecolor": "white",
           "ticks": "",
           "title": {
            "standoff": 15
           },
           "zerolinecolor": "white",
           "zerolinewidth": 2
          },
          "yaxis": {
           "automargin": true,
           "gridcolor": "white",
           "linecolor": "white",
           "ticks": "",
           "title": {
            "standoff": 15
           },
           "zerolinecolor": "white",
           "zerolinewidth": 2
          }
         }
        },
        "title": {
         "text": "Model count by accessibility over time",
         "x": 0.2
        },
        "width": 800,
        "xaxis": {
         "anchor": "y",
         "domain": [
          0,
          1
         ],
         "title": {
          "text": "Year"
         }
        },
        "yaxis": {
         "anchor": "x",
         "domain": [
          0,
          1
         ],
         "title": {
          "text": "Cumulative Count"
         }
        }
       }
      }
     },
     "metadata": {},
     "output_type": "display_data"
    }
   ],
   "source": [
    "# Get counts of all models by year and model accessibility\n",
    "# Only include 2015 and later because older models are rare\n",
    "access_counts = access_df.loc[access_df['Year'] >= 2015].groupby(['Year', 'Model accessibility']).size().reset_index(name='Count')\n",
    "\n",
    "cumulative_access_counts = get_cumulative_counts(access_counts)\n",
    "\n",
    "# Cumulative area chart\n",
    "fig = px.area(cumulative_access_counts, x='Year', y='Cumulative for status', color='Model accessibility', line_group='Model accessibility',\n",
    "              labels={'Cumulative for status': 'Cumulative Count', 'Year': 'Year'},\n",
    "              title='Model count by accessibility over time')\n",
    "\n",
    "fig.update_layout(\n",
    "    autosize=False,\n",
    "    width=800,\n",
    "    height=600,\n",
    "    title_x=0.2,\n",
    ")\n",
    "\n",
    "# save_plot(fig, results_dir, f'cumulative_model_count_by_accessibility')\n",
    "\n",
    "fig.show()"
   ]
  },
  {
   "cell_type": "markdown",
   "metadata": {},
   "source": [
    "Commentary: around half of models are unreleased as of 2024, but the proportion has been shrinking over time. Before 2018 or so, releasing model weights was rare (academic projects often shared training code, but not weights)"
   ]
  },
  {
   "cell_type": "code",
   "execution_count": 18,
   "metadata": {},
   "outputs": [],
   "source": [
    "notable_df = access_df.loc[(access_df['Notability criteria'].notna())]\n",
    "\n",
    "# Get counts of notable models by year and model accessibility\n",
    "# Only include 2015 and later because older models are rare\n",
    "notable_counts = notable_df.loc[access_df['Year'] >= 2015].groupby(['Year', 'Model accessibility']).size().reset_index(name='Count')\n",
    "\n",
    "cumulative_notable_counts = get_cumulative_counts(notable_counts)"
   ]
  },
  {
   "cell_type": "code",
   "execution_count": 19,
   "metadata": {},
   "outputs": [
    {
     "data": {
      "text/html": [
       "<div>\n",
       "<style scoped>\n",
       "    .dataframe tbody tr th:only-of-type {\n",
       "        vertical-align: middle;\n",
       "    }\n",
       "\n",
       "    .dataframe tbody tr th {\n",
       "        vertical-align: top;\n",
       "    }\n",
       "\n",
       "    .dataframe thead th {\n",
       "        text-align: right;\n",
       "    }\n",
       "</style>\n",
       "<table border=\"1\" class=\"dataframe\">\n",
       "  <thead>\n",
       "    <tr style=\"text-align: right;\">\n",
       "      <th>Model accessibility</th>\n",
       "      <th>Unreleased</th>\n",
       "      <th>Hosted access (no API)</th>\n",
       "      <th>API access</th>\n",
       "      <th>Open weights (non-commercial)</th>\n",
       "      <th>Open weights (restricted use)</th>\n",
       "      <th>Open weights (unrestricted)</th>\n",
       "    </tr>\n",
       "    <tr>\n",
       "      <th>Year</th>\n",
       "      <th></th>\n",
       "      <th></th>\n",
       "      <th></th>\n",
       "      <th></th>\n",
       "      <th></th>\n",
       "      <th></th>\n",
       "    </tr>\n",
       "  </thead>\n",
       "  <tbody>\n",
       "    <tr>\n",
       "      <th>2015</th>\n",
       "      <td>7.0</td>\n",
       "      <td>0.0</td>\n",
       "      <td>0.0</td>\n",
       "      <td>0.0</td>\n",
       "      <td>0.0</td>\n",
       "      <td>2.0</td>\n",
       "    </tr>\n",
       "    <tr>\n",
       "      <th>2016</th>\n",
       "      <td>10.0</td>\n",
       "      <td>1.0</td>\n",
       "      <td>0.0</td>\n",
       "      <td>2.0</td>\n",
       "      <td>0.0</td>\n",
       "      <td>1.0</td>\n",
       "    </tr>\n",
       "    <tr>\n",
       "      <th>2017</th>\n",
       "      <td>19.0</td>\n",
       "      <td>0.0</td>\n",
       "      <td>0.0</td>\n",
       "      <td>0.0</td>\n",
       "      <td>0.0</td>\n",
       "      <td>1.0</td>\n",
       "    </tr>\n",
       "    <tr>\n",
       "      <th>2018</th>\n",
       "      <td>24.0</td>\n",
       "      <td>0.0</td>\n",
       "      <td>0.0</td>\n",
       "      <td>1.0</td>\n",
       "      <td>0.0</td>\n",
       "      <td>10.0</td>\n",
       "    </tr>\n",
       "    <tr>\n",
       "      <th>2019</th>\n",
       "      <td>36.0</td>\n",
       "      <td>0.0</td>\n",
       "      <td>0.0</td>\n",
       "      <td>9.0</td>\n",
       "      <td>0.0</td>\n",
       "      <td>31.0</td>\n",
       "    </tr>\n",
       "    <tr>\n",
       "      <th>2020</th>\n",
       "      <td>21.0</td>\n",
       "      <td>0.0</td>\n",
       "      <td>1.0</td>\n",
       "      <td>1.0</td>\n",
       "      <td>0.0</td>\n",
       "      <td>32.0</td>\n",
       "    </tr>\n",
       "    <tr>\n",
       "      <th>2021</th>\n",
       "      <td>20.0</td>\n",
       "      <td>2.0</td>\n",
       "      <td>5.0</td>\n",
       "      <td>5.0</td>\n",
       "      <td>0.0</td>\n",
       "      <td>31.0</td>\n",
       "    </tr>\n",
       "    <tr>\n",
       "      <th>2022</th>\n",
       "      <td>22.0</td>\n",
       "      <td>0.0</td>\n",
       "      <td>5.0</td>\n",
       "      <td>10.0</td>\n",
       "      <td>2.0</td>\n",
       "      <td>25.0</td>\n",
       "    </tr>\n",
       "    <tr>\n",
       "      <th>2023</th>\n",
       "      <td>14.0</td>\n",
       "      <td>1.0</td>\n",
       "      <td>12.0</td>\n",
       "      <td>15.0</td>\n",
       "      <td>17.0</td>\n",
       "      <td>20.0</td>\n",
       "    </tr>\n",
       "    <tr>\n",
       "      <th>2024</th>\n",
       "      <td>8.0</td>\n",
       "      <td>3.0</td>\n",
       "      <td>10.0</td>\n",
       "      <td>1.0</td>\n",
       "      <td>5.0</td>\n",
       "      <td>7.0</td>\n",
       "    </tr>\n",
       "  </tbody>\n",
       "</table>\n",
       "</div>"
      ],
      "text/plain": [
       "Model accessibility  Unreleased  Hosted access (no API)  API access  \\\n",
       "Year                                                                  \n",
       "2015                        7.0                     0.0         0.0   \n",
       "2016                       10.0                     1.0         0.0   \n",
       "2017                       19.0                     0.0         0.0   \n",
       "2018                       24.0                     0.0         0.0   \n",
       "2019                       36.0                     0.0         0.0   \n",
       "2020                       21.0                     0.0         1.0   \n",
       "2021                       20.0                     2.0         5.0   \n",
       "2022                       22.0                     0.0         5.0   \n",
       "2023                       14.0                     1.0        12.0   \n",
       "2024                        8.0                     3.0        10.0   \n",
       "\n",
       "Model accessibility  Open weights (non-commercial)  \\\n",
       "Year                                                 \n",
       "2015                                           0.0   \n",
       "2016                                           2.0   \n",
       "2017                                           0.0   \n",
       "2018                                           1.0   \n",
       "2019                                           9.0   \n",
       "2020                                           1.0   \n",
       "2021                                           5.0   \n",
       "2022                                          10.0   \n",
       "2023                                          15.0   \n",
       "2024                                           1.0   \n",
       "\n",
       "Model accessibility  Open weights (restricted use)  \\\n",
       "Year                                                 \n",
       "2015                                           0.0   \n",
       "2016                                           0.0   \n",
       "2017                                           0.0   \n",
       "2018                                           0.0   \n",
       "2019                                           0.0   \n",
       "2020                                           0.0   \n",
       "2021                                           0.0   \n",
       "2022                                           2.0   \n",
       "2023                                          17.0   \n",
       "2024                                           5.0   \n",
       "\n",
       "Model accessibility  Open weights (unrestricted)  \n",
       "Year                                              \n",
       "2015                                         2.0  \n",
       "2016                                         1.0  \n",
       "2017                                         1.0  \n",
       "2018                                        10.0  \n",
       "2019                                        31.0  \n",
       "2020                                        32.0  \n",
       "2021                                        31.0  \n",
       "2022                                        25.0  \n",
       "2023                                        20.0  \n",
       "2024                                         7.0  "
      ]
     },
     "execution_count": 19,
     "metadata": {},
     "output_type": "execute_result"
    }
   ],
   "source": [
    "notable_counts.head(10)\n",
    "\n",
    "notable_counts_year_pivot = notable_counts.pivot(index='Year', columns='Model accessibility', values='Count').fillna(0)\n",
    "notable_counts_year_pivot = notable_counts_year_pivot[['Unreleased', 'Hosted access (no API)', 'API access',\n",
    "                                                      'Open weights (non-commercial)', \n",
    "                                                       'Open weights (restricted use)', 'Open weights (unrestricted)']]\n",
    "\n",
    "notable_counts_year_pivot"
   ]
  },
  {
   "cell_type": "code",
   "execution_count": 20,
   "metadata": {},
   "outputs": [
    {
     "data": {
      "image/png": "[encoded data removed]",
      "text/plain": [
       "<Figure size 1200x600 with 1 Axes>"
      ]
     },
     "metadata": {},
     "output_type": "display_data"
    }
   ],
   "source": [
    "fig, ax = plt.subplots(figsize=(12, 6))\n",
    "colors = ['#8B0000', '#FF0000', '#FF6666', '#00008B', '#0000FF', '#6666FF']\n",
    "notable_counts_year_pivot.plot(kind='bar', stacked=True, ax=ax, color=colors)\n",
    "\n",
    "plt.title('Notable models by model accessibility', fontsize=16)\n",
    "plt.xlabel('Year', fontsize=12)\n",
    "plt.ylabel('Number of Models', fontsize=12)\n",
    "\n",
    "\n",
    "# Adjust layout and display the plot\n",
    "plt.tight_layout()\n",
    "plt.show()"
   ]
  },
  {
   "cell_type": "code",
   "execution_count": 21,
   "metadata": {},
   "outputs": [
    {
     "data": {
      "text/html": [
       "<div>\n",
       "<style scoped>\n",
       "    .dataframe tbody tr th:only-of-type {\n",
       "        vertical-align: middle;\n",
       "    }\n",
       "\n",
       "    .dataframe tbody tr th {\n",
       "        vertical-align: top;\n",
       "    }\n",
       "\n",
       "    .dataframe thead th {\n",
       "        text-align: right;\n",
       "    }\n",
       "</style>\n",
       "<table border=\"1\" class=\"dataframe\">\n",
       "  <thead>\n",
       "    <tr style=\"text-align: right;\">\n",
       "      <th></th>\n",
       "      <th>Year</th>\n",
       "      <th>Unreleased</th>\n",
       "      <th>Hosted access (no API)</th>\n",
       "      <th>API access</th>\n",
       "      <th>Open weights (non-commercial)</th>\n",
       "      <th>Open weights (restricted use)</th>\n",
       "      <th>Open weights (unrestricted)</th>\n",
       "      <th>Yearly Total</th>\n",
       "    </tr>\n",
       "  </thead>\n",
       "  <tbody>\n",
       "    <tr>\n",
       "      <th>0</th>\n",
       "      <td>2015</td>\n",
       "      <td>7.0</td>\n",
       "      <td>0.0</td>\n",
       "      <td>0.0</td>\n",
       "      <td>0.0</td>\n",
       "      <td>0.0</td>\n",
       "      <td>2.0</td>\n",
       "      <td>9</td>\n",
       "    </tr>\n",
       "    <tr>\n",
       "      <th>1</th>\n",
       "      <td>2016</td>\n",
       "      <td>10.0</td>\n",
       "      <td>1.0</td>\n",
       "      <td>0.0</td>\n",
       "      <td>2.0</td>\n",
       "      <td>0.0</td>\n",
       "      <td>1.0</td>\n",
       "      <td>14</td>\n",
       "    </tr>\n",
       "    <tr>\n",
       "      <th>2</th>\n",
       "      <td>2017</td>\n",
       "      <td>19.0</td>\n",
       "      <td>0.0</td>\n",
       "      <td>0.0</td>\n",
       "      <td>0.0</td>\n",
       "      <td>0.0</td>\n",
       "      <td>1.0</td>\n",
       "      <td>20</td>\n",
       "    </tr>\n",
       "    <tr>\n",
       "      <th>3</th>\n",
       "      <td>2018</td>\n",
       "      <td>24.0</td>\n",
       "      <td>0.0</td>\n",
       "      <td>0.0</td>\n",
       "      <td>1.0</td>\n",
       "      <td>0.0</td>\n",
       "      <td>10.0</td>\n",
       "      <td>35</td>\n",
       "    </tr>\n",
       "    <tr>\n",
       "      <th>4</th>\n",
       "      <td>2019</td>\n",
       "      <td>36.0</td>\n",
       "      <td>0.0</td>\n",
       "      <td>0.0</td>\n",
       "      <td>9.0</td>\n",
       "      <td>0.0</td>\n",
       "      <td>31.0</td>\n",
       "      <td>76</td>\n",
       "    </tr>\n",
       "    <tr>\n",
       "      <th>5</th>\n",
       "      <td>2020</td>\n",
       "      <td>21.0</td>\n",
       "      <td>0.0</td>\n",
       "      <td>1.0</td>\n",
       "      <td>1.0</td>\n",
       "      <td>0.0</td>\n",
       "      <td>32.0</td>\n",
       "      <td>55</td>\n",
       "    </tr>\n",
       "    <tr>\n",
       "      <th>6</th>\n",
       "      <td>2021</td>\n",
       "      <td>20.0</td>\n",
       "      <td>2.0</td>\n",
       "      <td>5.0</td>\n",
       "      <td>5.0</td>\n",
       "      <td>0.0</td>\n",
       "      <td>31.0</td>\n",
       "      <td>63</td>\n",
       "    </tr>\n",
       "    <tr>\n",
       "      <th>7</th>\n",
       "      <td>2022</td>\n",
       "      <td>22.0</td>\n",
       "      <td>0.0</td>\n",
       "      <td>5.0</td>\n",
       "      <td>10.0</td>\n",
       "      <td>2.0</td>\n",
       "      <td>25.0</td>\n",
       "      <td>64</td>\n",
       "    </tr>\n",
       "    <tr>\n",
       "      <th>8</th>\n",
       "      <td>2023</td>\n",
       "      <td>14.0</td>\n",
       "      <td>1.0</td>\n",
       "      <td>12.0</td>\n",
       "      <td>15.0</td>\n",
       "      <td>17.0</td>\n",
       "      <td>20.0</td>\n",
       "      <td>79</td>\n",
       "    </tr>\n",
       "    <tr>\n",
       "      <th>9</th>\n",
       "      <td>2024</td>\n",
       "      <td>8.0</td>\n",
       "      <td>3.0</td>\n",
       "      <td>10.0</td>\n",
       "      <td>1.0</td>\n",
       "      <td>5.0</td>\n",
       "      <td>7.0</td>\n",
       "      <td>34</td>\n",
       "    </tr>\n",
       "  </tbody>\n",
       "</table>\n",
       "</div>"
      ],
      "text/plain": [
       "   Year  Unreleased  Hosted access (no API)  API access  \\\n",
       "0  2015         7.0                     0.0         0.0   \n",
       "1  2016        10.0                     1.0         0.0   \n",
       "2  2017        19.0                     0.0         0.0   \n",
       "3  2018        24.0                     0.0         0.0   \n",
       "4  2019        36.0                     0.0         0.0   \n",
       "5  2020        21.0                     0.0         1.0   \n",
       "6  2021        20.0                     2.0         5.0   \n",
       "7  2022        22.0                     0.0         5.0   \n",
       "8  2023        14.0                     1.0        12.0   \n",
       "9  2024         8.0                     3.0        10.0   \n",
       "\n",
       "   Open weights (non-commercial)  Open weights (restricted use)  \\\n",
       "0                            0.0                            0.0   \n",
       "1                            2.0                            0.0   \n",
       "2                            0.0                            0.0   \n",
       "3                            1.0                            0.0   \n",
       "4                            9.0                            0.0   \n",
       "5                            1.0                            0.0   \n",
       "6                            5.0                            0.0   \n",
       "7                           10.0                            2.0   \n",
       "8                           15.0                           17.0   \n",
       "9                            1.0                            5.0   \n",
       "\n",
       "   Open weights (unrestricted)  Yearly Total  \n",
       "0                          2.0             9  \n",
       "1                          1.0            14  \n",
       "2                          1.0            20  \n",
       "3                         10.0            35  \n",
       "4                         31.0            76  \n",
       "5                         32.0            55  \n",
       "6                         31.0            63  \n",
       "7                         25.0            64  \n",
       "8                         20.0            79  \n",
       "9                          7.0            34  "
      ]
     },
     "execution_count": 21,
     "metadata": {},
     "output_type": "execute_result"
    }
   ],
   "source": [
    "# get yearly totals, then join with existing data so we can find the relative proportions per year\n",
    "notable_counts_yearly_total = notable_counts.groupby('Year')['Count'].sum().reset_index(name='Yearly Total')\n",
    "\n",
    "notable_counts_year_pivot_totals = pd.merge(notable_counts_year_pivot, notable_counts_yearly_total, on='Year')\n",
    "notable_counts_year_pivot_totals"
   ]
  },
  {
   "cell_type": "code",
   "execution_count": 22,
   "metadata": {},
   "outputs": [
    {
     "data": {
      "text/html": [
       "<div>\n",
       "<style scoped>\n",
       "    .dataframe tbody tr th:only-of-type {\n",
       "        vertical-align: middle;\n",
       "    }\n",
       "\n",
       "    .dataframe tbody tr th {\n",
       "        vertical-align: top;\n",
       "    }\n",
       "\n",
       "    .dataframe thead th {\n",
       "        text-align: right;\n",
       "    }\n",
       "</style>\n",
       "<table border=\"1\" class=\"dataframe\">\n",
       "  <thead>\n",
       "    <tr style=\"text-align: right;\">\n",
       "      <th></th>\n",
       "      <th>Year</th>\n",
       "      <th>Unreleased</th>\n",
       "      <th>Hosted access (no API)</th>\n",
       "      <th>API access</th>\n",
       "      <th>Open weights (non-commercial)</th>\n",
       "      <th>Open weights (restricted use)</th>\n",
       "      <th>Open weights (unrestricted)</th>\n",
       "    </tr>\n",
       "  </thead>\n",
       "  <tbody>\n",
       "    <tr>\n",
       "      <th>0</th>\n",
       "      <td>2015</td>\n",
       "      <td>0.777778</td>\n",
       "      <td>0.000000</td>\n",
       "      <td>0.000000</td>\n",
       "      <td>0.000000</td>\n",
       "      <td>0.000000</td>\n",
       "      <td>0.222222</td>\n",
       "    </tr>\n",
       "    <tr>\n",
       "      <th>1</th>\n",
       "      <td>2016</td>\n",
       "      <td>0.714286</td>\n",
       "      <td>0.071429</td>\n",
       "      <td>0.000000</td>\n",
       "      <td>0.142857</td>\n",
       "      <td>0.000000</td>\n",
       "      <td>0.071429</td>\n",
       "    </tr>\n",
       "    <tr>\n",
       "      <th>2</th>\n",
       "      <td>2017</td>\n",
       "      <td>0.950000</td>\n",
       "      <td>0.000000</td>\n",
       "      <td>0.000000</td>\n",
       "      <td>0.000000</td>\n",
       "      <td>0.000000</td>\n",
       "      <td>0.050000</td>\n",
       "    </tr>\n",
       "    <tr>\n",
       "      <th>3</th>\n",
       "      <td>2018</td>\n",
       "      <td>0.685714</td>\n",
       "      <td>0.000000</td>\n",
       "      <td>0.000000</td>\n",
       "      <td>0.028571</td>\n",
       "      <td>0.000000</td>\n",
       "      <td>0.285714</td>\n",
       "    </tr>\n",
       "    <tr>\n",
       "      <th>4</th>\n",
       "      <td>2019</td>\n",
       "      <td>0.473684</td>\n",
       "      <td>0.000000</td>\n",
       "      <td>0.000000</td>\n",
       "      <td>0.118421</td>\n",
       "      <td>0.000000</td>\n",
       "      <td>0.407895</td>\n",
       "    </tr>\n",
       "    <tr>\n",
       "      <th>5</th>\n",
       "      <td>2020</td>\n",
       "      <td>0.381818</td>\n",
       "      <td>0.000000</td>\n",
       "      <td>0.018182</td>\n",
       "      <td>0.018182</td>\n",
       "      <td>0.000000</td>\n",
       "      <td>0.581818</td>\n",
       "    </tr>\n",
       "    <tr>\n",
       "      <th>6</th>\n",
       "      <td>2021</td>\n",
       "      <td>0.317460</td>\n",
       "      <td>0.031746</td>\n",
       "      <td>0.079365</td>\n",
       "      <td>0.079365</td>\n",
       "      <td>0.000000</td>\n",
       "      <td>0.492063</td>\n",
       "    </tr>\n",
       "    <tr>\n",
       "      <th>7</th>\n",
       "      <td>2022</td>\n",
       "      <td>0.343750</td>\n",
       "      <td>0.000000</td>\n",
       "      <td>0.078125</td>\n",
       "      <td>0.156250</td>\n",
       "      <td>0.031250</td>\n",
       "      <td>0.390625</td>\n",
       "    </tr>\n",
       "    <tr>\n",
       "      <th>8</th>\n",
       "      <td>2023</td>\n",
       "      <td>0.177215</td>\n",
       "      <td>0.012658</td>\n",
       "      <td>0.151899</td>\n",
       "      <td>0.189873</td>\n",
       "      <td>0.215190</td>\n",
       "      <td>0.253165</td>\n",
       "    </tr>\n",
       "    <tr>\n",
       "      <th>9</th>\n",
       "      <td>2024</td>\n",
       "      <td>0.235294</td>\n",
       "      <td>0.088235</td>\n",
       "      <td>0.294118</td>\n",
       "      <td>0.029412</td>\n",
       "      <td>0.147059</td>\n",
       "      <td>0.205882</td>\n",
       "    </tr>\n",
       "  </tbody>\n",
       "</table>\n",
       "</div>"
      ],
      "text/plain": [
       "   Year  Unreleased  Hosted access (no API)  API access  \\\n",
       "0  2015    0.777778                0.000000    0.000000   \n",
       "1  2016    0.714286                0.071429    0.000000   \n",
       "2  2017    0.950000                0.000000    0.000000   \n",
       "3  2018    0.685714                0.000000    0.000000   \n",
       "4  2019    0.473684                0.000000    0.000000   \n",
       "5  2020    0.381818                0.000000    0.018182   \n",
       "6  2021    0.317460                0.031746    0.079365   \n",
       "7  2022    0.343750                0.000000    0.078125   \n",
       "8  2023    0.177215                0.012658    0.151899   \n",
       "9  2024    0.235294                0.088235    0.294118   \n",
       "\n",
       "   Open weights (non-commercial)  Open weights (restricted use)  \\\n",
       "0                       0.000000                       0.000000   \n",
       "1                       0.142857                       0.000000   \n",
       "2                       0.000000                       0.000000   \n",
       "3                       0.028571                       0.000000   \n",
       "4                       0.118421                       0.000000   \n",
       "5                       0.018182                       0.000000   \n",
       "6                       0.079365                       0.000000   \n",
       "7                       0.156250                       0.031250   \n",
       "8                       0.189873                       0.215190   \n",
       "9                       0.029412                       0.147059   \n",
       "\n",
       "   Open weights (unrestricted)  \n",
       "0                     0.222222  \n",
       "1                     0.071429  \n",
       "2                     0.050000  \n",
       "3                     0.285714  \n",
       "4                     0.407895  \n",
       "5                     0.581818  \n",
       "6                     0.492063  \n",
       "7                     0.390625  \n",
       "8                     0.253165  \n",
       "9                     0.205882  "
      ]
     },
     "execution_count": 22,
     "metadata": {},
     "output_type": "execute_result"
    }
   ],
   "source": [
    "# replace model counts with proportions (relative to all notable models for the year)\n",
    "notable_proportions = notable_counts_year_pivot_totals.copy()\n",
    "\n",
    "columns_to_divide = notable_proportions.columns.drop(['Year', 'Yearly Total'])\n",
    "\n",
    "for col in columns_to_divide:\n",
    "    notable_proportions[col] = notable_proportions[col] / notable_proportions['Yearly Total']\n",
    "notable_proportions.drop('Yearly Total', axis=1,inplace=True)\n",
    "notable_proportions"
   ]
  },
  {
   "cell_type": "code",
   "execution_count": 23,
   "metadata": {},
   "outputs": [
    {
     "data": {
      "text/html": [
       "<div>\n",
       "<style scoped>\n",
       "    .dataframe tbody tr th:only-of-type {\n",
       "        vertical-align: middle;\n",
       "    }\n",
       "\n",
       "    .dataframe tbody tr th {\n",
       "        vertical-align: top;\n",
       "    }\n",
       "\n",
       "    .dataframe thead th {\n",
       "        text-align: right;\n",
       "    }\n",
       "</style>\n",
       "<table border=\"1\" class=\"dataframe\">\n",
       "  <thead>\n",
       "    <tr style=\"text-align: right;\">\n",
       "      <th>Model accessibility</th>\n",
       "      <th>Unreleased</th>\n",
       "      <th>Hosted access (no API)</th>\n",
       "      <th>API access</th>\n",
       "      <th>Open weights (non-commercial)</th>\n",
       "      <th>Open weights (restricted use)</th>\n",
       "      <th>Open weights (unrestricted)</th>\n",
       "    </tr>\n",
       "    <tr>\n",
       "      <th>Year</th>\n",
       "      <th></th>\n",
       "      <th></th>\n",
       "      <th></th>\n",
       "      <th></th>\n",
       "      <th></th>\n",
       "      <th></th>\n",
       "    </tr>\n",
       "  </thead>\n",
       "  <tbody>\n",
       "    <tr>\n",
       "      <th>2018</th>\n",
       "      <td>0.685714</td>\n",
       "      <td>0.000000</td>\n",
       "      <td>0.000000</td>\n",
       "      <td>0.028571</td>\n",
       "      <td>0.000000</td>\n",
       "      <td>0.285714</td>\n",
       "    </tr>\n",
       "    <tr>\n",
       "      <th>2019</th>\n",
       "      <td>0.473684</td>\n",
       "      <td>0.000000</td>\n",
       "      <td>0.000000</td>\n",
       "      <td>0.118421</td>\n",
       "      <td>0.000000</td>\n",
       "      <td>0.407895</td>\n",
       "    </tr>\n",
       "    <tr>\n",
       "      <th>2020</th>\n",
       "      <td>0.381818</td>\n",
       "      <td>0.000000</td>\n",
       "      <td>0.018182</td>\n",
       "      <td>0.018182</td>\n",
       "      <td>0.000000</td>\n",
       "      <td>0.581818</td>\n",
       "    </tr>\n",
       "    <tr>\n",
       "      <th>2021</th>\n",
       "      <td>0.317460</td>\n",
       "      <td>0.031746</td>\n",
       "      <td>0.079365</td>\n",
       "      <td>0.079365</td>\n",
       "      <td>0.000000</td>\n",
       "      <td>0.492063</td>\n",
       "    </tr>\n",
       "    <tr>\n",
       "      <th>2022</th>\n",
       "      <td>0.343750</td>\n",
       "      <td>0.000000</td>\n",
       "      <td>0.078125</td>\n",
       "      <td>0.156250</td>\n",
       "      <td>0.031250</td>\n",
       "      <td>0.390625</td>\n",
       "    </tr>\n",
       "    <tr>\n",
       "      <th>2023</th>\n",
       "      <td>0.177215</td>\n",
       "      <td>0.012658</td>\n",
       "      <td>0.151899</td>\n",
       "      <td>0.189873</td>\n",
       "      <td>0.215190</td>\n",
       "      <td>0.253165</td>\n",
       "    </tr>\n",
       "    <tr>\n",
       "      <th>2024</th>\n",
       "      <td>0.235294</td>\n",
       "      <td>0.088235</td>\n",
       "      <td>0.294118</td>\n",
       "      <td>0.029412</td>\n",
       "      <td>0.147059</td>\n",
       "      <td>0.205882</td>\n",
       "    </tr>\n",
       "  </tbody>\n",
       "</table>\n",
       "</div>"
      ],
      "text/plain": [
       "Model accessibility  Unreleased  Hosted access (no API)  API access  \\\n",
       "Year                                                                  \n",
       "2018                   0.685714                0.000000    0.000000   \n",
       "2019                   0.473684                0.000000    0.000000   \n",
       "2020                   0.381818                0.000000    0.018182   \n",
       "2021                   0.317460                0.031746    0.079365   \n",
       "2022                   0.343750                0.000000    0.078125   \n",
       "2023                   0.177215                0.012658    0.151899   \n",
       "2024                   0.235294                0.088235    0.294118   \n",
       "\n",
       "Model accessibility  Open weights (non-commercial)  \\\n",
       "Year                                                 \n",
       "2018                                      0.028571   \n",
       "2019                                      0.118421   \n",
       "2020                                      0.018182   \n",
       "2021                                      0.079365   \n",
       "2022                                      0.156250   \n",
       "2023                                      0.189873   \n",
       "2024                                      0.029412   \n",
       "\n",
       "Model accessibility  Open weights (restricted use)  \\\n",
       "Year                                                 \n",
       "2018                                      0.000000   \n",
       "2019                                      0.000000   \n",
       "2020                                      0.000000   \n",
       "2021                                      0.000000   \n",
       "2022                                      0.031250   \n",
       "2023                                      0.215190   \n",
       "2024                                      0.147059   \n",
       "\n",
       "Model accessibility  Open weights (unrestricted)  \n",
       "Year                                              \n",
       "2018                                    0.285714  \n",
       "2019                                    0.407895  \n",
       "2020                                    0.581818  \n",
       "2021                                    0.492063  \n",
       "2022                                    0.390625  \n",
       "2023                                    0.253165  \n",
       "2024                                    0.205882  "
      ]
     },
     "execution_count": 23,
     "metadata": {},
     "output_type": "execute_result"
    }
   ],
   "source": [
    "# repivot the dataframe for plotting: make it a Year by Model Accessibility dataframe\n",
    "notable_proportions_reset = notable_proportions.reset_index()\n",
    "\n",
    "melted_df = pd.melt(notable_proportions_reset, id_vars=['Year'], var_name='Model accessibility', value_name='Count')\n",
    "\n",
    "notable_proportions_pivoted = melted_df.pivot(index='Year', columns='Model accessibility', values='Count')\n",
    "\n",
    "# Reorder columns to match the original format\n",
    "column_order = ['Unreleased', 'Hosted access (no API)', 'API access', \n",
    "                'Open weights (non-commercial)', 'Open weights (restricted use)', \n",
    "                'Open weights (unrestricted)']\n",
    "notable_proportions_pivoted = notable_proportions_pivoted[column_order]\n",
    "\n",
    "notable_proportions_pivoted = notable_proportions_pivoted[notable_proportions_pivoted.index >= 2018]\n",
    "# Display the result\n",
    "notable_proportions_pivoted"
   ]
  },
  {
   "cell_type": "code",
   "execution_count": 24,
   "metadata": {},
   "outputs": [
    {
     "data": {
      "application/vnd.plotly.v1+json": {
       "config": {
        "plotlyServerURL": "https://plot.ly"
       },
       "data": [
        {
         "marker": {
          "color": "#8B0000"
         },
         "name": "Unreleased",
         "type": "bar",
         "x": [
          2018,
          2019,
          2020,
          2021,
          2022,
          2023,
          2024
         ],
         "y": [
          0.6857142857142857,
          0.47368421052631576,
          0.38181818181818183,
          0.31746031746031744,
          0.34375,
          0.17721518987341772,
          0.23529411764705882
         ]
        },
        {
         "marker": {
          "color": "#FF0000"
         },
         "name": "Hosted access (no API)",
         "type": "bar",
         "x": [
          2018,
          2019,
          2020,
          2021,
          2022,
          2023,
          2024
         ],
         "y": [
          0,
          0,
          0,
          0.031746031746031744,
          0,
          0.012658227848101266,
          0.08823529411764706
         ]
        },
        {
         "marker": {
          "color": "#FF6666"
         },
         "name": "API access",
         "type": "bar",
         "x": [
          2018,
          2019,
          2020,
          2021,
          2022,
          2023,
          2024
         ],
         "y": [
          0,
          0,
          0.01818181818181818,
          0.07936507936507936,
          0.078125,
          0.1518987341772152,
          0.29411764705882354
         ]
        },
        {
         "marker": {
          "color": "#00008B"
         },
         "name": "Open weights (non-commercial)",
         "type": "bar",
         "x": [
          2018,
          2019,
          2020,
          2021,
          2022,
          2023,
          2024
         ],
         "y": [
          0.02857142857142857,
          0.11842105263157894,
          0.01818181818181818,
          0.07936507936507936,
          0.15625,
          0.189873417721519,
          0.029411764705882353
         ]
        },
        {
         "marker": {
          "color": "#0000FF"
         },
         "name": "Open weights (restricted use)",
         "type": "bar",
         "x": [
          2018,
          2019,
          2020,
          2021,
          2022,
          2023,
          2024
         ],
         "y": [
          0,
          0,
          0,
          0,
          0.03125,
          0.21518987341772153,
          0.14705882352941177
         ]
        },
        {
         "marker": {
          "color": "#6666FF"
         },
         "name": "Open weights (unrestricted)",
         "type": "bar",
         "x": [
          2018,
          2019,
          2020,
          2021,
          2022,
          2023,
          2024
         ],
         "y": [
          0.2857142857142857,
          0.40789473684210525,
          0.5818181818181818,
          0.49206349206349204,
          0.390625,
          0.25316455696202533,
          0.20588235294117646
         ]
        }
       ],
       "layout": {
        "barmode": "stack",
        "height": 600,
        "legend": {
         "orientation": "v",
         "traceorder": "normal",
         "x": 1.05,
         "y": 1
        },
        "template": {
         "data": {
          "bar": [
           {
            "error_x": {
             "color": "#2a3f5f"
            },
            "error_y": {
             "color": "#2a3f5f"
            },
            "marker": {
             "line": {
              "color": "white",
              "width": 0.5
             },
             "pattern": {
              "fillmode": "overlay",
              "size": 10,
              "solidity": 0.2
             }
            },
            "type": "bar"
           }
          ],
          "barpolar": [
           {
            "marker": {
             "line": {
              "color": "white",
              "width": 0.5
             },
             "pattern": {
              "fillmode": "overlay",
              "size": 10,
              "solidity": 0.2
             }
            },
            "type": "barpolar"
           }
          ],
          "carpet": [
           {
            "aaxis": {
             "endlinecolor": "#2a3f5f",
             "gridcolor": "#C8D4E3",
             "linecolor": "#C8D4E3",
             "minorgridcolor": "#C8D4E3",
             "startlinecolor": "#2a3f5f"
            },
            "baxis": {
             "endlinecolor": "#2a3f5f",
             "gridcolor": "#C8D4E3",
             "linecolor": "#C8D4E3",
             "minorgridcolor": "#C8D4E3",
             "startlinecolor": "#2a3f5f"
            },
            "type": "carpet"
           }
          ],
          "choropleth": [
           {
            "colorbar": {
             "outlinewidth": 0,
             "ticks": ""
            },
            "type": "choropleth"
           }
          ],
          "contour": [
           {
            "colorbar": {
             "outlinewidth": 0,
             "ticks": ""
            },
            "colorscale": [
             [
              0,
              "#0d0887"
             ],
             [
              0.1111111111111111,
              "#46039f"
             ],
             [
              0.2222222222222222,
              "#7201a8"
             ],
             [
              0.3333333333333333,
              "#9c179e"
             ],
             [
              0.4444444444444444,
              "#bd3786"
             ],
             [
              0.5555555555555556,
              "#d8576b"
             ],
             [
              0.6666666666666666,
              "#ed7953"
             ],
             [
              0.7777777777777778,
              "#fb9f3a"
             ],
             [
              0.8888888888888888,
              "#fdca26"
             ],
             [
              1,
              "#f0f921"
             ]
            ],
            "type": "contour"
           }
          ],
          "contourcarpet": [
           {
            "colorbar": {
             "outlinewidth": 0,
             "ticks": ""
            },
            "type": "contourcarpet"
           }
          ],
          "heatmap": [
           {
            "colorbar": {
             "outlinewidth": 0,
             "ticks": ""
            },
            "colorscale": [
             [
              0,
              "#0d0887"
             ],
             [
              0.1111111111111111,
              "#46039f"
             ],
             [
              0.2222222222222222,
              "#7201a8"
             ],
             [
              0.3333333333333333,
              "#9c179e"
             ],
             [
              0.4444444444444444,
              "#bd3786"
             ],
             [
              0.5555555555555556,
              "#d8576b"
             ],
             [
              0.6666666666666666,
              "#ed7953"
             ],
             [
              0.7777777777777778,
              "#fb9f3a"
             ],
             [
              0.8888888888888888,
              "#fdca26"
             ],
             [
              1,
              "#f0f921"
             ]
            ],
            "type": "heatmap"
           }
          ],
          "heatmapgl": [
           {
            "colorbar": {
             "outlinewidth": 0,
             "ticks": ""
            },
            "colorscale": [
             [
              0,
              "#0d0887"
             ],
             [
              0.1111111111111111,
              "#46039f"
             ],
             [
              0.2222222222222222,
              "#7201a8"
             ],
             [
              0.3333333333333333,
              "#9c179e"
             ],
             [
              0.4444444444444444,
              "#bd3786"
             ],
             [
              0.5555555555555556,
              "#d8576b"
             ],
             [
              0.6666666666666666,
              "#ed7953"
             ],
             [
              0.7777777777777778,
              "#fb9f3a"
             ],
             [
              0.8888888888888888,
              "#fdca26"
             ],
             [
              1,
              "#f0f921"
             ]
            ],
            "type": "heatmapgl"
           }
          ],
          "histogram": [
           {
            "marker": {
             "pattern": {
              "fillmode": "overlay",
              "size": 10,
              "solidity": 0.2
             }
            },
            "type": "histogram"
           }
          ],
          "histogram2d": [
           {
            "colorbar": {
             "outlinewidth": 0,
             "ticks": ""
            },
            "colorscale": [
             [
              0,
              "#0d0887"
             ],
             [
              0.1111111111111111,
              "#46039f"
             ],
             [
              0.2222222222222222,
              "#7201a8"
             ],
             [
              0.3333333333333333,
              "#9c179e"
             ],
             [
              0.4444444444444444,
              "#bd3786"
             ],
             [
              0.5555555555555556,
              "#d8576b"
             ],
             [
              0.6666666666666666,
              "#ed7953"
             ],
             [
              0.7777777777777778,
              "#fb9f3a"
             ],
             [
              0.8888888888888888,
              "#fdca26"
             ],
             [
              1,
              "#f0f921"
             ]
            ],
            "type": "histogram2d"
           }
          ],
          "histogram2dcontour": [
           {
            "colorbar": {
             "outlinewidth": 0,
             "ticks": ""
            },
            "colorscale": [
             [
              0,
              "#0d0887"
             ],
             [
              0.1111111111111111,
              "#46039f"
             ],
             [
              0.2222222222222222,
              "#7201a8"
             ],
             [
              0.3333333333333333,
              "#9c179e"
             ],
             [
              0.4444444444444444,
              "#bd3786"
             ],
             [
              0.5555555555555556,
              "#d8576b"
             ],
             [
              0.6666666666666666,
              "#ed7953"
             ],
             [
              0.7777777777777778,
              "#fb9f3a"
             ],
             [
              0.8888888888888888,
              "#fdca26"
             ],
             [
              1,
              "#f0f921"
             ]
            ],
            "type": "histogram2dcontour"
           }
          ],
          "mesh3d": [
           {
            "colorbar": {
             "outlinewidth": 0,
             "ticks": ""
            },
            "type": "mesh3d"
           }
          ],
          "parcoords": [
           {
            "line": {
             "colorbar": {
              "outlinewidth": 0,
              "ticks": ""
             }
            },
            "type": "parcoords"
           }
          ],
          "pie": [
           {
            "automargin": true,
            "type": "pie"
           }
          ],
          "scatter": [
           {
            "fillpattern": {
             "fillmode": "overlay",
             "size": 10,
             "solidity": 0.2
            },
            "type": "scatter"
           }
          ],
          "scatter3d": [
           {
            "line": {
             "colorbar": {
              "outlinewidth": 0,
              "ticks": ""
             }
            },
            "marker": {
             "colorbar": {
              "outlinewidth": 0,
              "ticks": ""
             }
            },
            "type": "scatter3d"
           }
          ],
          "scattercarpet": [
           {
            "marker": {
             "colorbar": {
              "outlinewidth": 0,
              "ticks": ""
             }
            },
            "type": "scattercarpet"
           }
          ],
          "scattergeo": [
           {
            "marker": {
             "colorbar": {
              "outlinewidth": 0,
              "ticks": ""
             }
            },
            "type": "scattergeo"
           }
          ],
          "scattergl": [
           {
            "marker": {
             "colorbar": {
              "outlinewidth": 0,
              "ticks": ""
             }
            },
            "type": "scattergl"
           }
          ],
          "scattermapbox": [
           {
            "marker": {
             "colorbar": {
              "outlinewidth": 0,
              "ticks": ""
             }
            },
            "type": "scattermapbox"
           }
          ],
          "scatterpolar": [
           {
            "marker": {
             "colorbar": {
              "outlinewidth": 0,
              "ticks": ""
             }
            },
            "type": "scatterpolar"
           }
          ],
          "scatterpolargl": [
           {
            "marker": {
             "colorbar": {
              "outlinewidth": 0,
              "ticks": ""
             }
            },
            "type": "scatterpolargl"
           }
          ],
          "scatterternary": [
           {
            "marker": {
             "colorbar": {
              "outlinewidth": 0,
              "ticks": ""
             }
            },
            "type": "scatterternary"
           }
          ],
          "surface": [
           {
            "colorbar": {
             "outlinewidth": 0,
             "ticks": ""
            },
            "colorscale": [
             [
              0,
              "#0d0887"
             ],
             [
              0.1111111111111111,
              "#46039f"
             ],
             [
              0.2222222222222222,
              "#7201a8"
             ],
             [
              0.3333333333333333,
              "#9c179e"
             ],
             [
              0.4444444444444444,
              "#bd3786"
             ],
             [
              0.5555555555555556,
              "#d8576b"
             ],
             [
              0.6666666666666666,
              "#ed7953"
             ],
             [
              0.7777777777777778,
              "#fb9f3a"
             ],
             [
              0.8888888888888888,
              "#fdca26"
             ],
             [
              1,
              "#f0f921"
             ]
            ],
            "type": "surface"
           }
          ],
          "table": [
           {
            "cells": {
             "fill": {
              "color": "#EBF0F8"
             },
             "line": {
              "color": "white"
             }
            },
            "header": {
             "fill": {
              "color": "#C8D4E3"
             },
             "line": {
              "color": "white"
             }
            },
            "type": "table"
           }
          ]
         },
         "layout": {
          "annotationdefaults": {
           "arrowcolor": "#2a3f5f",
           "arrowhead": 0,
           "arrowwidth": 1
          },
          "autotypenumbers": "strict",
          "coloraxis": {
           "colorbar": {
            "outlinewidth": 0,
            "ticks": ""
           }
          },
          "colorscale": {
           "diverging": [
            [
             0,
             "#8e0152"
            ],
            [
             0.1,
             "#c51b7d"
            ],
            [
             0.2,
             "#de77ae"
            ],
            [
             0.3,
             "#f1b6da"
            ],
            [
             0.4,
             "#fde0ef"
            ],
            [
             0.5,
             "#f7f7f7"
            ],
            [
             0.6,
             "#e6f5d0"
            ],
            [
             0.7,
             "#b8e186"
            ],
            [
             0.8,
             "#7fbc41"
            ],
            [
             0.9,
             "#4d9221"
            ],
            [
             1,
             "#276419"
            ]
           ],
           "sequential": [
            [
             0,
             "#0d0887"
            ],
            [
             0.1111111111111111,
             "#46039f"
            ],
            [
             0.2222222222222222,
             "#7201a8"
            ],
            [
             0.3333333333333333,
             "#9c179e"
            ],
            [
             0.4444444444444444,
             "#bd3786"
            ],
            [
             0.5555555555555556,
             "#d8576b"
            ],
            [
             0.6666666666666666,
             "#ed7953"
            ],
            [
             0.7777777777777778,
             "#fb9f3a"
            ],
            [
             0.8888888888888888,
             "#fdca26"
            ],
            [
             1,
             "#f0f921"
            ]
           ],
           "sequentialminus": [
            [
             0,
             "#0d0887"
            ],
            [
             0.1111111111111111,
             "#46039f"
            ],
            [
             0.2222222222222222,
             "#7201a8"
            ],
            [
             0.3333333333333333,
             "#9c179e"
            ],
            [
             0.4444444444444444,
             "#bd3786"
            ],
            [
             0.5555555555555556,
             "#d8576b"
            ],
            [
             0.6666666666666666,
             "#ed7953"
            ],
            [
             0.7777777777777778,
             "#fb9f3a"
            ],
            [
             0.8888888888888888,
             "#fdca26"
            ],
            [
             1,
             "#f0f921"
            ]
           ]
          },
          "colorway": [
           "#636efa",
           "#EF553B",
           "#00cc96",
           "#ab63fa",
           "#FFA15A",
           "#19d3f3",
           "#FF6692",
           "#B6E880",
           "#FF97FF",
           "#FECB52"
          ],
          "font": {
           "color": "#2a3f5f"
          },
          "geo": {
           "bgcolor": "white",
           "lakecolor": "white",
           "landcolor": "white",
           "showlakes": true,
           "showland": true,
           "subunitcolor": "#C8D4E3"
          },
          "hoverlabel": {
           "align": "left"
          },
          "hovermode": "closest",
          "mapbox": {
           "style": "light"
          },
          "paper_bgcolor": "white",
          "plot_bgcolor": "white",
          "polar": {
           "angularaxis": {
            "gridcolor": "#EBF0F8",
            "linecolor": "#EBF0F8",
            "ticks": ""
           },
           "bgcolor": "white",
           "radialaxis": {
            "gridcolor": "#EBF0F8",
            "linecolor": "#EBF0F8",
            "ticks": ""
           }
          },
          "scene": {
           "xaxis": {
            "backgroundcolor": "white",
            "gridcolor": "#DFE8F3",
            "gridwidth": 2,
            "linecolor": "#EBF0F8",
            "showbackground": true,
            "ticks": "",
            "zerolinecolor": "#EBF0F8"
           },
           "yaxis": {
            "backgroundcolor": "white",
            "gridcolor": "#DFE8F3",
            "gridwidth": 2,
            "linecolor": "#EBF0F8",
            "showbackground": true,
            "ticks": "",
            "zerolinecolor": "#EBF0F8"
           },
           "zaxis": {
            "backgroundcolor": "white",
            "gridcolor": "#DFE8F3",
            "gridwidth": 2,
            "linecolor": "#EBF0F8",
            "showbackground": true,
            "ticks": "",
            "zerolinecolor": "#EBF0F8"
           }
          },
          "shapedefaults": {
           "line": {
            "color": "#2a3f5f"
           }
          },
          "ternary": {
           "aaxis": {
            "gridcolor": "#DFE8F3",
            "linecolor": "#A2B1C6",
            "ticks": ""
           },
           "baxis": {
            "gridcolor": "#DFE8F3",
            "linecolor": "#A2B1C6",
            "ticks": ""
           },
           "bgcolor": "white",
           "caxis": {
            "gridcolor": "#DFE8F3",
            "linecolor": "#A2B1C6",
            "ticks": ""
           }
          },
          "title": {
           "x": 0.05
          },
          "xaxis": {
           "automargin": true,
           "gridcolor": "#EBF0F8",
           "linecolor": "#EBF0F8",
           "ticks": "",
           "title": {
            "standoff": 15
           },
           "zerolinecolor": "#EBF0F8",
           "zerolinewidth": 2
          },
          "yaxis": {
           "automargin": true,
           "gridcolor": "#EBF0F8",
           "linecolor": "#EBF0F8",
           "ticks": "",
           "title": {
            "standoff": 15
           },
           "zerolinecolor": "#EBF0F8",
           "zerolinewidth": 2
          }
         }
        },
        "title": {
         "text": "Notable models have become more open over time"
        },
        "width": 1000,
        "xaxis": {
         "title": {
          "text": "Year"
         }
        },
        "yaxis": {
         "title": {
          "text": "Proportion of notable models"
         }
        }
       }
      }
     },
     "metadata": {},
     "output_type": "display_data"
    }
   ],
   "source": [
    "import plotly.graph_objects as go\n",
    "\n",
    "fig = go.Figure()\n",
    "\n",
    "# Add a bar trace for each column in notable_proportions_pivoted\n",
    "for column in notable_proportions_pivoted.columns:\n",
    "    fig.add_trace(go.Bar(\n",
    "        x=notable_proportions_pivoted.index,\n",
    "        y=notable_proportions_pivoted[column],\n",
    "        name=column,\n",
    "        marker_color=colors[notable_proportions_pivoted.columns.get_loc(column)]\n",
    "    ))\n",
    "\n",
    "fig.update_layout(\n",
    "    title='Notable models have become more open over time',\n",
    "    xaxis_title='Year',\n",
    "    yaxis_title='Proportion of notable models',\n",
    "    barmode='stack',\n",
    "    legend=dict(x=1.05, y=1, traceorder='normal', orientation='v'),\n",
    "    width=1000,\n",
    "    height=600,\n",
    "    template='plotly_white',\n",
    ")\n",
    "\n",
    "save_plot(fig, results_dir, f'notable_model_proportion_by_accessibility')\n",
    "notable_proportions_pivoted.to_csv(results_dir + 'plot_data/notable_model_proportion_by_accessibility.csv')\n",
    "\n",
    "fig.show()"
   ]
  },
  {
   "cell_type": "code",
   "execution_count": 25,
   "metadata": {},
   "outputs": [],
   "source": [
    "# Input -  model counts, grouped by accessibility and by year\n",
    "# Output - same dataframe with cumulative counts for status, cumulative total across all statuses, and proportion\n",
    "def normalize_counts(access_counts):\n",
    "    \n",
    "    # Get df with total models per year, and cumulative totals\n",
    "    total_counts = access_counts.groupby('Year')['Count'].sum().reset_index(name='Yearly Total')\n",
    "    total_counts['Cumulative Total'] = total_counts['Yearly Total'].cumsum()\n",
    "    \n",
    "    # Pivot the access counts table to get counts for every status and every year\n",
    "    # This will have many NaN values because not every year has a model of every status\n",
    "    access_counts_wide = access_counts.pivot(index='Year', columns='Model accessibility', values='Cumulative for status')\n",
    "    all_years = pd.Series(range(int(access_counts_wide.index.min()), int(access_counts_wide.index.max()) + 1))\n",
    "\n",
    "    # Fill in the NaN values\n",
    "    access_counts_wide_filled = access_counts_wide.reindex(all_years).ffill().fillna(0)\n",
    "    access_counts_wide_filled = access_counts_wide_filled.reset_index(names=[\"Year\"])\n",
    "    \n",
    "    # Unpivot\n",
    "    access_counts_filled = (access_counts_wide_filled.melt(id_vars='Year', \n",
    "                                     var_name='Model accessibility', \n",
    "                                     value_name='Cumulative for status')\n",
    "                               .reset_index(drop=True))\n",
    "    \n",
    "    # Join with total counts df to get the cumulative totals\n",
    "    normalized_counts = pd.merge(access_counts_filled, total_counts, on='Year')\n",
    "    \n",
    "    # Divide annual counts by cumulative counts to find cumulative proportions by year\n",
    "    normalized_counts['proportion'] = normalized_counts['Cumulative for status'] / normalized_counts['Cumulative Total']\n",
    "    \n",
    "    # Sort using custom order\n",
    "    sort_order = ['Unreleased', 'Hosted access (no API)', 'API access', 'Open weights (non-commercial)', 'Open weights (restricted use)', 'Open weights (unrestricted)']\n",
    "    normalized_counts['Category_sorted'] = pd.Categorical(normalized_counts['Model accessibility'], categories=sort_order, ordered=True)\n",
    "    normalized_counts = normalized_counts.sort_values(['Category_sorted', 'Year'])\n",
    "    \n",
    "    return normalized_counts"
   ]
  },
  {
   "cell_type": "code",
   "execution_count": 26,
   "metadata": {
    "scrolled": true
   },
   "outputs": [],
   "source": [
    "normalized_counts_total = normalize_counts(access_counts)\n",
    "normalized_counts_notable = normalize_counts(notable_counts)"
   ]
  },
  {
   "cell_type": "code",
   "execution_count": 27,
   "metadata": {},
   "outputs": [
    {
     "data": {
      "application/vnd.plotly.v1+json": {
       "config": {
        "plotlyServerURL": "https://plot.ly"
       },
       "data": [
        {
         "hoverinfo": "x+y",
         "line": {
          "color": "#d62728"
         },
         "mode": "lines",
         "name": "Unreleased",
         "stackgroup": "one",
         "type": "scatter",
         "x": [
          2015,
          2016,
          2017,
          2018,
          2019,
          2020,
          2021,
          2022,
          2023,
          2024
         ],
         "xaxis": "x",
         "y": [
          7,
          17,
          36,
          60,
          96,
          117,
          137,
          159,
          173,
          181
         ],
         "yaxis": "y"
        },
        {
         "hoverinfo": "x+y",
         "line": {
          "color": "#ff7f0e"
         },
         "mode": "lines",
         "name": "Hosted access (no API)",
         "stackgroup": "one",
         "type": "scatter",
         "x": [
          2015,
          2016,
          2017,
          2018,
          2019,
          2020,
          2021,
          2022,
          2023,
          2024
         ],
         "xaxis": "x",
         "y": [
          0,
          1,
          1,
          1,
          1,
          1,
          3,
          3,
          4,
          7
         ],
         "yaxis": "y"
        },
        {
         "hoverinfo": "x+y",
         "line": {
          "color": "#8c564b"
         },
         "mode": "lines",
         "name": "API access",
         "stackgroup": "one",
         "type": "scatter",
         "x": [
          2015,
          2016,
          2017,
          2018,
          2019,
          2020,
          2021,
          2022,
          2023,
          2024
         ],
         "xaxis": "x",
         "y": [
          0,
          0,
          0,
          0,
          0,
          1,
          6,
          11,
          23,
          33
         ],
         "yaxis": "y"
        },
        {
         "hoverinfo": "x+y",
         "line": {
          "color": "#9467bd"
         },
         "mode": "lines",
         "name": "Open weights (non-commercial)",
         "stackgroup": "one",
         "type": "scatter",
         "x": [
          2015,
          2016,
          2017,
          2018,
          2019,
          2020,
          2021,
          2022,
          2023,
          2024
         ],
         "xaxis": "x",
         "y": [
          0,
          2,
          2,
          3,
          12,
          13,
          18,
          28,
          43,
          44
         ],
         "yaxis": "y"
        },
        {
         "hoverinfo": "x+y",
         "line": {
          "color": "#1f77b4"
         },
         "mode": "lines",
         "name": "Open weights (restricted use)",
         "stackgroup": "one",
         "type": "scatter",
         "x": [
          2015,
          2016,
          2017,
          2018,
          2019,
          2020,
          2021,
          2022,
          2023,
          2024
         ],
         "xaxis": "x",
         "y": [
          0,
          0,
          0,
          0,
          0,
          0,
          0,
          2,
          19,
          24
         ],
         "yaxis": "y"
        },
        {
         "hoverinfo": "x+y",
         "line": {
          "color": "#2ca02c"
         },
         "mode": "lines",
         "name": "Open weights (unrestricted)",
         "stackgroup": "one",
         "type": "scatter",
         "x": [
          2015,
          2016,
          2017,
          2018,
          2019,
          2020,
          2021,
          2022,
          2023,
          2024
         ],
         "xaxis": "x",
         "y": [
          2,
          3,
          4,
          14,
          45,
          77,
          108,
          133,
          153,
          160
         ],
         "yaxis": "y"
        },
        {
         "hoverinfo": "x+y",
         "line": {
          "color": "#d62728"
         },
         "mode": "lines",
         "name": "Unreleased",
         "showlegend": false,
         "stackgroup": "one",
         "type": "scatter",
         "x": [
          2015,
          2016,
          2017,
          2018,
          2019,
          2020,
          2021,
          2022,
          2023,
          2024
         ],
         "xaxis": "x2",
         "y": [
          0.7777777777777778,
          0.7391304347826086,
          0.8372093023255814,
          0.7692307692307693,
          0.6233766233766234,
          0.5598086124401914,
          0.5036764705882353,
          0.4732142857142857,
          0.41686746987951806,
          0.40311804008908686
         ],
         "yaxis": "y2"
        },
        {
         "hoverinfo": "x+y",
         "line": {
          "color": "#ff7f0e"
         },
         "mode": "lines",
         "name": "Hosted access (no API)",
         "showlegend": false,
         "stackgroup": "one",
         "type": "scatter",
         "x": [
          2015,
          2016,
          2017,
          2018,
          2019,
          2020,
          2021,
          2022,
          2023,
          2024
         ],
         "xaxis": "x2",
         "y": [
          0,
          0.043478260869565216,
          0.023255813953488372,
          0.01282051282051282,
          0.006493506493506494,
          0.004784688995215311,
          0.011029411764705883,
          0.008928571428571428,
          0.00963855421686747,
          0.015590200445434299
         ],
         "yaxis": "y2"
        },
        {
         "hoverinfo": "x+y",
         "line": {
          "color": "#8c564b"
         },
         "mode": "lines",
         "name": "API access",
         "showlegend": false,
         "stackgroup": "one",
         "type": "scatter",
         "x": [
          2015,
          2016,
          2017,
          2018,
          2019,
          2020,
          2021,
          2022,
          2023,
          2024
         ],
         "xaxis": "x2",
         "y": [
          0,
          0,
          0,
          0,
          0,
          0.004784688995215311,
          0.022058823529411766,
          0.03273809523809524,
          0.05542168674698795,
          0.07349665924276169
         ],
         "yaxis": "y2"
        },
        {
         "hoverinfo": "x+y",
         "line": {
          "color": "#9467bd"
         },
         "mode": "lines",
         "name": "Open weights (non-commercial)",
         "showlegend": false,
         "stackgroup": "one",
         "type": "scatter",
         "x": [
          2015,
          2016,
          2017,
          2018,
          2019,
          2020,
          2021,
          2022,
          2023,
          2024
         ],
         "xaxis": "x2",
         "y": [
          0,
          0.08695652173913043,
          0.046511627906976744,
          0.038461538461538464,
          0.07792207792207792,
          0.06220095693779904,
          0.0661764705882353,
          0.08333333333333333,
          0.10361445783132531,
          0.09799554565701558
         ],
         "yaxis": "y2"
        },
        {
         "hoverinfo": "x+y",
         "line": {
          "color": "#1f77b4"
         },
         "mode": "lines",
         "name": "Open weights (restricted use)",
         "showlegend": false,
         "stackgroup": "one",
         "type": "scatter",
         "x": [
          2015,
          2016,
          2017,
          2018,
          2019,
          2020,
          2021,
          2022,
          2023,
          2024
         ],
         "xaxis": "x2",
         "y": [
          0,
          0,
          0,
          0,
          0,
          0,
          0,
          0.005952380952380952,
          0.04578313253012048,
          0.053452115812917596
         ],
         "yaxis": "y2"
        },
        {
         "hoverinfo": "x+y",
         "line": {
          "color": "#2ca02c"
         },
         "mode": "lines",
         "name": "Open weights (unrestricted)",
         "showlegend": false,
         "stackgroup": "one",
         "type": "scatter",
         "x": [
          2015,
          2016,
          2017,
          2018,
          2019,
          2020,
          2021,
          2022,
          2023,
          2024
         ],
         "xaxis": "x2",
         "y": [
          0.2222222222222222,
          0.13043478260869565,
          0.09302325581395349,
          0.1794871794871795,
          0.2922077922077922,
          0.3684210526315789,
          0.39705882352941174,
          0.3958333333333333,
          0.3686746987951807,
          0.35634743875278396
         ],
         "yaxis": "y2"
        }
       ],
       "layout": {
        "annotations": [
         {
          "font": {
           "size": 16
          },
          "showarrow": false,
          "text": "Cumulative count",
          "x": 0.225,
          "xanchor": "center",
          "xref": "paper",
          "y": 1,
          "yanchor": "bottom",
          "yref": "paper"
         },
         {
          "font": {
           "size": 16
          },
          "showarrow": false,
          "text": "Cumulative proportion",
          "x": 0.775,
          "xanchor": "center",
          "xref": "paper",
          "y": 1,
          "yanchor": "bottom",
          "yref": "paper"
         }
        ],
        "autosize": false,
        "height": 600,
        "showlegend": true,
        "template": {
         "data": {
          "bar": [
           {
            "error_x": {
             "color": "#2a3f5f"
            },
            "error_y": {
             "color": "#2a3f5f"
            },
            "marker": {
             "line": {
              "color": "#E5ECF6",
              "width": 0.5
             },
             "pattern": {
              "fillmode": "overlay",
              "size": 10,
              "solidity": 0.2
             }
            },
            "type": "bar"
           }
          ],
          "barpolar": [
           {
            "marker": {
             "line": {
              "color": "#E5ECF6",
              "width": 0.5
             },
             "pattern": {
              "fillmode": "overlay",
              "size": 10,
              "solidity": 0.2
             }
            },
            "type": "barpolar"
           }
          ],
          "carpet": [
           {
            "aaxis": {
             "endlinecolor": "#2a3f5f",
             "gridcolor": "white",
             "linecolor": "white",
             "minorgridcolor": "white",
             "startlinecolor": "#2a3f5f"
            },
            "baxis": {
             "endlinecolor": "#2a3f5f",
             "gridcolor": "white",
             "linecolor": "white",
             "minorgridcolor": "white",
             "startlinecolor": "#2a3f5f"
            },
            "type": "carpet"
           }
          ],
          "choropleth": [
           {
            "colorbar": {
             "outlinewidth": 0,
             "ticks": ""
            },
            "type": "choropleth"
           }
          ],
          "contour": [
           {
            "colorbar": {
             "outlinewidth": 0,
             "ticks": ""
            },
            "colorscale": [
             [
              0,
              "#0d0887"
             ],
             [
              0.1111111111111111,
              "#46039f"
             ],
             [
              0.2222222222222222,
              "#7201a8"
             ],
             [
              0.3333333333333333,
              "#9c179e"
             ],
             [
              0.4444444444444444,
              "#bd3786"
             ],
             [
              0.5555555555555556,
              "#d8576b"
             ],
             [
              0.6666666666666666,
              "#ed7953"
             ],
             [
              0.7777777777777778,
              "#fb9f3a"
             ],
             [
              0.8888888888888888,
              "#fdca26"
             ],
             [
              1,
              "#f0f921"
             ]
            ],
            "type": "contour"
           }
          ],
          "contourcarpet": [
           {
            "colorbar": {
             "outlinewidth": 0,
             "ticks": ""
            },
            "type": "contourcarpet"
           }
          ],
          "heatmap": [
           {
            "colorbar": {
             "outlinewidth": 0,
             "ticks": ""
            },
            "colorscale": [
             [
              0,
              "#0d0887"
             ],
             [
              0.1111111111111111,
              "#46039f"
             ],
             [
              0.2222222222222222,
              "#7201a8"
             ],
             [
              0.3333333333333333,
              "#9c179e"
             ],
             [
              0.4444444444444444,
              "#bd3786"
             ],
             [
              0.5555555555555556,
              "#d8576b"
             ],
             [
              0.6666666666666666,
              "#ed7953"
             ],
             [
              0.7777777777777778,
              "#fb9f3a"
             ],
             [
              0.8888888888888888,
              "#fdca26"
             ],
             [
              1,
              "#f0f921"
             ]
            ],
            "type": "heatmap"
           }
          ],
          "heatmapgl": [
           {
            "colorbar": {
             "outlinewidth": 0,
             "ticks": ""
            },
            "colorscale": [
             [
              0,
              "#0d0887"
             ],
             [
              0.1111111111111111,
              "#46039f"
             ],
             [
              0.2222222222222222,
              "#7201a8"
             ],
             [
              0.3333333333333333,
              "#9c179e"
             ],
             [
              0.4444444444444444,
              "#bd3786"
             ],
             [
              0.5555555555555556,
              "#d8576b"
             ],
             [
              0.6666666666666666,
              "#ed7953"
             ],
             [
              0.7777777777777778,
              "#fb9f3a"
             ],
             [
              0.8888888888888888,
              "#fdca26"
             ],
             [
              1,
              "#f0f921"
             ]
            ],
            "type": "heatmapgl"
           }
          ],
          "histogram": [
           {
            "marker": {
             "pattern": {
              "fillmode": "overlay",
              "size": 10,
              "solidity": 0.2
             }
            },
            "type": "histogram"
           }
          ],
          "histogram2d": [
           {
            "colorbar": {
             "outlinewidth": 0,
             "ticks": ""
            },
            "colorscale": [
             [
              0,
              "#0d0887"
             ],
             [
              0.1111111111111111,
              "#46039f"
             ],
             [
              0.2222222222222222,
              "#7201a8"
             ],
             [
              0.3333333333333333,
              "#9c179e"
             ],
             [
              0.4444444444444444,
              "#bd3786"
             ],
             [
              0.5555555555555556,
              "#d8576b"
             ],
             [
              0.6666666666666666,
              "#ed7953"
             ],
             [
              0.7777777777777778,
              "#fb9f3a"
             ],
             [
              0.8888888888888888,
              "#fdca26"
             ],
             [
              1,
              "#f0f921"
             ]
            ],
            "type": "histogram2d"
           }
          ],
          "histogram2dcontour": [
           {
            "colorbar": {
             "outlinewidth": 0,
             "ticks": ""
            },
            "colorscale": [
             [
              0,
              "#0d0887"
             ],
             [
              0.1111111111111111,
              "#46039f"
             ],
             [
              0.2222222222222222,
              "#7201a8"
             ],
             [
              0.3333333333333333,
              "#9c179e"
             ],
             [
              0.4444444444444444,
              "#bd3786"
             ],
             [
              0.5555555555555556,
              "#d8576b"
             ],
             [
              0.6666666666666666,
              "#ed7953"
             ],
             [
              0.7777777777777778,
              "#fb9f3a"
             ],
             [
              0.8888888888888888,
              "#fdca26"
             ],
             [
              1,
              "#f0f921"
             ]
            ],
            "type": "histogram2dcontour"
           }
          ],
          "mesh3d": [
           {
            "colorbar": {
             "outlinewidth": 0,
             "ticks": ""
            },
            "type": "mesh3d"
           }
          ],
          "parcoords": [
           {
            "line": {
             "colorbar": {
              "outlinewidth": 0,
              "ticks": ""
             }
            },
            "type": "parcoords"
           }
          ],
          "pie": [
           {
            "automargin": true,
            "type": "pie"
           }
          ],
          "scatter": [
           {
            "fillpattern": {
             "fillmode": "overlay",
             "size": 10,
             "solidity": 0.2
            },
            "type": "scatter"
           }
          ],
          "scatter3d": [
           {
            "line": {
             "colorbar": {
              "outlinewidth": 0,
              "ticks": ""
             }
            },
            "marker": {
             "colorbar": {
              "outlinewidth": 0,
              "ticks": ""
             }
            },
            "type": "scatter3d"
           }
          ],
          "scattercarpet": [
           {
            "marker": {
             "colorbar": {
              "outlinewidth": 0,
              "ticks": ""
             }
            },
            "type": "scattercarpet"
           }
          ],
          "scattergeo": [
           {
            "marker": {
             "colorbar": {
              "outlinewidth": 0,
              "ticks": ""
             }
            },
            "type": "scattergeo"
           }
          ],
          "scattergl": [
           {
            "marker": {
             "colorbar": {
              "outlinewidth": 0,
              "ticks": ""
             }
            },
            "type": "scattergl"
           }
          ],
          "scattermapbox": [
           {
            "marker": {
             "colorbar": {
              "outlinewidth": 0,
              "ticks": ""
             }
            },
            "type": "scattermapbox"
           }
          ],
          "scatterpolar": [
           {
            "marker": {
             "colorbar": {
              "outlinewidth": 0,
              "ticks": ""
             }
            },
            "type": "scatterpolar"
           }
          ],
          "scatterpolargl": [
           {
            "marker": {
             "colorbar": {
              "outlinewidth": 0,
              "ticks": ""
             }
            },
            "type": "scatterpolargl"
           }
          ],
          "scatterternary": [
           {
            "marker": {
             "colorbar": {
              "outlinewidth": 0,
              "ticks": ""
             }
            },
            "type": "scatterternary"
           }
          ],
          "surface": [
           {
            "colorbar": {
             "outlinewidth": 0,
             "ticks": ""
            },
            "colorscale": [
             [
              0,
              "#0d0887"
             ],
             [
              0.1111111111111111,
              "#46039f"
             ],
             [
              0.2222222222222222,
              "#7201a8"
             ],
             [
              0.3333333333333333,
              "#9c179e"
             ],
             [
              0.4444444444444444,
              "#bd3786"
             ],
             [
              0.5555555555555556,
              "#d8576b"
             ],
             [
              0.6666666666666666,
              "#ed7953"
             ],
             [
              0.7777777777777778,
              "#fb9f3a"
             ],
             [
              0.8888888888888888,
              "#fdca26"
             ],
             [
              1,
              "#f0f921"
             ]
            ],
            "type": "surface"
           }
          ],
          "table": [
           {
            "cells": {
             "fill": {
              "color": "#EBF0F8"
             },
             "line": {
              "color": "white"
             }
            },
            "header": {
             "fill": {
              "color": "#C8D4E3"
             },
             "line": {
              "color": "white"
             }
            },
            "type": "table"
           }
          ]
         },
         "layout": {
          "annotationdefaults": {
           "arrowcolor": "#2a3f5f",
           "arrowhead": 0,
           "arrowwidth": 1
          },
          "autotypenumbers": "strict",
          "coloraxis": {
           "colorbar": {
            "outlinewidth": 0,
            "ticks": ""
           }
          },
          "colorscale": {
           "diverging": [
            [
             0,
             "#8e0152"
            ],
            [
             0.1,
             "#c51b7d"
            ],
            [
             0.2,
             "#de77ae"
            ],
            [
             0.3,
             "#f1b6da"
            ],
            [
             0.4,
             "#fde0ef"
            ],
            [
             0.5,
             "#f7f7f7"
            ],
            [
             0.6,
             "#e6f5d0"
            ],
            [
             0.7,
             "#b8e186"
            ],
            [
             0.8,
             "#7fbc41"
            ],
            [
             0.9,
             "#4d9221"
            ],
            [
             1,
             "#276419"
            ]
           ],
           "sequential": [
            [
             0,
             "#0d0887"
            ],
            [
             0.1111111111111111,
             "#46039f"
            ],
            [
             0.2222222222222222,
             "#7201a8"
            ],
            [
             0.3333333333333333,
             "#9c179e"
            ],
            [
             0.4444444444444444,
             "#bd3786"
            ],
            [
             0.5555555555555556,
             "#d8576b"
            ],
            [
             0.6666666666666666,
             "#ed7953"
            ],
            [
             0.7777777777777778,
             "#fb9f3a"
            ],
            [
             0.8888888888888888,
             "#fdca26"
            ],
            [
             1,
             "#f0f921"
            ]
           ],
           "sequentialminus": [
            [
             0,
             "#0d0887"
            ],
            [
             0.1111111111111111,
             "#46039f"
            ],
            [
             0.2222222222222222,
             "#7201a8"
            ],
            [
             0.3333333333333333,
             "#9c179e"
            ],
            [
             0.4444444444444444,
             "#bd3786"
            ],
            [
             0.5555555555555556,
             "#d8576b"
            ],
            [
             0.6666666666666666,
             "#ed7953"
            ],
            [
             0.7777777777777778,
             "#fb9f3a"
            ],
            [
             0.8888888888888888,
             "#fdca26"
            ],
            [
             1,
             "#f0f921"
            ]
           ]
          },
          "colorway": [
           "#636efa",
           "#EF553B",
           "#00cc96",
           "#ab63fa",
           "#FFA15A",
           "#19d3f3",
           "#FF6692",
           "#B6E880",
           "#FF97FF",
           "#FECB52"
          ],
          "font": {
           "color": "#2a3f5f"
          },
          "geo": {
           "bgcolor": "white",
           "lakecolor": "white",
           "landcolor": "#E5ECF6",
           "showlakes": true,
           "showland": true,
           "subunitcolor": "white"
          },
          "hoverlabel": {
           "align": "left"
          },
          "hovermode": "closest",
          "mapbox": {
           "style": "light"
          },
          "paper_bgcolor": "white",
          "plot_bgcolor": "#E5ECF6",
          "polar": {
           "angularaxis": {
            "gridcolor": "white",
            "linecolor": "white",
            "ticks": ""
           },
           "bgcolor": "#E5ECF6",
           "radialaxis": {
            "gridcolor": "white",
            "linecolor": "white",
            "ticks": ""
           }
          },
          "scene": {
           "xaxis": {
            "backgroundcolor": "#E5ECF6",
            "gridcolor": "white",
            "gridwidth": 2,
            "linecolor": "white",
            "showbackground": true,
            "ticks": "",
            "zerolinecolor": "white"
           },
           "yaxis": {
            "backgroundcolor": "#E5ECF6",
            "gridcolor": "white",
            "gridwidth": 2,
            "linecolor": "white",
            "showbackground": true,
            "ticks": "",
            "zerolinecolor": "white"
           },
           "zaxis": {
            "backgroundcolor": "#E5ECF6",
            "gridcolor": "white",
            "gridwidth": 2,
            "linecolor": "white",
            "showbackground": true,
            "ticks": "",
            "zerolinecolor": "white"
           }
          },
          "shapedefaults": {
           "line": {
            "color": "#2a3f5f"
           }
          },
          "ternary": {
           "aaxis": {
            "gridcolor": "white",
            "linecolor": "white",
            "ticks": ""
           },
           "baxis": {
            "gridcolor": "white",
            "linecolor": "white",
            "ticks": ""
           },
           "bgcolor": "#E5ECF6",
           "caxis": {
            "gridcolor": "white",
            "linecolor": "white",
            "ticks": ""
           }
          },
          "title": {
           "x": 0.05
          },
          "xaxis": {
           "automargin": true,
           "gridcolor": "white",
           "linecolor": "white",
           "ticks": "",
           "title": {
            "standoff": 15
           },
           "zerolinecolor": "white",
           "zerolinewidth": 2
          },
          "yaxis": {
           "automargin": true,
           "gridcolor": "white",
           "linecolor": "white",
           "ticks": "",
           "title": {
            "standoff": 15
           },
           "zerolinecolor": "white",
           "zerolinewidth": 2
          }
         }
        },
        "title": {
         "text": "Notable models accessibility over time"
        },
        "width": 1200,
        "xaxis": {
         "anchor": "y",
         "domain": [
          0,
          0.45
         ],
         "range": [
          2018,
          2024
         ],
         "title": {
          "text": "Year"
         }
        },
        "xaxis2": {
         "anchor": "y2",
         "domain": [
          0.55,
          1
         ],
         "range": [
          2018,
          2024
         ],
         "title": {
          "text": "Year"
         }
        },
        "yaxis": {
         "anchor": "x",
         "domain": [
          0,
          1
         ],
         "title": {
          "text": "Cumulative count"
         }
        },
        "yaxis2": {
         "anchor": "x2",
         "domain": [
          0,
          1
         ],
         "range": [
          0,
          1
         ],
         "title": {
          "text": "Cumulative proportion"
         }
        }
       }
      }
     },
     "metadata": {},
     "output_type": "display_data"
    }
   ],
   "source": [
    "# Create a 1x2 subplot\n",
    "fig = make_subplots(rows=1, cols=2, subplot_titles=('Cumulative count',\n",
    "                                                    'Cumulative proportion'))\n",
    "\n",
    "# Define a consistent color palette\n",
    "color_palette = {\n",
    "    'Unreleased': '#d62728',\n",
    "    'Hosted access (no API)': '#ff7f0e',\n",
    "    'API access': '#8c564b',\n",
    "    'Open weights (non-commercial)': '#9467bd',\n",
    "    'Open weights (restricted use)': '#1f77b4',\n",
    "    'Open weights (unrestricted)': '#2ca02c'\n",
    "}\n",
    "\n",
    "# Cumulative area chart\n",
    "for accessibility in cumulative_notable_counts['Model accessibility'].unique():\n",
    "    fig.add_trace(\n",
    "        go.Scatter(x=cumulative_notable_counts[cumulative_notable_counts['Model accessibility'] == accessibility]['Year'], \n",
    "                y=cumulative_notable_counts[cumulative_notable_counts['Model accessibility'] == accessibility]['Cumulative for status'], \n",
    "                hoverinfo='x+y',\n",
    "                stackgroup='one',\n",
    "                mode='lines',\n",
    "                name=accessibility,\n",
    "                line=dict(color=color_palette[accessibility])),\n",
    "        row=1, col=1\n",
    "    )\n",
    "\n",
    "# Normalized area chart\n",
    "for accessibility in normalized_counts_notable['Model accessibility'].unique():\n",
    "    fig.add_trace(\n",
    "        go.Scatter(x=normalized_counts_notable[normalized_counts_notable['Model accessibility'] == accessibility]['Year'], \n",
    "                y=normalized_counts_notable[normalized_counts_notable['Model accessibility'] == accessibility]['proportion'], \n",
    "                hoverinfo='x+y',\n",
    "                stackgroup='one',\n",
    "                mode='lines',\n",
    "                name=accessibility,\n",
    "                line=dict(color=color_palette[accessibility]),\n",
    "                showlegend=False),\n",
    "        row=1, col=2\n",
    "    )\n",
    "\n",
    "# Update layout\n",
    "fig.update_layout(\n",
    "    autosize=False,\n",
    "    width=1200,\n",
    "    height=600,\n",
    "    title_text='Notable models accessibility over time',\n",
    "    showlegend=True\n",
    ")\n",
    "\n",
    "# Update x and y axes\n",
    "fig.update_xaxes(title_text='Year', range=[2018, 2024], row=1, col=1)\n",
    "fig.update_xaxes(title_text='Year', range=[2018, 2024], row=1, col=2)\n",
    "fig.update_yaxes(title_text='Cumulative count', row=1, col=1)\n",
    "fig.update_yaxes(title_text='Cumulative proportion', range=[0, 1], row=1, col=2)\n",
    "\n",
    "save_plot(fig, results_dir, f'cumulative_model_count_by_accessibility')\n",
    "\n",
    "fig.show()"
   ]
  },
  {
   "cell_type": "markdown",
   "metadata": {},
   "source": [
    "This chart shows the proportions over time more clearly - open weights have never been very rare (at least 10%). But open models have become much more common over time, making up around half of models today. The large majority of those are permissively licensed (\"Open weights (unrestricted)\") even today but open with restrictions has become more common over time."
   ]
  },
  {
   "cell_type": "code",
   "execution_count": 28,
   "metadata": {
    "tags": []
   },
   "outputs": [
    {
     "data": {
      "application/vnd.plotly.v1+json": {
       "config": {
        "plotlyServerURL": "https://plot.ly"
       },
       "data": [
        {
         "fillpattern": {
          "shape": ""
         },
         "hovertemplate": "Model accessibility=Unreleased<br>Year=%{x}<br>Cumulative proportion of notable models=%{y}<extra></extra>",
         "legendgroup": "Unreleased",
         "line": {
          "color": "#636efa"
         },
         "marker": {
          "symbol": "circle"
         },
         "mode": "lines",
         "name": "Unreleased",
         "orientation": "v",
         "showlegend": true,
         "stackgroup": "1",
         "type": "scatter",
         "x": [
          2015,
          2016,
          2017,
          2018,
          2019,
          2020,
          2021,
          2022,
          2023,
          2024
         ],
         "xaxis": "x",
         "y": [
          0.7777777777777778,
          0.7391304347826086,
          0.8372093023255814,
          0.7692307692307693,
          0.6233766233766234,
          0.5598086124401914,
          0.5036764705882353,
          0.4732142857142857,
          0.41686746987951806,
          0.40311804008908686
         ],
         "yaxis": "y"
        },
        {
         "fillpattern": {
          "shape": ""
         },
         "hovertemplate": "Model accessibility=Hosted access (no API)<br>Year=%{x}<br>Cumulative proportion of notable models=%{y}<extra></extra>",
         "legendgroup": "Hosted access (no API)",
         "line": {
          "color": "#EF553B"
         },
         "marker": {
          "symbol": "circle"
         },
         "mode": "lines",
         "name": "Hosted access (no API)",
         "orientation": "v",
         "showlegend": true,
         "stackgroup": "1",
         "type": "scatter",
         "x": [
          2015,
          2016,
          2017,
          2018,
          2019,
          2020,
          2021,
          2022,
          2023,
          2024
         ],
         "xaxis": "x",
         "y": [
          0,
          0.043478260869565216,
          0.023255813953488372,
          0.01282051282051282,
          0.006493506493506494,
          0.004784688995215311,
          0.011029411764705883,
          0.008928571428571428,
          0.00963855421686747,
          0.015590200445434299
         ],
         "yaxis": "y"
        },
        {
         "fillpattern": {
          "shape": ""
         },
         "hovertemplate": "Model accessibility=API access<br>Year=%{x}<br>Cumulative proportion of notable models=%{y}<extra></extra>",
         "legendgroup": "API access",
         "line": {
          "color": "#00cc96"
         },
         "marker": {
          "symbol": "circle"
         },
         "mode": "lines",
         "name": "API access",
         "orientation": "v",
         "showlegend": true,
         "stackgroup": "1",
         "type": "scatter",
         "x": [
          2015,
          2016,
          2017,
          2018,
          2019,
          2020,
          2021,
          2022,
          2023,
          2024
         ],
         "xaxis": "x",
         "y": [
          0,
          0,
          0,
          0,
          0,
          0.004784688995215311,
          0.022058823529411766,
          0.03273809523809524,
          0.05542168674698795,
          0.07349665924276169
         ],
         "yaxis": "y"
        },
        {
         "fillpattern": {
          "shape": ""
         },
         "hovertemplate": "Model accessibility=Open weights (non-commercial)<br>Year=%{x}<br>Cumulative proportion of notable models=%{y}<extra></extra>",
         "legendgroup": "Open weights (non-commercial)",
         "line": {
          "color": "#ab63fa"
         },
         "marker": {
          "symbol": "circle"
         },
         "mode": "lines",
         "name": "Open weights (non-commercial)",
         "orientation": "v",
         "showlegend": true,
         "stackgroup": "1",
         "type": "scatter",
         "x": [
          2015,
          2016,
          2017,
          2018,
          2019,
          2020,
          2021,
          2022,
          2023,
          2024
         ],
         "xaxis": "x",
         "y": [
          0,
          0.08695652173913043,
          0.046511627906976744,
          0.038461538461538464,
          0.07792207792207792,
          0.06220095693779904,
          0.0661764705882353,
          0.08333333333333333,
          0.10361445783132531,
          0.09799554565701558
         ],
         "yaxis": "y"
        },
        {
         "fillpattern": {
          "shape": ""
         },
         "hovertemplate": "Model accessibility=Open weights (restricted use)<br>Year=%{x}<br>Cumulative proportion of notable models=%{y}<extra></extra>",
         "legendgroup": "Open weights (restricted use)",
         "line": {
          "color": "#FFA15A"
         },
         "marker": {
          "symbol": "circle"
         },
         "mode": "lines",
         "name": "Open weights (restricted use)",
         "orientation": "v",
         "showlegend": true,
         "stackgroup": "1",
         "type": "scatter",
         "x": [
          2015,
          2016,
          2017,
          2018,
          2019,
          2020,
          2021,
          2022,
          2023,
          2024
         ],
         "xaxis": "x",
         "y": [
          0,
          0,
          0,
          0,
          0,
          0,
          0,
          0.005952380952380952,
          0.04578313253012048,
          0.053452115812917596
         ],
         "yaxis": "y"
        },
        {
         "fillpattern": {
          "shape": ""
         },
         "hovertemplate": "Model accessibility=Open weights (unrestricted)<br>Year=%{x}<br>Cumulative proportion of notable models=%{y}<extra></extra>",
         "legendgroup": "Open weights (unrestricted)",
         "line": {
          "color": "#19d3f3"
         },
         "marker": {
          "symbol": "circle"
         },
         "mode": "lines",
         "name": "Open weights (unrestricted)",
         "orientation": "v",
         "showlegend": true,
         "stackgroup": "1",
         "type": "scatter",
         "x": [
          2015,
          2016,
          2017,
          2018,
          2019,
          2020,
          2021,
          2022,
          2023,
          2024
         ],
         "xaxis": "x",
         "y": [
          0.2222222222222222,
          0.13043478260869565,
          0.09302325581395349,
          0.1794871794871795,
          0.2922077922077922,
          0.3684210526315789,
          0.39705882352941174,
          0.3958333333333333,
          0.3686746987951807,
          0.35634743875278396
         ],
         "yaxis": "y"
        }
       ],
       "layout": {
        "autosize": false,
        "height": 600,
        "legend": {
         "title": {
          "text": "Model accessibility"
         },
         "tracegroupgap": 0
        },
        "template": {
         "data": {
          "bar": [
           {
            "error_x": {
             "color": "#2a3f5f"
            },
            "error_y": {
             "color": "#2a3f5f"
            },
            "marker": {
             "line": {
              "color": "#E5ECF6",
              "width": 0.5
             },
             "pattern": {
              "fillmode": "overlay",
              "size": 10,
              "solidity": 0.2
             }
            },
            "type": "bar"
           }
          ],
          "barpolar": [
           {
            "marker": {
             "line": {
              "color": "#E5ECF6",
              "width": 0.5
             },
             "pattern": {
              "fillmode": "overlay",
              "size": 10,
              "solidity": 0.2
             }
            },
            "type": "barpolar"
           }
          ],
          "carpet": [
           {
            "aaxis": {
             "endlinecolor": "#2a3f5f",
             "gridcolor": "white",
             "linecolor": "white",
             "minorgridcolor": "white",
             "startlinecolor": "#2a3f5f"
            },
            "baxis": {
             "endlinecolor": "#2a3f5f",
             "gridcolor": "white",
             "linecolor": "white",
             "minorgridcolor": "white",
             "startlinecolor": "#2a3f5f"
            },
            "type": "carpet"
           }
          ],
          "choropleth": [
           {
            "colorbar": {
             "outlinewidth": 0,
             "ticks": ""
            },
            "type": "choropleth"
           }
          ],
          "contour": [
           {
            "colorbar": {
             "outlinewidth": 0,
             "ticks": ""
            },
            "colorscale": [
             [
              0,
              "#0d0887"
             ],
             [
              0.1111111111111111,
              "#46039f"
             ],
             [
              0.2222222222222222,
              "#7201a8"
             ],
             [
              0.3333333333333333,
              "#9c179e"
             ],
             [
              0.4444444444444444,
              "#bd3786"
             ],
             [
              0.5555555555555556,
              "#d8576b"
             ],
             [
              0.6666666666666666,
              "#ed7953"
             ],
             [
              0.7777777777777778,
              "#fb9f3a"
             ],
             [
              0.8888888888888888,
              "#fdca26"
             ],
             [
              1,
              "#f0f921"
             ]
            ],
            "type": "contour"
           }
          ],
          "contourcarpet": [
           {
            "colorbar": {
             "outlinewidth": 0,
             "ticks": ""
            },
            "type": "contourcarpet"
           }
          ],
          "heatmap": [
           {
            "colorbar": {
             "outlinewidth": 0,
             "ticks": ""
            },
            "colorscale": [
             [
              0,
              "#0d0887"
             ],
             [
              0.1111111111111111,
              "#46039f"
             ],
             [
              0.2222222222222222,
              "#7201a8"
             ],
             [
              0.3333333333333333,
              "#9c179e"
             ],
             [
              0.4444444444444444,
              "#bd3786"
             ],
             [
              0.5555555555555556,
              "#d8576b"
             ],
             [
              0.6666666666666666,
              "#ed7953"
             ],
             [
              0.7777777777777778,
              "#fb9f3a"
             ],
             [
              0.8888888888888888,
              "#fdca26"
             ],
             [
              1,
              "#f0f921"
             ]
            ],
            "type": "heatmap"
           }
          ],
          "heatmapgl": [
           {
            "colorbar": {
             "outlinewidth": 0,
             "ticks": ""
            },
            "colorscale": [
             [
              0,
              "#0d0887"
             ],
             [
              0.1111111111111111,
              "#46039f"
             ],
             [
              0.2222222222222222,
              "#7201a8"
             ],
             [
              0.3333333333333333,
              "#9c179e"
             ],
             [
              0.4444444444444444,
              "#bd3786"
             ],
             [
              0.5555555555555556,
              "#d8576b"
             ],
             [
              0.6666666666666666,
              "#ed7953"
             ],
             [
              0.7777777777777778,
              "#fb9f3a"
             ],
             [
              0.8888888888888888,
              "#fdca26"
             ],
             [
              1,
              "#f0f921"
             ]
            ],
            "type": "heatmapgl"
           }
          ],
          "histogram": [
           {
            "marker": {
             "pattern": {
              "fillmode": "overlay",
              "size": 10,
              "solidity": 0.2
             }
            },
            "type": "histogram"
           }
          ],
          "histogram2d": [
           {
            "colorbar": {
             "outlinewidth": 0,
             "ticks": ""
            },
            "colorscale": [
             [
              0,
              "#0d0887"
             ],
             [
              0.1111111111111111,
              "#46039f"
             ],
             [
              0.2222222222222222,
              "#7201a8"
             ],
             [
              0.3333333333333333,
              "#9c179e"
             ],
             [
              0.4444444444444444,
              "#bd3786"
             ],
             [
              0.5555555555555556,
              "#d8576b"
             ],
             [
              0.6666666666666666,
              "#ed7953"
             ],
             [
              0.7777777777777778,
              "#fb9f3a"
             ],
             [
              0.8888888888888888,
              "#fdca26"
             ],
             [
              1,
              "#f0f921"
             ]
            ],
            "type": "histogram2d"
           }
          ],
          "histogram2dcontour": [
           {
            "colorbar": {
             "outlinewidth": 0,
             "ticks": ""
            },
            "colorscale": [
             [
              0,
              "#0d0887"
             ],
             [
              0.1111111111111111,
              "#46039f"
             ],
             [
              0.2222222222222222,
              "#7201a8"
             ],
             [
              0.3333333333333333,
              "#9c179e"
             ],
             [
              0.4444444444444444,
              "#bd3786"
             ],
             [
              0.5555555555555556,
              "#d8576b"
             ],
             [
              0.6666666666666666,
              "#ed7953"
             ],
             [
              0.7777777777777778,
              "#fb9f3a"
             ],
             [
              0.8888888888888888,
              "#fdca26"
             ],
             [
              1,
              "#f0f921"
             ]
            ],
            "type": "histogram2dcontour"
           }
          ],
          "mesh3d": [
           {
            "colorbar": {
             "outlinewidth": 0,
             "ticks": ""
            },
            "type": "mesh3d"
           }
          ],
          "parcoords": [
           {
            "line": {
             "colorbar": {
              "outlinewidth": 0,
              "ticks": ""
             }
            },
            "type": "parcoords"
           }
          ],
          "pie": [
           {
            "automargin": true,
            "type": "pie"
           }
          ],
          "scatter": [
           {
            "fillpattern": {
             "fillmode": "overlay",
             "size": 10,
             "solidity": 0.2
            },
            "type": "scatter"
           }
          ],
          "scatter3d": [
           {
            "line": {
             "colorbar": {
              "outlinewidth": 0,
              "ticks": ""
             }
            },
            "marker": {
             "colorbar": {
              "outlinewidth": 0,
              "ticks": ""
             }
            },
            "type": "scatter3d"
           }
          ],
          "scattercarpet": [
           {
            "marker": {
             "colorbar": {
              "outlinewidth": 0,
              "ticks": ""
             }
            },
            "type": "scattercarpet"
           }
          ],
          "scattergeo": [
           {
            "marker": {
             "colorbar": {
              "outlinewidth": 0,
              "ticks": ""
             }
            },
            "type": "scattergeo"
           }
          ],
          "scattergl": [
           {
            "marker": {
             "colorbar": {
              "outlinewidth": 0,
              "ticks": ""
             }
            },
            "type": "scattergl"
           }
          ],
          "scattermapbox": [
           {
            "marker": {
             "colorbar": {
              "outlinewidth": 0,
              "ticks": ""
             }
            },
            "type": "scattermapbox"
           }
          ],
          "scatterpolar": [
           {
            "marker": {
             "colorbar": {
              "outlinewidth": 0,
              "ticks": ""
             }
            },
            "type": "scatterpolar"
           }
          ],
          "scatterpolargl": [
           {
            "marker": {
             "colorbar": {
              "outlinewidth": 0,
              "ticks": ""
             }
            },
            "type": "scatterpolargl"
           }
          ],
          "scatterternary": [
           {
            "marker": {
             "colorbar": {
              "outlinewidth": 0,
              "ticks": ""
             }
            },
            "type": "scatterternary"
           }
          ],
          "surface": [
           {
            "colorbar": {
             "outlinewidth": 0,
             "ticks": ""
            },
            "colorscale": [
             [
              0,
              "#0d0887"
             ],
             [
              0.1111111111111111,
              "#46039f"
             ],
             [
              0.2222222222222222,
              "#7201a8"
             ],
             [
              0.3333333333333333,
              "#9c179e"
             ],
             [
              0.4444444444444444,
              "#bd3786"
             ],
             [
              0.5555555555555556,
              "#d8576b"
             ],
             [
              0.6666666666666666,
              "#ed7953"
             ],
             [
              0.7777777777777778,
              "#fb9f3a"
             ],
             [
              0.8888888888888888,
              "#fdca26"
             ],
             [
              1,
              "#f0f921"
             ]
            ],
            "type": "surface"
           }
          ],
          "table": [
           {
            "cells": {
             "fill": {
              "color": "#EBF0F8"
             },
             "line": {
              "color": "white"
             }
            },
            "header": {
             "fill": {
              "color": "#C8D4E3"
             },
             "line": {
              "color": "white"
             }
            },
            "type": "table"
           }
          ]
         },
         "layout": {
          "annotationdefaults": {
           "arrowcolor": "#2a3f5f",
           "arrowhead": 0,
           "arrowwidth": 1
          },
          "autotypenumbers": "strict",
          "coloraxis": {
           "colorbar": {
            "outlinewidth": 0,
            "ticks": ""
           }
          },
          "colorscale": {
           "diverging": [
            [
             0,
             "#8e0152"
            ],
            [
             0.1,
             "#c51b7d"
            ],
            [
             0.2,
             "#de77ae"
            ],
            [
             0.3,
             "#f1b6da"
            ],
            [
             0.4,
             "#fde0ef"
            ],
            [
             0.5,
             "#f7f7f7"
            ],
            [
             0.6,
             "#e6f5d0"
            ],
            [
             0.7,
             "#b8e186"
            ],
            [
             0.8,
             "#7fbc41"
            ],
            [
             0.9,
             "#4d9221"
            ],
            [
             1,
             "#276419"
            ]
           ],
           "sequential": [
            [
             0,
             "#0d0887"
            ],
            [
             0.1111111111111111,
             "#46039f"
            ],
            [
             0.2222222222222222,
             "#7201a8"
            ],
            [
             0.3333333333333333,
             "#9c179e"
            ],
            [
             0.4444444444444444,
             "#bd3786"
            ],
            [
             0.5555555555555556,
             "#d8576b"
            ],
            [
             0.6666666666666666,
             "#ed7953"
            ],
            [
             0.7777777777777778,
             "#fb9f3a"
            ],
            [
             0.8888888888888888,
             "#fdca26"
            ],
            [
             1,
             "#f0f921"
            ]
           ],
           "sequentialminus": [
            [
             0,
             "#0d0887"
            ],
            [
             0.1111111111111111,
             "#46039f"
            ],
            [
             0.2222222222222222,
             "#7201a8"
            ],
            [
             0.3333333333333333,
             "#9c179e"
            ],
            [
             0.4444444444444444,
             "#bd3786"
            ],
            [
             0.5555555555555556,
             "#d8576b"
            ],
            [
             0.6666666666666666,
             "#ed7953"
            ],
            [
             0.7777777777777778,
             "#fb9f3a"
            ],
            [
             0.8888888888888888,
             "#fdca26"
            ],
            [
             1,
             "#f0f921"
            ]
           ]
          },
          "colorway": [
           "#636efa",
           "#EF553B",
           "#00cc96",
           "#ab63fa",
           "#FFA15A",
           "#19d3f3",
           "#FF6692",
           "#B6E880",
           "#FF97FF",
           "#FECB52"
          ],
          "font": {
           "color": "#2a3f5f"
          },
          "geo": {
           "bgcolor": "white",
           "lakecolor": "white",
           "landcolor": "#E5ECF6",
           "showlakes": true,
           "showland": true,
           "subunitcolor": "white"
          },
          "hoverlabel": {
           "align": "left"
          },
          "hovermode": "closest",
          "mapbox": {
           "style": "light"
          },
          "paper_bgcolor": "white",
          "plot_bgcolor": "#E5ECF6",
          "polar": {
           "angularaxis": {
            "gridcolor": "white",
            "linecolor": "white",
            "ticks": ""
           },
           "bgcolor": "#E5ECF6",
           "radialaxis": {
            "gridcolor": "white",
            "linecolor": "white",
            "ticks": ""
           }
          },
          "scene": {
           "xaxis": {
            "backgroundcolor": "#E5ECF6",
            "gridcolor": "white",
            "gridwidth": 2,
            "linecolor": "white",
            "showbackground": true,
            "ticks": "",
            "zerolinecolor": "white"
           },
           "yaxis": {
            "backgroundcolor": "#E5ECF6",
            "gridcolor": "white",
            "gridwidth": 2,
            "linecolor": "white",
            "showbackground": true,
            "ticks": "",
            "zerolinecolor": "white"
           },
           "zaxis": {
            "backgroundcolor": "#E5ECF6",
            "gridcolor": "white",
            "gridwidth": 2,
            "linecolor": "white",
            "showbackground": true,
            "ticks": "",
            "zerolinecolor": "white"
           }
          },
          "shapedefaults": {
           "line": {
            "color": "#2a3f5f"
           }
          },
          "ternary": {
           "aaxis": {
            "gridcolor": "white",
            "linecolor": "white",
            "ticks": ""
           },
           "baxis": {
            "gridcolor": "white",
            "linecolor": "white",
            "ticks": ""
           },
           "bgcolor": "#E5ECF6",
           "caxis": {
            "gridcolor": "white",
            "linecolor": "white",
            "ticks": ""
           }
          },
          "title": {
           "x": 0.05
          },
          "xaxis": {
           "automargin": true,
           "gridcolor": "white",
           "linecolor": "white",
           "ticks": "",
           "title": {
            "standoff": 15
           },
           "zerolinecolor": "white",
           "zerolinewidth": 2
          },
          "yaxis": {
           "automargin": true,
           "gridcolor": "white",
           "linecolor": "white",
           "ticks": "",
           "title": {
            "standoff": 15
           },
           "zerolinecolor": "white",
           "zerolinewidth": 2
          }
         }
        },
        "title": {
         "text": "An increasing share of notable models have open weights",
         "x": 0.2
        },
        "width": 800,
        "xaxis": {
         "anchor": "y",
         "domain": [
          0,
          1
         ],
         "range": [
          2018,
          2024
         ],
         "title": {
          "text": "Year"
         }
        },
        "yaxis": {
         "anchor": "x",
         "domain": [
          0,
          1
         ],
         "range": [
          0,
          1
         ],
         "title": {
          "text": "Cumulative proportion of notable models"
         }
        }
       }
      }
     },
     "metadata": {},
     "output_type": "display_data"
    }
   ],
   "source": [
    "fig = px.area(normalized_counts_notable, x='Year', y='proportion', color='Model accessibility', line_group='Model accessibility',\n",
    "              labels={'proportion': 'Cumulative proportion of notable models', 'Year': 'Year'},\n",
    "              title='An increasing share of notable models have open weights')\n",
    "\n",
    "fig.update_yaxes(range=[0, 1])\n",
    "fig.update_xaxes(range=[2018, 2024])\n",
    "fig.update_layout(\n",
    "    autosize=False,\n",
    "    width=800,\n",
    "    height=600,\n",
    "    title_x=0.2,\n",
    ")\n",
    "\n",
    "save_plot(fig, results_dir, f'notable_model_proportion_by_accessibility_area')\n",
    "\n",
    "fig.show()"
   ]
  },
  {
   "cell_type": "code",
   "execution_count": 29,
   "metadata": {},
   "outputs": [
    {
     "data": {
      "application/vnd.plotly.v1+json": {
       "config": {
        "plotlyServerURL": "https://plot.ly"
       },
       "data": [
        {
         "fillpattern": {
          "shape": ""
         },
         "hovertemplate": "Model accessibility=Unreleased<br>Year=%{x}<br>Proportion=%{y}<extra></extra>",
         "legendgroup": "Unreleased",
         "line": {
          "color": "#636efa"
         },
         "marker": {
          "symbol": "circle"
         },
         "mode": "lines",
         "name": "Unreleased",
         "orientation": "v",
         "showlegend": true,
         "stackgroup": "1",
         "type": "scatter",
         "x": [
          2015,
          2016,
          2017,
          2018,
          2019,
          2020,
          2021,
          2022,
          2023,
          2024
         ],
         "xaxis": "x",
         "y": [
          0.6923076923076923,
          0.775,
          0.8589743589743589,
          0.7724137931034483,
          0.7177700348432056,
          0.6832460732984293,
          0.6370510396975425,
          0.5802098950524738,
          0.4722524483133841,
          0.42857142857142855
         ],
         "yaxis": "y"
        },
        {
         "fillpattern": {
          "shape": ""
         },
         "hovertemplate": "Model accessibility=Hosted access (no API)<br>Year=%{x}<br>Proportion=%{y}<extra></extra>",
         "legendgroup": "Hosted access (no API)",
         "line": {
          "color": "#EF553B"
         },
         "marker": {
          "symbol": "circle"
         },
         "mode": "lines",
         "name": "Hosted access (no API)",
         "orientation": "v",
         "showlegend": true,
         "stackgroup": "1",
         "type": "scatter",
         "x": [
          2015,
          2016,
          2017,
          2018,
          2019,
          2020,
          2021,
          2022,
          2023,
          2024
         ],
         "xaxis": "x",
         "y": [
          0,
          0.025,
          0.01282051282051282,
          0.006896551724137931,
          0.006968641114982578,
          0.005235602094240838,
          0.007561436672967864,
          0.010494752623688156,
          0.017410228509249184,
          0.026490066225165563
         ],
         "yaxis": "y"
        },
        {
         "fillpattern": {
          "shape": ""
         },
         "hovertemplate": "Model accessibility=API access<br>Year=%{x}<br>Proportion=%{y}<extra></extra>",
         "legendgroup": "API access",
         "line": {
          "color": "#00cc96"
         },
         "marker": {
          "symbol": "circle"
         },
         "mode": "lines",
         "name": "API access",
         "orientation": "v",
         "showlegend": true,
         "stackgroup": "1",
         "type": "scatter",
         "x": [
          2015,
          2016,
          2017,
          2018,
          2019,
          2020,
          2021,
          2022,
          2023,
          2024
         ],
         "xaxis": "x",
         "y": [
          0,
          0,
          0,
          0,
          0,
          0.002617801047120419,
          0.017013232514177693,
          0.0239880059970015,
          0.04570184983677911,
          0.06244087038789026
         ],
         "yaxis": "y"
        },
        {
         "fillpattern": {
          "shape": ""
         },
         "hovertemplate": "Model accessibility=Open weights (non-commercial)<br>Year=%{x}<br>Proportion=%{y}<extra></extra>",
         "legendgroup": "Open weights (non-commercial)",
         "line": {
          "color": "#ab63fa"
         },
         "marker": {
          "symbol": "circle"
         },
         "mode": "lines",
         "name": "Open weights (non-commercial)",
         "orientation": "v",
         "showlegend": true,
         "stackgroup": "1",
         "type": "scatter",
         "x": [
          2015,
          2016,
          2017,
          2018,
          2019,
          2020,
          2021,
          2022,
          2023,
          2024
         ],
         "xaxis": "x",
         "y": [
          0,
          0.05,
          0.02564102564102564,
          0.027586206896551724,
          0.05226480836236934,
          0.04712041884816754,
          0.04914933837429111,
          0.06896551724137931,
          0.08596300326441784,
          0.08987701040681173
         ],
         "yaxis": "y"
        },
        {
         "fillpattern": {
          "shape": ""
         },
         "hovertemplate": "Model accessibility=Open weights (restricted use)<br>Year=%{x}<br>Proportion=%{y}<extra></extra>",
         "legendgroup": "Open weights (restricted use)",
         "line": {
          "color": "#FFA15A"
         },
         "marker": {
          "symbol": "circle"
         },
         "mode": "lines",
         "name": "Open weights (restricted use)",
         "orientation": "v",
         "showlegend": true,
         "stackgroup": "1",
         "type": "scatter",
         "x": [
          2015,
          2016,
          2017,
          2018,
          2019,
          2020,
          2021,
          2022,
          2023,
          2024
         ],
         "xaxis": "x",
         "y": [
          0,
          0,
          0,
          0,
          0,
          0,
          0,
          0.014992503748125937,
          0.0544069640914037,
          0.07757805108798486
         ],
         "yaxis": "y"
        },
        {
         "fillpattern": {
          "shape": ""
         },
         "hovertemplate": "Model accessibility=Open weights (unrestricted)<br>Year=%{x}<br>Proportion=%{y}<extra></extra>",
         "legendgroup": "Open weights (unrestricted)",
         "line": {
          "color": "#19d3f3"
         },
         "marker": {
          "symbol": "circle"
         },
         "mode": "lines",
         "name": "Open weights (unrestricted)",
         "orientation": "v",
         "showlegend": true,
         "stackgroup": "1",
         "type": "scatter",
         "x": [
          2015,
          2016,
          2017,
          2018,
          2019,
          2020,
          2021,
          2022,
          2023,
          2024
         ],
         "xaxis": "x",
         "y": [
          0.3076923076923077,
          0.15,
          0.10256410256410256,
          0.19310344827586207,
          0.2229965156794425,
          0.2617801047120419,
          0.2892249527410208,
          0.30134932533733133,
          0.32426550598476606,
          0.315042573320719
         ],
         "yaxis": "y"
        }
       ],
       "layout": {
        "autosize": false,
        "height": 600,
        "legend": {
         "title": {
          "text": "Model accessibility"
         },
         "tracegroupgap": 0
        },
        "template": {
         "data": {
          "bar": [
           {
            "error_x": {
             "color": "#2a3f5f"
            },
            "error_y": {
             "color": "#2a3f5f"
            },
            "marker": {
             "line": {
              "color": "#E5ECF6",
              "width": 0.5
             },
             "pattern": {
              "fillmode": "overlay",
              "size": 10,
              "solidity": 0.2
             }
            },
            "type": "bar"
           }
          ],
          "barpolar": [
           {
            "marker": {
             "line": {
              "color": "#E5ECF6",
              "width": 0.5
             },
             "pattern": {
              "fillmode": "overlay",
              "size": 10,
              "solidity": 0.2
             }
            },
            "type": "barpolar"
           }
          ],
          "carpet": [
           {
            "aaxis": {
             "endlinecolor": "#2a3f5f",
             "gridcolor": "white",
             "linecolor": "white",
             "minorgridcolor": "white",
             "startlinecolor": "#2a3f5f"
            },
            "baxis": {
             "endlinecolor": "#2a3f5f",
             "gridcolor": "white",
             "linecolor": "white",
             "minorgridcolor": "white",
             "startlinecolor": "#2a3f5f"
            },
            "type": "carpet"
           }
          ],
          "choropleth": [
           {
            "colorbar": {
             "outlinewidth": 0,
             "ticks": ""
            },
            "type": "choropleth"
           }
          ],
          "contour": [
           {
            "colorbar": {
             "outlinewidth": 0,
             "ticks": ""
            },
            "colorscale": [
             [
              0,
              "#0d0887"
             ],
             [
              0.1111111111111111,
              "#46039f"
             ],
             [
              0.2222222222222222,
              "#7201a8"
             ],
             [
              0.3333333333333333,
              "#9c179e"
             ],
             [
              0.4444444444444444,
              "#bd3786"
             ],
             [
              0.5555555555555556,
              "#d8576b"
             ],
             [
              0.6666666666666666,
              "#ed7953"
             ],
             [
              0.7777777777777778,
              "#fb9f3a"
             ],
             [
              0.8888888888888888,
              "#fdca26"
             ],
             [
              1,
              "#f0f921"
             ]
            ],
            "type": "contour"
           }
          ],
          "contourcarpet": [
           {
            "colorbar": {
             "outlinewidth": 0,
             "ticks": ""
            },
            "type": "contourcarpet"
           }
          ],
          "heatmap": [
           {
            "colorbar": {
             "outlinewidth": 0,
             "ticks": ""
            },
            "colorscale": [
             [
              0,
              "#0d0887"
             ],
             [
              0.1111111111111111,
              "#46039f"
             ],
             [
              0.2222222222222222,
              "#7201a8"
             ],
             [
              0.3333333333333333,
              "#9c179e"
             ],
             [
              0.4444444444444444,
              "#bd3786"
             ],
             [
              0.5555555555555556,
              "#d8576b"
             ],
             [
              0.6666666666666666,
              "#ed7953"
             ],
             [
              0.7777777777777778,
              "#fb9f3a"
             ],
             [
              0.8888888888888888,
              "#fdca26"
             ],
             [
              1,
              "#f0f921"
             ]
            ],
            "type": "heatmap"
           }
          ],
          "heatmapgl": [
           {
            "colorbar": {
             "outlinewidth": 0,
             "ticks": ""
            },
            "colorscale": [
             [
              0,
              "#0d0887"
             ],
             [
              0.1111111111111111,
              "#46039f"
             ],
             [
              0.2222222222222222,
              "#7201a8"
             ],
             [
              0.3333333333333333,
              "#9c179e"
             ],
             [
              0.4444444444444444,
              "#bd3786"
             ],
             [
              0.5555555555555556,
              "#d8576b"
             ],
             [
              0.6666666666666666,
              "#ed7953"
             ],
             [
              0.7777777777777778,
              "#fb9f3a"
             ],
             [
              0.8888888888888888,
              "#fdca26"
             ],
             [
              1,
              "#f0f921"
             ]
            ],
            "type": "heatmapgl"
           }
          ],
          "histogram": [
           {
            "marker": {
             "pattern": {
              "fillmode": "overlay",
              "size": 10,
              "solidity": 0.2
             }
            },
            "type": "histogram"
           }
          ],
          "histogram2d": [
           {
            "colorbar": {
             "outlinewidth": 0,
             "ticks": ""
            },
            "colorscale": [
             [
              0,
              "#0d0887"
             ],
             [
              0.1111111111111111,
              "#46039f"
             ],
             [
              0.2222222222222222,
              "#7201a8"
             ],
             [
              0.3333333333333333,
              "#9c179e"
             ],
             [
              0.4444444444444444,
              "#bd3786"
             ],
             [
              0.5555555555555556,
              "#d8576b"
             ],
             [
              0.6666666666666666,
              "#ed7953"
             ],
             [
              0.7777777777777778,
              "#fb9f3a"
             ],
             [
              0.8888888888888888,
              "#fdca26"
             ],
             [
              1,
              "#f0f921"
             ]
            ],
            "type": "histogram2d"
           }
          ],
          "histogram2dcontour": [
           {
            "colorbar": {
             "outlinewidth": 0,
             "ticks": ""
            },
            "colorscale": [
             [
              0,
              "#0d0887"
             ],
             [
              0.1111111111111111,
              "#46039f"
             ],
             [
              0.2222222222222222,
              "#7201a8"
             ],
             [
              0.3333333333333333,
              "#9c179e"
             ],
             [
              0.4444444444444444,
              "#bd3786"
             ],
             [
              0.5555555555555556,
              "#d8576b"
             ],
             [
              0.6666666666666666,
              "#ed7953"
             ],
             [
              0.7777777777777778,
              "#fb9f3a"
             ],
             [
              0.8888888888888888,
              "#fdca26"
             ],
             [
              1,
              "#f0f921"
             ]
            ],
            "type": "histogram2dcontour"
           }
          ],
          "mesh3d": [
           {
            "colorbar": {
             "outlinewidth": 0,
             "ticks": ""
            },
            "type": "mesh3d"
           }
          ],
          "parcoords": [
           {
            "line": {
             "colorbar": {
              "outlinewidth": 0,
              "ticks": ""
             }
            },
            "type": "parcoords"
           }
          ],
          "pie": [
           {
            "automargin": true,
            "type": "pie"
           }
          ],
          "scatter": [
           {
            "fillpattern": {
             "fillmode": "overlay",
             "size": 10,
             "solidity": 0.2
            },
            "type": "scatter"
           }
          ],
          "scatter3d": [
           {
            "line": {
             "colorbar": {
              "outlinewidth": 0,
              "ticks": ""
             }
            },
            "marker": {
             "colorbar": {
              "outlinewidth": 0,
              "ticks": ""
             }
            },
            "type": "scatter3d"
           }
          ],
          "scattercarpet": [
           {
            "marker": {
             "colorbar": {
              "outlinewidth": 0,
              "ticks": ""
             }
            },
            "type": "scattercarpet"
           }
          ],
          "scattergeo": [
           {
            "marker": {
             "colorbar": {
              "outlinewidth": 0,
              "ticks": ""
             }
            },
            "type": "scattergeo"
           }
          ],
          "scattergl": [
           {
            "marker": {
             "colorbar": {
              "outlinewidth": 0,
              "ticks": ""
             }
            },
            "type": "scattergl"
           }
          ],
          "scattermapbox": [
           {
            "marker": {
             "colorbar": {
              "outlinewidth": 0,
              "ticks": ""
             }
            },
            "type": "scattermapbox"
           }
          ],
          "scatterpolar": [
           {
            "marker": {
             "colorbar": {
              "outlinewidth": 0,
              "ticks": ""
             }
            },
            "type": "scatterpolar"
           }
          ],
          "scatterpolargl": [
           {
            "marker": {
             "colorbar": {
              "outlinewidth": 0,
              "ticks": ""
             }
            },
            "type": "scatterpolargl"
           }
          ],
          "scatterternary": [
           {
            "marker": {
             "colorbar": {
              "outlinewidth": 0,
              "ticks": ""
             }
            },
            "type": "scatterternary"
           }
          ],
          "surface": [
           {
            "colorbar": {
             "outlinewidth": 0,
             "ticks": ""
            },
            "colorscale": [
             [
              0,
              "#0d0887"
             ],
             [
              0.1111111111111111,
              "#46039f"
             ],
             [
              0.2222222222222222,
              "#7201a8"
             ],
             [
              0.3333333333333333,
              "#9c179e"
             ],
             [
              0.4444444444444444,
              "#bd3786"
             ],
             [
              0.5555555555555556,
              "#d8576b"
             ],
             [
              0.6666666666666666,
              "#ed7953"
             ],
             [
              0.7777777777777778,
              "#fb9f3a"
             ],
             [
              0.8888888888888888,
              "#fdca26"
             ],
             [
              1,
              "#f0f921"
             ]
            ],
            "type": "surface"
           }
          ],
          "table": [
           {
            "cells": {
             "fill": {
              "color": "#EBF0F8"
             },
             "line": {
              "color": "white"
             }
            },
            "header": {
             "fill": {
              "color": "#C8D4E3"
             },
             "line": {
              "color": "white"
             }
            },
            "type": "table"
           }
          ]
         },
         "layout": {
          "annotationdefaults": {
           "arrowcolor": "#2a3f5f",
           "arrowhead": 0,
           "arrowwidth": 1
          },
          "autotypenumbers": "strict",
          "coloraxis": {
           "colorbar": {
            "outlinewidth": 0,
            "ticks": ""
           }
          },
          "colorscale": {
           "diverging": [
            [
             0,
             "#8e0152"
            ],
            [
             0.1,
             "#c51b7d"
            ],
            [
             0.2,
             "#de77ae"
            ],
            [
             0.3,
             "#f1b6da"
            ],
            [
             0.4,
             "#fde0ef"
            ],
            [
             0.5,
             "#f7f7f7"
            ],
            [
             0.6,
             "#e6f5d0"
            ],
            [
             0.7,
             "#b8e186"
            ],
            [
             0.8,
             "#7fbc41"
            ],
            [
             0.9,
             "#4d9221"
            ],
            [
             1,
             "#276419"
            ]
           ],
           "sequential": [
            [
             0,
             "#0d0887"
            ],
            [
             0.1111111111111111,
             "#46039f"
            ],
            [
             0.2222222222222222,
             "#7201a8"
            ],
            [
             0.3333333333333333,
             "#9c179e"
            ],
            [
             0.4444444444444444,
             "#bd3786"
            ],
            [
             0.5555555555555556,
             "#d8576b"
            ],
            [
             0.6666666666666666,
             "#ed7953"
            ],
            [
             0.7777777777777778,
             "#fb9f3a"
            ],
            [
             0.8888888888888888,
             "#fdca26"
            ],
            [
             1,
             "#f0f921"
            ]
           ],
           "sequentialminus": [
            [
             0,
             "#0d0887"
            ],
            [
             0.1111111111111111,
             "#46039f"
            ],
            [
             0.2222222222222222,
             "#7201a8"
            ],
            [
             0.3333333333333333,
             "#9c179e"
            ],
            [
             0.4444444444444444,
             "#bd3786"
            ],
            [
             0.5555555555555556,
             "#d8576b"
            ],
            [
             0.6666666666666666,
             "#ed7953"
            ],
            [
             0.7777777777777778,
             "#fb9f3a"
            ],
            [
             0.8888888888888888,
             "#fdca26"
            ],
            [
             1,
             "#f0f921"
            ]
           ]
          },
          "colorway": [
           "#636efa",
           "#EF553B",
           "#00cc96",
           "#ab63fa",
           "#FFA15A",
           "#19d3f3",
           "#FF6692",
           "#B6E880",
           "#FF97FF",
           "#FECB52"
          ],
          "font": {
           "color": "#2a3f5f"
          },
          "geo": {
           "bgcolor": "white",
           "lakecolor": "white",
           "landcolor": "#E5ECF6",
           "showlakes": true,
           "showland": true,
           "subunitcolor": "white"
          },
          "hoverlabel": {
           "align": "left"
          },
          "hovermode": "closest",
          "mapbox": {
           "style": "light"
          },
          "paper_bgcolor": "white",
          "plot_bgcolor": "#E5ECF6",
          "polar": {
           "angularaxis": {
            "gridcolor": "white",
            "linecolor": "white",
            "ticks": ""
           },
           "bgcolor": "#E5ECF6",
           "radialaxis": {
            "gridcolor": "white",
            "linecolor": "white",
            "ticks": ""
           }
          },
          "scene": {
           "xaxis": {
            "backgroundcolor": "#E5ECF6",
            "gridcolor": "white",
            "gridwidth": 2,
            "linecolor": "white",
            "showbackground": true,
            "ticks": "",
            "zerolinecolor": "white"
           },
           "yaxis": {
            "backgroundcolor": "#E5ECF6",
            "gridcolor": "white",
            "gridwidth": 2,
            "linecolor": "white",
            "showbackground": true,
            "ticks": "",
            "zerolinecolor": "white"
           },
           "zaxis": {
            "backgroundcolor": "#E5ECF6",
            "gridcolor": "white",
            "gridwidth": 2,
            "linecolor": "white",
            "showbackground": true,
            "ticks": "",
            "zerolinecolor": "white"
           }
          },
          "shapedefaults": {
           "line": {
            "color": "#2a3f5f"
           }
          },
          "ternary": {
           "aaxis": {
            "gridcolor": "white",
            "linecolor": "white",
            "ticks": ""
           },
           "baxis": {
            "gridcolor": "white",
            "linecolor": "white",
            "ticks": ""
           },
           "bgcolor": "#E5ECF6",
           "caxis": {
            "gridcolor": "white",
            "linecolor": "white",
            "ticks": ""
           }
          },
          "title": {
           "x": 0.05
          },
          "xaxis": {
           "automargin": true,
           "gridcolor": "white",
           "linecolor": "white",
           "ticks": "",
           "title": {
            "standoff": 15
           },
           "zerolinecolor": "white",
           "zerolinewidth": 2
          },
          "yaxis": {
           "automargin": true,
           "gridcolor": "white",
           "linecolor": "white",
           "ticks": "",
           "title": {
            "standoff": 15
           },
           "zerolinecolor": "white",
           "zerolinewidth": 2
          }
         }
        },
        "title": {
         "text": "Cumulative proportion of all models by accessibility over time",
         "x": 0.2
        },
        "width": 800,
        "xaxis": {
         "anchor": "y",
         "domain": [
          0,
          1
         ],
         "range": [
          2018,
          2024
         ],
         "title": {
          "text": "Year"
         }
        },
        "yaxis": {
         "anchor": "x",
         "domain": [
          0,
          1
         ],
         "range": [
          0,
          1
         ],
         "title": {
          "text": "Proportion"
         }
        }
       }
      }
     },
     "metadata": {},
     "output_type": "display_data"
    }
   ],
   "source": [
    "fig = px.area(normalized_counts_total, x='Year', y='proportion', color='Model accessibility', line_group='Model accessibility',\n",
    "              labels={'proportion': 'Proportion', 'Year': 'Year'},\n",
    "              title='Cumulative proportion of all models by accessibility over time')\n",
    "\n",
    "fig.update_yaxes(range=[0, 1])\n",
    "fig.update_xaxes(range=[2018, 2024])\n",
    "fig.update_layout(\n",
    "    autosize=False,\n",
    "    width=800,\n",
    "    height=600,\n",
    "    title_x=0.2,\n",
    ")\n",
    "# save_plot(fig, results_dir, f'proportion_by_accessibility')\n",
    "fig.show()"
   ]
  },
  {
   "cell_type": "markdown",
   "metadata": {},
   "source": [
    "# Code vs Model Accessibility"
   ]
  },
  {
   "cell_type": "code",
   "execution_count": 30,
   "metadata": {},
   "outputs": [
    {
     "name": "stdout",
     "output_type": "stream",
     "text": [
      "There are 146 models with marked model access and unmarked code access\n"
     ]
    }
   ],
   "source": [
    "print(f\"There are {len(access_df[access_df['Training code accessibility'].isna()])} models with marked model access and unmarked code access\")"
   ]
  },
  {
   "cell_type": "code",
   "execution_count": 31,
   "metadata": {},
   "outputs": [],
   "source": [
    "# filter for code accessibility\n",
    "code_df = access_df.dropna(subset=['Training code accessibility'])"
   ]
  },
  {
   "cell_type": "code",
   "execution_count": 32,
   "metadata": {},
   "outputs": [
    {
     "data": {
      "text/html": [
       "<div>\n",
       "<style scoped>\n",
       "    .dataframe tbody tr th:only-of-type {\n",
       "        vertical-align: middle;\n",
       "    }\n",
       "\n",
       "    .dataframe tbody tr th {\n",
       "        vertical-align: top;\n",
       "    }\n",
       "\n",
       "    .dataframe thead th {\n",
       "        text-align: right;\n",
       "    }\n",
       "</style>\n",
       "<table border=\"1\" class=\"dataframe\">\n",
       "  <thead>\n",
       "    <tr style=\"text-align: right;\">\n",
       "      <th></th>\n",
       "      <th>System</th>\n",
       "      <th>Domain</th>\n",
       "      <th>Task</th>\n",
       "      <th>Authors</th>\n",
       "      <th>Notability criteria</th>\n",
       "      <th>Notability criteria notes</th>\n",
       "      <th>Model accessibility</th>\n",
       "      <th>Link</th>\n",
       "      <th>Citations</th>\n",
       "      <th>Reference</th>\n",
       "      <th>...</th>\n",
       "      <th>Hardware TF16</th>\n",
       "      <th>Hardware FP16</th>\n",
       "      <th>Assumed precision</th>\n",
       "      <th>Assumed hardware FLOP/s</th>\n",
       "      <th>Hardware type</th>\n",
       "      <th>Compute estimate method</th>\n",
       "      <th>Training compute estimation method</th>\n",
       "      <th>Model open/closed</th>\n",
       "      <th>Code open/closed</th>\n",
       "      <th>Year</th>\n",
       "    </tr>\n",
       "  </thead>\n",
       "  <tbody>\n",
       "    <tr>\n",
       "      <th>0</th>\n",
       "      <td>Gemini 1.0 Ultra</td>\n",
       "      <td>Multimodal,Language,Vision</td>\n",
       "      <td>Language modelling,Visual question answering,C...</td>\n",
       "      <td>Gemini Team</td>\n",
       "      <td>SOTA improvement,Training cost</td>\n",
       "      <td>\" Evaluation on a broad range of benchmarks sh...</td>\n",
       "      <td>API access</td>\n",
       "      <td>https://storage.googleapis.com/deepmind-media/...</td>\n",
       "      <td>633.0</td>\n",
       "      <td>Gemini: A Family of Highly Capable Multimodal ...</td>\n",
       "      <td>...</td>\n",
       "      <td>275000000000000</td>\n",
       "      <td>NaN</td>\n",
       "      <td>TF16</td>\n",
       "      <td>275000000000000</td>\n",
       "      <td>TPU</td>\n",
       "      <td>NaN</td>\n",
       "      <td>NaN</td>\n",
       "      <td>Closed</td>\n",
       "      <td>Closed</td>\n",
       "      <td>2023</td>\n",
       "    </tr>\n",
       "    <tr>\n",
       "      <th>1</th>\n",
       "      <td>Llama 3.1-405B</td>\n",
       "      <td>Language</td>\n",
       "      <td>Language modelling/generation</td>\n",
       "      <td>Abhimanyu Dubey, Abhinav Jauhri, Abhinav Pande...</td>\n",
       "      <td>SOTA improvement,Training cost</td>\n",
       "      <td>High training compute, exceeds 4o and Claude 3...</td>\n",
       "      <td>Open weights (restricted use)</td>\n",
       "      <td>https://ai.meta.com/research/publications/the-...</td>\n",
       "      <td>NaN</td>\n",
       "      <td>The Llama 3 Herd of Models</td>\n",
       "      <td>...</td>\n",
       "      <td>989500000000000</td>\n",
       "      <td>133800000000000.0000</td>\n",
       "      <td>TF16</td>\n",
       "      <td>989500000000000</td>\n",
       "      <td>GPU</td>\n",
       "      <td>NaN</td>\n",
       "      <td>Reported,Operation counting</td>\n",
       "      <td>Open</td>\n",
       "      <td>Open</td>\n",
       "      <td>2024</td>\n",
       "    </tr>\n",
       "    <tr>\n",
       "      <th>2</th>\n",
       "      <td>Mistral Large 2</td>\n",
       "      <td>Language</td>\n",
       "      <td>Language modelling/generation,Translation,Code...</td>\n",
       "      <td>Albert Jiang, Alexandre Sablayrolles, Alexis T...</td>\n",
       "      <td>Training cost</td>\n",
       "      <td>likely high training cost since previous Mistr...</td>\n",
       "      <td>Open weights (non-commercial)</td>\n",
       "      <td>https://mistral.ai/news/mistral-large-2407/</td>\n",
       "      <td>NaN</td>\n",
       "      <td>Top-tier reasoning for high-complexity tasks, ...</td>\n",
       "      <td>...</td>\n",
       "      <td>NaN</td>\n",
       "      <td>NaN</td>\n",
       "      <td>FP32</td>\n",
       "      <td>NaN</td>\n",
       "      <td>NaN</td>\n",
       "      <td>NaN</td>\n",
       "      <td>Hardware,Cost,Benchmarks</td>\n",
       "      <td>Open</td>\n",
       "      <td>Closed</td>\n",
       "      <td>2024</td>\n",
       "    </tr>\n",
       "    <tr>\n",
       "      <th>3</th>\n",
       "      <td>GPT-4</td>\n",
       "      <td>Multimodal,Language,Vision,Image generation</td>\n",
       "      <td>Language modelling</td>\n",
       "      <td>OpenAI, Josh Achiam, Steven Adler, Sandhini Ag...</td>\n",
       "      <td>Highly cited,SOTA improvement,Training cost</td>\n",
       "      <td>See the paper, p.1: \"On a suite of traditional...</td>\n",
       "      <td>API access</td>\n",
       "      <td>https://arxiv.org/abs/2303.08774</td>\n",
       "      <td>7054.0</td>\n",
       "      <td>GPT-4 Technical Report</td>\n",
       "      <td>...</td>\n",
       "      <td>311840000000000</td>\n",
       "      <td>77970000000000.0000</td>\n",
       "      <td>TF16</td>\n",
       "      <td>311840000000000</td>\n",
       "      <td>GPU</td>\n",
       "      <td>NaN</td>\n",
       "      <td>NaN</td>\n",
       "      <td>Closed</td>\n",
       "      <td>Closed</td>\n",
       "      <td>2023</td>\n",
       "    </tr>\n",
       "    <tr>\n",
       "      <th>4</th>\n",
       "      <td>Nemotron-4 340B</td>\n",
       "      <td>Language</td>\n",
       "      <td>Language modelling/generation,Chat</td>\n",
       "      <td>Bo Adler, Niket Agarwal, Ashwath Aithal, Dong ...</td>\n",
       "      <td>Training cost</td>\n",
       "      <td>~2e25 FLOP, so high training cost, likely &gt;5M</td>\n",
       "      <td>Open weights (unrestricted)</td>\n",
       "      <td>https://blogs.nvidia.com/blog/nemotron-4-synth...</td>\n",
       "      <td>NaN</td>\n",
       "      <td>NVIDIA Releases Open Synthetic Data Generation...</td>\n",
       "      <td>...</td>\n",
       "      <td>989500000000000</td>\n",
       "      <td>133800000000000.0000</td>\n",
       "      <td>TF16</td>\n",
       "      <td>989500000000000</td>\n",
       "      <td>GPU</td>\n",
       "      <td>NaN</td>\n",
       "      <td>NaN</td>\n",
       "      <td>Open</td>\n",
       "      <td>Closed</td>\n",
       "      <td>2024</td>\n",
       "    </tr>\n",
       "    <tr>\n",
       "      <th>6</th>\n",
       "      <td>MegaScale (Production)</td>\n",
       "      <td>Language</td>\n",
       "      <td>Language modelling/generation</td>\n",
       "      <td>Ziheng Jiang, Haibin Lin, Yinmin Zhong, Qi Hua...</td>\n",
       "      <td>SOTA improvement</td>\n",
       "      <td>Improves SOTA in FLOP utilization for distribu...</td>\n",
       "      <td>Unreleased</td>\n",
       "      <td>https://arxiv.org/abs/2402.15627</td>\n",
       "      <td>31.0</td>\n",
       "      <td>MegaScale: Scaling Large Language Model Traini...</td>\n",
       "      <td>...</td>\n",
       "      <td>312000000000000</td>\n",
       "      <td>77970000000000.0000</td>\n",
       "      <td>TF16</td>\n",
       "      <td>312000000000000</td>\n",
       "      <td>GPU</td>\n",
       "      <td>NaN</td>\n",
       "      <td>NaN</td>\n",
       "      <td>Closed</td>\n",
       "      <td>Closed</td>\n",
       "      <td>2024</td>\n",
       "    </tr>\n",
       "    <tr>\n",
       "      <th>8</th>\n",
       "      <td>Mistral Large</td>\n",
       "      <td>Language</td>\n",
       "      <td>Chat</td>\n",
       "      <td>NaN</td>\n",
       "      <td>Training cost</td>\n",
       "      <td>~$20M training cost: https://www.wsj.com/tech/...</td>\n",
       "      <td>API access</td>\n",
       "      <td>https://mistral.ai/news/mistral-large/</td>\n",
       "      <td>NaN</td>\n",
       "      <td>Mistral Large, our new flagship model</td>\n",
       "      <td>...</td>\n",
       "      <td>756000000000000</td>\n",
       "      <td>204900000000000.0000</td>\n",
       "      <td>TF16</td>\n",
       "      <td>756000000000000</td>\n",
       "      <td>NaN</td>\n",
       "      <td>NaN</td>\n",
       "      <td>NaN</td>\n",
       "      <td>Closed</td>\n",
       "      <td>Closed</td>\n",
       "      <td>2024</td>\n",
       "    </tr>\n",
       "    <tr>\n",
       "      <th>9</th>\n",
       "      <td>Inflection-2</td>\n",
       "      <td>Language</td>\n",
       "      <td>Language modelling,Language modelling/generati...</td>\n",
       "      <td>NaN</td>\n",
       "      <td>Significant use,Training cost</td>\n",
       "      <td>Inflection-2 either already powers Pi or soon ...</td>\n",
       "      <td>Hosted access (no API)</td>\n",
       "      <td>https://inflection.ai/inflection-2</td>\n",
       "      <td>NaN</td>\n",
       "      <td>Inflection-2: The Next Step Up</td>\n",
       "      <td>...</td>\n",
       "      <td>989500000000000</td>\n",
       "      <td>133800000000000.0000</td>\n",
       "      <td>TF16</td>\n",
       "      <td>989500000000000</td>\n",
       "      <td>GPU</td>\n",
       "      <td>NaN</td>\n",
       "      <td>NaN</td>\n",
       "      <td>Closed</td>\n",
       "      <td>Closed</td>\n",
       "      <td>2023</td>\n",
       "    </tr>\n",
       "  </tbody>\n",
       "</table>\n",
       "<p>8 rows × 91 columns</p>\n",
       "</div>"
      ],
      "text/plain": [
       "                   System                                       Domain  \\\n",
       "0        Gemini 1.0 Ultra                   Multimodal,Language,Vision   \n",
       "1          Llama 3.1-405B                                     Language   \n",
       "2         Mistral Large 2                                     Language   \n",
       "3                   GPT-4  Multimodal,Language,Vision,Image generation   \n",
       "4         Nemotron-4 340B                                     Language   \n",
       "6  MegaScale (Production)                                     Language   \n",
       "8           Mistral Large                                     Language   \n",
       "9            Inflection-2                                     Language   \n",
       "\n",
       "                                                Task  \\\n",
       "0  Language modelling,Visual question answering,C...   \n",
       "1                      Language modelling/generation   \n",
       "2  Language modelling/generation,Translation,Code...   \n",
       "3                                 Language modelling   \n",
       "4                 Language modelling/generation,Chat   \n",
       "6                      Language modelling/generation   \n",
       "8                                               Chat   \n",
       "9  Language modelling,Language modelling/generati...   \n",
       "\n",
       "                                             Authors  \\\n",
       "0                                        Gemini Team   \n",
       "1  Abhimanyu Dubey, Abhinav Jauhri, Abhinav Pande...   \n",
       "2  Albert Jiang, Alexandre Sablayrolles, Alexis T...   \n",
       "3  OpenAI, Josh Achiam, Steven Adler, Sandhini Ag...   \n",
       "4  Bo Adler, Niket Agarwal, Ashwath Aithal, Dong ...   \n",
       "6  Ziheng Jiang, Haibin Lin, Yinmin Zhong, Qi Hua...   \n",
       "8                                                NaN   \n",
       "9                                                NaN   \n",
       "\n",
       "                           Notability criteria  \\\n",
       "0               SOTA improvement,Training cost   \n",
       "1               SOTA improvement,Training cost   \n",
       "2                                Training cost   \n",
       "3  Highly cited,SOTA improvement,Training cost   \n",
       "4                                Training cost   \n",
       "6                             SOTA improvement   \n",
       "8                                Training cost   \n",
       "9                Significant use,Training cost   \n",
       "\n",
       "                           Notability criteria notes  \\\n",
       "0  \" Evaluation on a broad range of benchmarks sh...   \n",
       "1  High training compute, exceeds 4o and Claude 3...   \n",
       "2  likely high training cost since previous Mistr...   \n",
       "3  See the paper, p.1: \"On a suite of traditional...   \n",
       "4      ~2e25 FLOP, so high training cost, likely >5M   \n",
       "6  Improves SOTA in FLOP utilization for distribu...   \n",
       "8  ~$20M training cost: https://www.wsj.com/tech/...   \n",
       "9  Inflection-2 either already powers Pi or soon ...   \n",
       "\n",
       "             Model accessibility  \\\n",
       "0                     API access   \n",
       "1  Open weights (restricted use)   \n",
       "2  Open weights (non-commercial)   \n",
       "3                     API access   \n",
       "4    Open weights (unrestricted)   \n",
       "6                     Unreleased   \n",
       "8                     API access   \n",
       "9         Hosted access (no API)   \n",
       "\n",
       "                                                Link  Citations  \\\n",
       "0  https://storage.googleapis.com/deepmind-media/...      633.0   \n",
       "1  https://ai.meta.com/research/publications/the-...        NaN   \n",
       "2        https://mistral.ai/news/mistral-large-2407/        NaN   \n",
       "3                   https://arxiv.org/abs/2303.08774     7054.0   \n",
       "4  https://blogs.nvidia.com/blog/nemotron-4-synth...        NaN   \n",
       "6                   https://arxiv.org/abs/2402.15627       31.0   \n",
       "8             https://mistral.ai/news/mistral-large/        NaN   \n",
       "9                 https://inflection.ai/inflection-2        NaN   \n",
       "\n",
       "                                           Reference  ...    Hardware TF16  \\\n",
       "0  Gemini: A Family of Highly Capable Multimodal ...  ...  275000000000000   \n",
       "1                         The Llama 3 Herd of Models  ...  989500000000000   \n",
       "2  Top-tier reasoning for high-complexity tasks, ...  ...              NaN   \n",
       "3                             GPT-4 Technical Report  ...  311840000000000   \n",
       "4  NVIDIA Releases Open Synthetic Data Generation...  ...  989500000000000   \n",
       "6  MegaScale: Scaling Large Language Model Traini...  ...  312000000000000   \n",
       "8              Mistral Large, our new flagship model  ...  756000000000000   \n",
       "9                     Inflection-2: The Next Step Up  ...  989500000000000   \n",
       "\n",
       "          Hardware FP16  Assumed precision Assumed hardware FLOP/s  \\\n",
       "0                   NaN               TF16         275000000000000   \n",
       "1  133800000000000.0000               TF16         989500000000000   \n",
       "2                   NaN               FP32                     NaN   \n",
       "3   77970000000000.0000               TF16         311840000000000   \n",
       "4  133800000000000.0000               TF16         989500000000000   \n",
       "6   77970000000000.0000               TF16         312000000000000   \n",
       "8  204900000000000.0000               TF16         756000000000000   \n",
       "9  133800000000000.0000               TF16         989500000000000   \n",
       "\n",
       "   Hardware type Compute estimate method Training compute estimation method  \\\n",
       "0            TPU                     NaN                                NaN   \n",
       "1            GPU                     NaN        Reported,Operation counting   \n",
       "2            NaN                     NaN           Hardware,Cost,Benchmarks   \n",
       "3            GPU                     NaN                                NaN   \n",
       "4            GPU                     NaN                                NaN   \n",
       "6            GPU                     NaN                                NaN   \n",
       "8            NaN                     NaN                                NaN   \n",
       "9            GPU                     NaN                                NaN   \n",
       "\n",
       "  Model open/closed  Code open/closed  Year  \n",
       "0            Closed            Closed  2023  \n",
       "1              Open              Open  2024  \n",
       "2              Open            Closed  2024  \n",
       "3            Closed            Closed  2023  \n",
       "4              Open            Closed  2024  \n",
       "6            Closed            Closed  2024  \n",
       "8            Closed            Closed  2024  \n",
       "9            Closed            Closed  2023  \n",
       "\n",
       "[8 rows x 91 columns]"
      ]
     },
     "execution_count": 32,
     "metadata": {},
     "output_type": "execute_result"
    }
   ],
   "source": [
    "code_df.head(8)"
   ]
  },
  {
   "cell_type": "code",
   "execution_count": 33,
   "metadata": {},
   "outputs": [
    {
     "data": {
      "text/html": [
       "<div>\n",
       "<style scoped>\n",
       "    .dataframe tbody tr th:only-of-type {\n",
       "        vertical-align: middle;\n",
       "    }\n",
       "\n",
       "    .dataframe tbody tr th {\n",
       "        vertical-align: top;\n",
       "    }\n",
       "\n",
       "    .dataframe thead th {\n",
       "        text-align: right;\n",
       "    }\n",
       "</style>\n",
       "<table border=\"1\" class=\"dataframe\">\n",
       "  <thead>\n",
       "    <tr style=\"text-align: right;\">\n",
       "      <th></th>\n",
       "      <th>Model accessibility</th>\n",
       "      <th>Counts</th>\n",
       "    </tr>\n",
       "  </thead>\n",
       "  <tbody>\n",
       "    <tr>\n",
       "      <th>0</th>\n",
       "      <td>API access</td>\n",
       "      <td>46</td>\n",
       "    </tr>\n",
       "    <tr>\n",
       "      <th>1</th>\n",
       "      <td>Hosted access (no API)</td>\n",
       "      <td>26</td>\n",
       "    </tr>\n",
       "    <tr>\n",
       "      <th>2</th>\n",
       "      <td>Open weights (non-commercial)</td>\n",
       "      <td>80</td>\n",
       "    </tr>\n",
       "    <tr>\n",
       "      <th>3</th>\n",
       "      <td>Open weights (restricted use)</td>\n",
       "      <td>67</td>\n",
       "    </tr>\n",
       "    <tr>\n",
       "      <th>4</th>\n",
       "      <td>Open weights (unrestricted)</td>\n",
       "      <td>281</td>\n",
       "    </tr>\n",
       "    <tr>\n",
       "      <th>5</th>\n",
       "      <td>Unreleased</td>\n",
       "      <td>447</td>\n",
       "    </tr>\n",
       "  </tbody>\n",
       "</table>\n",
       "</div>"
      ],
      "text/plain": [
       "             Model accessibility  Counts\n",
       "0                     API access      46\n",
       "1         Hosted access (no API)      26\n",
       "2  Open weights (non-commercial)      80\n",
       "3  Open weights (restricted use)      67\n",
       "4    Open weights (unrestricted)     281\n",
       "5                     Unreleased     447"
      ]
     },
     "execution_count": 33,
     "metadata": {},
     "output_type": "execute_result"
    }
   ],
   "source": [
    "model_counts = code_df.groupby('Model accessibility').size().reset_index(name='Counts')\n",
    "model_counts"
   ]
  },
  {
   "cell_type": "code",
   "execution_count": 34,
   "metadata": {},
   "outputs": [
    {
     "data": {
      "text/html": [
       "<div>\n",
       "<style scoped>\n",
       "    .dataframe tbody tr th:only-of-type {\n",
       "        vertical-align: middle;\n",
       "    }\n",
       "\n",
       "    .dataframe tbody tr th {\n",
       "        vertical-align: top;\n",
       "    }\n",
       "\n",
       "    .dataframe thead th {\n",
       "        text-align: right;\n",
       "    }\n",
       "</style>\n",
       "<table border=\"1\" class=\"dataframe\">\n",
       "  <thead>\n",
       "    <tr style=\"text-align: right;\">\n",
       "      <th></th>\n",
       "      <th>Training code accessibility</th>\n",
       "      <th>Counts</th>\n",
       "    </tr>\n",
       "  </thead>\n",
       "  <tbody>\n",
       "    <tr>\n",
       "      <th>0</th>\n",
       "      <td>Open (non-commercial)</td>\n",
       "      <td>77</td>\n",
       "    </tr>\n",
       "    <tr>\n",
       "      <th>1</th>\n",
       "      <td>Open (restricted use)</td>\n",
       "      <td>10</td>\n",
       "    </tr>\n",
       "    <tr>\n",
       "      <th>2</th>\n",
       "      <td>Open source</td>\n",
       "      <td>317</td>\n",
       "    </tr>\n",
       "    <tr>\n",
       "      <th>3</th>\n",
       "      <td>Unreleased</td>\n",
       "      <td>543</td>\n",
       "    </tr>\n",
       "  </tbody>\n",
       "</table>\n",
       "</div>"
      ],
      "text/plain": [
       "  Training code accessibility  Counts\n",
       "0       Open (non-commercial)      77\n",
       "1       Open (restricted use)      10\n",
       "2                 Open source     317\n",
       "3                  Unreleased     543"
      ]
     },
     "execution_count": 34,
     "metadata": {},
     "output_type": "execute_result"
    }
   ],
   "source": [
    "code_counts = code_df.groupby('Training code accessibility').size().reset_index(name='Counts')\n",
    "code_counts"
   ]
  },
  {
   "cell_type": "code",
   "execution_count": 35,
   "metadata": {},
   "outputs": [
    {
     "data": {
      "text/html": [
       "<div>\n",
       "<style scoped>\n",
       "    .dataframe tbody tr th:only-of-type {\n",
       "        vertical-align: middle;\n",
       "    }\n",
       "\n",
       "    .dataframe tbody tr th {\n",
       "        vertical-align: top;\n",
       "    }\n",
       "\n",
       "    .dataframe thead th {\n",
       "        text-align: right;\n",
       "    }\n",
       "</style>\n",
       "<table border=\"1\" class=\"dataframe\">\n",
       "  <thead>\n",
       "    <tr style=\"text-align: right;\">\n",
       "      <th>Training code accessibility</th>\n",
       "      <th>Open (non-commercial)</th>\n",
       "      <th>Open (restricted use)</th>\n",
       "      <th>Open source</th>\n",
       "      <th>Unreleased</th>\n",
       "    </tr>\n",
       "    <tr>\n",
       "      <th>Model accessibility</th>\n",
       "      <th></th>\n",
       "      <th></th>\n",
       "      <th></th>\n",
       "      <th></th>\n",
       "    </tr>\n",
       "  </thead>\n",
       "  <tbody>\n",
       "    <tr>\n",
       "      <th>API access</th>\n",
       "      <td>0.0</td>\n",
       "      <td>0.0</td>\n",
       "      <td>0.0</td>\n",
       "      <td>46.0</td>\n",
       "    </tr>\n",
       "    <tr>\n",
       "      <th>Hosted access (no API)</th>\n",
       "      <td>1.0</td>\n",
       "      <td>0.0</td>\n",
       "      <td>1.0</td>\n",
       "      <td>24.0</td>\n",
       "    </tr>\n",
       "    <tr>\n",
       "      <th>Open weights (non-commercial)</th>\n",
       "      <td>32.0</td>\n",
       "      <td>1.0</td>\n",
       "      <td>16.0</td>\n",
       "      <td>31.0</td>\n",
       "    </tr>\n",
       "    <tr>\n",
       "      <th>Open weights (restricted use)</th>\n",
       "      <td>0.0</td>\n",
       "      <td>7.0</td>\n",
       "      <td>12.0</td>\n",
       "      <td>48.0</td>\n",
       "    </tr>\n",
       "    <tr>\n",
       "      <th>Open weights (unrestricted)</th>\n",
       "      <td>1.0</td>\n",
       "      <td>1.0</td>\n",
       "      <td>182.0</td>\n",
       "      <td>97.0</td>\n",
       "    </tr>\n",
       "    <tr>\n",
       "      <th>Unreleased</th>\n",
       "      <td>43.0</td>\n",
       "      <td>1.0</td>\n",
       "      <td>106.0</td>\n",
       "      <td>297.0</td>\n",
       "    </tr>\n",
       "  </tbody>\n",
       "</table>\n",
       "</div>"
      ],
      "text/plain": [
       "Training code accessibility    Open (non-commercial)  Open (restricted use)  \\\n",
       "Model accessibility                                                           \n",
       "API access                                       0.0                    0.0   \n",
       "Hosted access (no API)                           1.0                    0.0   \n",
       "Open weights (non-commercial)                   32.0                    1.0   \n",
       "Open weights (restricted use)                    0.0                    7.0   \n",
       "Open weights (unrestricted)                      1.0                    1.0   \n",
       "Unreleased                                      43.0                    1.0   \n",
       "\n",
       "Training code accessibility    Open source  Unreleased  \n",
       "Model accessibility                                     \n",
       "API access                             0.0        46.0  \n",
       "Hosted access (no API)                 1.0        24.0  \n",
       "Open weights (non-commercial)         16.0        31.0  \n",
       "Open weights (restricted use)         12.0        48.0  \n",
       "Open weights (unrestricted)          182.0        97.0  \n",
       "Unreleased                           106.0       297.0  "
      ]
     },
     "execution_count": 35,
     "metadata": {},
     "output_type": "execute_result"
    }
   ],
   "source": [
    "grouped_counts = code_df.groupby(['Model accessibility', 'Training code accessibility']).size().reset_index(name='Counts')\n",
    "pivoted = grouped_counts.pivot(index='Model accessibility', columns='Training code accessibility', values='Counts').fillna(0)\n",
    "\n",
    "# code access against model access\n",
    "pivoted"
   ]
  },
  {
   "cell_type": "code",
   "execution_count": 36,
   "metadata": {},
   "outputs": [
    {
     "data": {
      "text/html": [
       "<div>\n",
       "<style scoped>\n",
       "    .dataframe tbody tr th:only-of-type {\n",
       "        vertical-align: middle;\n",
       "    }\n",
       "\n",
       "    .dataframe tbody tr th {\n",
       "        vertical-align: top;\n",
       "    }\n",
       "\n",
       "    .dataframe thead th {\n",
       "        text-align: right;\n",
       "    }\n",
       "</style>\n",
       "<table border=\"1\" class=\"dataframe\">\n",
       "  <thead>\n",
       "    <tr style=\"text-align: right;\">\n",
       "      <th>Code open/closed</th>\n",
       "      <th>Closed</th>\n",
       "      <th>Open</th>\n",
       "    </tr>\n",
       "    <tr>\n",
       "      <th>Model open/closed</th>\n",
       "      <th></th>\n",
       "      <th></th>\n",
       "    </tr>\n",
       "  </thead>\n",
       "  <tbody>\n",
       "    <tr>\n",
       "      <th>Closed</th>\n",
       "      <td>367</td>\n",
       "      <td>152</td>\n",
       "    </tr>\n",
       "    <tr>\n",
       "      <th>Open</th>\n",
       "      <td>176</td>\n",
       "      <td>252</td>\n",
       "    </tr>\n",
       "  </tbody>\n",
       "</table>\n",
       "</div>"
      ],
      "text/plain": [
       "Code open/closed   Closed  Open\n",
       "Model open/closed              \n",
       "Closed                367   152\n",
       "Open                  176   252"
      ]
     },
     "execution_count": 36,
     "metadata": {},
     "output_type": "execute_result"
    }
   ],
   "source": [
    "model_code_counts = code_df.groupby(['Model open/closed', 'Code open/closed']).size().reset_index(name='Counts')\n",
    "model_code_counts = model_code_counts.pivot(index='Model open/closed', columns='Code open/closed', values='Counts')\n",
    "\n",
    "# code open vs model open\n",
    "model_code_counts"
   ]
  },
  {
   "cell_type": "code",
   "execution_count": 37,
   "metadata": {},
   "outputs": [
    {
     "data": {
      "image/png": "[encoded data removed]",
      "text/plain": [
       "<Figure size 1000x600 with 1 Axes>"
      ]
     },
     "metadata": {},
     "output_type": "display_data"
    }
   ],
   "source": [
    "ax = model_code_counts.plot(kind='bar', figsize=(10, 6), width=0.8)\n",
    "\n",
    "# Customize the chart\n",
    "plt.title('Model open/closed vs Code open/closed for all systems')\n",
    "plt.ylabel('Count')\n",
    "\n",
    "\n",
    "# Add value labels on the bars\n",
    "for container in ax.containers:\n",
    "    ax.bar_label(container, label_type='center')\n",
    "\n",
    "# Adjust layout and display the chart\n",
    "plt.tight_layout()\n",
    "plt.show()"
   ]
  },
  {
   "cell_type": "code",
   "execution_count": 38,
   "metadata": {
    "tags": []
   },
   "outputs": [
    {
     "data": {
      "image/png": "[encoded data removed]",
      "text/plain": [
       "<Figure size 1000x600 with 1 Axes>"
      ]
     },
     "metadata": {},
     "output_type": "display_data"
    }
   ],
   "source": [
    "notable_code_df = code_df.loc[(code_df['Notability criteria'].notna())]\n",
    "\n",
    "notable_open_counts = notable_code_df.groupby(['Model open/closed', 'Code open/closed']).size().reset_index(name='Counts')\n",
    "notable_open_counts = notable_open_counts.pivot(index='Model open/closed', columns='Code open/closed', values='Counts')\n",
    "\n",
    "ax = notable_open_counts.plot(kind='bar', figsize=(10, 6), width=0.8)\n",
    "\n",
    "plt.title('Model open/closed vs Code open/closed for notable systems')\n",
    "plt.ylabel('Count')\n",
    "\n",
    "for container in ax.containers:\n",
    "    ax.bar_label(container, label_type='center')\n",
    "\n",
    "plt.tight_layout()\n",
    "plt.show()"
   ]
  },
  {
   "cell_type": "code",
   "execution_count": 39,
   "metadata": {},
   "outputs": [
    {
     "data": {
      "text/html": [
       "<div>\n",
       "<style scoped>\n",
       "    .dataframe tbody tr th:only-of-type {\n",
       "        vertical-align: middle;\n",
       "    }\n",
       "\n",
       "    .dataframe tbody tr th {\n",
       "        vertical-align: top;\n",
       "    }\n",
       "\n",
       "    .dataframe thead th {\n",
       "        text-align: right;\n",
       "    }\n",
       "</style>\n",
       "<table border=\"1\" class=\"dataframe\">\n",
       "  <thead>\n",
       "    <tr style=\"text-align: right;\">\n",
       "      <th>Code open/closed</th>\n",
       "      <th>Closed</th>\n",
       "      <th>Open</th>\n",
       "    </tr>\n",
       "    <tr>\n",
       "      <th>Model open/closed</th>\n",
       "      <th></th>\n",
       "      <th></th>\n",
       "    </tr>\n",
       "  </thead>\n",
       "  <tbody>\n",
       "    <tr>\n",
       "      <th>Closed</th>\n",
       "      <td>152</td>\n",
       "      <td>57</td>\n",
       "    </tr>\n",
       "    <tr>\n",
       "      <th>Open</th>\n",
       "      <td>80</td>\n",
       "      <td>125</td>\n",
       "    </tr>\n",
       "  </tbody>\n",
       "</table>\n",
       "</div>"
      ],
      "text/plain": [
       "Code open/closed   Closed  Open\n",
       "Model open/closed              \n",
       "Closed                152    57\n",
       "Open                   80   125"
      ]
     },
     "execution_count": 39,
     "metadata": {},
     "output_type": "execute_result"
    }
   ],
   "source": [
    "notable_open_counts"
   ]
  },
  {
   "cell_type": "code",
   "execution_count": 40,
   "metadata": {},
   "outputs": [
    {
     "data": {
      "application/vnd.plotly.v1+json": {
       "config": {
        "plotlyServerURL": "https://plot.ly"
       },
       "data": [
        {
         "colorscale": [
          [
           0,
           "rgb(247,251,255)"
          ],
          [
           0.125,
           "rgb(222,235,247)"
          ],
          [
           0.25,
           "rgb(198,219,239)"
          ],
          [
           0.375,
           "rgb(158,202,225)"
          ],
          [
           0.5,
           "rgb(107,174,214)"
          ],
          [
           0.625,
           "rgb(66,146,198)"
          ],
          [
           0.75,
           "rgb(33,113,181)"
          ],
          [
           0.875,
           "rgb(8,81,156)"
          ],
          [
           1,
           "rgb(8,48,107)"
          ]
         ],
         "hoverongaps": false,
         "text": [
          [
           152,
           57
          ],
          [
           80,
           125
          ]
         ],
         "textfont": {
          "size": 20
         },
         "texttemplate": "%{text}",
         "type": "heatmap",
         "x": [
          "Closed",
          "Open"
         ],
         "y": [
          "Closed",
          "Open"
         ],
         "z": [
          [
           152,
           57
          ],
          [
           80,
           125
          ]
         ]
        }
       ],
       "layout": {
        "autosize": false,
        "height": 300,
        "template": {
         "data": {
          "bar": [
           {
            "error_x": {
             "color": "#2a3f5f"
            },
            "error_y": {
             "color": "#2a3f5f"
            },
            "marker": {
             "line": {
              "color": "#E5ECF6",
              "width": 0.5
             },
             "pattern": {
              "fillmode": "overlay",
              "size": 10,
              "solidity": 0.2
             }
            },
            "type": "bar"
           }
          ],
          "barpolar": [
           {
            "marker": {
             "line": {
              "color": "#E5ECF6",
              "width": 0.5
             },
             "pattern": {
              "fillmode": "overlay",
              "size": 10,
              "solidity": 0.2
             }
            },
            "type": "barpolar"
           }
          ],
          "carpet": [
           {
            "aaxis": {
             "endlinecolor": "#2a3f5f",
             "gridcolor": "white",
             "linecolor": "white",
             "minorgridcolor": "white",
             "startlinecolor": "#2a3f5f"
            },
            "baxis": {
             "endlinecolor": "#2a3f5f",
             "gridcolor": "white",
             "linecolor": "white",
             "minorgridcolor": "white",
             "startlinecolor": "#2a3f5f"
            },
            "type": "carpet"
           }
          ],
          "choropleth": [
           {
            "colorbar": {
             "outlinewidth": 0,
             "ticks": ""
            },
            "type": "choropleth"
           }
          ],
          "contour": [
           {
            "colorbar": {
             "outlinewidth": 0,
             "ticks": ""
            },
            "colorscale": [
             [
              0,
              "#0d0887"
             ],
             [
              0.1111111111111111,
              "#46039f"
             ],
             [
              0.2222222222222222,
              "#7201a8"
             ],
             [
              0.3333333333333333,
              "#9c179e"
             ],
             [
              0.4444444444444444,
              "#bd3786"
             ],
             [
              0.5555555555555556,
              "#d8576b"
             ],
             [
              0.6666666666666666,
              "#ed7953"
             ],
             [
              0.7777777777777778,
              "#fb9f3a"
             ],
             [
              0.8888888888888888,
              "#fdca26"
             ],
             [
              1,
              "#f0f921"
             ]
            ],
            "type": "contour"
           }
          ],
          "contourcarpet": [
           {
            "colorbar": {
             "outlinewidth": 0,
             "ticks": ""
            },
            "type": "contourcarpet"
           }
          ],
          "heatmap": [
           {
            "colorbar": {
             "outlinewidth": 0,
             "ticks": ""
            },
            "colorscale": [
             [
              0,
              "#0d0887"
             ],
             [
              0.1111111111111111,
              "#46039f"
             ],
             [
              0.2222222222222222,
              "#7201a8"
             ],
             [
              0.3333333333333333,
              "#9c179e"
             ],
             [
              0.4444444444444444,
              "#bd3786"
             ],
             [
              0.5555555555555556,
              "#d8576b"
             ],
             [
              0.6666666666666666,
              "#ed7953"
             ],
             [
              0.7777777777777778,
              "#fb9f3a"
             ],
             [
              0.8888888888888888,
              "#fdca26"
             ],
             [
              1,
              "#f0f921"
             ]
            ],
            "type": "heatmap"
           }
          ],
          "heatmapgl": [
           {
            "colorbar": {
             "outlinewidth": 0,
             "ticks": ""
            },
            "colorscale": [
             [
              0,
              "#0d0887"
             ],
             [
              0.1111111111111111,
              "#46039f"
             ],
             [
              0.2222222222222222,
              "#7201a8"
             ],
             [
              0.3333333333333333,
              "#9c179e"
             ],
             [
              0.4444444444444444,
              "#bd3786"
             ],
             [
              0.5555555555555556,
              "#d8576b"
             ],
             [
              0.6666666666666666,
              "#ed7953"
             ],
             [
              0.7777777777777778,
              "#fb9f3a"
             ],
             [
              0.8888888888888888,
              "#fdca26"
             ],
             [
              1,
              "#f0f921"
             ]
            ],
            "type": "heatmapgl"
           }
          ],
          "histogram": [
           {
            "marker": {
             "pattern": {
              "fillmode": "overlay",
              "size": 10,
              "solidity": 0.2
             }
            },
            "type": "histogram"
           }
          ],
          "histogram2d": [
           {
            "colorbar": {
             "outlinewidth": 0,
             "ticks": ""
            },
            "colorscale": [
             [
              0,
              "#0d0887"
             ],
             [
              0.1111111111111111,
              "#46039f"
             ],
             [
              0.2222222222222222,
              "#7201a8"
             ],
             [
              0.3333333333333333,
              "#9c179e"
             ],
             [
              0.4444444444444444,
              "#bd3786"
             ],
             [
              0.5555555555555556,
              "#d8576b"
             ],
             [
              0.6666666666666666,
              "#ed7953"
             ],
             [
              0.7777777777777778,
              "#fb9f3a"
             ],
             [
              0.8888888888888888,
              "#fdca26"
             ],
             [
              1,
              "#f0f921"
             ]
            ],
            "type": "histogram2d"
           }
          ],
          "histogram2dcontour": [
           {
            "colorbar": {
             "outlinewidth": 0,
             "ticks": ""
            },
            "colorscale": [
             [
              0,
              "#0d0887"
             ],
             [
              0.1111111111111111,
              "#46039f"
             ],
             [
              0.2222222222222222,
              "#7201a8"
             ],
             [
              0.3333333333333333,
              "#9c179e"
             ],
             [
              0.4444444444444444,
              "#bd3786"
             ],
             [
              0.5555555555555556,
              "#d8576b"
             ],
             [
              0.6666666666666666,
              "#ed7953"
             ],
             [
              0.7777777777777778,
              "#fb9f3a"
             ],
             [
              0.8888888888888888,
              "#fdca26"
             ],
             [
              1,
              "#f0f921"
             ]
            ],
            "type": "histogram2dcontour"
           }
          ],
          "mesh3d": [
           {
            "colorbar": {
             "outlinewidth": 0,
             "ticks": ""
            },
            "type": "mesh3d"
           }
          ],
          "parcoords": [
           {
            "line": {
             "colorbar": {
              "outlinewidth": 0,
              "ticks": ""
             }
            },
            "type": "parcoords"
           }
          ],
          "pie": [
           {
            "automargin": true,
            "type": "pie"
           }
          ],
          "scatter": [
           {
            "fillpattern": {
             "fillmode": "overlay",
             "size": 10,
             "solidity": 0.2
            },
            "type": "scatter"
           }
          ],
          "scatter3d": [
           {
            "line": {
             "colorbar": {
              "outlinewidth": 0,
              "ticks": ""
             }
            },
            "marker": {
             "colorbar": {
              "outlinewidth": 0,
              "ticks": ""
             }
            },
            "type": "scatter3d"
           }
          ],
          "scattercarpet": [
           {
            "marker": {
             "colorbar": {
              "outlinewidth": 0,
              "ticks": ""
             }
            },
            "type": "scattercarpet"
           }
          ],
          "scattergeo": [
           {
            "marker": {
             "colorbar": {
              "outlinewidth": 0,
              "ticks": ""
             }
            },
            "type": "scattergeo"
           }
          ],
          "scattergl": [
           {
            "marker": {
             "colorbar": {
              "outlinewidth": 0,
              "ticks": ""
             }
            },
            "type": "scattergl"
           }
          ],
          "scattermapbox": [
           {
            "marker": {
             "colorbar": {
              "outlinewidth": 0,
              "ticks": ""
             }
            },
            "type": "scattermapbox"
           }
          ],
          "scatterpolar": [
           {
            "marker": {
             "colorbar": {
              "outlinewidth": 0,
              "ticks": ""
             }
            },
            "type": "scatterpolar"
           }
          ],
          "scatterpolargl": [
           {
            "marker": {
             "colorbar": {
              "outlinewidth": 0,
              "ticks": ""
             }
            },
            "type": "scatterpolargl"
           }
          ],
          "scatterternary": [
           {
            "marker": {
             "colorbar": {
              "outlinewidth": 0,
              "ticks": ""
             }
            },
            "type": "scatterternary"
           }
          ],
          "surface": [
           {
            "colorbar": {
             "outlinewidth": 0,
             "ticks": ""
            },
            "colorscale": [
             [
              0,
              "#0d0887"
             ],
             [
              0.1111111111111111,
              "#46039f"
             ],
             [
              0.2222222222222222,
              "#7201a8"
             ],
             [
              0.3333333333333333,
              "#9c179e"
             ],
             [
              0.4444444444444444,
              "#bd3786"
             ],
             [
              0.5555555555555556,
              "#d8576b"
             ],
             [
              0.6666666666666666,
              "#ed7953"
             ],
             [
              0.7777777777777778,
              "#fb9f3a"
             ],
             [
              0.8888888888888888,
              "#fdca26"
             ],
             [
              1,
              "#f0f921"
             ]
            ],
            "type": "surface"
           }
          ],
          "table": [
           {
            "cells": {
             "fill": {
              "color": "#EBF0F8"
             },
             "line": {
              "color": "white"
             }
            },
            "header": {
             "fill": {
              "color": "#C8D4E3"
             },
             "line": {
              "color": "white"
             }
            },
            "type": "table"
           }
          ]
         },
         "layout": {
          "annotationdefaults": {
           "arrowcolor": "#2a3f5f",
           "arrowhead": 0,
           "arrowwidth": 1
          },
          "autotypenumbers": "strict",
          "coloraxis": {
           "colorbar": {
            "outlinewidth": 0,
            "ticks": ""
           }
          },
          "colorscale": {
           "diverging": [
            [
             0,
             "#8e0152"
            ],
            [
             0.1,
             "#c51b7d"
            ],
            [
             0.2,
             "#de77ae"
            ],
            [
             0.3,
             "#f1b6da"
            ],
            [
             0.4,
             "#fde0ef"
            ],
            [
             0.5,
             "#f7f7f7"
            ],
            [
             0.6,
             "#e6f5d0"
            ],
            [
             0.7,
             "#b8e186"
            ],
            [
             0.8,
             "#7fbc41"
            ],
            [
             0.9,
             "#4d9221"
            ],
            [
             1,
             "#276419"
            ]
           ],
           "sequential": [
            [
             0,
             "#0d0887"
            ],
            [
             0.1111111111111111,
             "#46039f"
            ],
            [
             0.2222222222222222,
             "#7201a8"
            ],
            [
             0.3333333333333333,
             "#9c179e"
            ],
            [
             0.4444444444444444,
             "#bd3786"
            ],
            [
             0.5555555555555556,
             "#d8576b"
            ],
            [
             0.6666666666666666,
             "#ed7953"
            ],
            [
             0.7777777777777778,
             "#fb9f3a"
            ],
            [
             0.8888888888888888,
             "#fdca26"
            ],
            [
             1,
             "#f0f921"
            ]
           ],
           "sequentialminus": [
            [
             0,
             "#0d0887"
            ],
            [
             0.1111111111111111,
             "#46039f"
            ],
            [
             0.2222222222222222,
             "#7201a8"
            ],
            [
             0.3333333333333333,
             "#9c179e"
            ],
            [
             0.4444444444444444,
             "#bd3786"
            ],
            [
             0.5555555555555556,
             "#d8576b"
            ],
            [
             0.6666666666666666,
             "#ed7953"
            ],
            [
             0.7777777777777778,
             "#fb9f3a"
            ],
            [
             0.8888888888888888,
             "#fdca26"
            ],
            [
             1,
             "#f0f921"
            ]
           ]
          },
          "colorway": [
           "#636efa",
           "#EF553B",
           "#00cc96",
           "#ab63fa",
           "#FFA15A",
           "#19d3f3",
           "#FF6692",
           "#B6E880",
           "#FF97FF",
           "#FECB52"
          ],
          "font": {
           "color": "#2a3f5f"
          },
          "geo": {
           "bgcolor": "white",
           "lakecolor": "white",
           "landcolor": "#E5ECF6",
           "showlakes": true,
           "showland": true,
           "subunitcolor": "white"
          },
          "hoverlabel": {
           "align": "left"
          },
          "hovermode": "closest",
          "mapbox": {
           "style": "light"
          },
          "paper_bgcolor": "white",
          "plot_bgcolor": "#E5ECF6",
          "polar": {
           "angularaxis": {
            "gridcolor": "white",
            "linecolor": "white",
            "ticks": ""
           },
           "bgcolor": "#E5ECF6",
           "radialaxis": {
            "gridcolor": "white",
            "linecolor": "white",
            "ticks": ""
           }
          },
          "scene": {
           "xaxis": {
            "backgroundcolor": "#E5ECF6",
            "gridcolor": "white",
            "gridwidth": 2,
            "linecolor": "white",
            "showbackground": true,
            "ticks": "",
            "zerolinecolor": "white"
           },
           "yaxis": {
            "backgroundcolor": "#E5ECF6",
            "gridcolor": "white",
            "gridwidth": 2,
            "linecolor": "white",
            "showbackground": true,
            "ticks": "",
            "zerolinecolor": "white"
           },
           "zaxis": {
            "backgroundcolor": "#E5ECF6",
            "gridcolor": "white",
            "gridwidth": 2,
            "linecolor": "white",
            "showbackground": true,
            "ticks": "",
            "zerolinecolor": "white"
           }
          },
          "shapedefaults": {
           "line": {
            "color": "#2a3f5f"
           }
          },
          "ternary": {
           "aaxis": {
            "gridcolor": "white",
            "linecolor": "white",
            "ticks": ""
           },
           "baxis": {
            "gridcolor": "white",
            "linecolor": "white",
            "ticks": ""
           },
           "bgcolor": "#E5ECF6",
           "caxis": {
            "gridcolor": "white",
            "linecolor": "white",
            "ticks": ""
           }
          },
          "title": {
           "x": 0.05
          },
          "xaxis": {
           "automargin": true,
           "gridcolor": "white",
           "linecolor": "white",
           "ticks": "",
           "title": {
            "standoff": 15
           },
           "zerolinecolor": "white",
           "zerolinewidth": 2
          },
          "yaxis": {
           "automargin": true,
           "gridcolor": "white",
           "linecolor": "white",
           "ticks": "",
           "title": {
            "standoff": 15
           },
           "zerolinecolor": "white",
           "zerolinewidth": 2
          }
         }
        },
        "title": {
         "text": "Model and training code accessibility"
        },
        "width": 400,
        "xaxis": {
         "title": {
          "text": "Code open/closed"
         }
        },
        "yaxis": {
         "title": {
          "text": "Model open/closed"
         }
        }
       }
      }
     },
     "metadata": {},
     "output_type": "display_data"
    }
   ],
   "source": [
    "import plotly.graph_objects as go\n",
    "\n",
    "# Data\n",
    "z = [[152, 57],\n",
    "     [80, 125]]\n",
    "\n",
    "fig = go.Figure(data=go.Heatmap(\n",
    "    z=notable_open_counts.values,\n",
    "    x=notable_open_counts.columns,\n",
    "    y=notable_open_counts.index,\n",
    "    hoverongaps = False,\n",
    "    text=z,\n",
    "    texttemplate=\"%{text}\",\n",
    "    textfont={\"size\":20},\n",
    "    colorscale='Blues'\n",
    "))\n",
    "\n",
    "\n",
    "fig.update_layout(\n",
    "    autosize=False,\n",
    "    width=400,\n",
    "    height=300,\n",
    "    title='Model and training code accessibility',\n",
    "    xaxis_title='Code open/closed',\n",
    "    yaxis_title='Model open/closed'\n",
    ")\n",
    "\n",
    "save_plot(fig, results_dir, f'model_code_accessibility_heatmap')\n",
    "notable_open_counts.to_csv(results_dir + 'plot_data/model_code_accessibility_heatmap.csv')\n",
    "\n",
    "fig.show()"
   ]
  },
  {
   "cell_type": "markdown",
   "metadata": {},
   "source": [
    "Model openness and code openness are reasonably correlated - most closed-weight models have closed code, while somewhat more open models have open code than closed code. This also applies across the other direction - most closed code models have closed weights, most open code models have open weights."
   ]
  },
  {
   "cell_type": "code",
   "execution_count": 41,
   "metadata": {},
   "outputs": [
    {
     "data": {
      "text/html": [
       "<div>\n",
       "<style scoped>\n",
       "    .dataframe tbody tr th:only-of-type {\n",
       "        vertical-align: middle;\n",
       "    }\n",
       "\n",
       "    .dataframe tbody tr th {\n",
       "        vertical-align: top;\n",
       "    }\n",
       "\n",
       "    .dataframe thead th {\n",
       "        text-align: right;\n",
       "    }\n",
       "</style>\n",
       "<table border=\"1\" class=\"dataframe\">\n",
       "  <thead>\n",
       "    <tr style=\"text-align: right;\">\n",
       "      <th></th>\n",
       "      <th>Year</th>\n",
       "      <th>Model open/closed</th>\n",
       "      <th>Code open/closed</th>\n",
       "      <th>Count</th>\n",
       "      <th>Cumulative</th>\n",
       "    </tr>\n",
       "  </thead>\n",
       "  <tbody>\n",
       "    <tr>\n",
       "      <th>0</th>\n",
       "      <td>2015</td>\n",
       "      <td>Closed</td>\n",
       "      <td>Closed</td>\n",
       "      <td>7</td>\n",
       "      <td>7</td>\n",
       "    </tr>\n",
       "    <tr>\n",
       "      <th>1</th>\n",
       "      <td>2015</td>\n",
       "      <td>Closed</td>\n",
       "      <td>Open</td>\n",
       "      <td>1</td>\n",
       "      <td>1</td>\n",
       "    </tr>\n",
       "    <tr>\n",
       "      <th>2</th>\n",
       "      <td>2015</td>\n",
       "      <td>Open</td>\n",
       "      <td>Open</td>\n",
       "      <td>3</td>\n",
       "      <td>3</td>\n",
       "    </tr>\n",
       "    <tr>\n",
       "      <th>3</th>\n",
       "      <td>2016</td>\n",
       "      <td>Closed</td>\n",
       "      <td>Closed</td>\n",
       "      <td>19</td>\n",
       "      <td>26</td>\n",
       "    </tr>\n",
       "    <tr>\n",
       "      <th>4</th>\n",
       "      <td>2016</td>\n",
       "      <td>Closed</td>\n",
       "      <td>Open</td>\n",
       "      <td>4</td>\n",
       "      <td>5</td>\n",
       "    </tr>\n",
       "    <tr>\n",
       "      <th>5</th>\n",
       "      <td>2016</td>\n",
       "      <td>Open</td>\n",
       "      <td>Closed</td>\n",
       "      <td>1</td>\n",
       "      <td>1</td>\n",
       "    </tr>\n",
       "    <tr>\n",
       "      <th>6</th>\n",
       "      <td>2016</td>\n",
       "      <td>Open</td>\n",
       "      <td>Open</td>\n",
       "      <td>2</td>\n",
       "      <td>5</td>\n",
       "    </tr>\n",
       "    <tr>\n",
       "      <th>7</th>\n",
       "      <td>2017</td>\n",
       "      <td>Closed</td>\n",
       "      <td>Closed</td>\n",
       "      <td>21</td>\n",
       "      <td>47</td>\n",
       "    </tr>\n",
       "    <tr>\n",
       "      <th>8</th>\n",
       "      <td>2017</td>\n",
       "      <td>Closed</td>\n",
       "      <td>Open</td>\n",
       "      <td>13</td>\n",
       "      <td>18</td>\n",
       "    </tr>\n",
       "    <tr>\n",
       "      <th>9</th>\n",
       "      <td>2017</td>\n",
       "      <td>Open</td>\n",
       "      <td>Open</td>\n",
       "      <td>2</td>\n",
       "      <td>7</td>\n",
       "    </tr>\n",
       "  </tbody>\n",
       "</table>\n",
       "</div>"
      ],
      "text/plain": [
       "   Year Model open/closed Code open/closed  Count  Cumulative\n",
       "0  2015            Closed           Closed      7           7\n",
       "1  2015            Closed             Open      1           1\n",
       "2  2015              Open             Open      3           3\n",
       "3  2016            Closed           Closed     19          26\n",
       "4  2016            Closed             Open      4           5\n",
       "5  2016              Open           Closed      1           1\n",
       "6  2016              Open             Open      2           5\n",
       "7  2017            Closed           Closed     21          47\n",
       "8  2017            Closed             Open     13          18\n",
       "9  2017              Open             Open      2           7"
      ]
     },
     "execution_count": 41,
     "metadata": {},
     "output_type": "execute_result"
    }
   ],
   "source": [
    "open_counts = code_df.loc[code_df['Year'] >= 2015].groupby(['Year', 'Model open/closed', 'Code open/closed']).size().reset_index(name='Count')\n",
    "\n",
    "open_counts['Cumulative'] = open_counts.groupby(['Model open/closed', 'Code open/closed'])['Count'].cumsum()\n",
    "\n",
    "open_counts.head(10)"
   ]
  },
  {
   "cell_type": "code",
   "execution_count": 42,
   "metadata": {},
   "outputs": [
    {
     "data": {
      "text/html": [
       "<div>\n",
       "<style scoped>\n",
       "    .dataframe tbody tr th:only-of-type {\n",
       "        vertical-align: middle;\n",
       "    }\n",
       "\n",
       "    .dataframe tbody tr th {\n",
       "        vertical-align: top;\n",
       "    }\n",
       "\n",
       "    .dataframe thead th {\n",
       "        text-align: right;\n",
       "    }\n",
       "</style>\n",
       "<table border=\"1\" class=\"dataframe\">\n",
       "  <thead>\n",
       "    <tr style=\"text-align: right;\">\n",
       "      <th></th>\n",
       "      <th>Year</th>\n",
       "      <th>Yearly Total</th>\n",
       "      <th>Cumulative Total</th>\n",
       "    </tr>\n",
       "  </thead>\n",
       "  <tbody>\n",
       "    <tr>\n",
       "      <th>0</th>\n",
       "      <td>2015</td>\n",
       "      <td>11</td>\n",
       "      <td>11</td>\n",
       "    </tr>\n",
       "    <tr>\n",
       "      <th>1</th>\n",
       "      <td>2016</td>\n",
       "      <td>26</td>\n",
       "      <td>37</td>\n",
       "    </tr>\n",
       "    <tr>\n",
       "      <th>2</th>\n",
       "      <td>2017</td>\n",
       "      <td>36</td>\n",
       "      <td>73</td>\n",
       "    </tr>\n",
       "    <tr>\n",
       "      <th>3</th>\n",
       "      <td>2018</td>\n",
       "      <td>65</td>\n",
       "      <td>138</td>\n",
       "    </tr>\n",
       "    <tr>\n",
       "      <th>4</th>\n",
       "      <td>2019</td>\n",
       "      <td>139</td>\n",
       "      <td>277</td>\n",
       "    </tr>\n",
       "    <tr>\n",
       "      <th>5</th>\n",
       "      <td>2020</td>\n",
       "      <td>91</td>\n",
       "      <td>368</td>\n",
       "    </tr>\n",
       "    <tr>\n",
       "      <th>6</th>\n",
       "      <td>2021</td>\n",
       "      <td>140</td>\n",
       "      <td>508</td>\n",
       "    </tr>\n",
       "    <tr>\n",
       "      <th>7</th>\n",
       "      <td>2022</td>\n",
       "      <td>121</td>\n",
       "      <td>629</td>\n",
       "    </tr>\n",
       "    <tr>\n",
       "      <th>8</th>\n",
       "      <td>2023</td>\n",
       "      <td>195</td>\n",
       "      <td>824</td>\n",
       "    </tr>\n",
       "    <tr>\n",
       "      <th>9</th>\n",
       "      <td>2024</td>\n",
       "      <td>98</td>\n",
       "      <td>922</td>\n",
       "    </tr>\n",
       "  </tbody>\n",
       "</table>\n",
       "</div>"
      ],
      "text/plain": [
       "   Year  Yearly Total  Cumulative Total\n",
       "0  2015            11                11\n",
       "1  2016            26                37\n",
       "2  2017            36                73\n",
       "3  2018            65               138\n",
       "4  2019           139               277\n",
       "5  2020            91               368\n",
       "6  2021           140               508\n",
       "7  2022           121               629\n",
       "8  2023           195               824\n",
       "9  2024            98               922"
      ]
     },
     "execution_count": 42,
     "metadata": {},
     "output_type": "execute_result"
    }
   ],
   "source": [
    "total_counts = open_counts.groupby('Year')['Count'].sum().reset_index(name='Yearly Total')\n",
    "total_counts['Cumulative Total'] = total_counts['Yearly Total'].cumsum()\n",
    "total_counts"
   ]
  },
  {
   "cell_type": "code",
   "execution_count": 43,
   "metadata": {},
   "outputs": [
    {
     "data": {
      "text/html": [
       "<div>\n",
       "<style scoped>\n",
       "    .dataframe tbody tr th:only-of-type {\n",
       "        vertical-align: middle;\n",
       "    }\n",
       "\n",
       "    .dataframe tbody tr th {\n",
       "        vertical-align: top;\n",
       "    }\n",
       "\n",
       "    .dataframe thead tr th {\n",
       "        text-align: left;\n",
       "    }\n",
       "</style>\n",
       "<table border=\"1\" class=\"dataframe\">\n",
       "  <thead>\n",
       "    <tr>\n",
       "      <th>Model open/closed</th>\n",
       "      <th>Year</th>\n",
       "      <th colspan=\"2\" halign=\"left\">Closed</th>\n",
       "      <th colspan=\"2\" halign=\"left\">Open</th>\n",
       "    </tr>\n",
       "    <tr>\n",
       "      <th>Code open/closed</th>\n",
       "      <th></th>\n",
       "      <th>Closed</th>\n",
       "      <th>Open</th>\n",
       "      <th>Open</th>\n",
       "      <th>Closed</th>\n",
       "    </tr>\n",
       "  </thead>\n",
       "  <tbody>\n",
       "    <tr>\n",
       "      <th>0</th>\n",
       "      <td>2015</td>\n",
       "      <td>7.0</td>\n",
       "      <td>1.0</td>\n",
       "      <td>3.0</td>\n",
       "      <td>0.0</td>\n",
       "    </tr>\n",
       "    <tr>\n",
       "      <th>1</th>\n",
       "      <td>2016</td>\n",
       "      <td>19.0</td>\n",
       "      <td>4.0</td>\n",
       "      <td>2.0</td>\n",
       "      <td>1.0</td>\n",
       "    </tr>\n",
       "    <tr>\n",
       "      <th>2</th>\n",
       "      <td>2017</td>\n",
       "      <td>21.0</td>\n",
       "      <td>13.0</td>\n",
       "      <td>2.0</td>\n",
       "      <td>0.0</td>\n",
       "    </tr>\n",
       "    <tr>\n",
       "      <th>3</th>\n",
       "      <td>2018</td>\n",
       "      <td>32.0</td>\n",
       "      <td>11.0</td>\n",
       "      <td>19.0</td>\n",
       "      <td>3.0</td>\n",
       "    </tr>\n",
       "    <tr>\n",
       "      <th>4</th>\n",
       "      <td>2019</td>\n",
       "      <td>58.0</td>\n",
       "      <td>35.0</td>\n",
       "      <td>37.0</td>\n",
       "      <td>9.0</td>\n",
       "    </tr>\n",
       "    <tr>\n",
       "      <th>5</th>\n",
       "      <td>2020</td>\n",
       "      <td>41.0</td>\n",
       "      <td>14.0</td>\n",
       "      <td>22.0</td>\n",
       "      <td>14.0</td>\n",
       "    </tr>\n",
       "    <tr>\n",
       "      <th>6</th>\n",
       "      <td>2021</td>\n",
       "      <td>50.0</td>\n",
       "      <td>31.0</td>\n",
       "      <td>46.0</td>\n",
       "      <td>13.0</td>\n",
       "    </tr>\n",
       "    <tr>\n",
       "      <th>7</th>\n",
       "      <td>2022</td>\n",
       "      <td>32.0</td>\n",
       "      <td>22.0</td>\n",
       "      <td>39.0</td>\n",
       "      <td>28.0</td>\n",
       "    </tr>\n",
       "    <tr>\n",
       "      <th>8</th>\n",
       "      <td>2023</td>\n",
       "      <td>51.0</td>\n",
       "      <td>11.0</td>\n",
       "      <td>65.0</td>\n",
       "      <td>68.0</td>\n",
       "    </tr>\n",
       "    <tr>\n",
       "      <th>9</th>\n",
       "      <td>2024</td>\n",
       "      <td>39.0</td>\n",
       "      <td>2.0</td>\n",
       "      <td>17.0</td>\n",
       "      <td>40.0</td>\n",
       "    </tr>\n",
       "  </tbody>\n",
       "</table>\n",
       "</div>"
      ],
      "text/plain": [
       "Model open/closed  Year Closed        Open       \n",
       "Code open/closed        Closed  Open  Open Closed\n",
       "0                  2015    7.0   1.0   3.0    0.0\n",
       "1                  2016   19.0   4.0   2.0    1.0\n",
       "2                  2017   21.0  13.0   2.0    0.0\n",
       "3                  2018   32.0  11.0  19.0    3.0\n",
       "4                  2019   58.0  35.0  37.0    9.0\n",
       "5                  2020   41.0  14.0  22.0   14.0\n",
       "6                  2021   50.0  31.0  46.0   13.0\n",
       "7                  2022   32.0  22.0  39.0   28.0\n",
       "8                  2023   51.0  11.0  65.0   68.0\n",
       "9                  2024   39.0   2.0  17.0   40.0"
      ]
     },
     "execution_count": 43,
     "metadata": {},
     "output_type": "execute_result"
    }
   ],
   "source": [
    "open_counts_wide = open_counts.pivot(index='Year', columns=['Model open/closed', 'Code open/closed'], values='Count')\n",
    "open_counts_wide = open_counts_wide.fillna(0).reset_index()\n",
    "open_counts_wide"
   ]
  },
  {
   "cell_type": "code",
   "execution_count": 44,
   "metadata": {},
   "outputs": [
    {
     "name": "stdout",
     "output_type": "stream",
     "text": [
      "[('Year', ''), ('Closed', 'Closed'), ('Closed', 'Open'), ('Open', 'Open'), ('Open', 'Closed')]\n",
      "[None]\n"
     ]
    }
   ],
   "source": [
    "print(open_counts_wide.columns.to_list())\n",
    "print(open_counts_wide.index.names)"
   ]
  },
  {
   "cell_type": "code",
   "execution_count": 45,
   "metadata": {},
   "outputs": [
    {
     "data": {
      "text/html": [
       "<div>\n",
       "<style scoped>\n",
       "    .dataframe tbody tr th:only-of-type {\n",
       "        vertical-align: middle;\n",
       "    }\n",
       "\n",
       "    .dataframe tbody tr th {\n",
       "        vertical-align: top;\n",
       "    }\n",
       "\n",
       "    .dataframe thead th {\n",
       "        text-align: right;\n",
       "    }\n",
       "</style>\n",
       "<table border=\"1\" class=\"dataframe\">\n",
       "  <thead>\n",
       "    <tr style=\"text-align: right;\">\n",
       "      <th></th>\n",
       "      <th>Year</th>\n",
       "      <th>Model Closed Code Closed</th>\n",
       "      <th>Model Closed Code Open</th>\n",
       "      <th>Model Open Code Open</th>\n",
       "      <th>Model Open Code Closed</th>\n",
       "    </tr>\n",
       "  </thead>\n",
       "  <tbody>\n",
       "    <tr>\n",
       "      <th>0</th>\n",
       "      <td>2015</td>\n",
       "      <td>7.0</td>\n",
       "      <td>1.0</td>\n",
       "      <td>3.0</td>\n",
       "      <td>0.0</td>\n",
       "    </tr>\n",
       "    <tr>\n",
       "      <th>1</th>\n",
       "      <td>2016</td>\n",
       "      <td>19.0</td>\n",
       "      <td>4.0</td>\n",
       "      <td>2.0</td>\n",
       "      <td>1.0</td>\n",
       "    </tr>\n",
       "    <tr>\n",
       "      <th>2</th>\n",
       "      <td>2017</td>\n",
       "      <td>21.0</td>\n",
       "      <td>13.0</td>\n",
       "      <td>2.0</td>\n",
       "      <td>0.0</td>\n",
       "    </tr>\n",
       "    <tr>\n",
       "      <th>3</th>\n",
       "      <td>2018</td>\n",
       "      <td>32.0</td>\n",
       "      <td>11.0</td>\n",
       "      <td>19.0</td>\n",
       "      <td>3.0</td>\n",
       "    </tr>\n",
       "    <tr>\n",
       "      <th>4</th>\n",
       "      <td>2019</td>\n",
       "      <td>58.0</td>\n",
       "      <td>35.0</td>\n",
       "      <td>37.0</td>\n",
       "      <td>9.0</td>\n",
       "    </tr>\n",
       "    <tr>\n",
       "      <th>5</th>\n",
       "      <td>2020</td>\n",
       "      <td>41.0</td>\n",
       "      <td>14.0</td>\n",
       "      <td>22.0</td>\n",
       "      <td>14.0</td>\n",
       "    </tr>\n",
       "    <tr>\n",
       "      <th>6</th>\n",
       "      <td>2021</td>\n",
       "      <td>50.0</td>\n",
       "      <td>31.0</td>\n",
       "      <td>46.0</td>\n",
       "      <td>13.0</td>\n",
       "    </tr>\n",
       "    <tr>\n",
       "      <th>7</th>\n",
       "      <td>2022</td>\n",
       "      <td>32.0</td>\n",
       "      <td>22.0</td>\n",
       "      <td>39.0</td>\n",
       "      <td>28.0</td>\n",
       "    </tr>\n",
       "    <tr>\n",
       "      <th>8</th>\n",
       "      <td>2023</td>\n",
       "      <td>51.0</td>\n",
       "      <td>11.0</td>\n",
       "      <td>65.0</td>\n",
       "      <td>68.0</td>\n",
       "    </tr>\n",
       "    <tr>\n",
       "      <th>9</th>\n",
       "      <td>2024</td>\n",
       "      <td>39.0</td>\n",
       "      <td>2.0</td>\n",
       "      <td>17.0</td>\n",
       "      <td>40.0</td>\n",
       "    </tr>\n",
       "  </tbody>\n",
       "</table>\n",
       "</div>"
      ],
      "text/plain": [
       "   Year  Model Closed Code Closed  Model Closed Code Open  \\\n",
       "0  2015                       7.0                     1.0   \n",
       "1  2016                      19.0                     4.0   \n",
       "2  2017                      21.0                    13.0   \n",
       "3  2018                      32.0                    11.0   \n",
       "4  2019                      58.0                    35.0   \n",
       "5  2020                      41.0                    14.0   \n",
       "6  2021                      50.0                    31.0   \n",
       "7  2022                      32.0                    22.0   \n",
       "8  2023                      51.0                    11.0   \n",
       "9  2024                      39.0                     2.0   \n",
       "\n",
       "   Model Open Code Open  Model Open Code Closed  \n",
       "0                   3.0                     0.0  \n",
       "1                   2.0                     1.0  \n",
       "2                   2.0                     0.0  \n",
       "3                  19.0                     3.0  \n",
       "4                  37.0                     9.0  \n",
       "5                  22.0                    14.0  \n",
       "6                  46.0                    13.0  \n",
       "7                  39.0                    28.0  \n",
       "8                  65.0                    68.0  \n",
       "9                  17.0                    40.0  "
      ]
     },
     "execution_count": 45,
     "metadata": {},
     "output_type": "execute_result"
    }
   ],
   "source": [
    "# Convert pivoted multi-columns to single columns with clear names\n",
    "new_columns = ['Year'] + [f'Model {outer} Code {inner}' for outer, inner in open_counts_wide.columns[1:]]\n",
    "open_counts_wide.columns = new_columns\n",
    "\n",
    "open_counts_wide"
   ]
  },
  {
   "cell_type": "code",
   "execution_count": 46,
   "metadata": {},
   "outputs": [
    {
     "data": {
      "text/html": [
       "<div>\n",
       "<style scoped>\n",
       "    .dataframe tbody tr th:only-of-type {\n",
       "        vertical-align: middle;\n",
       "    }\n",
       "\n",
       "    .dataframe tbody tr th {\n",
       "        vertical-align: top;\n",
       "    }\n",
       "\n",
       "    .dataframe thead th {\n",
       "        text-align: right;\n",
       "    }\n",
       "</style>\n",
       "<table border=\"1\" class=\"dataframe\">\n",
       "  <thead>\n",
       "    <tr style=\"text-align: right;\">\n",
       "      <th></th>\n",
       "      <th>Year</th>\n",
       "      <th>Category</th>\n",
       "      <th>Count</th>\n",
       "    </tr>\n",
       "  </thead>\n",
       "  <tbody>\n",
       "    <tr>\n",
       "      <th>0</th>\n",
       "      <td>2015</td>\n",
       "      <td>Model Closed Code Closed</td>\n",
       "      <td>7.0</td>\n",
       "    </tr>\n",
       "    <tr>\n",
       "      <th>1</th>\n",
       "      <td>2016</td>\n",
       "      <td>Model Closed Code Closed</td>\n",
       "      <td>19.0</td>\n",
       "    </tr>\n",
       "    <tr>\n",
       "      <th>2</th>\n",
       "      <td>2017</td>\n",
       "      <td>Model Closed Code Closed</td>\n",
       "      <td>21.0</td>\n",
       "    </tr>\n",
       "    <tr>\n",
       "      <th>3</th>\n",
       "      <td>2018</td>\n",
       "      <td>Model Closed Code Closed</td>\n",
       "      <td>32.0</td>\n",
       "    </tr>\n",
       "    <tr>\n",
       "      <th>4</th>\n",
       "      <td>2019</td>\n",
       "      <td>Model Closed Code Closed</td>\n",
       "      <td>58.0</td>\n",
       "    </tr>\n",
       "    <tr>\n",
       "      <th>5</th>\n",
       "      <td>2020</td>\n",
       "      <td>Model Closed Code Closed</td>\n",
       "      <td>41.0</td>\n",
       "    </tr>\n",
       "    <tr>\n",
       "      <th>6</th>\n",
       "      <td>2021</td>\n",
       "      <td>Model Closed Code Closed</td>\n",
       "      <td>50.0</td>\n",
       "    </tr>\n",
       "    <tr>\n",
       "      <th>7</th>\n",
       "      <td>2022</td>\n",
       "      <td>Model Closed Code Closed</td>\n",
       "      <td>32.0</td>\n",
       "    </tr>\n",
       "    <tr>\n",
       "      <th>8</th>\n",
       "      <td>2023</td>\n",
       "      <td>Model Closed Code Closed</td>\n",
       "      <td>51.0</td>\n",
       "    </tr>\n",
       "    <tr>\n",
       "      <th>9</th>\n",
       "      <td>2024</td>\n",
       "      <td>Model Closed Code Closed</td>\n",
       "      <td>39.0</td>\n",
       "    </tr>\n",
       "    <tr>\n",
       "      <th>10</th>\n",
       "      <td>2015</td>\n",
       "      <td>Model Closed Code Open</td>\n",
       "      <td>1.0</td>\n",
       "    </tr>\n",
       "    <tr>\n",
       "      <th>11</th>\n",
       "      <td>2016</td>\n",
       "      <td>Model Closed Code Open</td>\n",
       "      <td>4.0</td>\n",
       "    </tr>\n",
       "    <tr>\n",
       "      <th>12</th>\n",
       "      <td>2017</td>\n",
       "      <td>Model Closed Code Open</td>\n",
       "      <td>13.0</td>\n",
       "    </tr>\n",
       "    <tr>\n",
       "      <th>13</th>\n",
       "      <td>2018</td>\n",
       "      <td>Model Closed Code Open</td>\n",
       "      <td>11.0</td>\n",
       "    </tr>\n",
       "    <tr>\n",
       "      <th>14</th>\n",
       "      <td>2019</td>\n",
       "      <td>Model Closed Code Open</td>\n",
       "      <td>35.0</td>\n",
       "    </tr>\n",
       "    <tr>\n",
       "      <th>15</th>\n",
       "      <td>2020</td>\n",
       "      <td>Model Closed Code Open</td>\n",
       "      <td>14.0</td>\n",
       "    </tr>\n",
       "    <tr>\n",
       "      <th>16</th>\n",
       "      <td>2021</td>\n",
       "      <td>Model Closed Code Open</td>\n",
       "      <td>31.0</td>\n",
       "    </tr>\n",
       "    <tr>\n",
       "      <th>17</th>\n",
       "      <td>2022</td>\n",
       "      <td>Model Closed Code Open</td>\n",
       "      <td>22.0</td>\n",
       "    </tr>\n",
       "    <tr>\n",
       "      <th>18</th>\n",
       "      <td>2023</td>\n",
       "      <td>Model Closed Code Open</td>\n",
       "      <td>11.0</td>\n",
       "    </tr>\n",
       "    <tr>\n",
       "      <th>19</th>\n",
       "      <td>2024</td>\n",
       "      <td>Model Closed Code Open</td>\n",
       "      <td>2.0</td>\n",
       "    </tr>\n",
       "  </tbody>\n",
       "</table>\n",
       "</div>"
      ],
      "text/plain": [
       "    Year                  Category  Count\n",
       "0   2015  Model Closed Code Closed    7.0\n",
       "1   2016  Model Closed Code Closed   19.0\n",
       "2   2017  Model Closed Code Closed   21.0\n",
       "3   2018  Model Closed Code Closed   32.0\n",
       "4   2019  Model Closed Code Closed   58.0\n",
       "5   2020  Model Closed Code Closed   41.0\n",
       "6   2021  Model Closed Code Closed   50.0\n",
       "7   2022  Model Closed Code Closed   32.0\n",
       "8   2023  Model Closed Code Closed   51.0\n",
       "9   2024  Model Closed Code Closed   39.0\n",
       "10  2015    Model Closed Code Open    1.0\n",
       "11  2016    Model Closed Code Open    4.0\n",
       "12  2017    Model Closed Code Open   13.0\n",
       "13  2018    Model Closed Code Open   11.0\n",
       "14  2019    Model Closed Code Open   35.0\n",
       "15  2020    Model Closed Code Open   14.0\n",
       "16  2021    Model Closed Code Open   31.0\n",
       "17  2022    Model Closed Code Open   22.0\n",
       "18  2023    Model Closed Code Open   11.0\n",
       "19  2024    Model Closed Code Open    2.0"
      ]
     },
     "execution_count": 46,
     "metadata": {},
     "output_type": "execute_result"
    }
   ],
   "source": [
    "# unpivot table to get the count of each 2x2 value for each year\n",
    "open_counts_filled = (open_counts_wide.melt(id_vars=['Year'], \n",
    "                                            var_name='Category',\n",
    "                                            value_name='Count')\n",
    "                                      .reset_index(drop=True))\n",
    "\n",
    "open_counts_filled.head(20)"
   ]
  },
  {
   "cell_type": "code",
   "execution_count": 47,
   "metadata": {},
   "outputs": [
    {
     "data": {
      "text/html": [
       "<div>\n",
       "<style scoped>\n",
       "    .dataframe tbody tr th:only-of-type {\n",
       "        vertical-align: middle;\n",
       "    }\n",
       "\n",
       "    .dataframe tbody tr th {\n",
       "        vertical-align: top;\n",
       "    }\n",
       "\n",
       "    .dataframe thead th {\n",
       "        text-align: right;\n",
       "    }\n",
       "</style>\n",
       "<table border=\"1\" class=\"dataframe\">\n",
       "  <thead>\n",
       "    <tr style=\"text-align: right;\">\n",
       "      <th></th>\n",
       "      <th>Year</th>\n",
       "      <th>Category</th>\n",
       "      <th>Count</th>\n",
       "      <th>Yearly Total</th>\n",
       "      <th>Proportion for year</th>\n",
       "    </tr>\n",
       "  </thead>\n",
       "  <tbody>\n",
       "    <tr>\n",
       "      <th>0</th>\n",
       "      <td>2015</td>\n",
       "      <td>Model Closed Code Closed</td>\n",
       "      <td>7.0</td>\n",
       "      <td>11</td>\n",
       "      <td>0.636364</td>\n",
       "    </tr>\n",
       "    <tr>\n",
       "      <th>1</th>\n",
       "      <td>2016</td>\n",
       "      <td>Model Closed Code Closed</td>\n",
       "      <td>19.0</td>\n",
       "      <td>26</td>\n",
       "      <td>0.730769</td>\n",
       "    </tr>\n",
       "    <tr>\n",
       "      <th>2</th>\n",
       "      <td>2017</td>\n",
       "      <td>Model Closed Code Closed</td>\n",
       "      <td>21.0</td>\n",
       "      <td>36</td>\n",
       "      <td>0.583333</td>\n",
       "    </tr>\n",
       "    <tr>\n",
       "      <th>3</th>\n",
       "      <td>2018</td>\n",
       "      <td>Model Closed Code Closed</td>\n",
       "      <td>32.0</td>\n",
       "      <td>65</td>\n",
       "      <td>0.492308</td>\n",
       "    </tr>\n",
       "    <tr>\n",
       "      <th>4</th>\n",
       "      <td>2019</td>\n",
       "      <td>Model Closed Code Closed</td>\n",
       "      <td>58.0</td>\n",
       "      <td>139</td>\n",
       "      <td>0.417266</td>\n",
       "    </tr>\n",
       "    <tr>\n",
       "      <th>5</th>\n",
       "      <td>2020</td>\n",
       "      <td>Model Closed Code Closed</td>\n",
       "      <td>41.0</td>\n",
       "      <td>91</td>\n",
       "      <td>0.450549</td>\n",
       "    </tr>\n",
       "    <tr>\n",
       "      <th>6</th>\n",
       "      <td>2021</td>\n",
       "      <td>Model Closed Code Closed</td>\n",
       "      <td>50.0</td>\n",
       "      <td>140</td>\n",
       "      <td>0.357143</td>\n",
       "    </tr>\n",
       "    <tr>\n",
       "      <th>7</th>\n",
       "      <td>2022</td>\n",
       "      <td>Model Closed Code Closed</td>\n",
       "      <td>32.0</td>\n",
       "      <td>121</td>\n",
       "      <td>0.264463</td>\n",
       "    </tr>\n",
       "    <tr>\n",
       "      <th>8</th>\n",
       "      <td>2023</td>\n",
       "      <td>Model Closed Code Closed</td>\n",
       "      <td>51.0</td>\n",
       "      <td>195</td>\n",
       "      <td>0.261538</td>\n",
       "    </tr>\n",
       "    <tr>\n",
       "      <th>9</th>\n",
       "      <td>2024</td>\n",
       "      <td>Model Closed Code Closed</td>\n",
       "      <td>39.0</td>\n",
       "      <td>98</td>\n",
       "      <td>0.397959</td>\n",
       "    </tr>\n",
       "    <tr>\n",
       "      <th>10</th>\n",
       "      <td>2015</td>\n",
       "      <td>Model Closed Code Open</td>\n",
       "      <td>1.0</td>\n",
       "      <td>11</td>\n",
       "      <td>0.090909</td>\n",
       "    </tr>\n",
       "    <tr>\n",
       "      <th>11</th>\n",
       "      <td>2016</td>\n",
       "      <td>Model Closed Code Open</td>\n",
       "      <td>4.0</td>\n",
       "      <td>26</td>\n",
       "      <td>0.153846</td>\n",
       "    </tr>\n",
       "    <tr>\n",
       "      <th>12</th>\n",
       "      <td>2017</td>\n",
       "      <td>Model Closed Code Open</td>\n",
       "      <td>13.0</td>\n",
       "      <td>36</td>\n",
       "      <td>0.361111</td>\n",
       "    </tr>\n",
       "    <tr>\n",
       "      <th>13</th>\n",
       "      <td>2018</td>\n",
       "      <td>Model Closed Code Open</td>\n",
       "      <td>11.0</td>\n",
       "      <td>65</td>\n",
       "      <td>0.169231</td>\n",
       "    </tr>\n",
       "    <tr>\n",
       "      <th>14</th>\n",
       "      <td>2019</td>\n",
       "      <td>Model Closed Code Open</td>\n",
       "      <td>35.0</td>\n",
       "      <td>139</td>\n",
       "      <td>0.251799</td>\n",
       "    </tr>\n",
       "    <tr>\n",
       "      <th>15</th>\n",
       "      <td>2020</td>\n",
       "      <td>Model Closed Code Open</td>\n",
       "      <td>14.0</td>\n",
       "      <td>91</td>\n",
       "      <td>0.153846</td>\n",
       "    </tr>\n",
       "    <tr>\n",
       "      <th>16</th>\n",
       "      <td>2021</td>\n",
       "      <td>Model Closed Code Open</td>\n",
       "      <td>31.0</td>\n",
       "      <td>140</td>\n",
       "      <td>0.221429</td>\n",
       "    </tr>\n",
       "    <tr>\n",
       "      <th>17</th>\n",
       "      <td>2022</td>\n",
       "      <td>Model Closed Code Open</td>\n",
       "      <td>22.0</td>\n",
       "      <td>121</td>\n",
       "      <td>0.181818</td>\n",
       "    </tr>\n",
       "    <tr>\n",
       "      <th>18</th>\n",
       "      <td>2023</td>\n",
       "      <td>Model Closed Code Open</td>\n",
       "      <td>11.0</td>\n",
       "      <td>195</td>\n",
       "      <td>0.056410</td>\n",
       "    </tr>\n",
       "    <tr>\n",
       "      <th>19</th>\n",
       "      <td>2024</td>\n",
       "      <td>Model Closed Code Open</td>\n",
       "      <td>2.0</td>\n",
       "      <td>98</td>\n",
       "      <td>0.020408</td>\n",
       "    </tr>\n",
       "    <tr>\n",
       "      <th>20</th>\n",
       "      <td>2015</td>\n",
       "      <td>Model Open Code Open</td>\n",
       "      <td>3.0</td>\n",
       "      <td>11</td>\n",
       "      <td>0.272727</td>\n",
       "    </tr>\n",
       "    <tr>\n",
       "      <th>21</th>\n",
       "      <td>2016</td>\n",
       "      <td>Model Open Code Open</td>\n",
       "      <td>2.0</td>\n",
       "      <td>26</td>\n",
       "      <td>0.076923</td>\n",
       "    </tr>\n",
       "    <tr>\n",
       "      <th>22</th>\n",
       "      <td>2017</td>\n",
       "      <td>Model Open Code Open</td>\n",
       "      <td>2.0</td>\n",
       "      <td>36</td>\n",
       "      <td>0.055556</td>\n",
       "    </tr>\n",
       "    <tr>\n",
       "      <th>23</th>\n",
       "      <td>2018</td>\n",
       "      <td>Model Open Code Open</td>\n",
       "      <td>19.0</td>\n",
       "      <td>65</td>\n",
       "      <td>0.292308</td>\n",
       "    </tr>\n",
       "    <tr>\n",
       "      <th>24</th>\n",
       "      <td>2019</td>\n",
       "      <td>Model Open Code Open</td>\n",
       "      <td>37.0</td>\n",
       "      <td>139</td>\n",
       "      <td>0.266187</td>\n",
       "    </tr>\n",
       "    <tr>\n",
       "      <th>25</th>\n",
       "      <td>2020</td>\n",
       "      <td>Model Open Code Open</td>\n",
       "      <td>22.0</td>\n",
       "      <td>91</td>\n",
       "      <td>0.241758</td>\n",
       "    </tr>\n",
       "    <tr>\n",
       "      <th>26</th>\n",
       "      <td>2021</td>\n",
       "      <td>Model Open Code Open</td>\n",
       "      <td>46.0</td>\n",
       "      <td>140</td>\n",
       "      <td>0.328571</td>\n",
       "    </tr>\n",
       "    <tr>\n",
       "      <th>27</th>\n",
       "      <td>2022</td>\n",
       "      <td>Model Open Code Open</td>\n",
       "      <td>39.0</td>\n",
       "      <td>121</td>\n",
       "      <td>0.322314</td>\n",
       "    </tr>\n",
       "    <tr>\n",
       "      <th>28</th>\n",
       "      <td>2023</td>\n",
       "      <td>Model Open Code Open</td>\n",
       "      <td>65.0</td>\n",
       "      <td>195</td>\n",
       "      <td>0.333333</td>\n",
       "    </tr>\n",
       "    <tr>\n",
       "      <th>29</th>\n",
       "      <td>2024</td>\n",
       "      <td>Model Open Code Open</td>\n",
       "      <td>17.0</td>\n",
       "      <td>98</td>\n",
       "      <td>0.173469</td>\n",
       "    </tr>\n",
       "    <tr>\n",
       "      <th>30</th>\n",
       "      <td>2015</td>\n",
       "      <td>Model Open Code Closed</td>\n",
       "      <td>0.0</td>\n",
       "      <td>11</td>\n",
       "      <td>0.000000</td>\n",
       "    </tr>\n",
       "    <tr>\n",
       "      <th>31</th>\n",
       "      <td>2016</td>\n",
       "      <td>Model Open Code Closed</td>\n",
       "      <td>1.0</td>\n",
       "      <td>26</td>\n",
       "      <td>0.038462</td>\n",
       "    </tr>\n",
       "    <tr>\n",
       "      <th>32</th>\n",
       "      <td>2017</td>\n",
       "      <td>Model Open Code Closed</td>\n",
       "      <td>0.0</td>\n",
       "      <td>36</td>\n",
       "      <td>0.000000</td>\n",
       "    </tr>\n",
       "    <tr>\n",
       "      <th>33</th>\n",
       "      <td>2018</td>\n",
       "      <td>Model Open Code Closed</td>\n",
       "      <td>3.0</td>\n",
       "      <td>65</td>\n",
       "      <td>0.046154</td>\n",
       "    </tr>\n",
       "    <tr>\n",
       "      <th>34</th>\n",
       "      <td>2019</td>\n",
       "      <td>Model Open Code Closed</td>\n",
       "      <td>9.0</td>\n",
       "      <td>139</td>\n",
       "      <td>0.064748</td>\n",
       "    </tr>\n",
       "    <tr>\n",
       "      <th>35</th>\n",
       "      <td>2020</td>\n",
       "      <td>Model Open Code Closed</td>\n",
       "      <td>14.0</td>\n",
       "      <td>91</td>\n",
       "      <td>0.153846</td>\n",
       "    </tr>\n",
       "    <tr>\n",
       "      <th>36</th>\n",
       "      <td>2021</td>\n",
       "      <td>Model Open Code Closed</td>\n",
       "      <td>13.0</td>\n",
       "      <td>140</td>\n",
       "      <td>0.092857</td>\n",
       "    </tr>\n",
       "    <tr>\n",
       "      <th>37</th>\n",
       "      <td>2022</td>\n",
       "      <td>Model Open Code Closed</td>\n",
       "      <td>28.0</td>\n",
       "      <td>121</td>\n",
       "      <td>0.231405</td>\n",
       "    </tr>\n",
       "    <tr>\n",
       "      <th>38</th>\n",
       "      <td>2023</td>\n",
       "      <td>Model Open Code Closed</td>\n",
       "      <td>68.0</td>\n",
       "      <td>195</td>\n",
       "      <td>0.348718</td>\n",
       "    </tr>\n",
       "    <tr>\n",
       "      <th>39</th>\n",
       "      <td>2024</td>\n",
       "      <td>Model Open Code Closed</td>\n",
       "      <td>40.0</td>\n",
       "      <td>98</td>\n",
       "      <td>0.408163</td>\n",
       "    </tr>\n",
       "  </tbody>\n",
       "</table>\n",
       "</div>"
      ],
      "text/plain": [
       "    Year                  Category  Count  Yearly Total  Proportion for year\n",
       "0   2015  Model Closed Code Closed    7.0            11             0.636364\n",
       "1   2016  Model Closed Code Closed   19.0            26             0.730769\n",
       "2   2017  Model Closed Code Closed   21.0            36             0.583333\n",
       "3   2018  Model Closed Code Closed   32.0            65             0.492308\n",
       "4   2019  Model Closed Code Closed   58.0           139             0.417266\n",
       "5   2020  Model Closed Code Closed   41.0            91             0.450549\n",
       "6   2021  Model Closed Code Closed   50.0           140             0.357143\n",
       "7   2022  Model Closed Code Closed   32.0           121             0.264463\n",
       "8   2023  Model Closed Code Closed   51.0           195             0.261538\n",
       "9   2024  Model Closed Code Closed   39.0            98             0.397959\n",
       "10  2015    Model Closed Code Open    1.0            11             0.090909\n",
       "11  2016    Model Closed Code Open    4.0            26             0.153846\n",
       "12  2017    Model Closed Code Open   13.0            36             0.361111\n",
       "13  2018    Model Closed Code Open   11.0            65             0.169231\n",
       "14  2019    Model Closed Code Open   35.0           139             0.251799\n",
       "15  2020    Model Closed Code Open   14.0            91             0.153846\n",
       "16  2021    Model Closed Code Open   31.0           140             0.221429\n",
       "17  2022    Model Closed Code Open   22.0           121             0.181818\n",
       "18  2023    Model Closed Code Open   11.0           195             0.056410\n",
       "19  2024    Model Closed Code Open    2.0            98             0.020408\n",
       "20  2015      Model Open Code Open    3.0            11             0.272727\n",
       "21  2016      Model Open Code Open    2.0            26             0.076923\n",
       "22  2017      Model Open Code Open    2.0            36             0.055556\n",
       "23  2018      Model Open Code Open   19.0            65             0.292308\n",
       "24  2019      Model Open Code Open   37.0           139             0.266187\n",
       "25  2020      Model Open Code Open   22.0            91             0.241758\n",
       "26  2021      Model Open Code Open   46.0           140             0.328571\n",
       "27  2022      Model Open Code Open   39.0           121             0.322314\n",
       "28  2023      Model Open Code Open   65.0           195             0.333333\n",
       "29  2024      Model Open Code Open   17.0            98             0.173469\n",
       "30  2015    Model Open Code Closed    0.0            11             0.000000\n",
       "31  2016    Model Open Code Closed    1.0            26             0.038462\n",
       "32  2017    Model Open Code Closed    0.0            36             0.000000\n",
       "33  2018    Model Open Code Closed    3.0            65             0.046154\n",
       "34  2019    Model Open Code Closed    9.0           139             0.064748\n",
       "35  2020    Model Open Code Closed   14.0            91             0.153846\n",
       "36  2021    Model Open Code Closed   13.0           140             0.092857\n",
       "37  2022    Model Open Code Closed   28.0           121             0.231405\n",
       "38  2023    Model Open Code Closed   68.0           195             0.348718\n",
       "39  2024    Model Open Code Closed   40.0            98             0.408163"
      ]
     },
     "execution_count": 47,
     "metadata": {},
     "output_type": "execute_result"
    }
   ],
   "source": [
    "yearly_with_totals = pd.merge(open_counts_filled, total_counts, on=\"Year\")\n",
    "yearly_with_totals[\"Proportion for year\"] = yearly_with_totals[\"Count\"] / yearly_with_totals[\"Yearly Total\"]\n",
    "yearly_with_totals = yearly_with_totals.drop(labels=[\"Cumulative Total\"],axis=1)\n",
    "yearly_with_totals"
   ]
  },
  {
   "cell_type": "code",
   "execution_count": 48,
   "metadata": {},
   "outputs": [
    {
     "data": {
      "text/html": [
       "<div>\n",
       "<style scoped>\n",
       "    .dataframe tbody tr th:only-of-type {\n",
       "        vertical-align: middle;\n",
       "    }\n",
       "\n",
       "    .dataframe tbody tr th {\n",
       "        vertical-align: top;\n",
       "    }\n",
       "\n",
       "    .dataframe thead th {\n",
       "        text-align: right;\n",
       "    }\n",
       "</style>\n",
       "<table border=\"1\" class=\"dataframe\">\n",
       "  <thead>\n",
       "    <tr style=\"text-align: right;\">\n",
       "      <th>Category</th>\n",
       "      <th>Model Closed Code Closed</th>\n",
       "      <th>Model Closed Code Open</th>\n",
       "      <th>Model Open Code Closed</th>\n",
       "      <th>Model Open Code Open</th>\n",
       "    </tr>\n",
       "    <tr>\n",
       "      <th>Year</th>\n",
       "      <th></th>\n",
       "      <th></th>\n",
       "      <th></th>\n",
       "      <th></th>\n",
       "    </tr>\n",
       "  </thead>\n",
       "  <tbody>\n",
       "    <tr>\n",
       "      <th>2018</th>\n",
       "      <td>0.492308</td>\n",
       "      <td>0.169231</td>\n",
       "      <td>0.046154</td>\n",
       "      <td>0.292308</td>\n",
       "    </tr>\n",
       "    <tr>\n",
       "      <th>2019</th>\n",
       "      <td>0.417266</td>\n",
       "      <td>0.251799</td>\n",
       "      <td>0.064748</td>\n",
       "      <td>0.266187</td>\n",
       "    </tr>\n",
       "    <tr>\n",
       "      <th>2020</th>\n",
       "      <td>0.450549</td>\n",
       "      <td>0.153846</td>\n",
       "      <td>0.153846</td>\n",
       "      <td>0.241758</td>\n",
       "    </tr>\n",
       "    <tr>\n",
       "      <th>2021</th>\n",
       "      <td>0.357143</td>\n",
       "      <td>0.221429</td>\n",
       "      <td>0.092857</td>\n",
       "      <td>0.328571</td>\n",
       "    </tr>\n",
       "    <tr>\n",
       "      <th>2022</th>\n",
       "      <td>0.264463</td>\n",
       "      <td>0.181818</td>\n",
       "      <td>0.231405</td>\n",
       "      <td>0.322314</td>\n",
       "    </tr>\n",
       "    <tr>\n",
       "      <th>2023</th>\n",
       "      <td>0.261538</td>\n",
       "      <td>0.056410</td>\n",
       "      <td>0.348718</td>\n",
       "      <td>0.333333</td>\n",
       "    </tr>\n",
       "    <tr>\n",
       "      <th>2024</th>\n",
       "      <td>0.397959</td>\n",
       "      <td>0.020408</td>\n",
       "      <td>0.408163</td>\n",
       "      <td>0.173469</td>\n",
       "    </tr>\n",
       "  </tbody>\n",
       "</table>\n",
       "</div>"
      ],
      "text/plain": [
       "Category  Model Closed Code Closed  Model Closed Code Open  \\\n",
       "Year                                                         \n",
       "2018                      0.492308                0.169231   \n",
       "2019                      0.417266                0.251799   \n",
       "2020                      0.450549                0.153846   \n",
       "2021                      0.357143                0.221429   \n",
       "2022                      0.264463                0.181818   \n",
       "2023                      0.261538                0.056410   \n",
       "2024                      0.397959                0.020408   \n",
       "\n",
       "Category  Model Open Code Closed  Model Open Code Open  \n",
       "Year                                                    \n",
       "2018                    0.046154              0.292308  \n",
       "2019                    0.064748              0.266187  \n",
       "2020                    0.153846              0.241758  \n",
       "2021                    0.092857              0.328571  \n",
       "2022                    0.231405              0.322314  \n",
       "2023                    0.348718              0.333333  \n",
       "2024                    0.408163              0.173469  "
      ]
     },
     "execution_count": 48,
     "metadata": {},
     "output_type": "execute_result"
    }
   ],
   "source": [
    "yearly_with_totals_pivot = yearly_with_totals.pivot(index=\"Year\", columns=\"Category\", values=\"Proportion for year\").fillna(0)\n",
    "yearly_with_totals_pivot = yearly_with_totals_pivot[yearly_with_totals_pivot.index >= 2018]\n",
    "yearly_with_totals_pivot"
   ]
  },
  {
   "cell_type": "code",
   "execution_count": 49,
   "metadata": {},
   "outputs": [
    {
     "data": {
      "application/vnd.plotly.v1+json": {
       "config": {
        "plotlyServerURL": "https://plot.ly"
       },
       "data": [
        {
         "marker": {
          "color": "crimson"
         },
         "name": "Model Closed Code Closed",
         "type": "bar",
         "x": [
          2018,
          2019,
          2020,
          2021,
          2022,
          2023,
          2024
         ],
         "y": [
          0.49230769230769234,
          0.4172661870503597,
          0.45054945054945056,
          0.35714285714285715,
          0.2644628099173554,
          0.26153846153846155,
          0.3979591836734694
         ]
        },
        {
         "marker": {
          "color": "tomato"
         },
         "name": "Model Closed Code Open",
         "type": "bar",
         "x": [
          2018,
          2019,
          2020,
          2021,
          2022,
          2023,
          2024
         ],
         "y": [
          0.16923076923076924,
          0.2517985611510791,
          0.15384615384615385,
          0.22142857142857142,
          0.18181818181818182,
          0.05641025641025641,
          0.02040816326530612
         ]
        },
        {
         "marker": {
          "color": "blue"
         },
         "name": "Model Open Code Closed",
         "type": "bar",
         "x": [
          2018,
          2019,
          2020,
          2021,
          2022,
          2023,
          2024
         ],
         "y": [
          0.046153846153846156,
          0.06474820143884892,
          0.15384615384615385,
          0.09285714285714286,
          0.23140495867768596,
          0.3487179487179487,
          0.40816326530612246
         ]
        },
        {
         "marker": {
          "color": "dodgerblue"
         },
         "name": "Model Open Code Open",
         "type": "bar",
         "x": [
          2018,
          2019,
          2020,
          2021,
          2022,
          2023,
          2024
         ],
         "y": [
          0.2923076923076923,
          0.26618705035971224,
          0.24175824175824176,
          0.32857142857142857,
          0.32231404958677684,
          0.3333333333333333,
          0.17346938775510204
         ]
        }
       ],
       "layout": {
        "barmode": "stack",
        "height": 600,
        "legend": {
         "orientation": "v",
         "traceorder": "normal",
         "x": 1.05,
         "y": 1
        },
        "template": {
         "data": {
          "bar": [
           {
            "error_x": {
             "color": "#2a3f5f"
            },
            "error_y": {
             "color": "#2a3f5f"
            },
            "marker": {
             "line": {
              "color": "white",
              "width": 0.5
             },
             "pattern": {
              "fillmode": "overlay",
              "size": 10,
              "solidity": 0.2
             }
            },
            "type": "bar"
           }
          ],
          "barpolar": [
           {
            "marker": {
             "line": {
              "color": "white",
              "width": 0.5
             },
             "pattern": {
              "fillmode": "overlay",
              "size": 10,
              "solidity": 0.2
             }
            },
            "type": "barpolar"
           }
          ],
          "carpet": [
           {
            "aaxis": {
             "endlinecolor": "#2a3f5f",
             "gridcolor": "#C8D4E3",
             "linecolor": "#C8D4E3",
             "minorgridcolor": "#C8D4E3",
             "startlinecolor": "#2a3f5f"
            },
            "baxis": {
             "endlinecolor": "#2a3f5f",
             "gridcolor": "#C8D4E3",
             "linecolor": "#C8D4E3",
             "minorgridcolor": "#C8D4E3",
             "startlinecolor": "#2a3f5f"
            },
            "type": "carpet"
           }
          ],
          "choropleth": [
           {
            "colorbar": {
             "outlinewidth": 0,
             "ticks": ""
            },
            "type": "choropleth"
           }
          ],
          "contour": [
           {
            "colorbar": {
             "outlinewidth": 0,
             "ticks": ""
            },
            "colorscale": [
             [
              0,
              "#0d0887"
             ],
             [
              0.1111111111111111,
              "#46039f"
             ],
             [
              0.2222222222222222,
              "#7201a8"
             ],
             [
              0.3333333333333333,
              "#9c179e"
             ],
             [
              0.4444444444444444,
              "#bd3786"
             ],
             [
              0.5555555555555556,
              "#d8576b"
             ],
             [
              0.6666666666666666,
              "#ed7953"
             ],
             [
              0.7777777777777778,
              "#fb9f3a"
             ],
             [
              0.8888888888888888,
              "#fdca26"
             ],
             [
              1,
              "#f0f921"
             ]
            ],
            "type": "contour"
           }
          ],
          "contourcarpet": [
           {
            "colorbar": {
             "outlinewidth": 0,
             "ticks": ""
            },
            "type": "contourcarpet"
           }
          ],
          "heatmap": [
           {
            "colorbar": {
             "outlinewidth": 0,
             "ticks": ""
            },
            "colorscale": [
             [
              0,
              "#0d0887"
             ],
             [
              0.1111111111111111,
              "#46039f"
             ],
             [
              0.2222222222222222,
              "#7201a8"
             ],
             [
              0.3333333333333333,
              "#9c179e"
             ],
             [
              0.4444444444444444,
              "#bd3786"
             ],
             [
              0.5555555555555556,
              "#d8576b"
             ],
             [
              0.6666666666666666,
              "#ed7953"
             ],
             [
              0.7777777777777778,
              "#fb9f3a"
             ],
             [
              0.8888888888888888,
              "#fdca26"
             ],
             [
              1,
              "#f0f921"
             ]
            ],
            "type": "heatmap"
           }
          ],
          "heatmapgl": [
           {
            "colorbar": {
             "outlinewidth": 0,
             "ticks": ""
            },
            "colorscale": [
             [
              0,
              "#0d0887"
             ],
             [
              0.1111111111111111,
              "#46039f"
             ],
             [
              0.2222222222222222,
              "#7201a8"
             ],
             [
              0.3333333333333333,
              "#9c179e"
             ],
             [
              0.4444444444444444,
              "#bd3786"
             ],
             [
              0.5555555555555556,
              "#d8576b"
             ],
             [
              0.6666666666666666,
              "#ed7953"
             ],
             [
              0.7777777777777778,
              "#fb9f3a"
             ],
             [
              0.8888888888888888,
              "#fdca26"
             ],
             [
              1,
              "#f0f921"
             ]
            ],
            "type": "heatmapgl"
           }
          ],
          "histogram": [
           {
            "marker": {
             "pattern": {
              "fillmode": "overlay",
              "size": 10,
              "solidity": 0.2
             }
            },
            "type": "histogram"
           }
          ],
          "histogram2d": [
           {
            "colorbar": {
             "outlinewidth": 0,
             "ticks": ""
            },
            "colorscale": [
             [
              0,
              "#0d0887"
             ],
             [
              0.1111111111111111,
              "#46039f"
             ],
             [
              0.2222222222222222,
              "#7201a8"
             ],
             [
              0.3333333333333333,
              "#9c179e"
             ],
             [
              0.4444444444444444,
              "#bd3786"
             ],
             [
              0.5555555555555556,
              "#d8576b"
             ],
             [
              0.6666666666666666,
              "#ed7953"
             ],
             [
              0.7777777777777778,
              "#fb9f3a"
             ],
             [
              0.8888888888888888,
              "#fdca26"
             ],
             [
              1,
              "#f0f921"
             ]
            ],
            "type": "histogram2d"
           }
          ],
          "histogram2dcontour": [
           {
            "colorbar": {
             "outlinewidth": 0,
             "ticks": ""
            },
            "colorscale": [
             [
              0,
              "#0d0887"
             ],
             [
              0.1111111111111111,
              "#46039f"
             ],
             [
              0.2222222222222222,
              "#7201a8"
             ],
             [
              0.3333333333333333,
              "#9c179e"
             ],
             [
              0.4444444444444444,
              "#bd3786"
             ],
             [
              0.5555555555555556,
              "#d8576b"
             ],
             [
              0.6666666666666666,
              "#ed7953"
             ],
             [
              0.7777777777777778,
              "#fb9f3a"
             ],
             [
              0.8888888888888888,
              "#fdca26"
             ],
             [
              1,
              "#f0f921"
             ]
            ],
            "type": "histogram2dcontour"
           }
          ],
          "mesh3d": [
           {
            "colorbar": {
             "outlinewidth": 0,
             "ticks": ""
            },
            "type": "mesh3d"
           }
          ],
          "parcoords": [
           {
            "line": {
             "colorbar": {
              "outlinewidth": 0,
              "ticks": ""
             }
            },
            "type": "parcoords"
           }
          ],
          "pie": [
           {
            "automargin": true,
            "type": "pie"
           }
          ],
          "scatter": [
           {
            "fillpattern": {
             "fillmode": "overlay",
             "size": 10,
             "solidity": 0.2
            },
            "type": "scatter"
           }
          ],
          "scatter3d": [
           {
            "line": {
             "colorbar": {
              "outlinewidth": 0,
              "ticks": ""
             }
            },
            "marker": {
             "colorbar": {
              "outlinewidth": 0,
              "ticks": ""
             }
            },
            "type": "scatter3d"
           }
          ],
          "scattercarpet": [
           {
            "marker": {
             "colorbar": {
              "outlinewidth": 0,
              "ticks": ""
             }
            },
            "type": "scattercarpet"
           }
          ],
          "scattergeo": [
           {
            "marker": {
             "colorbar": {
              "outlinewidth": 0,
              "ticks": ""
             }
            },
            "type": "scattergeo"
           }
          ],
          "scattergl": [
           {
            "marker": {
             "colorbar": {
              "outlinewidth": 0,
              "ticks": ""
             }
            },
            "type": "scattergl"
           }
          ],
          "scattermapbox": [
           {
            "marker": {
             "colorbar": {
              "outlinewidth": 0,
              "ticks": ""
             }
            },
            "type": "scattermapbox"
           }
          ],
          "scatterpolar": [
           {
            "marker": {
             "colorbar": {
              "outlinewidth": 0,
              "ticks": ""
             }
            },
            "type": "scatterpolar"
           }
          ],
          "scatterpolargl": [
           {
            "marker": {
             "colorbar": {
              "outlinewidth": 0,
              "ticks": ""
             }
            },
            "type": "scatterpolargl"
           }
          ],
          "scatterternary": [
           {
            "marker": {
             "colorbar": {
              "outlinewidth": 0,
              "ticks": ""
             }
            },
            "type": "scatterternary"
           }
          ],
          "surface": [
           {
            "colorbar": {
             "outlinewidth": 0,
             "ticks": ""
            },
            "colorscale": [
             [
              0,
              "#0d0887"
             ],
             [
              0.1111111111111111,
              "#46039f"
             ],
             [
              0.2222222222222222,
              "#7201a8"
             ],
             [
              0.3333333333333333,
              "#9c179e"
             ],
             [
              0.4444444444444444,
              "#bd3786"
             ],
             [
              0.5555555555555556,
              "#d8576b"
             ],
             [
              0.6666666666666666,
              "#ed7953"
             ],
             [
              0.7777777777777778,
              "#fb9f3a"
             ],
             [
              0.8888888888888888,
              "#fdca26"
             ],
             [
              1,
              "#f0f921"
             ]
            ],
            "type": "surface"
           }
          ],
          "table": [
           {
            "cells": {
             "fill": {
              "color": "#EBF0F8"
             },
             "line": {
              "color": "white"
             }
            },
            "header": {
             "fill": {
              "color": "#C8D4E3"
             },
             "line": {
              "color": "white"
             }
            },
            "type": "table"
           }
          ]
         },
         "layout": {
          "annotationdefaults": {
           "arrowcolor": "#2a3f5f",
           "arrowhead": 0,
           "arrowwidth": 1
          },
          "autotypenumbers": "strict",
          "coloraxis": {
           "colorbar": {
            "outlinewidth": 0,
            "ticks": ""
           }
          },
          "colorscale": {
           "diverging": [
            [
             0,
             "#8e0152"
            ],
            [
             0.1,
             "#c51b7d"
            ],
            [
             0.2,
             "#de77ae"
            ],
            [
             0.3,
             "#f1b6da"
            ],
            [
             0.4,
             "#fde0ef"
            ],
            [
             0.5,
             "#f7f7f7"
            ],
            [
             0.6,
             "#e6f5d0"
            ],
            [
             0.7,
             "#b8e186"
            ],
            [
             0.8,
             "#7fbc41"
            ],
            [
             0.9,
             "#4d9221"
            ],
            [
             1,
             "#276419"
            ]
           ],
           "sequential": [
            [
             0,
             "#0d0887"
            ],
            [
             0.1111111111111111,
             "#46039f"
            ],
            [
             0.2222222222222222,
             "#7201a8"
            ],
            [
             0.3333333333333333,
             "#9c179e"
            ],
            [
             0.4444444444444444,
             "#bd3786"
            ],
            [
             0.5555555555555556,
             "#d8576b"
            ],
            [
             0.6666666666666666,
             "#ed7953"
            ],
            [
             0.7777777777777778,
             "#fb9f3a"
            ],
            [
             0.8888888888888888,
             "#fdca26"
            ],
            [
             1,
             "#f0f921"
            ]
           ],
           "sequentialminus": [
            [
             0,
             "#0d0887"
            ],
            [
             0.1111111111111111,
             "#46039f"
            ],
            [
             0.2222222222222222,
             "#7201a8"
            ],
            [
             0.3333333333333333,
             "#9c179e"
            ],
            [
             0.4444444444444444,
             "#bd3786"
            ],
            [
             0.5555555555555556,
             "#d8576b"
            ],
            [
             0.6666666666666666,
             "#ed7953"
            ],
            [
             0.7777777777777778,
             "#fb9f3a"
            ],
            [
             0.8888888888888888,
             "#fdca26"
            ],
            [
             1,
             "#f0f921"
            ]
           ]
          },
          "colorway": [
           "#636efa",
           "#EF553B",
           "#00cc96",
           "#ab63fa",
           "#FFA15A",
           "#19d3f3",
           "#FF6692",
           "#B6E880",
           "#FF97FF",
           "#FECB52"
          ],
          "font": {
           "color": "#2a3f5f"
          },
          "geo": {
           "bgcolor": "white",
           "lakecolor": "white",
           "landcolor": "white",
           "showlakes": true,
           "showland": true,
           "subunitcolor": "#C8D4E3"
          },
          "hoverlabel": {
           "align": "left"
          },
          "hovermode": "closest",
          "mapbox": {
           "style": "light"
          },
          "paper_bgcolor": "white",
          "plot_bgcolor": "white",
          "polar": {
           "angularaxis": {
            "gridcolor": "#EBF0F8",
            "linecolor": "#EBF0F8",
            "ticks": ""
           },
           "bgcolor": "white",
           "radialaxis": {
            "gridcolor": "#EBF0F8",
            "linecolor": "#EBF0F8",
            "ticks": ""
           }
          },
          "scene": {
           "xaxis": {
            "backgroundcolor": "white",
            "gridcolor": "#DFE8F3",
            "gridwidth": 2,
            "linecolor": "#EBF0F8",
            "showbackground": true,
            "ticks": "",
            "zerolinecolor": "#EBF0F8"
           },
           "yaxis": {
            "backgroundcolor": "white",
            "gridcolor": "#DFE8F3",
            "gridwidth": 2,
            "linecolor": "#EBF0F8",
            "showbackground": true,
            "ticks": "",
            "zerolinecolor": "#EBF0F8"
           },
           "zaxis": {
            "backgroundcolor": "white",
            "gridcolor": "#DFE8F3",
            "gridwidth": 2,
            "linecolor": "#EBF0F8",
            "showbackground": true,
            "ticks": "",
            "zerolinecolor": "#EBF0F8"
           }
          },
          "shapedefaults": {
           "line": {
            "color": "#2a3f5f"
           }
          },
          "ternary": {
           "aaxis": {
            "gridcolor": "#DFE8F3",
            "linecolor": "#A2B1C6",
            "ticks": ""
           },
           "baxis": {
            "gridcolor": "#DFE8F3",
            "linecolor": "#A2B1C6",
            "ticks": ""
           },
           "bgcolor": "white",
           "caxis": {
            "gridcolor": "#DFE8F3",
            "linecolor": "#A2B1C6",
            "ticks": ""
           }
          },
          "title": {
           "x": 0.05
          },
          "xaxis": {
           "automargin": true,
           "gridcolor": "#EBF0F8",
           "linecolor": "#EBF0F8",
           "ticks": "",
           "title": {
            "standoff": 15
           },
           "zerolinecolor": "#EBF0F8",
           "zerolinewidth": 2
          },
          "yaxis": {
           "automargin": true,
           "gridcolor": "#EBF0F8",
           "linecolor": "#EBF0F8",
           "ticks": "",
           "title": {
            "standoff": 15
           },
           "zerolinecolor": "#EBF0F8",
           "zerolinewidth": 2
          }
         }
        },
        "title": {
         "text": "Proportion of notable models with open or closed weights or code"
        },
        "width": 1000,
        "xaxis": {
         "title": {
          "text": "Year"
         }
        },
        "yaxis": {
         "title": {
          "text": "Proportion"
         }
        }
       }
      }
     },
     "metadata": {},
     "output_type": "display_data"
    }
   ],
   "source": [
    "import plotly.graph_objects as go\n",
    "\n",
    "fig = go.Figure()\n",
    "\n",
    "colors = ['crimson', 'tomato', 'blue', 'dodgerblue']\n",
    "\n",
    "for i, category in enumerate(yearly_with_totals_pivot.columns):\n",
    "    fig.add_trace(go.Bar(\n",
    "        x=yearly_with_totals_pivot.index,\n",
    "        y=yearly_with_totals_pivot[category],\n",
    "        name=category,\n",
    "        marker_color=colors[i]\n",
    "    ))\n",
    "\n",
    "fig.update_layout(\n",
    "    title='Proportion of notable models with open or closed weights or code',\n",
    "    xaxis_title='Year',\n",
    "    yaxis_title='Proportion',\n",
    "    barmode='stack',\n",
    "    legend=dict(x=1.05, y=1, traceorder='normal', orientation='v'),\n",
    "    width=1000,\n",
    "    height=600,\n",
    "    template='plotly_white',\n",
    ")\n",
    "\n",
    "save_plot(fig, results_dir, f'notable_model_code_accessibility_over_time')\n",
    "yearly_with_totals_pivot.to_csv(results_dir + 'plot_data/notable_model_code_accessibility_over_time.csv')\n",
    "\n",
    "fig.show()"
   ]
  },
  {
   "cell_type": "code",
   "execution_count": 50,
   "metadata": {},
   "outputs": [
    {
     "data": {
      "text/html": [
       "<div>\n",
       "<style scoped>\n",
       "    .dataframe tbody tr th:only-of-type {\n",
       "        vertical-align: middle;\n",
       "    }\n",
       "\n",
       "    .dataframe tbody tr th {\n",
       "        vertical-align: top;\n",
       "    }\n",
       "\n",
       "    .dataframe thead th {\n",
       "        text-align: right;\n",
       "    }\n",
       "</style>\n",
       "<table border=\"1\" class=\"dataframe\">\n",
       "  <thead>\n",
       "    <tr style=\"text-align: right;\">\n",
       "      <th></th>\n",
       "      <th>Year</th>\n",
       "      <th>Category</th>\n",
       "      <th>Count</th>\n",
       "      <th>Cumulative for Category</th>\n",
       "      <th>Yearly Total</th>\n",
       "      <th>Cumulative Total</th>\n",
       "      <th>proportion</th>\n",
       "    </tr>\n",
       "  </thead>\n",
       "  <tbody>\n",
       "    <tr>\n",
       "      <th>0</th>\n",
       "      <td>2015</td>\n",
       "      <td>Model Closed Code Closed</td>\n",
       "      <td>7.0</td>\n",
       "      <td>7.0</td>\n",
       "      <td>11</td>\n",
       "      <td>11</td>\n",
       "      <td>0.636364</td>\n",
       "    </tr>\n",
       "    <tr>\n",
       "      <th>1</th>\n",
       "      <td>2016</td>\n",
       "      <td>Model Closed Code Closed</td>\n",
       "      <td>19.0</td>\n",
       "      <td>26.0</td>\n",
       "      <td>26</td>\n",
       "      <td>37</td>\n",
       "      <td>0.702703</td>\n",
       "    </tr>\n",
       "    <tr>\n",
       "      <th>2</th>\n",
       "      <td>2017</td>\n",
       "      <td>Model Closed Code Closed</td>\n",
       "      <td>21.0</td>\n",
       "      <td>47.0</td>\n",
       "      <td>36</td>\n",
       "      <td>73</td>\n",
       "      <td>0.643836</td>\n",
       "    </tr>\n",
       "    <tr>\n",
       "      <th>3</th>\n",
       "      <td>2018</td>\n",
       "      <td>Model Closed Code Closed</td>\n",
       "      <td>32.0</td>\n",
       "      <td>79.0</td>\n",
       "      <td>65</td>\n",
       "      <td>138</td>\n",
       "      <td>0.572464</td>\n",
       "    </tr>\n",
       "    <tr>\n",
       "      <th>4</th>\n",
       "      <td>2019</td>\n",
       "      <td>Model Closed Code Closed</td>\n",
       "      <td>58.0</td>\n",
       "      <td>137.0</td>\n",
       "      <td>139</td>\n",
       "      <td>277</td>\n",
       "      <td>0.494585</td>\n",
       "    </tr>\n",
       "    <tr>\n",
       "      <th>5</th>\n",
       "      <td>2020</td>\n",
       "      <td>Model Closed Code Closed</td>\n",
       "      <td>41.0</td>\n",
       "      <td>178.0</td>\n",
       "      <td>91</td>\n",
       "      <td>368</td>\n",
       "      <td>0.483696</td>\n",
       "    </tr>\n",
       "    <tr>\n",
       "      <th>6</th>\n",
       "      <td>2021</td>\n",
       "      <td>Model Closed Code Closed</td>\n",
       "      <td>50.0</td>\n",
       "      <td>228.0</td>\n",
       "      <td>140</td>\n",
       "      <td>508</td>\n",
       "      <td>0.448819</td>\n",
       "    </tr>\n",
       "    <tr>\n",
       "      <th>7</th>\n",
       "      <td>2022</td>\n",
       "      <td>Model Closed Code Closed</td>\n",
       "      <td>32.0</td>\n",
       "      <td>260.0</td>\n",
       "      <td>121</td>\n",
       "      <td>629</td>\n",
       "      <td>0.413355</td>\n",
       "    </tr>\n",
       "    <tr>\n",
       "      <th>8</th>\n",
       "      <td>2023</td>\n",
       "      <td>Model Closed Code Closed</td>\n",
       "      <td>51.0</td>\n",
       "      <td>311.0</td>\n",
       "      <td>195</td>\n",
       "      <td>824</td>\n",
       "      <td>0.377427</td>\n",
       "    </tr>\n",
       "    <tr>\n",
       "      <th>9</th>\n",
       "      <td>2024</td>\n",
       "      <td>Model Closed Code Closed</td>\n",
       "      <td>39.0</td>\n",
       "      <td>350.0</td>\n",
       "      <td>98</td>\n",
       "      <td>922</td>\n",
       "      <td>0.379610</td>\n",
       "    </tr>\n",
       "    <tr>\n",
       "      <th>10</th>\n",
       "      <td>2015</td>\n",
       "      <td>Model Closed Code Open</td>\n",
       "      <td>1.0</td>\n",
       "      <td>1.0</td>\n",
       "      <td>11</td>\n",
       "      <td>11</td>\n",
       "      <td>0.090909</td>\n",
       "    </tr>\n",
       "    <tr>\n",
       "      <th>11</th>\n",
       "      <td>2016</td>\n",
       "      <td>Model Closed Code Open</td>\n",
       "      <td>4.0</td>\n",
       "      <td>5.0</td>\n",
       "      <td>26</td>\n",
       "      <td>37</td>\n",
       "      <td>0.135135</td>\n",
       "    </tr>\n",
       "    <tr>\n",
       "      <th>12</th>\n",
       "      <td>2017</td>\n",
       "      <td>Model Closed Code Open</td>\n",
       "      <td>13.0</td>\n",
       "      <td>18.0</td>\n",
       "      <td>36</td>\n",
       "      <td>73</td>\n",
       "      <td>0.246575</td>\n",
       "    </tr>\n",
       "    <tr>\n",
       "      <th>13</th>\n",
       "      <td>2018</td>\n",
       "      <td>Model Closed Code Open</td>\n",
       "      <td>11.0</td>\n",
       "      <td>29.0</td>\n",
       "      <td>65</td>\n",
       "      <td>138</td>\n",
       "      <td>0.210145</td>\n",
       "    </tr>\n",
       "    <tr>\n",
       "      <th>14</th>\n",
       "      <td>2019</td>\n",
       "      <td>Model Closed Code Open</td>\n",
       "      <td>35.0</td>\n",
       "      <td>64.0</td>\n",
       "      <td>139</td>\n",
       "      <td>277</td>\n",
       "      <td>0.231047</td>\n",
       "    </tr>\n",
       "    <tr>\n",
       "      <th>15</th>\n",
       "      <td>2020</td>\n",
       "      <td>Model Closed Code Open</td>\n",
       "      <td>14.0</td>\n",
       "      <td>78.0</td>\n",
       "      <td>91</td>\n",
       "      <td>368</td>\n",
       "      <td>0.211957</td>\n",
       "    </tr>\n",
       "    <tr>\n",
       "      <th>16</th>\n",
       "      <td>2021</td>\n",
       "      <td>Model Closed Code Open</td>\n",
       "      <td>31.0</td>\n",
       "      <td>109.0</td>\n",
       "      <td>140</td>\n",
       "      <td>508</td>\n",
       "      <td>0.214567</td>\n",
       "    </tr>\n",
       "    <tr>\n",
       "      <th>17</th>\n",
       "      <td>2022</td>\n",
       "      <td>Model Closed Code Open</td>\n",
       "      <td>22.0</td>\n",
       "      <td>131.0</td>\n",
       "      <td>121</td>\n",
       "      <td>629</td>\n",
       "      <td>0.208267</td>\n",
       "    </tr>\n",
       "    <tr>\n",
       "      <th>18</th>\n",
       "      <td>2023</td>\n",
       "      <td>Model Closed Code Open</td>\n",
       "      <td>11.0</td>\n",
       "      <td>142.0</td>\n",
       "      <td>195</td>\n",
       "      <td>824</td>\n",
       "      <td>0.172330</td>\n",
       "    </tr>\n",
       "    <tr>\n",
       "      <th>19</th>\n",
       "      <td>2024</td>\n",
       "      <td>Model Closed Code Open</td>\n",
       "      <td>2.0</td>\n",
       "      <td>144.0</td>\n",
       "      <td>98</td>\n",
       "      <td>922</td>\n",
       "      <td>0.156182</td>\n",
       "    </tr>\n",
       "  </tbody>\n",
       "</table>\n",
       "</div>"
      ],
      "text/plain": [
       "    Year                  Category  Count  Cumulative for Category  \\\n",
       "0   2015  Model Closed Code Closed    7.0                      7.0   \n",
       "1   2016  Model Closed Code Closed   19.0                     26.0   \n",
       "2   2017  Model Closed Code Closed   21.0                     47.0   \n",
       "3   2018  Model Closed Code Closed   32.0                     79.0   \n",
       "4   2019  Model Closed Code Closed   58.0                    137.0   \n",
       "5   2020  Model Closed Code Closed   41.0                    178.0   \n",
       "6   2021  Model Closed Code Closed   50.0                    228.0   \n",
       "7   2022  Model Closed Code Closed   32.0                    260.0   \n",
       "8   2023  Model Closed Code Closed   51.0                    311.0   \n",
       "9   2024  Model Closed Code Closed   39.0                    350.0   \n",
       "10  2015    Model Closed Code Open    1.0                      1.0   \n",
       "11  2016    Model Closed Code Open    4.0                      5.0   \n",
       "12  2017    Model Closed Code Open   13.0                     18.0   \n",
       "13  2018    Model Closed Code Open   11.0                     29.0   \n",
       "14  2019    Model Closed Code Open   35.0                     64.0   \n",
       "15  2020    Model Closed Code Open   14.0                     78.0   \n",
       "16  2021    Model Closed Code Open   31.0                    109.0   \n",
       "17  2022    Model Closed Code Open   22.0                    131.0   \n",
       "18  2023    Model Closed Code Open   11.0                    142.0   \n",
       "19  2024    Model Closed Code Open    2.0                    144.0   \n",
       "\n",
       "    Yearly Total  Cumulative Total  proportion  \n",
       "0             11                11    0.636364  \n",
       "1             26                37    0.702703  \n",
       "2             36                73    0.643836  \n",
       "3             65               138    0.572464  \n",
       "4            139               277    0.494585  \n",
       "5             91               368    0.483696  \n",
       "6            140               508    0.448819  \n",
       "7            121               629    0.413355  \n",
       "8            195               824    0.377427  \n",
       "9             98               922    0.379610  \n",
       "10            11                11    0.090909  \n",
       "11            26                37    0.135135  \n",
       "12            36                73    0.246575  \n",
       "13            65               138    0.210145  \n",
       "14           139               277    0.231047  \n",
       "15            91               368    0.211957  \n",
       "16           140               508    0.214567  \n",
       "17           121               629    0.208267  \n",
       "18           195               824    0.172330  \n",
       "19            98               922    0.156182  "
      ]
     },
     "execution_count": 50,
     "metadata": {},
     "output_type": "execute_result"
    }
   ],
   "source": [
    "open_counts_filled['Cumulative for Category'] = open_counts_filled.groupby('Category')['Count'].cumsum()\n",
    "\n",
    "with_totals = pd.merge(open_counts_filled, total_counts, on=\"Year\")\n",
    "with_totals['proportion'] = with_totals['Cumulative for Category'] / with_totals['Cumulative Total']\n",
    "with_totals.head(20)"
   ]
  },
  {
   "cell_type": "code",
   "execution_count": 51,
   "metadata": {},
   "outputs": [
    {
     "data": {
      "application/vnd.plotly.v1+json": {
       "config": {
        "plotlyServerURL": "https://plot.ly"
       },
       "data": [
        {
         "fillpattern": {
          "shape": ""
         },
         "hovertemplate": "Accessibility=Model Closed Code Closed<br>Year=%{x}<br>Proportion=%{y}<extra></extra>",
         "legendgroup": "Model Closed Code Closed",
         "line": {
          "color": "crimson"
         },
         "marker": {
          "symbol": "circle"
         },
         "mode": "lines",
         "name": "Model Closed Code Closed",
         "orientation": "v",
         "showlegend": true,
         "stackgroup": "1",
         "type": "scatter",
         "x": [
          2015,
          2016,
          2017,
          2018,
          2019,
          2020,
          2021,
          2022,
          2023,
          2024
         ],
         "xaxis": "x",
         "y": [
          0.6363636363636364,
          0.7027027027027027,
          0.6438356164383562,
          0.572463768115942,
          0.49458483754512633,
          0.483695652173913,
          0.44881889763779526,
          0.4133545310015898,
          0.3774271844660194,
          0.3796095444685466
         ],
         "yaxis": "y"
        },
        {
         "fillpattern": {
          "shape": ""
         },
         "hovertemplate": "Accessibility=Model Closed Code Open<br>Year=%{x}<br>Proportion=%{y}<extra></extra>",
         "legendgroup": "Model Closed Code Open",
         "line": {
          "color": "tomato"
         },
         "marker": {
          "symbol": "circle"
         },
         "mode": "lines",
         "name": "Model Closed Code Open",
         "orientation": "v",
         "showlegend": true,
         "stackgroup": "1",
         "type": "scatter",
         "x": [
          2023,
          2022,
          2021,
          2020,
          2024,
          2018,
          2017,
          2016,
          2015,
          2019
         ],
         "xaxis": "x",
         "y": [
          0.17233009708737865,
          0.2082670906200318,
          0.21456692913385828,
          0.21195652173913043,
          0.1561822125813449,
          0.21014492753623187,
          0.2465753424657534,
          0.13513513513513514,
          0.09090909090909091,
          0.23104693140794225
         ],
         "yaxis": "y"
        },
        {
         "fillpattern": {
          "shape": ""
         },
         "hovertemplate": "Accessibility=Model Open Code Closed<br>Year=%{x}<br>Proportion=%{y}<extra></extra>",
         "legendgroup": "Model Open Code Closed",
         "line": {
          "color": "blue"
         },
         "marker": {
          "symbol": "circle"
         },
         "mode": "lines",
         "name": "Model Open Code Closed",
         "orientation": "v",
         "showlegend": true,
         "stackgroup": "1",
         "type": "scatter",
         "x": [
          2022,
          2021,
          2020,
          2019,
          2018,
          2017,
          2016,
          2015,
          2024,
          2023
         ],
         "xaxis": "x",
         "y": [
          0.10810810810810811,
          0.07874015748031496,
          0.07336956521739131,
          0.04693140794223827,
          0.028985507246376812,
          0.0136986301369863,
          0.02702702702702703,
          0,
          0.19088937093275488,
          0.1650485436893204
         ],
         "yaxis": "y"
        },
        {
         "fillpattern": {
          "shape": ""
         },
         "hovertemplate": "Accessibility=Model Open Code Open<br>Year=%{x}<br>Proportion=%{y}<extra></extra>",
         "legendgroup": "Model Open Code Open",
         "line": {
          "color": "dodgerblue"
         },
         "marker": {
          "symbol": "circle"
         },
         "mode": "lines",
         "name": "Model Open Code Open",
         "orientation": "v",
         "showlegend": true,
         "stackgroup": "1",
         "type": "scatter",
         "x": [
          2024,
          2021,
          2020,
          2019,
          2018,
          2017,
          2016,
          2015,
          2023,
          2022
         ],
         "xaxis": "x",
         "y": [
          0.27331887201735355,
          0.2578740157480315,
          0.23097826086956522,
          0.22743682310469315,
          0.18840579710144928,
          0.0958904109589041,
          0.13513513513513514,
          0.2727272727272727,
          0.28519417475728154,
          0.2702702702702703
         ],
         "yaxis": "y"
        }
       ],
       "layout": {
        "autosize": false,
        "height": 600,
        "legend": {
         "title": {
          "text": "Accessibility"
         },
         "tracegroupgap": 0
        },
        "template": {
         "data": {
          "bar": [
           {
            "error_x": {
             "color": "#2a3f5f"
            },
            "error_y": {
             "color": "#2a3f5f"
            },
            "marker": {
             "line": {
              "color": "#E5ECF6",
              "width": 0.5
             },
             "pattern": {
              "fillmode": "overlay",
              "size": 10,
              "solidity": 0.2
             }
            },
            "type": "bar"
           }
          ],
          "barpolar": [
           {
            "marker": {
             "line": {
              "color": "#E5ECF6",
              "width": 0.5
             },
             "pattern": {
              "fillmode": "overlay",
              "size": 10,
              "solidity": 0.2
             }
            },
            "type": "barpolar"
           }
          ],
          "carpet": [
           {
            "aaxis": {
             "endlinecolor": "#2a3f5f",
             "gridcolor": "white",
             "linecolor": "white",
             "minorgridcolor": "white",
             "startlinecolor": "#2a3f5f"
            },
            "baxis": {
             "endlinecolor": "#2a3f5f",
             "gridcolor": "white",
             "linecolor": "white",
             "minorgridcolor": "white",
             "startlinecolor": "#2a3f5f"
            },
            "type": "carpet"
           }
          ],
          "choropleth": [
           {
            "colorbar": {
             "outlinewidth": 0,
             "ticks": ""
            },
            "type": "choropleth"
           }
          ],
          "contour": [
           {
            "colorbar": {
             "outlinewidth": 0,
             "ticks": ""
            },
            "colorscale": [
             [
              0,
              "#0d0887"
             ],
             [
              0.1111111111111111,
              "#46039f"
             ],
             [
              0.2222222222222222,
              "#7201a8"
             ],
             [
              0.3333333333333333,
              "#9c179e"
             ],
             [
              0.4444444444444444,
              "#bd3786"
             ],
             [
              0.5555555555555556,
              "#d8576b"
             ],
             [
              0.6666666666666666,
              "#ed7953"
             ],
             [
              0.7777777777777778,
              "#fb9f3a"
             ],
             [
              0.8888888888888888,
              "#fdca26"
             ],
             [
              1,
              "#f0f921"
             ]
            ],
            "type": "contour"
           }
          ],
          "contourcarpet": [
           {
            "colorbar": {
             "outlinewidth": 0,
             "ticks": ""
            },
            "type": "contourcarpet"
           }
          ],
          "heatmap": [
           {
            "colorbar": {
             "outlinewidth": 0,
             "ticks": ""
            },
            "colorscale": [
             [
              0,
              "#0d0887"
             ],
             [
              0.1111111111111111,
              "#46039f"
             ],
             [
              0.2222222222222222,
              "#7201a8"
             ],
             [
              0.3333333333333333,
              "#9c179e"
             ],
             [
              0.4444444444444444,
              "#bd3786"
             ],
             [
              0.5555555555555556,
              "#d8576b"
             ],
             [
              0.6666666666666666,
              "#ed7953"
             ],
             [
              0.7777777777777778,
              "#fb9f3a"
             ],
             [
              0.8888888888888888,
              "#fdca26"
             ],
             [
              1,
              "#f0f921"
             ]
            ],
            "type": "heatmap"
           }
          ],
          "heatmapgl": [
           {
            "colorbar": {
             "outlinewidth": 0,
             "ticks": ""
            },
            "colorscale": [
             [
              0,
              "#0d0887"
             ],
             [
              0.1111111111111111,
              "#46039f"
             ],
             [
              0.2222222222222222,
              "#7201a8"
             ],
             [
              0.3333333333333333,
              "#9c179e"
             ],
             [
              0.4444444444444444,
              "#bd3786"
             ],
             [
              0.5555555555555556,
              "#d8576b"
             ],
             [
              0.6666666666666666,
              "#ed7953"
             ],
             [
              0.7777777777777778,
              "#fb9f3a"
             ],
             [
              0.8888888888888888,
              "#fdca26"
             ],
             [
              1,
              "#f0f921"
             ]
            ],
            "type": "heatmapgl"
           }
          ],
          "histogram": [
           {
            "marker": {
             "pattern": {
              "fillmode": "overlay",
              "size": 10,
              "solidity": 0.2
             }
            },
            "type": "histogram"
           }
          ],
          "histogram2d": [
           {
            "colorbar": {
             "outlinewidth": 0,
             "ticks": ""
            },
            "colorscale": [
             [
              0,
              "#0d0887"
             ],
             [
              0.1111111111111111,
              "#46039f"
             ],
             [
              0.2222222222222222,
              "#7201a8"
             ],
             [
              0.3333333333333333,
              "#9c179e"
             ],
             [
              0.4444444444444444,
              "#bd3786"
             ],
             [
              0.5555555555555556,
              "#d8576b"
             ],
             [
              0.6666666666666666,
              "#ed7953"
             ],
             [
              0.7777777777777778,
              "#fb9f3a"
             ],
             [
              0.8888888888888888,
              "#fdca26"
             ],
             [
              1,
              "#f0f921"
             ]
            ],
            "type": "histogram2d"
           }
          ],
          "histogram2dcontour": [
           {
            "colorbar": {
             "outlinewidth": 0,
             "ticks": ""
            },
            "colorscale": [
             [
              0,
              "#0d0887"
             ],
             [
              0.1111111111111111,
              "#46039f"
             ],
             [
              0.2222222222222222,
              "#7201a8"
             ],
             [
              0.3333333333333333,
              "#9c179e"
             ],
             [
              0.4444444444444444,
              "#bd3786"
             ],
             [
              0.5555555555555556,
              "#d8576b"
             ],
             [
              0.6666666666666666,
              "#ed7953"
             ],
             [
              0.7777777777777778,
              "#fb9f3a"
             ],
             [
              0.8888888888888888,
              "#fdca26"
             ],
             [
              1,
              "#f0f921"
             ]
            ],
            "type": "histogram2dcontour"
           }
          ],
          "mesh3d": [
           {
            "colorbar": {
             "outlinewidth": 0,
             "ticks": ""
            },
            "type": "mesh3d"
           }
          ],
          "parcoords": [
           {
            "line": {
             "colorbar": {
              "outlinewidth": 0,
              "ticks": ""
             }
            },
            "type": "parcoords"
           }
          ],
          "pie": [
           {
            "automargin": true,
            "type": "pie"
           }
          ],
          "scatter": [
           {
            "fillpattern": {
             "fillmode": "overlay",
             "size": 10,
             "solidity": 0.2
            },
            "type": "scatter"
           }
          ],
          "scatter3d": [
           {
            "line": {
             "colorbar": {
              "outlinewidth": 0,
              "ticks": ""
             }
            },
            "marker": {
             "colorbar": {
              "outlinewidth": 0,
              "ticks": ""
             }
            },
            "type": "scatter3d"
           }
          ],
          "scattercarpet": [
           {
            "marker": {
             "colorbar": {
              "outlinewidth": 0,
              "ticks": ""
             }
            },
            "type": "scattercarpet"
           }
          ],
          "scattergeo": [
           {
            "marker": {
             "colorbar": {
              "outlinewidth": 0,
              "ticks": ""
             }
            },
            "type": "scattergeo"
           }
          ],
          "scattergl": [
           {
            "marker": {
             "colorbar": {
              "outlinewidth": 0,
              "ticks": ""
             }
            },
            "type": "scattergl"
           }
          ],
          "scattermapbox": [
           {
            "marker": {
             "colorbar": {
              "outlinewidth": 0,
              "ticks": ""
             }
            },
            "type": "scattermapbox"
           }
          ],
          "scatterpolar": [
           {
            "marker": {
             "colorbar": {
              "outlinewidth": 0,
              "ticks": ""
             }
            },
            "type": "scatterpolar"
           }
          ],
          "scatterpolargl": [
           {
            "marker": {
             "colorbar": {
              "outlinewidth": 0,
              "ticks": ""
             }
            },
            "type": "scatterpolargl"
           }
          ],
          "scatterternary": [
           {
            "marker": {
             "colorbar": {
              "outlinewidth": 0,
              "ticks": ""
             }
            },
            "type": "scatterternary"
           }
          ],
          "surface": [
           {
            "colorbar": {
             "outlinewidth": 0,
             "ticks": ""
            },
            "colorscale": [
             [
              0,
              "#0d0887"
             ],
             [
              0.1111111111111111,
              "#46039f"
             ],
             [
              0.2222222222222222,
              "#7201a8"
             ],
             [
              0.3333333333333333,
              "#9c179e"
             ],
             [
              0.4444444444444444,
              "#bd3786"
             ],
             [
              0.5555555555555556,
              "#d8576b"
             ],
             [
              0.6666666666666666,
              "#ed7953"
             ],
             [
              0.7777777777777778,
              "#fb9f3a"
             ],
             [
              0.8888888888888888,
              "#fdca26"
             ],
             [
              1,
              "#f0f921"
             ]
            ],
            "type": "surface"
           }
          ],
          "table": [
           {
            "cells": {
             "fill": {
              "color": "#EBF0F8"
             },
             "line": {
              "color": "white"
             }
            },
            "header": {
             "fill": {
              "color": "#C8D4E3"
             },
             "line": {
              "color": "white"
             }
            },
            "type": "table"
           }
          ]
         },
         "layout": {
          "annotationdefaults": {
           "arrowcolor": "#2a3f5f",
           "arrowhead": 0,
           "arrowwidth": 1
          },
          "autotypenumbers": "strict",
          "coloraxis": {
           "colorbar": {
            "outlinewidth": 0,
            "ticks": ""
           }
          },
          "colorscale": {
           "diverging": [
            [
             0,
             "#8e0152"
            ],
            [
             0.1,
             "#c51b7d"
            ],
            [
             0.2,
             "#de77ae"
            ],
            [
             0.3,
             "#f1b6da"
            ],
            [
             0.4,
             "#fde0ef"
            ],
            [
             0.5,
             "#f7f7f7"
            ],
            [
             0.6,
             "#e6f5d0"
            ],
            [
             0.7,
             "#b8e186"
            ],
            [
             0.8,
             "#7fbc41"
            ],
            [
             0.9,
             "#4d9221"
            ],
            [
             1,
             "#276419"
            ]
           ],
           "sequential": [
            [
             0,
             "#0d0887"
            ],
            [
             0.1111111111111111,
             "#46039f"
            ],
            [
             0.2222222222222222,
             "#7201a8"
            ],
            [
             0.3333333333333333,
             "#9c179e"
            ],
            [
             0.4444444444444444,
             "#bd3786"
            ],
            [
             0.5555555555555556,
             "#d8576b"
            ],
            [
             0.6666666666666666,
             "#ed7953"
            ],
            [
             0.7777777777777778,
             "#fb9f3a"
            ],
            [
             0.8888888888888888,
             "#fdca26"
            ],
            [
             1,
             "#f0f921"
            ]
           ],
           "sequentialminus": [
            [
             0,
             "#0d0887"
            ],
            [
             0.1111111111111111,
             "#46039f"
            ],
            [
             0.2222222222222222,
             "#7201a8"
            ],
            [
             0.3333333333333333,
             "#9c179e"
            ],
            [
             0.4444444444444444,
             "#bd3786"
            ],
            [
             0.5555555555555556,
             "#d8576b"
            ],
            [
             0.6666666666666666,
             "#ed7953"
            ],
            [
             0.7777777777777778,
             "#fb9f3a"
            ],
            [
             0.8888888888888888,
             "#fdca26"
            ],
            [
             1,
             "#f0f921"
            ]
           ]
          },
          "colorway": [
           "#636efa",
           "#EF553B",
           "#00cc96",
           "#ab63fa",
           "#FFA15A",
           "#19d3f3",
           "#FF6692",
           "#B6E880",
           "#FF97FF",
           "#FECB52"
          ],
          "font": {
           "color": "#2a3f5f"
          },
          "geo": {
           "bgcolor": "white",
           "lakecolor": "white",
           "landcolor": "#E5ECF6",
           "showlakes": true,
           "showland": true,
           "subunitcolor": "white"
          },
          "hoverlabel": {
           "align": "left"
          },
          "hovermode": "closest",
          "mapbox": {
           "style": "light"
          },
          "paper_bgcolor": "white",
          "plot_bgcolor": "#E5ECF6",
          "polar": {
           "angularaxis": {
            "gridcolor": "white",
            "linecolor": "white",
            "ticks": ""
           },
           "bgcolor": "#E5ECF6",
           "radialaxis": {
            "gridcolor": "white",
            "linecolor": "white",
            "ticks": ""
           }
          },
          "scene": {
           "xaxis": {
            "backgroundcolor": "#E5ECF6",
            "gridcolor": "white",
            "gridwidth": 2,
            "linecolor": "white",
            "showbackground": true,
            "ticks": "",
            "zerolinecolor": "white"
           },
           "yaxis": {
            "backgroundcolor": "#E5ECF6",
            "gridcolor": "white",
            "gridwidth": 2,
            "linecolor": "white",
            "showbackground": true,
            "ticks": "",
            "zerolinecolor": "white"
           },
           "zaxis": {
            "backgroundcolor": "#E5ECF6",
            "gridcolor": "white",
            "gridwidth": 2,
            "linecolor": "white",
            "showbackground": true,
            "ticks": "",
            "zerolinecolor": "white"
           }
          },
          "shapedefaults": {
           "line": {
            "color": "#2a3f5f"
           }
          },
          "ternary": {
           "aaxis": {
            "gridcolor": "white",
            "linecolor": "white",
            "ticks": ""
           },
           "baxis": {
            "gridcolor": "white",
            "linecolor": "white",
            "ticks": ""
           },
           "bgcolor": "#E5ECF6",
           "caxis": {
            "gridcolor": "white",
            "linecolor": "white",
            "ticks": ""
           }
          },
          "title": {
           "x": 0.05
          },
          "xaxis": {
           "automargin": true,
           "gridcolor": "white",
           "linecolor": "white",
           "ticks": "",
           "title": {
            "standoff": 15
           },
           "zerolinecolor": "white",
           "zerolinewidth": 2
          },
          "yaxis": {
           "automargin": true,
           "gridcolor": "white",
           "linecolor": "white",
           "ticks": "",
           "title": {
            "standoff": 15
           },
           "zerolinecolor": "white",
           "zerolinewidth": 2
          }
         }
        },
        "title": {
         "text": "Cumulative proportion of model and training code accessibility, all models",
         "x": 0.2
        },
        "width": 800,
        "xaxis": {
         "anchor": "y",
         "domain": [
          0,
          1
         ],
         "range": [
          2018,
          2024
         ],
         "title": {
          "text": "Year"
         }
        },
        "yaxis": {
         "anchor": "x",
         "domain": [
          0,
          1
         ],
         "range": [
          0,
          1
         ],
         "title": {
          "text": "Proportion"
         }
        }
       }
      }
     },
     "metadata": {},
     "output_type": "display_data"
    }
   ],
   "source": [
    "# sort using custom order\n",
    "sort_order = ['Model Closed Code Closed', 'Model Closed Code Open', 'Model Open Code Closed', 'Model Open Code Open']\n",
    "\n",
    "with_totals['Category_sorted'] = pd.Categorical(with_totals['Category'], categories=sort_order, ordered=True)\n",
    "with_totals = with_totals.sort_values('Category_sorted')\n",
    "\n",
    "\n",
    "colors = ['crimson', 'tomato', 'blue', 'dodgerblue']\n",
    "fig = px.area(with_totals, x='Year', y='proportion', color='Category', line_group='Category',\n",
    "              labels={'proportion': 'Proportion', 'Year': 'Year', 'Category': 'Accessibility'},\n",
    "              title='Cumulative proportion of model and training code accessibility, all models', color_discrete_sequence=colors)\n",
    "\n",
    "fig.update_yaxes(range=[0, 1])\n",
    "fig.update_xaxes(range=[2018, 2024])\n",
    "fig.update_layout(\n",
    "    autosize=False,\n",
    "    width=800,\n",
    "    height=600,\n",
    "    title_x=0.2,\n",
    ")\n",
    "\n",
    "save_plot(fig, results_dir, f'model_code_accessibility_over_time')\n",
    "\n",
    "fig.show()"
   ]
  },
  {
   "cell_type": "markdown",
   "metadata": {},
   "source": [
    "This chart shows the proportions across the four categories of model open/closed and code open/closed. The blue areas are open-weight models and the red areas are closed-weight, while the lighter colors are code open and the darker colors are code closed. Among open-weight models, code closed has become more common. Intuitively, this is consistent with the rise of the commercial open-source industry, which releases model weights but does not wish to give competitors the ability to recreate their base models."
   ]
  },
  {
   "cell_type": "code",
   "execution_count": 52,
   "metadata": {
    "tags": []
   },
   "outputs": [
    {
     "data": {
      "application/vnd.plotly.v1+json": {
       "config": {
        "plotlyServerURL": "https://plot.ly"
       },
       "data": [
        {
         "fillpattern": {
          "shape": ""
         },
         "hovertemplate": "Category=Model Closed Code Closed<br>Year=%{x}<br>Proportion=%{y}<extra></extra>",
         "legendgroup": "Model Closed Code Closed",
         "line": {
          "color": "crimson"
         },
         "marker": {
          "symbol": "circle"
         },
         "mode": "lines",
         "name": "Model Closed Code Closed",
         "orientation": "v",
         "showlegend": true,
         "stackgroup": "1",
         "type": "scatter",
         "x": [
          2015,
          2016,
          2017,
          2018,
          2019,
          2020,
          2021,
          2022,
          2023,
          2024
         ],
         "xaxis": "x",
         "y": [
          0.7142857142857143,
          0.65,
          0.631578947368421,
          0.5211267605633803,
          0.3972602739726027,
          0.37185929648241206,
          0.36153846153846153,
          0.3557692307692308,
          0.3467741935483871,
          0.36159600997506236
         ],
         "yaxis": "y"
        },
        {
         "fillpattern": {
          "shape": ""
         },
         "hovertemplate": "Category=Model Closed Code Open<br>Year=%{x}<br>Proportion=%{y}<extra></extra>",
         "legendgroup": "Model Closed Code Open",
         "line": {
          "color": "tomato"
         },
         "marker": {
          "symbol": "circle"
         },
         "mode": "lines",
         "name": "Model Closed Code Open",
         "orientation": "v",
         "showlegend": true,
         "stackgroup": "1",
         "type": "scatter",
         "x": [
          2023,
          2022,
          2021,
          2020,
          2024,
          2018,
          2017,
          2016,
          2015,
          2019
         ],
         "xaxis": "x",
         "y": [
          0.13709677419354838,
          0.15705128205128205,
          0.17307692307692307,
          0.19597989949748743,
          0.12718204488778054,
          0.2676056338028169,
          0.2631578947368421,
          0.2,
          0.14285714285714285,
          0.2328767123287671
         ],
         "yaxis": "y"
        },
        {
         "fillpattern": {
          "shape": ""
         },
         "hovertemplate": "Category=Model Open Code Closed<br>Year=%{x}<br>Proportion=%{y}<extra></extra>",
         "legendgroup": "Model Open Code Closed",
         "line": {
          "color": "blue"
         },
         "marker": {
          "symbol": "circle"
         },
         "mode": "lines",
         "name": "Model Open Code Closed",
         "orientation": "v",
         "showlegend": true,
         "stackgroup": "1",
         "type": "scatter",
         "x": [
          2022,
          2021,
          2020,
          2019,
          2018,
          2017,
          2016,
          2015,
          2024,
          2023
         ],
         "xaxis": "x",
         "y": [
          0.15705128205128205,
          0.13076923076923078,
          0.12562814070351758,
          0.0821917808219178,
          0.056338028169014086,
          0.02631578947368421,
          0.05,
          0,
          0.19950124688279303,
          0.1881720430107527
         ],
         "yaxis": "y"
        },
        {
         "fillpattern": {
          "shape": ""
         },
         "hovertemplate": "Category=Model Open Code Open<br>Year=%{x}<br>Proportion=%{y}<extra></extra>",
         "legendgroup": "Model Open Code Open",
         "line": {
          "color": "dodgerblue"
         },
         "marker": {
          "symbol": "circle"
         },
         "mode": "lines",
         "name": "Model Open Code Open",
         "orientation": "v",
         "showlegend": true,
         "stackgroup": "1",
         "type": "scatter",
         "x": [
          2024,
          2021,
          2020,
          2019,
          2018,
          2017,
          2016,
          2015,
          2023,
          2022
         ],
         "xaxis": "x",
         "y": [
          0.3117206982543641,
          0.3346153846153846,
          0.3065326633165829,
          0.2876712328767123,
          0.15492957746478872,
          0.07894736842105263,
          0.1,
          0.14285714285714285,
          0.3279569892473118,
          0.3301282051282051
         ],
         "yaxis": "y"
        }
       ],
       "layout": {
        "autosize": false,
        "height": 600,
        "legend": {
         "title": {
          "text": "Category"
         },
         "tracegroupgap": 0
        },
        "template": {
         "data": {
          "bar": [
           {
            "error_x": {
             "color": "#2a3f5f"
            },
            "error_y": {
             "color": "#2a3f5f"
            },
            "marker": {
             "line": {
              "color": "#E5ECF6",
              "width": 0.5
             },
             "pattern": {
              "fillmode": "overlay",
              "size": 10,
              "solidity": 0.2
             }
            },
            "type": "bar"
           }
          ],
          "barpolar": [
           {
            "marker": {
             "line": {
              "color": "#E5ECF6",
              "width": 0.5
             },
             "pattern": {
              "fillmode": "overlay",
              "size": 10,
              "solidity": 0.2
             }
            },
            "type": "barpolar"
           }
          ],
          "carpet": [
           {
            "aaxis": {
             "endlinecolor": "#2a3f5f",
             "gridcolor": "white",
             "linecolor": "white",
             "minorgridcolor": "white",
             "startlinecolor": "#2a3f5f"
            },
            "baxis": {
             "endlinecolor": "#2a3f5f",
             "gridcolor": "white",
             "linecolor": "white",
             "minorgridcolor": "white",
             "startlinecolor": "#2a3f5f"
            },
            "type": "carpet"
           }
          ],
          "choropleth": [
           {
            "colorbar": {
             "outlinewidth": 0,
             "ticks": ""
            },
            "type": "choropleth"
           }
          ],
          "contour": [
           {
            "colorbar": {
             "outlinewidth": 0,
             "ticks": ""
            },
            "colorscale": [
             [
              0,
              "#0d0887"
             ],
             [
              0.1111111111111111,
              "#46039f"
             ],
             [
              0.2222222222222222,
              "#7201a8"
             ],
             [
              0.3333333333333333,
              "#9c179e"
             ],
             [
              0.4444444444444444,
              "#bd3786"
             ],
             [
              0.5555555555555556,
              "#d8576b"
             ],
             [
              0.6666666666666666,
              "#ed7953"
             ],
             [
              0.7777777777777778,
              "#fb9f3a"
             ],
             [
              0.8888888888888888,
              "#fdca26"
             ],
             [
              1,
              "#f0f921"
             ]
            ],
            "type": "contour"
           }
          ],
          "contourcarpet": [
           {
            "colorbar": {
             "outlinewidth": 0,
             "ticks": ""
            },
            "type": "contourcarpet"
           }
          ],
          "heatmap": [
           {
            "colorbar": {
             "outlinewidth": 0,
             "ticks": ""
            },
            "colorscale": [
             [
              0,
              "#0d0887"
             ],
             [
              0.1111111111111111,
              "#46039f"
             ],
             [
              0.2222222222222222,
              "#7201a8"
             ],
             [
              0.3333333333333333,
              "#9c179e"
             ],
             [
              0.4444444444444444,
              "#bd3786"
             ],
             [
              0.5555555555555556,
              "#d8576b"
             ],
             [
              0.6666666666666666,
              "#ed7953"
             ],
             [
              0.7777777777777778,
              "#fb9f3a"
             ],
             [
              0.8888888888888888,
              "#fdca26"
             ],
             [
              1,
              "#f0f921"
             ]
            ],
            "type": "heatmap"
           }
          ],
          "heatmapgl": [
           {
            "colorbar": {
             "outlinewidth": 0,
             "ticks": ""
            },
            "colorscale": [
             [
              0,
              "#0d0887"
             ],
             [
              0.1111111111111111,
              "#46039f"
             ],
             [
              0.2222222222222222,
              "#7201a8"
             ],
             [
              0.3333333333333333,
              "#9c179e"
             ],
             [
              0.4444444444444444,
              "#bd3786"
             ],
             [
              0.5555555555555556,
              "#d8576b"
             ],
             [
              0.6666666666666666,
              "#ed7953"
             ],
             [
              0.7777777777777778,
              "#fb9f3a"
             ],
             [
              0.8888888888888888,
              "#fdca26"
             ],
             [
              1,
              "#f0f921"
             ]
            ],
            "type": "heatmapgl"
           }
          ],
          "histogram": [
           {
            "marker": {
             "pattern": {
              "fillmode": "overlay",
              "size": 10,
              "solidity": 0.2
             }
            },
            "type": "histogram"
           }
          ],
          "histogram2d": [
           {
            "colorbar": {
             "outlinewidth": 0,
             "ticks": ""
            },
            "colorscale": [
             [
              0,
              "#0d0887"
             ],
             [
              0.1111111111111111,
              "#46039f"
             ],
             [
              0.2222222222222222,
              "#7201a8"
             ],
             [
              0.3333333333333333,
              "#9c179e"
             ],
             [
              0.4444444444444444,
              "#bd3786"
             ],
             [
              0.5555555555555556,
              "#d8576b"
             ],
             [
              0.6666666666666666,
              "#ed7953"
             ],
             [
              0.7777777777777778,
              "#fb9f3a"
             ],
             [
              0.8888888888888888,
              "#fdca26"
             ],
             [
              1,
              "#f0f921"
             ]
            ],
            "type": "histogram2d"
           }
          ],
          "histogram2dcontour": [
           {
            "colorbar": {
             "outlinewidth": 0,
             "ticks": ""
            },
            "colorscale": [
             [
              0,
              "#0d0887"
             ],
             [
              0.1111111111111111,
              "#46039f"
             ],
             [
              0.2222222222222222,
              "#7201a8"
             ],
             [
              0.3333333333333333,
              "#9c179e"
             ],
             [
              0.4444444444444444,
              "#bd3786"
             ],
             [
              0.5555555555555556,
              "#d8576b"
             ],
             [
              0.6666666666666666,
              "#ed7953"
             ],
             [
              0.7777777777777778,
              "#fb9f3a"
             ],
             [
              0.8888888888888888,
              "#fdca26"
             ],
             [
              1,
              "#f0f921"
             ]
            ],
            "type": "histogram2dcontour"
           }
          ],
          "mesh3d": [
           {
            "colorbar": {
             "outlinewidth": 0,
             "ticks": ""
            },
            "type": "mesh3d"
           }
          ],
          "parcoords": [
           {
            "line": {
             "colorbar": {
              "outlinewidth": 0,
              "ticks": ""
             }
            },
            "type": "parcoords"
           }
          ],
          "pie": [
           {
            "automargin": true,
            "type": "pie"
           }
          ],
          "scatter": [
           {
            "fillpattern": {
             "fillmode": "overlay",
             "size": 10,
             "solidity": 0.2
            },
            "type": "scatter"
           }
          ],
          "scatter3d": [
           {
            "line": {
             "colorbar": {
              "outlinewidth": 0,
              "ticks": ""
             }
            },
            "marker": {
             "colorbar": {
              "outlinewidth": 0,
              "ticks": ""
             }
            },
            "type": "scatter3d"
           }
          ],
          "scattercarpet": [
           {
            "marker": {
             "colorbar": {
              "outlinewidth": 0,
              "ticks": ""
             }
            },
            "type": "scattercarpet"
           }
          ],
          "scattergeo": [
           {
            "marker": {
             "colorbar": {
              "outlinewidth": 0,
              "ticks": ""
             }
            },
            "type": "scattergeo"
           }
          ],
          "scattergl": [
           {
            "marker": {
             "colorbar": {
              "outlinewidth": 0,
              "ticks": ""
             }
            },
            "type": "scattergl"
           }
          ],
          "scattermapbox": [
           {
            "marker": {
             "colorbar": {
              "outlinewidth": 0,
              "ticks": ""
             }
            },
            "type": "scattermapbox"
           }
          ],
          "scatterpolar": [
           {
            "marker": {
             "colorbar": {
              "outlinewidth": 0,
              "ticks": ""
             }
            },
            "type": "scatterpolar"
           }
          ],
          "scatterpolargl": [
           {
            "marker": {
             "colorbar": {
              "outlinewidth": 0,
              "ticks": ""
             }
            },
            "type": "scatterpolargl"
           }
          ],
          "scatterternary": [
           {
            "marker": {
             "colorbar": {
              "outlinewidth": 0,
              "ticks": ""
             }
            },
            "type": "scatterternary"
           }
          ],
          "surface": [
           {
            "colorbar": {
             "outlinewidth": 0,
             "ticks": ""
            },
            "colorscale": [
             [
              0,
              "#0d0887"
             ],
             [
              0.1111111111111111,
              "#46039f"
             ],
             [
              0.2222222222222222,
              "#7201a8"
             ],
             [
              0.3333333333333333,
              "#9c179e"
             ],
             [
              0.4444444444444444,
              "#bd3786"
             ],
             [
              0.5555555555555556,
              "#d8576b"
             ],
             [
              0.6666666666666666,
              "#ed7953"
             ],
             [
              0.7777777777777778,
              "#fb9f3a"
             ],
             [
              0.8888888888888888,
              "#fdca26"
             ],
             [
              1,
              "#f0f921"
             ]
            ],
            "type": "surface"
           }
          ],
          "table": [
           {
            "cells": {
             "fill": {
              "color": "#EBF0F8"
             },
             "line": {
              "color": "white"
             }
            },
            "header": {
             "fill": {
              "color": "#C8D4E3"
             },
             "line": {
              "color": "white"
             }
            },
            "type": "table"
           }
          ]
         },
         "layout": {
          "annotationdefaults": {
           "arrowcolor": "#2a3f5f",
           "arrowhead": 0,
           "arrowwidth": 1
          },
          "autotypenumbers": "strict",
          "coloraxis": {
           "colorbar": {
            "outlinewidth": 0,
            "ticks": ""
           }
          },
          "colorscale": {
           "diverging": [
            [
             0,
             "#8e0152"
            ],
            [
             0.1,
             "#c51b7d"
            ],
            [
             0.2,
             "#de77ae"
            ],
            [
             0.3,
             "#f1b6da"
            ],
            [
             0.4,
             "#fde0ef"
            ],
            [
             0.5,
             "#f7f7f7"
            ],
            [
             0.6,
             "#e6f5d0"
            ],
            [
             0.7,
             "#b8e186"
            ],
            [
             0.8,
             "#7fbc41"
            ],
            [
             0.9,
             "#4d9221"
            ],
            [
             1,
             "#276419"
            ]
           ],
           "sequential": [
            [
             0,
             "#0d0887"
            ],
            [
             0.1111111111111111,
             "#46039f"
            ],
            [
             0.2222222222222222,
             "#7201a8"
            ],
            [
             0.3333333333333333,
             "#9c179e"
            ],
            [
             0.4444444444444444,
             "#bd3786"
            ],
            [
             0.5555555555555556,
             "#d8576b"
            ],
            [
             0.6666666666666666,
             "#ed7953"
            ],
            [
             0.7777777777777778,
             "#fb9f3a"
            ],
            [
             0.8888888888888888,
             "#fdca26"
            ],
            [
             1,
             "#f0f921"
            ]
           ],
           "sequentialminus": [
            [
             0,
             "#0d0887"
            ],
            [
             0.1111111111111111,
             "#46039f"
            ],
            [
             0.2222222222222222,
             "#7201a8"
            ],
            [
             0.3333333333333333,
             "#9c179e"
            ],
            [
             0.4444444444444444,
             "#bd3786"
            ],
            [
             0.5555555555555556,
             "#d8576b"
            ],
            [
             0.6666666666666666,
             "#ed7953"
            ],
            [
             0.7777777777777778,
             "#fb9f3a"
            ],
            [
             0.8888888888888888,
             "#fdca26"
            ],
            [
             1,
             "#f0f921"
            ]
           ]
          },
          "colorway": [
           "#636efa",
           "#EF553B",
           "#00cc96",
           "#ab63fa",
           "#FFA15A",
           "#19d3f3",
           "#FF6692",
           "#B6E880",
           "#FF97FF",
           "#FECB52"
          ],
          "font": {
           "color": "#2a3f5f"
          },
          "geo": {
           "bgcolor": "white",
           "lakecolor": "white",
           "landcolor": "#E5ECF6",
           "showlakes": true,
           "showland": true,
           "subunitcolor": "white"
          },
          "hoverlabel": {
           "align": "left"
          },
          "hovermode": "closest",
          "mapbox": {
           "style": "light"
          },
          "paper_bgcolor": "white",
          "plot_bgcolor": "#E5ECF6",
          "polar": {
           "angularaxis": {
            "gridcolor": "white",
            "linecolor": "white",
            "ticks": ""
           },
           "bgcolor": "#E5ECF6",
           "radialaxis": {
            "gridcolor": "white",
            "linecolor": "white",
            "ticks": ""
           }
          },
          "scene": {
           "xaxis": {
            "backgroundcolor": "#E5ECF6",
            "gridcolor": "white",
            "gridwidth": 2,
            "linecolor": "white",
            "showbackground": true,
            "ticks": "",
            "zerolinecolor": "white"
           },
           "yaxis": {
            "backgroundcolor": "#E5ECF6",
            "gridcolor": "white",
            "gridwidth": 2,
            "linecolor": "white",
            "showbackground": true,
            "ticks": "",
            "zerolinecolor": "white"
           },
           "zaxis": {
            "backgroundcolor": "#E5ECF6",
            "gridcolor": "white",
            "gridwidth": 2,
            "linecolor": "white",
            "showbackground": true,
            "ticks": "",
            "zerolinecolor": "white"
           }
          },
          "shapedefaults": {
           "line": {
            "color": "#2a3f5f"
           }
          },
          "ternary": {
           "aaxis": {
            "gridcolor": "white",
            "linecolor": "white",
            "ticks": ""
           },
           "baxis": {
            "gridcolor": "white",
            "linecolor": "white",
            "ticks": ""
           },
           "bgcolor": "#E5ECF6",
           "caxis": {
            "gridcolor": "white",
            "linecolor": "white",
            "ticks": ""
           }
          },
          "title": {
           "x": 0.05
          },
          "xaxis": {
           "automargin": true,
           "gridcolor": "white",
           "linecolor": "white",
           "ticks": "",
           "title": {
            "standoff": 15
           },
           "zerolinecolor": "white",
           "zerolinewidth": 2
          },
          "yaxis": {
           "automargin": true,
           "gridcolor": "white",
           "linecolor": "white",
           "ticks": "",
           "title": {
            "standoff": 15
           },
           "zerolinecolor": "white",
           "zerolinewidth": 2
          }
         }
        },
        "title": {
         "text": "Cumulative Proportion of Notable Models by Mode/Code Openness",
         "x": 0.2
        },
        "width": 800,
        "xaxis": {
         "anchor": "y",
         "domain": [
          0,
          1
         ],
         "range": [
          2018,
          2024
         ],
         "title": {
          "text": "Year"
         }
        },
        "yaxis": {
         "anchor": "x",
         "domain": [
          0,
          1
         ],
         "range": [
          0,
          1
         ],
         "title": {
          "text": "Proportion"
         }
        }
       }
      }
     },
     "metadata": {},
     "output_type": "display_data"
    }
   ],
   "source": [
    "# repeat the above code but with notable models only\n",
    "open_counts = notable_code_df.loc[code_df['Year'] >= 2015].groupby(['Year', 'Model open/closed', 'Code open/closed']).size().reset_index(name='Count')\n",
    "\n",
    "open_counts['Cumulative'] = open_counts.groupby(['Model open/closed', 'Code open/closed'])['Count'].cumsum()\n",
    "\n",
    "total_counts = open_counts.groupby('Year')['Count'].sum().reset_index(name='Yearly Total')\n",
    "total_counts['Cumulative Total'] = total_counts['Yearly Total'].cumsum()\n",
    "\n",
    "open_counts_wide = open_counts.pivot(index='Year', columns=['Model open/closed', 'Code open/closed'], values='Count')\n",
    "open_counts_wide = open_counts_wide.fillna(0).reset_index()\n",
    "\n",
    "# Convert pivoted multi-columns to single columns with clear names\n",
    "new_columns = ['Year'] + [f'Model {outer} Code {inner}' for outer, inner in open_counts_wide.columns[1:]]\n",
    "open_counts_wide.columns = new_columns\n",
    "\n",
    "# unpivot table to get the count of each 2x2 value for each year\n",
    "open_counts_filled = (open_counts_wide.melt(id_vars=['Year'], \n",
    "                                            var_name='Category',\n",
    "                                            value_name='Count')\n",
    "                                      .reset_index(drop=True))\n",
    "\n",
    "open_counts_filled['Cumulative for Category'] = open_counts_filled.groupby('Category')['Count'].cumsum()\n",
    "\n",
    "with_totals = pd.merge(open_counts_filled, total_counts, on=\"Year\")\n",
    "with_totals['proportion'] = with_totals['Cumulative for Category'] / with_totals['Cumulative Total']\n",
    "\n",
    "# sort using custom order\n",
    "sort_order = ['Model Closed Code Closed', 'Model Closed Code Open', 'Model Open Code Closed', 'Model Open Code Open']\n",
    "\n",
    "with_totals['Category_sorted'] = pd.Categorical(with_totals['Category'], categories=sort_order, ordered=True)\n",
    "with_totals = with_totals.sort_values('Category_sorted')\n",
    "\n",
    "\n",
    "colors = ['crimson', 'tomato', 'blue', 'dodgerblue']\n",
    "fig = px.area(with_totals, x='Year', y='proportion', color='Category', line_group='Category',\n",
    "              labels={'proportion': 'Proportion', 'Year': 'Year'},\n",
    "              title='Cumulative Proportion of Notable Models by Mode/Code Openness', color_discrete_sequence=colors)\n",
    "\n",
    "fig.update_yaxes(range=[0, 1])\n",
    "fig.update_xaxes(range=[2018, 2024])\n",
    "fig.update_layout(\n",
    "    autosize=False,\n",
    "    width=800,\n",
    "    height=600,\n",
    "    title_x=0.2,\n",
    ")\n",
    "fig"
   ]
  },
  {
   "cell_type": "code",
   "execution_count": 53,
   "metadata": {},
   "outputs": [
    {
     "name": "stderr",
     "output_type": "stream",
     "text": [
      "/var/folders/s2/stl5t_bn7xg9vdfxxr71rzrc0000gn/T/ipykernel_76592/2300436354.py:1: SettingWithCopyWarning:\n",
      "\n",
      "\n",
      "A value is trying to be set on a copy of a slice from a DataFrame.\n",
      "Try using .loc[row_indexer,col_indexer] = value instead\n",
      "\n",
      "See the caveats in the documentation: https://pandas.pydata.org/pandas-docs/stable/user_guide/indexing.html#returning-a-view-versus-a-copy\n",
      "\n",
      "/var/folders/s2/stl5t_bn7xg9vdfxxr71rzrc0000gn/T/ipykernel_76592/2300436354.py:2: SettingWithCopyWarning:\n",
      "\n",
      "\n",
      "A value is trying to be set on a copy of a slice from a DataFrame.\n",
      "Try using .loc[row_indexer,col_indexer] = value instead\n",
      "\n",
      "See the caveats in the documentation: https://pandas.pydata.org/pandas-docs/stable/user_guide/indexing.html#returning-a-view-versus-a-copy\n",
      "\n"
     ]
    }
   ],
   "source": [
    "notable_df['Academia'] = notable_df['Organization categorization'].str.contains('Academia', case=False, na=False)\n",
    "notable_df['Industry'] = notable_df['Organization categorization'].str.contains('Industry', case=False, na=False)"
   ]
  },
  {
   "cell_type": "markdown",
   "metadata": {},
   "source": [
    "## Surveying developers of open models"
   ]
  },
  {
   "cell_type": "code",
   "execution_count": 54,
   "metadata": {},
   "outputs": [],
   "source": [
    "open_model_closed_code = notable_df[(notable_df['Model open/closed'] == 'Open') \n",
    "                                    & (notable_df['Code open/closed'] == 'Closed')]\n",
    "\n",
    "open_model_open_code = notable_df[(notable_df['Model open/closed'] == 'Open') \n",
    "                                    & (notable_df['Code open/closed'] == 'Open')]"
   ]
  },
  {
   "cell_type": "code",
   "execution_count": 55,
   "metadata": {},
   "outputs": [
    {
     "data": {
      "text/plain": [
       "Academia\n",
       "False    58\n",
       "True     67\n",
       "Name: System, dtype: int64"
      ]
     },
     "execution_count": 55,
     "metadata": {},
     "output_type": "execute_result"
    }
   ],
   "source": [
    "open_model_open_code.groupby('Academia')['System'].count()"
   ]
  },
  {
   "cell_type": "code",
   "execution_count": 56,
   "metadata": {},
   "outputs": [
    {
     "data": {
      "text/plain": [
       "Industry\n",
       "False    29\n",
       "True     96\n",
       "Name: System, dtype: int64"
      ]
     },
     "execution_count": 56,
     "metadata": {},
     "output_type": "execute_result"
    }
   ],
   "source": [
    "open_model_open_code.groupby('Industry')['System'].count()"
   ]
  },
  {
   "cell_type": "code",
   "execution_count": 57,
   "metadata": {},
   "outputs": [
    {
     "data": {
      "text/plain": [
       "Academia\n",
       "False    59\n",
       "True     44\n",
       "Name: System, dtype: int64"
      ]
     },
     "execution_count": 57,
     "metadata": {},
     "output_type": "execute_result"
    }
   ],
   "source": [
    "open_model_closed_code.groupby('Academia')['System'].count()"
   ]
  },
  {
   "cell_type": "code",
   "execution_count": 58,
   "metadata": {},
   "outputs": [
    {
     "data": {
      "text/plain": [
       "Industry\n",
       "False    14\n",
       "True     89\n",
       "Name: System, dtype: int64"
      ]
     },
     "execution_count": 58,
     "metadata": {},
     "output_type": "execute_result"
    }
   ],
   "source": [
    "open_model_closed_code.groupby('Industry')['System'].count()"
   ]
  },
  {
   "cell_type": "code",
   "execution_count": 59,
   "metadata": {},
   "outputs": [
    {
     "name": "stdout",
     "output_type": "stream",
     "text": [
      "43% of open-weight closed-code models were developed by academia\n",
      "86% of open-weight closed-code models were developed by industry\n",
      "\n",
      "54% of open-weight open-code models were developed by academia\n",
      "77% of open-weight open-code models were developed by industry\n"
     ]
    }
   ],
   "source": [
    "nonacademia, academia = open_model_closed_code.groupby('Academia')['System'].count()\n",
    "print(f'{round(100*academia/(academia+nonacademia))}% of open-weight closed-code models were developed by academia')\n",
    "\n",
    "nonindustry, industry = open_model_closed_code.groupby('Industry')['System'].count()\n",
    "print(f'{round(100*industry/(industry+nonindustry))}% of open-weight closed-code models were developed by industry\\n')\n",
    "\n",
    "nonacademia, academia = open_model_open_code.groupby('Academia')['System'].count()\n",
    "print(f'{round(100*academia/(academia+nonacademia))}% of open-weight open-code models were developed by academia')\n",
    "\n",
    "nonindustry, industry = open_model_open_code.groupby('Industry')['System'].count()\n",
    "print(f'{round(100*industry/(industry+nonindustry))}% of open-weight open-code models were developed by industry')"
   ]
  },
  {
   "cell_type": "markdown",
   "metadata": {},
   "source": [
    "Percentages above add up to above 100% because many models were co-developed by industry and academia"
   ]
  },
  {
   "cell_type": "code",
   "execution_count": 60,
   "metadata": {},
   "outputs": [
    {
     "data": {
      "text/plain": [
       "Year  Model open/closed\n",
       "2015  Closed                5\n",
       "2016  Closed                3\n",
       "      Open                  3\n",
       "2017  Closed               10\n",
       "      Open                  1\n",
       "2018  Closed               14\n",
       "      Open                  4\n",
       "2019  Closed               20\n",
       "      Open                 15\n",
       "2020  Closed                9\n",
       "      Open                 19\n",
       "2021  Closed                7\n",
       "      Open                 18\n",
       "2022  Closed                4\n",
       "      Open                 22\n",
       "2023  Closed                4\n",
       "      Open                 26\n",
       "dtype: int64"
      ]
     },
     "execution_count": 60,
     "metadata": {},
     "output_type": "execute_result"
    }
   ],
   "source": [
    "notable_df[(notable_df['Academia']==True) & (notable_df['Year']>=2015) & (notable_df['Year']<=2023)].groupby(['Year', 'Model open/closed']).size()"
   ]
  },
  {
   "cell_type": "code",
   "execution_count": 61,
   "metadata": {},
   "outputs": [
    {
     "data": {
      "text/html": [
       "<div>\n",
       "<style scoped>\n",
       "    .dataframe tbody tr th:only-of-type {\n",
       "        vertical-align: middle;\n",
       "    }\n",
       "\n",
       "    .dataframe tbody tr th {\n",
       "        vertical-align: top;\n",
       "    }\n",
       "\n",
       "    .dataframe thead th {\n",
       "        text-align: right;\n",
       "    }\n",
       "</style>\n",
       "<table border=\"1\" class=\"dataframe\">\n",
       "  <thead>\n",
       "    <tr style=\"text-align: right;\">\n",
       "      <th>Model open/closed</th>\n",
       "      <th>Closed</th>\n",
       "      <th>Open</th>\n",
       "    </tr>\n",
       "    <tr>\n",
       "      <th>Year</th>\n",
       "      <th></th>\n",
       "      <th></th>\n",
       "    </tr>\n",
       "  </thead>\n",
       "  <tbody>\n",
       "    <tr>\n",
       "      <th>2015</th>\n",
       "      <td>5.0</td>\n",
       "      <td>0.0</td>\n",
       "    </tr>\n",
       "    <tr>\n",
       "      <th>2016</th>\n",
       "      <td>3.0</td>\n",
       "      <td>3.0</td>\n",
       "    </tr>\n",
       "    <tr>\n",
       "      <th>2017</th>\n",
       "      <td>10.0</td>\n",
       "      <td>1.0</td>\n",
       "    </tr>\n",
       "    <tr>\n",
       "      <th>2018</th>\n",
       "      <td>14.0</td>\n",
       "      <td>4.0</td>\n",
       "    </tr>\n",
       "    <tr>\n",
       "      <th>2019</th>\n",
       "      <td>20.0</td>\n",
       "      <td>15.0</td>\n",
       "    </tr>\n",
       "    <tr>\n",
       "      <th>2020</th>\n",
       "      <td>9.0</td>\n",
       "      <td>19.0</td>\n",
       "    </tr>\n",
       "    <tr>\n",
       "      <th>2021</th>\n",
       "      <td>7.0</td>\n",
       "      <td>18.0</td>\n",
       "    </tr>\n",
       "    <tr>\n",
       "      <th>2022</th>\n",
       "      <td>4.0</td>\n",
       "      <td>22.0</td>\n",
       "    </tr>\n",
       "    <tr>\n",
       "      <th>2023</th>\n",
       "      <td>4.0</td>\n",
       "      <td>26.0</td>\n",
       "    </tr>\n",
       "  </tbody>\n",
       "</table>\n",
       "</div>"
      ],
      "text/plain": [
       "Model open/closed  Closed  Open\n",
       "Year                           \n",
       "2015                  5.0   0.0\n",
       "2016                  3.0   3.0\n",
       "2017                 10.0   1.0\n",
       "2018                 14.0   4.0\n",
       "2019                 20.0  15.0\n",
       "2020                  9.0  19.0\n",
       "2021                  7.0  18.0\n",
       "2022                  4.0  22.0\n",
       "2023                  4.0  26.0"
      ]
     },
     "execution_count": 61,
     "metadata": {},
     "output_type": "execute_result"
    }
   ],
   "source": [
    "academic_by_year = notable_df[(notable_df['Academia']==True) & (notable_df['Year']>=2015) & (notable_df['Year']<=2023)].groupby(['Year', 'Model open/closed']).size().reset_index(name='Count')\n",
    "\n",
    "\n",
    "\n",
    "# Pivot the data for plotting\n",
    "academic_by_year_pivot = academic_by_year.pivot(index='Year', columns='Model open/closed', values='Count').fillna(0)\n",
    "\n",
    "academic_by_year_pivot"
   ]
  },
  {
   "cell_type": "code",
   "execution_count": 62,
   "metadata": {},
   "outputs": [
    {
     "data": {
      "image/png": "[encoded data removed]",
      "text/plain": [
       "<Figure size 1200x600 with 1 Axes>"
      ]
     },
     "metadata": {},
     "output_type": "display_data"
    }
   ],
   "source": [
    "\n",
    "fig, ax = plt.subplots(figsize=(12, 6))\n",
    "academic_by_year_pivot.plot(kind='bar', stacked=True, ax=ax)\n",
    "\n",
    "plt.title('Open vs closed notable models with academic developers', fontsize=16)\n",
    "plt.xlabel('Year', fontsize=12)\n",
    "plt.ylabel('Number of Models', fontsize=12)\n",
    "plt.legend(title='Model Type', title_fontsize='12', fontsize='10')\n",
    "plt.xticks(rotation=45)\n",
    "\n",
    "\n",
    "# Adjust layout and display the plot\n",
    "plt.tight_layout()\n",
    "plt.show()"
   ]
  },
  {
   "cell_type": "code",
   "execution_count": 63,
   "metadata": {},
   "outputs": [
    {
     "data": {
      "text/html": [
       "<div>\n",
       "<style scoped>\n",
       "    .dataframe tbody tr th:only-of-type {\n",
       "        vertical-align: middle;\n",
       "    }\n",
       "\n",
       "    .dataframe tbody tr th {\n",
       "        vertical-align: top;\n",
       "    }\n",
       "\n",
       "    .dataframe thead th {\n",
       "        text-align: right;\n",
       "    }\n",
       "</style>\n",
       "<table border=\"1\" class=\"dataframe\">\n",
       "  <thead>\n",
       "    <tr style=\"text-align: right;\">\n",
       "      <th>Model open/closed</th>\n",
       "      <th>Closed</th>\n",
       "      <th>Open</th>\n",
       "    </tr>\n",
       "    <tr>\n",
       "      <th>Year</th>\n",
       "      <th></th>\n",
       "      <th></th>\n",
       "    </tr>\n",
       "  </thead>\n",
       "  <tbody>\n",
       "    <tr>\n",
       "      <th>2015</th>\n",
       "      <td>3.0</td>\n",
       "      <td>0.0</td>\n",
       "    </tr>\n",
       "    <tr>\n",
       "      <th>2016</th>\n",
       "      <td>2.0</td>\n",
       "      <td>3.0</td>\n",
       "    </tr>\n",
       "    <tr>\n",
       "      <th>2017</th>\n",
       "      <td>6.0</td>\n",
       "      <td>1.0</td>\n",
       "    </tr>\n",
       "    <tr>\n",
       "      <th>2018</th>\n",
       "      <td>4.0</td>\n",
       "      <td>1.0</td>\n",
       "    </tr>\n",
       "    <tr>\n",
       "      <th>2019</th>\n",
       "      <td>8.0</td>\n",
       "      <td>7.0</td>\n",
       "    </tr>\n",
       "    <tr>\n",
       "      <th>2020</th>\n",
       "      <td>3.0</td>\n",
       "      <td>7.0</td>\n",
       "    </tr>\n",
       "    <tr>\n",
       "      <th>2021</th>\n",
       "      <td>3.0</td>\n",
       "      <td>3.0</td>\n",
       "    </tr>\n",
       "    <tr>\n",
       "      <th>2022</th>\n",
       "      <td>0.0</td>\n",
       "      <td>7.0</td>\n",
       "    </tr>\n",
       "    <tr>\n",
       "      <th>2023</th>\n",
       "      <td>1.0</td>\n",
       "      <td>8.0</td>\n",
       "    </tr>\n",
       "  </tbody>\n",
       "</table>\n",
       "</div>"
      ],
      "text/plain": [
       "Model open/closed  Closed  Open\n",
       "Year                           \n",
       "2015                  3.0   0.0\n",
       "2016                  2.0   3.0\n",
       "2017                  6.0   1.0\n",
       "2018                  4.0   1.0\n",
       "2019                  8.0   7.0\n",
       "2020                  3.0   7.0\n",
       "2021                  3.0   3.0\n",
       "2022                  0.0   7.0\n",
       "2023                  1.0   8.0"
      ]
     },
     "execution_count": 63,
     "metadata": {},
     "output_type": "execute_result"
    }
   ],
   "source": [
    "academic_only_by_year = notable_df[(notable_df['Academia']==True) \n",
    "                                        & (notable_df['Industry']==False) \n",
    "                                        & (notable_df['Year']>=2015) \n",
    "                                        & (notable_df['Year']<=2023)].groupby(['Year', 'Model open/closed']).size().reset_index(name='Count')\n",
    "\n",
    "# Pivot the data for plotting\n",
    "academic_only_by_year_pivot = academic_only_by_year.pivot(index='Year', columns='Model open/closed', values='Count').fillna(0)\n",
    "\n",
    "academic_only_by_year_pivot"
   ]
  },
  {
   "cell_type": "code",
   "execution_count": 64,
   "metadata": {},
   "outputs": [
    {
     "data": {
      "image/png": "[encoded data removed]",
      "text/plain": [
       "<Figure size 1200x600 with 1 Axes>"
      ]
     },
     "metadata": {},
     "output_type": "display_data"
    }
   ],
   "source": [
    "fig, ax = plt.subplots(figsize=(12, 6))\n",
    "academic_only_by_year_pivot.plot(kind='bar', stacked=True, ax=ax)\n",
    "\n",
    "plt.title('Open vs closed notable models with exclusively academic developers', fontsize=16)\n",
    "plt.xlabel('Year', fontsize=12)\n",
    "plt.ylabel('Number of Models', fontsize=12)\n",
    "plt.legend(title='Model Type', title_fontsize='12', fontsize='10')\n",
    "plt.xticks(rotation=45)\n",
    "\n",
    "\n",
    "# Adjust layout and display the plot\n",
    "plt.tight_layout()\n",
    "plt.show()"
   ]
  },
  {
   "cell_type": "code",
   "execution_count": 65,
   "metadata": {},
   "outputs": [
    {
     "data": {
      "text/html": [
       "<div>\n",
       "<style scoped>\n",
       "    .dataframe tbody tr th:only-of-type {\n",
       "        vertical-align: middle;\n",
       "    }\n",
       "\n",
       "    .dataframe tbody tr th {\n",
       "        vertical-align: top;\n",
       "    }\n",
       "\n",
       "    .dataframe thead th {\n",
       "        text-align: right;\n",
       "    }\n",
       "</style>\n",
       "<table border=\"1\" class=\"dataframe\">\n",
       "  <thead>\n",
       "    <tr style=\"text-align: right;\">\n",
       "      <th>Model open/closed</th>\n",
       "      <th>Closed</th>\n",
       "      <th>Open</th>\n",
       "    </tr>\n",
       "    <tr>\n",
       "      <th>Year</th>\n",
       "      <th></th>\n",
       "      <th></th>\n",
       "    </tr>\n",
       "  </thead>\n",
       "  <tbody>\n",
       "    <tr>\n",
       "      <th>2015</th>\n",
       "      <td>2.0</td>\n",
       "      <td>1.0</td>\n",
       "    </tr>\n",
       "    <tr>\n",
       "      <th>2016</th>\n",
       "      <td>8.0</td>\n",
       "      <td>0.0</td>\n",
       "    </tr>\n",
       "    <tr>\n",
       "      <th>2017</th>\n",
       "      <td>9.0</td>\n",
       "      <td>0.0</td>\n",
       "    </tr>\n",
       "    <tr>\n",
       "      <th>2018</th>\n",
       "      <td>10.0</td>\n",
       "      <td>7.0</td>\n",
       "    </tr>\n",
       "    <tr>\n",
       "      <th>2019</th>\n",
       "      <td>16.0</td>\n",
       "      <td>23.0</td>\n",
       "    </tr>\n",
       "    <tr>\n",
       "      <th>2020</th>\n",
       "      <td>13.0</td>\n",
       "      <td>14.0</td>\n",
       "    </tr>\n",
       "    <tr>\n",
       "      <th>2021</th>\n",
       "      <td>20.0</td>\n",
       "      <td>18.0</td>\n",
       "    </tr>\n",
       "    <tr>\n",
       "      <th>2022</th>\n",
       "      <td>23.0</td>\n",
       "      <td>14.0</td>\n",
       "    </tr>\n",
       "    <tr>\n",
       "      <th>2023</th>\n",
       "      <td>23.0</td>\n",
       "      <td>24.0</td>\n",
       "    </tr>\n",
       "  </tbody>\n",
       "</table>\n",
       "</div>"
      ],
      "text/plain": [
       "Model open/closed  Closed  Open\n",
       "Year                           \n",
       "2015                  2.0   1.0\n",
       "2016                  8.0   0.0\n",
       "2017                  9.0   0.0\n",
       "2018                 10.0   7.0\n",
       "2019                 16.0  23.0\n",
       "2020                 13.0  14.0\n",
       "2021                 20.0  18.0\n",
       "2022                 23.0  14.0\n",
       "2023                 23.0  24.0"
      ]
     },
     "execution_count": 65,
     "metadata": {},
     "output_type": "execute_result"
    }
   ],
   "source": [
    "industry_only_by_year = notable_df[(notable_df['Academia']==False) \n",
    "                                        & (notable_df['Industry']==True) \n",
    "                                        & (notable_df['Year']>=2015) \n",
    "                                        & (notable_df['Year']<=2023)].groupby(['Year', 'Model open/closed']).size().reset_index(name='Count')\n",
    "\n",
    "# Pivot the data for plotting\n",
    "industry_only_by_year_pivot = industry_only_by_year.pivot(index='Year', columns='Model open/closed', values='Count').fillna(0)\n",
    "\n",
    "industry_only_by_year_pivot"
   ]
  },
  {
   "cell_type": "code",
   "execution_count": 66,
   "metadata": {},
   "outputs": [
    {
     "data": {
      "image/png": "[encoded data removed]",
      "text/plain": [
       "<Figure size 1200x600 with 1 Axes>"
      ]
     },
     "metadata": {},
     "output_type": "display_data"
    }
   ],
   "source": [
    "fig, ax = plt.subplots(figsize=(12, 6))\n",
    "industry_only_by_year_pivot.plot(kind='bar', stacked=True, ax=ax)\n",
    "\n",
    "plt.title('Open vs closed notable models with exclusively industry developers', fontsize=16)\n",
    "plt.xlabel('Year', fontsize=12)\n",
    "plt.ylabel('Number of Models', fontsize=12)\n",
    "plt.legend(title='Model Type', title_fontsize='12', fontsize='10')\n",
    "plt.xticks(rotation=45)\n",
    "\n",
    "\n",
    "# Adjust layout and display the plot\n",
    "plt.tight_layout()\n",
    "plt.show()"
   ]
  },
  {
   "cell_type": "code",
   "execution_count": null,
   "metadata": {},
   "outputs": [],
   "source": []
  }
 ],
 "metadata": {
  "kernelspec": {
   "display_name": "Python 3 (ipykernel)",
   "language": "python",
   "name": "python3"
  },
  "language_info": {
   "codemirror_mode": {
    "name": "ipython",
    "version": 3
   },
   "file_extension": ".py",
   "mimetype": "text/x-python",
   "name": "python",
   "nbconvert_exporter": "python",
   "pygments_lexer": "ipython3",
   "version": "3.12.7"
  }
 },
 "nbformat": 4,
 "nbformat_minor": 4
}
