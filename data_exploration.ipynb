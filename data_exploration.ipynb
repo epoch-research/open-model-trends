{
 "cells": [
  {
   "cell_type": "code",
   "execution_count": 1,
   "metadata": {},
   "outputs": [],
   "source": [
    "%load_ext autoreload\n",
    "%autoreload 2"
   ]
  },
  {
   "cell_type": "code",
   "execution_count": 2,
   "metadata": {},
   "outputs": [],
   "source": [
    "import numpy as np\n",
    "import os\n",
    "import pandas as pd\n",
    "import plotly.express as px\n",
    "import plotly.graph_objects as go\n",
    "from plotly.subplots import make_subplots\n",
    "import matplotlib.pyplot as plt\n",
    "\n",
    "from data import *\n",
    "from plotting import *\n",
    "from regression import *\n",
    "from utils import *"
   ]
  },
  {
   "cell_type": "code",
   "execution_count": 3,
   "metadata": {},
   "outputs": [],
   "source": [
    "results_dir = 'results/accessibility/8Oct/'\n",
    "os.makedirs(results_dir, exist_ok=True)"
   ]
  },
  {
   "cell_type": "code",
   "execution_count": 4,
   "metadata": {},
   "outputs": [
    {
     "data": {
      "text/plain": [
       "1048"
      ]
     },
     "execution_count": 4,
     "metadata": {},
     "output_type": "execute_result"
    }
   ],
   "source": [
    "# Load data\n",
    "pcd_df = load_pcd_df()\n",
    "\n",
    "access_df = pcd_df.dropna(subset=['Model accessibility'])\n",
    "len(access_df)"
   ]
  },
  {
   "cell_type": "code",
   "execution_count": 5,
   "metadata": {},
   "outputs": [
    {
     "data": {
      "text/plain": [
       "Index(['System', 'Domain', 'Task', 'Authors', 'Notability criteria',\n",
       "       'Notability criteria notes', 'Model accessibility', 'Link', 'Citations',\n",
       "       'Reference', 'Publication date', 'Organization', 'Parameters',\n",
       "       'Parameters notes', 'Training compute (FLOP)', 'Training compute notes',\n",
       "       'Training dataset', 'Training dataset notes',\n",
       "       'Training dataset size (datapoints)', 'Dataset size notes', 'Epochs',\n",
       "       'Inference compute (FLOP)', 'Inference compute notes',\n",
       "       'Training time (hours)', 'Training time notes', 'Training hardware',\n",
       "       'Approach', 'Training compute cost (2020 USD)', 'Compute cost notes',\n",
       "       'Compute sponsor categorization', 'Confidence', 'Abstract',\n",
       "       'Last modified', 'Created By', 'Benchmark data', 'Exclude',\n",
       "       'Country (from Organization)', 'Base model', 'Finetune compute (FLOP)',\n",
       "       'Finetune compute notes', 'Hardware quantity', 'Hardware utilization',\n",
       "       'Training cost trends', 'Training cloud compute vendor',\n",
       "       'Training data center', 'Archived links', 'Batch size',\n",
       "       'Batch size notes', 'Organization categorization', 'Foundation model',\n",
       "       'Training compute lower bound', 'Training compute upper bound',\n",
       "       'Training chip-hours', 'Training code accessibility',\n",
       "       'Dataset accessibility', 'Accessibility notes',\n",
       "       'Organization categorization (from Organization)',\n",
       "       'Possibly over 1e23 FLOP', 'Training compute cost (2023 USD)',\n",
       "       'Training dataset size', 'Sparsity', 'Utilization notes',\n",
       "       'Estimated over 1e25 FLOP', 'Power per GPU', 'Cluster total TDP',\n",
       "       'Base model compute', 'Difference', 'Difference (share)', 'API prices',\n",
       "       'Created', 'Inference code accessibility', 'Arithmetic format',\n",
       "       'Model versions', 'Frontier model'],\n",
       "      dtype='object')"
      ]
     },
     "execution_count": 5,
     "metadata": {},
     "output_type": "execute_result"
    }
   ],
   "source": [
    "access_df.columns"
   ]
  },
  {
   "cell_type": "code",
   "execution_count": 6,
   "metadata": {
    "tags": []
   },
   "outputs": [
    {
     "name": "stderr",
     "output_type": "stream",
     "text": [
      "/var/folders/s2/stl5t_bn7xg9vdfxxr71rzrc0000gn/T/ipykernel_25694/2896245806.py:6: SettingWithCopyWarning: \n",
      "A value is trying to be set on a copy of a slice from a DataFrame.\n",
      "Try using .loc[row_indexer,col_indexer] = value instead\n",
      "\n",
      "See the caveats in the documentation: https://pandas.pydata.org/pandas-docs/stable/user_guide/indexing.html#returning-a-view-versus-a-copy\n",
      "  access_df['Model open/closed'] = access_df['Model accessibility'].apply(\n",
      "/var/folders/s2/stl5t_bn7xg9vdfxxr71rzrc0000gn/T/ipykernel_25694/2896245806.py:10: SettingWithCopyWarning: \n",
      "A value is trying to be set on a copy of a slice from a DataFrame.\n",
      "Try using .loc[row_indexer,col_indexer] = value instead\n",
      "\n",
      "See the caveats in the documentation: https://pandas.pydata.org/pandas-docs/stable/user_guide/indexing.html#returning-a-view-versus-a-copy\n",
      "  access_df['Code open/closed'] = access_df['Training code accessibility'].apply(\n"
     ]
    }
   ],
   "source": [
    "model_open_categories = ['Open access (unrestricted)', 'Open access (restricted use)', 'Open access (non-commercial)']\n",
    "code_open_categories = ['Open source', 'Open access (non-commercial)', 'Open access (restricted use)']\n",
    "\n",
    "\n",
    "# Add open/closed binary columns\n",
    "access_df['Model open/closed'] = access_df['Model accessibility'].apply(\n",
    "    lambda x: 'Open' if x in model_open_categories else 'Closed'\n",
    ")\n",
    "\n",
    "access_df['Code open/closed'] = access_df['Training code accessibility'].apply(\n",
    "    lambda x: 'Open' if x in code_open_categories else 'Closed'\n",
    ")"
   ]
  },
  {
   "cell_type": "code",
   "execution_count": 7,
   "metadata": {
    "tags": []
   },
   "outputs": [],
   "source": [
    "open_df = access_df.loc[access_df['Model open/closed'] == 'Open']"
   ]
  },
  {
   "cell_type": "code",
   "execution_count": 8,
   "metadata": {
    "tags": []
   },
   "outputs": [
    {
     "name": "stdout",
     "output_type": "stream",
     "text": [
      "221\n"
     ]
    },
    {
     "data": {
      "text/html": [
       "<div>\n",
       "<style scoped>\n",
       "    .dataframe tbody tr th:only-of-type {\n",
       "        vertical-align: middle;\n",
       "    }\n",
       "\n",
       "    .dataframe tbody tr th {\n",
       "        vertical-align: top;\n",
       "    }\n",
       "\n",
       "    .dataframe thead th {\n",
       "        text-align: right;\n",
       "    }\n",
       "</style>\n",
       "<table border=\"1\" class=\"dataframe\">\n",
       "  <thead>\n",
       "    <tr style=\"text-align: right;\">\n",
       "      <th></th>\n",
       "      <th>System</th>\n",
       "      <th>Domain</th>\n",
       "      <th>Task</th>\n",
       "      <th>Authors</th>\n",
       "      <th>Notability criteria</th>\n",
       "      <th>Notability criteria notes</th>\n",
       "      <th>Model accessibility</th>\n",
       "      <th>Link</th>\n",
       "      <th>Citations</th>\n",
       "      <th>Reference</th>\n",
       "      <th>...</th>\n",
       "      <th>Difference</th>\n",
       "      <th>Difference (share)</th>\n",
       "      <th>API prices</th>\n",
       "      <th>Created</th>\n",
       "      <th>Inference code accessibility</th>\n",
       "      <th>Arithmetic format</th>\n",
       "      <th>Model versions</th>\n",
       "      <th>Frontier model</th>\n",
       "      <th>Model open/closed</th>\n",
       "      <th>Code open/closed</th>\n",
       "    </tr>\n",
       "  </thead>\n",
       "  <tbody>\n",
       "    <tr>\n",
       "      <th>338</th>\n",
       "      <td>Faster R-CNN</td>\n",
       "      <td>Vision</td>\n",
       "      <td>Object detection</td>\n",
       "      <td>S Ren, K He, R Girshick, J Sun</td>\n",
       "      <td>Highly cited</td>\n",
       "      <td>NaN</td>\n",
       "      <td>Open access (unrestricted)</td>\n",
       "      <td>https://arxiv.org/abs/1506.01497</td>\n",
       "      <td>54926.0</td>\n",
       "      <td>Faster R-CNN: Towards Real-Time Object Detecti...</td>\n",
       "      <td>...</td>\n",
       "      <td>0.000000e+00</td>\n",
       "      <td>NaN</td>\n",
       "      <td>NaN</td>\n",
       "      <td>5/29/2023 2:06pm</td>\n",
       "      <td>NaN</td>\n",
       "      <td>NaN</td>\n",
       "      <td>NaN</td>\n",
       "      <td>NaN</td>\n",
       "      <td>Open</td>\n",
       "      <td>Open</td>\n",
       "    </tr>\n",
       "    <tr>\n",
       "      <th>354</th>\n",
       "      <td>SSD</td>\n",
       "      <td>Vision</td>\n",
       "      <td>Object detection</td>\n",
       "      <td>Wei Liu, Dragomir Anguelov, Dumitru Erhan, Chr...</td>\n",
       "      <td>Highly cited</td>\n",
       "      <td>Also listed in Denis Panjuta's List of 100+ AI...</td>\n",
       "      <td>Open access (unrestricted)</td>\n",
       "      <td>https://arxiv.org/pdf/1512.02325</td>\n",
       "      <td>39468.0</td>\n",
       "      <td>SSD: Single Shot MultiBox Detector</td>\n",
       "      <td>...</td>\n",
       "      <td>-1.229100e+19</td>\n",
       "      <td>-Infinity</td>\n",
       "      <td>NaN</td>\n",
       "      <td>7/31/2024 12:00am</td>\n",
       "      <td>NaN</td>\n",
       "      <td>NaN</td>\n",
       "      <td>NaN</td>\n",
       "      <td>NaN</td>\n",
       "      <td>Open</td>\n",
       "      <td>Closed</td>\n",
       "    </tr>\n",
       "    <tr>\n",
       "      <th>407</th>\n",
       "      <td>SPIDER2</td>\n",
       "      <td>Biology</td>\n",
       "      <td>Protein folding prediction,Proteins</td>\n",
       "      <td>Yuedong Yang, Rhys Heffernan, Kuldip Paliwal, ...</td>\n",
       "      <td>SOTA improvement</td>\n",
       "      <td>The method provides state-of-the-art, all-in-o...</td>\n",
       "      <td>Open access (non-commercial)</td>\n",
       "      <td>https://link.springer.com/protocol/10.1007/978...</td>\n",
       "      <td>NaN</td>\n",
       "      <td>SPIDER2: A Package to Predict Secondary Struct...</td>\n",
       "      <td>...</td>\n",
       "      <td>1.822000e+16</td>\n",
       "      <td>100%</td>\n",
       "      <td>NaN</td>\n",
       "      <td>1/4/2024 8:36pm</td>\n",
       "      <td>NaN</td>\n",
       "      <td>NaN</td>\n",
       "      <td>NaN</td>\n",
       "      <td>NaN</td>\n",
       "      <td>Open</td>\n",
       "      <td>Closed</td>\n",
       "    </tr>\n",
       "    <tr>\n",
       "      <th>413</th>\n",
       "      <td>BIDAF</td>\n",
       "      <td>Language</td>\n",
       "      <td>Question answering</td>\n",
       "      <td>Minjoon Seo, Aniruddha Kembhavi, Ali Farhadi, ...</td>\n",
       "      <td>Highly cited,SOTA improvement</td>\n",
       "      <td>\"Our experimental evaluations show that our mo...</td>\n",
       "      <td>Open access (unrestricted)</td>\n",
       "      <td>https://arxiv.org/abs/1611.01603v6</td>\n",
       "      <td>2246.0</td>\n",
       "      <td>Bidirectional Attention Flow for Machine Compr...</td>\n",
       "      <td>...</td>\n",
       "      <td>3.468614e+18</td>\n",
       "      <td>100%</td>\n",
       "      <td>NaN</td>\n",
       "      <td>2/1/2024 1:46pm</td>\n",
       "      <td>NaN</td>\n",
       "      <td>NaN</td>\n",
       "      <td>NaN</td>\n",
       "      <td>NaN</td>\n",
       "      <td>Open</td>\n",
       "      <td>Open</td>\n",
       "    </tr>\n",
       "    <tr>\n",
       "      <th>430</th>\n",
       "      <td>YOLOv2</td>\n",
       "      <td>Vision</td>\n",
       "      <td>Object detection</td>\n",
       "      <td>Joseph Redmon, Ali Farhadi</td>\n",
       "      <td>Highly cited</td>\n",
       "      <td>NaN</td>\n",
       "      <td>Open access (non-commercial)</td>\n",
       "      <td>https://arxiv.org/abs/1612.08242</td>\n",
       "      <td>14052.0</td>\n",
       "      <td>YOLO9000: Better, Faster, Stronger</td>\n",
       "      <td>...</td>\n",
       "      <td>0.000000e+00</td>\n",
       "      <td>NaN</td>\n",
       "      <td>NaN</td>\n",
       "      <td>5/29/2023 2:06pm</td>\n",
       "      <td>NaN</td>\n",
       "      <td>NaN</td>\n",
       "      <td>NaN</td>\n",
       "      <td>NaN</td>\n",
       "      <td>Open</td>\n",
       "      <td>Closed</td>\n",
       "    </tr>\n",
       "    <tr>\n",
       "      <th>513</th>\n",
       "      <td>ULM-FiT</td>\n",
       "      <td>Language</td>\n",
       "      <td>Text classification</td>\n",
       "      <td>Jeremy Howard, Sebastian Ruder</td>\n",
       "      <td>Highly cited</td>\n",
       "      <td>NaN</td>\n",
       "      <td>Open access (unrestricted)</td>\n",
       "      <td>https://arxiv.org/abs/1801.06146</td>\n",
       "      <td>1940.0</td>\n",
       "      <td>Universal Language Model Fine-tuning for Text ...</td>\n",
       "      <td>...</td>\n",
       "      <td>2.725380e+17</td>\n",
       "      <td>100%</td>\n",
       "      <td>NaN</td>\n",
       "      <td>5/29/2023 2:06pm</td>\n",
       "      <td>NaN</td>\n",
       "      <td>NaN</td>\n",
       "      <td>NaN</td>\n",
       "      <td>NaN</td>\n",
       "      <td>Open</td>\n",
       "      <td>Open</td>\n",
       "    </tr>\n",
       "    <tr>\n",
       "      <th>529</th>\n",
       "      <td>LSTM (2018)</td>\n",
       "      <td>Language</td>\n",
       "      <td>Language modelling</td>\n",
       "      <td>Shaojie Bai, J. Zico Kolter, Vladlen Koltun</td>\n",
       "      <td>Highly cited</td>\n",
       "      <td>NaN</td>\n",
       "      <td>Open access (unrestricted)</td>\n",
       "      <td>https://arxiv.org/abs/1803.01271</td>\n",
       "      <td>4024.0</td>\n",
       "      <td>An Empirical Evaluation of Generic Convolution...</td>\n",
       "      <td>...</td>\n",
       "      <td>0.000000e+00</td>\n",
       "      <td>NaN</td>\n",
       "      <td>NaN</td>\n",
       "      <td>9/26/2023 9:12pm</td>\n",
       "      <td>NaN</td>\n",
       "      <td>NaN</td>\n",
       "      <td>NaN</td>\n",
       "      <td>NaN</td>\n",
       "      <td>Open</td>\n",
       "      <td>Open</td>\n",
       "    </tr>\n",
       "    <tr>\n",
       "      <th>539</th>\n",
       "      <td>ResNeXt-101 32x48d</td>\n",
       "      <td>Vision</td>\n",
       "      <td>Image classification</td>\n",
       "      <td>Dhruv Mahajan, Ross Girshick, Vignesh Ramanath...</td>\n",
       "      <td>Highly cited,SOTA improvement</td>\n",
       "      <td>\"We show improvements on several image classif...</td>\n",
       "      <td>Open access (non-commercial)</td>\n",
       "      <td>https://arxiv.org/abs/1805.00932</td>\n",
       "      <td>1275.0</td>\n",
       "      <td>Exploring the Limits of Weakly Supervised Pret...</td>\n",
       "      <td>...</td>\n",
       "      <td>8.743950e+21</td>\n",
       "      <td>100%</td>\n",
       "      <td>NaN</td>\n",
       "      <td>5/29/2023 2:06pm</td>\n",
       "      <td>NaN</td>\n",
       "      <td>NaN</td>\n",
       "      <td>NaN</td>\n",
       "      <td>checked</td>\n",
       "      <td>Open</td>\n",
       "      <td>Open</td>\n",
       "    </tr>\n",
       "    <tr>\n",
       "      <th>551</th>\n",
       "      <td>GPT-1</td>\n",
       "      <td>Language</td>\n",
       "      <td>Question answering,Text classification,Languag...</td>\n",
       "      <td>A Radford, K Narasimhan, T Salimans, I Sutskever</td>\n",
       "      <td>Highly cited</td>\n",
       "      <td>NaN</td>\n",
       "      <td>Open access (unrestricted)</td>\n",
       "      <td>https://openai.com/blog/language-unsupervised/</td>\n",
       "      <td>9523.0</td>\n",
       "      <td>Improving Language Understanding by Generative...</td>\n",
       "      <td>...</td>\n",
       "      <td>1.757813e+19</td>\n",
       "      <td>100%</td>\n",
       "      <td>NaN</td>\n",
       "      <td>5/29/2023 2:06pm</td>\n",
       "      <td>NaN</td>\n",
       "      <td>NaN</td>\n",
       "      <td>NaN</td>\n",
       "      <td>NaN</td>\n",
       "      <td>Open</td>\n",
       "      <td>Open</td>\n",
       "    </tr>\n",
       "    <tr>\n",
       "      <th>562</th>\n",
       "      <td>Big-Little Net</td>\n",
       "      <td>Vision</td>\n",
       "      <td>Image classification</td>\n",
       "      <td>Chun-Fu Chen, Quanfu Fan, Neil Mallinar, Tom S...</td>\n",
       "      <td>SOTA improvement</td>\n",
       "      <td>\"On object recognition task, we demonstrated t...</td>\n",
       "      <td>Open access (unrestricted)</td>\n",
       "      <td>https://arxiv.org/abs/1807.03848</td>\n",
       "      <td>90.0</td>\n",
       "      <td>Big-Little Net: An Efficient Multi-Scale Featu...</td>\n",
       "      <td>...</td>\n",
       "      <td>2.460480e+17</td>\n",
       "      <td>100%</td>\n",
       "      <td>NaN</td>\n",
       "      <td>10/4/2023 11:48am</td>\n",
       "      <td>NaN</td>\n",
       "      <td>NaN</td>\n",
       "      <td>NaN</td>\n",
       "      <td>NaN</td>\n",
       "      <td>Open</td>\n",
       "      <td>Open</td>\n",
       "    </tr>\n",
       "  </tbody>\n",
       "</table>\n",
       "<p>10 rows × 76 columns</p>\n",
       "</div>"
      ],
      "text/plain": [
       "                 System    Domain  \\\n",
       "338        Faster R-CNN    Vision   \n",
       "354                 SSD    Vision   \n",
       "407             SPIDER2   Biology   \n",
       "413               BIDAF  Language   \n",
       "430              YOLOv2    Vision   \n",
       "513             ULM-FiT  Language   \n",
       "529         LSTM (2018)  Language   \n",
       "539  ResNeXt-101 32x48d    Vision   \n",
       "551               GPT-1  Language   \n",
       "562      Big-Little Net    Vision   \n",
       "\n",
       "                                                  Task  \\\n",
       "338                                   Object detection   \n",
       "354                                   Object detection   \n",
       "407                Protein folding prediction,Proteins   \n",
       "413                                 Question answering   \n",
       "430                                   Object detection   \n",
       "513                                Text classification   \n",
       "529                                 Language modelling   \n",
       "539                               Image classification   \n",
       "551  Question answering,Text classification,Languag...   \n",
       "562                               Image classification   \n",
       "\n",
       "                                               Authors  \\\n",
       "338                     S Ren, K He, R Girshick, J Sun   \n",
       "354  Wei Liu, Dragomir Anguelov, Dumitru Erhan, Chr...   \n",
       "407  Yuedong Yang, Rhys Heffernan, Kuldip Paliwal, ...   \n",
       "413  Minjoon Seo, Aniruddha Kembhavi, Ali Farhadi, ...   \n",
       "430                         Joseph Redmon, Ali Farhadi   \n",
       "513                     Jeremy Howard, Sebastian Ruder   \n",
       "529        Shaojie Bai, J. Zico Kolter, Vladlen Koltun   \n",
       "539  Dhruv Mahajan, Ross Girshick, Vignesh Ramanath...   \n",
       "551   A Radford, K Narasimhan, T Salimans, I Sutskever   \n",
       "562  Chun-Fu Chen, Quanfu Fan, Neil Mallinar, Tom S...   \n",
       "\n",
       "               Notability criteria  \\\n",
       "338                   Highly cited   \n",
       "354                   Highly cited   \n",
       "407               SOTA improvement   \n",
       "413  Highly cited,SOTA improvement   \n",
       "430                   Highly cited   \n",
       "513                   Highly cited   \n",
       "529                   Highly cited   \n",
       "539  Highly cited,SOTA improvement   \n",
       "551                   Highly cited   \n",
       "562               SOTA improvement   \n",
       "\n",
       "                             Notability criteria notes  \\\n",
       "338                                                NaN   \n",
       "354  Also listed in Denis Panjuta's List of 100+ AI...   \n",
       "407  The method provides state-of-the-art, all-in-o...   \n",
       "413  \"Our experimental evaluations show that our mo...   \n",
       "430                                                NaN   \n",
       "513                                                NaN   \n",
       "529                                                NaN   \n",
       "539  \"We show improvements on several image classif...   \n",
       "551                                                NaN   \n",
       "562  \"On object recognition task, we demonstrated t...   \n",
       "\n",
       "              Model accessibility  \\\n",
       "338    Open access (unrestricted)   \n",
       "354    Open access (unrestricted)   \n",
       "407  Open access (non-commercial)   \n",
       "413    Open access (unrestricted)   \n",
       "430  Open access (non-commercial)   \n",
       "513    Open access (unrestricted)   \n",
       "529    Open access (unrestricted)   \n",
       "539  Open access (non-commercial)   \n",
       "551    Open access (unrestricted)   \n",
       "562    Open access (unrestricted)   \n",
       "\n",
       "                                                  Link  Citations  \\\n",
       "338                   https://arxiv.org/abs/1506.01497    54926.0   \n",
       "354                   https://arxiv.org/pdf/1512.02325    39468.0   \n",
       "407  https://link.springer.com/protocol/10.1007/978...        NaN   \n",
       "413                 https://arxiv.org/abs/1611.01603v6     2246.0   \n",
       "430                   https://arxiv.org/abs/1612.08242    14052.0   \n",
       "513                   https://arxiv.org/abs/1801.06146     1940.0   \n",
       "529                   https://arxiv.org/abs/1803.01271     4024.0   \n",
       "539                   https://arxiv.org/abs/1805.00932     1275.0   \n",
       "551     https://openai.com/blog/language-unsupervised/     9523.0   \n",
       "562                   https://arxiv.org/abs/1807.03848       90.0   \n",
       "\n",
       "                                             Reference  ...    Difference  \\\n",
       "338  Faster R-CNN: Towards Real-Time Object Detecti...  ...  0.000000e+00   \n",
       "354                 SSD: Single Shot MultiBox Detector  ... -1.229100e+19   \n",
       "407  SPIDER2: A Package to Predict Secondary Struct...  ...  1.822000e+16   \n",
       "413  Bidirectional Attention Flow for Machine Compr...  ...  3.468614e+18   \n",
       "430                 YOLO9000: Better, Faster, Stronger  ...  0.000000e+00   \n",
       "513  Universal Language Model Fine-tuning for Text ...  ...  2.725380e+17   \n",
       "529  An Empirical Evaluation of Generic Convolution...  ...  0.000000e+00   \n",
       "539  Exploring the Limits of Weakly Supervised Pret...  ...  8.743950e+21   \n",
       "551  Improving Language Understanding by Generative...  ...  1.757813e+19   \n",
       "562  Big-Little Net: An Efficient Multi-Scale Featu...  ...  2.460480e+17   \n",
       "\n",
       "    Difference (share)  API prices            Created  \\\n",
       "338                NaN         NaN   5/29/2023 2:06pm   \n",
       "354          -Infinity         NaN  7/31/2024 12:00am   \n",
       "407               100%         NaN    1/4/2024 8:36pm   \n",
       "413               100%         NaN    2/1/2024 1:46pm   \n",
       "430                NaN         NaN   5/29/2023 2:06pm   \n",
       "513               100%         NaN   5/29/2023 2:06pm   \n",
       "529                NaN         NaN   9/26/2023 9:12pm   \n",
       "539               100%         NaN   5/29/2023 2:06pm   \n",
       "551               100%         NaN   5/29/2023 2:06pm   \n",
       "562               100%         NaN  10/4/2023 11:48am   \n",
       "\n",
       "     Inference code accessibility Arithmetic format Model versions  \\\n",
       "338                           NaN               NaN            NaN   \n",
       "354                           NaN               NaN            NaN   \n",
       "407                           NaN               NaN            NaN   \n",
       "413                           NaN               NaN            NaN   \n",
       "430                           NaN               NaN            NaN   \n",
       "513                           NaN               NaN            NaN   \n",
       "529                           NaN               NaN            NaN   \n",
       "539                           NaN               NaN            NaN   \n",
       "551                           NaN               NaN            NaN   \n",
       "562                           NaN               NaN            NaN   \n",
       "\n",
       "    Frontier model  Model open/closed Code open/closed  \n",
       "338            NaN               Open             Open  \n",
       "354            NaN               Open           Closed  \n",
       "407            NaN               Open           Closed  \n",
       "413            NaN               Open             Open  \n",
       "430            NaN               Open           Closed  \n",
       "513            NaN               Open             Open  \n",
       "529            NaN               Open             Open  \n",
       "539        checked               Open             Open  \n",
       "551            NaN               Open             Open  \n",
       "562            NaN               Open             Open  \n",
       "\n",
       "[10 rows x 76 columns]"
      ]
     },
     "execution_count": 8,
     "metadata": {},
     "output_type": "execute_result"
    }
   ],
   "source": [
    "notable = open_df.loc[(open_df['Notability criteria'].notna())]\n",
    "print(len(notable))\n",
    "notable.head(10)"
   ]
  },
  {
   "cell_type": "code",
   "execution_count": 9,
   "metadata": {
    "tags": []
   },
   "outputs": [
    {
     "name": "stdout",
     "output_type": "stream",
     "text": [
      "263\n"
     ]
    },
    {
     "data": {
      "text/html": [
       "<div>\n",
       "<style scoped>\n",
       "    .dataframe tbody tr th:only-of-type {\n",
       "        vertical-align: middle;\n",
       "    }\n",
       "\n",
       "    .dataframe tbody tr th {\n",
       "        vertical-align: top;\n",
       "    }\n",
       "\n",
       "    .dataframe thead th {\n",
       "        text-align: right;\n",
       "    }\n",
       "</style>\n",
       "<table border=\"1\" class=\"dataframe\">\n",
       "  <thead>\n",
       "    <tr style=\"text-align: right;\">\n",
       "      <th></th>\n",
       "      <th>System</th>\n",
       "      <th>Domain</th>\n",
       "      <th>Task</th>\n",
       "      <th>Authors</th>\n",
       "      <th>Notability criteria</th>\n",
       "      <th>Notability criteria notes</th>\n",
       "      <th>Model accessibility</th>\n",
       "      <th>Link</th>\n",
       "      <th>Citations</th>\n",
       "      <th>Reference</th>\n",
       "      <th>...</th>\n",
       "      <th>Difference</th>\n",
       "      <th>Difference (share)</th>\n",
       "      <th>API prices</th>\n",
       "      <th>Created</th>\n",
       "      <th>Inference code accessibility</th>\n",
       "      <th>Arithmetic format</th>\n",
       "      <th>Model versions</th>\n",
       "      <th>Frontier model</th>\n",
       "      <th>Model open/closed</th>\n",
       "      <th>Code open/closed</th>\n",
       "    </tr>\n",
       "  </thead>\n",
       "  <tbody>\n",
       "    <tr>\n",
       "      <th>341</th>\n",
       "      <td>Skip-Thoughts</td>\n",
       "      <td>Language</td>\n",
       "      <td>Language modelling</td>\n",
       "      <td>Ryan Kiros, Yukun Zhu, Ruslan Salakhutdinov, R...</td>\n",
       "      <td>NaN</td>\n",
       "      <td>NaN</td>\n",
       "      <td>Open access (unrestricted)</td>\n",
       "      <td>https://arxiv.org/abs/1506.06726</td>\n",
       "      <td>NaN</td>\n",
       "      <td>Skip-Thought Vectors</td>\n",
       "      <td>...</td>\n",
       "      <td>0.000000e+00</td>\n",
       "      <td>NaN</td>\n",
       "      <td>NaN</td>\n",
       "      <td>5/9/2024 9:26am</td>\n",
       "      <td>NaN</td>\n",
       "      <td>NaN</td>\n",
       "      <td>NaN</td>\n",
       "      <td>NaN</td>\n",
       "      <td>Open</td>\n",
       "      <td>Open</td>\n",
       "    </tr>\n",
       "    <tr>\n",
       "      <th>348</th>\n",
       "      <td>The Attentive Reader</td>\n",
       "      <td>Language</td>\n",
       "      <td>Question answering</td>\n",
       "      <td>Karl Moritz Hermann, Tomáš Kočiský, Edward Gre...</td>\n",
       "      <td>NaN</td>\n",
       "      <td>NaN</td>\n",
       "      <td>Open access (unrestricted)</td>\n",
       "      <td>https://arxiv.org/abs/1506.03340</td>\n",
       "      <td>NaN</td>\n",
       "      <td>Teaching Machines to Read and Comprehend</td>\n",
       "      <td>...</td>\n",
       "      <td>0.000000e+00</td>\n",
       "      <td>NaN</td>\n",
       "      <td>NaN</td>\n",
       "      <td>5/9/2024 9:03am</td>\n",
       "      <td>NaN</td>\n",
       "      <td>NaN</td>\n",
       "      <td>NaN</td>\n",
       "      <td>NaN</td>\n",
       "      <td>Open</td>\n",
       "      <td>Open</td>\n",
       "    </tr>\n",
       "    <tr>\n",
       "      <th>366</th>\n",
       "      <td>Order-Embeddings of Images and Language</td>\n",
       "      <td>Vision</td>\n",
       "      <td>Image captioning</td>\n",
       "      <td>Ivan Vendrov, Ryan Kiros, Sanja Fidler, Raquel...</td>\n",
       "      <td>NaN</td>\n",
       "      <td>NaN</td>\n",
       "      <td>Open access (unrestricted)</td>\n",
       "      <td>https://arxiv.org/abs/1511.06361</td>\n",
       "      <td>NaN</td>\n",
       "      <td>Order-Embeddings of Images and Language</td>\n",
       "      <td>...</td>\n",
       "      <td>0.000000e+00</td>\n",
       "      <td>NaN</td>\n",
       "      <td>NaN</td>\n",
       "      <td>5/9/2024 8:43am</td>\n",
       "      <td>NaN</td>\n",
       "      <td>NaN</td>\n",
       "      <td>NaN</td>\n",
       "      <td>NaN</td>\n",
       "      <td>Open</td>\n",
       "      <td>Open</td>\n",
       "    </tr>\n",
       "    <tr>\n",
       "      <th>441</th>\n",
       "      <td>AlexNet + coordinating filters</td>\n",
       "      <td>Vision</td>\n",
       "      <td>Image classification</td>\n",
       "      <td>Wei Wen, Cong Xu, Chunpeng Wu, Yandan Wang, Yi...</td>\n",
       "      <td>NaN</td>\n",
       "      <td>NaN</td>\n",
       "      <td>Open access (unrestricted)</td>\n",
       "      <td>https://arxiv.org/abs/1703.09746</td>\n",
       "      <td>172.0</td>\n",
       "      <td>Coordinating Filters for Faster Deep Neural Ne...</td>\n",
       "      <td>...</td>\n",
       "      <td>1.557140e+18</td>\n",
       "      <td>100%</td>\n",
       "      <td>NaN</td>\n",
       "      <td>2/7/2024 11:30am</td>\n",
       "      <td>NaN</td>\n",
       "      <td>NaN</td>\n",
       "      <td>NaN</td>\n",
       "      <td>NaN</td>\n",
       "      <td>Open</td>\n",
       "      <td>Open</td>\n",
       "    </tr>\n",
       "    <tr>\n",
       "      <th>536</th>\n",
       "      <td>TF-LM-discourse LSTM (WT2)</td>\n",
       "      <td>Language</td>\n",
       "      <td>Language modelling</td>\n",
       "      <td>Lyan Verwimp, Hugo Van hamme, Patrick Wambacq</td>\n",
       "      <td>NaN</td>\n",
       "      <td>NaN</td>\n",
       "      <td>Open access (unrestricted)</td>\n",
       "      <td>https://aclanthology.org/L18-1470.pdf</td>\n",
       "      <td>12.0</td>\n",
       "      <td>TF-LM: TensorFlow-based Language Modeling Toolkit</td>\n",
       "      <td>...</td>\n",
       "      <td>0.000000e+00</td>\n",
       "      <td>NaN</td>\n",
       "      <td>NaN</td>\n",
       "      <td>9/26/2023 9:12pm</td>\n",
       "      <td>NaN</td>\n",
       "      <td>NaN</td>\n",
       "      <td>NaN</td>\n",
       "      <td>NaN</td>\n",
       "      <td>Open</td>\n",
       "      <td>Open</td>\n",
       "    </tr>\n",
       "    <tr>\n",
       "      <th>537</th>\n",
       "      <td>TF-LM-discourse LSTM (PTB)</td>\n",
       "      <td>Language</td>\n",
       "      <td>Language modelling</td>\n",
       "      <td>Lyan Verwimp, Hugo Van hamme, Patrick Wambacq</td>\n",
       "      <td>NaN</td>\n",
       "      <td>NaN</td>\n",
       "      <td>Open access (unrestricted)</td>\n",
       "      <td>https://aclanthology.org/L18-1470.pdf</td>\n",
       "      <td>12.0</td>\n",
       "      <td>TF-LM: TensorFlow-based Language Modeling Toolkit</td>\n",
       "      <td>...</td>\n",
       "      <td>0.000000e+00</td>\n",
       "      <td>NaN</td>\n",
       "      <td>NaN</td>\n",
       "      <td>9/26/2023 9:12pm</td>\n",
       "      <td>NaN</td>\n",
       "      <td>NaN</td>\n",
       "      <td>NaN</td>\n",
       "      <td>NaN</td>\n",
       "      <td>Open</td>\n",
       "      <td>Open</td>\n",
       "    </tr>\n",
       "    <tr>\n",
       "      <th>538</th>\n",
       "      <td>DNCON2</td>\n",
       "      <td>Biology</td>\n",
       "      <td>Proteins,Protein folding prediction</td>\n",
       "      <td>Badri Adhikari, Jie Hou, Jianlin Cheng</td>\n",
       "      <td>NaN</td>\n",
       "      <td>NaN</td>\n",
       "      <td>Open access (unrestricted)</td>\n",
       "      <td>https://academic.oup.com/bioinformatics/articl...</td>\n",
       "      <td>173.0</td>\n",
       "      <td>DNCON2: improved protein contact prediction us...</td>\n",
       "      <td>...</td>\n",
       "      <td>9.500000e+16</td>\n",
       "      <td>100%</td>\n",
       "      <td>NaN</td>\n",
       "      <td>1/4/2024 7:20am</td>\n",
       "      <td>NaN</td>\n",
       "      <td>NaN</td>\n",
       "      <td>NaN</td>\n",
       "      <td>NaN</td>\n",
       "      <td>Open</td>\n",
       "      <td>Open</td>\n",
       "    </tr>\n",
       "    <tr>\n",
       "      <th>555</th>\n",
       "      <td>DARTS (second order)</td>\n",
       "      <td>Language</td>\n",
       "      <td>Language modelling,Architecture search</td>\n",
       "      <td>Hanxiao Liu, Karen Simonyan, Yiming Yang</td>\n",
       "      <td>NaN</td>\n",
       "      <td>NaN</td>\n",
       "      <td>Open access (unrestricted)</td>\n",
       "      <td>https://arxiv.org/abs/1806.09055</td>\n",
       "      <td>NaN</td>\n",
       "      <td>DARTS: Differentiable Architecture Search</td>\n",
       "      <td>...</td>\n",
       "      <td>0.000000e+00</td>\n",
       "      <td>NaN</td>\n",
       "      <td>NaN</td>\n",
       "      <td>11/1/2023 9:05pm</td>\n",
       "      <td>NaN</td>\n",
       "      <td>NaN</td>\n",
       "      <td>NaN</td>\n",
       "      <td>NaN</td>\n",
       "      <td>Open</td>\n",
       "      <td>Open</td>\n",
       "    </tr>\n",
       "    <tr>\n",
       "      <th>563</th>\n",
       "      <td>Big-Little Net (vision)</td>\n",
       "      <td>Vision</td>\n",
       "      <td>Object recognition</td>\n",
       "      <td>Chun-Fu (Richard) Chen, Quanfu Fan, Neil Malli...</td>\n",
       "      <td>NaN</td>\n",
       "      <td>NaN</td>\n",
       "      <td>Open access (unrestricted)</td>\n",
       "      <td>https://arxiv.org/abs/1807.03848</td>\n",
       "      <td>97.0</td>\n",
       "      <td>BIG-LITTLE NET: AN EFFICIENT MULTI-SCALE FEATU...</td>\n",
       "      <td>...</td>\n",
       "      <td>6.298829e+19</td>\n",
       "      <td>100%</td>\n",
       "      <td>NaN</td>\n",
       "      <td>1/22/2024 8:02am</td>\n",
       "      <td>NaN</td>\n",
       "      <td>NaN</td>\n",
       "      <td>NaN</td>\n",
       "      <td>NaN</td>\n",
       "      <td>Open</td>\n",
       "      <td>Open</td>\n",
       "    </tr>\n",
       "    <tr>\n",
       "      <th>571</th>\n",
       "      <td>(ensemble): AWD-LSTM-DOC (fin) × 5 (PTB)</td>\n",
       "      <td>Language</td>\n",
       "      <td>Language modelling</td>\n",
       "      <td>Sho Takase, Jun Suzuki, Masaaki Nagata</td>\n",
       "      <td>NaN</td>\n",
       "      <td>NaN</td>\n",
       "      <td>Open access (unrestricted)</td>\n",
       "      <td>https://arxiv.org/abs/1808.10143</td>\n",
       "      <td>NaN</td>\n",
       "      <td>Direct Output Connection for a High-Rank Langu...</td>\n",
       "      <td>...</td>\n",
       "      <td>0.000000e+00</td>\n",
       "      <td>NaN</td>\n",
       "      <td>NaN</td>\n",
       "      <td>11/1/2023 9:05pm</td>\n",
       "      <td>NaN</td>\n",
       "      <td>NaN</td>\n",
       "      <td>NaN</td>\n",
       "      <td>NaN</td>\n",
       "      <td>Open</td>\n",
       "      <td>Open</td>\n",
       "    </tr>\n",
       "  </tbody>\n",
       "</table>\n",
       "<p>10 rows × 76 columns</p>\n",
       "</div>"
      ],
      "text/plain": [
       "                                       System    Domain  \\\n",
       "341                             Skip-Thoughts  Language   \n",
       "348                      The Attentive Reader  Language   \n",
       "366   Order-Embeddings of Images and Language    Vision   \n",
       "441            AlexNet + coordinating filters    Vision   \n",
       "536                TF-LM-discourse LSTM (WT2)  Language   \n",
       "537                TF-LM-discourse LSTM (PTB)  Language   \n",
       "538                                    DNCON2   Biology   \n",
       "555                      DARTS (second order)  Language   \n",
       "563                   Big-Little Net (vision)    Vision   \n",
       "571  (ensemble): AWD-LSTM-DOC (fin) × 5 (PTB)  Language   \n",
       "\n",
       "                                       Task  \\\n",
       "341                      Language modelling   \n",
       "348                      Question answering   \n",
       "366                        Image captioning   \n",
       "441                    Image classification   \n",
       "536                      Language modelling   \n",
       "537                      Language modelling   \n",
       "538     Proteins,Protein folding prediction   \n",
       "555  Language modelling,Architecture search   \n",
       "563                      Object recognition   \n",
       "571                      Language modelling   \n",
       "\n",
       "                                               Authors Notability criteria  \\\n",
       "341  Ryan Kiros, Yukun Zhu, Ruslan Salakhutdinov, R...                 NaN   \n",
       "348  Karl Moritz Hermann, Tomáš Kočiský, Edward Gre...                 NaN   \n",
       "366  Ivan Vendrov, Ryan Kiros, Sanja Fidler, Raquel...                 NaN   \n",
       "441  Wei Wen, Cong Xu, Chunpeng Wu, Yandan Wang, Yi...                 NaN   \n",
       "536      Lyan Verwimp, Hugo Van hamme, Patrick Wambacq                 NaN   \n",
       "537      Lyan Verwimp, Hugo Van hamme, Patrick Wambacq                 NaN   \n",
       "538             Badri Adhikari, Jie Hou, Jianlin Cheng                 NaN   \n",
       "555           Hanxiao Liu, Karen Simonyan, Yiming Yang                 NaN   \n",
       "563  Chun-Fu (Richard) Chen, Quanfu Fan, Neil Malli...                 NaN   \n",
       "571             Sho Takase, Jun Suzuki, Masaaki Nagata                 NaN   \n",
       "\n",
       "    Notability criteria notes         Model accessibility  \\\n",
       "341                       NaN  Open access (unrestricted)   \n",
       "348                       NaN  Open access (unrestricted)   \n",
       "366                       NaN  Open access (unrestricted)   \n",
       "441                       NaN  Open access (unrestricted)   \n",
       "536                       NaN  Open access (unrestricted)   \n",
       "537                       NaN  Open access (unrestricted)   \n",
       "538                       NaN  Open access (unrestricted)   \n",
       "555                       NaN  Open access (unrestricted)   \n",
       "563                       NaN  Open access (unrestricted)   \n",
       "571                       NaN  Open access (unrestricted)   \n",
       "\n",
       "                                                  Link  Citations  \\\n",
       "341                   https://arxiv.org/abs/1506.06726        NaN   \n",
       "348                   https://arxiv.org/abs/1506.03340        NaN   \n",
       "366                   https://arxiv.org/abs/1511.06361        NaN   \n",
       "441                   https://arxiv.org/abs/1703.09746      172.0   \n",
       "536              https://aclanthology.org/L18-1470.pdf       12.0   \n",
       "537              https://aclanthology.org/L18-1470.pdf       12.0   \n",
       "538  https://academic.oup.com/bioinformatics/articl...      173.0   \n",
       "555                   https://arxiv.org/abs/1806.09055        NaN   \n",
       "563                   https://arxiv.org/abs/1807.03848       97.0   \n",
       "571                   https://arxiv.org/abs/1808.10143        NaN   \n",
       "\n",
       "                                             Reference  ...    Difference  \\\n",
       "341                               Skip-Thought Vectors  ...  0.000000e+00   \n",
       "348           Teaching Machines to Read and Comprehend  ...  0.000000e+00   \n",
       "366            Order-Embeddings of Images and Language  ...  0.000000e+00   \n",
       "441  Coordinating Filters for Faster Deep Neural Ne...  ...  1.557140e+18   \n",
       "536  TF-LM: TensorFlow-based Language Modeling Toolkit  ...  0.000000e+00   \n",
       "537  TF-LM: TensorFlow-based Language Modeling Toolkit  ...  0.000000e+00   \n",
       "538  DNCON2: improved protein contact prediction us...  ...  9.500000e+16   \n",
       "555          DARTS: Differentiable Architecture Search  ...  0.000000e+00   \n",
       "563  BIG-LITTLE NET: AN EFFICIENT MULTI-SCALE FEATU...  ...  6.298829e+19   \n",
       "571  Direct Output Connection for a High-Rank Langu...  ...  0.000000e+00   \n",
       "\n",
       "    Difference (share)  API prices           Created  \\\n",
       "341                NaN         NaN   5/9/2024 9:26am   \n",
       "348                NaN         NaN   5/9/2024 9:03am   \n",
       "366                NaN         NaN   5/9/2024 8:43am   \n",
       "441               100%         NaN  2/7/2024 11:30am   \n",
       "536                NaN         NaN  9/26/2023 9:12pm   \n",
       "537                NaN         NaN  9/26/2023 9:12pm   \n",
       "538               100%         NaN   1/4/2024 7:20am   \n",
       "555                NaN         NaN  11/1/2023 9:05pm   \n",
       "563               100%         NaN  1/22/2024 8:02am   \n",
       "571                NaN         NaN  11/1/2023 9:05pm   \n",
       "\n",
       "     Inference code accessibility Arithmetic format Model versions  \\\n",
       "341                           NaN               NaN            NaN   \n",
       "348                           NaN               NaN            NaN   \n",
       "366                           NaN               NaN            NaN   \n",
       "441                           NaN               NaN            NaN   \n",
       "536                           NaN               NaN            NaN   \n",
       "537                           NaN               NaN            NaN   \n",
       "538                           NaN               NaN            NaN   \n",
       "555                           NaN               NaN            NaN   \n",
       "563                           NaN               NaN            NaN   \n",
       "571                           NaN               NaN            NaN   \n",
       "\n",
       "    Frontier model  Model open/closed Code open/closed  \n",
       "341            NaN               Open             Open  \n",
       "348            NaN               Open             Open  \n",
       "366            NaN               Open             Open  \n",
       "441            NaN               Open             Open  \n",
       "536            NaN               Open             Open  \n",
       "537            NaN               Open             Open  \n",
       "538            NaN               Open             Open  \n",
       "555            NaN               Open             Open  \n",
       "563            NaN               Open             Open  \n",
       "571            NaN               Open             Open  \n",
       "\n",
       "[10 rows x 76 columns]"
      ]
     },
     "execution_count": 9,
     "metadata": {},
     "output_type": "execute_result"
    }
   ],
   "source": [
    "non_notable = open_df.loc[(open_df['Notability criteria'].isna())]\n",
    "print(len(non_notable))\n",
    "non_notable.head(10)\n",
    "# 251 open but not \"notable\"\n",
    "# some of these are clearly lower-n notable, like Qwen2, DBRX, Gemma 2, DeepSeek coder\n",
    "# possible other criteria - within 1 (or 1.5 or 2) OOM training compute of frontier (1.5 OOM is ~1e24 right now)\n",
    "# greater than 1000 (or 1100) on chatbot arena?"
   ]
  },
  {
   "cell_type": "code",
   "execution_count": 10,
   "metadata": {
    "tags": []
   },
   "outputs": [
    {
     "name": "stdout",
     "output_type": "stream",
     "text": [
      "Models that are not fine-tunes:  402\n",
      "Models that are fine-tunes:  82\n"
     ]
    },
    {
     "data": {
      "text/html": [
       "<div>\n",
       "<style scoped>\n",
       "    .dataframe tbody tr th:only-of-type {\n",
       "        vertical-align: middle;\n",
       "    }\n",
       "\n",
       "    .dataframe tbody tr th {\n",
       "        vertical-align: top;\n",
       "    }\n",
       "\n",
       "    .dataframe thead th {\n",
       "        text-align: right;\n",
       "    }\n",
       "</style>\n",
       "<table border=\"1\" class=\"dataframe\">\n",
       "  <thead>\n",
       "    <tr style=\"text-align: right;\">\n",
       "      <th></th>\n",
       "      <th>System</th>\n",
       "      <th>Domain</th>\n",
       "      <th>Task</th>\n",
       "      <th>Authors</th>\n",
       "      <th>Notability criteria</th>\n",
       "      <th>Notability criteria notes</th>\n",
       "      <th>Model accessibility</th>\n",
       "      <th>Link</th>\n",
       "      <th>Citations</th>\n",
       "      <th>Reference</th>\n",
       "      <th>...</th>\n",
       "      <th>Difference</th>\n",
       "      <th>Difference (share)</th>\n",
       "      <th>API prices</th>\n",
       "      <th>Created</th>\n",
       "      <th>Inference code accessibility</th>\n",
       "      <th>Arithmetic format</th>\n",
       "      <th>Model versions</th>\n",
       "      <th>Frontier model</th>\n",
       "      <th>Model open/closed</th>\n",
       "      <th>Code open/closed</th>\n",
       "    </tr>\n",
       "  </thead>\n",
       "  <tbody>\n",
       "    <tr>\n",
       "      <th>354</th>\n",
       "      <td>SSD</td>\n",
       "      <td>Vision</td>\n",
       "      <td>Object detection</td>\n",
       "      <td>Wei Liu, Dragomir Anguelov, Dumitru Erhan, Chr...</td>\n",
       "      <td>Highly cited</td>\n",
       "      <td>Also listed in Denis Panjuta's List of 100+ AI...</td>\n",
       "      <td>Open access (unrestricted)</td>\n",
       "      <td>https://arxiv.org/pdf/1512.02325</td>\n",
       "      <td>39468.0</td>\n",
       "      <td>SSD: Single Shot MultiBox Detector</td>\n",
       "      <td>...</td>\n",
       "      <td>-1.229100e+19</td>\n",
       "      <td>-Infinity</td>\n",
       "      <td>NaN</td>\n",
       "      <td>7/31/2024 12:00am</td>\n",
       "      <td>NaN</td>\n",
       "      <td>NaN</td>\n",
       "      <td>NaN</td>\n",
       "      <td>NaN</td>\n",
       "      <td>Open</td>\n",
       "      <td>Closed</td>\n",
       "    </tr>\n",
       "    <tr>\n",
       "      <th>513</th>\n",
       "      <td>ULM-FiT</td>\n",
       "      <td>Language</td>\n",
       "      <td>Text classification</td>\n",
       "      <td>Jeremy Howard, Sebastian Ruder</td>\n",
       "      <td>Highly cited</td>\n",
       "      <td>NaN</td>\n",
       "      <td>Open access (unrestricted)</td>\n",
       "      <td>https://arxiv.org/abs/1801.06146</td>\n",
       "      <td>1940.0</td>\n",
       "      <td>Universal Language Model Fine-tuning for Text ...</td>\n",
       "      <td>...</td>\n",
       "      <td>2.725380e+17</td>\n",
       "      <td>100%</td>\n",
       "      <td>NaN</td>\n",
       "      <td>5/29/2023 2:06pm</td>\n",
       "      <td>NaN</td>\n",
       "      <td>NaN</td>\n",
       "      <td>NaN</td>\n",
       "      <td>NaN</td>\n",
       "      <td>Open</td>\n",
       "      <td>Open</td>\n",
       "    </tr>\n",
       "    <tr>\n",
       "      <th>620</th>\n",
       "      <td>Cross-lingual alignment</td>\n",
       "      <td>Language</td>\n",
       "      <td>Translation</td>\n",
       "      <td>Tal Schuster, Ori Ram, Regina Barzilay, and Am...</td>\n",
       "      <td>SOTA improvement</td>\n",
       "      <td>\"our method consistently outperforms the previ...</td>\n",
       "      <td>Open access (unrestricted)</td>\n",
       "      <td>https://arxiv.org/abs/1902.09492</td>\n",
       "      <td>196.0</td>\n",
       "      <td>Cross-lingual alignment of contextual word emb...</td>\n",
       "      <td>...</td>\n",
       "      <td>2.560000e+18</td>\n",
       "      <td>100%</td>\n",
       "      <td>NaN</td>\n",
       "      <td>5/29/2023 2:06pm</td>\n",
       "      <td>NaN</td>\n",
       "      <td>NaN</td>\n",
       "      <td>NaN</td>\n",
       "      <td>NaN</td>\n",
       "      <td>Open</td>\n",
       "      <td>Open</td>\n",
       "    </tr>\n",
       "    <tr>\n",
       "      <th>740</th>\n",
       "      <td>Theseus 6/768</td>\n",
       "      <td>Language</td>\n",
       "      <td>Text autocompletion</td>\n",
       "      <td>Canwen Xu, Wangchunshu Zhou, Tao Ge, Furu Wei,...</td>\n",
       "      <td>SOTA improvement</td>\n",
       "      <td>\"Our approach outperforms existing knowledge d...</td>\n",
       "      <td>Open access (unrestricted)</td>\n",
       "      <td>https://arxiv.org/abs/2002.02925</td>\n",
       "      <td>183.0</td>\n",
       "      <td>BERT-of-Theseus: Compressing BERT by Progressi...</td>\n",
       "      <td>...</td>\n",
       "      <td>-2.877000e+20</td>\n",
       "      <td>-Infinity</td>\n",
       "      <td>NaN</td>\n",
       "      <td>5/29/2023 2:06pm</td>\n",
       "      <td>NaN</td>\n",
       "      <td>NaN</td>\n",
       "      <td>NaN</td>\n",
       "      <td>NaN</td>\n",
       "      <td>Open</td>\n",
       "      <td>Open</td>\n",
       "    </tr>\n",
       "    <tr>\n",
       "      <th>890</th>\n",
       "      <td>Unicorn</td>\n",
       "      <td>Language</td>\n",
       "      <td>Question answering</td>\n",
       "      <td>Nicholas Lourie, Ronan Le Bras, Chandra Bhagav...</td>\n",
       "      <td>NaN</td>\n",
       "      <td>NaN</td>\n",
       "      <td>Open access (unrestricted)</td>\n",
       "      <td>https://arxiv.org/abs/2103.13009</td>\n",
       "      <td>NaN</td>\n",
       "      <td>UNICORN on RAINBOW: A Universal Commonsense Re...</td>\n",
       "      <td>...</td>\n",
       "      <td>0.000000e+00</td>\n",
       "      <td>0%</td>\n",
       "      <td>NaN</td>\n",
       "      <td>5/8/2024 2:32am</td>\n",
       "      <td>NaN</td>\n",
       "      <td>NaN</td>\n",
       "      <td>NaN</td>\n",
       "      <td>NaN</td>\n",
       "      <td>Open</td>\n",
       "      <td>Open</td>\n",
       "    </tr>\n",
       "    <tr>\n",
       "      <th>961</th>\n",
       "      <td>AlphaFold-Multimer</td>\n",
       "      <td>Biology</td>\n",
       "      <td>Protein folding prediction,Proteins</td>\n",
       "      <td>Richard Evans, Michael O’Neill, Alexander Prit...</td>\n",
       "      <td>Highly cited,SOTA improvement</td>\n",
       "      <td>\"On a benchmark dataset of 17 heterodimer prot...</td>\n",
       "      <td>Open access (unrestricted)</td>\n",
       "      <td>https://www.biorxiv.org/content/10.1101/2021.1...</td>\n",
       "      <td>1640.0</td>\n",
       "      <td>Protein complex prediction with AlphaFold-Mult...</td>\n",
       "      <td>...</td>\n",
       "      <td>1.360000e+21</td>\n",
       "      <td>31%</td>\n",
       "      <td>NaN</td>\n",
       "      <td>1/4/2024 1:21am</td>\n",
       "      <td>NaN</td>\n",
       "      <td>NaN</td>\n",
       "      <td>NaN</td>\n",
       "      <td>NaN</td>\n",
       "      <td>Open</td>\n",
       "      <td>Open</td>\n",
       "    </tr>\n",
       "    <tr>\n",
       "      <th>986</th>\n",
       "      <td>Masked Autoencoders</td>\n",
       "      <td>Vision</td>\n",
       "      <td>Semantic segmentation,Image classification,Ima...</td>\n",
       "      <td>Kaiming He, Xinlei Chen, Saining Xie, Yanghao ...</td>\n",
       "      <td>Highly cited,SOTA improvement</td>\n",
       "      <td>\"By fine-tuning with a 448 size, we achieve 87...</td>\n",
       "      <td>Open access (non-commercial)</td>\n",
       "      <td>https://arxiv.org/abs/2111.06377</td>\n",
       "      <td>5356.0</td>\n",
       "      <td>Masked Autoencoders Are Scalable Vision Learners</td>\n",
       "      <td>...</td>\n",
       "      <td>-3.802000e+21</td>\n",
       "      <td>-827%</td>\n",
       "      <td>NaN</td>\n",
       "      <td>4/10/2024 6:06pm</td>\n",
       "      <td>NaN</td>\n",
       "      <td>NaN</td>\n",
       "      <td>NaN</td>\n",
       "      <td>NaN</td>\n",
       "      <td>Open</td>\n",
       "      <td>Open</td>\n",
       "    </tr>\n",
       "    <tr>\n",
       "      <th>1006</th>\n",
       "      <td>Engine-XL(NE)</td>\n",
       "      <td>Language,Vision,Multimodal</td>\n",
       "      <td>Named entity recognition</td>\n",
       "      <td>Zhongping Zhang, Yiwen Gu, Bryan A. Plummer</td>\n",
       "      <td>NaN</td>\n",
       "      <td>NaN</td>\n",
       "      <td>Open access (unrestricted)</td>\n",
       "      <td>https://arxiv.org/abs/2112.05917</td>\n",
       "      <td>2.0</td>\n",
       "      <td>Show and Write: Entity-aware Article Generatio...</td>\n",
       "      <td>...</td>\n",
       "      <td>-1.920000e+21</td>\n",
       "      <td>-Infinity</td>\n",
       "      <td>NaN</td>\n",
       "      <td>9/26/2023 9:12pm</td>\n",
       "      <td>NaN</td>\n",
       "      <td>NaN</td>\n",
       "      <td>NaN</td>\n",
       "      <td>NaN</td>\n",
       "      <td>Open</td>\n",
       "      <td>Open</td>\n",
       "    </tr>\n",
       "    <tr>\n",
       "      <th>1013</th>\n",
       "      <td>Contriever</td>\n",
       "      <td>Language</td>\n",
       "      <td>Language modelling</td>\n",
       "      <td>Gautier Izacard, Mathilde Caron, Lucas Hossein...</td>\n",
       "      <td>SOTA improvement</td>\n",
       "      <td>\"We observe that when\\nused as pre-training, c...</td>\n",
       "      <td>Open access (non-commercial)</td>\n",
       "      <td>https://arxiv.org/abs/2112.09118</td>\n",
       "      <td>506.0</td>\n",
       "      <td>Unsupervised Dense Information Retrieval with ...</td>\n",
       "      <td>...</td>\n",
       "      <td>-1.280000e+20</td>\n",
       "      <td>-82%</td>\n",
       "      <td>NaN</td>\n",
       "      <td>12/28/2023 3:16pm</td>\n",
       "      <td>NaN</td>\n",
       "      <td>NaN</td>\n",
       "      <td>NaN</td>\n",
       "      <td>NaN</td>\n",
       "      <td>Open</td>\n",
       "      <td>Open</td>\n",
       "    </tr>\n",
       "    <tr>\n",
       "      <th>1062</th>\n",
       "      <td>BERT-RBP</td>\n",
       "      <td>Biology</td>\n",
       "      <td>Proteins,Protein interaction prediction</td>\n",
       "      <td>Keisuke Yamada, Michiaki Hamada</td>\n",
       "      <td>SOTA improvement</td>\n",
       "      <td>\"Our model outperformed state-of-the-art predi...</td>\n",
       "      <td>Open access (non-commercial)</td>\n",
       "      <td>https://academic.oup.com/bioinformaticsadvance...</td>\n",
       "      <td>31.0</td>\n",
       "      <td>Prediction of RNA–protein interactions using a...</td>\n",
       "      <td>...</td>\n",
       "      <td>3.297800e+19</td>\n",
       "      <td>24%</td>\n",
       "      <td>NaN</td>\n",
       "      <td>1/4/2024 2:51am</td>\n",
       "      <td>NaN</td>\n",
       "      <td>NaN</td>\n",
       "      <td>NaN</td>\n",
       "      <td>NaN</td>\n",
       "      <td>Open</td>\n",
       "      <td>Open</td>\n",
       "    </tr>\n",
       "  </tbody>\n",
       "</table>\n",
       "<p>10 rows × 76 columns</p>\n",
       "</div>"
      ],
      "text/plain": [
       "                       System                      Domain  \\\n",
       "354                       SSD                      Vision   \n",
       "513                   ULM-FiT                    Language   \n",
       "620   Cross-lingual alignment                    Language   \n",
       "740             Theseus 6/768                    Language   \n",
       "890                   Unicorn                    Language   \n",
       "961        AlphaFold-Multimer                     Biology   \n",
       "986       Masked Autoencoders                      Vision   \n",
       "1006            Engine-XL(NE)  Language,Vision,Multimodal   \n",
       "1013               Contriever                    Language   \n",
       "1062                 BERT-RBP                     Biology   \n",
       "\n",
       "                                                   Task  \\\n",
       "354                                    Object detection   \n",
       "513                                 Text classification   \n",
       "620                                         Translation   \n",
       "740                                 Text autocompletion   \n",
       "890                                  Question answering   \n",
       "961                 Protein folding prediction,Proteins   \n",
       "986   Semantic segmentation,Image classification,Ima...   \n",
       "1006                           Named entity recognition   \n",
       "1013                                 Language modelling   \n",
       "1062            Proteins,Protein interaction prediction   \n",
       "\n",
       "                                                Authors  \\\n",
       "354   Wei Liu, Dragomir Anguelov, Dumitru Erhan, Chr...   \n",
       "513                      Jeremy Howard, Sebastian Ruder   \n",
       "620   Tal Schuster, Ori Ram, Regina Barzilay, and Am...   \n",
       "740   Canwen Xu, Wangchunshu Zhou, Tao Ge, Furu Wei,...   \n",
       "890   Nicholas Lourie, Ronan Le Bras, Chandra Bhagav...   \n",
       "961   Richard Evans, Michael O’Neill, Alexander Prit...   \n",
       "986   Kaiming He, Xinlei Chen, Saining Xie, Yanghao ...   \n",
       "1006        Zhongping Zhang, Yiwen Gu, Bryan A. Plummer   \n",
       "1013  Gautier Izacard, Mathilde Caron, Lucas Hossein...   \n",
       "1062                    Keisuke Yamada, Michiaki Hamada   \n",
       "\n",
       "                Notability criteria  \\\n",
       "354                    Highly cited   \n",
       "513                    Highly cited   \n",
       "620                SOTA improvement   \n",
       "740                SOTA improvement   \n",
       "890                             NaN   \n",
       "961   Highly cited,SOTA improvement   \n",
       "986   Highly cited,SOTA improvement   \n",
       "1006                            NaN   \n",
       "1013               SOTA improvement   \n",
       "1062               SOTA improvement   \n",
       "\n",
       "                              Notability criteria notes  \\\n",
       "354   Also listed in Denis Panjuta's List of 100+ AI...   \n",
       "513                                                 NaN   \n",
       "620   \"our method consistently outperforms the previ...   \n",
       "740   \"Our approach outperforms existing knowledge d...   \n",
       "890                                                 NaN   \n",
       "961   \"On a benchmark dataset of 17 heterodimer prot...   \n",
       "986   \"By fine-tuning with a 448 size, we achieve 87...   \n",
       "1006                                                NaN   \n",
       "1013  \"We observe that when\\nused as pre-training, c...   \n",
       "1062  \"Our model outperformed state-of-the-art predi...   \n",
       "\n",
       "               Model accessibility  \\\n",
       "354     Open access (unrestricted)   \n",
       "513     Open access (unrestricted)   \n",
       "620     Open access (unrestricted)   \n",
       "740     Open access (unrestricted)   \n",
       "890     Open access (unrestricted)   \n",
       "961     Open access (unrestricted)   \n",
       "986   Open access (non-commercial)   \n",
       "1006    Open access (unrestricted)   \n",
       "1013  Open access (non-commercial)   \n",
       "1062  Open access (non-commercial)   \n",
       "\n",
       "                                                   Link  Citations  \\\n",
       "354                    https://arxiv.org/pdf/1512.02325    39468.0   \n",
       "513                    https://arxiv.org/abs/1801.06146     1940.0   \n",
       "620                    https://arxiv.org/abs/1902.09492      196.0   \n",
       "740                    https://arxiv.org/abs/2002.02925      183.0   \n",
       "890                    https://arxiv.org/abs/2103.13009        NaN   \n",
       "961   https://www.biorxiv.org/content/10.1101/2021.1...     1640.0   \n",
       "986                    https://arxiv.org/abs/2111.06377     5356.0   \n",
       "1006                   https://arxiv.org/abs/2112.05917        2.0   \n",
       "1013                   https://arxiv.org/abs/2112.09118      506.0   \n",
       "1062  https://academic.oup.com/bioinformaticsadvance...       31.0   \n",
       "\n",
       "                                              Reference  ...    Difference  \\\n",
       "354                  SSD: Single Shot MultiBox Detector  ... -1.229100e+19   \n",
       "513   Universal Language Model Fine-tuning for Text ...  ...  2.725380e+17   \n",
       "620   Cross-lingual alignment of contextual word emb...  ...  2.560000e+18   \n",
       "740   BERT-of-Theseus: Compressing BERT by Progressi...  ... -2.877000e+20   \n",
       "890   UNICORN on RAINBOW: A Universal Commonsense Re...  ...  0.000000e+00   \n",
       "961   Protein complex prediction with AlphaFold-Mult...  ...  1.360000e+21   \n",
       "986    Masked Autoencoders Are Scalable Vision Learners  ... -3.802000e+21   \n",
       "1006  Show and Write: Entity-aware Article Generatio...  ... -1.920000e+21   \n",
       "1013  Unsupervised Dense Information Retrieval with ...  ... -1.280000e+20   \n",
       "1062  Prediction of RNA–protein interactions using a...  ...  3.297800e+19   \n",
       "\n",
       "     Difference (share)  API prices            Created  \\\n",
       "354           -Infinity         NaN  7/31/2024 12:00am   \n",
       "513                100%         NaN   5/29/2023 2:06pm   \n",
       "620                100%         NaN   5/29/2023 2:06pm   \n",
       "740           -Infinity         NaN   5/29/2023 2:06pm   \n",
       "890                  0%         NaN    5/8/2024 2:32am   \n",
       "961                 31%         NaN    1/4/2024 1:21am   \n",
       "986               -827%         NaN   4/10/2024 6:06pm   \n",
       "1006          -Infinity         NaN   9/26/2023 9:12pm   \n",
       "1013               -82%         NaN  12/28/2023 3:16pm   \n",
       "1062                24%         NaN    1/4/2024 2:51am   \n",
       "\n",
       "      Inference code accessibility Arithmetic format Model versions  \\\n",
       "354                            NaN               NaN            NaN   \n",
       "513                            NaN               NaN            NaN   \n",
       "620                            NaN               NaN            NaN   \n",
       "740                            NaN               NaN            NaN   \n",
       "890                            NaN               NaN            NaN   \n",
       "961                            NaN               NaN            NaN   \n",
       "986                            NaN               NaN            NaN   \n",
       "1006                           NaN               NaN            NaN   \n",
       "1013                           NaN               NaN            NaN   \n",
       "1062                           NaN               NaN            NaN   \n",
       "\n",
       "     Frontier model  Model open/closed Code open/closed  \n",
       "354             NaN               Open           Closed  \n",
       "513             NaN               Open             Open  \n",
       "620             NaN               Open             Open  \n",
       "740             NaN               Open             Open  \n",
       "890             NaN               Open             Open  \n",
       "961             NaN               Open             Open  \n",
       "986             NaN               Open             Open  \n",
       "1006            NaN               Open             Open  \n",
       "1013            NaN               Open             Open  \n",
       "1062            NaN               Open             Open  \n",
       "\n",
       "[10 rows x 76 columns]"
      ]
     },
     "execution_count": 10,
     "metadata": {},
     "output_type": "execute_result"
    }
   ],
   "source": [
    "print(f\"Models that are not fine-tunes:  {len(open_df.loc[open_df['Base model'].isna()])}\")\n",
    "print(f\"Models that are fine-tunes:  {len(open_df.loc[open_df['Base model'].notna()])}\")\n",
    "open_df.loc[open_df['Base model'].notna()].head(10)"
   ]
  },
  {
   "cell_type": "code",
   "execution_count": 11,
   "metadata": {
    "tags": []
   },
   "outputs": [
    {
     "name": "stdout",
     "output_type": "stream",
     "text": [
      "36\n"
     ]
    },
    {
     "data": {
      "text/html": [
       "<div>\n",
       "<style scoped>\n",
       "    .dataframe tbody tr th:only-of-type {\n",
       "        vertical-align: middle;\n",
       "    }\n",
       "\n",
       "    .dataframe tbody tr th {\n",
       "        vertical-align: top;\n",
       "    }\n",
       "\n",
       "    .dataframe thead th {\n",
       "        text-align: right;\n",
       "    }\n",
       "</style>\n",
       "<table border=\"1\" class=\"dataframe\">\n",
       "  <thead>\n",
       "    <tr style=\"text-align: right;\">\n",
       "      <th></th>\n",
       "      <th>System</th>\n",
       "      <th>Notability criteria</th>\n",
       "    </tr>\n",
       "  </thead>\n",
       "  <tbody>\n",
       "    <tr>\n",
       "      <th>354</th>\n",
       "      <td>SSD</td>\n",
       "      <td>Highly cited</td>\n",
       "    </tr>\n",
       "    <tr>\n",
       "      <th>513</th>\n",
       "      <td>ULM-FiT</td>\n",
       "      <td>Highly cited</td>\n",
       "    </tr>\n",
       "    <tr>\n",
       "      <th>620</th>\n",
       "      <td>Cross-lingual alignment</td>\n",
       "      <td>SOTA improvement</td>\n",
       "    </tr>\n",
       "    <tr>\n",
       "      <th>740</th>\n",
       "      <td>Theseus 6/768</td>\n",
       "      <td>SOTA improvement</td>\n",
       "    </tr>\n",
       "    <tr>\n",
       "      <th>961</th>\n",
       "      <td>AlphaFold-Multimer</td>\n",
       "      <td>Highly cited,SOTA improvement</td>\n",
       "    </tr>\n",
       "    <tr>\n",
       "      <th>986</th>\n",
       "      <td>Masked Autoencoders</td>\n",
       "      <td>Highly cited,SOTA improvement</td>\n",
       "    </tr>\n",
       "    <tr>\n",
       "      <th>1013</th>\n",
       "      <td>Contriever</td>\n",
       "      <td>SOTA improvement</td>\n",
       "    </tr>\n",
       "    <tr>\n",
       "      <th>1062</th>\n",
       "      <td>BERT-RBP</td>\n",
       "      <td>SOTA improvement</td>\n",
       "    </tr>\n",
       "    <tr>\n",
       "      <th>1082</th>\n",
       "      <td>CogVideo</td>\n",
       "      <td>Historical significance</td>\n",
       "    </tr>\n",
       "    <tr>\n",
       "      <th>1136</th>\n",
       "      <td>BlenderBot 3</td>\n",
       "      <td>SOTA improvement</td>\n",
       "    </tr>\n",
       "    <tr>\n",
       "      <th>1161</th>\n",
       "      <td>Flan-T5 11B</td>\n",
       "      <td>Highly cited</td>\n",
       "    </tr>\n",
       "    <tr>\n",
       "      <th>1174</th>\n",
       "      <td>BLOOMZ-176B</td>\n",
       "      <td>SOTA improvement</td>\n",
       "    </tr>\n",
       "    <tr>\n",
       "      <th>1175</th>\n",
       "      <td>mT0-13B</td>\n",
       "      <td>SOTA improvement</td>\n",
       "    </tr>\n",
       "    <tr>\n",
       "      <th>1178</th>\n",
       "      <td>AltCLIP_M9</td>\n",
       "      <td>SOTA improvement</td>\n",
       "    </tr>\n",
       "    <tr>\n",
       "      <th>1220</th>\n",
       "      <td>Flan T5-XXL + BLIP-2</td>\n",
       "      <td>Highly cited</td>\n",
       "    </tr>\n",
       "    <tr>\n",
       "      <th>1255</th>\n",
       "      <td>VideoMAE V2</td>\n",
       "      <td>SOTA improvement</td>\n",
       "    </tr>\n",
       "    <tr>\n",
       "      <th>1267</th>\n",
       "      <td>Segment Anything Model</td>\n",
       "      <td>Highly cited</td>\n",
       "    </tr>\n",
       "    <tr>\n",
       "      <th>1275</th>\n",
       "      <td>LLaVA</td>\n",
       "      <td>SOTA improvement</td>\n",
       "    </tr>\n",
       "    <tr>\n",
       "      <th>1292</th>\n",
       "      <td>InstructBLIP</td>\n",
       "      <td>SOTA improvement</td>\n",
       "    </tr>\n",
       "    <tr>\n",
       "      <th>1297</th>\n",
       "      <td>CoEdiT-xxl</td>\n",
       "      <td>SOTA improvement</td>\n",
       "    </tr>\n",
       "    <tr>\n",
       "      <th>1308</th>\n",
       "      <td>Goat-7B</td>\n",
       "      <td>SOTA improvement</td>\n",
       "    </tr>\n",
       "    <tr>\n",
       "      <th>1384</th>\n",
       "      <td>Qwen-VL</td>\n",
       "      <td>SOTA improvement</td>\n",
       "    </tr>\n",
       "    <tr>\n",
       "      <th>1422</th>\n",
       "      <td>FinGPT-13B</td>\n",
       "      <td>SOTA improvement</td>\n",
       "    </tr>\n",
       "    <tr>\n",
       "      <th>1426</th>\n",
       "      <td>Ferret (13B)</td>\n",
       "      <td>SOTA improvement</td>\n",
       "    </tr>\n",
       "    <tr>\n",
       "      <th>1437</th>\n",
       "      <td>QMoE: compressed 1T model</td>\n",
       "      <td>SOTA improvement</td>\n",
       "    </tr>\n",
       "    <tr>\n",
       "      <th>1458</th>\n",
       "      <td>BLUUMI</td>\n",
       "      <td>SOTA improvement</td>\n",
       "    </tr>\n",
       "    <tr>\n",
       "      <th>1462</th>\n",
       "      <td>LLaVA 1.5</td>\n",
       "      <td>SOTA improvement</td>\n",
       "    </tr>\n",
       "    <tr>\n",
       "      <th>1467</th>\n",
       "      <td>CogVLM-17B</td>\n",
       "      <td>SOTA improvement</td>\n",
       "    </tr>\n",
       "    <tr>\n",
       "      <th>1469</th>\n",
       "      <td>mPLUG-Owl2</td>\n",
       "      <td>SOTA improvement</td>\n",
       "    </tr>\n",
       "    <tr>\n",
       "      <th>1477</th>\n",
       "      <td>Volcano 13B</td>\n",
       "      <td>SOTA improvement</td>\n",
       "    </tr>\n",
       "    <tr>\n",
       "      <th>1504</th>\n",
       "      <td>Llama Guard</td>\n",
       "      <td>SOTA improvement</td>\n",
       "    </tr>\n",
       "    <tr>\n",
       "      <th>1506</th>\n",
       "      <td>SeamlessM4T</td>\n",
       "      <td>SOTA improvement</td>\n",
       "    </tr>\n",
       "    <tr>\n",
       "      <th>1514</th>\n",
       "      <td>CogAgent</td>\n",
       "      <td>SOTA improvement</td>\n",
       "    </tr>\n",
       "    <tr>\n",
       "      <th>1515</th>\n",
       "      <td>FunSearch</td>\n",
       "      <td>SOTA improvement,Historical significance</td>\n",
       "    </tr>\n",
       "    <tr>\n",
       "      <th>1548</th>\n",
       "      <td>Aya</td>\n",
       "      <td>SOTA improvement</td>\n",
       "    </tr>\n",
       "    <tr>\n",
       "      <th>1617</th>\n",
       "      <td>OpenVLA</td>\n",
       "      <td>SOTA improvement</td>\n",
       "    </tr>\n",
       "  </tbody>\n",
       "</table>\n",
       "</div>"
      ],
      "text/plain": [
       "                         System                       Notability criteria\n",
       "354                         SSD                              Highly cited\n",
       "513                     ULM-FiT                              Highly cited\n",
       "620     Cross-lingual alignment                          SOTA improvement\n",
       "740               Theseus 6/768                          SOTA improvement\n",
       "961          AlphaFold-Multimer             Highly cited,SOTA improvement\n",
       "986         Masked Autoencoders             Highly cited,SOTA improvement\n",
       "1013                 Contriever                          SOTA improvement\n",
       "1062                   BERT-RBP                          SOTA improvement\n",
       "1082                   CogVideo                   Historical significance\n",
       "1136               BlenderBot 3                          SOTA improvement\n",
       "1161                Flan-T5 11B                              Highly cited\n",
       "1174                BLOOMZ-176B                          SOTA improvement\n",
       "1175                    mT0-13B                          SOTA improvement\n",
       "1178                 AltCLIP_M9                          SOTA improvement\n",
       "1220       Flan T5-XXL + BLIP-2                              Highly cited\n",
       "1255                VideoMAE V2                          SOTA improvement\n",
       "1267     Segment Anything Model                              Highly cited\n",
       "1275                      LLaVA                          SOTA improvement\n",
       "1292               InstructBLIP                          SOTA improvement\n",
       "1297                 CoEdiT-xxl                          SOTA improvement\n",
       "1308                    Goat-7B                          SOTA improvement\n",
       "1384                    Qwen-VL                          SOTA improvement\n",
       "1422                 FinGPT-13B                          SOTA improvement\n",
       "1426               Ferret (13B)                          SOTA improvement\n",
       "1437  QMoE: compressed 1T model                          SOTA improvement\n",
       "1458                     BLUUMI                          SOTA improvement\n",
       "1462                  LLaVA 1.5                          SOTA improvement\n",
       "1467                 CogVLM-17B                          SOTA improvement\n",
       "1469                 mPLUG-Owl2                          SOTA improvement\n",
       "1477                Volcano 13B                          SOTA improvement\n",
       "1504                Llama Guard                          SOTA improvement\n",
       "1506                SeamlessM4T                          SOTA improvement\n",
       "1514                   CogAgent                          SOTA improvement\n",
       "1515                  FunSearch  SOTA improvement,Historical significance\n",
       "1548                        Aya                          SOTA improvement\n",
       "1617                    OpenVLA                          SOTA improvement"
      ]
     },
     "execution_count": 11,
     "metadata": {},
     "output_type": "execute_result"
    }
   ],
   "source": [
    "notable_finetunes = open_df.loc[(open_df['Base model'].notna()) & (open_df['Notability criteria'].notna())]\n",
    "print(len(notable_finetunes))\n",
    "notable_finetunes[['System', 'Notability criteria']]\n",
    "# 33 notable, fine-tuned open models"
   ]
  },
  {
   "cell_type": "code",
   "execution_count": 12,
   "metadata": {
    "tags": []
   },
   "outputs": [
    {
     "data": {
      "text/plain": [
       "Domain\n",
       "Language                                                    308\n",
       "Biology                                                      44\n",
       "Vision                                                       41\n",
       "Multimodal,Language,Vision                                   14\n",
       "Image generation                                             13\n",
       "Speech                                                        9\n",
       "Vision,Image generation                                       5\n",
       "Language,Vision,Multimodal                                    5\n",
       "Games                                                         4\n",
       "Multimodal,Vision,Language                                    3\n",
       "Audio                                                         3\n",
       "Earth science                                                 3\n",
       "Robotics                                                      2\n",
       "Language,Multimodal,Vision                                    2\n",
       "Video                                                         2\n",
       "Language,Biology                                              2\n",
       "Vision,Language                                               2\n",
       "Speech,Language                                               1\n",
       "Multimodal,Vision,Audio,Language,Image generation,Speech      1\n",
       "Robotics,Vision,Language                                      1\n",
       "Multimodal,Vision,Speech,Language                             1\n",
       "Multimodal,Vision,Language,Video                              1\n",
       "Vision,Language,Multimodal                                    1\n",
       "3D modeling,Vision                                            1\n",
       "Multimodal,Image generation,Vision,Language                   1\n",
       "Multimodal,Video,Robotics,Vision                              1\n",
       "Multimodal,Video                                              1\n",
       "Multimodal,Language,Video,Vision,Speech                       1\n",
       "Multimodal,Language,Audio                                     1\n",
       "Multimodal,Image generation,Language,Vision                   1\n",
       "Mathematics                                                   1\n",
       "Language,Vision                                               1\n",
       "Language,Speech,Audio                                         1\n",
       "Language,Search                                               1\n",
       "Language,Mathematics                                          1\n",
       "Image generation,Vision                                       1\n",
       "Biology,Vision,Language,Medicine                              1\n",
       "Audio,Speech                                                  1\n",
       "Vision,Video                                                  1\n",
       "dtype: int64"
      ]
     },
     "execution_count": 12,
     "metadata": {},
     "output_type": "execute_result"
    }
   ],
   "source": [
    "open_df.groupby('Domain').size().sort_values(ascending=False)"
   ]
  },
  {
   "cell_type": "markdown",
   "metadata": {},
   "source": [
    "# Model Accessibility Charts"
   ]
  },
  {
   "cell_type": "code",
   "execution_count": 13,
   "metadata": {},
   "outputs": [
    {
     "name": "stderr",
     "output_type": "stream",
     "text": [
      "/var/folders/s2/stl5t_bn7xg9vdfxxr71rzrc0000gn/T/ipykernel_25694/3747043736.py:2: SettingWithCopyWarning: \n",
      "A value is trying to be set on a copy of a slice from a DataFrame.\n",
      "Try using .loc[row_indexer,col_indexer] = value instead\n",
      "\n",
      "See the caveats in the documentation: https://pandas.pydata.org/pandas-docs/stable/user_guide/indexing.html#returning-a-view-versus-a-copy\n",
      "  access_df['Year'] = pd.to_datetime(access_df['Publication date']).dt.year\n"
     ]
    }
   ],
   "source": [
    "# Add year column\n",
    "access_df['Year'] = pd.to_datetime(access_df['Publication date']).dt.year\n"
   ]
  },
  {
   "cell_type": "code",
   "execution_count": 14,
   "metadata": {
    "tags": []
   },
   "outputs": [],
   "source": [
    "# Input -  model counts, grouped by accessibility and by year\n",
    "# Output - same dataframe with cumulative counts for status\n",
    "\n",
    "def get_cumulative_counts(counts):\n",
    "    \n",
    "    counts['Cumulative for status'] = counts.groupby('Model accessibility')['Count'].cumsum()\n",
    "    \n",
    "    # Pivot the access counts table to get counts for every status and every year\n",
    "    # This will have many NaN values because not every year has a model of every status\n",
    "    counts_wide = counts.pivot(index='Year', columns='Model accessibility', values='Cumulative for status')\n",
    "    all_years = pd.Series(range(counts_wide.index.min(), counts_wide.index.max() + 1))\n",
    "    \n",
    "\n",
    "    # Fill NaN values with 0. This ensures that the cumulative count does not get dropped in individual years \n",
    "    # where there are no models with a given status\n",
    "    counts_wide_filled = counts_wide.reindex(all_years).ffill().fillna(0)\n",
    "    counts_wide_filled = counts_wide_filled.reset_index(names=[\"Year\"])\n",
    "    \n",
    "\n",
    "    # Unpivot to get cumulative totals\n",
    "    counts_filled = (counts_wide_filled.melt(id_vars='Year', \n",
    "                                         var_name='Model accessibility', \n",
    "                                         value_name='Cumulative for status')\n",
    "                                   .reset_index(drop=True))\n",
    "\n",
    "    # sort from closed to open\n",
    "    sort_order = ['Unreleased', 'Hosted access (no API)', 'API access', 'Open access (non-commercial)', 'Open access (restricted use)', 'Open access (unrestricted)']\n",
    "    counts_filled['Category_sorted'] = pd.Categorical(counts_filled['Model accessibility'], categories=sort_order, ordered=True)\n",
    "    counts_filled = counts_filled.sort_values(['Category_sorted', 'Year'])\n",
    "\n",
    "    return counts_filled"
   ]
  },
  {
   "cell_type": "code",
   "execution_count": 15,
   "metadata": {},
   "outputs": [
    {
     "data": {
      "application/vnd.plotly.v1+json": {
       "config": {
        "plotlyServerURL": "https://plot.ly"
       },
       "data": [
        {
         "fillpattern": {
          "shape": ""
         },
         "hovertemplate": "Model accessibility=Unreleased<br>Year=%{x}<br>Cumulative Count=%{y}<extra></extra>",
         "legendgroup": "Unreleased",
         "line": {
          "color": "#636efa"
         },
         "marker": {
          "symbol": "circle"
         },
         "mode": "lines",
         "name": "Unreleased",
         "orientation": "v",
         "showlegend": true,
         "stackgroup": "1",
         "type": "scatter",
         "x": [
          2015,
          2016,
          2017,
          2018,
          2019,
          2020,
          2021,
          2022,
          2023,
          2024
         ],
         "xaxis": "x",
         "y": [
          9,
          30,
          66,
          111,
          204,
          259,
          334,
          384,
          430,
          446
         ],
         "yaxis": "y"
        },
        {
         "fillpattern": {
          "shape": ""
         },
         "hovertemplate": "Model accessibility=Hosted access (no API)<br>Year=%{x}<br>Cumulative Count=%{y}<extra></extra>",
         "legendgroup": "Hosted access (no API)",
         "line": {
          "color": "#EF553B"
         },
         "marker": {
          "symbol": "circle"
         },
         "mode": "lines",
         "name": "Hosted access (no API)",
         "orientation": "v",
         "showlegend": true,
         "stackgroup": "1",
         "type": "scatter",
         "x": [
          2015,
          2016,
          2017,
          2018,
          2019,
          2020,
          2021,
          2022,
          2023,
          2024
         ],
         "xaxis": "x",
         "y": [
          0,
          1,
          1,
          1,
          2,
          2,
          4,
          7,
          16,
          27
         ],
         "yaxis": "y"
        },
        {
         "fillpattern": {
          "shape": ""
         },
         "hovertemplate": "Model accessibility=API access<br>Year=%{x}<br>Cumulative Count=%{y}<extra></extra>",
         "legendgroup": "API access",
         "line": {
          "color": "#00cc96"
         },
         "marker": {
          "symbol": "circle"
         },
         "mode": "lines",
         "name": "API access",
         "orientation": "v",
         "showlegend": true,
         "stackgroup": "1",
         "type": "scatter",
         "x": [
          2015,
          2016,
          2017,
          2018,
          2019,
          2020,
          2021,
          2022,
          2023,
          2024
         ],
         "xaxis": "x",
         "y": [
          0,
          0,
          0,
          0,
          0,
          1,
          9,
          14,
          40,
          61
         ],
         "yaxis": "y"
        },
        {
         "fillpattern": {
          "shape": ""
         },
         "hovertemplate": "Model accessibility=Open access (non-commercial)<br>Year=%{x}<br>Cumulative Count=%{y}<extra></extra>",
         "legendgroup": "Open access (non-commercial)",
         "line": {
          "color": "#ab63fa"
         },
         "marker": {
          "symbol": "circle"
         },
         "mode": "lines",
         "name": "Open access (non-commercial)",
         "orientation": "v",
         "showlegend": true,
         "stackgroup": "1",
         "type": "scatter",
         "x": [
          2015,
          2016,
          2017,
          2018,
          2019,
          2020,
          2021,
          2022,
          2023,
          2024
         ],
         "xaxis": "x",
         "y": [
          0,
          2,
          2,
          4,
          15,
          18,
          26,
          46,
          79,
          92
         ],
         "yaxis": "y"
        },
        {
         "fillpattern": {
          "shape": ""
         },
         "hovertemplate": "Model accessibility=Open access (restricted use)<br>Year=%{x}<br>Cumulative Count=%{y}<extra></extra>",
         "legendgroup": "Open access (restricted use)",
         "line": {
          "color": "#FFA15A"
         },
         "marker": {
          "symbol": "circle"
         },
         "mode": "lines",
         "name": "Open access (restricted use)",
         "orientation": "v",
         "showlegend": true,
         "stackgroup": "1",
         "type": "scatter",
         "x": [
          2015,
          2016,
          2017,
          2018,
          2019,
          2020,
          2021,
          2022,
          2023,
          2024
         ],
         "xaxis": "x",
         "y": [
          0,
          0,
          0,
          0,
          0,
          0,
          0,
          10,
          49,
          73
         ],
         "yaxis": "y"
        },
        {
         "fillpattern": {
          "shape": ""
         },
         "hovertemplate": "Model accessibility=Open access (unrestricted)<br>Year=%{x}<br>Cumulative Count=%{y}<extra></extra>",
         "legendgroup": "Open access (unrestricted)",
         "line": {
          "color": "#19d3f3"
         },
         "marker": {
          "symbol": "circle"
         },
         "mode": "lines",
         "name": "Open access (unrestricted)",
         "orientation": "v",
         "showlegend": true,
         "stackgroup": "1",
         "type": "scatter",
         "x": [
          2015,
          2016,
          2017,
          2018,
          2019,
          2020,
          2021,
          2022,
          2023,
          2024
         ],
         "xaxis": "x",
         "y": [
          4,
          6,
          7,
          27,
          63,
          99,
          151,
          199,
          294,
          319
         ],
         "yaxis": "y"
        }
       ],
       "layout": {
        "autosize": false,
        "height": 600,
        "legend": {
         "title": {
          "text": "Model accessibility"
         },
         "tracegroupgap": 0
        },
        "template": {
         "data": {
          "bar": [
           {
            "error_x": {
             "color": "#2a3f5f"
            },
            "error_y": {
             "color": "#2a3f5f"
            },
            "marker": {
             "line": {
              "color": "#E5ECF6",
              "width": 0.5
             },
             "pattern": {
              "fillmode": "overlay",
              "size": 10,
              "solidity": 0.2
             }
            },
            "type": "bar"
           }
          ],
          "barpolar": [
           {
            "marker": {
             "line": {
              "color": "#E5ECF6",
              "width": 0.5
             },
             "pattern": {
              "fillmode": "overlay",
              "size": 10,
              "solidity": 0.2
             }
            },
            "type": "barpolar"
           }
          ],
          "carpet": [
           {
            "aaxis": {
             "endlinecolor": "#2a3f5f",
             "gridcolor": "white",
             "linecolor": "white",
             "minorgridcolor": "white",
             "startlinecolor": "#2a3f5f"
            },
            "baxis": {
             "endlinecolor": "#2a3f5f",
             "gridcolor": "white",
             "linecolor": "white",
             "minorgridcolor": "white",
             "startlinecolor": "#2a3f5f"
            },
            "type": "carpet"
           }
          ],
          "choropleth": [
           {
            "colorbar": {
             "outlinewidth": 0,
             "ticks": ""
            },
            "type": "choropleth"
           }
          ],
          "contour": [
           {
            "colorbar": {
             "outlinewidth": 0,
             "ticks": ""
            },
            "colorscale": [
             [
              0,
              "#0d0887"
             ],
             [
              0.1111111111111111,
              "#46039f"
             ],
             [
              0.2222222222222222,
              "#7201a8"
             ],
             [
              0.3333333333333333,
              "#9c179e"
             ],
             [
              0.4444444444444444,
              "#bd3786"
             ],
             [
              0.5555555555555556,
              "#d8576b"
             ],
             [
              0.6666666666666666,
              "#ed7953"
             ],
             [
              0.7777777777777778,
              "#fb9f3a"
             ],
             [
              0.8888888888888888,
              "#fdca26"
             ],
             [
              1,
              "#f0f921"
             ]
            ],
            "type": "contour"
           }
          ],
          "contourcarpet": [
           {
            "colorbar": {
             "outlinewidth": 0,
             "ticks": ""
            },
            "type": "contourcarpet"
           }
          ],
          "heatmap": [
           {
            "colorbar": {
             "outlinewidth": 0,
             "ticks": ""
            },
            "colorscale": [
             [
              0,
              "#0d0887"
             ],
             [
              0.1111111111111111,
              "#46039f"
             ],
             [
              0.2222222222222222,
              "#7201a8"
             ],
             [
              0.3333333333333333,
              "#9c179e"
             ],
             [
              0.4444444444444444,
              "#bd3786"
             ],
             [
              0.5555555555555556,
              "#d8576b"
             ],
             [
              0.6666666666666666,
              "#ed7953"
             ],
             [
              0.7777777777777778,
              "#fb9f3a"
             ],
             [
              0.8888888888888888,
              "#fdca26"
             ],
             [
              1,
              "#f0f921"
             ]
            ],
            "type": "heatmap"
           }
          ],
          "heatmapgl": [
           {
            "colorbar": {
             "outlinewidth": 0,
             "ticks": ""
            },
            "colorscale": [
             [
              0,
              "#0d0887"
             ],
             [
              0.1111111111111111,
              "#46039f"
             ],
             [
              0.2222222222222222,
              "#7201a8"
             ],
             [
              0.3333333333333333,
              "#9c179e"
             ],
             [
              0.4444444444444444,
              "#bd3786"
             ],
             [
              0.5555555555555556,
              "#d8576b"
             ],
             [
              0.6666666666666666,
              "#ed7953"
             ],
             [
              0.7777777777777778,
              "#fb9f3a"
             ],
             [
              0.8888888888888888,
              "#fdca26"
             ],
             [
              1,
              "#f0f921"
             ]
            ],
            "type": "heatmapgl"
           }
          ],
          "histogram": [
           {
            "marker": {
             "pattern": {
              "fillmode": "overlay",
              "size": 10,
              "solidity": 0.2
             }
            },
            "type": "histogram"
           }
          ],
          "histogram2d": [
           {
            "colorbar": {
             "outlinewidth": 0,
             "ticks": ""
            },
            "colorscale": [
             [
              0,
              "#0d0887"
             ],
             [
              0.1111111111111111,
              "#46039f"
             ],
             [
              0.2222222222222222,
              "#7201a8"
             ],
             [
              0.3333333333333333,
              "#9c179e"
             ],
             [
              0.4444444444444444,
              "#bd3786"
             ],
             [
              0.5555555555555556,
              "#d8576b"
             ],
             [
              0.6666666666666666,
              "#ed7953"
             ],
             [
              0.7777777777777778,
              "#fb9f3a"
             ],
             [
              0.8888888888888888,
              "#fdca26"
             ],
             [
              1,
              "#f0f921"
             ]
            ],
            "type": "histogram2d"
           }
          ],
          "histogram2dcontour": [
           {
            "colorbar": {
             "outlinewidth": 0,
             "ticks": ""
            },
            "colorscale": [
             [
              0,
              "#0d0887"
             ],
             [
              0.1111111111111111,
              "#46039f"
             ],
             [
              0.2222222222222222,
              "#7201a8"
             ],
             [
              0.3333333333333333,
              "#9c179e"
             ],
             [
              0.4444444444444444,
              "#bd3786"
             ],
             [
              0.5555555555555556,
              "#d8576b"
             ],
             [
              0.6666666666666666,
              "#ed7953"
             ],
             [
              0.7777777777777778,
              "#fb9f3a"
             ],
             [
              0.8888888888888888,
              "#fdca26"
             ],
             [
              1,
              "#f0f921"
             ]
            ],
            "type": "histogram2dcontour"
           }
          ],
          "mesh3d": [
           {
            "colorbar": {
             "outlinewidth": 0,
             "ticks": ""
            },
            "type": "mesh3d"
           }
          ],
          "parcoords": [
           {
            "line": {
             "colorbar": {
              "outlinewidth": 0,
              "ticks": ""
             }
            },
            "type": "parcoords"
           }
          ],
          "pie": [
           {
            "automargin": true,
            "type": "pie"
           }
          ],
          "scatter": [
           {
            "fillpattern": {
             "fillmode": "overlay",
             "size": 10,
             "solidity": 0.2
            },
            "type": "scatter"
           }
          ],
          "scatter3d": [
           {
            "line": {
             "colorbar": {
              "outlinewidth": 0,
              "ticks": ""
             }
            },
            "marker": {
             "colorbar": {
              "outlinewidth": 0,
              "ticks": ""
             }
            },
            "type": "scatter3d"
           }
          ],
          "scattercarpet": [
           {
            "marker": {
             "colorbar": {
              "outlinewidth": 0,
              "ticks": ""
             }
            },
            "type": "scattercarpet"
           }
          ],
          "scattergeo": [
           {
            "marker": {
             "colorbar": {
              "outlinewidth": 0,
              "ticks": ""
             }
            },
            "type": "scattergeo"
           }
          ],
          "scattergl": [
           {
            "marker": {
             "colorbar": {
              "outlinewidth": 0,
              "ticks": ""
             }
            },
            "type": "scattergl"
           }
          ],
          "scattermapbox": [
           {
            "marker": {
             "colorbar": {
              "outlinewidth": 0,
              "ticks": ""
             }
            },
            "type": "scattermapbox"
           }
          ],
          "scatterpolar": [
           {
            "marker": {
             "colorbar": {
              "outlinewidth": 0,
              "ticks": ""
             }
            },
            "type": "scatterpolar"
           }
          ],
          "scatterpolargl": [
           {
            "marker": {
             "colorbar": {
              "outlinewidth": 0,
              "ticks": ""
             }
            },
            "type": "scatterpolargl"
           }
          ],
          "scatterternary": [
           {
            "marker": {
             "colorbar": {
              "outlinewidth": 0,
              "ticks": ""
             }
            },
            "type": "scatterternary"
           }
          ],
          "surface": [
           {
            "colorbar": {
             "outlinewidth": 0,
             "ticks": ""
            },
            "colorscale": [
             [
              0,
              "#0d0887"
             ],
             [
              0.1111111111111111,
              "#46039f"
             ],
             [
              0.2222222222222222,
              "#7201a8"
             ],
             [
              0.3333333333333333,
              "#9c179e"
             ],
             [
              0.4444444444444444,
              "#bd3786"
             ],
             [
              0.5555555555555556,
              "#d8576b"
             ],
             [
              0.6666666666666666,
              "#ed7953"
             ],
             [
              0.7777777777777778,
              "#fb9f3a"
             ],
             [
              0.8888888888888888,
              "#fdca26"
             ],
             [
              1,
              "#f0f921"
             ]
            ],
            "type": "surface"
           }
          ],
          "table": [
           {
            "cells": {
             "fill": {
              "color": "#EBF0F8"
             },
             "line": {
              "color": "white"
             }
            },
            "header": {
             "fill": {
              "color": "#C8D4E3"
             },
             "line": {
              "color": "white"
             }
            },
            "type": "table"
           }
          ]
         },
         "layout": {
          "annotationdefaults": {
           "arrowcolor": "#2a3f5f",
           "arrowhead": 0,
           "arrowwidth": 1
          },
          "autotypenumbers": "strict",
          "coloraxis": {
           "colorbar": {
            "outlinewidth": 0,
            "ticks": ""
           }
          },
          "colorscale": {
           "diverging": [
            [
             0,
             "#8e0152"
            ],
            [
             0.1,
             "#c51b7d"
            ],
            [
             0.2,
             "#de77ae"
            ],
            [
             0.3,
             "#f1b6da"
            ],
            [
             0.4,
             "#fde0ef"
            ],
            [
             0.5,
             "#f7f7f7"
            ],
            [
             0.6,
             "#e6f5d0"
            ],
            [
             0.7,
             "#b8e186"
            ],
            [
             0.8,
             "#7fbc41"
            ],
            [
             0.9,
             "#4d9221"
            ],
            [
             1,
             "#276419"
            ]
           ],
           "sequential": [
            [
             0,
             "#0d0887"
            ],
            [
             0.1111111111111111,
             "#46039f"
            ],
            [
             0.2222222222222222,
             "#7201a8"
            ],
            [
             0.3333333333333333,
             "#9c179e"
            ],
            [
             0.4444444444444444,
             "#bd3786"
            ],
            [
             0.5555555555555556,
             "#d8576b"
            ],
            [
             0.6666666666666666,
             "#ed7953"
            ],
            [
             0.7777777777777778,
             "#fb9f3a"
            ],
            [
             0.8888888888888888,
             "#fdca26"
            ],
            [
             1,
             "#f0f921"
            ]
           ],
           "sequentialminus": [
            [
             0,
             "#0d0887"
            ],
            [
             0.1111111111111111,
             "#46039f"
            ],
            [
             0.2222222222222222,
             "#7201a8"
            ],
            [
             0.3333333333333333,
             "#9c179e"
            ],
            [
             0.4444444444444444,
             "#bd3786"
            ],
            [
             0.5555555555555556,
             "#d8576b"
            ],
            [
             0.6666666666666666,
             "#ed7953"
            ],
            [
             0.7777777777777778,
             "#fb9f3a"
            ],
            [
             0.8888888888888888,
             "#fdca26"
            ],
            [
             1,
             "#f0f921"
            ]
           ]
          },
          "colorway": [
           "#636efa",
           "#EF553B",
           "#00cc96",
           "#ab63fa",
           "#FFA15A",
           "#19d3f3",
           "#FF6692",
           "#B6E880",
           "#FF97FF",
           "#FECB52"
          ],
          "font": {
           "color": "#2a3f5f"
          },
          "geo": {
           "bgcolor": "white",
           "lakecolor": "white",
           "landcolor": "#E5ECF6",
           "showlakes": true,
           "showland": true,
           "subunitcolor": "white"
          },
          "hoverlabel": {
           "align": "left"
          },
          "hovermode": "closest",
          "mapbox": {
           "style": "light"
          },
          "paper_bgcolor": "white",
          "plot_bgcolor": "#E5ECF6",
          "polar": {
           "angularaxis": {
            "gridcolor": "white",
            "linecolor": "white",
            "ticks": ""
           },
           "bgcolor": "#E5ECF6",
           "radialaxis": {
            "gridcolor": "white",
            "linecolor": "white",
            "ticks": ""
           }
          },
          "scene": {
           "xaxis": {
            "backgroundcolor": "#E5ECF6",
            "gridcolor": "white",
            "gridwidth": 2,
            "linecolor": "white",
            "showbackground": true,
            "ticks": "",
            "zerolinecolor": "white"
           },
           "yaxis": {
            "backgroundcolor": "#E5ECF6",
            "gridcolor": "white",
            "gridwidth": 2,
            "linecolor": "white",
            "showbackground": true,
            "ticks": "",
            "zerolinecolor": "white"
           },
           "zaxis": {
            "backgroundcolor": "#E5ECF6",
            "gridcolor": "white",
            "gridwidth": 2,
            "linecolor": "white",
            "showbackground": true,
            "ticks": "",
            "zerolinecolor": "white"
           }
          },
          "shapedefaults": {
           "line": {
            "color": "#2a3f5f"
           }
          },
          "ternary": {
           "aaxis": {
            "gridcolor": "white",
            "linecolor": "white",
            "ticks": ""
           },
           "baxis": {
            "gridcolor": "white",
            "linecolor": "white",
            "ticks": ""
           },
           "bgcolor": "#E5ECF6",
           "caxis": {
            "gridcolor": "white",
            "linecolor": "white",
            "ticks": ""
           }
          },
          "title": {
           "x": 0.05
          },
          "xaxis": {
           "automargin": true,
           "gridcolor": "white",
           "linecolor": "white",
           "ticks": "",
           "title": {
            "standoff": 15
           },
           "zerolinecolor": "white",
           "zerolinewidth": 2
          },
          "yaxis": {
           "automargin": true,
           "gridcolor": "white",
           "linecolor": "white",
           "ticks": "",
           "title": {
            "standoff": 15
           },
           "zerolinecolor": "white",
           "zerolinewidth": 2
          }
         }
        },
        "title": {
         "text": "Model count by accessibility over time",
         "x": 0.2
        },
        "width": 800,
        "xaxis": {
         "anchor": "y",
         "domain": [
          0,
          1
         ],
         "title": {
          "text": "Year"
         }
        },
        "yaxis": {
         "anchor": "x",
         "domain": [
          0,
          1
         ],
         "title": {
          "text": "Cumulative Count"
         }
        }
       }
      }
     },
     "metadata": {},
     "output_type": "display_data"
    }
   ],
   "source": [
    "# Get counts of all models by year and model accessibility\n",
    "# Only include 2015 and later because older models are rare\n",
    "access_counts = access_df.loc[access_df['Year'] >= 2015].groupby(['Year', 'Model accessibility']).size().reset_index(name='Count')\n",
    "\n",
    "cumulative_access_counts = get_cumulative_counts(access_counts)\n",
    "\n",
    "# Cumulative area chart\n",
    "fig = px.area(cumulative_access_counts, x='Year', y='Cumulative for status', color='Model accessibility', line_group='Model accessibility',\n",
    "              labels={'Cumulative for status': 'Cumulative Count', 'Year': 'Year'},\n",
    "              title='Model count by accessibility over time')\n",
    "\n",
    "fig.update_layout(\n",
    "    autosize=False,\n",
    "    width=800,\n",
    "    height=600,\n",
    "    title_x=0.2,\n",
    ")\n",
    "\n",
    "# save_plot(fig, results_dir, f'cumulative_model_count_by_accessibility')\n",
    "\n",
    "fig.show()"
   ]
  },
  {
   "cell_type": "markdown",
   "metadata": {},
   "source": [
    "Commentary: around half of models are unreleased as of 2024, but the proportion has been shrinking over time. Before 2018 or so, releasing model weights was rare (academic projects often shared training code, but not weights)"
   ]
  },
  {
   "cell_type": "code",
   "execution_count": 16,
   "metadata": {},
   "outputs": [],
   "source": [
    "notable_df = access_df.loc[(access_df['Notability criteria'].notna())]\n",
    "\n",
    "# Get counts of notable models by year and model accessibility\n",
    "# Only include 2015 and later because older models are rare\n",
    "notable_counts = notable_df.loc[access_df['Year'] >= 2015].groupby(['Year', 'Model accessibility']).size().reset_index(name='Count')\n",
    "\n",
    "cumulative_notable_counts = get_cumulative_counts(notable_counts)"
   ]
  },
  {
   "cell_type": "code",
   "execution_count": 17,
   "metadata": {},
   "outputs": [],
   "source": [
    "# Input -  model counts, grouped by accessibility and by year\n",
    "# Output - same dataframe with cumulative counts for status, cumulative total across all statuses, and proportion\n",
    "def normalize_counts(access_counts):\n",
    "    \n",
    "    # Get df with total models per year, and cumulative totals\n",
    "    total_counts = access_counts.groupby('Year')['Count'].sum().reset_index(name='Yearly Total')\n",
    "    total_counts['Cumulative Total'] = total_counts['Yearly Total'].cumsum()\n",
    "    \n",
    "    # Pivot the access counts table to get counts for every status and every year\n",
    "    # This will have many NaN values because not every year has a model of every status\n",
    "    access_counts_wide = access_counts.pivot(index='Year', columns='Model accessibility', values='Cumulative for status')\n",
    "    all_years = pd.Series(range(access_counts_wide.index.min(), access_counts_wide.index.max() + 1))\n",
    "\n",
    "    # Fill in the NaN values\n",
    "    access_counts_wide_filled = access_counts_wide.reindex(all_years).ffill().fillna(0)\n",
    "    access_counts_wide_filled = access_counts_wide_filled.reset_index(names=[\"Year\"])\n",
    "    \n",
    "    # Unpivot\n",
    "    access_counts_filled = (access_counts_wide_filled.melt(id_vars='Year', \n",
    "                                     var_name='Model accessibility', \n",
    "                                     value_name='Cumulative for status')\n",
    "                               .reset_index(drop=True))\n",
    "    \n",
    "    # Join with total counts df to get the cumulative totals\n",
    "    normalized_counts = pd.merge(access_counts_filled, total_counts, on='Year')\n",
    "    \n",
    "    # Divide annual counts by cumulative counts to find cumulative proportions by year\n",
    "    normalized_counts['proportion'] = normalized_counts['Cumulative for status'] / normalized_counts['Cumulative Total']\n",
    "    \n",
    "    # Sort using custom order\n",
    "    sort_order = ['Unreleased', 'Hosted access (no API)', 'API access', 'Open access (non-commercial)', 'Open access (restricted use)', 'Open access (unrestricted)']\n",
    "    normalized_counts['Category_sorted'] = pd.Categorical(normalized_counts['Model accessibility'], categories=sort_order, ordered=True)\n",
    "    normalized_counts = normalized_counts.sort_values(['Category_sorted', 'Year'])\n",
    "    \n",
    "    return normalized_counts"
   ]
  },
  {
   "cell_type": "code",
   "execution_count": 18,
   "metadata": {},
   "outputs": [],
   "source": [
    "normalized_counts_total = normalize_counts(access_counts)\n",
    "normalized_counts_notable = normalize_counts(notable_counts)"
   ]
  },
  {
   "cell_type": "code",
   "execution_count": 19,
   "metadata": {},
   "outputs": [
    {
     "data": {
      "application/vnd.plotly.v1+json": {
       "config": {
        "plotlyServerURL": "https://plot.ly"
       },
       "data": [
        {
         "hoverinfo": "x+y",
         "line": {
          "color": "#d62728"
         },
         "mode": "lines",
         "name": "Unreleased",
         "stackgroup": "one",
         "type": "scatter",
         "x": [
          2015,
          2016,
          2017,
          2018,
          2019,
          2020,
          2021,
          2022,
          2023,
          2024
         ],
         "xaxis": "x",
         "y": [
          7,
          16,
          35,
          59,
          95,
          116,
          134,
          156,
          169,
          176
         ],
         "yaxis": "y"
        },
        {
         "hoverinfo": "x+y",
         "line": {
          "color": "#ff7f0e"
         },
         "mode": "lines",
         "name": "Hosted access (no API)",
         "stackgroup": "one",
         "type": "scatter",
         "x": [
          2015,
          2016,
          2017,
          2018,
          2019,
          2020,
          2021,
          2022,
          2023,
          2024
         ],
         "xaxis": "x",
         "y": [
          0,
          1,
          1,
          1,
          1,
          1,
          3,
          3,
          4,
          7
         ],
         "yaxis": "y"
        },
        {
         "hoverinfo": "x+y",
         "line": {
          "color": "#8c564b"
         },
         "mode": "lines",
         "name": "API access",
         "stackgroup": "one",
         "type": "scatter",
         "x": [
          2015,
          2016,
          2017,
          2018,
          2019,
          2020,
          2021,
          2022,
          2023,
          2024
         ],
         "xaxis": "x",
         "y": [
          0,
          0,
          0,
          0,
          0,
          1,
          5,
          9,
          20,
          26
         ],
         "yaxis": "y"
        },
        {
         "hoverinfo": "x+y",
         "line": {
          "color": "#9467bd"
         },
         "mode": "lines",
         "name": "Open access (non-commercial)",
         "stackgroup": "one",
         "type": "scatter",
         "x": [
          2015,
          2016,
          2017,
          2018,
          2019,
          2020,
          2021,
          2022,
          2023,
          2024
         ],
         "xaxis": "x",
         "y": [
          0,
          2,
          2,
          3,
          12,
          13,
          18,
          27,
          42,
          42
         ],
         "yaxis": "y"
        },
        {
         "hoverinfo": "x+y",
         "line": {
          "color": "#1f77b4"
         },
         "mode": "lines",
         "name": "Open access (restricted use)",
         "stackgroup": "one",
         "type": "scatter",
         "x": [
          2015,
          2016,
          2017,
          2018,
          2019,
          2020,
          2021,
          2022,
          2023,
          2024
         ],
         "xaxis": "x",
         "y": [
          0,
          0,
          0,
          0,
          0,
          0,
          0,
          2,
          18,
          23
         ],
         "yaxis": "y"
        },
        {
         "hoverinfo": "x+y",
         "line": {
          "color": "#2ca02c"
         },
         "mode": "lines",
         "name": "Open access (unrestricted)",
         "stackgroup": "one",
         "type": "scatter",
         "x": [
          2015,
          2016,
          2017,
          2018,
          2019,
          2020,
          2021,
          2022,
          2023,
          2024
         ],
         "xaxis": "x",
         "y": [
          2,
          3,
          3,
          13,
          44,
          76,
          106,
          131,
          151,
          156
         ],
         "yaxis": "y"
        },
        {
         "hoverinfo": "x+y",
         "line": {
          "color": "#d62728"
         },
         "mode": "lines",
         "name": "Unreleased",
         "showlegend": false,
         "stackgroup": "one",
         "type": "scatter",
         "x": [
          2015,
          2016,
          2017,
          2018,
          2019,
          2020,
          2021,
          2022,
          2023,
          2024
         ],
         "xaxis": "x2",
         "y": [
          0.7777777777777778,
          0.7272727272727273,
          0.8536585365853658,
          0.7763157894736842,
          0.625,
          0.5603864734299517,
          0.5037593984962406,
          0.47560975609756095,
          0.4183168316831683,
          0.40930232558139534
         ],
         "yaxis": "y2"
        },
        {
         "hoverinfo": "x+y",
         "line": {
          "color": "#ff7f0e"
         },
         "mode": "lines",
         "name": "Hosted access (no API)",
         "showlegend": false,
         "stackgroup": "one",
         "type": "scatter",
         "x": [
          2015,
          2016,
          2017,
          2018,
          2019,
          2020,
          2021,
          2022,
          2023,
          2024
         ],
         "xaxis": "x2",
         "y": [
          0,
          0.045454545454545456,
          0.024390243902439025,
          0.013157894736842105,
          0.006578947368421052,
          0.004830917874396135,
          0.011278195488721804,
          0.009146341463414634,
          0.009900990099009901,
          0.01627906976744186
         ],
         "yaxis": "y2"
        },
        {
         "hoverinfo": "x+y",
         "line": {
          "color": "#8c564b"
         },
         "mode": "lines",
         "name": "API access",
         "showlegend": false,
         "stackgroup": "one",
         "type": "scatter",
         "x": [
          2015,
          2016,
          2017,
          2018,
          2019,
          2020,
          2021,
          2022,
          2023,
          2024
         ],
         "xaxis": "x2",
         "y": [
          0,
          0,
          0,
          0,
          0,
          0.004830917874396135,
          0.018796992481203006,
          0.027439024390243903,
          0.04950495049504951,
          0.06046511627906977
         ],
         "yaxis": "y2"
        },
        {
         "hoverinfo": "x+y",
         "line": {
          "color": "#9467bd"
         },
         "mode": "lines",
         "name": "Open access (non-commercial)",
         "showlegend": false,
         "stackgroup": "one",
         "type": "scatter",
         "x": [
          2015,
          2016,
          2017,
          2018,
          2019,
          2020,
          2021,
          2022,
          2023,
          2024
         ],
         "xaxis": "x2",
         "y": [
          0,
          0.09090909090909091,
          0.04878048780487805,
          0.039473684210526314,
          0.07894736842105263,
          0.06280193236714976,
          0.06766917293233082,
          0.08231707317073171,
          0.10396039603960396,
          0.09767441860465116
         ],
         "yaxis": "y2"
        },
        {
         "hoverinfo": "x+y",
         "line": {
          "color": "#1f77b4"
         },
         "mode": "lines",
         "name": "Open access (restricted use)",
         "showlegend": false,
         "stackgroup": "one",
         "type": "scatter",
         "x": [
          2015,
          2016,
          2017,
          2018,
          2019,
          2020,
          2021,
          2022,
          2023,
          2024
         ],
         "xaxis": "x2",
         "y": [
          0,
          0,
          0,
          0,
          0,
          0,
          0,
          0.006097560975609756,
          0.04455445544554455,
          0.053488372093023255
         ],
         "yaxis": "y2"
        },
        {
         "hoverinfo": "x+y",
         "line": {
          "color": "#2ca02c"
         },
         "mode": "lines",
         "name": "Open access (unrestricted)",
         "showlegend": false,
         "stackgroup": "one",
         "type": "scatter",
         "x": [
          2015,
          2016,
          2017,
          2018,
          2019,
          2020,
          2021,
          2022,
          2023,
          2024
         ],
         "xaxis": "x2",
         "y": [
          0.2222222222222222,
          0.13636363636363635,
          0.07317073170731707,
          0.17105263157894737,
          0.2894736842105263,
          0.3671497584541063,
          0.39849624060150374,
          0.39939024390243905,
          0.37376237623762376,
          0.3627906976744186
         ],
         "yaxis": "y2"
        }
       ],
       "layout": {
        "annotations": [
         {
          "font": {
           "size": 16
          },
          "showarrow": false,
          "text": "Cumulative count",
          "x": 0.225,
          "xanchor": "center",
          "xref": "paper",
          "y": 1,
          "yanchor": "bottom",
          "yref": "paper"
         },
         {
          "font": {
           "size": 16
          },
          "showarrow": false,
          "text": "Cumulative proportion",
          "x": 0.775,
          "xanchor": "center",
          "xref": "paper",
          "y": 1,
          "yanchor": "bottom",
          "yref": "paper"
         }
        ],
        "autosize": false,
        "height": 600,
        "showlegend": true,
        "template": {
         "data": {
          "bar": [
           {
            "error_x": {
             "color": "#2a3f5f"
            },
            "error_y": {
             "color": "#2a3f5f"
            },
            "marker": {
             "line": {
              "color": "#E5ECF6",
              "width": 0.5
             },
             "pattern": {
              "fillmode": "overlay",
              "size": 10,
              "solidity": 0.2
             }
            },
            "type": "bar"
           }
          ],
          "barpolar": [
           {
            "marker": {
             "line": {
              "color": "#E5ECF6",
              "width": 0.5
             },
             "pattern": {
              "fillmode": "overlay",
              "size": 10,
              "solidity": 0.2
             }
            },
            "type": "barpolar"
           }
          ],
          "carpet": [
           {
            "aaxis": {
             "endlinecolor": "#2a3f5f",
             "gridcolor": "white",
             "linecolor": "white",
             "minorgridcolor": "white",
             "startlinecolor": "#2a3f5f"
            },
            "baxis": {
             "endlinecolor": "#2a3f5f",
             "gridcolor": "white",
             "linecolor": "white",
             "minorgridcolor": "white",
             "startlinecolor": "#2a3f5f"
            },
            "type": "carpet"
           }
          ],
          "choropleth": [
           {
            "colorbar": {
             "outlinewidth": 0,
             "ticks": ""
            },
            "type": "choropleth"
           }
          ],
          "contour": [
           {
            "colorbar": {
             "outlinewidth": 0,
             "ticks": ""
            },
            "colorscale": [
             [
              0,
              "#0d0887"
             ],
             [
              0.1111111111111111,
              "#46039f"
             ],
             [
              0.2222222222222222,
              "#7201a8"
             ],
             [
              0.3333333333333333,
              "#9c179e"
             ],
             [
              0.4444444444444444,
              "#bd3786"
             ],
             [
              0.5555555555555556,
              "#d8576b"
             ],
             [
              0.6666666666666666,
              "#ed7953"
             ],
             [
              0.7777777777777778,
              "#fb9f3a"
             ],
             [
              0.8888888888888888,
              "#fdca26"
             ],
             [
              1,
              "#f0f921"
             ]
            ],
            "type": "contour"
           }
          ],
          "contourcarpet": [
           {
            "colorbar": {
             "outlinewidth": 0,
             "ticks": ""
            },
            "type": "contourcarpet"
           }
          ],
          "heatmap": [
           {
            "colorbar": {
             "outlinewidth": 0,
             "ticks": ""
            },
            "colorscale": [
             [
              0,
              "#0d0887"
             ],
             [
              0.1111111111111111,
              "#46039f"
             ],
             [
              0.2222222222222222,
              "#7201a8"
             ],
             [
              0.3333333333333333,
              "#9c179e"
             ],
             [
              0.4444444444444444,
              "#bd3786"
             ],
             [
              0.5555555555555556,
              "#d8576b"
             ],
             [
              0.6666666666666666,
              "#ed7953"
             ],
             [
              0.7777777777777778,
              "#fb9f3a"
             ],
             [
              0.8888888888888888,
              "#fdca26"
             ],
             [
              1,
              "#f0f921"
             ]
            ],
            "type": "heatmap"
           }
          ],
          "heatmapgl": [
           {
            "colorbar": {
             "outlinewidth": 0,
             "ticks": ""
            },
            "colorscale": [
             [
              0,
              "#0d0887"
             ],
             [
              0.1111111111111111,
              "#46039f"
             ],
             [
              0.2222222222222222,
              "#7201a8"
             ],
             [
              0.3333333333333333,
              "#9c179e"
             ],
             [
              0.4444444444444444,
              "#bd3786"
             ],
             [
              0.5555555555555556,
              "#d8576b"
             ],
             [
              0.6666666666666666,
              "#ed7953"
             ],
             [
              0.7777777777777778,
              "#fb9f3a"
             ],
             [
              0.8888888888888888,
              "#fdca26"
             ],
             [
              1,
              "#f0f921"
             ]
            ],
            "type": "heatmapgl"
           }
          ],
          "histogram": [
           {
            "marker": {
             "pattern": {
              "fillmode": "overlay",
              "size": 10,
              "solidity": 0.2
             }
            },
            "type": "histogram"
           }
          ],
          "histogram2d": [
           {
            "colorbar": {
             "outlinewidth": 0,
             "ticks": ""
            },
            "colorscale": [
             [
              0,
              "#0d0887"
             ],
             [
              0.1111111111111111,
              "#46039f"
             ],
             [
              0.2222222222222222,
              "#7201a8"
             ],
             [
              0.3333333333333333,
              "#9c179e"
             ],
             [
              0.4444444444444444,
              "#bd3786"
             ],
             [
              0.5555555555555556,
              "#d8576b"
             ],
             [
              0.6666666666666666,
              "#ed7953"
             ],
             [
              0.7777777777777778,
              "#fb9f3a"
             ],
             [
              0.8888888888888888,
              "#fdca26"
             ],
             [
              1,
              "#f0f921"
             ]
            ],
            "type": "histogram2d"
           }
          ],
          "histogram2dcontour": [
           {
            "colorbar": {
             "outlinewidth": 0,
             "ticks": ""
            },
            "colorscale": [
             [
              0,
              "#0d0887"
             ],
             [
              0.1111111111111111,
              "#46039f"
             ],
             [
              0.2222222222222222,
              "#7201a8"
             ],
             [
              0.3333333333333333,
              "#9c179e"
             ],
             [
              0.4444444444444444,
              "#bd3786"
             ],
             [
              0.5555555555555556,
              "#d8576b"
             ],
             [
              0.6666666666666666,
              "#ed7953"
             ],
             [
              0.7777777777777778,
              "#fb9f3a"
             ],
             [
              0.8888888888888888,
              "#fdca26"
             ],
             [
              1,
              "#f0f921"
             ]
            ],
            "type": "histogram2dcontour"
           }
          ],
          "mesh3d": [
           {
            "colorbar": {
             "outlinewidth": 0,
             "ticks": ""
            },
            "type": "mesh3d"
           }
          ],
          "parcoords": [
           {
            "line": {
             "colorbar": {
              "outlinewidth": 0,
              "ticks": ""
             }
            },
            "type": "parcoords"
           }
          ],
          "pie": [
           {
            "automargin": true,
            "type": "pie"
           }
          ],
          "scatter": [
           {
            "fillpattern": {
             "fillmode": "overlay",
             "size": 10,
             "solidity": 0.2
            },
            "type": "scatter"
           }
          ],
          "scatter3d": [
           {
            "line": {
             "colorbar": {
              "outlinewidth": 0,
              "ticks": ""
             }
            },
            "marker": {
             "colorbar": {
              "outlinewidth": 0,
              "ticks": ""
             }
            },
            "type": "scatter3d"
           }
          ],
          "scattercarpet": [
           {
            "marker": {
             "colorbar": {
              "outlinewidth": 0,
              "ticks": ""
             }
            },
            "type": "scattercarpet"
           }
          ],
          "scattergeo": [
           {
            "marker": {
             "colorbar": {
              "outlinewidth": 0,
              "ticks": ""
             }
            },
            "type": "scattergeo"
           }
          ],
          "scattergl": [
           {
            "marker": {
             "colorbar": {
              "outlinewidth": 0,
              "ticks": ""
             }
            },
            "type": "scattergl"
           }
          ],
          "scattermapbox": [
           {
            "marker": {
             "colorbar": {
              "outlinewidth": 0,
              "ticks": ""
             }
            },
            "type": "scattermapbox"
           }
          ],
          "scatterpolar": [
           {
            "marker": {
             "colorbar": {
              "outlinewidth": 0,
              "ticks": ""
             }
            },
            "type": "scatterpolar"
           }
          ],
          "scatterpolargl": [
           {
            "marker": {
             "colorbar": {
              "outlinewidth": 0,
              "ticks": ""
             }
            },
            "type": "scatterpolargl"
           }
          ],
          "scatterternary": [
           {
            "marker": {
             "colorbar": {
              "outlinewidth": 0,
              "ticks": ""
             }
            },
            "type": "scatterternary"
           }
          ],
          "surface": [
           {
            "colorbar": {
             "outlinewidth": 0,
             "ticks": ""
            },
            "colorscale": [
             [
              0,
              "#0d0887"
             ],
             [
              0.1111111111111111,
              "#46039f"
             ],
             [
              0.2222222222222222,
              "#7201a8"
             ],
             [
              0.3333333333333333,
              "#9c179e"
             ],
             [
              0.4444444444444444,
              "#bd3786"
             ],
             [
              0.5555555555555556,
              "#d8576b"
             ],
             [
              0.6666666666666666,
              "#ed7953"
             ],
             [
              0.7777777777777778,
              "#fb9f3a"
             ],
             [
              0.8888888888888888,
              "#fdca26"
             ],
             [
              1,
              "#f0f921"
             ]
            ],
            "type": "surface"
           }
          ],
          "table": [
           {
            "cells": {
             "fill": {
              "color": "#EBF0F8"
             },
             "line": {
              "color": "white"
             }
            },
            "header": {
             "fill": {
              "color": "#C8D4E3"
             },
             "line": {
              "color": "white"
             }
            },
            "type": "table"
           }
          ]
         },
         "layout": {
          "annotationdefaults": {
           "arrowcolor": "#2a3f5f",
           "arrowhead": 0,
           "arrowwidth": 1
          },
          "autotypenumbers": "strict",
          "coloraxis": {
           "colorbar": {
            "outlinewidth": 0,
            "ticks": ""
           }
          },
          "colorscale": {
           "diverging": [
            [
             0,
             "#8e0152"
            ],
            [
             0.1,
             "#c51b7d"
            ],
            [
             0.2,
             "#de77ae"
            ],
            [
             0.3,
             "#f1b6da"
            ],
            [
             0.4,
             "#fde0ef"
            ],
            [
             0.5,
             "#f7f7f7"
            ],
            [
             0.6,
             "#e6f5d0"
            ],
            [
             0.7,
             "#b8e186"
            ],
            [
             0.8,
             "#7fbc41"
            ],
            [
             0.9,
             "#4d9221"
            ],
            [
             1,
             "#276419"
            ]
           ],
           "sequential": [
            [
             0,
             "#0d0887"
            ],
            [
             0.1111111111111111,
             "#46039f"
            ],
            [
             0.2222222222222222,
             "#7201a8"
            ],
            [
             0.3333333333333333,
             "#9c179e"
            ],
            [
             0.4444444444444444,
             "#bd3786"
            ],
            [
             0.5555555555555556,
             "#d8576b"
            ],
            [
             0.6666666666666666,
             "#ed7953"
            ],
            [
             0.7777777777777778,
             "#fb9f3a"
            ],
            [
             0.8888888888888888,
             "#fdca26"
            ],
            [
             1,
             "#f0f921"
            ]
           ],
           "sequentialminus": [
            [
             0,
             "#0d0887"
            ],
            [
             0.1111111111111111,
             "#46039f"
            ],
            [
             0.2222222222222222,
             "#7201a8"
            ],
            [
             0.3333333333333333,
             "#9c179e"
            ],
            [
             0.4444444444444444,
             "#bd3786"
            ],
            [
             0.5555555555555556,
             "#d8576b"
            ],
            [
             0.6666666666666666,
             "#ed7953"
            ],
            [
             0.7777777777777778,
             "#fb9f3a"
            ],
            [
             0.8888888888888888,
             "#fdca26"
            ],
            [
             1,
             "#f0f921"
            ]
           ]
          },
          "colorway": [
           "#636efa",
           "#EF553B",
           "#00cc96",
           "#ab63fa",
           "#FFA15A",
           "#19d3f3",
           "#FF6692",
           "#B6E880",
           "#FF97FF",
           "#FECB52"
          ],
          "font": {
           "color": "#2a3f5f"
          },
          "geo": {
           "bgcolor": "white",
           "lakecolor": "white",
           "landcolor": "#E5ECF6",
           "showlakes": true,
           "showland": true,
           "subunitcolor": "white"
          },
          "hoverlabel": {
           "align": "left"
          },
          "hovermode": "closest",
          "mapbox": {
           "style": "light"
          },
          "paper_bgcolor": "white",
          "plot_bgcolor": "#E5ECF6",
          "polar": {
           "angularaxis": {
            "gridcolor": "white",
            "linecolor": "white",
            "ticks": ""
           },
           "bgcolor": "#E5ECF6",
           "radialaxis": {
            "gridcolor": "white",
            "linecolor": "white",
            "ticks": ""
           }
          },
          "scene": {
           "xaxis": {
            "backgroundcolor": "#E5ECF6",
            "gridcolor": "white",
            "gridwidth": 2,
            "linecolor": "white",
            "showbackground": true,
            "ticks": "",
            "zerolinecolor": "white"
           },
           "yaxis": {
            "backgroundcolor": "#E5ECF6",
            "gridcolor": "white",
            "gridwidth": 2,
            "linecolor": "white",
            "showbackground": true,
            "ticks": "",
            "zerolinecolor": "white"
           },
           "zaxis": {
            "backgroundcolor": "#E5ECF6",
            "gridcolor": "white",
            "gridwidth": 2,
            "linecolor": "white",
            "showbackground": true,
            "ticks": "",
            "zerolinecolor": "white"
           }
          },
          "shapedefaults": {
           "line": {
            "color": "#2a3f5f"
           }
          },
          "ternary": {
           "aaxis": {
            "gridcolor": "white",
            "linecolor": "white",
            "ticks": ""
           },
           "baxis": {
            "gridcolor": "white",
            "linecolor": "white",
            "ticks": ""
           },
           "bgcolor": "#E5ECF6",
           "caxis": {
            "gridcolor": "white",
            "linecolor": "white",
            "ticks": ""
           }
          },
          "title": {
           "x": 0.05
          },
          "xaxis": {
           "automargin": true,
           "gridcolor": "white",
           "linecolor": "white",
           "ticks": "",
           "title": {
            "standoff": 15
           },
           "zerolinecolor": "white",
           "zerolinewidth": 2
          },
          "yaxis": {
           "automargin": true,
           "gridcolor": "white",
           "linecolor": "white",
           "ticks": "",
           "title": {
            "standoff": 15
           },
           "zerolinecolor": "white",
           "zerolinewidth": 2
          }
         }
        },
        "title": {
         "text": "Notable models accessibility over time"
        },
        "width": 1200,
        "xaxis": {
         "anchor": "y",
         "domain": [
          0,
          0.45
         ],
         "range": [
          2018,
          2024
         ],
         "title": {
          "text": "Year"
         }
        },
        "xaxis2": {
         "anchor": "y2",
         "domain": [
          0.55,
          1
         ],
         "range": [
          2018,
          2024
         ],
         "title": {
          "text": "Year"
         }
        },
        "yaxis": {
         "anchor": "x",
         "domain": [
          0,
          1
         ],
         "title": {
          "text": "Cumulative count"
         }
        },
        "yaxis2": {
         "anchor": "x2",
         "domain": [
          0,
          1
         ],
         "range": [
          0,
          1
         ],
         "title": {
          "text": "Cumulative proportion"
         }
        }
       }
      }
     },
     "metadata": {},
     "output_type": "display_data"
    }
   ],
   "source": [
    "# Create a 1x2 subplot\n",
    "fig = make_subplots(rows=1, cols=2, subplot_titles=('Cumulative count',\n",
    "                                                    'Cumulative proportion'))\n",
    "\n",
    "# Define a consistent color palette\n",
    "color_palette = {\n",
    "    'Unreleased': '#d62728',\n",
    "    'Hosted access (no API)': '#ff7f0e',\n",
    "    'API access': '#8c564b',\n",
    "    'Open access (non-commercial)': '#9467bd',\n",
    "    'Open access (restricted use)': '#1f77b4',\n",
    "    'Open access (unrestricted)': '#2ca02c'\n",
    "}\n",
    "\n",
    "# Cumulative area chart\n",
    "for accessibility in cumulative_notable_counts['Model accessibility'].unique():\n",
    "    fig.add_trace(\n",
    "        go.Scatter(x=cumulative_notable_counts[cumulative_notable_counts['Model accessibility'] == accessibility]['Year'], \n",
    "                y=cumulative_notable_counts[cumulative_notable_counts['Model accessibility'] == accessibility]['Cumulative for status'], \n",
    "                hoverinfo='x+y',\n",
    "                stackgroup='one',\n",
    "                mode='lines',\n",
    "                name=accessibility,\n",
    "                line=dict(color=color_palette[accessibility])),\n",
    "        row=1, col=1\n",
    "    )\n",
    "\n",
    "# Normalized area chart\n",
    "for accessibility in normalized_counts_notable['Model accessibility'].unique():\n",
    "    fig.add_trace(\n",
    "        go.Scatter(x=normalized_counts_notable[normalized_counts_notable['Model accessibility'] == accessibility]['Year'], \n",
    "                y=normalized_counts_notable[normalized_counts_notable['Model accessibility'] == accessibility]['proportion'], \n",
    "                hoverinfo='x+y',\n",
    "                stackgroup='one',\n",
    "                mode='lines',\n",
    "                name=accessibility,\n",
    "                line=dict(color=color_palette[accessibility]),\n",
    "                showlegend=False),\n",
    "        row=1, col=2\n",
    "    )\n",
    "\n",
    "# Update layout\n",
    "fig.update_layout(\n",
    "    autosize=False,\n",
    "    width=1200,\n",
    "    height=600,\n",
    "    title_text='Notable models accessibility over time',\n",
    "    showlegend=True\n",
    ")\n",
    "\n",
    "# Update x and y axes\n",
    "fig.update_xaxes(title_text='Year', range=[2018, 2024], row=1, col=1)\n",
    "fig.update_xaxes(title_text='Year', range=[2018, 2024], row=1, col=2)\n",
    "fig.update_yaxes(title_text='Cumulative count', row=1, col=1)\n",
    "fig.update_yaxes(title_text='Cumulative proportion', range=[0, 1], row=1, col=2)\n",
    "\n",
    "save_plot(fig, results_dir, f'cumulative_model_count_by_accessibility')\n",
    "\n",
    "fig.show()"
   ]
  },
  {
   "cell_type": "markdown",
   "metadata": {},
   "source": [
    "This chart shows the proportions over time more clearly - open weights have never been very rare (at least 10%). But open models have become much more common over time, making up around half of models today. The large majority of those are permissively licensed (\"Open access (unrestricted)\") even today but open with restrictions has become more common over time."
   ]
  },
  {
   "cell_type": "code",
   "execution_count": 20,
   "metadata": {
    "tags": []
   },
   "outputs": [
    {
     "data": {
      "application/vnd.plotly.v1+json": {
       "config": {
        "plotlyServerURL": "https://plot.ly"
       },
       "data": [
        {
         "fillpattern": {
          "shape": ""
         },
         "hovertemplate": "Model accessibility=Unreleased<br>Year=%{x}<br>Proportion=%{y}<extra></extra>",
         "legendgroup": "Unreleased",
         "line": {
          "color": "#636efa"
         },
         "marker": {
          "symbol": "circle"
         },
         "mode": "lines",
         "name": "Unreleased",
         "orientation": "v",
         "showlegend": true,
         "stackgroup": "1",
         "type": "scatter",
         "x": [
          2015,
          2016,
          2017,
          2018,
          2019,
          2020,
          2021,
          2022,
          2023,
          2024
         ],
         "xaxis": "x",
         "y": [
          0.7777777777777778,
          0.7272727272727273,
          0.8536585365853658,
          0.7763157894736842,
          0.625,
          0.5603864734299517,
          0.5037593984962406,
          0.47560975609756095,
          0.4183168316831683,
          0.40930232558139534
         ],
         "yaxis": "y"
        },
        {
         "fillpattern": {
          "shape": ""
         },
         "hovertemplate": "Model accessibility=Hosted access (no API)<br>Year=%{x}<br>Proportion=%{y}<extra></extra>",
         "legendgroup": "Hosted access (no API)",
         "line": {
          "color": "#EF553B"
         },
         "marker": {
          "symbol": "circle"
         },
         "mode": "lines",
         "name": "Hosted access (no API)",
         "orientation": "v",
         "showlegend": true,
         "stackgroup": "1",
         "type": "scatter",
         "x": [
          2015,
          2016,
          2017,
          2018,
          2019,
          2020,
          2021,
          2022,
          2023,
          2024
         ],
         "xaxis": "x",
         "y": [
          0,
          0.045454545454545456,
          0.024390243902439025,
          0.013157894736842105,
          0.006578947368421052,
          0.004830917874396135,
          0.011278195488721804,
          0.009146341463414634,
          0.009900990099009901,
          0.01627906976744186
         ],
         "yaxis": "y"
        },
        {
         "fillpattern": {
          "shape": ""
         },
         "hovertemplate": "Model accessibility=API access<br>Year=%{x}<br>Proportion=%{y}<extra></extra>",
         "legendgroup": "API access",
         "line": {
          "color": "#00cc96"
         },
         "marker": {
          "symbol": "circle"
         },
         "mode": "lines",
         "name": "API access",
         "orientation": "v",
         "showlegend": true,
         "stackgroup": "1",
         "type": "scatter",
         "x": [
          2015,
          2016,
          2017,
          2018,
          2019,
          2020,
          2021,
          2022,
          2023,
          2024
         ],
         "xaxis": "x",
         "y": [
          0,
          0,
          0,
          0,
          0,
          0.004830917874396135,
          0.018796992481203006,
          0.027439024390243903,
          0.04950495049504951,
          0.06046511627906977
         ],
         "yaxis": "y"
        },
        {
         "fillpattern": {
          "shape": ""
         },
         "hovertemplate": "Model accessibility=Open access (non-commercial)<br>Year=%{x}<br>Proportion=%{y}<extra></extra>",
         "legendgroup": "Open access (non-commercial)",
         "line": {
          "color": "#ab63fa"
         },
         "marker": {
          "symbol": "circle"
         },
         "mode": "lines",
         "name": "Open access (non-commercial)",
         "orientation": "v",
         "showlegend": true,
         "stackgroup": "1",
         "type": "scatter",
         "x": [
          2015,
          2016,
          2017,
          2018,
          2019,
          2020,
          2021,
          2022,
          2023,
          2024
         ],
         "xaxis": "x",
         "y": [
          0,
          0.09090909090909091,
          0.04878048780487805,
          0.039473684210526314,
          0.07894736842105263,
          0.06280193236714976,
          0.06766917293233082,
          0.08231707317073171,
          0.10396039603960396,
          0.09767441860465116
         ],
         "yaxis": "y"
        },
        {
         "fillpattern": {
          "shape": ""
         },
         "hovertemplate": "Model accessibility=Open access (restricted use)<br>Year=%{x}<br>Proportion=%{y}<extra></extra>",
         "legendgroup": "Open access (restricted use)",
         "line": {
          "color": "#FFA15A"
         },
         "marker": {
          "symbol": "circle"
         },
         "mode": "lines",
         "name": "Open access (restricted use)",
         "orientation": "v",
         "showlegend": true,
         "stackgroup": "1",
         "type": "scatter",
         "x": [
          2015,
          2016,
          2017,
          2018,
          2019,
          2020,
          2021,
          2022,
          2023,
          2024
         ],
         "xaxis": "x",
         "y": [
          0,
          0,
          0,
          0,
          0,
          0,
          0,
          0.006097560975609756,
          0.04455445544554455,
          0.053488372093023255
         ],
         "yaxis": "y"
        },
        {
         "fillpattern": {
          "shape": ""
         },
         "hovertemplate": "Model accessibility=Open access (unrestricted)<br>Year=%{x}<br>Proportion=%{y}<extra></extra>",
         "legendgroup": "Open access (unrestricted)",
         "line": {
          "color": "#19d3f3"
         },
         "marker": {
          "symbol": "circle"
         },
         "mode": "lines",
         "name": "Open access (unrestricted)",
         "orientation": "v",
         "showlegend": true,
         "stackgroup": "1",
         "type": "scatter",
         "x": [
          2015,
          2016,
          2017,
          2018,
          2019,
          2020,
          2021,
          2022,
          2023,
          2024
         ],
         "xaxis": "x",
         "y": [
          0.2222222222222222,
          0.13636363636363635,
          0.07317073170731707,
          0.17105263157894737,
          0.2894736842105263,
          0.3671497584541063,
          0.39849624060150374,
          0.39939024390243905,
          0.37376237623762376,
          0.3627906976744186
         ],
         "yaxis": "y"
        }
       ],
       "layout": {
        "autosize": false,
        "height": 600,
        "legend": {
         "title": {
          "text": "Model accessibility"
         },
         "tracegroupgap": 0
        },
        "template": {
         "data": {
          "bar": [
           {
            "error_x": {
             "color": "#2a3f5f"
            },
            "error_y": {
             "color": "#2a3f5f"
            },
            "marker": {
             "line": {
              "color": "#E5ECF6",
              "width": 0.5
             },
             "pattern": {
              "fillmode": "overlay",
              "size": 10,
              "solidity": 0.2
             }
            },
            "type": "bar"
           }
          ],
          "barpolar": [
           {
            "marker": {
             "line": {
              "color": "#E5ECF6",
              "width": 0.5
             },
             "pattern": {
              "fillmode": "overlay",
              "size": 10,
              "solidity": 0.2
             }
            },
            "type": "barpolar"
           }
          ],
          "carpet": [
           {
            "aaxis": {
             "endlinecolor": "#2a3f5f",
             "gridcolor": "white",
             "linecolor": "white",
             "minorgridcolor": "white",
             "startlinecolor": "#2a3f5f"
            },
            "baxis": {
             "endlinecolor": "#2a3f5f",
             "gridcolor": "white",
             "linecolor": "white",
             "minorgridcolor": "white",
             "startlinecolor": "#2a3f5f"
            },
            "type": "carpet"
           }
          ],
          "choropleth": [
           {
            "colorbar": {
             "outlinewidth": 0,
             "ticks": ""
            },
            "type": "choropleth"
           }
          ],
          "contour": [
           {
            "colorbar": {
             "outlinewidth": 0,
             "ticks": ""
            },
            "colorscale": [
             [
              0,
              "#0d0887"
             ],
             [
              0.1111111111111111,
              "#46039f"
             ],
             [
              0.2222222222222222,
              "#7201a8"
             ],
             [
              0.3333333333333333,
              "#9c179e"
             ],
             [
              0.4444444444444444,
              "#bd3786"
             ],
             [
              0.5555555555555556,
              "#d8576b"
             ],
             [
              0.6666666666666666,
              "#ed7953"
             ],
             [
              0.7777777777777778,
              "#fb9f3a"
             ],
             [
              0.8888888888888888,
              "#fdca26"
             ],
             [
              1,
              "#f0f921"
             ]
            ],
            "type": "contour"
           }
          ],
          "contourcarpet": [
           {
            "colorbar": {
             "outlinewidth": 0,
             "ticks": ""
            },
            "type": "contourcarpet"
           }
          ],
          "heatmap": [
           {
            "colorbar": {
             "outlinewidth": 0,
             "ticks": ""
            },
            "colorscale": [
             [
              0,
              "#0d0887"
             ],
             [
              0.1111111111111111,
              "#46039f"
             ],
             [
              0.2222222222222222,
              "#7201a8"
             ],
             [
              0.3333333333333333,
              "#9c179e"
             ],
             [
              0.4444444444444444,
              "#bd3786"
             ],
             [
              0.5555555555555556,
              "#d8576b"
             ],
             [
              0.6666666666666666,
              "#ed7953"
             ],
             [
              0.7777777777777778,
              "#fb9f3a"
             ],
             [
              0.8888888888888888,
              "#fdca26"
             ],
             [
              1,
              "#f0f921"
             ]
            ],
            "type": "heatmap"
           }
          ],
          "heatmapgl": [
           {
            "colorbar": {
             "outlinewidth": 0,
             "ticks": ""
            },
            "colorscale": [
             [
              0,
              "#0d0887"
             ],
             [
              0.1111111111111111,
              "#46039f"
             ],
             [
              0.2222222222222222,
              "#7201a8"
             ],
             [
              0.3333333333333333,
              "#9c179e"
             ],
             [
              0.4444444444444444,
              "#bd3786"
             ],
             [
              0.5555555555555556,
              "#d8576b"
             ],
             [
              0.6666666666666666,
              "#ed7953"
             ],
             [
              0.7777777777777778,
              "#fb9f3a"
             ],
             [
              0.8888888888888888,
              "#fdca26"
             ],
             [
              1,
              "#f0f921"
             ]
            ],
            "type": "heatmapgl"
           }
          ],
          "histogram": [
           {
            "marker": {
             "pattern": {
              "fillmode": "overlay",
              "size": 10,
              "solidity": 0.2
             }
            },
            "type": "histogram"
           }
          ],
          "histogram2d": [
           {
            "colorbar": {
             "outlinewidth": 0,
             "ticks": ""
            },
            "colorscale": [
             [
              0,
              "#0d0887"
             ],
             [
              0.1111111111111111,
              "#46039f"
             ],
             [
              0.2222222222222222,
              "#7201a8"
             ],
             [
              0.3333333333333333,
              "#9c179e"
             ],
             [
              0.4444444444444444,
              "#bd3786"
             ],
             [
              0.5555555555555556,
              "#d8576b"
             ],
             [
              0.6666666666666666,
              "#ed7953"
             ],
             [
              0.7777777777777778,
              "#fb9f3a"
             ],
             [
              0.8888888888888888,
              "#fdca26"
             ],
             [
              1,
              "#f0f921"
             ]
            ],
            "type": "histogram2d"
           }
          ],
          "histogram2dcontour": [
           {
            "colorbar": {
             "outlinewidth": 0,
             "ticks": ""
            },
            "colorscale": [
             [
              0,
              "#0d0887"
             ],
             [
              0.1111111111111111,
              "#46039f"
             ],
             [
              0.2222222222222222,
              "#7201a8"
             ],
             [
              0.3333333333333333,
              "#9c179e"
             ],
             [
              0.4444444444444444,
              "#bd3786"
             ],
             [
              0.5555555555555556,
              "#d8576b"
             ],
             [
              0.6666666666666666,
              "#ed7953"
             ],
             [
              0.7777777777777778,
              "#fb9f3a"
             ],
             [
              0.8888888888888888,
              "#fdca26"
             ],
             [
              1,
              "#f0f921"
             ]
            ],
            "type": "histogram2dcontour"
           }
          ],
          "mesh3d": [
           {
            "colorbar": {
             "outlinewidth": 0,
             "ticks": ""
            },
            "type": "mesh3d"
           }
          ],
          "parcoords": [
           {
            "line": {
             "colorbar": {
              "outlinewidth": 0,
              "ticks": ""
             }
            },
            "type": "parcoords"
           }
          ],
          "pie": [
           {
            "automargin": true,
            "type": "pie"
           }
          ],
          "scatter": [
           {
            "fillpattern": {
             "fillmode": "overlay",
             "size": 10,
             "solidity": 0.2
            },
            "type": "scatter"
           }
          ],
          "scatter3d": [
           {
            "line": {
             "colorbar": {
              "outlinewidth": 0,
              "ticks": ""
             }
            },
            "marker": {
             "colorbar": {
              "outlinewidth": 0,
              "ticks": ""
             }
            },
            "type": "scatter3d"
           }
          ],
          "scattercarpet": [
           {
            "marker": {
             "colorbar": {
              "outlinewidth": 0,
              "ticks": ""
             }
            },
            "type": "scattercarpet"
           }
          ],
          "scattergeo": [
           {
            "marker": {
             "colorbar": {
              "outlinewidth": 0,
              "ticks": ""
             }
            },
            "type": "scattergeo"
           }
          ],
          "scattergl": [
           {
            "marker": {
             "colorbar": {
              "outlinewidth": 0,
              "ticks": ""
             }
            },
            "type": "scattergl"
           }
          ],
          "scattermapbox": [
           {
            "marker": {
             "colorbar": {
              "outlinewidth": 0,
              "ticks": ""
             }
            },
            "type": "scattermapbox"
           }
          ],
          "scatterpolar": [
           {
            "marker": {
             "colorbar": {
              "outlinewidth": 0,
              "ticks": ""
             }
            },
            "type": "scatterpolar"
           }
          ],
          "scatterpolargl": [
           {
            "marker": {
             "colorbar": {
              "outlinewidth": 0,
              "ticks": ""
             }
            },
            "type": "scatterpolargl"
           }
          ],
          "scatterternary": [
           {
            "marker": {
             "colorbar": {
              "outlinewidth": 0,
              "ticks": ""
             }
            },
            "type": "scatterternary"
           }
          ],
          "surface": [
           {
            "colorbar": {
             "outlinewidth": 0,
             "ticks": ""
            },
            "colorscale": [
             [
              0,
              "#0d0887"
             ],
             [
              0.1111111111111111,
              "#46039f"
             ],
             [
              0.2222222222222222,
              "#7201a8"
             ],
             [
              0.3333333333333333,
              "#9c179e"
             ],
             [
              0.4444444444444444,
              "#bd3786"
             ],
             [
              0.5555555555555556,
              "#d8576b"
             ],
             [
              0.6666666666666666,
              "#ed7953"
             ],
             [
              0.7777777777777778,
              "#fb9f3a"
             ],
             [
              0.8888888888888888,
              "#fdca26"
             ],
             [
              1,
              "#f0f921"
             ]
            ],
            "type": "surface"
           }
          ],
          "table": [
           {
            "cells": {
             "fill": {
              "color": "#EBF0F8"
             },
             "line": {
              "color": "white"
             }
            },
            "header": {
             "fill": {
              "color": "#C8D4E3"
             },
             "line": {
              "color": "white"
             }
            },
            "type": "table"
           }
          ]
         },
         "layout": {
          "annotationdefaults": {
           "arrowcolor": "#2a3f5f",
           "arrowhead": 0,
           "arrowwidth": 1
          },
          "autotypenumbers": "strict",
          "coloraxis": {
           "colorbar": {
            "outlinewidth": 0,
            "ticks": ""
           }
          },
          "colorscale": {
           "diverging": [
            [
             0,
             "#8e0152"
            ],
            [
             0.1,
             "#c51b7d"
            ],
            [
             0.2,
             "#de77ae"
            ],
            [
             0.3,
             "#f1b6da"
            ],
            [
             0.4,
             "#fde0ef"
            ],
            [
             0.5,
             "#f7f7f7"
            ],
            [
             0.6,
             "#e6f5d0"
            ],
            [
             0.7,
             "#b8e186"
            ],
            [
             0.8,
             "#7fbc41"
            ],
            [
             0.9,
             "#4d9221"
            ],
            [
             1,
             "#276419"
            ]
           ],
           "sequential": [
            [
             0,
             "#0d0887"
            ],
            [
             0.1111111111111111,
             "#46039f"
            ],
            [
             0.2222222222222222,
             "#7201a8"
            ],
            [
             0.3333333333333333,
             "#9c179e"
            ],
            [
             0.4444444444444444,
             "#bd3786"
            ],
            [
             0.5555555555555556,
             "#d8576b"
            ],
            [
             0.6666666666666666,
             "#ed7953"
            ],
            [
             0.7777777777777778,
             "#fb9f3a"
            ],
            [
             0.8888888888888888,
             "#fdca26"
            ],
            [
             1,
             "#f0f921"
            ]
           ],
           "sequentialminus": [
            [
             0,
             "#0d0887"
            ],
            [
             0.1111111111111111,
             "#46039f"
            ],
            [
             0.2222222222222222,
             "#7201a8"
            ],
            [
             0.3333333333333333,
             "#9c179e"
            ],
            [
             0.4444444444444444,
             "#bd3786"
            ],
            [
             0.5555555555555556,
             "#d8576b"
            ],
            [
             0.6666666666666666,
             "#ed7953"
            ],
            [
             0.7777777777777778,
             "#fb9f3a"
            ],
            [
             0.8888888888888888,
             "#fdca26"
            ],
            [
             1,
             "#f0f921"
            ]
           ]
          },
          "colorway": [
           "#636efa",
           "#EF553B",
           "#00cc96",
           "#ab63fa",
           "#FFA15A",
           "#19d3f3",
           "#FF6692",
           "#B6E880",
           "#FF97FF",
           "#FECB52"
          ],
          "font": {
           "color": "#2a3f5f"
          },
          "geo": {
           "bgcolor": "white",
           "lakecolor": "white",
           "landcolor": "#E5ECF6",
           "showlakes": true,
           "showland": true,
           "subunitcolor": "white"
          },
          "hoverlabel": {
           "align": "left"
          },
          "hovermode": "closest",
          "mapbox": {
           "style": "light"
          },
          "paper_bgcolor": "white",
          "plot_bgcolor": "#E5ECF6",
          "polar": {
           "angularaxis": {
            "gridcolor": "white",
            "linecolor": "white",
            "ticks": ""
           },
           "bgcolor": "#E5ECF6",
           "radialaxis": {
            "gridcolor": "white",
            "linecolor": "white",
            "ticks": ""
           }
          },
          "scene": {
           "xaxis": {
            "backgroundcolor": "#E5ECF6",
            "gridcolor": "white",
            "gridwidth": 2,
            "linecolor": "white",
            "showbackground": true,
            "ticks": "",
            "zerolinecolor": "white"
           },
           "yaxis": {
            "backgroundcolor": "#E5ECF6",
            "gridcolor": "white",
            "gridwidth": 2,
            "linecolor": "white",
            "showbackground": true,
            "ticks": "",
            "zerolinecolor": "white"
           },
           "zaxis": {
            "backgroundcolor": "#E5ECF6",
            "gridcolor": "white",
            "gridwidth": 2,
            "linecolor": "white",
            "showbackground": true,
            "ticks": "",
            "zerolinecolor": "white"
           }
          },
          "shapedefaults": {
           "line": {
            "color": "#2a3f5f"
           }
          },
          "ternary": {
           "aaxis": {
            "gridcolor": "white",
            "linecolor": "white",
            "ticks": ""
           },
           "baxis": {
            "gridcolor": "white",
            "linecolor": "white",
            "ticks": ""
           },
           "bgcolor": "#E5ECF6",
           "caxis": {
            "gridcolor": "white",
            "linecolor": "white",
            "ticks": ""
           }
          },
          "title": {
           "x": 0.05
          },
          "xaxis": {
           "automargin": true,
           "gridcolor": "white",
           "linecolor": "white",
           "ticks": "",
           "title": {
            "standoff": 15
           },
           "zerolinecolor": "white",
           "zerolinewidth": 2
          },
          "yaxis": {
           "automargin": true,
           "gridcolor": "white",
           "linecolor": "white",
           "ticks": "",
           "title": {
            "standoff": 15
           },
           "zerolinecolor": "white",
           "zerolinewidth": 2
          }
         }
        },
        "title": {
         "text": "Cumulative proportion of notable models by accessibility over time",
         "x": 0.2
        },
        "width": 800,
        "xaxis": {
         "anchor": "y",
         "domain": [
          0,
          1
         ],
         "range": [
          2018,
          2024
         ],
         "title": {
          "text": "Year"
         }
        },
        "yaxis": {
         "anchor": "x",
         "domain": [
          0,
          1
         ],
         "range": [
          0,
          1
         ],
         "title": {
          "text": "Proportion"
         }
        }
       }
      }
     },
     "metadata": {},
     "output_type": "display_data"
    }
   ],
   "source": [
    "fig = px.area(normalized_counts_notable, x='Year', y='proportion', color='Model accessibility', line_group='Model accessibility',\n",
    "              labels={'proportion': 'Proportion', 'Year': 'Year'},\n",
    "              title='Cumulative proportion of notable models by accessibility over time')\n",
    "\n",
    "fig.update_yaxes(range=[0, 1])\n",
    "fig.update_xaxes(range=[2018, 2024])\n",
    "fig.update_layout(\n",
    "    autosize=False,\n",
    "    width=800,\n",
    "    height=600,\n",
    "    title_x=0.2,\n",
    ")\n",
    "\n",
    "save_plot(fig, results_dir, f'notable_model_proportion_by_accessibility')\n",
    "\n",
    "fig.show()"
   ]
  },
  {
   "cell_type": "code",
   "execution_count": 21,
   "metadata": {},
   "outputs": [],
   "source": [
    "normalized_counts_notable.to_csv(results_dir + 'notable_model_proportion_by_accessibility.csv', index=False)"
   ]
  },
  {
   "cell_type": "code",
   "execution_count": 22,
   "metadata": {},
   "outputs": [
    {
     "data": {
      "application/vnd.plotly.v1+json": {
       "config": {
        "plotlyServerURL": "https://plot.ly"
       },
       "data": [
        {
         "fillpattern": {
          "shape": ""
         },
         "hovertemplate": "Model accessibility=Unreleased<br>Year=%{x}<br>Proportion=%{y}<extra></extra>",
         "legendgroup": "Unreleased",
         "line": {
          "color": "#636efa"
         },
         "marker": {
          "symbol": "circle"
         },
         "mode": "lines",
         "name": "Unreleased",
         "orientation": "v",
         "showlegend": true,
         "stackgroup": "1",
         "type": "scatter",
         "x": [
          2015,
          2016,
          2017,
          2018,
          2019,
          2020,
          2021,
          2022,
          2023,
          2024
         ],
         "xaxis": "x",
         "y": [
          0.6923076923076923,
          0.7692307692307693,
          0.868421052631579,
          0.7762237762237763,
          0.7183098591549296,
          0.683377308707124,
          0.6374045801526718,
          0.5818181818181818,
          0.473568281938326,
          0.4381139489194499
         ],
         "yaxis": "y"
        },
        {
         "fillpattern": {
          "shape": ""
         },
         "hovertemplate": "Model accessibility=Hosted access (no API)<br>Year=%{x}<br>Proportion=%{y}<extra></extra>",
         "legendgroup": "Hosted access (no API)",
         "line": {
          "color": "#EF553B"
         },
         "marker": {
          "symbol": "circle"
         },
         "mode": "lines",
         "name": "Hosted access (no API)",
         "orientation": "v",
         "showlegend": true,
         "stackgroup": "1",
         "type": "scatter",
         "x": [
          2015,
          2016,
          2017,
          2018,
          2019,
          2020,
          2021,
          2022,
          2023,
          2024
         ],
         "xaxis": "x",
         "y": [
          0,
          0.02564102564102564,
          0.013157894736842105,
          0.006993006993006993,
          0.007042253521126761,
          0.005277044854881266,
          0.007633587786259542,
          0.010606060606060607,
          0.01762114537444934,
          0.026522593320235755
         ],
         "yaxis": "y"
        },
        {
         "fillpattern": {
          "shape": ""
         },
         "hovertemplate": "Model accessibility=API access<br>Year=%{x}<br>Proportion=%{y}<extra></extra>",
         "legendgroup": "API access",
         "line": {
          "color": "#00cc96"
         },
         "marker": {
          "symbol": "circle"
         },
         "mode": "lines",
         "name": "API access",
         "orientation": "v",
         "showlegend": true,
         "stackgroup": "1",
         "type": "scatter",
         "x": [
          2015,
          2016,
          2017,
          2018,
          2019,
          2020,
          2021,
          2022,
          2023,
          2024
         ],
         "xaxis": "x",
         "y": [
          0,
          0,
          0,
          0,
          0,
          0.002638522427440633,
          0.01717557251908397,
          0.021212121212121213,
          0.04405286343612335,
          0.05992141453831041
         ],
         "yaxis": "y"
        },
        {
         "fillpattern": {
          "shape": ""
         },
         "hovertemplate": "Model accessibility=Open access (non-commercial)<br>Year=%{x}<br>Proportion=%{y}<extra></extra>",
         "legendgroup": "Open access (non-commercial)",
         "line": {
          "color": "#ab63fa"
         },
         "marker": {
          "symbol": "circle"
         },
         "mode": "lines",
         "name": "Open access (non-commercial)",
         "orientation": "v",
         "showlegend": true,
         "stackgroup": "1",
         "type": "scatter",
         "x": [
          2015,
          2016,
          2017,
          2018,
          2019,
          2020,
          2021,
          2022,
          2023,
          2024
         ],
         "xaxis": "x",
         "y": [
          0,
          0.05128205128205128,
          0.02631578947368421,
          0.027972027972027972,
          0.0528169014084507,
          0.047493403693931395,
          0.04961832061068702,
          0.0696969696969697,
          0.08700440528634361,
          0.09037328094302555
         ],
         "yaxis": "y"
        },
        {
         "fillpattern": {
          "shape": ""
         },
         "hovertemplate": "Model accessibility=Open access (restricted use)<br>Year=%{x}<br>Proportion=%{y}<extra></extra>",
         "legendgroup": "Open access (restricted use)",
         "line": {
          "color": "#FFA15A"
         },
         "marker": {
          "symbol": "circle"
         },
         "mode": "lines",
         "name": "Open access (restricted use)",
         "orientation": "v",
         "showlegend": true,
         "stackgroup": "1",
         "type": "scatter",
         "x": [
          2015,
          2016,
          2017,
          2018,
          2019,
          2020,
          2021,
          2022,
          2023,
          2024
         ],
         "xaxis": "x",
         "y": [
          0,
          0,
          0,
          0,
          0,
          0,
          0,
          0.015151515151515152,
          0.053964757709251104,
          0.07170923379174853
         ],
         "yaxis": "y"
        },
        {
         "fillpattern": {
          "shape": ""
         },
         "hovertemplate": "Model accessibility=Open access (unrestricted)<br>Year=%{x}<br>Proportion=%{y}<extra></extra>",
         "legendgroup": "Open access (unrestricted)",
         "line": {
          "color": "#19d3f3"
         },
         "marker": {
          "symbol": "circle"
         },
         "mode": "lines",
         "name": "Open access (unrestricted)",
         "orientation": "v",
         "showlegend": true,
         "stackgroup": "1",
         "type": "scatter",
         "x": [
          2015,
          2016,
          2017,
          2018,
          2019,
          2020,
          2021,
          2022,
          2023,
          2024
         ],
         "xaxis": "x",
         "y": [
          0.3076923076923077,
          0.15384615384615385,
          0.09210526315789473,
          0.1888111888111888,
          0.22183098591549297,
          0.2612137203166227,
          0.2881679389312977,
          0.3015151515151515,
          0.3237885462555066,
          0.31335952848722987
         ],
         "yaxis": "y"
        }
       ],
       "layout": {
        "autosize": false,
        "height": 600,
        "legend": {
         "title": {
          "text": "Model accessibility"
         },
         "tracegroupgap": 0
        },
        "template": {
         "data": {
          "bar": [
           {
            "error_x": {
             "color": "#2a3f5f"
            },
            "error_y": {
             "color": "#2a3f5f"
            },
            "marker": {
             "line": {
              "color": "#E5ECF6",
              "width": 0.5
             },
             "pattern": {
              "fillmode": "overlay",
              "size": 10,
              "solidity": 0.2
             }
            },
            "type": "bar"
           }
          ],
          "barpolar": [
           {
            "marker": {
             "line": {
              "color": "#E5ECF6",
              "width": 0.5
             },
             "pattern": {
              "fillmode": "overlay",
              "size": 10,
              "solidity": 0.2
             }
            },
            "type": "barpolar"
           }
          ],
          "carpet": [
           {
            "aaxis": {
             "endlinecolor": "#2a3f5f",
             "gridcolor": "white",
             "linecolor": "white",
             "minorgridcolor": "white",
             "startlinecolor": "#2a3f5f"
            },
            "baxis": {
             "endlinecolor": "#2a3f5f",
             "gridcolor": "white",
             "linecolor": "white",
             "minorgridcolor": "white",
             "startlinecolor": "#2a3f5f"
            },
            "type": "carpet"
           }
          ],
          "choropleth": [
           {
            "colorbar": {
             "outlinewidth": 0,
             "ticks": ""
            },
            "type": "choropleth"
           }
          ],
          "contour": [
           {
            "colorbar": {
             "outlinewidth": 0,
             "ticks": ""
            },
            "colorscale": [
             [
              0,
              "#0d0887"
             ],
             [
              0.1111111111111111,
              "#46039f"
             ],
             [
              0.2222222222222222,
              "#7201a8"
             ],
             [
              0.3333333333333333,
              "#9c179e"
             ],
             [
              0.4444444444444444,
              "#bd3786"
             ],
             [
              0.5555555555555556,
              "#d8576b"
             ],
             [
              0.6666666666666666,
              "#ed7953"
             ],
             [
              0.7777777777777778,
              "#fb9f3a"
             ],
             [
              0.8888888888888888,
              "#fdca26"
             ],
             [
              1,
              "#f0f921"
             ]
            ],
            "type": "contour"
           }
          ],
          "contourcarpet": [
           {
            "colorbar": {
             "outlinewidth": 0,
             "ticks": ""
            },
            "type": "contourcarpet"
           }
          ],
          "heatmap": [
           {
            "colorbar": {
             "outlinewidth": 0,
             "ticks": ""
            },
            "colorscale": [
             [
              0,
              "#0d0887"
             ],
             [
              0.1111111111111111,
              "#46039f"
             ],
             [
              0.2222222222222222,
              "#7201a8"
             ],
             [
              0.3333333333333333,
              "#9c179e"
             ],
             [
              0.4444444444444444,
              "#bd3786"
             ],
             [
              0.5555555555555556,
              "#d8576b"
             ],
             [
              0.6666666666666666,
              "#ed7953"
             ],
             [
              0.7777777777777778,
              "#fb9f3a"
             ],
             [
              0.8888888888888888,
              "#fdca26"
             ],
             [
              1,
              "#f0f921"
             ]
            ],
            "type": "heatmap"
           }
          ],
          "heatmapgl": [
           {
            "colorbar": {
             "outlinewidth": 0,
             "ticks": ""
            },
            "colorscale": [
             [
              0,
              "#0d0887"
             ],
             [
              0.1111111111111111,
              "#46039f"
             ],
             [
              0.2222222222222222,
              "#7201a8"
             ],
             [
              0.3333333333333333,
              "#9c179e"
             ],
             [
              0.4444444444444444,
              "#bd3786"
             ],
             [
              0.5555555555555556,
              "#d8576b"
             ],
             [
              0.6666666666666666,
              "#ed7953"
             ],
             [
              0.7777777777777778,
              "#fb9f3a"
             ],
             [
              0.8888888888888888,
              "#fdca26"
             ],
             [
              1,
              "#f0f921"
             ]
            ],
            "type": "heatmapgl"
           }
          ],
          "histogram": [
           {
            "marker": {
             "pattern": {
              "fillmode": "overlay",
              "size": 10,
              "solidity": 0.2
             }
            },
            "type": "histogram"
           }
          ],
          "histogram2d": [
           {
            "colorbar": {
             "outlinewidth": 0,
             "ticks": ""
            },
            "colorscale": [
             [
              0,
              "#0d0887"
             ],
             [
              0.1111111111111111,
              "#46039f"
             ],
             [
              0.2222222222222222,
              "#7201a8"
             ],
             [
              0.3333333333333333,
              "#9c179e"
             ],
             [
              0.4444444444444444,
              "#bd3786"
             ],
             [
              0.5555555555555556,
              "#d8576b"
             ],
             [
              0.6666666666666666,
              "#ed7953"
             ],
             [
              0.7777777777777778,
              "#fb9f3a"
             ],
             [
              0.8888888888888888,
              "#fdca26"
             ],
             [
              1,
              "#f0f921"
             ]
            ],
            "type": "histogram2d"
           }
          ],
          "histogram2dcontour": [
           {
            "colorbar": {
             "outlinewidth": 0,
             "ticks": ""
            },
            "colorscale": [
             [
              0,
              "#0d0887"
             ],
             [
              0.1111111111111111,
              "#46039f"
             ],
             [
              0.2222222222222222,
              "#7201a8"
             ],
             [
              0.3333333333333333,
              "#9c179e"
             ],
             [
              0.4444444444444444,
              "#bd3786"
             ],
             [
              0.5555555555555556,
              "#d8576b"
             ],
             [
              0.6666666666666666,
              "#ed7953"
             ],
             [
              0.7777777777777778,
              "#fb9f3a"
             ],
             [
              0.8888888888888888,
              "#fdca26"
             ],
             [
              1,
              "#f0f921"
             ]
            ],
            "type": "histogram2dcontour"
           }
          ],
          "mesh3d": [
           {
            "colorbar": {
             "outlinewidth": 0,
             "ticks": ""
            },
            "type": "mesh3d"
           }
          ],
          "parcoords": [
           {
            "line": {
             "colorbar": {
              "outlinewidth": 0,
              "ticks": ""
             }
            },
            "type": "parcoords"
           }
          ],
          "pie": [
           {
            "automargin": true,
            "type": "pie"
           }
          ],
          "scatter": [
           {
            "fillpattern": {
             "fillmode": "overlay",
             "size": 10,
             "solidity": 0.2
            },
            "type": "scatter"
           }
          ],
          "scatter3d": [
           {
            "line": {
             "colorbar": {
              "outlinewidth": 0,
              "ticks": ""
             }
            },
            "marker": {
             "colorbar": {
              "outlinewidth": 0,
              "ticks": ""
             }
            },
            "type": "scatter3d"
           }
          ],
          "scattercarpet": [
           {
            "marker": {
             "colorbar": {
              "outlinewidth": 0,
              "ticks": ""
             }
            },
            "type": "scattercarpet"
           }
          ],
          "scattergeo": [
           {
            "marker": {
             "colorbar": {
              "outlinewidth": 0,
              "ticks": ""
             }
            },
            "type": "scattergeo"
           }
          ],
          "scattergl": [
           {
            "marker": {
             "colorbar": {
              "outlinewidth": 0,
              "ticks": ""
             }
            },
            "type": "scattergl"
           }
          ],
          "scattermapbox": [
           {
            "marker": {
             "colorbar": {
              "outlinewidth": 0,
              "ticks": ""
             }
            },
            "type": "scattermapbox"
           }
          ],
          "scatterpolar": [
           {
            "marker": {
             "colorbar": {
              "outlinewidth": 0,
              "ticks": ""
             }
            },
            "type": "scatterpolar"
           }
          ],
          "scatterpolargl": [
           {
            "marker": {
             "colorbar": {
              "outlinewidth": 0,
              "ticks": ""
             }
            },
            "type": "scatterpolargl"
           }
          ],
          "scatterternary": [
           {
            "marker": {
             "colorbar": {
              "outlinewidth": 0,
              "ticks": ""
             }
            },
            "type": "scatterternary"
           }
          ],
          "surface": [
           {
            "colorbar": {
             "outlinewidth": 0,
             "ticks": ""
            },
            "colorscale": [
             [
              0,
              "#0d0887"
             ],
             [
              0.1111111111111111,
              "#46039f"
             ],
             [
              0.2222222222222222,
              "#7201a8"
             ],
             [
              0.3333333333333333,
              "#9c179e"
             ],
             [
              0.4444444444444444,
              "#bd3786"
             ],
             [
              0.5555555555555556,
              "#d8576b"
             ],
             [
              0.6666666666666666,
              "#ed7953"
             ],
             [
              0.7777777777777778,
              "#fb9f3a"
             ],
             [
              0.8888888888888888,
              "#fdca26"
             ],
             [
              1,
              "#f0f921"
             ]
            ],
            "type": "surface"
           }
          ],
          "table": [
           {
            "cells": {
             "fill": {
              "color": "#EBF0F8"
             },
             "line": {
              "color": "white"
             }
            },
            "header": {
             "fill": {
              "color": "#C8D4E3"
             },
             "line": {
              "color": "white"
             }
            },
            "type": "table"
           }
          ]
         },
         "layout": {
          "annotationdefaults": {
           "arrowcolor": "#2a3f5f",
           "arrowhead": 0,
           "arrowwidth": 1
          },
          "autotypenumbers": "strict",
          "coloraxis": {
           "colorbar": {
            "outlinewidth": 0,
            "ticks": ""
           }
          },
          "colorscale": {
           "diverging": [
            [
             0,
             "#8e0152"
            ],
            [
             0.1,
             "#c51b7d"
            ],
            [
             0.2,
             "#de77ae"
            ],
            [
             0.3,
             "#f1b6da"
            ],
            [
             0.4,
             "#fde0ef"
            ],
            [
             0.5,
             "#f7f7f7"
            ],
            [
             0.6,
             "#e6f5d0"
            ],
            [
             0.7,
             "#b8e186"
            ],
            [
             0.8,
             "#7fbc41"
            ],
            [
             0.9,
             "#4d9221"
            ],
            [
             1,
             "#276419"
            ]
           ],
           "sequential": [
            [
             0,
             "#0d0887"
            ],
            [
             0.1111111111111111,
             "#46039f"
            ],
            [
             0.2222222222222222,
             "#7201a8"
            ],
            [
             0.3333333333333333,
             "#9c179e"
            ],
            [
             0.4444444444444444,
             "#bd3786"
            ],
            [
             0.5555555555555556,
             "#d8576b"
            ],
            [
             0.6666666666666666,
             "#ed7953"
            ],
            [
             0.7777777777777778,
             "#fb9f3a"
            ],
            [
             0.8888888888888888,
             "#fdca26"
            ],
            [
             1,
             "#f0f921"
            ]
           ],
           "sequentialminus": [
            [
             0,
             "#0d0887"
            ],
            [
             0.1111111111111111,
             "#46039f"
            ],
            [
             0.2222222222222222,
             "#7201a8"
            ],
            [
             0.3333333333333333,
             "#9c179e"
            ],
            [
             0.4444444444444444,
             "#bd3786"
            ],
            [
             0.5555555555555556,
             "#d8576b"
            ],
            [
             0.6666666666666666,
             "#ed7953"
            ],
            [
             0.7777777777777778,
             "#fb9f3a"
            ],
            [
             0.8888888888888888,
             "#fdca26"
            ],
            [
             1,
             "#f0f921"
            ]
           ]
          },
          "colorway": [
           "#636efa",
           "#EF553B",
           "#00cc96",
           "#ab63fa",
           "#FFA15A",
           "#19d3f3",
           "#FF6692",
           "#B6E880",
           "#FF97FF",
           "#FECB52"
          ],
          "font": {
           "color": "#2a3f5f"
          },
          "geo": {
           "bgcolor": "white",
           "lakecolor": "white",
           "landcolor": "#E5ECF6",
           "showlakes": true,
           "showland": true,
           "subunitcolor": "white"
          },
          "hoverlabel": {
           "align": "left"
          },
          "hovermode": "closest",
          "mapbox": {
           "style": "light"
          },
          "paper_bgcolor": "white",
          "plot_bgcolor": "#E5ECF6",
          "polar": {
           "angularaxis": {
            "gridcolor": "white",
            "linecolor": "white",
            "ticks": ""
           },
           "bgcolor": "#E5ECF6",
           "radialaxis": {
            "gridcolor": "white",
            "linecolor": "white",
            "ticks": ""
           }
          },
          "scene": {
           "xaxis": {
            "backgroundcolor": "#E5ECF6",
            "gridcolor": "white",
            "gridwidth": 2,
            "linecolor": "white",
            "showbackground": true,
            "ticks": "",
            "zerolinecolor": "white"
           },
           "yaxis": {
            "backgroundcolor": "#E5ECF6",
            "gridcolor": "white",
            "gridwidth": 2,
            "linecolor": "white",
            "showbackground": true,
            "ticks": "",
            "zerolinecolor": "white"
           },
           "zaxis": {
            "backgroundcolor": "#E5ECF6",
            "gridcolor": "white",
            "gridwidth": 2,
            "linecolor": "white",
            "showbackground": true,
            "ticks": "",
            "zerolinecolor": "white"
           }
          },
          "shapedefaults": {
           "line": {
            "color": "#2a3f5f"
           }
          },
          "ternary": {
           "aaxis": {
            "gridcolor": "white",
            "linecolor": "white",
            "ticks": ""
           },
           "baxis": {
            "gridcolor": "white",
            "linecolor": "white",
            "ticks": ""
           },
           "bgcolor": "#E5ECF6",
           "caxis": {
            "gridcolor": "white",
            "linecolor": "white",
            "ticks": ""
           }
          },
          "title": {
           "x": 0.05
          },
          "xaxis": {
           "automargin": true,
           "gridcolor": "white",
           "linecolor": "white",
           "ticks": "",
           "title": {
            "standoff": 15
           },
           "zerolinecolor": "white",
           "zerolinewidth": 2
          },
          "yaxis": {
           "automargin": true,
           "gridcolor": "white",
           "linecolor": "white",
           "ticks": "",
           "title": {
            "standoff": 15
           },
           "zerolinecolor": "white",
           "zerolinewidth": 2
          }
         }
        },
        "title": {
         "text": "Cumulative proportion of all models by accessibility over time",
         "x": 0.2
        },
        "width": 800,
        "xaxis": {
         "anchor": "y",
         "domain": [
          0,
          1
         ],
         "range": [
          2018,
          2024
         ],
         "title": {
          "text": "Year"
         }
        },
        "yaxis": {
         "anchor": "x",
         "domain": [
          0,
          1
         ],
         "range": [
          0,
          1
         ],
         "title": {
          "text": "Proportion"
         }
        }
       }
      }
     },
     "metadata": {},
     "output_type": "display_data"
    }
   ],
   "source": [
    "fig = px.area(normalized_counts_total, x='Year', y='proportion', color='Model accessibility', line_group='Model accessibility',\n",
    "              labels={'proportion': 'Proportion', 'Year': 'Year'},\n",
    "              title='Cumulative proportion of all models by accessibility over time')\n",
    "\n",
    "fig.update_yaxes(range=[0, 1])\n",
    "fig.update_xaxes(range=[2018, 2024])\n",
    "fig.update_layout(\n",
    "    autosize=False,\n",
    "    width=800,\n",
    "    height=600,\n",
    "    title_x=0.2,\n",
    ")\n",
    "# save_plot(fig, results_dir, f'proportion_by_accessibility')\n",
    "fig.show()"
   ]
  },
  {
   "cell_type": "markdown",
   "metadata": {},
   "source": [
    "# Code vs Model Accessibility"
   ]
  },
  {
   "cell_type": "code",
   "execution_count": 23,
   "metadata": {},
   "outputs": [
    {
     "name": "stdout",
     "output_type": "stream",
     "text": [
      "There are 136 models with marked code access and unmarked code access\n"
     ]
    }
   ],
   "source": [
    "print(f\"There are {len(access_df[access_df['Training code accessibility'].isna()])} models with marked code access and unmarked code access\")"
   ]
  },
  {
   "cell_type": "code",
   "execution_count": 24,
   "metadata": {},
   "outputs": [],
   "source": [
    "# filter for code accessibility\n",
    "code_df = access_df.dropna(subset=['Training code accessibility'])"
   ]
  },
  {
   "cell_type": "code",
   "execution_count": 25,
   "metadata": {},
   "outputs": [
    {
     "data": {
      "text/html": [
       "<div>\n",
       "<style scoped>\n",
       "    .dataframe tbody tr th:only-of-type {\n",
       "        vertical-align: middle;\n",
       "    }\n",
       "\n",
       "    .dataframe tbody tr th {\n",
       "        vertical-align: top;\n",
       "    }\n",
       "\n",
       "    .dataframe thead th {\n",
       "        text-align: right;\n",
       "    }\n",
       "</style>\n",
       "<table border=\"1\" class=\"dataframe\">\n",
       "  <thead>\n",
       "    <tr style=\"text-align: right;\">\n",
       "      <th></th>\n",
       "      <th>System</th>\n",
       "      <th>Domain</th>\n",
       "      <th>Task</th>\n",
       "      <th>Authors</th>\n",
       "      <th>Notability criteria</th>\n",
       "      <th>Notability criteria notes</th>\n",
       "      <th>Model accessibility</th>\n",
       "      <th>Link</th>\n",
       "      <th>Citations</th>\n",
       "      <th>Reference</th>\n",
       "      <th>...</th>\n",
       "      <th>Difference (share)</th>\n",
       "      <th>API prices</th>\n",
       "      <th>Created</th>\n",
       "      <th>Inference code accessibility</th>\n",
       "      <th>Arithmetic format</th>\n",
       "      <th>Model versions</th>\n",
       "      <th>Frontier model</th>\n",
       "      <th>Model open/closed</th>\n",
       "      <th>Code open/closed</th>\n",
       "      <th>Year</th>\n",
       "    </tr>\n",
       "  </thead>\n",
       "  <tbody>\n",
       "    <tr>\n",
       "      <th>103</th>\n",
       "      <td>Deep Blue</td>\n",
       "      <td>Games</td>\n",
       "      <td>Chess</td>\n",
       "      <td>Murray Campbell, A. Joseph Hoane Jr., Feng-hsi...</td>\n",
       "      <td>Historical significance,Highly cited</td>\n",
       "      <td>Defeated Kasparov in 1997, which was a famous ...</td>\n",
       "      <td>Unreleased</td>\n",
       "      <td>https://www.sciencedirect.com/science/article/...</td>\n",
       "      <td>1992.0</td>\n",
       "      <td>Deep Blue</td>\n",
       "      <td>...</td>\n",
       "      <td>NaN</td>\n",
       "      <td>NaN</td>\n",
       "      <td>4/4/2024 8:33am</td>\n",
       "      <td>NaN</td>\n",
       "      <td>NaN</td>\n",
       "      <td>NaN</td>\n",
       "      <td>NaN</td>\n",
       "      <td>Closed</td>\n",
       "      <td>Closed</td>\n",
       "      <td>1997</td>\n",
       "    </tr>\n",
       "    <tr>\n",
       "      <th>114</th>\n",
       "      <td>Credibilty Network</td>\n",
       "      <td>Vision</td>\n",
       "      <td>Character recognition,Image classification</td>\n",
       "      <td>Geoffrey E. Hinton, Zoubin Ghahramani, Vee Why...</td>\n",
       "      <td>NaN</td>\n",
       "      <td>NaN</td>\n",
       "      <td>Unreleased</td>\n",
       "      <td>https://proceedings.neurips.cc/paper_files/pap...</td>\n",
       "      <td>NaN</td>\n",
       "      <td>Learning to Parse Images</td>\n",
       "      <td>...</td>\n",
       "      <td>100%</td>\n",
       "      <td>NaN</td>\n",
       "      <td>4/30/2024 10:13pm</td>\n",
       "      <td>NaN</td>\n",
       "      <td>NaN</td>\n",
       "      <td>NaN</td>\n",
       "      <td>NaN</td>\n",
       "      <td>Closed</td>\n",
       "      <td>Closed</td>\n",
       "      <td>1999</td>\n",
       "    </tr>\n",
       "    <tr>\n",
       "      <th>242</th>\n",
       "      <td>LBL</td>\n",
       "      <td>Language</td>\n",
       "      <td>NaN</td>\n",
       "      <td>Andriy Mnih, Yee Whye Teh</td>\n",
       "      <td>NaN</td>\n",
       "      <td>NaN</td>\n",
       "      <td>Unreleased</td>\n",
       "      <td>https://arxiv.org/abs/1206.6426</td>\n",
       "      <td>835.0</td>\n",
       "      <td>A Fast and Simple Algorithm for Training Neura...</td>\n",
       "      <td>...</td>\n",
       "      <td>100%</td>\n",
       "      <td>NaN</td>\n",
       "      <td>9/26/2023 9:12pm</td>\n",
       "      <td>NaN</td>\n",
       "      <td>NaN</td>\n",
       "      <td>NaN</td>\n",
       "      <td>NaN</td>\n",
       "      <td>Closed</td>\n",
       "      <td>Closed</td>\n",
       "      <td>2012</td>\n",
       "    </tr>\n",
       "    <tr>\n",
       "      <th>247</th>\n",
       "      <td>LSTM-300units</td>\n",
       "      <td>Language</td>\n",
       "      <td>NaN</td>\n",
       "      <td>Martin Sundermeyer, Ralf Schlüter, Hermann Ney</td>\n",
       "      <td>Highly cited</td>\n",
       "      <td>NaN</td>\n",
       "      <td>Unreleased</td>\n",
       "      <td>https://www.isca-archive.org/interspeech_2012/...</td>\n",
       "      <td>2503.0</td>\n",
       "      <td>LSTM Neural Networks for Language Modeling</td>\n",
       "      <td>...</td>\n",
       "      <td>NaN</td>\n",
       "      <td>NaN</td>\n",
       "      <td>9/26/2023 9:12pm</td>\n",
       "      <td>NaN</td>\n",
       "      <td>NaN</td>\n",
       "      <td>NaN</td>\n",
       "      <td>NaN</td>\n",
       "      <td>Closed</td>\n",
       "      <td>Closed</td>\n",
       "      <td>2012</td>\n",
       "    </tr>\n",
       "    <tr>\n",
       "      <th>249</th>\n",
       "      <td>RNN+LDA+KN5+cache</td>\n",
       "      <td>Language</td>\n",
       "      <td>NaN</td>\n",
       "      <td>Tomas Mikolov, Geoffrey Zweig</td>\n",
       "      <td>SOTA improvement</td>\n",
       "      <td>\"We report perplexity results on the Penn Tree...</td>\n",
       "      <td>Unreleased</td>\n",
       "      <td>https://www.microsoft.com/en-us/research/wp-co...</td>\n",
       "      <td>716.0</td>\n",
       "      <td>Context dependent recurrent neural network lan...</td>\n",
       "      <td>...</td>\n",
       "      <td>NaN</td>\n",
       "      <td>NaN</td>\n",
       "      <td>9/26/2023 9:12pm</td>\n",
       "      <td>NaN</td>\n",
       "      <td>NaN</td>\n",
       "      <td>NaN</td>\n",
       "      <td>NaN</td>\n",
       "      <td>Closed</td>\n",
       "      <td>Closed</td>\n",
       "      <td>2012</td>\n",
       "    </tr>\n",
       "    <tr>\n",
       "      <th>250</th>\n",
       "      <td>RNN+LDA</td>\n",
       "      <td>Language</td>\n",
       "      <td>NaN</td>\n",
       "      <td>Tomas Mikolov, Geoffrey Zweig</td>\n",
       "      <td>NaN</td>\n",
       "      <td>NaN</td>\n",
       "      <td>Unreleased</td>\n",
       "      <td>https://www.microsoft.com/en-us/research/wp-co...</td>\n",
       "      <td>NaN</td>\n",
       "      <td>Context dependent recurrent neural network lan...</td>\n",
       "      <td>...</td>\n",
       "      <td>NaN</td>\n",
       "      <td>NaN</td>\n",
       "      <td>11/1/2023 9:05pm</td>\n",
       "      <td>NaN</td>\n",
       "      <td>NaN</td>\n",
       "      <td>NaN</td>\n",
       "      <td>NaN</td>\n",
       "      <td>Closed</td>\n",
       "      <td>Closed</td>\n",
       "      <td>2012</td>\n",
       "    </tr>\n",
       "    <tr>\n",
       "      <th>251</th>\n",
       "      <td>RNN+LSA+KN5+cache (model combination w/ linear...</td>\n",
       "      <td>Language</td>\n",
       "      <td>NaN</td>\n",
       "      <td>Tomas Mikolov, Geoffrey Zweig</td>\n",
       "      <td>NaN</td>\n",
       "      <td>NaN</td>\n",
       "      <td>Unreleased</td>\n",
       "      <td>https://www.microsoft.com/en-us/research/wp-co...</td>\n",
       "      <td>NaN</td>\n",
       "      <td>Context dependent recurrent neural network lan...</td>\n",
       "      <td>...</td>\n",
       "      <td>NaN</td>\n",
       "      <td>NaN</td>\n",
       "      <td>11/1/2023 9:05pm</td>\n",
       "      <td>NaN</td>\n",
       "      <td>NaN</td>\n",
       "      <td>NaN</td>\n",
       "      <td>NaN</td>\n",
       "      <td>Closed</td>\n",
       "      <td>Closed</td>\n",
       "      <td>2012</td>\n",
       "    </tr>\n",
       "    <tr>\n",
       "      <th>252</th>\n",
       "      <td>RNN</td>\n",
       "      <td>Language</td>\n",
       "      <td>NaN</td>\n",
       "      <td>Tomas Mikolov, Geoffrey Zweig</td>\n",
       "      <td>NaN</td>\n",
       "      <td>NaN</td>\n",
       "      <td>Unreleased</td>\n",
       "      <td>https://www.microsoft.com/en-us/research/wp-co...</td>\n",
       "      <td>NaN</td>\n",
       "      <td>Context dependent recurrent neural network lan...</td>\n",
       "      <td>...</td>\n",
       "      <td>NaN</td>\n",
       "      <td>NaN</td>\n",
       "      <td>11/1/2023 9:05pm</td>\n",
       "      <td>NaN</td>\n",
       "      <td>NaN</td>\n",
       "      <td>NaN</td>\n",
       "      <td>NaN</td>\n",
       "      <td>Closed</td>\n",
       "      <td>Closed</td>\n",
       "      <td>2012</td>\n",
       "    </tr>\n",
       "  </tbody>\n",
       "</table>\n",
       "<p>8 rows × 77 columns</p>\n",
       "</div>"
      ],
      "text/plain": [
       "                                                System    Domain  \\\n",
       "103                                          Deep Blue     Games   \n",
       "114                                 Credibilty Network    Vision   \n",
       "242                                                LBL  Language   \n",
       "247                                      LSTM-300units  Language   \n",
       "249                                  RNN+LDA+KN5+cache  Language   \n",
       "250                                            RNN+LDA  Language   \n",
       "251  RNN+LSA+KN5+cache (model combination w/ linear...  Language   \n",
       "252                                                RNN  Language   \n",
       "\n",
       "                                           Task  \\\n",
       "103                                       Chess   \n",
       "114  Character recognition,Image classification   \n",
       "242                                         NaN   \n",
       "247                                         NaN   \n",
       "249                                         NaN   \n",
       "250                                         NaN   \n",
       "251                                         NaN   \n",
       "252                                         NaN   \n",
       "\n",
       "                                               Authors  \\\n",
       "103  Murray Campbell, A. Joseph Hoane Jr., Feng-hsi...   \n",
       "114  Geoffrey E. Hinton, Zoubin Ghahramani, Vee Why...   \n",
       "242                          Andriy Mnih, Yee Whye Teh   \n",
       "247     Martin Sundermeyer, Ralf Schlüter, Hermann Ney   \n",
       "249                      Tomas Mikolov, Geoffrey Zweig   \n",
       "250                      Tomas Mikolov, Geoffrey Zweig   \n",
       "251                      Tomas Mikolov, Geoffrey Zweig   \n",
       "252                      Tomas Mikolov, Geoffrey Zweig   \n",
       "\n",
       "                      Notability criteria  \\\n",
       "103  Historical significance,Highly cited   \n",
       "114                                   NaN   \n",
       "242                                   NaN   \n",
       "247                          Highly cited   \n",
       "249                      SOTA improvement   \n",
       "250                                   NaN   \n",
       "251                                   NaN   \n",
       "252                                   NaN   \n",
       "\n",
       "                             Notability criteria notes Model accessibility  \\\n",
       "103  Defeated Kasparov in 1997, which was a famous ...          Unreleased   \n",
       "114                                                NaN          Unreleased   \n",
       "242                                                NaN          Unreleased   \n",
       "247                                                NaN          Unreleased   \n",
       "249  \"We report perplexity results on the Penn Tree...          Unreleased   \n",
       "250                                                NaN          Unreleased   \n",
       "251                                                NaN          Unreleased   \n",
       "252                                                NaN          Unreleased   \n",
       "\n",
       "                                                  Link  Citations  \\\n",
       "103  https://www.sciencedirect.com/science/article/...     1992.0   \n",
       "114  https://proceedings.neurips.cc/paper_files/pap...        NaN   \n",
       "242                    https://arxiv.org/abs/1206.6426      835.0   \n",
       "247  https://www.isca-archive.org/interspeech_2012/...     2503.0   \n",
       "249  https://www.microsoft.com/en-us/research/wp-co...      716.0   \n",
       "250  https://www.microsoft.com/en-us/research/wp-co...        NaN   \n",
       "251  https://www.microsoft.com/en-us/research/wp-co...        NaN   \n",
       "252  https://www.microsoft.com/en-us/research/wp-co...        NaN   \n",
       "\n",
       "                                             Reference  ...  \\\n",
       "103                                          Deep Blue  ...   \n",
       "114                           Learning to Parse Images  ...   \n",
       "242  A Fast and Simple Algorithm for Training Neura...  ...   \n",
       "247         LSTM Neural Networks for Language Modeling  ...   \n",
       "249  Context dependent recurrent neural network lan...  ...   \n",
       "250  Context dependent recurrent neural network lan...  ...   \n",
       "251  Context dependent recurrent neural network lan...  ...   \n",
       "252  Context dependent recurrent neural network lan...  ...   \n",
       "\n",
       "    Difference (share) API prices            Created  \\\n",
       "103                NaN        NaN    4/4/2024 8:33am   \n",
       "114               100%        NaN  4/30/2024 10:13pm   \n",
       "242               100%        NaN   9/26/2023 9:12pm   \n",
       "247                NaN        NaN   9/26/2023 9:12pm   \n",
       "249                NaN        NaN   9/26/2023 9:12pm   \n",
       "250                NaN        NaN   11/1/2023 9:05pm   \n",
       "251                NaN        NaN   11/1/2023 9:05pm   \n",
       "252                NaN        NaN   11/1/2023 9:05pm   \n",
       "\n",
       "    Inference code accessibility  Arithmetic format Model versions  \\\n",
       "103                          NaN                NaN            NaN   \n",
       "114                          NaN                NaN            NaN   \n",
       "242                          NaN                NaN            NaN   \n",
       "247                          NaN                NaN            NaN   \n",
       "249                          NaN                NaN            NaN   \n",
       "250                          NaN                NaN            NaN   \n",
       "251                          NaN                NaN            NaN   \n",
       "252                          NaN                NaN            NaN   \n",
       "\n",
       "    Frontier model Model open/closed  Code open/closed  Year  \n",
       "103            NaN            Closed            Closed  1997  \n",
       "114            NaN            Closed            Closed  1999  \n",
       "242            NaN            Closed            Closed  2012  \n",
       "247            NaN            Closed            Closed  2012  \n",
       "249            NaN            Closed            Closed  2012  \n",
       "250            NaN            Closed            Closed  2012  \n",
       "251            NaN            Closed            Closed  2012  \n",
       "252            NaN            Closed            Closed  2012  \n",
       "\n",
       "[8 rows x 77 columns]"
      ]
     },
     "execution_count": 25,
     "metadata": {},
     "output_type": "execute_result"
    }
   ],
   "source": [
    "code_df.head(8)"
   ]
  },
  {
   "cell_type": "code",
   "execution_count": 26,
   "metadata": {},
   "outputs": [
    {
     "data": {
      "text/html": [
       "<div>\n",
       "<style scoped>\n",
       "    .dataframe tbody tr th:only-of-type {\n",
       "        vertical-align: middle;\n",
       "    }\n",
       "\n",
       "    .dataframe tbody tr th {\n",
       "        vertical-align: top;\n",
       "    }\n",
       "\n",
       "    .dataframe thead th {\n",
       "        text-align: right;\n",
       "    }\n",
       "</style>\n",
       "<table border=\"1\" class=\"dataframe\">\n",
       "  <thead>\n",
       "    <tr style=\"text-align: right;\">\n",
       "      <th></th>\n",
       "      <th>Model accessibility</th>\n",
       "      <th>Counts</th>\n",
       "    </tr>\n",
       "  </thead>\n",
       "  <tbody>\n",
       "    <tr>\n",
       "      <th>0</th>\n",
       "      <td>API access</td>\n",
       "      <td>41</td>\n",
       "    </tr>\n",
       "    <tr>\n",
       "      <th>1</th>\n",
       "      <td>Hosted access (no API)</td>\n",
       "      <td>25</td>\n",
       "    </tr>\n",
       "    <tr>\n",
       "      <th>2</th>\n",
       "      <td>Open access (non-commercial)</td>\n",
       "      <td>79</td>\n",
       "    </tr>\n",
       "    <tr>\n",
       "      <th>3</th>\n",
       "      <td>Open access (restricted use)</td>\n",
       "      <td>58</td>\n",
       "    </tr>\n",
       "    <tr>\n",
       "      <th>4</th>\n",
       "      <td>Open access (unrestricted)</td>\n",
       "      <td>274</td>\n",
       "    </tr>\n",
       "    <tr>\n",
       "      <th>5</th>\n",
       "      <td>Unreleased</td>\n",
       "      <td>435</td>\n",
       "    </tr>\n",
       "  </tbody>\n",
       "</table>\n",
       "</div>"
      ],
      "text/plain": [
       "            Model accessibility  Counts\n",
       "0                    API access      41\n",
       "1        Hosted access (no API)      25\n",
       "2  Open access (non-commercial)      79\n",
       "3  Open access (restricted use)      58\n",
       "4    Open access (unrestricted)     274\n",
       "5                    Unreleased     435"
      ]
     },
     "execution_count": 26,
     "metadata": {},
     "output_type": "execute_result"
    }
   ],
   "source": [
    "model_counts = code_df.groupby('Model accessibility').size().reset_index(name='Counts')\n",
    "model_counts"
   ]
  },
  {
   "cell_type": "code",
   "execution_count": 27,
   "metadata": {},
   "outputs": [
    {
     "data": {
      "text/html": [
       "<div>\n",
       "<style scoped>\n",
       "    .dataframe tbody tr th:only-of-type {\n",
       "        vertical-align: middle;\n",
       "    }\n",
       "\n",
       "    .dataframe tbody tr th {\n",
       "        vertical-align: top;\n",
       "    }\n",
       "\n",
       "    .dataframe thead th {\n",
       "        text-align: right;\n",
       "    }\n",
       "</style>\n",
       "<table border=\"1\" class=\"dataframe\">\n",
       "  <thead>\n",
       "    <tr style=\"text-align: right;\">\n",
       "      <th></th>\n",
       "      <th>Training code accessibility</th>\n",
       "      <th>Counts</th>\n",
       "    </tr>\n",
       "  </thead>\n",
       "  <tbody>\n",
       "    <tr>\n",
       "      <th>0</th>\n",
       "      <td>Open access (non-commercial)</td>\n",
       "      <td>77</td>\n",
       "    </tr>\n",
       "    <tr>\n",
       "      <th>1</th>\n",
       "      <td>Open access (restricted use)</td>\n",
       "      <td>7</td>\n",
       "    </tr>\n",
       "    <tr>\n",
       "      <th>2</th>\n",
       "      <td>Open source</td>\n",
       "      <td>341</td>\n",
       "    </tr>\n",
       "    <tr>\n",
       "      <th>3</th>\n",
       "      <td>Unreleased</td>\n",
       "      <td>487</td>\n",
       "    </tr>\n",
       "  </tbody>\n",
       "</table>\n",
       "</div>"
      ],
      "text/plain": [
       "    Training code accessibility  Counts\n",
       "0  Open access (non-commercial)      77\n",
       "1  Open access (restricted use)       7\n",
       "2                   Open source     341\n",
       "3                    Unreleased     487"
      ]
     },
     "execution_count": 27,
     "metadata": {},
     "output_type": "execute_result"
    }
   ],
   "source": [
    "code_counts = code_df.groupby('Training code accessibility').size().reset_index(name='Counts')\n",
    "code_counts"
   ]
  },
  {
   "cell_type": "code",
   "execution_count": 28,
   "metadata": {},
   "outputs": [
    {
     "data": {
      "text/html": [
       "<div>\n",
       "<style scoped>\n",
       "    .dataframe tbody tr th:only-of-type {\n",
       "        vertical-align: middle;\n",
       "    }\n",
       "\n",
       "    .dataframe tbody tr th {\n",
       "        vertical-align: top;\n",
       "    }\n",
       "\n",
       "    .dataframe thead th {\n",
       "        text-align: right;\n",
       "    }\n",
       "</style>\n",
       "<table border=\"1\" class=\"dataframe\">\n",
       "  <thead>\n",
       "    <tr style=\"text-align: right;\">\n",
       "      <th>Training code accessibility</th>\n",
       "      <th>Open access (non-commercial)</th>\n",
       "      <th>Open access (restricted use)</th>\n",
       "      <th>Open source</th>\n",
       "      <th>Unreleased</th>\n",
       "    </tr>\n",
       "    <tr>\n",
       "      <th>Model accessibility</th>\n",
       "      <th></th>\n",
       "      <th></th>\n",
       "      <th></th>\n",
       "      <th></th>\n",
       "    </tr>\n",
       "  </thead>\n",
       "  <tbody>\n",
       "    <tr>\n",
       "      <th>API access</th>\n",
       "      <td>0.0</td>\n",
       "      <td>0.0</td>\n",
       "      <td>0.0</td>\n",
       "      <td>41.0</td>\n",
       "    </tr>\n",
       "    <tr>\n",
       "      <th>Hosted access (no API)</th>\n",
       "      <td>1.0</td>\n",
       "      <td>0.0</td>\n",
       "      <td>1.0</td>\n",
       "      <td>23.0</td>\n",
       "    </tr>\n",
       "    <tr>\n",
       "      <th>Open access (non-commercial)</th>\n",
       "      <td>37.0</td>\n",
       "      <td>1.0</td>\n",
       "      <td>17.0</td>\n",
       "      <td>24.0</td>\n",
       "    </tr>\n",
       "    <tr>\n",
       "      <th>Open access (restricted use)</th>\n",
       "      <td>0.0</td>\n",
       "      <td>4.0</td>\n",
       "      <td>13.0</td>\n",
       "      <td>41.0</td>\n",
       "    </tr>\n",
       "    <tr>\n",
       "      <th>Open access (unrestricted)</th>\n",
       "      <td>2.0</td>\n",
       "      <td>1.0</td>\n",
       "      <td>202.0</td>\n",
       "      <td>69.0</td>\n",
       "    </tr>\n",
       "    <tr>\n",
       "      <th>Unreleased</th>\n",
       "      <td>37.0</td>\n",
       "      <td>1.0</td>\n",
       "      <td>108.0</td>\n",
       "      <td>289.0</td>\n",
       "    </tr>\n",
       "  </tbody>\n",
       "</table>\n",
       "</div>"
      ],
      "text/plain": [
       "Training code accessibility   Open access (non-commercial)  \\\n",
       "Model accessibility                                          \n",
       "API access                                             0.0   \n",
       "Hosted access (no API)                                 1.0   \n",
       "Open access (non-commercial)                          37.0   \n",
       "Open access (restricted use)                           0.0   \n",
       "Open access (unrestricted)                             2.0   \n",
       "Unreleased                                            37.0   \n",
       "\n",
       "Training code accessibility   Open access (restricted use)  Open source  \\\n",
       "Model accessibility                                                       \n",
       "API access                                             0.0          0.0   \n",
       "Hosted access (no API)                                 0.0          1.0   \n",
       "Open access (non-commercial)                           1.0         17.0   \n",
       "Open access (restricted use)                           4.0         13.0   \n",
       "Open access (unrestricted)                             1.0        202.0   \n",
       "Unreleased                                             1.0        108.0   \n",
       "\n",
       "Training code accessibility   Unreleased  \n",
       "Model accessibility                       \n",
       "API access                          41.0  \n",
       "Hosted access (no API)              23.0  \n",
       "Open access (non-commercial)        24.0  \n",
       "Open access (restricted use)        41.0  \n",
       "Open access (unrestricted)          69.0  \n",
       "Unreleased                         289.0  "
      ]
     },
     "execution_count": 28,
     "metadata": {},
     "output_type": "execute_result"
    }
   ],
   "source": [
    "grouped_counts = code_df.groupby(['Model accessibility', 'Training code accessibility']).size().reset_index(name='Counts')\n",
    "pivoted = grouped_counts.pivot(index='Model accessibility', columns='Training code accessibility', values='Counts').fillna(0)\n",
    "\n",
    "# code access against model access\n",
    "pivoted"
   ]
  },
  {
   "cell_type": "code",
   "execution_count": 29,
   "metadata": {},
   "outputs": [
    {
     "data": {
      "text/html": [
       "<div>\n",
       "<style scoped>\n",
       "    .dataframe tbody tr th:only-of-type {\n",
       "        vertical-align: middle;\n",
       "    }\n",
       "\n",
       "    .dataframe tbody tr th {\n",
       "        vertical-align: top;\n",
       "    }\n",
       "\n",
       "    .dataframe thead th {\n",
       "        text-align: right;\n",
       "    }\n",
       "</style>\n",
       "<table border=\"1\" class=\"dataframe\">\n",
       "  <thead>\n",
       "    <tr style=\"text-align: right;\">\n",
       "      <th>Code open/closed</th>\n",
       "      <th>Closed</th>\n",
       "      <th>Open</th>\n",
       "    </tr>\n",
       "    <tr>\n",
       "      <th>Model open/closed</th>\n",
       "      <th></th>\n",
       "      <th></th>\n",
       "    </tr>\n",
       "  </thead>\n",
       "  <tbody>\n",
       "    <tr>\n",
       "      <th>Closed</th>\n",
       "      <td>353</td>\n",
       "      <td>148</td>\n",
       "    </tr>\n",
       "    <tr>\n",
       "      <th>Open</th>\n",
       "      <td>134</td>\n",
       "      <td>277</td>\n",
       "    </tr>\n",
       "  </tbody>\n",
       "</table>\n",
       "</div>"
      ],
      "text/plain": [
       "Code open/closed   Closed  Open\n",
       "Model open/closed              \n",
       "Closed                353   148\n",
       "Open                  134   277"
      ]
     },
     "execution_count": 29,
     "metadata": {},
     "output_type": "execute_result"
    }
   ],
   "source": [
    "model_code_counts = code_df.groupby(['Model open/closed', 'Code open/closed']).size().reset_index(name='Counts')\n",
    "model_code_counts = model_code_counts.pivot(index='Model open/closed', columns='Code open/closed', values='Counts')\n",
    "\n",
    "# code open vs model open\n",
    "model_code_counts"
   ]
  },
  {
   "cell_type": "code",
   "execution_count": 30,
   "metadata": {},
   "outputs": [
    {
     "data": {
      "image/png": "[encoded data removed]",
      "text/plain": [
       "<Figure size 1000x600 with 1 Axes>"
      ]
     },
     "metadata": {},
     "output_type": "display_data"
    }
   ],
   "source": [
    "ax = model_code_counts.plot(kind='bar', figsize=(10, 6), width=0.8)\n",
    "\n",
    "# Customize the chart\n",
    "plt.title('Model open/closed vs Code open/closed for all systems')\n",
    "plt.ylabel('Count')\n",
    "\n",
    "\n",
    "# Add value labels on the bars\n",
    "for container in ax.containers:\n",
    "    ax.bar_label(container, label_type='center')\n",
    "\n",
    "# Adjust layout and display the chart\n",
    "plt.tight_layout()\n",
    "plt.show()"
   ]
  },
  {
   "cell_type": "code",
   "execution_count": 31,
   "metadata": {},
   "outputs": [
    {
     "data": {
      "application/vnd.plotly.v1+json": {
       "config": {
        "plotlyServerURL": "https://plot.ly"
       },
       "data": [
        {
         "colorscale": [
          [
           0,
           "rgb(247,251,255)"
          ],
          [
           0.125,
           "rgb(222,235,247)"
          ],
          [
           0.25,
           "rgb(198,219,239)"
          ],
          [
           0.375,
           "rgb(158,202,225)"
          ],
          [
           0.5,
           "rgb(107,174,214)"
          ],
          [
           0.625,
           "rgb(66,146,198)"
          ],
          [
           0.75,
           "rgb(33,113,181)"
          ],
          [
           0.875,
           "rgb(8,81,156)"
          ],
          [
           1,
           "rgb(8,48,107)"
          ]
         ],
         "hoverongaps": false,
         "text": [
          [
           329,
           148
          ],
          [
           124,
           275
          ]
         ],
         "textfont": {
          "size": 20
         },
         "texttemplate": "%{text}",
         "type": "heatmap",
         "x": [
          "Closed",
          "Open"
         ],
         "y": [
          "Closed",
          "Open"
         ],
         "z": [
          [
           353,
           148
          ],
          [
           134,
           277
          ]
         ]
        }
       ],
       "layout": {
        "autosize": false,
        "height": 300,
        "template": {
         "data": {
          "bar": [
           {
            "error_x": {
             "color": "#2a3f5f"
            },
            "error_y": {
             "color": "#2a3f5f"
            },
            "marker": {
             "line": {
              "color": "#E5ECF6",
              "width": 0.5
             },
             "pattern": {
              "fillmode": "overlay",
              "size": 10,
              "solidity": 0.2
             }
            },
            "type": "bar"
           }
          ],
          "barpolar": [
           {
            "marker": {
             "line": {
              "color": "#E5ECF6",
              "width": 0.5
             },
             "pattern": {
              "fillmode": "overlay",
              "size": 10,
              "solidity": 0.2
             }
            },
            "type": "barpolar"
           }
          ],
          "carpet": [
           {
            "aaxis": {
             "endlinecolor": "#2a3f5f",
             "gridcolor": "white",
             "linecolor": "white",
             "minorgridcolor": "white",
             "startlinecolor": "#2a3f5f"
            },
            "baxis": {
             "endlinecolor": "#2a3f5f",
             "gridcolor": "white",
             "linecolor": "white",
             "minorgridcolor": "white",
             "startlinecolor": "#2a3f5f"
            },
            "type": "carpet"
           }
          ],
          "choropleth": [
           {
            "colorbar": {
             "outlinewidth": 0,
             "ticks": ""
            },
            "type": "choropleth"
           }
          ],
          "contour": [
           {
            "colorbar": {
             "outlinewidth": 0,
             "ticks": ""
            },
            "colorscale": [
             [
              0,
              "#0d0887"
             ],
             [
              0.1111111111111111,
              "#46039f"
             ],
             [
              0.2222222222222222,
              "#7201a8"
             ],
             [
              0.3333333333333333,
              "#9c179e"
             ],
             [
              0.4444444444444444,
              "#bd3786"
             ],
             [
              0.5555555555555556,
              "#d8576b"
             ],
             [
              0.6666666666666666,
              "#ed7953"
             ],
             [
              0.7777777777777778,
              "#fb9f3a"
             ],
             [
              0.8888888888888888,
              "#fdca26"
             ],
             [
              1,
              "#f0f921"
             ]
            ],
            "type": "contour"
           }
          ],
          "contourcarpet": [
           {
            "colorbar": {
             "outlinewidth": 0,
             "ticks": ""
            },
            "type": "contourcarpet"
           }
          ],
          "heatmap": [
           {
            "colorbar": {
             "outlinewidth": 0,
             "ticks": ""
            },
            "colorscale": [
             [
              0,
              "#0d0887"
             ],
             [
              0.1111111111111111,
              "#46039f"
             ],
             [
              0.2222222222222222,
              "#7201a8"
             ],
             [
              0.3333333333333333,
              "#9c179e"
             ],
             [
              0.4444444444444444,
              "#bd3786"
             ],
             [
              0.5555555555555556,
              "#d8576b"
             ],
             [
              0.6666666666666666,
              "#ed7953"
             ],
             [
              0.7777777777777778,
              "#fb9f3a"
             ],
             [
              0.8888888888888888,
              "#fdca26"
             ],
             [
              1,
              "#f0f921"
             ]
            ],
            "type": "heatmap"
           }
          ],
          "heatmapgl": [
           {
            "colorbar": {
             "outlinewidth": 0,
             "ticks": ""
            },
            "colorscale": [
             [
              0,
              "#0d0887"
             ],
             [
              0.1111111111111111,
              "#46039f"
             ],
             [
              0.2222222222222222,
              "#7201a8"
             ],
             [
              0.3333333333333333,
              "#9c179e"
             ],
             [
              0.4444444444444444,
              "#bd3786"
             ],
             [
              0.5555555555555556,
              "#d8576b"
             ],
             [
              0.6666666666666666,
              "#ed7953"
             ],
             [
              0.7777777777777778,
              "#fb9f3a"
             ],
             [
              0.8888888888888888,
              "#fdca26"
             ],
             [
              1,
              "#f0f921"
             ]
            ],
            "type": "heatmapgl"
           }
          ],
          "histogram": [
           {
            "marker": {
             "pattern": {
              "fillmode": "overlay",
              "size": 10,
              "solidity": 0.2
             }
            },
            "type": "histogram"
           }
          ],
          "histogram2d": [
           {
            "colorbar": {
             "outlinewidth": 0,
             "ticks": ""
            },
            "colorscale": [
             [
              0,
              "#0d0887"
             ],
             [
              0.1111111111111111,
              "#46039f"
             ],
             [
              0.2222222222222222,
              "#7201a8"
             ],
             [
              0.3333333333333333,
              "#9c179e"
             ],
             [
              0.4444444444444444,
              "#bd3786"
             ],
             [
              0.5555555555555556,
              "#d8576b"
             ],
             [
              0.6666666666666666,
              "#ed7953"
             ],
             [
              0.7777777777777778,
              "#fb9f3a"
             ],
             [
              0.8888888888888888,
              "#fdca26"
             ],
             [
              1,
              "#f0f921"
             ]
            ],
            "type": "histogram2d"
           }
          ],
          "histogram2dcontour": [
           {
            "colorbar": {
             "outlinewidth": 0,
             "ticks": ""
            },
            "colorscale": [
             [
              0,
              "#0d0887"
             ],
             [
              0.1111111111111111,
              "#46039f"
             ],
             [
              0.2222222222222222,
              "#7201a8"
             ],
             [
              0.3333333333333333,
              "#9c179e"
             ],
             [
              0.4444444444444444,
              "#bd3786"
             ],
             [
              0.5555555555555556,
              "#d8576b"
             ],
             [
              0.6666666666666666,
              "#ed7953"
             ],
             [
              0.7777777777777778,
              "#fb9f3a"
             ],
             [
              0.8888888888888888,
              "#fdca26"
             ],
             [
              1,
              "#f0f921"
             ]
            ],
            "type": "histogram2dcontour"
           }
          ],
          "mesh3d": [
           {
            "colorbar": {
             "outlinewidth": 0,
             "ticks": ""
            },
            "type": "mesh3d"
           }
          ],
          "parcoords": [
           {
            "line": {
             "colorbar": {
              "outlinewidth": 0,
              "ticks": ""
             }
            },
            "type": "parcoords"
           }
          ],
          "pie": [
           {
            "automargin": true,
            "type": "pie"
           }
          ],
          "scatter": [
           {
            "fillpattern": {
             "fillmode": "overlay",
             "size": 10,
             "solidity": 0.2
            },
            "type": "scatter"
           }
          ],
          "scatter3d": [
           {
            "line": {
             "colorbar": {
              "outlinewidth": 0,
              "ticks": ""
             }
            },
            "marker": {
             "colorbar": {
              "outlinewidth": 0,
              "ticks": ""
             }
            },
            "type": "scatter3d"
           }
          ],
          "scattercarpet": [
           {
            "marker": {
             "colorbar": {
              "outlinewidth": 0,
              "ticks": ""
             }
            },
            "type": "scattercarpet"
           }
          ],
          "scattergeo": [
           {
            "marker": {
             "colorbar": {
              "outlinewidth": 0,
              "ticks": ""
             }
            },
            "type": "scattergeo"
           }
          ],
          "scattergl": [
           {
            "marker": {
             "colorbar": {
              "outlinewidth": 0,
              "ticks": ""
             }
            },
            "type": "scattergl"
           }
          ],
          "scattermapbox": [
           {
            "marker": {
             "colorbar": {
              "outlinewidth": 0,
              "ticks": ""
             }
            },
            "type": "scattermapbox"
           }
          ],
          "scatterpolar": [
           {
            "marker": {
             "colorbar": {
              "outlinewidth": 0,
              "ticks": ""
             }
            },
            "type": "scatterpolar"
           }
          ],
          "scatterpolargl": [
           {
            "marker": {
             "colorbar": {
              "outlinewidth": 0,
              "ticks": ""
             }
            },
            "type": "scatterpolargl"
           }
          ],
          "scatterternary": [
           {
            "marker": {
             "colorbar": {
              "outlinewidth": 0,
              "ticks": ""
             }
            },
            "type": "scatterternary"
           }
          ],
          "surface": [
           {
            "colorbar": {
             "outlinewidth": 0,
             "ticks": ""
            },
            "colorscale": [
             [
              0,
              "#0d0887"
             ],
             [
              0.1111111111111111,
              "#46039f"
             ],
             [
              0.2222222222222222,
              "#7201a8"
             ],
             [
              0.3333333333333333,
              "#9c179e"
             ],
             [
              0.4444444444444444,
              "#bd3786"
             ],
             [
              0.5555555555555556,
              "#d8576b"
             ],
             [
              0.6666666666666666,
              "#ed7953"
             ],
             [
              0.7777777777777778,
              "#fb9f3a"
             ],
             [
              0.8888888888888888,
              "#fdca26"
             ],
             [
              1,
              "#f0f921"
             ]
            ],
            "type": "surface"
           }
          ],
          "table": [
           {
            "cells": {
             "fill": {
              "color": "#EBF0F8"
             },
             "line": {
              "color": "white"
             }
            },
            "header": {
             "fill": {
              "color": "#C8D4E3"
             },
             "line": {
              "color": "white"
             }
            },
            "type": "table"
           }
          ]
         },
         "layout": {
          "annotationdefaults": {
           "arrowcolor": "#2a3f5f",
           "arrowhead": 0,
           "arrowwidth": 1
          },
          "autotypenumbers": "strict",
          "coloraxis": {
           "colorbar": {
            "outlinewidth": 0,
            "ticks": ""
           }
          },
          "colorscale": {
           "diverging": [
            [
             0,
             "#8e0152"
            ],
            [
             0.1,
             "#c51b7d"
            ],
            [
             0.2,
             "#de77ae"
            ],
            [
             0.3,
             "#f1b6da"
            ],
            [
             0.4,
             "#fde0ef"
            ],
            [
             0.5,
             "#f7f7f7"
            ],
            [
             0.6,
             "#e6f5d0"
            ],
            [
             0.7,
             "#b8e186"
            ],
            [
             0.8,
             "#7fbc41"
            ],
            [
             0.9,
             "#4d9221"
            ],
            [
             1,
             "#276419"
            ]
           ],
           "sequential": [
            [
             0,
             "#0d0887"
            ],
            [
             0.1111111111111111,
             "#46039f"
            ],
            [
             0.2222222222222222,
             "#7201a8"
            ],
            [
             0.3333333333333333,
             "#9c179e"
            ],
            [
             0.4444444444444444,
             "#bd3786"
            ],
            [
             0.5555555555555556,
             "#d8576b"
            ],
            [
             0.6666666666666666,
             "#ed7953"
            ],
            [
             0.7777777777777778,
             "#fb9f3a"
            ],
            [
             0.8888888888888888,
             "#fdca26"
            ],
            [
             1,
             "#f0f921"
            ]
           ],
           "sequentialminus": [
            [
             0,
             "#0d0887"
            ],
            [
             0.1111111111111111,
             "#46039f"
            ],
            [
             0.2222222222222222,
             "#7201a8"
            ],
            [
             0.3333333333333333,
             "#9c179e"
            ],
            [
             0.4444444444444444,
             "#bd3786"
            ],
            [
             0.5555555555555556,
             "#d8576b"
            ],
            [
             0.6666666666666666,
             "#ed7953"
            ],
            [
             0.7777777777777778,
             "#fb9f3a"
            ],
            [
             0.8888888888888888,
             "#fdca26"
            ],
            [
             1,
             "#f0f921"
            ]
           ]
          },
          "colorway": [
           "#636efa",
           "#EF553B",
           "#00cc96",
           "#ab63fa",
           "#FFA15A",
           "#19d3f3",
           "#FF6692",
           "#B6E880",
           "#FF97FF",
           "#FECB52"
          ],
          "font": {
           "color": "#2a3f5f"
          },
          "geo": {
           "bgcolor": "white",
           "lakecolor": "white",
           "landcolor": "#E5ECF6",
           "showlakes": true,
           "showland": true,
           "subunitcolor": "white"
          },
          "hoverlabel": {
           "align": "left"
          },
          "hovermode": "closest",
          "mapbox": {
           "style": "light"
          },
          "paper_bgcolor": "white",
          "plot_bgcolor": "#E5ECF6",
          "polar": {
           "angularaxis": {
            "gridcolor": "white",
            "linecolor": "white",
            "ticks": ""
           },
           "bgcolor": "#E5ECF6",
           "radialaxis": {
            "gridcolor": "white",
            "linecolor": "white",
            "ticks": ""
           }
          },
          "scene": {
           "xaxis": {
            "backgroundcolor": "#E5ECF6",
            "gridcolor": "white",
            "gridwidth": 2,
            "linecolor": "white",
            "showbackground": true,
            "ticks": "",
            "zerolinecolor": "white"
           },
           "yaxis": {
            "backgroundcolor": "#E5ECF6",
            "gridcolor": "white",
            "gridwidth": 2,
            "linecolor": "white",
            "showbackground": true,
            "ticks": "",
            "zerolinecolor": "white"
           },
           "zaxis": {
            "backgroundcolor": "#E5ECF6",
            "gridcolor": "white",
            "gridwidth": 2,
            "linecolor": "white",
            "showbackground": true,
            "ticks": "",
            "zerolinecolor": "white"
           }
          },
          "shapedefaults": {
           "line": {
            "color": "#2a3f5f"
           }
          },
          "ternary": {
           "aaxis": {
            "gridcolor": "white",
            "linecolor": "white",
            "ticks": ""
           },
           "baxis": {
            "gridcolor": "white",
            "linecolor": "white",
            "ticks": ""
           },
           "bgcolor": "#E5ECF6",
           "caxis": {
            "gridcolor": "white",
            "linecolor": "white",
            "ticks": ""
           }
          },
          "title": {
           "x": 0.05
          },
          "xaxis": {
           "automargin": true,
           "gridcolor": "white",
           "linecolor": "white",
           "ticks": "",
           "title": {
            "standoff": 15
           },
           "zerolinecolor": "white",
           "zerolinewidth": 2
          },
          "yaxis": {
           "automargin": true,
           "gridcolor": "white",
           "linecolor": "white",
           "ticks": "",
           "title": {
            "standoff": 15
           },
           "zerolinecolor": "white",
           "zerolinewidth": 2
          }
         }
        },
        "title": {
         "text": "Model and training code accessibility"
        },
        "width": 400,
        "xaxis": {
         "title": {
          "text": "Code open/closed"
         }
        },
        "yaxis": {
         "title": {
          "text": "Model open/closed"
         }
        }
       }
      }
     },
     "metadata": {},
     "output_type": "display_data"
    }
   ],
   "source": [
    "import plotly.graph_objects as go\n",
    "\n",
    "# Data\n",
    "z = [[329, 148],\n",
    "     [124, 275]]\n",
    "\n",
    "fig = go.Figure(data=go.Heatmap(\n",
    "    z=model_code_counts.values,\n",
    "    x=model_code_counts.columns,\n",
    "    y=model_code_counts.index,\n",
    "    hoverongaps = False,\n",
    "    text=z,\n",
    "    texttemplate=\"%{text}\",\n",
    "    textfont={\"size\":20},\n",
    "    colorscale='Blues'\n",
    "))\n",
    "\n",
    "fig.update_layout(\n",
    "    autosize=False,\n",
    "    width=400,\n",
    "    height=300,\n",
    "    title='Model and training code accessibility',\n",
    "    xaxis_title='Code open/closed',\n",
    "    yaxis_title='Model open/closed'\n",
    ")\n",
    "\n",
    "save_plot(fig, results_dir, f'model_code_accessibility_heatmap')\n",
    "\n",
    "fig.show()"
   ]
  },
  {
   "cell_type": "markdown",
   "metadata": {},
   "source": [
    "Model openness and code openness are reasonably correlated - most closed-weight models have closed code, while somewhat more open models have open code than closed code. This also applies across the other direction - most closed code models have closed weights, most open code models have open weights."
   ]
  },
  {
   "cell_type": "code",
   "execution_count": 32,
   "metadata": {
    "tags": []
   },
   "outputs": [
    {
     "data": {
      "image/png": "[encoded data removed]",
      "text/plain": [
       "<Figure size 1000x600 with 1 Axes>"
      ]
     },
     "metadata": {},
     "output_type": "display_data"
    }
   ],
   "source": [
    "notable_code_df = code_df.loc[(code_df['Notability criteria'].notna())]\n",
    "\n",
    "notable_open_counts = notable_code_df.groupby(['Model open/closed', 'Code open/closed']).size().reset_index(name='Counts')\n",
    "notable_open_counts = notable_open_counts.pivot(index='Model open/closed', columns='Code open/closed', values='Counts')\n",
    "\n",
    "ax = notable_open_counts.plot(kind='bar', figsize=(10, 6), width=0.8)\n",
    "\n",
    "plt.title('Model open/closed vs Code open/closed for notable systems')\n",
    "plt.ylabel('Count')\n",
    "\n",
    "for container in ax.containers:\n",
    "    ax.bar_label(container, label_type='center')\n",
    "\n",
    "plt.tight_layout()\n",
    "plt.show()"
   ]
  },
  {
   "cell_type": "code",
   "execution_count": 33,
   "metadata": {},
   "outputs": [
    {
     "data": {
      "text/html": [
       "<div>\n",
       "<style scoped>\n",
       "    .dataframe tbody tr th:only-of-type {\n",
       "        vertical-align: middle;\n",
       "    }\n",
       "\n",
       "    .dataframe tbody tr th {\n",
       "        vertical-align: top;\n",
       "    }\n",
       "\n",
       "    .dataframe thead th {\n",
       "        text-align: right;\n",
       "    }\n",
       "</style>\n",
       "<table border=\"1\" class=\"dataframe\">\n",
       "  <thead>\n",
       "    <tr style=\"text-align: right;\">\n",
       "      <th></th>\n",
       "      <th>Year</th>\n",
       "      <th>Model open/closed</th>\n",
       "      <th>Code open/closed</th>\n",
       "      <th>Count</th>\n",
       "      <th>Cumulative</th>\n",
       "    </tr>\n",
       "  </thead>\n",
       "  <tbody>\n",
       "    <tr>\n",
       "      <th>0</th>\n",
       "      <td>2015</td>\n",
       "      <td>Closed</td>\n",
       "      <td>Closed</td>\n",
       "      <td>7</td>\n",
       "      <td>7</td>\n",
       "    </tr>\n",
       "    <tr>\n",
       "      <th>1</th>\n",
       "      <td>2015</td>\n",
       "      <td>Closed</td>\n",
       "      <td>Open</td>\n",
       "      <td>1</td>\n",
       "      <td>1</td>\n",
       "    </tr>\n",
       "    <tr>\n",
       "      <th>2</th>\n",
       "      <td>2015</td>\n",
       "      <td>Open</td>\n",
       "      <td>Open</td>\n",
       "      <td>3</td>\n",
       "      <td>3</td>\n",
       "    </tr>\n",
       "    <tr>\n",
       "      <th>3</th>\n",
       "      <td>2016</td>\n",
       "      <td>Closed</td>\n",
       "      <td>Closed</td>\n",
       "      <td>19</td>\n",
       "      <td>26</td>\n",
       "    </tr>\n",
       "    <tr>\n",
       "      <th>4</th>\n",
       "      <td>2016</td>\n",
       "      <td>Closed</td>\n",
       "      <td>Open</td>\n",
       "      <td>3</td>\n",
       "      <td>4</td>\n",
       "    </tr>\n",
       "    <tr>\n",
       "      <th>5</th>\n",
       "      <td>2016</td>\n",
       "      <td>Open</td>\n",
       "      <td>Closed</td>\n",
       "      <td>1</td>\n",
       "      <td>1</td>\n",
       "    </tr>\n",
       "    <tr>\n",
       "      <th>6</th>\n",
       "      <td>2016</td>\n",
       "      <td>Open</td>\n",
       "      <td>Open</td>\n",
       "      <td>2</td>\n",
       "      <td>5</td>\n",
       "    </tr>\n",
       "    <tr>\n",
       "      <th>7</th>\n",
       "      <td>2017</td>\n",
       "      <td>Closed</td>\n",
       "      <td>Closed</td>\n",
       "      <td>21</td>\n",
       "      <td>47</td>\n",
       "    </tr>\n",
       "    <tr>\n",
       "      <th>8</th>\n",
       "      <td>2017</td>\n",
       "      <td>Closed</td>\n",
       "      <td>Open</td>\n",
       "      <td>13</td>\n",
       "      <td>17</td>\n",
       "    </tr>\n",
       "    <tr>\n",
       "      <th>9</th>\n",
       "      <td>2017</td>\n",
       "      <td>Open</td>\n",
       "      <td>Open</td>\n",
       "      <td>1</td>\n",
       "      <td>6</td>\n",
       "    </tr>\n",
       "  </tbody>\n",
       "</table>\n",
       "</div>"
      ],
      "text/plain": [
       "   Year Model open/closed Code open/closed  Count  Cumulative\n",
       "0  2015            Closed           Closed      7           7\n",
       "1  2015            Closed             Open      1           1\n",
       "2  2015              Open             Open      3           3\n",
       "3  2016            Closed           Closed     19          26\n",
       "4  2016            Closed             Open      3           4\n",
       "5  2016              Open           Closed      1           1\n",
       "6  2016              Open             Open      2           5\n",
       "7  2017            Closed           Closed     21          47\n",
       "8  2017            Closed             Open     13          17\n",
       "9  2017              Open             Open      1           6"
      ]
     },
     "execution_count": 33,
     "metadata": {},
     "output_type": "execute_result"
    }
   ],
   "source": [
    "open_counts = code_df.loc[code_df['Year'] >= 2015].groupby(['Year', 'Model open/closed', 'Code open/closed']).size().reset_index(name='Count')\n",
    "\n",
    "open_counts['Cumulative'] = open_counts.groupby(['Model open/closed', 'Code open/closed'])['Count'].cumsum()\n",
    "\n",
    "open_counts.head(10)"
   ]
  },
  {
   "cell_type": "code",
   "execution_count": 34,
   "metadata": {},
   "outputs": [
    {
     "data": {
      "text/html": [
       "<div>\n",
       "<style scoped>\n",
       "    .dataframe tbody tr th:only-of-type {\n",
       "        vertical-align: middle;\n",
       "    }\n",
       "\n",
       "    .dataframe tbody tr th {\n",
       "        vertical-align: top;\n",
       "    }\n",
       "\n",
       "    .dataframe thead th {\n",
       "        text-align: right;\n",
       "    }\n",
       "</style>\n",
       "<table border=\"1\" class=\"dataframe\">\n",
       "  <thead>\n",
       "    <tr style=\"text-align: right;\">\n",
       "      <th></th>\n",
       "      <th>Year</th>\n",
       "      <th>Yearly Total</th>\n",
       "      <th>Cumulative Total</th>\n",
       "    </tr>\n",
       "  </thead>\n",
       "  <tbody>\n",
       "    <tr>\n",
       "      <th>0</th>\n",
       "      <td>2015</td>\n",
       "      <td>11</td>\n",
       "      <td>11</td>\n",
       "    </tr>\n",
       "    <tr>\n",
       "      <th>1</th>\n",
       "      <td>2016</td>\n",
       "      <td>25</td>\n",
       "      <td>36</td>\n",
       "    </tr>\n",
       "    <tr>\n",
       "      <th>2</th>\n",
       "      <td>2017</td>\n",
       "      <td>35</td>\n",
       "      <td>71</td>\n",
       "    </tr>\n",
       "    <tr>\n",
       "      <th>3</th>\n",
       "      <td>2018</td>\n",
       "      <td>65</td>\n",
       "      <td>136</td>\n",
       "    </tr>\n",
       "    <tr>\n",
       "      <th>4</th>\n",
       "      <td>2019</td>\n",
       "      <td>138</td>\n",
       "      <td>274</td>\n",
       "    </tr>\n",
       "    <tr>\n",
       "      <th>5</th>\n",
       "      <td>2020</td>\n",
       "      <td>91</td>\n",
       "      <td>365</td>\n",
       "    </tr>\n",
       "    <tr>\n",
       "      <th>6</th>\n",
       "      <td>2021</td>\n",
       "      <td>138</td>\n",
       "      <td>503</td>\n",
       "    </tr>\n",
       "    <tr>\n",
       "      <th>7</th>\n",
       "      <td>2022</td>\n",
       "      <td>119</td>\n",
       "      <td>622</td>\n",
       "    </tr>\n",
       "    <tr>\n",
       "      <th>8</th>\n",
       "      <td>2023</td>\n",
       "      <td>191</td>\n",
       "      <td>813</td>\n",
       "    </tr>\n",
       "    <tr>\n",
       "      <th>9</th>\n",
       "      <td>2024</td>\n",
       "      <td>79</td>\n",
       "      <td>892</td>\n",
       "    </tr>\n",
       "  </tbody>\n",
       "</table>\n",
       "</div>"
      ],
      "text/plain": [
       "   Year  Yearly Total  Cumulative Total\n",
       "0  2015            11                11\n",
       "1  2016            25                36\n",
       "2  2017            35                71\n",
       "3  2018            65               136\n",
       "4  2019           138               274\n",
       "5  2020            91               365\n",
       "6  2021           138               503\n",
       "7  2022           119               622\n",
       "8  2023           191               813\n",
       "9  2024            79               892"
      ]
     },
     "execution_count": 34,
     "metadata": {},
     "output_type": "execute_result"
    }
   ],
   "source": [
    "total_counts = open_counts.groupby('Year')['Count'].sum().reset_index(name='Yearly Total')\n",
    "total_counts['Cumulative Total'] = total_counts['Yearly Total'].cumsum()\n",
    "total_counts"
   ]
  },
  {
   "cell_type": "code",
   "execution_count": 35,
   "metadata": {},
   "outputs": [
    {
     "data": {
      "text/html": [
       "<div>\n",
       "<style scoped>\n",
       "    .dataframe tbody tr th:only-of-type {\n",
       "        vertical-align: middle;\n",
       "    }\n",
       "\n",
       "    .dataframe tbody tr th {\n",
       "        vertical-align: top;\n",
       "    }\n",
       "\n",
       "    .dataframe thead tr th {\n",
       "        text-align: left;\n",
       "    }\n",
       "</style>\n",
       "<table border=\"1\" class=\"dataframe\">\n",
       "  <thead>\n",
       "    <tr>\n",
       "      <th>Model open/closed</th>\n",
       "      <th>Year</th>\n",
       "      <th colspan=\"2\" halign=\"left\">Closed</th>\n",
       "      <th colspan=\"2\" halign=\"left\">Open</th>\n",
       "    </tr>\n",
       "    <tr>\n",
       "      <th>Code open/closed</th>\n",
       "      <th></th>\n",
       "      <th>Closed</th>\n",
       "      <th>Open</th>\n",
       "      <th>Open</th>\n",
       "      <th>Closed</th>\n",
       "    </tr>\n",
       "  </thead>\n",
       "  <tbody>\n",
       "    <tr>\n",
       "      <th>0</th>\n",
       "      <td>2015</td>\n",
       "      <td>7.0</td>\n",
       "      <td>1.0</td>\n",
       "      <td>3.0</td>\n",
       "      <td>0.0</td>\n",
       "    </tr>\n",
       "    <tr>\n",
       "      <th>1</th>\n",
       "      <td>2016</td>\n",
       "      <td>19.0</td>\n",
       "      <td>3.0</td>\n",
       "      <td>2.0</td>\n",
       "      <td>1.0</td>\n",
       "    </tr>\n",
       "    <tr>\n",
       "      <th>2</th>\n",
       "      <td>2017</td>\n",
       "      <td>21.0</td>\n",
       "      <td>13.0</td>\n",
       "      <td>1.0</td>\n",
       "      <td>0.0</td>\n",
       "    </tr>\n",
       "    <tr>\n",
       "      <th>3</th>\n",
       "      <td>2018</td>\n",
       "      <td>32.0</td>\n",
       "      <td>11.0</td>\n",
       "      <td>21.0</td>\n",
       "      <td>1.0</td>\n",
       "    </tr>\n",
       "    <tr>\n",
       "      <th>4</th>\n",
       "      <td>2019</td>\n",
       "      <td>56.0</td>\n",
       "      <td>36.0</td>\n",
       "      <td>37.0</td>\n",
       "      <td>9.0</td>\n",
       "    </tr>\n",
       "    <tr>\n",
       "      <th>5</th>\n",
       "      <td>2020</td>\n",
       "      <td>40.0</td>\n",
       "      <td>15.0</td>\n",
       "      <td>30.0</td>\n",
       "      <td>6.0</td>\n",
       "    </tr>\n",
       "    <tr>\n",
       "      <th>6</th>\n",
       "      <td>2021</td>\n",
       "      <td>50.0</td>\n",
       "      <td>30.0</td>\n",
       "      <td>50.0</td>\n",
       "      <td>8.0</td>\n",
       "    </tr>\n",
       "    <tr>\n",
       "      <th>7</th>\n",
       "      <td>2022</td>\n",
       "      <td>30.0</td>\n",
       "      <td>22.0</td>\n",
       "      <td>49.0</td>\n",
       "      <td>18.0</td>\n",
       "    </tr>\n",
       "    <tr>\n",
       "      <th>8</th>\n",
       "      <td>2023</td>\n",
       "      <td>50.0</td>\n",
       "      <td>11.0</td>\n",
       "      <td>70.0</td>\n",
       "      <td>60.0</td>\n",
       "    </tr>\n",
       "    <tr>\n",
       "      <th>9</th>\n",
       "      <td>2024</td>\n",
       "      <td>32.0</td>\n",
       "      <td>2.0</td>\n",
       "      <td>14.0</td>\n",
       "      <td>31.0</td>\n",
       "    </tr>\n",
       "  </tbody>\n",
       "</table>\n",
       "</div>"
      ],
      "text/plain": [
       "Model open/closed  Year Closed        Open       \n",
       "Code open/closed        Closed  Open  Open Closed\n",
       "0                  2015    7.0   1.0   3.0    0.0\n",
       "1                  2016   19.0   3.0   2.0    1.0\n",
       "2                  2017   21.0  13.0   1.0    0.0\n",
       "3                  2018   32.0  11.0  21.0    1.0\n",
       "4                  2019   56.0  36.0  37.0    9.0\n",
       "5                  2020   40.0  15.0  30.0    6.0\n",
       "6                  2021   50.0  30.0  50.0    8.0\n",
       "7                  2022   30.0  22.0  49.0   18.0\n",
       "8                  2023   50.0  11.0  70.0   60.0\n",
       "9                  2024   32.0   2.0  14.0   31.0"
      ]
     },
     "execution_count": 35,
     "metadata": {},
     "output_type": "execute_result"
    }
   ],
   "source": [
    "open_counts_wide = open_counts.pivot(index='Year', columns=['Model open/closed', 'Code open/closed'], values='Count')\n",
    "open_counts_wide = open_counts_wide.fillna(0).reset_index()\n",
    "open_counts_wide"
   ]
  },
  {
   "cell_type": "code",
   "execution_count": 36,
   "metadata": {},
   "outputs": [
    {
     "name": "stdout",
     "output_type": "stream",
     "text": [
      "[('Year', ''), ('Closed', 'Closed'), ('Closed', 'Open'), ('Open', 'Open'), ('Open', 'Closed')]\n",
      "[None]\n"
     ]
    }
   ],
   "source": [
    "print(open_counts_wide.columns.to_list())\n",
    "print(open_counts_wide.index.names)"
   ]
  },
  {
   "cell_type": "code",
   "execution_count": 37,
   "metadata": {},
   "outputs": [
    {
     "data": {
      "text/html": [
       "<div>\n",
       "<style scoped>\n",
       "    .dataframe tbody tr th:only-of-type {\n",
       "        vertical-align: middle;\n",
       "    }\n",
       "\n",
       "    .dataframe tbody tr th {\n",
       "        vertical-align: top;\n",
       "    }\n",
       "\n",
       "    .dataframe thead th {\n",
       "        text-align: right;\n",
       "    }\n",
       "</style>\n",
       "<table border=\"1\" class=\"dataframe\">\n",
       "  <thead>\n",
       "    <tr style=\"text-align: right;\">\n",
       "      <th></th>\n",
       "      <th>Year</th>\n",
       "      <th>Model Closed Code Closed</th>\n",
       "      <th>Model Closed Code Open</th>\n",
       "      <th>Model Open Code Open</th>\n",
       "      <th>Model Open Code Closed</th>\n",
       "    </tr>\n",
       "  </thead>\n",
       "  <tbody>\n",
       "    <tr>\n",
       "      <th>0</th>\n",
       "      <td>2015</td>\n",
       "      <td>7.0</td>\n",
       "      <td>1.0</td>\n",
       "      <td>3.0</td>\n",
       "      <td>0.0</td>\n",
       "    </tr>\n",
       "    <tr>\n",
       "      <th>1</th>\n",
       "      <td>2016</td>\n",
       "      <td>19.0</td>\n",
       "      <td>3.0</td>\n",
       "      <td>2.0</td>\n",
       "      <td>1.0</td>\n",
       "    </tr>\n",
       "    <tr>\n",
       "      <th>2</th>\n",
       "      <td>2017</td>\n",
       "      <td>21.0</td>\n",
       "      <td>13.0</td>\n",
       "      <td>1.0</td>\n",
       "      <td>0.0</td>\n",
       "    </tr>\n",
       "    <tr>\n",
       "      <th>3</th>\n",
       "      <td>2018</td>\n",
       "      <td>32.0</td>\n",
       "      <td>11.0</td>\n",
       "      <td>21.0</td>\n",
       "      <td>1.0</td>\n",
       "    </tr>\n",
       "    <tr>\n",
       "      <th>4</th>\n",
       "      <td>2019</td>\n",
       "      <td>56.0</td>\n",
       "      <td>36.0</td>\n",
       "      <td>37.0</td>\n",
       "      <td>9.0</td>\n",
       "    </tr>\n",
       "    <tr>\n",
       "      <th>5</th>\n",
       "      <td>2020</td>\n",
       "      <td>40.0</td>\n",
       "      <td>15.0</td>\n",
       "      <td>30.0</td>\n",
       "      <td>6.0</td>\n",
       "    </tr>\n",
       "    <tr>\n",
       "      <th>6</th>\n",
       "      <td>2021</td>\n",
       "      <td>50.0</td>\n",
       "      <td>30.0</td>\n",
       "      <td>50.0</td>\n",
       "      <td>8.0</td>\n",
       "    </tr>\n",
       "    <tr>\n",
       "      <th>7</th>\n",
       "      <td>2022</td>\n",
       "      <td>30.0</td>\n",
       "      <td>22.0</td>\n",
       "      <td>49.0</td>\n",
       "      <td>18.0</td>\n",
       "    </tr>\n",
       "    <tr>\n",
       "      <th>8</th>\n",
       "      <td>2023</td>\n",
       "      <td>50.0</td>\n",
       "      <td>11.0</td>\n",
       "      <td>70.0</td>\n",
       "      <td>60.0</td>\n",
       "    </tr>\n",
       "    <tr>\n",
       "      <th>9</th>\n",
       "      <td>2024</td>\n",
       "      <td>32.0</td>\n",
       "      <td>2.0</td>\n",
       "      <td>14.0</td>\n",
       "      <td>31.0</td>\n",
       "    </tr>\n",
       "  </tbody>\n",
       "</table>\n",
       "</div>"
      ],
      "text/plain": [
       "   Year  Model Closed Code Closed  Model Closed Code Open  \\\n",
       "0  2015                       7.0                     1.0   \n",
       "1  2016                      19.0                     3.0   \n",
       "2  2017                      21.0                    13.0   \n",
       "3  2018                      32.0                    11.0   \n",
       "4  2019                      56.0                    36.0   \n",
       "5  2020                      40.0                    15.0   \n",
       "6  2021                      50.0                    30.0   \n",
       "7  2022                      30.0                    22.0   \n",
       "8  2023                      50.0                    11.0   \n",
       "9  2024                      32.0                     2.0   \n",
       "\n",
       "   Model Open Code Open  Model Open Code Closed  \n",
       "0                   3.0                     0.0  \n",
       "1                   2.0                     1.0  \n",
       "2                   1.0                     0.0  \n",
       "3                  21.0                     1.0  \n",
       "4                  37.0                     9.0  \n",
       "5                  30.0                     6.0  \n",
       "6                  50.0                     8.0  \n",
       "7                  49.0                    18.0  \n",
       "8                  70.0                    60.0  \n",
       "9                  14.0                    31.0  "
      ]
     },
     "execution_count": 37,
     "metadata": {},
     "output_type": "execute_result"
    }
   ],
   "source": [
    "# Convert pivoted multi-columns to single columns with clear names\n",
    "new_columns = ['Year'] + [f'Model {outer} Code {inner}' for outer, inner in open_counts_wide.columns[1:]]\n",
    "open_counts_wide.columns = new_columns\n",
    "\n",
    "open_counts_wide"
   ]
  },
  {
   "cell_type": "code",
   "execution_count": 38,
   "metadata": {},
   "outputs": [
    {
     "data": {
      "text/html": [
       "<div>\n",
       "<style scoped>\n",
       "    .dataframe tbody tr th:only-of-type {\n",
       "        vertical-align: middle;\n",
       "    }\n",
       "\n",
       "    .dataframe tbody tr th {\n",
       "        vertical-align: top;\n",
       "    }\n",
       "\n",
       "    .dataframe thead th {\n",
       "        text-align: right;\n",
       "    }\n",
       "</style>\n",
       "<table border=\"1\" class=\"dataframe\">\n",
       "  <thead>\n",
       "    <tr style=\"text-align: right;\">\n",
       "      <th></th>\n",
       "      <th>Year</th>\n",
       "      <th>Category</th>\n",
       "      <th>Count</th>\n",
       "    </tr>\n",
       "  </thead>\n",
       "  <tbody>\n",
       "    <tr>\n",
       "      <th>0</th>\n",
       "      <td>2015</td>\n",
       "      <td>Model Closed Code Closed</td>\n",
       "      <td>7.0</td>\n",
       "    </tr>\n",
       "    <tr>\n",
       "      <th>1</th>\n",
       "      <td>2016</td>\n",
       "      <td>Model Closed Code Closed</td>\n",
       "      <td>19.0</td>\n",
       "    </tr>\n",
       "    <tr>\n",
       "      <th>2</th>\n",
       "      <td>2017</td>\n",
       "      <td>Model Closed Code Closed</td>\n",
       "      <td>21.0</td>\n",
       "    </tr>\n",
       "    <tr>\n",
       "      <th>3</th>\n",
       "      <td>2018</td>\n",
       "      <td>Model Closed Code Closed</td>\n",
       "      <td>32.0</td>\n",
       "    </tr>\n",
       "    <tr>\n",
       "      <th>4</th>\n",
       "      <td>2019</td>\n",
       "      <td>Model Closed Code Closed</td>\n",
       "      <td>56.0</td>\n",
       "    </tr>\n",
       "    <tr>\n",
       "      <th>5</th>\n",
       "      <td>2020</td>\n",
       "      <td>Model Closed Code Closed</td>\n",
       "      <td>40.0</td>\n",
       "    </tr>\n",
       "    <tr>\n",
       "      <th>6</th>\n",
       "      <td>2021</td>\n",
       "      <td>Model Closed Code Closed</td>\n",
       "      <td>50.0</td>\n",
       "    </tr>\n",
       "    <tr>\n",
       "      <th>7</th>\n",
       "      <td>2022</td>\n",
       "      <td>Model Closed Code Closed</td>\n",
       "      <td>30.0</td>\n",
       "    </tr>\n",
       "    <tr>\n",
       "      <th>8</th>\n",
       "      <td>2023</td>\n",
       "      <td>Model Closed Code Closed</td>\n",
       "      <td>50.0</td>\n",
       "    </tr>\n",
       "    <tr>\n",
       "      <th>9</th>\n",
       "      <td>2024</td>\n",
       "      <td>Model Closed Code Closed</td>\n",
       "      <td>32.0</td>\n",
       "    </tr>\n",
       "    <tr>\n",
       "      <th>10</th>\n",
       "      <td>2015</td>\n",
       "      <td>Model Closed Code Open</td>\n",
       "      <td>1.0</td>\n",
       "    </tr>\n",
       "    <tr>\n",
       "      <th>11</th>\n",
       "      <td>2016</td>\n",
       "      <td>Model Closed Code Open</td>\n",
       "      <td>3.0</td>\n",
       "    </tr>\n",
       "    <tr>\n",
       "      <th>12</th>\n",
       "      <td>2017</td>\n",
       "      <td>Model Closed Code Open</td>\n",
       "      <td>13.0</td>\n",
       "    </tr>\n",
       "    <tr>\n",
       "      <th>13</th>\n",
       "      <td>2018</td>\n",
       "      <td>Model Closed Code Open</td>\n",
       "      <td>11.0</td>\n",
       "    </tr>\n",
       "    <tr>\n",
       "      <th>14</th>\n",
       "      <td>2019</td>\n",
       "      <td>Model Closed Code Open</td>\n",
       "      <td>36.0</td>\n",
       "    </tr>\n",
       "    <tr>\n",
       "      <th>15</th>\n",
       "      <td>2020</td>\n",
       "      <td>Model Closed Code Open</td>\n",
       "      <td>15.0</td>\n",
       "    </tr>\n",
       "    <tr>\n",
       "      <th>16</th>\n",
       "      <td>2021</td>\n",
       "      <td>Model Closed Code Open</td>\n",
       "      <td>30.0</td>\n",
       "    </tr>\n",
       "    <tr>\n",
       "      <th>17</th>\n",
       "      <td>2022</td>\n",
       "      <td>Model Closed Code Open</td>\n",
       "      <td>22.0</td>\n",
       "    </tr>\n",
       "    <tr>\n",
       "      <th>18</th>\n",
       "      <td>2023</td>\n",
       "      <td>Model Closed Code Open</td>\n",
       "      <td>11.0</td>\n",
       "    </tr>\n",
       "    <tr>\n",
       "      <th>19</th>\n",
       "      <td>2024</td>\n",
       "      <td>Model Closed Code Open</td>\n",
       "      <td>2.0</td>\n",
       "    </tr>\n",
       "  </tbody>\n",
       "</table>\n",
       "</div>"
      ],
      "text/plain": [
       "    Year                  Category  Count\n",
       "0   2015  Model Closed Code Closed    7.0\n",
       "1   2016  Model Closed Code Closed   19.0\n",
       "2   2017  Model Closed Code Closed   21.0\n",
       "3   2018  Model Closed Code Closed   32.0\n",
       "4   2019  Model Closed Code Closed   56.0\n",
       "5   2020  Model Closed Code Closed   40.0\n",
       "6   2021  Model Closed Code Closed   50.0\n",
       "7   2022  Model Closed Code Closed   30.0\n",
       "8   2023  Model Closed Code Closed   50.0\n",
       "9   2024  Model Closed Code Closed   32.0\n",
       "10  2015    Model Closed Code Open    1.0\n",
       "11  2016    Model Closed Code Open    3.0\n",
       "12  2017    Model Closed Code Open   13.0\n",
       "13  2018    Model Closed Code Open   11.0\n",
       "14  2019    Model Closed Code Open   36.0\n",
       "15  2020    Model Closed Code Open   15.0\n",
       "16  2021    Model Closed Code Open   30.0\n",
       "17  2022    Model Closed Code Open   22.0\n",
       "18  2023    Model Closed Code Open   11.0\n",
       "19  2024    Model Closed Code Open    2.0"
      ]
     },
     "execution_count": 38,
     "metadata": {},
     "output_type": "execute_result"
    }
   ],
   "source": [
    "# unpivot table to get the count of each 2x2 value for each year\n",
    "open_counts_filled = (open_counts_wide.melt(id_vars=['Year'], \n",
    "                                            var_name='Category',\n",
    "                                            value_name='Count')\n",
    "                                      .reset_index(drop=True))\n",
    "\n",
    "open_counts_filled.head(20)"
   ]
  },
  {
   "cell_type": "code",
   "execution_count": 39,
   "metadata": {},
   "outputs": [
    {
     "data": {
      "text/html": [
       "<div>\n",
       "<style scoped>\n",
       "    .dataframe tbody tr th:only-of-type {\n",
       "        vertical-align: middle;\n",
       "    }\n",
       "\n",
       "    .dataframe tbody tr th {\n",
       "        vertical-align: top;\n",
       "    }\n",
       "\n",
       "    .dataframe thead th {\n",
       "        text-align: right;\n",
       "    }\n",
       "</style>\n",
       "<table border=\"1\" class=\"dataframe\">\n",
       "  <thead>\n",
       "    <tr style=\"text-align: right;\">\n",
       "      <th></th>\n",
       "      <th>Year</th>\n",
       "      <th>Category</th>\n",
       "      <th>Count</th>\n",
       "      <th>Cumulative for Category</th>\n",
       "      <th>Yearly Total</th>\n",
       "      <th>Cumulative Total</th>\n",
       "      <th>proportion</th>\n",
       "    </tr>\n",
       "  </thead>\n",
       "  <tbody>\n",
       "    <tr>\n",
       "      <th>0</th>\n",
       "      <td>2015</td>\n",
       "      <td>Model Closed Code Closed</td>\n",
       "      <td>7.0</td>\n",
       "      <td>7.0</td>\n",
       "      <td>11</td>\n",
       "      <td>11</td>\n",
       "      <td>0.636364</td>\n",
       "    </tr>\n",
       "    <tr>\n",
       "      <th>1</th>\n",
       "      <td>2016</td>\n",
       "      <td>Model Closed Code Closed</td>\n",
       "      <td>19.0</td>\n",
       "      <td>26.0</td>\n",
       "      <td>25</td>\n",
       "      <td>36</td>\n",
       "      <td>0.722222</td>\n",
       "    </tr>\n",
       "    <tr>\n",
       "      <th>2</th>\n",
       "      <td>2017</td>\n",
       "      <td>Model Closed Code Closed</td>\n",
       "      <td>21.0</td>\n",
       "      <td>47.0</td>\n",
       "      <td>35</td>\n",
       "      <td>71</td>\n",
       "      <td>0.661972</td>\n",
       "    </tr>\n",
       "    <tr>\n",
       "      <th>3</th>\n",
       "      <td>2018</td>\n",
       "      <td>Model Closed Code Closed</td>\n",
       "      <td>32.0</td>\n",
       "      <td>79.0</td>\n",
       "      <td>65</td>\n",
       "      <td>136</td>\n",
       "      <td>0.580882</td>\n",
       "    </tr>\n",
       "    <tr>\n",
       "      <th>4</th>\n",
       "      <td>2019</td>\n",
       "      <td>Model Closed Code Closed</td>\n",
       "      <td>56.0</td>\n",
       "      <td>135.0</td>\n",
       "      <td>138</td>\n",
       "      <td>274</td>\n",
       "      <td>0.492701</td>\n",
       "    </tr>\n",
       "    <tr>\n",
       "      <th>5</th>\n",
       "      <td>2020</td>\n",
       "      <td>Model Closed Code Closed</td>\n",
       "      <td>40.0</td>\n",
       "      <td>175.0</td>\n",
       "      <td>91</td>\n",
       "      <td>365</td>\n",
       "      <td>0.479452</td>\n",
       "    </tr>\n",
       "    <tr>\n",
       "      <th>6</th>\n",
       "      <td>2021</td>\n",
       "      <td>Model Closed Code Closed</td>\n",
       "      <td>50.0</td>\n",
       "      <td>225.0</td>\n",
       "      <td>138</td>\n",
       "      <td>503</td>\n",
       "      <td>0.447316</td>\n",
       "    </tr>\n",
       "    <tr>\n",
       "      <th>7</th>\n",
       "      <td>2022</td>\n",
       "      <td>Model Closed Code Closed</td>\n",
       "      <td>30.0</td>\n",
       "      <td>255.0</td>\n",
       "      <td>119</td>\n",
       "      <td>622</td>\n",
       "      <td>0.409968</td>\n",
       "    </tr>\n",
       "    <tr>\n",
       "      <th>8</th>\n",
       "      <td>2023</td>\n",
       "      <td>Model Closed Code Closed</td>\n",
       "      <td>50.0</td>\n",
       "      <td>305.0</td>\n",
       "      <td>191</td>\n",
       "      <td>813</td>\n",
       "      <td>0.375154</td>\n",
       "    </tr>\n",
       "    <tr>\n",
       "      <th>9</th>\n",
       "      <td>2024</td>\n",
       "      <td>Model Closed Code Closed</td>\n",
       "      <td>32.0</td>\n",
       "      <td>337.0</td>\n",
       "      <td>79</td>\n",
       "      <td>892</td>\n",
       "      <td>0.377803</td>\n",
       "    </tr>\n",
       "    <tr>\n",
       "      <th>10</th>\n",
       "      <td>2015</td>\n",
       "      <td>Model Closed Code Open</td>\n",
       "      <td>1.0</td>\n",
       "      <td>1.0</td>\n",
       "      <td>11</td>\n",
       "      <td>11</td>\n",
       "      <td>0.090909</td>\n",
       "    </tr>\n",
       "    <tr>\n",
       "      <th>11</th>\n",
       "      <td>2016</td>\n",
       "      <td>Model Closed Code Open</td>\n",
       "      <td>3.0</td>\n",
       "      <td>4.0</td>\n",
       "      <td>25</td>\n",
       "      <td>36</td>\n",
       "      <td>0.111111</td>\n",
       "    </tr>\n",
       "    <tr>\n",
       "      <th>12</th>\n",
       "      <td>2017</td>\n",
       "      <td>Model Closed Code Open</td>\n",
       "      <td>13.0</td>\n",
       "      <td>17.0</td>\n",
       "      <td>35</td>\n",
       "      <td>71</td>\n",
       "      <td>0.239437</td>\n",
       "    </tr>\n",
       "    <tr>\n",
       "      <th>13</th>\n",
       "      <td>2018</td>\n",
       "      <td>Model Closed Code Open</td>\n",
       "      <td>11.0</td>\n",
       "      <td>28.0</td>\n",
       "      <td>65</td>\n",
       "      <td>136</td>\n",
       "      <td>0.205882</td>\n",
       "    </tr>\n",
       "    <tr>\n",
       "      <th>14</th>\n",
       "      <td>2019</td>\n",
       "      <td>Model Closed Code Open</td>\n",
       "      <td>36.0</td>\n",
       "      <td>64.0</td>\n",
       "      <td>138</td>\n",
       "      <td>274</td>\n",
       "      <td>0.233577</td>\n",
       "    </tr>\n",
       "    <tr>\n",
       "      <th>15</th>\n",
       "      <td>2020</td>\n",
       "      <td>Model Closed Code Open</td>\n",
       "      <td>15.0</td>\n",
       "      <td>79.0</td>\n",
       "      <td>91</td>\n",
       "      <td>365</td>\n",
       "      <td>0.216438</td>\n",
       "    </tr>\n",
       "    <tr>\n",
       "      <th>16</th>\n",
       "      <td>2021</td>\n",
       "      <td>Model Closed Code Open</td>\n",
       "      <td>30.0</td>\n",
       "      <td>109.0</td>\n",
       "      <td>138</td>\n",
       "      <td>503</td>\n",
       "      <td>0.216700</td>\n",
       "    </tr>\n",
       "    <tr>\n",
       "      <th>17</th>\n",
       "      <td>2022</td>\n",
       "      <td>Model Closed Code Open</td>\n",
       "      <td>22.0</td>\n",
       "      <td>131.0</td>\n",
       "      <td>119</td>\n",
       "      <td>622</td>\n",
       "      <td>0.210611</td>\n",
       "    </tr>\n",
       "    <tr>\n",
       "      <th>18</th>\n",
       "      <td>2023</td>\n",
       "      <td>Model Closed Code Open</td>\n",
       "      <td>11.0</td>\n",
       "      <td>142.0</td>\n",
       "      <td>191</td>\n",
       "      <td>813</td>\n",
       "      <td>0.174662</td>\n",
       "    </tr>\n",
       "    <tr>\n",
       "      <th>19</th>\n",
       "      <td>2024</td>\n",
       "      <td>Model Closed Code Open</td>\n",
       "      <td>2.0</td>\n",
       "      <td>144.0</td>\n",
       "      <td>79</td>\n",
       "      <td>892</td>\n",
       "      <td>0.161435</td>\n",
       "    </tr>\n",
       "  </tbody>\n",
       "</table>\n",
       "</div>"
      ],
      "text/plain": [
       "    Year                  Category  Count  Cumulative for Category  \\\n",
       "0   2015  Model Closed Code Closed    7.0                      7.0   \n",
       "1   2016  Model Closed Code Closed   19.0                     26.0   \n",
       "2   2017  Model Closed Code Closed   21.0                     47.0   \n",
       "3   2018  Model Closed Code Closed   32.0                     79.0   \n",
       "4   2019  Model Closed Code Closed   56.0                    135.0   \n",
       "5   2020  Model Closed Code Closed   40.0                    175.0   \n",
       "6   2021  Model Closed Code Closed   50.0                    225.0   \n",
       "7   2022  Model Closed Code Closed   30.0                    255.0   \n",
       "8   2023  Model Closed Code Closed   50.0                    305.0   \n",
       "9   2024  Model Closed Code Closed   32.0                    337.0   \n",
       "10  2015    Model Closed Code Open    1.0                      1.0   \n",
       "11  2016    Model Closed Code Open    3.0                      4.0   \n",
       "12  2017    Model Closed Code Open   13.0                     17.0   \n",
       "13  2018    Model Closed Code Open   11.0                     28.0   \n",
       "14  2019    Model Closed Code Open   36.0                     64.0   \n",
       "15  2020    Model Closed Code Open   15.0                     79.0   \n",
       "16  2021    Model Closed Code Open   30.0                    109.0   \n",
       "17  2022    Model Closed Code Open   22.0                    131.0   \n",
       "18  2023    Model Closed Code Open   11.0                    142.0   \n",
       "19  2024    Model Closed Code Open    2.0                    144.0   \n",
       "\n",
       "    Yearly Total  Cumulative Total  proportion  \n",
       "0             11                11    0.636364  \n",
       "1             25                36    0.722222  \n",
       "2             35                71    0.661972  \n",
       "3             65               136    0.580882  \n",
       "4            138               274    0.492701  \n",
       "5             91               365    0.479452  \n",
       "6            138               503    0.447316  \n",
       "7            119               622    0.409968  \n",
       "8            191               813    0.375154  \n",
       "9             79               892    0.377803  \n",
       "10            11                11    0.090909  \n",
       "11            25                36    0.111111  \n",
       "12            35                71    0.239437  \n",
       "13            65               136    0.205882  \n",
       "14           138               274    0.233577  \n",
       "15            91               365    0.216438  \n",
       "16           138               503    0.216700  \n",
       "17           119               622    0.210611  \n",
       "18           191               813    0.174662  \n",
       "19            79               892    0.161435  "
      ]
     },
     "execution_count": 39,
     "metadata": {},
     "output_type": "execute_result"
    }
   ],
   "source": [
    "open_counts_filled['Cumulative for Category'] = open_counts_filled.groupby('Category')['Count'].cumsum()\n",
    "\n",
    "with_totals = pd.merge(open_counts_filled, total_counts, on=\"Year\")\n",
    "with_totals['proportion'] = with_totals['Cumulative for Category'] / with_totals['Cumulative Total']\n",
    "with_totals.head(20)"
   ]
  },
  {
   "cell_type": "code",
   "execution_count": 40,
   "metadata": {},
   "outputs": [
    {
     "data": {
      "application/vnd.plotly.v1+json": {
       "config": {
        "plotlyServerURL": "https://plot.ly"
       },
       "data": [
        {
         "fillpattern": {
          "shape": ""
         },
         "hovertemplate": "Accessibility=Model Closed Code Closed<br>Year=%{x}<br>Proportion=%{y}<extra></extra>",
         "legendgroup": "Model Closed Code Closed",
         "line": {
          "color": "crimson"
         },
         "marker": {
          "symbol": "circle"
         },
         "mode": "lines",
         "name": "Model Closed Code Closed",
         "orientation": "v",
         "showlegend": true,
         "stackgroup": "1",
         "type": "scatter",
         "x": [
          2015,
          2016,
          2017,
          2018,
          2019,
          2020,
          2021,
          2022,
          2023,
          2024
         ],
         "xaxis": "x",
         "y": [
          0.6363636363636364,
          0.7222222222222222,
          0.6619718309859155,
          0.5808823529411765,
          0.4927007299270073,
          0.4794520547945205,
          0.44731610337972166,
          0.409967845659164,
          0.3751537515375154,
          0.3778026905829596
         ],
         "yaxis": "y"
        },
        {
         "fillpattern": {
          "shape": ""
         },
         "hovertemplate": "Accessibility=Model Closed Code Open<br>Year=%{x}<br>Proportion=%{y}<extra></extra>",
         "legendgroup": "Model Closed Code Open",
         "line": {
          "color": "tomato"
         },
         "marker": {
          "symbol": "circle"
         },
         "mode": "lines",
         "name": "Model Closed Code Open",
         "orientation": "v",
         "showlegend": true,
         "stackgroup": "1",
         "type": "scatter",
         "x": [
          2023,
          2022,
          2021,
          2020,
          2024,
          2018,
          2017,
          2016,
          2015,
          2019
         ],
         "xaxis": "x",
         "y": [
          0.17466174661746617,
          0.21061093247588425,
          0.21669980119284293,
          0.21643835616438356,
          0.16143497757847533,
          0.20588235294117646,
          0.23943661971830985,
          0.1111111111111111,
          0.09090909090909091,
          0.23357664233576642
         ],
         "yaxis": "y"
        },
        {
         "fillpattern": {
          "shape": ""
         },
         "hovertemplate": "Accessibility=Model Open Code Closed<br>Year=%{x}<br>Proportion=%{y}<extra></extra>",
         "legendgroup": "Model Open Code Closed",
         "line": {
          "color": "blue"
         },
         "marker": {
          "symbol": "circle"
         },
         "mode": "lines",
         "name": "Model Open Code Closed",
         "orientation": "v",
         "showlegend": true,
         "stackgroup": "1",
         "type": "scatter",
         "x": [
          2022,
          2021,
          2020,
          2019,
          2018,
          2017,
          2016,
          2015,
          2024,
          2023
         ],
         "xaxis": "x",
         "y": [
          0.06913183279742766,
          0.04970178926441352,
          0.04657534246575343,
          0.040145985401459854,
          0.014705882352941176,
          0.014084507042253521,
          0.027777777777777776,
          0,
          0.15022421524663676,
          0.12669126691266913
         ],
         "yaxis": "y"
        },
        {
         "fillpattern": {
          "shape": ""
         },
         "hovertemplate": "Accessibility=Model Open Code Open<br>Year=%{x}<br>Proportion=%{y}<extra></extra>",
         "legendgroup": "Model Open Code Open",
         "line": {
          "color": "dodgerblue"
         },
         "marker": {
          "symbol": "circle"
         },
         "mode": "lines",
         "name": "Model Open Code Open",
         "orientation": "v",
         "showlegend": true,
         "stackgroup": "1",
         "type": "scatter",
         "x": [
          2024,
          2021,
          2020,
          2019,
          2018,
          2017,
          2016,
          2015,
          2023,
          2022
         ],
         "xaxis": "x",
         "y": [
          0.31053811659192826,
          0.28628230616302186,
          0.25753424657534246,
          0.23357664233576642,
          0.19852941176470587,
          0.08450704225352113,
          0.1388888888888889,
          0.2727272727272727,
          0.3234932349323493,
          0.3102893890675241
         ],
         "yaxis": "y"
        }
       ],
       "layout": {
        "autosize": false,
        "height": 600,
        "legend": {
         "title": {
          "text": "Accessibility"
         },
         "tracegroupgap": 0
        },
        "template": {
         "data": {
          "bar": [
           {
            "error_x": {
             "color": "#2a3f5f"
            },
            "error_y": {
             "color": "#2a3f5f"
            },
            "marker": {
             "line": {
              "color": "#E5ECF6",
              "width": 0.5
             },
             "pattern": {
              "fillmode": "overlay",
              "size": 10,
              "solidity": 0.2
             }
            },
            "type": "bar"
           }
          ],
          "barpolar": [
           {
            "marker": {
             "line": {
              "color": "#E5ECF6",
              "width": 0.5
             },
             "pattern": {
              "fillmode": "overlay",
              "size": 10,
              "solidity": 0.2
             }
            },
            "type": "barpolar"
           }
          ],
          "carpet": [
           {
            "aaxis": {
             "endlinecolor": "#2a3f5f",
             "gridcolor": "white",
             "linecolor": "white",
             "minorgridcolor": "white",
             "startlinecolor": "#2a3f5f"
            },
            "baxis": {
             "endlinecolor": "#2a3f5f",
             "gridcolor": "white",
             "linecolor": "white",
             "minorgridcolor": "white",
             "startlinecolor": "#2a3f5f"
            },
            "type": "carpet"
           }
          ],
          "choropleth": [
           {
            "colorbar": {
             "outlinewidth": 0,
             "ticks": ""
            },
            "type": "choropleth"
           }
          ],
          "contour": [
           {
            "colorbar": {
             "outlinewidth": 0,
             "ticks": ""
            },
            "colorscale": [
             [
              0,
              "#0d0887"
             ],
             [
              0.1111111111111111,
              "#46039f"
             ],
             [
              0.2222222222222222,
              "#7201a8"
             ],
             [
              0.3333333333333333,
              "#9c179e"
             ],
             [
              0.4444444444444444,
              "#bd3786"
             ],
             [
              0.5555555555555556,
              "#d8576b"
             ],
             [
              0.6666666666666666,
              "#ed7953"
             ],
             [
              0.7777777777777778,
              "#fb9f3a"
             ],
             [
              0.8888888888888888,
              "#fdca26"
             ],
             [
              1,
              "#f0f921"
             ]
            ],
            "type": "contour"
           }
          ],
          "contourcarpet": [
           {
            "colorbar": {
             "outlinewidth": 0,
             "ticks": ""
            },
            "type": "contourcarpet"
           }
          ],
          "heatmap": [
           {
            "colorbar": {
             "outlinewidth": 0,
             "ticks": ""
            },
            "colorscale": [
             [
              0,
              "#0d0887"
             ],
             [
              0.1111111111111111,
              "#46039f"
             ],
             [
              0.2222222222222222,
              "#7201a8"
             ],
             [
              0.3333333333333333,
              "#9c179e"
             ],
             [
              0.4444444444444444,
              "#bd3786"
             ],
             [
              0.5555555555555556,
              "#d8576b"
             ],
             [
              0.6666666666666666,
              "#ed7953"
             ],
             [
              0.7777777777777778,
              "#fb9f3a"
             ],
             [
              0.8888888888888888,
              "#fdca26"
             ],
             [
              1,
              "#f0f921"
             ]
            ],
            "type": "heatmap"
           }
          ],
          "heatmapgl": [
           {
            "colorbar": {
             "outlinewidth": 0,
             "ticks": ""
            },
            "colorscale": [
             [
              0,
              "#0d0887"
             ],
             [
              0.1111111111111111,
              "#46039f"
             ],
             [
              0.2222222222222222,
              "#7201a8"
             ],
             [
              0.3333333333333333,
              "#9c179e"
             ],
             [
              0.4444444444444444,
              "#bd3786"
             ],
             [
              0.5555555555555556,
              "#d8576b"
             ],
             [
              0.6666666666666666,
              "#ed7953"
             ],
             [
              0.7777777777777778,
              "#fb9f3a"
             ],
             [
              0.8888888888888888,
              "#fdca26"
             ],
             [
              1,
              "#f0f921"
             ]
            ],
            "type": "heatmapgl"
           }
          ],
          "histogram": [
           {
            "marker": {
             "pattern": {
              "fillmode": "overlay",
              "size": 10,
              "solidity": 0.2
             }
            },
            "type": "histogram"
           }
          ],
          "histogram2d": [
           {
            "colorbar": {
             "outlinewidth": 0,
             "ticks": ""
            },
            "colorscale": [
             [
              0,
              "#0d0887"
             ],
             [
              0.1111111111111111,
              "#46039f"
             ],
             [
              0.2222222222222222,
              "#7201a8"
             ],
             [
              0.3333333333333333,
              "#9c179e"
             ],
             [
              0.4444444444444444,
              "#bd3786"
             ],
             [
              0.5555555555555556,
              "#d8576b"
             ],
             [
              0.6666666666666666,
              "#ed7953"
             ],
             [
              0.7777777777777778,
              "#fb9f3a"
             ],
             [
              0.8888888888888888,
              "#fdca26"
             ],
             [
              1,
              "#f0f921"
             ]
            ],
            "type": "histogram2d"
           }
          ],
          "histogram2dcontour": [
           {
            "colorbar": {
             "outlinewidth": 0,
             "ticks": ""
            },
            "colorscale": [
             [
              0,
              "#0d0887"
             ],
             [
              0.1111111111111111,
              "#46039f"
             ],
             [
              0.2222222222222222,
              "#7201a8"
             ],
             [
              0.3333333333333333,
              "#9c179e"
             ],
             [
              0.4444444444444444,
              "#bd3786"
             ],
             [
              0.5555555555555556,
              "#d8576b"
             ],
             [
              0.6666666666666666,
              "#ed7953"
             ],
             [
              0.7777777777777778,
              "#fb9f3a"
             ],
             [
              0.8888888888888888,
              "#fdca26"
             ],
             [
              1,
              "#f0f921"
             ]
            ],
            "type": "histogram2dcontour"
           }
          ],
          "mesh3d": [
           {
            "colorbar": {
             "outlinewidth": 0,
             "ticks": ""
            },
            "type": "mesh3d"
           }
          ],
          "parcoords": [
           {
            "line": {
             "colorbar": {
              "outlinewidth": 0,
              "ticks": ""
             }
            },
            "type": "parcoords"
           }
          ],
          "pie": [
           {
            "automargin": true,
            "type": "pie"
           }
          ],
          "scatter": [
           {
            "fillpattern": {
             "fillmode": "overlay",
             "size": 10,
             "solidity": 0.2
            },
            "type": "scatter"
           }
          ],
          "scatter3d": [
           {
            "line": {
             "colorbar": {
              "outlinewidth": 0,
              "ticks": ""
             }
            },
            "marker": {
             "colorbar": {
              "outlinewidth": 0,
              "ticks": ""
             }
            },
            "type": "scatter3d"
           }
          ],
          "scattercarpet": [
           {
            "marker": {
             "colorbar": {
              "outlinewidth": 0,
              "ticks": ""
             }
            },
            "type": "scattercarpet"
           }
          ],
          "scattergeo": [
           {
            "marker": {
             "colorbar": {
              "outlinewidth": 0,
              "ticks": ""
             }
            },
            "type": "scattergeo"
           }
          ],
          "scattergl": [
           {
            "marker": {
             "colorbar": {
              "outlinewidth": 0,
              "ticks": ""
             }
            },
            "type": "scattergl"
           }
          ],
          "scattermapbox": [
           {
            "marker": {
             "colorbar": {
              "outlinewidth": 0,
              "ticks": ""
             }
            },
            "type": "scattermapbox"
           }
          ],
          "scatterpolar": [
           {
            "marker": {
             "colorbar": {
              "outlinewidth": 0,
              "ticks": ""
             }
            },
            "type": "scatterpolar"
           }
          ],
          "scatterpolargl": [
           {
            "marker": {
             "colorbar": {
              "outlinewidth": 0,
              "ticks": ""
             }
            },
            "type": "scatterpolargl"
           }
          ],
          "scatterternary": [
           {
            "marker": {
             "colorbar": {
              "outlinewidth": 0,
              "ticks": ""
             }
            },
            "type": "scatterternary"
           }
          ],
          "surface": [
           {
            "colorbar": {
             "outlinewidth": 0,
             "ticks": ""
            },
            "colorscale": [
             [
              0,
              "#0d0887"
             ],
             [
              0.1111111111111111,
              "#46039f"
             ],
             [
              0.2222222222222222,
              "#7201a8"
             ],
             [
              0.3333333333333333,
              "#9c179e"
             ],
             [
              0.4444444444444444,
              "#bd3786"
             ],
             [
              0.5555555555555556,
              "#d8576b"
             ],
             [
              0.6666666666666666,
              "#ed7953"
             ],
             [
              0.7777777777777778,
              "#fb9f3a"
             ],
             [
              0.8888888888888888,
              "#fdca26"
             ],
             [
              1,
              "#f0f921"
             ]
            ],
            "type": "surface"
           }
          ],
          "table": [
           {
            "cells": {
             "fill": {
              "color": "#EBF0F8"
             },
             "line": {
              "color": "white"
             }
            },
            "header": {
             "fill": {
              "color": "#C8D4E3"
             },
             "line": {
              "color": "white"
             }
            },
            "type": "table"
           }
          ]
         },
         "layout": {
          "annotationdefaults": {
           "arrowcolor": "#2a3f5f",
           "arrowhead": 0,
           "arrowwidth": 1
          },
          "autotypenumbers": "strict",
          "coloraxis": {
           "colorbar": {
            "outlinewidth": 0,
            "ticks": ""
           }
          },
          "colorscale": {
           "diverging": [
            [
             0,
             "#8e0152"
            ],
            [
             0.1,
             "#c51b7d"
            ],
            [
             0.2,
             "#de77ae"
            ],
            [
             0.3,
             "#f1b6da"
            ],
            [
             0.4,
             "#fde0ef"
            ],
            [
             0.5,
             "#f7f7f7"
            ],
            [
             0.6,
             "#e6f5d0"
            ],
            [
             0.7,
             "#b8e186"
            ],
            [
             0.8,
             "#7fbc41"
            ],
            [
             0.9,
             "#4d9221"
            ],
            [
             1,
             "#276419"
            ]
           ],
           "sequential": [
            [
             0,
             "#0d0887"
            ],
            [
             0.1111111111111111,
             "#46039f"
            ],
            [
             0.2222222222222222,
             "#7201a8"
            ],
            [
             0.3333333333333333,
             "#9c179e"
            ],
            [
             0.4444444444444444,
             "#bd3786"
            ],
            [
             0.5555555555555556,
             "#d8576b"
            ],
            [
             0.6666666666666666,
             "#ed7953"
            ],
            [
             0.7777777777777778,
             "#fb9f3a"
            ],
            [
             0.8888888888888888,
             "#fdca26"
            ],
            [
             1,
             "#f0f921"
            ]
           ],
           "sequentialminus": [
            [
             0,
             "#0d0887"
            ],
            [
             0.1111111111111111,
             "#46039f"
            ],
            [
             0.2222222222222222,
             "#7201a8"
            ],
            [
             0.3333333333333333,
             "#9c179e"
            ],
            [
             0.4444444444444444,
             "#bd3786"
            ],
            [
             0.5555555555555556,
             "#d8576b"
            ],
            [
             0.6666666666666666,
             "#ed7953"
            ],
            [
             0.7777777777777778,
             "#fb9f3a"
            ],
            [
             0.8888888888888888,
             "#fdca26"
            ],
            [
             1,
             "#f0f921"
            ]
           ]
          },
          "colorway": [
           "#636efa",
           "#EF553B",
           "#00cc96",
           "#ab63fa",
           "#FFA15A",
           "#19d3f3",
           "#FF6692",
           "#B6E880",
           "#FF97FF",
           "#FECB52"
          ],
          "font": {
           "color": "#2a3f5f"
          },
          "geo": {
           "bgcolor": "white",
           "lakecolor": "white",
           "landcolor": "#E5ECF6",
           "showlakes": true,
           "showland": true,
           "subunitcolor": "white"
          },
          "hoverlabel": {
           "align": "left"
          },
          "hovermode": "closest",
          "mapbox": {
           "style": "light"
          },
          "paper_bgcolor": "white",
          "plot_bgcolor": "#E5ECF6",
          "polar": {
           "angularaxis": {
            "gridcolor": "white",
            "linecolor": "white",
            "ticks": ""
           },
           "bgcolor": "#E5ECF6",
           "radialaxis": {
            "gridcolor": "white",
            "linecolor": "white",
            "ticks": ""
           }
          },
          "scene": {
           "xaxis": {
            "backgroundcolor": "#E5ECF6",
            "gridcolor": "white",
            "gridwidth": 2,
            "linecolor": "white",
            "showbackground": true,
            "ticks": "",
            "zerolinecolor": "white"
           },
           "yaxis": {
            "backgroundcolor": "#E5ECF6",
            "gridcolor": "white",
            "gridwidth": 2,
            "linecolor": "white",
            "showbackground": true,
            "ticks": "",
            "zerolinecolor": "white"
           },
           "zaxis": {
            "backgroundcolor": "#E5ECF6",
            "gridcolor": "white",
            "gridwidth": 2,
            "linecolor": "white",
            "showbackground": true,
            "ticks": "",
            "zerolinecolor": "white"
           }
          },
          "shapedefaults": {
           "line": {
            "color": "#2a3f5f"
           }
          },
          "ternary": {
           "aaxis": {
            "gridcolor": "white",
            "linecolor": "white",
            "ticks": ""
           },
           "baxis": {
            "gridcolor": "white",
            "linecolor": "white",
            "ticks": ""
           },
           "bgcolor": "#E5ECF6",
           "caxis": {
            "gridcolor": "white",
            "linecolor": "white",
            "ticks": ""
           }
          },
          "title": {
           "x": 0.05
          },
          "xaxis": {
           "automargin": true,
           "gridcolor": "white",
           "linecolor": "white",
           "ticks": "",
           "title": {
            "standoff": 15
           },
           "zerolinecolor": "white",
           "zerolinewidth": 2
          },
          "yaxis": {
           "automargin": true,
           "gridcolor": "white",
           "linecolor": "white",
           "ticks": "",
           "title": {
            "standoff": 15
           },
           "zerolinecolor": "white",
           "zerolinewidth": 2
          }
         }
        },
        "title": {
         "text": "Model and training code accessibility over time",
         "x": 0.2
        },
        "width": 800,
        "xaxis": {
         "anchor": "y",
         "domain": [
          0,
          1
         ],
         "range": [
          2018,
          2024
         ],
         "title": {
          "text": "Year"
         }
        },
        "yaxis": {
         "anchor": "x",
         "domain": [
          0,
          1
         ],
         "range": [
          0,
          1
         ],
         "title": {
          "text": "Proportion"
         }
        }
       }
      }
     },
     "metadata": {},
     "output_type": "display_data"
    }
   ],
   "source": [
    "# sort using custom order\n",
    "sort_order = ['Model Closed Code Closed', 'Model Closed Code Open', 'Model Open Code Closed', 'Model Open Code Open']\n",
    "\n",
    "with_totals['Category_sorted'] = pd.Categorical(with_totals['Category'], categories=sort_order, ordered=True)\n",
    "with_totals = with_totals.sort_values('Category_sorted')\n",
    "\n",
    "\n",
    "colors = ['crimson', 'tomato', 'blue', 'dodgerblue']\n",
    "fig = px.area(with_totals, x='Year', y='proportion', color='Category', line_group='Category',\n",
    "              labels={'proportion': 'Proportion', 'Year': 'Year', 'Category': 'Accessibility'},\n",
    "              title='Model and training code accessibility over time', color_discrete_sequence=colors)\n",
    "\n",
    "fig.update_yaxes(range=[0, 1])\n",
    "fig.update_xaxes(range=[2018, 2024])\n",
    "fig.update_layout(\n",
    "    autosize=False,\n",
    "    width=800,\n",
    "    height=600,\n",
    "    title_x=0.2,\n",
    ")\n",
    "\n",
    "save_plot(fig, results_dir, f'model_code_accessibility_over_time')\n",
    "\n",
    "fig.show()"
   ]
  },
  {
   "cell_type": "code",
   "execution_count": 41,
   "metadata": {},
   "outputs": [],
   "source": [
    "with_totals.to_csv(results_dir + 'model_code_accessibility_over_time.csv', index=False)"
   ]
  },
  {
   "cell_type": "markdown",
   "metadata": {},
   "source": [
    "This chart shows the proportions across the four categories of model open/closed and code open/closed. The blue areas are open-weight models and the red areas are closed-weight, while the lighter colors are code open and the darker colors are code closed. Among open-weight models, code closed has become more common. Intuitively, this is consistent with the rise of the commercial open-source industry, which releases model weights but does not wish to give competitors the ability to recreate their base models."
   ]
  },
  {
   "cell_type": "code",
   "execution_count": 42,
   "metadata": {
    "tags": []
   },
   "outputs": [
    {
     "data": {
      "application/vnd.plotly.v1+json": {
       "config": {
        "plotlyServerURL": "https://plot.ly"
       },
       "data": [
        {
         "fillpattern": {
          "shape": ""
         },
         "hovertemplate": "Category=Model Closed Code Closed<br>Year=%{x}<br>Proportion=%{y}<extra></extra>",
         "legendgroup": "Model Closed Code Closed",
         "line": {
          "color": "crimson"
         },
         "marker": {
          "symbol": "circle"
         },
         "mode": "lines",
         "name": "Model Closed Code Closed",
         "orientation": "v",
         "showlegend": true,
         "stackgroup": "1",
         "type": "scatter",
         "x": [
          2015,
          2016,
          2017,
          2018,
          2019,
          2020,
          2021,
          2022,
          2023,
          2024
         ],
         "xaxis": "x",
         "y": [
          0.7142857142857143,
          0.6842105263157895,
          0.6666666666666666,
          0.5362318840579711,
          0.4027777777777778,
          0.37055837563451777,
          0.3607843137254902,
          0.3540983606557377,
          0.3453038674033149,
          0.35844155844155845
         ],
         "yaxis": "y"
        },
        {
         "fillpattern": {
          "shape": ""
         },
         "hovertemplate": "Category=Model Closed Code Open<br>Year=%{x}<br>Proportion=%{y}<extra></extra>",
         "legendgroup": "Model Closed Code Open",
         "line": {
          "color": "tomato"
         },
         "marker": {
          "symbol": "circle"
         },
         "mode": "lines",
         "name": "Model Closed Code Open",
         "orientation": "v",
         "showlegend": true,
         "stackgroup": "1",
         "type": "scatter",
         "x": [
          2023,
          2022,
          2021,
          2020,
          2024,
          2018,
          2017,
          2016,
          2015,
          2019
         ],
         "xaxis": "x",
         "y": [
          0.13535911602209943,
          0.15737704918032788,
          0.17254901960784313,
          0.19796954314720813,
          0.12727272727272726,
          0.2608695652173913,
          0.25,
          0.15789473684210525,
          0.14285714285714285,
          0.22916666666666666
         ],
         "yaxis": "y"
        },
        {
         "fillpattern": {
          "shape": ""
         },
         "hovertemplate": "Category=Model Open Code Closed<br>Year=%{x}<br>Proportion=%{y}<extra></extra>",
         "legendgroup": "Model Open Code Closed",
         "line": {
          "color": "blue"
         },
         "marker": {
          "symbol": "circle"
         },
         "mode": "lines",
         "name": "Model Open Code Closed",
         "orientation": "v",
         "showlegend": true,
         "stackgroup": "1",
         "type": "scatter",
         "x": [
          2022,
          2021,
          2020,
          2019,
          2018,
          2017,
          2016,
          2015,
          2024,
          2023
         ],
         "xaxis": "x",
         "y": [
          0.08524590163934426,
          0.0784313725490196,
          0.07614213197969544,
          0.06944444444444445,
          0.028985507246376812,
          0.027777777777777776,
          0.05263157894736842,
          0,
          0.12987012987012986,
          0.11878453038674033
         ],
         "yaxis": "y"
        },
        {
         "fillpattern": {
          "shape": ""
         },
         "hovertemplate": "Category=Model Open Code Open<br>Year=%{x}<br>Proportion=%{y}<extra></extra>",
         "legendgroup": "Model Open Code Open",
         "line": {
          "color": "dodgerblue"
         },
         "marker": {
          "symbol": "circle"
         },
         "mode": "lines",
         "name": "Model Open Code Open",
         "orientation": "v",
         "showlegend": true,
         "stackgroup": "1",
         "type": "scatter",
         "x": [
          2024,
          2021,
          2020,
          2019,
          2018,
          2017,
          2016,
          2015,
          2023,
          2022
         ],
         "xaxis": "x",
         "y": [
          0.38441558441558443,
          0.38823529411764707,
          0.3553299492385787,
          0.2986111111111111,
          0.17391304347826086,
          0.05555555555555555,
          0.10526315789473684,
          0.14285714285714285,
          0.4005524861878453,
          0.40327868852459015
         ],
         "yaxis": "y"
        }
       ],
       "layout": {
        "autosize": false,
        "height": 600,
        "legend": {
         "title": {
          "text": "Category"
         },
         "tracegroupgap": 0
        },
        "template": {
         "data": {
          "bar": [
           {
            "error_x": {
             "color": "#2a3f5f"
            },
            "error_y": {
             "color": "#2a3f5f"
            },
            "marker": {
             "line": {
              "color": "#E5ECF6",
              "width": 0.5
             },
             "pattern": {
              "fillmode": "overlay",
              "size": 10,
              "solidity": 0.2
             }
            },
            "type": "bar"
           }
          ],
          "barpolar": [
           {
            "marker": {
             "line": {
              "color": "#E5ECF6",
              "width": 0.5
             },
             "pattern": {
              "fillmode": "overlay",
              "size": 10,
              "solidity": 0.2
             }
            },
            "type": "barpolar"
           }
          ],
          "carpet": [
           {
            "aaxis": {
             "endlinecolor": "#2a3f5f",
             "gridcolor": "white",
             "linecolor": "white",
             "minorgridcolor": "white",
             "startlinecolor": "#2a3f5f"
            },
            "baxis": {
             "endlinecolor": "#2a3f5f",
             "gridcolor": "white",
             "linecolor": "white",
             "minorgridcolor": "white",
             "startlinecolor": "#2a3f5f"
            },
            "type": "carpet"
           }
          ],
          "choropleth": [
           {
            "colorbar": {
             "outlinewidth": 0,
             "ticks": ""
            },
            "type": "choropleth"
           }
          ],
          "contour": [
           {
            "colorbar": {
             "outlinewidth": 0,
             "ticks": ""
            },
            "colorscale": [
             [
              0,
              "#0d0887"
             ],
             [
              0.1111111111111111,
              "#46039f"
             ],
             [
              0.2222222222222222,
              "#7201a8"
             ],
             [
              0.3333333333333333,
              "#9c179e"
             ],
             [
              0.4444444444444444,
              "#bd3786"
             ],
             [
              0.5555555555555556,
              "#d8576b"
             ],
             [
              0.6666666666666666,
              "#ed7953"
             ],
             [
              0.7777777777777778,
              "#fb9f3a"
             ],
             [
              0.8888888888888888,
              "#fdca26"
             ],
             [
              1,
              "#f0f921"
             ]
            ],
            "type": "contour"
           }
          ],
          "contourcarpet": [
           {
            "colorbar": {
             "outlinewidth": 0,
             "ticks": ""
            },
            "type": "contourcarpet"
           }
          ],
          "heatmap": [
           {
            "colorbar": {
             "outlinewidth": 0,
             "ticks": ""
            },
            "colorscale": [
             [
              0,
              "#0d0887"
             ],
             [
              0.1111111111111111,
              "#46039f"
             ],
             [
              0.2222222222222222,
              "#7201a8"
             ],
             [
              0.3333333333333333,
              "#9c179e"
             ],
             [
              0.4444444444444444,
              "#bd3786"
             ],
             [
              0.5555555555555556,
              "#d8576b"
             ],
             [
              0.6666666666666666,
              "#ed7953"
             ],
             [
              0.7777777777777778,
              "#fb9f3a"
             ],
             [
              0.8888888888888888,
              "#fdca26"
             ],
             [
              1,
              "#f0f921"
             ]
            ],
            "type": "heatmap"
           }
          ],
          "heatmapgl": [
           {
            "colorbar": {
             "outlinewidth": 0,
             "ticks": ""
            },
            "colorscale": [
             [
              0,
              "#0d0887"
             ],
             [
              0.1111111111111111,
              "#46039f"
             ],
             [
              0.2222222222222222,
              "#7201a8"
             ],
             [
              0.3333333333333333,
              "#9c179e"
             ],
             [
              0.4444444444444444,
              "#bd3786"
             ],
             [
              0.5555555555555556,
              "#d8576b"
             ],
             [
              0.6666666666666666,
              "#ed7953"
             ],
             [
              0.7777777777777778,
              "#fb9f3a"
             ],
             [
              0.8888888888888888,
              "#fdca26"
             ],
             [
              1,
              "#f0f921"
             ]
            ],
            "type": "heatmapgl"
           }
          ],
          "histogram": [
           {
            "marker": {
             "pattern": {
              "fillmode": "overlay",
              "size": 10,
              "solidity": 0.2
             }
            },
            "type": "histogram"
           }
          ],
          "histogram2d": [
           {
            "colorbar": {
             "outlinewidth": 0,
             "ticks": ""
            },
            "colorscale": [
             [
              0,
              "#0d0887"
             ],
             [
              0.1111111111111111,
              "#46039f"
             ],
             [
              0.2222222222222222,
              "#7201a8"
             ],
             [
              0.3333333333333333,
              "#9c179e"
             ],
             [
              0.4444444444444444,
              "#bd3786"
             ],
             [
              0.5555555555555556,
              "#d8576b"
             ],
             [
              0.6666666666666666,
              "#ed7953"
             ],
             [
              0.7777777777777778,
              "#fb9f3a"
             ],
             [
              0.8888888888888888,
              "#fdca26"
             ],
             [
              1,
              "#f0f921"
             ]
            ],
            "type": "histogram2d"
           }
          ],
          "histogram2dcontour": [
           {
            "colorbar": {
             "outlinewidth": 0,
             "ticks": ""
            },
            "colorscale": [
             [
              0,
              "#0d0887"
             ],
             [
              0.1111111111111111,
              "#46039f"
             ],
             [
              0.2222222222222222,
              "#7201a8"
             ],
             [
              0.3333333333333333,
              "#9c179e"
             ],
             [
              0.4444444444444444,
              "#bd3786"
             ],
             [
              0.5555555555555556,
              "#d8576b"
             ],
             [
              0.6666666666666666,
              "#ed7953"
             ],
             [
              0.7777777777777778,
              "#fb9f3a"
             ],
             [
              0.8888888888888888,
              "#fdca26"
             ],
             [
              1,
              "#f0f921"
             ]
            ],
            "type": "histogram2dcontour"
           }
          ],
          "mesh3d": [
           {
            "colorbar": {
             "outlinewidth": 0,
             "ticks": ""
            },
            "type": "mesh3d"
           }
          ],
          "parcoords": [
           {
            "line": {
             "colorbar": {
              "outlinewidth": 0,
              "ticks": ""
             }
            },
            "type": "parcoords"
           }
          ],
          "pie": [
           {
            "automargin": true,
            "type": "pie"
           }
          ],
          "scatter": [
           {
            "fillpattern": {
             "fillmode": "overlay",
             "size": 10,
             "solidity": 0.2
            },
            "type": "scatter"
           }
          ],
          "scatter3d": [
           {
            "line": {
             "colorbar": {
              "outlinewidth": 0,
              "ticks": ""
             }
            },
            "marker": {
             "colorbar": {
              "outlinewidth": 0,
              "ticks": ""
             }
            },
            "type": "scatter3d"
           }
          ],
          "scattercarpet": [
           {
            "marker": {
             "colorbar": {
              "outlinewidth": 0,
              "ticks": ""
             }
            },
            "type": "scattercarpet"
           }
          ],
          "scattergeo": [
           {
            "marker": {
             "colorbar": {
              "outlinewidth": 0,
              "ticks": ""
             }
            },
            "type": "scattergeo"
           }
          ],
          "scattergl": [
           {
            "marker": {
             "colorbar": {
              "outlinewidth": 0,
              "ticks": ""
             }
            },
            "type": "scattergl"
           }
          ],
          "scattermapbox": [
           {
            "marker": {
             "colorbar": {
              "outlinewidth": 0,
              "ticks": ""
             }
            },
            "type": "scattermapbox"
           }
          ],
          "scatterpolar": [
           {
            "marker": {
             "colorbar": {
              "outlinewidth": 0,
              "ticks": ""
             }
            },
            "type": "scatterpolar"
           }
          ],
          "scatterpolargl": [
           {
            "marker": {
             "colorbar": {
              "outlinewidth": 0,
              "ticks": ""
             }
            },
            "type": "scatterpolargl"
           }
          ],
          "scatterternary": [
           {
            "marker": {
             "colorbar": {
              "outlinewidth": 0,
              "ticks": ""
             }
            },
            "type": "scatterternary"
           }
          ],
          "surface": [
           {
            "colorbar": {
             "outlinewidth": 0,
             "ticks": ""
            },
            "colorscale": [
             [
              0,
              "#0d0887"
             ],
             [
              0.1111111111111111,
              "#46039f"
             ],
             [
              0.2222222222222222,
              "#7201a8"
             ],
             [
              0.3333333333333333,
              "#9c179e"
             ],
             [
              0.4444444444444444,
              "#bd3786"
             ],
             [
              0.5555555555555556,
              "#d8576b"
             ],
             [
              0.6666666666666666,
              "#ed7953"
             ],
             [
              0.7777777777777778,
              "#fb9f3a"
             ],
             [
              0.8888888888888888,
              "#fdca26"
             ],
             [
              1,
              "#f0f921"
             ]
            ],
            "type": "surface"
           }
          ],
          "table": [
           {
            "cells": {
             "fill": {
              "color": "#EBF0F8"
             },
             "line": {
              "color": "white"
             }
            },
            "header": {
             "fill": {
              "color": "#C8D4E3"
             },
             "line": {
              "color": "white"
             }
            },
            "type": "table"
           }
          ]
         },
         "layout": {
          "annotationdefaults": {
           "arrowcolor": "#2a3f5f",
           "arrowhead": 0,
           "arrowwidth": 1
          },
          "autotypenumbers": "strict",
          "coloraxis": {
           "colorbar": {
            "outlinewidth": 0,
            "ticks": ""
           }
          },
          "colorscale": {
           "diverging": [
            [
             0,
             "#8e0152"
            ],
            [
             0.1,
             "#c51b7d"
            ],
            [
             0.2,
             "#de77ae"
            ],
            [
             0.3,
             "#f1b6da"
            ],
            [
             0.4,
             "#fde0ef"
            ],
            [
             0.5,
             "#f7f7f7"
            ],
            [
             0.6,
             "#e6f5d0"
            ],
            [
             0.7,
             "#b8e186"
            ],
            [
             0.8,
             "#7fbc41"
            ],
            [
             0.9,
             "#4d9221"
            ],
            [
             1,
             "#276419"
            ]
           ],
           "sequential": [
            [
             0,
             "#0d0887"
            ],
            [
             0.1111111111111111,
             "#46039f"
            ],
            [
             0.2222222222222222,
             "#7201a8"
            ],
            [
             0.3333333333333333,
             "#9c179e"
            ],
            [
             0.4444444444444444,
             "#bd3786"
            ],
            [
             0.5555555555555556,
             "#d8576b"
            ],
            [
             0.6666666666666666,
             "#ed7953"
            ],
            [
             0.7777777777777778,
             "#fb9f3a"
            ],
            [
             0.8888888888888888,
             "#fdca26"
            ],
            [
             1,
             "#f0f921"
            ]
           ],
           "sequentialminus": [
            [
             0,
             "#0d0887"
            ],
            [
             0.1111111111111111,
             "#46039f"
            ],
            [
             0.2222222222222222,
             "#7201a8"
            ],
            [
             0.3333333333333333,
             "#9c179e"
            ],
            [
             0.4444444444444444,
             "#bd3786"
            ],
            [
             0.5555555555555556,
             "#d8576b"
            ],
            [
             0.6666666666666666,
             "#ed7953"
            ],
            [
             0.7777777777777778,
             "#fb9f3a"
            ],
            [
             0.8888888888888888,
             "#fdca26"
            ],
            [
             1,
             "#f0f921"
            ]
           ]
          },
          "colorway": [
           "#636efa",
           "#EF553B",
           "#00cc96",
           "#ab63fa",
           "#FFA15A",
           "#19d3f3",
           "#FF6692",
           "#B6E880",
           "#FF97FF",
           "#FECB52"
          ],
          "font": {
           "color": "#2a3f5f"
          },
          "geo": {
           "bgcolor": "white",
           "lakecolor": "white",
           "landcolor": "#E5ECF6",
           "showlakes": true,
           "showland": true,
           "subunitcolor": "white"
          },
          "hoverlabel": {
           "align": "left"
          },
          "hovermode": "closest",
          "mapbox": {
           "style": "light"
          },
          "paper_bgcolor": "white",
          "plot_bgcolor": "#E5ECF6",
          "polar": {
           "angularaxis": {
            "gridcolor": "white",
            "linecolor": "white",
            "ticks": ""
           },
           "bgcolor": "#E5ECF6",
           "radialaxis": {
            "gridcolor": "white",
            "linecolor": "white",
            "ticks": ""
           }
          },
          "scene": {
           "xaxis": {
            "backgroundcolor": "#E5ECF6",
            "gridcolor": "white",
            "gridwidth": 2,
            "linecolor": "white",
            "showbackground": true,
            "ticks": "",
            "zerolinecolor": "white"
           },
           "yaxis": {
            "backgroundcolor": "#E5ECF6",
            "gridcolor": "white",
            "gridwidth": 2,
            "linecolor": "white",
            "showbackground": true,
            "ticks": "",
            "zerolinecolor": "white"
           },
           "zaxis": {
            "backgroundcolor": "#E5ECF6",
            "gridcolor": "white",
            "gridwidth": 2,
            "linecolor": "white",
            "showbackground": true,
            "ticks": "",
            "zerolinecolor": "white"
           }
          },
          "shapedefaults": {
           "line": {
            "color": "#2a3f5f"
           }
          },
          "ternary": {
           "aaxis": {
            "gridcolor": "white",
            "linecolor": "white",
            "ticks": ""
           },
           "baxis": {
            "gridcolor": "white",
            "linecolor": "white",
            "ticks": ""
           },
           "bgcolor": "#E5ECF6",
           "caxis": {
            "gridcolor": "white",
            "linecolor": "white",
            "ticks": ""
           }
          },
          "title": {
           "x": 0.05
          },
          "xaxis": {
           "automargin": true,
           "gridcolor": "white",
           "linecolor": "white",
           "ticks": "",
           "title": {
            "standoff": 15
           },
           "zerolinecolor": "white",
           "zerolinewidth": 2
          },
          "yaxis": {
           "automargin": true,
           "gridcolor": "white",
           "linecolor": "white",
           "ticks": "",
           "title": {
            "standoff": 15
           },
           "zerolinecolor": "white",
           "zerolinewidth": 2
          }
         }
        },
        "title": {
         "text": "Cumulative Proportion of Notable Models by Open Closed Status",
         "x": 0.2
        },
        "width": 800,
        "xaxis": {
         "anchor": "y",
         "domain": [
          0,
          1
         ],
         "range": [
          2018,
          2024
         ],
         "title": {
          "text": "Year"
         }
        },
        "yaxis": {
         "anchor": "x",
         "domain": [
          0,
          1
         ],
         "range": [
          0,
          1
         ],
         "title": {
          "text": "Proportion"
         }
        }
       }
      }
     },
     "metadata": {},
     "output_type": "display_data"
    }
   ],
   "source": [
    "# repeat the above code but with notable models only\n",
    "open_counts = notable_code_df.loc[code_df['Year'] >= 2015].groupby(['Year', 'Model open/closed', 'Code open/closed']).size().reset_index(name='Count')\n",
    "\n",
    "open_counts['Cumulative'] = open_counts.groupby(['Model open/closed', 'Code open/closed'])['Count'].cumsum()\n",
    "\n",
    "total_counts = open_counts.groupby('Year')['Count'].sum().reset_index(name='Yearly Total')\n",
    "total_counts['Cumulative Total'] = total_counts['Yearly Total'].cumsum()\n",
    "\n",
    "open_counts_wide = open_counts.pivot(index='Year', columns=['Model open/closed', 'Code open/closed'], values='Count')\n",
    "open_counts_wide = open_counts_wide.fillna(0).reset_index()\n",
    "\n",
    "# Convert pivoted multi-columns to single columns with clear names\n",
    "new_columns = ['Year'] + [f'Model {outer} Code {inner}' for outer, inner in open_counts_wide.columns[1:]]\n",
    "open_counts_wide.columns = new_columns\n",
    "\n",
    "# unpivot table to get the count of each 2x2 value for each year\n",
    "open_counts_filled = (open_counts_wide.melt(id_vars=['Year'], \n",
    "                                            var_name='Category',\n",
    "                                            value_name='Count')\n",
    "                                      .reset_index(drop=True))\n",
    "\n",
    "open_counts_filled['Cumulative for Category'] = open_counts_filled.groupby('Category')['Count'].cumsum()\n",
    "\n",
    "with_totals = pd.merge(open_counts_filled, total_counts, on=\"Year\")\n",
    "with_totals['proportion'] = with_totals['Cumulative for Category'] / with_totals['Cumulative Total']\n",
    "\n",
    "# sort using custom order\n",
    "sort_order = ['Model Closed Code Closed', 'Model Closed Code Open', 'Model Open Code Closed', 'Model Open Code Open']\n",
    "\n",
    "with_totals['Category_sorted'] = pd.Categorical(with_totals['Category'], categories=sort_order, ordered=True)\n",
    "with_totals = with_totals.sort_values('Category_sorted')\n",
    "\n",
    "\n",
    "colors = ['crimson', 'tomato', 'blue', 'dodgerblue']\n",
    "fig = px.area(with_totals, x='Year', y='proportion', color='Category', line_group='Category',\n",
    "              labels={'proportion': 'Proportion', 'Year': 'Year'},\n",
    "              title='Cumulative Proportion of Notable Models by Open Closed Status', color_discrete_sequence=colors)\n",
    "\n",
    "fig.update_yaxes(range=[0, 1])\n",
    "fig.update_xaxes(range=[2018, 2024])\n",
    "fig.update_layout(\n",
    "    autosize=False,\n",
    "    width=800,\n",
    "    height=600,\n",
    "    title_x=0.2,\n",
    ")\n",
    "fig"
   ]
  },
  {
   "cell_type": "code",
   "execution_count": null,
   "metadata": {},
   "outputs": [],
   "source": []
  }
 ],
 "metadata": {
  "kernelspec": {
   "display_name": "Python 3 (ipykernel)",
   "language": "python",
   "name": "python3"
  },
  "language_info": {
   "codemirror_mode": {
    "name": "ipython",
    "version": 3
   },
   "file_extension": ".py",
   "mimetype": "text/x-python",
   "name": "python",
   "nbconvert_exporter": "python",
   "pygments_lexer": "ipython3",
   "version": "3.12.7"
  }
 },
 "nbformat": 4,
 "nbformat_minor": 4
}
