{
 "cells": [
  {
   "cell_type": "code",
   "execution_count": 1,
   "metadata": {},
   "outputs": [],
   "source": [
    "%load_ext autoreload\n",
    "%autoreload 2"
   ]
  },
  {
   "cell_type": "code",
   "execution_count": 2,
   "metadata": {},
   "outputs": [],
   "source": [
    "import numpy as np\n",
    "import os\n",
    "import pandas as pd\n",
    "import plotly.express as px\n",
    "import plotly.graph_objects as go\n",
    "from plotly.subplots import make_subplots\n",
    "import matplotlib.pyplot as plt\n",
    "\n",
    "from data import *\n",
    "from plotting import *\n",
    "from regression import *\n",
    "from utils import *"
   ]
  },
  {
   "cell_type": "code",
   "execution_count": 3,
   "metadata": {},
   "outputs": [],
   "source": [
    "results_dir = 'results/accessibility/'\n",
    "os.makedirs(results_dir, exist_ok=True)"
   ]
  },
  {
   "cell_type": "code",
   "execution_count": 4,
   "metadata": {},
   "outputs": [
    {
     "data": {
      "text/plain": [
       "993"
      ]
     },
     "execution_count": 4,
     "metadata": {},
     "output_type": "execute_result"
    }
   ],
   "source": [
    "# Load data\n",
    "pcd_df = load_pcd_df()\n",
    "\n",
    "access_df = pcd_df.dropna(subset=['Model accessibility'])\n",
    "len(access_df)"
   ]
  },
  {
   "cell_type": "code",
   "execution_count": 5,
   "metadata": {
    "tags": []
   },
   "outputs": [
    {
     "name": "stderr",
     "output_type": "stream",
     "text": [
      "/var/folders/s2/stl5t_bn7xg9vdfxxr71rzrc0000gn/T/ipykernel_10339/803333015.py:6: SettingWithCopyWarning: \n",
      "A value is trying to be set on a copy of a slice from a DataFrame.\n",
      "Try using .loc[row_indexer,col_indexer] = value instead\n",
      "\n",
      "See the caveats in the documentation: https://pandas.pydata.org/pandas-docs/stable/user_guide/indexing.html#returning-a-view-versus-a-copy\n",
      "  access_df['Model open/closed'] = access_df['Model accessibility'].apply(\n",
      "/var/folders/s2/stl5t_bn7xg9vdfxxr71rzrc0000gn/T/ipykernel_10339/803333015.py:10: SettingWithCopyWarning: \n",
      "A value is trying to be set on a copy of a slice from a DataFrame.\n",
      "Try using .loc[row_indexer,col_indexer] = value instead\n",
      "\n",
      "See the caveats in the documentation: https://pandas.pydata.org/pandas-docs/stable/user_guide/indexing.html#returning-a-view-versus-a-copy\n",
      "  access_df['Code open/closed'] = access_df['Code accessibility'].apply(\n"
     ]
    }
   ],
   "source": [
    "model_open_categories = ['Open source', 'Open access (restricted use)', 'Open access (non-commercial)']\n",
    "code_open_categories = ['Open source', 'Open access (non-commercial)', 'Open access (restricted use)']\n",
    "\n",
    "\n",
    "# Add open/closed binary columns\n",
    "access_df['Model open/closed'] = access_df['Model accessibility'].apply(\n",
    "    lambda x: 'Open' if x in model_open_categories else 'Closed'\n",
    ")\n",
    "\n",
    "access_df['Code open/closed'] = access_df['Code accessibility'].apply(\n",
    "    lambda x: 'Open' if x in code_open_categories else 'Closed'\n",
    ")"
   ]
  },
  {
   "cell_type": "code",
   "execution_count": 6,
   "metadata": {
    "tags": []
   },
   "outputs": [],
   "source": [
    "open_df = access_df.loc[access_df['Model open/closed'] == 'Open']"
   ]
  },
  {
   "cell_type": "code",
   "execution_count": 7,
   "metadata": {
    "tags": []
   },
   "outputs": [
    {
     "name": "stdout",
     "output_type": "stream",
     "text": [
      "218\n"
     ]
    },
    {
     "data": {
      "text/html": [
       "<div>\n",
       "<style scoped>\n",
       "    .dataframe tbody tr th:only-of-type {\n",
       "        vertical-align: middle;\n",
       "    }\n",
       "\n",
       "    .dataframe tbody tr th {\n",
       "        vertical-align: top;\n",
       "    }\n",
       "\n",
       "    .dataframe thead th {\n",
       "        text-align: right;\n",
       "    }\n",
       "</style>\n",
       "<table border=\"1\" class=\"dataframe\">\n",
       "  <thead>\n",
       "    <tr style=\"text-align: right;\">\n",
       "      <th></th>\n",
       "      <th>System</th>\n",
       "      <th>Domain</th>\n",
       "      <th>Task</th>\n",
       "      <th>Authors</th>\n",
       "      <th>Notability criteria</th>\n",
       "      <th>Notability criteria notes</th>\n",
       "      <th>Model accessibility</th>\n",
       "      <th>Link</th>\n",
       "      <th>Citations</th>\n",
       "      <th>Reference</th>\n",
       "      <th>...</th>\n",
       "      <th>Sparsity</th>\n",
       "      <th>Utilization notes</th>\n",
       "      <th>Estimated over 1e25 FLOP</th>\n",
       "      <th>Power per GPU</th>\n",
       "      <th>Cluster total TDP</th>\n",
       "      <th>Base model compute</th>\n",
       "      <th>Difference</th>\n",
       "      <th>Difference (share)</th>\n",
       "      <th>Model open/closed</th>\n",
       "      <th>Code open/closed</th>\n",
       "    </tr>\n",
       "  </thead>\n",
       "  <tbody>\n",
       "    <tr>\n",
       "      <th>1</th>\n",
       "      <td>Llama 3.1-405B</td>\n",
       "      <td>Language</td>\n",
       "      <td>Language modelling/generation</td>\n",
       "      <td>Abhimanyu Dubey, Abhinav Jauhri, Abhinav Pande...</td>\n",
       "      <td>SOTA improvement,Training cost</td>\n",
       "      <td>High training compute, exceeds 4o and Claude 3...</td>\n",
       "      <td>Open access (restricted use)</td>\n",
       "      <td>https://ai.meta.com/research/publications/the-...</td>\n",
       "      <td>NaN</td>\n",
       "      <td>The Llama 3 Herd of Models</td>\n",
       "      <td>...</td>\n",
       "      <td>NaN</td>\n",
       "      <td>NaN</td>\n",
       "      <td>NaN</td>\n",
       "      <td>700.0</td>\n",
       "      <td>0</td>\n",
       "      <td>NaN</td>\n",
       "      <td>3.800000e+25</td>\n",
       "      <td>100%</td>\n",
       "      <td>Open</td>\n",
       "      <td>Open</td>\n",
       "    </tr>\n",
       "    <tr>\n",
       "      <th>4</th>\n",
       "      <td>Nemotron-4 340B</td>\n",
       "      <td>Language</td>\n",
       "      <td>Language modelling/generation,Chat</td>\n",
       "      <td>Bo Adler, Niket Agarwal, Ashwath Aithal, Dong ...</td>\n",
       "      <td>Training cost</td>\n",
       "      <td>~2e25 FLOP, so high training cost, likely &gt;5M</td>\n",
       "      <td>Open source</td>\n",
       "      <td>https://blogs.nvidia.com/blog/nemotron-4-synth...</td>\n",
       "      <td>NaN</td>\n",
       "      <td>NVIDIA Releases Open Synthetic Data Generation...</td>\n",
       "      <td>...</td>\n",
       "      <td>NaN</td>\n",
       "      <td>NaN</td>\n",
       "      <td>NaN</td>\n",
       "      <td>700.0</td>\n",
       "      <td>0</td>\n",
       "      <td>NaN</td>\n",
       "      <td>1.800000e+25</td>\n",
       "      <td>100%</td>\n",
       "      <td>Open</td>\n",
       "      <td>Closed</td>\n",
       "    </tr>\n",
       "    <tr>\n",
       "      <th>9</th>\n",
       "      <td>Llama 3-70B</td>\n",
       "      <td>Language</td>\n",
       "      <td>Chat,Language modelling/generation,Code genera...</td>\n",
       "      <td>Aaditya Singh; Aaron Grattafiori; Abhimanyu Du...</td>\n",
       "      <td>Significant use</td>\n",
       "      <td>Will almost certainly be very influential and ...</td>\n",
       "      <td>Open access (restricted use)</td>\n",
       "      <td>https://ai.meta.com/blog/meta-llama-3/</td>\n",
       "      <td>NaN</td>\n",
       "      <td>Introducing Meta Llama 3: The most capable ope...</td>\n",
       "      <td>...</td>\n",
       "      <td>NaN</td>\n",
       "      <td>\"Our most efficient implementation achieves a ...</td>\n",
       "      <td>NaN</td>\n",
       "      <td>700.0</td>\n",
       "      <td>11200000</td>\n",
       "      <td>NaN</td>\n",
       "      <td>6.300000e+24</td>\n",
       "      <td>100%</td>\n",
       "      <td>Open</td>\n",
       "      <td>Open</td>\n",
       "    </tr>\n",
       "    <tr>\n",
       "      <th>12</th>\n",
       "      <td>Falcon-180B</td>\n",
       "      <td>Language</td>\n",
       "      <td>Language modelling</td>\n",
       "      <td>Ebtesam Almazrouei, Hamza Alobeidli, Abdulaziz...</td>\n",
       "      <td>Training cost</td>\n",
       "      <td>\"It's currently at the top of the Hugging Face...</td>\n",
       "      <td>Open access (restricted use)</td>\n",
       "      <td>https://falconllm.tii.ae/falcon-180b.html; htt...</td>\n",
       "      <td>148.0</td>\n",
       "      <td>The Falcon Series of Open Language Models</td>\n",
       "      <td>...</td>\n",
       "      <td>NaN</td>\n",
       "      <td>Estimated training compute: 3.76e24\\nFLOPs at ...</td>\n",
       "      <td>NaN</td>\n",
       "      <td>400.0</td>\n",
       "      <td>1638400</td>\n",
       "      <td>NaN</td>\n",
       "      <td>3.760000e+24</td>\n",
       "      <td>100%</td>\n",
       "      <td>Open</td>\n",
       "      <td>Closed</td>\n",
       "    </tr>\n",
       "    <tr>\n",
       "      <th>14</th>\n",
       "      <td>Grok-1</td>\n",
       "      <td>Language</td>\n",
       "      <td>Language modelling,Chat</td>\n",
       "      <td>NaN</td>\n",
       "      <td>SOTA improvement</td>\n",
       "      <td>\"On these benchmarks, Grok-1 displayed strong ...</td>\n",
       "      <td>Open source</td>\n",
       "      <td>https://x.ai/model-card/, https://x.ai/blog/gr...</td>\n",
       "      <td>NaN</td>\n",
       "      <td>Announcing Grok</td>\n",
       "      <td>...</td>\n",
       "      <td>NaN</td>\n",
       "      <td>NaN</td>\n",
       "      <td>NaN</td>\n",
       "      <td>NaN</td>\n",
       "      <td>0</td>\n",
       "      <td>NaN</td>\n",
       "      <td>2.900000e+24</td>\n",
       "      <td>100%</td>\n",
       "      <td>Open</td>\n",
       "      <td>Closed</td>\n",
       "    </tr>\n",
       "    <tr>\n",
       "      <th>25</th>\n",
       "      <td>Qwen-72B</td>\n",
       "      <td>Language</td>\n",
       "      <td>Chat,Code generation</td>\n",
       "      <td>Jinze Bai, Shuai Bai, Yunfei Chu, Zeyu Cui, Ka...</td>\n",
       "      <td>SOTA improvement</td>\n",
       "      <td>SOTA on several Chinese benchmarks, with highe...</td>\n",
       "      <td>Open access (restricted use)</td>\n",
       "      <td>https://huggingface.co/Qwen/Qwen-72B</td>\n",
       "      <td>NaN</td>\n",
       "      <td>NaN</td>\n",
       "      <td>...</td>\n",
       "      <td>NaN</td>\n",
       "      <td>NaN</td>\n",
       "      <td>NaN</td>\n",
       "      <td>NaN</td>\n",
       "      <td>0</td>\n",
       "      <td>NaN</td>\n",
       "      <td>1.300000e+24</td>\n",
       "      <td>100%</td>\n",
       "      <td>Open</td>\n",
       "      <td>Closed</td>\n",
       "    </tr>\n",
       "    <tr>\n",
       "      <th>26</th>\n",
       "      <td>DeepSeek-Coder-V2-236B</td>\n",
       "      <td>Language</td>\n",
       "      <td>Code generation,Code autocompletion</td>\n",
       "      <td>Qihao Zhu, Daya Guo, Zhihong Shao, Dejian Yang...</td>\n",
       "      <td>SOTA improvement</td>\n",
       "      <td>New SOTA on Aider, AIME 2024, and Math Odyssey...</td>\n",
       "      <td>Open access (restricted use)</td>\n",
       "      <td>https://github.com/deepseek-ai/DeepSeek-Coder-V2</td>\n",
       "      <td>NaN</td>\n",
       "      <td>DeepSeek-Coder-V2: Breaking the Barrier of Clo...</td>\n",
       "      <td>...</td>\n",
       "      <td>DeepSeek-Coder-V2-236B</td>\n",
       "      <td>NaN</td>\n",
       "      <td>NaN</td>\n",
       "      <td>NaN</td>\n",
       "      <td>0</td>\n",
       "      <td>NaN</td>\n",
       "      <td>1.285200e+24</td>\n",
       "      <td>100%</td>\n",
       "      <td>Open</td>\n",
       "      <td>Closed</td>\n",
       "    </tr>\n",
       "    <tr>\n",
       "      <th>38</th>\n",
       "      <td>Llama 2-70B</td>\n",
       "      <td>Language</td>\n",
       "      <td>Language modelling</td>\n",
       "      <td>Hugo Touvron, Louis Martin, Kevin Stone, Peter...</td>\n",
       "      <td>Historical significance,Significant use,Highly...</td>\n",
       "      <td>Model has been open-sourced and frequently dow...</td>\n",
       "      <td>Open access (restricted use)</td>\n",
       "      <td>https://ai.meta.com/research/publications/llam...</td>\n",
       "      <td>5474.0</td>\n",
       "      <td>Llama 2: Open Foundation and Fine-Tuned Chat M...</td>\n",
       "      <td>...</td>\n",
       "      <td>NaN</td>\n",
       "      <td>8.1e23 FLOPs based on 6NC method.\\nTable 2 rep...</td>\n",
       "      <td>NaN</td>\n",
       "      <td>400.0</td>\n",
       "      <td>400000</td>\n",
       "      <td>NaN</td>\n",
       "      <td>8.100000e+23</td>\n",
       "      <td>100%</td>\n",
       "      <td>Open</td>\n",
       "      <td>Closed</td>\n",
       "    </tr>\n",
       "    <tr>\n",
       "      <th>40</th>\n",
       "      <td>Llama 3-8B</td>\n",
       "      <td>Language</td>\n",
       "      <td>Chat,Language modelling/generation,Code genera...</td>\n",
       "      <td>Aaditya Singh; Aaron Grattafiori; Abhimanyu Du...</td>\n",
       "      <td>Significant use</td>\n",
       "      <td>Will almost certainly be very influential and ...</td>\n",
       "      <td>Open access (restricted use)</td>\n",
       "      <td>https://ai.meta.com/blog/meta-llama-3/</td>\n",
       "      <td>NaN</td>\n",
       "      <td>Introducing Meta Llama 3: The most capable ope...</td>\n",
       "      <td>...</td>\n",
       "      <td>NaN</td>\n",
       "      <td>\"Our most efficient implementation achieves a ...</td>\n",
       "      <td>NaN</td>\n",
       "      <td>700.0</td>\n",
       "      <td>11200000</td>\n",
       "      <td>NaN</td>\n",
       "      <td>7.200000e+23</td>\n",
       "      <td>100%</td>\n",
       "      <td>Open</td>\n",
       "      <td>Open</td>\n",
       "    </tr>\n",
       "    <tr>\n",
       "      <th>44</th>\n",
       "      <td>Yi-34B</td>\n",
       "      <td>Language</td>\n",
       "      <td>Chat,Language modelling/generation,Translation...</td>\n",
       "      <td>Alex Young, Bei Chen, Chao Li, Chengen Huang, ...</td>\n",
       "      <td>Significant use</td>\n",
       "      <td>2nd most popular model on HuggingFace: https:/...</td>\n",
       "      <td>Open access (restricted use)</td>\n",
       "      <td>https://arxiv.org/abs/2403.04652</td>\n",
       "      <td>NaN</td>\n",
       "      <td>Yi: Open Foundation Models by 01.AI</td>\n",
       "      <td>...</td>\n",
       "      <td>NaN</td>\n",
       "      <td>NaN</td>\n",
       "      <td>NaN</td>\n",
       "      <td>NaN</td>\n",
       "      <td>0</td>\n",
       "      <td>NaN</td>\n",
       "      <td>6.100000e+23</td>\n",
       "      <td>100%</td>\n",
       "      <td>Open</td>\n",
       "      <td>Closed</td>\n",
       "    </tr>\n",
       "  </tbody>\n",
       "</table>\n",
       "<p>10 rows × 70 columns</p>\n",
       "</div>"
      ],
      "text/plain": [
       "                    System    Domain  \\\n",
       "1           Llama 3.1-405B  Language   \n",
       "4          Nemotron-4 340B  Language   \n",
       "9              Llama 3-70B  Language   \n",
       "12             Falcon-180B  Language   \n",
       "14                  Grok-1  Language   \n",
       "25                Qwen-72B  Language   \n",
       "26  DeepSeek-Coder-V2-236B  Language   \n",
       "38             Llama 2-70B  Language   \n",
       "40              Llama 3-8B  Language   \n",
       "44                  Yi-34B  Language   \n",
       "\n",
       "                                                 Task  \\\n",
       "1                       Language modelling/generation   \n",
       "4                  Language modelling/generation,Chat   \n",
       "9   Chat,Language modelling/generation,Code genera...   \n",
       "12                                 Language modelling   \n",
       "14                            Language modelling,Chat   \n",
       "25                               Chat,Code generation   \n",
       "26                Code generation,Code autocompletion   \n",
       "38                                 Language modelling   \n",
       "40  Chat,Language modelling/generation,Code genera...   \n",
       "44  Chat,Language modelling/generation,Translation...   \n",
       "\n",
       "                                              Authors  \\\n",
       "1   Abhimanyu Dubey, Abhinav Jauhri, Abhinav Pande...   \n",
       "4   Bo Adler, Niket Agarwal, Ashwath Aithal, Dong ...   \n",
       "9   Aaditya Singh; Aaron Grattafiori; Abhimanyu Du...   \n",
       "12  Ebtesam Almazrouei, Hamza Alobeidli, Abdulaziz...   \n",
       "14                                                NaN   \n",
       "25  Jinze Bai, Shuai Bai, Yunfei Chu, Zeyu Cui, Ka...   \n",
       "26  Qihao Zhu, Daya Guo, Zhihong Shao, Dejian Yang...   \n",
       "38  Hugo Touvron, Louis Martin, Kevin Stone, Peter...   \n",
       "40  Aaditya Singh; Aaron Grattafiori; Abhimanyu Du...   \n",
       "44  Alex Young, Bei Chen, Chao Li, Chengen Huang, ...   \n",
       "\n",
       "                                  Notability criteria  \\\n",
       "1                      SOTA improvement,Training cost   \n",
       "4                                       Training cost   \n",
       "9                                     Significant use   \n",
       "12                                      Training cost   \n",
       "14                                   SOTA improvement   \n",
       "25                                   SOTA improvement   \n",
       "26                                   SOTA improvement   \n",
       "38  Historical significance,Significant use,Highly...   \n",
       "40                                    Significant use   \n",
       "44                                    Significant use   \n",
       "\n",
       "                            Notability criteria notes  \\\n",
       "1   High training compute, exceeds 4o and Claude 3...   \n",
       "4       ~2e25 FLOP, so high training cost, likely >5M   \n",
       "9   Will almost certainly be very influential and ...   \n",
       "12  \"It's currently at the top of the Hugging Face...   \n",
       "14  \"On these benchmarks, Grok-1 displayed strong ...   \n",
       "25  SOTA on several Chinese benchmarks, with highe...   \n",
       "26  New SOTA on Aider, AIME 2024, and Math Odyssey...   \n",
       "38  Model has been open-sourced and frequently dow...   \n",
       "40  Will almost certainly be very influential and ...   \n",
       "44  2nd most popular model on HuggingFace: https:/...   \n",
       "\n",
       "             Model accessibility  \\\n",
       "1   Open access (restricted use)   \n",
       "4                    Open source   \n",
       "9   Open access (restricted use)   \n",
       "12  Open access (restricted use)   \n",
       "14                   Open source   \n",
       "25  Open access (restricted use)   \n",
       "26  Open access (restricted use)   \n",
       "38  Open access (restricted use)   \n",
       "40  Open access (restricted use)   \n",
       "44  Open access (restricted use)   \n",
       "\n",
       "                                                 Link  Citations  \\\n",
       "1   https://ai.meta.com/research/publications/the-...        NaN   \n",
       "4   https://blogs.nvidia.com/blog/nemotron-4-synth...        NaN   \n",
       "9              https://ai.meta.com/blog/meta-llama-3/        NaN   \n",
       "12  https://falconllm.tii.ae/falcon-180b.html; htt...      148.0   \n",
       "14  https://x.ai/model-card/, https://x.ai/blog/gr...        NaN   \n",
       "25               https://huggingface.co/Qwen/Qwen-72B        NaN   \n",
       "26   https://github.com/deepseek-ai/DeepSeek-Coder-V2        NaN   \n",
       "38  https://ai.meta.com/research/publications/llam...     5474.0   \n",
       "40             https://ai.meta.com/blog/meta-llama-3/        NaN   \n",
       "44                   https://arxiv.org/abs/2403.04652        NaN   \n",
       "\n",
       "                                            Reference  ...  \\\n",
       "1                          The Llama 3 Herd of Models  ...   \n",
       "4   NVIDIA Releases Open Synthetic Data Generation...  ...   \n",
       "9   Introducing Meta Llama 3: The most capable ope...  ...   \n",
       "12          The Falcon Series of Open Language Models  ...   \n",
       "14                                    Announcing Grok  ...   \n",
       "25                                                NaN  ...   \n",
       "26  DeepSeek-Coder-V2: Breaking the Barrier of Clo...  ...   \n",
       "38  Llama 2: Open Foundation and Fine-Tuned Chat M...  ...   \n",
       "40  Introducing Meta Llama 3: The most capable ope...  ...   \n",
       "44                Yi: Open Foundation Models by 01.AI  ...   \n",
       "\n",
       "                  Sparsity                                  Utilization notes  \\\n",
       "1                      NaN                                                NaN   \n",
       "4                      NaN                                                NaN   \n",
       "9                      NaN  \"Our most efficient implementation achieves a ...   \n",
       "12                     NaN  Estimated training compute: 3.76e24\\nFLOPs at ...   \n",
       "14                     NaN                                                NaN   \n",
       "25                     NaN                                                NaN   \n",
       "26  DeepSeek-Coder-V2-236B                                                NaN   \n",
       "38                     NaN  8.1e23 FLOPs based on 6NC method.\\nTable 2 rep...   \n",
       "40                     NaN  \"Our most efficient implementation achieves a ...   \n",
       "44                     NaN                                                NaN   \n",
       "\n",
       "    Estimated over 1e25 FLOP Power per GPU  Cluster total TDP  \\\n",
       "1                        NaN         700.0                  0   \n",
       "4                        NaN         700.0                  0   \n",
       "9                        NaN         700.0           11200000   \n",
       "12                       NaN         400.0            1638400   \n",
       "14                       NaN           NaN                  0   \n",
       "25                       NaN           NaN                  0   \n",
       "26                       NaN           NaN                  0   \n",
       "38                       NaN         400.0             400000   \n",
       "40                       NaN         700.0           11200000   \n",
       "44                       NaN           NaN                  0   \n",
       "\n",
       "   Base model compute    Difference Difference (share)  Model open/closed  \\\n",
       "1                 NaN  3.800000e+25               100%               Open   \n",
       "4                 NaN  1.800000e+25               100%               Open   \n",
       "9                 NaN  6.300000e+24               100%               Open   \n",
       "12                NaN  3.760000e+24               100%               Open   \n",
       "14                NaN  2.900000e+24               100%               Open   \n",
       "25                NaN  1.300000e+24               100%               Open   \n",
       "26                NaN  1.285200e+24               100%               Open   \n",
       "38                NaN  8.100000e+23               100%               Open   \n",
       "40                NaN  7.200000e+23               100%               Open   \n",
       "44                NaN  6.100000e+23               100%               Open   \n",
       "\n",
       "   Code open/closed  \n",
       "1              Open  \n",
       "4            Closed  \n",
       "9              Open  \n",
       "12           Closed  \n",
       "14           Closed  \n",
       "25           Closed  \n",
       "26           Closed  \n",
       "38           Closed  \n",
       "40             Open  \n",
       "44           Closed  \n",
       "\n",
       "[10 rows x 70 columns]"
      ]
     },
     "execution_count": 7,
     "metadata": {},
     "output_type": "execute_result"
    }
   ],
   "source": [
    "notable = open_df.loc[(open_df['Notability criteria'].notna())]\n",
    "print(len(notable))\n",
    "notable.head(10)"
   ]
  },
  {
   "cell_type": "code",
   "execution_count": 8,
   "metadata": {
    "tags": []
   },
   "outputs": [
    {
     "name": "stdout",
     "output_type": "stream",
     "text": [
      "252\n"
     ]
    },
    {
     "data": {
      "text/html": [
       "<div>\n",
       "<style scoped>\n",
       "    .dataframe tbody tr th:only-of-type {\n",
       "        vertical-align: middle;\n",
       "    }\n",
       "\n",
       "    .dataframe tbody tr th {\n",
       "        vertical-align: top;\n",
       "    }\n",
       "\n",
       "    .dataframe thead th {\n",
       "        text-align: right;\n",
       "    }\n",
       "</style>\n",
       "<table border=\"1\" class=\"dataframe\">\n",
       "  <thead>\n",
       "    <tr style=\"text-align: right;\">\n",
       "      <th></th>\n",
       "      <th>System</th>\n",
       "      <th>Domain</th>\n",
       "      <th>Task</th>\n",
       "      <th>Authors</th>\n",
       "      <th>Notability criteria</th>\n",
       "      <th>Notability criteria notes</th>\n",
       "      <th>Model accessibility</th>\n",
       "      <th>Link</th>\n",
       "      <th>Citations</th>\n",
       "      <th>Reference</th>\n",
       "      <th>...</th>\n",
       "      <th>Sparsity</th>\n",
       "      <th>Utilization notes</th>\n",
       "      <th>Estimated over 1e25 FLOP</th>\n",
       "      <th>Power per GPU</th>\n",
       "      <th>Cluster total TDP</th>\n",
       "      <th>Base model compute</th>\n",
       "      <th>Difference</th>\n",
       "      <th>Difference (share)</th>\n",
       "      <th>Model open/closed</th>\n",
       "      <th>Code open/closed</th>\n",
       "    </tr>\n",
       "  </thead>\n",
       "  <tbody>\n",
       "    <tr>\n",
       "      <th>13</th>\n",
       "      <td>Qwen2-72B</td>\n",
       "      <td>Language</td>\n",
       "      <td>Chat,Language modelling/generation</td>\n",
       "      <td>Qwen Team</td>\n",
       "      <td>NaN</td>\n",
       "      <td>SOTA claims are against open source models wit...</td>\n",
       "      <td>Open source</td>\n",
       "      <td>https://qwenlm.github.io/blog/qwen2/ \\nhttps:/...</td>\n",
       "      <td>NaN</td>\n",
       "      <td>Hello Qwen2</td>\n",
       "      <td>...</td>\n",
       "      <td>NaN</td>\n",
       "      <td>NaN</td>\n",
       "      <td>NaN</td>\n",
       "      <td>NaN</td>\n",
       "      <td>0</td>\n",
       "      <td>NaN</td>\n",
       "      <td>3.020000e+24</td>\n",
       "      <td>100%</td>\n",
       "      <td>Open</td>\n",
       "      <td>Closed</td>\n",
       "    </tr>\n",
       "    <tr>\n",
       "      <th>16</th>\n",
       "      <td>DBRX</td>\n",
       "      <td>Language</td>\n",
       "      <td>Chat,Code generation</td>\n",
       "      <td>Mosaic Research Team</td>\n",
       "      <td>NaN</td>\n",
       "      <td>NaN</td>\n",
       "      <td>Open access (restricted use)</td>\n",
       "      <td>https://www.databricks.com/blog/introducing-db...</td>\n",
       "      <td>NaN</td>\n",
       "      <td>Introducing DBRX: A New State-of-the-Art Open LLM</td>\n",
       "      <td>...</td>\n",
       "      <td>DBRX</td>\n",
       "      <td>NaN</td>\n",
       "      <td>NaN</td>\n",
       "      <td>700.0</td>\n",
       "      <td>0</td>\n",
       "      <td>NaN</td>\n",
       "      <td>2.600000e+24</td>\n",
       "      <td>100%</td>\n",
       "      <td>Open</td>\n",
       "      <td>Closed</td>\n",
       "    </tr>\n",
       "    <tr>\n",
       "      <th>22</th>\n",
       "      <td>Gemma 2 27B</td>\n",
       "      <td>Language</td>\n",
       "      <td>Language modelling/generation,Chat</td>\n",
       "      <td>Gemma Team, Google DeepMind</td>\n",
       "      <td>NaN</td>\n",
       "      <td>NaN</td>\n",
       "      <td>Open access (restricted use)</td>\n",
       "      <td>https://storage.googleapis.com/deepmind-media/...</td>\n",
       "      <td>NaN</td>\n",
       "      <td>Gemma 2 offers best-in-class performance, runs...</td>\n",
       "      <td>...</td>\n",
       "      <td>NaN</td>\n",
       "      <td>NaN</td>\n",
       "      <td>NaN</td>\n",
       "      <td>NaN</td>\n",
       "      <td>0</td>\n",
       "      <td>NaN</td>\n",
       "      <td>2.106000e+24</td>\n",
       "      <td>100%</td>\n",
       "      <td>Open</td>\n",
       "      <td>Closed</td>\n",
       "    </tr>\n",
       "    <tr>\n",
       "      <th>24</th>\n",
       "      <td>Chameleon-34B</td>\n",
       "      <td>Multimodal,Image generation,Language,Vision</td>\n",
       "      <td>Language modelling/generation,Vision-language ...</td>\n",
       "      <td>Srinivasan Iyer, Bernie Huang, Lili Yu, Arun B...</td>\n",
       "      <td>NaN</td>\n",
       "      <td>NaN</td>\n",
       "      <td>Open access (non-commercial)</td>\n",
       "      <td>https://arxiv.org/abs/2405.09818v1</td>\n",
       "      <td>NaN</td>\n",
       "      <td>Chameleon: Mixed-Modal Early-Fusion Foundation...</td>\n",
       "      <td>...</td>\n",
       "      <td>NaN</td>\n",
       "      <td>NaN</td>\n",
       "      <td>NaN</td>\n",
       "      <td>400.0</td>\n",
       "      <td>1228800</td>\n",
       "      <td>NaN</td>\n",
       "      <td>1.645357e+24</td>\n",
       "      <td>100%</td>\n",
       "      <td>Open</td>\n",
       "      <td>Closed</td>\n",
       "    </tr>\n",
       "    <tr>\n",
       "      <th>27</th>\n",
       "      <td>Code Llama-70B</td>\n",
       "      <td>Language</td>\n",
       "      <td>Code generation</td>\n",
       "      <td>Baptiste Rozière, Jonas Gehring, Fabian Gloeck...</td>\n",
       "      <td>NaN</td>\n",
       "      <td>\"In our own benchmark testing, Code Llama outp...</td>\n",
       "      <td>Open access (restricted use)</td>\n",
       "      <td>https://ai.meta.com/research/publications/code...</td>\n",
       "      <td>832.0</td>\n",
       "      <td>Code Llama: Open Foundation Models for Code</td>\n",
       "      <td>...</td>\n",
       "      <td>NaN</td>\n",
       "      <td>Based on 6NC estimate, fine tuning required ar...</td>\n",
       "      <td>NaN</td>\n",
       "      <td>400.0</td>\n",
       "      <td>160000</td>\n",
       "      <td>8.100000e+23</td>\n",
       "      <td>3.000000e+22</td>\n",
       "      <td>2%</td>\n",
       "      <td>Open</td>\n",
       "      <td>Closed</td>\n",
       "    </tr>\n",
       "    <tr>\n",
       "      <th>28</th>\n",
       "      <td>XVERSE-65B-2</td>\n",
       "      <td>Language</td>\n",
       "      <td>Chat,Language modelling/generation</td>\n",
       "      <td>NaN</td>\n",
       "      <td>NaN</td>\n",
       "      <td>NaN</td>\n",
       "      <td>Open access (restricted use)</td>\n",
       "      <td>https://github.com/xverse-ai/XVERSE-65B/blob/m...</td>\n",
       "      <td>NaN</td>\n",
       "      <td>NaN</td>\n",
       "      <td>...</td>\n",
       "      <td>NaN</td>\n",
       "      <td>NaN</td>\n",
       "      <td>NaN</td>\n",
       "      <td>NaN</td>\n",
       "      <td>0</td>\n",
       "      <td>NaN</td>\n",
       "      <td>1.248000e+24</td>\n",
       "      <td>100%</td>\n",
       "      <td>Open</td>\n",
       "      <td>Open</td>\n",
       "    </tr>\n",
       "    <tr>\n",
       "      <th>34</th>\n",
       "      <td>TigerBot-70B</td>\n",
       "      <td>Language</td>\n",
       "      <td>Chat,Language generation,Language modelling/ge...</td>\n",
       "      <td>Ye Chen, Wei Cai, Liangmin Wu, Xiaowei Li, Zha...</td>\n",
       "      <td>NaN</td>\n",
       "      <td>Outperforms Llama 2:\\n\\n\"We use 10 mainstream ...</td>\n",
       "      <td>Open access (restricted use)</td>\n",
       "      <td>https://github.com/TigerResearch/TigerBot/blob...</td>\n",
       "      <td>NaN</td>\n",
       "      <td>TigerBot: An Open Multilingual Multitask LLM</td>\n",
       "      <td>...</td>\n",
       "      <td>NaN</td>\n",
       "      <td>NaN</td>\n",
       "      <td>NaN</td>\n",
       "      <td>NaN</td>\n",
       "      <td>0</td>\n",
       "      <td>8.100000e+23</td>\n",
       "      <td>8.400000e+22</td>\n",
       "      <td>8%</td>\n",
       "      <td>Open</td>\n",
       "      <td>Open</td>\n",
       "    </tr>\n",
       "    <tr>\n",
       "      <th>35</th>\n",
       "      <td>DeepSeek-V2</td>\n",
       "      <td>Language</td>\n",
       "      <td>Language modelling/generation,Chat</td>\n",
       "      <td>DeepSeek-AI, Aixin Liu, Bei Feng, Bin Wang, Bi...</td>\n",
       "      <td>NaN</td>\n",
       "      <td>as of July 2024 the strongest open model in lm...</td>\n",
       "      <td>Open access (restricted use)</td>\n",
       "      <td>https://arxiv.org/abs/2405.04434 \\nhttps://git...</td>\n",
       "      <td>NaN</td>\n",
       "      <td>DeepSeek-V2: A Strong, Economical, and Efficie...</td>\n",
       "      <td>...</td>\n",
       "      <td>NaN</td>\n",
       "      <td>NaN</td>\n",
       "      <td>NaN</td>\n",
       "      <td>NaN</td>\n",
       "      <td>0</td>\n",
       "      <td>NaN</td>\n",
       "      <td>1.020000e+24</td>\n",
       "      <td>100%</td>\n",
       "      <td>Open</td>\n",
       "      <td>Closed</td>\n",
       "    </tr>\n",
       "    <tr>\n",
       "      <th>39</th>\n",
       "      <td>DeepSeek LLM 67B</td>\n",
       "      <td>Language</td>\n",
       "      <td>Chat</td>\n",
       "      <td>Xiao Bi, Deli Chen, Guanting Chen, Shanhuang C...</td>\n",
       "      <td>NaN</td>\n",
       "      <td>One of the best open/Chinese models: \"Our eval...</td>\n",
       "      <td>Open access (restricted use)</td>\n",
       "      <td>https://arxiv.org/abs/2401.02954, https://gith...</td>\n",
       "      <td>NaN</td>\n",
       "      <td>DeepSeek LLM: Scaling Open-Source Language Mod...</td>\n",
       "      <td>...</td>\n",
       "      <td>NaN</td>\n",
       "      <td>NaN</td>\n",
       "      <td>NaN</td>\n",
       "      <td>NaN</td>\n",
       "      <td>0</td>\n",
       "      <td>NaN</td>\n",
       "      <td>8.040000e+23</td>\n",
       "      <td>100%</td>\n",
       "      <td>Open</td>\n",
       "      <td>Closed</td>\n",
       "    </tr>\n",
       "    <tr>\n",
       "      <th>49</th>\n",
       "      <td>Guanaco-65B</td>\n",
       "      <td>Language</td>\n",
       "      <td>Chat</td>\n",
       "      <td>Tim Dettmers, Artidoro Pagnoni, Ari Holtzman, ...</td>\n",
       "      <td>NaN</td>\n",
       "      <td>\"Our best model family, which we name Guanaco,...</td>\n",
       "      <td>Open access (non-commercial)</td>\n",
       "      <td>https://arxiv.org/abs/2305.14314; https://gith...</td>\n",
       "      <td>1012.0</td>\n",
       "      <td>QLoRA: Efficient Finetuning of Quantized LLMs</td>\n",
       "      <td>...</td>\n",
       "      <td>NaN</td>\n",
       "      <td>NaN</td>\n",
       "      <td>NaN</td>\n",
       "      <td>NaN</td>\n",
       "      <td>0</td>\n",
       "      <td>5.500000e+23</td>\n",
       "      <td>-8.000000e+18</td>\n",
       "      <td>-0%</td>\n",
       "      <td>Open</td>\n",
       "      <td>Open</td>\n",
       "    </tr>\n",
       "  </tbody>\n",
       "</table>\n",
       "<p>10 rows × 70 columns</p>\n",
       "</div>"
      ],
      "text/plain": [
       "              System                                       Domain  \\\n",
       "13         Qwen2-72B                                     Language   \n",
       "16              DBRX                                     Language   \n",
       "22       Gemma 2 27B                                     Language   \n",
       "24     Chameleon-34B  Multimodal,Image generation,Language,Vision   \n",
       "27    Code Llama-70B                                     Language   \n",
       "28      XVERSE-65B-2                                     Language   \n",
       "34      TigerBot-70B                                     Language   \n",
       "35       DeepSeek-V2                                     Language   \n",
       "39  DeepSeek LLM 67B                                     Language   \n",
       "49       Guanaco-65B                                     Language   \n",
       "\n",
       "                                                 Task  \\\n",
       "13                 Chat,Language modelling/generation   \n",
       "16                               Chat,Code generation   \n",
       "22                 Language modelling/generation,Chat   \n",
       "24  Language modelling/generation,Vision-language ...   \n",
       "27                                    Code generation   \n",
       "28                 Chat,Language modelling/generation   \n",
       "34  Chat,Language generation,Language modelling/ge...   \n",
       "35                 Language modelling/generation,Chat   \n",
       "39                                               Chat   \n",
       "49                                               Chat   \n",
       "\n",
       "                                              Authors Notability criteria  \\\n",
       "13                                          Qwen Team                 NaN   \n",
       "16                               Mosaic Research Team                 NaN   \n",
       "22                        Gemma Team, Google DeepMind                 NaN   \n",
       "24  Srinivasan Iyer, Bernie Huang, Lili Yu, Arun B...                 NaN   \n",
       "27  Baptiste Rozière, Jonas Gehring, Fabian Gloeck...                 NaN   \n",
       "28                                                NaN                 NaN   \n",
       "34  Ye Chen, Wei Cai, Liangmin Wu, Xiaowei Li, Zha...                 NaN   \n",
       "35  DeepSeek-AI, Aixin Liu, Bei Feng, Bin Wang, Bi...                 NaN   \n",
       "39  Xiao Bi, Deli Chen, Guanting Chen, Shanhuang C...                 NaN   \n",
       "49  Tim Dettmers, Artidoro Pagnoni, Ari Holtzman, ...                 NaN   \n",
       "\n",
       "                            Notability criteria notes  \\\n",
       "13  SOTA claims are against open source models wit...   \n",
       "16                                                NaN   \n",
       "22                                                NaN   \n",
       "24                                                NaN   \n",
       "27  \"In our own benchmark testing, Code Llama outp...   \n",
       "28                                                NaN   \n",
       "34  Outperforms Llama 2:\\n\\n\"We use 10 mainstream ...   \n",
       "35  as of July 2024 the strongest open model in lm...   \n",
       "39  One of the best open/Chinese models: \"Our eval...   \n",
       "49  \"Our best model family, which we name Guanaco,...   \n",
       "\n",
       "             Model accessibility  \\\n",
       "13                   Open source   \n",
       "16  Open access (restricted use)   \n",
       "22  Open access (restricted use)   \n",
       "24  Open access (non-commercial)   \n",
       "27  Open access (restricted use)   \n",
       "28  Open access (restricted use)   \n",
       "34  Open access (restricted use)   \n",
       "35  Open access (restricted use)   \n",
       "39  Open access (restricted use)   \n",
       "49  Open access (non-commercial)   \n",
       "\n",
       "                                                 Link  Citations  \\\n",
       "13  https://qwenlm.github.io/blog/qwen2/ \\nhttps:/...        NaN   \n",
       "16  https://www.databricks.com/blog/introducing-db...        NaN   \n",
       "22  https://storage.googleapis.com/deepmind-media/...        NaN   \n",
       "24                 https://arxiv.org/abs/2405.09818v1        NaN   \n",
       "27  https://ai.meta.com/research/publications/code...      832.0   \n",
       "28  https://github.com/xverse-ai/XVERSE-65B/blob/m...        NaN   \n",
       "34  https://github.com/TigerResearch/TigerBot/blob...        NaN   \n",
       "35  https://arxiv.org/abs/2405.04434 \\nhttps://git...        NaN   \n",
       "39  https://arxiv.org/abs/2401.02954, https://gith...        NaN   \n",
       "49  https://arxiv.org/abs/2305.14314; https://gith...     1012.0   \n",
       "\n",
       "                                            Reference  ... Sparsity  \\\n",
       "13                                        Hello Qwen2  ...      NaN   \n",
       "16  Introducing DBRX: A New State-of-the-Art Open LLM  ...     DBRX   \n",
       "22  Gemma 2 offers best-in-class performance, runs...  ...      NaN   \n",
       "24  Chameleon: Mixed-Modal Early-Fusion Foundation...  ...      NaN   \n",
       "27        Code Llama: Open Foundation Models for Code  ...      NaN   \n",
       "28                                                NaN  ...      NaN   \n",
       "34       TigerBot: An Open Multilingual Multitask LLM  ...      NaN   \n",
       "35  DeepSeek-V2: A Strong, Economical, and Efficie...  ...      NaN   \n",
       "39  DeepSeek LLM: Scaling Open-Source Language Mod...  ...      NaN   \n",
       "49      QLoRA: Efficient Finetuning of Quantized LLMs  ...      NaN   \n",
       "\n",
       "                                    Utilization notes  \\\n",
       "13                                                NaN   \n",
       "16                                                NaN   \n",
       "22                                                NaN   \n",
       "24                                                NaN   \n",
       "27  Based on 6NC estimate, fine tuning required ar...   \n",
       "28                                                NaN   \n",
       "34                                                NaN   \n",
       "35                                                NaN   \n",
       "39                                                NaN   \n",
       "49                                                NaN   \n",
       "\n",
       "    Estimated over 1e25 FLOP Power per GPU  Cluster total TDP  \\\n",
       "13                       NaN           NaN                  0   \n",
       "16                       NaN         700.0                  0   \n",
       "22                       NaN           NaN                  0   \n",
       "24                       NaN         400.0            1228800   \n",
       "27                       NaN         400.0             160000   \n",
       "28                       NaN           NaN                  0   \n",
       "34                       NaN           NaN                  0   \n",
       "35                       NaN           NaN                  0   \n",
       "39                       NaN           NaN                  0   \n",
       "49                       NaN           NaN                  0   \n",
       "\n",
       "   Base model compute    Difference Difference (share)  Model open/closed  \\\n",
       "13                NaN  3.020000e+24               100%               Open   \n",
       "16                NaN  2.600000e+24               100%               Open   \n",
       "22                NaN  2.106000e+24               100%               Open   \n",
       "24                NaN  1.645357e+24               100%               Open   \n",
       "27       8.100000e+23  3.000000e+22                 2%               Open   \n",
       "28                NaN  1.248000e+24               100%               Open   \n",
       "34       8.100000e+23  8.400000e+22                 8%               Open   \n",
       "35                NaN  1.020000e+24               100%               Open   \n",
       "39                NaN  8.040000e+23               100%               Open   \n",
       "49       5.500000e+23 -8.000000e+18                -0%               Open   \n",
       "\n",
       "   Code open/closed  \n",
       "13           Closed  \n",
       "16           Closed  \n",
       "22           Closed  \n",
       "24           Closed  \n",
       "27           Closed  \n",
       "28             Open  \n",
       "34             Open  \n",
       "35           Closed  \n",
       "39           Closed  \n",
       "49             Open  \n",
       "\n",
       "[10 rows x 70 columns]"
      ]
     },
     "execution_count": 8,
     "metadata": {},
     "output_type": "execute_result"
    }
   ],
   "source": [
    "non_notable = open_df.loc[(open_df['Notability criteria'].isna())]\n",
    "print(len(non_notable))\n",
    "non_notable.head(10)\n",
    "# 251 open but not \"notable\"\n",
    "# some of these are clearly lower-n notable, like Qwen2, DBRX, Gemma 2, DeepSeek coder\n",
    "# possible other criteria - within 1 (or 1.5 or 2) OOM training compute of frontier (1.5 OOM is ~1e24 right now)\n",
    "# greater than 1000 (or 1100) on chatbot arena?"
   ]
  },
  {
   "cell_type": "code",
   "execution_count": 9,
   "metadata": {
    "tags": []
   },
   "outputs": [
    {
     "name": "stdout",
     "output_type": "stream",
     "text": [
      "Models that are not fine-tunes:  392\n",
      "Models that are fine-tunes:  78\n"
     ]
    },
    {
     "data": {
      "text/html": [
       "<div>\n",
       "<style scoped>\n",
       "    .dataframe tbody tr th:only-of-type {\n",
       "        vertical-align: middle;\n",
       "    }\n",
       "\n",
       "    .dataframe tbody tr th {\n",
       "        vertical-align: top;\n",
       "    }\n",
       "\n",
       "    .dataframe thead th {\n",
       "        text-align: right;\n",
       "    }\n",
       "</style>\n",
       "<table border=\"1\" class=\"dataframe\">\n",
       "  <thead>\n",
       "    <tr style=\"text-align: right;\">\n",
       "      <th></th>\n",
       "      <th>System</th>\n",
       "      <th>Domain</th>\n",
       "      <th>Task</th>\n",
       "      <th>Authors</th>\n",
       "      <th>Notability criteria</th>\n",
       "      <th>Notability criteria notes</th>\n",
       "      <th>Model accessibility</th>\n",
       "      <th>Link</th>\n",
       "      <th>Citations</th>\n",
       "      <th>Reference</th>\n",
       "      <th>...</th>\n",
       "      <th>Sparsity</th>\n",
       "      <th>Utilization notes</th>\n",
       "      <th>Estimated over 1e25 FLOP</th>\n",
       "      <th>Power per GPU</th>\n",
       "      <th>Cluster total TDP</th>\n",
       "      <th>Base model compute</th>\n",
       "      <th>Difference</th>\n",
       "      <th>Difference (share)</th>\n",
       "      <th>Model open/closed</th>\n",
       "      <th>Code open/closed</th>\n",
       "    </tr>\n",
       "  </thead>\n",
       "  <tbody>\n",
       "    <tr>\n",
       "      <th>27</th>\n",
       "      <td>Code Llama-70B</td>\n",
       "      <td>Language</td>\n",
       "      <td>Code generation</td>\n",
       "      <td>Baptiste Rozière, Jonas Gehring, Fabian Gloeck...</td>\n",
       "      <td>NaN</td>\n",
       "      <td>\"In our own benchmark testing, Code Llama outp...</td>\n",
       "      <td>Open access (restricted use)</td>\n",
       "      <td>https://ai.meta.com/research/publications/code...</td>\n",
       "      <td>832.0</td>\n",
       "      <td>Code Llama: Open Foundation Models for Code</td>\n",
       "      <td>...</td>\n",
       "      <td>NaN</td>\n",
       "      <td>Based on 6NC estimate, fine tuning required ar...</td>\n",
       "      <td>NaN</td>\n",
       "      <td>400.0</td>\n",
       "      <td>160000</td>\n",
       "      <td>8.100000e+23</td>\n",
       "      <td>3.000000e+22</td>\n",
       "      <td>2%</td>\n",
       "      <td>Open</td>\n",
       "      <td>Closed</td>\n",
       "    </tr>\n",
       "    <tr>\n",
       "      <th>34</th>\n",
       "      <td>TigerBot-70B</td>\n",
       "      <td>Language</td>\n",
       "      <td>Chat,Language generation,Language modelling/ge...</td>\n",
       "      <td>Ye Chen, Wei Cai, Liangmin Wu, Xiaowei Li, Zha...</td>\n",
       "      <td>NaN</td>\n",
       "      <td>Outperforms Llama 2:\\n\\n\"We use 10 mainstream ...</td>\n",
       "      <td>Open access (restricted use)</td>\n",
       "      <td>https://github.com/TigerResearch/TigerBot/blob...</td>\n",
       "      <td>NaN</td>\n",
       "      <td>TigerBot: An Open Multilingual Multitask LLM</td>\n",
       "      <td>...</td>\n",
       "      <td>NaN</td>\n",
       "      <td>NaN</td>\n",
       "      <td>NaN</td>\n",
       "      <td>NaN</td>\n",
       "      <td>0</td>\n",
       "      <td>8.100000e+23</td>\n",
       "      <td>8.400000e+22</td>\n",
       "      <td>8%</td>\n",
       "      <td>Open</td>\n",
       "      <td>Open</td>\n",
       "    </tr>\n",
       "    <tr>\n",
       "      <th>49</th>\n",
       "      <td>Guanaco-65B</td>\n",
       "      <td>Language</td>\n",
       "      <td>Chat</td>\n",
       "      <td>Tim Dettmers, Artidoro Pagnoni, Ari Holtzman, ...</td>\n",
       "      <td>NaN</td>\n",
       "      <td>\"Our best model family, which we name Guanaco,...</td>\n",
       "      <td>Open access (non-commercial)</td>\n",
       "      <td>https://arxiv.org/abs/2305.14314; https://gith...</td>\n",
       "      <td>1012.0</td>\n",
       "      <td>QLoRA: Efficient Finetuning of Quantized LLMs</td>\n",
       "      <td>...</td>\n",
       "      <td>NaN</td>\n",
       "      <td>NaN</td>\n",
       "      <td>NaN</td>\n",
       "      <td>NaN</td>\n",
       "      <td>0</td>\n",
       "      <td>5.500000e+23</td>\n",
       "      <td>-8.000000e+18</td>\n",
       "      <td>-0%</td>\n",
       "      <td>Open</td>\n",
       "      <td>Open</td>\n",
       "    </tr>\n",
       "    <tr>\n",
       "      <th>51</th>\n",
       "      <td>Code Llama-34B</td>\n",
       "      <td>Language</td>\n",
       "      <td>Code generation</td>\n",
       "      <td>Baptiste Rozière, Jonas Gehring, Fabian Gloeck...</td>\n",
       "      <td>NaN</td>\n",
       "      <td>SOTA for open models: \"Moreover, our largest m...</td>\n",
       "      <td>Open access (restricted use)</td>\n",
       "      <td>https://ai.meta.com/research/publications/code...</td>\n",
       "      <td>832.0</td>\n",
       "      <td>Code Llama: Open Foundation Models for Code</td>\n",
       "      <td>...</td>\n",
       "      <td>NaN</td>\n",
       "      <td>NaN</td>\n",
       "      <td>NaN</td>\n",
       "      <td>400.0</td>\n",
       "      <td>0</td>\n",
       "      <td>4.080000e+23</td>\n",
       "      <td>0.000000e+00</td>\n",
       "      <td>0%</td>\n",
       "      <td>Open</td>\n",
       "      <td>Closed</td>\n",
       "    </tr>\n",
       "    <tr>\n",
       "      <th>56</th>\n",
       "      <td>OPT-IML (175B)</td>\n",
       "      <td>Language</td>\n",
       "      <td>Language modelling</td>\n",
       "      <td>Srinivasan Iyer, Xi Victoria Lin, Ramakanth Pa...</td>\n",
       "      <td>NaN</td>\n",
       "      <td>NaN</td>\n",
       "      <td>Open access (non-commercial)</td>\n",
       "      <td>https://arxiv.org/abs/2212.12017</td>\n",
       "      <td>199.0</td>\n",
       "      <td>OPT-IML: Scaling Language Model Instruction Me...</td>\n",
       "      <td>...</td>\n",
       "      <td>NaN</td>\n",
       "      <td>NaN</td>\n",
       "      <td>NaN</td>\n",
       "      <td>400.0</td>\n",
       "      <td>51200</td>\n",
       "      <td>4.300000e+23</td>\n",
       "      <td>-2.100000e+21</td>\n",
       "      <td>-0%</td>\n",
       "      <td>Open</td>\n",
       "      <td>Closed</td>\n",
       "    </tr>\n",
       "    <tr>\n",
       "      <th>57</th>\n",
       "      <td>BlenderBot 3</td>\n",
       "      <td>Language</td>\n",
       "      <td>Chat</td>\n",
       "      <td>Kurt Shuster, Jing Xu, Mojtaba Komeili, Da Ju,...</td>\n",
       "      <td>SOTA improvement</td>\n",
       "      <td>\"Human evaluations show its superiority to exi...</td>\n",
       "      <td>Open access (non-commercial)</td>\n",
       "      <td>https://arxiv.org/abs/2208.03188, https://gith...</td>\n",
       "      <td>194.0</td>\n",
       "      <td>BlenderBot 3: a deployed conversational agent ...</td>\n",
       "      <td>...</td>\n",
       "      <td>NaN</td>\n",
       "      <td>NaN</td>\n",
       "      <td>NaN</td>\n",
       "      <td>400.0</td>\n",
       "      <td>51200</td>\n",
       "      <td>4.300000e+23</td>\n",
       "      <td>-1.500000e+21</td>\n",
       "      <td>-0%</td>\n",
       "      <td>Open</td>\n",
       "      <td>Open</td>\n",
       "    </tr>\n",
       "    <tr>\n",
       "      <th>65</th>\n",
       "      <td>FunSearch</td>\n",
       "      <td>Language,Search</td>\n",
       "      <td>Code generation</td>\n",
       "      <td>Bernardino Romera-Paredes, Mohammadamin Bareka...</td>\n",
       "      <td>SOTA improvement,Historical significance</td>\n",
       "      <td>Improved SOTA for the cap set problem. Can pla...</td>\n",
       "      <td>Open source</td>\n",
       "      <td>https://www.nature.com/articles/s41586-023-069...</td>\n",
       "      <td>104.0</td>\n",
       "      <td>Mathematical discoveries from program search w...</td>\n",
       "      <td>...</td>\n",
       "      <td>FunSearch</td>\n",
       "      <td>NaN</td>\n",
       "      <td>NaN</td>\n",
       "      <td>NaN</td>\n",
       "      <td>0</td>\n",
       "      <td>7.340000e+24</td>\n",
       "      <td>-6.953000e+24</td>\n",
       "      <td>-1797%</td>\n",
       "      <td>Open</td>\n",
       "      <td>Closed</td>\n",
       "    </tr>\n",
       "    <tr>\n",
       "      <th>103</th>\n",
       "      <td>FinGPT-13B</td>\n",
       "      <td>Language</td>\n",
       "      <td>Named entity recognition,Sentiment classificat...</td>\n",
       "      <td>Neng Wang, Hongyang Yang, Christina Dan Wang</td>\n",
       "      <td>SOTA improvement</td>\n",
       "      <td>SOTA for financial sentiment analysis</td>\n",
       "      <td>Open source</td>\n",
       "      <td>https://arxiv.org/abs/2310.04793; https://gith...</td>\n",
       "      <td>16.0</td>\n",
       "      <td>FinGPT: Instruction Tuning Benchmark for Open-...</td>\n",
       "      <td>...</td>\n",
       "      <td>NaN</td>\n",
       "      <td>NaN</td>\n",
       "      <td>NaN</td>\n",
       "      <td>350.0</td>\n",
       "      <td>350</td>\n",
       "      <td>1.600000e+23</td>\n",
       "      <td>-6.532488e+17</td>\n",
       "      <td>-0%</td>\n",
       "      <td>Open</td>\n",
       "      <td>Open</td>\n",
       "    </tr>\n",
       "    <tr>\n",
       "      <th>105</th>\n",
       "      <td>Llama Guard</td>\n",
       "      <td>Language</td>\n",
       "      <td>Chat</td>\n",
       "      <td>Hakan Inan, Kartikeya Upasani, Jianfeng Chi, R...</td>\n",
       "      <td>SOTA improvement</td>\n",
       "      <td>\"Llama Guard, a Llama2-7b model that is instru...</td>\n",
       "      <td>Open access (restricted use)</td>\n",
       "      <td>https://arxiv.org/abs/2312.06674</td>\n",
       "      <td>101.0</td>\n",
       "      <td>Llama Guard: LLM-based Input-Output Safeguard ...</td>\n",
       "      <td>...</td>\n",
       "      <td>NaN</td>\n",
       "      <td>NaN</td>\n",
       "      <td>NaN</td>\n",
       "      <td>400.0</td>\n",
       "      <td>0</td>\n",
       "      <td>8.400000e+22</td>\n",
       "      <td>7.599983e+22</td>\n",
       "      <td>47%</td>\n",
       "      <td>Open</td>\n",
       "      <td>Closed</td>\n",
       "    </tr>\n",
       "    <tr>\n",
       "      <th>117</th>\n",
       "      <td>WizardCoder-15.5B</td>\n",
       "      <td>Language</td>\n",
       "      <td>Code generation</td>\n",
       "      <td>Can Xu, Qingfeng Sun, Kai Zheng, Xiubo Geng, P...</td>\n",
       "      <td>NaN</td>\n",
       "      <td>\"It surpasses all other open-source Code LLMs ...</td>\n",
       "      <td>Open access (restricted use)</td>\n",
       "      <td>https://arxiv.org/abs/2306.08568</td>\n",
       "      <td>304.0</td>\n",
       "      <td>WizardCoder: Empowering Code Large Language Mo...</td>\n",
       "      <td>...</td>\n",
       "      <td>NaN</td>\n",
       "      <td>NaN</td>\n",
       "      <td>NaN</td>\n",
       "      <td>NaN</td>\n",
       "      <td>0</td>\n",
       "      <td>8.460000e+22</td>\n",
       "      <td>2.738050e+22</td>\n",
       "      <td>24%</td>\n",
       "      <td>Open</td>\n",
       "      <td>Open</td>\n",
       "    </tr>\n",
       "  </tbody>\n",
       "</table>\n",
       "<p>10 rows × 70 columns</p>\n",
       "</div>"
      ],
      "text/plain": [
       "                System           Domain  \\\n",
       "27      Code Llama-70B         Language   \n",
       "34        TigerBot-70B         Language   \n",
       "49         Guanaco-65B         Language   \n",
       "51      Code Llama-34B         Language   \n",
       "56      OPT-IML (175B)         Language   \n",
       "57        BlenderBot 3         Language   \n",
       "65           FunSearch  Language,Search   \n",
       "103         FinGPT-13B         Language   \n",
       "105        Llama Guard         Language   \n",
       "117  WizardCoder-15.5B         Language   \n",
       "\n",
       "                                                  Task  \\\n",
       "27                                     Code generation   \n",
       "34   Chat,Language generation,Language modelling/ge...   \n",
       "49                                                Chat   \n",
       "51                                     Code generation   \n",
       "56                                  Language modelling   \n",
       "57                                                Chat   \n",
       "65                                     Code generation   \n",
       "103  Named entity recognition,Sentiment classificat...   \n",
       "105                                               Chat   \n",
       "117                                    Code generation   \n",
       "\n",
       "                                               Authors  \\\n",
       "27   Baptiste Rozière, Jonas Gehring, Fabian Gloeck...   \n",
       "34   Ye Chen, Wei Cai, Liangmin Wu, Xiaowei Li, Zha...   \n",
       "49   Tim Dettmers, Artidoro Pagnoni, Ari Holtzman, ...   \n",
       "51   Baptiste Rozière, Jonas Gehring, Fabian Gloeck...   \n",
       "56   Srinivasan Iyer, Xi Victoria Lin, Ramakanth Pa...   \n",
       "57   Kurt Shuster, Jing Xu, Mojtaba Komeili, Da Ju,...   \n",
       "65   Bernardino Romera-Paredes, Mohammadamin Bareka...   \n",
       "103       Neng Wang, Hongyang Yang, Christina Dan Wang   \n",
       "105  Hakan Inan, Kartikeya Upasani, Jianfeng Chi, R...   \n",
       "117  Can Xu, Qingfeng Sun, Kai Zheng, Xiubo Geng, P...   \n",
       "\n",
       "                          Notability criteria  \\\n",
       "27                                        NaN   \n",
       "34                                        NaN   \n",
       "49                                        NaN   \n",
       "51                                        NaN   \n",
       "56                                        NaN   \n",
       "57                           SOTA improvement   \n",
       "65   SOTA improvement,Historical significance   \n",
       "103                          SOTA improvement   \n",
       "105                          SOTA improvement   \n",
       "117                                       NaN   \n",
       "\n",
       "                             Notability criteria notes  \\\n",
       "27   \"In our own benchmark testing, Code Llama outp...   \n",
       "34   Outperforms Llama 2:\\n\\n\"We use 10 mainstream ...   \n",
       "49   \"Our best model family, which we name Guanaco,...   \n",
       "51   SOTA for open models: \"Moreover, our largest m...   \n",
       "56                                                 NaN   \n",
       "57   \"Human evaluations show its superiority to exi...   \n",
       "65   Improved SOTA for the cap set problem. Can pla...   \n",
       "103              SOTA for financial sentiment analysis   \n",
       "105  \"Llama Guard, a Llama2-7b model that is instru...   \n",
       "117  \"It surpasses all other open-source Code LLMs ...   \n",
       "\n",
       "              Model accessibility  \\\n",
       "27   Open access (restricted use)   \n",
       "34   Open access (restricted use)   \n",
       "49   Open access (non-commercial)   \n",
       "51   Open access (restricted use)   \n",
       "56   Open access (non-commercial)   \n",
       "57   Open access (non-commercial)   \n",
       "65                    Open source   \n",
       "103                   Open source   \n",
       "105  Open access (restricted use)   \n",
       "117  Open access (restricted use)   \n",
       "\n",
       "                                                  Link  Citations  \\\n",
       "27   https://ai.meta.com/research/publications/code...      832.0   \n",
       "34   https://github.com/TigerResearch/TigerBot/blob...        NaN   \n",
       "49   https://arxiv.org/abs/2305.14314; https://gith...     1012.0   \n",
       "51   https://ai.meta.com/research/publications/code...      832.0   \n",
       "56                    https://arxiv.org/abs/2212.12017      199.0   \n",
       "57   https://arxiv.org/abs/2208.03188, https://gith...      194.0   \n",
       "65   https://www.nature.com/articles/s41586-023-069...      104.0   \n",
       "103  https://arxiv.org/abs/2310.04793; https://gith...       16.0   \n",
       "105                   https://arxiv.org/abs/2312.06674      101.0   \n",
       "117                   https://arxiv.org/abs/2306.08568      304.0   \n",
       "\n",
       "                                             Reference  ...   Sparsity  \\\n",
       "27         Code Llama: Open Foundation Models for Code  ...        NaN   \n",
       "34        TigerBot: An Open Multilingual Multitask LLM  ...        NaN   \n",
       "49       QLoRA: Efficient Finetuning of Quantized LLMs  ...        NaN   \n",
       "51         Code Llama: Open Foundation Models for Code  ...        NaN   \n",
       "56   OPT-IML: Scaling Language Model Instruction Me...  ...        NaN   \n",
       "57   BlenderBot 3: a deployed conversational agent ...  ...        NaN   \n",
       "65   Mathematical discoveries from program search w...  ...  FunSearch   \n",
       "103  FinGPT: Instruction Tuning Benchmark for Open-...  ...        NaN   \n",
       "105  Llama Guard: LLM-based Input-Output Safeguard ...  ...        NaN   \n",
       "117  WizardCoder: Empowering Code Large Language Mo...  ...        NaN   \n",
       "\n",
       "                                     Utilization notes  \\\n",
       "27   Based on 6NC estimate, fine tuning required ar...   \n",
       "34                                                 NaN   \n",
       "49                                                 NaN   \n",
       "51                                                 NaN   \n",
       "56                                                 NaN   \n",
       "57                                                 NaN   \n",
       "65                                                 NaN   \n",
       "103                                                NaN   \n",
       "105                                                NaN   \n",
       "117                                                NaN   \n",
       "\n",
       "     Estimated over 1e25 FLOP Power per GPU  Cluster total TDP  \\\n",
       "27                        NaN         400.0             160000   \n",
       "34                        NaN           NaN                  0   \n",
       "49                        NaN           NaN                  0   \n",
       "51                        NaN         400.0                  0   \n",
       "56                        NaN         400.0              51200   \n",
       "57                        NaN         400.0              51200   \n",
       "65                        NaN           NaN                  0   \n",
       "103                       NaN         350.0                350   \n",
       "105                       NaN         400.0                  0   \n",
       "117                       NaN           NaN                  0   \n",
       "\n",
       "    Base model compute    Difference Difference (share)  Model open/closed  \\\n",
       "27        8.100000e+23  3.000000e+22                 2%               Open   \n",
       "34        8.100000e+23  8.400000e+22                 8%               Open   \n",
       "49        5.500000e+23 -8.000000e+18                -0%               Open   \n",
       "51        4.080000e+23  0.000000e+00                 0%               Open   \n",
       "56        4.300000e+23 -2.100000e+21                -0%               Open   \n",
       "57        4.300000e+23 -1.500000e+21                -0%               Open   \n",
       "65        7.340000e+24 -6.953000e+24             -1797%               Open   \n",
       "103       1.600000e+23 -6.532488e+17                -0%               Open   \n",
       "105       8.400000e+22  7.599983e+22                47%               Open   \n",
       "117       8.460000e+22  2.738050e+22                24%               Open   \n",
       "\n",
       "    Code open/closed  \n",
       "27            Closed  \n",
       "34              Open  \n",
       "49              Open  \n",
       "51            Closed  \n",
       "56            Closed  \n",
       "57              Open  \n",
       "65            Closed  \n",
       "103             Open  \n",
       "105           Closed  \n",
       "117             Open  \n",
       "\n",
       "[10 rows x 70 columns]"
      ]
     },
     "execution_count": 9,
     "metadata": {},
     "output_type": "execute_result"
    }
   ],
   "source": [
    "print(f\"Models that are not fine-tunes:  {len(open_df.loc[open_df['Base model'].isna()])}\")\n",
    "print(f\"Models that are fine-tunes:  {len(open_df.loc[open_df['Base model'].notna()])}\")\n",
    "open_df.loc[open_df['Base model'].notna()].head(10)"
   ]
  },
  {
   "cell_type": "code",
   "execution_count": 10,
   "metadata": {
    "tags": []
   },
   "outputs": [
    {
     "name": "stdout",
     "output_type": "stream",
     "text": [
      "32\n"
     ]
    },
    {
     "data": {
      "text/html": [
       "<div>\n",
       "<style scoped>\n",
       "    .dataframe tbody tr th:only-of-type {\n",
       "        vertical-align: middle;\n",
       "    }\n",
       "\n",
       "    .dataframe tbody tr th {\n",
       "        vertical-align: top;\n",
       "    }\n",
       "\n",
       "    .dataframe thead th {\n",
       "        text-align: right;\n",
       "    }\n",
       "</style>\n",
       "<table border=\"1\" class=\"dataframe\">\n",
       "  <thead>\n",
       "    <tr style=\"text-align: right;\">\n",
       "      <th></th>\n",
       "      <th>System</th>\n",
       "      <th>Notability criteria</th>\n",
       "    </tr>\n",
       "  </thead>\n",
       "  <tbody>\n",
       "    <tr>\n",
       "      <th>57</th>\n",
       "      <td>BlenderBot 3</td>\n",
       "      <td>SOTA improvement</td>\n",
       "    </tr>\n",
       "    <tr>\n",
       "      <th>65</th>\n",
       "      <td>FunSearch</td>\n",
       "      <td>SOTA improvement,Historical significance</td>\n",
       "    </tr>\n",
       "    <tr>\n",
       "      <th>103</th>\n",
       "      <td>FinGPT-13B</td>\n",
       "      <td>SOTA improvement</td>\n",
       "    </tr>\n",
       "    <tr>\n",
       "      <th>105</th>\n",
       "      <td>Llama Guard</td>\n",
       "      <td>SOTA improvement</td>\n",
       "    </tr>\n",
       "    <tr>\n",
       "      <th>167</th>\n",
       "      <td>Volcano 13B</td>\n",
       "      <td>SOTA improvement</td>\n",
       "    </tr>\n",
       "    <tr>\n",
       "      <th>169</th>\n",
       "      <td>LLaVA 1.5</td>\n",
       "      <td>SOTA improvement</td>\n",
       "    </tr>\n",
       "    <tr>\n",
       "      <th>192</th>\n",
       "      <td>Flan-T5 11B</td>\n",
       "      <td>Highly cited</td>\n",
       "    </tr>\n",
       "    <tr>\n",
       "      <th>209</th>\n",
       "      <td>CogVLM</td>\n",
       "      <td>SOTA improvement</td>\n",
       "    </tr>\n",
       "    <tr>\n",
       "      <th>255</th>\n",
       "      <td>VideoMAE V2</td>\n",
       "      <td>SOTA improvement</td>\n",
       "    </tr>\n",
       "    <tr>\n",
       "      <th>263</th>\n",
       "      <td>Segment Anything Model</td>\n",
       "      <td>Highly cited</td>\n",
       "    </tr>\n",
       "    <tr>\n",
       "      <th>292</th>\n",
       "      <td>AlphaFold-Multimer</td>\n",
       "      <td>Highly cited,SOTA improvement</td>\n",
       "    </tr>\n",
       "    <tr>\n",
       "      <th>368</th>\n",
       "      <td>Masked Autoencoders</td>\n",
       "      <td>Highly cited,SOTA improvement</td>\n",
       "    </tr>\n",
       "    <tr>\n",
       "      <th>396</th>\n",
       "      <td>InstructBLIP</td>\n",
       "      <td>SOTA improvement</td>\n",
       "    </tr>\n",
       "    <tr>\n",
       "      <th>405</th>\n",
       "      <td>Contriever</td>\n",
       "      <td>SOTA improvement</td>\n",
       "    </tr>\n",
       "    <tr>\n",
       "      <th>406</th>\n",
       "      <td>BERT-RBP</td>\n",
       "      <td>SOTA improvement</td>\n",
       "    </tr>\n",
       "    <tr>\n",
       "      <th>537</th>\n",
       "      <td>Cross-lingual alignment</td>\n",
       "      <td>SOTA improvement</td>\n",
       "    </tr>\n",
       "    <tr>\n",
       "      <th>581</th>\n",
       "      <td>ULM-FiT</td>\n",
       "      <td>Highly cited</td>\n",
       "    </tr>\n",
       "    <tr>\n",
       "      <th>735</th>\n",
       "      <td>Theseus 6/768</td>\n",
       "      <td>SOTA improvement</td>\n",
       "    </tr>\n",
       "    <tr>\n",
       "      <th>1043</th>\n",
       "      <td>CogVideo</td>\n",
       "      <td>Historical significance</td>\n",
       "    </tr>\n",
       "    <tr>\n",
       "      <th>1044</th>\n",
       "      <td>AltCLIP</td>\n",
       "      <td>SOTA improvement</td>\n",
       "    </tr>\n",
       "    <tr>\n",
       "      <th>1159</th>\n",
       "      <td>Ferret (13B)</td>\n",
       "      <td>SOTA improvement</td>\n",
       "    </tr>\n",
       "    <tr>\n",
       "      <th>1351</th>\n",
       "      <td>BLUUMI</td>\n",
       "      <td>SOTA improvement</td>\n",
       "    </tr>\n",
       "    <tr>\n",
       "      <th>1401</th>\n",
       "      <td>Goat-7B</td>\n",
       "      <td>SOTA improvement</td>\n",
       "    </tr>\n",
       "    <tr>\n",
       "      <th>1435</th>\n",
       "      <td>QMoE: compressed 1T model</td>\n",
       "      <td>SOTA improvement</td>\n",
       "    </tr>\n",
       "    <tr>\n",
       "      <th>1438</th>\n",
       "      <td>BLOOMZ-176B</td>\n",
       "      <td>SOTA improvement</td>\n",
       "    </tr>\n",
       "    <tr>\n",
       "      <th>1439</th>\n",
       "      <td>mT0-13B</td>\n",
       "      <td>SOTA improvement</td>\n",
       "    </tr>\n",
       "    <tr>\n",
       "      <th>1453</th>\n",
       "      <td>Qwen-VL</td>\n",
       "      <td>SOTA improvement</td>\n",
       "    </tr>\n",
       "    <tr>\n",
       "      <th>1459</th>\n",
       "      <td>SeamlessM4T</td>\n",
       "      <td>SOTA improvement</td>\n",
       "    </tr>\n",
       "    <tr>\n",
       "      <th>1467</th>\n",
       "      <td>CoEdiT-xxl</td>\n",
       "      <td>SOTA improvement</td>\n",
       "    </tr>\n",
       "    <tr>\n",
       "      <th>1474</th>\n",
       "      <td>Aya</td>\n",
       "      <td>SOTA improvement</td>\n",
       "    </tr>\n",
       "    <tr>\n",
       "      <th>1496</th>\n",
       "      <td>Flan T5-XXL + BLIP-2</td>\n",
       "      <td>Highly cited</td>\n",
       "    </tr>\n",
       "    <tr>\n",
       "      <th>1498</th>\n",
       "      <td>mPLUG-Owl2</td>\n",
       "      <td>SOTA improvement</td>\n",
       "    </tr>\n",
       "  </tbody>\n",
       "</table>\n",
       "</div>"
      ],
      "text/plain": [
       "                         System                       Notability criteria\n",
       "57                 BlenderBot 3                          SOTA improvement\n",
       "65                    FunSearch  SOTA improvement,Historical significance\n",
       "103                  FinGPT-13B                          SOTA improvement\n",
       "105                 Llama Guard                          SOTA improvement\n",
       "167                 Volcano 13B                          SOTA improvement\n",
       "169                   LLaVA 1.5                          SOTA improvement\n",
       "192                 Flan-T5 11B                              Highly cited\n",
       "209                      CogVLM                          SOTA improvement\n",
       "255                 VideoMAE V2                          SOTA improvement\n",
       "263      Segment Anything Model                              Highly cited\n",
       "292          AlphaFold-Multimer             Highly cited,SOTA improvement\n",
       "368         Masked Autoencoders             Highly cited,SOTA improvement\n",
       "396                InstructBLIP                          SOTA improvement\n",
       "405                  Contriever                          SOTA improvement\n",
       "406                    BERT-RBP                          SOTA improvement\n",
       "537     Cross-lingual alignment                          SOTA improvement\n",
       "581                     ULM-FiT                              Highly cited\n",
       "735               Theseus 6/768                          SOTA improvement\n",
       "1043                   CogVideo                   Historical significance\n",
       "1044                    AltCLIP                          SOTA improvement\n",
       "1159               Ferret (13B)                          SOTA improvement\n",
       "1351                     BLUUMI                          SOTA improvement\n",
       "1401                    Goat-7B                          SOTA improvement\n",
       "1435  QMoE: compressed 1T model                          SOTA improvement\n",
       "1438                BLOOMZ-176B                          SOTA improvement\n",
       "1439                    mT0-13B                          SOTA improvement\n",
       "1453                    Qwen-VL                          SOTA improvement\n",
       "1459                SeamlessM4T                          SOTA improvement\n",
       "1467                 CoEdiT-xxl                          SOTA improvement\n",
       "1474                        Aya                          SOTA improvement\n",
       "1496       Flan T5-XXL + BLIP-2                              Highly cited\n",
       "1498                 mPLUG-Owl2                          SOTA improvement"
      ]
     },
     "execution_count": 10,
     "metadata": {},
     "output_type": "execute_result"
    }
   ],
   "source": [
    "notable_finetunes = open_df.loc[(open_df['Base model'].notna()) & (open_df['Notability criteria'].notna())]\n",
    "print(len(notable_finetunes))\n",
    "notable_finetunes[['System', 'Notability criteria']]\n",
    "# 33 notable, fine-tuned open models"
   ]
  },
  {
   "cell_type": "code",
   "execution_count": 11,
   "metadata": {
    "tags": []
   },
   "outputs": [
    {
     "data": {
      "text/plain": [
       "Domain\n",
       "Language                                                    302\n",
       "Biology                                                      44\n",
       "Vision                                                       40\n",
       "Multimodal,Language,Vision                                   13\n",
       "Image generation                                             11\n",
       "Speech                                                        9\n",
       "Games                                                         4\n",
       "Vision,Image generation                                       4\n",
       "Audio                                                         3\n",
       "Robotics                                                      3\n",
       "Earth science                                                 3\n",
       "Multimodal,Vision,Language                                    3\n",
       "Language,Biology                                              2\n",
       "Vision,Language                                               2\n",
       "Video                                                         2\n",
       "Language,Vision,Multimodal                                    2\n",
       "Language,Multimodal,Vision                                    2\n",
       "Multimodal,Vision,Language,Video                              1\n",
       "3D modeling                                                   1\n",
       "Multimodal,Vision,Speech,Language                             1\n",
       "Speech,Language                                               1\n",
       "Multimodal,Video,Robotics,Vision                              1\n",
       "Vision,Language,Multimodal                                    1\n",
       "Multimodal,Vision,Audio,Language,Image generation,Speech      1\n",
       "Multimodal,Image generation,Vision,Language                   1\n",
       "Multimodal,Video                                              1\n",
       "Multimodal,Language,Vision,Image generation                   1\n",
       "Multimodal,Language,Video,Vision,Speech                       1\n",
       "Multimodal,Image generation,Language,Vision                   1\n",
       "Mathematics                                                   1\n",
       "Language,Vision                                               1\n",
       "Language,Speech,Audio                                         1\n",
       "Language,Search                                               1\n",
       "Language,Mathematics                                          1\n",
       "Image generation,Vision                                       1\n",
       "Biology,Vision,Language,Medicine                              1\n",
       "Audio,Speech                                                  1\n",
       "Vision,Video                                                  1\n",
       "dtype: int64"
      ]
     },
     "execution_count": 11,
     "metadata": {},
     "output_type": "execute_result"
    }
   ],
   "source": [
    "open_df.groupby('Domain').size().sort_values(ascending=False)"
   ]
  },
  {
   "cell_type": "markdown",
   "metadata": {},
   "source": [
    "# Model Accessibility Charts"
   ]
  },
  {
   "cell_type": "code",
   "execution_count": 12,
   "metadata": {},
   "outputs": [
    {
     "name": "stderr",
     "output_type": "stream",
     "text": [
      "/var/folders/s2/stl5t_bn7xg9vdfxxr71rzrc0000gn/T/ipykernel_10339/3747043736.py:2: SettingWithCopyWarning: \n",
      "A value is trying to be set on a copy of a slice from a DataFrame.\n",
      "Try using .loc[row_indexer,col_indexer] = value instead\n",
      "\n",
      "See the caveats in the documentation: https://pandas.pydata.org/pandas-docs/stable/user_guide/indexing.html#returning-a-view-versus-a-copy\n",
      "  access_df['Year'] = pd.to_datetime(access_df['Publication date']).dt.year\n"
     ]
    }
   ],
   "source": [
    "# Add year column\n",
    "access_df['Year'] = pd.to_datetime(access_df['Publication date']).dt.year\n"
   ]
  },
  {
   "cell_type": "code",
   "execution_count": 13,
   "metadata": {
    "tags": []
   },
   "outputs": [],
   "source": [
    "# Input -  model counts, grouped by accessibility and by year\n",
    "# Output - same dataframe with cumulative counts for status\n",
    "\n",
    "def get_cumulative_counts(counts):\n",
    "    \n",
    "    counts['Cumulative for status'] = counts.groupby('Model accessibility')['Count'].cumsum()\n",
    "    \n",
    "    # Pivot the access counts table to get counts for every status and every year\n",
    "    # This will have many NaN values because not every year has a model of every status\n",
    "    counts_wide = counts.pivot(index='Year', columns='Model accessibility', values='Cumulative for status')\n",
    "    all_years = pd.Series(range(counts_wide.index.min(), counts_wide.index.max() + 1))\n",
    "    \n",
    "\n",
    "    # Fill NaN values with 0. This ensures that the cumulative count does not get dropped in individual years \n",
    "    # where there are no models with a given status\n",
    "    counts_wide_filled = counts_wide.reindex(all_years).ffill().fillna(0)\n",
    "    counts_wide_filled = counts_wide_filled.reset_index(names=[\"Year\"])\n",
    "    \n",
    "\n",
    "    # Unpivot to get cumulative totals\n",
    "    counts_filled = (counts_wide_filled.melt(id_vars='Year', \n",
    "                                         var_name='Model accessibility', \n",
    "                                         value_name='Cumulative for status')\n",
    "                                   .reset_index(drop=True))\n",
    "\n",
    "    # sort from closed to open\n",
    "    sort_order = ['Unreleased', 'Hosted access (no API)', 'API access', 'Open access (non-commercial)', 'Open access (restricted use)', 'Open source']\n",
    "    counts_filled['Category_sorted'] = pd.Categorical(counts_filled['Model accessibility'], categories=sort_order, ordered=True)\n",
    "    counts_filled = counts_filled.sort_values(['Category_sorted', 'Year'])\n",
    "\n",
    "    return counts_filled"
   ]
  },
  {
   "cell_type": "code",
   "execution_count": 14,
   "metadata": {},
   "outputs": [
    {
     "data": {
      "application/vnd.plotly.v1+json": {
       "config": {
        "plotlyServerURL": "https://plot.ly"
       },
       "data": [
        {
         "fillpattern": {
          "shape": ""
         },
         "hovertemplate": "Model accessibility=Unreleased<br>Year=%{x}<br>Cumulative Count=%{y}<extra></extra>",
         "legendgroup": "Unreleased",
         "line": {
          "color": "#636efa"
         },
         "marker": {
          "symbol": "circle"
         },
         "mode": "lines",
         "name": "Unreleased",
         "orientation": "v",
         "showlegend": true,
         "stackgroup": "1",
         "type": "scatter",
         "x": [
          2015,
          2016,
          2017,
          2018,
          2019,
          2020,
          2021,
          2022,
          2023,
          2024
         ],
         "xaxis": "x",
         "y": [
          6,
          25,
          55,
          100,
          193,
          248,
          322,
          371,
          411,
          426
         ],
         "yaxis": "y"
        },
        {
         "fillpattern": {
          "shape": ""
         },
         "hovertemplate": "Model accessibility=Hosted access (no API)<br>Year=%{x}<br>Cumulative Count=%{y}<extra></extra>",
         "legendgroup": "Hosted access (no API)",
         "line": {
          "color": "#EF553B"
         },
         "marker": {
          "symbol": "circle"
         },
         "mode": "lines",
         "name": "Hosted access (no API)",
         "orientation": "v",
         "showlegend": true,
         "stackgroup": "1",
         "type": "scatter",
         "x": [
          2015,
          2016,
          2017,
          2018,
          2019,
          2020,
          2021,
          2022,
          2023,
          2024
         ],
         "xaxis": "x",
         "y": [
          0,
          1,
          1,
          1,
          2,
          2,
          4,
          7,
          17,
          23
         ],
         "yaxis": "y"
        },
        {
         "fillpattern": {
          "shape": ""
         },
         "hovertemplate": "Model accessibility=API access<br>Year=%{x}<br>Cumulative Count=%{y}<extra></extra>",
         "legendgroup": "API access",
         "line": {
          "color": "#00cc96"
         },
         "marker": {
          "symbol": "circle"
         },
         "mode": "lines",
         "name": "API access",
         "orientation": "v",
         "showlegend": true,
         "stackgroup": "1",
         "type": "scatter",
         "x": [
          2015,
          2016,
          2017,
          2018,
          2019,
          2020,
          2021,
          2022,
          2023,
          2024
         ],
         "xaxis": "x",
         "y": [
          0,
          0,
          0,
          0,
          0,
          1,
          8,
          13,
          38,
          53
         ],
         "yaxis": "y"
        },
        {
         "fillpattern": {
          "shape": ""
         },
         "hovertemplate": "Model accessibility=Open access (non-commercial)<br>Year=%{x}<br>Cumulative Count=%{y}<extra></extra>",
         "legendgroup": "Open access (non-commercial)",
         "line": {
          "color": "#ab63fa"
         },
         "marker": {
          "symbol": "circle"
         },
         "mode": "lines",
         "name": "Open access (non-commercial)",
         "orientation": "v",
         "showlegend": true,
         "stackgroup": "1",
         "type": "scatter",
         "x": [
          2015,
          2016,
          2017,
          2018,
          2019,
          2020,
          2021,
          2022,
          2023,
          2024
         ],
         "xaxis": "x",
         "y": [
          0,
          1,
          1,
          3,
          14,
          17,
          25,
          45,
          79,
          88
         ],
         "yaxis": "y"
        },
        {
         "fillpattern": {
          "shape": ""
         },
         "hovertemplate": "Model accessibility=Open access (restricted use)<br>Year=%{x}<br>Cumulative Count=%{y}<extra></extra>",
         "legendgroup": "Open access (restricted use)",
         "line": {
          "color": "#FFA15A"
         },
         "marker": {
          "symbol": "circle"
         },
         "mode": "lines",
         "name": "Open access (restricted use)",
         "orientation": "v",
         "showlegend": true,
         "stackgroup": "1",
         "type": "scatter",
         "x": [
          2015,
          2016,
          2017,
          2018,
          2019,
          2020,
          2021,
          2022,
          2023,
          2024
         ],
         "xaxis": "x",
         "y": [
          0,
          0,
          0,
          0,
          0,
          0,
          0,
          10,
          48,
          70
         ],
         "yaxis": "y"
        },
        {
         "fillpattern": {
          "shape": ""
         },
         "hovertemplate": "Model accessibility=Open source<br>Year=%{x}<br>Cumulative Count=%{y}<extra></extra>",
         "legendgroup": "Open source",
         "line": {
          "color": "#19d3f3"
         },
         "marker": {
          "symbol": "circle"
         },
         "mode": "lines",
         "name": "Open source",
         "orientation": "v",
         "showlegend": true,
         "stackgroup": "1",
         "type": "scatter",
         "x": [
          2015,
          2016,
          2017,
          2018,
          2019,
          2020,
          2021,
          2022,
          2023,
          2024
         ],
         "xaxis": "x",
         "y": [
          2,
          4,
          5,
          25,
          61,
          97,
          149,
          196,
          291,
          312
         ],
         "yaxis": "y"
        }
       ],
       "layout": {
        "autosize": false,
        "height": 600,
        "legend": {
         "title": {
          "text": "Model accessibility"
         },
         "tracegroupgap": 0
        },
        "template": {
         "data": {
          "bar": [
           {
            "error_x": {
             "color": "#2a3f5f"
            },
            "error_y": {
             "color": "#2a3f5f"
            },
            "marker": {
             "line": {
              "color": "#E5ECF6",
              "width": 0.5
             },
             "pattern": {
              "fillmode": "overlay",
              "size": 10,
              "solidity": 0.2
             }
            },
            "type": "bar"
           }
          ],
          "barpolar": [
           {
            "marker": {
             "line": {
              "color": "#E5ECF6",
              "width": 0.5
             },
             "pattern": {
              "fillmode": "overlay",
              "size": 10,
              "solidity": 0.2
             }
            },
            "type": "barpolar"
           }
          ],
          "carpet": [
           {
            "aaxis": {
             "endlinecolor": "#2a3f5f",
             "gridcolor": "white",
             "linecolor": "white",
             "minorgridcolor": "white",
             "startlinecolor": "#2a3f5f"
            },
            "baxis": {
             "endlinecolor": "#2a3f5f",
             "gridcolor": "white",
             "linecolor": "white",
             "minorgridcolor": "white",
             "startlinecolor": "#2a3f5f"
            },
            "type": "carpet"
           }
          ],
          "choropleth": [
           {
            "colorbar": {
             "outlinewidth": 0,
             "ticks": ""
            },
            "type": "choropleth"
           }
          ],
          "contour": [
           {
            "colorbar": {
             "outlinewidth": 0,
             "ticks": ""
            },
            "colorscale": [
             [
              0,
              "#0d0887"
             ],
             [
              0.1111111111111111,
              "#46039f"
             ],
             [
              0.2222222222222222,
              "#7201a8"
             ],
             [
              0.3333333333333333,
              "#9c179e"
             ],
             [
              0.4444444444444444,
              "#bd3786"
             ],
             [
              0.5555555555555556,
              "#d8576b"
             ],
             [
              0.6666666666666666,
              "#ed7953"
             ],
             [
              0.7777777777777778,
              "#fb9f3a"
             ],
             [
              0.8888888888888888,
              "#fdca26"
             ],
             [
              1,
              "#f0f921"
             ]
            ],
            "type": "contour"
           }
          ],
          "contourcarpet": [
           {
            "colorbar": {
             "outlinewidth": 0,
             "ticks": ""
            },
            "type": "contourcarpet"
           }
          ],
          "heatmap": [
           {
            "colorbar": {
             "outlinewidth": 0,
             "ticks": ""
            },
            "colorscale": [
             [
              0,
              "#0d0887"
             ],
             [
              0.1111111111111111,
              "#46039f"
             ],
             [
              0.2222222222222222,
              "#7201a8"
             ],
             [
              0.3333333333333333,
              "#9c179e"
             ],
             [
              0.4444444444444444,
              "#bd3786"
             ],
             [
              0.5555555555555556,
              "#d8576b"
             ],
             [
              0.6666666666666666,
              "#ed7953"
             ],
             [
              0.7777777777777778,
              "#fb9f3a"
             ],
             [
              0.8888888888888888,
              "#fdca26"
             ],
             [
              1,
              "#f0f921"
             ]
            ],
            "type": "heatmap"
           }
          ],
          "heatmapgl": [
           {
            "colorbar": {
             "outlinewidth": 0,
             "ticks": ""
            },
            "colorscale": [
             [
              0,
              "#0d0887"
             ],
             [
              0.1111111111111111,
              "#46039f"
             ],
             [
              0.2222222222222222,
              "#7201a8"
             ],
             [
              0.3333333333333333,
              "#9c179e"
             ],
             [
              0.4444444444444444,
              "#bd3786"
             ],
             [
              0.5555555555555556,
              "#d8576b"
             ],
             [
              0.6666666666666666,
              "#ed7953"
             ],
             [
              0.7777777777777778,
              "#fb9f3a"
             ],
             [
              0.8888888888888888,
              "#fdca26"
             ],
             [
              1,
              "#f0f921"
             ]
            ],
            "type": "heatmapgl"
           }
          ],
          "histogram": [
           {
            "marker": {
             "pattern": {
              "fillmode": "overlay",
              "size": 10,
              "solidity": 0.2
             }
            },
            "type": "histogram"
           }
          ],
          "histogram2d": [
           {
            "colorbar": {
             "outlinewidth": 0,
             "ticks": ""
            },
            "colorscale": [
             [
              0,
              "#0d0887"
             ],
             [
              0.1111111111111111,
              "#46039f"
             ],
             [
              0.2222222222222222,
              "#7201a8"
             ],
             [
              0.3333333333333333,
              "#9c179e"
             ],
             [
              0.4444444444444444,
              "#bd3786"
             ],
             [
              0.5555555555555556,
              "#d8576b"
             ],
             [
              0.6666666666666666,
              "#ed7953"
             ],
             [
              0.7777777777777778,
              "#fb9f3a"
             ],
             [
              0.8888888888888888,
              "#fdca26"
             ],
             [
              1,
              "#f0f921"
             ]
            ],
            "type": "histogram2d"
           }
          ],
          "histogram2dcontour": [
           {
            "colorbar": {
             "outlinewidth": 0,
             "ticks": ""
            },
            "colorscale": [
             [
              0,
              "#0d0887"
             ],
             [
              0.1111111111111111,
              "#46039f"
             ],
             [
              0.2222222222222222,
              "#7201a8"
             ],
             [
              0.3333333333333333,
              "#9c179e"
             ],
             [
              0.4444444444444444,
              "#bd3786"
             ],
             [
              0.5555555555555556,
              "#d8576b"
             ],
             [
              0.6666666666666666,
              "#ed7953"
             ],
             [
              0.7777777777777778,
              "#fb9f3a"
             ],
             [
              0.8888888888888888,
              "#fdca26"
             ],
             [
              1,
              "#f0f921"
             ]
            ],
            "type": "histogram2dcontour"
           }
          ],
          "mesh3d": [
           {
            "colorbar": {
             "outlinewidth": 0,
             "ticks": ""
            },
            "type": "mesh3d"
           }
          ],
          "parcoords": [
           {
            "line": {
             "colorbar": {
              "outlinewidth": 0,
              "ticks": ""
             }
            },
            "type": "parcoords"
           }
          ],
          "pie": [
           {
            "automargin": true,
            "type": "pie"
           }
          ],
          "scatter": [
           {
            "fillpattern": {
             "fillmode": "overlay",
             "size": 10,
             "solidity": 0.2
            },
            "type": "scatter"
           }
          ],
          "scatter3d": [
           {
            "line": {
             "colorbar": {
              "outlinewidth": 0,
              "ticks": ""
             }
            },
            "marker": {
             "colorbar": {
              "outlinewidth": 0,
              "ticks": ""
             }
            },
            "type": "scatter3d"
           }
          ],
          "scattercarpet": [
           {
            "marker": {
             "colorbar": {
              "outlinewidth": 0,
              "ticks": ""
             }
            },
            "type": "scattercarpet"
           }
          ],
          "scattergeo": [
           {
            "marker": {
             "colorbar": {
              "outlinewidth": 0,
              "ticks": ""
             }
            },
            "type": "scattergeo"
           }
          ],
          "scattergl": [
           {
            "marker": {
             "colorbar": {
              "outlinewidth": 0,
              "ticks": ""
             }
            },
            "type": "scattergl"
           }
          ],
          "scattermapbox": [
           {
            "marker": {
             "colorbar": {
              "outlinewidth": 0,
              "ticks": ""
             }
            },
            "type": "scattermapbox"
           }
          ],
          "scatterpolar": [
           {
            "marker": {
             "colorbar": {
              "outlinewidth": 0,
              "ticks": ""
             }
            },
            "type": "scatterpolar"
           }
          ],
          "scatterpolargl": [
           {
            "marker": {
             "colorbar": {
              "outlinewidth": 0,
              "ticks": ""
             }
            },
            "type": "scatterpolargl"
           }
          ],
          "scatterternary": [
           {
            "marker": {
             "colorbar": {
              "outlinewidth": 0,
              "ticks": ""
             }
            },
            "type": "scatterternary"
           }
          ],
          "surface": [
           {
            "colorbar": {
             "outlinewidth": 0,
             "ticks": ""
            },
            "colorscale": [
             [
              0,
              "#0d0887"
             ],
             [
              0.1111111111111111,
              "#46039f"
             ],
             [
              0.2222222222222222,
              "#7201a8"
             ],
             [
              0.3333333333333333,
              "#9c179e"
             ],
             [
              0.4444444444444444,
              "#bd3786"
             ],
             [
              0.5555555555555556,
              "#d8576b"
             ],
             [
              0.6666666666666666,
              "#ed7953"
             ],
             [
              0.7777777777777778,
              "#fb9f3a"
             ],
             [
              0.8888888888888888,
              "#fdca26"
             ],
             [
              1,
              "#f0f921"
             ]
            ],
            "type": "surface"
           }
          ],
          "table": [
           {
            "cells": {
             "fill": {
              "color": "#EBF0F8"
             },
             "line": {
              "color": "white"
             }
            },
            "header": {
             "fill": {
              "color": "#C8D4E3"
             },
             "line": {
              "color": "white"
             }
            },
            "type": "table"
           }
          ]
         },
         "layout": {
          "annotationdefaults": {
           "arrowcolor": "#2a3f5f",
           "arrowhead": 0,
           "arrowwidth": 1
          },
          "autotypenumbers": "strict",
          "coloraxis": {
           "colorbar": {
            "outlinewidth": 0,
            "ticks": ""
           }
          },
          "colorscale": {
           "diverging": [
            [
             0,
             "#8e0152"
            ],
            [
             0.1,
             "#c51b7d"
            ],
            [
             0.2,
             "#de77ae"
            ],
            [
             0.3,
             "#f1b6da"
            ],
            [
             0.4,
             "#fde0ef"
            ],
            [
             0.5,
             "#f7f7f7"
            ],
            [
             0.6,
             "#e6f5d0"
            ],
            [
             0.7,
             "#b8e186"
            ],
            [
             0.8,
             "#7fbc41"
            ],
            [
             0.9,
             "#4d9221"
            ],
            [
             1,
             "#276419"
            ]
           ],
           "sequential": [
            [
             0,
             "#0d0887"
            ],
            [
             0.1111111111111111,
             "#46039f"
            ],
            [
             0.2222222222222222,
             "#7201a8"
            ],
            [
             0.3333333333333333,
             "#9c179e"
            ],
            [
             0.4444444444444444,
             "#bd3786"
            ],
            [
             0.5555555555555556,
             "#d8576b"
            ],
            [
             0.6666666666666666,
             "#ed7953"
            ],
            [
             0.7777777777777778,
             "#fb9f3a"
            ],
            [
             0.8888888888888888,
             "#fdca26"
            ],
            [
             1,
             "#f0f921"
            ]
           ],
           "sequentialminus": [
            [
             0,
             "#0d0887"
            ],
            [
             0.1111111111111111,
             "#46039f"
            ],
            [
             0.2222222222222222,
             "#7201a8"
            ],
            [
             0.3333333333333333,
             "#9c179e"
            ],
            [
             0.4444444444444444,
             "#bd3786"
            ],
            [
             0.5555555555555556,
             "#d8576b"
            ],
            [
             0.6666666666666666,
             "#ed7953"
            ],
            [
             0.7777777777777778,
             "#fb9f3a"
            ],
            [
             0.8888888888888888,
             "#fdca26"
            ],
            [
             1,
             "#f0f921"
            ]
           ]
          },
          "colorway": [
           "#636efa",
           "#EF553B",
           "#00cc96",
           "#ab63fa",
           "#FFA15A",
           "#19d3f3",
           "#FF6692",
           "#B6E880",
           "#FF97FF",
           "#FECB52"
          ],
          "font": {
           "color": "#2a3f5f"
          },
          "geo": {
           "bgcolor": "white",
           "lakecolor": "white",
           "landcolor": "#E5ECF6",
           "showlakes": true,
           "showland": true,
           "subunitcolor": "white"
          },
          "hoverlabel": {
           "align": "left"
          },
          "hovermode": "closest",
          "mapbox": {
           "style": "light"
          },
          "paper_bgcolor": "white",
          "plot_bgcolor": "#E5ECF6",
          "polar": {
           "angularaxis": {
            "gridcolor": "white",
            "linecolor": "white",
            "ticks": ""
           },
           "bgcolor": "#E5ECF6",
           "radialaxis": {
            "gridcolor": "white",
            "linecolor": "white",
            "ticks": ""
           }
          },
          "scene": {
           "xaxis": {
            "backgroundcolor": "#E5ECF6",
            "gridcolor": "white",
            "gridwidth": 2,
            "linecolor": "white",
            "showbackground": true,
            "ticks": "",
            "zerolinecolor": "white"
           },
           "yaxis": {
            "backgroundcolor": "#E5ECF6",
            "gridcolor": "white",
            "gridwidth": 2,
            "linecolor": "white",
            "showbackground": true,
            "ticks": "",
            "zerolinecolor": "white"
           },
           "zaxis": {
            "backgroundcolor": "#E5ECF6",
            "gridcolor": "white",
            "gridwidth": 2,
            "linecolor": "white",
            "showbackground": true,
            "ticks": "",
            "zerolinecolor": "white"
           }
          },
          "shapedefaults": {
           "line": {
            "color": "#2a3f5f"
           }
          },
          "ternary": {
           "aaxis": {
            "gridcolor": "white",
            "linecolor": "white",
            "ticks": ""
           },
           "baxis": {
            "gridcolor": "white",
            "linecolor": "white",
            "ticks": ""
           },
           "bgcolor": "#E5ECF6",
           "caxis": {
            "gridcolor": "white",
            "linecolor": "white",
            "ticks": ""
           }
          },
          "title": {
           "x": 0.05
          },
          "xaxis": {
           "automargin": true,
           "gridcolor": "white",
           "linecolor": "white",
           "ticks": "",
           "title": {
            "standoff": 15
           },
           "zerolinecolor": "white",
           "zerolinewidth": 2
          },
          "yaxis": {
           "automargin": true,
           "gridcolor": "white",
           "linecolor": "white",
           "ticks": "",
           "title": {
            "standoff": 15
           },
           "zerolinecolor": "white",
           "zerolinewidth": 2
          }
         }
        },
        "title": {
         "text": "Model count by accessibility over time",
         "x": 0.2
        },
        "width": 800,
        "xaxis": {
         "anchor": "y",
         "domain": [
          0,
          1
         ],
         "title": {
          "text": "Year"
         }
        },
        "yaxis": {
         "anchor": "x",
         "domain": [
          0,
          1
         ],
         "title": {
          "text": "Cumulative Count"
         }
        }
       }
      }
     },
     "metadata": {},
     "output_type": "display_data"
    }
   ],
   "source": [
    "# Get counts of all models by year and model accessibility\n",
    "# Only include 2015 and later because older models are rare\n",
    "access_counts = access_df.loc[access_df['Year'] >= 2015].groupby(['Year', 'Model accessibility']).size().reset_index(name='Count')\n",
    "\n",
    "cumulative_access_counts = get_cumulative_counts(access_counts)\n",
    "\n",
    "# Cumulative area chart\n",
    "fig = px.area(cumulative_access_counts, x='Year', y='Cumulative for status', color='Model accessibility', line_group='Model accessibility',\n",
    "              labels={'Cumulative for status': 'Cumulative Count', 'Year': 'Year'},\n",
    "              title='Model count by accessibility over time')\n",
    "\n",
    "fig.update_layout(\n",
    "    autosize=False,\n",
    "    width=800,\n",
    "    height=600,\n",
    "    title_x=0.2,\n",
    ")\n",
    "\n",
    "# save_plot(fig, results_dir, f'cumulative_model_count_by_accessibility')\n",
    "\n",
    "fig.show()"
   ]
  },
  {
   "cell_type": "markdown",
   "metadata": {},
   "source": [
    "Commentary: around half of models are unreleased as of 2024, but the proportion has been shrinking over time. Before 2018 or so, releasing model weights was rare (academic projects often shared training code, but not weights)"
   ]
  },
  {
   "cell_type": "code",
   "execution_count": 15,
   "metadata": {},
   "outputs": [],
   "source": [
    "notable_df = access_df.loc[(access_df['Notability criteria'].notna())]\n",
    "\n",
    "# Get counts of notable models by year and model accessibility\n",
    "# Only include 2015 and later because older models are rare\n",
    "notable_counts = notable_df.loc[access_df['Year'] >= 2015].groupby(['Year', 'Model accessibility']).size().reset_index(name='Count')\n",
    "\n",
    "cumulative_notable_counts = get_cumulative_counts(notable_counts)"
   ]
  },
  {
   "cell_type": "code",
   "execution_count": 16,
   "metadata": {},
   "outputs": [],
   "source": [
    "# Input -  model counts, grouped by accessibility and by year\n",
    "# Output - same dataframe with cumulative counts for status, cumulative total across all statuses, and proportion\n",
    "def normalize_counts(access_counts):\n",
    "    \n",
    "    # Get df with total models per year, and cumulative totals\n",
    "    total_counts = access_counts.groupby('Year')['Count'].sum().reset_index(name='Yearly Total')\n",
    "    total_counts['Cumulative Total'] = total_counts['Yearly Total'].cumsum()\n",
    "    \n",
    "    # Pivot the access counts table to get counts for every status and every year\n",
    "    # This will have many NaN values because not every year has a model of every status\n",
    "    access_counts_wide = access_counts.pivot(index='Year', columns='Model accessibility', values='Cumulative for status')\n",
    "    all_years = pd.Series(range(access_counts_wide.index.min(), access_counts_wide.index.max() + 1))\n",
    "\n",
    "    # Fill in the NaN values\n",
    "    access_counts_wide_filled = access_counts_wide.reindex(all_years).ffill().fillna(0)\n",
    "    access_counts_wide_filled = access_counts_wide_filled.reset_index(names=[\"Year\"])\n",
    "    \n",
    "    # Unpivot\n",
    "    access_counts_filled = (access_counts_wide_filled.melt(id_vars='Year', \n",
    "                                     var_name='Model accessibility', \n",
    "                                     value_name='Cumulative for status')\n",
    "                               .reset_index(drop=True))\n",
    "    \n",
    "    # Join with total counts df to get the cumulative totals\n",
    "    normalized_counts = pd.merge(access_counts_filled, total_counts, on='Year')\n",
    "    \n",
    "    # Divide annual counts by cumulative counts to find cumulative proportions by year\n",
    "    normalized_counts['proportion'] = normalized_counts['Cumulative for status'] / normalized_counts['Cumulative Total']\n",
    "    \n",
    "    # Sort using custom order\n",
    "    sort_order = ['Unreleased', 'Hosted access (no API)', 'API access', 'Open access (non-commercial)', 'Open access (restricted use)', 'Open source']\n",
    "    normalized_counts['Category_sorted'] = pd.Categorical(normalized_counts['Model accessibility'], categories=sort_order, ordered=True)\n",
    "    normalized_counts = normalized_counts.sort_values(['Category_sorted', 'Year'])\n",
    "    \n",
    "    return normalized_counts"
   ]
  },
  {
   "cell_type": "code",
   "execution_count": 17,
   "metadata": {},
   "outputs": [],
   "source": [
    "normalized_counts_total = normalize_counts(access_counts)\n",
    "normalized_counts_notable = normalize_counts(notable_counts)"
   ]
  },
  {
   "cell_type": "code",
   "execution_count": 18,
   "metadata": {},
   "outputs": [
    {
     "data": {
      "application/vnd.plotly.v1+json": {
       "config": {
        "plotlyServerURL": "https://plot.ly"
       },
       "data": [
        {
         "hoverinfo": "x+y",
         "line": {
          "color": "#d62728"
         },
         "mode": "lines",
         "name": "Unreleased",
         "stackgroup": "one",
         "type": "scatter",
         "x": [
          2015,
          2016,
          2017,
          2018,
          2019,
          2020,
          2021,
          2022,
          2023,
          2024
         ],
         "xaxis": "x",
         "y": [
          4,
          11,
          24,
          48,
          84,
          105,
          123,
          144,
          155,
          161
         ],
         "yaxis": "y"
        },
        {
         "hoverinfo": "x+y",
         "line": {
          "color": "#ff7f0e"
         },
         "mode": "lines",
         "name": "Hosted access (no API)",
         "stackgroup": "one",
         "type": "scatter",
         "x": [
          2015,
          2016,
          2017,
          2018,
          2019,
          2020,
          2021,
          2022,
          2023,
          2024
         ],
         "xaxis": "x",
         "y": [
          0,
          1,
          1,
          1,
          1,
          1,
          3,
          3,
          5,
          6
         ],
         "yaxis": "y"
        },
        {
         "hoverinfo": "x+y",
         "line": {
          "color": "#8c564b"
         },
         "mode": "lines",
         "name": "API access",
         "stackgroup": "one",
         "type": "scatter",
         "x": [
          2015,
          2016,
          2017,
          2018,
          2019,
          2020,
          2021,
          2022,
          2023,
          2024
         ],
         "xaxis": "x",
         "y": [
          0,
          0,
          0,
          0,
          0,
          1,
          4,
          8,
          18,
          22
         ],
         "yaxis": "y"
        },
        {
         "hoverinfo": "x+y",
         "line": {
          "color": "#9467bd"
         },
         "mode": "lines",
         "name": "Open access (non-commercial)",
         "stackgroup": "one",
         "type": "scatter",
         "x": [
          2015,
          2016,
          2017,
          2018,
          2019,
          2020,
          2021,
          2022,
          2023,
          2024
         ],
         "xaxis": "x",
         "y": [
          0,
          1,
          1,
          2,
          11,
          12,
          17,
          26,
          41,
          41
         ],
         "yaxis": "y"
        },
        {
         "hoverinfo": "x+y",
         "line": {
          "color": "#1f77b4"
         },
         "mode": "lines",
         "name": "Open access (restricted use)",
         "stackgroup": "one",
         "type": "scatter",
         "x": [
          2015,
          2016,
          2017,
          2018,
          2019,
          2020,
          2021,
          2022,
          2023,
          2024
         ],
         "xaxis": "x",
         "y": [
          0,
          0,
          0,
          0,
          0,
          0,
          0,
          2,
          18,
          23
         ],
         "yaxis": "y"
        },
        {
         "hoverinfo": "x+y",
         "line": {
          "color": "#2ca02c"
         },
         "mode": "lines",
         "name": "Open source",
         "stackgroup": "one",
         "type": "scatter",
         "x": [
          2015,
          2016,
          2017,
          2018,
          2019,
          2020,
          2021,
          2022,
          2023,
          2024
         ],
         "xaxis": "x",
         "y": [
          0,
          1,
          1,
          11,
          42,
          74,
          105,
          129,
          150,
          154
         ],
         "yaxis": "y"
        },
        {
         "hoverinfo": "x+y",
         "line": {
          "color": "#d62728"
         },
         "mode": "lines",
         "name": "Unreleased",
         "showlegend": false,
         "stackgroup": "one",
         "type": "scatter",
         "x": [
          2015,
          2016,
          2017,
          2018,
          2019,
          2020,
          2021,
          2022,
          2023,
          2024
         ],
         "xaxis": "x2",
         "y": [
          1,
          0.7857142857142857,
          0.8888888888888888,
          0.7741935483870968,
          0.6086956521739131,
          0.5440414507772021,
          0.4880952380952381,
          0.46153846153846156,
          0.4005167958656331,
          0.3955773955773956
         ],
         "yaxis": "y2"
        },
        {
         "hoverinfo": "x+y",
         "line": {
          "color": "#ff7f0e"
         },
         "mode": "lines",
         "name": "Hosted access (no API)",
         "showlegend": false,
         "stackgroup": "one",
         "type": "scatter",
         "x": [
          2015,
          2016,
          2017,
          2018,
          2019,
          2020,
          2021,
          2022,
          2023,
          2024
         ],
         "xaxis": "x2",
         "y": [
          0,
          0.07142857142857142,
          0.037037037037037035,
          0.016129032258064516,
          0.007246376811594203,
          0.0051813471502590676,
          0.011904761904761904,
          0.009615384615384616,
          0.012919896640826873,
          0.014742014742014743
         ],
         "yaxis": "y2"
        },
        {
         "hoverinfo": "x+y",
         "line": {
          "color": "#8c564b"
         },
         "mode": "lines",
         "name": "API access",
         "showlegend": false,
         "stackgroup": "one",
         "type": "scatter",
         "x": [
          2015,
          2016,
          2017,
          2018,
          2019,
          2020,
          2021,
          2022,
          2023,
          2024
         ],
         "xaxis": "x2",
         "y": [
          0,
          0,
          0,
          0,
          0,
          0.0051813471502590676,
          0.015873015873015872,
          0.02564102564102564,
          0.046511627906976744,
          0.05405405405405406
         ],
         "yaxis": "y2"
        },
        {
         "hoverinfo": "x+y",
         "line": {
          "color": "#9467bd"
         },
         "mode": "lines",
         "name": "Open access (non-commercial)",
         "showlegend": false,
         "stackgroup": "one",
         "type": "scatter",
         "x": [
          2015,
          2016,
          2017,
          2018,
          2019,
          2020,
          2021,
          2022,
          2023,
          2024
         ],
         "xaxis": "x2",
         "y": [
          0,
          0.07142857142857142,
          0.037037037037037035,
          0.03225806451612903,
          0.07971014492753623,
          0.06217616580310881,
          0.06746031746031746,
          0.08333333333333333,
          0.10594315245478036,
          0.10073710073710074
         ],
         "yaxis": "y2"
        },
        {
         "hoverinfo": "x+y",
         "line": {
          "color": "#1f77b4"
         },
         "mode": "lines",
         "name": "Open access (restricted use)",
         "showlegend": false,
         "stackgroup": "one",
         "type": "scatter",
         "x": [
          2015,
          2016,
          2017,
          2018,
          2019,
          2020,
          2021,
          2022,
          2023,
          2024
         ],
         "xaxis": "x2",
         "y": [
          0,
          0,
          0,
          0,
          0,
          0,
          0,
          0.00641025641025641,
          0.046511627906976744,
          0.056511056511056514
         ],
         "yaxis": "y2"
        },
        {
         "hoverinfo": "x+y",
         "line": {
          "color": "#2ca02c"
         },
         "mode": "lines",
         "name": "Open source",
         "showlegend": false,
         "stackgroup": "one",
         "type": "scatter",
         "x": [
          2015,
          2016,
          2017,
          2018,
          2019,
          2020,
          2021,
          2022,
          2023,
          2024
         ],
         "xaxis": "x2",
         "y": [
          0,
          0.07142857142857142,
          0.037037037037037035,
          0.1774193548387097,
          0.30434782608695654,
          0.38341968911917096,
          0.4166666666666667,
          0.41346153846153844,
          0.3875968992248062,
          0.3783783783783784
         ],
         "yaxis": "y2"
        }
       ],
       "layout": {
        "annotations": [
         {
          "font": {
           "size": 16
          },
          "showarrow": false,
          "text": "Cumulative count",
          "x": 0.225,
          "xanchor": "center",
          "xref": "paper",
          "y": 1,
          "yanchor": "bottom",
          "yref": "paper"
         },
         {
          "font": {
           "size": 16
          },
          "showarrow": false,
          "text": "Cumulative proportion",
          "x": 0.775,
          "xanchor": "center",
          "xref": "paper",
          "y": 1,
          "yanchor": "bottom",
          "yref": "paper"
         }
        ],
        "autosize": false,
        "height": 600,
        "showlegend": true,
        "template": {
         "data": {
          "bar": [
           {
            "error_x": {
             "color": "#2a3f5f"
            },
            "error_y": {
             "color": "#2a3f5f"
            },
            "marker": {
             "line": {
              "color": "#E5ECF6",
              "width": 0.5
             },
             "pattern": {
              "fillmode": "overlay",
              "size": 10,
              "solidity": 0.2
             }
            },
            "type": "bar"
           }
          ],
          "barpolar": [
           {
            "marker": {
             "line": {
              "color": "#E5ECF6",
              "width": 0.5
             },
             "pattern": {
              "fillmode": "overlay",
              "size": 10,
              "solidity": 0.2
             }
            },
            "type": "barpolar"
           }
          ],
          "carpet": [
           {
            "aaxis": {
             "endlinecolor": "#2a3f5f",
             "gridcolor": "white",
             "linecolor": "white",
             "minorgridcolor": "white",
             "startlinecolor": "#2a3f5f"
            },
            "baxis": {
             "endlinecolor": "#2a3f5f",
             "gridcolor": "white",
             "linecolor": "white",
             "minorgridcolor": "white",
             "startlinecolor": "#2a3f5f"
            },
            "type": "carpet"
           }
          ],
          "choropleth": [
           {
            "colorbar": {
             "outlinewidth": 0,
             "ticks": ""
            },
            "type": "choropleth"
           }
          ],
          "contour": [
           {
            "colorbar": {
             "outlinewidth": 0,
             "ticks": ""
            },
            "colorscale": [
             [
              0,
              "#0d0887"
             ],
             [
              0.1111111111111111,
              "#46039f"
             ],
             [
              0.2222222222222222,
              "#7201a8"
             ],
             [
              0.3333333333333333,
              "#9c179e"
             ],
             [
              0.4444444444444444,
              "#bd3786"
             ],
             [
              0.5555555555555556,
              "#d8576b"
             ],
             [
              0.6666666666666666,
              "#ed7953"
             ],
             [
              0.7777777777777778,
              "#fb9f3a"
             ],
             [
              0.8888888888888888,
              "#fdca26"
             ],
             [
              1,
              "#f0f921"
             ]
            ],
            "type": "contour"
           }
          ],
          "contourcarpet": [
           {
            "colorbar": {
             "outlinewidth": 0,
             "ticks": ""
            },
            "type": "contourcarpet"
           }
          ],
          "heatmap": [
           {
            "colorbar": {
             "outlinewidth": 0,
             "ticks": ""
            },
            "colorscale": [
             [
              0,
              "#0d0887"
             ],
             [
              0.1111111111111111,
              "#46039f"
             ],
             [
              0.2222222222222222,
              "#7201a8"
             ],
             [
              0.3333333333333333,
              "#9c179e"
             ],
             [
              0.4444444444444444,
              "#bd3786"
             ],
             [
              0.5555555555555556,
              "#d8576b"
             ],
             [
              0.6666666666666666,
              "#ed7953"
             ],
             [
              0.7777777777777778,
              "#fb9f3a"
             ],
             [
              0.8888888888888888,
              "#fdca26"
             ],
             [
              1,
              "#f0f921"
             ]
            ],
            "type": "heatmap"
           }
          ],
          "heatmapgl": [
           {
            "colorbar": {
             "outlinewidth": 0,
             "ticks": ""
            },
            "colorscale": [
             [
              0,
              "#0d0887"
             ],
             [
              0.1111111111111111,
              "#46039f"
             ],
             [
              0.2222222222222222,
              "#7201a8"
             ],
             [
              0.3333333333333333,
              "#9c179e"
             ],
             [
              0.4444444444444444,
              "#bd3786"
             ],
             [
              0.5555555555555556,
              "#d8576b"
             ],
             [
              0.6666666666666666,
              "#ed7953"
             ],
             [
              0.7777777777777778,
              "#fb9f3a"
             ],
             [
              0.8888888888888888,
              "#fdca26"
             ],
             [
              1,
              "#f0f921"
             ]
            ],
            "type": "heatmapgl"
           }
          ],
          "histogram": [
           {
            "marker": {
             "pattern": {
              "fillmode": "overlay",
              "size": 10,
              "solidity": 0.2
             }
            },
            "type": "histogram"
           }
          ],
          "histogram2d": [
           {
            "colorbar": {
             "outlinewidth": 0,
             "ticks": ""
            },
            "colorscale": [
             [
              0,
              "#0d0887"
             ],
             [
              0.1111111111111111,
              "#46039f"
             ],
             [
              0.2222222222222222,
              "#7201a8"
             ],
             [
              0.3333333333333333,
              "#9c179e"
             ],
             [
              0.4444444444444444,
              "#bd3786"
             ],
             [
              0.5555555555555556,
              "#d8576b"
             ],
             [
              0.6666666666666666,
              "#ed7953"
             ],
             [
              0.7777777777777778,
              "#fb9f3a"
             ],
             [
              0.8888888888888888,
              "#fdca26"
             ],
             [
              1,
              "#f0f921"
             ]
            ],
            "type": "histogram2d"
           }
          ],
          "histogram2dcontour": [
           {
            "colorbar": {
             "outlinewidth": 0,
             "ticks": ""
            },
            "colorscale": [
             [
              0,
              "#0d0887"
             ],
             [
              0.1111111111111111,
              "#46039f"
             ],
             [
              0.2222222222222222,
              "#7201a8"
             ],
             [
              0.3333333333333333,
              "#9c179e"
             ],
             [
              0.4444444444444444,
              "#bd3786"
             ],
             [
              0.5555555555555556,
              "#d8576b"
             ],
             [
              0.6666666666666666,
              "#ed7953"
             ],
             [
              0.7777777777777778,
              "#fb9f3a"
             ],
             [
              0.8888888888888888,
              "#fdca26"
             ],
             [
              1,
              "#f0f921"
             ]
            ],
            "type": "histogram2dcontour"
           }
          ],
          "mesh3d": [
           {
            "colorbar": {
             "outlinewidth": 0,
             "ticks": ""
            },
            "type": "mesh3d"
           }
          ],
          "parcoords": [
           {
            "line": {
             "colorbar": {
              "outlinewidth": 0,
              "ticks": ""
             }
            },
            "type": "parcoords"
           }
          ],
          "pie": [
           {
            "automargin": true,
            "type": "pie"
           }
          ],
          "scatter": [
           {
            "fillpattern": {
             "fillmode": "overlay",
             "size": 10,
             "solidity": 0.2
            },
            "type": "scatter"
           }
          ],
          "scatter3d": [
           {
            "line": {
             "colorbar": {
              "outlinewidth": 0,
              "ticks": ""
             }
            },
            "marker": {
             "colorbar": {
              "outlinewidth": 0,
              "ticks": ""
             }
            },
            "type": "scatter3d"
           }
          ],
          "scattercarpet": [
           {
            "marker": {
             "colorbar": {
              "outlinewidth": 0,
              "ticks": ""
             }
            },
            "type": "scattercarpet"
           }
          ],
          "scattergeo": [
           {
            "marker": {
             "colorbar": {
              "outlinewidth": 0,
              "ticks": ""
             }
            },
            "type": "scattergeo"
           }
          ],
          "scattergl": [
           {
            "marker": {
             "colorbar": {
              "outlinewidth": 0,
              "ticks": ""
             }
            },
            "type": "scattergl"
           }
          ],
          "scattermapbox": [
           {
            "marker": {
             "colorbar": {
              "outlinewidth": 0,
              "ticks": ""
             }
            },
            "type": "scattermapbox"
           }
          ],
          "scatterpolar": [
           {
            "marker": {
             "colorbar": {
              "outlinewidth": 0,
              "ticks": ""
             }
            },
            "type": "scatterpolar"
           }
          ],
          "scatterpolargl": [
           {
            "marker": {
             "colorbar": {
              "outlinewidth": 0,
              "ticks": ""
             }
            },
            "type": "scatterpolargl"
           }
          ],
          "scatterternary": [
           {
            "marker": {
             "colorbar": {
              "outlinewidth": 0,
              "ticks": ""
             }
            },
            "type": "scatterternary"
           }
          ],
          "surface": [
           {
            "colorbar": {
             "outlinewidth": 0,
             "ticks": ""
            },
            "colorscale": [
             [
              0,
              "#0d0887"
             ],
             [
              0.1111111111111111,
              "#46039f"
             ],
             [
              0.2222222222222222,
              "#7201a8"
             ],
             [
              0.3333333333333333,
              "#9c179e"
             ],
             [
              0.4444444444444444,
              "#bd3786"
             ],
             [
              0.5555555555555556,
              "#d8576b"
             ],
             [
              0.6666666666666666,
              "#ed7953"
             ],
             [
              0.7777777777777778,
              "#fb9f3a"
             ],
             [
              0.8888888888888888,
              "#fdca26"
             ],
             [
              1,
              "#f0f921"
             ]
            ],
            "type": "surface"
           }
          ],
          "table": [
           {
            "cells": {
             "fill": {
              "color": "#EBF0F8"
             },
             "line": {
              "color": "white"
             }
            },
            "header": {
             "fill": {
              "color": "#C8D4E3"
             },
             "line": {
              "color": "white"
             }
            },
            "type": "table"
           }
          ]
         },
         "layout": {
          "annotationdefaults": {
           "arrowcolor": "#2a3f5f",
           "arrowhead": 0,
           "arrowwidth": 1
          },
          "autotypenumbers": "strict",
          "coloraxis": {
           "colorbar": {
            "outlinewidth": 0,
            "ticks": ""
           }
          },
          "colorscale": {
           "diverging": [
            [
             0,
             "#8e0152"
            ],
            [
             0.1,
             "#c51b7d"
            ],
            [
             0.2,
             "#de77ae"
            ],
            [
             0.3,
             "#f1b6da"
            ],
            [
             0.4,
             "#fde0ef"
            ],
            [
             0.5,
             "#f7f7f7"
            ],
            [
             0.6,
             "#e6f5d0"
            ],
            [
             0.7,
             "#b8e186"
            ],
            [
             0.8,
             "#7fbc41"
            ],
            [
             0.9,
             "#4d9221"
            ],
            [
             1,
             "#276419"
            ]
           ],
           "sequential": [
            [
             0,
             "#0d0887"
            ],
            [
             0.1111111111111111,
             "#46039f"
            ],
            [
             0.2222222222222222,
             "#7201a8"
            ],
            [
             0.3333333333333333,
             "#9c179e"
            ],
            [
             0.4444444444444444,
             "#bd3786"
            ],
            [
             0.5555555555555556,
             "#d8576b"
            ],
            [
             0.6666666666666666,
             "#ed7953"
            ],
            [
             0.7777777777777778,
             "#fb9f3a"
            ],
            [
             0.8888888888888888,
             "#fdca26"
            ],
            [
             1,
             "#f0f921"
            ]
           ],
           "sequentialminus": [
            [
             0,
             "#0d0887"
            ],
            [
             0.1111111111111111,
             "#46039f"
            ],
            [
             0.2222222222222222,
             "#7201a8"
            ],
            [
             0.3333333333333333,
             "#9c179e"
            ],
            [
             0.4444444444444444,
             "#bd3786"
            ],
            [
             0.5555555555555556,
             "#d8576b"
            ],
            [
             0.6666666666666666,
             "#ed7953"
            ],
            [
             0.7777777777777778,
             "#fb9f3a"
            ],
            [
             0.8888888888888888,
             "#fdca26"
            ],
            [
             1,
             "#f0f921"
            ]
           ]
          },
          "colorway": [
           "#636efa",
           "#EF553B",
           "#00cc96",
           "#ab63fa",
           "#FFA15A",
           "#19d3f3",
           "#FF6692",
           "#B6E880",
           "#FF97FF",
           "#FECB52"
          ],
          "font": {
           "color": "#2a3f5f"
          },
          "geo": {
           "bgcolor": "white",
           "lakecolor": "white",
           "landcolor": "#E5ECF6",
           "showlakes": true,
           "showland": true,
           "subunitcolor": "white"
          },
          "hoverlabel": {
           "align": "left"
          },
          "hovermode": "closest",
          "mapbox": {
           "style": "light"
          },
          "paper_bgcolor": "white",
          "plot_bgcolor": "#E5ECF6",
          "polar": {
           "angularaxis": {
            "gridcolor": "white",
            "linecolor": "white",
            "ticks": ""
           },
           "bgcolor": "#E5ECF6",
           "radialaxis": {
            "gridcolor": "white",
            "linecolor": "white",
            "ticks": ""
           }
          },
          "scene": {
           "xaxis": {
            "backgroundcolor": "#E5ECF6",
            "gridcolor": "white",
            "gridwidth": 2,
            "linecolor": "white",
            "showbackground": true,
            "ticks": "",
            "zerolinecolor": "white"
           },
           "yaxis": {
            "backgroundcolor": "#E5ECF6",
            "gridcolor": "white",
            "gridwidth": 2,
            "linecolor": "white",
            "showbackground": true,
            "ticks": "",
            "zerolinecolor": "white"
           },
           "zaxis": {
            "backgroundcolor": "#E5ECF6",
            "gridcolor": "white",
            "gridwidth": 2,
            "linecolor": "white",
            "showbackground": true,
            "ticks": "",
            "zerolinecolor": "white"
           }
          },
          "shapedefaults": {
           "line": {
            "color": "#2a3f5f"
           }
          },
          "ternary": {
           "aaxis": {
            "gridcolor": "white",
            "linecolor": "white",
            "ticks": ""
           },
           "baxis": {
            "gridcolor": "white",
            "linecolor": "white",
            "ticks": ""
           },
           "bgcolor": "#E5ECF6",
           "caxis": {
            "gridcolor": "white",
            "linecolor": "white",
            "ticks": ""
           }
          },
          "title": {
           "x": 0.05
          },
          "xaxis": {
           "automargin": true,
           "gridcolor": "white",
           "linecolor": "white",
           "ticks": "",
           "title": {
            "standoff": 15
           },
           "zerolinecolor": "white",
           "zerolinewidth": 2
          },
          "yaxis": {
           "automargin": true,
           "gridcolor": "white",
           "linecolor": "white",
           "ticks": "",
           "title": {
            "standoff": 15
           },
           "zerolinecolor": "white",
           "zerolinewidth": 2
          }
         }
        },
        "title": {
         "text": "Notable models accessibility over time"
        },
        "width": 1200,
        "xaxis": {
         "anchor": "y",
         "domain": [
          0,
          0.45
         ],
         "range": [
          2018,
          2024
         ],
         "title": {
          "text": "Year"
         }
        },
        "xaxis2": {
         "anchor": "y2",
         "domain": [
          0.55,
          1
         ],
         "range": [
          2018,
          2024
         ],
         "title": {
          "text": "Year"
         }
        },
        "yaxis": {
         "anchor": "x",
         "domain": [
          0,
          1
         ],
         "title": {
          "text": "Cumulative count"
         }
        },
        "yaxis2": {
         "anchor": "x2",
         "domain": [
          0,
          1
         ],
         "range": [
          0,
          1
         ],
         "title": {
          "text": "Cumulative proportion"
         }
        }
       }
      }
     },
     "metadata": {},
     "output_type": "display_data"
    }
   ],
   "source": [
    "# Create a 1x2 subplot\n",
    "fig = make_subplots(rows=1, cols=2, subplot_titles=('Cumulative count',\n",
    "                                                    'Cumulative proportion'))\n",
    "\n",
    "# Define a consistent color palette\n",
    "color_palette = {\n",
    "    'Unreleased': '#d62728',\n",
    "    'Hosted access (no API)': '#ff7f0e',\n",
    "    'API access': '#8c564b',\n",
    "    'Open access (non-commercial)': '#9467bd',\n",
    "    'Open access (restricted use)': '#1f77b4',\n",
    "    'Open source': '#2ca02c'\n",
    "}\n",
    "\n",
    "# Cumulative area chart\n",
    "for accessibility in cumulative_notable_counts['Model accessibility'].unique():\n",
    "    fig.add_trace(\n",
    "        go.Scatter(x=cumulative_notable_counts[cumulative_notable_counts['Model accessibility'] == accessibility]['Year'], \n",
    "                y=cumulative_notable_counts[cumulative_notable_counts['Model accessibility'] == accessibility]['Cumulative for status'], \n",
    "                hoverinfo='x+y',\n",
    "                stackgroup='one',\n",
    "                mode='lines',\n",
    "                name=accessibility,\n",
    "                line=dict(color=color_palette[accessibility])),\n",
    "        row=1, col=1\n",
    "    )\n",
    "\n",
    "# Normalized area chart\n",
    "for accessibility in normalized_counts_notable['Model accessibility'].unique():\n",
    "    fig.add_trace(\n",
    "        go.Scatter(x=normalized_counts_notable[normalized_counts_notable['Model accessibility'] == accessibility]['Year'], \n",
    "                y=normalized_counts_notable[normalized_counts_notable['Model accessibility'] == accessibility]['proportion'], \n",
    "                hoverinfo='x+y',\n",
    "                stackgroup='one',\n",
    "                mode='lines',\n",
    "                name=accessibility,\n",
    "                line=dict(color=color_palette[accessibility]),\n",
    "                showlegend=False),\n",
    "        row=1, col=2\n",
    "    )\n",
    "\n",
    "# Update layout\n",
    "fig.update_layout(\n",
    "    autosize=False,\n",
    "    width=1200,\n",
    "    height=600,\n",
    "    title_text='Notable models accessibility over time',\n",
    "    showlegend=True\n",
    ")\n",
    "\n",
    "# Update x and y axes\n",
    "fig.update_xaxes(title_text='Year', range=[2018, 2024], row=1, col=1)\n",
    "fig.update_xaxes(title_text='Year', range=[2018, 2024], row=1, col=2)\n",
    "fig.update_yaxes(title_text='Cumulative count', row=1, col=1)\n",
    "fig.update_yaxes(title_text='Cumulative proportion', range=[0, 1], row=1, col=2)\n",
    "\n",
    "save_plot(fig, results_dir, f'cumulative_model_count_by_accessibility')\n",
    "\n",
    "fig.show()"
   ]
  },
  {
   "cell_type": "markdown",
   "metadata": {},
   "source": [
    "This chart shows the proportions over time more clearly - open weights have never been very rare (at least 10%). But open models have become much more common over time, making up around half of models today. The large majority of those are permissively licensed (\"Open source\") even today but open with restrictions has become more common over time."
   ]
  },
  {
   "cell_type": "code",
   "execution_count": 19,
   "metadata": {
    "tags": []
   },
   "outputs": [
    {
     "data": {
      "application/vnd.plotly.v1+json": {
       "config": {
        "plotlyServerURL": "https://plot.ly"
       },
       "data": [
        {
         "fillpattern": {
          "shape": ""
         },
         "hovertemplate": "Model accessibility=Unreleased<br>Year=%{x}<br>Proportion=%{y}<extra></extra>",
         "legendgroup": "Unreleased",
         "line": {
          "color": "#636efa"
         },
         "marker": {
          "symbol": "circle"
         },
         "mode": "lines",
         "name": "Unreleased",
         "orientation": "v",
         "showlegend": true,
         "stackgroup": "1",
         "type": "scatter",
         "x": [
          2015,
          2016,
          2017,
          2018,
          2019,
          2020,
          2021,
          2022,
          2023,
          2024
         ],
         "xaxis": "x",
         "y": [
          1,
          0.7857142857142857,
          0.8888888888888888,
          0.7741935483870968,
          0.6086956521739131,
          0.5440414507772021,
          0.4880952380952381,
          0.46153846153846156,
          0.4005167958656331,
          0.3955773955773956
         ],
         "yaxis": "y"
        },
        {
         "fillpattern": {
          "shape": ""
         },
         "hovertemplate": "Model accessibility=Hosted access (no API)<br>Year=%{x}<br>Proportion=%{y}<extra></extra>",
         "legendgroup": "Hosted access (no API)",
         "line": {
          "color": "#EF553B"
         },
         "marker": {
          "symbol": "circle"
         },
         "mode": "lines",
         "name": "Hosted access (no API)",
         "orientation": "v",
         "showlegend": true,
         "stackgroup": "1",
         "type": "scatter",
         "x": [
          2015,
          2016,
          2017,
          2018,
          2019,
          2020,
          2021,
          2022,
          2023,
          2024
         ],
         "xaxis": "x",
         "y": [
          0,
          0.07142857142857142,
          0.037037037037037035,
          0.016129032258064516,
          0.007246376811594203,
          0.0051813471502590676,
          0.011904761904761904,
          0.009615384615384616,
          0.012919896640826873,
          0.014742014742014743
         ],
         "yaxis": "y"
        },
        {
         "fillpattern": {
          "shape": ""
         },
         "hovertemplate": "Model accessibility=API access<br>Year=%{x}<br>Proportion=%{y}<extra></extra>",
         "legendgroup": "API access",
         "line": {
          "color": "#00cc96"
         },
         "marker": {
          "symbol": "circle"
         },
         "mode": "lines",
         "name": "API access",
         "orientation": "v",
         "showlegend": true,
         "stackgroup": "1",
         "type": "scatter",
         "x": [
          2015,
          2016,
          2017,
          2018,
          2019,
          2020,
          2021,
          2022,
          2023,
          2024
         ],
         "xaxis": "x",
         "y": [
          0,
          0,
          0,
          0,
          0,
          0.0051813471502590676,
          0.015873015873015872,
          0.02564102564102564,
          0.046511627906976744,
          0.05405405405405406
         ],
         "yaxis": "y"
        },
        {
         "fillpattern": {
          "shape": ""
         },
         "hovertemplate": "Model accessibility=Open access (non-commercial)<br>Year=%{x}<br>Proportion=%{y}<extra></extra>",
         "legendgroup": "Open access (non-commercial)",
         "line": {
          "color": "#ab63fa"
         },
         "marker": {
          "symbol": "circle"
         },
         "mode": "lines",
         "name": "Open access (non-commercial)",
         "orientation": "v",
         "showlegend": true,
         "stackgroup": "1",
         "type": "scatter",
         "x": [
          2015,
          2016,
          2017,
          2018,
          2019,
          2020,
          2021,
          2022,
          2023,
          2024
         ],
         "xaxis": "x",
         "y": [
          0,
          0.07142857142857142,
          0.037037037037037035,
          0.03225806451612903,
          0.07971014492753623,
          0.06217616580310881,
          0.06746031746031746,
          0.08333333333333333,
          0.10594315245478036,
          0.10073710073710074
         ],
         "yaxis": "y"
        },
        {
         "fillpattern": {
          "shape": ""
         },
         "hovertemplate": "Model accessibility=Open access (restricted use)<br>Year=%{x}<br>Proportion=%{y}<extra></extra>",
         "legendgroup": "Open access (restricted use)",
         "line": {
          "color": "#FFA15A"
         },
         "marker": {
          "symbol": "circle"
         },
         "mode": "lines",
         "name": "Open access (restricted use)",
         "orientation": "v",
         "showlegend": true,
         "stackgroup": "1",
         "type": "scatter",
         "x": [
          2015,
          2016,
          2017,
          2018,
          2019,
          2020,
          2021,
          2022,
          2023,
          2024
         ],
         "xaxis": "x",
         "y": [
          0,
          0,
          0,
          0,
          0,
          0,
          0,
          0.00641025641025641,
          0.046511627906976744,
          0.056511056511056514
         ],
         "yaxis": "y"
        },
        {
         "fillpattern": {
          "shape": ""
         },
         "hovertemplate": "Model accessibility=Open source<br>Year=%{x}<br>Proportion=%{y}<extra></extra>",
         "legendgroup": "Open source",
         "line": {
          "color": "#19d3f3"
         },
         "marker": {
          "symbol": "circle"
         },
         "mode": "lines",
         "name": "Open source",
         "orientation": "v",
         "showlegend": true,
         "stackgroup": "1",
         "type": "scatter",
         "x": [
          2015,
          2016,
          2017,
          2018,
          2019,
          2020,
          2021,
          2022,
          2023,
          2024
         ],
         "xaxis": "x",
         "y": [
          0,
          0.07142857142857142,
          0.037037037037037035,
          0.1774193548387097,
          0.30434782608695654,
          0.38341968911917096,
          0.4166666666666667,
          0.41346153846153844,
          0.3875968992248062,
          0.3783783783783784
         ],
         "yaxis": "y"
        }
       ],
       "layout": {
        "autosize": false,
        "height": 600,
        "legend": {
         "title": {
          "text": "Model accessibility"
         },
         "tracegroupgap": 0
        },
        "template": {
         "data": {
          "bar": [
           {
            "error_x": {
             "color": "#2a3f5f"
            },
            "error_y": {
             "color": "#2a3f5f"
            },
            "marker": {
             "line": {
              "color": "#E5ECF6",
              "width": 0.5
             },
             "pattern": {
              "fillmode": "overlay",
              "size": 10,
              "solidity": 0.2
             }
            },
            "type": "bar"
           }
          ],
          "barpolar": [
           {
            "marker": {
             "line": {
              "color": "#E5ECF6",
              "width": 0.5
             },
             "pattern": {
              "fillmode": "overlay",
              "size": 10,
              "solidity": 0.2
             }
            },
            "type": "barpolar"
           }
          ],
          "carpet": [
           {
            "aaxis": {
             "endlinecolor": "#2a3f5f",
             "gridcolor": "white",
             "linecolor": "white",
             "minorgridcolor": "white",
             "startlinecolor": "#2a3f5f"
            },
            "baxis": {
             "endlinecolor": "#2a3f5f",
             "gridcolor": "white",
             "linecolor": "white",
             "minorgridcolor": "white",
             "startlinecolor": "#2a3f5f"
            },
            "type": "carpet"
           }
          ],
          "choropleth": [
           {
            "colorbar": {
             "outlinewidth": 0,
             "ticks": ""
            },
            "type": "choropleth"
           }
          ],
          "contour": [
           {
            "colorbar": {
             "outlinewidth": 0,
             "ticks": ""
            },
            "colorscale": [
             [
              0,
              "#0d0887"
             ],
             [
              0.1111111111111111,
              "#46039f"
             ],
             [
              0.2222222222222222,
              "#7201a8"
             ],
             [
              0.3333333333333333,
              "#9c179e"
             ],
             [
              0.4444444444444444,
              "#bd3786"
             ],
             [
              0.5555555555555556,
              "#d8576b"
             ],
             [
              0.6666666666666666,
              "#ed7953"
             ],
             [
              0.7777777777777778,
              "#fb9f3a"
             ],
             [
              0.8888888888888888,
              "#fdca26"
             ],
             [
              1,
              "#f0f921"
             ]
            ],
            "type": "contour"
           }
          ],
          "contourcarpet": [
           {
            "colorbar": {
             "outlinewidth": 0,
             "ticks": ""
            },
            "type": "contourcarpet"
           }
          ],
          "heatmap": [
           {
            "colorbar": {
             "outlinewidth": 0,
             "ticks": ""
            },
            "colorscale": [
             [
              0,
              "#0d0887"
             ],
             [
              0.1111111111111111,
              "#46039f"
             ],
             [
              0.2222222222222222,
              "#7201a8"
             ],
             [
              0.3333333333333333,
              "#9c179e"
             ],
             [
              0.4444444444444444,
              "#bd3786"
             ],
             [
              0.5555555555555556,
              "#d8576b"
             ],
             [
              0.6666666666666666,
              "#ed7953"
             ],
             [
              0.7777777777777778,
              "#fb9f3a"
             ],
             [
              0.8888888888888888,
              "#fdca26"
             ],
             [
              1,
              "#f0f921"
             ]
            ],
            "type": "heatmap"
           }
          ],
          "heatmapgl": [
           {
            "colorbar": {
             "outlinewidth": 0,
             "ticks": ""
            },
            "colorscale": [
             [
              0,
              "#0d0887"
             ],
             [
              0.1111111111111111,
              "#46039f"
             ],
             [
              0.2222222222222222,
              "#7201a8"
             ],
             [
              0.3333333333333333,
              "#9c179e"
             ],
             [
              0.4444444444444444,
              "#bd3786"
             ],
             [
              0.5555555555555556,
              "#d8576b"
             ],
             [
              0.6666666666666666,
              "#ed7953"
             ],
             [
              0.7777777777777778,
              "#fb9f3a"
             ],
             [
              0.8888888888888888,
              "#fdca26"
             ],
             [
              1,
              "#f0f921"
             ]
            ],
            "type": "heatmapgl"
           }
          ],
          "histogram": [
           {
            "marker": {
             "pattern": {
              "fillmode": "overlay",
              "size": 10,
              "solidity": 0.2
             }
            },
            "type": "histogram"
           }
          ],
          "histogram2d": [
           {
            "colorbar": {
             "outlinewidth": 0,
             "ticks": ""
            },
            "colorscale": [
             [
              0,
              "#0d0887"
             ],
             [
              0.1111111111111111,
              "#46039f"
             ],
             [
              0.2222222222222222,
              "#7201a8"
             ],
             [
              0.3333333333333333,
              "#9c179e"
             ],
             [
              0.4444444444444444,
              "#bd3786"
             ],
             [
              0.5555555555555556,
              "#d8576b"
             ],
             [
              0.6666666666666666,
              "#ed7953"
             ],
             [
              0.7777777777777778,
              "#fb9f3a"
             ],
             [
              0.8888888888888888,
              "#fdca26"
             ],
             [
              1,
              "#f0f921"
             ]
            ],
            "type": "histogram2d"
           }
          ],
          "histogram2dcontour": [
           {
            "colorbar": {
             "outlinewidth": 0,
             "ticks": ""
            },
            "colorscale": [
             [
              0,
              "#0d0887"
             ],
             [
              0.1111111111111111,
              "#46039f"
             ],
             [
              0.2222222222222222,
              "#7201a8"
             ],
             [
              0.3333333333333333,
              "#9c179e"
             ],
             [
              0.4444444444444444,
              "#bd3786"
             ],
             [
              0.5555555555555556,
              "#d8576b"
             ],
             [
              0.6666666666666666,
              "#ed7953"
             ],
             [
              0.7777777777777778,
              "#fb9f3a"
             ],
             [
              0.8888888888888888,
              "#fdca26"
             ],
             [
              1,
              "#f0f921"
             ]
            ],
            "type": "histogram2dcontour"
           }
          ],
          "mesh3d": [
           {
            "colorbar": {
             "outlinewidth": 0,
             "ticks": ""
            },
            "type": "mesh3d"
           }
          ],
          "parcoords": [
           {
            "line": {
             "colorbar": {
              "outlinewidth": 0,
              "ticks": ""
             }
            },
            "type": "parcoords"
           }
          ],
          "pie": [
           {
            "automargin": true,
            "type": "pie"
           }
          ],
          "scatter": [
           {
            "fillpattern": {
             "fillmode": "overlay",
             "size": 10,
             "solidity": 0.2
            },
            "type": "scatter"
           }
          ],
          "scatter3d": [
           {
            "line": {
             "colorbar": {
              "outlinewidth": 0,
              "ticks": ""
             }
            },
            "marker": {
             "colorbar": {
              "outlinewidth": 0,
              "ticks": ""
             }
            },
            "type": "scatter3d"
           }
          ],
          "scattercarpet": [
           {
            "marker": {
             "colorbar": {
              "outlinewidth": 0,
              "ticks": ""
             }
            },
            "type": "scattercarpet"
           }
          ],
          "scattergeo": [
           {
            "marker": {
             "colorbar": {
              "outlinewidth": 0,
              "ticks": ""
             }
            },
            "type": "scattergeo"
           }
          ],
          "scattergl": [
           {
            "marker": {
             "colorbar": {
              "outlinewidth": 0,
              "ticks": ""
             }
            },
            "type": "scattergl"
           }
          ],
          "scattermapbox": [
           {
            "marker": {
             "colorbar": {
              "outlinewidth": 0,
              "ticks": ""
             }
            },
            "type": "scattermapbox"
           }
          ],
          "scatterpolar": [
           {
            "marker": {
             "colorbar": {
              "outlinewidth": 0,
              "ticks": ""
             }
            },
            "type": "scatterpolar"
           }
          ],
          "scatterpolargl": [
           {
            "marker": {
             "colorbar": {
              "outlinewidth": 0,
              "ticks": ""
             }
            },
            "type": "scatterpolargl"
           }
          ],
          "scatterternary": [
           {
            "marker": {
             "colorbar": {
              "outlinewidth": 0,
              "ticks": ""
             }
            },
            "type": "scatterternary"
           }
          ],
          "surface": [
           {
            "colorbar": {
             "outlinewidth": 0,
             "ticks": ""
            },
            "colorscale": [
             [
              0,
              "#0d0887"
             ],
             [
              0.1111111111111111,
              "#46039f"
             ],
             [
              0.2222222222222222,
              "#7201a8"
             ],
             [
              0.3333333333333333,
              "#9c179e"
             ],
             [
              0.4444444444444444,
              "#bd3786"
             ],
             [
              0.5555555555555556,
              "#d8576b"
             ],
             [
              0.6666666666666666,
              "#ed7953"
             ],
             [
              0.7777777777777778,
              "#fb9f3a"
             ],
             [
              0.8888888888888888,
              "#fdca26"
             ],
             [
              1,
              "#f0f921"
             ]
            ],
            "type": "surface"
           }
          ],
          "table": [
           {
            "cells": {
             "fill": {
              "color": "#EBF0F8"
             },
             "line": {
              "color": "white"
             }
            },
            "header": {
             "fill": {
              "color": "#C8D4E3"
             },
             "line": {
              "color": "white"
             }
            },
            "type": "table"
           }
          ]
         },
         "layout": {
          "annotationdefaults": {
           "arrowcolor": "#2a3f5f",
           "arrowhead": 0,
           "arrowwidth": 1
          },
          "autotypenumbers": "strict",
          "coloraxis": {
           "colorbar": {
            "outlinewidth": 0,
            "ticks": ""
           }
          },
          "colorscale": {
           "diverging": [
            [
             0,
             "#8e0152"
            ],
            [
             0.1,
             "#c51b7d"
            ],
            [
             0.2,
             "#de77ae"
            ],
            [
             0.3,
             "#f1b6da"
            ],
            [
             0.4,
             "#fde0ef"
            ],
            [
             0.5,
             "#f7f7f7"
            ],
            [
             0.6,
             "#e6f5d0"
            ],
            [
             0.7,
             "#b8e186"
            ],
            [
             0.8,
             "#7fbc41"
            ],
            [
             0.9,
             "#4d9221"
            ],
            [
             1,
             "#276419"
            ]
           ],
           "sequential": [
            [
             0,
             "#0d0887"
            ],
            [
             0.1111111111111111,
             "#46039f"
            ],
            [
             0.2222222222222222,
             "#7201a8"
            ],
            [
             0.3333333333333333,
             "#9c179e"
            ],
            [
             0.4444444444444444,
             "#bd3786"
            ],
            [
             0.5555555555555556,
             "#d8576b"
            ],
            [
             0.6666666666666666,
             "#ed7953"
            ],
            [
             0.7777777777777778,
             "#fb9f3a"
            ],
            [
             0.8888888888888888,
             "#fdca26"
            ],
            [
             1,
             "#f0f921"
            ]
           ],
           "sequentialminus": [
            [
             0,
             "#0d0887"
            ],
            [
             0.1111111111111111,
             "#46039f"
            ],
            [
             0.2222222222222222,
             "#7201a8"
            ],
            [
             0.3333333333333333,
             "#9c179e"
            ],
            [
             0.4444444444444444,
             "#bd3786"
            ],
            [
             0.5555555555555556,
             "#d8576b"
            ],
            [
             0.6666666666666666,
             "#ed7953"
            ],
            [
             0.7777777777777778,
             "#fb9f3a"
            ],
            [
             0.8888888888888888,
             "#fdca26"
            ],
            [
             1,
             "#f0f921"
            ]
           ]
          },
          "colorway": [
           "#636efa",
           "#EF553B",
           "#00cc96",
           "#ab63fa",
           "#FFA15A",
           "#19d3f3",
           "#FF6692",
           "#B6E880",
           "#FF97FF",
           "#FECB52"
          ],
          "font": {
           "color": "#2a3f5f"
          },
          "geo": {
           "bgcolor": "white",
           "lakecolor": "white",
           "landcolor": "#E5ECF6",
           "showlakes": true,
           "showland": true,
           "subunitcolor": "white"
          },
          "hoverlabel": {
           "align": "left"
          },
          "hovermode": "closest",
          "mapbox": {
           "style": "light"
          },
          "paper_bgcolor": "white",
          "plot_bgcolor": "#E5ECF6",
          "polar": {
           "angularaxis": {
            "gridcolor": "white",
            "linecolor": "white",
            "ticks": ""
           },
           "bgcolor": "#E5ECF6",
           "radialaxis": {
            "gridcolor": "white",
            "linecolor": "white",
            "ticks": ""
           }
          },
          "scene": {
           "xaxis": {
            "backgroundcolor": "#E5ECF6",
            "gridcolor": "white",
            "gridwidth": 2,
            "linecolor": "white",
            "showbackground": true,
            "ticks": "",
            "zerolinecolor": "white"
           },
           "yaxis": {
            "backgroundcolor": "#E5ECF6",
            "gridcolor": "white",
            "gridwidth": 2,
            "linecolor": "white",
            "showbackground": true,
            "ticks": "",
            "zerolinecolor": "white"
           },
           "zaxis": {
            "backgroundcolor": "#E5ECF6",
            "gridcolor": "white",
            "gridwidth": 2,
            "linecolor": "white",
            "showbackground": true,
            "ticks": "",
            "zerolinecolor": "white"
           }
          },
          "shapedefaults": {
           "line": {
            "color": "#2a3f5f"
           }
          },
          "ternary": {
           "aaxis": {
            "gridcolor": "white",
            "linecolor": "white",
            "ticks": ""
           },
           "baxis": {
            "gridcolor": "white",
            "linecolor": "white",
            "ticks": ""
           },
           "bgcolor": "#E5ECF6",
           "caxis": {
            "gridcolor": "white",
            "linecolor": "white",
            "ticks": ""
           }
          },
          "title": {
           "x": 0.05
          },
          "xaxis": {
           "automargin": true,
           "gridcolor": "white",
           "linecolor": "white",
           "ticks": "",
           "title": {
            "standoff": 15
           },
           "zerolinecolor": "white",
           "zerolinewidth": 2
          },
          "yaxis": {
           "automargin": true,
           "gridcolor": "white",
           "linecolor": "white",
           "ticks": "",
           "title": {
            "standoff": 15
           },
           "zerolinecolor": "white",
           "zerolinewidth": 2
          }
         }
        },
        "title": {
         "text": "Cumulative proportion of notable models by accessibility over time",
         "x": 0.2
        },
        "width": 800,
        "xaxis": {
         "anchor": "y",
         "domain": [
          0,
          1
         ],
         "range": [
          2018,
          2024
         ],
         "title": {
          "text": "Year"
         }
        },
        "yaxis": {
         "anchor": "x",
         "domain": [
          0,
          1
         ],
         "range": [
          0,
          1
         ],
         "title": {
          "text": "Proportion"
         }
        }
       }
      }
     },
     "metadata": {},
     "output_type": "display_data"
    }
   ],
   "source": [
    "fig = px.area(normalized_counts_notable, x='Year', y='proportion', color='Model accessibility', line_group='Model accessibility',\n",
    "              labels={'proportion': 'Proportion', 'Year': 'Year'},\n",
    "              title='Cumulative proportion of notable models by accessibility over time')\n",
    "\n",
    "fig.update_yaxes(range=[0, 1])\n",
    "fig.update_xaxes(range=[2018, 2024])\n",
    "fig.update_layout(\n",
    "    autosize=False,\n",
    "    width=800,\n",
    "    height=600,\n",
    "    title_x=0.2,\n",
    ")\n",
    "\n",
    "fig.show()"
   ]
  },
  {
   "cell_type": "code",
   "execution_count": 20,
   "metadata": {},
   "outputs": [
    {
     "data": {
      "application/vnd.plotly.v1+json": {
       "config": {
        "plotlyServerURL": "https://plot.ly"
       },
       "data": [
        {
         "fillpattern": {
          "shape": ""
         },
         "hovertemplate": "Model accessibility=Unreleased<br>Year=%{x}<br>Proportion=%{y}<extra></extra>",
         "legendgroup": "Unreleased",
         "line": {
          "color": "#636efa"
         },
         "marker": {
          "symbol": "circle"
         },
         "mode": "lines",
         "name": "Unreleased",
         "orientation": "v",
         "showlegend": true,
         "stackgroup": "1",
         "type": "scatter",
         "x": [
          2015,
          2016,
          2017,
          2018,
          2019,
          2020,
          2021,
          2022,
          2023,
          2024
         ],
         "xaxis": "x",
         "y": [
          0.75,
          0.8064516129032258,
          0.8870967741935484,
          0.7751937984496124,
          0.7148148148148148,
          0.6794520547945205,
          0.6338582677165354,
          0.5778816199376947,
          0.4649321266968326,
          0.4382716049382716
         ],
         "yaxis": "y"
        },
        {
         "fillpattern": {
          "shape": ""
         },
         "hovertemplate": "Model accessibility=Hosted access (no API)<br>Year=%{x}<br>Proportion=%{y}<extra></extra>",
         "legendgroup": "Hosted access (no API)",
         "line": {
          "color": "#EF553B"
         },
         "marker": {
          "symbol": "circle"
         },
         "mode": "lines",
         "name": "Hosted access (no API)",
         "orientation": "v",
         "showlegend": true,
         "stackgroup": "1",
         "type": "scatter",
         "x": [
          2015,
          2016,
          2017,
          2018,
          2019,
          2020,
          2021,
          2022,
          2023,
          2024
         ],
         "xaxis": "x",
         "y": [
          0,
          0.03225806451612903,
          0.016129032258064516,
          0.007751937984496124,
          0.007407407407407408,
          0.005479452054794521,
          0.007874015748031496,
          0.010903426791277258,
          0.019230769230769232,
          0.023662551440329218
         ],
         "yaxis": "y"
        },
        {
         "fillpattern": {
          "shape": ""
         },
         "hovertemplate": "Model accessibility=API access<br>Year=%{x}<br>Proportion=%{y}<extra></extra>",
         "legendgroup": "API access",
         "line": {
          "color": "#00cc96"
         },
         "marker": {
          "symbol": "circle"
         },
         "mode": "lines",
         "name": "API access",
         "orientation": "v",
         "showlegend": true,
         "stackgroup": "1",
         "type": "scatter",
         "x": [
          2015,
          2016,
          2017,
          2018,
          2019,
          2020,
          2021,
          2022,
          2023,
          2024
         ],
         "xaxis": "x",
         "y": [
          0,
          0,
          0,
          0,
          0,
          0.0027397260273972603,
          0.015748031496062992,
          0.020249221183800622,
          0.042986425339366516,
          0.05452674897119342
         ],
         "yaxis": "y"
        },
        {
         "fillpattern": {
          "shape": ""
         },
         "hovertemplate": "Model accessibility=Open access (non-commercial)<br>Year=%{x}<br>Proportion=%{y}<extra></extra>",
         "legendgroup": "Open access (non-commercial)",
         "line": {
          "color": "#ab63fa"
         },
         "marker": {
          "symbol": "circle"
         },
         "mode": "lines",
         "name": "Open access (non-commercial)",
         "orientation": "v",
         "showlegend": true,
         "stackgroup": "1",
         "type": "scatter",
         "x": [
          2015,
          2016,
          2017,
          2018,
          2019,
          2020,
          2021,
          2022,
          2023,
          2024
         ],
         "xaxis": "x",
         "y": [
          0,
          0.03225806451612903,
          0.016129032258064516,
          0.023255813953488372,
          0.05185185185185185,
          0.04657534246575343,
          0.04921259842519685,
          0.07009345794392523,
          0.08936651583710407,
          0.09053497942386832
         ],
         "yaxis": "y"
        },
        {
         "fillpattern": {
          "shape": ""
         },
         "hovertemplate": "Model accessibility=Open access (restricted use)<br>Year=%{x}<br>Proportion=%{y}<extra></extra>",
         "legendgroup": "Open access (restricted use)",
         "line": {
          "color": "#FFA15A"
         },
         "marker": {
          "symbol": "circle"
         },
         "mode": "lines",
         "name": "Open access (restricted use)",
         "orientation": "v",
         "showlegend": true,
         "stackgroup": "1",
         "type": "scatter",
         "x": [
          2015,
          2016,
          2017,
          2018,
          2019,
          2020,
          2021,
          2022,
          2023,
          2024
         ],
         "xaxis": "x",
         "y": [
          0,
          0,
          0,
          0,
          0,
          0,
          0,
          0.01557632398753894,
          0.05429864253393665,
          0.0720164609053498
         ],
         "yaxis": "y"
        },
        {
         "fillpattern": {
          "shape": ""
         },
         "hovertemplate": "Model accessibility=Open source<br>Year=%{x}<br>Proportion=%{y}<extra></extra>",
         "legendgroup": "Open source",
         "line": {
          "color": "#19d3f3"
         },
         "marker": {
          "symbol": "circle"
         },
         "mode": "lines",
         "name": "Open source",
         "orientation": "v",
         "showlegend": true,
         "stackgroup": "1",
         "type": "scatter",
         "x": [
          2015,
          2016,
          2017,
          2018,
          2019,
          2020,
          2021,
          2022,
          2023,
          2024
         ],
         "xaxis": "x",
         "y": [
          0.25,
          0.12903225806451613,
          0.08064516129032258,
          0.1937984496124031,
          0.22592592592592592,
          0.26575342465753427,
          0.2933070866141732,
          0.3052959501557632,
          0.32918552036199095,
          0.32098765432098764
         ],
         "yaxis": "y"
        }
       ],
       "layout": {
        "autosize": false,
        "height": 600,
        "legend": {
         "title": {
          "text": "Model accessibility"
         },
         "tracegroupgap": 0
        },
        "template": {
         "data": {
          "bar": [
           {
            "error_x": {
             "color": "#2a3f5f"
            },
            "error_y": {
             "color": "#2a3f5f"
            },
            "marker": {
             "line": {
              "color": "#E5ECF6",
              "width": 0.5
             },
             "pattern": {
              "fillmode": "overlay",
              "size": 10,
              "solidity": 0.2
             }
            },
            "type": "bar"
           }
          ],
          "barpolar": [
           {
            "marker": {
             "line": {
              "color": "#E5ECF6",
              "width": 0.5
             },
             "pattern": {
              "fillmode": "overlay",
              "size": 10,
              "solidity": 0.2
             }
            },
            "type": "barpolar"
           }
          ],
          "carpet": [
           {
            "aaxis": {
             "endlinecolor": "#2a3f5f",
             "gridcolor": "white",
             "linecolor": "white",
             "minorgridcolor": "white",
             "startlinecolor": "#2a3f5f"
            },
            "baxis": {
             "endlinecolor": "#2a3f5f",
             "gridcolor": "white",
             "linecolor": "white",
             "minorgridcolor": "white",
             "startlinecolor": "#2a3f5f"
            },
            "type": "carpet"
           }
          ],
          "choropleth": [
           {
            "colorbar": {
             "outlinewidth": 0,
             "ticks": ""
            },
            "type": "choropleth"
           }
          ],
          "contour": [
           {
            "colorbar": {
             "outlinewidth": 0,
             "ticks": ""
            },
            "colorscale": [
             [
              0,
              "#0d0887"
             ],
             [
              0.1111111111111111,
              "#46039f"
             ],
             [
              0.2222222222222222,
              "#7201a8"
             ],
             [
              0.3333333333333333,
              "#9c179e"
             ],
             [
              0.4444444444444444,
              "#bd3786"
             ],
             [
              0.5555555555555556,
              "#d8576b"
             ],
             [
              0.6666666666666666,
              "#ed7953"
             ],
             [
              0.7777777777777778,
              "#fb9f3a"
             ],
             [
              0.8888888888888888,
              "#fdca26"
             ],
             [
              1,
              "#f0f921"
             ]
            ],
            "type": "contour"
           }
          ],
          "contourcarpet": [
           {
            "colorbar": {
             "outlinewidth": 0,
             "ticks": ""
            },
            "type": "contourcarpet"
           }
          ],
          "heatmap": [
           {
            "colorbar": {
             "outlinewidth": 0,
             "ticks": ""
            },
            "colorscale": [
             [
              0,
              "#0d0887"
             ],
             [
              0.1111111111111111,
              "#46039f"
             ],
             [
              0.2222222222222222,
              "#7201a8"
             ],
             [
              0.3333333333333333,
              "#9c179e"
             ],
             [
              0.4444444444444444,
              "#bd3786"
             ],
             [
              0.5555555555555556,
              "#d8576b"
             ],
             [
              0.6666666666666666,
              "#ed7953"
             ],
             [
              0.7777777777777778,
              "#fb9f3a"
             ],
             [
              0.8888888888888888,
              "#fdca26"
             ],
             [
              1,
              "#f0f921"
             ]
            ],
            "type": "heatmap"
           }
          ],
          "heatmapgl": [
           {
            "colorbar": {
             "outlinewidth": 0,
             "ticks": ""
            },
            "colorscale": [
             [
              0,
              "#0d0887"
             ],
             [
              0.1111111111111111,
              "#46039f"
             ],
             [
              0.2222222222222222,
              "#7201a8"
             ],
             [
              0.3333333333333333,
              "#9c179e"
             ],
             [
              0.4444444444444444,
              "#bd3786"
             ],
             [
              0.5555555555555556,
              "#d8576b"
             ],
             [
              0.6666666666666666,
              "#ed7953"
             ],
             [
              0.7777777777777778,
              "#fb9f3a"
             ],
             [
              0.8888888888888888,
              "#fdca26"
             ],
             [
              1,
              "#f0f921"
             ]
            ],
            "type": "heatmapgl"
           }
          ],
          "histogram": [
           {
            "marker": {
             "pattern": {
              "fillmode": "overlay",
              "size": 10,
              "solidity": 0.2
             }
            },
            "type": "histogram"
           }
          ],
          "histogram2d": [
           {
            "colorbar": {
             "outlinewidth": 0,
             "ticks": ""
            },
            "colorscale": [
             [
              0,
              "#0d0887"
             ],
             [
              0.1111111111111111,
              "#46039f"
             ],
             [
              0.2222222222222222,
              "#7201a8"
             ],
             [
              0.3333333333333333,
              "#9c179e"
             ],
             [
              0.4444444444444444,
              "#bd3786"
             ],
             [
              0.5555555555555556,
              "#d8576b"
             ],
             [
              0.6666666666666666,
              "#ed7953"
             ],
             [
              0.7777777777777778,
              "#fb9f3a"
             ],
             [
              0.8888888888888888,
              "#fdca26"
             ],
             [
              1,
              "#f0f921"
             ]
            ],
            "type": "histogram2d"
           }
          ],
          "histogram2dcontour": [
           {
            "colorbar": {
             "outlinewidth": 0,
             "ticks": ""
            },
            "colorscale": [
             [
              0,
              "#0d0887"
             ],
             [
              0.1111111111111111,
              "#46039f"
             ],
             [
              0.2222222222222222,
              "#7201a8"
             ],
             [
              0.3333333333333333,
              "#9c179e"
             ],
             [
              0.4444444444444444,
              "#bd3786"
             ],
             [
              0.5555555555555556,
              "#d8576b"
             ],
             [
              0.6666666666666666,
              "#ed7953"
             ],
             [
              0.7777777777777778,
              "#fb9f3a"
             ],
             [
              0.8888888888888888,
              "#fdca26"
             ],
             [
              1,
              "#f0f921"
             ]
            ],
            "type": "histogram2dcontour"
           }
          ],
          "mesh3d": [
           {
            "colorbar": {
             "outlinewidth": 0,
             "ticks": ""
            },
            "type": "mesh3d"
           }
          ],
          "parcoords": [
           {
            "line": {
             "colorbar": {
              "outlinewidth": 0,
              "ticks": ""
             }
            },
            "type": "parcoords"
           }
          ],
          "pie": [
           {
            "automargin": true,
            "type": "pie"
           }
          ],
          "scatter": [
           {
            "fillpattern": {
             "fillmode": "overlay",
             "size": 10,
             "solidity": 0.2
            },
            "type": "scatter"
           }
          ],
          "scatter3d": [
           {
            "line": {
             "colorbar": {
              "outlinewidth": 0,
              "ticks": ""
             }
            },
            "marker": {
             "colorbar": {
              "outlinewidth": 0,
              "ticks": ""
             }
            },
            "type": "scatter3d"
           }
          ],
          "scattercarpet": [
           {
            "marker": {
             "colorbar": {
              "outlinewidth": 0,
              "ticks": ""
             }
            },
            "type": "scattercarpet"
           }
          ],
          "scattergeo": [
           {
            "marker": {
             "colorbar": {
              "outlinewidth": 0,
              "ticks": ""
             }
            },
            "type": "scattergeo"
           }
          ],
          "scattergl": [
           {
            "marker": {
             "colorbar": {
              "outlinewidth": 0,
              "ticks": ""
             }
            },
            "type": "scattergl"
           }
          ],
          "scattermapbox": [
           {
            "marker": {
             "colorbar": {
              "outlinewidth": 0,
              "ticks": ""
             }
            },
            "type": "scattermapbox"
           }
          ],
          "scatterpolar": [
           {
            "marker": {
             "colorbar": {
              "outlinewidth": 0,
              "ticks": ""
             }
            },
            "type": "scatterpolar"
           }
          ],
          "scatterpolargl": [
           {
            "marker": {
             "colorbar": {
              "outlinewidth": 0,
              "ticks": ""
             }
            },
            "type": "scatterpolargl"
           }
          ],
          "scatterternary": [
           {
            "marker": {
             "colorbar": {
              "outlinewidth": 0,
              "ticks": ""
             }
            },
            "type": "scatterternary"
           }
          ],
          "surface": [
           {
            "colorbar": {
             "outlinewidth": 0,
             "ticks": ""
            },
            "colorscale": [
             [
              0,
              "#0d0887"
             ],
             [
              0.1111111111111111,
              "#46039f"
             ],
             [
              0.2222222222222222,
              "#7201a8"
             ],
             [
              0.3333333333333333,
              "#9c179e"
             ],
             [
              0.4444444444444444,
              "#bd3786"
             ],
             [
              0.5555555555555556,
              "#d8576b"
             ],
             [
              0.6666666666666666,
              "#ed7953"
             ],
             [
              0.7777777777777778,
              "#fb9f3a"
             ],
             [
              0.8888888888888888,
              "#fdca26"
             ],
             [
              1,
              "#f0f921"
             ]
            ],
            "type": "surface"
           }
          ],
          "table": [
           {
            "cells": {
             "fill": {
              "color": "#EBF0F8"
             },
             "line": {
              "color": "white"
             }
            },
            "header": {
             "fill": {
              "color": "#C8D4E3"
             },
             "line": {
              "color": "white"
             }
            },
            "type": "table"
           }
          ]
         },
         "layout": {
          "annotationdefaults": {
           "arrowcolor": "#2a3f5f",
           "arrowhead": 0,
           "arrowwidth": 1
          },
          "autotypenumbers": "strict",
          "coloraxis": {
           "colorbar": {
            "outlinewidth": 0,
            "ticks": ""
           }
          },
          "colorscale": {
           "diverging": [
            [
             0,
             "#8e0152"
            ],
            [
             0.1,
             "#c51b7d"
            ],
            [
             0.2,
             "#de77ae"
            ],
            [
             0.3,
             "#f1b6da"
            ],
            [
             0.4,
             "#fde0ef"
            ],
            [
             0.5,
             "#f7f7f7"
            ],
            [
             0.6,
             "#e6f5d0"
            ],
            [
             0.7,
             "#b8e186"
            ],
            [
             0.8,
             "#7fbc41"
            ],
            [
             0.9,
             "#4d9221"
            ],
            [
             1,
             "#276419"
            ]
           ],
           "sequential": [
            [
             0,
             "#0d0887"
            ],
            [
             0.1111111111111111,
             "#46039f"
            ],
            [
             0.2222222222222222,
             "#7201a8"
            ],
            [
             0.3333333333333333,
             "#9c179e"
            ],
            [
             0.4444444444444444,
             "#bd3786"
            ],
            [
             0.5555555555555556,
             "#d8576b"
            ],
            [
             0.6666666666666666,
             "#ed7953"
            ],
            [
             0.7777777777777778,
             "#fb9f3a"
            ],
            [
             0.8888888888888888,
             "#fdca26"
            ],
            [
             1,
             "#f0f921"
            ]
           ],
           "sequentialminus": [
            [
             0,
             "#0d0887"
            ],
            [
             0.1111111111111111,
             "#46039f"
            ],
            [
             0.2222222222222222,
             "#7201a8"
            ],
            [
             0.3333333333333333,
             "#9c179e"
            ],
            [
             0.4444444444444444,
             "#bd3786"
            ],
            [
             0.5555555555555556,
             "#d8576b"
            ],
            [
             0.6666666666666666,
             "#ed7953"
            ],
            [
             0.7777777777777778,
             "#fb9f3a"
            ],
            [
             0.8888888888888888,
             "#fdca26"
            ],
            [
             1,
             "#f0f921"
            ]
           ]
          },
          "colorway": [
           "#636efa",
           "#EF553B",
           "#00cc96",
           "#ab63fa",
           "#FFA15A",
           "#19d3f3",
           "#FF6692",
           "#B6E880",
           "#FF97FF",
           "#FECB52"
          ],
          "font": {
           "color": "#2a3f5f"
          },
          "geo": {
           "bgcolor": "white",
           "lakecolor": "white",
           "landcolor": "#E5ECF6",
           "showlakes": true,
           "showland": true,
           "subunitcolor": "white"
          },
          "hoverlabel": {
           "align": "left"
          },
          "hovermode": "closest",
          "mapbox": {
           "style": "light"
          },
          "paper_bgcolor": "white",
          "plot_bgcolor": "#E5ECF6",
          "polar": {
           "angularaxis": {
            "gridcolor": "white",
            "linecolor": "white",
            "ticks": ""
           },
           "bgcolor": "#E5ECF6",
           "radialaxis": {
            "gridcolor": "white",
            "linecolor": "white",
            "ticks": ""
           }
          },
          "scene": {
           "xaxis": {
            "backgroundcolor": "#E5ECF6",
            "gridcolor": "white",
            "gridwidth": 2,
            "linecolor": "white",
            "showbackground": true,
            "ticks": "",
            "zerolinecolor": "white"
           },
           "yaxis": {
            "backgroundcolor": "#E5ECF6",
            "gridcolor": "white",
            "gridwidth": 2,
            "linecolor": "white",
            "showbackground": true,
            "ticks": "",
            "zerolinecolor": "white"
           },
           "zaxis": {
            "backgroundcolor": "#E5ECF6",
            "gridcolor": "white",
            "gridwidth": 2,
            "linecolor": "white",
            "showbackground": true,
            "ticks": "",
            "zerolinecolor": "white"
           }
          },
          "shapedefaults": {
           "line": {
            "color": "#2a3f5f"
           }
          },
          "ternary": {
           "aaxis": {
            "gridcolor": "white",
            "linecolor": "white",
            "ticks": ""
           },
           "baxis": {
            "gridcolor": "white",
            "linecolor": "white",
            "ticks": ""
           },
           "bgcolor": "#E5ECF6",
           "caxis": {
            "gridcolor": "white",
            "linecolor": "white",
            "ticks": ""
           }
          },
          "title": {
           "x": 0.05
          },
          "xaxis": {
           "automargin": true,
           "gridcolor": "white",
           "linecolor": "white",
           "ticks": "",
           "title": {
            "standoff": 15
           },
           "zerolinecolor": "white",
           "zerolinewidth": 2
          },
          "yaxis": {
           "automargin": true,
           "gridcolor": "white",
           "linecolor": "white",
           "ticks": "",
           "title": {
            "standoff": 15
           },
           "zerolinecolor": "white",
           "zerolinewidth": 2
          }
         }
        },
        "title": {
         "text": "Cumulative proportion of all models by accessibility over time",
         "x": 0.2
        },
        "width": 800,
        "xaxis": {
         "anchor": "y",
         "domain": [
          0,
          1
         ],
         "range": [
          2018,
          2024
         ],
         "title": {
          "text": "Year"
         }
        },
        "yaxis": {
         "anchor": "x",
         "domain": [
          0,
          1
         ],
         "range": [
          0,
          1
         ],
         "title": {
          "text": "Proportion"
         }
        }
       }
      }
     },
     "metadata": {},
     "output_type": "display_data"
    }
   ],
   "source": [
    "fig = px.area(normalized_counts_total, x='Year', y='proportion', color='Model accessibility', line_group='Model accessibility',\n",
    "              labels={'proportion': 'Proportion', 'Year': 'Year'},\n",
    "              title='Cumulative proportion of all models by accessibility over time')\n",
    "\n",
    "fig.update_yaxes(range=[0, 1])\n",
    "fig.update_xaxes(range=[2018, 2024])\n",
    "fig.update_layout(\n",
    "    autosize=False,\n",
    "    width=800,\n",
    "    height=600,\n",
    "    title_x=0.2,\n",
    ")\n",
    "# save_plot(fig, results_dir, f'proportion_by_accessibility')\n",
    "fig.show()"
   ]
  },
  {
   "cell_type": "markdown",
   "metadata": {},
   "source": [
    "# Code vs Model Accessibility"
   ]
  },
  {
   "cell_type": "code",
   "execution_count": 21,
   "metadata": {},
   "outputs": [
    {
     "name": "stdout",
     "output_type": "stream",
     "text": [
      "There are 116 models with marked code access and unmarked code access\n"
     ]
    }
   ],
   "source": [
    "print(f\"There are {len(access_df[access_df['Code accessibility'].isna()])} models with marked code access and unmarked code access\")"
   ]
  },
  {
   "cell_type": "code",
   "execution_count": 22,
   "metadata": {},
   "outputs": [],
   "source": [
    "# filter for code accessibility\n",
    "code_df = access_df.dropna(subset=['Code accessibility'])"
   ]
  },
  {
   "cell_type": "code",
   "execution_count": 23,
   "metadata": {},
   "outputs": [
    {
     "data": {
      "text/html": [
       "<div>\n",
       "<style scoped>\n",
       "    .dataframe tbody tr th:only-of-type {\n",
       "        vertical-align: middle;\n",
       "    }\n",
       "\n",
       "    .dataframe tbody tr th {\n",
       "        vertical-align: top;\n",
       "    }\n",
       "\n",
       "    .dataframe thead th {\n",
       "        text-align: right;\n",
       "    }\n",
       "</style>\n",
       "<table border=\"1\" class=\"dataframe\">\n",
       "  <thead>\n",
       "    <tr style=\"text-align: right;\">\n",
       "      <th></th>\n",
       "      <th>System</th>\n",
       "      <th>Domain</th>\n",
       "      <th>Task</th>\n",
       "      <th>Authors</th>\n",
       "      <th>Notability criteria</th>\n",
       "      <th>Notability criteria notes</th>\n",
       "      <th>Model accessibility</th>\n",
       "      <th>Link</th>\n",
       "      <th>Citations</th>\n",
       "      <th>Reference</th>\n",
       "      <th>...</th>\n",
       "      <th>Utilization notes</th>\n",
       "      <th>Estimated over 1e25 FLOP</th>\n",
       "      <th>Power per GPU</th>\n",
       "      <th>Cluster total TDP</th>\n",
       "      <th>Base model compute</th>\n",
       "      <th>Difference</th>\n",
       "      <th>Difference (share)</th>\n",
       "      <th>Model open/closed</th>\n",
       "      <th>Code open/closed</th>\n",
       "      <th>Year</th>\n",
       "    </tr>\n",
       "  </thead>\n",
       "  <tbody>\n",
       "    <tr>\n",
       "      <th>0</th>\n",
       "      <td>Gemini 1.0 Ultra</td>\n",
       "      <td>Multimodal,Language,Vision</td>\n",
       "      <td>Language modelling,Visual question answering,C...</td>\n",
       "      <td>Gemini Team</td>\n",
       "      <td>SOTA improvement,Training cost</td>\n",
       "      <td>\" Evaluation on a broad range of benchmarks sh...</td>\n",
       "      <td>Hosted access (no API)</td>\n",
       "      <td>https://storage.googleapis.com/deepmind-media/...</td>\n",
       "      <td>633.0</td>\n",
       "      <td>Gemini: A Family of Highly Capable Multimodal ...</td>\n",
       "      <td>...</td>\n",
       "      <td>NaN</td>\n",
       "      <td>NaN</td>\n",
       "      <td>192.0</td>\n",
       "      <td>10560000</td>\n",
       "      <td>NaN</td>\n",
       "      <td>5.000000e+25</td>\n",
       "      <td>100%</td>\n",
       "      <td>Closed</td>\n",
       "      <td>Closed</td>\n",
       "      <td>2023</td>\n",
       "    </tr>\n",
       "    <tr>\n",
       "      <th>1</th>\n",
       "      <td>Llama 3.1-405B</td>\n",
       "      <td>Language</td>\n",
       "      <td>Language modelling/generation</td>\n",
       "      <td>Abhimanyu Dubey, Abhinav Jauhri, Abhinav Pande...</td>\n",
       "      <td>SOTA improvement,Training cost</td>\n",
       "      <td>High training compute, exceeds 4o and Claude 3...</td>\n",
       "      <td>Open access (restricted use)</td>\n",
       "      <td>https://ai.meta.com/research/publications/the-...</td>\n",
       "      <td>NaN</td>\n",
       "      <td>The Llama 3 Herd of Models</td>\n",
       "      <td>...</td>\n",
       "      <td>NaN</td>\n",
       "      <td>NaN</td>\n",
       "      <td>700.0</td>\n",
       "      <td>0</td>\n",
       "      <td>NaN</td>\n",
       "      <td>3.800000e+25</td>\n",
       "      <td>100%</td>\n",
       "      <td>Open</td>\n",
       "      <td>Open</td>\n",
       "      <td>2024</td>\n",
       "    </tr>\n",
       "    <tr>\n",
       "      <th>2</th>\n",
       "      <td>GPT-4</td>\n",
       "      <td>Multimodal,Language,Vision,Image generation</td>\n",
       "      <td>Language modelling</td>\n",
       "      <td>OpenAI, Josh Achiam, Steven Adler, Sandhini Ag...</td>\n",
       "      <td>Highly cited,SOTA improvement,Training cost</td>\n",
       "      <td>See the paper, p.1: \"On a suite of traditional...</td>\n",
       "      <td>API access</td>\n",
       "      <td>https://arxiv.org/abs/2303.08774</td>\n",
       "      <td>5290.0</td>\n",
       "      <td>GPT-4 Technical Report</td>\n",
       "      <td>...</td>\n",
       "      <td>(Speculative) SemiAnalysis conjectures that GP...</td>\n",
       "      <td>NaN</td>\n",
       "      <td>400.0</td>\n",
       "      <td>10000000</td>\n",
       "      <td>NaN</td>\n",
       "      <td>2.100000e+25</td>\n",
       "      <td>100%</td>\n",
       "      <td>Closed</td>\n",
       "      <td>Closed</td>\n",
       "      <td>2023</td>\n",
       "    </tr>\n",
       "    <tr>\n",
       "      <th>3</th>\n",
       "      <td>Mistral Large</td>\n",
       "      <td>Language</td>\n",
       "      <td>Chat</td>\n",
       "      <td>NaN</td>\n",
       "      <td>Training cost</td>\n",
       "      <td>~$20M training cost: https://www.wsj.com/tech/...</td>\n",
       "      <td>API access</td>\n",
       "      <td>https://mistral.ai/news/mistral-large/</td>\n",
       "      <td>NaN</td>\n",
       "      <td>Mistral Large, our new flagship model</td>\n",
       "      <td>...</td>\n",
       "      <td>NaN</td>\n",
       "      <td>NaN</td>\n",
       "      <td>350.0</td>\n",
       "      <td>0</td>\n",
       "      <td>NaN</td>\n",
       "      <td>2.000000e+25</td>\n",
       "      <td>100%</td>\n",
       "      <td>Closed</td>\n",
       "      <td>Closed</td>\n",
       "      <td>2024</td>\n",
       "    </tr>\n",
       "    <tr>\n",
       "      <th>4</th>\n",
       "      <td>Nemotron-4 340B</td>\n",
       "      <td>Language</td>\n",
       "      <td>Language modelling/generation,Chat</td>\n",
       "      <td>Bo Adler, Niket Agarwal, Ashwath Aithal, Dong ...</td>\n",
       "      <td>Training cost</td>\n",
       "      <td>~2e25 FLOP, so high training cost, likely &gt;5M</td>\n",
       "      <td>Open source</td>\n",
       "      <td>https://blogs.nvidia.com/blog/nemotron-4-synth...</td>\n",
       "      <td>NaN</td>\n",
       "      <td>NVIDIA Releases Open Synthetic Data Generation...</td>\n",
       "      <td>...</td>\n",
       "      <td>NaN</td>\n",
       "      <td>NaN</td>\n",
       "      <td>700.0</td>\n",
       "      <td>0</td>\n",
       "      <td>NaN</td>\n",
       "      <td>1.800000e+25</td>\n",
       "      <td>100%</td>\n",
       "      <td>Open</td>\n",
       "      <td>Closed</td>\n",
       "      <td>2024</td>\n",
       "    </tr>\n",
       "    <tr>\n",
       "      <th>5</th>\n",
       "      <td>MegaScale (Production)</td>\n",
       "      <td>Language</td>\n",
       "      <td>Language modelling/generation</td>\n",
       "      <td>Ziheng Jiang, Haibin Lin, Yinmin Zhong, Qi Hua...</td>\n",
       "      <td>SOTA improvement</td>\n",
       "      <td>Improves SOTA in FLOP utilization for distribu...</td>\n",
       "      <td>Unreleased</td>\n",
       "      <td>https://arxiv.org/abs/2402.15627</td>\n",
       "      <td>10.0</td>\n",
       "      <td>MegaScale: Scaling Large Language Model Traini...</td>\n",
       "      <td>...</td>\n",
       "      <td>NaN</td>\n",
       "      <td>NaN</td>\n",
       "      <td>400.0</td>\n",
       "      <td>4915200</td>\n",
       "      <td>NaN</td>\n",
       "      <td>1.200000e+25</td>\n",
       "      <td>100%</td>\n",
       "      <td>Closed</td>\n",
       "      <td>Closed</td>\n",
       "      <td>2024</td>\n",
       "    </tr>\n",
       "    <tr>\n",
       "      <th>6</th>\n",
       "      <td>Inflection-2</td>\n",
       "      <td>Language</td>\n",
       "      <td>Language modelling,Language modelling/generati...</td>\n",
       "      <td>NaN</td>\n",
       "      <td>Significant use,Training cost</td>\n",
       "      <td>Inflection-2 either already powers Pi or soon ...</td>\n",
       "      <td>Hosted access (no API)</td>\n",
       "      <td>https://inflection.ai/inflection-2</td>\n",
       "      <td>NaN</td>\n",
       "      <td>Inflection-2: The Next Step Up</td>\n",
       "      <td>...</td>\n",
       "      <td>NaN</td>\n",
       "      <td>NaN</td>\n",
       "      <td>700.0</td>\n",
       "      <td>3500000</td>\n",
       "      <td>NaN</td>\n",
       "      <td>1.001000e+25</td>\n",
       "      <td>100%</td>\n",
       "      <td>Closed</td>\n",
       "      <td>Closed</td>\n",
       "      <td>2023</td>\n",
       "    </tr>\n",
       "    <tr>\n",
       "      <th>7</th>\n",
       "      <td>Inflection-2.5</td>\n",
       "      <td>Language</td>\n",
       "      <td>Chat</td>\n",
       "      <td>NaN</td>\n",
       "      <td>Significant use</td>\n",
       "      <td>one million daily users; six million monthly</td>\n",
       "      <td>Hosted access (no API)</td>\n",
       "      <td>https://inflection.ai/inflection-2-5</td>\n",
       "      <td>NaN</td>\n",
       "      <td>Inflection-2.5: meet the world's best personal AI</td>\n",
       "      <td>...</td>\n",
       "      <td>NaN</td>\n",
       "      <td>NaN</td>\n",
       "      <td>700.0</td>\n",
       "      <td>0</td>\n",
       "      <td>NaN</td>\n",
       "      <td>1.000100e+25</td>\n",
       "      <td>100%</td>\n",
       "      <td>Closed</td>\n",
       "      <td>Closed</td>\n",
       "      <td>2024</td>\n",
       "    </tr>\n",
       "  </tbody>\n",
       "</table>\n",
       "<p>8 rows × 71 columns</p>\n",
       "</div>"
      ],
      "text/plain": [
       "                   System                                       Domain  \\\n",
       "0        Gemini 1.0 Ultra                   Multimodal,Language,Vision   \n",
       "1          Llama 3.1-405B                                     Language   \n",
       "2                   GPT-4  Multimodal,Language,Vision,Image generation   \n",
       "3           Mistral Large                                     Language   \n",
       "4         Nemotron-4 340B                                     Language   \n",
       "5  MegaScale (Production)                                     Language   \n",
       "6            Inflection-2                                     Language   \n",
       "7          Inflection-2.5                                     Language   \n",
       "\n",
       "                                                Task  \\\n",
       "0  Language modelling,Visual question answering,C...   \n",
       "1                      Language modelling/generation   \n",
       "2                                 Language modelling   \n",
       "3                                               Chat   \n",
       "4                 Language modelling/generation,Chat   \n",
       "5                      Language modelling/generation   \n",
       "6  Language modelling,Language modelling/generati...   \n",
       "7                                               Chat   \n",
       "\n",
       "                                             Authors  \\\n",
       "0                                        Gemini Team   \n",
       "1  Abhimanyu Dubey, Abhinav Jauhri, Abhinav Pande...   \n",
       "2  OpenAI, Josh Achiam, Steven Adler, Sandhini Ag...   \n",
       "3                                                NaN   \n",
       "4  Bo Adler, Niket Agarwal, Ashwath Aithal, Dong ...   \n",
       "5  Ziheng Jiang, Haibin Lin, Yinmin Zhong, Qi Hua...   \n",
       "6                                                NaN   \n",
       "7                                                NaN   \n",
       "\n",
       "                           Notability criteria  \\\n",
       "0               SOTA improvement,Training cost   \n",
       "1               SOTA improvement,Training cost   \n",
       "2  Highly cited,SOTA improvement,Training cost   \n",
       "3                                Training cost   \n",
       "4                                Training cost   \n",
       "5                             SOTA improvement   \n",
       "6                Significant use,Training cost   \n",
       "7                              Significant use   \n",
       "\n",
       "                           Notability criteria notes  \\\n",
       "0  \" Evaluation on a broad range of benchmarks sh...   \n",
       "1  High training compute, exceeds 4o and Claude 3...   \n",
       "2  See the paper, p.1: \"On a suite of traditional...   \n",
       "3  ~$20M training cost: https://www.wsj.com/tech/...   \n",
       "4      ~2e25 FLOP, so high training cost, likely >5M   \n",
       "5  Improves SOTA in FLOP utilization for distribu...   \n",
       "6  Inflection-2 either already powers Pi or soon ...   \n",
       "7       one million daily users; six million monthly   \n",
       "\n",
       "            Model accessibility  \\\n",
       "0        Hosted access (no API)   \n",
       "1  Open access (restricted use)   \n",
       "2                    API access   \n",
       "3                    API access   \n",
       "4                   Open source   \n",
       "5                    Unreleased   \n",
       "6        Hosted access (no API)   \n",
       "7        Hosted access (no API)   \n",
       "\n",
       "                                                Link  Citations  \\\n",
       "0  https://storage.googleapis.com/deepmind-media/...      633.0   \n",
       "1  https://ai.meta.com/research/publications/the-...        NaN   \n",
       "2                   https://arxiv.org/abs/2303.08774     5290.0   \n",
       "3             https://mistral.ai/news/mistral-large/        NaN   \n",
       "4  https://blogs.nvidia.com/blog/nemotron-4-synth...        NaN   \n",
       "5                   https://arxiv.org/abs/2402.15627       10.0   \n",
       "6                 https://inflection.ai/inflection-2        NaN   \n",
       "7               https://inflection.ai/inflection-2-5        NaN   \n",
       "\n",
       "                                           Reference  ...  \\\n",
       "0  Gemini: A Family of Highly Capable Multimodal ...  ...   \n",
       "1                         The Llama 3 Herd of Models  ...   \n",
       "2                             GPT-4 Technical Report  ...   \n",
       "3              Mistral Large, our new flagship model  ...   \n",
       "4  NVIDIA Releases Open Synthetic Data Generation...  ...   \n",
       "5  MegaScale: Scaling Large Language Model Traini...  ...   \n",
       "6                     Inflection-2: The Next Step Up  ...   \n",
       "7  Inflection-2.5: meet the world's best personal AI  ...   \n",
       "\n",
       "                                   Utilization notes Estimated over 1e25 FLOP  \\\n",
       "0                                                NaN                      NaN   \n",
       "1                                                NaN                      NaN   \n",
       "2  (Speculative) SemiAnalysis conjectures that GP...                      NaN   \n",
       "3                                                NaN                      NaN   \n",
       "4                                                NaN                      NaN   \n",
       "5                                                NaN                      NaN   \n",
       "6                                                NaN                      NaN   \n",
       "7                                                NaN                      NaN   \n",
       "\n",
       "   Power per GPU Cluster total TDP  Base model compute    Difference  \\\n",
       "0          192.0          10560000                 NaN  5.000000e+25   \n",
       "1          700.0                 0                 NaN  3.800000e+25   \n",
       "2          400.0          10000000                 NaN  2.100000e+25   \n",
       "3          350.0                 0                 NaN  2.000000e+25   \n",
       "4          700.0                 0                 NaN  1.800000e+25   \n",
       "5          400.0           4915200                 NaN  1.200000e+25   \n",
       "6          700.0           3500000                 NaN  1.001000e+25   \n",
       "7          700.0                 0                 NaN  1.000100e+25   \n",
       "\n",
       "  Difference (share) Model open/closed  Code open/closed  Year  \n",
       "0               100%            Closed            Closed  2023  \n",
       "1               100%              Open              Open  2024  \n",
       "2               100%            Closed            Closed  2023  \n",
       "3               100%            Closed            Closed  2024  \n",
       "4               100%              Open            Closed  2024  \n",
       "5               100%            Closed            Closed  2024  \n",
       "6               100%            Closed            Closed  2023  \n",
       "7               100%            Closed            Closed  2024  \n",
       "\n",
       "[8 rows x 71 columns]"
      ]
     },
     "execution_count": 23,
     "metadata": {},
     "output_type": "execute_result"
    }
   ],
   "source": [
    "code_df.head(8)"
   ]
  },
  {
   "cell_type": "code",
   "execution_count": 24,
   "metadata": {},
   "outputs": [
    {
     "data": {
      "text/html": [
       "<div>\n",
       "<style scoped>\n",
       "    .dataframe tbody tr th:only-of-type {\n",
       "        vertical-align: middle;\n",
       "    }\n",
       "\n",
       "    .dataframe tbody tr th {\n",
       "        vertical-align: top;\n",
       "    }\n",
       "\n",
       "    .dataframe thead th {\n",
       "        text-align: right;\n",
       "    }\n",
       "</style>\n",
       "<table border=\"1\" class=\"dataframe\">\n",
       "  <thead>\n",
       "    <tr style=\"text-align: right;\">\n",
       "      <th></th>\n",
       "      <th>Model accessibility</th>\n",
       "      <th>Counts</th>\n",
       "    </tr>\n",
       "  </thead>\n",
       "  <tbody>\n",
       "    <tr>\n",
       "      <th>0</th>\n",
       "      <td>API access</td>\n",
       "      <td>36</td>\n",
       "    </tr>\n",
       "    <tr>\n",
       "      <th>1</th>\n",
       "      <td>Hosted access (no API)</td>\n",
       "      <td>21</td>\n",
       "    </tr>\n",
       "    <tr>\n",
       "      <th>2</th>\n",
       "      <td>Open access (non-commercial)</td>\n",
       "      <td>76</td>\n",
       "    </tr>\n",
       "    <tr>\n",
       "      <th>3</th>\n",
       "      <td>Open access (restricted use)</td>\n",
       "      <td>55</td>\n",
       "    </tr>\n",
       "    <tr>\n",
       "      <th>4</th>\n",
       "      <td>Open source</td>\n",
       "      <td>269</td>\n",
       "    </tr>\n",
       "    <tr>\n",
       "      <th>5</th>\n",
       "      <td>Unreleased</td>\n",
       "      <td>420</td>\n",
       "    </tr>\n",
       "  </tbody>\n",
       "</table>\n",
       "</div>"
      ],
      "text/plain": [
       "            Model accessibility  Counts\n",
       "0                    API access      36\n",
       "1        Hosted access (no API)      21\n",
       "2  Open access (non-commercial)      76\n",
       "3  Open access (restricted use)      55\n",
       "4                   Open source     269\n",
       "5                    Unreleased     420"
      ]
     },
     "execution_count": 24,
     "metadata": {},
     "output_type": "execute_result"
    }
   ],
   "source": [
    "model_counts = code_df.groupby('Model accessibility').size().reset_index(name='Counts')\n",
    "model_counts"
   ]
  },
  {
   "cell_type": "code",
   "execution_count": 25,
   "metadata": {},
   "outputs": [
    {
     "data": {
      "text/html": [
       "<div>\n",
       "<style scoped>\n",
       "    .dataframe tbody tr th:only-of-type {\n",
       "        vertical-align: middle;\n",
       "    }\n",
       "\n",
       "    .dataframe tbody tr th {\n",
       "        vertical-align: top;\n",
       "    }\n",
       "\n",
       "    .dataframe thead th {\n",
       "        text-align: right;\n",
       "    }\n",
       "</style>\n",
       "<table border=\"1\" class=\"dataframe\">\n",
       "  <thead>\n",
       "    <tr style=\"text-align: right;\">\n",
       "      <th></th>\n",
       "      <th>Code accessibility</th>\n",
       "      <th>Counts</th>\n",
       "    </tr>\n",
       "  </thead>\n",
       "  <tbody>\n",
       "    <tr>\n",
       "      <th>0</th>\n",
       "      <td>Open access (non-commercial)</td>\n",
       "      <td>77</td>\n",
       "    </tr>\n",
       "    <tr>\n",
       "      <th>1</th>\n",
       "      <td>Open access (restricted use)</td>\n",
       "      <td>8</td>\n",
       "    </tr>\n",
       "    <tr>\n",
       "      <th>2</th>\n",
       "      <td>Open source</td>\n",
       "      <td>339</td>\n",
       "    </tr>\n",
       "    <tr>\n",
       "      <th>3</th>\n",
       "      <td>Unreleased</td>\n",
       "      <td>453</td>\n",
       "    </tr>\n",
       "  </tbody>\n",
       "</table>\n",
       "</div>"
      ],
      "text/plain": [
       "             Code accessibility  Counts\n",
       "0  Open access (non-commercial)      77\n",
       "1  Open access (restricted use)       8\n",
       "2                   Open source     339\n",
       "3                    Unreleased     453"
      ]
     },
     "execution_count": 25,
     "metadata": {},
     "output_type": "execute_result"
    }
   ],
   "source": [
    "code_counts = code_df.groupby('Code accessibility').size().reset_index(name='Counts')\n",
    "code_counts"
   ]
  },
  {
   "cell_type": "code",
   "execution_count": 27,
   "metadata": {},
   "outputs": [
    {
     "data": {
      "text/html": [
       "<div>\n",
       "<style scoped>\n",
       "    .dataframe tbody tr th:only-of-type {\n",
       "        vertical-align: middle;\n",
       "    }\n",
       "\n",
       "    .dataframe tbody tr th {\n",
       "        vertical-align: top;\n",
       "    }\n",
       "\n",
       "    .dataframe thead th {\n",
       "        text-align: right;\n",
       "    }\n",
       "</style>\n",
       "<table border=\"1\" class=\"dataframe\">\n",
       "  <thead>\n",
       "    <tr style=\"text-align: right;\">\n",
       "      <th>Code accessibility</th>\n",
       "      <th>Open access (non-commercial)</th>\n",
       "      <th>Open access (restricted use)</th>\n",
       "      <th>Open source</th>\n",
       "      <th>Unreleased</th>\n",
       "    </tr>\n",
       "    <tr>\n",
       "      <th>Model accessibility</th>\n",
       "      <th></th>\n",
       "      <th></th>\n",
       "      <th></th>\n",
       "      <th></th>\n",
       "    </tr>\n",
       "  </thead>\n",
       "  <tbody>\n",
       "    <tr>\n",
       "      <th>API access</th>\n",
       "      <td>0.0</td>\n",
       "      <td>0.0</td>\n",
       "      <td>0.0</td>\n",
       "      <td>36.0</td>\n",
       "    </tr>\n",
       "    <tr>\n",
       "      <th>Hosted access (no API)</th>\n",
       "      <td>1.0</td>\n",
       "      <td>0.0</td>\n",
       "      <td>1.0</td>\n",
       "      <td>19.0</td>\n",
       "    </tr>\n",
       "    <tr>\n",
       "      <th>Open access (non-commercial)</th>\n",
       "      <td>38.0</td>\n",
       "      <td>1.0</td>\n",
       "      <td>16.0</td>\n",
       "      <td>21.0</td>\n",
       "    </tr>\n",
       "    <tr>\n",
       "      <th>Open access (restricted use)</th>\n",
       "      <td>0.0</td>\n",
       "      <td>5.0</td>\n",
       "      <td>14.0</td>\n",
       "      <td>36.0</td>\n",
       "    </tr>\n",
       "    <tr>\n",
       "      <th>Open source</th>\n",
       "      <td>2.0</td>\n",
       "      <td>1.0</td>\n",
       "      <td>199.0</td>\n",
       "      <td>67.0</td>\n",
       "    </tr>\n",
       "    <tr>\n",
       "      <th>Unreleased</th>\n",
       "      <td>36.0</td>\n",
       "      <td>1.0</td>\n",
       "      <td>109.0</td>\n",
       "      <td>274.0</td>\n",
       "    </tr>\n",
       "  </tbody>\n",
       "</table>\n",
       "</div>"
      ],
      "text/plain": [
       "Code accessibility            Open access (non-commercial)  \\\n",
       "Model accessibility                                          \n",
       "API access                                             0.0   \n",
       "Hosted access (no API)                                 1.0   \n",
       "Open access (non-commercial)                          38.0   \n",
       "Open access (restricted use)                           0.0   \n",
       "Open source                                            2.0   \n",
       "Unreleased                                            36.0   \n",
       "\n",
       "Code accessibility            Open access (restricted use)  Open source  \\\n",
       "Model accessibility                                                       \n",
       "API access                                             0.0          0.0   \n",
       "Hosted access (no API)                                 0.0          1.0   \n",
       "Open access (non-commercial)                           1.0         16.0   \n",
       "Open access (restricted use)                           5.0         14.0   \n",
       "Open source                                            1.0        199.0   \n",
       "Unreleased                                             1.0        109.0   \n",
       "\n",
       "Code accessibility            Unreleased  \n",
       "Model accessibility                       \n",
       "API access                          36.0  \n",
       "Hosted access (no API)              19.0  \n",
       "Open access (non-commercial)        21.0  \n",
       "Open access (restricted use)        36.0  \n",
       "Open source                         67.0  \n",
       "Unreleased                         274.0  "
      ]
     },
     "execution_count": 27,
     "metadata": {},
     "output_type": "execute_result"
    }
   ],
   "source": [
    "grouped_counts = code_df.groupby(['Model accessibility', 'Code accessibility']).size().reset_index(name='Counts')\n",
    "pivoted = grouped_counts.pivot(index='Model accessibility', columns='Code accessibility', values='Counts').fillna(0)\n",
    "\n",
    "# code access against model access\n",
    "pivoted"
   ]
  },
  {
   "cell_type": "code",
   "execution_count": 28,
   "metadata": {},
   "outputs": [
    {
     "data": {
      "text/html": [
       "<div>\n",
       "<style scoped>\n",
       "    .dataframe tbody tr th:only-of-type {\n",
       "        vertical-align: middle;\n",
       "    }\n",
       "\n",
       "    .dataframe tbody tr th {\n",
       "        vertical-align: top;\n",
       "    }\n",
       "\n",
       "    .dataframe thead th {\n",
       "        text-align: right;\n",
       "    }\n",
       "</style>\n",
       "<table border=\"1\" class=\"dataframe\">\n",
       "  <thead>\n",
       "    <tr style=\"text-align: right;\">\n",
       "      <th>Code open/closed</th>\n",
       "      <th>Closed</th>\n",
       "      <th>Open</th>\n",
       "    </tr>\n",
       "    <tr>\n",
       "      <th>Model open/closed</th>\n",
       "      <th></th>\n",
       "      <th></th>\n",
       "    </tr>\n",
       "  </thead>\n",
       "  <tbody>\n",
       "    <tr>\n",
       "      <th>Closed</th>\n",
       "      <td>329</td>\n",
       "      <td>148</td>\n",
       "    </tr>\n",
       "    <tr>\n",
       "      <th>Open</th>\n",
       "      <td>124</td>\n",
       "      <td>276</td>\n",
       "    </tr>\n",
       "  </tbody>\n",
       "</table>\n",
       "</div>"
      ],
      "text/plain": [
       "Code open/closed   Closed  Open\n",
       "Model open/closed              \n",
       "Closed                329   148\n",
       "Open                  124   276"
      ]
     },
     "execution_count": 28,
     "metadata": {},
     "output_type": "execute_result"
    }
   ],
   "source": [
    "model_code_counts = code_df.groupby(['Model open/closed', 'Code open/closed']).size().reset_index(name='Counts')\n",
    "model_code_counts = model_code_counts.pivot(index='Model open/closed', columns='Code open/closed', values='Counts')\n",
    "\n",
    "# code open vs model open\n",
    "model_code_counts"
   ]
  },
  {
   "cell_type": "code",
   "execution_count": 29,
   "metadata": {},
   "outputs": [
    {
     "data": {
      "image/png": "[encoded data removed]",
      "text/plain": [
       "<Figure size 1000x600 with 1 Axes>"
      ]
     },
     "metadata": {},
     "output_type": "display_data"
    }
   ],
   "source": [
    "ax = model_code_counts.plot(kind='bar', figsize=(10, 6), width=0.8)\n",
    "\n",
    "# Customize the chart\n",
    "plt.title('Model open/closed vs Code open/closed for all systems')\n",
    "plt.ylabel('Count')\n",
    "\n",
    "\n",
    "# Add value labels on the bars\n",
    "for container in ax.containers:\n",
    "    ax.bar_label(container, label_type='center')\n",
    "\n",
    "# Adjust layout and display the chart\n",
    "plt.tight_layout()\n",
    "plt.show()"
   ]
  },
  {
   "cell_type": "code",
   "execution_count": 43,
   "metadata": {},
   "outputs": [
    {
     "data": {
      "application/vnd.plotly.v1+json": {
       "config": {
        "plotlyServerURL": "https://plot.ly"
       },
       "data": [
        {
         "colorscale": [
          [
           0,
           "rgb(247,251,255)"
          ],
          [
           0.125,
           "rgb(222,235,247)"
          ],
          [
           0.25,
           "rgb(198,219,239)"
          ],
          [
           0.375,
           "rgb(158,202,225)"
          ],
          [
           0.5,
           "rgb(107,174,214)"
          ],
          [
           0.625,
           "rgb(66,146,198)"
          ],
          [
           0.75,
           "rgb(33,113,181)"
          ],
          [
           0.875,
           "rgb(8,81,156)"
          ],
          [
           1,
           "rgb(8,48,107)"
          ]
         ],
         "hoverongaps": false,
         "text": [
          [
           329,
           148
          ],
          [
           124,
           275
          ]
         ],
         "textfont": {
          "size": 20
         },
         "texttemplate": "%{text}",
         "type": "heatmap",
         "x": [
          "Closed",
          "Open"
         ],
         "y": [
          "Closed",
          "Open"
         ],
         "z": [
          [
           329,
           148
          ],
          [
           124,
           276
          ]
         ]
        }
       ],
       "layout": {
        "autosize": false,
        "height": 300,
        "template": {
         "data": {
          "bar": [
           {
            "error_x": {
             "color": "#2a3f5f"
            },
            "error_y": {
             "color": "#2a3f5f"
            },
            "marker": {
             "line": {
              "color": "#E5ECF6",
              "width": 0.5
             },
             "pattern": {
              "fillmode": "overlay",
              "size": 10,
              "solidity": 0.2
             }
            },
            "type": "bar"
           }
          ],
          "barpolar": [
           {
            "marker": {
             "line": {
              "color": "#E5ECF6",
              "width": 0.5
             },
             "pattern": {
              "fillmode": "overlay",
              "size": 10,
              "solidity": 0.2
             }
            },
            "type": "barpolar"
           }
          ],
          "carpet": [
           {
            "aaxis": {
             "endlinecolor": "#2a3f5f",
             "gridcolor": "white",
             "linecolor": "white",
             "minorgridcolor": "white",
             "startlinecolor": "#2a3f5f"
            },
            "baxis": {
             "endlinecolor": "#2a3f5f",
             "gridcolor": "white",
             "linecolor": "white",
             "minorgridcolor": "white",
             "startlinecolor": "#2a3f5f"
            },
            "type": "carpet"
           }
          ],
          "choropleth": [
           {
            "colorbar": {
             "outlinewidth": 0,
             "ticks": ""
            },
            "type": "choropleth"
           }
          ],
          "contour": [
           {
            "colorbar": {
             "outlinewidth": 0,
             "ticks": ""
            },
            "colorscale": [
             [
              0,
              "#0d0887"
             ],
             [
              0.1111111111111111,
              "#46039f"
             ],
             [
              0.2222222222222222,
              "#7201a8"
             ],
             [
              0.3333333333333333,
              "#9c179e"
             ],
             [
              0.4444444444444444,
              "#bd3786"
             ],
             [
              0.5555555555555556,
              "#d8576b"
             ],
             [
              0.6666666666666666,
              "#ed7953"
             ],
             [
              0.7777777777777778,
              "#fb9f3a"
             ],
             [
              0.8888888888888888,
              "#fdca26"
             ],
             [
              1,
              "#f0f921"
             ]
            ],
            "type": "contour"
           }
          ],
          "contourcarpet": [
           {
            "colorbar": {
             "outlinewidth": 0,
             "ticks": ""
            },
            "type": "contourcarpet"
           }
          ],
          "heatmap": [
           {
            "colorbar": {
             "outlinewidth": 0,
             "ticks": ""
            },
            "colorscale": [
             [
              0,
              "#0d0887"
             ],
             [
              0.1111111111111111,
              "#46039f"
             ],
             [
              0.2222222222222222,
              "#7201a8"
             ],
             [
              0.3333333333333333,
              "#9c179e"
             ],
             [
              0.4444444444444444,
              "#bd3786"
             ],
             [
              0.5555555555555556,
              "#d8576b"
             ],
             [
              0.6666666666666666,
              "#ed7953"
             ],
             [
              0.7777777777777778,
              "#fb9f3a"
             ],
             [
              0.8888888888888888,
              "#fdca26"
             ],
             [
              1,
              "#f0f921"
             ]
            ],
            "type": "heatmap"
           }
          ],
          "heatmapgl": [
           {
            "colorbar": {
             "outlinewidth": 0,
             "ticks": ""
            },
            "colorscale": [
             [
              0,
              "#0d0887"
             ],
             [
              0.1111111111111111,
              "#46039f"
             ],
             [
              0.2222222222222222,
              "#7201a8"
             ],
             [
              0.3333333333333333,
              "#9c179e"
             ],
             [
              0.4444444444444444,
              "#bd3786"
             ],
             [
              0.5555555555555556,
              "#d8576b"
             ],
             [
              0.6666666666666666,
              "#ed7953"
             ],
             [
              0.7777777777777778,
              "#fb9f3a"
             ],
             [
              0.8888888888888888,
              "#fdca26"
             ],
             [
              1,
              "#f0f921"
             ]
            ],
            "type": "heatmapgl"
           }
          ],
          "histogram": [
           {
            "marker": {
             "pattern": {
              "fillmode": "overlay",
              "size": 10,
              "solidity": 0.2
             }
            },
            "type": "histogram"
           }
          ],
          "histogram2d": [
           {
            "colorbar": {
             "outlinewidth": 0,
             "ticks": ""
            },
            "colorscale": [
             [
              0,
              "#0d0887"
             ],
             [
              0.1111111111111111,
              "#46039f"
             ],
             [
              0.2222222222222222,
              "#7201a8"
             ],
             [
              0.3333333333333333,
              "#9c179e"
             ],
             [
              0.4444444444444444,
              "#bd3786"
             ],
             [
              0.5555555555555556,
              "#d8576b"
             ],
             [
              0.6666666666666666,
              "#ed7953"
             ],
             [
              0.7777777777777778,
              "#fb9f3a"
             ],
             [
              0.8888888888888888,
              "#fdca26"
             ],
             [
              1,
              "#f0f921"
             ]
            ],
            "type": "histogram2d"
           }
          ],
          "histogram2dcontour": [
           {
            "colorbar": {
             "outlinewidth": 0,
             "ticks": ""
            },
            "colorscale": [
             [
              0,
              "#0d0887"
             ],
             [
              0.1111111111111111,
              "#46039f"
             ],
             [
              0.2222222222222222,
              "#7201a8"
             ],
             [
              0.3333333333333333,
              "#9c179e"
             ],
             [
              0.4444444444444444,
              "#bd3786"
             ],
             [
              0.5555555555555556,
              "#d8576b"
             ],
             [
              0.6666666666666666,
              "#ed7953"
             ],
             [
              0.7777777777777778,
              "#fb9f3a"
             ],
             [
              0.8888888888888888,
              "#fdca26"
             ],
             [
              1,
              "#f0f921"
             ]
            ],
            "type": "histogram2dcontour"
           }
          ],
          "mesh3d": [
           {
            "colorbar": {
             "outlinewidth": 0,
             "ticks": ""
            },
            "type": "mesh3d"
           }
          ],
          "parcoords": [
           {
            "line": {
             "colorbar": {
              "outlinewidth": 0,
              "ticks": ""
             }
            },
            "type": "parcoords"
           }
          ],
          "pie": [
           {
            "automargin": true,
            "type": "pie"
           }
          ],
          "scatter": [
           {
            "fillpattern": {
             "fillmode": "overlay",
             "size": 10,
             "solidity": 0.2
            },
            "type": "scatter"
           }
          ],
          "scatter3d": [
           {
            "line": {
             "colorbar": {
              "outlinewidth": 0,
              "ticks": ""
             }
            },
            "marker": {
             "colorbar": {
              "outlinewidth": 0,
              "ticks": ""
             }
            },
            "type": "scatter3d"
           }
          ],
          "scattercarpet": [
           {
            "marker": {
             "colorbar": {
              "outlinewidth": 0,
              "ticks": ""
             }
            },
            "type": "scattercarpet"
           }
          ],
          "scattergeo": [
           {
            "marker": {
             "colorbar": {
              "outlinewidth": 0,
              "ticks": ""
             }
            },
            "type": "scattergeo"
           }
          ],
          "scattergl": [
           {
            "marker": {
             "colorbar": {
              "outlinewidth": 0,
              "ticks": ""
             }
            },
            "type": "scattergl"
           }
          ],
          "scattermapbox": [
           {
            "marker": {
             "colorbar": {
              "outlinewidth": 0,
              "ticks": ""
             }
            },
            "type": "scattermapbox"
           }
          ],
          "scatterpolar": [
           {
            "marker": {
             "colorbar": {
              "outlinewidth": 0,
              "ticks": ""
             }
            },
            "type": "scatterpolar"
           }
          ],
          "scatterpolargl": [
           {
            "marker": {
             "colorbar": {
              "outlinewidth": 0,
              "ticks": ""
             }
            },
            "type": "scatterpolargl"
           }
          ],
          "scatterternary": [
           {
            "marker": {
             "colorbar": {
              "outlinewidth": 0,
              "ticks": ""
             }
            },
            "type": "scatterternary"
           }
          ],
          "surface": [
           {
            "colorbar": {
             "outlinewidth": 0,
             "ticks": ""
            },
            "colorscale": [
             [
              0,
              "#0d0887"
             ],
             [
              0.1111111111111111,
              "#46039f"
             ],
             [
              0.2222222222222222,
              "#7201a8"
             ],
             [
              0.3333333333333333,
              "#9c179e"
             ],
             [
              0.4444444444444444,
              "#bd3786"
             ],
             [
              0.5555555555555556,
              "#d8576b"
             ],
             [
              0.6666666666666666,
              "#ed7953"
             ],
             [
              0.7777777777777778,
              "#fb9f3a"
             ],
             [
              0.8888888888888888,
              "#fdca26"
             ],
             [
              1,
              "#f0f921"
             ]
            ],
            "type": "surface"
           }
          ],
          "table": [
           {
            "cells": {
             "fill": {
              "color": "#EBF0F8"
             },
             "line": {
              "color": "white"
             }
            },
            "header": {
             "fill": {
              "color": "#C8D4E3"
             },
             "line": {
              "color": "white"
             }
            },
            "type": "table"
           }
          ]
         },
         "layout": {
          "annotationdefaults": {
           "arrowcolor": "#2a3f5f",
           "arrowhead": 0,
           "arrowwidth": 1
          },
          "autotypenumbers": "strict",
          "coloraxis": {
           "colorbar": {
            "outlinewidth": 0,
            "ticks": ""
           }
          },
          "colorscale": {
           "diverging": [
            [
             0,
             "#8e0152"
            ],
            [
             0.1,
             "#c51b7d"
            ],
            [
             0.2,
             "#de77ae"
            ],
            [
             0.3,
             "#f1b6da"
            ],
            [
             0.4,
             "#fde0ef"
            ],
            [
             0.5,
             "#f7f7f7"
            ],
            [
             0.6,
             "#e6f5d0"
            ],
            [
             0.7,
             "#b8e186"
            ],
            [
             0.8,
             "#7fbc41"
            ],
            [
             0.9,
             "#4d9221"
            ],
            [
             1,
             "#276419"
            ]
           ],
           "sequential": [
            [
             0,
             "#0d0887"
            ],
            [
             0.1111111111111111,
             "#46039f"
            ],
            [
             0.2222222222222222,
             "#7201a8"
            ],
            [
             0.3333333333333333,
             "#9c179e"
            ],
            [
             0.4444444444444444,
             "#bd3786"
            ],
            [
             0.5555555555555556,
             "#d8576b"
            ],
            [
             0.6666666666666666,
             "#ed7953"
            ],
            [
             0.7777777777777778,
             "#fb9f3a"
            ],
            [
             0.8888888888888888,
             "#fdca26"
            ],
            [
             1,
             "#f0f921"
            ]
           ],
           "sequentialminus": [
            [
             0,
             "#0d0887"
            ],
            [
             0.1111111111111111,
             "#46039f"
            ],
            [
             0.2222222222222222,
             "#7201a8"
            ],
            [
             0.3333333333333333,
             "#9c179e"
            ],
            [
             0.4444444444444444,
             "#bd3786"
            ],
            [
             0.5555555555555556,
             "#d8576b"
            ],
            [
             0.6666666666666666,
             "#ed7953"
            ],
            [
             0.7777777777777778,
             "#fb9f3a"
            ],
            [
             0.8888888888888888,
             "#fdca26"
            ],
            [
             1,
             "#f0f921"
            ]
           ]
          },
          "colorway": [
           "#636efa",
           "#EF553B",
           "#00cc96",
           "#ab63fa",
           "#FFA15A",
           "#19d3f3",
           "#FF6692",
           "#B6E880",
           "#FF97FF",
           "#FECB52"
          ],
          "font": {
           "color": "#2a3f5f"
          },
          "geo": {
           "bgcolor": "white",
           "lakecolor": "white",
           "landcolor": "#E5ECF6",
           "showlakes": true,
           "showland": true,
           "subunitcolor": "white"
          },
          "hoverlabel": {
           "align": "left"
          },
          "hovermode": "closest",
          "mapbox": {
           "style": "light"
          },
          "paper_bgcolor": "white",
          "plot_bgcolor": "#E5ECF6",
          "polar": {
           "angularaxis": {
            "gridcolor": "white",
            "linecolor": "white",
            "ticks": ""
           },
           "bgcolor": "#E5ECF6",
           "radialaxis": {
            "gridcolor": "white",
            "linecolor": "white",
            "ticks": ""
           }
          },
          "scene": {
           "xaxis": {
            "backgroundcolor": "#E5ECF6",
            "gridcolor": "white",
            "gridwidth": 2,
            "linecolor": "white",
            "showbackground": true,
            "ticks": "",
            "zerolinecolor": "white"
           },
           "yaxis": {
            "backgroundcolor": "#E5ECF6",
            "gridcolor": "white",
            "gridwidth": 2,
            "linecolor": "white",
            "showbackground": true,
            "ticks": "",
            "zerolinecolor": "white"
           },
           "zaxis": {
            "backgroundcolor": "#E5ECF6",
            "gridcolor": "white",
            "gridwidth": 2,
            "linecolor": "white",
            "showbackground": true,
            "ticks": "",
            "zerolinecolor": "white"
           }
          },
          "shapedefaults": {
           "line": {
            "color": "#2a3f5f"
           }
          },
          "ternary": {
           "aaxis": {
            "gridcolor": "white",
            "linecolor": "white",
            "ticks": ""
           },
           "baxis": {
            "gridcolor": "white",
            "linecolor": "white",
            "ticks": ""
           },
           "bgcolor": "#E5ECF6",
           "caxis": {
            "gridcolor": "white",
            "linecolor": "white",
            "ticks": ""
           }
          },
          "title": {
           "x": 0.05
          },
          "xaxis": {
           "automargin": true,
           "gridcolor": "white",
           "linecolor": "white",
           "ticks": "",
           "title": {
            "standoff": 15
           },
           "zerolinecolor": "white",
           "zerolinewidth": 2
          },
          "yaxis": {
           "automargin": true,
           "gridcolor": "white",
           "linecolor": "white",
           "ticks": "",
           "title": {
            "standoff": 15
           },
           "zerolinecolor": "white",
           "zerolinewidth": 2
          }
         }
        },
        "title": {
         "text": "Model and training code accessibility"
        },
        "width": 400,
        "xaxis": {
         "title": {
          "text": "Code open/closed"
         }
        },
        "yaxis": {
         "title": {
          "text": "Model open/closed"
         }
        }
       }
      }
     },
     "metadata": {},
     "output_type": "display_data"
    }
   ],
   "source": [
    "import plotly.graph_objects as go\n",
    "\n",
    "# Data\n",
    "z = [[329, 148],\n",
    "     [124, 275]]\n",
    "\n",
    "fig = go.Figure(data=go.Heatmap(\n",
    "    z=model_code_counts.values,\n",
    "    x=model_code_counts.columns,\n",
    "    y=model_code_counts.index,\n",
    "    hoverongaps = False,\n",
    "    text=z,\n",
    "    texttemplate=\"%{text}\",\n",
    "    textfont={\"size\":20},\n",
    "    colorscale='Blues'\n",
    "))\n",
    "\n",
    "fig.update_layout(\n",
    "    autosize=False,\n",
    "    width=400,\n",
    "    height=300,\n",
    "    title='Model and training code accessibility',\n",
    "    xaxis_title='Code open/closed',\n",
    "    yaxis_title='Model open/closed'\n",
    ")\n",
    "\n",
    "save_plot(fig, results_dir, f'model_code_accessibility_heatmap')\n",
    "\n",
    "fig.show()"
   ]
  },
  {
   "cell_type": "markdown",
   "metadata": {},
   "source": [
    "Model openness and code openness are reasonably correlated - most closed-weight models have closed code, while somewhat more open models have open code than closed code. This also applies across the other direction - most closed code models have closed weights, most open code models have open weights."
   ]
  },
  {
   "cell_type": "code",
   "execution_count": 31,
   "metadata": {
    "tags": []
   },
   "outputs": [
    {
     "data": {
      "image/png": "[encoded data removed]",
      "text/plain": [
       "<Figure size 1000x600 with 1 Axes>"
      ]
     },
     "metadata": {},
     "output_type": "display_data"
    }
   ],
   "source": [
    "notable_code_df = code_df.loc[(code_df['Notability criteria'].notna())]\n",
    "\n",
    "notable_open_counts = notable_code_df.groupby(['Model open/closed', 'Code open/closed']).size().reset_index(name='Counts')\n",
    "notable_open_counts = notable_open_counts.pivot(index='Model open/closed', columns='Code open/closed', values='Counts')\n",
    "\n",
    "ax = notable_open_counts.plot(kind='bar', figsize=(10, 6), width=0.8)\n",
    "\n",
    "plt.title('Model open/closed vs Code open/closed for notable systems')\n",
    "plt.ylabel('Count')\n",
    "\n",
    "for container in ax.containers:\n",
    "    ax.bar_label(container, label_type='center')\n",
    "\n",
    "plt.tight_layout()\n",
    "plt.show()"
   ]
  },
  {
   "cell_type": "code",
   "execution_count": 32,
   "metadata": {},
   "outputs": [
    {
     "data": {
      "text/html": [
       "<div>\n",
       "<style scoped>\n",
       "    .dataframe tbody tr th:only-of-type {\n",
       "        vertical-align: middle;\n",
       "    }\n",
       "\n",
       "    .dataframe tbody tr th {\n",
       "        vertical-align: top;\n",
       "    }\n",
       "\n",
       "    .dataframe thead th {\n",
       "        text-align: right;\n",
       "    }\n",
       "</style>\n",
       "<table border=\"1\" class=\"dataframe\">\n",
       "  <thead>\n",
       "    <tr style=\"text-align: right;\">\n",
       "      <th></th>\n",
       "      <th>Year</th>\n",
       "      <th>Model open/closed</th>\n",
       "      <th>Code open/closed</th>\n",
       "      <th>Count</th>\n",
       "      <th>Cumulative</th>\n",
       "    </tr>\n",
       "  </thead>\n",
       "  <tbody>\n",
       "    <tr>\n",
       "      <th>0</th>\n",
       "      <td>2015</td>\n",
       "      <td>Closed</td>\n",
       "      <td>Closed</td>\n",
       "      <td>5</td>\n",
       "      <td>5</td>\n",
       "    </tr>\n",
       "    <tr>\n",
       "      <th>1</th>\n",
       "      <td>2015</td>\n",
       "      <td>Closed</td>\n",
       "      <td>Open</td>\n",
       "      <td>1</td>\n",
       "      <td>1</td>\n",
       "    </tr>\n",
       "    <tr>\n",
       "      <th>2</th>\n",
       "      <td>2015</td>\n",
       "      <td>Open</td>\n",
       "      <td>Open</td>\n",
       "      <td>2</td>\n",
       "      <td>2</td>\n",
       "    </tr>\n",
       "    <tr>\n",
       "      <th>3</th>\n",
       "      <td>2016</td>\n",
       "      <td>Closed</td>\n",
       "      <td>Closed</td>\n",
       "      <td>18</td>\n",
       "      <td>23</td>\n",
       "    </tr>\n",
       "    <tr>\n",
       "      <th>4</th>\n",
       "      <td>2016</td>\n",
       "      <td>Closed</td>\n",
       "      <td>Open</td>\n",
       "      <td>2</td>\n",
       "      <td>3</td>\n",
       "    </tr>\n",
       "    <tr>\n",
       "      <th>5</th>\n",
       "      <td>2016</td>\n",
       "      <td>Open</td>\n",
       "      <td>Open</td>\n",
       "      <td>2</td>\n",
       "      <td>4</td>\n",
       "    </tr>\n",
       "    <tr>\n",
       "      <th>6</th>\n",
       "      <td>2017</td>\n",
       "      <td>Closed</td>\n",
       "      <td>Closed</td>\n",
       "      <td>15</td>\n",
       "      <td>38</td>\n",
       "    </tr>\n",
       "    <tr>\n",
       "      <th>7</th>\n",
       "      <td>2017</td>\n",
       "      <td>Closed</td>\n",
       "      <td>Open</td>\n",
       "      <td>13</td>\n",
       "      <td>16</td>\n",
       "    </tr>\n",
       "    <tr>\n",
       "      <th>8</th>\n",
       "      <td>2017</td>\n",
       "      <td>Open</td>\n",
       "      <td>Open</td>\n",
       "      <td>1</td>\n",
       "      <td>5</td>\n",
       "    </tr>\n",
       "    <tr>\n",
       "      <th>9</th>\n",
       "      <td>2018</td>\n",
       "      <td>Closed</td>\n",
       "      <td>Closed</td>\n",
       "      <td>32</td>\n",
       "      <td>70</td>\n",
       "    </tr>\n",
       "  </tbody>\n",
       "</table>\n",
       "</div>"
      ],
      "text/plain": [
       "   Year Model open/closed Code open/closed  Count  Cumulative\n",
       "0  2015            Closed           Closed      5           5\n",
       "1  2015            Closed             Open      1           1\n",
       "2  2015              Open             Open      2           2\n",
       "3  2016            Closed           Closed     18          23\n",
       "4  2016            Closed             Open      2           3\n",
       "5  2016              Open             Open      2           4\n",
       "6  2017            Closed           Closed     15          38\n",
       "7  2017            Closed             Open     13          16\n",
       "8  2017              Open             Open      1           5\n",
       "9  2018            Closed           Closed     32          70"
      ]
     },
     "execution_count": 32,
     "metadata": {},
     "output_type": "execute_result"
    }
   ],
   "source": [
    "open_counts = code_df.loc[code_df['Year'] >= 2015].groupby(['Year', 'Model open/closed', 'Code open/closed']).size().reset_index(name='Count')\n",
    "\n",
    "open_counts['Cumulative'] = open_counts.groupby(['Model open/closed', 'Code open/closed'])['Count'].cumsum()\n",
    "\n",
    "open_counts.head(10)"
   ]
  },
  {
   "cell_type": "code",
   "execution_count": 33,
   "metadata": {},
   "outputs": [
    {
     "data": {
      "text/html": [
       "<div>\n",
       "<style scoped>\n",
       "    .dataframe tbody tr th:only-of-type {\n",
       "        vertical-align: middle;\n",
       "    }\n",
       "\n",
       "    .dataframe tbody tr th {\n",
       "        vertical-align: top;\n",
       "    }\n",
       "\n",
       "    .dataframe thead th {\n",
       "        text-align: right;\n",
       "    }\n",
       "</style>\n",
       "<table border=\"1\" class=\"dataframe\">\n",
       "  <thead>\n",
       "    <tr style=\"text-align: right;\">\n",
       "      <th></th>\n",
       "      <th>Year</th>\n",
       "      <th>Yearly Total</th>\n",
       "      <th>Cumulative Total</th>\n",
       "    </tr>\n",
       "  </thead>\n",
       "  <tbody>\n",
       "    <tr>\n",
       "      <th>0</th>\n",
       "      <td>2015</td>\n",
       "      <td>8</td>\n",
       "      <td>8</td>\n",
       "    </tr>\n",
       "    <tr>\n",
       "      <th>1</th>\n",
       "      <td>2016</td>\n",
       "      <td>22</td>\n",
       "      <td>30</td>\n",
       "    </tr>\n",
       "    <tr>\n",
       "      <th>2</th>\n",
       "      <td>2017</td>\n",
       "      <td>29</td>\n",
       "      <td>59</td>\n",
       "    </tr>\n",
       "    <tr>\n",
       "      <th>3</th>\n",
       "      <td>2018</td>\n",
       "      <td>65</td>\n",
       "      <td>124</td>\n",
       "    </tr>\n",
       "    <tr>\n",
       "      <th>4</th>\n",
       "      <td>2019</td>\n",
       "      <td>138</td>\n",
       "      <td>262</td>\n",
       "    </tr>\n",
       "    <tr>\n",
       "      <th>5</th>\n",
       "      <td>2020</td>\n",
       "      <td>91</td>\n",
       "      <td>353</td>\n",
       "    </tr>\n",
       "    <tr>\n",
       "      <th>6</th>\n",
       "      <td>2021</td>\n",
       "      <td>137</td>\n",
       "      <td>490</td>\n",
       "    </tr>\n",
       "    <tr>\n",
       "      <th>7</th>\n",
       "      <td>2022</td>\n",
       "      <td>117</td>\n",
       "      <td>607</td>\n",
       "    </tr>\n",
       "    <tr>\n",
       "      <th>8</th>\n",
       "      <td>2023</td>\n",
       "      <td>188</td>\n",
       "      <td>795</td>\n",
       "    </tr>\n",
       "    <tr>\n",
       "      <th>9</th>\n",
       "      <td>2024</td>\n",
       "      <td>63</td>\n",
       "      <td>858</td>\n",
       "    </tr>\n",
       "  </tbody>\n",
       "</table>\n",
       "</div>"
      ],
      "text/plain": [
       "   Year  Yearly Total  Cumulative Total\n",
       "0  2015             8                 8\n",
       "1  2016            22                30\n",
       "2  2017            29                59\n",
       "3  2018            65               124\n",
       "4  2019           138               262\n",
       "5  2020            91               353\n",
       "6  2021           137               490\n",
       "7  2022           117               607\n",
       "8  2023           188               795\n",
       "9  2024            63               858"
      ]
     },
     "execution_count": 33,
     "metadata": {},
     "output_type": "execute_result"
    }
   ],
   "source": [
    "total_counts = open_counts.groupby('Year')['Count'].sum().reset_index(name='Yearly Total')\n",
    "total_counts['Cumulative Total'] = total_counts['Yearly Total'].cumsum()\n",
    "total_counts"
   ]
  },
  {
   "cell_type": "code",
   "execution_count": 34,
   "metadata": {},
   "outputs": [
    {
     "data": {
      "text/html": [
       "<div>\n",
       "<style scoped>\n",
       "    .dataframe tbody tr th:only-of-type {\n",
       "        vertical-align: middle;\n",
       "    }\n",
       "\n",
       "    .dataframe tbody tr th {\n",
       "        vertical-align: top;\n",
       "    }\n",
       "\n",
       "    .dataframe thead tr th {\n",
       "        text-align: left;\n",
       "    }\n",
       "</style>\n",
       "<table border=\"1\" class=\"dataframe\">\n",
       "  <thead>\n",
       "    <tr>\n",
       "      <th>Model open/closed</th>\n",
       "      <th>Year</th>\n",
       "      <th colspan=\"2\" halign=\"left\">Closed</th>\n",
       "      <th colspan=\"2\" halign=\"left\">Open</th>\n",
       "    </tr>\n",
       "    <tr>\n",
       "      <th>Code open/closed</th>\n",
       "      <th></th>\n",
       "      <th>Closed</th>\n",
       "      <th>Open</th>\n",
       "      <th>Open</th>\n",
       "      <th>Closed</th>\n",
       "    </tr>\n",
       "  </thead>\n",
       "  <tbody>\n",
       "    <tr>\n",
       "      <th>0</th>\n",
       "      <td>2015</td>\n",
       "      <td>5.0</td>\n",
       "      <td>1.0</td>\n",
       "      <td>2.0</td>\n",
       "      <td>0.0</td>\n",
       "    </tr>\n",
       "    <tr>\n",
       "      <th>1</th>\n",
       "      <td>2016</td>\n",
       "      <td>18.0</td>\n",
       "      <td>2.0</td>\n",
       "      <td>2.0</td>\n",
       "      <td>0.0</td>\n",
       "    </tr>\n",
       "    <tr>\n",
       "      <th>2</th>\n",
       "      <td>2017</td>\n",
       "      <td>15.0</td>\n",
       "      <td>13.0</td>\n",
       "      <td>1.0</td>\n",
       "      <td>0.0</td>\n",
       "    </tr>\n",
       "    <tr>\n",
       "      <th>3</th>\n",
       "      <td>2018</td>\n",
       "      <td>32.0</td>\n",
       "      <td>11.0</td>\n",
       "      <td>21.0</td>\n",
       "      <td>1.0</td>\n",
       "    </tr>\n",
       "    <tr>\n",
       "      <th>4</th>\n",
       "      <td>2019</td>\n",
       "      <td>56.0</td>\n",
       "      <td>36.0</td>\n",
       "      <td>37.0</td>\n",
       "      <td>9.0</td>\n",
       "    </tr>\n",
       "    <tr>\n",
       "      <th>5</th>\n",
       "      <td>2020</td>\n",
       "      <td>40.0</td>\n",
       "      <td>15.0</td>\n",
       "      <td>30.0</td>\n",
       "      <td>6.0</td>\n",
       "    </tr>\n",
       "    <tr>\n",
       "      <th>6</th>\n",
       "      <td>2021</td>\n",
       "      <td>49.0</td>\n",
       "      <td>30.0</td>\n",
       "      <td>51.0</td>\n",
       "      <td>7.0</td>\n",
       "    </tr>\n",
       "    <tr>\n",
       "      <th>7</th>\n",
       "      <td>2022</td>\n",
       "      <td>30.0</td>\n",
       "      <td>21.0</td>\n",
       "      <td>48.0</td>\n",
       "      <td>18.0</td>\n",
       "    </tr>\n",
       "    <tr>\n",
       "      <th>8</th>\n",
       "      <td>2023</td>\n",
       "      <td>47.0</td>\n",
       "      <td>11.0</td>\n",
       "      <td>70.0</td>\n",
       "      <td>60.0</td>\n",
       "    </tr>\n",
       "    <tr>\n",
       "      <th>9</th>\n",
       "      <td>2024</td>\n",
       "      <td>22.0</td>\n",
       "      <td>4.0</td>\n",
       "      <td>14.0</td>\n",
       "      <td>23.0</td>\n",
       "    </tr>\n",
       "  </tbody>\n",
       "</table>\n",
       "</div>"
      ],
      "text/plain": [
       "Model open/closed  Year Closed        Open       \n",
       "Code open/closed        Closed  Open  Open Closed\n",
       "0                  2015    5.0   1.0   2.0    0.0\n",
       "1                  2016   18.0   2.0   2.0    0.0\n",
       "2                  2017   15.0  13.0   1.0    0.0\n",
       "3                  2018   32.0  11.0  21.0    1.0\n",
       "4                  2019   56.0  36.0  37.0    9.0\n",
       "5                  2020   40.0  15.0  30.0    6.0\n",
       "6                  2021   49.0  30.0  51.0    7.0\n",
       "7                  2022   30.0  21.0  48.0   18.0\n",
       "8                  2023   47.0  11.0  70.0   60.0\n",
       "9                  2024   22.0   4.0  14.0   23.0"
      ]
     },
     "execution_count": 34,
     "metadata": {},
     "output_type": "execute_result"
    }
   ],
   "source": [
    "open_counts_wide = open_counts.pivot(index='Year', columns=['Model open/closed', 'Code open/closed'], values='Count')\n",
    "open_counts_wide = open_counts_wide.fillna(0).reset_index()\n",
    "open_counts_wide"
   ]
  },
  {
   "cell_type": "code",
   "execution_count": 35,
   "metadata": {},
   "outputs": [
    {
     "name": "stdout",
     "output_type": "stream",
     "text": [
      "[('Year', ''), ('Closed', 'Closed'), ('Closed', 'Open'), ('Open', 'Open'), ('Open', 'Closed')]\n",
      "[None]\n"
     ]
    }
   ],
   "source": [
    "print(open_counts_wide.columns.to_list())\n",
    "print(open_counts_wide.index.names)"
   ]
  },
  {
   "cell_type": "code",
   "execution_count": 36,
   "metadata": {},
   "outputs": [
    {
     "data": {
      "text/html": [
       "<div>\n",
       "<style scoped>\n",
       "    .dataframe tbody tr th:only-of-type {\n",
       "        vertical-align: middle;\n",
       "    }\n",
       "\n",
       "    .dataframe tbody tr th {\n",
       "        vertical-align: top;\n",
       "    }\n",
       "\n",
       "    .dataframe thead th {\n",
       "        text-align: right;\n",
       "    }\n",
       "</style>\n",
       "<table border=\"1\" class=\"dataframe\">\n",
       "  <thead>\n",
       "    <tr style=\"text-align: right;\">\n",
       "      <th></th>\n",
       "      <th>Year</th>\n",
       "      <th>Model Closed Code Closed</th>\n",
       "      <th>Model Closed Code Open</th>\n",
       "      <th>Model Open Code Open</th>\n",
       "      <th>Model Open Code Closed</th>\n",
       "    </tr>\n",
       "  </thead>\n",
       "  <tbody>\n",
       "    <tr>\n",
       "      <th>0</th>\n",
       "      <td>2015</td>\n",
       "      <td>5.0</td>\n",
       "      <td>1.0</td>\n",
       "      <td>2.0</td>\n",
       "      <td>0.0</td>\n",
       "    </tr>\n",
       "    <tr>\n",
       "      <th>1</th>\n",
       "      <td>2016</td>\n",
       "      <td>18.0</td>\n",
       "      <td>2.0</td>\n",
       "      <td>2.0</td>\n",
       "      <td>0.0</td>\n",
       "    </tr>\n",
       "    <tr>\n",
       "      <th>2</th>\n",
       "      <td>2017</td>\n",
       "      <td>15.0</td>\n",
       "      <td>13.0</td>\n",
       "      <td>1.0</td>\n",
       "      <td>0.0</td>\n",
       "    </tr>\n",
       "    <tr>\n",
       "      <th>3</th>\n",
       "      <td>2018</td>\n",
       "      <td>32.0</td>\n",
       "      <td>11.0</td>\n",
       "      <td>21.0</td>\n",
       "      <td>1.0</td>\n",
       "    </tr>\n",
       "    <tr>\n",
       "      <th>4</th>\n",
       "      <td>2019</td>\n",
       "      <td>56.0</td>\n",
       "      <td>36.0</td>\n",
       "      <td>37.0</td>\n",
       "      <td>9.0</td>\n",
       "    </tr>\n",
       "    <tr>\n",
       "      <th>5</th>\n",
       "      <td>2020</td>\n",
       "      <td>40.0</td>\n",
       "      <td>15.0</td>\n",
       "      <td>30.0</td>\n",
       "      <td>6.0</td>\n",
       "    </tr>\n",
       "    <tr>\n",
       "      <th>6</th>\n",
       "      <td>2021</td>\n",
       "      <td>49.0</td>\n",
       "      <td>30.0</td>\n",
       "      <td>51.0</td>\n",
       "      <td>7.0</td>\n",
       "    </tr>\n",
       "    <tr>\n",
       "      <th>7</th>\n",
       "      <td>2022</td>\n",
       "      <td>30.0</td>\n",
       "      <td>21.0</td>\n",
       "      <td>48.0</td>\n",
       "      <td>18.0</td>\n",
       "    </tr>\n",
       "    <tr>\n",
       "      <th>8</th>\n",
       "      <td>2023</td>\n",
       "      <td>47.0</td>\n",
       "      <td>11.0</td>\n",
       "      <td>70.0</td>\n",
       "      <td>60.0</td>\n",
       "    </tr>\n",
       "    <tr>\n",
       "      <th>9</th>\n",
       "      <td>2024</td>\n",
       "      <td>22.0</td>\n",
       "      <td>4.0</td>\n",
       "      <td>14.0</td>\n",
       "      <td>23.0</td>\n",
       "    </tr>\n",
       "  </tbody>\n",
       "</table>\n",
       "</div>"
      ],
      "text/plain": [
       "   Year  Model Closed Code Closed  Model Closed Code Open  \\\n",
       "0  2015                       5.0                     1.0   \n",
       "1  2016                      18.0                     2.0   \n",
       "2  2017                      15.0                    13.0   \n",
       "3  2018                      32.0                    11.0   \n",
       "4  2019                      56.0                    36.0   \n",
       "5  2020                      40.0                    15.0   \n",
       "6  2021                      49.0                    30.0   \n",
       "7  2022                      30.0                    21.0   \n",
       "8  2023                      47.0                    11.0   \n",
       "9  2024                      22.0                     4.0   \n",
       "\n",
       "   Model Open Code Open  Model Open Code Closed  \n",
       "0                   2.0                     0.0  \n",
       "1                   2.0                     0.0  \n",
       "2                   1.0                     0.0  \n",
       "3                  21.0                     1.0  \n",
       "4                  37.0                     9.0  \n",
       "5                  30.0                     6.0  \n",
       "6                  51.0                     7.0  \n",
       "7                  48.0                    18.0  \n",
       "8                  70.0                    60.0  \n",
       "9                  14.0                    23.0  "
      ]
     },
     "execution_count": 36,
     "metadata": {},
     "output_type": "execute_result"
    }
   ],
   "source": [
    "# Convert pivoted multi-columns to single columns with clear names\n",
    "new_columns = ['Year'] + [f'Model {outer} Code {inner}' for outer, inner in open_counts_wide.columns[1:]]\n",
    "open_counts_wide.columns = new_columns\n",
    "\n",
    "open_counts_wide"
   ]
  },
  {
   "cell_type": "code",
   "execution_count": 37,
   "metadata": {},
   "outputs": [
    {
     "data": {
      "text/html": [
       "<div>\n",
       "<style scoped>\n",
       "    .dataframe tbody tr th:only-of-type {\n",
       "        vertical-align: middle;\n",
       "    }\n",
       "\n",
       "    .dataframe tbody tr th {\n",
       "        vertical-align: top;\n",
       "    }\n",
       "\n",
       "    .dataframe thead th {\n",
       "        text-align: right;\n",
       "    }\n",
       "</style>\n",
       "<table border=\"1\" class=\"dataframe\">\n",
       "  <thead>\n",
       "    <tr style=\"text-align: right;\">\n",
       "      <th></th>\n",
       "      <th>Year</th>\n",
       "      <th>Category</th>\n",
       "      <th>Count</th>\n",
       "    </tr>\n",
       "  </thead>\n",
       "  <tbody>\n",
       "    <tr>\n",
       "      <th>0</th>\n",
       "      <td>2015</td>\n",
       "      <td>Model Closed Code Closed</td>\n",
       "      <td>5.0</td>\n",
       "    </tr>\n",
       "    <tr>\n",
       "      <th>1</th>\n",
       "      <td>2016</td>\n",
       "      <td>Model Closed Code Closed</td>\n",
       "      <td>18.0</td>\n",
       "    </tr>\n",
       "    <tr>\n",
       "      <th>2</th>\n",
       "      <td>2017</td>\n",
       "      <td>Model Closed Code Closed</td>\n",
       "      <td>15.0</td>\n",
       "    </tr>\n",
       "    <tr>\n",
       "      <th>3</th>\n",
       "      <td>2018</td>\n",
       "      <td>Model Closed Code Closed</td>\n",
       "      <td>32.0</td>\n",
       "    </tr>\n",
       "    <tr>\n",
       "      <th>4</th>\n",
       "      <td>2019</td>\n",
       "      <td>Model Closed Code Closed</td>\n",
       "      <td>56.0</td>\n",
       "    </tr>\n",
       "    <tr>\n",
       "      <th>5</th>\n",
       "      <td>2020</td>\n",
       "      <td>Model Closed Code Closed</td>\n",
       "      <td>40.0</td>\n",
       "    </tr>\n",
       "    <tr>\n",
       "      <th>6</th>\n",
       "      <td>2021</td>\n",
       "      <td>Model Closed Code Closed</td>\n",
       "      <td>49.0</td>\n",
       "    </tr>\n",
       "    <tr>\n",
       "      <th>7</th>\n",
       "      <td>2022</td>\n",
       "      <td>Model Closed Code Closed</td>\n",
       "      <td>30.0</td>\n",
       "    </tr>\n",
       "    <tr>\n",
       "      <th>8</th>\n",
       "      <td>2023</td>\n",
       "      <td>Model Closed Code Closed</td>\n",
       "      <td>47.0</td>\n",
       "    </tr>\n",
       "    <tr>\n",
       "      <th>9</th>\n",
       "      <td>2024</td>\n",
       "      <td>Model Closed Code Closed</td>\n",
       "      <td>22.0</td>\n",
       "    </tr>\n",
       "    <tr>\n",
       "      <th>10</th>\n",
       "      <td>2015</td>\n",
       "      <td>Model Closed Code Open</td>\n",
       "      <td>1.0</td>\n",
       "    </tr>\n",
       "    <tr>\n",
       "      <th>11</th>\n",
       "      <td>2016</td>\n",
       "      <td>Model Closed Code Open</td>\n",
       "      <td>2.0</td>\n",
       "    </tr>\n",
       "    <tr>\n",
       "      <th>12</th>\n",
       "      <td>2017</td>\n",
       "      <td>Model Closed Code Open</td>\n",
       "      <td>13.0</td>\n",
       "    </tr>\n",
       "    <tr>\n",
       "      <th>13</th>\n",
       "      <td>2018</td>\n",
       "      <td>Model Closed Code Open</td>\n",
       "      <td>11.0</td>\n",
       "    </tr>\n",
       "    <tr>\n",
       "      <th>14</th>\n",
       "      <td>2019</td>\n",
       "      <td>Model Closed Code Open</td>\n",
       "      <td>36.0</td>\n",
       "    </tr>\n",
       "    <tr>\n",
       "      <th>15</th>\n",
       "      <td>2020</td>\n",
       "      <td>Model Closed Code Open</td>\n",
       "      <td>15.0</td>\n",
       "    </tr>\n",
       "    <tr>\n",
       "      <th>16</th>\n",
       "      <td>2021</td>\n",
       "      <td>Model Closed Code Open</td>\n",
       "      <td>30.0</td>\n",
       "    </tr>\n",
       "    <tr>\n",
       "      <th>17</th>\n",
       "      <td>2022</td>\n",
       "      <td>Model Closed Code Open</td>\n",
       "      <td>21.0</td>\n",
       "    </tr>\n",
       "    <tr>\n",
       "      <th>18</th>\n",
       "      <td>2023</td>\n",
       "      <td>Model Closed Code Open</td>\n",
       "      <td>11.0</td>\n",
       "    </tr>\n",
       "    <tr>\n",
       "      <th>19</th>\n",
       "      <td>2024</td>\n",
       "      <td>Model Closed Code Open</td>\n",
       "      <td>4.0</td>\n",
       "    </tr>\n",
       "  </tbody>\n",
       "</table>\n",
       "</div>"
      ],
      "text/plain": [
       "    Year                  Category  Count\n",
       "0   2015  Model Closed Code Closed    5.0\n",
       "1   2016  Model Closed Code Closed   18.0\n",
       "2   2017  Model Closed Code Closed   15.0\n",
       "3   2018  Model Closed Code Closed   32.0\n",
       "4   2019  Model Closed Code Closed   56.0\n",
       "5   2020  Model Closed Code Closed   40.0\n",
       "6   2021  Model Closed Code Closed   49.0\n",
       "7   2022  Model Closed Code Closed   30.0\n",
       "8   2023  Model Closed Code Closed   47.0\n",
       "9   2024  Model Closed Code Closed   22.0\n",
       "10  2015    Model Closed Code Open    1.0\n",
       "11  2016    Model Closed Code Open    2.0\n",
       "12  2017    Model Closed Code Open   13.0\n",
       "13  2018    Model Closed Code Open   11.0\n",
       "14  2019    Model Closed Code Open   36.0\n",
       "15  2020    Model Closed Code Open   15.0\n",
       "16  2021    Model Closed Code Open   30.0\n",
       "17  2022    Model Closed Code Open   21.0\n",
       "18  2023    Model Closed Code Open   11.0\n",
       "19  2024    Model Closed Code Open    4.0"
      ]
     },
     "execution_count": 37,
     "metadata": {},
     "output_type": "execute_result"
    }
   ],
   "source": [
    "# unpivot table to get the count of each 2x2 value for each year\n",
    "open_counts_filled = (open_counts_wide.melt(id_vars=['Year'], \n",
    "                                            var_name='Category',\n",
    "                                            value_name='Count')\n",
    "                                      .reset_index(drop=True))\n",
    "\n",
    "open_counts_filled.head(20)"
   ]
  },
  {
   "cell_type": "code",
   "execution_count": 38,
   "metadata": {},
   "outputs": [
    {
     "data": {
      "text/html": [
       "<div>\n",
       "<style scoped>\n",
       "    .dataframe tbody tr th:only-of-type {\n",
       "        vertical-align: middle;\n",
       "    }\n",
       "\n",
       "    .dataframe tbody tr th {\n",
       "        vertical-align: top;\n",
       "    }\n",
       "\n",
       "    .dataframe thead th {\n",
       "        text-align: right;\n",
       "    }\n",
       "</style>\n",
       "<table border=\"1\" class=\"dataframe\">\n",
       "  <thead>\n",
       "    <tr style=\"text-align: right;\">\n",
       "      <th></th>\n",
       "      <th>Year</th>\n",
       "      <th>Category</th>\n",
       "      <th>Count</th>\n",
       "      <th>Cumulative for Category</th>\n",
       "      <th>Yearly Total</th>\n",
       "      <th>Cumulative Total</th>\n",
       "      <th>proportion</th>\n",
       "    </tr>\n",
       "  </thead>\n",
       "  <tbody>\n",
       "    <tr>\n",
       "      <th>0</th>\n",
       "      <td>2015</td>\n",
       "      <td>Model Closed Code Closed</td>\n",
       "      <td>5.0</td>\n",
       "      <td>5.0</td>\n",
       "      <td>8</td>\n",
       "      <td>8</td>\n",
       "      <td>0.625000</td>\n",
       "    </tr>\n",
       "    <tr>\n",
       "      <th>1</th>\n",
       "      <td>2016</td>\n",
       "      <td>Model Closed Code Closed</td>\n",
       "      <td>18.0</td>\n",
       "      <td>23.0</td>\n",
       "      <td>22</td>\n",
       "      <td>30</td>\n",
       "      <td>0.766667</td>\n",
       "    </tr>\n",
       "    <tr>\n",
       "      <th>2</th>\n",
       "      <td>2017</td>\n",
       "      <td>Model Closed Code Closed</td>\n",
       "      <td>15.0</td>\n",
       "      <td>38.0</td>\n",
       "      <td>29</td>\n",
       "      <td>59</td>\n",
       "      <td>0.644068</td>\n",
       "    </tr>\n",
       "    <tr>\n",
       "      <th>3</th>\n",
       "      <td>2018</td>\n",
       "      <td>Model Closed Code Closed</td>\n",
       "      <td>32.0</td>\n",
       "      <td>70.0</td>\n",
       "      <td>65</td>\n",
       "      <td>124</td>\n",
       "      <td>0.564516</td>\n",
       "    </tr>\n",
       "    <tr>\n",
       "      <th>4</th>\n",
       "      <td>2019</td>\n",
       "      <td>Model Closed Code Closed</td>\n",
       "      <td>56.0</td>\n",
       "      <td>126.0</td>\n",
       "      <td>138</td>\n",
       "      <td>262</td>\n",
       "      <td>0.480916</td>\n",
       "    </tr>\n",
       "    <tr>\n",
       "      <th>5</th>\n",
       "      <td>2020</td>\n",
       "      <td>Model Closed Code Closed</td>\n",
       "      <td>40.0</td>\n",
       "      <td>166.0</td>\n",
       "      <td>91</td>\n",
       "      <td>353</td>\n",
       "      <td>0.470255</td>\n",
       "    </tr>\n",
       "    <tr>\n",
       "      <th>6</th>\n",
       "      <td>2021</td>\n",
       "      <td>Model Closed Code Closed</td>\n",
       "      <td>49.0</td>\n",
       "      <td>215.0</td>\n",
       "      <td>137</td>\n",
       "      <td>490</td>\n",
       "      <td>0.438776</td>\n",
       "    </tr>\n",
       "    <tr>\n",
       "      <th>7</th>\n",
       "      <td>2022</td>\n",
       "      <td>Model Closed Code Closed</td>\n",
       "      <td>30.0</td>\n",
       "      <td>245.0</td>\n",
       "      <td>117</td>\n",
       "      <td>607</td>\n",
       "      <td>0.403624</td>\n",
       "    </tr>\n",
       "    <tr>\n",
       "      <th>8</th>\n",
       "      <td>2023</td>\n",
       "      <td>Model Closed Code Closed</td>\n",
       "      <td>47.0</td>\n",
       "      <td>292.0</td>\n",
       "      <td>188</td>\n",
       "      <td>795</td>\n",
       "      <td>0.367296</td>\n",
       "    </tr>\n",
       "    <tr>\n",
       "      <th>9</th>\n",
       "      <td>2024</td>\n",
       "      <td>Model Closed Code Closed</td>\n",
       "      <td>22.0</td>\n",
       "      <td>314.0</td>\n",
       "      <td>63</td>\n",
       "      <td>858</td>\n",
       "      <td>0.365967</td>\n",
       "    </tr>\n",
       "    <tr>\n",
       "      <th>10</th>\n",
       "      <td>2015</td>\n",
       "      <td>Model Closed Code Open</td>\n",
       "      <td>1.0</td>\n",
       "      <td>1.0</td>\n",
       "      <td>8</td>\n",
       "      <td>8</td>\n",
       "      <td>0.125000</td>\n",
       "    </tr>\n",
       "    <tr>\n",
       "      <th>11</th>\n",
       "      <td>2016</td>\n",
       "      <td>Model Closed Code Open</td>\n",
       "      <td>2.0</td>\n",
       "      <td>3.0</td>\n",
       "      <td>22</td>\n",
       "      <td>30</td>\n",
       "      <td>0.100000</td>\n",
       "    </tr>\n",
       "    <tr>\n",
       "      <th>12</th>\n",
       "      <td>2017</td>\n",
       "      <td>Model Closed Code Open</td>\n",
       "      <td>13.0</td>\n",
       "      <td>16.0</td>\n",
       "      <td>29</td>\n",
       "      <td>59</td>\n",
       "      <td>0.271186</td>\n",
       "    </tr>\n",
       "    <tr>\n",
       "      <th>13</th>\n",
       "      <td>2018</td>\n",
       "      <td>Model Closed Code Open</td>\n",
       "      <td>11.0</td>\n",
       "      <td>27.0</td>\n",
       "      <td>65</td>\n",
       "      <td>124</td>\n",
       "      <td>0.217742</td>\n",
       "    </tr>\n",
       "    <tr>\n",
       "      <th>14</th>\n",
       "      <td>2019</td>\n",
       "      <td>Model Closed Code Open</td>\n",
       "      <td>36.0</td>\n",
       "      <td>63.0</td>\n",
       "      <td>138</td>\n",
       "      <td>262</td>\n",
       "      <td>0.240458</td>\n",
       "    </tr>\n",
       "    <tr>\n",
       "      <th>15</th>\n",
       "      <td>2020</td>\n",
       "      <td>Model Closed Code Open</td>\n",
       "      <td>15.0</td>\n",
       "      <td>78.0</td>\n",
       "      <td>91</td>\n",
       "      <td>353</td>\n",
       "      <td>0.220963</td>\n",
       "    </tr>\n",
       "    <tr>\n",
       "      <th>16</th>\n",
       "      <td>2021</td>\n",
       "      <td>Model Closed Code Open</td>\n",
       "      <td>30.0</td>\n",
       "      <td>108.0</td>\n",
       "      <td>137</td>\n",
       "      <td>490</td>\n",
       "      <td>0.220408</td>\n",
       "    </tr>\n",
       "    <tr>\n",
       "      <th>17</th>\n",
       "      <td>2022</td>\n",
       "      <td>Model Closed Code Open</td>\n",
       "      <td>21.0</td>\n",
       "      <td>129.0</td>\n",
       "      <td>117</td>\n",
       "      <td>607</td>\n",
       "      <td>0.212521</td>\n",
       "    </tr>\n",
       "    <tr>\n",
       "      <th>18</th>\n",
       "      <td>2023</td>\n",
       "      <td>Model Closed Code Open</td>\n",
       "      <td>11.0</td>\n",
       "      <td>140.0</td>\n",
       "      <td>188</td>\n",
       "      <td>795</td>\n",
       "      <td>0.176101</td>\n",
       "    </tr>\n",
       "    <tr>\n",
       "      <th>19</th>\n",
       "      <td>2024</td>\n",
       "      <td>Model Closed Code Open</td>\n",
       "      <td>4.0</td>\n",
       "      <td>144.0</td>\n",
       "      <td>63</td>\n",
       "      <td>858</td>\n",
       "      <td>0.167832</td>\n",
       "    </tr>\n",
       "  </tbody>\n",
       "</table>\n",
       "</div>"
      ],
      "text/plain": [
       "    Year                  Category  Count  Cumulative for Category  \\\n",
       "0   2015  Model Closed Code Closed    5.0                      5.0   \n",
       "1   2016  Model Closed Code Closed   18.0                     23.0   \n",
       "2   2017  Model Closed Code Closed   15.0                     38.0   \n",
       "3   2018  Model Closed Code Closed   32.0                     70.0   \n",
       "4   2019  Model Closed Code Closed   56.0                    126.0   \n",
       "5   2020  Model Closed Code Closed   40.0                    166.0   \n",
       "6   2021  Model Closed Code Closed   49.0                    215.0   \n",
       "7   2022  Model Closed Code Closed   30.0                    245.0   \n",
       "8   2023  Model Closed Code Closed   47.0                    292.0   \n",
       "9   2024  Model Closed Code Closed   22.0                    314.0   \n",
       "10  2015    Model Closed Code Open    1.0                      1.0   \n",
       "11  2016    Model Closed Code Open    2.0                      3.0   \n",
       "12  2017    Model Closed Code Open   13.0                     16.0   \n",
       "13  2018    Model Closed Code Open   11.0                     27.0   \n",
       "14  2019    Model Closed Code Open   36.0                     63.0   \n",
       "15  2020    Model Closed Code Open   15.0                     78.0   \n",
       "16  2021    Model Closed Code Open   30.0                    108.0   \n",
       "17  2022    Model Closed Code Open   21.0                    129.0   \n",
       "18  2023    Model Closed Code Open   11.0                    140.0   \n",
       "19  2024    Model Closed Code Open    4.0                    144.0   \n",
       "\n",
       "    Yearly Total  Cumulative Total  proportion  \n",
       "0              8                 8    0.625000  \n",
       "1             22                30    0.766667  \n",
       "2             29                59    0.644068  \n",
       "3             65               124    0.564516  \n",
       "4            138               262    0.480916  \n",
       "5             91               353    0.470255  \n",
       "6            137               490    0.438776  \n",
       "7            117               607    0.403624  \n",
       "8            188               795    0.367296  \n",
       "9             63               858    0.365967  \n",
       "10             8                 8    0.125000  \n",
       "11            22                30    0.100000  \n",
       "12            29                59    0.271186  \n",
       "13            65               124    0.217742  \n",
       "14           138               262    0.240458  \n",
       "15            91               353    0.220963  \n",
       "16           137               490    0.220408  \n",
       "17           117               607    0.212521  \n",
       "18           188               795    0.176101  \n",
       "19            63               858    0.167832  "
      ]
     },
     "execution_count": 38,
     "metadata": {},
     "output_type": "execute_result"
    }
   ],
   "source": [
    "open_counts_filled['Cumulative for Category'] = open_counts_filled.groupby('Category')['Count'].cumsum()\n",
    "\n",
    "with_totals = pd.merge(open_counts_filled, total_counts, on=\"Year\")\n",
    "with_totals['proportion'] = with_totals['Cumulative for Category'] / with_totals['Cumulative Total']\n",
    "with_totals.head(20)"
   ]
  },
  {
   "cell_type": "code",
   "execution_count": 40,
   "metadata": {},
   "outputs": [
    {
     "data": {
      "application/vnd.plotly.v1+json": {
       "config": {
        "plotlyServerURL": "https://plot.ly"
       },
       "data": [
        {
         "fillpattern": {
          "shape": ""
         },
         "hovertemplate": "Accessibility=Model Closed Code Closed<br>Year=%{x}<br>Proportion=%{y}<extra></extra>",
         "legendgroup": "Model Closed Code Closed",
         "line": {
          "color": "crimson"
         },
         "marker": {
          "symbol": "circle"
         },
         "mode": "lines",
         "name": "Model Closed Code Closed",
         "orientation": "v",
         "showlegend": true,
         "stackgroup": "1",
         "type": "scatter",
         "x": [
          2015,
          2016,
          2017,
          2018,
          2019,
          2020,
          2021,
          2022,
          2023,
          2024
         ],
         "xaxis": "x",
         "y": [
          0.625,
          0.7666666666666667,
          0.6440677966101694,
          0.5645161290322581,
          0.48091603053435117,
          0.4702549575070821,
          0.4387755102040816,
          0.40362438220757824,
          0.3672955974842767,
          0.36596736596736595
         ],
         "yaxis": "y"
        },
        {
         "fillpattern": {
          "shape": ""
         },
         "hovertemplate": "Accessibility=Model Closed Code Open<br>Year=%{x}<br>Proportion=%{y}<extra></extra>",
         "legendgroup": "Model Closed Code Open",
         "line": {
          "color": "tomato"
         },
         "marker": {
          "symbol": "circle"
         },
         "mode": "lines",
         "name": "Model Closed Code Open",
         "orientation": "v",
         "showlegend": true,
         "stackgroup": "1",
         "type": "scatter",
         "x": [
          2015,
          2016,
          2017,
          2018,
          2019,
          2020,
          2021,
          2022,
          2023,
          2024
         ],
         "xaxis": "x",
         "y": [
          0.125,
          0.1,
          0.2711864406779661,
          0.21774193548387097,
          0.24045801526717558,
          0.22096317280453256,
          0.22040816326530613,
          0.21252059308072488,
          0.1761006289308176,
          0.16783216783216784
         ],
         "yaxis": "y"
        },
        {
         "fillpattern": {
          "shape": ""
         },
         "hovertemplate": "Accessibility=Model Open Code Closed<br>Year=%{x}<br>Proportion=%{y}<extra></extra>",
         "legendgroup": "Model Open Code Closed",
         "line": {
          "color": "blue"
         },
         "marker": {
          "symbol": "circle"
         },
         "mode": "lines",
         "name": "Model Open Code Closed",
         "orientation": "v",
         "showlegend": true,
         "stackgroup": "1",
         "type": "scatter",
         "x": [
          2023,
          2024,
          2016,
          2017,
          2015,
          2019,
          2020,
          2021,
          2022,
          2018
         ],
         "xaxis": "x",
         "y": [
          0.1270440251572327,
          0.1445221445221445,
          0,
          0,
          0,
          0.03816793893129771,
          0.0453257790368272,
          0.04693877551020408,
          0.06754530477759473,
          0.008064516129032258
         ],
         "yaxis": "y"
        },
        {
         "fillpattern": {
          "shape": ""
         },
         "hovertemplate": "Accessibility=Model Open Code Open<br>Year=%{x}<br>Proportion=%{y}<extra></extra>",
         "legendgroup": "Model Open Code Open",
         "line": {
          "color": "dodgerblue"
         },
         "marker": {
          "symbol": "circle"
         },
         "mode": "lines",
         "name": "Model Open Code Open",
         "orientation": "v",
         "showlegend": true,
         "stackgroup": "1",
         "type": "scatter",
         "x": [
          2023,
          2024,
          2021,
          2020,
          2019,
          2018,
          2017,
          2016,
          2015,
          2022
         ],
         "xaxis": "x",
         "y": [
          0.32955974842767294,
          0.32167832167832167,
          0.2938775510204082,
          0.26345609065155806,
          0.24045801526717558,
          0.20967741935483872,
          0.0847457627118644,
          0.13333333333333333,
          0.25,
          0.3163097199341021
         ],
         "yaxis": "y"
        }
       ],
       "layout": {
        "autosize": false,
        "height": 600,
        "legend": {
         "title": {
          "text": "Accessibility"
         },
         "tracegroupgap": 0
        },
        "template": {
         "data": {
          "bar": [
           {
            "error_x": {
             "color": "#2a3f5f"
            },
            "error_y": {
             "color": "#2a3f5f"
            },
            "marker": {
             "line": {
              "color": "#E5ECF6",
              "width": 0.5
             },
             "pattern": {
              "fillmode": "overlay",
              "size": 10,
              "solidity": 0.2
             }
            },
            "type": "bar"
           }
          ],
          "barpolar": [
           {
            "marker": {
             "line": {
              "color": "#E5ECF6",
              "width": 0.5
             },
             "pattern": {
              "fillmode": "overlay",
              "size": 10,
              "solidity": 0.2
             }
            },
            "type": "barpolar"
           }
          ],
          "carpet": [
           {
            "aaxis": {
             "endlinecolor": "#2a3f5f",
             "gridcolor": "white",
             "linecolor": "white",
             "minorgridcolor": "white",
             "startlinecolor": "#2a3f5f"
            },
            "baxis": {
             "endlinecolor": "#2a3f5f",
             "gridcolor": "white",
             "linecolor": "white",
             "minorgridcolor": "white",
             "startlinecolor": "#2a3f5f"
            },
            "type": "carpet"
           }
          ],
          "choropleth": [
           {
            "colorbar": {
             "outlinewidth": 0,
             "ticks": ""
            },
            "type": "choropleth"
           }
          ],
          "contour": [
           {
            "colorbar": {
             "outlinewidth": 0,
             "ticks": ""
            },
            "colorscale": [
             [
              0,
              "#0d0887"
             ],
             [
              0.1111111111111111,
              "#46039f"
             ],
             [
              0.2222222222222222,
              "#7201a8"
             ],
             [
              0.3333333333333333,
              "#9c179e"
             ],
             [
              0.4444444444444444,
              "#bd3786"
             ],
             [
              0.5555555555555556,
              "#d8576b"
             ],
             [
              0.6666666666666666,
              "#ed7953"
             ],
             [
              0.7777777777777778,
              "#fb9f3a"
             ],
             [
              0.8888888888888888,
              "#fdca26"
             ],
             [
              1,
              "#f0f921"
             ]
            ],
            "type": "contour"
           }
          ],
          "contourcarpet": [
           {
            "colorbar": {
             "outlinewidth": 0,
             "ticks": ""
            },
            "type": "contourcarpet"
           }
          ],
          "heatmap": [
           {
            "colorbar": {
             "outlinewidth": 0,
             "ticks": ""
            },
            "colorscale": [
             [
              0,
              "#0d0887"
             ],
             [
              0.1111111111111111,
              "#46039f"
             ],
             [
              0.2222222222222222,
              "#7201a8"
             ],
             [
              0.3333333333333333,
              "#9c179e"
             ],
             [
              0.4444444444444444,
              "#bd3786"
             ],
             [
              0.5555555555555556,
              "#d8576b"
             ],
             [
              0.6666666666666666,
              "#ed7953"
             ],
             [
              0.7777777777777778,
              "#fb9f3a"
             ],
             [
              0.8888888888888888,
              "#fdca26"
             ],
             [
              1,
              "#f0f921"
             ]
            ],
            "type": "heatmap"
           }
          ],
          "heatmapgl": [
           {
            "colorbar": {
             "outlinewidth": 0,
             "ticks": ""
            },
            "colorscale": [
             [
              0,
              "#0d0887"
             ],
             [
              0.1111111111111111,
              "#46039f"
             ],
             [
              0.2222222222222222,
              "#7201a8"
             ],
             [
              0.3333333333333333,
              "#9c179e"
             ],
             [
              0.4444444444444444,
              "#bd3786"
             ],
             [
              0.5555555555555556,
              "#d8576b"
             ],
             [
              0.6666666666666666,
              "#ed7953"
             ],
             [
              0.7777777777777778,
              "#fb9f3a"
             ],
             [
              0.8888888888888888,
              "#fdca26"
             ],
             [
              1,
              "#f0f921"
             ]
            ],
            "type": "heatmapgl"
           }
          ],
          "histogram": [
           {
            "marker": {
             "pattern": {
              "fillmode": "overlay",
              "size": 10,
              "solidity": 0.2
             }
            },
            "type": "histogram"
           }
          ],
          "histogram2d": [
           {
            "colorbar": {
             "outlinewidth": 0,
             "ticks": ""
            },
            "colorscale": [
             [
              0,
              "#0d0887"
             ],
             [
              0.1111111111111111,
              "#46039f"
             ],
             [
              0.2222222222222222,
              "#7201a8"
             ],
             [
              0.3333333333333333,
              "#9c179e"
             ],
             [
              0.4444444444444444,
              "#bd3786"
             ],
             [
              0.5555555555555556,
              "#d8576b"
             ],
             [
              0.6666666666666666,
              "#ed7953"
             ],
             [
              0.7777777777777778,
              "#fb9f3a"
             ],
             [
              0.8888888888888888,
              "#fdca26"
             ],
             [
              1,
              "#f0f921"
             ]
            ],
            "type": "histogram2d"
           }
          ],
          "histogram2dcontour": [
           {
            "colorbar": {
             "outlinewidth": 0,
             "ticks": ""
            },
            "colorscale": [
             [
              0,
              "#0d0887"
             ],
             [
              0.1111111111111111,
              "#46039f"
             ],
             [
              0.2222222222222222,
              "#7201a8"
             ],
             [
              0.3333333333333333,
              "#9c179e"
             ],
             [
              0.4444444444444444,
              "#bd3786"
             ],
             [
              0.5555555555555556,
              "#d8576b"
             ],
             [
              0.6666666666666666,
              "#ed7953"
             ],
             [
              0.7777777777777778,
              "#fb9f3a"
             ],
             [
              0.8888888888888888,
              "#fdca26"
             ],
             [
              1,
              "#f0f921"
             ]
            ],
            "type": "histogram2dcontour"
           }
          ],
          "mesh3d": [
           {
            "colorbar": {
             "outlinewidth": 0,
             "ticks": ""
            },
            "type": "mesh3d"
           }
          ],
          "parcoords": [
           {
            "line": {
             "colorbar": {
              "outlinewidth": 0,
              "ticks": ""
             }
            },
            "type": "parcoords"
           }
          ],
          "pie": [
           {
            "automargin": true,
            "type": "pie"
           }
          ],
          "scatter": [
           {
            "fillpattern": {
             "fillmode": "overlay",
             "size": 10,
             "solidity": 0.2
            },
            "type": "scatter"
           }
          ],
          "scatter3d": [
           {
            "line": {
             "colorbar": {
              "outlinewidth": 0,
              "ticks": ""
             }
            },
            "marker": {
             "colorbar": {
              "outlinewidth": 0,
              "ticks": ""
             }
            },
            "type": "scatter3d"
           }
          ],
          "scattercarpet": [
           {
            "marker": {
             "colorbar": {
              "outlinewidth": 0,
              "ticks": ""
             }
            },
            "type": "scattercarpet"
           }
          ],
          "scattergeo": [
           {
            "marker": {
             "colorbar": {
              "outlinewidth": 0,
              "ticks": ""
             }
            },
            "type": "scattergeo"
           }
          ],
          "scattergl": [
           {
            "marker": {
             "colorbar": {
              "outlinewidth": 0,
              "ticks": ""
             }
            },
            "type": "scattergl"
           }
          ],
          "scattermapbox": [
           {
            "marker": {
             "colorbar": {
              "outlinewidth": 0,
              "ticks": ""
             }
            },
            "type": "scattermapbox"
           }
          ],
          "scatterpolar": [
           {
            "marker": {
             "colorbar": {
              "outlinewidth": 0,
              "ticks": ""
             }
            },
            "type": "scatterpolar"
           }
          ],
          "scatterpolargl": [
           {
            "marker": {
             "colorbar": {
              "outlinewidth": 0,
              "ticks": ""
             }
            },
            "type": "scatterpolargl"
           }
          ],
          "scatterternary": [
           {
            "marker": {
             "colorbar": {
              "outlinewidth": 0,
              "ticks": ""
             }
            },
            "type": "scatterternary"
           }
          ],
          "surface": [
           {
            "colorbar": {
             "outlinewidth": 0,
             "ticks": ""
            },
            "colorscale": [
             [
              0,
              "#0d0887"
             ],
             [
              0.1111111111111111,
              "#46039f"
             ],
             [
              0.2222222222222222,
              "#7201a8"
             ],
             [
              0.3333333333333333,
              "#9c179e"
             ],
             [
              0.4444444444444444,
              "#bd3786"
             ],
             [
              0.5555555555555556,
              "#d8576b"
             ],
             [
              0.6666666666666666,
              "#ed7953"
             ],
             [
              0.7777777777777778,
              "#fb9f3a"
             ],
             [
              0.8888888888888888,
              "#fdca26"
             ],
             [
              1,
              "#f0f921"
             ]
            ],
            "type": "surface"
           }
          ],
          "table": [
           {
            "cells": {
             "fill": {
              "color": "#EBF0F8"
             },
             "line": {
              "color": "white"
             }
            },
            "header": {
             "fill": {
              "color": "#C8D4E3"
             },
             "line": {
              "color": "white"
             }
            },
            "type": "table"
           }
          ]
         },
         "layout": {
          "annotationdefaults": {
           "arrowcolor": "#2a3f5f",
           "arrowhead": 0,
           "arrowwidth": 1
          },
          "autotypenumbers": "strict",
          "coloraxis": {
           "colorbar": {
            "outlinewidth": 0,
            "ticks": ""
           }
          },
          "colorscale": {
           "diverging": [
            [
             0,
             "#8e0152"
            ],
            [
             0.1,
             "#c51b7d"
            ],
            [
             0.2,
             "#de77ae"
            ],
            [
             0.3,
             "#f1b6da"
            ],
            [
             0.4,
             "#fde0ef"
            ],
            [
             0.5,
             "#f7f7f7"
            ],
            [
             0.6,
             "#e6f5d0"
            ],
            [
             0.7,
             "#b8e186"
            ],
            [
             0.8,
             "#7fbc41"
            ],
            [
             0.9,
             "#4d9221"
            ],
            [
             1,
             "#276419"
            ]
           ],
           "sequential": [
            [
             0,
             "#0d0887"
            ],
            [
             0.1111111111111111,
             "#46039f"
            ],
            [
             0.2222222222222222,
             "#7201a8"
            ],
            [
             0.3333333333333333,
             "#9c179e"
            ],
            [
             0.4444444444444444,
             "#bd3786"
            ],
            [
             0.5555555555555556,
             "#d8576b"
            ],
            [
             0.6666666666666666,
             "#ed7953"
            ],
            [
             0.7777777777777778,
             "#fb9f3a"
            ],
            [
             0.8888888888888888,
             "#fdca26"
            ],
            [
             1,
             "#f0f921"
            ]
           ],
           "sequentialminus": [
            [
             0,
             "#0d0887"
            ],
            [
             0.1111111111111111,
             "#46039f"
            ],
            [
             0.2222222222222222,
             "#7201a8"
            ],
            [
             0.3333333333333333,
             "#9c179e"
            ],
            [
             0.4444444444444444,
             "#bd3786"
            ],
            [
             0.5555555555555556,
             "#d8576b"
            ],
            [
             0.6666666666666666,
             "#ed7953"
            ],
            [
             0.7777777777777778,
             "#fb9f3a"
            ],
            [
             0.8888888888888888,
             "#fdca26"
            ],
            [
             1,
             "#f0f921"
            ]
           ]
          },
          "colorway": [
           "#636efa",
           "#EF553B",
           "#00cc96",
           "#ab63fa",
           "#FFA15A",
           "#19d3f3",
           "#FF6692",
           "#B6E880",
           "#FF97FF",
           "#FECB52"
          ],
          "font": {
           "color": "#2a3f5f"
          },
          "geo": {
           "bgcolor": "white",
           "lakecolor": "white",
           "landcolor": "#E5ECF6",
           "showlakes": true,
           "showland": true,
           "subunitcolor": "white"
          },
          "hoverlabel": {
           "align": "left"
          },
          "hovermode": "closest",
          "mapbox": {
           "style": "light"
          },
          "paper_bgcolor": "white",
          "plot_bgcolor": "#E5ECF6",
          "polar": {
           "angularaxis": {
            "gridcolor": "white",
            "linecolor": "white",
            "ticks": ""
           },
           "bgcolor": "#E5ECF6",
           "radialaxis": {
            "gridcolor": "white",
            "linecolor": "white",
            "ticks": ""
           }
          },
          "scene": {
           "xaxis": {
            "backgroundcolor": "#E5ECF6",
            "gridcolor": "white",
            "gridwidth": 2,
            "linecolor": "white",
            "showbackground": true,
            "ticks": "",
            "zerolinecolor": "white"
           },
           "yaxis": {
            "backgroundcolor": "#E5ECF6",
            "gridcolor": "white",
            "gridwidth": 2,
            "linecolor": "white",
            "showbackground": true,
            "ticks": "",
            "zerolinecolor": "white"
           },
           "zaxis": {
            "backgroundcolor": "#E5ECF6",
            "gridcolor": "white",
            "gridwidth": 2,
            "linecolor": "white",
            "showbackground": true,
            "ticks": "",
            "zerolinecolor": "white"
           }
          },
          "shapedefaults": {
           "line": {
            "color": "#2a3f5f"
           }
          },
          "ternary": {
           "aaxis": {
            "gridcolor": "white",
            "linecolor": "white",
            "ticks": ""
           },
           "baxis": {
            "gridcolor": "white",
            "linecolor": "white",
            "ticks": ""
           },
           "bgcolor": "#E5ECF6",
           "caxis": {
            "gridcolor": "white",
            "linecolor": "white",
            "ticks": ""
           }
          },
          "title": {
           "x": 0.05
          },
          "xaxis": {
           "automargin": true,
           "gridcolor": "white",
           "linecolor": "white",
           "ticks": "",
           "title": {
            "standoff": 15
           },
           "zerolinecolor": "white",
           "zerolinewidth": 2
          },
          "yaxis": {
           "automargin": true,
           "gridcolor": "white",
           "linecolor": "white",
           "ticks": "",
           "title": {
            "standoff": 15
           },
           "zerolinecolor": "white",
           "zerolinewidth": 2
          }
         }
        },
        "title": {
         "text": "Model and training code accessibility over time",
         "x": 0.2
        },
        "width": 800,
        "xaxis": {
         "anchor": "y",
         "domain": [
          0,
          1
         ],
         "range": [
          2018,
          2024
         ],
         "title": {
          "text": "Year"
         }
        },
        "yaxis": {
         "anchor": "x",
         "domain": [
          0,
          1
         ],
         "range": [
          0,
          1
         ],
         "title": {
          "text": "Proportion"
         }
        }
       }
      }
     },
     "metadata": {},
     "output_type": "display_data"
    }
   ],
   "source": [
    "# sort using custom order\n",
    "sort_order = ['Model Closed Code Closed', 'Model Closed Code Open', 'Model Open Code Closed', 'Model Open Code Open']\n",
    "\n",
    "with_totals['Category_sorted'] = pd.Categorical(with_totals['Category'], categories=sort_order, ordered=True)\n",
    "with_totals = with_totals.sort_values('Category_sorted')\n",
    "\n",
    "\n",
    "colors = ['crimson', 'tomato', 'blue', 'dodgerblue']\n",
    "fig = px.area(with_totals, x='Year', y='proportion', color='Category', line_group='Category',\n",
    "              labels={'proportion': 'Proportion', 'Year': 'Year', 'Category': 'Accessibility'},\n",
    "              title='Model and training code accessibility over time', color_discrete_sequence=colors)\n",
    "\n",
    "fig.update_yaxes(range=[0, 1])\n",
    "fig.update_xaxes(range=[2018, 2024])\n",
    "fig.update_layout(\n",
    "    autosize=False,\n",
    "    width=800,\n",
    "    height=600,\n",
    "    title_x=0.2,\n",
    ")\n",
    "\n",
    "save_plot(fig, results_dir, f'model_code_accessibility_over_time')\n",
    "\n",
    "fig.show()"
   ]
  },
  {
   "cell_type": "markdown",
   "metadata": {},
   "source": [
    "This chart shows the proportions across the four categories of model open/closed and code open/closed. The blue areas are open-weight models and the red areas are closed-weight, while the lighter colors are code open and the darker colors are code closed. Among open-weight models, code closed has become more common. Intuitively, this is consistent with the rise of the commercial open-source industry, which releases model weights but does not wish to give competitors the ability to recreate their base models."
   ]
  },
  {
   "cell_type": "code",
   "execution_count": null,
   "metadata": {
    "tags": []
   },
   "outputs": [
    {
     "data": {
      "image/png": "[encoded data removed]"
     },
     "metadata": {},
     "output_type": "display_data"
    }
   ],
   "source": [
    "# repeat the above code but with notable models only\n",
    "open_counts = notable_code_df.loc[code_df['Year'] >= 2015].groupby(['Year', 'Model open/closed', 'Code open/closed']).size().reset_index(name='Count')\n",
    "\n",
    "open_counts['Cumulative'] = open_counts.groupby(['Model open/closed', 'Code open/closed'])['Count'].cumsum()\n",
    "\n",
    "total_counts = open_counts.groupby('Year')['Count'].sum().reset_index(name='Yearly Total')\n",
    "total_counts['Cumulative Total'] = total_counts['Yearly Total'].cumsum()\n",
    "\n",
    "open_counts_wide = open_counts.pivot(index='Year', columns=['Model open/closed', 'Code open/closed'], values='Count')\n",
    "open_counts_wide = open_counts_wide.fillna(0).reset_index()\n",
    "\n",
    "# Convert pivoted multi-columns to single columns with clear names\n",
    "new_columns = ['Year'] + [f'Model {outer} Code {inner}' for outer, inner in open_counts_wide.columns[1:]]\n",
    "open_counts_wide.columns = new_columns\n",
    "\n",
    "# unpivot table to get the count of each 2x2 value for each year\n",
    "open_counts_filled = (open_counts_wide.melt(id_vars=['Year'], \n",
    "                                            var_name='Category',\n",
    "                                            value_name='Count')\n",
    "                                      .reset_index(drop=True))\n",
    "\n",
    "open_counts_filled['Cumulative for Category'] = open_counts_filled.groupby('Category')['Count'].cumsum()\n",
    "\n",
    "with_totals = pd.merge(open_counts_filled, total_counts, on=\"Year\")\n",
    "with_totals['proportion'] = with_totals['Cumulative for Category'] / with_totals['Cumulative Total']\n",
    "\n",
    "# sort using custom order\n",
    "sort_order = ['Model Closed Code Closed', 'Model Closed Code Open', 'Model Open Code Closed', 'Model Open Code Open']\n",
    "\n",
    "with_totals['Category_sorted'] = pd.Categorical(with_totals['Category'], categories=sort_order, ordered=True)\n",
    "with_totals = with_totals.sort_values('Category_sorted')\n",
    "\n",
    "\n",
    "colors = ['crimson', 'tomato', 'blue', 'dodgerblue']\n",
    "fig = px.area(with_totals, x='Year', y='proportion', color='Category', line_group='Category',\n",
    "              labels={'proportion': 'Proportion', 'Year': 'Year'},\n",
    "              title='Cumulative Proportion of Notable Models by Open Closed Status', color_discrete_sequence=colors)\n",
    "\n",
    "fig.update_yaxes(range=[0, 1])\n",
    "fig.update_xaxes(range=[2018, 2024])\n",
    "fig.update_layout(\n",
    "    autosize=False,\n",
    "    width=800,\n",
    "    height=600,\n",
    "    title_x=0.2,\n",
    ")\n",
    "fig"
   ]
  },
  {
   "cell_type": "code",
   "execution_count": null,
   "metadata": {},
   "outputs": [],
   "source": []
  }
 ],
 "metadata": {
  "kernelspec": {
   "display_name": "Python 3 (ipykernel)",
   "language": "python",
   "name": "python3"
  },
  "language_info": {
   "codemirror_mode": {
    "name": "ipython",
    "version": 3
   },
   "file_extension": ".py",
   "mimetype": "text/x-python",
   "name": "python",
   "nbconvert_exporter": "python",
   "pygments_lexer": "ipython3",
   "version": "3.12.3"
  }
 },
 "nbformat": 4,
 "nbformat_minor": 4
}
