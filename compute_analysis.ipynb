{
 "cells": [
  {
   "cell_type": "code",
   "execution_count": 1,
   "metadata": {},
   "outputs": [],
   "source": [
    "%load_ext autoreload\n",
    "%autoreload 2"
   ]
  },
  {
   "cell_type": "code",
   "execution_count": 2,
   "metadata": {},
   "outputs": [],
   "source": [
    "from collections import defaultdict\n",
    "import numpy as np\n",
    "import os\n",
    "import pandas as pd\n",
    "import plotly.express as px\n",
    "import datetime\n",
    "import statsmodels.api as sm\n",
    "from statsmodels.formula.api import ols\n",
    "from sklearn.metrics import mean_squared_error\n",
    "from scipy.optimize import curve_fit\n",
    "import matplotlib.pyplot as plt\n",
    "import matplotlib.dates as mdates\n",
    "from matplotlib.dates import DateFormatter\n",
    "import matplotlib.patheffects as pe\n",
    "from itertools import combinations_with_replacement\n",
    "from dataclasses import dataclass\n",
    "from collections.abc import Callable\n",
    "from tqdm import tqdm\n",
    "from scipy.stats import chi2\n",
    "from sklearn.model_selection import KFold\n",
    "import pickle\n",
    "\n",
    "from data import *\n",
    "from plotting import *\n",
    "from regression import *\n",
    "from utils import *\n"
   ]
  },
  {
   "cell_type": "code",
   "execution_count": 3,
   "metadata": {},
   "outputs": [],
   "source": [
    "results_dir = 'results/data-update-08July/'\n",
    "os.makedirs(results_dir, exist_ok=True)"
   ]
  },
  {
   "cell_type": "code",
   "execution_count": 4,
   "metadata": {},
   "outputs": [],
   "source": [
    "# Load data\n",
    "pcd_df = load_pcd_df()"
   ]
  },
  {
   "cell_type": "code",
   "execution_count": 5,
   "metadata": {},
   "outputs": [
    {
     "data": {
      "text/html": [
       "<div>\n",
       "<style scoped>\n",
       "    .dataframe tbody tr th:only-of-type {\n",
       "        vertical-align: middle;\n",
       "    }\n",
       "\n",
       "    .dataframe tbody tr th {\n",
       "        vertical-align: top;\n",
       "    }\n",
       "\n",
       "    .dataframe thead th {\n",
       "        text-align: right;\n",
       "    }\n",
       "</style>\n",
       "<table border=\"1\" class=\"dataframe\">\n",
       "  <thead>\n",
       "    <tr style=\"text-align: right;\">\n",
       "      <th></th>\n",
       "      <th>System</th>\n",
       "      <th>Domain</th>\n",
       "      <th>Task</th>\n",
       "      <th>Authors</th>\n",
       "      <th>Notability criteria</th>\n",
       "      <th>Notability criteria notes</th>\n",
       "      <th>Model accessibility</th>\n",
       "      <th>Link</th>\n",
       "      <th>Citations</th>\n",
       "      <th>Reference</th>\n",
       "      <th>...</th>\n",
       "      <th>Training compute cost (2023 USD)</th>\n",
       "      <th>Training dataset size</th>\n",
       "      <th>Sparsity</th>\n",
       "      <th>Utilization notes</th>\n",
       "      <th>Estimated over 1e25 FLOP</th>\n",
       "      <th>Power per GPU</th>\n",
       "      <th>Cluster total TDP</th>\n",
       "      <th>Base model compute</th>\n",
       "      <th>Difference</th>\n",
       "      <th>Difference (share)</th>\n",
       "    </tr>\n",
       "  </thead>\n",
       "  <tbody>\n",
       "    <tr>\n",
       "      <th>0</th>\n",
       "      <td>Gemini 1.0 Ultra</td>\n",
       "      <td>Multimodal,Language,Vision</td>\n",
       "      <td>Language modelling,Visual question answering,C...</td>\n",
       "      <td>Gemini Team</td>\n",
       "      <td>SOTA improvement,Training cost</td>\n",
       "      <td>\" Evaluation on a broad range of benchmarks sh...</td>\n",
       "      <td>Hosted access (no API)</td>\n",
       "      <td>https://storage.googleapis.com/deepmind-media/...</td>\n",
       "      <td>633.0</td>\n",
       "      <td>Gemini: A Family of Highly Capable Multimodal ...</td>\n",
       "      <td>...</td>\n",
       "      <td>$29827341.92</td>\n",
       "      <td>Gemini 1.0 Ultra</td>\n",
       "      <td>NaN</td>\n",
       "      <td>NaN</td>\n",
       "      <td>NaN</td>\n",
       "      <td>192.0</td>\n",
       "      <td>10560000</td>\n",
       "      <td>NaN</td>\n",
       "      <td>5.000000e+25</td>\n",
       "      <td>100%</td>\n",
       "    </tr>\n",
       "    <tr>\n",
       "      <th>1</th>\n",
       "      <td>Llama 3.1-405B</td>\n",
       "      <td>Language</td>\n",
       "      <td>Language modelling/generation</td>\n",
       "      <td>Abhimanyu Dubey, Abhinav Jauhri, Abhinav Pande...</td>\n",
       "      <td>SOTA improvement,Training cost</td>\n",
       "      <td>High training compute, exceeds 4o and Claude 3...</td>\n",
       "      <td>Open access (restricted use)</td>\n",
       "      <td>https://ai.meta.com/research/publications/the-...</td>\n",
       "      <td>NaN</td>\n",
       "      <td>The Llama 3 Herd of Models</td>\n",
       "      <td>...</td>\n",
       "      <td>NaN</td>\n",
       "      <td>NaN</td>\n",
       "      <td>NaN</td>\n",
       "      <td>NaN</td>\n",
       "      <td>NaN</td>\n",
       "      <td>700.0</td>\n",
       "      <td>0</td>\n",
       "      <td>NaN</td>\n",
       "      <td>3.800000e+25</td>\n",
       "      <td>100%</td>\n",
       "    </tr>\n",
       "    <tr>\n",
       "      <th>2</th>\n",
       "      <td>GPT-4</td>\n",
       "      <td>Multimodal,Language,Vision,Image generation</td>\n",
       "      <td>Language modelling</td>\n",
       "      <td>OpenAI, Josh Achiam, Steven Adler, Sandhini Ag...</td>\n",
       "      <td>Highly cited,SOTA improvement,Training cost</td>\n",
       "      <td>See the paper, p.1: \"On a suite of traditional...</td>\n",
       "      <td>API access</td>\n",
       "      <td>https://arxiv.org/abs/2303.08774</td>\n",
       "      <td>5290.0</td>\n",
       "      <td>GPT-4 Technical Report</td>\n",
       "      <td>...</td>\n",
       "      <td>$40586592.58</td>\n",
       "      <td>GPT-4</td>\n",
       "      <td>GPT-4</td>\n",
       "      <td>(Speculative) SemiAnalysis conjectures that GP...</td>\n",
       "      <td>NaN</td>\n",
       "      <td>400.0</td>\n",
       "      <td>10000000</td>\n",
       "      <td>NaN</td>\n",
       "      <td>2.100000e+25</td>\n",
       "      <td>100%</td>\n",
       "    </tr>\n",
       "    <tr>\n",
       "      <th>3</th>\n",
       "      <td>Mistral Large</td>\n",
       "      <td>Language</td>\n",
       "      <td>Chat</td>\n",
       "      <td>NaN</td>\n",
       "      <td>Training cost</td>\n",
       "      <td>~$20M training cost: https://www.wsj.com/tech/...</td>\n",
       "      <td>API access</td>\n",
       "      <td>https://mistral.ai/news/mistral-large/</td>\n",
       "      <td>NaN</td>\n",
       "      <td>Mistral Large, our new flagship model</td>\n",
       "      <td>...</td>\n",
       "      <td>NaN</td>\n",
       "      <td>Mistral Large</td>\n",
       "      <td>NaN</td>\n",
       "      <td>NaN</td>\n",
       "      <td>NaN</td>\n",
       "      <td>350.0</td>\n",
       "      <td>0</td>\n",
       "      <td>NaN</td>\n",
       "      <td>2.000000e+25</td>\n",
       "      <td>100%</td>\n",
       "    </tr>\n",
       "    <tr>\n",
       "      <th>4</th>\n",
       "      <td>Nemotron-4 340B</td>\n",
       "      <td>Language</td>\n",
       "      <td>Language modelling/generation,Chat</td>\n",
       "      <td>Bo Adler, Niket Agarwal, Ashwath Aithal, Dong ...</td>\n",
       "      <td>Training cost</td>\n",
       "      <td>~2e25 FLOP, so high training cost, likely &gt;5M</td>\n",
       "      <td>Open source</td>\n",
       "      <td>https://blogs.nvidia.com/blog/nemotron-4-synth...</td>\n",
       "      <td>NaN</td>\n",
       "      <td>NVIDIA Releases Open Synthetic Data Generation...</td>\n",
       "      <td>...</td>\n",
       "      <td>NaN</td>\n",
       "      <td>Nemotron-4 340B</td>\n",
       "      <td>NaN</td>\n",
       "      <td>NaN</td>\n",
       "      <td>NaN</td>\n",
       "      <td>700.0</td>\n",
       "      <td>0</td>\n",
       "      <td>NaN</td>\n",
       "      <td>1.800000e+25</td>\n",
       "      <td>100%</td>\n",
       "    </tr>\n",
       "    <tr>\n",
       "      <th>...</th>\n",
       "      <td>...</td>\n",
       "      <td>...</td>\n",
       "      <td>...</td>\n",
       "      <td>...</td>\n",
       "      <td>...</td>\n",
       "      <td>...</td>\n",
       "      <td>...</td>\n",
       "      <td>...</td>\n",
       "      <td>...</td>\n",
       "      <td>...</td>\n",
       "      <td>...</td>\n",
       "      <td>...</td>\n",
       "      <td>...</td>\n",
       "      <td>...</td>\n",
       "      <td>...</td>\n",
       "      <td>...</td>\n",
       "      <td>...</td>\n",
       "      <td>...</td>\n",
       "      <td>...</td>\n",
       "      <td>...</td>\n",
       "      <td>...</td>\n",
       "    </tr>\n",
       "    <tr>\n",
       "      <th>1601</th>\n",
       "      <td>Multilingual DNN</td>\n",
       "      <td>Speech</td>\n",
       "      <td>Speech recognition</td>\n",
       "      <td>G. Heigold, Vincent Vanhoucke, A. Senior, Patr...</td>\n",
       "      <td>SOTA improvement,Training cost</td>\n",
       "      <td>NaN</td>\n",
       "      <td>NaN</td>\n",
       "      <td>https://www.semanticscholar.org/paper/Multilin...</td>\n",
       "      <td>NaN</td>\n",
       "      <td>Multilingual acoustic models using distributed...</td>\n",
       "      <td>...</td>\n",
       "      <td>NaN</td>\n",
       "      <td>Multilingual DNN</td>\n",
       "      <td>NaN</td>\n",
       "      <td>NaN</td>\n",
       "      <td>NaN</td>\n",
       "      <td>NaN</td>\n",
       "      <td>0</td>\n",
       "      <td>NaN</td>\n",
       "      <td>0.000000e+00</td>\n",
       "      <td>NaN</td>\n",
       "    </tr>\n",
       "    <tr>\n",
       "      <th>1602</th>\n",
       "      <td>DeViSE</td>\n",
       "      <td>Vision</td>\n",
       "      <td>Semantic embedding</td>\n",
       "      <td>Andrea Frome, G. Corrado, Jonathon Shlens, Sam...</td>\n",
       "      <td>Highly cited,SOTA improvement</td>\n",
       "      <td>NaN</td>\n",
       "      <td>NaN</td>\n",
       "      <td>https://www.semanticscholar.org/paper/DeViSE%3...</td>\n",
       "      <td>NaN</td>\n",
       "      <td>DeViSE: A Deep Visual-Semantic Embedding Model</td>\n",
       "      <td>...</td>\n",
       "      <td>NaN</td>\n",
       "      <td>NaN</td>\n",
       "      <td>NaN</td>\n",
       "      <td>NaN</td>\n",
       "      <td>NaN</td>\n",
       "      <td>NaN</td>\n",
       "      <td>0</td>\n",
       "      <td>NaN</td>\n",
       "      <td>0.000000e+00</td>\n",
       "      <td>NaN</td>\n",
       "    </tr>\n",
       "    <tr>\n",
       "      <th>1603</th>\n",
       "      <td>OpenVLA</td>\n",
       "      <td>Robotics</td>\n",
       "      <td>NaN</td>\n",
       "      <td>Moo Jin Kim, Karl Pertsch, Siddharth Karamchet...</td>\n",
       "      <td>NaN</td>\n",
       "      <td>claimed SOTA\\n\\n\"OpenVLA outperforms the 55B-p...</td>\n",
       "      <td>Open access (restricted use)</td>\n",
       "      <td>https://openvla.github.io/ ; https://arxiv.org...</td>\n",
       "      <td>NaN</td>\n",
       "      <td>OpenVLA: An Open-Source Vision-Language-Action...</td>\n",
       "      <td>...</td>\n",
       "      <td>NaN</td>\n",
       "      <td>NaN</td>\n",
       "      <td>NaN</td>\n",
       "      <td>NaN</td>\n",
       "      <td>NaN</td>\n",
       "      <td>400.0</td>\n",
       "      <td>25600</td>\n",
       "      <td>8.400000e+22</td>\n",
       "      <td>-9.100000e+22</td>\n",
       "      <td>-Infinity</td>\n",
       "    </tr>\n",
       "    <tr>\n",
       "      <th>1604</th>\n",
       "      <td>Mistral NeMo</td>\n",
       "      <td>Language</td>\n",
       "      <td>Language modelling/generation,Code generation</td>\n",
       "      <td>Albert Jiang, Alexandre Sablayrolles, Alexis T...</td>\n",
       "      <td>NaN</td>\n",
       "      <td>NaN</td>\n",
       "      <td>Open source</td>\n",
       "      <td>https://mistral.ai/news/mistral-nemo/</td>\n",
       "      <td>NaN</td>\n",
       "      <td>Mistral NeMo</td>\n",
       "      <td>...</td>\n",
       "      <td>NaN</td>\n",
       "      <td>NaN</td>\n",
       "      <td>NaN</td>\n",
       "      <td>NaN</td>\n",
       "      <td>NaN</td>\n",
       "      <td>NaN</td>\n",
       "      <td>0</td>\n",
       "      <td>NaN</td>\n",
       "      <td>0.000000e+00</td>\n",
       "      <td>NaN</td>\n",
       "    </tr>\n",
       "    <tr>\n",
       "      <th>1605</th>\n",
       "      <td>Monocular Depth Prediction</td>\n",
       "      <td>Vision</td>\n",
       "      <td>NaN</td>\n",
       "      <td>Ashutosh Saxena, Sung H. Chung, and Andrew Y. Ng</td>\n",
       "      <td>Highly cited</td>\n",
       "      <td>1000+ citations</td>\n",
       "      <td>Unreleased</td>\n",
       "      <td>https://papers.nips.cc/paper_files/paper/2005/...</td>\n",
       "      <td>1417.0</td>\n",
       "      <td>Learning Depth from Single Monocular Images</td>\n",
       "      <td>...</td>\n",
       "      <td>NaN</td>\n",
       "      <td>NaN</td>\n",
       "      <td>NaN</td>\n",
       "      <td>NaN</td>\n",
       "      <td>NaN</td>\n",
       "      <td>NaN</td>\n",
       "      <td>0</td>\n",
       "      <td>NaN</td>\n",
       "      <td>0.000000e+00</td>\n",
       "      <td>NaN</td>\n",
       "    </tr>\n",
       "  </tbody>\n",
       "</table>\n",
       "<p>1606 rows × 68 columns</p>\n",
       "</div>"
      ],
      "text/plain": [
       "                          System                                       Domain  \\\n",
       "0               Gemini 1.0 Ultra                   Multimodal,Language,Vision   \n",
       "1                 Llama 3.1-405B                                     Language   \n",
       "2                          GPT-4  Multimodal,Language,Vision,Image generation   \n",
       "3                  Mistral Large                                     Language   \n",
       "4                Nemotron-4 340B                                     Language   \n",
       "...                          ...                                          ...   \n",
       "1601            Multilingual DNN                                       Speech   \n",
       "1602                      DeViSE                                       Vision   \n",
       "1603                     OpenVLA                                     Robotics   \n",
       "1604                Mistral NeMo                                     Language   \n",
       "1605  Monocular Depth Prediction                                       Vision   \n",
       "\n",
       "                                                   Task  \\\n",
       "0     Language modelling,Visual question answering,C...   \n",
       "1                         Language modelling/generation   \n",
       "2                                    Language modelling   \n",
       "3                                                  Chat   \n",
       "4                    Language modelling/generation,Chat   \n",
       "...                                                 ...   \n",
       "1601                                 Speech recognition   \n",
       "1602                                 Semantic embedding   \n",
       "1603                                                NaN   \n",
       "1604      Language modelling/generation,Code generation   \n",
       "1605                                                NaN   \n",
       "\n",
       "                                                Authors  \\\n",
       "0                                           Gemini Team   \n",
       "1     Abhimanyu Dubey, Abhinav Jauhri, Abhinav Pande...   \n",
       "2     OpenAI, Josh Achiam, Steven Adler, Sandhini Ag...   \n",
       "3                                                   NaN   \n",
       "4     Bo Adler, Niket Agarwal, Ashwath Aithal, Dong ...   \n",
       "...                                                 ...   \n",
       "1601  G. Heigold, Vincent Vanhoucke, A. Senior, Patr...   \n",
       "1602  Andrea Frome, G. Corrado, Jonathon Shlens, Sam...   \n",
       "1603  Moo Jin Kim, Karl Pertsch, Siddharth Karamchet...   \n",
       "1604  Albert Jiang, Alexandre Sablayrolles, Alexis T...   \n",
       "1605   Ashutosh Saxena, Sung H. Chung, and Andrew Y. Ng   \n",
       "\n",
       "                              Notability criteria  \\\n",
       "0                  SOTA improvement,Training cost   \n",
       "1                  SOTA improvement,Training cost   \n",
       "2     Highly cited,SOTA improvement,Training cost   \n",
       "3                                   Training cost   \n",
       "4                                   Training cost   \n",
       "...                                           ...   \n",
       "1601               SOTA improvement,Training cost   \n",
       "1602                Highly cited,SOTA improvement   \n",
       "1603                                          NaN   \n",
       "1604                                          NaN   \n",
       "1605                                 Highly cited   \n",
       "\n",
       "                              Notability criteria notes  \\\n",
       "0     \" Evaluation on a broad range of benchmarks sh...   \n",
       "1     High training compute, exceeds 4o and Claude 3...   \n",
       "2     See the paper, p.1: \"On a suite of traditional...   \n",
       "3     ~$20M training cost: https://www.wsj.com/tech/...   \n",
       "4         ~2e25 FLOP, so high training cost, likely >5M   \n",
       "...                                                 ...   \n",
       "1601                                                NaN   \n",
       "1602                                                NaN   \n",
       "1603  claimed SOTA\\n\\n\"OpenVLA outperforms the 55B-p...   \n",
       "1604                                                NaN   \n",
       "1605                                    1000+ citations   \n",
       "\n",
       "               Model accessibility  \\\n",
       "0           Hosted access (no API)   \n",
       "1     Open access (restricted use)   \n",
       "2                       API access   \n",
       "3                       API access   \n",
       "4                      Open source   \n",
       "...                            ...   \n",
       "1601                           NaN   \n",
       "1602                           NaN   \n",
       "1603  Open access (restricted use)   \n",
       "1604                   Open source   \n",
       "1605                    Unreleased   \n",
       "\n",
       "                                                   Link  Citations  \\\n",
       "0     https://storage.googleapis.com/deepmind-media/...      633.0   \n",
       "1     https://ai.meta.com/research/publications/the-...        NaN   \n",
       "2                      https://arxiv.org/abs/2303.08774     5290.0   \n",
       "3                https://mistral.ai/news/mistral-large/        NaN   \n",
       "4     https://blogs.nvidia.com/blog/nemotron-4-synth...        NaN   \n",
       "...                                                 ...        ...   \n",
       "1601  https://www.semanticscholar.org/paper/Multilin...        NaN   \n",
       "1602  https://www.semanticscholar.org/paper/DeViSE%3...        NaN   \n",
       "1603  https://openvla.github.io/ ; https://arxiv.org...        NaN   \n",
       "1604              https://mistral.ai/news/mistral-nemo/        NaN   \n",
       "1605  https://papers.nips.cc/paper_files/paper/2005/...     1417.0   \n",
       "\n",
       "                                              Reference  ...  \\\n",
       "0     Gemini: A Family of Highly Capable Multimodal ...  ...   \n",
       "1                            The Llama 3 Herd of Models  ...   \n",
       "2                                GPT-4 Technical Report  ...   \n",
       "3                 Mistral Large, our new flagship model  ...   \n",
       "4     NVIDIA Releases Open Synthetic Data Generation...  ...   \n",
       "...                                                 ...  ...   \n",
       "1601  Multilingual acoustic models using distributed...  ...   \n",
       "1602     DeViSE: A Deep Visual-Semantic Embedding Model  ...   \n",
       "1603  OpenVLA: An Open-Source Vision-Language-Action...  ...   \n",
       "1604                                       Mistral NeMo  ...   \n",
       "1605        Learning Depth from Single Monocular Images  ...   \n",
       "\n",
       "     Training compute cost (2023 USD) Training dataset size  Sparsity  \\\n",
       "0                        $29827341.92      Gemini 1.0 Ultra       NaN   \n",
       "1                                 NaN                   NaN       NaN   \n",
       "2                        $40586592.58                 GPT-4     GPT-4   \n",
       "3                                 NaN         Mistral Large       NaN   \n",
       "4                                 NaN       Nemotron-4 340B       NaN   \n",
       "...                               ...                   ...       ...   \n",
       "1601                              NaN      Multilingual DNN       NaN   \n",
       "1602                              NaN                   NaN       NaN   \n",
       "1603                              NaN                   NaN       NaN   \n",
       "1604                              NaN                   NaN       NaN   \n",
       "1605                              NaN                   NaN       NaN   \n",
       "\n",
       "                                      Utilization notes  \\\n",
       "0                                                   NaN   \n",
       "1                                                   NaN   \n",
       "2     (Speculative) SemiAnalysis conjectures that GP...   \n",
       "3                                                   NaN   \n",
       "4                                                   NaN   \n",
       "...                                                 ...   \n",
       "1601                                                NaN   \n",
       "1602                                                NaN   \n",
       "1603                                                NaN   \n",
       "1604                                                NaN   \n",
       "1605                                                NaN   \n",
       "\n",
       "      Estimated over 1e25 FLOP Power per GPU Cluster total TDP  \\\n",
       "0                          NaN         192.0          10560000   \n",
       "1                          NaN         700.0                 0   \n",
       "2                          NaN         400.0          10000000   \n",
       "3                          NaN         350.0                 0   \n",
       "4                          NaN         700.0                 0   \n",
       "...                        ...           ...               ...   \n",
       "1601                       NaN           NaN                 0   \n",
       "1602                       NaN           NaN                 0   \n",
       "1603                       NaN         400.0             25600   \n",
       "1604                       NaN           NaN                 0   \n",
       "1605                       NaN           NaN                 0   \n",
       "\n",
       "     Base model compute    Difference Difference (share)  \n",
       "0                   NaN  5.000000e+25               100%  \n",
       "1                   NaN  3.800000e+25               100%  \n",
       "2                   NaN  2.100000e+25               100%  \n",
       "3                   NaN  2.000000e+25               100%  \n",
       "4                   NaN  1.800000e+25               100%  \n",
       "...                 ...           ...                ...  \n",
       "1601                NaN  0.000000e+00                NaN  \n",
       "1602                NaN  0.000000e+00                NaN  \n",
       "1603       8.400000e+22 -9.100000e+22          -Infinity  \n",
       "1604                NaN  0.000000e+00                NaN  \n",
       "1605                NaN  0.000000e+00                NaN  \n",
       "\n",
       "[1606 rows x 68 columns]"
      ]
     },
     "execution_count": 5,
     "metadata": {},
     "output_type": "execute_result"
    }
   ],
   "source": [
    "pcd_df"
   ]
  },
  {
   "cell_type": "code",
   "execution_count": 6,
   "metadata": {},
   "outputs": [
    {
     "data": {
      "text/plain": [
       "216    Unreleased\n",
       "Name: Model accessibility, dtype: object"
      ]
     },
     "execution_count": 6,
     "metadata": {},
     "output_type": "execute_result"
    }
   ],
   "source": [
    "pcd_df.loc[pcd_df['System'] == 'Megatron-BERT']['Model accessibility']"
   ]
  },
  {
   "cell_type": "code",
   "execution_count": 7,
   "metadata": {},
   "outputs": [
    {
     "data": {
      "text/plain": [
       "548"
      ]
     },
     "execution_count": 7,
     "metadata": {},
     "output_type": "execute_result"
    }
   ],
   "source": [
    "access_df = pcd_df.dropna(subset=['Publication date', 'Training compute (FLOP)', 'Model accessibility'])\n",
    "len(access_df)"
   ]
  },
  {
   "cell_type": "code",
   "execution_count": 8,
   "metadata": {},
   "outputs": [
    {
     "data": {
      "text/plain": [
       "array(['Hosted access (no API)', 'Open access (restricted use)',\n",
       "       'API access', 'Open source', 'Unreleased',\n",
       "       'Open access (non-commercial)'], dtype=object)"
      ]
     },
     "execution_count": 8,
     "metadata": {},
     "output_type": "execute_result"
    }
   ],
   "source": [
    "access_df['Model accessibility'].unique()"
   ]
  },
  {
   "cell_type": "code",
   "execution_count": 9,
   "metadata": {},
   "outputs": [
    {
     "name": "stdout",
     "output_type": "stream",
     "text": [
      "Hosted access (no API) 10\n",
      "Open access (restricted use) 54\n",
      "API access 27\n",
      "Open source 203\n",
      "Unreleased 204\n",
      "Open access (non-commercial) 50\n"
     ]
    }
   ],
   "source": [
    "for cat in access_df['Model accessibility'].unique():\n",
    "    print(cat, len(access_df.loc[access_df['Model accessibility'] == cat]))"
   ]
  },
  {
   "cell_type": "code",
   "execution_count": 10,
   "metadata": {},
   "outputs": [],
   "source": [
    "open_access_categories = ['Open source', 'Open access (restricted use)', 'Open access (non-commercial)']\n",
    "closed_access_categories = ['API access', 'Hosted access (no API)', 'Unreleased']"
   ]
  },
  {
   "cell_type": "code",
   "execution_count": 11,
   "metadata": {},
   "outputs": [
    {
     "data": {
      "text/plain": [
       "307"
      ]
     },
     "execution_count": 11,
     "metadata": {},
     "output_type": "execute_result"
    }
   ],
   "source": [
    "open_access_df = access_df.loc[access_df['Model accessibility'].isin(open_access_categories)]\n",
    "len(open_access_df)"
   ]
  },
  {
   "cell_type": "code",
   "execution_count": 12,
   "metadata": {},
   "outputs": [
    {
     "data": {
      "text/plain": [
       "241"
      ]
     },
     "execution_count": 12,
     "metadata": {},
     "output_type": "execute_result"
    }
   ],
   "source": [
    "closed_access_df = access_df.loc[access_df['Model accessibility'].isin(closed_access_categories)]\n",
    "len(closed_access_df)"
   ]
  },
  {
   "cell_type": "code",
   "execution_count": 13,
   "metadata": {},
   "outputs": [
    {
     "name": "stderr",
     "output_type": "stream",
     "text": [
      "/var/folders/s2/stl5t_bn7xg9vdfxxr71rzrc0000gn/T/ipykernel_25721/148813227.py:2: SettingWithCopyWarning: \n",
      "A value is trying to be set on a copy of a slice from a DataFrame.\n",
      "Try using .loc[row_indexer,col_indexer] = value instead\n",
      "\n",
      "See the caveats in the documentation: https://pandas.pydata.org/pandas-docs/stable/user_guide/indexing.html#returning-a-view-versus-a-copy\n",
      "  access_df['Model open/closed'] = access_df['Model accessibility'].apply(\n"
     ]
    }
   ],
   "source": [
    "# Add column with binary access label\n",
    "access_df['Model open/closed'] = access_df['Model accessibility'].apply(\n",
    "    lambda x: 'Open' if x in open_access_categories else 'Closed'\n",
    ")"
   ]
  },
  {
   "cell_type": "code",
   "execution_count": 14,
   "metadata": {},
   "outputs": [
    {
     "data": {
      "text/html": [
       "<div>\n",
       "<style scoped>\n",
       "    .dataframe tbody tr th:only-of-type {\n",
       "        vertical-align: middle;\n",
       "    }\n",
       "\n",
       "    .dataframe tbody tr th {\n",
       "        vertical-align: top;\n",
       "    }\n",
       "\n",
       "    .dataframe thead th {\n",
       "        text-align: right;\n",
       "    }\n",
       "</style>\n",
       "<table border=\"1\" class=\"dataframe\">\n",
       "  <thead>\n",
       "    <tr style=\"text-align: right;\">\n",
       "      <th></th>\n",
       "      <th>System</th>\n",
       "      <th>Domain</th>\n",
       "      <th>Task</th>\n",
       "      <th>Authors</th>\n",
       "      <th>Notability criteria</th>\n",
       "      <th>Notability criteria notes</th>\n",
       "      <th>Model accessibility</th>\n",
       "      <th>Link</th>\n",
       "      <th>Citations</th>\n",
       "      <th>Reference</th>\n",
       "      <th>...</th>\n",
       "      <th>Training dataset size</th>\n",
       "      <th>Sparsity</th>\n",
       "      <th>Utilization notes</th>\n",
       "      <th>Estimated over 1e25 FLOP</th>\n",
       "      <th>Power per GPU</th>\n",
       "      <th>Cluster total TDP</th>\n",
       "      <th>Base model compute</th>\n",
       "      <th>Difference</th>\n",
       "      <th>Difference (share)</th>\n",
       "      <th>Model open/closed</th>\n",
       "    </tr>\n",
       "  </thead>\n",
       "  <tbody>\n",
       "    <tr>\n",
       "      <th>0</th>\n",
       "      <td>Gemini 1.0 Ultra</td>\n",
       "      <td>Multimodal,Language,Vision</td>\n",
       "      <td>Language modelling,Visual question answering,C...</td>\n",
       "      <td>Gemini Team</td>\n",
       "      <td>SOTA improvement,Training cost</td>\n",
       "      <td>\" Evaluation on a broad range of benchmarks sh...</td>\n",
       "      <td>Hosted access (no API)</td>\n",
       "      <td>https://storage.googleapis.com/deepmind-media/...</td>\n",
       "      <td>633.0</td>\n",
       "      <td>Gemini: A Family of Highly Capable Multimodal ...</td>\n",
       "      <td>...</td>\n",
       "      <td>Gemini 1.0 Ultra</td>\n",
       "      <td>NaN</td>\n",
       "      <td>NaN</td>\n",
       "      <td>NaN</td>\n",
       "      <td>192.0</td>\n",
       "      <td>10560000</td>\n",
       "      <td>NaN</td>\n",
       "      <td>5.000000e+25</td>\n",
       "      <td>100%</td>\n",
       "      <td>Closed</td>\n",
       "    </tr>\n",
       "    <tr>\n",
       "      <th>1</th>\n",
       "      <td>Llama 3.1-405B</td>\n",
       "      <td>Language</td>\n",
       "      <td>Language modelling/generation</td>\n",
       "      <td>Abhimanyu Dubey, Abhinav Jauhri, Abhinav Pande...</td>\n",
       "      <td>SOTA improvement,Training cost</td>\n",
       "      <td>High training compute, exceeds 4o and Claude 3...</td>\n",
       "      <td>Open access (restricted use)</td>\n",
       "      <td>https://ai.meta.com/research/publications/the-...</td>\n",
       "      <td>NaN</td>\n",
       "      <td>The Llama 3 Herd of Models</td>\n",
       "      <td>...</td>\n",
       "      <td>NaN</td>\n",
       "      <td>NaN</td>\n",
       "      <td>NaN</td>\n",
       "      <td>NaN</td>\n",
       "      <td>700.0</td>\n",
       "      <td>0</td>\n",
       "      <td>NaN</td>\n",
       "      <td>3.800000e+25</td>\n",
       "      <td>100%</td>\n",
       "      <td>Open</td>\n",
       "    </tr>\n",
       "    <tr>\n",
       "      <th>2</th>\n",
       "      <td>GPT-4</td>\n",
       "      <td>Multimodal,Language,Vision,Image generation</td>\n",
       "      <td>Language modelling</td>\n",
       "      <td>OpenAI, Josh Achiam, Steven Adler, Sandhini Ag...</td>\n",
       "      <td>Highly cited,SOTA improvement,Training cost</td>\n",
       "      <td>See the paper, p.1: \"On a suite of traditional...</td>\n",
       "      <td>API access</td>\n",
       "      <td>https://arxiv.org/abs/2303.08774</td>\n",
       "      <td>5290.0</td>\n",
       "      <td>GPT-4 Technical Report</td>\n",
       "      <td>...</td>\n",
       "      <td>GPT-4</td>\n",
       "      <td>GPT-4</td>\n",
       "      <td>(Speculative) SemiAnalysis conjectures that GP...</td>\n",
       "      <td>NaN</td>\n",
       "      <td>400.0</td>\n",
       "      <td>10000000</td>\n",
       "      <td>NaN</td>\n",
       "      <td>2.100000e+25</td>\n",
       "      <td>100%</td>\n",
       "      <td>Closed</td>\n",
       "    </tr>\n",
       "    <tr>\n",
       "      <th>3</th>\n",
       "      <td>Mistral Large</td>\n",
       "      <td>Language</td>\n",
       "      <td>Chat</td>\n",
       "      <td>NaN</td>\n",
       "      <td>Training cost</td>\n",
       "      <td>~$20M training cost: https://www.wsj.com/tech/...</td>\n",
       "      <td>API access</td>\n",
       "      <td>https://mistral.ai/news/mistral-large/</td>\n",
       "      <td>NaN</td>\n",
       "      <td>Mistral Large, our new flagship model</td>\n",
       "      <td>...</td>\n",
       "      <td>Mistral Large</td>\n",
       "      <td>NaN</td>\n",
       "      <td>NaN</td>\n",
       "      <td>NaN</td>\n",
       "      <td>350.0</td>\n",
       "      <td>0</td>\n",
       "      <td>NaN</td>\n",
       "      <td>2.000000e+25</td>\n",
       "      <td>100%</td>\n",
       "      <td>Closed</td>\n",
       "    </tr>\n",
       "    <tr>\n",
       "      <th>4</th>\n",
       "      <td>Nemotron-4 340B</td>\n",
       "      <td>Language</td>\n",
       "      <td>Language modelling/generation,Chat</td>\n",
       "      <td>Bo Adler, Niket Agarwal, Ashwath Aithal, Dong ...</td>\n",
       "      <td>Training cost</td>\n",
       "      <td>~2e25 FLOP, so high training cost, likely &gt;5M</td>\n",
       "      <td>Open source</td>\n",
       "      <td>https://blogs.nvidia.com/blog/nemotron-4-synth...</td>\n",
       "      <td>NaN</td>\n",
       "      <td>NVIDIA Releases Open Synthetic Data Generation...</td>\n",
       "      <td>...</td>\n",
       "      <td>Nemotron-4 340B</td>\n",
       "      <td>NaN</td>\n",
       "      <td>NaN</td>\n",
       "      <td>NaN</td>\n",
       "      <td>700.0</td>\n",
       "      <td>0</td>\n",
       "      <td>NaN</td>\n",
       "      <td>1.800000e+25</td>\n",
       "      <td>100%</td>\n",
       "      <td>Open</td>\n",
       "    </tr>\n",
       "    <tr>\n",
       "      <th>...</th>\n",
       "      <td>...</td>\n",
       "      <td>...</td>\n",
       "      <td>...</td>\n",
       "      <td>...</td>\n",
       "      <td>...</td>\n",
       "      <td>...</td>\n",
       "      <td>...</td>\n",
       "      <td>...</td>\n",
       "      <td>...</td>\n",
       "      <td>...</td>\n",
       "      <td>...</td>\n",
       "      <td>...</td>\n",
       "      <td>...</td>\n",
       "      <td>...</td>\n",
       "      <td>...</td>\n",
       "      <td>...</td>\n",
       "      <td>...</td>\n",
       "      <td>...</td>\n",
       "      <td>...</td>\n",
       "      <td>...</td>\n",
       "      <td>...</td>\n",
       "    </tr>\n",
       "    <tr>\n",
       "      <th>658</th>\n",
       "      <td>bRSM + cache</td>\n",
       "      <td>Language</td>\n",
       "      <td>NaN</td>\n",
       "      <td>Jeremy Gordon, David Rawlinson, Subutai Ahmad</td>\n",
       "      <td>NaN</td>\n",
       "      <td>NaN</td>\n",
       "      <td>Unreleased</td>\n",
       "      <td>https://arxiv.org/abs/1912.01116</td>\n",
       "      <td>4.0</td>\n",
       "      <td>Long Distance Relationships without Time Trave...</td>\n",
       "      <td>...</td>\n",
       "      <td>bRSM + cache</td>\n",
       "      <td>NaN</td>\n",
       "      <td>NaN</td>\n",
       "      <td>NaN</td>\n",
       "      <td>NaN</td>\n",
       "      <td>0</td>\n",
       "      <td>NaN</td>\n",
       "      <td>2.130000e+14</td>\n",
       "      <td>100%</td>\n",
       "      <td>Closed</td>\n",
       "    </tr>\n",
       "    <tr>\n",
       "      <th>660</th>\n",
       "      <td>life2vec</td>\n",
       "      <td>Medicine</td>\n",
       "      <td>Mortality prediction</td>\n",
       "      <td>Germans Savcisens, Tina Eliassi-Rad, Lars Kai ...</td>\n",
       "      <td>NaN</td>\n",
       "      <td>NaN</td>\n",
       "      <td>Unreleased</td>\n",
       "      <td>https://arxiv.org/abs/2306.03009</td>\n",
       "      <td>NaN</td>\n",
       "      <td>Using Sequences of Life-events to Predict Huma...</td>\n",
       "      <td>...</td>\n",
       "      <td>life2vec</td>\n",
       "      <td>NaN</td>\n",
       "      <td>NaN</td>\n",
       "      <td>NaN</td>\n",
       "      <td>NaN</td>\n",
       "      <td>0</td>\n",
       "      <td>NaN</td>\n",
       "      <td>1.639051e+14</td>\n",
       "      <td>100%</td>\n",
       "      <td>Closed</td>\n",
       "    </tr>\n",
       "    <tr>\n",
       "      <th>664</th>\n",
       "      <td>Vision-based obstacle avoidance system (2005) ...</td>\n",
       "      <td>Robotics,Vision</td>\n",
       "      <td>Self-driving car,Object detection</td>\n",
       "      <td>Urs Muller, Jan Ben, Eric Cosatto, Beat Flepp,...</td>\n",
       "      <td>NaN</td>\n",
       "      <td>Not necessarily notable, merely worth adding t...</td>\n",
       "      <td>Unreleased</td>\n",
       "      <td>https://papers.nips.cc/paper_files/paper/2005/...</td>\n",
       "      <td>742.0</td>\n",
       "      <td>Off-Road Obstacle Avoidance through End-to-End...</td>\n",
       "      <td>...</td>\n",
       "      <td>NaN</td>\n",
       "      <td>NaN</td>\n",
       "      <td>NaN</td>\n",
       "      <td>NaN</td>\n",
       "      <td>84.0</td>\n",
       "      <td>84</td>\n",
       "      <td>NaN</td>\n",
       "      <td>6.500000e+13</td>\n",
       "      <td>100%</td>\n",
       "      <td>Closed</td>\n",
       "    </tr>\n",
       "    <tr>\n",
       "      <th>672</th>\n",
       "      <td>SPIDER2</td>\n",
       "      <td>Biology</td>\n",
       "      <td>Protein folding prediction,Proteins</td>\n",
       "      <td>Yuedong Yang, Rhys Heffernan, Kuldip Paliwal, ...</td>\n",
       "      <td>SOTA improvement</td>\n",
       "      <td>The method provides state-of-the-art, all-in-o...</td>\n",
       "      <td>Open access (non-commercial)</td>\n",
       "      <td>https://link.springer.com/protocol/10.1007/978...</td>\n",
       "      <td>NaN</td>\n",
       "      <td>SPIDER2: A Package to Predict Secondary Struct...</td>\n",
       "      <td>...</td>\n",
       "      <td>SPIDER2</td>\n",
       "      <td>NaN</td>\n",
       "      <td>NaN</td>\n",
       "      <td>NaN</td>\n",
       "      <td>NaN</td>\n",
       "      <td>0</td>\n",
       "      <td>NaN</td>\n",
       "      <td>8.540000e+12</td>\n",
       "      <td>100%</td>\n",
       "      <td>Open</td>\n",
       "    </tr>\n",
       "    <tr>\n",
       "      <th>711</th>\n",
       "      <td>Credibilty Network</td>\n",
       "      <td>Vision</td>\n",
       "      <td>Character recognition,Image classification</td>\n",
       "      <td>Geoffrey E. Hinton, Zoubin Ghahramani, Vee Why...</td>\n",
       "      <td>NaN</td>\n",
       "      <td>NaN</td>\n",
       "      <td>Unreleased</td>\n",
       "      <td>https://proceedings.neurips.cc/paper_files/pap...</td>\n",
       "      <td>NaN</td>\n",
       "      <td>Learning to Parse Images</td>\n",
       "      <td>...</td>\n",
       "      <td>Credibilty Network</td>\n",
       "      <td>NaN</td>\n",
       "      <td>NaN</td>\n",
       "      <td>NaN</td>\n",
       "      <td>NaN</td>\n",
       "      <td>0</td>\n",
       "      <td>NaN</td>\n",
       "      <td>5.443200e+06</td>\n",
       "      <td>100%</td>\n",
       "      <td>Closed</td>\n",
       "    </tr>\n",
       "  </tbody>\n",
       "</table>\n",
       "<p>548 rows × 69 columns</p>\n",
       "</div>"
      ],
      "text/plain": [
       "                                                System  \\\n",
       "0                                     Gemini 1.0 Ultra   \n",
       "1                                       Llama 3.1-405B   \n",
       "2                                                GPT-4   \n",
       "3                                        Mistral Large   \n",
       "4                                      Nemotron-4 340B   \n",
       "..                                                 ...   \n",
       "658                                       bRSM + cache   \n",
       "660                                           life2vec   \n",
       "664  Vision-based obstacle avoidance system (2005) ...   \n",
       "672                                            SPIDER2   \n",
       "711                                 Credibilty Network   \n",
       "\n",
       "                                          Domain  \\\n",
       "0                     Multimodal,Language,Vision   \n",
       "1                                       Language   \n",
       "2    Multimodal,Language,Vision,Image generation   \n",
       "3                                       Language   \n",
       "4                                       Language   \n",
       "..                                           ...   \n",
       "658                                     Language   \n",
       "660                                     Medicine   \n",
       "664                              Robotics,Vision   \n",
       "672                                      Biology   \n",
       "711                                       Vision   \n",
       "\n",
       "                                                  Task  \\\n",
       "0    Language modelling,Visual question answering,C...   \n",
       "1                        Language modelling/generation   \n",
       "2                                   Language modelling   \n",
       "3                                                 Chat   \n",
       "4                   Language modelling/generation,Chat   \n",
       "..                                                 ...   \n",
       "658                                                NaN   \n",
       "660                               Mortality prediction   \n",
       "664                  Self-driving car,Object detection   \n",
       "672                Protein folding prediction,Proteins   \n",
       "711         Character recognition,Image classification   \n",
       "\n",
       "                                               Authors  \\\n",
       "0                                          Gemini Team   \n",
       "1    Abhimanyu Dubey, Abhinav Jauhri, Abhinav Pande...   \n",
       "2    OpenAI, Josh Achiam, Steven Adler, Sandhini Ag...   \n",
       "3                                                  NaN   \n",
       "4    Bo Adler, Niket Agarwal, Ashwath Aithal, Dong ...   \n",
       "..                                                 ...   \n",
       "658      Jeremy Gordon, David Rawlinson, Subutai Ahmad   \n",
       "660  Germans Savcisens, Tina Eliassi-Rad, Lars Kai ...   \n",
       "664  Urs Muller, Jan Ben, Eric Cosatto, Beat Flepp,...   \n",
       "672  Yuedong Yang, Rhys Heffernan, Kuldip Paliwal, ...   \n",
       "711  Geoffrey E. Hinton, Zoubin Ghahramani, Vee Why...   \n",
       "\n",
       "                             Notability criteria  \\\n",
       "0                 SOTA improvement,Training cost   \n",
       "1                 SOTA improvement,Training cost   \n",
       "2    Highly cited,SOTA improvement,Training cost   \n",
       "3                                  Training cost   \n",
       "4                                  Training cost   \n",
       "..                                           ...   \n",
       "658                                          NaN   \n",
       "660                                          NaN   \n",
       "664                                          NaN   \n",
       "672                             SOTA improvement   \n",
       "711                                          NaN   \n",
       "\n",
       "                             Notability criteria notes  \\\n",
       "0    \" Evaluation on a broad range of benchmarks sh...   \n",
       "1    High training compute, exceeds 4o and Claude 3...   \n",
       "2    See the paper, p.1: \"On a suite of traditional...   \n",
       "3    ~$20M training cost: https://www.wsj.com/tech/...   \n",
       "4        ~2e25 FLOP, so high training cost, likely >5M   \n",
       "..                                                 ...   \n",
       "658                                                NaN   \n",
       "660                                                NaN   \n",
       "664  Not necessarily notable, merely worth adding t...   \n",
       "672  The method provides state-of-the-art, all-in-o...   \n",
       "711                                                NaN   \n",
       "\n",
       "              Model accessibility  \\\n",
       "0          Hosted access (no API)   \n",
       "1    Open access (restricted use)   \n",
       "2                      API access   \n",
       "3                      API access   \n",
       "4                     Open source   \n",
       "..                            ...   \n",
       "658                    Unreleased   \n",
       "660                    Unreleased   \n",
       "664                    Unreleased   \n",
       "672  Open access (non-commercial)   \n",
       "711                    Unreleased   \n",
       "\n",
       "                                                  Link  Citations  \\\n",
       "0    https://storage.googleapis.com/deepmind-media/...      633.0   \n",
       "1    https://ai.meta.com/research/publications/the-...        NaN   \n",
       "2                     https://arxiv.org/abs/2303.08774     5290.0   \n",
       "3               https://mistral.ai/news/mistral-large/        NaN   \n",
       "4    https://blogs.nvidia.com/blog/nemotron-4-synth...        NaN   \n",
       "..                                                 ...        ...   \n",
       "658                   https://arxiv.org/abs/1912.01116        4.0   \n",
       "660                   https://arxiv.org/abs/2306.03009        NaN   \n",
       "664  https://papers.nips.cc/paper_files/paper/2005/...      742.0   \n",
       "672  https://link.springer.com/protocol/10.1007/978...        NaN   \n",
       "711  https://proceedings.neurips.cc/paper_files/pap...        NaN   \n",
       "\n",
       "                                             Reference  ...  \\\n",
       "0    Gemini: A Family of Highly Capable Multimodal ...  ...   \n",
       "1                           The Llama 3 Herd of Models  ...   \n",
       "2                               GPT-4 Technical Report  ...   \n",
       "3                Mistral Large, our new flagship model  ...   \n",
       "4    NVIDIA Releases Open Synthetic Data Generation...  ...   \n",
       "..                                                 ...  ...   \n",
       "658  Long Distance Relationships without Time Trave...  ...   \n",
       "660  Using Sequences of Life-events to Predict Huma...  ...   \n",
       "664  Off-Road Obstacle Avoidance through End-to-End...  ...   \n",
       "672  SPIDER2: A Package to Predict Secondary Struct...  ...   \n",
       "711                           Learning to Parse Images  ...   \n",
       "\n",
       "    Training dataset size Sparsity  \\\n",
       "0        Gemini 1.0 Ultra      NaN   \n",
       "1                     NaN      NaN   \n",
       "2                   GPT-4    GPT-4   \n",
       "3           Mistral Large      NaN   \n",
       "4         Nemotron-4 340B      NaN   \n",
       "..                    ...      ...   \n",
       "658          bRSM + cache      NaN   \n",
       "660              life2vec      NaN   \n",
       "664                   NaN      NaN   \n",
       "672               SPIDER2      NaN   \n",
       "711    Credibilty Network      NaN   \n",
       "\n",
       "                                     Utilization notes  \\\n",
       "0                                                  NaN   \n",
       "1                                                  NaN   \n",
       "2    (Speculative) SemiAnalysis conjectures that GP...   \n",
       "3                                                  NaN   \n",
       "4                                                  NaN   \n",
       "..                                                 ...   \n",
       "658                                                NaN   \n",
       "660                                                NaN   \n",
       "664                                                NaN   \n",
       "672                                                NaN   \n",
       "711                                                NaN   \n",
       "\n",
       "    Estimated over 1e25 FLOP  Power per GPU Cluster total TDP  \\\n",
       "0                        NaN          192.0          10560000   \n",
       "1                        NaN          700.0                 0   \n",
       "2                        NaN          400.0          10000000   \n",
       "3                        NaN          350.0                 0   \n",
       "4                        NaN          700.0                 0   \n",
       "..                       ...            ...               ...   \n",
       "658                      NaN            NaN                 0   \n",
       "660                      NaN            NaN                 0   \n",
       "664                      NaN           84.0                84   \n",
       "672                      NaN            NaN                 0   \n",
       "711                      NaN            NaN                 0   \n",
       "\n",
       "    Base model compute    Difference  Difference (share) Model open/closed  \n",
       "0                  NaN  5.000000e+25                100%            Closed  \n",
       "1                  NaN  3.800000e+25                100%              Open  \n",
       "2                  NaN  2.100000e+25                100%            Closed  \n",
       "3                  NaN  2.000000e+25                100%            Closed  \n",
       "4                  NaN  1.800000e+25                100%              Open  \n",
       "..                 ...           ...                 ...               ...  \n",
       "658                NaN  2.130000e+14                100%            Closed  \n",
       "660                NaN  1.639051e+14                100%            Closed  \n",
       "664                NaN  6.500000e+13                100%            Closed  \n",
       "672                NaN  8.540000e+12                100%              Open  \n",
       "711                NaN  5.443200e+06                100%            Closed  \n",
       "\n",
       "[548 rows x 69 columns]"
      ]
     },
     "execution_count": 14,
     "metadata": {},
     "output_type": "execute_result"
    }
   ],
   "source": [
    "access_df"
   ]
  },
  {
   "cell_type": "markdown",
   "metadata": {},
   "source": [
    "## Compute percentile filtering (skipped for now in regression/viz code)"
   ]
  },
  {
   "cell_type": "code",
   "execution_count": 15,
   "metadata": {},
   "outputs": [],
   "source": [
    "outlier_window_size = 2  # years\n",
    "start_large_scale_era = '2015-09-01'"
   ]
  },
  {
   "cell_type": "code",
   "execution_count": 16,
   "metadata": {},
   "outputs": [],
   "source": [
    "pcd_df['Publication date'] = pd.to_datetime(pcd_df['Publication date'])\n",
    "pcd_df.sort_values('Publication date', inplace=True)\n",
    "pcd_df.dropna(subset=['Publication date', 'Notability criteria', 'Training compute (FLOP)'], inplace=True)"
   ]
  },
  {
   "cell_type": "code",
   "execution_count": 17,
   "metadata": {},
   "outputs": [
    {
     "name": "stdout",
     "output_type": "stream",
     "text": [
      "95\n",
      "90\n",
      "85\n",
      "80\n",
      "75\n",
      "70\n",
      "65\n",
      "60\n",
      "55\n",
      "50\n",
      "45\n",
      "40\n",
      "35\n",
      "30\n",
      "25\n",
      "20\n",
      "15\n",
      "10\n",
      "5\n",
      "0\n"
     ]
    }
   ],
   "source": [
    "systems_by_percentile = {}\n",
    "percentile_interval = 5\n",
    "for percentile in range(95, -5, -percentile_interval):\n",
    "  print(percentile)\n",
    "  percentile_compute_low = np.zeros(len(pcd_df))\n",
    "  percentile_compute_high = np.zeros(len(pcd_df))\n",
    "  # Iterate through each row and calculate the 2-year moving average for each date\n",
    "  for i, (index, row) in enumerate(pcd_df.iterrows()):\n",
    "    # Define the 2-year window\n",
    "    start_date = row['Publication date'] - pd.DateOffset(years=outlier_window_size/2)\n",
    "    end_date = row['Publication date'] + pd.DateOffset(years=outlier_window_size/2)\n",
    "\n",
    "    # Filter the DataFrame for this window\n",
    "    window_df = pcd_df[(pcd_df['Publication date'] >= start_date) & (pcd_df['Publication date'] <= end_date)]\n",
    "\n",
    "    percentile_compute_low[i] = np.percentile(window_df['Training compute (FLOP)'], percentile)\n",
    "    percentile_compute_high[i] = np.percentile(window_df['Training compute (FLOP)'], percentile + percentile_interval)\n",
    "\n",
    "  systems_flag = pcd_df['Training compute (FLOP)'] > np.array(percentile_compute_low)\n",
    "  extra_systems_flag = pcd_df['Training compute (FLOP)'] <= np.array(percentile_compute_high)\n",
    "\n",
    "  # raise Exception(\"Edit the following line if you want to consider models released after 2023-12-31.\")\n",
    "  extra_systems = pcd_df['System'][systems_flag & extra_systems_flag & (pcd_df['Publication date'] > pd.to_datetime('2015-09-30'))].values\n",
    "\n",
    "  systems_by_percentile[percentile] = list(extra_systems)"
   ]
  },
  {
   "cell_type": "code",
   "execution_count": 18,
   "metadata": {},
   "outputs": [
    {
     "data": {
      "text/plain": [
       "{95: ['GNMT',\n",
       "  'AlphaGo Master',\n",
       "  'AlphaGo Zero',\n",
       "  'AlphaZero',\n",
       "  'ResNeXt-101 32x48d',\n",
       "  'Meena',\n",
       "  'GPT-3 175B (davinci)',\n",
       "  'GShard (dense)',\n",
       "  'Megatron-Turing NLG 530B',\n",
       "  'PaLM (540B)',\n",
       "  'Minerva (540B)',\n",
       "  'GPT-4',\n",
       "  'Gemini 1.0 Ultra',\n",
       "  'Llama 3.1-405B'],\n",
       " 90: ['NASv3 (CIFAR-10)',\n",
       "  'FTW',\n",
       "  'Megatron-BERT',\n",
       "  'T5-11B',\n",
       "  'AlphaStar',\n",
       "  'OpenAI Five',\n",
       "  'mT5-XXL',\n",
       "  'Switch',\n",
       "  'Gopher (280B)',\n",
       "  'ERNIE 3.0 Titan',\n",
       "  'Chinchilla',\n",
       "  'Flan-PaLM 540B',\n",
       "  'U-PaLM (540B)',\n",
       "  'GPT-3.5 (text-davinci-003)',\n",
       "  'PaLM 2',\n",
       "  'Claude 2',\n",
       "  'Inflection-2',\n",
       "  'MegaScale (Production)',\n",
       "  'Mistral Large',\n",
       "  'Nemotron-4 340B'],\n",
       " 85: ['AlphaGo Fan',\n",
       "  'AlphaGo Lee',\n",
       "  'JFT',\n",
       "  'AmoebaNet-A (F=448)',\n",
       "  'XLNet',\n",
       "  'Megatron-LM (8.3B)',\n",
       "  'OpenAI Five Rerun',\n",
       "  'Turing-NLG',\n",
       "  'Yuan 1.0',\n",
       "  'GLaM',\n",
       "  'LaMDA',\n",
       "  'OPT-175B',\n",
       "  'BLOOM-176B',\n",
       "  'Falcon-180B',\n",
       "  'Inflection-2.5'],\n",
       " 80: ['OpenAI TI7 DOTA 1v1',\n",
       "  'IMPALA',\n",
       "  'BigGAN-deep 512x512',\n",
       "  'GPT-2 (1.5B)',\n",
       "  'iGPT-XL',\n",
       "  'DALL-E',\n",
       "  'Meta Pseudo Labels',\n",
       "  'ByT5-XXL',\n",
       "  'GOAT',\n",
       "  'HyperCLOVA 82B',\n",
       "  'AlphaCode',\n",
       "  'ST-MoE',\n",
       "  'Parti',\n",
       "  'GLM-130B',\n",
       "  'BlenderBot 3',\n",
       "  'LLaMA-65B',\n",
       "  'Llama 2-70B',\n",
       "  'Grok-1',\n",
       "  'Qwen-72B',\n",
       "  'Llama 3-70B'],\n",
       " 75: ['Xception',\n",
       "  'Libratus',\n",
       "  'BERT-Large',\n",
       "  'RoBERTa Large',\n",
       "  'ContextNet + Noisy Student',\n",
       "  'ProtT5-XXL',\n",
       "  'GPT-NeoX-20B',\n",
       "  'Flamingo',\n",
       "  'UL2',\n",
       "  'Galactica',\n",
       "  'ViT-22B',\n",
       "  'PanGu-Σ',\n",
       "  'xTrimoPGLM -100B'],\n",
       " 70: ['DeepSpeech2 (English)',\n",
       "  'PolyNet',\n",
       "  'MoE-Multi',\n",
       "  'Big Transformer for Back-Translation',\n",
       "  'Mesh-TensorFlow Transformer 4.9B (language modelling)',\n",
       "  'MnasNet-A3',\n",
       "  'MnasNet-A1 + SSDLite',\n",
       "  'ALBERT-xxlarge',\n",
       "  'ELECTRA',\n",
       "  'iGPT-L',\n",
       "  'PLUG',\n",
       "  'ProtBERT-BFD',\n",
       "  'ProtT5-XXL-BFD',\n",
       "  'CoAtNet',\n",
       "  'FLAN 137B',\n",
       "  'Florence',\n",
       "  'AlexaTM 20B',\n",
       "  'Llama 2-34B',\n",
       "  'Yi-34B',\n",
       "  'MegaScale (530B)',\n",
       "  'DeepSeek-Coder-V2-236B',\n",
       "  'ESM3 (98B)'],\n",
       " 65: ['ResNet-152 (ImageNet)',\n",
       "  'ConvS2S (ensemble of 8 models)',\n",
       "  'PNASNet-5',\n",
       "  'YOLOv3',\n",
       "  'Transformer (Adaptive Input Embeddings) WT103',\n",
       "  'BERT-Large-CAS (PTB+WT2+WT103)',\n",
       "  'Conformer + Wav2vec 2.0 + Noisy Student',\n",
       "  'CLIP (ViT L/14@336px)',\n",
       "  'CogView',\n",
       "  'ALIGN',\n",
       "  'BASIC-L',\n",
       "  'Stable Diffusion (LDM-KL-8-G)',\n",
       "  'CoCa',\n",
       "  'ESM2-15B',\n",
       "  'Falcon-40B',\n",
       "  'BloombergGPT'],\n",
       " 60: ['ResNet-200',\n",
       "  'QT-Opt',\n",
       "  'Population-based DRL',\n",
       "  'Mesh-TensorFlow Transformer 2.9B (translation)',\n",
       "  'Megatron-LM (355M)',\n",
       "  'T5-3B',\n",
       "  'CamemBERT',\n",
       "  'Noisy Student (L2)',\n",
       "  'Once for All',\n",
       "  'ERNIE 3.0',\n",
       "  'Student of Games',\n",
       "  'PaLI',\n",
       "  'StarCoder',\n",
       "  'Skywork-13B',\n",
       "  'FunSearch',\n",
       "  'MM1-30B',\n",
       "  'Llama 3-8B'],\n",
       " 55: ['DeepStack',\n",
       "  'LSTM (Hebbian, Cache, MbPA)',\n",
       "  'SciBERT',\n",
       "  'DD-PPO',\n",
       "  'ViT-Huge/14',\n",
       "  'MSA Transformer',\n",
       "  'M6-T',\n",
       "  'ADM',\n",
       "  'DeBERTa',\n",
       "  'XGLM-7.5B',\n",
       "  'RETRO-7B',\n",
       "  'Imagen',\n",
       "  'NLLB',\n",
       "  'ESM2-3B',\n",
       "  'Flan-T5 11B',\n",
       "  'Llama 2-7B',\n",
       "  'Llama 2-13B',\n",
       "  'Nemotron-3-8B',\n",
       "  'MegaScale (175B)'],\n",
       " 50: ['BIDAF',\n",
       "  'Transformer',\n",
       "  'GPT-1',\n",
       "  'ProxylessNAS',\n",
       "  'GBERT-Large',\n",
       "  'wave2vec 2.0 LARGE',\n",
       "  'AlphaFold 2',\n",
       "  'HuBERT',\n",
       "  'PLATO-XL',\n",
       "  'ProGen2-xlarge',\n",
       "  'OmegaPLM',\n",
       "  'LLaMA-7B',\n",
       "  'LLaMA-13B',\n",
       "  'FinGPT-13B',\n",
       "  'Llama Guard'],\n",
       " 45: ['RetinaNet-R101',\n",
       "  'Transformer + Simple Recurrent Unit',\n",
       "  'Sandwich Transformer',\n",
       "  'DETR',\n",
       "  'ESM1-670M (UR50/D)',\n",
       "  'German ELECTRA Large',\n",
       "  'CPM-Large',\n",
       "  'ViT-G/14',\n",
       "  'SEER',\n",
       "  'Tranception',\n",
       "  'ESM2-650M',\n",
       "  'Pangu-Weather',\n",
       "  'ChatGLM3-6B',\n",
       "  'Volcano 13B'],\n",
       " 40: ['Part-of-sentence tagging model',\n",
       "  'GL-LWGC-AWD-MoS-LSTM + dynamic evaluation (WT2)',\n",
       "  'Transformer-XL (257M)',\n",
       "  'KataGo',\n",
       "  'MuZero',\n",
       "  'AlphaFold',\n",
       "  'ESM1-670M (UR50/S)',\n",
       "  'AlphaFold-Multimer',\n",
       "  'NÜWA',\n",
       "  'Gato',\n",
       "  'Nucleotide Transformer',\n",
       "  'Jais',\n",
       "  'LLaVA 1.5'],\n",
       " 35: ['Named Entity Recognition model',\n",
       "  'AWD-LSTM - 3-layer LSTM (tied) + continuous cache pointer (WT2)',\n",
       "  '(ensemble): AWD-LSTM-DOC (fin) × 5 (WT2)',\n",
       "  'TrellisNet',\n",
       "  'Feedback Transformer',\n",
       "  'ERNIE-GEN (large)',\n",
       "  'LUKE',\n",
       "  'ESM1b',\n",
       "  'EMDR',\n",
       "  'ViT-G (model soup)',\n",
       "  'CodeT5-large',\n",
       "  'Whisper',\n",
       "  'AudioGen',\n",
       "  'VideoMAE V2',\n",
       "  'Segment Anything Model',\n",
       "  'CogVLM',\n",
       "  'SPHINX (Llama 2 13B)',\n",
       "  'GraphCast',\n",
       "  'CogAgent',\n",
       "  'phi-3-mini 3.8B'],\n",
       " 30: ['R-FCN',\n",
       "  'AWD-LSTM-MoS + dynamic evaluation (WT2, 2017)',\n",
       "  'ULM-FiT',\n",
       "  'QRNN',\n",
       "  'Big-Little Net (speech)',\n",
       "  'FAIRSEQ Adaptive Inputs',\n",
       "  'Transformer-XL Large + Phrase Induction',\n",
       "  'ResNet-152 + ObjectNet',\n",
       "  'DistilBERT',\n",
       "  'ATLAS',\n",
       "  'ESM1-670M (UR100)',\n",
       "  'CodeT5-base',\n",
       "  'Swin Transformer V2',\n",
       "  'PolyCoder',\n",
       "  'GenSLM',\n",
       "  'EVA-01',\n",
       "  'Ankh_large',\n",
       "  'DINOv2',\n",
       "  'PeptideBERT'],\n",
       " 25: ['Zoneout + Variational LSTM (WT2)',\n",
       "  'VD-LSTM+REAL Large',\n",
       "  'Decoupled weight decay regularization',\n",
       "  'Hanabi 4 player',\n",
       "  'Tensorized Transformer (257M)',\n",
       "  'AlphaX-1',\n",
       "  'TaLK Convolution',\n",
       "  'UnifiedQA',\n",
       "  'ESM1-85M',\n",
       "  'KEPLER',\n",
       "  'ViT + DINO',\n",
       "  'ConSERT',\n",
       "  'Denoising Diffusion Probabilistic Models (LSUN Bedroom)',\n",
       "  'T0-XXL',\n",
       "  'S4',\n",
       "  'Masked Autoencoders',\n",
       "  'ESM2-150M',\n",
       "  'Ankh_base',\n",
       "  'BLIP-2 (Q-Former)',\n",
       "  'Incoder-6.7B'],\n",
       " 20: ['Fraternal dropout + AWD-LSTM 3-layer (WT2)',\n",
       "  '4 layer QRNN (h=2500)',\n",
       "  'Dropout-LSTM+Noise(Bernoulli) (WT2)',\n",
       "  'Big-Little Net',\n",
       "  'Cross-lingual alignment',\n",
       "  'DLRM-2020',\n",
       "  'Base LM + kNN LM + Continuous Cache',\n",
       "  'DeiT-B',\n",
       "  'Contriever',\n",
       "  'ESM2-35M',\n",
       "  'AR-LDM',\n",
       "  'Discriminator Guidance',\n",
       "  'Hybrid H3-2.7B',\n",
       "  'DDPM-IP (CelebA)',\n",
       "  'DiT-XL/2'],\n",
       " 15: ['Variational (untied weights, MC) LSTM (Large)',\n",
       "  'Pointer Sentinel-LSTM (medium)',\n",
       "  'Neural Architecture Search with base 8 and shared embeddings',\n",
       "  'ENAS',\n",
       "  'aLSTM(depth-2)+RecurrentPolicy (WT2)',\n",
       "  'Transformer-XL DeFINE (141M)',\n",
       "  'DeLight',\n",
       "  'ESM1-43M',\n",
       "  'ERNIE-Doc (247M)',\n",
       "  'EfficientNetV2-XL',\n",
       "  'Adaptive Input Transformer + RD',\n",
       "  'DNABERT',\n",
       "  'BERT-RBP',\n",
       "  'InternImage',\n",
       "  'Fusion in Encoder',\n",
       "  'InstructBLIP',\n",
       "  'ONE-PEACE'],\n",
       " 10: ['EI-REHN-1000D',\n",
       "  'DARTS',\n",
       "  'AWD-LSTM-DRILL + dynamic evaluation† (WT2)',\n",
       "  'NAS+ESS (156M)',\n",
       "  'ProBERTa',\n",
       "  'SRU++ Large',\n",
       "  'ProteinBERT',\n",
       "  'Sparse all-MLP',\n",
       "  'BEIT-3',\n",
       "  'DiffDock',\n",
       "  'eDiff-I'],\n",
       " 5: ['VD-RHN',\n",
       "  'ISS',\n",
       "  'AWD-LSTM+WT+Cache+IOG (WT2)',\n",
       "  'AWD-LSTM + MoS + Partial Shuffled',\n",
       "  'UDSMProt',\n",
       "  'MMLSTM',\n",
       "  'Tensor-Transformer(1core)+PN (WT103)',\n",
       "  'Transformer local-attention (NesT-B)',\n",
       "  'Detic',\n",
       "  'Segatron-XL large, M=384 + HCP',\n",
       "  'ESM2-8M',\n",
       "  'CaLM',\n",
       "  'LLaVA',\n",
       "  'MultiBand Diffusion'],\n",
       " 0: ['PyramidNet',\n",
       "  '2-layer-LSTM+Deep-Gradient-Compression',\n",
       "  'Fine-tuned-AWD-LSTM-DOC(fin)',\n",
       "  'Multi-cell LSTM',\n",
       "  'Pluribus',\n",
       "  'TransformerXL + spectrum control',\n",
       "  'DensePhrases',\n",
       "  'CT-MoS (WT2)',\n",
       "  'MedBERT',\n",
       "  'PermuteFormer',\n",
       "  'base LM+GNN+kNN',\n",
       "  'Projected GAN',\n",
       "  'DITTO',\n",
       "  'Mogrifier RLSTM (WT2)',\n",
       "  'VALL-E',\n",
       "  'HyenaDNA',\n",
       "  'AudioLM',\n",
       "  'CODEFUSION (Python)']}"
      ]
     },
     "execution_count": 18,
     "metadata": {},
     "output_type": "execute_result"
    }
   ],
   "source": [
    "systems_by_percentile"
   ]
  },
  {
   "cell_type": "code",
   "execution_count": 19,
   "metadata": {},
   "outputs": [
    {
     "data": {
      "text/plain": [
       "['BIDAF',\n",
       " 'Transformer',\n",
       " 'GPT-1',\n",
       " 'ProxylessNAS',\n",
       " 'GBERT-Large',\n",
       " 'wave2vec 2.0 LARGE',\n",
       " 'AlphaFold 2',\n",
       " 'HuBERT',\n",
       " 'PLATO-XL',\n",
       " 'ProGen2-xlarge',\n",
       " 'OmegaPLM',\n",
       " 'LLaMA-7B',\n",
       " 'LLaMA-13B',\n",
       " 'FinGPT-13B',\n",
       " 'Llama Guard',\n",
       " 'DeepStack',\n",
       " 'LSTM (Hebbian, Cache, MbPA)',\n",
       " 'SciBERT',\n",
       " 'DD-PPO',\n",
       " 'ViT-Huge/14',\n",
       " 'MSA Transformer',\n",
       " 'M6-T',\n",
       " 'ADM',\n",
       " 'DeBERTa',\n",
       " 'XGLM-7.5B',\n",
       " 'RETRO-7B',\n",
       " 'Imagen',\n",
       " 'NLLB',\n",
       " 'ESM2-3B',\n",
       " 'Flan-T5 11B',\n",
       " 'Llama 2-7B',\n",
       " 'Llama 2-13B',\n",
       " 'Nemotron-3-8B',\n",
       " 'MegaScale (175B)',\n",
       " 'ResNet-200',\n",
       " 'QT-Opt',\n",
       " 'Population-based DRL',\n",
       " 'Mesh-TensorFlow Transformer 2.9B (translation)',\n",
       " 'Megatron-LM (355M)',\n",
       " 'T5-3B',\n",
       " 'CamemBERT',\n",
       " 'Noisy Student (L2)',\n",
       " 'Once for All',\n",
       " 'ERNIE 3.0',\n",
       " 'Student of Games',\n",
       " 'PaLI',\n",
       " 'StarCoder',\n",
       " 'Skywork-13B',\n",
       " 'FunSearch',\n",
       " 'MM1-30B',\n",
       " 'Llama 3-8B',\n",
       " 'ResNet-152 (ImageNet)',\n",
       " 'ConvS2S (ensemble of 8 models)',\n",
       " 'PNASNet-5',\n",
       " 'YOLOv3',\n",
       " 'Transformer (Adaptive Input Embeddings) WT103',\n",
       " 'BERT-Large-CAS (PTB+WT2+WT103)',\n",
       " 'Conformer + Wav2vec 2.0 + Noisy Student',\n",
       " 'CLIP (ViT L/14@336px)',\n",
       " 'CogView',\n",
       " 'ALIGN',\n",
       " 'BASIC-L',\n",
       " 'Stable Diffusion (LDM-KL-8-G)',\n",
       " 'CoCa',\n",
       " 'ESM2-15B',\n",
       " 'Falcon-40B',\n",
       " 'BloombergGPT',\n",
       " 'DeepSpeech2 (English)',\n",
       " 'PolyNet',\n",
       " 'MoE-Multi',\n",
       " 'Big Transformer for Back-Translation',\n",
       " 'Mesh-TensorFlow Transformer 4.9B (language modelling)',\n",
       " 'MnasNet-A3',\n",
       " 'MnasNet-A1 + SSDLite',\n",
       " 'ALBERT-xxlarge',\n",
       " 'ELECTRA',\n",
       " 'iGPT-L',\n",
       " 'PLUG',\n",
       " 'ProtBERT-BFD',\n",
       " 'ProtT5-XXL-BFD',\n",
       " 'CoAtNet',\n",
       " 'FLAN 137B',\n",
       " 'Florence',\n",
       " 'AlexaTM 20B',\n",
       " 'Llama 2-34B',\n",
       " 'Yi-34B',\n",
       " 'MegaScale (530B)',\n",
       " 'DeepSeek-Coder-V2-236B',\n",
       " 'ESM3 (98B)',\n",
       " 'Xception',\n",
       " 'Libratus',\n",
       " 'BERT-Large',\n",
       " 'RoBERTa Large',\n",
       " 'ContextNet + Noisy Student',\n",
       " 'ProtT5-XXL',\n",
       " 'GPT-NeoX-20B',\n",
       " 'Flamingo',\n",
       " 'UL2',\n",
       " 'Galactica',\n",
       " 'ViT-22B',\n",
       " 'PanGu-Σ',\n",
       " 'xTrimoPGLM -100B',\n",
       " 'OpenAI TI7 DOTA 1v1',\n",
       " 'IMPALA',\n",
       " 'BigGAN-deep 512x512',\n",
       " 'GPT-2 (1.5B)',\n",
       " 'iGPT-XL',\n",
       " 'DALL-E',\n",
       " 'Meta Pseudo Labels',\n",
       " 'ByT5-XXL',\n",
       " 'GOAT',\n",
       " 'HyperCLOVA 82B',\n",
       " 'AlphaCode',\n",
       " 'ST-MoE',\n",
       " 'Parti',\n",
       " 'GLM-130B',\n",
       " 'BlenderBot 3',\n",
       " 'LLaMA-65B',\n",
       " 'Llama 2-70B',\n",
       " 'Grok-1',\n",
       " 'Qwen-72B',\n",
       " 'Llama 3-70B',\n",
       " 'AlphaGo Fan',\n",
       " 'AlphaGo Lee',\n",
       " 'JFT',\n",
       " 'AmoebaNet-A (F=448)',\n",
       " 'XLNet',\n",
       " 'Megatron-LM (8.3B)',\n",
       " 'OpenAI Five Rerun',\n",
       " 'Turing-NLG',\n",
       " 'Yuan 1.0',\n",
       " 'GLaM',\n",
       " 'LaMDA',\n",
       " 'OPT-175B',\n",
       " 'BLOOM-176B',\n",
       " 'Falcon-180B',\n",
       " 'Inflection-2.5',\n",
       " 'NASv3 (CIFAR-10)',\n",
       " 'FTW',\n",
       " 'Megatron-BERT',\n",
       " 'T5-11B',\n",
       " 'AlphaStar',\n",
       " 'OpenAI Five',\n",
       " 'mT5-XXL',\n",
       " 'Switch',\n",
       " 'Gopher (280B)',\n",
       " 'ERNIE 3.0 Titan',\n",
       " 'Chinchilla',\n",
       " 'Flan-PaLM 540B',\n",
       " 'U-PaLM (540B)',\n",
       " 'GPT-3.5 (text-davinci-003)',\n",
       " 'PaLM 2',\n",
       " 'Claude 2',\n",
       " 'Inflection-2',\n",
       " 'MegaScale (Production)',\n",
       " 'Mistral Large',\n",
       " 'Nemotron-4 340B',\n",
       " 'GNMT',\n",
       " 'AlphaGo Master',\n",
       " 'AlphaGo Zero',\n",
       " 'AlphaZero',\n",
       " 'ResNeXt-101 32x48d',\n",
       " 'Meena',\n",
       " 'GPT-3 175B (davinci)',\n",
       " 'GShard (dense)',\n",
       " 'Megatron-Turing NLG 530B',\n",
       " 'PaLM (540B)',\n",
       " 'Minerva (540B)',\n",
       " 'GPT-4',\n",
       " 'Gemini 1.0 Ultra',\n",
       " 'Llama 3.1-405B']"
      ]
     },
     "execution_count": 19,
     "metadata": {},
     "output_type": "execute_result"
    }
   ],
   "source": [
    "compute_percentile_threshold = 50\n",
    "selected_systems = []\n",
    "for percentile in range(compute_percentile_threshold, 100, 5):\n",
    "    selected_systems.extend(systems_by_percentile[percentile])\n",
    "selected_systems"
   ]
  },
  {
   "cell_type": "markdown",
   "metadata": {},
   "source": [
    "# Top-n frontier filtering"
   ]
  },
  {
   "cell_type": "code",
   "execution_count": 20,
   "metadata": {},
   "outputs": [
    {
     "name": "stderr",
     "output_type": "stream",
     "text": [
      "/var/folders/s2/stl5t_bn7xg9vdfxxr71rzrc0000gn/T/ipykernel_25721/3991044387.py:1: SettingWithCopyWarning: \n",
      "A value is trying to be set on a copy of a slice from a DataFrame.\n",
      "Try using .loc[row_indexer,col_indexer] = value instead\n",
      "\n",
      "See the caveats in the documentation: https://pandas.pydata.org/pandas-docs/stable/user_guide/indexing.html#returning-a-view-versus-a-copy\n",
      "  access_df['Publication date (float)'] = datetime_to_float_year(\n"
     ]
    }
   ],
   "source": [
    "access_df['Publication date (float)'] = datetime_to_float_year(\n",
    "    pd.to_datetime(access_df['Publication date'])\n",
    ")"
   ]
  },
  {
   "cell_type": "code",
   "execution_count": 21,
   "metadata": {},
   "outputs": [
    {
     "name": "stderr",
     "output_type": "stream",
     "text": [
      "/var/folders/s2/stl5t_bn7xg9vdfxxr71rzrc0000gn/T/ipykernel_25721/1055558449.py:3: SettingWithCopyWarning: \n",
      "A value is trying to be set on a copy of a slice from a DataFrame.\n",
      "Try using .loc[row_indexer,col_indexer] = value instead\n",
      "\n",
      "See the caveats in the documentation: https://pandas.pydata.org/pandas-docs/stable/user_guide/indexing.html#returning-a-view-versus-a-copy\n",
      "  access_df[f'top_{n}_at_release'] = False\n"
     ]
    }
   ],
   "source": [
    "n = 10\n",
    "\n",
    "access_df[f'top_{n}_at_release'] = False\n",
    "\n",
    "for row, model in access_df.iterrows():\n",
    "    # Filter for models released as of the model release, with the same open/closed status\n",
    "    date_df = access_df[(access_df['Publication date (float)'] <= model['Publication date (float)']) \n",
    "        & (access_df['Model open/closed'] == model['Model open/closed'])]\n",
    "    # Get the top n models (with the same open/closed status) by compute\n",
    "    top_n_models = date_df.nlargest(n, 'Training compute (FLOP)')\n",
    "    # Mark these models in the original dataframe\n",
    "    access_df.loc[top_n_models.index, f'top_{n}_at_release'] = True"
   ]
  },
  {
   "cell_type": "code",
   "execution_count": 22,
   "metadata": {},
   "outputs": [
    {
     "data": {
      "text/html": [
       "<div>\n",
       "<style scoped>\n",
       "    .dataframe tbody tr th:only-of-type {\n",
       "        vertical-align: middle;\n",
       "    }\n",
       "\n",
       "    .dataframe tbody tr th {\n",
       "        vertical-align: top;\n",
       "    }\n",
       "\n",
       "    .dataframe thead th {\n",
       "        text-align: right;\n",
       "    }\n",
       "</style>\n",
       "<table border=\"1\" class=\"dataframe\">\n",
       "  <thead>\n",
       "    <tr style=\"text-align: right;\">\n",
       "      <th></th>\n",
       "      <th>System</th>\n",
       "      <th>Domain</th>\n",
       "      <th>Task</th>\n",
       "      <th>Authors</th>\n",
       "      <th>Notability criteria</th>\n",
       "      <th>Notability criteria notes</th>\n",
       "      <th>Model accessibility</th>\n",
       "      <th>Link</th>\n",
       "      <th>Citations</th>\n",
       "      <th>Reference</th>\n",
       "      <th>...</th>\n",
       "      <th>Utilization notes</th>\n",
       "      <th>Estimated over 1e25 FLOP</th>\n",
       "      <th>Power per GPU</th>\n",
       "      <th>Cluster total TDP</th>\n",
       "      <th>Base model compute</th>\n",
       "      <th>Difference</th>\n",
       "      <th>Difference (share)</th>\n",
       "      <th>Model open/closed</th>\n",
       "      <th>Publication date (float)</th>\n",
       "      <th>top_10_at_release</th>\n",
       "    </tr>\n",
       "  </thead>\n",
       "  <tbody>\n",
       "    <tr>\n",
       "      <th>1</th>\n",
       "      <td>Llama 3.1-405B</td>\n",
       "      <td>Language</td>\n",
       "      <td>Language modelling/generation</td>\n",
       "      <td>Abhimanyu Dubey, Abhinav Jauhri, Abhinav Pande...</td>\n",
       "      <td>SOTA improvement,Training cost</td>\n",
       "      <td>High training compute, exceeds 4o and Claude 3...</td>\n",
       "      <td>Open access (restricted use)</td>\n",
       "      <td>https://ai.meta.com/research/publications/the-...</td>\n",
       "      <td>NaN</td>\n",
       "      <td>The Llama 3 Herd of Models</td>\n",
       "      <td>...</td>\n",
       "      <td>NaN</td>\n",
       "      <td>NaN</td>\n",
       "      <td>700.0</td>\n",
       "      <td>0</td>\n",
       "      <td>NaN</td>\n",
       "      <td>3.800000e+25</td>\n",
       "      <td>100%</td>\n",
       "      <td>Open</td>\n",
       "      <td>2024.560234</td>\n",
       "      <td>True</td>\n",
       "    </tr>\n",
       "    <tr>\n",
       "      <th>4</th>\n",
       "      <td>Nemotron-4 340B</td>\n",
       "      <td>Language</td>\n",
       "      <td>Language modelling/generation,Chat</td>\n",
       "      <td>Bo Adler, Niket Agarwal, Ashwath Aithal, Dong ...</td>\n",
       "      <td>Training cost</td>\n",
       "      <td>~2e25 FLOP, so high training cost, likely &gt;5M</td>\n",
       "      <td>Open source</td>\n",
       "      <td>https://blogs.nvidia.com/blog/nemotron-4-synth...</td>\n",
       "      <td>NaN</td>\n",
       "      <td>NVIDIA Releases Open Synthetic Data Generation...</td>\n",
       "      <td>...</td>\n",
       "      <td>NaN</td>\n",
       "      <td>NaN</td>\n",
       "      <td>700.0</td>\n",
       "      <td>0</td>\n",
       "      <td>NaN</td>\n",
       "      <td>1.800000e+25</td>\n",
       "      <td>100%</td>\n",
       "      <td>Open</td>\n",
       "      <td>2024.452259</td>\n",
       "      <td>True</td>\n",
       "    </tr>\n",
       "    <tr>\n",
       "      <th>9</th>\n",
       "      <td>Llama 3-70B</td>\n",
       "      <td>Language</td>\n",
       "      <td>Chat,Language modelling/generation,Code genera...</td>\n",
       "      <td>Aaditya Singh; Aaron Grattafiori; Abhimanyu Du...</td>\n",
       "      <td>Significant use</td>\n",
       "      <td>Will almost certainly be very influential and ...</td>\n",
       "      <td>Open access (restricted use)</td>\n",
       "      <td>https://ai.meta.com/blog/meta-llama-3/</td>\n",
       "      <td>NaN</td>\n",
       "      <td>Introducing Meta Llama 3: The most capable ope...</td>\n",
       "      <td>...</td>\n",
       "      <td>\"Our most efficient implementation achieves a ...</td>\n",
       "      <td>NaN</td>\n",
       "      <td>700.0</td>\n",
       "      <td>11200000</td>\n",
       "      <td>NaN</td>\n",
       "      <td>6.300000e+24</td>\n",
       "      <td>100%</td>\n",
       "      <td>Open</td>\n",
       "      <td>2024.296544</td>\n",
       "      <td>True</td>\n",
       "    </tr>\n",
       "    <tr>\n",
       "      <th>12</th>\n",
       "      <td>Falcon-180B</td>\n",
       "      <td>Language</td>\n",
       "      <td>Language modelling</td>\n",
       "      <td>Ebtesam Almazrouei, Hamza Alobeidli, Abdulaziz...</td>\n",
       "      <td>Training cost</td>\n",
       "      <td>\"It's currently at the top of the Hugging Face...</td>\n",
       "      <td>Open access (restricted use)</td>\n",
       "      <td>https://falconllm.tii.ae/falcon-180b.html; htt...</td>\n",
       "      <td>148.0</td>\n",
       "      <td>The Falcon Series of Open Language Models</td>\n",
       "      <td>...</td>\n",
       "      <td>Estimated training compute: 3.76e24\\nFLOPs at ...</td>\n",
       "      <td>NaN</td>\n",
       "      <td>400.0</td>\n",
       "      <td>1638400</td>\n",
       "      <td>NaN</td>\n",
       "      <td>3.760000e+24</td>\n",
       "      <td>100%</td>\n",
       "      <td>Open</td>\n",
       "      <td>2023.680356</td>\n",
       "      <td>True</td>\n",
       "    </tr>\n",
       "    <tr>\n",
       "      <th>13</th>\n",
       "      <td>Qwen2-72B</td>\n",
       "      <td>Language</td>\n",
       "      <td>Chat,Language modelling/generation</td>\n",
       "      <td>Qwen Team</td>\n",
       "      <td>NaN</td>\n",
       "      <td>SOTA claims are against open source models wit...</td>\n",
       "      <td>Open source</td>\n",
       "      <td>https://qwenlm.github.io/blog/qwen2/ \\nhttps:/...</td>\n",
       "      <td>NaN</td>\n",
       "      <td>Hello Qwen2</td>\n",
       "      <td>...</td>\n",
       "      <td>NaN</td>\n",
       "      <td>NaN</td>\n",
       "      <td>NaN</td>\n",
       "      <td>0</td>\n",
       "      <td>NaN</td>\n",
       "      <td>3.020000e+24</td>\n",
       "      <td>100%</td>\n",
       "      <td>Open</td>\n",
       "      <td>2024.433094</td>\n",
       "      <td>True</td>\n",
       "    </tr>\n",
       "    <tr>\n",
       "      <th>...</th>\n",
       "      <td>...</td>\n",
       "      <td>...</td>\n",
       "      <td>...</td>\n",
       "      <td>...</td>\n",
       "      <td>...</td>\n",
       "      <td>...</td>\n",
       "      <td>...</td>\n",
       "      <td>...</td>\n",
       "      <td>...</td>\n",
       "      <td>...</td>\n",
       "      <td>...</td>\n",
       "      <td>...</td>\n",
       "      <td>...</td>\n",
       "      <td>...</td>\n",
       "      <td>...</td>\n",
       "      <td>...</td>\n",
       "      <td>...</td>\n",
       "      <td>...</td>\n",
       "      <td>...</td>\n",
       "      <td>...</td>\n",
       "      <td>...</td>\n",
       "    </tr>\n",
       "    <tr>\n",
       "      <th>572</th>\n",
       "      <td>Big-Little Net (speech)</td>\n",
       "      <td>Speech</td>\n",
       "      <td>Speech recognition</td>\n",
       "      <td>Chun-Fu (Richard) Chen, Quanfu Fan, Neil Malli...</td>\n",
       "      <td>SOTA improvement</td>\n",
       "      <td>\"Furthermore, our model surpasses state-of-the...</td>\n",
       "      <td>Open source</td>\n",
       "      <td>https://arxiv.org/abs/1807.03848</td>\n",
       "      <td>86.0</td>\n",
       "      <td>Big-Little Net: An Efficient Multi-Scale Featu...</td>\n",
       "      <td>...</td>\n",
       "      <td>NaN</td>\n",
       "      <td>NaN</td>\n",
       "      <td>NaN</td>\n",
       "      <td>0</td>\n",
       "      <td>NaN</td>\n",
       "      <td>4.290048e+17</td>\n",
       "      <td>100%</td>\n",
       "      <td>Open</td>\n",
       "      <td>2018.524641</td>\n",
       "      <td>True</td>\n",
       "    </tr>\n",
       "    <tr>\n",
       "      <th>581</th>\n",
       "      <td>ULM-FiT</td>\n",
       "      <td>Language</td>\n",
       "      <td>Text classification</td>\n",
       "      <td>Jeremy Howard, Sebastian Ruder</td>\n",
       "      <td>Highly cited</td>\n",
       "      <td>NaN</td>\n",
       "      <td>Open source</td>\n",
       "      <td>https://arxiv.org/abs/1801.06146</td>\n",
       "      <td>1940.0</td>\n",
       "      <td>Universal Language Model Fine-tuning for Text ...</td>\n",
       "      <td>...</td>\n",
       "      <td>NaN</td>\n",
       "      <td>NaN</td>\n",
       "      <td>NaN</td>\n",
       "      <td>0</td>\n",
       "      <td>NaN</td>\n",
       "      <td>2.725380e+17</td>\n",
       "      <td>100%</td>\n",
       "      <td>Open</td>\n",
       "      <td>2018.046544</td>\n",
       "      <td>True</td>\n",
       "    </tr>\n",
       "    <tr>\n",
       "      <th>582</th>\n",
       "      <td>Big-Little Net</td>\n",
       "      <td>Vision</td>\n",
       "      <td>Image classification</td>\n",
       "      <td>Chun-Fu Chen, Quanfu Fan, Neil Mallinar, Tom S...</td>\n",
       "      <td>SOTA improvement</td>\n",
       "      <td>\"On object recognition task, we demonstrated t...</td>\n",
       "      <td>Open source</td>\n",
       "      <td>https://arxiv.org/abs/1807.03848</td>\n",
       "      <td>86.0</td>\n",
       "      <td>Big-Little Net: An Efficient Multi-Scale Featu...</td>\n",
       "      <td>...</td>\n",
       "      <td>NaN</td>\n",
       "      <td>NaN</td>\n",
       "      <td>300.0</td>\n",
       "      <td>0</td>\n",
       "      <td>NaN</td>\n",
       "      <td>2.460480e+17</td>\n",
       "      <td>100%</td>\n",
       "      <td>Open</td>\n",
       "      <td>2018.524641</td>\n",
       "      <td>True</td>\n",
       "    </tr>\n",
       "    <tr>\n",
       "      <th>597</th>\n",
       "      <td>DNCON2</td>\n",
       "      <td>Biology</td>\n",
       "      <td>Proteins,Protein folding prediction</td>\n",
       "      <td>Badri Adhikari, Jie Hou, Jianlin Cheng</td>\n",
       "      <td>NaN</td>\n",
       "      <td>NaN</td>\n",
       "      <td>Open source</td>\n",
       "      <td>https://academic.oup.com/bioinformatics/articl...</td>\n",
       "      <td>173.0</td>\n",
       "      <td>DNCON2: improved protein contact prediction us...</td>\n",
       "      <td>...</td>\n",
       "      <td>NaN</td>\n",
       "      <td>NaN</td>\n",
       "      <td>NaN</td>\n",
       "      <td>0</td>\n",
       "      <td>NaN</td>\n",
       "      <td>9.500000e+16</td>\n",
       "      <td>100%</td>\n",
       "      <td>Open</td>\n",
       "      <td>2018.333333</td>\n",
       "      <td>True</td>\n",
       "    </tr>\n",
       "    <tr>\n",
       "      <th>672</th>\n",
       "      <td>SPIDER2</td>\n",
       "      <td>Biology</td>\n",
       "      <td>Protein folding prediction,Proteins</td>\n",
       "      <td>Yuedong Yang, Rhys Heffernan, Kuldip Paliwal, ...</td>\n",
       "      <td>SOTA improvement</td>\n",
       "      <td>The method provides state-of-the-art, all-in-o...</td>\n",
       "      <td>Open access (non-commercial)</td>\n",
       "      <td>https://link.springer.com/protocol/10.1007/978...</td>\n",
       "      <td>NaN</td>\n",
       "      <td>SPIDER2: A Package to Predict Secondary Struct...</td>\n",
       "      <td>...</td>\n",
       "      <td>NaN</td>\n",
       "      <td>NaN</td>\n",
       "      <td>NaN</td>\n",
       "      <td>0</td>\n",
       "      <td>NaN</td>\n",
       "      <td>8.540000e+12</td>\n",
       "      <td>100%</td>\n",
       "      <td>Open</td>\n",
       "      <td>2016.823924</td>\n",
       "      <td>True</td>\n",
       "    </tr>\n",
       "  </tbody>\n",
       "</table>\n",
       "<p>86 rows × 71 columns</p>\n",
       "</div>"
      ],
      "text/plain": [
       "                      System    Domain  \\\n",
       "1             Llama 3.1-405B  Language   \n",
       "4            Nemotron-4 340B  Language   \n",
       "9                Llama 3-70B  Language   \n",
       "12               Falcon-180B  Language   \n",
       "13                 Qwen2-72B  Language   \n",
       "..                       ...       ...   \n",
       "572  Big-Little Net (speech)    Speech   \n",
       "581                  ULM-FiT  Language   \n",
       "582           Big-Little Net    Vision   \n",
       "597                   DNCON2   Biology   \n",
       "672                  SPIDER2   Biology   \n",
       "\n",
       "                                                  Task  \\\n",
       "1                        Language modelling/generation   \n",
       "4                   Language modelling/generation,Chat   \n",
       "9    Chat,Language modelling/generation,Code genera...   \n",
       "12                                  Language modelling   \n",
       "13                  Chat,Language modelling/generation   \n",
       "..                                                 ...   \n",
       "572                                 Speech recognition   \n",
       "581                                Text classification   \n",
       "582                               Image classification   \n",
       "597                Proteins,Protein folding prediction   \n",
       "672                Protein folding prediction,Proteins   \n",
       "\n",
       "                                               Authors  \\\n",
       "1    Abhimanyu Dubey, Abhinav Jauhri, Abhinav Pande...   \n",
       "4    Bo Adler, Niket Agarwal, Ashwath Aithal, Dong ...   \n",
       "9    Aaditya Singh; Aaron Grattafiori; Abhimanyu Du...   \n",
       "12   Ebtesam Almazrouei, Hamza Alobeidli, Abdulaziz...   \n",
       "13                                           Qwen Team   \n",
       "..                                                 ...   \n",
       "572  Chun-Fu (Richard) Chen, Quanfu Fan, Neil Malli...   \n",
       "581                     Jeremy Howard, Sebastian Ruder   \n",
       "582  Chun-Fu Chen, Quanfu Fan, Neil Mallinar, Tom S...   \n",
       "597             Badri Adhikari, Jie Hou, Jianlin Cheng   \n",
       "672  Yuedong Yang, Rhys Heffernan, Kuldip Paliwal, ...   \n",
       "\n",
       "                Notability criteria  \\\n",
       "1    SOTA improvement,Training cost   \n",
       "4                     Training cost   \n",
       "9                   Significant use   \n",
       "12                    Training cost   \n",
       "13                              NaN   \n",
       "..                              ...   \n",
       "572                SOTA improvement   \n",
       "581                    Highly cited   \n",
       "582                SOTA improvement   \n",
       "597                             NaN   \n",
       "672                SOTA improvement   \n",
       "\n",
       "                             Notability criteria notes  \\\n",
       "1    High training compute, exceeds 4o and Claude 3...   \n",
       "4        ~2e25 FLOP, so high training cost, likely >5M   \n",
       "9    Will almost certainly be very influential and ...   \n",
       "12   \"It's currently at the top of the Hugging Face...   \n",
       "13   SOTA claims are against open source models wit...   \n",
       "..                                                 ...   \n",
       "572  \"Furthermore, our model surpasses state-of-the...   \n",
       "581                                                NaN   \n",
       "582  \"On object recognition task, we demonstrated t...   \n",
       "597                                                NaN   \n",
       "672  The method provides state-of-the-art, all-in-o...   \n",
       "\n",
       "              Model accessibility  \\\n",
       "1    Open access (restricted use)   \n",
       "4                     Open source   \n",
       "9    Open access (restricted use)   \n",
       "12   Open access (restricted use)   \n",
       "13                    Open source   \n",
       "..                            ...   \n",
       "572                   Open source   \n",
       "581                   Open source   \n",
       "582                   Open source   \n",
       "597                   Open source   \n",
       "672  Open access (non-commercial)   \n",
       "\n",
       "                                                  Link  Citations  \\\n",
       "1    https://ai.meta.com/research/publications/the-...        NaN   \n",
       "4    https://blogs.nvidia.com/blog/nemotron-4-synth...        NaN   \n",
       "9               https://ai.meta.com/blog/meta-llama-3/        NaN   \n",
       "12   https://falconllm.tii.ae/falcon-180b.html; htt...      148.0   \n",
       "13   https://qwenlm.github.io/blog/qwen2/ \\nhttps:/...        NaN   \n",
       "..                                                 ...        ...   \n",
       "572                   https://arxiv.org/abs/1807.03848       86.0   \n",
       "581                   https://arxiv.org/abs/1801.06146     1940.0   \n",
       "582                   https://arxiv.org/abs/1807.03848       86.0   \n",
       "597  https://academic.oup.com/bioinformatics/articl...      173.0   \n",
       "672  https://link.springer.com/protocol/10.1007/978...        NaN   \n",
       "\n",
       "                                             Reference  ...  \\\n",
       "1                           The Llama 3 Herd of Models  ...   \n",
       "4    NVIDIA Releases Open Synthetic Data Generation...  ...   \n",
       "9    Introducing Meta Llama 3: The most capable ope...  ...   \n",
       "12           The Falcon Series of Open Language Models  ...   \n",
       "13                                         Hello Qwen2  ...   \n",
       "..                                                 ...  ...   \n",
       "572  Big-Little Net: An Efficient Multi-Scale Featu...  ...   \n",
       "581  Universal Language Model Fine-tuning for Text ...  ...   \n",
       "582  Big-Little Net: An Efficient Multi-Scale Featu...  ...   \n",
       "597  DNCON2: improved protein contact prediction us...  ...   \n",
       "672  SPIDER2: A Package to Predict Secondary Struct...  ...   \n",
       "\n",
       "                                     Utilization notes  \\\n",
       "1                                                  NaN   \n",
       "4                                                  NaN   \n",
       "9    \"Our most efficient implementation achieves a ...   \n",
       "12   Estimated training compute: 3.76e24\\nFLOPs at ...   \n",
       "13                                                 NaN   \n",
       "..                                                 ...   \n",
       "572                                                NaN   \n",
       "581                                                NaN   \n",
       "582                                                NaN   \n",
       "597                                                NaN   \n",
       "672                                                NaN   \n",
       "\n",
       "    Estimated over 1e25 FLOP  Power per GPU Cluster total TDP  \\\n",
       "1                        NaN          700.0                 0   \n",
       "4                        NaN          700.0                 0   \n",
       "9                        NaN          700.0          11200000   \n",
       "12                       NaN          400.0           1638400   \n",
       "13                       NaN            NaN                 0   \n",
       "..                       ...            ...               ...   \n",
       "572                      NaN            NaN                 0   \n",
       "581                      NaN            NaN                 0   \n",
       "582                      NaN          300.0                 0   \n",
       "597                      NaN            NaN                 0   \n",
       "672                      NaN            NaN                 0   \n",
       "\n",
       "     Base model compute    Difference Difference (share) Model open/closed  \\\n",
       "1                   NaN  3.800000e+25               100%              Open   \n",
       "4                   NaN  1.800000e+25               100%              Open   \n",
       "9                   NaN  6.300000e+24               100%              Open   \n",
       "12                  NaN  3.760000e+24               100%              Open   \n",
       "13                  NaN  3.020000e+24               100%              Open   \n",
       "..                  ...           ...                ...               ...   \n",
       "572                 NaN  4.290048e+17               100%              Open   \n",
       "581                 NaN  2.725380e+17               100%              Open   \n",
       "582                 NaN  2.460480e+17               100%              Open   \n",
       "597                 NaN  9.500000e+16               100%              Open   \n",
       "672                 NaN  8.540000e+12               100%              Open   \n",
       "\n",
       "     Publication date (float) top_10_at_release  \n",
       "1                 2024.560234              True  \n",
       "4                 2024.452259              True  \n",
       "9                 2024.296544              True  \n",
       "12                2023.680356              True  \n",
       "13                2024.433094              True  \n",
       "..                        ...               ...  \n",
       "572               2018.524641              True  \n",
       "581               2018.046544              True  \n",
       "582               2018.524641              True  \n",
       "597               2018.333333              True  \n",
       "672               2016.823924              True  \n",
       "\n",
       "[86 rows x 71 columns]"
      ]
     },
     "execution_count": 22,
     "metadata": {},
     "output_type": "execute_result"
    }
   ],
   "source": [
    "access_df[(access_df['top_10_at_release'] == True) & (access_df['Model open/closed'] == 'Open')]"
   ]
  },
  {
   "cell_type": "code",
   "execution_count": 23,
   "metadata": {},
   "outputs": [
    {
     "data": {
      "text/html": [
       "<div>\n",
       "<style scoped>\n",
       "    .dataframe tbody tr th:only-of-type {\n",
       "        vertical-align: middle;\n",
       "    }\n",
       "\n",
       "    .dataframe tbody tr th {\n",
       "        vertical-align: top;\n",
       "    }\n",
       "\n",
       "    .dataframe thead th {\n",
       "        text-align: right;\n",
       "    }\n",
       "</style>\n",
       "<table border=\"1\" class=\"dataframe\">\n",
       "  <thead>\n",
       "    <tr style=\"text-align: right;\">\n",
       "      <th></th>\n",
       "      <th>System</th>\n",
       "      <th>Domain</th>\n",
       "      <th>Task</th>\n",
       "      <th>Authors</th>\n",
       "      <th>Notability criteria</th>\n",
       "      <th>Notability criteria notes</th>\n",
       "      <th>Model accessibility</th>\n",
       "      <th>Link</th>\n",
       "      <th>Citations</th>\n",
       "      <th>Reference</th>\n",
       "      <th>...</th>\n",
       "      <th>Utilization notes</th>\n",
       "      <th>Estimated over 1e25 FLOP</th>\n",
       "      <th>Power per GPU</th>\n",
       "      <th>Cluster total TDP</th>\n",
       "      <th>Base model compute</th>\n",
       "      <th>Difference</th>\n",
       "      <th>Difference (share)</th>\n",
       "      <th>Model open/closed</th>\n",
       "      <th>Publication date (float)</th>\n",
       "      <th>top_10_at_release</th>\n",
       "    </tr>\n",
       "  </thead>\n",
       "  <tbody>\n",
       "    <tr>\n",
       "      <th>0</th>\n",
       "      <td>Gemini 1.0 Ultra</td>\n",
       "      <td>Multimodal,Language,Vision</td>\n",
       "      <td>Language modelling,Visual question answering,C...</td>\n",
       "      <td>Gemini Team</td>\n",
       "      <td>SOTA improvement,Training cost</td>\n",
       "      <td>\" Evaluation on a broad range of benchmarks sh...</td>\n",
       "      <td>Hosted access (no API)</td>\n",
       "      <td>https://storage.googleapis.com/deepmind-media/...</td>\n",
       "      <td>633.0</td>\n",
       "      <td>Gemini: A Family of Highly Capable Multimodal ...</td>\n",
       "      <td>...</td>\n",
       "      <td>NaN</td>\n",
       "      <td>NaN</td>\n",
       "      <td>192.0</td>\n",
       "      <td>10560000</td>\n",
       "      <td>NaN</td>\n",
       "      <td>5.000000e+25</td>\n",
       "      <td>100%</td>\n",
       "      <td>Closed</td>\n",
       "      <td>2023.930356</td>\n",
       "      <td>True</td>\n",
       "    </tr>\n",
       "    <tr>\n",
       "      <th>2</th>\n",
       "      <td>GPT-4</td>\n",
       "      <td>Multimodal,Language,Vision,Image generation</td>\n",
       "      <td>Language modelling</td>\n",
       "      <td>OpenAI, Josh Achiam, Steven Adler, Sandhini Ag...</td>\n",
       "      <td>Highly cited,SOTA improvement,Training cost</td>\n",
       "      <td>See the paper, p.1: \"On a suite of traditional...</td>\n",
       "      <td>API access</td>\n",
       "      <td>https://arxiv.org/abs/2303.08774</td>\n",
       "      <td>5290.0</td>\n",
       "      <td>GPT-4 Technical Report</td>\n",
       "      <td>...</td>\n",
       "      <td>(Speculative) SemiAnalysis conjectures that GP...</td>\n",
       "      <td>NaN</td>\n",
       "      <td>400.0</td>\n",
       "      <td>10000000</td>\n",
       "      <td>NaN</td>\n",
       "      <td>2.100000e+25</td>\n",
       "      <td>100%</td>\n",
       "      <td>Closed</td>\n",
       "      <td>2023.204997</td>\n",
       "      <td>True</td>\n",
       "    </tr>\n",
       "    <tr>\n",
       "      <th>3</th>\n",
       "      <td>Mistral Large</td>\n",
       "      <td>Language</td>\n",
       "      <td>Chat</td>\n",
       "      <td>NaN</td>\n",
       "      <td>Training cost</td>\n",
       "      <td>~$20M training cost: https://www.wsj.com/tech/...</td>\n",
       "      <td>API access</td>\n",
       "      <td>https://mistral.ai/news/mistral-large/</td>\n",
       "      <td>NaN</td>\n",
       "      <td>Mistral Large, our new flagship model</td>\n",
       "      <td>...</td>\n",
       "      <td>NaN</td>\n",
       "      <td>NaN</td>\n",
       "      <td>350.0</td>\n",
       "      <td>0</td>\n",
       "      <td>NaN</td>\n",
       "      <td>2.000000e+25</td>\n",
       "      <td>100%</td>\n",
       "      <td>Closed</td>\n",
       "      <td>2024.151781</td>\n",
       "      <td>True</td>\n",
       "    </tr>\n",
       "    <tr>\n",
       "      <th>5</th>\n",
       "      <td>MegaScale (Production)</td>\n",
       "      <td>Language</td>\n",
       "      <td>Language modelling/generation</td>\n",
       "      <td>Ziheng Jiang, Haibin Lin, Yinmin Zhong, Qi Hua...</td>\n",
       "      <td>SOTA improvement</td>\n",
       "      <td>Improves SOTA in FLOP utilization for distribu...</td>\n",
       "      <td>Unreleased</td>\n",
       "      <td>https://arxiv.org/abs/2402.15627</td>\n",
       "      <td>10.0</td>\n",
       "      <td>MegaScale: Scaling Large Language Model Traini...</td>\n",
       "      <td>...</td>\n",
       "      <td>NaN</td>\n",
       "      <td>NaN</td>\n",
       "      <td>400.0</td>\n",
       "      <td>4915200</td>\n",
       "      <td>NaN</td>\n",
       "      <td>1.200000e+25</td>\n",
       "      <td>100%</td>\n",
       "      <td>Closed</td>\n",
       "      <td>2024.143567</td>\n",
       "      <td>True</td>\n",
       "    </tr>\n",
       "    <tr>\n",
       "      <th>6</th>\n",
       "      <td>Inflection-2</td>\n",
       "      <td>Language</td>\n",
       "      <td>Language modelling,Language modelling/generati...</td>\n",
       "      <td>NaN</td>\n",
       "      <td>Significant use,Training cost</td>\n",
       "      <td>Inflection-2 either already powers Pi or soon ...</td>\n",
       "      <td>Hosted access (no API)</td>\n",
       "      <td>https://inflection.ai/inflection-2</td>\n",
       "      <td>NaN</td>\n",
       "      <td>Inflection-2: The Next Step Up</td>\n",
       "      <td>...</td>\n",
       "      <td>NaN</td>\n",
       "      <td>NaN</td>\n",
       "      <td>700.0</td>\n",
       "      <td>3500000</td>\n",
       "      <td>NaN</td>\n",
       "      <td>1.001000e+25</td>\n",
       "      <td>100%</td>\n",
       "      <td>Closed</td>\n",
       "      <td>2023.890829</td>\n",
       "      <td>True</td>\n",
       "    </tr>\n",
       "    <tr>\n",
       "      <th>...</th>\n",
       "      <td>...</td>\n",
       "      <td>...</td>\n",
       "      <td>...</td>\n",
       "      <td>...</td>\n",
       "      <td>...</td>\n",
       "      <td>...</td>\n",
       "      <td>...</td>\n",
       "      <td>...</td>\n",
       "      <td>...</td>\n",
       "      <td>...</td>\n",
       "      <td>...</td>\n",
       "      <td>...</td>\n",
       "      <td>...</td>\n",
       "      <td>...</td>\n",
       "      <td>...</td>\n",
       "      <td>...</td>\n",
       "      <td>...</td>\n",
       "      <td>...</td>\n",
       "      <td>...</td>\n",
       "      <td>...</td>\n",
       "      <td>...</td>\n",
       "    </tr>\n",
       "    <tr>\n",
       "      <th>639</th>\n",
       "      <td>Search-Proven Best LSTM</td>\n",
       "      <td>Language</td>\n",
       "      <td>NaN</td>\n",
       "      <td>R. Józefowicz, Wojciech Zaremba, Ilya Sutskever</td>\n",
       "      <td>Highly cited</td>\n",
       "      <td>NaN</td>\n",
       "      <td>Unreleased</td>\n",
       "      <td>https://proceedings.mlr.press/v37/jozefowicz15...</td>\n",
       "      <td>2207.0</td>\n",
       "      <td>An Empirical Exploration of Recurrent Network ...</td>\n",
       "      <td>...</td>\n",
       "      <td>NaN</td>\n",
       "      <td>NaN</td>\n",
       "      <td>NaN</td>\n",
       "      <td>0</td>\n",
       "      <td>NaN</td>\n",
       "      <td>3.340000e+15</td>\n",
       "      <td>100%</td>\n",
       "      <td>Closed</td>\n",
       "      <td>2015.513690</td>\n",
       "      <td>True</td>\n",
       "    </tr>\n",
       "    <tr>\n",
       "      <th>644</th>\n",
       "      <td>LSTM-Char-Large</td>\n",
       "      <td>Language</td>\n",
       "      <td>NaN</td>\n",
       "      <td>Yoon Kim, Yacine Jernite, David Sontag, Alexan...</td>\n",
       "      <td>Highly cited</td>\n",
       "      <td>NaN</td>\n",
       "      <td>Unreleased</td>\n",
       "      <td>https://arxiv.org/abs/1508.06615</td>\n",
       "      <td>2033.0</td>\n",
       "      <td>Character-Aware Neural Language Models</td>\n",
       "      <td>...</td>\n",
       "      <td>NaN</td>\n",
       "      <td>NaN</td>\n",
       "      <td>NaN</td>\n",
       "      <td>0</td>\n",
       "      <td>NaN</td>\n",
       "      <td>2.650000e+15</td>\n",
       "      <td>100%</td>\n",
       "      <td>Closed</td>\n",
       "      <td>2015.651781</td>\n",
       "      <td>True</td>\n",
       "    </tr>\n",
       "    <tr>\n",
       "      <th>653</th>\n",
       "      <td>LBL</td>\n",
       "      <td>Language</td>\n",
       "      <td>NaN</td>\n",
       "      <td>Andriy Mnih, Yee Whye Teh</td>\n",
       "      <td>NaN</td>\n",
       "      <td>NaN</td>\n",
       "      <td>Unreleased</td>\n",
       "      <td>https://arxiv.org/abs/1206.6426</td>\n",
       "      <td>835.0</td>\n",
       "      <td>A Fast and Simple Algorithm for Training Neura...</td>\n",
       "      <td>...</td>\n",
       "      <td>NaN</td>\n",
       "      <td>NaN</td>\n",
       "      <td>NaN</td>\n",
       "      <td>0</td>\n",
       "      <td>NaN</td>\n",
       "      <td>5.020000e+14</td>\n",
       "      <td>100%</td>\n",
       "      <td>Closed</td>\n",
       "      <td>2012.487852</td>\n",
       "      <td>True</td>\n",
       "    </tr>\n",
       "    <tr>\n",
       "      <th>664</th>\n",
       "      <td>Vision-based obstacle avoidance system (2005) ...</td>\n",
       "      <td>Robotics,Vision</td>\n",
       "      <td>Self-driving car,Object detection</td>\n",
       "      <td>Urs Muller, Jan Ben, Eric Cosatto, Beat Flepp,...</td>\n",
       "      <td>NaN</td>\n",
       "      <td>Not necessarily notable, merely worth adding t...</td>\n",
       "      <td>Unreleased</td>\n",
       "      <td>https://papers.nips.cc/paper_files/paper/2005/...</td>\n",
       "      <td>742.0</td>\n",
       "      <td>Off-Road Obstacle Avoidance through End-to-End...</td>\n",
       "      <td>...</td>\n",
       "      <td>NaN</td>\n",
       "      <td>NaN</td>\n",
       "      <td>84.0</td>\n",
       "      <td>84</td>\n",
       "      <td>NaN</td>\n",
       "      <td>6.500000e+13</td>\n",
       "      <td>100%</td>\n",
       "      <td>Closed</td>\n",
       "      <td>2005.927618</td>\n",
       "      <td>True</td>\n",
       "    </tr>\n",
       "    <tr>\n",
       "      <th>711</th>\n",
       "      <td>Credibilty Network</td>\n",
       "      <td>Vision</td>\n",
       "      <td>Character recognition,Image classification</td>\n",
       "      <td>Geoffrey E. Hinton, Zoubin Ghahramani, Vee Why...</td>\n",
       "      <td>NaN</td>\n",
       "      <td>NaN</td>\n",
       "      <td>Unreleased</td>\n",
       "      <td>https://proceedings.neurips.cc/paper_files/pap...</td>\n",
       "      <td>NaN</td>\n",
       "      <td>Learning to Parse Images</td>\n",
       "      <td>...</td>\n",
       "      <td>NaN</td>\n",
       "      <td>NaN</td>\n",
       "      <td>NaN</td>\n",
       "      <td>0</td>\n",
       "      <td>NaN</td>\n",
       "      <td>5.443200e+06</td>\n",
       "      <td>100%</td>\n",
       "      <td>Closed</td>\n",
       "      <td>1999.500000</td>\n",
       "      <td>True</td>\n",
       "    </tr>\n",
       "  </tbody>\n",
       "</table>\n",
       "<p>87 rows × 71 columns</p>\n",
       "</div>"
      ],
      "text/plain": [
       "                                                System  \\\n",
       "0                                     Gemini 1.0 Ultra   \n",
       "2                                                GPT-4   \n",
       "3                                        Mistral Large   \n",
       "5                               MegaScale (Production)   \n",
       "6                                         Inflection-2   \n",
       "..                                                 ...   \n",
       "639                            Search-Proven Best LSTM   \n",
       "644                                    LSTM-Char-Large   \n",
       "653                                                LBL   \n",
       "664  Vision-based obstacle avoidance system (2005) ...   \n",
       "711                                 Credibilty Network   \n",
       "\n",
       "                                          Domain  \\\n",
       "0                     Multimodal,Language,Vision   \n",
       "2    Multimodal,Language,Vision,Image generation   \n",
       "3                                       Language   \n",
       "5                                       Language   \n",
       "6                                       Language   \n",
       "..                                           ...   \n",
       "639                                     Language   \n",
       "644                                     Language   \n",
       "653                                     Language   \n",
       "664                              Robotics,Vision   \n",
       "711                                       Vision   \n",
       "\n",
       "                                                  Task  \\\n",
       "0    Language modelling,Visual question answering,C...   \n",
       "2                                   Language modelling   \n",
       "3                                                 Chat   \n",
       "5                        Language modelling/generation   \n",
       "6    Language modelling,Language modelling/generati...   \n",
       "..                                                 ...   \n",
       "639                                                NaN   \n",
       "644                                                NaN   \n",
       "653                                                NaN   \n",
       "664                  Self-driving car,Object detection   \n",
       "711         Character recognition,Image classification   \n",
       "\n",
       "                                               Authors  \\\n",
       "0                                          Gemini Team   \n",
       "2    OpenAI, Josh Achiam, Steven Adler, Sandhini Ag...   \n",
       "3                                                  NaN   \n",
       "5    Ziheng Jiang, Haibin Lin, Yinmin Zhong, Qi Hua...   \n",
       "6                                                  NaN   \n",
       "..                                                 ...   \n",
       "639    R. Józefowicz, Wojciech Zaremba, Ilya Sutskever   \n",
       "644  Yoon Kim, Yacine Jernite, David Sontag, Alexan...   \n",
       "653                          Andriy Mnih, Yee Whye Teh   \n",
       "664  Urs Muller, Jan Ben, Eric Cosatto, Beat Flepp,...   \n",
       "711  Geoffrey E. Hinton, Zoubin Ghahramani, Vee Why...   \n",
       "\n",
       "                             Notability criteria  \\\n",
       "0                 SOTA improvement,Training cost   \n",
       "2    Highly cited,SOTA improvement,Training cost   \n",
       "3                                  Training cost   \n",
       "5                               SOTA improvement   \n",
       "6                  Significant use,Training cost   \n",
       "..                                           ...   \n",
       "639                                 Highly cited   \n",
       "644                                 Highly cited   \n",
       "653                                          NaN   \n",
       "664                                          NaN   \n",
       "711                                          NaN   \n",
       "\n",
       "                             Notability criteria notes  \\\n",
       "0    \" Evaluation on a broad range of benchmarks sh...   \n",
       "2    See the paper, p.1: \"On a suite of traditional...   \n",
       "3    ~$20M training cost: https://www.wsj.com/tech/...   \n",
       "5    Improves SOTA in FLOP utilization for distribu...   \n",
       "6    Inflection-2 either already powers Pi or soon ...   \n",
       "..                                                 ...   \n",
       "639                                                NaN   \n",
       "644                                                NaN   \n",
       "653                                                NaN   \n",
       "664  Not necessarily notable, merely worth adding t...   \n",
       "711                                                NaN   \n",
       "\n",
       "        Model accessibility  \\\n",
       "0    Hosted access (no API)   \n",
       "2                API access   \n",
       "3                API access   \n",
       "5                Unreleased   \n",
       "6    Hosted access (no API)   \n",
       "..                      ...   \n",
       "639              Unreleased   \n",
       "644              Unreleased   \n",
       "653              Unreleased   \n",
       "664              Unreleased   \n",
       "711              Unreleased   \n",
       "\n",
       "                                                  Link  Citations  \\\n",
       "0    https://storage.googleapis.com/deepmind-media/...      633.0   \n",
       "2                     https://arxiv.org/abs/2303.08774     5290.0   \n",
       "3               https://mistral.ai/news/mistral-large/        NaN   \n",
       "5                     https://arxiv.org/abs/2402.15627       10.0   \n",
       "6                   https://inflection.ai/inflection-2        NaN   \n",
       "..                                                 ...        ...   \n",
       "639  https://proceedings.mlr.press/v37/jozefowicz15...     2207.0   \n",
       "644                   https://arxiv.org/abs/1508.06615     2033.0   \n",
       "653                    https://arxiv.org/abs/1206.6426      835.0   \n",
       "664  https://papers.nips.cc/paper_files/paper/2005/...      742.0   \n",
       "711  https://proceedings.neurips.cc/paper_files/pap...        NaN   \n",
       "\n",
       "                                             Reference  ...  \\\n",
       "0    Gemini: A Family of Highly Capable Multimodal ...  ...   \n",
       "2                               GPT-4 Technical Report  ...   \n",
       "3                Mistral Large, our new flagship model  ...   \n",
       "5    MegaScale: Scaling Large Language Model Traini...  ...   \n",
       "6                       Inflection-2: The Next Step Up  ...   \n",
       "..                                                 ...  ...   \n",
       "639  An Empirical Exploration of Recurrent Network ...  ...   \n",
       "644             Character-Aware Neural Language Models  ...   \n",
       "653  A Fast and Simple Algorithm for Training Neura...  ...   \n",
       "664  Off-Road Obstacle Avoidance through End-to-End...  ...   \n",
       "711                           Learning to Parse Images  ...   \n",
       "\n",
       "                                     Utilization notes  \\\n",
       "0                                                  NaN   \n",
       "2    (Speculative) SemiAnalysis conjectures that GP...   \n",
       "3                                                  NaN   \n",
       "5                                                  NaN   \n",
       "6                                                  NaN   \n",
       "..                                                 ...   \n",
       "639                                                NaN   \n",
       "644                                                NaN   \n",
       "653                                                NaN   \n",
       "664                                                NaN   \n",
       "711                                                NaN   \n",
       "\n",
       "    Estimated over 1e25 FLOP  Power per GPU Cluster total TDP  \\\n",
       "0                        NaN          192.0          10560000   \n",
       "2                        NaN          400.0          10000000   \n",
       "3                        NaN          350.0                 0   \n",
       "5                        NaN          400.0           4915200   \n",
       "6                        NaN          700.0           3500000   \n",
       "..                       ...            ...               ...   \n",
       "639                      NaN            NaN                 0   \n",
       "644                      NaN            NaN                 0   \n",
       "653                      NaN            NaN                 0   \n",
       "664                      NaN           84.0                84   \n",
       "711                      NaN            NaN                 0   \n",
       "\n",
       "     Base model compute    Difference Difference (share) Model open/closed  \\\n",
       "0                   NaN  5.000000e+25               100%            Closed   \n",
       "2                   NaN  2.100000e+25               100%            Closed   \n",
       "3                   NaN  2.000000e+25               100%            Closed   \n",
       "5                   NaN  1.200000e+25               100%            Closed   \n",
       "6                   NaN  1.001000e+25               100%            Closed   \n",
       "..                  ...           ...                ...               ...   \n",
       "639                 NaN  3.340000e+15               100%            Closed   \n",
       "644                 NaN  2.650000e+15               100%            Closed   \n",
       "653                 NaN  5.020000e+14               100%            Closed   \n",
       "664                 NaN  6.500000e+13               100%            Closed   \n",
       "711                 NaN  5.443200e+06               100%            Closed   \n",
       "\n",
       "     Publication date (float) top_10_at_release  \n",
       "0                 2023.930356              True  \n",
       "2                 2023.204997              True  \n",
       "3                 2024.151781              True  \n",
       "5                 2024.143567              True  \n",
       "6                 2023.890829              True  \n",
       "..                        ...               ...  \n",
       "639               2015.513690              True  \n",
       "644               2015.651781              True  \n",
       "653               2012.487852              True  \n",
       "664               2005.927618              True  \n",
       "711               1999.500000              True  \n",
       "\n",
       "[87 rows x 71 columns]"
      ]
     },
     "execution_count": 23,
     "metadata": {},
     "output_type": "execute_result"
    }
   ],
   "source": [
    "access_df[(access_df['top_10_at_release'] == True) & (access_df['Model open/closed'] == 'Closed')]"
   ]
  },
  {
   "cell_type": "markdown",
   "metadata": {},
   "source": [
    "# Best fit"
   ]
  },
  {
   "cell_type": "code",
   "execution_count": 24,
   "metadata": {},
   "outputs": [
    {
     "data": {
      "text/html": [
       "<div>\n",
       "<style scoped>\n",
       "    .dataframe tbody tr th:only-of-type {\n",
       "        vertical-align: middle;\n",
       "    }\n",
       "\n",
       "    .dataframe tbody tr th {\n",
       "        vertical-align: top;\n",
       "    }\n",
       "\n",
       "    .dataframe thead th {\n",
       "        text-align: right;\n",
       "    }\n",
       "</style>\n",
       "<table border=\"1\" class=\"dataframe\">\n",
       "  <thead>\n",
       "    <tr style=\"text-align: right;\">\n",
       "      <th></th>\n",
       "      <th>System</th>\n",
       "      <th>Domain</th>\n",
       "      <th>Task</th>\n",
       "      <th>Authors</th>\n",
       "      <th>Notability criteria</th>\n",
       "      <th>Notability criteria notes</th>\n",
       "      <th>Model accessibility</th>\n",
       "      <th>Link</th>\n",
       "      <th>Citations</th>\n",
       "      <th>Reference</th>\n",
       "      <th>...</th>\n",
       "      <th>Utilization notes</th>\n",
       "      <th>Estimated over 1e25 FLOP</th>\n",
       "      <th>Power per GPU</th>\n",
       "      <th>Cluster total TDP</th>\n",
       "      <th>Base model compute</th>\n",
       "      <th>Difference</th>\n",
       "      <th>Difference (share)</th>\n",
       "      <th>Model open/closed</th>\n",
       "      <th>Publication date (float)</th>\n",
       "      <th>top_10_at_release</th>\n",
       "    </tr>\n",
       "  </thead>\n",
       "  <tbody>\n",
       "    <tr>\n",
       "      <th>0</th>\n",
       "      <td>Gemini 1.0 Ultra</td>\n",
       "      <td>Multimodal,Language,Vision</td>\n",
       "      <td>Language modelling,Visual question answering,C...</td>\n",
       "      <td>Gemini Team</td>\n",
       "      <td>SOTA improvement,Training cost</td>\n",
       "      <td>\" Evaluation on a broad range of benchmarks sh...</td>\n",
       "      <td>Hosted access (no API)</td>\n",
       "      <td>https://storage.googleapis.com/deepmind-media/...</td>\n",
       "      <td>633.0</td>\n",
       "      <td>Gemini: A Family of Highly Capable Multimodal ...</td>\n",
       "      <td>...</td>\n",
       "      <td>NaN</td>\n",
       "      <td>NaN</td>\n",
       "      <td>192.0</td>\n",
       "      <td>10560000</td>\n",
       "      <td>NaN</td>\n",
       "      <td>5.000000e+25</td>\n",
       "      <td>100%</td>\n",
       "      <td>Closed</td>\n",
       "      <td>2023.930356</td>\n",
       "      <td>True</td>\n",
       "    </tr>\n",
       "    <tr>\n",
       "      <th>1</th>\n",
       "      <td>Llama 3.1-405B</td>\n",
       "      <td>Language</td>\n",
       "      <td>Language modelling/generation</td>\n",
       "      <td>Abhimanyu Dubey, Abhinav Jauhri, Abhinav Pande...</td>\n",
       "      <td>SOTA improvement,Training cost</td>\n",
       "      <td>High training compute, exceeds 4o and Claude 3...</td>\n",
       "      <td>Open access (restricted use)</td>\n",
       "      <td>https://ai.meta.com/research/publications/the-...</td>\n",
       "      <td>NaN</td>\n",
       "      <td>The Llama 3 Herd of Models</td>\n",
       "      <td>...</td>\n",
       "      <td>NaN</td>\n",
       "      <td>NaN</td>\n",
       "      <td>700.0</td>\n",
       "      <td>0</td>\n",
       "      <td>NaN</td>\n",
       "      <td>3.800000e+25</td>\n",
       "      <td>100%</td>\n",
       "      <td>Open</td>\n",
       "      <td>2024.560234</td>\n",
       "      <td>True</td>\n",
       "    </tr>\n",
       "    <tr>\n",
       "      <th>2</th>\n",
       "      <td>GPT-4</td>\n",
       "      <td>Multimodal,Language,Vision,Image generation</td>\n",
       "      <td>Language modelling</td>\n",
       "      <td>OpenAI, Josh Achiam, Steven Adler, Sandhini Ag...</td>\n",
       "      <td>Highly cited,SOTA improvement,Training cost</td>\n",
       "      <td>See the paper, p.1: \"On a suite of traditional...</td>\n",
       "      <td>API access</td>\n",
       "      <td>https://arxiv.org/abs/2303.08774</td>\n",
       "      <td>5290.0</td>\n",
       "      <td>GPT-4 Technical Report</td>\n",
       "      <td>...</td>\n",
       "      <td>(Speculative) SemiAnalysis conjectures that GP...</td>\n",
       "      <td>NaN</td>\n",
       "      <td>400.0</td>\n",
       "      <td>10000000</td>\n",
       "      <td>NaN</td>\n",
       "      <td>2.100000e+25</td>\n",
       "      <td>100%</td>\n",
       "      <td>Closed</td>\n",
       "      <td>2023.204997</td>\n",
       "      <td>True</td>\n",
       "    </tr>\n",
       "    <tr>\n",
       "      <th>3</th>\n",
       "      <td>Mistral Large</td>\n",
       "      <td>Language</td>\n",
       "      <td>Chat</td>\n",
       "      <td>NaN</td>\n",
       "      <td>Training cost</td>\n",
       "      <td>~$20M training cost: https://www.wsj.com/tech/...</td>\n",
       "      <td>API access</td>\n",
       "      <td>https://mistral.ai/news/mistral-large/</td>\n",
       "      <td>NaN</td>\n",
       "      <td>Mistral Large, our new flagship model</td>\n",
       "      <td>...</td>\n",
       "      <td>NaN</td>\n",
       "      <td>NaN</td>\n",
       "      <td>350.0</td>\n",
       "      <td>0</td>\n",
       "      <td>NaN</td>\n",
       "      <td>2.000000e+25</td>\n",
       "      <td>100%</td>\n",
       "      <td>Closed</td>\n",
       "      <td>2024.151781</td>\n",
       "      <td>True</td>\n",
       "    </tr>\n",
       "    <tr>\n",
       "      <th>4</th>\n",
       "      <td>Nemotron-4 340B</td>\n",
       "      <td>Language</td>\n",
       "      <td>Language modelling/generation,Chat</td>\n",
       "      <td>Bo Adler, Niket Agarwal, Ashwath Aithal, Dong ...</td>\n",
       "      <td>Training cost</td>\n",
       "      <td>~2e25 FLOP, so high training cost, likely &gt;5M</td>\n",
       "      <td>Open source</td>\n",
       "      <td>https://blogs.nvidia.com/blog/nemotron-4-synth...</td>\n",
       "      <td>NaN</td>\n",
       "      <td>NVIDIA Releases Open Synthetic Data Generation...</td>\n",
       "      <td>...</td>\n",
       "      <td>NaN</td>\n",
       "      <td>NaN</td>\n",
       "      <td>700.0</td>\n",
       "      <td>0</td>\n",
       "      <td>NaN</td>\n",
       "      <td>1.800000e+25</td>\n",
       "      <td>100%</td>\n",
       "      <td>Open</td>\n",
       "      <td>2024.452259</td>\n",
       "      <td>True</td>\n",
       "    </tr>\n",
       "    <tr>\n",
       "      <th>...</th>\n",
       "      <td>...</td>\n",
       "      <td>...</td>\n",
       "      <td>...</td>\n",
       "      <td>...</td>\n",
       "      <td>...</td>\n",
       "      <td>...</td>\n",
       "      <td>...</td>\n",
       "      <td>...</td>\n",
       "      <td>...</td>\n",
       "      <td>...</td>\n",
       "      <td>...</td>\n",
       "      <td>...</td>\n",
       "      <td>...</td>\n",
       "      <td>...</td>\n",
       "      <td>...</td>\n",
       "      <td>...</td>\n",
       "      <td>...</td>\n",
       "      <td>...</td>\n",
       "      <td>...</td>\n",
       "      <td>...</td>\n",
       "      <td>...</td>\n",
       "    </tr>\n",
       "    <tr>\n",
       "      <th>658</th>\n",
       "      <td>bRSM + cache</td>\n",
       "      <td>Language</td>\n",
       "      <td>NaN</td>\n",
       "      <td>Jeremy Gordon, David Rawlinson, Subutai Ahmad</td>\n",
       "      <td>NaN</td>\n",
       "      <td>NaN</td>\n",
       "      <td>Unreleased</td>\n",
       "      <td>https://arxiv.org/abs/1912.01116</td>\n",
       "      <td>4.0</td>\n",
       "      <td>Long Distance Relationships without Time Trave...</td>\n",
       "      <td>...</td>\n",
       "      <td>NaN</td>\n",
       "      <td>NaN</td>\n",
       "      <td>NaN</td>\n",
       "      <td>0</td>\n",
       "      <td>NaN</td>\n",
       "      <td>2.130000e+14</td>\n",
       "      <td>100%</td>\n",
       "      <td>Closed</td>\n",
       "      <td>2019.919405</td>\n",
       "      <td>False</td>\n",
       "    </tr>\n",
       "    <tr>\n",
       "      <th>660</th>\n",
       "      <td>life2vec</td>\n",
       "      <td>Medicine</td>\n",
       "      <td>Mortality prediction</td>\n",
       "      <td>Germans Savcisens, Tina Eliassi-Rad, Lars Kai ...</td>\n",
       "      <td>NaN</td>\n",
       "      <td>NaN</td>\n",
       "      <td>Unreleased</td>\n",
       "      <td>https://arxiv.org/abs/2306.03009</td>\n",
       "      <td>NaN</td>\n",
       "      <td>Using Sequences of Life-events to Predict Huma...</td>\n",
       "      <td>...</td>\n",
       "      <td>NaN</td>\n",
       "      <td>NaN</td>\n",
       "      <td>NaN</td>\n",
       "      <td>0</td>\n",
       "      <td>NaN</td>\n",
       "      <td>1.639051e+14</td>\n",
       "      <td>100%</td>\n",
       "      <td>Closed</td>\n",
       "      <td>2023.427618</td>\n",
       "      <td>False</td>\n",
       "    </tr>\n",
       "    <tr>\n",
       "      <th>664</th>\n",
       "      <td>Vision-based obstacle avoidance system (2005) ...</td>\n",
       "      <td>Robotics,Vision</td>\n",
       "      <td>Self-driving car,Object detection</td>\n",
       "      <td>Urs Muller, Jan Ben, Eric Cosatto, Beat Flepp,...</td>\n",
       "      <td>NaN</td>\n",
       "      <td>Not necessarily notable, merely worth adding t...</td>\n",
       "      <td>Unreleased</td>\n",
       "      <td>https://papers.nips.cc/paper_files/paper/2005/...</td>\n",
       "      <td>742.0</td>\n",
       "      <td>Off-Road Obstacle Avoidance through End-to-End...</td>\n",
       "      <td>...</td>\n",
       "      <td>NaN</td>\n",
       "      <td>NaN</td>\n",
       "      <td>84.0</td>\n",
       "      <td>84</td>\n",
       "      <td>NaN</td>\n",
       "      <td>6.500000e+13</td>\n",
       "      <td>100%</td>\n",
       "      <td>Closed</td>\n",
       "      <td>2005.927618</td>\n",
       "      <td>True</td>\n",
       "    </tr>\n",
       "    <tr>\n",
       "      <th>672</th>\n",
       "      <td>SPIDER2</td>\n",
       "      <td>Biology</td>\n",
       "      <td>Protein folding prediction,Proteins</td>\n",
       "      <td>Yuedong Yang, Rhys Heffernan, Kuldip Paliwal, ...</td>\n",
       "      <td>SOTA improvement</td>\n",
       "      <td>The method provides state-of-the-art, all-in-o...</td>\n",
       "      <td>Open access (non-commercial)</td>\n",
       "      <td>https://link.springer.com/protocol/10.1007/978...</td>\n",
       "      <td>NaN</td>\n",
       "      <td>SPIDER2: A Package to Predict Secondary Struct...</td>\n",
       "      <td>...</td>\n",
       "      <td>NaN</td>\n",
       "      <td>NaN</td>\n",
       "      <td>NaN</td>\n",
       "      <td>0</td>\n",
       "      <td>NaN</td>\n",
       "      <td>8.540000e+12</td>\n",
       "      <td>100%</td>\n",
       "      <td>Open</td>\n",
       "      <td>2016.823924</td>\n",
       "      <td>True</td>\n",
       "    </tr>\n",
       "    <tr>\n",
       "      <th>711</th>\n",
       "      <td>Credibilty Network</td>\n",
       "      <td>Vision</td>\n",
       "      <td>Character recognition,Image classification</td>\n",
       "      <td>Geoffrey E. Hinton, Zoubin Ghahramani, Vee Why...</td>\n",
       "      <td>NaN</td>\n",
       "      <td>NaN</td>\n",
       "      <td>Unreleased</td>\n",
       "      <td>https://proceedings.neurips.cc/paper_files/pap...</td>\n",
       "      <td>NaN</td>\n",
       "      <td>Learning to Parse Images</td>\n",
       "      <td>...</td>\n",
       "      <td>NaN</td>\n",
       "      <td>NaN</td>\n",
       "      <td>NaN</td>\n",
       "      <td>0</td>\n",
       "      <td>NaN</td>\n",
       "      <td>5.443200e+06</td>\n",
       "      <td>100%</td>\n",
       "      <td>Closed</td>\n",
       "      <td>1999.500000</td>\n",
       "      <td>True</td>\n",
       "    </tr>\n",
       "  </tbody>\n",
       "</table>\n",
       "<p>548 rows × 71 columns</p>\n",
       "</div>"
      ],
      "text/plain": [
       "                                                System  \\\n",
       "0                                     Gemini 1.0 Ultra   \n",
       "1                                       Llama 3.1-405B   \n",
       "2                                                GPT-4   \n",
       "3                                        Mistral Large   \n",
       "4                                      Nemotron-4 340B   \n",
       "..                                                 ...   \n",
       "658                                       bRSM + cache   \n",
       "660                                           life2vec   \n",
       "664  Vision-based obstacle avoidance system (2005) ...   \n",
       "672                                            SPIDER2   \n",
       "711                                 Credibilty Network   \n",
       "\n",
       "                                          Domain  \\\n",
       "0                     Multimodal,Language,Vision   \n",
       "1                                       Language   \n",
       "2    Multimodal,Language,Vision,Image generation   \n",
       "3                                       Language   \n",
       "4                                       Language   \n",
       "..                                           ...   \n",
       "658                                     Language   \n",
       "660                                     Medicine   \n",
       "664                              Robotics,Vision   \n",
       "672                                      Biology   \n",
       "711                                       Vision   \n",
       "\n",
       "                                                  Task  \\\n",
       "0    Language modelling,Visual question answering,C...   \n",
       "1                        Language modelling/generation   \n",
       "2                                   Language modelling   \n",
       "3                                                 Chat   \n",
       "4                   Language modelling/generation,Chat   \n",
       "..                                                 ...   \n",
       "658                                                NaN   \n",
       "660                               Mortality prediction   \n",
       "664                  Self-driving car,Object detection   \n",
       "672                Protein folding prediction,Proteins   \n",
       "711         Character recognition,Image classification   \n",
       "\n",
       "                                               Authors  \\\n",
       "0                                          Gemini Team   \n",
       "1    Abhimanyu Dubey, Abhinav Jauhri, Abhinav Pande...   \n",
       "2    OpenAI, Josh Achiam, Steven Adler, Sandhini Ag...   \n",
       "3                                                  NaN   \n",
       "4    Bo Adler, Niket Agarwal, Ashwath Aithal, Dong ...   \n",
       "..                                                 ...   \n",
       "658      Jeremy Gordon, David Rawlinson, Subutai Ahmad   \n",
       "660  Germans Savcisens, Tina Eliassi-Rad, Lars Kai ...   \n",
       "664  Urs Muller, Jan Ben, Eric Cosatto, Beat Flepp,...   \n",
       "672  Yuedong Yang, Rhys Heffernan, Kuldip Paliwal, ...   \n",
       "711  Geoffrey E. Hinton, Zoubin Ghahramani, Vee Why...   \n",
       "\n",
       "                             Notability criteria  \\\n",
       "0                 SOTA improvement,Training cost   \n",
       "1                 SOTA improvement,Training cost   \n",
       "2    Highly cited,SOTA improvement,Training cost   \n",
       "3                                  Training cost   \n",
       "4                                  Training cost   \n",
       "..                                           ...   \n",
       "658                                          NaN   \n",
       "660                                          NaN   \n",
       "664                                          NaN   \n",
       "672                             SOTA improvement   \n",
       "711                                          NaN   \n",
       "\n",
       "                             Notability criteria notes  \\\n",
       "0    \" Evaluation on a broad range of benchmarks sh...   \n",
       "1    High training compute, exceeds 4o and Claude 3...   \n",
       "2    See the paper, p.1: \"On a suite of traditional...   \n",
       "3    ~$20M training cost: https://www.wsj.com/tech/...   \n",
       "4        ~2e25 FLOP, so high training cost, likely >5M   \n",
       "..                                                 ...   \n",
       "658                                                NaN   \n",
       "660                                                NaN   \n",
       "664  Not necessarily notable, merely worth adding t...   \n",
       "672  The method provides state-of-the-art, all-in-o...   \n",
       "711                                                NaN   \n",
       "\n",
       "              Model accessibility  \\\n",
       "0          Hosted access (no API)   \n",
       "1    Open access (restricted use)   \n",
       "2                      API access   \n",
       "3                      API access   \n",
       "4                     Open source   \n",
       "..                            ...   \n",
       "658                    Unreleased   \n",
       "660                    Unreleased   \n",
       "664                    Unreleased   \n",
       "672  Open access (non-commercial)   \n",
       "711                    Unreleased   \n",
       "\n",
       "                                                  Link  Citations  \\\n",
       "0    https://storage.googleapis.com/deepmind-media/...      633.0   \n",
       "1    https://ai.meta.com/research/publications/the-...        NaN   \n",
       "2                     https://arxiv.org/abs/2303.08774     5290.0   \n",
       "3               https://mistral.ai/news/mistral-large/        NaN   \n",
       "4    https://blogs.nvidia.com/blog/nemotron-4-synth...        NaN   \n",
       "..                                                 ...        ...   \n",
       "658                   https://arxiv.org/abs/1912.01116        4.0   \n",
       "660                   https://arxiv.org/abs/2306.03009        NaN   \n",
       "664  https://papers.nips.cc/paper_files/paper/2005/...      742.0   \n",
       "672  https://link.springer.com/protocol/10.1007/978...        NaN   \n",
       "711  https://proceedings.neurips.cc/paper_files/pap...        NaN   \n",
       "\n",
       "                                             Reference  ...  \\\n",
       "0    Gemini: A Family of Highly Capable Multimodal ...  ...   \n",
       "1                           The Llama 3 Herd of Models  ...   \n",
       "2                               GPT-4 Technical Report  ...   \n",
       "3                Mistral Large, our new flagship model  ...   \n",
       "4    NVIDIA Releases Open Synthetic Data Generation...  ...   \n",
       "..                                                 ...  ...   \n",
       "658  Long Distance Relationships without Time Trave...  ...   \n",
       "660  Using Sequences of Life-events to Predict Huma...  ...   \n",
       "664  Off-Road Obstacle Avoidance through End-to-End...  ...   \n",
       "672  SPIDER2: A Package to Predict Secondary Struct...  ...   \n",
       "711                           Learning to Parse Images  ...   \n",
       "\n",
       "                                     Utilization notes  \\\n",
       "0                                                  NaN   \n",
       "1                                                  NaN   \n",
       "2    (Speculative) SemiAnalysis conjectures that GP...   \n",
       "3                                                  NaN   \n",
       "4                                                  NaN   \n",
       "..                                                 ...   \n",
       "658                                                NaN   \n",
       "660                                                NaN   \n",
       "664                                                NaN   \n",
       "672                                                NaN   \n",
       "711                                                NaN   \n",
       "\n",
       "    Estimated over 1e25 FLOP  Power per GPU Cluster total TDP  \\\n",
       "0                        NaN          192.0          10560000   \n",
       "1                        NaN          700.0                 0   \n",
       "2                        NaN          400.0          10000000   \n",
       "3                        NaN          350.0                 0   \n",
       "4                        NaN          700.0                 0   \n",
       "..                       ...            ...               ...   \n",
       "658                      NaN            NaN                 0   \n",
       "660                      NaN            NaN                 0   \n",
       "664                      NaN           84.0                84   \n",
       "672                      NaN            NaN                 0   \n",
       "711                      NaN            NaN                 0   \n",
       "\n",
       "     Base model compute    Difference Difference (share) Model open/closed  \\\n",
       "0                   NaN  5.000000e+25               100%            Closed   \n",
       "1                   NaN  3.800000e+25               100%              Open   \n",
       "2                   NaN  2.100000e+25               100%            Closed   \n",
       "3                   NaN  2.000000e+25               100%            Closed   \n",
       "4                   NaN  1.800000e+25               100%              Open   \n",
       "..                  ...           ...                ...               ...   \n",
       "658                 NaN  2.130000e+14               100%            Closed   \n",
       "660                 NaN  1.639051e+14               100%            Closed   \n",
       "664                 NaN  6.500000e+13               100%            Closed   \n",
       "672                 NaN  8.540000e+12               100%              Open   \n",
       "711                 NaN  5.443200e+06               100%            Closed   \n",
       "\n",
       "     Publication date (float) top_10_at_release  \n",
       "0                 2023.930356              True  \n",
       "1                 2024.560234              True  \n",
       "2                 2023.204997              True  \n",
       "3                 2024.151781              True  \n",
       "4                 2024.452259              True  \n",
       "..                        ...               ...  \n",
       "658               2019.919405             False  \n",
       "660               2023.427618             False  \n",
       "664               2005.927618              True  \n",
       "672               2016.823924              True  \n",
       "711               1999.500000              True  \n",
       "\n",
       "[548 rows x 71 columns]"
      ]
     },
     "execution_count": 24,
     "metadata": {},
     "output_type": "execute_result"
    }
   ],
   "source": [
    "access_df"
   ]
  },
  {
   "cell_type": "code",
   "execution_count": null,
   "metadata": {},
   "outputs": [],
   "source": []
  },
  {
   "cell_type": "code",
   "execution_count": 25,
   "metadata": {},
   "outputs": [
    {
     "data": {
      "image/png": "[encoded data removed]",
      "text/plain": [
       "<Figure size 1200x600 with 1 Axes>"
      ]
     },
     "metadata": {},
     "output_type": "display_data"
    }
   ],
   "source": [
    "df = access_df\n",
    "\n",
    "# Filter out NaNs and sort by date\n",
    "df = (df[['System', 'Training compute (FLOP)', 'Publication date', 'Organization', 'Notability criteria', 'Domain', 'Model open/closed']]\n",
    "    .rename(columns={'Training compute (FLOP)': 'flop', 'Publication date': 'date'})\n",
    "    .dropna(subset=['date', 'flop'])\n",
    "    .assign(date=lambda x: pd.to_datetime(x['date']), log_flop=lambda x: np.log10(x['flop']))\n",
    "    .sort_values('date'))\n",
    "\n",
    "time = pd.to_datetime(df['date']).apply(lambda date: date.toordinal()).values\n",
    "y = df['log_flop'].values\n",
    "\n",
    "df = pd.DataFrame({\n",
    "    'y': y,\n",
    "    'time': time,\n",
    "    'category': df['Model open/closed'],\n",
    "    # 'post_break': time >= break_point,\n",
    "    # 'time_pre': np.minimum(time, break_point),\n",
    "    # 'time_post': np.maximum(0, time - break_point)\n",
    "})\n",
    "\n",
    "plt.figure(figsize=(12, 6))\n",
    "plt.scatter(df['time'][df['category'] == 'Open'], df['y'][df['category'] == 'Open'], \n",
    "            alpha=0.5, label='Open (Data)')\n",
    "plt.scatter(df['time'][df['category'] == 'Closed'], df['y'][df['category'] == 'Closed'], \n",
    "            alpha=0.5, label='Closed (Data)')\n",
    "plt.show()"
   ]
  },
  {
   "cell_type": "code",
   "execution_count": 26,
   "metadata": {},
   "outputs": [
    {
     "name": "stdout",
     "output_type": "stream",
     "text": [
      "                            OLS Regression Results                            \n",
      "==============================================================================\n",
      "Dep. Variable:                      y   R-squared:                       0.978\n",
      "Model:                            OLS   Adj. R-squared:                  0.977\n",
      "Method:                 Least Squares   F-statistic:                     2160.\n",
      "Date:                Thu, 25 Jul 2024   Prob (F-statistic):          3.15e-160\n",
      "Time:                        16:43:42   Log-Likelihood:                -760.35\n",
      "No. Observations:                 200   AIC:                             1531.\n",
      "Df Residuals:                     195   BIC:                             1547.\n",
      "Df Model:                           4                                         \n",
      "Covariance Type:            nonrobust                                         \n",
      "==============================================================================\n",
      "                 coef    std err          t      P>|t|      [0.025      0.975]\n",
      "------------------------------------------------------------------------------\n",
      "const          6.7630      2.216      3.052      0.003       2.392      11.134\n",
      "x1           -22.3626      3.275     -6.829      0.000     -28.821     -15.904\n",
      "x2            33.7498      3.318     10.172      0.000      27.206      40.293\n",
      "x3             2.8398      0.080     35.705      0.000       2.683       2.997\n",
      "x4            -1.0101      0.109     -9.244      0.000      -1.226      -0.795\n",
      "==============================================================================\n",
      "Omnibus:                        0.138   Durbin-Watson:                   2.329\n",
      "Prob(Omnibus):                  0.933   Jarque-Bera (JB):                0.109\n",
      "Skew:                          -0.056   Prob(JB):                        0.947\n",
      "Kurtosis:                       2.975   Cond. No.                         350.\n",
      "==============================================================================\n",
      "\n",
      "Notes:\n",
      "[1] Standard Errors assume that the covariance matrix of the errors is correctly specified.\n"
     ]
    },
    {
     "data": {
      "image/png": "[encoded data removed]",
      "text/plain": [
       "<Figure size 1200x600 with 1 Axes>"
      ]
     },
     "metadata": {},
     "output_type": "display_data"
    }
   ],
   "source": [
    "# Generate some example data (replace this with your actual data)\n",
    "np.random.seed(0)\n",
    "n = 200\n",
    "time = np.sort(np.random.uniform(0, 100, n))\n",
    "category = np.random.choice(['open', 'closed'], n)\n",
    "break_point = 50\n",
    "\n",
    "# True parameters (unknown in real scenario)\n",
    "a_intercept_pre = 10\n",
    "a_intercept_open = 50\n",
    "a_intercept_closed = 70\n",
    "a_pre_open = 2.5\n",
    "a_pre_closed = 3\n",
    "a_post_open = 1.5\n",
    "a_post_closed = 2\n",
    "\n",
    "# Generate y values with some noise\n",
    "y = (a_intercept_pre + \n",
    "     a_intercept_open * (category == 'open') * (time >= break_point) +\n",
    "     a_intercept_closed * (category == 'closed') * (time >= break_point) +\n",
    "     a_pre_open * time * (time < break_point) * (category == 'open') +\n",
    "     a_pre_closed * time * (time < break_point) * (category == 'closed') +\n",
    "     a_post_open * time * (time >= break_point) * (category == 'open') +\n",
    "     a_post_closed * time * (time >= break_point) * (category == 'closed') +\n",
    "     np.random.normal(0, 10, n))\n",
    "\n",
    "# Create a DataFrame\n",
    "df = pd.DataFrame({\n",
    "    'y': y,\n",
    "    'time': time,\n",
    "    'category': category,\n",
    "    'post_break': time >= break_point,\n",
    "    'time_pre': np.minimum(time, break_point),\n",
    "    'time_post': np.maximum(0, time - break_point)\n",
    "})\n",
    "\n",
    "# Fit the model\n",
    "# model = ols(formula='y ~ time_pre + time_post + post_break:C(category)', data=df).fit()\n",
    "\n",
    "def get_predictors(x, break_points, allow_discontinuities=True, pred_category=None, same_intercepts=None, same_slopes=None):\n",
    "    intercept_change_points = (0,)\n",
    "    if allow_discontinuities:\n",
    "        intercept_change_points += break_points\n",
    "    slope_change_points = (0,) + break_points\n",
    "    \n",
    "    if pred_category == 'open':\n",
    "        is_open = np.ones(len(x))\n",
    "    elif pred_category == 'closed':\n",
    "        is_open = np.zeros(len(x))\n",
    "    else:\n",
    "        is_open = (df['category'] == 'open').astype(int).values\n",
    "\n",
    "    # If same_intercepts or same_slopes are not provided, default to all False\n",
    "    if same_intercepts is None:\n",
    "        same_intercepts = [False] * len(intercept_change_points)\n",
    "    if same_slopes is None:\n",
    "        same_slopes = [False] * len(slope_change_points)\n",
    "\n",
    "    # Ensure the lengths match\n",
    "    assert len(same_intercepts) == len(intercept_change_points), \"Length of same_intercepts must match the number of intercept change points\"\n",
    "    assert len(same_slopes) == len(slope_change_points), \"Length of same_slopes must match the number of slope change points\"\n",
    "\n",
    "    # Calculate the number of columns needed\n",
    "    n_intercept_cols = sum(1 if same else 2 for same in same_intercepts)\n",
    "    n_slope_cols = sum(1 if same else 2 for same in same_slopes)\n",
    "    n_cols = n_intercept_cols + n_slope_cols\n",
    "\n",
    "    predictors = np.zeros((len(x), n_cols))\n",
    "\n",
    "    # Intercept predictors\n",
    "    col_idx = 0\n",
    "    for i, (intercept_point, same) in enumerate(zip(intercept_change_points, same_intercepts)):\n",
    "        if same:\n",
    "            predictors[:, col_idx] = (x >= intercept_point).astype(int)\n",
    "            col_idx += 1\n",
    "        else:\n",
    "            predictors[:, col_idx] = (x >= intercept_point).astype(int) * is_open\n",
    "            predictors[:, col_idx + 1] = (x >= intercept_point).astype(int) * (1 - is_open)\n",
    "            col_idx += 2\n",
    "\n",
    "    # Slope predictors\n",
    "    for i, (break_point, same) in enumerate(zip(slope_change_points, same_slopes)):\n",
    "        if same:\n",
    "            predictors[:, col_idx] = np.maximum(x - break_point, 0)\n",
    "            col_idx += 1\n",
    "        else:\n",
    "            predictors[:, col_idx] = np.maximum(x - break_point, 0) * is_open\n",
    "            predictors[:, col_idx + 1] = np.maximum(x - break_point, 0) * (1 - is_open)\n",
    "            col_idx += 2\n",
    "\n",
    "    return predictors\n",
    "\n",
    "\n",
    "x = df['time']\n",
    "break_points = (50,)\n",
    "same_intercepts = (True, False)\n",
    "same_slopes = (True, True)\n",
    "# predictors = get_predictors(x, break_points, allow_discontinuities=True)\n",
    "predictors = get_predictors(x, break_points, same_slopes=same_slopes, same_intercepts=same_intercepts)\n",
    "\n",
    "model = sm.OLS(y, predictors).fit()\n",
    "\n",
    "# Print the model summary\n",
    "print(model.summary())\n",
    "\n",
    "# Plot the results\n",
    "plt.figure(figsize=(12, 6))\n",
    "plt.scatter(df['time'][df['category'] == 'open'], df['y'][df['category'] == 'open'], \n",
    "            alpha=0.5, label='Open (Data)')\n",
    "plt.scatter(df['time'][df['category'] == 'closed'], df['y'][df['category'] == 'closed'], \n",
    "            alpha=0.5, label='Closed (Data)')\n",
    "\n",
    "# Generate points for the fitted lines\n",
    "time_range = np.linspace(0, 100, 1001)\n",
    "\n",
    "# Predict for both categories\n",
    "open_predictors = get_predictors(time_range, break_points, pred_category='open', same_slopes=same_slopes, same_intercepts=same_intercepts)\n",
    "open_predictions = model.predict(open_predictors)\n",
    "\n",
    "closed_predictors = get_predictors(time_range, break_points, pred_category='closed', same_slopes=same_slopes, same_intercepts=same_intercepts)\n",
    "closed_predictions = model.predict(closed_predictors)\n",
    "\n",
    "# Plot fitted lines\n",
    "plt.plot(time_range, open_predictions, color='green', label='Open (Fitted)')\n",
    "plt.plot(time_range, closed_predictions, color='red', label='Closed (Fitted)')\n",
    "\n",
    "plt.axvline(x=break_point, color='purple', linestyle='--', label='Break Point')\n",
    "plt.xlabel('Time')\n",
    "plt.ylabel('Y')\n",
    "plt.title('Piecewise Regression with Open/Closed Categories')\n",
    "plt.legend()\n",
    "plt.grid(True)\n",
    "plt.show()"
   ]
  },
  {
   "cell_type": "code",
   "execution_count": 27,
   "metadata": {},
   "outputs": [
    {
     "data": {
      "text/plain": [
       "array([[ 1.        ,  0.        ,  0.        ,  0.46954762,  0.        ],\n",
       "       [ 1.        ,  0.        ,  0.        ,  1.17140842,  0.        ],\n",
       "       [ 1.        ,  0.        ,  0.        ,  1.85217945,  0.        ],\n",
       "       [ 1.        ,  0.        ,  0.        ,  1.87898004,  0.        ],\n",
       "       [ 1.        ,  0.        ,  0.        ,  1.91931983,  0.        ],\n",
       "       [ 1.        ,  0.        ,  0.        ,  2.01075462,  0.        ],\n",
       "       [ 1.        ,  0.        ,  0.        ,  2.02183974,  0.        ],\n",
       "       [ 1.        ,  0.        ,  0.        ,  3.18389295,  0.        ],\n",
       "       [ 1.        ,  0.        ,  0.        ,  3.91877923,  0.        ],\n",
       "       [ 1.        ,  0.        ,  0.        ,  5.43379883,  0.        ],\n",
       "       [ 1.        ,  0.        ,  0.        ,  5.80291603,  0.        ],\n",
       "       [ 1.        ,  0.        ,  0.        ,  6.02254716,  0.        ],\n",
       "       [ 1.        ,  0.        ,  0.        ,  6.41474963,  0.        ],\n",
       "       [ 1.        ,  0.        ,  0.        ,  6.91669955,  0.        ],\n",
       "       [ 1.        ,  0.        ,  0.        ,  7.10360582,  0.        ],\n",
       "       [ 1.        ,  0.        ,  0.        ,  8.71292997,  0.        ],\n",
       "       [ 1.        ,  0.        ,  0.        ,  9.39405108,  0.        ],\n",
       "       [ 1.        ,  0.        ,  0.        ,  9.60984079,  0.        ],\n",
       "       [ 1.        ,  0.        ,  0.        ,  9.71012758,  0.        ],\n",
       "       [ 1.        ,  0.        ,  0.        , 10.02268873,  0.        ],\n",
       "       [ 1.        ,  0.        ,  0.        , 10.20448107,  0.        ],\n",
       "       [ 1.        ,  0.        ,  0.        , 11.03751412,  0.        ],\n",
       "       [ 1.        ,  0.        ,  0.        , 11.82744259,  0.        ],\n",
       "       [ 1.        ,  0.        ,  0.        , 11.8727719 ,  0.        ],\n",
       "       [ 1.        ,  0.        ,  0.        , 12.01965612,  0.        ],\n",
       "       [ 1.        ,  0.        ,  0.        , 12.38199828,  0.        ],\n",
       "       [ 1.        ,  0.        ,  0.        , 12.89262977,  0.        ],\n",
       "       [ 1.        ,  0.        ,  0.        , 13.17978624,  0.        ],\n",
       "       [ 1.        ,  0.        ,  0.        , 13.54740642,  0.        ],\n",
       "       [ 1.        ,  0.        ,  0.        , 13.81829513,  0.        ],\n",
       "       [ 1.        ,  0.        ,  0.        , 14.33532874,  0.        ],\n",
       "       [ 1.        ,  0.        ,  0.        , 14.94483047,  0.        ],\n",
       "       [ 1.        ,  0.        ,  0.        , 15.89695836,  0.        ],\n",
       "       [ 1.        ,  0.        ,  0.        , 16.13095179,  0.        ],\n",
       "       [ 1.        ,  0.        ,  0.        , 16.24929347,  0.        ],\n",
       "       [ 1.        ,  0.        ,  0.        , 16.46941565,  0.        ],\n",
       "       [ 1.        ,  0.        ,  0.        , 17.16296773,  0.        ],\n",
       "       [ 1.        ,  0.        ,  0.        , 18.3191362 ,  0.        ],\n",
       "       [ 1.        ,  0.        ,  0.        , 18.61930059,  0.        ],\n",
       "       [ 1.        ,  0.        ,  0.        , 19.65823617,  0.        ],\n",
       "       [ 1.        ,  0.        ,  0.        , 19.99965249,  0.        ],\n",
       "       [ 1.        ,  0.        ,  0.        , 20.88767561,  0.        ],\n",
       "       [ 1.        ,  0.        ,  0.        , 20.9843749 ,  0.        ],\n",
       "       [ 1.        ,  0.        ,  0.        , 21.03825611,  0.        ],\n",
       "       [ 1.        ,  0.        ,  0.        , 22.30816326,  0.        ],\n",
       "       [ 1.        ,  0.        ,  0.        , 22.39246881,  0.        ],\n",
       "       [ 1.        ,  0.        ,  0.        , 22.7414628 ,  0.        ],\n",
       "       [ 1.        ,  0.        ,  0.        , 23.78928214,  0.        ],\n",
       "       [ 1.        ,  0.        ,  0.        , 24.4425592 ,  0.        ],\n",
       "       [ 1.        ,  0.        ,  0.        , 24.87531435,  0.        ],\n",
       "       [ 1.        ,  0.        ,  0.        , 25.32916025,  0.        ],\n",
       "       [ 1.        ,  0.        ,  0.        , 25.43564818,  0.        ],\n",
       "       [ 1.        ,  0.        ,  0.        , 26.45556121,  0.        ],\n",
       "       [ 1.        ,  0.        ,  0.        , 26.53894909,  0.        ],\n",
       "       [ 1.        ,  0.        ,  0.        , 27.00079732,  0.        ],\n",
       "       [ 1.        ,  0.        ,  0.        , 28.28069626,  0.        ],\n",
       "       [ 1.        ,  0.        ,  0.        , 28.94060929,  0.        ],\n",
       "       [ 1.        ,  0.        ,  0.        , 29.00776072,  0.        ],\n",
       "       [ 1.        ,  0.        ,  0.        , 29.61401975,  0.        ],\n",
       "       [ 1.        ,  0.        ,  0.        , 29.74369509,  0.        ],\n",
       "       [ 1.        ,  0.        ,  0.        , 29.8282326 ,  0.        ],\n",
       "       [ 1.        ,  0.        ,  0.        , 30.15748167,  0.        ],\n",
       "       [ 1.        ,  0.        ,  0.        , 31.19449955,  0.        ],\n",
       "       [ 1.        ,  0.        ,  0.        , 31.54283509,  0.        ],\n",
       "       [ 1.        ,  0.        ,  0.        , 31.79831794,  0.        ],\n",
       "       [ 1.        ,  0.        ,  0.        , 31.85689525,  0.        ],\n",
       "       [ 1.        ,  0.        ,  0.        , 34.53516807,  0.        ],\n",
       "       [ 1.        ,  0.        ,  0.        , 35.95079006,  0.        ],\n",
       "       [ 1.        ,  0.        ,  0.        , 35.99780645,  0.        ],\n",
       "       [ 1.        ,  0.        ,  0.        , 36.37107709,  0.        ],\n",
       "       [ 1.        ,  0.        ,  0.        , 36.756187  ,  0.        ],\n",
       "       [ 1.        ,  0.        ,  0.        , 36.87251707,  0.        ],\n",
       "       [ 1.        ,  0.        ,  0.        , 38.34415188,  0.        ],\n",
       "       [ 1.        ,  0.        ,  0.        , 39.65057408,  0.        ],\n",
       "       [ 1.        ,  0.        ,  0.        , 39.82210622,  0.        ],\n",
       "       [ 1.        ,  0.        ,  0.        , 40.71832972,  0.        ],\n",
       "       [ 1.        ,  0.        ,  0.        , 41.42629945,  0.        ],\n",
       "       [ 1.        ,  0.        ,  0.        , 41.466194  ,  0.        ],\n",
       "       [ 1.        ,  0.        ,  0.        , 42.36547993,  0.        ],\n",
       "       [ 1.        ,  0.        ,  0.        , 42.38550486,  0.        ],\n",
       "       [ 1.        ,  0.        ,  0.        , 42.87687009,  0.        ],\n",
       "       [ 1.        ,  0.        ,  0.        , 43.14184354,  0.        ],\n",
       "       [ 1.        ,  0.        ,  0.        , 43.44166256,  0.        ],\n",
       "       [ 1.        ,  0.        ,  0.        , 43.58649253,  0.        ],\n",
       "       [ 1.        ,  0.        ,  0.        , 43.70319538,  0.        ],\n",
       "       [ 1.        ,  0.        ,  0.        , 43.75872113,  0.        ],\n",
       "       [ 1.        ,  0.        ,  0.        , 43.86015135,  0.        ],\n",
       "       [ 1.        ,  0.        ,  0.        , 44.71253786,  0.        ],\n",
       "       [ 1.        ,  0.        ,  0.        , 45.35426827,  0.        ],\n",
       "       [ 1.        ,  0.        ,  0.        , 45.61503322,  0.        ],\n",
       "       [ 1.        ,  0.        ,  0.        , 46.14793623,  0.        ],\n",
       "       [ 1.        ,  0.        ,  0.        , 46.63107729,  0.        ],\n",
       "       [ 1.        ,  0.        ,  0.        , 46.86512016,  0.        ],\n",
       "       [ 1.        ,  0.        ,  0.        , 49.04588086,  0.        ],\n",
       "       [ 1.        ,  0.        ,  1.        , 50.13243819,  0.13243819],\n",
       "       [ 1.        ,  1.        ,  0.        , 52.10366062,  2.10366062],\n",
       "       [ 1.        ,  0.        ,  1.        , 52.18483218,  2.18483218],\n",
       "       [ 1.        ,  1.        ,  0.        , 52.32480535,  2.32480535],\n",
       "       [ 1.        ,  0.        ,  1.        , 52.88949198,  2.88949198],\n",
       "       [ 1.        ,  1.        ,  0.        , 53.5632803 ,  3.5632803 ],\n",
       "       [ 1.        ,  0.        ,  1.        , 54.4883183 ,  4.4883183 ],\n",
       "       [ 1.        ,  0.        ,  1.        , 54.88135039,  4.88135039],\n",
       "       [ 1.        ,  1.        ,  0.        , 56.66014542,  6.66014542],\n",
       "       [ 1.        ,  1.        ,  0.        , 56.80445611,  6.80445611],\n",
       "       [ 1.        ,  1.        ,  0.        , 56.84339489,  6.84339489],\n",
       "       [ 1.        ,  0.        ,  1.        , 56.91007386,  6.91007386],\n",
       "       [ 1.        ,  0.        ,  1.        , 56.99649107,  6.99649107],\n",
       "       [ 1.        ,  0.        ,  1.        , 57.01967704,  7.01967704],\n",
       "       [ 1.        ,  1.        ,  0.        , 57.22519058,  7.22519058],\n",
       "       [ 1.        ,  1.        ,  0.        , 57.43252488,  7.43252488],\n",
       "       [ 1.        ,  0.        ,  1.        , 57.59464956,  7.59464956],\n",
       "       [ 1.        ,  1.        ,  0.        , 57.61573344,  7.61573344],\n",
       "       [ 1.        ,  1.        ,  0.        , 57.72285886,  7.72285886],\n",
       "       [ 1.        ,  0.        ,  1.        , 58.12728726,  8.12728726],\n",
       "       [ 1.        ,  1.        ,  0.        , 58.65129348,  8.65129348],\n",
       "       [ 1.        ,  1.        ,  0.        , 58.99099764,  8.99099764],\n",
       "       [ 1.        ,  1.        ,  0.        , 59.08727612,  9.08727612],\n",
       "       [ 1.        ,  0.        ,  1.        , 59.20419313,  9.20419313],\n",
       "       [ 1.        ,  1.        ,  0.        , 60.27633761, 10.27633761],\n",
       "       [ 1.        ,  0.        ,  1.        , 60.48455197, 10.48455197],\n",
       "       [ 1.        ,  1.        ,  0.        , 60.63932141, 10.63932141],\n",
       "       [ 1.        ,  0.        ,  1.        , 61.20957227, 11.20957227],\n",
       "       [ 1.        ,  1.        ,  0.        , 61.3965956 , 11.3965956 ],\n",
       "       [ 1.        ,  0.        ,  1.        , 61.55595643, 11.55595643],\n",
       "       [ 1.        ,  0.        ,  1.        , 61.69339969, 11.69339969],\n",
       "       [ 1.        ,  1.        ,  0.        , 61.76354971, 11.76354971],\n",
       "       [ 1.        ,  1.        ,  0.        , 61.8015429 , 11.8015429 ],\n",
       "       [ 1.        ,  0.        ,  1.        , 62.14784015, 12.14784015],\n",
       "       [ 1.        ,  1.        ,  0.        , 63.99210213, 13.99210213],\n",
       "       [ 1.        ,  0.        ,  1.        , 64.39901992, 14.39901992],\n",
       "       [ 1.        ,  1.        ,  0.        , 64.58941131, 14.58941131],\n",
       "       [ 1.        ,  0.        ,  1.        , 65.210327  , 15.210327  ],\n",
       "       [ 1.        ,  1.        ,  0.        , 65.31083255, 15.31083255],\n",
       "       [ 1.        ,  1.        ,  0.        , 65.32008199, 15.32008199],\n",
       "       [ 1.        ,  1.        ,  0.        , 65.63295895, 15.63295895],\n",
       "       [ 1.        ,  1.        ,  0.        , 66.01735375, 16.01735375],\n",
       "       [ 1.        ,  0.        ,  1.        , 66.67667154, 16.67667154],\n",
       "       [ 1.        ,  0.        ,  1.        , 66.741038  , 16.741038  ],\n",
       "       [ 1.        ,  1.        ,  0.        , 67.06378696, 17.06378696],\n",
       "       [ 1.        ,  0.        ,  1.        , 67.78165368, 17.78165368],\n",
       "       [ 1.        ,  1.        ,  0.        , 68.18202991, 18.18202991],\n",
       "       [ 1.        ,  0.        ,  1.        , 69.24721194, 19.24721194],\n",
       "       [ 1.        ,  0.        ,  1.        , 69.25315901, 19.25315901],\n",
       "       [ 1.        ,  1.        ,  0.        , 69.74287731, 19.74287731],\n",
       "       [ 1.        ,  0.        ,  1.        , 69.76311959, 19.76311959],\n",
       "       [ 1.        ,  1.        ,  0.        , 69.94792753, 19.94792753],\n",
       "       [ 1.        ,  1.        ,  0.        , 70.38885835, 20.38885835],\n",
       "       [ 1.        ,  1.        ,  0.        , 70.44144019, 20.44144019],\n",
       "       [ 1.        ,  1.        ,  0.        , 71.42412995, 21.42412995],\n",
       "       [ 1.        ,  1.        ,  0.        , 71.51893664, 21.51893664],\n",
       "       [ 1.        ,  0.        ,  1.        , 71.63272041, 21.63272041],\n",
       "       [ 1.        ,  0.        ,  1.        , 72.20555995, 22.20555995],\n",
       "       [ 1.        ,  1.        ,  0.        , 72.52542798, 22.52542798],\n",
       "       [ 1.        ,  1.        ,  0.        , 72.99905624, 22.99905624],\n",
       "       [ 1.        ,  1.        ,  0.        , 73.01220295, 23.01220295],\n",
       "       [ 1.        ,  1.        ,  0.        , 73.51940221, 23.51940221],\n",
       "       [ 1.        ,  0.        ,  1.        , 73.92635794, 23.92635794],\n",
       "       [ 1.        ,  0.        ,  1.        , 73.9550795 , 23.9550795 ],\n",
       "       [ 1.        ,  1.        ,  0.        , 77.42336894, 27.42336894],\n",
       "       [ 1.        ,  1.        ,  0.        , 77.81567509, 27.81567509],\n",
       "       [ 1.        ,  0.        ,  1.        , 78.05291763, 28.05291763],\n",
       "       [ 1.        ,  1.        ,  0.        , 79.17250381, 29.17250381],\n",
       "       [ 1.        ,  0.        ,  1.        , 79.36977034, 29.36977034],\n",
       "       [ 1.        ,  0.        ,  1.        , 79.91585642, 29.91585642],\n",
       "       [ 1.        ,  0.        ,  1.        , 80.6193989 , 30.6193989 ],\n",
       "       [ 1.        ,  0.        ,  1.        , 80.73189587, 30.73189587],\n",
       "       [ 1.        ,  0.        ,  1.        , 81.37978197, 31.37978197],\n",
       "       [ 1.        ,  0.        ,  1.        , 82.09932298, 32.09932298],\n",
       "       [ 1.        ,  0.        ,  1.        , 82.89400292, 32.89400292],\n",
       "       [ 1.        ,  0.        ,  1.        , 83.26198455, 33.26198455],\n",
       "       [ 1.        ,  0.        ,  1.        , 83.79449075, 33.79449075],\n",
       "       [ 1.        ,  0.        ,  1.        , 84.64086725, 34.64086725],\n",
       "       [ 1.        ,  0.        ,  1.        , 84.80082293, 34.80082293],\n",
       "       [ 1.        ,  1.        ,  0.        , 85.58033424, 35.58033424],\n",
       "       [ 1.        ,  1.        ,  0.        , 86.63823259, 36.63823259],\n",
       "       [ 1.        ,  0.        ,  1.        , 86.81260574, 36.81260574],\n",
       "       [ 1.        ,  0.        ,  1.        , 87.00121482, 37.00121482],\n",
       "       [ 1.        ,  0.        ,  1.        , 88.11031971, 38.11031971],\n",
       "       [ 1.        ,  0.        ,  1.        , 88.17353619, 38.17353619],\n",
       "       [ 1.        ,  1.        ,  0.        , 89.17730008, 39.17730008],\n",
       "       [ 1.        ,  1.        ,  0.        , 89.1923355 , 39.1923355 ],\n",
       "       [ 1.        ,  0.        ,  1.        , 89.65465959, 39.65465959],\n",
       "       [ 1.        ,  1.        ,  0.        , 91.94826137, 41.94826137],\n",
       "       [ 1.        ,  1.        ,  0.        , 92.55966383, 42.55966383],\n",
       "       [ 1.        ,  0.        ,  1.        , 92.80812935, 42.80812935],\n",
       "       [ 1.        ,  1.        ,  0.        , 92.92961976, 42.92961976],\n",
       "       [ 1.        ,  0.        ,  1.        , 93.42139979, 43.42139979],\n",
       "       [ 1.        ,  1.        ,  0.        , 94.37480785, 44.37480785],\n",
       "       [ 1.        ,  0.        ,  1.        , 94.437239  , 44.437239  ],\n",
       "       [ 1.        ,  1.        ,  0.        , 94.4668917 , 44.4668917 ],\n",
       "       [ 1.        ,  1.        ,  0.        , 95.27490115, 45.27490115],\n",
       "       [ 1.        ,  0.        ,  1.        , 95.60836347, 45.60836347],\n",
       "       [ 1.        ,  1.        ,  0.        , 96.21885451, 46.21885451],\n",
       "       [ 1.        ,  1.        ,  0.        , 96.36627605, 46.36627605],\n",
       "       [ 1.        ,  1.        ,  0.        , 97.5521505 , 47.5521505 ],\n",
       "       [ 1.        ,  1.        ,  0.        , 97.6459465 , 47.6459465 ],\n",
       "       [ 1.        ,  1.        ,  0.        , 97.67610882, 47.67610882],\n",
       "       [ 1.        ,  0.        ,  1.        , 97.86183422, 47.86183422],\n",
       "       [ 1.        ,  1.        ,  0.        , 98.83738381, 48.83738381],\n",
       "       [ 1.        ,  0.        ,  1.        , 99.88470066, 49.88470066]])"
      ]
     },
     "execution_count": 27,
     "metadata": {},
     "output_type": "execute_result"
    }
   ],
   "source": [
    "predictors"
   ]
  },
  {
   "cell_type": "code",
   "execution_count": 28,
   "metadata": {},
   "outputs": [],
   "source": [
    "df = access_df"
   ]
  },
  {
   "cell_type": "code",
   "execution_count": 29,
   "metadata": {},
   "outputs": [],
   "source": [
    "# 'external': Filter to the top n models overall\n",
    "# 'internal': Filter to the top n models within 'Open' and 'Closed' categories\n",
    "# 'disabled': No filtering\n",
    "frontier_selection = 'external'  # ['disabled', 'internal', 'external']\n",
    "top_n = 10  # Filter to the top n models by training compute at time of release\n",
    "model_selection = 'All models'  # ['All models', 'Language models', 'Google DeepMind models', 'OpenAI models', 'Meta AI models']\n",
    "filter_alphago_outliers = True\n",
    "cutoff_date = '2018-01-01'"
   ]
  },
  {
   "cell_type": "code",
   "execution_count": 30,
   "metadata": {},
   "outputs": [
    {
     "name": "stdout",
     "output_type": "stream",
     "text": [
      "147 top All models models found\n",
      "They span January 2018 to July 2024\n"
     ]
    }
   ],
   "source": [
    "def find_top_models_up_to_release(df, top_n, category=None):\n",
    "    \"\"\"Find the models which were in the top n by compute when they were released.\"\"\"\n",
    "\n",
    "    if category == 'Open':\n",
    "        df = df[df['category'] == 'Open']\n",
    "    elif category == 'Closed':\n",
    "        df = df[df['category'] == 'Closed']\n",
    "\n",
    "    # This set will keep track of models that were ever in the top 10 at their release\n",
    "    ever_in_top_n = set()\n",
    "\n",
    "    # Iterate over each date in the DataFrame\n",
    "    for current_date in df['date'].unique():\n",
    "        # Get all entries up to the current date\n",
    "        historical_data = df[df['date'] <= current_date]\n",
    "        # Find top 10 models by flop count in this subset\n",
    "        top_n_models = historical_data.nlargest(top_n, 'flop')['System']\n",
    "        # Update the set of models that were ever in top n\n",
    "        ever_in_top_n.update(top_n_models)\n",
    "\n",
    "    # Return DataFrame filtered to only include models that were ever in the top 10\n",
    "    return df[df['System'].isin(ever_in_top_n)]\n",
    "\n",
    "\n",
    "def filter_top_models_within_category(df, top_n):\n",
    "    \"\"\"Find the models which were in the top n by compute when they were released.\"\"\"\n",
    "    # Get top models for Open and Closed categories\n",
    "    top_open_models = find_top_models_up_to_release(df, top_n, category='Open')\n",
    "    top_closed_models = find_top_models_up_to_release(df, top_n, category='Closed')\n",
    "    # Combine the results\n",
    "    df_filtered = pd.concat([top_open_models, top_closed_models])\n",
    "    # Sort the combined DataFrame by date\n",
    "    df_filtered = df_filtered.sort_values('date')\n",
    "    return df_filtered\n",
    "\n",
    "\n",
    "# Filter out NaNs and sort by date\n",
    "df_filtered = (df[['System', 'Training compute (FLOP)', 'Publication date', 'Organization', 'Notability criteria', 'Domain', 'Model open/closed']]\n",
    "    .rename(columns={'Training compute (FLOP)': 'flop', 'Publication date': 'date', 'Model open/closed': 'category'})\n",
    "    .dropna(subset=['date', 'flop', 'category'])\n",
    "    .assign(date=lambda x: pd.to_datetime(x['date']), log_flop=lambda x: np.log10(x['flop']))\n",
    "    .sort_values('date'))\n",
    "\n",
    "df_notable = df_filtered.copy() # Store a copy for Top N sensitivity analysis\n",
    "\n",
    "# Drop Alpha Go Master / Zero\n",
    "if filter_alphago_outliers:\n",
    "    mask = (df_filtered[\"System\"] == 'AlphaGo Master') | (df_filtered[\"System\"] == 'AlphaGo Zero')\n",
    "    df_filtered = df_filtered[~mask]\n",
    "\n",
    "if frontier_selection == 'external':\n",
    "    # Filter top models before other filters\n",
    "    df_filtered = filter_top_models_within_category(df_filtered, top_n)\n",
    "\n",
    "if model_selection == 'Language models':\n",
    "    re = 'Language|Multimodal'\n",
    "    mask = df_filtered['Domain'].str.contains(re, na=False)\n",
    "    df_filtered = df_filtered[mask]\n",
    "\n",
    "if frontier_selection == 'internal':\n",
    "    # Filter top models after other filters\n",
    "    df_filtered = filter_top_models_within_category(df_filtered, top_n)\n",
    "\n",
    "# Filter for models after the cutoff date\n",
    "df_filtered = df_filtered[df_filtered['date'] > cutoff_date]\n",
    "\n",
    "print(f\"{len(df_filtered)}{' top' if frontier_selection != 'disabled' else ''} {model_selection} models found\")\n",
    "print(f\"They span {df_filtered['date'].min().strftime('%B %Y')} to {df_filtered['date'].max().strftime('%B %Y')}\")"
   ]
  },
  {
   "cell_type": "code",
   "execution_count": 31,
   "metadata": {},
   "outputs": [
    {
     "data": {
      "image/png": "[encoded data removed]",
      "text/plain": [
       "<Figure size 1200x600 with 1 Axes>"
      ]
     },
     "metadata": {},
     "output_type": "display_data"
    }
   ],
   "source": [
    "plt.figure(figsize=(12, 6))\n",
    "plt.scatter(df_filtered['date'][df_filtered['category'] == 'Open'], df_filtered['log_flop'][df_filtered['category'] == 'Open'], \n",
    "            alpha=0.5, label='Open (Data)')\n",
    "plt.scatter(df_filtered['date'][df_filtered['category'] == 'Closed'], df_filtered['log_flop'][df_filtered['category'] == 'Closed'], \n",
    "            alpha=0.5, label='Closed (Data)')\n",
    "plt.show()"
   ]
  },
  {
   "cell_type": "code",
   "execution_count": 52,
   "metadata": {},
   "outputs": [
    {
     "name": "stderr",
     "output_type": "stream",
     "text": [
      "100%|██████████| 10/10 [00:18<00:00,  1.87s/it]"
     ]
    },
    {
     "name": "stdout",
     "output_type": "stream",
     "text": [
      "Results\n"
     ]
    },
    {
     "name": "stderr",
     "output_type": "stream",
     "text": [
      "\n"
     ]
    },
    {
     "data": {
      "text/html": [
       "<div>\n",
       "<style scoped>\n",
       "    .dataframe tbody tr th:only-of-type {\n",
       "        vertical-align: middle;\n",
       "    }\n",
       "\n",
       "    .dataframe tbody tr th {\n",
       "        vertical-align: top;\n",
       "    }\n",
       "\n",
       "    .dataframe thead th {\n",
       "        text-align: right;\n",
       "    }\n",
       "</style>\n",
       "<table border=\"1\" class=\"dataframe\">\n",
       "  <thead>\n",
       "    <tr style=\"text-align: right;\">\n",
       "      <th></th>\n",
       "      <th>Model</th>\n",
       "      <th>BIC</th>\n",
       "      <th>BIC 90% CI</th>\n",
       "      <th>BIC score diff</th>\n",
       "      <th>BIC score diff 90% CI</th>\n",
       "      <th>Xi²</th>\n",
       "      <th>% times preferred over simple</th>\n",
       "      <th>K-fold mean MSE</th>\n",
       "      <th>K-fold mean MSE 90% CI</th>\n",
       "      <th>Lead time (years)</th>\n",
       "      <th>Lead time 90% CI</th>\n",
       "      <th>Recent slope for closed models (Nx/year)</th>\n",
       "      <th>Recent slope for closed models 90% CI</th>\n",
       "      <th>Recent slope for open models (Nx/year)</th>\n",
       "      <th>Recent slope for open models 90% CI</th>\n",
       "      <th>Break point</th>\n",
       "      <th>Break point 90% CI</th>\n",
       "    </tr>\n",
       "  </thead>\n",
       "  <tbody>\n",
       "    <tr>\n",
       "      <th>0</th>\n",
       "      <td>Simple</td>\n",
       "      <td>382.70</td>\n",
       "      <td>[356.52, 398.31]</td>\n",
       "      <td>0.00</td>\n",
       "      <td>[0.0, 0.0]</td>\n",
       "      <td>NaN</td>\n",
       "      <td>0%</td>\n",
       "      <td>0.75</td>\n",
       "      <td>[0.61, 0.8]</td>\n",
       "      <td>1.08</td>\n",
       "      <td>[0.8, 1.13, 1.1, 1.17, 1.26, 1.12, 0.94, 1.01,...</td>\n",
       "      <td>9.18</td>\n",
       "      <td>[8.06, 11.11]</td>\n",
       "      <td>7.24</td>\n",
       "      <td>[5.96, 9.3]</td>\n",
       "      <td>NaN</td>\n",
       "      <td>NaN</td>\n",
       "    </tr>\n",
       "    <tr>\n",
       "      <th>1</th>\n",
       "      <td>Discrete acceleration</td>\n",
       "      <td>295.10</td>\n",
       "      <td>[265.1, 320.03]</td>\n",
       "      <td>-87.60</td>\n",
       "      <td>[-102.49, -71.88]</td>\n",
       "      <td>2.413245e-22</td>\n",
       "      <td>100%</td>\n",
       "      <td>0.66</td>\n",
       "      <td>[0.49, 0.66]</td>\n",
       "      <td>1.30</td>\n",
       "      <td>[1.13, 1.52]</td>\n",
       "      <td>5.51</td>\n",
       "      <td>[4.67, 6.52]</td>\n",
       "      <td>4.01</td>\n",
       "      <td>[3.52, 4.42]</td>\n",
       "      <td>2020-02</td>\n",
       "      <td>[2019-09, 2020-06]</td>\n",
       "    </tr>\n",
       "    <tr>\n",
       "      <th>2</th>\n",
       "      <td>Discontinuity</td>\n",
       "      <td>301.99</td>\n",
       "      <td>[264.44, 325.81]</td>\n",
       "      <td>-80.71</td>\n",
       "      <td>[-105.99, -66.35]</td>\n",
       "      <td>1.489042e-21</td>\n",
       "      <td>100%</td>\n",
       "      <td>0.67</td>\n",
       "      <td>[0.46, 0.69]</td>\n",
       "      <td>1.21</td>\n",
       "      <td>[1.11, 1.42]</td>\n",
       "      <td>5.38</td>\n",
       "      <td>[4.54, 6.25]</td>\n",
       "      <td>4.52</td>\n",
       "      <td>[3.92, 5.14]</td>\n",
       "      <td>2020-02</td>\n",
       "      <td>[2019-07, 2020-03]</td>\n",
       "    </tr>\n",
       "    <tr>\n",
       "      <th>3</th>\n",
       "      <td>Same pre-break, different post-break</td>\n",
       "      <td>295.20</td>\n",
       "      <td>[257.95, 319.84]</td>\n",
       "      <td>-87.50</td>\n",
       "      <td>[-111.14, -72.02]</td>\n",
       "      <td>2.535926e-22</td>\n",
       "      <td>100%</td>\n",
       "      <td>0.62</td>\n",
       "      <td>[0.45, 0.65]</td>\n",
       "      <td>1.19</td>\n",
       "      <td>[1.07, 1.42]</td>\n",
       "      <td>5.13</td>\n",
       "      <td>[4.54, 6.41]</td>\n",
       "      <td>4.52</td>\n",
       "      <td>[4.08, 5.05]</td>\n",
       "      <td>2020-01</td>\n",
       "      <td>[2019-07, 2020-03]</td>\n",
       "    </tr>\n",
       "    <tr>\n",
       "      <th>4</th>\n",
       "      <td>Same pre-break, different intercept post-break</td>\n",
       "      <td>290.95</td>\n",
       "      <td>[254.75, 316.12]</td>\n",
       "      <td>-91.74</td>\n",
       "      <td>[-114.69, -76.48]</td>\n",
       "      <td>5.590495e-23</td>\n",
       "      <td>100%</td>\n",
       "      <td>0.63</td>\n",
       "      <td>[0.44, 0.64]</td>\n",
       "      <td>1.07</td>\n",
       "      <td>[0.95, 1.25]</td>\n",
       "      <td>4.74</td>\n",
       "      <td>[4.39, 5.17]</td>\n",
       "      <td>4.74</td>\n",
       "      <td>[4.39, 5.17]</td>\n",
       "      <td>2020-01</td>\n",
       "      <td>[2019-07, 2020-01]</td>\n",
       "    </tr>\n",
       "  </tbody>\n",
       "</table>\n",
       "</div>"
      ],
      "text/plain": [
       "                                            Model     BIC        BIC 90% CI  \\\n",
       "0                                          Simple  382.70  [356.52, 398.31]   \n",
       "1                           Discrete acceleration  295.10   [265.1, 320.03]   \n",
       "2                                   Discontinuity  301.99  [264.44, 325.81]   \n",
       "3            Same pre-break, different post-break  295.20  [257.95, 319.84]   \n",
       "4  Same pre-break, different intercept post-break  290.95  [254.75, 316.12]   \n",
       "\n",
       "   BIC score diff BIC score diff 90% CI           Xi²  \\\n",
       "0            0.00            [0.0, 0.0]           NaN   \n",
       "1          -87.60     [-102.49, -71.88]  2.413245e-22   \n",
       "2          -80.71     [-105.99, -66.35]  1.489042e-21   \n",
       "3          -87.50     [-111.14, -72.02]  2.535926e-22   \n",
       "4          -91.74     [-114.69, -76.48]  5.590495e-23   \n",
       "\n",
       "  % times preferred over simple  K-fold mean MSE K-fold mean MSE 90% CI  \\\n",
       "0                            0%             0.75            [0.61, 0.8]   \n",
       "1                          100%             0.66           [0.49, 0.66]   \n",
       "2                          100%             0.67           [0.46, 0.69]   \n",
       "3                          100%             0.62           [0.45, 0.65]   \n",
       "4                          100%             0.63           [0.44, 0.64]   \n",
       "\n",
       "   Lead time (years)                                   Lead time 90% CI  \\\n",
       "0               1.08  [0.8, 1.13, 1.1, 1.17, 1.26, 1.12, 0.94, 1.01,...   \n",
       "1               1.30                                       [1.13, 1.52]   \n",
       "2               1.21                                       [1.11, 1.42]   \n",
       "3               1.19                                       [1.07, 1.42]   \n",
       "4               1.07                                       [0.95, 1.25]   \n",
       "\n",
       "   Recent slope for closed models (Nx/year)  \\\n",
       "0                                      9.18   \n",
       "1                                      5.51   \n",
       "2                                      5.38   \n",
       "3                                      5.13   \n",
       "4                                      4.74   \n",
       "\n",
       "  Recent slope for closed models 90% CI  \\\n",
       "0                         [8.06, 11.11]   \n",
       "1                          [4.67, 6.52]   \n",
       "2                          [4.54, 6.25]   \n",
       "3                          [4.54, 6.41]   \n",
       "4                          [4.39, 5.17]   \n",
       "\n",
       "   Recent slope for open models (Nx/year) Recent slope for open models 90% CI  \\\n",
       "0                                    7.24                         [5.96, 9.3]   \n",
       "1                                    4.01                        [3.52, 4.42]   \n",
       "2                                    4.52                        [3.92, 5.14]   \n",
       "3                                    4.52                        [4.08, 5.05]   \n",
       "4                                    4.74                        [4.39, 5.17]   \n",
       "\n",
       "  Break point  Break point 90% CI  \n",
       "0         NaN                 NaN  \n",
       "1     2020-02  [2019-09, 2020-06]  \n",
       "2     2020-02  [2019-07, 2020-03]  \n",
       "3     2020-01  [2019-07, 2020-03]  \n",
       "4     2020-01  [2019-07, 2020-01]  "
      ]
     },
     "execution_count": 52,
     "metadata": {},
     "output_type": "execute_result"
    }
   ],
   "source": [
    "# Analysis of best fit to the data\n",
    "\n",
    "@dataclass\n",
    "class FitResult:\n",
    "    p: int = None\n",
    "    bic: float = None\n",
    "    rss: float = None\n",
    "    mse: float = None\n",
    "    predict: Callable = None\n",
    "\n",
    "\n",
    "@dataclass\n",
    "class KinkedFitResult(FitResult):\n",
    "    break_points: tuple[float] = None\n",
    "    break_points_dt: float = None\n",
    "    oom_year_slopes: tuple[float] = None\n",
    "    intercepts: tuple[float] = None\n",
    "\n",
    "    # Model properties for each breakpoint combination\n",
    "    # (for debugging)\n",
    "    bics: tuple[float] = None\n",
    "    rsss: tuple[float] = None\n",
    "    mses: tuple[float] = None\n",
    "    break_points_list: tuple[tuple[float]] = None\n",
    "    break_points_dt_list: tuple[tuple[float]] = None\n",
    "\n",
    "\n",
    "def get_predictors(x, intercept_change_points, slope_change_points, pred_category=None, category=None, same_intercepts=None, same_slopes=None):    \n",
    "    if pred_category == 'Open':\n",
    "        is_open = np.ones(len(x))\n",
    "    elif pred_category == 'Closed':\n",
    "        is_open = np.zeros(len(x))\n",
    "    else:\n",
    "        assert category is not None\n",
    "        is_open = (category == 'Open').astype(int).values\n",
    "\n",
    "    # Ensure the lengths match\n",
    "    assert len(same_intercepts) == len(intercept_change_points), \"Length of same_intercepts must match the number of intercept change points\"\n",
    "    assert len(same_slopes) == len(slope_change_points), \"Length of same_slopes must match the number of slope change points\"\n",
    "\n",
    "    # Calculate the number of columns needed\n",
    "    n_intercept_cols = sum(1 if same else 2 for same in same_intercepts)\n",
    "    n_slope_cols = sum(1 if same else 2 for same in same_slopes)\n",
    "    n_cols = n_intercept_cols + n_slope_cols\n",
    "\n",
    "    predictors = np.zeros((len(x), n_cols))\n",
    "\n",
    "    # Intercept predictors\n",
    "    col_idx = 0\n",
    "    for i, (intercept_point, same) in enumerate(zip(intercept_change_points, same_intercepts)):\n",
    "        if same:\n",
    "            predictors[:, col_idx] = (x >= intercept_point).astype(int)\n",
    "            col_idx += 1\n",
    "        else:\n",
    "            predictors[:, col_idx] = (x >= intercept_point).astype(int) * is_open\n",
    "            predictors[:, col_idx + 1] = (x >= intercept_point).astype(int) * (1 - is_open)\n",
    "            col_idx += 2\n",
    "\n",
    "    # Slope predictors\n",
    "    for i, (break_point, same) in enumerate(zip(slope_change_points, same_slopes)):\n",
    "        if same:\n",
    "            predictors[:, col_idx] = np.maximum(x - break_point, 0)\n",
    "            col_idx += 1\n",
    "        else:\n",
    "            predictors[:, col_idx] = np.maximum(x - break_point, 0) * is_open\n",
    "            predictors[:, col_idx + 1] = np.maximum(x - break_point, 0) * (1 - is_open)\n",
    "            col_idx += 2\n",
    "\n",
    "    return predictors\n",
    "\n",
    "\n",
    "def fit_n_phase_exponential(\n",
    "    df,\n",
    "    kink_count,\n",
    "    allow_discontinuities=False,\n",
    "    same_intercepts=None,\n",
    "    same_slopes=None,\n",
    "    min_n_segment=10\n",
    "):\n",
    "    # Generate monthly breakpoints between 2010 and 2024\n",
    "    one_month = pd.DateOffset(months=1)\n",
    "    break_point_grid = pd.date_range(start=df['date'].min() - one_month, end=df['date'].max() - 4*one_month, freq='MS')\n",
    "    break_point_grid = [x.toordinal() for x in break_point_grid]\n",
    "\n",
    "    x = pd.to_datetime(df['date']).apply(lambda date: date.toordinal()).values\n",
    "    y = df['log_flop'].values\n",
    "\n",
    "    break_points_list = []\n",
    "    bics = []\n",
    "    rsss = []\n",
    "    mses = []\n",
    "    models = []\n",
    "\n",
    "    for break_points in combinations_with_replacement(break_point_grid, kink_count):\n",
    "        intercept_change_points = (0,)\n",
    "        if allow_discontinuities:\n",
    "            intercept_change_points += break_points\n",
    "        slope_change_points = (0,) + break_points\n",
    "\n",
    "        # If same_intercepts or same_slopes are not provided, default to all False\n",
    "        if same_intercepts is None:\n",
    "            same_intercepts = [False] * len(intercept_change_points)\n",
    "        if same_slopes is None:\n",
    "            same_slopes = [False] * len(slope_change_points)\n",
    "\n",
    "        predictors = get_predictors(\n",
    "            x,\n",
    "            intercept_change_points,\n",
    "            slope_change_points,\n",
    "            category=df['category'],\n",
    "            same_slopes=same_slopes,\n",
    "            same_intercepts=same_intercepts\n",
    "        )\n",
    "\n",
    "        # Fit the model\n",
    "        model = sm.OLS(y, predictors).fit()\n",
    "\n",
    "        # Calculate BIC manually based on log-likelihood\n",
    "        n = len(x) # Number of observations\n",
    "        p = len(model.params) + 2*kink_count + 1 # Number of parameters\n",
    "\n",
    "        # Calculate log-likelihood under the assumption of normally distributed errors\n",
    "        # We have to iterate over all points to get their individual log-likelihoods\n",
    "        log_likelihood = 0\n",
    "        rss = 0\n",
    "        invalid_model = False # Discard models with segments with less than 2 points\n",
    "        for i, break_point in enumerate(slope_change_points):\n",
    "            left_x = break_point\n",
    "            right_x = slope_change_points[i + 1] if i + 1 < len(slope_change_points) else np.inf\n",
    "\n",
    "            segment_predictors = predictors[(left_x <= x) & (x < right_x), :]\n",
    "            segment_y = y[(left_x <= x) & (x < right_x)]\n",
    "            segment_n = len(segment_y)\n",
    "\n",
    "            assert min_n_segment > 2\n",
    "\n",
    "            if segment_n < min_n_segment:\n",
    "                invalid_model = True\n",
    "                break\n",
    "\n",
    "            y_pred = model.predict(segment_predictors)\n",
    "\n",
    "            segment_rss = np.sum((y_pred - segment_y)**2)\n",
    "            assert segment_rss > 0\n",
    "            segment_mse = segment_rss / segment_n\n",
    "\n",
    "            segment_log_likelihood = -segment_n/2 * (np.log(2*np.pi) + np.log(segment_rss/segment_n) + 1)\n",
    "            log_likelihood += segment_log_likelihood\n",
    "            rss += segment_rss\n",
    "\n",
    "        if invalid_model:\n",
    "            continue\n",
    "\n",
    "        # Compute BIC using the manual method based on the log-likelihood\n",
    "        bic = p * np.log(n) - 2 * log_likelihood\n",
    "        # bic = n*np.log(rss/n) + p*np.log(n)\n",
    "\n",
    "        bics.append(bic)\n",
    "        rsss.append(rss)\n",
    "        mses.append(rss/len(df))\n",
    "        models.append(model)\n",
    "        break_points_list.append(break_points)\n",
    "\n",
    "    # Prepare the result object\n",
    "    best_bic = min(bics)\n",
    "    best_idx = bics.index(best_bic)\n",
    "    best_rss = rsss[best_idx]\n",
    "    best_mse = mses[best_idx]\n",
    "    best_model = models[best_idx]\n",
    "    best_break_points = break_points_list[best_idx]\n",
    "\n",
    "    p = len(best_model.params) + 2*kink_count + 1 # Number of parameters\n",
    "\n",
    "    # Store the model parameters\n",
    "    intercept_change_points = (0,)\n",
    "    if allow_discontinuities:\n",
    "        intercept_change_points += best_break_points\n",
    "    slope_change_points = (0,) + best_break_points\n",
    "\n",
    "    n_intercepts = sum(1 if same else 2 for same in same_intercepts)\n",
    "    intercepts = best_model.params[:n_intercepts]\n",
    "    oom_intercepts = np.zeros((2, len(intercept_change_points)))\n",
    "    for i in range(len(intercept_change_points)):\n",
    "        if same_intercepts[i]:\n",
    "            oom_intercepts[0, i] = oom_intercepts[1, i] = intercepts[i]\n",
    "        else:\n",
    "            oom_intercepts[0, i] = intercepts[2*i - sum(same_intercepts[:i])]\n",
    "            oom_intercepts[1, i] = intercepts[2*i + 1 - sum(same_intercepts[:i])]\n",
    "\n",
    "    # Apply cumulative sum to get the actual slopes\n",
    "    oom_intercepts = {'open': np.cumsum(oom_intercepts[0]), 'closed': np.cumsum(oom_intercepts[1])}\n",
    "\n",
    "    n_slopes = len(slope_change_points)\n",
    "    slopes = best_model.params[n_intercepts:]\n",
    "    oom_year_slopes = np.zeros((2, n_slopes))  # 2 rows for Open and Closed\n",
    "    for i in range(n_slopes):\n",
    "        if same_slopes[i]:\n",
    "            oom_year_slopes[0, i] = oom_year_slopes[1, i] = 365 * slopes[i]\n",
    "        else:\n",
    "            oom_year_slopes[0, i] = 365 * slopes[2*i - sum(same_slopes[:i])]\n",
    "            oom_year_slopes[1, i] = 365 * slopes[2*i + 1 - sum(same_slopes[:i])]\n",
    "\n",
    "    # Apply cumulative sum to get the actual slopes\n",
    "    oom_year_slopes = {'open': np.cumsum(oom_year_slopes[0]), 'closed': np.cumsum(oom_year_slopes[1])}\n",
    "\n",
    "    def predict(date, category):\n",
    "        if not isinstance(date, pd.Series):\n",
    "            date = pd.Series(date)\n",
    "        x = pd.to_datetime(date).apply(lambda date: date.toordinal()).values\n",
    "\n",
    "        predictors = get_predictors(\n",
    "            x,\n",
    "            intercept_change_points,\n",
    "            slope_change_points,\n",
    "            category=category,\n",
    "            same_slopes=same_slopes,\n",
    "            same_intercepts=same_intercepts\n",
    "        )\n",
    "\n",
    "        return best_model.predict(predictors)\n",
    "\n",
    "    fit_result = KinkedFitResult(\n",
    "        p=p,\n",
    "        bic=best_bic,\n",
    "        rss=best_rss,\n",
    "        mse=best_mse,\n",
    "        break_points=best_break_points,\n",
    "        predict=predict,\n",
    "        break_points_dt=[pd.Timestamp.fromordinal(bp) for bp in best_break_points],\n",
    "        bics=bics,\n",
    "        rsss=rsss,\n",
    "        mses=mses,\n",
    "        oom_year_slopes=oom_year_slopes,\n",
    "        intercepts=oom_intercepts,\n",
    "        break_points_list=break_points_list,\n",
    "        break_points_dt_list=[[pd.Timestamp.fromordinal(bp) for bp in break_points] for break_points in break_points_list],\n",
    "    )\n",
    "\n",
    "    return fit_result\n",
    "\n",
    "\n",
    "fit_em_all = lambda df_fit : {\n",
    "    \"Simple\" : fit_n_phase_exponential(df_fit, kink_count=0),\n",
    "    \"Discrete acceleration\" : fit_n_phase_exponential(df_fit, kink_count=1),\n",
    "    \"Discontinuity\" : fit_n_phase_exponential(df_fit, kink_count=1, allow_discontinuities=True),\n",
    "    \"Same pre-break, different post-break\" : fit_n_phase_exponential(\n",
    "        df_fit, kink_count=1, allow_discontinuities=True, same_intercepts=(True, False), same_slopes=(True, False)\n",
    "    ),\n",
    "    \"Same pre-break, different intercept post-break\" : fit_n_phase_exponential(\n",
    "        df_fit, kink_count=1, allow_discontinuities=True, same_intercepts=(True, False), same_slopes=(True, True)\n",
    "    ),\n",
    "}\n",
    "\n",
    "# Best model fits\n",
    "models = fit_em_all(df_filtered)\n",
    "\n",
    "# K-Fold Cross Validation\n",
    "def perform_cross_validation(df, k=10, random_state=42):\n",
    "    kf = KFold(n_splits=k, shuffle=True, random_state=random_state)\n",
    "    folds_mses = defaultdict(lambda : [])\n",
    "    for train_index, test_index in kf.split(df):\n",
    "        train_df, test_df = df.iloc[train_index], df.iloc[test_index]\n",
    "\n",
    "        # Fit the models on the training set\n",
    "        fold_models = fit_em_all(train_df)\n",
    "\n",
    "        # Predict on the test set\n",
    "        for name,model in fold_models.items():\n",
    "            try:\n",
    "                predicted_log_flop = model.predict(test_df[\"date\"], test_df[\"category\"])\n",
    "            except AttributeError:\n",
    "                continue\n",
    "            test_rss = np.sum((predicted_log_flop - test_df[\"log_flop\"])**2)\n",
    "            test_mse = test_rss / len(test_df)\n",
    "            folds_mses[name].append(test_mse)\n",
    "\n",
    "    # Compute mean MSE\n",
    "    folds_mses = {name: np.mean(folds_mses[name]) for name in folds_mses}\n",
    "\n",
    "    return folds_mses\n",
    "\n",
    "folds_mses = perform_cross_validation(df_filtered)\n",
    "\n",
    "def calculate_lead_time(df, fit_result):\n",
    "    # Get the final predictions for 'open' and 'closed' categories\n",
    "    final_date = df['date'].max()\n",
    "    y_open = fit_result.predict(pd.Series([final_date]), pd.Series(['Open']))[0]\n",
    "    y_closed = fit_result.predict(pd.Series([final_date]), pd.Series(['Closed']))[0]\n",
    "    \n",
    "    # Get the final slope for the 'closed' category\n",
    "    slope_closed = fit_result.oom_year_slopes['closed'][-1]\n",
    "    \n",
    "    # Calculate lead time\n",
    "    lead_time = (y_closed - y_open) / slope_closed\n",
    "    \n",
    "    return lead_time\n",
    "\n",
    "\n",
    "# Bootstrap\n",
    "bootstrap_sample_size = 10\n",
    "\n",
    "rng = np.random.default_rng(43)\n",
    "bootstrap_bics = defaultdict(lambda : [])\n",
    "bootstrap_mses = defaultdict(lambda : [])\n",
    "bootstrap_bic_score_diff = defaultdict(lambda : [])\n",
    "bootstrap_slopes = defaultdict(lambda : defaultdict(lambda : []))\n",
    "bootstrap_intercepts = defaultdict(lambda : defaultdict(lambda : []))\n",
    "bootstrap_breaks = defaultdict(lambda : [])\n",
    "bootstrap_lead_time_years = defaultdict(lambda : [])\n",
    "for bootstrap_index in tqdm(range(bootstrap_sample_size)):\n",
    "    sample = df_filtered.sample(len(df_filtered), replace=True, random_state=rng)\n",
    "    sample = sample.sort_values('date')\n",
    "\n",
    "    # Compute BICs\n",
    "    boot_models = fit_em_all(sample)\n",
    "\n",
    "    # Compute K fold validation\n",
    "    boot_folds_mses = perform_cross_validation(sample)\n",
    "\n",
    "    # Store results\n",
    "    for name, model in boot_models.items():\n",
    "        # It might be None if the hyperbolic fails to fit\n",
    "        if model is None: continue\n",
    "\n",
    "        bootstrap_bics[name].append(model.bic)\n",
    "        bootstrap_mses[name].append(boot_folds_mses[name])\n",
    "        bootstrap_bic_score_diff[name].append(model.bic - boot_models[\"Simple\"].bic)\n",
    "\n",
    "        if isinstance(model, KinkedFitResult):\n",
    "            if (len(model.oom_year_slopes['open']) > 0):\n",
    "                bootstrap_slopes[name]['open'].append(10**model.oom_year_slopes['open'][-1])\n",
    "            if (len(model.oom_year_slopes['closed']) > 0):\n",
    "                bootstrap_slopes[name]['closed'].append(10**model.oom_year_slopes['closed'][-1])\n",
    "            if (len(model.break_points_dt) > 0):\n",
    "                bootstrap_breaks[name].append(model.break_points_dt[-1])\n",
    "\n",
    "            # Calculate the lead time between predictions for the open and closed categories\n",
    "            lead_time_years = calculate_lead_time(sample, model)\n",
    "            bootstrap_lead_time_years[name].append(lead_time_years)\n",
    "\n",
    "\n",
    "ci_width = 0.90\n",
    "qs = [(1 - ci_width)/2, (1 + ci_width)/2]\n",
    "bootstrap_preferred_percent = {}\n",
    "bootstrap_slopes_ci = defaultdict(lambda : defaultdict(lambda : []))\n",
    "for name in models:\n",
    "    bootstrap_preferred_percent[name] = np.mean(np.array(bootstrap_bic_score_diff[name])<0)\n",
    "    bootstrap_bics[name] = np.quantile(np.array(bootstrap_bics[name]), qs)\n",
    "    bootstrap_mses[name] = np.quantile(np.array(bootstrap_mses[name]), qs)\n",
    "    bootstrap_bic_score_diff[name] = np.quantile(np.array(bootstrap_bic_score_diff[name]), qs)\n",
    "    try:\n",
    "        bootstrap_slopes_ci[name]['open'] = np.quantile(np.array(bootstrap_slopes[name]['open']), qs)\n",
    "        bootstrap_slopes_ci[name]['closed'] = np.quantile(np.array(bootstrap_slopes[name]['closed']), qs)\n",
    "        bootstrap_breaks[name] = np.quantile(np.array(bootstrap_breaks[name]), qs)\n",
    "        bootstrap_lead_time_years[name] = np.quantile(np.array(bootstrap_lead_time_years[name]), qs)\n",
    "    except IndexError:\n",
    "        pass\n",
    "\n",
    "# Models with lower BIC score / MSE are preferred.\n",
    "\n",
    "results = []\n",
    "for name, model in models.items():\n",
    "    param_count = model.p\n",
    "    log_likelihood = (np.log(len(df_filtered))*param_count - model.bic)/2\n",
    "\n",
    "    param_count_simple = models['Simple'].p\n",
    "    log_likelihood_simple = (np.log(len(df_filtered))*param_count_simple - models['Simple'].bic)/2\n",
    "\n",
    "    c2 = chi2.sf(2*(log_likelihood - log_likelihood_simple), df=(param_count - param_count_simple))\n",
    "\n",
    "    result = {\n",
    "        \"Model\": name,\n",
    "        \"BIC\" : np.round(model.bic, 2),\n",
    "        \"BIC 90% CI\" : np.round(bootstrap_bics[name], 2),\n",
    "        #\"Parameter count\": param_count,\n",
    "        #\"Log likelihood\": np.round((np.log(len(df_filtered))*param_count - model.bic)/2),\n",
    "        # \"MSE\" : model.mse,\n",
    "        \"BIC score diff\": np.round(model.bic - models[\"Simple\"].bic, 2),\n",
    "        \"BIC score diff 90% CI\": np.round(bootstrap_bic_score_diff[name], 2),\n",
    "        \"Xi²\": c2,\n",
    "        \"% times preferred over simple\": f\"{bootstrap_preferred_percent[name]:.0%}\",\n",
    "        # \"bayes factor over simple\" : np.exp(-0.5 * (model.bic - models[\"simple\"].bic)),\n",
    "        \"K-fold mean MSE\" : np.round(folds_mses[name], 2),\n",
    "        \"K-fold mean MSE 90% CI\" : np.round(bootstrap_mses[name], 2),\n",
    "        \"Lead time (years)\" : np.round(calculate_lead_time(df_filtered, model), 2),\n",
    "        \"Lead time 90% CI\" : np.round(bootstrap_lead_time_years[name], 2),\n",
    "    }\n",
    "\n",
    "    try:\n",
    "        result[\"Recent slope for closed models (Nx/year)\"] = np.round(10**model.oom_year_slopes['closed'][-1], 2)\n",
    "        result[\"Recent slope for closed models 90% CI\"] = np.round(bootstrap_slopes_ci[name]['closed'], 2)\n",
    "        result[\"Recent slope for open models (Nx/year)\"] = np.round(10**model.oom_year_slopes['open'][-1], 2)\n",
    "        result[\"Recent slope for open models 90% CI\"] = np.round(bootstrap_slopes_ci[name]['open'], 2)\n",
    "        result[\"Break point\"] = model.break_points_dt[-1].strftime('%Y-%m')\n",
    "        result[\"Break point 90% CI\"] = [date.strftime('%Y-%m') for date in bootstrap_breaks[name]]\n",
    "    except (AttributeError, IndexError):\n",
    "        pass\n",
    "    results.append(result)\n",
    "\n",
    "results_df = pd.DataFrame(results)\n",
    "\n",
    "# bayes_factor = np.exp(-0.5 * (kinked_fit.bic - simple_fit.bic))\n",
    "\n",
    "print(\"Results\")\n",
    "results_df"
   ]
  },
  {
   "cell_type": "code",
   "execution_count": 50,
   "metadata": {},
   "outputs": [
    {
     "ename": "AttributeError",
     "evalue": "Can't pickle local object '<lambda>.<locals>.<lambda>'",
     "output_type": "error",
     "traceback": [
      "\u001b[0;31m---------------------------------------------------------------------------\u001b[0m",
      "\u001b[0;31mAttributeError\u001b[0m                            Traceback (most recent call last)",
      "Cell \u001b[0;32mIn[50], line 8\u001b[0m\n\u001b[1;32m      6\u001b[0m fname \u001b[38;5;241m=\u001b[39m \u001b[38;5;124mf\u001b[39m\u001b[38;5;124m'\u001b[39m\u001b[38;5;124mbootstrap_slopes_\u001b[39m\u001b[38;5;132;01m{\u001b[39;00mmodel_selection\u001b[38;5;132;01m}\u001b[39;00m\u001b[38;5;124m_frontier=\u001b[39m\u001b[38;5;132;01m{\u001b[39;00mfrontier_selection\u001b[38;5;132;01m}\u001b[39;00m\u001b[38;5;124m_top\u001b[39m\u001b[38;5;132;01m{\u001b[39;00mtop_n\u001b[38;5;132;01m}\u001b[39;00m\u001b[38;5;124m_cutoff=\u001b[39m\u001b[38;5;132;01m{\u001b[39;00mcutoff_date\u001b[38;5;132;01m}\u001b[39;00m\u001b[38;5;124m.pkl\u001b[39m\u001b[38;5;124m'\u001b[39m\n\u001b[1;32m      7\u001b[0m \u001b[38;5;28;01mwith\u001b[39;00m \u001b[38;5;28mopen\u001b[39m(results_dir \u001b[38;5;241m+\u001b[39m fname, \u001b[38;5;124m'\u001b[39m\u001b[38;5;124mwb\u001b[39m\u001b[38;5;124m'\u001b[39m) \u001b[38;5;28;01mas\u001b[39;00m f:\n\u001b[0;32m----> 8\u001b[0m     pickle\u001b[38;5;241m.\u001b[39mdump(\u001b[38;5;28mdict\u001b[39m(bootstrap_slopes), f)\n",
      "\u001b[0;31mAttributeError\u001b[0m: Can't pickle local object '<lambda>.<locals>.<lambda>'"
     ]
    }
   ],
   "source": [
    "# Save results_df\n",
    "fname = f'compute_regression_analysis_{model_selection}_frontier={frontier_selection}_top{top_n}_cutoff={cutoff_date}.csv'\n",
    "results_df.to_csv(os.path.join(results_dir, fname), index=False)\n",
    "\n",
    "# Save bootstrap slopes\n",
    "fname = f'bootstrap_slopes_{model_selection}_frontier={frontier_selection}_top{top_n}_cutoff={cutoff_date}.pkl'\n",
    "with open(results_dir + fname, 'wb') as f:\n",
    "    pickle.dump(dict(bootstrap_slopes), f)"
   ]
  },
  {
   "cell_type": "code",
   "execution_count": 49,
   "metadata": {},
   "outputs": [
    {
     "name": "stdout",
     "output_type": "stream",
     "text": [
      "Closed slopes: [0.96284573]\n",
      "Closed intercepts: [-1923.7067623]\n",
      "Open slopes: [0.85993489]\n",
      "Open intercepts: [-1716.36076254]\n"
     ]
    },
    {
     "data": {
      "image/png": "[encoded data removed]",
      "text/plain": [
       "<Figure size 1000x600 with 1 Axes>"
      ]
     },
     "metadata": {},
     "output_type": "display_data"
    }
   ],
   "source": [
    "# Graph of the different model fits\n",
    "\n",
    "model = 'simple'  # ['simple', 'kinked']\n",
    "colors = {'open': 'C0', 'closed': 'C1'}\n",
    "\n",
    "# Parameters for the kinked model\n",
    "kink_count = 1\n",
    "allow_discontinuities = True\n",
    "same_intercepts = (True, False)\n",
    "same_slopes = (True, True)\n",
    "\n",
    "def plot_model(df, model_type, kink_count=1, verbose=True):\n",
    "    if model_type == 'simple':\n",
    "        fit_result = fit_n_phase_exponential(df, 0)\n",
    "    else:\n",
    "        fit_result = fit_n_phase_exponential(df, kink_count, allow_discontinuities, same_intercepts, same_slopes)\n",
    "\n",
    "    print(f\"Closed slopes: {fit_result.oom_year_slopes['closed']}\")\n",
    "    print(f\"Closed intercepts: {fit_result.intercepts['closed']}\")\n",
    "    print(f\"Open slopes: {fit_result.oom_year_slopes['open']}\")\n",
    "    print(f\"Open intercepts: {fit_result.intercepts['open']}\")\n",
    "\n",
    "    df_open = df[df['category'] == 'Open']\n",
    "    df_closed = df[df['category'] == 'Closed']\n",
    "\n",
    "    # Plot the original data points\n",
    "    plt.figure(figsize=(10, 6))\n",
    "    plt.scatter(df_open['date'], df_open['log_flop'], label='Open models')\n",
    "    plt.scatter(df_closed['date'], df_closed['log_flop'], label='Closed models')\n",
    "\n",
    "    date_grid = pd.date_range(start=df['date'].min(), end=df['date'].max(), freq='D')\n",
    "    log_flop_open = fit_result.predict(pd.Series(date_grid), pd.Series(['Open'] * len(date_grid))) # we shouldn't need to convert to a Series\n",
    "    log_flop_closed = fit_result.predict(pd.Series(date_grid), pd.Series(['Closed'] * len(date_grid))) # we shouldn't need to convert to a Series\n",
    "    plt.plot(date_grid, log_flop_open, color=colors['open'], label='Best Fit Line (Open)')\n",
    "    plt.plot(date_grid, log_flop_closed, color=colors['closed'], label='Best Fit Line (Closed)')\n",
    "\n",
    "    # Formatting the plot\n",
    "    plt.legend()\n",
    "    if model == 'kinked':\n",
    "      plt.title(f'Fit of {model_type} model with {kink_count} kinks')\n",
    "    else:\n",
    "      plt.title(f'Fit of {model_type} model')\n",
    "    plt.xlabel('Date')\n",
    "    plt.ylabel('log_flop')\n",
    "\n",
    "    # Format the date on the x-axis\n",
    "    plt.gca().xaxis.set_major_formatter(DateFormatter('%Y-%m-%d'))\n",
    "    plt.gcf().autofmt_xdate()  # Rotation\n",
    "\n",
    "    # if kink_count == 0 or model == 'simple':\n",
    "    #     print(f\"The slope is: {fit_result.oom_year_slopes[0]:0.2f} OOM/year ({10**fit_result.oom_year_slopes[0]:0.2f}x/year)\")\n",
    "    # else:\n",
    "    #     oom_year_slopes_str = ', '.join([f'{x:0.2f}' for x in fit_result.oom_year_slopes])\n",
    "    #     nx_year_slopes_str = ', '.join([f'{10**x:0.2f}' for x in fit_result.oom_year_slopes])\n",
    "    #     break_points_str = ', '.join([bp.strftime('%Y-%m-%d') for bp in fit_result.break_points_dt])\n",
    "\n",
    "    #     print(f\"The breakpoints are: [{break_points_str}]\")\n",
    "    #     print(f\"The slopes are: [{oom_year_slopes_str}] OOM/year ([{nx_year_slopes_str}] x/year)\")\n",
    "\n",
    "    # Add slope labels\n",
    "    points = [df['date'].min()] + fit_result.break_points_dt + [df['date'].max()]\n",
    "\n",
    "    for i in range(len(points) - 1):\n",
    "        for category in ['open', 'closed']:\n",
    "            mid = points[i] + (points[i+1] - points[i]) / 2\n",
    "            y = fit_result.predict(pd.Series([mid]), pd.Series([category]))[0]\n",
    "            plt.text(mid, y - 2, f'{10**fit_result.oom_year_slopes[category][i]:0.2f}x/year', fontsize=12, color='black', path_effects=[pe.withStroke(linewidth=4, foreground=\"white\")])\n",
    "\n",
    "    # if verbose:\n",
    "    #   simple_fit = fit_n_phase_exponential(df, 0)\n",
    "    #   bayes_factor = np.exp(-0.5 * (fit_result.bic - simple_fit.bic))\n",
    "    #   unadjusted_bayes_factor = np.exp(-0.5 * (fit_result.bic - (simple_fit.bic + 2*np.log(len(df_filtered)))))\n",
    "\n",
    "    #   print(f\"BIC score: {fit_result.bic}\")\n",
    "    #   bic_score_difference = fit_result.bic - simple_fit.bic\n",
    "    #   if bic_score_difference > 0:\n",
    "    #     print(f\"The simple exponential is preferred over this fit by a BIC score difference of {fit_result.bic - simple_fit.bic}\")\n",
    "    #   if bic_score_difference < 0:\n",
    "    #     print(f\"This fit is preferred over a simple exponential by a BIC score difference of {-fit_result.bic - simple_fit.bic}\")\n",
    "\n",
    "    plt.legend()\n",
    "    plt.grid(True)\n",
    "\n",
    "    # Save plot\n",
    "    fname = f'compute_regression_{model_selection}_frontier={frontier_selection}_top{top_n}_cutoff={cutoff_date}_{model_type}_kinks={kink_count}.png'\n",
    "    plt.savefig(os.path.join(results_dir, fname))\n",
    "\n",
    "    plt.show()\n",
    "\n",
    "plot_model(df_filtered, model, kink_count)"
   ]
  },
  {
   "cell_type": "code",
   "execution_count": null,
   "metadata": {},
   "outputs": [
    {
     "name": "stderr",
     "output_type": "stream",
     "text": [
      "100%|██████████| 16/16 [01:57<00:00,  7.34s/it]\n"
     ]
    }
   ],
   "source": [
    "#@title Sensitivity analysis to top N choice\n",
    "run_bootstrap = True #@param {type:'boolean'}\n",
    "bootstrap_sample_count = 1000 #@param\n",
    "max_topN = 20 #@param\n",
    "\n",
    "if run_bootstrap:\n",
    "    rows = []\n",
    "    from tqdm import tqdm\n",
    "\n",
    "    @dataclass\n",
    "    class BootstrapResult:\n",
    "        bic_diffs: tuple[float] = None\n",
    "        oom_year_simples: tuple[float] = None\n",
    "\n",
    "        # For the kinked model\n",
    "        break_points_list: tuple[tuple[pd.Timestamp]] = None\n",
    "        oom_year_slopes: tuple[tuple[float]] = None\n",
    "\n",
    "    def bootstrap(model, df, sample_size, kink_count=1, allow_discontinuities=False, verbose=True):\n",
    "        rng = np.random.default_rng(0)\n",
    "\n",
    "        bootstrap_result = BootstrapResult()\n",
    "        bootstrap_result.break_points_list = []\n",
    "        bootstrap_result.oom_year_slopes = []\n",
    "        bootstrap_result.oom_year_simples = []\n",
    "        bootstrap_result.bic_diffs = []\n",
    "\n",
    "        if verbose:\n",
    "            print('Bootstrapping')\n",
    "        for bootstrap_index in range(sample_size):\n",
    "            if verbose:\n",
    "                if bootstrap_index % 10 == 0:\n",
    "                    print(f'  Computing bootstrap {bootstrap_index}/{sample_size}')\n",
    "\n",
    "            sample = df.sample(len(df), replace=True, random_state=rng)\n",
    "            sample = sample.sort_values('date')\n",
    "\n",
    "            simple_fit = fit_n_phase_exponential(sample, 0)\n",
    "\n",
    "            if model == 'hyperbolic':\n",
    "                fit_result = fit_hyperbolic(sample)\n",
    "            else:\n",
    "                fit_result = fit_n_phase_exponential(sample, kink_count, allow_discontinuities)\n",
    "\n",
    "            # BIC difference over simple exponential\n",
    "            bic_diff = fit_result.bic - simple_fit.bic\n",
    "            bootstrap_result.bic_diffs.append(bic_diff)\n",
    "\n",
    "            bootstrap_result.oom_year_slopes.append(fit_result.oom_year_slopes)\n",
    "            bootstrap_result.break_points_list.append(fit_result.break_points_dt)\n",
    "            bootstrap_result.oom_year_simples.append(simple_fit.oom_year_slopes[0])\n",
    "\n",
    "        bootstrap_result.oom_year_slopes = np.array(bootstrap_result.oom_year_slopes)\n",
    "        bootstrap_result.break_points_list = np.array(bootstrap_result.break_points_list)\n",
    "        bootstrap_result.oom_year_simples = np.array(bootstrap_result.oom_year_simples)\n",
    "\n",
    "        return bootstrap_result\n",
    "\n",
    "\n",
    "    for top_n in tqdm(range(5, max_topN + 1)):\n",
    "        df_top = find_top_models_up_to_release(df_notable, top_n)\n",
    "        df_top = df_top[df_top['date'] > cutoff_date]\n",
    "\n",
    "        bootstrap_result = bootstrap('kinked', df_top, bootstrap_sample_count, verbose=False)\n",
    "\n",
    "        ci_width = 0.90\n",
    "        qs = [(1 - ci_width)/2, 0.5, (1 + ci_width)/2]\n",
    "        bic_diff_quantiles = np.quantile(bootstrap_result.bic_diffs, qs)\n",
    "        pos_bic_diff_percent = (np.array(bootstrap_result.bic_diffs) > 0).mean()\n",
    "        simple_nx_year_quantiles = 10**np.quantile(bootstrap_result.oom_year_simples, qs)\n",
    "\n",
    "        row = []\n",
    "        row.append(top_n)\n",
    "        row.append(f'{bic_diff_quantiles[1]:.2f} (90% CI: {bic_diff_quantiles[0]:.2f} to {bic_diff_quantiles[2]:.2f})')\n",
    "        row.append(f'{1 - pos_bic_diff_percent:.0%}')\n",
    "        row.append(f'{simple_nx_year_quantiles[1]:.2f} (90% CI: {simple_nx_year_quantiles[0]:.2f} to {simple_nx_year_quantiles[2]:.2f})')\n",
    "        rows.append(row)\n",
    "\n",
    "    df_results = pd.DataFrame(rows, columns=['top_n', 'BIC difference', '% times discontinuity preferred', 'Simple fit slope (x/year)'])"
   ]
  },
  {
   "cell_type": "code",
   "execution_count": null,
   "metadata": {},
   "outputs": [
    {
     "data": {
      "text/html": [
       "<div>\n",
       "<style scoped>\n",
       "    .dataframe tbody tr th:only-of-type {\n",
       "        vertical-align: middle;\n",
       "    }\n",
       "\n",
       "    .dataframe tbody tr th {\n",
       "        vertical-align: top;\n",
       "    }\n",
       "\n",
       "    .dataframe thead th {\n",
       "        text-align: right;\n",
       "    }\n",
       "</style>\n",
       "<table border=\"1\" class=\"dataframe\">\n",
       "  <thead>\n",
       "    <tr style=\"text-align: right;\">\n",
       "      <th></th>\n",
       "      <th>top_n</th>\n",
       "      <th>BIC difference</th>\n",
       "      <th>% times discontinuity preferred</th>\n",
       "      <th>Simple fit slope (x/year)</th>\n",
       "    </tr>\n",
       "  </thead>\n",
       "  <tbody>\n",
       "    <tr>\n",
       "      <th>0</th>\n",
       "      <td>5</td>\n",
       "      <td>-11.72 (90% CI: -28.77 to -1.54)</td>\n",
       "      <td>97%</td>\n",
       "      <td>6.91 (90% CI: 5.53 to 8.41)</td>\n",
       "    </tr>\n",
       "    <tr>\n",
       "      <th>1</th>\n",
       "      <td>6</td>\n",
       "      <td>-22.91 (90% CI: -44.63 to -5.77)</td>\n",
       "      <td>99%</td>\n",
       "      <td>7.89 (90% CI: 6.09 to 10.41)</td>\n",
       "    </tr>\n",
       "    <tr>\n",
       "      <th>2</th>\n",
       "      <td>7</td>\n",
       "      <td>-22.94 (90% CI: -41.13 to -9.08)</td>\n",
       "      <td>100%</td>\n",
       "      <td>8.81 (90% CI: 7.02 to 11.28)</td>\n",
       "    </tr>\n",
       "    <tr>\n",
       "      <th>3</th>\n",
       "      <td>8</td>\n",
       "      <td>-21.75 (90% CI: -38.38 to -8.90)</td>\n",
       "      <td>100%</td>\n",
       "      <td>8.70 (90% CI: 6.96 to 11.17)</td>\n",
       "    </tr>\n",
       "    <tr>\n",
       "      <th>4</th>\n",
       "      <td>9</td>\n",
       "      <td>-20.84 (90% CI: -36.72 to -7.38)</td>\n",
       "      <td>100%</td>\n",
       "      <td>8.77 (90% CI: 7.03 to 11.03)</td>\n",
       "    </tr>\n",
       "    <tr>\n",
       "      <th>5</th>\n",
       "      <td>10</td>\n",
       "      <td>-23.47 (90% CI: -41.15 to -6.79)</td>\n",
       "      <td>100%</td>\n",
       "      <td>9.11 (90% CI: 7.31 to 11.96)</td>\n",
       "    </tr>\n",
       "    <tr>\n",
       "      <th>6</th>\n",
       "      <td>11</td>\n",
       "      <td>-23.68 (90% CI: -40.72 to -9.72)</td>\n",
       "      <td>100%</td>\n",
       "      <td>9.40 (90% CI: 7.34 to 12.15)</td>\n",
       "    </tr>\n",
       "    <tr>\n",
       "      <th>7</th>\n",
       "      <td>12</td>\n",
       "      <td>-21.34 (90% CI: -38.94 to -7.02)</td>\n",
       "      <td>100%</td>\n",
       "      <td>9.25 (90% CI: 7.32 to 11.63)</td>\n",
       "    </tr>\n",
       "    <tr>\n",
       "      <th>8</th>\n",
       "      <td>13</td>\n",
       "      <td>-22.36 (90% CI: -38.20 to -8.60)</td>\n",
       "      <td>100%</td>\n",
       "      <td>9.65 (90% CI: 7.52 to 12.22)</td>\n",
       "    </tr>\n",
       "    <tr>\n",
       "      <th>9</th>\n",
       "      <td>14</td>\n",
       "      <td>-26.54 (90% CI: -42.25 to -12.58)</td>\n",
       "      <td>100%</td>\n",
       "      <td>10.28 (90% CI: 8.00 to 13.40)</td>\n",
       "    </tr>\n",
       "    <tr>\n",
       "      <th>10</th>\n",
       "      <td>15</td>\n",
       "      <td>-32.23 (90% CI: -48.57 to -16.45)</td>\n",
       "      <td>100%</td>\n",
       "      <td>10.97 (90% CI: 8.43 to 14.30)</td>\n",
       "    </tr>\n",
       "    <tr>\n",
       "      <th>11</th>\n",
       "      <td>16</td>\n",
       "      <td>-36.28 (90% CI: -54.77 to -20.33)</td>\n",
       "      <td>100%</td>\n",
       "      <td>11.59 (90% CI: 8.92 to 14.96)</td>\n",
       "    </tr>\n",
       "    <tr>\n",
       "      <th>12</th>\n",
       "      <td>17</td>\n",
       "      <td>-33.49 (90% CI: -51.41 to -17.98)</td>\n",
       "      <td>100%</td>\n",
       "      <td>11.56 (90% CI: 8.87 to 15.12)</td>\n",
       "    </tr>\n",
       "    <tr>\n",
       "      <th>13</th>\n",
       "      <td>18</td>\n",
       "      <td>-36.68 (90% CI: -54.76 to -20.86)</td>\n",
       "      <td>100%</td>\n",
       "      <td>11.82 (90% CI: 9.21 to 15.00)</td>\n",
       "    </tr>\n",
       "    <tr>\n",
       "      <th>14</th>\n",
       "      <td>19</td>\n",
       "      <td>-34.95 (90% CI: -54.08 to -19.85)</td>\n",
       "      <td>100%</td>\n",
       "      <td>12.14 (90% CI: 9.49 to 15.48)</td>\n",
       "    </tr>\n",
       "    <tr>\n",
       "      <th>15</th>\n",
       "      <td>20</td>\n",
       "      <td>-31.69 (90% CI: -50.35 to -16.79)</td>\n",
       "      <td>100%</td>\n",
       "      <td>11.94 (90% CI: 9.40 to 15.28)</td>\n",
       "    </tr>\n",
       "  </tbody>\n",
       "</table>\n",
       "</div>"
      ],
      "text/plain": [
       "    top_n                     BIC difference % times discontinuity preferred  \\\n",
       "0       5   -11.72 (90% CI: -28.77 to -1.54)                             97%   \n",
       "1       6   -22.91 (90% CI: -44.63 to -5.77)                             99%   \n",
       "2       7   -22.94 (90% CI: -41.13 to -9.08)                            100%   \n",
       "3       8   -21.75 (90% CI: -38.38 to -8.90)                            100%   \n",
       "4       9   -20.84 (90% CI: -36.72 to -7.38)                            100%   \n",
       "5      10   -23.47 (90% CI: -41.15 to -6.79)                            100%   \n",
       "6      11   -23.68 (90% CI: -40.72 to -9.72)                            100%   \n",
       "7      12   -21.34 (90% CI: -38.94 to -7.02)                            100%   \n",
       "8      13   -22.36 (90% CI: -38.20 to -8.60)                            100%   \n",
       "9      14  -26.54 (90% CI: -42.25 to -12.58)                            100%   \n",
       "10     15  -32.23 (90% CI: -48.57 to -16.45)                            100%   \n",
       "11     16  -36.28 (90% CI: -54.77 to -20.33)                            100%   \n",
       "12     17  -33.49 (90% CI: -51.41 to -17.98)                            100%   \n",
       "13     18  -36.68 (90% CI: -54.76 to -20.86)                            100%   \n",
       "14     19  -34.95 (90% CI: -54.08 to -19.85)                            100%   \n",
       "15     20  -31.69 (90% CI: -50.35 to -16.79)                            100%   \n",
       "\n",
       "        Simple fit slope (x/year)  \n",
       "0     6.91 (90% CI: 5.53 to 8.41)  \n",
       "1    7.89 (90% CI: 6.09 to 10.41)  \n",
       "2    8.81 (90% CI: 7.02 to 11.28)  \n",
       "3    8.70 (90% CI: 6.96 to 11.17)  \n",
       "4    8.77 (90% CI: 7.03 to 11.03)  \n",
       "5    9.11 (90% CI: 7.31 to 11.96)  \n",
       "6    9.40 (90% CI: 7.34 to 12.15)  \n",
       "7    9.25 (90% CI: 7.32 to 11.63)  \n",
       "8    9.65 (90% CI: 7.52 to 12.22)  \n",
       "9   10.28 (90% CI: 8.00 to 13.40)  \n",
       "10  10.97 (90% CI: 8.43 to 14.30)  \n",
       "11  11.59 (90% CI: 8.92 to 14.96)  \n",
       "12  11.56 (90% CI: 8.87 to 15.12)  \n",
       "13  11.82 (90% CI: 9.21 to 15.00)  \n",
       "14  12.14 (90% CI: 9.49 to 15.48)  \n",
       "15  11.94 (90% CI: 9.40 to 15.28)  "
      ]
     },
     "execution_count": 31,
     "metadata": {},
     "output_type": "execute_result"
    }
   ],
   "source": [
    "df_results"
   ]
  },
  {
   "cell_type": "markdown",
   "metadata": {},
   "source": [
    "# Regression"
   ]
  },
  {
   "cell_type": "code",
   "execution_count": null,
   "metadata": {},
   "outputs": [],
   "source": [
    "# tentative\n",
    "analysis_start_year = 2015\n",
    "filtered_access_df = access_df[(access_df[f'top_{n}_at_release'] == True) & (access_df['Publication date (float)'] >= analysis_start_year)]\n",
    "\n",
    "\n",
    "# filtered_access_df = access_df.loc[access_df['System'].isin(selected_systems)]"
   ]
  },
  {
   "cell_type": "code",
   "execution_count": null,
   "metadata": {},
   "outputs": [],
   "source": [
    "filtered_access_df.loc[filtered_access_df['Model open/closed'] == 'Closed',['System', 'Publication date (float)', 'Training compute (FLOP)']].to_csv('test.csv')"
   ]
  },
  {
   "cell_type": "code",
   "execution_count": null,
   "metadata": {},
   "outputs": [
    {
     "data": {
      "text/html": [
       "<table class=\"simpletable\">\n",
       "<caption>OLS Regression Results</caption>\n",
       "<tr>\n",
       "  <th>Dep. Variable:</th>            <td>y</td>        <th>  R-squared:         </th> <td>   0.818</td>\n",
       "</tr>\n",
       "<tr>\n",
       "  <th>Model:</th>                   <td>OLS</td>       <th>  Adj. R-squared:    </th> <td>   0.817</td>\n",
       "</tr>\n",
       "<tr>\n",
       "  <th>Method:</th>             <td>Least Squares</td>  <th>  F-statistic:       </th> <td>   711.5</td>\n",
       "</tr>\n",
       "<tr>\n",
       "  <th>Date:</th>             <td>Fri, 12 Jul 2024</td> <th>  Prob (F-statistic):</th> <td>2.17e-60</td>\n",
       "</tr>\n",
       "<tr>\n",
       "  <th>Time:</th>                 <td>17:57:59</td>     <th>  Log-Likelihood:    </th> <td> -244.44</td>\n",
       "</tr>\n",
       "<tr>\n",
       "  <th>No. Observations:</th>      <td>   160</td>      <th>  AIC:               </th> <td>   492.9</td>\n",
       "</tr>\n",
       "<tr>\n",
       "  <th>Df Residuals:</th>          <td>   158</td>      <th>  BIC:               </th> <td>   499.0</td>\n",
       "</tr>\n",
       "<tr>\n",
       "  <th>Df Model:</th>              <td>     1</td>      <th>                     </th>     <td> </td>   \n",
       "</tr>\n",
       "<tr>\n",
       "  <th>Covariance Type:</th>      <td>nonrobust</td>    <th>                     </th>     <td> </td>   \n",
       "</tr>\n",
       "</table>\n",
       "<table class=\"simpletable\">\n",
       "<tr>\n",
       "    <td></td>       <th>coef</th>     <th>std err</th>      <th>t</th>      <th>P>|t|</th>  <th>[0.025</th>    <th>0.975]</th>  \n",
       "</tr>\n",
       "<tr>\n",
       "  <th>const</th> <td>-2056.9430</td> <td>   77.926</td> <td>  -26.396</td> <td> 0.000</td> <td>-2210.854</td> <td>-1903.032</td>\n",
       "</tr>\n",
       "<tr>\n",
       "  <th>x1</th>    <td>    1.0287</td> <td>    0.039</td> <td>   26.674</td> <td> 0.000</td> <td>    0.953</td> <td>    1.105</td>\n",
       "</tr>\n",
       "</table>\n",
       "<table class=\"simpletable\">\n",
       "<tr>\n",
       "  <th>Omnibus:</th>       <td>12.661</td> <th>  Durbin-Watson:     </th> <td>   1.048</td>\n",
       "</tr>\n",
       "<tr>\n",
       "  <th>Prob(Omnibus):</th> <td> 0.002</td> <th>  Jarque-Bera (JB):  </th> <td>  32.836</td>\n",
       "</tr>\n",
       "<tr>\n",
       "  <th>Skew:</th>          <td>-0.150</td> <th>  Prob(JB):          </th> <td>7.41e-08</td>\n",
       "</tr>\n",
       "<tr>\n",
       "  <th>Kurtosis:</th>      <td> 5.199</td> <th>  Cond. No.          </th> <td>1.78e+06</td>\n",
       "</tr>\n",
       "</table><br/><br/>Notes:<br/>[1] Standard Errors assume that the covariance matrix of the errors is correctly specified.<br/>[2] The condition number is large, 1.78e+06. This might indicate that there are<br/>strong multicollinearity or other numerical problems."
      ],
      "text/latex": [
       "\\begin{center}\n",
       "\\begin{tabular}{lclc}\n",
       "\\toprule\n",
       "\\textbf{Dep. Variable:}    &        y         & \\textbf{  R-squared:         } &     0.818   \\\\\n",
       "\\textbf{Model:}            &       OLS        & \\textbf{  Adj. R-squared:    } &     0.817   \\\\\n",
       "\\textbf{Method:}           &  Least Squares   & \\textbf{  F-statistic:       } &     711.5   \\\\\n",
       "\\textbf{Date:}             & Fri, 12 Jul 2024 & \\textbf{  Prob (F-statistic):} &  2.17e-60   \\\\\n",
       "\\textbf{Time:}             &     17:57:59     & \\textbf{  Log-Likelihood:    } &   -244.44   \\\\\n",
       "\\textbf{No. Observations:} &         160      & \\textbf{  AIC:               } &     492.9   \\\\\n",
       "\\textbf{Df Residuals:}     &         158      & \\textbf{  BIC:               } &     499.0   \\\\\n",
       "\\textbf{Df Model:}         &           1      & \\textbf{                     } &             \\\\\n",
       "\\textbf{Covariance Type:}  &    nonrobust     & \\textbf{                     } &             \\\\\n",
       "\\bottomrule\n",
       "\\end{tabular}\n",
       "\\begin{tabular}{lcccccc}\n",
       "               & \\textbf{coef} & \\textbf{std err} & \\textbf{t} & \\textbf{P$> |$t$|$} & \\textbf{[0.025} & \\textbf{0.975]}  \\\\\n",
       "\\midrule\n",
       "\\textbf{const} &   -2056.9430  &       77.926     &   -26.396  &         0.000        &    -2210.854    &    -1903.032     \\\\\n",
       "\\textbf{x1}    &       1.0287  &        0.039     &    26.674  &         0.000        &        0.953    &        1.105     \\\\\n",
       "\\bottomrule\n",
       "\\end{tabular}\n",
       "\\begin{tabular}{lclc}\n",
       "\\textbf{Omnibus:}       & 12.661 & \\textbf{  Durbin-Watson:     } &    1.048  \\\\\n",
       "\\textbf{Prob(Omnibus):} &  0.002 & \\textbf{  Jarque-Bera (JB):  } &   32.836  \\\\\n",
       "\\textbf{Skew:}          & -0.150 & \\textbf{  Prob(JB):          } & 7.41e-08  \\\\\n",
       "\\textbf{Kurtosis:}      &  5.199 & \\textbf{  Cond. No.          } & 1.78e+06  \\\\\n",
       "\\bottomrule\n",
       "\\end{tabular}\n",
       "%\\caption{OLS Regression Results}\n",
       "\\end{center}\n",
       "\n",
       "Notes: \\newline\n",
       " [1] Standard Errors assume that the covariance matrix of the errors is correctly specified. \\newline\n",
       " [2] The condition number is large, 1.78e+06. This might indicate that there are \\newline\n",
       " strong multicollinearity or other numerical problems."
      ],
      "text/plain": [
       "<class 'statsmodels.iolib.summary.Summary'>\n",
       "\"\"\"\n",
       "                            OLS Regression Results                            \n",
       "==============================================================================\n",
       "Dep. Variable:                      y   R-squared:                       0.818\n",
       "Model:                            OLS   Adj. R-squared:                  0.817\n",
       "Method:                 Least Squares   F-statistic:                     711.5\n",
       "Date:                Fri, 12 Jul 2024   Prob (F-statistic):           2.17e-60\n",
       "Time:                        17:57:59   Log-Likelihood:                -244.44\n",
       "No. Observations:                 160   AIC:                             492.9\n",
       "Df Residuals:                     158   BIC:                             499.0\n",
       "Df Model:                           1                                         \n",
       "Covariance Type:            nonrobust                                         \n",
       "==============================================================================\n",
       "                 coef    std err          t      P>|t|      [0.025      0.975]\n",
       "------------------------------------------------------------------------------\n",
       "const      -2056.9430     77.926    -26.396      0.000   -2210.854   -1903.032\n",
       "x1             1.0287      0.039     26.674      0.000       0.953       1.105\n",
       "==============================================================================\n",
       "Omnibus:                       12.661   Durbin-Watson:                   1.048\n",
       "Prob(Omnibus):                  0.002   Jarque-Bera (JB):               32.836\n",
       "Skew:                          -0.150   Prob(JB):                     7.41e-08\n",
       "Kurtosis:                       5.199   Cond. No.                     1.78e+06\n",
       "==============================================================================\n",
       "\n",
       "Notes:\n",
       "[1] Standard Errors assume that the covariance matrix of the errors is correctly specified.\n",
       "[2] The condition number is large, 1.78e+06. This might indicate that there are\n",
       "strong multicollinearity or other numerical problems.\n",
       "\"\"\""
      ]
     },
     "execution_count": 34,
     "metadata": {},
     "output_type": "execute_result"
    }
   ],
   "source": [
    "reg_results = fit_ols_regression(\n",
    "    filtered_access_df,\n",
    "    ['Publication date (float)'],\n",
    "    'Training compute (FLOP)',\n",
    "    logy=True\n",
    ")\n",
    "reg_results.summary()"
   ]
  },
  {
   "cell_type": "code",
   "execution_count": null,
   "metadata": {},
   "outputs": [
    {
     "data": {
      "text/html": [
       "<table class=\"simpletable\">\n",
       "<caption>OLS Regression Results</caption>\n",
       "<tr>\n",
       "  <th>Dep. Variable:</th>            <td>y</td>        <th>  R-squared:         </th> <td>   0.785</td>\n",
       "</tr>\n",
       "<tr>\n",
       "  <th>Model:</th>                   <td>OLS</td>       <th>  Adj. R-squared:    </th> <td>   0.782</td>\n",
       "</tr>\n",
       "<tr>\n",
       "  <th>Method:</th>             <td>Least Squares</td>  <th>  F-statistic:       </th> <td>   287.9</td>\n",
       "</tr>\n",
       "<tr>\n",
       "  <th>Date:</th>             <td>Fri, 12 Jul 2024</td> <th>  Prob (F-statistic):</th> <td>4.56e-28</td>\n",
       "</tr>\n",
       "<tr>\n",
       "  <th>Time:</th>                 <td>17:57:59</td>     <th>  Log-Likelihood:    </th> <td> -116.70</td>\n",
       "</tr>\n",
       "<tr>\n",
       "  <th>No. Observations:</th>      <td>    81</td>      <th>  AIC:               </th> <td>   237.4</td>\n",
       "</tr>\n",
       "<tr>\n",
       "  <th>Df Residuals:</th>          <td>    79</td>      <th>  BIC:               </th> <td>   242.2</td>\n",
       "</tr>\n",
       "<tr>\n",
       "  <th>Df Model:</th>              <td>     1</td>      <th>                     </th>     <td> </td>   \n",
       "</tr>\n",
       "<tr>\n",
       "  <th>Covariance Type:</th>      <td>nonrobust</td>    <th>                     </th>     <td> </td>   \n",
       "</tr>\n",
       "</table>\n",
       "<table class=\"simpletable\">\n",
       "<tr>\n",
       "    <td></td>       <th>coef</th>     <th>std err</th>      <th>t</th>      <th>P>|t|</th>  <th>[0.025</th>    <th>0.975]</th>  \n",
       "</tr>\n",
       "<tr>\n",
       "  <th>const</th> <td>-1886.2489</td> <td>  112.455</td> <td>  -16.773</td> <td> 0.000</td> <td>-2110.085</td> <td>-1662.413</td>\n",
       "</tr>\n",
       "<tr>\n",
       "  <th>x1</th>    <td>    0.9441</td> <td>    0.056</td> <td>   16.968</td> <td> 0.000</td> <td>    0.833</td> <td>    1.055</td>\n",
       "</tr>\n",
       "</table>\n",
       "<table class=\"simpletable\">\n",
       "<tr>\n",
       "  <th>Omnibus:</th>       <td>35.915</td> <th>  Durbin-Watson:     </th> <td>   0.583</td>\n",
       "</tr>\n",
       "<tr>\n",
       "  <th>Prob(Omnibus):</th> <td> 0.000</td> <th>  Jarque-Bera (JB):  </th> <td> 133.174</td>\n",
       "</tr>\n",
       "<tr>\n",
       "  <th>Skew:</th>          <td>-1.298</td> <th>  Prob(JB):          </th> <td>1.21e-29</td>\n",
       "</tr>\n",
       "<tr>\n",
       "  <th>Kurtosis:</th>      <td> 8.720</td> <th>  Cond. No.          </th> <td>1.98e+06</td>\n",
       "</tr>\n",
       "</table><br/><br/>Notes:<br/>[1] Standard Errors assume that the covariance matrix of the errors is correctly specified.<br/>[2] The condition number is large, 1.98e+06. This might indicate that there are<br/>strong multicollinearity or other numerical problems."
      ],
      "text/latex": [
       "\\begin{center}\n",
       "\\begin{tabular}{lclc}\n",
       "\\toprule\n",
       "\\textbf{Dep. Variable:}    &        y         & \\textbf{  R-squared:         } &     0.785   \\\\\n",
       "\\textbf{Model:}            &       OLS        & \\textbf{  Adj. R-squared:    } &     0.782   \\\\\n",
       "\\textbf{Method:}           &  Least Squares   & \\textbf{  F-statistic:       } &     287.9   \\\\\n",
       "\\textbf{Date:}             & Fri, 12 Jul 2024 & \\textbf{  Prob (F-statistic):} &  4.56e-28   \\\\\n",
       "\\textbf{Time:}             &     17:57:59     & \\textbf{  Log-Likelihood:    } &   -116.70   \\\\\n",
       "\\textbf{No. Observations:} &          81      & \\textbf{  AIC:               } &     237.4   \\\\\n",
       "\\textbf{Df Residuals:}     &          79      & \\textbf{  BIC:               } &     242.2   \\\\\n",
       "\\textbf{Df Model:}         &           1      & \\textbf{                     } &             \\\\\n",
       "\\textbf{Covariance Type:}  &    nonrobust     & \\textbf{                     } &             \\\\\n",
       "\\bottomrule\n",
       "\\end{tabular}\n",
       "\\begin{tabular}{lcccccc}\n",
       "               & \\textbf{coef} & \\textbf{std err} & \\textbf{t} & \\textbf{P$> |$t$|$} & \\textbf{[0.025} & \\textbf{0.975]}  \\\\\n",
       "\\midrule\n",
       "\\textbf{const} &   -1886.2489  &      112.455     &   -16.773  &         0.000        &    -2110.085    &    -1662.413     \\\\\n",
       "\\textbf{x1}    &       0.9441  &        0.056     &    16.968  &         0.000        &        0.833    &        1.055     \\\\\n",
       "\\bottomrule\n",
       "\\end{tabular}\n",
       "\\begin{tabular}{lclc}\n",
       "\\textbf{Omnibus:}       & 35.915 & \\textbf{  Durbin-Watson:     } &    0.583  \\\\\n",
       "\\textbf{Prob(Omnibus):} &  0.000 & \\textbf{  Jarque-Bera (JB):  } &  133.174  \\\\\n",
       "\\textbf{Skew:}          & -1.298 & \\textbf{  Prob(JB):          } & 1.21e-29  \\\\\n",
       "\\textbf{Kurtosis:}      &  8.720 & \\textbf{  Cond. No.          } & 1.98e+06  \\\\\n",
       "\\bottomrule\n",
       "\\end{tabular}\n",
       "%\\caption{OLS Regression Results}\n",
       "\\end{center}\n",
       "\n",
       "Notes: \\newline\n",
       " [1] Standard Errors assume that the covariance matrix of the errors is correctly specified. \\newline\n",
       " [2] The condition number is large, 1.98e+06. This might indicate that there are \\newline\n",
       " strong multicollinearity or other numerical problems."
      ],
      "text/plain": [
       "<class 'statsmodels.iolib.summary.Summary'>\n",
       "\"\"\"\n",
       "                            OLS Regression Results                            \n",
       "==============================================================================\n",
       "Dep. Variable:                      y   R-squared:                       0.785\n",
       "Model:                            OLS   Adj. R-squared:                  0.782\n",
       "Method:                 Least Squares   F-statistic:                     287.9\n",
       "Date:                Fri, 12 Jul 2024   Prob (F-statistic):           4.56e-28\n",
       "Time:                        17:57:59   Log-Likelihood:                -116.70\n",
       "No. Observations:                  81   AIC:                             237.4\n",
       "Df Residuals:                      79   BIC:                             242.2\n",
       "Df Model:                           1                                         \n",
       "Covariance Type:            nonrobust                                         \n",
       "==============================================================================\n",
       "                 coef    std err          t      P>|t|      [0.025      0.975]\n",
       "------------------------------------------------------------------------------\n",
       "const      -1886.2489    112.455    -16.773      0.000   -2110.085   -1662.413\n",
       "x1             0.9441      0.056     16.968      0.000       0.833       1.055\n",
       "==============================================================================\n",
       "Omnibus:                       35.915   Durbin-Watson:                   0.583\n",
       "Prob(Omnibus):                  0.000   Jarque-Bera (JB):              133.174\n",
       "Skew:                          -1.298   Prob(JB):                     1.21e-29\n",
       "Kurtosis:                       8.720   Cond. No.                     1.98e+06\n",
       "==============================================================================\n",
       "\n",
       "Notes:\n",
       "[1] Standard Errors assume that the covariance matrix of the errors is correctly specified.\n",
       "[2] The condition number is large, 1.98e+06. This might indicate that there are\n",
       "strong multicollinearity or other numerical problems.\n",
       "\"\"\""
      ]
     },
     "execution_count": 35,
     "metadata": {},
     "output_type": "execute_result"
    }
   ],
   "source": [
    "open_reg_results = fit_ols_regression(\n",
    "    filtered_access_df[filtered_access_df['Model open/closed'] == 'Open'],\n",
    "    ['Publication date (float)'],\n",
    "    'Training compute (FLOP)',\n",
    "    logy=True\n",
    ")\n",
    "open_reg_results.summary()"
   ]
  },
  {
   "cell_type": "code",
   "execution_count": null,
   "metadata": {},
   "outputs": [
    {
     "data": {
      "text/html": [
       "<table class=\"simpletable\">\n",
       "<caption>OLS Regression Results</caption>\n",
       "<tr>\n",
       "  <th>Dep. Variable:</th>            <td>y</td>        <th>  R-squared:         </th> <td>   0.860</td>\n",
       "</tr>\n",
       "<tr>\n",
       "  <th>Model:</th>                   <td>OLS</td>       <th>  Adj. R-squared:    </th> <td>   0.858</td>\n",
       "</tr>\n",
       "<tr>\n",
       "  <th>Method:</th>             <td>Least Squares</td>  <th>  F-statistic:       </th> <td>   473.6</td>\n",
       "</tr>\n",
       "<tr>\n",
       "  <th>Date:</th>             <td>Fri, 12 Jul 2024</td> <th>  Prob (F-statistic):</th> <td>1.25e-34</td>\n",
       "</tr>\n",
       "<tr>\n",
       "  <th>Time:</th>                 <td>17:57:59</td>     <th>  Log-Likelihood:    </th> <td> -120.06</td>\n",
       "</tr>\n",
       "<tr>\n",
       "  <th>No. Observations:</th>      <td>    79</td>      <th>  AIC:               </th> <td>   244.1</td>\n",
       "</tr>\n",
       "<tr>\n",
       "  <th>Df Residuals:</th>          <td>    77</td>      <th>  BIC:               </th> <td>   248.9</td>\n",
       "</tr>\n",
       "<tr>\n",
       "  <th>Df Model:</th>              <td>     1</td>      <th>                     </th>     <td> </td>   \n",
       "</tr>\n",
       "<tr>\n",
       "  <th>Covariance Type:</th>      <td>nonrobust</td>    <th>                     </th>     <td> </td>   \n",
       "</tr>\n",
       "</table>\n",
       "<table class=\"simpletable\">\n",
       "<tr>\n",
       "    <td></td>       <th>coef</th>     <th>std err</th>      <th>t</th>      <th>P>|t|</th>  <th>[0.025</th>    <th>0.975]</th>  \n",
       "</tr>\n",
       "<tr>\n",
       "  <th>const</th> <td>-2270.6194</td> <td>  105.320</td> <td>  -21.559</td> <td> 0.000</td> <td>-2480.338</td> <td>-2060.901</td>\n",
       "</tr>\n",
       "<tr>\n",
       "  <th>x1</th>    <td>    1.1346</td> <td>    0.052</td> <td>   21.762</td> <td> 0.000</td> <td>    1.031</td> <td>    1.238</td>\n",
       "</tr>\n",
       "</table>\n",
       "<table class=\"simpletable\">\n",
       "<tr>\n",
       "  <th>Omnibus:</th>       <td>11.908</td> <th>  Durbin-Watson:     </th> <td>   1.041</td>\n",
       "</tr>\n",
       "<tr>\n",
       "  <th>Prob(Omnibus):</th> <td> 0.003</td> <th>  Jarque-Bera (JB):  </th> <td>  14.905</td>\n",
       "</tr>\n",
       "<tr>\n",
       "  <th>Skew:</th>          <td> 0.691</td> <th>  Prob(JB):          </th> <td>0.000580</td>\n",
       "</tr>\n",
       "<tr>\n",
       "  <th>Kurtosis:</th>      <td> 4.618</td> <th>  Cond. No.          </th> <td>1.69e+06</td>\n",
       "</tr>\n",
       "</table><br/><br/>Notes:<br/>[1] Standard Errors assume that the covariance matrix of the errors is correctly specified.<br/>[2] The condition number is large, 1.69e+06. This might indicate that there are<br/>strong multicollinearity or other numerical problems."
      ],
      "text/latex": [
       "\\begin{center}\n",
       "\\begin{tabular}{lclc}\n",
       "\\toprule\n",
       "\\textbf{Dep. Variable:}    &        y         & \\textbf{  R-squared:         } &     0.860   \\\\\n",
       "\\textbf{Model:}            &       OLS        & \\textbf{  Adj. R-squared:    } &     0.858   \\\\\n",
       "\\textbf{Method:}           &  Least Squares   & \\textbf{  F-statistic:       } &     473.6   \\\\\n",
       "\\textbf{Date:}             & Fri, 12 Jul 2024 & \\textbf{  Prob (F-statistic):} &  1.25e-34   \\\\\n",
       "\\textbf{Time:}             &     17:57:59     & \\textbf{  Log-Likelihood:    } &   -120.06   \\\\\n",
       "\\textbf{No. Observations:} &          79      & \\textbf{  AIC:               } &     244.1   \\\\\n",
       "\\textbf{Df Residuals:}     &          77      & \\textbf{  BIC:               } &     248.9   \\\\\n",
       "\\textbf{Df Model:}         &           1      & \\textbf{                     } &             \\\\\n",
       "\\textbf{Covariance Type:}  &    nonrobust     & \\textbf{                     } &             \\\\\n",
       "\\bottomrule\n",
       "\\end{tabular}\n",
       "\\begin{tabular}{lcccccc}\n",
       "               & \\textbf{coef} & \\textbf{std err} & \\textbf{t} & \\textbf{P$> |$t$|$} & \\textbf{[0.025} & \\textbf{0.975]}  \\\\\n",
       "\\midrule\n",
       "\\textbf{const} &   -2270.6194  &      105.320     &   -21.559  &         0.000        &    -2480.338    &    -2060.901     \\\\\n",
       "\\textbf{x1}    &       1.1346  &        0.052     &    21.762  &         0.000        &        1.031    &        1.238     \\\\\n",
       "\\bottomrule\n",
       "\\end{tabular}\n",
       "\\begin{tabular}{lclc}\n",
       "\\textbf{Omnibus:}       & 11.908 & \\textbf{  Durbin-Watson:     } &    1.041  \\\\\n",
       "\\textbf{Prob(Omnibus):} &  0.003 & \\textbf{  Jarque-Bera (JB):  } &   14.905  \\\\\n",
       "\\textbf{Skew:}          &  0.691 & \\textbf{  Prob(JB):          } & 0.000580  \\\\\n",
       "\\textbf{Kurtosis:}      &  4.618 & \\textbf{  Cond. No.          } & 1.69e+06  \\\\\n",
       "\\bottomrule\n",
       "\\end{tabular}\n",
       "%\\caption{OLS Regression Results}\n",
       "\\end{center}\n",
       "\n",
       "Notes: \\newline\n",
       " [1] Standard Errors assume that the covariance matrix of the errors is correctly specified. \\newline\n",
       " [2] The condition number is large, 1.69e+06. This might indicate that there are \\newline\n",
       " strong multicollinearity or other numerical problems."
      ],
      "text/plain": [
       "<class 'statsmodels.iolib.summary.Summary'>\n",
       "\"\"\"\n",
       "                            OLS Regression Results                            \n",
       "==============================================================================\n",
       "Dep. Variable:                      y   R-squared:                       0.860\n",
       "Model:                            OLS   Adj. R-squared:                  0.858\n",
       "Method:                 Least Squares   F-statistic:                     473.6\n",
       "Date:                Fri, 12 Jul 2024   Prob (F-statistic):           1.25e-34\n",
       "Time:                        17:57:59   Log-Likelihood:                -120.06\n",
       "No. Observations:                  79   AIC:                             244.1\n",
       "Df Residuals:                      77   BIC:                             248.9\n",
       "Df Model:                           1                                         \n",
       "Covariance Type:            nonrobust                                         \n",
       "==============================================================================\n",
       "                 coef    std err          t      P>|t|      [0.025      0.975]\n",
       "------------------------------------------------------------------------------\n",
       "const      -2270.6194    105.320    -21.559      0.000   -2480.338   -2060.901\n",
       "x1             1.1346      0.052     21.762      0.000       1.031       1.238\n",
       "==============================================================================\n",
       "Omnibus:                       11.908   Durbin-Watson:                   1.041\n",
       "Prob(Omnibus):                  0.003   Jarque-Bera (JB):               14.905\n",
       "Skew:                           0.691   Prob(JB):                     0.000580\n",
       "Kurtosis:                       4.618   Cond. No.                     1.69e+06\n",
       "==============================================================================\n",
       "\n",
       "Notes:\n",
       "[1] Standard Errors assume that the covariance matrix of the errors is correctly specified.\n",
       "[2] The condition number is large, 1.69e+06. This might indicate that there are\n",
       "strong multicollinearity or other numerical problems.\n",
       "\"\"\""
      ]
     },
     "execution_count": 36,
     "metadata": {},
     "output_type": "execute_result"
    }
   ],
   "source": [
    "closed_reg_results = fit_ols_regression(\n",
    "    filtered_access_df[filtered_access_df['Model open/closed'] == 'Closed'],\n",
    "    ['Publication date (float)'],\n",
    "    'Training compute (FLOP)',\n",
    "    logy=True\n",
    ")\n",
    "closed_reg_results.summary()"
   ]
  },
  {
   "cell_type": "code",
   "execution_count": null,
   "metadata": {},
   "outputs": [
    {
     "name": "stdout",
     "output_type": "stream",
     "text": [
      "All:\n",
      "Adj. R^2=0.82\n",
      "1.03 OOMs/year (95% CI: 0.95, 1.10)\n",
      "10.7x/year (95% CI: 9.0x, 12.7x)\n",
      "doubling time of 4 months (95% CI: 3, 4)\n",
      "Open:\n",
      "Adj. R^2=0.78\n",
      "0.94 OOMs/year (95% CI: 0.83, 1.05)\n",
      "8.8x/year (95% CI: 6.8x, 11.3x)\n",
      "doubling time of 4 months (95% CI: 3, 4)\n",
      "Closed:\n",
      "Adj. R^2=0.86\n",
      "1.13 OOMs/year (95% CI: 1.03, 1.24)\n",
      "13.6x/year (95% CI: 10.7x, 17.3x)\n",
      "doubling time of 3 months (95% CI: 3, 4)\n"
     ]
    }
   ],
   "source": [
    "print('All:')\n",
    "print_growth_rates(reg_results)\n",
    "print('Open:')\n",
    "print_growth_rates(open_reg_results)\n",
    "print('Closed:')\n",
    "print_growth_rates(closed_reg_results)"
   ]
  },
  {
   "cell_type": "code",
   "execution_count": null,
   "metadata": {},
   "outputs": [
    {
     "data": {
      "text/plain": [
       "<statsmodels.regression.linear_model.RegressionResultsWrapper at 0x303ca0410>"
      ]
     },
     "execution_count": 38,
     "metadata": {},
     "output_type": "execute_result"
    }
   ],
   "source": [
    "closed_reg_results"
   ]
  },
  {
   "cell_type": "markdown",
   "metadata": {},
   "source": [
    "## Predictions"
   ]
  },
  {
   "cell_type": "code",
   "execution_count": null,
   "metadata": {},
   "outputs": [
    {
     "data": {
      "text/html": [
       "<div>\n",
       "<style scoped>\n",
       "    .dataframe tbody tr th:only-of-type {\n",
       "        vertical-align: middle;\n",
       "    }\n",
       "\n",
       "    .dataframe tbody tr th {\n",
       "        vertical-align: top;\n",
       "    }\n",
       "\n",
       "    .dataframe thead th {\n",
       "        text-align: right;\n",
       "    }\n",
       "</style>\n",
       "<table border=\"1\" class=\"dataframe\">\n",
       "  <thead>\n",
       "    <tr style=\"text-align: right;\">\n",
       "      <th></th>\n",
       "      <th>Publication date (float)</th>\n",
       "    </tr>\n",
       "  </thead>\n",
       "  <tbody>\n",
       "    <tr>\n",
       "      <th>0</th>\n",
       "      <td>2015.000000</td>\n",
       "    </tr>\n",
       "    <tr>\n",
       "      <th>1</th>\n",
       "      <td>2015.083333</td>\n",
       "    </tr>\n",
       "    <tr>\n",
       "      <th>2</th>\n",
       "      <td>2015.166667</td>\n",
       "    </tr>\n",
       "    <tr>\n",
       "      <th>3</th>\n",
       "      <td>2015.250000</td>\n",
       "    </tr>\n",
       "    <tr>\n",
       "      <th>4</th>\n",
       "      <td>2015.333333</td>\n",
       "    </tr>\n",
       "    <tr>\n",
       "      <th>...</th>\n",
       "      <td>...</td>\n",
       "    </tr>\n",
       "    <tr>\n",
       "      <th>116</th>\n",
       "      <td>2024.666667</td>\n",
       "    </tr>\n",
       "    <tr>\n",
       "      <th>117</th>\n",
       "      <td>2024.750000</td>\n",
       "    </tr>\n",
       "    <tr>\n",
       "      <th>118</th>\n",
       "      <td>2024.833333</td>\n",
       "    </tr>\n",
       "    <tr>\n",
       "      <th>119</th>\n",
       "      <td>2024.916667</td>\n",
       "    </tr>\n",
       "    <tr>\n",
       "      <th>120</th>\n",
       "      <td>2025.000000</td>\n",
       "    </tr>\n",
       "  </tbody>\n",
       "</table>\n",
       "<p>121 rows × 1 columns</p>\n",
       "</div>"
      ],
      "text/plain": [
       "     Publication date (float)\n",
       "0                 2015.000000\n",
       "1                 2015.083333\n",
       "2                 2015.166667\n",
       "3                 2015.250000\n",
       "4                 2015.333333\n",
       "..                        ...\n",
       "116               2024.666667\n",
       "117               2024.750000\n",
       "118               2024.833333\n",
       "119               2024.916667\n",
       "120               2025.000000\n",
       "\n",
       "[121 rows x 1 columns]"
      ]
     },
     "execution_count": 39,
     "metadata": {},
     "output_type": "execute_result"
    }
   ],
   "source": [
    "pred_start_year = analysis_start_year\n",
    "pred_end_year = 2025\n",
    "pred_start_date = f'{pred_start_year}-01-01'\n",
    "pred_end_date = f'{pred_end_year}-01-01'\n",
    "num_preds = (pred_end_year - pred_start_year) * 12 + 1\n",
    "\n",
    "pred_years = pd.DataFrame({'Publication date (float)': np.linspace(pred_start_year, pred_end_year, num_preds)})\n",
    "pred_years"
   ]
  },
  {
   "cell_type": "code",
   "execution_count": null,
   "metadata": {},
   "outputs": [
    {
     "data": {
      "text/html": [
       "<div>\n",
       "<style scoped>\n",
       "    .dataframe tbody tr th:only-of-type {\n",
       "        vertical-align: middle;\n",
       "    }\n",
       "\n",
       "    .dataframe tbody tr th {\n",
       "        vertical-align: top;\n",
       "    }\n",
       "\n",
       "    .dataframe thead th {\n",
       "        text-align: right;\n",
       "    }\n",
       "</style>\n",
       "<table border=\"1\" class=\"dataframe\">\n",
       "  <thead>\n",
       "    <tr style=\"text-align: right;\">\n",
       "      <th></th>\n",
       "      <th>mean</th>\n",
       "      <th>mean_se</th>\n",
       "      <th>mean_ci_lower</th>\n",
       "      <th>mean_ci_upper</th>\n",
       "      <th>obs_ci_lower</th>\n",
       "      <th>obs_ci_upper</th>\n",
       "      <th>Publication date (float)</th>\n",
       "      <th>Publication date</th>\n",
       "    </tr>\n",
       "  </thead>\n",
       "  <tbody>\n",
       "    <tr>\n",
       "      <th>0</th>\n",
       "      <td>16.140708</td>\n",
       "      <td>0.358602</td>\n",
       "      <td>15.426929</td>\n",
       "      <td>16.854487</td>\n",
       "      <td>13.960519</td>\n",
       "      <td>18.320897</td>\n",
       "      <td>2015.000000</td>\n",
       "      <td>2015-01-01</td>\n",
       "    </tr>\n",
       "    <tr>\n",
       "      <th>1</th>\n",
       "      <td>16.219384</td>\n",
       "      <td>0.354213</td>\n",
       "      <td>15.514341</td>\n",
       "      <td>16.924427</td>\n",
       "      <td>14.042039</td>\n",
       "      <td>18.396729</td>\n",
       "      <td>2015.083333</td>\n",
       "      <td>2015-01-31</td>\n",
       "    </tr>\n",
       "    <tr>\n",
       "      <th>2</th>\n",
       "      <td>16.298060</td>\n",
       "      <td>0.349831</td>\n",
       "      <td>15.601740</td>\n",
       "      <td>16.994381</td>\n",
       "      <td>14.123524</td>\n",
       "      <td>18.472596</td>\n",
       "      <td>2015.166667</td>\n",
       "      <td>2015-03-02</td>\n",
       "    </tr>\n",
       "    <tr>\n",
       "      <th>3</th>\n",
       "      <td>16.376736</td>\n",
       "      <td>0.345455</td>\n",
       "      <td>15.689125</td>\n",
       "      <td>17.064347</td>\n",
       "      <td>14.204974</td>\n",
       "      <td>18.548499</td>\n",
       "      <td>2015.250000</td>\n",
       "      <td>2015-04-02</td>\n",
       "    </tr>\n",
       "    <tr>\n",
       "      <th>4</th>\n",
       "      <td>16.455412</td>\n",
       "      <td>0.341086</td>\n",
       "      <td>15.776497</td>\n",
       "      <td>17.134328</td>\n",
       "      <td>14.286387</td>\n",
       "      <td>18.624438</td>\n",
       "      <td>2015.333333</td>\n",
       "      <td>2015-05-02</td>\n",
       "    </tr>\n",
       "    <tr>\n",
       "      <th>...</th>\n",
       "      <td>...</td>\n",
       "      <td>...</td>\n",
       "      <td>...</td>\n",
       "      <td>...</td>\n",
       "      <td>...</td>\n",
       "      <td>...</td>\n",
       "      <td>...</td>\n",
       "      <td>...</td>\n",
       "    </tr>\n",
       "    <tr>\n",
       "      <th>116</th>\n",
       "      <td>25.267143</td>\n",
       "      <td>0.229138</td>\n",
       "      <td>24.811055</td>\n",
       "      <td>25.723231</td>\n",
       "      <td>23.157223</td>\n",
       "      <td>27.377063</td>\n",
       "      <td>2024.666667</td>\n",
       "      <td>2024-09-01</td>\n",
       "    </tr>\n",
       "    <tr>\n",
       "      <th>117</th>\n",
       "      <td>25.345819</td>\n",
       "      <td>0.233160</td>\n",
       "      <td>24.881725</td>\n",
       "      <td>25.809913</td>\n",
       "      <td>23.234154</td>\n",
       "      <td>27.457484</td>\n",
       "      <td>2024.750000</td>\n",
       "      <td>2024-10-01</td>\n",
       "    </tr>\n",
       "    <tr>\n",
       "      <th>118</th>\n",
       "      <td>25.424495</td>\n",
       "      <td>0.237205</td>\n",
       "      <td>24.952351</td>\n",
       "      <td>25.896639</td>\n",
       "      <td>23.311047</td>\n",
       "      <td>27.537944</td>\n",
       "      <td>2024.833333</td>\n",
       "      <td>2024-10-31</td>\n",
       "    </tr>\n",
       "    <tr>\n",
       "      <th>119</th>\n",
       "      <td>25.503171</td>\n",
       "      <td>0.241271</td>\n",
       "      <td>25.022934</td>\n",
       "      <td>25.983408</td>\n",
       "      <td>23.387900</td>\n",
       "      <td>27.618443</td>\n",
       "      <td>2024.916667</td>\n",
       "      <td>2024-12-01</td>\n",
       "    </tr>\n",
       "    <tr>\n",
       "      <th>120</th>\n",
       "      <td>25.581848</td>\n",
       "      <td>0.245357</td>\n",
       "      <td>25.093477</td>\n",
       "      <td>26.070218</td>\n",
       "      <td>23.464715</td>\n",
       "      <td>27.698980</td>\n",
       "      <td>2025.000000</td>\n",
       "      <td>2025-01-01</td>\n",
       "    </tr>\n",
       "  </tbody>\n",
       "</table>\n",
       "<p>121 rows × 8 columns</p>\n",
       "</div>"
      ],
      "text/plain": [
       "          mean   mean_se  mean_ci_lower  mean_ci_upper  obs_ci_lower  \\\n",
       "0    16.140708  0.358602      15.426929      16.854487     13.960519   \n",
       "1    16.219384  0.354213      15.514341      16.924427     14.042039   \n",
       "2    16.298060  0.349831      15.601740      16.994381     14.123524   \n",
       "3    16.376736  0.345455      15.689125      17.064347     14.204974   \n",
       "4    16.455412  0.341086      15.776497      17.134328     14.286387   \n",
       "..         ...       ...            ...            ...           ...   \n",
       "116  25.267143  0.229138      24.811055      25.723231     23.157223   \n",
       "117  25.345819  0.233160      24.881725      25.809913     23.234154   \n",
       "118  25.424495  0.237205      24.952351      25.896639     23.311047   \n",
       "119  25.503171  0.241271      25.022934      25.983408     23.387900   \n",
       "120  25.581848  0.245357      25.093477      26.070218     23.464715   \n",
       "\n",
       "     obs_ci_upper  Publication date (float) Publication date  \n",
       "0       18.320897               2015.000000       2015-01-01  \n",
       "1       18.396729               2015.083333       2015-01-31  \n",
       "2       18.472596               2015.166667       2015-03-02  \n",
       "3       18.548499               2015.250000       2015-04-02  \n",
       "4       18.624438               2015.333333       2015-05-02  \n",
       "..            ...                       ...              ...  \n",
       "116     27.377063               2024.666667       2024-09-01  \n",
       "117     27.457484               2024.750000       2024-10-01  \n",
       "118     27.537944               2024.833333       2024-10-31  \n",
       "119     27.618443               2024.916667       2024-12-01  \n",
       "120     27.698980               2025.000000       2025-01-01  \n",
       "\n",
       "[121 rows x 8 columns]"
      ]
     },
     "execution_count": 40,
     "metadata": {},
     "output_type": "execute_result"
    }
   ],
   "source": [
    "predicted_open_df = get_predictions(open_reg_results, pred_years, ['Publication date (float)'])\n",
    "predicted_open_df['Publication date'] = predicted_open_df['Publication date (float)'].apply(float_year_to_datetime)\n",
    "predicted_open_df"
   ]
  },
  {
   "cell_type": "code",
   "execution_count": null,
   "metadata": {},
   "outputs": [],
   "source": [
    "predicted_open_df.set_index('Publication date', inplace=True)"
   ]
  },
  {
   "cell_type": "code",
   "execution_count": null,
   "metadata": {},
   "outputs": [
    {
     "data": {
      "text/html": [
       "<div>\n",
       "<style scoped>\n",
       "    .dataframe tbody tr th:only-of-type {\n",
       "        vertical-align: middle;\n",
       "    }\n",
       "\n",
       "    .dataframe tbody tr th {\n",
       "        vertical-align: top;\n",
       "    }\n",
       "\n",
       "    .dataframe thead th {\n",
       "        text-align: right;\n",
       "    }\n",
       "</style>\n",
       "<table border=\"1\" class=\"dataframe\">\n",
       "  <thead>\n",
       "    <tr style=\"text-align: right;\">\n",
       "      <th></th>\n",
       "      <th>mean</th>\n",
       "      <th>mean_se</th>\n",
       "      <th>mean_ci_lower</th>\n",
       "      <th>mean_ci_upper</th>\n",
       "      <th>obs_ci_lower</th>\n",
       "      <th>obs_ci_upper</th>\n",
       "      <th>Publication date (float)</th>\n",
       "      <th>Publication date</th>\n",
       "    </tr>\n",
       "  </thead>\n",
       "  <tbody>\n",
       "    <tr>\n",
       "      <th>0</th>\n",
       "      <td>15.581533</td>\n",
       "      <td>0.295273</td>\n",
       "      <td>14.993569</td>\n",
       "      <td>16.169498</td>\n",
       "      <td>13.274493</td>\n",
       "      <td>17.888573</td>\n",
       "      <td>2015.000000</td>\n",
       "      <td>2015-01-01</td>\n",
       "    </tr>\n",
       "    <tr>\n",
       "      <th>1</th>\n",
       "      <td>15.676083</td>\n",
       "      <td>0.291350</td>\n",
       "      <td>15.095930</td>\n",
       "      <td>16.256235</td>\n",
       "      <td>13.371021</td>\n",
       "      <td>17.981144</td>\n",
       "      <td>2015.083333</td>\n",
       "      <td>2015-01-31</td>\n",
       "    </tr>\n",
       "    <tr>\n",
       "      <th>2</th>\n",
       "      <td>15.770632</td>\n",
       "      <td>0.287440</td>\n",
       "      <td>15.198266</td>\n",
       "      <td>16.342997</td>\n",
       "      <td>13.467518</td>\n",
       "      <td>18.073746</td>\n",
       "      <td>2015.166667</td>\n",
       "      <td>2015-03-02</td>\n",
       "    </tr>\n",
       "    <tr>\n",
       "      <th>3</th>\n",
       "      <td>15.865181</td>\n",
       "      <td>0.283541</td>\n",
       "      <td>15.300578</td>\n",
       "      <td>16.429784</td>\n",
       "      <td>13.563984</td>\n",
       "      <td>18.166378</td>\n",
       "      <td>2015.250000</td>\n",
       "      <td>2015-04-02</td>\n",
       "    </tr>\n",
       "    <tr>\n",
       "      <th>4</th>\n",
       "      <td>15.959730</td>\n",
       "      <td>0.279656</td>\n",
       "      <td>15.402863</td>\n",
       "      <td>16.516597</td>\n",
       "      <td>13.660419</td>\n",
       "      <td>18.259042</td>\n",
       "      <td>2015.333333</td>\n",
       "      <td>2015-05-02</td>\n",
       "    </tr>\n",
       "    <tr>\n",
       "      <th>...</th>\n",
       "      <td>...</td>\n",
       "      <td>...</td>\n",
       "      <td>...</td>\n",
       "      <td>...</td>\n",
       "      <td>...</td>\n",
       "      <td>...</td>\n",
       "      <td>...</td>\n",
       "      <td>...</td>\n",
       "    </tr>\n",
       "    <tr>\n",
       "      <th>116</th>\n",
       "      <td>26.549247</td>\n",
       "      <td>0.268395</td>\n",
       "      <td>26.014803</td>\n",
       "      <td>27.083690</td>\n",
       "      <td>24.255263</td>\n",
       "      <td>28.843230</td>\n",
       "      <td>2024.666667</td>\n",
       "      <td>2024-09-01</td>\n",
       "    </tr>\n",
       "    <tr>\n",
       "      <th>117</th>\n",
       "      <td>26.643796</td>\n",
       "      <td>0.272239</td>\n",
       "      <td>26.101699</td>\n",
       "      <td>27.185892</td>\n",
       "      <td>24.348017</td>\n",
       "      <td>28.939575</td>\n",
       "      <td>2024.750000</td>\n",
       "      <td>2024-10-01</td>\n",
       "    </tr>\n",
       "    <tr>\n",
       "      <th>118</th>\n",
       "      <td>26.738345</td>\n",
       "      <td>0.276097</td>\n",
       "      <td>26.188566</td>\n",
       "      <td>27.288124</td>\n",
       "      <td>24.440740</td>\n",
       "      <td>29.035950</td>\n",
       "      <td>2024.833333</td>\n",
       "      <td>2024-10-31</td>\n",
       "    </tr>\n",
       "    <tr>\n",
       "      <th>119</th>\n",
       "      <td>26.832894</td>\n",
       "      <td>0.279969</td>\n",
       "      <td>26.275404</td>\n",
       "      <td>27.390384</td>\n",
       "      <td>24.533432</td>\n",
       "      <td>29.132357</td>\n",
       "      <td>2024.916667</td>\n",
       "      <td>2024-12-01</td>\n",
       "    </tr>\n",
       "    <tr>\n",
       "      <th>120</th>\n",
       "      <td>26.927444</td>\n",
       "      <td>0.283855</td>\n",
       "      <td>26.362215</td>\n",
       "      <td>27.492672</td>\n",
       "      <td>24.626093</td>\n",
       "      <td>29.228794</td>\n",
       "      <td>2025.000000</td>\n",
       "      <td>2025-01-01</td>\n",
       "    </tr>\n",
       "  </tbody>\n",
       "</table>\n",
       "<p>121 rows × 8 columns</p>\n",
       "</div>"
      ],
      "text/plain": [
       "          mean   mean_se  mean_ci_lower  mean_ci_upper  obs_ci_lower  \\\n",
       "0    15.581533  0.295273      14.993569      16.169498     13.274493   \n",
       "1    15.676083  0.291350      15.095930      16.256235     13.371021   \n",
       "2    15.770632  0.287440      15.198266      16.342997     13.467518   \n",
       "3    15.865181  0.283541      15.300578      16.429784     13.563984   \n",
       "4    15.959730  0.279656      15.402863      16.516597     13.660419   \n",
       "..         ...       ...            ...            ...           ...   \n",
       "116  26.549247  0.268395      26.014803      27.083690     24.255263   \n",
       "117  26.643796  0.272239      26.101699      27.185892     24.348017   \n",
       "118  26.738345  0.276097      26.188566      27.288124     24.440740   \n",
       "119  26.832894  0.279969      26.275404      27.390384     24.533432   \n",
       "120  26.927444  0.283855      26.362215      27.492672     24.626093   \n",
       "\n",
       "     obs_ci_upper  Publication date (float) Publication date  \n",
       "0       17.888573               2015.000000       2015-01-01  \n",
       "1       17.981144               2015.083333       2015-01-31  \n",
       "2       18.073746               2015.166667       2015-03-02  \n",
       "3       18.166378               2015.250000       2015-04-02  \n",
       "4       18.259042               2015.333333       2015-05-02  \n",
       "..            ...                       ...              ...  \n",
       "116     28.843230               2024.666667       2024-09-01  \n",
       "117     28.939575               2024.750000       2024-10-01  \n",
       "118     29.035950               2024.833333       2024-10-31  \n",
       "119     29.132357               2024.916667       2024-12-01  \n",
       "120     29.228794               2025.000000       2025-01-01  \n",
       "\n",
       "[121 rows x 8 columns]"
      ]
     },
     "execution_count": 42,
     "metadata": {},
     "output_type": "execute_result"
    }
   ],
   "source": [
    "predicted_closed_df = get_predictions(closed_reg_results, pred_years, ['Publication date (float)'])\n",
    "predicted_closed_df['Publication date'] = predicted_closed_df['Publication date (float)'].apply(float_year_to_datetime)\n",
    "predicted_closed_df"
   ]
  },
  {
   "cell_type": "code",
   "execution_count": null,
   "metadata": {},
   "outputs": [],
   "source": [
    "predicted_closed_df.set_index('Publication date', inplace=True)"
   ]
  },
  {
   "cell_type": "markdown",
   "metadata": {},
   "source": [
    "## Differences between trends"
   ]
  },
  {
   "cell_type": "code",
   "execution_count": null,
   "metadata": {},
   "outputs": [],
   "source": [
    "NUM_SAMPLES = 1000"
   ]
  },
  {
   "cell_type": "code",
   "execution_count": null,
   "metadata": {},
   "outputs": [
    {
     "data": {
      "text/plain": [
       "array([[-2.11008476e+03, -1.66241313e+03],\n",
       "       [ 8.33364785e-01,  1.05486316e+00]])"
      ]
     },
     "execution_count": 45,
     "metadata": {},
     "output_type": "execute_result"
    }
   ],
   "source": [
    "open_reg_results.conf_int()"
   ]
  },
  {
   "cell_type": "code",
   "execution_count": null,
   "metadata": {},
   "outputs": [
    {
     "data": {
      "text/plain": [
       "2020.5410686192727"
      ]
     },
     "execution_count": 46,
     "metadata": {},
     "output_type": "execute_result"
    }
   ],
   "source": [
    "median_date = datetime_to_float_year(pd.to_datetime(filtered_access_df['Publication date'])).median()\n",
    "median_date"
   ]
  },
  {
   "cell_type": "code",
   "execution_count": null,
   "metadata": {},
   "outputs": [
    {
     "data": {
      "text/plain": [
       "{'open': (21.134858382459946, 21.609357913464684),\n",
       " 'closed': (21.613639784686946, 22.123120298214864)}"
      ]
     },
     "execution_count": 47,
     "metadata": {},
     "output_type": "execute_result"
    }
   ],
   "source": [
    "compute_refs = {}\n",
    "for key, value in {'open': open_reg_results, 'closed': closed_reg_results}.items():\n",
    "    X = np.array([median_date, 1])  # dummy 1 value makes this work\n",
    "    X = sm.add_constant(X)\n",
    "    ref_preds = value.get_prediction(X).summary_frame()\n",
    "    compute_ref_low = ref_preds['mean_ci_lower'][0]\n",
    "    compute_ref_high = ref_preds['mean_ci_upper'][0]\n",
    "    compute_refs[key] = compute_ref_low, compute_ref_high\n",
    "compute_refs"
   ]
  },
  {
   "cell_type": "code",
   "execution_count": null,
   "metadata": {},
   "outputs": [],
   "source": [
    "# Open\n",
    "open_ci = open_reg_results.conf_int()\n",
    "open_slope = lognorm_from_90_ci(\n",
    "    10**open_ci[1][0],\n",
    "    10**open_ci[1][1],\n",
    "    NUM_SAMPLES,\n",
    ")\n",
    "# Closed\n",
    "closed_ci = closed_reg_results.conf_int()\n",
    "closed_slope = lognorm_from_90_ci(\n",
    "    10**closed_ci[1][0],\n",
    "    10**closed_ci[1][1],\n",
    "    NUM_SAMPLES,\n",
    ")"
   ]
  },
  {
   "cell_type": "code",
   "execution_count": null,
   "metadata": {},
   "outputs": [
    {
     "name": "stdout",
     "output_type": "stream",
     "text": [
      "Median: 8.8 [90% CI: 6.8, 11]\n",
      "Median: 14 [90% CI: 11, 17]\n"
     ]
    }
   ],
   "source": [
    "print_median_and_ci(open_slope)\n",
    "print_median_and_ci(closed_slope)"
   ]
  },
  {
   "cell_type": "code",
   "execution_count": null,
   "metadata": {},
   "outputs": [
    {
     "name": "stdout",
     "output_type": "stream",
     "text": [
      "Median: 8.5e+24 [90% CI: 3.3e+24, 2.4e+25]\n"
     ]
    }
   ],
   "source": [
    "# Calculate when the closed compute trend was equal to the open compute trend today\n",
    "current_date = '2024-05-01'\n",
    "current_open_compute_df = predicted_open_df.loc[current_date]\n",
    "current_open_compute = lognorm_from_90_ci(\n",
    "    10**current_open_compute_df['mean_ci_lower'],\n",
    "    10**current_open_compute_df['mean_ci_upper'],\n",
    "    NUM_SAMPLES,\n",
    ")\n",
    "print_median_and_ci(current_open_compute)"
   ]
  },
  {
   "cell_type": "code",
   "execution_count": null,
   "metadata": {},
   "outputs": [
    {
     "name": "stdout",
     "output_type": "stream",
     "text": [
      "Median: 1.5e+26 [90% CI: 4.6e+25, 4.4e+26]\n"
     ]
    }
   ],
   "source": [
    "# Same for closed\n",
    "current_closed_compute_df = predicted_closed_df.loc[current_date]\n",
    "current_closed_compute = lognorm_from_90_ci(\n",
    "    10**current_closed_compute_df['mean_ci_lower'],\n",
    "    10**current_closed_compute_df['mean_ci_upper'],\n",
    "    NUM_SAMPLES,\n",
    ")\n",
    "print_median_and_ci(current_closed_compute)"
   ]
  },
  {
   "cell_type": "code",
   "execution_count": null,
   "metadata": {},
   "outputs": [
    {
     "name": "stdout",
     "output_type": "stream",
     "text": [
      "Open access models are 1.2 OOMs [0.4; 2.0] behind closed access models\n"
     ]
    }
   ],
   "source": [
    "compute_gap = np.log10(current_closed_compute) - np.log10(current_open_compute)\n",
    "print(\n",
    "    f'Open access models are {np.median(compute_gap):.1f} OOMs ' + \n",
    "    f'[{np.percentile(compute_gap, 2.5):.1f}; {np.percentile(compute_gap, 97.5):.1f}] ' + \n",
    "    'behind closed access models'\n",
    ")"
   ]
  },
  {
   "cell_type": "code",
   "execution_count": null,
   "metadata": {},
   "outputs": [],
   "source": [
    "# Calculate when the closed compute trend was equal to the open compute trend today\n",
    "\n",
    "np.random.seed(42)\n",
    "open_filtered_access_df =  filtered_access_df[filtered_access_df['Model open/closed'] == 'Open']\n",
    "closed_filtered_access_df = filtered_access_df[filtered_access_df['Model open/closed'] == 'Closed']\n",
    "\n",
    "n_bootstrap = 1000\n",
    "open_filtered_access_bootstrap_indices = [np.arange(0, len(open_filtered_access_df))] + \\\n",
    "                                          [np.random.choice(np.arange(0, len(open_filtered_access_df)), size=len(open_filtered_access_df), replace=True) for _ in range(n_bootstrap)]\n",
    "closed_filtered_access_bootstrap_indices = [np.arange(0, len(closed_filtered_access_df))] + \\\n",
    "                                            [np.random.choice(np.arange(0, len(closed_filtered_access_df)), size=len(closed_filtered_access_df), replace=True) for _ in range(n_bootstrap)]\n",
    "\n",
    "current_date_float = 2024.35\n",
    "results_date_float = []\n",
    "\n",
    "for i in range(n_bootstrap+1):\n",
    "    open_reg_results_current = fit_ols_regression(\n",
    "        open_filtered_access_df.iloc[open_filtered_access_bootstrap_indices[i]],\n",
    "        ['Publication date (float)'],\n",
    "        'Training compute (FLOP)',\n",
    "        logy=True\n",
    "    )\n",
    "\n",
    "    closed_reg_results_current = fit_ols_regression(\n",
    "        closed_filtered_access_df.iloc[closed_filtered_access_bootstrap_indices[i]],\n",
    "        ['Publication date (float)'],\n",
    "        'Training compute (FLOP)',\n",
    "        logy=True\n",
    "    )\n",
    "\n",
    "    alpha_o, beta_o = open_reg_results_current.params\n",
    "    alpha_c, beta_c = closed_reg_results_current.params\n",
    "\n",
    "    current_log10_compute = alpha_o + beta_o*current_date_float\n",
    "    results_date_float.append((current_log10_compute - alpha_c)/beta_c)"
   ]
  },
  {
   "cell_type": "code",
   "execution_count": null,
   "metadata": {},
   "outputs": [
    {
     "name": "stdout",
     "output_type": "stream",
     "text": [
      "Point estimate: 2023.2731\n",
      "Standard error: 0.1976 years\n"
     ]
    }
   ],
   "source": [
    "print(\"Point estimate: %.4f\" % (results_date_float[0]))\n",
    "print(\"Standard error: %.4f years\" % (np.std(results_date_float[1:])))"
   ]
  },
  {
   "cell_type": "code",
   "execution_count": null,
   "metadata": {},
   "outputs": [
    {
     "data": {
      "text/plain": [
       "24.873762088228204"
      ]
     },
     "execution_count": 55,
     "metadata": {},
     "output_type": "execute_result"
    }
   ],
   "source": [
    "current_date = 2024.25\n",
    "current_open_compute = open_reg_results.params[1] * current_date + open_reg_results.params[0]\n",
    "current_open_compute"
   ]
  },
  {
   "cell_type": "code",
   "execution_count": null,
   "metadata": {},
   "outputs": [
    {
     "data": {
      "text/plain": [
       "2023.1899367655062"
      ]
     },
     "execution_count": 56,
     "metadata": {},
     "output_type": "execute_result"
    }
   ],
   "source": [
    "closed_compute_match_date = (current_open_compute - closed_reg_results.params[0]) / closed_reg_results.params[1]\n",
    "closed_compute_match_date"
   ]
  },
  {
   "cell_type": "code",
   "execution_count": null,
   "metadata": {},
   "outputs": [
    {
     "name": "stdout",
     "output_type": "stream",
     "text": [
      "Open access models are 1.1 years behind closed access models\n"
     ]
    }
   ],
   "source": [
    "open_time_lag = current_date - closed_compute_match_date\n",
    "print(f'Open access models are {open_time_lag:.1f} years behind closed access models')"
   ]
  },
  {
   "cell_type": "markdown",
   "metadata": {},
   "source": [
    "# Plots"
   ]
  },
  {
   "cell_type": "code",
   "execution_count": null,
   "metadata": {},
   "outputs": [
    {
     "data": {
      "application/vnd.plotly.v1+json": {
       "config": {
        "plotlyServerURL": "https://plot.ly"
       },
       "data": [
        {
         "customdata": [
          [
           "Gemini 1.0 Ultra"
          ],
          [
           "Inflection-2"
          ],
          [
           "Inflection-2.5"
          ],
          [
           "ERNIE 3.0 Titan"
          ],
          [
           "Inflection-1"
          ],
          [
           "PLUG"
          ],
          [
           "GNMT"
          ]
         ],
         "hovertemplate": "Model accessibility=Hosted access (no API)<br>Publication date=%{x}<br>Training compute (FLOP)=%{y}<br>System=%{customdata[0]}<extra></extra>",
         "legendgroup": "Hosted access (no API)",
         "marker": {
          "color": "#636efa",
          "symbol": "circle"
         },
         "mode": "markers",
         "name": "Hosted access (no API)",
         "orientation": "v",
         "showlegend": true,
         "type": "scatter",
         "x": [
          "2023-12-06",
          "2023-11-22",
          "2024-03-07",
          "2021-12-23",
          "2023-06-23",
          "2021-04-19",
          "2016-09-26"
         ],
         "xaxis": "x",
         "y": [
          5.0000000001e+25,
          1.001e+25,
          1.0001e+25,
          1.0421e+24,
          1.0001e+24,
          3.5997695999999996e+22,
          6.620000000001001e+21
         ],
         "yaxis": "y"
        },
        {
         "customdata": [
          [
           "GPT-4"
          ],
          [
           "Mistral Large"
          ],
          [
           "PaLM 2"
          ],
          [
           "Amazon Titan"
          ],
          [
           "Claude 2"
          ],
          [
           "GPT-3.5 (text-davinci-003)"
          ],
          [
           "Mi:dm 200B"
          ],
          [
           "Jurassic-1-Jumbo"
          ],
          [
           "Yuan 1.0"
          ],
          [
           "GPT-3 175B (davinci)"
          ],
          [
           "HyperCLOVA 82B"
          ],
          [
           "DALL-E"
          ]
         ],
         "hovertemplate": "Model accessibility=API access<br>Publication date=%{x}<br>Training compute (FLOP)=%{y}<br>System=%{customdata[0]}<extra></extra>",
         "legendgroup": "API access",
         "marker": {
          "color": "#EF553B",
          "symbol": "circle"
         },
         "mode": "markers",
         "name": "API access",
         "orientation": "v",
         "showlegend": true,
         "type": "scatter",
         "x": [
          "2023-03-15",
          "2024-02-26",
          "2023-05-10",
          "2023-09-28",
          "2023-07-11",
          "2022-11-28",
          "2023-10-31",
          "2021-08-11",
          "2021-10-12",
          "2020-05-28",
          "2021-09-10",
          "2021-01-05"
         ],
         "xaxis": "x",
         "y": [
          2.1e+25,
          2.0000000001e+25,
          7.34e+24,
          4.7999999999999996e+24,
          3.866e+24,
          2.578e+24,
          1.1999999999999999e+24,
          3.7e+23,
          3.5380000000001e+23,
          3.14e+23,
          1.476e+23,
          4.7e+22
         ],
         "yaxis": "y"
        },
        {
         "customdata": [
          [
           "Nemotron-4 340B"
          ],
          [
           "Grok-1"
          ],
          [
           "Falcon-40B"
          ],
          [
           "YaLM"
          ],
          [
           "UL2"
          ],
          [
           "Whisper v2"
          ],
          [
           "GPT-NeoX-20B"
          ],
          [
           "Switch"
          ],
          [
           "mT5-XXL"
          ],
          [
           "ByT5-XXL"
          ],
          [
           "ProtT5-XXL"
          ],
          [
           "ESM2-15B"
          ],
          [
           "ProtBERT-BFD"
          ],
          [
           "GLM-10B"
          ],
          [
           "ProtT5-XXL-BFD"
          ],
          [
           "T5-11B"
          ],
          [
           "iGPT-XL"
          ],
          [
           "Fairseq-dense 13B"
          ],
          [
           "CogView"
          ],
          [
           "ResNet-RS"
          ],
          [
           "GPT-J-6B"
          ],
          [
           "mBART-50"
          ],
          [
           "CLIP (ViT L/14@336px)"
          ],
          [
           "iGPT-L"
          ],
          [
           "XLNet"
          ],
          [
           "Grover-Mega"
          ],
          [
           "GPT-2 (1.5B)"
          ],
          [
           "ViT-Huge/14"
          ],
          [
           "RoBERTa Large"
          ],
          [
           "ELECTRA"
          ],
          [
           "ALBERT-xxlarge"
          ],
          [
           "BigGAN-deep 512x512"
          ],
          [
           "Once for All"
          ],
          [
           "MnasNet-A3"
          ],
          [
           "MnasNet-A1 + SSDLite"
          ],
          [
           "T5-3B"
          ],
          [
           "Megatron-LM (355M)"
          ],
          [
           "BERT-Large"
          ],
          [
           "Big Transformer for Back-Translation"
          ],
          [
           "SciBERT"
          ],
          [
           "Transformer (Adaptive Input Embeddings) WT103"
          ],
          [
           "Big-Little Net (vision)"
          ],
          [
           "ProxylessNAS"
          ],
          [
           "KataGo"
          ],
          [
           "GPT"
          ],
          [
           "Transformer-XL (257M)"
          ],
          [
           "BIDAF"
          ],
          [
           "Decoupled weight decay regularization"
          ],
          [
           "AlexNet + coordinating filters"
          ],
          [
           "(ensemble): AWD-LSTM-DOC (fin) × 5 (WT2)"
          ],
          [
           "Big-Little Net (speech)"
          ],
          [
           "ULM-FiT"
          ],
          [
           "Big-Little Net"
          ],
          [
           "DNCON2"
          ]
         ],
         "hovertemplate": "Model accessibility=Open source<br>Publication date=%{x}<br>Training compute (FLOP)=%{y}<br>System=%{customdata[0]}<extra></extra>",
         "legendgroup": "Open source",
         "marker": {
          "color": "#00cc96",
          "symbol": "circle"
         },
         "mode": "markers",
         "name": "Open source",
         "orientation": "v",
         "showlegend": true,
         "type": "scatter",
         "x": [
          "2024-06-14",
          "2023-11-04",
          "2023-03-15",
          "2022-06-23",
          "2022-05-10",
          "2022-12-05",
          "2022-02-09",
          "2021-01-11",
          "2020-10-20",
          "2021-05-28",
          "2021-05-04",
          "2022-07-21",
          "2021-05-04",
          "2021-03-18",
          "2021-05-04",
          "2019-10-23",
          "2020-06-17",
          "2021-12-20",
          "2021-05-26",
          "2021-03-13",
          "2021-05-01",
          "2020-08-02",
          "2021-01-05",
          "2020-06-17",
          "2019-06-01",
          "2019-05-29",
          "2019-02-14",
          "2020-10-22",
          "2019-07-01",
          "2020-03-23",
          "2020-02-09",
          "2018-09-28",
          "2020-04-29",
          "2019-05-29",
          "2019-05-29",
          "2019-10-23",
          "2019-09-17",
          "2018-10-11",
          "2018-08-28",
          "2019-03-26",
          "2018-09-28",
          "2018-07-10",
          "2019-02-23",
          "2019-02-27",
          "2018-06-01",
          "2019-01-09",
          "2016-11-05",
          "2019-01-04",
          "2017-03-28",
          "2018-08-30",
          "2018-07-10",
          "2018-01-18",
          "2018-07-10",
          "2018-05-01"
         ],
         "xaxis": "x",
         "y": [
          1.8000000000000005e+25,
          2.90000000001e+24,
          2.4e+23,
          2.2e+23,
          1.2e+23,
          1.1e+23,
          9.31627008e+22,
          8.22e+22,
          8.2e+22,
          8.1e+22,
          7.370000000000001e+22,
          7.350000000009999e+22,
          3.9e+22,
          3.79e+22,
          3.7e+22,
          3.3e+22,
          3.3e+22,
          3.267e+22,
          2.68e+22,
          1.763328e+22,
          1.5e+22,
          1.4515200000000002e+22,
          1.05e+22,
          8.91e+21,
          8.9e+21,
          5.7e+21,
          4.3e+21,
          4.262e+21,
          4.15383552e+21,
          3.0999999999999995e+21,
          2.39e+21,
          1.8e+21,
          1.7842809599999995e+21,
          1.5e+21,
          1.5e+21,
          865865406873600000000,
          335000000000000000000,
          285000000000000000000,
          108084326400000000000,
          89268480000000000000,
          72000000000000000000,
          62988288000000000000,
          37065600000000000000,
          23200000000000000000,
          17578125000000000000,
          10900000000000000000,
          3468614400000000000,
          2470000000000000000,
          1557140125176000000,
          693000000000000000,
          429004800000000000,
          272538000000000000,
          246048000000000000,
          95000000000000000
         ],
         "yaxis": "y"
        },
        {
         "customdata": [
          [
           "MegaScale (Production)"
          ],
          [
           "Minerva (540B)"
          ],
          [
           "U-PaLM (540B)"
          ],
          [
           "PaLM (540B)"
          ],
          [
           "Flan-PaLM 540B"
          ],
          [
           "Megatron-Turing NLG 530B"
          ],
          [
           "Gopher (280B)"
          ],
          [
           "Chinchilla"
          ],
          [
           "Parti"
          ],
          [
           "GLaM"
          ],
          [
           "LaMDA"
          ],
          [
           "GShard (dense)"
          ],
          [
           "Meena"
          ],
          [
           "GOAT"
          ],
          [
           "OpenAI Five"
          ],
          [
           "Megatron-BERT"
          ],
          [
           "AlphaStar"
          ],
          [
           "PanGu-α"
          ],
          [
           "FLAN 137B"
          ],
          [
           "Meta Pseudo Labels"
          ],
          [
           "CoAtNet"
          ],
          [
           "Turing-NLG"
          ],
          [
           "GShard (600B)"
          ],
          [
           "OpenAI Five Rerun"
          ],
          [
           "GPT3-6.7B (rerun of original)"
          ],
          [
           "Megatron-LM (8.3B)"
          ],
          [
           "ContextNet + Noisy Student"
          ],
          [
           "FTW"
          ],
          [
           "Rubik's cube ADR robot"
          ],
          [
           "Noisy Student (L2)"
          ],
          [
           "DD-PPO"
          ],
          [
           "BERT-Large-CAS (PTB+WT2+WT103)"
          ],
          [
           "AmoebaNet-A (F=448)"
          ],
          [
           "IMPALA"
          ],
          [
           "Mesh-TensorFlow Transformer 4.9B (language modelling)"
          ],
          [
           "MoE"
          ],
          [
           "Mesh-TensorFlow Transformer 2.9B (translation)"
          ],
          [
           "YOLOv3"
          ],
          [
           "All-attention network + adaptive span"
          ],
          [
           "Population-based DRL"
          ],
          [
           "QT-Opt"
          ],
          [
           "LSTM (Hebbian, Cache, MbPA)"
          ],
          [
           "RNMT+"
          ],
          [
           "Transformer"
          ],
          [
           "GL-LWGC-AWD-MoS-LSTM + dynamic evaluation (WT2)"
          ],
          [
           "AWD-LSTM-MoS + dynamic evaluation (WT2, 2017)"
          ],
          [
           "QRNN"
          ],
          [
           "AWD-LSTM - 3-layer LSTM (tied) + continuous cache pointer (WT2)"
          ],
          [
           "4 layer QRNN (h=2500)"
          ],
          [
           "Fraternal dropout + AWD-LSTM 3-layer (WT2)"
          ],
          [
           "genCNN + dyn eval"
          ],
          [
           "VD-LSTM+REAL Large"
          ],
          [
           "Zoneout + Variational LSTM (WT2)"
          ],
          [
           "Densely Connected LSTM + Var. Dropout"
          ],
          [
           "Neural Architecture Search with base 8 and shared embeddings"
          ],
          [
           "Pointer Sentinel-LSTM (medium)"
          ],
          [
           "Variational (untied weights, MC) LSTM (Large)"
          ],
          [
           "VD-RHN"
          ],
          [
           "Search-Proven Best LSTM"
          ],
          [
           "LSTM-Char-Large"
          ]
         ],
         "hovertemplate": "Model accessibility=Unreleased<br>Publication date=%{x}<br>Training compute (FLOP)=%{y}<br>System=%{customdata[0]}<extra></extra>",
         "legendgroup": "Unreleased",
         "marker": {
          "color": "#ab63fa",
          "symbol": "circle"
         },
         "mode": "markers",
         "name": "Unreleased",
         "orientation": "v",
         "showlegend": true,
         "type": "scatter",
         "x": [
          "2024-02-23",
          "2022-06-29",
          "2022-10-20",
          "2022-04-04",
          "2022-10-20",
          "2021-10-11",
          "2021-12-08",
          "2022-03-29",
          "2022-06-22",
          "2021-12-13",
          "2022-02-10",
          "2020-06-30",
          "2020-01-28",
          "2021-07-27",
          "2019-12-13",
          "2019-09-17",
          "2019-10-30",
          "2021-04-25",
          "2021-09-03",
          "2021-03-01",
          "2021-06-09",
          "2020-02-13",
          "2020-06-30",
          "2019-12-13",
          "2020-05-28",
          "2019-09-17",
          "2020-01-19",
          "2018-07-03",
          "2019-10-15",
          "2019-11-11",
          "2019-12-19",
          "2019-04-20",
          "2018-02-05",
          "2018-02-05",
          "2018-11-05",
          "2017-01-23",
          "2018-11-05",
          "2018-04-08",
          "2019-07-02",
          "2018-07-03",
          "2018-06-27",
          "2018-03-27",
          "2018-04-26",
          "2017-06-12",
          "2017-08-29",
          "2017-11-10",
          "2018-02-01",
          "2017-08-07",
          "2018-03-22",
          "2017-10-31",
          "2015-03-17",
          "2016-11-04",
          "2016-09-26",
          "2017-07-19",
          "2016-11-05",
          "2016-09-26",
          "2015-12-16",
          "2016-07-12",
          "2015-07-06",
          "2015-08-26"
         ],
         "xaxis": "x",
         "y": [
          1.2e+25,
          2.7415e+24,
          2.53e+24,
          2.5272e+24,
          2.4999999999999997e+24,
          1.17e+24,
          6.31e+23,
          5.76e+23,
          3.962895376192635e+23,
          3.74e+23,
          3.55e+23,
          1.3702e+23,
          1.12e+23,
          7.8e+22,
          6.7e+22,
          6.027e+22,
          5.9250000000001e+22,
          5.83e+22,
          4.896e+22,
          4.79e+22,
          4.27e+22,
          1.57e+22,
          1.33e+22,
          1.3e+22,
          1.2e+22,
          9.1e+21,
          8.16e+21,
          7.26e+21,
          854000000000000000000,
          849346560000000000000,
          780000000000000000000,
          521000000000000000000,
          385296912000000000000,
          168000000000000000000,
          161740800000000000000,
          93939056640000000000,
          68428800000000000000,
          50939199919999990000,
          46000000000000000000,
          34900000000000000000,
          34875000000000000000,
          24000000000000000000,
          18300000000000000000,
          7424524800000000000,
          474000000000000000,
          437000000000000000,
          360000000000000000,
          309000000000000000,
          240000000000000000,
          98500000000000000,
          73000000000000000,
          21300000000000000,
          16800000000000000,
          12800000000000000,
          10500000000000000,
          7490000000000000,
          5620000000000000,
          3570000000000000,
          3340000000000000,
          2650000000000000
         ],
         "yaxis": "y"
        },
        {
         "customdata": [
          [
           "Llama 3-70B"
          ],
          [
           "Falcon-180B"
          ],
          [
           "DBRX"
          ],
          [
           "Qwen-72B"
          ],
          [
           "XVERSE-65B-2"
          ],
          [
           "Code Llama-70B"
          ],
          [
           "TigerBot-70B"
          ],
          [
           "Llama 2-70B"
          ],
          [
           "DeepSeek LLM 67B"
          ],
          [
           "Yi-34B"
          ],
          [
           "BLOOM-176B"
          ],
          [
           "Code Llama-34B"
          ],
          [
           "CodeGeeX"
          ],
          [
           "Stable Diffusion (LDM-KL-8-G)"
          ]
         ],
         "hovertemplate": "Model accessibility=Open access (restricted use)<br>Publication date=%{x}<br>Training compute (FLOP)=%{y}<br>System=%{customdata[0]}<extra></extra>",
         "legendgroup": "Open access (restricted use)",
         "marker": {
          "color": "#FFA15A",
          "symbol": "circle"
         },
         "mode": "markers",
         "name": "Open access (restricted use)",
         "orientation": "v",
         "showlegend": true,
         "type": "scatter",
         "x": [
          "2024-04-18",
          "2023-09-06",
          "2024-03-27",
          "2023-11-30",
          "2023-12-08",
          "2024-01-29",
          "2023-09-06",
          "2023-07-18",
          "2024-01-05",
          "2023-11-02",
          "2022-11-08",
          "2023-08-14",
          "2022-06-22",
          "2022-04-13"
         ],
         "xaxis": "x",
         "y": [
          6.30000000001e+24,
          3.76e+24,
          2.6e+24,
          1.3e+24,
          1.24800000000001e+24,
          1.230000000001e+24,
          1.02e+24,
          8.1e+23,
          8.04e+23,
          6.1e+23,
          5.770000000000099e+23,
          5.3e+23,
          6.630000000001e+22,
          5e+22
         ],
         "yaxis": "y"
        },
        {
         "customdata": [
          [
           "Chameleon-34B"
          ],
          [
           "LLaMA-65B"
          ],
          [
           "Guanaco-65B"
          ],
          [
           "OPT-175B"
          ],
          [
           "OPT-IML (175B)"
          ],
          [
           "BlenderBot 3"
          ],
          [
           "GLM-130B"
          ],
          [
           "Galactica"
          ],
          [
           "LLaMA-33B"
          ],
          [
           "OPT-66B"
          ],
          [
           "OPT-30B"
          ],
          [
           "ResNeXt-101 32x48d"
          ],
          [
           "SPIDER2"
          ]
         ],
         "hovertemplate": "Model accessibility=Open access (non-commercial)<br>Publication date=%{x}<br>Training compute (FLOP)=%{y}<br>System=%{customdata[0]}<extra></extra>",
         "legendgroup": "Open access (non-commercial)",
         "marker": {
          "color": "#19d3f3",
          "symbol": "circle"
         },
         "mode": "markers",
         "name": "Open access (non-commercial)",
         "orientation": "v",
         "showlegend": true,
         "type": "scatter",
         "x": [
          "2024-05-16",
          "2023-02-24",
          "2023-05-23",
          "2022-05-02",
          "2022-12-22",
          "2022-08-10",
          "2022-08-04",
          "2022-11-16",
          "2023-02-27",
          "2022-06-21",
          "2022-06-21",
          "2018-05-02",
          "2016-10-28"
         ],
         "xaxis": "x",
         "y": [
          1.6453571041e+24,
          5.5e+23,
          5.5e+23,
          4.3e+23,
          4.3e+23,
          4.3e+23,
          3.778e+23,
          3.24e+23,
          2.7300000000000996e+23,
          1.100000000001e+23,
          5.4000000000001e+22,
          8.74395e+21,
          8540000000000
         ],
         "yaxis": "y"
        }
       ],
       "layout": {
        "legend": {
         "title": {
          "text": "Model accessibility"
         },
         "tracegroupgap": 0
        },
        "margin": {
         "t": 60
        },
        "template": {
         "data": {
          "bar": [
           {
            "error_x": {
             "color": "#2a3f5f"
            },
            "error_y": {
             "color": "#2a3f5f"
            },
            "marker": {
             "line": {
              "color": "#E5ECF6",
              "width": 0.5
             },
             "pattern": {
              "fillmode": "overlay",
              "size": 10,
              "solidity": 0.2
             }
            },
            "type": "bar"
           }
          ],
          "barpolar": [
           {
            "marker": {
             "line": {
              "color": "#E5ECF6",
              "width": 0.5
             },
             "pattern": {
              "fillmode": "overlay",
              "size": 10,
              "solidity": 0.2
             }
            },
            "type": "barpolar"
           }
          ],
          "carpet": [
           {
            "aaxis": {
             "endlinecolor": "#2a3f5f",
             "gridcolor": "white",
             "linecolor": "white",
             "minorgridcolor": "white",
             "startlinecolor": "#2a3f5f"
            },
            "baxis": {
             "endlinecolor": "#2a3f5f",
             "gridcolor": "white",
             "linecolor": "white",
             "minorgridcolor": "white",
             "startlinecolor": "#2a3f5f"
            },
            "type": "carpet"
           }
          ],
          "choropleth": [
           {
            "colorbar": {
             "outlinewidth": 0,
             "ticks": ""
            },
            "type": "choropleth"
           }
          ],
          "contour": [
           {
            "colorbar": {
             "outlinewidth": 0,
             "ticks": ""
            },
            "colorscale": [
             [
              0,
              "#0d0887"
             ],
             [
              0.1111111111111111,
              "#46039f"
             ],
             [
              0.2222222222222222,
              "#7201a8"
             ],
             [
              0.3333333333333333,
              "#9c179e"
             ],
             [
              0.4444444444444444,
              "#bd3786"
             ],
             [
              0.5555555555555556,
              "#d8576b"
             ],
             [
              0.6666666666666666,
              "#ed7953"
             ],
             [
              0.7777777777777778,
              "#fb9f3a"
             ],
             [
              0.8888888888888888,
              "#fdca26"
             ],
             [
              1,
              "#f0f921"
             ]
            ],
            "type": "contour"
           }
          ],
          "contourcarpet": [
           {
            "colorbar": {
             "outlinewidth": 0,
             "ticks": ""
            },
            "type": "contourcarpet"
           }
          ],
          "heatmap": [
           {
            "colorbar": {
             "outlinewidth": 0,
             "ticks": ""
            },
            "colorscale": [
             [
              0,
              "#0d0887"
             ],
             [
              0.1111111111111111,
              "#46039f"
             ],
             [
              0.2222222222222222,
              "#7201a8"
             ],
             [
              0.3333333333333333,
              "#9c179e"
             ],
             [
              0.4444444444444444,
              "#bd3786"
             ],
             [
              0.5555555555555556,
              "#d8576b"
             ],
             [
              0.6666666666666666,
              "#ed7953"
             ],
             [
              0.7777777777777778,
              "#fb9f3a"
             ],
             [
              0.8888888888888888,
              "#fdca26"
             ],
             [
              1,
              "#f0f921"
             ]
            ],
            "type": "heatmap"
           }
          ],
          "heatmapgl": [
           {
            "colorbar": {
             "outlinewidth": 0,
             "ticks": ""
            },
            "colorscale": [
             [
              0,
              "#0d0887"
             ],
             [
              0.1111111111111111,
              "#46039f"
             ],
             [
              0.2222222222222222,
              "#7201a8"
             ],
             [
              0.3333333333333333,
              "#9c179e"
             ],
             [
              0.4444444444444444,
              "#bd3786"
             ],
             [
              0.5555555555555556,
              "#d8576b"
             ],
             [
              0.6666666666666666,
              "#ed7953"
             ],
             [
              0.7777777777777778,
              "#fb9f3a"
             ],
             [
              0.8888888888888888,
              "#fdca26"
             ],
             [
              1,
              "#f0f921"
             ]
            ],
            "type": "heatmapgl"
           }
          ],
          "histogram": [
           {
            "marker": {
             "pattern": {
              "fillmode": "overlay",
              "size": 10,
              "solidity": 0.2
             }
            },
            "type": "histogram"
           }
          ],
          "histogram2d": [
           {
            "colorbar": {
             "outlinewidth": 0,
             "ticks": ""
            },
            "colorscale": [
             [
              0,
              "#0d0887"
             ],
             [
              0.1111111111111111,
              "#46039f"
             ],
             [
              0.2222222222222222,
              "#7201a8"
             ],
             [
              0.3333333333333333,
              "#9c179e"
             ],
             [
              0.4444444444444444,
              "#bd3786"
             ],
             [
              0.5555555555555556,
              "#d8576b"
             ],
             [
              0.6666666666666666,
              "#ed7953"
             ],
             [
              0.7777777777777778,
              "#fb9f3a"
             ],
             [
              0.8888888888888888,
              "#fdca26"
             ],
             [
              1,
              "#f0f921"
             ]
            ],
            "type": "histogram2d"
           }
          ],
          "histogram2dcontour": [
           {
            "colorbar": {
             "outlinewidth": 0,
             "ticks": ""
            },
            "colorscale": [
             [
              0,
              "#0d0887"
             ],
             [
              0.1111111111111111,
              "#46039f"
             ],
             [
              0.2222222222222222,
              "#7201a8"
             ],
             [
              0.3333333333333333,
              "#9c179e"
             ],
             [
              0.4444444444444444,
              "#bd3786"
             ],
             [
              0.5555555555555556,
              "#d8576b"
             ],
             [
              0.6666666666666666,
              "#ed7953"
             ],
             [
              0.7777777777777778,
              "#fb9f3a"
             ],
             [
              0.8888888888888888,
              "#fdca26"
             ],
             [
              1,
              "#f0f921"
             ]
            ],
            "type": "histogram2dcontour"
           }
          ],
          "mesh3d": [
           {
            "colorbar": {
             "outlinewidth": 0,
             "ticks": ""
            },
            "type": "mesh3d"
           }
          ],
          "parcoords": [
           {
            "line": {
             "colorbar": {
              "outlinewidth": 0,
              "ticks": ""
             }
            },
            "type": "parcoords"
           }
          ],
          "pie": [
           {
            "automargin": true,
            "type": "pie"
           }
          ],
          "scatter": [
           {
            "fillpattern": {
             "fillmode": "overlay",
             "size": 10,
             "solidity": 0.2
            },
            "type": "scatter"
           }
          ],
          "scatter3d": [
           {
            "line": {
             "colorbar": {
              "outlinewidth": 0,
              "ticks": ""
             }
            },
            "marker": {
             "colorbar": {
              "outlinewidth": 0,
              "ticks": ""
             }
            },
            "type": "scatter3d"
           }
          ],
          "scattercarpet": [
           {
            "marker": {
             "colorbar": {
              "outlinewidth": 0,
              "ticks": ""
             }
            },
            "type": "scattercarpet"
           }
          ],
          "scattergeo": [
           {
            "marker": {
             "colorbar": {
              "outlinewidth": 0,
              "ticks": ""
             }
            },
            "type": "scattergeo"
           }
          ],
          "scattergl": [
           {
            "marker": {
             "colorbar": {
              "outlinewidth": 0,
              "ticks": ""
             }
            },
            "type": "scattergl"
           }
          ],
          "scattermapbox": [
           {
            "marker": {
             "colorbar": {
              "outlinewidth": 0,
              "ticks": ""
             }
            },
            "type": "scattermapbox"
           }
          ],
          "scatterpolar": [
           {
            "marker": {
             "colorbar": {
              "outlinewidth": 0,
              "ticks": ""
             }
            },
            "type": "scatterpolar"
           }
          ],
          "scatterpolargl": [
           {
            "marker": {
             "colorbar": {
              "outlinewidth": 0,
              "ticks": ""
             }
            },
            "type": "scatterpolargl"
           }
          ],
          "scatterternary": [
           {
            "marker": {
             "colorbar": {
              "outlinewidth": 0,
              "ticks": ""
             }
            },
            "type": "scatterternary"
           }
          ],
          "surface": [
           {
            "colorbar": {
             "outlinewidth": 0,
             "ticks": ""
            },
            "colorscale": [
             [
              0,
              "#0d0887"
             ],
             [
              0.1111111111111111,
              "#46039f"
             ],
             [
              0.2222222222222222,
              "#7201a8"
             ],
             [
              0.3333333333333333,
              "#9c179e"
             ],
             [
              0.4444444444444444,
              "#bd3786"
             ],
             [
              0.5555555555555556,
              "#d8576b"
             ],
             [
              0.6666666666666666,
              "#ed7953"
             ],
             [
              0.7777777777777778,
              "#fb9f3a"
             ],
             [
              0.8888888888888888,
              "#fdca26"
             ],
             [
              1,
              "#f0f921"
             ]
            ],
            "type": "surface"
           }
          ],
          "table": [
           {
            "cells": {
             "fill": {
              "color": "#EBF0F8"
             },
             "line": {
              "color": "white"
             }
            },
            "header": {
             "fill": {
              "color": "#C8D4E3"
             },
             "line": {
              "color": "white"
             }
            },
            "type": "table"
           }
          ]
         },
         "layout": {
          "annotationdefaults": {
           "arrowcolor": "#2a3f5f",
           "arrowhead": 0,
           "arrowwidth": 1
          },
          "autotypenumbers": "strict",
          "coloraxis": {
           "colorbar": {
            "outlinewidth": 0,
            "ticks": ""
           }
          },
          "colorscale": {
           "diverging": [
            [
             0,
             "#8e0152"
            ],
            [
             0.1,
             "#c51b7d"
            ],
            [
             0.2,
             "#de77ae"
            ],
            [
             0.3,
             "#f1b6da"
            ],
            [
             0.4,
             "#fde0ef"
            ],
            [
             0.5,
             "#f7f7f7"
            ],
            [
             0.6,
             "#e6f5d0"
            ],
            [
             0.7,
             "#b8e186"
            ],
            [
             0.8,
             "#7fbc41"
            ],
            [
             0.9,
             "#4d9221"
            ],
            [
             1,
             "#276419"
            ]
           ],
           "sequential": [
            [
             0,
             "#0d0887"
            ],
            [
             0.1111111111111111,
             "#46039f"
            ],
            [
             0.2222222222222222,
             "#7201a8"
            ],
            [
             0.3333333333333333,
             "#9c179e"
            ],
            [
             0.4444444444444444,
             "#bd3786"
            ],
            [
             0.5555555555555556,
             "#d8576b"
            ],
            [
             0.6666666666666666,
             "#ed7953"
            ],
            [
             0.7777777777777778,
             "#fb9f3a"
            ],
            [
             0.8888888888888888,
             "#fdca26"
            ],
            [
             1,
             "#f0f921"
            ]
           ],
           "sequentialminus": [
            [
             0,
             "#0d0887"
            ],
            [
             0.1111111111111111,
             "#46039f"
            ],
            [
             0.2222222222222222,
             "#7201a8"
            ],
            [
             0.3333333333333333,
             "#9c179e"
            ],
            [
             0.4444444444444444,
             "#bd3786"
            ],
            [
             0.5555555555555556,
             "#d8576b"
            ],
            [
             0.6666666666666666,
             "#ed7953"
            ],
            [
             0.7777777777777778,
             "#fb9f3a"
            ],
            [
             0.8888888888888888,
             "#fdca26"
            ],
            [
             1,
             "#f0f921"
            ]
           ]
          },
          "colorway": [
           "#636efa",
           "#EF553B",
           "#00cc96",
           "#ab63fa",
           "#FFA15A",
           "#19d3f3",
           "#FF6692",
           "#B6E880",
           "#FF97FF",
           "#FECB52"
          ],
          "font": {
           "color": "#2a3f5f"
          },
          "geo": {
           "bgcolor": "white",
           "lakecolor": "white",
           "landcolor": "#E5ECF6",
           "showlakes": true,
           "showland": true,
           "subunitcolor": "white"
          },
          "hoverlabel": {
           "align": "left"
          },
          "hovermode": "closest",
          "mapbox": {
           "style": "light"
          },
          "paper_bgcolor": "white",
          "plot_bgcolor": "#E5ECF6",
          "polar": {
           "angularaxis": {
            "gridcolor": "white",
            "linecolor": "white",
            "ticks": ""
           },
           "bgcolor": "#E5ECF6",
           "radialaxis": {
            "gridcolor": "white",
            "linecolor": "white",
            "ticks": ""
           }
          },
          "scene": {
           "xaxis": {
            "backgroundcolor": "#E5ECF6",
            "gridcolor": "white",
            "gridwidth": 2,
            "linecolor": "white",
            "showbackground": true,
            "ticks": "",
            "zerolinecolor": "white"
           },
           "yaxis": {
            "backgroundcolor": "#E5ECF6",
            "gridcolor": "white",
            "gridwidth": 2,
            "linecolor": "white",
            "showbackground": true,
            "ticks": "",
            "zerolinecolor": "white"
           },
           "zaxis": {
            "backgroundcolor": "#E5ECF6",
            "gridcolor": "white",
            "gridwidth": 2,
            "linecolor": "white",
            "showbackground": true,
            "ticks": "",
            "zerolinecolor": "white"
           }
          },
          "shapedefaults": {
           "line": {
            "color": "#2a3f5f"
           }
          },
          "ternary": {
           "aaxis": {
            "gridcolor": "white",
            "linecolor": "white",
            "ticks": ""
           },
           "baxis": {
            "gridcolor": "white",
            "linecolor": "white",
            "ticks": ""
           },
           "bgcolor": "#E5ECF6",
           "caxis": {
            "gridcolor": "white",
            "linecolor": "white",
            "ticks": ""
           }
          },
          "title": {
           "x": 0.05
          },
          "xaxis": {
           "automargin": true,
           "gridcolor": "white",
           "linecolor": "white",
           "ticks": "",
           "title": {
            "standoff": 15
           },
           "zerolinecolor": "white",
           "zerolinewidth": 2
          },
          "yaxis": {
           "automargin": true,
           "gridcolor": "white",
           "linecolor": "white",
           "ticks": "",
           "title": {
            "standoff": 15
           },
           "zerolinecolor": "white",
           "zerolinewidth": 2
          }
         }
        },
        "xaxis": {
         "anchor": "y",
         "domain": [
          0,
          1
         ],
         "title": {
          "text": "Publication date"
         }
        },
        "yaxis": {
         "anchor": "x",
         "domain": [
          0,
          1
         ],
         "title": {
          "text": "Training compute (FLOP)"
         },
         "type": "log"
        }
       }
      }
     },
     "metadata": {},
     "output_type": "display_data"
    }
   ],
   "source": [
    "# filter out systems before start of analysis (2015)\n",
    "access_df_recent = filtered_access_df[filtered_access_df['Publication date'] > pred_start_date]\n",
    "\n",
    "fig = px.scatter(\n",
    "    access_df_recent,\n",
    "    x='Publication date',\n",
    "    y='Training compute (FLOP)',\n",
    "    color='Model accessibility',\n",
    "    hover_data=['System'],\n",
    "    log_y=True,\n",
    ")\n",
    "\n",
    "save_plot(fig, results_dir, f'training_compute_by_model_accessibility {analysis_start_year}')\n",
    "\n",
    "fig.show()"
   ]
  },
  {
   "cell_type": "code",
   "execution_count": null,
   "metadata": {},
   "outputs": [
    {
     "data": {
      "application/vnd.plotly.v1+json": {
       "config": {
        "plotlyServerURL": "https://plot.ly"
       },
       "data": [
        {
         "customdata": [
          [
           "Gemini 1.0 Ultra"
          ],
          [
           "GPT-4"
          ],
          [
           "Mistral Large"
          ],
          [
           "MegaScale (Production)"
          ],
          [
           "Inflection-2"
          ],
          [
           "Inflection-2.5"
          ],
          [
           "PaLM 2"
          ],
          [
           "Amazon Titan"
          ],
          [
           "Claude 2"
          ],
          [
           "Minerva (540B)"
          ],
          [
           "GPT-3.5 (text-davinci-003)"
          ],
          [
           "U-PaLM (540B)"
          ],
          [
           "PaLM (540B)"
          ],
          [
           "Flan-PaLM 540B"
          ],
          [
           "Mi:dm 200B"
          ],
          [
           "Megatron-Turing NLG 530B"
          ],
          [
           "ERNIE 3.0 Titan"
          ],
          [
           "Inflection-1"
          ],
          [
           "Gopher (280B)"
          ],
          [
           "Chinchilla"
          ],
          [
           "Parti"
          ],
          [
           "GLaM"
          ],
          [
           "Jurassic-1-Jumbo"
          ],
          [
           "LaMDA"
          ],
          [
           "Yuan 1.0"
          ],
          [
           "GPT-3 175B (davinci)"
          ],
          [
           "HyperCLOVA 82B"
          ],
          [
           "GShard (dense)"
          ],
          [
           "Meena"
          ],
          [
           "GOAT"
          ],
          [
           "OpenAI Five"
          ],
          [
           "Megatron-BERT"
          ],
          [
           "AlphaStar"
          ],
          [
           "PanGu-α"
          ],
          [
           "FLAN 137B"
          ],
          [
           "Meta Pseudo Labels"
          ],
          [
           "DALL-E"
          ],
          [
           "CoAtNet"
          ],
          [
           "PLUG"
          ],
          [
           "Turing-NLG"
          ],
          [
           "GShard (600B)"
          ],
          [
           "OpenAI Five Rerun"
          ],
          [
           "GPT3-6.7B (rerun of original)"
          ],
          [
           "Megatron-LM (8.3B)"
          ],
          [
           "ContextNet + Noisy Student"
          ],
          [
           "FTW"
          ],
          [
           "GNMT"
          ],
          [
           "Rubik's cube ADR robot"
          ],
          [
           "Noisy Student (L2)"
          ],
          [
           "DD-PPO"
          ],
          [
           "BERT-Large-CAS (PTB+WT2+WT103)"
          ],
          [
           "AmoebaNet-A (F=448)"
          ],
          [
           "IMPALA"
          ],
          [
           "Mesh-TensorFlow Transformer 4.9B (language modelling)"
          ],
          [
           "MoE"
          ],
          [
           "Mesh-TensorFlow Transformer 2.9B (translation)"
          ],
          [
           "YOLOv3"
          ],
          [
           "All-attention network + adaptive span"
          ],
          [
           "Population-based DRL"
          ],
          [
           "QT-Opt"
          ],
          [
           "LSTM (Hebbian, Cache, MbPA)"
          ],
          [
           "RNMT+"
          ],
          [
           "Transformer"
          ],
          [
           "GL-LWGC-AWD-MoS-LSTM + dynamic evaluation (WT2)"
          ],
          [
           "AWD-LSTM-MoS + dynamic evaluation (WT2, 2017)"
          ],
          [
           "QRNN"
          ],
          [
           "AWD-LSTM - 3-layer LSTM (tied) + continuous cache pointer (WT2)"
          ],
          [
           "4 layer QRNN (h=2500)"
          ],
          [
           "Fraternal dropout + AWD-LSTM 3-layer (WT2)"
          ],
          [
           "genCNN + dyn eval"
          ],
          [
           "VD-LSTM+REAL Large"
          ],
          [
           "Zoneout + Variational LSTM (WT2)"
          ],
          [
           "Densely Connected LSTM + Var. Dropout"
          ],
          [
           "Neural Architecture Search with base 8 and shared embeddings"
          ],
          [
           "Pointer Sentinel-LSTM (medium)"
          ],
          [
           "Variational (untied weights, MC) LSTM (Large)"
          ],
          [
           "VD-RHN"
          ],
          [
           "Search-Proven Best LSTM"
          ],
          [
           "LSTM-Char-Large"
          ]
         ],
         "hovertemplate": "Model open/closed=Closed<br>Publication date=%{x}<br>Training compute (FLOP)=%{y}<br>System=%{customdata[0]}<extra></extra>",
         "legendgroup": "Closed",
         "marker": {
          "color": "#636efa",
          "symbol": "circle"
         },
         "mode": "markers",
         "name": "Closed",
         "orientation": "v",
         "showlegend": true,
         "type": "scatter",
         "x": [
          "2023-12-06",
          "2023-03-15",
          "2024-02-26",
          "2024-02-23",
          "2023-11-22",
          "2024-03-07",
          "2023-05-10",
          "2023-09-28",
          "2023-07-11",
          "2022-06-29",
          "2022-11-28",
          "2022-10-20",
          "2022-04-04",
          "2022-10-20",
          "2023-10-31",
          "2021-10-11",
          "2021-12-23",
          "2023-06-23",
          "2021-12-08",
          "2022-03-29",
          "2022-06-22",
          "2021-12-13",
          "2021-08-11",
          "2022-02-10",
          "2021-10-12",
          "2020-05-28",
          "2021-09-10",
          "2020-06-30",
          "2020-01-28",
          "2021-07-27",
          "2019-12-13",
          "2019-09-17",
          "2019-10-30",
          "2021-04-25",
          "2021-09-03",
          "2021-03-01",
          "2021-01-05",
          "2021-06-09",
          "2021-04-19",
          "2020-02-13",
          "2020-06-30",
          "2019-12-13",
          "2020-05-28",
          "2019-09-17",
          "2020-01-19",
          "2018-07-03",
          "2016-09-26",
          "2019-10-15",
          "2019-11-11",
          "2019-12-19",
          "2019-04-20",
          "2018-02-05",
          "2018-02-05",
          "2018-11-05",
          "2017-01-23",
          "2018-11-05",
          "2018-04-08",
          "2019-07-02",
          "2018-07-03",
          "2018-06-27",
          "2018-03-27",
          "2018-04-26",
          "2017-06-12",
          "2017-08-29",
          "2017-11-10",
          "2018-02-01",
          "2017-08-07",
          "2018-03-22",
          "2017-10-31",
          "2015-03-17",
          "2016-11-04",
          "2016-09-26",
          "2017-07-19",
          "2016-11-05",
          "2016-09-26",
          "2015-12-16",
          "2016-07-12",
          "2015-07-06",
          "2015-08-26"
         ],
         "xaxis": "x",
         "y": [
          5.0000000001e+25,
          2.1e+25,
          2.0000000001e+25,
          1.2e+25,
          1.001e+25,
          1.0001e+25,
          7.34e+24,
          4.7999999999999996e+24,
          3.866e+24,
          2.7415e+24,
          2.578e+24,
          2.53e+24,
          2.5272e+24,
          2.4999999999999997e+24,
          1.1999999999999999e+24,
          1.17e+24,
          1.0421e+24,
          1.0001e+24,
          6.31e+23,
          5.76e+23,
          3.962895376192635e+23,
          3.74e+23,
          3.7e+23,
          3.55e+23,
          3.5380000000001e+23,
          3.14e+23,
          1.476e+23,
          1.3702e+23,
          1.12e+23,
          7.8e+22,
          6.7e+22,
          6.027e+22,
          5.9250000000001e+22,
          5.83e+22,
          4.896e+22,
          4.79e+22,
          4.7e+22,
          4.27e+22,
          3.5997695999999996e+22,
          1.57e+22,
          1.33e+22,
          1.3e+22,
          1.2e+22,
          9.1e+21,
          8.16e+21,
          7.26e+21,
          6.620000000001001e+21,
          854000000000000000000,
          849346560000000000000,
          780000000000000000000,
          521000000000000000000,
          385296912000000000000,
          168000000000000000000,
          161740800000000000000,
          93939056640000000000,
          68428800000000000000,
          50939199919999990000,
          46000000000000000000,
          34900000000000000000,
          34875000000000000000,
          24000000000000000000,
          18300000000000000000,
          7424524800000000000,
          474000000000000000,
          437000000000000000,
          360000000000000000,
          309000000000000000,
          240000000000000000,
          98500000000000000,
          73000000000000000,
          21300000000000000,
          16800000000000000,
          12800000000000000,
          10500000000000000,
          7490000000000000,
          5620000000000000,
          3570000000000000,
          3340000000000000,
          2650000000000000
         ],
         "yaxis": "y"
        },
        {
         "customdata": [
          [
           "Nemotron-4 340B"
          ],
          [
           "Llama 3-70B"
          ],
          [
           "Falcon-180B"
          ],
          [
           "Grok-1"
          ],
          [
           "DBRX"
          ],
          [
           "Chameleon-34B"
          ],
          [
           "Qwen-72B"
          ],
          [
           "XVERSE-65B-2"
          ],
          [
           "Code Llama-70B"
          ],
          [
           "TigerBot-70B"
          ],
          [
           "Llama 2-70B"
          ],
          [
           "DeepSeek LLM 67B"
          ],
          [
           "Yi-34B"
          ],
          [
           "BLOOM-176B"
          ],
          [
           "LLaMA-65B"
          ],
          [
           "Guanaco-65B"
          ],
          [
           "Code Llama-34B"
          ],
          [
           "OPT-175B"
          ],
          [
           "OPT-IML (175B)"
          ],
          [
           "BlenderBot 3"
          ],
          [
           "GLM-130B"
          ],
          [
           "Galactica"
          ],
          [
           "LLaMA-33B"
          ],
          [
           "Falcon-40B"
          ],
          [
           "YaLM"
          ],
          [
           "UL2"
          ],
          [
           "OPT-66B"
          ],
          [
           "Whisper v2"
          ],
          [
           "GPT-NeoX-20B"
          ],
          [
           "Switch"
          ],
          [
           "mT5-XXL"
          ],
          [
           "ByT5-XXL"
          ],
          [
           "ProtT5-XXL"
          ],
          [
           "ESM2-15B"
          ],
          [
           "CodeGeeX"
          ],
          [
           "OPT-30B"
          ],
          [
           "Stable Diffusion (LDM-KL-8-G)"
          ],
          [
           "ProtBERT-BFD"
          ],
          [
           "GLM-10B"
          ],
          [
           "ProtT5-XXL-BFD"
          ],
          [
           "T5-11B"
          ],
          [
           "iGPT-XL"
          ],
          [
           "Fairseq-dense 13B"
          ],
          [
           "CogView"
          ],
          [
           "ResNet-RS"
          ],
          [
           "GPT-J-6B"
          ],
          [
           "mBART-50"
          ],
          [
           "CLIP (ViT L/14@336px)"
          ],
          [
           "iGPT-L"
          ],
          [
           "XLNet"
          ],
          [
           "ResNeXt-101 32x48d"
          ],
          [
           "Grover-Mega"
          ],
          [
           "GPT-2 (1.5B)"
          ],
          [
           "ViT-Huge/14"
          ],
          [
           "RoBERTa Large"
          ],
          [
           "ELECTRA"
          ],
          [
           "ALBERT-xxlarge"
          ],
          [
           "BigGAN-deep 512x512"
          ],
          [
           "Once for All"
          ],
          [
           "MnasNet-A3"
          ],
          [
           "MnasNet-A1 + SSDLite"
          ],
          [
           "T5-3B"
          ],
          [
           "Megatron-LM (355M)"
          ],
          [
           "BERT-Large"
          ],
          [
           "Big Transformer for Back-Translation"
          ],
          [
           "SciBERT"
          ],
          [
           "Transformer (Adaptive Input Embeddings) WT103"
          ],
          [
           "Big-Little Net (vision)"
          ],
          [
           "ProxylessNAS"
          ],
          [
           "KataGo"
          ],
          [
           "GPT"
          ],
          [
           "Transformer-XL (257M)"
          ],
          [
           "BIDAF"
          ],
          [
           "Decoupled weight decay regularization"
          ],
          [
           "AlexNet + coordinating filters"
          ],
          [
           "(ensemble): AWD-LSTM-DOC (fin) × 5 (WT2)"
          ],
          [
           "Big-Little Net (speech)"
          ],
          [
           "ULM-FiT"
          ],
          [
           "Big-Little Net"
          ],
          [
           "DNCON2"
          ],
          [
           "SPIDER2"
          ]
         ],
         "hovertemplate": "Model open/closed=Open<br>Publication date=%{x}<br>Training compute (FLOP)=%{y}<br>System=%{customdata[0]}<extra></extra>",
         "legendgroup": "Open",
         "marker": {
          "color": "#EF553B",
          "symbol": "circle"
         },
         "mode": "markers",
         "name": "Open",
         "orientation": "v",
         "showlegend": true,
         "type": "scatter",
         "x": [
          "2024-06-14",
          "2024-04-18",
          "2023-09-06",
          "2023-11-04",
          "2024-03-27",
          "2024-05-16",
          "2023-11-30",
          "2023-12-08",
          "2024-01-29",
          "2023-09-06",
          "2023-07-18",
          "2024-01-05",
          "2023-11-02",
          "2022-11-08",
          "2023-02-24",
          "2023-05-23",
          "2023-08-14",
          "2022-05-02",
          "2022-12-22",
          "2022-08-10",
          "2022-08-04",
          "2022-11-16",
          "2023-02-27",
          "2023-03-15",
          "2022-06-23",
          "2022-05-10",
          "2022-06-21",
          "2022-12-05",
          "2022-02-09",
          "2021-01-11",
          "2020-10-20",
          "2021-05-28",
          "2021-05-04",
          "2022-07-21",
          "2022-06-22",
          "2022-06-21",
          "2022-04-13",
          "2021-05-04",
          "2021-03-18",
          "2021-05-04",
          "2019-10-23",
          "2020-06-17",
          "2021-12-20",
          "2021-05-26",
          "2021-03-13",
          "2021-05-01",
          "2020-08-02",
          "2021-01-05",
          "2020-06-17",
          "2019-06-01",
          "2018-05-02",
          "2019-05-29",
          "2019-02-14",
          "2020-10-22",
          "2019-07-01",
          "2020-03-23",
          "2020-02-09",
          "2018-09-28",
          "2020-04-29",
          "2019-05-29",
          "2019-05-29",
          "2019-10-23",
          "2019-09-17",
          "2018-10-11",
          "2018-08-28",
          "2019-03-26",
          "2018-09-28",
          "2018-07-10",
          "2019-02-23",
          "2019-02-27",
          "2018-06-01",
          "2019-01-09",
          "2016-11-05",
          "2019-01-04",
          "2017-03-28",
          "2018-08-30",
          "2018-07-10",
          "2018-01-18",
          "2018-07-10",
          "2018-05-01",
          "2016-10-28"
         ],
         "xaxis": "x",
         "y": [
          1.8000000000000005e+25,
          6.30000000001e+24,
          3.76e+24,
          2.90000000001e+24,
          2.6e+24,
          1.6453571041e+24,
          1.3e+24,
          1.24800000000001e+24,
          1.230000000001e+24,
          1.02e+24,
          8.1e+23,
          8.04e+23,
          6.1e+23,
          5.770000000000099e+23,
          5.5e+23,
          5.5e+23,
          5.3e+23,
          4.3e+23,
          4.3e+23,
          4.3e+23,
          3.778e+23,
          3.24e+23,
          2.7300000000000996e+23,
          2.4e+23,
          2.2e+23,
          1.2e+23,
          1.100000000001e+23,
          1.1e+23,
          9.31627008e+22,
          8.22e+22,
          8.2e+22,
          8.1e+22,
          7.370000000000001e+22,
          7.350000000009999e+22,
          6.630000000001e+22,
          5.4000000000001e+22,
          5e+22,
          3.9e+22,
          3.79e+22,
          3.7e+22,
          3.3e+22,
          3.3e+22,
          3.267e+22,
          2.68e+22,
          1.763328e+22,
          1.5e+22,
          1.4515200000000002e+22,
          1.05e+22,
          8.91e+21,
          8.9e+21,
          8.74395e+21,
          5.7e+21,
          4.3e+21,
          4.262e+21,
          4.15383552e+21,
          3.0999999999999995e+21,
          2.39e+21,
          1.8e+21,
          1.7842809599999995e+21,
          1.5e+21,
          1.5e+21,
          865865406873600000000,
          335000000000000000000,
          285000000000000000000,
          108084326400000000000,
          89268480000000000000,
          72000000000000000000,
          62988288000000000000,
          37065600000000000000,
          23200000000000000000,
          17578125000000000000,
          10900000000000000000,
          3468614400000000000,
          2470000000000000000,
          1557140125176000000,
          693000000000000000,
          429004800000000000,
          272538000000000000,
          246048000000000000,
          95000000000000000,
          8540000000000
         ],
         "yaxis": "y"
        }
       ],
       "layout": {
        "legend": {
         "title": {
          "text": "Model open/closed"
         },
         "tracegroupgap": 0
        },
        "margin": {
         "t": 60
        },
        "template": {
         "data": {
          "bar": [
           {
            "error_x": {
             "color": "#2a3f5f"
            },
            "error_y": {
             "color": "#2a3f5f"
            },
            "marker": {
             "line": {
              "color": "#E5ECF6",
              "width": 0.5
             },
             "pattern": {
              "fillmode": "overlay",
              "size": 10,
              "solidity": 0.2
             }
            },
            "type": "bar"
           }
          ],
          "barpolar": [
           {
            "marker": {
             "line": {
              "color": "#E5ECF6",
              "width": 0.5
             },
             "pattern": {
              "fillmode": "overlay",
              "size": 10,
              "solidity": 0.2
             }
            },
            "type": "barpolar"
           }
          ],
          "carpet": [
           {
            "aaxis": {
             "endlinecolor": "#2a3f5f",
             "gridcolor": "white",
             "linecolor": "white",
             "minorgridcolor": "white",
             "startlinecolor": "#2a3f5f"
            },
            "baxis": {
             "endlinecolor": "#2a3f5f",
             "gridcolor": "white",
             "linecolor": "white",
             "minorgridcolor": "white",
             "startlinecolor": "#2a3f5f"
            },
            "type": "carpet"
           }
          ],
          "choropleth": [
           {
            "colorbar": {
             "outlinewidth": 0,
             "ticks": ""
            },
            "type": "choropleth"
           }
          ],
          "contour": [
           {
            "colorbar": {
             "outlinewidth": 0,
             "ticks": ""
            },
            "colorscale": [
             [
              0,
              "#0d0887"
             ],
             [
              0.1111111111111111,
              "#46039f"
             ],
             [
              0.2222222222222222,
              "#7201a8"
             ],
             [
              0.3333333333333333,
              "#9c179e"
             ],
             [
              0.4444444444444444,
              "#bd3786"
             ],
             [
              0.5555555555555556,
              "#d8576b"
             ],
             [
              0.6666666666666666,
              "#ed7953"
             ],
             [
              0.7777777777777778,
              "#fb9f3a"
             ],
             [
              0.8888888888888888,
              "#fdca26"
             ],
             [
              1,
              "#f0f921"
             ]
            ],
            "type": "contour"
           }
          ],
          "contourcarpet": [
           {
            "colorbar": {
             "outlinewidth": 0,
             "ticks": ""
            },
            "type": "contourcarpet"
           }
          ],
          "heatmap": [
           {
            "colorbar": {
             "outlinewidth": 0,
             "ticks": ""
            },
            "colorscale": [
             [
              0,
              "#0d0887"
             ],
             [
              0.1111111111111111,
              "#46039f"
             ],
             [
              0.2222222222222222,
              "#7201a8"
             ],
             [
              0.3333333333333333,
              "#9c179e"
             ],
             [
              0.4444444444444444,
              "#bd3786"
             ],
             [
              0.5555555555555556,
              "#d8576b"
             ],
             [
              0.6666666666666666,
              "#ed7953"
             ],
             [
              0.7777777777777778,
              "#fb9f3a"
             ],
             [
              0.8888888888888888,
              "#fdca26"
             ],
             [
              1,
              "#f0f921"
             ]
            ],
            "type": "heatmap"
           }
          ],
          "heatmapgl": [
           {
            "colorbar": {
             "outlinewidth": 0,
             "ticks": ""
            },
            "colorscale": [
             [
              0,
              "#0d0887"
             ],
             [
              0.1111111111111111,
              "#46039f"
             ],
             [
              0.2222222222222222,
              "#7201a8"
             ],
             [
              0.3333333333333333,
              "#9c179e"
             ],
             [
              0.4444444444444444,
              "#bd3786"
             ],
             [
              0.5555555555555556,
              "#d8576b"
             ],
             [
              0.6666666666666666,
              "#ed7953"
             ],
             [
              0.7777777777777778,
              "#fb9f3a"
             ],
             [
              0.8888888888888888,
              "#fdca26"
             ],
             [
              1,
              "#f0f921"
             ]
            ],
            "type": "heatmapgl"
           }
          ],
          "histogram": [
           {
            "marker": {
             "pattern": {
              "fillmode": "overlay",
              "size": 10,
              "solidity": 0.2
             }
            },
            "type": "histogram"
           }
          ],
          "histogram2d": [
           {
            "colorbar": {
             "outlinewidth": 0,
             "ticks": ""
            },
            "colorscale": [
             [
              0,
              "#0d0887"
             ],
             [
              0.1111111111111111,
              "#46039f"
             ],
             [
              0.2222222222222222,
              "#7201a8"
             ],
             [
              0.3333333333333333,
              "#9c179e"
             ],
             [
              0.4444444444444444,
              "#bd3786"
             ],
             [
              0.5555555555555556,
              "#d8576b"
             ],
             [
              0.6666666666666666,
              "#ed7953"
             ],
             [
              0.7777777777777778,
              "#fb9f3a"
             ],
             [
              0.8888888888888888,
              "#fdca26"
             ],
             [
              1,
              "#f0f921"
             ]
            ],
            "type": "histogram2d"
           }
          ],
          "histogram2dcontour": [
           {
            "colorbar": {
             "outlinewidth": 0,
             "ticks": ""
            },
            "colorscale": [
             [
              0,
              "#0d0887"
             ],
             [
              0.1111111111111111,
              "#46039f"
             ],
             [
              0.2222222222222222,
              "#7201a8"
             ],
             [
              0.3333333333333333,
              "#9c179e"
             ],
             [
              0.4444444444444444,
              "#bd3786"
             ],
             [
              0.5555555555555556,
              "#d8576b"
             ],
             [
              0.6666666666666666,
              "#ed7953"
             ],
             [
              0.7777777777777778,
              "#fb9f3a"
             ],
             [
              0.8888888888888888,
              "#fdca26"
             ],
             [
              1,
              "#f0f921"
             ]
            ],
            "type": "histogram2dcontour"
           }
          ],
          "mesh3d": [
           {
            "colorbar": {
             "outlinewidth": 0,
             "ticks": ""
            },
            "type": "mesh3d"
           }
          ],
          "parcoords": [
           {
            "line": {
             "colorbar": {
              "outlinewidth": 0,
              "ticks": ""
             }
            },
            "type": "parcoords"
           }
          ],
          "pie": [
           {
            "automargin": true,
            "type": "pie"
           }
          ],
          "scatter": [
           {
            "fillpattern": {
             "fillmode": "overlay",
             "size": 10,
             "solidity": 0.2
            },
            "type": "scatter"
           }
          ],
          "scatter3d": [
           {
            "line": {
             "colorbar": {
              "outlinewidth": 0,
              "ticks": ""
             }
            },
            "marker": {
             "colorbar": {
              "outlinewidth": 0,
              "ticks": ""
             }
            },
            "type": "scatter3d"
           }
          ],
          "scattercarpet": [
           {
            "marker": {
             "colorbar": {
              "outlinewidth": 0,
              "ticks": ""
             }
            },
            "type": "scattercarpet"
           }
          ],
          "scattergeo": [
           {
            "marker": {
             "colorbar": {
              "outlinewidth": 0,
              "ticks": ""
             }
            },
            "type": "scattergeo"
           }
          ],
          "scattergl": [
           {
            "marker": {
             "colorbar": {
              "outlinewidth": 0,
              "ticks": ""
             }
            },
            "type": "scattergl"
           }
          ],
          "scattermapbox": [
           {
            "marker": {
             "colorbar": {
              "outlinewidth": 0,
              "ticks": ""
             }
            },
            "type": "scattermapbox"
           }
          ],
          "scatterpolar": [
           {
            "marker": {
             "colorbar": {
              "outlinewidth": 0,
              "ticks": ""
             }
            },
            "type": "scatterpolar"
           }
          ],
          "scatterpolargl": [
           {
            "marker": {
             "colorbar": {
              "outlinewidth": 0,
              "ticks": ""
             }
            },
            "type": "scatterpolargl"
           }
          ],
          "scatterternary": [
           {
            "marker": {
             "colorbar": {
              "outlinewidth": 0,
              "ticks": ""
             }
            },
            "type": "scatterternary"
           }
          ],
          "surface": [
           {
            "colorbar": {
             "outlinewidth": 0,
             "ticks": ""
            },
            "colorscale": [
             [
              0,
              "#0d0887"
             ],
             [
              0.1111111111111111,
              "#46039f"
             ],
             [
              0.2222222222222222,
              "#7201a8"
             ],
             [
              0.3333333333333333,
              "#9c179e"
             ],
             [
              0.4444444444444444,
              "#bd3786"
             ],
             [
              0.5555555555555556,
              "#d8576b"
             ],
             [
              0.6666666666666666,
              "#ed7953"
             ],
             [
              0.7777777777777778,
              "#fb9f3a"
             ],
             [
              0.8888888888888888,
              "#fdca26"
             ],
             [
              1,
              "#f0f921"
             ]
            ],
            "type": "surface"
           }
          ],
          "table": [
           {
            "cells": {
             "fill": {
              "color": "#EBF0F8"
             },
             "line": {
              "color": "white"
             }
            },
            "header": {
             "fill": {
              "color": "#C8D4E3"
             },
             "line": {
              "color": "white"
             }
            },
            "type": "table"
           }
          ]
         },
         "layout": {
          "annotationdefaults": {
           "arrowcolor": "#2a3f5f",
           "arrowhead": 0,
           "arrowwidth": 1
          },
          "autotypenumbers": "strict",
          "coloraxis": {
           "colorbar": {
            "outlinewidth": 0,
            "ticks": ""
           }
          },
          "colorscale": {
           "diverging": [
            [
             0,
             "#8e0152"
            ],
            [
             0.1,
             "#c51b7d"
            ],
            [
             0.2,
             "#de77ae"
            ],
            [
             0.3,
             "#f1b6da"
            ],
            [
             0.4,
             "#fde0ef"
            ],
            [
             0.5,
             "#f7f7f7"
            ],
            [
             0.6,
             "#e6f5d0"
            ],
            [
             0.7,
             "#b8e186"
            ],
            [
             0.8,
             "#7fbc41"
            ],
            [
             0.9,
             "#4d9221"
            ],
            [
             1,
             "#276419"
            ]
           ],
           "sequential": [
            [
             0,
             "#0d0887"
            ],
            [
             0.1111111111111111,
             "#46039f"
            ],
            [
             0.2222222222222222,
             "#7201a8"
            ],
            [
             0.3333333333333333,
             "#9c179e"
            ],
            [
             0.4444444444444444,
             "#bd3786"
            ],
            [
             0.5555555555555556,
             "#d8576b"
            ],
            [
             0.6666666666666666,
             "#ed7953"
            ],
            [
             0.7777777777777778,
             "#fb9f3a"
            ],
            [
             0.8888888888888888,
             "#fdca26"
            ],
            [
             1,
             "#f0f921"
            ]
           ],
           "sequentialminus": [
            [
             0,
             "#0d0887"
            ],
            [
             0.1111111111111111,
             "#46039f"
            ],
            [
             0.2222222222222222,
             "#7201a8"
            ],
            [
             0.3333333333333333,
             "#9c179e"
            ],
            [
             0.4444444444444444,
             "#bd3786"
            ],
            [
             0.5555555555555556,
             "#d8576b"
            ],
            [
             0.6666666666666666,
             "#ed7953"
            ],
            [
             0.7777777777777778,
             "#fb9f3a"
            ],
            [
             0.8888888888888888,
             "#fdca26"
            ],
            [
             1,
             "#f0f921"
            ]
           ]
          },
          "colorway": [
           "#636efa",
           "#EF553B",
           "#00cc96",
           "#ab63fa",
           "#FFA15A",
           "#19d3f3",
           "#FF6692",
           "#B6E880",
           "#FF97FF",
           "#FECB52"
          ],
          "font": {
           "color": "#2a3f5f"
          },
          "geo": {
           "bgcolor": "white",
           "lakecolor": "white",
           "landcolor": "#E5ECF6",
           "showlakes": true,
           "showland": true,
           "subunitcolor": "white"
          },
          "hoverlabel": {
           "align": "left"
          },
          "hovermode": "closest",
          "mapbox": {
           "style": "light"
          },
          "paper_bgcolor": "white",
          "plot_bgcolor": "#E5ECF6",
          "polar": {
           "angularaxis": {
            "gridcolor": "white",
            "linecolor": "white",
            "ticks": ""
           },
           "bgcolor": "#E5ECF6",
           "radialaxis": {
            "gridcolor": "white",
            "linecolor": "white",
            "ticks": ""
           }
          },
          "scene": {
           "xaxis": {
            "backgroundcolor": "#E5ECF6",
            "gridcolor": "white",
            "gridwidth": 2,
            "linecolor": "white",
            "showbackground": true,
            "ticks": "",
            "zerolinecolor": "white"
           },
           "yaxis": {
            "backgroundcolor": "#E5ECF6",
            "gridcolor": "white",
            "gridwidth": 2,
            "linecolor": "white",
            "showbackground": true,
            "ticks": "",
            "zerolinecolor": "white"
           },
           "zaxis": {
            "backgroundcolor": "#E5ECF6",
            "gridcolor": "white",
            "gridwidth": 2,
            "linecolor": "white",
            "showbackground": true,
            "ticks": "",
            "zerolinecolor": "white"
           }
          },
          "shapedefaults": {
           "line": {
            "color": "#2a3f5f"
           }
          },
          "ternary": {
           "aaxis": {
            "gridcolor": "white",
            "linecolor": "white",
            "ticks": ""
           },
           "baxis": {
            "gridcolor": "white",
            "linecolor": "white",
            "ticks": ""
           },
           "bgcolor": "#E5ECF6",
           "caxis": {
            "gridcolor": "white",
            "linecolor": "white",
            "ticks": ""
           }
          },
          "title": {
           "x": 0.05
          },
          "xaxis": {
           "automargin": true,
           "gridcolor": "white",
           "linecolor": "white",
           "ticks": "",
           "title": {
            "standoff": 15
           },
           "zerolinecolor": "white",
           "zerolinewidth": 2
          },
          "yaxis": {
           "automargin": true,
           "gridcolor": "white",
           "linecolor": "white",
           "ticks": "",
           "title": {
            "standoff": 15
           },
           "zerolinecolor": "white",
           "zerolinewidth": 2
          }
         }
        },
        "xaxis": {
         "anchor": "y",
         "domain": [
          0,
          1
         ],
         "title": {
          "text": "Publication date"
         }
        },
        "yaxis": {
         "anchor": "x",
         "domain": [
          0,
          1
         ],
         "title": {
          "text": "Training compute (FLOP)"
         },
         "type": "log"
        }
       }
      }
     },
     "metadata": {},
     "output_type": "display_data"
    }
   ],
   "source": [
    "fig = px.scatter(\n",
    "    # access_df,\n",
    "    # access_df.loc[access_df_recent['System'].isin(selected_systems)],\n",
    "    access_df_recent,\n",
    "    x='Publication date',\n",
    "    y='Training compute (FLOP)',\n",
    "    color='Model open/closed',\n",
    "    hover_data=['System'],\n",
    "    log_y=True,\n",
    ")\n",
    "\n",
    "save_plot(fig, results_dir, f'training_compute_by_open_closed {analysis_start_year}')\n",
    "\n",
    "fig.show()"
   ]
  },
  {
   "cell_type": "code",
   "execution_count": null,
   "metadata": {},
   "outputs": [
    {
     "data": {
      "text/plain": [
       "DatetimeIndex(['2015-01-01', '2015-01-31', '2015-03-02', '2015-04-02',\n",
       "               '2015-05-02', '2015-06-02', '2015-07-02', '2015-08-01',\n",
       "               '2015-09-01', '2015-10-01',\n",
       "               ...\n",
       "               '2024-04-01', '2024-05-01', '2024-06-01', '2024-07-02',\n",
       "               '2024-08-01', '2024-09-01', '2024-10-01', '2024-10-31',\n",
       "               '2024-12-01', '2025-01-01'],\n",
       "              dtype='datetime64[ns]', name='Publication date', length=121, freq=None)"
      ]
     },
     "execution_count": 60,
     "metadata": {},
     "output_type": "execute_result"
    }
   ],
   "source": [
    "predicted_open_df.index\n"
   ]
  },
  {
   "cell_type": "code",
   "execution_count": null,
   "metadata": {},
   "outputs": [
    {
     "data": {
      "application/vnd.plotly.v1+json": {
       "config": {
        "plotlyServerURL": "https://plot.ly"
       },
       "data": [
        {
         "customdata": [
          [
           "Gemini 1.0 Ultra"
          ],
          [
           "GPT-4"
          ],
          [
           "Mistral Large"
          ],
          [
           "MegaScale (Production)"
          ],
          [
           "Inflection-2"
          ],
          [
           "Inflection-2.5"
          ],
          [
           "PaLM 2"
          ],
          [
           "Amazon Titan"
          ],
          [
           "Claude 2"
          ],
          [
           "Minerva (540B)"
          ],
          [
           "GPT-3.5 (text-davinci-003)"
          ],
          [
           "U-PaLM (540B)"
          ],
          [
           "PaLM (540B)"
          ],
          [
           "Flan-PaLM 540B"
          ],
          [
           "Mi:dm 200B"
          ],
          [
           "Megatron-Turing NLG 530B"
          ],
          [
           "ERNIE 3.0 Titan"
          ],
          [
           "Inflection-1"
          ],
          [
           "Gopher (280B)"
          ],
          [
           "Chinchilla"
          ],
          [
           "Parti"
          ],
          [
           "GLaM"
          ],
          [
           "Jurassic-1-Jumbo"
          ],
          [
           "LaMDA"
          ],
          [
           "Yuan 1.0"
          ],
          [
           "GPT-3 175B (davinci)"
          ],
          [
           "HyperCLOVA 82B"
          ],
          [
           "GShard (dense)"
          ],
          [
           "Meena"
          ],
          [
           "GOAT"
          ],
          [
           "OpenAI Five"
          ],
          [
           "Megatron-BERT"
          ],
          [
           "AlphaStar"
          ],
          [
           "PanGu-α"
          ],
          [
           "FLAN 137B"
          ],
          [
           "Meta Pseudo Labels"
          ],
          [
           "DALL-E"
          ],
          [
           "CoAtNet"
          ],
          [
           "PLUG"
          ],
          [
           "Turing-NLG"
          ],
          [
           "GShard (600B)"
          ],
          [
           "OpenAI Five Rerun"
          ],
          [
           "GPT3-6.7B (rerun of original)"
          ],
          [
           "Megatron-LM (8.3B)"
          ],
          [
           "ContextNet + Noisy Student"
          ],
          [
           "FTW"
          ],
          [
           "GNMT"
          ],
          [
           "Rubik's cube ADR robot"
          ],
          [
           "Noisy Student (L2)"
          ],
          [
           "DD-PPO"
          ],
          [
           "BERT-Large-CAS (PTB+WT2+WT103)"
          ],
          [
           "AmoebaNet-A (F=448)"
          ],
          [
           "IMPALA"
          ],
          [
           "Mesh-TensorFlow Transformer 4.9B (language modelling)"
          ],
          [
           "MoE"
          ],
          [
           "Mesh-TensorFlow Transformer 2.9B (translation)"
          ],
          [
           "YOLOv3"
          ],
          [
           "All-attention network + adaptive span"
          ],
          [
           "Population-based DRL"
          ],
          [
           "QT-Opt"
          ],
          [
           "LSTM (Hebbian, Cache, MbPA)"
          ],
          [
           "RNMT+"
          ],
          [
           "Transformer"
          ],
          [
           "GL-LWGC-AWD-MoS-LSTM + dynamic evaluation (WT2)"
          ],
          [
           "AWD-LSTM-MoS + dynamic evaluation (WT2, 2017)"
          ],
          [
           "QRNN"
          ],
          [
           "AWD-LSTM - 3-layer LSTM (tied) + continuous cache pointer (WT2)"
          ],
          [
           "4 layer QRNN (h=2500)"
          ],
          [
           "Fraternal dropout + AWD-LSTM 3-layer (WT2)"
          ],
          [
           "genCNN + dyn eval"
          ],
          [
           "VD-LSTM+REAL Large"
          ],
          [
           "Zoneout + Variational LSTM (WT2)"
          ],
          [
           "Densely Connected LSTM + Var. Dropout"
          ],
          [
           "Neural Architecture Search with base 8 and shared embeddings"
          ],
          [
           "Pointer Sentinel-LSTM (medium)"
          ],
          [
           "Variational (untied weights, MC) LSTM (Large)"
          ],
          [
           "VD-RHN"
          ],
          [
           "Search-Proven Best LSTM"
          ],
          [
           "LSTM-Char-Large"
          ]
         ],
         "hovertemplate": "Model open/closed=Closed<br>Publication date (float)=%{x}<br>Training compute (FLOP)=%{y}<br>System=%{customdata[0]}<extra></extra>",
         "legendgroup": "Closed",
         "marker": {
          "color": "#636efa",
          "symbol": "circle"
         },
         "mode": "markers",
         "name": "Closed",
         "orientation": "v",
         "showlegend": true,
         "textposition": "top center",
         "type": "scatter",
         "x": [
          2023.9303562064242,
          2023.2049973779879,
          2024.1517810321209,
          2024.1435673082663,
          2023.8908294003147,
          2024.1830941143758,
          2023.3579745048967,
          2023.7405901813572,
          2023.527379079515,
          2022.4933280893088,
          2022.9072568480237,
          2022.8020202510786,
          2022.2582137238544,
          2022.8020202510786,
          2023.832137238545,
          2021.777379079515,
          2021.9769006415997,
          2023.4769006415997,
          2021.9358320223273,
          2022.2433280893088,
          2022.4741627336482,
          2021.9495215620848,
          2021.6107124128482,
          2022.1079745048967,
          2021.7801169874665,
          2020.4072568480237,
          2021.6913078382302,
          2020.4960659972603,
          2020.0739235146905,
          2021.571185606739,
          2019.9495215620848,
          2019.7104731938907,
          2019.8293993305936,
          2021.315709790836,
          2021.6721424825698,
          2021.1666666666667,
          2021.010951631806,
          2021.4385699302788,
          2021.299282343127,
          2020.1161882287513,
          2020.4960659972603,
          2019.9495215620848,
          2020.4072568480237,
          2019.7104731938907,
          2020.049282343127,
          2018.505475815903,
          2016.7351143654544,
          2019.7883307113211,
          2019.8607124128482,
          2019.9659490097938,
          2019.3020202510786,
          2018.0942849651392,
          2018.0942849651392,
          2018.8442849651392,
          2017.060233974933,
          2018.8442849651392,
          2018.2691653556606,
          2019.5027379079515,
          2018.505475815903,
          2018.4878522734057,
          2018.2378522734057,
          2018.3184476987876,
          2017.4467836541332,
          2017.6599947559753,
          2017.8579745048967,
          2018.0833333333333,
          2017.5997607810423,
          2018.2241627336482,
          2017.832137238545,
          2015.2104731938907,
          2016.8415470571877,
          2016.7351143654544,
          2017.549282343127,
          2016.8442849651392,
          2016.7351143654544,
          2015.9577352859392,
          2016.5301169874665,
          2015.5136895397575,
          2015.6517810321209
         ],
         "xaxis": "x",
         "y": [
          5.0000000001e+25,
          2.1e+25,
          2.0000000001e+25,
          1.2e+25,
          1.001e+25,
          1.0001e+25,
          7.34e+24,
          4.7999999999999996e+24,
          3.866e+24,
          2.7415e+24,
          2.578e+24,
          2.53e+24,
          2.5272e+24,
          2.4999999999999997e+24,
          1.1999999999999999e+24,
          1.17e+24,
          1.0421e+24,
          1.0001e+24,
          6.31e+23,
          5.76e+23,
          3.962895376192635e+23,
          3.74e+23,
          3.7e+23,
          3.55e+23,
          3.5380000000001e+23,
          3.14e+23,
          1.476e+23,
          1.3702e+23,
          1.12e+23,
          7.8e+22,
          6.7e+22,
          6.027e+22,
          5.9250000000001e+22,
          5.83e+22,
          4.896e+22,
          4.79e+22,
          4.7e+22,
          4.27e+22,
          3.5997695999999996e+22,
          1.57e+22,
          1.33e+22,
          1.3e+22,
          1.2e+22,
          9.1e+21,
          8.16e+21,
          7.26e+21,
          6.620000000001001e+21,
          854000000000000000000,
          849346560000000000000,
          780000000000000000000,
          521000000000000000000,
          385296912000000000000,
          168000000000000000000,
          161740800000000000000,
          93939056640000000000,
          68428800000000000000,
          50939199919999990000,
          46000000000000000000,
          34900000000000000000,
          34875000000000000000,
          24000000000000000000,
          18300000000000000000,
          7424524800000000000,
          474000000000000000,
          437000000000000000,
          360000000000000000,
          309000000000000000,
          240000000000000000,
          98500000000000000,
          73000000000000000,
          21300000000000000,
          16800000000000000,
          12800000000000000,
          10500000000000000,
          7490000000000000,
          5620000000000000,
          3570000000000000,
          3340000000000000,
          2650000000000000
         ],
         "yaxis": "y"
        },
        {
         "customdata": [
          [
           "Nemotron-4 340B"
          ],
          [
           "Llama 3-70B"
          ],
          [
           "Falcon-180B"
          ],
          [
           "Grok-1"
          ],
          [
           "DBRX"
          ],
          [
           "Chameleon-34B"
          ],
          [
           "Qwen-72B"
          ],
          [
           "XVERSE-65B-2"
          ],
          [
           "Code Llama-70B"
          ],
          [
           "TigerBot-70B"
          ],
          [
           "Llama 2-70B"
          ],
          [
           "DeepSeek LLM 67B"
          ],
          [
           "Yi-34B"
          ],
          [
           "BLOOM-176B"
          ],
          [
           "LLaMA-65B"
          ],
          [
           "Guanaco-65B"
          ],
          [
           "Code Llama-34B"
          ],
          [
           "OPT-175B"
          ],
          [
           "OPT-IML (175B)"
          ],
          [
           "BlenderBot 3"
          ],
          [
           "GLM-130B"
          ],
          [
           "Galactica"
          ],
          [
           "LLaMA-33B"
          ],
          [
           "Falcon-40B"
          ],
          [
           "YaLM"
          ],
          [
           "UL2"
          ],
          [
           "OPT-66B"
          ],
          [
           "Whisper v2"
          ],
          [
           "GPT-NeoX-20B"
          ],
          [
           "Switch"
          ],
          [
           "mT5-XXL"
          ],
          [
           "ByT5-XXL"
          ],
          [
           "ProtT5-XXL"
          ],
          [
           "ESM2-15B"
          ],
          [
           "CodeGeeX"
          ],
          [
           "OPT-30B"
          ],
          [
           "Stable Diffusion (LDM-KL-8-G)"
          ],
          [
           "ProtBERT-BFD"
          ],
          [
           "GLM-10B"
          ],
          [
           "ProtT5-XXL-BFD"
          ],
          [
           "T5-11B"
          ],
          [
           "iGPT-XL"
          ],
          [
           "Fairseq-dense 13B"
          ],
          [
           "CogView"
          ],
          [
           "ResNet-RS"
          ],
          [
           "GPT-J-6B"
          ],
          [
           "mBART-50"
          ],
          [
           "CLIP (ViT L/14@336px)"
          ],
          [
           "iGPT-L"
          ],
          [
           "XLNet"
          ],
          [
           "ResNeXt-101 32x48d"
          ],
          [
           "Grover-Mega"
          ],
          [
           "GPT-2 (1.5B)"
          ],
          [
           "ViT-Huge/14"
          ],
          [
           "RoBERTa Large"
          ],
          [
           "ELECTRA"
          ],
          [
           "ALBERT-xxlarge"
          ],
          [
           "BigGAN-deep 512x512"
          ],
          [
           "Once for All"
          ],
          [
           "MnasNet-A3"
          ],
          [
           "MnasNet-A1 + SSDLite"
          ],
          [
           "T5-3B"
          ],
          [
           "Megatron-LM (355M)"
          ],
          [
           "BERT-Large"
          ],
          [
           "Big Transformer for Back-Translation"
          ],
          [
           "SciBERT"
          ],
          [
           "Transformer (Adaptive Input Embeddings) WT103"
          ],
          [
           "Big-Little Net (vision)"
          ],
          [
           "ProxylessNAS"
          ],
          [
           "KataGo"
          ],
          [
           "GPT"
          ],
          [
           "Transformer-XL (257M)"
          ],
          [
           "BIDAF"
          ],
          [
           "Decoupled weight decay regularization"
          ],
          [
           "AlexNet + coordinating filters"
          ],
          [
           "(ensemble): AWD-LSTM-DOC (fin) × 5 (WT2)"
          ],
          [
           "Big-Little Net (speech)"
          ],
          [
           "ULM-FiT"
          ],
          [
           "Big-Little Net"
          ],
          [
           "DNCON2"
          ],
          [
           "SPIDER2"
          ]
         ],
         "hovertemplate": "Model open/closed=Open<br>Publication date (float)=%{x}<br>Training compute (FLOP)=%{y}<br>System=%{customdata[0]}<extra></extra>",
         "legendgroup": "Open",
         "marker": {
          "color": "#EF553B",
          "symbol": "circle"
         },
         "mode": "markers",
         "name": "Open",
         "orientation": "v",
         "showlegend": true,
         "textposition": "top center",
         "type": "scatter",
         "x": [
          2024.4522594700363,
          2024.2965444351755,
          2023.6803562064242,
          2023.8415470571877,
          2024.2378522734057,
          2024.3744019526057,
          2023.9127326639268,
          2023.9358320223273,
          2024.076661422642,
          2023.6803562064242,
          2023.5465444351755,
          2024.010951631806,
          2023.8360712412848,
          2022.8524986889938,
          2023.1463052162178,
          2023.3935673082663,
          2023.6189261367028,
          2022.3360712412848,
          2022.9741627336482,
          2022.6079745048967,
          2022.5915470571877,
          2022.8744019526057,
          2023.1545189400722,
          2023.2049973779879,
          2022.4769006415997,
          2022.3579745048967,
          2022.4714248256969,
          2022.9276182984727,
          2022.1052365969454,
          2021.027379079515,
          2020.8020202510786,
          2021.4072568480237,
          2021.3415470571877,
          2022.5547581590301,
          2022.4741627336482,
          2022.4714248256969,
          2022.282854895418,
          2021.3415470571877,
          2021.2132111018423,
          2021.3415470571877,
          2019.810233974933,
          2020.4604731938907,
          2021.9686869177453,
          2021.4017810321209,
          2021.1995215620848,
          2021.3333333333333,
          2020.5860712412848,
          2021.010951631806,
          2020.4604731938907,
          2019.4166666666667,
          2018.3360712412848,
          2019.4099947559753,
          2019.1189261367028,
          2020.8074960669815,
          2019.5,
          2020.2269006415997,
          2020.1052365969454,
          2018.7405901813572,
          2020.326661422642,
          2019.4099947559753,
          2019.4099947559753,
          2019.810233974933,
          2019.7104731938907,
          2018.777379079515,
          2018.6572568480237,
          2019.2351143654544,
          2018.7405901813572,
          2018.5246411715634,
          2019.1435673082663,
          2019.1545189400722,
          2018.4166666666667,
          2019.021903263612,
          2016.8442849651392,
          2019.0082137238544,
          2017.2405901813572,
          2018.6627326639268,
          2018.5246411715634,
          2018.0465444351755,
          2018.5246411715634,
          2018.3333333333333,
          2016.8239235146905
         ],
         "xaxis": "x",
         "y": [
          1.8000000000000005e+25,
          6.30000000001e+24,
          3.76e+24,
          2.90000000001e+24,
          2.6e+24,
          1.6453571041e+24,
          1.3e+24,
          1.24800000000001e+24,
          1.230000000001e+24,
          1.02e+24,
          8.1e+23,
          8.04e+23,
          6.1e+23,
          5.770000000000099e+23,
          5.5e+23,
          5.5e+23,
          5.3e+23,
          4.3e+23,
          4.3e+23,
          4.3e+23,
          3.778e+23,
          3.24e+23,
          2.7300000000000996e+23,
          2.4e+23,
          2.2e+23,
          1.2e+23,
          1.100000000001e+23,
          1.1e+23,
          9.31627008e+22,
          8.22e+22,
          8.2e+22,
          8.1e+22,
          7.370000000000001e+22,
          7.350000000009999e+22,
          6.630000000001e+22,
          5.4000000000001e+22,
          5e+22,
          3.9e+22,
          3.79e+22,
          3.7e+22,
          3.3e+22,
          3.3e+22,
          3.267e+22,
          2.68e+22,
          1.763328e+22,
          1.5e+22,
          1.4515200000000002e+22,
          1.05e+22,
          8.91e+21,
          8.9e+21,
          8.74395e+21,
          5.7e+21,
          4.3e+21,
          4.262e+21,
          4.15383552e+21,
          3.0999999999999995e+21,
          2.39e+21,
          1.8e+21,
          1.7842809599999995e+21,
          1.5e+21,
          1.5e+21,
          865865406873600000000,
          335000000000000000000,
          285000000000000000000,
          108084326400000000000,
          89268480000000000000,
          72000000000000000000,
          62988288000000000000,
          37065600000000000000,
          23200000000000000000,
          17578125000000000000,
          10900000000000000000,
          3468614400000000000,
          2470000000000000000,
          1557140125176000000,
          693000000000000000,
          429004800000000000,
          272538000000000000,
          246048000000000000,
          95000000000000000,
          8540000000000
         ],
         "yaxis": "y"
        },
        {
         "line": {
          "width": 0
         },
         "mode": "lines",
         "showlegend": false,
         "textposition": "top center",
         "type": "scatter",
         "x": [
          2015,
          2015.0833333333333,
          2015.1666666666667,
          2015.25,
          2015.3333333333333,
          2015.4166666666667,
          2015.5,
          2015.5833333333333,
          2015.6666666666667,
          2015.75,
          2015.8333333333333,
          2015.9166666666667,
          2016,
          2016.0833333333333,
          2016.1666666666667,
          2016.25,
          2016.3333333333333,
          2016.4166666666667,
          2016.5,
          2016.5833333333333,
          2016.6666666666667,
          2016.75,
          2016.8333333333333,
          2016.9166666666667,
          2017,
          2017.0833333333333,
          2017.1666666666667,
          2017.25,
          2017.3333333333333,
          2017.4166666666667,
          2017.5,
          2017.5833333333333,
          2017.6666666666667,
          2017.75,
          2017.8333333333333,
          2017.9166666666667,
          2018,
          2018.0833333333333,
          2018.1666666666667,
          2018.25,
          2018.3333333333333,
          2018.4166666666667,
          2018.5,
          2018.5833333333333,
          2018.6666666666667,
          2018.75,
          2018.8333333333333,
          2018.9166666666667,
          2019,
          2019.0833333333333,
          2019.1666666666667,
          2019.25,
          2019.3333333333333,
          2019.4166666666667,
          2019.5,
          2019.5833333333333,
          2019.6666666666667,
          2019.75,
          2019.8333333333333,
          2019.9166666666667,
          2020,
          2020.0833333333333,
          2020.1666666666667,
          2020.25,
          2020.3333333333333,
          2020.4166666666667,
          2020.5,
          2020.5833333333333,
          2020.6666666666667,
          2020.75,
          2020.8333333333333,
          2020.9166666666667,
          2021,
          2021.0833333333333,
          2021.1666666666667,
          2021.25,
          2021.3333333333333,
          2021.4166666666667,
          2021.5,
          2021.5833333333333,
          2021.6666666666667,
          2021.75,
          2021.8333333333333,
          2021.9166666666667,
          2022,
          2022.0833333333333,
          2022.1666666666667,
          2022.25,
          2022.3333333333333,
          2022.4166666666667,
          2022.5,
          2022.5833333333333,
          2022.6666666666667,
          2022.75,
          2022.8333333333333,
          2022.9166666666667,
          2023,
          2023.0833333333333,
          2023.1666666666667,
          2023.25,
          2023.3333333333333,
          2023.4166666666667,
          2023.5,
          2023.5833333333333,
          2023.6666666666667,
          2023.75,
          2023.8333333333333,
          2023.9166666666667,
          2024,
          2024.0833333333333,
          2024.1666666666667,
          2024.25,
          2024.3333333333333,
          2024.4166666666667,
          2024.5,
          2024.5833333333333,
          2024.6666666666667,
          2024.75,
          2024.8333333333333,
          2024.9166666666667,
          2025
         ],
         "y": [
          2672569163105139,
          3268440639331061,
          3997049397554863.5,
          4887932608847517,
          5977191567989273,
          7308948097874903,
          8937123437729385,
          10927610838024572,
          13360928763120698,
          16335460717419112,
          19971411010784820,
          24415634175005324,
          29847530342820210,
          36486241050484730,
          44599431258552260,
          54514005890526230,
          66629185275328210,
          81432456470935070,
          99519030091851630,
          121615569260072320,
          148609123852819400,
          181582405637862980,
          221856785790642300,
          271044694890992400,
          331113467938465540,
          404463116634501600,
          494021044346193000,
          603357365308404200,
          736825272197587700,
          899731843410742300,
          1098545827069367700,
          1341150323477169000,
          1637149960008400100,
          1998244170186034400,
          2438680621135353300,
          2975805762895931000,
          3630732997021784600,
          4429153196205607000,
          5402317388127022000,
          6588227506771598000,
          8033078402639208000,
          9793003011721302000,
          11936182971631958000,
          14545399344019673000,
          17721112805702642000,
          21585180112616497000,
          26285334287195345000,
          32000580366595293000,
          38947687290092710000,
          47388990297917180000,
          57641757857056010000,
          70089423530276725000,
          85195037395564360000,
          103517354784240660000,
          125730053596878060000,
          152644656847480030000,
          185237836215914360000,
          224683887439635220000,
          272393301959782200000,
          330058514521547400000,
          399708087308592200000,
          483770802451456100000,
          585151382295928800000,
          707319847941570000000,
          854416870150670000000,
          1.0313778735254847e+21,
          1.244079137712954e+21,
          1.499509713378612e+21,
          1.8059736532291612e+21,
          2.1733278694305652e+21,
          2.613261890892454e+21,
          3.139626932443116e+21,
          3.768823031672638e+21,
          4.5202545908435607e+21,
          5.416866518493911e+21,
          6.485775342655649e+21,
          7.759012217542074e+21,
          9.274397731022623e+21,
          1.1076571916964677e+22,
          1.3218206974806357e+22,
          1.5761435005986823e+22,
          1.8779528720828697e+22,
          2.2358879699933877e+22,
          2.6601326586860996e+22,
          3.162689475051028e+22,
          3.7577019727031537e+22,
          4.4618339413975745e+22,
          5.294715487551885e+22,
          6.279467711388663e+22,
          7.443319772277947e+22,
          8.818334549944645e+22,
          1.044226194792915e+23,
          1.2359542220610036e+23,
          1.4622485623092804e+23,
          1.729265928579648e+23,
          2.044251762191358e+23,
          2.415731892683039e+23,
          2.8537378288494363e+23,
          3.370071568983649e+23,
          3.978616847665504e+23,
          4.6957049453158483e+23,
          5.540544606559059e+23,
          6.535727281100461e+23,
          7.7078208594792e+23,
          9.088067376331125e+23,
          1.0713202855467592e+24,
          1.2626420643979437e+24,
          1.4878503308649043e+24,
          1.752915254406016e+24,
          2.0648551680828025e+24,
          2.431920141715149e+24,
          2.8638076484005996e+24,
          3.3719159276679846e+24,
          3.9696416257833667e+24,
          4.672729441328098e+24,
          5.499682851751869e+24,
          6.472246578896136e+24,
          7.615973309554621e+24,
          8.960889368873456e+24,
          1.0542276606050835e+25,
          1.2401590759798672e+25
         ]
        },
        {
         "fill": "tonexty",
         "fillcolor": "rgba(230,100,0,0.2)",
         "line": {
          "width": 0
         },
         "mode": "lines",
         "name": "95% CI of mean",
         "textposition": "top center",
         "type": "scatter",
         "x": [
          2015,
          2015.0833333333333,
          2015.1666666666667,
          2015.25,
          2015.3333333333333,
          2015.4166666666667,
          2015.5,
          2015.5833333333333,
          2015.6666666666667,
          2015.75,
          2015.8333333333333,
          2015.9166666666667,
          2016,
          2016.0833333333333,
          2016.1666666666667,
          2016.25,
          2016.3333333333333,
          2016.4166666666667,
          2016.5,
          2016.5833333333333,
          2016.6666666666667,
          2016.75,
          2016.8333333333333,
          2016.9166666666667,
          2017,
          2017.0833333333333,
          2017.1666666666667,
          2017.25,
          2017.3333333333333,
          2017.4166666666667,
          2017.5,
          2017.5833333333333,
          2017.6666666666667,
          2017.75,
          2017.8333333333333,
          2017.9166666666667,
          2018,
          2018.0833333333333,
          2018.1666666666667,
          2018.25,
          2018.3333333333333,
          2018.4166666666667,
          2018.5,
          2018.5833333333333,
          2018.6666666666667,
          2018.75,
          2018.8333333333333,
          2018.9166666666667,
          2019,
          2019.0833333333333,
          2019.1666666666667,
          2019.25,
          2019.3333333333333,
          2019.4166666666667,
          2019.5,
          2019.5833333333333,
          2019.6666666666667,
          2019.75,
          2019.8333333333333,
          2019.9166666666667,
          2020,
          2020.0833333333333,
          2020.1666666666667,
          2020.25,
          2020.3333333333333,
          2020.4166666666667,
          2020.5,
          2020.5833333333333,
          2020.6666666666667,
          2020.75,
          2020.8333333333333,
          2020.9166666666667,
          2021,
          2021.0833333333333,
          2021.1666666666667,
          2021.25,
          2021.3333333333333,
          2021.4166666666667,
          2021.5,
          2021.5833333333333,
          2021.6666666666667,
          2021.75,
          2021.8333333333333,
          2021.9166666666667,
          2022,
          2022.0833333333333,
          2022.1666666666667,
          2022.25,
          2022.3333333333333,
          2022.4166666666667,
          2022.5,
          2022.5833333333333,
          2022.6666666666667,
          2022.75,
          2022.8333333333333,
          2022.9166666666667,
          2023,
          2023.0833333333333,
          2023.1666666666667,
          2023.25,
          2023.3333333333333,
          2023.4166666666667,
          2023.5,
          2023.5833333333333,
          2023.6666666666667,
          2023.75,
          2023.8333333333333,
          2023.9166666666667,
          2024,
          2024.0833333333333,
          2024.1666666666667,
          2024.25,
          2024.3333333333333,
          2024.4166666666667,
          2024.5,
          2024.5833333333333,
          2024.6666666666667,
          2024.75,
          2024.8333333333333,
          2024.9166666666667,
          2025
         ],
         "y": [
          71529753554011100,
          84028654361940200,
          98714471304320690,
          115970481045606020,
          136247274013156850,
          160074608318484130,
          188075358423737660,
          220981930413939970,
          259655582145554400,
          305109164911116400,
          358533895762451840,
          421330878841154750,
          495148223044390660,
          581924755719068800,
          683941512121706100,
          803882393223303800,
          944905636126684200,
          1110728039092674400,
          1305724235533768200,
          1535043728504449000,
          1804748891333054000,
          2121977725604538000,
          2495135861972280300,
          2934123112828678000,
          3450600863420680000,
          4058307748978160600,
          4773432445094650000,
          5615054039375276000,
          6605662404957453000,
          7771773321840113000,
          9144655863580357000,
          10761192873113274000,
          12664899298609506000,
          14907127877432453000,
          17548497298717989000,
          20660584731045370000,
          24327932699873510000,
          28650430016870640000,
          33746138136477057000,
          39754648355148710000,
          46841072175192736000,
          55200787537497700000,
          65065088232997410000,
          76707913542129120000,
          90453871141100220000,
          106687809923725900000,
          125866252294492600000,
          148531059749791370000,
          175325783709117300000,
          207015248685010420000,
          244509030790693100000,
          288889635949076150000,
          341446354699678300000,
          403715981197487200000,
          477531841430481530000,
          565082890298151860000,
          668985021733907000000,
          792367206055190900000,
          938975643039991900000,
          1.1132998207506523e+21,
          1.320725226653848e+21,
          1.567718502760624e+21,
          1.8620521111194386e+21,
          2.2130771295554188e+21,
          2.6320546901236845e+21,
          3.132558877411805e+21,
          3.7309667097909e+21,
          4.447054242874439e+21,
          5.304721994138821e+21,
          6.332877954628097e+21,
          7.566512628610163e+21,
          9.048008071347596e+21,
          1.0828732081225932e+22,
          1.2970979915464438e+22,
          1.5550339591277432e+22,
          1.8658573560366924e+22,
          2.2407129979258667e+22,
          2.6931421765092667e+22,
          3.239604213218411e+22,
          3.900112257573185e+22,
          4.699008480344186e+22,
          5.665909374510664e+22,
          6.836858673096805e+22,
          8.255733695613266e+22,
          9.97596107867083e+22,
          1.2062610240177477e+23,
          1.4594948070290251e+23,
          1.7669556847768125e+23,
          2.1404139995009562e+23,
          2.5942167922763622e+23,
          3.1458549994722144e+23,
          3.816655992930887e+23,
          4.632629242191789e+23,
          5.62549904602073e+23,
          6.833965821660335e+23,
          8.305246659101333e+23,
          1.0096957118249851e+24,
          1.227941002611667e+24,
          1.49384238779194e+24,
          1.817875404436135e+24,
          2.2128285173319103e+24,
          2.694315397021482e+24,
          3.281400919912698e+24,
          3.9973661795923004e+24,
          4.870643429649265e+24,
          5.935958764812533e+24,
          7.235728768981448e+24,
          8.821767658274343e+24,
          1.0757374043756615e+25,
          1.3119881844589815e+25,
          1.6003778724844763e+25,
          1.952451847370572e+25,
          2.3823181937550883e+25,
          2.9072175591230796e+25,
          3.5482199010220084e+25,
          4.331076409307632e+25,
          5.287261198692979e+25,
          6.4552450860840035e+25,
          7.88205320992525e+25,
          9.625169799985041e+25,
          1.1754867537005791e+26
         ]
        },
        {
         "line": {
          "color": "rgb(230,100,0)"
         },
         "mode": "lines",
         "name": "Regression mean (growth rate: 8.8x per year)",
         "textposition": "top center",
         "type": "scatter",
         "x": [
          2015,
          2015.0833333333333,
          2015.1666666666667,
          2015.25,
          2015.3333333333333,
          2015.4166666666667,
          2015.5,
          2015.5833333333333,
          2015.6666666666667,
          2015.75,
          2015.8333333333333,
          2015.9166666666667,
          2016,
          2016.0833333333333,
          2016.1666666666667,
          2016.25,
          2016.3333333333333,
          2016.4166666666667,
          2016.5,
          2016.5833333333333,
          2016.6666666666667,
          2016.75,
          2016.8333333333333,
          2016.9166666666667,
          2017,
          2017.0833333333333,
          2017.1666666666667,
          2017.25,
          2017.3333333333333,
          2017.4166666666667,
          2017.5,
          2017.5833333333333,
          2017.6666666666667,
          2017.75,
          2017.8333333333333,
          2017.9166666666667,
          2018,
          2018.0833333333333,
          2018.1666666666667,
          2018.25,
          2018.3333333333333,
          2018.4166666666667,
          2018.5,
          2018.5833333333333,
          2018.6666666666667,
          2018.75,
          2018.8333333333333,
          2018.9166666666667,
          2019,
          2019.0833333333333,
          2019.1666666666667,
          2019.25,
          2019.3333333333333,
          2019.4166666666667,
          2019.5,
          2019.5833333333333,
          2019.6666666666667,
          2019.75,
          2019.8333333333333,
          2019.9166666666667,
          2020,
          2020.0833333333333,
          2020.1666666666667,
          2020.25,
          2020.3333333333333,
          2020.4166666666667,
          2020.5,
          2020.5833333333333,
          2020.6666666666667,
          2020.75,
          2020.8333333333333,
          2020.9166666666667,
          2021,
          2021.0833333333333,
          2021.1666666666667,
          2021.25,
          2021.3333333333333,
          2021.4166666666667,
          2021.5,
          2021.5833333333333,
          2021.6666666666667,
          2021.75,
          2021.8333333333333,
          2021.9166666666667,
          2022,
          2022.0833333333333,
          2022.1666666666667,
          2022.25,
          2022.3333333333333,
          2022.4166666666667,
          2022.5,
          2022.5833333333333,
          2022.6666666666667,
          2022.75,
          2022.8333333333333,
          2022.9166666666667,
          2023,
          2023.0833333333333,
          2023.1666666666667,
          2023.25,
          2023.3333333333333,
          2023.4166666666667,
          2023.5,
          2023.5833333333333,
          2023.6666666666667,
          2023.75,
          2023.8333333333333,
          2023.9166666666667,
          2024,
          2024.0833333333333,
          2024.1666666666667,
          2024.25,
          2024.3333333333333,
          2024.4166666666667,
          2024.5,
          2024.5833333333333,
          2024.6666666666667,
          2024.75,
          2024.8333333333333,
          2024.9166666666667,
          2025
         ],
         "y": [
          13826359375951412,
          16572346508110052,
          19863701016096720,
          23808735707016200,
          28537274876781100,
          34204926604035490,
          40998203543913160,
          49140660738323020,
          58900252427246750,
          70598149961100910,
          84619310996780210,
          101425147790965170,
          121568711482482030,
          145712892052866720,
          174652232893663040,
          209339077860454700,
          250914911269112700,
          300747922178127940,
          360478029133184600,
          432070847062345150,
          517882372277095700,
          620736514251605100,
          744018025620437400,
          891783888556671500,
          1068896823065109900,
          1281185310723494000,
          1535635399970208000,
          1840620604921552000,
          2206177463301206800,
          2644335821606180400,
          3169514716628024300,
          3798996881122182700,
          4553497488769371000,
          5457845854849431000,
          6541802526248377000,
          7841038649786423000,
          9398309848199092000,
          11264863234051609000,
          13502123863926980000,
          16183716131204940000,
          19397886618057265000,
          23250408138441413000,
          27868060539162653000,
          33402802806303590000,
          40036773773668720000,
          47988285997983060000,
          57519010049175970000,
          68942585638042075000,
          82634942958733440000,
          99046673904048240000,
          118717860268371510000,
          142295846908974320000,
          170556544750467500000,
          204429964676629820000,
          245030822586201000000,
          293695222773445170000,
          352024626818700500000,
          421938554929699160000,
          505737754045981000000,
          606179911457040400000,
          726570405539626000000,
          870871080067826300000,
          1.0438306216664617e+21,
          1.2511408309059796e+21,
          1.4996239296573224e+21,
          1.797457068660714e+21,
          2.154441423467438e+21,
          2.58232473424854e+21,
          3.095187903685327e+21,
          3.709908375215711e+21,
          4.4467155406325945e+21,
          5.329856454517852e+21,
          6.388393763031258e+21,
          7.657162105546528e+21,
          9.177914462621725e+21,
          1.1000696174649786e+22,
          1.3185491847827341e+22,
          1.58041993442056e+22,
          1.894299581645298e+22,
          2.270517364954112e+22,
          2.7214539635188725e+22,
          3.261948924005947e+22,
          3.909789004501663e+22,
          4.686293506078779e+22,
          5.617015854262024e+22,
          6.732584518256282e+22,
          8.069710941102913e+22,
          9.672397650017102e+22,
          1.159338630378136e+23,
          1.389589332987488e+23,
          1.66556902681822e+23,
          1.9963597281882328e+23,
          2.3928471892559728e+23,
          2.8680791293679538e+23,
          3.4376946130328446e+23,
          4.120438704592241e+23,
          4.938779335990746e+23,
          5.9196466877240393e+23,
          7.095319414684771e+23,
          8.504486881080098e+23,
          1.0193522360779608e+24,
          1.2218009101869422e+24,
          1.464456947557748e+24,
          1.7553057403779606e+24,
          2.1039186214000062e+24,
          2.521767840010803e+24,
          3.0226040942026013e+24,
          3.6229090423548853e+24,
          4.3424376862140806e+24,
          5.204868473980588e+24,
          6.238582517247197e+24,
          7.477597564481339e+24,
          8.962687466544846e+24,
          1.0742723973882646e+25,
          1.2876285021624758e+25,
          1.543358242855373e+25,
          1.8498772447103324e+25,
          2.217272520062642e+25,
          2.6576344145445223e+25,
          3.185454479531128e+25,
          3.8181023641278714e+25
         ]
        },
        {
         "line": {
          "width": 0
         },
         "mode": "lines",
         "showlegend": false,
         "textposition": "top center",
         "type": "scatter",
         "x": [
          2015,
          2015.0833333333333,
          2015.1666666666667,
          2015.25,
          2015.3333333333333,
          2015.4166666666667,
          2015.5,
          2015.5833333333333,
          2015.6666666666667,
          2015.75,
          2015.8333333333333,
          2015.9166666666667,
          2016,
          2016.0833333333333,
          2016.1666666666667,
          2016.25,
          2016.3333333333333,
          2016.4166666666667,
          2016.5,
          2016.5833333333333,
          2016.6666666666667,
          2016.75,
          2016.8333333333333,
          2016.9166666666667,
          2017,
          2017.0833333333333,
          2017.1666666666667,
          2017.25,
          2017.3333333333333,
          2017.4166666666667,
          2017.5,
          2017.5833333333333,
          2017.6666666666667,
          2017.75,
          2017.8333333333333,
          2017.9166666666667,
          2018,
          2018.0833333333333,
          2018.1666666666667,
          2018.25,
          2018.3333333333333,
          2018.4166666666667,
          2018.5,
          2018.5833333333333,
          2018.6666666666667,
          2018.75,
          2018.8333333333333,
          2018.9166666666667,
          2019,
          2019.0833333333333,
          2019.1666666666667,
          2019.25,
          2019.3333333333333,
          2019.4166666666667,
          2019.5,
          2019.5833333333333,
          2019.6666666666667,
          2019.75,
          2019.8333333333333,
          2019.9166666666667,
          2020,
          2020.0833333333333,
          2020.1666666666667,
          2020.25,
          2020.3333333333333,
          2020.4166666666667,
          2020.5,
          2020.5833333333333,
          2020.6666666666667,
          2020.75,
          2020.8333333333333,
          2020.9166666666667,
          2021,
          2021.0833333333333,
          2021.1666666666667,
          2021.25,
          2021.3333333333333,
          2021.4166666666667,
          2021.5,
          2021.5833333333333,
          2021.6666666666667,
          2021.75,
          2021.8333333333333,
          2021.9166666666667,
          2022,
          2022.0833333333333,
          2022.1666666666667,
          2022.25,
          2022.3333333333333,
          2022.4166666666667,
          2022.5,
          2022.5833333333333,
          2022.6666666666667,
          2022.75,
          2022.8333333333333,
          2022.9166666666667,
          2023,
          2023.0833333333333,
          2023.1666666666667,
          2023.25,
          2023.3333333333333,
          2023.4166666666667,
          2023.5,
          2023.5833333333333,
          2023.6666666666667,
          2023.75,
          2023.8333333333333,
          2023.9166666666667,
          2024,
          2024.0833333333333,
          2024.1666666666667,
          2024.25,
          2024.3333333333333,
          2024.4166666666667,
          2024.5,
          2024.5833333333333,
          2024.6666666666667,
          2024.75,
          2024.8333333333333,
          2024.9166666666667,
          2025
         ],
         "y": [
          985301036012664.2,
          1247181882126890.5,
          1578579639324095,
          1997919801917018.5,
          2528502600731939.5,
          3199789800233444,
          4049030237874400,
          5123312971509207,
          6482160113059891,
          8200800668997811,
          10374303535856752,
          13122794164559982,
          16598037761802212,
          20991745313564560,
          26546051047798936,
          33566726027888184,
          42439838428677780,
          53652754252741624,
          67820602250013600,
          85719615417295890,
          108329123414044110,
          136884423923972910,
          172943329323267040,
          218469896498827600,
          275939737759542720,
          348472423551080770,
          439997877777035100,
          555465401709590660,
          701106126611389300,
          884762391971674600,
          1116300903758249200,
          1408130703192923400,
          1775852165709245000,
          2239069691151868200,
          2822408733638116000,
          3556787713080950300,
          4481007591644830000,
          5643737027442201000,
          7105989694651226000,
          8944213390366243000,
          11254138917574975000,
          14155571640362435000,
          17798351514959643000,
          22369760091714413000,
          28103717632396550000,
          35292192747247546000,
          44299344063234466000,
          55579032341583675000,
          69696487002891440000,
          87355089103632830000,
          109429450677103760000,
          137006236877988660000,
          171434503425158450000,
          214387720750725560000,
          267940144383800080000,
          334660788451173400000,
          417728990290833600000,
          521076449085643160000,
          649561716853107600000,
          809184460950455600000,
          1.0073484583233031e+21,
          1.2531842899802886e+21,
          1.5579451613228638e+21,
          1.9354922797982076e+21,
          2.4028898976274055e+21,
          2.9811346227282324e+21,
          3.6960490970070573e+21,
          4.579376859595513e+21,
          5.670123424041324e+21,
          7.016198633777037e+21,
          8.676427623217006e+21,
          1.0723012695739628e+22,
          1.3244546737299375e+22,
          1.6349701150951722e+22,
          2.0171738621157996e+22,
          2.487403439450801e+22,
          3.065683053401023e+22,
          3.776549740130867e+22,
          4.6500637441186305e+22,
          5.723044062029137e+22,
          7.040579157905432e+22,
          8.657873932219102e+22,
          1.0642507552649661e+23,
          1.3077193268794689e+23,
          1.6063151496310216e+23,
          1.9724232073020924e+23,
          2.4211951642477098e+23,
          2.9711648808674647e+23,
          3.645000449178858e+23,
          4.4704229583444476e+23,
          5.4813288730590606e+23,
          6.719161052676613e+23,
          8.234583380049072e+23,
          1.0089526102163775e+24,
          1.2359683792456364e+24,
          1.5137565915992157e+24,
          1.8536222032553837e+24,
          2.2693790585538448e+24,
          2.7779053065773116e+24,
          3.399821541435648e+24,
          4.1603187428969747e+24,
          5.090169060492e+24,
          6.226959764576902e+24,
          7.616599570749186e+24,
          9.315157381872688e+24,
          1.1391106714980145e+25,
          1.392806521281743e+25,
          1.702813832133161e+25,
          2.0816000225745636e+25,
          2.5443874430505066e+25,
          3.109761210293652e+25,
          3.8004109893592553e+25,
          4.644036212453974e+25,
          5.674450710604698e+25,
          6.932930647245636e+25,
          8.469859295208804e+25,
          1.0346733972382161e+26,
          1.2638614812727893e+26,
          1.5437112566700364e+26,
          1.885403399126176e+26,
          2.3025829450502076e+26
         ]
        },
        {
         "fill": "tonexty",
         "fillcolor": "rgba(0,100,200,0.2)",
         "line": {
          "width": 0
         },
         "mode": "lines",
         "name": "95% CI of mean",
         "textposition": "top center",
         "type": "scatter",
         "x": [
          2015,
          2015.0833333333333,
          2015.1666666666667,
          2015.25,
          2015.3333333333333,
          2015.4166666666667,
          2015.5,
          2015.5833333333333,
          2015.6666666666667,
          2015.75,
          2015.8333333333333,
          2015.9166666666667,
          2016,
          2016.0833333333333,
          2016.1666666666667,
          2016.25,
          2016.3333333333333,
          2016.4166666666667,
          2016.5,
          2016.5833333333333,
          2016.6666666666667,
          2016.75,
          2016.8333333333333,
          2016.9166666666667,
          2017,
          2017.0833333333333,
          2017.1666666666667,
          2017.25,
          2017.3333333333333,
          2017.4166666666667,
          2017.5,
          2017.5833333333333,
          2017.6666666666667,
          2017.75,
          2017.8333333333333,
          2017.9166666666667,
          2018,
          2018.0833333333333,
          2018.1666666666667,
          2018.25,
          2018.3333333333333,
          2018.4166666666667,
          2018.5,
          2018.5833333333333,
          2018.6666666666667,
          2018.75,
          2018.8333333333333,
          2018.9166666666667,
          2019,
          2019.0833333333333,
          2019.1666666666667,
          2019.25,
          2019.3333333333333,
          2019.4166666666667,
          2019.5,
          2019.5833333333333,
          2019.6666666666667,
          2019.75,
          2019.8333333333333,
          2019.9166666666667,
          2020,
          2020.0833333333333,
          2020.1666666666667,
          2020.25,
          2020.3333333333333,
          2020.4166666666667,
          2020.5,
          2020.5833333333333,
          2020.6666666666667,
          2020.75,
          2020.8333333333333,
          2020.9166666666667,
          2021,
          2021.0833333333333,
          2021.1666666666667,
          2021.25,
          2021.3333333333333,
          2021.4166666666667,
          2021.5,
          2021.5833333333333,
          2021.6666666666667,
          2021.75,
          2021.8333333333333,
          2021.9166666666667,
          2022,
          2022.0833333333333,
          2022.1666666666667,
          2022.25,
          2022.3333333333333,
          2022.4166666666667,
          2022.5,
          2022.5833333333333,
          2022.6666666666667,
          2022.75,
          2022.8333333333333,
          2022.9166666666667,
          2023,
          2023.0833333333333,
          2023.1666666666667,
          2023.25,
          2023.3333333333333,
          2023.4166666666667,
          2023.5,
          2023.5833333333333,
          2023.6666666666667,
          2023.75,
          2023.8333333333333,
          2023.9166666666667,
          2024,
          2024.0833333333333,
          2024.1666666666667,
          2024.25,
          2024.3333333333333,
          2024.4166666666667,
          2024.5,
          2024.5833333333333,
          2024.6666666666667,
          2024.75,
          2024.8333333333333,
          2024.9166666666667,
          2025
         ],
         "y": [
          14773983314675404,
          18039946945096852,
          22029115388500108,
          26901965345927548,
          32854673910810220,
          40127085895053550,
          49012466306635020,
          59869439957061530,
          73136611264031380,
          89350469207391170,
          109167319893486020,
          133390158203502260,
          163001597856345440,
          199204234929564400,
          243470134601918820,
          297601518406141760,
          363805206669321800,
          444783959194936600,
          543848582795776300,
          665055569476534100,
          813376134166528800,
          994903885966597600,
          1217110054080946400,
          1489157276294190600,
          1822285540396038400,
          2230287067352539400,
          2730090888970285600,
          3342482789270340000,
          4092992381272046600,
          5012986671428343000,
          6141018888254746000,
          7524493077750776000,
          9221719570259575000,
          11304454622436235000,
          13861040239101917000,
          17000288520443032000,
          20856290291614564000,
          25594372054722523000,
          31418480724533813000,
          38580345026059530000,
          47390849443782525000,
          58234165756082864000,
          71585324188104450000,
          88032078288117090000,
          108302133878059970000,
          133297084333575320000,
          164134736495046920000,
          202201941967070330000,
          249220590479819000000,
          307330104428182770000,
          379190633335344900000,
          468112230068322100000,
          578216655508193000000,
          714640178660606500000,
          883787907807170700000,
          1.0936529225085184e+21,
          1.3542169241226786e+21,
          1.6779534710173157e+21,
          2.0804603500159275e+21,
          2.581254556230018e+21,
          3.204772086501726e+21,
          3.9816257738608927e+21,
          4.950188304208086e+21,
          6.158585123777004e+21,
          7.667204129895788e+21,
          9.551857055847921e+21,
          1.1907762853391213e+22,
          1.4854568090935878e+22,
          1.854267588401579e+22,
          2.3161226272721624e+22,
          2.894816119766504e+22,
          3.620292128490633e+22,
          4.530246583644299e+22,
          5.67214897119134e+22,
          7.105794126983079e+22,
          8.906523698389428e+22,
          1.1169293691910987e+23,
          1.4013811139001102e+23,
          1.759102187109846e+23,
          2.2091305973793707e+23,
          2.775483183427177e+23,
          3.488463905374473e+23,
          4.386317150939103e+23,
          5.5173172926116464e+23,
          6.94240991033162e+23,
          8.738550691159146e+23,
          1.1002926738971268e+24,
          1.3858294033871325e+24,
          1.745972680795924e+24,
          2.2003153114616297e+24,
          2.773615024886639e+24,
          3.497159948024839e+24,
          4.4104958819642995e+24,
          5.563611416571329e+24,
          7.019702444481789e+24,
          8.858669955576512e+24,
          1.118154591542047e+25,
          1.4116093847763571e+25,
          1.7823896354659444e+25,
          2.250932489538998e+25,
          2.843089236430362e+25,
          3.5915622257135185e+25,
          4.537723696948467e+25,
          5.733918149673017e+25,
          7.246376949370347e+25,
          9.15890815001741e+25,
          1.1577567939178289e+26,
          1.4636575115888914e+26,
          1.850579968459504e+26,
          2.3400244904187098e+26,
          2.9592053928518302e+26,
          3.7425713797801984e+26,
          4.733730894978205e+26,
          5.9878903701970316e+26,
          7.574942109450243e+26,
          9.58337502715916e+26,
          1.2125227673788124e+27,
          1.5342361536089473e+27,
          1.941440678507354e+27,
          2.4568826638488887e+27,
          3.109366559765851e+27
         ]
        },
        {
         "line": {
          "color": "rgb(0,100,200)"
         },
         "mode": "lines",
         "name": "Regression mean (growth rate: 13.6x per year)",
         "textposition": "top center",
         "type": "scatter",
         "x": [
          2015,
          2015.0833333333333,
          2015.1666666666667,
          2015.25,
          2015.3333333333333,
          2015.4166666666667,
          2015.5,
          2015.5833333333333,
          2015.6666666666667,
          2015.75,
          2015.8333333333333,
          2015.9166666666667,
          2016,
          2016.0833333333333,
          2016.1666666666667,
          2016.25,
          2016.3333333333333,
          2016.4166666666667,
          2016.5,
          2016.5833333333333,
          2016.6666666666667,
          2016.75,
          2016.8333333333333,
          2016.9166666666667,
          2017,
          2017.0833333333333,
          2017.1666666666667,
          2017.25,
          2017.3333333333333,
          2017.4166666666667,
          2017.5,
          2017.5833333333333,
          2017.6666666666667,
          2017.75,
          2017.8333333333333,
          2017.9166666666667,
          2018,
          2018.0833333333333,
          2018.1666666666667,
          2018.25,
          2018.3333333333333,
          2018.4166666666667,
          2018.5,
          2018.5833333333333,
          2018.6666666666667,
          2018.75,
          2018.8333333333333,
          2018.9166666666667,
          2019,
          2019.0833333333333,
          2019.1666666666667,
          2019.25,
          2019.3333333333333,
          2019.4166666666667,
          2019.5,
          2019.5833333333333,
          2019.6666666666667,
          2019.75,
          2019.8333333333333,
          2019.9166666666667,
          2020,
          2020.0833333333333,
          2020.1666666666667,
          2020.25,
          2020.3333333333333,
          2020.4166666666667,
          2020.5,
          2020.5833333333333,
          2020.6666666666667,
          2020.75,
          2020.8333333333333,
          2020.9166666666667,
          2021,
          2021.0833333333333,
          2021.1666666666667,
          2021.25,
          2021.3333333333333,
          2021.4166666666667,
          2021.5,
          2021.5833333333333,
          2021.6666666666667,
          2021.75,
          2021.8333333333333,
          2021.9166666666667,
          2022,
          2022.0833333333333,
          2022.1666666666667,
          2022.25,
          2022.3333333333333,
          2022.4166666666667,
          2022.5,
          2022.5833333333333,
          2022.6666666666667,
          2022.75,
          2022.8333333333333,
          2022.9166666666667,
          2023,
          2023.0833333333333,
          2023.1666666666667,
          2023.25,
          2023.3333333333333,
          2023.4166666666667,
          2023.5,
          2023.5833333333333,
          2023.6666666666667,
          2023.75,
          2023.8333333333333,
          2023.9166666666667,
          2024,
          2024.0833333333333,
          2024.1666666666667,
          2024.25,
          2024.3333333333333,
          2024.4166666666667,
          2024.5,
          2024.5833333333333,
          2024.6666666666667,
          2024.75,
          2024.8333333333333,
          2024.9166666666667,
          2025
         ],
         "y": [
          3815340229387616.5,
          4743321092278619,
          5897008820122920,
          7331300653711731,
          9114446139491058,
          11331294725673812,
          14087333250419166,
          17513705442567112,
          21773452283459068,
          27069270172120250,
          33653156059588188,
          41838398507622780,
          52014485256068040,
          64665636662951810,
          80393846914779580,
          99947529403294830,
          124257129334930900,
          154479398167676030,
          192052436636523650,
          238764125543724030,
          296837200532824060,
          369035019056809540,
          458793052372832300,
          570382359494460350,
          709112821869615700,
          881585809535845400,
          1096008301649830000,
          1362583408547690500,
          1693995878000761600,
          2106015688055306000,
          2618248447904677400,
          3255068313990274000,
          4046777813323681000,
          5031049763230196000,
          6254719900055526000,
          7776015517496277000,
          9667326162402572000,
          12018648229288077000,
          14941867361549408000,
          18576082433791880000,
          23094224452494810000,
          28711285329587245000,
          35694548088079585000,
          44376305295508775000,
          55169670920669860000,
          68588238007304510000,
          85270517558663900000,
          106010321535777010000,
          131794535718403870000,
          163850079818572820000,
          203702289402426360000,
          253247497674160770000,
          314843270865367200000,
          391420591001468340000,
          486623324166145840000,
          604981610744186900000,
          752127428265001500000,
          935062584220239500000,
          1.1624918910689929e+21,
          1.4452373772702167e+21,
          1.7967532442199927e+21,
          2.233766072887463e+21,
          2.777070743819469e+21,
          3.45251994368613e+21,
          4.292254343206342e+21,
          5.336231983388578e+21,
          6.634129644621876e+21,
          8.24770667367103e+21,
          1.025374374920517e+22,
          1.274769642450236e+22,
          1.5848237298095952e+22,
          1.970290294755859e+22,
          2.4495114330937045e+22,
          3.0452904715750298e+22,
          3.785977044638045e+22,
          4.70681608743362e+22,
          5.851624935840511e+22,
          7.274878336799706e+22,
          9.04430058239955e+22,
          1.1244088112238754e+23,
          1.3978915928767296e+23,
          1.737891846745041e+23,
          2.160588193228551e+23,
          2.6860942753512126e+23,
          3.3394158492039026e+23,
          4.151640661404602e+23,
          5.1614177328490914e+23,
          6.416796439203413e+23,
          7.977512899240689e+23,
          9.917832466801849e+23,
          1.2330083583926573e+24,
          1.5329051150592808e+24,
          1.9057438465701022e+24,
          2.369265764109058e+24,
          2.9455271604744693e+24,
          3.661948939848271e+24,
          4.5526214179901816e+24,
          5.659926480679357e+24,
          7.036554289387133e+24,
          8.748010497394284e+24,
          1.0875733280128693e+25,
          1.352096850087254e+25,
          1.6809587408281398e+25,
          2.0898076111812416e+25,
          2.5980981838983544e+25,
          3.2300170298242966e+25,
          4.0156334651297486e+25,
          4.99233037392275e+25,
          6.206583040708743e+25,
          7.7161706369494095e+25,
          9.592925593364315e+25,
          1.1926151684503303e+26,
          1.4826873472276935e+26,
          1.8433119314480546e+26,
          2.2916489325749503e+26,
          2.8490320821860877e+26,
          3.541983979286918e+26,
          4.403478145423763e+26,
          5.474508041430678e+26,
          6.806037706092193e+26,
          8.461426836193933e+26
         ]
        }
       ],
       "layout": {
        "autosize": false,
        "font": {
         "size": 14
        },
        "height": 600,
        "legend": {
         "orientation": "h",
         "title": {
          "text": "Model open/closed"
         },
         "tracegroupgap": 0,
         "x": 0.5,
         "xanchor": "center",
         "y": -0.15,
         "yanchor": "top"
        },
        "margin": {
         "b": 10,
         "l": 10,
         "r": 10,
         "t": 40
        },
        "template": {
         "data": {
          "bar": [
           {
            "error_x": {
             "color": "#2a3f5f"
            },
            "error_y": {
             "color": "#2a3f5f"
            },
            "marker": {
             "line": {
              "color": "#E5ECF6",
              "width": 0.5
             },
             "pattern": {
              "fillmode": "overlay",
              "size": 10,
              "solidity": 0.2
             }
            },
            "type": "bar"
           }
          ],
          "barpolar": [
           {
            "marker": {
             "line": {
              "color": "#E5ECF6",
              "width": 0.5
             },
             "pattern": {
              "fillmode": "overlay",
              "size": 10,
              "solidity": 0.2
             }
            },
            "type": "barpolar"
           }
          ],
          "carpet": [
           {
            "aaxis": {
             "endlinecolor": "#2a3f5f",
             "gridcolor": "white",
             "linecolor": "white",
             "minorgridcolor": "white",
             "startlinecolor": "#2a3f5f"
            },
            "baxis": {
             "endlinecolor": "#2a3f5f",
             "gridcolor": "white",
             "linecolor": "white",
             "minorgridcolor": "white",
             "startlinecolor": "#2a3f5f"
            },
            "type": "carpet"
           }
          ],
          "choropleth": [
           {
            "colorbar": {
             "outlinewidth": 0,
             "ticks": ""
            },
            "type": "choropleth"
           }
          ],
          "contour": [
           {
            "colorbar": {
             "outlinewidth": 0,
             "ticks": ""
            },
            "colorscale": [
             [
              0,
              "#0d0887"
             ],
             [
              0.1111111111111111,
              "#46039f"
             ],
             [
              0.2222222222222222,
              "#7201a8"
             ],
             [
              0.3333333333333333,
              "#9c179e"
             ],
             [
              0.4444444444444444,
              "#bd3786"
             ],
             [
              0.5555555555555556,
              "#d8576b"
             ],
             [
              0.6666666666666666,
              "#ed7953"
             ],
             [
              0.7777777777777778,
              "#fb9f3a"
             ],
             [
              0.8888888888888888,
              "#fdca26"
             ],
             [
              1,
              "#f0f921"
             ]
            ],
            "type": "contour"
           }
          ],
          "contourcarpet": [
           {
            "colorbar": {
             "outlinewidth": 0,
             "ticks": ""
            },
            "type": "contourcarpet"
           }
          ],
          "heatmap": [
           {
            "colorbar": {
             "outlinewidth": 0,
             "ticks": ""
            },
            "colorscale": [
             [
              0,
              "#0d0887"
             ],
             [
              0.1111111111111111,
              "#46039f"
             ],
             [
              0.2222222222222222,
              "#7201a8"
             ],
             [
              0.3333333333333333,
              "#9c179e"
             ],
             [
              0.4444444444444444,
              "#bd3786"
             ],
             [
              0.5555555555555556,
              "#d8576b"
             ],
             [
              0.6666666666666666,
              "#ed7953"
             ],
             [
              0.7777777777777778,
              "#fb9f3a"
             ],
             [
              0.8888888888888888,
              "#fdca26"
             ],
             [
              1,
              "#f0f921"
             ]
            ],
            "type": "heatmap"
           }
          ],
          "heatmapgl": [
           {
            "colorbar": {
             "outlinewidth": 0,
             "ticks": ""
            },
            "colorscale": [
             [
              0,
              "#0d0887"
             ],
             [
              0.1111111111111111,
              "#46039f"
             ],
             [
              0.2222222222222222,
              "#7201a8"
             ],
             [
              0.3333333333333333,
              "#9c179e"
             ],
             [
              0.4444444444444444,
              "#bd3786"
             ],
             [
              0.5555555555555556,
              "#d8576b"
             ],
             [
              0.6666666666666666,
              "#ed7953"
             ],
             [
              0.7777777777777778,
              "#fb9f3a"
             ],
             [
              0.8888888888888888,
              "#fdca26"
             ],
             [
              1,
              "#f0f921"
             ]
            ],
            "type": "heatmapgl"
           }
          ],
          "histogram": [
           {
            "marker": {
             "pattern": {
              "fillmode": "overlay",
              "size": 10,
              "solidity": 0.2
             }
            },
            "type": "histogram"
           }
          ],
          "histogram2d": [
           {
            "colorbar": {
             "outlinewidth": 0,
             "ticks": ""
            },
            "colorscale": [
             [
              0,
              "#0d0887"
             ],
             [
              0.1111111111111111,
              "#46039f"
             ],
             [
              0.2222222222222222,
              "#7201a8"
             ],
             [
              0.3333333333333333,
              "#9c179e"
             ],
             [
              0.4444444444444444,
              "#bd3786"
             ],
             [
              0.5555555555555556,
              "#d8576b"
             ],
             [
              0.6666666666666666,
              "#ed7953"
             ],
             [
              0.7777777777777778,
              "#fb9f3a"
             ],
             [
              0.8888888888888888,
              "#fdca26"
             ],
             [
              1,
              "#f0f921"
             ]
            ],
            "type": "histogram2d"
           }
          ],
          "histogram2dcontour": [
           {
            "colorbar": {
             "outlinewidth": 0,
             "ticks": ""
            },
            "colorscale": [
             [
              0,
              "#0d0887"
             ],
             [
              0.1111111111111111,
              "#46039f"
             ],
             [
              0.2222222222222222,
              "#7201a8"
             ],
             [
              0.3333333333333333,
              "#9c179e"
             ],
             [
              0.4444444444444444,
              "#bd3786"
             ],
             [
              0.5555555555555556,
              "#d8576b"
             ],
             [
              0.6666666666666666,
              "#ed7953"
             ],
             [
              0.7777777777777778,
              "#fb9f3a"
             ],
             [
              0.8888888888888888,
              "#fdca26"
             ],
             [
              1,
              "#f0f921"
             ]
            ],
            "type": "histogram2dcontour"
           }
          ],
          "mesh3d": [
           {
            "colorbar": {
             "outlinewidth": 0,
             "ticks": ""
            },
            "type": "mesh3d"
           }
          ],
          "parcoords": [
           {
            "line": {
             "colorbar": {
              "outlinewidth": 0,
              "ticks": ""
             }
            },
            "type": "parcoords"
           }
          ],
          "pie": [
           {
            "automargin": true,
            "type": "pie"
           }
          ],
          "scatter": [
           {
            "fillpattern": {
             "fillmode": "overlay",
             "size": 10,
             "solidity": 0.2
            },
            "type": "scatter"
           }
          ],
          "scatter3d": [
           {
            "line": {
             "colorbar": {
              "outlinewidth": 0,
              "ticks": ""
             }
            },
            "marker": {
             "colorbar": {
              "outlinewidth": 0,
              "ticks": ""
             }
            },
            "type": "scatter3d"
           }
          ],
          "scattercarpet": [
           {
            "marker": {
             "colorbar": {
              "outlinewidth": 0,
              "ticks": ""
             }
            },
            "type": "scattercarpet"
           }
          ],
          "scattergeo": [
           {
            "marker": {
             "colorbar": {
              "outlinewidth": 0,
              "ticks": ""
             }
            },
            "type": "scattergeo"
           }
          ],
          "scattergl": [
           {
            "marker": {
             "colorbar": {
              "outlinewidth": 0,
              "ticks": ""
             }
            },
            "type": "scattergl"
           }
          ],
          "scattermapbox": [
           {
            "marker": {
             "colorbar": {
              "outlinewidth": 0,
              "ticks": ""
             }
            },
            "type": "scattermapbox"
           }
          ],
          "scatterpolar": [
           {
            "marker": {
             "colorbar": {
              "outlinewidth": 0,
              "ticks": ""
             }
            },
            "type": "scatterpolar"
           }
          ],
          "scatterpolargl": [
           {
            "marker": {
             "colorbar": {
              "outlinewidth": 0,
              "ticks": ""
             }
            },
            "type": "scatterpolargl"
           }
          ],
          "scatterternary": [
           {
            "marker": {
             "colorbar": {
              "outlinewidth": 0,
              "ticks": ""
             }
            },
            "type": "scatterternary"
           }
          ],
          "surface": [
           {
            "colorbar": {
             "outlinewidth": 0,
             "ticks": ""
            },
            "colorscale": [
             [
              0,
              "#0d0887"
             ],
             [
              0.1111111111111111,
              "#46039f"
             ],
             [
              0.2222222222222222,
              "#7201a8"
             ],
             [
              0.3333333333333333,
              "#9c179e"
             ],
             [
              0.4444444444444444,
              "#bd3786"
             ],
             [
              0.5555555555555556,
              "#d8576b"
             ],
             [
              0.6666666666666666,
              "#ed7953"
             ],
             [
              0.7777777777777778,
              "#fb9f3a"
             ],
             [
              0.8888888888888888,
              "#fdca26"
             ],
             [
              1,
              "#f0f921"
             ]
            ],
            "type": "surface"
           }
          ],
          "table": [
           {
            "cells": {
             "fill": {
              "color": "#EBF0F8"
             },
             "line": {
              "color": "white"
             }
            },
            "header": {
             "fill": {
              "color": "#C8D4E3"
             },
             "line": {
              "color": "white"
             }
            },
            "type": "table"
           }
          ]
         },
         "layout": {
          "annotationdefaults": {
           "arrowcolor": "#2a3f5f",
           "arrowhead": 0,
           "arrowwidth": 1
          },
          "autotypenumbers": "strict",
          "coloraxis": {
           "colorbar": {
            "outlinewidth": 0,
            "ticks": ""
           }
          },
          "colorscale": {
           "diverging": [
            [
             0,
             "#8e0152"
            ],
            [
             0.1,
             "#c51b7d"
            ],
            [
             0.2,
             "#de77ae"
            ],
            [
             0.3,
             "#f1b6da"
            ],
            [
             0.4,
             "#fde0ef"
            ],
            [
             0.5,
             "#f7f7f7"
            ],
            [
             0.6,
             "#e6f5d0"
            ],
            [
             0.7,
             "#b8e186"
            ],
            [
             0.8,
             "#7fbc41"
            ],
            [
             0.9,
             "#4d9221"
            ],
            [
             1,
             "#276419"
            ]
           ],
           "sequential": [
            [
             0,
             "#0d0887"
            ],
            [
             0.1111111111111111,
             "#46039f"
            ],
            [
             0.2222222222222222,
             "#7201a8"
            ],
            [
             0.3333333333333333,
             "#9c179e"
            ],
            [
             0.4444444444444444,
             "#bd3786"
            ],
            [
             0.5555555555555556,
             "#d8576b"
            ],
            [
             0.6666666666666666,
             "#ed7953"
            ],
            [
             0.7777777777777778,
             "#fb9f3a"
            ],
            [
             0.8888888888888888,
             "#fdca26"
            ],
            [
             1,
             "#f0f921"
            ]
           ],
           "sequentialminus": [
            [
             0,
             "#0d0887"
            ],
            [
             0.1111111111111111,
             "#46039f"
            ],
            [
             0.2222222222222222,
             "#7201a8"
            ],
            [
             0.3333333333333333,
             "#9c179e"
            ],
            [
             0.4444444444444444,
             "#bd3786"
            ],
            [
             0.5555555555555556,
             "#d8576b"
            ],
            [
             0.6666666666666666,
             "#ed7953"
            ],
            [
             0.7777777777777778,
             "#fb9f3a"
            ],
            [
             0.8888888888888888,
             "#fdca26"
            ],
            [
             1,
             "#f0f921"
            ]
           ]
          },
          "colorway": [
           "#636efa",
           "#EF553B",
           "#00cc96",
           "#ab63fa",
           "#FFA15A",
           "#19d3f3",
           "#FF6692",
           "#B6E880",
           "#FF97FF",
           "#FECB52"
          ],
          "font": {
           "color": "#2a3f5f"
          },
          "geo": {
           "bgcolor": "white",
           "lakecolor": "white",
           "landcolor": "#E5ECF6",
           "showlakes": true,
           "showland": true,
           "subunitcolor": "white"
          },
          "hoverlabel": {
           "align": "left"
          },
          "hovermode": "closest",
          "mapbox": {
           "style": "light"
          },
          "paper_bgcolor": "white",
          "plot_bgcolor": "#E5ECF6",
          "polar": {
           "angularaxis": {
            "gridcolor": "white",
            "linecolor": "white",
            "ticks": ""
           },
           "bgcolor": "#E5ECF6",
           "radialaxis": {
            "gridcolor": "white",
            "linecolor": "white",
            "ticks": ""
           }
          },
          "scene": {
           "xaxis": {
            "backgroundcolor": "#E5ECF6",
            "gridcolor": "white",
            "gridwidth": 2,
            "linecolor": "white",
            "showbackground": true,
            "ticks": "",
            "zerolinecolor": "white"
           },
           "yaxis": {
            "backgroundcolor": "#E5ECF6",
            "gridcolor": "white",
            "gridwidth": 2,
            "linecolor": "white",
            "showbackground": true,
            "ticks": "",
            "zerolinecolor": "white"
           },
           "zaxis": {
            "backgroundcolor": "#E5ECF6",
            "gridcolor": "white",
            "gridwidth": 2,
            "linecolor": "white",
            "showbackground": true,
            "ticks": "",
            "zerolinecolor": "white"
           }
          },
          "shapedefaults": {
           "line": {
            "color": "#2a3f5f"
           }
          },
          "ternary": {
           "aaxis": {
            "gridcolor": "white",
            "linecolor": "white",
            "ticks": ""
           },
           "baxis": {
            "gridcolor": "white",
            "linecolor": "white",
            "ticks": ""
           },
           "bgcolor": "#E5ECF6",
           "caxis": {
            "gridcolor": "white",
            "linecolor": "white",
            "ticks": ""
           }
          },
          "title": {
           "x": 0.05
          },
          "xaxis": {
           "automargin": true,
           "gridcolor": "white",
           "linecolor": "white",
           "ticks": "",
           "title": {
            "standoff": 15
           },
           "zerolinecolor": "white",
           "zerolinewidth": 2
          },
          "yaxis": {
           "automargin": true,
           "gridcolor": "white",
           "linecolor": "white",
           "ticks": "",
           "title": {
            "standoff": 15
           },
           "zerolinecolor": "white",
           "zerolinewidth": 2
          }
         }
        },
        "title": {
         "x": 0.5
        },
        "width": 800,
        "xaxis": {
         "anchor": "y",
         "domain": [
          0,
          1
         ],
         "range": [
          "2015-01-01",
          "2025-01-01"
         ],
         "title": {
          "text": "Publication date"
         }
        },
        "yaxis": {
         "anchor": "x",
         "domain": [
          0,
          1
         ],
         "title": {
          "text": "Training compute (FLOP)"
         },
         "type": "log"
        }
       }
      }
     },
     "metadata": {},
     "output_type": "display_data"
    }
   ],
   "source": [
    "fig = px.scatter(\n",
    "    # access_df,\n",
    "    # access_df.loc[access_df['System'].isin(selected_systems)],\n",
    "    access_df_recent,\n",
    "    x='Publication date (float)',\n",
    "    y='Training compute (FLOP)',\n",
    "    color='Model open/closed',\n",
    "    hover_data=['System'],\n",
    "    log_y=True,\n",
    ")\n",
    "\n",
    "# Marker color\n",
    "# fig.update_traces(\n",
    "#     marker=dict(\n",
    "#         color='rgb(0,100,200)',\n",
    "#     ),\n",
    "#     selector=dict(mode='markers'),\n",
    "# )\n",
    "\n",
    "# Shade in CI\n",
    "fig.add_scatter(\n",
    "    x=predicted_open_df['Publication date (float)'],\n",
    "    y=10**predicted_open_df['mean_ci_lower'],\n",
    "    mode='lines',\n",
    "    line=dict(width=0),\n",
    "    showlegend=False,\n",
    ")\n",
    "fig.add_scatter(\n",
    "    x=predicted_open_df['Publication date (float)'],\n",
    "    y=10**predicted_open_df['mean_ci_upper'],\n",
    "    mode='lines',\n",
    "    fill='tonexty',\n",
    "    fillcolor='rgba(230,100,0,0.2)',\n",
    "    line=dict(width=0),\n",
    "    name='95% CI of mean',\n",
    ")\n",
    "fig.add_scatter(\n",
    "    x=predicted_open_df['Publication date (float)'],\n",
    "    y=10**predicted_open_df['mean'],\n",
    "    mode='lines',\n",
    "    line=dict(color='rgb(230,100,0)'),\n",
    "    name=f'Regression mean (growth rate: {10**open_reg_results.params[1]:.1f}x per year)',\n",
    ")\n",
    "\n",
    "fig.add_scatter(\n",
    "    x=predicted_closed_df['Publication date (float)'],\n",
    "    y=10**predicted_closed_df['mean_ci_lower'],\n",
    "    mode='lines',\n",
    "    line=dict(width=0),\n",
    "    showlegend=False,\n",
    ")\n",
    "fig.add_scatter(\n",
    "    x=predicted_closed_df['Publication date (float)'],\n",
    "    y=10**predicted_closed_df['mean_ci_upper'],\n",
    "    mode='lines',\n",
    "    fill='tonexty',\n",
    "    fillcolor='rgba(0,100,200,0.2)',\n",
    "    line=dict(width=0),\n",
    "    name='95% CI of mean',\n",
    ")\n",
    "fig.add_scatter(\n",
    "    x=predicted_closed_df['Publication date (float)'],\n",
    "    y=10**predicted_closed_df['mean'],\n",
    "    mode='lines',\n",
    "    line=dict(color='rgb(0,100,200)'),\n",
    "    name=f'Regression mean (growth rate: {10**closed_reg_results.params[1]:.1f}x per year)',\n",
    ")\n",
    "\n",
    "fig.update_traces(textposition='top center')\n",
    "\n",
    "# legend on top\n",
    "fig.update_layout(legend=dict(\n",
    "    orientation='h',\n",
    "    yanchor='top',\n",
    "    y=-0.15,\n",
    "    xanchor='center',\n",
    "    x=0.5,\n",
    "))\n",
    "\n",
    "# axis labels\n",
    "fig.update_xaxes(title_text='Publication date')\n",
    "\n",
    "# title\n",
    "\n",
    "# update size\n",
    "fig.update_layout(\n",
    "    autosize=False,\n",
    "    width=800,\n",
    "    height=600,\n",
    "    title_x=0.5,\n",
    ")\n",
    "\n",
    "# font size\n",
    "fig.update_layout(\n",
    "    font=dict(\n",
    "        size=14,\n",
    "    )\n",
    ")\n",
    "\n",
    "# axis limits\n",
    "fig.update_xaxes(range=[pred_start_date, pred_end_date])\n",
    "\n",
    "# margins\n",
    "fig.update_layout(margin=dict(l=10, r=10, t=40, b=10))\n",
    "\n",
    "save_plot(fig, results_dir, f'open_closed_regression {analysis_start_year}')\n",
    "\n",
    "fig.show()"
   ]
  }
 ],
 "metadata": {
  "kernelspec": {
   "display_name": "Python 3 (ipykernel)",
   "language": "python",
   "name": "python3"
  },
  "language_info": {
   "codemirror_mode": {
    "name": "ipython",
    "version": 3
   },
   "file_extension": ".py",
   "mimetype": "text/x-python",
   "name": "python",
   "nbconvert_exporter": "python",
   "pygments_lexer": "ipython3",
   "version": "3.12.3"
  }
 },
 "nbformat": 4,
 "nbformat_minor": 4
}
