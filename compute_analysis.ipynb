{
 "cells": [
  {
   "cell_type": "code",
   "execution_count": 305,
   "metadata": {},
   "outputs": [
    {
     "name": "stdout",
     "output_type": "stream",
     "text": [
      "The autoreload extension is already loaded. To reload it, use:\n",
      "  %reload_ext autoreload\n"
     ]
    }
   ],
   "source": [
    "%load_ext autoreload\n",
    "%autoreload 2"
   ]
  },
  {
   "cell_type": "code",
   "execution_count": 306,
   "metadata": {},
   "outputs": [],
   "source": [
    "import numpy as np\n",
    "import os\n",
    "import pandas as pd\n",
    "import plotly.express as px\n",
    "\n",
    "from data import *\n",
    "from plotting import *\n",
    "from regression import *\n",
    "from utils import *"
   ]
  },
  {
   "cell_type": "code",
   "execution_count": 307,
   "metadata": {},
   "outputs": [],
   "source": [
    "results_dir = 'results/updated-schema/'\n",
    "os.makedirs(results_dir, exist_ok=True)"
   ]
  },
  {
   "cell_type": "markdown",
   "metadata": {},
   "source": [
    "# Data"
   ]
  },
  {
   "cell_type": "code",
   "execution_count": 308,
   "metadata": {},
   "outputs": [],
   "source": [
    "# Load data\n",
    "pcd_df = load_pcd_df()"
   ]
  },
  {
   "cell_type": "code",
   "execution_count": 309,
   "metadata": {},
   "outputs": [
    {
     "data": {
      "text/html": [
       "<div>\n",
       "<style scoped>\n",
       "    .dataframe tbody tr th:only-of-type {\n",
       "        vertical-align: middle;\n",
       "    }\n",
       "\n",
       "    .dataframe tbody tr th {\n",
       "        vertical-align: top;\n",
       "    }\n",
       "\n",
       "    .dataframe thead th {\n",
       "        text-align: right;\n",
       "    }\n",
       "</style>\n",
       "<table border=\"1\" class=\"dataframe\">\n",
       "  <thead>\n",
       "    <tr style=\"text-align: right;\">\n",
       "      <th></th>\n",
       "      <th>System</th>\n",
       "      <th>Domain</th>\n",
       "      <th>Task</th>\n",
       "      <th>Authors</th>\n",
       "      <th>Notability criteria</th>\n",
       "      <th>Notability criteria notes</th>\n",
       "      <th>Model accessibility</th>\n",
       "      <th>Link</th>\n",
       "      <th>Citations</th>\n",
       "      <th>Reference</th>\n",
       "      <th>...</th>\n",
       "      <th>Organization categorization</th>\n",
       "      <th>Foundation model</th>\n",
       "      <th>Training compute lower bound</th>\n",
       "      <th>Training compute upper bound</th>\n",
       "      <th>Training chip-hours</th>\n",
       "      <th>Code accessibility</th>\n",
       "      <th>Dataset accessibility</th>\n",
       "      <th>Accessibility notes</th>\n",
       "      <th>Field 57</th>\n",
       "      <th>Organization categorization (from Organization)</th>\n",
       "    </tr>\n",
       "  </thead>\n",
       "  <tbody>\n",
       "    <tr>\n",
       "      <th>0</th>\n",
       "      <td>Llama 3</td>\n",
       "      <td>NaN</td>\n",
       "      <td>NaN</td>\n",
       "      <td>NaN</td>\n",
       "      <td>NaN</td>\n",
       "      <td>NaN</td>\n",
       "      <td>NaN</td>\n",
       "      <td>https://engineering.fb.com/2024/03/12/data-cen...</td>\n",
       "      <td>NaN</td>\n",
       "      <td>NaN</td>\n",
       "      <td>...</td>\n",
       "      <td>NaN</td>\n",
       "      <td>NaN</td>\n",
       "      <td>NaN</td>\n",
       "      <td>NaN</td>\n",
       "      <td>NaN</td>\n",
       "      <td>NaN</td>\n",
       "      <td>NaN</td>\n",
       "      <td>NaN</td>\n",
       "      <td>NaN</td>\n",
       "      <td>NaN</td>\n",
       "    </tr>\n",
       "    <tr>\n",
       "      <th>1</th>\n",
       "      <td>DBRX</td>\n",
       "      <td>Language</td>\n",
       "      <td>Chat,Code generation</td>\n",
       "      <td>Mosaic Research Team</td>\n",
       "      <td>NaN</td>\n",
       "      <td>NaN</td>\n",
       "      <td>Open access (restricted use)</td>\n",
       "      <td>https://www.databricks.com/blog/introducing-db...</td>\n",
       "      <td>NaN</td>\n",
       "      <td>Introducing DBRX: A New State-of-the-Art Open LLM</td>\n",
       "      <td>...</td>\n",
       "      <td>Industry</td>\n",
       "      <td>NaN</td>\n",
       "      <td>NaN</td>\n",
       "      <td>NaN</td>\n",
       "      <td>NaN</td>\n",
       "      <td>Unreleased</td>\n",
       "      <td>Unreleased</td>\n",
       "      <td>license: https://www.databricks.com/legal/open...</td>\n",
       "      <td>NaN</td>\n",
       "      <td>Industry</td>\n",
       "    </tr>\n",
       "    <tr>\n",
       "      <th>2</th>\n",
       "      <td>Claude 3 Haiku</td>\n",
       "      <td>Multimodal,Language,Vision</td>\n",
       "      <td>Chat</td>\n",
       "      <td>NaN</td>\n",
       "      <td>NaN</td>\n",
       "      <td>NaN</td>\n",
       "      <td>API access</td>\n",
       "      <td>https://www-cdn.anthropic.com/de8ba9b01c9ab7cb...</td>\n",
       "      <td>NaN</td>\n",
       "      <td>The Claude 3 Model Family: Opus, Sonnet, Haiku</td>\n",
       "      <td>...</td>\n",
       "      <td>Industry</td>\n",
       "      <td>NaN</td>\n",
       "      <td>NaN</td>\n",
       "      <td>NaN</td>\n",
       "      <td>NaN</td>\n",
       "      <td>NaN</td>\n",
       "      <td>NaN</td>\n",
       "      <td>NaN</td>\n",
       "      <td>NaN</td>\n",
       "      <td>Industry</td>\n",
       "    </tr>\n",
       "    <tr>\n",
       "      <th>3</th>\n",
       "      <td>Claude 3 Sonnet</td>\n",
       "      <td>Multimodal,Language,Vision</td>\n",
       "      <td>Chat</td>\n",
       "      <td>NaN</td>\n",
       "      <td>NaN</td>\n",
       "      <td>NaN</td>\n",
       "      <td>API access</td>\n",
       "      <td>https://www-cdn.anthropic.com/de8ba9b01c9ab7cb...</td>\n",
       "      <td>NaN</td>\n",
       "      <td>The Claude 3 Model Family: Opus, Sonnet, Haiku</td>\n",
       "      <td>...</td>\n",
       "      <td>Industry</td>\n",
       "      <td>NaN</td>\n",
       "      <td>NaN</td>\n",
       "      <td>NaN</td>\n",
       "      <td>NaN</td>\n",
       "      <td>NaN</td>\n",
       "      <td>NaN</td>\n",
       "      <td>NaN</td>\n",
       "      <td>NaN</td>\n",
       "      <td>Industry</td>\n",
       "    </tr>\n",
       "    <tr>\n",
       "      <th>4</th>\n",
       "      <td>Claude 3 Opus</td>\n",
       "      <td>Multimodal,Language,Vision</td>\n",
       "      <td>Chat</td>\n",
       "      <td>NaN</td>\n",
       "      <td>SOTA improvement</td>\n",
       "      <td>NaN</td>\n",
       "      <td>API access</td>\n",
       "      <td>https://www-cdn.anthropic.com/de8ba9b01c9ab7cb...</td>\n",
       "      <td>NaN</td>\n",
       "      <td>The Claude 3 Model Family: Opus, Sonnet, Haiku</td>\n",
       "      <td>...</td>\n",
       "      <td>Industry</td>\n",
       "      <td>NaN</td>\n",
       "      <td>NaN</td>\n",
       "      <td>NaN</td>\n",
       "      <td>NaN</td>\n",
       "      <td>NaN</td>\n",
       "      <td>NaN</td>\n",
       "      <td>NaN</td>\n",
       "      <td>NaN</td>\n",
       "      <td>Industry</td>\n",
       "    </tr>\n",
       "    <tr>\n",
       "      <th>...</th>\n",
       "      <td>...</td>\n",
       "      <td>...</td>\n",
       "      <td>...</td>\n",
       "      <td>...</td>\n",
       "      <td>...</td>\n",
       "      <td>...</td>\n",
       "      <td>...</td>\n",
       "      <td>...</td>\n",
       "      <td>...</td>\n",
       "      <td>...</td>\n",
       "      <td>...</td>\n",
       "      <td>...</td>\n",
       "      <td>...</td>\n",
       "      <td>...</td>\n",
       "      <td>...</td>\n",
       "      <td>...</td>\n",
       "      <td>...</td>\n",
       "      <td>...</td>\n",
       "      <td>...</td>\n",
       "      <td>...</td>\n",
       "      <td>...</td>\n",
       "    </tr>\n",
       "    <tr>\n",
       "      <th>1408</th>\n",
       "      <td>Self Organizing System</td>\n",
       "      <td>Other</td>\n",
       "      <td>Pattern recognition</td>\n",
       "      <td>W. A. Clark and B. G. Farley</td>\n",
       "      <td>Historical significance</td>\n",
       "      <td>NaN</td>\n",
       "      <td>NaN</td>\n",
       "      <td>https://dl.acm.org/doi/10.1145/1455292.1455309</td>\n",
       "      <td>93.0</td>\n",
       "      <td>Generalization of pattern recognition in a sel...</td>\n",
       "      <td>...</td>\n",
       "      <td>Academia</td>\n",
       "      <td>NaN</td>\n",
       "      <td>NaN</td>\n",
       "      <td>NaN</td>\n",
       "      <td>NaN</td>\n",
       "      <td>NaN</td>\n",
       "      <td>NaN</td>\n",
       "      <td>NaN</td>\n",
       "      <td>NaN</td>\n",
       "      <td>Academia</td>\n",
       "    </tr>\n",
       "    <tr>\n",
       "      <th>1409</th>\n",
       "      <td>Genetic algorithm</td>\n",
       "      <td>Other</td>\n",
       "      <td>NaN</td>\n",
       "      <td>NA Barricelli</td>\n",
       "      <td>Historical significance</td>\n",
       "      <td>Possibly first computer simulation of a geneti...</td>\n",
       "      <td>NaN</td>\n",
       "      <td>https://link.springer.com/article/10.1007/BF01...</td>\n",
       "      <td>266.0</td>\n",
       "      <td>Numerical testing of evolution theories</td>\n",
       "      <td>...</td>\n",
       "      <td>Academia</td>\n",
       "      <td>NaN</td>\n",
       "      <td>NaN</td>\n",
       "      <td>NaN</td>\n",
       "      <td>NaN</td>\n",
       "      <td>NaN</td>\n",
       "      <td>NaN</td>\n",
       "      <td>NaN</td>\n",
       "      <td>NaN</td>\n",
       "      <td>Academia</td>\n",
       "    </tr>\n",
       "    <tr>\n",
       "      <th>1410</th>\n",
       "      <td>SNARC</td>\n",
       "      <td>Robotics</td>\n",
       "      <td>Maze solving</td>\n",
       "      <td>Marvin Minsky</td>\n",
       "      <td>Historical significance</td>\n",
       "      <td>NaN</td>\n",
       "      <td>NaN</td>\n",
       "      <td>https://en.wikipedia.org/wiki/Stochastic_neura...</td>\n",
       "      <td>33.0</td>\n",
       "      <td>A Neural-Analogue Calculator Based upon a Prob...</td>\n",
       "      <td>...</td>\n",
       "      <td>Academia</td>\n",
       "      <td>NaN</td>\n",
       "      <td>NaN</td>\n",
       "      <td>NaN</td>\n",
       "      <td>NaN</td>\n",
       "      <td>NaN</td>\n",
       "      <td>NaN</td>\n",
       "      <td>NaN</td>\n",
       "      <td>NaN</td>\n",
       "      <td>Academia</td>\n",
       "    </tr>\n",
       "    <tr>\n",
       "      <th>1411</th>\n",
       "      <td>Theseus</td>\n",
       "      <td>Robotics</td>\n",
       "      <td>Maze solving</td>\n",
       "      <td>Claude Shannon</td>\n",
       "      <td>Historical significance</td>\n",
       "      <td>NaN</td>\n",
       "      <td>NaN</td>\n",
       "      <td>https://www.technologyreview.com/2018/12/19/13...</td>\n",
       "      <td>0.0</td>\n",
       "      <td>Mighty Mouse</td>\n",
       "      <td>...</td>\n",
       "      <td>Industry</td>\n",
       "      <td>NaN</td>\n",
       "      <td>NaN</td>\n",
       "      <td>NaN</td>\n",
       "      <td>NaN</td>\n",
       "      <td>NaN</td>\n",
       "      <td>NaN</td>\n",
       "      <td>NaN</td>\n",
       "      <td>NaN</td>\n",
       "      <td>Industry</td>\n",
       "    </tr>\n",
       "    <tr>\n",
       "      <th>1412</th>\n",
       "      <td>NaN</td>\n",
       "      <td>NaN</td>\n",
       "      <td>NaN</td>\n",
       "      <td>NaN</td>\n",
       "      <td>NaN</td>\n",
       "      <td>NaN</td>\n",
       "      <td>NaN</td>\n",
       "      <td>NaN</td>\n",
       "      <td>NaN</td>\n",
       "      <td>NaN</td>\n",
       "      <td>...</td>\n",
       "      <td>NaN</td>\n",
       "      <td>NaN</td>\n",
       "      <td>NaN</td>\n",
       "      <td>NaN</td>\n",
       "      <td>NaN</td>\n",
       "      <td>NaN</td>\n",
       "      <td>NaN</td>\n",
       "      <td>NaN</td>\n",
       "      <td>NaN</td>\n",
       "      <td>NaN</td>\n",
       "    </tr>\n",
       "  </tbody>\n",
       "</table>\n",
       "<p>1413 rows × 58 columns</p>\n",
       "</div>"
      ],
      "text/plain": [
       "                      System                      Domain  \\\n",
       "0                    Llama 3                         NaN   \n",
       "1                       DBRX                    Language   \n",
       "2             Claude 3 Haiku  Multimodal,Language,Vision   \n",
       "3            Claude 3 Sonnet  Multimodal,Language,Vision   \n",
       "4              Claude 3 Opus  Multimodal,Language,Vision   \n",
       "...                      ...                         ...   \n",
       "1408  Self Organizing System                       Other   \n",
       "1409       Genetic algorithm                       Other   \n",
       "1410                   SNARC                    Robotics   \n",
       "1411                 Theseus                    Robotics   \n",
       "1412                     NaN                         NaN   \n",
       "\n",
       "                      Task                       Authors  \\\n",
       "0                      NaN                           NaN   \n",
       "1     Chat,Code generation          Mosaic Research Team   \n",
       "2                     Chat                           NaN   \n",
       "3                     Chat                           NaN   \n",
       "4                     Chat                           NaN   \n",
       "...                    ...                           ...   \n",
       "1408   Pattern recognition  W. A. Clark and B. G. Farley   \n",
       "1409                   NaN                 NA Barricelli   \n",
       "1410          Maze solving                 Marvin Minsky   \n",
       "1411          Maze solving                Claude Shannon   \n",
       "1412                   NaN                           NaN   \n",
       "\n",
       "          Notability criteria  \\\n",
       "0                         NaN   \n",
       "1                         NaN   \n",
       "2                         NaN   \n",
       "3                         NaN   \n",
       "4            SOTA improvement   \n",
       "...                       ...   \n",
       "1408  Historical significance   \n",
       "1409  Historical significance   \n",
       "1410  Historical significance   \n",
       "1411  Historical significance   \n",
       "1412                      NaN   \n",
       "\n",
       "                              Notability criteria notes  \\\n",
       "0                                                   NaN   \n",
       "1                                                   NaN   \n",
       "2                                                   NaN   \n",
       "3                                                   NaN   \n",
       "4                                                   NaN   \n",
       "...                                                 ...   \n",
       "1408                                                NaN   \n",
       "1409  Possibly first computer simulation of a geneti...   \n",
       "1410                                                NaN   \n",
       "1411                                                NaN   \n",
       "1412                                                NaN   \n",
       "\n",
       "               Model accessibility  \\\n",
       "0                              NaN   \n",
       "1     Open access (restricted use)   \n",
       "2                       API access   \n",
       "3                       API access   \n",
       "4                       API access   \n",
       "...                            ...   \n",
       "1408                           NaN   \n",
       "1409                           NaN   \n",
       "1410                           NaN   \n",
       "1411                           NaN   \n",
       "1412                           NaN   \n",
       "\n",
       "                                                   Link  Citations  \\\n",
       "0     https://engineering.fb.com/2024/03/12/data-cen...        NaN   \n",
       "1     https://www.databricks.com/blog/introducing-db...        NaN   \n",
       "2     https://www-cdn.anthropic.com/de8ba9b01c9ab7cb...        NaN   \n",
       "3     https://www-cdn.anthropic.com/de8ba9b01c9ab7cb...        NaN   \n",
       "4     https://www-cdn.anthropic.com/de8ba9b01c9ab7cb...        NaN   \n",
       "...                                                 ...        ...   \n",
       "1408     https://dl.acm.org/doi/10.1145/1455292.1455309       93.0   \n",
       "1409  https://link.springer.com/article/10.1007/BF01...      266.0   \n",
       "1410  https://en.wikipedia.org/wiki/Stochastic_neura...       33.0   \n",
       "1411  https://www.technologyreview.com/2018/12/19/13...        0.0   \n",
       "1412                                                NaN        NaN   \n",
       "\n",
       "                                              Reference  ...  \\\n",
       "0                                                   NaN  ...   \n",
       "1     Introducing DBRX: A New State-of-the-Art Open LLM  ...   \n",
       "2        The Claude 3 Model Family: Opus, Sonnet, Haiku  ...   \n",
       "3        The Claude 3 Model Family: Opus, Sonnet, Haiku  ...   \n",
       "4        The Claude 3 Model Family: Opus, Sonnet, Haiku  ...   \n",
       "...                                                 ...  ...   \n",
       "1408  Generalization of pattern recognition in a sel...  ...   \n",
       "1409            Numerical testing of evolution theories  ...   \n",
       "1410  A Neural-Analogue Calculator Based upon a Prob...  ...   \n",
       "1411                                       Mighty Mouse  ...   \n",
       "1412                                                NaN  ...   \n",
       "\n",
       "     Organization categorization Foundation model  \\\n",
       "0                            NaN              NaN   \n",
       "1                       Industry              NaN   \n",
       "2                       Industry              NaN   \n",
       "3                       Industry              NaN   \n",
       "4                       Industry              NaN   \n",
       "...                          ...              ...   \n",
       "1408                    Academia              NaN   \n",
       "1409                    Academia              NaN   \n",
       "1410                    Academia              NaN   \n",
       "1411                    Industry              NaN   \n",
       "1412                         NaN              NaN   \n",
       "\n",
       "      Training compute lower bound Training compute upper bound  \\\n",
       "0                              NaN                          NaN   \n",
       "1                              NaN                          NaN   \n",
       "2                              NaN                          NaN   \n",
       "3                              NaN                          NaN   \n",
       "4                              NaN                          NaN   \n",
       "...                            ...                          ...   \n",
       "1408                           NaN                          NaN   \n",
       "1409                           NaN                          NaN   \n",
       "1410                           NaN                          NaN   \n",
       "1411                           NaN                          NaN   \n",
       "1412                           NaN                          NaN   \n",
       "\n",
       "      Training chip-hours Code accessibility Dataset accessibility  \\\n",
       "0                     NaN                NaN                   NaN   \n",
       "1                     NaN         Unreleased            Unreleased   \n",
       "2                     NaN                NaN                   NaN   \n",
       "3                     NaN                NaN                   NaN   \n",
       "4                     NaN                NaN                   NaN   \n",
       "...                   ...                ...                   ...   \n",
       "1408                  NaN                NaN                   NaN   \n",
       "1409                  NaN                NaN                   NaN   \n",
       "1410                  NaN                NaN                   NaN   \n",
       "1411                  NaN                NaN                   NaN   \n",
       "1412                  NaN                NaN                   NaN   \n",
       "\n",
       "                                    Accessibility notes  Field 57  \\\n",
       "0                                                   NaN       NaN   \n",
       "1     license: https://www.databricks.com/legal/open...       NaN   \n",
       "2                                                   NaN       NaN   \n",
       "3                                                   NaN       NaN   \n",
       "4                                                   NaN       NaN   \n",
       "...                                                 ...       ...   \n",
       "1408                                                NaN       NaN   \n",
       "1409                                                NaN       NaN   \n",
       "1410                                                NaN       NaN   \n",
       "1411                                                NaN       NaN   \n",
       "1412                                                NaN       NaN   \n",
       "\n",
       "     Organization categorization (from Organization)  \n",
       "0                                                NaN  \n",
       "1                                           Industry  \n",
       "2                                           Industry  \n",
       "3                                           Industry  \n",
       "4                                           Industry  \n",
       "...                                              ...  \n",
       "1408                                        Academia  \n",
       "1409                                        Academia  \n",
       "1410                                        Academia  \n",
       "1411                                        Industry  \n",
       "1412                                             NaN  \n",
       "\n",
       "[1413 rows x 58 columns]"
      ]
     },
     "execution_count": 309,
     "metadata": {},
     "output_type": "execute_result"
    }
   ],
   "source": [
    "pcd_df"
   ]
  },
  {
   "cell_type": "code",
   "execution_count": 310,
   "metadata": {},
   "outputs": [
    {
     "data": {
      "text/plain": [
       "809    Unreleased\n",
       "Name: Model accessibility, dtype: object"
      ]
     },
     "execution_count": 310,
     "metadata": {},
     "output_type": "execute_result"
    }
   ],
   "source": [
    "pcd_df.loc[pcd_df['System'] == 'Megatron-BERT']['Model accessibility']"
   ]
  },
  {
   "cell_type": "code",
   "execution_count": 311,
   "metadata": {},
   "outputs": [
    {
     "data": {
      "text/plain": [
       "239"
      ]
     },
     "execution_count": 311,
     "metadata": {},
     "output_type": "execute_result"
    }
   ],
   "source": [
    "access_df_with_deprecated = pcd_df.dropna(subset=['Publication date', 'Training compute (FLOP)', 'Model accessibility'])\n",
    "len(access_df_with_deprecated)"
   ]
  },
  {
   "cell_type": "code",
   "execution_count": 312,
   "metadata": {},
   "outputs": [
    {
     "data": {
      "text/plain": [
       "array(['Open access (restricted use)', 'API access', 'Open source',\n",
       "       'Open access (non-commercial)', 'Hosted access (no API)',\n",
       "       'Permissive license (depr.)', 'Fully open-source (depr.)',\n",
       "       'Unreleased', 'Weights available (depr.)'], dtype=object)"
      ]
     },
     "execution_count": 312,
     "metadata": {},
     "output_type": "execute_result"
    }
   ],
   "source": [
    "access_df_with_deprecated['Model accessibility'].unique()"
   ]
  },
  {
   "cell_type": "code",
   "execution_count": 313,
   "metadata": {},
   "outputs": [
    {
     "name": "stdout",
     "output_type": "stream",
     "text": [
      "Open access (restricted use) 17\n",
      "API access 15\n",
      "Open source 55\n",
      "Open access (non-commercial) 13\n",
      "Hosted access (no API) 4\n",
      "Permissive license (depr.) 39\n",
      "Fully open-source (depr.) 52\n",
      "Unreleased 40\n",
      "Weights available (depr.) 4\n"
     ]
    }
   ],
   "source": [
    "for cat in access_df_with_deprecated['Model accessibility'].unique():\n",
    "    print(cat, len(access_df_with_deprecated.loc[access_df_with_deprecated['Model accessibility'] == cat]))"
   ]
  },
  {
   "cell_type": "code",
   "execution_count": 314,
   "metadata": {},
   "outputs": [],
   "source": [
    "open_access_categories = ['Open source', 'Open access (restricted use)', 'Open access (non-commercial)']\n",
    "closed_access_categories = ['API access', 'Hosted access (no API)', 'Unreleased']"
   ]
  },
  {
   "cell_type": "code",
   "execution_count": 315,
   "metadata": {},
   "outputs": [],
   "source": [
    "access_df = access_df_with_deprecated.loc[\n",
    "    access_df_with_deprecated['Model accessibility'].isin(open_access_categories + closed_access_categories)\n",
    "]"
   ]
  },
  {
   "cell_type": "code",
   "execution_count": 316,
   "metadata": {},
   "outputs": [
    {
     "data": {
      "text/plain": [
       "85"
      ]
     },
     "execution_count": 316,
     "metadata": {},
     "output_type": "execute_result"
    }
   ],
   "source": [
    "open_access_df = access_df.loc[access_df['Model accessibility'].isin(open_access_categories)]\n",
    "len(open_access_df)"
   ]
  },
  {
   "cell_type": "code",
   "execution_count": 317,
   "metadata": {},
   "outputs": [
    {
     "data": {
      "text/plain": [
       "59"
      ]
     },
     "execution_count": 317,
     "metadata": {},
     "output_type": "execute_result"
    }
   ],
   "source": [
    "closed_access_df = access_df.loc[access_df['Model accessibility'].isin(closed_access_categories)]\n",
    "len(closed_access_df)"
   ]
  },
  {
   "cell_type": "code",
   "execution_count": 318,
   "metadata": {},
   "outputs": [
    {
     "name": "stderr",
     "output_type": "stream",
     "text": [
      "/var/folders/s2/stl5t_bn7xg9vdfxxr71rzrc0000gn/T/ipykernel_18269/148813227.py:2: SettingWithCopyWarning:\n",
      "\n",
      "\n",
      "A value is trying to be set on a copy of a slice from a DataFrame.\n",
      "Try using .loc[row_indexer,col_indexer] = value instead\n",
      "\n",
      "See the caveats in the documentation: https://pandas.pydata.org/pandas-docs/stable/user_guide/indexing.html#returning-a-view-versus-a-copy\n",
      "\n"
     ]
    }
   ],
   "source": [
    "# Add column with binary access label\n",
    "access_df['Model open/closed'] = access_df['Model accessibility'].apply(\n",
    "    lambda x: 'Open' if x in open_access_categories else 'Closed'\n",
    ")"
   ]
  },
  {
   "cell_type": "markdown",
   "metadata": {},
   "source": [
    "## Compute percentile filtering"
   ]
  },
  {
   "cell_type": "code",
   "execution_count": 319,
   "metadata": {},
   "outputs": [],
   "source": [
    "outlier_window_size = 2  # years\n",
    "start_large_scale_era = '2015-09-01'"
   ]
  },
  {
   "cell_type": "code",
   "execution_count": 320,
   "metadata": {},
   "outputs": [],
   "source": [
    "pcd_df['Publication date'] = pd.to_datetime(pcd_df['Publication date'])\n",
    "pcd_df.sort_values('Publication date', inplace=True)\n",
    "pcd_df.dropna(subset=['Publication date', 'Notability criteria', 'Training compute (FLOP)'], inplace=True)"
   ]
  },
  {
   "cell_type": "code",
   "execution_count": 321,
   "metadata": {},
   "outputs": [
    {
     "name": "stdout",
     "output_type": "stream",
     "text": [
      "95\n",
      "90\n",
      "85\n",
      "80\n",
      "75\n",
      "70\n",
      "65\n",
      "60\n",
      "55\n",
      "50\n",
      "45\n",
      "40\n",
      "35\n",
      "30\n",
      "25\n",
      "20\n",
      "15\n",
      "10\n",
      "5\n",
      "0\n"
     ]
    }
   ],
   "source": [
    "systems_by_percentile = {}\n",
    "percentile_interval = 5\n",
    "for percentile in range(95, -5, -percentile_interval):\n",
    "  print(percentile)\n",
    "  percentile_compute_low = np.zeros(len(pcd_df))\n",
    "  percentile_compute_high = np.zeros(len(pcd_df))\n",
    "  # Iterate through each row and calculate the 2-year moving average for each date\n",
    "  for i, (index, row) in enumerate(pcd_df.iterrows()):\n",
    "    # Define the 2-year window\n",
    "    start_date = row['Publication date'] - pd.DateOffset(years=outlier_window_size/2)\n",
    "    end_date = row['Publication date'] + pd.DateOffset(years=outlier_window_size/2)\n",
    "\n",
    "    # Filter the DataFrame for this window\n",
    "    window_df = pcd_df[(pcd_df['Publication date'] >= start_date) & (pcd_df['Publication date'] <= end_date)]\n",
    "\n",
    "    percentile_compute_low[i] = np.percentile(window_df['Training compute (FLOP)'], percentile)\n",
    "    percentile_compute_high[i] = np.percentile(window_df['Training compute (FLOP)'], percentile + percentile_interval)\n",
    "\n",
    "  systems_flag = pcd_df['Training compute (FLOP)'] > np.array(percentile_compute_low)\n",
    "  extra_systems_flag = pcd_df['Training compute (FLOP)'] <= np.array(percentile_compute_high)\n",
    "\n",
    "  # raise Exception(\"Edit the following line if you want to consider models released after 2023-12-31.\")\n",
    "  extra_systems = pcd_df['System'][systems_flag & extra_systems_flag & (pcd_df['Publication date'] > pd.to_datetime('2015-09-30'))].values\n",
    "\n",
    "  systems_by_percentile[percentile] = list(extra_systems)"
   ]
  },
  {
   "cell_type": "code",
   "execution_count": 322,
   "metadata": {},
   "outputs": [
    {
     "data": {
      "text/plain": [
       "{95: ['GNMT',\n",
       "  'AlphaGo Master',\n",
       "  'AlphaGo Zero',\n",
       "  'AlphaZero',\n",
       "  'ResNeXt-101 32x48d',\n",
       "  'Megatron-BERT',\n",
       "  'OpenAI Five',\n",
       "  'Meena',\n",
       "  'GPT-3 175B (davinci)',\n",
       "  'Megatron-Turing NLG 530B',\n",
       "  'ERNIE 3.0 Titan',\n",
       "  'PaLM (540B)',\n",
       "  'Minerva (540B)',\n",
       "  'GPT-4',\n",
       "  'PaLM 2',\n",
       "  'Inflection-2',\n",
       "  'Gemini Ultra'],\n",
       " 90: ['NASv3 (CIFAR-10)',\n",
       "  'FTW',\n",
       "  'T5-11B',\n",
       "  'AlphaStar',\n",
       "  'mT5-XXL',\n",
       "  'Switch',\n",
       "  'Gopher (280B)',\n",
       "  'Chinchilla',\n",
       "  'U-PaLM (540B)',\n",
       "  'GPT-3.5 (text-davinci-003)',\n",
       "  'Claude 2',\n",
       "  'Falcon 180B'],\n",
       " 85: ['AlphaGo Fan',\n",
       "  'AlphaGo Lee',\n",
       "  'BigGAN-deep 512x512',\n",
       "  'Megatron-LM (8.3B)',\n",
       "  'OpenAI Five Rerun',\n",
       "  'Turing-NLG',\n",
       "  'Yuan 1.0',\n",
       "  'GLaM',\n",
       "  'LaMDA',\n",
       "  'OPT-175B',\n",
       "  'BLOOM-176B',\n",
       "  'Llama 2-70B',\n",
       "  'ChatGLM3',\n",
       "  'Qwen-72B'],\n",
       " 80: ['JFT',\n",
       "  'OpenAI TI7 DOTA 1v1',\n",
       "  'AmoebaNet-A (F=448)',\n",
       "  'GPT-2 (1.5B)',\n",
       "  'iGPT-XL',\n",
       "  'DALL-E',\n",
       "  'Meta Pseudo Labels',\n",
       "  'ProtT5-XXL',\n",
       "  'ByT5-XXL',\n",
       "  'GOAT',\n",
       "  'HyperCLOVA',\n",
       "  'AlphaCode',\n",
       "  'Flamingo',\n",
       "  'Parti',\n",
       "  'BlenderBot 3',\n",
       "  'LLaMA-65B',\n",
       "  'PanGu-Σ',\n",
       "  'xTrimoPGLM -100B',\n",
       "  'Yi-34B'],\n",
       " 75: ['DeepSpeech2 (English)',\n",
       "  'Xception',\n",
       "  'Libratus',\n",
       "  'IMPALA',\n",
       "  'BERT-Large',\n",
       "  'RoBERTa Large',\n",
       "  'ContextNet + Noisy Student',\n",
       "  'GShard (dense)',\n",
       "  'GPT-NeoX-20B',\n",
       "  'UL2',\n",
       "  'GLM-130B',\n",
       "  'Galactica',\n",
       "  'ViT-22B',\n",
       "  'Llama 2-34B'],\n",
       " 70: ['Big Transformer for Back-Translation',\n",
       "  'MnasNet-A1 + SSDLite',\n",
       "  'MnasNet-A3',\n",
       "  'ALBERT-xxlarge',\n",
       "  'ELECTRA',\n",
       "  'iGPT-L',\n",
       "  'PLUG',\n",
       "  'ProtBERT-BFD',\n",
       "  'CoAtNet',\n",
       "  'FLAN 137B',\n",
       "  'AlexaTM 20B',\n",
       "  'Falcon-40B'],\n",
       " 65: ['ResNet-152 (ImageNet)',\n",
       "  'PolyNet',\n",
       "  'MoE',\n",
       "  'YOLOv3',\n",
       "  'Transformer (Adaptive Input Embeddings)',\n",
       "  'Mesh-TensorFlow Transformer 4.9B (language modelling)',\n",
       "  'BERT-Large-CAS (PTB+WT2+WT103)',\n",
       "  'Conformer + Wav2vec 2.0 + Noisy Student',\n",
       "  'ProtT5-XXL-BFD',\n",
       "  'CogView',\n",
       "  'ALIGN',\n",
       "  'Florence',\n",
       "  'Stable Diffusion (LDM-KL-8-G)',\n",
       "  'CoCa',\n",
       "  'BloombergGPT',\n",
       "  'StarCoder',\n",
       "  'Llama 2-13B',\n",
       "  'Skywork-13B'],\n",
       " 60: ['DeepStack',\n",
       "  'PNASNet-5',\n",
       "  'Population-based DRL',\n",
       "  'Mesh-TensorFlow Transformer 2.9B (translation)',\n",
       "  'Megatron-LM (355M)',\n",
       "  'T5-3B',\n",
       "  'CamemBERT',\n",
       "  'Noisy Student (L2)',\n",
       "  'Once for All',\n",
       "  'CLIP (ViT L/14@336px)',\n",
       "  'ERNIE 3.0',\n",
       "  'BASIC-L',\n",
       "  'XGLM-7.5B',\n",
       "  'ESM2-15B',\n",
       "  'PaLI',\n",
       "  'Taiyi-Stable Diffusion',\n",
       "  'Llama 2-7B',\n",
       "  'Nemotron-3-8B'],\n",
       " 55: ['LSTM (Hebbian, Cache, MbPA)',\n",
       "  'SciBERT',\n",
       "  'DD-PPO',\n",
       "  'ViT-Huge/14',\n",
       "  'MSA Transformer',\n",
       "  'M6-T',\n",
       "  'T0-XXL',\n",
       "  'Whisper',\n",
       "  'XGen-7B'],\n",
       " 50: ['BIDAF',\n",
       "  'Transformer',\n",
       "  'GPT',\n",
       "  'GBERT-Large',\n",
       "  'wave2vec 2.0 LARGE',\n",
       "  'AlphaFold 2',\n",
       "  'DeBERTa',\n",
       "  'HuBERT',\n",
       "  'XGLM',\n",
       "  'Imagen',\n",
       "  'NLLB',\n",
       "  'ESM2-3B',\n",
       "  'LLaMA-7B',\n",
       "  'LLaMA-13B',\n",
       "  'WizardLM-7B',\n",
       "  'Pangu-Weather'],\n",
       " 45: ['RetinaNet-R101',\n",
       "  'Transformer + Simple Recurrent Unit',\n",
       "  'ProxylessNAS',\n",
       "  'Sandwich Transformer',\n",
       "  'German ELECTRA Large',\n",
       "  'CPM-Large',\n",
       "  'SEER',\n",
       "  'ProGen2-xlarge',\n",
       "  'OmegaPLM',\n",
       "  'Jais',\n",
       "  'CogVLM'],\n",
       " 40: ['Part-of-sentence tagging model',\n",
       "  'GL-LWGC-AWD-MoS-LSTM + dynamic evaluation (WT2)',\n",
       "  'Transformer-XL Large',\n",
       "  'KataGo',\n",
       "  'MuZero',\n",
       "  'AlphaFold',\n",
       "  'DETR',\n",
       "  'ESM1-670M (UR50/S)',\n",
       "  'ESM1-670M (UR50/D)',\n",
       "  'ViT-G/14',\n",
       "  'AlphaFold-Multimer',\n",
       "  'NÜWA',\n",
       "  'Gato',\n",
       "  'Tranception',\n",
       "  'ESM2-650M',\n",
       "  'Nucleotide Transformer',\n",
       "  'VideoMAE V2',\n",
       "  'Segment Anything Model'],\n",
       " 35: ['Named Entity Recognition model',\n",
       "  'R-FCN',\n",
       "  'ObjectNet',\n",
       "  'Feedback Transformer',\n",
       "  'EMDR',\n",
       "  'ViT-G (model soup)',\n",
       "  'AudioGen',\n",
       "  'DINOv2',\n",
       "  'PeptideBERT'],\n",
       " 30: ['AWD-LSTM - 3-layer LSTM (tied) + continuous cache pointer (WT2)',\n",
       "  'AWD-LSTM-MoS + dynamic evaluation (WT2, 2017)',\n",
       "  'QRNN',\n",
       "  '(ensemble): AWD-LSTM-DOC (fin) × 5 (WT2)',\n",
       "  'TrellisNet',\n",
       "  'FAIRSEQ Adaptive Inputs',\n",
       "  'Transformer-XL Large + Phrase Induction',\n",
       "  'DistilBERT',\n",
       "  'ATLAS',\n",
       "  'ESM1-670M (UR100)',\n",
       "  'LUKE',\n",
       "  'ESM1b',\n",
       "  'ADM',\n",
       "  'CodeT5-base',\n",
       "  'CodeT5-large',\n",
       "  'EVA',\n",
       "  'Ankh_large'],\n",
       " 25: ['Zoneout + Variational LSTM (WT2)',\n",
       "  'VD-LSTM+REAL Large',\n",
       "  '4 layer QRNN (h=2500)',\n",
       "  'Big-Little Net (speech)',\n",
       "  'Hanabi 4 player',\n",
       "  'Tensorized Transformer (257M)',\n",
       "  'AlphaX-1',\n",
       "  'TaLK Convolution',\n",
       "  'ESM1-85M',\n",
       "  'KEPLER',\n",
       "  'ViT + DINO',\n",
       "  'ConSERT',\n",
       "  'Denoising Diffusion Probabilistic Models (LSUN Bedroom)',\n",
       "  'S4',\n",
       "  'Swin Transformer V2',\n",
       "  'PolyCoder',\n",
       "  'GenSLM',\n",
       "  'Ankh_base',\n",
       "  'BLIP-2 (Q-Former)',\n",
       "  'Flan T5-XXL + BLIP-2',\n",
       "  'Incoder-6.7B'],\n",
       " 20: ['Fraternal dropout + AWD-LSTM 3-layer (WT2)',\n",
       "  'Dropout-LSTM+Noise(Bernoulli) (WT2)',\n",
       "  'Decoupled weight decay regularization',\n",
       "  'Cross-lingual alignment',\n",
       "  'DLRM-2020',\n",
       "  'Base LM + kNN LM + Continuous Cache',\n",
       "  'ESM1-43M',\n",
       "  'ESM2-150M',\n",
       "  'AR-LDM',\n",
       "  'Hybrid H3-2.7B',\n",
       "  'DiT-XL/2'],\n",
       " 15: ['Variational (untied weights, MC) LSTM (Large)',\n",
       "  'Pointer Sentinel-LSTM (medium)',\n",
       "  'Neural Architecture Search with base 8 and shared embeddings',\n",
       "  'ENAS',\n",
       "  'aLSTM(depth-2)+RecurrentPolicy (WT2)',\n",
       "  'Transformer-XL DeFINE (141M)',\n",
       "  'DeLight',\n",
       "  'ERNIE-Doc (247M)',\n",
       "  'EfficientNetV2',\n",
       "  'Adaptive Input Transformer + RD',\n",
       "  'DNABERT',\n",
       "  'BERT-RBP',\n",
       "  'ESM2-35M',\n",
       "  'Discriminator Guidance',\n",
       "  'DDPM-IP (CelebA)',\n",
       "  'ONE-PEACE'],\n",
       " 10: ['EI-REHN-1000D',\n",
       "  'DARTS',\n",
       "  'AWD-LSTM-DRILL + dynamic evaluation† (WT2)',\n",
       "  'NAS+ESS (156M)',\n",
       "  'ProBERTa',\n",
       "  'SRU++ Large',\n",
       "  'ProteinBERT',\n",
       "  'DiffDock',\n",
       "  'Fusion in Encoder',\n",
       "  'LLaVA',\n",
       "  'LLaVA 1.5'],\n",
       " 5: ['VD-RHN',\n",
       "  'ISS',\n",
       "  'AWD-LSTM+WT+Cache+IOG (WT2)',\n",
       "  'AWD-LSTM + MoS + Partial Shuffled',\n",
       "  'UDSMProt',\n",
       "  'MMLSTM',\n",
       "  'Tensor-Transformer(1core)+PN (WT103)',\n",
       "  'Transformer local-attention (NesT-B)',\n",
       "  'Detic',\n",
       "  'Segatron-XL large, M=384 + HCP',\n",
       "  'Sparse all-MLP',\n",
       "  'ESM2-8M',\n",
       "  'CaLM',\n",
       "  'MultiBand Diffusion'],\n",
       " 0: ['2-layer-LSTM+Deep-Gradient-Compression',\n",
       "  'Fine-tuned-AWD-LSTM-DOC(fin)',\n",
       "  'Multi-cell LSTM',\n",
       "  'Pluribus',\n",
       "  'TransformerXL + spectrum control',\n",
       "  'DensePhrases',\n",
       "  'CT-MoS (WT2)',\n",
       "  'MedBERT',\n",
       "  'PermuteFormer',\n",
       "  'base LM+GNN+kNN',\n",
       "  'DITTO',\n",
       "  'Mogrifier RLSTM (WT2)',\n",
       "  'VALL-E',\n",
       "  'HyenaDNA',\n",
       "  'CODEFUSION (Python)']}"
      ]
     },
     "execution_count": 322,
     "metadata": {},
     "output_type": "execute_result"
    }
   ],
   "source": [
    "systems_by_percentile"
   ]
  },
  {
   "cell_type": "code",
   "execution_count": 323,
   "metadata": {},
   "outputs": [
    {
     "data": {
      "text/plain": [
       "['BIDAF',\n",
       " 'Transformer',\n",
       " 'GPT',\n",
       " 'GBERT-Large',\n",
       " 'wave2vec 2.0 LARGE',\n",
       " 'AlphaFold 2',\n",
       " 'DeBERTa',\n",
       " 'HuBERT',\n",
       " 'XGLM',\n",
       " 'Imagen',\n",
       " 'NLLB',\n",
       " 'ESM2-3B',\n",
       " 'LLaMA-7B',\n",
       " 'LLaMA-13B',\n",
       " 'WizardLM-7B',\n",
       " 'Pangu-Weather',\n",
       " 'LSTM (Hebbian, Cache, MbPA)',\n",
       " 'SciBERT',\n",
       " 'DD-PPO',\n",
       " 'ViT-Huge/14',\n",
       " 'MSA Transformer',\n",
       " 'M6-T',\n",
       " 'T0-XXL',\n",
       " 'Whisper',\n",
       " 'XGen-7B',\n",
       " 'DeepStack',\n",
       " 'PNASNet-5',\n",
       " 'Population-based DRL',\n",
       " 'Mesh-TensorFlow Transformer 2.9B (translation)',\n",
       " 'Megatron-LM (355M)',\n",
       " 'T5-3B',\n",
       " 'CamemBERT',\n",
       " 'Noisy Student (L2)',\n",
       " 'Once for All',\n",
       " 'CLIP (ViT L/14@336px)',\n",
       " 'ERNIE 3.0',\n",
       " 'BASIC-L',\n",
       " 'XGLM-7.5B',\n",
       " 'ESM2-15B',\n",
       " 'PaLI',\n",
       " 'Taiyi-Stable Diffusion',\n",
       " 'Llama 2-7B',\n",
       " 'Nemotron-3-8B',\n",
       " 'ResNet-152 (ImageNet)',\n",
       " 'PolyNet',\n",
       " 'MoE',\n",
       " 'YOLOv3',\n",
       " 'Transformer (Adaptive Input Embeddings)',\n",
       " 'Mesh-TensorFlow Transformer 4.9B (language modelling)',\n",
       " 'BERT-Large-CAS (PTB+WT2+WT103)',\n",
       " 'Conformer + Wav2vec 2.0 + Noisy Student',\n",
       " 'ProtT5-XXL-BFD',\n",
       " 'CogView',\n",
       " 'ALIGN',\n",
       " 'Florence',\n",
       " 'Stable Diffusion (LDM-KL-8-G)',\n",
       " 'CoCa',\n",
       " 'BloombergGPT',\n",
       " 'StarCoder',\n",
       " 'Llama 2-13B',\n",
       " 'Skywork-13B',\n",
       " 'Big Transformer for Back-Translation',\n",
       " 'MnasNet-A1 + SSDLite',\n",
       " 'MnasNet-A3',\n",
       " 'ALBERT-xxlarge',\n",
       " 'ELECTRA',\n",
       " 'iGPT-L',\n",
       " 'PLUG',\n",
       " 'ProtBERT-BFD',\n",
       " 'CoAtNet',\n",
       " 'FLAN 137B',\n",
       " 'AlexaTM 20B',\n",
       " 'Falcon-40B',\n",
       " 'DeepSpeech2 (English)',\n",
       " 'Xception',\n",
       " 'Libratus',\n",
       " 'IMPALA',\n",
       " 'BERT-Large',\n",
       " 'RoBERTa Large',\n",
       " 'ContextNet + Noisy Student',\n",
       " 'GShard (dense)',\n",
       " 'GPT-NeoX-20B',\n",
       " 'UL2',\n",
       " 'GLM-130B',\n",
       " 'Galactica',\n",
       " 'ViT-22B',\n",
       " 'Llama 2-34B',\n",
       " 'JFT',\n",
       " 'OpenAI TI7 DOTA 1v1',\n",
       " 'AmoebaNet-A (F=448)',\n",
       " 'GPT-2 (1.5B)',\n",
       " 'iGPT-XL',\n",
       " 'DALL-E',\n",
       " 'Meta Pseudo Labels',\n",
       " 'ProtT5-XXL',\n",
       " 'ByT5-XXL',\n",
       " 'GOAT',\n",
       " 'HyperCLOVA',\n",
       " 'AlphaCode',\n",
       " 'Flamingo',\n",
       " 'Parti',\n",
       " 'BlenderBot 3',\n",
       " 'LLaMA-65B',\n",
       " 'PanGu-Σ',\n",
       " 'xTrimoPGLM -100B',\n",
       " 'Yi-34B',\n",
       " 'AlphaGo Fan',\n",
       " 'AlphaGo Lee',\n",
       " 'BigGAN-deep 512x512',\n",
       " 'Megatron-LM (8.3B)',\n",
       " 'OpenAI Five Rerun',\n",
       " 'Turing-NLG',\n",
       " 'Yuan 1.0',\n",
       " 'GLaM',\n",
       " 'LaMDA',\n",
       " 'OPT-175B',\n",
       " 'BLOOM-176B',\n",
       " 'Llama 2-70B',\n",
       " 'ChatGLM3',\n",
       " 'Qwen-72B',\n",
       " 'NASv3 (CIFAR-10)',\n",
       " 'FTW',\n",
       " 'T5-11B',\n",
       " 'AlphaStar',\n",
       " 'mT5-XXL',\n",
       " 'Switch',\n",
       " 'Gopher (280B)',\n",
       " 'Chinchilla',\n",
       " 'U-PaLM (540B)',\n",
       " 'GPT-3.5 (text-davinci-003)',\n",
       " 'Claude 2',\n",
       " 'Falcon 180B',\n",
       " 'GNMT',\n",
       " 'AlphaGo Master',\n",
       " 'AlphaGo Zero',\n",
       " 'AlphaZero',\n",
       " 'ResNeXt-101 32x48d',\n",
       " 'Megatron-BERT',\n",
       " 'OpenAI Five',\n",
       " 'Meena',\n",
       " 'GPT-3 175B (davinci)',\n",
       " 'Megatron-Turing NLG 530B',\n",
       " 'ERNIE 3.0 Titan',\n",
       " 'PaLM (540B)',\n",
       " 'Minerva (540B)',\n",
       " 'GPT-4',\n",
       " 'PaLM 2',\n",
       " 'Inflection-2',\n",
       " 'Gemini Ultra']"
      ]
     },
     "execution_count": 323,
     "metadata": {},
     "output_type": "execute_result"
    }
   ],
   "source": [
    "compute_percentile_threshold = 50\n",
    "selected_systems = []\n",
    "for percentile in range(compute_percentile_threshold, 100, 5):\n",
    "    selected_systems.extend(systems_by_percentile[percentile])\n",
    "selected_systems"
   ]
  },
  {
   "cell_type": "markdown",
   "metadata": {},
   "source": [
    "# Regression"
   ]
  },
  {
   "cell_type": "code",
   "execution_count": 324,
   "metadata": {},
   "outputs": [
    {
     "name": "stderr",
     "output_type": "stream",
     "text": [
      "/var/folders/s2/stl5t_bn7xg9vdfxxr71rzrc0000gn/T/ipykernel_18269/3991044387.py:1: SettingWithCopyWarning:\n",
      "\n",
      "\n",
      "A value is trying to be set on a copy of a slice from a DataFrame.\n",
      "Try using .loc[row_indexer,col_indexer] = value instead\n",
      "\n",
      "See the caveats in the documentation: https://pandas.pydata.org/pandas-docs/stable/user_guide/indexing.html#returning-a-view-versus-a-copy\n",
      "\n"
     ]
    }
   ],
   "source": [
    "access_df['Publication date (float)'] = datetime_to_float_year(\n",
    "    pd.to_datetime(access_df['Publication date'])\n",
    ")"
   ]
  },
  {
   "cell_type": "code",
   "execution_count": 325,
   "metadata": {},
   "outputs": [],
   "source": [
    "filtered_access_df = access_df.loc[access_df['System'].isin(selected_systems)]"
   ]
  },
  {
   "cell_type": "code",
   "execution_count": 326,
   "metadata": {},
   "outputs": [
    {
     "data": {
      "text/html": [
       "<table class=\"simpletable\">\n",
       "<caption>OLS Regression Results</caption>\n",
       "<tr>\n",
       "  <th>Dep. Variable:</th>            <td>y</td>        <th>  R-squared:         </th> <td>   0.576</td>\n",
       "</tr>\n",
       "<tr>\n",
       "  <th>Model:</th>                   <td>OLS</td>       <th>  Adj. R-squared:    </th> <td>   0.569</td>\n",
       "</tr>\n",
       "<tr>\n",
       "  <th>Method:</th>             <td>Least Squares</td>  <th>  F-statistic:       </th> <td>   90.94</td>\n",
       "</tr>\n",
       "<tr>\n",
       "  <th>Date:</th>             <td>Fri, 05 Apr 2024</td> <th>  Prob (F-statistic):</th> <td>4.23e-14</td>\n",
       "</tr>\n",
       "<tr>\n",
       "  <th>Time:</th>                 <td>15:38:01</td>     <th>  Log-Likelihood:    </th> <td> -81.836</td>\n",
       "</tr>\n",
       "<tr>\n",
       "  <th>No. Observations:</th>      <td>    69</td>      <th>  AIC:               </th> <td>   167.7</td>\n",
       "</tr>\n",
       "<tr>\n",
       "  <th>Df Residuals:</th>          <td>    67</td>      <th>  BIC:               </th> <td>   172.1</td>\n",
       "</tr>\n",
       "<tr>\n",
       "  <th>Df Model:</th>              <td>     1</td>      <th>                     </th>     <td> </td>   \n",
       "</tr>\n",
       "<tr>\n",
       "  <th>Covariance Type:</th>      <td>nonrobust</td>    <th>                     </th>     <td> </td>   \n",
       "</tr>\n",
       "</table>\n",
       "<table class=\"simpletable\">\n",
       "<tr>\n",
       "    <td></td>       <th>coef</th>     <th>std err</th>      <th>t</th>      <th>P>|t|</th>  <th>[0.025</th>    <th>0.975]</th>  \n",
       "</tr>\n",
       "<tr>\n",
       "  <th>const</th> <td>-1104.7897</td> <td>  118.274</td> <td>   -9.341</td> <td> 0.000</td> <td>-1340.866</td> <td> -868.713</td>\n",
       "</tr>\n",
       "<tr>\n",
       "  <th>x1</th>    <td>    0.5578</td> <td>    0.058</td> <td>    9.536</td> <td> 0.000</td> <td>    0.441</td> <td>    0.675</td>\n",
       "</tr>\n",
       "</table>\n",
       "<table class=\"simpletable\">\n",
       "<tr>\n",
       "  <th>Omnibus:</th>       <td> 0.956</td> <th>  Durbin-Watson:     </th> <td>   1.673</td>\n",
       "</tr>\n",
       "<tr>\n",
       "  <th>Prob(Omnibus):</th> <td> 0.620</td> <th>  Jarque-Bera (JB):  </th> <td>   0.889</td>\n",
       "</tr>\n",
       "<tr>\n",
       "  <th>Skew:</th>          <td>-0.001</td> <th>  Prob(JB):          </th> <td>   0.641</td>\n",
       "</tr>\n",
       "<tr>\n",
       "  <th>Kurtosis:</th>      <td> 2.444</td> <th>  Cond. No.          </th> <td>2.47e+06</td>\n",
       "</tr>\n",
       "</table><br/><br/>Notes:<br/>[1] Standard Errors assume that the covariance matrix of the errors is correctly specified.<br/>[2] The condition number is large, 2.47e+06. This might indicate that there are<br/>strong multicollinearity or other numerical problems."
      ],
      "text/latex": [
       "\\begin{center}\n",
       "\\begin{tabular}{lclc}\n",
       "\\toprule\n",
       "\\textbf{Dep. Variable:}    &        y         & \\textbf{  R-squared:         } &     0.576   \\\\\n",
       "\\textbf{Model:}            &       OLS        & \\textbf{  Adj. R-squared:    } &     0.569   \\\\\n",
       "\\textbf{Method:}           &  Least Squares   & \\textbf{  F-statistic:       } &     90.94   \\\\\n",
       "\\textbf{Date:}             & Fri, 05 Apr 2024 & \\textbf{  Prob (F-statistic):} &  4.23e-14   \\\\\n",
       "\\textbf{Time:}             &     15:38:01     & \\textbf{  Log-Likelihood:    } &   -81.836   \\\\\n",
       "\\textbf{No. Observations:} &          69      & \\textbf{  AIC:               } &     167.7   \\\\\n",
       "\\textbf{Df Residuals:}     &          67      & \\textbf{  BIC:               } &     172.1   \\\\\n",
       "\\textbf{Df Model:}         &           1      & \\textbf{                     } &             \\\\\n",
       "\\textbf{Covariance Type:}  &    nonrobust     & \\textbf{                     } &             \\\\\n",
       "\\bottomrule\n",
       "\\end{tabular}\n",
       "\\begin{tabular}{lcccccc}\n",
       "               & \\textbf{coef} & \\textbf{std err} & \\textbf{t} & \\textbf{P$> |$t$|$} & \\textbf{[0.025} & \\textbf{0.975]}  \\\\\n",
       "\\midrule\n",
       "\\textbf{const} &   -1104.7897  &      118.274     &    -9.341  &         0.000        &    -1340.866    &     -868.713     \\\\\n",
       "\\textbf{x1}    &       0.5578  &        0.058     &     9.536  &         0.000        &        0.441    &        0.675     \\\\\n",
       "\\bottomrule\n",
       "\\end{tabular}\n",
       "\\begin{tabular}{lclc}\n",
       "\\textbf{Omnibus:}       &  0.956 & \\textbf{  Durbin-Watson:     } &    1.673  \\\\\n",
       "\\textbf{Prob(Omnibus):} &  0.620 & \\textbf{  Jarque-Bera (JB):  } &    0.889  \\\\\n",
       "\\textbf{Skew:}          & -0.001 & \\textbf{  Prob(JB):          } &    0.641  \\\\\n",
       "\\textbf{Kurtosis:}      &  2.444 & \\textbf{  Cond. No.          } & 2.47e+06  \\\\\n",
       "\\bottomrule\n",
       "\\end{tabular}\n",
       "%\\caption{OLS Regression Results}\n",
       "\\end{center}\n",
       "\n",
       "Notes: \\newline\n",
       " [1] Standard Errors assume that the covariance matrix of the errors is correctly specified. \\newline\n",
       " [2] The condition number is large, 2.47e+06. This might indicate that there are \\newline\n",
       " strong multicollinearity or other numerical problems."
      ],
      "text/plain": [
       "<class 'statsmodels.iolib.summary.Summary'>\n",
       "\"\"\"\n",
       "                            OLS Regression Results                            \n",
       "==============================================================================\n",
       "Dep. Variable:                      y   R-squared:                       0.576\n",
       "Model:                            OLS   Adj. R-squared:                  0.569\n",
       "Method:                 Least Squares   F-statistic:                     90.94\n",
       "Date:                Fri, 05 Apr 2024   Prob (F-statistic):           4.23e-14\n",
       "Time:                        15:38:01   Log-Likelihood:                -81.836\n",
       "No. Observations:                  69   AIC:                             167.7\n",
       "Df Residuals:                      67   BIC:                             172.1\n",
       "Df Model:                           1                                         \n",
       "Covariance Type:            nonrobust                                         \n",
       "==============================================================================\n",
       "                 coef    std err          t      P>|t|      [0.025      0.975]\n",
       "------------------------------------------------------------------------------\n",
       "const      -1104.7897    118.274     -9.341      0.000   -1340.866    -868.713\n",
       "x1             0.5578      0.058      9.536      0.000       0.441       0.675\n",
       "==============================================================================\n",
       "Omnibus:                        0.956   Durbin-Watson:                   1.673\n",
       "Prob(Omnibus):                  0.620   Jarque-Bera (JB):                0.889\n",
       "Skew:                          -0.001   Prob(JB):                        0.641\n",
       "Kurtosis:                       2.444   Cond. No.                     2.47e+06\n",
       "==============================================================================\n",
       "\n",
       "Notes:\n",
       "[1] Standard Errors assume that the covariance matrix of the errors is correctly specified.\n",
       "[2] The condition number is large, 2.47e+06. This might indicate that there are\n",
       "strong multicollinearity or other numerical problems.\n",
       "\"\"\""
      ]
     },
     "execution_count": 326,
     "metadata": {},
     "output_type": "execute_result"
    }
   ],
   "source": [
    "reg_results = fit_ols_regression(\n",
    "    filtered_access_df,\n",
    "    ['Publication date (float)'],\n",
    "    'Training compute (FLOP)',\n",
    "    logy=True\n",
    ")\n",
    "reg_results.summary()"
   ]
  },
  {
   "cell_type": "code",
   "execution_count": 327,
   "metadata": {},
   "outputs": [
    {
     "data": {
      "text/html": [
       "<table class=\"simpletable\">\n",
       "<caption>OLS Regression Results</caption>\n",
       "<tr>\n",
       "  <th>Dep. Variable:</th>            <td>y</td>        <th>  R-squared:         </th> <td>   0.696</td>\n",
       "</tr>\n",
       "<tr>\n",
       "  <th>Model:</th>                   <td>OLS</td>       <th>  Adj. R-squared:    </th> <td>   0.686</td>\n",
       "</tr>\n",
       "<tr>\n",
       "  <th>Method:</th>             <td>Least Squares</td>  <th>  F-statistic:       </th> <td>   68.70</td>\n",
       "</tr>\n",
       "<tr>\n",
       "  <th>Date:</th>             <td>Fri, 05 Apr 2024</td> <th>  Prob (F-statistic):</th> <td>2.99e-09</td>\n",
       "</tr>\n",
       "<tr>\n",
       "  <th>Time:</th>                 <td>15:38:01</td>     <th>  Log-Likelihood:    </th> <td> -26.927</td>\n",
       "</tr>\n",
       "<tr>\n",
       "  <th>No. Observations:</th>      <td>    32</td>      <th>  AIC:               </th> <td>   57.85</td>\n",
       "</tr>\n",
       "<tr>\n",
       "  <th>Df Residuals:</th>          <td>    30</td>      <th>  BIC:               </th> <td>   60.79</td>\n",
       "</tr>\n",
       "<tr>\n",
       "  <th>Df Model:</th>              <td>     1</td>      <th>                     </th>     <td> </td>   \n",
       "</tr>\n",
       "<tr>\n",
       "  <th>Covariance Type:</th>      <td>nonrobust</td>    <th>                     </th>     <td> </td>   \n",
       "</tr>\n",
       "</table>\n",
       "<table class=\"simpletable\">\n",
       "<tr>\n",
       "    <td></td>       <th>coef</th>     <th>std err</th>      <th>t</th>      <th>P>|t|</th>  <th>[0.025</th>    <th>0.975]</th>  \n",
       "</tr>\n",
       "<tr>\n",
       "  <th>const</th> <td>-1175.2664</td> <td>  144.549</td> <td>   -8.131</td> <td> 0.000</td> <td>-1470.476</td> <td> -880.057</td>\n",
       "</tr>\n",
       "<tr>\n",
       "  <th>x1</th>    <td>    0.5924</td> <td>    0.071</td> <td>    8.288</td> <td> 0.000</td> <td>    0.446</td> <td>    0.738</td>\n",
       "</tr>\n",
       "</table>\n",
       "<table class=\"simpletable\">\n",
       "<tr>\n",
       "  <th>Omnibus:</th>       <td> 0.248</td> <th>  Durbin-Watson:     </th> <td>   1.572</td>\n",
       "</tr>\n",
       "<tr>\n",
       "  <th>Prob(Omnibus):</th> <td> 0.883</td> <th>  Jarque-Bera (JB):  </th> <td>   0.443</td>\n",
       "</tr>\n",
       "<tr>\n",
       "  <th>Skew:</th>          <td>-0.013</td> <th>  Prob(JB):          </th> <td>   0.801</td>\n",
       "</tr>\n",
       "<tr>\n",
       "  <th>Kurtosis:</th>      <td> 2.424</td> <th>  Cond. No.          </th> <td>2.85e+06</td>\n",
       "</tr>\n",
       "</table><br/><br/>Notes:<br/>[1] Standard Errors assume that the covariance matrix of the errors is correctly specified.<br/>[2] The condition number is large, 2.85e+06. This might indicate that there are<br/>strong multicollinearity or other numerical problems."
      ],
      "text/latex": [
       "\\begin{center}\n",
       "\\begin{tabular}{lclc}\n",
       "\\toprule\n",
       "\\textbf{Dep. Variable:}    &        y         & \\textbf{  R-squared:         } &     0.696   \\\\\n",
       "\\textbf{Model:}            &       OLS        & \\textbf{  Adj. R-squared:    } &     0.686   \\\\\n",
       "\\textbf{Method:}           &  Least Squares   & \\textbf{  F-statistic:       } &     68.70   \\\\\n",
       "\\textbf{Date:}             & Fri, 05 Apr 2024 & \\textbf{  Prob (F-statistic):} &  2.99e-09   \\\\\n",
       "\\textbf{Time:}             &     15:38:01     & \\textbf{  Log-Likelihood:    } &   -26.927   \\\\\n",
       "\\textbf{No. Observations:} &          32      & \\textbf{  AIC:               } &     57.85   \\\\\n",
       "\\textbf{Df Residuals:}     &          30      & \\textbf{  BIC:               } &     60.79   \\\\\n",
       "\\textbf{Df Model:}         &           1      & \\textbf{                     } &             \\\\\n",
       "\\textbf{Covariance Type:}  &    nonrobust     & \\textbf{                     } &             \\\\\n",
       "\\bottomrule\n",
       "\\end{tabular}\n",
       "\\begin{tabular}{lcccccc}\n",
       "               & \\textbf{coef} & \\textbf{std err} & \\textbf{t} & \\textbf{P$> |$t$|$} & \\textbf{[0.025} & \\textbf{0.975]}  \\\\\n",
       "\\midrule\n",
       "\\textbf{const} &   -1175.2664  &      144.549     &    -8.131  &         0.000        &    -1470.476    &     -880.057     \\\\\n",
       "\\textbf{x1}    &       0.5924  &        0.071     &     8.288  &         0.000        &        0.446    &        0.738     \\\\\n",
       "\\bottomrule\n",
       "\\end{tabular}\n",
       "\\begin{tabular}{lclc}\n",
       "\\textbf{Omnibus:}       &  0.248 & \\textbf{  Durbin-Watson:     } &    1.572  \\\\\n",
       "\\textbf{Prob(Omnibus):} &  0.883 & \\textbf{  Jarque-Bera (JB):  } &    0.443  \\\\\n",
       "\\textbf{Skew:}          & -0.013 & \\textbf{  Prob(JB):          } &    0.801  \\\\\n",
       "\\textbf{Kurtosis:}      &  2.424 & \\textbf{  Cond. No.          } & 2.85e+06  \\\\\n",
       "\\bottomrule\n",
       "\\end{tabular}\n",
       "%\\caption{OLS Regression Results}\n",
       "\\end{center}\n",
       "\n",
       "Notes: \\newline\n",
       " [1] Standard Errors assume that the covariance matrix of the errors is correctly specified. \\newline\n",
       " [2] The condition number is large, 2.85e+06. This might indicate that there are \\newline\n",
       " strong multicollinearity or other numerical problems."
      ],
      "text/plain": [
       "<class 'statsmodels.iolib.summary.Summary'>\n",
       "\"\"\"\n",
       "                            OLS Regression Results                            \n",
       "==============================================================================\n",
       "Dep. Variable:                      y   R-squared:                       0.696\n",
       "Model:                            OLS   Adj. R-squared:                  0.686\n",
       "Method:                 Least Squares   F-statistic:                     68.70\n",
       "Date:                Fri, 05 Apr 2024   Prob (F-statistic):           2.99e-09\n",
       "Time:                        15:38:01   Log-Likelihood:                -26.927\n",
       "No. Observations:                  32   AIC:                             57.85\n",
       "Df Residuals:                      30   BIC:                             60.79\n",
       "Df Model:                           1                                         \n",
       "Covariance Type:            nonrobust                                         \n",
       "==============================================================================\n",
       "                 coef    std err          t      P>|t|      [0.025      0.975]\n",
       "------------------------------------------------------------------------------\n",
       "const      -1175.2664    144.549     -8.131      0.000   -1470.476    -880.057\n",
       "x1             0.5924      0.071      8.288      0.000       0.446       0.738\n",
       "==============================================================================\n",
       "Omnibus:                        0.248   Durbin-Watson:                   1.572\n",
       "Prob(Omnibus):                  0.883   Jarque-Bera (JB):                0.443\n",
       "Skew:                          -0.013   Prob(JB):                        0.801\n",
       "Kurtosis:                       2.424   Cond. No.                     2.85e+06\n",
       "==============================================================================\n",
       "\n",
       "Notes:\n",
       "[1] Standard Errors assume that the covariance matrix of the errors is correctly specified.\n",
       "[2] The condition number is large, 2.85e+06. This might indicate that there are\n",
       "strong multicollinearity or other numerical problems.\n",
       "\"\"\""
      ]
     },
     "execution_count": 327,
     "metadata": {},
     "output_type": "execute_result"
    }
   ],
   "source": [
    "open_reg_results = fit_ols_regression(\n",
    "    filtered_access_df[filtered_access_df['Model open/closed'] == 'Open'],\n",
    "    ['Publication date (float)'],\n",
    "    'Training compute (FLOP)',\n",
    "    logy=True\n",
    ")\n",
    "open_reg_results.summary()"
   ]
  },
  {
   "cell_type": "code",
   "execution_count": 328,
   "metadata": {},
   "outputs": [
    {
     "data": {
      "text/html": [
       "<table class=\"simpletable\">\n",
       "<caption>OLS Regression Results</caption>\n",
       "<tr>\n",
       "  <th>Dep. Variable:</th>            <td>y</td>        <th>  R-squared:         </th> <td>   0.676</td>\n",
       "</tr>\n",
       "<tr>\n",
       "  <th>Model:</th>                   <td>OLS</td>       <th>  Adj. R-squared:    </th> <td>   0.667</td>\n",
       "</tr>\n",
       "<tr>\n",
       "  <th>Method:</th>             <td>Least Squares</td>  <th>  F-statistic:       </th> <td>   73.08</td>\n",
       "</tr>\n",
       "<tr>\n",
       "  <th>Date:</th>             <td>Fri, 05 Apr 2024</td> <th>  Prob (F-statistic):</th> <td>4.33e-10</td>\n",
       "</tr>\n",
       "<tr>\n",
       "  <th>Time:</th>                 <td>15:38:01</td>     <th>  Log-Likelihood:    </th> <td> -41.676</td>\n",
       "</tr>\n",
       "<tr>\n",
       "  <th>No. Observations:</th>      <td>    37</td>      <th>  AIC:               </th> <td>   87.35</td>\n",
       "</tr>\n",
       "<tr>\n",
       "  <th>Df Residuals:</th>          <td>    35</td>      <th>  BIC:               </th> <td>   90.57</td>\n",
       "</tr>\n",
       "<tr>\n",
       "  <th>Df Model:</th>              <td>     1</td>      <th>                     </th>     <td> </td>   \n",
       "</tr>\n",
       "<tr>\n",
       "  <th>Covariance Type:</th>      <td>nonrobust</td>    <th>                     </th>     <td> </td>   \n",
       "</tr>\n",
       "</table>\n",
       "<table class=\"simpletable\">\n",
       "<tr>\n",
       "    <td></td>       <th>coef</th>     <th>std err</th>      <th>t</th>      <th>P>|t|</th>  <th>[0.025</th>    <th>0.975]</th>  \n",
       "</tr>\n",
       "<tr>\n",
       "  <th>const</th> <td>-1195.4736</td> <td>  142.574</td> <td>   -8.385</td> <td> 0.000</td> <td>-1484.915</td> <td> -906.032</td>\n",
       "</tr>\n",
       "<tr>\n",
       "  <th>x1</th>    <td>    0.6029</td> <td>    0.071</td> <td>    8.549</td> <td> 0.000</td> <td>    0.460</td> <td>    0.746</td>\n",
       "</tr>\n",
       "</table>\n",
       "<table class=\"simpletable\">\n",
       "<tr>\n",
       "  <th>Omnibus:</th>       <td> 1.533</td> <th>  Durbin-Watson:     </th> <td>   1.710</td>\n",
       "</tr>\n",
       "<tr>\n",
       "  <th>Prob(Omnibus):</th> <td> 0.465</td> <th>  Jarque-Bera (JB):  </th> <td>   1.155</td>\n",
       "</tr>\n",
       "<tr>\n",
       "  <th>Skew:</th>          <td>-0.430</td> <th>  Prob(JB):          </th> <td>   0.561</td>\n",
       "</tr>\n",
       "<tr>\n",
       "  <th>Kurtosis:</th>      <td> 2.907</td> <th>  Cond. No.          </th> <td>2.28e+06</td>\n",
       "</tr>\n",
       "</table><br/><br/>Notes:<br/>[1] Standard Errors assume that the covariance matrix of the errors is correctly specified.<br/>[2] The condition number is large, 2.28e+06. This might indicate that there are<br/>strong multicollinearity or other numerical problems."
      ],
      "text/latex": [
       "\\begin{center}\n",
       "\\begin{tabular}{lclc}\n",
       "\\toprule\n",
       "\\textbf{Dep. Variable:}    &        y         & \\textbf{  R-squared:         } &     0.676   \\\\\n",
       "\\textbf{Model:}            &       OLS        & \\textbf{  Adj. R-squared:    } &     0.667   \\\\\n",
       "\\textbf{Method:}           &  Least Squares   & \\textbf{  F-statistic:       } &     73.08   \\\\\n",
       "\\textbf{Date:}             & Fri, 05 Apr 2024 & \\textbf{  Prob (F-statistic):} &  4.33e-10   \\\\\n",
       "\\textbf{Time:}             &     15:38:01     & \\textbf{  Log-Likelihood:    } &   -41.676   \\\\\n",
       "\\textbf{No. Observations:} &          37      & \\textbf{  AIC:               } &     87.35   \\\\\n",
       "\\textbf{Df Residuals:}     &          35      & \\textbf{  BIC:               } &     90.57   \\\\\n",
       "\\textbf{Df Model:}         &           1      & \\textbf{                     } &             \\\\\n",
       "\\textbf{Covariance Type:}  &    nonrobust     & \\textbf{                     } &             \\\\\n",
       "\\bottomrule\n",
       "\\end{tabular}\n",
       "\\begin{tabular}{lcccccc}\n",
       "               & \\textbf{coef} & \\textbf{std err} & \\textbf{t} & \\textbf{P$> |$t$|$} & \\textbf{[0.025} & \\textbf{0.975]}  \\\\\n",
       "\\midrule\n",
       "\\textbf{const} &   -1195.4736  &      142.574     &    -8.385  &         0.000        &    -1484.915    &     -906.032     \\\\\n",
       "\\textbf{x1}    &       0.6029  &        0.071     &     8.549  &         0.000        &        0.460    &        0.746     \\\\\n",
       "\\bottomrule\n",
       "\\end{tabular}\n",
       "\\begin{tabular}{lclc}\n",
       "\\textbf{Omnibus:}       &  1.533 & \\textbf{  Durbin-Watson:     } &    1.710  \\\\\n",
       "\\textbf{Prob(Omnibus):} &  0.465 & \\textbf{  Jarque-Bera (JB):  } &    1.155  \\\\\n",
       "\\textbf{Skew:}          & -0.430 & \\textbf{  Prob(JB):          } &    0.561  \\\\\n",
       "\\textbf{Kurtosis:}      &  2.907 & \\textbf{  Cond. No.          } & 2.28e+06  \\\\\n",
       "\\bottomrule\n",
       "\\end{tabular}\n",
       "%\\caption{OLS Regression Results}\n",
       "\\end{center}\n",
       "\n",
       "Notes: \\newline\n",
       " [1] Standard Errors assume that the covariance matrix of the errors is correctly specified. \\newline\n",
       " [2] The condition number is large, 2.28e+06. This might indicate that there are \\newline\n",
       " strong multicollinearity or other numerical problems."
      ],
      "text/plain": [
       "<class 'statsmodels.iolib.summary.Summary'>\n",
       "\"\"\"\n",
       "                            OLS Regression Results                            \n",
       "==============================================================================\n",
       "Dep. Variable:                      y   R-squared:                       0.676\n",
       "Model:                            OLS   Adj. R-squared:                  0.667\n",
       "Method:                 Least Squares   F-statistic:                     73.08\n",
       "Date:                Fri, 05 Apr 2024   Prob (F-statistic):           4.33e-10\n",
       "Time:                        15:38:01   Log-Likelihood:                -41.676\n",
       "No. Observations:                  37   AIC:                             87.35\n",
       "Df Residuals:                      35   BIC:                             90.57\n",
       "Df Model:                           1                                         \n",
       "Covariance Type:            nonrobust                                         \n",
       "==============================================================================\n",
       "                 coef    std err          t      P>|t|      [0.025      0.975]\n",
       "------------------------------------------------------------------------------\n",
       "const      -1195.4736    142.574     -8.385      0.000   -1484.915    -906.032\n",
       "x1             0.6029      0.071      8.549      0.000       0.460       0.746\n",
       "==============================================================================\n",
       "Omnibus:                        1.533   Durbin-Watson:                   1.710\n",
       "Prob(Omnibus):                  0.465   Jarque-Bera (JB):                1.155\n",
       "Skew:                          -0.430   Prob(JB):                        0.561\n",
       "Kurtosis:                       2.907   Cond. No.                     2.28e+06\n",
       "==============================================================================\n",
       "\n",
       "Notes:\n",
       "[1] Standard Errors assume that the covariance matrix of the errors is correctly specified.\n",
       "[2] The condition number is large, 2.28e+06. This might indicate that there are\n",
       "strong multicollinearity or other numerical problems.\n",
       "\"\"\""
      ]
     },
     "execution_count": 328,
     "metadata": {},
     "output_type": "execute_result"
    }
   ],
   "source": [
    "closed_reg_results = fit_ols_regression(\n",
    "    filtered_access_df[filtered_access_df['Model open/closed'] == 'Closed'],\n",
    "    ['Publication date (float)'],\n",
    "    'Training compute (FLOP)',\n",
    "    logy=True\n",
    ")\n",
    "closed_reg_results.summary()"
   ]
  },
  {
   "cell_type": "code",
   "execution_count": 329,
   "metadata": {},
   "outputs": [
    {
     "name": "stdout",
     "output_type": "stream",
     "text": [
      "All:\n",
      "Adj. R^2=0.57\n",
      "0.56 OOMs/year (95% CI: 0.44, 0.67)\n",
      "3.6x/year (95% CI: 2.8x, 4.7x)\n",
      "doubling time of 6 months (95% CI: 5, 8)\n",
      "Open:\n",
      "Adj. R^2=0.69\n",
      "0.59 OOMs/year (95% CI: 0.45, 0.74)\n",
      "3.9x/year (95% CI: 2.8x, 5.5x)\n",
      "doubling time of 6 months (95% CI: 5, 8)\n",
      "Closed:\n",
      "Adj. R^2=0.67\n",
      "0.60 OOMs/year (95% CI: 0.46, 0.75)\n",
      "4.0x/year (95% CI: 2.9x, 5.6x)\n",
      "doubling time of 6 months (95% CI: 5, 8)\n"
     ]
    }
   ],
   "source": [
    "print('All:')\n",
    "print_growth_rates(reg_results)\n",
    "print('Open:')\n",
    "print_growth_rates(open_reg_results)\n",
    "print('Closed:')\n",
    "print_growth_rates(closed_reg_results)"
   ]
  },
  {
   "cell_type": "markdown",
   "metadata": {},
   "source": [
    "## Predictions"
   ]
  },
  {
   "cell_type": "code",
   "execution_count": 330,
   "metadata": {},
   "outputs": [
    {
     "data": {
      "text/html": [
       "<div>\n",
       "<style scoped>\n",
       "    .dataframe tbody tr th:only-of-type {\n",
       "        vertical-align: middle;\n",
       "    }\n",
       "\n",
       "    .dataframe tbody tr th {\n",
       "        vertical-align: top;\n",
       "    }\n",
       "\n",
       "    .dataframe thead th {\n",
       "        text-align: right;\n",
       "    }\n",
       "</style>\n",
       "<table border=\"1\" class=\"dataframe\">\n",
       "  <thead>\n",
       "    <tr style=\"text-align: right;\">\n",
       "      <th></th>\n",
       "      <th>Publication date (float)</th>\n",
       "    </tr>\n",
       "  </thead>\n",
       "  <tbody>\n",
       "    <tr>\n",
       "      <th>0</th>\n",
       "      <td>2015.000000</td>\n",
       "    </tr>\n",
       "    <tr>\n",
       "      <th>1</th>\n",
       "      <td>2015.083333</td>\n",
       "    </tr>\n",
       "    <tr>\n",
       "      <th>2</th>\n",
       "      <td>2015.166667</td>\n",
       "    </tr>\n",
       "    <tr>\n",
       "      <th>3</th>\n",
       "      <td>2015.250000</td>\n",
       "    </tr>\n",
       "    <tr>\n",
       "      <th>4</th>\n",
       "      <td>2015.333333</td>\n",
       "    </tr>\n",
       "    <tr>\n",
       "      <th>...</th>\n",
       "      <td>...</td>\n",
       "    </tr>\n",
       "    <tr>\n",
       "      <th>116</th>\n",
       "      <td>2024.666667</td>\n",
       "    </tr>\n",
       "    <tr>\n",
       "      <th>117</th>\n",
       "      <td>2024.750000</td>\n",
       "    </tr>\n",
       "    <tr>\n",
       "      <th>118</th>\n",
       "      <td>2024.833333</td>\n",
       "    </tr>\n",
       "    <tr>\n",
       "      <th>119</th>\n",
       "      <td>2024.916667</td>\n",
       "    </tr>\n",
       "    <tr>\n",
       "      <th>120</th>\n",
       "      <td>2025.000000</td>\n",
       "    </tr>\n",
       "  </tbody>\n",
       "</table>\n",
       "<p>121 rows × 1 columns</p>\n",
       "</div>"
      ],
      "text/plain": [
       "     Publication date (float)\n",
       "0                 2015.000000\n",
       "1                 2015.083333\n",
       "2                 2015.166667\n",
       "3                 2015.250000\n",
       "4                 2015.333333\n",
       "..                        ...\n",
       "116               2024.666667\n",
       "117               2024.750000\n",
       "118               2024.833333\n",
       "119               2024.916667\n",
       "120               2025.000000\n",
       "\n",
       "[121 rows x 1 columns]"
      ]
     },
     "execution_count": 330,
     "metadata": {},
     "output_type": "execute_result"
    }
   ],
   "source": [
    "pred_start_year = 2015\n",
    "pred_end_year = 2025\n",
    "pred_start_date = f'{pred_start_year}-01-01'\n",
    "pred_end_date = f'{pred_end_year}-01-01'\n",
    "num_preds = (pred_end_year - pred_start_year) * 12 + 1\n",
    "\n",
    "pred_years = pd.DataFrame({'Publication date (float)': np.linspace(pred_start_year, pred_end_year, num_preds)})\n",
    "pred_years"
   ]
  },
  {
   "cell_type": "code",
   "execution_count": 331,
   "metadata": {},
   "outputs": [
    {
     "data": {
      "text/html": [
       "<div>\n",
       "<style scoped>\n",
       "    .dataframe tbody tr th:only-of-type {\n",
       "        vertical-align: middle;\n",
       "    }\n",
       "\n",
       "    .dataframe tbody tr th {\n",
       "        vertical-align: top;\n",
       "    }\n",
       "\n",
       "    .dataframe thead th {\n",
       "        text-align: right;\n",
       "    }\n",
       "</style>\n",
       "<table border=\"1\" class=\"dataframe\">\n",
       "  <thead>\n",
       "    <tr style=\"text-align: right;\">\n",
       "      <th></th>\n",
       "      <th>mean</th>\n",
       "      <th>mean_se</th>\n",
       "      <th>mean_ci_lower</th>\n",
       "      <th>mean_ci_upper</th>\n",
       "      <th>obs_ci_lower</th>\n",
       "      <th>obs_ci_upper</th>\n",
       "      <th>Publication date (float)</th>\n",
       "      <th>Publication date</th>\n",
       "    </tr>\n",
       "  </thead>\n",
       "  <tbody>\n",
       "    <tr>\n",
       "      <th>0</th>\n",
       "      <td>18.490950</td>\n",
       "      <td>0.530567</td>\n",
       "      <td>17.407388</td>\n",
       "      <td>19.574513</td>\n",
       "      <td>16.886007</td>\n",
       "      <td>20.095893</td>\n",
       "      <td>2015.000000</td>\n",
       "      <td>2015-01-01</td>\n",
       "    </tr>\n",
       "    <tr>\n",
       "      <th>1</th>\n",
       "      <td>18.540320</td>\n",
       "      <td>0.524724</td>\n",
       "      <td>17.468691</td>\n",
       "      <td>19.611949</td>\n",
       "      <td>16.943409</td>\n",
       "      <td>20.137231</td>\n",
       "      <td>2015.083333</td>\n",
       "      <td>2015-01-31</td>\n",
       "    </tr>\n",
       "    <tr>\n",
       "      <th>2</th>\n",
       "      <td>18.589689</td>\n",
       "      <td>0.518883</td>\n",
       "      <td>17.529988</td>\n",
       "      <td>19.649391</td>\n",
       "      <td>17.000758</td>\n",
       "      <td>20.178621</td>\n",
       "      <td>2015.166667</td>\n",
       "      <td>2015-03-02</td>\n",
       "    </tr>\n",
       "    <tr>\n",
       "      <th>3</th>\n",
       "      <td>18.639059</td>\n",
       "      <td>0.513046</td>\n",
       "      <td>17.591280</td>\n",
       "      <td>19.686838</td>\n",
       "      <td>17.058054</td>\n",
       "      <td>20.220064</td>\n",
       "      <td>2015.250000</td>\n",
       "      <td>2015-04-02</td>\n",
       "    </tr>\n",
       "    <tr>\n",
       "      <th>4</th>\n",
       "      <td>18.688429</td>\n",
       "      <td>0.507210</td>\n",
       "      <td>17.652567</td>\n",
       "      <td>19.724291</td>\n",
       "      <td>17.115296</td>\n",
       "      <td>20.261561</td>\n",
       "      <td>2015.333333</td>\n",
       "      <td>2015-05-02</td>\n",
       "    </tr>\n",
       "    <tr>\n",
       "      <th>...</th>\n",
       "      <td>...</td>\n",
       "      <td>...</td>\n",
       "      <td>...</td>\n",
       "      <td>...</td>\n",
       "      <td>...</td>\n",
       "      <td>...</td>\n",
       "      <td>...</td>\n",
       "      <td>...</td>\n",
       "    </tr>\n",
       "    <tr>\n",
       "      <th>116</th>\n",
       "      <td>24.217826</td>\n",
       "      <td>0.198827</td>\n",
       "      <td>23.811767</td>\n",
       "      <td>24.623885</td>\n",
       "      <td>22.966179</td>\n",
       "      <td>25.469472</td>\n",
       "      <td>2024.666667</td>\n",
       "      <td>2024-09-01</td>\n",
       "    </tr>\n",
       "    <tr>\n",
       "      <th>117</th>\n",
       "      <td>24.267195</td>\n",
       "      <td>0.203954</td>\n",
       "      <td>23.850665</td>\n",
       "      <td>24.683726</td>\n",
       "      <td>23.012112</td>\n",
       "      <td>25.522278</td>\n",
       "      <td>2024.750000</td>\n",
       "      <td>2024-10-01</td>\n",
       "    </tr>\n",
       "    <tr>\n",
       "      <th>118</th>\n",
       "      <td>24.316565</td>\n",
       "      <td>0.209126</td>\n",
       "      <td>23.889473</td>\n",
       "      <td>24.743657</td>\n",
       "      <td>23.057938</td>\n",
       "      <td>25.575192</td>\n",
       "      <td>2024.833333</td>\n",
       "      <td>2024-10-31</td>\n",
       "    </tr>\n",
       "    <tr>\n",
       "      <th>119</th>\n",
       "      <td>24.365935</td>\n",
       "      <td>0.214338</td>\n",
       "      <td>23.928198</td>\n",
       "      <td>24.803671</td>\n",
       "      <td>23.103655</td>\n",
       "      <td>25.628214</td>\n",
       "      <td>2024.916667</td>\n",
       "      <td>2024-12-01</td>\n",
       "    </tr>\n",
       "    <tr>\n",
       "      <th>120</th>\n",
       "      <td>24.415304</td>\n",
       "      <td>0.219588</td>\n",
       "      <td>23.966846</td>\n",
       "      <td>24.863763</td>\n",
       "      <td>23.149267</td>\n",
       "      <td>25.681342</td>\n",
       "      <td>2025.000000</td>\n",
       "      <td>2025-01-01</td>\n",
       "    </tr>\n",
       "  </tbody>\n",
       "</table>\n",
       "<p>121 rows × 8 columns</p>\n",
       "</div>"
      ],
      "text/plain": [
       "          mean   mean_se  mean_ci_lower  mean_ci_upper  obs_ci_lower  \\\n",
       "0    18.490950  0.530567      17.407388      19.574513     16.886007   \n",
       "1    18.540320  0.524724      17.468691      19.611949     16.943409   \n",
       "2    18.589689  0.518883      17.529988      19.649391     17.000758   \n",
       "3    18.639059  0.513046      17.591280      19.686838     17.058054   \n",
       "4    18.688429  0.507210      17.652567      19.724291     17.115296   \n",
       "..         ...       ...            ...            ...           ...   \n",
       "116  24.217826  0.198827      23.811767      24.623885     22.966179   \n",
       "117  24.267195  0.203954      23.850665      24.683726     23.012112   \n",
       "118  24.316565  0.209126      23.889473      24.743657     23.057938   \n",
       "119  24.365935  0.214338      23.928198      24.803671     23.103655   \n",
       "120  24.415304  0.219588      23.966846      24.863763     23.149267   \n",
       "\n",
       "     obs_ci_upper  Publication date (float) Publication date  \n",
       "0       20.095893               2015.000000       2015-01-01  \n",
       "1       20.137231               2015.083333       2015-01-31  \n",
       "2       20.178621               2015.166667       2015-03-02  \n",
       "3       20.220064               2015.250000       2015-04-02  \n",
       "4       20.261561               2015.333333       2015-05-02  \n",
       "..            ...                       ...              ...  \n",
       "116     25.469472               2024.666667       2024-09-01  \n",
       "117     25.522278               2024.750000       2024-10-01  \n",
       "118     25.575192               2024.833333       2024-10-31  \n",
       "119     25.628214               2024.916667       2024-12-01  \n",
       "120     25.681342               2025.000000       2025-01-01  \n",
       "\n",
       "[121 rows x 8 columns]"
      ]
     },
     "execution_count": 331,
     "metadata": {},
     "output_type": "execute_result"
    }
   ],
   "source": [
    "predicted_open_df = get_predictions(open_reg_results, pred_years, ['Publication date (float)'])\n",
    "predicted_open_df['Publication date'] = predicted_open_df['Publication date (float)'].apply(float_year_to_datetime)\n",
    "predicted_open_df"
   ]
  },
  {
   "cell_type": "code",
   "execution_count": 332,
   "metadata": {},
   "outputs": [],
   "source": [
    "predicted_open_df.set_index('Publication date', inplace=True)"
   ]
  },
  {
   "cell_type": "code",
   "execution_count": 333,
   "metadata": {},
   "outputs": [
    {
     "data": {
      "text/html": [
       "<div>\n",
       "<style scoped>\n",
       "    .dataframe tbody tr th:only-of-type {\n",
       "        vertical-align: middle;\n",
       "    }\n",
       "\n",
       "    .dataframe tbody tr th {\n",
       "        vertical-align: top;\n",
       "    }\n",
       "\n",
       "    .dataframe thead th {\n",
       "        text-align: right;\n",
       "    }\n",
       "</style>\n",
       "<table border=\"1\" class=\"dataframe\">\n",
       "  <thead>\n",
       "    <tr style=\"text-align: right;\">\n",
       "      <th></th>\n",
       "      <th>mean</th>\n",
       "      <th>mean_se</th>\n",
       "      <th>mean_ci_lower</th>\n",
       "      <th>mean_ci_upper</th>\n",
       "      <th>obs_ci_lower</th>\n",
       "      <th>obs_ci_upper</th>\n",
       "      <th>Publication date (float)</th>\n",
       "      <th>Publication date</th>\n",
       "    </tr>\n",
       "  </thead>\n",
       "  <tbody>\n",
       "    <tr>\n",
       "      <th>0</th>\n",
       "      <td>19.285054</td>\n",
       "      <td>0.493049</td>\n",
       "      <td>18.284111</td>\n",
       "      <td>20.285997</td>\n",
       "      <td>17.433332</td>\n",
       "      <td>21.136776</td>\n",
       "      <td>2015.000000</td>\n",
       "      <td>2015-01-01</td>\n",
       "    </tr>\n",
       "    <tr>\n",
       "      <th>1</th>\n",
       "      <td>19.335292</td>\n",
       "      <td>0.487370</td>\n",
       "      <td>18.345878</td>\n",
       "      <td>20.324707</td>\n",
       "      <td>17.489776</td>\n",
       "      <td>21.180808</td>\n",
       "      <td>2015.083333</td>\n",
       "      <td>2015-01-31</td>\n",
       "    </tr>\n",
       "    <tr>\n",
       "      <th>2</th>\n",
       "      <td>19.385530</td>\n",
       "      <td>0.481696</td>\n",
       "      <td>18.407635</td>\n",
       "      <td>20.363426</td>\n",
       "      <td>17.546164</td>\n",
       "      <td>21.224896</td>\n",
       "      <td>2015.166667</td>\n",
       "      <td>2015-03-02</td>\n",
       "    </tr>\n",
       "    <tr>\n",
       "      <th>3</th>\n",
       "      <td>19.435768</td>\n",
       "      <td>0.476027</td>\n",
       "      <td>18.469381</td>\n",
       "      <td>20.402155</td>\n",
       "      <td>17.602495</td>\n",
       "      <td>21.269042</td>\n",
       "      <td>2015.250000</td>\n",
       "      <td>2015-04-02</td>\n",
       "    </tr>\n",
       "    <tr>\n",
       "      <th>4</th>\n",
       "      <td>19.486007</td>\n",
       "      <td>0.470363</td>\n",
       "      <td>18.531118</td>\n",
       "      <td>20.440895</td>\n",
       "      <td>17.658768</td>\n",
       "      <td>21.313245</td>\n",
       "      <td>2015.333333</td>\n",
       "      <td>2015-05-02</td>\n",
       "    </tr>\n",
       "    <tr>\n",
       "      <th>...</th>\n",
       "      <td>...</td>\n",
       "      <td>...</td>\n",
       "      <td>...</td>\n",
       "      <td>...</td>\n",
       "      <td>...</td>\n",
       "      <td>...</td>\n",
       "      <td>...</td>\n",
       "      <td>...</td>\n",
       "    </tr>\n",
       "    <tr>\n",
       "      <th>116</th>\n",
       "      <td>25.112680</td>\n",
       "      <td>0.240757</td>\n",
       "      <td>24.623917</td>\n",
       "      <td>25.601443</td>\n",
       "      <td>23.479928</td>\n",
       "      <td>26.745432</td>\n",
       "      <td>2024.666667</td>\n",
       "      <td>2024-09-01</td>\n",
       "    </tr>\n",
       "    <tr>\n",
       "      <th>117</th>\n",
       "      <td>25.162918</td>\n",
       "      <td>0.245782</td>\n",
       "      <td>24.663954</td>\n",
       "      <td>25.661882</td>\n",
       "      <td>23.527084</td>\n",
       "      <td>26.798752</td>\n",
       "      <td>2024.750000</td>\n",
       "      <td>2024-10-01</td>\n",
       "    </tr>\n",
       "    <tr>\n",
       "      <th>118</th>\n",
       "      <td>25.213156</td>\n",
       "      <td>0.250843</td>\n",
       "      <td>24.703917</td>\n",
       "      <td>25.722396</td>\n",
       "      <td>23.574159</td>\n",
       "      <td>26.852154</td>\n",
       "      <td>2024.833333</td>\n",
       "      <td>2024-10-31</td>\n",
       "    </tr>\n",
       "    <tr>\n",
       "      <th>119</th>\n",
       "      <td>25.263395</td>\n",
       "      <td>0.255940</td>\n",
       "      <td>24.743809</td>\n",
       "      <td>25.782980</td>\n",
       "      <td>23.621153</td>\n",
       "      <td>26.905636</td>\n",
       "      <td>2024.916667</td>\n",
       "      <td>2024-12-01</td>\n",
       "    </tr>\n",
       "    <tr>\n",
       "      <th>120</th>\n",
       "      <td>25.313633</td>\n",
       "      <td>0.261069</td>\n",
       "      <td>24.783634</td>\n",
       "      <td>25.843631</td>\n",
       "      <td>23.668067</td>\n",
       "      <td>26.959198</td>\n",
       "      <td>2025.000000</td>\n",
       "      <td>2025-01-01</td>\n",
       "    </tr>\n",
       "  </tbody>\n",
       "</table>\n",
       "<p>121 rows × 8 columns</p>\n",
       "</div>"
      ],
      "text/plain": [
       "          mean   mean_se  mean_ci_lower  mean_ci_upper  obs_ci_lower  \\\n",
       "0    19.285054  0.493049      18.284111      20.285997     17.433332   \n",
       "1    19.335292  0.487370      18.345878      20.324707     17.489776   \n",
       "2    19.385530  0.481696      18.407635      20.363426     17.546164   \n",
       "3    19.435768  0.476027      18.469381      20.402155     17.602495   \n",
       "4    19.486007  0.470363      18.531118      20.440895     17.658768   \n",
       "..         ...       ...            ...            ...           ...   \n",
       "116  25.112680  0.240757      24.623917      25.601443     23.479928   \n",
       "117  25.162918  0.245782      24.663954      25.661882     23.527084   \n",
       "118  25.213156  0.250843      24.703917      25.722396     23.574159   \n",
       "119  25.263395  0.255940      24.743809      25.782980     23.621153   \n",
       "120  25.313633  0.261069      24.783634      25.843631     23.668067   \n",
       "\n",
       "     obs_ci_upper  Publication date (float) Publication date  \n",
       "0       21.136776               2015.000000       2015-01-01  \n",
       "1       21.180808               2015.083333       2015-01-31  \n",
       "2       21.224896               2015.166667       2015-03-02  \n",
       "3       21.269042               2015.250000       2015-04-02  \n",
       "4       21.313245               2015.333333       2015-05-02  \n",
       "..            ...                       ...              ...  \n",
       "116     26.745432               2024.666667       2024-09-01  \n",
       "117     26.798752               2024.750000       2024-10-01  \n",
       "118     26.852154               2024.833333       2024-10-31  \n",
       "119     26.905636               2024.916667       2024-12-01  \n",
       "120     26.959198               2025.000000       2025-01-01  \n",
       "\n",
       "[121 rows x 8 columns]"
      ]
     },
     "execution_count": 333,
     "metadata": {},
     "output_type": "execute_result"
    }
   ],
   "source": [
    "predicted_closed_df = get_predictions(closed_reg_results, pred_years, ['Publication date (float)'])\n",
    "predicted_closed_df['Publication date'] = predicted_closed_df['Publication date (float)'].apply(float_year_to_datetime)\n",
    "predicted_closed_df"
   ]
  },
  {
   "cell_type": "code",
   "execution_count": 334,
   "metadata": {},
   "outputs": [],
   "source": [
    "predicted_closed_df.set_index('Publication date', inplace=True)"
   ]
  },
  {
   "cell_type": "markdown",
   "metadata": {},
   "source": [
    "## Differences between trends"
   ]
  },
  {
   "cell_type": "code",
   "execution_count": 335,
   "metadata": {},
   "outputs": [],
   "source": [
    "NUM_SAMPLES = 1000"
   ]
  },
  {
   "cell_type": "code",
   "execution_count": 336,
   "metadata": {},
   "outputs": [
    {
     "data": {
      "text/plain": [
       "array([[-1.47047555e+03, -8.80057212e+02],\n",
       "       [ 4.46457267e-01,  7.38413534e-01]])"
      ]
     },
     "execution_count": 336,
     "metadata": {},
     "output_type": "execute_result"
    }
   ],
   "source": [
    "open_reg_results.conf_int()"
   ]
  },
  {
   "cell_type": "code",
   "execution_count": 337,
   "metadata": {},
   "outputs": [
    {
     "data": {
      "text/plain": [
       "2022.4522594700363"
      ]
     },
     "execution_count": 337,
     "metadata": {},
     "output_type": "execute_result"
    }
   ],
   "source": [
    "median_date = datetime_to_float_year(pd.to_datetime(filtered_access_df['Publication date'])).median()\n",
    "median_date"
   ]
  },
  {
   "cell_type": "code",
   "execution_count": 338,
   "metadata": {},
   "outputs": [
    {
     "data": {
      "text/plain": [
       "{'open': (22.695184337746053, 23.116680787246505),\n",
       " 'closed': (23.503029133104835, 24.052385347745233)}"
      ]
     },
     "execution_count": 338,
     "metadata": {},
     "output_type": "execute_result"
    }
   ],
   "source": [
    "compute_refs = {}\n",
    "for key, value in {'open': open_reg_results, 'closed': closed_reg_results}.items():\n",
    "    X = np.array([median_date, 1])  # dummy 1 value makes this work\n",
    "    X = sm.add_constant(X)\n",
    "    ref_preds = value.get_prediction(X).summary_frame()\n",
    "    compute_ref_low = ref_preds['mean_ci_lower'][0]\n",
    "    compute_ref_high = ref_preds['mean_ci_upper'][0]\n",
    "    compute_refs[key] = compute_ref_low, compute_ref_high\n",
    "compute_refs"
   ]
  },
  {
   "cell_type": "code",
   "execution_count": 339,
   "metadata": {},
   "outputs": [],
   "source": [
    "# Open\n",
    "open_ci = open_reg_results.conf_int()\n",
    "open_slope = lognorm_from_90_ci(\n",
    "    10**open_ci[1][0],\n",
    "    10**open_ci[1][1],\n",
    "    NUM_SAMPLES,\n",
    ")\n",
    "# Closed\n",
    "closed_ci = closed_reg_results.conf_int()\n",
    "closed_slope = lognorm_from_90_ci(\n",
    "    10**closed_ci[1][0],\n",
    "    10**closed_ci[1][1],\n",
    "    NUM_SAMPLES,\n",
    ")"
   ]
  },
  {
   "cell_type": "code",
   "execution_count": 340,
   "metadata": {},
   "outputs": [
    {
     "name": "stdout",
     "output_type": "stream",
     "text": [
      "Median: 4 [90% CI: 2.8, 5.4]\n",
      "Median: 4 [90% CI: 3, 5.5]\n"
     ]
    }
   ],
   "source": [
    "print_median_and_ci(open_slope)\n",
    "print_median_and_ci(closed_slope)"
   ]
  },
  {
   "cell_type": "code",
   "execution_count": 341,
   "metadata": {},
   "outputs": [
    {
     "name": "stdout",
     "output_type": "stream",
     "text": [
      "Median: 9.3e+23 [90% CI: 4.1e+23, 2.1e+24]\n"
     ]
    }
   ],
   "source": [
    "# Calculate when the closed compute trend was equal to the open compute trend today\n",
    "current_date = '2024-04-01'\n",
    "current_open_compute_df = predicted_open_df.loc[current_date]\n",
    "current_open_compute = lognorm_from_90_ci(\n",
    "    10**current_open_compute_df['mean_ci_lower'],\n",
    "    10**current_open_compute_df['mean_ci_upper'],\n",
    "    NUM_SAMPLES,\n",
    ")\n",
    "print_median_and_ci(current_open_compute)"
   ]
  },
  {
   "cell_type": "code",
   "execution_count": 342,
   "metadata": {},
   "outputs": [
    {
     "name": "stdout",
     "output_type": "stream",
     "text": [
      "Median: 7.7e+24 [90% CI: 3.1e+24, 2.1e+25]\n"
     ]
    }
   ],
   "source": [
    "# Same for closed\n",
    "current_closed_compute_df = predicted_closed_df.loc[current_date]\n",
    "current_closed_compute = lognorm_from_90_ci(\n",
    "    10**current_closed_compute_df['mean_ci_lower'],\n",
    "    10**current_closed_compute_df['mean_ci_upper'],\n",
    "    NUM_SAMPLES,\n",
    ")\n",
    "print_median_and_ci(current_closed_compute)"
   ]
  },
  {
   "cell_type": "code",
   "execution_count": 343,
   "metadata": {},
   "outputs": [
    {
     "name": "stdout",
     "output_type": "stream",
     "text": [
      "Open access models are 0.9 OOMs [0.3; 1.6] behind closed access models\n"
     ]
    }
   ],
   "source": [
    "compute_gap = np.log10(current_closed_compute) - np.log10(current_open_compute)\n",
    "print(\n",
    "    f'Open access models are {np.median(compute_gap):.1f} OOMs ' + \n",
    "    f'[{np.percentile(compute_gap, 2.5):.1f}; {np.percentile(compute_gap, 97.5):.1f}] ' + \n",
    "    'behind closed access models'\n",
    ")"
   ]
  },
  {
   "cell_type": "code",
   "execution_count": 344,
   "metadata": {},
   "outputs": [],
   "source": [
    "# Calculate when the closed compute trend was equal to the open compute trend today\n",
    "# TODO: do this with confidence interval\n",
    "\n"
   ]
  },
  {
   "cell_type": "code",
   "execution_count": 345,
   "metadata": {},
   "outputs": [
    {
     "data": {
      "text/plain": [
       "23.97097769370089"
      ]
     },
     "execution_count": 345,
     "metadata": {},
     "output_type": "execute_result"
    }
   ],
   "source": [
    "current_date = 2024.25\n",
    "current_open_compute = open_reg_results.params[1] * current_date + open_reg_results.params[0]\n",
    "current_open_compute"
   ]
  },
  {
   "cell_type": "code",
   "execution_count": 346,
   "metadata": {},
   "outputs": [
    {
     "data": {
      "text/plain": [
       "2022.772849881161"
      ]
     },
     "execution_count": 346,
     "metadata": {},
     "output_type": "execute_result"
    }
   ],
   "source": [
    "closed_compute_match_date = (current_open_compute - closed_reg_results.params[0]) / closed_reg_results.params[1]\n",
    "closed_compute_match_date"
   ]
  },
  {
   "cell_type": "code",
   "execution_count": 347,
   "metadata": {},
   "outputs": [
    {
     "name": "stdout",
     "output_type": "stream",
     "text": [
      "Open access models are 1.5 years behind closed access models\n"
     ]
    }
   ],
   "source": [
    "open_time_lag = current_date - closed_compute_match_date\n",
    "print(f'Open access models are {open_time_lag:.1f} years behind closed access models')"
   ]
  },
  {
   "cell_type": "markdown",
   "metadata": {},
   "source": [
    "# Plots"
   ]
  },
  {
   "cell_type": "code",
   "execution_count": 348,
   "metadata": {},
   "outputs": [
    {
     "data": {
      "application/vnd.plotly.v1+json": {
       "config": {
        "plotlyServerURL": "https://plot.ly"
       },
       "data": [
        {
         "customdata": [
          [
           "DBRX"
          ],
          [
           "StarCoder 2 15B"
          ],
          [
           "StarCoder 2 7B"
          ],
          [
           "StarCoder 2 3B"
          ],
          [
           "Code Llama-70B"
          ],
          [
           "Qwen-72B"
          ],
          [
           "Nemotron-3-8B"
          ],
          [
           "CogVLM"
          ],
          [
           "Yi-34B"
          ],
          [
           "Falcon 180B"
          ],
          [
           "Llama 2-70B"
          ],
          [
           "Llama 2-7B"
          ],
          [
           "Llama 2-13B"
          ],
          [
           "BLOOM-176B"
          ],
          [
           "Taiyi-Stable Diffusion"
          ],
          [
           "GPT-SW3"
          ],
          [
           "Stable Diffusion (LDM-KL-8-G)"
          ]
         ],
         "hovertemplate": "Model accessibility=Open access (restricted use)<br>Publication date=%{x}<br>Training compute (FLOP)=%{y}<br>System=%{customdata[0]}<extra></extra>",
         "legendgroup": "Open access (restricted use)",
         "marker": {
          "color": "#636efa",
          "symbol": "circle"
         },
         "mode": "markers",
         "name": "Open access (restricted use)",
         "orientation": "v",
         "showlegend": true,
         "type": "scatter",
         "x": [
          "2024-03-27",
          "2024-02-29",
          "2024-02-29",
          "2024-02-29",
          "2024-01-29",
          "2023-11-30",
          "2023-11-15",
          "2023-11-06",
          "2023-11-02",
          "2023-09-06",
          "2023-07-18",
          "2023-07-18",
          "2023-07-18",
          "2022-11-08",
          "2022-10-31",
          "2022-06-25",
          "2022-04-13"
         ],
         "xaxis": "x",
         "y": [
          2.6e+24,
          3.87e+23,
          1.55e+23,
          5.94e+22,
          1.230000000001e+24,
          1.3e+24,
          1.8e+23,
          1.988064e+22,
          6.1e+23,
          3.76e+24,
          8.1e+23,
          8.4e+22,
          1.6e+23,
          5.770000000000099e+23,
          5.1e+22,
          1.3e+21,
          5e+22
         ],
         "yaxis": "y"
        },
        {
         "customdata": [
          [
           "Mistral Large"
          ],
          [
           "Granite 13B"
          ],
          [
           "Cohere Command Light"
          ],
          [
           "Claude 2"
          ],
          [
           "PaLM 2"
          ],
          [
           "GPT-4"
          ],
          [
           "GPT-3.5 (text-davinci-003)"
          ],
          [
           "AlexaTM 20B"
          ],
          [
           "Imagen"
          ],
          [
           "PAGnol-XL"
          ],
          [
           "Yuan 1.0"
          ],
          [
           "HyperCLOVA"
          ],
          [
           "Jurassic-1-Jumbo"
          ],
          [
           "Wu Dao - Wen Yuan"
          ],
          [
           "GPT-3 175B (davinci)"
          ]
         ],
         "hovertemplate": "Model accessibility=API access<br>Publication date=%{x}<br>Training compute (FLOP)=%{y}<br>System=%{customdata[0]}<extra></extra>",
         "legendgroup": "API access",
         "marker": {
          "color": "#EF553B",
          "symbol": "circle"
         },
         "mode": "markers",
         "name": "API access",
         "orientation": "v",
         "showlegend": true,
         "type": "scatter",
         "x": [
          "2024-02-26",
          "2023-11-30",
          "2023-11-30",
          "2023-07-11",
          "2023-05-10",
          "2023-03-15",
          "2022-11-28",
          "2022-08-02",
          "2022-05-23",
          "2021-10-16",
          "2021-10-12",
          "2021-09-10",
          "2021-08-11",
          "2021-01-11",
          "2020-05-28"
         ],
         "xaxis": "x",
         "y": [
          2.0000000001e+25,
          2.44e+23,
          1.001e+22,
          3.866e+24,
          7.34e+24,
          2.1e+25,
          2.578e+24,
          2.04374016e+23,
          1.4600000000000002e+22,
          259200000000000000000,
          3.5380000000001e+23,
          1.476e+23,
          3.7e+23,
          650280960000000000000,
          3.14e+23
         ],
         "yaxis": "y"
        },
        {
         "customdata": [
          [
           "Gemma 7B"
          ],
          [
           "LLaVA-NeXT-34B (LLaVA-1.6)"
          ],
          [
           "DeepSeekMoE-16B"
          ],
          [
           "DeepSeek LLM 67B"
          ],
          [
           "Poro34B (700B token checkpoint)"
          ],
          [
           "Phi-2"
          ],
          [
           "XVERSE-65B-2"
          ],
          [
           "Mamba-2.8B"
          ],
          [
           "MultiBand Diffusion"
          ],
          [
           "Whisper v3"
          ],
          [
           "StableLM-3B-4E1T"
          ],
          [
           "FLM-101B"
          ],
          [
           "Jais"
          ],
          [
           "PeptideBERT"
          ],
          [
           "JIANG"
          ],
          [
           "CodeGen2.5"
          ],
          [
           "MPT-30B"
          ],
          [
           "MPT-7B"
          ],
          [
           "Pythia-12b"
          ],
          [
           "Falcon-40B"
          ],
          [
           "Hybrid H3-2.7B"
          ],
          [
           "DiffDock"
          ],
          [
           "Whisper"
          ],
          [
           "ProtGPT2"
          ],
          [
           "ESM2-15B"
          ],
          [
           "ESM2-3B"
          ],
          [
           "ESM2-650M"
          ],
          [
           "ESM2-150M"
          ],
          [
           "ESM2-35M"
          ],
          [
           "ESM2-8M"
          ],
          [
           "Rita-XLarge"
          ],
          [
           "NLLB"
          ],
          [
           "CodeT5-large"
          ],
          [
           "ProGen2-xlarge"
          ],
          [
           "YaLM"
          ],
          [
           "Tranception"
          ],
          [
           "UL2"
          ],
          [
           "GPT-NeoX-20B"
          ],
          [
           "XGLM"
          ],
          [
           "EquiDock"
          ],
          [
           "ProteinLM"
          ],
          [
           "ERNIE 3.0"
          ],
          [
           "DeBERTa"
          ],
          [
           "ViT-G/14"
          ],
          [
           "ProtT5-XXL-BFD"
          ],
          [
           "ProtBERT-BFD"
          ],
          [
           "GPT-J-6B"
          ],
          [
           "GPT-Neo-2.7B"
          ],
          [
           "AraGPT2-Mega"
          ],
          [
           "CPM-Large"
          ],
          [
           "SeqVec"
          ],
          [
           "T5-11B"
          ],
          [
           "GPT-2 (1.5B)"
          ],
          [
           "BERT-Large"
          ],
          [
           "GPT"
          ]
         ],
         "hovertemplate": "Model accessibility=Open source<br>Publication date=%{x}<br>Training compute (FLOP)=%{y}<br>System=%{customdata[0]}<extra></extra>",
         "legendgroup": "Open source",
         "marker": {
          "color": "#00cc96",
          "symbol": "circle"
         },
         "mode": "markers",
         "name": "Open source",
         "orientation": "v",
         "showlegend": true,
         "type": "scatter",
         "x": [
          "2024-02-21",
          "2024-01-30",
          "2024-01-11",
          "2024-01-05",
          "2023-12-14",
          "2023-12-12",
          "2023-12-08",
          "2023-12-01",
          "2023-11-08",
          "2023-11-06",
          "2023-09-29",
          "2023-09-07",
          "2023-08-29",
          "2023-08-28",
          "2023-08-01",
          "2023-07-06",
          "2023-06-22",
          "2023-05-05",
          "2023-04-03",
          "2023-03-15",
          "2022-12-28",
          "2022-10-04",
          "2022-09-21",
          "2022-07-27",
          "2022-07-21",
          "2022-07-21",
          "2022-07-21",
          "2022-07-21",
          "2022-07-21",
          "2022-07-21",
          "2022-07-14",
          "2022-07-06",
          "2022-07-05",
          "2022-06-27",
          "2022-06-23",
          "2022-05-27",
          "2022-05-10",
          "2022-02-09",
          "2021-12-20",
          "2021-11-15",
          "2021-08-17",
          "2021-07-05",
          "2021-06-10",
          "2021-06-08",
          "2021-05-04",
          "2021-05-04",
          "2021-05-01",
          "2021-03-21",
          "2020-12-31",
          "2020-12-01",
          "2019-12-17",
          "2019-10-23",
          "2019-02-14",
          "2018-10-11",
          "2018-06-01"
         ],
         "xaxis": "x",
         "y": [
          2.52e+23,
          258785280000000000000,
          3.4e+22,
          8.04e+23,
          1.53e+23,
          2.27e+22,
          1.24800000000001e+24,
          5.400000000000001e+21,
          26000000000000000000,
          2.7e+23,
          6.21e+22,
          5.720000000000001e+22,
          3.08e+22,
          7.6e+21,
          4.03e+22,
          5.899999999999999e+22,
          1.8e+23,
          4.2e+22,
          2.16e+22,
          2.4e+23,
          849000000000000000000,
          72000000000000000000,
          4.65e+22,
          4.1e+21,
          7.350000000009999e+22,
          3.0000000009999997e+22,
          7.560000000001e+21,
          1.1e+21,
          209999999999999970000,
          48000000000000000000,
          3.4e+21,
          1.751113728e+22,
          2.72e+21,
          1.35e+22,
          2.2e+23,
          7.240000000000001e+21,
          1.2e+23,
          9.31627008e+22,
          2.25e+22,
          10800000000000000000,
          1.5999999999999998e+22,
          2.25e+22,
          6.00000000001e+21,
          3.4e+21,
          3.7e+22,
          3.9e+22,
          1.5e+22,
          7.9e+21,
          1.9999999999999995e+21,
          1.8e+21,
          41000000000000000000,
          3.3e+22,
          4.3e+21,
          285000000000000000000,
          17578125000000000000
         ],
         "yaxis": "y"
        },
        {
         "customdata": [
          [
           "StableLM-2-1.6B"
          ],
          [
           "Stable Code 3B"
          ],
          [
           "Orca 2-13B"
          ],
          [
           "IDEFICS"
          ],
          [
           "Weblab-10B"
          ],
          [
           "WizardLM-7B"
          ],
          [
           "LLaMA-33B"
          ],
          [
           "LLaMA-65B"
          ],
          [
           "LLaMA-7B"
          ],
          [
           "Galactica"
          ],
          [
           "GLM-130B"
          ],
          [
           "OPT-175B"
          ],
          [
           "ViT-G (model soup)"
          ]
         ],
         "hovertemplate": "Model accessibility=Open access (non-commercial)<br>Publication date=%{x}<br>Training compute (FLOP)=%{y}<br>System=%{customdata[0]}<extra></extra>",
         "legendgroup": "Open access (non-commercial)",
         "marker": {
          "color": "#ab63fa",
          "symbol": "circle"
         },
         "mode": "markers",
         "name": "Open access (non-commercial)",
         "orientation": "v",
         "showlegend": true,
         "type": "scatter",
         "x": [
          "2024-01-18",
          "2024-01-09",
          "2023-11-21",
          "2023-08-22",
          "2023-08-04",
          "2023-04-24",
          "2023-02-27",
          "2023-02-24",
          "2023-02-24",
          "2022-11-16",
          "2022-08-04",
          "2022-05-02",
          "2022-03-10"
         ],
         "xaxis": "x",
         "y": [
          1.92e+22,
          2.106e+22,
          4.6e+22,
          1.1593580544e+23,
          3.6e+22,
          4.02e+22,
          2.7300000000000996e+23,
          5.5e+23,
          4.02e+22,
          3.24e+23,
          3.778e+23,
          4.3e+23,
          3.4e+21
         ],
         "yaxis": "y"
        },
        {
         "customdata": [
          [
           "Gemini Ultra"
          ],
          [
           "Inflection-2"
          ],
          [
           "Inflection-1"
          ],
          [
           "GNMT"
          ]
         ],
         "hovertemplate": "Model accessibility=Hosted access (no API)<br>Publication date=%{x}<br>Training compute (FLOP)=%{y}<br>System=%{customdata[0]}<extra></extra>",
         "legendgroup": "Hosted access (no API)",
         "marker": {
          "color": "#FFA15A",
          "symbol": "circle"
         },
         "mode": "markers",
         "name": "Hosted access (no API)",
         "orientation": "v",
         "showlegend": true,
         "type": "scatter",
         "x": [
          "2023-12-06",
          "2023-11-22",
          "2023-06-23",
          "2016-09-26"
         ],
         "xaxis": "x",
         "y": [
          5.0000000001e+25,
          1.001e+25,
          1.0001e+24,
          6.899999999999999e+21
         ],
         "yaxis": "y"
        },
        {
         "customdata": [
          [
           "LLaVA 1.5"
          ],
          [
           "DeepSeek Coder 33B"
          ],
          [
           "Nanbeige-16B"
          ],
          [
           "Skywork-13B"
          ],
          [
           "CodeFuse-13B"
          ],
          [
           "Qwen-14B"
          ],
          [
           "Qwen-7B"
          ],
          [
           "BTLM-3B"
          ],
          [
           "Phi-1.5"
          ],
          [
           "XGen-7B"
          ],
          [
           "Baichuan2-13B"
          ],
          [
           "TigerBot-70B"
          ],
          [
           "Refact-1.6B"
          ],
          [
           "PULI GPTrio"
          ],
          [
           "DeciCoder"
          ],
          [
           "Code Llama-34B"
          ],
          [
           "Code Llama-7B"
          ],
          [
           "Japanese StableLM Base Alpha 7B"
          ],
          [
           "StableLM-Base-Alpha-7B"
          ],
          [
           "bilingual-gpt-neox-4b"
          ],
          [
           "RedPajama-INCITE-7B-Base"
          ],
          [
           "Polyglot-Ko-12.8B"
          ],
          [
           "ONE-PEACE"
          ],
          [
           "OpenLLaMA-13B"
          ],
          [
           "MOSS-Moon-003"
          ],
          [
           "Incoder-6.7B"
          ],
          [
           "Segment Anything Model"
          ],
          [
           "AudioGen"
          ],
          [
           "Palmyra Large 20B"
          ],
          [
           "gpt-sw3-40b"
          ],
          [
           "SantaCoder"
          ],
          [
           "Whisper v2"
          ],
          [
           "BlenderBot 3"
          ],
          [
           "CodeGeeX"
          ],
          [
           "Fairseq-dense 13B"
          ],
          [
           "MegaMolBART"
          ],
          [
           "ByT5-XXL"
          ],
          [
           "ViT + DINO"
          ],
          [
           "BigGAN-deep 512x512"
          ]
         ],
         "hovertemplate": "Model accessibility=Permissive license (depr.)<br>Publication date=%{x}<br>Training compute (FLOP)=%{y}<br>System=%{customdata[0]}<extra></extra>",
         "legendgroup": "Permissive license (depr.)",
         "marker": {
          "color": "#19d3f3",
          "symbol": "circle"
         },
         "mode": "markers",
         "name": "Permissive license (depr.)",
         "orientation": "v",
         "showlegend": true,
         "type": "scatter",
         "x": [
          "2023-11-05",
          "2023-11-02",
          "2023-11-01",
          "2023-10-30",
          "2023-10-10",
          "2023-09-28",
          "2023-09-28",
          "2023-09-20",
          "2023-09-11",
          "2023-09-07",
          "2023-09-06",
          "2023-09-06",
          "2023-08-29",
          "2023-08-23",
          "2023-08-15",
          "2023-08-14",
          "2023-08-14",
          "2023-08-10",
          "2023-08-05",
          "2023-07-31",
          "2023-06-06",
          "2023-06-04",
          "2023-05-18",
          "2023-05-01",
          "2023-04-19",
          "2023-04-09",
          "2023-04-05",
          "2023-03-05",
          "2023-03-01",
          "2023-03-01",
          "2023-01-09",
          "2022-12-05",
          "2022-08-10",
          "2022-06-22",
          "2021-12-20",
          "2021-09-14",
          "2021-05-28",
          "2021-04-29",
          "2018-09-28"
         ],
         "xaxis": "x",
         "y": [
          65000000000000000000,
          3.96e+23,
          2.4e+23,
          2.5e+23,
          3.3e+23,
          2.5e+23,
          1.0099999999999998e+23,
          9.8e+21,
          1.17e+21,
          8.02e+22,
          2.03e+23,
          1.02e+24,
          1.152e+22,
          5.8e+21,
          2.9e+21,
          5.3e+23,
          1.1e+23,
          3.15e+22,
          4.5e+22,
          1.2e+22,
          4.1e+22,
          1.28e+22,
          180000000000000000000,
          7.8e+22,
          6.669999999999999e+22,
          3.00001e+21,
          7.8e+21,
          7.2e+21,
          9.6e+22,
          7.68e+22,
          2.1e+21,
          1.1e+23,
          4.3e+23,
          6.630000000001e+22,
          3.267e+22,
          720000000000000000000,
          8.1e+22,
          209999999999999970000,
          3.00000000001e+21
         ],
         "yaxis": "y"
        },
        {
         "customdata": [
          [
           "Calm2-7B"
          ],
          [
           "BlueLM 13B"
          ],
          [
           "Stockmark-13B"
          ],
          [
           "LLaMA-7B (protein-oriented instructions finetuned)"
          ],
          [
           "TinyLlama-1.1B (1T token checkpoint)"
          ],
          [
           "TinyLlama-1.1B (3T token checkpoint)"
          ],
          [
           "PLaMo-13B"
          ],
          [
           "InternLM-XComposer"
          ],
          [
           "MADLAD-400 10B"
          ],
          [
           "Kosmos-2"
          ],
          [
           "StarCoder"
          ],
          [
           "Falcon-7B"
          ],
          [
           "LLaVA"
          ],
          [
           "DINOv2"
          ],
          [
           "gLM"
          ],
          [
           "VideoMAE V2"
          ],
          [
           "Flan T5-XXL + BLIP-2"
          ],
          [
           "Ankh_large"
          ],
          [
           "Ankh_base"
          ],
          [
           "DNA Fine-Tuned Language Model (DFLM)"
          ],
          [
           "EVA"
          ],
          [
           "DALL-E mega"
          ],
          [
           "OPT-66B"
          ],
          [
           "Unified-IO"
          ],
          [
           "BERT-RBP"
          ],
          [
           "Detic"
          ],
          [
           "XGLM-7.5B"
          ],
          [
           "ESM1v"
          ],
          [
           "DALL-E mini"
          ],
          [
           "DNABERT"
          ],
          [
           "ResNet-RS"
          ],
          [
           "MSA Transformer"
          ],
          [
           "DensePhrases"
          ],
          [
           "ESM1b"
          ],
          [
           "GBERT-Large"
          ],
          [
           "German ELECTRA Large"
          ],
          [
           "LUKE"
          ],
          [
           "ESM1-670M (UR50/S)"
          ],
          [
           "ESM1-670M (UR50/D)"
          ],
          [
           "ESM1-670M (UR100)"
          ],
          [
           "ESM1-85M"
          ],
          [
           "ESM1-43M"
          ],
          [
           "mBART-50"
          ],
          [
           "CamemBERT"
          ],
          [
           "Self-Attention and Convolutional Layers"
          ],
          [
           "SciBERT"
          ],
          [
           "DMPFold"
          ],
          [
           "Big-Little Net (vision)"
          ],
          [
           "Big-Little Net (speech)"
          ],
          [
           "DNCON2"
          ],
          [
           "AlexNet + coordinating filters"
          ],
          [
           "BIDAF"
          ]
         ],
         "hovertemplate": "Model accessibility=Fully open-source (depr.)<br>Publication date=%{x}<br>Training compute (FLOP)=%{y}<br>System=%{customdata[0]}<extra></extra>",
         "legendgroup": "Fully open-source (depr.)",
         "marker": {
          "color": "#FF6692",
          "symbol": "circle"
         },
         "mode": "markers",
         "name": "Fully open-source (depr.)",
         "orientation": "v",
         "showlegend": true,
         "type": "scatter",
         "x": [
          "2023-11-01",
          "2023-10-31",
          "2023-10-23",
          "2023-10-02",
          "2023-10-01",
          "2023-10-01",
          "2023-09-28",
          "2023-09-26",
          "2023-09-09",
          "2023-06-26",
          "2023-05-09",
          "2023-04-24",
          "2023-04-17",
          "2023-04-14",
          "2023-04-08",
          "2023-03-29",
          "2023-01-30",
          "2023-01-16",
          "2023-01-16",
          "2023-01-02",
          "2022-11-14",
          "2022-06-28",
          "2022-06-21",
          "2022-06-17",
          "2022-04-07",
          "2022-01-07",
          "2021-12-20",
          "2021-11-17",
          "2021-10-26",
          "2021-08-15",
          "2021-03-13",
          "2021-02-13",
          "2020-12-23",
          "2020-12-15",
          "2020-10-21",
          "2020-10-21",
          "2020-10-02",
          "2020-08-31",
          "2020-08-31",
          "2020-08-31",
          "2020-08-31",
          "2020-08-31",
          "2020-08-02",
          "2019-11-10",
          "2019-11-08",
          "2019-03-26",
          "2018-11-29",
          "2018-07-10",
          "2018-07-10",
          "2018-05-01",
          "2017-03-28",
          "2016-11-05"
         ],
         "xaxis": "x",
         "y": [
          5.459999999999999e+22,
          1.0920000000001e+23,
          1.7160000000000002e+22,
          2.78e+22,
          7.24598784e+21,
          2.173796352e+22,
          1.17e+23,
          3.4504704e+21,
          1.605e+22,
          250026393600000000000,
          1.12e+23,
          6.3e+22,
          48522240000000000000,
          7.41851136e+21,
          151000000000000000000,
          9.7e+21,
          1.2e+21,
          6.5e+21,
          2.6e+21,
          3500000000000000000,
          3.7509433344e+21,
          228527308800000000000,
          1.100000000001e+23,
          3.5e+21,
          140000000000000000000,
          23439974400000000000,
          4.347592704e+22,
          135000000000000080000,
          382579200000000000,
          140000000000000000000,
          1.763328e+22,
          5.49e+21,
          2099520000000000000,
          460000000000000070000,
          2.24446464e+21,
          1.42829568e+21,
          175799808000000000000,
          440000000000000000000,
          480000000000000000000,
          140000000000000000000,
          56000000000000000000,
          28000000000000000000,
          3.281596416e+21,
          830000000000000000000,
          675000000000000000,
          89268480000000000000,
          12000000000000,
          3936768000000000000,
          429004800000000000,
          95000000000000000,
          1557140125176000000,
          3468614400000000000
         ],
         "yaxis": "y"
        },
        {
         "customdata": [
          [
           "Swift"
          ],
          [
           "Llama 2-34B"
          ],
          [
           "RetNet"
          ],
          [
           "xTrimoPGLM -100B"
          ],
          [
           "BloombergGPT"
          ],
          [
           "Sparse Wide GPT-3 Small"
          ],
          [
           "PanGu-Σ"
          ],
          [
           "VALL-E"
          ],
          [
           "AR-LDM"
          ],
          [
           "Mogrifier RLSTM (WT2)"
          ],
          [
           "U-PaLM (540B)"
          ],
          [
           "PaLI"
          ],
          [
           "Minerva (540B)"
          ],
          [
           "Parti"
          ],
          [
           "CoCa"
          ],
          [
           "DITTO"
          ],
          [
           "Gato"
          ],
          [
           "Flamingo"
          ],
          [
           "Sparse all-MLP"
          ],
          [
           "PaLM (540B)"
          ],
          [
           "Chinchilla"
          ],
          [
           "Segatron-XL large, M=384 + HCP"
          ],
          [
           "LaMDA"
          ],
          [
           "ERNIE 3.0 Titan"
          ],
          [
           "GLaM"
          ],
          [
           "Gopher (280B)"
          ],
          [
           "Megatron-Turing NLG 530B"
          ],
          [
           "EMDR"
          ],
          [
           "MedBERT"
          ],
          [
           "PanGu-α"
          ],
          [
           "Switch"
          ],
          [
           "GShard (dense)"
          ],
          [
           "GShard (600B)"
          ],
          [
           "Turing-NLG"
          ],
          [
           "Meena"
          ],
          [
           "Megatron-BERT"
          ],
          [
           "Megatron-LM (8.3B)"
          ],
          [
           "Transformer"
          ],
          [
           "MoE"
          ],
          [
           "Neural Architecture Search with base 8 and shared embeddings"
          ]
         ],
         "hovertemplate": "Model accessibility=Unreleased<br>Publication date=%{x}<br>Training compute (FLOP)=%{y}<br>System=%{customdata[0]}<extra></extra>",
         "legendgroup": "Unreleased",
         "marker": {
          "color": "#B6E880",
          "symbol": "circle"
         },
         "mode": "markers",
         "name": "Unreleased",
         "orientation": "v",
         "showlegend": true,
         "type": "scatter",
         "x": [
          "2023-08-30",
          "2023-07-18",
          "2023-07-17",
          "2023-07-06",
          "2023-03-30",
          "2023-03-21",
          "2023-03-20",
          "2023-01-05",
          "2022-11-20",
          "2022-11-03",
          "2022-10-20",
          "2022-09-14",
          "2022-06-29",
          "2022-06-22",
          "2022-06-14",
          "2022-06-06",
          "2022-05-12",
          "2022-04-29",
          "2022-04-14",
          "2022-04-04",
          "2022-03-29",
          "2022-03-21",
          "2022-02-10",
          "2021-12-23",
          "2021-12-13",
          "2021-12-08",
          "2021-10-11",
          "2021-06-09",
          "2021-05-20",
          "2021-04-25",
          "2021-01-11",
          "2020-06-30",
          "2020-06-30",
          "2020-02-13",
          "2020-01-28",
          "2019-09-17",
          "2019-09-17",
          "2017-06-12",
          "2017-01-23",
          "2016-11-05"
         ],
         "xaxis": "x",
         "y": [
          53370000000000000,
          4.08e+23,
          4.02e+21,
          6.0001e+23,
          2.3599999999999997e+23,
          88400000000000000000,
          4.669999999999999e+23,
          10100000000000000000,
          510000000000000000000,
          109000000000000000,
          2.53e+24,
          5.1e+22,
          2.7415e+24,
          3.962895376192635e+23,
          7.3e+22,
          11000000000000000000,
          5.44e+21,
          2.7e+23,
          60770304000000000000,
          2.5272e+24,
          5.76e+23,
          26500000000000000000,
          3.55e+23,
          1.0421e+24,
          3.74e+23,
          6.31e+23,
          1.17e+24,
          1.24e+21,
          8545824000000000000,
          5.83e+22,
          8.22e+22,
          1.28e+22,
          1.33e+22,
          1.57e+22,
          1.12e+23,
          6.027e+22,
          9.1e+21,
          7424524800000000000,
          93939056640000000000,
          10500000000000000
         ],
         "yaxis": "y"
        },
        {
         "customdata": [
          [
           "UDSMProt"
          ],
          [
           "TAPE Transformer"
          ],
          [
           "UniRep"
          ],
          [
           "SPIDER2"
          ]
         ],
         "hovertemplate": "Model accessibility=Weights available (depr.)<br>Publication date=%{x}<br>Training compute (FLOP)=%{y}<br>System=%{customdata[0]}<extra></extra>",
         "legendgroup": "Weights available (depr.)",
         "marker": {
          "color": "#FF97FF",
          "symbol": "circle"
         },
         "mode": "markers",
         "name": "Weights available (depr.)",
         "orientation": "v",
         "showlegend": true,
         "type": "scatter",
         "x": [
          "2019-09-04",
          "2019-06-19",
          "2019-03-26",
          "2016-10-28"
         ],
         "xaxis": "x",
         "y": [
          890000000000000000,
          30000000000000000000,
          22000000000000000000,
          8540000000000
         ],
         "yaxis": "y"
        }
       ],
       "layout": {
        "legend": {
         "title": {
          "text": "Model accessibility"
         },
         "tracegroupgap": 0
        },
        "margin": {
         "t": 60
        },
        "template": {
         "data": {
          "bar": [
           {
            "error_x": {
             "color": "#2a3f5f"
            },
            "error_y": {
             "color": "#2a3f5f"
            },
            "marker": {
             "line": {
              "color": "#E5ECF6",
              "width": 0.5
             },
             "pattern": {
              "fillmode": "overlay",
              "size": 10,
              "solidity": 0.2
             }
            },
            "type": "bar"
           }
          ],
          "barpolar": [
           {
            "marker": {
             "line": {
              "color": "#E5ECF6",
              "width": 0.5
             },
             "pattern": {
              "fillmode": "overlay",
              "size": 10,
              "solidity": 0.2
             }
            },
            "type": "barpolar"
           }
          ],
          "carpet": [
           {
            "aaxis": {
             "endlinecolor": "#2a3f5f",
             "gridcolor": "white",
             "linecolor": "white",
             "minorgridcolor": "white",
             "startlinecolor": "#2a3f5f"
            },
            "baxis": {
             "endlinecolor": "#2a3f5f",
             "gridcolor": "white",
             "linecolor": "white",
             "minorgridcolor": "white",
             "startlinecolor": "#2a3f5f"
            },
            "type": "carpet"
           }
          ],
          "choropleth": [
           {
            "colorbar": {
             "outlinewidth": 0,
             "ticks": ""
            },
            "type": "choropleth"
           }
          ],
          "contour": [
           {
            "colorbar": {
             "outlinewidth": 0,
             "ticks": ""
            },
            "colorscale": [
             [
              0,
              "#0d0887"
             ],
             [
              0.1111111111111111,
              "#46039f"
             ],
             [
              0.2222222222222222,
              "#7201a8"
             ],
             [
              0.3333333333333333,
              "#9c179e"
             ],
             [
              0.4444444444444444,
              "#bd3786"
             ],
             [
              0.5555555555555556,
              "#d8576b"
             ],
             [
              0.6666666666666666,
              "#ed7953"
             ],
             [
              0.7777777777777778,
              "#fb9f3a"
             ],
             [
              0.8888888888888888,
              "#fdca26"
             ],
             [
              1,
              "#f0f921"
             ]
            ],
            "type": "contour"
           }
          ],
          "contourcarpet": [
           {
            "colorbar": {
             "outlinewidth": 0,
             "ticks": ""
            },
            "type": "contourcarpet"
           }
          ],
          "heatmap": [
           {
            "colorbar": {
             "outlinewidth": 0,
             "ticks": ""
            },
            "colorscale": [
             [
              0,
              "#0d0887"
             ],
             [
              0.1111111111111111,
              "#46039f"
             ],
             [
              0.2222222222222222,
              "#7201a8"
             ],
             [
              0.3333333333333333,
              "#9c179e"
             ],
             [
              0.4444444444444444,
              "#bd3786"
             ],
             [
              0.5555555555555556,
              "#d8576b"
             ],
             [
              0.6666666666666666,
              "#ed7953"
             ],
             [
              0.7777777777777778,
              "#fb9f3a"
             ],
             [
              0.8888888888888888,
              "#fdca26"
             ],
             [
              1,
              "#f0f921"
             ]
            ],
            "type": "heatmap"
           }
          ],
          "heatmapgl": [
           {
            "colorbar": {
             "outlinewidth": 0,
             "ticks": ""
            },
            "colorscale": [
             [
              0,
              "#0d0887"
             ],
             [
              0.1111111111111111,
              "#46039f"
             ],
             [
              0.2222222222222222,
              "#7201a8"
             ],
             [
              0.3333333333333333,
              "#9c179e"
             ],
             [
              0.4444444444444444,
              "#bd3786"
             ],
             [
              0.5555555555555556,
              "#d8576b"
             ],
             [
              0.6666666666666666,
              "#ed7953"
             ],
             [
              0.7777777777777778,
              "#fb9f3a"
             ],
             [
              0.8888888888888888,
              "#fdca26"
             ],
             [
              1,
              "#f0f921"
             ]
            ],
            "type": "heatmapgl"
           }
          ],
          "histogram": [
           {
            "marker": {
             "pattern": {
              "fillmode": "overlay",
              "size": 10,
              "solidity": 0.2
             }
            },
            "type": "histogram"
           }
          ],
          "histogram2d": [
           {
            "colorbar": {
             "outlinewidth": 0,
             "ticks": ""
            },
            "colorscale": [
             [
              0,
              "#0d0887"
             ],
             [
              0.1111111111111111,
              "#46039f"
             ],
             [
              0.2222222222222222,
              "#7201a8"
             ],
             [
              0.3333333333333333,
              "#9c179e"
             ],
             [
              0.4444444444444444,
              "#bd3786"
             ],
             [
              0.5555555555555556,
              "#d8576b"
             ],
             [
              0.6666666666666666,
              "#ed7953"
             ],
             [
              0.7777777777777778,
              "#fb9f3a"
             ],
             [
              0.8888888888888888,
              "#fdca26"
             ],
             [
              1,
              "#f0f921"
             ]
            ],
            "type": "histogram2d"
           }
          ],
          "histogram2dcontour": [
           {
            "colorbar": {
             "outlinewidth": 0,
             "ticks": ""
            },
            "colorscale": [
             [
              0,
              "#0d0887"
             ],
             [
              0.1111111111111111,
              "#46039f"
             ],
             [
              0.2222222222222222,
              "#7201a8"
             ],
             [
              0.3333333333333333,
              "#9c179e"
             ],
             [
              0.4444444444444444,
              "#bd3786"
             ],
             [
              0.5555555555555556,
              "#d8576b"
             ],
             [
              0.6666666666666666,
              "#ed7953"
             ],
             [
              0.7777777777777778,
              "#fb9f3a"
             ],
             [
              0.8888888888888888,
              "#fdca26"
             ],
             [
              1,
              "#f0f921"
             ]
            ],
            "type": "histogram2dcontour"
           }
          ],
          "mesh3d": [
           {
            "colorbar": {
             "outlinewidth": 0,
             "ticks": ""
            },
            "type": "mesh3d"
           }
          ],
          "parcoords": [
           {
            "line": {
             "colorbar": {
              "outlinewidth": 0,
              "ticks": ""
             }
            },
            "type": "parcoords"
           }
          ],
          "pie": [
           {
            "automargin": true,
            "type": "pie"
           }
          ],
          "scatter": [
           {
            "fillpattern": {
             "fillmode": "overlay",
             "size": 10,
             "solidity": 0.2
            },
            "type": "scatter"
           }
          ],
          "scatter3d": [
           {
            "line": {
             "colorbar": {
              "outlinewidth": 0,
              "ticks": ""
             }
            },
            "marker": {
             "colorbar": {
              "outlinewidth": 0,
              "ticks": ""
             }
            },
            "type": "scatter3d"
           }
          ],
          "scattercarpet": [
           {
            "marker": {
             "colorbar": {
              "outlinewidth": 0,
              "ticks": ""
             }
            },
            "type": "scattercarpet"
           }
          ],
          "scattergeo": [
           {
            "marker": {
             "colorbar": {
              "outlinewidth": 0,
              "ticks": ""
             }
            },
            "type": "scattergeo"
           }
          ],
          "scattergl": [
           {
            "marker": {
             "colorbar": {
              "outlinewidth": 0,
              "ticks": ""
             }
            },
            "type": "scattergl"
           }
          ],
          "scattermapbox": [
           {
            "marker": {
             "colorbar": {
              "outlinewidth": 0,
              "ticks": ""
             }
            },
            "type": "scattermapbox"
           }
          ],
          "scatterpolar": [
           {
            "marker": {
             "colorbar": {
              "outlinewidth": 0,
              "ticks": ""
             }
            },
            "type": "scatterpolar"
           }
          ],
          "scatterpolargl": [
           {
            "marker": {
             "colorbar": {
              "outlinewidth": 0,
              "ticks": ""
             }
            },
            "type": "scatterpolargl"
           }
          ],
          "scatterternary": [
           {
            "marker": {
             "colorbar": {
              "outlinewidth": 0,
              "ticks": ""
             }
            },
            "type": "scatterternary"
           }
          ],
          "surface": [
           {
            "colorbar": {
             "outlinewidth": 0,
             "ticks": ""
            },
            "colorscale": [
             [
              0,
              "#0d0887"
             ],
             [
              0.1111111111111111,
              "#46039f"
             ],
             [
              0.2222222222222222,
              "#7201a8"
             ],
             [
              0.3333333333333333,
              "#9c179e"
             ],
             [
              0.4444444444444444,
              "#bd3786"
             ],
             [
              0.5555555555555556,
              "#d8576b"
             ],
             [
              0.6666666666666666,
              "#ed7953"
             ],
             [
              0.7777777777777778,
              "#fb9f3a"
             ],
             [
              0.8888888888888888,
              "#fdca26"
             ],
             [
              1,
              "#f0f921"
             ]
            ],
            "type": "surface"
           }
          ],
          "table": [
           {
            "cells": {
             "fill": {
              "color": "#EBF0F8"
             },
             "line": {
              "color": "white"
             }
            },
            "header": {
             "fill": {
              "color": "#C8D4E3"
             },
             "line": {
              "color": "white"
             }
            },
            "type": "table"
           }
          ]
         },
         "layout": {
          "annotationdefaults": {
           "arrowcolor": "#2a3f5f",
           "arrowhead": 0,
           "arrowwidth": 1
          },
          "autotypenumbers": "strict",
          "coloraxis": {
           "colorbar": {
            "outlinewidth": 0,
            "ticks": ""
           }
          },
          "colorscale": {
           "diverging": [
            [
             0,
             "#8e0152"
            ],
            [
             0.1,
             "#c51b7d"
            ],
            [
             0.2,
             "#de77ae"
            ],
            [
             0.3,
             "#f1b6da"
            ],
            [
             0.4,
             "#fde0ef"
            ],
            [
             0.5,
             "#f7f7f7"
            ],
            [
             0.6,
             "#e6f5d0"
            ],
            [
             0.7,
             "#b8e186"
            ],
            [
             0.8,
             "#7fbc41"
            ],
            [
             0.9,
             "#4d9221"
            ],
            [
             1,
             "#276419"
            ]
           ],
           "sequential": [
            [
             0,
             "#0d0887"
            ],
            [
             0.1111111111111111,
             "#46039f"
            ],
            [
             0.2222222222222222,
             "#7201a8"
            ],
            [
             0.3333333333333333,
             "#9c179e"
            ],
            [
             0.4444444444444444,
             "#bd3786"
            ],
            [
             0.5555555555555556,
             "#d8576b"
            ],
            [
             0.6666666666666666,
             "#ed7953"
            ],
            [
             0.7777777777777778,
             "#fb9f3a"
            ],
            [
             0.8888888888888888,
             "#fdca26"
            ],
            [
             1,
             "#f0f921"
            ]
           ],
           "sequentialminus": [
            [
             0,
             "#0d0887"
            ],
            [
             0.1111111111111111,
             "#46039f"
            ],
            [
             0.2222222222222222,
             "#7201a8"
            ],
            [
             0.3333333333333333,
             "#9c179e"
            ],
            [
             0.4444444444444444,
             "#bd3786"
            ],
            [
             0.5555555555555556,
             "#d8576b"
            ],
            [
             0.6666666666666666,
             "#ed7953"
            ],
            [
             0.7777777777777778,
             "#fb9f3a"
            ],
            [
             0.8888888888888888,
             "#fdca26"
            ],
            [
             1,
             "#f0f921"
            ]
           ]
          },
          "colorway": [
           "#636efa",
           "#EF553B",
           "#00cc96",
           "#ab63fa",
           "#FFA15A",
           "#19d3f3",
           "#FF6692",
           "#B6E880",
           "#FF97FF",
           "#FECB52"
          ],
          "font": {
           "color": "#2a3f5f"
          },
          "geo": {
           "bgcolor": "white",
           "lakecolor": "white",
           "landcolor": "#E5ECF6",
           "showlakes": true,
           "showland": true,
           "subunitcolor": "white"
          },
          "hoverlabel": {
           "align": "left"
          },
          "hovermode": "closest",
          "mapbox": {
           "style": "light"
          },
          "paper_bgcolor": "white",
          "plot_bgcolor": "#E5ECF6",
          "polar": {
           "angularaxis": {
            "gridcolor": "white",
            "linecolor": "white",
            "ticks": ""
           },
           "bgcolor": "#E5ECF6",
           "radialaxis": {
            "gridcolor": "white",
            "linecolor": "white",
            "ticks": ""
           }
          },
          "scene": {
           "xaxis": {
            "backgroundcolor": "#E5ECF6",
            "gridcolor": "white",
            "gridwidth": 2,
            "linecolor": "white",
            "showbackground": true,
            "ticks": "",
            "zerolinecolor": "white"
           },
           "yaxis": {
            "backgroundcolor": "#E5ECF6",
            "gridcolor": "white",
            "gridwidth": 2,
            "linecolor": "white",
            "showbackground": true,
            "ticks": "",
            "zerolinecolor": "white"
           },
           "zaxis": {
            "backgroundcolor": "#E5ECF6",
            "gridcolor": "white",
            "gridwidth": 2,
            "linecolor": "white",
            "showbackground": true,
            "ticks": "",
            "zerolinecolor": "white"
           }
          },
          "shapedefaults": {
           "line": {
            "color": "#2a3f5f"
           }
          },
          "ternary": {
           "aaxis": {
            "gridcolor": "white",
            "linecolor": "white",
            "ticks": ""
           },
           "baxis": {
            "gridcolor": "white",
            "linecolor": "white",
            "ticks": ""
           },
           "bgcolor": "#E5ECF6",
           "caxis": {
            "gridcolor": "white",
            "linecolor": "white",
            "ticks": ""
           }
          },
          "title": {
           "x": 0.05
          },
          "xaxis": {
           "automargin": true,
           "gridcolor": "white",
           "linecolor": "white",
           "ticks": "",
           "title": {
            "standoff": 15
           },
           "zerolinecolor": "white",
           "zerolinewidth": 2
          },
          "yaxis": {
           "automargin": true,
           "gridcolor": "white",
           "linecolor": "white",
           "ticks": "",
           "title": {
            "standoff": 15
           },
           "zerolinecolor": "white",
           "zerolinewidth": 2
          }
         }
        },
        "xaxis": {
         "anchor": "y",
         "domain": [
          0,
          1
         ],
         "title": {
          "text": "Publication date"
         }
        },
        "yaxis": {
         "anchor": "x",
         "domain": [
          0,
          1
         ],
         "title": {
          "text": "Training compute (FLOP)"
         },
         "type": "log"
        }
       }
      }
     },
     "metadata": {},
     "output_type": "display_data"
    }
   ],
   "source": [
    "fig = px.scatter(\n",
    "    access_df_with_deprecated,\n",
    "    x='Publication date',\n",
    "    y='Training compute (FLOP)',\n",
    "    color='Model accessibility',\n",
    "    hover_data=['System'],\n",
    "    log_y=True,\n",
    ")\n",
    "\n",
    "save_plot(fig, results_dir, 'training_compute_by_model_accessibility_depr')\n",
    "\n",
    "fig.show()"
   ]
  },
  {
   "cell_type": "code",
   "execution_count": 349,
   "metadata": {},
   "outputs": [
    {
     "data": {
      "application/vnd.plotly.v1+json": {
       "config": {
        "plotlyServerURL": "https://plot.ly"
       },
       "data": [
        {
         "customdata": [
          [
           "DBRX"
          ],
          [
           "StarCoder 2 15B"
          ],
          [
           "StarCoder 2 7B"
          ],
          [
           "StarCoder 2 3B"
          ],
          [
           "Code Llama-70B"
          ],
          [
           "Qwen-72B"
          ],
          [
           "Nemotron-3-8B"
          ],
          [
           "CogVLM"
          ],
          [
           "Yi-34B"
          ],
          [
           "Falcon 180B"
          ],
          [
           "Llama 2-70B"
          ],
          [
           "Llama 2-7B"
          ],
          [
           "Llama 2-13B"
          ],
          [
           "BLOOM-176B"
          ],
          [
           "Taiyi-Stable Diffusion"
          ],
          [
           "GPT-SW3"
          ],
          [
           "Stable Diffusion (LDM-KL-8-G)"
          ]
         ],
         "hovertemplate": "Model accessibility=Open access (restricted use)<br>Publication date=%{x}<br>Training compute (FLOP)=%{y}<br>System=%{customdata[0]}<extra></extra>",
         "legendgroup": "Open access (restricted use)",
         "marker": {
          "color": "#636efa",
          "symbol": "circle"
         },
         "mode": "markers",
         "name": "Open access (restricted use)",
         "orientation": "v",
         "showlegend": true,
         "type": "scatter",
         "x": [
          "2024-03-27",
          "2024-02-29",
          "2024-02-29",
          "2024-02-29",
          "2024-01-29",
          "2023-11-30",
          "2023-11-15",
          "2023-11-06",
          "2023-11-02",
          "2023-09-06",
          "2023-07-18",
          "2023-07-18",
          "2023-07-18",
          "2022-11-08",
          "2022-10-31",
          "2022-06-25",
          "2022-04-13"
         ],
         "xaxis": "x",
         "y": [
          2.6e+24,
          3.87e+23,
          1.55e+23,
          5.94e+22,
          1.230000000001e+24,
          1.3e+24,
          1.8e+23,
          1.988064e+22,
          6.1e+23,
          3.76e+24,
          8.1e+23,
          8.4e+22,
          1.6e+23,
          5.770000000000099e+23,
          5.1e+22,
          1.3e+21,
          5e+22
         ],
         "yaxis": "y"
        },
        {
         "customdata": [
          [
           "Mistral Large"
          ],
          [
           "Granite 13B"
          ],
          [
           "Cohere Command Light"
          ],
          [
           "Claude 2"
          ],
          [
           "PaLM 2"
          ],
          [
           "GPT-4"
          ],
          [
           "GPT-3.5 (text-davinci-003)"
          ],
          [
           "AlexaTM 20B"
          ],
          [
           "Imagen"
          ],
          [
           "PAGnol-XL"
          ],
          [
           "Yuan 1.0"
          ],
          [
           "HyperCLOVA"
          ],
          [
           "Jurassic-1-Jumbo"
          ],
          [
           "Wu Dao - Wen Yuan"
          ],
          [
           "GPT-3 175B (davinci)"
          ]
         ],
         "hovertemplate": "Model accessibility=API access<br>Publication date=%{x}<br>Training compute (FLOP)=%{y}<br>System=%{customdata[0]}<extra></extra>",
         "legendgroup": "API access",
         "marker": {
          "color": "#EF553B",
          "symbol": "circle"
         },
         "mode": "markers",
         "name": "API access",
         "orientation": "v",
         "showlegend": true,
         "type": "scatter",
         "x": [
          "2024-02-26",
          "2023-11-30",
          "2023-11-30",
          "2023-07-11",
          "2023-05-10",
          "2023-03-15",
          "2022-11-28",
          "2022-08-02",
          "2022-05-23",
          "2021-10-16",
          "2021-10-12",
          "2021-09-10",
          "2021-08-11",
          "2021-01-11",
          "2020-05-28"
         ],
         "xaxis": "x",
         "y": [
          2.0000000001e+25,
          2.44e+23,
          1.001e+22,
          3.866e+24,
          7.34e+24,
          2.1e+25,
          2.578e+24,
          2.04374016e+23,
          1.4600000000000002e+22,
          259200000000000000000,
          3.5380000000001e+23,
          1.476e+23,
          3.7e+23,
          650280960000000000000,
          3.14e+23
         ],
         "yaxis": "y"
        },
        {
         "customdata": [
          [
           "Gemma 7B"
          ],
          [
           "LLaVA-NeXT-34B (LLaVA-1.6)"
          ],
          [
           "DeepSeekMoE-16B"
          ],
          [
           "DeepSeek LLM 67B"
          ],
          [
           "Poro34B (700B token checkpoint)"
          ],
          [
           "Phi-2"
          ],
          [
           "XVERSE-65B-2"
          ],
          [
           "Mamba-2.8B"
          ],
          [
           "MultiBand Diffusion"
          ],
          [
           "Whisper v3"
          ],
          [
           "StableLM-3B-4E1T"
          ],
          [
           "FLM-101B"
          ],
          [
           "Jais"
          ],
          [
           "PeptideBERT"
          ],
          [
           "JIANG"
          ],
          [
           "CodeGen2.5"
          ],
          [
           "MPT-30B"
          ],
          [
           "MPT-7B"
          ],
          [
           "Pythia-12b"
          ],
          [
           "Falcon-40B"
          ],
          [
           "Hybrid H3-2.7B"
          ],
          [
           "DiffDock"
          ],
          [
           "Whisper"
          ],
          [
           "ProtGPT2"
          ],
          [
           "ESM2-15B"
          ],
          [
           "ESM2-3B"
          ],
          [
           "ESM2-650M"
          ],
          [
           "ESM2-150M"
          ],
          [
           "ESM2-35M"
          ],
          [
           "ESM2-8M"
          ],
          [
           "Rita-XLarge"
          ],
          [
           "NLLB"
          ],
          [
           "CodeT5-large"
          ],
          [
           "ProGen2-xlarge"
          ],
          [
           "YaLM"
          ],
          [
           "Tranception"
          ],
          [
           "UL2"
          ],
          [
           "GPT-NeoX-20B"
          ],
          [
           "XGLM"
          ],
          [
           "EquiDock"
          ],
          [
           "ProteinLM"
          ],
          [
           "ERNIE 3.0"
          ],
          [
           "DeBERTa"
          ],
          [
           "ViT-G/14"
          ],
          [
           "ProtT5-XXL-BFD"
          ],
          [
           "ProtBERT-BFD"
          ],
          [
           "GPT-J-6B"
          ],
          [
           "GPT-Neo-2.7B"
          ],
          [
           "AraGPT2-Mega"
          ],
          [
           "CPM-Large"
          ],
          [
           "SeqVec"
          ],
          [
           "T5-11B"
          ],
          [
           "GPT-2 (1.5B)"
          ],
          [
           "BERT-Large"
          ],
          [
           "GPT"
          ]
         ],
         "hovertemplate": "Model accessibility=Open source<br>Publication date=%{x}<br>Training compute (FLOP)=%{y}<br>System=%{customdata[0]}<extra></extra>",
         "legendgroup": "Open source",
         "marker": {
          "color": "#00cc96",
          "symbol": "circle"
         },
         "mode": "markers",
         "name": "Open source",
         "orientation": "v",
         "showlegend": true,
         "type": "scatter",
         "x": [
          "2024-02-21",
          "2024-01-30",
          "2024-01-11",
          "2024-01-05",
          "2023-12-14",
          "2023-12-12",
          "2023-12-08",
          "2023-12-01",
          "2023-11-08",
          "2023-11-06",
          "2023-09-29",
          "2023-09-07",
          "2023-08-29",
          "2023-08-28",
          "2023-08-01",
          "2023-07-06",
          "2023-06-22",
          "2023-05-05",
          "2023-04-03",
          "2023-03-15",
          "2022-12-28",
          "2022-10-04",
          "2022-09-21",
          "2022-07-27",
          "2022-07-21",
          "2022-07-21",
          "2022-07-21",
          "2022-07-21",
          "2022-07-21",
          "2022-07-21",
          "2022-07-14",
          "2022-07-06",
          "2022-07-05",
          "2022-06-27",
          "2022-06-23",
          "2022-05-27",
          "2022-05-10",
          "2022-02-09",
          "2021-12-20",
          "2021-11-15",
          "2021-08-17",
          "2021-07-05",
          "2021-06-10",
          "2021-06-08",
          "2021-05-04",
          "2021-05-04",
          "2021-05-01",
          "2021-03-21",
          "2020-12-31",
          "2020-12-01",
          "2019-12-17",
          "2019-10-23",
          "2019-02-14",
          "2018-10-11",
          "2018-06-01"
         ],
         "xaxis": "x",
         "y": [
          2.52e+23,
          258785280000000000000,
          3.4e+22,
          8.04e+23,
          1.53e+23,
          2.27e+22,
          1.24800000000001e+24,
          5.400000000000001e+21,
          26000000000000000000,
          2.7e+23,
          6.21e+22,
          5.720000000000001e+22,
          3.08e+22,
          7.6e+21,
          4.03e+22,
          5.899999999999999e+22,
          1.8e+23,
          4.2e+22,
          2.16e+22,
          2.4e+23,
          849000000000000000000,
          72000000000000000000,
          4.65e+22,
          4.1e+21,
          7.350000000009999e+22,
          3.0000000009999997e+22,
          7.560000000001e+21,
          1.1e+21,
          209999999999999970000,
          48000000000000000000,
          3.4e+21,
          1.751113728e+22,
          2.72e+21,
          1.35e+22,
          2.2e+23,
          7.240000000000001e+21,
          1.2e+23,
          9.31627008e+22,
          2.25e+22,
          10800000000000000000,
          1.5999999999999998e+22,
          2.25e+22,
          6.00000000001e+21,
          3.4e+21,
          3.7e+22,
          3.9e+22,
          1.5e+22,
          7.9e+21,
          1.9999999999999995e+21,
          1.8e+21,
          41000000000000000000,
          3.3e+22,
          4.3e+21,
          285000000000000000000,
          17578125000000000000
         ],
         "yaxis": "y"
        },
        {
         "customdata": [
          [
           "StableLM-2-1.6B"
          ],
          [
           "Stable Code 3B"
          ],
          [
           "Orca 2-13B"
          ],
          [
           "IDEFICS"
          ],
          [
           "Weblab-10B"
          ],
          [
           "WizardLM-7B"
          ],
          [
           "LLaMA-33B"
          ],
          [
           "LLaMA-65B"
          ],
          [
           "LLaMA-7B"
          ],
          [
           "Galactica"
          ],
          [
           "GLM-130B"
          ],
          [
           "OPT-175B"
          ],
          [
           "ViT-G (model soup)"
          ]
         ],
         "hovertemplate": "Model accessibility=Open access (non-commercial)<br>Publication date=%{x}<br>Training compute (FLOP)=%{y}<br>System=%{customdata[0]}<extra></extra>",
         "legendgroup": "Open access (non-commercial)",
         "marker": {
          "color": "#ab63fa",
          "symbol": "circle"
         },
         "mode": "markers",
         "name": "Open access (non-commercial)",
         "orientation": "v",
         "showlegend": true,
         "type": "scatter",
         "x": [
          "2024-01-18",
          "2024-01-09",
          "2023-11-21",
          "2023-08-22",
          "2023-08-04",
          "2023-04-24",
          "2023-02-27",
          "2023-02-24",
          "2023-02-24",
          "2022-11-16",
          "2022-08-04",
          "2022-05-02",
          "2022-03-10"
         ],
         "xaxis": "x",
         "y": [
          1.92e+22,
          2.106e+22,
          4.6e+22,
          1.1593580544e+23,
          3.6e+22,
          4.02e+22,
          2.7300000000000996e+23,
          5.5e+23,
          4.02e+22,
          3.24e+23,
          3.778e+23,
          4.3e+23,
          3.4e+21
         ],
         "yaxis": "y"
        },
        {
         "customdata": [
          [
           "Gemini Ultra"
          ],
          [
           "Inflection-2"
          ],
          [
           "Inflection-1"
          ],
          [
           "GNMT"
          ]
         ],
         "hovertemplate": "Model accessibility=Hosted access (no API)<br>Publication date=%{x}<br>Training compute (FLOP)=%{y}<br>System=%{customdata[0]}<extra></extra>",
         "legendgroup": "Hosted access (no API)",
         "marker": {
          "color": "#FFA15A",
          "symbol": "circle"
         },
         "mode": "markers",
         "name": "Hosted access (no API)",
         "orientation": "v",
         "showlegend": true,
         "type": "scatter",
         "x": [
          "2023-12-06",
          "2023-11-22",
          "2023-06-23",
          "2016-09-26"
         ],
         "xaxis": "x",
         "y": [
          5.0000000001e+25,
          1.001e+25,
          1.0001e+24,
          6.899999999999999e+21
         ],
         "yaxis": "y"
        },
        {
         "customdata": [
          [
           "Swift"
          ],
          [
           "Llama 2-34B"
          ],
          [
           "RetNet"
          ],
          [
           "xTrimoPGLM -100B"
          ],
          [
           "BloombergGPT"
          ],
          [
           "Sparse Wide GPT-3 Small"
          ],
          [
           "PanGu-Σ"
          ],
          [
           "VALL-E"
          ],
          [
           "AR-LDM"
          ],
          [
           "Mogrifier RLSTM (WT2)"
          ],
          [
           "U-PaLM (540B)"
          ],
          [
           "PaLI"
          ],
          [
           "Minerva (540B)"
          ],
          [
           "Parti"
          ],
          [
           "CoCa"
          ],
          [
           "DITTO"
          ],
          [
           "Gato"
          ],
          [
           "Flamingo"
          ],
          [
           "Sparse all-MLP"
          ],
          [
           "PaLM (540B)"
          ],
          [
           "Chinchilla"
          ],
          [
           "Segatron-XL large, M=384 + HCP"
          ],
          [
           "LaMDA"
          ],
          [
           "ERNIE 3.0 Titan"
          ],
          [
           "GLaM"
          ],
          [
           "Gopher (280B)"
          ],
          [
           "Megatron-Turing NLG 530B"
          ],
          [
           "EMDR"
          ],
          [
           "MedBERT"
          ],
          [
           "PanGu-α"
          ],
          [
           "Switch"
          ],
          [
           "GShard (dense)"
          ],
          [
           "GShard (600B)"
          ],
          [
           "Turing-NLG"
          ],
          [
           "Meena"
          ],
          [
           "Megatron-BERT"
          ],
          [
           "Megatron-LM (8.3B)"
          ],
          [
           "Transformer"
          ],
          [
           "MoE"
          ],
          [
           "Neural Architecture Search with base 8 and shared embeddings"
          ]
         ],
         "hovertemplate": "Model accessibility=Unreleased<br>Publication date=%{x}<br>Training compute (FLOP)=%{y}<br>System=%{customdata[0]}<extra></extra>",
         "legendgroup": "Unreleased",
         "marker": {
          "color": "#19d3f3",
          "symbol": "circle"
         },
         "mode": "markers",
         "name": "Unreleased",
         "orientation": "v",
         "showlegend": true,
         "type": "scatter",
         "x": [
          "2023-08-30",
          "2023-07-18",
          "2023-07-17",
          "2023-07-06",
          "2023-03-30",
          "2023-03-21",
          "2023-03-20",
          "2023-01-05",
          "2022-11-20",
          "2022-11-03",
          "2022-10-20",
          "2022-09-14",
          "2022-06-29",
          "2022-06-22",
          "2022-06-14",
          "2022-06-06",
          "2022-05-12",
          "2022-04-29",
          "2022-04-14",
          "2022-04-04",
          "2022-03-29",
          "2022-03-21",
          "2022-02-10",
          "2021-12-23",
          "2021-12-13",
          "2021-12-08",
          "2021-10-11",
          "2021-06-09",
          "2021-05-20",
          "2021-04-25",
          "2021-01-11",
          "2020-06-30",
          "2020-06-30",
          "2020-02-13",
          "2020-01-28",
          "2019-09-17",
          "2019-09-17",
          "2017-06-12",
          "2017-01-23",
          "2016-11-05"
         ],
         "xaxis": "x",
         "y": [
          53370000000000000,
          4.08e+23,
          4.02e+21,
          6.0001e+23,
          2.3599999999999997e+23,
          88400000000000000000,
          4.669999999999999e+23,
          10100000000000000000,
          510000000000000000000,
          109000000000000000,
          2.53e+24,
          5.1e+22,
          2.7415e+24,
          3.962895376192635e+23,
          7.3e+22,
          11000000000000000000,
          5.44e+21,
          2.7e+23,
          60770304000000000000,
          2.5272e+24,
          5.76e+23,
          26500000000000000000,
          3.55e+23,
          1.0421e+24,
          3.74e+23,
          6.31e+23,
          1.17e+24,
          1.24e+21,
          8545824000000000000,
          5.83e+22,
          8.22e+22,
          1.28e+22,
          1.33e+22,
          1.57e+22,
          1.12e+23,
          6.027e+22,
          9.1e+21,
          7424524800000000000,
          93939056640000000000,
          10500000000000000
         ],
         "yaxis": "y"
        }
       ],
       "layout": {
        "legend": {
         "title": {
          "text": "Model accessibility"
         },
         "tracegroupgap": 0
        },
        "margin": {
         "t": 60
        },
        "template": {
         "data": {
          "bar": [
           {
            "error_x": {
             "color": "#2a3f5f"
            },
            "error_y": {
             "color": "#2a3f5f"
            },
            "marker": {
             "line": {
              "color": "#E5ECF6",
              "width": 0.5
             },
             "pattern": {
              "fillmode": "overlay",
              "size": 10,
              "solidity": 0.2
             }
            },
            "type": "bar"
           }
          ],
          "barpolar": [
           {
            "marker": {
             "line": {
              "color": "#E5ECF6",
              "width": 0.5
             },
             "pattern": {
              "fillmode": "overlay",
              "size": 10,
              "solidity": 0.2
             }
            },
            "type": "barpolar"
           }
          ],
          "carpet": [
           {
            "aaxis": {
             "endlinecolor": "#2a3f5f",
             "gridcolor": "white",
             "linecolor": "white",
             "minorgridcolor": "white",
             "startlinecolor": "#2a3f5f"
            },
            "baxis": {
             "endlinecolor": "#2a3f5f",
             "gridcolor": "white",
             "linecolor": "white",
             "minorgridcolor": "white",
             "startlinecolor": "#2a3f5f"
            },
            "type": "carpet"
           }
          ],
          "choropleth": [
           {
            "colorbar": {
             "outlinewidth": 0,
             "ticks": ""
            },
            "type": "choropleth"
           }
          ],
          "contour": [
           {
            "colorbar": {
             "outlinewidth": 0,
             "ticks": ""
            },
            "colorscale": [
             [
              0,
              "#0d0887"
             ],
             [
              0.1111111111111111,
              "#46039f"
             ],
             [
              0.2222222222222222,
              "#7201a8"
             ],
             [
              0.3333333333333333,
              "#9c179e"
             ],
             [
              0.4444444444444444,
              "#bd3786"
             ],
             [
              0.5555555555555556,
              "#d8576b"
             ],
             [
              0.6666666666666666,
              "#ed7953"
             ],
             [
              0.7777777777777778,
              "#fb9f3a"
             ],
             [
              0.8888888888888888,
              "#fdca26"
             ],
             [
              1,
              "#f0f921"
             ]
            ],
            "type": "contour"
           }
          ],
          "contourcarpet": [
           {
            "colorbar": {
             "outlinewidth": 0,
             "ticks": ""
            },
            "type": "contourcarpet"
           }
          ],
          "heatmap": [
           {
            "colorbar": {
             "outlinewidth": 0,
             "ticks": ""
            },
            "colorscale": [
             [
              0,
              "#0d0887"
             ],
             [
              0.1111111111111111,
              "#46039f"
             ],
             [
              0.2222222222222222,
              "#7201a8"
             ],
             [
              0.3333333333333333,
              "#9c179e"
             ],
             [
              0.4444444444444444,
              "#bd3786"
             ],
             [
              0.5555555555555556,
              "#d8576b"
             ],
             [
              0.6666666666666666,
              "#ed7953"
             ],
             [
              0.7777777777777778,
              "#fb9f3a"
             ],
             [
              0.8888888888888888,
              "#fdca26"
             ],
             [
              1,
              "#f0f921"
             ]
            ],
            "type": "heatmap"
           }
          ],
          "heatmapgl": [
           {
            "colorbar": {
             "outlinewidth": 0,
             "ticks": ""
            },
            "colorscale": [
             [
              0,
              "#0d0887"
             ],
             [
              0.1111111111111111,
              "#46039f"
             ],
             [
              0.2222222222222222,
              "#7201a8"
             ],
             [
              0.3333333333333333,
              "#9c179e"
             ],
             [
              0.4444444444444444,
              "#bd3786"
             ],
             [
              0.5555555555555556,
              "#d8576b"
             ],
             [
              0.6666666666666666,
              "#ed7953"
             ],
             [
              0.7777777777777778,
              "#fb9f3a"
             ],
             [
              0.8888888888888888,
              "#fdca26"
             ],
             [
              1,
              "#f0f921"
             ]
            ],
            "type": "heatmapgl"
           }
          ],
          "histogram": [
           {
            "marker": {
             "pattern": {
              "fillmode": "overlay",
              "size": 10,
              "solidity": 0.2
             }
            },
            "type": "histogram"
           }
          ],
          "histogram2d": [
           {
            "colorbar": {
             "outlinewidth": 0,
             "ticks": ""
            },
            "colorscale": [
             [
              0,
              "#0d0887"
             ],
             [
              0.1111111111111111,
              "#46039f"
             ],
             [
              0.2222222222222222,
              "#7201a8"
             ],
             [
              0.3333333333333333,
              "#9c179e"
             ],
             [
              0.4444444444444444,
              "#bd3786"
             ],
             [
              0.5555555555555556,
              "#d8576b"
             ],
             [
              0.6666666666666666,
              "#ed7953"
             ],
             [
              0.7777777777777778,
              "#fb9f3a"
             ],
             [
              0.8888888888888888,
              "#fdca26"
             ],
             [
              1,
              "#f0f921"
             ]
            ],
            "type": "histogram2d"
           }
          ],
          "histogram2dcontour": [
           {
            "colorbar": {
             "outlinewidth": 0,
             "ticks": ""
            },
            "colorscale": [
             [
              0,
              "#0d0887"
             ],
             [
              0.1111111111111111,
              "#46039f"
             ],
             [
              0.2222222222222222,
              "#7201a8"
             ],
             [
              0.3333333333333333,
              "#9c179e"
             ],
             [
              0.4444444444444444,
              "#bd3786"
             ],
             [
              0.5555555555555556,
              "#d8576b"
             ],
             [
              0.6666666666666666,
              "#ed7953"
             ],
             [
              0.7777777777777778,
              "#fb9f3a"
             ],
             [
              0.8888888888888888,
              "#fdca26"
             ],
             [
              1,
              "#f0f921"
             ]
            ],
            "type": "histogram2dcontour"
           }
          ],
          "mesh3d": [
           {
            "colorbar": {
             "outlinewidth": 0,
             "ticks": ""
            },
            "type": "mesh3d"
           }
          ],
          "parcoords": [
           {
            "line": {
             "colorbar": {
              "outlinewidth": 0,
              "ticks": ""
             }
            },
            "type": "parcoords"
           }
          ],
          "pie": [
           {
            "automargin": true,
            "type": "pie"
           }
          ],
          "scatter": [
           {
            "fillpattern": {
             "fillmode": "overlay",
             "size": 10,
             "solidity": 0.2
            },
            "type": "scatter"
           }
          ],
          "scatter3d": [
           {
            "line": {
             "colorbar": {
              "outlinewidth": 0,
              "ticks": ""
             }
            },
            "marker": {
             "colorbar": {
              "outlinewidth": 0,
              "ticks": ""
             }
            },
            "type": "scatter3d"
           }
          ],
          "scattercarpet": [
           {
            "marker": {
             "colorbar": {
              "outlinewidth": 0,
              "ticks": ""
             }
            },
            "type": "scattercarpet"
           }
          ],
          "scattergeo": [
           {
            "marker": {
             "colorbar": {
              "outlinewidth": 0,
              "ticks": ""
             }
            },
            "type": "scattergeo"
           }
          ],
          "scattergl": [
           {
            "marker": {
             "colorbar": {
              "outlinewidth": 0,
              "ticks": ""
             }
            },
            "type": "scattergl"
           }
          ],
          "scattermapbox": [
           {
            "marker": {
             "colorbar": {
              "outlinewidth": 0,
              "ticks": ""
             }
            },
            "type": "scattermapbox"
           }
          ],
          "scatterpolar": [
           {
            "marker": {
             "colorbar": {
              "outlinewidth": 0,
              "ticks": ""
             }
            },
            "type": "scatterpolar"
           }
          ],
          "scatterpolargl": [
           {
            "marker": {
             "colorbar": {
              "outlinewidth": 0,
              "ticks": ""
             }
            },
            "type": "scatterpolargl"
           }
          ],
          "scatterternary": [
           {
            "marker": {
             "colorbar": {
              "outlinewidth": 0,
              "ticks": ""
             }
            },
            "type": "scatterternary"
           }
          ],
          "surface": [
           {
            "colorbar": {
             "outlinewidth": 0,
             "ticks": ""
            },
            "colorscale": [
             [
              0,
              "#0d0887"
             ],
             [
              0.1111111111111111,
              "#46039f"
             ],
             [
              0.2222222222222222,
              "#7201a8"
             ],
             [
              0.3333333333333333,
              "#9c179e"
             ],
             [
              0.4444444444444444,
              "#bd3786"
             ],
             [
              0.5555555555555556,
              "#d8576b"
             ],
             [
              0.6666666666666666,
              "#ed7953"
             ],
             [
              0.7777777777777778,
              "#fb9f3a"
             ],
             [
              0.8888888888888888,
              "#fdca26"
             ],
             [
              1,
              "#f0f921"
             ]
            ],
            "type": "surface"
           }
          ],
          "table": [
           {
            "cells": {
             "fill": {
              "color": "#EBF0F8"
             },
             "line": {
              "color": "white"
             }
            },
            "header": {
             "fill": {
              "color": "#C8D4E3"
             },
             "line": {
              "color": "white"
             }
            },
            "type": "table"
           }
          ]
         },
         "layout": {
          "annotationdefaults": {
           "arrowcolor": "#2a3f5f",
           "arrowhead": 0,
           "arrowwidth": 1
          },
          "autotypenumbers": "strict",
          "coloraxis": {
           "colorbar": {
            "outlinewidth": 0,
            "ticks": ""
           }
          },
          "colorscale": {
           "diverging": [
            [
             0,
             "#8e0152"
            ],
            [
             0.1,
             "#c51b7d"
            ],
            [
             0.2,
             "#de77ae"
            ],
            [
             0.3,
             "#f1b6da"
            ],
            [
             0.4,
             "#fde0ef"
            ],
            [
             0.5,
             "#f7f7f7"
            ],
            [
             0.6,
             "#e6f5d0"
            ],
            [
             0.7,
             "#b8e186"
            ],
            [
             0.8,
             "#7fbc41"
            ],
            [
             0.9,
             "#4d9221"
            ],
            [
             1,
             "#276419"
            ]
           ],
           "sequential": [
            [
             0,
             "#0d0887"
            ],
            [
             0.1111111111111111,
             "#46039f"
            ],
            [
             0.2222222222222222,
             "#7201a8"
            ],
            [
             0.3333333333333333,
             "#9c179e"
            ],
            [
             0.4444444444444444,
             "#bd3786"
            ],
            [
             0.5555555555555556,
             "#d8576b"
            ],
            [
             0.6666666666666666,
             "#ed7953"
            ],
            [
             0.7777777777777778,
             "#fb9f3a"
            ],
            [
             0.8888888888888888,
             "#fdca26"
            ],
            [
             1,
             "#f0f921"
            ]
           ],
           "sequentialminus": [
            [
             0,
             "#0d0887"
            ],
            [
             0.1111111111111111,
             "#46039f"
            ],
            [
             0.2222222222222222,
             "#7201a8"
            ],
            [
             0.3333333333333333,
             "#9c179e"
            ],
            [
             0.4444444444444444,
             "#bd3786"
            ],
            [
             0.5555555555555556,
             "#d8576b"
            ],
            [
             0.6666666666666666,
             "#ed7953"
            ],
            [
             0.7777777777777778,
             "#fb9f3a"
            ],
            [
             0.8888888888888888,
             "#fdca26"
            ],
            [
             1,
             "#f0f921"
            ]
           ]
          },
          "colorway": [
           "#636efa",
           "#EF553B",
           "#00cc96",
           "#ab63fa",
           "#FFA15A",
           "#19d3f3",
           "#FF6692",
           "#B6E880",
           "#FF97FF",
           "#FECB52"
          ],
          "font": {
           "color": "#2a3f5f"
          },
          "geo": {
           "bgcolor": "white",
           "lakecolor": "white",
           "landcolor": "#E5ECF6",
           "showlakes": true,
           "showland": true,
           "subunitcolor": "white"
          },
          "hoverlabel": {
           "align": "left"
          },
          "hovermode": "closest",
          "mapbox": {
           "style": "light"
          },
          "paper_bgcolor": "white",
          "plot_bgcolor": "#E5ECF6",
          "polar": {
           "angularaxis": {
            "gridcolor": "white",
            "linecolor": "white",
            "ticks": ""
           },
           "bgcolor": "#E5ECF6",
           "radialaxis": {
            "gridcolor": "white",
            "linecolor": "white",
            "ticks": ""
           }
          },
          "scene": {
           "xaxis": {
            "backgroundcolor": "#E5ECF6",
            "gridcolor": "white",
            "gridwidth": 2,
            "linecolor": "white",
            "showbackground": true,
            "ticks": "",
            "zerolinecolor": "white"
           },
           "yaxis": {
            "backgroundcolor": "#E5ECF6",
            "gridcolor": "white",
            "gridwidth": 2,
            "linecolor": "white",
            "showbackground": true,
            "ticks": "",
            "zerolinecolor": "white"
           },
           "zaxis": {
            "backgroundcolor": "#E5ECF6",
            "gridcolor": "white",
            "gridwidth": 2,
            "linecolor": "white",
            "showbackground": true,
            "ticks": "",
            "zerolinecolor": "white"
           }
          },
          "shapedefaults": {
           "line": {
            "color": "#2a3f5f"
           }
          },
          "ternary": {
           "aaxis": {
            "gridcolor": "white",
            "linecolor": "white",
            "ticks": ""
           },
           "baxis": {
            "gridcolor": "white",
            "linecolor": "white",
            "ticks": ""
           },
           "bgcolor": "#E5ECF6",
           "caxis": {
            "gridcolor": "white",
            "linecolor": "white",
            "ticks": ""
           }
          },
          "title": {
           "x": 0.05
          },
          "xaxis": {
           "automargin": true,
           "gridcolor": "white",
           "linecolor": "white",
           "ticks": "",
           "title": {
            "standoff": 15
           },
           "zerolinecolor": "white",
           "zerolinewidth": 2
          },
          "yaxis": {
           "automargin": true,
           "gridcolor": "white",
           "linecolor": "white",
           "ticks": "",
           "title": {
            "standoff": 15
           },
           "zerolinecolor": "white",
           "zerolinewidth": 2
          }
         }
        },
        "xaxis": {
         "anchor": "y",
         "domain": [
          0,
          1
         ],
         "title": {
          "text": "Publication date"
         }
        },
        "yaxis": {
         "anchor": "x",
         "domain": [
          0,
          1
         ],
         "title": {
          "text": "Training compute (FLOP)"
         },
         "type": "log"
        }
       }
      }
     },
     "metadata": {},
     "output_type": "display_data"
    }
   ],
   "source": [
    "fig = px.scatter(\n",
    "    access_df,\n",
    "    x='Publication date',\n",
    "    y='Training compute (FLOP)',\n",
    "    color='Model accessibility',\n",
    "    hover_data=['System'],\n",
    "    log_y=True,\n",
    ")\n",
    "\n",
    "save_plot(fig, results_dir, 'training_compute_by_model_accessibility')\n",
    "\n",
    "fig.show()"
   ]
  },
  {
   "cell_type": "code",
   "execution_count": 350,
   "metadata": {},
   "outputs": [
    {
     "data": {
      "application/vnd.plotly.v1+json": {
       "config": {
        "plotlyServerURL": "https://plot.ly"
       },
       "data": [
        {
         "customdata": [
          [
           "Gemini Ultra"
          ],
          [
           "Inflection-2"
          ],
          [
           "Llama 2-34B"
          ],
          [
           "Claude 2"
          ],
          [
           "xTrimoPGLM -100B"
          ],
          [
           "PaLM 2"
          ],
          [
           "BloombergGPT"
          ],
          [
           "PanGu-Σ"
          ],
          [
           "GPT-4"
          ],
          [
           "GPT-3.5 (text-davinci-003)"
          ],
          [
           "U-PaLM (540B)"
          ],
          [
           "PaLI"
          ],
          [
           "AlexaTM 20B"
          ],
          [
           "Minerva (540B)"
          ],
          [
           "Parti"
          ],
          [
           "CoCa"
          ],
          [
           "Imagen"
          ],
          [
           "Flamingo"
          ],
          [
           "PaLM (540B)"
          ],
          [
           "Chinchilla"
          ],
          [
           "LaMDA"
          ],
          [
           "ERNIE 3.0 Titan"
          ],
          [
           "GLaM"
          ],
          [
           "Gopher (280B)"
          ],
          [
           "Yuan 1.0"
          ],
          [
           "Megatron-Turing NLG 530B"
          ],
          [
           "HyperCLOVA"
          ],
          [
           "Switch"
          ],
          [
           "GShard (dense)"
          ],
          [
           "GPT-3 175B (davinci)"
          ],
          [
           "Turing-NLG"
          ],
          [
           "Meena"
          ],
          [
           "Megatron-BERT"
          ],
          [
           "Megatron-LM (8.3B)"
          ],
          [
           "Transformer"
          ],
          [
           "MoE"
          ],
          [
           "GNMT"
          ]
         ],
         "hovertemplate": "Model open/closed=Closed<br>Publication date=%{x}<br>Training compute (FLOP)=%{y}<br>System=%{customdata[0]}<extra></extra>",
         "legendgroup": "Closed",
         "marker": {
          "color": "#636efa",
          "symbol": "circle"
         },
         "mode": "markers",
         "name": "Closed",
         "orientation": "v",
         "showlegend": true,
         "type": "scatter",
         "x": [
          "2023-12-06",
          "2023-11-22",
          "2023-07-18",
          "2023-07-11",
          "2023-07-06",
          "2023-05-10",
          "2023-03-30",
          "2023-03-20",
          "2023-03-15",
          "2022-11-28",
          "2022-10-20",
          "2022-09-14",
          "2022-08-02",
          "2022-06-29",
          "2022-06-22",
          "2022-06-14",
          "2022-05-23",
          "2022-04-29",
          "2022-04-04",
          "2022-03-29",
          "2022-02-10",
          "2021-12-23",
          "2021-12-13",
          "2021-12-08",
          "2021-10-12",
          "2021-10-11",
          "2021-09-10",
          "2021-01-11",
          "2020-06-30",
          "2020-05-28",
          "2020-02-13",
          "2020-01-28",
          "2019-09-17",
          "2019-09-17",
          "2017-06-12",
          "2017-01-23",
          "2016-09-26"
         ],
         "xaxis": "x",
         "y": [
          5.0000000001e+25,
          1.001e+25,
          4.08e+23,
          3.866e+24,
          6.0001e+23,
          7.34e+24,
          2.3599999999999997e+23,
          4.669999999999999e+23,
          2.1e+25,
          2.578e+24,
          2.53e+24,
          5.1e+22,
          2.04374016e+23,
          2.7415e+24,
          3.962895376192635e+23,
          7.3e+22,
          1.4600000000000002e+22,
          2.7e+23,
          2.5272e+24,
          5.76e+23,
          3.55e+23,
          1.0421e+24,
          3.74e+23,
          6.31e+23,
          3.5380000000001e+23,
          1.17e+24,
          1.476e+23,
          8.22e+22,
          1.28e+22,
          3.14e+23,
          1.57e+22,
          1.12e+23,
          6.027e+22,
          9.1e+21,
          7424524800000000000,
          93939056640000000000,
          6.899999999999999e+21
         ],
         "yaxis": "y"
        },
        {
         "customdata": [
          [
           "Qwen-72B"
          ],
          [
           "Nemotron-3-8B"
          ],
          [
           "Yi-34B"
          ],
          [
           "Falcon 180B"
          ],
          [
           "Llama 2-70B"
          ],
          [
           "Llama 2-7B"
          ],
          [
           "Llama 2-13B"
          ],
          [
           "WizardLM-7B"
          ],
          [
           "Falcon-40B"
          ],
          [
           "LLaMA-65B"
          ],
          [
           "LLaMA-7B"
          ],
          [
           "Galactica"
          ],
          [
           "BLOOM-176B"
          ],
          [
           "Taiyi-Stable Diffusion"
          ],
          [
           "Whisper"
          ],
          [
           "GLM-130B"
          ],
          [
           "ESM2-15B"
          ],
          [
           "ESM2-3B"
          ],
          [
           "NLLB"
          ],
          [
           "UL2"
          ],
          [
           "OPT-175B"
          ],
          [
           "Stable Diffusion (LDM-KL-8-G)"
          ],
          [
           "GPT-NeoX-20B"
          ],
          [
           "XGLM"
          ],
          [
           "ERNIE 3.0"
          ],
          [
           "DeBERTa"
          ],
          [
           "ProtT5-XXL-BFD"
          ],
          [
           "ProtBERT-BFD"
          ],
          [
           "T5-11B"
          ],
          [
           "GPT-2 (1.5B)"
          ],
          [
           "BERT-Large"
          ],
          [
           "GPT"
          ]
         ],
         "hovertemplate": "Model open/closed=Open<br>Publication date=%{x}<br>Training compute (FLOP)=%{y}<br>System=%{customdata[0]}<extra></extra>",
         "legendgroup": "Open",
         "marker": {
          "color": "#EF553B",
          "symbol": "circle"
         },
         "mode": "markers",
         "name": "Open",
         "orientation": "v",
         "showlegend": true,
         "type": "scatter",
         "x": [
          "2023-11-30",
          "2023-11-15",
          "2023-11-02",
          "2023-09-06",
          "2023-07-18",
          "2023-07-18",
          "2023-07-18",
          "2023-04-24",
          "2023-03-15",
          "2023-02-24",
          "2023-02-24",
          "2022-11-16",
          "2022-11-08",
          "2022-10-31",
          "2022-09-21",
          "2022-08-04",
          "2022-07-21",
          "2022-07-21",
          "2022-07-06",
          "2022-05-10",
          "2022-05-02",
          "2022-04-13",
          "2022-02-09",
          "2021-12-20",
          "2021-07-05",
          "2021-06-10",
          "2021-05-04",
          "2021-05-04",
          "2019-10-23",
          "2019-02-14",
          "2018-10-11",
          "2018-06-01"
         ],
         "xaxis": "x",
         "y": [
          1.3e+24,
          1.8e+23,
          6.1e+23,
          3.76e+24,
          8.1e+23,
          8.4e+22,
          1.6e+23,
          4.02e+22,
          2.4e+23,
          5.5e+23,
          4.02e+22,
          3.24e+23,
          5.770000000000099e+23,
          5.1e+22,
          4.65e+22,
          3.778e+23,
          7.350000000009999e+22,
          3.0000000009999997e+22,
          1.751113728e+22,
          1.2e+23,
          4.3e+23,
          5e+22,
          9.31627008e+22,
          2.25e+22,
          2.25e+22,
          6.00000000001e+21,
          3.7e+22,
          3.9e+22,
          3.3e+22,
          4.3e+21,
          285000000000000000000,
          17578125000000000000
         ],
         "yaxis": "y"
        }
       ],
       "layout": {
        "legend": {
         "title": {
          "text": "Model open/closed"
         },
         "tracegroupgap": 0
        },
        "margin": {
         "t": 60
        },
        "template": {
         "data": {
          "bar": [
           {
            "error_x": {
             "color": "#2a3f5f"
            },
            "error_y": {
             "color": "#2a3f5f"
            },
            "marker": {
             "line": {
              "color": "#E5ECF6",
              "width": 0.5
             },
             "pattern": {
              "fillmode": "overlay",
              "size": 10,
              "solidity": 0.2
             }
            },
            "type": "bar"
           }
          ],
          "barpolar": [
           {
            "marker": {
             "line": {
              "color": "#E5ECF6",
              "width": 0.5
             },
             "pattern": {
              "fillmode": "overlay",
              "size": 10,
              "solidity": 0.2
             }
            },
            "type": "barpolar"
           }
          ],
          "carpet": [
           {
            "aaxis": {
             "endlinecolor": "#2a3f5f",
             "gridcolor": "white",
             "linecolor": "white",
             "minorgridcolor": "white",
             "startlinecolor": "#2a3f5f"
            },
            "baxis": {
             "endlinecolor": "#2a3f5f",
             "gridcolor": "white",
             "linecolor": "white",
             "minorgridcolor": "white",
             "startlinecolor": "#2a3f5f"
            },
            "type": "carpet"
           }
          ],
          "choropleth": [
           {
            "colorbar": {
             "outlinewidth": 0,
             "ticks": ""
            },
            "type": "choropleth"
           }
          ],
          "contour": [
           {
            "colorbar": {
             "outlinewidth": 0,
             "ticks": ""
            },
            "colorscale": [
             [
              0,
              "#0d0887"
             ],
             [
              0.1111111111111111,
              "#46039f"
             ],
             [
              0.2222222222222222,
              "#7201a8"
             ],
             [
              0.3333333333333333,
              "#9c179e"
             ],
             [
              0.4444444444444444,
              "#bd3786"
             ],
             [
              0.5555555555555556,
              "#d8576b"
             ],
             [
              0.6666666666666666,
              "#ed7953"
             ],
             [
              0.7777777777777778,
              "#fb9f3a"
             ],
             [
              0.8888888888888888,
              "#fdca26"
             ],
             [
              1,
              "#f0f921"
             ]
            ],
            "type": "contour"
           }
          ],
          "contourcarpet": [
           {
            "colorbar": {
             "outlinewidth": 0,
             "ticks": ""
            },
            "type": "contourcarpet"
           }
          ],
          "heatmap": [
           {
            "colorbar": {
             "outlinewidth": 0,
             "ticks": ""
            },
            "colorscale": [
             [
              0,
              "#0d0887"
             ],
             [
              0.1111111111111111,
              "#46039f"
             ],
             [
              0.2222222222222222,
              "#7201a8"
             ],
             [
              0.3333333333333333,
              "#9c179e"
             ],
             [
              0.4444444444444444,
              "#bd3786"
             ],
             [
              0.5555555555555556,
              "#d8576b"
             ],
             [
              0.6666666666666666,
              "#ed7953"
             ],
             [
              0.7777777777777778,
              "#fb9f3a"
             ],
             [
              0.8888888888888888,
              "#fdca26"
             ],
             [
              1,
              "#f0f921"
             ]
            ],
            "type": "heatmap"
           }
          ],
          "heatmapgl": [
           {
            "colorbar": {
             "outlinewidth": 0,
             "ticks": ""
            },
            "colorscale": [
             [
              0,
              "#0d0887"
             ],
             [
              0.1111111111111111,
              "#46039f"
             ],
             [
              0.2222222222222222,
              "#7201a8"
             ],
             [
              0.3333333333333333,
              "#9c179e"
             ],
             [
              0.4444444444444444,
              "#bd3786"
             ],
             [
              0.5555555555555556,
              "#d8576b"
             ],
             [
              0.6666666666666666,
              "#ed7953"
             ],
             [
              0.7777777777777778,
              "#fb9f3a"
             ],
             [
              0.8888888888888888,
              "#fdca26"
             ],
             [
              1,
              "#f0f921"
             ]
            ],
            "type": "heatmapgl"
           }
          ],
          "histogram": [
           {
            "marker": {
             "pattern": {
              "fillmode": "overlay",
              "size": 10,
              "solidity": 0.2
             }
            },
            "type": "histogram"
           }
          ],
          "histogram2d": [
           {
            "colorbar": {
             "outlinewidth": 0,
             "ticks": ""
            },
            "colorscale": [
             [
              0,
              "#0d0887"
             ],
             [
              0.1111111111111111,
              "#46039f"
             ],
             [
              0.2222222222222222,
              "#7201a8"
             ],
             [
              0.3333333333333333,
              "#9c179e"
             ],
             [
              0.4444444444444444,
              "#bd3786"
             ],
             [
              0.5555555555555556,
              "#d8576b"
             ],
             [
              0.6666666666666666,
              "#ed7953"
             ],
             [
              0.7777777777777778,
              "#fb9f3a"
             ],
             [
              0.8888888888888888,
              "#fdca26"
             ],
             [
              1,
              "#f0f921"
             ]
            ],
            "type": "histogram2d"
           }
          ],
          "histogram2dcontour": [
           {
            "colorbar": {
             "outlinewidth": 0,
             "ticks": ""
            },
            "colorscale": [
             [
              0,
              "#0d0887"
             ],
             [
              0.1111111111111111,
              "#46039f"
             ],
             [
              0.2222222222222222,
              "#7201a8"
             ],
             [
              0.3333333333333333,
              "#9c179e"
             ],
             [
              0.4444444444444444,
              "#bd3786"
             ],
             [
              0.5555555555555556,
              "#d8576b"
             ],
             [
              0.6666666666666666,
              "#ed7953"
             ],
             [
              0.7777777777777778,
              "#fb9f3a"
             ],
             [
              0.8888888888888888,
              "#fdca26"
             ],
             [
              1,
              "#f0f921"
             ]
            ],
            "type": "histogram2dcontour"
           }
          ],
          "mesh3d": [
           {
            "colorbar": {
             "outlinewidth": 0,
             "ticks": ""
            },
            "type": "mesh3d"
           }
          ],
          "parcoords": [
           {
            "line": {
             "colorbar": {
              "outlinewidth": 0,
              "ticks": ""
             }
            },
            "type": "parcoords"
           }
          ],
          "pie": [
           {
            "automargin": true,
            "type": "pie"
           }
          ],
          "scatter": [
           {
            "fillpattern": {
             "fillmode": "overlay",
             "size": 10,
             "solidity": 0.2
            },
            "type": "scatter"
           }
          ],
          "scatter3d": [
           {
            "line": {
             "colorbar": {
              "outlinewidth": 0,
              "ticks": ""
             }
            },
            "marker": {
             "colorbar": {
              "outlinewidth": 0,
              "ticks": ""
             }
            },
            "type": "scatter3d"
           }
          ],
          "scattercarpet": [
           {
            "marker": {
             "colorbar": {
              "outlinewidth": 0,
              "ticks": ""
             }
            },
            "type": "scattercarpet"
           }
          ],
          "scattergeo": [
           {
            "marker": {
             "colorbar": {
              "outlinewidth": 0,
              "ticks": ""
             }
            },
            "type": "scattergeo"
           }
          ],
          "scattergl": [
           {
            "marker": {
             "colorbar": {
              "outlinewidth": 0,
              "ticks": ""
             }
            },
            "type": "scattergl"
           }
          ],
          "scattermapbox": [
           {
            "marker": {
             "colorbar": {
              "outlinewidth": 0,
              "ticks": ""
             }
            },
            "type": "scattermapbox"
           }
          ],
          "scatterpolar": [
           {
            "marker": {
             "colorbar": {
              "outlinewidth": 0,
              "ticks": ""
             }
            },
            "type": "scatterpolar"
           }
          ],
          "scatterpolargl": [
           {
            "marker": {
             "colorbar": {
              "outlinewidth": 0,
              "ticks": ""
             }
            },
            "type": "scatterpolargl"
           }
          ],
          "scatterternary": [
           {
            "marker": {
             "colorbar": {
              "outlinewidth": 0,
              "ticks": ""
             }
            },
            "type": "scatterternary"
           }
          ],
          "surface": [
           {
            "colorbar": {
             "outlinewidth": 0,
             "ticks": ""
            },
            "colorscale": [
             [
              0,
              "#0d0887"
             ],
             [
              0.1111111111111111,
              "#46039f"
             ],
             [
              0.2222222222222222,
              "#7201a8"
             ],
             [
              0.3333333333333333,
              "#9c179e"
             ],
             [
              0.4444444444444444,
              "#bd3786"
             ],
             [
              0.5555555555555556,
              "#d8576b"
             ],
             [
              0.6666666666666666,
              "#ed7953"
             ],
             [
              0.7777777777777778,
              "#fb9f3a"
             ],
             [
              0.8888888888888888,
              "#fdca26"
             ],
             [
              1,
              "#f0f921"
             ]
            ],
            "type": "surface"
           }
          ],
          "table": [
           {
            "cells": {
             "fill": {
              "color": "#EBF0F8"
             },
             "line": {
              "color": "white"
             }
            },
            "header": {
             "fill": {
              "color": "#C8D4E3"
             },
             "line": {
              "color": "white"
             }
            },
            "type": "table"
           }
          ]
         },
         "layout": {
          "annotationdefaults": {
           "arrowcolor": "#2a3f5f",
           "arrowhead": 0,
           "arrowwidth": 1
          },
          "autotypenumbers": "strict",
          "coloraxis": {
           "colorbar": {
            "outlinewidth": 0,
            "ticks": ""
           }
          },
          "colorscale": {
           "diverging": [
            [
             0,
             "#8e0152"
            ],
            [
             0.1,
             "#c51b7d"
            ],
            [
             0.2,
             "#de77ae"
            ],
            [
             0.3,
             "#f1b6da"
            ],
            [
             0.4,
             "#fde0ef"
            ],
            [
             0.5,
             "#f7f7f7"
            ],
            [
             0.6,
             "#e6f5d0"
            ],
            [
             0.7,
             "#b8e186"
            ],
            [
             0.8,
             "#7fbc41"
            ],
            [
             0.9,
             "#4d9221"
            ],
            [
             1,
             "#276419"
            ]
           ],
           "sequential": [
            [
             0,
             "#0d0887"
            ],
            [
             0.1111111111111111,
             "#46039f"
            ],
            [
             0.2222222222222222,
             "#7201a8"
            ],
            [
             0.3333333333333333,
             "#9c179e"
            ],
            [
             0.4444444444444444,
             "#bd3786"
            ],
            [
             0.5555555555555556,
             "#d8576b"
            ],
            [
             0.6666666666666666,
             "#ed7953"
            ],
            [
             0.7777777777777778,
             "#fb9f3a"
            ],
            [
             0.8888888888888888,
             "#fdca26"
            ],
            [
             1,
             "#f0f921"
            ]
           ],
           "sequentialminus": [
            [
             0,
             "#0d0887"
            ],
            [
             0.1111111111111111,
             "#46039f"
            ],
            [
             0.2222222222222222,
             "#7201a8"
            ],
            [
             0.3333333333333333,
             "#9c179e"
            ],
            [
             0.4444444444444444,
             "#bd3786"
            ],
            [
             0.5555555555555556,
             "#d8576b"
            ],
            [
             0.6666666666666666,
             "#ed7953"
            ],
            [
             0.7777777777777778,
             "#fb9f3a"
            ],
            [
             0.8888888888888888,
             "#fdca26"
            ],
            [
             1,
             "#f0f921"
            ]
           ]
          },
          "colorway": [
           "#636efa",
           "#EF553B",
           "#00cc96",
           "#ab63fa",
           "#FFA15A",
           "#19d3f3",
           "#FF6692",
           "#B6E880",
           "#FF97FF",
           "#FECB52"
          ],
          "font": {
           "color": "#2a3f5f"
          },
          "geo": {
           "bgcolor": "white",
           "lakecolor": "white",
           "landcolor": "#E5ECF6",
           "showlakes": true,
           "showland": true,
           "subunitcolor": "white"
          },
          "hoverlabel": {
           "align": "left"
          },
          "hovermode": "closest",
          "mapbox": {
           "style": "light"
          },
          "paper_bgcolor": "white",
          "plot_bgcolor": "#E5ECF6",
          "polar": {
           "angularaxis": {
            "gridcolor": "white",
            "linecolor": "white",
            "ticks": ""
           },
           "bgcolor": "#E5ECF6",
           "radialaxis": {
            "gridcolor": "white",
            "linecolor": "white",
            "ticks": ""
           }
          },
          "scene": {
           "xaxis": {
            "backgroundcolor": "#E5ECF6",
            "gridcolor": "white",
            "gridwidth": 2,
            "linecolor": "white",
            "showbackground": true,
            "ticks": "",
            "zerolinecolor": "white"
           },
           "yaxis": {
            "backgroundcolor": "#E5ECF6",
            "gridcolor": "white",
            "gridwidth": 2,
            "linecolor": "white",
            "showbackground": true,
            "ticks": "",
            "zerolinecolor": "white"
           },
           "zaxis": {
            "backgroundcolor": "#E5ECF6",
            "gridcolor": "white",
            "gridwidth": 2,
            "linecolor": "white",
            "showbackground": true,
            "ticks": "",
            "zerolinecolor": "white"
           }
          },
          "shapedefaults": {
           "line": {
            "color": "#2a3f5f"
           }
          },
          "ternary": {
           "aaxis": {
            "gridcolor": "white",
            "linecolor": "white",
            "ticks": ""
           },
           "baxis": {
            "gridcolor": "white",
            "linecolor": "white",
            "ticks": ""
           },
           "bgcolor": "#E5ECF6",
           "caxis": {
            "gridcolor": "white",
            "linecolor": "white",
            "ticks": ""
           }
          },
          "title": {
           "x": 0.05
          },
          "xaxis": {
           "automargin": true,
           "gridcolor": "white",
           "linecolor": "white",
           "ticks": "",
           "title": {
            "standoff": 15
           },
           "zerolinecolor": "white",
           "zerolinewidth": 2
          },
          "yaxis": {
           "automargin": true,
           "gridcolor": "white",
           "linecolor": "white",
           "ticks": "",
           "title": {
            "standoff": 15
           },
           "zerolinecolor": "white",
           "zerolinewidth": 2
          }
         }
        },
        "xaxis": {
         "anchor": "y",
         "domain": [
          0,
          1
         ],
         "title": {
          "text": "Publication date"
         }
        },
        "yaxis": {
         "anchor": "x",
         "domain": [
          0,
          1
         ],
         "title": {
          "text": "Training compute (FLOP)"
         },
         "type": "log"
        }
       }
      }
     },
     "metadata": {},
     "output_type": "display_data"
    }
   ],
   "source": [
    "fig = px.scatter(\n",
    "    # access_df,\n",
    "    access_df.loc[access_df['System'].isin(selected_systems)],\n",
    "    x='Publication date',\n",
    "    y='Training compute (FLOP)',\n",
    "    color='Model open/closed',\n",
    "    hover_data=['System'],\n",
    "    log_y=True,\n",
    ")\n",
    "\n",
    "save_plot(fig, results_dir, 'training_compute_by_open_closed')\n",
    "\n",
    "fig.show()"
   ]
  },
  {
   "cell_type": "code",
   "execution_count": 351,
   "metadata": {},
   "outputs": [
    {
     "ename": "KeyError",
     "evalue": "'Publication date'",
     "output_type": "error",
     "traceback": [
      "\u001b[0;31m---------------------------------------------------------------------------\u001b[0m",
      "\u001b[0;31mKeyError\u001b[0m                                  Traceback (most recent call last)",
      "File \u001b[0;32m~/miniconda3/envs/epoch/lib/python3.11/site-packages/pandas/core/indexes/base.py:3802\u001b[0m, in \u001b[0;36mIndex.get_loc\u001b[0;34m(self, key, method, tolerance)\u001b[0m\n\u001b[1;32m   3801\u001b[0m \u001b[38;5;28;01mtry\u001b[39;00m:\n\u001b[0;32m-> 3802\u001b[0m     \u001b[38;5;28;01mreturn\u001b[39;00m \u001b[38;5;28mself\u001b[39m\u001b[38;5;241m.\u001b[39m_engine\u001b[38;5;241m.\u001b[39mget_loc(casted_key)\n\u001b[1;32m   3803\u001b[0m \u001b[38;5;28;01mexcept\u001b[39;00m \u001b[38;5;167;01mKeyError\u001b[39;00m \u001b[38;5;28;01mas\u001b[39;00m err:\n",
      "File \u001b[0;32m~/miniconda3/envs/epoch/lib/python3.11/site-packages/pandas/_libs/index.pyx:138\u001b[0m, in \u001b[0;36mpandas._libs.index.IndexEngine.get_loc\u001b[0;34m()\u001b[0m\n",
      "File \u001b[0;32m~/miniconda3/envs/epoch/lib/python3.11/site-packages/pandas/_libs/index.pyx:165\u001b[0m, in \u001b[0;36mpandas._libs.index.IndexEngine.get_loc\u001b[0;34m()\u001b[0m\n",
      "File \u001b[0;32mpandas/_libs/hashtable_class_helper.pxi:5745\u001b[0m, in \u001b[0;36mpandas._libs.hashtable.PyObjectHashTable.get_item\u001b[0;34m()\u001b[0m\n",
      "File \u001b[0;32mpandas/_libs/hashtable_class_helper.pxi:5753\u001b[0m, in \u001b[0;36mpandas._libs.hashtable.PyObjectHashTable.get_item\u001b[0;34m()\u001b[0m\n",
      "\u001b[0;31mKeyError\u001b[0m: 'Publication date'",
      "\nThe above exception was the direct cause of the following exception:\n",
      "\u001b[0;31mKeyError\u001b[0m                                  Traceback (most recent call last)",
      "Cell \u001b[0;32mIn[351], line 21\u001b[0m\n\u001b[1;32m      1\u001b[0m fig \u001b[38;5;241m=\u001b[39m px\u001b[38;5;241m.\u001b[39mscatter(\n\u001b[1;32m      2\u001b[0m     \u001b[38;5;66;03m# access_df,\u001b[39;00m\n\u001b[1;32m      3\u001b[0m     access_df\u001b[38;5;241m.\u001b[39mloc[access_df[\u001b[38;5;124m'\u001b[39m\u001b[38;5;124mSystem\u001b[39m\u001b[38;5;124m'\u001b[39m]\u001b[38;5;241m.\u001b[39misin(selected_systems)],\n\u001b[0;32m   (...)\u001b[0m\n\u001b[1;32m      8\u001b[0m     log_y\u001b[38;5;241m=\u001b[39m\u001b[38;5;28;01mTrue\u001b[39;00m,\n\u001b[1;32m      9\u001b[0m )\n\u001b[1;32m     11\u001b[0m \u001b[38;5;66;03m# Marker color\u001b[39;00m\n\u001b[1;32m     12\u001b[0m \u001b[38;5;66;03m# fig.update_traces(\u001b[39;00m\n\u001b[1;32m     13\u001b[0m \u001b[38;5;66;03m#     marker=dict(\u001b[39;00m\n\u001b[0;32m   (...)\u001b[0m\n\u001b[1;32m     18\u001b[0m \n\u001b[1;32m     19\u001b[0m \u001b[38;5;66;03m# Shade in CI\u001b[39;00m\n\u001b[1;32m     20\u001b[0m fig\u001b[38;5;241m.\u001b[39madd_scatter(\n\u001b[0;32m---> 21\u001b[0m     x\u001b[38;5;241m=\u001b[39mpredicted_open_df[\u001b[38;5;124m'\u001b[39m\u001b[38;5;124mPublication date\u001b[39m\u001b[38;5;124m'\u001b[39m],\n\u001b[1;32m     22\u001b[0m     y\u001b[38;5;241m=\u001b[39m\u001b[38;5;241m10\u001b[39m\u001b[38;5;241m*\u001b[39m\u001b[38;5;241m*\u001b[39mpredicted_open_df[\u001b[38;5;124m'\u001b[39m\u001b[38;5;124mmean_ci_lower\u001b[39m\u001b[38;5;124m'\u001b[39m],\n\u001b[1;32m     23\u001b[0m     mode\u001b[38;5;241m=\u001b[39m\u001b[38;5;124m'\u001b[39m\u001b[38;5;124mlines\u001b[39m\u001b[38;5;124m'\u001b[39m,\n\u001b[1;32m     24\u001b[0m     line\u001b[38;5;241m=\u001b[39m\u001b[38;5;28mdict\u001b[39m(width\u001b[38;5;241m=\u001b[39m\u001b[38;5;241m0\u001b[39m),\n\u001b[1;32m     25\u001b[0m     showlegend\u001b[38;5;241m=\u001b[39m\u001b[38;5;28;01mFalse\u001b[39;00m,\n\u001b[1;32m     26\u001b[0m )\n\u001b[1;32m     27\u001b[0m fig\u001b[38;5;241m.\u001b[39madd_scatter(\n\u001b[1;32m     28\u001b[0m     x\u001b[38;5;241m=\u001b[39mpredicted_open_df[\u001b[38;5;124m'\u001b[39m\u001b[38;5;124mPublication date\u001b[39m\u001b[38;5;124m'\u001b[39m],\n\u001b[1;32m     29\u001b[0m     y\u001b[38;5;241m=\u001b[39m\u001b[38;5;241m10\u001b[39m\u001b[38;5;241m*\u001b[39m\u001b[38;5;241m*\u001b[39mpredicted_open_df[\u001b[38;5;124m'\u001b[39m\u001b[38;5;124mmean_ci_upper\u001b[39m\u001b[38;5;124m'\u001b[39m],\n\u001b[0;32m   (...)\u001b[0m\n\u001b[1;32m     34\u001b[0m     name\u001b[38;5;241m=\u001b[39m\u001b[38;5;124m'\u001b[39m\u001b[38;5;124m95\u001b[39m\u001b[38;5;124m%\u001b[39m\u001b[38;5;124m CI of mean\u001b[39m\u001b[38;5;124m'\u001b[39m,\n\u001b[1;32m     35\u001b[0m )\n\u001b[1;32m     36\u001b[0m fig\u001b[38;5;241m.\u001b[39madd_scatter(\n\u001b[1;32m     37\u001b[0m     x\u001b[38;5;241m=\u001b[39mpredicted_open_df[\u001b[38;5;124m'\u001b[39m\u001b[38;5;124mPublication date\u001b[39m\u001b[38;5;124m'\u001b[39m],\n\u001b[1;32m     38\u001b[0m     y\u001b[38;5;241m=\u001b[39m\u001b[38;5;241m10\u001b[39m\u001b[38;5;241m*\u001b[39m\u001b[38;5;241m*\u001b[39mpredicted_open_df[\u001b[38;5;124m'\u001b[39m\u001b[38;5;124mmean\u001b[39m\u001b[38;5;124m'\u001b[39m],\n\u001b[0;32m   (...)\u001b[0m\n\u001b[1;32m     41\u001b[0m     name\u001b[38;5;241m=\u001b[39m\u001b[38;5;124mf\u001b[39m\u001b[38;5;124m'\u001b[39m\u001b[38;5;124mRegression mean (growth rate: \u001b[39m\u001b[38;5;132;01m{\u001b[39;00m\u001b[38;5;241m10\u001b[39m\u001b[38;5;241m*\u001b[39m\u001b[38;5;241m*\u001b[39mreg_results\u001b[38;5;241m.\u001b[39mparams[\u001b[38;5;241m1\u001b[39m]\u001b[38;5;132;01m:\u001b[39;00m\u001b[38;5;124m.1f\u001b[39m\u001b[38;5;132;01m}\u001b[39;00m\u001b[38;5;124mx per year)\u001b[39m\u001b[38;5;124m'\u001b[39m,\n\u001b[1;32m     42\u001b[0m )\n",
      "File \u001b[0;32m~/miniconda3/envs/epoch/lib/python3.11/site-packages/pandas/core/frame.py:3807\u001b[0m, in \u001b[0;36mDataFrame.__getitem__\u001b[0;34m(self, key)\u001b[0m\n\u001b[1;32m   3805\u001b[0m \u001b[38;5;28;01mif\u001b[39;00m \u001b[38;5;28mself\u001b[39m\u001b[38;5;241m.\u001b[39mcolumns\u001b[38;5;241m.\u001b[39mnlevels \u001b[38;5;241m>\u001b[39m \u001b[38;5;241m1\u001b[39m:\n\u001b[1;32m   3806\u001b[0m     \u001b[38;5;28;01mreturn\u001b[39;00m \u001b[38;5;28mself\u001b[39m\u001b[38;5;241m.\u001b[39m_getitem_multilevel(key)\n\u001b[0;32m-> 3807\u001b[0m indexer \u001b[38;5;241m=\u001b[39m \u001b[38;5;28mself\u001b[39m\u001b[38;5;241m.\u001b[39mcolumns\u001b[38;5;241m.\u001b[39mget_loc(key)\n\u001b[1;32m   3808\u001b[0m \u001b[38;5;28;01mif\u001b[39;00m is_integer(indexer):\n\u001b[1;32m   3809\u001b[0m     indexer \u001b[38;5;241m=\u001b[39m [indexer]\n",
      "File \u001b[0;32m~/miniconda3/envs/epoch/lib/python3.11/site-packages/pandas/core/indexes/base.py:3804\u001b[0m, in \u001b[0;36mIndex.get_loc\u001b[0;34m(self, key, method, tolerance)\u001b[0m\n\u001b[1;32m   3802\u001b[0m     \u001b[38;5;28;01mreturn\u001b[39;00m \u001b[38;5;28mself\u001b[39m\u001b[38;5;241m.\u001b[39m_engine\u001b[38;5;241m.\u001b[39mget_loc(casted_key)\n\u001b[1;32m   3803\u001b[0m \u001b[38;5;28;01mexcept\u001b[39;00m \u001b[38;5;167;01mKeyError\u001b[39;00m \u001b[38;5;28;01mas\u001b[39;00m err:\n\u001b[0;32m-> 3804\u001b[0m     \u001b[38;5;28;01mraise\u001b[39;00m \u001b[38;5;167;01mKeyError\u001b[39;00m(key) \u001b[38;5;28;01mfrom\u001b[39;00m \u001b[38;5;21;01merr\u001b[39;00m\n\u001b[1;32m   3805\u001b[0m \u001b[38;5;28;01mexcept\u001b[39;00m \u001b[38;5;167;01mTypeError\u001b[39;00m:\n\u001b[1;32m   3806\u001b[0m     \u001b[38;5;66;03m# If we have a listlike key, _check_indexing_error will raise\u001b[39;00m\n\u001b[1;32m   3807\u001b[0m     \u001b[38;5;66;03m#  InvalidIndexError. Otherwise we fall through and re-raise\u001b[39;00m\n\u001b[1;32m   3808\u001b[0m     \u001b[38;5;66;03m#  the TypeError.\u001b[39;00m\n\u001b[1;32m   3809\u001b[0m     \u001b[38;5;28mself\u001b[39m\u001b[38;5;241m.\u001b[39m_check_indexing_error(key)\n",
      "\u001b[0;31mKeyError\u001b[0m: 'Publication date'"
     ]
    }
   ],
   "source": [
    "fig = px.scatter(\n",
    "    # access_df,\n",
    "    access_df.loc[access_df['System'].isin(selected_systems)],\n",
    "    x='Publication date',\n",
    "    y='Training compute (FLOP)',\n",
    "    color='Model open/closed',\n",
    "    hover_data=['System'],\n",
    "    log_y=True,\n",
    ")\n",
    "\n",
    "# Marker color\n",
    "# fig.update_traces(\n",
    "#     marker=dict(\n",
    "#         color='rgb(0,100,200)',\n",
    "#     ),\n",
    "#     selector=dict(mode='markers'),\n",
    "# )\n",
    "\n",
    "# Shade in CI\n",
    "fig.add_scatter(\n",
    "    x=predicted_open_df['Publication date'],\n",
    "    y=10**predicted_open_df['mean_ci_lower'],\n",
    "    mode='lines',\n",
    "    line=dict(width=0),\n",
    "    showlegend=False,\n",
    ")\n",
    "fig.add_scatter(\n",
    "    x=predicted_open_df['Publication date'],\n",
    "    y=10**predicted_open_df['mean_ci_upper'],\n",
    "    mode='lines',\n",
    "    fill='tonexty',\n",
    "    fillcolor='rgba(230,100,0,0.2)',\n",
    "    line=dict(width=0),\n",
    "    name='95% CI of mean',\n",
    ")\n",
    "fig.add_scatter(\n",
    "    x=predicted_open_df['Publication date'],\n",
    "    y=10**predicted_open_df['mean'],\n",
    "    mode='lines',\n",
    "    line=dict(color='rgb(230,100,0)'),\n",
    "    name=f'Regression mean (growth rate: {10**reg_results.params[1]:.1f}x per year)',\n",
    ")\n",
    "\n",
    "fig.add_scatter(\n",
    "    x=predicted_closed_df['Publication date'],\n",
    "    y=10**predicted_closed_df['mean_ci_lower'],\n",
    "    mode='lines',\n",
    "    line=dict(width=0),\n",
    "    showlegend=False,\n",
    ")\n",
    "fig.add_scatter(\n",
    "    x=predicted_closed_df['Publication date'],\n",
    "    y=10**predicted_closed_df['mean_ci_upper'],\n",
    "    mode='lines',\n",
    "    fill='tonexty',\n",
    "    fillcolor='rgba(0,100,200,0.2)',\n",
    "    line=dict(width=0),\n",
    "    name='95% CI of mean',\n",
    ")\n",
    "fig.add_scatter(\n",
    "    x=predicted_closed_df['Publication date'],\n",
    "    y=10**predicted_closed_df['mean'],\n",
    "    mode='lines',\n",
    "    line=dict(color='rgb(0,100,200)'),\n",
    "    name=f'Regression mean (growth rate: {10**reg_results.params[1]:.1f}x per year)',\n",
    ")\n",
    "\n",
    "fig.update_traces(textposition='top center')\n",
    "\n",
    "# legend on top\n",
    "fig.update_layout(legend=dict(\n",
    "    orientation='h',\n",
    "    yanchor='top',\n",
    "    y=-0.15,\n",
    "    xanchor='center',\n",
    "    x=0.5,\n",
    "))\n",
    "\n",
    "# axis labels\n",
    "# fig.update_xaxes(title_text='Publication date')\n",
    "# fig.update_yaxes(title_text='Cost (2023 USD)')\n",
    "\n",
    "# title\n",
    "\n",
    "\n",
    "# update size\n",
    "fig.update_layout(\n",
    "    autosize=False,\n",
    "    width=800,\n",
    "    height=600,\n",
    "    title_x=0.5,\n",
    ")\n",
    "\n",
    "# font size\n",
    "fig.update_layout(\n",
    "    font=dict(\n",
    "        size=14,\n",
    "    )\n",
    ")\n",
    "\n",
    "# axis limits\n",
    "fig.update_xaxes(range=[pred_start_date, pred_end_date])\n",
    "\n",
    "# margins\n",
    "fig.update_layout(margin=dict(l=10, r=10, t=40, b=10))\n",
    "\n",
    "save_plot(fig, results_dir, 'open_closed_regression')\n",
    "\n",
    "fig.show()"
   ]
  },
  {
   "cell_type": "code",
   "execution_count": null,
   "metadata": {},
   "outputs": [
    {
     "data": {
      "text/plain": [
       "Index(['System', 'Domain', 'Task', 'Authors', 'Notability criteria',\n",
       "       'Notability criteria notes', 'Model accessibility', 'Link', 'Citations',\n",
       "       'Reference', 'Publication date', 'Organization', 'Parameters',\n",
       "       'Parameters notes', 'Training compute (FLOP)', 'Training compute notes',\n",
       "       'Training dataset', 'Training dataset notes',\n",
       "       'Training dataset size (datapoints)', 'Dataset size notes', 'Epochs',\n",
       "       'Inference compute (FLOP)', 'Inference compute notes',\n",
       "       'Training time (hours)', 'Training time notes', 'Training hardware',\n",
       "       'Approach', 'Training compute cost (2020 USD)', 'Compute cost notes',\n",
       "       'Compute sponsor categorization', 'Confidence', 'Abstract',\n",
       "       'Last modified', 'Created By', 'Benchmark data', 'Exclude',\n",
       "       'Country (from Organization)', 'Base model', 'Finetune compute (FLOP)',\n",
       "       'Finetune compute notes', 'Hardware quantity', 'Hardware utilization',\n",
       "       'Training cost trends', 'Training cloud compute vendor',\n",
       "       'Training data center', 'Archived links', 'Batch size',\n",
       "       'Batch size notes', 'Organization categorization', 'Foundation model',\n",
       "       'Training compute lower bound', 'Training compute upper bound',\n",
       "       'Training chip-hours', 'Code accessibility', 'Dataset accessibility',\n",
       "       'Accessibility notes', 'Field 57',\n",
       "       'Organization categorization (from Organization)', 'Model open/closed',\n",
       "       'Publication date (float)'],\n",
       "      dtype='object')"
      ]
     },
     "execution_count": 149,
     "metadata": {},
     "output_type": "execute_result"
    }
   ],
   "source": [
    "access_df.columns"
   ]
  },
  {
   "cell_type": "code",
   "execution_count": null,
   "metadata": {},
   "outputs": [],
   "source": []
  }
 ],
 "metadata": {
  "kernelspec": {
   "display_name": "epoch",
   "language": "python",
   "name": "python3"
  },
  "language_info": {
   "codemirror_mode": {
    "name": "ipython",
    "version": 3
   },
   "file_extension": ".py",
   "mimetype": "text/x-python",
   "name": "python",
   "nbconvert_exporter": "python",
   "pygments_lexer": "ipython3",
   "version": "3.11.4"
  }
 },
 "nbformat": 4,
 "nbformat_minor": 2
}
