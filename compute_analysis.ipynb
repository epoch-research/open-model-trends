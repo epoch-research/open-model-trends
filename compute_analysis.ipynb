{
 "cells": [
  {
   "cell_type": "code",
   "execution_count": 58,
   "metadata": {},
   "outputs": [
    {
     "name": "stdout",
     "output_type": "stream",
     "text": [
      "The autoreload extension is already loaded. To reload it, use:\n",
      "  %reload_ext autoreload\n"
     ]
    }
   ],
   "source": [
    "%load_ext autoreload\n",
    "%autoreload 2"
   ]
  },
  {
   "cell_type": "code",
   "execution_count": 59,
   "metadata": {},
   "outputs": [],
   "source": [
    "import numpy as np\n",
    "import os\n",
    "import pandas as pd\n",
    "import plotly.express as px\n",
    "\n",
    "from data import *\n",
    "from plotting import *\n",
    "from regression import *\n",
    "from utils import *"
   ]
  },
  {
   "cell_type": "code",
   "execution_count": 60,
   "metadata": {},
   "outputs": [],
   "source": [
    "results_dir = 'results/updated-schema/'\n",
    "os.makedirs(results_dir, exist_ok=True)"
   ]
  },
  {
   "cell_type": "code",
   "execution_count": 61,
   "metadata": {},
   "outputs": [],
   "source": [
    "# Load data\n",
    "pcd_df = load_pcd_df()"
   ]
  },
  {
   "cell_type": "code",
   "execution_count": 62,
   "metadata": {},
   "outputs": [
    {
     "data": {
      "text/html": [
       "<div>\n",
       "<style scoped>\n",
       "    .dataframe tbody tr th:only-of-type {\n",
       "        vertical-align: middle;\n",
       "    }\n",
       "\n",
       "    .dataframe tbody tr th {\n",
       "        vertical-align: top;\n",
       "    }\n",
       "\n",
       "    .dataframe thead th {\n",
       "        text-align: right;\n",
       "    }\n",
       "</style>\n",
       "<table border=\"1\" class=\"dataframe\">\n",
       "  <thead>\n",
       "    <tr style=\"text-align: right;\">\n",
       "      <th></th>\n",
       "      <th>System</th>\n",
       "      <th>Domain</th>\n",
       "      <th>Task</th>\n",
       "      <th>Publication date</th>\n",
       "      <th>Accessibility notes</th>\n",
       "      <th>Model accessibility</th>\n",
       "      <th>Dataset accessibility</th>\n",
       "      <th>Code accessibility</th>\n",
       "      <th>Link</th>\n",
       "      <th>Organization</th>\n",
       "      <th>...</th>\n",
       "      <th>Archived links</th>\n",
       "      <th>Organization categorization</th>\n",
       "      <th>Foundation model</th>\n",
       "      <th>Training compute lower bound</th>\n",
       "      <th>Training compute upper bound</th>\n",
       "      <th>Training chip-hours</th>\n",
       "      <th>Organization categorization (from Organization)</th>\n",
       "      <th>Possibly over 1e23 FLOP</th>\n",
       "      <th>Training cost trends 2</th>\n",
       "      <th>Training cost trends 3</th>\n",
       "    </tr>\n",
       "  </thead>\n",
       "  <tbody>\n",
       "    <tr>\n",
       "      <th>0</th>\n",
       "      <td>NaN</td>\n",
       "      <td>NaN</td>\n",
       "      <td>NaN</td>\n",
       "      <td>NaN</td>\n",
       "      <td>NaN</td>\n",
       "      <td>NaN</td>\n",
       "      <td>NaN</td>\n",
       "      <td>NaN</td>\n",
       "      <td>NaN</td>\n",
       "      <td>NaN</td>\n",
       "      <td>...</td>\n",
       "      <td>NaN</td>\n",
       "      <td>NaN</td>\n",
       "      <td>NaN</td>\n",
       "      <td>NaN</td>\n",
       "      <td>NaN</td>\n",
       "      <td>NaN</td>\n",
       "      <td>NaN</td>\n",
       "      <td>NaN</td>\n",
       "      <td>NaN</td>\n",
       "      <td>NaN</td>\n",
       "    </tr>\n",
       "    <tr>\n",
       "      <th>1</th>\n",
       "      <td>Theseus</td>\n",
       "      <td>Robotics</td>\n",
       "      <td>Maze solving</td>\n",
       "      <td>1950-07-02</td>\n",
       "      <td>NaN</td>\n",
       "      <td>NaN</td>\n",
       "      <td>NaN</td>\n",
       "      <td>NaN</td>\n",
       "      <td>https://www.technologyreview.com/2018/12/19/13...</td>\n",
       "      <td>Bell Laboratories</td>\n",
       "      <td>...</td>\n",
       "      <td>NaN</td>\n",
       "      <td>Industry</td>\n",
       "      <td>NaN</td>\n",
       "      <td>NaN</td>\n",
       "      <td>NaN</td>\n",
       "      <td>NaN</td>\n",
       "      <td>Industry</td>\n",
       "      <td>NaN</td>\n",
       "      <td>NaN</td>\n",
       "      <td>NaN</td>\n",
       "    </tr>\n",
       "    <tr>\n",
       "      <th>2</th>\n",
       "      <td>SNARC</td>\n",
       "      <td>Robotics</td>\n",
       "      <td>Maze solving</td>\n",
       "      <td>1952-01-08</td>\n",
       "      <td>NaN</td>\n",
       "      <td>NaN</td>\n",
       "      <td>NaN</td>\n",
       "      <td>NaN</td>\n",
       "      <td>https://en.wikipedia.org/wiki/Stochastic_neura...</td>\n",
       "      <td>Harvard University</td>\n",
       "      <td>...</td>\n",
       "      <td>NaN</td>\n",
       "      <td>Academia</td>\n",
       "      <td>NaN</td>\n",
       "      <td>NaN</td>\n",
       "      <td>NaN</td>\n",
       "      <td>NaN</td>\n",
       "      <td>Academia</td>\n",
       "      <td>NaN</td>\n",
       "      <td>NaN</td>\n",
       "      <td>NaN</td>\n",
       "    </tr>\n",
       "    <tr>\n",
       "      <th>3</th>\n",
       "      <td>Genetic algorithm</td>\n",
       "      <td>Other</td>\n",
       "      <td>NaN</td>\n",
       "      <td>1954-07-02</td>\n",
       "      <td>NaN</td>\n",
       "      <td>NaN</td>\n",
       "      <td>NaN</td>\n",
       "      <td>NaN</td>\n",
       "      <td>https://link.springer.com/article/10.1007/BF01...</td>\n",
       "      <td>Institute for Advanced Study</td>\n",
       "      <td>...</td>\n",
       "      <td>NaN</td>\n",
       "      <td>Academia</td>\n",
       "      <td>NaN</td>\n",
       "      <td>NaN</td>\n",
       "      <td>NaN</td>\n",
       "      <td>NaN</td>\n",
       "      <td>Academia</td>\n",
       "      <td>NaN</td>\n",
       "      <td>NaN</td>\n",
       "      <td>NaN</td>\n",
       "    </tr>\n",
       "    <tr>\n",
       "      <th>4</th>\n",
       "      <td>Sequence-based pattern recognition</td>\n",
       "      <td>Vision</td>\n",
       "      <td>Character recognition</td>\n",
       "      <td>1955-03-01</td>\n",
       "      <td>NaN</td>\n",
       "      <td>NaN</td>\n",
       "      <td>NaN</td>\n",
       "      <td>NaN</td>\n",
       "      <td>https://dl.acm.org/doi/10.1145/1455292.1455310</td>\n",
       "      <td>Massachusetts Institute of Technology (MIT)</td>\n",
       "      <td>...</td>\n",
       "      <td>NaN</td>\n",
       "      <td>Academia</td>\n",
       "      <td>NaN</td>\n",
       "      <td>NaN</td>\n",
       "      <td>NaN</td>\n",
       "      <td>NaN</td>\n",
       "      <td>Academia</td>\n",
       "      <td>NaN</td>\n",
       "      <td>NaN</td>\n",
       "      <td>NaN</td>\n",
       "    </tr>\n",
       "    <tr>\n",
       "      <th>...</th>\n",
       "      <td>...</td>\n",
       "      <td>...</td>\n",
       "      <td>...</td>\n",
       "      <td>...</td>\n",
       "      <td>...</td>\n",
       "      <td>...</td>\n",
       "      <td>...</td>\n",
       "      <td>...</td>\n",
       "      <td>...</td>\n",
       "      <td>...</td>\n",
       "      <td>...</td>\n",
       "      <td>...</td>\n",
       "      <td>...</td>\n",
       "      <td>...</td>\n",
       "      <td>...</td>\n",
       "      <td>...</td>\n",
       "      <td>...</td>\n",
       "      <td>...</td>\n",
       "      <td>...</td>\n",
       "      <td>...</td>\n",
       "      <td>...</td>\n",
       "    </tr>\n",
       "    <tr>\n",
       "      <th>1543</th>\n",
       "      <td>Gemini 1.5 Flash</td>\n",
       "      <td>Multimodal,Language,Vision,Audio</td>\n",
       "      <td>Chat,Audio speech recognition,Image captioning...</td>\n",
       "      <td>2024-05-10</td>\n",
       "      <td>NaN</td>\n",
       "      <td>API access</td>\n",
       "      <td>NaN</td>\n",
       "      <td>NaN</td>\n",
       "      <td>https://storage.googleapis.com/deepmind-media/...</td>\n",
       "      <td>Google DeepMind</td>\n",
       "      <td>...</td>\n",
       "      <td>NaN</td>\n",
       "      <td>Industry</td>\n",
       "      <td>NaN</td>\n",
       "      <td>NaN</td>\n",
       "      <td>NaN</td>\n",
       "      <td>NaN</td>\n",
       "      <td>Industry</td>\n",
       "      <td>NaN</td>\n",
       "      <td>NaN</td>\n",
       "      <td>NaN</td>\n",
       "    </tr>\n",
       "    <tr>\n",
       "      <th>1544</th>\n",
       "      <td>Yi-Large</td>\n",
       "      <td>Language</td>\n",
       "      <td>Chat,Language modelling/generation</td>\n",
       "      <td>2024-05-13</td>\n",
       "      <td>NaN</td>\n",
       "      <td>API access</td>\n",
       "      <td>NaN</td>\n",
       "      <td>NaN</td>\n",
       "      <td>NaN</td>\n",
       "      <td>01.AI</td>\n",
       "      <td>...</td>\n",
       "      <td>NaN</td>\n",
       "      <td>Industry</td>\n",
       "      <td>NaN</td>\n",
       "      <td>NaN</td>\n",
       "      <td>NaN</td>\n",
       "      <td>NaN</td>\n",
       "      <td>Industry</td>\n",
       "      <td>checked</td>\n",
       "      <td>NaN</td>\n",
       "      <td>NaN</td>\n",
       "    </tr>\n",
       "    <tr>\n",
       "      <th>1545</th>\n",
       "      <td>GPT-4o</td>\n",
       "      <td>Multimodal,Language,Audio,Speech,Vision</td>\n",
       "      <td>Chat,Image generation,Audio generation,Vision-...</td>\n",
       "      <td>2024-05-13</td>\n",
       "      <td>NaN</td>\n",
       "      <td>API access</td>\n",
       "      <td>NaN</td>\n",
       "      <td>NaN</td>\n",
       "      <td>https://openai.com/index/hello-gpt-4o/</td>\n",
       "      <td>OpenAI</td>\n",
       "      <td>...</td>\n",
       "      <td>NaN</td>\n",
       "      <td>Industry</td>\n",
       "      <td>NaN</td>\n",
       "      <td>NaN</td>\n",
       "      <td>NaN</td>\n",
       "      <td>NaN</td>\n",
       "      <td>Industry</td>\n",
       "      <td>NaN</td>\n",
       "      <td>NaN</td>\n",
       "      <td>NaN</td>\n",
       "    </tr>\n",
       "    <tr>\n",
       "      <th>1546</th>\n",
       "      <td>Chameleon-34B</td>\n",
       "      <td>Multimodal,Image generation,Language,Vision</td>\n",
       "      <td>Language modelling/generation,Vision-language ...</td>\n",
       "      <td>2024-05-16</td>\n",
       "      <td>NaN</td>\n",
       "      <td>Unreleased</td>\n",
       "      <td>NaN</td>\n",
       "      <td>NaN</td>\n",
       "      <td>https://arxiv.org/abs/2405.09818v1</td>\n",
       "      <td>Facebook AI Research</td>\n",
       "      <td>...</td>\n",
       "      <td>NaN</td>\n",
       "      <td>Industry</td>\n",
       "      <td>NaN</td>\n",
       "      <td>NaN</td>\n",
       "      <td>NaN</td>\n",
       "      <td>NaN</td>\n",
       "      <td>Industry</td>\n",
       "      <td>NaN</td>\n",
       "      <td>NaN</td>\n",
       "      <td>NaN</td>\n",
       "    </tr>\n",
       "    <tr>\n",
       "      <th>1547</th>\n",
       "      <td>Chameleon-7B</td>\n",
       "      <td>Multimodal,Image generation,Vision,Language</td>\n",
       "      <td>Language modelling/generation,Vision-language ...</td>\n",
       "      <td>2024-05-16</td>\n",
       "      <td>NaN</td>\n",
       "      <td>Unreleased</td>\n",
       "      <td>NaN</td>\n",
       "      <td>NaN</td>\n",
       "      <td>https://arxiv.org/abs/2405.09818v1</td>\n",
       "      <td>Facebook AI Research</td>\n",
       "      <td>...</td>\n",
       "      <td>NaN</td>\n",
       "      <td>Industry</td>\n",
       "      <td>NaN</td>\n",
       "      <td>NaN</td>\n",
       "      <td>NaN</td>\n",
       "      <td>NaN</td>\n",
       "      <td>Industry</td>\n",
       "      <td>NaN</td>\n",
       "      <td>NaN</td>\n",
       "      <td>NaN</td>\n",
       "    </tr>\n",
       "  </tbody>\n",
       "</table>\n",
       "<p>1548 rows × 60 columns</p>\n",
       "</div>"
      ],
      "text/plain": [
       "                                  System  \\\n",
       "0                                    NaN   \n",
       "1                                Theseus   \n",
       "2                                  SNARC   \n",
       "3                      Genetic algorithm   \n",
       "4     Sequence-based pattern recognition   \n",
       "...                                  ...   \n",
       "1543                    Gemini 1.5 Flash   \n",
       "1544                            Yi-Large   \n",
       "1545                              GPT-4o   \n",
       "1546                       Chameleon-34B   \n",
       "1547                        Chameleon-7B   \n",
       "\n",
       "                                           Domain  \\\n",
       "0                                             NaN   \n",
       "1                                        Robotics   \n",
       "2                                        Robotics   \n",
       "3                                           Other   \n",
       "4                                          Vision   \n",
       "...                                           ...   \n",
       "1543             Multimodal,Language,Vision,Audio   \n",
       "1544                                     Language   \n",
       "1545      Multimodal,Language,Audio,Speech,Vision   \n",
       "1546  Multimodal,Image generation,Language,Vision   \n",
       "1547  Multimodal,Image generation,Vision,Language   \n",
       "\n",
       "                                                   Task Publication date  \\\n",
       "0                                                   NaN              NaN   \n",
       "1                                          Maze solving       1950-07-02   \n",
       "2                                          Maze solving       1952-01-08   \n",
       "3                                                   NaN       1954-07-02   \n",
       "4                                 Character recognition       1955-03-01   \n",
       "...                                                 ...              ...   \n",
       "1543  Chat,Audio speech recognition,Image captioning...       2024-05-10   \n",
       "1544                 Chat,Language modelling/generation       2024-05-13   \n",
       "1545  Chat,Image generation,Audio generation,Vision-...       2024-05-13   \n",
       "1546  Language modelling/generation,Vision-language ...       2024-05-16   \n",
       "1547  Language modelling/generation,Vision-language ...       2024-05-16   \n",
       "\n",
       "     Accessibility notes Model accessibility Dataset accessibility  \\\n",
       "0                    NaN                 NaN                   NaN   \n",
       "1                    NaN                 NaN                   NaN   \n",
       "2                    NaN                 NaN                   NaN   \n",
       "3                    NaN                 NaN                   NaN   \n",
       "4                    NaN                 NaN                   NaN   \n",
       "...                  ...                 ...                   ...   \n",
       "1543                 NaN          API access                   NaN   \n",
       "1544                 NaN          API access                   NaN   \n",
       "1545                 NaN          API access                   NaN   \n",
       "1546                 NaN          Unreleased                   NaN   \n",
       "1547                 NaN          Unreleased                   NaN   \n",
       "\n",
       "     Code accessibility                                               Link  \\\n",
       "0                   NaN                                                NaN   \n",
       "1                   NaN  https://www.technologyreview.com/2018/12/19/13...   \n",
       "2                   NaN  https://en.wikipedia.org/wiki/Stochastic_neura...   \n",
       "3                   NaN  https://link.springer.com/article/10.1007/BF01...   \n",
       "4                   NaN     https://dl.acm.org/doi/10.1145/1455292.1455310   \n",
       "...                 ...                                                ...   \n",
       "1543                NaN  https://storage.googleapis.com/deepmind-media/...   \n",
       "1544                NaN                                                NaN   \n",
       "1545                NaN            https://openai.com/index/hello-gpt-4o/    \n",
       "1546                NaN                 https://arxiv.org/abs/2405.09818v1   \n",
       "1547                NaN                 https://arxiv.org/abs/2405.09818v1   \n",
       "\n",
       "                                     Organization  ...  Archived links  \\\n",
       "0                                             NaN  ...             NaN   \n",
       "1                               Bell Laboratories  ...             NaN   \n",
       "2                              Harvard University  ...             NaN   \n",
       "3                    Institute for Advanced Study  ...             NaN   \n",
       "4     Massachusetts Institute of Technology (MIT)  ...             NaN   \n",
       "...                                           ...  ...             ...   \n",
       "1543                              Google DeepMind  ...             NaN   \n",
       "1544                                        01.AI  ...             NaN   \n",
       "1545                                       OpenAI  ...             NaN   \n",
       "1546                         Facebook AI Research  ...             NaN   \n",
       "1547                         Facebook AI Research  ...             NaN   \n",
       "\n",
       "     Organization categorization Foundation model  \\\n",
       "0                            NaN              NaN   \n",
       "1                       Industry              NaN   \n",
       "2                       Academia              NaN   \n",
       "3                       Academia              NaN   \n",
       "4                       Academia              NaN   \n",
       "...                          ...              ...   \n",
       "1543                    Industry              NaN   \n",
       "1544                    Industry              NaN   \n",
       "1545                    Industry              NaN   \n",
       "1546                    Industry              NaN   \n",
       "1547                    Industry              NaN   \n",
       "\n",
       "     Training compute lower bound Training compute upper bound  \\\n",
       "0                             NaN                          NaN   \n",
       "1                             NaN                          NaN   \n",
       "2                             NaN                          NaN   \n",
       "3                             NaN                          NaN   \n",
       "4                             NaN                          NaN   \n",
       "...                           ...                          ...   \n",
       "1543                          NaN                          NaN   \n",
       "1544                          NaN                          NaN   \n",
       "1545                          NaN                          NaN   \n",
       "1546                          NaN                          NaN   \n",
       "1547                          NaN                          NaN   \n",
       "\n",
       "     Training chip-hours Organization categorization (from Organization)  \\\n",
       "0                    NaN                                             NaN   \n",
       "1                    NaN                                        Industry   \n",
       "2                    NaN                                        Academia   \n",
       "3                    NaN                                        Academia   \n",
       "4                    NaN                                        Academia   \n",
       "...                  ...                                             ...   \n",
       "1543                 NaN                                        Industry   \n",
       "1544                 NaN                                        Industry   \n",
       "1545                 NaN                                        Industry   \n",
       "1546                 NaN                                        Industry   \n",
       "1547                 NaN                                        Industry   \n",
       "\n",
       "     Possibly over 1e23 FLOP Training cost trends 2  Training cost trends 3  \n",
       "0                        NaN                    NaN                     NaN  \n",
       "1                        NaN                    NaN                     NaN  \n",
       "2                        NaN                    NaN                     NaN  \n",
       "3                        NaN                    NaN                     NaN  \n",
       "4                        NaN                    NaN                     NaN  \n",
       "...                      ...                    ...                     ...  \n",
       "1543                     NaN                    NaN                     NaN  \n",
       "1544                 checked                    NaN                     NaN  \n",
       "1545                     NaN                    NaN                     NaN  \n",
       "1546                     NaN                    NaN                     NaN  \n",
       "1547                     NaN                    NaN                     NaN  \n",
       "\n",
       "[1548 rows x 60 columns]"
      ]
     },
     "execution_count": 62,
     "metadata": {},
     "output_type": "execute_result"
    }
   ],
   "source": [
    "pcd_df"
   ]
  },
  {
   "cell_type": "code",
   "execution_count": 63,
   "metadata": {},
   "outputs": [
    {
     "data": {
      "text/plain": [
       "648    Unreleased\n",
       "Name: Model accessibility, dtype: object"
      ]
     },
     "execution_count": 63,
     "metadata": {},
     "output_type": "execute_result"
    }
   ],
   "source": [
    "pcd_df.loc[pcd_df['System'] == 'Megatron-BERT']['Model accessibility']"
   ]
  },
  {
   "cell_type": "code",
   "execution_count": 64,
   "metadata": {},
   "outputs": [
    {
     "data": {
      "text/plain": [
       "504"
      ]
     },
     "execution_count": 64,
     "metadata": {},
     "output_type": "execute_result"
    }
   ],
   "source": [
    "access_df = pcd_df.dropna(subset=['Publication date', 'Training compute (FLOP)', 'Model accessibility'])\n",
    "len(access_df)"
   ]
  },
  {
   "cell_type": "code",
   "execution_count": 65,
   "metadata": {},
   "outputs": [
    {
     "data": {
      "text/plain": [
       "array(['Unreleased', 'Hosted access (no API)',\n",
       "       'Open access (non-commercial)', 'Open source', 'API access',\n",
       "       'Open access (restricted use)'], dtype=object)"
      ]
     },
     "execution_count": 65,
     "metadata": {},
     "output_type": "execute_result"
    }
   ],
   "source": [
    "access_df['Model accessibility'].unique()"
   ]
  },
  {
   "cell_type": "code",
   "execution_count": 66,
   "metadata": {},
   "outputs": [
    {
     "name": "stdout",
     "output_type": "stream",
     "text": [
      "Unreleased 186\n",
      "Hosted access (no API) 10\n",
      "Open access (non-commercial) 41\n",
      "Open source 197\n",
      "API access 26\n",
      "Open access (restricted use) 44\n"
     ]
    }
   ],
   "source": [
    "for cat in access_df['Model accessibility'].unique():\n",
    "    print(cat, len(access_df.loc[access_df['Model accessibility'] == cat]))"
   ]
  },
  {
   "cell_type": "code",
   "execution_count": 67,
   "metadata": {},
   "outputs": [],
   "source": [
    "open_access_categories = ['Open source', 'Open access (restricted use)', 'Open access (non-commercial)']\n",
    "closed_access_categories = ['API access', 'Hosted access (no API)', 'Unreleased']"
   ]
  },
  {
   "cell_type": "code",
   "execution_count": 68,
   "metadata": {},
   "outputs": [
    {
     "data": {
      "text/plain": [
       "282"
      ]
     },
     "execution_count": 68,
     "metadata": {},
     "output_type": "execute_result"
    }
   ],
   "source": [
    "open_access_df = access_df.loc[access_df['Model accessibility'].isin(open_access_categories)]\n",
    "len(open_access_df)"
   ]
  },
  {
   "cell_type": "code",
   "execution_count": 69,
   "metadata": {},
   "outputs": [
    {
     "data": {
      "text/plain": [
       "222"
      ]
     },
     "execution_count": 69,
     "metadata": {},
     "output_type": "execute_result"
    }
   ],
   "source": [
    "closed_access_df = access_df.loc[access_df['Model accessibility'].isin(closed_access_categories)]\n",
    "len(closed_access_df)"
   ]
  },
  {
   "cell_type": "code",
   "execution_count": 70,
   "metadata": {},
   "outputs": [
    {
     "name": "stderr",
     "output_type": "stream",
     "text": [
      "/var/folders/06/5htx0qw164j099bw2q7jk4gm0000gn/T/ipykernel_20101/148813227.py:2: SettingWithCopyWarning:\n",
      "\n",
      "\n",
      "A value is trying to be set on a copy of a slice from a DataFrame.\n",
      "Try using .loc[row_indexer,col_indexer] = value instead\n",
      "\n",
      "See the caveats in the documentation: https://pandas.pydata.org/pandas-docs/stable/user_guide/indexing.html#returning-a-view-versus-a-copy\n",
      "\n"
     ]
    }
   ],
   "source": [
    "# Add column with binary access label\n",
    "access_df['Model open/closed'] = access_df['Model accessibility'].apply(\n",
    "    lambda x: 'Open' if x in open_access_categories else 'Closed'\n",
    ")"
   ]
  },
  {
   "cell_type": "code",
   "execution_count": 71,
   "metadata": {},
   "outputs": [
    {
     "data": {
      "text/html": [
       "<div>\n",
       "<style scoped>\n",
       "    .dataframe tbody tr th:only-of-type {\n",
       "        vertical-align: middle;\n",
       "    }\n",
       "\n",
       "    .dataframe tbody tr th {\n",
       "        vertical-align: top;\n",
       "    }\n",
       "\n",
       "    .dataframe thead th {\n",
       "        text-align: right;\n",
       "    }\n",
       "</style>\n",
       "<table border=\"1\" class=\"dataframe\">\n",
       "  <thead>\n",
       "    <tr style=\"text-align: right;\">\n",
       "      <th></th>\n",
       "      <th>System</th>\n",
       "      <th>Domain</th>\n",
       "      <th>Task</th>\n",
       "      <th>Publication date</th>\n",
       "      <th>Accessibility notes</th>\n",
       "      <th>Model accessibility</th>\n",
       "      <th>Dataset accessibility</th>\n",
       "      <th>Code accessibility</th>\n",
       "      <th>Link</th>\n",
       "      <th>Organization</th>\n",
       "      <th>...</th>\n",
       "      <th>Organization categorization</th>\n",
       "      <th>Foundation model</th>\n",
       "      <th>Training compute lower bound</th>\n",
       "      <th>Training compute upper bound</th>\n",
       "      <th>Training chip-hours</th>\n",
       "      <th>Organization categorization (from Organization)</th>\n",
       "      <th>Possibly over 1e23 FLOP</th>\n",
       "      <th>Training cost trends 2</th>\n",
       "      <th>Training cost trends 3</th>\n",
       "      <th>Model open/closed</th>\n",
       "    </tr>\n",
       "  </thead>\n",
       "  <tbody>\n",
       "    <tr>\n",
       "      <th>97</th>\n",
       "      <td>Credibilty Network</td>\n",
       "      <td>Vision</td>\n",
       "      <td>Character recognition,Image classification</td>\n",
       "      <td>1999-07-01</td>\n",
       "      <td>NaN</td>\n",
       "      <td>Unreleased</td>\n",
       "      <td>NaN</td>\n",
       "      <td>Unreleased</td>\n",
       "      <td>https://proceedings.neurips.cc/paper_files/pap...</td>\n",
       "      <td>University College London (UCL),University of ...</td>\n",
       "      <td>...</td>\n",
       "      <td>Academia,Academia</td>\n",
       "      <td>NaN</td>\n",
       "      <td>NaN</td>\n",
       "      <td>NaN</td>\n",
       "      <td>NaN</td>\n",
       "      <td>Academia,Academia</td>\n",
       "      <td>NaN</td>\n",
       "      <td>NaN</td>\n",
       "      <td>NaN</td>\n",
       "      <td>Closed</td>\n",
       "    </tr>\n",
       "    <tr>\n",
       "      <th>209</th>\n",
       "      <td>LBL</td>\n",
       "      <td>Language</td>\n",
       "      <td>NaN</td>\n",
       "      <td>2012-06-27</td>\n",
       "      <td>NaN</td>\n",
       "      <td>Unreleased</td>\n",
       "      <td>NaN</td>\n",
       "      <td>Unreleased</td>\n",
       "      <td>https://arxiv.org/abs/1206.6426</td>\n",
       "      <td>University College London (UCL)</td>\n",
       "      <td>...</td>\n",
       "      <td>Academia</td>\n",
       "      <td>NaN</td>\n",
       "      <td>NaN</td>\n",
       "      <td>NaN</td>\n",
       "      <td>NaN</td>\n",
       "      <td>Academia</td>\n",
       "      <td>NaN</td>\n",
       "      <td>NaN</td>\n",
       "      <td>NaN</td>\n",
       "      <td>Closed</td>\n",
       "    </tr>\n",
       "    <tr>\n",
       "      <th>232</th>\n",
       "      <td>RNN+weight noise+dynamic eval</td>\n",
       "      <td>Language</td>\n",
       "      <td>NaN</td>\n",
       "      <td>2013-08-04</td>\n",
       "      <td>NaN</td>\n",
       "      <td>Unreleased</td>\n",
       "      <td>NaN</td>\n",
       "      <td>Unreleased</td>\n",
       "      <td>https://arxiv.org/abs/1308.0850</td>\n",
       "      <td>University of Toronto</td>\n",
       "      <td>...</td>\n",
       "      <td>Academia</td>\n",
       "      <td>NaN</td>\n",
       "      <td>NaN</td>\n",
       "      <td>NaN</td>\n",
       "      <td>NaN</td>\n",
       "      <td>Academia</td>\n",
       "      <td>NaN</td>\n",
       "      <td>NaN</td>\n",
       "      <td>NaN</td>\n",
       "      <td>Closed</td>\n",
       "    </tr>\n",
       "    <tr>\n",
       "      <th>252</th>\n",
       "      <td>SPN-4+KN5</td>\n",
       "      <td>Language</td>\n",
       "      <td>NaN</td>\n",
       "      <td>2014-01-01</td>\n",
       "      <td>code, no license specified: https://github.com...</td>\n",
       "      <td>Unreleased</td>\n",
       "      <td>NaN</td>\n",
       "      <td>Open access (non-commercial)</td>\n",
       "      <td>https://spn.cs.washington.edu/papers/is14.pdf</td>\n",
       "      <td>Singapore University of Technology &amp; Design,DS...</td>\n",
       "      <td>...</td>\n",
       "      <td>Academia,Government</td>\n",
       "      <td>NaN</td>\n",
       "      <td>NaN</td>\n",
       "      <td>NaN</td>\n",
       "      <td>NaN</td>\n",
       "      <td>Academia,Government</td>\n",
       "      <td>NaN</td>\n",
       "      <td>NaN</td>\n",
       "      <td>NaN</td>\n",
       "      <td>Closed</td>\n",
       "    </tr>\n",
       "    <tr>\n",
       "      <th>272</th>\n",
       "      <td>Large regularized LSTM</td>\n",
       "      <td>Language</td>\n",
       "      <td>NaN</td>\n",
       "      <td>2014-09-08</td>\n",
       "      <td>Apache: https://github.com/wojzaremba/lstm</td>\n",
       "      <td>Unreleased</td>\n",
       "      <td>NaN</td>\n",
       "      <td>Open source</td>\n",
       "      <td>https://arxiv.org/abs/1409.2329</td>\n",
       "      <td>New York University (NYU),Google Brain</td>\n",
       "      <td>...</td>\n",
       "      <td>Academia,Industry</td>\n",
       "      <td>NaN</td>\n",
       "      <td>NaN</td>\n",
       "      <td>NaN</td>\n",
       "      <td>NaN</td>\n",
       "      <td>Academia,Industry</td>\n",
       "      <td>NaN</td>\n",
       "      <td>NaN</td>\n",
       "      <td>NaN</td>\n",
       "      <td>Closed</td>\n",
       "    </tr>\n",
       "    <tr>\n",
       "      <th>...</th>\n",
       "      <td>...</td>\n",
       "      <td>...</td>\n",
       "      <td>...</td>\n",
       "      <td>...</td>\n",
       "      <td>...</td>\n",
       "      <td>...</td>\n",
       "      <td>...</td>\n",
       "      <td>...</td>\n",
       "      <td>...</td>\n",
       "      <td>...</td>\n",
       "      <td>...</td>\n",
       "      <td>...</td>\n",
       "      <td>...</td>\n",
       "      <td>...</td>\n",
       "      <td>...</td>\n",
       "      <td>...</td>\n",
       "      <td>...</td>\n",
       "      <td>...</td>\n",
       "      <td>...</td>\n",
       "      <td>...</td>\n",
       "      <td>...</td>\n",
       "    </tr>\n",
       "    <tr>\n",
       "      <th>1539</th>\n",
       "      <td>phi-3-medium 14B</td>\n",
       "      <td>Language</td>\n",
       "      <td>Chat,Language modelling/generation</td>\n",
       "      <td>2024-04-23</td>\n",
       "      <td>announced to be released later</td>\n",
       "      <td>Unreleased</td>\n",
       "      <td>NaN</td>\n",
       "      <td>NaN</td>\n",
       "      <td>https://arxiv.org/abs/2404.14219</td>\n",
       "      <td>Microsoft</td>\n",
       "      <td>...</td>\n",
       "      <td>Industry</td>\n",
       "      <td>NaN</td>\n",
       "      <td>NaN</td>\n",
       "      <td>NaN</td>\n",
       "      <td>NaN</td>\n",
       "      <td>Industry</td>\n",
       "      <td>checked</td>\n",
       "      <td>NaN</td>\n",
       "      <td>NaN</td>\n",
       "      <td>Closed</td>\n",
       "    </tr>\n",
       "    <tr>\n",
       "      <th>1542</th>\n",
       "      <td>Fugaku-LLM</td>\n",
       "      <td>Language</td>\n",
       "      <td>Language modelling,Translation,Japanese langua...</td>\n",
       "      <td>2024-05-10</td>\n",
       "      <td>NaN</td>\n",
       "      <td>Open source</td>\n",
       "      <td>NaN</td>\n",
       "      <td>NaN</td>\n",
       "      <td>https://www.fujitsu.com/global/about/resources...</td>\n",
       "      <td>Tohoku University,CyberAgent,Tokyo Institute o...</td>\n",
       "      <td>...</td>\n",
       "      <td>Academia,Industry,Academia,Industry,Academia,I...</td>\n",
       "      <td>NaN</td>\n",
       "      <td>NaN</td>\n",
       "      <td>NaN</td>\n",
       "      <td>NaN</td>\n",
       "      <td>Academia,Industry,Academia,Industry,Academia,I...</td>\n",
       "      <td>NaN</td>\n",
       "      <td>NaN</td>\n",
       "      <td>NaN</td>\n",
       "      <td>Open</td>\n",
       "    </tr>\n",
       "    <tr>\n",
       "      <th>1544</th>\n",
       "      <td>Yi-Large</td>\n",
       "      <td>Language</td>\n",
       "      <td>Chat,Language modelling/generation</td>\n",
       "      <td>2024-05-13</td>\n",
       "      <td>NaN</td>\n",
       "      <td>API access</td>\n",
       "      <td>NaN</td>\n",
       "      <td>NaN</td>\n",
       "      <td>NaN</td>\n",
       "      <td>01.AI</td>\n",
       "      <td>...</td>\n",
       "      <td>Industry</td>\n",
       "      <td>NaN</td>\n",
       "      <td>NaN</td>\n",
       "      <td>NaN</td>\n",
       "      <td>NaN</td>\n",
       "      <td>Industry</td>\n",
       "      <td>checked</td>\n",
       "      <td>NaN</td>\n",
       "      <td>NaN</td>\n",
       "      <td>Closed</td>\n",
       "    </tr>\n",
       "    <tr>\n",
       "      <th>1546</th>\n",
       "      <td>Chameleon-34B</td>\n",
       "      <td>Multimodal,Image generation,Language,Vision</td>\n",
       "      <td>Language modelling/generation,Vision-language ...</td>\n",
       "      <td>2024-05-16</td>\n",
       "      <td>NaN</td>\n",
       "      <td>Unreleased</td>\n",
       "      <td>NaN</td>\n",
       "      <td>NaN</td>\n",
       "      <td>https://arxiv.org/abs/2405.09818v1</td>\n",
       "      <td>Facebook AI Research</td>\n",
       "      <td>...</td>\n",
       "      <td>Industry</td>\n",
       "      <td>NaN</td>\n",
       "      <td>NaN</td>\n",
       "      <td>NaN</td>\n",
       "      <td>NaN</td>\n",
       "      <td>Industry</td>\n",
       "      <td>NaN</td>\n",
       "      <td>NaN</td>\n",
       "      <td>NaN</td>\n",
       "      <td>Closed</td>\n",
       "    </tr>\n",
       "    <tr>\n",
       "      <th>1547</th>\n",
       "      <td>Chameleon-7B</td>\n",
       "      <td>Multimodal,Image generation,Vision,Language</td>\n",
       "      <td>Language modelling/generation,Vision-language ...</td>\n",
       "      <td>2024-05-16</td>\n",
       "      <td>NaN</td>\n",
       "      <td>Unreleased</td>\n",
       "      <td>NaN</td>\n",
       "      <td>NaN</td>\n",
       "      <td>https://arxiv.org/abs/2405.09818v1</td>\n",
       "      <td>Facebook AI Research</td>\n",
       "      <td>...</td>\n",
       "      <td>Industry</td>\n",
       "      <td>NaN</td>\n",
       "      <td>NaN</td>\n",
       "      <td>NaN</td>\n",
       "      <td>NaN</td>\n",
       "      <td>Industry</td>\n",
       "      <td>NaN</td>\n",
       "      <td>NaN</td>\n",
       "      <td>NaN</td>\n",
       "      <td>Closed</td>\n",
       "    </tr>\n",
       "  </tbody>\n",
       "</table>\n",
       "<p>504 rows × 61 columns</p>\n",
       "</div>"
      ],
      "text/plain": [
       "                             System  \\\n",
       "97               Credibilty Network   \n",
       "209                             LBL   \n",
       "232   RNN+weight noise+dynamic eval   \n",
       "252                       SPN-4+KN5   \n",
       "272          Large regularized LSTM   \n",
       "...                             ...   \n",
       "1539               phi-3-medium 14B   \n",
       "1542                     Fugaku-LLM   \n",
       "1544                       Yi-Large   \n",
       "1546                  Chameleon-34B   \n",
       "1547                   Chameleon-7B   \n",
       "\n",
       "                                           Domain  \\\n",
       "97                                         Vision   \n",
       "209                                      Language   \n",
       "232                                      Language   \n",
       "252                                      Language   \n",
       "272                                      Language   \n",
       "...                                           ...   \n",
       "1539                                     Language   \n",
       "1542                                     Language   \n",
       "1544                                     Language   \n",
       "1546  Multimodal,Image generation,Language,Vision   \n",
       "1547  Multimodal,Image generation,Vision,Language   \n",
       "\n",
       "                                                   Task Publication date  \\\n",
       "97           Character recognition,Image classification       1999-07-01   \n",
       "209                                                 NaN       2012-06-27   \n",
       "232                                                 NaN       2013-08-04   \n",
       "252                                                 NaN       2014-01-01   \n",
       "272                                                 NaN       2014-09-08   \n",
       "...                                                 ...              ...   \n",
       "1539                 Chat,Language modelling/generation       2024-04-23   \n",
       "1542  Language modelling,Translation,Japanese langua...       2024-05-10   \n",
       "1544                 Chat,Language modelling/generation       2024-05-13   \n",
       "1546  Language modelling/generation,Vision-language ...       2024-05-16   \n",
       "1547  Language modelling/generation,Vision-language ...       2024-05-16   \n",
       "\n",
       "                                    Accessibility notes Model accessibility  \\\n",
       "97                                                  NaN          Unreleased   \n",
       "209                                                 NaN          Unreleased   \n",
       "232                                                 NaN          Unreleased   \n",
       "252   code, no license specified: https://github.com...          Unreleased   \n",
       "272         Apache: https://github.com/wojzaremba/lstm           Unreleased   \n",
       "...                                                 ...                 ...   \n",
       "1539                     announced to be released later          Unreleased   \n",
       "1542                                                NaN         Open source   \n",
       "1544                                                NaN          API access   \n",
       "1546                                                NaN          Unreleased   \n",
       "1547                                                NaN          Unreleased   \n",
       "\n",
       "     Dataset accessibility            Code accessibility  \\\n",
       "97                     NaN                    Unreleased   \n",
       "209                    NaN                    Unreleased   \n",
       "232                    NaN                    Unreleased   \n",
       "252                    NaN  Open access (non-commercial)   \n",
       "272                    NaN                   Open source   \n",
       "...                    ...                           ...   \n",
       "1539                   NaN                           NaN   \n",
       "1542                   NaN                           NaN   \n",
       "1544                   NaN                           NaN   \n",
       "1546                   NaN                           NaN   \n",
       "1547                   NaN                           NaN   \n",
       "\n",
       "                                                   Link  \\\n",
       "97    https://proceedings.neurips.cc/paper_files/pap...   \n",
       "209                     https://arxiv.org/abs/1206.6426   \n",
       "232                     https://arxiv.org/abs/1308.0850   \n",
       "252       https://spn.cs.washington.edu/papers/is14.pdf   \n",
       "272                     https://arxiv.org/abs/1409.2329   \n",
       "...                                                 ...   \n",
       "1539                   https://arxiv.org/abs/2404.14219   \n",
       "1542  https://www.fujitsu.com/global/about/resources...   \n",
       "1544                                                NaN   \n",
       "1546                 https://arxiv.org/abs/2405.09818v1   \n",
       "1547                 https://arxiv.org/abs/2405.09818v1   \n",
       "\n",
       "                                           Organization  ...  \\\n",
       "97    University College London (UCL),University of ...  ...   \n",
       "209                     University College London (UCL)  ...   \n",
       "232                               University of Toronto  ...   \n",
       "252   Singapore University of Technology & Design,DS...  ...   \n",
       "272              New York University (NYU),Google Brain  ...   \n",
       "...                                                 ...  ...   \n",
       "1539                                          Microsoft  ...   \n",
       "1542  Tohoku University,CyberAgent,Tokyo Institute o...  ...   \n",
       "1544                                              01.AI  ...   \n",
       "1546                               Facebook AI Research  ...   \n",
       "1547                               Facebook AI Research  ...   \n",
       "\n",
       "                            Organization categorization Foundation model  \\\n",
       "97                                    Academia,Academia              NaN   \n",
       "209                                            Academia              NaN   \n",
       "232                                            Academia              NaN   \n",
       "252                                 Academia,Government              NaN   \n",
       "272                                   Academia,Industry              NaN   \n",
       "...                                                 ...              ...   \n",
       "1539                                           Industry              NaN   \n",
       "1542  Academia,Industry,Academia,Industry,Academia,I...              NaN   \n",
       "1544                                           Industry              NaN   \n",
       "1546                                           Industry              NaN   \n",
       "1547                                           Industry              NaN   \n",
       "\n",
       "     Training compute lower bound Training compute upper bound  \\\n",
       "97                            NaN                          NaN   \n",
       "209                           NaN                          NaN   \n",
       "232                           NaN                          NaN   \n",
       "252                           NaN                          NaN   \n",
       "272                           NaN                          NaN   \n",
       "...                           ...                          ...   \n",
       "1539                          NaN                          NaN   \n",
       "1542                          NaN                          NaN   \n",
       "1544                          NaN                          NaN   \n",
       "1546                          NaN                          NaN   \n",
       "1547                          NaN                          NaN   \n",
       "\n",
       "     Training chip-hours    Organization categorization (from Organization)  \\\n",
       "97                   NaN                                  Academia,Academia   \n",
       "209                  NaN                                           Academia   \n",
       "232                  NaN                                           Academia   \n",
       "252                  NaN                                Academia,Government   \n",
       "272                  NaN                                  Academia,Industry   \n",
       "...                  ...                                                ...   \n",
       "1539                 NaN                                           Industry   \n",
       "1542                 NaN  Academia,Industry,Academia,Industry,Academia,I...   \n",
       "1544                 NaN                                           Industry   \n",
       "1546                 NaN                                           Industry   \n",
       "1547                 NaN                                           Industry   \n",
       "\n",
       "     Possibly over 1e23 FLOP Training cost trends 2 Training cost trends 3  \\\n",
       "97                       NaN                    NaN                    NaN   \n",
       "209                      NaN                    NaN                    NaN   \n",
       "232                      NaN                    NaN                    NaN   \n",
       "252                      NaN                    NaN                    NaN   \n",
       "272                      NaN                    NaN                    NaN   \n",
       "...                      ...                    ...                    ...   \n",
       "1539                 checked                    NaN                    NaN   \n",
       "1542                     NaN                    NaN                    NaN   \n",
       "1544                 checked                    NaN                    NaN   \n",
       "1546                     NaN                    NaN                    NaN   \n",
       "1547                     NaN                    NaN                    NaN   \n",
       "\n",
       "      Model open/closed  \n",
       "97               Closed  \n",
       "209              Closed  \n",
       "232              Closed  \n",
       "252              Closed  \n",
       "272              Closed  \n",
       "...                 ...  \n",
       "1539             Closed  \n",
       "1542               Open  \n",
       "1544             Closed  \n",
       "1546             Closed  \n",
       "1547             Closed  \n",
       "\n",
       "[504 rows x 61 columns]"
      ]
     },
     "execution_count": 71,
     "metadata": {},
     "output_type": "execute_result"
    }
   ],
   "source": [
    "access_df"
   ]
  },
  {
   "cell_type": "markdown",
   "metadata": {},
   "source": [
    "## Compute percentile filtering (skipped for now in regression/viz code)"
   ]
  },
  {
   "cell_type": "code",
   "execution_count": 72,
   "metadata": {},
   "outputs": [],
   "source": [
    "outlier_window_size = 2  # years\n",
    "start_large_scale_era = '2015-09-01'"
   ]
  },
  {
   "cell_type": "code",
   "execution_count": 73,
   "metadata": {},
   "outputs": [],
   "source": [
    "pcd_df['Publication date'] = pd.to_datetime(pcd_df['Publication date'])\n",
    "pcd_df.sort_values('Publication date', inplace=True)\n",
    "pcd_df.dropna(subset=['Publication date', 'Notability criteria', 'Training compute (FLOP)'], inplace=True)"
   ]
  },
  {
   "cell_type": "code",
   "execution_count": 74,
   "metadata": {},
   "outputs": [
    {
     "name": "stdout",
     "output_type": "stream",
     "text": [
      "95\n",
      "90\n",
      "85\n",
      "80\n",
      "75\n",
      "70\n",
      "65\n",
      "60\n",
      "55\n",
      "50\n",
      "45\n",
      "40\n",
      "35\n",
      "30\n",
      "25\n",
      "20\n",
      "15\n",
      "10\n",
      "5\n",
      "0\n"
     ]
    }
   ],
   "source": [
    "systems_by_percentile = {}\n",
    "percentile_interval = 5\n",
    "for percentile in range(95, -5, -percentile_interval):\n",
    "  print(percentile)\n",
    "  percentile_compute_low = np.zeros(len(pcd_df))\n",
    "  percentile_compute_high = np.zeros(len(pcd_df))\n",
    "  # Iterate through each row and calculate the 2-year moving average for each date\n",
    "  for i, (index, row) in enumerate(pcd_df.iterrows()):\n",
    "    # Define the 2-year window\n",
    "    start_date = row['Publication date'] - pd.DateOffset(years=outlier_window_size/2)\n",
    "    end_date = row['Publication date'] + pd.DateOffset(years=outlier_window_size/2)\n",
    "\n",
    "    # Filter the DataFrame for this window\n",
    "    window_df = pcd_df[(pcd_df['Publication date'] >= start_date) & (pcd_df['Publication date'] <= end_date)]\n",
    "\n",
    "    percentile_compute_low[i] = np.percentile(window_df['Training compute (FLOP)'], percentile)\n",
    "    percentile_compute_high[i] = np.percentile(window_df['Training compute (FLOP)'], percentile + percentile_interval)\n",
    "\n",
    "  systems_flag = pcd_df['Training compute (FLOP)'] > np.array(percentile_compute_low)\n",
    "  extra_systems_flag = pcd_df['Training compute (FLOP)'] <= np.array(percentile_compute_high)\n",
    "\n",
    "  # raise Exception(\"Edit the following line if you want to consider models released after 2023-12-31.\")\n",
    "  extra_systems = pcd_df['System'][systems_flag & extra_systems_flag & (pcd_df['Publication date'] > pd.to_datetime('2015-09-30'))].values\n",
    "\n",
    "  systems_by_percentile[percentile] = list(extra_systems)"
   ]
  },
  {
   "cell_type": "code",
   "execution_count": 75,
   "metadata": {},
   "outputs": [
    {
     "data": {
      "text/plain": [
       "{95: ['GNMT',\n",
       "  'AlphaGo Master',\n",
       "  'AlphaGo Zero',\n",
       "  'AlphaZero',\n",
       "  'ResNeXt-101 32x48d',\n",
       "  'Megatron-BERT',\n",
       "  'OpenAI Five',\n",
       "  'Meena',\n",
       "  'GPT-3 175B (davinci)',\n",
       "  'Megatron-Turing NLG 530B',\n",
       "  'PaLM (540B)',\n",
       "  'Minerva (540B)',\n",
       "  'GPT-4',\n",
       "  'PaLM 2',\n",
       "  'Inflection-2',\n",
       "  'Gemini 1.0 Ultra',\n",
       "  'MegaScale (Production)'],\n",
       " 90: ['NASv3 (CIFAR-10)',\n",
       "  'FTW',\n",
       "  'T5-11B',\n",
       "  'AlphaStar',\n",
       "  'mT5-XXL',\n",
       "  'Switch',\n",
       "  'Gopher (280B)',\n",
       "  'ERNIE 3.0 Titan',\n",
       "  'Chinchilla',\n",
       "  'U-PaLM (540B)',\n",
       "  'Flan-PaLM 540B',\n",
       "  'GPT-3.5 (text-davinci-003)',\n",
       "  'Claude 2',\n",
       "  'Falcon-180B',\n",
       "  'Inflection-2.5'],\n",
       " 85: ['AlphaGo Fan',\n",
       "  'AlphaGo Lee',\n",
       "  'JFT',\n",
       "  'AmoebaNet-A (F=448)',\n",
       "  'XLNet',\n",
       "  'Megatron-LM (8.3B)',\n",
       "  'OpenAI Five Rerun',\n",
       "  'Turing-NLG',\n",
       "  'Yuan 1.0',\n",
       "  'GLaM',\n",
       "  'LaMDA',\n",
       "  'OPT-175B',\n",
       "  'Parti',\n",
       "  'BLOOM-176B',\n",
       "  'Grok-1',\n",
       "  'Llama 3-70B'],\n",
       " 80: ['OpenAI TI7 DOTA 1v1',\n",
       "  'IMPALA',\n",
       "  'BigGAN-deep 512x512',\n",
       "  'GPT-2 (1.5B)',\n",
       "  'iGPT-XL',\n",
       "  'DALL-E',\n",
       "  'Meta Pseudo Labels',\n",
       "  'ProtT5-XXL',\n",
       "  'ByT5-XXL',\n",
       "  'GOAT',\n",
       "  'HyperCLOVA 82B',\n",
       "  'AlphaCode',\n",
       "  'ST-MoE',\n",
       "  'Flamingo',\n",
       "  'GLM-130B',\n",
       "  'BlenderBot 3',\n",
       "  'LLaMA-65B',\n",
       "  'xTrimoPGLM -100B',\n",
       "  'Llama 2-70B',\n",
       "  'ChatGLM3',\n",
       "  'Qwen-72B'],\n",
       " 75: ['Xception',\n",
       "  'Libratus',\n",
       "  'BERT-Large',\n",
       "  'RoBERTa Large',\n",
       "  'ContextNet + Noisy Student',\n",
       "  'GShard (dense)',\n",
       "  'GPT-NeoX-20B',\n",
       "  'UL2',\n",
       "  'Galactica',\n",
       "  'ViT-22B',\n",
       "  'PanGu-Σ',\n",
       "  'Yi-34B',\n",
       "  'MegaScale (530B)'],\n",
       " 70: ['DeepSpeech2 (English)',\n",
       "  'PolyNet',\n",
       "  'MoE',\n",
       "  'Big Transformer for Back-Translation',\n",
       "  'Mesh-TensorFlow Transformer 4.9B (language modelling)',\n",
       "  'MnasNet-A1 + SSDLite',\n",
       "  'MnasNet-A3',\n",
       "  'ALBERT-xxlarge',\n",
       "  'ELECTRA',\n",
       "  'iGPT-L',\n",
       "  'PLUG',\n",
       "  'ProtT5-XXL-BFD',\n",
       "  'ProtBERT-BFD',\n",
       "  'CoAtNet',\n",
       "  'FLAN 137B',\n",
       "  'Florence',\n",
       "  'AlexaTM 20B',\n",
       "  'Llama 2-34B'],\n",
       " 65: ['ResNet-152 (ImageNet)',\n",
       "  'ConvS2S (ensemble of 8 models)',\n",
       "  'PNASNet-5',\n",
       "  'YOLOv3',\n",
       "  'Transformer (Adaptive Input Embeddings) WT103',\n",
       "  'BERT-Large-CAS (PTB+WT2+WT103)',\n",
       "  'Conformer + Wav2vec 2.0 + Noisy Student',\n",
       "  'CLIP (ViT L/14@336px)',\n",
       "  'CogView',\n",
       "  'ALIGN',\n",
       "  'XGLM-7.5B',\n",
       "  'Stable Diffusion (LDM-KL-8-G)',\n",
       "  'CoCa',\n",
       "  'ESM2-15B',\n",
       "  'Falcon-40B',\n",
       "  'BloombergGPT',\n",
       "  'FunSearch',\n",
       "  'MM1-30B',\n",
       "  'Llama 3-8B'],\n",
       " 60: ['ResNet-200',\n",
       "  'Population-based DRL',\n",
       "  'Mesh-TensorFlow Transformer 2.9B (translation)',\n",
       "  'Megatron-LM (355M)',\n",
       "  'T5-3B',\n",
       "  'CamemBERT',\n",
       "  'Noisy Student (L2)',\n",
       "  'Once for All',\n",
       "  'ERNIE 3.0',\n",
       "  'BASIC-L',\n",
       "  'Student of Games',\n",
       "  'PaLI',\n",
       "  'Whisper',\n",
       "  'Taiyi-Stable Diffusion',\n",
       "  'StarCoder',\n",
       "  'WizardCoder-15.5B',\n",
       "  'Llama 2-13B',\n",
       "  'Skywork-13B',\n",
       "  'MegaScale (175B)'],\n",
       " 55: ['DeepStack',\n",
       "  'LSTM (Hebbian, Cache, MbPA)',\n",
       "  'QT-Opt',\n",
       "  'SciBERT',\n",
       "  'DD-PPO',\n",
       "  'ViT-Huge/14',\n",
       "  'MSA Transformer',\n",
       "  'M6-T',\n",
       "  'ADM',\n",
       "  'XGLM',\n",
       "  'RETRO-7B',\n",
       "  'Llama 2-7B',\n",
       "  'FinGPT-13B',\n",
       "  'Nemotron-3-8B'],\n",
       " 50: ['Transformer',\n",
       "  'GPT',\n",
       "  'ProxylessNAS',\n",
       "  'GBERT-Large',\n",
       "  'wave2vec 2.0 LARGE',\n",
       "  'AlphaFold 2',\n",
       "  'DeBERTa',\n",
       "  'HuBERT',\n",
       "  'PLATO-XL',\n",
       "  'Imagen',\n",
       "  'ProGen2-xlarge',\n",
       "  'NLLB',\n",
       "  'ESM2-3B',\n",
       "  'Flan-T5 11B',\n",
       "  'LLaMA-7B',\n",
       "  'LLaMA-13B',\n",
       "  'WizardLM-7B',\n",
       "  'Pangu-Weather'],\n",
       " 45: ['BIDAF',\n",
       "  'RetinaNet-R101',\n",
       "  'Transformer + Simple Recurrent Unit',\n",
       "  'Sandwich Transformer',\n",
       "  'DETR',\n",
       "  'ESM1-670M (UR50/D)',\n",
       "  'German ELECTRA Large',\n",
       "  'CPM-Large',\n",
       "  'SEER',\n",
       "  'Tranception',\n",
       "  'OmegaPLM',\n",
       "  'Jais'],\n",
       " 40: ['Part-of-sentence tagging model',\n",
       "  'GL-LWGC-AWD-MoS-LSTM + dynamic evaluation (WT2)',\n",
       "  'Transformer-XL (257M)',\n",
       "  'KataGo',\n",
       "  'MuZero',\n",
       "  'AlphaFold',\n",
       "  'ESM1-670M (UR50/S)',\n",
       "  'ViT-G/14',\n",
       "  'AlphaFold-Multimer',\n",
       "  'NÜWA',\n",
       "  'Gato',\n",
       "  'ESM2-650M',\n",
       "  'Nucleotide Transformer',\n",
       "  'CogVLM',\n",
       "  'SPHINX (Llama 2 13B)',\n",
       "  'GraphCast',\n",
       "  'CogAgent'],\n",
       " 35: ['Named Entity Recognition model',\n",
       "  'AWD-LSTM - 3-layer LSTM (tied) + continuous cache pointer (WT2)',\n",
       "  '(ensemble): AWD-LSTM-DOC (fin) × 5 (WT2)',\n",
       "  'TrellisNet',\n",
       "  'Feedback Transformer',\n",
       "  'ERNIE-GEN (large)',\n",
       "  'LUKE',\n",
       "  'ESM1b',\n",
       "  'EMDR',\n",
       "  'ViT-G (model soup)',\n",
       "  'AudioGen',\n",
       "  'VideoMAE V2',\n",
       "  'Segment Anything Model',\n",
       "  'DINOv2',\n",
       "  'PeptideBERT'],\n",
       " 30: ['R-FCN',\n",
       "  'AWD-LSTM-MoS + dynamic evaluation (WT2, 2017)',\n",
       "  'QRNN',\n",
       "  'Big-Little Net (speech)',\n",
       "  'FAIRSEQ Adaptive Inputs',\n",
       "  'Transformer-XL Large + Phrase Induction',\n",
       "  'ResNet-152 + ObjectNet',\n",
       "  'DistilBERT',\n",
       "  'ATLAS',\n",
       "  'ESM1-670M (UR100)',\n",
       "  'CodeT5-base',\n",
       "  'CodeT5-large',\n",
       "  'GenSLM',\n",
       "  'EVA-01',\n",
       "  'Ankh_large'],\n",
       " 25: ['VD-LSTM+REAL Large',\n",
       "  'ULM-FiT',\n",
       "  'Decoupled weight decay regularization',\n",
       "  'Hanabi 4 player',\n",
       "  'Tensorized Transformer (257M)',\n",
       "  'AlphaX-1',\n",
       "  'TaLK Convolution',\n",
       "  'UnifiedQA',\n",
       "  'ESM1-85M',\n",
       "  'KEPLER',\n",
       "  'ViT + DINO',\n",
       "  'ConSERT',\n",
       "  'Denoising Diffusion Probabilistic Models (LSUN Bedroom)',\n",
       "  'T0-XXL',\n",
       "  'S4',\n",
       "  'Masked Autoencoders',\n",
       "  'Swin Transformer V2',\n",
       "  'PolyCoder',\n",
       "  'ESM2-150M',\n",
       "  'Ankh_base',\n",
       "  'Flan T5-XXL + BLIP-2',\n",
       "  'BLIP-2 (Q-Former)',\n",
       "  'Incoder-6.7B'],\n",
       " 20: ['Zoneout + Variational LSTM (WT2)',\n",
       "  '4 layer QRNN (h=2500)',\n",
       "  'Big-Little Net',\n",
       "  'Cross-lingual alignment',\n",
       "  'DLRM-2020',\n",
       "  'Base LM + kNN LM + Continuous Cache',\n",
       "  'DeiT-B',\n",
       "  'AR-LDM',\n",
       "  'Discriminator Guidance',\n",
       "  'Hybrid H3-2.7B',\n",
       "  'DDPM-IP (CelebA)',\n",
       "  'DiT-XL/2'],\n",
       " 15: ['Variational (untied weights, MC) LSTM (Large)',\n",
       "  'Pointer Sentinel-LSTM (medium)',\n",
       "  'Neural Architecture Search with base 8 and shared embeddings',\n",
       "  'Fraternal dropout + AWD-LSTM 3-layer (WT2)',\n",
       "  'ENAS',\n",
       "  'Dropout-LSTM+Noise(Bernoulli) (WT2)',\n",
       "  'aLSTM(depth-2)+RecurrentPolicy (WT2)',\n",
       "  'Transformer-XL DeFINE (141M)',\n",
       "  'DeLight',\n",
       "  'ESM1-43M',\n",
       "  'EfficientNetV2',\n",
       "  'Adaptive Input Transformer + RD',\n",
       "  'DNABERT',\n",
       "  'BERT-RBP',\n",
       "  'ESM2-35M',\n",
       "  'InternImage',\n",
       "  'Fusion in Encoder',\n",
       "  'InstructBLIP',\n",
       "  'ONE-PEACE'],\n",
       " 10: ['EI-REHN-1000D',\n",
       "  'DARTS',\n",
       "  'AWD-LSTM-DRILL + dynamic evaluation† (WT2)',\n",
       "  'NAS+ESS (156M)',\n",
       "  'ProBERTa',\n",
       "  'ERNIE-Doc (247M)',\n",
       "  'ProteinBERT',\n",
       "  'BEIT-3',\n",
       "  'DiffDock',\n",
       "  'eDiff-I',\n",
       "  'LLaVA 1.5'],\n",
       " 5: ['VD-RHN',\n",
       "  'ISS',\n",
       "  'AWD-LSTM+WT+Cache+IOG (WT2)',\n",
       "  'AWD-LSTM + MoS + Partial Shuffled',\n",
       "  'UDSMProt',\n",
       "  'MMLSTM',\n",
       "  'Tensor-Transformer(1core)+PN (WT103)',\n",
       "  'SRU++ Large',\n",
       "  'Transformer local-attention (NesT-B)',\n",
       "  'Detic',\n",
       "  'Segatron-XL large, M=384 + HCP',\n",
       "  'Sparse all-MLP',\n",
       "  'ESM2-8M',\n",
       "  'CaLM',\n",
       "  'LLaVA',\n",
       "  'CODEFUSION (Python)',\n",
       "  'MultiBand Diffusion'],\n",
       " 0: ['2-layer-LSTM+Deep-Gradient-Compression',\n",
       "  'Fine-tuned-AWD-LSTM-DOC(fin)',\n",
       "  'Multi-cell LSTM',\n",
       "  'Pluribus',\n",
       "  'TransformerXL + spectrum control',\n",
       "  'DensePhrases',\n",
       "  'CT-MoS (WT2)',\n",
       "  'MedBERT',\n",
       "  'PermuteFormer',\n",
       "  'base LM+GNN+kNN',\n",
       "  'DITTO',\n",
       "  'Mogrifier RLSTM (WT2)',\n",
       "  'VALL-E',\n",
       "  'HyenaDNA',\n",
       "  'AudioLM']}"
      ]
     },
     "execution_count": 75,
     "metadata": {},
     "output_type": "execute_result"
    }
   ],
   "source": [
    "systems_by_percentile"
   ]
  },
  {
   "cell_type": "code",
   "execution_count": 76,
   "metadata": {},
   "outputs": [
    {
     "data": {
      "text/plain": [
       "['Transformer',\n",
       " 'GPT',\n",
       " 'ProxylessNAS',\n",
       " 'GBERT-Large',\n",
       " 'wave2vec 2.0 LARGE',\n",
       " 'AlphaFold 2',\n",
       " 'DeBERTa',\n",
       " 'HuBERT',\n",
       " 'PLATO-XL',\n",
       " 'Imagen',\n",
       " 'ProGen2-xlarge',\n",
       " 'NLLB',\n",
       " 'ESM2-3B',\n",
       " 'Flan-T5 11B',\n",
       " 'LLaMA-7B',\n",
       " 'LLaMA-13B',\n",
       " 'WizardLM-7B',\n",
       " 'Pangu-Weather',\n",
       " 'DeepStack',\n",
       " 'LSTM (Hebbian, Cache, MbPA)',\n",
       " 'QT-Opt',\n",
       " 'SciBERT',\n",
       " 'DD-PPO',\n",
       " 'ViT-Huge/14',\n",
       " 'MSA Transformer',\n",
       " 'M6-T',\n",
       " 'ADM',\n",
       " 'XGLM',\n",
       " 'RETRO-7B',\n",
       " 'Llama 2-7B',\n",
       " 'FinGPT-13B',\n",
       " 'Nemotron-3-8B',\n",
       " 'ResNet-200',\n",
       " 'Population-based DRL',\n",
       " 'Mesh-TensorFlow Transformer 2.9B (translation)',\n",
       " 'Megatron-LM (355M)',\n",
       " 'T5-3B',\n",
       " 'CamemBERT',\n",
       " 'Noisy Student (L2)',\n",
       " 'Once for All',\n",
       " 'ERNIE 3.0',\n",
       " 'BASIC-L',\n",
       " 'Student of Games',\n",
       " 'PaLI',\n",
       " 'Whisper',\n",
       " 'Taiyi-Stable Diffusion',\n",
       " 'StarCoder',\n",
       " 'WizardCoder-15.5B',\n",
       " 'Llama 2-13B',\n",
       " 'Skywork-13B',\n",
       " 'MegaScale (175B)',\n",
       " 'ResNet-152 (ImageNet)',\n",
       " 'ConvS2S (ensemble of 8 models)',\n",
       " 'PNASNet-5',\n",
       " 'YOLOv3',\n",
       " 'Transformer (Adaptive Input Embeddings) WT103',\n",
       " 'BERT-Large-CAS (PTB+WT2+WT103)',\n",
       " 'Conformer + Wav2vec 2.0 + Noisy Student',\n",
       " 'CLIP (ViT L/14@336px)',\n",
       " 'CogView',\n",
       " 'ALIGN',\n",
       " 'XGLM-7.5B',\n",
       " 'Stable Diffusion (LDM-KL-8-G)',\n",
       " 'CoCa',\n",
       " 'ESM2-15B',\n",
       " 'Falcon-40B',\n",
       " 'BloombergGPT',\n",
       " 'FunSearch',\n",
       " 'MM1-30B',\n",
       " 'Llama 3-8B',\n",
       " 'DeepSpeech2 (English)',\n",
       " 'PolyNet',\n",
       " 'MoE',\n",
       " 'Big Transformer for Back-Translation',\n",
       " 'Mesh-TensorFlow Transformer 4.9B (language modelling)',\n",
       " 'MnasNet-A1 + SSDLite',\n",
       " 'MnasNet-A3',\n",
       " 'ALBERT-xxlarge',\n",
       " 'ELECTRA',\n",
       " 'iGPT-L',\n",
       " 'PLUG',\n",
       " 'ProtT5-XXL-BFD',\n",
       " 'ProtBERT-BFD',\n",
       " 'CoAtNet',\n",
       " 'FLAN 137B',\n",
       " 'Florence',\n",
       " 'AlexaTM 20B',\n",
       " 'Llama 2-34B',\n",
       " 'Xception',\n",
       " 'Libratus',\n",
       " 'BERT-Large',\n",
       " 'RoBERTa Large',\n",
       " 'ContextNet + Noisy Student',\n",
       " 'GShard (dense)',\n",
       " 'GPT-NeoX-20B',\n",
       " 'UL2',\n",
       " 'Galactica',\n",
       " 'ViT-22B',\n",
       " 'PanGu-Σ',\n",
       " 'Yi-34B',\n",
       " 'MegaScale (530B)',\n",
       " 'OpenAI TI7 DOTA 1v1',\n",
       " 'IMPALA',\n",
       " 'BigGAN-deep 512x512',\n",
       " 'GPT-2 (1.5B)',\n",
       " 'iGPT-XL',\n",
       " 'DALL-E',\n",
       " 'Meta Pseudo Labels',\n",
       " 'ProtT5-XXL',\n",
       " 'ByT5-XXL',\n",
       " 'GOAT',\n",
       " 'HyperCLOVA 82B',\n",
       " 'AlphaCode',\n",
       " 'ST-MoE',\n",
       " 'Flamingo',\n",
       " 'GLM-130B',\n",
       " 'BlenderBot 3',\n",
       " 'LLaMA-65B',\n",
       " 'xTrimoPGLM -100B',\n",
       " 'Llama 2-70B',\n",
       " 'ChatGLM3',\n",
       " 'Qwen-72B',\n",
       " 'AlphaGo Fan',\n",
       " 'AlphaGo Lee',\n",
       " 'JFT',\n",
       " 'AmoebaNet-A (F=448)',\n",
       " 'XLNet',\n",
       " 'Megatron-LM (8.3B)',\n",
       " 'OpenAI Five Rerun',\n",
       " 'Turing-NLG',\n",
       " 'Yuan 1.0',\n",
       " 'GLaM',\n",
       " 'LaMDA',\n",
       " 'OPT-175B',\n",
       " 'Parti',\n",
       " 'BLOOM-176B',\n",
       " 'Grok-1',\n",
       " 'Llama 3-70B',\n",
       " 'NASv3 (CIFAR-10)',\n",
       " 'FTW',\n",
       " 'T5-11B',\n",
       " 'AlphaStar',\n",
       " 'mT5-XXL',\n",
       " 'Switch',\n",
       " 'Gopher (280B)',\n",
       " 'ERNIE 3.0 Titan',\n",
       " 'Chinchilla',\n",
       " 'U-PaLM (540B)',\n",
       " 'Flan-PaLM 540B',\n",
       " 'GPT-3.5 (text-davinci-003)',\n",
       " 'Claude 2',\n",
       " 'Falcon-180B',\n",
       " 'Inflection-2.5',\n",
       " 'GNMT',\n",
       " 'AlphaGo Master',\n",
       " 'AlphaGo Zero',\n",
       " 'AlphaZero',\n",
       " 'ResNeXt-101 32x48d',\n",
       " 'Megatron-BERT',\n",
       " 'OpenAI Five',\n",
       " 'Meena',\n",
       " 'GPT-3 175B (davinci)',\n",
       " 'Megatron-Turing NLG 530B',\n",
       " 'PaLM (540B)',\n",
       " 'Minerva (540B)',\n",
       " 'GPT-4',\n",
       " 'PaLM 2',\n",
       " 'Inflection-2',\n",
       " 'Gemini 1.0 Ultra',\n",
       " 'MegaScale (Production)']"
      ]
     },
     "execution_count": 76,
     "metadata": {},
     "output_type": "execute_result"
    }
   ],
   "source": [
    "compute_percentile_threshold = 50\n",
    "selected_systems = []\n",
    "for percentile in range(compute_percentile_threshold, 100, 5):\n",
    "    selected_systems.extend(systems_by_percentile[percentile])\n",
    "selected_systems"
   ]
  },
  {
   "cell_type": "markdown",
   "metadata": {},
   "source": [
    "# Top-n frontier filtering"
   ]
  },
  {
   "cell_type": "code",
   "execution_count": 77,
   "metadata": {},
   "outputs": [
    {
     "name": "stderr",
     "output_type": "stream",
     "text": [
      "/var/folders/06/5htx0qw164j099bw2q7jk4gm0000gn/T/ipykernel_20101/3991044387.py:1: SettingWithCopyWarning:\n",
      "\n",
      "\n",
      "A value is trying to be set on a copy of a slice from a DataFrame.\n",
      "Try using .loc[row_indexer,col_indexer] = value instead\n",
      "\n",
      "See the caveats in the documentation: https://pandas.pydata.org/pandas-docs/stable/user_guide/indexing.html#returning-a-view-versus-a-copy\n",
      "\n"
     ]
    }
   ],
   "source": [
    "access_df['Publication date (float)'] = datetime_to_float_year(\n",
    "    pd.to_datetime(access_df['Publication date'])\n",
    ")"
   ]
  },
  {
   "cell_type": "code",
   "execution_count": 78,
   "metadata": {},
   "outputs": [
    {
     "name": "stderr",
     "output_type": "stream",
     "text": [
      "/var/folders/06/5htx0qw164j099bw2q7jk4gm0000gn/T/ipykernel_20101/1055558449.py:3: SettingWithCopyWarning:\n",
      "\n",
      "\n",
      "A value is trying to be set on a copy of a slice from a DataFrame.\n",
      "Try using .loc[row_indexer,col_indexer] = value instead\n",
      "\n",
      "See the caveats in the documentation: https://pandas.pydata.org/pandas-docs/stable/user_guide/indexing.html#returning-a-view-versus-a-copy\n",
      "\n"
     ]
    }
   ],
   "source": [
    "n = 10\n",
    "\n",
    "access_df[f'top_{n}_at_release'] = False\n",
    "\n",
    "for row, model in access_df.iterrows():\n",
    "    # Filter for models released as of the model release, with the same open/closed status\n",
    "    date_df = access_df[(access_df['Publication date (float)'] <= model['Publication date (float)']) \n",
    "        & (access_df['Model open/closed'] == model['Model open/closed'])]\n",
    "    # Get the top n models (with the same open/closed status) by compute\n",
    "    top_n_models = date_df.nlargest(n, 'Training compute (FLOP)')\n",
    "    # Mark these models in the original dataframe\n",
    "    access_df.loc[top_n_models.index, f'top_{n}_at_release'] = True"
   ]
  },
  {
   "cell_type": "code",
   "execution_count": 79,
   "metadata": {},
   "outputs": [
    {
     "data": {
      "text/html": [
       "<div>\n",
       "<style scoped>\n",
       "    .dataframe tbody tr th:only-of-type {\n",
       "        vertical-align: middle;\n",
       "    }\n",
       "\n",
       "    .dataframe tbody tr th {\n",
       "        vertical-align: top;\n",
       "    }\n",
       "\n",
       "    .dataframe thead th {\n",
       "        text-align: right;\n",
       "    }\n",
       "</style>\n",
       "<table border=\"1\" class=\"dataframe\">\n",
       "  <thead>\n",
       "    <tr style=\"text-align: right;\">\n",
       "      <th></th>\n",
       "      <th>System</th>\n",
       "      <th>Domain</th>\n",
       "      <th>Task</th>\n",
       "      <th>Publication date</th>\n",
       "      <th>Accessibility notes</th>\n",
       "      <th>Model accessibility</th>\n",
       "      <th>Dataset accessibility</th>\n",
       "      <th>Code accessibility</th>\n",
       "      <th>Link</th>\n",
       "      <th>Organization</th>\n",
       "      <th>...</th>\n",
       "      <th>Training compute lower bound</th>\n",
       "      <th>Training compute upper bound</th>\n",
       "      <th>Training chip-hours</th>\n",
       "      <th>Organization categorization (from Organization)</th>\n",
       "      <th>Possibly over 1e23 FLOP</th>\n",
       "      <th>Training cost trends 2</th>\n",
       "      <th>Training cost trends 3</th>\n",
       "      <th>Model open/closed</th>\n",
       "      <th>Publication date (float)</th>\n",
       "      <th>top_10_at_release</th>\n",
       "    </tr>\n",
       "  </thead>\n",
       "  <tbody>\n",
       "    <tr>\n",
       "      <th>366</th>\n",
       "      <td>SPIDER2</td>\n",
       "      <td>Biology</td>\n",
       "      <td>Protein folding prediction,Proteins</td>\n",
       "      <td>2016-10-28</td>\n",
       "      <td>some kind of download, unclear license\\n\\nhttp...</td>\n",
       "      <td>Open access (non-commercial)</td>\n",
       "      <td>NaN</td>\n",
       "      <td>NaN</td>\n",
       "      <td>https://link.springer.com/protocol/10.1007/978...</td>\n",
       "      <td>Griffith University,University of Iowa,Dezhou ...</td>\n",
       "      <td>...</td>\n",
       "      <td>NaN</td>\n",
       "      <td>NaN</td>\n",
       "      <td>NaN</td>\n",
       "      <td>Academia,Academia,Academia</td>\n",
       "      <td>NaN</td>\n",
       "      <td>NaN</td>\n",
       "      <td>NaN</td>\n",
       "      <td>Open</td>\n",
       "      <td>2016.823924</td>\n",
       "      <td>True</td>\n",
       "    </tr>\n",
       "    <tr>\n",
       "      <th>372</th>\n",
       "      <td>BIDAF</td>\n",
       "      <td>Language</td>\n",
       "      <td>Question answering</td>\n",
       "      <td>2016-11-05</td>\n",
       "      <td>apache 2.0: https://github.com/allenai/bi-att-...</td>\n",
       "      <td>Open source</td>\n",
       "      <td>Open source</td>\n",
       "      <td>Open source</td>\n",
       "      <td>https://arxiv.org/abs/1611.01603v6</td>\n",
       "      <td>University of Washington,Allen Institute for AI</td>\n",
       "      <td>...</td>\n",
       "      <td>NaN</td>\n",
       "      <td>NaN</td>\n",
       "      <td>480.0</td>\n",
       "      <td>Academia,Research collective</td>\n",
       "      <td>NaN</td>\n",
       "      <td>NaN</td>\n",
       "      <td>NaN</td>\n",
       "      <td>Open</td>\n",
       "      <td>2016.844285</td>\n",
       "      <td>True</td>\n",
       "    </tr>\n",
       "    <tr>\n",
       "      <th>400</th>\n",
       "      <td>AlexNet + coordinating filters</td>\n",
       "      <td>Vision</td>\n",
       "      <td>Image classification</td>\n",
       "      <td>2017-03-28</td>\n",
       "      <td>license: https://github.com/wenwei202/caffe/bl...</td>\n",
       "      <td>Open source</td>\n",
       "      <td>NaN</td>\n",
       "      <td>Open source</td>\n",
       "      <td>https://arxiv.org/abs/1703.09746</td>\n",
       "      <td>University of Pittsburgh,Duke University</td>\n",
       "      <td>...</td>\n",
       "      <td>NaN</td>\n",
       "      <td>NaN</td>\n",
       "      <td>NaN</td>\n",
       "      <td>Academia,Academia</td>\n",
       "      <td>NaN</td>\n",
       "      <td>NaN</td>\n",
       "      <td>NaN</td>\n",
       "      <td>Open</td>\n",
       "      <td>2017.240590</td>\n",
       "      <td>True</td>\n",
       "    </tr>\n",
       "    <tr>\n",
       "      <th>472</th>\n",
       "      <td>ULM-FiT</td>\n",
       "      <td>Language</td>\n",
       "      <td>Text classification</td>\n",
       "      <td>2018-01-18</td>\n",
       "      <td>https://nlp.fast.ai/category/classification.html</td>\n",
       "      <td>Open source</td>\n",
       "      <td>NaN</td>\n",
       "      <td>Open source</td>\n",
       "      <td>https://arxiv.org/abs/1801.06146</td>\n",
       "      <td>University of San Francisco,Insight Centre NUI...</td>\n",
       "      <td>...</td>\n",
       "      <td>NaN</td>\n",
       "      <td>NaN</td>\n",
       "      <td>NaN</td>\n",
       "      <td>Academia,Academia</td>\n",
       "      <td>NaN</td>\n",
       "      <td>NaN</td>\n",
       "      <td>NaN</td>\n",
       "      <td>Open</td>\n",
       "      <td>2018.046544</td>\n",
       "      <td>True</td>\n",
       "    </tr>\n",
       "    <tr>\n",
       "      <th>497</th>\n",
       "      <td>DNCON2</td>\n",
       "      <td>Biology</td>\n",
       "      <td>Proteins,Protein folding prediction</td>\n",
       "      <td>2018-05-01</td>\n",
       "      <td>license: https://github.com/multicom-toolbox/D...</td>\n",
       "      <td>Open source</td>\n",
       "      <td>Open source</td>\n",
       "      <td>Open source</td>\n",
       "      <td>https://academic.oup.com/bioinformatics/articl...</td>\n",
       "      <td>University of Missouri</td>\n",
       "      <td>...</td>\n",
       "      <td>NaN</td>\n",
       "      <td>NaN</td>\n",
       "      <td>NaN</td>\n",
       "      <td>Academia</td>\n",
       "      <td>NaN</td>\n",
       "      <td>NaN</td>\n",
       "      <td>NaN</td>\n",
       "      <td>Open</td>\n",
       "      <td>2018.333333</td>\n",
       "      <td>True</td>\n",
       "    </tr>\n",
       "    <tr>\n",
       "      <th>...</th>\n",
       "      <td>...</td>\n",
       "      <td>...</td>\n",
       "      <td>...</td>\n",
       "      <td>...</td>\n",
       "      <td>...</td>\n",
       "      <td>...</td>\n",
       "      <td>...</td>\n",
       "      <td>...</td>\n",
       "      <td>...</td>\n",
       "      <td>...</td>\n",
       "      <td>...</td>\n",
       "      <td>...</td>\n",
       "      <td>...</td>\n",
       "      <td>...</td>\n",
       "      <td>...</td>\n",
       "      <td>...</td>\n",
       "      <td>...</td>\n",
       "      <td>...</td>\n",
       "      <td>...</td>\n",
       "      <td>...</td>\n",
       "      <td>...</td>\n",
       "    </tr>\n",
       "    <tr>\n",
       "      <th>1457</th>\n",
       "      <td>XVERSE-65B-2</td>\n",
       "      <td>Language</td>\n",
       "      <td>Chat,Language modelling/generation</td>\n",
       "      <td>2023-12-08</td>\n",
       "      <td>Apache 2.0\\n\\nThe use of the source code in th...</td>\n",
       "      <td>Open access (restricted use)</td>\n",
       "      <td>NaN</td>\n",
       "      <td>Open source</td>\n",
       "      <td>https://github.com/xverse-ai/XVERSE-65B/blob/m...</td>\n",
       "      <td>XVERSE Technology,Shenzhen Yuanxiang Technology</td>\n",
       "      <td>...</td>\n",
       "      <td>NaN</td>\n",
       "      <td>NaN</td>\n",
       "      <td>NaN</td>\n",
       "      <td>Industry,Industry</td>\n",
       "      <td>checked</td>\n",
       "      <td>NaN</td>\n",
       "      <td>NaN</td>\n",
       "      <td>Open</td>\n",
       "      <td>2023.935832</td>\n",
       "      <td>True</td>\n",
       "    </tr>\n",
       "    <tr>\n",
       "      <th>1477</th>\n",
       "      <td>DeepSeek LLM 67B</td>\n",
       "      <td>Language</td>\n",
       "      <td>Chat</td>\n",
       "      <td>2024-01-05</td>\n",
       "      <td>https://github.com/deepseek-ai/deepseek-LLM/bl...</td>\n",
       "      <td>Open access (restricted use)</td>\n",
       "      <td>NaN</td>\n",
       "      <td>NaN</td>\n",
       "      <td>https://arxiv.org/abs/2401.02954, https://gith...</td>\n",
       "      <td>DeepSeek</td>\n",
       "      <td>...</td>\n",
       "      <td>NaN</td>\n",
       "      <td>NaN</td>\n",
       "      <td>NaN</td>\n",
       "      <td>Industry</td>\n",
       "      <td>NaN</td>\n",
       "      <td>NaN</td>\n",
       "      <td>NaN</td>\n",
       "      <td>Open</td>\n",
       "      <td>2024.010952</td>\n",
       "      <td>True</td>\n",
       "    </tr>\n",
       "    <tr>\n",
       "      <th>1490</th>\n",
       "      <td>Code Llama-70B</td>\n",
       "      <td>Language</td>\n",
       "      <td>Code generation</td>\n",
       "      <td>2024-01-29</td>\n",
       "      <td>Llama 2 license. can't use outputs to train mo...</td>\n",
       "      <td>Open access (restricted use)</td>\n",
       "      <td>NaN</td>\n",
       "      <td>NaN</td>\n",
       "      <td>https://ai.meta.com/research/publications/code...</td>\n",
       "      <td>Meta AI</td>\n",
       "      <td>...</td>\n",
       "      <td>NaN</td>\n",
       "      <td>NaN</td>\n",
       "      <td>2592000.0</td>\n",
       "      <td>Industry</td>\n",
       "      <td>NaN</td>\n",
       "      <td>NaN</td>\n",
       "      <td>NaN</td>\n",
       "      <td>Open</td>\n",
       "      <td>2024.076661</td>\n",
       "      <td>True</td>\n",
       "    </tr>\n",
       "    <tr>\n",
       "      <th>1518</th>\n",
       "      <td>DBRX</td>\n",
       "      <td>Language</td>\n",
       "      <td>Chat,Code generation</td>\n",
       "      <td>2024-03-27</td>\n",
       "      <td>license: https://www.databricks.com/legal/open...</td>\n",
       "      <td>Open access (restricted use)</td>\n",
       "      <td>Unreleased</td>\n",
       "      <td>Unreleased</td>\n",
       "      <td>https://www.databricks.com/blog/introducing-db...</td>\n",
       "      <td>Databricks</td>\n",
       "      <td>...</td>\n",
       "      <td>NaN</td>\n",
       "      <td>NaN</td>\n",
       "      <td>NaN</td>\n",
       "      <td>Industry</td>\n",
       "      <td>NaN</td>\n",
       "      <td>NaN</td>\n",
       "      <td>NaN</td>\n",
       "      <td>Open</td>\n",
       "      <td>2024.237852</td>\n",
       "      <td>True</td>\n",
       "    </tr>\n",
       "    <tr>\n",
       "      <th>1535</th>\n",
       "      <td>Llama 3-70B</td>\n",
       "      <td>Language</td>\n",
       "      <td>Chat,Language modelling/generation,Code genera...</td>\n",
       "      <td>2024-04-18</td>\n",
       "      <td>https://github.com/meta-llama/llama3/blob/main...</td>\n",
       "      <td>Open access (restricted use)</td>\n",
       "      <td>NaN</td>\n",
       "      <td>Open access (restricted use)</td>\n",
       "      <td>https://ai.meta.com/blog/meta-llama-3/\\n\\nhttp...</td>\n",
       "      <td>Meta AI</td>\n",
       "      <td>...</td>\n",
       "      <td>NaN</td>\n",
       "      <td>NaN</td>\n",
       "      <td>6400000.0</td>\n",
       "      <td>Industry</td>\n",
       "      <td>checked</td>\n",
       "      <td>NaN</td>\n",
       "      <td>NaN</td>\n",
       "      <td>Open</td>\n",
       "      <td>2024.296544</td>\n",
       "      <td>True</td>\n",
       "    </tr>\n",
       "  </tbody>\n",
       "</table>\n",
       "<p>78 rows × 63 columns</p>\n",
       "</div>"
      ],
      "text/plain": [
       "                              System    Domain  \\\n",
       "366                          SPIDER2   Biology   \n",
       "372                            BIDAF  Language   \n",
       "400   AlexNet + coordinating filters    Vision   \n",
       "472                          ULM-FiT  Language   \n",
       "497                           DNCON2   Biology   \n",
       "...                              ...       ...   \n",
       "1457                    XVERSE-65B-2  Language   \n",
       "1477                DeepSeek LLM 67B  Language   \n",
       "1490                  Code Llama-70B  Language   \n",
       "1518                            DBRX  Language   \n",
       "1535                     Llama 3-70B  Language   \n",
       "\n",
       "                                                   Task Publication date  \\\n",
       "366                 Protein folding prediction,Proteins       2016-10-28   \n",
       "372                                  Question answering       2016-11-05   \n",
       "400                                Image classification       2017-03-28   \n",
       "472                                 Text classification       2018-01-18   \n",
       "497                 Proteins,Protein folding prediction       2018-05-01   \n",
       "...                                                 ...              ...   \n",
       "1457                 Chat,Language modelling/generation       2023-12-08   \n",
       "1477                                               Chat       2024-01-05   \n",
       "1490                                    Code generation       2024-01-29   \n",
       "1518                               Chat,Code generation       2024-03-27   \n",
       "1535  Chat,Language modelling/generation,Code genera...       2024-04-18   \n",
       "\n",
       "                                    Accessibility notes  \\\n",
       "366   some kind of download, unclear license\\n\\nhttp...   \n",
       "372   apache 2.0: https://github.com/allenai/bi-att-...   \n",
       "400   license: https://github.com/wenwei202/caffe/bl...   \n",
       "472    https://nlp.fast.ai/category/classification.html   \n",
       "497   license: https://github.com/multicom-toolbox/D...   \n",
       "...                                                 ...   \n",
       "1457  Apache 2.0\\n\\nThe use of the source code in th...   \n",
       "1477  https://github.com/deepseek-ai/deepseek-LLM/bl...   \n",
       "1490  Llama 2 license. can't use outputs to train mo...   \n",
       "1518  license: https://www.databricks.com/legal/open...   \n",
       "1535  https://github.com/meta-llama/llama3/blob/main...   \n",
       "\n",
       "               Model accessibility Dataset accessibility  \\\n",
       "366   Open access (non-commercial)                   NaN   \n",
       "372                    Open source           Open source   \n",
       "400                    Open source                   NaN   \n",
       "472                    Open source                   NaN   \n",
       "497                    Open source           Open source   \n",
       "...                            ...                   ...   \n",
       "1457  Open access (restricted use)                   NaN   \n",
       "1477  Open access (restricted use)                   NaN   \n",
       "1490  Open access (restricted use)                   NaN   \n",
       "1518  Open access (restricted use)            Unreleased   \n",
       "1535  Open access (restricted use)                   NaN   \n",
       "\n",
       "                Code accessibility  \\\n",
       "366                            NaN   \n",
       "372                    Open source   \n",
       "400                    Open source   \n",
       "472                    Open source   \n",
       "497                    Open source   \n",
       "...                            ...   \n",
       "1457                   Open source   \n",
       "1477                           NaN   \n",
       "1490                           NaN   \n",
       "1518                    Unreleased   \n",
       "1535  Open access (restricted use)   \n",
       "\n",
       "                                                   Link  \\\n",
       "366   https://link.springer.com/protocol/10.1007/978...   \n",
       "372                  https://arxiv.org/abs/1611.01603v6   \n",
       "400                    https://arxiv.org/abs/1703.09746   \n",
       "472                    https://arxiv.org/abs/1801.06146   \n",
       "497   https://academic.oup.com/bioinformatics/articl...   \n",
       "...                                                 ...   \n",
       "1457  https://github.com/xverse-ai/XVERSE-65B/blob/m...   \n",
       "1477  https://arxiv.org/abs/2401.02954, https://gith...   \n",
       "1490  https://ai.meta.com/research/publications/code...   \n",
       "1518  https://www.databricks.com/blog/introducing-db...   \n",
       "1535  https://ai.meta.com/blog/meta-llama-3/\\n\\nhttp...   \n",
       "\n",
       "                                           Organization  ...  \\\n",
       "366   Griffith University,University of Iowa,Dezhou ...  ...   \n",
       "372     University of Washington,Allen Institute for AI  ...   \n",
       "400            University of Pittsburgh,Duke University  ...   \n",
       "472   University of San Francisco,Insight Centre NUI...  ...   \n",
       "497                              University of Missouri  ...   \n",
       "...                                                 ...  ...   \n",
       "1457    XVERSE Technology,Shenzhen Yuanxiang Technology  ...   \n",
       "1477                                           DeepSeek  ...   \n",
       "1490                                            Meta AI  ...   \n",
       "1518                                         Databricks  ...   \n",
       "1535                                            Meta AI  ...   \n",
       "\n",
       "      Training compute lower bound Training compute upper bound  \\\n",
       "366                            NaN                          NaN   \n",
       "372                            NaN                          NaN   \n",
       "400                            NaN                          NaN   \n",
       "472                            NaN                          NaN   \n",
       "497                            NaN                          NaN   \n",
       "...                            ...                          ...   \n",
       "1457                           NaN                          NaN   \n",
       "1477                           NaN                          NaN   \n",
       "1490                           NaN                          NaN   \n",
       "1518                           NaN                          NaN   \n",
       "1535                           NaN                          NaN   \n",
       "\n",
       "     Training chip-hours Organization categorization (from Organization)  \\\n",
       "366                  NaN                      Academia,Academia,Academia   \n",
       "372                480.0                    Academia,Research collective   \n",
       "400                  NaN                               Academia,Academia   \n",
       "472                  NaN                               Academia,Academia   \n",
       "497                  NaN                                        Academia   \n",
       "...                  ...                                             ...   \n",
       "1457                 NaN                               Industry,Industry   \n",
       "1477                 NaN                                        Industry   \n",
       "1490           2592000.0                                        Industry   \n",
       "1518                 NaN                                        Industry   \n",
       "1535           6400000.0                                        Industry   \n",
       "\n",
       "     Possibly over 1e23 FLOP Training cost trends 2 Training cost trends 3  \\\n",
       "366                      NaN                    NaN                    NaN   \n",
       "372                      NaN                    NaN                    NaN   \n",
       "400                      NaN                    NaN                    NaN   \n",
       "472                      NaN                    NaN                    NaN   \n",
       "497                      NaN                    NaN                    NaN   \n",
       "...                      ...                    ...                    ...   \n",
       "1457                 checked                    NaN                    NaN   \n",
       "1477                     NaN                    NaN                    NaN   \n",
       "1490                     NaN                    NaN                    NaN   \n",
       "1518                     NaN                    NaN                    NaN   \n",
       "1535                 checked                    NaN                    NaN   \n",
       "\n",
       "     Model open/closed Publication date (float)  top_10_at_release  \n",
       "366               Open              2016.823924               True  \n",
       "372               Open              2016.844285               True  \n",
       "400               Open              2017.240590               True  \n",
       "472               Open              2018.046544               True  \n",
       "497               Open              2018.333333               True  \n",
       "...                ...                      ...                ...  \n",
       "1457              Open              2023.935832               True  \n",
       "1477              Open              2024.010952               True  \n",
       "1490              Open              2024.076661               True  \n",
       "1518              Open              2024.237852               True  \n",
       "1535              Open              2024.296544               True  \n",
       "\n",
       "[78 rows x 63 columns]"
      ]
     },
     "execution_count": 79,
     "metadata": {},
     "output_type": "execute_result"
    }
   ],
   "source": [
    "access_df[(access_df['top_10_at_release'] == True) & (access_df['Model open/closed'] == 'Open')]"
   ]
  },
  {
   "cell_type": "code",
   "execution_count": 80,
   "metadata": {},
   "outputs": [
    {
     "data": {
      "text/html": [
       "<div>\n",
       "<style scoped>\n",
       "    .dataframe tbody tr th:only-of-type {\n",
       "        vertical-align: middle;\n",
       "    }\n",
       "\n",
       "    .dataframe tbody tr th {\n",
       "        vertical-align: top;\n",
       "    }\n",
       "\n",
       "    .dataframe thead th {\n",
       "        text-align: right;\n",
       "    }\n",
       "</style>\n",
       "<table border=\"1\" class=\"dataframe\">\n",
       "  <thead>\n",
       "    <tr style=\"text-align: right;\">\n",
       "      <th></th>\n",
       "      <th>System</th>\n",
       "      <th>Domain</th>\n",
       "      <th>Task</th>\n",
       "      <th>Publication date</th>\n",
       "      <th>Accessibility notes</th>\n",
       "      <th>Model accessibility</th>\n",
       "      <th>Dataset accessibility</th>\n",
       "      <th>Code accessibility</th>\n",
       "      <th>Link</th>\n",
       "      <th>Organization</th>\n",
       "      <th>...</th>\n",
       "      <th>Training compute lower bound</th>\n",
       "      <th>Training compute upper bound</th>\n",
       "      <th>Training chip-hours</th>\n",
       "      <th>Organization categorization (from Organization)</th>\n",
       "      <th>Possibly over 1e23 FLOP</th>\n",
       "      <th>Training cost trends 2</th>\n",
       "      <th>Training cost trends 3</th>\n",
       "      <th>Model open/closed</th>\n",
       "      <th>Publication date (float)</th>\n",
       "      <th>top_10_at_release</th>\n",
       "    </tr>\n",
       "  </thead>\n",
       "  <tbody>\n",
       "    <tr>\n",
       "      <th>97</th>\n",
       "      <td>Credibilty Network</td>\n",
       "      <td>Vision</td>\n",
       "      <td>Character recognition,Image classification</td>\n",
       "      <td>1999-07-01</td>\n",
       "      <td>NaN</td>\n",
       "      <td>Unreleased</td>\n",
       "      <td>NaN</td>\n",
       "      <td>Unreleased</td>\n",
       "      <td>https://proceedings.neurips.cc/paper_files/pap...</td>\n",
       "      <td>University College London (UCL),University of ...</td>\n",
       "      <td>...</td>\n",
       "      <td>NaN</td>\n",
       "      <td>NaN</td>\n",
       "      <td>NaN</td>\n",
       "      <td>Academia,Academia</td>\n",
       "      <td>NaN</td>\n",
       "      <td>NaN</td>\n",
       "      <td>NaN</td>\n",
       "      <td>Closed</td>\n",
       "      <td>1999.500000</td>\n",
       "      <td>True</td>\n",
       "    </tr>\n",
       "    <tr>\n",
       "      <th>209</th>\n",
       "      <td>LBL</td>\n",
       "      <td>Language</td>\n",
       "      <td>NaN</td>\n",
       "      <td>2012-06-27</td>\n",
       "      <td>NaN</td>\n",
       "      <td>Unreleased</td>\n",
       "      <td>NaN</td>\n",
       "      <td>Unreleased</td>\n",
       "      <td>https://arxiv.org/abs/1206.6426</td>\n",
       "      <td>University College London (UCL)</td>\n",
       "      <td>...</td>\n",
       "      <td>NaN</td>\n",
       "      <td>NaN</td>\n",
       "      <td>NaN</td>\n",
       "      <td>Academia</td>\n",
       "      <td>NaN</td>\n",
       "      <td>NaN</td>\n",
       "      <td>NaN</td>\n",
       "      <td>Closed</td>\n",
       "      <td>2012.487852</td>\n",
       "      <td>True</td>\n",
       "    </tr>\n",
       "    <tr>\n",
       "      <th>232</th>\n",
       "      <td>RNN+weight noise+dynamic eval</td>\n",
       "      <td>Language</td>\n",
       "      <td>NaN</td>\n",
       "      <td>2013-08-04</td>\n",
       "      <td>NaN</td>\n",
       "      <td>Unreleased</td>\n",
       "      <td>NaN</td>\n",
       "      <td>Unreleased</td>\n",
       "      <td>https://arxiv.org/abs/1308.0850</td>\n",
       "      <td>University of Toronto</td>\n",
       "      <td>...</td>\n",
       "      <td>NaN</td>\n",
       "      <td>NaN</td>\n",
       "      <td>NaN</td>\n",
       "      <td>Academia</td>\n",
       "      <td>NaN</td>\n",
       "      <td>NaN</td>\n",
       "      <td>NaN</td>\n",
       "      <td>Closed</td>\n",
       "      <td>2013.591547</td>\n",
       "      <td>True</td>\n",
       "    </tr>\n",
       "    <tr>\n",
       "      <th>252</th>\n",
       "      <td>SPN-4+KN5</td>\n",
       "      <td>Language</td>\n",
       "      <td>NaN</td>\n",
       "      <td>2014-01-01</td>\n",
       "      <td>code, no license specified: https://github.com...</td>\n",
       "      <td>Unreleased</td>\n",
       "      <td>NaN</td>\n",
       "      <td>Open access (non-commercial)</td>\n",
       "      <td>https://spn.cs.washington.edu/papers/is14.pdf</td>\n",
       "      <td>Singapore University of Technology &amp; Design,DS...</td>\n",
       "      <td>...</td>\n",
       "      <td>NaN</td>\n",
       "      <td>NaN</td>\n",
       "      <td>NaN</td>\n",
       "      <td>Academia,Government</td>\n",
       "      <td>NaN</td>\n",
       "      <td>NaN</td>\n",
       "      <td>NaN</td>\n",
       "      <td>Closed</td>\n",
       "      <td>2014.000000</td>\n",
       "      <td>True</td>\n",
       "    </tr>\n",
       "    <tr>\n",
       "      <th>272</th>\n",
       "      <td>Large regularized LSTM</td>\n",
       "      <td>Language</td>\n",
       "      <td>NaN</td>\n",
       "      <td>2014-09-08</td>\n",
       "      <td>Apache: https://github.com/wojzaremba/lstm</td>\n",
       "      <td>Unreleased</td>\n",
       "      <td>NaN</td>\n",
       "      <td>Open source</td>\n",
       "      <td>https://arxiv.org/abs/1409.2329</td>\n",
       "      <td>New York University (NYU),Google Brain</td>\n",
       "      <td>...</td>\n",
       "      <td>NaN</td>\n",
       "      <td>NaN</td>\n",
       "      <td>NaN</td>\n",
       "      <td>Academia,Industry</td>\n",
       "      <td>NaN</td>\n",
       "      <td>NaN</td>\n",
       "      <td>NaN</td>\n",
       "      <td>Closed</td>\n",
       "      <td>2014.685832</td>\n",
       "      <td>True</td>\n",
       "    </tr>\n",
       "    <tr>\n",
       "      <th>...</th>\n",
       "      <td>...</td>\n",
       "      <td>...</td>\n",
       "      <td>...</td>\n",
       "      <td>...</td>\n",
       "      <td>...</td>\n",
       "      <td>...</td>\n",
       "      <td>...</td>\n",
       "      <td>...</td>\n",
       "      <td>...</td>\n",
       "      <td>...</td>\n",
       "      <td>...</td>\n",
       "      <td>...</td>\n",
       "      <td>...</td>\n",
       "      <td>...</td>\n",
       "      <td>...</td>\n",
       "      <td>...</td>\n",
       "      <td>...</td>\n",
       "      <td>...</td>\n",
       "      <td>...</td>\n",
       "      <td>...</td>\n",
       "      <td>...</td>\n",
       "    </tr>\n",
       "    <tr>\n",
       "      <th>1439</th>\n",
       "      <td>Inflection-2</td>\n",
       "      <td>Language</td>\n",
       "      <td>Language modelling</td>\n",
       "      <td>2023-11-22</td>\n",
       "      <td>via Pi, no API</td>\n",
       "      <td>Hosted access (no API)</td>\n",
       "      <td>NaN</td>\n",
       "      <td>NaN</td>\n",
       "      <td>https://inflection.ai/inflection-2</td>\n",
       "      <td>Inflection AI</td>\n",
       "      <td>...</td>\n",
       "      <td>NaN</td>\n",
       "      <td>NaN</td>\n",
       "      <td>NaN</td>\n",
       "      <td>Industry</td>\n",
       "      <td>NaN</td>\n",
       "      <td>NaN</td>\n",
       "      <td>NaN</td>\n",
       "      <td>Closed</td>\n",
       "      <td>2023.890829</td>\n",
       "      <td>True</td>\n",
       "    </tr>\n",
       "    <tr>\n",
       "      <th>1453</th>\n",
       "      <td>Gemini 1.0 Ultra</td>\n",
       "      <td>Multimodal,Language,Vision</td>\n",
       "      <td>Language modelling,Visual question answering,C...</td>\n",
       "      <td>2023-12-06</td>\n",
       "      <td>NaN</td>\n",
       "      <td>Hosted access (no API)</td>\n",
       "      <td>NaN</td>\n",
       "      <td>NaN</td>\n",
       "      <td>https://storage.googleapis.com/deepmind-media/...</td>\n",
       "      <td>Google DeepMind</td>\n",
       "      <td>...</td>\n",
       "      <td>NaN</td>\n",
       "      <td>NaN</td>\n",
       "      <td>132000000.0</td>\n",
       "      <td>Industry</td>\n",
       "      <td>NaN</td>\n",
       "      <td>NaN</td>\n",
       "      <td>NaN</td>\n",
       "      <td>Closed</td>\n",
       "      <td>2023.930356</td>\n",
       "      <td>True</td>\n",
       "    </tr>\n",
       "    <tr>\n",
       "      <th>1502</th>\n",
       "      <td>MegaScale (Production)</td>\n",
       "      <td>Language</td>\n",
       "      <td>Language modelling/generation</td>\n",
       "      <td>2024-02-23</td>\n",
       "      <td>Code for MegaScale (also called veScale) train...</td>\n",
       "      <td>Unreleased</td>\n",
       "      <td>NaN</td>\n",
       "      <td>NaN</td>\n",
       "      <td>https://arxiv.org/abs/2402.15627</td>\n",
       "      <td>ByteDance,Peking University</td>\n",
       "      <td>...</td>\n",
       "      <td>NaN</td>\n",
       "      <td>NaN</td>\n",
       "      <td>NaN</td>\n",
       "      <td>Industry,Academia</td>\n",
       "      <td>NaN</td>\n",
       "      <td>NaN</td>\n",
       "      <td>NaN</td>\n",
       "      <td>Closed</td>\n",
       "      <td>2024.143567</td>\n",
       "      <td>True</td>\n",
       "    </tr>\n",
       "    <tr>\n",
       "      <th>1504</th>\n",
       "      <td>Mistral Large</td>\n",
       "      <td>Language</td>\n",
       "      <td>Chat</td>\n",
       "      <td>2024-02-26</td>\n",
       "      <td>NaN</td>\n",
       "      <td>API access</td>\n",
       "      <td>NaN</td>\n",
       "      <td>NaN</td>\n",
       "      <td>https://mistral.ai/news/mistral-large/</td>\n",
       "      <td>Mistral AI</td>\n",
       "      <td>...</td>\n",
       "      <td>NaN</td>\n",
       "      <td>NaN</td>\n",
       "      <td>NaN</td>\n",
       "      <td>Industry</td>\n",
       "      <td>NaN</td>\n",
       "      <td>NaN</td>\n",
       "      <td>NaN</td>\n",
       "      <td>Closed</td>\n",
       "      <td>2024.151781</td>\n",
       "      <td>True</td>\n",
       "    </tr>\n",
       "    <tr>\n",
       "      <th>1516</th>\n",
       "      <td>Inflection-2.5</td>\n",
       "      <td>Language</td>\n",
       "      <td>Chat</td>\n",
       "      <td>2024-03-07</td>\n",
       "      <td>NaN</td>\n",
       "      <td>Hosted access (no API)</td>\n",
       "      <td>NaN</td>\n",
       "      <td>NaN</td>\n",
       "      <td>https://inflection.ai/inflection-2-5</td>\n",
       "      <td>Inflection AI</td>\n",
       "      <td>...</td>\n",
       "      <td>NaN</td>\n",
       "      <td>NaN</td>\n",
       "      <td>NaN</td>\n",
       "      <td>Industry</td>\n",
       "      <td>NaN</td>\n",
       "      <td>NaN</td>\n",
       "      <td>NaN</td>\n",
       "      <td>Closed</td>\n",
       "      <td>2024.183094</td>\n",
       "      <td>True</td>\n",
       "    </tr>\n",
       "  </tbody>\n",
       "</table>\n",
       "<p>87 rows × 63 columns</p>\n",
       "</div>"
      ],
      "text/plain": [
       "                             System                      Domain  \\\n",
       "97               Credibilty Network                      Vision   \n",
       "209                             LBL                    Language   \n",
       "232   RNN+weight noise+dynamic eval                    Language   \n",
       "252                       SPN-4+KN5                    Language   \n",
       "272          Large regularized LSTM                    Language   \n",
       "...                             ...                         ...   \n",
       "1439                   Inflection-2                    Language   \n",
       "1453               Gemini 1.0 Ultra  Multimodal,Language,Vision   \n",
       "1502         MegaScale (Production)                    Language   \n",
       "1504                  Mistral Large                    Language   \n",
       "1516                 Inflection-2.5                    Language   \n",
       "\n",
       "                                                   Task Publication date  \\\n",
       "97           Character recognition,Image classification       1999-07-01   \n",
       "209                                                 NaN       2012-06-27   \n",
       "232                                                 NaN       2013-08-04   \n",
       "252                                                 NaN       2014-01-01   \n",
       "272                                                 NaN       2014-09-08   \n",
       "...                                                 ...              ...   \n",
       "1439                                 Language modelling       2023-11-22   \n",
       "1453  Language modelling,Visual question answering,C...       2023-12-06   \n",
       "1502                      Language modelling/generation       2024-02-23   \n",
       "1504                                               Chat       2024-02-26   \n",
       "1516                                               Chat       2024-03-07   \n",
       "\n",
       "                                    Accessibility notes  \\\n",
       "97                                                  NaN   \n",
       "209                                                 NaN   \n",
       "232                                                 NaN   \n",
       "252   code, no license specified: https://github.com...   \n",
       "272         Apache: https://github.com/wojzaremba/lstm    \n",
       "...                                                 ...   \n",
       "1439                                     via Pi, no API   \n",
       "1453                                                NaN   \n",
       "1502  Code for MegaScale (also called veScale) train...   \n",
       "1504                                                NaN   \n",
       "1516                                                NaN   \n",
       "\n",
       "         Model accessibility Dataset accessibility  \\\n",
       "97                Unreleased                   NaN   \n",
       "209               Unreleased                   NaN   \n",
       "232               Unreleased                   NaN   \n",
       "252               Unreleased                   NaN   \n",
       "272               Unreleased                   NaN   \n",
       "...                      ...                   ...   \n",
       "1439  Hosted access (no API)                   NaN   \n",
       "1453  Hosted access (no API)                   NaN   \n",
       "1502              Unreleased                   NaN   \n",
       "1504              API access                   NaN   \n",
       "1516  Hosted access (no API)                   NaN   \n",
       "\n",
       "                Code accessibility  \\\n",
       "97                      Unreleased   \n",
       "209                     Unreleased   \n",
       "232                     Unreleased   \n",
       "252   Open access (non-commercial)   \n",
       "272                    Open source   \n",
       "...                            ...   \n",
       "1439                           NaN   \n",
       "1453                           NaN   \n",
       "1502                           NaN   \n",
       "1504                           NaN   \n",
       "1516                           NaN   \n",
       "\n",
       "                                                   Link  \\\n",
       "97    https://proceedings.neurips.cc/paper_files/pap...   \n",
       "209                     https://arxiv.org/abs/1206.6426   \n",
       "232                     https://arxiv.org/abs/1308.0850   \n",
       "252       https://spn.cs.washington.edu/papers/is14.pdf   \n",
       "272                     https://arxiv.org/abs/1409.2329   \n",
       "...                                                 ...   \n",
       "1439                 https://inflection.ai/inflection-2   \n",
       "1453  https://storage.googleapis.com/deepmind-media/...   \n",
       "1502                   https://arxiv.org/abs/2402.15627   \n",
       "1504             https://mistral.ai/news/mistral-large/   \n",
       "1516               https://inflection.ai/inflection-2-5   \n",
       "\n",
       "                                           Organization  ...  \\\n",
       "97    University College London (UCL),University of ...  ...   \n",
       "209                     University College London (UCL)  ...   \n",
       "232                               University of Toronto  ...   \n",
       "252   Singapore University of Technology & Design,DS...  ...   \n",
       "272              New York University (NYU),Google Brain  ...   \n",
       "...                                                 ...  ...   \n",
       "1439                                      Inflection AI  ...   \n",
       "1453                                    Google DeepMind  ...   \n",
       "1502                        ByteDance,Peking University  ...   \n",
       "1504                                         Mistral AI  ...   \n",
       "1516                                      Inflection AI  ...   \n",
       "\n",
       "      Training compute lower bound Training compute upper bound  \\\n",
       "97                             NaN                          NaN   \n",
       "209                            NaN                          NaN   \n",
       "232                            NaN                          NaN   \n",
       "252                            NaN                          NaN   \n",
       "272                            NaN                          NaN   \n",
       "...                            ...                          ...   \n",
       "1439                           NaN                          NaN   \n",
       "1453                           NaN                          NaN   \n",
       "1502                           NaN                          NaN   \n",
       "1504                           NaN                          NaN   \n",
       "1516                           NaN                          NaN   \n",
       "\n",
       "     Training chip-hours Organization categorization (from Organization)  \\\n",
       "97                   NaN                               Academia,Academia   \n",
       "209                  NaN                                        Academia   \n",
       "232                  NaN                                        Academia   \n",
       "252                  NaN                             Academia,Government   \n",
       "272                  NaN                               Academia,Industry   \n",
       "...                  ...                                             ...   \n",
       "1439                 NaN                                        Industry   \n",
       "1453         132000000.0                                        Industry   \n",
       "1502                 NaN                               Industry,Academia   \n",
       "1504                 NaN                                        Industry   \n",
       "1516                 NaN                                        Industry   \n",
       "\n",
       "     Possibly over 1e23 FLOP Training cost trends 2 Training cost trends 3  \\\n",
       "97                       NaN                    NaN                    NaN   \n",
       "209                      NaN                    NaN                    NaN   \n",
       "232                      NaN                    NaN                    NaN   \n",
       "252                      NaN                    NaN                    NaN   \n",
       "272                      NaN                    NaN                    NaN   \n",
       "...                      ...                    ...                    ...   \n",
       "1439                     NaN                    NaN                    NaN   \n",
       "1453                     NaN                    NaN                    NaN   \n",
       "1502                     NaN                    NaN                    NaN   \n",
       "1504                     NaN                    NaN                    NaN   \n",
       "1516                     NaN                    NaN                    NaN   \n",
       "\n",
       "     Model open/closed Publication date (float)  top_10_at_release  \n",
       "97              Closed              1999.500000               True  \n",
       "209             Closed              2012.487852               True  \n",
       "232             Closed              2013.591547               True  \n",
       "252             Closed              2014.000000               True  \n",
       "272             Closed              2014.685832               True  \n",
       "...                ...                      ...                ...  \n",
       "1439            Closed              2023.890829               True  \n",
       "1453            Closed              2023.930356               True  \n",
       "1502            Closed              2024.143567               True  \n",
       "1504            Closed              2024.151781               True  \n",
       "1516            Closed              2024.183094               True  \n",
       "\n",
       "[87 rows x 63 columns]"
      ]
     },
     "execution_count": 80,
     "metadata": {},
     "output_type": "execute_result"
    }
   ],
   "source": [
    "access_df[(access_df['top_10_at_release'] == True) & (access_df['Model open/closed'] == 'Closed')]"
   ]
  },
  {
   "cell_type": "markdown",
   "metadata": {},
   "source": [
    "# Regression"
   ]
  },
  {
   "cell_type": "code",
   "execution_count": 112,
   "metadata": {},
   "outputs": [],
   "source": [
    "# tentative\n",
    "analysis_start_year = 2015\n",
    "filtered_access_df = access_df[(access_df[f'top_{n}_at_release'] == True) & (access_df['Publication date (float)'] >= analysis_start_year)]\n",
    "\n",
    "\n",
    "# filtered_access_df = access_df.loc[access_df['System'].isin(selected_systems)]"
   ]
  },
  {
   "cell_type": "code",
   "execution_count": 117,
   "metadata": {},
   "outputs": [],
   "source": [
    "filtered_access_df.loc[filtered_access_df['Model open/closed'] == 'Closed',['System', 'Publication date (float)', 'Training compute (FLOP)']].to_csv('test.csv')"
   ]
  },
  {
   "cell_type": "code",
   "execution_count": 83,
   "metadata": {},
   "outputs": [
    {
     "data": {
      "text/html": [
       "<table class=\"simpletable\">\n",
       "<caption>OLS Regression Results</caption>\n",
       "<tr>\n",
       "  <th>Dep. Variable:</th>            <td>y</td>        <th>  R-squared:         </th> <td>   0.709</td>\n",
       "</tr>\n",
       "<tr>\n",
       "  <th>Model:</th>                   <td>OLS</td>       <th>  Adj. R-squared:    </th> <td>   0.706</td>\n",
       "</tr>\n",
       "<tr>\n",
       "  <th>Method:</th>             <td>Least Squares</td>  <th>  F-statistic:       </th> <td>   214.5</td>\n",
       "</tr>\n",
       "<tr>\n",
       "  <th>Date:</th>             <td>Wed, 05 Jun 2024</td> <th>  Prob (F-statistic):</th> <td>2.55e-25</td>\n",
       "</tr>\n",
       "<tr>\n",
       "  <th>Time:</th>                 <td>11:11:55</td>     <th>  Log-Likelihood:    </th> <td> -70.996</td>\n",
       "</tr>\n",
       "<tr>\n",
       "  <th>No. Observations:</th>      <td>    90</td>      <th>  AIC:               </th> <td>   146.0</td>\n",
       "</tr>\n",
       "<tr>\n",
       "  <th>Df Residuals:</th>          <td>    88</td>      <th>  BIC:               </th> <td>   151.0</td>\n",
       "</tr>\n",
       "<tr>\n",
       "  <th>Df Model:</th>              <td>     1</td>      <th>                     </th>     <td> </td>   \n",
       "</tr>\n",
       "<tr>\n",
       "  <th>Covariance Type:</th>      <td>nonrobust</td>    <th>                     </th>     <td> </td>   \n",
       "</tr>\n",
       "</table>\n",
       "<table class=\"simpletable\">\n",
       "<tr>\n",
       "    <td></td>       <th>coef</th>     <th>std err</th>      <th>t</th>      <th>P>|t|</th>  <th>[0.025</th>    <th>0.975]</th>  \n",
       "</tr>\n",
       "<tr>\n",
       "  <th>const</th> <td>-1340.5167</td> <td>   93.122</td> <td>  -14.395</td> <td> 0.000</td> <td>-1525.577</td> <td>-1155.457</td>\n",
       "</tr>\n",
       "<tr>\n",
       "  <th>x1</th>    <td>    0.6744</td> <td>    0.046</td> <td>   14.646</td> <td> 0.000</td> <td>    0.583</td> <td>    0.766</td>\n",
       "</tr>\n",
       "</table>\n",
       "<table class=\"simpletable\">\n",
       "<tr>\n",
       "  <th>Omnibus:</th>       <td> 4.938</td> <th>  Durbin-Watson:     </th> <td>   2.479</td>\n",
       "</tr>\n",
       "<tr>\n",
       "  <th>Prob(Omnibus):</th> <td> 0.085</td> <th>  Jarque-Bera (JB):  </th> <td>   4.995</td>\n",
       "</tr>\n",
       "<tr>\n",
       "  <th>Skew:</th>          <td> 0.555</td> <th>  Prob(JB):          </th> <td>  0.0823</td>\n",
       "</tr>\n",
       "<tr>\n",
       "  <th>Kurtosis:</th>      <td> 2.682</td> <th>  Cond. No.          </th> <td>3.32e+06</td>\n",
       "</tr>\n",
       "</table><br/><br/>Notes:<br/>[1] Standard Errors assume that the covariance matrix of the errors is correctly specified.<br/>[2] The condition number is large, 3.32e+06. This might indicate that there are<br/>strong multicollinearity or other numerical problems."
      ],
      "text/latex": [
       "\\begin{center}\n",
       "\\begin{tabular}{lclc}\n",
       "\\toprule\n",
       "\\textbf{Dep. Variable:}    &        y         & \\textbf{  R-squared:         } &     0.709   \\\\\n",
       "\\textbf{Model:}            &       OLS        & \\textbf{  Adj. R-squared:    } &     0.706   \\\\\n",
       "\\textbf{Method:}           &  Least Squares   & \\textbf{  F-statistic:       } &     214.5   \\\\\n",
       "\\textbf{Date:}             & Wed, 05 Jun 2024 & \\textbf{  Prob (F-statistic):} &  2.55e-25   \\\\\n",
       "\\textbf{Time:}             &     11:11:55     & \\textbf{  Log-Likelihood:    } &   -70.996   \\\\\n",
       "\\textbf{No. Observations:} &          90      & \\textbf{  AIC:               } &     146.0   \\\\\n",
       "\\textbf{Df Residuals:}     &          88      & \\textbf{  BIC:               } &     151.0   \\\\\n",
       "\\textbf{Df Model:}         &           1      & \\textbf{                     } &             \\\\\n",
       "\\textbf{Covariance Type:}  &    nonrobust     & \\textbf{                     } &             \\\\\n",
       "\\bottomrule\n",
       "\\end{tabular}\n",
       "\\begin{tabular}{lcccccc}\n",
       "               & \\textbf{coef} & \\textbf{std err} & \\textbf{t} & \\textbf{P$> |$t$|$} & \\textbf{[0.025} & \\textbf{0.975]}  \\\\\n",
       "\\midrule\n",
       "\\textbf{const} &   -1340.5167  &       93.122     &   -14.395  &         0.000        &    -1525.577    &    -1155.457     \\\\\n",
       "\\textbf{x1}    &       0.6744  &        0.046     &    14.646  &         0.000        &        0.583    &        0.766     \\\\\n",
       "\\bottomrule\n",
       "\\end{tabular}\n",
       "\\begin{tabular}{lclc}\n",
       "\\textbf{Omnibus:}       &  4.938 & \\textbf{  Durbin-Watson:     } &    2.479  \\\\\n",
       "\\textbf{Prob(Omnibus):} &  0.085 & \\textbf{  Jarque-Bera (JB):  } &    4.995  \\\\\n",
       "\\textbf{Skew:}          &  0.555 & \\textbf{  Prob(JB):          } &   0.0823  \\\\\n",
       "\\textbf{Kurtosis:}      &  2.682 & \\textbf{  Cond. No.          } & 3.32e+06  \\\\\n",
       "\\bottomrule\n",
       "\\end{tabular}\n",
       "%\\caption{OLS Regression Results}\n",
       "\\end{center}\n",
       "\n",
       "Notes: \\newline\n",
       " [1] Standard Errors assume that the covariance matrix of the errors is correctly specified. \\newline\n",
       " [2] The condition number is large, 3.32e+06. This might indicate that there are \\newline\n",
       " strong multicollinearity or other numerical problems."
      ],
      "text/plain": [
       "<class 'statsmodels.iolib.summary.Summary'>\n",
       "\"\"\"\n",
       "                            OLS Regression Results                            \n",
       "==============================================================================\n",
       "Dep. Variable:                      y   R-squared:                       0.709\n",
       "Model:                            OLS   Adj. R-squared:                  0.706\n",
       "Method:                 Least Squares   F-statistic:                     214.5\n",
       "Date:                Wed, 05 Jun 2024   Prob (F-statistic):           2.55e-25\n",
       "Time:                        11:11:55   Log-Likelihood:                -70.996\n",
       "No. Observations:                  90   AIC:                             146.0\n",
       "Df Residuals:                      88   BIC:                             151.0\n",
       "Df Model:                           1                                         \n",
       "Covariance Type:            nonrobust                                         \n",
       "==============================================================================\n",
       "                 coef    std err          t      P>|t|      [0.025      0.975]\n",
       "------------------------------------------------------------------------------\n",
       "const      -1340.5167     93.122    -14.395      0.000   -1525.577   -1155.457\n",
       "x1             0.6744      0.046     14.646      0.000       0.583       0.766\n",
       "==============================================================================\n",
       "Omnibus:                        4.938   Durbin-Watson:                   2.479\n",
       "Prob(Omnibus):                  0.085   Jarque-Bera (JB):                4.995\n",
       "Skew:                           0.555   Prob(JB):                       0.0823\n",
       "Kurtosis:                       2.682   Cond. No.                     3.32e+06\n",
       "==============================================================================\n",
       "\n",
       "Notes:\n",
       "[1] Standard Errors assume that the covariance matrix of the errors is correctly specified.\n",
       "[2] The condition number is large, 3.32e+06. This might indicate that there are\n",
       "strong multicollinearity or other numerical problems.\n",
       "\"\"\""
      ]
     },
     "execution_count": 83,
     "metadata": {},
     "output_type": "execute_result"
    }
   ],
   "source": [
    "reg_results = fit_ols_regression(\n",
    "    filtered_access_df,\n",
    "    ['Publication date (float)'],\n",
    "    'Training compute (FLOP)',\n",
    "    logy=True\n",
    ")\n",
    "reg_results.summary()"
   ]
  },
  {
   "cell_type": "code",
   "execution_count": 84,
   "metadata": {},
   "outputs": [
    {
     "data": {
      "text/html": [
       "<table class=\"simpletable\">\n",
       "<caption>OLS Regression Results</caption>\n",
       "<tr>\n",
       "  <th>Dep. Variable:</th>            <td>y</td>        <th>  R-squared:         </th> <td>   0.848</td>\n",
       "</tr>\n",
       "<tr>\n",
       "  <th>Model:</th>                   <td>OLS</td>       <th>  Adj. R-squared:    </th> <td>   0.845</td>\n",
       "</tr>\n",
       "<tr>\n",
       "  <th>Method:</th>             <td>Least Squares</td>  <th>  F-statistic:       </th> <td>   267.5</td>\n",
       "</tr>\n",
       "<tr>\n",
       "  <th>Date:</th>             <td>Wed, 05 Jun 2024</td> <th>  Prob (F-statistic):</th> <td>2.94e-21</td>\n",
       "</tr>\n",
       "<tr>\n",
       "  <th>Time:</th>                 <td>11:11:55</td>     <th>  Log-Likelihood:    </th> <td> -16.560</td>\n",
       "</tr>\n",
       "<tr>\n",
       "  <th>No. Observations:</th>      <td>    50</td>      <th>  AIC:               </th> <td>   37.12</td>\n",
       "</tr>\n",
       "<tr>\n",
       "  <th>Df Residuals:</th>          <td>    48</td>      <th>  BIC:               </th> <td>   40.94</td>\n",
       "</tr>\n",
       "<tr>\n",
       "  <th>Df Model:</th>              <td>     1</td>      <th>                     </th>     <td> </td>   \n",
       "</tr>\n",
       "<tr>\n",
       "  <th>Covariance Type:</th>      <td>nonrobust</td>    <th>                     </th>     <td> </td>   \n",
       "</tr>\n",
       "</table>\n",
       "<table class=\"simpletable\">\n",
       "<tr>\n",
       "    <td></td>       <th>coef</th>     <th>std err</th>      <th>t</th>      <th>P>|t|</th>  <th>[0.025</th>    <th>0.975]</th>  \n",
       "</tr>\n",
       "<tr>\n",
       "  <th>const</th> <td>-1292.5623</td> <td>   80.448</td> <td>  -16.067</td> <td> 0.000</td> <td>-1454.314</td> <td>-1130.811</td>\n",
       "</tr>\n",
       "<tr>\n",
       "  <th>x1</th>    <td>    0.6506</td> <td>    0.040</td> <td>   16.354</td> <td> 0.000</td> <td>    0.571</td> <td>    0.731</td>\n",
       "</tr>\n",
       "</table>\n",
       "<table class=\"simpletable\">\n",
       "<tr>\n",
       "  <th>Omnibus:</th>       <td> 2.164</td> <th>  Durbin-Watson:     </th> <td>   2.344</td>\n",
       "</tr>\n",
       "<tr>\n",
       "  <th>Prob(Omnibus):</th> <td> 0.339</td> <th>  Jarque-Bera (JB):  </th> <td>   1.951</td>\n",
       "</tr>\n",
       "<tr>\n",
       "  <th>Skew:</th>          <td> 0.380</td> <th>  Prob(JB):          </th> <td>   0.377</td>\n",
       "</tr>\n",
       "<tr>\n",
       "  <th>Kurtosis:</th>      <td> 2.400</td> <th>  Cond. No.          </th> <td>3.34e+06</td>\n",
       "</tr>\n",
       "</table><br/><br/>Notes:<br/>[1] Standard Errors assume that the covariance matrix of the errors is correctly specified.<br/>[2] The condition number is large, 3.34e+06. This might indicate that there are<br/>strong multicollinearity or other numerical problems."
      ],
      "text/latex": [
       "\\begin{center}\n",
       "\\begin{tabular}{lclc}\n",
       "\\toprule\n",
       "\\textbf{Dep. Variable:}    &        y         & \\textbf{  R-squared:         } &     0.848   \\\\\n",
       "\\textbf{Model:}            &       OLS        & \\textbf{  Adj. R-squared:    } &     0.845   \\\\\n",
       "\\textbf{Method:}           &  Least Squares   & \\textbf{  F-statistic:       } &     267.5   \\\\\n",
       "\\textbf{Date:}             & Wed, 05 Jun 2024 & \\textbf{  Prob (F-statistic):} &  2.94e-21   \\\\\n",
       "\\textbf{Time:}             &     11:11:55     & \\textbf{  Log-Likelihood:    } &   -16.560   \\\\\n",
       "\\textbf{No. Observations:} &          50      & \\textbf{  AIC:               } &     37.12   \\\\\n",
       "\\textbf{Df Residuals:}     &          48      & \\textbf{  BIC:               } &     40.94   \\\\\n",
       "\\textbf{Df Model:}         &           1      & \\textbf{                     } &             \\\\\n",
       "\\textbf{Covariance Type:}  &    nonrobust     & \\textbf{                     } &             \\\\\n",
       "\\bottomrule\n",
       "\\end{tabular}\n",
       "\\begin{tabular}{lcccccc}\n",
       "               & \\textbf{coef} & \\textbf{std err} & \\textbf{t} & \\textbf{P$> |$t$|$} & \\textbf{[0.025} & \\textbf{0.975]}  \\\\\n",
       "\\midrule\n",
       "\\textbf{const} &   -1292.5623  &       80.448     &   -16.067  &         0.000        &    -1454.314    &    -1130.811     \\\\\n",
       "\\textbf{x1}    &       0.6506  &        0.040     &    16.354  &         0.000        &        0.571    &        0.731     \\\\\n",
       "\\bottomrule\n",
       "\\end{tabular}\n",
       "\\begin{tabular}{lclc}\n",
       "\\textbf{Omnibus:}       &  2.164 & \\textbf{  Durbin-Watson:     } &    2.344  \\\\\n",
       "\\textbf{Prob(Omnibus):} &  0.339 & \\textbf{  Jarque-Bera (JB):  } &    1.951  \\\\\n",
       "\\textbf{Skew:}          &  0.380 & \\textbf{  Prob(JB):          } &    0.377  \\\\\n",
       "\\textbf{Kurtosis:}      &  2.400 & \\textbf{  Cond. No.          } & 3.34e+06  \\\\\n",
       "\\bottomrule\n",
       "\\end{tabular}\n",
       "%\\caption{OLS Regression Results}\n",
       "\\end{center}\n",
       "\n",
       "Notes: \\newline\n",
       " [1] Standard Errors assume that the covariance matrix of the errors is correctly specified. \\newline\n",
       " [2] The condition number is large, 3.34e+06. This might indicate that there are \\newline\n",
       " strong multicollinearity or other numerical problems."
      ],
      "text/plain": [
       "<class 'statsmodels.iolib.summary.Summary'>\n",
       "\"\"\"\n",
       "                            OLS Regression Results                            \n",
       "==============================================================================\n",
       "Dep. Variable:                      y   R-squared:                       0.848\n",
       "Model:                            OLS   Adj. R-squared:                  0.845\n",
       "Method:                 Least Squares   F-statistic:                     267.5\n",
       "Date:                Wed, 05 Jun 2024   Prob (F-statistic):           2.94e-21\n",
       "Time:                        11:11:55   Log-Likelihood:                -16.560\n",
       "No. Observations:                  50   AIC:                             37.12\n",
       "Df Residuals:                      48   BIC:                             40.94\n",
       "Df Model:                           1                                         \n",
       "Covariance Type:            nonrobust                                         \n",
       "==============================================================================\n",
       "                 coef    std err          t      P>|t|      [0.025      0.975]\n",
       "------------------------------------------------------------------------------\n",
       "const      -1292.5623     80.448    -16.067      0.000   -1454.314   -1130.811\n",
       "x1             0.6506      0.040     16.354      0.000       0.571       0.731\n",
       "==============================================================================\n",
       "Omnibus:                        2.164   Durbin-Watson:                   2.344\n",
       "Prob(Omnibus):                  0.339   Jarque-Bera (JB):                1.951\n",
       "Skew:                           0.380   Prob(JB):                        0.377\n",
       "Kurtosis:                       2.400   Cond. No.                     3.34e+06\n",
       "==============================================================================\n",
       "\n",
       "Notes:\n",
       "[1] Standard Errors assume that the covariance matrix of the errors is correctly specified.\n",
       "[2] The condition number is large, 3.34e+06. This might indicate that there are\n",
       "strong multicollinearity or other numerical problems.\n",
       "\"\"\""
      ]
     },
     "execution_count": 84,
     "metadata": {},
     "output_type": "execute_result"
    }
   ],
   "source": [
    "open_reg_results = fit_ols_regression(\n",
    "    filtered_access_df[filtered_access_df['Model open/closed'] == 'Open'],\n",
    "    ['Publication date (float)'],\n",
    "    'Training compute (FLOP)',\n",
    "    logy=True\n",
    ")\n",
    "open_reg_results.summary()"
   ]
  },
  {
   "cell_type": "code",
   "execution_count": 85,
   "metadata": {},
   "outputs": [
    {
     "data": {
      "text/html": [
       "<table class=\"simpletable\">\n",
       "<caption>OLS Regression Results</caption>\n",
       "<tr>\n",
       "  <th>Dep. Variable:</th>            <td>y</td>        <th>  R-squared:         </th> <td>   0.808</td>\n",
       "</tr>\n",
       "<tr>\n",
       "  <th>Model:</th>                   <td>OLS</td>       <th>  Adj. R-squared:    </th> <td>   0.803</td>\n",
       "</tr>\n",
       "<tr>\n",
       "  <th>Method:</th>             <td>Least Squares</td>  <th>  F-statistic:       </th> <td>   159.8</td>\n",
       "</tr>\n",
       "<tr>\n",
       "  <th>Date:</th>             <td>Wed, 05 Jun 2024</td> <th>  Prob (F-statistic):</th> <td>3.47e-15</td>\n",
       "</tr>\n",
       "<tr>\n",
       "  <th>Time:</th>                 <td>11:11:55</td>     <th>  Log-Likelihood:    </th> <td> -24.562</td>\n",
       "</tr>\n",
       "<tr>\n",
       "  <th>No. Observations:</th>      <td>    40</td>      <th>  AIC:               </th> <td>   53.12</td>\n",
       "</tr>\n",
       "<tr>\n",
       "  <th>Df Residuals:</th>          <td>    38</td>      <th>  BIC:               </th> <td>   56.50</td>\n",
       "</tr>\n",
       "<tr>\n",
       "  <th>Df Model:</th>              <td>     1</td>      <th>                     </th>     <td> </td>   \n",
       "</tr>\n",
       "<tr>\n",
       "  <th>Covariance Type:</th>      <td>nonrobust</td>    <th>                     </th>     <td> </td>   \n",
       "</tr>\n",
       "</table>\n",
       "<table class=\"simpletable\">\n",
       "<tr>\n",
       "    <td></td>       <th>coef</th>     <th>std err</th>      <th>t</th>      <th>P>|t|</th>  <th>[0.025</th>    <th>0.975]</th>  \n",
       "</tr>\n",
       "<tr>\n",
       "  <th>const</th> <td>-1470.2172</td> <td>  118.172</td> <td>  -12.441</td> <td> 0.000</td> <td>-1709.445</td> <td>-1230.990</td>\n",
       "</tr>\n",
       "<tr>\n",
       "  <th>x1</th>    <td>    0.7388</td> <td>    0.058</td> <td>   12.642</td> <td> 0.000</td> <td>    0.620</td> <td>    0.857</td>\n",
       "</tr>\n",
       "</table>\n",
       "<table class=\"simpletable\">\n",
       "<tr>\n",
       "  <th>Omnibus:</th>       <td> 1.631</td> <th>  Durbin-Watson:     </th> <td>   1.876</td>\n",
       "</tr>\n",
       "<tr>\n",
       "  <th>Prob(Omnibus):</th> <td> 0.443</td> <th>  Jarque-Bera (JB):  </th> <td>   1.485</td>\n",
       "</tr>\n",
       "<tr>\n",
       "  <th>Skew:</th>          <td> 0.447</td> <th>  Prob(JB):          </th> <td>   0.476</td>\n",
       "</tr>\n",
       "<tr>\n",
       "  <th>Kurtosis:</th>      <td> 2.699</td> <th>  Cond. No.          </th> <td>3.29e+06</td>\n",
       "</tr>\n",
       "</table><br/><br/>Notes:<br/>[1] Standard Errors assume that the covariance matrix of the errors is correctly specified.<br/>[2] The condition number is large, 3.29e+06. This might indicate that there are<br/>strong multicollinearity or other numerical problems."
      ],
      "text/latex": [
       "\\begin{center}\n",
       "\\begin{tabular}{lclc}\n",
       "\\toprule\n",
       "\\textbf{Dep. Variable:}    &        y         & \\textbf{  R-squared:         } &     0.808   \\\\\n",
       "\\textbf{Model:}            &       OLS        & \\textbf{  Adj. R-squared:    } &     0.803   \\\\\n",
       "\\textbf{Method:}           &  Least Squares   & \\textbf{  F-statistic:       } &     159.8   \\\\\n",
       "\\textbf{Date:}             & Wed, 05 Jun 2024 & \\textbf{  Prob (F-statistic):} &  3.47e-15   \\\\\n",
       "\\textbf{Time:}             &     11:11:55     & \\textbf{  Log-Likelihood:    } &   -24.562   \\\\\n",
       "\\textbf{No. Observations:} &          40      & \\textbf{  AIC:               } &     53.12   \\\\\n",
       "\\textbf{Df Residuals:}     &          38      & \\textbf{  BIC:               } &     56.50   \\\\\n",
       "\\textbf{Df Model:}         &           1      & \\textbf{                     } &             \\\\\n",
       "\\textbf{Covariance Type:}  &    nonrobust     & \\textbf{                     } &             \\\\\n",
       "\\bottomrule\n",
       "\\end{tabular}\n",
       "\\begin{tabular}{lcccccc}\n",
       "               & \\textbf{coef} & \\textbf{std err} & \\textbf{t} & \\textbf{P$> |$t$|$} & \\textbf{[0.025} & \\textbf{0.975]}  \\\\\n",
       "\\midrule\n",
       "\\textbf{const} &   -1470.2172  &      118.172     &   -12.441  &         0.000        &    -1709.445    &    -1230.990     \\\\\n",
       "\\textbf{x1}    &       0.7388  &        0.058     &    12.642  &         0.000        &        0.620    &        0.857     \\\\\n",
       "\\bottomrule\n",
       "\\end{tabular}\n",
       "\\begin{tabular}{lclc}\n",
       "\\textbf{Omnibus:}       &  1.631 & \\textbf{  Durbin-Watson:     } &    1.876  \\\\\n",
       "\\textbf{Prob(Omnibus):} &  0.443 & \\textbf{  Jarque-Bera (JB):  } &    1.485  \\\\\n",
       "\\textbf{Skew:}          &  0.447 & \\textbf{  Prob(JB):          } &    0.476  \\\\\n",
       "\\textbf{Kurtosis:}      &  2.699 & \\textbf{  Cond. No.          } & 3.29e+06  \\\\\n",
       "\\bottomrule\n",
       "\\end{tabular}\n",
       "%\\caption{OLS Regression Results}\n",
       "\\end{center}\n",
       "\n",
       "Notes: \\newline\n",
       " [1] Standard Errors assume that the covariance matrix of the errors is correctly specified. \\newline\n",
       " [2] The condition number is large, 3.29e+06. This might indicate that there are \\newline\n",
       " strong multicollinearity or other numerical problems."
      ],
      "text/plain": [
       "<class 'statsmodels.iolib.summary.Summary'>\n",
       "\"\"\"\n",
       "                            OLS Regression Results                            \n",
       "==============================================================================\n",
       "Dep. Variable:                      y   R-squared:                       0.808\n",
       "Model:                            OLS   Adj. R-squared:                  0.803\n",
       "Method:                 Least Squares   F-statistic:                     159.8\n",
       "Date:                Wed, 05 Jun 2024   Prob (F-statistic):           3.47e-15\n",
       "Time:                        11:11:55   Log-Likelihood:                -24.562\n",
       "No. Observations:                  40   AIC:                             53.12\n",
       "Df Residuals:                      38   BIC:                             56.50\n",
       "Df Model:                           1                                         \n",
       "Covariance Type:            nonrobust                                         \n",
       "==============================================================================\n",
       "                 coef    std err          t      P>|t|      [0.025      0.975]\n",
       "------------------------------------------------------------------------------\n",
       "const      -1470.2172    118.172    -12.441      0.000   -1709.445   -1230.990\n",
       "x1             0.7388      0.058     12.642      0.000       0.620       0.857\n",
       "==============================================================================\n",
       "Omnibus:                        1.631   Durbin-Watson:                   1.876\n",
       "Prob(Omnibus):                  0.443   Jarque-Bera (JB):                1.485\n",
       "Skew:                           0.447   Prob(JB):                        0.476\n",
       "Kurtosis:                       2.699   Cond. No.                     3.29e+06\n",
       "==============================================================================\n",
       "\n",
       "Notes:\n",
       "[1] Standard Errors assume that the covariance matrix of the errors is correctly specified.\n",
       "[2] The condition number is large, 3.29e+06. This might indicate that there are\n",
       "strong multicollinearity or other numerical problems.\n",
       "\"\"\""
      ]
     },
     "execution_count": 85,
     "metadata": {},
     "output_type": "execute_result"
    }
   ],
   "source": [
    "closed_reg_results = fit_ols_regression(\n",
    "    filtered_access_df[filtered_access_df['Model open/closed'] == 'Closed'],\n",
    "    ['Publication date (float)'],\n",
    "    'Training compute (FLOP)',\n",
    "    logy=True\n",
    ")\n",
    "closed_reg_results.summary()"
   ]
  },
  {
   "cell_type": "code",
   "execution_count": 86,
   "metadata": {},
   "outputs": [
    {
     "name": "stdout",
     "output_type": "stream",
     "text": [
      "All:\n",
      "Adj. R^2=0.71\n",
      "0.67 OOMs/year (95% CI: 0.58, 0.77)\n",
      "4.7x/year (95% CI: 3.8x, 5.8x)\n",
      "doubling time of 5 months (95% CI: 5, 6)\n",
      "Open:\n",
      "Adj. R^2=0.84\n",
      "0.65 OOMs/year (95% CI: 0.57, 0.73)\n",
      "4.5x/year (95% CI: 3.7x, 5.4x)\n",
      "doubling time of 6 months (95% CI: 5, 6)\n",
      "Closed:\n",
      "Adj. R^2=0.80\n",
      "0.74 OOMs/year (95% CI: 0.62, 0.86)\n",
      "5.5x/year (95% CI: 4.2x, 7.2x)\n",
      "doubling time of 5 months (95% CI: 4, 6)\n"
     ]
    }
   ],
   "source": [
    "print('All:')\n",
    "print_growth_rates(reg_results)\n",
    "print('Open:')\n",
    "print_growth_rates(open_reg_results)\n",
    "print('Closed:')\n",
    "print_growth_rates(closed_reg_results)"
   ]
  },
  {
   "cell_type": "code",
   "execution_count": 87,
   "metadata": {},
   "outputs": [
    {
     "data": {
      "text/plain": [
       "<statsmodels.regression.linear_model.RegressionResultsWrapper at 0x31a881110>"
      ]
     },
     "execution_count": 87,
     "metadata": {},
     "output_type": "execute_result"
    }
   ],
   "source": [
    "closed_reg_results"
   ]
  },
  {
   "cell_type": "markdown",
   "metadata": {},
   "source": [
    "## Predictions"
   ]
  },
  {
   "cell_type": "code",
   "execution_count": 88,
   "metadata": {},
   "outputs": [
    {
     "data": {
      "text/html": [
       "<div>\n",
       "<style scoped>\n",
       "    .dataframe tbody tr th:only-of-type {\n",
       "        vertical-align: middle;\n",
       "    }\n",
       "\n",
       "    .dataframe tbody tr th {\n",
       "        vertical-align: top;\n",
       "    }\n",
       "\n",
       "    .dataframe thead th {\n",
       "        text-align: right;\n",
       "    }\n",
       "</style>\n",
       "<table border=\"1\" class=\"dataframe\">\n",
       "  <thead>\n",
       "    <tr style=\"text-align: right;\">\n",
       "      <th></th>\n",
       "      <th>Publication date (float)</th>\n",
       "    </tr>\n",
       "  </thead>\n",
       "  <tbody>\n",
       "    <tr>\n",
       "      <th>0</th>\n",
       "      <td>2020.000000</td>\n",
       "    </tr>\n",
       "    <tr>\n",
       "      <th>1</th>\n",
       "      <td>2020.083333</td>\n",
       "    </tr>\n",
       "    <tr>\n",
       "      <th>2</th>\n",
       "      <td>2020.166667</td>\n",
       "    </tr>\n",
       "    <tr>\n",
       "      <th>3</th>\n",
       "      <td>2020.250000</td>\n",
       "    </tr>\n",
       "    <tr>\n",
       "      <th>4</th>\n",
       "      <td>2020.333333</td>\n",
       "    </tr>\n",
       "    <tr>\n",
       "      <th>...</th>\n",
       "      <td>...</td>\n",
       "    </tr>\n",
       "    <tr>\n",
       "      <th>56</th>\n",
       "      <td>2024.666667</td>\n",
       "    </tr>\n",
       "    <tr>\n",
       "      <th>57</th>\n",
       "      <td>2024.750000</td>\n",
       "    </tr>\n",
       "    <tr>\n",
       "      <th>58</th>\n",
       "      <td>2024.833333</td>\n",
       "    </tr>\n",
       "    <tr>\n",
       "      <th>59</th>\n",
       "      <td>2024.916667</td>\n",
       "    </tr>\n",
       "    <tr>\n",
       "      <th>60</th>\n",
       "      <td>2025.000000</td>\n",
       "    </tr>\n",
       "  </tbody>\n",
       "</table>\n",
       "<p>61 rows × 1 columns</p>\n",
       "</div>"
      ],
      "text/plain": [
       "    Publication date (float)\n",
       "0                2020.000000\n",
       "1                2020.083333\n",
       "2                2020.166667\n",
       "3                2020.250000\n",
       "4                2020.333333\n",
       "..                       ...\n",
       "56               2024.666667\n",
       "57               2024.750000\n",
       "58               2024.833333\n",
       "59               2024.916667\n",
       "60               2025.000000\n",
       "\n",
       "[61 rows x 1 columns]"
      ]
     },
     "execution_count": 88,
     "metadata": {},
     "output_type": "execute_result"
    }
   ],
   "source": [
    "pred_start_year = analysis_start_year\n",
    "pred_end_year = 2025\n",
    "pred_start_date = f'{pred_start_year}-01-01'\n",
    "pred_end_date = f'{pred_end_year}-01-01'\n",
    "num_preds = (pred_end_year - pred_start_year) * 12 + 1\n",
    "\n",
    "pred_years = pd.DataFrame({'Publication date (float)': np.linspace(pred_start_year, pred_end_year, num_preds)})\n",
    "pred_years"
   ]
  },
  {
   "cell_type": "code",
   "execution_count": 89,
   "metadata": {},
   "outputs": [
    {
     "data": {
      "text/html": [
       "<div>\n",
       "<style scoped>\n",
       "    .dataframe tbody tr th:only-of-type {\n",
       "        vertical-align: middle;\n",
       "    }\n",
       "\n",
       "    .dataframe tbody tr th {\n",
       "        vertical-align: top;\n",
       "    }\n",
       "\n",
       "    .dataframe thead th {\n",
       "        text-align: right;\n",
       "    }\n",
       "</style>\n",
       "<table border=\"1\" class=\"dataframe\">\n",
       "  <thead>\n",
       "    <tr style=\"text-align: right;\">\n",
       "      <th></th>\n",
       "      <th>mean</th>\n",
       "      <th>mean_se</th>\n",
       "      <th>mean_ci_lower</th>\n",
       "      <th>mean_ci_upper</th>\n",
       "      <th>obs_ci_lower</th>\n",
       "      <th>obs_ci_upper</th>\n",
       "      <th>Publication date (float)</th>\n",
       "      <th>Publication date</th>\n",
       "    </tr>\n",
       "  </thead>\n",
       "  <tbody>\n",
       "    <tr>\n",
       "      <th>0</th>\n",
       "      <td>21.591590</td>\n",
       "      <td>0.102931</td>\n",
       "      <td>21.384634</td>\n",
       "      <td>21.798546</td>\n",
       "      <td>20.869779</td>\n",
       "      <td>22.313400</td>\n",
       "      <td>2020.000000</td>\n",
       "      <td>2020-01-01</td>\n",
       "    </tr>\n",
       "    <tr>\n",
       "      <th>1</th>\n",
       "      <td>21.645804</td>\n",
       "      <td>0.100021</td>\n",
       "      <td>21.444698</td>\n",
       "      <td>21.846910</td>\n",
       "      <td>20.925649</td>\n",
       "      <td>22.365959</td>\n",
       "      <td>2020.083333</td>\n",
       "      <td>2020-01-31</td>\n",
       "    </tr>\n",
       "    <tr>\n",
       "      <th>2</th>\n",
       "      <td>21.700018</td>\n",
       "      <td>0.097138</td>\n",
       "      <td>21.504709</td>\n",
       "      <td>21.895327</td>\n",
       "      <td>20.981461</td>\n",
       "      <td>22.418576</td>\n",
       "      <td>2020.166667</td>\n",
       "      <td>2020-03-02</td>\n",
       "    </tr>\n",
       "    <tr>\n",
       "      <th>3</th>\n",
       "      <td>21.754233</td>\n",
       "      <td>0.094283</td>\n",
       "      <td>21.564664</td>\n",
       "      <td>21.943801</td>\n",
       "      <td>21.037214</td>\n",
       "      <td>22.471251</td>\n",
       "      <td>2020.250000</td>\n",
       "      <td>2020-04-01</td>\n",
       "    </tr>\n",
       "    <tr>\n",
       "      <th>4</th>\n",
       "      <td>21.808447</td>\n",
       "      <td>0.091459</td>\n",
       "      <td>21.624556</td>\n",
       "      <td>21.992338</td>\n",
       "      <td>21.092908</td>\n",
       "      <td>22.523985</td>\n",
       "      <td>2020.333333</td>\n",
       "      <td>2020-05-01</td>\n",
       "    </tr>\n",
       "    <tr>\n",
       "      <th>...</th>\n",
       "      <td>...</td>\n",
       "      <td>...</td>\n",
       "      <td>...</td>\n",
       "      <td>...</td>\n",
       "      <td>...</td>\n",
       "      <td>...</td>\n",
       "      <td>...</td>\n",
       "      <td>...</td>\n",
       "    </tr>\n",
       "    <tr>\n",
       "      <th>56</th>\n",
       "      <td>24.627589</td>\n",
       "      <td>0.106664</td>\n",
       "      <td>24.413126</td>\n",
       "      <td>24.842052</td>\n",
       "      <td>23.903590</td>\n",
       "      <td>25.351588</td>\n",
       "      <td>2024.666667</td>\n",
       "      <td>2024-09-01</td>\n",
       "    </tr>\n",
       "    <tr>\n",
       "      <th>57</th>\n",
       "      <td>24.681803</td>\n",
       "      <td>0.109625</td>\n",
       "      <td>24.461387</td>\n",
       "      <td>24.902219</td>\n",
       "      <td>23.956019</td>\n",
       "      <td>25.407588</td>\n",
       "      <td>2024.750000</td>\n",
       "      <td>2024-10-01</td>\n",
       "    </tr>\n",
       "    <tr>\n",
       "      <th>58</th>\n",
       "      <td>24.736018</td>\n",
       "      <td>0.112606</td>\n",
       "      <td>24.509609</td>\n",
       "      <td>24.962426</td>\n",
       "      <td>24.008391</td>\n",
       "      <td>25.463644</td>\n",
       "      <td>2024.833333</td>\n",
       "      <td>2024-10-31</td>\n",
       "    </tr>\n",
       "    <tr>\n",
       "      <th>59</th>\n",
       "      <td>24.790232</td>\n",
       "      <td>0.115604</td>\n",
       "      <td>24.557794</td>\n",
       "      <td>25.022670</td>\n",
       "      <td>24.060707</td>\n",
       "      <td>25.519757</td>\n",
       "      <td>2024.916667</td>\n",
       "      <td>2024-12-01</td>\n",
       "    </tr>\n",
       "    <tr>\n",
       "      <th>60</th>\n",
       "      <td>24.844446</td>\n",
       "      <td>0.118620</td>\n",
       "      <td>24.605945</td>\n",
       "      <td>25.082948</td>\n",
       "      <td>24.112966</td>\n",
       "      <td>25.575926</td>\n",
       "      <td>2025.000000</td>\n",
       "      <td>2025-01-01</td>\n",
       "    </tr>\n",
       "  </tbody>\n",
       "</table>\n",
       "<p>61 rows × 8 columns</p>\n",
       "</div>"
      ],
      "text/plain": [
       "         mean   mean_se  mean_ci_lower  mean_ci_upper  obs_ci_lower  \\\n",
       "0   21.591590  0.102931      21.384634      21.798546     20.869779   \n",
       "1   21.645804  0.100021      21.444698      21.846910     20.925649   \n",
       "2   21.700018  0.097138      21.504709      21.895327     20.981461   \n",
       "3   21.754233  0.094283      21.564664      21.943801     21.037214   \n",
       "4   21.808447  0.091459      21.624556      21.992338     21.092908   \n",
       "..        ...       ...            ...            ...           ...   \n",
       "56  24.627589  0.106664      24.413126      24.842052     23.903590   \n",
       "57  24.681803  0.109625      24.461387      24.902219     23.956019   \n",
       "58  24.736018  0.112606      24.509609      24.962426     24.008391   \n",
       "59  24.790232  0.115604      24.557794      25.022670     24.060707   \n",
       "60  24.844446  0.118620      24.605945      25.082948     24.112966   \n",
       "\n",
       "    obs_ci_upper  Publication date (float) Publication date  \n",
       "0      22.313400               2020.000000       2020-01-01  \n",
       "1      22.365959               2020.083333       2020-01-31  \n",
       "2      22.418576               2020.166667       2020-03-02  \n",
       "3      22.471251               2020.250000       2020-04-01  \n",
       "4      22.523985               2020.333333       2020-05-01  \n",
       "..           ...                       ...              ...  \n",
       "56     25.351588               2024.666667       2024-09-01  \n",
       "57     25.407588               2024.750000       2024-10-01  \n",
       "58     25.463644               2024.833333       2024-10-31  \n",
       "59     25.519757               2024.916667       2024-12-01  \n",
       "60     25.575926               2025.000000       2025-01-01  \n",
       "\n",
       "[61 rows x 8 columns]"
      ]
     },
     "execution_count": 89,
     "metadata": {},
     "output_type": "execute_result"
    }
   ],
   "source": [
    "predicted_open_df = get_predictions(open_reg_results, pred_years, ['Publication date (float)'])\n",
    "predicted_open_df['Publication date'] = predicted_open_df['Publication date (float)'].apply(float_year_to_datetime)\n",
    "predicted_open_df"
   ]
  },
  {
   "cell_type": "code",
   "execution_count": 90,
   "metadata": {},
   "outputs": [],
   "source": [
    "predicted_open_df.set_index('Publication date', inplace=True)"
   ]
  },
  {
   "cell_type": "code",
   "execution_count": 91,
   "metadata": {},
   "outputs": [
    {
     "data": {
      "text/html": [
       "<div>\n",
       "<style scoped>\n",
       "    .dataframe tbody tr th:only-of-type {\n",
       "        vertical-align: middle;\n",
       "    }\n",
       "\n",
       "    .dataframe tbody tr th {\n",
       "        vertical-align: top;\n",
       "    }\n",
       "\n",
       "    .dataframe thead th {\n",
       "        text-align: right;\n",
       "    }\n",
       "</style>\n",
       "<table border=\"1\" class=\"dataframe\">\n",
       "  <thead>\n",
       "    <tr style=\"text-align: right;\">\n",
       "      <th></th>\n",
       "      <th>mean</th>\n",
       "      <th>mean_se</th>\n",
       "      <th>mean_ci_lower</th>\n",
       "      <th>mean_ci_upper</th>\n",
       "      <th>obs_ci_lower</th>\n",
       "      <th>obs_ci_upper</th>\n",
       "      <th>Publication date (float)</th>\n",
       "      <th>Publication date</th>\n",
       "    </tr>\n",
       "  </thead>\n",
       "  <tbody>\n",
       "    <tr>\n",
       "      <th>0</th>\n",
       "      <td>22.120182</td>\n",
       "      <td>0.144788</td>\n",
       "      <td>21.827075</td>\n",
       "      <td>22.413290</td>\n",
       "      <td>21.146332</td>\n",
       "      <td>23.094032</td>\n",
       "      <td>2020.000000</td>\n",
       "      <td>2020-01-01</td>\n",
       "    </tr>\n",
       "    <tr>\n",
       "      <th>1</th>\n",
       "      <td>22.181747</td>\n",
       "      <td>0.140594</td>\n",
       "      <td>21.897129</td>\n",
       "      <td>22.466366</td>\n",
       "      <td>21.210419</td>\n",
       "      <td>23.153076</td>\n",
       "      <td>2020.083333</td>\n",
       "      <td>2020-01-31</td>\n",
       "    </tr>\n",
       "    <tr>\n",
       "      <th>2</th>\n",
       "      <td>22.243313</td>\n",
       "      <td>0.136446</td>\n",
       "      <td>21.967093</td>\n",
       "      <td>22.519532</td>\n",
       "      <td>21.274412</td>\n",
       "      <td>23.212213</td>\n",
       "      <td>2020.166667</td>\n",
       "      <td>2020-03-02</td>\n",
       "    </tr>\n",
       "    <tr>\n",
       "      <th>3</th>\n",
       "      <td>22.304878</td>\n",
       "      <td>0.132346</td>\n",
       "      <td>22.036957</td>\n",
       "      <td>22.572799</td>\n",
       "      <td>21.338310</td>\n",
       "      <td>23.271445</td>\n",
       "      <td>2020.250000</td>\n",
       "      <td>2020-04-01</td>\n",
       "    </tr>\n",
       "    <tr>\n",
       "      <th>4</th>\n",
       "      <td>22.366443</td>\n",
       "      <td>0.128301</td>\n",
       "      <td>22.106712</td>\n",
       "      <td>22.626174</td>\n",
       "      <td>21.402113</td>\n",
       "      <td>23.330772</td>\n",
       "      <td>2020.333333</td>\n",
       "      <td>2020-05-01</td>\n",
       "    </tr>\n",
       "    <tr>\n",
       "      <th>...</th>\n",
       "      <td>...</td>\n",
       "      <td>...</td>\n",
       "      <td>...</td>\n",
       "      <td>...</td>\n",
       "      <td>...</td>\n",
       "      <td>...</td>\n",
       "      <td>...</td>\n",
       "      <td>...</td>\n",
       "    </tr>\n",
       "    <tr>\n",
       "      <th>56</th>\n",
       "      <td>25.567826</td>\n",
       "      <td>0.164287</td>\n",
       "      <td>25.235244</td>\n",
       "      <td>25.900409</td>\n",
       "      <td>24.581377</td>\n",
       "      <td>26.554276</td>\n",
       "      <td>2024.666667</td>\n",
       "      <td>2024-09-01</td>\n",
       "    </tr>\n",
       "    <tr>\n",
       "      <th>57</th>\n",
       "      <td>25.629391</td>\n",
       "      <td>0.168671</td>\n",
       "      <td>25.287936</td>\n",
       "      <td>25.970847</td>\n",
       "      <td>24.639915</td>\n",
       "      <td>26.618868</td>\n",
       "      <td>2024.750000</td>\n",
       "      <td>2024-10-01</td>\n",
       "    </tr>\n",
       "    <tr>\n",
       "      <th>58</th>\n",
       "      <td>25.690957</td>\n",
       "      <td>0.173080</td>\n",
       "      <td>25.340575</td>\n",
       "      <td>26.041338</td>\n",
       "      <td>24.698364</td>\n",
       "      <td>26.683549</td>\n",
       "      <td>2024.833333</td>\n",
       "      <td>2024-10-31</td>\n",
       "    </tr>\n",
       "    <tr>\n",
       "      <th>59</th>\n",
       "      <td>25.752522</td>\n",
       "      <td>0.177513</td>\n",
       "      <td>25.393165</td>\n",
       "      <td>26.111878</td>\n",
       "      <td>24.756726</td>\n",
       "      <td>26.748317</td>\n",
       "      <td>2024.916667</td>\n",
       "      <td>2024-12-01</td>\n",
       "    </tr>\n",
       "    <tr>\n",
       "      <th>60</th>\n",
       "      <td>25.814087</td>\n",
       "      <td>0.181969</td>\n",
       "      <td>25.445710</td>\n",
       "      <td>26.182463</td>\n",
       "      <td>24.815001</td>\n",
       "      <td>26.813173</td>\n",
       "      <td>2025.000000</td>\n",
       "      <td>2025-01-01</td>\n",
       "    </tr>\n",
       "  </tbody>\n",
       "</table>\n",
       "<p>61 rows × 8 columns</p>\n",
       "</div>"
      ],
      "text/plain": [
       "         mean   mean_se  mean_ci_lower  mean_ci_upper  obs_ci_lower  \\\n",
       "0   22.120182  0.144788      21.827075      22.413290     21.146332   \n",
       "1   22.181747  0.140594      21.897129      22.466366     21.210419   \n",
       "2   22.243313  0.136446      21.967093      22.519532     21.274412   \n",
       "3   22.304878  0.132346      22.036957      22.572799     21.338310   \n",
       "4   22.366443  0.128301      22.106712      22.626174     21.402113   \n",
       "..        ...       ...            ...            ...           ...   \n",
       "56  25.567826  0.164287      25.235244      25.900409     24.581377   \n",
       "57  25.629391  0.168671      25.287936      25.970847     24.639915   \n",
       "58  25.690957  0.173080      25.340575      26.041338     24.698364   \n",
       "59  25.752522  0.177513      25.393165      26.111878     24.756726   \n",
       "60  25.814087  0.181969      25.445710      26.182463     24.815001   \n",
       "\n",
       "    obs_ci_upper  Publication date (float) Publication date  \n",
       "0      23.094032               2020.000000       2020-01-01  \n",
       "1      23.153076               2020.083333       2020-01-31  \n",
       "2      23.212213               2020.166667       2020-03-02  \n",
       "3      23.271445               2020.250000       2020-04-01  \n",
       "4      23.330772               2020.333333       2020-05-01  \n",
       "..           ...                       ...              ...  \n",
       "56     26.554276               2024.666667       2024-09-01  \n",
       "57     26.618868               2024.750000       2024-10-01  \n",
       "58     26.683549               2024.833333       2024-10-31  \n",
       "59     26.748317               2024.916667       2024-12-01  \n",
       "60     26.813173               2025.000000       2025-01-01  \n",
       "\n",
       "[61 rows x 8 columns]"
      ]
     },
     "execution_count": 91,
     "metadata": {},
     "output_type": "execute_result"
    }
   ],
   "source": [
    "predicted_closed_df = get_predictions(closed_reg_results, pred_years, ['Publication date (float)'])\n",
    "predicted_closed_df['Publication date'] = predicted_closed_df['Publication date (float)'].apply(float_year_to_datetime)\n",
    "predicted_closed_df"
   ]
  },
  {
   "cell_type": "code",
   "execution_count": 92,
   "metadata": {},
   "outputs": [],
   "source": [
    "predicted_closed_df.set_index('Publication date', inplace=True)"
   ]
  },
  {
   "cell_type": "markdown",
   "metadata": {},
   "source": [
    "## Differences between trends"
   ]
  },
  {
   "cell_type": "code",
   "execution_count": 93,
   "metadata": {},
   "outputs": [],
   "source": [
    "NUM_SAMPLES = 1000"
   ]
  },
  {
   "cell_type": "code",
   "execution_count": 94,
   "metadata": {},
   "outputs": [
    {
     "data": {
      "text/plain": [
       "array([[-1.45431363e+03, -1.13081098e+03],\n",
       "       [ 5.70586630e-01,  7.30555843e-01]])"
      ]
     },
     "execution_count": 94,
     "metadata": {},
     "output_type": "execute_result"
    }
   ],
   "source": [
    "open_reg_results.conf_int()"
   ]
  },
  {
   "cell_type": "code",
   "execution_count": 95,
   "metadata": {},
   "outputs": [
    {
     "data": {
      "text/plain": [
       "2022.2705343096363"
      ]
     },
     "execution_count": 95,
     "metadata": {},
     "output_type": "execute_result"
    }
   ],
   "source": [
    "median_date = datetime_to_float_year(pd.to_datetime(filtered_access_df['Publication date'])).median()\n",
    "median_date"
   ]
  },
  {
   "cell_type": "code",
   "execution_count": 96,
   "metadata": {},
   "outputs": [
    {
     "data": {
      "text/plain": [
       "{'open': (22.97093742302845, 23.166530952949376),\n",
       " 'closed': (23.65001233279298, 23.945207001115296)}"
      ]
     },
     "execution_count": 96,
     "metadata": {},
     "output_type": "execute_result"
    }
   ],
   "source": [
    "compute_refs = {}\n",
    "for key, value in {'open': open_reg_results, 'closed': closed_reg_results}.items():\n",
    "    X = np.array([median_date, 1])  # dummy 1 value makes this work\n",
    "    X = sm.add_constant(X)\n",
    "    ref_preds = value.get_prediction(X).summary_frame()\n",
    "    compute_ref_low = ref_preds['mean_ci_lower'][0]\n",
    "    compute_ref_high = ref_preds['mean_ci_upper'][0]\n",
    "    compute_refs[key] = compute_ref_low, compute_ref_high\n",
    "compute_refs"
   ]
  },
  {
   "cell_type": "code",
   "execution_count": 97,
   "metadata": {},
   "outputs": [],
   "source": [
    "# Open\n",
    "open_ci = open_reg_results.conf_int()\n",
    "open_slope = lognorm_from_90_ci(\n",
    "    10**open_ci[1][0],\n",
    "    10**open_ci[1][1],\n",
    "    NUM_SAMPLES,\n",
    ")\n",
    "# Closed\n",
    "closed_ci = closed_reg_results.conf_int()\n",
    "closed_slope = lognorm_from_90_ci(\n",
    "    10**closed_ci[1][0],\n",
    "    10**closed_ci[1][1],\n",
    "    NUM_SAMPLES,\n",
    ")"
   ]
  },
  {
   "cell_type": "code",
   "execution_count": 98,
   "metadata": {},
   "outputs": [
    {
     "name": "stdout",
     "output_type": "stream",
     "text": [
      "Median: 4.4 [90% CI: 3.7, 5.4]\n",
      "Median: 5.4 [90% CI: 4.1, 7.2]\n"
     ]
    }
   ],
   "source": [
    "print_median_and_ci(open_slope)\n",
    "print_median_and_ci(closed_slope)"
   ]
  },
  {
   "cell_type": "code",
   "execution_count": 99,
   "metadata": {},
   "outputs": [
    {
     "name": "stdout",
     "output_type": "stream",
     "text": [
      "Median: 2.6e+24 [90% CI: 1.6e+24, 4.1e+24]\n"
     ]
    }
   ],
   "source": [
    "# Calculate when the closed compute trend was equal to the open compute trend today\n",
    "current_date = '2024-05-01'\n",
    "current_open_compute_df = predicted_open_df.loc[current_date]\n",
    "current_open_compute = lognorm_from_90_ci(\n",
    "    10**current_open_compute_df['mean_ci_lower'],\n",
    "    10**current_open_compute_df['mean_ci_upper'],\n",
    "    NUM_SAMPLES,\n",
    ")\n",
    "print_median_and_ci(current_open_compute)"
   ]
  },
  {
   "cell_type": "code",
   "execution_count": 100,
   "metadata": {},
   "outputs": [
    {
     "name": "stdout",
     "output_type": "stream",
     "text": [
      "Median: 2.1e+25 [90% CI: 1.1e+25, 4.1e+25]\n"
     ]
    }
   ],
   "source": [
    "# Same for closed\n",
    "current_closed_compute_df = predicted_closed_df.loc[current_date]\n",
    "current_closed_compute = lognorm_from_90_ci(\n",
    "    10**current_closed_compute_df['mean_ci_lower'],\n",
    "    10**current_closed_compute_df['mean_ci_upper'],\n",
    "    NUM_SAMPLES,\n",
    ")\n",
    "print_median_and_ci(current_closed_compute)"
   ]
  },
  {
   "cell_type": "code",
   "execution_count": 101,
   "metadata": {},
   "outputs": [
    {
     "name": "stdout",
     "output_type": "stream",
     "text": [
      "Open access models are 0.9 OOMs [0.5; 1.4] behind closed access models\n"
     ]
    }
   ],
   "source": [
    "compute_gap = np.log10(current_closed_compute) - np.log10(current_open_compute)\n",
    "print(\n",
    "    f'Open access models are {np.median(compute_gap):.1f} OOMs ' + \n",
    "    f'[{np.percentile(compute_gap, 2.5):.1f}; {np.percentile(compute_gap, 97.5):.1f}] ' + \n",
    "    'behind closed access models'\n",
    ")"
   ]
  },
  {
   "cell_type": "code",
   "execution_count": 102,
   "metadata": {},
   "outputs": [],
   "source": [
    "# Calculate when the closed compute trend was equal to the open compute trend today\n",
    "\n",
    "np.random.seed(42)\n",
    "open_filtered_access_df =  filtered_access_df[filtered_access_df['Model open/closed'] == 'Open']\n",
    "closed_filtered_access_df = filtered_access_df[filtered_access_df['Model open/closed'] == 'Closed']\n",
    "\n",
    "n_bootstrap = 1000\n",
    "open_filtered_access_bootstrap_indices = [np.arange(0, len(open_filtered_access_df))] + \\\n",
    "                                          [np.random.choice(np.arange(0, len(open_filtered_access_df)), size=len(open_filtered_access_df), replace=True) for _ in range(n_bootstrap)]\n",
    "closed_filtered_access_bootstrap_indices = [np.arange(0, len(closed_filtered_access_df))] + \\\n",
    "                                            [np.random.choice(np.arange(0, len(closed_filtered_access_df)), size=len(closed_filtered_access_df), replace=True) for _ in range(n_bootstrap)]\n",
    "\n",
    "current_date_float = 2024.35\n",
    "results_date_float = []\n",
    "\n",
    "for i in range(n_bootstrap+1):\n",
    "    open_reg_results_current = fit_ols_regression(\n",
    "        open_filtered_access_df.iloc[open_filtered_access_bootstrap_indices[i]],\n",
    "        ['Publication date (float)'],\n",
    "        'Training compute (FLOP)',\n",
    "        logy=True\n",
    "    )\n",
    "\n",
    "    closed_reg_results_current = fit_ols_regression(\n",
    "        closed_filtered_access_df.iloc[closed_filtered_access_bootstrap_indices[i]],\n",
    "        ['Publication date (float)'],\n",
    "        'Training compute (FLOP)',\n",
    "        logy=True\n",
    "    )\n",
    "\n",
    "    alpha_o, beta_o = open_reg_results_current.params\n",
    "    alpha_c, beta_c = closed_reg_results_current.params\n",
    "\n",
    "    current_log10_compute = alpha_o + beta_o*current_date_float\n",
    "    results_date_float.append((current_log10_compute - alpha_c)/beta_c)"
   ]
  },
  {
   "cell_type": "code",
   "execution_count": 103,
   "metadata": {},
   "outputs": [
    {
     "name": "stdout",
     "output_type": "stream",
     "text": [
      "Point estimate: 2023.1151\n",
      "Standard error: 0.1674 years\n"
     ]
    }
   ],
   "source": [
    "print(\"Point estimate: %.4f\" % (results_date_float[0]))\n",
    "print(\"Standard error: %.4f years\" % (np.std(results_date_float[1:])))"
   ]
  },
  {
   "cell_type": "code",
   "execution_count": 104,
   "metadata": {},
   "outputs": [
    {
     "data": {
      "text/plain": [
       "24.356517629775453"
      ]
     },
     "execution_count": 104,
     "metadata": {},
     "output_type": "execute_result"
    }
   ],
   "source": [
    "current_date = 2024.25\n",
    "current_open_compute = open_reg_results.params[1] * current_date + open_reg_results.params[0]\n",
    "current_open_compute"
   ]
  },
  {
   "cell_type": "code",
   "execution_count": 105,
   "metadata": {},
   "outputs": [
    {
     "data": {
      "text/plain": [
       "2023.0270617050305"
      ]
     },
     "execution_count": 105,
     "metadata": {},
     "output_type": "execute_result"
    }
   ],
   "source": [
    "closed_compute_match_date = (current_open_compute - closed_reg_results.params[0]) / closed_reg_results.params[1]\n",
    "closed_compute_match_date"
   ]
  },
  {
   "cell_type": "code",
   "execution_count": 106,
   "metadata": {},
   "outputs": [
    {
     "name": "stdout",
     "output_type": "stream",
     "text": [
      "Open access models are 1.2 years behind closed access models\n"
     ]
    }
   ],
   "source": [
    "open_time_lag = current_date - closed_compute_match_date\n",
    "print(f'Open access models are {open_time_lag:.1f} years behind closed access models')"
   ]
  },
  {
   "cell_type": "markdown",
   "metadata": {},
   "source": [
    "# Plots"
   ]
  },
  {
   "cell_type": "code",
   "execution_count": 107,
   "metadata": {},
   "outputs": [
    {
     "data": {
      "application/vnd.plotly.v1+json": {
       "config": {
        "plotlyServerURL": "https://plot.ly"
       },
       "data": [
        {
         "customdata": [
          [
           "ContextNet + Noisy Student"
          ],
          [
           "Meena"
          ],
          [
           "Turing-NLG"
          ],
          [
           "GPT3-6.7B (rerun of original)"
          ],
          [
           "GShard (dense)"
          ],
          [
           "GShard (600B)"
          ],
          [
           "Meta Pseudo Labels"
          ],
          [
           "PanGu-α"
          ],
          [
           "CoAtNet"
          ],
          [
           "GOAT"
          ],
          [
           "FLAN 137B"
          ],
          [
           "Megatron-Turing NLG 530B"
          ],
          [
           "Gopher (280B)"
          ],
          [
           "GLaM"
          ],
          [
           "LaMDA"
          ],
          [
           "Chinchilla"
          ],
          [
           "PaLM (540B)"
          ],
          [
           "Parti"
          ],
          [
           "Minerva (540B)"
          ],
          [
           "U-PaLM (540B)"
          ],
          [
           "Flan-PaLM 540B"
          ],
          [
           "MegaScale (Production)"
          ]
         ],
         "hovertemplate": "Model accessibility=Unreleased<br>Publication date=%{x}<br>Training compute (FLOP)=%{y}<br>System=%{customdata[0]}<extra></extra>",
         "legendgroup": "Unreleased",
         "marker": {
          "color": "#636efa",
          "symbol": "circle"
         },
         "mode": "markers",
         "name": "Unreleased",
         "orientation": "v",
         "showlegend": true,
         "type": "scatter",
         "x": [
          "2020-01-19",
          "2020-01-28",
          "2020-02-13",
          "2020-05-28",
          "2020-06-30",
          "2020-06-30",
          "2021-03-01",
          "2021-04-25",
          "2021-06-09",
          "2021-07-27",
          "2021-09-03",
          "2021-10-11",
          "2021-12-08",
          "2021-12-13",
          "2022-02-10",
          "2022-03-29",
          "2022-04-04",
          "2022-06-22",
          "2022-06-29",
          "2022-10-20",
          "2022-10-20",
          "2024-02-23"
         ],
         "xaxis": "x",
         "y": [
          8.16e+21,
          1.12e+23,
          1.57e+22,
          1.2e+22,
          1.28e+22,
          1.33e+22,
          4.79e+22,
          5.83e+22,
          4.27e+22,
          7.8e+22,
          4.896e+22,
          1.17e+24,
          6.31e+23,
          3.74e+23,
          3.55e+23,
          5.76e+23,
          2.5272e+24,
          3.962895376192635e+23,
          2.7415e+24,
          2.53e+24,
          2.4999999999999997e+24,
          1.2e+25
         ],
         "yaxis": "y"
        },
        {
         "customdata": [
          [
           "ALBERT-xxlarge"
          ],
          [
           "ELECTRA"
          ],
          [
           "Once for All"
          ],
          [
           "iGPT-XL"
          ],
          [
           "iGPT-L"
          ],
          [
           "mBART-50"
          ],
          [
           "mT5-XXL"
          ],
          [
           "ViT-Huge/14"
          ],
          [
           "CLIP (ViT L/14@336px)"
          ],
          [
           "Switch"
          ],
          [
           "MSA Transformer"
          ],
          [
           "ResNet-RS"
          ],
          [
           "GLM-10B"
          ],
          [
           "GPT-J-6B"
          ],
          [
           "ProtT5-XXL"
          ],
          [
           "ProtT5-XXL-BFD"
          ],
          [
           "ProtBERT-BFD"
          ],
          [
           "CogView"
          ],
          [
           "ByT5-XXL"
          ],
          [
           "GPT-NeoX-20B"
          ],
          [
           "UL2"
          ],
          [
           "YaLM"
          ],
          [
           "ESM2-15B"
          ],
          [
           "Whisper v2"
          ],
          [
           "Falcon-40B"
          ],
          [
           "Grok-1"
          ]
         ],
         "hovertemplate": "Model accessibility=Open source<br>Publication date=%{x}<br>Training compute (FLOP)=%{y}<br>System=%{customdata[0]}<extra></extra>",
         "legendgroup": "Open source",
         "marker": {
          "color": "#EF553B",
          "symbol": "circle"
         },
         "mode": "markers",
         "name": "Open source",
         "orientation": "v",
         "showlegend": true,
         "type": "scatter",
         "x": [
          "2020-02-09",
          "2020-03-23",
          "2020-04-29",
          "2020-06-17",
          "2020-06-17",
          "2020-08-02",
          "2020-10-20",
          "2020-10-22",
          "2021-01-05",
          "2021-01-11",
          "2021-02-13",
          "2021-03-13",
          "2021-03-18",
          "2021-05-01",
          "2021-05-04",
          "2021-05-04",
          "2021-05-04",
          "2021-05-26",
          "2021-05-28",
          "2022-02-09",
          "2022-05-10",
          "2022-06-23",
          "2022-07-21",
          "2022-12-05",
          "2023-03-15",
          "2023-11-04"
         ],
         "xaxis": "x",
         "y": [
          2.39e+21,
          3.0999999999999995e+21,
          1.7842809599999995e+21,
          3.3e+22,
          8.91e+21,
          1.4515200000000002e+22,
          8.2e+22,
          4.262e+21,
          1.05e+22,
          8.22e+22,
          5.49e+21,
          1.763328e+22,
          3.79e+22,
          1.5e+22,
          7.370000000000001e+22,
          3.7e+22,
          3.9e+22,
          2.68e+22,
          8.1e+22,
          9.31627008e+22,
          1.2e+23,
          2.2e+23,
          7.350000000009999e+22,
          1.1e+23,
          2.4e+23,
          2.90000000001e+24
         ],
         "yaxis": "y"
        },
        {
         "customdata": [
          [
           "GPT-3 175B (davinci)"
          ],
          [
           "DALL-E"
          ],
          [
           "Jurassic-1-Jumbo"
          ],
          [
           "HyperCLOVA 82B"
          ],
          [
           "Yuan 1.0"
          ],
          [
           "GPT-3.5 (text-davinci-003)"
          ],
          [
           "GPT-4"
          ],
          [
           "PaLM 2"
          ],
          [
           "Claude 2"
          ],
          [
           "Amazon Titan"
          ],
          [
           "Mi:dm 200B"
          ],
          [
           "Mistral Large"
          ]
         ],
         "hovertemplate": "Model accessibility=API access<br>Publication date=%{x}<br>Training compute (FLOP)=%{y}<br>System=%{customdata[0]}<extra></extra>",
         "legendgroup": "API access",
         "marker": {
          "color": "#00cc96",
          "symbol": "circle"
         },
         "mode": "markers",
         "name": "API access",
         "orientation": "v",
         "showlegend": true,
         "type": "scatter",
         "x": [
          "2020-05-28",
          "2021-01-05",
          "2021-08-11",
          "2021-09-10",
          "2021-10-12",
          "2022-11-28",
          "2023-03-15",
          "2023-05-10",
          "2023-07-11",
          "2023-09-28",
          "2023-10-31",
          "2024-02-26"
         ],
         "xaxis": "x",
         "y": [
          3.14e+23,
          4.7e+22,
          3.7e+23,
          1.476e+23,
          3.5380000000001e+23,
          2.578e+24,
          2.1e+25,
          7.34e+24,
          3.866e+24,
          4.7999999999999996e+24,
          1.1999999999999999e+24,
          2.0000000001e+25
         ],
         "yaxis": "y"
        },
        {
         "customdata": [
          [
           "PLUG"
          ],
          [
           "ERNIE 3.0 Titan"
          ],
          [
           "Inflection-1"
          ],
          [
           "Inflection-2"
          ],
          [
           "Gemini 1.0 Ultra"
          ],
          [
           "Inflection-2.5"
          ]
         ],
         "hovertemplate": "Model accessibility=Hosted access (no API)<br>Publication date=%{x}<br>Training compute (FLOP)=%{y}<br>System=%{customdata[0]}<extra></extra>",
         "legendgroup": "Hosted access (no API)",
         "marker": {
          "color": "#ab63fa",
          "symbol": "circle"
         },
         "mode": "markers",
         "name": "Hosted access (no API)",
         "orientation": "v",
         "showlegend": true,
         "type": "scatter",
         "x": [
          "2021-04-19",
          "2021-12-23",
          "2023-06-23",
          "2023-11-22",
          "2023-12-06",
          "2024-03-07"
         ],
         "xaxis": "x",
         "y": [
          3.5997695999999996e+22,
          1.0421e+24,
          1.0001e+24,
          1.001e+25,
          5.0000000001e+25,
          1.0001e+25
         ],
         "yaxis": "y"
        },
        {
         "customdata": [
          [
           "XGLM-7.5B"
          ],
          [
           "OPT-175B"
          ],
          [
           "OPT-66B"
          ],
          [
           "OPT-30B"
          ],
          [
           "GLM-130B"
          ],
          [
           "BlenderBot 3"
          ],
          [
           "Galactica"
          ],
          [
           "OPT-IML (175B)"
          ],
          [
           "LLaMA-65B"
          ],
          [
           "LLaMA-33B"
          ]
         ],
         "hovertemplate": "Model accessibility=Open access (non-commercial)<br>Publication date=%{x}<br>Training compute (FLOP)=%{y}<br>System=%{customdata[0]}<extra></extra>",
         "legendgroup": "Open access (non-commercial)",
         "marker": {
          "color": "#FFA15A",
          "symbol": "circle"
         },
         "mode": "markers",
         "name": "Open access (non-commercial)",
         "orientation": "v",
         "showlegend": true,
         "type": "scatter",
         "x": [
          "2021-12-20",
          "2022-05-02",
          "2022-06-21",
          "2022-06-21",
          "2022-08-04",
          "2022-08-10",
          "2022-11-16",
          "2022-12-22",
          "2023-02-24",
          "2023-02-27"
         ],
         "xaxis": "x",
         "y": [
          4.347592704e+22,
          4.3e+23,
          1.100000000001e+23,
          5.4000000000001e+22,
          3.778e+23,
          4.3e+23,
          3.24e+23,
          4.3e+23,
          5.5e+23,
          2.7300000000000996e+23
         ],
         "yaxis": "y"
        },
        {
         "customdata": [
          [
           "Stable Diffusion (LDM-KL-8-G)"
          ],
          [
           "CodeGeeX"
          ],
          [
           "BLOOM-176B"
          ],
          [
           "Llama 2-70B"
          ],
          [
           "Code Llama-34B"
          ],
          [
           "Falcon-180B"
          ],
          [
           "TigerBot-70B"
          ],
          [
           "Yi-34B"
          ],
          [
           "Qwen-72B"
          ],
          [
           "XVERSE-65B-2"
          ],
          [
           "DeepSeek LLM 67B"
          ],
          [
           "Code Llama-70B"
          ],
          [
           "DBRX"
          ],
          [
           "Llama 3-70B"
          ]
         ],
         "hovertemplate": "Model accessibility=Open access (restricted use)<br>Publication date=%{x}<br>Training compute (FLOP)=%{y}<br>System=%{customdata[0]}<extra></extra>",
         "legendgroup": "Open access (restricted use)",
         "marker": {
          "color": "#19d3f3",
          "symbol": "circle"
         },
         "mode": "markers",
         "name": "Open access (restricted use)",
         "orientation": "v",
         "showlegend": true,
         "type": "scatter",
         "x": [
          "2022-04-13",
          "2022-06-22",
          "2022-11-08",
          "2023-07-18",
          "2023-08-14",
          "2023-09-06",
          "2023-09-06",
          "2023-11-02",
          "2023-11-30",
          "2023-12-08",
          "2024-01-05",
          "2024-01-29",
          "2024-03-27",
          "2024-04-18"
         ],
         "xaxis": "x",
         "y": [
          5e+22,
          6.630000000001e+22,
          5.770000000000099e+23,
          8.1e+23,
          5.3e+23,
          3.76e+24,
          1.02e+24,
          6.1e+23,
          1.3e+24,
          1.24800000000001e+24,
          8.04e+23,
          1.230000000001e+24,
          2.6e+24,
          6.30000000001e+24
         ],
         "yaxis": "y"
        }
       ],
       "layout": {
        "legend": {
         "title": {
          "text": "Model accessibility"
         },
         "tracegroupgap": 0
        },
        "margin": {
         "t": 60
        },
        "template": {
         "data": {
          "bar": [
           {
            "error_x": {
             "color": "#2a3f5f"
            },
            "error_y": {
             "color": "#2a3f5f"
            },
            "marker": {
             "line": {
              "color": "#E5ECF6",
              "width": 0.5
             },
             "pattern": {
              "fillmode": "overlay",
              "size": 10,
              "solidity": 0.2
             }
            },
            "type": "bar"
           }
          ],
          "barpolar": [
           {
            "marker": {
             "line": {
              "color": "#E5ECF6",
              "width": 0.5
             },
             "pattern": {
              "fillmode": "overlay",
              "size": 10,
              "solidity": 0.2
             }
            },
            "type": "barpolar"
           }
          ],
          "carpet": [
           {
            "aaxis": {
             "endlinecolor": "#2a3f5f",
             "gridcolor": "white",
             "linecolor": "white",
             "minorgridcolor": "white",
             "startlinecolor": "#2a3f5f"
            },
            "baxis": {
             "endlinecolor": "#2a3f5f",
             "gridcolor": "white",
             "linecolor": "white",
             "minorgridcolor": "white",
             "startlinecolor": "#2a3f5f"
            },
            "type": "carpet"
           }
          ],
          "choropleth": [
           {
            "colorbar": {
             "outlinewidth": 0,
             "ticks": ""
            },
            "type": "choropleth"
           }
          ],
          "contour": [
           {
            "colorbar": {
             "outlinewidth": 0,
             "ticks": ""
            },
            "colorscale": [
             [
              0,
              "#0d0887"
             ],
             [
              0.1111111111111111,
              "#46039f"
             ],
             [
              0.2222222222222222,
              "#7201a8"
             ],
             [
              0.3333333333333333,
              "#9c179e"
             ],
             [
              0.4444444444444444,
              "#bd3786"
             ],
             [
              0.5555555555555556,
              "#d8576b"
             ],
             [
              0.6666666666666666,
              "#ed7953"
             ],
             [
              0.7777777777777778,
              "#fb9f3a"
             ],
             [
              0.8888888888888888,
              "#fdca26"
             ],
             [
              1,
              "#f0f921"
             ]
            ],
            "type": "contour"
           }
          ],
          "contourcarpet": [
           {
            "colorbar": {
             "outlinewidth": 0,
             "ticks": ""
            },
            "type": "contourcarpet"
           }
          ],
          "heatmap": [
           {
            "colorbar": {
             "outlinewidth": 0,
             "ticks": ""
            },
            "colorscale": [
             [
              0,
              "#0d0887"
             ],
             [
              0.1111111111111111,
              "#46039f"
             ],
             [
              0.2222222222222222,
              "#7201a8"
             ],
             [
              0.3333333333333333,
              "#9c179e"
             ],
             [
              0.4444444444444444,
              "#bd3786"
             ],
             [
              0.5555555555555556,
              "#d8576b"
             ],
             [
              0.6666666666666666,
              "#ed7953"
             ],
             [
              0.7777777777777778,
              "#fb9f3a"
             ],
             [
              0.8888888888888888,
              "#fdca26"
             ],
             [
              1,
              "#f0f921"
             ]
            ],
            "type": "heatmap"
           }
          ],
          "heatmapgl": [
           {
            "colorbar": {
             "outlinewidth": 0,
             "ticks": ""
            },
            "colorscale": [
             [
              0,
              "#0d0887"
             ],
             [
              0.1111111111111111,
              "#46039f"
             ],
             [
              0.2222222222222222,
              "#7201a8"
             ],
             [
              0.3333333333333333,
              "#9c179e"
             ],
             [
              0.4444444444444444,
              "#bd3786"
             ],
             [
              0.5555555555555556,
              "#d8576b"
             ],
             [
              0.6666666666666666,
              "#ed7953"
             ],
             [
              0.7777777777777778,
              "#fb9f3a"
             ],
             [
              0.8888888888888888,
              "#fdca26"
             ],
             [
              1,
              "#f0f921"
             ]
            ],
            "type": "heatmapgl"
           }
          ],
          "histogram": [
           {
            "marker": {
             "pattern": {
              "fillmode": "overlay",
              "size": 10,
              "solidity": 0.2
             }
            },
            "type": "histogram"
           }
          ],
          "histogram2d": [
           {
            "colorbar": {
             "outlinewidth": 0,
             "ticks": ""
            },
            "colorscale": [
             [
              0,
              "#0d0887"
             ],
             [
              0.1111111111111111,
              "#46039f"
             ],
             [
              0.2222222222222222,
              "#7201a8"
             ],
             [
              0.3333333333333333,
              "#9c179e"
             ],
             [
              0.4444444444444444,
              "#bd3786"
             ],
             [
              0.5555555555555556,
              "#d8576b"
             ],
             [
              0.6666666666666666,
              "#ed7953"
             ],
             [
              0.7777777777777778,
              "#fb9f3a"
             ],
             [
              0.8888888888888888,
              "#fdca26"
             ],
             [
              1,
              "#f0f921"
             ]
            ],
            "type": "histogram2d"
           }
          ],
          "histogram2dcontour": [
           {
            "colorbar": {
             "outlinewidth": 0,
             "ticks": ""
            },
            "colorscale": [
             [
              0,
              "#0d0887"
             ],
             [
              0.1111111111111111,
              "#46039f"
             ],
             [
              0.2222222222222222,
              "#7201a8"
             ],
             [
              0.3333333333333333,
              "#9c179e"
             ],
             [
              0.4444444444444444,
              "#bd3786"
             ],
             [
              0.5555555555555556,
              "#d8576b"
             ],
             [
              0.6666666666666666,
              "#ed7953"
             ],
             [
              0.7777777777777778,
              "#fb9f3a"
             ],
             [
              0.8888888888888888,
              "#fdca26"
             ],
             [
              1,
              "#f0f921"
             ]
            ],
            "type": "histogram2dcontour"
           }
          ],
          "mesh3d": [
           {
            "colorbar": {
             "outlinewidth": 0,
             "ticks": ""
            },
            "type": "mesh3d"
           }
          ],
          "parcoords": [
           {
            "line": {
             "colorbar": {
              "outlinewidth": 0,
              "ticks": ""
             }
            },
            "type": "parcoords"
           }
          ],
          "pie": [
           {
            "automargin": true,
            "type": "pie"
           }
          ],
          "scatter": [
           {
            "fillpattern": {
             "fillmode": "overlay",
             "size": 10,
             "solidity": 0.2
            },
            "type": "scatter"
           }
          ],
          "scatter3d": [
           {
            "line": {
             "colorbar": {
              "outlinewidth": 0,
              "ticks": ""
             }
            },
            "marker": {
             "colorbar": {
              "outlinewidth": 0,
              "ticks": ""
             }
            },
            "type": "scatter3d"
           }
          ],
          "scattercarpet": [
           {
            "marker": {
             "colorbar": {
              "outlinewidth": 0,
              "ticks": ""
             }
            },
            "type": "scattercarpet"
           }
          ],
          "scattergeo": [
           {
            "marker": {
             "colorbar": {
              "outlinewidth": 0,
              "ticks": ""
             }
            },
            "type": "scattergeo"
           }
          ],
          "scattergl": [
           {
            "marker": {
             "colorbar": {
              "outlinewidth": 0,
              "ticks": ""
             }
            },
            "type": "scattergl"
           }
          ],
          "scattermapbox": [
           {
            "marker": {
             "colorbar": {
              "outlinewidth": 0,
              "ticks": ""
             }
            },
            "type": "scattermapbox"
           }
          ],
          "scatterpolar": [
           {
            "marker": {
             "colorbar": {
              "outlinewidth": 0,
              "ticks": ""
             }
            },
            "type": "scatterpolar"
           }
          ],
          "scatterpolargl": [
           {
            "marker": {
             "colorbar": {
              "outlinewidth": 0,
              "ticks": ""
             }
            },
            "type": "scatterpolargl"
           }
          ],
          "scatterternary": [
           {
            "marker": {
             "colorbar": {
              "outlinewidth": 0,
              "ticks": ""
             }
            },
            "type": "scatterternary"
           }
          ],
          "surface": [
           {
            "colorbar": {
             "outlinewidth": 0,
             "ticks": ""
            },
            "colorscale": [
             [
              0,
              "#0d0887"
             ],
             [
              0.1111111111111111,
              "#46039f"
             ],
             [
              0.2222222222222222,
              "#7201a8"
             ],
             [
              0.3333333333333333,
              "#9c179e"
             ],
             [
              0.4444444444444444,
              "#bd3786"
             ],
             [
              0.5555555555555556,
              "#d8576b"
             ],
             [
              0.6666666666666666,
              "#ed7953"
             ],
             [
              0.7777777777777778,
              "#fb9f3a"
             ],
             [
              0.8888888888888888,
              "#fdca26"
             ],
             [
              1,
              "#f0f921"
             ]
            ],
            "type": "surface"
           }
          ],
          "table": [
           {
            "cells": {
             "fill": {
              "color": "#EBF0F8"
             },
             "line": {
              "color": "white"
             }
            },
            "header": {
             "fill": {
              "color": "#C8D4E3"
             },
             "line": {
              "color": "white"
             }
            },
            "type": "table"
           }
          ]
         },
         "layout": {
          "annotationdefaults": {
           "arrowcolor": "#2a3f5f",
           "arrowhead": 0,
           "arrowwidth": 1
          },
          "autotypenumbers": "strict",
          "coloraxis": {
           "colorbar": {
            "outlinewidth": 0,
            "ticks": ""
           }
          },
          "colorscale": {
           "diverging": [
            [
             0,
             "#8e0152"
            ],
            [
             0.1,
             "#c51b7d"
            ],
            [
             0.2,
             "#de77ae"
            ],
            [
             0.3,
             "#f1b6da"
            ],
            [
             0.4,
             "#fde0ef"
            ],
            [
             0.5,
             "#f7f7f7"
            ],
            [
             0.6,
             "#e6f5d0"
            ],
            [
             0.7,
             "#b8e186"
            ],
            [
             0.8,
             "#7fbc41"
            ],
            [
             0.9,
             "#4d9221"
            ],
            [
             1,
             "#276419"
            ]
           ],
           "sequential": [
            [
             0,
             "#0d0887"
            ],
            [
             0.1111111111111111,
             "#46039f"
            ],
            [
             0.2222222222222222,
             "#7201a8"
            ],
            [
             0.3333333333333333,
             "#9c179e"
            ],
            [
             0.4444444444444444,
             "#bd3786"
            ],
            [
             0.5555555555555556,
             "#d8576b"
            ],
            [
             0.6666666666666666,
             "#ed7953"
            ],
            [
             0.7777777777777778,
             "#fb9f3a"
            ],
            [
             0.8888888888888888,
             "#fdca26"
            ],
            [
             1,
             "#f0f921"
            ]
           ],
           "sequentialminus": [
            [
             0,
             "#0d0887"
            ],
            [
             0.1111111111111111,
             "#46039f"
            ],
            [
             0.2222222222222222,
             "#7201a8"
            ],
            [
             0.3333333333333333,
             "#9c179e"
            ],
            [
             0.4444444444444444,
             "#bd3786"
            ],
            [
             0.5555555555555556,
             "#d8576b"
            ],
            [
             0.6666666666666666,
             "#ed7953"
            ],
            [
             0.7777777777777778,
             "#fb9f3a"
            ],
            [
             0.8888888888888888,
             "#fdca26"
            ],
            [
             1,
             "#f0f921"
            ]
           ]
          },
          "colorway": [
           "#636efa",
           "#EF553B",
           "#00cc96",
           "#ab63fa",
           "#FFA15A",
           "#19d3f3",
           "#FF6692",
           "#B6E880",
           "#FF97FF",
           "#FECB52"
          ],
          "font": {
           "color": "#2a3f5f"
          },
          "geo": {
           "bgcolor": "white",
           "lakecolor": "white",
           "landcolor": "#E5ECF6",
           "showlakes": true,
           "showland": true,
           "subunitcolor": "white"
          },
          "hoverlabel": {
           "align": "left"
          },
          "hovermode": "closest",
          "mapbox": {
           "style": "light"
          },
          "paper_bgcolor": "white",
          "plot_bgcolor": "#E5ECF6",
          "polar": {
           "angularaxis": {
            "gridcolor": "white",
            "linecolor": "white",
            "ticks": ""
           },
           "bgcolor": "#E5ECF6",
           "radialaxis": {
            "gridcolor": "white",
            "linecolor": "white",
            "ticks": ""
           }
          },
          "scene": {
           "xaxis": {
            "backgroundcolor": "#E5ECF6",
            "gridcolor": "white",
            "gridwidth": 2,
            "linecolor": "white",
            "showbackground": true,
            "ticks": "",
            "zerolinecolor": "white"
           },
           "yaxis": {
            "backgroundcolor": "#E5ECF6",
            "gridcolor": "white",
            "gridwidth": 2,
            "linecolor": "white",
            "showbackground": true,
            "ticks": "",
            "zerolinecolor": "white"
           },
           "zaxis": {
            "backgroundcolor": "#E5ECF6",
            "gridcolor": "white",
            "gridwidth": 2,
            "linecolor": "white",
            "showbackground": true,
            "ticks": "",
            "zerolinecolor": "white"
           }
          },
          "shapedefaults": {
           "line": {
            "color": "#2a3f5f"
           }
          },
          "ternary": {
           "aaxis": {
            "gridcolor": "white",
            "linecolor": "white",
            "ticks": ""
           },
           "baxis": {
            "gridcolor": "white",
            "linecolor": "white",
            "ticks": ""
           },
           "bgcolor": "#E5ECF6",
           "caxis": {
            "gridcolor": "white",
            "linecolor": "white",
            "ticks": ""
           }
          },
          "title": {
           "x": 0.05
          },
          "xaxis": {
           "automargin": true,
           "gridcolor": "white",
           "linecolor": "white",
           "ticks": "",
           "title": {
            "standoff": 15
           },
           "zerolinecolor": "white",
           "zerolinewidth": 2
          },
          "yaxis": {
           "automargin": true,
           "gridcolor": "white",
           "linecolor": "white",
           "ticks": "",
           "title": {
            "standoff": 15
           },
           "zerolinecolor": "white",
           "zerolinewidth": 2
          }
         }
        },
        "xaxis": {
         "anchor": "y",
         "domain": [
          0,
          1
         ],
         "title": {
          "text": "Publication date"
         }
        },
        "yaxis": {
         "anchor": "x",
         "domain": [
          0,
          1
         ],
         "title": {
          "text": "Training compute (FLOP)"
         },
         "type": "log"
        }
       }
      },
      "text/html": [
       "<div>                            <div id=\"64dbcec8-d56a-4579-a27a-40e834c06b99\" class=\"plotly-graph-div\" style=\"height:525px; width:100%;\"></div>            <script type=\"text/javascript\">                require([\"plotly\"], function(Plotly) {                    window.PLOTLYENV=window.PLOTLYENV || {};                                    if (document.getElementById(\"64dbcec8-d56a-4579-a27a-40e834c06b99\")) {                    Plotly.newPlot(                        \"64dbcec8-d56a-4579-a27a-40e834c06b99\",                        [{\"customdata\":[[\"ContextNet + Noisy Student\"],[\"Meena\"],[\"Turing-NLG\"],[\"GPT3-6.7B (rerun of original)\"],[\"GShard (dense)\"],[\"GShard (600B)\"],[\"Meta Pseudo Labels\"],[\"PanGu-\\u03b1\"],[\"CoAtNet\"],[\"GOAT\"],[\"FLAN 137B\"],[\"Megatron-Turing NLG 530B\"],[\"Gopher (280B)\"],[\"GLaM\"],[\"LaMDA\"],[\"Chinchilla\"],[\"PaLM (540B)\"],[\"Parti\"],[\"Minerva (540B)\"],[\"U-PaLM (540B)\"],[\"Flan-PaLM 540B\"],[\"MegaScale (Production)\"]],\"hovertemplate\":\"Model accessibility=Unreleased\\u003cbr\\u003ePublication date=%{x}\\u003cbr\\u003eTraining compute (FLOP)=%{y}\\u003cbr\\u003eSystem=%{customdata[0]}\\u003cextra\\u003e\\u003c\\u002fextra\\u003e\",\"legendgroup\":\"Unreleased\",\"marker\":{\"color\":\"#636efa\",\"symbol\":\"circle\"},\"mode\":\"markers\",\"name\":\"Unreleased\",\"orientation\":\"v\",\"showlegend\":true,\"x\":[\"2020-01-19\",\"2020-01-28\",\"2020-02-13\",\"2020-05-28\",\"2020-06-30\",\"2020-06-30\",\"2021-03-01\",\"2021-04-25\",\"2021-06-09\",\"2021-07-27\",\"2021-09-03\",\"2021-10-11\",\"2021-12-08\",\"2021-12-13\",\"2022-02-10\",\"2022-03-29\",\"2022-04-04\",\"2022-06-22\",\"2022-06-29\",\"2022-10-20\",\"2022-10-20\",\"2024-02-23\"],\"xaxis\":\"x\",\"y\":[8.16e+21,1.12e+23,1.57e+22,1.2e+22,1.28e+22,1.33e+22,4.79e+22,5.83e+22,4.27e+22,7.8e+22,4.896e+22,1.17e+24,6.31e+23,3.74e+23,3.55e+23,5.76e+23,2.5272e+24,3.962895376192635e+23,2.7415e+24,2.53e+24,2.4999999999999997e+24,1.2e+25],\"yaxis\":\"y\",\"type\":\"scatter\"},{\"customdata\":[[\"ALBERT-xxlarge\"],[\"ELECTRA\"],[\"Once for All\"],[\"iGPT-XL\"],[\"iGPT-L\"],[\"mBART-50\"],[\"mT5-XXL\"],[\"ViT-Huge\\u002f14\"],[\"CLIP (ViT L\\u002f14@336px)\"],[\"Switch\"],[\"MSA Transformer\"],[\"ResNet-RS\"],[\"GLM-10B\"],[\"GPT-J-6B\"],[\"ProtT5-XXL\"],[\"ProtT5-XXL-BFD\"],[\"ProtBERT-BFD\"],[\"CogView\"],[\"ByT5-XXL\"],[\"GPT-NeoX-20B\"],[\"UL2\"],[\"YaLM\"],[\"ESM2-15B\"],[\"Whisper v2\"],[\"Falcon-40B\"],[\"Grok-1\"]],\"hovertemplate\":\"Model accessibility=Open source\\u003cbr\\u003ePublication date=%{x}\\u003cbr\\u003eTraining compute (FLOP)=%{y}\\u003cbr\\u003eSystem=%{customdata[0]}\\u003cextra\\u003e\\u003c\\u002fextra\\u003e\",\"legendgroup\":\"Open source\",\"marker\":{\"color\":\"#EF553B\",\"symbol\":\"circle\"},\"mode\":\"markers\",\"name\":\"Open source\",\"orientation\":\"v\",\"showlegend\":true,\"x\":[\"2020-02-09\",\"2020-03-23\",\"2020-04-29\",\"2020-06-17\",\"2020-06-17\",\"2020-08-02\",\"2020-10-20\",\"2020-10-22\",\"2021-01-05\",\"2021-01-11\",\"2021-02-13\",\"2021-03-13\",\"2021-03-18\",\"2021-05-01\",\"2021-05-04\",\"2021-05-04\",\"2021-05-04\",\"2021-05-26\",\"2021-05-28\",\"2022-02-09\",\"2022-05-10\",\"2022-06-23\",\"2022-07-21\",\"2022-12-05\",\"2023-03-15\",\"2023-11-04\"],\"xaxis\":\"x\",\"y\":[2.39e+21,3.0999999999999995e+21,1.7842809599999995e+21,3.3e+22,8.91e+21,1.4515200000000002e+22,8.2e+22,4.262e+21,1.05e+22,8.22e+22,5.49e+21,1.763328e+22,3.79e+22,1.5e+22,7.370000000000001e+22,3.7e+22,3.9e+22,2.68e+22,8.1e+22,9.31627008e+22,1.2e+23,2.2e+23,7.350000000009999e+22,1.1e+23,2.4e+23,2.90000000001e+24],\"yaxis\":\"y\",\"type\":\"scatter\"},{\"customdata\":[[\"GPT-3 175B (davinci)\"],[\"DALL-E\"],[\"Jurassic-1-Jumbo\"],[\"HyperCLOVA 82B\"],[\"Yuan 1.0\"],[\"GPT-3.5 (text-davinci-003)\"],[\"GPT-4\"],[\"PaLM 2\"],[\"Claude 2\"],[\"Amazon Titan\"],[\"Mi:dm 200B\"],[\"Mistral Large\"]],\"hovertemplate\":\"Model accessibility=API access\\u003cbr\\u003ePublication date=%{x}\\u003cbr\\u003eTraining compute (FLOP)=%{y}\\u003cbr\\u003eSystem=%{customdata[0]}\\u003cextra\\u003e\\u003c\\u002fextra\\u003e\",\"legendgroup\":\"API access\",\"marker\":{\"color\":\"#00cc96\",\"symbol\":\"circle\"},\"mode\":\"markers\",\"name\":\"API access\",\"orientation\":\"v\",\"showlegend\":true,\"x\":[\"2020-05-28\",\"2021-01-05\",\"2021-08-11\",\"2021-09-10\",\"2021-10-12\",\"2022-11-28\",\"2023-03-15\",\"2023-05-10\",\"2023-07-11\",\"2023-09-28\",\"2023-10-31\",\"2024-02-26\"],\"xaxis\":\"x\",\"y\":[3.14e+23,4.7e+22,3.7e+23,1.476e+23,3.5380000000001e+23,2.578e+24,2.1e+25,7.34e+24,3.866e+24,4.7999999999999996e+24,1.1999999999999999e+24,2.0000000001e+25],\"yaxis\":\"y\",\"type\":\"scatter\"},{\"customdata\":[[\"PLUG\"],[\"ERNIE 3.0 Titan\"],[\"Inflection-1\"],[\"Inflection-2\"],[\"Gemini 1.0 Ultra\"],[\"Inflection-2.5\"]],\"hovertemplate\":\"Model accessibility=Hosted access (no API)\\u003cbr\\u003ePublication date=%{x}\\u003cbr\\u003eTraining compute (FLOP)=%{y}\\u003cbr\\u003eSystem=%{customdata[0]}\\u003cextra\\u003e\\u003c\\u002fextra\\u003e\",\"legendgroup\":\"Hosted access (no API)\",\"marker\":{\"color\":\"#ab63fa\",\"symbol\":\"circle\"},\"mode\":\"markers\",\"name\":\"Hosted access (no API)\",\"orientation\":\"v\",\"showlegend\":true,\"x\":[\"2021-04-19\",\"2021-12-23\",\"2023-06-23\",\"2023-11-22\",\"2023-12-06\",\"2024-03-07\"],\"xaxis\":\"x\",\"y\":[3.5997695999999996e+22,1.0421e+24,1.0001e+24,1.001e+25,5.0000000001e+25,1.0001e+25],\"yaxis\":\"y\",\"type\":\"scatter\"},{\"customdata\":[[\"XGLM-7.5B\"],[\"OPT-175B\"],[\"OPT-66B\"],[\"OPT-30B\"],[\"GLM-130B\"],[\"BlenderBot 3\"],[\"Galactica\"],[\"OPT-IML (175B)\"],[\"LLaMA-65B\"],[\"LLaMA-33B\"]],\"hovertemplate\":\"Model accessibility=Open access (non-commercial)\\u003cbr\\u003ePublication date=%{x}\\u003cbr\\u003eTraining compute (FLOP)=%{y}\\u003cbr\\u003eSystem=%{customdata[0]}\\u003cextra\\u003e\\u003c\\u002fextra\\u003e\",\"legendgroup\":\"Open access (non-commercial)\",\"marker\":{\"color\":\"#FFA15A\",\"symbol\":\"circle\"},\"mode\":\"markers\",\"name\":\"Open access (non-commercial)\",\"orientation\":\"v\",\"showlegend\":true,\"x\":[\"2021-12-20\",\"2022-05-02\",\"2022-06-21\",\"2022-06-21\",\"2022-08-04\",\"2022-08-10\",\"2022-11-16\",\"2022-12-22\",\"2023-02-24\",\"2023-02-27\"],\"xaxis\":\"x\",\"y\":[4.347592704e+22,4.3e+23,1.100000000001e+23,5.4000000000001e+22,3.778e+23,4.3e+23,3.24e+23,4.3e+23,5.5e+23,2.7300000000000996e+23],\"yaxis\":\"y\",\"type\":\"scatter\"},{\"customdata\":[[\"Stable Diffusion (LDM-KL-8-G)\"],[\"CodeGeeX\"],[\"BLOOM-176B\"],[\"Llama 2-70B\"],[\"Code Llama-34B\"],[\"Falcon-180B\"],[\"TigerBot-70B\"],[\"Yi-34B\"],[\"Qwen-72B\"],[\"XVERSE-65B-2\"],[\"DeepSeek LLM 67B\"],[\"Code Llama-70B\"],[\"DBRX\"],[\"Llama 3-70B\"]],\"hovertemplate\":\"Model accessibility=Open access (restricted use)\\u003cbr\\u003ePublication date=%{x}\\u003cbr\\u003eTraining compute (FLOP)=%{y}\\u003cbr\\u003eSystem=%{customdata[0]}\\u003cextra\\u003e\\u003c\\u002fextra\\u003e\",\"legendgroup\":\"Open access (restricted use)\",\"marker\":{\"color\":\"#19d3f3\",\"symbol\":\"circle\"},\"mode\":\"markers\",\"name\":\"Open access (restricted use)\",\"orientation\":\"v\",\"showlegend\":true,\"x\":[\"2022-04-13\",\"2022-06-22\",\"2022-11-08\",\"2023-07-18\",\"2023-08-14\",\"2023-09-06\",\"2023-09-06\",\"2023-11-02\",\"2023-11-30\",\"2023-12-08\",\"2024-01-05\",\"2024-01-29\",\"2024-03-27\",\"2024-04-18\"],\"xaxis\":\"x\",\"y\":[5e+22,6.630000000001e+22,5.770000000000099e+23,8.1e+23,5.3e+23,3.76e+24,1.02e+24,6.1e+23,1.3e+24,1.24800000000001e+24,8.04e+23,1.230000000001e+24,2.6e+24,6.30000000001e+24],\"yaxis\":\"y\",\"type\":\"scatter\"}],                        {\"template\":{\"data\":{\"histogram2dcontour\":[{\"type\":\"histogram2dcontour\",\"colorbar\":{\"outlinewidth\":0,\"ticks\":\"\"},\"colorscale\":[[0.0,\"#0d0887\"],[0.1111111111111111,\"#46039f\"],[0.2222222222222222,\"#7201a8\"],[0.3333333333333333,\"#9c179e\"],[0.4444444444444444,\"#bd3786\"],[0.5555555555555556,\"#d8576b\"],[0.6666666666666666,\"#ed7953\"],[0.7777777777777778,\"#fb9f3a\"],[0.8888888888888888,\"#fdca26\"],[1.0,\"#f0f921\"]]}],\"choropleth\":[{\"type\":\"choropleth\",\"colorbar\":{\"outlinewidth\":0,\"ticks\":\"\"}}],\"histogram2d\":[{\"type\":\"histogram2d\",\"colorbar\":{\"outlinewidth\":0,\"ticks\":\"\"},\"colorscale\":[[0.0,\"#0d0887\"],[0.1111111111111111,\"#46039f\"],[0.2222222222222222,\"#7201a8\"],[0.3333333333333333,\"#9c179e\"],[0.4444444444444444,\"#bd3786\"],[0.5555555555555556,\"#d8576b\"],[0.6666666666666666,\"#ed7953\"],[0.7777777777777778,\"#fb9f3a\"],[0.8888888888888888,\"#fdca26\"],[1.0,\"#f0f921\"]]}],\"heatmap\":[{\"type\":\"heatmap\",\"colorbar\":{\"outlinewidth\":0,\"ticks\":\"\"},\"colorscale\":[[0.0,\"#0d0887\"],[0.1111111111111111,\"#46039f\"],[0.2222222222222222,\"#7201a8\"],[0.3333333333333333,\"#9c179e\"],[0.4444444444444444,\"#bd3786\"],[0.5555555555555556,\"#d8576b\"],[0.6666666666666666,\"#ed7953\"],[0.7777777777777778,\"#fb9f3a\"],[0.8888888888888888,\"#fdca26\"],[1.0,\"#f0f921\"]]}],\"heatmapgl\":[{\"type\":\"heatmapgl\",\"colorbar\":{\"outlinewidth\":0,\"ticks\":\"\"},\"colorscale\":[[0.0,\"#0d0887\"],[0.1111111111111111,\"#46039f\"],[0.2222222222222222,\"#7201a8\"],[0.3333333333333333,\"#9c179e\"],[0.4444444444444444,\"#bd3786\"],[0.5555555555555556,\"#d8576b\"],[0.6666666666666666,\"#ed7953\"],[0.7777777777777778,\"#fb9f3a\"],[0.8888888888888888,\"#fdca26\"],[1.0,\"#f0f921\"]]}],\"contourcarpet\":[{\"type\":\"contourcarpet\",\"colorbar\":{\"outlinewidth\":0,\"ticks\":\"\"}}],\"contour\":[{\"type\":\"contour\",\"colorbar\":{\"outlinewidth\":0,\"ticks\":\"\"},\"colorscale\":[[0.0,\"#0d0887\"],[0.1111111111111111,\"#46039f\"],[0.2222222222222222,\"#7201a8\"],[0.3333333333333333,\"#9c179e\"],[0.4444444444444444,\"#bd3786\"],[0.5555555555555556,\"#d8576b\"],[0.6666666666666666,\"#ed7953\"],[0.7777777777777778,\"#fb9f3a\"],[0.8888888888888888,\"#fdca26\"],[1.0,\"#f0f921\"]]}],\"surface\":[{\"type\":\"surface\",\"colorbar\":{\"outlinewidth\":0,\"ticks\":\"\"},\"colorscale\":[[0.0,\"#0d0887\"],[0.1111111111111111,\"#46039f\"],[0.2222222222222222,\"#7201a8\"],[0.3333333333333333,\"#9c179e\"],[0.4444444444444444,\"#bd3786\"],[0.5555555555555556,\"#d8576b\"],[0.6666666666666666,\"#ed7953\"],[0.7777777777777778,\"#fb9f3a\"],[0.8888888888888888,\"#fdca26\"],[1.0,\"#f0f921\"]]}],\"mesh3d\":[{\"type\":\"mesh3d\",\"colorbar\":{\"outlinewidth\":0,\"ticks\":\"\"}}],\"scatter\":[{\"fillpattern\":{\"fillmode\":\"overlay\",\"size\":10,\"solidity\":0.2},\"type\":\"scatter\"}],\"parcoords\":[{\"type\":\"parcoords\",\"line\":{\"colorbar\":{\"outlinewidth\":0,\"ticks\":\"\"}}}],\"scatterpolargl\":[{\"type\":\"scatterpolargl\",\"marker\":{\"colorbar\":{\"outlinewidth\":0,\"ticks\":\"\"}}}],\"bar\":[{\"error_x\":{\"color\":\"#2a3f5f\"},\"error_y\":{\"color\":\"#2a3f5f\"},\"marker\":{\"line\":{\"color\":\"#E5ECF6\",\"width\":0.5},\"pattern\":{\"fillmode\":\"overlay\",\"size\":10,\"solidity\":0.2}},\"type\":\"bar\"}],\"scattergeo\":[{\"type\":\"scattergeo\",\"marker\":{\"colorbar\":{\"outlinewidth\":0,\"ticks\":\"\"}}}],\"scatterpolar\":[{\"type\":\"scatterpolar\",\"marker\":{\"colorbar\":{\"outlinewidth\":0,\"ticks\":\"\"}}}],\"histogram\":[{\"marker\":{\"pattern\":{\"fillmode\":\"overlay\",\"size\":10,\"solidity\":0.2}},\"type\":\"histogram\"}],\"scattergl\":[{\"type\":\"scattergl\",\"marker\":{\"colorbar\":{\"outlinewidth\":0,\"ticks\":\"\"}}}],\"scatter3d\":[{\"type\":\"scatter3d\",\"line\":{\"colorbar\":{\"outlinewidth\":0,\"ticks\":\"\"}},\"marker\":{\"colorbar\":{\"outlinewidth\":0,\"ticks\":\"\"}}}],\"scattermapbox\":[{\"type\":\"scattermapbox\",\"marker\":{\"colorbar\":{\"outlinewidth\":0,\"ticks\":\"\"}}}],\"scatterternary\":[{\"type\":\"scatterternary\",\"marker\":{\"colorbar\":{\"outlinewidth\":0,\"ticks\":\"\"}}}],\"scattercarpet\":[{\"type\":\"scattercarpet\",\"marker\":{\"colorbar\":{\"outlinewidth\":0,\"ticks\":\"\"}}}],\"carpet\":[{\"aaxis\":{\"endlinecolor\":\"#2a3f5f\",\"gridcolor\":\"white\",\"linecolor\":\"white\",\"minorgridcolor\":\"white\",\"startlinecolor\":\"#2a3f5f\"},\"baxis\":{\"endlinecolor\":\"#2a3f5f\",\"gridcolor\":\"white\",\"linecolor\":\"white\",\"minorgridcolor\":\"white\",\"startlinecolor\":\"#2a3f5f\"},\"type\":\"carpet\"}],\"table\":[{\"cells\":{\"fill\":{\"color\":\"#EBF0F8\"},\"line\":{\"color\":\"white\"}},\"header\":{\"fill\":{\"color\":\"#C8D4E3\"},\"line\":{\"color\":\"white\"}},\"type\":\"table\"}],\"barpolar\":[{\"marker\":{\"line\":{\"color\":\"#E5ECF6\",\"width\":0.5},\"pattern\":{\"fillmode\":\"overlay\",\"size\":10,\"solidity\":0.2}},\"type\":\"barpolar\"}],\"pie\":[{\"automargin\":true,\"type\":\"pie\"}]},\"layout\":{\"autotypenumbers\":\"strict\",\"colorway\":[\"#636efa\",\"#EF553B\",\"#00cc96\",\"#ab63fa\",\"#FFA15A\",\"#19d3f3\",\"#FF6692\",\"#B6E880\",\"#FF97FF\",\"#FECB52\"],\"font\":{\"color\":\"#2a3f5f\"},\"hovermode\":\"closest\",\"hoverlabel\":{\"align\":\"left\"},\"paper_bgcolor\":\"white\",\"plot_bgcolor\":\"#E5ECF6\",\"polar\":{\"bgcolor\":\"#E5ECF6\",\"angularaxis\":{\"gridcolor\":\"white\",\"linecolor\":\"white\",\"ticks\":\"\"},\"radialaxis\":{\"gridcolor\":\"white\",\"linecolor\":\"white\",\"ticks\":\"\"}},\"ternary\":{\"bgcolor\":\"#E5ECF6\",\"aaxis\":{\"gridcolor\":\"white\",\"linecolor\":\"white\",\"ticks\":\"\"},\"baxis\":{\"gridcolor\":\"white\",\"linecolor\":\"white\",\"ticks\":\"\"},\"caxis\":{\"gridcolor\":\"white\",\"linecolor\":\"white\",\"ticks\":\"\"}},\"coloraxis\":{\"colorbar\":{\"outlinewidth\":0,\"ticks\":\"\"}},\"colorscale\":{\"sequential\":[[0.0,\"#0d0887\"],[0.1111111111111111,\"#46039f\"],[0.2222222222222222,\"#7201a8\"],[0.3333333333333333,\"#9c179e\"],[0.4444444444444444,\"#bd3786\"],[0.5555555555555556,\"#d8576b\"],[0.6666666666666666,\"#ed7953\"],[0.7777777777777778,\"#fb9f3a\"],[0.8888888888888888,\"#fdca26\"],[1.0,\"#f0f921\"]],\"sequentialminus\":[[0.0,\"#0d0887\"],[0.1111111111111111,\"#46039f\"],[0.2222222222222222,\"#7201a8\"],[0.3333333333333333,\"#9c179e\"],[0.4444444444444444,\"#bd3786\"],[0.5555555555555556,\"#d8576b\"],[0.6666666666666666,\"#ed7953\"],[0.7777777777777778,\"#fb9f3a\"],[0.8888888888888888,\"#fdca26\"],[1.0,\"#f0f921\"]],\"diverging\":[[0,\"#8e0152\"],[0.1,\"#c51b7d\"],[0.2,\"#de77ae\"],[0.3,\"#f1b6da\"],[0.4,\"#fde0ef\"],[0.5,\"#f7f7f7\"],[0.6,\"#e6f5d0\"],[0.7,\"#b8e186\"],[0.8,\"#7fbc41\"],[0.9,\"#4d9221\"],[1,\"#276419\"]]},\"xaxis\":{\"gridcolor\":\"white\",\"linecolor\":\"white\",\"ticks\":\"\",\"title\":{\"standoff\":15},\"zerolinecolor\":\"white\",\"automargin\":true,\"zerolinewidth\":2},\"yaxis\":{\"gridcolor\":\"white\",\"linecolor\":\"white\",\"ticks\":\"\",\"title\":{\"standoff\":15},\"zerolinecolor\":\"white\",\"automargin\":true,\"zerolinewidth\":2},\"scene\":{\"xaxis\":{\"backgroundcolor\":\"#E5ECF6\",\"gridcolor\":\"white\",\"linecolor\":\"white\",\"showbackground\":true,\"ticks\":\"\",\"zerolinecolor\":\"white\",\"gridwidth\":2},\"yaxis\":{\"backgroundcolor\":\"#E5ECF6\",\"gridcolor\":\"white\",\"linecolor\":\"white\",\"showbackground\":true,\"ticks\":\"\",\"zerolinecolor\":\"white\",\"gridwidth\":2},\"zaxis\":{\"backgroundcolor\":\"#E5ECF6\",\"gridcolor\":\"white\",\"linecolor\":\"white\",\"showbackground\":true,\"ticks\":\"\",\"zerolinecolor\":\"white\",\"gridwidth\":2}},\"shapedefaults\":{\"line\":{\"color\":\"#2a3f5f\"}},\"annotationdefaults\":{\"arrowcolor\":\"#2a3f5f\",\"arrowhead\":0,\"arrowwidth\":1},\"geo\":{\"bgcolor\":\"white\",\"landcolor\":\"#E5ECF6\",\"subunitcolor\":\"white\",\"showland\":true,\"showlakes\":true,\"lakecolor\":\"white\"},\"title\":{\"x\":0.05},\"mapbox\":{\"style\":\"light\"}}},\"xaxis\":{\"anchor\":\"y\",\"domain\":[0.0,1.0],\"title\":{\"text\":\"Publication date\"}},\"yaxis\":{\"anchor\":\"x\",\"domain\":[0.0,1.0],\"title\":{\"text\":\"Training compute (FLOP)\"},\"type\":\"log\"},\"legend\":{\"title\":{\"text\":\"Model accessibility\"},\"tracegroupgap\":0},\"margin\":{\"t\":60}},                        {\"responsive\": true}                    ).then(function(){\n",
       "                            \n",
       "var gd = document.getElementById('64dbcec8-d56a-4579-a27a-40e834c06b99');\n",
       "var x = new MutationObserver(function (mutations, observer) {{\n",
       "        var display = window.getComputedStyle(gd).display;\n",
       "        if (!display || display === 'none') {{\n",
       "            console.log([gd, 'removed!']);\n",
       "            Plotly.purge(gd);\n",
       "            observer.disconnect();\n",
       "        }}\n",
       "}});\n",
       "\n",
       "// Listen for the removal of the full notebook cells\n",
       "var notebookContainer = gd.closest('#notebook-container');\n",
       "if (notebookContainer) {{\n",
       "    x.observe(notebookContainer, {childList: true});\n",
       "}}\n",
       "\n",
       "// Listen for the clearing of the current output cell\n",
       "var outputEl = gd.closest('.output');\n",
       "if (outputEl) {{\n",
       "    x.observe(outputEl, {childList: true});\n",
       "}}\n",
       "\n",
       "                        })                };                });            </script>        </div>"
      ]
     },
     "metadata": {},
     "output_type": "display_data"
    }
   ],
   "source": [
    "# filter out systems before start of analysis (2015)\n",
    "access_df_recent = filtered_access_df[filtered_access_df['Publication date'] > pred_start_date]\n",
    "\n",
    "fig = px.scatter(\n",
    "    access_df_recent,\n",
    "    x='Publication date',\n",
    "    y='Training compute (FLOP)',\n",
    "    color='Model accessibility',\n",
    "    hover_data=['System'],\n",
    "    log_y=True,\n",
    ")\n",
    "\n",
    "save_plot(fig, results_dir, f'training_compute_by_model_accessibility {analysis_start_year}')\n",
    "\n",
    "fig.show()"
   ]
  },
  {
   "cell_type": "code",
   "execution_count": 108,
   "metadata": {},
   "outputs": [
    {
     "data": {
      "application/vnd.plotly.v1+json": {
       "config": {
        "plotlyServerURL": "https://plot.ly"
       },
       "data": [
        {
         "customdata": [
          [
           "ContextNet + Noisy Student"
          ],
          [
           "Meena"
          ],
          [
           "Turing-NLG"
          ],
          [
           "GPT-3 175B (davinci)"
          ],
          [
           "GPT3-6.7B (rerun of original)"
          ],
          [
           "GShard (dense)"
          ],
          [
           "GShard (600B)"
          ],
          [
           "DALL-E"
          ],
          [
           "Meta Pseudo Labels"
          ],
          [
           "PLUG"
          ],
          [
           "PanGu-α"
          ],
          [
           "CoAtNet"
          ],
          [
           "GOAT"
          ],
          [
           "Jurassic-1-Jumbo"
          ],
          [
           "FLAN 137B"
          ],
          [
           "HyperCLOVA 82B"
          ],
          [
           "Megatron-Turing NLG 530B"
          ],
          [
           "Yuan 1.0"
          ],
          [
           "Gopher (280B)"
          ],
          [
           "GLaM"
          ],
          [
           "ERNIE 3.0 Titan"
          ],
          [
           "LaMDA"
          ],
          [
           "Chinchilla"
          ],
          [
           "PaLM (540B)"
          ],
          [
           "Parti"
          ],
          [
           "Minerva (540B)"
          ],
          [
           "U-PaLM (540B)"
          ],
          [
           "Flan-PaLM 540B"
          ],
          [
           "GPT-3.5 (text-davinci-003)"
          ],
          [
           "GPT-4"
          ],
          [
           "PaLM 2"
          ],
          [
           "Inflection-1"
          ],
          [
           "Claude 2"
          ],
          [
           "Amazon Titan"
          ],
          [
           "Mi:dm 200B"
          ],
          [
           "Inflection-2"
          ],
          [
           "Gemini 1.0 Ultra"
          ],
          [
           "MegaScale (Production)"
          ],
          [
           "Mistral Large"
          ],
          [
           "Inflection-2.5"
          ]
         ],
         "hovertemplate": "Model open/closed=Closed<br>Publication date=%{x}<br>Training compute (FLOP)=%{y}<br>System=%{customdata[0]}<extra></extra>",
         "legendgroup": "Closed",
         "marker": {
          "color": "#636efa",
          "symbol": "circle"
         },
         "mode": "markers",
         "name": "Closed",
         "orientation": "v",
         "showlegend": true,
         "type": "scatter",
         "x": [
          "2020-01-19",
          "2020-01-28",
          "2020-02-13",
          "2020-05-28",
          "2020-05-28",
          "2020-06-30",
          "2020-06-30",
          "2021-01-05",
          "2021-03-01",
          "2021-04-19",
          "2021-04-25",
          "2021-06-09",
          "2021-07-27",
          "2021-08-11",
          "2021-09-03",
          "2021-09-10",
          "2021-10-11",
          "2021-10-12",
          "2021-12-08",
          "2021-12-13",
          "2021-12-23",
          "2022-02-10",
          "2022-03-29",
          "2022-04-04",
          "2022-06-22",
          "2022-06-29",
          "2022-10-20",
          "2022-10-20",
          "2022-11-28",
          "2023-03-15",
          "2023-05-10",
          "2023-06-23",
          "2023-07-11",
          "2023-09-28",
          "2023-10-31",
          "2023-11-22",
          "2023-12-06",
          "2024-02-23",
          "2024-02-26",
          "2024-03-07"
         ],
         "xaxis": "x",
         "y": [
          8.16e+21,
          1.12e+23,
          1.57e+22,
          3.14e+23,
          1.2e+22,
          1.28e+22,
          1.33e+22,
          4.7e+22,
          4.79e+22,
          3.5997695999999996e+22,
          5.83e+22,
          4.27e+22,
          7.8e+22,
          3.7e+23,
          4.896e+22,
          1.476e+23,
          1.17e+24,
          3.5380000000001e+23,
          6.31e+23,
          3.74e+23,
          1.0421e+24,
          3.55e+23,
          5.76e+23,
          2.5272e+24,
          3.962895376192635e+23,
          2.7415e+24,
          2.53e+24,
          2.4999999999999997e+24,
          2.578e+24,
          2.1e+25,
          7.34e+24,
          1.0001e+24,
          3.866e+24,
          4.7999999999999996e+24,
          1.1999999999999999e+24,
          1.001e+25,
          5.0000000001e+25,
          1.2e+25,
          2.0000000001e+25,
          1.0001e+25
         ],
         "yaxis": "y"
        },
        {
         "customdata": [
          [
           "ALBERT-xxlarge"
          ],
          [
           "ELECTRA"
          ],
          [
           "Once for All"
          ],
          [
           "iGPT-XL"
          ],
          [
           "iGPT-L"
          ],
          [
           "mBART-50"
          ],
          [
           "mT5-XXL"
          ],
          [
           "ViT-Huge/14"
          ],
          [
           "CLIP (ViT L/14@336px)"
          ],
          [
           "Switch"
          ],
          [
           "MSA Transformer"
          ],
          [
           "ResNet-RS"
          ],
          [
           "GLM-10B"
          ],
          [
           "GPT-J-6B"
          ],
          [
           "ProtT5-XXL"
          ],
          [
           "ProtT5-XXL-BFD"
          ],
          [
           "ProtBERT-BFD"
          ],
          [
           "CogView"
          ],
          [
           "ByT5-XXL"
          ],
          [
           "XGLM-7.5B"
          ],
          [
           "GPT-NeoX-20B"
          ],
          [
           "Stable Diffusion (LDM-KL-8-G)"
          ],
          [
           "OPT-175B"
          ],
          [
           "UL2"
          ],
          [
           "OPT-66B"
          ],
          [
           "OPT-30B"
          ],
          [
           "CodeGeeX"
          ],
          [
           "YaLM"
          ],
          [
           "ESM2-15B"
          ],
          [
           "GLM-130B"
          ],
          [
           "BlenderBot 3"
          ],
          [
           "BLOOM-176B"
          ],
          [
           "Galactica"
          ],
          [
           "Whisper v2"
          ],
          [
           "OPT-IML (175B)"
          ],
          [
           "LLaMA-65B"
          ],
          [
           "LLaMA-33B"
          ],
          [
           "Falcon-40B"
          ],
          [
           "Llama 2-70B"
          ],
          [
           "Code Llama-34B"
          ],
          [
           "Falcon-180B"
          ],
          [
           "TigerBot-70B"
          ],
          [
           "Yi-34B"
          ],
          [
           "Grok-1"
          ],
          [
           "Qwen-72B"
          ],
          [
           "XVERSE-65B-2"
          ],
          [
           "DeepSeek LLM 67B"
          ],
          [
           "Code Llama-70B"
          ],
          [
           "DBRX"
          ],
          [
           "Llama 3-70B"
          ]
         ],
         "hovertemplate": "Model open/closed=Open<br>Publication date=%{x}<br>Training compute (FLOP)=%{y}<br>System=%{customdata[0]}<extra></extra>",
         "legendgroup": "Open",
         "marker": {
          "color": "#EF553B",
          "symbol": "circle"
         },
         "mode": "markers",
         "name": "Open",
         "orientation": "v",
         "showlegend": true,
         "type": "scatter",
         "x": [
          "2020-02-09",
          "2020-03-23",
          "2020-04-29",
          "2020-06-17",
          "2020-06-17",
          "2020-08-02",
          "2020-10-20",
          "2020-10-22",
          "2021-01-05",
          "2021-01-11",
          "2021-02-13",
          "2021-03-13",
          "2021-03-18",
          "2021-05-01",
          "2021-05-04",
          "2021-05-04",
          "2021-05-04",
          "2021-05-26",
          "2021-05-28",
          "2021-12-20",
          "2022-02-09",
          "2022-04-13",
          "2022-05-02",
          "2022-05-10",
          "2022-06-21",
          "2022-06-21",
          "2022-06-22",
          "2022-06-23",
          "2022-07-21",
          "2022-08-04",
          "2022-08-10",
          "2022-11-08",
          "2022-11-16",
          "2022-12-05",
          "2022-12-22",
          "2023-02-24",
          "2023-02-27",
          "2023-03-15",
          "2023-07-18",
          "2023-08-14",
          "2023-09-06",
          "2023-09-06",
          "2023-11-02",
          "2023-11-04",
          "2023-11-30",
          "2023-12-08",
          "2024-01-05",
          "2024-01-29",
          "2024-03-27",
          "2024-04-18"
         ],
         "xaxis": "x",
         "y": [
          2.39e+21,
          3.0999999999999995e+21,
          1.7842809599999995e+21,
          3.3e+22,
          8.91e+21,
          1.4515200000000002e+22,
          8.2e+22,
          4.262e+21,
          1.05e+22,
          8.22e+22,
          5.49e+21,
          1.763328e+22,
          3.79e+22,
          1.5e+22,
          7.370000000000001e+22,
          3.7e+22,
          3.9e+22,
          2.68e+22,
          8.1e+22,
          4.347592704e+22,
          9.31627008e+22,
          5e+22,
          4.3e+23,
          1.2e+23,
          1.100000000001e+23,
          5.4000000000001e+22,
          6.630000000001e+22,
          2.2e+23,
          7.350000000009999e+22,
          3.778e+23,
          4.3e+23,
          5.770000000000099e+23,
          3.24e+23,
          1.1e+23,
          4.3e+23,
          5.5e+23,
          2.7300000000000996e+23,
          2.4e+23,
          8.1e+23,
          5.3e+23,
          3.76e+24,
          1.02e+24,
          6.1e+23,
          2.90000000001e+24,
          1.3e+24,
          1.24800000000001e+24,
          8.04e+23,
          1.230000000001e+24,
          2.6e+24,
          6.30000000001e+24
         ],
         "yaxis": "y"
        }
       ],
       "layout": {
        "legend": {
         "title": {
          "text": "Model open/closed"
         },
         "tracegroupgap": 0
        },
        "margin": {
         "t": 60
        },
        "template": {
         "data": {
          "bar": [
           {
            "error_x": {
             "color": "#2a3f5f"
            },
            "error_y": {
             "color": "#2a3f5f"
            },
            "marker": {
             "line": {
              "color": "#E5ECF6",
              "width": 0.5
             },
             "pattern": {
              "fillmode": "overlay",
              "size": 10,
              "solidity": 0.2
             }
            },
            "type": "bar"
           }
          ],
          "barpolar": [
           {
            "marker": {
             "line": {
              "color": "#E5ECF6",
              "width": 0.5
             },
             "pattern": {
              "fillmode": "overlay",
              "size": 10,
              "solidity": 0.2
             }
            },
            "type": "barpolar"
           }
          ],
          "carpet": [
           {
            "aaxis": {
             "endlinecolor": "#2a3f5f",
             "gridcolor": "white",
             "linecolor": "white",
             "minorgridcolor": "white",
             "startlinecolor": "#2a3f5f"
            },
            "baxis": {
             "endlinecolor": "#2a3f5f",
             "gridcolor": "white",
             "linecolor": "white",
             "minorgridcolor": "white",
             "startlinecolor": "#2a3f5f"
            },
            "type": "carpet"
           }
          ],
          "choropleth": [
           {
            "colorbar": {
             "outlinewidth": 0,
             "ticks": ""
            },
            "type": "choropleth"
           }
          ],
          "contour": [
           {
            "colorbar": {
             "outlinewidth": 0,
             "ticks": ""
            },
            "colorscale": [
             [
              0,
              "#0d0887"
             ],
             [
              0.1111111111111111,
              "#46039f"
             ],
             [
              0.2222222222222222,
              "#7201a8"
             ],
             [
              0.3333333333333333,
              "#9c179e"
             ],
             [
              0.4444444444444444,
              "#bd3786"
             ],
             [
              0.5555555555555556,
              "#d8576b"
             ],
             [
              0.6666666666666666,
              "#ed7953"
             ],
             [
              0.7777777777777778,
              "#fb9f3a"
             ],
             [
              0.8888888888888888,
              "#fdca26"
             ],
             [
              1,
              "#f0f921"
             ]
            ],
            "type": "contour"
           }
          ],
          "contourcarpet": [
           {
            "colorbar": {
             "outlinewidth": 0,
             "ticks": ""
            },
            "type": "contourcarpet"
           }
          ],
          "heatmap": [
           {
            "colorbar": {
             "outlinewidth": 0,
             "ticks": ""
            },
            "colorscale": [
             [
              0,
              "#0d0887"
             ],
             [
              0.1111111111111111,
              "#46039f"
             ],
             [
              0.2222222222222222,
              "#7201a8"
             ],
             [
              0.3333333333333333,
              "#9c179e"
             ],
             [
              0.4444444444444444,
              "#bd3786"
             ],
             [
              0.5555555555555556,
              "#d8576b"
             ],
             [
              0.6666666666666666,
              "#ed7953"
             ],
             [
              0.7777777777777778,
              "#fb9f3a"
             ],
             [
              0.8888888888888888,
              "#fdca26"
             ],
             [
              1,
              "#f0f921"
             ]
            ],
            "type": "heatmap"
           }
          ],
          "heatmapgl": [
           {
            "colorbar": {
             "outlinewidth": 0,
             "ticks": ""
            },
            "colorscale": [
             [
              0,
              "#0d0887"
             ],
             [
              0.1111111111111111,
              "#46039f"
             ],
             [
              0.2222222222222222,
              "#7201a8"
             ],
             [
              0.3333333333333333,
              "#9c179e"
             ],
             [
              0.4444444444444444,
              "#bd3786"
             ],
             [
              0.5555555555555556,
              "#d8576b"
             ],
             [
              0.6666666666666666,
              "#ed7953"
             ],
             [
              0.7777777777777778,
              "#fb9f3a"
             ],
             [
              0.8888888888888888,
              "#fdca26"
             ],
             [
              1,
              "#f0f921"
             ]
            ],
            "type": "heatmapgl"
           }
          ],
          "histogram": [
           {
            "marker": {
             "pattern": {
              "fillmode": "overlay",
              "size": 10,
              "solidity": 0.2
             }
            },
            "type": "histogram"
           }
          ],
          "histogram2d": [
           {
            "colorbar": {
             "outlinewidth": 0,
             "ticks": ""
            },
            "colorscale": [
             [
              0,
              "#0d0887"
             ],
             [
              0.1111111111111111,
              "#46039f"
             ],
             [
              0.2222222222222222,
              "#7201a8"
             ],
             [
              0.3333333333333333,
              "#9c179e"
             ],
             [
              0.4444444444444444,
              "#bd3786"
             ],
             [
              0.5555555555555556,
              "#d8576b"
             ],
             [
              0.6666666666666666,
              "#ed7953"
             ],
             [
              0.7777777777777778,
              "#fb9f3a"
             ],
             [
              0.8888888888888888,
              "#fdca26"
             ],
             [
              1,
              "#f0f921"
             ]
            ],
            "type": "histogram2d"
           }
          ],
          "histogram2dcontour": [
           {
            "colorbar": {
             "outlinewidth": 0,
             "ticks": ""
            },
            "colorscale": [
             [
              0,
              "#0d0887"
             ],
             [
              0.1111111111111111,
              "#46039f"
             ],
             [
              0.2222222222222222,
              "#7201a8"
             ],
             [
              0.3333333333333333,
              "#9c179e"
             ],
             [
              0.4444444444444444,
              "#bd3786"
             ],
             [
              0.5555555555555556,
              "#d8576b"
             ],
             [
              0.6666666666666666,
              "#ed7953"
             ],
             [
              0.7777777777777778,
              "#fb9f3a"
             ],
             [
              0.8888888888888888,
              "#fdca26"
             ],
             [
              1,
              "#f0f921"
             ]
            ],
            "type": "histogram2dcontour"
           }
          ],
          "mesh3d": [
           {
            "colorbar": {
             "outlinewidth": 0,
             "ticks": ""
            },
            "type": "mesh3d"
           }
          ],
          "parcoords": [
           {
            "line": {
             "colorbar": {
              "outlinewidth": 0,
              "ticks": ""
             }
            },
            "type": "parcoords"
           }
          ],
          "pie": [
           {
            "automargin": true,
            "type": "pie"
           }
          ],
          "scatter": [
           {
            "fillpattern": {
             "fillmode": "overlay",
             "size": 10,
             "solidity": 0.2
            },
            "type": "scatter"
           }
          ],
          "scatter3d": [
           {
            "line": {
             "colorbar": {
              "outlinewidth": 0,
              "ticks": ""
             }
            },
            "marker": {
             "colorbar": {
              "outlinewidth": 0,
              "ticks": ""
             }
            },
            "type": "scatter3d"
           }
          ],
          "scattercarpet": [
           {
            "marker": {
             "colorbar": {
              "outlinewidth": 0,
              "ticks": ""
             }
            },
            "type": "scattercarpet"
           }
          ],
          "scattergeo": [
           {
            "marker": {
             "colorbar": {
              "outlinewidth": 0,
              "ticks": ""
             }
            },
            "type": "scattergeo"
           }
          ],
          "scattergl": [
           {
            "marker": {
             "colorbar": {
              "outlinewidth": 0,
              "ticks": ""
             }
            },
            "type": "scattergl"
           }
          ],
          "scattermapbox": [
           {
            "marker": {
             "colorbar": {
              "outlinewidth": 0,
              "ticks": ""
             }
            },
            "type": "scattermapbox"
           }
          ],
          "scatterpolar": [
           {
            "marker": {
             "colorbar": {
              "outlinewidth": 0,
              "ticks": ""
             }
            },
            "type": "scatterpolar"
           }
          ],
          "scatterpolargl": [
           {
            "marker": {
             "colorbar": {
              "outlinewidth": 0,
              "ticks": ""
             }
            },
            "type": "scatterpolargl"
           }
          ],
          "scatterternary": [
           {
            "marker": {
             "colorbar": {
              "outlinewidth": 0,
              "ticks": ""
             }
            },
            "type": "scatterternary"
           }
          ],
          "surface": [
           {
            "colorbar": {
             "outlinewidth": 0,
             "ticks": ""
            },
            "colorscale": [
             [
              0,
              "#0d0887"
             ],
             [
              0.1111111111111111,
              "#46039f"
             ],
             [
              0.2222222222222222,
              "#7201a8"
             ],
             [
              0.3333333333333333,
              "#9c179e"
             ],
             [
              0.4444444444444444,
              "#bd3786"
             ],
             [
              0.5555555555555556,
              "#d8576b"
             ],
             [
              0.6666666666666666,
              "#ed7953"
             ],
             [
              0.7777777777777778,
              "#fb9f3a"
             ],
             [
              0.8888888888888888,
              "#fdca26"
             ],
             [
              1,
              "#f0f921"
             ]
            ],
            "type": "surface"
           }
          ],
          "table": [
           {
            "cells": {
             "fill": {
              "color": "#EBF0F8"
             },
             "line": {
              "color": "white"
             }
            },
            "header": {
             "fill": {
              "color": "#C8D4E3"
             },
             "line": {
              "color": "white"
             }
            },
            "type": "table"
           }
          ]
         },
         "layout": {
          "annotationdefaults": {
           "arrowcolor": "#2a3f5f",
           "arrowhead": 0,
           "arrowwidth": 1
          },
          "autotypenumbers": "strict",
          "coloraxis": {
           "colorbar": {
            "outlinewidth": 0,
            "ticks": ""
           }
          },
          "colorscale": {
           "diverging": [
            [
             0,
             "#8e0152"
            ],
            [
             0.1,
             "#c51b7d"
            ],
            [
             0.2,
             "#de77ae"
            ],
            [
             0.3,
             "#f1b6da"
            ],
            [
             0.4,
             "#fde0ef"
            ],
            [
             0.5,
             "#f7f7f7"
            ],
            [
             0.6,
             "#e6f5d0"
            ],
            [
             0.7,
             "#b8e186"
            ],
            [
             0.8,
             "#7fbc41"
            ],
            [
             0.9,
             "#4d9221"
            ],
            [
             1,
             "#276419"
            ]
           ],
           "sequential": [
            [
             0,
             "#0d0887"
            ],
            [
             0.1111111111111111,
             "#46039f"
            ],
            [
             0.2222222222222222,
             "#7201a8"
            ],
            [
             0.3333333333333333,
             "#9c179e"
            ],
            [
             0.4444444444444444,
             "#bd3786"
            ],
            [
             0.5555555555555556,
             "#d8576b"
            ],
            [
             0.6666666666666666,
             "#ed7953"
            ],
            [
             0.7777777777777778,
             "#fb9f3a"
            ],
            [
             0.8888888888888888,
             "#fdca26"
            ],
            [
             1,
             "#f0f921"
            ]
           ],
           "sequentialminus": [
            [
             0,
             "#0d0887"
            ],
            [
             0.1111111111111111,
             "#46039f"
            ],
            [
             0.2222222222222222,
             "#7201a8"
            ],
            [
             0.3333333333333333,
             "#9c179e"
            ],
            [
             0.4444444444444444,
             "#bd3786"
            ],
            [
             0.5555555555555556,
             "#d8576b"
            ],
            [
             0.6666666666666666,
             "#ed7953"
            ],
            [
             0.7777777777777778,
             "#fb9f3a"
            ],
            [
             0.8888888888888888,
             "#fdca26"
            ],
            [
             1,
             "#f0f921"
            ]
           ]
          },
          "colorway": [
           "#636efa",
           "#EF553B",
           "#00cc96",
           "#ab63fa",
           "#FFA15A",
           "#19d3f3",
           "#FF6692",
           "#B6E880",
           "#FF97FF",
           "#FECB52"
          ],
          "font": {
           "color": "#2a3f5f"
          },
          "geo": {
           "bgcolor": "white",
           "lakecolor": "white",
           "landcolor": "#E5ECF6",
           "showlakes": true,
           "showland": true,
           "subunitcolor": "white"
          },
          "hoverlabel": {
           "align": "left"
          },
          "hovermode": "closest",
          "mapbox": {
           "style": "light"
          },
          "paper_bgcolor": "white",
          "plot_bgcolor": "#E5ECF6",
          "polar": {
           "angularaxis": {
            "gridcolor": "white",
            "linecolor": "white",
            "ticks": ""
           },
           "bgcolor": "#E5ECF6",
           "radialaxis": {
            "gridcolor": "white",
            "linecolor": "white",
            "ticks": ""
           }
          },
          "scene": {
           "xaxis": {
            "backgroundcolor": "#E5ECF6",
            "gridcolor": "white",
            "gridwidth": 2,
            "linecolor": "white",
            "showbackground": true,
            "ticks": "",
            "zerolinecolor": "white"
           },
           "yaxis": {
            "backgroundcolor": "#E5ECF6",
            "gridcolor": "white",
            "gridwidth": 2,
            "linecolor": "white",
            "showbackground": true,
            "ticks": "",
            "zerolinecolor": "white"
           },
           "zaxis": {
            "backgroundcolor": "#E5ECF6",
            "gridcolor": "white",
            "gridwidth": 2,
            "linecolor": "white",
            "showbackground": true,
            "ticks": "",
            "zerolinecolor": "white"
           }
          },
          "shapedefaults": {
           "line": {
            "color": "#2a3f5f"
           }
          },
          "ternary": {
           "aaxis": {
            "gridcolor": "white",
            "linecolor": "white",
            "ticks": ""
           },
           "baxis": {
            "gridcolor": "white",
            "linecolor": "white",
            "ticks": ""
           },
           "bgcolor": "#E5ECF6",
           "caxis": {
            "gridcolor": "white",
            "linecolor": "white",
            "ticks": ""
           }
          },
          "title": {
           "x": 0.05
          },
          "xaxis": {
           "automargin": true,
           "gridcolor": "white",
           "linecolor": "white",
           "ticks": "",
           "title": {
            "standoff": 15
           },
           "zerolinecolor": "white",
           "zerolinewidth": 2
          },
          "yaxis": {
           "automargin": true,
           "gridcolor": "white",
           "linecolor": "white",
           "ticks": "",
           "title": {
            "standoff": 15
           },
           "zerolinecolor": "white",
           "zerolinewidth": 2
          }
         }
        },
        "xaxis": {
         "anchor": "y",
         "domain": [
          0,
          1
         ],
         "title": {
          "text": "Publication date"
         }
        },
        "yaxis": {
         "anchor": "x",
         "domain": [
          0,
          1
         ],
         "title": {
          "text": "Training compute (FLOP)"
         },
         "type": "log"
        }
       }
      },
      "text/html": [
       "<div>                            <div id=\"717e3abc-916f-4b23-8de2-59171d62c8b2\" class=\"plotly-graph-div\" style=\"height:525px; width:100%;\"></div>            <script type=\"text/javascript\">                require([\"plotly\"], function(Plotly) {                    window.PLOTLYENV=window.PLOTLYENV || {};                                    if (document.getElementById(\"717e3abc-916f-4b23-8de2-59171d62c8b2\")) {                    Plotly.newPlot(                        \"717e3abc-916f-4b23-8de2-59171d62c8b2\",                        [{\"customdata\":[[\"ContextNet + Noisy Student\"],[\"Meena\"],[\"Turing-NLG\"],[\"GPT-3 175B (davinci)\"],[\"GPT3-6.7B (rerun of original)\"],[\"GShard (dense)\"],[\"GShard (600B)\"],[\"DALL-E\"],[\"Meta Pseudo Labels\"],[\"PLUG\"],[\"PanGu-\\u03b1\"],[\"CoAtNet\"],[\"GOAT\"],[\"Jurassic-1-Jumbo\"],[\"FLAN 137B\"],[\"HyperCLOVA 82B\"],[\"Megatron-Turing NLG 530B\"],[\"Yuan 1.0\"],[\"Gopher (280B)\"],[\"GLaM\"],[\"ERNIE 3.0 Titan\"],[\"LaMDA\"],[\"Chinchilla\"],[\"PaLM (540B)\"],[\"Parti\"],[\"Minerva (540B)\"],[\"U-PaLM (540B)\"],[\"Flan-PaLM 540B\"],[\"GPT-3.5 (text-davinci-003)\"],[\"GPT-4\"],[\"PaLM 2\"],[\"Inflection-1\"],[\"Claude 2\"],[\"Amazon Titan\"],[\"Mi:dm 200B\"],[\"Inflection-2\"],[\"Gemini 1.0 Ultra\"],[\"MegaScale (Production)\"],[\"Mistral Large\"],[\"Inflection-2.5\"]],\"hovertemplate\":\"Model open\\u002fclosed=Closed\\u003cbr\\u003ePublication date=%{x}\\u003cbr\\u003eTraining compute (FLOP)=%{y}\\u003cbr\\u003eSystem=%{customdata[0]}\\u003cextra\\u003e\\u003c\\u002fextra\\u003e\",\"legendgroup\":\"Closed\",\"marker\":{\"color\":\"#636efa\",\"symbol\":\"circle\"},\"mode\":\"markers\",\"name\":\"Closed\",\"orientation\":\"v\",\"showlegend\":true,\"x\":[\"2020-01-19\",\"2020-01-28\",\"2020-02-13\",\"2020-05-28\",\"2020-05-28\",\"2020-06-30\",\"2020-06-30\",\"2021-01-05\",\"2021-03-01\",\"2021-04-19\",\"2021-04-25\",\"2021-06-09\",\"2021-07-27\",\"2021-08-11\",\"2021-09-03\",\"2021-09-10\",\"2021-10-11\",\"2021-10-12\",\"2021-12-08\",\"2021-12-13\",\"2021-12-23\",\"2022-02-10\",\"2022-03-29\",\"2022-04-04\",\"2022-06-22\",\"2022-06-29\",\"2022-10-20\",\"2022-10-20\",\"2022-11-28\",\"2023-03-15\",\"2023-05-10\",\"2023-06-23\",\"2023-07-11\",\"2023-09-28\",\"2023-10-31\",\"2023-11-22\",\"2023-12-06\",\"2024-02-23\",\"2024-02-26\",\"2024-03-07\"],\"xaxis\":\"x\",\"y\":[8.16e+21,1.12e+23,1.57e+22,3.14e+23,1.2e+22,1.28e+22,1.33e+22,4.7e+22,4.79e+22,3.5997695999999996e+22,5.83e+22,4.27e+22,7.8e+22,3.7e+23,4.896e+22,1.476e+23,1.17e+24,3.5380000000001e+23,6.31e+23,3.74e+23,1.0421e+24,3.55e+23,5.76e+23,2.5272e+24,3.962895376192635e+23,2.7415e+24,2.53e+24,2.4999999999999997e+24,2.578e+24,2.1e+25,7.34e+24,1.0001e+24,3.866e+24,4.7999999999999996e+24,1.1999999999999999e+24,1.001e+25,5.0000000001e+25,1.2e+25,2.0000000001e+25,1.0001e+25],\"yaxis\":\"y\",\"type\":\"scatter\"},{\"customdata\":[[\"ALBERT-xxlarge\"],[\"ELECTRA\"],[\"Once for All\"],[\"iGPT-XL\"],[\"iGPT-L\"],[\"mBART-50\"],[\"mT5-XXL\"],[\"ViT-Huge\\u002f14\"],[\"CLIP (ViT L\\u002f14@336px)\"],[\"Switch\"],[\"MSA Transformer\"],[\"ResNet-RS\"],[\"GLM-10B\"],[\"GPT-J-6B\"],[\"ProtT5-XXL\"],[\"ProtT5-XXL-BFD\"],[\"ProtBERT-BFD\"],[\"CogView\"],[\"ByT5-XXL\"],[\"XGLM-7.5B\"],[\"GPT-NeoX-20B\"],[\"Stable Diffusion (LDM-KL-8-G)\"],[\"OPT-175B\"],[\"UL2\"],[\"OPT-66B\"],[\"OPT-30B\"],[\"CodeGeeX\"],[\"YaLM\"],[\"ESM2-15B\"],[\"GLM-130B\"],[\"BlenderBot 3\"],[\"BLOOM-176B\"],[\"Galactica\"],[\"Whisper v2\"],[\"OPT-IML (175B)\"],[\"LLaMA-65B\"],[\"LLaMA-33B\"],[\"Falcon-40B\"],[\"Llama 2-70B\"],[\"Code Llama-34B\"],[\"Falcon-180B\"],[\"TigerBot-70B\"],[\"Yi-34B\"],[\"Grok-1\"],[\"Qwen-72B\"],[\"XVERSE-65B-2\"],[\"DeepSeek LLM 67B\"],[\"Code Llama-70B\"],[\"DBRX\"],[\"Llama 3-70B\"]],\"hovertemplate\":\"Model open\\u002fclosed=Open\\u003cbr\\u003ePublication date=%{x}\\u003cbr\\u003eTraining compute (FLOP)=%{y}\\u003cbr\\u003eSystem=%{customdata[0]}\\u003cextra\\u003e\\u003c\\u002fextra\\u003e\",\"legendgroup\":\"Open\",\"marker\":{\"color\":\"#EF553B\",\"symbol\":\"circle\"},\"mode\":\"markers\",\"name\":\"Open\",\"orientation\":\"v\",\"showlegend\":true,\"x\":[\"2020-02-09\",\"2020-03-23\",\"2020-04-29\",\"2020-06-17\",\"2020-06-17\",\"2020-08-02\",\"2020-10-20\",\"2020-10-22\",\"2021-01-05\",\"2021-01-11\",\"2021-02-13\",\"2021-03-13\",\"2021-03-18\",\"2021-05-01\",\"2021-05-04\",\"2021-05-04\",\"2021-05-04\",\"2021-05-26\",\"2021-05-28\",\"2021-12-20\",\"2022-02-09\",\"2022-04-13\",\"2022-05-02\",\"2022-05-10\",\"2022-06-21\",\"2022-06-21\",\"2022-06-22\",\"2022-06-23\",\"2022-07-21\",\"2022-08-04\",\"2022-08-10\",\"2022-11-08\",\"2022-11-16\",\"2022-12-05\",\"2022-12-22\",\"2023-02-24\",\"2023-02-27\",\"2023-03-15\",\"2023-07-18\",\"2023-08-14\",\"2023-09-06\",\"2023-09-06\",\"2023-11-02\",\"2023-11-04\",\"2023-11-30\",\"2023-12-08\",\"2024-01-05\",\"2024-01-29\",\"2024-03-27\",\"2024-04-18\"],\"xaxis\":\"x\",\"y\":[2.39e+21,3.0999999999999995e+21,1.7842809599999995e+21,3.3e+22,8.91e+21,1.4515200000000002e+22,8.2e+22,4.262e+21,1.05e+22,8.22e+22,5.49e+21,1.763328e+22,3.79e+22,1.5e+22,7.370000000000001e+22,3.7e+22,3.9e+22,2.68e+22,8.1e+22,4.347592704e+22,9.31627008e+22,5e+22,4.3e+23,1.2e+23,1.100000000001e+23,5.4000000000001e+22,6.630000000001e+22,2.2e+23,7.350000000009999e+22,3.778e+23,4.3e+23,5.770000000000099e+23,3.24e+23,1.1e+23,4.3e+23,5.5e+23,2.7300000000000996e+23,2.4e+23,8.1e+23,5.3e+23,3.76e+24,1.02e+24,6.1e+23,2.90000000001e+24,1.3e+24,1.24800000000001e+24,8.04e+23,1.230000000001e+24,2.6e+24,6.30000000001e+24],\"yaxis\":\"y\",\"type\":\"scatter\"}],                        {\"template\":{\"data\":{\"histogram2dcontour\":[{\"type\":\"histogram2dcontour\",\"colorbar\":{\"outlinewidth\":0,\"ticks\":\"\"},\"colorscale\":[[0.0,\"#0d0887\"],[0.1111111111111111,\"#46039f\"],[0.2222222222222222,\"#7201a8\"],[0.3333333333333333,\"#9c179e\"],[0.4444444444444444,\"#bd3786\"],[0.5555555555555556,\"#d8576b\"],[0.6666666666666666,\"#ed7953\"],[0.7777777777777778,\"#fb9f3a\"],[0.8888888888888888,\"#fdca26\"],[1.0,\"#f0f921\"]]}],\"choropleth\":[{\"type\":\"choropleth\",\"colorbar\":{\"outlinewidth\":0,\"ticks\":\"\"}}],\"histogram2d\":[{\"type\":\"histogram2d\",\"colorbar\":{\"outlinewidth\":0,\"ticks\":\"\"},\"colorscale\":[[0.0,\"#0d0887\"],[0.1111111111111111,\"#46039f\"],[0.2222222222222222,\"#7201a8\"],[0.3333333333333333,\"#9c179e\"],[0.4444444444444444,\"#bd3786\"],[0.5555555555555556,\"#d8576b\"],[0.6666666666666666,\"#ed7953\"],[0.7777777777777778,\"#fb9f3a\"],[0.8888888888888888,\"#fdca26\"],[1.0,\"#f0f921\"]]}],\"heatmap\":[{\"type\":\"heatmap\",\"colorbar\":{\"outlinewidth\":0,\"ticks\":\"\"},\"colorscale\":[[0.0,\"#0d0887\"],[0.1111111111111111,\"#46039f\"],[0.2222222222222222,\"#7201a8\"],[0.3333333333333333,\"#9c179e\"],[0.4444444444444444,\"#bd3786\"],[0.5555555555555556,\"#d8576b\"],[0.6666666666666666,\"#ed7953\"],[0.7777777777777778,\"#fb9f3a\"],[0.8888888888888888,\"#fdca26\"],[1.0,\"#f0f921\"]]}],\"heatmapgl\":[{\"type\":\"heatmapgl\",\"colorbar\":{\"outlinewidth\":0,\"ticks\":\"\"},\"colorscale\":[[0.0,\"#0d0887\"],[0.1111111111111111,\"#46039f\"],[0.2222222222222222,\"#7201a8\"],[0.3333333333333333,\"#9c179e\"],[0.4444444444444444,\"#bd3786\"],[0.5555555555555556,\"#d8576b\"],[0.6666666666666666,\"#ed7953\"],[0.7777777777777778,\"#fb9f3a\"],[0.8888888888888888,\"#fdca26\"],[1.0,\"#f0f921\"]]}],\"contourcarpet\":[{\"type\":\"contourcarpet\",\"colorbar\":{\"outlinewidth\":0,\"ticks\":\"\"}}],\"contour\":[{\"type\":\"contour\",\"colorbar\":{\"outlinewidth\":0,\"ticks\":\"\"},\"colorscale\":[[0.0,\"#0d0887\"],[0.1111111111111111,\"#46039f\"],[0.2222222222222222,\"#7201a8\"],[0.3333333333333333,\"#9c179e\"],[0.4444444444444444,\"#bd3786\"],[0.5555555555555556,\"#d8576b\"],[0.6666666666666666,\"#ed7953\"],[0.7777777777777778,\"#fb9f3a\"],[0.8888888888888888,\"#fdca26\"],[1.0,\"#f0f921\"]]}],\"surface\":[{\"type\":\"surface\",\"colorbar\":{\"outlinewidth\":0,\"ticks\":\"\"},\"colorscale\":[[0.0,\"#0d0887\"],[0.1111111111111111,\"#46039f\"],[0.2222222222222222,\"#7201a8\"],[0.3333333333333333,\"#9c179e\"],[0.4444444444444444,\"#bd3786\"],[0.5555555555555556,\"#d8576b\"],[0.6666666666666666,\"#ed7953\"],[0.7777777777777778,\"#fb9f3a\"],[0.8888888888888888,\"#fdca26\"],[1.0,\"#f0f921\"]]}],\"mesh3d\":[{\"type\":\"mesh3d\",\"colorbar\":{\"outlinewidth\":0,\"ticks\":\"\"}}],\"scatter\":[{\"fillpattern\":{\"fillmode\":\"overlay\",\"size\":10,\"solidity\":0.2},\"type\":\"scatter\"}],\"parcoords\":[{\"type\":\"parcoords\",\"line\":{\"colorbar\":{\"outlinewidth\":0,\"ticks\":\"\"}}}],\"scatterpolargl\":[{\"type\":\"scatterpolargl\",\"marker\":{\"colorbar\":{\"outlinewidth\":0,\"ticks\":\"\"}}}],\"bar\":[{\"error_x\":{\"color\":\"#2a3f5f\"},\"error_y\":{\"color\":\"#2a3f5f\"},\"marker\":{\"line\":{\"color\":\"#E5ECF6\",\"width\":0.5},\"pattern\":{\"fillmode\":\"overlay\",\"size\":10,\"solidity\":0.2}},\"type\":\"bar\"}],\"scattergeo\":[{\"type\":\"scattergeo\",\"marker\":{\"colorbar\":{\"outlinewidth\":0,\"ticks\":\"\"}}}],\"scatterpolar\":[{\"type\":\"scatterpolar\",\"marker\":{\"colorbar\":{\"outlinewidth\":0,\"ticks\":\"\"}}}],\"histogram\":[{\"marker\":{\"pattern\":{\"fillmode\":\"overlay\",\"size\":10,\"solidity\":0.2}},\"type\":\"histogram\"}],\"scattergl\":[{\"type\":\"scattergl\",\"marker\":{\"colorbar\":{\"outlinewidth\":0,\"ticks\":\"\"}}}],\"scatter3d\":[{\"type\":\"scatter3d\",\"line\":{\"colorbar\":{\"outlinewidth\":0,\"ticks\":\"\"}},\"marker\":{\"colorbar\":{\"outlinewidth\":0,\"ticks\":\"\"}}}],\"scattermapbox\":[{\"type\":\"scattermapbox\",\"marker\":{\"colorbar\":{\"outlinewidth\":0,\"ticks\":\"\"}}}],\"scatterternary\":[{\"type\":\"scatterternary\",\"marker\":{\"colorbar\":{\"outlinewidth\":0,\"ticks\":\"\"}}}],\"scattercarpet\":[{\"type\":\"scattercarpet\",\"marker\":{\"colorbar\":{\"outlinewidth\":0,\"ticks\":\"\"}}}],\"carpet\":[{\"aaxis\":{\"endlinecolor\":\"#2a3f5f\",\"gridcolor\":\"white\",\"linecolor\":\"white\",\"minorgridcolor\":\"white\",\"startlinecolor\":\"#2a3f5f\"},\"baxis\":{\"endlinecolor\":\"#2a3f5f\",\"gridcolor\":\"white\",\"linecolor\":\"white\",\"minorgridcolor\":\"white\",\"startlinecolor\":\"#2a3f5f\"},\"type\":\"carpet\"}],\"table\":[{\"cells\":{\"fill\":{\"color\":\"#EBF0F8\"},\"line\":{\"color\":\"white\"}},\"header\":{\"fill\":{\"color\":\"#C8D4E3\"},\"line\":{\"color\":\"white\"}},\"type\":\"table\"}],\"barpolar\":[{\"marker\":{\"line\":{\"color\":\"#E5ECF6\",\"width\":0.5},\"pattern\":{\"fillmode\":\"overlay\",\"size\":10,\"solidity\":0.2}},\"type\":\"barpolar\"}],\"pie\":[{\"automargin\":true,\"type\":\"pie\"}]},\"layout\":{\"autotypenumbers\":\"strict\",\"colorway\":[\"#636efa\",\"#EF553B\",\"#00cc96\",\"#ab63fa\",\"#FFA15A\",\"#19d3f3\",\"#FF6692\",\"#B6E880\",\"#FF97FF\",\"#FECB52\"],\"font\":{\"color\":\"#2a3f5f\"},\"hovermode\":\"closest\",\"hoverlabel\":{\"align\":\"left\"},\"paper_bgcolor\":\"white\",\"plot_bgcolor\":\"#E5ECF6\",\"polar\":{\"bgcolor\":\"#E5ECF6\",\"angularaxis\":{\"gridcolor\":\"white\",\"linecolor\":\"white\",\"ticks\":\"\"},\"radialaxis\":{\"gridcolor\":\"white\",\"linecolor\":\"white\",\"ticks\":\"\"}},\"ternary\":{\"bgcolor\":\"#E5ECF6\",\"aaxis\":{\"gridcolor\":\"white\",\"linecolor\":\"white\",\"ticks\":\"\"},\"baxis\":{\"gridcolor\":\"white\",\"linecolor\":\"white\",\"ticks\":\"\"},\"caxis\":{\"gridcolor\":\"white\",\"linecolor\":\"white\",\"ticks\":\"\"}},\"coloraxis\":{\"colorbar\":{\"outlinewidth\":0,\"ticks\":\"\"}},\"colorscale\":{\"sequential\":[[0.0,\"#0d0887\"],[0.1111111111111111,\"#46039f\"],[0.2222222222222222,\"#7201a8\"],[0.3333333333333333,\"#9c179e\"],[0.4444444444444444,\"#bd3786\"],[0.5555555555555556,\"#d8576b\"],[0.6666666666666666,\"#ed7953\"],[0.7777777777777778,\"#fb9f3a\"],[0.8888888888888888,\"#fdca26\"],[1.0,\"#f0f921\"]],\"sequentialminus\":[[0.0,\"#0d0887\"],[0.1111111111111111,\"#46039f\"],[0.2222222222222222,\"#7201a8\"],[0.3333333333333333,\"#9c179e\"],[0.4444444444444444,\"#bd3786\"],[0.5555555555555556,\"#d8576b\"],[0.6666666666666666,\"#ed7953\"],[0.7777777777777778,\"#fb9f3a\"],[0.8888888888888888,\"#fdca26\"],[1.0,\"#f0f921\"]],\"diverging\":[[0,\"#8e0152\"],[0.1,\"#c51b7d\"],[0.2,\"#de77ae\"],[0.3,\"#f1b6da\"],[0.4,\"#fde0ef\"],[0.5,\"#f7f7f7\"],[0.6,\"#e6f5d0\"],[0.7,\"#b8e186\"],[0.8,\"#7fbc41\"],[0.9,\"#4d9221\"],[1,\"#276419\"]]},\"xaxis\":{\"gridcolor\":\"white\",\"linecolor\":\"white\",\"ticks\":\"\",\"title\":{\"standoff\":15},\"zerolinecolor\":\"white\",\"automargin\":true,\"zerolinewidth\":2},\"yaxis\":{\"gridcolor\":\"white\",\"linecolor\":\"white\",\"ticks\":\"\",\"title\":{\"standoff\":15},\"zerolinecolor\":\"white\",\"automargin\":true,\"zerolinewidth\":2},\"scene\":{\"xaxis\":{\"backgroundcolor\":\"#E5ECF6\",\"gridcolor\":\"white\",\"linecolor\":\"white\",\"showbackground\":true,\"ticks\":\"\",\"zerolinecolor\":\"white\",\"gridwidth\":2},\"yaxis\":{\"backgroundcolor\":\"#E5ECF6\",\"gridcolor\":\"white\",\"linecolor\":\"white\",\"showbackground\":true,\"ticks\":\"\",\"zerolinecolor\":\"white\",\"gridwidth\":2},\"zaxis\":{\"backgroundcolor\":\"#E5ECF6\",\"gridcolor\":\"white\",\"linecolor\":\"white\",\"showbackground\":true,\"ticks\":\"\",\"zerolinecolor\":\"white\",\"gridwidth\":2}},\"shapedefaults\":{\"line\":{\"color\":\"#2a3f5f\"}},\"annotationdefaults\":{\"arrowcolor\":\"#2a3f5f\",\"arrowhead\":0,\"arrowwidth\":1},\"geo\":{\"bgcolor\":\"white\",\"landcolor\":\"#E5ECF6\",\"subunitcolor\":\"white\",\"showland\":true,\"showlakes\":true,\"lakecolor\":\"white\"},\"title\":{\"x\":0.05},\"mapbox\":{\"style\":\"light\"}}},\"xaxis\":{\"anchor\":\"y\",\"domain\":[0.0,1.0],\"title\":{\"text\":\"Publication date\"}},\"yaxis\":{\"anchor\":\"x\",\"domain\":[0.0,1.0],\"title\":{\"text\":\"Training compute (FLOP)\"},\"type\":\"log\"},\"legend\":{\"title\":{\"text\":\"Model open\\u002fclosed\"},\"tracegroupgap\":0},\"margin\":{\"t\":60}},                        {\"responsive\": true}                    ).then(function(){\n",
       "                            \n",
       "var gd = document.getElementById('717e3abc-916f-4b23-8de2-59171d62c8b2');\n",
       "var x = new MutationObserver(function (mutations, observer) {{\n",
       "        var display = window.getComputedStyle(gd).display;\n",
       "        if (!display || display === 'none') {{\n",
       "            console.log([gd, 'removed!']);\n",
       "            Plotly.purge(gd);\n",
       "            observer.disconnect();\n",
       "        }}\n",
       "}});\n",
       "\n",
       "// Listen for the removal of the full notebook cells\n",
       "var notebookContainer = gd.closest('#notebook-container');\n",
       "if (notebookContainer) {{\n",
       "    x.observe(notebookContainer, {childList: true});\n",
       "}}\n",
       "\n",
       "// Listen for the clearing of the current output cell\n",
       "var outputEl = gd.closest('.output');\n",
       "if (outputEl) {{\n",
       "    x.observe(outputEl, {childList: true});\n",
       "}}\n",
       "\n",
       "                        })                };                });            </script>        </div>"
      ]
     },
     "metadata": {},
     "output_type": "display_data"
    }
   ],
   "source": [
    "fig = px.scatter(\n",
    "    # access_df,\n",
    "    # access_df.loc[access_df_recent['System'].isin(selected_systems)],\n",
    "    access_df_recent,\n",
    "    x='Publication date',\n",
    "    y='Training compute (FLOP)',\n",
    "    color='Model open/closed',\n",
    "    hover_data=['System'],\n",
    "    log_y=True,\n",
    ")\n",
    "\n",
    "save_plot(fig, results_dir, f'training_compute_by_open_closed {analysis_start_year}')\n",
    "\n",
    "fig.show()"
   ]
  },
  {
   "cell_type": "code",
   "execution_count": 109,
   "metadata": {},
   "outputs": [
    {
     "data": {
      "text/plain": [
       "DatetimeIndex(['2020-01-01', '2020-01-31', '2020-03-02', '2020-04-01',\n",
       "               '2020-05-01', '2020-06-01', '2020-07-02', '2020-08-01',\n",
       "               '2020-09-01', '2020-10-01', '2020-10-31', '2020-12-01',\n",
       "               '2021-01-01', '2021-01-31', '2021-03-02', '2021-04-02',\n",
       "               '2021-05-02', '2021-06-02', '2021-07-02', '2021-08-01',\n",
       "               '2021-09-01', '2021-10-01', '2021-11-01', '2021-12-01',\n",
       "               '2022-01-01', '2022-01-31', '2022-03-02', '2022-04-02',\n",
       "               '2022-05-02', '2022-06-02', '2022-07-02', '2022-08-01',\n",
       "               '2022-09-01', '2022-10-01', '2022-11-01', '2022-12-01',\n",
       "               '2023-01-01', '2023-01-31', '2023-03-02', '2023-04-02',\n",
       "               '2023-05-02', '2023-06-02', '2023-07-02', '2023-08-01',\n",
       "               '2023-09-01', '2023-10-01', '2023-11-01', '2023-12-01',\n",
       "               '2024-01-01', '2024-01-31', '2024-03-02', '2024-04-01',\n",
       "               '2024-05-01', '2024-06-01', '2024-07-02', '2024-08-01',\n",
       "               '2024-09-01', '2024-10-01', '2024-10-31', '2024-12-01',\n",
       "               '2025-01-01'],\n",
       "              dtype='datetime64[ns]', name='Publication date', freq=None)"
      ]
     },
     "execution_count": 109,
     "metadata": {},
     "output_type": "execute_result"
    }
   ],
   "source": [
    "predicted_open_df.index\n"
   ]
  },
  {
   "cell_type": "code",
   "execution_count": 110,
   "metadata": {},
   "outputs": [
    {
     "data": {
      "application/vnd.plotly.v1+json": {
       "config": {
        "plotlyServerURL": "https://plot.ly"
       },
       "data": [
        {
         "customdata": [
          [
           "ContextNet + Noisy Student"
          ],
          [
           "Meena"
          ],
          [
           "Turing-NLG"
          ],
          [
           "GPT-3 175B (davinci)"
          ],
          [
           "GPT3-6.7B (rerun of original)"
          ],
          [
           "GShard (dense)"
          ],
          [
           "GShard (600B)"
          ],
          [
           "DALL-E"
          ],
          [
           "Meta Pseudo Labels"
          ],
          [
           "PLUG"
          ],
          [
           "PanGu-α"
          ],
          [
           "CoAtNet"
          ],
          [
           "GOAT"
          ],
          [
           "Jurassic-1-Jumbo"
          ],
          [
           "FLAN 137B"
          ],
          [
           "HyperCLOVA 82B"
          ],
          [
           "Megatron-Turing NLG 530B"
          ],
          [
           "Yuan 1.0"
          ],
          [
           "Gopher (280B)"
          ],
          [
           "GLaM"
          ],
          [
           "ERNIE 3.0 Titan"
          ],
          [
           "LaMDA"
          ],
          [
           "Chinchilla"
          ],
          [
           "PaLM (540B)"
          ],
          [
           "Parti"
          ],
          [
           "Minerva (540B)"
          ],
          [
           "U-PaLM (540B)"
          ],
          [
           "Flan-PaLM 540B"
          ],
          [
           "GPT-3.5 (text-davinci-003)"
          ],
          [
           "GPT-4"
          ],
          [
           "PaLM 2"
          ],
          [
           "Inflection-1"
          ],
          [
           "Claude 2"
          ],
          [
           "Amazon Titan"
          ],
          [
           "Mi:dm 200B"
          ],
          [
           "Inflection-2"
          ],
          [
           "Gemini 1.0 Ultra"
          ],
          [
           "MegaScale (Production)"
          ],
          [
           "Mistral Large"
          ],
          [
           "Inflection-2.5"
          ]
         ],
         "hovertemplate": "Model open/closed=Closed<br>Publication date (float)=%{x}<br>Training compute (FLOP)=%{y}<br>System=%{customdata[0]}<extra></extra>",
         "legendgroup": "Closed",
         "marker": {
          "color": "#636efa",
          "symbol": "circle"
         },
         "mode": "markers",
         "name": "Closed",
         "orientation": "v",
         "showlegend": true,
         "textposition": "top center",
         "type": "scatter",
         "x": [
          2020.049282343127,
          2020.0739235146905,
          2020.1161882287513,
          2020.4072568480237,
          2020.4072568480237,
          2020.4960659972603,
          2020.4960659972603,
          2021.010951631806,
          2021.1666666666667,
          2021.299282343127,
          2021.315709790836,
          2021.4385699302788,
          2021.571185606739,
          2021.6107124128482,
          2021.6721424825698,
          2021.6913078382302,
          2021.777379079515,
          2021.7801169874665,
          2021.9358320223273,
          2021.9495215620848,
          2021.9769006415997,
          2022.1079745048967,
          2022.2433280893088,
          2022.2582137238544,
          2022.4741627336482,
          2022.4933280893088,
          2022.8020202510786,
          2022.8020202510786,
          2022.9072568480237,
          2023.2049973779879,
          2023.3579745048967,
          2023.4769006415997,
          2023.527379079515,
          2023.7405901813572,
          2023.832137238545,
          2023.8908294003147,
          2023.9303562064242,
          2024.1435673082663,
          2024.1517810321209,
          2024.1830941143758
         ],
         "xaxis": "x",
         "y": [
          8.16e+21,
          1.12e+23,
          1.57e+22,
          3.14e+23,
          1.2e+22,
          1.28e+22,
          1.33e+22,
          4.7e+22,
          4.79e+22,
          3.5997695999999996e+22,
          5.83e+22,
          4.27e+22,
          7.8e+22,
          3.7e+23,
          4.896e+22,
          1.476e+23,
          1.17e+24,
          3.5380000000001e+23,
          6.31e+23,
          3.74e+23,
          1.0421e+24,
          3.55e+23,
          5.76e+23,
          2.5272e+24,
          3.962895376192635e+23,
          2.7415e+24,
          2.53e+24,
          2.4999999999999997e+24,
          2.578e+24,
          2.1e+25,
          7.34e+24,
          1.0001e+24,
          3.866e+24,
          4.7999999999999996e+24,
          1.1999999999999999e+24,
          1.001e+25,
          5.0000000001e+25,
          1.2e+25,
          2.0000000001e+25,
          1.0001e+25
         ],
         "yaxis": "y"
        },
        {
         "customdata": [
          [
           "ALBERT-xxlarge"
          ],
          [
           "ELECTRA"
          ],
          [
           "Once for All"
          ],
          [
           "iGPT-XL"
          ],
          [
           "iGPT-L"
          ],
          [
           "mBART-50"
          ],
          [
           "mT5-XXL"
          ],
          [
           "ViT-Huge/14"
          ],
          [
           "CLIP (ViT L/14@336px)"
          ],
          [
           "Switch"
          ],
          [
           "MSA Transformer"
          ],
          [
           "ResNet-RS"
          ],
          [
           "GLM-10B"
          ],
          [
           "GPT-J-6B"
          ],
          [
           "ProtT5-XXL"
          ],
          [
           "ProtT5-XXL-BFD"
          ],
          [
           "ProtBERT-BFD"
          ],
          [
           "CogView"
          ],
          [
           "ByT5-XXL"
          ],
          [
           "XGLM-7.5B"
          ],
          [
           "GPT-NeoX-20B"
          ],
          [
           "Stable Diffusion (LDM-KL-8-G)"
          ],
          [
           "OPT-175B"
          ],
          [
           "UL2"
          ],
          [
           "OPT-66B"
          ],
          [
           "OPT-30B"
          ],
          [
           "CodeGeeX"
          ],
          [
           "YaLM"
          ],
          [
           "ESM2-15B"
          ],
          [
           "GLM-130B"
          ],
          [
           "BlenderBot 3"
          ],
          [
           "BLOOM-176B"
          ],
          [
           "Galactica"
          ],
          [
           "Whisper v2"
          ],
          [
           "OPT-IML (175B)"
          ],
          [
           "LLaMA-65B"
          ],
          [
           "LLaMA-33B"
          ],
          [
           "Falcon-40B"
          ],
          [
           "Llama 2-70B"
          ],
          [
           "Code Llama-34B"
          ],
          [
           "Falcon-180B"
          ],
          [
           "TigerBot-70B"
          ],
          [
           "Yi-34B"
          ],
          [
           "Grok-1"
          ],
          [
           "Qwen-72B"
          ],
          [
           "XVERSE-65B-2"
          ],
          [
           "DeepSeek LLM 67B"
          ],
          [
           "Code Llama-70B"
          ],
          [
           "DBRX"
          ],
          [
           "Llama 3-70B"
          ]
         ],
         "hovertemplate": "Model open/closed=Open<br>Publication date (float)=%{x}<br>Training compute (FLOP)=%{y}<br>System=%{customdata[0]}<extra></extra>",
         "legendgroup": "Open",
         "marker": {
          "color": "#EF553B",
          "symbol": "circle"
         },
         "mode": "markers",
         "name": "Open",
         "orientation": "v",
         "showlegend": true,
         "textposition": "top center",
         "type": "scatter",
         "x": [
          2020.1052365969454,
          2020.2269006415997,
          2020.326661422642,
          2020.4604731938907,
          2020.4604731938907,
          2020.5860712412848,
          2020.8020202510786,
          2020.8074960669815,
          2021.010951631806,
          2021.027379079515,
          2021.1161882287513,
          2021.1995215620848,
          2021.2132111018423,
          2021.3333333333333,
          2021.3415470571877,
          2021.3415470571877,
          2021.3415470571877,
          2021.4017810321209,
          2021.4072568480237,
          2021.9686869177453,
          2022.1052365969454,
          2022.282854895418,
          2022.3360712412848,
          2022.3579745048967,
          2022.4714248256969,
          2022.4714248256969,
          2022.4741627336482,
          2022.4769006415997,
          2022.5547581590301,
          2022.5915470571877,
          2022.6079745048967,
          2022.8524986889938,
          2022.8744019526057,
          2022.9276182984727,
          2022.9741627336482,
          2023.1463052162178,
          2023.1545189400722,
          2023.2049973779879,
          2023.5465444351755,
          2023.6189261367028,
          2023.6803562064242,
          2023.6803562064242,
          2023.8360712412848,
          2023.8415470571877,
          2023.9127326639268,
          2023.9358320223273,
          2024.010951631806,
          2024.076661422642,
          2024.2378522734057,
          2024.2965444351755
         ],
         "xaxis": "x",
         "y": [
          2.39e+21,
          3.0999999999999995e+21,
          1.7842809599999995e+21,
          3.3e+22,
          8.91e+21,
          1.4515200000000002e+22,
          8.2e+22,
          4.262e+21,
          1.05e+22,
          8.22e+22,
          5.49e+21,
          1.763328e+22,
          3.79e+22,
          1.5e+22,
          7.370000000000001e+22,
          3.7e+22,
          3.9e+22,
          2.68e+22,
          8.1e+22,
          4.347592704e+22,
          9.31627008e+22,
          5e+22,
          4.3e+23,
          1.2e+23,
          1.100000000001e+23,
          5.4000000000001e+22,
          6.630000000001e+22,
          2.2e+23,
          7.350000000009999e+22,
          3.778e+23,
          4.3e+23,
          5.770000000000099e+23,
          3.24e+23,
          1.1e+23,
          4.3e+23,
          5.5e+23,
          2.7300000000000996e+23,
          2.4e+23,
          8.1e+23,
          5.3e+23,
          3.76e+24,
          1.02e+24,
          6.1e+23,
          2.90000000001e+24,
          1.3e+24,
          1.24800000000001e+24,
          8.04e+23,
          1.230000000001e+24,
          2.6e+24,
          6.30000000001e+24
         ],
         "yaxis": "y"
        },
        {
         "line": {
          "width": 0
         },
         "mode": "lines",
         "showlegend": false,
         "textposition": "top center",
         "type": "scatter",
         "x": [
          2020,
          2020.0833333333333,
          2020.1666666666667,
          2020.25,
          2020.3333333333333,
          2020.4166666666667,
          2020.5,
          2020.5833333333333,
          2020.6666666666667,
          2020.75,
          2020.8333333333333,
          2020.9166666666667,
          2021,
          2021.0833333333333,
          2021.1666666666667,
          2021.25,
          2021.3333333333333,
          2021.4166666666667,
          2021.5,
          2021.5833333333333,
          2021.6666666666667,
          2021.75,
          2021.8333333333333,
          2021.9166666666667,
          2022,
          2022.0833333333333,
          2022.1666666666667,
          2022.25,
          2022.3333333333333,
          2022.4166666666667,
          2022.5,
          2022.5833333333333,
          2022.6666666666667,
          2022.75,
          2022.8333333333333,
          2022.9166666666667,
          2023,
          2023.0833333333333,
          2023.1666666666667,
          2023.25,
          2023.3333333333333,
          2023.4166666666667,
          2023.5,
          2023.5833333333333,
          2023.6666666666667,
          2023.75,
          2023.8333333333333,
          2023.9166666666667,
          2024,
          2024.0833333333333,
          2024.1666666666667,
          2024.25,
          2024.3333333333333,
          2024.4166666666667,
          2024.5,
          2024.5833333333333,
          2024.6666666666667,
          2024.75,
          2024.8333333333333,
          2024.9166666666667,
          2025
         ],
         "y": [
          2.4245656541458276e+21,
          2.7841834050424144e+21,
          3.196755735086292e+21,
          3.6699824682536917e+21,
          4.2126570543963544e+21,
          4.834814726434283e+21,
          5.547898671608269e+21,
          6.364945796120139e+21,
          7.300793609912712e+21,
          8.37230963343204e+21,
          9.598644512787345e+21,
          1.1001509707459594e+22,
          1.2605480175981652e+22,
          1.4438321934147695e+22,
          1.6531343727585177e+22,
          1.891977141916784e+22,
          2.1643143177029116e+22,
          2.474572338011688e+22,
          2.827693365309773e+22,
          3.2291801007799304e+22,
          3.685142615009299e+22,
          4.2023479975696795e+22,
          4.788274321225133e+22,
          5.451171262254741e+22,
          6.2001305974015735e+22,
          7.04517051514871e+22,
          7.997338001174502e+22,
          9.068833296059137e+22,
          1.027315953657829e+23,
          1.1625299358879056e+23,
          1.3141918840832356e+23,
          1.4841598140178872e+23,
          1.6745087881003548e+23,
          1.8875590843248063e+23,
          2.125906964895334e+23,
          2.3924582593768924e+23,
          2.6904651221423154e+23,
          3.0235664469812916e+23,
          3.3958325160426336e+23,
          3.8118145301193845e+23,
          4.276599722484116e+23,
          4.7958728096225386e+23,
          5.375984588011058e+23,
          6.024028552242184e+23,
          6.747926489657063e+23,
          7.556524102067759e+23,
          8.459697816951701e+23,
          9.468474079317663e+23,
          1.0595162562212918e+24,
          1.1853504899515693e+24,
          1.325884073060824e+24,
          1.4828293054815655e+24,
          1.658097512618392e+24,
          1.8538221378759912e+24,
          2.0723845162380163e+24,
          2.316442639222367e+24,
          2.5889632575776443e+24,
          2.893257708314667e+24,
          3.2330218975366305e+24,
          3.61238092055956e+24,
          4.035938856672142e+24
         ]
        },
        {
         "fill": "tonexty",
         "fillcolor": "rgba(230,100,0,0.2)",
         "line": {
          "width": 0
         },
         "mode": "lines",
         "name": "95% CI of mean",
         "textposition": "top center",
         "type": "scatter",
         "x": [
          2020,
          2020.0833333333333,
          2020.1666666666667,
          2020.25,
          2020.3333333333333,
          2020.4166666666667,
          2020.5,
          2020.5833333333333,
          2020.6666666666667,
          2020.75,
          2020.8333333333333,
          2020.9166666666667,
          2021,
          2021.0833333333333,
          2021.1666666666667,
          2021.25,
          2021.3333333333333,
          2021.4166666666667,
          2021.5,
          2021.5833333333333,
          2021.6666666666667,
          2021.75,
          2021.8333333333333,
          2021.9166666666667,
          2022,
          2022.0833333333333,
          2022.1666666666667,
          2022.25,
          2022.3333333333333,
          2022.4166666666667,
          2022.5,
          2022.5833333333333,
          2022.6666666666667,
          2022.75,
          2022.8333333333333,
          2022.9166666666667,
          2023,
          2023.0833333333333,
          2023.1666666666667,
          2023.25,
          2023.3333333333333,
          2023.4166666666667,
          2023.5,
          2023.5833333333333,
          2023.6666666666667,
          2023.75,
          2023.8333333333333,
          2023.9166666666667,
          2024,
          2024.0833333333333,
          2024.1666666666667,
          2024.25,
          2024.3333333333333,
          2024.4166666666667,
          2024.5,
          2024.5833333333333,
          2024.6666666666667,
          2024.75,
          2024.8333333333333,
          2024.9166666666667,
          2025
         ],
         "y": [
          6.288481687531873e+21,
          7.029273608235862e+21,
          7.858277755737707e+21,
          8.786205929375568e+21,
          9.825118602994192e+21,
          1.0988606208424137e+22,
          1.2291997561105366e+22,
          1.3752600130855102e+22,
          1.538997779901073e+22,
          1.7226272880375028e+22,
          1.9286580560629315e+22,
          2.1599385544142646e+22,
          2.4197072657541314e+22,
          2.711652543358961e+22,
          3.039982930869737e+22,
          3.4095098969274876e+22,
          3.825745248250219e+22,
          4.295015797336603e+22,
          4.824598149964619e+22,
          5.422876708414464e+22,
          6.099528121354442e+22,
          6.865735422264003e+22,
          7.73443498570485e+22,
          8.72059924987074e+22,
          9.841558036322013e+22,
          1.1117361452622424e+23,
          1.2571188040011412e+23,
          1.4229803234078908e+23,
          1.6124075403690338e+23,
          1.828955956769615e+23,
          2.0767162010497475e+23,
          2.3603902009759932e+23,
          2.6853789452791222e+23,
          3.0578839205850946e+23,
          3.4850244930310377e+23,
          3.974973698745126e+23,
          4.537115152652406e+23,
          5.182224109358622e+23,
          5.922676128494536e+23,
          6.772687315429245e+23,
          7.748590727815255e+23,
          8.869154261125721e+23,
          1.0155946158361294e+24,
          1.1633755241397009e+24,
          1.3331074049840802e+24,
          1.528065431850284e+24,
          1.7520145651025022e+24,
          2.0092829883307123e+24,
          2.30484655093791e+24,
          2.644425870151156e+24,
          3.034597993835835e+24,
          3.4829248109497785e+24,
          3.998100724777863e+24,
          4.590122481660312e+24,
          5.270484482299098e+24,
          6.052403402351161e+24,
          6.951076523664659e+24,
          7.983978838607749e+24,
          9.17120475036073e+24,
          1.0535861066642604e+25,
          1.2104518990511323e+25
         ]
        },
        {
         "line": {
          "color": "rgb(230,100,0)"
         },
         "mode": "lines",
         "name": "Regression mean (growth rate: 4.5x per year)",
         "textposition": "top center",
         "type": "scatter",
         "x": [
          2020,
          2020.0833333333333,
          2020.1666666666667,
          2020.25,
          2020.3333333333333,
          2020.4166666666667,
          2020.5,
          2020.5833333333333,
          2020.6666666666667,
          2020.75,
          2020.8333333333333,
          2020.9166666666667,
          2021,
          2021.0833333333333,
          2021.1666666666667,
          2021.25,
          2021.3333333333333,
          2021.4166666666667,
          2021.5,
          2021.5833333333333,
          2021.6666666666667,
          2021.75,
          2021.8333333333333,
          2021.9166666666667,
          2022,
          2022.0833333333333,
          2022.1666666666667,
          2022.25,
          2022.3333333333333,
          2022.4166666666667,
          2022.5,
          2022.5833333333333,
          2022.6666666666667,
          2022.75,
          2022.8333333333333,
          2022.9166666666667,
          2023,
          2023.0833333333333,
          2023.1666666666667,
          2023.25,
          2023.3333333333333,
          2023.4166666666667,
          2023.5,
          2023.5833333333333,
          2023.6666666666667,
          2023.75,
          2023.8333333333333,
          2023.9166666666667,
          2024,
          2024.0833333333333,
          2024.1666666666667,
          2024.25,
          2024.3333333333333,
          2024.4166666666667,
          2024.5,
          2024.5833333333333,
          2024.6666666666667,
          2024.75,
          2024.8333333333333,
          2024.9166666666667,
          2025
         ],
         "y": [
          3.90471979997474e+21,
          4.4238882139530723e+21,
          5.01208484401008e+21,
          5.678487626408546e+21,
          6.433494788463292e+21,
          7.288887097457073e+21,
          8.258011682037542e+21,
          9.355990294383992e+21,
          1.0599955262722389e+22,
          1.2009316815893105e+22,
          1.3606065951211455e+22,
          1.5415117571366356e+22,
          1.7464699244516773e+22,
          1.9786791653668127e+22,
          2.2417627607799943e+22,
          2.539825740110108e+22,
          2.8775189341986666e+22,
          3.2601115446273267e+22,
          3.6935733617921763e+22,
          4.184667914637308e+22,
          4.741058005493169e+22,
          5.371425276739345e+22,
          6.085605674970718e+22,
          6.894742926355966e+22,
          7.811462417953725e+22,
          8.850068198170359e+22,
          1.0026766170221269e+23,
          1.1359916961209918e+23,
          1.2870322412508897e+23,
          1.4581550161643252e+23,
          1.6520301380313094e+23,
          1.871682740661508e+23,
          2.1205401772306867e+23,
          2.4024854990428455e+23,
          2.7219180447922223e+23,
          3.083822085719066e+23,
          3.493844597768296e+23,
          3.958383374282264e+23,
          4.484686854077021e+23,
          5.08096722257765e+23,
          5.7565285508036624e+23,
          6.521911971598568e+23,
          7.389060158370646e+23,
          8.371503672816057e+23,
          9.484572089266895e+23,
          1.0745633189958258e+24,
          1.2174363963536336e+24,
          1.379305763528279e+24,
          1.5626971519825238e+24,
          1.7704721124107765e+24,
          2.0058726649937833e+24,
          2.2725718863140883e+24,
          2.5747312222738834e+24,
          2.9170654212862915e+24,
          3.304916100930459e+24,
          3.7443350959790917e+24,
          4.242178888304729e+24,
          4.8062155921081046e+24,
          5.445246163830264e+24,
          6.169241728025094e+24,
          6.989499161966507e+24
         ]
        },
        {
         "line": {
          "width": 0
         },
         "mode": "lines",
         "showlegend": false,
         "textposition": "top center",
         "type": "scatter",
         "x": [
          2020,
          2020.0833333333333,
          2020.1666666666667,
          2020.25,
          2020.3333333333333,
          2020.4166666666667,
          2020.5,
          2020.5833333333333,
          2020.6666666666667,
          2020.75,
          2020.8333333333333,
          2020.9166666666667,
          2021,
          2021.0833333333333,
          2021.1666666666667,
          2021.25,
          2021.3333333333333,
          2021.4166666666667,
          2021.5,
          2021.5833333333333,
          2021.6666666666667,
          2021.75,
          2021.8333333333333,
          2021.9166666666667,
          2022,
          2022.0833333333333,
          2022.1666666666667,
          2022.25,
          2022.3333333333333,
          2022.4166666666667,
          2022.5,
          2022.5833333333333,
          2022.6666666666667,
          2022.75,
          2022.8333333333333,
          2022.9166666666667,
          2023,
          2023.0833333333333,
          2023.1666666666667,
          2023.25,
          2023.3333333333333,
          2023.4166666666667,
          2023.5,
          2023.5833333333333,
          2023.6666666666667,
          2023.75,
          2023.8333333333333,
          2023.9166666666667,
          2024,
          2024.0833333333333,
          2024.1666666666667,
          2024.25,
          2024.3333333333333,
          2024.4166666666667,
          2024.5,
          2024.5833333333333,
          2024.6666666666667,
          2024.75,
          2024.8333333333333,
          2024.9166666666667,
          2025
         ],
         "y": [
          6.715441439785423e+21,
          7.890946161562738e+21,
          9.270275227281625e+21,
          1.0888214185693476e+22,
          1.2785320582257899e+22,
          1.5008831447321861e+22,
          1.7613697709275032e+22,
          2.0663758235459603e+22,
          2.423306579621217e+22,
          2.8407376173851396e+22,
          3.3285809734578977e+22,
          3.898269191509143e+22,
          4.562957520539021e+22,
          5.337744046917936e+22,
          6.239907027147832e+22,
          7.289158218058264e+22,
          8.507910730207124e+22,
          9.921560084240351e+22,
          1.15587780219125e+23,
          1.3451820534231086e+23,
          1.5636854780300988e+23,
          1.8154314143709796e+23,
          2.104929630167608e+23,
          2.437202506615969e+23,
          2.8178401636907643e+23,
          3.2530673353580826e+23,
          3.7498246987852746e+23,
          4.315866898896083e+23,
          4.959878808700117e+23,
          5.6916108499813965e+23,
          6.522033713533251e+23,
          7.463512732869312e+23,
          8.530002514430546e+23,
          9.737263116927955e+23,
          1.110309994127884e+24,
          1.2647630385965862e+24,
          1.4393581142163335e+24,
          1.6366620717509765e+24,
          1.8595732407996793e+24,
          2.1113633532101663e+24,
          2.3957247352455304e+24,
          2.716823478333346e+24,
          3.0793593752056073e+24,
          3.4886334973380255e+24,
          3.95062439261703e+24,
          4.472074000727356e+24,
          5.06058451930669e+24,
          5.724727608074044e+24,
          6.474167492964874e+24,
          7.319799729935768e+24,
          8.273907611160046e+24,
          9.350338447995084e+24,
          1.0564702248742622e+25,
          1.1934595628780404e+25,
          1.3479854150788085e+25,
          1.522283669856443e+25,
          1.7188745944874728e+25,
          1.94059894888192e+25,
          2.1906586818380737e+25,
          2.4726627907285352e+25,
          2.7906789991759425e+25
         ]
        },
        {
         "fill": "tonexty",
         "fillcolor": "rgba(0,100,200,0.2)",
         "line": {
          "width": 0
         },
         "mode": "lines",
         "name": "95% CI of mean",
         "textposition": "top center",
         "type": "scatter",
         "x": [
          2020,
          2020.0833333333333,
          2020.1666666666667,
          2020.25,
          2020.3333333333333,
          2020.4166666666667,
          2020.5,
          2020.5833333333333,
          2020.6666666666667,
          2020.75,
          2020.8333333333333,
          2020.9166666666667,
          2021,
          2021.0833333333333,
          2021.1666666666667,
          2021.25,
          2021.3333333333333,
          2021.4166666666667,
          2021.5,
          2021.5833333333333,
          2021.6666666666667,
          2021.75,
          2021.8333333333333,
          2021.9166666666667,
          2022,
          2022.0833333333333,
          2022.1666666666667,
          2022.25,
          2022.3333333333333,
          2022.4166666666667,
          2022.5,
          2022.5833333333333,
          2022.6666666666667,
          2022.75,
          2022.8333333333333,
          2022.9166666666667,
          2023,
          2023.0833333333333,
          2023.1666666666667,
          2023.25,
          2023.3333333333333,
          2023.4166666666667,
          2023.5,
          2023.5833333333333,
          2023.6666666666667,
          2023.75,
          2023.8333333333333,
          2023.9166666666667,
          2024,
          2024.0833333333333,
          2024.1666666666667,
          2024.25,
          2024.3333333333333,
          2024.4166666666667,
          2024.5,
          2024.5833333333333,
          2024.6666666666667,
          2024.75,
          2024.8333333333333,
          2024.9166666666667,
          2025
         ],
         "y": [
          2.589942781462471e+22,
          2.926616383713153e+22,
          3.307747848357527e+22,
          3.739370627693667e+22,
          4.2283768818797426e+22,
          4.782649730932058e+22,
          5.411218381946259e+22,
          6.124440670508901e+22,
          6.934218564122769e+22,
          7.854253415108295e+22,
          8.90034926529257e+22,
          1.0090774341036718e+23,
          1.1446693077996961e+23,
          1.2992683612408245e+23,
          1.4757358679056424e+23,
          1.677411123860841e+23,
          1.908200983959581e+23,
          2.1726872563811006e+23,
          2.4762552217498327e+23,
          2.8252469012633807e+23,
          3.2271430211287294e+23,
          3.690777918566611e+23,
          4.2265919577169004e+23,
          4.846926474644388e+23,
          5.566367002121148e+23,
          6.402141711371951e+23,
          7.374583792432883e+23,
          8.50766892973419e+23,
          9.829642046061571e+23,
          1.1373750923019253e+24,
          1.3179107985294107e+24,
          1.5291705372782523e+24,
          1.7765612482554275e+24,
          2.0664389651357436e+24,
          2.4062756865495164e+24,
          2.8048562642342375e+24,
          3.2725105813600767e+24,
          3.8213872106107285e+24,
          4.465775840020513e+24,
          5.22248706077054e+24,
          6.111299655832144e+24,
          7.155487349296179e+24,
          8.382439120090616e+24,
          9.824389706715415e+24,
          1.151927989890469e+25,
          1.351176970786272e+25,
          1.5854431623164807e+25,
          1.8609156012630421e+25,
          2.1848806432834535e+25,
          2.5659169346512033e+25,
          3.014125067020751e+25,
          3.5413980915928134e+25,
          4.161740169584717e+25,
          4.891641932585919e+25,
          5.750522654322081e+25,
          6.761251135703178e+25,
          7.950759326351404e+25,
          9.35076520550585e+25,
          1.0998624390675255e+26,
          1.2938333413029267e+26,
          1.522171168835603e+26
         ]
        },
        {
         "line": {
          "color": "rgb(0,100,200)"
         },
         "mode": "lines",
         "name": "Regression mean (growth rate: 5.5x per year)",
         "textposition": "top center",
         "type": "scatter",
         "x": [
          2020,
          2020.0833333333333,
          2020.1666666666667,
          2020.25,
          2020.3333333333333,
          2020.4166666666667,
          2020.5,
          2020.5833333333333,
          2020.6666666666667,
          2020.75,
          2020.8333333333333,
          2020.9166666666667,
          2021,
          2021.0833333333333,
          2021.1666666666667,
          2021.25,
          2021.3333333333333,
          2021.4166666666667,
          2021.5,
          2021.5833333333333,
          2021.6666666666667,
          2021.75,
          2021.8333333333333,
          2021.9166666666667,
          2022,
          2022.0833333333333,
          2022.1666666666667,
          2022.25,
          2022.3333333333333,
          2022.4166666666667,
          2022.5,
          2022.5833333333333,
          2022.6666666666667,
          2022.75,
          2022.8333333333333,
          2022.9166666666667,
          2023,
          2023.0833333333333,
          2023.1666666666667,
          2023.25,
          2023.3333333333333,
          2023.4166666666667,
          2023.5,
          2023.5833333333333,
          2023.6666666666667,
          2023.75,
          2023.8333333333333,
          2023.9166666666667,
          2024,
          2024.0833333333333,
          2024.1666666666667,
          2024.25,
          2024.3333333333333,
          2024.4166666666667,
          2024.5,
          2024.5833333333333,
          2024.6666666666667,
          2024.75,
          2024.8333333333333,
          2024.9166666666667,
          2025
         ],
         "y": [
          1.3188104140211435e+22,
          1.519663525897359e+22,
          1.7511063056457446e+22,
          2.0177975199216523e+22,
          2.325105459488678e+22,
          2.679215998816417e+22,
          3.0872571130126782e+22,
          3.55744235853249e+22,
          4.099236205803502e+22,
          4.723544551793053e+22,
          5.44293424740579e+22,
          6.2718860586058496e+22,
          7.2270861531842955e+22,
          8.327761980605614e+22,
          9.596069305897348e+22,
          1.105753818829155e+23,
          1.2741586881868958e+23,
          1.468211400257075e+23,
          1.6918180881468322e+23,
          1.9494797839600054e+23,
          2.2463830211398e+23,
          2.5885042354287472e+23,
          2.9827300659674892e+23,
          3.436995978087057e+23,
          3.960445998169893e+23,
          4.563616775935244e+23,
          5.2586496791596993e+23,
          6.05953519014507e+23,
          6.982394523468897e+23,
          8.045804133735938e+23,
          9.271169645432202e+23,
          1.0683156731839538e+24,
          1.2310187616222048e+24,
          1.418501318948948e+24,
          1.6345372260682422e+24,
          1.8834751210407754e+24,
          2.1703259338494385e+24,
          2.500863752602456e+24,
          2.881742051522283e+24,
          3.320627620303908e+24,
          3.826354890751061e+24,
          4.4091037671487273e+24,
          5.080604539967786e+24,
          5.854374007675824e+24,
          6.745987559579094e+24,
          7.773392696522435e+24,
          8.957270300409285e+24,
          1.0321450924577536e+25,
          1.1893394484651518e+25,
          1.3704743005725242e+25,
          1.5791957552188163e+25,
          1.819705216112673e+25,
          2.09684395528838e+25,
          2.4161905642187836e+25,
          2.784173246604177e+25,
          3.2081992132159244e+25,
          3.6968037833985404e+25,
          4.259822194534214e+25,
          4.908587577879073e+25,
          5.656159085849443e+25,
          6.517584762794125e+25
         ]
        }
       ],
       "layout": {
        "autosize": false,
        "font": {
         "size": 14
        },
        "height": 600,
        "legend": {
         "orientation": "h",
         "title": {
          "text": "Model open/closed"
         },
         "tracegroupgap": 0,
         "x": 0.5,
         "xanchor": "center",
         "y": -0.15,
         "yanchor": "top"
        },
        "margin": {
         "b": 10,
         "l": 10,
         "r": 10,
         "t": 40
        },
        "template": {
         "data": {
          "bar": [
           {
            "error_x": {
             "color": "#2a3f5f"
            },
            "error_y": {
             "color": "#2a3f5f"
            },
            "marker": {
             "line": {
              "color": "#E5ECF6",
              "width": 0.5
             },
             "pattern": {
              "fillmode": "overlay",
              "size": 10,
              "solidity": 0.2
             }
            },
            "type": "bar"
           }
          ],
          "barpolar": [
           {
            "marker": {
             "line": {
              "color": "#E5ECF6",
              "width": 0.5
             },
             "pattern": {
              "fillmode": "overlay",
              "size": 10,
              "solidity": 0.2
             }
            },
            "type": "barpolar"
           }
          ],
          "carpet": [
           {
            "aaxis": {
             "endlinecolor": "#2a3f5f",
             "gridcolor": "white",
             "linecolor": "white",
             "minorgridcolor": "white",
             "startlinecolor": "#2a3f5f"
            },
            "baxis": {
             "endlinecolor": "#2a3f5f",
             "gridcolor": "white",
             "linecolor": "white",
             "minorgridcolor": "white",
             "startlinecolor": "#2a3f5f"
            },
            "type": "carpet"
           }
          ],
          "choropleth": [
           {
            "colorbar": {
             "outlinewidth": 0,
             "ticks": ""
            },
            "type": "choropleth"
           }
          ],
          "contour": [
           {
            "colorbar": {
             "outlinewidth": 0,
             "ticks": ""
            },
            "colorscale": [
             [
              0,
              "#0d0887"
             ],
             [
              0.1111111111111111,
              "#46039f"
             ],
             [
              0.2222222222222222,
              "#7201a8"
             ],
             [
              0.3333333333333333,
              "#9c179e"
             ],
             [
              0.4444444444444444,
              "#bd3786"
             ],
             [
              0.5555555555555556,
              "#d8576b"
             ],
             [
              0.6666666666666666,
              "#ed7953"
             ],
             [
              0.7777777777777778,
              "#fb9f3a"
             ],
             [
              0.8888888888888888,
              "#fdca26"
             ],
             [
              1,
              "#f0f921"
             ]
            ],
            "type": "contour"
           }
          ],
          "contourcarpet": [
           {
            "colorbar": {
             "outlinewidth": 0,
             "ticks": ""
            },
            "type": "contourcarpet"
           }
          ],
          "heatmap": [
           {
            "colorbar": {
             "outlinewidth": 0,
             "ticks": ""
            },
            "colorscale": [
             [
              0,
              "#0d0887"
             ],
             [
              0.1111111111111111,
              "#46039f"
             ],
             [
              0.2222222222222222,
              "#7201a8"
             ],
             [
              0.3333333333333333,
              "#9c179e"
             ],
             [
              0.4444444444444444,
              "#bd3786"
             ],
             [
              0.5555555555555556,
              "#d8576b"
             ],
             [
              0.6666666666666666,
              "#ed7953"
             ],
             [
              0.7777777777777778,
              "#fb9f3a"
             ],
             [
              0.8888888888888888,
              "#fdca26"
             ],
             [
              1,
              "#f0f921"
             ]
            ],
            "type": "heatmap"
           }
          ],
          "heatmapgl": [
           {
            "colorbar": {
             "outlinewidth": 0,
             "ticks": ""
            },
            "colorscale": [
             [
              0,
              "#0d0887"
             ],
             [
              0.1111111111111111,
              "#46039f"
             ],
             [
              0.2222222222222222,
              "#7201a8"
             ],
             [
              0.3333333333333333,
              "#9c179e"
             ],
             [
              0.4444444444444444,
              "#bd3786"
             ],
             [
              0.5555555555555556,
              "#d8576b"
             ],
             [
              0.6666666666666666,
              "#ed7953"
             ],
             [
              0.7777777777777778,
              "#fb9f3a"
             ],
             [
              0.8888888888888888,
              "#fdca26"
             ],
             [
              1,
              "#f0f921"
             ]
            ],
            "type": "heatmapgl"
           }
          ],
          "histogram": [
           {
            "marker": {
             "pattern": {
              "fillmode": "overlay",
              "size": 10,
              "solidity": 0.2
             }
            },
            "type": "histogram"
           }
          ],
          "histogram2d": [
           {
            "colorbar": {
             "outlinewidth": 0,
             "ticks": ""
            },
            "colorscale": [
             [
              0,
              "#0d0887"
             ],
             [
              0.1111111111111111,
              "#46039f"
             ],
             [
              0.2222222222222222,
              "#7201a8"
             ],
             [
              0.3333333333333333,
              "#9c179e"
             ],
             [
              0.4444444444444444,
              "#bd3786"
             ],
             [
              0.5555555555555556,
              "#d8576b"
             ],
             [
              0.6666666666666666,
              "#ed7953"
             ],
             [
              0.7777777777777778,
              "#fb9f3a"
             ],
             [
              0.8888888888888888,
              "#fdca26"
             ],
             [
              1,
              "#f0f921"
             ]
            ],
            "type": "histogram2d"
           }
          ],
          "histogram2dcontour": [
           {
            "colorbar": {
             "outlinewidth": 0,
             "ticks": ""
            },
            "colorscale": [
             [
              0,
              "#0d0887"
             ],
             [
              0.1111111111111111,
              "#46039f"
             ],
             [
              0.2222222222222222,
              "#7201a8"
             ],
             [
              0.3333333333333333,
              "#9c179e"
             ],
             [
              0.4444444444444444,
              "#bd3786"
             ],
             [
              0.5555555555555556,
              "#d8576b"
             ],
             [
              0.6666666666666666,
              "#ed7953"
             ],
             [
              0.7777777777777778,
              "#fb9f3a"
             ],
             [
              0.8888888888888888,
              "#fdca26"
             ],
             [
              1,
              "#f0f921"
             ]
            ],
            "type": "histogram2dcontour"
           }
          ],
          "mesh3d": [
           {
            "colorbar": {
             "outlinewidth": 0,
             "ticks": ""
            },
            "type": "mesh3d"
           }
          ],
          "parcoords": [
           {
            "line": {
             "colorbar": {
              "outlinewidth": 0,
              "ticks": ""
             }
            },
            "type": "parcoords"
           }
          ],
          "pie": [
           {
            "automargin": true,
            "type": "pie"
           }
          ],
          "scatter": [
           {
            "fillpattern": {
             "fillmode": "overlay",
             "size": 10,
             "solidity": 0.2
            },
            "type": "scatter"
           }
          ],
          "scatter3d": [
           {
            "line": {
             "colorbar": {
              "outlinewidth": 0,
              "ticks": ""
             }
            },
            "marker": {
             "colorbar": {
              "outlinewidth": 0,
              "ticks": ""
             }
            },
            "type": "scatter3d"
           }
          ],
          "scattercarpet": [
           {
            "marker": {
             "colorbar": {
              "outlinewidth": 0,
              "ticks": ""
             }
            },
            "type": "scattercarpet"
           }
          ],
          "scattergeo": [
           {
            "marker": {
             "colorbar": {
              "outlinewidth": 0,
              "ticks": ""
             }
            },
            "type": "scattergeo"
           }
          ],
          "scattergl": [
           {
            "marker": {
             "colorbar": {
              "outlinewidth": 0,
              "ticks": ""
             }
            },
            "type": "scattergl"
           }
          ],
          "scattermapbox": [
           {
            "marker": {
             "colorbar": {
              "outlinewidth": 0,
              "ticks": ""
             }
            },
            "type": "scattermapbox"
           }
          ],
          "scatterpolar": [
           {
            "marker": {
             "colorbar": {
              "outlinewidth": 0,
              "ticks": ""
             }
            },
            "type": "scatterpolar"
           }
          ],
          "scatterpolargl": [
           {
            "marker": {
             "colorbar": {
              "outlinewidth": 0,
              "ticks": ""
             }
            },
            "type": "scatterpolargl"
           }
          ],
          "scatterternary": [
           {
            "marker": {
             "colorbar": {
              "outlinewidth": 0,
              "ticks": ""
             }
            },
            "type": "scatterternary"
           }
          ],
          "surface": [
           {
            "colorbar": {
             "outlinewidth": 0,
             "ticks": ""
            },
            "colorscale": [
             [
              0,
              "#0d0887"
             ],
             [
              0.1111111111111111,
              "#46039f"
             ],
             [
              0.2222222222222222,
              "#7201a8"
             ],
             [
              0.3333333333333333,
              "#9c179e"
             ],
             [
              0.4444444444444444,
              "#bd3786"
             ],
             [
              0.5555555555555556,
              "#d8576b"
             ],
             [
              0.6666666666666666,
              "#ed7953"
             ],
             [
              0.7777777777777778,
              "#fb9f3a"
             ],
             [
              0.8888888888888888,
              "#fdca26"
             ],
             [
              1,
              "#f0f921"
             ]
            ],
            "type": "surface"
           }
          ],
          "table": [
           {
            "cells": {
             "fill": {
              "color": "#EBF0F8"
             },
             "line": {
              "color": "white"
             }
            },
            "header": {
             "fill": {
              "color": "#C8D4E3"
             },
             "line": {
              "color": "white"
             }
            },
            "type": "table"
           }
          ]
         },
         "layout": {
          "annotationdefaults": {
           "arrowcolor": "#2a3f5f",
           "arrowhead": 0,
           "arrowwidth": 1
          },
          "autotypenumbers": "strict",
          "coloraxis": {
           "colorbar": {
            "outlinewidth": 0,
            "ticks": ""
           }
          },
          "colorscale": {
           "diverging": [
            [
             0,
             "#8e0152"
            ],
            [
             0.1,
             "#c51b7d"
            ],
            [
             0.2,
             "#de77ae"
            ],
            [
             0.3,
             "#f1b6da"
            ],
            [
             0.4,
             "#fde0ef"
            ],
            [
             0.5,
             "#f7f7f7"
            ],
            [
             0.6,
             "#e6f5d0"
            ],
            [
             0.7,
             "#b8e186"
            ],
            [
             0.8,
             "#7fbc41"
            ],
            [
             0.9,
             "#4d9221"
            ],
            [
             1,
             "#276419"
            ]
           ],
           "sequential": [
            [
             0,
             "#0d0887"
            ],
            [
             0.1111111111111111,
             "#46039f"
            ],
            [
             0.2222222222222222,
             "#7201a8"
            ],
            [
             0.3333333333333333,
             "#9c179e"
            ],
            [
             0.4444444444444444,
             "#bd3786"
            ],
            [
             0.5555555555555556,
             "#d8576b"
            ],
            [
             0.6666666666666666,
             "#ed7953"
            ],
            [
             0.7777777777777778,
             "#fb9f3a"
            ],
            [
             0.8888888888888888,
             "#fdca26"
            ],
            [
             1,
             "#f0f921"
            ]
           ],
           "sequentialminus": [
            [
             0,
             "#0d0887"
            ],
            [
             0.1111111111111111,
             "#46039f"
            ],
            [
             0.2222222222222222,
             "#7201a8"
            ],
            [
             0.3333333333333333,
             "#9c179e"
            ],
            [
             0.4444444444444444,
             "#bd3786"
            ],
            [
             0.5555555555555556,
             "#d8576b"
            ],
            [
             0.6666666666666666,
             "#ed7953"
            ],
            [
             0.7777777777777778,
             "#fb9f3a"
            ],
            [
             0.8888888888888888,
             "#fdca26"
            ],
            [
             1,
             "#f0f921"
            ]
           ]
          },
          "colorway": [
           "#636efa",
           "#EF553B",
           "#00cc96",
           "#ab63fa",
           "#FFA15A",
           "#19d3f3",
           "#FF6692",
           "#B6E880",
           "#FF97FF",
           "#FECB52"
          ],
          "font": {
           "color": "#2a3f5f"
          },
          "geo": {
           "bgcolor": "white",
           "lakecolor": "white",
           "landcolor": "#E5ECF6",
           "showlakes": true,
           "showland": true,
           "subunitcolor": "white"
          },
          "hoverlabel": {
           "align": "left"
          },
          "hovermode": "closest",
          "mapbox": {
           "style": "light"
          },
          "paper_bgcolor": "white",
          "plot_bgcolor": "#E5ECF6",
          "polar": {
           "angularaxis": {
            "gridcolor": "white",
            "linecolor": "white",
            "ticks": ""
           },
           "bgcolor": "#E5ECF6",
           "radialaxis": {
            "gridcolor": "white",
            "linecolor": "white",
            "ticks": ""
           }
          },
          "scene": {
           "xaxis": {
            "backgroundcolor": "#E5ECF6",
            "gridcolor": "white",
            "gridwidth": 2,
            "linecolor": "white",
            "showbackground": true,
            "ticks": "",
            "zerolinecolor": "white"
           },
           "yaxis": {
            "backgroundcolor": "#E5ECF6",
            "gridcolor": "white",
            "gridwidth": 2,
            "linecolor": "white",
            "showbackground": true,
            "ticks": "",
            "zerolinecolor": "white"
           },
           "zaxis": {
            "backgroundcolor": "#E5ECF6",
            "gridcolor": "white",
            "gridwidth": 2,
            "linecolor": "white",
            "showbackground": true,
            "ticks": "",
            "zerolinecolor": "white"
           }
          },
          "shapedefaults": {
           "line": {
            "color": "#2a3f5f"
           }
          },
          "ternary": {
           "aaxis": {
            "gridcolor": "white",
            "linecolor": "white",
            "ticks": ""
           },
           "baxis": {
            "gridcolor": "white",
            "linecolor": "white",
            "ticks": ""
           },
           "bgcolor": "#E5ECF6",
           "caxis": {
            "gridcolor": "white",
            "linecolor": "white",
            "ticks": ""
           }
          },
          "title": {
           "x": 0.05
          },
          "xaxis": {
           "automargin": true,
           "gridcolor": "white",
           "linecolor": "white",
           "ticks": "",
           "title": {
            "standoff": 15
           },
           "zerolinecolor": "white",
           "zerolinewidth": 2
          },
          "yaxis": {
           "automargin": true,
           "gridcolor": "white",
           "linecolor": "white",
           "ticks": "",
           "title": {
            "standoff": 15
           },
           "zerolinecolor": "white",
           "zerolinewidth": 2
          }
         }
        },
        "title": {
         "x": 0.5
        },
        "width": 800,
        "xaxis": {
         "anchor": "y",
         "domain": [
          0,
          1
         ],
         "range": [
          "2020-01-01",
          "2025-01-01"
         ],
         "title": {
          "text": "Publication date"
         }
        },
        "yaxis": {
         "anchor": "x",
         "domain": [
          0,
          1
         ],
         "title": {
          "text": "Training compute (FLOP)"
         },
         "type": "log"
        }
       }
      },
      "text/html": [
       "<div>                            <div id=\"8fedd510-72ca-4cda-aa26-7dc8fb2833ce\" class=\"plotly-graph-div\" style=\"height:600px; width:800px;\"></div>            <script type=\"text/javascript\">                require([\"plotly\"], function(Plotly) {                    window.PLOTLYENV=window.PLOTLYENV || {};                                    if (document.getElementById(\"8fedd510-72ca-4cda-aa26-7dc8fb2833ce\")) {                    Plotly.newPlot(                        \"8fedd510-72ca-4cda-aa26-7dc8fb2833ce\",                        [{\"customdata\":[[\"ContextNet + Noisy Student\"],[\"Meena\"],[\"Turing-NLG\"],[\"GPT-3 175B (davinci)\"],[\"GPT3-6.7B (rerun of original)\"],[\"GShard (dense)\"],[\"GShard (600B)\"],[\"DALL-E\"],[\"Meta Pseudo Labels\"],[\"PLUG\"],[\"PanGu-\\u03b1\"],[\"CoAtNet\"],[\"GOAT\"],[\"Jurassic-1-Jumbo\"],[\"FLAN 137B\"],[\"HyperCLOVA 82B\"],[\"Megatron-Turing NLG 530B\"],[\"Yuan 1.0\"],[\"Gopher (280B)\"],[\"GLaM\"],[\"ERNIE 3.0 Titan\"],[\"LaMDA\"],[\"Chinchilla\"],[\"PaLM (540B)\"],[\"Parti\"],[\"Minerva (540B)\"],[\"U-PaLM (540B)\"],[\"Flan-PaLM 540B\"],[\"GPT-3.5 (text-davinci-003)\"],[\"GPT-4\"],[\"PaLM 2\"],[\"Inflection-1\"],[\"Claude 2\"],[\"Amazon Titan\"],[\"Mi:dm 200B\"],[\"Inflection-2\"],[\"Gemini 1.0 Ultra\"],[\"MegaScale (Production)\"],[\"Mistral Large\"],[\"Inflection-2.5\"]],\"hovertemplate\":\"Model open\\u002fclosed=Closed\\u003cbr\\u003ePublication date (float)=%{x}\\u003cbr\\u003eTraining compute (FLOP)=%{y}\\u003cbr\\u003eSystem=%{customdata[0]}\\u003cextra\\u003e\\u003c\\u002fextra\\u003e\",\"legendgroup\":\"Closed\",\"marker\":{\"color\":\"#636efa\",\"symbol\":\"circle\"},\"mode\":\"markers\",\"name\":\"Closed\",\"orientation\":\"v\",\"showlegend\":true,\"x\":[2020.049282343127,2020.0739235146905,2020.1161882287513,2020.4072568480237,2020.4072568480237,2020.4960659972603,2020.4960659972603,2021.010951631806,2021.1666666666667,2021.299282343127,2021.315709790836,2021.4385699302788,2021.571185606739,2021.6107124128482,2021.6721424825698,2021.6913078382302,2021.777379079515,2021.7801169874665,2021.9358320223273,2021.9495215620848,2021.9769006415997,2022.1079745048967,2022.2433280893088,2022.2582137238544,2022.4741627336482,2022.4933280893088,2022.8020202510786,2022.8020202510786,2022.9072568480237,2023.2049973779879,2023.3579745048967,2023.4769006415997,2023.527379079515,2023.7405901813572,2023.832137238545,2023.8908294003147,2023.9303562064242,2024.1435673082663,2024.1517810321209,2024.1830941143758],\"xaxis\":\"x\",\"y\":[8.16e+21,1.12e+23,1.57e+22,3.14e+23,1.2e+22,1.28e+22,1.33e+22,4.7e+22,4.79e+22,3.5997695999999996e+22,5.83e+22,4.27e+22,7.8e+22,3.7e+23,4.896e+22,1.476e+23,1.17e+24,3.5380000000001e+23,6.31e+23,3.74e+23,1.0421e+24,3.55e+23,5.76e+23,2.5272e+24,3.962895376192635e+23,2.7415e+24,2.53e+24,2.4999999999999997e+24,2.578e+24,2.1e+25,7.34e+24,1.0001e+24,3.866e+24,4.7999999999999996e+24,1.1999999999999999e+24,1.001e+25,5.0000000001e+25,1.2e+25,2.0000000001e+25,1.0001e+25],\"yaxis\":\"y\",\"type\":\"scatter\",\"textposition\":\"top center\"},{\"customdata\":[[\"ALBERT-xxlarge\"],[\"ELECTRA\"],[\"Once for All\"],[\"iGPT-XL\"],[\"iGPT-L\"],[\"mBART-50\"],[\"mT5-XXL\"],[\"ViT-Huge\\u002f14\"],[\"CLIP (ViT L\\u002f14@336px)\"],[\"Switch\"],[\"MSA Transformer\"],[\"ResNet-RS\"],[\"GLM-10B\"],[\"GPT-J-6B\"],[\"ProtT5-XXL\"],[\"ProtT5-XXL-BFD\"],[\"ProtBERT-BFD\"],[\"CogView\"],[\"ByT5-XXL\"],[\"XGLM-7.5B\"],[\"GPT-NeoX-20B\"],[\"Stable Diffusion (LDM-KL-8-G)\"],[\"OPT-175B\"],[\"UL2\"],[\"OPT-66B\"],[\"OPT-30B\"],[\"CodeGeeX\"],[\"YaLM\"],[\"ESM2-15B\"],[\"GLM-130B\"],[\"BlenderBot 3\"],[\"BLOOM-176B\"],[\"Galactica\"],[\"Whisper v2\"],[\"OPT-IML (175B)\"],[\"LLaMA-65B\"],[\"LLaMA-33B\"],[\"Falcon-40B\"],[\"Llama 2-70B\"],[\"Code Llama-34B\"],[\"Falcon-180B\"],[\"TigerBot-70B\"],[\"Yi-34B\"],[\"Grok-1\"],[\"Qwen-72B\"],[\"XVERSE-65B-2\"],[\"DeepSeek LLM 67B\"],[\"Code Llama-70B\"],[\"DBRX\"],[\"Llama 3-70B\"]],\"hovertemplate\":\"Model open\\u002fclosed=Open\\u003cbr\\u003ePublication date (float)=%{x}\\u003cbr\\u003eTraining compute (FLOP)=%{y}\\u003cbr\\u003eSystem=%{customdata[0]}\\u003cextra\\u003e\\u003c\\u002fextra\\u003e\",\"legendgroup\":\"Open\",\"marker\":{\"color\":\"#EF553B\",\"symbol\":\"circle\"},\"mode\":\"markers\",\"name\":\"Open\",\"orientation\":\"v\",\"showlegend\":true,\"x\":[2020.1052365969454,2020.2269006415997,2020.326661422642,2020.4604731938907,2020.4604731938907,2020.5860712412848,2020.8020202510786,2020.8074960669815,2021.010951631806,2021.027379079515,2021.1161882287513,2021.1995215620848,2021.2132111018423,2021.3333333333333,2021.3415470571877,2021.3415470571877,2021.3415470571877,2021.4017810321209,2021.4072568480237,2021.9686869177453,2022.1052365969454,2022.282854895418,2022.3360712412848,2022.3579745048967,2022.4714248256969,2022.4714248256969,2022.4741627336482,2022.4769006415997,2022.5547581590301,2022.5915470571877,2022.6079745048967,2022.8524986889938,2022.8744019526057,2022.9276182984727,2022.9741627336482,2023.1463052162178,2023.1545189400722,2023.2049973779879,2023.5465444351755,2023.6189261367028,2023.6803562064242,2023.6803562064242,2023.8360712412848,2023.8415470571877,2023.9127326639268,2023.9358320223273,2024.010951631806,2024.076661422642,2024.2378522734057,2024.2965444351755],\"xaxis\":\"x\",\"y\":[2.39e+21,3.0999999999999995e+21,1.7842809599999995e+21,3.3e+22,8.91e+21,1.4515200000000002e+22,8.2e+22,4.262e+21,1.05e+22,8.22e+22,5.49e+21,1.763328e+22,3.79e+22,1.5e+22,7.370000000000001e+22,3.7e+22,3.9e+22,2.68e+22,8.1e+22,4.347592704e+22,9.31627008e+22,5e+22,4.3e+23,1.2e+23,1.100000000001e+23,5.4000000000001e+22,6.630000000001e+22,2.2e+23,7.350000000009999e+22,3.778e+23,4.3e+23,5.770000000000099e+23,3.24e+23,1.1e+23,4.3e+23,5.5e+23,2.7300000000000996e+23,2.4e+23,8.1e+23,5.3e+23,3.76e+24,1.02e+24,6.1e+23,2.90000000001e+24,1.3e+24,1.24800000000001e+24,8.04e+23,1.230000000001e+24,2.6e+24,6.30000000001e+24],\"yaxis\":\"y\",\"type\":\"scatter\",\"textposition\":\"top center\"},{\"line\":{\"width\":0},\"mode\":\"lines\",\"showlegend\":false,\"x\":[2020.0,2020.0833333333333,2020.1666666666667,2020.25,2020.3333333333333,2020.4166666666667,2020.5,2020.5833333333333,2020.6666666666667,2020.75,2020.8333333333333,2020.9166666666667,2021.0,2021.0833333333333,2021.1666666666667,2021.25,2021.3333333333333,2021.4166666666667,2021.5,2021.5833333333333,2021.6666666666667,2021.75,2021.8333333333333,2021.9166666666667,2022.0,2022.0833333333333,2022.1666666666667,2022.25,2022.3333333333333,2022.4166666666667,2022.5,2022.5833333333333,2022.6666666666667,2022.75,2022.8333333333333,2022.9166666666667,2023.0,2023.0833333333333,2023.1666666666667,2023.25,2023.3333333333333,2023.4166666666667,2023.5,2023.5833333333333,2023.6666666666667,2023.75,2023.8333333333333,2023.9166666666667,2024.0,2024.0833333333333,2024.1666666666667,2024.25,2024.3333333333333,2024.4166666666667,2024.5,2024.5833333333333,2024.6666666666667,2024.75,2024.8333333333333,2024.9166666666667,2025.0],\"y\":[2.4245656541458276e+21,2.7841834050424144e+21,3.196755735086292e+21,3.6699824682536917e+21,4.2126570543963544e+21,4.834814726434283e+21,5.547898671608269e+21,6.364945796120139e+21,7.300793609912712e+21,8.37230963343204e+21,9.598644512787345e+21,1.1001509707459594e+22,1.2605480175981652e+22,1.4438321934147695e+22,1.6531343727585177e+22,1.891977141916784e+22,2.1643143177029116e+22,2.474572338011688e+22,2.827693365309773e+22,3.2291801007799304e+22,3.685142615009299e+22,4.2023479975696795e+22,4.788274321225133e+22,5.451171262254741e+22,6.2001305974015735e+22,7.04517051514871e+22,7.997338001174502e+22,9.068833296059137e+22,1.027315953657829e+23,1.1625299358879056e+23,1.3141918840832356e+23,1.4841598140178872e+23,1.6745087881003548e+23,1.8875590843248063e+23,2.125906964895334e+23,2.3924582593768924e+23,2.6904651221423154e+23,3.0235664469812916e+23,3.3958325160426336e+23,3.8118145301193845e+23,4.276599722484116e+23,4.7958728096225386e+23,5.375984588011058e+23,6.024028552242184e+23,6.747926489657063e+23,7.556524102067759e+23,8.459697816951701e+23,9.468474079317663e+23,1.0595162562212918e+24,1.1853504899515693e+24,1.325884073060824e+24,1.4828293054815655e+24,1.658097512618392e+24,1.8538221378759912e+24,2.0723845162380163e+24,2.316442639222367e+24,2.5889632575776443e+24,2.893257708314667e+24,3.2330218975366305e+24,3.61238092055956e+24,4.035938856672142e+24],\"type\":\"scatter\",\"textposition\":\"top center\"},{\"fill\":\"tonexty\",\"fillcolor\":\"rgba(230,100,0,0.2)\",\"line\":{\"width\":0},\"mode\":\"lines\",\"name\":\"95% CI of mean\",\"x\":[2020.0,2020.0833333333333,2020.1666666666667,2020.25,2020.3333333333333,2020.4166666666667,2020.5,2020.5833333333333,2020.6666666666667,2020.75,2020.8333333333333,2020.9166666666667,2021.0,2021.0833333333333,2021.1666666666667,2021.25,2021.3333333333333,2021.4166666666667,2021.5,2021.5833333333333,2021.6666666666667,2021.75,2021.8333333333333,2021.9166666666667,2022.0,2022.0833333333333,2022.1666666666667,2022.25,2022.3333333333333,2022.4166666666667,2022.5,2022.5833333333333,2022.6666666666667,2022.75,2022.8333333333333,2022.9166666666667,2023.0,2023.0833333333333,2023.1666666666667,2023.25,2023.3333333333333,2023.4166666666667,2023.5,2023.5833333333333,2023.6666666666667,2023.75,2023.8333333333333,2023.9166666666667,2024.0,2024.0833333333333,2024.1666666666667,2024.25,2024.3333333333333,2024.4166666666667,2024.5,2024.5833333333333,2024.6666666666667,2024.75,2024.8333333333333,2024.9166666666667,2025.0],\"y\":[6.288481687531873e+21,7.029273608235862e+21,7.858277755737707e+21,8.786205929375568e+21,9.825118602994192e+21,1.0988606208424137e+22,1.2291997561105366e+22,1.3752600130855102e+22,1.538997779901073e+22,1.7226272880375028e+22,1.9286580560629315e+22,2.1599385544142646e+22,2.4197072657541314e+22,2.711652543358961e+22,3.039982930869737e+22,3.4095098969274876e+22,3.825745248250219e+22,4.295015797336603e+22,4.824598149964619e+22,5.422876708414464e+22,6.099528121354442e+22,6.865735422264003e+22,7.73443498570485e+22,8.72059924987074e+22,9.841558036322013e+22,1.1117361452622424e+23,1.2571188040011412e+23,1.4229803234078908e+23,1.6124075403690338e+23,1.828955956769615e+23,2.0767162010497475e+23,2.3603902009759932e+23,2.6853789452791222e+23,3.0578839205850946e+23,3.4850244930310377e+23,3.974973698745126e+23,4.537115152652406e+23,5.182224109358622e+23,5.922676128494536e+23,6.772687315429245e+23,7.748590727815255e+23,8.869154261125721e+23,1.0155946158361294e+24,1.1633755241397009e+24,1.3331074049840802e+24,1.528065431850284e+24,1.7520145651025022e+24,2.0092829883307123e+24,2.30484655093791e+24,2.644425870151156e+24,3.034597993835835e+24,3.4829248109497785e+24,3.998100724777863e+24,4.590122481660312e+24,5.270484482299098e+24,6.052403402351161e+24,6.951076523664659e+24,7.983978838607749e+24,9.17120475036073e+24,1.0535861066642604e+25,1.2104518990511323e+25],\"type\":\"scatter\",\"textposition\":\"top center\"},{\"line\":{\"color\":\"rgb(230,100,0)\"},\"mode\":\"lines\",\"name\":\"Regression mean (growth rate: 4.5x per year)\",\"x\":[2020.0,2020.0833333333333,2020.1666666666667,2020.25,2020.3333333333333,2020.4166666666667,2020.5,2020.5833333333333,2020.6666666666667,2020.75,2020.8333333333333,2020.9166666666667,2021.0,2021.0833333333333,2021.1666666666667,2021.25,2021.3333333333333,2021.4166666666667,2021.5,2021.5833333333333,2021.6666666666667,2021.75,2021.8333333333333,2021.9166666666667,2022.0,2022.0833333333333,2022.1666666666667,2022.25,2022.3333333333333,2022.4166666666667,2022.5,2022.5833333333333,2022.6666666666667,2022.75,2022.8333333333333,2022.9166666666667,2023.0,2023.0833333333333,2023.1666666666667,2023.25,2023.3333333333333,2023.4166666666667,2023.5,2023.5833333333333,2023.6666666666667,2023.75,2023.8333333333333,2023.9166666666667,2024.0,2024.0833333333333,2024.1666666666667,2024.25,2024.3333333333333,2024.4166666666667,2024.5,2024.5833333333333,2024.6666666666667,2024.75,2024.8333333333333,2024.9166666666667,2025.0],\"y\":[3.90471979997474e+21,4.4238882139530723e+21,5.01208484401008e+21,5.678487626408546e+21,6.433494788463292e+21,7.288887097457073e+21,8.258011682037542e+21,9.355990294383992e+21,1.0599955262722389e+22,1.2009316815893105e+22,1.3606065951211455e+22,1.5415117571366356e+22,1.7464699244516773e+22,1.9786791653668127e+22,2.2417627607799943e+22,2.539825740110108e+22,2.8775189341986666e+22,3.2601115446273267e+22,3.6935733617921763e+22,4.184667914637308e+22,4.741058005493169e+22,5.371425276739345e+22,6.085605674970718e+22,6.894742926355966e+22,7.811462417953725e+22,8.850068198170359e+22,1.0026766170221269e+23,1.1359916961209918e+23,1.2870322412508897e+23,1.4581550161643252e+23,1.6520301380313094e+23,1.871682740661508e+23,2.1205401772306867e+23,2.4024854990428455e+23,2.7219180447922223e+23,3.083822085719066e+23,3.493844597768296e+23,3.958383374282264e+23,4.484686854077021e+23,5.08096722257765e+23,5.7565285508036624e+23,6.521911971598568e+23,7.389060158370646e+23,8.371503672816057e+23,9.484572089266895e+23,1.0745633189958258e+24,1.2174363963536336e+24,1.379305763528279e+24,1.5626971519825238e+24,1.7704721124107765e+24,2.0058726649937833e+24,2.2725718863140883e+24,2.5747312222738834e+24,2.9170654212862915e+24,3.304916100930459e+24,3.7443350959790917e+24,4.242178888304729e+24,4.8062155921081046e+24,5.445246163830264e+24,6.169241728025094e+24,6.989499161966507e+24],\"type\":\"scatter\",\"textposition\":\"top center\"},{\"line\":{\"width\":0},\"mode\":\"lines\",\"showlegend\":false,\"x\":[2020.0,2020.0833333333333,2020.1666666666667,2020.25,2020.3333333333333,2020.4166666666667,2020.5,2020.5833333333333,2020.6666666666667,2020.75,2020.8333333333333,2020.9166666666667,2021.0,2021.0833333333333,2021.1666666666667,2021.25,2021.3333333333333,2021.4166666666667,2021.5,2021.5833333333333,2021.6666666666667,2021.75,2021.8333333333333,2021.9166666666667,2022.0,2022.0833333333333,2022.1666666666667,2022.25,2022.3333333333333,2022.4166666666667,2022.5,2022.5833333333333,2022.6666666666667,2022.75,2022.8333333333333,2022.9166666666667,2023.0,2023.0833333333333,2023.1666666666667,2023.25,2023.3333333333333,2023.4166666666667,2023.5,2023.5833333333333,2023.6666666666667,2023.75,2023.8333333333333,2023.9166666666667,2024.0,2024.0833333333333,2024.1666666666667,2024.25,2024.3333333333333,2024.4166666666667,2024.5,2024.5833333333333,2024.6666666666667,2024.75,2024.8333333333333,2024.9166666666667,2025.0],\"y\":[6.715441439785423e+21,7.890946161562738e+21,9.270275227281625e+21,1.0888214185693476e+22,1.2785320582257899e+22,1.5008831447321861e+22,1.7613697709275032e+22,2.0663758235459603e+22,2.423306579621217e+22,2.8407376173851396e+22,3.3285809734578977e+22,3.898269191509143e+22,4.562957520539021e+22,5.337744046917936e+22,6.239907027147832e+22,7.289158218058264e+22,8.507910730207124e+22,9.921560084240351e+22,1.15587780219125e+23,1.3451820534231086e+23,1.5636854780300988e+23,1.8154314143709796e+23,2.104929630167608e+23,2.437202506615969e+23,2.8178401636907643e+23,3.2530673353580826e+23,3.7498246987852746e+23,4.315866898896083e+23,4.959878808700117e+23,5.6916108499813965e+23,6.522033713533251e+23,7.463512732869312e+23,8.530002514430546e+23,9.737263116927955e+23,1.110309994127884e+24,1.2647630385965862e+24,1.4393581142163335e+24,1.6366620717509765e+24,1.8595732407996793e+24,2.1113633532101663e+24,2.3957247352455304e+24,2.716823478333346e+24,3.0793593752056073e+24,3.4886334973380255e+24,3.95062439261703e+24,4.472074000727356e+24,5.06058451930669e+24,5.724727608074044e+24,6.474167492964874e+24,7.319799729935768e+24,8.273907611160046e+24,9.350338447995084e+24,1.0564702248742622e+25,1.1934595628780404e+25,1.3479854150788085e+25,1.522283669856443e+25,1.7188745944874728e+25,1.94059894888192e+25,2.1906586818380737e+25,2.4726627907285352e+25,2.7906789991759425e+25],\"type\":\"scatter\",\"textposition\":\"top center\"},{\"fill\":\"tonexty\",\"fillcolor\":\"rgba(0,100,200,0.2)\",\"line\":{\"width\":0},\"mode\":\"lines\",\"name\":\"95% CI of mean\",\"x\":[2020.0,2020.0833333333333,2020.1666666666667,2020.25,2020.3333333333333,2020.4166666666667,2020.5,2020.5833333333333,2020.6666666666667,2020.75,2020.8333333333333,2020.9166666666667,2021.0,2021.0833333333333,2021.1666666666667,2021.25,2021.3333333333333,2021.4166666666667,2021.5,2021.5833333333333,2021.6666666666667,2021.75,2021.8333333333333,2021.9166666666667,2022.0,2022.0833333333333,2022.1666666666667,2022.25,2022.3333333333333,2022.4166666666667,2022.5,2022.5833333333333,2022.6666666666667,2022.75,2022.8333333333333,2022.9166666666667,2023.0,2023.0833333333333,2023.1666666666667,2023.25,2023.3333333333333,2023.4166666666667,2023.5,2023.5833333333333,2023.6666666666667,2023.75,2023.8333333333333,2023.9166666666667,2024.0,2024.0833333333333,2024.1666666666667,2024.25,2024.3333333333333,2024.4166666666667,2024.5,2024.5833333333333,2024.6666666666667,2024.75,2024.8333333333333,2024.9166666666667,2025.0],\"y\":[2.589942781462471e+22,2.926616383713153e+22,3.307747848357527e+22,3.739370627693667e+22,4.2283768818797426e+22,4.782649730932058e+22,5.411218381946259e+22,6.124440670508901e+22,6.934218564122769e+22,7.854253415108295e+22,8.90034926529257e+22,1.0090774341036718e+23,1.1446693077996961e+23,1.2992683612408245e+23,1.4757358679056424e+23,1.677411123860841e+23,1.908200983959581e+23,2.1726872563811006e+23,2.4762552217498327e+23,2.8252469012633807e+23,3.2271430211287294e+23,3.690777918566611e+23,4.2265919577169004e+23,4.846926474644388e+23,5.566367002121148e+23,6.402141711371951e+23,7.374583792432883e+23,8.50766892973419e+23,9.829642046061571e+23,1.1373750923019253e+24,1.3179107985294107e+24,1.5291705372782523e+24,1.7765612482554275e+24,2.0664389651357436e+24,2.4062756865495164e+24,2.8048562642342375e+24,3.2725105813600767e+24,3.8213872106107285e+24,4.465775840020513e+24,5.22248706077054e+24,6.111299655832144e+24,7.155487349296179e+24,8.382439120090616e+24,9.824389706715415e+24,1.151927989890469e+25,1.351176970786272e+25,1.5854431623164807e+25,1.8609156012630421e+25,2.1848806432834535e+25,2.5659169346512033e+25,3.014125067020751e+25,3.5413980915928134e+25,4.161740169584717e+25,4.891641932585919e+25,5.750522654322081e+25,6.761251135703178e+25,7.950759326351404e+25,9.35076520550585e+25,1.0998624390675255e+26,1.2938333413029267e+26,1.522171168835603e+26],\"type\":\"scatter\",\"textposition\":\"top center\"},{\"line\":{\"color\":\"rgb(0,100,200)\"},\"mode\":\"lines\",\"name\":\"Regression mean (growth rate: 5.5x per year)\",\"x\":[2020.0,2020.0833333333333,2020.1666666666667,2020.25,2020.3333333333333,2020.4166666666667,2020.5,2020.5833333333333,2020.6666666666667,2020.75,2020.8333333333333,2020.9166666666667,2021.0,2021.0833333333333,2021.1666666666667,2021.25,2021.3333333333333,2021.4166666666667,2021.5,2021.5833333333333,2021.6666666666667,2021.75,2021.8333333333333,2021.9166666666667,2022.0,2022.0833333333333,2022.1666666666667,2022.25,2022.3333333333333,2022.4166666666667,2022.5,2022.5833333333333,2022.6666666666667,2022.75,2022.8333333333333,2022.9166666666667,2023.0,2023.0833333333333,2023.1666666666667,2023.25,2023.3333333333333,2023.4166666666667,2023.5,2023.5833333333333,2023.6666666666667,2023.75,2023.8333333333333,2023.9166666666667,2024.0,2024.0833333333333,2024.1666666666667,2024.25,2024.3333333333333,2024.4166666666667,2024.5,2024.5833333333333,2024.6666666666667,2024.75,2024.8333333333333,2024.9166666666667,2025.0],\"y\":[1.3188104140211435e+22,1.519663525897359e+22,1.7511063056457446e+22,2.0177975199216523e+22,2.325105459488678e+22,2.679215998816417e+22,3.0872571130126782e+22,3.55744235853249e+22,4.099236205803502e+22,4.723544551793053e+22,5.44293424740579e+22,6.2718860586058496e+22,7.2270861531842955e+22,8.327761980605614e+22,9.596069305897348e+22,1.105753818829155e+23,1.2741586881868958e+23,1.468211400257075e+23,1.6918180881468322e+23,1.9494797839600054e+23,2.2463830211398e+23,2.5885042354287472e+23,2.9827300659674892e+23,3.436995978087057e+23,3.960445998169893e+23,4.563616775935244e+23,5.2586496791596993e+23,6.05953519014507e+23,6.982394523468897e+23,8.045804133735938e+23,9.271169645432202e+23,1.0683156731839538e+24,1.2310187616222048e+24,1.418501318948948e+24,1.6345372260682422e+24,1.8834751210407754e+24,2.1703259338494385e+24,2.500863752602456e+24,2.881742051522283e+24,3.320627620303908e+24,3.826354890751061e+24,4.4091037671487273e+24,5.080604539967786e+24,5.854374007675824e+24,6.745987559579094e+24,7.773392696522435e+24,8.957270300409285e+24,1.0321450924577536e+25,1.1893394484651518e+25,1.3704743005725242e+25,1.5791957552188163e+25,1.819705216112673e+25,2.09684395528838e+25,2.4161905642187836e+25,2.784173246604177e+25,3.2081992132159244e+25,3.6968037833985404e+25,4.259822194534214e+25,4.908587577879073e+25,5.656159085849443e+25,6.517584762794125e+25],\"type\":\"scatter\",\"textposition\":\"top center\"}],                        {\"template\":{\"data\":{\"histogram2dcontour\":[{\"type\":\"histogram2dcontour\",\"colorbar\":{\"outlinewidth\":0,\"ticks\":\"\"},\"colorscale\":[[0.0,\"#0d0887\"],[0.1111111111111111,\"#46039f\"],[0.2222222222222222,\"#7201a8\"],[0.3333333333333333,\"#9c179e\"],[0.4444444444444444,\"#bd3786\"],[0.5555555555555556,\"#d8576b\"],[0.6666666666666666,\"#ed7953\"],[0.7777777777777778,\"#fb9f3a\"],[0.8888888888888888,\"#fdca26\"],[1.0,\"#f0f921\"]]}],\"choropleth\":[{\"type\":\"choropleth\",\"colorbar\":{\"outlinewidth\":0,\"ticks\":\"\"}}],\"histogram2d\":[{\"type\":\"histogram2d\",\"colorbar\":{\"outlinewidth\":0,\"ticks\":\"\"},\"colorscale\":[[0.0,\"#0d0887\"],[0.1111111111111111,\"#46039f\"],[0.2222222222222222,\"#7201a8\"],[0.3333333333333333,\"#9c179e\"],[0.4444444444444444,\"#bd3786\"],[0.5555555555555556,\"#d8576b\"],[0.6666666666666666,\"#ed7953\"],[0.7777777777777778,\"#fb9f3a\"],[0.8888888888888888,\"#fdca26\"],[1.0,\"#f0f921\"]]}],\"heatmap\":[{\"type\":\"heatmap\",\"colorbar\":{\"outlinewidth\":0,\"ticks\":\"\"},\"colorscale\":[[0.0,\"#0d0887\"],[0.1111111111111111,\"#46039f\"],[0.2222222222222222,\"#7201a8\"],[0.3333333333333333,\"#9c179e\"],[0.4444444444444444,\"#bd3786\"],[0.5555555555555556,\"#d8576b\"],[0.6666666666666666,\"#ed7953\"],[0.7777777777777778,\"#fb9f3a\"],[0.8888888888888888,\"#fdca26\"],[1.0,\"#f0f921\"]]}],\"heatmapgl\":[{\"type\":\"heatmapgl\",\"colorbar\":{\"outlinewidth\":0,\"ticks\":\"\"},\"colorscale\":[[0.0,\"#0d0887\"],[0.1111111111111111,\"#46039f\"],[0.2222222222222222,\"#7201a8\"],[0.3333333333333333,\"#9c179e\"],[0.4444444444444444,\"#bd3786\"],[0.5555555555555556,\"#d8576b\"],[0.6666666666666666,\"#ed7953\"],[0.7777777777777778,\"#fb9f3a\"],[0.8888888888888888,\"#fdca26\"],[1.0,\"#f0f921\"]]}],\"contourcarpet\":[{\"type\":\"contourcarpet\",\"colorbar\":{\"outlinewidth\":0,\"ticks\":\"\"}}],\"contour\":[{\"type\":\"contour\",\"colorbar\":{\"outlinewidth\":0,\"ticks\":\"\"},\"colorscale\":[[0.0,\"#0d0887\"],[0.1111111111111111,\"#46039f\"],[0.2222222222222222,\"#7201a8\"],[0.3333333333333333,\"#9c179e\"],[0.4444444444444444,\"#bd3786\"],[0.5555555555555556,\"#d8576b\"],[0.6666666666666666,\"#ed7953\"],[0.7777777777777778,\"#fb9f3a\"],[0.8888888888888888,\"#fdca26\"],[1.0,\"#f0f921\"]]}],\"surface\":[{\"type\":\"surface\",\"colorbar\":{\"outlinewidth\":0,\"ticks\":\"\"},\"colorscale\":[[0.0,\"#0d0887\"],[0.1111111111111111,\"#46039f\"],[0.2222222222222222,\"#7201a8\"],[0.3333333333333333,\"#9c179e\"],[0.4444444444444444,\"#bd3786\"],[0.5555555555555556,\"#d8576b\"],[0.6666666666666666,\"#ed7953\"],[0.7777777777777778,\"#fb9f3a\"],[0.8888888888888888,\"#fdca26\"],[1.0,\"#f0f921\"]]}],\"mesh3d\":[{\"type\":\"mesh3d\",\"colorbar\":{\"outlinewidth\":0,\"ticks\":\"\"}}],\"scatter\":[{\"fillpattern\":{\"fillmode\":\"overlay\",\"size\":10,\"solidity\":0.2},\"type\":\"scatter\"}],\"parcoords\":[{\"type\":\"parcoords\",\"line\":{\"colorbar\":{\"outlinewidth\":0,\"ticks\":\"\"}}}],\"scatterpolargl\":[{\"type\":\"scatterpolargl\",\"marker\":{\"colorbar\":{\"outlinewidth\":0,\"ticks\":\"\"}}}],\"bar\":[{\"error_x\":{\"color\":\"#2a3f5f\"},\"error_y\":{\"color\":\"#2a3f5f\"},\"marker\":{\"line\":{\"color\":\"#E5ECF6\",\"width\":0.5},\"pattern\":{\"fillmode\":\"overlay\",\"size\":10,\"solidity\":0.2}},\"type\":\"bar\"}],\"scattergeo\":[{\"type\":\"scattergeo\",\"marker\":{\"colorbar\":{\"outlinewidth\":0,\"ticks\":\"\"}}}],\"scatterpolar\":[{\"type\":\"scatterpolar\",\"marker\":{\"colorbar\":{\"outlinewidth\":0,\"ticks\":\"\"}}}],\"histogram\":[{\"marker\":{\"pattern\":{\"fillmode\":\"overlay\",\"size\":10,\"solidity\":0.2}},\"type\":\"histogram\"}],\"scattergl\":[{\"type\":\"scattergl\",\"marker\":{\"colorbar\":{\"outlinewidth\":0,\"ticks\":\"\"}}}],\"scatter3d\":[{\"type\":\"scatter3d\",\"line\":{\"colorbar\":{\"outlinewidth\":0,\"ticks\":\"\"}},\"marker\":{\"colorbar\":{\"outlinewidth\":0,\"ticks\":\"\"}}}],\"scattermapbox\":[{\"type\":\"scattermapbox\",\"marker\":{\"colorbar\":{\"outlinewidth\":0,\"ticks\":\"\"}}}],\"scatterternary\":[{\"type\":\"scatterternary\",\"marker\":{\"colorbar\":{\"outlinewidth\":0,\"ticks\":\"\"}}}],\"scattercarpet\":[{\"type\":\"scattercarpet\",\"marker\":{\"colorbar\":{\"outlinewidth\":0,\"ticks\":\"\"}}}],\"carpet\":[{\"aaxis\":{\"endlinecolor\":\"#2a3f5f\",\"gridcolor\":\"white\",\"linecolor\":\"white\",\"minorgridcolor\":\"white\",\"startlinecolor\":\"#2a3f5f\"},\"baxis\":{\"endlinecolor\":\"#2a3f5f\",\"gridcolor\":\"white\",\"linecolor\":\"white\",\"minorgridcolor\":\"white\",\"startlinecolor\":\"#2a3f5f\"},\"type\":\"carpet\"}],\"table\":[{\"cells\":{\"fill\":{\"color\":\"#EBF0F8\"},\"line\":{\"color\":\"white\"}},\"header\":{\"fill\":{\"color\":\"#C8D4E3\"},\"line\":{\"color\":\"white\"}},\"type\":\"table\"}],\"barpolar\":[{\"marker\":{\"line\":{\"color\":\"#E5ECF6\",\"width\":0.5},\"pattern\":{\"fillmode\":\"overlay\",\"size\":10,\"solidity\":0.2}},\"type\":\"barpolar\"}],\"pie\":[{\"automargin\":true,\"type\":\"pie\"}]},\"layout\":{\"autotypenumbers\":\"strict\",\"colorway\":[\"#636efa\",\"#EF553B\",\"#00cc96\",\"#ab63fa\",\"#FFA15A\",\"#19d3f3\",\"#FF6692\",\"#B6E880\",\"#FF97FF\",\"#FECB52\"],\"font\":{\"color\":\"#2a3f5f\"},\"hovermode\":\"closest\",\"hoverlabel\":{\"align\":\"left\"},\"paper_bgcolor\":\"white\",\"plot_bgcolor\":\"#E5ECF6\",\"polar\":{\"bgcolor\":\"#E5ECF6\",\"angularaxis\":{\"gridcolor\":\"white\",\"linecolor\":\"white\",\"ticks\":\"\"},\"radialaxis\":{\"gridcolor\":\"white\",\"linecolor\":\"white\",\"ticks\":\"\"}},\"ternary\":{\"bgcolor\":\"#E5ECF6\",\"aaxis\":{\"gridcolor\":\"white\",\"linecolor\":\"white\",\"ticks\":\"\"},\"baxis\":{\"gridcolor\":\"white\",\"linecolor\":\"white\",\"ticks\":\"\"},\"caxis\":{\"gridcolor\":\"white\",\"linecolor\":\"white\",\"ticks\":\"\"}},\"coloraxis\":{\"colorbar\":{\"outlinewidth\":0,\"ticks\":\"\"}},\"colorscale\":{\"sequential\":[[0.0,\"#0d0887\"],[0.1111111111111111,\"#46039f\"],[0.2222222222222222,\"#7201a8\"],[0.3333333333333333,\"#9c179e\"],[0.4444444444444444,\"#bd3786\"],[0.5555555555555556,\"#d8576b\"],[0.6666666666666666,\"#ed7953\"],[0.7777777777777778,\"#fb9f3a\"],[0.8888888888888888,\"#fdca26\"],[1.0,\"#f0f921\"]],\"sequentialminus\":[[0.0,\"#0d0887\"],[0.1111111111111111,\"#46039f\"],[0.2222222222222222,\"#7201a8\"],[0.3333333333333333,\"#9c179e\"],[0.4444444444444444,\"#bd3786\"],[0.5555555555555556,\"#d8576b\"],[0.6666666666666666,\"#ed7953\"],[0.7777777777777778,\"#fb9f3a\"],[0.8888888888888888,\"#fdca26\"],[1.0,\"#f0f921\"]],\"diverging\":[[0,\"#8e0152\"],[0.1,\"#c51b7d\"],[0.2,\"#de77ae\"],[0.3,\"#f1b6da\"],[0.4,\"#fde0ef\"],[0.5,\"#f7f7f7\"],[0.6,\"#e6f5d0\"],[0.7,\"#b8e186\"],[0.8,\"#7fbc41\"],[0.9,\"#4d9221\"],[1,\"#276419\"]]},\"xaxis\":{\"gridcolor\":\"white\",\"linecolor\":\"white\",\"ticks\":\"\",\"title\":{\"standoff\":15},\"zerolinecolor\":\"white\",\"automargin\":true,\"zerolinewidth\":2},\"yaxis\":{\"gridcolor\":\"white\",\"linecolor\":\"white\",\"ticks\":\"\",\"title\":{\"standoff\":15},\"zerolinecolor\":\"white\",\"automargin\":true,\"zerolinewidth\":2},\"scene\":{\"xaxis\":{\"backgroundcolor\":\"#E5ECF6\",\"gridcolor\":\"white\",\"linecolor\":\"white\",\"showbackground\":true,\"ticks\":\"\",\"zerolinecolor\":\"white\",\"gridwidth\":2},\"yaxis\":{\"backgroundcolor\":\"#E5ECF6\",\"gridcolor\":\"white\",\"linecolor\":\"white\",\"showbackground\":true,\"ticks\":\"\",\"zerolinecolor\":\"white\",\"gridwidth\":2},\"zaxis\":{\"backgroundcolor\":\"#E5ECF6\",\"gridcolor\":\"white\",\"linecolor\":\"white\",\"showbackground\":true,\"ticks\":\"\",\"zerolinecolor\":\"white\",\"gridwidth\":2}},\"shapedefaults\":{\"line\":{\"color\":\"#2a3f5f\"}},\"annotationdefaults\":{\"arrowcolor\":\"#2a3f5f\",\"arrowhead\":0,\"arrowwidth\":1},\"geo\":{\"bgcolor\":\"white\",\"landcolor\":\"#E5ECF6\",\"subunitcolor\":\"white\",\"showland\":true,\"showlakes\":true,\"lakecolor\":\"white\"},\"title\":{\"x\":0.05},\"mapbox\":{\"style\":\"light\"}}},\"xaxis\":{\"anchor\":\"y\",\"domain\":[0.0,1.0],\"title\":{\"text\":\"Publication date\"},\"range\":[\"2020-01-01\",\"2025-01-01\"]},\"yaxis\":{\"anchor\":\"x\",\"domain\":[0.0,1.0],\"title\":{\"text\":\"Training compute (FLOP)\"},\"type\":\"log\"},\"legend\":{\"title\":{\"text\":\"Model open\\u002fclosed\"},\"tracegroupgap\":0,\"orientation\":\"h\",\"yanchor\":\"top\",\"y\":-0.15,\"xanchor\":\"center\",\"x\":0.5},\"margin\":{\"t\":40,\"l\":10,\"r\":10,\"b\":10},\"title\":{\"x\":0.5},\"autosize\":false,\"width\":800,\"height\":600,\"font\":{\"size\":14}},                        {\"responsive\": true}                    ).then(function(){\n",
       "                            \n",
       "var gd = document.getElementById('8fedd510-72ca-4cda-aa26-7dc8fb2833ce');\n",
       "var x = new MutationObserver(function (mutations, observer) {{\n",
       "        var display = window.getComputedStyle(gd).display;\n",
       "        if (!display || display === 'none') {{\n",
       "            console.log([gd, 'removed!']);\n",
       "            Plotly.purge(gd);\n",
       "            observer.disconnect();\n",
       "        }}\n",
       "}});\n",
       "\n",
       "// Listen for the removal of the full notebook cells\n",
       "var notebookContainer = gd.closest('#notebook-container');\n",
       "if (notebookContainer) {{\n",
       "    x.observe(notebookContainer, {childList: true});\n",
       "}}\n",
       "\n",
       "// Listen for the clearing of the current output cell\n",
       "var outputEl = gd.closest('.output');\n",
       "if (outputEl) {{\n",
       "    x.observe(outputEl, {childList: true});\n",
       "}}\n",
       "\n",
       "                        })                };                });            </script>        </div>"
      ]
     },
     "metadata": {},
     "output_type": "display_data"
    }
   ],
   "source": [
    "fig = px.scatter(\n",
    "    # access_df,\n",
    "    # access_df.loc[access_df['System'].isin(selected_systems)],\n",
    "    access_df_recent,\n",
    "    x='Publication date (float)',\n",
    "    y='Training compute (FLOP)',\n",
    "    color='Model open/closed',\n",
    "    hover_data=['System'],\n",
    "    log_y=True,\n",
    ")\n",
    "\n",
    "# Marker color\n",
    "# fig.update_traces(\n",
    "#     marker=dict(\n",
    "#         color='rgb(0,100,200)',\n",
    "#     ),\n",
    "#     selector=dict(mode='markers'),\n",
    "# )\n",
    "\n",
    "# Shade in CI\n",
    "fig.add_scatter(\n",
    "    x=predicted_open_df['Publication date (float)'],\n",
    "    y=10**predicted_open_df['mean_ci_lower'],\n",
    "    mode='lines',\n",
    "    line=dict(width=0),\n",
    "    showlegend=False,\n",
    ")\n",
    "fig.add_scatter(\n",
    "    x=predicted_open_df['Publication date (float)'],\n",
    "    y=10**predicted_open_df['mean_ci_upper'],\n",
    "    mode='lines',\n",
    "    fill='tonexty',\n",
    "    fillcolor='rgba(230,100,0,0.2)',\n",
    "    line=dict(width=0),\n",
    "    name='95% CI of mean',\n",
    ")\n",
    "fig.add_scatter(\n",
    "    x=predicted_open_df['Publication date (float)'],\n",
    "    y=10**predicted_open_df['mean'],\n",
    "    mode='lines',\n",
    "    line=dict(color='rgb(230,100,0)'),\n",
    "    name=f'Regression mean (growth rate: {10**open_reg_results.params[1]:.1f}x per year)',\n",
    ")\n",
    "\n",
    "fig.add_scatter(\n",
    "    x=predicted_closed_df['Publication date (float)'],\n",
    "    y=10**predicted_closed_df['mean_ci_lower'],\n",
    "    mode='lines',\n",
    "    line=dict(width=0),\n",
    "    showlegend=False,\n",
    ")\n",
    "fig.add_scatter(\n",
    "    x=predicted_closed_df['Publication date (float)'],\n",
    "    y=10**predicted_closed_df['mean_ci_upper'],\n",
    "    mode='lines',\n",
    "    fill='tonexty',\n",
    "    fillcolor='rgba(0,100,200,0.2)',\n",
    "    line=dict(width=0),\n",
    "    name='95% CI of mean',\n",
    ")\n",
    "fig.add_scatter(\n",
    "    x=predicted_closed_df['Publication date (float)'],\n",
    "    y=10**predicted_closed_df['mean'],\n",
    "    mode='lines',\n",
    "    line=dict(color='rgb(0,100,200)'),\n",
    "    name=f'Regression mean (growth rate: {10**closed_reg_results.params[1]:.1f}x per year)',\n",
    ")\n",
    "\n",
    "fig.update_traces(textposition='top center')\n",
    "\n",
    "# legend on top\n",
    "fig.update_layout(legend=dict(\n",
    "    orientation='h',\n",
    "    yanchor='top',\n",
    "    y=-0.15,\n",
    "    xanchor='center',\n",
    "    x=0.5,\n",
    "))\n",
    "\n",
    "# axis labels\n",
    "fig.update_xaxes(title_text='Publication date')\n",
    "\n",
    "# title\n",
    "\n",
    "# update size\n",
    "fig.update_layout(\n",
    "    autosize=False,\n",
    "    width=800,\n",
    "    height=600,\n",
    "    title_x=0.5,\n",
    ")\n",
    "\n",
    "# font size\n",
    "fig.update_layout(\n",
    "    font=dict(\n",
    "        size=14,\n",
    "    )\n",
    ")\n",
    "\n",
    "# axis limits\n",
    "fig.update_xaxes(range=[pred_start_date, pred_end_date])\n",
    "\n",
    "# margins\n",
    "fig.update_layout(margin=dict(l=10, r=10, t=40, b=10))\n",
    "\n",
    "save_plot(fig, results_dir, f'open_closed_regression {analysis_start_year}')\n",
    "\n",
    "fig.show()"
   ]
  }
 ],
 "metadata": {
  "kernelspec": {
   "display_name": "Python 3 (ipykernel)",
   "language": "python",
   "name": "python3"
  },
  "language_info": {
   "codemirror_mode": {
    "name": "ipython",
    "version": 3
   },
   "file_extension": ".py",
   "mimetype": "text/x-python",
   "name": "python",
   "nbconvert_exporter": "python",
   "pygments_lexer": "ipython3",
   "version": "3.11.9"
  }
 },
 "nbformat": 4,
 "nbformat_minor": 4
}
