{
 "cells": [
  {
   "cell_type": "code",
   "execution_count": 1,
   "metadata": {},
   "outputs": [],
   "source": [
    "%load_ext autoreload\n",
    "%autoreload 2"
   ]
  },
  {
   "cell_type": "code",
   "execution_count": 2,
   "metadata": {},
   "outputs": [],
   "source": [
    "import numpy as np\n",
    "import os\n",
    "import pandas as pd\n",
    "import plotly.express as px\n",
    "import datetime\n",
    "import statsmodels.api as sm\n",
    "from sklearn.metrics import mean_squared_error\n",
    "from scipy.optimize import curve_fit\n",
    "import matplotlib.pyplot as plt\n",
    "import matplotlib.dates as mdates\n",
    "from matplotlib.dates import DateFormatter\n",
    "import matplotlib.patheffects as pe\n",
    "from itertools import combinations_with_replacement\n",
    "from dataclasses import dataclass\n",
    "from collections.abc import Callable\n",
    "from tqdm import tqdm\n",
    "from scipy.stats import chi2\n",
    "\n",
    "from data import *\n",
    "from plotting import *\n",
    "from regression import *\n",
    "from utils import *\n"
   ]
  },
  {
   "cell_type": "code",
   "execution_count": 3,
   "metadata": {},
   "outputs": [],
   "source": [
    "results_dir = 'results/updated-schema/'\n",
    "os.makedirs(results_dir, exist_ok=True)"
   ]
  },
  {
   "cell_type": "code",
   "execution_count": 4,
   "metadata": {},
   "outputs": [],
   "source": [
    "# Load data\n",
    "pcd_df = load_pcd_df()"
   ]
  },
  {
   "cell_type": "code",
   "execution_count": 5,
   "metadata": {},
   "outputs": [
    {
     "data": {
      "text/html": [
       "<div>\n",
       "<style scoped>\n",
       "    .dataframe tbody tr th:only-of-type {\n",
       "        vertical-align: middle;\n",
       "    }\n",
       "\n",
       "    .dataframe tbody tr th {\n",
       "        vertical-align: top;\n",
       "    }\n",
       "\n",
       "    .dataframe thead th {\n",
       "        text-align: right;\n",
       "    }\n",
       "</style>\n",
       "<table border=\"1\" class=\"dataframe\">\n",
       "  <thead>\n",
       "    <tr style=\"text-align: right;\">\n",
       "      <th></th>\n",
       "      <th>System</th>\n",
       "      <th>Domain</th>\n",
       "      <th>Task</th>\n",
       "      <th>Publication date</th>\n",
       "      <th>Accessibility notes</th>\n",
       "      <th>Model accessibility</th>\n",
       "      <th>Dataset accessibility</th>\n",
       "      <th>Code accessibility</th>\n",
       "      <th>Link</th>\n",
       "      <th>Organization</th>\n",
       "      <th>...</th>\n",
       "      <th>Archived links</th>\n",
       "      <th>Organization categorization</th>\n",
       "      <th>Foundation model</th>\n",
       "      <th>Training compute lower bound</th>\n",
       "      <th>Training compute upper bound</th>\n",
       "      <th>Training chip-hours</th>\n",
       "      <th>Organization categorization (from Organization)</th>\n",
       "      <th>Possibly over 1e23 FLOP</th>\n",
       "      <th>Training cost trends 2</th>\n",
       "      <th>Training cost trends 3</th>\n",
       "    </tr>\n",
       "  </thead>\n",
       "  <tbody>\n",
       "    <tr>\n",
       "      <th>0</th>\n",
       "      <td>NaN</td>\n",
       "      <td>NaN</td>\n",
       "      <td>NaN</td>\n",
       "      <td>NaN</td>\n",
       "      <td>NaN</td>\n",
       "      <td>NaN</td>\n",
       "      <td>NaN</td>\n",
       "      <td>NaN</td>\n",
       "      <td>NaN</td>\n",
       "      <td>NaN</td>\n",
       "      <td>...</td>\n",
       "      <td>NaN</td>\n",
       "      <td>NaN</td>\n",
       "      <td>NaN</td>\n",
       "      <td>NaN</td>\n",
       "      <td>NaN</td>\n",
       "      <td>NaN</td>\n",
       "      <td>NaN</td>\n",
       "      <td>NaN</td>\n",
       "      <td>NaN</td>\n",
       "      <td>NaN</td>\n",
       "    </tr>\n",
       "    <tr>\n",
       "      <th>1</th>\n",
       "      <td>Theseus</td>\n",
       "      <td>Robotics</td>\n",
       "      <td>Maze solving</td>\n",
       "      <td>1950-07-02</td>\n",
       "      <td>NaN</td>\n",
       "      <td>NaN</td>\n",
       "      <td>NaN</td>\n",
       "      <td>NaN</td>\n",
       "      <td>https://www.technologyreview.com/2018/12/19/13...</td>\n",
       "      <td>Bell Laboratories</td>\n",
       "      <td>...</td>\n",
       "      <td>NaN</td>\n",
       "      <td>Industry</td>\n",
       "      <td>NaN</td>\n",
       "      <td>NaN</td>\n",
       "      <td>NaN</td>\n",
       "      <td>NaN</td>\n",
       "      <td>Industry</td>\n",
       "      <td>NaN</td>\n",
       "      <td>NaN</td>\n",
       "      <td>NaN</td>\n",
       "    </tr>\n",
       "    <tr>\n",
       "      <th>2</th>\n",
       "      <td>SNARC</td>\n",
       "      <td>Robotics</td>\n",
       "      <td>Maze solving</td>\n",
       "      <td>1952-01-08</td>\n",
       "      <td>NaN</td>\n",
       "      <td>NaN</td>\n",
       "      <td>NaN</td>\n",
       "      <td>NaN</td>\n",
       "      <td>https://en.wikipedia.org/wiki/Stochastic_neura...</td>\n",
       "      <td>Harvard University</td>\n",
       "      <td>...</td>\n",
       "      <td>NaN</td>\n",
       "      <td>Academia</td>\n",
       "      <td>NaN</td>\n",
       "      <td>NaN</td>\n",
       "      <td>NaN</td>\n",
       "      <td>NaN</td>\n",
       "      <td>Academia</td>\n",
       "      <td>NaN</td>\n",
       "      <td>NaN</td>\n",
       "      <td>NaN</td>\n",
       "    </tr>\n",
       "    <tr>\n",
       "      <th>3</th>\n",
       "      <td>Genetic algorithm</td>\n",
       "      <td>Other</td>\n",
       "      <td>NaN</td>\n",
       "      <td>1954-07-02</td>\n",
       "      <td>NaN</td>\n",
       "      <td>NaN</td>\n",
       "      <td>NaN</td>\n",
       "      <td>NaN</td>\n",
       "      <td>https://link.springer.com/article/10.1007/BF01...</td>\n",
       "      <td>Institute for Advanced Study</td>\n",
       "      <td>...</td>\n",
       "      <td>NaN</td>\n",
       "      <td>Academia</td>\n",
       "      <td>NaN</td>\n",
       "      <td>NaN</td>\n",
       "      <td>NaN</td>\n",
       "      <td>NaN</td>\n",
       "      <td>Academia</td>\n",
       "      <td>NaN</td>\n",
       "      <td>NaN</td>\n",
       "      <td>NaN</td>\n",
       "    </tr>\n",
       "    <tr>\n",
       "      <th>4</th>\n",
       "      <td>Sequence-based pattern recognition</td>\n",
       "      <td>Vision</td>\n",
       "      <td>Character recognition</td>\n",
       "      <td>1955-03-01</td>\n",
       "      <td>NaN</td>\n",
       "      <td>NaN</td>\n",
       "      <td>NaN</td>\n",
       "      <td>NaN</td>\n",
       "      <td>https://dl.acm.org/doi/10.1145/1455292.1455310</td>\n",
       "      <td>Massachusetts Institute of Technology (MIT)</td>\n",
       "      <td>...</td>\n",
       "      <td>NaN</td>\n",
       "      <td>Academia</td>\n",
       "      <td>NaN</td>\n",
       "      <td>NaN</td>\n",
       "      <td>NaN</td>\n",
       "      <td>NaN</td>\n",
       "      <td>Academia</td>\n",
       "      <td>NaN</td>\n",
       "      <td>NaN</td>\n",
       "      <td>NaN</td>\n",
       "    </tr>\n",
       "    <tr>\n",
       "      <th>...</th>\n",
       "      <td>...</td>\n",
       "      <td>...</td>\n",
       "      <td>...</td>\n",
       "      <td>...</td>\n",
       "      <td>...</td>\n",
       "      <td>...</td>\n",
       "      <td>...</td>\n",
       "      <td>...</td>\n",
       "      <td>...</td>\n",
       "      <td>...</td>\n",
       "      <td>...</td>\n",
       "      <td>...</td>\n",
       "      <td>...</td>\n",
       "      <td>...</td>\n",
       "      <td>...</td>\n",
       "      <td>...</td>\n",
       "      <td>...</td>\n",
       "      <td>...</td>\n",
       "      <td>...</td>\n",
       "      <td>...</td>\n",
       "      <td>...</td>\n",
       "    </tr>\n",
       "    <tr>\n",
       "      <th>1543</th>\n",
       "      <td>Gemini 1.5 Flash</td>\n",
       "      <td>Multimodal,Language,Vision,Audio</td>\n",
       "      <td>Chat,Audio speech recognition,Image captioning...</td>\n",
       "      <td>2024-05-10</td>\n",
       "      <td>NaN</td>\n",
       "      <td>API access</td>\n",
       "      <td>NaN</td>\n",
       "      <td>NaN</td>\n",
       "      <td>https://storage.googleapis.com/deepmind-media/...</td>\n",
       "      <td>Google DeepMind</td>\n",
       "      <td>...</td>\n",
       "      <td>NaN</td>\n",
       "      <td>Industry</td>\n",
       "      <td>NaN</td>\n",
       "      <td>NaN</td>\n",
       "      <td>NaN</td>\n",
       "      <td>NaN</td>\n",
       "      <td>Industry</td>\n",
       "      <td>NaN</td>\n",
       "      <td>NaN</td>\n",
       "      <td>NaN</td>\n",
       "    </tr>\n",
       "    <tr>\n",
       "      <th>1544</th>\n",
       "      <td>Yi-Large</td>\n",
       "      <td>Language</td>\n",
       "      <td>Chat,Language modelling/generation</td>\n",
       "      <td>2024-05-13</td>\n",
       "      <td>NaN</td>\n",
       "      <td>API access</td>\n",
       "      <td>NaN</td>\n",
       "      <td>NaN</td>\n",
       "      <td>NaN</td>\n",
       "      <td>01.AI</td>\n",
       "      <td>...</td>\n",
       "      <td>NaN</td>\n",
       "      <td>Industry</td>\n",
       "      <td>NaN</td>\n",
       "      <td>NaN</td>\n",
       "      <td>NaN</td>\n",
       "      <td>NaN</td>\n",
       "      <td>Industry</td>\n",
       "      <td>checked</td>\n",
       "      <td>NaN</td>\n",
       "      <td>NaN</td>\n",
       "    </tr>\n",
       "    <tr>\n",
       "      <th>1545</th>\n",
       "      <td>GPT-4o</td>\n",
       "      <td>Multimodal,Language,Audio,Speech,Vision</td>\n",
       "      <td>Chat,Image generation,Audio generation,Vision-...</td>\n",
       "      <td>2024-05-13</td>\n",
       "      <td>NaN</td>\n",
       "      <td>API access</td>\n",
       "      <td>NaN</td>\n",
       "      <td>NaN</td>\n",
       "      <td>https://openai.com/index/hello-gpt-4o/</td>\n",
       "      <td>OpenAI</td>\n",
       "      <td>...</td>\n",
       "      <td>NaN</td>\n",
       "      <td>Industry</td>\n",
       "      <td>NaN</td>\n",
       "      <td>NaN</td>\n",
       "      <td>NaN</td>\n",
       "      <td>NaN</td>\n",
       "      <td>Industry</td>\n",
       "      <td>NaN</td>\n",
       "      <td>NaN</td>\n",
       "      <td>NaN</td>\n",
       "    </tr>\n",
       "    <tr>\n",
       "      <th>1546</th>\n",
       "      <td>Chameleon-34B</td>\n",
       "      <td>Multimodal,Image generation,Language,Vision</td>\n",
       "      <td>Language modelling/generation,Vision-language ...</td>\n",
       "      <td>2024-05-16</td>\n",
       "      <td>NaN</td>\n",
       "      <td>Unreleased</td>\n",
       "      <td>NaN</td>\n",
       "      <td>NaN</td>\n",
       "      <td>https://arxiv.org/abs/2405.09818v1</td>\n",
       "      <td>Facebook AI Research</td>\n",
       "      <td>...</td>\n",
       "      <td>NaN</td>\n",
       "      <td>Industry</td>\n",
       "      <td>NaN</td>\n",
       "      <td>NaN</td>\n",
       "      <td>NaN</td>\n",
       "      <td>NaN</td>\n",
       "      <td>Industry</td>\n",
       "      <td>NaN</td>\n",
       "      <td>NaN</td>\n",
       "      <td>NaN</td>\n",
       "    </tr>\n",
       "    <tr>\n",
       "      <th>1547</th>\n",
       "      <td>Chameleon-7B</td>\n",
       "      <td>Multimodal,Image generation,Vision,Language</td>\n",
       "      <td>Language modelling/generation,Vision-language ...</td>\n",
       "      <td>2024-05-16</td>\n",
       "      <td>NaN</td>\n",
       "      <td>Unreleased</td>\n",
       "      <td>NaN</td>\n",
       "      <td>NaN</td>\n",
       "      <td>https://arxiv.org/abs/2405.09818v1</td>\n",
       "      <td>Facebook AI Research</td>\n",
       "      <td>...</td>\n",
       "      <td>NaN</td>\n",
       "      <td>Industry</td>\n",
       "      <td>NaN</td>\n",
       "      <td>NaN</td>\n",
       "      <td>NaN</td>\n",
       "      <td>NaN</td>\n",
       "      <td>Industry</td>\n",
       "      <td>NaN</td>\n",
       "      <td>NaN</td>\n",
       "      <td>NaN</td>\n",
       "    </tr>\n",
       "  </tbody>\n",
       "</table>\n",
       "<p>1548 rows × 60 columns</p>\n",
       "</div>"
      ],
      "text/plain": [
       "                                  System  \\\n",
       "0                                    NaN   \n",
       "1                                Theseus   \n",
       "2                                  SNARC   \n",
       "3                      Genetic algorithm   \n",
       "4     Sequence-based pattern recognition   \n",
       "...                                  ...   \n",
       "1543                    Gemini 1.5 Flash   \n",
       "1544                            Yi-Large   \n",
       "1545                              GPT-4o   \n",
       "1546                       Chameleon-34B   \n",
       "1547                        Chameleon-7B   \n",
       "\n",
       "                                           Domain  \\\n",
       "0                                             NaN   \n",
       "1                                        Robotics   \n",
       "2                                        Robotics   \n",
       "3                                           Other   \n",
       "4                                          Vision   \n",
       "...                                           ...   \n",
       "1543             Multimodal,Language,Vision,Audio   \n",
       "1544                                     Language   \n",
       "1545      Multimodal,Language,Audio,Speech,Vision   \n",
       "1546  Multimodal,Image generation,Language,Vision   \n",
       "1547  Multimodal,Image generation,Vision,Language   \n",
       "\n",
       "                                                   Task Publication date  \\\n",
       "0                                                   NaN              NaN   \n",
       "1                                          Maze solving       1950-07-02   \n",
       "2                                          Maze solving       1952-01-08   \n",
       "3                                                   NaN       1954-07-02   \n",
       "4                                 Character recognition       1955-03-01   \n",
       "...                                                 ...              ...   \n",
       "1543  Chat,Audio speech recognition,Image captioning...       2024-05-10   \n",
       "1544                 Chat,Language modelling/generation       2024-05-13   \n",
       "1545  Chat,Image generation,Audio generation,Vision-...       2024-05-13   \n",
       "1546  Language modelling/generation,Vision-language ...       2024-05-16   \n",
       "1547  Language modelling/generation,Vision-language ...       2024-05-16   \n",
       "\n",
       "     Accessibility notes Model accessibility Dataset accessibility  \\\n",
       "0                    NaN                 NaN                   NaN   \n",
       "1                    NaN                 NaN                   NaN   \n",
       "2                    NaN                 NaN                   NaN   \n",
       "3                    NaN                 NaN                   NaN   \n",
       "4                    NaN                 NaN                   NaN   \n",
       "...                  ...                 ...                   ...   \n",
       "1543                 NaN          API access                   NaN   \n",
       "1544                 NaN          API access                   NaN   \n",
       "1545                 NaN          API access                   NaN   \n",
       "1546                 NaN          Unreleased                   NaN   \n",
       "1547                 NaN          Unreleased                   NaN   \n",
       "\n",
       "     Code accessibility                                               Link  \\\n",
       "0                   NaN                                                NaN   \n",
       "1                   NaN  https://www.technologyreview.com/2018/12/19/13...   \n",
       "2                   NaN  https://en.wikipedia.org/wiki/Stochastic_neura...   \n",
       "3                   NaN  https://link.springer.com/article/10.1007/BF01...   \n",
       "4                   NaN     https://dl.acm.org/doi/10.1145/1455292.1455310   \n",
       "...                 ...                                                ...   \n",
       "1543                NaN  https://storage.googleapis.com/deepmind-media/...   \n",
       "1544                NaN                                                NaN   \n",
       "1545                NaN            https://openai.com/index/hello-gpt-4o/    \n",
       "1546                NaN                 https://arxiv.org/abs/2405.09818v1   \n",
       "1547                NaN                 https://arxiv.org/abs/2405.09818v1   \n",
       "\n",
       "                                     Organization  ...  Archived links  \\\n",
       "0                                             NaN  ...             NaN   \n",
       "1                               Bell Laboratories  ...             NaN   \n",
       "2                              Harvard University  ...             NaN   \n",
       "3                    Institute for Advanced Study  ...             NaN   \n",
       "4     Massachusetts Institute of Technology (MIT)  ...             NaN   \n",
       "...                                           ...  ...             ...   \n",
       "1543                              Google DeepMind  ...             NaN   \n",
       "1544                                        01.AI  ...             NaN   \n",
       "1545                                       OpenAI  ...             NaN   \n",
       "1546                         Facebook AI Research  ...             NaN   \n",
       "1547                         Facebook AI Research  ...             NaN   \n",
       "\n",
       "     Organization categorization Foundation model  \\\n",
       "0                            NaN              NaN   \n",
       "1                       Industry              NaN   \n",
       "2                       Academia              NaN   \n",
       "3                       Academia              NaN   \n",
       "4                       Academia              NaN   \n",
       "...                          ...              ...   \n",
       "1543                    Industry              NaN   \n",
       "1544                    Industry              NaN   \n",
       "1545                    Industry              NaN   \n",
       "1546                    Industry              NaN   \n",
       "1547                    Industry              NaN   \n",
       "\n",
       "     Training compute lower bound Training compute upper bound  \\\n",
       "0                             NaN                          NaN   \n",
       "1                             NaN                          NaN   \n",
       "2                             NaN                          NaN   \n",
       "3                             NaN                          NaN   \n",
       "4                             NaN                          NaN   \n",
       "...                           ...                          ...   \n",
       "1543                          NaN                          NaN   \n",
       "1544                          NaN                          NaN   \n",
       "1545                          NaN                          NaN   \n",
       "1546                          NaN                          NaN   \n",
       "1547                          NaN                          NaN   \n",
       "\n",
       "     Training chip-hours Organization categorization (from Organization)  \\\n",
       "0                    NaN                                             NaN   \n",
       "1                    NaN                                        Industry   \n",
       "2                    NaN                                        Academia   \n",
       "3                    NaN                                        Academia   \n",
       "4                    NaN                                        Academia   \n",
       "...                  ...                                             ...   \n",
       "1543                 NaN                                        Industry   \n",
       "1544                 NaN                                        Industry   \n",
       "1545                 NaN                                        Industry   \n",
       "1546                 NaN                                        Industry   \n",
       "1547                 NaN                                        Industry   \n",
       "\n",
       "     Possibly over 1e23 FLOP Training cost trends 2  Training cost trends 3  \n",
       "0                        NaN                    NaN                     NaN  \n",
       "1                        NaN                    NaN                     NaN  \n",
       "2                        NaN                    NaN                     NaN  \n",
       "3                        NaN                    NaN                     NaN  \n",
       "4                        NaN                    NaN                     NaN  \n",
       "...                      ...                    ...                     ...  \n",
       "1543                     NaN                    NaN                     NaN  \n",
       "1544                 checked                    NaN                     NaN  \n",
       "1545                     NaN                    NaN                     NaN  \n",
       "1546                     NaN                    NaN                     NaN  \n",
       "1547                     NaN                    NaN                     NaN  \n",
       "\n",
       "[1548 rows x 60 columns]"
      ]
     },
     "execution_count": 5,
     "metadata": {},
     "output_type": "execute_result"
    }
   ],
   "source": [
    "pcd_df"
   ]
  },
  {
   "cell_type": "code",
   "execution_count": 6,
   "metadata": {},
   "outputs": [
    {
     "data": {
      "text/plain": [
       "648    Unreleased\n",
       "Name: Model accessibility, dtype: object"
      ]
     },
     "execution_count": 6,
     "metadata": {},
     "output_type": "execute_result"
    }
   ],
   "source": [
    "pcd_df.loc[pcd_df['System'] == 'Megatron-BERT']['Model accessibility']"
   ]
  },
  {
   "cell_type": "code",
   "execution_count": 7,
   "metadata": {},
   "outputs": [
    {
     "data": {
      "text/plain": [
       "504"
      ]
     },
     "execution_count": 7,
     "metadata": {},
     "output_type": "execute_result"
    }
   ],
   "source": [
    "access_df = pcd_df.dropna(subset=['Publication date', 'Training compute (FLOP)', 'Model accessibility'])\n",
    "len(access_df)"
   ]
  },
  {
   "cell_type": "code",
   "execution_count": 8,
   "metadata": {},
   "outputs": [
    {
     "data": {
      "text/plain": [
       "array(['Unreleased', 'Hosted access (no API)',\n",
       "       'Open access (non-commercial)', 'Open source', 'API access',\n",
       "       'Open access (restricted use)'], dtype=object)"
      ]
     },
     "execution_count": 8,
     "metadata": {},
     "output_type": "execute_result"
    }
   ],
   "source": [
    "access_df['Model accessibility'].unique()"
   ]
  },
  {
   "cell_type": "code",
   "execution_count": 9,
   "metadata": {},
   "outputs": [
    {
     "name": "stdout",
     "output_type": "stream",
     "text": [
      "Unreleased 186\n",
      "Hosted access (no API) 10\n",
      "Open access (non-commercial) 41\n",
      "Open source 197\n",
      "API access 26\n",
      "Open access (restricted use) 44\n"
     ]
    }
   ],
   "source": [
    "for cat in access_df['Model accessibility'].unique():\n",
    "    print(cat, len(access_df.loc[access_df['Model accessibility'] == cat]))"
   ]
  },
  {
   "cell_type": "code",
   "execution_count": 10,
   "metadata": {},
   "outputs": [],
   "source": [
    "open_access_categories = ['Open source', 'Open access (restricted use)', 'Open access (non-commercial)']\n",
    "closed_access_categories = ['API access', 'Hosted access (no API)', 'Unreleased']"
   ]
  },
  {
   "cell_type": "code",
   "execution_count": 11,
   "metadata": {},
   "outputs": [
    {
     "data": {
      "text/plain": [
       "282"
      ]
     },
     "execution_count": 11,
     "metadata": {},
     "output_type": "execute_result"
    }
   ],
   "source": [
    "open_access_df = access_df.loc[access_df['Model accessibility'].isin(open_access_categories)]\n",
    "len(open_access_df)"
   ]
  },
  {
   "cell_type": "code",
   "execution_count": 12,
   "metadata": {},
   "outputs": [
    {
     "data": {
      "text/plain": [
       "222"
      ]
     },
     "execution_count": 12,
     "metadata": {},
     "output_type": "execute_result"
    }
   ],
   "source": [
    "closed_access_df = access_df.loc[access_df['Model accessibility'].isin(closed_access_categories)]\n",
    "len(closed_access_df)"
   ]
  },
  {
   "cell_type": "code",
   "execution_count": 13,
   "metadata": {},
   "outputs": [
    {
     "name": "stderr",
     "output_type": "stream",
     "text": [
      "/var/folders/s2/stl5t_bn7xg9vdfxxr71rzrc0000gn/T/ipykernel_3142/148813227.py:2: SettingWithCopyWarning: \n",
      "A value is trying to be set on a copy of a slice from a DataFrame.\n",
      "Try using .loc[row_indexer,col_indexer] = value instead\n",
      "\n",
      "See the caveats in the documentation: https://pandas.pydata.org/pandas-docs/stable/user_guide/indexing.html#returning-a-view-versus-a-copy\n",
      "  access_df['Model open/closed'] = access_df['Model accessibility'].apply(\n"
     ]
    }
   ],
   "source": [
    "# Add column with binary access label\n",
    "access_df['Model open/closed'] = access_df['Model accessibility'].apply(\n",
    "    lambda x: 'Open' if x in open_access_categories else 'Closed'\n",
    ")"
   ]
  },
  {
   "cell_type": "code",
   "execution_count": 14,
   "metadata": {},
   "outputs": [
    {
     "data": {
      "text/html": [
       "<div>\n",
       "<style scoped>\n",
       "    .dataframe tbody tr th:only-of-type {\n",
       "        vertical-align: middle;\n",
       "    }\n",
       "\n",
       "    .dataframe tbody tr th {\n",
       "        vertical-align: top;\n",
       "    }\n",
       "\n",
       "    .dataframe thead th {\n",
       "        text-align: right;\n",
       "    }\n",
       "</style>\n",
       "<table border=\"1\" class=\"dataframe\">\n",
       "  <thead>\n",
       "    <tr style=\"text-align: right;\">\n",
       "      <th></th>\n",
       "      <th>System</th>\n",
       "      <th>Domain</th>\n",
       "      <th>Task</th>\n",
       "      <th>Publication date</th>\n",
       "      <th>Accessibility notes</th>\n",
       "      <th>Model accessibility</th>\n",
       "      <th>Dataset accessibility</th>\n",
       "      <th>Code accessibility</th>\n",
       "      <th>Link</th>\n",
       "      <th>Organization</th>\n",
       "      <th>...</th>\n",
       "      <th>Organization categorization</th>\n",
       "      <th>Foundation model</th>\n",
       "      <th>Training compute lower bound</th>\n",
       "      <th>Training compute upper bound</th>\n",
       "      <th>Training chip-hours</th>\n",
       "      <th>Organization categorization (from Organization)</th>\n",
       "      <th>Possibly over 1e23 FLOP</th>\n",
       "      <th>Training cost trends 2</th>\n",
       "      <th>Training cost trends 3</th>\n",
       "      <th>Model open/closed</th>\n",
       "    </tr>\n",
       "  </thead>\n",
       "  <tbody>\n",
       "    <tr>\n",
       "      <th>97</th>\n",
       "      <td>Credibilty Network</td>\n",
       "      <td>Vision</td>\n",
       "      <td>Character recognition,Image classification</td>\n",
       "      <td>1999-07-01</td>\n",
       "      <td>NaN</td>\n",
       "      <td>Unreleased</td>\n",
       "      <td>NaN</td>\n",
       "      <td>Unreleased</td>\n",
       "      <td>https://proceedings.neurips.cc/paper_files/pap...</td>\n",
       "      <td>University College London (UCL),University of ...</td>\n",
       "      <td>...</td>\n",
       "      <td>Academia,Academia</td>\n",
       "      <td>NaN</td>\n",
       "      <td>NaN</td>\n",
       "      <td>NaN</td>\n",
       "      <td>NaN</td>\n",
       "      <td>Academia,Academia</td>\n",
       "      <td>NaN</td>\n",
       "      <td>NaN</td>\n",
       "      <td>NaN</td>\n",
       "      <td>Closed</td>\n",
       "    </tr>\n",
       "    <tr>\n",
       "      <th>209</th>\n",
       "      <td>LBL</td>\n",
       "      <td>Language</td>\n",
       "      <td>NaN</td>\n",
       "      <td>2012-06-27</td>\n",
       "      <td>NaN</td>\n",
       "      <td>Unreleased</td>\n",
       "      <td>NaN</td>\n",
       "      <td>Unreleased</td>\n",
       "      <td>https://arxiv.org/abs/1206.6426</td>\n",
       "      <td>University College London (UCL)</td>\n",
       "      <td>...</td>\n",
       "      <td>Academia</td>\n",
       "      <td>NaN</td>\n",
       "      <td>NaN</td>\n",
       "      <td>NaN</td>\n",
       "      <td>NaN</td>\n",
       "      <td>Academia</td>\n",
       "      <td>NaN</td>\n",
       "      <td>NaN</td>\n",
       "      <td>NaN</td>\n",
       "      <td>Closed</td>\n",
       "    </tr>\n",
       "    <tr>\n",
       "      <th>232</th>\n",
       "      <td>RNN+weight noise+dynamic eval</td>\n",
       "      <td>Language</td>\n",
       "      <td>NaN</td>\n",
       "      <td>2013-08-04</td>\n",
       "      <td>NaN</td>\n",
       "      <td>Unreleased</td>\n",
       "      <td>NaN</td>\n",
       "      <td>Unreleased</td>\n",
       "      <td>https://arxiv.org/abs/1308.0850</td>\n",
       "      <td>University of Toronto</td>\n",
       "      <td>...</td>\n",
       "      <td>Academia</td>\n",
       "      <td>NaN</td>\n",
       "      <td>NaN</td>\n",
       "      <td>NaN</td>\n",
       "      <td>NaN</td>\n",
       "      <td>Academia</td>\n",
       "      <td>NaN</td>\n",
       "      <td>NaN</td>\n",
       "      <td>NaN</td>\n",
       "      <td>Closed</td>\n",
       "    </tr>\n",
       "    <tr>\n",
       "      <th>252</th>\n",
       "      <td>SPN-4+KN5</td>\n",
       "      <td>Language</td>\n",
       "      <td>NaN</td>\n",
       "      <td>2014-01-01</td>\n",
       "      <td>code, no license specified: https://github.com...</td>\n",
       "      <td>Unreleased</td>\n",
       "      <td>NaN</td>\n",
       "      <td>Open access (non-commercial)</td>\n",
       "      <td>https://spn.cs.washington.edu/papers/is14.pdf</td>\n",
       "      <td>Singapore University of Technology &amp; Design,DS...</td>\n",
       "      <td>...</td>\n",
       "      <td>Academia,Government</td>\n",
       "      <td>NaN</td>\n",
       "      <td>NaN</td>\n",
       "      <td>NaN</td>\n",
       "      <td>NaN</td>\n",
       "      <td>Academia,Government</td>\n",
       "      <td>NaN</td>\n",
       "      <td>NaN</td>\n",
       "      <td>NaN</td>\n",
       "      <td>Closed</td>\n",
       "    </tr>\n",
       "    <tr>\n",
       "      <th>272</th>\n",
       "      <td>Large regularized LSTM</td>\n",
       "      <td>Language</td>\n",
       "      <td>NaN</td>\n",
       "      <td>2014-09-08</td>\n",
       "      <td>Apache: https://github.com/wojzaremba/lstm</td>\n",
       "      <td>Unreleased</td>\n",
       "      <td>NaN</td>\n",
       "      <td>Open source</td>\n",
       "      <td>https://arxiv.org/abs/1409.2329</td>\n",
       "      <td>New York University (NYU),Google Brain</td>\n",
       "      <td>...</td>\n",
       "      <td>Academia,Industry</td>\n",
       "      <td>NaN</td>\n",
       "      <td>NaN</td>\n",
       "      <td>NaN</td>\n",
       "      <td>NaN</td>\n",
       "      <td>Academia,Industry</td>\n",
       "      <td>NaN</td>\n",
       "      <td>NaN</td>\n",
       "      <td>NaN</td>\n",
       "      <td>Closed</td>\n",
       "    </tr>\n",
       "    <tr>\n",
       "      <th>...</th>\n",
       "      <td>...</td>\n",
       "      <td>...</td>\n",
       "      <td>...</td>\n",
       "      <td>...</td>\n",
       "      <td>...</td>\n",
       "      <td>...</td>\n",
       "      <td>...</td>\n",
       "      <td>...</td>\n",
       "      <td>...</td>\n",
       "      <td>...</td>\n",
       "      <td>...</td>\n",
       "      <td>...</td>\n",
       "      <td>...</td>\n",
       "      <td>...</td>\n",
       "      <td>...</td>\n",
       "      <td>...</td>\n",
       "      <td>...</td>\n",
       "      <td>...</td>\n",
       "      <td>...</td>\n",
       "      <td>...</td>\n",
       "      <td>...</td>\n",
       "    </tr>\n",
       "    <tr>\n",
       "      <th>1539</th>\n",
       "      <td>phi-3-medium 14B</td>\n",
       "      <td>Language</td>\n",
       "      <td>Chat,Language modelling/generation</td>\n",
       "      <td>2024-04-23</td>\n",
       "      <td>announced to be released later</td>\n",
       "      <td>Unreleased</td>\n",
       "      <td>NaN</td>\n",
       "      <td>NaN</td>\n",
       "      <td>https://arxiv.org/abs/2404.14219</td>\n",
       "      <td>Microsoft</td>\n",
       "      <td>...</td>\n",
       "      <td>Industry</td>\n",
       "      <td>NaN</td>\n",
       "      <td>NaN</td>\n",
       "      <td>NaN</td>\n",
       "      <td>NaN</td>\n",
       "      <td>Industry</td>\n",
       "      <td>checked</td>\n",
       "      <td>NaN</td>\n",
       "      <td>NaN</td>\n",
       "      <td>Closed</td>\n",
       "    </tr>\n",
       "    <tr>\n",
       "      <th>1542</th>\n",
       "      <td>Fugaku-LLM</td>\n",
       "      <td>Language</td>\n",
       "      <td>Language modelling,Translation,Japanese langua...</td>\n",
       "      <td>2024-05-10</td>\n",
       "      <td>NaN</td>\n",
       "      <td>Open source</td>\n",
       "      <td>NaN</td>\n",
       "      <td>NaN</td>\n",
       "      <td>https://www.fujitsu.com/global/about/resources...</td>\n",
       "      <td>Tohoku University,CyberAgent,Tokyo Institute o...</td>\n",
       "      <td>...</td>\n",
       "      <td>Academia,Industry,Academia,Industry,Academia,I...</td>\n",
       "      <td>NaN</td>\n",
       "      <td>NaN</td>\n",
       "      <td>NaN</td>\n",
       "      <td>NaN</td>\n",
       "      <td>Academia,Industry,Academia,Industry,Academia,I...</td>\n",
       "      <td>NaN</td>\n",
       "      <td>NaN</td>\n",
       "      <td>NaN</td>\n",
       "      <td>Open</td>\n",
       "    </tr>\n",
       "    <tr>\n",
       "      <th>1544</th>\n",
       "      <td>Yi-Large</td>\n",
       "      <td>Language</td>\n",
       "      <td>Chat,Language modelling/generation</td>\n",
       "      <td>2024-05-13</td>\n",
       "      <td>NaN</td>\n",
       "      <td>API access</td>\n",
       "      <td>NaN</td>\n",
       "      <td>NaN</td>\n",
       "      <td>NaN</td>\n",
       "      <td>01.AI</td>\n",
       "      <td>...</td>\n",
       "      <td>Industry</td>\n",
       "      <td>NaN</td>\n",
       "      <td>NaN</td>\n",
       "      <td>NaN</td>\n",
       "      <td>NaN</td>\n",
       "      <td>Industry</td>\n",
       "      <td>checked</td>\n",
       "      <td>NaN</td>\n",
       "      <td>NaN</td>\n",
       "      <td>Closed</td>\n",
       "    </tr>\n",
       "    <tr>\n",
       "      <th>1546</th>\n",
       "      <td>Chameleon-34B</td>\n",
       "      <td>Multimodal,Image generation,Language,Vision</td>\n",
       "      <td>Language modelling/generation,Vision-language ...</td>\n",
       "      <td>2024-05-16</td>\n",
       "      <td>NaN</td>\n",
       "      <td>Unreleased</td>\n",
       "      <td>NaN</td>\n",
       "      <td>NaN</td>\n",
       "      <td>https://arxiv.org/abs/2405.09818v1</td>\n",
       "      <td>Facebook AI Research</td>\n",
       "      <td>...</td>\n",
       "      <td>Industry</td>\n",
       "      <td>NaN</td>\n",
       "      <td>NaN</td>\n",
       "      <td>NaN</td>\n",
       "      <td>NaN</td>\n",
       "      <td>Industry</td>\n",
       "      <td>NaN</td>\n",
       "      <td>NaN</td>\n",
       "      <td>NaN</td>\n",
       "      <td>Closed</td>\n",
       "    </tr>\n",
       "    <tr>\n",
       "      <th>1547</th>\n",
       "      <td>Chameleon-7B</td>\n",
       "      <td>Multimodal,Image generation,Vision,Language</td>\n",
       "      <td>Language modelling/generation,Vision-language ...</td>\n",
       "      <td>2024-05-16</td>\n",
       "      <td>NaN</td>\n",
       "      <td>Unreleased</td>\n",
       "      <td>NaN</td>\n",
       "      <td>NaN</td>\n",
       "      <td>https://arxiv.org/abs/2405.09818v1</td>\n",
       "      <td>Facebook AI Research</td>\n",
       "      <td>...</td>\n",
       "      <td>Industry</td>\n",
       "      <td>NaN</td>\n",
       "      <td>NaN</td>\n",
       "      <td>NaN</td>\n",
       "      <td>NaN</td>\n",
       "      <td>Industry</td>\n",
       "      <td>NaN</td>\n",
       "      <td>NaN</td>\n",
       "      <td>NaN</td>\n",
       "      <td>Closed</td>\n",
       "    </tr>\n",
       "  </tbody>\n",
       "</table>\n",
       "<p>504 rows × 61 columns</p>\n",
       "</div>"
      ],
      "text/plain": [
       "                             System  \\\n",
       "97               Credibilty Network   \n",
       "209                             LBL   \n",
       "232   RNN+weight noise+dynamic eval   \n",
       "252                       SPN-4+KN5   \n",
       "272          Large regularized LSTM   \n",
       "...                             ...   \n",
       "1539               phi-3-medium 14B   \n",
       "1542                     Fugaku-LLM   \n",
       "1544                       Yi-Large   \n",
       "1546                  Chameleon-34B   \n",
       "1547                   Chameleon-7B   \n",
       "\n",
       "                                           Domain  \\\n",
       "97                                         Vision   \n",
       "209                                      Language   \n",
       "232                                      Language   \n",
       "252                                      Language   \n",
       "272                                      Language   \n",
       "...                                           ...   \n",
       "1539                                     Language   \n",
       "1542                                     Language   \n",
       "1544                                     Language   \n",
       "1546  Multimodal,Image generation,Language,Vision   \n",
       "1547  Multimodal,Image generation,Vision,Language   \n",
       "\n",
       "                                                   Task Publication date  \\\n",
       "97           Character recognition,Image classification       1999-07-01   \n",
       "209                                                 NaN       2012-06-27   \n",
       "232                                                 NaN       2013-08-04   \n",
       "252                                                 NaN       2014-01-01   \n",
       "272                                                 NaN       2014-09-08   \n",
       "...                                                 ...              ...   \n",
       "1539                 Chat,Language modelling/generation       2024-04-23   \n",
       "1542  Language modelling,Translation,Japanese langua...       2024-05-10   \n",
       "1544                 Chat,Language modelling/generation       2024-05-13   \n",
       "1546  Language modelling/generation,Vision-language ...       2024-05-16   \n",
       "1547  Language modelling/generation,Vision-language ...       2024-05-16   \n",
       "\n",
       "                                    Accessibility notes Model accessibility  \\\n",
       "97                                                  NaN          Unreleased   \n",
       "209                                                 NaN          Unreleased   \n",
       "232                                                 NaN          Unreleased   \n",
       "252   code, no license specified: https://github.com...          Unreleased   \n",
       "272         Apache: https://github.com/wojzaremba/lstm           Unreleased   \n",
       "...                                                 ...                 ...   \n",
       "1539                     announced to be released later          Unreleased   \n",
       "1542                                                NaN         Open source   \n",
       "1544                                                NaN          API access   \n",
       "1546                                                NaN          Unreleased   \n",
       "1547                                                NaN          Unreleased   \n",
       "\n",
       "     Dataset accessibility            Code accessibility  \\\n",
       "97                     NaN                    Unreleased   \n",
       "209                    NaN                    Unreleased   \n",
       "232                    NaN                    Unreleased   \n",
       "252                    NaN  Open access (non-commercial)   \n",
       "272                    NaN                   Open source   \n",
       "...                    ...                           ...   \n",
       "1539                   NaN                           NaN   \n",
       "1542                   NaN                           NaN   \n",
       "1544                   NaN                           NaN   \n",
       "1546                   NaN                           NaN   \n",
       "1547                   NaN                           NaN   \n",
       "\n",
       "                                                   Link  \\\n",
       "97    https://proceedings.neurips.cc/paper_files/pap...   \n",
       "209                     https://arxiv.org/abs/1206.6426   \n",
       "232                     https://arxiv.org/abs/1308.0850   \n",
       "252       https://spn.cs.washington.edu/papers/is14.pdf   \n",
       "272                     https://arxiv.org/abs/1409.2329   \n",
       "...                                                 ...   \n",
       "1539                   https://arxiv.org/abs/2404.14219   \n",
       "1542  https://www.fujitsu.com/global/about/resources...   \n",
       "1544                                                NaN   \n",
       "1546                 https://arxiv.org/abs/2405.09818v1   \n",
       "1547                 https://arxiv.org/abs/2405.09818v1   \n",
       "\n",
       "                                           Organization  ...  \\\n",
       "97    University College London (UCL),University of ...  ...   \n",
       "209                     University College London (UCL)  ...   \n",
       "232                               University of Toronto  ...   \n",
       "252   Singapore University of Technology & Design,DS...  ...   \n",
       "272              New York University (NYU),Google Brain  ...   \n",
       "...                                                 ...  ...   \n",
       "1539                                          Microsoft  ...   \n",
       "1542  Tohoku University,CyberAgent,Tokyo Institute o...  ...   \n",
       "1544                                              01.AI  ...   \n",
       "1546                               Facebook AI Research  ...   \n",
       "1547                               Facebook AI Research  ...   \n",
       "\n",
       "                            Organization categorization Foundation model  \\\n",
       "97                                    Academia,Academia              NaN   \n",
       "209                                            Academia              NaN   \n",
       "232                                            Academia              NaN   \n",
       "252                                 Academia,Government              NaN   \n",
       "272                                   Academia,Industry              NaN   \n",
       "...                                                 ...              ...   \n",
       "1539                                           Industry              NaN   \n",
       "1542  Academia,Industry,Academia,Industry,Academia,I...              NaN   \n",
       "1544                                           Industry              NaN   \n",
       "1546                                           Industry              NaN   \n",
       "1547                                           Industry              NaN   \n",
       "\n",
       "     Training compute lower bound Training compute upper bound  \\\n",
       "97                            NaN                          NaN   \n",
       "209                           NaN                          NaN   \n",
       "232                           NaN                          NaN   \n",
       "252                           NaN                          NaN   \n",
       "272                           NaN                          NaN   \n",
       "...                           ...                          ...   \n",
       "1539                          NaN                          NaN   \n",
       "1542                          NaN                          NaN   \n",
       "1544                          NaN                          NaN   \n",
       "1546                          NaN                          NaN   \n",
       "1547                          NaN                          NaN   \n",
       "\n",
       "     Training chip-hours    Organization categorization (from Organization)  \\\n",
       "97                   NaN                                  Academia,Academia   \n",
       "209                  NaN                                           Academia   \n",
       "232                  NaN                                           Academia   \n",
       "252                  NaN                                Academia,Government   \n",
       "272                  NaN                                  Academia,Industry   \n",
       "...                  ...                                                ...   \n",
       "1539                 NaN                                           Industry   \n",
       "1542                 NaN  Academia,Industry,Academia,Industry,Academia,I...   \n",
       "1544                 NaN                                           Industry   \n",
       "1546                 NaN                                           Industry   \n",
       "1547                 NaN                                           Industry   \n",
       "\n",
       "     Possibly over 1e23 FLOP Training cost trends 2 Training cost trends 3  \\\n",
       "97                       NaN                    NaN                    NaN   \n",
       "209                      NaN                    NaN                    NaN   \n",
       "232                      NaN                    NaN                    NaN   \n",
       "252                      NaN                    NaN                    NaN   \n",
       "272                      NaN                    NaN                    NaN   \n",
       "...                      ...                    ...                    ...   \n",
       "1539                 checked                    NaN                    NaN   \n",
       "1542                     NaN                    NaN                    NaN   \n",
       "1544                 checked                    NaN                    NaN   \n",
       "1546                     NaN                    NaN                    NaN   \n",
       "1547                     NaN                    NaN                    NaN   \n",
       "\n",
       "      Model open/closed  \n",
       "97               Closed  \n",
       "209              Closed  \n",
       "232              Closed  \n",
       "252              Closed  \n",
       "272              Closed  \n",
       "...                 ...  \n",
       "1539             Closed  \n",
       "1542               Open  \n",
       "1544             Closed  \n",
       "1546             Closed  \n",
       "1547             Closed  \n",
       "\n",
       "[504 rows x 61 columns]"
      ]
     },
     "execution_count": 14,
     "metadata": {},
     "output_type": "execute_result"
    }
   ],
   "source": [
    "access_df"
   ]
  },
  {
   "cell_type": "markdown",
   "metadata": {},
   "source": [
    "## Compute percentile filtering (skipped for now in regression/viz code)"
   ]
  },
  {
   "cell_type": "code",
   "execution_count": 15,
   "metadata": {},
   "outputs": [],
   "source": [
    "outlier_window_size = 2  # years\n",
    "start_large_scale_era = '2015-09-01'"
   ]
  },
  {
   "cell_type": "code",
   "execution_count": 16,
   "metadata": {},
   "outputs": [],
   "source": [
    "pcd_df['Publication date'] = pd.to_datetime(pcd_df['Publication date'])\n",
    "pcd_df.sort_values('Publication date', inplace=True)\n",
    "pcd_df.dropna(subset=['Publication date', 'Notability criteria', 'Training compute (FLOP)'], inplace=True)"
   ]
  },
  {
   "cell_type": "code",
   "execution_count": 17,
   "metadata": {},
   "outputs": [
    {
     "name": "stdout",
     "output_type": "stream",
     "text": [
      "95\n",
      "90\n",
      "85\n",
      "80\n",
      "75\n",
      "70\n",
      "65\n",
      "60\n",
      "55\n",
      "50\n",
      "45\n",
      "40\n",
      "35\n",
      "30\n",
      "25\n",
      "20\n",
      "15\n",
      "10\n",
      "5\n",
      "0\n"
     ]
    }
   ],
   "source": [
    "systems_by_percentile = {}\n",
    "percentile_interval = 5\n",
    "for percentile in range(95, -5, -percentile_interval):\n",
    "  print(percentile)\n",
    "  percentile_compute_low = np.zeros(len(pcd_df))\n",
    "  percentile_compute_high = np.zeros(len(pcd_df))\n",
    "  # Iterate through each row and calculate the 2-year moving average for each date\n",
    "  for i, (index, row) in enumerate(pcd_df.iterrows()):\n",
    "    # Define the 2-year window\n",
    "    start_date = row['Publication date'] - pd.DateOffset(years=outlier_window_size/2)\n",
    "    end_date = row['Publication date'] + pd.DateOffset(years=outlier_window_size/2)\n",
    "\n",
    "    # Filter the DataFrame for this window\n",
    "    window_df = pcd_df[(pcd_df['Publication date'] >= start_date) & (pcd_df['Publication date'] <= end_date)]\n",
    "\n",
    "    percentile_compute_low[i] = np.percentile(window_df['Training compute (FLOP)'], percentile)\n",
    "    percentile_compute_high[i] = np.percentile(window_df['Training compute (FLOP)'], percentile + percentile_interval)\n",
    "\n",
    "  systems_flag = pcd_df['Training compute (FLOP)'] > np.array(percentile_compute_low)\n",
    "  extra_systems_flag = pcd_df['Training compute (FLOP)'] <= np.array(percentile_compute_high)\n",
    "\n",
    "  # raise Exception(\"Edit the following line if you want to consider models released after 2023-12-31.\")\n",
    "  extra_systems = pcd_df['System'][systems_flag & extra_systems_flag & (pcd_df['Publication date'] > pd.to_datetime('2015-09-30'))].values\n",
    "\n",
    "  systems_by_percentile[percentile] = list(extra_systems)"
   ]
  },
  {
   "cell_type": "code",
   "execution_count": 18,
   "metadata": {},
   "outputs": [
    {
     "data": {
      "text/plain": [
       "{95: ['GNMT',\n",
       "  'AlphaGo Master',\n",
       "  'AlphaGo Zero',\n",
       "  'AlphaZero',\n",
       "  'ResNeXt-101 32x48d',\n",
       "  'Megatron-BERT',\n",
       "  'OpenAI Five',\n",
       "  'Meena',\n",
       "  'GPT-3 175B (davinci)',\n",
       "  'Megatron-Turing NLG 530B',\n",
       "  'PaLM (540B)',\n",
       "  'Minerva (540B)',\n",
       "  'GPT-4',\n",
       "  'PaLM 2',\n",
       "  'Inflection-2',\n",
       "  'Gemini 1.0 Ultra',\n",
       "  'MegaScale (Production)'],\n",
       " 90: ['NASv3 (CIFAR-10)',\n",
       "  'FTW',\n",
       "  'T5-11B',\n",
       "  'AlphaStar',\n",
       "  'mT5-XXL',\n",
       "  'Switch',\n",
       "  'Gopher (280B)',\n",
       "  'ERNIE 3.0 Titan',\n",
       "  'Chinchilla',\n",
       "  'U-PaLM (540B)',\n",
       "  'Flan-PaLM 540B',\n",
       "  'GPT-3.5 (text-davinci-003)',\n",
       "  'Claude 2',\n",
       "  'Falcon-180B',\n",
       "  'Inflection-2.5'],\n",
       " 85: ['AlphaGo Fan',\n",
       "  'AlphaGo Lee',\n",
       "  'JFT',\n",
       "  'AmoebaNet-A (F=448)',\n",
       "  'XLNet',\n",
       "  'Megatron-LM (8.3B)',\n",
       "  'OpenAI Five Rerun',\n",
       "  'Turing-NLG',\n",
       "  'Yuan 1.0',\n",
       "  'GLaM',\n",
       "  'LaMDA',\n",
       "  'OPT-175B',\n",
       "  'Parti',\n",
       "  'BLOOM-176B',\n",
       "  'Grok-1',\n",
       "  'Llama 3-70B'],\n",
       " 80: ['OpenAI TI7 DOTA 1v1',\n",
       "  'IMPALA',\n",
       "  'BigGAN-deep 512x512',\n",
       "  'GPT-2 (1.5B)',\n",
       "  'iGPT-XL',\n",
       "  'DALL-E',\n",
       "  'Meta Pseudo Labels',\n",
       "  'ProtT5-XXL',\n",
       "  'ByT5-XXL',\n",
       "  'GOAT',\n",
       "  'HyperCLOVA 82B',\n",
       "  'AlphaCode',\n",
       "  'ST-MoE',\n",
       "  'Flamingo',\n",
       "  'GLM-130B',\n",
       "  'BlenderBot 3',\n",
       "  'LLaMA-65B',\n",
       "  'xTrimoPGLM -100B',\n",
       "  'Llama 2-70B',\n",
       "  'ChatGLM3',\n",
       "  'Qwen-72B'],\n",
       " 75: ['Xception',\n",
       "  'Libratus',\n",
       "  'BERT-Large',\n",
       "  'RoBERTa Large',\n",
       "  'ContextNet + Noisy Student',\n",
       "  'GShard (dense)',\n",
       "  'GPT-NeoX-20B',\n",
       "  'UL2',\n",
       "  'Galactica',\n",
       "  'ViT-22B',\n",
       "  'PanGu-Σ',\n",
       "  'Yi-34B',\n",
       "  'MegaScale (530B)'],\n",
       " 70: ['DeepSpeech2 (English)',\n",
       "  'PolyNet',\n",
       "  'MoE',\n",
       "  'Big Transformer for Back-Translation',\n",
       "  'Mesh-TensorFlow Transformer 4.9B (language modelling)',\n",
       "  'MnasNet-A1 + SSDLite',\n",
       "  'MnasNet-A3',\n",
       "  'ALBERT-xxlarge',\n",
       "  'ELECTRA',\n",
       "  'iGPT-L',\n",
       "  'PLUG',\n",
       "  'ProtT5-XXL-BFD',\n",
       "  'ProtBERT-BFD',\n",
       "  'CoAtNet',\n",
       "  'FLAN 137B',\n",
       "  'Florence',\n",
       "  'AlexaTM 20B',\n",
       "  'Llama 2-34B'],\n",
       " 65: ['ResNet-152 (ImageNet)',\n",
       "  'ConvS2S (ensemble of 8 models)',\n",
       "  'PNASNet-5',\n",
       "  'YOLOv3',\n",
       "  'Transformer (Adaptive Input Embeddings) WT103',\n",
       "  'BERT-Large-CAS (PTB+WT2+WT103)',\n",
       "  'Conformer + Wav2vec 2.0 + Noisy Student',\n",
       "  'CLIP (ViT L/14@336px)',\n",
       "  'CogView',\n",
       "  'ALIGN',\n",
       "  'XGLM-7.5B',\n",
       "  'Stable Diffusion (LDM-KL-8-G)',\n",
       "  'CoCa',\n",
       "  'ESM2-15B',\n",
       "  'Falcon-40B',\n",
       "  'BloombergGPT',\n",
       "  'FunSearch',\n",
       "  'MM1-30B',\n",
       "  'Llama 3-8B'],\n",
       " 60: ['ResNet-200',\n",
       "  'Population-based DRL',\n",
       "  'Mesh-TensorFlow Transformer 2.9B (translation)',\n",
       "  'Megatron-LM (355M)',\n",
       "  'T5-3B',\n",
       "  'CamemBERT',\n",
       "  'Noisy Student (L2)',\n",
       "  'Once for All',\n",
       "  'ERNIE 3.0',\n",
       "  'BASIC-L',\n",
       "  'Student of Games',\n",
       "  'PaLI',\n",
       "  'Whisper',\n",
       "  'Taiyi-Stable Diffusion',\n",
       "  'StarCoder',\n",
       "  'WizardCoder-15.5B',\n",
       "  'Llama 2-13B',\n",
       "  'Skywork-13B',\n",
       "  'MegaScale (175B)'],\n",
       " 55: ['DeepStack',\n",
       "  'LSTM (Hebbian, Cache, MbPA)',\n",
       "  'QT-Opt',\n",
       "  'SciBERT',\n",
       "  'DD-PPO',\n",
       "  'ViT-Huge/14',\n",
       "  'MSA Transformer',\n",
       "  'M6-T',\n",
       "  'ADM',\n",
       "  'XGLM',\n",
       "  'RETRO-7B',\n",
       "  'Llama 2-7B',\n",
       "  'FinGPT-13B',\n",
       "  'Nemotron-3-8B'],\n",
       " 50: ['Transformer',\n",
       "  'GPT',\n",
       "  'ProxylessNAS',\n",
       "  'GBERT-Large',\n",
       "  'wave2vec 2.0 LARGE',\n",
       "  'AlphaFold 2',\n",
       "  'DeBERTa',\n",
       "  'HuBERT',\n",
       "  'PLATO-XL',\n",
       "  'Imagen',\n",
       "  'ProGen2-xlarge',\n",
       "  'NLLB',\n",
       "  'ESM2-3B',\n",
       "  'Flan-T5 11B',\n",
       "  'LLaMA-7B',\n",
       "  'LLaMA-13B',\n",
       "  'WizardLM-7B',\n",
       "  'Pangu-Weather'],\n",
       " 45: ['BIDAF',\n",
       "  'RetinaNet-R101',\n",
       "  'Transformer + Simple Recurrent Unit',\n",
       "  'Sandwich Transformer',\n",
       "  'DETR',\n",
       "  'ESM1-670M (UR50/D)',\n",
       "  'German ELECTRA Large',\n",
       "  'CPM-Large',\n",
       "  'SEER',\n",
       "  'Tranception',\n",
       "  'OmegaPLM',\n",
       "  'Jais'],\n",
       " 40: ['Part-of-sentence tagging model',\n",
       "  'GL-LWGC-AWD-MoS-LSTM + dynamic evaluation (WT2)',\n",
       "  'Transformer-XL (257M)',\n",
       "  'KataGo',\n",
       "  'MuZero',\n",
       "  'AlphaFold',\n",
       "  'ESM1-670M (UR50/S)',\n",
       "  'ViT-G/14',\n",
       "  'AlphaFold-Multimer',\n",
       "  'NÜWA',\n",
       "  'Gato',\n",
       "  'ESM2-650M',\n",
       "  'Nucleotide Transformer',\n",
       "  'CogVLM',\n",
       "  'SPHINX (Llama 2 13B)',\n",
       "  'GraphCast',\n",
       "  'CogAgent'],\n",
       " 35: ['Named Entity Recognition model',\n",
       "  'AWD-LSTM - 3-layer LSTM (tied) + continuous cache pointer (WT2)',\n",
       "  '(ensemble): AWD-LSTM-DOC (fin) × 5 (WT2)',\n",
       "  'TrellisNet',\n",
       "  'Feedback Transformer',\n",
       "  'ERNIE-GEN (large)',\n",
       "  'LUKE',\n",
       "  'ESM1b',\n",
       "  'EMDR',\n",
       "  'ViT-G (model soup)',\n",
       "  'AudioGen',\n",
       "  'VideoMAE V2',\n",
       "  'Segment Anything Model',\n",
       "  'DINOv2',\n",
       "  'PeptideBERT'],\n",
       " 30: ['R-FCN',\n",
       "  'AWD-LSTM-MoS + dynamic evaluation (WT2, 2017)',\n",
       "  'QRNN',\n",
       "  'Big-Little Net (speech)',\n",
       "  'FAIRSEQ Adaptive Inputs',\n",
       "  'Transformer-XL Large + Phrase Induction',\n",
       "  'ResNet-152 + ObjectNet',\n",
       "  'DistilBERT',\n",
       "  'ATLAS',\n",
       "  'ESM1-670M (UR100)',\n",
       "  'CodeT5-base',\n",
       "  'CodeT5-large',\n",
       "  'GenSLM',\n",
       "  'EVA-01',\n",
       "  'Ankh_large'],\n",
       " 25: ['VD-LSTM+REAL Large',\n",
       "  'ULM-FiT',\n",
       "  'Decoupled weight decay regularization',\n",
       "  'Hanabi 4 player',\n",
       "  'Tensorized Transformer (257M)',\n",
       "  'AlphaX-1',\n",
       "  'TaLK Convolution',\n",
       "  'UnifiedQA',\n",
       "  'ESM1-85M',\n",
       "  'KEPLER',\n",
       "  'ViT + DINO',\n",
       "  'ConSERT',\n",
       "  'Denoising Diffusion Probabilistic Models (LSUN Bedroom)',\n",
       "  'T0-XXL',\n",
       "  'S4',\n",
       "  'Masked Autoencoders',\n",
       "  'Swin Transformer V2',\n",
       "  'PolyCoder',\n",
       "  'ESM2-150M',\n",
       "  'Ankh_base',\n",
       "  'Flan T5-XXL + BLIP-2',\n",
       "  'BLIP-2 (Q-Former)',\n",
       "  'Incoder-6.7B'],\n",
       " 20: ['Zoneout + Variational LSTM (WT2)',\n",
       "  '4 layer QRNN (h=2500)',\n",
       "  'Big-Little Net',\n",
       "  'Cross-lingual alignment',\n",
       "  'DLRM-2020',\n",
       "  'Base LM + kNN LM + Continuous Cache',\n",
       "  'DeiT-B',\n",
       "  'AR-LDM',\n",
       "  'Discriminator Guidance',\n",
       "  'Hybrid H3-2.7B',\n",
       "  'DDPM-IP (CelebA)',\n",
       "  'DiT-XL/2'],\n",
       " 15: ['Variational (untied weights, MC) LSTM (Large)',\n",
       "  'Pointer Sentinel-LSTM (medium)',\n",
       "  'Neural Architecture Search with base 8 and shared embeddings',\n",
       "  'Fraternal dropout + AWD-LSTM 3-layer (WT2)',\n",
       "  'ENAS',\n",
       "  'Dropout-LSTM+Noise(Bernoulli) (WT2)',\n",
       "  'aLSTM(depth-2)+RecurrentPolicy (WT2)',\n",
       "  'Transformer-XL DeFINE (141M)',\n",
       "  'DeLight',\n",
       "  'ESM1-43M',\n",
       "  'EfficientNetV2',\n",
       "  'Adaptive Input Transformer + RD',\n",
       "  'DNABERT',\n",
       "  'BERT-RBP',\n",
       "  'ESM2-35M',\n",
       "  'InternImage',\n",
       "  'Fusion in Encoder',\n",
       "  'InstructBLIP',\n",
       "  'ONE-PEACE'],\n",
       " 10: ['EI-REHN-1000D',\n",
       "  'DARTS',\n",
       "  'AWD-LSTM-DRILL + dynamic evaluation† (WT2)',\n",
       "  'NAS+ESS (156M)',\n",
       "  'ProBERTa',\n",
       "  'ERNIE-Doc (247M)',\n",
       "  'ProteinBERT',\n",
       "  'BEIT-3',\n",
       "  'DiffDock',\n",
       "  'eDiff-I',\n",
       "  'LLaVA 1.5'],\n",
       " 5: ['VD-RHN',\n",
       "  'ISS',\n",
       "  'AWD-LSTM+WT+Cache+IOG (WT2)',\n",
       "  'AWD-LSTM + MoS + Partial Shuffled',\n",
       "  'UDSMProt',\n",
       "  'MMLSTM',\n",
       "  'Tensor-Transformer(1core)+PN (WT103)',\n",
       "  'SRU++ Large',\n",
       "  'Transformer local-attention (NesT-B)',\n",
       "  'Detic',\n",
       "  'Segatron-XL large, M=384 + HCP',\n",
       "  'Sparse all-MLP',\n",
       "  'ESM2-8M',\n",
       "  'CaLM',\n",
       "  'LLaVA',\n",
       "  'CODEFUSION (Python)',\n",
       "  'MultiBand Diffusion'],\n",
       " 0: ['2-layer-LSTM+Deep-Gradient-Compression',\n",
       "  'Fine-tuned-AWD-LSTM-DOC(fin)',\n",
       "  'Multi-cell LSTM',\n",
       "  'Pluribus',\n",
       "  'TransformerXL + spectrum control',\n",
       "  'DensePhrases',\n",
       "  'CT-MoS (WT2)',\n",
       "  'MedBERT',\n",
       "  'PermuteFormer',\n",
       "  'base LM+GNN+kNN',\n",
       "  'DITTO',\n",
       "  'Mogrifier RLSTM (WT2)',\n",
       "  'VALL-E',\n",
       "  'HyenaDNA',\n",
       "  'AudioLM']}"
      ]
     },
     "execution_count": 18,
     "metadata": {},
     "output_type": "execute_result"
    }
   ],
   "source": [
    "systems_by_percentile"
   ]
  },
  {
   "cell_type": "code",
   "execution_count": 19,
   "metadata": {},
   "outputs": [
    {
     "data": {
      "text/plain": [
       "['Transformer',\n",
       " 'GPT',\n",
       " 'ProxylessNAS',\n",
       " 'GBERT-Large',\n",
       " 'wave2vec 2.0 LARGE',\n",
       " 'AlphaFold 2',\n",
       " 'DeBERTa',\n",
       " 'HuBERT',\n",
       " 'PLATO-XL',\n",
       " 'Imagen',\n",
       " 'ProGen2-xlarge',\n",
       " 'NLLB',\n",
       " 'ESM2-3B',\n",
       " 'Flan-T5 11B',\n",
       " 'LLaMA-7B',\n",
       " 'LLaMA-13B',\n",
       " 'WizardLM-7B',\n",
       " 'Pangu-Weather',\n",
       " 'DeepStack',\n",
       " 'LSTM (Hebbian, Cache, MbPA)',\n",
       " 'QT-Opt',\n",
       " 'SciBERT',\n",
       " 'DD-PPO',\n",
       " 'ViT-Huge/14',\n",
       " 'MSA Transformer',\n",
       " 'M6-T',\n",
       " 'ADM',\n",
       " 'XGLM',\n",
       " 'RETRO-7B',\n",
       " 'Llama 2-7B',\n",
       " 'FinGPT-13B',\n",
       " 'Nemotron-3-8B',\n",
       " 'ResNet-200',\n",
       " 'Population-based DRL',\n",
       " 'Mesh-TensorFlow Transformer 2.9B (translation)',\n",
       " 'Megatron-LM (355M)',\n",
       " 'T5-3B',\n",
       " 'CamemBERT',\n",
       " 'Noisy Student (L2)',\n",
       " 'Once for All',\n",
       " 'ERNIE 3.0',\n",
       " 'BASIC-L',\n",
       " 'Student of Games',\n",
       " 'PaLI',\n",
       " 'Whisper',\n",
       " 'Taiyi-Stable Diffusion',\n",
       " 'StarCoder',\n",
       " 'WizardCoder-15.5B',\n",
       " 'Llama 2-13B',\n",
       " 'Skywork-13B',\n",
       " 'MegaScale (175B)',\n",
       " 'ResNet-152 (ImageNet)',\n",
       " 'ConvS2S (ensemble of 8 models)',\n",
       " 'PNASNet-5',\n",
       " 'YOLOv3',\n",
       " 'Transformer (Adaptive Input Embeddings) WT103',\n",
       " 'BERT-Large-CAS (PTB+WT2+WT103)',\n",
       " 'Conformer + Wav2vec 2.0 + Noisy Student',\n",
       " 'CLIP (ViT L/14@336px)',\n",
       " 'CogView',\n",
       " 'ALIGN',\n",
       " 'XGLM-7.5B',\n",
       " 'Stable Diffusion (LDM-KL-8-G)',\n",
       " 'CoCa',\n",
       " 'ESM2-15B',\n",
       " 'Falcon-40B',\n",
       " 'BloombergGPT',\n",
       " 'FunSearch',\n",
       " 'MM1-30B',\n",
       " 'Llama 3-8B',\n",
       " 'DeepSpeech2 (English)',\n",
       " 'PolyNet',\n",
       " 'MoE',\n",
       " 'Big Transformer for Back-Translation',\n",
       " 'Mesh-TensorFlow Transformer 4.9B (language modelling)',\n",
       " 'MnasNet-A1 + SSDLite',\n",
       " 'MnasNet-A3',\n",
       " 'ALBERT-xxlarge',\n",
       " 'ELECTRA',\n",
       " 'iGPT-L',\n",
       " 'PLUG',\n",
       " 'ProtT5-XXL-BFD',\n",
       " 'ProtBERT-BFD',\n",
       " 'CoAtNet',\n",
       " 'FLAN 137B',\n",
       " 'Florence',\n",
       " 'AlexaTM 20B',\n",
       " 'Llama 2-34B',\n",
       " 'Xception',\n",
       " 'Libratus',\n",
       " 'BERT-Large',\n",
       " 'RoBERTa Large',\n",
       " 'ContextNet + Noisy Student',\n",
       " 'GShard (dense)',\n",
       " 'GPT-NeoX-20B',\n",
       " 'UL2',\n",
       " 'Galactica',\n",
       " 'ViT-22B',\n",
       " 'PanGu-Σ',\n",
       " 'Yi-34B',\n",
       " 'MegaScale (530B)',\n",
       " 'OpenAI TI7 DOTA 1v1',\n",
       " 'IMPALA',\n",
       " 'BigGAN-deep 512x512',\n",
       " 'GPT-2 (1.5B)',\n",
       " 'iGPT-XL',\n",
       " 'DALL-E',\n",
       " 'Meta Pseudo Labels',\n",
       " 'ProtT5-XXL',\n",
       " 'ByT5-XXL',\n",
       " 'GOAT',\n",
       " 'HyperCLOVA 82B',\n",
       " 'AlphaCode',\n",
       " 'ST-MoE',\n",
       " 'Flamingo',\n",
       " 'GLM-130B',\n",
       " 'BlenderBot 3',\n",
       " 'LLaMA-65B',\n",
       " 'xTrimoPGLM -100B',\n",
       " 'Llama 2-70B',\n",
       " 'ChatGLM3',\n",
       " 'Qwen-72B',\n",
       " 'AlphaGo Fan',\n",
       " 'AlphaGo Lee',\n",
       " 'JFT',\n",
       " 'AmoebaNet-A (F=448)',\n",
       " 'XLNet',\n",
       " 'Megatron-LM (8.3B)',\n",
       " 'OpenAI Five Rerun',\n",
       " 'Turing-NLG',\n",
       " 'Yuan 1.0',\n",
       " 'GLaM',\n",
       " 'LaMDA',\n",
       " 'OPT-175B',\n",
       " 'Parti',\n",
       " 'BLOOM-176B',\n",
       " 'Grok-1',\n",
       " 'Llama 3-70B',\n",
       " 'NASv3 (CIFAR-10)',\n",
       " 'FTW',\n",
       " 'T5-11B',\n",
       " 'AlphaStar',\n",
       " 'mT5-XXL',\n",
       " 'Switch',\n",
       " 'Gopher (280B)',\n",
       " 'ERNIE 3.0 Titan',\n",
       " 'Chinchilla',\n",
       " 'U-PaLM (540B)',\n",
       " 'Flan-PaLM 540B',\n",
       " 'GPT-3.5 (text-davinci-003)',\n",
       " 'Claude 2',\n",
       " 'Falcon-180B',\n",
       " 'Inflection-2.5',\n",
       " 'GNMT',\n",
       " 'AlphaGo Master',\n",
       " 'AlphaGo Zero',\n",
       " 'AlphaZero',\n",
       " 'ResNeXt-101 32x48d',\n",
       " 'Megatron-BERT',\n",
       " 'OpenAI Five',\n",
       " 'Meena',\n",
       " 'GPT-3 175B (davinci)',\n",
       " 'Megatron-Turing NLG 530B',\n",
       " 'PaLM (540B)',\n",
       " 'Minerva (540B)',\n",
       " 'GPT-4',\n",
       " 'PaLM 2',\n",
       " 'Inflection-2',\n",
       " 'Gemini 1.0 Ultra',\n",
       " 'MegaScale (Production)']"
      ]
     },
     "execution_count": 19,
     "metadata": {},
     "output_type": "execute_result"
    }
   ],
   "source": [
    "compute_percentile_threshold = 50\n",
    "selected_systems = []\n",
    "for percentile in range(compute_percentile_threshold, 100, 5):\n",
    "    selected_systems.extend(systems_by_percentile[percentile])\n",
    "selected_systems"
   ]
  },
  {
   "cell_type": "markdown",
   "metadata": {},
   "source": [
    "# Top-n frontier filtering"
   ]
  },
  {
   "cell_type": "code",
   "execution_count": 20,
   "metadata": {},
   "outputs": [
    {
     "name": "stderr",
     "output_type": "stream",
     "text": [
      "/var/folders/s2/stl5t_bn7xg9vdfxxr71rzrc0000gn/T/ipykernel_3142/3991044387.py:1: SettingWithCopyWarning: \n",
      "A value is trying to be set on a copy of a slice from a DataFrame.\n",
      "Try using .loc[row_indexer,col_indexer] = value instead\n",
      "\n",
      "See the caveats in the documentation: https://pandas.pydata.org/pandas-docs/stable/user_guide/indexing.html#returning-a-view-versus-a-copy\n",
      "  access_df['Publication date (float)'] = datetime_to_float_year(\n"
     ]
    }
   ],
   "source": [
    "access_df['Publication date (float)'] = datetime_to_float_year(\n",
    "    pd.to_datetime(access_df['Publication date'])\n",
    ")"
   ]
  },
  {
   "cell_type": "code",
   "execution_count": 21,
   "metadata": {},
   "outputs": [
    {
     "name": "stderr",
     "output_type": "stream",
     "text": [
      "/var/folders/s2/stl5t_bn7xg9vdfxxr71rzrc0000gn/T/ipykernel_3142/1055558449.py:3: SettingWithCopyWarning: \n",
      "A value is trying to be set on a copy of a slice from a DataFrame.\n",
      "Try using .loc[row_indexer,col_indexer] = value instead\n",
      "\n",
      "See the caveats in the documentation: https://pandas.pydata.org/pandas-docs/stable/user_guide/indexing.html#returning-a-view-versus-a-copy\n",
      "  access_df[f'top_{n}_at_release'] = False\n"
     ]
    }
   ],
   "source": [
    "n = 10\n",
    "\n",
    "access_df[f'top_{n}_at_release'] = False\n",
    "\n",
    "for row, model in access_df.iterrows():\n",
    "    # Filter for models released as of the model release, with the same open/closed status\n",
    "    date_df = access_df[(access_df['Publication date (float)'] <= model['Publication date (float)']) \n",
    "        & (access_df['Model open/closed'] == model['Model open/closed'])]\n",
    "    # Get the top n models (with the same open/closed status) by compute\n",
    "    top_n_models = date_df.nlargest(n, 'Training compute (FLOP)')\n",
    "    # Mark these models in the original dataframe\n",
    "    access_df.loc[top_n_models.index, f'top_{n}_at_release'] = True"
   ]
  },
  {
   "cell_type": "code",
   "execution_count": 22,
   "metadata": {},
   "outputs": [
    {
     "data": {
      "text/html": [
       "<div>\n",
       "<style scoped>\n",
       "    .dataframe tbody tr th:only-of-type {\n",
       "        vertical-align: middle;\n",
       "    }\n",
       "\n",
       "    .dataframe tbody tr th {\n",
       "        vertical-align: top;\n",
       "    }\n",
       "\n",
       "    .dataframe thead th {\n",
       "        text-align: right;\n",
       "    }\n",
       "</style>\n",
       "<table border=\"1\" class=\"dataframe\">\n",
       "  <thead>\n",
       "    <tr style=\"text-align: right;\">\n",
       "      <th></th>\n",
       "      <th>System</th>\n",
       "      <th>Domain</th>\n",
       "      <th>Task</th>\n",
       "      <th>Publication date</th>\n",
       "      <th>Accessibility notes</th>\n",
       "      <th>Model accessibility</th>\n",
       "      <th>Dataset accessibility</th>\n",
       "      <th>Code accessibility</th>\n",
       "      <th>Link</th>\n",
       "      <th>Organization</th>\n",
       "      <th>...</th>\n",
       "      <th>Training compute lower bound</th>\n",
       "      <th>Training compute upper bound</th>\n",
       "      <th>Training chip-hours</th>\n",
       "      <th>Organization categorization (from Organization)</th>\n",
       "      <th>Possibly over 1e23 FLOP</th>\n",
       "      <th>Training cost trends 2</th>\n",
       "      <th>Training cost trends 3</th>\n",
       "      <th>Model open/closed</th>\n",
       "      <th>Publication date (float)</th>\n",
       "      <th>top_10_at_release</th>\n",
       "    </tr>\n",
       "  </thead>\n",
       "  <tbody>\n",
       "    <tr>\n",
       "      <th>366</th>\n",
       "      <td>SPIDER2</td>\n",
       "      <td>Biology</td>\n",
       "      <td>Protein folding prediction,Proteins</td>\n",
       "      <td>2016-10-28</td>\n",
       "      <td>some kind of download, unclear license\\n\\nhttp...</td>\n",
       "      <td>Open access (non-commercial)</td>\n",
       "      <td>NaN</td>\n",
       "      <td>NaN</td>\n",
       "      <td>https://link.springer.com/protocol/10.1007/978...</td>\n",
       "      <td>Griffith University,University of Iowa,Dezhou ...</td>\n",
       "      <td>...</td>\n",
       "      <td>NaN</td>\n",
       "      <td>NaN</td>\n",
       "      <td>NaN</td>\n",
       "      <td>Academia,Academia,Academia</td>\n",
       "      <td>NaN</td>\n",
       "      <td>NaN</td>\n",
       "      <td>NaN</td>\n",
       "      <td>Open</td>\n",
       "      <td>2016.823924</td>\n",
       "      <td>True</td>\n",
       "    </tr>\n",
       "    <tr>\n",
       "      <th>372</th>\n",
       "      <td>BIDAF</td>\n",
       "      <td>Language</td>\n",
       "      <td>Question answering</td>\n",
       "      <td>2016-11-05</td>\n",
       "      <td>apache 2.0: https://github.com/allenai/bi-att-...</td>\n",
       "      <td>Open source</td>\n",
       "      <td>Open source</td>\n",
       "      <td>Open source</td>\n",
       "      <td>https://arxiv.org/abs/1611.01603v6</td>\n",
       "      <td>University of Washington,Allen Institute for AI</td>\n",
       "      <td>...</td>\n",
       "      <td>NaN</td>\n",
       "      <td>NaN</td>\n",
       "      <td>480.0</td>\n",
       "      <td>Academia,Research collective</td>\n",
       "      <td>NaN</td>\n",
       "      <td>NaN</td>\n",
       "      <td>NaN</td>\n",
       "      <td>Open</td>\n",
       "      <td>2016.844285</td>\n",
       "      <td>True</td>\n",
       "    </tr>\n",
       "    <tr>\n",
       "      <th>400</th>\n",
       "      <td>AlexNet + coordinating filters</td>\n",
       "      <td>Vision</td>\n",
       "      <td>Image classification</td>\n",
       "      <td>2017-03-28</td>\n",
       "      <td>license: https://github.com/wenwei202/caffe/bl...</td>\n",
       "      <td>Open source</td>\n",
       "      <td>NaN</td>\n",
       "      <td>Open source</td>\n",
       "      <td>https://arxiv.org/abs/1703.09746</td>\n",
       "      <td>University of Pittsburgh,Duke University</td>\n",
       "      <td>...</td>\n",
       "      <td>NaN</td>\n",
       "      <td>NaN</td>\n",
       "      <td>NaN</td>\n",
       "      <td>Academia,Academia</td>\n",
       "      <td>NaN</td>\n",
       "      <td>NaN</td>\n",
       "      <td>NaN</td>\n",
       "      <td>Open</td>\n",
       "      <td>2017.240590</td>\n",
       "      <td>True</td>\n",
       "    </tr>\n",
       "    <tr>\n",
       "      <th>472</th>\n",
       "      <td>ULM-FiT</td>\n",
       "      <td>Language</td>\n",
       "      <td>Text classification</td>\n",
       "      <td>2018-01-18</td>\n",
       "      <td>https://nlp.fast.ai/category/classification.html</td>\n",
       "      <td>Open source</td>\n",
       "      <td>NaN</td>\n",
       "      <td>Open source</td>\n",
       "      <td>https://arxiv.org/abs/1801.06146</td>\n",
       "      <td>University of San Francisco,Insight Centre NUI...</td>\n",
       "      <td>...</td>\n",
       "      <td>NaN</td>\n",
       "      <td>NaN</td>\n",
       "      <td>NaN</td>\n",
       "      <td>Academia,Academia</td>\n",
       "      <td>NaN</td>\n",
       "      <td>NaN</td>\n",
       "      <td>NaN</td>\n",
       "      <td>Open</td>\n",
       "      <td>2018.046544</td>\n",
       "      <td>True</td>\n",
       "    </tr>\n",
       "    <tr>\n",
       "      <th>497</th>\n",
       "      <td>DNCON2</td>\n",
       "      <td>Biology</td>\n",
       "      <td>Proteins,Protein folding prediction</td>\n",
       "      <td>2018-05-01</td>\n",
       "      <td>license: https://github.com/multicom-toolbox/D...</td>\n",
       "      <td>Open source</td>\n",
       "      <td>Open source</td>\n",
       "      <td>Open source</td>\n",
       "      <td>https://academic.oup.com/bioinformatics/articl...</td>\n",
       "      <td>University of Missouri</td>\n",
       "      <td>...</td>\n",
       "      <td>NaN</td>\n",
       "      <td>NaN</td>\n",
       "      <td>NaN</td>\n",
       "      <td>Academia</td>\n",
       "      <td>NaN</td>\n",
       "      <td>NaN</td>\n",
       "      <td>NaN</td>\n",
       "      <td>Open</td>\n",
       "      <td>2018.333333</td>\n",
       "      <td>True</td>\n",
       "    </tr>\n",
       "    <tr>\n",
       "      <th>...</th>\n",
       "      <td>...</td>\n",
       "      <td>...</td>\n",
       "      <td>...</td>\n",
       "      <td>...</td>\n",
       "      <td>...</td>\n",
       "      <td>...</td>\n",
       "      <td>...</td>\n",
       "      <td>...</td>\n",
       "      <td>...</td>\n",
       "      <td>...</td>\n",
       "      <td>...</td>\n",
       "      <td>...</td>\n",
       "      <td>...</td>\n",
       "      <td>...</td>\n",
       "      <td>...</td>\n",
       "      <td>...</td>\n",
       "      <td>...</td>\n",
       "      <td>...</td>\n",
       "      <td>...</td>\n",
       "      <td>...</td>\n",
       "      <td>...</td>\n",
       "    </tr>\n",
       "    <tr>\n",
       "      <th>1457</th>\n",
       "      <td>XVERSE-65B-2</td>\n",
       "      <td>Language</td>\n",
       "      <td>Chat,Language modelling/generation</td>\n",
       "      <td>2023-12-08</td>\n",
       "      <td>Apache 2.0\\n\\nThe use of the source code in th...</td>\n",
       "      <td>Open access (restricted use)</td>\n",
       "      <td>NaN</td>\n",
       "      <td>Open source</td>\n",
       "      <td>https://github.com/xverse-ai/XVERSE-65B/blob/m...</td>\n",
       "      <td>XVERSE Technology,Shenzhen Yuanxiang Technology</td>\n",
       "      <td>...</td>\n",
       "      <td>NaN</td>\n",
       "      <td>NaN</td>\n",
       "      <td>NaN</td>\n",
       "      <td>Industry,Industry</td>\n",
       "      <td>checked</td>\n",
       "      <td>NaN</td>\n",
       "      <td>NaN</td>\n",
       "      <td>Open</td>\n",
       "      <td>2023.935832</td>\n",
       "      <td>True</td>\n",
       "    </tr>\n",
       "    <tr>\n",
       "      <th>1477</th>\n",
       "      <td>DeepSeek LLM 67B</td>\n",
       "      <td>Language</td>\n",
       "      <td>Chat</td>\n",
       "      <td>2024-01-05</td>\n",
       "      <td>https://github.com/deepseek-ai/deepseek-LLM/bl...</td>\n",
       "      <td>Open access (restricted use)</td>\n",
       "      <td>NaN</td>\n",
       "      <td>NaN</td>\n",
       "      <td>https://arxiv.org/abs/2401.02954, https://gith...</td>\n",
       "      <td>DeepSeek</td>\n",
       "      <td>...</td>\n",
       "      <td>NaN</td>\n",
       "      <td>NaN</td>\n",
       "      <td>NaN</td>\n",
       "      <td>Industry</td>\n",
       "      <td>NaN</td>\n",
       "      <td>NaN</td>\n",
       "      <td>NaN</td>\n",
       "      <td>Open</td>\n",
       "      <td>2024.010952</td>\n",
       "      <td>True</td>\n",
       "    </tr>\n",
       "    <tr>\n",
       "      <th>1490</th>\n",
       "      <td>Code Llama-70B</td>\n",
       "      <td>Language</td>\n",
       "      <td>Code generation</td>\n",
       "      <td>2024-01-29</td>\n",
       "      <td>Llama 2 license. can't use outputs to train mo...</td>\n",
       "      <td>Open access (restricted use)</td>\n",
       "      <td>NaN</td>\n",
       "      <td>NaN</td>\n",
       "      <td>https://ai.meta.com/research/publications/code...</td>\n",
       "      <td>Meta AI</td>\n",
       "      <td>...</td>\n",
       "      <td>NaN</td>\n",
       "      <td>NaN</td>\n",
       "      <td>2592000.0</td>\n",
       "      <td>Industry</td>\n",
       "      <td>NaN</td>\n",
       "      <td>NaN</td>\n",
       "      <td>NaN</td>\n",
       "      <td>Open</td>\n",
       "      <td>2024.076661</td>\n",
       "      <td>True</td>\n",
       "    </tr>\n",
       "    <tr>\n",
       "      <th>1518</th>\n",
       "      <td>DBRX</td>\n",
       "      <td>Language</td>\n",
       "      <td>Chat,Code generation</td>\n",
       "      <td>2024-03-27</td>\n",
       "      <td>license: https://www.databricks.com/legal/open...</td>\n",
       "      <td>Open access (restricted use)</td>\n",
       "      <td>Unreleased</td>\n",
       "      <td>Unreleased</td>\n",
       "      <td>https://www.databricks.com/blog/introducing-db...</td>\n",
       "      <td>Databricks</td>\n",
       "      <td>...</td>\n",
       "      <td>NaN</td>\n",
       "      <td>NaN</td>\n",
       "      <td>NaN</td>\n",
       "      <td>Industry</td>\n",
       "      <td>NaN</td>\n",
       "      <td>NaN</td>\n",
       "      <td>NaN</td>\n",
       "      <td>Open</td>\n",
       "      <td>2024.237852</td>\n",
       "      <td>True</td>\n",
       "    </tr>\n",
       "    <tr>\n",
       "      <th>1535</th>\n",
       "      <td>Llama 3-70B</td>\n",
       "      <td>Language</td>\n",
       "      <td>Chat,Language modelling/generation,Code genera...</td>\n",
       "      <td>2024-04-18</td>\n",
       "      <td>https://github.com/meta-llama/llama3/blob/main...</td>\n",
       "      <td>Open access (restricted use)</td>\n",
       "      <td>NaN</td>\n",
       "      <td>Open access (restricted use)</td>\n",
       "      <td>https://ai.meta.com/blog/meta-llama-3/\\n\\nhttp...</td>\n",
       "      <td>Meta AI</td>\n",
       "      <td>...</td>\n",
       "      <td>NaN</td>\n",
       "      <td>NaN</td>\n",
       "      <td>6400000.0</td>\n",
       "      <td>Industry</td>\n",
       "      <td>checked</td>\n",
       "      <td>NaN</td>\n",
       "      <td>NaN</td>\n",
       "      <td>Open</td>\n",
       "      <td>2024.296544</td>\n",
       "      <td>True</td>\n",
       "    </tr>\n",
       "  </tbody>\n",
       "</table>\n",
       "<p>78 rows × 63 columns</p>\n",
       "</div>"
      ],
      "text/plain": [
       "                              System    Domain  \\\n",
       "366                          SPIDER2   Biology   \n",
       "372                            BIDAF  Language   \n",
       "400   AlexNet + coordinating filters    Vision   \n",
       "472                          ULM-FiT  Language   \n",
       "497                           DNCON2   Biology   \n",
       "...                              ...       ...   \n",
       "1457                    XVERSE-65B-2  Language   \n",
       "1477                DeepSeek LLM 67B  Language   \n",
       "1490                  Code Llama-70B  Language   \n",
       "1518                            DBRX  Language   \n",
       "1535                     Llama 3-70B  Language   \n",
       "\n",
       "                                                   Task Publication date  \\\n",
       "366                 Protein folding prediction,Proteins       2016-10-28   \n",
       "372                                  Question answering       2016-11-05   \n",
       "400                                Image classification       2017-03-28   \n",
       "472                                 Text classification       2018-01-18   \n",
       "497                 Proteins,Protein folding prediction       2018-05-01   \n",
       "...                                                 ...              ...   \n",
       "1457                 Chat,Language modelling/generation       2023-12-08   \n",
       "1477                                               Chat       2024-01-05   \n",
       "1490                                    Code generation       2024-01-29   \n",
       "1518                               Chat,Code generation       2024-03-27   \n",
       "1535  Chat,Language modelling/generation,Code genera...       2024-04-18   \n",
       "\n",
       "                                    Accessibility notes  \\\n",
       "366   some kind of download, unclear license\\n\\nhttp...   \n",
       "372   apache 2.0: https://github.com/allenai/bi-att-...   \n",
       "400   license: https://github.com/wenwei202/caffe/bl...   \n",
       "472    https://nlp.fast.ai/category/classification.html   \n",
       "497   license: https://github.com/multicom-toolbox/D...   \n",
       "...                                                 ...   \n",
       "1457  Apache 2.0\\n\\nThe use of the source code in th...   \n",
       "1477  https://github.com/deepseek-ai/deepseek-LLM/bl...   \n",
       "1490  Llama 2 license. can't use outputs to train mo...   \n",
       "1518  license: https://www.databricks.com/legal/open...   \n",
       "1535  https://github.com/meta-llama/llama3/blob/main...   \n",
       "\n",
       "               Model accessibility Dataset accessibility  \\\n",
       "366   Open access (non-commercial)                   NaN   \n",
       "372                    Open source           Open source   \n",
       "400                    Open source                   NaN   \n",
       "472                    Open source                   NaN   \n",
       "497                    Open source           Open source   \n",
       "...                            ...                   ...   \n",
       "1457  Open access (restricted use)                   NaN   \n",
       "1477  Open access (restricted use)                   NaN   \n",
       "1490  Open access (restricted use)                   NaN   \n",
       "1518  Open access (restricted use)            Unreleased   \n",
       "1535  Open access (restricted use)                   NaN   \n",
       "\n",
       "                Code accessibility  \\\n",
       "366                            NaN   \n",
       "372                    Open source   \n",
       "400                    Open source   \n",
       "472                    Open source   \n",
       "497                    Open source   \n",
       "...                            ...   \n",
       "1457                   Open source   \n",
       "1477                           NaN   \n",
       "1490                           NaN   \n",
       "1518                    Unreleased   \n",
       "1535  Open access (restricted use)   \n",
       "\n",
       "                                                   Link  \\\n",
       "366   https://link.springer.com/protocol/10.1007/978...   \n",
       "372                  https://arxiv.org/abs/1611.01603v6   \n",
       "400                    https://arxiv.org/abs/1703.09746   \n",
       "472                    https://arxiv.org/abs/1801.06146   \n",
       "497   https://academic.oup.com/bioinformatics/articl...   \n",
       "...                                                 ...   \n",
       "1457  https://github.com/xverse-ai/XVERSE-65B/blob/m...   \n",
       "1477  https://arxiv.org/abs/2401.02954, https://gith...   \n",
       "1490  https://ai.meta.com/research/publications/code...   \n",
       "1518  https://www.databricks.com/blog/introducing-db...   \n",
       "1535  https://ai.meta.com/blog/meta-llama-3/\\n\\nhttp...   \n",
       "\n",
       "                                           Organization  ...  \\\n",
       "366   Griffith University,University of Iowa,Dezhou ...  ...   \n",
       "372     University of Washington,Allen Institute for AI  ...   \n",
       "400            University of Pittsburgh,Duke University  ...   \n",
       "472   University of San Francisco,Insight Centre NUI...  ...   \n",
       "497                              University of Missouri  ...   \n",
       "...                                                 ...  ...   \n",
       "1457    XVERSE Technology,Shenzhen Yuanxiang Technology  ...   \n",
       "1477                                           DeepSeek  ...   \n",
       "1490                                            Meta AI  ...   \n",
       "1518                                         Databricks  ...   \n",
       "1535                                            Meta AI  ...   \n",
       "\n",
       "      Training compute lower bound Training compute upper bound  \\\n",
       "366                            NaN                          NaN   \n",
       "372                            NaN                          NaN   \n",
       "400                            NaN                          NaN   \n",
       "472                            NaN                          NaN   \n",
       "497                            NaN                          NaN   \n",
       "...                            ...                          ...   \n",
       "1457                           NaN                          NaN   \n",
       "1477                           NaN                          NaN   \n",
       "1490                           NaN                          NaN   \n",
       "1518                           NaN                          NaN   \n",
       "1535                           NaN                          NaN   \n",
       "\n",
       "     Training chip-hours Organization categorization (from Organization)  \\\n",
       "366                  NaN                      Academia,Academia,Academia   \n",
       "372                480.0                    Academia,Research collective   \n",
       "400                  NaN                               Academia,Academia   \n",
       "472                  NaN                               Academia,Academia   \n",
       "497                  NaN                                        Academia   \n",
       "...                  ...                                             ...   \n",
       "1457                 NaN                               Industry,Industry   \n",
       "1477                 NaN                                        Industry   \n",
       "1490           2592000.0                                        Industry   \n",
       "1518                 NaN                                        Industry   \n",
       "1535           6400000.0                                        Industry   \n",
       "\n",
       "     Possibly over 1e23 FLOP Training cost trends 2 Training cost trends 3  \\\n",
       "366                      NaN                    NaN                    NaN   \n",
       "372                      NaN                    NaN                    NaN   \n",
       "400                      NaN                    NaN                    NaN   \n",
       "472                      NaN                    NaN                    NaN   \n",
       "497                      NaN                    NaN                    NaN   \n",
       "...                      ...                    ...                    ...   \n",
       "1457                 checked                    NaN                    NaN   \n",
       "1477                     NaN                    NaN                    NaN   \n",
       "1490                     NaN                    NaN                    NaN   \n",
       "1518                     NaN                    NaN                    NaN   \n",
       "1535                 checked                    NaN                    NaN   \n",
       "\n",
       "     Model open/closed Publication date (float)  top_10_at_release  \n",
       "366               Open              2016.823924               True  \n",
       "372               Open              2016.844285               True  \n",
       "400               Open              2017.240590               True  \n",
       "472               Open              2018.046544               True  \n",
       "497               Open              2018.333333               True  \n",
       "...                ...                      ...                ...  \n",
       "1457              Open              2023.935832               True  \n",
       "1477              Open              2024.010952               True  \n",
       "1490              Open              2024.076661               True  \n",
       "1518              Open              2024.237852               True  \n",
       "1535              Open              2024.296544               True  \n",
       "\n",
       "[78 rows x 63 columns]"
      ]
     },
     "execution_count": 22,
     "metadata": {},
     "output_type": "execute_result"
    }
   ],
   "source": [
    "access_df[(access_df['top_10_at_release'] == True) & (access_df['Model open/closed'] == 'Open')]"
   ]
  },
  {
   "cell_type": "code",
   "execution_count": 23,
   "metadata": {},
   "outputs": [
    {
     "data": {
      "text/html": [
       "<div>\n",
       "<style scoped>\n",
       "    .dataframe tbody tr th:only-of-type {\n",
       "        vertical-align: middle;\n",
       "    }\n",
       "\n",
       "    .dataframe tbody tr th {\n",
       "        vertical-align: top;\n",
       "    }\n",
       "\n",
       "    .dataframe thead th {\n",
       "        text-align: right;\n",
       "    }\n",
       "</style>\n",
       "<table border=\"1\" class=\"dataframe\">\n",
       "  <thead>\n",
       "    <tr style=\"text-align: right;\">\n",
       "      <th></th>\n",
       "      <th>System</th>\n",
       "      <th>Domain</th>\n",
       "      <th>Task</th>\n",
       "      <th>Publication date</th>\n",
       "      <th>Accessibility notes</th>\n",
       "      <th>Model accessibility</th>\n",
       "      <th>Dataset accessibility</th>\n",
       "      <th>Code accessibility</th>\n",
       "      <th>Link</th>\n",
       "      <th>Organization</th>\n",
       "      <th>...</th>\n",
       "      <th>Training compute lower bound</th>\n",
       "      <th>Training compute upper bound</th>\n",
       "      <th>Training chip-hours</th>\n",
       "      <th>Organization categorization (from Organization)</th>\n",
       "      <th>Possibly over 1e23 FLOP</th>\n",
       "      <th>Training cost trends 2</th>\n",
       "      <th>Training cost trends 3</th>\n",
       "      <th>Model open/closed</th>\n",
       "      <th>Publication date (float)</th>\n",
       "      <th>top_10_at_release</th>\n",
       "    </tr>\n",
       "  </thead>\n",
       "  <tbody>\n",
       "    <tr>\n",
       "      <th>97</th>\n",
       "      <td>Credibilty Network</td>\n",
       "      <td>Vision</td>\n",
       "      <td>Character recognition,Image classification</td>\n",
       "      <td>1999-07-01</td>\n",
       "      <td>NaN</td>\n",
       "      <td>Unreleased</td>\n",
       "      <td>NaN</td>\n",
       "      <td>Unreleased</td>\n",
       "      <td>https://proceedings.neurips.cc/paper_files/pap...</td>\n",
       "      <td>University College London (UCL),University of ...</td>\n",
       "      <td>...</td>\n",
       "      <td>NaN</td>\n",
       "      <td>NaN</td>\n",
       "      <td>NaN</td>\n",
       "      <td>Academia,Academia</td>\n",
       "      <td>NaN</td>\n",
       "      <td>NaN</td>\n",
       "      <td>NaN</td>\n",
       "      <td>Closed</td>\n",
       "      <td>1999.500000</td>\n",
       "      <td>True</td>\n",
       "    </tr>\n",
       "    <tr>\n",
       "      <th>209</th>\n",
       "      <td>LBL</td>\n",
       "      <td>Language</td>\n",
       "      <td>NaN</td>\n",
       "      <td>2012-06-27</td>\n",
       "      <td>NaN</td>\n",
       "      <td>Unreleased</td>\n",
       "      <td>NaN</td>\n",
       "      <td>Unreleased</td>\n",
       "      <td>https://arxiv.org/abs/1206.6426</td>\n",
       "      <td>University College London (UCL)</td>\n",
       "      <td>...</td>\n",
       "      <td>NaN</td>\n",
       "      <td>NaN</td>\n",
       "      <td>NaN</td>\n",
       "      <td>Academia</td>\n",
       "      <td>NaN</td>\n",
       "      <td>NaN</td>\n",
       "      <td>NaN</td>\n",
       "      <td>Closed</td>\n",
       "      <td>2012.487852</td>\n",
       "      <td>True</td>\n",
       "    </tr>\n",
       "    <tr>\n",
       "      <th>232</th>\n",
       "      <td>RNN+weight noise+dynamic eval</td>\n",
       "      <td>Language</td>\n",
       "      <td>NaN</td>\n",
       "      <td>2013-08-04</td>\n",
       "      <td>NaN</td>\n",
       "      <td>Unreleased</td>\n",
       "      <td>NaN</td>\n",
       "      <td>Unreleased</td>\n",
       "      <td>https://arxiv.org/abs/1308.0850</td>\n",
       "      <td>University of Toronto</td>\n",
       "      <td>...</td>\n",
       "      <td>NaN</td>\n",
       "      <td>NaN</td>\n",
       "      <td>NaN</td>\n",
       "      <td>Academia</td>\n",
       "      <td>NaN</td>\n",
       "      <td>NaN</td>\n",
       "      <td>NaN</td>\n",
       "      <td>Closed</td>\n",
       "      <td>2013.591547</td>\n",
       "      <td>True</td>\n",
       "    </tr>\n",
       "    <tr>\n",
       "      <th>252</th>\n",
       "      <td>SPN-4+KN5</td>\n",
       "      <td>Language</td>\n",
       "      <td>NaN</td>\n",
       "      <td>2014-01-01</td>\n",
       "      <td>code, no license specified: https://github.com...</td>\n",
       "      <td>Unreleased</td>\n",
       "      <td>NaN</td>\n",
       "      <td>Open access (non-commercial)</td>\n",
       "      <td>https://spn.cs.washington.edu/papers/is14.pdf</td>\n",
       "      <td>Singapore University of Technology &amp; Design,DS...</td>\n",
       "      <td>...</td>\n",
       "      <td>NaN</td>\n",
       "      <td>NaN</td>\n",
       "      <td>NaN</td>\n",
       "      <td>Academia,Government</td>\n",
       "      <td>NaN</td>\n",
       "      <td>NaN</td>\n",
       "      <td>NaN</td>\n",
       "      <td>Closed</td>\n",
       "      <td>2014.000000</td>\n",
       "      <td>True</td>\n",
       "    </tr>\n",
       "    <tr>\n",
       "      <th>272</th>\n",
       "      <td>Large regularized LSTM</td>\n",
       "      <td>Language</td>\n",
       "      <td>NaN</td>\n",
       "      <td>2014-09-08</td>\n",
       "      <td>Apache: https://github.com/wojzaremba/lstm</td>\n",
       "      <td>Unreleased</td>\n",
       "      <td>NaN</td>\n",
       "      <td>Open source</td>\n",
       "      <td>https://arxiv.org/abs/1409.2329</td>\n",
       "      <td>New York University (NYU),Google Brain</td>\n",
       "      <td>...</td>\n",
       "      <td>NaN</td>\n",
       "      <td>NaN</td>\n",
       "      <td>NaN</td>\n",
       "      <td>Academia,Industry</td>\n",
       "      <td>NaN</td>\n",
       "      <td>NaN</td>\n",
       "      <td>NaN</td>\n",
       "      <td>Closed</td>\n",
       "      <td>2014.685832</td>\n",
       "      <td>True</td>\n",
       "    </tr>\n",
       "    <tr>\n",
       "      <th>...</th>\n",
       "      <td>...</td>\n",
       "      <td>...</td>\n",
       "      <td>...</td>\n",
       "      <td>...</td>\n",
       "      <td>...</td>\n",
       "      <td>...</td>\n",
       "      <td>...</td>\n",
       "      <td>...</td>\n",
       "      <td>...</td>\n",
       "      <td>...</td>\n",
       "      <td>...</td>\n",
       "      <td>...</td>\n",
       "      <td>...</td>\n",
       "      <td>...</td>\n",
       "      <td>...</td>\n",
       "      <td>...</td>\n",
       "      <td>...</td>\n",
       "      <td>...</td>\n",
       "      <td>...</td>\n",
       "      <td>...</td>\n",
       "      <td>...</td>\n",
       "    </tr>\n",
       "    <tr>\n",
       "      <th>1439</th>\n",
       "      <td>Inflection-2</td>\n",
       "      <td>Language</td>\n",
       "      <td>Language modelling</td>\n",
       "      <td>2023-11-22</td>\n",
       "      <td>via Pi, no API</td>\n",
       "      <td>Hosted access (no API)</td>\n",
       "      <td>NaN</td>\n",
       "      <td>NaN</td>\n",
       "      <td>https://inflection.ai/inflection-2</td>\n",
       "      <td>Inflection AI</td>\n",
       "      <td>...</td>\n",
       "      <td>NaN</td>\n",
       "      <td>NaN</td>\n",
       "      <td>NaN</td>\n",
       "      <td>Industry</td>\n",
       "      <td>NaN</td>\n",
       "      <td>NaN</td>\n",
       "      <td>NaN</td>\n",
       "      <td>Closed</td>\n",
       "      <td>2023.890829</td>\n",
       "      <td>True</td>\n",
       "    </tr>\n",
       "    <tr>\n",
       "      <th>1453</th>\n",
       "      <td>Gemini 1.0 Ultra</td>\n",
       "      <td>Multimodal,Language,Vision</td>\n",
       "      <td>Language modelling,Visual question answering,C...</td>\n",
       "      <td>2023-12-06</td>\n",
       "      <td>NaN</td>\n",
       "      <td>Hosted access (no API)</td>\n",
       "      <td>NaN</td>\n",
       "      <td>NaN</td>\n",
       "      <td>https://storage.googleapis.com/deepmind-media/...</td>\n",
       "      <td>Google DeepMind</td>\n",
       "      <td>...</td>\n",
       "      <td>NaN</td>\n",
       "      <td>NaN</td>\n",
       "      <td>132000000.0</td>\n",
       "      <td>Industry</td>\n",
       "      <td>NaN</td>\n",
       "      <td>NaN</td>\n",
       "      <td>NaN</td>\n",
       "      <td>Closed</td>\n",
       "      <td>2023.930356</td>\n",
       "      <td>True</td>\n",
       "    </tr>\n",
       "    <tr>\n",
       "      <th>1502</th>\n",
       "      <td>MegaScale (Production)</td>\n",
       "      <td>Language</td>\n",
       "      <td>Language modelling/generation</td>\n",
       "      <td>2024-02-23</td>\n",
       "      <td>Code for MegaScale (also called veScale) train...</td>\n",
       "      <td>Unreleased</td>\n",
       "      <td>NaN</td>\n",
       "      <td>NaN</td>\n",
       "      <td>https://arxiv.org/abs/2402.15627</td>\n",
       "      <td>ByteDance,Peking University</td>\n",
       "      <td>...</td>\n",
       "      <td>NaN</td>\n",
       "      <td>NaN</td>\n",
       "      <td>NaN</td>\n",
       "      <td>Industry,Academia</td>\n",
       "      <td>NaN</td>\n",
       "      <td>NaN</td>\n",
       "      <td>NaN</td>\n",
       "      <td>Closed</td>\n",
       "      <td>2024.143567</td>\n",
       "      <td>True</td>\n",
       "    </tr>\n",
       "    <tr>\n",
       "      <th>1504</th>\n",
       "      <td>Mistral Large</td>\n",
       "      <td>Language</td>\n",
       "      <td>Chat</td>\n",
       "      <td>2024-02-26</td>\n",
       "      <td>NaN</td>\n",
       "      <td>API access</td>\n",
       "      <td>NaN</td>\n",
       "      <td>NaN</td>\n",
       "      <td>https://mistral.ai/news/mistral-large/</td>\n",
       "      <td>Mistral AI</td>\n",
       "      <td>...</td>\n",
       "      <td>NaN</td>\n",
       "      <td>NaN</td>\n",
       "      <td>NaN</td>\n",
       "      <td>Industry</td>\n",
       "      <td>NaN</td>\n",
       "      <td>NaN</td>\n",
       "      <td>NaN</td>\n",
       "      <td>Closed</td>\n",
       "      <td>2024.151781</td>\n",
       "      <td>True</td>\n",
       "    </tr>\n",
       "    <tr>\n",
       "      <th>1516</th>\n",
       "      <td>Inflection-2.5</td>\n",
       "      <td>Language</td>\n",
       "      <td>Chat</td>\n",
       "      <td>2024-03-07</td>\n",
       "      <td>NaN</td>\n",
       "      <td>Hosted access (no API)</td>\n",
       "      <td>NaN</td>\n",
       "      <td>NaN</td>\n",
       "      <td>https://inflection.ai/inflection-2-5</td>\n",
       "      <td>Inflection AI</td>\n",
       "      <td>...</td>\n",
       "      <td>NaN</td>\n",
       "      <td>NaN</td>\n",
       "      <td>NaN</td>\n",
       "      <td>Industry</td>\n",
       "      <td>NaN</td>\n",
       "      <td>NaN</td>\n",
       "      <td>NaN</td>\n",
       "      <td>Closed</td>\n",
       "      <td>2024.183094</td>\n",
       "      <td>True</td>\n",
       "    </tr>\n",
       "  </tbody>\n",
       "</table>\n",
       "<p>87 rows × 63 columns</p>\n",
       "</div>"
      ],
      "text/plain": [
       "                             System                      Domain  \\\n",
       "97               Credibilty Network                      Vision   \n",
       "209                             LBL                    Language   \n",
       "232   RNN+weight noise+dynamic eval                    Language   \n",
       "252                       SPN-4+KN5                    Language   \n",
       "272          Large regularized LSTM                    Language   \n",
       "...                             ...                         ...   \n",
       "1439                   Inflection-2                    Language   \n",
       "1453               Gemini 1.0 Ultra  Multimodal,Language,Vision   \n",
       "1502         MegaScale (Production)                    Language   \n",
       "1504                  Mistral Large                    Language   \n",
       "1516                 Inflection-2.5                    Language   \n",
       "\n",
       "                                                   Task Publication date  \\\n",
       "97           Character recognition,Image classification       1999-07-01   \n",
       "209                                                 NaN       2012-06-27   \n",
       "232                                                 NaN       2013-08-04   \n",
       "252                                                 NaN       2014-01-01   \n",
       "272                                                 NaN       2014-09-08   \n",
       "...                                                 ...              ...   \n",
       "1439                                 Language modelling       2023-11-22   \n",
       "1453  Language modelling,Visual question answering,C...       2023-12-06   \n",
       "1502                      Language modelling/generation       2024-02-23   \n",
       "1504                                               Chat       2024-02-26   \n",
       "1516                                               Chat       2024-03-07   \n",
       "\n",
       "                                    Accessibility notes  \\\n",
       "97                                                  NaN   \n",
       "209                                                 NaN   \n",
       "232                                                 NaN   \n",
       "252   code, no license specified: https://github.com...   \n",
       "272         Apache: https://github.com/wojzaremba/lstm    \n",
       "...                                                 ...   \n",
       "1439                                     via Pi, no API   \n",
       "1453                                                NaN   \n",
       "1502  Code for MegaScale (also called veScale) train...   \n",
       "1504                                                NaN   \n",
       "1516                                                NaN   \n",
       "\n",
       "         Model accessibility Dataset accessibility  \\\n",
       "97                Unreleased                   NaN   \n",
       "209               Unreleased                   NaN   \n",
       "232               Unreleased                   NaN   \n",
       "252               Unreleased                   NaN   \n",
       "272               Unreleased                   NaN   \n",
       "...                      ...                   ...   \n",
       "1439  Hosted access (no API)                   NaN   \n",
       "1453  Hosted access (no API)                   NaN   \n",
       "1502              Unreleased                   NaN   \n",
       "1504              API access                   NaN   \n",
       "1516  Hosted access (no API)                   NaN   \n",
       "\n",
       "                Code accessibility  \\\n",
       "97                      Unreleased   \n",
       "209                     Unreleased   \n",
       "232                     Unreleased   \n",
       "252   Open access (non-commercial)   \n",
       "272                    Open source   \n",
       "...                            ...   \n",
       "1439                           NaN   \n",
       "1453                           NaN   \n",
       "1502                           NaN   \n",
       "1504                           NaN   \n",
       "1516                           NaN   \n",
       "\n",
       "                                                   Link  \\\n",
       "97    https://proceedings.neurips.cc/paper_files/pap...   \n",
       "209                     https://arxiv.org/abs/1206.6426   \n",
       "232                     https://arxiv.org/abs/1308.0850   \n",
       "252       https://spn.cs.washington.edu/papers/is14.pdf   \n",
       "272                     https://arxiv.org/abs/1409.2329   \n",
       "...                                                 ...   \n",
       "1439                 https://inflection.ai/inflection-2   \n",
       "1453  https://storage.googleapis.com/deepmind-media/...   \n",
       "1502                   https://arxiv.org/abs/2402.15627   \n",
       "1504             https://mistral.ai/news/mistral-large/   \n",
       "1516               https://inflection.ai/inflection-2-5   \n",
       "\n",
       "                                           Organization  ...  \\\n",
       "97    University College London (UCL),University of ...  ...   \n",
       "209                     University College London (UCL)  ...   \n",
       "232                               University of Toronto  ...   \n",
       "252   Singapore University of Technology & Design,DS...  ...   \n",
       "272              New York University (NYU),Google Brain  ...   \n",
       "...                                                 ...  ...   \n",
       "1439                                      Inflection AI  ...   \n",
       "1453                                    Google DeepMind  ...   \n",
       "1502                        ByteDance,Peking University  ...   \n",
       "1504                                         Mistral AI  ...   \n",
       "1516                                      Inflection AI  ...   \n",
       "\n",
       "      Training compute lower bound Training compute upper bound  \\\n",
       "97                             NaN                          NaN   \n",
       "209                            NaN                          NaN   \n",
       "232                            NaN                          NaN   \n",
       "252                            NaN                          NaN   \n",
       "272                            NaN                          NaN   \n",
       "...                            ...                          ...   \n",
       "1439                           NaN                          NaN   \n",
       "1453                           NaN                          NaN   \n",
       "1502                           NaN                          NaN   \n",
       "1504                           NaN                          NaN   \n",
       "1516                           NaN                          NaN   \n",
       "\n",
       "     Training chip-hours Organization categorization (from Organization)  \\\n",
       "97                   NaN                               Academia,Academia   \n",
       "209                  NaN                                        Academia   \n",
       "232                  NaN                                        Academia   \n",
       "252                  NaN                             Academia,Government   \n",
       "272                  NaN                               Academia,Industry   \n",
       "...                  ...                                             ...   \n",
       "1439                 NaN                                        Industry   \n",
       "1453         132000000.0                                        Industry   \n",
       "1502                 NaN                               Industry,Academia   \n",
       "1504                 NaN                                        Industry   \n",
       "1516                 NaN                                        Industry   \n",
       "\n",
       "     Possibly over 1e23 FLOP Training cost trends 2 Training cost trends 3  \\\n",
       "97                       NaN                    NaN                    NaN   \n",
       "209                      NaN                    NaN                    NaN   \n",
       "232                      NaN                    NaN                    NaN   \n",
       "252                      NaN                    NaN                    NaN   \n",
       "272                      NaN                    NaN                    NaN   \n",
       "...                      ...                    ...                    ...   \n",
       "1439                     NaN                    NaN                    NaN   \n",
       "1453                     NaN                    NaN                    NaN   \n",
       "1502                     NaN                    NaN                    NaN   \n",
       "1504                     NaN                    NaN                    NaN   \n",
       "1516                     NaN                    NaN                    NaN   \n",
       "\n",
       "     Model open/closed Publication date (float)  top_10_at_release  \n",
       "97              Closed              1999.500000               True  \n",
       "209             Closed              2012.487852               True  \n",
       "232             Closed              2013.591547               True  \n",
       "252             Closed              2014.000000               True  \n",
       "272             Closed              2014.685832               True  \n",
       "...                ...                      ...                ...  \n",
       "1439            Closed              2023.890829               True  \n",
       "1453            Closed              2023.930356               True  \n",
       "1502            Closed              2024.143567               True  \n",
       "1504            Closed              2024.151781               True  \n",
       "1516            Closed              2024.183094               True  \n",
       "\n",
       "[87 rows x 63 columns]"
      ]
     },
     "execution_count": 23,
     "metadata": {},
     "output_type": "execute_result"
    }
   ],
   "source": [
    "access_df[(access_df['top_10_at_release'] == True) & (access_df['Model open/closed'] == 'Closed')]"
   ]
  },
  {
   "cell_type": "markdown",
   "metadata": {},
   "source": [
    "# Best fit"
   ]
  },
  {
   "cell_type": "code",
   "execution_count": 24,
   "metadata": {},
   "outputs": [
    {
     "data": {
      "text/html": [
       "<div>\n",
       "<style scoped>\n",
       "    .dataframe tbody tr th:only-of-type {\n",
       "        vertical-align: middle;\n",
       "    }\n",
       "\n",
       "    .dataframe tbody tr th {\n",
       "        vertical-align: top;\n",
       "    }\n",
       "\n",
       "    .dataframe thead th {\n",
       "        text-align: right;\n",
       "    }\n",
       "</style>\n",
       "<table border=\"1\" class=\"dataframe\">\n",
       "  <thead>\n",
       "    <tr style=\"text-align: right;\">\n",
       "      <th></th>\n",
       "      <th>System</th>\n",
       "      <th>Domain</th>\n",
       "      <th>Task</th>\n",
       "      <th>Publication date</th>\n",
       "      <th>Accessibility notes</th>\n",
       "      <th>Model accessibility</th>\n",
       "      <th>Dataset accessibility</th>\n",
       "      <th>Code accessibility</th>\n",
       "      <th>Link</th>\n",
       "      <th>Organization</th>\n",
       "      <th>...</th>\n",
       "      <th>Training compute lower bound</th>\n",
       "      <th>Training compute upper bound</th>\n",
       "      <th>Training chip-hours</th>\n",
       "      <th>Organization categorization (from Organization)</th>\n",
       "      <th>Possibly over 1e23 FLOP</th>\n",
       "      <th>Training cost trends 2</th>\n",
       "      <th>Training cost trends 3</th>\n",
       "      <th>Model open/closed</th>\n",
       "      <th>Publication date (float)</th>\n",
       "      <th>top_10_at_release</th>\n",
       "    </tr>\n",
       "  </thead>\n",
       "  <tbody>\n",
       "    <tr>\n",
       "      <th>97</th>\n",
       "      <td>Credibilty Network</td>\n",
       "      <td>Vision</td>\n",
       "      <td>Character recognition,Image classification</td>\n",
       "      <td>1999-07-01</td>\n",
       "      <td>NaN</td>\n",
       "      <td>Unreleased</td>\n",
       "      <td>NaN</td>\n",
       "      <td>Unreleased</td>\n",
       "      <td>https://proceedings.neurips.cc/paper_files/pap...</td>\n",
       "      <td>University College London (UCL),University of ...</td>\n",
       "      <td>...</td>\n",
       "      <td>NaN</td>\n",
       "      <td>NaN</td>\n",
       "      <td>NaN</td>\n",
       "      <td>Academia,Academia</td>\n",
       "      <td>NaN</td>\n",
       "      <td>NaN</td>\n",
       "      <td>NaN</td>\n",
       "      <td>Closed</td>\n",
       "      <td>1999.500000</td>\n",
       "      <td>True</td>\n",
       "    </tr>\n",
       "    <tr>\n",
       "      <th>209</th>\n",
       "      <td>LBL</td>\n",
       "      <td>Language</td>\n",
       "      <td>NaN</td>\n",
       "      <td>2012-06-27</td>\n",
       "      <td>NaN</td>\n",
       "      <td>Unreleased</td>\n",
       "      <td>NaN</td>\n",
       "      <td>Unreleased</td>\n",
       "      <td>https://arxiv.org/abs/1206.6426</td>\n",
       "      <td>University College London (UCL)</td>\n",
       "      <td>...</td>\n",
       "      <td>NaN</td>\n",
       "      <td>NaN</td>\n",
       "      <td>NaN</td>\n",
       "      <td>Academia</td>\n",
       "      <td>NaN</td>\n",
       "      <td>NaN</td>\n",
       "      <td>NaN</td>\n",
       "      <td>Closed</td>\n",
       "      <td>2012.487852</td>\n",
       "      <td>True</td>\n",
       "    </tr>\n",
       "    <tr>\n",
       "      <th>232</th>\n",
       "      <td>RNN+weight noise+dynamic eval</td>\n",
       "      <td>Language</td>\n",
       "      <td>NaN</td>\n",
       "      <td>2013-08-04</td>\n",
       "      <td>NaN</td>\n",
       "      <td>Unreleased</td>\n",
       "      <td>NaN</td>\n",
       "      <td>Unreleased</td>\n",
       "      <td>https://arxiv.org/abs/1308.0850</td>\n",
       "      <td>University of Toronto</td>\n",
       "      <td>...</td>\n",
       "      <td>NaN</td>\n",
       "      <td>NaN</td>\n",
       "      <td>NaN</td>\n",
       "      <td>Academia</td>\n",
       "      <td>NaN</td>\n",
       "      <td>NaN</td>\n",
       "      <td>NaN</td>\n",
       "      <td>Closed</td>\n",
       "      <td>2013.591547</td>\n",
       "      <td>True</td>\n",
       "    </tr>\n",
       "    <tr>\n",
       "      <th>252</th>\n",
       "      <td>SPN-4+KN5</td>\n",
       "      <td>Language</td>\n",
       "      <td>NaN</td>\n",
       "      <td>2014-01-01</td>\n",
       "      <td>code, no license specified: https://github.com...</td>\n",
       "      <td>Unreleased</td>\n",
       "      <td>NaN</td>\n",
       "      <td>Open access (non-commercial)</td>\n",
       "      <td>https://spn.cs.washington.edu/papers/is14.pdf</td>\n",
       "      <td>Singapore University of Technology &amp; Design,DS...</td>\n",
       "      <td>...</td>\n",
       "      <td>NaN</td>\n",
       "      <td>NaN</td>\n",
       "      <td>NaN</td>\n",
       "      <td>Academia,Government</td>\n",
       "      <td>NaN</td>\n",
       "      <td>NaN</td>\n",
       "      <td>NaN</td>\n",
       "      <td>Closed</td>\n",
       "      <td>2014.000000</td>\n",
       "      <td>True</td>\n",
       "    </tr>\n",
       "    <tr>\n",
       "      <th>272</th>\n",
       "      <td>Large regularized LSTM</td>\n",
       "      <td>Language</td>\n",
       "      <td>NaN</td>\n",
       "      <td>2014-09-08</td>\n",
       "      <td>Apache: https://github.com/wojzaremba/lstm</td>\n",
       "      <td>Unreleased</td>\n",
       "      <td>NaN</td>\n",
       "      <td>Open source</td>\n",
       "      <td>https://arxiv.org/abs/1409.2329</td>\n",
       "      <td>New York University (NYU),Google Brain</td>\n",
       "      <td>...</td>\n",
       "      <td>NaN</td>\n",
       "      <td>NaN</td>\n",
       "      <td>NaN</td>\n",
       "      <td>Academia,Industry</td>\n",
       "      <td>NaN</td>\n",
       "      <td>NaN</td>\n",
       "      <td>NaN</td>\n",
       "      <td>Closed</td>\n",
       "      <td>2014.685832</td>\n",
       "      <td>True</td>\n",
       "    </tr>\n",
       "    <tr>\n",
       "      <th>...</th>\n",
       "      <td>...</td>\n",
       "      <td>...</td>\n",
       "      <td>...</td>\n",
       "      <td>...</td>\n",
       "      <td>...</td>\n",
       "      <td>...</td>\n",
       "      <td>...</td>\n",
       "      <td>...</td>\n",
       "      <td>...</td>\n",
       "      <td>...</td>\n",
       "      <td>...</td>\n",
       "      <td>...</td>\n",
       "      <td>...</td>\n",
       "      <td>...</td>\n",
       "      <td>...</td>\n",
       "      <td>...</td>\n",
       "      <td>...</td>\n",
       "      <td>...</td>\n",
       "      <td>...</td>\n",
       "      <td>...</td>\n",
       "      <td>...</td>\n",
       "    </tr>\n",
       "    <tr>\n",
       "      <th>1539</th>\n",
       "      <td>phi-3-medium 14B</td>\n",
       "      <td>Language</td>\n",
       "      <td>Chat,Language modelling/generation</td>\n",
       "      <td>2024-04-23</td>\n",
       "      <td>announced to be released later</td>\n",
       "      <td>Unreleased</td>\n",
       "      <td>NaN</td>\n",
       "      <td>NaN</td>\n",
       "      <td>https://arxiv.org/abs/2404.14219</td>\n",
       "      <td>Microsoft</td>\n",
       "      <td>...</td>\n",
       "      <td>NaN</td>\n",
       "      <td>NaN</td>\n",
       "      <td>NaN</td>\n",
       "      <td>Industry</td>\n",
       "      <td>checked</td>\n",
       "      <td>NaN</td>\n",
       "      <td>NaN</td>\n",
       "      <td>Closed</td>\n",
       "      <td>2024.310234</td>\n",
       "      <td>False</td>\n",
       "    </tr>\n",
       "    <tr>\n",
       "      <th>1542</th>\n",
       "      <td>Fugaku-LLM</td>\n",
       "      <td>Language</td>\n",
       "      <td>Language modelling,Translation,Japanese langua...</td>\n",
       "      <td>2024-05-10</td>\n",
       "      <td>NaN</td>\n",
       "      <td>Open source</td>\n",
       "      <td>NaN</td>\n",
       "      <td>NaN</td>\n",
       "      <td>https://www.fujitsu.com/global/about/resources...</td>\n",
       "      <td>Tohoku University,CyberAgent,Tokyo Institute o...</td>\n",
       "      <td>...</td>\n",
       "      <td>NaN</td>\n",
       "      <td>NaN</td>\n",
       "      <td>NaN</td>\n",
       "      <td>Academia,Industry,Academia,Industry,Academia,I...</td>\n",
       "      <td>NaN</td>\n",
       "      <td>NaN</td>\n",
       "      <td>NaN</td>\n",
       "      <td>Open</td>\n",
       "      <td>2024.357975</td>\n",
       "      <td>False</td>\n",
       "    </tr>\n",
       "    <tr>\n",
       "      <th>1544</th>\n",
       "      <td>Yi-Large</td>\n",
       "      <td>Language</td>\n",
       "      <td>Chat,Language modelling/generation</td>\n",
       "      <td>2024-05-13</td>\n",
       "      <td>NaN</td>\n",
       "      <td>API access</td>\n",
       "      <td>NaN</td>\n",
       "      <td>NaN</td>\n",
       "      <td>NaN</td>\n",
       "      <td>01.AI</td>\n",
       "      <td>...</td>\n",
       "      <td>NaN</td>\n",
       "      <td>NaN</td>\n",
       "      <td>NaN</td>\n",
       "      <td>Industry</td>\n",
       "      <td>checked</td>\n",
       "      <td>NaN</td>\n",
       "      <td>NaN</td>\n",
       "      <td>Closed</td>\n",
       "      <td>2024.366188</td>\n",
       "      <td>False</td>\n",
       "    </tr>\n",
       "    <tr>\n",
       "      <th>1546</th>\n",
       "      <td>Chameleon-34B</td>\n",
       "      <td>Multimodal,Image generation,Language,Vision</td>\n",
       "      <td>Language modelling/generation,Vision-language ...</td>\n",
       "      <td>2024-05-16</td>\n",
       "      <td>NaN</td>\n",
       "      <td>Unreleased</td>\n",
       "      <td>NaN</td>\n",
       "      <td>NaN</td>\n",
       "      <td>https://arxiv.org/abs/2405.09818v1</td>\n",
       "      <td>Facebook AI Research</td>\n",
       "      <td>...</td>\n",
       "      <td>NaN</td>\n",
       "      <td>NaN</td>\n",
       "      <td>NaN</td>\n",
       "      <td>Industry</td>\n",
       "      <td>NaN</td>\n",
       "      <td>NaN</td>\n",
       "      <td>NaN</td>\n",
       "      <td>Closed</td>\n",
       "      <td>2024.374402</td>\n",
       "      <td>False</td>\n",
       "    </tr>\n",
       "    <tr>\n",
       "      <th>1547</th>\n",
       "      <td>Chameleon-7B</td>\n",
       "      <td>Multimodal,Image generation,Vision,Language</td>\n",
       "      <td>Language modelling/generation,Vision-language ...</td>\n",
       "      <td>2024-05-16</td>\n",
       "      <td>NaN</td>\n",
       "      <td>Unreleased</td>\n",
       "      <td>NaN</td>\n",
       "      <td>NaN</td>\n",
       "      <td>https://arxiv.org/abs/2405.09818v1</td>\n",
       "      <td>Facebook AI Research</td>\n",
       "      <td>...</td>\n",
       "      <td>NaN</td>\n",
       "      <td>NaN</td>\n",
       "      <td>NaN</td>\n",
       "      <td>Industry</td>\n",
       "      <td>NaN</td>\n",
       "      <td>NaN</td>\n",
       "      <td>NaN</td>\n",
       "      <td>Closed</td>\n",
       "      <td>2024.374402</td>\n",
       "      <td>False</td>\n",
       "    </tr>\n",
       "  </tbody>\n",
       "</table>\n",
       "<p>504 rows × 63 columns</p>\n",
       "</div>"
      ],
      "text/plain": [
       "                             System  \\\n",
       "97               Credibilty Network   \n",
       "209                             LBL   \n",
       "232   RNN+weight noise+dynamic eval   \n",
       "252                       SPN-4+KN5   \n",
       "272          Large regularized LSTM   \n",
       "...                             ...   \n",
       "1539               phi-3-medium 14B   \n",
       "1542                     Fugaku-LLM   \n",
       "1544                       Yi-Large   \n",
       "1546                  Chameleon-34B   \n",
       "1547                   Chameleon-7B   \n",
       "\n",
       "                                           Domain  \\\n",
       "97                                         Vision   \n",
       "209                                      Language   \n",
       "232                                      Language   \n",
       "252                                      Language   \n",
       "272                                      Language   \n",
       "...                                           ...   \n",
       "1539                                     Language   \n",
       "1542                                     Language   \n",
       "1544                                     Language   \n",
       "1546  Multimodal,Image generation,Language,Vision   \n",
       "1547  Multimodal,Image generation,Vision,Language   \n",
       "\n",
       "                                                   Task Publication date  \\\n",
       "97           Character recognition,Image classification       1999-07-01   \n",
       "209                                                 NaN       2012-06-27   \n",
       "232                                                 NaN       2013-08-04   \n",
       "252                                                 NaN       2014-01-01   \n",
       "272                                                 NaN       2014-09-08   \n",
       "...                                                 ...              ...   \n",
       "1539                 Chat,Language modelling/generation       2024-04-23   \n",
       "1542  Language modelling,Translation,Japanese langua...       2024-05-10   \n",
       "1544                 Chat,Language modelling/generation       2024-05-13   \n",
       "1546  Language modelling/generation,Vision-language ...       2024-05-16   \n",
       "1547  Language modelling/generation,Vision-language ...       2024-05-16   \n",
       "\n",
       "                                    Accessibility notes Model accessibility  \\\n",
       "97                                                  NaN          Unreleased   \n",
       "209                                                 NaN          Unreleased   \n",
       "232                                                 NaN          Unreleased   \n",
       "252   code, no license specified: https://github.com...          Unreleased   \n",
       "272         Apache: https://github.com/wojzaremba/lstm           Unreleased   \n",
       "...                                                 ...                 ...   \n",
       "1539                     announced to be released later          Unreleased   \n",
       "1542                                                NaN         Open source   \n",
       "1544                                                NaN          API access   \n",
       "1546                                                NaN          Unreleased   \n",
       "1547                                                NaN          Unreleased   \n",
       "\n",
       "     Dataset accessibility            Code accessibility  \\\n",
       "97                     NaN                    Unreleased   \n",
       "209                    NaN                    Unreleased   \n",
       "232                    NaN                    Unreleased   \n",
       "252                    NaN  Open access (non-commercial)   \n",
       "272                    NaN                   Open source   \n",
       "...                    ...                           ...   \n",
       "1539                   NaN                           NaN   \n",
       "1542                   NaN                           NaN   \n",
       "1544                   NaN                           NaN   \n",
       "1546                   NaN                           NaN   \n",
       "1547                   NaN                           NaN   \n",
       "\n",
       "                                                   Link  \\\n",
       "97    https://proceedings.neurips.cc/paper_files/pap...   \n",
       "209                     https://arxiv.org/abs/1206.6426   \n",
       "232                     https://arxiv.org/abs/1308.0850   \n",
       "252       https://spn.cs.washington.edu/papers/is14.pdf   \n",
       "272                     https://arxiv.org/abs/1409.2329   \n",
       "...                                                 ...   \n",
       "1539                   https://arxiv.org/abs/2404.14219   \n",
       "1542  https://www.fujitsu.com/global/about/resources...   \n",
       "1544                                                NaN   \n",
       "1546                 https://arxiv.org/abs/2405.09818v1   \n",
       "1547                 https://arxiv.org/abs/2405.09818v1   \n",
       "\n",
       "                                           Organization  ...  \\\n",
       "97    University College London (UCL),University of ...  ...   \n",
       "209                     University College London (UCL)  ...   \n",
       "232                               University of Toronto  ...   \n",
       "252   Singapore University of Technology & Design,DS...  ...   \n",
       "272              New York University (NYU),Google Brain  ...   \n",
       "...                                                 ...  ...   \n",
       "1539                                          Microsoft  ...   \n",
       "1542  Tohoku University,CyberAgent,Tokyo Institute o...  ...   \n",
       "1544                                              01.AI  ...   \n",
       "1546                               Facebook AI Research  ...   \n",
       "1547                               Facebook AI Research  ...   \n",
       "\n",
       "      Training compute lower bound Training compute upper bound  \\\n",
       "97                             NaN                          NaN   \n",
       "209                            NaN                          NaN   \n",
       "232                            NaN                          NaN   \n",
       "252                            NaN                          NaN   \n",
       "272                            NaN                          NaN   \n",
       "...                            ...                          ...   \n",
       "1539                           NaN                          NaN   \n",
       "1542                           NaN                          NaN   \n",
       "1544                           NaN                          NaN   \n",
       "1546                           NaN                          NaN   \n",
       "1547                           NaN                          NaN   \n",
       "\n",
       "     Training chip-hours    Organization categorization (from Organization)  \\\n",
       "97                   NaN                                  Academia,Academia   \n",
       "209                  NaN                                           Academia   \n",
       "232                  NaN                                           Academia   \n",
       "252                  NaN                                Academia,Government   \n",
       "272                  NaN                                  Academia,Industry   \n",
       "...                  ...                                                ...   \n",
       "1539                 NaN                                           Industry   \n",
       "1542                 NaN  Academia,Industry,Academia,Industry,Academia,I...   \n",
       "1544                 NaN                                           Industry   \n",
       "1546                 NaN                                           Industry   \n",
       "1547                 NaN                                           Industry   \n",
       "\n",
       "     Possibly over 1e23 FLOP Training cost trends 2 Training cost trends 3  \\\n",
       "97                       NaN                    NaN                    NaN   \n",
       "209                      NaN                    NaN                    NaN   \n",
       "232                      NaN                    NaN                    NaN   \n",
       "252                      NaN                    NaN                    NaN   \n",
       "272                      NaN                    NaN                    NaN   \n",
       "...                      ...                    ...                    ...   \n",
       "1539                 checked                    NaN                    NaN   \n",
       "1542                     NaN                    NaN                    NaN   \n",
       "1544                 checked                    NaN                    NaN   \n",
       "1546                     NaN                    NaN                    NaN   \n",
       "1547                     NaN                    NaN                    NaN   \n",
       "\n",
       "     Model open/closed Publication date (float)  top_10_at_release  \n",
       "97              Closed              1999.500000               True  \n",
       "209             Closed              2012.487852               True  \n",
       "232             Closed              2013.591547               True  \n",
       "252             Closed              2014.000000               True  \n",
       "272             Closed              2014.685832               True  \n",
       "...                ...                      ...                ...  \n",
       "1539            Closed              2024.310234              False  \n",
       "1542              Open              2024.357975              False  \n",
       "1544            Closed              2024.366188              False  \n",
       "1546            Closed              2024.374402              False  \n",
       "1547            Closed              2024.374402              False  \n",
       "\n",
       "[504 rows x 63 columns]"
      ]
     },
     "execution_count": 24,
     "metadata": {},
     "output_type": "execute_result"
    }
   ],
   "source": [
    "access_df"
   ]
  },
  {
   "cell_type": "code",
   "execution_count": 90,
   "metadata": {},
   "outputs": [],
   "source": [
    "model_accessibility = 'Closed'\n",
    "df = access_df[access_df['Model open/closed'] == model_accessibility]"
   ]
  },
  {
   "cell_type": "code",
   "execution_count": 91,
   "metadata": {},
   "outputs": [
    {
     "name": "stdout",
     "output_type": "stream",
     "text": [
      "65 top Notable models models found\n",
      "They span February 2018 to March 2024\n"
     ]
    }
   ],
   "source": [
    "#@title Analysis of the compute growth\n",
    "#@markdown Select the subset of the database to analyze. Either notable models, frontier models, OpenAI or Google Deepmind\n",
    "\n",
    "filter_alphago_outliers = True #@param {type:\"boolean\"}\n",
    "frontier_selection = 'external' #@param ['disabled', 'internal', 'external']\n",
    "top_n = 10 #@param\n",
    "model_selection = 'Notable models' #@param ['Google DeepMind models', 'OpenAI models', 'Meta AI models', 'Notable models', 'Language models']\n",
    "\n",
    "cutoff_date = '2018-01-01' # '2017-06-01' # #@param\n",
    "\n",
    "\n",
    "def find_top_models_up_to_release(df, top_n):\n",
    "    \"\"\"Find the models which were in the top n by compute when they were released.\"\"\"\n",
    "\n",
    "    # This set will keep track of models that were ever in the top 10 at their release\n",
    "    ever_in_top_n = set()\n",
    "\n",
    "    # Iterate over each date in the DataFrame\n",
    "    for current_date in df['date'].unique():\n",
    "        # Get all entries up to the current date\n",
    "        historical_data = df[df['date'] <= current_date]\n",
    "        # Find top 10 models by flop count in this subset\n",
    "        top_n_models = historical_data.nlargest(top_n, 'flop')['System']\n",
    "        # Update the set of models that were ever in top n\n",
    "        ever_in_top_n.update(top_n_models)\n",
    "\n",
    "    # Return DataFrame filtered to only include models that were ever in the top 10\n",
    "    return df[df['System'].isin(ever_in_top_n)]\n",
    "\n",
    "# Filter out NaNs and sort by date\n",
    "df_filtered = (df[['System', 'Training compute (FLOP)', 'Publication date', 'Organization', 'Notability criteria', 'Domain']]\n",
    "    .rename(columns={'Training compute (FLOP)': 'flop', 'Publication date': 'date'})\n",
    "    .dropna(subset=['date', 'flop'])\n",
    "    .assign(date=lambda x: pd.to_datetime(x['date']), log_flop=lambda x: np.log10(x['flop']))\n",
    "    .sort_values('date'))\n",
    "\n",
    "df_notable = df_filtered.copy() # Store a copy for Top N sensitivity analysis\n",
    "\n",
    "# Drop Alpha Go Master / Zero\n",
    "if filter_alphago_outliers:\n",
    "    mask = (df_filtered[\"System\"] == 'AlphaGo Master') | (df_filtered[\"System\"] == 'AlphaGo Zero')\n",
    "    df_filtered = df_filtered[~mask]\n",
    "\n",
    "# Filter top models\n",
    "if frontier_selection == 'external':\n",
    "    df_filtered = find_top_models_up_to_release(df_filtered, top_n)\n",
    "\n",
    "# Filter models depending on analysis\n",
    "if model_selection == 'Google DeepMind models':\n",
    "    re = 'DeepMind|Google'\n",
    "    mask = df_filtered['Organization'].str.contains(re, na=False)\n",
    "    df_filtered = df_filtered[mask]\n",
    "elif model_selection == 'OpenAI models':\n",
    "    re = 'OpenAI'\n",
    "    mask = df_filtered['Organization'].str.contains(re, na=False)\n",
    "    df_filtered = df_filtered[mask]\n",
    "    # Exclude ADAM (retroactively attributed to OpenAI but published before its foundation)\n",
    "    df_filtered = df_filtered[df_filtered['System'] != 'ADAM (CIFAR-10)']\n",
    "elif model_selection == 'Meta AI models':\n",
    "    re = 'Meta AI|Facebook|FAIR'\n",
    "    mask = df_filtered['Organization'].str.contains(re, na=False)\n",
    "    df_filtered = df_filtered[mask]\n",
    "elif model_selection == 'Language models':\n",
    "    re = 'Language|Multimodal'\n",
    "    mask = df_filtered['Domain'].str.contains(re, na=False)\n",
    "    df_filtered = df_filtered[mask]\n",
    "\n",
    "# Filter top models\n",
    "if frontier_selection == 'internal':\n",
    "    df_filtered = find_top_models_up_to_release(df_filtered, top_n)\n",
    "\n",
    "# Filter for models after the cutoff date\n",
    "df_filtered = df_filtered[df_filtered['date'] > cutoff_date]\n",
    "\n",
    "print(f\"{len(df_filtered)}{' top' if frontier_selection != 'disabled' else ''} {model_selection} models found\")\n",
    "print(f\"They span {df_filtered['date'].min().strftime('%B %Y')} to {df_filtered['date'].max().strftime('%B %Y')}\")"
   ]
  },
  {
   "cell_type": "code",
   "execution_count": 92,
   "metadata": {},
   "outputs": [
    {
     "name": "stderr",
     "output_type": "stream",
     "text": [
      "100%|██████████| 1000/1000 [02:32<00:00,  6.56it/s]"
     ]
    },
    {
     "name": "stdout",
     "output_type": "stream",
     "text": [
      "Results\n"
     ]
    },
    {
     "name": "stderr",
     "output_type": "stream",
     "text": [
      "\n"
     ]
    },
    {
     "data": {
      "text/html": [
       "<div>\n",
       "<style scoped>\n",
       "    .dataframe tbody tr th:only-of-type {\n",
       "        vertical-align: middle;\n",
       "    }\n",
       "\n",
       "    .dataframe tbody tr th {\n",
       "        vertical-align: top;\n",
       "    }\n",
       "\n",
       "    .dataframe thead th {\n",
       "        text-align: right;\n",
       "    }\n",
       "</style>\n",
       "<table border=\"1\" class=\"dataframe\">\n",
       "  <thead>\n",
       "    <tr style=\"text-align: right;\">\n",
       "      <th></th>\n",
       "      <th>Model</th>\n",
       "      <th>BIC</th>\n",
       "      <th>BIC 90% CI</th>\n",
       "      <th>BIC score diff</th>\n",
       "      <th>BIC score diff 90% CI</th>\n",
       "      <th>Xi²</th>\n",
       "      <th>% times preferred over simple</th>\n",
       "      <th>K-fold mean MSE</th>\n",
       "      <th>K-fold mean MSE 90% CI</th>\n",
       "      <th>Recent slope (Nx/year)</th>\n",
       "      <th>Recent slope 90% CI</th>\n",
       "      <th>Break point</th>\n",
       "      <th>Break point 90% CI</th>\n",
       "    </tr>\n",
       "  </thead>\n",
       "  <tbody>\n",
       "    <tr>\n",
       "      <th>0</th>\n",
       "      <td>Simple</td>\n",
       "      <td>196.42</td>\n",
       "      <td>[174.28, 209.5]</td>\n",
       "      <td>0.00</td>\n",
       "      <td>[0.0, 0.0]</td>\n",
       "      <td>NaN</td>\n",
       "      <td>0%</td>\n",
       "      <td>1.05</td>\n",
       "      <td>[0.75, 1.28]</td>\n",
       "      <td>15.75</td>\n",
       "      <td>[11.86, 20.77]</td>\n",
       "      <td>NaN</td>\n",
       "      <td>NaN</td>\n",
       "    </tr>\n",
       "    <tr>\n",
       "      <th>1</th>\n",
       "      <td>Discrete acceleration</td>\n",
       "      <td>154.81</td>\n",
       "      <td>[128.0, 170.33]</td>\n",
       "      <td>-41.61</td>\n",
       "      <td>[-59.53, -28.24]</td>\n",
       "      <td>1.049142e-11</td>\n",
       "      <td>100%</td>\n",
       "      <td>0.79</td>\n",
       "      <td>[0.54, 0.99]</td>\n",
       "      <td>6.26</td>\n",
       "      <td>[4.32, 8.47]</td>\n",
       "      <td>2020-06</td>\n",
       "      <td>[2020-02, 2021-01]</td>\n",
       "    </tr>\n",
       "    <tr>\n",
       "      <th>2</th>\n",
       "      <td>Discontinuity</td>\n",
       "      <td>157.41</td>\n",
       "      <td>[124.26, 168.73]</td>\n",
       "      <td>-39.02</td>\n",
       "      <td>[-63.39, -31.32]</td>\n",
       "      <td>2.300378e-11</td>\n",
       "      <td>100%</td>\n",
       "      <td>0.83</td>\n",
       "      <td>[0.44, 0.99]</td>\n",
       "      <td>5.62</td>\n",
       "      <td>[4.24, 7.9]</td>\n",
       "      <td>2019-12</td>\n",
       "      <td>[2019-12, 2020-06]</td>\n",
       "    </tr>\n",
       "    <tr>\n",
       "      <th>3</th>\n",
       "      <td>Hyperbolic</td>\n",
       "      <td>212.25</td>\n",
       "      <td>[191.88, 224.33]</td>\n",
       "      <td>15.82</td>\n",
       "      <td>[11.61, 21.45]</td>\n",
       "      <td>1.000000e+00</td>\n",
       "      <td>0%</td>\n",
       "      <td>1.25</td>\n",
       "      <td>[0.92, 1.5]</td>\n",
       "      <td>NaN</td>\n",
       "      <td>NaN</td>\n",
       "      <td>NaN</td>\n",
       "      <td>NaN</td>\n",
       "    </tr>\n",
       "  </tbody>\n",
       "</table>\n",
       "</div>"
      ],
      "text/plain": [
       "                   Model     BIC        BIC 90% CI  BIC score diff  \\\n",
       "0                 Simple  196.42   [174.28, 209.5]            0.00   \n",
       "1  Discrete acceleration  154.81   [128.0, 170.33]          -41.61   \n",
       "2          Discontinuity  157.41  [124.26, 168.73]          -39.02   \n",
       "3             Hyperbolic  212.25  [191.88, 224.33]           15.82   \n",
       "\n",
       "  BIC score diff 90% CI           Xi² % times preferred over simple  \\\n",
       "0            [0.0, 0.0]           NaN                            0%   \n",
       "1      [-59.53, -28.24]  1.049142e-11                          100%   \n",
       "2      [-63.39, -31.32]  2.300378e-11                          100%   \n",
       "3        [11.61, 21.45]  1.000000e+00                            0%   \n",
       "\n",
       "   K-fold mean MSE K-fold mean MSE 90% CI  Recent slope (Nx/year)  \\\n",
       "0             1.05           [0.75, 1.28]                   15.75   \n",
       "1             0.79           [0.54, 0.99]                    6.26   \n",
       "2             0.83           [0.44, 0.99]                    5.62   \n",
       "3             1.25            [0.92, 1.5]                     NaN   \n",
       "\n",
       "  Recent slope 90% CI Break point  Break point 90% CI  \n",
       "0      [11.86, 20.77]         NaN                 NaN  \n",
       "1        [4.32, 8.47]     2020-06  [2020-02, 2021-01]  \n",
       "2         [4.24, 7.9]     2019-12  [2019-12, 2020-06]  \n",
       "3                 NaN         NaN                 NaN  "
      ]
     },
     "execution_count": 92,
     "metadata": {},
     "output_type": "execute_result"
    }
   ],
   "source": [
    "#@markdown Analysis of best fit to the data\n",
    "\n",
    "@dataclass\n",
    "class FitResult:\n",
    "    df: pd.DataFrame\n",
    "    p: int = None\n",
    "    bic: float = None\n",
    "    rss: float = None\n",
    "    mse: float = None\n",
    "    predict: Callable = None\n",
    "\n",
    "@dataclass\n",
    "class HyperbolicFitResult(FitResult):\n",
    "    params: tuple[float] = None\n",
    "\n",
    "@dataclass\n",
    "class KinkedFitResult(FitResult):\n",
    "    break_points: tuple[float] = None\n",
    "    break_points_dt: float = None\n",
    "    oom_year_slopes: tuple[float] = None\n",
    "\n",
    "    # Model properties for each breakpoint combination\n",
    "    # (for debugging)\n",
    "    bics: tuple[float] = None\n",
    "    rsss: tuple[float] = None\n",
    "    mses: tuple[float] = None\n",
    "    break_points_list: tuple[tuple[float]] = None\n",
    "    break_points_dt_list: tuple[tuple[float]] = None\n",
    "\n",
    "def fit_hyperbolic(df):\n",
    "    def hyperbolic_model(t, A, B, k):\n",
    "        return A / (1 + B * np.exp(-k * t))\n",
    "\n",
    "    # Prepare data for curve fitting\n",
    "    timestamp = pd.to_datetime(df['date']).apply(lambda date: date.toordinal()).values\n",
    "\n",
    "    # Initial guess for the parameters\n",
    "    # initial_guess = [0, 0, 0]\n",
    "    initial_guess = [1.72373207e-02, -9.45447534e-01, -7.50101861e-08]  # Updated initial guess\n",
    "\n",
    "    # Fit the model to the data\n",
    "    try:\n",
    "      params, covariance = curve_fit(hyperbolic_model, timestamp, df['log_flop'], p0=initial_guess, maxfev=100000, ftol=1e-10)\n",
    "    except RuntimeError as e:\n",
    "      print(\"FATAL ERROR WHEN FITTING HYPERBOLIC\")\n",
    "      return None\n",
    "\n",
    "    # Extracting parameters\n",
    "    A, B, k = params\n",
    "\n",
    "    # Compute predictions to calculate residuals\n",
    "    predicted_log_flop = hyperbolic_model(timestamp, *params)\n",
    "\n",
    "    # Compute the Residual Sum of Squares (RSS)\n",
    "    rss = np.sum((df['log_flop'] - predicted_log_flop) ** 2)\n",
    "\n",
    "    # Number of observations (n)\n",
    "    n = len(df['log_flop'])\n",
    "\n",
    "    # Number of parameters (p)\n",
    "    p = len(params) + 1\n",
    "\n",
    "    # Calculate log-likelihood under the assumption of normally distributed errors\n",
    "    # log_likelihood = -0.5 * rss\n",
    "    log_likelihood = -0.5 * n * (np.log(2 * np.pi * rss/n) + 1)\n",
    "\n",
    "    # Compute bic_hyperbolic using the provided formula\n",
    "    bic = p * np.log(n) - 2 * log_likelihood\n",
    "\n",
    "    # Compute MSE\n",
    "    mse = rss / n\n",
    "\n",
    "    fit_result = HyperbolicFitResult(\n",
    "        df=df,\n",
    "        p=p,\n",
    "        bic=bic,\n",
    "        rss=rss,\n",
    "        mse=mse,\n",
    "        params=params,\n",
    "        predict=lambda date: hyperbolic_model(date.apply(lambda d: d.toordinal()), *params)\n",
    "    )\n",
    "\n",
    "    return fit_result\n",
    "\n",
    "def fit_n_phase_exponential(df, kink_count, allow_discontinuities=False, min_n_segment = 10):\n",
    "    # Generate monthly breakpoints between 2010 and 2024\n",
    "    one_month = pd.DateOffset(months=1)\n",
    "    break_point_grid = pd.date_range(start=df['date'].min() - one_month, end=df['date'].max() - 4*one_month, freq='MS')\n",
    "    break_point_grid = [x.toordinal() for x in break_point_grid]\n",
    "\n",
    "    x = pd.to_datetime(df['date']).apply(lambda date: date.toordinal()).values\n",
    "    y = df['log_flop'].values\n",
    "\n",
    "    break_points_list = []\n",
    "    bics = []\n",
    "    rsss = []\n",
    "    mses = []\n",
    "    models = []\n",
    "\n",
    "    for break_points in combinations_with_replacement(break_point_grid, kink_count):\n",
    "        # Model predictors\n",
    "\n",
    "        intercept_change_points = (0,)\n",
    "        if allow_discontinuities:\n",
    "            intercept_change_points += break_points\n",
    "        slope_change_points = (0,) + break_points\n",
    "\n",
    "        predictors = np.zeros((len(x), len(intercept_change_points) + len(slope_change_points)))\n",
    "\n",
    "        for i, intercept_point in enumerate(intercept_change_points):\n",
    "            predictors[:, i] = (x >= intercept_point).astype(int)\n",
    "\n",
    "        for i, break_point in enumerate(slope_change_points):\n",
    "            predictors[:, len(intercept_change_points) + i] = np.maximum(x - break_point, 0)\n",
    "\n",
    "        # Fit the model\n",
    "        model = sm.OLS(y, predictors).fit()\n",
    "\n",
    "        # Calculate BIC manually based on log-likelihood\n",
    "        n = len(x) # Number of observations\n",
    "        p = len(model.params) + 2*kink_count + 1 # Number of parameters\n",
    "\n",
    "        # Calculate log-likelihood under the assumption of normally distributed errors\n",
    "        # We have to iterate over all points to get their individual log-likelihoods\n",
    "        log_likelihood = 0\n",
    "        rss = 0\n",
    "        invalid_model = False # Discard models with segments with less than 2 points\n",
    "        for i, break_point in enumerate(slope_change_points):\n",
    "            left_x = break_point\n",
    "            right_x = slope_change_points[i + 1] if i + 1 < len(slope_change_points) else np.inf\n",
    "\n",
    "            segment_predictors = predictors[(left_x <= x) & (x < right_x), :]\n",
    "            segment_y = y[(left_x <= x) & (x < right_x)]\n",
    "            segment_n = len(segment_y)\n",
    "\n",
    "            assert min_n_segment > 2\n",
    "\n",
    "            if segment_n < min_n_segment:\n",
    "                invalid_model = True\n",
    "                break\n",
    "\n",
    "            y_pred = model.predict(segment_predictors)\n",
    "\n",
    "            segment_rss = np.sum((y_pred - segment_y)**2)\n",
    "            assert segment_rss > 0\n",
    "            segment_mse = segment_rss / segment_n\n",
    "\n",
    "            segment_log_likelihood = -segment_n/2 * (np.log(2*np.pi) + np.log(segment_rss/segment_n) + 1)\n",
    "            log_likelihood += segment_log_likelihood\n",
    "            rss += segment_rss\n",
    "\n",
    "        if invalid_model:\n",
    "            continue\n",
    "\n",
    "        # Compute BIC using the manual method based on the log-likelihood\n",
    "        bic = p * np.log(n) - 2 * log_likelihood\n",
    "        # bic = n*np.log(rss/n) + p*np.log(n)\n",
    "\n",
    "        bics.append(bic)\n",
    "        rsss.append(rss)\n",
    "        mses.append(rss/len(df))\n",
    "        models.append(model)\n",
    "        break_points_list.append(break_points)\n",
    "\n",
    "    # Prepare the result object\n",
    "    best_bic = min(bics)\n",
    "    best_idx = bics.index(best_bic)\n",
    "    best_rss = rsss[best_idx]\n",
    "    best_mse = mses[best_idx]\n",
    "    best_model = models[best_idx]\n",
    "    best_break_points = break_points_list[best_idx]\n",
    "\n",
    "    p = len(best_model.params) + 2*kink_count + 1 # Number of parameters\n",
    "\n",
    "    intercept_change_points = (0,)\n",
    "    if allow_discontinuities:\n",
    "        intercept_change_points += best_break_points\n",
    "    slope_change_points = (0,) + best_break_points\n",
    "\n",
    "    intercepts = best_model.params[:len(intercept_change_points)]\n",
    "    oom_year_slopes = 365 * np.cumsum(best_model.params[len(intercepts):])\n",
    "\n",
    "    def predict(date):\n",
    "        if not isinstance(date, pd.Series):\n",
    "            date = pd.Series(date)\n",
    "        x = pd.to_datetime(date).apply(lambda date: date.toordinal()).values\n",
    "\n",
    "        predictors = np.zeros((len(x), len(intercept_change_points) + len(slope_change_points)))\n",
    "\n",
    "        for i, intercept_point in enumerate(intercept_change_points):\n",
    "            predictors[:, i] = (x >= intercept_point).astype(int)\n",
    "\n",
    "        for i, break_point in enumerate(slope_change_points):\n",
    "            predictors[:, len(intercept_change_points) + i] = np.maximum(x - break_point, 0)\n",
    "\n",
    "        return best_model.predict(predictors)\n",
    "\n",
    "    fit_result = KinkedFitResult(\n",
    "        df=df,\n",
    "        p=p,\n",
    "        bic=best_bic,\n",
    "        rss=best_rss,\n",
    "        mse=best_mse,\n",
    "        break_points=best_break_points,\n",
    "        predict=predict,\n",
    "        break_points_dt=[pd.Timestamp.fromordinal(bp) for bp in best_break_points],\n",
    "        bics=bics,\n",
    "        rsss=rsss,\n",
    "        mses=mses,\n",
    "        oom_year_slopes=oom_year_slopes,\n",
    "        break_points_list=break_points_list,\n",
    "        break_points_dt_list=[[pd.Timestamp.fromordinal(bp) for bp in break_points] for break_points in break_points_list],\n",
    "    )\n",
    "\n",
    "    return fit_result\n",
    "\n",
    "fit_em_all = lambda df_fit : {\n",
    "    \"Simple\" : fit_n_phase_exponential(df_fit, kink_count=0),\n",
    "    \"Discrete acceleration\" : fit_n_phase_exponential(df_fit, kink_count=1),\n",
    "    \"Discontinuity\" : fit_n_phase_exponential(df_fit, kink_count=1, allow_discontinuities=True),\n",
    "    \"Hyperbolic\": fit_hyperbolic(df_fit),\n",
    "}\n",
    "\n",
    "# Best model fits\n",
    "models = fit_em_all(df_filtered)\n",
    "\n",
    "# K-Fold Cross Validation\n",
    "\n",
    "from sklearn.model_selection import KFold\n",
    "from collections import defaultdict\n",
    "\n",
    "def perform_cross_validation(df, k=10, random_state=42):\n",
    "    kf = KFold(n_splits=k, shuffle=True, random_state=random_state)\n",
    "    folds_mses = defaultdict(lambda : [])\n",
    "    for train_index, test_index in kf.split(df):\n",
    "        train_df, test_df = df.iloc[train_index], df.iloc[test_index]\n",
    "\n",
    "        # Fit the models on the training set\n",
    "        fold_models = fit_em_all(train_df)\n",
    "\n",
    "        # Predict on the test set\n",
    "        for name,model in fold_models.items():\n",
    "            try:\n",
    "                predicted_log_flop = model.predict(test_df[\"date\"])\n",
    "            except AttributeError:\n",
    "                continue\n",
    "            test_rss = np.sum((predicted_log_flop - test_df[\"log_flop\"])**2)\n",
    "            test_mse = test_rss / len(test_df)\n",
    "            folds_mses[name].append(test_mse)\n",
    "\n",
    "    # Compute mean MSE\n",
    "    folds_mses = {name: np.mean(folds_mses[name]) for name in folds_mses}\n",
    "\n",
    "    return folds_mses\n",
    "\n",
    "folds_mses = perform_cross_validation(df_filtered)\n",
    "\n",
    "# Bootstrap\n",
    "bootstrap_sample_size = 1000 #@param\n",
    "\n",
    "rng = np.random.default_rng(43)\n",
    "bootstrap_bics = defaultdict(lambda : [])\n",
    "bootstrap_mses = defaultdict(lambda : [])\n",
    "bootstrap_bic_score_diff = defaultdict(lambda : [])\n",
    "bootstrap_slopes = defaultdict(lambda : [])\n",
    "bootstrap_breaks = defaultdict(lambda : [])\n",
    "for bootstrap_index in tqdm(range(bootstrap_sample_size)):\n",
    "    sample = df_filtered.sample(len(df_filtered), replace=True, random_state=rng)\n",
    "    sample = sample.sort_values('date')\n",
    "\n",
    "    # Compute BICs\n",
    "    boot_models = fit_em_all(sample)\n",
    "\n",
    "    # Compute K fold validation\n",
    "    boot_folds_mses = perform_cross_validation(sample)\n",
    "\n",
    "    # Store results\n",
    "    for name, model in boot_models.items():\n",
    "        # It might be None if the hyperbolic fails to fit\n",
    "        if model is None: continue\n",
    "\n",
    "        bootstrap_bics[name].append(model.bic)\n",
    "        bootstrap_mses[name].append(boot_folds_mses[name])\n",
    "        bootstrap_bic_score_diff[name].append(model.bic - boot_models[\"Simple\"].bic)\n",
    "\n",
    "        if isinstance(model, KinkedFitResult):\n",
    "            if (len(model.oom_year_slopes) > 0): bootstrap_slopes[name].append(10**model.oom_year_slopes[-1])\n",
    "            if (len(model.break_points_dt) > 0): bootstrap_breaks[name].append(model.break_points_dt[-1])\n",
    "\n",
    "ci_width = 0.90\n",
    "qs = [(1 - ci_width)/2, (1 + ci_width)/2]\n",
    "bootstrap_preferred_percent = {}\n",
    "for name in models:\n",
    "    bootstrap_preferred_percent[name] = np.mean(np.array(bootstrap_bic_score_diff[name])<0)\n",
    "    bootstrap_bics[name] = np.quantile(np.array(bootstrap_bics[name]), qs)\n",
    "    bootstrap_mses[name] = np.quantile(np.array(bootstrap_mses[name]), qs)\n",
    "    bootstrap_bic_score_diff[name] = np.quantile(np.array(bootstrap_bic_score_diff[name]), qs)\n",
    "    try:\n",
    "        bootstrap_slopes[name] = np.quantile(np.array(bootstrap_slopes[name]), qs)\n",
    "        bootstrap_breaks[name] = np.quantile(np.array(bootstrap_breaks[name]), qs)\n",
    "    except IndexError:\n",
    "        pass\n",
    "#@markdown Models with lower BIC score / MSE are preferred.\n",
    "\n",
    "results = []\n",
    "for name, model in models.items():\n",
    "    param_count = model.p\n",
    "    log_likelihood = (np.log(len(df_filtered))*param_count - model.bic)/2\n",
    "\n",
    "    param_count_simple = models['Simple'].p\n",
    "    log_likelihood_simple = (np.log(len(df_filtered))*param_count_simple - models['Simple'].bic)/2\n",
    "\n",
    "    c2 = chi2.sf(2*(log_likelihood - log_likelihood_simple), df=(param_count - param_count_simple))\n",
    "\n",
    "    result = {\n",
    "        \"Model\": name,\n",
    "        \"BIC\" : np.round(model.bic, 2),\n",
    "        \"BIC 90% CI\" : np.round(bootstrap_bics[name], 2),\n",
    "        #\"Parameter count\": param_count,\n",
    "        #\"Log likelihood\": np.round((np.log(len(df_filtered))*param_count - model.bic)/2),\n",
    "        # \"MSE\" : model.mse,\n",
    "        \"BIC score diff\": np.round(model.bic - models[\"Simple\"].bic, 2),\n",
    "        \"BIC score diff 90% CI\": np.round(bootstrap_bic_score_diff[name], 2),\n",
    "        \"Xi²\": c2,\n",
    "        \"% times preferred over simple\": f\"{bootstrap_preferred_percent[name]:.0%}\",\n",
    "        # \"bayes factor over simple\" : np.exp(-0.5 * (model.bic - models[\"simple\"].bic)),\n",
    "        \"K-fold mean MSE\" : np.round(folds_mses[name], 2),\n",
    "        \"K-fold mean MSE 90% CI\" : np.round(bootstrap_mses[name], 2),\n",
    "    }\n",
    "\n",
    "    try:\n",
    "        result[\"Recent slope (Nx/year)\"] = np.round(10**model.oom_year_slopes[-1], 2)\n",
    "        result[\"Recent slope 90% CI\"] = np.round(bootstrap_slopes[name], 2)\n",
    "        result[\"Break point\"] = model.break_points_dt[-1].strftime('%Y-%m')\n",
    "        result[\"Break point 90% CI\"] = [date.strftime('%Y-%m') for date in bootstrap_breaks[name]]\n",
    "    except (AttributeError, IndexError):\n",
    "        pass\n",
    "    results.append(result)\n",
    "\n",
    "results_df = pd.DataFrame(results)\n",
    "\n",
    "# bayes_factor = np.exp(-0.5 * (kinked_fit.bic - simple_fit.bic))\n",
    "\n",
    "print(\"Results\")\n",
    "results_df"
   ]
  },
  {
   "cell_type": "code",
   "execution_count": 93,
   "metadata": {},
   "outputs": [],
   "source": [
    "# Save results_df\n",
    "fname = f'compute_regression_analysis_{model_accessibility}_{model_selection}_frontier={frontier_selection}_top{top_n}_cutoff={cutoff_date}.csv'\n",
    "results_df.to_csv(os.path.join(results_dir, fname), index=False)"
   ]
  },
  {
   "cell_type": "code",
   "execution_count": 94,
   "metadata": {},
   "outputs": [
    {
     "name": "stdout",
     "output_type": "stream",
     "text": [
      "The breakpoints are: [2020-06-01]\n",
      "The slopes are: [2.16, 0.80] OOM/year ([143.24, 6.26] x/year)\n",
      "BIC score: 154.81063668997916\n",
      "This fit is preferred over a simple exponential by a BIC score difference of -351.23494104423986\n"
     ]
    },
    {
     "data": {
      "image/png": "[encoded data removed]",
      "text/plain": [
       "<Figure size 1000x600 with 1 Axes>"
      ]
     },
     "metadata": {},
     "output_type": "display_data"
    }
   ],
   "source": [
    "#@markdown Graph of the different model fits\n",
    "\n",
    "model = 'kinked' #@param ['simple', 'kinked', 'hyperbolic']\n",
    "\n",
    "#@markdown Parameters for the kinked model\n",
    "kink_count = 1 #@param {type:'integer'}\n",
    "allow_discontinuities = False #@param {type:'boolean'}\n",
    "\n",
    "def plot_model(df, model_type, kink_count=1, verbose=True):\n",
    "    if model_type == 'hyperbolic':\n",
    "        fit_result = fit_hyperbolic(df)\n",
    "    elif model_type == 'simple':\n",
    "        fit_result = fit_n_phase_exponential(df, 0)\n",
    "    else:\n",
    "        fit_result = fit_n_phase_exponential(df, kink_count, allow_discontinuities)\n",
    "\n",
    "    log_flop = fit_result.predict(df['date'])\n",
    "\n",
    "    # Plot the original data points\n",
    "    plt.figure(figsize=(10, 6))\n",
    "    plt.scatter(df['date'], df['log_flop'], color='blue', label='Data points')\n",
    "\n",
    "    date_grid = pd.date_range(start=df['date'].min(), end=df['date'].max(), freq='D')\n",
    "    log_flop = fit_result.predict(pd.Series(date_grid)) # we shouldn't need to convert to a Series\n",
    "    plt.plot(date_grid, log_flop, color='red', label='Best Fit Line')\n",
    "\n",
    "\n",
    "    # Formatting the plot\n",
    "    plt.legend()\n",
    "    if model == 'kinked':\n",
    "      plt.title(f'Fit of {model_type} model with {kink_count} kinks')\n",
    "    else:\n",
    "      plt.title(f'Fit of {model_type} model')\n",
    "    plt.xlabel('Date')\n",
    "    plt.ylabel('log_flop')\n",
    "\n",
    "    # Format the date on the x-axis\n",
    "    plt.gca().xaxis.set_major_formatter(DateFormatter('%Y-%m-%d'))\n",
    "    plt.gcf().autofmt_xdate()  # Rotation\n",
    "\n",
    "    if model == 'kinked' or model == 'simple':\n",
    "        if kink_count == 0 or model == 'simple':\n",
    "            print(f\"The slope is: {fit_result.oom_year_slopes[0]:0.2f} OOM/year ({10**fit_result.oom_year_slopes[0]:0.2f}x/year)\")\n",
    "        else:\n",
    "            oom_year_slopes_str = ', '.join([f'{x:0.2f}' for x in fit_result.oom_year_slopes])\n",
    "            nx_year_slopes_str = ', '.join([f'{10**x:0.2f}' for x in fit_result.oom_year_slopes])\n",
    "            break_points_str = ', '.join([bp.strftime('%Y-%m-%d') for bp in fit_result.break_points_dt])\n",
    "\n",
    "            print(f\"The breakpoints are: [{break_points_str}]\")\n",
    "            print(f\"The slopes are: [{oom_year_slopes_str}] OOM/year ([{nx_year_slopes_str}] x/year)\")\n",
    "\n",
    "        # Add slope labels\n",
    "        points = [df['date'].min()] + fit_result.break_points_dt + [df['date'].max()]\n",
    "\n",
    "        for i in range(len(points) - 1):\n",
    "            mid = points[i] + (points[i+1] - points[i]) / 2\n",
    "            y = fit_result.predict(pd.Series([mid]))[0]\n",
    "            plt.text(mid, y - 2, f'{10**fit_result.oom_year_slopes[i]:0.2f}x/year', fontsize=12, color='blue', path_effects=[pe.withStroke(linewidth=4, foreground=\"white\")])\n",
    "\n",
    "    if verbose:\n",
    "      simple_fit = fit_n_phase_exponential(df, 0)\n",
    "      bayes_factor = np.exp(-0.5 * (fit_result.bic - simple_fit.bic))\n",
    "      unadjusted_bayes_factor = np.exp(-0.5 * (fit_result.bic - (simple_fit.bic + 2*np.log(len(df_filtered)))))\n",
    "\n",
    "      print(f\"BIC score: {fit_result.bic}\")\n",
    "      bic_score_difference = fit_result.bic - simple_fit.bic\n",
    "      if bic_score_difference > 0:\n",
    "        print(f\"The simple exponential is preferred over this fit by a BIC score difference of {fit_result.bic - simple_fit.bic}\")\n",
    "      if bic_score_difference < 0:\n",
    "        print(f\"This fit is preferred over a simple exponential by a BIC score difference of {-fit_result.bic - simple_fit.bic}\")\n",
    "\n",
    "    plt.legend()\n",
    "    plt.grid(True)\n",
    "\n",
    "    # Save plot\n",
    "    fname = f'compute_regression_{model_accessibility}_{model_selection}_frontier={frontier_selection}_top{top_n}_cutoff={cutoff_date}_{model_type}_kinks={kink_count}.png'\n",
    "    plt.savefig(os.path.join(results_dir, fname))\n",
    "\n",
    "    plt.show()\n",
    "\n",
    "plot_model(df_filtered, model, kink_count)"
   ]
  },
  {
   "cell_type": "code",
   "execution_count": 29,
   "metadata": {},
   "outputs": [
    {
     "name": "stderr",
     "output_type": "stream",
     "text": [
      "100%|██████████| 16/16 [02:19<00:00,  8.71s/it]\n"
     ]
    }
   ],
   "source": [
    "#@title Sensitivity analysis to top N choice\n",
    "run_bootstrap = True #@param {type:'boolean'}\n",
    "bootstrap_sample_count = 1000 #@param\n",
    "max_topN = 20 #@param\n",
    "\n",
    "if run_bootstrap:\n",
    "    rows = []\n",
    "    from tqdm import tqdm\n",
    "\n",
    "    @dataclass\n",
    "    class BootstrapResult:\n",
    "        bic_diffs: tuple[float] = None\n",
    "        oom_year_simples: tuple[float] = None\n",
    "\n",
    "        # For the kinked model\n",
    "        break_points_list: tuple[tuple[pd.Timestamp]] = None\n",
    "        oom_year_slopes: tuple[tuple[float]] = None\n",
    "\n",
    "    def bootstrap(model, df, sample_size, kink_count=1, allow_discontinuities=False, verbose=True):\n",
    "        rng = np.random.default_rng(0)\n",
    "\n",
    "        bootstrap_result = BootstrapResult()\n",
    "        bootstrap_result.break_points_list = []\n",
    "        bootstrap_result.oom_year_slopes = []\n",
    "        bootstrap_result.oom_year_simples = []\n",
    "        bootstrap_result.bic_diffs = []\n",
    "\n",
    "        if verbose:\n",
    "            print('Bootstrapping')\n",
    "        for bootstrap_index in range(sample_size):\n",
    "            if verbose:\n",
    "                if bootstrap_index % 10 == 0:\n",
    "                    print(f'  Computing bootstrap {bootstrap_index}/{sample_size}')\n",
    "\n",
    "            sample = df.sample(len(df), replace=True, random_state=rng)\n",
    "            sample = sample.sort_values('date')\n",
    "\n",
    "            simple_fit = fit_n_phase_exponential(sample, 0)\n",
    "\n",
    "            if model == 'hyperbolic':\n",
    "                fit_result = fit_hyperbolic(sample)\n",
    "            else:\n",
    "                fit_result = fit_n_phase_exponential(sample, kink_count, allow_discontinuities)\n",
    "\n",
    "            # BIC difference over simple exponential\n",
    "            bic_diff = fit_result.bic - simple_fit.bic\n",
    "            bootstrap_result.bic_diffs.append(bic_diff)\n",
    "\n",
    "            bootstrap_result.oom_year_slopes.append(fit_result.oom_year_slopes)\n",
    "            bootstrap_result.break_points_list.append(fit_result.break_points_dt)\n",
    "            bootstrap_result.oom_year_simples.append(simple_fit.oom_year_slopes[0])\n",
    "\n",
    "        bootstrap_result.oom_year_slopes = np.array(bootstrap_result.oom_year_slopes)\n",
    "        bootstrap_result.break_points_list = np.array(bootstrap_result.break_points_list)\n",
    "        bootstrap_result.oom_year_simples = np.array(bootstrap_result.oom_year_simples)\n",
    "\n",
    "        return bootstrap_result\n",
    "\n",
    "\n",
    "    for top_n in tqdm(range(5, max_topN + 1)):\n",
    "        df_top = find_top_models_up_to_release(df_notable, top_n)\n",
    "        df_top = df_top[df_top['date'] > cutoff_date]\n",
    "\n",
    "        bootstrap_result = bootstrap('kinked', df_top, bootstrap_sample_count, verbose=False)\n",
    "\n",
    "        ci_width = 0.90\n",
    "        qs = [(1 - ci_width)/2, 0.5, (1 + ci_width)/2]\n",
    "        bic_diff_quantiles = np.quantile(bootstrap_result.bic_diffs, qs)\n",
    "        pos_bic_diff_percent = (np.array(bootstrap_result.bic_diffs) > 0).mean()\n",
    "        simple_nx_year_quantiles = 10**np.quantile(bootstrap_result.oom_year_simples, qs)\n",
    "\n",
    "        row = []\n",
    "        row.append(top_n)\n",
    "        row.append(f'{bic_diff_quantiles[1]:.2f} (90% CI: {bic_diff_quantiles[0]:.2f} to {bic_diff_quantiles[2]:.2f})')\n",
    "        row.append(f'{1 - pos_bic_diff_percent:.0%}')\n",
    "        row.append(f'{simple_nx_year_quantiles[1]:.2f} (90% CI: {simple_nx_year_quantiles[0]:.2f} to {simple_nx_year_quantiles[2]:.2f})')\n",
    "        rows.append(row)\n",
    "\n",
    "    df_results = pd.DataFrame(rows, columns=['top_n', 'BIC difference', '% times discontinuity preferred', 'Simple fit slope (x/year)'])"
   ]
  },
  {
   "cell_type": "code",
   "execution_count": 30,
   "metadata": {},
   "outputs": [
    {
     "data": {
      "text/html": [
       "<div>\n",
       "<style scoped>\n",
       "    .dataframe tbody tr th:only-of-type {\n",
       "        vertical-align: middle;\n",
       "    }\n",
       "\n",
       "    .dataframe tbody tr th {\n",
       "        vertical-align: top;\n",
       "    }\n",
       "\n",
       "    .dataframe thead th {\n",
       "        text-align: right;\n",
       "    }\n",
       "</style>\n",
       "<table border=\"1\" class=\"dataframe\">\n",
       "  <thead>\n",
       "    <tr style=\"text-align: right;\">\n",
       "      <th></th>\n",
       "      <th>top_n</th>\n",
       "      <th>BIC difference</th>\n",
       "      <th>% times discontinuity preferred</th>\n",
       "      <th>Simple fit slope (x/year)</th>\n",
       "    </tr>\n",
       "  </thead>\n",
       "  <tbody>\n",
       "    <tr>\n",
       "      <th>0</th>\n",
       "      <td>5</td>\n",
       "      <td>-75.50 (90% CI: -108.11 to -43.54)</td>\n",
       "      <td>100%</td>\n",
       "      <td>9.35 (90% CI: 6.62 to 13.82)</td>\n",
       "    </tr>\n",
       "    <tr>\n",
       "      <th>1</th>\n",
       "      <td>6</td>\n",
       "      <td>-75.68 (90% CI: -111.71 to -43.32)</td>\n",
       "      <td>100%</td>\n",
       "      <td>9.48 (90% CI: 6.91 to 14.10)</td>\n",
       "    </tr>\n",
       "    <tr>\n",
       "      <th>2</th>\n",
       "      <td>7</td>\n",
       "      <td>-77.60 (90% CI: -108.33 to -48.12)</td>\n",
       "      <td>100%</td>\n",
       "      <td>10.15 (90% CI: 7.40 to 14.34)</td>\n",
       "    </tr>\n",
       "    <tr>\n",
       "      <th>3</th>\n",
       "      <td>8</td>\n",
       "      <td>-75.80 (90% CI: -107.20 to -46.75)</td>\n",
       "      <td>100%</td>\n",
       "      <td>9.99 (90% CI: 7.52 to 13.75)</td>\n",
       "    </tr>\n",
       "    <tr>\n",
       "      <th>4</th>\n",
       "      <td>9</td>\n",
       "      <td>-78.75 (90% CI: -111.84 to -47.03)</td>\n",
       "      <td>100%</td>\n",
       "      <td>9.83 (90% CI: 7.27 to 13.72)</td>\n",
       "    </tr>\n",
       "    <tr>\n",
       "      <th>5</th>\n",
       "      <td>10</td>\n",
       "      <td>-79.17 (90% CI: -111.25 to -47.15)</td>\n",
       "      <td>100%</td>\n",
       "      <td>9.80 (90% CI: 7.20 to 13.68)</td>\n",
       "    </tr>\n",
       "    <tr>\n",
       "      <th>6</th>\n",
       "      <td>11</td>\n",
       "      <td>-82.06 (90% CI: -120.05 to -46.61)</td>\n",
       "      <td>100%</td>\n",
       "      <td>9.05 (90% CI: 6.81 to 12.50)</td>\n",
       "    </tr>\n",
       "    <tr>\n",
       "      <th>7</th>\n",
       "      <td>12</td>\n",
       "      <td>-81.19 (90% CI: -118.73 to -44.01)</td>\n",
       "      <td>100%</td>\n",
       "      <td>8.92 (90% CI: 6.77 to 12.13)</td>\n",
       "    </tr>\n",
       "    <tr>\n",
       "      <th>8</th>\n",
       "      <td>13</td>\n",
       "      <td>-99.71 (90% CI: -136.04 to -53.89)</td>\n",
       "      <td>100%</td>\n",
       "      <td>9.69 (90% CI: 7.28 to 13.52)</td>\n",
       "    </tr>\n",
       "    <tr>\n",
       "      <th>9</th>\n",
       "      <td>14</td>\n",
       "      <td>-99.75 (90% CI: -138.87 to -54.30)</td>\n",
       "      <td>100%</td>\n",
       "      <td>9.59 (90% CI: 7.18 to 13.26)</td>\n",
       "    </tr>\n",
       "    <tr>\n",
       "      <th>10</th>\n",
       "      <td>15</td>\n",
       "      <td>-101.80 (90% CI: -141.34 to -55.09)</td>\n",
       "      <td>100%</td>\n",
       "      <td>9.40 (90% CI: 7.03 to 12.75)</td>\n",
       "    </tr>\n",
       "    <tr>\n",
       "      <th>11</th>\n",
       "      <td>16</td>\n",
       "      <td>-98.39 (90% CI: -136.04 to -49.81)</td>\n",
       "      <td>100%</td>\n",
       "      <td>9.17 (90% CI: 6.81 to 12.51)</td>\n",
       "    </tr>\n",
       "    <tr>\n",
       "      <th>12</th>\n",
       "      <td>17</td>\n",
       "      <td>-98.83 (90% CI: -140.22 to -52.08)</td>\n",
       "      <td>100%</td>\n",
       "      <td>8.87 (90% CI: 6.96 to 12.03)</td>\n",
       "    </tr>\n",
       "    <tr>\n",
       "      <th>13</th>\n",
       "      <td>18</td>\n",
       "      <td>-104.60 (90% CI: -144.98 to -59.98)</td>\n",
       "      <td>100%</td>\n",
       "      <td>8.85 (90% CI: 6.96 to 11.76)</td>\n",
       "    </tr>\n",
       "    <tr>\n",
       "      <th>14</th>\n",
       "      <td>19</td>\n",
       "      <td>-102.32 (90% CI: -142.03 to -56.80)</td>\n",
       "      <td>100%</td>\n",
       "      <td>8.76 (90% CI: 6.73 to 11.48)</td>\n",
       "    </tr>\n",
       "    <tr>\n",
       "      <th>15</th>\n",
       "      <td>20</td>\n",
       "      <td>-104.13 (90% CI: -145.73 to -57.97)</td>\n",
       "      <td>100%</td>\n",
       "      <td>8.58 (90% CI: 6.67 to 11.35)</td>\n",
       "    </tr>\n",
       "  </tbody>\n",
       "</table>\n",
       "</div>"
      ],
      "text/plain": [
       "    top_n                       BIC difference  \\\n",
       "0       5   -75.50 (90% CI: -108.11 to -43.54)   \n",
       "1       6   -75.68 (90% CI: -111.71 to -43.32)   \n",
       "2       7   -77.60 (90% CI: -108.33 to -48.12)   \n",
       "3       8   -75.80 (90% CI: -107.20 to -46.75)   \n",
       "4       9   -78.75 (90% CI: -111.84 to -47.03)   \n",
       "5      10   -79.17 (90% CI: -111.25 to -47.15)   \n",
       "6      11   -82.06 (90% CI: -120.05 to -46.61)   \n",
       "7      12   -81.19 (90% CI: -118.73 to -44.01)   \n",
       "8      13   -99.71 (90% CI: -136.04 to -53.89)   \n",
       "9      14   -99.75 (90% CI: -138.87 to -54.30)   \n",
       "10     15  -101.80 (90% CI: -141.34 to -55.09)   \n",
       "11     16   -98.39 (90% CI: -136.04 to -49.81)   \n",
       "12     17   -98.83 (90% CI: -140.22 to -52.08)   \n",
       "13     18  -104.60 (90% CI: -144.98 to -59.98)   \n",
       "14     19  -102.32 (90% CI: -142.03 to -56.80)   \n",
       "15     20  -104.13 (90% CI: -145.73 to -57.97)   \n",
       "\n",
       "   % times discontinuity preferred      Simple fit slope (x/year)  \n",
       "0                             100%   9.35 (90% CI: 6.62 to 13.82)  \n",
       "1                             100%   9.48 (90% CI: 6.91 to 14.10)  \n",
       "2                             100%  10.15 (90% CI: 7.40 to 14.34)  \n",
       "3                             100%   9.99 (90% CI: 7.52 to 13.75)  \n",
       "4                             100%   9.83 (90% CI: 7.27 to 13.72)  \n",
       "5                             100%   9.80 (90% CI: 7.20 to 13.68)  \n",
       "6                             100%   9.05 (90% CI: 6.81 to 12.50)  \n",
       "7                             100%   8.92 (90% CI: 6.77 to 12.13)  \n",
       "8                             100%   9.69 (90% CI: 7.28 to 13.52)  \n",
       "9                             100%   9.59 (90% CI: 7.18 to 13.26)  \n",
       "10                            100%   9.40 (90% CI: 7.03 to 12.75)  \n",
       "11                            100%   9.17 (90% CI: 6.81 to 12.51)  \n",
       "12                            100%   8.87 (90% CI: 6.96 to 12.03)  \n",
       "13                            100%   8.85 (90% CI: 6.96 to 11.76)  \n",
       "14                            100%   8.76 (90% CI: 6.73 to 11.48)  \n",
       "15                            100%   8.58 (90% CI: 6.67 to 11.35)  "
      ]
     },
     "execution_count": 30,
     "metadata": {},
     "output_type": "execute_result"
    }
   ],
   "source": [
    "df_results"
   ]
  },
  {
   "cell_type": "markdown",
   "metadata": {},
   "source": [
    "# Regression"
   ]
  },
  {
   "cell_type": "code",
   "execution_count": 31,
   "metadata": {},
   "outputs": [],
   "source": [
    "# tentative\n",
    "analysis_start_year = 2015\n",
    "filtered_access_df = access_df[(access_df[f'top_{n}_at_release'] == True) & (access_df['Publication date (float)'] >= analysis_start_year)]\n",
    "\n",
    "\n",
    "# filtered_access_df = access_df.loc[access_df['System'].isin(selected_systems)]"
   ]
  },
  {
   "cell_type": "code",
   "execution_count": 32,
   "metadata": {},
   "outputs": [],
   "source": [
    "filtered_access_df.loc[filtered_access_df['Model open/closed'] == 'Closed',['System', 'Publication date (float)', 'Training compute (FLOP)']].to_csv('test.csv')"
   ]
  },
  {
   "cell_type": "code",
   "execution_count": 33,
   "metadata": {},
   "outputs": [
    {
     "data": {
      "text/html": [
       "<table class=\"simpletable\">\n",
       "<caption>OLS Regression Results</caption>\n",
       "<tr>\n",
       "  <th>Dep. Variable:</th>            <td>y</td>        <th>  R-squared:         </th> <td>   0.828</td>\n",
       "</tr>\n",
       "<tr>\n",
       "  <th>Model:</th>                   <td>OLS</td>       <th>  Adj. R-squared:    </th> <td>   0.827</td>\n",
       "</tr>\n",
       "<tr>\n",
       "  <th>Method:</th>             <td>Least Squares</td>  <th>  F-statistic:       </th> <td>   763.0</td>\n",
       "</tr>\n",
       "<tr>\n",
       "  <th>Date:</th>             <td>Sun, 23 Jun 2024</td> <th>  Prob (F-statistic):</th> <td>2.29e-62</td>\n",
       "</tr>\n",
       "<tr>\n",
       "  <th>Time:</th>                 <td>17:47:28</td>     <th>  Log-Likelihood:    </th> <td> -242.97</td>\n",
       "</tr>\n",
       "<tr>\n",
       "  <th>No. Observations:</th>      <td>   160</td>      <th>  AIC:               </th> <td>   489.9</td>\n",
       "</tr>\n",
       "<tr>\n",
       "  <th>Df Residuals:</th>          <td>   158</td>      <th>  BIC:               </th> <td>   496.1</td>\n",
       "</tr>\n",
       "<tr>\n",
       "  <th>Df Model:</th>              <td>     1</td>      <th>                     </th>     <td> </td>   \n",
       "</tr>\n",
       "<tr>\n",
       "  <th>Covariance Type:</th>      <td>nonrobust</td>    <th>                     </th>     <td> </td>   \n",
       "</tr>\n",
       "</table>\n",
       "<table class=\"simpletable\">\n",
       "<tr>\n",
       "    <td></td>       <th>coef</th>     <th>std err</th>      <th>t</th>      <th>P>|t|</th>  <th>[0.025</th>    <th>0.975]</th>  \n",
       "</tr>\n",
       "<tr>\n",
       "  <th>const</th> <td>-2196.1771</td> <td>   80.284</td> <td>  -27.355</td> <td> 0.000</td> <td>-2354.746</td> <td>-2037.608</td>\n",
       "</tr>\n",
       "<tr>\n",
       "  <th>x1</th>    <td>    1.0975</td> <td>    0.040</td> <td>   27.622</td> <td> 0.000</td> <td>    1.019</td> <td>    1.176</td>\n",
       "</tr>\n",
       "</table>\n",
       "<table class=\"simpletable\">\n",
       "<tr>\n",
       "  <th>Omnibus:</th>       <td>12.342</td> <th>  Durbin-Watson:     </th> <td>   1.719</td>\n",
       "</tr>\n",
       "<tr>\n",
       "  <th>Prob(Omnibus):</th> <td> 0.002</td> <th>  Jarque-Bera (JB):  </th> <td>  28.610</td>\n",
       "</tr>\n",
       "<tr>\n",
       "  <th>Skew:</th>          <td> 0.216</td> <th>  Prob(JB):          </th> <td>6.13e-07</td>\n",
       "</tr>\n",
       "<tr>\n",
       "  <th>Kurtosis:</th>      <td> 5.026</td> <th>  Cond. No.          </th> <td>1.85e+06</td>\n",
       "</tr>\n",
       "</table><br/><br/>Notes:<br/>[1] Standard Errors assume that the covariance matrix of the errors is correctly specified.<br/>[2] The condition number is large, 1.85e+06. This might indicate that there are<br/>strong multicollinearity or other numerical problems."
      ],
      "text/latex": [
       "\\begin{center}\n",
       "\\begin{tabular}{lclc}\n",
       "\\toprule\n",
       "\\textbf{Dep. Variable:}    &        y         & \\textbf{  R-squared:         } &     0.828   \\\\\n",
       "\\textbf{Model:}            &       OLS        & \\textbf{  Adj. R-squared:    } &     0.827   \\\\\n",
       "\\textbf{Method:}           &  Least Squares   & \\textbf{  F-statistic:       } &     763.0   \\\\\n",
       "\\textbf{Date:}             & Sun, 23 Jun 2024 & \\textbf{  Prob (F-statistic):} &  2.29e-62   \\\\\n",
       "\\textbf{Time:}             &     17:47:28     & \\textbf{  Log-Likelihood:    } &   -242.97   \\\\\n",
       "\\textbf{No. Observations:} &         160      & \\textbf{  AIC:               } &     489.9   \\\\\n",
       "\\textbf{Df Residuals:}     &         158      & \\textbf{  BIC:               } &     496.1   \\\\\n",
       "\\textbf{Df Model:}         &           1      & \\textbf{                     } &             \\\\\n",
       "\\textbf{Covariance Type:}  &    nonrobust     & \\textbf{                     } &             \\\\\n",
       "\\bottomrule\n",
       "\\end{tabular}\n",
       "\\begin{tabular}{lcccccc}\n",
       "               & \\textbf{coef} & \\textbf{std err} & \\textbf{t} & \\textbf{P$> |$t$|$} & \\textbf{[0.025} & \\textbf{0.975]}  \\\\\n",
       "\\midrule\n",
       "\\textbf{const} &   -2196.1771  &       80.284     &   -27.355  &         0.000        &    -2354.746    &    -2037.608     \\\\\n",
       "\\textbf{x1}    &       1.0975  &        0.040     &    27.622  &         0.000        &        1.019    &        1.176     \\\\\n",
       "\\bottomrule\n",
       "\\end{tabular}\n",
       "\\begin{tabular}{lclc}\n",
       "\\textbf{Omnibus:}       & 12.342 & \\textbf{  Durbin-Watson:     } &    1.719  \\\\\n",
       "\\textbf{Prob(Omnibus):} &  0.002 & \\textbf{  Jarque-Bera (JB):  } &   28.610  \\\\\n",
       "\\textbf{Skew:}          &  0.216 & \\textbf{  Prob(JB):          } & 6.13e-07  \\\\\n",
       "\\textbf{Kurtosis:}      &  5.026 & \\textbf{  Cond. No.          } & 1.85e+06  \\\\\n",
       "\\bottomrule\n",
       "\\end{tabular}\n",
       "%\\caption{OLS Regression Results}\n",
       "\\end{center}\n",
       "\n",
       "Notes: \\newline\n",
       " [1] Standard Errors assume that the covariance matrix of the errors is correctly specified. \\newline\n",
       " [2] The condition number is large, 1.85e+06. This might indicate that there are \\newline\n",
       " strong multicollinearity or other numerical problems."
      ],
      "text/plain": [
       "<class 'statsmodels.iolib.summary.Summary'>\n",
       "\"\"\"\n",
       "                            OLS Regression Results                            \n",
       "==============================================================================\n",
       "Dep. Variable:                      y   R-squared:                       0.828\n",
       "Model:                            OLS   Adj. R-squared:                  0.827\n",
       "Method:                 Least Squares   F-statistic:                     763.0\n",
       "Date:                Sun, 23 Jun 2024   Prob (F-statistic):           2.29e-62\n",
       "Time:                        17:47:28   Log-Likelihood:                -242.97\n",
       "No. Observations:                 160   AIC:                             489.9\n",
       "Df Residuals:                     158   BIC:                             496.1\n",
       "Df Model:                           1                                         \n",
       "Covariance Type:            nonrobust                                         \n",
       "==============================================================================\n",
       "                 coef    std err          t      P>|t|      [0.025      0.975]\n",
       "------------------------------------------------------------------------------\n",
       "const      -2196.1771     80.284    -27.355      0.000   -2354.746   -2037.608\n",
       "x1             1.0975      0.040     27.622      0.000       1.019       1.176\n",
       "==============================================================================\n",
       "Omnibus:                       12.342   Durbin-Watson:                   1.719\n",
       "Prob(Omnibus):                  0.002   Jarque-Bera (JB):               28.610\n",
       "Skew:                           0.216   Prob(JB):                     6.13e-07\n",
       "Kurtosis:                       5.026   Cond. No.                     1.85e+06\n",
       "==============================================================================\n",
       "\n",
       "Notes:\n",
       "[1] Standard Errors assume that the covariance matrix of the errors is correctly specified.\n",
       "[2] The condition number is large, 1.85e+06. This might indicate that there are\n",
       "strong multicollinearity or other numerical problems.\n",
       "\"\"\""
      ]
     },
     "execution_count": 33,
     "metadata": {},
     "output_type": "execute_result"
    }
   ],
   "source": [
    "reg_results = fit_ols_regression(\n",
    "    filtered_access_df,\n",
    "    ['Publication date (float)'],\n",
    "    'Training compute (FLOP)',\n",
    "    logy=True\n",
    ")\n",
    "reg_results.summary()"
   ]
  },
  {
   "cell_type": "code",
   "execution_count": 34,
   "metadata": {},
   "outputs": [
    {
     "data": {
      "text/html": [
       "<table class=\"simpletable\">\n",
       "<caption>OLS Regression Results</caption>\n",
       "<tr>\n",
       "  <th>Dep. Variable:</th>            <td>y</td>        <th>  R-squared:         </th> <td>   0.803</td>\n",
       "</tr>\n",
       "<tr>\n",
       "  <th>Model:</th>                   <td>OLS</td>       <th>  Adj. R-squared:    </th> <td>   0.800</td>\n",
       "</tr>\n",
       "<tr>\n",
       "  <th>Method:</th>             <td>Least Squares</td>  <th>  F-statistic:       </th> <td>   308.9</td>\n",
       "</tr>\n",
       "<tr>\n",
       "  <th>Date:</th>             <td>Sun, 23 Jun 2024</td> <th>  Prob (F-statistic):</th> <td>1.71e-28</td>\n",
       "</tr>\n",
       "<tr>\n",
       "  <th>Time:</th>                 <td>17:47:28</td>     <th>  Log-Likelihood:    </th> <td> -108.77</td>\n",
       "</tr>\n",
       "<tr>\n",
       "  <th>No. Observations:</th>      <td>    78</td>      <th>  AIC:               </th> <td>   221.5</td>\n",
       "</tr>\n",
       "<tr>\n",
       "  <th>Df Residuals:</th>          <td>    76</td>      <th>  BIC:               </th> <td>   226.3</td>\n",
       "</tr>\n",
       "<tr>\n",
       "  <th>Df Model:</th>              <td>     1</td>      <th>                     </th>     <td> </td>   \n",
       "</tr>\n",
       "<tr>\n",
       "  <th>Covariance Type:</th>      <td>nonrobust</td>    <th>                     </th>     <td> </td>   \n",
       "</tr>\n",
       "</table>\n",
       "<table class=\"simpletable\">\n",
       "<tr>\n",
       "    <td></td>       <th>coef</th>     <th>std err</th>      <th>t</th>      <th>P>|t|</th>  <th>[0.025</th>    <th>0.975]</th>  \n",
       "</tr>\n",
       "<tr>\n",
       "  <th>const</th> <td>-1982.3529</td> <td>  114.029</td> <td>  -17.385</td> <td> 0.000</td> <td>-2209.461</td> <td>-1755.245</td>\n",
       "</tr>\n",
       "<tr>\n",
       "  <th>x1</th>    <td>    0.9916</td> <td>    0.056</td> <td>   17.576</td> <td> 0.000</td> <td>    0.879</td> <td>    1.104</td>\n",
       "</tr>\n",
       "</table>\n",
       "<table class=\"simpletable\">\n",
       "<tr>\n",
       "  <th>Omnibus:</th>       <td>35.172</td> <th>  Durbin-Watson:     </th> <td>   1.432</td>\n",
       "</tr>\n",
       "<tr>\n",
       "  <th>Prob(Omnibus):</th> <td> 0.000</td> <th>  Jarque-Bera (JB):  </th> <td> 118.829</td>\n",
       "</tr>\n",
       "<tr>\n",
       "  <th>Skew:</th>          <td>-1.344</td> <th>  Prob(JB):          </th> <td>1.57e-26</td>\n",
       "</tr>\n",
       "<tr>\n",
       "  <th>Kurtosis:</th>      <td> 8.416</td> <th>  Cond. No.          </th> <td>2.06e+06</td>\n",
       "</tr>\n",
       "</table><br/><br/>Notes:<br/>[1] Standard Errors assume that the covariance matrix of the errors is correctly specified.<br/>[2] The condition number is large, 2.06e+06. This might indicate that there are<br/>strong multicollinearity or other numerical problems."
      ],
      "text/latex": [
       "\\begin{center}\n",
       "\\begin{tabular}{lclc}\n",
       "\\toprule\n",
       "\\textbf{Dep. Variable:}    &        y         & \\textbf{  R-squared:         } &     0.803   \\\\\n",
       "\\textbf{Model:}            &       OLS        & \\textbf{  Adj. R-squared:    } &     0.800   \\\\\n",
       "\\textbf{Method:}           &  Least Squares   & \\textbf{  F-statistic:       } &     308.9   \\\\\n",
       "\\textbf{Date:}             & Sun, 23 Jun 2024 & \\textbf{  Prob (F-statistic):} &  1.71e-28   \\\\\n",
       "\\textbf{Time:}             &     17:47:28     & \\textbf{  Log-Likelihood:    } &   -108.77   \\\\\n",
       "\\textbf{No. Observations:} &          78      & \\textbf{  AIC:               } &     221.5   \\\\\n",
       "\\textbf{Df Residuals:}     &          76      & \\textbf{  BIC:               } &     226.3   \\\\\n",
       "\\textbf{Df Model:}         &           1      & \\textbf{                     } &             \\\\\n",
       "\\textbf{Covariance Type:}  &    nonrobust     & \\textbf{                     } &             \\\\\n",
       "\\bottomrule\n",
       "\\end{tabular}\n",
       "\\begin{tabular}{lcccccc}\n",
       "               & \\textbf{coef} & \\textbf{std err} & \\textbf{t} & \\textbf{P$> |$t$|$} & \\textbf{[0.025} & \\textbf{0.975]}  \\\\\n",
       "\\midrule\n",
       "\\textbf{const} &   -1982.3529  &      114.029     &   -17.385  &         0.000        &    -2209.461    &    -1755.245     \\\\\n",
       "\\textbf{x1}    &       0.9916  &        0.056     &    17.576  &         0.000        &        0.879    &        1.104     \\\\\n",
       "\\bottomrule\n",
       "\\end{tabular}\n",
       "\\begin{tabular}{lclc}\n",
       "\\textbf{Omnibus:}       & 35.172 & \\textbf{  Durbin-Watson:     } &    1.432  \\\\\n",
       "\\textbf{Prob(Omnibus):} &  0.000 & \\textbf{  Jarque-Bera (JB):  } &  118.829  \\\\\n",
       "\\textbf{Skew:}          & -1.344 & \\textbf{  Prob(JB):          } & 1.57e-26  \\\\\n",
       "\\textbf{Kurtosis:}      &  8.416 & \\textbf{  Cond. No.          } & 2.06e+06  \\\\\n",
       "\\bottomrule\n",
       "\\end{tabular}\n",
       "%\\caption{OLS Regression Results}\n",
       "\\end{center}\n",
       "\n",
       "Notes: \\newline\n",
       " [1] Standard Errors assume that the covariance matrix of the errors is correctly specified. \\newline\n",
       " [2] The condition number is large, 2.06e+06. This might indicate that there are \\newline\n",
       " strong multicollinearity or other numerical problems."
      ],
      "text/plain": [
       "<class 'statsmodels.iolib.summary.Summary'>\n",
       "\"\"\"\n",
       "                            OLS Regression Results                            \n",
       "==============================================================================\n",
       "Dep. Variable:                      y   R-squared:                       0.803\n",
       "Model:                            OLS   Adj. R-squared:                  0.800\n",
       "Method:                 Least Squares   F-statistic:                     308.9\n",
       "Date:                Sun, 23 Jun 2024   Prob (F-statistic):           1.71e-28\n",
       "Time:                        17:47:28   Log-Likelihood:                -108.77\n",
       "No. Observations:                  78   AIC:                             221.5\n",
       "Df Residuals:                      76   BIC:                             226.3\n",
       "Df Model:                           1                                         \n",
       "Covariance Type:            nonrobust                                         \n",
       "==============================================================================\n",
       "                 coef    std err          t      P>|t|      [0.025      0.975]\n",
       "------------------------------------------------------------------------------\n",
       "const      -1982.3529    114.029    -17.385      0.000   -2209.461   -1755.245\n",
       "x1             0.9916      0.056     17.576      0.000       0.879       1.104\n",
       "==============================================================================\n",
       "Omnibus:                       35.172   Durbin-Watson:                   1.432\n",
       "Prob(Omnibus):                  0.000   Jarque-Bera (JB):              118.829\n",
       "Skew:                          -1.344   Prob(JB):                     1.57e-26\n",
       "Kurtosis:                       8.416   Cond. No.                     2.06e+06\n",
       "==============================================================================\n",
       "\n",
       "Notes:\n",
       "[1] Standard Errors assume that the covariance matrix of the errors is correctly specified.\n",
       "[2] The condition number is large, 2.06e+06. This might indicate that there are\n",
       "strong multicollinearity or other numerical problems.\n",
       "\"\"\""
      ]
     },
     "execution_count": 34,
     "metadata": {},
     "output_type": "execute_result"
    }
   ],
   "source": [
    "open_reg_results = fit_ols_regression(\n",
    "    filtered_access_df[filtered_access_df['Model open/closed'] == 'Open'],\n",
    "    ['Publication date (float)'],\n",
    "    'Training compute (FLOP)',\n",
    "    logy=True\n",
    ")\n",
    "open_reg_results.summary()"
   ]
  },
  {
   "cell_type": "code",
   "execution_count": 35,
   "metadata": {},
   "outputs": [
    {
     "data": {
      "text/html": [
       "<table class=\"simpletable\">\n",
       "<caption>OLS Regression Results</caption>\n",
       "<tr>\n",
       "  <th>Dep. Variable:</th>            <td>y</td>        <th>  R-squared:         </th> <td>   0.853</td>\n",
       "</tr>\n",
       "<tr>\n",
       "  <th>Model:</th>                   <td>OLS</td>       <th>  Adj. R-squared:    </th> <td>   0.851</td>\n",
       "</tr>\n",
       "<tr>\n",
       "  <th>Method:</th>             <td>Least Squares</td>  <th>  F-statistic:       </th> <td>   463.0</td>\n",
       "</tr>\n",
       "<tr>\n",
       "  <th>Date:</th>             <td>Sun, 23 Jun 2024</td> <th>  Prob (F-statistic):</th> <td>5.17e-35</td>\n",
       "</tr>\n",
       "<tr>\n",
       "  <th>Time:</th>                 <td>17:47:28</td>     <th>  Log-Likelihood:    </th> <td> -128.35</td>\n",
       "</tr>\n",
       "<tr>\n",
       "  <th>No. Observations:</th>      <td>    82</td>      <th>  AIC:               </th> <td>   260.7</td>\n",
       "</tr>\n",
       "<tr>\n",
       "  <th>Df Residuals:</th>          <td>    80</td>      <th>  BIC:               </th> <td>   265.5</td>\n",
       "</tr>\n",
       "<tr>\n",
       "  <th>Df Model:</th>              <td>     1</td>      <th>                     </th>     <td> </td>   \n",
       "</tr>\n",
       "<tr>\n",
       "  <th>Covariance Type:</th>      <td>nonrobust</td>    <th>                     </th>     <td> </td>   \n",
       "</tr>\n",
       "</table>\n",
       "<table class=\"simpletable\">\n",
       "<tr>\n",
       "    <td></td>       <th>coef</th>     <th>std err</th>      <th>t</th>      <th>P>|t|</th>  <th>[0.025</th>    <th>0.975]</th>  \n",
       "</tr>\n",
       "<tr>\n",
       "  <th>const</th> <td>-2389.3486</td> <td>  112.022</td> <td>  -21.329</td> <td> 0.000</td> <td>-2612.279</td> <td>-2166.418</td>\n",
       "</tr>\n",
       "<tr>\n",
       "  <th>x1</th>    <td>    1.1932</td> <td>    0.055</td> <td>   21.518</td> <td> 0.000</td> <td>    1.083</td> <td>    1.304</td>\n",
       "</tr>\n",
       "</table>\n",
       "<table class=\"simpletable\">\n",
       "<tr>\n",
       "  <th>Omnibus:</th>       <td>20.127</td> <th>  Durbin-Watson:     </th> <td>   1.842</td>\n",
       "</tr>\n",
       "<tr>\n",
       "  <th>Prob(Omnibus):</th> <td> 0.000</td> <th>  Jarque-Bera (JB):  </th> <td>  30.406</td>\n",
       "</tr>\n",
       "<tr>\n",
       "  <th>Skew:</th>          <td> 1.015</td> <th>  Prob(JB):          </th> <td>2.50e-07</td>\n",
       "</tr>\n",
       "<tr>\n",
       "  <th>Kurtosis:</th>      <td> 5.187</td> <th>  Cond. No.          </th> <td>1.75e+06</td>\n",
       "</tr>\n",
       "</table><br/><br/>Notes:<br/>[1] Standard Errors assume that the covariance matrix of the errors is correctly specified.<br/>[2] The condition number is large, 1.75e+06. This might indicate that there are<br/>strong multicollinearity or other numerical problems."
      ],
      "text/latex": [
       "\\begin{center}\n",
       "\\begin{tabular}{lclc}\n",
       "\\toprule\n",
       "\\textbf{Dep. Variable:}    &        y         & \\textbf{  R-squared:         } &     0.853   \\\\\n",
       "\\textbf{Model:}            &       OLS        & \\textbf{  Adj. R-squared:    } &     0.851   \\\\\n",
       "\\textbf{Method:}           &  Least Squares   & \\textbf{  F-statistic:       } &     463.0   \\\\\n",
       "\\textbf{Date:}             & Sun, 23 Jun 2024 & \\textbf{  Prob (F-statistic):} &  5.17e-35   \\\\\n",
       "\\textbf{Time:}             &     17:47:28     & \\textbf{  Log-Likelihood:    } &   -128.35   \\\\\n",
       "\\textbf{No. Observations:} &          82      & \\textbf{  AIC:               } &     260.7   \\\\\n",
       "\\textbf{Df Residuals:}     &          80      & \\textbf{  BIC:               } &     265.5   \\\\\n",
       "\\textbf{Df Model:}         &           1      & \\textbf{                     } &             \\\\\n",
       "\\textbf{Covariance Type:}  &    nonrobust     & \\textbf{                     } &             \\\\\n",
       "\\bottomrule\n",
       "\\end{tabular}\n",
       "\\begin{tabular}{lcccccc}\n",
       "               & \\textbf{coef} & \\textbf{std err} & \\textbf{t} & \\textbf{P$> |$t$|$} & \\textbf{[0.025} & \\textbf{0.975]}  \\\\\n",
       "\\midrule\n",
       "\\textbf{const} &   -2389.3486  &      112.022     &   -21.329  &         0.000        &    -2612.279    &    -2166.418     \\\\\n",
       "\\textbf{x1}    &       1.1932  &        0.055     &    21.518  &         0.000        &        1.083    &        1.304     \\\\\n",
       "\\bottomrule\n",
       "\\end{tabular}\n",
       "\\begin{tabular}{lclc}\n",
       "\\textbf{Omnibus:}       & 20.127 & \\textbf{  Durbin-Watson:     } &    1.842  \\\\\n",
       "\\textbf{Prob(Omnibus):} &  0.000 & \\textbf{  Jarque-Bera (JB):  } &   30.406  \\\\\n",
       "\\textbf{Skew:}          &  1.015 & \\textbf{  Prob(JB):          } & 2.50e-07  \\\\\n",
       "\\textbf{Kurtosis:}      &  5.187 & \\textbf{  Cond. No.          } & 1.75e+06  \\\\\n",
       "\\bottomrule\n",
       "\\end{tabular}\n",
       "%\\caption{OLS Regression Results}\n",
       "\\end{center}\n",
       "\n",
       "Notes: \\newline\n",
       " [1] Standard Errors assume that the covariance matrix of the errors is correctly specified. \\newline\n",
       " [2] The condition number is large, 1.75e+06. This might indicate that there are \\newline\n",
       " strong multicollinearity or other numerical problems."
      ],
      "text/plain": [
       "<class 'statsmodels.iolib.summary.Summary'>\n",
       "\"\"\"\n",
       "                            OLS Regression Results                            \n",
       "==============================================================================\n",
       "Dep. Variable:                      y   R-squared:                       0.853\n",
       "Model:                            OLS   Adj. R-squared:                  0.851\n",
       "Method:                 Least Squares   F-statistic:                     463.0\n",
       "Date:                Sun, 23 Jun 2024   Prob (F-statistic):           5.17e-35\n",
       "Time:                        17:47:28   Log-Likelihood:                -128.35\n",
       "No. Observations:                  82   AIC:                             260.7\n",
       "Df Residuals:                      80   BIC:                             265.5\n",
       "Df Model:                           1                                         \n",
       "Covariance Type:            nonrobust                                         \n",
       "==============================================================================\n",
       "                 coef    std err          t      P>|t|      [0.025      0.975]\n",
       "------------------------------------------------------------------------------\n",
       "const      -2389.3486    112.022    -21.329      0.000   -2612.279   -2166.418\n",
       "x1             1.1932      0.055     21.518      0.000       1.083       1.304\n",
       "==============================================================================\n",
       "Omnibus:                       20.127   Durbin-Watson:                   1.842\n",
       "Prob(Omnibus):                  0.000   Jarque-Bera (JB):               30.406\n",
       "Skew:                           1.015   Prob(JB):                     2.50e-07\n",
       "Kurtosis:                       5.187   Cond. No.                     1.75e+06\n",
       "==============================================================================\n",
       "\n",
       "Notes:\n",
       "[1] Standard Errors assume that the covariance matrix of the errors is correctly specified.\n",
       "[2] The condition number is large, 1.75e+06. This might indicate that there are\n",
       "strong multicollinearity or other numerical problems.\n",
       "\"\"\""
      ]
     },
     "execution_count": 35,
     "metadata": {},
     "output_type": "execute_result"
    }
   ],
   "source": [
    "closed_reg_results = fit_ols_regression(\n",
    "    filtered_access_df[filtered_access_df['Model open/closed'] == 'Closed'],\n",
    "    ['Publication date (float)'],\n",
    "    'Training compute (FLOP)',\n",
    "    logy=True\n",
    ")\n",
    "closed_reg_results.summary()"
   ]
  },
  {
   "cell_type": "code",
   "execution_count": 36,
   "metadata": {},
   "outputs": [
    {
     "name": "stdout",
     "output_type": "stream",
     "text": [
      "All:\n",
      "Adj. R^2=0.83\n",
      "1.10 OOMs/year (95% CI: 1.02, 1.18)\n",
      "12.5x/year (95% CI: 10.4x, 15.0x)\n",
      "doubling time of 3 months (95% CI: 3, 4)\n",
      "Open:\n",
      "Adj. R^2=0.80\n",
      "0.99 OOMs/year (95% CI: 0.88, 1.10)\n",
      "9.8x/year (95% CI: 7.6x, 12.7x)\n",
      "doubling time of 4 months (95% CI: 3, 4)\n",
      "Closed:\n",
      "Adj. R^2=0.85\n",
      "1.19 OOMs/year (95% CI: 1.08, 1.30)\n",
      "15.6x/year (95% CI: 12.1x, 20.1x)\n",
      "doubling time of 3 months (95% CI: 3, 3)\n"
     ]
    }
   ],
   "source": [
    "print('All:')\n",
    "print_growth_rates(reg_results)\n",
    "print('Open:')\n",
    "print_growth_rates(open_reg_results)\n",
    "print('Closed:')\n",
    "print_growth_rates(closed_reg_results)"
   ]
  },
  {
   "cell_type": "code",
   "execution_count": 37,
   "metadata": {},
   "outputs": [
    {
     "data": {
      "text/plain": [
       "<statsmodels.regression.linear_model.RegressionResultsWrapper at 0x16baf2540>"
      ]
     },
     "execution_count": 37,
     "metadata": {},
     "output_type": "execute_result"
    }
   ],
   "source": [
    "closed_reg_results"
   ]
  },
  {
   "cell_type": "markdown",
   "metadata": {},
   "source": [
    "## Predictions"
   ]
  },
  {
   "cell_type": "code",
   "execution_count": 38,
   "metadata": {},
   "outputs": [
    {
     "data": {
      "text/html": [
       "<div>\n",
       "<style scoped>\n",
       "    .dataframe tbody tr th:only-of-type {\n",
       "        vertical-align: middle;\n",
       "    }\n",
       "\n",
       "    .dataframe tbody tr th {\n",
       "        vertical-align: top;\n",
       "    }\n",
       "\n",
       "    .dataframe thead th {\n",
       "        text-align: right;\n",
       "    }\n",
       "</style>\n",
       "<table border=\"1\" class=\"dataframe\">\n",
       "  <thead>\n",
       "    <tr style=\"text-align: right;\">\n",
       "      <th></th>\n",
       "      <th>Publication date (float)</th>\n",
       "    </tr>\n",
       "  </thead>\n",
       "  <tbody>\n",
       "    <tr>\n",
       "      <th>0</th>\n",
       "      <td>2015.000000</td>\n",
       "    </tr>\n",
       "    <tr>\n",
       "      <th>1</th>\n",
       "      <td>2015.083333</td>\n",
       "    </tr>\n",
       "    <tr>\n",
       "      <th>2</th>\n",
       "      <td>2015.166667</td>\n",
       "    </tr>\n",
       "    <tr>\n",
       "      <th>3</th>\n",
       "      <td>2015.250000</td>\n",
       "    </tr>\n",
       "    <tr>\n",
       "      <th>4</th>\n",
       "      <td>2015.333333</td>\n",
       "    </tr>\n",
       "    <tr>\n",
       "      <th>...</th>\n",
       "      <td>...</td>\n",
       "    </tr>\n",
       "    <tr>\n",
       "      <th>116</th>\n",
       "      <td>2024.666667</td>\n",
       "    </tr>\n",
       "    <tr>\n",
       "      <th>117</th>\n",
       "      <td>2024.750000</td>\n",
       "    </tr>\n",
       "    <tr>\n",
       "      <th>118</th>\n",
       "      <td>2024.833333</td>\n",
       "    </tr>\n",
       "    <tr>\n",
       "      <th>119</th>\n",
       "      <td>2024.916667</td>\n",
       "    </tr>\n",
       "    <tr>\n",
       "      <th>120</th>\n",
       "      <td>2025.000000</td>\n",
       "    </tr>\n",
       "  </tbody>\n",
       "</table>\n",
       "<p>121 rows × 1 columns</p>\n",
       "</div>"
      ],
      "text/plain": [
       "     Publication date (float)\n",
       "0                 2015.000000\n",
       "1                 2015.083333\n",
       "2                 2015.166667\n",
       "3                 2015.250000\n",
       "4                 2015.333333\n",
       "..                        ...\n",
       "116               2024.666667\n",
       "117               2024.750000\n",
       "118               2024.833333\n",
       "119               2024.916667\n",
       "120               2025.000000\n",
       "\n",
       "[121 rows x 1 columns]"
      ]
     },
     "execution_count": 38,
     "metadata": {},
     "output_type": "execute_result"
    }
   ],
   "source": [
    "pred_start_year = analysis_start_year\n",
    "pred_end_year = 2025\n",
    "pred_start_date = f'{pred_start_year}-01-01'\n",
    "pred_end_date = f'{pred_end_year}-01-01'\n",
    "num_preds = (pred_end_year - pred_start_year) * 12 + 1\n",
    "\n",
    "pred_years = pd.DataFrame({'Publication date (float)': np.linspace(pred_start_year, pred_end_year, num_preds)})\n",
    "pred_years"
   ]
  },
  {
   "cell_type": "code",
   "execution_count": 39,
   "metadata": {},
   "outputs": [
    {
     "data": {
      "text/html": [
       "<div>\n",
       "<style scoped>\n",
       "    .dataframe tbody tr th:only-of-type {\n",
       "        vertical-align: middle;\n",
       "    }\n",
       "\n",
       "    .dataframe tbody tr th {\n",
       "        vertical-align: top;\n",
       "    }\n",
       "\n",
       "    .dataframe thead th {\n",
       "        text-align: right;\n",
       "    }\n",
       "</style>\n",
       "<table border=\"1\" class=\"dataframe\">\n",
       "  <thead>\n",
       "    <tr style=\"text-align: right;\">\n",
       "      <th></th>\n",
       "      <th>mean</th>\n",
       "      <th>mean_se</th>\n",
       "      <th>mean_ci_lower</th>\n",
       "      <th>mean_ci_upper</th>\n",
       "      <th>obs_ci_lower</th>\n",
       "      <th>obs_ci_upper</th>\n",
       "      <th>Publication date (float)</th>\n",
       "      <th>Publication date</th>\n",
       "    </tr>\n",
       "  </thead>\n",
       "  <tbody>\n",
       "    <tr>\n",
       "      <th>0</th>\n",
       "      <td>15.798693</td>\n",
       "      <td>0.358656</td>\n",
       "      <td>15.084367</td>\n",
       "      <td>16.513019</td>\n",
       "      <td>13.704064</td>\n",
       "      <td>17.893322</td>\n",
       "      <td>2015.000000</td>\n",
       "      <td>2015-01-01</td>\n",
       "    </tr>\n",
       "    <tr>\n",
       "      <th>1</th>\n",
       "      <td>15.881330</td>\n",
       "      <td>0.354193</td>\n",
       "      <td>15.175894</td>\n",
       "      <td>16.586765</td>\n",
       "      <td>13.789716</td>\n",
       "      <td>17.972943</td>\n",
       "      <td>2015.083333</td>\n",
       "      <td>2015-01-31</td>\n",
       "    </tr>\n",
       "    <tr>\n",
       "      <th>2</th>\n",
       "      <td>15.963966</td>\n",
       "      <td>0.349735</td>\n",
       "      <td>15.267408</td>\n",
       "      <td>16.660524</td>\n",
       "      <td>13.875330</td>\n",
       "      <td>18.052602</td>\n",
       "      <td>2015.166667</td>\n",
       "      <td>2015-03-02</td>\n",
       "    </tr>\n",
       "    <tr>\n",
       "      <th>3</th>\n",
       "      <td>16.046603</td>\n",
       "      <td>0.345284</td>\n",
       "      <td>15.358910</td>\n",
       "      <td>16.734295</td>\n",
       "      <td>13.960906</td>\n",
       "      <td>18.132299</td>\n",
       "      <td>2015.250000</td>\n",
       "      <td>2015-04-02</td>\n",
       "    </tr>\n",
       "    <tr>\n",
       "      <th>4</th>\n",
       "      <td>16.129239</td>\n",
       "      <td>0.340840</td>\n",
       "      <td>15.450398</td>\n",
       "      <td>16.808080</td>\n",
       "      <td>14.046445</td>\n",
       "      <td>18.212034</td>\n",
       "      <td>2015.333333</td>\n",
       "      <td>2015-05-02</td>\n",
       "    </tr>\n",
       "    <tr>\n",
       "      <th>...</th>\n",
       "      <td>...</td>\n",
       "      <td>...</td>\n",
       "      <td>...</td>\n",
       "      <td>...</td>\n",
       "      <td>...</td>\n",
       "      <td>...</td>\n",
       "      <td>...</td>\n",
       "      <td>...</td>\n",
       "    </tr>\n",
       "    <tr>\n",
       "      <th>116</th>\n",
       "      <td>25.384532</td>\n",
       "      <td>0.233276</td>\n",
       "      <td>24.919922</td>\n",
       "      <td>25.849142</td>\n",
       "      <td>23.361398</td>\n",
       "      <td>27.407666</td>\n",
       "      <td>2024.666667</td>\n",
       "      <td>2024-09-01</td>\n",
       "    </tr>\n",
       "    <tr>\n",
       "      <th>117</th>\n",
       "      <td>25.467168</td>\n",
       "      <td>0.237412</td>\n",
       "      <td>24.994322</td>\n",
       "      <td>25.940015</td>\n",
       "      <td>23.442127</td>\n",
       "      <td>27.492210</td>\n",
       "      <td>2024.750000</td>\n",
       "      <td>2024-10-01</td>\n",
       "    </tr>\n",
       "    <tr>\n",
       "      <th>118</th>\n",
       "      <td>25.549805</td>\n",
       "      <td>0.241568</td>\n",
       "      <td>25.068680</td>\n",
       "      <td>26.030930</td>\n",
       "      <td>23.522815</td>\n",
       "      <td>27.576795</td>\n",
       "      <td>2024.833333</td>\n",
       "      <td>2024-10-31</td>\n",
       "    </tr>\n",
       "    <tr>\n",
       "      <th>119</th>\n",
       "      <td>25.632442</td>\n",
       "      <td>0.245745</td>\n",
       "      <td>25.142999</td>\n",
       "      <td>26.121884</td>\n",
       "      <td>23.603461</td>\n",
       "      <td>27.661422</td>\n",
       "      <td>2024.916667</td>\n",
       "      <td>2024-12-01</td>\n",
       "    </tr>\n",
       "    <tr>\n",
       "      <th>120</th>\n",
       "      <td>25.715078</td>\n",
       "      <td>0.249939</td>\n",
       "      <td>25.217281</td>\n",
       "      <td>26.212875</td>\n",
       "      <td>23.684066</td>\n",
       "      <td>27.746090</td>\n",
       "      <td>2025.000000</td>\n",
       "      <td>2025-01-01</td>\n",
       "    </tr>\n",
       "  </tbody>\n",
       "</table>\n",
       "<p>121 rows × 8 columns</p>\n",
       "</div>"
      ],
      "text/plain": [
       "          mean   mean_se  mean_ci_lower  mean_ci_upper  obs_ci_lower  \\\n",
       "0    15.798693  0.358656      15.084367      16.513019     13.704064   \n",
       "1    15.881330  0.354193      15.175894      16.586765     13.789716   \n",
       "2    15.963966  0.349735      15.267408      16.660524     13.875330   \n",
       "3    16.046603  0.345284      15.358910      16.734295     13.960906   \n",
       "4    16.129239  0.340840      15.450398      16.808080     14.046445   \n",
       "..         ...       ...            ...            ...           ...   \n",
       "116  25.384532  0.233276      24.919922      25.849142     23.361398   \n",
       "117  25.467168  0.237412      24.994322      25.940015     23.442127   \n",
       "118  25.549805  0.241568      25.068680      26.030930     23.522815   \n",
       "119  25.632442  0.245745      25.142999      26.121884     23.603461   \n",
       "120  25.715078  0.249939      25.217281      26.212875     23.684066   \n",
       "\n",
       "     obs_ci_upper  Publication date (float) Publication date  \n",
       "0       17.893322               2015.000000       2015-01-01  \n",
       "1       17.972943               2015.083333       2015-01-31  \n",
       "2       18.052602               2015.166667       2015-03-02  \n",
       "3       18.132299               2015.250000       2015-04-02  \n",
       "4       18.212034               2015.333333       2015-05-02  \n",
       "..            ...                       ...              ...  \n",
       "116     27.407666               2024.666667       2024-09-01  \n",
       "117     27.492210               2024.750000       2024-10-01  \n",
       "118     27.576795               2024.833333       2024-10-31  \n",
       "119     27.661422               2024.916667       2024-12-01  \n",
       "120     27.746090               2025.000000       2025-01-01  \n",
       "\n",
       "[121 rows x 8 columns]"
      ]
     },
     "execution_count": 39,
     "metadata": {},
     "output_type": "execute_result"
    }
   ],
   "source": [
    "predicted_open_df = get_predictions(open_reg_results, pred_years, ['Publication date (float)'])\n",
    "predicted_open_df['Publication date'] = predicted_open_df['Publication date (float)'].apply(float_year_to_datetime)\n",
    "predicted_open_df"
   ]
  },
  {
   "cell_type": "code",
   "execution_count": 40,
   "metadata": {},
   "outputs": [],
   "source": [
    "predicted_open_df.set_index('Publication date', inplace=True)"
   ]
  },
  {
   "cell_type": "code",
   "execution_count": 41,
   "metadata": {},
   "outputs": [
    {
     "data": {
      "text/html": [
       "<div>\n",
       "<style scoped>\n",
       "    .dataframe tbody tr th:only-of-type {\n",
       "        vertical-align: middle;\n",
       "    }\n",
       "\n",
       "    .dataframe tbody tr th {\n",
       "        vertical-align: top;\n",
       "    }\n",
       "\n",
       "    .dataframe thead th {\n",
       "        text-align: right;\n",
       "    }\n",
       "</style>\n",
       "<table border=\"1\" class=\"dataframe\">\n",
       "  <thead>\n",
       "    <tr style=\"text-align: right;\">\n",
       "      <th></th>\n",
       "      <th>mean</th>\n",
       "      <th>mean_se</th>\n",
       "      <th>mean_ci_lower</th>\n",
       "      <th>mean_ci_upper</th>\n",
       "      <th>obs_ci_lower</th>\n",
       "      <th>obs_ci_upper</th>\n",
       "      <th>Publication date (float)</th>\n",
       "      <th>Publication date</th>\n",
       "    </tr>\n",
       "  </thead>\n",
       "  <tbody>\n",
       "    <tr>\n",
       "      <th>0</th>\n",
       "      <td>14.962775</td>\n",
       "      <td>0.315296</td>\n",
       "      <td>14.335317</td>\n",
       "      <td>15.590234</td>\n",
       "      <td>12.547656</td>\n",
       "      <td>17.377895</td>\n",
       "      <td>2015.000000</td>\n",
       "      <td>2015-01-01</td>\n",
       "    </tr>\n",
       "    <tr>\n",
       "      <th>1</th>\n",
       "      <td>15.062209</td>\n",
       "      <td>0.311088</td>\n",
       "      <td>14.443125</td>\n",
       "      <td>15.681294</td>\n",
       "      <td>12.649252</td>\n",
       "      <td>17.475167</td>\n",
       "      <td>2015.083333</td>\n",
       "      <td>2015-01-31</td>\n",
       "    </tr>\n",
       "    <tr>\n",
       "      <th>2</th>\n",
       "      <td>15.161643</td>\n",
       "      <td>0.306892</td>\n",
       "      <td>14.550909</td>\n",
       "      <td>15.772377</td>\n",
       "      <td>12.750814</td>\n",
       "      <td>17.572472</td>\n",
       "      <td>2015.166667</td>\n",
       "      <td>2015-03-02</td>\n",
       "    </tr>\n",
       "    <tr>\n",
       "      <th>3</th>\n",
       "      <td>15.261077</td>\n",
       "      <td>0.302708</td>\n",
       "      <td>14.658669</td>\n",
       "      <td>15.863485</td>\n",
       "      <td>12.852344</td>\n",
       "      <td>17.669810</td>\n",
       "      <td>2015.250000</td>\n",
       "      <td>2015-04-02</td>\n",
       "    </tr>\n",
       "    <tr>\n",
       "      <th>4</th>\n",
       "      <td>15.360511</td>\n",
       "      <td>0.298537</td>\n",
       "      <td>14.766403</td>\n",
       "      <td>15.954619</td>\n",
       "      <td>12.953840</td>\n",
       "      <td>17.767182</td>\n",
       "      <td>2015.333333</td>\n",
       "      <td>2015-05-02</td>\n",
       "    </tr>\n",
       "    <tr>\n",
       "      <th>...</th>\n",
       "      <td>...</td>\n",
       "      <td>...</td>\n",
       "      <td>...</td>\n",
       "      <td>...</td>\n",
       "      <td>...</td>\n",
       "      <td>...</td>\n",
       "      <td>...</td>\n",
       "      <td>...</td>\n",
       "    </tr>\n",
       "    <tr>\n",
       "      <th>116</th>\n",
       "      <td>26.497106</td>\n",
       "      <td>0.280195</td>\n",
       "      <td>25.939501</td>\n",
       "      <td>27.054712</td>\n",
       "      <td>24.099186</td>\n",
       "      <td>28.895027</td>\n",
       "      <td>2024.666667</td>\n",
       "      <td>2024-09-01</td>\n",
       "    </tr>\n",
       "    <tr>\n",
       "      <th>117</th>\n",
       "      <td>26.596540</td>\n",
       "      <td>0.284301</td>\n",
       "      <td>26.030763</td>\n",
       "      <td>27.162318</td>\n",
       "      <td>24.196706</td>\n",
       "      <td>28.996374</td>\n",
       "      <td>2024.750000</td>\n",
       "      <td>2024-10-01</td>\n",
       "    </tr>\n",
       "    <tr>\n",
       "      <th>118</th>\n",
       "      <td>26.695974</td>\n",
       "      <td>0.288423</td>\n",
       "      <td>26.121994</td>\n",
       "      <td>27.269955</td>\n",
       "      <td>24.294193</td>\n",
       "      <td>29.097755</td>\n",
       "      <td>2024.833333</td>\n",
       "      <td>2024-10-31</td>\n",
       "    </tr>\n",
       "    <tr>\n",
       "      <th>119</th>\n",
       "      <td>26.795408</td>\n",
       "      <td>0.292560</td>\n",
       "      <td>26.213195</td>\n",
       "      <td>27.377622</td>\n",
       "      <td>24.391646</td>\n",
       "      <td>29.199170</td>\n",
       "      <td>2024.916667</td>\n",
       "      <td>2024-12-01</td>\n",
       "    </tr>\n",
       "    <tr>\n",
       "      <th>120</th>\n",
       "      <td>26.894842</td>\n",
       "      <td>0.296712</td>\n",
       "      <td>26.304367</td>\n",
       "      <td>27.485317</td>\n",
       "      <td>24.489066</td>\n",
       "      <td>29.300618</td>\n",
       "      <td>2025.000000</td>\n",
       "      <td>2025-01-01</td>\n",
       "    </tr>\n",
       "  </tbody>\n",
       "</table>\n",
       "<p>121 rows × 8 columns</p>\n",
       "</div>"
      ],
      "text/plain": [
       "          mean   mean_se  mean_ci_lower  mean_ci_upper  obs_ci_lower  \\\n",
       "0    14.962775  0.315296      14.335317      15.590234     12.547656   \n",
       "1    15.062209  0.311088      14.443125      15.681294     12.649252   \n",
       "2    15.161643  0.306892      14.550909      15.772377     12.750814   \n",
       "3    15.261077  0.302708      14.658669      15.863485     12.852344   \n",
       "4    15.360511  0.298537      14.766403      15.954619     12.953840   \n",
       "..         ...       ...            ...            ...           ...   \n",
       "116  26.497106  0.280195      25.939501      27.054712     24.099186   \n",
       "117  26.596540  0.284301      26.030763      27.162318     24.196706   \n",
       "118  26.695974  0.288423      26.121994      27.269955     24.294193   \n",
       "119  26.795408  0.292560      26.213195      27.377622     24.391646   \n",
       "120  26.894842  0.296712      26.304367      27.485317     24.489066   \n",
       "\n",
       "     obs_ci_upper  Publication date (float) Publication date  \n",
       "0       17.377895               2015.000000       2015-01-01  \n",
       "1       17.475167               2015.083333       2015-01-31  \n",
       "2       17.572472               2015.166667       2015-03-02  \n",
       "3       17.669810               2015.250000       2015-04-02  \n",
       "4       17.767182               2015.333333       2015-05-02  \n",
       "..            ...                       ...              ...  \n",
       "116     28.895027               2024.666667       2024-09-01  \n",
       "117     28.996374               2024.750000       2024-10-01  \n",
       "118     29.097755               2024.833333       2024-10-31  \n",
       "119     29.199170               2024.916667       2024-12-01  \n",
       "120     29.300618               2025.000000       2025-01-01  \n",
       "\n",
       "[121 rows x 8 columns]"
      ]
     },
     "execution_count": 41,
     "metadata": {},
     "output_type": "execute_result"
    }
   ],
   "source": [
    "predicted_closed_df = get_predictions(closed_reg_results, pred_years, ['Publication date (float)'])\n",
    "predicted_closed_df['Publication date'] = predicted_closed_df['Publication date (float)'].apply(float_year_to_datetime)\n",
    "predicted_closed_df"
   ]
  },
  {
   "cell_type": "code",
   "execution_count": 42,
   "metadata": {},
   "outputs": [],
   "source": [
    "predicted_closed_df.set_index('Publication date', inplace=True)"
   ]
  },
  {
   "cell_type": "markdown",
   "metadata": {},
   "source": [
    "## Differences between trends"
   ]
  },
  {
   "cell_type": "code",
   "execution_count": 43,
   "metadata": {},
   "outputs": [],
   "source": [
    "NUM_SAMPLES = 1000"
   ]
  },
  {
   "cell_type": "code",
   "execution_count": 44,
   "metadata": {},
   "outputs": [
    {
     "data": {
      "text/plain": [
       "array([[-2.20946106e+03, -1.75524466e+03],\n",
       "       [ 8.79266554e-01,  1.10401042e+00]])"
      ]
     },
     "execution_count": 44,
     "metadata": {},
     "output_type": "execute_result"
    }
   ],
   "source": [
    "open_reg_results.conf_int()"
   ]
  },
  {
   "cell_type": "code",
   "execution_count": 45,
   "metadata": {},
   "outputs": [
    {
     "data": {
      "text/plain": [
       "2020.4782695955755"
      ]
     },
     "execution_count": 45,
     "metadata": {},
     "output_type": "execute_result"
    }
   ],
   "source": [
    "median_date = datetime_to_float_year(pd.to_datetime(filtered_access_df['Publication date'])).median()\n",
    "median_date"
   ]
  },
  {
   "cell_type": "code",
   "execution_count": 46,
   "metadata": {},
   "outputs": [
    {
     "data": {
      "text/plain": [
       "{'open': (20.999463350894768, 21.46284891857319),\n",
       " 'closed': (21.239910066866802, 21.759056267024473)}"
      ]
     },
     "execution_count": 46,
     "metadata": {},
     "output_type": "execute_result"
    }
   ],
   "source": [
    "compute_refs = {}\n",
    "for key, value in {'open': open_reg_results, 'closed': closed_reg_results}.items():\n",
    "    X = np.array([median_date, 1])  # dummy 1 value makes this work\n",
    "    X = sm.add_constant(X)\n",
    "    ref_preds = value.get_prediction(X).summary_frame()\n",
    "    compute_ref_low = ref_preds['mean_ci_lower'][0]\n",
    "    compute_ref_high = ref_preds['mean_ci_upper'][0]\n",
    "    compute_refs[key] = compute_ref_low, compute_ref_high\n",
    "compute_refs"
   ]
  },
  {
   "cell_type": "code",
   "execution_count": 47,
   "metadata": {},
   "outputs": [],
   "source": [
    "# Open\n",
    "open_ci = open_reg_results.conf_int()\n",
    "open_slope = lognorm_from_90_ci(\n",
    "    10**open_ci[1][0],\n",
    "    10**open_ci[1][1],\n",
    "    NUM_SAMPLES,\n",
    ")\n",
    "# Closed\n",
    "closed_ci = closed_reg_results.conf_int()\n",
    "closed_slope = lognorm_from_90_ci(\n",
    "    10**closed_ci[1][0],\n",
    "    10**closed_ci[1][1],\n",
    "    NUM_SAMPLES,\n",
    ")"
   ]
  },
  {
   "cell_type": "code",
   "execution_count": 48,
   "metadata": {},
   "outputs": [
    {
     "name": "stdout",
     "output_type": "stream",
     "text": [
      "Median: 9.8 [90% CI: 7.5, 13]\n",
      "Median: 16 [90% CI: 12, 20]\n"
     ]
    }
   ],
   "source": [
    "print_median_and_ci(open_slope)\n",
    "print_median_and_ci(closed_slope)"
   ]
  },
  {
   "cell_type": "code",
   "execution_count": 49,
   "metadata": {},
   "outputs": [
    {
     "name": "stdout",
     "output_type": "stream",
     "text": [
      "Median: 1.2e+25 [90% CI: 4.2e+24, 2.9e+25]\n"
     ]
    }
   ],
   "source": [
    "# Calculate when the closed compute trend was equal to the open compute trend today\n",
    "current_date = '2024-05-01'\n",
    "current_open_compute_df = predicted_open_df.loc[current_date]\n",
    "current_open_compute = lognorm_from_90_ci(\n",
    "    10**current_open_compute_df['mean_ci_lower'],\n",
    "    10**current_open_compute_df['mean_ci_upper'],\n",
    "    NUM_SAMPLES,\n",
    ")\n",
    "print_median_and_ci(current_open_compute)"
   ]
  },
  {
   "cell_type": "code",
   "execution_count": 50,
   "metadata": {},
   "outputs": [
    {
     "name": "stdout",
     "output_type": "stream",
     "text": [
      "Median: 1.3e+26 [90% CI: 4e+25, 4e+26]\n"
     ]
    }
   ],
   "source": [
    "# Same for closed\n",
    "current_closed_compute_df = predicted_closed_df.loc[current_date]\n",
    "current_closed_compute = lognorm_from_90_ci(\n",
    "    10**current_closed_compute_df['mean_ci_lower'],\n",
    "    10**current_closed_compute_df['mean_ci_upper'],\n",
    "    NUM_SAMPLES,\n",
    ")\n",
    "print_median_and_ci(current_closed_compute)"
   ]
  },
  {
   "cell_type": "code",
   "execution_count": 51,
   "metadata": {},
   "outputs": [
    {
     "name": "stdout",
     "output_type": "stream",
     "text": [
      "Open access models are 1.0 OOMs [0.2; 1.8] behind closed access models\n"
     ]
    }
   ],
   "source": [
    "compute_gap = np.log10(current_closed_compute) - np.log10(current_open_compute)\n",
    "print(\n",
    "    f'Open access models are {np.median(compute_gap):.1f} OOMs ' + \n",
    "    f'[{np.percentile(compute_gap, 2.5):.1f}; {np.percentile(compute_gap, 97.5):.1f}] ' + \n",
    "    'behind closed access models'\n",
    ")"
   ]
  },
  {
   "cell_type": "code",
   "execution_count": 52,
   "metadata": {},
   "outputs": [],
   "source": [
    "# Calculate when the closed compute trend was equal to the open compute trend today\n",
    "\n",
    "np.random.seed(42)\n",
    "open_filtered_access_df =  filtered_access_df[filtered_access_df['Model open/closed'] == 'Open']\n",
    "closed_filtered_access_df = filtered_access_df[filtered_access_df['Model open/closed'] == 'Closed']\n",
    "\n",
    "n_bootstrap = 1000\n",
    "open_filtered_access_bootstrap_indices = [np.arange(0, len(open_filtered_access_df))] + \\\n",
    "                                          [np.random.choice(np.arange(0, len(open_filtered_access_df)), size=len(open_filtered_access_df), replace=True) for _ in range(n_bootstrap)]\n",
    "closed_filtered_access_bootstrap_indices = [np.arange(0, len(closed_filtered_access_df))] + \\\n",
    "                                            [np.random.choice(np.arange(0, len(closed_filtered_access_df)), size=len(closed_filtered_access_df), replace=True) for _ in range(n_bootstrap)]\n",
    "\n",
    "current_date_float = 2024.35\n",
    "results_date_float = []\n",
    "\n",
    "for i in range(n_bootstrap+1):\n",
    "    open_reg_results_current = fit_ols_regression(\n",
    "        open_filtered_access_df.iloc[open_filtered_access_bootstrap_indices[i]],\n",
    "        ['Publication date (float)'],\n",
    "        'Training compute (FLOP)',\n",
    "        logy=True\n",
    "    )\n",
    "\n",
    "    closed_reg_results_current = fit_ols_regression(\n",
    "        closed_filtered_access_df.iloc[closed_filtered_access_bootstrap_indices[i]],\n",
    "        ['Publication date (float)'],\n",
    "        'Training compute (FLOP)',\n",
    "        logy=True\n",
    "    )\n",
    "\n",
    "    alpha_o, beta_o = open_reg_results_current.params\n",
    "    alpha_c, beta_c = closed_reg_results_current.params\n",
    "\n",
    "    current_log10_compute = alpha_o + beta_o*current_date_float\n",
    "    results_date_float.append((current_log10_compute - alpha_c)/beta_c)"
   ]
  },
  {
   "cell_type": "code",
   "execution_count": 53,
   "metadata": {},
   "outputs": [
    {
     "name": "stdout",
     "output_type": "stream",
     "text": [
      "Point estimate: 2023.4711\n",
      "Standard error: 0.2130 years\n"
     ]
    }
   ],
   "source": [
    "print(\"Point estimate: %.4f\" % (results_date_float[0]))\n",
    "print(\"Standard error: %.4f years\" % (np.std(results_date_float[1:])))"
   ]
  },
  {
   "cell_type": "code",
   "execution_count": 54,
   "metadata": {},
   "outputs": [
    {
     "data": {
      "text/plain": [
       "24.971349174184525"
      ]
     },
     "execution_count": 54,
     "metadata": {},
     "output_type": "execute_result"
    }
   ],
   "source": [
    "current_date = 2024.25\n",
    "current_open_compute = open_reg_results.params[1] * current_date + open_reg_results.params[0]\n",
    "current_open_compute"
   ]
  },
  {
   "cell_type": "code",
   "execution_count": 55,
   "metadata": {},
   "outputs": [
    {
     "data": {
      "text/plain": [
       "2023.387963392524"
      ]
     },
     "execution_count": 55,
     "metadata": {},
     "output_type": "execute_result"
    }
   ],
   "source": [
    "closed_compute_match_date = (current_open_compute - closed_reg_results.params[0]) / closed_reg_results.params[1]\n",
    "closed_compute_match_date"
   ]
  },
  {
   "cell_type": "code",
   "execution_count": 56,
   "metadata": {},
   "outputs": [
    {
     "name": "stdout",
     "output_type": "stream",
     "text": [
      "Open access models are 0.9 years behind closed access models\n"
     ]
    }
   ],
   "source": [
    "open_time_lag = current_date - closed_compute_match_date\n",
    "print(f'Open access models are {open_time_lag:.1f} years behind closed access models')"
   ]
  },
  {
   "cell_type": "markdown",
   "metadata": {},
   "source": [
    "# Plots"
   ]
  },
  {
   "cell_type": "code",
   "execution_count": 57,
   "metadata": {},
   "outputs": [
    {
     "data": {
      "application/vnd.plotly.v1+json": {
       "config": {
        "plotlyServerURL": "https://plot.ly"
       },
       "data": [
        {
         "customdata": [
          [
           "genCNN + dyn eval"
          ],
          [
           "Search-Proven Best LSTM"
          ],
          [
           "LSTM-Char-Large"
          ],
          [
           "Variational (untied weights, MC) LSTM (Large)"
          ],
          [
           "VD-RHN"
          ],
          [
           "Pointer Sentinel-LSTM (medium)"
          ],
          [
           "Zoneout + Variational LSTM (WT2)"
          ],
          [
           "VD-LSTM+REAL Large"
          ],
          [
           "Neural Architecture Search with base 8 and shared embeddings"
          ],
          [
           "MoE"
          ],
          [
           "Transformer"
          ],
          [
           "Densely Connected LSTM + Var. Dropout"
          ],
          [
           "AWD-LSTM - 3-layer LSTM (tied) + continuous cache pointer (WT2)"
          ],
          [
           "GL-LWGC-AWD-MoS-LSTM + dynamic evaluation (WT2)"
          ],
          [
           "Fraternal dropout + AWD-LSTM 3-layer (WT2)"
          ],
          [
           "AWD-LSTM-MoS + dynamic evaluation (WT2, 2017)"
          ],
          [
           "QRNN"
          ],
          [
           "4 layer QRNN (h=2500)"
          ],
          [
           "LSTM (Hebbian, Cache, MbPA)"
          ],
          [
           "Dropout-LSTM+Noise(Bernoulli) (WT2)"
          ],
          [
           "QT-Opt"
          ],
          [
           "TrellisNet"
          ],
          [
           "Hanabi 4 player"
          ],
          [
           "FAIRSEQ Adaptive Inputs"
          ],
          [
           "BERT-Large-CAS (PTB+WT2+WT103)"
          ],
          [
           "DLRM-2020"
          ],
          [
           "Transformer-XL Large + Phrase Induction"
          ],
          [
           "Tensorized Transformer (257M)"
          ],
          [
           "All-attention network + adaptive span"
          ],
          [
           "ResNet-152 + ObjectNet"
          ],
          [
           "Megatron-BERT"
          ],
          [
           "Megatron-LM (8.3B)"
          ],
          [
           "AlphaX-1"
          ],
          [
           "AlphaStar"
          ],
          [
           "Sandwich Transformer"
          ],
          [
           "Noisy Student (L2)"
          ],
          [
           "Compressive Transformers for Long-Range Sequence Modelling"
          ],
          [
           "MuZero"
          ],
          [
           "OpenAI Five"
          ],
          [
           "OpenAI Five Rerun"
          ],
          [
           "DD-PPO"
          ],
          [
           "ContextNet + Noisy Student"
          ],
          [
           "Meena"
          ],
          [
           "Turing-NLG"
          ],
          [
           "GPT3-6.7B (rerun of original)"
          ],
          [
           "GShard (dense)"
          ],
          [
           "GShard (600B)"
          ],
          [
           "Meta Pseudo Labels"
          ],
          [
           "PanGu-α"
          ],
          [
           "CoAtNet"
          ],
          [
           "GOAT"
          ],
          [
           "FLAN 137B"
          ],
          [
           "Megatron-Turing NLG 530B"
          ],
          [
           "Gopher (280B)"
          ],
          [
           "GLaM"
          ],
          [
           "LaMDA"
          ],
          [
           "Chinchilla"
          ],
          [
           "PaLM (540B)"
          ],
          [
           "Parti"
          ],
          [
           "Minerva (540B)"
          ],
          [
           "U-PaLM (540B)"
          ],
          [
           "Flan-PaLM 540B"
          ],
          [
           "MegaScale (Production)"
          ]
         ],
         "hovertemplate": "Model accessibility=Unreleased<br>Publication date=%{x}<br>Training compute (FLOP)=%{y}<br>System=%{customdata[0]}<extra></extra>",
         "legendgroup": "Unreleased",
         "marker": {
          "color": "#636efa",
          "symbol": "circle"
         },
         "mode": "markers",
         "name": "Unreleased",
         "orientation": "v",
         "showlegend": true,
         "type": "scatter",
         "x": [
          "2015-03-17",
          "2015-07-06",
          "2015-08-26",
          "2015-12-16",
          "2016-07-12",
          "2016-09-26",
          "2016-09-26",
          "2016-11-04",
          "2016-11-05",
          "2017-01-23",
          "2017-06-12",
          "2017-07-19",
          "2017-08-07",
          "2017-08-29",
          "2017-10-31",
          "2017-11-10",
          "2018-02-01",
          "2018-03-22",
          "2018-03-27",
          "2018-05-03",
          "2018-06-27",
          "2018-10-15",
          "2019-02-01",
          "2019-04-01",
          "2019-04-20",
          "2019-05-31",
          "2019-06-04",
          "2019-06-24",
          "2019-07-02",
          "2019-09-06",
          "2019-09-17",
          "2019-09-17",
          "2019-10-02",
          "2019-10-30",
          "2019-11-10",
          "2019-11-11",
          "2019-11-13",
          "2019-11-19",
          "2019-12-13",
          "2019-12-13",
          "2019-12-19",
          "2020-01-19",
          "2020-01-28",
          "2020-02-13",
          "2020-05-28",
          "2020-06-30",
          "2020-06-30",
          "2021-03-01",
          "2021-04-25",
          "2021-06-09",
          "2021-07-27",
          "2021-09-03",
          "2021-10-11",
          "2021-12-08",
          "2021-12-13",
          "2022-02-10",
          "2022-03-29",
          "2022-04-04",
          "2022-06-22",
          "2022-06-29",
          "2022-10-20",
          "2022-10-20",
          "2024-02-23"
         ],
         "xaxis": "x",
         "y": [
          73000000000000000,
          3340000000000000,
          2650000000000000,
          5620000000000000,
          3570000000000000,
          7490000000000000,
          16800000000000000,
          21300000000000000,
          10500000000000000,
          93939056640000000000,
          7424524800000000000,
          12800000000000000,
          309000000000000000,
          474000000000000000,
          98500000000000000,
          437000000000000000,
          360000000000000000,
          240000000000000000,
          24000000000000000000,
          127000000000000000,
          34875000000000000000,
          2780000000000000000,
          4300000000000000000,
          7300000000000000000,
          521000000000000000000,
          4000000000000000000,
          7300000000000000000,
          4760000000000000000,
          46000000000000000000,
          19400000000000000000,
          6.027e+22,
          9.1e+21,
          7600000000000000000,
          5.9250000000001e+22,
          158000000000000000000,
          849346560000000000000,
          160000000000000000000,
          48000000000000000000,
          6.7e+22,
          1.3e+22,
          780000000000000000000,
          8.16e+21,
          1.12e+23,
          1.57e+22,
          1.2e+22,
          1.28e+22,
          1.33e+22,
          4.79e+22,
          5.83e+22,
          4.27e+22,
          7.8e+22,
          4.896e+22,
          1.17e+24,
          6.31e+23,
          3.74e+23,
          3.55e+23,
          5.76e+23,
          2.5272e+24,
          3.962895376192635e+23,
          2.7415e+24,
          2.53e+24,
          2.4999999999999997e+24,
          1.2e+25
         ],
         "yaxis": "y"
        },
        {
         "customdata": [
          [
           "GNMT"
          ],
          [
           "PLUG"
          ],
          [
           "ERNIE 3.0 Titan"
          ],
          [
           "Inflection-1"
          ],
          [
           "Inflection-2"
          ],
          [
           "Gemini 1.0 Ultra"
          ],
          [
           "Inflection-2.5"
          ]
         ],
         "hovertemplate": "Model accessibility=Hosted access (no API)<br>Publication date=%{x}<br>Training compute (FLOP)=%{y}<br>System=%{customdata[0]}<extra></extra>",
         "legendgroup": "Hosted access (no API)",
         "marker": {
          "color": "#EF553B",
          "symbol": "circle"
         },
         "mode": "markers",
         "name": "Hosted access (no API)",
         "orientation": "v",
         "showlegend": true,
         "type": "scatter",
         "x": [
          "2016-09-26",
          "2021-04-19",
          "2021-12-23",
          "2023-06-23",
          "2023-11-22",
          "2023-12-06",
          "2024-03-07"
         ],
         "xaxis": "x",
         "y": [
          6.620000000001001e+21,
          3.5997695999999996e+22,
          1.0421e+24,
          1.0001e+24,
          1.001e+25,
          5.0000000001e+25,
          1.0001e+25
         ],
         "yaxis": "y"
        },
        {
         "customdata": [
          [
           "SPIDER2"
          ],
          [
           "UniRep"
          ],
          [
           "XGLM-7.5B"
          ],
          [
           "OPT-175B"
          ],
          [
           "OPT-66B"
          ],
          [
           "OPT-30B"
          ],
          [
           "GLM-130B"
          ],
          [
           "BlenderBot 3"
          ],
          [
           "Galactica"
          ],
          [
           "OPT-IML (175B)"
          ],
          [
           "LLaMA-65B"
          ],
          [
           "LLaMA-33B"
          ]
         ],
         "hovertemplate": "Model accessibility=Open access (non-commercial)<br>Publication date=%{x}<br>Training compute (FLOP)=%{y}<br>System=%{customdata[0]}<extra></extra>",
         "legendgroup": "Open access (non-commercial)",
         "marker": {
          "color": "#00cc96",
          "symbol": "circle"
         },
         "mode": "markers",
         "name": "Open access (non-commercial)",
         "orientation": "v",
         "showlegend": true,
         "type": "scatter",
         "x": [
          "2016-10-28",
          "2019-03-26",
          "2021-12-20",
          "2022-05-02",
          "2022-06-21",
          "2022-06-21",
          "2022-08-04",
          "2022-08-10",
          "2022-11-16",
          "2022-12-22",
          "2023-02-24",
          "2023-02-27"
         ],
         "xaxis": "x",
         "y": [
          8540000000000,
          22000000000000000000,
          4.347592704e+22,
          4.3e+23,
          1.100000000001e+23,
          5.4000000000001e+22,
          3.778e+23,
          4.3e+23,
          3.24e+23,
          4.3e+23,
          5.5e+23,
          2.7300000000000996e+23
         ],
         "yaxis": "y"
        },
        {
         "customdata": [
          [
           "BIDAF"
          ],
          [
           "AlexNet + coordinating filters"
          ],
          [
           "ULM-FiT"
          ],
          [
           "DNCON2"
          ],
          [
           "GPT"
          ],
          [
           "Big-Little Net"
          ],
          [
           "Big-Little Net (vision)"
          ],
          [
           "Big-Little Net (speech)"
          ],
          [
           "(ensemble): AWD-LSTM-DOC (fin) × 5 (WT2)"
          ],
          [
           "BigGAN-deep 512x512"
          ],
          [
           "Transformer (Adaptive Input Embeddings) WT103"
          ],
          [
           "BERT-Large"
          ],
          [
           "Decoupled weight decay regularization"
          ],
          [
           "Transformer-XL (257M)"
          ],
          [
           "GPT-2 (1.5B)"
          ],
          [
           "ProxylessNAS"
          ],
          [
           "KataGo"
          ],
          [
           "SciBERT"
          ],
          [
           "MnasNet-A3"
          ],
          [
           "MnasNet-A1 + SSDLite"
          ],
          [
           "XLNet"
          ],
          [
           "RoBERTa Large"
          ],
          [
           "Megatron-LM (355M)"
          ],
          [
           "T5-3B"
          ],
          [
           "T5-11B"
          ],
          [
           "CamemBERT"
          ],
          [
           "ALBERT-xxlarge"
          ],
          [
           "ELECTRA"
          ],
          [
           "Once for All"
          ],
          [
           "iGPT-XL"
          ],
          [
           "iGPT-L"
          ],
          [
           "mBART-50"
          ],
          [
           "mT5-XXL"
          ],
          [
           "ViT-Huge/14"
          ],
          [
           "CLIP (ViT L/14@336px)"
          ],
          [
           "Switch"
          ],
          [
           "MSA Transformer"
          ],
          [
           "ResNet-RS"
          ],
          [
           "GLM-10B"
          ],
          [
           "GPT-J-6B"
          ],
          [
           "ProtT5-XXL"
          ],
          [
           "ProtT5-XXL-BFD"
          ],
          [
           "ProtBERT-BFD"
          ],
          [
           "CogView"
          ],
          [
           "ByT5-XXL"
          ],
          [
           "GPT-NeoX-20B"
          ],
          [
           "UL2"
          ],
          [
           "YaLM"
          ],
          [
           "ESM2-15B"
          ],
          [
           "Whisper v2"
          ],
          [
           "Falcon-40B"
          ],
          [
           "Grok-1"
          ]
         ],
         "hovertemplate": "Model accessibility=Open source<br>Publication date=%{x}<br>Training compute (FLOP)=%{y}<br>System=%{customdata[0]}<extra></extra>",
         "legendgroup": "Open source",
         "marker": {
          "color": "#ab63fa",
          "symbol": "circle"
         },
         "mode": "markers",
         "name": "Open source",
         "orientation": "v",
         "showlegend": true,
         "type": "scatter",
         "x": [
          "2016-11-05",
          "2017-03-28",
          "2018-01-18",
          "2018-05-01",
          "2018-06-01",
          "2018-07-10",
          "2018-07-10",
          "2018-07-10",
          "2018-08-30",
          "2018-09-28",
          "2018-09-28",
          "2018-10-11",
          "2019-01-04",
          "2019-01-09",
          "2019-02-14",
          "2019-02-23",
          "2019-02-27",
          "2019-03-26",
          "2019-05-29",
          "2019-05-29",
          "2019-06-01",
          "2019-07-01",
          "2019-09-17",
          "2019-10-23",
          "2019-10-23",
          "2019-11-10",
          "2020-02-09",
          "2020-03-23",
          "2020-04-29",
          "2020-06-17",
          "2020-06-17",
          "2020-08-02",
          "2020-10-20",
          "2020-10-22",
          "2021-01-05",
          "2021-01-11",
          "2021-02-13",
          "2021-03-13",
          "2021-03-18",
          "2021-05-01",
          "2021-05-04",
          "2021-05-04",
          "2021-05-04",
          "2021-05-26",
          "2021-05-28",
          "2022-02-09",
          "2022-05-10",
          "2022-06-23",
          "2022-07-21",
          "2022-12-05",
          "2023-03-15",
          "2023-11-04"
         ],
         "xaxis": "x",
         "y": [
          3468614400000000000,
          1557140125176000000,
          272538000000000000,
          95000000000000000,
          17578125000000000000,
          246048000000000000,
          62988288000000000000,
          429004800000000000,
          693000000000000000,
          1.8e+21,
          72000000000000000000,
          285000000000000000000,
          2470000000000000000,
          10900000000000000000,
          4.3e+21,
          37065600000000000000,
          23200000000000000000,
          89268480000000000000,
          1.5e+21,
          1.5e+21,
          8.9e+21,
          4.15383552e+21,
          335000000000000000000,
          865865406873600000000,
          3.3e+22,
          830000000000000000000,
          2.39e+21,
          3.0999999999999995e+21,
          1.7842809599999995e+21,
          3.3e+22,
          8.91e+21,
          1.4515200000000002e+22,
          8.2e+22,
          4.262e+21,
          1.05e+22,
          8.22e+22,
          5.49e+21,
          1.763328e+22,
          3.79e+22,
          1.5e+22,
          7.370000000000001e+22,
          3.7e+22,
          3.9e+22,
          2.68e+22,
          8.1e+22,
          9.31627008e+22,
          1.2e+23,
          2.2e+23,
          7.350000000009999e+22,
          1.1e+23,
          2.4e+23,
          2.90000000001e+24
         ],
         "yaxis": "y"
        },
        {
         "customdata": [
          [
           "GPT-3 175B (davinci)"
          ],
          [
           "DALL-E"
          ],
          [
           "Jurassic-1-Jumbo"
          ],
          [
           "HyperCLOVA 82B"
          ],
          [
           "Yuan 1.0"
          ],
          [
           "GPT-3.5 (text-davinci-003)"
          ],
          [
           "GPT-4"
          ],
          [
           "PaLM 2"
          ],
          [
           "Claude 2"
          ],
          [
           "Amazon Titan"
          ],
          [
           "Mi:dm 200B"
          ],
          [
           "Mistral Large"
          ]
         ],
         "hovertemplate": "Model accessibility=API access<br>Publication date=%{x}<br>Training compute (FLOP)=%{y}<br>System=%{customdata[0]}<extra></extra>",
         "legendgroup": "API access",
         "marker": {
          "color": "#FFA15A",
          "symbol": "circle"
         },
         "mode": "markers",
         "name": "API access",
         "orientation": "v",
         "showlegend": true,
         "type": "scatter",
         "x": [
          "2020-05-28",
          "2021-01-05",
          "2021-08-11",
          "2021-09-10",
          "2021-10-12",
          "2022-11-28",
          "2023-03-15",
          "2023-05-10",
          "2023-07-11",
          "2023-09-28",
          "2023-10-31",
          "2024-02-26"
         ],
         "xaxis": "x",
         "y": [
          3.14e+23,
          4.7e+22,
          3.7e+23,
          1.476e+23,
          3.5380000000001e+23,
          2.578e+24,
          2.1e+25,
          7.34e+24,
          3.866e+24,
          4.7999999999999996e+24,
          1.1999999999999999e+24,
          2.0000000001e+25
         ],
         "yaxis": "y"
        },
        {
         "customdata": [
          [
           "Stable Diffusion (LDM-KL-8-G)"
          ],
          [
           "CodeGeeX"
          ],
          [
           "BLOOM-176B"
          ],
          [
           "Llama 2-70B"
          ],
          [
           "Code Llama-34B"
          ],
          [
           "Falcon-180B"
          ],
          [
           "TigerBot-70B"
          ],
          [
           "Yi-34B"
          ],
          [
           "Qwen-72B"
          ],
          [
           "XVERSE-65B-2"
          ],
          [
           "DeepSeek LLM 67B"
          ],
          [
           "Code Llama-70B"
          ],
          [
           "DBRX"
          ],
          [
           "Llama 3-70B"
          ]
         ],
         "hovertemplate": "Model accessibility=Open access (restricted use)<br>Publication date=%{x}<br>Training compute (FLOP)=%{y}<br>System=%{customdata[0]}<extra></extra>",
         "legendgroup": "Open access (restricted use)",
         "marker": {
          "color": "#19d3f3",
          "symbol": "circle"
         },
         "mode": "markers",
         "name": "Open access (restricted use)",
         "orientation": "v",
         "showlegend": true,
         "type": "scatter",
         "x": [
          "2022-04-13",
          "2022-06-22",
          "2022-11-08",
          "2023-07-18",
          "2023-08-14",
          "2023-09-06",
          "2023-09-06",
          "2023-11-02",
          "2023-11-30",
          "2023-12-08",
          "2024-01-05",
          "2024-01-29",
          "2024-03-27",
          "2024-04-18"
         ],
         "xaxis": "x",
         "y": [
          5e+22,
          6.630000000001e+22,
          5.770000000000099e+23,
          8.1e+23,
          5.3e+23,
          3.76e+24,
          1.02e+24,
          6.1e+23,
          1.3e+24,
          1.24800000000001e+24,
          8.04e+23,
          1.230000000001e+24,
          2.6e+24,
          6.30000000001e+24
         ],
         "yaxis": "y"
        }
       ],
       "layout": {
        "legend": {
         "title": {
          "text": "Model accessibility"
         },
         "tracegroupgap": 0
        },
        "margin": {
         "t": 60
        },
        "template": {
         "data": {
          "bar": [
           {
            "error_x": {
             "color": "#2a3f5f"
            },
            "error_y": {
             "color": "#2a3f5f"
            },
            "marker": {
             "line": {
              "color": "#E5ECF6",
              "width": 0.5
             },
             "pattern": {
              "fillmode": "overlay",
              "size": 10,
              "solidity": 0.2
             }
            },
            "type": "bar"
           }
          ],
          "barpolar": [
           {
            "marker": {
             "line": {
              "color": "#E5ECF6",
              "width": 0.5
             },
             "pattern": {
              "fillmode": "overlay",
              "size": 10,
              "solidity": 0.2
             }
            },
            "type": "barpolar"
           }
          ],
          "carpet": [
           {
            "aaxis": {
             "endlinecolor": "#2a3f5f",
             "gridcolor": "white",
             "linecolor": "white",
             "minorgridcolor": "white",
             "startlinecolor": "#2a3f5f"
            },
            "baxis": {
             "endlinecolor": "#2a3f5f",
             "gridcolor": "white",
             "linecolor": "white",
             "minorgridcolor": "white",
             "startlinecolor": "#2a3f5f"
            },
            "type": "carpet"
           }
          ],
          "choropleth": [
           {
            "colorbar": {
             "outlinewidth": 0,
             "ticks": ""
            },
            "type": "choropleth"
           }
          ],
          "contour": [
           {
            "colorbar": {
             "outlinewidth": 0,
             "ticks": ""
            },
            "colorscale": [
             [
              0,
              "#0d0887"
             ],
             [
              0.1111111111111111,
              "#46039f"
             ],
             [
              0.2222222222222222,
              "#7201a8"
             ],
             [
              0.3333333333333333,
              "#9c179e"
             ],
             [
              0.4444444444444444,
              "#bd3786"
             ],
             [
              0.5555555555555556,
              "#d8576b"
             ],
             [
              0.6666666666666666,
              "#ed7953"
             ],
             [
              0.7777777777777778,
              "#fb9f3a"
             ],
             [
              0.8888888888888888,
              "#fdca26"
             ],
             [
              1,
              "#f0f921"
             ]
            ],
            "type": "contour"
           }
          ],
          "contourcarpet": [
           {
            "colorbar": {
             "outlinewidth": 0,
             "ticks": ""
            },
            "type": "contourcarpet"
           }
          ],
          "heatmap": [
           {
            "colorbar": {
             "outlinewidth": 0,
             "ticks": ""
            },
            "colorscale": [
             [
              0,
              "#0d0887"
             ],
             [
              0.1111111111111111,
              "#46039f"
             ],
             [
              0.2222222222222222,
              "#7201a8"
             ],
             [
              0.3333333333333333,
              "#9c179e"
             ],
             [
              0.4444444444444444,
              "#bd3786"
             ],
             [
              0.5555555555555556,
              "#d8576b"
             ],
             [
              0.6666666666666666,
              "#ed7953"
             ],
             [
              0.7777777777777778,
              "#fb9f3a"
             ],
             [
              0.8888888888888888,
              "#fdca26"
             ],
             [
              1,
              "#f0f921"
             ]
            ],
            "type": "heatmap"
           }
          ],
          "heatmapgl": [
           {
            "colorbar": {
             "outlinewidth": 0,
             "ticks": ""
            },
            "colorscale": [
             [
              0,
              "#0d0887"
             ],
             [
              0.1111111111111111,
              "#46039f"
             ],
             [
              0.2222222222222222,
              "#7201a8"
             ],
             [
              0.3333333333333333,
              "#9c179e"
             ],
             [
              0.4444444444444444,
              "#bd3786"
             ],
             [
              0.5555555555555556,
              "#d8576b"
             ],
             [
              0.6666666666666666,
              "#ed7953"
             ],
             [
              0.7777777777777778,
              "#fb9f3a"
             ],
             [
              0.8888888888888888,
              "#fdca26"
             ],
             [
              1,
              "#f0f921"
             ]
            ],
            "type": "heatmapgl"
           }
          ],
          "histogram": [
           {
            "marker": {
             "pattern": {
              "fillmode": "overlay",
              "size": 10,
              "solidity": 0.2
             }
            },
            "type": "histogram"
           }
          ],
          "histogram2d": [
           {
            "colorbar": {
             "outlinewidth": 0,
             "ticks": ""
            },
            "colorscale": [
             [
              0,
              "#0d0887"
             ],
             [
              0.1111111111111111,
              "#46039f"
             ],
             [
              0.2222222222222222,
              "#7201a8"
             ],
             [
              0.3333333333333333,
              "#9c179e"
             ],
             [
              0.4444444444444444,
              "#bd3786"
             ],
             [
              0.5555555555555556,
              "#d8576b"
             ],
             [
              0.6666666666666666,
              "#ed7953"
             ],
             [
              0.7777777777777778,
              "#fb9f3a"
             ],
             [
              0.8888888888888888,
              "#fdca26"
             ],
             [
              1,
              "#f0f921"
             ]
            ],
            "type": "histogram2d"
           }
          ],
          "histogram2dcontour": [
           {
            "colorbar": {
             "outlinewidth": 0,
             "ticks": ""
            },
            "colorscale": [
             [
              0,
              "#0d0887"
             ],
             [
              0.1111111111111111,
              "#46039f"
             ],
             [
              0.2222222222222222,
              "#7201a8"
             ],
             [
              0.3333333333333333,
              "#9c179e"
             ],
             [
              0.4444444444444444,
              "#bd3786"
             ],
             [
              0.5555555555555556,
              "#d8576b"
             ],
             [
              0.6666666666666666,
              "#ed7953"
             ],
             [
              0.7777777777777778,
              "#fb9f3a"
             ],
             [
              0.8888888888888888,
              "#fdca26"
             ],
             [
              1,
              "#f0f921"
             ]
            ],
            "type": "histogram2dcontour"
           }
          ],
          "mesh3d": [
           {
            "colorbar": {
             "outlinewidth": 0,
             "ticks": ""
            },
            "type": "mesh3d"
           }
          ],
          "parcoords": [
           {
            "line": {
             "colorbar": {
              "outlinewidth": 0,
              "ticks": ""
             }
            },
            "type": "parcoords"
           }
          ],
          "pie": [
           {
            "automargin": true,
            "type": "pie"
           }
          ],
          "scatter": [
           {
            "fillpattern": {
             "fillmode": "overlay",
             "size": 10,
             "solidity": 0.2
            },
            "type": "scatter"
           }
          ],
          "scatter3d": [
           {
            "line": {
             "colorbar": {
              "outlinewidth": 0,
              "ticks": ""
             }
            },
            "marker": {
             "colorbar": {
              "outlinewidth": 0,
              "ticks": ""
             }
            },
            "type": "scatter3d"
           }
          ],
          "scattercarpet": [
           {
            "marker": {
             "colorbar": {
              "outlinewidth": 0,
              "ticks": ""
             }
            },
            "type": "scattercarpet"
           }
          ],
          "scattergeo": [
           {
            "marker": {
             "colorbar": {
              "outlinewidth": 0,
              "ticks": ""
             }
            },
            "type": "scattergeo"
           }
          ],
          "scattergl": [
           {
            "marker": {
             "colorbar": {
              "outlinewidth": 0,
              "ticks": ""
             }
            },
            "type": "scattergl"
           }
          ],
          "scattermapbox": [
           {
            "marker": {
             "colorbar": {
              "outlinewidth": 0,
              "ticks": ""
             }
            },
            "type": "scattermapbox"
           }
          ],
          "scatterpolar": [
           {
            "marker": {
             "colorbar": {
              "outlinewidth": 0,
              "ticks": ""
             }
            },
            "type": "scatterpolar"
           }
          ],
          "scatterpolargl": [
           {
            "marker": {
             "colorbar": {
              "outlinewidth": 0,
              "ticks": ""
             }
            },
            "type": "scatterpolargl"
           }
          ],
          "scatterternary": [
           {
            "marker": {
             "colorbar": {
              "outlinewidth": 0,
              "ticks": ""
             }
            },
            "type": "scatterternary"
           }
          ],
          "surface": [
           {
            "colorbar": {
             "outlinewidth": 0,
             "ticks": ""
            },
            "colorscale": [
             [
              0,
              "#0d0887"
             ],
             [
              0.1111111111111111,
              "#46039f"
             ],
             [
              0.2222222222222222,
              "#7201a8"
             ],
             [
              0.3333333333333333,
              "#9c179e"
             ],
             [
              0.4444444444444444,
              "#bd3786"
             ],
             [
              0.5555555555555556,
              "#d8576b"
             ],
             [
              0.6666666666666666,
              "#ed7953"
             ],
             [
              0.7777777777777778,
              "#fb9f3a"
             ],
             [
              0.8888888888888888,
              "#fdca26"
             ],
             [
              1,
              "#f0f921"
             ]
            ],
            "type": "surface"
           }
          ],
          "table": [
           {
            "cells": {
             "fill": {
              "color": "#EBF0F8"
             },
             "line": {
              "color": "white"
             }
            },
            "header": {
             "fill": {
              "color": "#C8D4E3"
             },
             "line": {
              "color": "white"
             }
            },
            "type": "table"
           }
          ]
         },
         "layout": {
          "annotationdefaults": {
           "arrowcolor": "#2a3f5f",
           "arrowhead": 0,
           "arrowwidth": 1
          },
          "autotypenumbers": "strict",
          "coloraxis": {
           "colorbar": {
            "outlinewidth": 0,
            "ticks": ""
           }
          },
          "colorscale": {
           "diverging": [
            [
             0,
             "#8e0152"
            ],
            [
             0.1,
             "#c51b7d"
            ],
            [
             0.2,
             "#de77ae"
            ],
            [
             0.3,
             "#f1b6da"
            ],
            [
             0.4,
             "#fde0ef"
            ],
            [
             0.5,
             "#f7f7f7"
            ],
            [
             0.6,
             "#e6f5d0"
            ],
            [
             0.7,
             "#b8e186"
            ],
            [
             0.8,
             "#7fbc41"
            ],
            [
             0.9,
             "#4d9221"
            ],
            [
             1,
             "#276419"
            ]
           ],
           "sequential": [
            [
             0,
             "#0d0887"
            ],
            [
             0.1111111111111111,
             "#46039f"
            ],
            [
             0.2222222222222222,
             "#7201a8"
            ],
            [
             0.3333333333333333,
             "#9c179e"
            ],
            [
             0.4444444444444444,
             "#bd3786"
            ],
            [
             0.5555555555555556,
             "#d8576b"
            ],
            [
             0.6666666666666666,
             "#ed7953"
            ],
            [
             0.7777777777777778,
             "#fb9f3a"
            ],
            [
             0.8888888888888888,
             "#fdca26"
            ],
            [
             1,
             "#f0f921"
            ]
           ],
           "sequentialminus": [
            [
             0,
             "#0d0887"
            ],
            [
             0.1111111111111111,
             "#46039f"
            ],
            [
             0.2222222222222222,
             "#7201a8"
            ],
            [
             0.3333333333333333,
             "#9c179e"
            ],
            [
             0.4444444444444444,
             "#bd3786"
            ],
            [
             0.5555555555555556,
             "#d8576b"
            ],
            [
             0.6666666666666666,
             "#ed7953"
            ],
            [
             0.7777777777777778,
             "#fb9f3a"
            ],
            [
             0.8888888888888888,
             "#fdca26"
            ],
            [
             1,
             "#f0f921"
            ]
           ]
          },
          "colorway": [
           "#636efa",
           "#EF553B",
           "#00cc96",
           "#ab63fa",
           "#FFA15A",
           "#19d3f3",
           "#FF6692",
           "#B6E880",
           "#FF97FF",
           "#FECB52"
          ],
          "font": {
           "color": "#2a3f5f"
          },
          "geo": {
           "bgcolor": "white",
           "lakecolor": "white",
           "landcolor": "#E5ECF6",
           "showlakes": true,
           "showland": true,
           "subunitcolor": "white"
          },
          "hoverlabel": {
           "align": "left"
          },
          "hovermode": "closest",
          "mapbox": {
           "style": "light"
          },
          "paper_bgcolor": "white",
          "plot_bgcolor": "#E5ECF6",
          "polar": {
           "angularaxis": {
            "gridcolor": "white",
            "linecolor": "white",
            "ticks": ""
           },
           "bgcolor": "#E5ECF6",
           "radialaxis": {
            "gridcolor": "white",
            "linecolor": "white",
            "ticks": ""
           }
          },
          "scene": {
           "xaxis": {
            "backgroundcolor": "#E5ECF6",
            "gridcolor": "white",
            "gridwidth": 2,
            "linecolor": "white",
            "showbackground": true,
            "ticks": "",
            "zerolinecolor": "white"
           },
           "yaxis": {
            "backgroundcolor": "#E5ECF6",
            "gridcolor": "white",
            "gridwidth": 2,
            "linecolor": "white",
            "showbackground": true,
            "ticks": "",
            "zerolinecolor": "white"
           },
           "zaxis": {
            "backgroundcolor": "#E5ECF6",
            "gridcolor": "white",
            "gridwidth": 2,
            "linecolor": "white",
            "showbackground": true,
            "ticks": "",
            "zerolinecolor": "white"
           }
          },
          "shapedefaults": {
           "line": {
            "color": "#2a3f5f"
           }
          },
          "ternary": {
           "aaxis": {
            "gridcolor": "white",
            "linecolor": "white",
            "ticks": ""
           },
           "baxis": {
            "gridcolor": "white",
            "linecolor": "white",
            "ticks": ""
           },
           "bgcolor": "#E5ECF6",
           "caxis": {
            "gridcolor": "white",
            "linecolor": "white",
            "ticks": ""
           }
          },
          "title": {
           "x": 0.05
          },
          "xaxis": {
           "automargin": true,
           "gridcolor": "white",
           "linecolor": "white",
           "ticks": "",
           "title": {
            "standoff": 15
           },
           "zerolinecolor": "white",
           "zerolinewidth": 2
          },
          "yaxis": {
           "automargin": true,
           "gridcolor": "white",
           "linecolor": "white",
           "ticks": "",
           "title": {
            "standoff": 15
           },
           "zerolinecolor": "white",
           "zerolinewidth": 2
          }
         }
        },
        "xaxis": {
         "anchor": "y",
         "domain": [
          0,
          1
         ],
         "title": {
          "text": "Publication date"
         }
        },
        "yaxis": {
         "anchor": "x",
         "domain": [
          0,
          1
         ],
         "title": {
          "text": "Training compute (FLOP)"
         },
         "type": "log"
        }
       }
      }
     },
     "metadata": {},
     "output_type": "display_data"
    }
   ],
   "source": [
    "# filter out systems before start of analysis (2015)\n",
    "access_df_recent = filtered_access_df[filtered_access_df['Publication date'] > pred_start_date]\n",
    "\n",
    "fig = px.scatter(\n",
    "    access_df_recent,\n",
    "    x='Publication date',\n",
    "    y='Training compute (FLOP)',\n",
    "    color='Model accessibility',\n",
    "    hover_data=['System'],\n",
    "    log_y=True,\n",
    ")\n",
    "\n",
    "save_plot(fig, results_dir, f'training_compute_by_model_accessibility {analysis_start_year}')\n",
    "\n",
    "fig.show()"
   ]
  },
  {
   "cell_type": "code",
   "execution_count": 58,
   "metadata": {},
   "outputs": [
    {
     "data": {
      "application/vnd.plotly.v1+json": {
       "config": {
        "plotlyServerURL": "https://plot.ly"
       },
       "data": [
        {
         "customdata": [
          [
           "genCNN + dyn eval"
          ],
          [
           "Search-Proven Best LSTM"
          ],
          [
           "LSTM-Char-Large"
          ],
          [
           "Variational (untied weights, MC) LSTM (Large)"
          ],
          [
           "VD-RHN"
          ],
          [
           "GNMT"
          ],
          [
           "Pointer Sentinel-LSTM (medium)"
          ],
          [
           "Zoneout + Variational LSTM (WT2)"
          ],
          [
           "VD-LSTM+REAL Large"
          ],
          [
           "Neural Architecture Search with base 8 and shared embeddings"
          ],
          [
           "MoE"
          ],
          [
           "Transformer"
          ],
          [
           "Densely Connected LSTM + Var. Dropout"
          ],
          [
           "AWD-LSTM - 3-layer LSTM (tied) + continuous cache pointer (WT2)"
          ],
          [
           "GL-LWGC-AWD-MoS-LSTM + dynamic evaluation (WT2)"
          ],
          [
           "Fraternal dropout + AWD-LSTM 3-layer (WT2)"
          ],
          [
           "AWD-LSTM-MoS + dynamic evaluation (WT2, 2017)"
          ],
          [
           "QRNN"
          ],
          [
           "4 layer QRNN (h=2500)"
          ],
          [
           "LSTM (Hebbian, Cache, MbPA)"
          ],
          [
           "Dropout-LSTM+Noise(Bernoulli) (WT2)"
          ],
          [
           "QT-Opt"
          ],
          [
           "TrellisNet"
          ],
          [
           "Hanabi 4 player"
          ],
          [
           "FAIRSEQ Adaptive Inputs"
          ],
          [
           "BERT-Large-CAS (PTB+WT2+WT103)"
          ],
          [
           "DLRM-2020"
          ],
          [
           "Transformer-XL Large + Phrase Induction"
          ],
          [
           "Tensorized Transformer (257M)"
          ],
          [
           "All-attention network + adaptive span"
          ],
          [
           "ResNet-152 + ObjectNet"
          ],
          [
           "Megatron-BERT"
          ],
          [
           "Megatron-LM (8.3B)"
          ],
          [
           "AlphaX-1"
          ],
          [
           "AlphaStar"
          ],
          [
           "Sandwich Transformer"
          ],
          [
           "Noisy Student (L2)"
          ],
          [
           "Compressive Transformers for Long-Range Sequence Modelling"
          ],
          [
           "MuZero"
          ],
          [
           "OpenAI Five"
          ],
          [
           "OpenAI Five Rerun"
          ],
          [
           "DD-PPO"
          ],
          [
           "ContextNet + Noisy Student"
          ],
          [
           "Meena"
          ],
          [
           "Turing-NLG"
          ],
          [
           "GPT-3 175B (davinci)"
          ],
          [
           "GPT3-6.7B (rerun of original)"
          ],
          [
           "GShard (dense)"
          ],
          [
           "GShard (600B)"
          ],
          [
           "DALL-E"
          ],
          [
           "Meta Pseudo Labels"
          ],
          [
           "PLUG"
          ],
          [
           "PanGu-α"
          ],
          [
           "CoAtNet"
          ],
          [
           "GOAT"
          ],
          [
           "Jurassic-1-Jumbo"
          ],
          [
           "FLAN 137B"
          ],
          [
           "HyperCLOVA 82B"
          ],
          [
           "Megatron-Turing NLG 530B"
          ],
          [
           "Yuan 1.0"
          ],
          [
           "Gopher (280B)"
          ],
          [
           "GLaM"
          ],
          [
           "ERNIE 3.0 Titan"
          ],
          [
           "LaMDA"
          ],
          [
           "Chinchilla"
          ],
          [
           "PaLM (540B)"
          ],
          [
           "Parti"
          ],
          [
           "Minerva (540B)"
          ],
          [
           "U-PaLM (540B)"
          ],
          [
           "Flan-PaLM 540B"
          ],
          [
           "GPT-3.5 (text-davinci-003)"
          ],
          [
           "GPT-4"
          ],
          [
           "PaLM 2"
          ],
          [
           "Inflection-1"
          ],
          [
           "Claude 2"
          ],
          [
           "Amazon Titan"
          ],
          [
           "Mi:dm 200B"
          ],
          [
           "Inflection-2"
          ],
          [
           "Gemini 1.0 Ultra"
          ],
          [
           "MegaScale (Production)"
          ],
          [
           "Mistral Large"
          ],
          [
           "Inflection-2.5"
          ]
         ],
         "hovertemplate": "Model open/closed=Closed<br>Publication date=%{x}<br>Training compute (FLOP)=%{y}<br>System=%{customdata[0]}<extra></extra>",
         "legendgroup": "Closed",
         "marker": {
          "color": "#636efa",
          "symbol": "circle"
         },
         "mode": "markers",
         "name": "Closed",
         "orientation": "v",
         "showlegend": true,
         "type": "scatter",
         "x": [
          "2015-03-17",
          "2015-07-06",
          "2015-08-26",
          "2015-12-16",
          "2016-07-12",
          "2016-09-26",
          "2016-09-26",
          "2016-09-26",
          "2016-11-04",
          "2016-11-05",
          "2017-01-23",
          "2017-06-12",
          "2017-07-19",
          "2017-08-07",
          "2017-08-29",
          "2017-10-31",
          "2017-11-10",
          "2018-02-01",
          "2018-03-22",
          "2018-03-27",
          "2018-05-03",
          "2018-06-27",
          "2018-10-15",
          "2019-02-01",
          "2019-04-01",
          "2019-04-20",
          "2019-05-31",
          "2019-06-04",
          "2019-06-24",
          "2019-07-02",
          "2019-09-06",
          "2019-09-17",
          "2019-09-17",
          "2019-10-02",
          "2019-10-30",
          "2019-11-10",
          "2019-11-11",
          "2019-11-13",
          "2019-11-19",
          "2019-12-13",
          "2019-12-13",
          "2019-12-19",
          "2020-01-19",
          "2020-01-28",
          "2020-02-13",
          "2020-05-28",
          "2020-05-28",
          "2020-06-30",
          "2020-06-30",
          "2021-01-05",
          "2021-03-01",
          "2021-04-19",
          "2021-04-25",
          "2021-06-09",
          "2021-07-27",
          "2021-08-11",
          "2021-09-03",
          "2021-09-10",
          "2021-10-11",
          "2021-10-12",
          "2021-12-08",
          "2021-12-13",
          "2021-12-23",
          "2022-02-10",
          "2022-03-29",
          "2022-04-04",
          "2022-06-22",
          "2022-06-29",
          "2022-10-20",
          "2022-10-20",
          "2022-11-28",
          "2023-03-15",
          "2023-05-10",
          "2023-06-23",
          "2023-07-11",
          "2023-09-28",
          "2023-10-31",
          "2023-11-22",
          "2023-12-06",
          "2024-02-23",
          "2024-02-26",
          "2024-03-07"
         ],
         "xaxis": "x",
         "y": [
          73000000000000000,
          3340000000000000,
          2650000000000000,
          5620000000000000,
          3570000000000000,
          6.620000000001001e+21,
          7490000000000000,
          16800000000000000,
          21300000000000000,
          10500000000000000,
          93939056640000000000,
          7424524800000000000,
          12800000000000000,
          309000000000000000,
          474000000000000000,
          98500000000000000,
          437000000000000000,
          360000000000000000,
          240000000000000000,
          24000000000000000000,
          127000000000000000,
          34875000000000000000,
          2780000000000000000,
          4300000000000000000,
          7300000000000000000,
          521000000000000000000,
          4000000000000000000,
          7300000000000000000,
          4760000000000000000,
          46000000000000000000,
          19400000000000000000,
          6.027e+22,
          9.1e+21,
          7600000000000000000,
          5.9250000000001e+22,
          158000000000000000000,
          849346560000000000000,
          160000000000000000000,
          48000000000000000000,
          6.7e+22,
          1.3e+22,
          780000000000000000000,
          8.16e+21,
          1.12e+23,
          1.57e+22,
          3.14e+23,
          1.2e+22,
          1.28e+22,
          1.33e+22,
          4.7e+22,
          4.79e+22,
          3.5997695999999996e+22,
          5.83e+22,
          4.27e+22,
          7.8e+22,
          3.7e+23,
          4.896e+22,
          1.476e+23,
          1.17e+24,
          3.5380000000001e+23,
          6.31e+23,
          3.74e+23,
          1.0421e+24,
          3.55e+23,
          5.76e+23,
          2.5272e+24,
          3.962895376192635e+23,
          2.7415e+24,
          2.53e+24,
          2.4999999999999997e+24,
          2.578e+24,
          2.1e+25,
          7.34e+24,
          1.0001e+24,
          3.866e+24,
          4.7999999999999996e+24,
          1.1999999999999999e+24,
          1.001e+25,
          5.0000000001e+25,
          1.2e+25,
          2.0000000001e+25,
          1.0001e+25
         ],
         "yaxis": "y"
        },
        {
         "customdata": [
          [
           "SPIDER2"
          ],
          [
           "BIDAF"
          ],
          [
           "AlexNet + coordinating filters"
          ],
          [
           "ULM-FiT"
          ],
          [
           "DNCON2"
          ],
          [
           "GPT"
          ],
          [
           "Big-Little Net"
          ],
          [
           "Big-Little Net (vision)"
          ],
          [
           "Big-Little Net (speech)"
          ],
          [
           "(ensemble): AWD-LSTM-DOC (fin) × 5 (WT2)"
          ],
          [
           "BigGAN-deep 512x512"
          ],
          [
           "Transformer (Adaptive Input Embeddings) WT103"
          ],
          [
           "BERT-Large"
          ],
          [
           "Decoupled weight decay regularization"
          ],
          [
           "Transformer-XL (257M)"
          ],
          [
           "GPT-2 (1.5B)"
          ],
          [
           "ProxylessNAS"
          ],
          [
           "KataGo"
          ],
          [
           "UniRep"
          ],
          [
           "SciBERT"
          ],
          [
           "MnasNet-A3"
          ],
          [
           "MnasNet-A1 + SSDLite"
          ],
          [
           "XLNet"
          ],
          [
           "RoBERTa Large"
          ],
          [
           "Megatron-LM (355M)"
          ],
          [
           "T5-3B"
          ],
          [
           "T5-11B"
          ],
          [
           "CamemBERT"
          ],
          [
           "ALBERT-xxlarge"
          ],
          [
           "ELECTRA"
          ],
          [
           "Once for All"
          ],
          [
           "iGPT-XL"
          ],
          [
           "iGPT-L"
          ],
          [
           "mBART-50"
          ],
          [
           "mT5-XXL"
          ],
          [
           "ViT-Huge/14"
          ],
          [
           "CLIP (ViT L/14@336px)"
          ],
          [
           "Switch"
          ],
          [
           "MSA Transformer"
          ],
          [
           "ResNet-RS"
          ],
          [
           "GLM-10B"
          ],
          [
           "GPT-J-6B"
          ],
          [
           "ProtT5-XXL"
          ],
          [
           "ProtT5-XXL-BFD"
          ],
          [
           "ProtBERT-BFD"
          ],
          [
           "CogView"
          ],
          [
           "ByT5-XXL"
          ],
          [
           "XGLM-7.5B"
          ],
          [
           "GPT-NeoX-20B"
          ],
          [
           "Stable Diffusion (LDM-KL-8-G)"
          ],
          [
           "OPT-175B"
          ],
          [
           "UL2"
          ],
          [
           "OPT-66B"
          ],
          [
           "OPT-30B"
          ],
          [
           "CodeGeeX"
          ],
          [
           "YaLM"
          ],
          [
           "ESM2-15B"
          ],
          [
           "GLM-130B"
          ],
          [
           "BlenderBot 3"
          ],
          [
           "BLOOM-176B"
          ],
          [
           "Galactica"
          ],
          [
           "Whisper v2"
          ],
          [
           "OPT-IML (175B)"
          ],
          [
           "LLaMA-65B"
          ],
          [
           "LLaMA-33B"
          ],
          [
           "Falcon-40B"
          ],
          [
           "Llama 2-70B"
          ],
          [
           "Code Llama-34B"
          ],
          [
           "Falcon-180B"
          ],
          [
           "TigerBot-70B"
          ],
          [
           "Yi-34B"
          ],
          [
           "Grok-1"
          ],
          [
           "Qwen-72B"
          ],
          [
           "XVERSE-65B-2"
          ],
          [
           "DeepSeek LLM 67B"
          ],
          [
           "Code Llama-70B"
          ],
          [
           "DBRX"
          ],
          [
           "Llama 3-70B"
          ]
         ],
         "hovertemplate": "Model open/closed=Open<br>Publication date=%{x}<br>Training compute (FLOP)=%{y}<br>System=%{customdata[0]}<extra></extra>",
         "legendgroup": "Open",
         "marker": {
          "color": "#EF553B",
          "symbol": "circle"
         },
         "mode": "markers",
         "name": "Open",
         "orientation": "v",
         "showlegend": true,
         "type": "scatter",
         "x": [
          "2016-10-28",
          "2016-11-05",
          "2017-03-28",
          "2018-01-18",
          "2018-05-01",
          "2018-06-01",
          "2018-07-10",
          "2018-07-10",
          "2018-07-10",
          "2018-08-30",
          "2018-09-28",
          "2018-09-28",
          "2018-10-11",
          "2019-01-04",
          "2019-01-09",
          "2019-02-14",
          "2019-02-23",
          "2019-02-27",
          "2019-03-26",
          "2019-03-26",
          "2019-05-29",
          "2019-05-29",
          "2019-06-01",
          "2019-07-01",
          "2019-09-17",
          "2019-10-23",
          "2019-10-23",
          "2019-11-10",
          "2020-02-09",
          "2020-03-23",
          "2020-04-29",
          "2020-06-17",
          "2020-06-17",
          "2020-08-02",
          "2020-10-20",
          "2020-10-22",
          "2021-01-05",
          "2021-01-11",
          "2021-02-13",
          "2021-03-13",
          "2021-03-18",
          "2021-05-01",
          "2021-05-04",
          "2021-05-04",
          "2021-05-04",
          "2021-05-26",
          "2021-05-28",
          "2021-12-20",
          "2022-02-09",
          "2022-04-13",
          "2022-05-02",
          "2022-05-10",
          "2022-06-21",
          "2022-06-21",
          "2022-06-22",
          "2022-06-23",
          "2022-07-21",
          "2022-08-04",
          "2022-08-10",
          "2022-11-08",
          "2022-11-16",
          "2022-12-05",
          "2022-12-22",
          "2023-02-24",
          "2023-02-27",
          "2023-03-15",
          "2023-07-18",
          "2023-08-14",
          "2023-09-06",
          "2023-09-06",
          "2023-11-02",
          "2023-11-04",
          "2023-11-30",
          "2023-12-08",
          "2024-01-05",
          "2024-01-29",
          "2024-03-27",
          "2024-04-18"
         ],
         "xaxis": "x",
         "y": [
          8540000000000,
          3468614400000000000,
          1557140125176000000,
          272538000000000000,
          95000000000000000,
          17578125000000000000,
          246048000000000000,
          62988288000000000000,
          429004800000000000,
          693000000000000000,
          1.8e+21,
          72000000000000000000,
          285000000000000000000,
          2470000000000000000,
          10900000000000000000,
          4.3e+21,
          37065600000000000000,
          23200000000000000000,
          22000000000000000000,
          89268480000000000000,
          1.5e+21,
          1.5e+21,
          8.9e+21,
          4.15383552e+21,
          335000000000000000000,
          865865406873600000000,
          3.3e+22,
          830000000000000000000,
          2.39e+21,
          3.0999999999999995e+21,
          1.7842809599999995e+21,
          3.3e+22,
          8.91e+21,
          1.4515200000000002e+22,
          8.2e+22,
          4.262e+21,
          1.05e+22,
          8.22e+22,
          5.49e+21,
          1.763328e+22,
          3.79e+22,
          1.5e+22,
          7.370000000000001e+22,
          3.7e+22,
          3.9e+22,
          2.68e+22,
          8.1e+22,
          4.347592704e+22,
          9.31627008e+22,
          5e+22,
          4.3e+23,
          1.2e+23,
          1.100000000001e+23,
          5.4000000000001e+22,
          6.630000000001e+22,
          2.2e+23,
          7.350000000009999e+22,
          3.778e+23,
          4.3e+23,
          5.770000000000099e+23,
          3.24e+23,
          1.1e+23,
          4.3e+23,
          5.5e+23,
          2.7300000000000996e+23,
          2.4e+23,
          8.1e+23,
          5.3e+23,
          3.76e+24,
          1.02e+24,
          6.1e+23,
          2.90000000001e+24,
          1.3e+24,
          1.24800000000001e+24,
          8.04e+23,
          1.230000000001e+24,
          2.6e+24,
          6.30000000001e+24
         ],
         "yaxis": "y"
        }
       ],
       "layout": {
        "legend": {
         "title": {
          "text": "Model open/closed"
         },
         "tracegroupgap": 0
        },
        "margin": {
         "t": 60
        },
        "template": {
         "data": {
          "bar": [
           {
            "error_x": {
             "color": "#2a3f5f"
            },
            "error_y": {
             "color": "#2a3f5f"
            },
            "marker": {
             "line": {
              "color": "#E5ECF6",
              "width": 0.5
             },
             "pattern": {
              "fillmode": "overlay",
              "size": 10,
              "solidity": 0.2
             }
            },
            "type": "bar"
           }
          ],
          "barpolar": [
           {
            "marker": {
             "line": {
              "color": "#E5ECF6",
              "width": 0.5
             },
             "pattern": {
              "fillmode": "overlay",
              "size": 10,
              "solidity": 0.2
             }
            },
            "type": "barpolar"
           }
          ],
          "carpet": [
           {
            "aaxis": {
             "endlinecolor": "#2a3f5f",
             "gridcolor": "white",
             "linecolor": "white",
             "minorgridcolor": "white",
             "startlinecolor": "#2a3f5f"
            },
            "baxis": {
             "endlinecolor": "#2a3f5f",
             "gridcolor": "white",
             "linecolor": "white",
             "minorgridcolor": "white",
             "startlinecolor": "#2a3f5f"
            },
            "type": "carpet"
           }
          ],
          "choropleth": [
           {
            "colorbar": {
             "outlinewidth": 0,
             "ticks": ""
            },
            "type": "choropleth"
           }
          ],
          "contour": [
           {
            "colorbar": {
             "outlinewidth": 0,
             "ticks": ""
            },
            "colorscale": [
             [
              0,
              "#0d0887"
             ],
             [
              0.1111111111111111,
              "#46039f"
             ],
             [
              0.2222222222222222,
              "#7201a8"
             ],
             [
              0.3333333333333333,
              "#9c179e"
             ],
             [
              0.4444444444444444,
              "#bd3786"
             ],
             [
              0.5555555555555556,
              "#d8576b"
             ],
             [
              0.6666666666666666,
              "#ed7953"
             ],
             [
              0.7777777777777778,
              "#fb9f3a"
             ],
             [
              0.8888888888888888,
              "#fdca26"
             ],
             [
              1,
              "#f0f921"
             ]
            ],
            "type": "contour"
           }
          ],
          "contourcarpet": [
           {
            "colorbar": {
             "outlinewidth": 0,
             "ticks": ""
            },
            "type": "contourcarpet"
           }
          ],
          "heatmap": [
           {
            "colorbar": {
             "outlinewidth": 0,
             "ticks": ""
            },
            "colorscale": [
             [
              0,
              "#0d0887"
             ],
             [
              0.1111111111111111,
              "#46039f"
             ],
             [
              0.2222222222222222,
              "#7201a8"
             ],
             [
              0.3333333333333333,
              "#9c179e"
             ],
             [
              0.4444444444444444,
              "#bd3786"
             ],
             [
              0.5555555555555556,
              "#d8576b"
             ],
             [
              0.6666666666666666,
              "#ed7953"
             ],
             [
              0.7777777777777778,
              "#fb9f3a"
             ],
             [
              0.8888888888888888,
              "#fdca26"
             ],
             [
              1,
              "#f0f921"
             ]
            ],
            "type": "heatmap"
           }
          ],
          "heatmapgl": [
           {
            "colorbar": {
             "outlinewidth": 0,
             "ticks": ""
            },
            "colorscale": [
             [
              0,
              "#0d0887"
             ],
             [
              0.1111111111111111,
              "#46039f"
             ],
             [
              0.2222222222222222,
              "#7201a8"
             ],
             [
              0.3333333333333333,
              "#9c179e"
             ],
             [
              0.4444444444444444,
              "#bd3786"
             ],
             [
              0.5555555555555556,
              "#d8576b"
             ],
             [
              0.6666666666666666,
              "#ed7953"
             ],
             [
              0.7777777777777778,
              "#fb9f3a"
             ],
             [
              0.8888888888888888,
              "#fdca26"
             ],
             [
              1,
              "#f0f921"
             ]
            ],
            "type": "heatmapgl"
           }
          ],
          "histogram": [
           {
            "marker": {
             "pattern": {
              "fillmode": "overlay",
              "size": 10,
              "solidity": 0.2
             }
            },
            "type": "histogram"
           }
          ],
          "histogram2d": [
           {
            "colorbar": {
             "outlinewidth": 0,
             "ticks": ""
            },
            "colorscale": [
             [
              0,
              "#0d0887"
             ],
             [
              0.1111111111111111,
              "#46039f"
             ],
             [
              0.2222222222222222,
              "#7201a8"
             ],
             [
              0.3333333333333333,
              "#9c179e"
             ],
             [
              0.4444444444444444,
              "#bd3786"
             ],
             [
              0.5555555555555556,
              "#d8576b"
             ],
             [
              0.6666666666666666,
              "#ed7953"
             ],
             [
              0.7777777777777778,
              "#fb9f3a"
             ],
             [
              0.8888888888888888,
              "#fdca26"
             ],
             [
              1,
              "#f0f921"
             ]
            ],
            "type": "histogram2d"
           }
          ],
          "histogram2dcontour": [
           {
            "colorbar": {
             "outlinewidth": 0,
             "ticks": ""
            },
            "colorscale": [
             [
              0,
              "#0d0887"
             ],
             [
              0.1111111111111111,
              "#46039f"
             ],
             [
              0.2222222222222222,
              "#7201a8"
             ],
             [
              0.3333333333333333,
              "#9c179e"
             ],
             [
              0.4444444444444444,
              "#bd3786"
             ],
             [
              0.5555555555555556,
              "#d8576b"
             ],
             [
              0.6666666666666666,
              "#ed7953"
             ],
             [
              0.7777777777777778,
              "#fb9f3a"
             ],
             [
              0.8888888888888888,
              "#fdca26"
             ],
             [
              1,
              "#f0f921"
             ]
            ],
            "type": "histogram2dcontour"
           }
          ],
          "mesh3d": [
           {
            "colorbar": {
             "outlinewidth": 0,
             "ticks": ""
            },
            "type": "mesh3d"
           }
          ],
          "parcoords": [
           {
            "line": {
             "colorbar": {
              "outlinewidth": 0,
              "ticks": ""
             }
            },
            "type": "parcoords"
           }
          ],
          "pie": [
           {
            "automargin": true,
            "type": "pie"
           }
          ],
          "scatter": [
           {
            "fillpattern": {
             "fillmode": "overlay",
             "size": 10,
             "solidity": 0.2
            },
            "type": "scatter"
           }
          ],
          "scatter3d": [
           {
            "line": {
             "colorbar": {
              "outlinewidth": 0,
              "ticks": ""
             }
            },
            "marker": {
             "colorbar": {
              "outlinewidth": 0,
              "ticks": ""
             }
            },
            "type": "scatter3d"
           }
          ],
          "scattercarpet": [
           {
            "marker": {
             "colorbar": {
              "outlinewidth": 0,
              "ticks": ""
             }
            },
            "type": "scattercarpet"
           }
          ],
          "scattergeo": [
           {
            "marker": {
             "colorbar": {
              "outlinewidth": 0,
              "ticks": ""
             }
            },
            "type": "scattergeo"
           }
          ],
          "scattergl": [
           {
            "marker": {
             "colorbar": {
              "outlinewidth": 0,
              "ticks": ""
             }
            },
            "type": "scattergl"
           }
          ],
          "scattermapbox": [
           {
            "marker": {
             "colorbar": {
              "outlinewidth": 0,
              "ticks": ""
             }
            },
            "type": "scattermapbox"
           }
          ],
          "scatterpolar": [
           {
            "marker": {
             "colorbar": {
              "outlinewidth": 0,
              "ticks": ""
             }
            },
            "type": "scatterpolar"
           }
          ],
          "scatterpolargl": [
           {
            "marker": {
             "colorbar": {
              "outlinewidth": 0,
              "ticks": ""
             }
            },
            "type": "scatterpolargl"
           }
          ],
          "scatterternary": [
           {
            "marker": {
             "colorbar": {
              "outlinewidth": 0,
              "ticks": ""
             }
            },
            "type": "scatterternary"
           }
          ],
          "surface": [
           {
            "colorbar": {
             "outlinewidth": 0,
             "ticks": ""
            },
            "colorscale": [
             [
              0,
              "#0d0887"
             ],
             [
              0.1111111111111111,
              "#46039f"
             ],
             [
              0.2222222222222222,
              "#7201a8"
             ],
             [
              0.3333333333333333,
              "#9c179e"
             ],
             [
              0.4444444444444444,
              "#bd3786"
             ],
             [
              0.5555555555555556,
              "#d8576b"
             ],
             [
              0.6666666666666666,
              "#ed7953"
             ],
             [
              0.7777777777777778,
              "#fb9f3a"
             ],
             [
              0.8888888888888888,
              "#fdca26"
             ],
             [
              1,
              "#f0f921"
             ]
            ],
            "type": "surface"
           }
          ],
          "table": [
           {
            "cells": {
             "fill": {
              "color": "#EBF0F8"
             },
             "line": {
              "color": "white"
             }
            },
            "header": {
             "fill": {
              "color": "#C8D4E3"
             },
             "line": {
              "color": "white"
             }
            },
            "type": "table"
           }
          ]
         },
         "layout": {
          "annotationdefaults": {
           "arrowcolor": "#2a3f5f",
           "arrowhead": 0,
           "arrowwidth": 1
          },
          "autotypenumbers": "strict",
          "coloraxis": {
           "colorbar": {
            "outlinewidth": 0,
            "ticks": ""
           }
          },
          "colorscale": {
           "diverging": [
            [
             0,
             "#8e0152"
            ],
            [
             0.1,
             "#c51b7d"
            ],
            [
             0.2,
             "#de77ae"
            ],
            [
             0.3,
             "#f1b6da"
            ],
            [
             0.4,
             "#fde0ef"
            ],
            [
             0.5,
             "#f7f7f7"
            ],
            [
             0.6,
             "#e6f5d0"
            ],
            [
             0.7,
             "#b8e186"
            ],
            [
             0.8,
             "#7fbc41"
            ],
            [
             0.9,
             "#4d9221"
            ],
            [
             1,
             "#276419"
            ]
           ],
           "sequential": [
            [
             0,
             "#0d0887"
            ],
            [
             0.1111111111111111,
             "#46039f"
            ],
            [
             0.2222222222222222,
             "#7201a8"
            ],
            [
             0.3333333333333333,
             "#9c179e"
            ],
            [
             0.4444444444444444,
             "#bd3786"
            ],
            [
             0.5555555555555556,
             "#d8576b"
            ],
            [
             0.6666666666666666,
             "#ed7953"
            ],
            [
             0.7777777777777778,
             "#fb9f3a"
            ],
            [
             0.8888888888888888,
             "#fdca26"
            ],
            [
             1,
             "#f0f921"
            ]
           ],
           "sequentialminus": [
            [
             0,
             "#0d0887"
            ],
            [
             0.1111111111111111,
             "#46039f"
            ],
            [
             0.2222222222222222,
             "#7201a8"
            ],
            [
             0.3333333333333333,
             "#9c179e"
            ],
            [
             0.4444444444444444,
             "#bd3786"
            ],
            [
             0.5555555555555556,
             "#d8576b"
            ],
            [
             0.6666666666666666,
             "#ed7953"
            ],
            [
             0.7777777777777778,
             "#fb9f3a"
            ],
            [
             0.8888888888888888,
             "#fdca26"
            ],
            [
             1,
             "#f0f921"
            ]
           ]
          },
          "colorway": [
           "#636efa",
           "#EF553B",
           "#00cc96",
           "#ab63fa",
           "#FFA15A",
           "#19d3f3",
           "#FF6692",
           "#B6E880",
           "#FF97FF",
           "#FECB52"
          ],
          "font": {
           "color": "#2a3f5f"
          },
          "geo": {
           "bgcolor": "white",
           "lakecolor": "white",
           "landcolor": "#E5ECF6",
           "showlakes": true,
           "showland": true,
           "subunitcolor": "white"
          },
          "hoverlabel": {
           "align": "left"
          },
          "hovermode": "closest",
          "mapbox": {
           "style": "light"
          },
          "paper_bgcolor": "white",
          "plot_bgcolor": "#E5ECF6",
          "polar": {
           "angularaxis": {
            "gridcolor": "white",
            "linecolor": "white",
            "ticks": ""
           },
           "bgcolor": "#E5ECF6",
           "radialaxis": {
            "gridcolor": "white",
            "linecolor": "white",
            "ticks": ""
           }
          },
          "scene": {
           "xaxis": {
            "backgroundcolor": "#E5ECF6",
            "gridcolor": "white",
            "gridwidth": 2,
            "linecolor": "white",
            "showbackground": true,
            "ticks": "",
            "zerolinecolor": "white"
           },
           "yaxis": {
            "backgroundcolor": "#E5ECF6",
            "gridcolor": "white",
            "gridwidth": 2,
            "linecolor": "white",
            "showbackground": true,
            "ticks": "",
            "zerolinecolor": "white"
           },
           "zaxis": {
            "backgroundcolor": "#E5ECF6",
            "gridcolor": "white",
            "gridwidth": 2,
            "linecolor": "white",
            "showbackground": true,
            "ticks": "",
            "zerolinecolor": "white"
           }
          },
          "shapedefaults": {
           "line": {
            "color": "#2a3f5f"
           }
          },
          "ternary": {
           "aaxis": {
            "gridcolor": "white",
            "linecolor": "white",
            "ticks": ""
           },
           "baxis": {
            "gridcolor": "white",
            "linecolor": "white",
            "ticks": ""
           },
           "bgcolor": "#E5ECF6",
           "caxis": {
            "gridcolor": "white",
            "linecolor": "white",
            "ticks": ""
           }
          },
          "title": {
           "x": 0.05
          },
          "xaxis": {
           "automargin": true,
           "gridcolor": "white",
           "linecolor": "white",
           "ticks": "",
           "title": {
            "standoff": 15
           },
           "zerolinecolor": "white",
           "zerolinewidth": 2
          },
          "yaxis": {
           "automargin": true,
           "gridcolor": "white",
           "linecolor": "white",
           "ticks": "",
           "title": {
            "standoff": 15
           },
           "zerolinecolor": "white",
           "zerolinewidth": 2
          }
         }
        },
        "xaxis": {
         "anchor": "y",
         "domain": [
          0,
          1
         ],
         "title": {
          "text": "Publication date"
         }
        },
        "yaxis": {
         "anchor": "x",
         "domain": [
          0,
          1
         ],
         "title": {
          "text": "Training compute (FLOP)"
         },
         "type": "log"
        }
       }
      }
     },
     "metadata": {},
     "output_type": "display_data"
    }
   ],
   "source": [
    "fig = px.scatter(\n",
    "    # access_df,\n",
    "    # access_df.loc[access_df_recent['System'].isin(selected_systems)],\n",
    "    access_df_recent,\n",
    "    x='Publication date',\n",
    "    y='Training compute (FLOP)',\n",
    "    color='Model open/closed',\n",
    "    hover_data=['System'],\n",
    "    log_y=True,\n",
    ")\n",
    "\n",
    "save_plot(fig, results_dir, f'training_compute_by_open_closed {analysis_start_year}')\n",
    "\n",
    "fig.show()"
   ]
  },
  {
   "cell_type": "code",
   "execution_count": 59,
   "metadata": {},
   "outputs": [
    {
     "data": {
      "text/plain": [
       "DatetimeIndex(['2015-01-01', '2015-01-31', '2015-03-02', '2015-04-02',\n",
       "               '2015-05-02', '2015-06-02', '2015-07-02', '2015-08-01',\n",
       "               '2015-09-01', '2015-10-01',\n",
       "               ...\n",
       "               '2024-04-01', '2024-05-01', '2024-06-01', '2024-07-02',\n",
       "               '2024-08-01', '2024-09-01', '2024-10-01', '2024-10-31',\n",
       "               '2024-12-01', '2025-01-01'],\n",
       "              dtype='datetime64[ns]', name='Publication date', length=121, freq=None)"
      ]
     },
     "execution_count": 59,
     "metadata": {},
     "output_type": "execute_result"
    }
   ],
   "source": [
    "predicted_open_df.index\n"
   ]
  },
  {
   "cell_type": "code",
   "execution_count": 60,
   "metadata": {},
   "outputs": [
    {
     "data": {
      "application/vnd.plotly.v1+json": {
       "config": {
        "plotlyServerURL": "https://plot.ly"
       },
       "data": [
        {
         "customdata": [
          [
           "genCNN + dyn eval"
          ],
          [
           "Search-Proven Best LSTM"
          ],
          [
           "LSTM-Char-Large"
          ],
          [
           "Variational (untied weights, MC) LSTM (Large)"
          ],
          [
           "VD-RHN"
          ],
          [
           "GNMT"
          ],
          [
           "Pointer Sentinel-LSTM (medium)"
          ],
          [
           "Zoneout + Variational LSTM (WT2)"
          ],
          [
           "VD-LSTM+REAL Large"
          ],
          [
           "Neural Architecture Search with base 8 and shared embeddings"
          ],
          [
           "MoE"
          ],
          [
           "Transformer"
          ],
          [
           "Densely Connected LSTM + Var. Dropout"
          ],
          [
           "AWD-LSTM - 3-layer LSTM (tied) + continuous cache pointer (WT2)"
          ],
          [
           "GL-LWGC-AWD-MoS-LSTM + dynamic evaluation (WT2)"
          ],
          [
           "Fraternal dropout + AWD-LSTM 3-layer (WT2)"
          ],
          [
           "AWD-LSTM-MoS + dynamic evaluation (WT2, 2017)"
          ],
          [
           "QRNN"
          ],
          [
           "4 layer QRNN (h=2500)"
          ],
          [
           "LSTM (Hebbian, Cache, MbPA)"
          ],
          [
           "Dropout-LSTM+Noise(Bernoulli) (WT2)"
          ],
          [
           "QT-Opt"
          ],
          [
           "TrellisNet"
          ],
          [
           "Hanabi 4 player"
          ],
          [
           "FAIRSEQ Adaptive Inputs"
          ],
          [
           "BERT-Large-CAS (PTB+WT2+WT103)"
          ],
          [
           "DLRM-2020"
          ],
          [
           "Transformer-XL Large + Phrase Induction"
          ],
          [
           "Tensorized Transformer (257M)"
          ],
          [
           "All-attention network + adaptive span"
          ],
          [
           "ResNet-152 + ObjectNet"
          ],
          [
           "Megatron-BERT"
          ],
          [
           "Megatron-LM (8.3B)"
          ],
          [
           "AlphaX-1"
          ],
          [
           "AlphaStar"
          ],
          [
           "Sandwich Transformer"
          ],
          [
           "Noisy Student (L2)"
          ],
          [
           "Compressive Transformers for Long-Range Sequence Modelling"
          ],
          [
           "MuZero"
          ],
          [
           "OpenAI Five"
          ],
          [
           "OpenAI Five Rerun"
          ],
          [
           "DD-PPO"
          ],
          [
           "ContextNet + Noisy Student"
          ],
          [
           "Meena"
          ],
          [
           "Turing-NLG"
          ],
          [
           "GPT-3 175B (davinci)"
          ],
          [
           "GPT3-6.7B (rerun of original)"
          ],
          [
           "GShard (dense)"
          ],
          [
           "GShard (600B)"
          ],
          [
           "DALL-E"
          ],
          [
           "Meta Pseudo Labels"
          ],
          [
           "PLUG"
          ],
          [
           "PanGu-α"
          ],
          [
           "CoAtNet"
          ],
          [
           "GOAT"
          ],
          [
           "Jurassic-1-Jumbo"
          ],
          [
           "FLAN 137B"
          ],
          [
           "HyperCLOVA 82B"
          ],
          [
           "Megatron-Turing NLG 530B"
          ],
          [
           "Yuan 1.0"
          ],
          [
           "Gopher (280B)"
          ],
          [
           "GLaM"
          ],
          [
           "ERNIE 3.0 Titan"
          ],
          [
           "LaMDA"
          ],
          [
           "Chinchilla"
          ],
          [
           "PaLM (540B)"
          ],
          [
           "Parti"
          ],
          [
           "Minerva (540B)"
          ],
          [
           "U-PaLM (540B)"
          ],
          [
           "Flan-PaLM 540B"
          ],
          [
           "GPT-3.5 (text-davinci-003)"
          ],
          [
           "GPT-4"
          ],
          [
           "PaLM 2"
          ],
          [
           "Inflection-1"
          ],
          [
           "Claude 2"
          ],
          [
           "Amazon Titan"
          ],
          [
           "Mi:dm 200B"
          ],
          [
           "Inflection-2"
          ],
          [
           "Gemini 1.0 Ultra"
          ],
          [
           "MegaScale (Production)"
          ],
          [
           "Mistral Large"
          ],
          [
           "Inflection-2.5"
          ]
         ],
         "hovertemplate": "Model open/closed=Closed<br>Publication date (float)=%{x}<br>Training compute (FLOP)=%{y}<br>System=%{customdata[0]}<extra></extra>",
         "legendgroup": "Closed",
         "marker": {
          "color": "#636efa",
          "symbol": "circle"
         },
         "mode": "markers",
         "name": "Closed",
         "orientation": "v",
         "showlegend": true,
         "textposition": "top center",
         "type": "scatter",
         "x": [
          2015.2104731938907,
          2015.5136895397575,
          2015.6517810321209,
          2015.9577352859392,
          2016.5301169874665,
          2016.7351143654544,
          2016.7351143654544,
          2016.7351143654544,
          2016.8415470571877,
          2016.8442849651392,
          2017.060233974933,
          2017.4467836541332,
          2017.549282343127,
          2017.5997607810423,
          2017.6599947559753,
          2017.832137238545,
          2017.8579745048967,
          2018.0833333333333,
          2018.2241627336482,
          2018.2378522734057,
          2018.3388091492363,
          2018.4878522734057,
          2018.7883307113211,
          2019.0833333333333,
          2019.25,
          2019.3020202510786,
          2019.4154705718784,
          2019.4248803905211,
          2019.4796385495513,
          2019.5027379079515,
          2019.6803562064242,
          2019.7104731938907,
          2019.7104731938907,
          2019.7527379079515,
          2019.8293993305936,
          2019.8579745048967,
          2019.8607124128482,
          2019.8661882287513,
          2019.8826156764603,
          2019.9495215620848,
          2019.9495215620848,
          2019.9659490097938,
          2020.049282343127,
          2020.0739235146905,
          2020.1161882287513,
          2020.4072568480237,
          2020.4072568480237,
          2020.4960659972603,
          2020.4960659972603,
          2021.010951631806,
          2021.1666666666667,
          2021.299282343127,
          2021.315709790836,
          2021.4385699302788,
          2021.571185606739,
          2021.6107124128482,
          2021.6721424825698,
          2021.6913078382302,
          2021.777379079515,
          2021.7801169874665,
          2021.9358320223273,
          2021.9495215620848,
          2021.9769006415997,
          2022.1079745048967,
          2022.2433280893088,
          2022.2582137238544,
          2022.4741627336482,
          2022.4933280893088,
          2022.8020202510786,
          2022.8020202510786,
          2022.9072568480237,
          2023.2049973779879,
          2023.3579745048967,
          2023.4769006415997,
          2023.527379079515,
          2023.7405901813572,
          2023.832137238545,
          2023.8908294003147,
          2023.9303562064242,
          2024.1435673082663,
          2024.1517810321209,
          2024.1830941143758
         ],
         "xaxis": "x",
         "y": [
          73000000000000000,
          3340000000000000,
          2650000000000000,
          5620000000000000,
          3570000000000000,
          6.620000000001001e+21,
          7490000000000000,
          16800000000000000,
          21300000000000000,
          10500000000000000,
          93939056640000000000,
          7424524800000000000,
          12800000000000000,
          309000000000000000,
          474000000000000000,
          98500000000000000,
          437000000000000000,
          360000000000000000,
          240000000000000000,
          24000000000000000000,
          127000000000000000,
          34875000000000000000,
          2780000000000000000,
          4300000000000000000,
          7300000000000000000,
          521000000000000000000,
          4000000000000000000,
          7300000000000000000,
          4760000000000000000,
          46000000000000000000,
          19400000000000000000,
          6.027e+22,
          9.1e+21,
          7600000000000000000,
          5.9250000000001e+22,
          158000000000000000000,
          849346560000000000000,
          160000000000000000000,
          48000000000000000000,
          6.7e+22,
          1.3e+22,
          780000000000000000000,
          8.16e+21,
          1.12e+23,
          1.57e+22,
          3.14e+23,
          1.2e+22,
          1.28e+22,
          1.33e+22,
          4.7e+22,
          4.79e+22,
          3.5997695999999996e+22,
          5.83e+22,
          4.27e+22,
          7.8e+22,
          3.7e+23,
          4.896e+22,
          1.476e+23,
          1.17e+24,
          3.5380000000001e+23,
          6.31e+23,
          3.74e+23,
          1.0421e+24,
          3.55e+23,
          5.76e+23,
          2.5272e+24,
          3.962895376192635e+23,
          2.7415e+24,
          2.53e+24,
          2.4999999999999997e+24,
          2.578e+24,
          2.1e+25,
          7.34e+24,
          1.0001e+24,
          3.866e+24,
          4.7999999999999996e+24,
          1.1999999999999999e+24,
          1.001e+25,
          5.0000000001e+25,
          1.2e+25,
          2.0000000001e+25,
          1.0001e+25
         ],
         "yaxis": "y"
        },
        {
         "customdata": [
          [
           "SPIDER2"
          ],
          [
           "BIDAF"
          ],
          [
           "AlexNet + coordinating filters"
          ],
          [
           "ULM-FiT"
          ],
          [
           "DNCON2"
          ],
          [
           "GPT"
          ],
          [
           "Big-Little Net"
          ],
          [
           "Big-Little Net (vision)"
          ],
          [
           "Big-Little Net (speech)"
          ],
          [
           "(ensemble): AWD-LSTM-DOC (fin) × 5 (WT2)"
          ],
          [
           "BigGAN-deep 512x512"
          ],
          [
           "Transformer (Adaptive Input Embeddings) WT103"
          ],
          [
           "BERT-Large"
          ],
          [
           "Decoupled weight decay regularization"
          ],
          [
           "Transformer-XL (257M)"
          ],
          [
           "GPT-2 (1.5B)"
          ],
          [
           "ProxylessNAS"
          ],
          [
           "KataGo"
          ],
          [
           "UniRep"
          ],
          [
           "SciBERT"
          ],
          [
           "MnasNet-A3"
          ],
          [
           "MnasNet-A1 + SSDLite"
          ],
          [
           "XLNet"
          ],
          [
           "RoBERTa Large"
          ],
          [
           "Megatron-LM (355M)"
          ],
          [
           "T5-3B"
          ],
          [
           "T5-11B"
          ],
          [
           "CamemBERT"
          ],
          [
           "ALBERT-xxlarge"
          ],
          [
           "ELECTRA"
          ],
          [
           "Once for All"
          ],
          [
           "iGPT-XL"
          ],
          [
           "iGPT-L"
          ],
          [
           "mBART-50"
          ],
          [
           "mT5-XXL"
          ],
          [
           "ViT-Huge/14"
          ],
          [
           "CLIP (ViT L/14@336px)"
          ],
          [
           "Switch"
          ],
          [
           "MSA Transformer"
          ],
          [
           "ResNet-RS"
          ],
          [
           "GLM-10B"
          ],
          [
           "GPT-J-6B"
          ],
          [
           "ProtT5-XXL"
          ],
          [
           "ProtT5-XXL-BFD"
          ],
          [
           "ProtBERT-BFD"
          ],
          [
           "CogView"
          ],
          [
           "ByT5-XXL"
          ],
          [
           "XGLM-7.5B"
          ],
          [
           "GPT-NeoX-20B"
          ],
          [
           "Stable Diffusion (LDM-KL-8-G)"
          ],
          [
           "OPT-175B"
          ],
          [
           "UL2"
          ],
          [
           "OPT-66B"
          ],
          [
           "OPT-30B"
          ],
          [
           "CodeGeeX"
          ],
          [
           "YaLM"
          ],
          [
           "ESM2-15B"
          ],
          [
           "GLM-130B"
          ],
          [
           "BlenderBot 3"
          ],
          [
           "BLOOM-176B"
          ],
          [
           "Galactica"
          ],
          [
           "Whisper v2"
          ],
          [
           "OPT-IML (175B)"
          ],
          [
           "LLaMA-65B"
          ],
          [
           "LLaMA-33B"
          ],
          [
           "Falcon-40B"
          ],
          [
           "Llama 2-70B"
          ],
          [
           "Code Llama-34B"
          ],
          [
           "Falcon-180B"
          ],
          [
           "TigerBot-70B"
          ],
          [
           "Yi-34B"
          ],
          [
           "Grok-1"
          ],
          [
           "Qwen-72B"
          ],
          [
           "XVERSE-65B-2"
          ],
          [
           "DeepSeek LLM 67B"
          ],
          [
           "Code Llama-70B"
          ],
          [
           "DBRX"
          ],
          [
           "Llama 3-70B"
          ]
         ],
         "hovertemplate": "Model open/closed=Open<br>Publication date (float)=%{x}<br>Training compute (FLOP)=%{y}<br>System=%{customdata[0]}<extra></extra>",
         "legendgroup": "Open",
         "marker": {
          "color": "#EF553B",
          "symbol": "circle"
         },
         "mode": "markers",
         "name": "Open",
         "orientation": "v",
         "showlegend": true,
         "textposition": "top center",
         "type": "scatter",
         "x": [
          2016.8239235146905,
          2016.8442849651392,
          2017.2405901813572,
          2018.0465444351755,
          2018.3333333333333,
          2018.4166666666667,
          2018.5246411715634,
          2018.5246411715634,
          2018.5246411715634,
          2018.6627326639268,
          2018.7405901813572,
          2018.7405901813572,
          2018.777379079515,
          2019.0082137238544,
          2019.021903263612,
          2019.1189261367028,
          2019.1435673082663,
          2019.1545189400722,
          2019.2351143654544,
          2019.2351143654544,
          2019.4099947559753,
          2019.4099947559753,
          2019.4166666666667,
          2019.5,
          2019.7104731938907,
          2019.810233974933,
          2019.810233974933,
          2019.8579745048967,
          2020.1052365969454,
          2020.2269006415997,
          2020.326661422642,
          2020.4604731938907,
          2020.4604731938907,
          2020.5860712412848,
          2020.8020202510786,
          2020.8074960669815,
          2021.010951631806,
          2021.027379079515,
          2021.1161882287513,
          2021.1995215620848,
          2021.2132111018423,
          2021.3333333333333,
          2021.3415470571877,
          2021.3415470571877,
          2021.3415470571877,
          2021.4017810321209,
          2021.4072568480237,
          2021.9686869177453,
          2022.1052365969454,
          2022.282854895418,
          2022.3360712412848,
          2022.3579745048967,
          2022.4714248256969,
          2022.4714248256969,
          2022.4741627336482,
          2022.4769006415997,
          2022.5547581590301,
          2022.5915470571877,
          2022.6079745048967,
          2022.8524986889938,
          2022.8744019526057,
          2022.9276182984727,
          2022.9741627336482,
          2023.1463052162178,
          2023.1545189400722,
          2023.2049973779879,
          2023.5465444351755,
          2023.6189261367028,
          2023.6803562064242,
          2023.6803562064242,
          2023.8360712412848,
          2023.8415470571877,
          2023.9127326639268,
          2023.9358320223273,
          2024.010951631806,
          2024.076661422642,
          2024.2378522734057,
          2024.2965444351755
         ],
         "xaxis": "x",
         "y": [
          8540000000000,
          3468614400000000000,
          1557140125176000000,
          272538000000000000,
          95000000000000000,
          17578125000000000000,
          246048000000000000,
          62988288000000000000,
          429004800000000000,
          693000000000000000,
          1.8e+21,
          72000000000000000000,
          285000000000000000000,
          2470000000000000000,
          10900000000000000000,
          4.3e+21,
          37065600000000000000,
          23200000000000000000,
          22000000000000000000,
          89268480000000000000,
          1.5e+21,
          1.5e+21,
          8.9e+21,
          4.15383552e+21,
          335000000000000000000,
          865865406873600000000,
          3.3e+22,
          830000000000000000000,
          2.39e+21,
          3.0999999999999995e+21,
          1.7842809599999995e+21,
          3.3e+22,
          8.91e+21,
          1.4515200000000002e+22,
          8.2e+22,
          4.262e+21,
          1.05e+22,
          8.22e+22,
          5.49e+21,
          1.763328e+22,
          3.79e+22,
          1.5e+22,
          7.370000000000001e+22,
          3.7e+22,
          3.9e+22,
          2.68e+22,
          8.1e+22,
          4.347592704e+22,
          9.31627008e+22,
          5e+22,
          4.3e+23,
          1.2e+23,
          1.100000000001e+23,
          5.4000000000001e+22,
          6.630000000001e+22,
          2.2e+23,
          7.350000000009999e+22,
          3.778e+23,
          4.3e+23,
          5.770000000000099e+23,
          3.24e+23,
          1.1e+23,
          4.3e+23,
          5.5e+23,
          2.7300000000000996e+23,
          2.4e+23,
          8.1e+23,
          5.3e+23,
          3.76e+24,
          1.02e+24,
          6.1e+23,
          2.90000000001e+24,
          1.3e+24,
          1.24800000000001e+24,
          8.04e+23,
          1.230000000001e+24,
          2.6e+24,
          6.30000000001e+24
         ],
         "yaxis": "y"
        },
        {
         "line": {
          "width": 0
         },
         "mode": "lines",
         "showlegend": false,
         "textposition": "top center",
         "type": "scatter",
         "x": [
          2015,
          2015.0833333333333,
          2015.1666666666667,
          2015.25,
          2015.3333333333333,
          2015.4166666666667,
          2015.5,
          2015.5833333333333,
          2015.6666666666667,
          2015.75,
          2015.8333333333333,
          2015.9166666666667,
          2016,
          2016.0833333333333,
          2016.1666666666667,
          2016.25,
          2016.3333333333333,
          2016.4166666666667,
          2016.5,
          2016.5833333333333,
          2016.6666666666667,
          2016.75,
          2016.8333333333333,
          2016.9166666666667,
          2017,
          2017.0833333333333,
          2017.1666666666667,
          2017.25,
          2017.3333333333333,
          2017.4166666666667,
          2017.5,
          2017.5833333333333,
          2017.6666666666667,
          2017.75,
          2017.8333333333333,
          2017.9166666666667,
          2018,
          2018.0833333333333,
          2018.1666666666667,
          2018.25,
          2018.3333333333333,
          2018.4166666666667,
          2018.5,
          2018.5833333333333,
          2018.6666666666667,
          2018.75,
          2018.8333333333333,
          2018.9166666666667,
          2019,
          2019.0833333333333,
          2019.1666666666667,
          2019.25,
          2019.3333333333333,
          2019.4166666666667,
          2019.5,
          2019.5833333333333,
          2019.6666666666667,
          2019.75,
          2019.8333333333333,
          2019.9166666666667,
          2020,
          2020.0833333333333,
          2020.1666666666667,
          2020.25,
          2020.3333333333333,
          2020.4166666666667,
          2020.5,
          2020.5833333333333,
          2020.6666666666667,
          2020.75,
          2020.8333333333333,
          2020.9166666666667,
          2021,
          2021.0833333333333,
          2021.1666666666667,
          2021.25,
          2021.3333333333333,
          2021.4166666666667,
          2021.5,
          2021.5833333333333,
          2021.6666666666667,
          2021.75,
          2021.8333333333333,
          2021.9166666666667,
          2022,
          2022.0833333333333,
          2022.1666666666667,
          2022.25,
          2022.3333333333333,
          2022.4166666666667,
          2022.5,
          2022.5833333333333,
          2022.6666666666667,
          2022.75,
          2022.8333333333333,
          2022.9166666666667,
          2023,
          2023.0833333333333,
          2023.1666666666667,
          2023.25,
          2023.3333333333333,
          2023.4166666666667,
          2023.5,
          2023.5833333333333,
          2023.6666666666667,
          2023.75,
          2023.8333333333333,
          2023.9166666666667,
          2024,
          2024.0833333333333,
          2024.1666666666667,
          2024.25,
          2024.3333333333333,
          2024.4166666666667,
          2024.5,
          2024.5833333333333,
          2024.6666666666667,
          2024.75,
          2024.8333333333333,
          2024.9166666666667,
          2025
         ],
         "y": [
          1214414303688381.2,
          1499318446581889.5,
          1851008768906908.2,
          2285126088316000,
          2820969923863497.5,
          3482353115293497,
          4298655713585507.5,
          5306124502607733,
          6549475266279295,
          8083868155895169,
          9977342809796616,
          12313819934540824,
          15196800735927988,
          18753925948369956,
          23142593551385068,
          28556880177313850,
          35236067659252480,
          43475145538642200,
          53637745584778560,
          66172069068423460,
          81630496077678940,
          100693723950299280,
          124200475500388740,
          153184055173070530,
          188917322381435740,
          232968008026807000,
          287266737152084700,
          354190655582629900,
          436666212852100740,
          538295453905914100,
          663511149851884200,
          817767291931492600,
          1007772929552979300,
          1241779109041100000,
          1529930832678792400,
          1884698589444920300,
          2321407207956253000,
          2858883666336258600,
          3520250203981257700,
          4333894784742793700,
          5334657859925941000,
          6565282709970536000,
          8078186686569785000,
          9937622762969448000,
          12222315317624586000,
          15028671480232182000,
          18474690189363450000,
          22704715963158080000,
          27895213982677590000,
          34261778254743010000,
          42067626305794200000,
          51633883153341470000,
          63352015463284924000,
          77698845278904420000,
          95254653182786600000,
          116724975186625600000,
          142966808343349790000,
          175020069796852760000,
          214145306041893550000,
          261868827602459200000,
          320036654139211700000,
          390878902328253350000,
          477086541364695500000,
          581902788114771600000,
          709231827397144200000,
          863768036745854700000,
          1.0511494862681064e+21,
          1.2781401928820253e+21,
          1.552846457628842e+21,
          1.8849736318186897e+21,
          2.2861308732018818e+21,
          2.7701929022171025e+21,
          3.353729491013485e+21,
          4.0565154610893627e+21,
          4.902136383997881e+21,
          5.918708039295603e+21,
          7.139731063456883e+21,
          8.605106217785531e+21,
          1.036234042716658e+22,
          1.2467979332191135e+22,
          1.4989308718837242e+22,
          1.80063750380728e+22,
          2.1614384533466706e+22,
          2.5926551531187864e+22,
          3.1077479537071125e+22,
          3.7227174310747667e+22,
          4.456580649764037e+22,
          5.331936323056869e+22,
          6.3756353994870615e+22,
          7.619576673205861e+22,
          9.101650652574115e+22,
          1.0866859231978715e+23,
          1.296864382067223e+23,
          1.5470460637333065e+23,
          1.8447649054758127e+23,
          2.1989647382626887e+23,
          2.6202620553782384e+23,
          3.1212576121403606e+23,
          3.7169059125304914e+23,
          4.4249533154415546e+23,
          5.2664574802563975e+23,
          6.266403225853689e+23,
          7.45443266691299e+23,
          8.865710796926571e+23,
          1.0541951603738813e+24,
          1.2532634443873166e+24,
          1.4896445899891244e+24,
          1.7702988858701556e+24,
          2.1034808266194152e+24,
          2.4989792156643193e+24,
          2.968401738701482e+24,
          3.525512233902688e+24,
          4.1866304054393445e+24,
          4.971105527812457e+24,
          5.901877822018335e+24,
          7.006143712036341e+24,
          8.31614416406732e+24,
          9.870098857696479e+24,
          1.171331313953091e+25,
          1.3899489686492999e+25,
          1.6492282701244641e+25
         ]
        },
        {
         "fill": "tonexty",
         "fillcolor": "rgba(230,100,0,0.2)",
         "line": {
          "width": 0
         },
         "mode": "lines",
         "name": "95% CI of mean",
         "textposition": "top center",
         "type": "scatter",
         "x": [
          2015,
          2015.0833333333333,
          2015.1666666666667,
          2015.25,
          2015.3333333333333,
          2015.4166666666667,
          2015.5,
          2015.5833333333333,
          2015.6666666666667,
          2015.75,
          2015.8333333333333,
          2015.9166666666667,
          2016,
          2016.0833333333333,
          2016.1666666666667,
          2016.25,
          2016.3333333333333,
          2016.4166666666667,
          2016.5,
          2016.5833333333333,
          2016.6666666666667,
          2016.75,
          2016.8333333333333,
          2016.9166666666667,
          2017,
          2017.0833333333333,
          2017.1666666666667,
          2017.25,
          2017.3333333333333,
          2017.4166666666667,
          2017.5,
          2017.5833333333333,
          2017.6666666666667,
          2017.75,
          2017.8333333333333,
          2017.9166666666667,
          2018,
          2018.0833333333333,
          2018.1666666666667,
          2018.25,
          2018.3333333333333,
          2018.4166666666667,
          2018.5,
          2018.5833333333333,
          2018.6666666666667,
          2018.75,
          2018.8333333333333,
          2018.9166666666667,
          2019,
          2019.0833333333333,
          2019.1666666666667,
          2019.25,
          2019.3333333333333,
          2019.4166666666667,
          2019.5,
          2019.5833333333333,
          2019.6666666666667,
          2019.75,
          2019.8333333333333,
          2019.9166666666667,
          2020,
          2020.0833333333333,
          2020.1666666666667,
          2020.25,
          2020.3333333333333,
          2020.4166666666667,
          2020.5,
          2020.5833333333333,
          2020.6666666666667,
          2020.75,
          2020.8333333333333,
          2020.9166666666667,
          2021,
          2021.0833333333333,
          2021.1666666666667,
          2021.25,
          2021.3333333333333,
          2021.4166666666667,
          2021.5,
          2021.5833333333333,
          2021.6666666666667,
          2021.75,
          2021.8333333333333,
          2021.9166666666667,
          2022,
          2022.0833333333333,
          2022.1666666666667,
          2022.25,
          2022.3333333333333,
          2022.4166666666667,
          2022.5,
          2022.5833333333333,
          2022.6666666666667,
          2022.75,
          2022.8333333333333,
          2022.9166666666667,
          2023,
          2023.0833333333333,
          2023.1666666666667,
          2023.25,
          2023.3333333333333,
          2023.4166666666667,
          2023.5,
          2023.5833333333333,
          2023.6666666666667,
          2023.75,
          2023.8333333333333,
          2023.9166666666667,
          2024,
          2024.0833333333333,
          2024.1666666666667,
          2024.25,
          2024.3333333333333,
          2024.4166666666667,
          2024.5,
          2024.5833333333333,
          2024.6666666666667,
          2024.75,
          2024.8333333333333,
          2024.9166666666667,
          2025
         ],
         "y": [
          32585127647680520,
          38615841004426580,
          45764001092098150,
          54236964657114000,
          64280636817653940,
          76186654086560030,
          90300909888391580,
          107033674463298180,
          126871608555348910,
          150392026810437000,
          178279834085915460,
          211347637962202430,
          250559636116309000,
          297059990812000000,
          352206538100539800,
          417610840631335550,
          495185785283771100,
          587202156183722400,
          696355887315303200,
          825848025551549800,
          979479824916389800,
          1161765858788019700,
          1378068593579685400,
          1634758533262381600,
          1939404840732161000,
          2301002295692149500,
          2730241591031097300,
          3239831338925258000,
          3844881800206162000,
          4563362321793229000,
          5416646835010192000,
          6430164614476814000,
          7634176922715396000,
          9064704291178284000,
          10764634161783423000,
          12785044614432047000,
          15186787155833086000,
          18042380312419908000,
          21438276384969273000,
          25477576589876687000,
          30283285428762500000,
          36002214105537410000,
          42809665902348520000,
          50915064561701970000,
          60568721048352416000,
          72069976000690670000,
          85777006480892310000,
          102118648466881920000,
          121608663588957680000,
          144862973230311130000,
          172620499408624600000,
          205768394950063550000,
          245372621678896500000,
          292715052491930630000,
          349338540931721400000,
          417101732119662560000,
          498245796322883000000,
          595475769046052100000,
          712059801483706800000,
          851950389557797000000,
          1.019932591821395e+21,
          1.221805406860337e+21,
          1.4646039091650639e+21,
          1.7568714996899932e+21,
          2.1089937880854854e+21,
          2.5336082795510623e+21,
          3.046107303392215e+21,
          3.6652556319790476e+21,
          4.4139491701757984e+21,
          5.320147159896887e+21,
          6.418017806483561e+21,
          7.749346420331507e+21,
          9.365266483762786e+21,
          1.1328387999804917e+22,
          1.3715414673609758e+22,
          1.6620362680125228e+22,
          2.0158519920703698e+22,
          2.447131692104889e+22,
          2.973232029644586e+22,
          3.6154608760471283e+22,
          4.399985214182359e+22,
          5.3589488468653165e+22,
          6.531848617137484e+22,
          7.967229190472568e+22,
          9.724770441368602e+22,
          1.1877858745374478e+23,
          1.4516754766152068e+23,
          1.7752496588926208e+23,
          2.1721709450247973e+23,
          2.6592533285560206e+23,
          3.257192863429944e+23,
          3.991468229542389e+23,
          4.8934509215307054e+23,
          6.001773975097454e+23,
          7.364019580074852e+23,
          9.038800041291663e+23,
          1.1098323964714597e+24,
          1.3631561041845915e+24,
          1.6748145336054848e+24,
          2.0583189721621382e+24,
          2.53032245473634e+24,
          3.111352349144375e+24,
          3.8267141165704716e+24,
          4.707606306037001e+24,
          5.7924962281442e+24,
          7.128817340914024e+24,
          8.775063686260489e+24,
          1.0803374377342666e+25,
          1.3302722942977632e+25,
          1.6382853258356518e+25,
          2.017913703283458e+25,
          2.4858568870068463e+25,
          3.0627165595595587e+25,
          3.7739099124972065e+25,
          4.650796941801754e+25,
          5.732071948312159e+25,
          7.065481222305653e+25,
          8.709943441771139e+25,
          1.0738167282268345e+26,
          1.3239882925739967e+26,
          1.632583155869265e+26
         ]
        },
        {
         "line": {
          "color": "rgb(230,100,0)"
         },
         "mode": "lines",
         "name": "Regression mean (growth rate: 9.8x per year)",
         "textposition": "top center",
         "type": "scatter",
         "x": [
          2015,
          2015.0833333333333,
          2015.1666666666667,
          2015.25,
          2015.3333333333333,
          2015.4166666666667,
          2015.5,
          2015.5833333333333,
          2015.6666666666667,
          2015.75,
          2015.8333333333333,
          2015.9166666666667,
          2016,
          2016.0833333333333,
          2016.1666666666667,
          2016.25,
          2016.3333333333333,
          2016.4166666666667,
          2016.5,
          2016.5833333333333,
          2016.6666666666667,
          2016.75,
          2016.8333333333333,
          2016.9166666666667,
          2017,
          2017.0833333333333,
          2017.1666666666667,
          2017.25,
          2017.3333333333333,
          2017.4166666666667,
          2017.5,
          2017.5833333333333,
          2017.6666666666667,
          2017.75,
          2017.8333333333333,
          2017.9166666666667,
          2018,
          2018.0833333333333,
          2018.1666666666667,
          2018.25,
          2018.3333333333333,
          2018.4166666666667,
          2018.5,
          2018.5833333333333,
          2018.6666666666667,
          2018.75,
          2018.8333333333333,
          2018.9166666666667,
          2019,
          2019.0833333333333,
          2019.1666666666667,
          2019.25,
          2019.3333333333333,
          2019.4166666666667,
          2019.5,
          2019.5833333333333,
          2019.6666666666667,
          2019.75,
          2019.8333333333333,
          2019.9166666666667,
          2020,
          2020.0833333333333,
          2020.1666666666667,
          2020.25,
          2020.3333333333333,
          2020.4166666666667,
          2020.5,
          2020.5833333333333,
          2020.6666666666667,
          2020.75,
          2020.8333333333333,
          2020.9166666666667,
          2021,
          2021.0833333333333,
          2021.1666666666667,
          2021.25,
          2021.3333333333333,
          2021.4166666666667,
          2021.5,
          2021.5833333333333,
          2021.6666666666667,
          2021.75,
          2021.8333333333333,
          2021.9166666666667,
          2022,
          2022.0833333333333,
          2022.1666666666667,
          2022.25,
          2022.3333333333333,
          2022.4166666666667,
          2022.5,
          2022.5833333333333,
          2022.6666666666667,
          2022.75,
          2022.8333333333333,
          2022.9166666666667,
          2023,
          2023.0833333333333,
          2023.1666666666667,
          2023.25,
          2023.3333333333333,
          2023.4166666666667,
          2023.5,
          2023.5833333333333,
          2023.6666666666667,
          2023.75,
          2023.8333333333333,
          2023.9166666666667,
          2024,
          2024.0833333333333,
          2024.1666666666667,
          2024.25,
          2024.3333333333333,
          2024.4166666666667,
          2024.5,
          2024.5833333333333,
          2024.6666666666667,
          2024.75,
          2024.8333333333333,
          2024.9166666666667,
          2025
         ],
         "y": [
          6290615637825518,
          7609036913316287,
          9203780056136664,
          11132758098918886,
          13466021801162894,
          16288303539722004,
          19702094361607970,
          23831365942258612,
          28826072611896388,
          34867596940905164,
          42175336640610740,
          51014671982255120,
          61706603070710136,
          74639406950428720,
          90282737870543170,
          109204682759744140,
          132092391280342220,
          159777029640345470,
          193263964360356030,
          233769272118510700,
          282763901525642080,
          342027090564012540,
          413710979543387100,
          500418765988959000,
          605299239653177300,
          732161130689488400,
          885611423533154200,
          1071222659352894200,
          1295735302660227800,
          1567302521004427000,
          1895786266919133000,
          2293115414333612500,
          2773718955144995300,
          3355049987469695500,
          4058219524202687500,
          4908763138593108000,
          5937568287544016000,
          7181995988372881000,
          8687237582637801000,
          10507955857860827000,
          12710270124467403000,
          15374157335858838000,
          18596356448209210000,
          22493881491784130000,
          27208270930696946000,
          32910727626453316000,
          39808336063009550000,
          48151582611396510000,
          58243451932053500000,
          70450429850638190000,
          85215812275900940000,
          103075803472503670000,
          124678988297420080000,
          150809885532669580000,
          182417437652851100000,
          220649471633099900000,
          266894382239067200000,
          322831551526139700000,
          390492335531516360000,
          472333832886189400000,
          571328114251393700000,
          691070152945628000000,
          835908376254702400000,
          1.0111025783910291e+21,
          1.223014929709811e+21,
          1.4793410186670495e+21,
          1.789389316800079e+21,
          2.1644192154986126e+21,
          2.618049910345724e+21,
          3.16675498164931e+21,
          3.830460631851147e+21,
          4.6332693047592055e+21,
          5.604334964810314e+21,
          6.778921822120966e+21,
          8.199684950845416e+21,
          9.918219306451425e+21,
          1.1996933394462212e+22,
          1.451131563279905e+22,
          1.7552675710595416e+22,
          2.123146049590118e+22,
          2.5681264909209318e+22,
          3.1063683417538344e+22,
          3.7574178331029716e+22,
          4.544917800880135e+22,
          5.497466274515441e+22,
          6.649655013250644e+22,
          8.043325704470953e+22,
          9.72908944287382e+22,
          1.1768164670345738e+23,
          1.4234600321192898e+23,
          1.7217964906166148e+23,
          2.0826599189342566e+23,
          2.5191550578571382e+23,
          3.047133210673848e+23,
          3.685767882620773e+23,
          4.4582510659458944e+23,
          5.3926354561602466e+23,
          6.5228531845518e+23,
          7.889948062154925e+23,
          9.543566084072088e+23,
          1.1543758321797511e+24,
          1.396316167543933e+24,
          1.6889636679780892e+24,
          2.0429458156082323e+24,
          2.471117457789811e+24,
          2.98902763036442e+24,
          3.6154842202736773e+24,
          4.373236973209651e+24,
          5.289803649700397e+24,
          6.398469331481664e+24,
          7.739495167887994e+24,
          9.361580457846788e+24,
          1.1323631162968276e+25,
          1.3696899075148758e+25,
          1.656756932248375e+25,
          2.003989017874278e+25,
          2.4239958835196977e+25,
          2.932030061497089e+25,
          3.546540792404265e+25,
          4.289844008547368e+25,
          5.188932736111162e+25
         ]
        },
        {
         "line": {
          "width": 0
         },
         "mode": "lines",
         "showlegend": false,
         "textposition": "top center",
         "type": "scatter",
         "x": [
          2015,
          2015.0833333333333,
          2015.1666666666667,
          2015.25,
          2015.3333333333333,
          2015.4166666666667,
          2015.5,
          2015.5833333333333,
          2015.6666666666667,
          2015.75,
          2015.8333333333333,
          2015.9166666666667,
          2016,
          2016.0833333333333,
          2016.1666666666667,
          2016.25,
          2016.3333333333333,
          2016.4166666666667,
          2016.5,
          2016.5833333333333,
          2016.6666666666667,
          2016.75,
          2016.8333333333333,
          2016.9166666666667,
          2017,
          2017.0833333333333,
          2017.1666666666667,
          2017.25,
          2017.3333333333333,
          2017.4166666666667,
          2017.5,
          2017.5833333333333,
          2017.6666666666667,
          2017.75,
          2017.8333333333333,
          2017.9166666666667,
          2018,
          2018.0833333333333,
          2018.1666666666667,
          2018.25,
          2018.3333333333333,
          2018.4166666666667,
          2018.5,
          2018.5833333333333,
          2018.6666666666667,
          2018.75,
          2018.8333333333333,
          2018.9166666666667,
          2019,
          2019.0833333333333,
          2019.1666666666667,
          2019.25,
          2019.3333333333333,
          2019.4166666666667,
          2019.5,
          2019.5833333333333,
          2019.6666666666667,
          2019.75,
          2019.8333333333333,
          2019.9166666666667,
          2020,
          2020.0833333333333,
          2020.1666666666667,
          2020.25,
          2020.3333333333333,
          2020.4166666666667,
          2020.5,
          2020.5833333333333,
          2020.6666666666667,
          2020.75,
          2020.8333333333333,
          2020.9166666666667,
          2021,
          2021.0833333333333,
          2021.1666666666667,
          2021.25,
          2021.3333333333333,
          2021.4166666666667,
          2021.5,
          2021.5833333333333,
          2021.6666666666667,
          2021.75,
          2021.8333333333333,
          2021.9166666666667,
          2022,
          2022.0833333333333,
          2022.1666666666667,
          2022.25,
          2022.3333333333333,
          2022.4166666666667,
          2022.5,
          2022.5833333333333,
          2022.6666666666667,
          2022.75,
          2022.8333333333333,
          2022.9166666666667,
          2023,
          2023.0833333333333,
          2023.1666666666667,
          2023.25,
          2023.3333333333333,
          2023.4166666666667,
          2023.5,
          2023.5833333333333,
          2023.6666666666667,
          2023.75,
          2023.8333333333333,
          2023.9166666666667,
          2024,
          2024.0833333333333,
          2024.1666666666667,
          2024.25,
          2024.3333333333333,
          2024.4166666666667,
          2024.5,
          2024.5833333333333,
          2024.6666666666667,
          2024.75,
          2024.8333333333333,
          2024.9166666666667,
          2025
         ],
         "y": [
          216429761614888.94,
          277411807282108.88,
          355557020099914.8,
          455689420568953.3,
          583986719635546.2,
          748359441131160.2,
          958935969641232.5,
          1228683031693298.5,
          1574199307997079.2,
          2016730326884535.8,
          2583466125436788,
          3309200175719544.5,
          4238449764935451,
          5428165668750877,
          6951194191290573,
          8900699526922006,
          11395811546951606,
          14588836850670030,
          18674463456320010,
          23901507177871428,
          30587897289563384,
          39139789062844616,
          50075931960983540,
          64058728319808410,
          81933805416957100,
          104780415592311420,
          133975601787914750,
          171275853804714340,
          218920976770418500,
          279766151764311870,
          357449756894305340,
          456606519975890100,
          583138097018999000,
          744556345867220900,
          950418555811722400,
          1212878906133043000,
          1547386713127436000,
          1973569901019771100,
          2516351987115789300,
          3207363187980872700,
          4086721627260443000,
          5205279792508551000,
          6627455255392273000,
          8434794355013324000,
          10730454425389113000,
          13644835922866813000,
          17342652568581585000,
          22031797942477926000,
          27974454028921192000,
          35500994943791673000,
          45027372317041490000,
          57076833558856696000,
          72307027918995690000,
          91543807039734990000,
          115823337978675970000,
          146444531522571190000,
          185034264464939900000,
          233628462967308030000,
          294772841858087160000,
          371647994732175360000,
          468224642753958840000,
          589456226424821650000,
          741517726293516000000,
          932101702213402100000,
          1.1707851406596559e+21,
          1.469483912197564e+21,
          1.8430156100528382e+21,
          2.3097964429709271e+21,
          2.892703909636343e+21,
          3.620144457527995e+21,
          4.5273745588144964e+21,
          5.658135030089188e+21,
          7.066672487891601e+21,
          8.820239192624311e+21,
          1.1002183960018626e+22,
          1.3715773262371362e+22,
          1.7088914273308328e+22,
          2.1279991875072223e+22,
          2.648508132932403e+22,
          3.294685960897316e+22,
          4.096561400938099e+22,
          5.0912839945356535e+22,
          6.324803491512745e+22,
          7.853943755328487e+22,
          9.748963576576027e+22,
          1.2096718386126656e+23,
          1.5004563488130587e+23,
          1.860517227211898e+23,
          2.3062483358875057e+23,
          2.8579040568932013e+23,
          3.5405051173646464e+23,
          4.384956380485283e+23,
          5.4294260997741e+23,
          6.721047673840563e+23,
          8.31801916526477e+23,
          1.0292193385393455e+24,
          1.2732272967026344e+24,
          1.574775149814422e+24,
          1.9473774641400583e+24,
          2.4077135657849415e+24,
          2.976366966510587e+24,
          3.6787372478023466e+24,
          4.546164570158917e+24,
          5.617316319369882e+24,
          6.939896918322188e+24,
          8.572756026290134e+24,
          1.058848783923413e+25,
          1.3076635760002304e+25,
          1.6147643270501078e+25,
          1.993772457110762e+25,
          2.461486888798028e+25,
          3.0386242051541743e+25,
          3.750731019294346e+25,
          4.629308586744264e+25,
          5.713198989481301e+25,
          7.0502936771387634e+25,
          8.699639266207947e+25,
          1.0734032889466349e+26,
          1.3243220815004067e+26,
          1.6337840452996995e+26,
          2.015427839227592e+26
         ]
        },
        {
         "fill": "tonexty",
         "fillcolor": "rgba(0,100,200,0.2)",
         "line": {
          "width": 0
         },
         "mode": "lines",
         "name": "95% CI of mean",
         "textposition": "top center",
         "type": "scatter",
         "x": [
          2015,
          2015.0833333333333,
          2015.1666666666667,
          2015.25,
          2015.3333333333333,
          2015.4166666666667,
          2015.5,
          2015.5833333333333,
          2015.6666666666667,
          2015.75,
          2015.8333333333333,
          2015.9166666666667,
          2016,
          2016.0833333333333,
          2016.1666666666667,
          2016.25,
          2016.3333333333333,
          2016.4166666666667,
          2016.5,
          2016.5833333333333,
          2016.6666666666667,
          2016.75,
          2016.8333333333333,
          2016.9166666666667,
          2017,
          2017.0833333333333,
          2017.1666666666667,
          2017.25,
          2017.3333333333333,
          2017.4166666666667,
          2017.5,
          2017.5833333333333,
          2017.6666666666667,
          2017.75,
          2017.8333333333333,
          2017.9166666666667,
          2018,
          2018.0833333333333,
          2018.1666666666667,
          2018.25,
          2018.3333333333333,
          2018.4166666666667,
          2018.5,
          2018.5833333333333,
          2018.6666666666667,
          2018.75,
          2018.8333333333333,
          2018.9166666666667,
          2019,
          2019.0833333333333,
          2019.1666666666667,
          2019.25,
          2019.3333333333333,
          2019.4166666666667,
          2019.5,
          2019.5833333333333,
          2019.6666666666667,
          2019.75,
          2019.8333333333333,
          2019.9166666666667,
          2020,
          2020.0833333333333,
          2020.1666666666667,
          2020.25,
          2020.3333333333333,
          2020.4166666666667,
          2020.5,
          2020.5833333333333,
          2020.6666666666667,
          2020.75,
          2020.8333333333333,
          2020.9166666666667,
          2021,
          2021.0833333333333,
          2021.1666666666667,
          2021.25,
          2021.3333333333333,
          2021.4166666666667,
          2021.5,
          2021.5833333333333,
          2021.6666666666667,
          2021.75,
          2021.8333333333333,
          2021.9166666666667,
          2022,
          2022.0833333333333,
          2022.1666666666667,
          2022.25,
          2022.3333333333333,
          2022.4166666666667,
          2022.5,
          2022.5833333333333,
          2022.6666666666667,
          2022.75,
          2022.8333333333333,
          2022.9166666666667,
          2023,
          2023.0833333333333,
          2023.1666666666667,
          2023.25,
          2023.3333333333333,
          2023.4166666666667,
          2023.5,
          2023.5833333333333,
          2023.6666666666667,
          2023.75,
          2023.8333333333333,
          2023.9166666666667,
          2024,
          2024.0833333333333,
          2024.1666666666667,
          2024.25,
          2024.3333333333333,
          2024.4166666666667,
          2024.5,
          2024.5833333333333,
          2024.6666666666667,
          2024.75,
          2024.8333333333333,
          2024.9166666666667,
          2025
         ],
         "y": [
          3892546922214528.5,
          4800579562965080,
          5920755566601773,
          7302729593851138,
          9007804893924076,
          11111673607984046,
          13707803960816252,
          16911627710739920,
          20865717788124784,
          25746191388610680,
          31770630022421384,
          39207877799865200,
          48390165849156240,
          59728118319199360,
          73729329031620850,
          91021363897585000,
          112380250671532600,
          138765774426135060,
          171365216744422700,
          211647574594396700,
          261430790657441470,
          322965144935551940,
          399036728362829200,
          493095881291079500,
          609416681354380800,
          753295066976968800,
          931295060962128100,
          1151554909317244400,
          1424167894873051400,
          1761656276224042800,
          2179561433218342400,
          2697179114841420300,
          3338475992884140500,
          4133232916882638300,
          5118471838903827000,
          6340237960852533000,
          7855827052686224000,
          9736571114724164000,
          12071324905604778000,
          14970832977929050000,
          18573203855792067000,
          23050777528287140000,
          28618747934079100000,
          35545997927455560000,
          44168725900550280000,
          54907597880726690000,
          68289355575708170000,
          84974061053847730000,
          105789477273282430000,
          131774489339124580000,
          164233988207062600000,
          204808297256913240000,
          255561061908782400000,
          319090593272102060000,
          398671022599726960000,
          498431365665073860000,
          623582819336911000000,
          780707449834816500000,
          978125053698308400000,
          1.226359596112847e+21,
          1.5387325353991662e+21,
          1.9321178833688747e+21,
          2.427903484566099e+21,
          3.053215306340325e+21,
          3.8424772624466145e+21,
          4.839399200485937e+21,
          6.099511390585362e+21,
          7.693396724107922e+21,
          9.710813870068e+21,
          1.2265958408380037e+22,
          1.5504177746955962e+22,
          1.961054363890016e+22,
          2.482079873234597e+22,
          3.143533770561432e+22,
          3.9837067997810195e+22,
          5.051423125647415e+22,
          6.408956888500902e+22,
          8.135760205339046e+22,
          1.0333229203216713e+23,
          1.313079812079571e+23,
          1.669373277024973e+23,
          2.1233098721180392e+23,
          2.701851286617572e+23,
          3.439445777579815e+23,
          4.380115698840398e+23,
          5.5801289614166225e+23,
          7.111418167598731e+23,
          9.065957165869284e+23,
          1.1561363724260144e+24,
          1.474807256307986e+24,
          1.8818519800694343e+24,
          2.4018903943390677e+24,
          3.06642475788055e+24,
          3.9157687768980444e+24,
          5.001518442147397e+24,
          6.389717085012918e+24,
          8.164910010390708e+24,
          1.0435339109170294e+25,
          1.3339598423756244e+25,
          1.705516211976008e+25,
          2.1809312326774337e+25,
          2.7893143060103106e+25,
          3.5679507170930357e+25,
          4.564601785428538e+25,
          5.840452988391358e+25,
          7.473892795480138e+25,
          9.565356532603256e+25,
          1.2243535747377753e+26,
          1.5673338387409867e+26,
          2.006609391704164e+26,
          2.569263706121756e+26,
          3.290008287348397e+26,
          4.21333354327912e+26,
          5.396266699028899e+26,
          6.911908217352223e+26,
          8.853966646504327e+26,
          1.1342573982458203e+27,
          1.4531743379444649e+27,
          1.861893334633602e+27,
          2.3857313809092584e+27,
          3.0571497791786124e+27
         ]
        },
        {
         "line": {
          "color": "rgb(0,100,200)"
         },
         "mode": "lines",
         "name": "Regression mean (growth rate: 15.6x per year)",
         "textposition": "top center",
         "type": "scatter",
         "x": [
          2015,
          2015.0833333333333,
          2015.1666666666667,
          2015.25,
          2015.3333333333333,
          2015.4166666666667,
          2015.5,
          2015.5833333333333,
          2015.6666666666667,
          2015.75,
          2015.8333333333333,
          2015.9166666666667,
          2016,
          2016.0833333333333,
          2016.1666666666667,
          2016.25,
          2016.3333333333333,
          2016.4166666666667,
          2016.5,
          2016.5833333333333,
          2016.6666666666667,
          2016.75,
          2016.8333333333333,
          2016.9166666666667,
          2017,
          2017.0833333333333,
          2017.1666666666667,
          2017.25,
          2017.3333333333333,
          2017.4166666666667,
          2017.5,
          2017.5833333333333,
          2017.6666666666667,
          2017.75,
          2017.8333333333333,
          2017.9166666666667,
          2018,
          2018.0833333333333,
          2018.1666666666667,
          2018.25,
          2018.3333333333333,
          2018.4166666666667,
          2018.5,
          2018.5833333333333,
          2018.6666666666667,
          2018.75,
          2018.8333333333333,
          2018.9166666666667,
          2019,
          2019.0833333333333,
          2019.1666666666667,
          2019.25,
          2019.3333333333333,
          2019.4166666666667,
          2019.5,
          2019.5833333333333,
          2019.6666666666667,
          2019.75,
          2019.8333333333333,
          2019.9166666666667,
          2020,
          2020.0833333333333,
          2020.1666666666667,
          2020.25,
          2020.3333333333333,
          2020.4166666666667,
          2020.5,
          2020.5833333333333,
          2020.6666666666667,
          2020.75,
          2020.8333333333333,
          2020.9166666666667,
          2021,
          2021.0833333333333,
          2021.1666666666667,
          2021.25,
          2021.3333333333333,
          2021.4166666666667,
          2021.5,
          2021.5833333333333,
          2021.6666666666667,
          2021.75,
          2021.8333333333333,
          2021.9166666666667,
          2022,
          2022.0833333333333,
          2022.1666666666667,
          2022.25,
          2022.3333333333333,
          2022.4166666666667,
          2022.5,
          2022.5833333333333,
          2022.6666666666667,
          2022.75,
          2022.8333333333333,
          2022.9166666666667,
          2023,
          2023.0833333333333,
          2023.1666666666667,
          2023.25,
          2023.3333333333333,
          2023.4166666666667,
          2023.5,
          2023.5833333333333,
          2023.6666666666667,
          2023.75,
          2023.8333333333333,
          2023.9166666666667,
          2024,
          2024.0833333333333,
          2024.1666666666667,
          2024.25,
          2024.3333333333333,
          2024.4166666666667,
          2024.5,
          2024.5833333333333,
          2024.6666666666667,
          2024.75,
          2024.8333333333333,
          2024.9166666666667,
          2025
         ],
         "y": [
          917857833463145.9,
          1154009294834187.8,
          1450919090094588.8,
          1824219454230705.5,
          2293564568770572,
          2883665350088813.5,
          3625590473676979,
          4558402133039629,
          5731212655531833,
          7205770255509458,
          9059710064163790,
          11390641601986422,
          14321287898389020,
          18005946832071018,
          22638614880163320,
          28463200989752200,
          35786368330021520,
          44993680040198580,
          56569899043378890,
          71124510707259350,
          89423812113771840,
          112431257430611980,
          141358183560169250,
          177727586759179740,
          223454308054102180,
          280945849197821150,
          353229127103802000,
          444109840350696800,
          558372838371172100,
          702034042714915700,
          882657183984869800,
          1109752030581333400,
          1395275075902264800,
          1754259045070668000,
          2205604364588977200,
          2773074265608841700,
          3486545912784418000,
          4383583430386392000,
          5511415645125933000,
          6929422673413687000,
          8712262271361124000,
          10953800549106380000,
          13772054000709528000,
          17315403046473318000,
          21770404229213536000,
          27371612374890620000,
          34413929852340847000,
          43268133117690160000,
          54400394012590040000,
          68396823608622290000,
          85994330825421340000,
          108119420521965810000,
          135936973772577850000,
          170911578597518870000,
          214884640197647760000,
          270171330531159640000,
          339682481604481400000,
          427077840132258460000,
          536958752392811300000,
          675110424090681700000,
          848806510154798500000,
          1.0671920710624357e+21,
          1.3417650582481116e+21,
          1.6869816786983285e+21,
          2.1210175110533834e+21,
          2.6667244457978474e+21,
          3.352833832229673e+21,
          4.215469177648991e+21,
          5.300048042017782e+21,
          6.663673262425604e+21,
          8.378139404838421e+21,
          1.0533712732097534e+22,
          1.3243883702651726e+22,
          1.6651342218104828e+22,
          2.0935490214935944e+22,
          2.6321887136692763e+22,
          3.3094125588829325e+22,
          4.160876242657919e+22,
          5.231409139435959e+22,
          6.5773745692306815e+22,
          8.269637313944336e+22,
          1.0397294632429207e+23,
          1.3072367211468251e+23,
          1.6435697030127418e+23,
          2.0664362658737845e+23,
          2.5981002406475064e+23,
          3.2665536179034383e+23,
          4.1069903199624125e+23,
          5.163659153126311e+23,
          6.492193497530804e+23,
          8.162540392279003e+23,
          1.0262643231586786e+24,
          1.2903071965012878e+24,
          1.6222844580796584e+24,
          2.0396746372205358e+24,
          2.564453234451849e+24,
          3.224249726734894e+24,
          4.0538022533182287e+24,
          5.09678657107605e+24,
          6.408115573427792e+24,
          8.056830442036327e+24,
          1.0129735649733452e+25,
          1.2735969196775508e+25,
          1.601274870242852e+25,
          2.0132595882236047e+25,
          2.5312419778104734e+25,
          3.1824936971407863e+25,
          4.001303005060058e+25,
          5.030780030350613e+25,
          6.325126510481465e+25,
          7.952489501082872e+25,
          9.998549303321291e+25,
          1.2571030512814115e+26,
          1.580537369573292e+26,
          1.9871866304593595e+26,
          2.4984608274985414e+26,
          3.141278433976556e+26,
          3.94948365455845e+26,
          4.965628315181982e+26,
          6.243212207269882e+26,
          7.849499839891114e+26
         ]
        }
       ],
       "layout": {
        "autosize": false,
        "font": {
         "size": 14
        },
        "height": 600,
        "legend": {
         "orientation": "h",
         "title": {
          "text": "Model open/closed"
         },
         "tracegroupgap": 0,
         "x": 0.5,
         "xanchor": "center",
         "y": -0.15,
         "yanchor": "top"
        },
        "margin": {
         "b": 10,
         "l": 10,
         "r": 10,
         "t": 40
        },
        "template": {
         "data": {
          "bar": [
           {
            "error_x": {
             "color": "#2a3f5f"
            },
            "error_y": {
             "color": "#2a3f5f"
            },
            "marker": {
             "line": {
              "color": "#E5ECF6",
              "width": 0.5
             },
             "pattern": {
              "fillmode": "overlay",
              "size": 10,
              "solidity": 0.2
             }
            },
            "type": "bar"
           }
          ],
          "barpolar": [
           {
            "marker": {
             "line": {
              "color": "#E5ECF6",
              "width": 0.5
             },
             "pattern": {
              "fillmode": "overlay",
              "size": 10,
              "solidity": 0.2
             }
            },
            "type": "barpolar"
           }
          ],
          "carpet": [
           {
            "aaxis": {
             "endlinecolor": "#2a3f5f",
             "gridcolor": "white",
             "linecolor": "white",
             "minorgridcolor": "white",
             "startlinecolor": "#2a3f5f"
            },
            "baxis": {
             "endlinecolor": "#2a3f5f",
             "gridcolor": "white",
             "linecolor": "white",
             "minorgridcolor": "white",
             "startlinecolor": "#2a3f5f"
            },
            "type": "carpet"
           }
          ],
          "choropleth": [
           {
            "colorbar": {
             "outlinewidth": 0,
             "ticks": ""
            },
            "type": "choropleth"
           }
          ],
          "contour": [
           {
            "colorbar": {
             "outlinewidth": 0,
             "ticks": ""
            },
            "colorscale": [
             [
              0,
              "#0d0887"
             ],
             [
              0.1111111111111111,
              "#46039f"
             ],
             [
              0.2222222222222222,
              "#7201a8"
             ],
             [
              0.3333333333333333,
              "#9c179e"
             ],
             [
              0.4444444444444444,
              "#bd3786"
             ],
             [
              0.5555555555555556,
              "#d8576b"
             ],
             [
              0.6666666666666666,
              "#ed7953"
             ],
             [
              0.7777777777777778,
              "#fb9f3a"
             ],
             [
              0.8888888888888888,
              "#fdca26"
             ],
             [
              1,
              "#f0f921"
             ]
            ],
            "type": "contour"
           }
          ],
          "contourcarpet": [
           {
            "colorbar": {
             "outlinewidth": 0,
             "ticks": ""
            },
            "type": "contourcarpet"
           }
          ],
          "heatmap": [
           {
            "colorbar": {
             "outlinewidth": 0,
             "ticks": ""
            },
            "colorscale": [
             [
              0,
              "#0d0887"
             ],
             [
              0.1111111111111111,
              "#46039f"
             ],
             [
              0.2222222222222222,
              "#7201a8"
             ],
             [
              0.3333333333333333,
              "#9c179e"
             ],
             [
              0.4444444444444444,
              "#bd3786"
             ],
             [
              0.5555555555555556,
              "#d8576b"
             ],
             [
              0.6666666666666666,
              "#ed7953"
             ],
             [
              0.7777777777777778,
              "#fb9f3a"
             ],
             [
              0.8888888888888888,
              "#fdca26"
             ],
             [
              1,
              "#f0f921"
             ]
            ],
            "type": "heatmap"
           }
          ],
          "heatmapgl": [
           {
            "colorbar": {
             "outlinewidth": 0,
             "ticks": ""
            },
            "colorscale": [
             [
              0,
              "#0d0887"
             ],
             [
              0.1111111111111111,
              "#46039f"
             ],
             [
              0.2222222222222222,
              "#7201a8"
             ],
             [
              0.3333333333333333,
              "#9c179e"
             ],
             [
              0.4444444444444444,
              "#bd3786"
             ],
             [
              0.5555555555555556,
              "#d8576b"
             ],
             [
              0.6666666666666666,
              "#ed7953"
             ],
             [
              0.7777777777777778,
              "#fb9f3a"
             ],
             [
              0.8888888888888888,
              "#fdca26"
             ],
             [
              1,
              "#f0f921"
             ]
            ],
            "type": "heatmapgl"
           }
          ],
          "histogram": [
           {
            "marker": {
             "pattern": {
              "fillmode": "overlay",
              "size": 10,
              "solidity": 0.2
             }
            },
            "type": "histogram"
           }
          ],
          "histogram2d": [
           {
            "colorbar": {
             "outlinewidth": 0,
             "ticks": ""
            },
            "colorscale": [
             [
              0,
              "#0d0887"
             ],
             [
              0.1111111111111111,
              "#46039f"
             ],
             [
              0.2222222222222222,
              "#7201a8"
             ],
             [
              0.3333333333333333,
              "#9c179e"
             ],
             [
              0.4444444444444444,
              "#bd3786"
             ],
             [
              0.5555555555555556,
              "#d8576b"
             ],
             [
              0.6666666666666666,
              "#ed7953"
             ],
             [
              0.7777777777777778,
              "#fb9f3a"
             ],
             [
              0.8888888888888888,
              "#fdca26"
             ],
             [
              1,
              "#f0f921"
             ]
            ],
            "type": "histogram2d"
           }
          ],
          "histogram2dcontour": [
           {
            "colorbar": {
             "outlinewidth": 0,
             "ticks": ""
            },
            "colorscale": [
             [
              0,
              "#0d0887"
             ],
             [
              0.1111111111111111,
              "#46039f"
             ],
             [
              0.2222222222222222,
              "#7201a8"
             ],
             [
              0.3333333333333333,
              "#9c179e"
             ],
             [
              0.4444444444444444,
              "#bd3786"
             ],
             [
              0.5555555555555556,
              "#d8576b"
             ],
             [
              0.6666666666666666,
              "#ed7953"
             ],
             [
              0.7777777777777778,
              "#fb9f3a"
             ],
             [
              0.8888888888888888,
              "#fdca26"
             ],
             [
              1,
              "#f0f921"
             ]
            ],
            "type": "histogram2dcontour"
           }
          ],
          "mesh3d": [
           {
            "colorbar": {
             "outlinewidth": 0,
             "ticks": ""
            },
            "type": "mesh3d"
           }
          ],
          "parcoords": [
           {
            "line": {
             "colorbar": {
              "outlinewidth": 0,
              "ticks": ""
             }
            },
            "type": "parcoords"
           }
          ],
          "pie": [
           {
            "automargin": true,
            "type": "pie"
           }
          ],
          "scatter": [
           {
            "fillpattern": {
             "fillmode": "overlay",
             "size": 10,
             "solidity": 0.2
            },
            "type": "scatter"
           }
          ],
          "scatter3d": [
           {
            "line": {
             "colorbar": {
              "outlinewidth": 0,
              "ticks": ""
             }
            },
            "marker": {
             "colorbar": {
              "outlinewidth": 0,
              "ticks": ""
             }
            },
            "type": "scatter3d"
           }
          ],
          "scattercarpet": [
           {
            "marker": {
             "colorbar": {
              "outlinewidth": 0,
              "ticks": ""
             }
            },
            "type": "scattercarpet"
           }
          ],
          "scattergeo": [
           {
            "marker": {
             "colorbar": {
              "outlinewidth": 0,
              "ticks": ""
             }
            },
            "type": "scattergeo"
           }
          ],
          "scattergl": [
           {
            "marker": {
             "colorbar": {
              "outlinewidth": 0,
              "ticks": ""
             }
            },
            "type": "scattergl"
           }
          ],
          "scattermapbox": [
           {
            "marker": {
             "colorbar": {
              "outlinewidth": 0,
              "ticks": ""
             }
            },
            "type": "scattermapbox"
           }
          ],
          "scatterpolar": [
           {
            "marker": {
             "colorbar": {
              "outlinewidth": 0,
              "ticks": ""
             }
            },
            "type": "scatterpolar"
           }
          ],
          "scatterpolargl": [
           {
            "marker": {
             "colorbar": {
              "outlinewidth": 0,
              "ticks": ""
             }
            },
            "type": "scatterpolargl"
           }
          ],
          "scatterternary": [
           {
            "marker": {
             "colorbar": {
              "outlinewidth": 0,
              "ticks": ""
             }
            },
            "type": "scatterternary"
           }
          ],
          "surface": [
           {
            "colorbar": {
             "outlinewidth": 0,
             "ticks": ""
            },
            "colorscale": [
             [
              0,
              "#0d0887"
             ],
             [
              0.1111111111111111,
              "#46039f"
             ],
             [
              0.2222222222222222,
              "#7201a8"
             ],
             [
              0.3333333333333333,
              "#9c179e"
             ],
             [
              0.4444444444444444,
              "#bd3786"
             ],
             [
              0.5555555555555556,
              "#d8576b"
             ],
             [
              0.6666666666666666,
              "#ed7953"
             ],
             [
              0.7777777777777778,
              "#fb9f3a"
             ],
             [
              0.8888888888888888,
              "#fdca26"
             ],
             [
              1,
              "#f0f921"
             ]
            ],
            "type": "surface"
           }
          ],
          "table": [
           {
            "cells": {
             "fill": {
              "color": "#EBF0F8"
             },
             "line": {
              "color": "white"
             }
            },
            "header": {
             "fill": {
              "color": "#C8D4E3"
             },
             "line": {
              "color": "white"
             }
            },
            "type": "table"
           }
          ]
         },
         "layout": {
          "annotationdefaults": {
           "arrowcolor": "#2a3f5f",
           "arrowhead": 0,
           "arrowwidth": 1
          },
          "autotypenumbers": "strict",
          "coloraxis": {
           "colorbar": {
            "outlinewidth": 0,
            "ticks": ""
           }
          },
          "colorscale": {
           "diverging": [
            [
             0,
             "#8e0152"
            ],
            [
             0.1,
             "#c51b7d"
            ],
            [
             0.2,
             "#de77ae"
            ],
            [
             0.3,
             "#f1b6da"
            ],
            [
             0.4,
             "#fde0ef"
            ],
            [
             0.5,
             "#f7f7f7"
            ],
            [
             0.6,
             "#e6f5d0"
            ],
            [
             0.7,
             "#b8e186"
            ],
            [
             0.8,
             "#7fbc41"
            ],
            [
             0.9,
             "#4d9221"
            ],
            [
             1,
             "#276419"
            ]
           ],
           "sequential": [
            [
             0,
             "#0d0887"
            ],
            [
             0.1111111111111111,
             "#46039f"
            ],
            [
             0.2222222222222222,
             "#7201a8"
            ],
            [
             0.3333333333333333,
             "#9c179e"
            ],
            [
             0.4444444444444444,
             "#bd3786"
            ],
            [
             0.5555555555555556,
             "#d8576b"
            ],
            [
             0.6666666666666666,
             "#ed7953"
            ],
            [
             0.7777777777777778,
             "#fb9f3a"
            ],
            [
             0.8888888888888888,
             "#fdca26"
            ],
            [
             1,
             "#f0f921"
            ]
           ],
           "sequentialminus": [
            [
             0,
             "#0d0887"
            ],
            [
             0.1111111111111111,
             "#46039f"
            ],
            [
             0.2222222222222222,
             "#7201a8"
            ],
            [
             0.3333333333333333,
             "#9c179e"
            ],
            [
             0.4444444444444444,
             "#bd3786"
            ],
            [
             0.5555555555555556,
             "#d8576b"
            ],
            [
             0.6666666666666666,
             "#ed7953"
            ],
            [
             0.7777777777777778,
             "#fb9f3a"
            ],
            [
             0.8888888888888888,
             "#fdca26"
            ],
            [
             1,
             "#f0f921"
            ]
           ]
          },
          "colorway": [
           "#636efa",
           "#EF553B",
           "#00cc96",
           "#ab63fa",
           "#FFA15A",
           "#19d3f3",
           "#FF6692",
           "#B6E880",
           "#FF97FF",
           "#FECB52"
          ],
          "font": {
           "color": "#2a3f5f"
          },
          "geo": {
           "bgcolor": "white",
           "lakecolor": "white",
           "landcolor": "#E5ECF6",
           "showlakes": true,
           "showland": true,
           "subunitcolor": "white"
          },
          "hoverlabel": {
           "align": "left"
          },
          "hovermode": "closest",
          "mapbox": {
           "style": "light"
          },
          "paper_bgcolor": "white",
          "plot_bgcolor": "#E5ECF6",
          "polar": {
           "angularaxis": {
            "gridcolor": "white",
            "linecolor": "white",
            "ticks": ""
           },
           "bgcolor": "#E5ECF6",
           "radialaxis": {
            "gridcolor": "white",
            "linecolor": "white",
            "ticks": ""
           }
          },
          "scene": {
           "xaxis": {
            "backgroundcolor": "#E5ECF6",
            "gridcolor": "white",
            "gridwidth": 2,
            "linecolor": "white",
            "showbackground": true,
            "ticks": "",
            "zerolinecolor": "white"
           },
           "yaxis": {
            "backgroundcolor": "#E5ECF6",
            "gridcolor": "white",
            "gridwidth": 2,
            "linecolor": "white",
            "showbackground": true,
            "ticks": "",
            "zerolinecolor": "white"
           },
           "zaxis": {
            "backgroundcolor": "#E5ECF6",
            "gridcolor": "white",
            "gridwidth": 2,
            "linecolor": "white",
            "showbackground": true,
            "ticks": "",
            "zerolinecolor": "white"
           }
          },
          "shapedefaults": {
           "line": {
            "color": "#2a3f5f"
           }
          },
          "ternary": {
           "aaxis": {
            "gridcolor": "white",
            "linecolor": "white",
            "ticks": ""
           },
           "baxis": {
            "gridcolor": "white",
            "linecolor": "white",
            "ticks": ""
           },
           "bgcolor": "#E5ECF6",
           "caxis": {
            "gridcolor": "white",
            "linecolor": "white",
            "ticks": ""
           }
          },
          "title": {
           "x": 0.05
          },
          "xaxis": {
           "automargin": true,
           "gridcolor": "white",
           "linecolor": "white",
           "ticks": "",
           "title": {
            "standoff": 15
           },
           "zerolinecolor": "white",
           "zerolinewidth": 2
          },
          "yaxis": {
           "automargin": true,
           "gridcolor": "white",
           "linecolor": "white",
           "ticks": "",
           "title": {
            "standoff": 15
           },
           "zerolinecolor": "white",
           "zerolinewidth": 2
          }
         }
        },
        "title": {
         "x": 0.5
        },
        "width": 800,
        "xaxis": {
         "anchor": "y",
         "domain": [
          0,
          1
         ],
         "range": [
          "2015-01-01",
          "2025-01-01"
         ],
         "title": {
          "text": "Publication date"
         }
        },
        "yaxis": {
         "anchor": "x",
         "domain": [
          0,
          1
         ],
         "title": {
          "text": "Training compute (FLOP)"
         },
         "type": "log"
        }
       }
      }
     },
     "metadata": {},
     "output_type": "display_data"
    }
   ],
   "source": [
    "fig = px.scatter(\n",
    "    # access_df,\n",
    "    # access_df.loc[access_df['System'].isin(selected_systems)],\n",
    "    access_df_recent,\n",
    "    x='Publication date (float)',\n",
    "    y='Training compute (FLOP)',\n",
    "    color='Model open/closed',\n",
    "    hover_data=['System'],\n",
    "    log_y=True,\n",
    ")\n",
    "\n",
    "# Marker color\n",
    "# fig.update_traces(\n",
    "#     marker=dict(\n",
    "#         color='rgb(0,100,200)',\n",
    "#     ),\n",
    "#     selector=dict(mode='markers'),\n",
    "# )\n",
    "\n",
    "# Shade in CI\n",
    "fig.add_scatter(\n",
    "    x=predicted_open_df['Publication date (float)'],\n",
    "    y=10**predicted_open_df['mean_ci_lower'],\n",
    "    mode='lines',\n",
    "    line=dict(width=0),\n",
    "    showlegend=False,\n",
    ")\n",
    "fig.add_scatter(\n",
    "    x=predicted_open_df['Publication date (float)'],\n",
    "    y=10**predicted_open_df['mean_ci_upper'],\n",
    "    mode='lines',\n",
    "    fill='tonexty',\n",
    "    fillcolor='rgba(230,100,0,0.2)',\n",
    "    line=dict(width=0),\n",
    "    name='95% CI of mean',\n",
    ")\n",
    "fig.add_scatter(\n",
    "    x=predicted_open_df['Publication date (float)'],\n",
    "    y=10**predicted_open_df['mean'],\n",
    "    mode='lines',\n",
    "    line=dict(color='rgb(230,100,0)'),\n",
    "    name=f'Regression mean (growth rate: {10**open_reg_results.params[1]:.1f}x per year)',\n",
    ")\n",
    "\n",
    "fig.add_scatter(\n",
    "    x=predicted_closed_df['Publication date (float)'],\n",
    "    y=10**predicted_closed_df['mean_ci_lower'],\n",
    "    mode='lines',\n",
    "    line=dict(width=0),\n",
    "    showlegend=False,\n",
    ")\n",
    "fig.add_scatter(\n",
    "    x=predicted_closed_df['Publication date (float)'],\n",
    "    y=10**predicted_closed_df['mean_ci_upper'],\n",
    "    mode='lines',\n",
    "    fill='tonexty',\n",
    "    fillcolor='rgba(0,100,200,0.2)',\n",
    "    line=dict(width=0),\n",
    "    name='95% CI of mean',\n",
    ")\n",
    "fig.add_scatter(\n",
    "    x=predicted_closed_df['Publication date (float)'],\n",
    "    y=10**predicted_closed_df['mean'],\n",
    "    mode='lines',\n",
    "    line=dict(color='rgb(0,100,200)'),\n",
    "    name=f'Regression mean (growth rate: {10**closed_reg_results.params[1]:.1f}x per year)',\n",
    ")\n",
    "\n",
    "fig.update_traces(textposition='top center')\n",
    "\n",
    "# legend on top\n",
    "fig.update_layout(legend=dict(\n",
    "    orientation='h',\n",
    "    yanchor='top',\n",
    "    y=-0.15,\n",
    "    xanchor='center',\n",
    "    x=0.5,\n",
    "))\n",
    "\n",
    "# axis labels\n",
    "fig.update_xaxes(title_text='Publication date')\n",
    "\n",
    "# title\n",
    "\n",
    "# update size\n",
    "fig.update_layout(\n",
    "    autosize=False,\n",
    "    width=800,\n",
    "    height=600,\n",
    "    title_x=0.5,\n",
    ")\n",
    "\n",
    "# font size\n",
    "fig.update_layout(\n",
    "    font=dict(\n",
    "        size=14,\n",
    "    )\n",
    ")\n",
    "\n",
    "# axis limits\n",
    "fig.update_xaxes(range=[pred_start_date, pred_end_date])\n",
    "\n",
    "# margins\n",
    "fig.update_layout(margin=dict(l=10, r=10, t=40, b=10))\n",
    "\n",
    "save_plot(fig, results_dir, f'open_closed_regression {analysis_start_year}')\n",
    "\n",
    "fig.show()"
   ]
  }
 ],
 "metadata": {
  "kernelspec": {
   "display_name": "Python 3 (ipykernel)",
   "language": "python",
   "name": "python3"
  },
  "language_info": {
   "codemirror_mode": {
    "name": "ipython",
    "version": 3
   },
   "file_extension": ".py",
   "mimetype": "text/x-python",
   "name": "python",
   "nbconvert_exporter": "python",
   "pygments_lexer": "ipython3",
   "version": "3.12.3"
  }
 },
 "nbformat": 4,
 "nbformat_minor": 4
}
